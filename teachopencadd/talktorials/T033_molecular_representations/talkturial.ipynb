{
  "cells": [
    {
      "cell_type": "markdown",
      "metadata": {
        "id": "4IUaerZ4G9Ox"
      },
      "source": [
        "# T033 · Molecular representations\n",
        "\n",
        "**Note:** This talktorial is a part of TeachOpenCADD, a platform that aims to teach domain-specific skills and to provide pipeline templates as starting points for research projects.\n",
        "\n",
        "Authors:\n",
        "\n",
        "- [Gerrit Großmann](https://mosi.uni-saarland.de/people/gerrit/), 2022, Saarland University"
      ]
    },
    {
      "cell_type": "markdown",
      "metadata": {
        "id": "YSkj7U8pHJNi"
      },
      "source": [
        "__Talktorial T033__: This talktorial is part of the TeachOpenCADD pipeline described in the TeachOpenCADD publication (TODO), comprising of talktorials T033 to T038."
      ]
    },
    {
      "cell_type": "markdown",
      "metadata": {
        "id": "g8iOcdFAHqHM"
      },
      "source": [
        "## Aim of this talktorial\n",
        "\n",
        "In this talktorial, we conduct the groundwork for the deep learning talkturials.\n",
        "Specifically, we learn about molecular representations and find that representing a molecule in a computer is not a trivial task. Differnt representations come with their specific implications and (dis-)advantages."
      ]
    },
    {
      "cell_type": "markdown",
      "metadata": {
        "id": "Ez_APDQiIfHv"
      },
      "source": [
        "### Contents in Theory\n",
        "\n",
        "* What is a molecule?\n",
        "* Molecular representations\n",
        "* Molecule representations for humans\n",
        "* Computer-age molecular representations"
      ]
    },
    {
      "cell_type": "markdown",
      "metadata": {
        "id": "rx7K9Ca5JFdl"
      },
      "source": [
        "### Contents in Practical\n",
        "\n",
        "* Conformers\n",
        "* Molecular graphs\n",
        "* Fingerprints"
      ]
    },
    {
      "cell_type": "markdown",
      "metadata": {
        "id": "bn0kogZWJTTu"
      },
      "source": [
        "### References\n",
        "\n",
        "* Databases: \n",
        "  * [UniProt Protein Database](https://www.uniprot.org/)\n",
        "  * [AlphaFold\n",
        "Protein Structure Database](https://alphafold.ebi.ac.uk/)\n",
        "* Papers: \n",
        "  * [Molecular representations in AI-driven drug discovery: a review and practical guide](https://jcheminf.biomedcentral.com/articles/10.1186/s13321-020-00460-5#:~:text=Traditionally%2C%20molecules%20are%20represented%20as,of%20chemical%20structures%20in%20cheminformatics.)\n",
        "  * [A review of molecular representation in the age of machine learning](https://wires.onlinelibrary.wiley.com/doi/full/10.1002/wcms.1603)\n",
        "  * [Point-based molecular representation learning from conformers](https://openreview.net/pdf?id=pjePBJjlBby)\n",
        "* Talkturials: \n",
        "  * [T008 - Protein data acquisition: Protein Data Bank (PDB)](https://github.com/volkamerlab/teachopencadd/blob/master/teachopencadd/talktorials/T008_query_pdb/talktorial.ipynb)\n",
        "  * [T017 - Advanced NGLview usage](https://github.com/volkamerlab/teachopencadd/blob/master/teachopencadd/talktorials/T017_advanced_nglview_usage/talktorial.ipynb)\n",
        "  * Deep larning talkturials T033 to T038\n",
        "* [Tutorial on chirality](https://chem.libretexts.org/Bookshelves/Organic_Chemistry/Map%3A_Organic_Chemistry_(Vollhardt_and_Schore)/05._Stereoisomers/5.1%3A_Chiral__Molecules)"
      ]
    },
    {
      "cell_type": "markdown",
      "metadata": {
        "id": "AuEOSWySKoPc"
      },
      "source": [
        "## Theory"
      ]
    },
    {
      "cell_type": "markdown",
      "metadata": {
        "id": "Bv8FpLeZKx0a"
      },
      "source": [
        "### What is a molecule?"
      ]
    },
    {
      "cell_type": "markdown",
      "metadata": {
        "id": "umvwE4klLLtv"
      },
      "source": [
        "A molecule is a **group of atoms** that are bonded together.\n",
        "The number of atoms can range from only a few to several thousands (e.g., in proteins or carbohydrates) or even millions (e.g. in DNA molecules). \n",
        "\n",
        "The physical force that is most relevant for the formation of molecules from atoms is the **electrostatic force**, which is the force that governs the behavior of charged particles. When atoms interact, their electrons can be attracted to or repelled by the nucleus of the other atoms, leading to the formation of a **chemical bond**.\n",
        "\n",
        "The formation of molecules gives a group of atoms a characteristic structure and behavior. The property of a molecule emerges in a non-trivial way from (the interplay of) its constituent atoms. Molecules are the building block of living cells and play a key role in the structure and function of living organisms.\n",
        "\n",
        "In addition to the subdivision into small molecules and macromolecules, the distinction of organic and inorganic molecules is important. Organic molecules are the ones containing carbon-hydrogen or carbon-carbon bonds.\n",
        "This talkturial focuses and **small** and **organic** molecules. "
      ]
    },
    {
      "cell_type": "markdown",
      "metadata": {
        "id": "VkOazgstLg8S"
      },
      "source": [
        "<!--- \n",
        "![Coffein](https://upload.wikimedia.org/wikipedia/commons/thumb/c/cc/Caffeine_molecule_ball_from_xtal_%281%29.png/671px-Caffeine_molecule_ball_from_xtal_%281%29.png)\n",
        "--->\n",
        "\n",
        "![Coffein Molecule](/images/caffeine_molecule.png)\n",
        "\n",
        "*Figure 1*: \n",
        "The image is a representation of a caffeine molecule.\n",
        "Atoms are shown in gray (carbon), white (hydrogen), red (oxygen), and blue (nitrogen).\n",
        "An edge between two atoms indicates a covalent chemical bond with one (single line) or two (double line) shared atoms (triple bonds are also possible, but not present in caffeine).\n",
        "The dashed pentagon indicates a ring structure. Two electrons can move freely around in this ring and are not associated with a specific chemical bond within this ring."
      ]
    },
    {
      "cell_type": "markdown",
      "metadata": {
        "id": "eAZVgW2qL300"
      },
      "source": [
        "### Molecular representations"
      ]
    },
    {
      "cell_type": "markdown",
      "metadata": {
        "id": "WaP317kMMAJ5"
      },
      "source": [
        "If you want to get physically accurate, you have to look at molecules as **complex three-dimensional objects** that are dynamic rather than static and that exhibit quantum mechanical properties. Depending on the task you want to solve, a simplified view on molecules might be helpful. \n",
        "\n",
        "In order to apply machine learning to molecules, we need to find a way to \n",
        "find a proper **representation**. As it turns out, there are several possibilities, all with their own advantages and disadvantages. \n",
        "Choosing a representation of a molecule is tightly connected with the simplifications you are willing to make. They provide the recipe to translate a quantum-mechanical object to a mathematical description. \n",
        "But before we discuss computational representation of molecules, we first want to give a recap on pre-computer-age techniques to represent molecules."
      ]
    },
    {
      "cell_type": "markdown",
      "metadata": {
        "id": "OE1IDLYOMVZ-"
      },
      "source": [
        "### Molecule representations for humans"
      ]
    },
    {
      "cell_type": "markdown",
      "metadata": {
        "id": "4NTgJjKpO_Fp"
      },
      "source": [
        "Without being able to represent molecules, it is also impossible to discuss them and communicate with them. We start with representations and visualizations that are intuitive **for humans**. Later, we will also look at \"**computer-age**\" encodings, suitable as input for deep-learning systems. However, note that this classification is somewhat arbitrary. "
      ]
    },
    {
      "cell_type": "markdown",
      "metadata": {
        "id": "qKR4OB0ePcQ8"
      },
      "source": [
        "**Text-Based:**\n",
        "\n",
        "The easiest way to identify a molecule is its **trivial name**. For example, caffeine or aspirin. This is only possible for well-known molecules.\n",
        "\n",
        "Alternatively, the **IUPAC nomenclature of organic chemistry** can be used (there is also one for inorganic chemistry, which we will skip here). The goal is that each possible organic molecule is associated with a name that is easy to understand that unambiguously identifies the molecule. \n",
        "The clarity and consistency of this naming scheme makes it reasonably easy to understand and use. \n",
        "However, not all molecules can be named using these rules, for instance, some complex organic molecules, such as those that contain rings with multiple substructures.\n",
        "\n",
        "**Example:** The caffeine molecule has the IUPAC name: *1,3,7-trimethylpurine-2,6-dione* (TODO: actually WP is ambiguous there????)."
      ]
    },
    {
      "cell_type": "markdown",
      "metadata": {
        "id": "aZE73xRLPcV8"
      },
      "source": [
        "**Molecular formula:**\n",
        "\n",
        "The **molecular formula** (sometimes referred to as Hill formula) is arguably the easiest (and most simplified) way of representing a molecule: You simply count the number of atoms of each type. The ordering (from left to right) is arguably a little bit arbitrary: Carbon atoms are listed first, hydrogen atoms next, and all other atoms follow in alphabetical order.\n",
        "However, in the unlikely case that the formula does not contain carbon, all atoms (including hydrogen) are listed alphabetically. \n",
        "\n",
        "**Example:** For caffeine, the molecular formula is *C8H10N4O2*, indicating that here are 8 carbon (C) atoms, 10 hydrogen (H) atoms, 4 nitrogen (N) atoms, and 2 oxygen (O) atoms present.\n",
        "\n",
        "Naturally, this does not uniquely identify a molecule. \n",
        "\n",
        "**Example:** Molecules with the same molecular formula but with different structural formulas (see next section) are called isomers. Isomers are molecules that have the same number and type of atoms, but they are arranged differently in space, giving them different physical and chemical properties.\n",
        "One example are [n-butane](https://www.wolframalpha.com/input?i=butane) and [isobutane](https://www.wolframalpha.com/input?i=isobutane). Both have the molecular formula C4H10. \n",
        "The atoms in butane are arranged in a straight chain, while the atoms in isobutane are arranged in a branch structure. \n",
        "\n",
        "![N-butaneAndIsobutane](/images/butane_and_isobutane.png)\n",
        "\n",
        "*Figure 2*: \n",
        "N-butane and isobutane."
      ]
    },
    {
      "cell_type": "markdown",
      "metadata": {
        "id": "85vLHU-BPcYZ"
      },
      "source": [
        "**Visualizations of small molecules:**\n",
        "\n",
        "Visualizations are the easiest way to get a first impression of a molecule.\n",
        "In the first example, we have already seen a visualization of caffeine molecule. These types of visualizations are referred to as **Ball and Stick** models.\n",
        "They are easy to understand but difficult to draw.\n",
        "\n",
        "2D visualizations are easy to draw and come in many different flavors.\n",
        "\n",
        "A viable alternative is the **Lewis structure**. It contains no 3D information. Excess electrons that form lone pairs are shown as dots (we skip them here).\n",
        "\n",
        "Similarly, the **Skeletal formula** (or line-angle formula) removes hydrogen atoms that are next to  carbon atoms and draws carbon atoms only implicitly as bends and ends. \n",
        "\n",
        "For comparison, here are the tree visualization of the ethanol molecule (from [WP](https://en.wikipedia.org/wiki/Skeletal_formula)).\n",
        "\n",
        "<!---\n",
        "![SimpleMoleculeBallStick](https://upload.wikimedia.org/wikipedia/commons/thumb/c/ca/Ethanol-CRC-MW-trans-3D-balls.png/120px-Ethanol-CRC-MW-trans-3D-balls.png)\n",
        "![SimpleMoleculeLewis](https://upload.wikimedia.org/wikipedia/commons/thumb/e/e8/Ethanol-structure.svg/150px-Ethanol-structure.svg.png)\n",
        "![SimpleMoleculeLineAngle](https://upload.wikimedia.org/wikipedia/commons/thumb/8/82/Ethanol-2D-skeletal.svg/120px-Ethanol-2D-skeletal.svg.png)\n",
        "--->\n",
        "\n",
        "![Ethanol visualization](images/ethanol.png)\n",
        "\n",
        "*Figure 2*: \n",
        "Different visualizations of ethanol.\n",
        "\n",
        "\n",
        "A special feature of this is the **Natta Projection** that provides basic (but not in every case complete) information about the relative positions of the atoms in 3D. For instance, consider the kinase inhibitor from the [RDKit Cookbook](https://www.rdkit.org/docs/Cookbook.html):\n",
        "\n",
        "\n",
        "TODO: add image\n",
        "\n",
        "*   Solid wedges indicate a bond that point out of the plane.\n",
        "*   Dashed wedges indicate a bond that point into the plane (away from the observer)\n",
        "\n",
        "You can find the corresponding ball-and-stick plot [here](https://molview.org/?q=C1CC2=C3C(=CC=C2)C(=CN3C1)[C@H]4[C@@H](C(=O)NC4=O)C5=CNC6=CC=CC=C65).\n",
        "\n"
      ]
    },
    {
      "cell_type": "markdown",
      "metadata": {
        "id": "gjRb3EL_RjrF"
      },
      "source": [
        "**Representing proteins:**\n",
        "\n",
        "Proteins are large molecues that are composed of of building blocks called amino acids.\n",
        "There are 20 different amino acids. \n",
        "A protein is made up of one or more chains of amino acids.\n",
        "Each chain can be described as a string of characters. Therfore, we identfy each of the amino acids with a [single letter](https://en.wikipedia.org/wiki/Amino_acid#Table_of_standard_amino_acid_abbreviations_and_properties).\n",
        "\n",
        "The [Pro-thyrotropin-releasing hormone](https://www.uniprot.org/uniprotkb/P20396/entry#sequences) protein is one of the smalles proteins present in the human body. It is comprised of only 242 amino acids:\n",
        "\n",
        "```\n",
        "MPGPWLLLALALTLNLTGVPGGRAQPEAAQQEAVTAAEHPGLDDFLRQVERLLFLRENIQ\n",
        "RLQGDQGEHSASQIFQSDWLSKRQHPGKREEEEEEGVEEEEEEEGGAVGPHKRQHPGRRE\n",
        "DEASWSVDVTQHKRQHPGRRSPWLAYAVPKRQHPGRRLADPKAQRSWEEEEEEEEREEDL\n",
        "MPEKRQHPGKRALGGPCGPQGAYGQAGLLLGLLDDLSRSQGAEEKRQHPGRRAAWVREPL\n",
        "EE\n",
        "```\n",
        "\n",
        "However, the amino acid sequence does not contain 3D information, which is importortant for the function. You can predict it, using tools like Alphafold or simply look it up in the [Alphafold database](https://alphafold.ebi.ac.uk/entry/P20396).  \n",
        "\n",
        "\n",
        "TODO: write sth. about ambiguity. "
      ]
    },
    {
      "cell_type": "markdown",
      "metadata": {
        "id": "xCEJkEhsPcdf"
      },
      "source": [
        "**Visualizations of proteins:**\n",
        "\n",
        "We focus here on small molecules, but still want to point out that large molecules are typically visualized differently, most commonly by a [Ribbon diagram](https://en.wikipedia.org/wiki/Ribbon_diagram).\n",
        "The idea is to group common motifs together and represent them, for instance with curls (alpha-Helices) or arrows (beta-strands).\n",
        "\n",
        "<!---\n",
        "![TubbyProtein](https://upload.wikimedia.org/wikipedia/commons/f/ff/Tubby-1c8z-pymol.png)\n",
        "--->\n",
        "![TubbyProtein](images/ribbon_diagram_tubby.png)\n",
        "\n",
        "*Figure 3*: \n",
        "Ribbon diagram of the tubby protein.\n",
        "\n",
        "TODO: ref to talkturial"
      ]
    },
    {
      "cell_type": "markdown",
      "metadata": {
        "id": "_ueOdDdjSGK9"
      },
      "source": [
        "### Computer-age molecular representations"
      ]
    },
    {
      "cell_type": "markdown",
      "metadata": {
        "id": "o4SEA-6RSH1I"
      },
      "source": [
        "When we want to give a molecular description to a computer, we better make sure there is little ambiguity left.\n",
        "In machine learning, it  is still in an open research question when to use which representation. **Text**-based (or **linear**) and **graph**-based representations are becoming both very widely used. Moreover, **fingerprint** based methods are sometimes a viable alternative, especially for traditional machine learning methods. \n"
      ]
    },
    {
      "cell_type": "markdown",
      "metadata": {
        "id": "N0FsCL83SH3t"
      },
      "source": [
        "**Text-based representations:**\n",
        "\n",
        "Text-based representations use a sequence of characters to specify a molecule. This is possible for practically all (small) molecules relevant in practice. Here, we discuss SMILES, InChI, and SELFIES. For a deeper dive, we refer the reader to the SMILES talkturial. (TODO: link)\n",
        "\n",
        "\n",
        "\n",
        "**SMILES** (Simplified Molecular Input Line Entry Specification) is the most widely used text-based representation and can be handled by all common frameworks. When we specify a molecule in RDKit, we often used SMILES notation: \n",
        "\n",
        "`mol = Chem.MolFromSmiles(\"CN1C=NC2=C1C(=O)N(C(=O)N2C)C\") `\n",
        "\n",
        "SMILES uses a combination of letters, numbers, and symbols to represent the atoms and bonds in a molecule. The letters identify the elements, the symbols specify the connectivity/branching structure.\n",
        "\n",
        "SMILES can also represent the [chirality](https://en.wikipedia.org/wiki/Chirality_(chemistry)) of a molecule. This is possible by specifying the relative angle of a bond with respect to an atom. We will see an example in the practical part.\n",
        "\n",
        "The biggest problem with SMILES for molecule representation is that two (or more) different SMILES strings might refer to the same molecule. Researchers try to circumvent this by resorting to a **canonical SMILES** notation. However, the canonicalization depends on the canonicalization algorithms and is therefore not standardized. \n",
        "\n",
        "In the other direction, a single SMILES string typically identify no more than one molecule. However, when stereochemistry information is not given in the SMILES string, it leaves room for ambiguity (in some cases, it might not even be possible to remove all ambiguity with respect to different conformations). \n",
        "\n",
        "\n",
        "\n",
        "**InChI** (International Chemical Identifier) is a more modern and also widley-used alternative to SMILES. The key advantage is that it exhibits less chemical ambiguities and that a standard canonical exists. \n",
        "The downside is that is difficult for humans to read.\n",
        "In RDKit, we can use InChI similar so SMILES. \n",
        "However, it has not really overtaken the machine learning community.\n",
        "\n",
        "\n",
        "\n",
        "**SELFIES** (SELF-referencing embedded string) was introduced in 2020 especially for machine learning purposes. The advantage is that \"every combination of symbols in the Selfies alphabet maps to a chemically valid graph\" ([Source](https://www.sciencedirect.com/science/article/pii/S2666389922002069)). This is great for generative tasks where you want to generate molecules because it is impossible to generate invalid molecules.\n",
        "\n",
        "\n",
        "\n",
        "To **summarize**, we find that different methods to encode molecules as stings exists. Currently, SMILES is the most widely adopted methed and tools support it well, so it will probably be a good starting point. \n",
        "\n",
        "---\n"
      ]
    },
    {
      "cell_type": "markdown",
      "metadata": {
        "id": "WE_GZsYbSH6L"
      },
      "source": [
        "**Molecular graphs:**\n",
        "\n",
        "Representing molecules as graphs allows for a very intuitive and comprehensive representation of a molecule's structure. In a graph-based representation, atoms are represented as (labeled) nodes and bonds are represented as (labeled) edges.\n",
        "\n",
        "One possibility to specify a graph is with an adjacency matrix $A$.\n",
        "For directed graphs (which is the case for molecules), the adjacency matrix is symmetric. An entry $a_{ij}$ indicates the presence ($a_{ij} = 1$) ob absence ($a_{ij} = 0$) of an edge.\n",
        "\n",
        "One key property of graphs is that they rely on a **node-ordering**.\n",
        "The following to matrices identify graphs that are identical graphs, except regarding the node ordering. We call these graphs **isomorphic**.\n",
        "\n",
        "\n",
        "The fact that we need to pick a node-ordering to represent a molecule as a graph means that there are many graphs that represent the same molecule. \n",
        "This problem can be circumvented by restricting ourselves to so-called **permutation invariant functions**, as we learn in the next section.\n",
        "\n",
        "\n",
        "\n",
        "**Permutation invariance:** Assume you build a machine learning model that takes as input molecular graphs and outputs some prediction. It would be desirable that you model guarantees that isomorphic graphs (like *Graph 1* and *Graph 2*) generate the same output.\n",
        "We call neural networks (or function in general) that have these guarantees (node-)permutation invariant (or equivariant for node-level outputs).\n",
        "However, there is a trade-off. Functions that are permutation invariant are typically not universal. That is, they are not able to tell all graphs that are non-isomorphicapart. If both were given, permutation invariance and the ability to produce a different output for all non-isomorphic graphs, our neural network would solve the graph isomorphism problem that this computationally difficult. \n",
        "\n",
        "\n",
        "\n",
        "TODO: link to talkturial\n",
        "\n",
        "**Representational power:** Another problem is that graphs do not contain 3D information. For instance, the  two enantiomer of 2-Butanol we saw earlier, would map to the same molecular graph. One can circumvent this (to some degree) by adding 3D information to the node features. This is arguably somewhat ad-hoc and not well principled. \n",
        "It is arguably also unclear in which cases this is really necessary to improve the performance of a predictive model. \n",
        "On overview about the chirality is given in this [cheat sheet](https://twitter.com/nz_molecules/status/1527479318645211137/photo/1).\n",
        "\n",
        "\n",
        "**Practical considerations:** Building a molecular graph requires labeling of nodes and edges.\n",
        "Common frameworks support this.\n",
        "For machine learning, [PyTorch Geometric](https://pytorch-geometric.readthedocs.io/en/latest/) is the most popular framework to build permutation-invariant neural networks. \n",
        "We provide a talkturial at TODO.\n",
        "Converting a SMILES string or RDKit object to a PyTorch Geometric graph is not complicated but somewhat technical. One possible implementation is explained [here](https://www.blopig.com/blog/2022/02/how-to-turn-a-smiles-string-into-a-molecular-graph-for-pytorch-geometric/).\n",
        "Similarly, one can create a networkX graph as explained [here](https://gist.github.com/fangkuoyu/dc785218e5d4d94c752e80f1aaba4fad).\n",
        "\n",
        "\n",
        "\n",
        "\n",
        "As you see, molecular graph representations are not standardized and leave a lot of **design choices** to the user.\n",
        "These include:\n",
        "\n",
        "- What are the node features? Only the atom type, or also information on chirality? One can also include the information if the atom is part of a ring.\n",
        "- For the edge features: Do you only include the bond type (single, double, triple) or also the bond length? Do you use one-hot encodings or scalars?\n",
        "- Do you want to include hydrogen atoms that are bound to carbon atoms, or leave them out?\n",
        "- Do you want to add a mater node (a dummy atom connected to all other atoms)? I might help some ML algorithms.\n",
        "- Do you want to explicitly indicate some substructures in the molecular graph?\n",
        "\n",
        "\n",
        "---\n",
        "\n"
      ]
    },
    {
      "cell_type": "markdown",
      "metadata": {
        "id": "XIZCDE9JYkT8"
      },
      "source": [
        "**Point clouds:**\n",
        "\n",
        "We have already established that molecules are three-dimensional objects. So why not directly use a computational representation that captures the 3D information? The most straightforward way to do this is to annotate the nodes/atoms in a molecular graph with Euclidean 3D-coordinates $(x,y,z)$.  \n",
        "\n",
        "The spatial arrangement of atoms is called **molecular configuration**.\n",
        "\n",
        "Instead of equipping a graph with 3D-coordinates, one can also disregard the information on chemical bounds as [this paper](https://openreview.net/pdf?id=pjePBJjlBby) claims:\n",
        "> The covalent bonds between atoms do not need to be encoded explicitly because they are attributed by the overlap between the atomic orbitals, and can be inferred from the types and\n",
        "3D coordinates of respective atoms. In principle, the point-based representation captures the com-\n",
        "plete structural information about the molecule, and thus serves as the adequate input for molecular representation learning.\n",
        "\n",
        "\n",
        "**SE(3)-invariance:**: When equipping the atoms of a molecule with their (absolute) 3D position, we have a similar problem as with the node ordering in the previous section.\n",
        "Instead of \"*Which node ordering do we choose?*\" We now have to ask \"*How to we position the molecule in 3D to measure the atom positions?*\".\n",
        "As in the node-ordering case, it is difficult (if not impossible) to give a principled answer to this question.\n",
        "The solution is again to restrict ourselves to neural networks that are invariant with respect to translations (move the whole molecule in $x$, $y$, or $z$ direction) or rotations of the molecule.\n",
        "Neural networks (or functions in general) that can guarantee that the output is not affected by translations and rotations are called **SE(3)-invariant**.\n",
        "One example architecture can be found [here](https://proceedings.neurips.cc/paper/2020/file/15231a7ce4ba789d13b722cc5c955834-Paper.pdf).\n",
        "One possibility to design SE(3)-invariant neural networks is to consider only the distance between all pairs of atoms instead of their absolute position. This leads not only to SE(3)-invariance, but to a broader class called **E(3)-invariance**. The reason for that is that also reflections (mirror images) are guaranteed to produce the same output. For molecules this might be suboptimal because mirror molecules can exhibit different properties (see chirality). \n",
        "\n",
        "\n",
        "**Conformations:** When you want to add 3D coordinates to atoms, you first need to find them somehow. This is not straight-forward, and one can even train a machine learning model to predict this. \n",
        "\n",
        "One possibility is to determine the configuration (or molecular geometry) experimentally.\n",
        "For small molecules, [techniques](https://en.wikipedia.org/wiki/Molecular_geometry#Determination) like diffraction methods can be used.\n",
        "In the context of protein folding, predicting the 3D positions of the atoms is actually the main challenge. Experimentally, there are [different techniques](https://en.wikipedia.org/wiki/Protein_folding#Experimental_techniques_for_studying_protein_folding), like X-ray crystallography, available.  \n",
        "\n",
        "Alternatively, one can resort to computational methods.\n",
        "For instance, the famous dataset [QM9](https://moleculenet.org/datasets-1) provides 3D coordinates of each atom that were computed using [DFT](https://en.wikipedia.org/wiki/Density_functional_theory) (an approximation to the Schrödinger equation).\n",
        "\n",
        "However, another problem with the point-cloud-perspective on molecules is that there is not a single, fixed configuration for a molecule. Instead, molecules are dynamical objects that can wiggle around. In particular, different bonds might be rotational. \n",
        "\n",
        "\n",
        "![Conformer](images/conformer.png)\n",
        "\n",
        "*Figure 4*: \n",
        "Some conformers of a simple molecule ([Source paper](https://pubs.acs.org/doi/10.1021/acs.jcim.5b00654) via [Datamol tutorial](https://doc.datamol.io/stable/tutorials/Conformers.html)).\n",
        "\n",
        "Each specific conformer is associated with a conformation energy.\n",
        "The likelihood of a specific configuration depends on this energy (low-energy configurations are more likely than high-energy configurations). Specifically, we typically observe local minima. \n",
        "\n",
        "![Energy landscape](images/energy_landscape.jpeg)\n",
        "\n",
        "*Figure 5*: \n",
        "Energy landscape of the molecule 3-Methoxyphenol ([Source](https://chemistry-europe.onlinelibrary.wiley.com/doi/abs/10.1002/cphc.201800148)).\n",
        "\n",
        "\n",
        "\n",
        "\n",
        "---\n",
        "\n"
      ]
    },
    {
      "cell_type": "markdown",
      "metadata": {
        "id": "XRA2lGEkZODP"
      },
      "source": [
        "**Fingerprints:**\n",
        "\n",
        "Molecular fingerprints are based on the molecular graph.\n",
        "Typically, they are binary vectors that are relatively sparse (many 0s, very few 1s).\n",
        "\n",
        "The most commonly used fingerprint is [ECFP4](https://chemicbook.com/2021/03/25/a-beginners-guide-for-understanding-extended-connectivity-fingerprints.html).\n",
        "\n",
        "Fingerprints do not uniquely identity a molecule. Different molecules can have the same fingerprint.\n",
        "However, the same molecule has a unique fingerprint (there is no canonicalization problem). \n",
        "It is difficult (if not practically impossible) to recover the molecular graph, given the fingerprint. \n",
        "\n",
        "They are fast to compute and can be easily used for classical machine learning task because the architecture does not need to be invariant/equivariant to the node-ordering or to geometric operations.\n",
        "\n",
        "\n",
        "---\n",
        "\n",
        "\n",
        "\n",
        "\n"
      ]
    },
    {
      "cell_type": "markdown",
      "metadata": {
        "id": "jlngiTUcKpnb"
      },
      "source": [
        "## Practical"
      ]
    },
    {
      "cell_type": "markdown",
      "metadata": {
        "id": "_2IE6bn3xyNa"
      },
      "source": [
        "In this section, we study how RDKit handles different molecular representations and visualizations.\n",
        "We start with the caffeine molecule from *Figure 1*. We define the molecule based on a SMILES string and the find the visualization in line-angle formula. \n",
        "First, we import all libraries we use."
      ]
    },
    {
      "cell_type": "code",
      "execution_count": 45,
      "metadata": {
        "id": "W8uKK-US_0Tc"
      },
      "outputs": [],
      "source": [
        "import matplotlib.pyplot as plt\n",
        "import networkx as nx # for graphs\n",
        "import numpy as np    # for matrices\n",
        "#import nglview\n",
        "import nglview as nv  # for 3D visualizations\n",
        "\n",
        "from rdkit import Chem\n",
        "from rdkit.Chem.Draw import IPythonConsole\n",
        "from rdkit.Chem import Draw\n",
        "from rdkit.Chem import AllChem\n",
        "\n",
        "IPythonConsole.ipython_useSVG=True \n",
        "\n",
        "import datamol as dm  # for conformer generation TODO remove datamol and use only RDKit"
      ]
    },
    {
      "cell_type": "code",
      "execution_count": 46,
      "metadata": {
        "colab": {
          "base_uri": "https://localhost:8080/",
          "height": 171
        },
        "id": "EPAeW6hoKo1p",
        "outputId": "9bd68a17-b261-4124-9cde-a3b5b1595893"
      },
      "outputs": [
        {
          "data": {
            "image/png": "[encoded data removed]",
            "image/svg+xml": "<?xml version='1.0' encoding='iso-8859-1'?>\n<svg version='1.1' baseProfile='full'\n              xmlns='http://www.w3.org/2000/svg'\n                      xmlns:rdkit='http://www.rdkit.org/xml'\n                      xmlns:xlink='http://www.w3.org/1999/xlink'\n                  xml:space='preserve'\nwidth='450px' height='150px' viewBox='0 0 450 150'>\n<!-- END OF HEADER -->\n<rect style='opacity:1.0;fill:#FFFFFF;stroke:none' width='450.0' height='150.0' x='0.0' y='0.0'> </rect>\n<path class='bond-0 atom-0 atom-1' d='M 307.7,103.8 L 299.0,93.0' style='fill:none;fill-rule:evenodd;stroke:#000000;stroke-width:2.0px;stroke-linecap:butt;stroke-linejoin:miter;stroke-opacity:1' />\n<path class='bond-0 atom-0 atom-1' d='M 299.0,93.0 L 290.4,82.2' style='fill:none;fill-rule:evenodd;stroke:#0000FF;stroke-width:2.0px;stroke-linecap:butt;stroke-linejoin:miter;stroke-opacity:1' />\n<path class='bond-1 atom-1 atom-2' d='M 287.3,70.6 L 291.2,56.6' style='fill:none;fill-rule:evenodd;stroke:#0000FF;stroke-width:2.0px;stroke-linecap:butt;stroke-linejoin:miter;stroke-opacity:1' />\n<path class='bond-1 atom-1 atom-2' d='M 291.2,56.6 L 295.0,42.6' style='fill:none;fill-rule:evenodd;stroke:#000000;stroke-width:2.0px;stroke-linecap:butt;stroke-linejoin:miter;stroke-opacity:1' />\n<path class='bond-13 atom-5 atom-1' d='M 250.7,78.1 L 265.9,77.4' style='fill:none;fill-rule:evenodd;stroke:#000000;stroke-width:2.0px;stroke-linecap:butt;stroke-linejoin:miter;stroke-opacity:1' />\n<path class='bond-13 atom-5 atom-1' d='M 265.9,77.4 L 281.1,76.6' style='fill:none;fill-rule:evenodd;stroke:#0000FF;stroke-width:2.0px;stroke-linecap:butt;stroke-linejoin:miter;stroke-opacity:1' />\n<path class='bond-2 atom-2 atom-3' d='M 295.0,42.6 L 282.6,34.5' style='fill:none;fill-rule:evenodd;stroke:#000000;stroke-width:2.0px;stroke-linecap:butt;stroke-linejoin:miter;stroke-opacity:1' />\n<path class='bond-2 atom-2 atom-3' d='M 282.6,34.5 L 270.3,26.4' style='fill:none;fill-rule:evenodd;stroke:#0000FF;stroke-width:2.0px;stroke-linecap:butt;stroke-linejoin:miter;stroke-opacity:1' />\n<path class='bond-2 atom-2 atom-3' d='M 287.4,46.0 L 278.8,40.4' style='fill:none;fill-rule:evenodd;stroke:#000000;stroke-width:2.0px;stroke-linecap:butt;stroke-linejoin:miter;stroke-opacity:1' />\n<path class='bond-2 atom-2 atom-3' d='M 278.8,40.4 L 270.2,34.7' style='fill:none;fill-rule:evenodd;stroke:#0000FF;stroke-width:2.0px;stroke-linecap:butt;stroke-linejoin:miter;stroke-opacity:1' />\n<path class='bond-3 atom-3 atom-4' d='M 261.0,27.1 L 249.7,36.2' style='fill:none;fill-rule:evenodd;stroke:#0000FF;stroke-width:2.0px;stroke-linecap:butt;stroke-linejoin:miter;stroke-opacity:1' />\n<path class='bond-3 atom-3 atom-4' d='M 249.7,36.2 L 238.3,45.3' style='fill:none;fill-rule:evenodd;stroke:#000000;stroke-width:2.0px;stroke-linecap:butt;stroke-linejoin:miter;stroke-opacity:1' />\n<path class='bond-4 atom-4 atom-5' d='M 238.3,45.3 L 250.7,78.1' style='fill:none;fill-rule:evenodd;stroke:#000000;stroke-width:2.0px;stroke-linecap:butt;stroke-linejoin:miter;stroke-opacity:1' />\n<path class='bond-4 atom-4 atom-5' d='M 246.7,47.7 L 255.4,70.7' style='fill:none;fill-rule:evenodd;stroke:#000000;stroke-width:2.0px;stroke-linecap:butt;stroke-linejoin:miter;stroke-opacity:1' />\n<path class='bond-14 atom-11 atom-4' d='M 208.3,40.4 L 223.3,42.8' style='fill:none;fill-rule:evenodd;stroke:#0000FF;stroke-width:2.0px;stroke-linecap:butt;stroke-linejoin:miter;stroke-opacity:1' />\n<path class='bond-14 atom-11 atom-4' d='M 223.3,42.8 L 238.3,45.3' style='fill:none;fill-rule:evenodd;stroke:#000000;stroke-width:2.0px;stroke-linecap:butt;stroke-linejoin:miter;stroke-opacity:1' />\n<path class='bond-5 atom-5 atom-6' d='M 250.7,78.1 L 228.5,105.2' style='fill:none;fill-rule:evenodd;stroke:#000000;stroke-width:2.0px;stroke-linecap:butt;stroke-linejoin:miter;stroke-opacity:1' />\n<path class='bond-6 atom-6 atom-7' d='M 225.2,106.4 L 230.3,119.9' style='fill:none;fill-rule:evenodd;stroke:#000000;stroke-width:2.0px;stroke-linecap:butt;stroke-linejoin:miter;stroke-opacity:1' />\n<path class='bond-6 atom-6 atom-7' d='M 230.3,119.9 L 235.4,133.3' style='fill:none;fill-rule:evenodd;stroke:#FF0000;stroke-width:2.0px;stroke-linecap:butt;stroke-linejoin:miter;stroke-opacity:1' />\n<path class='bond-6 atom-6 atom-7' d='M 231.8,104.0 L 236.9,117.4' style='fill:none;fill-rule:evenodd;stroke:#000000;stroke-width:2.0px;stroke-linecap:butt;stroke-linejoin:miter;stroke-opacity:1' />\n<path class='bond-6 atom-6 atom-7' d='M 236.9,117.4 L 242.0,130.9' style='fill:none;fill-rule:evenodd;stroke:#FF0000;stroke-width:2.0px;stroke-linecap:butt;stroke-linejoin:miter;stroke-opacity:1' />\n<path class='bond-7 atom-6 atom-8' d='M 228.5,105.2 L 213.5,102.8' style='fill:none;fill-rule:evenodd;stroke:#000000;stroke-width:2.0px;stroke-linecap:butt;stroke-linejoin:miter;stroke-opacity:1' />\n<path class='bond-7 atom-6 atom-8' d='M 213.5,102.8 L 198.5,100.3' style='fill:none;fill-rule:evenodd;stroke:#0000FF;stroke-width:2.0px;stroke-linecap:butt;stroke-linejoin:miter;stroke-opacity:1' />\n<path class='bond-8 atom-8 atom-9' d='M 191.7,93.7 L 186.6,80.2' style='fill:none;fill-rule:evenodd;stroke:#0000FF;stroke-width:2.0px;stroke-linecap:butt;stroke-linejoin:miter;stroke-opacity:1' />\n<path class='bond-8 atom-8 atom-9' d='M 186.6,80.2 L 181.5,66.8' style='fill:none;fill-rule:evenodd;stroke:#000000;stroke-width:2.0px;stroke-linecap:butt;stroke-linejoin:miter;stroke-opacity:1' />\n<path class='bond-12 atom-8 atom-13' d='M 189.3,105.2 L 180.5,116.0' style='fill:none;fill-rule:evenodd;stroke:#0000FF;stroke-width:2.0px;stroke-linecap:butt;stroke-linejoin:miter;stroke-opacity:1' />\n<path class='bond-12 atom-8 atom-13' d='M 180.5,116.0 L 171.7,126.7' style='fill:none;fill-rule:evenodd;stroke:#000000;stroke-width:2.0px;stroke-linecap:butt;stroke-linejoin:miter;stroke-opacity:1' />\n<path class='bond-9 atom-9 atom-10' d='M 182.1,63.3 L 167.5,60.9' style='fill:none;fill-rule:evenodd;stroke:#000000;stroke-width:2.0px;stroke-linecap:butt;stroke-linejoin:miter;stroke-opacity:1' />\n<path class='bond-9 atom-9 atom-10' d='M 167.5,60.9 L 152.9,58.5' style='fill:none;fill-rule:evenodd;stroke:#FF0000;stroke-width:2.0px;stroke-linecap:butt;stroke-linejoin:miter;stroke-opacity:1' />\n<path class='bond-9 atom-9 atom-10' d='M 180.9,70.2 L 166.4,67.8' style='fill:none;fill-rule:evenodd;stroke:#000000;stroke-width:2.0px;stroke-linecap:butt;stroke-linejoin:miter;stroke-opacity:1' />\n<path class='bond-9 atom-9 atom-10' d='M 166.4,67.8 L 151.8,65.4' style='fill:none;fill-rule:evenodd;stroke:#FF0000;stroke-width:2.0px;stroke-linecap:butt;stroke-linejoin:miter;stroke-opacity:1' />\n<path class='bond-10 atom-9 atom-11' d='M 181.5,66.8 L 190.3,56.0' style='fill:none;fill-rule:evenodd;stroke:#000000;stroke-width:2.0px;stroke-linecap:butt;stroke-linejoin:miter;stroke-opacity:1' />\n<path class='bond-10 atom-9 atom-11' d='M 190.3,56.0 L 199.1,45.3' style='fill:none;fill-rule:evenodd;stroke:#0000FF;stroke-width:2.0px;stroke-linecap:butt;stroke-linejoin:miter;stroke-opacity:1' />\n<path class='bond-11 atom-11 atom-12' d='M 201.5,33.8 L 196.4,20.3' style='fill:none;fill-rule:evenodd;stroke:#0000FF;stroke-width:2.0px;stroke-linecap:butt;stroke-linejoin:miter;stroke-opacity:1' />\n<path class='bond-11 atom-11 atom-12' d='M 196.4,20.3 L 191.3,6.8' style='fill:none;fill-rule:evenodd;stroke:#000000;stroke-width:2.0px;stroke-linecap:butt;stroke-linejoin:miter;stroke-opacity:1' />\n<path  class='atom-1' d='M 283.5 71.4\nL 286.8 76.7\nQ 287.1 77.2, 287.6 78.2\nQ 288.2 79.1, 288.2 79.2\nL 288.2 71.4\nL 289.5 71.4\nL 289.5 81.4\nL 288.1 81.4\nL 284.6 75.6\nQ 284.2 75.0, 283.8 74.2\nQ 283.4 73.4, 283.3 73.2\nL 283.3 81.4\nL 282.0 81.4\nL 282.0 71.4\nL 283.5 71.4\n' fill='#0000FF'/>\n<path  class='atom-3' d='M 263.5 18.4\nL 266.7 23.6\nQ 267.0 24.2, 267.6 25.1\nQ 268.1 26.0, 268.1 26.1\nL 268.1 18.4\nL 269.4 18.4\nL 269.4 28.3\nL 268.1 28.3\nL 264.6 22.6\nQ 264.2 21.9, 263.7 21.1\nQ 263.3 20.3, 263.2 20.1\nL 263.2 28.3\nL 261.9 28.3\nL 261.9 18.4\nL 263.5 18.4\n' fill='#0000FF'/>\n<path  class='atom-7' d='M 236.3 138.0\nQ 236.3 135.7, 237.5 134.3\nQ 238.7 133.0, 240.9 133.0\nQ 243.1 133.0, 244.3 134.3\nQ 245.5 135.7, 245.5 138.0\nQ 245.5 140.4, 244.3 141.8\nQ 243.1 143.2, 240.9 143.2\nQ 238.7 143.2, 237.5 141.8\nQ 236.3 140.5, 236.3 138.0\nM 240.9 142.1\nQ 242.4 142.1, 243.2 141.0\nQ 244.1 140.0, 244.1 138.0\nQ 244.1 136.1, 243.2 135.1\nQ 242.4 134.1, 240.9 134.1\nQ 239.4 134.1, 238.6 135.1\nQ 237.7 136.1, 237.7 138.0\nQ 237.7 140.0, 238.6 141.0\nQ 239.4 142.1, 240.9 142.1\n' fill='#FF0000'/>\n<path  class='atom-8' d='M 191.7 94.6\nL 195.0 99.8\nQ 195.3 100.4, 195.8 101.3\nQ 196.3 102.2, 196.3 102.3\nL 196.3 94.6\nL 197.7 94.6\nL 197.7 104.5\nL 196.3 104.5\nL 192.8 98.8\nQ 192.4 98.1, 192.0 97.3\nQ 191.6 96.5, 191.4 96.3\nL 191.4 104.5\nL 190.1 104.5\nL 190.1 94.6\nL 191.7 94.6\n' fill='#0000FF'/>\n<path  class='atom-10' d='M 142.3 61.1\nQ 142.3 58.7, 143.5 57.4\nQ 144.7 56.1, 146.9 56.1\nQ 149.1 56.1, 150.3 57.4\nQ 151.5 58.7, 151.5 61.1\nQ 151.5 63.5, 150.3 64.9\nQ 149.1 66.3, 146.9 66.3\nQ 144.7 66.3, 143.5 64.9\nQ 142.3 63.5, 142.3 61.1\nM 146.9 65.1\nQ 148.4 65.1, 149.2 64.1\nQ 150.1 63.1, 150.1 61.1\nQ 150.1 59.2, 149.2 58.2\nQ 148.4 57.2, 146.9 57.2\nQ 145.4 57.2, 144.6 58.2\nQ 143.7 59.2, 143.7 61.1\nQ 143.7 63.1, 144.6 64.1\nQ 145.4 65.1, 146.9 65.1\n' fill='#FF0000'/>\n<path  class='atom-11' d='M 201.5 34.7\nL 204.8 39.9\nQ 205.1 40.4, 205.6 41.4\nQ 206.1 42.3, 206.2 42.4\nL 206.2 34.7\nL 207.5 34.7\nL 207.5 44.6\nL 206.1 44.6\nL 202.6 38.8\nQ 202.2 38.2, 201.8 37.4\nQ 201.4 36.6, 201.2 36.4\nL 201.2 44.6\nL 199.9 44.6\nL 199.9 34.7\nL 201.5 34.7\n' fill='#0000FF'/>\n</svg>\n",
            "text/html": [
              "<?xml version='1.0' encoding='iso-8859-1'?>\n",
              "<svg version='1.1' baseProfile='full'\n",
              "              xmlns='http://www.w3.org/2000/svg'\n",
              "                      xmlns:rdkit='http://www.rdkit.org/xml'\n",
              "                      xmlns:xlink='http://www.w3.org/1999/xlink'\n",
              "                  xml:space='preserve'\n",
              "width='450px' height='150px' viewBox='0 0 450 150'>\n",
              "<!-- END OF HEADER -->\n",
              "<rect style='opacity:1.0;fill:#FFFFFF;stroke:none' width='450.0' height='150.0' x='0.0' y='0.0'> </rect>\n",
              "<path class='bond-0 atom-0 atom-1' d='M 307.7,103.8 L 299.0,93.0' style='fill:none;fill-rule:evenodd;stroke:#000000;stroke-width:2.0px;stroke-linecap:butt;stroke-linejoin:miter;stroke-opacity:1' />\n",
              "<path class='bond-0 atom-0 atom-1' d='M 299.0,93.0 L 290.4,82.2' style='fill:none;fill-rule:evenodd;stroke:#0000FF;stroke-width:2.0px;stroke-linecap:butt;stroke-linejoin:miter;stroke-opacity:1' />\n",
              "<path class='bond-1 atom-1 atom-2' d='M 287.3,70.6 L 291.2,56.6' style='fill:none;fill-rule:evenodd;stroke:#0000FF;stroke-width:2.0px;stroke-linecap:butt;stroke-linejoin:miter;stroke-opacity:1' />\n",
              "<path class='bond-1 atom-1 atom-2' d='M 291.2,56.6 L 295.0,42.6' style='fill:none;fill-rule:evenodd;stroke:#000000;stroke-width:2.0px;stroke-linecap:butt;stroke-linejoin:miter;stroke-opacity:1' />\n",
              "<path class='bond-13 atom-5 atom-1' d='M 250.7,78.1 L 265.9,77.4' style='fill:none;fill-rule:evenodd;stroke:#000000;stroke-width:2.0px;stroke-linecap:butt;stroke-linejoin:miter;stroke-opacity:1' />\n",
              "<path class='bond-13 atom-5 atom-1' d='M 265.9,77.4 L 281.1,76.6' style='fill:none;fill-rule:evenodd;stroke:#0000FF;stroke-width:2.0px;stroke-linecap:butt;stroke-linejoin:miter;stroke-opacity:1' />\n",
              "<path class='bond-2 atom-2 atom-3' d='M 295.0,42.6 L 282.6,34.5' style='fill:none;fill-rule:evenodd;stroke:#000000;stroke-width:2.0px;stroke-linecap:butt;stroke-linejoin:miter;stroke-opacity:1' />\n",
              "<path class='bond-2 atom-2 atom-3' d='M 282.6,34.5 L 270.3,26.4' style='fill:none;fill-rule:evenodd;stroke:#0000FF;stroke-width:2.0px;stroke-linecap:butt;stroke-linejoin:miter;stroke-opacity:1' />\n",
              "<path class='bond-2 atom-2 atom-3' d='M 287.4,46.0 L 278.8,40.4' style='fill:none;fill-rule:evenodd;stroke:#000000;stroke-width:2.0px;stroke-linecap:butt;stroke-linejoin:miter;stroke-opacity:1' />\n",
              "<path class='bond-2 atom-2 atom-3' d='M 278.8,40.4 L 270.2,34.7' style='fill:none;fill-rule:evenodd;stroke:#0000FF;stroke-width:2.0px;stroke-linecap:butt;stroke-linejoin:miter;stroke-opacity:1' />\n",
              "<path class='bond-3 atom-3 atom-4' d='M 261.0,27.1 L 249.7,36.2' style='fill:none;fill-rule:evenodd;stroke:#0000FF;stroke-width:2.0px;stroke-linecap:butt;stroke-linejoin:miter;stroke-opacity:1' />\n",
              "<path class='bond-3 atom-3 atom-4' d='M 249.7,36.2 L 238.3,45.3' style='fill:none;fill-rule:evenodd;stroke:#000000;stroke-width:2.0px;stroke-linecap:butt;stroke-linejoin:miter;stroke-opacity:1' />\n",
              "<path class='bond-4 atom-4 atom-5' d='M 238.3,45.3 L 250.7,78.1' style='fill:none;fill-rule:evenodd;stroke:#000000;stroke-width:2.0px;stroke-linecap:butt;stroke-linejoin:miter;stroke-opacity:1' />\n",
              "<path class='bond-4 atom-4 atom-5' d='M 246.7,47.7 L 255.4,70.7' style='fill:none;fill-rule:evenodd;stroke:#000000;stroke-width:2.0px;stroke-linecap:butt;stroke-linejoin:miter;stroke-opacity:1' />\n",
              "<path class='bond-14 atom-11 atom-4' d='M 208.3,40.4 L 223.3,42.8' style='fill:none;fill-rule:evenodd;stroke:#0000FF;stroke-width:2.0px;stroke-linecap:butt;stroke-linejoin:miter;stroke-opacity:1' />\n",
              "<path class='bond-14 atom-11 atom-4' d='M 223.3,42.8 L 238.3,45.3' style='fill:none;fill-rule:evenodd;stroke:#000000;stroke-width:2.0px;stroke-linecap:butt;stroke-linejoin:miter;stroke-opacity:1' />\n",
              "<path class='bond-5 atom-5 atom-6' d='M 250.7,78.1 L 228.5,105.2' style='fill:none;fill-rule:evenodd;stroke:#000000;stroke-width:2.0px;stroke-linecap:butt;stroke-linejoin:miter;stroke-opacity:1' />\n",
              "<path class='bond-6 atom-6 atom-7' d='M 225.2,106.4 L 230.3,119.9' style='fill:none;fill-rule:evenodd;stroke:#000000;stroke-width:2.0px;stroke-linecap:butt;stroke-linejoin:miter;stroke-opacity:1' />\n",
              "<path class='bond-6 atom-6 atom-7' d='M 230.3,119.9 L 235.4,133.3' style='fill:none;fill-rule:evenodd;stroke:#FF0000;stroke-width:2.0px;stroke-linecap:butt;stroke-linejoin:miter;stroke-opacity:1' />\n",
              "<path class='bond-6 atom-6 atom-7' d='M 231.8,104.0 L 236.9,117.4' style='fill:none;fill-rule:evenodd;stroke:#000000;stroke-width:2.0px;stroke-linecap:butt;stroke-linejoin:miter;stroke-opacity:1' />\n",
              "<path class='bond-6 atom-6 atom-7' d='M 236.9,117.4 L 242.0,130.9' style='fill:none;fill-rule:evenodd;stroke:#FF0000;stroke-width:2.0px;stroke-linecap:butt;stroke-linejoin:miter;stroke-opacity:1' />\n",
              "<path class='bond-7 atom-6 atom-8' d='M 228.5,105.2 L 213.5,102.8' style='fill:none;fill-rule:evenodd;stroke:#000000;stroke-width:2.0px;stroke-linecap:butt;stroke-linejoin:miter;stroke-opacity:1' />\n",
              "<path class='bond-7 atom-6 atom-8' d='M 213.5,102.8 L 198.5,100.3' style='fill:none;fill-rule:evenodd;stroke:#0000FF;stroke-width:2.0px;stroke-linecap:butt;stroke-linejoin:miter;stroke-opacity:1' />\n",
              "<path class='bond-8 atom-8 atom-9' d='M 191.7,93.7 L 186.6,80.2' style='fill:none;fill-rule:evenodd;stroke:#0000FF;stroke-width:2.0px;stroke-linecap:butt;stroke-linejoin:miter;stroke-opacity:1' />\n",
              "<path class='bond-8 atom-8 atom-9' d='M 186.6,80.2 L 181.5,66.8' style='fill:none;fill-rule:evenodd;stroke:#000000;stroke-width:2.0px;stroke-linecap:butt;stroke-linejoin:miter;stroke-opacity:1' />\n",
              "<path class='bond-12 atom-8 atom-13' d='M 189.3,105.2 L 180.5,116.0' style='fill:none;fill-rule:evenodd;stroke:#0000FF;stroke-width:2.0px;stroke-linecap:butt;stroke-linejoin:miter;stroke-opacity:1' />\n",
              "<path class='bond-12 atom-8 atom-13' d='M 180.5,116.0 L 171.7,126.7' style='fill:none;fill-rule:evenodd;stroke:#000000;stroke-width:2.0px;stroke-linecap:butt;stroke-linejoin:miter;stroke-opacity:1' />\n",
              "<path class='bond-9 atom-9 atom-10' d='M 182.1,63.3 L 167.5,60.9' style='fill:none;fill-rule:evenodd;stroke:#000000;stroke-width:2.0px;stroke-linecap:butt;stroke-linejoin:miter;stroke-opacity:1' />\n",
              "<path class='bond-9 atom-9 atom-10' d='M 167.5,60.9 L 152.9,58.5' style='fill:none;fill-rule:evenodd;stroke:#FF0000;stroke-width:2.0px;stroke-linecap:butt;stroke-linejoin:miter;stroke-opacity:1' />\n",
              "<path class='bond-9 atom-9 atom-10' d='M 180.9,70.2 L 166.4,67.8' style='fill:none;fill-rule:evenodd;stroke:#000000;stroke-width:2.0px;stroke-linecap:butt;stroke-linejoin:miter;stroke-opacity:1' />\n",
              "<path class='bond-9 atom-9 atom-10' d='M 166.4,67.8 L 151.8,65.4' style='fill:none;fill-rule:evenodd;stroke:#FF0000;stroke-width:2.0px;stroke-linecap:butt;stroke-linejoin:miter;stroke-opacity:1' />\n",
              "<path class='bond-10 atom-9 atom-11' d='M 181.5,66.8 L 190.3,56.0' style='fill:none;fill-rule:evenodd;stroke:#000000;stroke-width:2.0px;stroke-linecap:butt;stroke-linejoin:miter;stroke-opacity:1' />\n",
              "<path class='bond-10 atom-9 atom-11' d='M 190.3,56.0 L 199.1,45.3' style='fill:none;fill-rule:evenodd;stroke:#0000FF;stroke-width:2.0px;stroke-linecap:butt;stroke-linejoin:miter;stroke-opacity:1' />\n",
              "<path class='bond-11 atom-11 atom-12' d='M 201.5,33.8 L 196.4,20.3' style='fill:none;fill-rule:evenodd;stroke:#0000FF;stroke-width:2.0px;stroke-linecap:butt;stroke-linejoin:miter;stroke-opacity:1' />\n",
              "<path class='bond-11 atom-11 atom-12' d='M 196.4,20.3 L 191.3,6.8' style='fill:none;fill-rule:evenodd;stroke:#000000;stroke-width:2.0px;stroke-linecap:butt;stroke-linejoin:miter;stroke-opacity:1' />\n",
              "<path  class='atom-1' d='M 283.5 71.4\n",
              "L 286.8 76.7\n",
              "Q 287.1 77.2, 287.6 78.2\n",
              "Q 288.2 79.1, 288.2 79.2\n",
              "L 288.2 71.4\n",
              "L 289.5 71.4\n",
              "L 289.5 81.4\n",
              "L 288.1 81.4\n",
              "L 284.6 75.6\n",
              "Q 284.2 75.0, 283.8 74.2\n",
              "Q 283.4 73.4, 283.3 73.2\n",
              "L 283.3 81.4\n",
              "L 282.0 81.4\n",
              "L 282.0 71.4\n",
              "L 283.5 71.4\n",
              "' fill='#0000FF'/>\n",
              "<path  class='atom-3' d='M 263.5 18.4\n",
              "L 266.7 23.6\n",
              "Q 267.0 24.2, 267.6 25.1\n",
              "Q 268.1 26.0, 268.1 26.1\n",
              "L 268.1 18.4\n",
              "L 269.4 18.4\n",
              "L 269.4 28.3\n",
              "L 268.1 28.3\n",
              "L 264.6 22.6\n",
              "Q 264.2 21.9, 263.7 21.1\n",
              "Q 263.3 20.3, 263.2 20.1\n",
              "L 263.2 28.3\n",
              "L 261.9 28.3\n",
              "L 261.9 18.4\n",
              "L 263.5 18.4\n",
              "' fill='#0000FF'/>\n",
              "<path  class='atom-7' d='M 236.3 138.0\n",
              "Q 236.3 135.7, 237.5 134.3\n",
              "Q 238.7 133.0, 240.9 133.0\n",
              "Q 243.1 133.0, 244.3 134.3\n",
              "Q 245.5 135.7, 245.5 138.0\n",
              "Q 245.5 140.4, 244.3 141.8\n",
              "Q 243.1 143.2, 240.9 143.2\n",
              "Q 238.7 143.2, 237.5 141.8\n",
              "Q 236.3 140.5, 236.3 138.0\n",
              "M 240.9 142.1\n",
              "Q 242.4 142.1, 243.2 141.0\n",
              "Q 244.1 140.0, 244.1 138.0\n",
              "Q 244.1 136.1, 243.2 135.1\n",
              "Q 242.4 134.1, 240.9 134.1\n",
              "Q 239.4 134.1, 238.6 135.1\n",
              "Q 237.7 136.1, 237.7 138.0\n",
              "Q 237.7 140.0, 238.6 141.0\n",
              "Q 239.4 142.1, 240.9 142.1\n",
              "' fill='#FF0000'/>\n",
              "<path  class='atom-8' d='M 191.7 94.6\n",
              "L 195.0 99.8\n",
              "Q 195.3 100.4, 195.8 101.3\n",
              "Q 196.3 102.2, 196.3 102.3\n",
              "L 196.3 94.6\n",
              "L 197.7 94.6\n",
              "L 197.7 104.5\n",
              "L 196.3 104.5\n",
              "L 192.8 98.8\n",
              "Q 192.4 98.1, 192.0 97.3\n",
              "Q 191.6 96.5, 191.4 96.3\n",
              "L 191.4 104.5\n",
              "L 190.1 104.5\n",
              "L 190.1 94.6\n",
              "L 191.7 94.6\n",
              "' fill='#0000FF'/>\n",
              "<path  class='atom-10' d='M 142.3 61.1\n",
              "Q 142.3 58.7, 143.5 57.4\n",
              "Q 144.7 56.1, 146.9 56.1\n",
              "Q 149.1 56.1, 150.3 57.4\n",
              "Q 151.5 58.7, 151.5 61.1\n",
              "Q 151.5 63.5, 150.3 64.9\n",
              "Q 149.1 66.3, 146.9 66.3\n",
              "Q 144.7 66.3, 143.5 64.9\n",
              "Q 142.3 63.5, 142.3 61.1\n",
              "M 146.9 65.1\n",
              "Q 148.4 65.1, 149.2 64.1\n",
              "Q 150.1 63.1, 150.1 61.1\n",
              "Q 150.1 59.2, 149.2 58.2\n",
              "Q 148.4 57.2, 146.9 57.2\n",
              "Q 145.4 57.2, 144.6 58.2\n",
              "Q 143.7 59.2, 143.7 61.1\n",
              "Q 143.7 63.1, 144.6 64.1\n",
              "Q 145.4 65.1, 146.9 65.1\n",
              "' fill='#FF0000'/>\n",
              "<path  class='atom-11' d='M 201.5 34.7\n",
              "L 204.8 39.9\n",
              "Q 205.1 40.4, 205.6 41.4\n",
              "Q 206.1 42.3, 206.2 42.4\n",
              "L 206.2 34.7\n",
              "L 207.5 34.7\n",
              "L 207.5 44.6\n",
              "L 206.1 44.6\n",
              "L 202.6 38.8\n",
              "Q 202.2 38.2, 201.8 37.4\n",
              "Q 201.4 36.6, 201.2 36.4\n",
              "L 201.2 44.6\n",
              "L 199.9 44.6\n",
              "L 199.9 34.7\n",
              "L 201.5 34.7\n",
              "' fill='#0000FF'/>\n",
              "</svg>\n"
            ],
            "text/plain": [
              "<rdkit.Chem.rdchem.Mol at 0x7f6010dcffa0>"
            ]
          },
          "execution_count": 46,
          "metadata": {},
          "output_type": "execute_result"
        }
      ],
      "source": [
        "# Here we define a coffeine molecule using Smiles.\n",
        "mol_coffeine = Chem.MolFromSmiles(\"CN1C=NC2=C1C(=O)N(C(=O)N2C)C\") \n",
        "mol_coffeine"
      ]
    },
    {
      "cell_type": "markdown",
      "metadata": {
        "id": "EQHD5bdF5a68"
      },
      "source": [
        "Let us now take chirality into consideration.\n",
        "For instance, consider [2-Butanol](https://en.wikipedia.org/wiki/2-Butanol).\n",
        "The molecule has two configurations that are mirror images of each other (also called **enantiomer**). For more information and a 3D visualization, we refer to [this tutorial](https://chem.libretexts.org/Bookshelves/Organic_Chemistry/Map%3A_Organic_Chemistry_(Vollhardt_and_Schore)/05._Stereoisomers/5.1%3A_Chiral__Molecules)."
      ]
    },
    {
      "cell_type": "code",
      "execution_count": 47,
      "metadata": {
        "colab": {
          "base_uri": "https://localhost:8080/",
          "height": 221
        },
        "id": "rvqZNsOJ5fot",
        "outputId": "9b0a145d-62ed-4baa-f10b-fe040aba0003"
      },
      "outputs": [
        {
          "data": {
            "image/svg+xml": "<svg xmlns=\"http://www.w3.org/2000/svg\" xmlns:rdkit=\"http://www.rdkit.org/xml\" xmlns:xlink=\"http://www.w3.org/1999/xlink\" version=\"1.1\" baseProfile=\"full\" xml:space=\"preserve\" width=\"600px\" height=\"200px\" viewBox=\"0 0 600 200\">\n<!-- END OF HEADER -->\n<rect style=\"opacity:1.0;fill:#FFFFFF;stroke:none\" width=\"600.0\" height=\"200.0\" x=\"0.0\" y=\"0.0\"> </rect>\n<rect style=\"opacity:1.0;fill:#FFFFFF;stroke:none\" width=\"600.0\" height=\"200.0\" x=\"0.0\" y=\"0.0\"> </rect>\n<rect style=\"opacity:1.0;fill:#FFFFFF;stroke:none\" width=\"600.0\" height=\"200.0\" x=\"0.0\" y=\"0.0\"> </rect>\n<rect style=\"opacity:1.0;fill:#FFFFFF;stroke:none\" width=\"600.0\" height=\"200.0\" x=\"0.0\" y=\"0.0\"> </rect>\n<path class=\"bond-0 atom-0 atom-1\" d=\"M 9.1,77.3 L 69.7,42.3\" style=\"fill:none;fill-rule:evenodd;stroke:#000000;stroke-width:2.0px;stroke-linecap:butt;stroke-linejoin:miter;stroke-opacity:1\"/>\n<path class=\"bond-1 atom-1 atom-2\" d=\"M 69.7,42.3 L 130.3,77.3\" style=\"fill:none;fill-rule:evenodd;stroke:#000000;stroke-width:2.0px;stroke-linecap:butt;stroke-linejoin:miter;stroke-opacity:1\"/>\n<path class=\"bond-2 atom-2 atom-3\" d=\"M 130.3,77.3 L 190.9,42.3\" style=\"fill:none;fill-rule:evenodd;stroke:#000000;stroke-width:2.0px;stroke-linecap:butt;stroke-linejoin:miter;stroke-opacity:1\"/>\n<path class=\"bond-3 atom-2 atom-4\" d=\"M 130.3,77.3 L 130.3,106.4\" style=\"fill:none;fill-rule:evenodd;stroke:#000000;stroke-width:2.0px;stroke-linecap:butt;stroke-linejoin:miter;stroke-opacity:1\"/>\n<path class=\"bond-3 atom-2 atom-4\" d=\"M 130.3,106.4 L 130.3,135.6\" style=\"fill:none;fill-rule:evenodd;stroke:#FF0000;stroke-width:2.0px;stroke-linecap:butt;stroke-linejoin:miter;stroke-opacity:1\"/>\n<path class=\"atom-4\" d=\"M 121.2 147.4 Q 121.2 142.6, 123.6 140.0 Q 125.9 137.3, 130.3 137.3 Q 134.7 137.3, 137.0 140.0 Q 139.4 142.6, 139.4 147.4 Q 139.4 152.2, 137.0 154.9 Q 134.6 157.7, 130.3 157.7 Q 125.9 157.7, 123.6 154.9 Q 121.2 152.2, 121.2 147.4 M 130.3 155.4 Q 133.3 155.4, 134.9 153.4 Q 136.6 151.4, 136.6 147.4 Q 136.6 143.5, 134.9 141.5 Q 133.3 139.5, 130.3 139.5 Q 127.3 139.5, 125.6 141.5 Q 124.0 143.5, 124.0 147.4 Q 124.0 151.4, 125.6 153.4 Q 127.3 155.4, 130.3 155.4 \" fill=\"#FF0000\"/>\n<path class=\"atom-4\" d=\"M 141.8 137.5 L 144.5 137.5 L 144.5 146.0 L 154.6 146.0 L 154.6 137.5 L 157.3 137.5 L 157.3 157.3 L 154.6 157.3 L 154.6 148.2 L 144.5 148.2 L 144.5 157.3 L 141.8 157.3 L 141.8 137.5 \" fill=\"#FF0000\"/>\n<path class=\"bond-0 atom-0 atom-1\" d=\"M 209.1,77.3 L 269.7,42.3\" style=\"fill:none;fill-rule:evenodd;stroke:#000000;stroke-width:2.0px;stroke-linecap:butt;stroke-linejoin:miter;stroke-opacity:1\"/>\n<path class=\"bond-1 atom-1 atom-2\" d=\"M 269.7,42.3 L 330.3,77.3\" style=\"fill:none;fill-rule:evenodd;stroke:#000000;stroke-width:2.0px;stroke-linecap:butt;stroke-linejoin:miter;stroke-opacity:1\"/>\n<path class=\"bond-2 atom-2 atom-3\" d=\"M 340.8,72.1 L 340.1,70.9\" style=\"fill:none;fill-rule:evenodd;stroke:#000000;stroke-width:1.0px;stroke-linecap:butt;stroke-linejoin:miter;stroke-opacity:1\"/>\n<path class=\"bond-2 atom-2 atom-3\" d=\"M 351.2,66.9 L 349.8,64.5\" style=\"fill:none;fill-rule:evenodd;stroke:#000000;stroke-width:1.0px;stroke-linecap:butt;stroke-linejoin:miter;stroke-opacity:1\"/>\n<path class=\"bond-2 atom-2 atom-3\" d=\"M 361.7,61.7 L 359.6,58.0\" style=\"fill:none;fill-rule:evenodd;stroke:#000000;stroke-width:1.0px;stroke-linecap:butt;stroke-linejoin:miter;stroke-opacity:1\"/>\n<path class=\"bond-2 atom-2 atom-3\" d=\"M 372.1,56.4 L 369.3,51.6\" style=\"fill:none;fill-rule:evenodd;stroke:#000000;stroke-width:1.0px;stroke-linecap:butt;stroke-linejoin:miter;stroke-opacity:1\"/>\n<path class=\"bond-2 atom-2 atom-3\" d=\"M 382.6,51.2 L 379.1,45.2\" style=\"fill:none;fill-rule:evenodd;stroke:#000000;stroke-width:1.0px;stroke-linecap:butt;stroke-linejoin:miter;stroke-opacity:1\"/>\n<path class=\"bond-2 atom-2 atom-3\" d=\"M 393.0,46.0 L 388.8,38.7\" style=\"fill:none;fill-rule:evenodd;stroke:#000000;stroke-width:1.0px;stroke-linecap:butt;stroke-linejoin:miter;stroke-opacity:1\"/>\n<path class=\"bond-3 atom-2 atom-4\" d=\"M 330.3,77.3 L 330.3,106.4\" style=\"fill:none;fill-rule:evenodd;stroke:#000000;stroke-width:2.0px;stroke-linecap:butt;stroke-linejoin:miter;stroke-opacity:1\"/>\n<path class=\"bond-3 atom-2 atom-4\" d=\"M 330.3,106.4 L 330.3,135.6\" style=\"fill:none;fill-rule:evenodd;stroke:#FF0000;stroke-width:2.0px;stroke-linecap:butt;stroke-linejoin:miter;stroke-opacity:1\"/>\n<path class=\"atom-4\" d=\"M 321.2 147.4 Q 321.2 142.6, 323.6 140.0 Q 325.9 137.3, 330.3 137.3 Q 334.7 137.3, 337.0 140.0 Q 339.4 142.6, 339.4 147.4 Q 339.4 152.2, 337.0 154.9 Q 334.6 157.7, 330.3 157.7 Q 325.9 157.7, 323.6 154.9 Q 321.2 152.2, 321.2 147.4 M 330.3 155.4 Q 333.3 155.4, 334.9 153.4 Q 336.6 151.4, 336.6 147.4 Q 336.6 143.5, 334.9 141.5 Q 333.3 139.5, 330.3 139.5 Q 327.3 139.5, 325.6 141.5 Q 324.0 143.5, 324.0 147.4 Q 324.0 151.4, 325.6 153.4 Q 327.3 155.4, 330.3 155.4 \" fill=\"#FF0000\"/>\n<path class=\"atom-4\" d=\"M 341.8 137.5 L 344.5 137.5 L 344.5 146.0 L 354.6 146.0 L 354.6 137.5 L 357.3 137.5 L 357.3 157.3 L 354.6 157.3 L 354.6 148.2 L 344.5 148.2 L 344.5 157.3 L 341.8 157.3 L 341.8 137.5 \" fill=\"#FF0000\"/>\n<path class=\"bond-0 atom-0 atom-1\" d=\"M 409.1,77.3 L 469.7,42.3\" style=\"fill:none;fill-rule:evenodd;stroke:#000000;stroke-width:2.0px;stroke-linecap:butt;stroke-linejoin:miter;stroke-opacity:1\"/>\n<path class=\"bond-1 atom-1 atom-2\" d=\"M 469.7,42.3 L 530.3,77.3\" style=\"fill:none;fill-rule:evenodd;stroke:#000000;stroke-width:2.0px;stroke-linecap:butt;stroke-linejoin:miter;stroke-opacity:1\"/>\n<path class=\"bond-2 atom-2 atom-3\" d=\"M 530.3,77.3 L 593.0,46.0 L 588.8,38.7 Z\" style=\"fill:#000000;fill-rule:evenodd;fill-opacity:1;stroke:#000000;stroke-width:2.0px;stroke-linecap:butt;stroke-linejoin:miter;stroke-opacity:1;\"/>\n<path class=\"bond-3 atom-2 atom-4\" d=\"M 530.3,77.3 L 530.3,106.4\" style=\"fill:none;fill-rule:evenodd;stroke:#000000;stroke-width:2.0px;stroke-linecap:butt;stroke-linejoin:miter;stroke-opacity:1\"/>\n<path class=\"bond-3 atom-2 atom-4\" d=\"M 530.3,106.4 L 530.3,135.6\" style=\"fill:none;fill-rule:evenodd;stroke:#FF0000;stroke-width:2.0px;stroke-linecap:butt;stroke-linejoin:miter;stroke-opacity:1\"/>\n<path class=\"atom-4\" d=\"M 521.2 147.4 Q 521.2 142.6, 523.6 140.0 Q 525.9 137.3, 530.3 137.3 Q 534.7 137.3, 537.0 140.0 Q 539.4 142.6, 539.4 147.4 Q 539.4 152.2, 537.0 154.9 Q 534.6 157.7, 530.3 157.7 Q 525.9 157.7, 523.6 154.9 Q 521.2 152.2, 521.2 147.4 M 530.3 155.4 Q 533.3 155.4, 534.9 153.4 Q 536.6 151.4, 536.6 147.4 Q 536.6 143.5, 534.9 141.5 Q 533.3 139.5, 530.3 139.5 Q 527.3 139.5, 525.6 141.5 Q 524.0 143.5, 524.0 147.4 Q 524.0 151.4, 525.6 153.4 Q 527.3 155.4, 530.3 155.4 \" fill=\"#FF0000\"/>\n<path class=\"atom-4\" d=\"M 541.8 137.5 L 544.5 137.5 L 544.5 146.0 L 554.6 146.0 L 554.6 137.5 L 557.3 137.5 L 557.3 157.3 L 554.6 157.3 L 554.6 148.2 L 544.5 148.2 L 544.5 157.3 L 541.8 157.3 L 541.8 137.5 \" fill=\"#FF0000\"/>\n</svg>",
            "text/plain": [
              "<IPython.core.display.SVG object>"
            ]
          },
          "execution_count": 47,
          "metadata": {},
          "output_type": "execute_result"
        }
      ],
      "source": [
        "mol1 = Chem.MolFromSmiles(\"CC[CH](C)O\")  # without chiral information\n",
        "mol2 = Chem.MolFromSmiles(\"CC[C@H](C)O\") # enantiomer 1\n",
        "mol3 = Chem.MolFromSmiles(\"CC[C@@H](C)O\") # enantiomer 2\n",
        "\n",
        "Draw.MolsToGridImage([mol1, mol2, mol3], molsPerRow=3, subImgSize=(200, 200))\n"
      ]
    },
    {
      "cell_type": "markdown",
      "metadata": {
        "id": "AWII15ft83YJ"
      },
      "source": [
        "NGLViewer allows us to see a ball-and-stick visualization (example taken from [this](http://nglviewer.org/nglview/release/v0.6.1/api.html) tutorial)."
      ]
    },
    {
      "cell_type": "code",
      "execution_count": 16,
      "metadata": {
        "colab": {
          "base_uri": "https://localhost:8080/",
          "height": 17,
          "referenced_widgets": [
            "9d01434780bb45f792aaf91fac4deec5",
            "8e69ff6fdaa246ec825abbb4686f1840",
            "bd51e0e506fd4b95a54469a380f04af5",
            "b74f4520044d4e6097a9b3d0a4928607",
            "0d6c757d3aee4f198c31bc2fda0f1c9a",
            "adaa4fd0227a4771a0dd6aa16735fdc7",
            "644e42602bb24388884fdf7ae60d9abc"
          ]
        },
        "id": "gahUyxum8nmK",
        "outputId": "686b8964-63b0-49d4-9999-b6c33982028c"
      },
      "outputs": [
        {
          "data": {
            "application/vnd.jupyter.widget-view+json": {
              "model_id": "9d01434780bb45f792aaf91fac4deec5",
              "version_major": 2,
              "version_minor": 0
            },
            "text/plain": [
              "NGLWidget()"
            ]
          },
          "metadata": {},
          "output_type": "display_data"
        }
      ],
      "source": [
        "m = Chem.AddHs(Chem.MolFromSmiles('CC[C@@H](C)O')) # TODO replace with caffeine\n",
        "AllChem.EmbedMultipleConfs(m, useExpTorsionAnglePrefs=True, useBasicKnowledge=True)\n",
        "view = nv.show_rdkit(m)\n",
        "view"
      ]
    },
    {
      "cell_type": "code",
      "execution_count": 41,
      "metadata": {
        "colab": {
          "base_uri": "https://localhost:8080/",
          "height": 171
        },
        "id": "cBjQSqIZ980N",
        "outputId": "b73b3426-1bac-4220-907e-efb91d67eda1"
      },
      "outputs": [
        {
          "data": {
            "image/png": "[encoded data removed]",
            "image/svg+xml": "<?xml version='1.0' encoding='iso-8859-1'?>\n<svg version='1.1' baseProfile='full'\n              xmlns='http://www.w3.org/2000/svg'\n                      xmlns:rdkit='http://www.rdkit.org/xml'\n                      xmlns:xlink='http://www.w3.org/1999/xlink'\n                  xml:space='preserve'\nwidth='450px' height='150px' viewBox='0 0 450 150'>\n<!-- END OF HEADER -->\n<rect style='opacity:1.0;fill:#FFFFFF;stroke:none' width='450.0' height='150.0' x='0.0' y='0.0'> </rect>\n<path class='bond-0 atom-0 atom-1' d='M 172.8,54.1 L 181.0,62.2' style='fill:none;fill-rule:evenodd;stroke:#000000;stroke-width:2.0px;stroke-linecap:butt;stroke-linejoin:miter;stroke-opacity:1' />\n<path class='bond-0 atom-0 atom-1' d='M 181.0,62.2 L 189.1,70.2' style='fill:none;fill-rule:evenodd;stroke:#0000FF;stroke-width:2.0px;stroke-linecap:butt;stroke-linejoin:miter;stroke-opacity:1' />\n<path class='bond-15 atom-0 atom-14' d='M 172.8,54.1 L 157.0,61.4' style='fill:none;fill-rule:evenodd;stroke:#000000;stroke-width:2.0px;stroke-linecap:butt;stroke-linejoin:miter;stroke-opacity:1' />\n<path class='bond-16 atom-0 atom-15' d='M 172.8,54.1 L 173.5,46.6' style='fill:none;fill-rule:evenodd;stroke:#000000;stroke-width:2.0px;stroke-linecap:butt;stroke-linejoin:miter;stroke-opacity:1' />\n<path class='bond-17 atom-0 atom-16' d='M 172.8,54.1 L 174.6,45.9' style='fill:none;fill-rule:evenodd;stroke:#000000;stroke-width:2.0px;stroke-linecap:butt;stroke-linejoin:miter;stroke-opacity:1' />\n<path class='bond-1 atom-1 atom-2' d='M 192.3,78.8 L 190.9,89.5' style='fill:none;fill-rule:evenodd;stroke:#0000FF;stroke-width:2.0px;stroke-linecap:butt;stroke-linejoin:miter;stroke-opacity:1' />\n<path class='bond-1 atom-1 atom-2' d='M 190.9,89.5 L 189.5,100.2' style='fill:none;fill-rule:evenodd;stroke:#000000;stroke-width:2.0px;stroke-linecap:butt;stroke-linejoin:miter;stroke-opacity:1' />\n<path class='bond-13 atom-5 atom-1' d='M 218.9,71.0 L 207.8,72.3' style='fill:none;fill-rule:evenodd;stroke:#000000;stroke-width:2.0px;stroke-linecap:butt;stroke-linejoin:miter;stroke-opacity:1' />\n<path class='bond-13 atom-5 atom-1' d='M 207.8,72.3 L 196.8,73.6' style='fill:none;fill-rule:evenodd;stroke:#0000FF;stroke-width:2.0px;stroke-linecap:butt;stroke-linejoin:miter;stroke-opacity:1' />\n<path class='bond-2 atom-2 atom-3' d='M 189.5,100.2 L 198.9,105.8' style='fill:none;fill-rule:evenodd;stroke:#000000;stroke-width:2.0px;stroke-linecap:butt;stroke-linejoin:miter;stroke-opacity:1' />\n<path class='bond-2 atom-2 atom-3' d='M 198.9,105.8 L 208.4,111.4' style='fill:none;fill-rule:evenodd;stroke:#0000FF;stroke-width:2.0px;stroke-linecap:butt;stroke-linejoin:miter;stroke-opacity:1' />\n<path class='bond-2 atom-2 atom-3' d='M 195.3,96.9 L 201.9,100.8' style='fill:none;fill-rule:evenodd;stroke:#000000;stroke-width:2.0px;stroke-linecap:butt;stroke-linejoin:miter;stroke-opacity:1' />\n<path class='bond-2 atom-2 atom-3' d='M 201.9,100.8 L 208.5,104.7' style='fill:none;fill-rule:evenodd;stroke:#0000FF;stroke-width:2.0px;stroke-linecap:butt;stroke-linejoin:miter;stroke-opacity:1' />\n<path class='bond-18 atom-2 atom-17' d='M 189.5,100.2 L 174.4,107.6' style='fill:none;fill-rule:evenodd;stroke:#000000;stroke-width:2.0px;stroke-linecap:butt;stroke-linejoin:miter;stroke-opacity:1' />\n<path class='bond-3 atom-3 atom-4' d='M 216.0,109.7 L 223.1,102.2' style='fill:none;fill-rule:evenodd;stroke:#0000FF;stroke-width:2.0px;stroke-linecap:butt;stroke-linejoin:miter;stroke-opacity:1' />\n<path class='bond-3 atom-3 atom-4' d='M 223.1,102.2 L 230.3,94.7' style='fill:none;fill-rule:evenodd;stroke:#000000;stroke-width:2.0px;stroke-linecap:butt;stroke-linejoin:miter;stroke-opacity:1' />\n<path class='bond-4 atom-4 atom-5' d='M 230.3,94.7 L 218.9,71.0' style='fill:none;fill-rule:evenodd;stroke:#000000;stroke-width:2.0px;stroke-linecap:butt;stroke-linejoin:miter;stroke-opacity:1' />\n<path class='bond-4 atom-4 atom-5' d='M 223.3,93.7 L 215.3,77.1' style='fill:none;fill-rule:evenodd;stroke:#000000;stroke-width:2.0px;stroke-linecap:butt;stroke-linejoin:miter;stroke-opacity:1' />\n<path class='bond-14 atom-11 atom-4' d='M 252.7,97.4 L 241.5,96.1' style='fill:none;fill-rule:evenodd;stroke:#0000FF;stroke-width:2.0px;stroke-linecap:butt;stroke-linejoin:miter;stroke-opacity:1' />\n<path class='bond-14 atom-11 atom-4' d='M 241.5,96.1 L 230.3,94.7' style='fill:none;fill-rule:evenodd;stroke:#000000;stroke-width:2.0px;stroke-linecap:butt;stroke-linejoin:miter;stroke-opacity:1' />\n<path class='bond-5 atom-5 atom-6' d='M 218.9,71.0 L 234.0,48.6' style='fill:none;fill-rule:evenodd;stroke:#000000;stroke-width:2.0px;stroke-linecap:butt;stroke-linejoin:miter;stroke-opacity:1' />\n<path class='bond-6 atom-6 atom-7' d='M 236.6,47.4 L 232.5,38.8' style='fill:none;fill-rule:evenodd;stroke:#000000;stroke-width:2.0px;stroke-linecap:butt;stroke-linejoin:miter;stroke-opacity:1' />\n<path class='bond-6 atom-6 atom-7' d='M 232.5,38.8 L 228.3,30.2' style='fill:none;fill-rule:evenodd;stroke:#FF0000;stroke-width:2.0px;stroke-linecap:butt;stroke-linejoin:miter;stroke-opacity:1' />\n<path class='bond-6 atom-6 atom-7' d='M 231.3,49.9 L 227.2,41.3' style='fill:none;fill-rule:evenodd;stroke:#000000;stroke-width:2.0px;stroke-linecap:butt;stroke-linejoin:miter;stroke-opacity:1' />\n<path class='bond-6 atom-6 atom-7' d='M 227.2,41.3 L 223.1,32.7' style='fill:none;fill-rule:evenodd;stroke:#FF0000;stroke-width:2.0px;stroke-linecap:butt;stroke-linejoin:miter;stroke-opacity:1' />\n<path class='bond-7 atom-6 atom-8' d='M 234.0,48.6 L 245.4,49.8' style='fill:none;fill-rule:evenodd;stroke:#000000;stroke-width:2.0px;stroke-linecap:butt;stroke-linejoin:miter;stroke-opacity:1' />\n<path class='bond-7 atom-6 atom-8' d='M 245.4,49.8 L 256.8,50.9' style='fill:none;fill-rule:evenodd;stroke:#0000FF;stroke-width:2.0px;stroke-linecap:butt;stroke-linejoin:miter;stroke-opacity:1' />\n<path class='bond-8 atom-8 atom-9' d='M 262.8,56.1 L 267.3,66.0' style='fill:none;fill-rule:evenodd;stroke:#0000FF;stroke-width:2.0px;stroke-linecap:butt;stroke-linejoin:miter;stroke-opacity:1' />\n<path class='bond-8 atom-8 atom-9' d='M 267.3,66.0 L 271.8,75.8' style='fill:none;fill-rule:evenodd;stroke:#000000;stroke-width:2.0px;stroke-linecap:butt;stroke-linejoin:miter;stroke-opacity:1' />\n<path class='bond-12 atom-8 atom-13' d='M 264.1,46.5 L 270.6,37.3' style='fill:none;fill-rule:evenodd;stroke:#0000FF;stroke-width:2.0px;stroke-linecap:butt;stroke-linejoin:miter;stroke-opacity:1' />\n<path class='bond-12 atom-8 atom-13' d='M 270.6,37.3 L 277.2,28.0' style='fill:none;fill-rule:evenodd;stroke:#000000;stroke-width:2.0px;stroke-linecap:butt;stroke-linejoin:miter;stroke-opacity:1' />\n<path class='bond-9 atom-9 atom-10' d='M 271.5,78.7 L 281.5,79.7' style='fill:none;fill-rule:evenodd;stroke:#000000;stroke-width:2.0px;stroke-linecap:butt;stroke-linejoin:miter;stroke-opacity:1' />\n<path class='bond-9 atom-9 atom-10' d='M 281.5,79.7 L 291.5,80.6' style='fill:none;fill-rule:evenodd;stroke:#FF0000;stroke-width:2.0px;stroke-linecap:butt;stroke-linejoin:miter;stroke-opacity:1' />\n<path class='bond-9 atom-9 atom-10' d='M 272.0,72.9 L 282.0,73.9' style='fill:none;fill-rule:evenodd;stroke:#000000;stroke-width:2.0px;stroke-linecap:butt;stroke-linejoin:miter;stroke-opacity:1' />\n<path class='bond-9 atom-9 atom-10' d='M 282.0,73.9 L 292.1,74.8' style='fill:none;fill-rule:evenodd;stroke:#FF0000;stroke-width:2.0px;stroke-linecap:butt;stroke-linejoin:miter;stroke-opacity:1' />\n<path class='bond-10 atom-9 atom-11' d='M 271.8,75.8 L 265.8,84.4' style='fill:none;fill-rule:evenodd;stroke:#000000;stroke-width:2.0px;stroke-linecap:butt;stroke-linejoin:miter;stroke-opacity:1' />\n<path class='bond-10 atom-9 atom-11' d='M 265.8,84.4 L 259.8,93.1' style='fill:none;fill-rule:evenodd;stroke:#0000FF;stroke-width:2.0px;stroke-linecap:butt;stroke-linejoin:miter;stroke-opacity:1' />\n<path class='bond-11 atom-11 atom-12' d='M 258.7,102.7 L 263.4,113.3' style='fill:none;fill-rule:evenodd;stroke:#0000FF;stroke-width:2.0px;stroke-linecap:butt;stroke-linejoin:miter;stroke-opacity:1' />\n<path class='bond-11 atom-11 atom-12' d='M 263.4,113.3 L 268.2,123.9' style='fill:none;fill-rule:evenodd;stroke:#000000;stroke-width:2.0px;stroke-linecap:butt;stroke-linejoin:miter;stroke-opacity:1' />\n<path class='bond-19 atom-12 atom-18' d='M 268.2,123.9 L 281.4,124.7' style='fill:none;fill-rule:evenodd;stroke:#000000;stroke-width:2.0px;stroke-linecap:butt;stroke-linejoin:miter;stroke-opacity:1' />\n<path class='bond-20 atom-12 atom-19' d='M 268.2,123.9 L 257.9,135.0' style='fill:none;fill-rule:evenodd;stroke:#000000;stroke-width:2.0px;stroke-linecap:butt;stroke-linejoin:miter;stroke-opacity:1' />\n<path class='bond-21 atom-12 atom-20' d='M 268.2,123.9 L 271.5,126.1' style='fill:none;fill-rule:evenodd;stroke:#000000;stroke-width:2.0px;stroke-linecap:butt;stroke-linejoin:miter;stroke-opacity:1' />\n<path class='bond-22 atom-13 atom-21' d='M 277.2,28.0 L 277.9,27.3' style='fill:none;fill-rule:evenodd;stroke:#000000;stroke-width:2.0px;stroke-linecap:butt;stroke-linejoin:miter;stroke-opacity:1' />\n<path class='bond-23 atom-13 atom-22' d='M 277.2,28.0 L 270.4,15.6' style='fill:none;fill-rule:evenodd;stroke:#000000;stroke-width:2.0px;stroke-linecap:butt;stroke-linejoin:miter;stroke-opacity:1' />\n<path class='bond-24 atom-13 atom-23' d='M 277.2,28.0 L 292.2,30.5' style='fill:none;fill-rule:evenodd;stroke:#000000;stroke-width:2.0px;stroke-linecap:butt;stroke-linejoin:miter;stroke-opacity:1' />\n<path  class='atom-1' d='M 191.2 69.9\nL 193.9 74.3\nQ 194.1 74.7, 194.6 75.5\nQ 195.0 76.3, 195.0 76.3\nL 195.0 69.9\nL 196.1 69.9\nL 196.1 78.2\nL 195.0 78.2\nL 192.1 73.4\nQ 191.7 72.8, 191.4 72.2\nQ 191.0 71.5, 190.9 71.4\nL 190.9 78.2\nL 189.8 78.2\nL 189.8 69.9\nL 191.2 69.9\n' fill='#0000FF'/>\n<path  class='atom-3' d='M 210.4 109.6\nL 213.1 114.0\nQ 213.3 114.4, 213.8 115.2\nQ 214.2 115.9, 214.2 116.0\nL 214.2 109.6\nL 215.3 109.6\nL 215.3 117.8\nL 214.2 117.8\nL 211.3 113.1\nQ 210.9 112.5, 210.6 111.9\nQ 210.2 111.2, 210.1 111.0\nL 210.1 117.8\nL 209.1 117.8\nL 209.1 109.6\nL 210.4 109.6\n' fill='#0000FF'/>\n<path  class='atom-7' d='M 219.6 26.5\nQ 219.6 24.5, 220.5 23.4\nQ 221.5 22.3, 223.4 22.3\nQ 225.2 22.3, 226.2 23.4\nQ 227.2 24.5, 227.2 26.5\nQ 227.2 28.5, 226.2 29.7\nQ 225.2 30.8, 223.4 30.8\nQ 221.5 30.8, 220.5 29.7\nQ 219.6 28.5, 219.6 26.5\nM 223.4 29.9\nQ 224.6 29.9, 225.3 29.0\nQ 226.0 28.2, 226.0 26.5\nQ 226.0 24.9, 225.3 24.1\nQ 224.6 23.3, 223.4 23.3\nQ 222.1 23.3, 221.4 24.1\nQ 220.7 24.9, 220.7 26.5\nQ 220.7 28.2, 221.4 29.0\nQ 222.1 29.9, 223.4 29.9\n' fill='#FF0000'/>\n<path  class='atom-8' d='M 258.8 47.2\nL 261.5 51.5\nQ 261.7 52.0, 262.2 52.8\nQ 262.6 53.5, 262.6 53.6\nL 262.6 47.2\nL 263.7 47.2\nL 263.7 55.4\nL 262.6 55.4\nL 259.7 50.6\nQ 259.3 50.1, 259.0 49.4\nQ 258.6 48.8, 258.5 48.6\nL 258.5 55.4\nL 257.5 55.4\nL 257.5 47.2\nL 258.8 47.2\n' fill='#0000FF'/>\n<path  class='atom-10' d='M 292.4 78.1\nQ 292.4 76.1, 293.4 75.0\nQ 294.4 73.9, 296.2 73.9\nQ 298.0 73.9, 299.0 75.0\nQ 300.0 76.1, 300.0 78.1\nQ 300.0 80.1, 299.0 81.3\nQ 298.0 82.4, 296.2 82.4\nQ 294.4 82.4, 293.4 81.3\nQ 292.4 80.1, 292.4 78.1\nM 296.2 81.5\nQ 297.5 81.5, 298.1 80.6\nQ 298.8 79.8, 298.8 78.1\nQ 298.8 76.5, 298.1 75.7\nQ 297.5 74.8, 296.2 74.8\nQ 294.9 74.8, 294.3 75.7\nQ 293.6 76.5, 293.6 78.1\nQ 293.6 79.8, 294.3 80.6\nQ 294.9 81.5, 296.2 81.5\n' fill='#FF0000'/>\n<path  class='atom-11' d='M 254.7 93.7\nL 257.4 98.1\nQ 257.6 98.5, 258.1 99.3\nQ 258.5 100.1, 258.5 100.2\nL 258.5 93.7\nL 259.6 93.7\nL 259.6 102.0\nL 258.5 102.0\nL 255.6 97.2\nQ 255.2 96.6, 254.9 96.0\nQ 254.5 95.4, 254.4 95.2\nL 254.4 102.0\nL 253.4 102.0\nL 253.4 93.7\nL 254.7 93.7\n' fill='#0000FF'/>\n<path  class='atom-14' d='M 150.0 59.0\nL 151.1 59.0\nL 151.1 62.6\nL 155.3 62.6\nL 155.3 59.0\nL 156.5 59.0\nL 156.5 67.3\nL 155.3 67.3\nL 155.3 63.5\nL 151.1 63.5\nL 151.1 67.3\nL 150.0 67.3\nL 150.0 59.0\n' fill='#000000'/>\n<path  class='atom-15' d='M 170.6 38.0\nL 171.7 38.0\nL 171.7 41.6\nL 176.0 41.6\nL 176.0 38.0\nL 177.1 38.0\nL 177.1 46.3\nL 176.0 46.3\nL 176.0 42.5\nL 171.7 42.5\nL 171.7 46.3\nL 170.6 46.3\nL 170.6 38.0\n' fill='#000000'/>\n<path  class='atom-16' d='M 172.3 37.3\nL 173.5 37.3\nL 173.5 40.8\nL 177.7 40.8\nL 177.7 37.3\nL 178.8 37.3\nL 178.8 45.5\nL 177.7 45.5\nL 177.7 41.7\nL 173.5 41.7\nL 173.5 45.5\nL 172.3 45.5\nL 172.3 37.3\n' fill='#000000'/>\n<path  class='atom-17' d='M 167.4 105.3\nL 168.5 105.3\nL 168.5 108.8\nL 172.7 108.8\nL 172.7 105.3\nL 173.9 105.3\nL 173.9 113.5\nL 172.7 113.5\nL 172.7 109.7\nL 168.5 109.7\nL 168.5 113.5\nL 167.4 113.5\nL 167.4 105.3\n' fill='#000000'/>\n<path  class='atom-18' d='M 281.8 120.8\nL 282.9 120.8\nL 282.9 124.3\nL 287.1 124.3\nL 287.1 120.8\nL 288.2 120.8\nL 288.2 129.1\nL 287.1 129.1\nL 287.1 125.2\nL 282.9 125.2\nL 282.9 129.1\nL 281.8 129.1\nL 281.8 120.8\n' fill='#000000'/>\n<path  class='atom-19' d='M 250.9 134.9\nL 252.0 134.9\nL 252.0 138.4\nL 256.2 138.4\nL 256.2 134.9\nL 257.4 134.9\nL 257.4 143.2\nL 256.2 143.2\nL 256.2 139.4\nL 252.0 139.4\nL 252.0 143.2\nL 250.9 143.2\nL 250.9 134.9\n' fill='#000000'/>\n<path  class='atom-20' d='M 271.7 124.3\nL 272.8 124.3\nL 272.8 127.8\nL 277.0 127.8\nL 277.0 124.3\nL 278.2 124.3\nL 278.2 132.6\nL 277.0 132.6\nL 277.0 128.8\nL 272.8 128.8\nL 272.8 132.6\nL 271.7 132.6\nL 271.7 124.3\n' fill='#000000'/>\n<path  class='atom-21' d='M 278.0 19.4\nL 279.2 19.4\nL 279.2 22.9\nL 283.4 22.9\nL 283.4 19.4\nL 284.5 19.4\nL 284.5 27.6\nL 283.4 27.6\nL 283.4 23.8\nL 279.2 23.8\nL 279.2 27.6\nL 278.0 27.6\nL 278.0 19.4\n' fill='#000000'/>\n<path  class='atom-22' d='M 264.6 6.8\nL 265.7 6.8\nL 265.7 10.3\nL 270.0 10.3\nL 270.0 6.8\nL 271.1 6.8\nL 271.1 15.1\nL 270.0 15.1\nL 270.0 11.3\nL 265.7 11.3\nL 265.7 15.1\nL 264.6 15.1\nL 264.6 6.8\n' fill='#000000'/>\n<path  class='atom-23' d='M 292.7 27.0\nL 293.8 27.0\nL 293.8 30.5\nL 298.0 30.5\nL 298.0 27.0\nL 299.2 27.0\nL 299.2 35.3\nL 298.0 35.3\nL 298.0 31.4\nL 293.8 31.4\nL 293.8 35.3\nL 292.7 35.3\nL 292.7 27.0\n' fill='#000000'/>\n<path d='M 171.9,44.1 L 171.9,40.2 L 175.8,40.2 L 175.8,44.1 L 171.9,44.1' style='fill:none;stroke:#FF0000;stroke-width:2.0px;stroke-linecap:butt;stroke-linejoin:miter;stroke-opacity:1;' />\n</svg>\n",
            "text/html": [
              "<?xml version='1.0' encoding='iso-8859-1'?>\n",
              "<svg version='1.1' baseProfile='full'\n",
              "              xmlns='http://www.w3.org/2000/svg'\n",
              "                      xmlns:rdkit='http://www.rdkit.org/xml'\n",
              "                      xmlns:xlink='http://www.w3.org/1999/xlink'\n",
              "                  xml:space='preserve'\n",
              "width='450px' height='150px' viewBox='0 0 450 150'>\n",
              "<!-- END OF HEADER -->\n",
              "<rect style='opacity:1.0;fill:#FFFFFF;stroke:none' width='450.0' height='150.0' x='0.0' y='0.0'> </rect>\n",
              "<path class='bond-0 atom-0 atom-1' d='M 172.8,54.1 L 181.0,62.2' style='fill:none;fill-rule:evenodd;stroke:#000000;stroke-width:2.0px;stroke-linecap:butt;stroke-linejoin:miter;stroke-opacity:1' />\n",
              "<path class='bond-0 atom-0 atom-1' d='M 181.0,62.2 L 189.1,70.2' style='fill:none;fill-rule:evenodd;stroke:#0000FF;stroke-width:2.0px;stroke-linecap:butt;stroke-linejoin:miter;stroke-opacity:1' />\n",
              "<path class='bond-15 atom-0 atom-14' d='M 172.8,54.1 L 157.0,61.4' style='fill:none;fill-rule:evenodd;stroke:#000000;stroke-width:2.0px;stroke-linecap:butt;stroke-linejoin:miter;stroke-opacity:1' />\n",
              "<path class='bond-16 atom-0 atom-15' d='M 172.8,54.1 L 173.5,46.6' style='fill:none;fill-rule:evenodd;stroke:#000000;stroke-width:2.0px;stroke-linecap:butt;stroke-linejoin:miter;stroke-opacity:1' />\n",
              "<path class='bond-17 atom-0 atom-16' d='M 172.8,54.1 L 174.6,45.9' style='fill:none;fill-rule:evenodd;stroke:#000000;stroke-width:2.0px;stroke-linecap:butt;stroke-linejoin:miter;stroke-opacity:1' />\n",
              "<path class='bond-1 atom-1 atom-2' d='M 192.3,78.8 L 190.9,89.5' style='fill:none;fill-rule:evenodd;stroke:#0000FF;stroke-width:2.0px;stroke-linecap:butt;stroke-linejoin:miter;stroke-opacity:1' />\n",
              "<path class='bond-1 atom-1 atom-2' d='M 190.9,89.5 L 189.5,100.2' style='fill:none;fill-rule:evenodd;stroke:#000000;stroke-width:2.0px;stroke-linecap:butt;stroke-linejoin:miter;stroke-opacity:1' />\n",
              "<path class='bond-13 atom-5 atom-1' d='M 218.9,71.0 L 207.8,72.3' style='fill:none;fill-rule:evenodd;stroke:#000000;stroke-width:2.0px;stroke-linecap:butt;stroke-linejoin:miter;stroke-opacity:1' />\n",
              "<path class='bond-13 atom-5 atom-1' d='M 207.8,72.3 L 196.8,73.6' style='fill:none;fill-rule:evenodd;stroke:#0000FF;stroke-width:2.0px;stroke-linecap:butt;stroke-linejoin:miter;stroke-opacity:1' />\n",
              "<path class='bond-2 atom-2 atom-3' d='M 189.5,100.2 L 198.9,105.8' style='fill:none;fill-rule:evenodd;stroke:#000000;stroke-width:2.0px;stroke-linecap:butt;stroke-linejoin:miter;stroke-opacity:1' />\n",
              "<path class='bond-2 atom-2 atom-3' d='M 198.9,105.8 L 208.4,111.4' style='fill:none;fill-rule:evenodd;stroke:#0000FF;stroke-width:2.0px;stroke-linecap:butt;stroke-linejoin:miter;stroke-opacity:1' />\n",
              "<path class='bond-2 atom-2 atom-3' d='M 195.3,96.9 L 201.9,100.8' style='fill:none;fill-rule:evenodd;stroke:#000000;stroke-width:2.0px;stroke-linecap:butt;stroke-linejoin:miter;stroke-opacity:1' />\n",
              "<path class='bond-2 atom-2 atom-3' d='M 201.9,100.8 L 208.5,104.7' style='fill:none;fill-rule:evenodd;stroke:#0000FF;stroke-width:2.0px;stroke-linecap:butt;stroke-linejoin:miter;stroke-opacity:1' />\n",
              "<path class='bond-18 atom-2 atom-17' d='M 189.5,100.2 L 174.4,107.6' style='fill:none;fill-rule:evenodd;stroke:#000000;stroke-width:2.0px;stroke-linecap:butt;stroke-linejoin:miter;stroke-opacity:1' />\n",
              "<path class='bond-3 atom-3 atom-4' d='M 216.0,109.7 L 223.1,102.2' style='fill:none;fill-rule:evenodd;stroke:#0000FF;stroke-width:2.0px;stroke-linecap:butt;stroke-linejoin:miter;stroke-opacity:1' />\n",
              "<path class='bond-3 atom-3 atom-4' d='M 223.1,102.2 L 230.3,94.7' style='fill:none;fill-rule:evenodd;stroke:#000000;stroke-width:2.0px;stroke-linecap:butt;stroke-linejoin:miter;stroke-opacity:1' />\n",
              "<path class='bond-4 atom-4 atom-5' d='M 230.3,94.7 L 218.9,71.0' style='fill:none;fill-rule:evenodd;stroke:#000000;stroke-width:2.0px;stroke-linecap:butt;stroke-linejoin:miter;stroke-opacity:1' />\n",
              "<path class='bond-4 atom-4 atom-5' d='M 223.3,93.7 L 215.3,77.1' style='fill:none;fill-rule:evenodd;stroke:#000000;stroke-width:2.0px;stroke-linecap:butt;stroke-linejoin:miter;stroke-opacity:1' />\n",
              "<path class='bond-14 atom-11 atom-4' d='M 252.7,97.4 L 241.5,96.1' style='fill:none;fill-rule:evenodd;stroke:#0000FF;stroke-width:2.0px;stroke-linecap:butt;stroke-linejoin:miter;stroke-opacity:1' />\n",
              "<path class='bond-14 atom-11 atom-4' d='M 241.5,96.1 L 230.3,94.7' style='fill:none;fill-rule:evenodd;stroke:#000000;stroke-width:2.0px;stroke-linecap:butt;stroke-linejoin:miter;stroke-opacity:1' />\n",
              "<path class='bond-5 atom-5 atom-6' d='M 218.9,71.0 L 234.0,48.6' style='fill:none;fill-rule:evenodd;stroke:#000000;stroke-width:2.0px;stroke-linecap:butt;stroke-linejoin:miter;stroke-opacity:1' />\n",
              "<path class='bond-6 atom-6 atom-7' d='M 236.6,47.4 L 232.5,38.8' style='fill:none;fill-rule:evenodd;stroke:#000000;stroke-width:2.0px;stroke-linecap:butt;stroke-linejoin:miter;stroke-opacity:1' />\n",
              "<path class='bond-6 atom-6 atom-7' d='M 232.5,38.8 L 228.3,30.2' style='fill:none;fill-rule:evenodd;stroke:#FF0000;stroke-width:2.0px;stroke-linecap:butt;stroke-linejoin:miter;stroke-opacity:1' />\n",
              "<path class='bond-6 atom-6 atom-7' d='M 231.3,49.9 L 227.2,41.3' style='fill:none;fill-rule:evenodd;stroke:#000000;stroke-width:2.0px;stroke-linecap:butt;stroke-linejoin:miter;stroke-opacity:1' />\n",
              "<path class='bond-6 atom-6 atom-7' d='M 227.2,41.3 L 223.1,32.7' style='fill:none;fill-rule:evenodd;stroke:#FF0000;stroke-width:2.0px;stroke-linecap:butt;stroke-linejoin:miter;stroke-opacity:1' />\n",
              "<path class='bond-7 atom-6 atom-8' d='M 234.0,48.6 L 245.4,49.8' style='fill:none;fill-rule:evenodd;stroke:#000000;stroke-width:2.0px;stroke-linecap:butt;stroke-linejoin:miter;stroke-opacity:1' />\n",
              "<path class='bond-7 atom-6 atom-8' d='M 245.4,49.8 L 256.8,50.9' style='fill:none;fill-rule:evenodd;stroke:#0000FF;stroke-width:2.0px;stroke-linecap:butt;stroke-linejoin:miter;stroke-opacity:1' />\n",
              "<path class='bond-8 atom-8 atom-9' d='M 262.8,56.1 L 267.3,66.0' style='fill:none;fill-rule:evenodd;stroke:#0000FF;stroke-width:2.0px;stroke-linecap:butt;stroke-linejoin:miter;stroke-opacity:1' />\n",
              "<path class='bond-8 atom-8 atom-9' d='M 267.3,66.0 L 271.8,75.8' style='fill:none;fill-rule:evenodd;stroke:#000000;stroke-width:2.0px;stroke-linecap:butt;stroke-linejoin:miter;stroke-opacity:1' />\n",
              "<path class='bond-12 atom-8 atom-13' d='M 264.1,46.5 L 270.6,37.3' style='fill:none;fill-rule:evenodd;stroke:#0000FF;stroke-width:2.0px;stroke-linecap:butt;stroke-linejoin:miter;stroke-opacity:1' />\n",
              "<path class='bond-12 atom-8 atom-13' d='M 270.6,37.3 L 277.2,28.0' style='fill:none;fill-rule:evenodd;stroke:#000000;stroke-width:2.0px;stroke-linecap:butt;stroke-linejoin:miter;stroke-opacity:1' />\n",
              "<path class='bond-9 atom-9 atom-10' d='M 271.5,78.7 L 281.5,79.7' style='fill:none;fill-rule:evenodd;stroke:#000000;stroke-width:2.0px;stroke-linecap:butt;stroke-linejoin:miter;stroke-opacity:1' />\n",
              "<path class='bond-9 atom-9 atom-10' d='M 281.5,79.7 L 291.5,80.6' style='fill:none;fill-rule:evenodd;stroke:#FF0000;stroke-width:2.0px;stroke-linecap:butt;stroke-linejoin:miter;stroke-opacity:1' />\n",
              "<path class='bond-9 atom-9 atom-10' d='M 272.0,72.9 L 282.0,73.9' style='fill:none;fill-rule:evenodd;stroke:#000000;stroke-width:2.0px;stroke-linecap:butt;stroke-linejoin:miter;stroke-opacity:1' />\n",
              "<path class='bond-9 atom-9 atom-10' d='M 282.0,73.9 L 292.1,74.8' style='fill:none;fill-rule:evenodd;stroke:#FF0000;stroke-width:2.0px;stroke-linecap:butt;stroke-linejoin:miter;stroke-opacity:1' />\n",
              "<path class='bond-10 atom-9 atom-11' d='M 271.8,75.8 L 265.8,84.4' style='fill:none;fill-rule:evenodd;stroke:#000000;stroke-width:2.0px;stroke-linecap:butt;stroke-linejoin:miter;stroke-opacity:1' />\n",
              "<path class='bond-10 atom-9 atom-11' d='M 265.8,84.4 L 259.8,93.1' style='fill:none;fill-rule:evenodd;stroke:#0000FF;stroke-width:2.0px;stroke-linecap:butt;stroke-linejoin:miter;stroke-opacity:1' />\n",
              "<path class='bond-11 atom-11 atom-12' d='M 258.7,102.7 L 263.4,113.3' style='fill:none;fill-rule:evenodd;stroke:#0000FF;stroke-width:2.0px;stroke-linecap:butt;stroke-linejoin:miter;stroke-opacity:1' />\n",
              "<path class='bond-11 atom-11 atom-12' d='M 263.4,113.3 L 268.2,123.9' style='fill:none;fill-rule:evenodd;stroke:#000000;stroke-width:2.0px;stroke-linecap:butt;stroke-linejoin:miter;stroke-opacity:1' />\n",
              "<path class='bond-19 atom-12 atom-18' d='M 268.2,123.9 L 281.4,124.7' style='fill:none;fill-rule:evenodd;stroke:#000000;stroke-width:2.0px;stroke-linecap:butt;stroke-linejoin:miter;stroke-opacity:1' />\n",
              "<path class='bond-20 atom-12 atom-19' d='M 268.2,123.9 L 257.9,135.0' style='fill:none;fill-rule:evenodd;stroke:#000000;stroke-width:2.0px;stroke-linecap:butt;stroke-linejoin:miter;stroke-opacity:1' />\n",
              "<path class='bond-21 atom-12 atom-20' d='M 268.2,123.9 L 271.5,126.1' style='fill:none;fill-rule:evenodd;stroke:#000000;stroke-width:2.0px;stroke-linecap:butt;stroke-linejoin:miter;stroke-opacity:1' />\n",
              "<path class='bond-22 atom-13 atom-21' d='M 277.2,28.0 L 277.9,27.3' style='fill:none;fill-rule:evenodd;stroke:#000000;stroke-width:2.0px;stroke-linecap:butt;stroke-linejoin:miter;stroke-opacity:1' />\n",
              "<path class='bond-23 atom-13 atom-22' d='M 277.2,28.0 L 270.4,15.6' style='fill:none;fill-rule:evenodd;stroke:#000000;stroke-width:2.0px;stroke-linecap:butt;stroke-linejoin:miter;stroke-opacity:1' />\n",
              "<path class='bond-24 atom-13 atom-23' d='M 277.2,28.0 L 292.2,30.5' style='fill:none;fill-rule:evenodd;stroke:#000000;stroke-width:2.0px;stroke-linecap:butt;stroke-linejoin:miter;stroke-opacity:1' />\n",
              "<path  class='atom-1' d='M 191.2 69.9\n",
              "L 193.9 74.3\n",
              "Q 194.1 74.7, 194.6 75.5\n",
              "Q 195.0 76.3, 195.0 76.3\n",
              "L 195.0 69.9\n",
              "L 196.1 69.9\n",
              "L 196.1 78.2\n",
              "L 195.0 78.2\n",
              "L 192.1 73.4\n",
              "Q 191.7 72.8, 191.4 72.2\n",
              "Q 191.0 71.5, 190.9 71.4\n",
              "L 190.9 78.2\n",
              "L 189.8 78.2\n",
              "L 189.8 69.9\n",
              "L 191.2 69.9\n",
              "' fill='#0000FF'/>\n",
              "<path  class='atom-3' d='M 210.4 109.6\n",
              "L 213.1 114.0\n",
              "Q 213.3 114.4, 213.8 115.2\n",
              "Q 214.2 115.9, 214.2 116.0\n",
              "L 214.2 109.6\n",
              "L 215.3 109.6\n",
              "L 215.3 117.8\n",
              "L 214.2 117.8\n",
              "L 211.3 113.1\n",
              "Q 210.9 112.5, 210.6 111.9\n",
              "Q 210.2 111.2, 210.1 111.0\n",
              "L 210.1 117.8\n",
              "L 209.1 117.8\n",
              "L 209.1 109.6\n",
              "L 210.4 109.6\n",
              "' fill='#0000FF'/>\n",
              "<path  class='atom-7' d='M 219.6 26.5\n",
              "Q 219.6 24.5, 220.5 23.4\n",
              "Q 221.5 22.3, 223.4 22.3\n",
              "Q 225.2 22.3, 226.2 23.4\n",
              "Q 227.2 24.5, 227.2 26.5\n",
              "Q 227.2 28.5, 226.2 29.7\n",
              "Q 225.2 30.8, 223.4 30.8\n",
              "Q 221.5 30.8, 220.5 29.7\n",
              "Q 219.6 28.5, 219.6 26.5\n",
              "M 223.4 29.9\n",
              "Q 224.6 29.9, 225.3 29.0\n",
              "Q 226.0 28.2, 226.0 26.5\n",
              "Q 226.0 24.9, 225.3 24.1\n",
              "Q 224.6 23.3, 223.4 23.3\n",
              "Q 222.1 23.3, 221.4 24.1\n",
              "Q 220.7 24.9, 220.7 26.5\n",
              "Q 220.7 28.2, 221.4 29.0\n",
              "Q 222.1 29.9, 223.4 29.9\n",
              "' fill='#FF0000'/>\n",
              "<path  class='atom-8' d='M 258.8 47.2\n",
              "L 261.5 51.5\n",
              "Q 261.7 52.0, 262.2 52.8\n",
              "Q 262.6 53.5, 262.6 53.6\n",
              "L 262.6 47.2\n",
              "L 263.7 47.2\n",
              "L 263.7 55.4\n",
              "L 262.6 55.4\n",
              "L 259.7 50.6\n",
              "Q 259.3 50.1, 259.0 49.4\n",
              "Q 258.6 48.8, 258.5 48.6\n",
              "L 258.5 55.4\n",
              "L 257.5 55.4\n",
              "L 257.5 47.2\n",
              "L 258.8 47.2\n",
              "' fill='#0000FF'/>\n",
              "<path  class='atom-10' d='M 292.4 78.1\n",
              "Q 292.4 76.1, 293.4 75.0\n",
              "Q 294.4 73.9, 296.2 73.9\n",
              "Q 298.0 73.9, 299.0 75.0\n",
              "Q 300.0 76.1, 300.0 78.1\n",
              "Q 300.0 80.1, 299.0 81.3\n",
              "Q 298.0 82.4, 296.2 82.4\n",
              "Q 294.4 82.4, 293.4 81.3\n",
              "Q 292.4 80.1, 292.4 78.1\n",
              "M 296.2 81.5\n",
              "Q 297.5 81.5, 298.1 80.6\n",
              "Q 298.8 79.8, 298.8 78.1\n",
              "Q 298.8 76.5, 298.1 75.7\n",
              "Q 297.5 74.8, 296.2 74.8\n",
              "Q 294.9 74.8, 294.3 75.7\n",
              "Q 293.6 76.5, 293.6 78.1\n",
              "Q 293.6 79.8, 294.3 80.6\n",
              "Q 294.9 81.5, 296.2 81.5\n",
              "' fill='#FF0000'/>\n",
              "<path  class='atom-11' d='M 254.7 93.7\n",
              "L 257.4 98.1\n",
              "Q 257.6 98.5, 258.1 99.3\n",
              "Q 258.5 100.1, 258.5 100.2\n",
              "L 258.5 93.7\n",
              "L 259.6 93.7\n",
              "L 259.6 102.0\n",
              "L 258.5 102.0\n",
              "L 255.6 97.2\n",
              "Q 255.2 96.6, 254.9 96.0\n",
              "Q 254.5 95.4, 254.4 95.2\n",
              "L 254.4 102.0\n",
              "L 253.4 102.0\n",
              "L 253.4 93.7\n",
              "L 254.7 93.7\n",
              "' fill='#0000FF'/>\n",
              "<path  class='atom-14' d='M 150.0 59.0\n",
              "L 151.1 59.0\n",
              "L 151.1 62.6\n",
              "L 155.3 62.6\n",
              "L 155.3 59.0\n",
              "L 156.5 59.0\n",
              "L 156.5 67.3\n",
              "L 155.3 67.3\n",
              "L 155.3 63.5\n",
              "L 151.1 63.5\n",
              "L 151.1 67.3\n",
              "L 150.0 67.3\n",
              "L 150.0 59.0\n",
              "' fill='#000000'/>\n",
              "<path  class='atom-15' d='M 170.6 38.0\n",
              "L 171.7 38.0\n",
              "L 171.7 41.6\n",
              "L 176.0 41.6\n",
              "L 176.0 38.0\n",
              "L 177.1 38.0\n",
              "L 177.1 46.3\n",
              "L 176.0 46.3\n",
              "L 176.0 42.5\n",
              "L 171.7 42.5\n",
              "L 171.7 46.3\n",
              "L 170.6 46.3\n",
              "L 170.6 38.0\n",
              "' fill='#000000'/>\n",
              "<path  class='atom-16' d='M 172.3 37.3\n",
              "L 173.5 37.3\n",
              "L 173.5 40.8\n",
              "L 177.7 40.8\n",
              "L 177.7 37.3\n",
              "L 178.8 37.3\n",
              "L 178.8 45.5\n",
              "L 177.7 45.5\n",
              "L 177.7 41.7\n",
              "L 173.5 41.7\n",
              "L 173.5 45.5\n",
              "L 172.3 45.5\n",
              "L 172.3 37.3\n",
              "' fill='#000000'/>\n",
              "<path  class='atom-17' d='M 167.4 105.3\n",
              "L 168.5 105.3\n",
              "L 168.5 108.8\n",
              "L 172.7 108.8\n",
              "L 172.7 105.3\n",
              "L 173.9 105.3\n",
              "L 173.9 113.5\n",
              "L 172.7 113.5\n",
              "L 172.7 109.7\n",
              "L 168.5 109.7\n",
              "L 168.5 113.5\n",
              "L 167.4 113.5\n",
              "L 167.4 105.3\n",
              "' fill='#000000'/>\n",
              "<path  class='atom-18' d='M 281.8 120.8\n",
              "L 282.9 120.8\n",
              "L 282.9 124.3\n",
              "L 287.1 124.3\n",
              "L 287.1 120.8\n",
              "L 288.2 120.8\n",
              "L 288.2 129.1\n",
              "L 287.1 129.1\n",
              "L 287.1 125.2\n",
              "L 282.9 125.2\n",
              "L 282.9 129.1\n",
              "L 281.8 129.1\n",
              "L 281.8 120.8\n",
              "' fill='#000000'/>\n",
              "<path  class='atom-19' d='M 250.9 134.9\n",
              "L 252.0 134.9\n",
              "L 252.0 138.4\n",
              "L 256.2 138.4\n",
              "L 256.2 134.9\n",
              "L 257.4 134.9\n",
              "L 257.4 143.2\n",
              "L 256.2 143.2\n",
              "L 256.2 139.4\n",
              "L 252.0 139.4\n",
              "L 252.0 143.2\n",
              "L 250.9 143.2\n",
              "L 250.9 134.9\n",
              "' fill='#000000'/>\n",
              "<path  class='atom-20' d='M 271.7 124.3\n",
              "L 272.8 124.3\n",
              "L 272.8 127.8\n",
              "L 277.0 127.8\n",
              "L 277.0 124.3\n",
              "L 278.2 124.3\n",
              "L 278.2 132.6\n",
              "L 277.0 132.6\n",
              "L 277.0 128.8\n",
              "L 272.8 128.8\n",
              "L 272.8 132.6\n",
              "L 271.7 132.6\n",
              "L 271.7 124.3\n",
              "' fill='#000000'/>\n",
              "<path  class='atom-21' d='M 278.0 19.4\n",
              "L 279.2 19.4\n",
              "L 279.2 22.9\n",
              "L 283.4 22.9\n",
              "L 283.4 19.4\n",
              "L 284.5 19.4\n",
              "L 284.5 27.6\n",
              "L 283.4 27.6\n",
              "L 283.4 23.8\n",
              "L 279.2 23.8\n",
              "L 279.2 27.6\n",
              "L 278.0 27.6\n",
              "L 278.0 19.4\n",
              "' fill='#000000'/>\n",
              "<path  class='atom-22' d='M 264.6 6.8\n",
              "L 265.7 6.8\n",
              "L 265.7 10.3\n",
              "L 270.0 10.3\n",
              "L 270.0 6.8\n",
              "L 271.1 6.8\n",
              "L 271.1 15.1\n",
              "L 270.0 15.1\n",
              "L 270.0 11.3\n",
              "L 265.7 11.3\n",
              "L 265.7 15.1\n",
              "L 264.6 15.1\n",
              "L 264.6 6.8\n",
              "' fill='#000000'/>\n",
              "<path  class='atom-23' d='M 292.7 27.0\n",
              "L 293.8 27.0\n",
              "L 293.8 30.5\n",
              "L 298.0 30.5\n",
              "L 298.0 27.0\n",
              "L 299.2 27.0\n",
              "L 299.2 35.3\n",
              "L 298.0 35.3\n",
              "L 298.0 31.4\n",
              "L 293.8 31.4\n",
              "L 293.8 35.3\n",
              "L 292.7 35.3\n",
              "L 292.7 27.0\n",
              "' fill='#000000'/>\n",
              "<path d='M 171.9,44.1 L 171.9,40.2 L 175.8,40.2 L 175.8,44.1 L 171.9,44.1' style='fill:none;stroke:#FF0000;stroke-width:2.0px;stroke-linecap:butt;stroke-linejoin:miter;stroke-opacity:1;' />\n",
              "</svg>\n"
            ],
            "text/plain": [
              "<rdkit.Chem.rdchem.Mol at 0x7f6010e32460>"
            ]
          },
          "execution_count": 41,
          "metadata": {},
          "output_type": "execute_result"
        }
      ],
      "source": [
        "# or this ?? TODO\n",
        "\n",
        "# create the caffeine molecule using RDKit\n",
        "mol = Chem.MolFromSmiles(\"CN1C=NC2=C1C(=O)N(C(=O)N2C)C\")\n",
        "mol = Chem.AddHs(mol)\n",
        "AllChem.EmbedMolecule(mol)\n",
        "AllChem.UFFOptimizeMolecule(mol)\n",
        "\n",
        "mol\n",
        "\n",
        "# convert the molecule to a PDB file\n",
        "#pdb = Chem.MolToPDBBlock(mol)\n",
        "\n",
        "# create an instance of NGLView\n",
        "#view = nglview.NGLWidget()\n",
        "\n",
        "# load the caffeine molecule from the PDB file\n",
        "#view.add_pdbid(pdb)\n",
        "\n",
        "# display the molecule in the Jupyter notebook\n",
        "#view\n"
      ]
    },
    {
      "cell_type": "markdown",
      "metadata": {
        "id": "XLWrpfBs-ech"
      },
      "source": [
        "### Conformers"
      ]
    },
    {
      "cell_type": "markdown",
      "metadata": {
        "id": "_kDbGQnnwoqv"
      },
      "source": [
        "To generate conformers, we can use [Datamol](https://datamol.io/), a Python library that is a wrapper around RDKit to make it easier to use."
      ]
    },
    {
      "cell_type": "code",
      "execution_count": 49,
      "metadata": {
        "colab": {
          "base_uri": "https://localhost:8080/"
        },
        "id": "C-IxBX86_cLy",
        "outputId": "53045b54-58c1-412d-821e-b6b8e8c74fce"
      },
      "outputs": [
        {
          "data": {
            "text/plain": [
              "array([[-0.15171907, -0.13176966,  3.08119825],\n",
              "       [ 0.05918091,  0.68092586,  1.87543287],\n",
              "       [ 0.36717301,  1.99008168,  1.81987676],\n",
              "       [ 0.4836087 ,  2.39431037,  0.53386461],\n",
              "       [ 0.24650024,  1.32665042, -0.25762257],\n",
              "       [-0.01493958,  0.27318787,  0.59597775],\n",
              "       [-0.29313579, -0.95280392,  0.04010046],\n",
              "       [-0.52976586, -1.90525734,  0.8267764 ],\n",
              "       [-0.30089341, -1.08114649, -1.28812978],\n",
              "       [-0.03873869, -0.0215015 , -2.09777132],\n",
              "       [-0.05669789, -0.18814256, -3.35374419],\n",
              "       [ 0.23778486,  1.19340475, -1.59697665],\n",
              "       [ 0.51051001,  2.29082171, -2.50709236],\n",
              "       [-0.59479963, -2.3773428 , -1.88985908]])"
            ]
          },
          "execution_count": 49,
          "metadata": {},
          "output_type": "execute_result"
        }
      ],
      "source": [
        "# generate conformers\n",
        "mol = dm.conformers.generate(mol_coffeine, align_conformers=True)\n",
        "# Get all conformers as a list\n",
        "conformers = mol.GetConformers()\n",
        "\n",
        "# print the x,y,z coordinates of the 24 atoms of the first conformer.\n",
        "mol.GetConformer(0).GetPositions()"
      ]
    },
    {
      "cell_type": "markdown",
      "metadata": {
        "id": "4kNJflAp-gDa"
      },
      "source": [
        "### Molecular graphs"
      ]
    },
    {
      "cell_type": "markdown",
      "metadata": {
        "id": "w3925FIM0bVb"
      },
      "source": [
        "A common tool to work with graphs is called **networkX**. We use it to create two isomorphic graphs."
      ]
    },
    {
      "cell_type": "code",
      "execution_count": 31,
      "metadata": {
        "colab": {
          "base_uri": "https://localhost:8080/",
          "height": 507
        },
        "id": "nt1GMi8mAC3a",
        "outputId": "bd4019a7-1684-453c-c14e-7d130fcd8606"
      },
      "outputs": [
        {
          "name": "stdout",
          "output_type": "stream",
          "text": [
            "Matrix 1:\n",
            " [[0 0 0 1]\n",
            " [0 0 0 1]\n",
            " [0 0 0 1]\n",
            " [1 1 1 0]]\n",
            "\n",
            "Matrix 2:\n",
            " [[0 1 1 1]\n",
            " [1 0 0 0]\n",
            " [1 0 0 0]\n",
            " [1 0 0 0]]\n",
            "\n",
            "And the corresponding graphs:\n",
            "\n"
          ]
        },
        {
          "data": {
            "image/png": "[encoded data removed]",
            "text/plain": [
              "<Figure size 432x288 with 2 Axes>"
            ]
          },
          "metadata": {},
          "output_type": "display_data"
        }
      ],
      "source": [
        "# create two adjacency matrices\n",
        "adj_matrix_1 = np.array([[0,0,0,1],[0,0,0,1],[0,0,0,1],[1,1,1,0]])\n",
        "adj_matrix_2 = np.array([[0,1,1,1],[1,0,0,0],[1,0,0,0],[1,0,0,0]])\n",
        "print(\"Matrix 1:\\n\", adj_matrix_1)\n",
        "print(\"\\nMatrix 2:\\n\", adj_matrix_2)\n",
        "\n",
        "# convert adjacency matrices to graphs\n",
        "graph_1 = nx.from_numpy_matrix(adj_matrix_1)\n",
        "graph_2 = nx.from_numpy_matrix(adj_matrix_2)\n",
        "\n",
        "# draw\n",
        "print(\"\\nAnd the corresponding graphs:\\n\")\n",
        "plt.subplot(1, 2, 1)\n",
        "plt.title(\"Graph 1\")\n",
        "nx.draw(graph_1, with_labels = True)\n",
        "plt.subplot(1, 2, 2)\n",
        "plt.title(\"Graph 2\")\n",
        "nx.draw(graph_2, with_labels = True)"
      ]
    },
    {
      "cell_type": "markdown",
      "metadata": {
        "id": "IYD_ShME-0vb"
      },
      "source": [
        "### Fingerprints"
      ]
    },
    {
      "cell_type": "markdown",
      "metadata": {
        "id": "lAuCns2z06R_"
      },
      "source": [
        "We can also use Datamol to easily create fingerprints. "
      ]
    },
    {
      "cell_type": "code",
      "execution_count": 60,
      "metadata": {
        "colab": {
          "base_uri": "https://localhost:8080/",
          "height": 334
        },
        "id": "_h443LFp-2Cn",
        "outputId": "1f90d027-f5f1-4059-f25b-0667e52f6c57"
      },
      "outputs": [
        {
          "name": "stdout",
          "output_type": "stream",
          "text": [
            "Number of elements:  2048\n",
            "Types of entries:  {0, 1}\n",
            "Number of Ones:  34\n"
          ]
        },
        {
          "data": {
            "text/plain": [
              "<matplotlib.collections.LineCollection at 0x7f600ee2e7f0>"
            ]
          },
          "execution_count": 60,
          "metadata": {},
          "output_type": "execute_result"
        },
        {
          "data": {
            "image/png": "[encoded data removed]",
            "text/plain": [
              "<Figure size 432x288 with 1 Axes>"
            ]
          },
          "metadata": {
            "needs_background": "light"
          },
          "output_type": "display_data"
        }
      ],
      "source": [
        "fp = dm.to_fp(mol_coffeine, fp_type='ecfp')  # dm.list_supported_fingerprints() lists the available options\n",
        "print(\"Number of elements: \", fp.size)\n",
        "print(\"Types of entries: \", set(list(fp)))\n",
        "print(\"Number of Ones: \", np.count_nonzero(fp))\n",
        "#plt.scatter(range(fp.size), list(fp))\n",
        "plt.vlines([i for i in range(fp.size) if fp[i]>0.5], ymin=0, ymax=1)\n",
        "plt.vlines(fp.size, ymin=0, ymax=0) # dummy to calibrate scale"
      ]
    },
    {
      "cell_type": "code",
      "execution_count": 62,
      "metadata": {
        "colab": {
          "base_uri": "https://localhost:8080/",
          "height": 334
        },
        "id": "vLNJZKv31L4k",
        "outputId": "0eb36a6a-5845-4b37-c907-6d102671b5a1"
      },
      "outputs": [
        {
          "name": "stdout",
          "output_type": "stream",
          "text": [
            "Number of elements:  2048\n",
            "Types of entries:  {0, 1}\n",
            "Number of Ones:  759\n"
          ]
        },
        {
          "data": {
            "text/plain": [
              "<matplotlib.collections.LineCollection at 0x7f600ed623a0>"
            ]
          },
          "execution_count": 62,
          "metadata": {},
          "output_type": "execute_result"
        },
        {
          "data": {
            "image/png": "[encoded data removed]",
            "text/plain": [
              "<Figure size 432x288 with 1 Axes>"
            ]
          },
          "metadata": {
            "needs_background": "light"
          },
          "output_type": "display_data"
        }
      ],
      "source": [
        "# The \"rdkit\" fingerprint is less sparse than ECFP\n",
        "fp = dm.to_fp(mol_coffeine, fp_type='rdkit') \n",
        "print(\"Number of elements: \", fp.size)\n",
        "print(\"Types of entries: \", set(list(fp)))\n",
        "print(\"Number of Ones: \", np.count_nonzero(fp))\n",
        "#plt.scatter(range(fp.size), list(fp))\n",
        "plt.vlines([i for i in range(fp.size) if fp[i]>0.5], ymin=0, ymax=1)\n",
        "plt.vlines(fp.size, ymin=0, ymax=0) # dummy to calibrate scale"
      ]
    },
    {
      "cell_type": "markdown",
      "metadata": {
        "id": "--KTcOiT337k"
      },
      "source": [
        "## Discussion\n",
        "\n"
      ]
    },
    {
      "cell_type": "markdown",
      "metadata": {
        "id": "Gx8Zi7Xk356I"
      },
      "source": [
        "We have discussed different methods for molecular representations:\n",
        "\n",
        "*   A molecule is a bag of atoms (molecular formula).\n",
        "*   A molecule is a labeled graph (molecular graphs).\n",
        "*   A molecule is a graph, equipped with some 3D information (point clouds).\n",
        "*   A molecule is a manipulable 3D object, e.g., with rotational bonds (conformers).\n",
        "\n",
        "We have also learned that inter-molecular forces are typically only explicitly represented when they lead to a chemical bond (and sometimes not even then). Other forces might be implicitly be represented in the 3D configuration. \n",
        "\n",
        "We have not discussed methods that only consider the surface area of a molecule."
      ]
    },
    {
      "cell_type": "markdown",
      "metadata": {
        "id": "SUDIAFAD37yM"
      },
      "source": [
        "## Quiz"
      ]
    },
    {
      "cell_type": "markdown",
      "metadata": {
        "id": "-2BT8OPJRS-M"
      },
      "source": [
        "TODO"
      ]
    }
  ],
  "metadata": {
    "colab": {
      "provenance": [],
      "toc_visible": true
    },
    "kernelspec": {
      "display_name": "Python 3",
      "name": "python3"
    },
    "language_info": {
      "name": "python"
    },
    "widgets": {
      "application/vnd.jupyter.widget-state+json": {
        "0d6c757d3aee4f198c31bc2fda0f1c9a": {
          "model_module": "@jupyter-widgets/controls",
          "model_module_version": "1.5.0",
          "model_name": "DescriptionStyleModel",
          "state": {
            "_model_module": "@jupyter-widgets/controls",
            "_model_module_version": "1.5.0",
            "_model_name": "DescriptionStyleModel",
            "_view_count": null,
            "_view_module": "@jupyter-widgets/base",
            "_view_module_version": "1.2.0",
            "_view_name": "StyleView",
            "description_width": ""
          }
        },
        "644e42602bb24388884fdf7ae60d9abc": {
          "model_module": "@jupyter-widgets/controls",
          "model_module_version": "1.5.0",
          "model_name": "SliderStyleModel",
          "state": {
            "_model_module": "@jupyter-widgets/controls",
            "_model_module_version": "1.5.0",
            "_model_name": "SliderStyleModel",
            "_view_count": null,
            "_view_module": "@jupyter-widgets/base",
            "_view_module_version": "1.2.0",
            "_view_name": "StyleView",
            "description_width": "",
            "handle_color": null
          }
        },
        "8e69ff6fdaa246ec825abbb4686f1840": {
          "model_module": "@jupyter-widgets/controls",
          "model_module_version": "1.5.0",
          "model_name": "PlayModel",
          "state": {
            "_dom_classes": [],
            "_model_module": "@jupyter-widgets/controls",
            "_model_module_version": "1.5.0",
            "_model_name": "PlayModel",
            "_playing": false,
            "_repeat": false,
            "_view_count": null,
            "_view_module": "@jupyter-widgets/controls",
            "_view_module_version": "1.5.0",
            "_view_name": "PlayView",
            "description": "",
            "description_tooltip": null,
            "disabled": false,
            "interval": 100,
            "layout": "IPY_MODEL_b74f4520044d4e6097a9b3d0a4928607",
            "max": 0,
            "min": 0,
            "show_repeat": true,
            "step": 1,
            "style": "IPY_MODEL_0d6c757d3aee4f198c31bc2fda0f1c9a",
            "value": 0
          }
        },
        "9d01434780bb45f792aaf91fac4deec5": {
          "model_module": "nglview-js-widgets",
          "model_module_version": "3.0.1",
          "model_name": "NGLModel",
          "state": {
            "_camera_orientation": [],
            "_camera_str": "orthographic",
            "_dom_classes": [],
            "_gui_theme": null,
            "_ibtn_fullscreen": "IPY_MODEL_293f0a36788f4c0ea7602e501b62d565",
            "_igui": null,
            "_iplayer": "IPY_MODEL_5785eeda686d48a4b3b87f7f69b6d316",
            "_model_module": "nglview-js-widgets",
            "_model_module_version": "3.0.1",
            "_model_name": "NGLModel",
            "_ngl_color_dict": {},
            "_ngl_coordinate_resource": {},
            "_ngl_full_stage_parameters": {},
            "_ngl_msg_archive": [
              {
                "args": [
                  {
                    "binary": false,
                    "data": "MODEL        1\nHETATM    1  C1  UNL     1       7.626   0.674   0.734  1.00  0.00           C  \nHETATM    2  O1  UNL     1       6.951  -0.527   0.994  1.00  0.00           O  \nHETATM    3  C2  UNL     1       5.668  -0.710   0.508  1.00  0.00           C  \nHETATM    4  C3  UNL     1       5.068  -1.911   0.814  1.00  0.00           C  \nHETATM    5  C4  UNL     1       3.773  -2.172   0.363  1.00  0.00           C  \nHETATM    6  C5  UNL     1       3.155  -1.211  -0.369  1.00  0.00           C  \nHETATM    7  C6  UNL     1       1.739  -1.391  -0.846  1.00  0.00           C  \nHETATM    8  O2  UNL     1       1.684  -1.462  -2.226  1.00  0.00           O  \nHETATM    9  C7  UNL     1       1.086  -0.056  -0.437  1.00  0.00           C  \nHETATM   10  C8  UNL     1       1.576   0.952  -1.420  1.00  0.00           C  \nHETATM   11  O3  UNL     1       3.019   0.936  -1.451  1.00  0.00           O  \nHETATM   12  C9  UNL     1       3.731  -0.010  -0.686  1.00  0.00           C  \nHETATM   13  C10 UNL     1       5.012   0.221  -0.228  1.00  0.00           C  \nHETATM   14  N1  UNL     1      -0.334  -0.193  -0.447  1.00  0.00           N  \nHETATM   15  C11 UNL     1      -0.985   1.043  -0.855  1.00  0.00           C  \nHETATM   16  C12 UNL     1      -2.469   0.879  -0.859  1.00  0.00           C  \nHETATM   17  C13 UNL     1      -2.992   0.445   0.500  1.00  0.00           C  \nHETATM   18  O4  UNL     1      -2.690   1.338   1.499  1.00  0.00           O  \nHETATM   19  C14 UNL     1      -2.302  -0.876   0.781  1.00  0.00           C  \nHETATM   20  C15 UNL     1      -0.824  -0.579   0.875  1.00  0.00           C  \nHETATM   21  C16 UNL     1      -4.452   0.300   0.415  1.00  0.00           C  \nHETATM   22  C17 UNL     1      -5.127  -0.874   0.681  1.00  0.00           C  \nHETATM   23  C18 UNL     1      -6.501  -0.903   0.573  1.00  0.00           C  \nHETATM   24  C19 UNL     1      -7.201   0.228   0.204  1.00  0.00           C  \nHETATM   25  F1  UNL     1      -8.556   0.235   0.088  1.00  0.00           F  \nHETATM   26  C20 UNL     1      -6.554   1.420  -0.070  1.00  0.00           C  \nHETATM   27  C21 UNL     1      -5.177   1.415   0.047  1.00  0.00           C  \nHETATM   28  H1  UNL     1       8.212   0.564  -0.188  1.00  0.00           H  \nHETATM   29  H2  UNL     1       6.960   1.575   0.709  1.00  0.00           H  \nHETATM   30  H3  UNL     1       8.382   0.825   1.570  1.00  0.00           H  \nHETATM   31  H4  UNL     1       5.565  -2.678   1.397  1.00  0.00           H  \nHETATM   32  H5  UNL     1       3.307  -3.133   0.614  1.00  0.00           H  \nHETATM   33  H6  UNL     1       1.261  -2.260  -0.410  1.00  0.00           H  \nHETATM   34  H7  UNL     1       2.454  -1.963  -2.621  1.00  0.00           H  \nHETATM   35  H8  UNL     1       1.481   0.232   0.573  1.00  0.00           H  \nHETATM   36  H9  UNL     1       1.294   1.985  -1.202  1.00  0.00           H  \nHETATM   37  H10 UNL     1       1.223   0.694  -2.452  1.00  0.00           H  \nHETATM   38  H11 UNL     1       5.450   1.166  -0.487  1.00  0.00           H  \nHETATM   39  H12 UNL     1      -0.657   1.275  -1.889  1.00  0.00           H  \nHETATM   40  H13 UNL     1      -0.741   1.878  -0.141  1.00  0.00           H  \nHETATM   41  H14 UNL     1      -3.005   1.779  -1.180  1.00  0.00           H  \nHETATM   42  H15 UNL     1      -2.703   0.029  -1.561  1.00  0.00           H  \nHETATM   43  H16 UNL     1      -2.951   0.911   2.364  1.00  0.00           H  \nHETATM   44  H17 UNL     1      -2.687  -1.340   1.709  1.00  0.00           H  \nHETATM   45  H18 UNL     1      -2.444  -1.605  -0.039  1.00  0.00           H  \nHETATM   46  H19 UNL     1      -0.232  -1.410   1.294  1.00  0.00           H  \nHETATM   47  H20 UNL     1      -0.705   0.303   1.540  1.00  0.00           H  \nHETATM   48  H21 UNL     1      -4.541  -1.724   0.967  1.00  0.00           H  \nHETATM   49  H22 UNL     1      -7.045  -1.820   0.779  1.00  0.00           H  \nHETATM   50  H23 UNL     1      -7.129   2.296  -0.359  1.00  0.00           H  \nHETATM   51  H24 UNL     1      -4.674   2.359  -0.168  1.00  0.00           H  \nCONECT    1    2   28   29   30\nCONECT    2    3\nCONECT    3    4    4   13\nCONECT    4    5   31\nCONECT    5    6    6   32\nCONECT    6    7   12\nCONECT    7    8    9   33\nCONECT    8   34\nCONECT    9   10   14   35\nCONECT   10   11   36   37\nCONECT   11   12\nCONECT   12   13   13\nCONECT   13   38\nCONECT   14   15   20\nCONECT   15   16   39   40\nCONECT   16   17   41   42\nCONECT   17   18   19   21\nCONECT   18   43\nCONECT   19   20   44   45\nCONECT   20   46   47\nCONECT   21   22   22   27\nCONECT   22   23   48\nCONECT   23   24   24   49\nCONECT   24   25   26\nCONECT   26   27   27   50\nCONECT   27   51\nENDMDL\nMODEL        2\nHETATM    1  C1  UNL     1       6.845   1.899  -0.656  1.00  0.00           C  \nHETATM    2  O1  UNL     1       6.443   0.637  -1.117  1.00  0.00           O  \nHETATM    3  C2  UNL     1       5.290  -0.001  -0.671  1.00  0.00           C  \nHETATM    4  C3  UNL     1       4.960  -1.244  -1.171  1.00  0.00           C  \nHETATM    5  C4  UNL     1       3.803  -1.901  -0.734  1.00  0.00           C  \nHETATM    6  C5  UNL     1       2.977  -1.326   0.197  1.00  0.00           C  \nHETATM    7  C6  UNL     1       1.768  -2.063   0.626  1.00  0.00           C  \nHETATM    8  O2  UNL     1       1.253  -2.894  -0.338  1.00  0.00           O  \nHETATM    9  C7  UNL     1       0.716  -1.105   1.202  1.00  0.00           C  \nHETATM   10  C8  UNL     1       1.399  -0.233   2.187  1.00  0.00           C  \nHETATM   11  O3  UNL     1       2.475   0.522   1.648  1.00  0.00           O  \nHETATM   12  C9  UNL     1       3.300  -0.086   0.699  1.00  0.00           C  \nHETATM   13  C10 UNL     1       4.435   0.557   0.270  1.00  0.00           C  \nHETATM   14  N1  UNL     1      -0.053  -0.488   0.213  1.00  0.00           N  \nHETATM   15  C11 UNL     1      -0.866  -1.293  -0.620  1.00  0.00           C  \nHETATM   16  C12 UNL     1      -2.147  -0.606  -1.086  1.00  0.00           C  \nHETATM   17  C13 UNL     1      -2.804  -0.022   0.121  1.00  0.00           C  \nHETATM   18  O4  UNL     1      -2.971  -1.025   1.075  1.00  0.00           O  \nHETATM   19  C14 UNL     1      -1.897   1.083   0.645  1.00  0.00           C  \nHETATM   20  C15 UNL     1      -0.455   0.850   0.341  1.00  0.00           C  \nHETATM   21  C16 UNL     1      -4.113   0.598  -0.159  1.00  0.00           C  \nHETATM   22  C17 UNL     1      -5.048   0.717   0.840  1.00  0.00           C  \nHETATM   23  C18 UNL     1      -6.296   1.300   0.604  1.00  0.00           C  \nHETATM   24  C19 UNL     1      -6.592   1.765  -0.661  1.00  0.00           C  \nHETATM   25  F1  UNL     1      -7.817   2.339  -0.907  1.00  0.00           F  \nHETATM   26  C20 UNL     1      -5.676   1.656  -1.668  1.00  0.00           C  \nHETATM   27  C21 UNL     1      -4.431   1.069  -1.413  1.00  0.00           C  \nHETATM   28  H1  UNL     1       7.732   2.207  -1.283  1.00  0.00           H  \nHETATM   29  H2  UNL     1       7.201   1.855   0.405  1.00  0.00           H  \nHETATM   30  H3  UNL     1       6.052   2.668  -0.754  1.00  0.00           H  \nHETATM   31  H4  UNL     1       5.601  -1.709  -1.903  1.00  0.00           H  \nHETATM   32  H5  UNL     1       3.612  -2.868  -1.171  1.00  0.00           H  \nHETATM   33  H6  UNL     1       2.098  -2.675   1.516  1.00  0.00           H  \nHETATM   34  H7  UNL     1       1.862  -3.697  -0.386  1.00  0.00           H  \nHETATM   35  H8  UNL     1       0.042  -1.789   1.799  1.00  0.00           H  \nHETATM   36  H9  UNL     1       1.879  -0.911   2.955  1.00  0.00           H  \nHETATM   37  H10 UNL     1       0.743   0.433   2.762  1.00  0.00           H  \nHETATM   38  H11 UNL     1       4.670   1.519   0.672  1.00  0.00           H  \nHETATM   39  H12 UNL     1      -1.191  -2.243  -0.135  1.00  0.00           H  \nHETATM   40  H13 UNL     1      -0.297  -1.626  -1.533  1.00  0.00           H  \nHETATM   41  H14 UNL     1      -1.928   0.153  -1.861  1.00  0.00           H  \nHETATM   42  H15 UNL     1      -2.748  -1.394  -1.582  1.00  0.00           H  \nHETATM   43  H16 UNL     1      -3.859  -1.447   0.908  1.00  0.00           H  \nHETATM   44  H17 UNL     1      -2.192   2.056   0.201  1.00  0.00           H  \nHETATM   45  H18 UNL     1      -2.118   1.169   1.725  1.00  0.00           H  \nHETATM   46  H19 UNL     1      -0.238   1.364  -0.642  1.00  0.00           H  \nHETATM   47  H20 UNL     1       0.139   1.417   1.083  1.00  0.00           H  \nHETATM   48  H21 UNL     1      -4.851   0.365   1.842  1.00  0.00           H  \nHETATM   49  H22 UNL     1      -7.055   1.413   1.361  1.00  0.00           H  \nHETATM   50  H23 UNL     1      -5.912   2.022  -2.653  1.00  0.00           H  \nHETATM   51  H24 UNL     1      -3.742   1.009  -2.246  1.00  0.00           H  \nCONECT    1    2   28   29   30\nCONECT    2    3\nCONECT    3    4    4   13\nCONECT    4    5   31\nCONECT    5    6    6   32\nCONECT    6    7   12\nCONECT    7    8    9   33\nCONECT    8   34\nCONECT    9   10   14   35\nCONECT   10   11   36   37\nCONECT   11   12\nCONECT   12   13   13\nCONECT   13   38\nCONECT   14   15   20\nCONECT   15   16   39   40\nCONECT   16   17   41   42\nCONECT   17   18   19   21\nCONECT   18   43\nCONECT   19   20   44   45\nCONECT   20   46   47\nCONECT   21   22   22   27\nCONECT   22   23   48\nCONECT   23   24   24   49\nCONECT   24   25   26\nCONECT   26   27   27   50\nCONECT   27   51\nENDMDL\nMODEL        3\nHETATM    1  C1  UNL     1       8.184  -1.162   0.459  1.00  0.00           C  \nHETATM    2  O1  UNL     1       7.198  -0.713  -0.376  1.00  0.00           O  \nHETATM    3  C2  UNL     1       5.900  -0.418  -0.063  1.00  0.00           C  \nHETATM    4  C3  UNL     1       5.373  -0.509   1.206  1.00  0.00           C  \nHETATM    5  C4  UNL     1       4.037  -0.201   1.451  1.00  0.00           C  \nHETATM    6  C5  UNL     1       3.196   0.199   0.458  1.00  0.00           C  \nHETATM    7  C6  UNL     1       1.766   0.564   0.698  1.00  0.00           C  \nHETATM    8  O2  UNL     1       1.222  -0.285   1.679  1.00  0.00           O  \nHETATM    9  C7  UNL     1       0.910   0.555  -0.508  1.00  0.00           C  \nHETATM   10  C8  UNL     1       1.554   0.073  -1.785  1.00  0.00           C  \nHETATM   11  O3  UNL     1       2.846   0.688  -1.810  1.00  0.00           O  \nHETATM   12  C9  UNL     1       3.714   0.289  -0.808  1.00  0.00           C  \nHETATM   13  C10 UNL     1       5.050  -0.004  -1.106  1.00  0.00           C  \nHETATM   14  N1  UNL     1      -0.442   0.303  -0.396  1.00  0.00           N  \nHETATM   15  C11 UNL     1      -1.336   1.280   0.140  1.00  0.00           C  \nHETATM   16  C12 UNL     1      -2.516   1.304  -0.883  1.00  0.00           C  \nHETATM   17  C13 UNL     1      -3.239   0.021  -0.674  1.00  0.00           C  \nHETATM   18  O4  UNL     1      -3.496  -0.548  -1.938  1.00  0.00           O  \nHETATM   19  C14 UNL     1      -2.419  -0.961   0.110  1.00  0.00           C  \nHETATM   20  C15 UNL     1      -0.947  -1.031  -0.316  1.00  0.00           C  \nHETATM   21  C16 UNL     1      -4.576   0.211  -0.048  1.00  0.00           C  \nHETATM   22  C17 UNL     1      -4.942   1.392   0.528  1.00  0.00           C  \nHETATM   23  C18 UNL     1      -6.205   1.563   1.086  1.00  0.00           C  \nHETATM   24  C19 UNL     1      -7.099   0.540   1.060  1.00  0.00           C  \nHETATM   25  F1  UNL     1      -8.310   0.762   1.618  1.00  0.00           F  \nHETATM   26  C20 UNL     1      -6.740  -0.658   0.479  1.00  0.00           C  \nHETATM   27  C21 UNL     1      -5.482  -0.840  -0.079  1.00  0.00           C  \nHETATM   28  H1  UNL     1       8.891  -1.832  -0.092  1.00  0.00           H  \nHETATM   29  H2  UNL     1       8.753  -0.309   0.939  1.00  0.00           H  \nHETATM   30  H3  UNL     1       7.728  -1.738   1.283  1.00  0.00           H  \nHETATM   31  H4  UNL     1       6.032  -0.844   2.044  1.00  0.00           H  \nHETATM   32  H5  UNL     1       3.699  -0.282   2.475  1.00  0.00           H  \nHETATM   33  H6  UNL     1       1.803   1.564   1.236  1.00  0.00           H  \nHETATM   34  H7  UNL     1       1.836  -1.035   1.927  1.00  0.00           H  \nHETATM   35  H8  UNL     1       0.896   1.741  -0.762  1.00  0.00           H  \nHETATM   36  H9  UNL     1       1.003   0.539  -2.639  1.00  0.00           H  \nHETATM   37  H10 UNL     1       1.651  -0.989  -1.920  1.00  0.00           H  \nHETATM   38  H11 UNL     1       5.425   0.078  -2.096  1.00  0.00           H  \nHETATM   39  H12 UNL     1      -0.886   2.258   0.262  1.00  0.00           H  \nHETATM   40  H13 UNL     1      -1.770   0.925   1.081  1.00  0.00           H  \nHETATM   41  H14 UNL     1      -1.979   1.224  -1.889  1.00  0.00           H  \nHETATM   42  H15 UNL     1      -3.046   2.217  -0.922  1.00  0.00           H  \nHETATM   43  H16 UNL     1      -3.082  -1.416  -2.045  1.00  0.00           H  \nHETATM   44  H17 UNL     1      -2.559  -0.895   1.185  1.00  0.00           H  \nHETATM   45  H18 UNL     1      -2.832  -1.984  -0.175  1.00  0.00           H  \nHETATM   46  H19 UNL     1      -0.449  -1.546   0.555  1.00  0.00           H  \nHETATM   47  H20 UNL     1      -0.918  -1.611  -1.243  1.00  0.00           H  \nHETATM   48  H21 UNL     1      -4.253   2.230   0.579  1.00  0.00           H  \nHETATM   49  H22 UNL     1      -6.423   2.528   1.527  1.00  0.00           H  \nHETATM   50  H23 UNL     1      -7.476  -1.438   0.479  1.00  0.00           H  \nHETATM   51  H24 UNL     1      -5.246  -1.795  -0.528  1.00  0.00           H  \nCONECT    1    2   28   29   30\nCONECT    2    3\nCONECT    3    4    4   13\nCONECT    4    5   31\nCONECT    5    6    6   32\nCONECT    6    7   12\nCONECT    7    8    9   33\nCONECT    8   34\nCONECT    9   10   14   35\nCONECT   10   11   36   37\nCONECT   11   12\nCONECT   12   13   13\nCONECT   13   38\nCONECT   14   15   20\nCONECT   15   16   39   40\nCONECT   16   17   41   42\nCONECT   17   18   19   21\nCONECT   18   43\nCONECT   19   20   44   45\nCONECT   20   46   47\nCONECT   21   22   22   27\nCONECT   22   23   48\nCONECT   23   24   24   49\nCONECT   24   25   26\nCONECT   26   27   27   50\nCONECT   27   51\nENDMDL\nMODEL        4\nHETATM    1  C1  UNL     1       7.492   1.671  -0.620  1.00  0.00           C  \nHETATM    2  O1  UNL     1       6.366   1.578   0.194  1.00  0.00           O  \nHETATM    3  C2  UNL     1       5.263   0.772   0.024  1.00  0.00           C  \nHETATM    4  C3  UNL     1       5.139  -0.084  -1.034  1.00  0.00           C  \nHETATM    5  C4  UNL     1       3.998  -0.868  -1.143  1.00  0.00           C  \nHETATM    6  C5  UNL     1       2.989  -0.805  -0.216  1.00  0.00           C  \nHETATM    7  C6  UNL     1       1.778  -1.620  -0.372  1.00  0.00           C  \nHETATM    8  O2  UNL     1       1.343  -1.712  -1.702  1.00  0.00           O  \nHETATM    9  C7  UNL     1       0.667  -1.276   0.566  1.00  0.00           C  \nHETATM   10  C8  UNL     1       1.346  -1.137   1.955  1.00  0.00           C  \nHETATM   11  O3  UNL     1       2.063   0.114   1.813  1.00  0.00           O  \nHETATM   12  C9  UNL     1       3.109   0.052   0.850  1.00  0.00           C  \nHETATM   13  C10 UNL     1       4.244   0.829   0.955  1.00  0.00           C  \nHETATM   14  N1  UNL     1       0.018  -0.042   0.379  1.00  0.00           N  \nHETATM   15  C11 UNL     1      -0.669   0.227  -0.833  1.00  0.00           C  \nHETATM   16  C12 UNL     1      -1.991  -0.501  -1.011  1.00  0.00           C  \nHETATM   17  C13 UNL     1      -2.886  -0.287   0.156  1.00  0.00           C  \nHETATM   18  O4  UNL     1      -2.935  -1.502   0.856  1.00  0.00           O  \nHETATM   19  C14 UNL     1      -2.209   0.700   1.114  1.00  0.00           C  \nHETATM   20  C15 UNL     1      -0.893   0.134   1.503  1.00  0.00           C  \nHETATM   21  C16 UNL     1      -4.228   0.222  -0.137  1.00  0.00           C  \nHETATM   22  C17 UNL     1      -5.355  -0.525   0.089  1.00  0.00           C  \nHETATM   23  C18 UNL     1      -6.619  -0.016  -0.155  1.00  0.00           C  \nHETATM   24  C19 UNL     1      -6.771   1.280  -0.643  1.00  0.00           C  \nHETATM   25  F1  UNL     1      -8.017   1.744  -0.847  1.00  0.00           F  \nHETATM   26  C20 UNL     1      -5.648   2.044  -0.878  1.00  0.00           C  \nHETATM   27  C21 UNL     1      -4.391   1.498  -0.620  1.00  0.00           C  \nHETATM   28  H1  UNL     1       7.476   2.585  -1.220  1.00  0.00           H  \nHETATM   29  H2  UNL     1       8.383   1.741   0.079  1.00  0.00           H  \nHETATM   30  H3  UNL     1       7.696   0.756  -1.238  1.00  0.00           H  \nHETATM   31  H4  UNL     1       5.924  -0.155  -1.795  1.00  0.00           H  \nHETATM   32  H5  UNL     1       3.967  -1.525  -2.021  1.00  0.00           H  \nHETATM   33  H6  UNL     1       2.096  -2.672  -0.120  1.00  0.00           H  \nHETATM   34  H7  UNL     1       1.494  -2.591  -2.108  1.00  0.00           H  \nHETATM   35  H8  UNL     1       0.005  -2.162   0.686  1.00  0.00           H  \nHETATM   36  H9  UNL     1       2.106  -1.906   2.114  1.00  0.00           H  \nHETATM   37  H10 UNL     1       0.649  -1.008   2.770  1.00  0.00           H  \nHETATM   38  H11 UNL     1       4.300   1.522   1.803  1.00  0.00           H  \nHETATM   39  H12 UNL     1      -0.943   1.334  -0.812  1.00  0.00           H  \nHETATM   40  H13 UNL     1      -0.050   0.155  -1.738  1.00  0.00           H  \nHETATM   41  H14 UNL     1      -2.482  -0.058  -1.915  1.00  0.00           H  \nHETATM   42  H15 UNL     1      -1.795  -1.577  -1.240  1.00  0.00           H  \nHETATM   43  H16 UNL     1      -3.320  -2.165   0.211  1.00  0.00           H  \nHETATM   44  H17 UNL     1      -2.234   1.731   0.779  1.00  0.00           H  \nHETATM   45  H18 UNL     1      -2.874   0.659   2.031  1.00  0.00           H  \nHETATM   46  H19 UNL     1      -1.133  -0.866   1.977  1.00  0.00           H  \nHETATM   47  H20 UNL     1      -0.371   0.702   2.306  1.00  0.00           H  \nHETATM   48  H21 UNL     1      -5.306  -1.541   0.473  1.00  0.00           H  \nHETATM   49  H22 UNL     1      -7.492  -0.642   0.028  1.00  0.00           H  \nHETATM   50  H23 UNL     1      -5.769   3.049  -1.259  1.00  0.00           H  \nHETATM   51  H24 UNL     1      -3.534   2.140  -0.821  1.00  0.00           H  \nCONECT    1    2   28   29   30\nCONECT    2    3\nCONECT    3    4    4   13\nCONECT    4    5   31\nCONECT    5    6    6   32\nCONECT    6    7   12\nCONECT    7    8    9   33\nCONECT    8   34\nCONECT    9   10   14   35\nCONECT   10   11   36   37\nCONECT   11   12\nCONECT   12   13   13\nCONECT   13   38\nCONECT   14   15   20\nCONECT   15   16   39   40\nCONECT   16   17   41   42\nCONECT   17   18   19   21\nCONECT   18   43\nCONECT   19   20   44   45\nCONECT   20   46   47\nCONECT   21   22   22   27\nCONECT   22   23   48\nCONECT   23   24   24   49\nCONECT   24   25   26\nCONECT   26   27   27   50\nCONECT   27   51\nENDMDL\nMODEL        5\nHETATM    1  C1  UNL     1      -8.326  -0.284  -0.860  1.00  0.00           C  \nHETATM    2  O1  UNL     1      -7.263  -0.189   0.013  1.00  0.00           O  \nHETATM    3  C2  UNL     1      -5.920  -0.225  -0.240  1.00  0.00           C  \nHETATM    4  C3  UNL     1      -5.392  -0.371  -1.495  1.00  0.00           C  \nHETATM    5  C4  UNL     1      -4.018  -0.397  -1.637  1.00  0.00           C  \nHETATM    6  C5  UNL     1      -3.152  -0.278  -0.537  1.00  0.00           C  \nHETATM    7  C6  UNL     1      -1.662  -0.296  -0.776  1.00  0.00           C  \nHETATM    8  O2  UNL     1      -1.278  -1.591  -1.054  1.00  0.00           O  \nHETATM    9  C7  UNL     1      -0.971   0.236   0.462  1.00  0.00           C  \nHETATM   10  C8  UNL     1      -1.515  -0.543   1.621  1.00  0.00           C  \nHETATM   11  O3  UNL     1      -2.843  -0.012   1.828  1.00  0.00           O  \nHETATM   12  C9  UNL     1      -3.680  -0.130   0.718  1.00  0.00           C  \nHETATM   13  C10 UNL     1      -5.056  -0.107   0.846  1.00  0.00           C  \nHETATM   14  N1  UNL     1       0.442   0.145   0.347  1.00  0.00           N  \nHETATM   15  C11 UNL     1       1.160   0.653   1.480  1.00  0.00           C  \nHETATM   16  C12 UNL     1       2.559   0.025   1.406  1.00  0.00           C  \nHETATM   17  C13 UNL     1       3.252   0.774   0.264  1.00  0.00           C  \nHETATM   18  O4  UNL     1       3.315   2.102   0.669  1.00  0.00           O  \nHETATM   19  C14 UNL     1       2.440   0.625  -0.987  1.00  0.00           C  \nHETATM   20  C15 UNL     1       0.962   0.872  -0.797  1.00  0.00           C  \nHETATM   21  C16 UNL     1       4.587   0.177   0.110  1.00  0.00           C  \nHETATM   22  C17 UNL     1       5.394   0.085   1.251  1.00  0.00           C  \nHETATM   23  C18 UNL     1       6.661  -0.461   1.208  1.00  0.00           C  \nHETATM   24  C19 UNL     1       7.182  -0.939   0.031  1.00  0.00           C  \nHETATM   25  F1  UNL     1       8.420  -1.465   0.029  1.00  0.00           F  \nHETATM   26  C20 UNL     1       6.394  -0.853  -1.095  1.00  0.00           C  \nHETATM   27  C21 UNL     1       5.113  -0.300  -1.053  1.00  0.00           C  \nHETATM   28  H1  UNL     1      -8.898   0.677  -0.930  1.00  0.00           H  \nHETATM   29  H2  UNL     1      -7.956  -0.473  -1.884  1.00  0.00           H  \nHETATM   30  H3  UNL     1      -9.022  -1.097  -0.527  1.00  0.00           H  \nHETATM   31  H4  UNL     1      -6.021  -0.467  -2.390  1.00  0.00           H  \nHETATM   32  H5  UNL     1      -3.591  -0.515  -2.637  1.00  0.00           H  \nHETATM   33  H6  UNL     1      -1.503   0.359  -1.668  1.00  0.00           H  \nHETATM   34  H7  UNL     1      -1.898  -2.074  -1.640  1.00  0.00           H  \nHETATM   35  H8  UNL     1      -1.279   1.324   0.555  1.00  0.00           H  \nHETATM   36  H9  UNL     1      -0.938  -0.541   2.536  1.00  0.00           H  \nHETATM   37  H10 UNL     1      -1.670  -1.596   1.254  1.00  0.00           H  \nHETATM   38  H11 UNL     1      -5.429   0.016   1.865  1.00  0.00           H  \nHETATM   39  H12 UNL     1       1.337   1.761   1.314  1.00  0.00           H  \nHETATM   40  H13 UNL     1       0.710   0.528   2.457  1.00  0.00           H  \nHETATM   41  H14 UNL     1       2.448  -1.017   1.080  1.00  0.00           H  \nHETATM   42  H15 UNL     1       3.091   0.141   2.354  1.00  0.00           H  \nHETATM   43  H16 UNL     1       3.464   2.118   1.654  1.00  0.00           H  \nHETATM   44  H17 UNL     1       2.806   1.380  -1.705  1.00  0.00           H  \nHETATM   45  H18 UNL     1       2.598  -0.373  -1.453  1.00  0.00           H  \nHETATM   46  H19 UNL     1       0.791   1.951  -0.570  1.00  0.00           H  \nHETATM   47  H20 UNL     1       0.483   0.582  -1.751  1.00  0.00           H  \nHETATM   48  H21 UNL     1       5.075   0.433   2.225  1.00  0.00           H  \nHETATM   49  H22 UNL     1       7.271  -0.524   2.097  1.00  0.00           H  \nHETATM   50  H23 UNL     1       6.783  -1.226  -2.035  1.00  0.00           H  \nHETATM   51  H24 UNL     1       4.541  -0.252  -1.951  1.00  0.00           H  \nCONECT    1    2   28   29   30\nCONECT    2    3\nCONECT    3    4    4   13\nCONECT    4    5   31\nCONECT    5    6    6   32\nCONECT    6    7   12\nCONECT    7    8    9   33\nCONECT    8   34\nCONECT    9   10   14   35\nCONECT   10   11   36   37\nCONECT   11   12\nCONECT   12   13   13\nCONECT   13   38\nCONECT   14   15   20\nCONECT   15   16   39   40\nCONECT   16   17   41   42\nCONECT   17   18   19   21\nCONECT   18   43\nCONECT   19   20   44   45\nCONECT   20   46   47\nCONECT   21   22   22   27\nCONECT   22   23   48\nCONECT   23   24   24   49\nCONECT   24   25   26\nCONECT   26   27   27   50\nCONECT   27   51\nENDMDL\nMODEL        6\nHETATM    1  C1  UNL     1       8.183   0.968  -0.284  1.00  0.00           C  \nHETATM    2  O1  UNL     1       7.347   0.009   0.366  1.00  0.00           O  \nHETATM    3  C2  UNL     1       5.979   0.133   0.229  1.00  0.00           C  \nHETATM    4  C3  UNL     1       5.426   1.158  -0.531  1.00  0.00           C  \nHETATM    5  C4  UNL     1       4.069   1.270  -0.656  1.00  0.00           C  \nHETATM    6  C5  UNL     1       3.218   0.358  -0.024  1.00  0.00           C  \nHETATM    7  C6  UNL     1       1.768   0.544  -0.167  1.00  0.00           C  \nHETATM    8  O2  UNL     1       1.480   1.653   0.678  1.00  0.00           O  \nHETATM    9  C7  UNL     1       1.003  -0.661   0.182  1.00  0.00           C  \nHETATM   10  C8  UNL     1       1.549  -1.313   1.426  1.00  0.00           C  \nHETATM   11  O3  UNL     1       2.949  -1.531   1.331  1.00  0.00           O  \nHETATM   12  C9  UNL     1       3.779  -0.618   0.699  1.00  0.00           C  \nHETATM   13  C10 UNL     1       5.155  -0.786   0.865  1.00  0.00           C  \nHETATM   14  N1  UNL     1      -0.416  -0.499   0.391  1.00  0.00           N  \nHETATM   15  C11 UNL     1      -1.111  -1.623  -0.214  1.00  0.00           C  \nHETATM   16  C12 UNL     1      -2.572  -1.522   0.261  1.00  0.00           C  \nHETATM   17  C13 UNL     1      -3.160  -0.388  -0.537  1.00  0.00           C  \nHETATM   18  O4  UNL     1      -3.084  -0.784  -1.884  1.00  0.00           O  \nHETATM   19  C14 UNL     1      -2.378   0.846  -0.318  1.00  0.00           C  \nHETATM   20  C15 UNL     1      -0.936   0.763  -0.048  1.00  0.00           C  \nHETATM   21  C16 UNL     1      -4.576  -0.116  -0.170  1.00  0.00           C  \nHETATM   22  C17 UNL     1      -5.441   0.447  -1.082  1.00  0.00           C  \nHETATM   23  C18 UNL     1      -6.764   0.709  -0.753  1.00  0.00           C  \nHETATM   24  C19 UNL     1      -7.238   0.407   0.496  1.00  0.00           C  \nHETATM   25  F1  UNL     1      -8.530   0.657   0.833  1.00  0.00           F  \nHETATM   26  C20 UNL     1      -6.386  -0.157   1.421  1.00  0.00           C  \nHETATM   27  C21 UNL     1      -5.059  -0.411   1.069  1.00  0.00           C  \nHETATM   28  H1  UNL     1       8.072   0.851  -1.380  1.00  0.00           H  \nHETATM   29  H2  UNL     1       7.870   1.988  -0.012  1.00  0.00           H  \nHETATM   30  H3  UNL     1       9.229   0.743   0.008  1.00  0.00           H  \nHETATM   31  H4  UNL     1       6.101   1.856  -1.012  1.00  0.00           H  \nHETATM   32  H5  UNL     1       3.651   2.071  -1.245  1.00  0.00           H  \nHETATM   33  H6  UNL     1       1.622   0.869  -1.236  1.00  0.00           H  \nHETATM   34  H7  UNL     1       1.707   1.416   1.600  1.00  0.00           H  \nHETATM   35  H8  UNL     1       1.181  -1.409  -0.644  1.00  0.00           H  \nHETATM   36  H9  UNL     1       1.251  -0.701   2.291  1.00  0.00           H  \nHETATM   37  H10 UNL     1       1.006  -2.300   1.501  1.00  0.00           H  \nHETATM   38  H11 UNL     1       5.539  -1.594   1.460  1.00  0.00           H  \nHETATM   39  H12 UNL     1      -1.090  -1.634  -1.309  1.00  0.00           H  \nHETATM   40  H13 UNL     1      -0.711  -2.534   0.232  1.00  0.00           H  \nHETATM   41  H14 UNL     1      -2.522  -1.333   1.335  1.00  0.00           H  \nHETATM   42  H15 UNL     1      -3.099  -2.479   0.060  1.00  0.00           H  \nHETATM   43  H16 UNL     1      -3.712  -1.550  -2.021  1.00  0.00           H  \nHETATM   44  H17 UNL     1      -2.936   1.473   0.451  1.00  0.00           H  \nHETATM   45  H18 UNL     1      -2.528   1.477  -1.253  1.00  0.00           H  \nHETATM   46  H19 UNL     1      -0.365   1.176  -0.910  1.00  0.00           H  \nHETATM   47  H20 UNL     1      -0.744   1.487   0.807  1.00  0.00           H  \nHETATM   48  H21 UNL     1      -5.122   0.698  -2.071  1.00  0.00           H  \nHETATM   49  H22 UNL     1      -7.452   1.150  -1.465  1.00  0.00           H  \nHETATM   50  H23 UNL     1      -6.778  -0.385   2.398  1.00  0.00           H  \nHETATM   51  H24 UNL     1      -4.425  -0.847   1.809  1.00  0.00           H  \nCONECT    1    2   28   29   30\nCONECT    2    3\nCONECT    3    4    4   13\nCONECT    4    5   31\nCONECT    5    6    6   32\nCONECT    6    7   12\nCONECT    7    8    9   33\nCONECT    8   34\nCONECT    9   10   14   35\nCONECT   10   11   36   37\nCONECT   11   12\nCONECT   12   13   13\nCONECT   13   38\nCONECT   14   15   20\nCONECT   15   16   39   40\nCONECT   16   17   41   42\nCONECT   17   18   19   21\nCONECT   18   43\nCONECT   19   20   44   45\nCONECT   20   46   47\nCONECT   21   22   22   27\nCONECT   22   23   48\nCONECT   23   24   24   49\nCONECT   24   25   26\nCONECT   26   27   27   50\nCONECT   27   51\nENDMDL\nMODEL        7\nHETATM    1  C1  UNL     1       7.708   1.360   0.873  1.00  0.00           C  \nHETATM    2  O1  UNL     1       6.822   1.159  -0.194  1.00  0.00           O  \nHETATM    3  C2  UNL     1       5.577   0.583   0.013  1.00  0.00           C  \nHETATM    4  C3  UNL     1       5.136   0.182   1.250  1.00  0.00           C  \nHETATM    5  C4  UNL     1       3.875  -0.392   1.419  1.00  0.00           C  \nHETATM    6  C5  UNL     1       3.077  -0.549   0.309  1.00  0.00           C  \nHETATM    7  C6  UNL     1       1.744  -1.179   0.411  1.00  0.00           C  \nHETATM    8  O2  UNL     1       1.930  -2.519  -0.023  1.00  0.00           O  \nHETATM    9  C7  UNL     1       0.797  -0.448  -0.519  1.00  0.00           C  \nHETATM   10  C8  UNL     1       1.264  -0.493  -1.956  1.00  0.00           C  \nHETATM   11  O3  UNL     1       2.657  -0.337  -2.021  1.00  0.00           O  \nHETATM   12  C9  UNL     1       3.508  -0.153  -0.937  1.00  0.00           C  \nHETATM   13  C10 UNL     1       4.732   0.404  -1.092  1.00  0.00           C  \nHETATM   14  N1  UNL     1      -0.528  -1.005  -0.371  1.00  0.00           N  \nHETATM   15  C11 UNL     1      -1.481  -0.476  -1.329  1.00  0.00           C  \nHETATM   16  C12 UNL     1      -1.917   0.867  -0.811  1.00  0.00           C  \nHETATM   17  C13 UNL     1      -2.876   0.609   0.314  1.00  0.00           C  \nHETATM   18  O4  UNL     1      -2.911   1.774   1.122  1.00  0.00           O  \nHETATM   19  C14 UNL     1      -2.436  -0.577   1.104  1.00  0.00           C  \nHETATM   20  C15 UNL     1      -0.954  -0.844   0.980  1.00  0.00           C  \nHETATM   21  C16 UNL     1      -4.279   0.415  -0.120  1.00  0.00           C  \nHETATM   22  C17 UNL     1      -4.741   0.725  -1.373  1.00  0.00           C  \nHETATM   23  C18 UNL     1      -6.075   0.518  -1.701  1.00  0.00           C  \nHETATM   24  C19 UNL     1      -6.950   0.004  -0.781  1.00  0.00           C  \nHETATM   25  F1  UNL     1      -8.236  -0.180  -1.129  1.00  0.00           F  \nHETATM   26  C20 UNL     1      -6.474  -0.309   0.492  1.00  0.00           C  \nHETATM   27  C21 UNL     1      -5.148  -0.107   0.826  1.00  0.00           C  \nHETATM   28  H1  UNL     1       8.513   2.116   0.650  1.00  0.00           H  \nHETATM   29  H2  UNL     1       8.267   0.377   0.991  1.00  0.00           H  \nHETATM   30  H3  UNL     1       7.256   1.586   1.841  1.00  0.00           H  \nHETATM   31  H4  UNL     1       5.772   0.304   2.120  1.00  0.00           H  \nHETATM   32  H5  UNL     1       3.559  -0.697   2.419  1.00  0.00           H  \nHETATM   33  H6  UNL     1       1.324  -1.161   1.446  1.00  0.00           H  \nHETATM   34  H7  UNL     1       1.721  -2.609  -0.987  1.00  0.00           H  \nHETATM   35  H8  UNL     1       0.801   0.613  -0.220  1.00  0.00           H  \nHETATM   36  H9  UNL     1       0.940  -1.429  -2.467  1.00  0.00           H  \nHETATM   37  H10 UNL     1       0.844   0.429  -2.445  1.00  0.00           H  \nHETATM   38  H11 UNL     1       5.070   0.710  -2.069  1.00  0.00           H  \nHETATM   39  H12 UNL     1      -0.984  -0.390  -2.304  1.00  0.00           H  \nHETATM   40  H13 UNL     1      -2.309  -1.235  -1.372  1.00  0.00           H  \nHETATM   41  H14 UNL     1      -2.250   1.581  -1.550  1.00  0.00           H  \nHETATM   42  H15 UNL     1      -1.003   1.337  -0.319  1.00  0.00           H  \nHETATM   43  H16 UNL     1      -2.106   2.335   0.917  1.00  0.00           H  \nHETATM   44  H17 UNL     1      -3.040  -1.499   0.915  1.00  0.00           H  \nHETATM   45  H18 UNL     1      -2.624  -0.353   2.195  1.00  0.00           H  \nHETATM   46  H19 UNL     1      -0.387  -0.068   1.533  1.00  0.00           H  \nHETATM   47  H20 UNL     1      -0.778  -1.821   1.517  1.00  0.00           H  \nHETATM   48  H21 UNL     1      -4.074   1.124  -2.098  1.00  0.00           H  \nHETATM   49  H22 UNL     1      -6.382   0.780  -2.684  1.00  0.00           H  \nHETATM   50  H23 UNL     1      -7.166  -0.705   1.201  1.00  0.00           H  \nHETATM   51  H24 UNL     1      -4.786  -0.359   1.837  1.00  0.00           H  \nCONECT    1    2   28   29   30\nCONECT    2    3\nCONECT    3    4    4   13\nCONECT    4    5   31\nCONECT    5    6    6   32\nCONECT    6    7   12\nCONECT    7    8    9   33\nCONECT    8   34\nCONECT    9   10   14   35\nCONECT   10   11   36   37\nCONECT   11   12\nCONECT   12   13   13\nCONECT   13   38\nCONECT   14   15   20\nCONECT   15   16   39   40\nCONECT   16   17   41   42\nCONECT   17   18   19   21\nCONECT   18   43\nCONECT   19   20   44   45\nCONECT   20   46   47\nCONECT   21   22   22   27\nCONECT   22   23   48\nCONECT   23   24   24   49\nCONECT   24   25   26\nCONECT   26   27   27   50\nCONECT   27   51\nENDMDL\nMODEL        8\nHETATM    1  C1  UNL     1       7.012  -1.928  -1.264  1.00  0.00           C  \nHETATM    2  O1  UNL     1       6.315  -2.014  -0.042  1.00  0.00           O  \nHETATM    3  C2  UNL     1       5.222  -1.199   0.162  1.00  0.00           C  \nHETATM    4  C3  UNL     1       4.536  -1.266   1.355  1.00  0.00           C  \nHETATM    5  C4  UNL     1       3.435  -0.465   1.613  1.00  0.00           C  \nHETATM    6  C5  UNL     1       3.008   0.419   0.661  1.00  0.00           C  \nHETATM    7  C6  UNL     1       1.912   1.379   0.866  1.00  0.00           C  \nHETATM    8  O2  UNL     1       1.168   1.165   1.999  1.00  0.00           O  \nHETATM    9  C7  UNL     1       1.062   1.655  -0.323  1.00  0.00           C  \nHETATM   10  C8  UNL     1       1.773   1.512  -1.641  1.00  0.00           C  \nHETATM   11  O3  UNL     1       3.189   1.407  -1.458  1.00  0.00           O  \nHETATM   12  C9  UNL     1       3.701   0.486  -0.550  1.00  0.00           C  \nHETATM   13  C10 UNL     1       4.798  -0.308  -0.807  1.00  0.00           C  \nHETATM   14  N1  UNL     1      -0.208   1.041  -0.229  1.00  0.00           N  \nHETATM   15  C11 UNL     1      -0.353  -0.351  -0.260  1.00  0.00           C  \nHETATM   16  C12 UNL     1      -1.793  -0.789  -0.552  1.00  0.00           C  \nHETATM   17  C13 UNL     1      -2.761  -0.034   0.304  1.00  0.00           C  \nHETATM   18  O4  UNL     1      -2.533  -0.358   1.666  1.00  0.00           O  \nHETATM   19  C14 UNL     1      -2.537   1.460   0.204  1.00  0.00           C  \nHETATM   20  C15 UNL     1      -1.112   1.730   0.654  1.00  0.00           C  \nHETATM   21  C16 UNL     1      -4.153  -0.334  -0.022  1.00  0.00           C  \nHETATM   22  C17 UNL     1      -4.617  -1.645  -0.068  1.00  0.00           C  \nHETATM   23  C18 UNL     1      -5.943  -1.917  -0.375  1.00  0.00           C  \nHETATM   24  C19 UNL     1      -6.855  -0.909  -0.643  1.00  0.00           C  \nHETATM   25  F1  UNL     1      -8.159  -1.185  -0.939  1.00  0.00           F  \nHETATM   26  C20 UNL     1      -6.410   0.383  -0.600  1.00  0.00           C  \nHETATM   27  C21 UNL     1      -5.075   0.657  -0.294  1.00  0.00           C  \nHETATM   28  H1  UNL     1       7.896  -2.603  -1.300  1.00  0.00           H  \nHETATM   29  H2  UNL     1       6.285  -2.099  -2.078  1.00  0.00           H  \nHETATM   30  H3  UNL     1       7.463  -0.900  -1.409  1.00  0.00           H  \nHETATM   31  H4  UNL     1       4.866  -1.965   2.103  1.00  0.00           H  \nHETATM   32  H5  UNL     1       2.914  -0.532   2.564  1.00  0.00           H  \nHETATM   33  H6  UNL     1       2.430   2.421   1.088  1.00  0.00           H  \nHETATM   34  H7  UNL     1       1.156   0.258   2.303  1.00  0.00           H  \nHETATM   35  H8  UNL     1       0.814   2.780  -0.283  1.00  0.00           H  \nHETATM   36  H9  UNL     1       1.464   0.621  -2.219  1.00  0.00           H  \nHETATM   37  H10 UNL     1       1.636   2.375  -2.322  1.00  0.00           H  \nHETATM   38  H11 UNL     1       5.316  -0.233  -1.773  1.00  0.00           H  \nHETATM   39  H12 UNL     1      -0.114  -0.811   0.708  1.00  0.00           H  \nHETATM   40  H13 UNL     1       0.267  -0.832  -1.015  1.00  0.00           H  \nHETATM   41  H14 UNL     1      -2.054  -0.694  -1.616  1.00  0.00           H  \nHETATM   42  H15 UNL     1      -1.878  -1.872  -0.279  1.00  0.00           H  \nHETATM   43  H16 UNL     1      -3.213   0.137   2.185  1.00  0.00           H  \nHETATM   44  H17 UNL     1      -2.655   1.836  -0.810  1.00  0.00           H  \nHETATM   45  H18 UNL     1      -3.215   1.951   0.959  1.00  0.00           H  \nHETATM   46  H19 UNL     1      -0.852   2.785   0.675  1.00  0.00           H  \nHETATM   47  H20 UNL     1      -1.066   1.275   1.690  1.00  0.00           H  \nHETATM   48  H21 UNL     1      -3.927  -2.459   0.137  1.00  0.00           H  \nHETATM   49  H22 UNL     1      -6.331  -2.920  -0.423  1.00  0.00           H  \nHETATM   50  H23 UNL     1      -7.081   1.202  -0.801  1.00  0.00           H  \nHETATM   51  H24 UNL     1      -4.742   1.688  -0.264  1.00  0.00           H  \nCONECT    1    2   28   29   30\nCONECT    2    3\nCONECT    3    4    4   13\nCONECT    4    5   31\nCONECT    5    6    6   32\nCONECT    6    7   12\nCONECT    7    8    9   33\nCONECT    8   34\nCONECT    9   10   14   35\nCONECT   10   11   36   37\nCONECT   11   12\nCONECT   12   13   13\nCONECT   13   38\nCONECT   14   15   20\nCONECT   15   16   39   40\nCONECT   16   17   41   42\nCONECT   17   18   19   21\nCONECT   18   43\nCONECT   19   20   44   45\nCONECT   20   46   47\nCONECT   21   22   22   27\nCONECT   22   23   48\nCONECT   23   24   24   49\nCONECT   24   25   26\nCONECT   26   27   27   50\nCONECT   27   51\nENDMDL\nMODEL        9\nHETATM    1  C1  UNL     1       8.292   0.347  -0.103  1.00  0.00           C  \nHETATM    2  O1  UNL     1       7.286  -0.531   0.346  1.00  0.00           O  \nHETATM    3  C2  UNL     1       5.950  -0.343   0.080  1.00  0.00           C  \nHETATM    4  C3  UNL     1       5.542   0.747  -0.660  1.00  0.00           C  \nHETATM    5  C4  UNL     1       4.207   0.940  -0.936  1.00  0.00           C  \nHETATM    6  C5  UNL     1       3.251   0.039  -0.474  1.00  0.00           C  \nHETATM    7  C6  UNL     1       1.826   0.227  -0.809  1.00  0.00           C  \nHETATM    8  O2  UNL     1       1.527   1.597  -0.642  1.00  0.00           O  \nHETATM    9  C7  UNL     1       0.868  -0.677  -0.078  1.00  0.00           C  \nHETATM   10  C8  UNL     1       1.459  -1.382   1.109  1.00  0.00           C  \nHETATM   11  O3  UNL     1       2.708  -1.922   0.715  1.00  0.00           O  \nHETATM   12  C9  UNL     1       3.679  -1.035   0.260  1.00  0.00           C  \nHETATM   13  C10 UNL     1       5.034  -1.242   0.549  1.00  0.00           C  \nHETATM   14  N1  UNL     1      -0.325   0.028   0.132  1.00  0.00           N  \nHETATM   15  C11 UNL     1      -1.014  -0.069   1.347  1.00  0.00           C  \nHETATM   16  C12 UNL     1      -2.450  -0.571   1.211  1.00  0.00           C  \nHETATM   17  C13 UNL     1      -3.133   0.356   0.244  1.00  0.00           C  \nHETATM   18  O4  UNL     1      -2.838   1.666   0.694  1.00  0.00           O  \nHETATM   19  C14 UNL     1      -2.454   0.126  -1.101  1.00  0.00           C  \nHETATM   20  C15 UNL     1      -0.985   0.460  -1.023  1.00  0.00           C  \nHETATM   21  C16 UNL     1      -4.573   0.192   0.142  1.00  0.00           C  \nHETATM   22  C17 UNL     1      -5.287   0.835  -0.836  1.00  0.00           C  \nHETATM   23  C18 UNL     1      -6.660   0.709  -0.950  1.00  0.00           C  \nHETATM   24  C19 UNL     1      -7.336  -0.074  -0.069  1.00  0.00           C  \nHETATM   25  F1  UNL     1      -8.702  -0.225  -0.159  1.00  0.00           F  \nHETATM   26  C20 UNL     1      -6.667  -0.726   0.915  1.00  0.00           C  \nHETATM   27  C21 UNL     1      -5.301  -0.604   1.030  1.00  0.00           C  \nHETATM   28  H1  UNL     1       8.071   0.661  -1.158  1.00  0.00           H  \nHETATM   29  H2  UNL     1       8.314   1.241   0.525  1.00  0.00           H  \nHETATM   30  H3  UNL     1       9.284  -0.157  -0.177  1.00  0.00           H  \nHETATM   31  H4  UNL     1       6.253   1.492  -1.051  1.00  0.00           H  \nHETATM   32  H5  UNL     1       3.823   1.782  -1.512  1.00  0.00           H  \nHETATM   33  H6  UNL     1       1.744   0.072  -1.929  1.00  0.00           H  \nHETATM   34  H7  UNL     1       1.533   2.084  -1.507  1.00  0.00           H  \nHETATM   35  H8  UNL     1       0.618  -1.514  -0.806  1.00  0.00           H  \nHETATM   36  H9  UNL     1       0.801  -2.245   1.329  1.00  0.00           H  \nHETATM   37  H10 UNL     1       1.650  -0.726   1.984  1.00  0.00           H  \nHETATM   38  H11 UNL     1       5.326  -2.082   1.124  1.00  0.00           H  \nHETATM   39  H12 UNL     1      -0.524  -0.731   2.076  1.00  0.00           H  \nHETATM   40  H13 UNL     1      -1.098   0.941   1.812  1.00  0.00           H  \nHETATM   41  H14 UNL     1      -2.445  -1.613   0.848  1.00  0.00           H  \nHETATM   42  H15 UNL     1      -2.872  -0.574   2.227  1.00  0.00           H  \nHETATM   43  H16 UNL     1      -3.414   1.760   1.519  1.00  0.00           H  \nHETATM   44  H17 UNL     1      -2.627  -0.915  -1.391  1.00  0.00           H  \nHETATM   45  H18 UNL     1      -2.889   0.762  -1.902  1.00  0.00           H  \nHETATM   46  H19 UNL     1      -0.882   1.538  -1.190  1.00  0.00           H  \nHETATM   47  H20 UNL     1      -0.515  -0.023  -1.908  1.00  0.00           H  \nHETATM   48  H21 UNL     1      -4.819   1.473  -1.578  1.00  0.00           H  \nHETATM   49  H22 UNL     1      -7.235   1.212  -1.718  1.00  0.00           H  \nHETATM   50  H23 UNL     1      -7.197  -1.355   1.626  1.00  0.00           H  \nHETATM   51  H24 UNL     1      -4.803  -1.133   1.824  1.00  0.00           H  \nCONECT    1    2   28   29   30\nCONECT    2    3\nCONECT    3    4    4   13\nCONECT    4    5   31\nCONECT    5    6    6   32\nCONECT    6    7   12\nCONECT    7    8    9   33\nCONECT    8   34\nCONECT    9   10   14   35\nCONECT   10   11   36   37\nCONECT   11   12\nCONECT   12   13   13\nCONECT   13   38\nCONECT   14   15   20\nCONECT   15   16   39   40\nCONECT   16   17   41   42\nCONECT   17   18   19   21\nCONECT   18   43\nCONECT   19   20   44   45\nCONECT   20   46   47\nCONECT   21   22   22   27\nCONECT   22   23   48\nCONECT   23   24   24   49\nCONECT   24   25   26\nCONECT   26   27   27   50\nCONECT   27   51\nENDMDL\nMODEL       10\nHETATM    1  C1  UNL     1       7.480   1.062   1.263  1.00  0.00           C  \nHETATM    2  O1  UNL     1       6.759  -0.167   1.177  1.00  0.00           O  \nHETATM    3  C2  UNL     1       5.552  -0.148   0.499  1.00  0.00           C  \nHETATM    4  C3  UNL     1       5.025   0.993  -0.087  1.00  0.00           C  \nHETATM    5  C4  UNL     1       3.830   0.991  -0.754  1.00  0.00           C  \nHETATM    6  C5  UNL     1       3.124  -0.196  -0.846  1.00  0.00           C  \nHETATM    7  C6  UNL     1       1.844  -0.275  -1.586  1.00  0.00           C  \nHETATM    8  O2  UNL     1       1.377   1.030  -1.739  1.00  0.00           O  \nHETATM    9  C7  UNL     1       0.878  -1.209  -0.935  1.00  0.00           C  \nHETATM   10  C8  UNL     1       1.469  -2.352  -0.223  1.00  0.00           C  \nHETATM   11  O3  UNL     1       2.873  -2.486  -0.397  1.00  0.00           O  \nHETATM   12  C9  UNL     1       3.637  -1.331  -0.268  1.00  0.00           C  \nHETATM   13  C10 UNL     1       4.855  -1.333   0.412  1.00  0.00           C  \nHETATM   14  N1  UNL     1      -0.131  -0.451  -0.246  1.00  0.00           N  \nHETATM   15  C11 UNL     1      -0.860   0.301  -1.258  1.00  0.00           C  \nHETATM   16  C12 UNL     1      -2.375   0.020  -1.189  1.00  0.00           C  \nHETATM   17  C13 UNL     1      -2.798   0.497   0.158  1.00  0.00           C  \nHETATM   18  O4  UNL     1      -2.307   1.789   0.347  1.00  0.00           O  \nHETATM   19  C14 UNL     1      -2.091  -0.376   1.170  1.00  0.00           C  \nHETATM   20  C15 UNL     1      -1.013  -1.245   0.556  1.00  0.00           C  \nHETATM   21  C16 UNL     1      -4.258   0.559   0.359  1.00  0.00           C  \nHETATM   22  C17 UNL     1      -5.111   0.846  -0.679  1.00  0.00           C  \nHETATM   23  C18 UNL     1      -6.498   0.905  -0.475  1.00  0.00           C  \nHETATM   24  C19 UNL     1      -7.038   0.676   0.770  1.00  0.00           C  \nHETATM   25  F1  UNL     1      -8.394   0.732   0.983  1.00  0.00           F  \nHETATM   26  C20 UNL     1      -6.184   0.389   1.812  1.00  0.00           C  \nHETATM   27  C21 UNL     1      -4.819   0.334   1.599  1.00  0.00           C  \nHETATM   28  H1  UNL     1       6.792   1.805   1.717  1.00  0.00           H  \nHETATM   29  H2  UNL     1       8.365   0.974   1.912  1.00  0.00           H  \nHETATM   30  H3  UNL     1       7.689   1.410   0.240  1.00  0.00           H  \nHETATM   31  H4  UNL     1       5.627   1.905   0.017  1.00  0.00           H  \nHETATM   32  H5  UNL     1       3.419   1.873  -1.208  1.00  0.00           H  \nHETATM   33  H6  UNL     1       2.054  -0.627  -2.647  1.00  0.00           H  \nHETATM   34  H7  UNL     1       1.865   1.459  -2.465  1.00  0.00           H  \nHETATM   35  H8  UNL     1       0.296  -1.669  -1.818  1.00  0.00           H  \nHETATM   36  H9  UNL     1       1.064  -3.352  -0.575  1.00  0.00           H  \nHETATM   37  H10 UNL     1       1.303  -2.389   0.874  1.00  0.00           H  \nHETATM   38  H11 UNL     1       5.214  -2.244   0.842  1.00  0.00           H  \nHETATM   39  H12 UNL     1      -0.802   1.409  -1.090  1.00  0.00           H  \nHETATM   40  H13 UNL     1      -0.602   0.006  -2.295  1.00  0.00           H  \nHETATM   41  H14 UNL     1      -2.558  -1.045  -1.385  1.00  0.00           H  \nHETATM   42  H15 UNL     1      -2.801   0.693  -1.957  1.00  0.00           H  \nHETATM   43  H16 UNL     1      -2.633   2.422  -0.335  1.00  0.00           H  \nHETATM   44  H17 UNL     1      -2.807  -1.104   1.643  1.00  0.00           H  \nHETATM   45  H18 UNL     1      -1.642   0.196   2.005  1.00  0.00           H  \nHETATM   46  H19 UNL     1      -1.445  -2.109   0.003  1.00  0.00           H  \nHETATM   47  H20 UNL     1      -0.474  -1.644   1.447  1.00  0.00           H  \nHETATM   48  H21 UNL     1      -4.752   1.032  -1.664  1.00  0.00           H  \nHETATM   49  H22 UNL     1      -7.179   1.128  -1.276  1.00  0.00           H  \nHETATM   50  H23 UNL     1      -6.626   0.207   2.803  1.00  0.00           H  \nHETATM   51  H24 UNL     1      -4.190   0.104   2.467  1.00  0.00           H  \nCONECT    1    2   28   29   30\nCONECT    2    3\nCONECT    3    4    4   13\nCONECT    4    5   31\nCONECT    5    6    6   32\nCONECT    6    7   12\nCONECT    7    8    9   33\nCONECT    8   34\nCONECT    9   10   14   35\nCONECT   10   11   36   37\nCONECT   11   12\nCONECT   12   13   13\nCONECT   13   38\nCONECT   14   15   20\nCONECT   15   16   39   40\nCONECT   16   17   41   42\nCONECT   17   18   19   21\nCONECT   18   43\nCONECT   19   20   44   45\nCONECT   20   46   47\nCONECT   21   22   22   27\nCONECT   22   23   48\nCONECT   23   24   24   49\nCONECT   24   25   26\nCONECT   26   27   27   50\nCONECT   27   51\nENDMDL\nEND\n",
                    "type": "blob"
                  }
                ],
                "kwargs": {
                  "defaultRepresentation": true,
                  "ext": "pdb"
                },
                "methodName": "loadFile",
                "reconstruc_color_scheme": false,
                "target": "Stage",
                "type": "call_method"
              }
            ],
            "_ngl_original_stage_parameters": {},
            "_ngl_repr_dict": {},
            "_ngl_serialize": false,
            "_ngl_version": "",
            "_ngl_view_id": [],
            "_player_dict": {},
            "_scene_position": {},
            "_scene_rotation": {},
            "_synced_model_ids": [],
            "_synced_repr_model_ids": [],
            "_view_count": null,
            "_view_height": "",
            "_view_module": "nglview-js-widgets",
            "_view_module_version": "3.0.1",
            "_view_name": "NGLView",
            "_view_width": "",
            "background": "white",
            "frame": 0,
            "gui_style": null,
            "layout": "IPY_MODEL_03a768507ba04d9f9ad986d8b2f2f266",
            "max_frame": 0,
            "n_components": 0,
            "picked": {}
          }
        },
        "adaa4fd0227a4771a0dd6aa16735fdc7": {
          "model_module": "@jupyter-widgets/base",
          "model_module_version": "1.2.0",
          "model_name": "LayoutModel",
          "state": {
            "_model_module": "@jupyter-widgets/base",
            "_model_module_version": "1.2.0",
            "_model_name": "LayoutModel",
            "_view_count": null,
            "_view_module": "@jupyter-widgets/base",
            "_view_module_version": "1.2.0",
            "_view_name": "LayoutView",
            "align_content": null,
            "align_items": null,
            "align_self": null,
            "border": null,
            "bottom": null,
            "display": null,
            "flex": null,
            "flex_flow": null,
            "grid_area": null,
            "grid_auto_columns": null,
            "grid_auto_flow": null,
            "grid_auto_rows": null,
            "grid_column": null,
            "grid_gap": null,
            "grid_row": null,
            "grid_template_areas": null,
            "grid_template_columns": null,
            "grid_template_rows": null,
            "height": null,
            "justify_content": null,
            "justify_items": null,
            "left": null,
            "margin": null,
            "max_height": null,
            "max_width": null,
            "min_height": null,
            "min_width": null,
            "object_fit": null,
            "object_position": null,
            "order": null,
            "overflow": null,
            "overflow_x": null,
            "overflow_y": null,
            "padding": null,
            "right": null,
            "top": null,
            "visibility": null,
            "width": null
          }
        },
        "b74f4520044d4e6097a9b3d0a4928607": {
          "model_module": "@jupyter-widgets/base",
          "model_module_version": "1.2.0",
          "model_name": "LayoutModel",
          "state": {
            "_model_module": "@jupyter-widgets/base",
            "_model_module_version": "1.2.0",
            "_model_name": "LayoutModel",
            "_view_count": null,
            "_view_module": "@jupyter-widgets/base",
            "_view_module_version": "1.2.0",
            "_view_name": "LayoutView",
            "align_content": null,
            "align_items": null,
            "align_self": null,
            "border": null,
            "bottom": null,
            "display": null,
            "flex": null,
            "flex_flow": null,
            "grid_area": null,
            "grid_auto_columns": null,
            "grid_auto_flow": null,
            "grid_auto_rows": null,
            "grid_column": null,
            "grid_gap": null,
            "grid_row": null,
            "grid_template_areas": null,
            "grid_template_columns": null,
            "grid_template_rows": null,
            "height": null,
            "justify_content": null,
            "justify_items": null,
            "left": null,
            "margin": null,
            "max_height": null,
            "max_width": null,
            "min_height": null,
            "min_width": null,
            "object_fit": null,
            "object_position": null,
            "order": null,
            "overflow": null,
            "overflow_x": null,
            "overflow_y": null,
            "padding": null,
            "right": null,
            "top": null,
            "visibility": null,
            "width": null
          }
        },
        "bd51e0e506fd4b95a54469a380f04af5": {
          "model_module": "@jupyter-widgets/controls",
          "model_module_version": "1.5.0",
          "model_name": "IntSliderModel",
          "state": {
            "_dom_classes": [],
            "_model_module": "@jupyter-widgets/controls",
            "_model_module_version": "1.5.0",
            "_model_name": "IntSliderModel",
            "_view_count": null,
            "_view_module": "@jupyter-widgets/controls",
            "_view_module_version": "1.5.0",
            "_view_name": "IntSliderView",
            "continuous_update": true,
            "description": "",
            "description_tooltip": null,
            "disabled": false,
            "layout": "IPY_MODEL_adaa4fd0227a4771a0dd6aa16735fdc7",
            "max": 0,
            "min": 0,
            "orientation": "horizontal",
            "readout": true,
            "readout_format": "d",
            "step": 1,
            "style": "IPY_MODEL_644e42602bb24388884fdf7ae60d9abc",
            "value": 0
          }
        }
      }
    }
  },
  "nbformat": 4,
  "nbformat_minor": 0
}
