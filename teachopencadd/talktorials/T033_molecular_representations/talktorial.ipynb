{
 "cells": [
  {
   "cell_type": "markdown",
   "metadata": {
    "id": "4IUaerZ4G9Ox"
   },
   "source": [
    "# T033 · Molecular representations\n",
    "\n",
    "**Note:** This talktorial is a part of TeachOpenCADD, a platform that aims to teach domain-specific skills and to provide pipeline templates as starting points for research projects.\n",
    "\n",
    "Authors:\n",
    "\n",
    "- [Gerrit Großmann](https://mosi.uni-saarland.de/people/gerrit/), 2022, Saarland University"
   ]
  },
  {
   "cell_type": "markdown",
   "metadata": {
    "id": "YSkj7U8pHJNi"
   },
   "source": [
    "__Talktorial T033__: This talktorial is part of the TeachOpenCADD pipeline described in the TeachOpenCADD publication (TODO), comprising of talktorials T033 to T038."
   ]
  },
  {
   "cell_type": "markdown",
   "metadata": {
    "id": "g8iOcdFAHqHM"
   },
   "source": [
    "## Aim of this talktorial\n",
    "\n",
    "In this talktorial, we conduct the groundwork for the deep learning talktorials (<span style=\"color:pink\">add references: 034, 035, 036, 037, 038</span>).\n",
    "Specifically, we learn about molecular representations and find that representing a molecule in a computer is not a trivial task. Different representations come with their specific implications and (dis-)advantages."
   ]
  },
  {
   "cell_type": "markdown",
   "metadata": {
    "id": "Ez_APDQiIfHv"
   },
   "source": [
    "### Contents in Theory\n",
    "\n",
    "* What is a molecule?\n",
    "* Molecular representations\n",
    "* Molecular Representations for Humans\n",
    "* Computer-age molecular representations"
   ]
  },
  {
   "cell_type": "markdown",
   "metadata": {
    "id": "rx7K9Ca5JFdl"
   },
   "source": [
    "### Contents in Practical\n",
    "\n",
    "* Conformers\n",
    "* Molecular graphs\n",
    "* Fingerprints"
   ]
  },
  {
   "cell_type": "markdown",
   "metadata": {
    "id": "bn0kogZWJTTu"
   },
   "source": [
    "### References\n",
    "\n",
    "* Databases: \n",
    "  * [UniProt Protein Database](https://www.uniprot.org/)\n",
    "  * [AlphaFold Protein Structure Database](https://alphafold.ebi.ac.uk/)\n",
    "* Papers: \n",
    "  * [Molecular representations in AI-driven drug discovery: a review and practical guide](https://jcheminf.biomedcentral.com/articles/10.1186/s13321-020-00460-5#:~:text=Traditionally%2C%20molecules%20are%20represented%20as,of%20chemical%20structures%20in%20cheminformatics.)\n",
    "  * [A Review of molecular representation in the Age of machine learning](https://wires.onlinelibrary.wiley.com/doi/full/10.1002/wcms.1603)\n",
    "  * [Point-based molecular representation learning from conformers](https://openreview.net/pdf?id=pjePBJjlBby)\n",
    "  * [Learning 3D Representations of Molecular Chirality with Invariance to Bond Rotations](https://openreview.net/pdf?id=hm2tNDdgaFK)\n",
    "* Talktorials: \n",
    "  * [T008 - Protein data acquisition: Protein Data Bank (PDB)](https://github.com/volkamerlab/teachopencadd/blob/master/teachopencadd/talktorials/T008_query_pdb/talktorial.ipynb)\n",
    "  * [T017 - Advanced NGLview usage](https://github.com/volkamerlab/teachopencadd/blob/master/teachopencadd/talktorials/T017_advanced_nglview_usage/talktorial.ipynb)\n",
    "  * Deep learning talktorials T033 to T038\n",
    "* [Tutorial on chirality](https://chem.libretexts.org/Bookshelves/Organic_Chemistry/Map%3A_Organic_Chemistry_(Vollhardt_and_Schore)/05._Stereoisomers/5.1%3A_Chiral__Molecules)"
   ]
  },
  {
   "cell_type": "markdown",
   "metadata": {
    "id": "AuEOSWySKoPc"
   },
   "source": [
    "## Theory"
   ]
  },
  {
   "cell_type": "markdown",
   "metadata": {
    "id": "Bv8FpLeZKx0a"
   },
   "source": [
    "### What is a molecule?"
   ]
  },
  {
   "cell_type": "markdown",
   "metadata": {
    "id": "umvwE4klLLtv"
   },
   "source": [
    "A molecule is a **group of atoms** that are connected through chemical bonds.\n",
    "The number of atoms can range from only a few (e.g., in low molecular weight drugs) to several thousand (e.g., in proteins) or even millions (e.g., in DNA molecules). \n",
    "\n",
    "The physical force that is most relevant for the formation of molecules from atoms is the **electrostatic force**, which is the force that governs the behavior of charged particles. When atoms interact, their electrons can be repelled by the electrons of other atoms or attracted by their nucleus, leading to the formation of a **chemical bond** (here, we are mostly concerned with [covalent bonds](https://en.wikipedia.org/wiki/Covalent_bond) where electrons are shared between two atoms).\n",
    "\n",
    "The formation of molecules gives a group of atoms a characteristic structure and behavior. The properties of a molecule emerge in a non-trivial way from (the interplay of) its constituent atoms. Molecules are the building blocks of living cells and play a key role in the function of living organisms.\n",
    "\n",
    "In addition to the subdivision into small molecules and macromolecules, the distinction between organic and inorganic molecules is important. Organic molecules are the ones containing carbon-hydrogen or carbon-carbon bonds.\n",
    "This talktorial focuses on **small** and **organic** molecules. "
   ]
  },
  {
   "cell_type": "markdown",
   "metadata": {
    "id": "VkOazgstLg8S"
   },
   "source": [
    "<!--- \n",
    "![caffeine](https://upload.wikimedia.org/wikipedia/commons/thumb/c/cc/Caffeine_molecule_ball_from_xtal_%281%29.png/671px-Caffeine_molecule_ball_from_xtal_%281%29.png)\n",
    "--->\n",
    "\n",
    "![Caffeine Molecule](images/caffeine_molecule.png)\n",
    "\n",
    "*Figure 1*: \n",
    "The image is a ball-and-stick representation of a caffeine molecule.\n",
    "Atoms are shown in gray (carbon), white (hydrogen), red (oxygen), and blue (nitrogen).\n",
    "An edge between two atoms indicates a covalent chemical bond with one (single line) or two (double line) shared atoms (triple bonds are also possible, but not present in caffeine).\n",
    "The dashed 5-membered ring represents an aromatic ring system. Two electrons can move freely around in this ring and are not associated with a specific chemical bond within this ring."
   ]
  },
  {
   "cell_type": "markdown",
   "metadata": {
    "id": "eAZVgW2qL300"
   },
   "source": [
    "### Molecular representations"
   ]
  },
  {
   "cell_type": "markdown",
   "metadata": {
    "id": "WaP317kMMAJ5"
   },
   "source": [
    "From the viewpoint of physics, molecules are **complex three-dimensional objects** that are dynamic rather than static and that exhibit quantum mechanical properties. Depending on the task you want to solve, a simplified view of molecules might be helpful. \n",
    "\n",
    "To apply machine learning to molecules, we need to find a proper **representation**. As it turns out, there are several possibilities, all with their advantages and disadvantages. \n",
    "Choosing a representation of a molecule gives you control over the simplifications you want to make. They provide the recipe to translate a quantum-mechanical object into a mathematical description. \n",
    "But before we discuss computational representations of molecules, we first want to give a recap on pre-computer-age techniques to represent molecules."
   ]
  },
  {
   "cell_type": "markdown",
   "metadata": {
    "id": "OE1IDLYOMVZ-"
   },
   "source": [
    "### Molecular Representations for Humans"
   ]
  },
  {
   "cell_type": "markdown",
   "metadata": {},
   "source": [
    "#### Small molecules"
   ]
  },
  {
   "cell_type": "markdown",
   "metadata": {
    "id": "4NTgJjKpO_Fp"
   },
   "source": [
    "Without being able to represent molecules, it is also impossible to discuss them and communicate about them. We start with representations and visualizations that are intuitive **for Humans**. Later, we will also look at \"**computer-age**\" encodings, suitable as input for deep-learning systems. However, note that this classification is somewhat arbitrary. "
   ]
  },
  {
   "cell_type": "markdown",
   "metadata": {
    "id": "qKR4OB0ePcQ8"
   },
   "source": [
    "**Text-based:**\n",
    "\n",
    "The easiest way to identify a molecule is its **trivial name**. For example, caffeine or aspirin. This is only possible for well-known molecules.\n",
    "\n",
    "Alternatively, the **IUPAC nomenclature of organic chemistry** can be used (there is also one for inorganic chemistry, which we will skip here). The goal is that each possible organic molecule is associated with a name that is easy to understand and that unambiguously identifies the molecule. \n",
    "The clarity and consistency make this naming scheme reasonably easy to understand and use. \n",
    "However, not all molecules can be named using this scheme; for instance, some complex organic molecules, such as those that contain rings with multiple substructures.\n",
    "\n",
    "**Example:** The caffeine molecule has the IUPAC name: *1,3,7-trimethylpurine-2,6-dione*."
   ]
  },
  {
   "cell_type": "markdown",
   "metadata": {
    "id": "aZE73xRLPcV8"
   },
   "source": [
    "**Molecular formula:**\n",
    "\n",
    "The **molecular formula** (sometimes referred to as Hill notation) is the easiest (and most simplified) way of representing a molecule: You simply count the number of atoms of each type. The ordering (from left to right) is arguably a little bit arbitrary: Carbon atoms are listed first, hydrogen atoms next, and all other atoms follow in alphabetical order.\n",
    "However, in the unlikely case that the formula does not contain carbon, all atoms (including hydrogen) are listed alphabetically. \n",
    "\n",
    "**Example:** For caffeine, the molecular formula is *C8H10N4O2*, indicating that there are 8 carbon (C) atoms, 10 hydrogen (H) atoms, 4 nitrogen (N) atoms, and 2 oxygen (O) atoms present.\n",
    "\n",
    "Naturally, this does not uniquely identify a molecule. \n",
    "\n",
    "**Example:** Molecules with the same molecular formula but with different arrangements in space are called [isomers](https://chem.libretexts.org/Courses/University_of_Kentucky/UK%3A_CHE_103_-_Chemistry_for_Allied_Health_(Soult)/Chapters/Chapter_5%3A_Properties_of_Compounds/5.1%3A_Isomers).\n",
    "One examples are [n-butane](https://www.wolframalpha.com/input?i=butane) and [isobutane](https://www.wolframalpha.com/input?i=isobutane). Both have the molecular formula C4H10. \n",
    "The atoms in butane are arranged in a straight chain, while the atoms in isobutane are arranged in a branch structure.\n",
    "To be more precise, here, we are dealing with a *structural* or *constitutional* isomer because the chemical bonds are different. \n",
    "Molecules that have the same chemical bonds (or refer to the same molecular graph) but still differ in their spatial arrangement are called spatial (or stereo-)isomers. \n",
    "\n",
    "![N-butaneAndIsobutane](images/butane_and_isobutane.png)\n",
    "\n",
    "*Figure 2*: \n",
    "N-butane and isobutane."
   ]
  },
  {
   "cell_type": "markdown",
   "metadata": {
    "id": "85vLHU-BPcYZ"
   },
   "source": [
    "**Visualizations of small molecules:**\n",
    "\n",
    "Visualizations are the easiest way to get a first impression of a molecule.\n",
    "In the first example, we have already seen a visualization of the caffeine molecule. These types of visualizations are referred to as **Ball and Stick** models.\n",
    "The color scheme follows the [CPK coloring](https://en.wikipedia.org/wiki/CPK_coloring).\n",
    "They are easy to understand but difficult to draw.\n",
    "\n",
    "![CPK coloring](images/cpk.png)\n",
    "\n",
    "*Figure 3*: \n",
    "CPK coloring from Wikipedia.\n",
    "\n",
    "\n",
    "2D visualizations are easy to draw and come in many different flavors.\n",
    "For instance, the **Lewis structure** contains no 3D information (excess electrons that form lone pairs are sometimes shown as dots, we skip this part here).\n",
    "\n",
    "Similarly, the **Skeletal formula** (or line-angle formula) removes hydrogen atoms that are next to carbon atoms and draws carbon atoms only implicitly as bends and ends. \n",
    "\n",
    "For comparison, here are the three visualizations of the ethanol molecule (from [WP](https://en.wikipedia.org/wiki/Skeletal_formula)).\n",
    "\n",
    "<!---\n",
    "![SimpleMoleculeBallStick](https://upload.wikimedia.org/wikipedia/commons/thumb/c/ca/Ethanol-CRC-MW-trans-3D-balls.png/120px-Ethanol-CRC-MW-trans-3D-balls.png)\n",
    "![SimpleMoleculeLewis](https://upload.wikimedia.org/wikipedia/commons/thumb/e/e8/Ethanol-structure.svg/150px-Ethanol-structure.svg.png)\n",
    "![SimpleMoleculeLineAngle](https://upload.wikimedia.org/wikipedia/commons/thumb/8/82/Ethanol-2D-skeletal.svg/120px-Ethanol-2D-skeletal.svg.png)\n",
    "--->\n",
    "\n",
    "![Ethanol visualization](images/ethanol.png)\n",
    "\n",
    "*Figure 4*: \n",
    "Different visualizations of ethanol.\n",
    "\n",
    "\n",
    "A special feature of this is the **Natta Projection** which provides basic (but not in every case complete) information about the relative positions of the atoms in 3D. For instance, consider the kinase inhibitor from the [RDKit Cookbook](https://www.rdkit.org/docs/Cookbook.html):\n",
    "\n",
    "![Kinase Inhibitor](images/kinase_inhibitor.png)\n",
    "\n",
    "*Figure 5*: \n",
    "Natta projection of a kinase inhibitor.\n",
    "\n",
    "Here, \n",
    "*   Solid wedges indicate a bond that points out of the plane;\n",
    "*   Dashed wedges indicate a bond that points into the plane (away from the observer)\n",
    "\n",
    "You can find the corresponding ball-and-stick plot [here](https://molview.org/?q=C1CC2=C3C(=CC=C2)C(=CN3C1)[C@H]4[C@@H](C(=O)NC4=O)C5=CNC6=CC=CC=C65).\n",
    "\n"
   ]
  },
  {
   "cell_type": "markdown",
   "metadata": {},
   "source": [
    "#### Large molecules - proteins"
   ]
  },
  {
   "cell_type": "markdown",
   "metadata": {
    "id": "gjRb3EL_RjrF"
   },
   "source": [
    "**Representing proteins:**\n",
    "\n",
    "Proteins are large molecules that are composed of building blocks called amino acids. There exist 20 different natural amino acids. A protein is made up of one or more chains of amino acids. Each chain can be described as a string of characters. Therefore, we identify each of the amino acids with a [single letter](https://en.wikipedia.org/wiki/Amino_acid#Table_of_standard_amino_acid_abbreviations_and_properties).\n",
    "\n",
    "The [Pro-thyrotropin-releasing hormone](https://www.uniprot.org/uniprotkb/P20396/entry#sequences) protein is one of the smallest proteins present in the\n",
    "human body. It consists of only 242 amino acids:\n",
    "\n",
    "\n",
    "```\n",
    "MPGPWLLLALALTLNLTGVPGGRAQPEAAQQEAVTAAEHPGLDDFLRQVERLLFLRENIQ\n",
    "RLQGDQGEHSASQIFQSDWLSKRQHPGKREEEEEEGVEEEEEEEGGAVGPHKRQHPGRRE\n",
    "DEASWSVDVTQHKRQHPGRRSPWLAYAVPKRQHPGRRLADPKAQRSWEEEEEEEEREEDL\n",
    "MPEKRQHPGKRALGGPCGPQGAYGQAGLLLGLLDDLSRSQGAEEKRQHPGRRAAWVREPL\n",
    "EE\n",
    "```\n",
    "\n",
    "However, the amino acid sequence does not contain 3D information, which is important for the function. \n",
    "You can predict it using tools like Alphafold or simply look it up in the [Alphafold database](https://alphafold.ebi.ac.uk/entry/P20396).  \n"
   ]
  },
  {
   "cell_type": "markdown",
   "metadata": {
    "id": "xCEJkEhsPcdf"
   },
   "source": [
    "**Visualizations of proteins:**\n",
    "\n",
    "We focus here on small molecules but still want to point out that large molecules are typically visualized differently, most commonly by a [Ribbon diagram](https://en.wikipedia.org/wiki/Ribbon_diagram).\n",
    "The idea is to group common motifs and represent them, for instance, with curls (alpha-Helices) and arrows (beta-strands) connected by loops.\n",
    "\n",
    "<!---\n",
    "![TubbyProtein](https://upload.wikimedia.org/wikipedia/commons/f/ff/Tubby-1c8z-pymol.png)\n",
    "--->\n",
    "![TubbyProtein](images/ribbon_diagram_tubby.png)\n",
    "\n",
    "*Figure 6*: \n",
    "Ribbon diagram of the [tubby protein](https://en.wikipedia.org/wiki/Tubby_protein).\n",
    "\n",
    "[T008 · Protein data acquisition: Protein Data Bank (PDB)](https://projects.volkamerlab.org/teachopencadd/talktorials/T008_query_pdb.html) explains how to find proteins in the Protein Data Bank and process them."
   ]
  },
  {
   "cell_type": "markdown",
   "metadata": {
    "id": "_ueOdDdjSGK9"
   },
   "source": [
    "### Computer-age molecular representations"
   ]
  },
  {
   "cell_type": "markdown",
   "metadata": {
    "id": "o4SEA-6RSH1I"
   },
   "source": [
    "When we want to communicate or store a molecular description, we better make sure there is little ambiguity left.\n",
    "In machine learning, it is still an open research question when to use which representation. **Text**-based (or **linear**) and **graph**-based representations are becoming both very widely used. Moreover, **fingerprint**-based methods are sometimes a viable alternative, especially for traditional machine learning methods. "
   ]
  },
  {
   "cell_type": "markdown",
   "metadata": {
    "id": "N0FsCL83SH3t"
   },
   "source": [
    "**Text-based representations:**\n",
    "\n",
    "Text-based representations use a sequence of characters to specify a molecule. This is possible for practically all (small) molecules relevant in practice. Here, we discuss SMILES, InChI, and SELFIES. For a deeper dive, we refer the reader to the SMILES talktorial [T035 · SMILES based property prediction](https://github.com/volkamerlab/teachopencadd/tree/master/teachopencadd/talktorials)\n",
    "\n",
    "**SMILES** (Simplified Molecular Input Line Entry Specification) is the most widely used text-based representation and can be handled by all common frameworks. When we specify a molecule in RDKit, we often use SMILES notation (more on this in the practical part): \n",
    "\n",
    "`mol = Chem.MolFromSmiles(\"CN1C=NC2=C1C(=O)N(C(=O)N2C)C\") `\n",
    "\n",
    "SMILES uses a combination of letters, numbers, and symbols to represent the atoms and bonds in a molecule. The letters identify the elements, the symbols specify the connectivity/branching structure.\n",
    "\n",
    "SMILES can also represent the [chirality](https://en.wikipedia.org/wiki/Chirality_(chemistry)) of a molecule. This is possible by specifying the relative angle of a bond for an atom. We will see an example in the practical part.\n",
    "\n",
    "The main problem with SMILES for molecule representation is that two (or more) different SMILES strings might refer to the same molecule. Researchers try to circumvent this by resorting to a **canonical SMILES** notation. However, the canonicalization depends on the canonicalization algorithms and is therefore not standardized. \n",
    "\n",
    "In the other direction, a single SMILES string typically identifies no more than one molecule. However, when stereochemistry information is not given in the SMILES string, it leaves room for ambiguity (in some cases, it might not even be possible to remove all ambiguity for different molecular configurations). \n",
    "\n",
    "\n",
    "**InChI** (International Chemical Identifier) is a more modern and also widely-used alternative to SMILES. The key advantage is that it exhibits less chemical ambiguity and that a standard canonical exists. \n",
    "The downside is that it is difficult for humans to read.\n",
    "\n",
    "\n",
    "\n",
    "**SELFIES** (SELF-referencing embedded string) was introduced in 2020, primarily for machine learning purposes. The advantage is that \"every combination of symbols in the Selfies alphabet maps to a chemically valid graph\" ([Source](https://www.sciencedirect.com/science/article/pii/S2666389922002069)). This is great for generative tasks where you want to generate molecules because it is impossible to generate invalid molecules.\n",
    "\n",
    "\n",
    "\n",
    "To **summarize**, we find that different methods to encode molecules as strings exist. Currently, SMILES is the most widely adopted method and tools support it well, so it will probably be a good starting point. \n",
    "\n",
    "---"
   ]
  },
  {
   "cell_type": "markdown",
   "metadata": {
    "id": "WE_GZsYbSH6L"
   },
   "source": [
    "**Molecular graphs:**\n",
    "\n",
    "Representing molecules as graphs allows for a very intuitive and comprehensive representation of a molecule's structure. In a graph-based representation, atoms are represented as (labeled) nodes, and bonds are represented as (labeled) edges.\n",
    "\n",
    "One possibility to specify a graph is with an adjacency matrix $A$.\n",
    "For undirected graphs (which is the case for molecules), the adjacency matrix is symmetric. An entry $a_{ij}$ indicates the presence ($a_{ij} = 1$) or absence ($a_{ij} = 0$) of an edge.\n",
    "\n",
    "One key property of graphs is that they rely on **node ordering**.\n",
    "The following two matrices identify identical graphs, except for the node ordering. We call these graphs **isomorphic**.\n",
    "\n",
    "\n",
    "The fact that we need to pick a node ordering to represent a molecule as a graph means that many graphs represent the same molecule. \n",
    "This problem can be circumvented by restricting ourselves to so-called **permutation invariant functions**, as we will learn in the next section.\n",
    "\n",
    "![TwoIsomorphicGraphs](images/graph1_graph2.png)\n",
    "\n",
    "*Figure 7*: \n",
    "Two isomorphic graphs with different node ordering.\n",
    "\n",
    "**Permutation invariance:** Assume you build a machine learning model that takes as input molecular graphs and outputs some prediction. It would be desirable that your model guarantees that isomorphic graphs (like *Graph 1* and *Graph 2*) generate the same output.\n",
    "We call neural networks (or functions in general) that have these guarantees (node-)permutation invariant (or equivariant for node-level outputs).\n",
    "However, there is a trade-off. Functions that are permutation invariant are typically not universal. That is, they are not able to tell all graphs that are non-isomorphic apart. If both were given, permutation invariance and the ability to produce a different output for all non-isomorphic graphs, our neural network would solve the graph isomorphism problem (which is computationally extremely difficult). \n",
    "\n",
    "\n",
    "\n",
    "TODO: link to talktorial (<span style=\"color:pink\">resolve this</span>)\n",
    "\n",
    "**Representational power:** Another problem is that graphs do not contain 3D information. \n",
    "Specifically, different [isomers](https://en.wikipedia.org/wiki/Isomer) can correspond to the same molecular graph but differ in the relative 3D positions of the atoms. These are called spatial isomers. \n",
    "One can circumvent this (to some degree) by adding 3D information to the node features. This is somewhat ad-hoc and not well-principled. \n",
    "It is also unclear in which cases this is necessary to improve the performance of a predictive model. \n",
    "In the practical part, we will visualize [2-butanol](https://en.wikipedia.org/wiki/2-Butanol) that admits two mirror images (called *enantiomer*) with the same graph but with different geometry. \n",
    "\n",
    "![Butanol_Enantiomer](images/butanol_2enantiomer.png)\n",
    "\n",
    "*Figure 8*: \n",
    "The two enantiomers of 2-butanol (source: [WP](https://en.wikipedia.org/wiki/2-Butanol)).\n",
    "---\n",
    "\n"
   ]
  },
  {
   "cell_type": "markdown",
   "metadata": {
    "id": "XIZCDE9JYkT8"
   },
   "source": [
    "**Point clouds:**\n",
    "\n",
    "We have already established that molecules are three-dimensional objects. So why not directly use a computational representation that captures the 3D information? The most straightforward way to do this is to annotate the nodes/atoms in a molecular graph with Euclidean 3D coordinates $(x,y,z)$.  \n",
    "\n",
    "The spatial arrangement of atoms is called **molecular configuration**.\n",
    "\n",
    "Instead of equipping a graph with 3D coordinates, one can also disregard the information on chemical bonds as [this paper](https://openreview.net/pdf?id=pjePBJjlBby) claims:\n",
    "> The covalent bonds between atoms do not need to be encoded explicitly because they are attributed by the overlap between the atomic orbitals, and can be inferred from the types and 3D coordinates of respective atoms. In principle, the point-based representation captures the complete structural information about the molecule, and thus serves as the adequate input for molecular representation learning.\n",
    "\n",
    "\n",
    "**SE(3)-invariance:** \n",
    "When equipping the atoms of a molecule with their (absolute) 3D position, we have a similar problem as with the node ordering in the previous section.\n",
    "Instead of \"*Which node ordering do we choose?*\" We now have to ask \"*How do we position the molecule in 3D to measure the atom positions?*\".\n",
    "As in the node-ordering case, it is difficult (if not impossible) to give a principled answer to this question.\n",
    "The solution is again to restrict ourselves to neural networks that are invariant to translations (move the whole molecule in $x$, $y$, or $z$ direction) or rotations of the molecule.\n",
    "Neural networks (or functions in general) that can guarantee that the output is not affected by translations and rotations are called **SE(3)-invariant**.\n",
    "One example of architecture can be found [here](https://proceedings.neurips.cc/paper/2020/file/15231a7ce4ba789d13b722cc5c955834-Paper.pdf).\n",
    "One possibility to design SE(3)-invariant neural networks is to consider only the distance between all pairs of atoms instead of their absolute position. This leads not only to SE(3)-invariance but to a broader class called **E(3)-invariance**. This is because also reflections (mirror images) are guaranteed to produce the same output. For molecules, this might be suboptimal because mirror molecules can exhibit different properties (see chirality). \n",
    "\n",
    "\n",
    "**Determining configurations:** \n",
    "When you want to add 3D coordinates to atoms, you first need to find them somehow. This is not straightforward, and one can even train a machine learning model to predict this. \n",
    "One possibility is to determine the configuration experimentally.\n",
    "For small molecules, [techniques](https://en.wikipedia.org/wiki/Molecular_geometry#Determination) like diffraction methods can be used.\n",
    "For proteins, [other techniques](https://en.wikipedia.org/wiki/Protein_folding#Experimental_techniques_for_studying_protein_folding), like X-ray crystallography, are available.  \n",
    "Alternatively, one can resort to computational methods.\n",
    "For instance, the popular dataset [QM9](https://moleculenet.org/datasets-1) provides 3D coordinates of each atom that were computed using [DFT](https://en.wikipedia.org/wiki/Density_functional_theory) (an approximation to the Schrödinger equation).\n",
    "\n",
    "**Conformers:**\n",
    "However, another problem of the point cloud perspective on molecules is that there is not a single, fixed configuration for a molecule. Instead, molecules are dynamic objects.\n",
    "**Molecular conformers** are different configurations that a molecule can take due to rotations around single bonds (double and triple bonds are non-rotatable). These conformations are a result of the rotational energy barriers that exist between different groups of atoms within a molecule. Conformations can change quickly and easily, e.g., in response to changes in temperature.\n",
    "Note that conformers are a special type of isomers. Not all isomers can be reached by rotating single bonds. \n",
    "\n",
    "\n",
    "![Conformer](images/conformer.png)\n",
    "\n",
    "*Figure 9*: \n",
    "Some conformers of a simple molecule ([Source paper](https://pubs.acs.org/doi/10.1021/acs.jcim.5b00654) via [Datamol tutorial](https://doc.datamol.io/stable/tutorials/Conformers.html)) on top of each other.\n",
    "\n",
    "Each specific conformer is associated with a conformation energy.\n",
    "The likelihood of a specific configuration depends on this energy (low-energy configurations are more likely than high-energy configurations). Specifically, we typically observe local minima. \n",
    "When representing a conformer, one might also store the torsion angles at rotatable bonds instead of the 3D position of each atom (as done [here](https://arxiv.org/pdf/2210.01776.pdf)).\n",
    "\n",
    "![Energy landscape](images/energy_landscape.jpeg)\n",
    "\n",
    "*Figure 10*: \n",
    "Energy landscape of the molecule 3-Methoxyphenol ([Source](https://chemistry-europe.onlinelibrary.wiley.com/doi/abs/10.1002/cphc.201800148)). The four local minima correspond to four stable conformations. \n",
    "\n",
    "\n",
    "Note that SE(3)-invariant machine learning models are not invariant to bond rotations. \n",
    "Specifically, they can confuse different conformations of the same molecule.\n",
    "For a detailed discussion on this issue, we refer to the paper [Learning 3D Representations of Molecular Chirality with Invariance to Bond Rotations](https://openreview.net/pdf?id=hm2tNDdgaFK).\n",
    "\n",
    "\n",
    "\n",
    "---\n"
   ]
  },
  {
   "cell_type": "markdown",
   "metadata": {
    "id": "XRA2lGEkZODP"
   },
   "source": [
    "**Fingerprints:**\n",
    "\n",
    "Molecular fingerprints are representations based on the molecular graph.\n",
    "Typically, they are binary vectors that are relatively sparse (many 0s, very few 1s).\n",
    "\n",
    "The most commonly used fingerprint is [ECFP4](https://chemicbook.com/2021/03/25/a-beginners-guide-for-understanding-extended-connectivity-fingerprints.html).\n",
    "[MAP4](https://jcheminf.biomedcentral.com/articles/10.1186/s13321-020-00445-4) is a newer alternative. \n",
    "\n",
    "Fingerprints do not uniquely identify a molecule. Different molecules can have the same fingerprint.\n",
    "However, the same molecule has a unique fingerprint (there is no canonicalization problem). \n",
    "It is difficult (if not practically impossible) to recover the molecular graph, given the fingerprint. \n",
    "\n",
    "They can be easily used for classical machine learning tasks because the architecture does not need to be invariant/equivariant to the node-ordering or geometric operations.\n",
    "\n",
    "[T004 · Ligand-based screening: compound similarity](https://projects.volkamerlab.org/teachopencadd/talktorials/T004_compound_similarity.html) explains several molecular fingerprints.\n",
    "\n",
    "---\n",
    "\n",
    "**Learned representations:**\n",
    "\n",
    "Another interesting line of research is the construction of learned molecular representation. Using a machine learning model to learn representations (from other representations)  can be useful in several ways.\n",
    "For instance, the paper [Automatic Chemical Design Using a Data-Driven Continuous Representation of Molecules](https://pubs.acs.org/doi/pdf/10.1021/acscentsci.7b00572) uses a variational auto-encoder to learn a latent and continuous representation based on SMILES. \n",
    "\n",
    "The paper [Learning continuous and data-driven molecular descriptors by translating equivalent chemical representations](https://pubs.rsc.org/en/content/articlelanding/2019/sc/c8sc04175j) builds a latent representation based on the translation from one representation to another (e.g., SMILES into the IUPAC name).  \n",
    "\n",
    "One can also use [contrastive learning](https://arxiv.org/pdf/2102.10056.pdf) to optimize the latent space of such learned representations. \n",
    "\n",
    "\n",
    "---\n"
   ]
  },
  {
   "cell_type": "markdown",
   "metadata": {
    "id": "jlngiTUcKpnb"
   },
   "source": [
    "## Practical"
   ]
  },
  {
   "cell_type": "markdown",
   "metadata": {
    "id": "_2IE6bn3xyNa"
   },
   "source": [
    "In this section, we study how RDKit handles different molecular representations and visualizations.\n",
    "We start with the caffeine molecule from *Figure 1*. We define the molecule based on a SMILES string and find the visualization in a line-angle formula. \n",
    "But first, we import all libraries:"
   ]
  },
  {
   "cell_type": "code",
   "execution_count": 1,
   "metadata": {
    "id": "W8uKK-US_0Tc"
   },
   "outputs": [
    {
     "data": {
      "application/vnd.jupyter.widget-view+json": {
       "model_id": "d2a9b08541d6412cb87696cbd816b32e",
       "version_major": 2,
       "version_minor": 0
      },
      "text/plain": []
     },
     "metadata": {},
     "output_type": "display_data"
    }
   ],
   "source": [
    "import matplotlib.pyplot as plt\n",
    "import networkx as nx  # for graphs\n",
    "import numpy as np  # for matrices\n",
    "import time\n",
    "\n",
    "import nglview as nv  # for 3D visualizations\n",
    "\n",
    "from rdkit import Chem\n",
    "from rdkit.Chem.Draw import IPythonConsole\n",
    "from rdkit.Chem import Draw\n",
    "from rdkit.Chem import AllChem, rdDistGeom\n",
    "from rdkit.Chem import rdFingerprintGenerator\n",
    "\n",
    "IPythonConsole.ipython_useSVG = True"
   ]
  },
  {
   "cell_type": "code",
   "execution_count": 2,
   "metadata": {
    "colab": {
     "base_uri": "https://localhost:8080/",
     "height": 171
    },
    "id": "EPAeW6hoKo1p",
    "outputId": "81af701f-6a94-40cd-fdc8-1fd72dfcde1e"
   },
   "outputs": [
    {
     "data": {
      "image/png": "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\n",
      "image/svg+xml": [
       "<?xml version='1.0' encoding='iso-8859-1'?>\n",
       "<svg version='1.1' baseProfile='full'\n",
       "              xmlns='http://www.w3.org/2000/svg'\n",
       "                      xmlns:rdkit='http://www.rdkit.org/xml'\n",
       "                      xmlns:xlink='http://www.w3.org/1999/xlink'\n",
       "                  xml:space='preserve'\n",
       "width='450px' height='150px' viewBox='0 0 450 150'>\n",
       "<!-- END OF HEADER -->\n",
       "<rect style='opacity:1.0;fill:#FFFFFF;stroke:none' width='450.0' height='150.0' x='0.0' y='0.0'> </rect>\n",
       "<path class='bond-0 atom-0 atom-1' d='M 307.7,103.8 L 299.0,93.0' style='fill:none;fill-rule:evenodd;stroke:#000000;stroke-width:2.0px;stroke-linecap:butt;stroke-linejoin:miter;stroke-opacity:1' />\n",
       "<path class='bond-0 atom-0 atom-1' d='M 299.0,93.0 L 290.4,82.2' style='fill:none;fill-rule:evenodd;stroke:#0000FF;stroke-width:2.0px;stroke-linecap:butt;stroke-linejoin:miter;stroke-opacity:1' />\n",
       "<path class='bond-1 atom-1 atom-2' d='M 287.3,70.6 L 291.2,56.6' style='fill:none;fill-rule:evenodd;stroke:#0000FF;stroke-width:2.0px;stroke-linecap:butt;stroke-linejoin:miter;stroke-opacity:1' />\n",
       "<path class='bond-1 atom-1 atom-2' d='M 291.2,56.6 L 295.0,42.6' style='fill:none;fill-rule:evenodd;stroke:#000000;stroke-width:2.0px;stroke-linecap:butt;stroke-linejoin:miter;stroke-opacity:1' />\n",
       "<path class='bond-13 atom-5 atom-1' d='M 250.7,78.1 L 265.9,77.4' style='fill:none;fill-rule:evenodd;stroke:#000000;stroke-width:2.0px;stroke-linecap:butt;stroke-linejoin:miter;stroke-opacity:1' />\n",
       "<path class='bond-13 atom-5 atom-1' d='M 265.9,77.4 L 281.1,76.6' style='fill:none;fill-rule:evenodd;stroke:#0000FF;stroke-width:2.0px;stroke-linecap:butt;stroke-linejoin:miter;stroke-opacity:1' />\n",
       "<path class='bond-2 atom-2 atom-3' d='M 295.0,42.6 L 282.6,34.5' style='fill:none;fill-rule:evenodd;stroke:#000000;stroke-width:2.0px;stroke-linecap:butt;stroke-linejoin:miter;stroke-opacity:1' />\n",
       "<path class='bond-2 atom-2 atom-3' d='M 282.6,34.5 L 270.3,26.4' style='fill:none;fill-rule:evenodd;stroke:#0000FF;stroke-width:2.0px;stroke-linecap:butt;stroke-linejoin:miter;stroke-opacity:1' />\n",
       "<path class='bond-2 atom-2 atom-3' d='M 287.4,46.0 L 278.8,40.4' style='fill:none;fill-rule:evenodd;stroke:#000000;stroke-width:2.0px;stroke-linecap:butt;stroke-linejoin:miter;stroke-opacity:1' />\n",
       "<path class='bond-2 atom-2 atom-3' d='M 278.8,40.4 L 270.2,34.7' style='fill:none;fill-rule:evenodd;stroke:#0000FF;stroke-width:2.0px;stroke-linecap:butt;stroke-linejoin:miter;stroke-opacity:1' />\n",
       "<path class='bond-3 atom-3 atom-4' d='M 261.0,27.1 L 249.7,36.2' style='fill:none;fill-rule:evenodd;stroke:#0000FF;stroke-width:2.0px;stroke-linecap:butt;stroke-linejoin:miter;stroke-opacity:1' />\n",
       "<path class='bond-3 atom-3 atom-4' d='M 249.7,36.2 L 238.3,45.3' style='fill:none;fill-rule:evenodd;stroke:#000000;stroke-width:2.0px;stroke-linecap:butt;stroke-linejoin:miter;stroke-opacity:1' />\n",
       "<path class='bond-4 atom-4 atom-5' d='M 238.3,45.3 L 250.7,78.1' style='fill:none;fill-rule:evenodd;stroke:#000000;stroke-width:2.0px;stroke-linecap:butt;stroke-linejoin:miter;stroke-opacity:1' />\n",
       "<path class='bond-4 atom-4 atom-5' d='M 246.7,47.7 L 255.4,70.7' style='fill:none;fill-rule:evenodd;stroke:#000000;stroke-width:2.0px;stroke-linecap:butt;stroke-linejoin:miter;stroke-opacity:1' />\n",
       "<path class='bond-14 atom-11 atom-4' d='M 208.3,40.4 L 223.3,42.8' style='fill:none;fill-rule:evenodd;stroke:#0000FF;stroke-width:2.0px;stroke-linecap:butt;stroke-linejoin:miter;stroke-opacity:1' />\n",
       "<path class='bond-14 atom-11 atom-4' d='M 223.3,42.8 L 238.3,45.3' style='fill:none;fill-rule:evenodd;stroke:#000000;stroke-width:2.0px;stroke-linecap:butt;stroke-linejoin:miter;stroke-opacity:1' />\n",
       "<path class='bond-5 atom-5 atom-6' d='M 250.7,78.1 L 228.5,105.2' style='fill:none;fill-rule:evenodd;stroke:#000000;stroke-width:2.0px;stroke-linecap:butt;stroke-linejoin:miter;stroke-opacity:1' />\n",
       "<path class='bond-6 atom-6 atom-7' d='M 225.2,106.4 L 230.3,119.9' style='fill:none;fill-rule:evenodd;stroke:#000000;stroke-width:2.0px;stroke-linecap:butt;stroke-linejoin:miter;stroke-opacity:1' />\n",
       "<path class='bond-6 atom-6 atom-7' d='M 230.3,119.9 L 235.4,133.3' style='fill:none;fill-rule:evenodd;stroke:#FF0000;stroke-width:2.0px;stroke-linecap:butt;stroke-linejoin:miter;stroke-opacity:1' />\n",
       "<path class='bond-6 atom-6 atom-7' d='M 231.8,104.0 L 236.9,117.4' style='fill:none;fill-rule:evenodd;stroke:#000000;stroke-width:2.0px;stroke-linecap:butt;stroke-linejoin:miter;stroke-opacity:1' />\n",
       "<path class='bond-6 atom-6 atom-7' d='M 236.9,117.4 L 242.0,130.9' style='fill:none;fill-rule:evenodd;stroke:#FF0000;stroke-width:2.0px;stroke-linecap:butt;stroke-linejoin:miter;stroke-opacity:1' />\n",
       "<path class='bond-7 atom-6 atom-8' d='M 228.5,105.2 L 213.5,102.8' style='fill:none;fill-rule:evenodd;stroke:#000000;stroke-width:2.0px;stroke-linecap:butt;stroke-linejoin:miter;stroke-opacity:1' />\n",
       "<path class='bond-7 atom-6 atom-8' d='M 213.5,102.8 L 198.5,100.3' style='fill:none;fill-rule:evenodd;stroke:#0000FF;stroke-width:2.0px;stroke-linecap:butt;stroke-linejoin:miter;stroke-opacity:1' />\n",
       "<path class='bond-8 atom-8 atom-9' d='M 191.7,93.7 L 186.6,80.2' style='fill:none;fill-rule:evenodd;stroke:#0000FF;stroke-width:2.0px;stroke-linecap:butt;stroke-linejoin:miter;stroke-opacity:1' />\n",
       "<path class='bond-8 atom-8 atom-9' d='M 186.6,80.2 L 181.5,66.8' style='fill:none;fill-rule:evenodd;stroke:#000000;stroke-width:2.0px;stroke-linecap:butt;stroke-linejoin:miter;stroke-opacity:1' />\n",
       "<path class='bond-12 atom-8 atom-13' d='M 189.3,105.2 L 180.5,116.0' style='fill:none;fill-rule:evenodd;stroke:#0000FF;stroke-width:2.0px;stroke-linecap:butt;stroke-linejoin:miter;stroke-opacity:1' />\n",
       "<path class='bond-12 atom-8 atom-13' d='M 180.5,116.0 L 171.7,126.7' style='fill:none;fill-rule:evenodd;stroke:#000000;stroke-width:2.0px;stroke-linecap:butt;stroke-linejoin:miter;stroke-opacity:1' />\n",
       "<path class='bond-9 atom-9 atom-10' d='M 182.1,63.3 L 167.5,60.9' style='fill:none;fill-rule:evenodd;stroke:#000000;stroke-width:2.0px;stroke-linecap:butt;stroke-linejoin:miter;stroke-opacity:1' />\n",
       "<path class='bond-9 atom-9 atom-10' d='M 167.5,60.9 L 152.9,58.5' style='fill:none;fill-rule:evenodd;stroke:#FF0000;stroke-width:2.0px;stroke-linecap:butt;stroke-linejoin:miter;stroke-opacity:1' />\n",
       "<path class='bond-9 atom-9 atom-10' d='M 180.9,70.2 L 166.4,67.8' style='fill:none;fill-rule:evenodd;stroke:#000000;stroke-width:2.0px;stroke-linecap:butt;stroke-linejoin:miter;stroke-opacity:1' />\n",
       "<path class='bond-9 atom-9 atom-10' d='M 166.4,67.8 L 151.8,65.4' style='fill:none;fill-rule:evenodd;stroke:#FF0000;stroke-width:2.0px;stroke-linecap:butt;stroke-linejoin:miter;stroke-opacity:1' />\n",
       "<path class='bond-10 atom-9 atom-11' d='M 181.5,66.8 L 190.3,56.0' style='fill:none;fill-rule:evenodd;stroke:#000000;stroke-width:2.0px;stroke-linecap:butt;stroke-linejoin:miter;stroke-opacity:1' />\n",
       "<path class='bond-10 atom-9 atom-11' d='M 190.3,56.0 L 199.1,45.3' style='fill:none;fill-rule:evenodd;stroke:#0000FF;stroke-width:2.0px;stroke-linecap:butt;stroke-linejoin:miter;stroke-opacity:1' />\n",
       "<path class='bond-11 atom-11 atom-12' d='M 201.5,33.8 L 196.4,20.3' style='fill:none;fill-rule:evenodd;stroke:#0000FF;stroke-width:2.0px;stroke-linecap:butt;stroke-linejoin:miter;stroke-opacity:1' />\n",
       "<path class='bond-11 atom-11 atom-12' d='M 196.4,20.3 L 191.3,6.8' style='fill:none;fill-rule:evenodd;stroke:#000000;stroke-width:2.0px;stroke-linecap:butt;stroke-linejoin:miter;stroke-opacity:1' />\n",
       "<path  class='atom-1' d='M 283.5 71.4\n",
       "L 286.8 76.7\n",
       "Q 287.1 77.2, 287.6 78.2\n",
       "Q 288.2 79.1, 288.2 79.2\n",
       "L 288.2 71.4\n",
       "L 289.5 71.4\n",
       "L 289.5 81.4\n",
       "L 288.1 81.4\n",
       "L 284.6 75.6\n",
       "Q 284.2 75.0, 283.8 74.2\n",
       "Q 283.4 73.4, 283.3 73.2\n",
       "L 283.3 81.4\n",
       "L 282.0 81.4\n",
       "L 282.0 71.4\n",
       "L 283.5 71.4\n",
       "' fill='#0000FF'/>\n",
       "<path  class='atom-3' d='M 263.5 18.4\n",
       "L 266.7 23.6\n",
       "Q 267.0 24.2, 267.6 25.1\n",
       "Q 268.1 26.0, 268.1 26.1\n",
       "L 268.1 18.4\n",
       "L 269.4 18.4\n",
       "L 269.4 28.3\n",
       "L 268.1 28.3\n",
       "L 264.6 22.6\n",
       "Q 264.2 21.9, 263.7 21.1\n",
       "Q 263.3 20.3, 263.2 20.1\n",
       "L 263.2 28.3\n",
       "L 261.9 28.3\n",
       "L 261.9 18.4\n",
       "L 263.5 18.4\n",
       "' fill='#0000FF'/>\n",
       "<path  class='atom-7' d='M 236.3 138.0\n",
       "Q 236.3 135.7, 237.5 134.3\n",
       "Q 238.7 133.0, 240.9 133.0\n",
       "Q 243.1 133.0, 244.3 134.3\n",
       "Q 245.5 135.7, 245.5 138.0\n",
       "Q 245.5 140.4, 244.3 141.8\n",
       "Q 243.1 143.2, 240.9 143.2\n",
       "Q 238.7 143.2, 237.5 141.8\n",
       "Q 236.3 140.5, 236.3 138.0\n",
       "M 240.9 142.1\n",
       "Q 242.4 142.1, 243.2 141.0\n",
       "Q 244.1 140.0, 244.1 138.0\n",
       "Q 244.1 136.1, 243.2 135.1\n",
       "Q 242.4 134.1, 240.9 134.1\n",
       "Q 239.4 134.1, 238.6 135.1\n",
       "Q 237.7 136.1, 237.7 138.0\n",
       "Q 237.7 140.0, 238.6 141.0\n",
       "Q 239.4 142.1, 240.9 142.1\n",
       "' fill='#FF0000'/>\n",
       "<path  class='atom-8' d='M 191.7 94.6\n",
       "L 195.0 99.8\n",
       "Q 195.3 100.4, 195.8 101.3\n",
       "Q 196.3 102.2, 196.3 102.3\n",
       "L 196.3 94.6\n",
       "L 197.7 94.6\n",
       "L 197.7 104.5\n",
       "L 196.3 104.5\n",
       "L 192.8 98.8\n",
       "Q 192.4 98.1, 192.0 97.3\n",
       "Q 191.6 96.5, 191.4 96.3\n",
       "L 191.4 104.5\n",
       "L 190.1 104.5\n",
       "L 190.1 94.6\n",
       "L 191.7 94.6\n",
       "' fill='#0000FF'/>\n",
       "<path  class='atom-10' d='M 142.3 61.1\n",
       "Q 142.3 58.7, 143.5 57.4\n",
       "Q 144.7 56.1, 146.9 56.1\n",
       "Q 149.1 56.1, 150.3 57.4\n",
       "Q 151.5 58.7, 151.5 61.1\n",
       "Q 151.5 63.5, 150.3 64.9\n",
       "Q 149.1 66.3, 146.9 66.3\n",
       "Q 144.7 66.3, 143.5 64.9\n",
       "Q 142.3 63.5, 142.3 61.1\n",
       "M 146.9 65.1\n",
       "Q 148.4 65.1, 149.2 64.1\n",
       "Q 150.1 63.1, 150.1 61.1\n",
       "Q 150.1 59.2, 149.2 58.2\n",
       "Q 148.4 57.2, 146.9 57.2\n",
       "Q 145.4 57.2, 144.6 58.2\n",
       "Q 143.7 59.2, 143.7 61.1\n",
       "Q 143.7 63.1, 144.6 64.1\n",
       "Q 145.4 65.1, 146.9 65.1\n",
       "' fill='#FF0000'/>\n",
       "<path  class='atom-11' d='M 201.5 34.7\n",
       "L 204.8 39.9\n",
       "Q 205.1 40.4, 205.6 41.4\n",
       "Q 206.1 42.3, 206.2 42.4\n",
       "L 206.2 34.7\n",
       "L 207.5 34.7\n",
       "L 207.5 44.6\n",
       "L 206.1 44.6\n",
       "L 202.6 38.8\n",
       "Q 202.2 38.2, 201.8 37.4\n",
       "Q 201.4 36.6, 201.2 36.4\n",
       "L 201.2 44.6\n",
       "L 199.9 44.6\n",
       "L 199.9 34.7\n",
       "L 201.5 34.7\n",
       "' fill='#0000FF'/>\n",
       "</svg>\n"
      ],
      "text/html": [
       "<?xml version='1.0' encoding='iso-8859-1'?>\n",
       "<svg version='1.1' baseProfile='full'\n",
       "              xmlns='http://www.w3.org/2000/svg'\n",
       "                      xmlns:rdkit='http://www.rdkit.org/xml'\n",
       "                      xmlns:xlink='http://www.w3.org/1999/xlink'\n",
       "                  xml:space='preserve'\n",
       "width='450px' height='150px' viewBox='0 0 450 150'>\n",
       "<!-- END OF HEADER -->\n",
       "<rect style='opacity:1.0;fill:#FFFFFF;stroke:none' width='450.0' height='150.0' x='0.0' y='0.0'> </rect>\n",
       "<path class='bond-0 atom-0 atom-1' d='M 307.7,103.8 L 299.0,93.0' style='fill:none;fill-rule:evenodd;stroke:#000000;stroke-width:2.0px;stroke-linecap:butt;stroke-linejoin:miter;stroke-opacity:1' />\n",
       "<path class='bond-0 atom-0 atom-1' d='M 299.0,93.0 L 290.4,82.2' style='fill:none;fill-rule:evenodd;stroke:#0000FF;stroke-width:2.0px;stroke-linecap:butt;stroke-linejoin:miter;stroke-opacity:1' />\n",
       "<path class='bond-1 atom-1 atom-2' d='M 287.3,70.6 L 291.2,56.6' style='fill:none;fill-rule:evenodd;stroke:#0000FF;stroke-width:2.0px;stroke-linecap:butt;stroke-linejoin:miter;stroke-opacity:1' />\n",
       "<path class='bond-1 atom-1 atom-2' d='M 291.2,56.6 L 295.0,42.6' style='fill:none;fill-rule:evenodd;stroke:#000000;stroke-width:2.0px;stroke-linecap:butt;stroke-linejoin:miter;stroke-opacity:1' />\n",
       "<path class='bond-13 atom-5 atom-1' d='M 250.7,78.1 L 265.9,77.4' style='fill:none;fill-rule:evenodd;stroke:#000000;stroke-width:2.0px;stroke-linecap:butt;stroke-linejoin:miter;stroke-opacity:1' />\n",
       "<path class='bond-13 atom-5 atom-1' d='M 265.9,77.4 L 281.1,76.6' style='fill:none;fill-rule:evenodd;stroke:#0000FF;stroke-width:2.0px;stroke-linecap:butt;stroke-linejoin:miter;stroke-opacity:1' />\n",
       "<path class='bond-2 atom-2 atom-3' d='M 295.0,42.6 L 282.6,34.5' style='fill:none;fill-rule:evenodd;stroke:#000000;stroke-width:2.0px;stroke-linecap:butt;stroke-linejoin:miter;stroke-opacity:1' />\n",
       "<path class='bond-2 atom-2 atom-3' d='M 282.6,34.5 L 270.3,26.4' style='fill:none;fill-rule:evenodd;stroke:#0000FF;stroke-width:2.0px;stroke-linecap:butt;stroke-linejoin:miter;stroke-opacity:1' />\n",
       "<path class='bond-2 atom-2 atom-3' d='M 287.4,46.0 L 278.8,40.4' style='fill:none;fill-rule:evenodd;stroke:#000000;stroke-width:2.0px;stroke-linecap:butt;stroke-linejoin:miter;stroke-opacity:1' />\n",
       "<path class='bond-2 atom-2 atom-3' d='M 278.8,40.4 L 270.2,34.7' style='fill:none;fill-rule:evenodd;stroke:#0000FF;stroke-width:2.0px;stroke-linecap:butt;stroke-linejoin:miter;stroke-opacity:1' />\n",
       "<path class='bond-3 atom-3 atom-4' d='M 261.0,27.1 L 249.7,36.2' style='fill:none;fill-rule:evenodd;stroke:#0000FF;stroke-width:2.0px;stroke-linecap:butt;stroke-linejoin:miter;stroke-opacity:1' />\n",
       "<path class='bond-3 atom-3 atom-4' d='M 249.7,36.2 L 238.3,45.3' style='fill:none;fill-rule:evenodd;stroke:#000000;stroke-width:2.0px;stroke-linecap:butt;stroke-linejoin:miter;stroke-opacity:1' />\n",
       "<path class='bond-4 atom-4 atom-5' d='M 238.3,45.3 L 250.7,78.1' style='fill:none;fill-rule:evenodd;stroke:#000000;stroke-width:2.0px;stroke-linecap:butt;stroke-linejoin:miter;stroke-opacity:1' />\n",
       "<path class='bond-4 atom-4 atom-5' d='M 246.7,47.7 L 255.4,70.7' style='fill:none;fill-rule:evenodd;stroke:#000000;stroke-width:2.0px;stroke-linecap:butt;stroke-linejoin:miter;stroke-opacity:1' />\n",
       "<path class='bond-14 atom-11 atom-4' d='M 208.3,40.4 L 223.3,42.8' style='fill:none;fill-rule:evenodd;stroke:#0000FF;stroke-width:2.0px;stroke-linecap:butt;stroke-linejoin:miter;stroke-opacity:1' />\n",
       "<path class='bond-14 atom-11 atom-4' d='M 223.3,42.8 L 238.3,45.3' style='fill:none;fill-rule:evenodd;stroke:#000000;stroke-width:2.0px;stroke-linecap:butt;stroke-linejoin:miter;stroke-opacity:1' />\n",
       "<path class='bond-5 atom-5 atom-6' d='M 250.7,78.1 L 228.5,105.2' style='fill:none;fill-rule:evenodd;stroke:#000000;stroke-width:2.0px;stroke-linecap:butt;stroke-linejoin:miter;stroke-opacity:1' />\n",
       "<path class='bond-6 atom-6 atom-7' d='M 225.2,106.4 L 230.3,119.9' style='fill:none;fill-rule:evenodd;stroke:#000000;stroke-width:2.0px;stroke-linecap:butt;stroke-linejoin:miter;stroke-opacity:1' />\n",
       "<path class='bond-6 atom-6 atom-7' d='M 230.3,119.9 L 235.4,133.3' style='fill:none;fill-rule:evenodd;stroke:#FF0000;stroke-width:2.0px;stroke-linecap:butt;stroke-linejoin:miter;stroke-opacity:1' />\n",
       "<path class='bond-6 atom-6 atom-7' d='M 231.8,104.0 L 236.9,117.4' style='fill:none;fill-rule:evenodd;stroke:#000000;stroke-width:2.0px;stroke-linecap:butt;stroke-linejoin:miter;stroke-opacity:1' />\n",
       "<path class='bond-6 atom-6 atom-7' d='M 236.9,117.4 L 242.0,130.9' style='fill:none;fill-rule:evenodd;stroke:#FF0000;stroke-width:2.0px;stroke-linecap:butt;stroke-linejoin:miter;stroke-opacity:1' />\n",
       "<path class='bond-7 atom-6 atom-8' d='M 228.5,105.2 L 213.5,102.8' style='fill:none;fill-rule:evenodd;stroke:#000000;stroke-width:2.0px;stroke-linecap:butt;stroke-linejoin:miter;stroke-opacity:1' />\n",
       "<path class='bond-7 atom-6 atom-8' d='M 213.5,102.8 L 198.5,100.3' style='fill:none;fill-rule:evenodd;stroke:#0000FF;stroke-width:2.0px;stroke-linecap:butt;stroke-linejoin:miter;stroke-opacity:1' />\n",
       "<path class='bond-8 atom-8 atom-9' d='M 191.7,93.7 L 186.6,80.2' style='fill:none;fill-rule:evenodd;stroke:#0000FF;stroke-width:2.0px;stroke-linecap:butt;stroke-linejoin:miter;stroke-opacity:1' />\n",
       "<path class='bond-8 atom-8 atom-9' d='M 186.6,80.2 L 181.5,66.8' style='fill:none;fill-rule:evenodd;stroke:#000000;stroke-width:2.0px;stroke-linecap:butt;stroke-linejoin:miter;stroke-opacity:1' />\n",
       "<path class='bond-12 atom-8 atom-13' d='M 189.3,105.2 L 180.5,116.0' style='fill:none;fill-rule:evenodd;stroke:#0000FF;stroke-width:2.0px;stroke-linecap:butt;stroke-linejoin:miter;stroke-opacity:1' />\n",
       "<path class='bond-12 atom-8 atom-13' d='M 180.5,116.0 L 171.7,126.7' style='fill:none;fill-rule:evenodd;stroke:#000000;stroke-width:2.0px;stroke-linecap:butt;stroke-linejoin:miter;stroke-opacity:1' />\n",
       "<path class='bond-9 atom-9 atom-10' d='M 182.1,63.3 L 167.5,60.9' style='fill:none;fill-rule:evenodd;stroke:#000000;stroke-width:2.0px;stroke-linecap:butt;stroke-linejoin:miter;stroke-opacity:1' />\n",
       "<path class='bond-9 atom-9 atom-10' d='M 167.5,60.9 L 152.9,58.5' style='fill:none;fill-rule:evenodd;stroke:#FF0000;stroke-width:2.0px;stroke-linecap:butt;stroke-linejoin:miter;stroke-opacity:1' />\n",
       "<path class='bond-9 atom-9 atom-10' d='M 180.9,70.2 L 166.4,67.8' style='fill:none;fill-rule:evenodd;stroke:#000000;stroke-width:2.0px;stroke-linecap:butt;stroke-linejoin:miter;stroke-opacity:1' />\n",
       "<path class='bond-9 atom-9 atom-10' d='M 166.4,67.8 L 151.8,65.4' style='fill:none;fill-rule:evenodd;stroke:#FF0000;stroke-width:2.0px;stroke-linecap:butt;stroke-linejoin:miter;stroke-opacity:1' />\n",
       "<path class='bond-10 atom-9 atom-11' d='M 181.5,66.8 L 190.3,56.0' style='fill:none;fill-rule:evenodd;stroke:#000000;stroke-width:2.0px;stroke-linecap:butt;stroke-linejoin:miter;stroke-opacity:1' />\n",
       "<path class='bond-10 atom-9 atom-11' d='M 190.3,56.0 L 199.1,45.3' style='fill:none;fill-rule:evenodd;stroke:#0000FF;stroke-width:2.0px;stroke-linecap:butt;stroke-linejoin:miter;stroke-opacity:1' />\n",
       "<path class='bond-11 atom-11 atom-12' d='M 201.5,33.8 L 196.4,20.3' style='fill:none;fill-rule:evenodd;stroke:#0000FF;stroke-width:2.0px;stroke-linecap:butt;stroke-linejoin:miter;stroke-opacity:1' />\n",
       "<path class='bond-11 atom-11 atom-12' d='M 196.4,20.3 L 191.3,6.8' style='fill:none;fill-rule:evenodd;stroke:#000000;stroke-width:2.0px;stroke-linecap:butt;stroke-linejoin:miter;stroke-opacity:1' />\n",
       "<path  class='atom-1' d='M 283.5 71.4\n",
       "L 286.8 76.7\n",
       "Q 287.1 77.2, 287.6 78.2\n",
       "Q 288.2 79.1, 288.2 79.2\n",
       "L 288.2 71.4\n",
       "L 289.5 71.4\n",
       "L 289.5 81.4\n",
       "L 288.1 81.4\n",
       "L 284.6 75.6\n",
       "Q 284.2 75.0, 283.8 74.2\n",
       "Q 283.4 73.4, 283.3 73.2\n",
       "L 283.3 81.4\n",
       "L 282.0 81.4\n",
       "L 282.0 71.4\n",
       "L 283.5 71.4\n",
       "' fill='#0000FF'/>\n",
       "<path  class='atom-3' d='M 263.5 18.4\n",
       "L 266.7 23.6\n",
       "Q 267.0 24.2, 267.6 25.1\n",
       "Q 268.1 26.0, 268.1 26.1\n",
       "L 268.1 18.4\n",
       "L 269.4 18.4\n",
       "L 269.4 28.3\n",
       "L 268.1 28.3\n",
       "L 264.6 22.6\n",
       "Q 264.2 21.9, 263.7 21.1\n",
       "Q 263.3 20.3, 263.2 20.1\n",
       "L 263.2 28.3\n",
       "L 261.9 28.3\n",
       "L 261.9 18.4\n",
       "L 263.5 18.4\n",
       "' fill='#0000FF'/>\n",
       "<path  class='atom-7' d='M 236.3 138.0\n",
       "Q 236.3 135.7, 237.5 134.3\n",
       "Q 238.7 133.0, 240.9 133.0\n",
       "Q 243.1 133.0, 244.3 134.3\n",
       "Q 245.5 135.7, 245.5 138.0\n",
       "Q 245.5 140.4, 244.3 141.8\n",
       "Q 243.1 143.2, 240.9 143.2\n",
       "Q 238.7 143.2, 237.5 141.8\n",
       "Q 236.3 140.5, 236.3 138.0\n",
       "M 240.9 142.1\n",
       "Q 242.4 142.1, 243.2 141.0\n",
       "Q 244.1 140.0, 244.1 138.0\n",
       "Q 244.1 136.1, 243.2 135.1\n",
       "Q 242.4 134.1, 240.9 134.1\n",
       "Q 239.4 134.1, 238.6 135.1\n",
       "Q 237.7 136.1, 237.7 138.0\n",
       "Q 237.7 140.0, 238.6 141.0\n",
       "Q 239.4 142.1, 240.9 142.1\n",
       "' fill='#FF0000'/>\n",
       "<path  class='atom-8' d='M 191.7 94.6\n",
       "L 195.0 99.8\n",
       "Q 195.3 100.4, 195.8 101.3\n",
       "Q 196.3 102.2, 196.3 102.3\n",
       "L 196.3 94.6\n",
       "L 197.7 94.6\n",
       "L 197.7 104.5\n",
       "L 196.3 104.5\n",
       "L 192.8 98.8\n",
       "Q 192.4 98.1, 192.0 97.3\n",
       "Q 191.6 96.5, 191.4 96.3\n",
       "L 191.4 104.5\n",
       "L 190.1 104.5\n",
       "L 190.1 94.6\n",
       "L 191.7 94.6\n",
       "' fill='#0000FF'/>\n",
       "<path  class='atom-10' d='M 142.3 61.1\n",
       "Q 142.3 58.7, 143.5 57.4\n",
       "Q 144.7 56.1, 146.9 56.1\n",
       "Q 149.1 56.1, 150.3 57.4\n",
       "Q 151.5 58.7, 151.5 61.1\n",
       "Q 151.5 63.5, 150.3 64.9\n",
       "Q 149.1 66.3, 146.9 66.3\n",
       "Q 144.7 66.3, 143.5 64.9\n",
       "Q 142.3 63.5, 142.3 61.1\n",
       "M 146.9 65.1\n",
       "Q 148.4 65.1, 149.2 64.1\n",
       "Q 150.1 63.1, 150.1 61.1\n",
       "Q 150.1 59.2, 149.2 58.2\n",
       "Q 148.4 57.2, 146.9 57.2\n",
       "Q 145.4 57.2, 144.6 58.2\n",
       "Q 143.7 59.2, 143.7 61.1\n",
       "Q 143.7 63.1, 144.6 64.1\n",
       "Q 145.4 65.1, 146.9 65.1\n",
       "' fill='#FF0000'/>\n",
       "<path  class='atom-11' d='M 201.5 34.7\n",
       "L 204.8 39.9\n",
       "Q 205.1 40.4, 205.6 41.4\n",
       "Q 206.1 42.3, 206.2 42.4\n",
       "L 206.2 34.7\n",
       "L 207.5 34.7\n",
       "L 207.5 44.6\n",
       "L 206.1 44.6\n",
       "L 202.6 38.8\n",
       "Q 202.2 38.2, 201.8 37.4\n",
       "Q 201.4 36.6, 201.2 36.4\n",
       "L 201.2 44.6\n",
       "L 199.9 44.6\n",
       "L 199.9 34.7\n",
       "L 201.5 34.7\n",
       "' fill='#0000FF'/>\n",
       "</svg>\n"
      ],
      "text/plain": [
       "<rdkit.Chem.rdchem.Mol at 0x7ff370d88fa0>"
      ]
     },
     "execution_count": 2,
     "metadata": {},
     "output_type": "execute_result"
    }
   ],
   "source": [
    "# Here we define a caffeine molecule using Smiles.\n",
    "mol_caffeine = Chem.MolFromSmiles(\"CN1C=NC2=C1C(=O)N(C(=O)N2C)C\")\n",
    "mol_caffeine"
   ]
  },
  {
   "cell_type": "markdown",
   "metadata": {
    "id": "EQHD5bdF5a68"
   },
   "source": [
    "Let us now take consider chirality.\n",
    "For instance, consider [2-Butanol](https://en.wikipedia.org/wiki/2-Butanol).\n",
    "The molecule has two configurations that are mirror images of each other (also called **enantiomer**). For more information and a 3D visualization, we refer to [this tutorial](https://chem.libretexts.org/Bookshelves/Organic_Chemistry/Map%3A_Organic_Chemistry_(Vollhardt_and_Schore)/05._Stereoisomers/5.1%3A_Chiral__Molecules)."
   ]
  },
  {
   "cell_type": "code",
   "execution_count": 3,
   "metadata": {
    "colab": {
     "base_uri": "https://localhost:8080/",
     "height": 221
    },
    "id": "rvqZNsOJ5fot",
    "outputId": "8bab5180-df90-4efe-d9a0-b58e663f043f"
   },
   "outputs": [
    {
     "data": {
      "image/svg+xml": [
       "<svg xmlns=\"http://www.w3.org/2000/svg\" xmlns:rdkit=\"http://www.rdkit.org/xml\" xmlns:xlink=\"http://www.w3.org/1999/xlink\" version=\"1.1\" baseProfile=\"full\" xml:space=\"preserve\" width=\"600px\" height=\"200px\" viewBox=\"0 0 600 200\">\n",
       "<!-- END OF HEADER -->\n",
       "<rect style=\"opacity:1.0;fill:#FFFFFF;stroke:none\" width=\"600.0\" height=\"200.0\" x=\"0.0\" y=\"0.0\"> </rect>\n",
       "<rect style=\"opacity:1.0;fill:#FFFFFF;stroke:none\" width=\"600.0\" height=\"200.0\" x=\"0.0\" y=\"0.0\"> </rect>\n",
       "<rect style=\"opacity:1.0;fill:#FFFFFF;stroke:none\" width=\"600.0\" height=\"200.0\" x=\"0.0\" y=\"0.0\"> </rect>\n",
       "<rect style=\"opacity:1.0;fill:#FFFFFF;stroke:none\" width=\"600.0\" height=\"200.0\" x=\"0.0\" y=\"0.0\"> </rect>\n",
       "<path class=\"bond-0 atom-0 atom-1\" d=\"M 9.1,77.3 L 69.7,42.3\" style=\"fill:none;fill-rule:evenodd;stroke:#000000;stroke-width:2.0px;stroke-linecap:butt;stroke-linejoin:miter;stroke-opacity:1\"/>\n",
       "<path class=\"bond-1 atom-1 atom-2\" d=\"M 69.7,42.3 L 130.3,77.3\" style=\"fill:none;fill-rule:evenodd;stroke:#000000;stroke-width:2.0px;stroke-linecap:butt;stroke-linejoin:miter;stroke-opacity:1\"/>\n",
       "<path class=\"bond-2 atom-2 atom-3\" d=\"M 130.3,77.3 L 190.9,42.3\" style=\"fill:none;fill-rule:evenodd;stroke:#000000;stroke-width:2.0px;stroke-linecap:butt;stroke-linejoin:miter;stroke-opacity:1\"/>\n",
       "<path class=\"bond-3 atom-2 atom-4\" d=\"M 130.3,77.3 L 130.3,106.4\" style=\"fill:none;fill-rule:evenodd;stroke:#000000;stroke-width:2.0px;stroke-linecap:butt;stroke-linejoin:miter;stroke-opacity:1\"/>\n",
       "<path class=\"bond-3 atom-2 atom-4\" d=\"M 130.3,106.4 L 130.3,135.6\" style=\"fill:none;fill-rule:evenodd;stroke:#FF0000;stroke-width:2.0px;stroke-linecap:butt;stroke-linejoin:miter;stroke-opacity:1\"/>\n",
       "<path class=\"atom-4\" d=\"M 121.2 147.4 Q 121.2 142.6, 123.6 140.0 Q 125.9 137.3, 130.3 137.3 Q 134.7 137.3, 137.0 140.0 Q 139.4 142.6, 139.4 147.4 Q 139.4 152.2, 137.0 154.9 Q 134.6 157.7, 130.3 157.7 Q 125.9 157.7, 123.6 154.9 Q 121.2 152.2, 121.2 147.4 M 130.3 155.4 Q 133.3 155.4, 134.9 153.4 Q 136.6 151.4, 136.6 147.4 Q 136.6 143.5, 134.9 141.5 Q 133.3 139.5, 130.3 139.5 Q 127.3 139.5, 125.6 141.5 Q 124.0 143.5, 124.0 147.4 Q 124.0 151.4, 125.6 153.4 Q 127.3 155.4, 130.3 155.4 \" fill=\"#FF0000\"/>\n",
       "<path class=\"atom-4\" d=\"M 141.8 137.5 L 144.5 137.5 L 144.5 146.0 L 154.6 146.0 L 154.6 137.5 L 157.3 137.5 L 157.3 157.3 L 154.6 157.3 L 154.6 148.2 L 144.5 148.2 L 144.5 157.3 L 141.8 157.3 L 141.8 137.5 \" fill=\"#FF0000\"/>\n",
       "<path class=\"bond-0 atom-0 atom-1\" d=\"M 209.1,77.3 L 269.7,42.3\" style=\"fill:none;fill-rule:evenodd;stroke:#000000;stroke-width:2.0px;stroke-linecap:butt;stroke-linejoin:miter;stroke-opacity:1\"/>\n",
       "<path class=\"bond-1 atom-1 atom-2\" d=\"M 269.7,42.3 L 330.3,77.3\" style=\"fill:none;fill-rule:evenodd;stroke:#000000;stroke-width:2.0px;stroke-linecap:butt;stroke-linejoin:miter;stroke-opacity:1\"/>\n",
       "<path class=\"bond-2 atom-2 atom-3\" d=\"M 340.8,72.1 L 340.1,70.9\" style=\"fill:none;fill-rule:evenodd;stroke:#000000;stroke-width:1.0px;stroke-linecap:butt;stroke-linejoin:miter;stroke-opacity:1\"/>\n",
       "<path class=\"bond-2 atom-2 atom-3\" d=\"M 351.2,66.9 L 349.8,64.5\" style=\"fill:none;fill-rule:evenodd;stroke:#000000;stroke-width:1.0px;stroke-linecap:butt;stroke-linejoin:miter;stroke-opacity:1\"/>\n",
       "<path class=\"bond-2 atom-2 atom-3\" d=\"M 361.7,61.7 L 359.6,58.0\" style=\"fill:none;fill-rule:evenodd;stroke:#000000;stroke-width:1.0px;stroke-linecap:butt;stroke-linejoin:miter;stroke-opacity:1\"/>\n",
       "<path class=\"bond-2 atom-2 atom-3\" d=\"M 372.1,56.4 L 369.3,51.6\" style=\"fill:none;fill-rule:evenodd;stroke:#000000;stroke-width:1.0px;stroke-linecap:butt;stroke-linejoin:miter;stroke-opacity:1\"/>\n",
       "<path class=\"bond-2 atom-2 atom-3\" d=\"M 382.6,51.2 L 379.1,45.2\" style=\"fill:none;fill-rule:evenodd;stroke:#000000;stroke-width:1.0px;stroke-linecap:butt;stroke-linejoin:miter;stroke-opacity:1\"/>\n",
       "<path class=\"bond-2 atom-2 atom-3\" d=\"M 393.0,46.0 L 388.8,38.7\" style=\"fill:none;fill-rule:evenodd;stroke:#000000;stroke-width:1.0px;stroke-linecap:butt;stroke-linejoin:miter;stroke-opacity:1\"/>\n",
       "<path class=\"bond-3 atom-2 atom-4\" d=\"M 330.3,77.3 L 330.3,106.4\" style=\"fill:none;fill-rule:evenodd;stroke:#000000;stroke-width:2.0px;stroke-linecap:butt;stroke-linejoin:miter;stroke-opacity:1\"/>\n",
       "<path class=\"bond-3 atom-2 atom-4\" d=\"M 330.3,106.4 L 330.3,135.6\" style=\"fill:none;fill-rule:evenodd;stroke:#FF0000;stroke-width:2.0px;stroke-linecap:butt;stroke-linejoin:miter;stroke-opacity:1\"/>\n",
       "<path class=\"atom-4\" d=\"M 321.2 147.4 Q 321.2 142.6, 323.6 140.0 Q 325.9 137.3, 330.3 137.3 Q 334.7 137.3, 337.0 140.0 Q 339.4 142.6, 339.4 147.4 Q 339.4 152.2, 337.0 154.9 Q 334.6 157.7, 330.3 157.7 Q 325.9 157.7, 323.6 154.9 Q 321.2 152.2, 321.2 147.4 M 330.3 155.4 Q 333.3 155.4, 334.9 153.4 Q 336.6 151.4, 336.6 147.4 Q 336.6 143.5, 334.9 141.5 Q 333.3 139.5, 330.3 139.5 Q 327.3 139.5, 325.6 141.5 Q 324.0 143.5, 324.0 147.4 Q 324.0 151.4, 325.6 153.4 Q 327.3 155.4, 330.3 155.4 \" fill=\"#FF0000\"/>\n",
       "<path class=\"atom-4\" d=\"M 341.8 137.5 L 344.5 137.5 L 344.5 146.0 L 354.6 146.0 L 354.6 137.5 L 357.3 137.5 L 357.3 157.3 L 354.6 157.3 L 354.6 148.2 L 344.5 148.2 L 344.5 157.3 L 341.8 157.3 L 341.8 137.5 \" fill=\"#FF0000\"/>\n",
       "<path class=\"bond-0 atom-0 atom-1\" d=\"M 409.1,77.3 L 469.7,42.3\" style=\"fill:none;fill-rule:evenodd;stroke:#000000;stroke-width:2.0px;stroke-linecap:butt;stroke-linejoin:miter;stroke-opacity:1\"/>\n",
       "<path class=\"bond-1 atom-1 atom-2\" d=\"M 469.7,42.3 L 530.3,77.3\" style=\"fill:none;fill-rule:evenodd;stroke:#000000;stroke-width:2.0px;stroke-linecap:butt;stroke-linejoin:miter;stroke-opacity:1\"/>\n",
       "<path class=\"bond-2 atom-2 atom-3\" d=\"M 530.3,77.3 L 593.0,46.0 L 588.8,38.7 Z\" style=\"fill:#000000;fill-rule:evenodd;fill-opacity:1;stroke:#000000;stroke-width:2.0px;stroke-linecap:butt;stroke-linejoin:miter;stroke-opacity:1;\"/>\n",
       "<path class=\"bond-3 atom-2 atom-4\" d=\"M 530.3,77.3 L 530.3,106.4\" style=\"fill:none;fill-rule:evenodd;stroke:#000000;stroke-width:2.0px;stroke-linecap:butt;stroke-linejoin:miter;stroke-opacity:1\"/>\n",
       "<path class=\"bond-3 atom-2 atom-4\" d=\"M 530.3,106.4 L 530.3,135.6\" style=\"fill:none;fill-rule:evenodd;stroke:#FF0000;stroke-width:2.0px;stroke-linecap:butt;stroke-linejoin:miter;stroke-opacity:1\"/>\n",
       "<path class=\"atom-4\" d=\"M 521.2 147.4 Q 521.2 142.6, 523.6 140.0 Q 525.9 137.3, 530.3 137.3 Q 534.7 137.3, 537.0 140.0 Q 539.4 142.6, 539.4 147.4 Q 539.4 152.2, 537.0 154.9 Q 534.6 157.7, 530.3 157.7 Q 525.9 157.7, 523.6 154.9 Q 521.2 152.2, 521.2 147.4 M 530.3 155.4 Q 533.3 155.4, 534.9 153.4 Q 536.6 151.4, 536.6 147.4 Q 536.6 143.5, 534.9 141.5 Q 533.3 139.5, 530.3 139.5 Q 527.3 139.5, 525.6 141.5 Q 524.0 143.5, 524.0 147.4 Q 524.0 151.4, 525.6 153.4 Q 527.3 155.4, 530.3 155.4 \" fill=\"#FF0000\"/>\n",
       "<path class=\"atom-4\" d=\"M 541.8 137.5 L 544.5 137.5 L 544.5 146.0 L 554.6 146.0 L 554.6 137.5 L 557.3 137.5 L 557.3 157.3 L 554.6 157.3 L 554.6 148.2 L 544.5 148.2 L 544.5 157.3 L 541.8 157.3 L 541.8 137.5 \" fill=\"#FF0000\"/>\n",
       "</svg>"
      ],
      "text/plain": [
       "<IPython.core.display.SVG object>"
      ]
     },
     "execution_count": 3,
     "metadata": {},
     "output_type": "execute_result"
    }
   ],
   "source": [
    "mol1 = Chem.MolFromSmiles(\"CC[CH](C)O\")  # without chiral information\n",
    "mol2 = Chem.MolFromSmiles(\"CC[C@H](C)O\")  # enantiomer 1\n",
    "mol3 = Chem.MolFromSmiles(\"CC[C@@H](C)O\")  # enantiomer 2\n",
    "\n",
    "Draw.MolsToGridImage([mol1, mol2, mol3], molsPerRow=3, subImgSize=(200, 200))"
   ]
  },
  {
   "cell_type": "markdown",
   "metadata": {
    "id": "AWII15ft83YJ"
   },
   "source": [
    "NGLViewer allows us to see a ball-and-stick visualization (example taken from [this](http://nglviewer.org/nglview/release/v0.6.1/api.html) tutorial, we also refer the reader to [Talktorial 009](https://github.com/volkamerlab/teachopencadd/blob/gg-033-molecular_representations/teachopencadd/talktorials/T009_compound_ensemble_pharmacophores/talktorial.ipynb))."
   ]
  },
  {
   "cell_type": "code",
   "execution_count": 4,
   "metadata": {
    "colab": {
     "base_uri": "https://localhost:8080/",
     "height": 17,
     "referenced_widgets": [
      "9d01434780bb45f792aaf91fac4deec5",
      "8e69ff6fdaa246ec825abbb4686f1840",
      "bd51e0e506fd4b95a54469a380f04af5",
      "b74f4520044d4e6097a9b3d0a4928607",
      "0d6c757d3aee4f198c31bc2fda0f1c9a",
      "adaa4fd0227a4771a0dd6aa16735fdc7",
      "644e42602bb24388884fdf7ae60d9abc"
     ]
    },
    "id": "gahUyxum8nmK",
    "outputId": "686b8964-63b0-49d4-9999-b6c33982028c"
   },
   "outputs": [
    {
     "data": {
      "application/vnd.jupyter.widget-view+json": {

       "model_id": "9a92d40c8b7048bdb8687d147494ca12",
       "version_major": 2,
       "version_minor": 0
      },
      "text/plain": [
       "NGLWidget()"
      ]
     },
     "metadata": {},
     "output_type": "display_data"
    }
   ],
   "source": [
    "m = Chem.AddHs(\n",
    "    Chem.MolFromSmiles(\"CC[C@@H](C)O\")\n",
    ")  # replace with 'CC[C@H](C)O' for other enantiomer\n",
    "AllChem.EmbedMultipleConfs(m, useExpTorsionAnglePrefs=True, useBasicKnowledge=True)\n",
    "view = nv.show_rdkit(m)\n",
    "view"
   ]
  },
  {
   "cell_type": "markdown",
   "metadata": {
    "id": "XLWrpfBs-ech"
   },
   "source": [
    "### Conformers"
   ]
  },
  {
   "cell_type": "markdown",
   "metadata": {},
   "source": [
    "We can generate a set of n conformers using rdkit's improved conformer generator [ETKDGv3](https://pubs.acs.org/doi/10.1021/acs.jcim.0c00025).\n",
    "\n",
    "We use aspirin as example molecule."
   ]
  },
  {
   "cell_type": "code",
   "execution_count": 5,
   "metadata": {},
   "outputs": [],
   "source": [
    "# generate moleucle from Smiles\n",
    "aspirin = Chem.MolFromSmiles(\"CC(=O)OC1=CC=CC=C1C(=O)O\")"
   ]
  },
  {
   "cell_type": "markdown",
   "metadata": {},
   "source": [
    "Generate 200 conformers"
   ]
  },
  {
   "cell_type": "code",
   "execution_count": 6,
   "metadata": {},
   "outputs": [
    {
     "data": {
      "text/plain": [
       "200"
      ]
     },
    }
    ],
   "source": [
    "# add hydrogens\n",
    "aspirin_h = Chem.AddHs(aspirin)\n",
    "# generate conformers\n",
    "ps = rdDistGeom.ETKDGv3()\n",
    "ps.randomSeed = 0xd06f00d\n",
    "ps.numThreads = 10\n",
    "conf_ids = rdDistGeom.EmbedMultipleConfs(aspirin_h,200,ps)\n",
    "len(conf_ids)"
   ]
  },
  {
   "cell_type": "code",
   "execution_count": 7,
   "metadata": {},
   "outputs": [],
   "source": [
    "# remove hydrogens again\n",
    "aspirin_3d = Chem.RemoveHs(aspirin_h)"
   ]
  },
  {
   "cell_type": "code",
   "execution_count": 19,
   "metadata": {},
   "outputs": [
    {
     "data": {
      "text/plain": [
       "array([[ 3.17177358e+00,  1.13975092e+00,  6.12050422e-01],\n",
       "       [ 1.98734957e+00,  3.90834457e-01,  9.19310127e-02],\n",
       "       [ 1.95434233e+00, -8.20849379e-02, -1.07284503e+00],\n",
       "       [ 8.65900335e-01,  1.97098454e-01,  9.10857701e-01],\n",
       "       [-2.14068548e-01, -5.02003119e-01,  3.95375173e-01],\n",
       "       [-3.07586031e-01, -1.87543768e+00,  5.04952185e-01],\n",
       "       [-1.40162108e+00, -2.53917464e+00, -2.25174878e-02],\n",
       "       [-2.39467097e+00, -1.80935952e+00, -6.57796038e-01],\n",
       "       [-2.31798424e+00, -4.42863585e-01, -7.75844847e-01],\n",
       "       [-1.20389423e+00,  2.11393890e-01, -2.36134063e-01],\n",
       "       [-1.08680181e+00,  1.64513299e+00, -3.38077955e-01],\n",
       "       [-1.97512940e+00,  2.30934384e+00, -9.08542136e-01],\n",
       "       [ 1.01675229e-03,  2.30156728e+00,  1.89444696e-01]])"
      ]
     },
     "execution_count": 8,
     "metadata": {},
     "output_type": "execute_result"
    }
   ],
   "source": [
    "# print the x,y,z coordinates of the 4 atoms of the first conformer.\n",
    "aspirin_3d.GetConformer(0).GetPositions()"
   ]
  },
  {
   "cell_type": "code",
   "execution_count": 9,
   "metadata": {},
   "outputs": [],
   "source": [
    "def show_conformers(molecule, ids):\n",
    "    \"\"\"Generate a view of the ligand conformations.\n",
    "\n",
    "    Parameters\n",
    "    -----------\n",
    "    molecule: rdkit.Chem.rdchem.Mol\n",
    "\n",
    "    Returns\n",
    "    ----------\n",
    "    nglview.widget.NGLWidget\n",
    "    \"\"\"\n",
    "    \n",
    "    view = nv.NGLWidget()\n",
    "    print(type(molecule))\n",
    "    for i in range(0, ids):\n",
    "        mb = Chem.MolToMolBlock(molecule, confId=i)\n",
    "        component = view.add_component(mb, ext='sdf')\n",
    "        time.sleep(0.1)\n",
    "        component.clear()\n",
    "        component.add_ball_and_stick(multipleBond=True)\n",
    "    return view"
   ]
  },
  {
   "cell_type": "code",
   "execution_count": 10,
   "metadata": {},
   "outputs": [
    {
     "name": "stdout",
     "output_type": "stream",
     "text": [
      "<class 'rdkit.Chem.rdchem.Mol'>\n"
     ]
    },
    {
     "data": {
      "text/plain": [
       "array([[ 3.17177358e+00,  1.13975092e+00,  6.12050422e-01],\n",
       "       [ 1.98734957e+00,  3.90834457e-01,  9.19310127e-02],\n",
       "       [ 1.95434233e+00, -8.20849379e-02, -1.07284503e+00],\n",
       "       [ 8.65900335e-01,  1.97098454e-01,  9.10857701e-01],\n",
       "       [-2.14068548e-01, -5.02003119e-01,  3.95375173e-01],\n",
       "       [-3.07586031e-01, -1.87543768e+00,  5.04952185e-01],\n",
       "       [-1.40162108e+00, -2.53917464e+00, -2.25174878e-02],\n",
       "       [-2.39467097e+00, -1.80935952e+00, -6.57796038e-01],\n",
       "       [-2.31798424e+00, -4.42863585e-01, -7.75844847e-01],\n",
       "       [-1.20389423e+00,  2.11393890e-01, -2.36134063e-01],\n",
       "       [-1.08680181e+00,  1.64513299e+00, -3.38077955e-01],\n",
       "       [-1.97512940e+00,  2.30934384e+00, -9.08542136e-01],\n",
       "       [ 1.01675229e-03,  2.30156728e+00,  1.89444696e-01]])"
      ]
     },
     "execution_count": 8,
     "metadata": {},
     "output_type": "execute_result"
    }
   ],
   "source": [
    "# print the x,y,z coordinates of the 4 atoms of the first conformer.\n",
    "aspirin_3d.GetConformer(0).GetPositions()"
   ]
  },
  {
   "cell_type": "code",
   "execution_count": 9,
   "metadata": {},
   "outputs": [],
   "source": [
    "def show_conformers(molecule, ids):\n",
    "    \"\"\"Generate a view of the ligand conformations.\n",
    "\n",
    "    Parameters\n",
    "    -----------\n",
    "    molecule: rdkit.Chem.rdchem.Mol\n",
    "\n",
    "    Returns\n",
    "    ----------\n",
    "    nglview.widget.NGLWidget\n",
    "    \"\"\"\n",
    "    \n",
    "    view = nv.NGLWidget()\n",
    "    print(type(molecule))\n",
    "    for i in range(0, ids):\n",
    "        mb = Chem.MolToMolBlock(molecule, confId=i)\n",
    "        component = view.add_component(mb, ext='sdf')\n",
    "        time.sleep(0.1)\n",
    "        component.clear()\n",
    "        component.add_ball_and_stick(multipleBond=True)\n",
    "    return view"
   ]
  },
  {
   "cell_type": "code",
   "execution_count": 10,
   "metadata": {},
   "outputs": [
    {
     "name": "stdout",
     "output_type": "stream",
     "text": [
      "<class 'rdkit.Chem.rdchem.Mol'>\n"
     ]
    },
    {
     "data": {
      "application/vnd.jupyter.widget-view+json": {
       "model_id": "6e3397b9eee6401692d9b48bbe6830de",
       "version_major": 2,
       "version_minor": 0
      },
      "text/plain": [
       "NGLWidget()"
      ]
     },
     "metadata": {},
     "output_type": "display_data"
    }
   ],
   "source": [
    "view = show_conformers(aspirin_3d, 5)\n",
    "view"
   ]
  },
  {
   "cell_type": "markdown",
   "metadata": {
    "id": "4kNJflAp-gDa"
   },
   "source": [
    "### Molecular graphs"
   ]
  },
  {
   "cell_type": "markdown",
   "metadata": {
    "id": "w3925FIM0bVb"
   },
   "source": [
    "A common tool to work with graphs is called **networkX**. We use it to create two isomorphic graphs."
   ]
  },
  {
   "cell_type": "code",
   "execution_count": 11,
   "metadata": {
    "colab": {
     "base_uri": "https://localhost:8080/",
     "height": 507
    },
    "id": "nt1GMi8mAC3a",
    "outputId": "bd4019a7-1684-453c-c14e-7d130fcd8606"
   },
   "outputs": [
    {
     "name": "stdout",
     "output_type": "stream",
     "text": [
      "Matrix 1:\n",
      " [[0 0 0 1]\n",
      " [0 0 0 1]\n",
      " [0 0 0 1]\n",
      " [1 1 1 0]]\n",
      "\n",
      "Matrix 2:\n",
      " [[0 1 1 1]\n",
      " [1 0 0 0]\n",
      " [1 0 0 0]\n",
      " [1 0 0 0]]\n"
     ]
    }
   ],
   "source": [
    "# create two adjacency matrices\n",
    "adj_matrix_1 = np.array([[0, 0, 0, 1], [0, 0, 0, 1], [0, 0, 0, 1], [1, 1, 1, 0]])\n",
    "adj_matrix_2 = np.array([[0, 1, 1, 1], [1, 0, 0, 0], [1, 0, 0, 0], [1, 0, 0, 0]])\n",
    "print(\"Matrix 1:\\n\", adj_matrix_1)\n",
    "print(\"\\nMatrix 2:\\n\", adj_matrix_2)\n",
    "\n",
    "# convert adjacency matrices to graphs\n",
    "graph_1 = nx.from_numpy_matrix(adj_matrix_1)\n",
    "graph_2 = nx.from_numpy_matrix(adj_matrix_2)\n"
   ]
  },
  {
   "cell_type": "code",
   "execution_count": 12,
   "metadata": {},
   "outputs": [
    {
     "name": "stdout",
     "output_type": "stream",
     "text": [
      "\n",
      "And the corresponding graphs:\n",
      "\n"
     ]
    },
    {
     "data": {
      "image/png": "iVBORw0KGgoAAAANSUhEUgAAAgMAAAGZCAYAAAAUzjLvAAAAOXRFWHRTb2Z0d2FyZQBNYXRwbG90bGliIHZlcnNpb24zLjYuMiwgaHR0cHM6Ly9tYXRwbG90bGliLm9yZy8o6BhiAAAACXBIWXMAAA9hAAAPYQGoP6dpAABCtElEQVR4nO3deVhU58E28HsWdhEFxGgUFBBUxMa4b7W4plGZxiRGs2iaGEPSLJ/Zam2NMUnN2mqqvsVYTV/UaIzGVzQLbiSCC6KNegRklSUqoBAQZmSbOd8fBhoiOzPzzMy5f9eV64qznHN7PAz3PGd5VLIsyyAiIiLFUosOQERERGKxDBARESkcywAREZHCsQwQEREpHMsAERGRwrEMEBERKRzLABERkcKxDBARESkcywAREZHCsQxY2fnz5/Hkk08iKCgIbm5ucHNzw4ABA/D000/j9OnTQrP169cPs2bN6vD7Y2JiMG/ePISGhkKtVqNfv37mC0ekcI762XH16lX85S9/wdixY+Hr64uuXbti+PDh+Pjjj2E0Gs2clJqjFR1ASTZs2IDnnnsOoaGhePHFFxEWFgaVSoW0tDRs374dI0eORFZWFoKCgkRH7ZAtW7agsLAQo0aNgslkQm1trehIRA7BkT87zpw5g5iYGCxYsADLly+Hk5MTvv76azzzzDM4efIkNm/eLDqiMshkFYmJibJarZZnz54tV1dXN/manTt3ypcvX25xOXq93hLxZFmW5YCAAHnmzJkdfr/RaGz4/5kzZ8oBAQFmSEWkbI7+2VFaWirX1NTc9vgf/vAHGYCcn5/f2XjUBjxMYCWrVq2CRqPBhg0b4Ozs3ORrHnzwQfTu3bvhz48//ji6dOkCSZIwffp0eHp6YsqUKQCAgwcPQqfToU+fPnB1dUVwcDCefvppXL9+vdEy33jjDahUKnz//feYM2cOunbtCi8vLzz66KO4du1akzm++eYb3H333XBzc8PAgQPb3MzVau5ORObm6J8d3bt3h5OT022Pjxo1CgDwww8/tLoM6jx+eluB0WhEfHw8RowYgV69erXrvTU1NYiMjMTkyZOxd+9erFy5EgCQnZ2NsWPH4p///CcOHDiA119/HUlJSZgwYUKTw/P33XcfgoODsWvXLrzxxhv4v//7P8yYMeO21547dw4vv/wylixZgr1792Lo0KF48skncfTo0Y5vACLqECV/dhw5cgRarRYhISEdej+1k+ihCSUoLCyUAcjz5s277bm6ujq5tra24T+TydTw3MKFC2UA8ubNm1tcvslkkmtra+W8vDwZgLx3796G51asWCEDkJcsWdLoPdu2bZMByFu3bm14LCAgQHZ1dZXz8vIaHrt586bs7e0tP/300+36O/MwAVHnKfGzQ5ZlOS4uTlar1betmyyHIwOCDR8+HE5OTg3//e1vf7vtNffff/9tjxUXFyMqKgp9+/aFVquFk5MTAgICAABpaWm3vf6RRx5p9Oe5c+dCq9UiPj6+0eN33XUX/P39G/7s6uqKkJAQ5OXldejvR0SW4aifHf/5z38wd+5cjBkzBu+880673ksdx6sJrMDX1xdubm5N/lB8+umnMBgMuHr1KiIjI2973t3dHV27dm30mMlkwvTp03HlyhUsX74c4eHh8PDwgMlkwpgxY3Dz5s3blnPHHXc0+rNWq4WPjw9KSkoaPe7j43Pbe11cXJpcJhFZltI+O77//ntMmzYNAwYMwFdffQUXF5c2v5c6h2XACjQaDSZPnowDBw7g6tWrjY79DR48GACQm5vb5HtVKtVtj124cAHnzp3Dv//9byxcuLDh8aysrGYzFBYW4s4772z4c11dHUpKSpr8ASYi26Ckz47vv/8eU6dORUBAAA4cOAAvLy+zLp9axsMEVvKnP/0JRqMRUVFRnb7+vv6H/JetecOGDc2+Z9u2bY3+vHPnTtTV1eE3v/lNp7IQkWUp4bPj7NmzmDp1Kvr06YODBw+ie/fuZls2tQ1HBqxk/PjxWL9+PZ5//nncfffdWLx4McLCwqBWq3H16lXs3r0bAG4b1mvKwIEDERQUhKVLl0KWZXh7e2Pfvn04ePBgs+/54osvoNVqMW3aNKSkpGD58uX41a9+hblz55rt75iamorU1FQAt75NGAwG7Nq1C8CtbzH132SIqO0c/bMjPT0dU6dOBQD89a9/RWZmJjIzMxueDwoKQo8ePcyyLmqB6DMYlebs2bPy73//e7l///6yi4uL7OrqKgcHB8sLFiyQDx8+3Oi1CxculD08PJpcTmpqqjxt2jTZ09NT7t69u/zggw/K+fn5MgB5xYoVDa+rPyP4zJkz8uzZs+UuXbrInp6e8vz58+WioqJGy2zuxiGTJk2SJ02a1OrfrX5dTf3380xE1H6O+tnxySefNPu5AUD+5JNP2rR9qHNUsizLVm8gZDVvvPEGVq5ciWvXrsHX11d0HCKyE/zsUBaeM0BERKRwLANEREQKx8MERERECseRASIiIoVjGSAiIlI4lgEiIiKFYxkgIiJSOJYBIiIihWMZICIiUjiWASIiIoVjGSAiIlI4lgEiIiKFYxkgIiJSOJYBIiIihWMZICIiUjiWASIiIoVjGSAiIlI4lgEiIiKFYxkgIiJSOJYBIiIihWMZICIiUjiWASIiIoVjGSAiIlI4lgEiIiKFYxkgIiJSOK3oAETN0VfXIbdEj5o6E5y1avTz8YCHC3dZ6hzuV0S3408A2ZTMogpsS8pHfHox8ksNkH/2nAqAv7c7IkL98Mhofwzo6SkqJtkZ7ldELVPJsiy3/jIiyyooNWDZHgkJWdehUatgNDW/W9Y/PzHYF6vuC0dfb3crJiV7wv2KqG1YBki4Hcn5WBGbgjqT3OKH9S9p1Cpo1SqsjAzDvJH+FkxI9oj7FVHbsQyQUOviM/HhgYxOL+eV6SF4LmKAGRKRI+B+RdQ+vJqAhNmRnG+WD2wA+PBABj5LzjfLssi+cb8iaj+WARKioNSAFbEpZl3m67EpKCg1mHWZZF+4XxF1DA8TkBCPbUrC8ZySJo/l3sw9B31KPKovX4Sx4hrULh5wvmMAvCbMh8sdwc0uU6NWYVygD7Y8OdqS0cmGtbRf1RTloOxoDGqu5cFkKIdK6wyt953wvHsWugyJaHaZ3K9ICXhpIVldZlEFErKuN/t85fdfwXizAl1HRMLJty+MhnLcOLUHhTEvw2/um3Dr96sm32c0yUjIuo6s4goE+/HyMKVpbb8yVVVC4+mLboMmQevpA1NtFfQp36Jk/99QV16EbuPnNfk+7lekBCwDZHXbkvJbvMzLe/oz0Hh0a/SYW+BwXN7wFG6c2NlsGQBufYvbejIfb0SGmTMy2YHW9ivXgKFwDRja6DH34FG4Wl6EynNxzZYBgPsVOT6eM0BWF59e3PL13r8oAgCgdnaDk48/6iqa/+YH3PoWF59R3NmIZIda26+ao3HrCpWq5Y9C7lfk6FgGyKoqq+uQ34GTsUxVetQUZcPJt/XrvvNLDNBX13UkHtmp9uxXsmyCbDLCaChHxX++xM1L/0HXMQ+0+j7uV+TIeJiArCqvRI+OnLFaevCfkGur4DXuoVZfKwPILdEjrLdXB9ZE9qg9+1Vp3P+g8uw3t/6g0cJ76tPwHPbbVt/H/YocGcsAWVVNnand7yk7ugX6lG/RfdrTLV5N0Nn1kP1qz7+319i56PKrGTAZymDIOoXSg9Ew1VbBa/Qcs66HyJ6wDJBVOWvbd2SqLPFTlB//DN1+vQBdh8+22HrIvrXn31vr5Qetlx8AwC1oJACg7Lv/RZfwKdC4t/ytn/sVOSru2WRV/Xw8oGrja8sSP0V54qfwmvAwvMbNbfM6VD+th5SjPfvVL7n0CgFMRtSVFbb4Ou5X5MhYBsiqPFy08G/DbHBlx7bfKgLjHkK3CQ+3ax3+Pu6cn15h2rpfNaUq7zygUkPb7Y4WX8f9ihwZ92yyuohQP2xJymv2MrAbSV+gPGEbXAOHwy1oJKovX2z0vMudA5tdtkatQkSIn1nzkn1obb8q+Xot1C7ucO4VAo1HNxgNN2BIT4QhLQFdR89p8RAB9ytydCwDZHWPjPbHv0/kNvu8IesUAKAq5wwKc87c9nzA0v3NvtdokvHoGE47q0St7Vcudw5E5flDqJQOw1Sth9rJFU5+/eEz6+UWb0cMcL8ix8e5CUiIlu4h31G8hzxxvyLqGJ4zQEKsui8cWnVHT/lqmlatwqr7ws26TLIv3K+IOoZlgITo6+2OlWa+z/ubkWHo28GTyMgxcL8i6hiWARJm3kh/vDI9xCzLenV6KB4ayWO6xP2KqCN4zgAJtyM5HytiU1Bnktt1rFejVkGrVuHNyDB+YNNtuF8RtR3LANmEglIDlu2RkJB1vcVpaAE0PD8x2Ber7gvnEC41i/sVUduwDJBNySyqwLakfMQcOgOTuzeg+u/JYCrcuvFLRIgfHh3jj2A/T3FBya7U71fxGcXILzH8YlIjGcayQjw+fRQWju/P/YoUiWWAbI7RaESXLl2w8q/vYua8x1FTZ4KzVo1+Ph68Axx1mr66Drkl+ob9Sl+Yi9HD78LXX3+Ne+65R3Q8IiH4yUo2JysrC1VVVRj+qyGcLpbMzsNF22i/knsNRf/+/bF3716WAVIsXk1ANkeSJABAeDiv7SbLU6lU0Ol0iI2NhcnEKYpJmVgGyOZIkgQ/Pz/4+fFe8GQdOp0OV65cwZkzt9/+mkgJWAbI5kiSxFEBsqoJEybA29sbe/fuFR2FSAiWAbI5LANkbVqtFjNnzmQZIMViGSCbotfrkZ2dzTJAVqfT6XDhwgXk5OSIjkJkdSwDZFNSU1MhyzLLAFndjBkz4OzsjNjYWNFRiKyOZYBsiiRJUKlUCAsz72QzRK3p0qULpkyZwkMFpEgsA2RTJElCUFAQ3N15K1iyPp1Oh4SEBJSWloqOQmRVLANkU3jyIIk0e/ZsGI1GfPnll6KjEFkVywDZFJYBEql3794YNWoUDxWQ4rAMkM0oLi5GcXExywAJpdPp8M0336Cqqkp0FCKrYRkgm8HbEJMt0Ol00Ov1OHLkiOgoRFbDMkA2Q5IkuLq6Ijg4WHQUUrDBgwcjKCiIhwpIUVgGyGZIkoTBgwdDo9GIjkIKplKpEBkZiX379nHiIlIMlgGyGZIkYejQoaJjEEGn0+Hq1as4ffq06ChEVsEyQDbBZDIhJSWF5wuQTRg/fjwnLiJFYRkgm5CTkwODwcAyQDZBq9Vi1qxZLAOkGCwDZBN4JQHZGp1Oh5SUFGRnZ4uOQmRxLANkEyRJgq+vL3r27Ck6ChEAYPr06XBxceHoACkCywDZhPo7D6pUKtFRiADcmrho6tSpLAOkCCwDZBN4G2KyRTqdDomJiSgpKREdhciiWAZIuJs3byIzM5NlgGzOrFmzYDKZOHEROTyWARIuNTUVJpOJZYBsTq9evTB69GgeKiCHxzJAwtVfSRAWFiY4CdHtdDod4uLiOHEROTSWARJOkiQEBgaiS5cuoqMQ3aZ+4qLDhw+LjkJkMSwDJBxPHiRbNmjQIAQHB/NQATk0lgESjmWAbJlKpYJOp+PEReTQWAZIqOvXr6OwsJBlgGyaTqdDYWEhTp06JToKkUWwDJBQvA0x2YNx48bBx8cHsbGxoqMQWQTLAAklSRJcXFwwYMAA0VGImqXRaDhxETk0lgESSpIkDBo0CFqtVnQUohbpdDqkpqYiKytLdBQis2MZIKF48iDZi+nTp8PV1ZWjA+SQWAZIGJPJhAsXLrAMkF3w8PDgxEXksFgGSJjc3Fzo9XqWAbIbOp0Ox44dw/Xr10VHITIrlgEShlcSkL2ZPXs2ZFnG/v37RUchMiuWARJGkiR0794dvXv3Fh2FqE169uyJMWPG8BJDcjgsAyRM/cmDKpVKdBSiNouMjERcXBxu3rwpOgqR2bAMkDC8koDskU6ng8Fg4MRF5FBYBkiI6upqZGRksAyQ3Rk4cCAGDBjAqwrIobAMkBBpaWkwGo0sA2R3OHEROSKWARKi/kqCIUOGCE5C1H46nQ5FRUVISkoSHYXILFgGSAhJkhAQEICuXbuKjkLUbmPHjkWPHj14qIAcBssACcGTB8meceIicjQsAyQEywDZO51Oh4sXLyIjI0N0FKJOYxkgq/vxxx9x+fJllgGya1OnToWrqytvQEQOgWWArI63ISZH4OHhgWnTpvFQATkElgGyOkmS4OTkhNDQUNFRiDpFp9Ph+PHjuHbtmugoRJ3CMkBWJ0kSBg4cCCcnJ9FRiDpl1qxZnLiIHALLAFkdTx4kR9GzZ0+MHTuWhwrI7rEMkFXJsowLFy6wDJDD0Ol0OHDgAAwGg+goRB3GMkBWlZ+fjxs3brAMkMPQ6XS4efMmJy4iu8YyQFbFKwnI0YSGhiIkJISHCsiusQyQVUmSBC8vL/Tt21d0FCKzqZ+4yGg0io5C1CEsA2RVkiRhyJAhUKlUoqMQmY1Op0NxcTEnLiK7xTJAVsUrCcgRjRkzhhMXkV1jGSCrqampwcWLFzF06FDRUYjMSqPRYPbs2SwDZLdYBshq0tPTUVdXx5EBckg6nQ7p6elIT08XHYWo3VgGyGrqryQYMmSI4CRE5jd16lS4ublxdIDsEssAWY0kSejbty+6desmOgqR2bm7u2P69OmcxZDsEssAWQ1PHiRHFxkZiePHj6O4uFh0FKJ2YRkgq2EZIEc3a9YsAODERWR3WAbIKsrLy5Gfn88yQA7Nz88P48aN43kDZHdYBsgqLly4AIC3ISbHp9PpcPDgQU5cRHaFZYCs4vz589BqtRg4cKDoKEQWVT9x0cGDB0VHIWozlgGyCkmSEBoaCmdnZ9FRiCwqJCQEAwcO5KECsissA2QVPHmQlESn02H//v2cuIjsBssAWZwsyywDpCiRkZG4du0aTp48KToKUZuwDJDF/fDDDygvL2cZIMUYPXo0/Pz8eKiA7AbLAFlc/W2IWQZIKThxEdkblgGyOEmS4OnpiYCAANFRiKxGp9MhIyMDFy9eFB2FqFUsA2RxkiRhyJAhUKlUoqMQWc3UqVPh7u7O0QGyCywDZHE8eZCUyM3NDdOnT2cZILvAMkAWVVtbi7S0NJYBUiSdToeTJ0+iqKhIdBSiFrEMkEVlZGSgtraWZYAUaebMmVCpVJy4iGweywBZFK8kICXr0aMHJy4iu8AyQBYlSRJ69+4Nb29v0VGIhKifuEiv14uOQtQslgGyKJ48SEqn0+lQVVXFiYvIprEMkEWxDJDSDRgwAIMGDeKhArJpLANkMRUVFcjNzWUZIMXjxEVk61gGyGIuXLgAgCcPEul0Oly/fh3Hjx8XHYWoSSwDZDGSJEGj0WDQoEGioxAJNWrUKPTs2ZOHCshmsQyQxUiShAEDBsDV1VV0FCKh1Gp1w8RFsiyLjkN0G5YBshiePEj0XzqdDllZWZy4iGwSywBZhCzLLANEPzNlyhROXEQ2i2WALOLq1asoLS1lGSD6iZubG2bMmMEyQDaJZYAsgrchJrqdTqdDUlISCgsLRUchaoRlgCxCkiR4eHigf//+oqMQ2Yz6iYv27dsnOgpRIywDZBGSJCEsLAxqNXcxonq+vr6YMGECDxWQzeEnNVkETx4kappOp8OhQ4c4cRHZFJYBMru6ujqkpqayDBA1ITIyEtXV1Thw4IDoKEQNWAbI7LKyslBdXc0yQNSE4OBgDB48mIcKyKawDJDZ8UoCopbVT1xUV1cnOgoRAJYBsgBJktCzZ0/06NFDdBQim6TT6VBSUsKJi8hmsAyQ2fHkQaKWjRw5Er169eKhArIZLANkdiwDRC3jxEVka1gGyKz0ej1ycnJYBohaodPpkJ2djdTUVNFRiFgGyLxSUlIgyzKGDh0qOgqRTZs8eTI8PDwQGxsrOgoRywCZlyRJUKvVGDx4sOgoRDbN1dWVExeRzWAZILOSJAnBwcFwc3MTHYXI5tVPXHT16lXRUUjhWAbIrHjyIFHbzZw5ExqNhhMXkXAsA2RWLANEbefj48OJi8gmsAyQ2RQVFeHatWssA0TtoNPpcPjwYVRWVoqOQgrGMkBmw9sQE7WfTqdDdXU14uLiREchBWMZILORJAlubm4IDAwUHYXIbgQGBmLIkCG8xJCEYhkgs5EkCWFhYdBoNKKjENmVyMhITlxEQrEMkNnw5EGijtHpdCgtLcWxY8dERyGFYhkgszAajbhw4QLLAFEHjBgxghMXkVAsA2QW2dnZqKqqYhkg6gC1Wo3IyEhOXETCsAyQWfBKAqLO0el0yMnJQUpKiugopEAsA2QWkiShR48e6Nmzp+goRHZp8uTJ6NKlCw8VkBAsA2QWPHmQqHNcXFxwzz33sAyQECwDZBYsA0SdFxkZieTkZFy5ckV0FFIYlgHqNIPBgKysLJYBok7ixEUkCssAdVpqaipkWWYZIOokb29vTJw4kYcKyOpYBqjTJEmCSqVCWFiY6ChEdq9+4qKKigrRUUhBWAao0yRJQmBgIDw8PERHIbJ7Op0ONTU1nLiIrIplgDqNJw8SmU///v0RHh7OQwVkVSwD1GksA0TmpdPp8OWXX6K2tlZ0FFIIlgHqlGvXrqGoqIhlgMiMdDodfvzxR05cRFbDMkCdwtsQE5nf3Xffjd69e/NQAVkNywB1iiRJcHFxQXBwsOgoRA6DExeRtbEMUKdIkoTBgwdDq9WKjkLkUHQ6HS5duoQLFy6IjkIKwDJAncKTB4ksIyIiAp6enjxUQFbBMkAdZjKZkJKSwjJAZAGcuIisiWWAOuzSpUvQ6/UsA0QWotPpcPr0aVy+fFl0FHJwLAPUYbySgMiy7r33Xmg0GsTGxoqOQg6OZYA6TJIkeHt7o1evXqKjEDmk7t27Y9KkSSwDZHEsA9Rh9ScPqlQq0VGIHFZkZCSOHDnCiYvIolgGqMN4JQGR5dVPXPTNN9+IjkIOjGWAOqSqqgqZmZksA0QW1q9fPwwdOpRXFZBFsQxQh6SlpcFoNLIMEFkBJy4iS2MZoA6pv5JgyJAhgpMQOT6dToeysjIkJCSIjkIOimWAOkSSJPTr1w+enp6ioxA5vLvvvht9+vThoQKyGJYB6hCePEhkPSqVCpGRkYiNjYUsy9BX1yHlSjm+z/8RKVfKoa+uEx2R7Bxnl6EOkSQJjz/+uOgYRIoxYspsbM+ow9hVcSiqNOLncxmqAPh7uyMi1A+PjPbHgJ4csaP2UcmcH5PaqbS0FD4+Pti+fTvmzZsnOg6RQysoNWDZHgkJWdchm4xQqTXNvlajVsFokjEx2Ber7gtHX293KyYle8bDBNRuvA0xkXXsSM7H1NXf4XhOCQC0WAQAwGi69d3ueE4Jpq7+DjuS8y2ekRwDDxNQu0mSBGdnZ4SEhIiOQuSw1sVn4sMDGR16r9Ekw2iSsfQLCdcrq/FcxAAzpyNHw5EBajdJkjBo0CA4OTmJjkLkkHYk53e4CPzShwcy8BlHCKgVHBmgduOVBESWU1BqwIrYlGafN9XcRNnRLTBcTITxZgWcfPrAa8wD8Bg8qdn3vB6bgnFBvjyHgJrFkQFqF1mWceHCBZYBIgtZtkdCnan587qvfbEKeukwvMbPR8+5K+HSawCux34Afcq3zb6nziRj2R7JAmnJUXBkgNolLy8PFRUVLANEFpBZVIGErOvNPn8zOxlVud/DN/LVhpEA14ChqCu/hh/jN8N90MQmTzI0mmQkZF1HVnEFgv142SHdjiMD1C68koDIcrYl5UOjbn5KcEPGCaic3eA+cEKjx7sMnQpjZSmqrzR/noFGrcLWkzx3gJrGMkDtIkkSunXrhjvvvFN0FCKHE59e3HB5YFNqruXByafPbd/+nXr0AwDUXs9r9r1Gk4z4jGKz5CTHwzJA7VJ/8qBK1fy3FyJqv8rqOuSXGlp8jelmBdSutw/zq908f3r+Rovvzy8x8NbF1CSWAWoXXklAZBl5JXq06XawLRbxlku6DCC3RN+OVKQULAPUZjU1NUhPT2cZILKAmjpTq69Ru3k2+e3fdLOi4XlzrIeUh1cTUIv01XXILdGjps6EvEvZMKq0LANEFuCsbf27mXOPftCnHb1tjoLaa7kAACffgFaXMX/ugwj2dUVgYCACAwMRFBSEwMBA9O/fH+7uvA+BUrEM0G0yiyqwLSkf8enFyC81NBq67PvS5/hjYhWmlqRwdjQiM+rn4wEV0OKhAveQsag8FwdD+jF4DPp1w+OVF45A08UbLr1bu0W4jKljfoW87AwcPnwYGzduRFVVVcOzd9xxR0M5+HlRCAwMxB133MFzhRwYZy2kBj+fHa1+9rPmcHY0IvOb9EE88lo5ibBox3LUFGai228eh1P33tCnfofKc3Hwmf0yuoRFtPjeAB93fPfKf18jyzIKCwuRnZ2NnJychv/q/1xYWNjwWjc3t4Zi8Mui0K9fP7i5uXXuL0+NRmKdtWr08/GAh4t1vrOzDBCAW/dCXxGbgrqfJjhpK41aBa1ahZWRYZg30t+CCYkc3xuxKdiSlNfiz6Cp5ibKvou5dTviqgo4efeB19gHW7wdMXDrZ/Wx0QF4IzKszXn0ej0uXbrUZFG4dOkSqqurG1575513NlsW/Pz8OKrQjJZGYlUA/L3dERHqZ/GRWJYB6tTsaD/3yvQQzo5G1AmZRRWYtuaoxZZ/aMmvzXYHQpPJhCtXrjRZFHJyclBc/N97Gnh4eLQ4quDi4mKWTPbE1kZiWQYUbkdyPpZ+Yb57lr83JxwPcYSAqMMe25SE4zkl7Rqha41GrcK4QB9seXK02ZbZmoqKikajCj8vCpcuXUJtbS0AQKVSoU+fPk0WhcDAQPj6+jrcqIItjsSyDChYQakBU1d/h2ozXmrkolXj0JJJPIeAqIOU8HNpNBpx+fLlJotCdnY2SkpKGl7r6enZbFEICAiAs7OzwL9J+9nqSCzLgIK19A2kpigHZUdjUHMtDyZDOVRaZ2i974Tn3bPQZUjzJymJ+AZC5GiUPmJXXl7eMKrwy6KQl5eHurpbd1FUq9Xo27dvk2UhKCgI3bt3t6lRBVv+d2UZUKjWjk1W5Z2HPu0oXPqEQevpA1NtFfQp38KQdhReEx9Ft/HzWly+OY9NEimRub5Bvjo9FH+ICDZDIttQV1eHH374ocmikJOTgx9//LHhtV5eXs2OKvj7+8PJyclquVsa8bmZew76lHhUX74IY8U1qF084HzHAHhNmA+XO5r/tzPniA/LgEK15azlplyNeRnGylL0efaTZl/TkbOWieh29ceWq2vrAFXbbxhbf2z5zcgwuxoRMIcff/wRly5darIo5Ofnw2g0AgA0Gg38/f2bLApBQUHo1q2bWXO1NBJ7bc87MN6sgMfACXDy7QujoRw3Tu1BTWEW/Oa+Cbd+v2pymeYcieVNhxSqtdnRmqNx6wqTvqzF19TPjvYGWAaIOmPeSH/0dTLg/nd3wbX/sDafdT4u0Eex9//o3r07unfvjrvvvvu252pra1FQUHBbUUhOTsaOHTtw48aNRstprij06dMHWm3bf31mFlUgIet6s897T38GGo9ujR5zCxyOyxuewo0TO5stA0aTjISs68gqruj0SCzLgAK1ZXa0erJsAmQZpqpKGC4m4ual/8B7WlSr76ufHc1aN8wgclTbPv4HTEd2ITY5BV+cK0Z8RjHyS5q4Ht3HHREhfnh0jD8P0TXDycmp4Zf6L8myjB9//LHJEYWkpCQUFBTAZLo1xK/VahEQENDkeQqBgYHo2rVro2VvS8pvscj9sggAgNrZDU4+/qiraL5EALcK4NaT+Z0eieUntQK1eXY0AKVx/4PKs9/c+oNGC++pT8Nz2G9bfV/97Ghhvb06nJNI6YqKirB582YsX74cQwN6YGhAD7yBMKF3qnNUKpUK3t7e8Pb2xsiRI297vqamBnl5ebcVhRMnTmDr1q2orKxseK2Pj0+jcvCVehSMpvb9+5iq9KgpyoZrwNAWX2eukVjuPQrUnlnLvMbORZdfzYDJUAZD1imUHoyGqbYKXqPnmHU9RHS7jz76CE5OTnj22WcbPe7homXRtjJnZ2cMGDAAAwbcfjmfLMu4fv16kzdgOpZ0Gqq5Y1ueeboJpQf/Cbm2Cl7jHmr1teYYiWUZUKC2zI5WT+vlB62XHwDALehWWy777n/RJXwKNO4tfxi1Zz1E1Fh5eTnWr1+PqKgodO/eXXQcaoFKpUKPHj3Qo0cPjB7d+GS+lCvlmLk2sV3LKzu6BfqUb9F92tMtXk1Qzxwjsfy0VqD62dE6wqVXCGAyoq6ssMXXqX5aDxF1zIYNG1BVVYUlS5aIjkKd0N4R0rLET1F+/DN0+/UCdB0+22Lr+SWWAQXycNHCv4NnGVflnQdUami73dHi6/x93HkMk6iDqqqqsHr1aixYsAC9e/cWHYc6oT0jpGWJn6I88VN4TXgYXuPmWmw9TeGntQJduXIFHjdyIZt8oFJrmnxNyddroXZxh3OvEGg8usFouAFDeiIMaQnoOnpOi4cINGoVIkL8LBWfyOHFxMSgqKgIr776qugo1En1I7GtnbRddmz7rSIw7iF0m/Bwu9ZhjpFYlgGFMJlMOHz4MKKjo7F371649wqE96Orm329y50DUXn+ECqlwzBV66F2coWTX3/4zHq5xdsRA7fObn10jLJudEJkLkajEe+//z7uv/9+hISEiI5DnVQ/EpvXwuXcN5K+QHnCNrgGDodb0EhUX77Y6HmXOwe2uA5zjMSyDDi4a9eu4d///jc2bNiA7OxsDBkyBP/4xz/wyCOP4LldF5u9I1aXodPQZei0dq+v/o5YvM6ZqGN2796N7Oxs7NixQ3QUMpOIUL8W7/hqyDoFAKjKOYPCnDO3PR+wdH+zyzbXSCxvR+yAZFlGYmIioqOjsWvXLqhUKsydOxdRUVEYO3Zsw8QdSpgdjcieyLKM4cOHw8fHBwcPHhQdh8yktblgOsscc8HwBEIHUlZWhrVr12LIkCH49a9/jeTkZKxatQqXL19GTEwMxo0b12gGr77e7lhp5vkD3owMYxEg6qCDBw/i+++/x9KlS0VHITMa0NMTE4N9oVGbdwZFjVqFicG+ZhmJ5ciAA0hOTkZ0dDS2b9+O2tpa/O53v0NUVBQiIiKgVrfe9zg7GpFtmDx5MioqKnDq1CmbmnqXOs/WR2J5zoCdqqysxI4dOxAdHY0zZ87A398ff/7zn/HEE0+gV69e7VrWcxED4NvFBStiU1Bnkts1gZFsMsLVSYs3dUMUNzsakTklJSUhPj6+4dAeOZb6kdilX0hmW6Y5R2I5MmBnJEnChg0bsGXLFlRUVGDmzJmIiorCPffcA42m6csE26qg1IBleyQkZF1v8+xotQUSIroUYmv0mk6tm0jp5syZg5SUFKSmpnb6Z5lsl62OxLIM2IGqqirs2rUL0dHROHbsGO644w4sWrQIixYtQkBAgNnXl1lUgW1J+W2aHS3u8xg8//zzSEpKanJyDyJqXVpaGgYPHox//etfePLJJ0XHIQvbkZzfoZFYjVoFrVqFNyPDzD4SyzJgwzIyMvDxxx/jk08+QWlpKaZOnYqoqChERkbCycnJKhlamx2trq4OI0aMgLOzM06ePNmmcxSIqLEnnngCcXFxyMnJgYuLi+g4ZAUdGYmdGOyLVfeFW+QkbZYBG1NbW4u9e/ciOjoahw8fho+PD37/+99j8eLFTc6WZQsSExMxceJEbNy4EYsWLRIdh8iuFBQUICgoCO+88w5efvll0XHIytozEmvJ+7ewDNiIvLw8bNy4EZs2bUJhYSEmTJiAqKgo3H///XB1dRUdr1ULFizAV199hYyMDHh7e4uOQ2Q3XnrpJXzyySfIz8+Hpydv1qVkrY3EWhLLgEBGoxFff/01oqOj8dVXX8HT0xMLFizA008/jSFDhoiO1y5Xr15FaGgoFixYgHXr1omOQ2QXSkpKEBAQgCVLluCtt94SHYcUjAd4Bbh69Srefvtt9O/fH7Nnz0ZhYSE2btyIK1euNNw0yN706tULK1euxD//+U+cPXtWdBwiu7B+/XqYTCa88MILoqOQwnFkwEpMJhOOHDnSMFGQs7Mz5s+fj6ioKIwYMUJ0PLOora3FXXfdhW7duiExMZHXShO1QK/XIyAgAPPnz8fatWtFxyGF48iAhV2/fh0ffvghQkNDMW3aNFy8eBGrV6/G5cuX8a9//cthigAAODk5Yd26dTh+/Di2bNkiOg6RTdu0aRPKysp40iDZBI4MWIAsyzh+/Diio6Px+eefQ5ZlPPjgg4iKisL48eMd/hvzvHnz8O233yI9PR1eXl6i4xDZnNraWgQFBWHSpEkszmQTWAbMqLy8HFu3bkV0dDQuXLiA4OBgPP3003j88cfh6+srOp7V/PDDDxg4cCAWL16Mv//976LjENmcmJgYLFy4EOfPn0d4eLjoOEQsA+Zw5swZREdH49NPP0V1dXXDREGTJ09W7E143nvvPfz5z3/G2bNn7fKESCJLMZlMCA8PR2BgIPbt2yc6DhEAloEO0+v1DRMFnT59Gn379sXixYvxxBNPoHfv3qLjCVddXY2hQ4eid+/eOHLkiMMfGiFqq9jYWOh0OiQmJmL8+PGi4xABYBlotwsXLmDDhg2IiYlBRUUF7r33XkRFReG3v/0tJxf5hbi4ONxzzz3Yvn075s2bJzoOkXCyLGPcuHHQarVISEgQHYeoActAG1RVVWH37t2Ijo5GYmIievbsiUWLFuGpp56yyERBjmTOnDlISkpCeno6unTpIjoOkVBHjx7FpEmTsH//fsycOVN0HKIGLAMtyMzMbJgoqKSkBFOmTEFUVBR0Op3VJgqyd7m5uRg0aBBefPFFvPvuu6LjEAl17733oqCgAOfPn+ehM7IpLAO/UFtbi9jYWERHR+PQoUPw9vZumCgoJCREdDy79NZbb+Gtt96CJEkIDQ0VHYdIiHPnzuGuu+7C1q1b8cgjj4iOQ9QIy8BP8vPzsXHjRvzrX/9CYWEhxo0bh2eeeQYPPPCAXUwUZMuqqqoQFhaGoKAgxMXF8RsRKdLDDz+MEydOIDMzE1qtdSafIWorZV739hOj0YivvvoKkZGR6N+/Pz766CPMmTMH586dw7Fjx/Doo4+yCJiBq6sr1qxZg4MHD2LPnj2i4xBZXU5ODj777DO88sorLAJkkxQ5MlBYWIjNmzfj448/Rl5eHoYNG4ZnnnkG8+fP50luFjRr1ixIkoS0tDS4u7uLjkNkNc8++yx27dqF3Nxc7vtkkxQzMiDLMo4cOYK5c+eib9++ePvttzFlyhScOnUKZ86cwVNPPcUiYGFr1qxBYWEhTyQkRSkqKsLmzZvx4osvsgiQzbL6yIC+ug65JXrU1JngrFWjn48HPFwsN2xWUlKC//3f/8WGDRuQkZGBwYMHIyoqCo899hi6detmsfVS05YvX44PPvgAKSkpCAoKEh2HyOKWLVuGtWvXIj8/H927dxcdh6hJVikDmUUV2JaUj/j0YuSXGvDzFaoA+Hu7IyLUD4+M9seAnp6dXp8syzhx4gSio6Oxc+dOyLKMBx54AFFRUZgwYQJPYBPIYDBg0KBBGDp0KG/FSg6vvLwc/v7+WLx4MT744APRcYiaZdEyUFBqwLI9EhKyrkOjVsFoan5V9c9PDPbFqvvC0de7/cNpN27caJgoSJIkBAUFNUwU1KNHj878VciMdu/ejQceeAD79u3DrFmzRMchspj3338fy5cvx6VLl3ibcrJpFisDO5LzsSI2BXUmucUS8EsatQpatQorI8Mwb6R/m97zn//8p2GioKqqKuh0OkRFRWHKlCmKnSjIlsmyjBkzZiA7OxspKSm8YoMcUlVVFfr3749Zs2Zh48aNouMQtcgivynXxWdi6RcSqutM7SoCAGA0yaiuM2HpFxLWxWc2+zqDwYDNmzdj1KhRGD58OL7++mv88Y9/RH5+Pnbv3o1p06axCNgolUqFf/zjHygoKMCHH34oOg6RRcTExKCoqAivvvqq6ChErTL7yMCO5Hws/UIy2/LemxOOh342QpCSktIwUdCNGzfw29/+tmGiIF6/a1/++Mc/Yu3atUhLS+McD+RQjEYjQkNDMWzYMHz++eei4xC1yqxloKDUgKmrv0N1nem250w1N1F2dAsMFxNhvFkBJ58+8BrzADwGT2pxmS5aNb78w1icOvIVoqOjkZCQAD8/v4aJgvr162eu+GRlFRUVGDhwIMaMGYPdu3eLjkNkNjt37sRDDz2E5ORkjBgxQnQcolaZtQw8tikJx3NKmjw0ULRjOWquZqDbbx6Hk/ed0Kd+i8pzB+A7+xV4hP2mhYAm1F5OxeWtSxEREYFnnnkGOp0Ozs7O5opNAm3fvh0PP/ww4uLiMH36dNFxiDpNlmUMHz4cPj4+OHjwoOg4RG1itjKQWVSBaWuONvnczexkFH++Er6RrzYaCSjasRy11/Nw57OfQKXWtLj8j3V9MX3MUHNEJRsiyzIiIiJw9epVSJLEkkd278CBA5gxYwYOHTqEKVOmiI5D1CZmO8NuW1I+NOqmr983ZJyAytkN7gMnNHq8y9CpMFaWovpKRovL1qhVOF7cclkg+6RSqbB27VpkZ2djzZo1ouMQddq7776LESNGYPLkyaKjELWZ2cpAfHpxs1cO1FzLg5NPn9u+/Tv16AcAqL2e1+KyjSYZ8RnFZslJtic8PBzPPfcc3nzzTfzwww+i4xB1WFJSEuLj47F06VLe3IzsilnKQGV1HfJLDc0+b7pZAbXr7XcWVLt5/vT8jVbXkV9igL66ruMhyaatXLkSHh4evAyL7Np7772HkJAQ/O53vxMdhahdzFIG8kr0aPXEgxZbcusNWgaQW6JvRyqyJ15eXnj//fexY8cOxMfHi45D1G5paWnYs2cPXnvtNWg0PKxJ9sUsZaCmiUsJG63EzbPJb/+mmxUNz5tjPWTfHnvsMYwbNw7PP/88amtrRcchapcPPvgAvXv3xqOPPio6ClG7maUMOGtbXoxzj36oLfkBssnY6PHaa7kAACfftt1wprX1kH1Tq9VYt24dUlNTsX79etFxiNqsoKAAW7duxUsvvQQXFxfRcYjazSy/Xfv5eLQ40O8eMhZyzU0Y0o81erzywhFounjDpXdIq+tQ/bQecmzDhg1DVFQUVqxYgcLCQtFxiNpk9erV8PDwwOLFi0VHIeoQs5QBDxct/FuYZdAtaARc+w1Dadz/oOLsN6jKO4+Sr9eiKucMukX8vtV7DACAv487PFx4u2ElePvtt+Hk5IQ//vGPoqMQtaqkpAQff/wxnnvuOXh6dn4KdiIRzDbuHhHq1+x9BgCgx5xl8AiLQHnCNhTtfB3VV9LhG/kquoRFtLpsjVqFiBA/c0UlG+ft7Y133nkHMTExOHbsWOtvIBJo/fr1MJlMeOGFF0RHIeowq9yB0BwOLfk1gv3YupXCZDJhzJgxqKmpwZkzZ3h2NtkkvV6PgIAAzJ8/H2vXrhUdh6jDzDYyMKCnJyYG+7Y4OtARGrUKE4N9WQQUpv5kwnPnzmHDhg2i4xA1adOmTSgrK8PLL78sOgpRp1ht1sKOctGqcWjJJPRt4ZwEclyLFi3C7t27kZGRgR49eoiOQ9SgtrYWQUFBmDRpErZs2SI6DlGnmPVavb7e7lgZGWbOReLNyDAWAQV75513AADLli0TnISose3bt6OgoACvvfaa6ChEnWbWkYF66+Iz8eGBlicfaotXp4fiDxHBZkhE9mz9+vV4/vnncfLkSYwaNUp0HCKYTCaEh4cjMDAQ+/btEx2HqNMsUgYAYEdyPlbEpqDOJDc7gVFTNGoVtGoV3owMw0Mj/S0RjeyM0WjEiBEjoNVqkZSUBLWaN58isWJjY6HT6ZCYmIjx48eLjkPUaRYrA8CtcwiW7ZGQkHUdGrWqxVJQ//zEYF+sui+chwaokWPHjmHChAnYuHEjFi1aJDoOKZgsyxg3bhy0Wi0SEhJExyEyC4uWgXqZRRXYlpSP+Ixi5JcYGk1qpMKtGwpFhPjh0TH+vGqAmrVgwQJ89dVXyMjIgLe3t+g4pFBHjx7FpEmTsH//fsycOVN0HCKzsEoZ+Dl9dR1yS/SoqTPBWatGPx8P3lmQ2qSwsBAhISF47LHHOHcBCXPvvfeioKAA58+fh6rF2ViJ7IfVywBRZ6xevRqvvPIKTp8+jWHDhomOQwpz7tw53HXXXdi6dSseeeQR0XGIzIZlgOxKbW0thg0bhq5duyIxMZEnE5JVPfzwwzhx4gQyMzOh1XJEkxwHP0nJrjg5OWHt2rU4ceIEtm7dKjoOKUhOTg4+++wzvPLKKywC5HA4MkB2ad68efj222+Rnp4OLy8v0XFIAZ599lns2rULubm5cHfn1U7kWDgyQHbpww8/RGVlJd544w3RUUgBioqKsHnzZrz44ossAuSQWAbILvXp0wfLly/H2rVrIUmS6Djk4D766CM4OTnh2WefFR2FyCJ4mIDsVk1NDcLDw9GrVy/Ex8fzMi+yiPLycvj7+2Px4sX44IMPRMchsgiODJDdcnZ2xtq1a/Hdd9/hs88+Ex2HHNSGDRtQVVWFJUuWiI5CZDEcGSC7N2fOHCQlJeHixYvw9OQdLMl8qqqq0L9/f8yaNQsbN24UHYfIYjgyQHZv9erVKC0txdtvvy06CjmYmJgYFBUV4dVXXxUdhciiODJADuGtt97Cm2++CUmSMHDgQNFxyAEYjUaEhoZi2LBh+Pzzz0XHIbIolgFyCFVVVQgLC0NgYCAOHDjAkwmp03bu3ImHHnoIycnJGDFihOg4RBbFMkAOY//+/Zg9ezZ2796NOXPmiI5DdkyWZQwfPhw+Pj44ePCg6DhEFscyQA5l1qxZkCQJaWlpvDkMddiBAwcwY8YMHDp0CFOmTBEdh8jiWAbIoWRnZ2Pw4MF47bXX8NZbb4mOQ3Zq8uTJqKiowKlTp3jIiRSBVxOQQwkKCsJrr72G999/H1lZWaLjkB1KSkpCfHw8li5dyiJAisGRAXI4BoMBgwYNQnh4OPbv3y86DtmZOXPmICUlBampqdBoNKLjEFkFRwbI4bi7u2P16tX48ssvWQaoXdLS0rBnzx689tprLAKkKBwZIIckyzJmzJiB7OxspKSkwNXVVXQksgNPPPEE4uLikJOTAxcXF9FxiKyGIwPkkFQqFdauXYuCggJOLkNtUlBQgK1bt+Kll15iESDFYRkghxUaGoolS5Zg1apVyM3NFR2HbNzq1avh4eGBxYsXi45CZHU8TEAOrbKyEqGhoRg9ejS++OIL0XHIRpWUlCAgIABLlizhJamkSBwZIIfWpUsX/O1vf8OePXsQFxcnOg7ZqPXr18NkMuGFF14QHYVICI4MkMOTZRkRERG4evUqzp8/z+PB1Iher0dAQADmz5+PtWvXio5DJARHBsjhqVQqrFu3DtnZ2VizZo3oOGRjNm3ahLKyMrz88suioxAJw5EBUowlS5Zg48aNuHjxIvr06SM6DtmA2tpaBAUFYdKkSdiyZYvoOETCsAyQYpSXlyM0NBS/+c1vsGPHDtFxyAbExMRg4cKFOH/+PMLDw0XHIRKGZYAUpf7D/8iRI4iIiBAdhwQymUwIDw9HYGAg9u3bJzoOkVAsA6QoJpMJEydORFlZGc6ePQsnJyfRkUiQ2NhY6HQ6JCYmYvz48aLjEAnFMkCKc/bsWQwfPhwffvghlixZIjoOCSDLMsaNGwetVouEhATRcYiE49UEpDh33XUXoqKisGLFCly9elV0HBIgISEBJ0+exNKlS0VHIbIJHBkgRSotLUVISAjuvfdexMTEiI5DVnbvvfeioKAA58+fh0qlEh2HSDiODJAieXt7491338WWLVuQmJgoOg5Z0blz5/D1119j6dKlLAJEP+HIACmWyWTCmDFjUFNTg9OnT0Or1YqORFbw8MMP48SJE8jMzOS/OdFPODJAiqVWq7F+/XqcP38eGzZsEB2HrCAnJwefffYZXnnlFRYBop/hyAAp3lNPPYVdu3YhIyMDPXr0EB2HLOjZZ5/Frl27kJubC3d3d9FxiGwGRwZI8VatWgUA+NOf/iQ4CVlSUVERNm/ejBdffJFFgOgXWAZI8Xr06IG//vWv2LRpE06dOiU6DlnIRx99BCcnJzz77LOioxDZHB4mIAJgNBoxYsQIaLVanDx5EhqNRnQkMqPy8nL4+/tj8eLF+OCDD0THIbI5HBkgAqDRaLBu3TqcPn0amzdvFh2HzGzDhg2oqqriHSeJmsGRAaKfWbhwIb788ktkZGTA29tbdBwyg6qqKvTv3x+zZs3Cxo0bRcchskkcGSD6mffeew+1tbX4y1/+IjoKmUlMTAyKiorw6quvio5CZLM4MkD0C2vWrMFLL72E06dP4+677xYdhzrBaDQiNDQUw4YNw+effy46DpHNYhkg+oXa2loMGzYMXbt2RWJiItRqDqDZq507d+Khhx5CcnIyRowYIToOkc1iGSBqwrfffouIiAj8+9//xsKFC0XHoQ6QZRnDhw+Hj48PDh48KDoOkU1jGSBqxvz583HkyBGkp6ejW7duouNQOx04cAAzZszAoUOHMGXKFNFxiGwaywBRM3744QcMHDgQixYtwpo1a0THoXaaPHkyKioqcOrUKc5OSNQKHgwlakafPn3w+uuvY926dZAkSXQcaoekpCTEx8dzmmKiNuLIAFELampqMHToUPTs2RPffvstf7HYiTlz5iAlJQWpqam8myRRG3BkgKgFzs7O+Mc//oGjR49ix44douNQG6SlpWHPnj147bXXWASI2ogjA0RtcP/99+PkyZO4ePEiPD09RcehFjzxxBOIi4tDTk4OXFxcRMchsgscGSBqg7///e/48ccf8dZbb4mOQi0oKCjA1q1b8dJLL7EIELUDywBRGwQEBGDZsmVYvXo1Ll68KDoONWP16tXw8PDA4sWLRUchsis8TEDURlVVVRgyZAj69++PAwcO8GRCG1NSUoKAgAAsWbKEIzhE7cSRAaI2cnV1xUcffYRDhw7hiy++EB2HfmH9+vUwmUx44YUXREchsjscGSBqp9mzZ+PcuXNIS0uDh4eH6DgEQK/XIyAgAPPnz8fatWtFxyGyOxwZIGqnNWvWoLi4GO+8847oKPSTTZs2oaysDC+//LLoKER2iSMDRB3w+uuv47333kNKSgqCg4NFx1G02tpaBAUFYdKkSdiyZYvoOER2iWWAqAMMBgMGDx6MsLAw7N+/nycTChQTE4OFCxfi/PnzCA8PFx2HyC6xDBB10J49ezBnzhzExsZi9uzZjZ7TV9cht0SPmjoTnLVq9PPxgIeLVlBS+9fc9jSZTAgPD0dgYCD27dsnOiaR3WIZIOogWZZxzz33IDMzEykpKfjhRh22JeUjPr0Y+aUG/PwHSwXA39sdEaF+eGS0Pwb05F0MW5NZVNHq9gxwrsSOt/6A+L3bMX78eFFRieweywBRJ6Snp+Ou8VMw7On3ccXkBY1aBaOp+R+p+ucnBvti1X3h6OvtbsW09qGg1IBleyQkZF1vdXvCZATUGm5Pok5iGSDqhB3J+fjz7rOokwGVuu2T4mjUKmjVKqyMDMO8kf4WTGhfdiTnY0VsCupMcssl4Be4PYk6h2WAqIPWxWfiwwMZnV7OK9ND8FzEADMksm/cnkTi8D4DRB2wIznfLL+4AODDAxn4LDnfLMuyV9yeRGJxZIConQpKDZi6+jtU15lue85UbUD58R2oKbqEmqJsmG7egNf4+eg28ZEWl+miVePQkkmKPObd0vYEOrZNlbw9iTqCIwNE7bRsj4S6Zo5nm25WoOJsHGRjLdxDxrR5mXUmGcv2SOaKaFda2p5Ax7apkrcnUUfwwmeidsgsqkBC1vVmn9d4+aHv/9sBlUoFo6EclecOtGm5RpOMhKzryCquQLCfci47bG17Ah3bpkrdnkQdxZEBonbYlpQPjbr5uw2qVKoO341Qo1Zh60llHetubXsCHd+mStyeRB3FMkDUDvHpxe265K09jCYZ8RnFFlm2reL2JLINLANEbVRZXYf8UoNF15FfYoC+us6i67AV3J5EtoNlgKiN8kr0sPSlNzKA3BK9hddiG7g9iWwHywBRG9U0c+mbva5HNG5PItvBMkDURs5a6/y4WGs9onF7EtkO/pQQtVE/Hw907DqBtlP9tB4l4PYksh28zwBRG3m4aOHv7Y68Vk56u5l9GqbaKsg1NwEAtSUF0F9MBAC4BY2A2sm12ff6+7jDw0UZP5Zt3Z5Ax7epkrYnUWfwp4SoHSJC/bAlKa/Fy+FK4v4Hxhv/vaTNcDERhp9+cd0ZtQnqbk3/4tKoVYgI8TNvYBvXlu0JdGybKnF7EnUU5yYgaofMogpMW3PUYss/tOTXirpjHrcnkW3gOQNE7TCgpycmBvu2ete89tKoVZgY7Ku4X1zcnkS2gWWAqJ1W3RcOrZl/eWnVKqy6L9ysy7QX3J5E4rEMELVTX293rIwMM+sy34wMU+x0u9yeROKxDBB1wLyR/nhleohZlvXq9FA8NNLfLMuyV9yeRGLxBEKiTtiRnI8VsSmoM8ntmnBHo1ZBq1bhzcgw/uL6GW5PIjFYBog6qaDUgGV7JCRkXYdGrWrxl1j98xODfbHqvnAOZTeB25PI+lgGiMwks6gC25LyEZ9RjPwSQ6NJeFS4dQOciBA/PDrGn2e5twG3J5H1sAwQWYC+ug65JXrU1JngrFWjn48H74TXCdyeRJbFMkBERKRwvJqAiIhI4VgGiIiIFI5lgIiISOFYBoiIiBSOZYCIiEjhWAaIiIgUjmWAiIhI4VgGiIiIFI5lgIiISOFYBoiIiBSOZYCIiEjhWAaIiIgUjmWAiIhI4VgGiIiIFI5lgIiISOFYBoiIiBSOZYCIiEjhWAaIiIgUjmWAiIhI4VgGiIiIFI5lgIiISOFYBoiIiBSOZYCIiEjhWAaIiIgUjmWAiIhI4VgGiIiIFI5lgIiISOH+P8Npgty/FVKRAAAAAElFTkSuQmCC\n",
      "text/plain": [
       "<Figure size 640x480 with 2 Axes>"
      ]
     },
     "metadata": {},
     "output_type": "display_data"
    }
   ],
   "source": [
    "# draw\n",
    "print(\"\\nAnd the corresponding graphs:\\n\")\n",
    "plt.subplot(1, 2, 1)\n",
    "plt.title(\"Graph 1\")\n",
    "nx.draw_networkx(graph_1, with_labels=True)\n",
    "plt.subplot(1, 2, 2)\n",
    "plt.title(\"Graph 2\")\n",
    "nx.draw_networkx(graph_2, with_labels=True)"
   ]
  },
  {
   "cell_type": "markdown",
   "metadata": {},
   "source": [
    "\n",
    "**Practical considerations:** \n",
    "\n",
    "Building a molecular graph requires the labeling of nodes and edges.\n",
    "Common frameworks support this.\n",
    "For machine learning, [PyTorch Geometric](https://pytorch-geometric.readthedocs.io/en/latest/) is the most popular framework for building permutation-invariant neural networks. \n",
    "We provide a talktorial at TODO.\n",
    "\n",
    "Converting a SMILES string or RDKit object to a PyTorch Geometric graph is not complicated, but somewhat technical. One possible implementation is explained [here](https://www.blopig.com/blog/2022/02/how-to-turn-a-smiles-string-into-a-molecular-graph-for-pytorch-geometric/).\n",
    "Similarly, one can create a networkX graph as explained [here](https://gist.github.com/fangkuoyu/dc785218e5d4d94c752e80f1aaba4fad).\n",
    "\n",
    "\n",
    "As you see, molecular graph representations are not standardized and leave a lot of **design choices** to the user.\n",
    "These include:\n",
    "\n",
    "- What are the node features? Only the atom type, or also information on chirality? One can also include the information if the atom is part of a ring. \n",
    "- For the edge features: Do you only include the bond type (single, double, triple) or also the bond length? Do you use one-hot encodings or scalars?\n",
    "- Do you want to include hydrogen atoms that are bound to carbon atoms, or leave them out?\n",
    "- Do you want to add a master node (a dummy atom connected to all other atoms)? It might help some ML algorithms.\n",
    "- Do you want to explicitly indicate some substructures in the molecular graph?\n"
   ]
  },
  {
   "cell_type": "markdown",
   "metadata": {
    "id": "IYD_ShME-0vb"
   },
   "source": [
    "### Fingerprints\n",
    "\n",
    "Generate circular fingerprint (`ecfp`) and print information."
   ]
  },
  {
   "cell_type": "code",
   "execution_count": 12,
   "metadata": {},
   "outputs": [
    {
     "data": {
      "text/plain": [
       "'Common arguments : countSimulation=0 fpSize=2048 bitsPerFeature=1 --- MorganArguments includeChirality=0 onlyNonzeroInvariants=0 radius=3 --- MorganEnvironmentGenerator --- MorganInvariantGenerator includeRingMembership=1 --- MorganInvariantGenerator useBondTypes=1 useChirality=0'"
      ]
     },
     "execution_count": 12,
     "metadata": {},
     "output_type": "execute_result"
    }
   ],
   "source": [
    "fpg = rdFingerprintGenerator.GetMorganGenerator()\n",
    "fpg.GetInfoString()"
   ]
  },
  {
   "cell_type": "code",
   "execution_count": 13,
   "metadata": {},
   "outputs": [],
   "source": [
    "fp = fpg.GetFingerprintAsNumPy(mol_caffeine)"
   ]
  },
  {
   "cell_type": "code",
   "execution_count": 14,
   "metadata": {
    "colab": {
     "base_uri": "https://localhost:8080/",
     "height": 334
    },
    "id": "_h443LFp-2Cn",
    "outputId": "1f90d027-f5f1-4059-f25b-0667e52f6c57"
   },
   "outputs": [],
   "source": [
    "def visualize_fingerprint_info(fp):\n",
    "    print(\"Number of elements: \", fp.size)\n",
    "    print(\"Types of entries: \", set(list(fp)))\n",
    "    print(\"Number of Ones: \", np.count_nonzero(fp))\n",
    "    plt.vlines(\n",
    "        [i for i in range(fp.size) if fp[i] > 0.5], ymin=0, ymax=300\n",
    "    )  # 300 gives a nice aspect ratio\n",
    "    plt.vlines(fp.size, ymin=0, ymax=0.0)  # dummy to calibrate scale\n",
    "    plt.gca().set_aspect(\"equal\")"
   ]
  },
  {
   "cell_type": "code",
   "execution_count": 15,
   "metadata": {},
   "outputs": [
    {
     "name": "stdout",
     "output_type": "stream",
     "text": [
      "Number of elements:  2048\n",
      "Types of entries:  {0, 1}\n",
      "Number of Ones:  34\n"
     ]
    },
    {
     "data": {
      "image/png": "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\n",
      "text/plain": [
       "<Figure size 640x480 with 1 Axes>"
      ]
     },
     "metadata": {},
     "output_type": "display_data"
    }
   ],
   "source": [
    "visualize_fingerprint_info(fp)"
   ]
  },
  {
   "cell_type": "markdown",
   "metadata": {},
   "source": [
    "Try another fingerprint: Rdkit fingerprint"
   ]
  },
  {
   "cell_type": "code",
   "execution_count": 16,
   "metadata": {},
   "outputs": [],
   "source": [
    "fpg2 = rdFingerprintGenerator.GetRDKitFPGenerator()\n",
    "fp2 = fpg2.GetFingerprintAsNumPy(mol_caffeine)"
   ]
  },
  {
   "cell_type": "code",
   "execution_count": 17,
   "metadata": {
    "colab": {
     "base_uri": "https://localhost:8080/",
     "height": 334
    },
    "id": "vLNJZKv31L4k",
    "outputId": "0eb36a6a-5845-4b37-c907-6d102671b5a1"
   },
   "outputs": [
    {
     "name": "stdout",
     "output_type": "stream",
     "text": [
      "Number of elements:  2048\n",
      "Types of entries:  {0, 1}\n",
      "Number of Ones:  759\n"
     ]
    },
    {
     "data": {
      "image/png": "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\n",
      "text/plain": [
       "<Figure size 640x480 with 1 Axes>"
      ]
     },
     "metadata": {},
     "output_type": "display_data"
    }
   ],
   "source": [
    "# The \"rdkit\" fingerprint is less sparse than ECFP\n",
    "visualize_fingerprint_info(fp2)"
   ]
  },
  {
   "cell_type": "markdown",
   "metadata": {
    "id": "--KTcOiT337k"
   },
   "source": [
    "## Discussion\n",
    "\n"
   ]
  },
  {
   "cell_type": "markdown",
   "metadata": {
    "id": "Gx8Zi7Xk356I"
   },
   "source": [
    "We have discussed different methods for molecular representations:\n",
    "\n",
    "*   A molecule is a bag/multiset of atoms (molecular formula). This representation cannot differentiate isomers. \n",
    "*   A molecule is a labeled graph (molecular graphs) or a derived representation (SMILES, fingerprints). This representation can differentiate structural isomers and in some cases some (but not all) spatial isomers. \n",
    "*   A molecule is a graph, equipped with 3D coordinates (point clouds). This *configuration* can be predicted or determined experimentally. \n",
    "*   A molecule is a manipulable 3D object, e.g., with rotational bonds. Isomers that can be reached by rotating single bonds are called conformers.\n",
    "\n",
    "We have also learned that intermolecular forces are only explicitly represented when they lead to chemical bonds (and sometimes not even then). Other forces might be represented implicitly in the 3D configuration. \n",
    "\n",
    "We have not discussed methods that only consider the surface area of a molecule."
   ]
  },
  {
   "cell_type": "markdown",
   "metadata": {
    "id": "SUDIAFAD37yM"
   },
   "source": [
    "## Quiz"
   ]
  },
  {
   "cell_type": "markdown",
   "metadata": {},
   "source": [
    "* Can the same molecule correspond to different molecular graphs?\n",
    "* True or false: When you mirror/rotate a molecule, its properties remain the same.\n",
    "* Can an ML model predict different properties, depending on which SMILES canonicalization you use as input?\n",
    "* Can an ML model predict different properties, depending on which node ordering you use as input?\n",
    "* True or false: Only forces between atoms that lead to chemical bonds are relevant to a molecule's properties.\n",
    "\n",
    "<!-- \n",
    "1. Yes, due to the node ordering.\n",
    "2. For rotation: true. For reflection: generally false (if the molecule is chiral)\n",
    "3. Yes. Text-based ML models are not invariant to different SMILES canonicalizations.\n",
    "4. If you use a graph neural network (an ML model that is invariant to node-orderings), no.\n",
    "5. False (hydrogen bonding, van der Waals force)\n",
    "-->\n"
   ]
  }
 ],
 "metadata": {
  "colab": {
   "provenance": [],
   "toc_visible": true
  },
  "kernelspec": {
   "display_name": "Python 3 (ipykernel)",
   "language": "python",
   "name": "python3"
  },
  "language_info": {
   "codemirror_mode": {
    "name": "ipython",
    "version": 3
   },
   "file_extension": ".py",
   "mimetype": "text/x-python",
   "name": "python",
   "nbconvert_exporter": "python",
   "pygments_lexer": "ipython3",
   "version": "3.9.16"
  },
  "toc-autonumbering": true,
  "vscode": {
   "interpreter": {
    "hash": "8a9b266ef77d2c7845c34a2fd631702a12f40ca31c61a4ac43e85fda7905a5a1"
   }
  },
  "widgets": {
   "application/vnd.jupyter.widget-state+json": {
    "0d6c757d3aee4f198c31bc2fda0f1c9a": {
     "model_module": "@jupyter-widgets/controls",
     "model_module_version": "1.5.0",
     "model_name": "DescriptionStyleModel",
     "state": {
      "_model_module": "@jupyter-widgets/controls",
      "_model_module_version": "1.5.0",
      "_model_name": "DescriptionStyleModel",
      "_view_count": null,
      "_view_module": "@jupyter-widgets/base",
      "_view_module_version": "1.2.0",
      "_view_name": "StyleView",
      "description_width": ""
     }
    },
    "644e42602bb24388884fdf7ae60d9abc": {
     "model_module": "@jupyter-widgets/controls",
     "model_module_version": "1.5.0",
     "model_name": "SliderStyleModel",
     "state": {
      "_model_module": "@jupyter-widgets/controls",
      "_model_module_version": "1.5.0",
      "_model_name": "SliderStyleModel",
      "_view_count": null,
      "_view_module": "@jupyter-widgets/base",
      "_view_module_version": "1.2.0",
      "_view_name": "StyleView",
      "description_width": "",
      "handle_color": null
     }
    },
    "8e69ff6fdaa246ec825abbb4686f1840": {
     "model_module": "@jupyter-widgets/controls",
     "model_module_version": "1.5.0",
     "model_name": "PlayModel",
     "state": {
      "_dom_classes": [],
      "_model_module": "@jupyter-widgets/controls",
      "_model_module_version": "1.5.0",
      "_model_name": "PlayModel",
      "_playing": false,
      "_repeat": false,
      "_view_count": null,
      "_view_module": "@jupyter-widgets/controls",
      "_view_module_version": "1.5.0",
      "_view_name": "PlayView",
      "description": "",
      "description_tooltip": null,
      "disabled": false,
      "interval": 100,
      "layout": "IPY_MODEL_b74f4520044d4e6097a9b3d0a4928607",
      "max": 0,
      "min": 0,
      "show_repeat": true,
      "step": 1,
      "style": "IPY_MODEL_0d6c757d3aee4f198c31bc2fda0f1c9a",
      "value": 0
     }
    },
    "9d01434780bb45f792aaf91fac4deec5": {
     "model_module": "nglview-js-widgets",
     "model_module_version": "3.0.1",
     "model_name": "NGLModel",
     "state": {
      "_camera_orientation": [],
      "_camera_str": "orthographic",
      "_dom_classes": [],
      "_gui_theme": null,
      "_ibtn_fullscreen": "IPY_MODEL_293f0a36788f4c0ea7602e501b62d565",
      "_igui": null,
      "_iplayer": "IPY_MODEL_5785eeda686d48a4b3b87f7f69b6d316",
      "_model_module": "nglview-js-widgets",
      "_model_module_version": "3.0.1",
      "_model_name": "NGLModel",
      "_ngl_color_dict": {},
      "_ngl_coordinate_resource": {},
      "_ngl_full_stage_parameters": {},
      "_ngl_msg_archive": [
       {
        "args": [
         {
          "binary": false,
          "data": "MODEL        1\nHETATM    1  C1  UNL     1       7.626   0.674   0.734  1.00  0.00           C  \nHETATM    2  O1  UNL     1       6.951  -0.527   0.994  1.00  0.00           O  \nHETATM    3  C2  UNL     1       5.668  -0.710   0.508  1.00  0.00           C  \nHETATM    4  C3  UNL     1       5.068  -1.911   0.814  1.00  0.00           C  \nHETATM    5  C4  UNL     1       3.773  -2.172   0.363  1.00  0.00           C  \nHETATM    6  C5  UNL     1       3.155  -1.211  -0.369  1.00  0.00           C  \nHETATM    7  C6  UNL     1       1.739  -1.391  -0.846  1.00  0.00           C  \nHETATM    8  O2  UNL     1       1.684  -1.462  -2.226  1.00  0.00           O  \nHETATM    9  C7  UNL     1       1.086  -0.056  -0.437  1.00  0.00           C  \nHETATM   10  C8  UNL     1       1.576   0.952  -1.420  1.00  0.00           C  \nHETATM   11  O3  UNL     1       3.019   0.936  -1.451  1.00  0.00           O  \nHETATM   12  C9  UNL     1       3.731  -0.010  -0.686  1.00  0.00           C  \nHETATM   13  C10 UNL     1       5.012   0.221  -0.228  1.00  0.00           C  \nHETATM   14  N1  UNL     1      -0.334  -0.193  -0.447  1.00  0.00           N  \nHETATM   15  C11 UNL     1      -0.985   1.043  -0.855  1.00  0.00           C  \nHETATM   16  C12 UNL     1      -2.469   0.879  -0.859  1.00  0.00           C  \nHETATM   17  C13 UNL     1      -2.992   0.445   0.500  1.00  0.00           C  \nHETATM   18  O4  UNL     1      -2.690   1.338   1.499  1.00  0.00           O  \nHETATM   19  C14 UNL     1      -2.302  -0.876   0.781  1.00  0.00           C  \nHETATM   20  C15 UNL     1      -0.824  -0.579   0.875  1.00  0.00           C  \nHETATM   21  C16 UNL     1      -4.452   0.300   0.415  1.00  0.00           C  \nHETATM   22  C17 UNL     1      -5.127  -0.874   0.681  1.00  0.00           C  \nHETATM   23  C18 UNL     1      -6.501  -0.903   0.573  1.00  0.00           C  \nHETATM   24  C19 UNL     1      -7.201   0.228   0.204  1.00  0.00           C  \nHETATM   25  F1  UNL     1      -8.556   0.235   0.088  1.00  0.00           F  \nHETATM   26  C20 UNL     1      -6.554   1.420  -0.070  1.00  0.00           C  \nHETATM   27  C21 UNL     1      -5.177   1.415   0.047  1.00  0.00           C  \nHETATM   28  H1  UNL     1       8.212   0.564  -0.188  1.00  0.00           H  \nHETATM   29  H2  UNL     1       6.960   1.575   0.709  1.00  0.00           H  \nHETATM   30  H3  UNL     1       8.382   0.825   1.570  1.00  0.00           H  \nHETATM   31  H4  UNL     1       5.565  -2.678   1.397  1.00  0.00           H  \nHETATM   32  H5  UNL     1       3.307  -3.133   0.614  1.00  0.00           H  \nHETATM   33  H6  UNL     1       1.261  -2.260  -0.410  1.00  0.00           H  \nHETATM   34  H7  UNL     1       2.454  -1.963  -2.621  1.00  0.00           H  \nHETATM   35  H8  UNL     1       1.481   0.232   0.573  1.00  0.00           H  \nHETATM   36  H9  UNL     1       1.294   1.985  -1.202  1.00  0.00           H  \nHETATM   37  H10 UNL     1       1.223   0.694  -2.452  1.00  0.00           H  \nHETATM   38  H11 UNL     1       5.450   1.166  -0.487  1.00  0.00           H  \nHETATM   39  H12 UNL     1      -0.657   1.275  -1.889  1.00  0.00           H  \nHETATM   40  H13 UNL     1      -0.741   1.878  -0.141  1.00  0.00           H  \nHETATM   41  H14 UNL     1      -3.005   1.779  -1.180  1.00  0.00           H  \nHETATM   42  H15 UNL     1      -2.703   0.029  -1.561  1.00  0.00           H  \nHETATM   43  H16 UNL     1      -2.951   0.911   2.364  1.00  0.00           H  \nHETATM   44  H17 UNL     1      -2.687  -1.340   1.709  1.00  0.00           H  \nHETATM   45  H18 UNL     1      -2.444  -1.605  -0.039  1.00  0.00           H  \nHETATM   46  H19 UNL     1      -0.232  -1.410   1.294  1.00  0.00           H  \nHETATM   47  H20 UNL     1      -0.705   0.303   1.540  1.00  0.00           H  \nHETATM   48  H21 UNL     1      -4.541  -1.724   0.967  1.00  0.00           H  \nHETATM   49  H22 UNL     1      -7.045  -1.820   0.779  1.00  0.00           H  \nHETATM   50  H23 UNL     1      -7.129   2.296  -0.359  1.00  0.00           H  \nHETATM   51  H24 UNL     1      -4.674   2.359  -0.168  1.00  0.00           H  \nCONECT    1    2   28   29   30\nCONECT    2    3\nCONECT    3    4    4   13\nCONECT    4    5   31\nCONECT    5    6    6   32\nCONECT    6    7   12\nCONECT    7    8    9   33\nCONECT    8   34\nCONECT    9   10   14   35\nCONECT   10   11   36   37\nCONECT   11   12\nCONECT   12   13   13\nCONECT   13   38\nCONECT   14   15   20\nCONECT   15   16   39   40\nCONECT   16   17   41   42\nCONECT   17   18   19   21\nCONECT   18   43\nCONECT   19   20   44   45\nCONECT   20   46   47\nCONECT   21   22   22   27\nCONECT   22   23   48\nCONECT   23   24   24   49\nCONECT   24   25   26\nCONECT   26   27   27   50\nCONECT   27   51\nENDMDL\nMODEL        2\nHETATM    1  C1  UNL     1       6.845   1.899  -0.656  1.00  0.00           C  \nHETATM    2  O1  UNL     1       6.443   0.637  -1.117  1.00  0.00           O  \nHETATM    3  C2  UNL     1       5.290  -0.001  -0.671  1.00  0.00           C  \nHETATM    4  C3  UNL     1       4.960  -1.244  -1.171  1.00  0.00           C  \nHETATM    5  C4  UNL     1       3.803  -1.901  -0.734  1.00  0.00           C  \nHETATM    6  C5  UNL     1       2.977  -1.326   0.197  1.00  0.00           C  \nHETATM    7  C6  UNL     1       1.768  -2.063   0.626  1.00  0.00           C  \nHETATM    8  O2  UNL     1       1.253  -2.894  -0.338  1.00  0.00           O  \nHETATM    9  C7  UNL     1       0.716  -1.105   1.202  1.00  0.00           C  \nHETATM   10  C8  UNL     1       1.399  -0.233   2.187  1.00  0.00           C  \nHETATM   11  O3  UNL     1       2.475   0.522   1.648  1.00  0.00           O  \nHETATM   12  C9  UNL     1       3.300  -0.086   0.699  1.00  0.00           C  \nHETATM   13  C10 UNL     1       4.435   0.557   0.270  1.00  0.00           C  \nHETATM   14  N1  UNL     1      -0.053  -0.488   0.213  1.00  0.00           N  \nHETATM   15  C11 UNL     1      -0.866  -1.293  -0.620  1.00  0.00           C  \nHETATM   16  C12 UNL     1      -2.147  -0.606  -1.086  1.00  0.00           C  \nHETATM   17  C13 UNL     1      -2.804  -0.022   0.121  1.00  0.00           C  \nHETATM   18  O4  UNL     1      -2.971  -1.025   1.075  1.00  0.00           O  \nHETATM   19  C14 UNL     1      -1.897   1.083   0.645  1.00  0.00           C  \nHETATM   20  C15 UNL     1      -0.455   0.850   0.341  1.00  0.00           C  \nHETATM   21  C16 UNL     1      -4.113   0.598  -0.159  1.00  0.00           C  \nHETATM   22  C17 UNL     1      -5.048   0.717   0.840  1.00  0.00           C  \nHETATM   23  C18 UNL     1      -6.296   1.300   0.604  1.00  0.00           C  \nHETATM   24  C19 UNL     1      -6.592   1.765  -0.661  1.00  0.00           C  \nHETATM   25  F1  UNL     1      -7.817   2.339  -0.907  1.00  0.00           F  \nHETATM   26  C20 UNL     1      -5.676   1.656  -1.668  1.00  0.00           C  \nHETATM   27  C21 UNL     1      -4.431   1.069  -1.413  1.00  0.00           C  \nHETATM   28  H1  UNL     1       7.732   2.207  -1.283  1.00  0.00           H  \nHETATM   29  H2  UNL     1       7.201   1.855   0.405  1.00  0.00           H  \nHETATM   30  H3  UNL     1       6.052   2.668  -0.754  1.00  0.00           H  \nHETATM   31  H4  UNL     1       5.601  -1.709  -1.903  1.00  0.00           H  \nHETATM   32  H5  UNL     1       3.612  -2.868  -1.171  1.00  0.00           H  \nHETATM   33  H6  UNL     1       2.098  -2.675   1.516  1.00  0.00           H  \nHETATM   34  H7  UNL     1       1.862  -3.697  -0.386  1.00  0.00           H  \nHETATM   35  H8  UNL     1       0.042  -1.789   1.799  1.00  0.00           H  \nHETATM   36  H9  UNL     1       1.879  -0.911   2.955  1.00  0.00           H  \nHETATM   37  H10 UNL     1       0.743   0.433   2.762  1.00  0.00           H  \nHETATM   38  H11 UNL     1       4.670   1.519   0.672  1.00  0.00           H  \nHETATM   39  H12 UNL     1      -1.191  -2.243  -0.135  1.00  0.00           H  \nHETATM   40  H13 UNL     1      -0.297  -1.626  -1.533  1.00  0.00           H  \nHETATM   41  H14 UNL     1      -1.928   0.153  -1.861  1.00  0.00           H  \nHETATM   42  H15 UNL     1      -2.748  -1.394  -1.582  1.00  0.00           H  \nHETATM   43  H16 UNL     1      -3.859  -1.447   0.908  1.00  0.00           H  \nHETATM   44  H17 UNL     1      -2.192   2.056   0.201  1.00  0.00           H  \nHETATM   45  H18 UNL     1      -2.118   1.169   1.725  1.00  0.00           H  \nHETATM   46  H19 UNL     1      -0.238   1.364  -0.642  1.00  0.00           H  \nHETATM   47  H20 UNL     1       0.139   1.417   1.083  1.00  0.00           H  \nHETATM   48  H21 UNL     1      -4.851   0.365   1.842  1.00  0.00           H  \nHETATM   49  H22 UNL     1      -7.055   1.413   1.361  1.00  0.00           H  \nHETATM   50  H23 UNL     1      -5.912   2.022  -2.653  1.00  0.00           H  \nHETATM   51  H24 UNL     1      -3.742   1.009  -2.246  1.00  0.00           H  \nCONECT    1    2   28   29   30\nCONECT    2    3\nCONECT    3    4    4   13\nCONECT    4    5   31\nCONECT    5    6    6   32\nCONECT    6    7   12\nCONECT    7    8    9   33\nCONECT    8   34\nCONECT    9   10   14   35\nCONECT   10   11   36   37\nCONECT   11   12\nCONECT   12   13   13\nCONECT   13   38\nCONECT   14   15   20\nCONECT   15   16   39   40\nCONECT   16   17   41   42\nCONECT   17   18   19   21\nCONECT   18   43\nCONECT   19   20   44   45\nCONECT   20   46   47\nCONECT   21   22   22   27\nCONECT   22   23   48\nCONECT   23   24   24   49\nCONECT   24   25   26\nCONECT   26   27   27   50\nCONECT   27   51\nENDMDL\nMODEL        3\nHETATM    1  C1  UNL     1       8.184  -1.162   0.459  1.00  0.00           C  \nHETATM    2  O1  UNL     1       7.198  -0.713  -0.376  1.00  0.00           O  \nHETATM    3  C2  UNL     1       5.900  -0.418  -0.063  1.00  0.00           C  \nHETATM    4  C3  UNL     1       5.373  -0.509   1.206  1.00  0.00           C  \nHETATM    5  C4  UNL     1       4.037  -0.201   1.451  1.00  0.00           C  \nHETATM    6  C5  UNL     1       3.196   0.199   0.458  1.00  0.00           C  \nHETATM    7  C6  UNL     1       1.766   0.564   0.698  1.00  0.00           C  \nHETATM    8  O2  UNL     1       1.222  -0.285   1.679  1.00  0.00           O  \nHETATM    9  C7  UNL     1       0.910   0.555  -0.508  1.00  0.00           C  \nHETATM   10  C8  UNL     1       1.554   0.073  -1.785  1.00  0.00           C  \nHETATM   11  O3  UNL     1       2.846   0.688  -1.810  1.00  0.00           O  \nHETATM   12  C9  UNL     1       3.714   0.289  -0.808  1.00  0.00           C  \nHETATM   13  C10 UNL     1       5.050  -0.004  -1.106  1.00  0.00           C  \nHETATM   14  N1  UNL     1      -0.442   0.303  -0.396  1.00  0.00           N  \nHETATM   15  C11 UNL     1      -1.336   1.280   0.140  1.00  0.00           C  \nHETATM   16  C12 UNL     1      -2.516   1.304  -0.883  1.00  0.00           C  \nHETATM   17  C13 UNL     1      -3.239   0.021  -0.674  1.00  0.00           C  \nHETATM   18  O4  UNL     1      -3.496  -0.548  -1.938  1.00  0.00           O  \nHETATM   19  C14 UNL     1      -2.419  -0.961   0.110  1.00  0.00           C  \nHETATM   20  C15 UNL     1      -0.947  -1.031  -0.316  1.00  0.00           C  \nHETATM   21  C16 UNL     1      -4.576   0.211  -0.048  1.00  0.00           C  \nHETATM   22  C17 UNL     1      -4.942   1.392   0.528  1.00  0.00           C  \nHETATM   23  C18 UNL     1      -6.205   1.563   1.086  1.00  0.00           C  \nHETATM   24  C19 UNL     1      -7.099   0.540   1.060  1.00  0.00           C  \nHETATM   25  F1  UNL     1      -8.310   0.762   1.618  1.00  0.00           F  \nHETATM   26  C20 UNL     1      -6.740  -0.658   0.479  1.00  0.00           C  \nHETATM   27  C21 UNL     1      -5.482  -0.840  -0.079  1.00  0.00           C  \nHETATM   28  H1  UNL     1       8.891  -1.832  -0.092  1.00  0.00           H  \nHETATM   29  H2  UNL     1       8.753  -0.309   0.939  1.00  0.00           H  \nHETATM   30  H3  UNL     1       7.728  -1.738   1.283  1.00  0.00           H  \nHETATM   31  H4  UNL     1       6.032  -0.844   2.044  1.00  0.00           H  \nHETATM   32  H5  UNL     1       3.699  -0.282   2.475  1.00  0.00           H  \nHETATM   33  H6  UNL     1       1.803   1.564   1.236  1.00  0.00           H  \nHETATM   34  H7  UNL     1       1.836  -1.035   1.927  1.00  0.00           H  \nHETATM   35  H8  UNL     1       0.896   1.741  -0.762  1.00  0.00           H  \nHETATM   36  H9  UNL     1       1.003   0.539  -2.639  1.00  0.00           H  \nHETATM   37  H10 UNL     1       1.651  -0.989  -1.920  1.00  0.00           H  \nHETATM   38  H11 UNL     1       5.425   0.078  -2.096  1.00  0.00           H  \nHETATM   39  H12 UNL     1      -0.886   2.258   0.262  1.00  0.00           H  \nHETATM   40  H13 UNL     1      -1.770   0.925   1.081  1.00  0.00           H  \nHETATM   41  H14 UNL     1      -1.979   1.224  -1.889  1.00  0.00           H  \nHETATM   42  H15 UNL     1      -3.046   2.217  -0.922  1.00  0.00           H  \nHETATM   43  H16 UNL     1      -3.082  -1.416  -2.045  1.00  0.00           H  \nHETATM   44  H17 UNL     1      -2.559  -0.895   1.185  1.00  0.00           H  \nHETATM   45  H18 UNL     1      -2.832  -1.984  -0.175  1.00  0.00           H  \nHETATM   46  H19 UNL     1      -0.449  -1.546   0.555  1.00  0.00           H  \nHETATM   47  H20 UNL     1      -0.918  -1.611  -1.243  1.00  0.00           H  \nHETATM   48  H21 UNL     1      -4.253   2.230   0.579  1.00  0.00           H  \nHETATM   49  H22 UNL     1      -6.423   2.528   1.527  1.00  0.00           H  \nHETATM   50  H23 UNL     1      -7.476  -1.438   0.479  1.00  0.00           H  \nHETATM   51  H24 UNL     1      -5.246  -1.795  -0.528  1.00  0.00           H  \nCONECT    1    2   28   29   30\nCONECT    2    3\nCONECT    3    4    4   13\nCONECT    4    5   31\nCONECT    5    6    6   32\nCONECT    6    7   12\nCONECT    7    8    9   33\nCONECT    8   34\nCONECT    9   10   14   35\nCONECT   10   11   36   37\nCONECT   11   12\nCONECT   12   13   13\nCONECT   13   38\nCONECT   14   15   20\nCONECT   15   16   39   40\nCONECT   16   17   41   42\nCONECT   17   18   19   21\nCONECT   18   43\nCONECT   19   20   44   45\nCONECT   20   46   47\nCONECT   21   22   22   27\nCONECT   22   23   48\nCONECT   23   24   24   49\nCONECT   24   25   26\nCONECT   26   27   27   50\nCONECT   27   51\nENDMDL\nMODEL        4\nHETATM    1  C1  UNL     1       7.492   1.671  -0.620  1.00  0.00           C  \nHETATM    2  O1  UNL     1       6.366   1.578   0.194  1.00  0.00           O  \nHETATM    3  C2  UNL     1       5.263   0.772   0.024  1.00  0.00           C  \nHETATM    4  C3  UNL     1       5.139  -0.084  -1.034  1.00  0.00           C  \nHETATM    5  C4  UNL     1       3.998  -0.868  -1.143  1.00  0.00           C  \nHETATM    6  C5  UNL     1       2.989  -0.805  -0.216  1.00  0.00           C  \nHETATM    7  C6  UNL     1       1.778  -1.620  -0.372  1.00  0.00           C  \nHETATM    8  O2  UNL     1       1.343  -1.712  -1.702  1.00  0.00           O  \nHETATM    9  C7  UNL     1       0.667  -1.276   0.566  1.00  0.00           C  \nHETATM   10  C8  UNL     1       1.346  -1.137   1.955  1.00  0.00           C  \nHETATM   11  O3  UNL     1       2.063   0.114   1.813  1.00  0.00           O  \nHETATM   12  C9  UNL     1       3.109   0.052   0.850  1.00  0.00           C  \nHETATM   13  C10 UNL     1       4.244   0.829   0.955  1.00  0.00           C  \nHETATM   14  N1  UNL     1       0.018  -0.042   0.379  1.00  0.00           N  \nHETATM   15  C11 UNL     1      -0.669   0.227  -0.833  1.00  0.00           C  \nHETATM   16  C12 UNL     1      -1.991  -0.501  -1.011  1.00  0.00           C  \nHETATM   17  C13 UNL     1      -2.886  -0.287   0.156  1.00  0.00           C  \nHETATM   18  O4  UNL     1      -2.935  -1.502   0.856  1.00  0.00           O  \nHETATM   19  C14 UNL     1      -2.209   0.700   1.114  1.00  0.00           C  \nHETATM   20  C15 UNL     1      -0.893   0.134   1.503  1.00  0.00           C  \nHETATM   21  C16 UNL     1      -4.228   0.222  -0.137  1.00  0.00           C  \nHETATM   22  C17 UNL     1      -5.355  -0.525   0.089  1.00  0.00           C  \nHETATM   23  C18 UNL     1      -6.619  -0.016  -0.155  1.00  0.00           C  \nHETATM   24  C19 UNL     1      -6.771   1.280  -0.643  1.00  0.00           C  \nHETATM   25  F1  UNL     1      -8.017   1.744  -0.847  1.00  0.00           F  \nHETATM   26  C20 UNL     1      -5.648   2.044  -0.878  1.00  0.00           C  \nHETATM   27  C21 UNL     1      -4.391   1.498  -0.620  1.00  0.00           C  \nHETATM   28  H1  UNL     1       7.476   2.585  -1.220  1.00  0.00           H  \nHETATM   29  H2  UNL     1       8.383   1.741   0.079  1.00  0.00           H  \nHETATM   30  H3  UNL     1       7.696   0.756  -1.238  1.00  0.00           H  \nHETATM   31  H4  UNL     1       5.924  -0.155  -1.795  1.00  0.00           H  \nHETATM   32  H5  UNL     1       3.967  -1.525  -2.021  1.00  0.00           H  \nHETATM   33  H6  UNL     1       2.096  -2.672  -0.120  1.00  0.00           H  \nHETATM   34  H7  UNL     1       1.494  -2.591  -2.108  1.00  0.00           H  \nHETATM   35  H8  UNL     1       0.005  -2.162   0.686  1.00  0.00           H  \nHETATM   36  H9  UNL     1       2.106  -1.906   2.114  1.00  0.00           H  \nHETATM   37  H10 UNL     1       0.649  -1.008   2.770  1.00  0.00           H  \nHETATM   38  H11 UNL     1       4.300   1.522   1.803  1.00  0.00           H  \nHETATM   39  H12 UNL     1      -0.943   1.334  -0.812  1.00  0.00           H  \nHETATM   40  H13 UNL     1      -0.050   0.155  -1.738  1.00  0.00           H  \nHETATM   41  H14 UNL     1      -2.482  -0.058  -1.915  1.00  0.00           H  \nHETATM   42  H15 UNL     1      -1.795  -1.577  -1.240  1.00  0.00           H  \nHETATM   43  H16 UNL     1      -3.320  -2.165   0.211  1.00  0.00           H  \nHETATM   44  H17 UNL     1      -2.234   1.731   0.779  1.00  0.00           H  \nHETATM   45  H18 UNL     1      -2.874   0.659   2.031  1.00  0.00           H  \nHETATM   46  H19 UNL     1      -1.133  -0.866   1.977  1.00  0.00           H  \nHETATM   47  H20 UNL     1      -0.371   0.702   2.306  1.00  0.00           H  \nHETATM   48  H21 UNL     1      -5.306  -1.541   0.473  1.00  0.00           H  \nHETATM   49  H22 UNL     1      -7.492  -0.642   0.028  1.00  0.00           H  \nHETATM   50  H23 UNL     1      -5.769   3.049  -1.259  1.00  0.00           H  \nHETATM   51  H24 UNL     1      -3.534   2.140  -0.821  1.00  0.00           H  \nCONECT    1    2   28   29   30\nCONECT    2    3\nCONECT    3    4    4   13\nCONECT    4    5   31\nCONECT    5    6    6   32\nCONECT    6    7   12\nCONECT    7    8    9   33\nCONECT    8   34\nCONECT    9   10   14   35\nCONECT   10   11   36   37\nCONECT   11   12\nCONECT   12   13   13\nCONECT   13   38\nCONECT   14   15   20\nCONECT   15   16   39   40\nCONECT   16   17   41   42\nCONECT   17   18   19   21\nCONECT   18   43\nCONECT   19   20   44   45\nCONECT   20   46   47\nCONECT   21   22   22   27\nCONECT   22   23   48\nCONECT   23   24   24   49\nCONECT   24   25   26\nCONECT   26   27   27   50\nCONECT   27   51\nENDMDL\nMODEL        5\nHETATM    1  C1  UNL     1      -8.326  -0.284  -0.860  1.00  0.00           C  \nHETATM    2  O1  UNL     1      -7.263  -0.189   0.013  1.00  0.00           O  \nHETATM    3  C2  UNL     1      -5.920  -0.225  -0.240  1.00  0.00           C  \nHETATM    4  C3  UNL     1      -5.392  -0.371  -1.495  1.00  0.00           C  \nHETATM    5  C4  UNL     1      -4.018  -0.397  -1.637  1.00  0.00           C  \nHETATM    6  C5  UNL     1      -3.152  -0.278  -0.537  1.00  0.00           C  \nHETATM    7  C6  UNL     1      -1.662  -0.296  -0.776  1.00  0.00           C  \nHETATM    8  O2  UNL     1      -1.278  -1.591  -1.054  1.00  0.00           O  \nHETATM    9  C7  UNL     1      -0.971   0.236   0.462  1.00  0.00           C  \nHETATM   10  C8  UNL     1      -1.515  -0.543   1.621  1.00  0.00           C  \nHETATM   11  O3  UNL     1      -2.843  -0.012   1.828  1.00  0.00           O  \nHETATM   12  C9  UNL     1      -3.680  -0.130   0.718  1.00  0.00           C  \nHETATM   13  C10 UNL     1      -5.056  -0.107   0.846  1.00  0.00           C  \nHETATM   14  N1  UNL     1       0.442   0.145   0.347  1.00  0.00           N  \nHETATM   15  C11 UNL     1       1.160   0.653   1.480  1.00  0.00           C  \nHETATM   16  C12 UNL     1       2.559   0.025   1.406  1.00  0.00           C  \nHETATM   17  C13 UNL     1       3.252   0.774   0.264  1.00  0.00           C  \nHETATM   18  O4  UNL     1       3.315   2.102   0.669  1.00  0.00           O  \nHETATM   19  C14 UNL     1       2.440   0.625  -0.987  1.00  0.00           C  \nHETATM   20  C15 UNL     1       0.962   0.872  -0.797  1.00  0.00           C  \nHETATM   21  C16 UNL     1       4.587   0.177   0.110  1.00  0.00           C  \nHETATM   22  C17 UNL     1       5.394   0.085   1.251  1.00  0.00           C  \nHETATM   23  C18 UNL     1       6.661  -0.461   1.208  1.00  0.00           C  \nHETATM   24  C19 UNL     1       7.182  -0.939   0.031  1.00  0.00           C  \nHETATM   25  F1  UNL     1       8.420  -1.465   0.029  1.00  0.00           F  \nHETATM   26  C20 UNL     1       6.394  -0.853  -1.095  1.00  0.00           C  \nHETATM   27  C21 UNL     1       5.113  -0.300  -1.053  1.00  0.00           C  \nHETATM   28  H1  UNL     1      -8.898   0.677  -0.930  1.00  0.00           H  \nHETATM   29  H2  UNL     1      -7.956  -0.473  -1.884  1.00  0.00           H  \nHETATM   30  H3  UNL     1      -9.022  -1.097  -0.527  1.00  0.00           H  \nHETATM   31  H4  UNL     1      -6.021  -0.467  -2.390  1.00  0.00           H  \nHETATM   32  H5  UNL     1      -3.591  -0.515  -2.637  1.00  0.00           H  \nHETATM   33  H6  UNL     1      -1.503   0.359  -1.668  1.00  0.00           H  \nHETATM   34  H7  UNL     1      -1.898  -2.074  -1.640  1.00  0.00           H  \nHETATM   35  H8  UNL     1      -1.279   1.324   0.555  1.00  0.00           H  \nHETATM   36  H9  UNL     1      -0.938  -0.541   2.536  1.00  0.00           H  \nHETATM   37  H10 UNL     1      -1.670  -1.596   1.254  1.00  0.00           H  \nHETATM   38  H11 UNL     1      -5.429   0.016   1.865  1.00  0.00           H  \nHETATM   39  H12 UNL     1       1.337   1.761   1.314  1.00  0.00           H  \nHETATM   40  H13 UNL     1       0.710   0.528   2.457  1.00  0.00           H  \nHETATM   41  H14 UNL     1       2.448  -1.017   1.080  1.00  0.00           H  \nHETATM   42  H15 UNL     1       3.091   0.141   2.354  1.00  0.00           H  \nHETATM   43  H16 UNL     1       3.464   2.118   1.654  1.00  0.00           H  \nHETATM   44  H17 UNL     1       2.806   1.380  -1.705  1.00  0.00           H  \nHETATM   45  H18 UNL     1       2.598  -0.373  -1.453  1.00  0.00           H  \nHETATM   46  H19 UNL     1       0.791   1.951  -0.570  1.00  0.00           H  \nHETATM   47  H20 UNL     1       0.483   0.582  -1.751  1.00  0.00           H  \nHETATM   48  H21 UNL     1       5.075   0.433   2.225  1.00  0.00           H  \nHETATM   49  H22 UNL     1       7.271  -0.524   2.097  1.00  0.00           H  \nHETATM   50  H23 UNL     1       6.783  -1.226  -2.035  1.00  0.00           H  \nHETATM   51  H24 UNL     1       4.541  -0.252  -1.951  1.00  0.00           H  \nCONECT    1    2   28   29   30\nCONECT    2    3\nCONECT    3    4    4   13\nCONECT    4    5   31\nCONECT    5    6    6   32\nCONECT    6    7   12\nCONECT    7    8    9   33\nCONECT    8   34\nCONECT    9   10   14   35\nCONECT   10   11   36   37\nCONECT   11   12\nCONECT   12   13   13\nCONECT   13   38\nCONECT   14   15   20\nCONECT   15   16   39   40\nCONECT   16   17   41   42\nCONECT   17   18   19   21\nCONECT   18   43\nCONECT   19   20   44   45\nCONECT   20   46   47\nCONECT   21   22   22   27\nCONECT   22   23   48\nCONECT   23   24   24   49\nCONECT   24   25   26\nCONECT   26   27   27   50\nCONECT   27   51\nENDMDL\nMODEL        6\nHETATM    1  C1  UNL     1       8.183   0.968  -0.284  1.00  0.00           C  \nHETATM    2  O1  UNL     1       7.347   0.009   0.366  1.00  0.00           O  \nHETATM    3  C2  UNL     1       5.979   0.133   0.229  1.00  0.00           C  \nHETATM    4  C3  UNL     1       5.426   1.158  -0.531  1.00  0.00           C  \nHETATM    5  C4  UNL     1       4.069   1.270  -0.656  1.00  0.00           C  \nHETATM    6  C5  UNL     1       3.218   0.358  -0.024  1.00  0.00           C  \nHETATM    7  C6  UNL     1       1.768   0.544  -0.167  1.00  0.00           C  \nHETATM    8  O2  UNL     1       1.480   1.653   0.678  1.00  0.00           O  \nHETATM    9  C7  UNL     1       1.003  -0.661   0.182  1.00  0.00           C  \nHETATM   10  C8  UNL     1       1.549  -1.313   1.426  1.00  0.00           C  \nHETATM   11  O3  UNL     1       2.949  -1.531   1.331  1.00  0.00           O  \nHETATM   12  C9  UNL     1       3.779  -0.618   0.699  1.00  0.00           C  \nHETATM   13  C10 UNL     1       5.155  -0.786   0.865  1.00  0.00           C  \nHETATM   14  N1  UNL     1      -0.416  -0.499   0.391  1.00  0.00           N  \nHETATM   15  C11 UNL     1      -1.111  -1.623  -0.214  1.00  0.00           C  \nHETATM   16  C12 UNL     1      -2.572  -1.522   0.261  1.00  0.00           C  \nHETATM   17  C13 UNL     1      -3.160  -0.388  -0.537  1.00  0.00           C  \nHETATM   18  O4  UNL     1      -3.084  -0.784  -1.884  1.00  0.00           O  \nHETATM   19  C14 UNL     1      -2.378   0.846  -0.318  1.00  0.00           C  \nHETATM   20  C15 UNL     1      -0.936   0.763  -0.048  1.00  0.00           C  \nHETATM   21  C16 UNL     1      -4.576  -0.116  -0.170  1.00  0.00           C  \nHETATM   22  C17 UNL     1      -5.441   0.447  -1.082  1.00  0.00           C  \nHETATM   23  C18 UNL     1      -6.764   0.709  -0.753  1.00  0.00           C  \nHETATM   24  C19 UNL     1      -7.238   0.407   0.496  1.00  0.00           C  \nHETATM   25  F1  UNL     1      -8.530   0.657   0.833  1.00  0.00           F  \nHETATM   26  C20 UNL     1      -6.386  -0.157   1.421  1.00  0.00           C  \nHETATM   27  C21 UNL     1      -5.059  -0.411   1.069  1.00  0.00           C  \nHETATM   28  H1  UNL     1       8.072   0.851  -1.380  1.00  0.00           H  \nHETATM   29  H2  UNL     1       7.870   1.988  -0.012  1.00  0.00           H  \nHETATM   30  H3  UNL     1       9.229   0.743   0.008  1.00  0.00           H  \nHETATM   31  H4  UNL     1       6.101   1.856  -1.012  1.00  0.00           H  \nHETATM   32  H5  UNL     1       3.651   2.071  -1.245  1.00  0.00           H  \nHETATM   33  H6  UNL     1       1.622   0.869  -1.236  1.00  0.00           H  \nHETATM   34  H7  UNL     1       1.707   1.416   1.600  1.00  0.00           H  \nHETATM   35  H8  UNL     1       1.181  -1.409  -0.644  1.00  0.00           H  \nHETATM   36  H9  UNL     1       1.251  -0.701   2.291  1.00  0.00           H  \nHETATM   37  H10 UNL     1       1.006  -2.300   1.501  1.00  0.00           H  \nHETATM   38  H11 UNL     1       5.539  -1.594   1.460  1.00  0.00           H  \nHETATM   39  H12 UNL     1      -1.090  -1.634  -1.309  1.00  0.00           H  \nHETATM   40  H13 UNL     1      -0.711  -2.534   0.232  1.00  0.00           H  \nHETATM   41  H14 UNL     1      -2.522  -1.333   1.335  1.00  0.00           H  \nHETATM   42  H15 UNL     1      -3.099  -2.479   0.060  1.00  0.00           H  \nHETATM   43  H16 UNL     1      -3.712  -1.550  -2.021  1.00  0.00           H  \nHETATM   44  H17 UNL     1      -2.936   1.473   0.451  1.00  0.00           H  \nHETATM   45  H18 UNL     1      -2.528   1.477  -1.253  1.00  0.00           H  \nHETATM   46  H19 UNL     1      -0.365   1.176  -0.910  1.00  0.00           H  \nHETATM   47  H20 UNL     1      -0.744   1.487   0.807  1.00  0.00           H  \nHETATM   48  H21 UNL     1      -5.122   0.698  -2.071  1.00  0.00           H  \nHETATM   49  H22 UNL     1      -7.452   1.150  -1.465  1.00  0.00           H  \nHETATM   50  H23 UNL     1      -6.778  -0.385   2.398  1.00  0.00           H  \nHETATM   51  H24 UNL     1      -4.425  -0.847   1.809  1.00  0.00           H  \nCONECT    1    2   28   29   30\nCONECT    2    3\nCONECT    3    4    4   13\nCONECT    4    5   31\nCONECT    5    6    6   32\nCONECT    6    7   12\nCONECT    7    8    9   33\nCONECT    8   34\nCONECT    9   10   14   35\nCONECT   10   11   36   37\nCONECT   11   12\nCONECT   12   13   13\nCONECT   13   38\nCONECT   14   15   20\nCONECT   15   16   39   40\nCONECT   16   17   41   42\nCONECT   17   18   19   21\nCONECT   18   43\nCONECT   19   20   44   45\nCONECT   20   46   47\nCONECT   21   22   22   27\nCONECT   22   23   48\nCONECT   23   24   24   49\nCONECT   24   25   26\nCONECT   26   27   27   50\nCONECT   27   51\nENDMDL\nMODEL        7\nHETATM    1  C1  UNL     1       7.708   1.360   0.873  1.00  0.00           C  \nHETATM    2  O1  UNL     1       6.822   1.159  -0.194  1.00  0.00           O  \nHETATM    3  C2  UNL     1       5.577   0.583   0.013  1.00  0.00           C  \nHETATM    4  C3  UNL     1       5.136   0.182   1.250  1.00  0.00           C  \nHETATM    5  C4  UNL     1       3.875  -0.392   1.419  1.00  0.00           C  \nHETATM    6  C5  UNL     1       3.077  -0.549   0.309  1.00  0.00           C  \nHETATM    7  C6  UNL     1       1.744  -1.179   0.411  1.00  0.00           C  \nHETATM    8  O2  UNL     1       1.930  -2.519  -0.023  1.00  0.00           O  \nHETATM    9  C7  UNL     1       0.797  -0.448  -0.519  1.00  0.00           C  \nHETATM   10  C8  UNL     1       1.264  -0.493  -1.956  1.00  0.00           C  \nHETATM   11  O3  UNL     1       2.657  -0.337  -2.021  1.00  0.00           O  \nHETATM   12  C9  UNL     1       3.508  -0.153  -0.937  1.00  0.00           C  \nHETATM   13  C10 UNL     1       4.732   0.404  -1.092  1.00  0.00           C  \nHETATM   14  N1  UNL     1      -0.528  -1.005  -0.371  1.00  0.00           N  \nHETATM   15  C11 UNL     1      -1.481  -0.476  -1.329  1.00  0.00           C  \nHETATM   16  C12 UNL     1      -1.917   0.867  -0.811  1.00  0.00           C  \nHETATM   17  C13 UNL     1      -2.876   0.609   0.314  1.00  0.00           C  \nHETATM   18  O4  UNL     1      -2.911   1.774   1.122  1.00  0.00           O  \nHETATM   19  C14 UNL     1      -2.436  -0.577   1.104  1.00  0.00           C  \nHETATM   20  C15 UNL     1      -0.954  -0.844   0.980  1.00  0.00           C  \nHETATM   21  C16 UNL     1      -4.279   0.415  -0.120  1.00  0.00           C  \nHETATM   22  C17 UNL     1      -4.741   0.725  -1.373  1.00  0.00           C  \nHETATM   23  C18 UNL     1      -6.075   0.518  -1.701  1.00  0.00           C  \nHETATM   24  C19 UNL     1      -6.950   0.004  -0.781  1.00  0.00           C  \nHETATM   25  F1  UNL     1      -8.236  -0.180  -1.129  1.00  0.00           F  \nHETATM   26  C20 UNL     1      -6.474  -0.309   0.492  1.00  0.00           C  \nHETATM   27  C21 UNL     1      -5.148  -0.107   0.826  1.00  0.00           C  \nHETATM   28  H1  UNL     1       8.513   2.116   0.650  1.00  0.00           H  \nHETATM   29  H2  UNL     1       8.267   0.377   0.991  1.00  0.00           H  \nHETATM   30  H3  UNL     1       7.256   1.586   1.841  1.00  0.00           H  \nHETATM   31  H4  UNL     1       5.772   0.304   2.120  1.00  0.00           H  \nHETATM   32  H5  UNL     1       3.559  -0.697   2.419  1.00  0.00           H  \nHETATM   33  H6  UNL     1       1.324  -1.161   1.446  1.00  0.00           H  \nHETATM   34  H7  UNL     1       1.721  -2.609  -0.987  1.00  0.00           H  \nHETATM   35  H8  UNL     1       0.801   0.613  -0.220  1.00  0.00           H  \nHETATM   36  H9  UNL     1       0.940  -1.429  -2.467  1.00  0.00           H  \nHETATM   37  H10 UNL     1       0.844   0.429  -2.445  1.00  0.00           H  \nHETATM   38  H11 UNL     1       5.070   0.710  -2.069  1.00  0.00           H  \nHETATM   39  H12 UNL     1      -0.984  -0.390  -2.304  1.00  0.00           H  \nHETATM   40  H13 UNL     1      -2.309  -1.235  -1.372  1.00  0.00           H  \nHETATM   41  H14 UNL     1      -2.250   1.581  -1.550  1.00  0.00           H  \nHETATM   42  H15 UNL     1      -1.003   1.337  -0.319  1.00  0.00           H  \nHETATM   43  H16 UNL     1      -2.106   2.335   0.917  1.00  0.00           H  \nHETATM   44  H17 UNL     1      -3.040  -1.499   0.915  1.00  0.00           H  \nHETATM   45  H18 UNL     1      -2.624  -0.353   2.195  1.00  0.00           H  \nHETATM   46  H19 UNL     1      -0.387  -0.068   1.533  1.00  0.00           H  \nHETATM   47  H20 UNL     1      -0.778  -1.821   1.517  1.00  0.00           H  \nHETATM   48  H21 UNL     1      -4.074   1.124  -2.098  1.00  0.00           H  \nHETATM   49  H22 UNL     1      -6.382   0.780  -2.684  1.00  0.00           H  \nHETATM   50  H23 UNL     1      -7.166  -0.705   1.201  1.00  0.00           H  \nHETATM   51  H24 UNL     1      -4.786  -0.359   1.837  1.00  0.00           H  \nCONECT    1    2   28   29   30\nCONECT    2    3\nCONECT    3    4    4   13\nCONECT    4    5   31\nCONECT    5    6    6   32\nCONECT    6    7   12\nCONECT    7    8    9   33\nCONECT    8   34\nCONECT    9   10   14   35\nCONECT   10   11   36   37\nCONECT   11   12\nCONECT   12   13   13\nCONECT   13   38\nCONECT   14   15   20\nCONECT   15   16   39   40\nCONECT   16   17   41   42\nCONECT   17   18   19   21\nCONECT   18   43\nCONECT   19   20   44   45\nCONECT   20   46   47\nCONECT   21   22   22   27\nCONECT   22   23   48\nCONECT   23   24   24   49\nCONECT   24   25   26\nCONECT   26   27   27   50\nCONECT   27   51\nENDMDL\nMODEL        8\nHETATM    1  C1  UNL     1       7.012  -1.928  -1.264  1.00  0.00           C  \nHETATM    2  O1  UNL     1       6.315  -2.014  -0.042  1.00  0.00           O  \nHETATM    3  C2  UNL     1       5.222  -1.199   0.162  1.00  0.00           C  \nHETATM    4  C3  UNL     1       4.536  -1.266   1.355  1.00  0.00           C  \nHETATM    5  C4  UNL     1       3.435  -0.465   1.613  1.00  0.00           C  \nHETATM    6  C5  UNL     1       3.008   0.419   0.661  1.00  0.00           C  \nHETATM    7  C6  UNL     1       1.912   1.379   0.866  1.00  0.00           C  \nHETATM    8  O2  UNL     1       1.168   1.165   1.999  1.00  0.00           O  \nHETATM    9  C7  UNL     1       1.062   1.655  -0.323  1.00  0.00           C  \nHETATM   10  C8  UNL     1       1.773   1.512  -1.641  1.00  0.00           C  \nHETATM   11  O3  UNL     1       3.189   1.407  -1.458  1.00  0.00           O  \nHETATM   12  C9  UNL     1       3.701   0.486  -0.550  1.00  0.00           C  \nHETATM   13  C10 UNL     1       4.798  -0.308  -0.807  1.00  0.00           C  \nHETATM   14  N1  UNL     1      -0.208   1.041  -0.229  1.00  0.00           N  \nHETATM   15  C11 UNL     1      -0.353  -0.351  -0.260  1.00  0.00           C  \nHETATM   16  C12 UNL     1      -1.793  -0.789  -0.552  1.00  0.00           C  \nHETATM   17  C13 UNL     1      -2.761  -0.034   0.304  1.00  0.00           C  \nHETATM   18  O4  UNL     1      -2.533  -0.358   1.666  1.00  0.00           O  \nHETATM   19  C14 UNL     1      -2.537   1.460   0.204  1.00  0.00           C  \nHETATM   20  C15 UNL     1      -1.112   1.730   0.654  1.00  0.00           C  \nHETATM   21  C16 UNL     1      -4.153  -0.334  -0.022  1.00  0.00           C  \nHETATM   22  C17 UNL     1      -4.617  -1.645  -0.068  1.00  0.00           C  \nHETATM   23  C18 UNL     1      -5.943  -1.917  -0.375  1.00  0.00           C  \nHETATM   24  C19 UNL     1      -6.855  -0.909  -0.643  1.00  0.00           C  \nHETATM   25  F1  UNL     1      -8.159  -1.185  -0.939  1.00  0.00           F  \nHETATM   26  C20 UNL     1      -6.410   0.383  -0.600  1.00  0.00           C  \nHETATM   27  C21 UNL     1      -5.075   0.657  -0.294  1.00  0.00           C  \nHETATM   28  H1  UNL     1       7.896  -2.603  -1.300  1.00  0.00           H  \nHETATM   29  H2  UNL     1       6.285  -2.099  -2.078  1.00  0.00           H  \nHETATM   30  H3  UNL     1       7.463  -0.900  -1.409  1.00  0.00           H  \nHETATM   31  H4  UNL     1       4.866  -1.965   2.103  1.00  0.00           H  \nHETATM   32  H5  UNL     1       2.914  -0.532   2.564  1.00  0.00           H  \nHETATM   33  H6  UNL     1       2.430   2.421   1.088  1.00  0.00           H  \nHETATM   34  H7  UNL     1       1.156   0.258   2.303  1.00  0.00           H  \nHETATM   35  H8  UNL     1       0.814   2.780  -0.283  1.00  0.00           H  \nHETATM   36  H9  UNL     1       1.464   0.621  -2.219  1.00  0.00           H  \nHETATM   37  H10 UNL     1       1.636   2.375  -2.322  1.00  0.00           H  \nHETATM   38  H11 UNL     1       5.316  -0.233  -1.773  1.00  0.00           H  \nHETATM   39  H12 UNL     1      -0.114  -0.811   0.708  1.00  0.00           H  \nHETATM   40  H13 UNL     1       0.267  -0.832  -1.015  1.00  0.00           H  \nHETATM   41  H14 UNL     1      -2.054  -0.694  -1.616  1.00  0.00           H  \nHETATM   42  H15 UNL     1      -1.878  -1.872  -0.279  1.00  0.00           H  \nHETATM   43  H16 UNL     1      -3.213   0.137   2.185  1.00  0.00           H  \nHETATM   44  H17 UNL     1      -2.655   1.836  -0.810  1.00  0.00           H  \nHETATM   45  H18 UNL     1      -3.215   1.951   0.959  1.00  0.00           H  \nHETATM   46  H19 UNL     1      -0.852   2.785   0.675  1.00  0.00           H  \nHETATM   47  H20 UNL     1      -1.066   1.275   1.690  1.00  0.00           H  \nHETATM   48  H21 UNL     1      -3.927  -2.459   0.137  1.00  0.00           H  \nHETATM   49  H22 UNL     1      -6.331  -2.920  -0.423  1.00  0.00           H  \nHETATM   50  H23 UNL     1      -7.081   1.202  -0.801  1.00  0.00           H  \nHETATM   51  H24 UNL     1      -4.742   1.688  -0.264  1.00  0.00           H  \nCONECT    1    2   28   29   30\nCONECT    2    3\nCONECT    3    4    4   13\nCONECT    4    5   31\nCONECT    5    6    6   32\nCONECT    6    7   12\nCONECT    7    8    9   33\nCONECT    8   34\nCONECT    9   10   14   35\nCONECT   10   11   36   37\nCONECT   11   12\nCONECT   12   13   13\nCONECT   13   38\nCONECT   14   15   20\nCONECT   15   16   39   40\nCONECT   16   17   41   42\nCONECT   17   18   19   21\nCONECT   18   43\nCONECT   19   20   44   45\nCONECT   20   46   47\nCONECT   21   22   22   27\nCONECT   22   23   48\nCONECT   23   24   24   49\nCONECT   24   25   26\nCONECT   26   27   27   50\nCONECT   27   51\nENDMDL\nMODEL        9\nHETATM    1  C1  UNL     1       8.292   0.347  -0.103  1.00  0.00           C  \nHETATM    2  O1  UNL     1       7.286  -0.531   0.346  1.00  0.00           O  \nHETATM    3  C2  UNL     1       5.950  -0.343   0.080  1.00  0.00           C  \nHETATM    4  C3  UNL     1       5.542   0.747  -0.660  1.00  0.00           C  \nHETATM    5  C4  UNL     1       4.207   0.940  -0.936  1.00  0.00           C  \nHETATM    6  C5  UNL     1       3.251   0.039  -0.474  1.00  0.00           C  \nHETATM    7  C6  UNL     1       1.826   0.227  -0.809  1.00  0.00           C  \nHETATM    8  O2  UNL     1       1.527   1.597  -0.642  1.00  0.00           O  \nHETATM    9  C7  UNL     1       0.868  -0.677  -0.078  1.00  0.00           C  \nHETATM   10  C8  UNL     1       1.459  -1.382   1.109  1.00  0.00           C  \nHETATM   11  O3  UNL     1       2.708  -1.922   0.715  1.00  0.00           O  \nHETATM   12  C9  UNL     1       3.679  -1.035   0.260  1.00  0.00           C  \nHETATM   13  C10 UNL     1       5.034  -1.242   0.549  1.00  0.00           C  \nHETATM   14  N1  UNL     1      -0.325   0.028   0.132  1.00  0.00           N  \nHETATM   15  C11 UNL     1      -1.014  -0.069   1.347  1.00  0.00           C  \nHETATM   16  C12 UNL     1      -2.450  -0.571   1.211  1.00  0.00           C  \nHETATM   17  C13 UNL     1      -3.133   0.356   0.244  1.00  0.00           C  \nHETATM   18  O4  UNL     1      -2.838   1.666   0.694  1.00  0.00           O  \nHETATM   19  C14 UNL     1      -2.454   0.126  -1.101  1.00  0.00           C  \nHETATM   20  C15 UNL     1      -0.985   0.460  -1.023  1.00  0.00           C  \nHETATM   21  C16 UNL     1      -4.573   0.192   0.142  1.00  0.00           C  \nHETATM   22  C17 UNL     1      -5.287   0.835  -0.836  1.00  0.00           C  \nHETATM   23  C18 UNL     1      -6.660   0.709  -0.950  1.00  0.00           C  \nHETATM   24  C19 UNL     1      -7.336  -0.074  -0.069  1.00  0.00           C  \nHETATM   25  F1  UNL     1      -8.702  -0.225  -0.159  1.00  0.00           F  \nHETATM   26  C20 UNL     1      -6.667  -0.726   0.915  1.00  0.00           C  \nHETATM   27  C21 UNL     1      -5.301  -0.604   1.030  1.00  0.00           C  \nHETATM   28  H1  UNL     1       8.071   0.661  -1.158  1.00  0.00           H  \nHETATM   29  H2  UNL     1       8.314   1.241   0.525  1.00  0.00           H  \nHETATM   30  H3  UNL     1       9.284  -0.157  -0.177  1.00  0.00           H  \nHETATM   31  H4  UNL     1       6.253   1.492  -1.051  1.00  0.00           H  \nHETATM   32  H5  UNL     1       3.823   1.782  -1.512  1.00  0.00           H  \nHETATM   33  H6  UNL     1       1.744   0.072  -1.929  1.00  0.00           H  \nHETATM   34  H7  UNL     1       1.533   2.084  -1.507  1.00  0.00           H  \nHETATM   35  H8  UNL     1       0.618  -1.514  -0.806  1.00  0.00           H  \nHETATM   36  H9  UNL     1       0.801  -2.245   1.329  1.00  0.00           H  \nHETATM   37  H10 UNL     1       1.650  -0.726   1.984  1.00  0.00           H  \nHETATM   38  H11 UNL     1       5.326  -2.082   1.124  1.00  0.00           H  \nHETATM   39  H12 UNL     1      -0.524  -0.731   2.076  1.00  0.00           H  \nHETATM   40  H13 UNL     1      -1.098   0.941   1.812  1.00  0.00           H  \nHETATM   41  H14 UNL     1      -2.445  -1.613   0.848  1.00  0.00           H  \nHETATM   42  H15 UNL     1      -2.872  -0.574   2.227  1.00  0.00           H  \nHETATM   43  H16 UNL     1      -3.414   1.760   1.519  1.00  0.00           H  \nHETATM   44  H17 UNL     1      -2.627  -0.915  -1.391  1.00  0.00           H  \nHETATM   45  H18 UNL     1      -2.889   0.762  -1.902  1.00  0.00           H  \nHETATM   46  H19 UNL     1      -0.882   1.538  -1.190  1.00  0.00           H  \nHETATM   47  H20 UNL     1      -0.515  -0.023  -1.908  1.00  0.00           H  \nHETATM   48  H21 UNL     1      -4.819   1.473  -1.578  1.00  0.00           H  \nHETATM   49  H22 UNL     1      -7.235   1.212  -1.718  1.00  0.00           H  \nHETATM   50  H23 UNL     1      -7.197  -1.355   1.626  1.00  0.00           H  \nHETATM   51  H24 UNL     1      -4.803  -1.133   1.824  1.00  0.00           H  \nCONECT    1    2   28   29   30\nCONECT    2    3\nCONECT    3    4    4   13\nCONECT    4    5   31\nCONECT    5    6    6   32\nCONECT    6    7   12\nCONECT    7    8    9   33\nCONECT    8   34\nCONECT    9   10   14   35\nCONECT   10   11   36   37\nCONECT   11   12\nCONECT   12   13   13\nCONECT   13   38\nCONECT   14   15   20\nCONECT   15   16   39   40\nCONECT   16   17   41   42\nCONECT   17   18   19   21\nCONECT   18   43\nCONECT   19   20   44   45\nCONECT   20   46   47\nCONECT   21   22   22   27\nCONECT   22   23   48\nCONECT   23   24   24   49\nCONECT   24   25   26\nCONECT   26   27   27   50\nCONECT   27   51\nENDMDL\nMODEL       10\nHETATM    1  C1  UNL     1       7.480   1.062   1.263  1.00  0.00           C  \nHETATM    2  O1  UNL     1       6.759  -0.167   1.177  1.00  0.00           O  \nHETATM    3  C2  UNL     1       5.552  -0.148   0.499  1.00  0.00           C  \nHETATM    4  C3  UNL     1       5.025   0.993  -0.087  1.00  0.00           C  \nHETATM    5  C4  UNL     1       3.830   0.991  -0.754  1.00  0.00           C  \nHETATM    6  C5  UNL     1       3.124  -0.196  -0.846  1.00  0.00           C  \nHETATM    7  C6  UNL     1       1.844  -0.275  -1.586  1.00  0.00           C  \nHETATM    8  O2  UNL     1       1.377   1.030  -1.739  1.00  0.00           O  \nHETATM    9  C7  UNL     1       0.878  -1.209  -0.935  1.00  0.00           C  \nHETATM   10  C8  UNL     1       1.469  -2.352  -0.223  1.00  0.00           C  \nHETATM   11  O3  UNL     1       2.873  -2.486  -0.397  1.00  0.00           O  \nHETATM   12  C9  UNL     1       3.637  -1.331  -0.268  1.00  0.00           C  \nHETATM   13  C10 UNL     1       4.855  -1.333   0.412  1.00  0.00           C  \nHETATM   14  N1  UNL     1      -0.131  -0.451  -0.246  1.00  0.00           N  \nHETATM   15  C11 UNL     1      -0.860   0.301  -1.258  1.00  0.00           C  \nHETATM   16  C12 UNL     1      -2.375   0.020  -1.189  1.00  0.00           C  \nHETATM   17  C13 UNL     1      -2.798   0.497   0.158  1.00  0.00           C  \nHETATM   18  O4  UNL     1      -2.307   1.789   0.347  1.00  0.00           O  \nHETATM   19  C14 UNL     1      -2.091  -0.376   1.170  1.00  0.00           C  \nHETATM   20  C15 UNL     1      -1.013  -1.245   0.556  1.00  0.00           C  \nHETATM   21  C16 UNL     1      -4.258   0.559   0.359  1.00  0.00           C  \nHETATM   22  C17 UNL     1      -5.111   0.846  -0.679  1.00  0.00           C  \nHETATM   23  C18 UNL     1      -6.498   0.905  -0.475  1.00  0.00           C  \nHETATM   24  C19 UNL     1      -7.038   0.676   0.770  1.00  0.00           C  \nHETATM   25  F1  UNL     1      -8.394   0.732   0.983  1.00  0.00           F  \nHETATM   26  C20 UNL     1      -6.184   0.389   1.812  1.00  0.00           C  \nHETATM   27  C21 UNL     1      -4.819   0.334   1.599  1.00  0.00           C  \nHETATM   28  H1  UNL     1       6.792   1.805   1.717  1.00  0.00           H  \nHETATM   29  H2  UNL     1       8.365   0.974   1.912  1.00  0.00           H  \nHETATM   30  H3  UNL     1       7.689   1.410   0.240  1.00  0.00           H  \nHETATM   31  H4  UNL     1       5.627   1.905   0.017  1.00  0.00           H  \nHETATM   32  H5  UNL     1       3.419   1.873  -1.208  1.00  0.00           H  \nHETATM   33  H6  UNL     1       2.054  -0.627  -2.647  1.00  0.00           H  \nHETATM   34  H7  UNL     1       1.865   1.459  -2.465  1.00  0.00           H  \nHETATM   35  H8  UNL     1       0.296  -1.669  -1.818  1.00  0.00           H  \nHETATM   36  H9  UNL     1       1.064  -3.352  -0.575  1.00  0.00           H  \nHETATM   37  H10 UNL     1       1.303  -2.389   0.874  1.00  0.00           H  \nHETATM   38  H11 UNL     1       5.214  -2.244   0.842  1.00  0.00           H  \nHETATM   39  H12 UNL     1      -0.802   1.409  -1.090  1.00  0.00           H  \nHETATM   40  H13 UNL     1      -0.602   0.006  -2.295  1.00  0.00           H  \nHETATM   41  H14 UNL     1      -2.558  -1.045  -1.385  1.00  0.00           H  \nHETATM   42  H15 UNL     1      -2.801   0.693  -1.957  1.00  0.00           H  \nHETATM   43  H16 UNL     1      -2.633   2.422  -0.335  1.00  0.00           H  \nHETATM   44  H17 UNL     1      -2.807  -1.104   1.643  1.00  0.00           H  \nHETATM   45  H18 UNL     1      -1.642   0.196   2.005  1.00  0.00           H  \nHETATM   46  H19 UNL     1      -1.445  -2.109   0.003  1.00  0.00           H  \nHETATM   47  H20 UNL     1      -0.474  -1.644   1.447  1.00  0.00           H  \nHETATM   48  H21 UNL     1      -4.752   1.032  -1.664  1.00  0.00           H  \nHETATM   49  H22 UNL     1      -7.179   1.128  -1.276  1.00  0.00           H  \nHETATM   50  H23 UNL     1      -6.626   0.207   2.803  1.00  0.00           H  \nHETATM   51  H24 UNL     1      -4.190   0.104   2.467  1.00  0.00           H  \nCONECT    1    2   28   29   30\nCONECT    2    3\nCONECT    3    4    4   13\nCONECT    4    5   31\nCONECT    5    6    6   32\nCONECT    6    7   12\nCONECT    7    8    9   33\nCONECT    8   34\nCONECT    9   10   14   35\nCONECT   10   11   36   37\nCONECT   11   12\nCONECT   12   13   13\nCONECT   13   38\nCONECT   14   15   20\nCONECT   15   16   39   40\nCONECT   16   17   41   42\nCONECT   17   18   19   21\nCONECT   18   43\nCONECT   19   20   44   45\nCONECT   20   46   47\nCONECT   21   22   22   27\nCONECT   22   23   48\nCONECT   23   24   24   49\nCONECT   24   25   26\nCONECT   26   27   27   50\nCONECT   27   51\nENDMDL\nEND\n",
          "type": "blob"
         }
        ],
        "kwargs": {
         "defaultRepresentation": true,
         "ext": "pdb"
        },
        "methodName": "loadFile",
        "reconstruc_color_scheme": false,
        "target": "Stage",
        "type": "call_method"
       }
      ],
      "_ngl_original_stage_parameters": {},
      "_ngl_repr_dict": {},
      "_ngl_serialize": false,
      "_ngl_version": "",
      "_ngl_view_id": [],
      "_player_dict": {},
      "_scene_position": {},
      "_scene_rotation": {},
      "_synced_model_ids": [],
      "_synced_repr_model_ids": [],
      "_view_count": null,
      "_view_height": "",
      "_view_module": "nglview-js-widgets",
      "_view_module_version": "3.0.1",
      "_view_name": "NGLView",
      "_view_width": "",
      "background": "white",
      "frame": 0,
      "gui_style": null,
      "layout": "IPY_MODEL_03a768507ba04d9f9ad986d8b2f2f266",
      "max_frame": 0,
      "n_components": 0,
      "picked": {}
     }
    },
    "adaa4fd0227a4771a0dd6aa16735fdc7": {
     "model_module": "@jupyter-widgets/base",
     "model_module_version": "1.2.0",
     "model_name": "LayoutModel",
     "state": {
      "_model_module": "@jupyter-widgets/base",
      "_model_module_version": "1.2.0",
      "_model_name": "LayoutModel",
      "_view_count": null,
      "_view_module": "@jupyter-widgets/base",
      "_view_module_version": "1.2.0",
      "_view_name": "LayoutView",
      "align_content": null,
      "align_items": null,
      "align_self": null,
      "border": null,
      "bottom": null,
      "display": null,
      "flex": null,
      "flex_flow": null,
      "grid_area": null,
      "grid_auto_columns": null,
      "grid_auto_flow": null,
      "grid_auto_rows": null,
      "grid_column": null,
      "grid_gap": null,
      "grid_row": null,
      "grid_template_areas": null,
      "grid_template_columns": null,
      "grid_template_rows": null,
      "height": null,
      "justify_content": null,
      "justify_items": null,
      "left": null,
      "margin": null,
      "max_height": null,
      "max_width": null,
      "min_height": null,
      "min_width": null,
      "object_fit": null,
      "object_position": null,
      "order": null,
      "overflow": null,
      "overflow_x": null,
      "overflow_y": null,
      "padding": null,
      "right": null,
      "top": null,
      "visibility": null,
      "width": null
     }
    },
    "b74f4520044d4e6097a9b3d0a4928607": {
     "model_module": "@jupyter-widgets/base",
     "model_module_version": "1.2.0",
     "model_name": "LayoutModel",
     "state": {
      "_model_module": "@jupyter-widgets/base",
      "_model_module_version": "1.2.0",
      "_model_name": "LayoutModel",
      "_view_count": null,
      "_view_module": "@jupyter-widgets/base",
      "_view_module_version": "1.2.0",
      "_view_name": "LayoutView",
      "align_content": null,
      "align_items": null,
      "align_self": null,
      "border": null,
      "bottom": null,
      "display": null,
      "flex": null,
      "flex_flow": null,
      "grid_area": null,
      "grid_auto_columns": null,
      "grid_auto_flow": null,
      "grid_auto_rows": null,
      "grid_column": null,
      "grid_gap": null,
      "grid_row": null,
      "grid_template_areas": null,
      "grid_template_columns": null,
      "grid_template_rows": null,
      "height": null,
      "justify_content": null,
      "justify_items": null,
      "left": null,
      "margin": null,
      "max_height": null,
      "max_width": null,
      "min_height": null,
      "min_width": null,
      "object_fit": null,
      "object_position": null,
      "order": null,
      "overflow": null,
      "overflow_x": null,
      "overflow_y": null,
      "padding": null,
      "right": null,
      "top": null,
      "visibility": null,
      "width": null
     }
    },
    "bd51e0e506fd4b95a54469a380f04af5": {
     "model_module": "@jupyter-widgets/controls",
     "model_module_version": "1.5.0",
     "model_name": "IntSliderModel",
     "state": {
      "_dom_classes": [],
      "_model_module": "@jupyter-widgets/controls",
      "_model_module_version": "1.5.0",
      "_model_name": "IntSliderModel",
      "_view_count": null,
      "_view_module": "@jupyter-widgets/controls",
      "_view_module_version": "1.5.0",
      "_view_name": "IntSliderView",
      "continuous_update": true,
      "description": "",
      "description_tooltip": null,
      "disabled": false,
      "layout": "IPY_MODEL_adaa4fd0227a4771a0dd6aa16735fdc7",
      "max": 0,
      "min": 0,
      "orientation": "horizontal",
      "readout": true,
      "readout_format": "d",
      "step": 1,
      "style": "IPY_MODEL_644e42602bb24388884fdf7ae60d9abc",
      "value": 0
     }
    }
   }
  }
 },
 "nbformat": 4,
 "nbformat_minor": 4
}
