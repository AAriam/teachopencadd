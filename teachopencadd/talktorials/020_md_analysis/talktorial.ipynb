{
 "cells": [
  {
   "cell_type": "markdown",
   "metadata": {},
   "source": [
    "# Analyzing molecular dynamics simulations\n",
    "\n",
    "Authors:\n",
    "- Mareike Leja, 2020/21, Internship at [Volkamer Lab, Charité](https://volkamerlab.org/)\n",
    "- David Schaller, 2020/21, [Volkamer Lab, Charité](https://volkamerlab.org/)\n",
    "- Andrea Volkamer, 2021, [Volkamer Lab, Charité](https://volkamerlab.org/)"
   ]
  },
  {
   "cell_type": "markdown",
   "metadata": {},
   "source": [
    "## Aim of this talktorial\n",
    "\n",
    "In this talktorial, we will introduce methods for the analysis of molecular dynamics (MD) simulations. The introduced methods include animated visualization, structural alignment, RMSD calculation as well as selected atom distances and hydrogen bond analysis. \n",
    "Note, we will work with the simulation results (1ns, 100 frames) generated with talktorial T019 **(!note, add proper reference!)** on the EGFR kinase ([PDB:3POZ](https://www.rcsb.org/structure/3poz)) bound to inhibitor 03P. "
   ]
  },
  {
   "cell_type": "markdown",
   "metadata": {},
   "source": [
    "### Contents in *Theory*\n",
    "\n",
    "- MD simulations\n",
    "    - Application in the drug discovery process\n",
    "    - Flexible vs. static structures\n",
    "- Analyzing MD simulations\n",
    "  - Visualization\n",
    "  - RMSD\n",
    "  - Hydrogen bond analysis"
   ]
  },
  {
   "cell_type": "markdown",
   "metadata": {},
   "source": [
    "### Contents in *Practical*\n",
    "\n",
    "- Load and visualize the system\n",
    "- Alignment\n",
    "- RMSD of protein and ligand\n",
    "  - RMSD over time\n",
    "  - RMSD between frames\n",
    "- Interaction analysis\n",
    "  - Atomic distances\n",
    "  - Hydrogen bond analysis"
   ]
  },
  {
   "cell_type": "markdown",
   "metadata": {},
   "source": [
    "### References\n",
    "\n",
    "Theoretical Background:\n",
    "\n",
    "- Review on the impact of MD simulations in drug discovery ([_J Med Chem_ (2016), **59**(9), 4035‐4061](https://doi.org/10.1021/acs.jmedchem.5b01684))\n",
    "- Review on force fields ([_J Chem Inf Model_ (2018), **58**(3), 565-578](https://doi.org/10.1021/acs.jcim.8b00042))\n",
    "- Review on hydrogen bonding ([_PLoS One._ (2010), **5(8)**, e12029](https://doi.org/10.1371%2Fjournal.pone.0012029))\n",
    "- Guide to molecular interactions ([_J. Med. Chem._ 2010, **53(14)**, 5061-84](https://doi.org/10.1021/jm100112j))\n",
    "- Wikipedia Article about [root-mean-square deviation](https://en.wikipedia.org/wiki/Root-mean-square_deviation)\n",
    "- Repositories of [MDAnalysis](https://www.mdanalysis.org/) and [NGL View](https://github.com/arose/nglview)"
   ]
  },
  {
   "cell_type": "markdown",
   "metadata": {},
   "source": [
    "## Theory"
   ]
  },
  {
   "cell_type": "markdown",
   "metadata": {},
   "source": [
    "### MD simulations"
   ]
  },
  {
   "cell_type": "markdown",
   "metadata": {},
   "source": [
    "### Application in the drug discovery process\n",
    "\n",
    "Over the past decades, the interest in structure-based drug design has been growing. The development of faster algorithms and architectures employing GPUs paved the way for molecular dynamics (MD) simulations to become a routinely applied computational tool in the drug discovery process. One of the main assets of MD simulations is the more accurate estimation of the drug-target recognition and binding process. Nowadays, a diverse array of computational methods builds on top of MD simulations and provides tools for many challenges encountered during the process of designing, selecting and optimizing new drug candidates ([_J Med Chem._ 2016, **59(9)**, 4035-61](https://doi.org/10.1021/acs.jmedchem.5b01684)).\n",
    "\n",
    "For more details on how to perform an MD simulation of a protein-ligand complex, please also refer to talktorial **T019**."
   ]
  },
  {
   "cell_type": "markdown",
   "metadata": {},
   "source": [
    "### Flexible vs. static structures\n",
    "\n",
    "Static models of protein-ligand complexes, like X-ray structures, allow for evaluating the binding mode of a lead candidate, which can be used to systematically suggest the synthesis of novel analogs to improve affinity and physiochemical properties. However, static structures cannot explain all phenomena of drug-target binding, since the numerous interactions observed between ligand, target and surroundings (e.g. solvent and/or membrane) cannot be described solely by the enthalpy of the current equilibrium state of the system. \n",
    "\n",
    "In contrast, forcefield-based MD simulations  account for the structural flexibility of protein and ligand as well as for entropic contributions of drug binding. Thus, they allow for a more accurate estimation of binding affinity, the detection of conformational changes, the analysis of interaction geometries over time, and more ([_J Med Chem._ 2016, **59(9)**, 4035-61](https://doi.org/10.1021/acs.jmedchem.5b01684))."
   ]
  },
  {
   "cell_type": "markdown",
   "metadata": {},
   "source": [
    "### Analyzing MD simulations\n",
    "\n",
    "Since this talktorial is meant as an introduction to MD simulation analysis, we will perform basic analysis steps that give a first insight into the field. \n",
    "\n",
    "The results of a standard MD simulation are commonly saved in two file types. \n",
    "* *Topology of the system*, which informs about the simulated system, i.e. a defined set of atoms connected via bonds. \n",
    "* *Positions of the atoms* over time\n",
    "\n",
    "Loading both file types into a molecular visualization tool can be used to create an instance of the simulated system. In the below used MD analysis library (`MDAnalysis`), this system is called a *universe*."
   ]
  },
  {
   "cell_type": "markdown",
   "metadata": {},
   "source": [
    "#### Visualization\n",
    "\n",
    "A universe containing an MD simulation can be visualized as a whole, usually including animations. They allow for observation of conformational changes, fluctuations and binding/unbinding processes with the bare eye. \n",
    "\n",
    "![Model](images/model.gif)\n",
    "\n",
    "Fig. 1: Visualization of an exemplary MD simulation of adenylate kinase (AdK), taken from [NGL View Example](https://github.com/arose/nglview/blob/master/examples/mdanalysis.md)."
   ]
  },
  {
   "cell_type": "markdown",
   "metadata": {},
   "source": [
    "#### RMSD\n",
    "\n",
    "A more suffisticated method to track conformational changes is the calculation of the root-mean-square deviation (RMSD, [wikipedia](https://en.wikipedia.org/wiki/Root-mean-square_deviation_of_atomic_positions)). This method measures the deviation of atom positions compared to a reference set of atom positions. RMSD plots can be employed to depict the relative movement of whole proteins or their domains during folding or drug binding. Also, RMSD calculations can be used to compare computed docking configurations to known (i.e. crystallographic) binding poses to validate the docking protocol **(!note: need to add a proper reference to the docking talktorial!)**.\n",
    "\n",
    "For two, usually superimposed, sets of atom coordinates v and w with n elements, the RMSD is defined as follows:\n",
    "\n",
    "$$RMSD(v,w) = \\frac{1}{n} \\sum_{i=1}^n \\|v_i - w_i\\|²$$\n",
    "\n",
    "To differentiate flexible and stable portions of a protein in simulations, one can use the root-mean-square fluctuation (RMSF) calculation instead, which allows for visualization of the fluctuation of residues from their mean structure."
   ]
  },
  {
   "cell_type": "markdown",
   "metadata": {},
   "source": [
    "#### Hydrogen bond analysis\n",
    "\n",
    "Non-covalent interations like hydrogen bonds are key-players in the formation of a ligand-protein complex ([_PLoS One._ (2010), **5(8)**, e12029](https://doi.org/10.1371%2Fjournal.pone.0012029), [_J. Med. Chem._ 2010, **53(14)**, 5061-84](https://doi.org/10.1021/jm100112j)). Their attractive potential results from a partially positively charged hydrogen pointing to a partially negatively charged hydrogen bond acceptor atom, e.g. oxygen or nitrogen. The analysis of hydrogen bonds can give valuable insights into the stability of a ligand-protein complex and guide modification of a lead molecule to improve its activity. The strength of a hydrogen bond can be estimated by analyzing angles and distances between donor, hydrogen and acceptor atoms. A small distance and an angle close to 180° indicate a strong bond, while bigger distances and smaller angles point towards a weaker bond (Fig 2).\n",
    "\n",
    "![H-Bonds](images/CADD_Hbonds.png)  \n",
    "Fig. 2: Hydrogen Bond examples between a donor (red) and acceptor (blue) oxygen atom showing different bond angles and distances (arrows), created by *Mareike Leja, CADD Seminar 2020*\n",
    "\n",
    "For computational analysis, geometric thresholds are often employed to determine which interactions can be considered a hydrogen bond: The distance between acceptor and hydrogen has to be less than or equal to a distance threshold and the angle between donor, hydrogen and acceptor needs to be greater than or equal to an angle threshold. For example, the Python Package __[MDAnalysis](https://www.mdanalysis.org/docs/documentation_pages/analysis/hbond_analysis.html)__, which we will use for analysis, sets the default maximum distance at 3 Å and the minimum angle at 120°."
   ]
  },
  {
   "cell_type": "markdown",
   "metadata": {},
   "source": [
    "## Practical\n",
    "\n",
    "In the following, we will load an MD simulation and analyze the ligand and the protein over time. \n",
    "\n",
    "The MD simulation we analyze is a simulation performed in talktorial **T019**, which simulates the Epidermal Growth Factor Receptor (EGFR) kinase ([PDB:3POZ](https://www.rcsb.org/structure/3poz)) in complex with the inhibitor [03P](https://www.rcsb.org/ligand/03P). In total, the system was simulated for 100 ps and 100 shapshots (frames) were saved (files available here within the `data` folder for convenience). \n",
    "\n",
    "We will visualize the simulation and then perform a RMSD calculation and a (hydrogen) bond analysis. "
   ]
  },
  {
   "cell_type": "code",
   "execution_count": 1,
   "metadata": {},
   "outputs": [
    {
     "data": {
      "application/vnd.jupyter.widget-view+json": {
       "model_id": "930fa7147421416bbfe264217419d05c",
       "version_major": 2,
       "version_minor": 0
      },
      "text/plain": []
     },
     "metadata": {},
     "output_type": "display_data"
    }
   ],
   "source": [
    "from pathlib import Path\n",
    "import pandas as pd\n",
    "import numpy as np\n",
    "import matplotlib.pyplot as plt\n",
    "import nglview as nv\n",
    "import MDAnalysis as mda\n",
    "from MDAnalysis.analysis import rms, diffusionmap, align\n",
    "from MDAnalysis.analysis.distances import dist\n",
    "from MDAnalysis.analysis.hydrogenbonds.hbond_analysis import HydrogenBondAnalysis as HBA"
   ]
  },
  {
   "cell_type": "code",
   "execution_count": 2,
   "metadata": {},
   "outputs": [],
   "source": [
    "HERE = Path(_dh[-1])\n",
    "DATA = HERE / \"data\""
   ]
  },
  {
   "cell_type": "markdown",
   "metadata": {},
   "source": [
    "### Load and visualize the system\n",
    "\n",
    "As the first step, we load the topology (`.pdb`) and the trajectory (`.xtc`) files to create an MDAnalysis `universe` representing the simulated system. \n",
    "The universe can easily be visualized in its entirety, including the animation of the trajectory. \n",
    "\n",
    "[NGL Viewer](http://nglviewer.org/) provides pre-build functions to visualize simulations loaded in common libraries such as MD Analysis."
   ]
  },
  {
   "cell_type": "code",
   "execution_count": 3,
   "metadata": {},
   "outputs": [
    {
     "name": "stderr",
     "output_type": "stream",
     "text": [
      "/home/mika/miniconda3/envs/teachopencadd/lib/python3.8/site-packages/MDAnalysis/topology/base.py:203: DeprecationWarning: `np.int` is a deprecated alias for the builtin `int`. To silence this warning, use `int` by itself. Doing this will not modify any behavior and is safe. When replacing `np.int`, you may wish to use e.g. `np.int64` or `np.int32` to specify the precision. If you wish to review your current use, check the release note link for additional information.\n",
      "Deprecated in NumPy 1.20; for more details and guidance: https://numpy.org/devdocs/release/1.20.0-notes.html#deprecations\n",
      "  residx = np.zeros_like(criteria[0], dtype=np.int)\n",
      "/home/mika/miniconda3/envs/teachopencadd/lib/python3.8/site-packages/MDAnalysis/topology/PDBParser.py:426: DeprecationWarning: `np.int` is a deprecated alias for the builtin `int`. To silence this warning, use `int` by itself. Doing this will not modify any behavior and is safe. When replacing `np.int`, you may wish to use e.g. `np.int64` or `np.int32` to specify the precision. If you wish to review your current use, check the release note link for additional information.\n",
      "Deprecated in NumPy 1.20; for more details and guidance: https://numpy.org/devdocs/release/1.20.0-notes.html#deprecations\n",
      "  atom_id = np.int(conect[6:11])\n"
     ]
    },
    {
     "data": {
      "application/vnd.jupyter.widget-view+json": {
       "model_id": "70c2ab878bce44aa92e93ddedef4b325",
       "version_major": 2,
       "version_minor": 0
      },
      "text/plain": [
       "NGLWidget(max_frame=99)"
      ]
     },
     "metadata": {},
     "output_type": "display_data"
    }
   ],
   "source": [
    "md_universe = mda.Universe(str(DATA / \"topology.pdb\"), str(DATA / \"trajectory.xtc\"))\n",
    "view = nv.show_mdanalysis(md_universe)\n",
    "view"
   ]
  },
  {
   "cell_type": "code",
   "execution_count": 4,
   "metadata": {},
   "outputs": [],
   "source": [
    "view.render_image(trim=True, factor=2, transparent=True);"
   ]
  },
  {
   "cell_type": "code",
   "execution_count": 5,
   "metadata": {},
   "outputs": [
    {
     "data": {
      "image/png": "\n",
      "text/plain": [
       "<IPython.core.display.Image object>"
      ]
     },
     "execution_count": 5,
     "metadata": {},
     "output_type": "execute_result"
    }
   ],
   "source": [
    "view._display_image()"
   ]
  },
  {
   "cell_type": "markdown",
   "metadata": {},
   "source": [
    "### Alignment\n",
    "\n",
    "Although barely noticable in the visualization of this rather short trajectory, depending on the used simulation package/settings proteins can rotate and translate during simulation. This can complicate visual inspection of the trajectory and usually requires an alignment as as prior step to analysis. A common selection for aligning a trajectory on is the protein. Thus, the protein will not deviate from the center and not rotate allowing the observation of unbinding events or conformational changes. \n",
    "\n",
    "The [MDAnalysis](https://docs.mdanalysis.org/stable/index.html) framework allows for easy alignment on an atom selection using strings and has built-in simple selection keywords as well, for example \"protein\", which selects all residues usually belonging to the protein. \n",
    "\n",
    "In the next step, we will align the structures of the trajectory (mobile) onto the reference structure. The frame currently active in the reference structure will be used for alignment."
   ]
  },
  {
   "cell_type": "code",
   "execution_count": 6,
   "metadata": {},
   "outputs": [
    {
     "data": {
      "text/plain": [
       "<MDAnalysis.analysis.align.AlignTraj at 0x7fe9e28deca0>"
      ]
     },
     "execution_count": 6,
     "metadata": {},
     "output_type": "execute_result"
    }
   ],
   "source": [
    "# Set trajectory pointer to first frame as reference\n",
    "md_universe.trajectory[0]\n",
    "\n",
    "# in_memory=True is needed to actually modify the loaded trajectory\n",
    "# if the trajectory is too big for memory, one can write out the aligned trajectory and reload it into a new universe\n",
    "alignment = align.AlignTraj(mobile=md_universe, reference=md_universe, select='protein', in_memory=True)\n",
    "alignment.run()"
   ]
  },
  {
   "cell_type": "code",
   "execution_count": 7,
   "metadata": {},
   "outputs": [
    {
     "data": {
      "application/vnd.jupyter.widget-view+json": {
       "model_id": "6d8dabc0f22847d6b9d8c4a6e23138dd",
       "version_major": 2,
       "version_minor": 0
      },
      "text/plain": [
       "NGLWidget(max_frame=99)"
      ]
     },
     "metadata": {},
     "output_type": "display_data"
    }
   ],
   "source": [
    "view = nv.show_mdanalysis(md_universe)\n",
    "view"
   ]
  },
  {
   "cell_type": "code",
   "execution_count": 8,
   "metadata": {},
   "outputs": [],
   "source": [
    "view.render_image(trim=True, factor=2, transparent=True);"
   ]
  },
  {
   "cell_type": "code",
   "execution_count": 9,
   "metadata": {},
   "outputs": [
    {
     "data": {
      "image/png": "\n",
      "text/plain": [
       "<IPython.core.display.Image object>"
      ]
     },
     "execution_count": 9,
     "metadata": {},
     "output_type": "execute_result"
    }
   ],
   "source": [
    "view._display_image()"
   ]
  },
  {
   "cell_type": "markdown",
   "metadata": {},
   "source": [
    "### RMSD of protein and ligand\n",
    "\n",
    "Protein and ligand are clearly distinguishable in the animation. However, it is hard to estimate if ligand or protein actually significantly change their position/conformation. Hence, we will evaluate the relative movement using a more suffisticated method, the calculation of the RMSD. We will thereby focus on different portions of the system (backbone, protein and ligand). The ligand is best selected by its distinct residue name. In this case, we know it is the inhibitor `03P`, but we could also find the name from either inspecting the topology file or hovering the cursor over a ligand atom in the animation above."
   ]
  },
  {
   "cell_type": "code",
   "execution_count": 10,
   "metadata": {},
   "outputs": [],
   "source": [
    "ligand_name = \"03P\""
   ]
  },
  {
   "cell_type": "markdown",
   "metadata": {},
   "source": [
    "#### RMSD over time\n",
    "\n",
    "For plotting the RMSD, we write a function that does the RMSD calculation for selected atom groups from the universe and returns a pandas `Dataframe`."
   ]
  },
  {
   "cell_type": "code",
   "execution_count": 11,
   "metadata": {},
   "outputs": [],
   "source": [
    "def rmsd_for_atomgroups(universe, selection1, selection2=None):\n",
    "    \"\"\" Calulate the RMSD for selected atom groups.\n",
    "    \n",
    "    Parameters\n",
    "    ----------\n",
    "    universe: MDAnalysis.core.universe.Universe\n",
    "        MDAnalysis universe.\n",
    "    selection1: str\n",
    "        Selection string for main atom group, also used during alignment.\n",
    "    selection2: list of str, optional\n",
    "        Selection strings for additional atom groups.\n",
    "    \n",
    "    Returns\n",
    "    -------\n",
    "    rmsd_df: pandas.core.frame.DataFrame\n",
    "        DataFrame containing RMSD of the selected atom groups over time.\n",
    "    \"\"\"\n",
    "    \n",
    "    universe.trajectory[0]\n",
    "    ref = universe\n",
    "    rmsd_analysis = rms.RMSD(universe, ref,\n",
    "                             select=selection1, groupselections=selection2)\n",
    "    rmsd_analysis.run()\n",
    "    columns = [selection1, *selection2] if selection2 else [selection1]\n",
    "    rmsd_df = pd.DataFrame(np.round(rmsd_analysis.rmsd[:, 2:],2),\n",
    "                           columns=columns)\n",
    "    rmsd_df.index.name = \"frame\"\n",
    "    return rmsd_df"
   ]
  },
  {
   "cell_type": "markdown",
   "metadata": {},
   "source": [
    "Run the function to calculate the RMSD for the selected molecules during the simulation:\n",
    "* whole protein\n",
    "* protein backbone atoms \n",
    "* ligand\n",
    "\n",
    "During the calculation, the molecule will be superimposed to the first frame (reference) along the backbone of the protein."
   ]
  },
  {
   "cell_type": "code",
   "execution_count": 12,
   "metadata": {},
   "outputs": [
    {
     "name": "stderr",
     "output_type": "stream",
     "text": [
      "/home/mika/miniconda3/envs/teachopencadd/lib/python3.8/site-packages/MDAnalysis/core/selection.py:521: DeprecationWarning: `np.bool` is a deprecated alias for the builtin `bool`. To silence this warning, use `bool` by itself. Doing this will not modify any behavior and is safe. If you specifically wanted the numpy scalar type, use `np.bool_` here.\n",
      "Deprecated in NumPy 1.20; for more details and guidance: https://numpy.org/devdocs/release/1.20.0-notes.html#deprecations\n",
      "  mask = np.zeros(len(group), dtype=np.bool)\n"
     ]
    },
    {
     "data": {
      "text/html": [
       "<div>\n",
       "<style scoped>\n",
       "    .dataframe tbody tr th:only-of-type {\n",
       "        vertical-align: middle;\n",
       "    }\n",
       "\n",
       "    .dataframe tbody tr th {\n",
       "        vertical-align: top;\n",
       "    }\n",
       "\n",
       "    .dataframe thead th {\n",
       "        text-align: right;\n",
       "    }\n",
       "</style>\n",
       "<table border=\"1\" class=\"dataframe\">\n",
       "  <thead>\n",
       "    <tr style=\"text-align: right;\">\n",
       "      <th></th>\n",
       "      <th>backbone</th>\n",
       "      <th>protein</th>\n",
       "      <th>resname 03P</th>\n",
       "    </tr>\n",
       "    <tr>\n",
       "      <th>frame</th>\n",
       "      <th></th>\n",
       "      <th></th>\n",
       "      <th></th>\n",
       "    </tr>\n",
       "  </thead>\n",
       "  <tbody>\n",
       "    <tr>\n",
       "      <th>0</th>\n",
       "      <td>0.00</td>\n",
       "      <td>0.00</td>\n",
       "      <td>0.00</td>\n",
       "    </tr>\n",
       "    <tr>\n",
       "      <th>1</th>\n",
       "      <td>0.83</td>\n",
       "      <td>1.12</td>\n",
       "      <td>1.72</td>\n",
       "    </tr>\n",
       "    <tr>\n",
       "      <th>2</th>\n",
       "      <td>0.96</td>\n",
       "      <td>1.28</td>\n",
       "      <td>1.62</td>\n",
       "    </tr>\n",
       "    <tr>\n",
       "      <th>3</th>\n",
       "      <td>0.99</td>\n",
       "      <td>1.36</td>\n",
       "      <td>1.57</td>\n",
       "    </tr>\n",
       "    <tr>\n",
       "      <th>4</th>\n",
       "      <td>1.03</td>\n",
       "      <td>1.44</td>\n",
       "      <td>1.51</td>\n",
       "    </tr>\n",
       "  </tbody>\n",
       "</table>\n",
       "</div>"
      ],
      "text/plain": [
       "       backbone  protein  resname 03P\n",
       "frame                                \n",
       "0          0.00     0.00         0.00\n",
       "1          0.83     1.12         1.72\n",
       "2          0.96     1.28         1.62\n",
       "3          0.99     1.36         1.57\n",
       "4          1.03     1.44         1.51"
      ]
     },
     "execution_count": 12,
     "metadata": {},
     "output_type": "execute_result"
    }
   ],
   "source": [
    "rmsd = rmsd_for_atomgroups(md_universe, \"backbone\", [\"protein\", \"resname \" + ligand_name])\n",
    "rmsd.head()"
   ]
  },
  {
   "cell_type": "markdown",
   "metadata": {},
   "source": [
    "Then, we plot the results."
   ]
  },
  {
   "cell_type": "code",
   "execution_count": 13,
   "metadata": {},
   "outputs": [
    {
     "data": {
      "image/png": "[encoded data removed]",
      "text/plain": [
       "<Figure size 432x288 with 1 Axes>"
      ]
     },
     "metadata": {
      "needs_background": "light"
     },
     "output_type": "display_data"
    }
   ],
   "source": [
    "rmsd.plot(title=\"RMSD of protein and ligand\")\n",
    "plt.ylabel(\"RMSD (Å)\");"
   ]
  },
  {
   "cell_type": "markdown",
   "metadata": {},
   "source": [
    "What can we see in the plot:\n",
    "* There are only slight conformational changes in the backbone during the simulation, which is not surprising since the protein was superimposed w.r.t. the backbone. \n",
    "* Including the protein side chains in RMSD calculation lead to more movement, when compared to the protein backbone only.\n",
    "* In our simulation the ligands movements are in the same range as the protein side chains. However, this is not always the case as the ligand can move more freely and, additionally to any conformational changes, there might be directional movement involved. This is likely the case if the RMSD values for the ligand are exceptionally high."
   ]
  },
  {
   "cell_type": "markdown",
   "metadata": {},
   "source": [
    "#### RMSD between frames"
   ]
  },
  {
   "cell_type": "markdown",
   "metadata": {},
   "source": [
    "The plot before showed the distance at the given time compared to the initial state.\n",
    "Now, we calculate the differences between all frames (pair-wise) and visualize them in a heatmap."
   ]
  },
  {
   "cell_type": "code",
   "execution_count": 14,
   "metadata": {},
   "outputs": [],
   "source": [
    "def RMSD_dist_frames(universe, selection):\n",
    "    \"\"\" Calculate the RMSD between all frames in a matrix.\n",
    "    \n",
    "    Parameters\n",
    "    ----------\n",
    "    universe: MDAnalysis.core.universe.Universe\n",
    "        MDAnalysis universe.\n",
    "    selection: str\n",
    "        Selection string for the atomgroup to be investigated, also used during alignment.\n",
    "    \n",
    "    Returns\n",
    "    -------\n",
    "    array: np.ndarray\n",
    "        Numpy array of RMSD values.\n",
    "    \"\"\"\n",
    "    pairwise_rmsd = diffusionmap.DistanceMatrix(universe, select=selection)\n",
    "    pairwise_rmsd.run()\n",
    "    return pairwise_rmsd.dist_matrix"
   ]
  },
  {
   "cell_type": "markdown",
   "metadata": {},
   "source": [
    "First, we calculate the distance matrices for protein and ligand using the function above.\n",
    "Then, we plot them side by side as heatmaps."
   ]
  },
  {
   "cell_type": "code",
   "execution_count": 15,
   "metadata": {},
   "outputs": [
    {
     "name": "stderr",
     "output_type": "stream",
     "text": [
      "/home/mika/miniconda3/envs/teachopencadd/lib/python3.8/site-packages/MDAnalysis/core/selection.py:521: DeprecationWarning: `np.bool` is a deprecated alias for the builtin `bool`. To silence this warning, use `bool` by itself. Doing this will not modify any behavior and is safe. If you specifically wanted the numpy scalar type, use `np.bool_` here.\n",
      "Deprecated in NumPy 1.20; for more details and guidance: https://numpy.org/devdocs/release/1.20.0-notes.html#deprecations\n",
      "  mask = np.zeros(len(group), dtype=np.bool)\n"
     ]
    }
   ],
   "source": [
    "dist_matrix_protein = RMSD_dist_frames(md_universe, \"protein\")\n",
    "dist_matrix_ligand = RMSD_dist_frames(md_universe, \"resname \" + ligand_name)"
   ]
  },
  {
   "cell_type": "markdown",
   "metadata": {},
   "source": [
    "In order to achieve comparable heatmaps, it is important to set the minima and maxima in both plots to the same values. \n",
    "We set the minimal value to 0 and derive the upper bound from the distance matrices."
   ]
  },
  {
   "cell_type": "code",
   "execution_count": 16,
   "metadata": {},
   "outputs": [],
   "source": [
    "# get maximal distance between all frames\n",
    "max_dist = max(np.amax(dist_matrix_ligand), np.amax(dist_matrix_protein))"
   ]
  },
  {
   "cell_type": "code",
   "execution_count": 17,
   "metadata": {},
   "outputs": [
    {
     "data": {
      "text/plain": [
       "<matplotlib.colorbar.Colorbar at 0x7fe9de254d30>"
      ]
     },
     "execution_count": 17,
     "metadata": {},
     "output_type": "execute_result"
    },
    {
     "data": {
      "image/png": "[encoded data removed]",
      "text/plain": [
       "<Figure size 432x288 with 3 Axes>"
      ]
     },
     "metadata": {
      "needs_background": "light"
     },
     "output_type": "display_data"
    }
   ],
   "source": [
    "fig, ax = plt.subplots(1, 2)\n",
    "fig.suptitle(\"RMSD between the frames\")\n",
    "\n",
    "# protein image\n",
    "img1 = ax[0].imshow(dist_matrix_protein, cmap=\"viridis\", vmin=0, vmax=max_dist)\n",
    "ax[0].title.set_text(\"protein\")\n",
    "ax[0].set_xlabel(\"frames\")\n",
    "ax[0].set_ylabel(\"frames\")\n",
    "\n",
    "# ligand image\n",
    "img2 = ax[1].imshow(dist_matrix_ligand, cmap=\"viridis\", vmin=0, vmax=max_dist)\n",
    "ax[1].title.set_text(\"Ligand\")\n",
    "ax[1].set_xlabel(\"frames\")\n",
    "\n",
    "fig.colorbar(img1, ax=ax, orientation=\"horizontal\", fraction=.1, label=\"RMSD (Å)\")"
   ]
  },
  {
   "cell_type": "markdown",
   "metadata": {},
   "source": [
    "From the heatmaps, we can conclude that the protein moves constantly and evenly between the states. The ligand *jumps* between different states. Sometimes it can reach similar conformations repeatedly."
   ]
  },
  {
   "cell_type": "markdown",
   "metadata": {},
   "source": [
    "### Interaction analysis\n",
    "\n",
    "Now, we will look at the interaction between protein and ligand. Let's visualize the system again, including some more detail in the binding pocket. All residues in a 5 Å radius around the ligand are shown with atoms and bonds visible."
   ]
  },
  {
   "cell_type": "code",
   "execution_count": 18,
   "metadata": {},
   "outputs": [
    {
     "name": "stderr",
     "output_type": "stream",
     "text": [
      "/home/mika/miniconda3/envs/teachopencadd/lib/python3.8/site-packages/MDAnalysis/lib/distances.py:715: DeprecationWarning: `np.int` is a deprecated alias for the builtin `int`. To silence this warning, use `int` by itself. Doing this will not modify any behavior and is safe. When replacing `np.int`, you may wish to use e.g. `np.int64` or `np.int32` to specify the precision. If you wish to review your current use, check the release note link for additional information.\n",
      "Deprecated in NumPy 1.20; for more details and guidance: https://numpy.org/devdocs/release/1.20.0-notes.html#deprecations\n",
      "  gridsearch = FastNS(max_cutoff, configuration, box=box)\n"
     ]
    },
    {
     "data": {
      "application/vnd.jupyter.widget-view+json": {
       "model_id": "244224273c4f46e98b4f8786bd6df0f3",
       "version_major": 2,
       "version_minor": 0
      },
      "text/plain": [
       "NGLWidget(max_frame=99)"
      ]
     },
     "metadata": {},
     "output_type": "display_data"
    }
   ],
   "source": [
    "# select pocket residues\n",
    "pocket_resids = set(md_universe.select_atoms(\"(around 5 resname \" + ligand_name + \") and protein\").resids)\n",
    "view2 = nv.show_mdanalysis(md_universe)\n",
    "view2.add_representation(\"licorice\", selection=f\"protein and ({' '.join([str(x) for x in pocket_resids])})\")\n",
    "view2.center(selection='ligand')\n",
    "view2"
   ]
  },
  {
   "cell_type": "code",
   "execution_count": 19,
   "metadata": {},
   "outputs": [],
   "source": [
    "view2.render_image(trim=True, factor=2, transparent=True);"
   ]
  },
  {
   "cell_type": "code",
   "execution_count": 20,
   "metadata": {},
   "outputs": [
    {
     "data": {
      "image/png": "\n",
      "text/plain": [
       "<IPython.core.display.Image object>"
      ]
     },
     "execution_count": 20,
     "metadata": {},
     "output_type": "execute_result"
    }
   ],
   "source": [
    "view2._display_image()"
   ]
  },
  {
   "cell_type": "markdown",
   "metadata": {},
   "source": [
    "#### Atomic distances"
   ]
  },
  {
   "cell_type": "markdown",
   "metadata": {},
   "source": [
    "We now zoom in and look for interactions that might be of interest for a project at hand. In this example, we want to look at the backbone nitrogen of methionine 793 coming in close contact with an aromatic ring of the ligand. Theoretically, the distances can be calculated for groups of atoms, as long as each group has the same number of atoms, but we want to look at distances between single atoms.\n",
    "Single atom selections can be done unambiguously with the combination of residue id and atom name inside that residue. Residue names are not unique and thus are not be used here.\n",
    "Atom names and their corresponding residue id can be accessed when hovering over the selected atom in the detailed view above. "
   ]
  },
  {
   "cell_type": "code",
   "execution_count": 21,
   "metadata": {},
   "outputs": [],
   "source": [
    "protein_residue_id = \"793\"\n",
    "protein_atom_name = \"N\"\n",
    "ligand_id = \"1\"\n",
    "ligand_atom_name = \"N4\""
   ]
  },
  {
   "cell_type": "markdown",
   "metadata": {},
   "source": [
    "We select the atom groups used for our analysis, which will contain one atom each in this example."
   ]
  },
  {
   "cell_type": "code",
   "execution_count": 22,
   "metadata": {},
   "outputs": [
    {
     "name": "stderr",
     "output_type": "stream",
     "text": [
      "/home/mika/miniconda3/envs/teachopencadd/lib/python3.8/site-packages/MDAnalysis/core/selection.py:521: DeprecationWarning: `np.bool` is a deprecated alias for the builtin `bool`. To silence this warning, use `bool` by itself. Doing this will not modify any behavior and is safe. If you specifically wanted the numpy scalar type, use `np.bool_` here.\n",
      "Deprecated in NumPy 1.20; for more details and guidance: https://numpy.org/devdocs/release/1.20.0-notes.html#deprecations\n",
      "  mask = np.zeros(len(group), dtype=np.bool)\n"
     ]
    }
   ],
   "source": [
    "atomgroup_protein = md_universe.select_atoms(f\"resid {protein_residue_id} and name {protein_atom_name}\")\n",
    "atomgroup_ligand = md_universe.select_atoms(f\"resname {ligand_name} and name {ligand_atom_name}\")"
   ]
  },
  {
   "cell_type": "markdown",
   "metadata": {},
   "source": [
    "Now, we can calculate the distance between the atoms in the currently set frame of our universe (using the `dist`function from `MDAnalysis`).\n",
    "The function returns an array of arrays: The first two elements are the residue ids, but we are only interested in the third entry, the distance."
   ]
  },
  {
   "cell_type": "code",
   "execution_count": 23,
   "metadata": {},
   "outputs": [
    {
     "name": "stdout",
     "output_type": "stream",
     "text": [
      "The distance between residues 793 and 1 is 3.52 Å\n"
     ]
    }
   ],
   "source": [
    "distance = dist(atomgroup_protein, atomgroup_ligand)\n",
    "print(f\"The distance between residues {protein_residue_id} and {ligand_id} is {distance[2][0]:.2f} Å\")"
   ]
  },
  {
   "cell_type": "markdown",
   "metadata": {},
   "source": [
    "At 3.5Å the distance is close enough to play a role in mediating the binding of the ligand and is worth a closer look. The interaction between the ligand and the backbone nitrogen of methionine 793 we just measured is actually a well known bond with the hinge region in many kinases. \n",
    "\n",
    "To gather more information we want to look at the development of the distance over time. We can iterate over the frames and calculate the distance for each of them. The trajectory property of the universe works as a pointer and only holds information about one time step. The pointer is moved along the trajectory file, any selections are automatically updated on the way."
   ]
  },
  {
   "cell_type": "code",
   "execution_count": 24,
   "metadata": {},
   "outputs": [],
   "source": [
    "distances = []\n",
    "for _ in md_universe.trajectory:\n",
    "    distance = dist(atomgroup_protein, atomgroup_ligand)\n",
    "    distances.append(distance[2][0])"
   ]
  },
  {
   "cell_type": "code",
   "execution_count": 25,
   "metadata": {},
   "outputs": [
    {
     "data": {
      "image/png": "[encoded data removed]",
      "text/plain": [
       "<Figure size 720x432 with 1 Axes>"
      ]
     },
     "metadata": {
      "needs_background": "light"
     },
     "output_type": "display_data"
    }
   ],
   "source": [
    "plt.figure(figsize=(10,6))\n",
    "plt.plot(distances)\n",
    "plt.gca().set_ylim(bottom=0)\n",
    "plt.ylabel('distance (Å)')\n",
    "plt.xlabel('frame')\n",
    "plt.title(f\"Atomic distance between atoms of residues {protein_residue_id} and {ligand_id}\")\n",
    "plt.show()"
   ]
  },
  {
   "cell_type": "markdown",
   "metadata": {},
   "source": [
    "From the graphic we see that during the interaction the distance becomes shorter than the initially observed 3.52 Å in the first frame. This means the interaction gets stronger at first and, although fluctuating, stays relatively stable for extended periods."
   ]
  },
  {
   "cell_type": "markdown",
   "metadata": {},
   "source": [
    "#### Hydrogen bond analysis\n",
    "\n",
    "As it happens, the interaction with the hinge region we are analyzing forms a hydrogen bond. The nitrogen of the backbone from methionine is acting as the donor, the nitrogen in the aromatic ring of the ligand is the acceptor.\n",
    "\n",
    "We go back to the visualization to get the unique name of the hydrogen forming the bond .Then, we can use the hydrogen bond analysis capability from [MDAnalysis](https://docs.mdanalysis.org/1.0.0/documentation_pages/analysis/hydrogenbonds.html) to determine the characteristic distances and angles for the hydrogen bond. The hydrogen bond analysis covers all frames without manual iteration and is convenient to plot."
   ]
  },
  {
   "cell_type": "code",
   "execution_count": 26,
   "metadata": {},
   "outputs": [],
   "source": [
    "hydrogen_name = \"H\""
   ]
  },
  {
   "cell_type": "code",
   "execution_count": 27,
   "metadata": {},
   "outputs": [],
   "source": [
    "def run_hydrogenbond_analysis(universe, donor_resid, donor_atom, hydrogen_atom, acceptor_resid, acceptor_atom,\n",
    "                              h_cutoff=1.2, a_cutoff=3.0, angle_cutoff=120):\n",
    "    \n",
    "    \"\"\" Perform an hydrogen bond analysis between selcted atom groups.\n",
    "    Return the data as readable, formatted data frame.\n",
    "    \n",
    "    Parameters\n",
    "    ----------\n",
    "    universe: MDAnalysis.core.universe.Universe\n",
    "        MDAnalysis universe.\n",
    "    donor_resid: str\n",
    "        Residue Id of residue containing donor atom in MDAnalysis universe.\n",
    "    donor_atom: str\n",
    "        Name of the donor atom in the MDAnalysis universe.\n",
    "    hydrogen_atom: str\n",
    "        Name of involved hydrogen atom in the MDAnalysis universe.\n",
    "    acceptor_resid: str\n",
    "        Residue Id of residue containing acceptor atom in the MDAnalysis universe.\n",
    "    acceptor_atom: str\n",
    "        Name of the acceptor atom in the MDAnalysis universe.\n",
    "    h_cutoff: float, optional\n",
    "        Distance cutoff used for finding donor-hydrogen pairs.\n",
    "    a_cutoff: float, optional\n",
    "        Donor-acceptor distance cutoff for hydrogen bonds.\n",
    "    angle_cutoff: int, optional\n",
    "        D-H-A angle cutoff for hydrogen bonds.\n",
    "    \n",
    "    Returns\n",
    "    -------\n",
    "    bond : pandas.core.frame.DataFrame\n",
    "        DataFrame containing hydrogen bond information over time.\n",
    "    \"\"\"\n",
    "    \n",
    "    # set up and run the hydrogen bond analysis (HBA)\n",
    "    hbonds = HBA(universe=universe,\n",
    "                 donors_sel=\"resid \" + donor_resid + \" and name \" + donor_atom,\n",
    "                 hydrogens_sel=\"resid \" + donor_resid + \" and name \" + hydrogen_atom,\n",
    "                 acceptors_sel=\"resid \" + acceptor_resid + \" and name \" + acceptor_atom,\n",
    "                 d_h_cutoff=h_cutoff,\n",
    "                 d_a_cutoff=a_cutoff,\n",
    "                 d_h_a_angle_cutoff=angle_cutoff)\n",
    "    hbonds.run()\n",
    "    # extract bond data\n",
    "    bond = pd.DataFrame(np.round(hbonds.hbonds,2)) \n",
    "    # name columns (according to MDAnalysis function description)\n",
    "    bond.columns = [\"frame\", \"donor_index\", \"hydrogen_index\",\n",
    "                    \"acceptor_index\", \"distance\", \"angle\"]\n",
    "    # set frame as the index\n",
    "    bond['frame'] = bond['frame'].astype(int)\n",
    "    bond.set_index(\"frame\", inplace=True, drop=True)\n",
    "    return bond"
   ]
  },
  {
   "cell_type": "markdown",
   "metadata": {},
   "source": [
    "We run the hydrogen bond analysis using our function, which returns a data frame."
   ]
  },
  {
   "cell_type": "code",
   "execution_count": 28,
   "metadata": {},
   "outputs": [
    {
     "data": {
      "text/html": [
       "<div>\n",
       "<style scoped>\n",
       "    .dataframe tbody tr th:only-of-type {\n",
       "        vertical-align: middle;\n",
       "    }\n",
       "\n",
       "    .dataframe tbody tr th {\n",
       "        vertical-align: top;\n",
       "    }\n",
       "\n",
       "    .dataframe thead th {\n",
       "        text-align: right;\n",
       "    }\n",
       "</style>\n",
       "<table border=\"1\" class=\"dataframe\">\n",
       "  <thead>\n",
       "    <tr style=\"text-align: right;\">\n",
       "      <th></th>\n",
       "      <th>donor_index</th>\n",
       "      <th>hydrogen_index</th>\n",
       "      <th>acceptor_index</th>\n",
       "      <th>distance</th>\n",
       "      <th>angle</th>\n",
       "    </tr>\n",
       "    <tr>\n",
       "      <th>frame</th>\n",
       "      <th></th>\n",
       "      <th></th>\n",
       "      <th></th>\n",
       "      <th></th>\n",
       "      <th></th>\n",
       "    </tr>\n",
       "  </thead>\n",
       "  <tbody>\n",
       "    <tr>\n",
       "      <th>17</th>\n",
       "      <td>1483.0</td>\n",
       "      <td>1484.0</td>\n",
       "      <td>5529.0</td>\n",
       "      <td>2.87</td>\n",
       "      <td>144.73</td>\n",
       "    </tr>\n",
       "    <tr>\n",
       "      <th>21</th>\n",
       "      <td>1483.0</td>\n",
       "      <td>1484.0</td>\n",
       "      <td>5529.0</td>\n",
       "      <td>2.98</td>\n",
       "      <td>162.87</td>\n",
       "    </tr>\n",
       "    <tr>\n",
       "      <th>23</th>\n",
       "      <td>1483.0</td>\n",
       "      <td>1484.0</td>\n",
       "      <td>5529.0</td>\n",
       "      <td>2.98</td>\n",
       "      <td>173.41</td>\n",
       "    </tr>\n",
       "    <tr>\n",
       "      <th>26</th>\n",
       "      <td>1483.0</td>\n",
       "      <td>1484.0</td>\n",
       "      <td>5529.0</td>\n",
       "      <td>3.00</td>\n",
       "      <td>175.31</td>\n",
       "    </tr>\n",
       "    <tr>\n",
       "      <th>28</th>\n",
       "      <td>1483.0</td>\n",
       "      <td>1484.0</td>\n",
       "      <td>5529.0</td>\n",
       "      <td>2.95</td>\n",
       "      <td>163.73</td>\n",
       "    </tr>\n",
       "  </tbody>\n",
       "</table>\n",
       "</div>"
      ],
      "text/plain": [
       "       donor_index  hydrogen_index  acceptor_index  distance   angle\n",
       "frame                                                               \n",
       "17          1483.0          1484.0          5529.0      2.87  144.73\n",
       "21          1483.0          1484.0          5529.0      2.98  162.87\n",
       "23          1483.0          1484.0          5529.0      2.98  173.41\n",
       "26          1483.0          1484.0          5529.0      3.00  175.31\n",
       "28          1483.0          1484.0          5529.0      2.95  163.73"
      ]
     },
     "execution_count": 28,
     "metadata": {},
     "output_type": "execute_result"
    }
   ],
   "source": [
    "bond = run_hydrogenbond_analysis(\n",
    "    md_universe, protein_residue_id, protein_atom_name, hydrogen_name,\n",
    "    ligand_id, ligand_atom_name)\n",
    "bond.head()"
   ]
  },
  {
   "cell_type": "markdown",
   "metadata": {},
   "source": [
    "In the table, we can see that the bond is only recognized in some frames during the simulation. \n",
    "\n",
    "The used module searches for hydrogen bonds with strict predefined constraints. Using default settings, the bond is only detected if the distance larger than 3Å between donor and acceptor and smaller than 1.2Å between donor and hydrogen and if the angle is larger than 120° (see Figure 1). The bond will not be included for frames that do not meet the constraints.\n",
    "\n",
    "To trace the bond over the entire simulation, we can change those thresholds to detect the bond in its \"weaker\" states.\n",
    "From the above table, the angles seem to be sufficiently high, while the distances are closer to the 3Å cutoff distance. Thus, we try the analysis again with a higher distance cutoff of 5Å for the donor and acceptor distance."
   ]
  },
  {
   "cell_type": "code",
   "execution_count": 29,
   "metadata": {},
   "outputs": [
    {
     "name": "stderr",
     "output_type": "stream",
     "text": [
      "/home/mika/miniconda3/envs/teachopencadd/lib/python3.8/site-packages/MDAnalysis/core/selection.py:521: DeprecationWarning: `np.bool` is a deprecated alias for the builtin `bool`. To silence this warning, use `bool` by itself. Doing this will not modify any behavior and is safe. If you specifically wanted the numpy scalar type, use `np.bool_` here.\n",
      "Deprecated in NumPy 1.20; for more details and guidance: https://numpy.org/devdocs/release/1.20.0-notes.html#deprecations\n",
      "  mask = np.zeros(len(group), dtype=np.bool)\n"
     ]
    },
    {
     "data": {
      "text/html": [
       "<div>\n",
       "<style scoped>\n",
       "    .dataframe tbody tr th:only-of-type {\n",
       "        vertical-align: middle;\n",
       "    }\n",
       "\n",
       "    .dataframe tbody tr th {\n",
       "        vertical-align: top;\n",
       "    }\n",
       "\n",
       "    .dataframe thead th {\n",
       "        text-align: right;\n",
       "    }\n",
       "</style>\n",
       "<table border=\"1\" class=\"dataframe\">\n",
       "  <thead>\n",
       "    <tr style=\"text-align: right;\">\n",
       "      <th></th>\n",
       "      <th>donor_index</th>\n",
       "      <th>hydrogen_index</th>\n",
       "      <th>acceptor_index</th>\n",
       "      <th>distance</th>\n",
       "      <th>angle</th>\n",
       "    </tr>\n",
       "    <tr>\n",
       "      <th>frame</th>\n",
       "      <th></th>\n",
       "      <th></th>\n",
       "      <th></th>\n",
       "      <th></th>\n",
       "      <th></th>\n",
       "    </tr>\n",
       "  </thead>\n",
       "  <tbody>\n",
       "    <tr>\n",
       "      <th>0</th>\n",
       "      <td>1483.0</td>\n",
       "      <td>1484.0</td>\n",
       "      <td>5529.0</td>\n",
       "      <td>3.52</td>\n",
       "      <td>166.39</td>\n",
       "    </tr>\n",
       "    <tr>\n",
       "      <th>1</th>\n",
       "      <td>1483.0</td>\n",
       "      <td>1484.0</td>\n",
       "      <td>5529.0</td>\n",
       "      <td>3.60</td>\n",
       "      <td>145.63</td>\n",
       "    </tr>\n",
       "    <tr>\n",
       "      <th>2</th>\n",
       "      <td>1483.0</td>\n",
       "      <td>1484.0</td>\n",
       "      <td>5529.0</td>\n",
       "      <td>3.13</td>\n",
       "      <td>173.95</td>\n",
       "    </tr>\n",
       "    <tr>\n",
       "      <th>3</th>\n",
       "      <td>1483.0</td>\n",
       "      <td>1484.0</td>\n",
       "      <td>5529.0</td>\n",
       "      <td>3.29</td>\n",
       "      <td>151.99</td>\n",
       "    </tr>\n",
       "    <tr>\n",
       "      <th>4</th>\n",
       "      <td>1483.0</td>\n",
       "      <td>1484.0</td>\n",
       "      <td>5529.0</td>\n",
       "      <td>3.20</td>\n",
       "      <td>170.21</td>\n",
       "    </tr>\n",
       "  </tbody>\n",
       "</table>\n",
       "</div>"
      ],
      "text/plain": [
       "       donor_index  hydrogen_index  acceptor_index  distance   angle\n",
       "frame                                                               \n",
       "0           1483.0          1484.0          5529.0      3.52  166.39\n",
       "1           1483.0          1484.0          5529.0      3.60  145.63\n",
       "2           1483.0          1484.0          5529.0      3.13  173.95\n",
       "3           1483.0          1484.0          5529.0      3.29  151.99\n",
       "4           1483.0          1484.0          5529.0      3.20  170.21"
      ]
     },
     "execution_count": 29,
     "metadata": {},
     "output_type": "execute_result"
    }
   ],
   "source": [
    "bond = run_hydrogenbond_analysis(\n",
    "    md_universe, protein_residue_id, protein_atom_name, hydrogen_name,\n",
    "    ligand_id, ligand_atom_name, a_cutoff=5.0)\n",
    "bond.head()"
   ]
  },
  {
   "cell_type": "markdown",
   "metadata": {},
   "source": [
    "Now, we plot the bond."
   ]
  },
  {
   "cell_type": "code",
   "execution_count": 30,
   "metadata": {},
   "outputs": [],
   "source": [
    "def plot_hydrogen_bond_over_time(bond):\n",
    "    \n",
    "    \"\"\" Plot the distance and degree of a chosen hydrogen bond over time.\n",
    "    Peaks in angle and dips in distance represent moments of strong binding.\n",
    "    \n",
    "    Parameters\n",
    "    ----------\n",
    "    bond: pandas.core.frame.DataFrame\n",
    "        Hydrogen bond analysis data frame with named columns.\n",
    "    \"\"\"\n",
    "    \n",
    "    donor_index = bond.iloc[0].donor_index\n",
    "    acceptor_index = bond.iloc[0].acceptor_index\n",
    "    \n",
    "    # add values for missing frames for gapless plotting\n",
    "    bond = bond.reindex(np.arange(0,99))\n",
    "\n",
    "    # plot the data\n",
    "    fig = plt.figure(figsize=(10,6))\n",
    "    distance = bond.distance.plot(\n",
    "        title = f'H-Bond between donor {donor_index} and acceptor {acceptor_index}',\n",
    "        style='o-', x=\"frame\")\n",
    "    distance.set_ylabel('distance (Å)')\n",
    "    distance.set_xlabel('frame')\n",
    "    distance.set_ylim(bottom=0)\n",
    "    angle = bond.angle.plot(secondary_y=True, style='o-', x=\"frame\")\n",
    "    angle.set_ylabel('angle (°)')\n",
    "    angle.set_xlabel('frame')\n",
    "    angle.set_ylim(bottom=0)\n",
    "    fig.legend(loc='lower right', bbox_to_anchor=(1, 0),\n",
    "           bbox_transform=distance.transAxes)\n",
    "    plt.show()"
   ]
  },
  {
   "cell_type": "code",
   "execution_count": 31,
   "metadata": {},
   "outputs": [
    {
     "data": {
      "image/png": "[encoded data removed]",
      "text/plain": [
       "<Figure size 720x432 with 2 Axes>"
      ]
     },
     "metadata": {
      "needs_background": "light"
     },
     "output_type": "display_data"
    }
   ],
   "source": [
    "plot_hydrogen_bond_over_time(bond)"
   ]
  },
  {
   "cell_type": "markdown",
   "metadata": {},
   "source": [
    "While the distance values in the hydrogen bond analysis are the same we have seen in the pure distance plot above, the combination with the bond angle elevates the information. As mentioned before, the distance is at the upper end for hydrogen bond lengths throughout the simulation, but the bond angle is consistently close to 180° and stabilizes the bond. From the analysis we could assume that the interaction between the backbone methionine in the kinase hinge region is indeed a crucial factor for the binding of the ligand."
   ]
  },
  {
   "cell_type": "code",
   "execution_count": 32,
   "metadata": {},
   "outputs": [
    {
     "data": {
      "application/vnd.jupyter.widget-view+json": {
       "model_id": "ae1c51d69e7f4221856fc675ed75e453",
       "version_major": 2,
       "version_minor": 0
      },
      "text/plain": [
       "NGLWidget(frame=71, max_frame=99)"
      ]
     },
     "metadata": {},
     "output_type": "display_data"
    }
   ],
   "source": [
    "view_strong = nv.show_mdanalysis(md_universe)\n",
    "view_strong.add_representation(\"ball+stick\", selection=f\"protein and {protein_residue_id}\")\n",
    "view_strong.center(selection='ligand')\n",
    "view_strong.frame = 71\n",
    "view_strong"
   ]
  },
  {
   "cell_type": "code",
   "execution_count": 33,
   "metadata": {},
   "outputs": [
    {
     "data": {
      "application/vnd.jupyter.widget-view+json": {
       "model_id": "3b636d3adcab499792dc5629b11956a1",
       "version_major": 2,
       "version_minor": 0
      },
      "text/plain": [
       "NGLWidget(frame=1, max_frame=99)"
      ]
     },
     "metadata": {},
     "output_type": "display_data"
    }
   ],
   "source": [
    "view_bad = nv.show_mdanalysis(md_universe)\n",
    "view_bad.add_representation(\"ball+stick\", selection=f\"protein and {protein_residue_id}\")\n",
    "view_bad.center(selection='ligand')\n",
    "view_bad.frame = 1\n",
    "view_bad"
   ]
  },
  {
   "cell_type": "markdown",
   "metadata": {},
   "source": [
    "## Discussion\n",
    "\n",
    "There are various ways to analyze MD Simulations. In this talktorial, we explored only a small fraction of available methods to give the user first insights. Some methods are more straightforward, like the visualization of the system or the calculation of the RMSD, while others require more finesse. Especially the hydrogen bond analysis is yet dependent on manual input and tweaking. But with further advancements in the field, we can expect the frameworks to become more and more refined.\n",
    "\n",
    "The MD simulation used during analysis is actually too short to provide statistical significant data on binding and unbinding events or even conformational changes of the protein or ligand. To make full use of the capabilities of MD simulations one needs access to high performance clusters. Great examples on insights gained from MD simulations can be found on the webpage of the [folding@home](https://foldingathome.org/) consortium, which connects computers world wide to address pressing scientific challenges."
   ]
  },
  {
   "cell_type": "markdown",
   "metadata": {},
   "source": [
    "## Quiz\n",
    "\n",
    "- Which hydrogen bond would you consider the strongest?\n",
    "    - A: donor acceptor distance - 3.5 A, donor hydogen acceptor angle - 180 °\n",
    "    - B: donor acceptor distance - 2.7 A, donor hydogen acceptor angle - 170 °\n",
    "    - C: donor acceptor distance - 3.2 A, donor hydogen acceptor angle - 150 °\n",
    "- Try to align the trajectory on the ligand. How does this affect the RMSD plots?\n",
    "- Choose a second pair of atoms and analyse the interactions.\n",
    "- Are you able to implement a function to calculate the root mean square fluctuations (RMSF) of protein residues?"
   ]
  },
  {
   "cell_type": "code",
   "execution_count": null,
   "metadata": {},
   "outputs": [],
   "source": []
  }
 ],
 "metadata": {
  "kernelspec": {
   "display_name": "Python 3",
   "language": "python",
   "name": "python3"
  },
  "language_info": {
   "codemirror_mode": {
    "name": "ipython",
    "version": 3
   },
   "file_extension": ".py",
   "mimetype": "text/x-python",
   "name": "python",
   "nbconvert_exporter": "python",
   "pygments_lexer": "ipython3",
   "version": "3.8.6"
  },
  "toc-autonumbering": true
 },
 "nbformat": 4,
 "nbformat_minor": 4
}
