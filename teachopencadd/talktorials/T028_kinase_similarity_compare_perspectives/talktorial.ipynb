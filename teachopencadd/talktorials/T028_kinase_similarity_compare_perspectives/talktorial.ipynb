{
 "cells": [
  {
   "cell_type": "markdown",
   "metadata": {},
   "source": [
    "# T028 · Kinase similarity: Compare different perspectives\n",
    "\n",
    "Authors:\n",
    "\n",
    "- Talia B. Kimber, 2021, [Volkamer lab, Charité](https://volkamerlab.org/)\n",
    "- Dominique Sydow, 2021, [Volkamer lab, Charité](https://volkamerlab.org/)\n",
    "- Andrea Volkamer, 2021, [Volkamer lab, Charité](https://volkamerlab.org/)"
   ]
  },
  {
   "cell_type": "markdown",
   "metadata": {},
   "source": [
    "## Aim of this talktorial\n",
    "\n",
    "We will compare different perspectives on kinase similarity, which were discussed in detail in previous notebooks:\n",
    "\n",
    "* **Talktorial T024**: Kinase pocket sequences (KLIFS pocket sequences)\n",
    "* **Talktorial T025**: Kinase pocket structures (KiSSim fingerprint based on KLIFS pocket residues)\n",
    "* **Talktorial T026**: Kinase-ligand interaction profiles (KLIFS IFPs based on KLIFS pocket residues)\n",
    "* **Talktorial T027**: Ligand profiles"
   ]
  },
  {
   "cell_type": "markdown",
   "metadata": {},
   "source": [
    "### Contents in *Theory*\n",
    "\n",
    "* Kinase dataset\n",
    "* Kinase similarity descriptor: XXX"
   ]
  },
  {
   "cell_type": "markdown",
   "metadata": {},
   "source": [
    "### Contents in *Practical*\n",
    "\n",
    "* Retrieve and preprocess data\n",
    "* Show kinase coverage\n",
    "* Compare kinases\n",
    "* Visualize similarity as kinase matrix\n",
    "* Visualize similarity as phylogenetic tree"
   ]
  },
  {
   "cell_type": "markdown",
   "metadata": {},
   "source": [
    "### References\n",
    "\n",
    "* Kinase dataset: [<i>Molecules</i> (2021), <b>26(3)</b>, 629](https://www.mdpi.com/1420-3049/26/3/629) \n",
    "* Kinase similarity descriptor: XXX"
   ]
  },
  {
   "cell_type": "markdown",
   "metadata": {},
   "source": [
    "## Theory"
   ]
  },
  {
   "cell_type": "markdown",
   "metadata": {},
   "source": [
    "### Kinase dataset"
   ]
  },
  {
   "cell_type": "markdown",
   "metadata": {},
   "source": [
    "We will use nine kinases from [<i>Molecules</i> (2021), <b>26(3)</b>, 629](https://www.mdpi.com/1420-3049/26/3/629), which aimed to understand kinase similarities within different combinations of kinase on- and off-targets (also called anti-targets):\n",
    "\n",
    "> We aggregated the investigated kinases in “profiles”. Profile 1 combined **EGFR** and **ErbB2** as targets and **BRAF** as a (general) anti-target. Out of similar considerations, Profile 2 consisted of EGFR and **PI3K** as targets and BRAF as anti-target. This profile is expected to be more challenging as PI3K is an atypical kinase and thus less similar to EGFR than for example ErbB2 used in Profile 1. Profile 3, comprised of EGFR and **VEGFR2** as targets and BRAF as anti-target, was contrasted with the hit rate that we found with a standard docking against the single target VEGFR2 (Profile 4).\n",
    "> To broaden the comparison and obtain an estimate for the promiscuity of each compound, the kinases **CDK2**, **LCK**, **MET** and **p38α** were included in the experimental assay panel and the structure-based bioinformatics comparison as commonly used anti-targets.\n",
    "\n",
    "*Table 1:* \n",
    "Kinases used in this notebook, adapted from [<i>Molecules</i> (2021), <b>26(3)</b>, 629](https://www.mdpi.com/1420-3049/26/3/629), with their synonyms, UniProt IDs, and kinase groups.\n",
    "\n",
    "| Kinase                     | Synonyms               | UniProt ID | Group    | Full kinase name                                 |\n",
    "|----------------------------|------------------------|------------|----------|--------------------------------------------------|\n",
    "| EGFR                       | ErbB1                  | P00533     | TK       | Epidermal growth factor receptor                 |\n",
    "| ErbB2                      | Her2                   | P04626     | TK       | Erythroblastic leukemia viral oncogene homolog 2 |\n",
    "| PI3K                       | PI3KCA, p110a          | P42336     | Atypical | Phosphatidylinositol-3-kinase                    |\n",
    "| VEGFR2                     | KDR                    | P35968     | TK       | Vascular endothelial growth factor receptor 2    |\n",
    "| BRAF                       | -                      | P15056     | TKL      | Rapidly accelerated fibrosarcoma isoform B       |\n",
    "| CDK2                       | -                      | P24941     | CMGC     | Cyclic-dependent kinase 2                        |\n",
    "| LCK                        | -                      | P06239     | TK       | Lymphocyte-specific protein tyrosine kinase      |\n",
    "| MET                        | -                      | P08581     | TK       | Mesenchymal-epithelial transition factor         |\n",
    "| p38a                       | MAPK14                 | Q16539     | CMGC     | p38 mitogen activated protein kinase α           |"
   ]
  },
  {
   "cell_type": "markdown",
   "metadata": {},
   "source": [
    "### Kinase similarity descriptor: XXX\n",
    "\n",
    "Describe the dataset describing kinase similarity and how we use it.\n",
    "\n",
    "- XXX = KLIFS pocket sequence\n",
    "- XXX = KiSSim fingerprint\n",
    "- XXX = KLIFS IFP\n",
    "- XXX = Ligand promiscuity: ChEMBL28, bioactivity"
   ]
  },
  {
   "cell_type": "markdown",
   "metadata": {},
   "source": [
    "Lorem ipsum dolor sit amet, consetetur sadipscing elitr, sed diam nonumy eirmod tempor invidunt ut labore et dolore magna aliquyam erat, sed diam voluptua. At vero eos et accusam et justo duo dolores et ea rebum. Stet clita kasd gubergren, no sea takimata sanctus est Lorem ipsum dolor sit amet. Lorem ipsum dolor sit amet, consetetur sadipscing elitr, sed diam nonumy eirmod tempor invidunt ut labore et dolore magna aliquyam erat, sed diam voluptua. At vero eos et accusam et justo duo dolores et ea rebum. Stet clita kasd gubergren, no sea takimata sanctus est Lorem ipsum dolor sit amet."
   ]
  },
  {
   "cell_type": "markdown",
   "metadata": {},
   "source": [
    "$pIC_{50} = -log_{10}(IC_{50}*10^{-9})= 9-log_{10}(IC_{50}) $"
   ]
  },
  {
   "cell_type": "markdown",
   "metadata": {},
   "source": [
    "<div class=\"alert alert-block alert-info\">\n",
    "    \n",
    "<b>Formulas</b>: Please use LaTeX to format formulas.\n",
    "</div>"
   ]
  },
  {
   "cell_type": "markdown",
   "metadata": {},
   "source": [
    "If you place links, please link descriptive words.\n",
    "\n",
    "> __Yes__: [ChEMBL](https://www.ebi.ac.uk/chembl/) is a manually curated database of bioactive molecules\n",
    "\n",
    "> __No__: ChEMBL ([here](https://www.ebi.ac.uk/chembl/)) is a manually curated database of bioactive molecules"
   ]
  },
  {
   "cell_type": "markdown",
   "metadata": {},
   "source": [
    "## Practical"
   ]
  },
  {
   "cell_type": "code",
   "execution_count": 1,
   "metadata": {},
   "outputs": [],
   "source": [
    "from pathlib import Path\n",
    "\n",
    "import pandas as pd\n",
    "import matplotlib.pyplot as plt\n",
    "from scipy.spatial import distance_matrix, distance\n",
    "from scipy.cluster import hierarchy"
   ]
  },
  {
   "cell_type": "code",
   "execution_count": 2,
   "metadata": {},
   "outputs": [],
   "source": [
    "HERE = Path(_dh[-1])\n",
    "DATA = HERE / \"data\""
   ]
  },
  {
   "cell_type": "markdown",
   "metadata": {},
   "source": [
    "### Load kinase matrices"
   ]
  },
  {
   "cell_type": "code",
   "execution_count": 3,
   "metadata": {},
   "outputs": [],
   "source": [
    "kinase_distance_matrix_paths = {\n",
    "    \"kissim\": HERE / \"../T025_kinase_similarity_kissim/data/kinase_distance_matrix_kissim.csv\",\n",
    "    \"ifp\": HERE / \"../T026_kinase_similarity_ifp/data/kinase_distance_matrix_ifp.csv\",\n",
    "}"
   ]
  },
  {
   "cell_type": "code",
   "execution_count": 4,
   "metadata": {},
   "outputs": [
    {
     "data": {
      "text/plain": [
       "{'kissim': PosixPath('/home/dominique/Documents/Work/GitHub/teachopencadd/teachopencadd/talktorials/T028_kinase_similarity_compare_perspectives/../T025_kinase_similarity_kissim/data/kinase_distance_matrix_kissim.csv'),\n",
       " 'ifp': PosixPath('/home/dominique/Documents/Work/GitHub/teachopencadd/teachopencadd/talktorials/T028_kinase_similarity_compare_perspectives/../T026_kinase_similarity_ifp/data/kinase_distance_matrix_ifp.csv')}"
      ]
     },
     "execution_count": 4,
     "metadata": {},
     "output_type": "execute_result"
    }
   ],
   "source": [
    "kinase_distance_matrix_paths"
   ]
  },
  {
   "cell_type": "code",
   "execution_count": 5,
   "metadata": {},
   "outputs": [],
   "source": [
    "kinase_distance_matrices = {}\n",
    "for kinsim_perspective, path in kinase_distance_matrix_paths.items():\n",
    "    kinase_distance_matrices[kinsim_perspective] = pd.read_csv(path, index_col=0)"
   ]
  },
  {
   "cell_type": "code",
   "execution_count": 6,
   "metadata": {},
   "outputs": [
    {
     "data": {
      "text/plain": [
       "{'kissim':             BRAF       CDK2       EGFR      ErbB2        KDR        LCK  \\\n",
       " BRAF    0.000000  17.156339  19.515299  21.382788  21.089165  21.582682   \n",
       " CDK2   17.156339   0.000000  18.146634  21.106349  19.880467  17.972925   \n",
       " EGFR   19.515299  18.146634   0.000000  16.391994  17.281650  16.467225   \n",
       " ErbB2  21.382788  21.106349  16.391994   0.000000  23.850592  23.880970   \n",
       " KDR    21.089165  19.880467  17.281650  23.850592   0.000000  19.254898   \n",
       " LCK    21.582682  17.972925  16.467225  23.880970  19.254898   0.000000   \n",
       " MET    20.297483  18.304288  17.498395  22.563236  20.430532  19.221161   \n",
       " p110a  37.610863  36.780071  36.046207  41.277474  41.104455  39.022018   \n",
       " p38a   21.731421  19.480656  22.127617  24.681708  20.262541  22.456693   \n",
       " \n",
       "              MET      p110a       p38a  \n",
       " BRAF   20.297483  37.610863  21.731421  \n",
       " CDK2   18.304288  36.780071  19.480656  \n",
       " EGFR   17.498395  36.046207  22.127617  \n",
       " ErbB2  22.563236  41.277474  24.681708  \n",
       " KDR    20.430532  41.104455  20.262541  \n",
       " LCK    19.221161  39.022018  22.456693  \n",
       " MET     0.000000  39.414278  21.982655  \n",
       " p110a  39.414278   0.000000  38.529748  \n",
       " p38a   21.982655  38.529748   0.000000  ,\n",
       " 'ifp':            BRAF      CDK2      EGFR     ErbB2       KDR       LCK       MET  \\\n",
       " BRAF   0.000000  0.300000  0.277778  0.393939  0.363636  0.320000  0.368421   \n",
       " CDK2   0.300000  0.000000  0.111111  0.451613  0.238095  0.190476  0.133333   \n",
       " EGFR   0.277778  0.111111  0.000000  0.258065  0.238095  0.166667  0.227273   \n",
       " ErbB2  0.393939  0.451613  0.258065  0.000000  0.406250  0.419355  0.382353   \n",
       " KDR    0.363636  0.238095  0.238095  0.406250  0.000000  0.058824  0.333333   \n",
       " LCK    0.320000  0.190476  0.166667  0.419355  0.058824  0.000000  0.250000   \n",
       " MET    0.368421  0.133333  0.227273  0.382353  0.333333  0.250000  0.000000   \n",
       " p110a  0.500000  0.347826  0.380952  0.571429  0.533333  0.375000  0.428571   \n",
       " p38a   0.333333  0.277778  0.173913  0.258065  0.043478  0.190476  0.352941   \n",
       " \n",
       "           p110a      p38a  \n",
       " BRAF   0.500000  0.333333  \n",
       " CDK2   0.347826  0.277778  \n",
       " EGFR   0.380952  0.173913  \n",
       " ErbB2  0.571429  0.258065  \n",
       " KDR    0.533333  0.043478  \n",
       " LCK    0.375000  0.190476  \n",
       " MET    0.428571  0.352941  \n",
       " p110a  0.000000  0.473684  \n",
       " p38a   0.473684  0.000000  }"
      ]
     },
     "execution_count": 6,
     "metadata": {},
     "output_type": "execute_result"
    }
   ],
   "source": [
    "kinase_distance_matrices"
   ]
  },
  {
   "cell_type": "markdown",
   "metadata": {},
   "source": [
    "### Visualize similarity for example perspective"
   ]
  },
  {
   "cell_type": "code",
   "execution_count": 7,
   "metadata": {},
   "outputs": [],
   "source": [
    "kinase_distance_matrix = kinase_distance_matrices[\"ifp\"]"
   ]
  },
  {
   "cell_type": "markdown",
   "metadata": {
    "tags": []
   },
   "source": [
    "#### Visualize kinase matrix\n",
    "\n",
    "We visualize the kinase matrix in the form of a heatmap."
   ]
  },
  {
   "cell_type": "code",
   "execution_count": 8,
   "metadata": {},
   "outputs": [
    {
     "data": {
      "image/png": "[encoded data removed]",
      "text/plain": [
       "<Figure size 432x288 with 2 Axes>"
      ]
     },
     "metadata": {
      "needs_background": "light"
     },
     "output_type": "display_data"
    }
   ],
   "source": [
    "#plt.imshow(kinase_distance_matrix, vmin=0.0, vmax=1.0)\n",
    "plt.imshow(kinase_distance_matrix)\n",
    "plt.colorbar(label=\"Kinase similarity\")\n",
    "plt.title(\"Kinase distance matrix\")\n",
    "kinase_names = kinase_distance_matrix.columns.to_list()\n",
    "plt.xticks(ticks=range(0, len(kinase_names)), labels=kinase_names, rotation=45)\n",
    "plt.yticks(ticks=range(0, len(kinase_names)), labels=kinase_names);"
   ]
  },
  {
   "cell_type": "markdown",
   "metadata": {
    "tags": []
   },
   "source": [
    "#### Visualize similarity as dendrogram"
   ]
  },
  {
   "cell_type": "markdown",
   "metadata": {},
   "source": [
    "We use the `scipy` function `squareform` to create a condensed vector of the distance matrix of shape $n*(n-1)/2$, where $n$ is the shape of the quadratic distance matrix. The values in this vector correspond to the values of the lower triangular matrix."
   ]
  },
  {
   "cell_type": "code",
   "execution_count": 9,
   "metadata": {},
   "outputs": [
    {
     "data": {
      "text/plain": [
       "array([0.3       , 0.27777778, 0.39393939, 0.36363636, 0.32      ,\n",
       "       0.36842105, 0.5       , 0.33333333, 0.11111111, 0.4516129 ,\n",
       "       0.23809524, 0.19047619, 0.13333333, 0.34782609, 0.27777778,\n",
       "       0.25806452, 0.23809524, 0.16666667, 0.22727273, 0.38095238,\n",
       "       0.17391304, 0.40625   , 0.41935484, 0.38235294, 0.57142857,\n",
       "       0.25806452, 0.05882353, 0.33333333, 0.53333333, 0.04347826,\n",
       "       0.25      , 0.375     , 0.19047619, 0.42857143, 0.35294118,\n",
       "       0.47368421])"
      ]
     },
     "execution_count": 9,
     "metadata": {},
     "output_type": "execute_result"
    }
   ],
   "source": [
    "D = kinase_distance_matrix.values\n",
    "D_condensed = distance.squareform(D)\n",
    "D_condensed"
   ]
  },
  {
   "cell_type": "markdown",
   "metadata": {},
   "source": [
    "We can submit this condensed vector to a hierarchical clustering to extract the relationship between the different kinases. We use here `method=\"average\"`, which stands for the linkage method UPGMA (unweighted pair group method with arithmetic mean). This means that the distance between two clusters A and B is defined as the average of all distances between pairs of elements in clusters A and B. At each clustering step, the two clusters with the lowest average distance are combined."
   ]
  },
  {
   "cell_type": "code",
   "execution_count": 10,
   "metadata": {},
   "outputs": [],
   "source": [
    "hclust = hierarchy.linkage(D_condensed, method=\"average\")"
   ]
  },
  {
   "cell_type": "markdown",
   "metadata": {},
   "source": [
    "We now generate a phylogenetic tree based on our clustering."
   ]
  },
  {
   "cell_type": "code",
   "execution_count": 11,
   "metadata": {},
   "outputs": [],
   "source": [
    "tree = hierarchy.to_tree(hclust)"
   ]
  },
  {
   "cell_type": "markdown",
   "metadata": {},
   "source": [
    "We visualize this tree as dendrogram."
   ]
  },
  {
   "cell_type": "code",
   "execution_count": 12,
   "metadata": {},
   "outputs": [
    {
     "data": {
      "image/png": "[encoded data removed]",
      "text/plain": [
       "<Figure size 432x288 with 1 Axes>"
      ]
     },
     "metadata": {
      "needs_background": "light"
     },
     "output_type": "display_data"
    }
   ],
   "source": [
    "fig, ax = plt.subplots()\n",
    "labels = kinase_distance_matrix.columns.to_list()\n",
    "hierarchy.dendrogram(hclust, labels=labels, orientation=\"left\", ax=ax)\n",
    "ax.set_xlabel(\"Distance\");"
   ]
  },
  {
   "cell_type": "markdown",
   "metadata": {},
   "source": [
    "### Visualize similarities from different perspectives"
   ]
  },
  {
   "cell_type": "code",
   "execution_count": null,
   "metadata": {},
   "outputs": [],
   "source": []
  },
  {
   "cell_type": "markdown",
   "metadata": {},
   "source": [
    "## Discussion\n",
    "\n",
    "Wrap up the talktorial's content here and discuss pros/cons and open questions/challenges."
   ]
  },
  {
   "cell_type": "markdown",
   "metadata": {},
   "source": [
    "## Quiz\n",
    "\n",
    "Ask three questions that the user should be able to answer after doing this talktorial. Choose important take-aways from this talktorial for your questions.\n",
    "\n",
    "1. Question\n",
    "2. Question\n",
    "3. Question"
   ]
  },
  {
   "cell_type": "code",
   "execution_count": null,
   "metadata": {},
   "outputs": [],
   "source": []
  }
 ],
 "metadata": {
  "kernelspec": {
   "display_name": "Python 3 (ipykernel)",
   "language": "python",
   "name": "python3"
  },
  "language_info": {
   "codemirror_mode": {
    "name": "ipython",
    "version": 3
   },
   "file_extension": ".py",
   "mimetype": "text/x-python",
   "name": "python",
   "nbconvert_exporter": "python",
   "pygments_lexer": "ipython3",
   "version": "3.9.6"
  },
  "toc-autonumbering": true,
  "widgets": {
   "application/vnd.jupyter.widget-state+json": {
    "state": {},
    "version_major": 2,
    "version_minor": 0
   }
  }
 },
 "nbformat": 4,
 "nbformat_minor": 4
}
