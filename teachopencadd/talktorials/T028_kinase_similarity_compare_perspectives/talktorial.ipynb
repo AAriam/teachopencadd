{
 "cells": [
  {
   "cell_type": "markdown",
   "metadata": {},
   "source": [
    "# T028 · Kinase similarity: Compare different perspectives\n",
    "\n",
    "Authors:\n",
    "\n",
    "- Talia B. Kimber, 2021, [Volkamer lab, Charité](https://volkamerlab.org/)\n",
    "- Dominique Sydow, 2021, [Volkamer lab, Charité](https://volkamerlab.org/)\n",
    "- Andrea Volkamer, 2021, [Volkamer lab, Charité](https://volkamerlab.org/)"
   ]
  },
  {
   "cell_type": "markdown",
   "metadata": {},
   "source": [
    "## Aim of this talktorial\n",
    "\n",
    "We will compare different perspectives on kinase similarity, which were discussed in detail in previous notebooks:\n",
    "\n",
    "* **Talktorial T024**: Kinase pocket sequences (KLIFS pocket sequences)\n",
    "* **Talktorial T025**: Kinase pocket structures (KiSSim fingerprint based on KLIFS pocket residues)\n",
    "* **Talktorial T026**: Kinase-ligand interaction profiles (KLIFS IFPs based on KLIFS pocket residues)\n",
    "* **Talktorial T027**: Ligand profiling data"
   ]
  },
  {
   "cell_type": "markdown",
   "metadata": {},
   "source": [
    "### Contents in *Theory*\n",
    "\n",
    "* Kinase dataset\n",
    "* Kinase similarity descriptor (considering 4 different aspects)"
   ]
  },
  {
   "cell_type": "markdown",
   "metadata": {},
   "source": [
    "### Contents in *Practical*\n",
    "\n",
    "* Retrieve and preprocess data\n",
    "* Show kinase coverage\n",
    "* Compare kinases\n",
    "* Visualize similarity as kinase matrix\n",
    "* Visualize similarity as phylogenetic tree"
   ]
  },
  {
   "cell_type": "markdown",
   "metadata": {},
   "source": [
    "### References\n",
    "\n",
    "* Kinase dataset: [<i>Molecules</i> (2021), <b>26(3)</b>, 629](https://www.mdpi.com/1420-3049/26/3/629) "
   ]
  },
  {
   "cell_type": "markdown",
   "metadata": {},
   "source": [
    "## Theory"
   ]
  },
  {
   "cell_type": "markdown",
   "metadata": {},
   "source": [
    "### Kinase dataset"
   ]
  },
  {
   "cell_type": "markdown",
   "metadata": {},
   "source": [
    "We use the kinase selection as defined in __Talktorial T023__."
   ]
  },
  {
   "cell_type": "markdown",
   "metadata": {},
   "source": [
    "### Kinase similarity descriptor (considering 4 different aspects)\n",
    "\n",
    "- __Talktorial T024__ = KLIFS pocket sequence\n",
    "- __Talktorial T025__ = KiSSim fingerprint\n",
    "- __Talktorial T026__ = KLIFS interaction fingerprint\n",
    "- __Talktorial T027__ = Ligand profile: ChEMBL29, bioactivity"
   ]
  },
  {
   "cell_type": "markdown",
   "metadata": {},
   "source": [
    "## Practical"
   ]
  },
  {
   "cell_type": "code",
   "execution_count": 1,
   "metadata": {},
   "outputs": [],
   "source": [
    "from pathlib import Path\n",
    "\n",
    "import pandas as pd\n",
    "import matplotlib.pyplot as plt\n",
    "import numpy as np\n",
    "from scipy.spatial import distance_matrix, distance\n",
    "from scipy.cluster import hierarchy"
   ]
  },
  {
   "cell_type": "code",
   "execution_count": 2,
   "metadata": {},
   "outputs": [],
   "source": [
    "HERE = Path(_dh[-1])\n",
    "DATA = HERE / \"data\""
   ]
  },
  {
   "cell_type": "markdown",
   "metadata": {},
   "source": [
    "### Load kinase matrices"
   ]
  },
  {
   "cell_type": "markdown",
   "metadata": {},
   "source": [
    "We define the paths to the kinase distance matrices."
   ]
  },
  {
   "cell_type": "code",
   "execution_count": 3,
   "metadata": {},
   "outputs": [],
   "source": [
    "kinase_distance_matrix_paths = {\n",
    "    \"sequence\": \"T024_kinase_similarity_sequence\",\n",
    "    \"kissim\": \"T025_kinase_similarity_kissim\",\n",
    "    \"ifp\": \"T026_kinase_similarity_ifp\",\n",
    "    \"ligand-profile\": \"T027_kinase_similarity_ligand_profile\"\n",
    "}\n",
    "kinase_distance_matrix_paths = {\n",
    "    perspective: HERE / f\"../{folder_name}/data/kinase_distance_matrix.csv\" \n",
    "    for perspective, folder_name in kinase_distance_matrix_paths.items()\n",
    "}"
   ]
  },
  {
   "cell_type": "markdown",
   "metadata": {},
   "source": [
    "We load the distance matrices."
   ]
  },
  {
   "cell_type": "code",
   "execution_count": 4,
   "metadata": {},
   "outputs": [],
   "source": [
    "kinase_distance_matrices = {}\n",
    "for kinsim_perspective, path in kinase_distance_matrix_paths.items():\n",
    "    kinase_distance_matrices[kinsim_perspective] = pd.read_csv(path, index_col=0).round(6)"
   ]
  },
  {
   "cell_type": "markdown",
   "metadata": {},
   "source": [
    "We check if the matrices have the same dimensions"
   ]
  },
  {
   "cell_type": "code",
   "execution_count": 5,
   "metadata": {},
   "outputs": [
    {
     "name": "stdout",
     "output_type": "stream",
     "text": [
      "Shape of sequence matrix: (9, 9)\n",
      "Shape of kissim matrix: (9, 9)\n",
      "Shape of ifp matrix: (9, 9)\n",
      "Shape of ligand-profile matrix: (9, 9)\n"
     ]
    }
   ],
   "source": [
    "for descriptor, similarity_df in kinase_distance_matrices.items():\n",
    "    print(f\"Shape of {descriptor} matrix: {similarity_df.shape}\")"
   ]
  },
  {
   "cell_type": "markdown",
   "metadata": {},
   "source": [
    "We check the distances."
   ]
  },
  {
   "cell_type": "code",
   "execution_count": 6,
   "metadata": {},
   "outputs": [
    {
     "data": {
      "text/plain": [
       "{'sequence':            EGFR     ErbB2     p110a       KDR      BRAF      CDK2       LCK  \\\n",
       " EGFR   0.000000  0.059037  0.572938  0.283953  0.344972  0.351553  0.288679   \n",
       " ErbB2  0.059037  0.000000  0.586362  0.297882  0.345400  0.369692  0.314925   \n",
       " p110a  0.572938  0.586362  0.000000  0.577295  0.563541  0.576006  0.548664   \n",
       " KDR    0.283953  0.297882  0.577295  0.000000  0.328732  0.346621  0.312352   \n",
       " BRAF   0.344972  0.345400  0.563541  0.328732  0.000000  0.353245  0.327067   \n",
       " CDK2   0.351553  0.369692  0.576006  0.346621  0.353245  0.000000  0.318747   \n",
       " LCK    0.288679  0.314925  0.548664  0.312352  0.327067  0.318747  0.000000   \n",
       " MET    0.288742  0.302033  0.606301  0.286194  0.361842  0.343975  0.309121   \n",
       " p38a   0.355356  0.364827  0.568806  0.346556  0.362088  0.276907  0.337419   \n",
       " \n",
       "             MET      p38a  \n",
       " EGFR   0.288742  0.355356  \n",
       " ErbB2  0.302033  0.364827  \n",
       " p110a  0.606301  0.568806  \n",
       " KDR    0.286194  0.346556  \n",
       " BRAF   0.361842  0.362088  \n",
       " CDK2   0.343975  0.276907  \n",
       " LCK    0.309121  0.337419  \n",
       " MET    0.000000  0.370645  \n",
       " p38a   0.370645  0.000000  ,\n",
       " 'kissim':             BRAF       CDK2       EGFR      ErbB2        KDR        LCK  \\\n",
       " BRAF    0.000000  17.156339  19.515299  21.382788  21.089165  21.582682   \n",
       " CDK2   17.156339   0.000000  18.146634  21.106349  19.880467  17.972925   \n",
       " EGFR   19.515299  18.146634   0.000000  16.391994  17.281650  16.467225   \n",
       " ErbB2  21.382788  21.106349  16.391994   0.000000  23.850592  23.880970   \n",
       " KDR    21.089165  19.880467  17.281650  23.850592   0.000000  19.254898   \n",
       " LCK    21.582682  17.972925  16.467225  23.880970  19.254898   0.000000   \n",
       " MET    20.297483  18.304288  17.498395  22.563236  20.430532  19.221161   \n",
       " p110a  37.610863  36.780071  36.046207  41.277474  41.104455  39.022018   \n",
       " p38a   21.731421  19.480656  22.127617  24.681708  20.262541  22.456693   \n",
       " \n",
       "              MET      p110a       p38a  \n",
       " BRAF   20.297483  37.610863  21.731421  \n",
       " CDK2   18.304288  36.780071  19.480656  \n",
       " EGFR   17.498395  36.046207  22.127617  \n",
       " ErbB2  22.563236  41.277474  24.681708  \n",
       " KDR    20.430532  41.104455  20.262541  \n",
       " LCK    19.221161  39.022018  22.456693  \n",
       " MET     0.000000  39.414278  21.982655  \n",
       " p110a  39.414278   0.000000  38.529748  \n",
       " p38a   21.982655  38.529748   0.000000  ,\n",
       " 'ifp':            BRAF      CDK2      EGFR     ErbB2       KDR       LCK       MET  \\\n",
       " BRAF   0.000000  0.300000  0.277778  0.393939  0.363636  0.320000  0.368421   \n",
       " CDK2   0.300000  0.000000  0.111111  0.451613  0.238095  0.190476  0.133333   \n",
       " EGFR   0.277778  0.111111  0.000000  0.258065  0.238095  0.166667  0.227273   \n",
       " ErbB2  0.393939  0.451613  0.258065  0.000000  0.406250  0.419355  0.382353   \n",
       " KDR    0.363636  0.238095  0.238095  0.406250  0.000000  0.058824  0.333333   \n",
       " LCK    0.320000  0.190476  0.166667  0.419355  0.058824  0.000000  0.250000   \n",
       " MET    0.368421  0.133333  0.227273  0.382353  0.333333  0.250000  0.000000   \n",
       " p110a  0.500000  0.347826  0.380952  0.571429  0.533333  0.375000  0.428571   \n",
       " p38a   0.333333  0.277778  0.173913  0.258065  0.043478  0.190476  0.352941   \n",
       " \n",
       "           p110a      p38a  \n",
       " BRAF   0.500000  0.333333  \n",
       " CDK2   0.347826  0.277778  \n",
       " EGFR   0.380952  0.173913  \n",
       " ErbB2  0.571429  0.258065  \n",
       " KDR    0.533333  0.043478  \n",
       " LCK    0.375000  0.190476  \n",
       " MET    0.428571  0.352941  \n",
       " p110a  0.000000  0.473684  \n",
       " p38a   0.473684  0.000000  ,\n",
       " 'ligand-profile':            EGFR     ErbB2     p110a       KDR      BRAF      CDK2       LCK  \\\n",
       " EGFR   0.000000  0.434188  0.927374  0.649496  0.542373  0.875000  0.753968   \n",
       " ErbB2  0.434188  0.000000  1.000000  0.600000  0.750000  0.851852  0.848485   \n",
       " p110a  0.927374  1.000000  0.000000  0.816092  0.666667  0.666667  1.000000   \n",
       " KDR    0.649496  0.600000  0.816092  0.000000  0.240458  0.382609  0.566586   \n",
       " BRAF   0.542373  0.750000  0.666667  0.240458  0.000000  0.923077  0.450000   \n",
       " CDK2   0.875000  0.851852  0.666667  0.382609  0.923077  0.000000  0.888889   \n",
       " LCK    0.753968  0.848485  1.000000  0.566586  0.450000  0.888889  0.000000   \n",
       " MET    0.771739  0.964286  1.000000  0.458824  0.884615  0.909091  0.730159   \n",
       " p38a   0.653846  0.875000  1.000000  0.483607  0.292683  0.888889  0.500000   \n",
       " \n",
       "             MET      p38a  \n",
       " EGFR   0.771739  0.653846  \n",
       " ErbB2  0.964286  0.875000  \n",
       " p110a  1.000000  1.000000  \n",
       " KDR    0.458824  0.483607  \n",
       " BRAF   0.884615  0.292683  \n",
       " CDK2   0.909091  0.888889  \n",
       " LCK    0.730159  0.500000  \n",
       " MET    0.000000  0.950000  \n",
       " p38a   0.950000  0.000000  }"
      ]
     },
     "execution_count": 6,
     "metadata": {},
     "output_type": "execute_result"
    }
   ],
   "source": [
    "kinase_distance_matrices"
   ]
  },
  {
   "cell_type": "markdown",
   "metadata": {
    "tags": []
   },
   "source": [
    "### Visualize similarity for example perspective"
   ]
  },
  {
   "cell_type": "code",
   "execution_count": 7,
   "metadata": {},
   "outputs": [
    {
     "name": "stdout",
     "output_type": "stream",
     "text": [
      "Choices of precalculated descriptors: dict_keys(['sequence', 'kissim', 'ifp', 'ligand-profile'])\n"
     ]
    }
   ],
   "source": [
    "print(f\"Choices of precalculated descriptors: {kinase_distance_matrix_paths.keys()}\")"
   ]
  },
  {
   "cell_type": "markdown",
   "metadata": {},
   "source": [
    "We look at an example matrix:"
   ]
  },
  {
   "cell_type": "code",
   "execution_count": 8,
   "metadata": {},
   "outputs": [],
   "source": [
    "descriptor_selection = \"sequence\""
   ]
  },
  {
   "cell_type": "code",
   "execution_count": 9,
   "metadata": {},
   "outputs": [
    {
     "data": {
      "text/html": [
       "<div>\n",
       "<style scoped>\n",
       "    .dataframe tbody tr th:only-of-type {\n",
       "        vertical-align: middle;\n",
       "    }\n",
       "\n",
       "    .dataframe tbody tr th {\n",
       "        vertical-align: top;\n",
       "    }\n",
       "\n",
       "    .dataframe thead th {\n",
       "        text-align: right;\n",
       "    }\n",
       "</style>\n",
       "<table border=\"1\" class=\"dataframe\">\n",
       "  <thead>\n",
       "    <tr style=\"text-align: right;\">\n",
       "      <th></th>\n",
       "      <th>EGFR</th>\n",
       "      <th>ErbB2</th>\n",
       "      <th>p110a</th>\n",
       "      <th>KDR</th>\n",
       "      <th>BRAF</th>\n",
       "      <th>CDK2</th>\n",
       "      <th>LCK</th>\n",
       "      <th>MET</th>\n",
       "      <th>p38a</th>\n",
       "    </tr>\n",
       "  </thead>\n",
       "  <tbody>\n",
       "    <tr>\n",
       "      <th>EGFR</th>\n",
       "      <td>0.000000</td>\n",
       "      <td>0.059037</td>\n",
       "      <td>0.572938</td>\n",
       "      <td>0.283953</td>\n",
       "      <td>0.344972</td>\n",
       "      <td>0.351553</td>\n",
       "      <td>0.288679</td>\n",
       "      <td>0.288742</td>\n",
       "      <td>0.355356</td>\n",
       "    </tr>\n",
       "    <tr>\n",
       "      <th>ErbB2</th>\n",
       "      <td>0.059037</td>\n",
       "      <td>0.000000</td>\n",
       "      <td>0.586362</td>\n",
       "      <td>0.297882</td>\n",
       "      <td>0.345400</td>\n",
       "      <td>0.369692</td>\n",
       "      <td>0.314925</td>\n",
       "      <td>0.302033</td>\n",
       "      <td>0.364827</td>\n",
       "    </tr>\n",
       "    <tr>\n",
       "      <th>p110a</th>\n",
       "      <td>0.572938</td>\n",
       "      <td>0.586362</td>\n",
       "      <td>0.000000</td>\n",
       "      <td>0.577295</td>\n",
       "      <td>0.563541</td>\n",
       "      <td>0.576006</td>\n",
       "      <td>0.548664</td>\n",
       "      <td>0.606301</td>\n",
       "      <td>0.568806</td>\n",
       "    </tr>\n",
       "    <tr>\n",
       "      <th>KDR</th>\n",
       "      <td>0.283953</td>\n",
       "      <td>0.297882</td>\n",
       "      <td>0.577295</td>\n",
       "      <td>0.000000</td>\n",
       "      <td>0.328732</td>\n",
       "      <td>0.346621</td>\n",
       "      <td>0.312352</td>\n",
       "      <td>0.286194</td>\n",
       "      <td>0.346556</td>\n",
       "    </tr>\n",
       "    <tr>\n",
       "      <th>BRAF</th>\n",
       "      <td>0.344972</td>\n",
       "      <td>0.345400</td>\n",
       "      <td>0.563541</td>\n",
       "      <td>0.328732</td>\n",
       "      <td>0.000000</td>\n",
       "      <td>0.353245</td>\n",
       "      <td>0.327067</td>\n",
       "      <td>0.361842</td>\n",
       "      <td>0.362088</td>\n",
       "    </tr>\n",
       "    <tr>\n",
       "      <th>CDK2</th>\n",
       "      <td>0.351553</td>\n",
       "      <td>0.369692</td>\n",
       "      <td>0.576006</td>\n",
       "      <td>0.346621</td>\n",
       "      <td>0.353245</td>\n",
       "      <td>0.000000</td>\n",
       "      <td>0.318747</td>\n",
       "      <td>0.343975</td>\n",
       "      <td>0.276907</td>\n",
       "    </tr>\n",
       "    <tr>\n",
       "      <th>LCK</th>\n",
       "      <td>0.288679</td>\n",
       "      <td>0.314925</td>\n",
       "      <td>0.548664</td>\n",
       "      <td>0.312352</td>\n",
       "      <td>0.327067</td>\n",
       "      <td>0.318747</td>\n",
       "      <td>0.000000</td>\n",
       "      <td>0.309121</td>\n",
       "      <td>0.337419</td>\n",
       "    </tr>\n",
       "    <tr>\n",
       "      <th>MET</th>\n",
       "      <td>0.288742</td>\n",
       "      <td>0.302033</td>\n",
       "      <td>0.606301</td>\n",
       "      <td>0.286194</td>\n",
       "      <td>0.361842</td>\n",
       "      <td>0.343975</td>\n",
       "      <td>0.309121</td>\n",
       "      <td>0.000000</td>\n",
       "      <td>0.370645</td>\n",
       "    </tr>\n",
       "    <tr>\n",
       "      <th>p38a</th>\n",
       "      <td>0.355356</td>\n",
       "      <td>0.364827</td>\n",
       "      <td>0.568806</td>\n",
       "      <td>0.346556</td>\n",
       "      <td>0.362088</td>\n",
       "      <td>0.276907</td>\n",
       "      <td>0.337419</td>\n",
       "      <td>0.370645</td>\n",
       "      <td>0.000000</td>\n",
       "    </tr>\n",
       "  </tbody>\n",
       "</table>\n",
       "</div>"
      ],
      "text/plain": [
       "           EGFR     ErbB2     p110a       KDR      BRAF      CDK2       LCK  \\\n",
       "EGFR   0.000000  0.059037  0.572938  0.283953  0.344972  0.351553  0.288679   \n",
       "ErbB2  0.059037  0.000000  0.586362  0.297882  0.345400  0.369692  0.314925   \n",
       "p110a  0.572938  0.586362  0.000000  0.577295  0.563541  0.576006  0.548664   \n",
       "KDR    0.283953  0.297882  0.577295  0.000000  0.328732  0.346621  0.312352   \n",
       "BRAF   0.344972  0.345400  0.563541  0.328732  0.000000  0.353245  0.327067   \n",
       "CDK2   0.351553  0.369692  0.576006  0.346621  0.353245  0.000000  0.318747   \n",
       "LCK    0.288679  0.314925  0.548664  0.312352  0.327067  0.318747  0.000000   \n",
       "MET    0.288742  0.302033  0.606301  0.286194  0.361842  0.343975  0.309121   \n",
       "p38a   0.355356  0.364827  0.568806  0.346556  0.362088  0.276907  0.337419   \n",
       "\n",
       "            MET      p38a  \n",
       "EGFR   0.288742  0.355356  \n",
       "ErbB2  0.302033  0.364827  \n",
       "p110a  0.606301  0.568806  \n",
       "KDR    0.286194  0.346556  \n",
       "BRAF   0.361842  0.362088  \n",
       "CDK2   0.343975  0.276907  \n",
       "LCK    0.309121  0.337419  \n",
       "MET    0.000000  0.370645  \n",
       "p38a   0.370645  0.000000  "
      ]
     },
     "execution_count": 9,
     "metadata": {},
     "output_type": "execute_result"
    }
   ],
   "source": [
    "kinase_distance_matrix = kinase_distance_matrices[descriptor_selection]\n",
    "kinase_distance_matrix"
   ]
  },
  {
   "cell_type": "markdown",
   "metadata": {
    "tags": []
   },
   "source": [
    "#### Visualize kinase matrix\n",
    "\n",
    "We visualize the kinase matrix in the form of a heatmap."
   ]
  },
  {
   "cell_type": "code",
   "execution_count": 10,
   "metadata": {},
   "outputs": [
    {
     "data": {
      "image/png": "[encoded data removed]",
      "text/plain": [
       "<Figure size 432x288 with 2 Axes>"
      ]
     },
     "metadata": {
      "needs_background": "light"
     },
     "output_type": "display_data"
    }
   ],
   "source": [
    "plt.imshow(kinase_distance_matrix)\n",
    "plt.colorbar(label=\"Kinase similarity\")\n",
    "plt.title(\"Kinase distance matrix\")\n",
    "kinase_names = kinase_distance_matrix.columns.to_list()\n",
    "plt.xticks(ticks=range(0, len(kinase_names)), labels=kinase_names, rotation=45)\n",
    "plt.yticks(ticks=range(0, len(kinase_names)), labels=kinase_names);"
   ]
  },
  {
   "cell_type": "markdown",
   "metadata": {
    "tags": []
   },
   "source": [
    "#### Visualize similarity as dendrogram"
   ]
  },
  {
   "cell_type": "markdown",
   "metadata": {},
   "source": [
    "We use the `scipy` function `squareform` to create a condensed vector of the distance matrix of shape $n*(n-1)/2$, where $n$ is the shape of the quadratic distance matrix. The values in this vector correspond to the values of the lower triangular matrix."
   ]
  },
  {
   "cell_type": "code",
   "execution_count": 11,
   "metadata": {},
   "outputs": [
    {
     "data": {
      "text/plain": [
       "array([0.059037, 0.572938, 0.283953, 0.344972, 0.351553, 0.288679,\n",
       "       0.288742, 0.355356, 0.586362, 0.297882, 0.3454  , 0.369692,\n",
       "       0.314925, 0.302033, 0.364827, 0.577295, 0.563541, 0.576006,\n",
       "       0.548664, 0.606301, 0.568806, 0.328732, 0.346621, 0.312352,\n",
       "       0.286194, 0.346556, 0.353245, 0.327067, 0.361842, 0.362088,\n",
       "       0.318747, 0.343975, 0.276907, 0.309121, 0.337419, 0.370645])"
      ]
     },
     "execution_count": 11,
     "metadata": {},
     "output_type": "execute_result"
    }
   ],
   "source": [
    "D = kinase_distance_matrix.values\n",
    "D_condensed = distance.squareform(D)\n",
    "D_condensed"
   ]
  },
  {
   "cell_type": "markdown",
   "metadata": {},
   "source": [
    "We can submit this condensed vector to a hierarchical clustering to extract the relationship between the different kinases. We use here `method=\"average\"`, which stands for the linkage method UPGMA (unweighted pair group method with arithmetic mean). This means that the distance between two clusters A and B is defined as the average of all distances between pairs of elements in clusters A and B. At each clustering step, the two clusters with the lowest average distance are combined."
   ]
  },
  {
   "cell_type": "code",
   "execution_count": 12,
   "metadata": {},
   "outputs": [],
   "source": [
    "hclust = hierarchy.linkage(D_condensed, method=\"average\")"
   ]
  },
  {
   "cell_type": "markdown",
   "metadata": {},
   "source": [
    "We now generate a phylogenetic tree based on our clustering."
   ]
  },
  {
   "cell_type": "code",
   "execution_count": 13,
   "metadata": {},
   "outputs": [],
   "source": [
    "tree = hierarchy.to_tree(hclust)"
   ]
  },
  {
   "cell_type": "markdown",
   "metadata": {},
   "source": [
    "We visualize this tree as dendrogram."
   ]
  },
  {
   "cell_type": "code",
   "execution_count": 14,
   "metadata": {},
   "outputs": [
    {
     "data": {
      "image/png": "[encoded data removed]",
      "text/plain": [
       "<Figure size 432x288 with 1 Axes>"
      ]
     },
     "metadata": {
      "needs_background": "light"
     },
     "output_type": "display_data"
    }
   ],
   "source": [
    "fig, ax = plt.subplots()\n",
    "labels = kinase_distance_matrix.columns.to_list()\n",
    "hierarchy.dendrogram(hclust, labels=labels, orientation=\"left\", ax=ax)\n",
    "ax.set_xlabel(\"Distance\");"
   ]
  },
  {
   "cell_type": "markdown",
   "metadata": {},
   "source": [
    "### Visualize similarities from different perspectives"
   ]
  },
  {
   "cell_type": "markdown",
   "metadata": {},
   "source": [
    "#### Normalize different matrices \n",
    "\n",
    "We normalize the different matrices to values in $[0, 1]$."
   ]
  },
  {
   "cell_type": "code",
   "execution_count": 15,
   "metadata": {},
   "outputs": [],
   "source": [
    "def _min_max_normalize(distance_matrix_df):\n",
    "    \"\"\"\n",
    "    Apply min-max normalization to input DataFrame.\n",
    "    \n",
    "    Parameters\n",
    "    ----------\n",
    "    kinase_distance_matrix_df : pd.DataFrame\n",
    "        Kinase distance matrix.\n",
    "\n",
    "    Returns\n",
    "    -------\n",
    "    pd.DataFrame\n",
    "        Normalized kinase distance matrix.\n",
    "    \"\"\"\n",
    "    min_ = distance_matrix_df.min().min()\n",
    "    max_ = distance_matrix_df.max().max()\n",
    "    distance_matrix_normalized_df = (distance_matrix_df - min_) / (max_ - min_)\n",
    "    return distance_matrix_normalized_df"
   ]
  },
  {
   "cell_type": "code",
   "execution_count": 16,
   "metadata": {},
   "outputs": [],
   "source": [
    "kinase_distance_matrices_normalized = {}\n",
    "for descriptor, similarity_df in kinase_distance_matrices.items():\n",
    "    similarity_normalized_df = _min_max_normalize(similarity_df)\n",
    "    kinase_distance_matrices_normalized[descriptor] = similarity_normalized_df"
   ]
  },
  {
   "cell_type": "markdown",
   "metadata": {},
   "source": [
    "#### Define kinase order"
   ]
  },
  {
   "cell_type": "code",
   "execution_count": 17,
   "metadata": {},
   "outputs": [],
   "source": [
    "kinases_names = kinase_distance_matrices_normalized[\"sequence\"].columns"
   ]
  },
  {
   "cell_type": "code",
   "execution_count": 18,
   "metadata": {},
   "outputs": [],
   "source": [
    "def _define_kinase_order(kinase_distance_matrix_df, kinase_names):\n",
    "    \"\"\"\n",
    "    Define the order in which kinases shall\n",
    "    appear in the input DataFrame.\n",
    "    \n",
    "    Parameters\n",
    "    ----------\n",
    "    kinase_distance_matrix_df : pd.DataFrame\n",
    "        Kinase distance matrix.\n",
    "    kinase_name : list of str\n",
    "        List of kinase names to be used for sorting.\n",
    "\n",
    "    Returns\n",
    "    -------\n",
    "    pd.DataFrame\n",
    "        Kinase distance matrix with sorted columns/rows.\n",
    "    \"\"\"\n",
    "    kinase_distance_matrix_df = kinase_distance_matrix_df \\\n",
    "        .reindex(kinases_names, axis=1) \\\n",
    "        .reindex(kinases_names, axis=0)\n",
    "    return kinase_distance_matrix_df"
   ]
  },
  {
   "cell_type": "code",
   "execution_count": 19,
   "metadata": {
    "tags": []
   },
   "outputs": [],
   "source": [
    "kinase_distance_matrices_normalized = {\n",
    "    descriptor: _define_kinase_order(similarity_df, kinase_names) \n",
    "    for descriptor, similarity_df in kinase_distance_matrices_normalized.items()\n",
    "}"
   ]
  },
  {
   "cell_type": "markdown",
   "metadata": {},
   "source": [
    "#### Visualize kinase similarities"
   ]
  },
  {
   "cell_type": "code",
   "execution_count": 20,
   "metadata": {},
   "outputs": [],
   "source": [
    "def heatmap(distance_matrix, ax=None, title=\"\"):\n",
    "    \"\"\"TODO\"\"\"\n",
    "    #plt.imshow(kinase_distance_matrix, vmin=0.0, vmax=1.0)\n",
    "    ax.imshow(distance_matrix)\n",
    "    #ax.colorbar(label=\"Kinase similarity\")\n",
    "    ax.set_title(title)\n",
    "    kinase_names = distance_matrix.columns.to_list()\n",
    "    ax.set_xticks(ticks=range(0, len(kinase_names)))\n",
    "    ax.set_xticklabels(labels=kinase_names, rotation=45)\n",
    "    ax.set_yticks(ticks=range(0, len(kinase_names)))\n",
    "    ax.set_yticklabels(labels=kinase_names)"
   ]
  },
  {
   "cell_type": "code",
   "execution_count": 21,
   "metadata": {},
   "outputs": [],
   "source": [
    "def dendrogram(distance_matrix, ax=None, title=\"\"):\n",
    "    \"\"\"TODO\"\"\"\n",
    "    D = distance_matrix.values\n",
    "    D_condensed = distance.squareform(D)\n",
    "    hclust = hierarchy.linkage(D_condensed, method=\"average\")\n",
    "    tree = hierarchy.to_tree(hclust)\n",
    "    labels = distance_matrix.columns.to_list()\n",
    "    hierarchy.dendrogram(hclust, labels=labels, orientation=\"left\", ax=ax)\n",
    "    ax.set_title(title)\n",
    "    ax.set_xlabel(\"Distance\")"
   ]
  },
  {
   "cell_type": "code",
   "execution_count": 22,
   "metadata": {},
   "outputs": [
    {
     "data": {
      "image/png": "[encoded data removed]",
      "text/plain": [
       "<Figure size 1008x720 with 8 Axes>"
      ]
     },
     "metadata": {
      "needs_background": "light"
     },
     "output_type": "display_data"
    }
   ],
   "source": [
    "n_perspectives = len(kinase_distance_matrices_normalized)\n",
    "fig, axes = plt.subplots(2, n_perspectives, figsize=(n_perspectives*3.5, 10))\n",
    "for i, (perspective, matrix) in enumerate(kinase_distance_matrices_normalized.items()):\n",
    "    heatmap(matrix, ax=axes[0][i], title=perspective)\n",
    "    dendrogram(matrix, ax=axes[1][i], title=perspective)"
   ]
  },
  {
   "cell_type": "markdown",
   "metadata": {},
   "source": [
    "We load here again the input kinase information that we defined in __Talktorial T023__."
   ]
  },
  {
   "cell_type": "code",
   "execution_count": 23,
   "metadata": {},
   "outputs": [
    {
     "data": {
      "text/html": [
       "<div>\n",
       "<style scoped>\n",
       "    .dataframe tbody tr th:only-of-type {\n",
       "        vertical-align: middle;\n",
       "    }\n",
       "\n",
       "    .dataframe tbody tr th {\n",
       "        vertical-align: top;\n",
       "    }\n",
       "\n",
       "    .dataframe thead th {\n",
       "        text-align: right;\n",
       "    }\n",
       "</style>\n",
       "<table border=\"1\" class=\"dataframe\">\n",
       "  <thead>\n",
       "    <tr style=\"text-align: right;\">\n",
       "      <th></th>\n",
       "      <th>kinase</th>\n",
       "      <th>kinase_klifs</th>\n",
       "      <th>uniprot_id</th>\n",
       "      <th>group</th>\n",
       "      <th>full_kinase_name</th>\n",
       "    </tr>\n",
       "  </thead>\n",
       "  <tbody>\n",
       "    <tr>\n",
       "      <th>0</th>\n",
       "      <td>EGFR</td>\n",
       "      <td>EGFR</td>\n",
       "      <td>P00533</td>\n",
       "      <td>TK</td>\n",
       "      <td>Epidermal growth factor receptor</td>\n",
       "    </tr>\n",
       "    <tr>\n",
       "      <th>1</th>\n",
       "      <td>ErbB2</td>\n",
       "      <td>ErbB2</td>\n",
       "      <td>P04626</td>\n",
       "      <td>TK</td>\n",
       "      <td>Erythroblastic leukemia viral oncogene homolog 2</td>\n",
       "    </tr>\n",
       "    <tr>\n",
       "      <th>2</th>\n",
       "      <td>PI3K</td>\n",
       "      <td>p110a</td>\n",
       "      <td>P42336</td>\n",
       "      <td>Atypical</td>\n",
       "      <td>Phosphatidylinositol-3-kinase</td>\n",
       "    </tr>\n",
       "    <tr>\n",
       "      <th>3</th>\n",
       "      <td>VEGFR2</td>\n",
       "      <td>KDR</td>\n",
       "      <td>P35968</td>\n",
       "      <td>TK</td>\n",
       "      <td>Vascular endothelial growth factor receptor 2</td>\n",
       "    </tr>\n",
       "    <tr>\n",
       "      <th>4</th>\n",
       "      <td>BRAF</td>\n",
       "      <td>BRAF</td>\n",
       "      <td>P15056</td>\n",
       "      <td>TKL</td>\n",
       "      <td>Rapidly accelerated fibrosarcoma isoform B</td>\n",
       "    </tr>\n",
       "    <tr>\n",
       "      <th>5</th>\n",
       "      <td>CDK2</td>\n",
       "      <td>CDK2</td>\n",
       "      <td>P24941</td>\n",
       "      <td>CMGC</td>\n",
       "      <td>Cyclic-dependent kinase 2</td>\n",
       "    </tr>\n",
       "    <tr>\n",
       "      <th>6</th>\n",
       "      <td>LCK</td>\n",
       "      <td>LCK</td>\n",
       "      <td>P06239</td>\n",
       "      <td>TK</td>\n",
       "      <td>Lymphocyte-specific protein tyrosine kinase</td>\n",
       "    </tr>\n",
       "    <tr>\n",
       "      <th>7</th>\n",
       "      <td>MET</td>\n",
       "      <td>MET</td>\n",
       "      <td>P08581</td>\n",
       "      <td>TK</td>\n",
       "      <td>Mesenchymal-epithelial transition factor</td>\n",
       "    </tr>\n",
       "    <tr>\n",
       "      <th>8</th>\n",
       "      <td>p38a</td>\n",
       "      <td>p38a</td>\n",
       "      <td>Q16539</td>\n",
       "      <td>CMGC</td>\n",
       "      <td>p38 mitogen activated protein kinase alpha</td>\n",
       "    </tr>\n",
       "  </tbody>\n",
       "</table>\n",
       "</div>"
      ],
      "text/plain": [
       "   kinase kinase_klifs uniprot_id     group  \\\n",
       "0    EGFR         EGFR     P00533        TK   \n",
       "1   ErbB2        ErbB2     P04626        TK   \n",
       "2    PI3K        p110a     P42336  Atypical   \n",
       "3  VEGFR2          KDR     P35968        TK   \n",
       "4    BRAF         BRAF     P15056       TKL   \n",
       "5    CDK2         CDK2     P24941      CMGC   \n",
       "6     LCK          LCK     P06239        TK   \n",
       "7     MET          MET     P08581        TK   \n",
       "8    p38a         p38a     Q16539      CMGC   \n",
       "\n",
       "                                   full_kinase_name  \n",
       "0                  Epidermal growth factor receptor  \n",
       "1  Erythroblastic leukemia viral oncogene homolog 2  \n",
       "2                     Phosphatidylinositol-3-kinase  \n",
       "3     Vascular endothelial growth factor receptor 2  \n",
       "4        Rapidly accelerated fibrosarcoma isoform B  \n",
       "5                         Cyclic-dependent kinase 2  \n",
       "6       Lymphocyte-specific protein tyrosine kinase  \n",
       "7          Mesenchymal-epithelial transition factor  \n",
       "8        p38 mitogen activated protein kinase alpha  "
      ]
     },
     "execution_count": 23,
     "metadata": {},
     "output_type": "execute_result"
    }
   ],
   "source": [
    "kinase_selection_df = pd.read_csv(HERE / \"../T023_what_is_a_kinase/data/kinase_selection.csv\")\n",
    "kinase_selection_df"
   ]
  },
  {
   "cell_type": "markdown",
   "metadata": {},
   "source": [
    "## Discussion\n",
    "\n",
    "- Both \"sequence\" and \"kissim\" group members of the same family close together, while showing dissimilarity to Atypical kinase (PI3K)\n",
    "- "
   ]
  },
  {
   "cell_type": "markdown",
   "metadata": {},
   "source": [
    "## Quiz\n",
    "\n",
    "Ask three questions that the user should be able to answer after doing this talktorial. Choose important take-aways from this talktorial for your questions.\n",
    "\n",
    "1. Question\n",
    "2. Question\n",
    "3. Question"
   ]
  }
 ],
 "metadata": {
  "kernelspec": {
   "display_name": "Python 3 (ipykernel)",
   "language": "python",
   "name": "python3"
  },
  "language_info": {
   "codemirror_mode": {
    "name": "ipython",
    "version": 3
   },
   "file_extension": ".py",
   "mimetype": "text/x-python",
   "name": "python",
   "nbconvert_exporter": "python",
   "pygments_lexer": "ipython3",
   "version": "3.9.7"
  },
  "toc-autonumbering": true,
  "widgets": {
   "application/vnd.jupyter.widget-state+json": {
    "state": {},
    "version_major": 2,
    "version_minor": 0
   }
  }
 },
 "nbformat": 4,
 "nbformat_minor": 4
}
