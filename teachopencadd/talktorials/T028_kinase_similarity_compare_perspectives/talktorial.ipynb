{
 "cells": [
  {
   "cell_type": "markdown",
   "metadata": {},
   "source": [
    "# T028 · Kinase similarity: Compare different perspectives\n",
    "\n",
    "Authors:\n",
    "\n",
    "- Talia B. Kimber, 2021, [Volkamer lab, Charité](https://volkamerlab.org/)\n",
    "- Dominique Sydow, 2021, [Volkamer lab, Charité](https://volkamerlab.org/)\n",
    "- Andrea Volkamer, 2021, [Volkamer lab, Charité](https://volkamerlab.org/)"
   ]
  },
  {
   "cell_type": "markdown",
   "metadata": {},
   "source": [
    "## Aim of this talktorial\n",
    "\n",
    "We will compare different perspectives on kinase similarity, which were discussed in detail in previous notebooks:\n",
    "\n",
    "* **Talktorial T024**: Kinase pocket sequences (KLIFS pocket sequences)\n",
    "* **Talktorial T025**: Kinase pocket structures (KiSSim fingerprint based on KLIFS pocket residues)\n",
    "* **Talktorial T026**: Kinase-ligand interaction profiles (KLIFS IFPs based on KLIFS pocket residues)\n",
    "* **Talktorial T027**: Ligand profiling data (using ChEMBL29 bioactivity data)"
   ]
  },
  {
   "cell_type": "markdown",
   "metadata": {},
   "source": [
    "### Contents in *Theory*\n",
    "\n",
    "* Kinase dataset\n",
    "* Kinase similarity descriptor (considering 4 different methods)\n",
    "* Distance matrix conditions"
   ]
  },
  {
   "cell_type": "markdown",
   "metadata": {},
   "source": [
    "### Contents in *Practical*\n",
    "\n",
    "* Load kinase similarity and distance matrices\n",
    "* Distance matrix conditions\n",
    "* Visualize similarity for example perspective\n",
    "  * Visualize kinase distance matrix as heatmap\n",
    "  * Visualize similarity as dendrogram\n",
    "* Visualize similarities from different perspectives\n",
    "  * Preprocess distance matrices\n",
    "    * Normalize matrices\n",
    "    * Define kinase order\n",
    "  * Visualize kinase similarities\n",
    "  * Analysis of results"
   ]
  },
  {
   "cell_type": "markdown",
   "metadata": {},
   "source": [
    "### References\n",
    "\n",
    "* Kinase dataset: [<i>Molecules</i> (2021), <b>26(3)</b>, 629](https://www.mdpi.com/1420-3049/26/3/629) \n",
    "* Clustering and dendrograms with `scipy`: https://docs.scipy.org/doc/scipy/reference/cluster.hierarchy.html\n",
    "* Distance matrix:\n",
    "    * https://en.wikipedia.org/wiki/Distance_matrix\n",
    "    * https://arxiv.org/pdf/1710.10655.pdf"
   ]
  },
  {
   "cell_type": "markdown",
   "metadata": {},
   "source": [
    "## Theory"
   ]
  },
  {
   "cell_type": "markdown",
   "metadata": {},
   "source": [
    "### Kinase dataset"
   ]
  },
  {
   "cell_type": "markdown",
   "metadata": {},
   "source": [
    "We use the kinase selection as defined in __Talktorial T023__."
   ]
  },
  {
   "cell_type": "markdown",
   "metadata": {},
   "source": [
    "### Kinase similarity descriptor (considering 4 different methods)\n",
    "\n",
    "- __Talktorial T024__ = KLIFS pocket sequence\n",
    "- __Talktorial T025__ = KiSSim fingerprint\n",
    "- __Talktorial T026__ = KLIFS interaction fingerprint\n",
    "- __Talktorial T027__ = Ligand profile: ChEMBL29, bioactivity\n",
    "\n",
    "Please refer to the talktorials for more details on each method."
   ]
  },
  {
   "cell_type": "markdown",
   "metadata": {},
   "source": [
    "### Distance matrix conditions\n",
    "\n",
    "A square, real matrix $M \\in \\mathbb{R}^{n \\times n}$ is a distance matrix if $M$ satisfies the following conditions (following the definition of distance) :\n",
    "\n",
    "1. a) Positivity: $M[x, y] \\geq 0$ for all $x, y$ and b) Null condition: $M[x, y] = 0 \\iff x = y.$\n",
    "2. Symmetry: $M[x, y] = M[y, x]$ for all $x, y.$\n",
    "3. Triangular inequality: $M[x, z] \\leq M[x, y] + M[y, z] $ for all $x, y, z.$\n",
    "\n",
    "_Technical note_: In some cases, the null condition can be relaxed and only the following has to be satisfied: $M[x, x] = 0, \\forall x.$ In this case, the term is known as semi-metric. We will use this condition in this notebook."
   ]
  },
  {
   "cell_type": "markdown",
   "metadata": {},
   "source": [
    "## Practical"
   ]
  },
  {
   "cell_type": "code",
   "execution_count": 1,
   "metadata": {},
   "outputs": [],
   "source": [
    "from pathlib import Path\n",
    "\n",
    "import numpy as np\n",
    "import pandas as pd\n",
    "import matplotlib.pyplot as plt\n",
    "import seaborn as sns\n",
    "from scipy.spatial import distance_matrix, distance\n",
    "from scipy.cluster import hierarchy"
   ]
  },
  {
   "cell_type": "code",
   "execution_count": 2,
   "metadata": {},
   "outputs": [],
   "source": [
    "HERE = Path(_dh[-1])\n",
    "DATA = HERE / \"data\""
   ]
  },
  {
   "cell_type": "markdown",
   "metadata": {},
   "source": [
    "### Load kinase similarity and distance matrices"
   ]
  },
  {
   "cell_type": "markdown",
   "metadata": {},
   "source": [
    "We define the paths to the kinase distance matrices."
   ]
  },
  {
   "cell_type": "code",
   "execution_count": 3,
   "metadata": {},
   "outputs": [],
   "source": [
    "kinase_matrix_paths = {\n",
    "    \"sequence\": \"T024_kinase_similarity_sequence\",\n",
    "    \"kissim\": \"T025_kinase_similarity_kissim\",\n",
    "    \"ifp\": \"T026_kinase_similarity_ifp\",\n",
    "    \"ligand-profile\": \"T027_kinase_similarity_ligand_profile\"\n",
    "}\n",
    "\n",
    "# Distance matrices (for dendrogram)\n",
    "kinase_distance_matrix_paths = {\n",
    "    perspective: HERE / f\"../{folder_name}/data/kinase_distance_matrix.csv\"\n",
    "    for perspective, folder_name in kinase_matrix_paths.items()\n",
    "}"
   ]
  },
  {
   "cell_type": "markdown",
   "metadata": {},
   "source": [
    "We load the distance matrices which were generated in the previous notebooks."
   ]
  },
  {
   "cell_type": "code",
   "execution_count": 4,
   "metadata": {},
   "outputs": [],
   "source": [
    "kinase_distance_matrices = {}\n",
    "for kinsim_perspective, path in kinase_distance_matrix_paths.items():\n",
    "    kinase_distance_matrices[kinsim_perspective] = pd.read_csv(path, index_col=0).round(6)"
   ]
  },
  {
   "cell_type": "markdown",
   "metadata": {},
   "source": [
    "### Distance matrix conditions\n",
    "\n",
    "We now create functions to verify the distance conditions."
   ]
  },
  {
   "cell_type": "markdown",
   "metadata": {},
   "source": [
    "We check the dimension of the matrix: it should be 2D array, and also be square."
   ]
  },
  {
   "cell_type": "code",
   "execution_count": 5,
   "metadata": {},
   "outputs": [],
   "source": [
    "def check_dimensionality(matrix):\n",
    "    \"\"\"\n",
    "    Checks whether the input is a 2D array (matrix) and square.\n",
    "\n",
    "    Parameters\n",
    "    ----------\n",
    "    matrix : np.array\n",
    "        The matrix for which the condition should be checked.\n",
    "\n",
    "    Returns\n",
    "    -------\n",
    "    bool :\n",
    "        True if the condition is met, False otherwise.\n",
    "    \"\"\"\n",
    "    if len(matrix.shape) != 2:\n",
    "        raise ValueError(f\"The input is not a matrix, but an array of shape {matrix.shape}.\")\n",
    "    elif matrix.shape[0] != matrix.shape[1]:\n",
    "        raise ValueError(f\"The input is not a square matrix. Failing.\")\n",
    "    else:\n",
    "        return True"
   ]
  },
  {
   "cell_type": "markdown",
   "metadata": {},
   "source": [
    "We check that all values of the matrix are positive."
   ]
  },
  {
   "cell_type": "code",
   "execution_count": 6,
   "metadata": {},
   "outputs": [],
   "source": [
    "def check_positivity(matrix):\n",
    "    \"\"\"\n",
    "    Checks whether all values of a matrix are positive.\n",
    "\n",
    "    Parameters\n",
    "    ----------\n",
    "    matrix : np.array\n",
    "        The matrix for which the condition should be checked.\n",
    "\n",
    "    Returns\n",
    "    -------\n",
    "    bool :\n",
    "        True if the condition is met, False otherwise.\n",
    "    \"\"\"\n",
    "    return (matrix >= 0).all()"
   ]
  },
  {
   "cell_type": "markdown",
   "metadata": {},
   "source": [
    "We check that the diagonal values of the matrix are zero."
   ]
  },
  {
   "cell_type": "code",
   "execution_count": 7,
   "metadata": {},
   "outputs": [],
   "source": [
    "def check_null_diagonal(matrix):\n",
    "    \"\"\"\n",
    "    Checks whether the diagonal entries of a matrix are all zero.\n",
    "\n",
    "    Parameters\n",
    "    ----------\n",
    "    matrix : np.array\n",
    "        The matrix for which the condition should be checked.\n",
    "\n",
    "    Returns\n",
    "    -------\n",
    "    bool :\n",
    "        True if the condition is met, False otherwise.\n",
    "    \"\"\"\n",
    "    return (np.diagonal(matrix) == 0).all()"
   ]
  },
  {
   "cell_type": "markdown",
   "metadata": {},
   "source": [
    "We check that the matrix is symmetric."
   ]
  },
  {
   "cell_type": "code",
   "execution_count": 8,
   "metadata": {},
   "outputs": [],
   "source": [
    "def check_symmetry(matrix):\n",
    "    \"\"\"\n",
    "    Checks whether a matrix M is symmetric, i.e. M = M^T.\n",
    "\n",
    "    Parameters\n",
    "    ----------\n",
    "    matrix : np.array\n",
    "        The matrix for which the condition should be checked.\n",
    "\n",
    "    Returns\n",
    "    -------\n",
    "    bool :\n",
    "        True if the condition is met, False otherwise.\n",
    "    \"\"\"\n",
    "    return (matrix == matrix.transpose()).all()"
   ]
  },
  {
   "cell_type": "markdown",
   "metadata": {},
   "source": [
    "Finally, we check the triangular inequality condition."
   ]
  },
  {
   "cell_type": "code",
   "execution_count": 9,
   "metadata": {},
   "outputs": [],
   "source": [
    "def check_triangular_inequality(matrix, tolerance=0.11):\n",
    "    \"\"\"\n",
    "    Checks whether the triangular inequality is met for a matrix,\n",
    "    i.e. the shorest distance between two points is the straight line.\n",
    "\n",
    "    Parameters\n",
    "    ----------\n",
    "    matrix : np.array\n",
    "        The matrix for which the condition should be checked.\n",
    "    tolerance : float\n",
    "        The accepted tolerance for approximation.\n",
    "\n",
    "    Returns\n",
    "    -------\n",
    "    bool :\n",
    "        True if the condition is met, False otherwise.\n",
    "    \"\"\"\n",
    "    triang_inequality = None\n",
    "    for i in range(matrix.shape[0]):\n",
    "        for j in range(matrix.shape[0]):\n",
    "            for k in range(matrix.shape[0]):\n",
    "                if (matrix[i, j] <= matrix[i, k] + matrix[k, j] + tolerance):\n",
    "                    triang_inequality = True\n",
    "                else:\n",
    "                    return False\n",
    "    return triang_inequality"
   ]
  },
  {
   "cell_type": "markdown",
   "metadata": {},
   "source": [
    "We now create a function that combines all these conditions."
   ]
  },
  {
   "cell_type": "code",
   "execution_count": 10,
   "metadata": {},
   "outputs": [],
   "source": [
    "def distance_condition(matrix):\n",
    "    \"\"\"\n",
    "    Checks if all conditions for a matrix are met.\n",
    "\n",
    "    Parameters\n",
    "    ----------\n",
    "    matrix : np.array\n",
    "        The matrix for which the conditions should be checked.\n",
    "\n",
    "    Returns\n",
    "    -------\n",
    "    None\n",
    "    \"\"\"\n",
    "\n",
    "    dimensionality = check_dimensionality(matrix)\n",
    "    if dimensionality:\n",
    "        print(f\"{'Dimensionality' : <30}\"\n",
    "              f\"{'Satisfied'}\")\n",
    "    else:\n",
    "        print(f\"{'Dimensionality' : <30}\"\n",
    "              f\"{'Not Satisfied'}\")\n",
    "\n",
    "    positivity = check_positivity(matrix)\n",
    "    if positivity:\n",
    "        print(f\"{'Postivity' : <30}\"\n",
    "              f\"{'Satisfied'}\")\n",
    "    else:\n",
    "        print(f\"{'Postivity' : <30}\"\n",
    "              f\"{'Satisfied'}\")\n",
    "\n",
    "    diag = check_null_diagonal(matrix)\n",
    "    if diag:\n",
    "        print(f\"{'Null diagonal' : <30}\"\n",
    "              f\"{'Satisfied'}\")\n",
    "    else:\n",
    "        print(f\"{'Null diagonal' : <30}\"\n",
    "              f\"{'Not Satisfied'}\")\n",
    "\n",
    "    symmetry = check_symmetry(matrix)\n",
    "    if symmetry:\n",
    "        print(f\"{'Symmetry' : <30}\"\n",
    "              f\"{'Satisfied'}\")\n",
    "    else:\n",
    "        print(f\"{'Symmetry' : <30}\"\n",
    "              f\"{'Satisfied'}\")\n",
    "\n",
    "    triang_inequ = check_triangular_inequality(matrix)\n",
    "    if triang_inequ:\n",
    "        print(f\"{'Triangular inequality' : <30}\"\n",
    "              f\"{'Satisfied'}\")\n",
    "    else:\n",
    "        print(f\"{'Triangular inequality' : <30}\"\n",
    "              f\"{'Not Satisfied'}\")\n",
    "    print(\"\\n\")\n",
    "    return None"
   ]
  },
  {
   "cell_type": "code",
   "execution_count": 11,
   "metadata": {},
   "outputs": [
    {
     "name": "stdout",
     "output_type": "stream",
     "text": [
      "sequence\n",
      "==========\n",
      "Dimensionality                Satisfied\n",
      "Postivity                     Satisfied\n",
      "Null diagonal                 Satisfied\n",
      "Symmetry                      Satisfied\n",
      "Triangular inequality         Satisfied\n",
      "\n",
      "\n",
      "kissim\n",
      "==========\n",
      "Dimensionality                Satisfied\n",
      "Postivity                     Satisfied\n",
      "Null diagonal                 Satisfied\n",
      "Symmetry                      Satisfied\n",
      "Triangular inequality         Satisfied\n",
      "\n",
      "\n",
      "ifp\n",
      "==========\n",
      "Dimensionality                Satisfied\n",
      "Postivity                     Satisfied\n",
      "Null diagonal                 Satisfied\n",
      "Symmetry                      Satisfied\n",
      "Triangular inequality         Satisfied\n",
      "\n",
      "\n",
      "ligand-profile\n",
      "==========\n",
      "Dimensionality                Satisfied\n",
      "Postivity                     Satisfied\n",
      "Null diagonal                 Satisfied\n",
      "Symmetry                      Satisfied\n",
      "Triangular inequality         Not Satisfied\n",
      "\n",
      "\n"
     ]
    }
   ],
   "source": [
    "for descriptor, similarity_df in kinase_distance_matrices.items():\n",
    "    print(f\"{descriptor}\")\n",
    "    print(\"==========\")\n",
    "    x = distance_condition(similarity_df.values)"
   ]
  },
  {
   "cell_type": "markdown",
   "metadata": {},
   "source": [
    "If one of the following checks (dimensionality, positivity, null diagonal, or symmetry) fails, the rest of the notebook will not run properly and the matrix generation from the previous notebooks should be investigated.\n",
    "\n",
    "The triangular inequality does not have to be satisfied in order for the notebook to run, as is the case for ligand-profile. The reason for its failing is due to the function that describes the (dis)similarity between two kinases, which is not a distance (see __Talktorial T027__)."
   ]
  },
  {
   "cell_type": "markdown",
   "metadata": {
    "tags": []
   },
   "source": [
    "### Visualize similarity for example perspective"
   ]
  },
  {
   "cell_type": "code",
   "execution_count": 12,
   "metadata": {},
   "outputs": [
    {
     "name": "stdout",
     "output_type": "stream",
     "text": [
      "Choices of precalculated descriptors: dict_keys(['sequence', 'kissim', 'ifp', 'ligand-profile'])\n"
     ]
    }
   ],
   "source": [
    "print(f\"Choices of precalculated descriptors: {kinase_distance_matrix_paths.keys()}\")"
   ]
  },
  {
   "cell_type": "markdown",
   "metadata": {},
   "source": [
    "We look at an example matrix:"
   ]
  },
  {
   "cell_type": "code",
   "execution_count": 13,
   "metadata": {},
   "outputs": [],
   "source": [
    "descriptor_selection = \"sequence\""
   ]
  },
  {
   "cell_type": "code",
   "execution_count": 14,
   "metadata": {},
   "outputs": [
    {
     "data": {
      "text/html": [
       "<div>\n",
       "<style scoped>\n",
       "    .dataframe tbody tr th:only-of-type {\n",
       "        vertical-align: middle;\n",
       "    }\n",
       "\n",
       "    .dataframe tbody tr th {\n",
       "        vertical-align: top;\n",
       "    }\n",
       "\n",
       "    .dataframe thead th {\n",
       "        text-align: right;\n",
       "    }\n",
       "</style>\n",
       "<table border=\"1\" class=\"dataframe\">\n",
       "  <thead>\n",
       "    <tr style=\"text-align: right;\">\n",
       "      <th></th>\n",
       "      <th>EGFR</th>\n",
       "      <th>ErbB2</th>\n",
       "      <th>p110a</th>\n",
       "      <th>KDR</th>\n",
       "      <th>BRAF</th>\n",
       "      <th>CDK2</th>\n",
       "      <th>LCK</th>\n",
       "      <th>MET</th>\n",
       "      <th>p38a</th>\n",
       "    </tr>\n",
       "  </thead>\n",
       "  <tbody>\n",
       "    <tr>\n",
       "      <th>EGFR</th>\n",
       "      <td>0.000000</td>\n",
       "      <td>0.059037</td>\n",
       "      <td>0.572938</td>\n",
       "      <td>0.283953</td>\n",
       "      <td>0.344972</td>\n",
       "      <td>0.351553</td>\n",
       "      <td>0.288679</td>\n",
       "      <td>0.288742</td>\n",
       "      <td>0.355356</td>\n",
       "    </tr>\n",
       "    <tr>\n",
       "      <th>ErbB2</th>\n",
       "      <td>0.059037</td>\n",
       "      <td>0.000000</td>\n",
       "      <td>0.586362</td>\n",
       "      <td>0.297882</td>\n",
       "      <td>0.345400</td>\n",
       "      <td>0.369692</td>\n",
       "      <td>0.314925</td>\n",
       "      <td>0.302033</td>\n",
       "      <td>0.364827</td>\n",
       "    </tr>\n",
       "    <tr>\n",
       "      <th>p110a</th>\n",
       "      <td>0.572938</td>\n",
       "      <td>0.586362</td>\n",
       "      <td>0.000000</td>\n",
       "      <td>0.577295</td>\n",
       "      <td>0.563541</td>\n",
       "      <td>0.576006</td>\n",
       "      <td>0.548664</td>\n",
       "      <td>0.606301</td>\n",
       "      <td>0.568806</td>\n",
       "    </tr>\n",
       "    <tr>\n",
       "      <th>KDR</th>\n",
       "      <td>0.283953</td>\n",
       "      <td>0.297882</td>\n",
       "      <td>0.577295</td>\n",
       "      <td>0.000000</td>\n",
       "      <td>0.328732</td>\n",
       "      <td>0.346621</td>\n",
       "      <td>0.312352</td>\n",
       "      <td>0.286194</td>\n",
       "      <td>0.346556</td>\n",
       "    </tr>\n",
       "    <tr>\n",
       "      <th>BRAF</th>\n",
       "      <td>0.344972</td>\n",
       "      <td>0.345400</td>\n",
       "      <td>0.563541</td>\n",
       "      <td>0.328732</td>\n",
       "      <td>0.000000</td>\n",
       "      <td>0.353245</td>\n",
       "      <td>0.327067</td>\n",
       "      <td>0.361842</td>\n",
       "      <td>0.362088</td>\n",
       "    </tr>\n",
       "    <tr>\n",
       "      <th>CDK2</th>\n",
       "      <td>0.351553</td>\n",
       "      <td>0.369692</td>\n",
       "      <td>0.576006</td>\n",
       "      <td>0.346621</td>\n",
       "      <td>0.353245</td>\n",
       "      <td>0.000000</td>\n",
       "      <td>0.318747</td>\n",
       "      <td>0.343975</td>\n",
       "      <td>0.276907</td>\n",
       "    </tr>\n",
       "    <tr>\n",
       "      <th>LCK</th>\n",
       "      <td>0.288679</td>\n",
       "      <td>0.314925</td>\n",
       "      <td>0.548664</td>\n",
       "      <td>0.312352</td>\n",
       "      <td>0.327067</td>\n",
       "      <td>0.318747</td>\n",
       "      <td>0.000000</td>\n",
       "      <td>0.309121</td>\n",
       "      <td>0.337419</td>\n",
       "    </tr>\n",
       "    <tr>\n",
       "      <th>MET</th>\n",
       "      <td>0.288742</td>\n",
       "      <td>0.302033</td>\n",
       "      <td>0.606301</td>\n",
       "      <td>0.286194</td>\n",
       "      <td>0.361842</td>\n",
       "      <td>0.343975</td>\n",
       "      <td>0.309121</td>\n",
       "      <td>0.000000</td>\n",
       "      <td>0.370645</td>\n",
       "    </tr>\n",
       "    <tr>\n",
       "      <th>p38a</th>\n",
       "      <td>0.355356</td>\n",
       "      <td>0.364827</td>\n",
       "      <td>0.568806</td>\n",
       "      <td>0.346556</td>\n",
       "      <td>0.362088</td>\n",
       "      <td>0.276907</td>\n",
       "      <td>0.337419</td>\n",
       "      <td>0.370645</td>\n",
       "      <td>0.000000</td>\n",
       "    </tr>\n",
       "  </tbody>\n",
       "</table>\n",
       "</div>"
      ],
      "text/plain": [
       "           EGFR     ErbB2     p110a       KDR      BRAF      CDK2       LCK  \\\n",
       "EGFR   0.000000  0.059037  0.572938  0.283953  0.344972  0.351553  0.288679   \n",
       "ErbB2  0.059037  0.000000  0.586362  0.297882  0.345400  0.369692  0.314925   \n",
       "p110a  0.572938  0.586362  0.000000  0.577295  0.563541  0.576006  0.548664   \n",
       "KDR    0.283953  0.297882  0.577295  0.000000  0.328732  0.346621  0.312352   \n",
       "BRAF   0.344972  0.345400  0.563541  0.328732  0.000000  0.353245  0.327067   \n",
       "CDK2   0.351553  0.369692  0.576006  0.346621  0.353245  0.000000  0.318747   \n",
       "LCK    0.288679  0.314925  0.548664  0.312352  0.327067  0.318747  0.000000   \n",
       "MET    0.288742  0.302033  0.606301  0.286194  0.361842  0.343975  0.309121   \n",
       "p38a   0.355356  0.364827  0.568806  0.346556  0.362088  0.276907  0.337419   \n",
       "\n",
       "            MET      p38a  \n",
       "EGFR   0.288742  0.355356  \n",
       "ErbB2  0.302033  0.364827  \n",
       "p110a  0.606301  0.568806  \n",
       "KDR    0.286194  0.346556  \n",
       "BRAF   0.361842  0.362088  \n",
       "CDK2   0.343975  0.276907  \n",
       "LCK    0.309121  0.337419  \n",
       "MET    0.000000  0.370645  \n",
       "p38a   0.370645  0.000000  "
      ]
     },
     "execution_count": 14,
     "metadata": {},
     "output_type": "execute_result"
    }
   ],
   "source": [
    "kinase_distance_matrix = kinase_distance_matrices[descriptor_selection]\n",
    "kinase_distance_matrix"
   ]
  },
  {
   "cell_type": "markdown",
   "metadata": {
    "tags": []
   },
   "source": [
    "#### Visualize kinase distance matrix as heatmap\n",
    "\n",
    "We visualize the kinase matrix in the form of a heatmap."
   ]
  },
  {
   "cell_type": "code",
   "execution_count": 15,
   "metadata": {},
   "outputs": [
    {
     "data": {
      "image/png": "[encoded data removed]",
      "text/plain": [
       "<Figure size 432x288 with 2 Axes>"
      ]
     },
     "metadata": {
      "needs_background": "light"
     },
     "output_type": "display_data"
    }
   ],
   "source": [
    "sns.heatmap(\n",
    "    kinase_distance_matrix,\n",
    "    linewidths=0,\n",
    "    annot=True,\n",
    "    square=True, cbar_kws={'label': 'Kinase distance'},\n",
    "    cmap='viridis',\n",
    ")\n",
    "plt.show()"
   ]
  },
  {
   "cell_type": "markdown",
   "metadata": {
    "tags": []
   },
   "source": [
    "#### Visualize similarity as dendrogram"
   ]
  },
  {
   "cell_type": "markdown",
   "metadata": {},
   "source": [
    "Since distance matrices are symmetric, we use the `scipy` function `squareform` to create a condensed vector of the distance matrix of shape $n*(n-1)/2$, where $n$ is the shape of the distance matrix. The values in this vector correspond to the values of the lower triangular matrix."
   ]
  },
  {
   "cell_type": "code",
   "execution_count": 16,
   "metadata": {},
   "outputs": [
    {
     "data": {
      "text/plain": [
       "array([0.059037, 0.572938, 0.283953, 0.344972, 0.351553, 0.288679,\n",
       "       0.288742, 0.355356, 0.586362, 0.297882, 0.3454  , 0.369692,\n",
       "       0.314925, 0.302033, 0.364827, 0.577295, 0.563541, 0.576006,\n",
       "       0.548664, 0.606301, 0.568806, 0.328732, 0.346621, 0.312352,\n",
       "       0.286194, 0.346556, 0.353245, 0.327067, 0.361842, 0.362088,\n",
       "       0.318747, 0.343975, 0.276907, 0.309121, 0.337419, 0.370645])"
      ]
     },
     "execution_count": 16,
     "metadata": {},
     "output_type": "execute_result"
    }
   ],
   "source": [
    "D = kinase_distance_matrix.values\n",
    "D_condensed = distance.squareform(D)\n",
    "D_condensed"
   ]
  },
  {
   "cell_type": "markdown",
   "metadata": {},
   "source": [
    "We can submit this condensed vector to a hierarchical clustering to extract the relationship between the different kinases. We use here `method=\"average\"`, which stands for the linkage method UPGMA (unweighted pair group method with arithmetic mean). This means that the distance between two clusters A and B is defined as the average of all distances between pairs of elements in clusters A and B. At each clustering step, the two clusters with the lowest average distance are combined."
   ]
  },
  {
   "cell_type": "code",
   "execution_count": 17,
   "metadata": {},
   "outputs": [],
   "source": [
    "hclust = hierarchy.linkage(D_condensed, method=\"average\")"
   ]
  },
  {
   "cell_type": "markdown",
   "metadata": {},
   "source": [
    "We now generate a phylogenetic tree based on the clustering."
   ]
  },
  {
   "cell_type": "code",
   "execution_count": 18,
   "metadata": {},
   "outputs": [],
   "source": [
    "tree = hierarchy.to_tree(hclust)"
   ]
  },
  {
   "cell_type": "markdown",
   "metadata": {},
   "source": [
    "We visualize the tree as a dendrogram."
   ]
  },
  {
   "cell_type": "code",
   "execution_count": 19,
   "metadata": {},
   "outputs": [
    {
     "data": {
      "image/png": "[encoded data removed]",
      "text/plain": [
       "<Figure size 432x288 with 1 Axes>"
      ]
     },
     "metadata": {
      "needs_background": "light"
     },
     "output_type": "display_data"
    }
   ],
   "source": [
    "fig, ax = plt.subplots()\n",
    "labels = kinase_distance_matrix.columns.to_list()\n",
    "hierarchy.dendrogram(hclust, labels=labels, orientation=\"left\", ax=ax)\n",
    "ax.set_xlabel(\"Distance\")\n",
    "plt.show()"
   ]
  },
  {
   "cell_type": "markdown",
   "metadata": {},
   "source": [
    "### Visualize similarities from different perspectives"
   ]
  },
  {
   "cell_type": "markdown",
   "metadata": {},
   "source": [
    "#### Preprocess distance matrices"
   ]
  },
  {
   "cell_type": "markdown",
   "metadata": {},
   "source": [
    "##### Normalize matrices \n",
    "\n",
    "We normalize the different matrices to values in $[0, 1]$."
   ]
  },
  {
   "cell_type": "code",
   "execution_count": 20,
   "metadata": {},
   "outputs": [],
   "source": [
    "def _min_max_normalize(distance_matrix_df):\n",
    "    \"\"\"\n",
    "    Apply min-max normalization to input DataFrame.\n",
    "\n",
    "    Parameters\n",
    "    ----------\n",
    "    kinase_distance_matrix_df : pd.DataFrame\n",
    "        Kinase distance matrix.\n",
    "\n",
    "    Returns\n",
    "    -------\n",
    "    pd.DataFrame\n",
    "        Normalized kinase distance matrix.\n",
    "    \"\"\"\n",
    "    min_ = distance_matrix_df.min().min()\n",
    "    max_ = distance_matrix_df.max().max()\n",
    "    distance_matrix_normalized_df = (distance_matrix_df - min_) / (max_ - min_)\n",
    "    return distance_matrix_normalized_df"
   ]
  },
  {
   "cell_type": "code",
   "execution_count": 21,
   "metadata": {},
   "outputs": [],
   "source": [
    "kinase_distance_matrices_normalized = {}\n",
    "for descriptor, score_df in kinase_distance_matrices.items():\n",
    "    score_normalized_df = _min_max_normalize(score_df)\n",
    "    kinase_distance_matrices_normalized[descriptor] = score_normalized_df"
   ]
  },
  {
   "cell_type": "markdown",
   "metadata": {},
   "source": [
    "##### Define kinase order\n",
    "\n",
    "Define in which order to display the kinases."
   ]
  },
  {
   "cell_type": "code",
   "execution_count": 22,
   "metadata": {},
   "outputs": [],
   "source": [
    "kinase_names = kinase_distance_matrices_normalized[\"sequence\"].columns"
   ]
  },
  {
   "cell_type": "code",
   "execution_count": 23,
   "metadata": {},
   "outputs": [],
   "source": [
    "def _define_kinase_order(kinase_distance_matrix_df, kinase_names):\n",
    "    \"\"\"\n",
    "    Define the order in which kinases shall\n",
    "    appear in the input DataFrame.\n",
    "\n",
    "    Parameters\n",
    "    ----------\n",
    "    kinase_distance_matrix_df : pd.DataFrame\n",
    "        Kinase distance matrix.\n",
    "    kinase_name : list of str\n",
    "        List of kinase names to be used for sorting.\n",
    "\n",
    "    Returns\n",
    "    -------\n",
    "    pd.DataFrame\n",
    "        Kinase distance matrix with sorted columns/rows.\n",
    "    \"\"\"\n",
    "    kinase_distance_matrix_df = kinase_distance_matrix_df \\\n",
    "        .reindex(kinase_names, axis=1) \\\n",
    "        .reindex(kinase_names, axis=0)\n",
    "    return kinase_distance_matrix_df"
   ]
  },
  {
   "cell_type": "code",
   "execution_count": 24,
   "metadata": {
    "tags": []
   },
   "outputs": [],
   "source": [
    "kinase_distance_matrices_normalized = {\n",
    "    descriptor: _define_kinase_order(score_df, kinase_names)\n",
    "    for descriptor, score_df in kinase_distance_matrices_normalized.items()\n",
    "}"
   ]
  },
  {
   "cell_type": "markdown",
   "metadata": {},
   "source": [
    "#### Visualize kinase similarities"
   ]
  },
  {
   "cell_type": "code",
   "execution_count": 25,
   "metadata": {},
   "outputs": [],
   "source": [
    "def heatmap(score_df, ax=None, title=\"\"):\n",
    "    \"\"\"\n",
    "    Generate a heatmap from a matrix.\n",
    "\n",
    "    Parameters\n",
    "    ----------\n",
    "    score_df : pd.DataFrame\n",
    "        Distance or similarity score matrix.\n",
    "    ax : matplotlib.axes\n",
    "        Plot axis to use!\n",
    "    title : str\n",
    "        Plot title.\n",
    "    \"\"\"\n",
    "    sns.heatmap(\n",
    "        score_df,\n",
    "        linewidths=0,\n",
    "        annot=True,\n",
    "        square=True,\n",
    "        cmap='viridis',\n",
    "        ax=ax\n",
    "    )"
   ]
  },
  {
   "cell_type": "code",
   "execution_count": 26,
   "metadata": {},
   "outputs": [],
   "source": [
    "def dendrogram(distance_matrix, ax=None, title=\"\"):\n",
    "    \"\"\"\n",
    "    Generate a dendrogram from a distance matrix.\n",
    "\n",
    "    Parameters\n",
    "    ----------\n",
    "    distance_matrix : pd.DataFrame\n",
    "        Distance matrix.\n",
    "    ax : matplotlib.axes\n",
    "        Plot axis to use!\n",
    "    title : str\n",
    "        Plot title.\n",
    "    \"\"\"\n",
    "    D = distance_matrix.values\n",
    "    D_condensed = distance.squareform(D)\n",
    "    hclust = hierarchy.linkage(D_condensed, method=\"average\")\n",
    "    tree = hierarchy.to_tree(hclust)\n",
    "    labels = distance_matrix.columns.to_list()\n",
    "    hierarchy.dendrogram(hclust, labels=labels, orientation=\"left\", ax=ax)\n",
    "    ax.set_title(title)\n",
    "    ax.set_xlabel(\"Distance\")"
   ]
  },
  {
   "cell_type": "markdown",
   "metadata": {},
   "source": [
    "Note for ease of interpretability, we show below:\n",
    "\n",
    "* Heatmaps based on the **similarity** matrix (the higher the value, the higher the similarity).\n",
    "* Dendrograms calculated based on the **distance** matrix, where clusters describe the similarity between kinases."
   ]
  },
  {
   "cell_type": "code",
   "execution_count": 27,
   "metadata": {},
   "outputs": [
    {
     "data": {
      "image/png": "[encoded data removed]",
      "text/plain": [
       "<Figure size 1440x720 with 12 Axes>"
      ]
     },
     "metadata": {
      "needs_background": "light"
     },
     "output_type": "display_data"
    }
   ],
   "source": [
    "n_perspectives = len(kinase_distance_matrices_normalized)\n",
    "fig, axes = plt.subplots(2, n_perspectives, figsize=(n_perspectives*5, 10))\n",
    "for i, (perspective, distance_matrix) in enumerate(kinase_distance_matrices_normalized.items()):\n",
    "    # heatmap based on similarity matrix\n",
    "    similarity_matrix = 1 - distance_matrix\n",
    "    heatmap(similarity_matrix, ax=axes[0][i], title=perspective)\n",
    "    # dendrogram based on distance matrix\n",
    "    dendrogram(distance_matrix, ax=axes[1][i], title=perspective)"
   ]
  },
  {
   "cell_type": "markdown",
   "metadata": {},
   "source": [
    "We load here again the input kinase information that we defined in __Talktorial T023__, to determine, among other, to which group each kinase belongs to."
   ]
  },
  {
   "cell_type": "code",
   "execution_count": 28,
   "metadata": {},
   "outputs": [
    {
     "data": {
      "text/html": [
       "<div>\n",
       "<style scoped>\n",
       "    .dataframe tbody tr th:only-of-type {\n",
       "        vertical-align: middle;\n",
       "    }\n",
       "\n",
       "    .dataframe tbody tr th {\n",
       "        vertical-align: top;\n",
       "    }\n",
       "\n",
       "    .dataframe thead th {\n",
       "        text-align: right;\n",
       "    }\n",
       "</style>\n",
       "<table border=\"1\" class=\"dataframe\">\n",
       "  <thead>\n",
       "    <tr style=\"text-align: right;\">\n",
       "      <th></th>\n",
       "      <th>kinase</th>\n",
       "      <th>kinase_klifs</th>\n",
       "      <th>uniprot_id</th>\n",
       "      <th>group</th>\n",
       "      <th>full_kinase_name</th>\n",
       "    </tr>\n",
       "  </thead>\n",
       "  <tbody>\n",
       "    <tr>\n",
       "      <th>0</th>\n",
       "      <td>EGFR</td>\n",
       "      <td>EGFR</td>\n",
       "      <td>P00533</td>\n",
       "      <td>TK</td>\n",
       "      <td>Epidermal growth factor receptor</td>\n",
       "    </tr>\n",
       "    <tr>\n",
       "      <th>1</th>\n",
       "      <td>ErbB2</td>\n",
       "      <td>ErbB2</td>\n",
       "      <td>P04626</td>\n",
       "      <td>TK</td>\n",
       "      <td>Erythroblastic leukemia viral oncogene homolog 2</td>\n",
       "    </tr>\n",
       "    <tr>\n",
       "      <th>2</th>\n",
       "      <td>PI3K</td>\n",
       "      <td>p110a</td>\n",
       "      <td>P42336</td>\n",
       "      <td>Atypical</td>\n",
       "      <td>Phosphatidylinositol-3-kinase</td>\n",
       "    </tr>\n",
       "    <tr>\n",
       "      <th>3</th>\n",
       "      <td>VEGFR2</td>\n",
       "      <td>KDR</td>\n",
       "      <td>P35968</td>\n",
       "      <td>TK</td>\n",
       "      <td>Vascular endothelial growth factor receptor 2</td>\n",
       "    </tr>\n",
       "    <tr>\n",
       "      <th>4</th>\n",
       "      <td>BRAF</td>\n",
       "      <td>BRAF</td>\n",
       "      <td>P15056</td>\n",
       "      <td>TKL</td>\n",
       "      <td>Rapidly accelerated fibrosarcoma isoform B</td>\n",
       "    </tr>\n",
       "    <tr>\n",
       "      <th>5</th>\n",
       "      <td>CDK2</td>\n",
       "      <td>CDK2</td>\n",
       "      <td>P24941</td>\n",
       "      <td>CMGC</td>\n",
       "      <td>Cyclic-dependent kinase 2</td>\n",
       "    </tr>\n",
       "    <tr>\n",
       "      <th>6</th>\n",
       "      <td>LCK</td>\n",
       "      <td>LCK</td>\n",
       "      <td>P06239</td>\n",
       "      <td>TK</td>\n",
       "      <td>Lymphocyte-specific protein tyrosine kinase</td>\n",
       "    </tr>\n",
       "    <tr>\n",
       "      <th>7</th>\n",
       "      <td>MET</td>\n",
       "      <td>MET</td>\n",
       "      <td>P08581</td>\n",
       "      <td>TK</td>\n",
       "      <td>Mesenchymal-epithelial transition factor</td>\n",
       "    </tr>\n",
       "    <tr>\n",
       "      <th>8</th>\n",
       "      <td>p38a</td>\n",
       "      <td>p38a</td>\n",
       "      <td>Q16539</td>\n",
       "      <td>CMGC</td>\n",
       "      <td>p38 mitogen activated protein kinase alpha</td>\n",
       "    </tr>\n",
       "  </tbody>\n",
       "</table>\n",
       "</div>"
      ],
      "text/plain": [
       "   kinase kinase_klifs uniprot_id     group  \\\n",
       "0    EGFR         EGFR     P00533        TK   \n",
       "1   ErbB2        ErbB2     P04626        TK   \n",
       "2    PI3K        p110a     P42336  Atypical   \n",
       "3  VEGFR2          KDR     P35968        TK   \n",
       "4    BRAF         BRAF     P15056       TKL   \n",
       "5    CDK2         CDK2     P24941      CMGC   \n",
       "6     LCK          LCK     P06239        TK   \n",
       "7     MET          MET     P08581        TK   \n",
       "8    p38a         p38a     Q16539      CMGC   \n",
       "\n",
       "                                   full_kinase_name  \n",
       "0                  Epidermal growth factor receptor  \n",
       "1  Erythroblastic leukemia viral oncogene homolog 2  \n",
       "2                     Phosphatidylinositol-3-kinase  \n",
       "3     Vascular endothelial growth factor receptor 2  \n",
       "4        Rapidly accelerated fibrosarcoma isoform B  \n",
       "5                         Cyclic-dependent kinase 2  \n",
       "6       Lymphocyte-specific protein tyrosine kinase  \n",
       "7          Mesenchymal-epithelial transition factor  \n",
       "8        p38 mitogen activated protein kinase alpha  "
      ]
     },
     "execution_count": 28,
     "metadata": {},
     "output_type": "execute_result"
    }
   ],
   "source": [
    "kinase_selection_df = pd.read_csv(HERE / \"../T023_what_is_a_kinase/data/kinase_selection.csv\")\n",
    "kinase_selection_df"
   ]
  },
  {
   "cell_type": "markdown",
   "metadata": {},
   "source": [
    "#### Analysis of results\n",
    "\n",
    "- The _sequence_ approach reproduces nicely the Manning tree relationships.\n",
    "  - The TK kinases EGFR, ErbB2, MET, and KDR are grouped together with highest similarities for EGFR and ErbB2.\n",
    "  - The TKL kinase LCK groups next to the TK kinases.\n",
    "  - The CMGC kinases p38a and CDK2 are grouped together.\n",
    "  - The atypical kinase p110a is a singleton, i.e., forms its own cluster.\n",
    "- When taking into account the pocket structure (physicochemical and spatial properties) with the _kissim_ approach, similar observations can be made: \n",
    "  - The typical kinases are grouped together, while the atypical kinase p110a is a singleton. \n",
    "  - Within the typical kinase grouping, EGFR and ErbB2 are the most similar (but not as prominent as in the _sequence_ approach).\n",
    "  - Kinases from different groups, e.g. CDK2 (CMGC) and BRAF (TKL), cluster together.\n",
    "- The _ifp_ method:\n",
    "  - BRAF and the atypical kinase p110a form a singleton each.\n",
    "  - Surprisingly, ErbB2 forms a singleton (=not grouped with EGFR), but we have to keep in mind that we have the least data points ($4$) for ErbB2.\n",
    "- The _ligand-profile_ method:\n",
    "  - Interestingly, CDK2 and p110a form their own cluster early on (i.e. low similarity to the rest).\n",
    "  - BRAF (TKL), p38a (CMGC), KDR and LCK (both TK) as well as EGFR and ErbB2 (TK) form one cluster each.\n",
    "  - Surprisingly, MET (TK) forms a singleton (not clustering with any of the other TK kinases).\n",
    "- Overall observations:\n",
    "  - Members of the same family (here: EGFR and ErbB2) are grouped together closely in the _sequence_, _kissim_, and _ligand-profile_ approaches.\n",
    "  - The atypical kinase p110a shows high dissimilarity in the _sequence_, _kissim_, and _ifp_ approaches.\n",
    "  - Unexpectedly, KDR (TK) and p38a (CMGC) cluster together in all views (except for _sequence_). Thus, it would be interesting to explore this relationship further.\n",
    "\n",
    "<!---\n",
    "- Comparison to multi-target profiles in [<i>Molecules</i> (2021), <b>26(3)</b>, 629](https://www.mdpi.com/1420-3049/26/3/629)\n",
    "  - Profile 1: \n",
    "    - EGFR/ErbB2 as on-targets and BRAF as anti-target\n",
    "    - Should be doable from \"sequence\", \"ligand-profile\" view (less clear from \"kisim\" and \"ifp\" view)\n",
    "  - Profile 2:\n",
    "    - EGFR/p110a as on-targets and BRAF as anti-target\n",
    "    - Should be hard to design from all views\n",
    "  - Profile 3: \n",
    "    - EGFR/KDR as on-targets and BRAF as anti-target\n",
    "    - Should be hard to design except from a \"sequence\" view\n",
    "--->"
   ]
  },
  {
   "cell_type": "markdown",
   "metadata": {
    "tags": []
   },
   "source": [
    "## Discussion\n",
    "\n",
    "We have assessed kinase similarity from many different angles: the pocket sequence, the pocket structure, ligand binding modes (interaction fingerprints), and ligand bioactivities. We see from our results that different conclusions can be drawn for each method, while some observations agree.\n",
    "Thus, it is beneficial to consider different strategies to study kinase similarity.\n",
    "\n",
    "The different approaches have strengths and drawbacks:\n",
    "\n",
    "- The _sequence_ method: Sequence data is available for all kinases, however no information about structure or ligand binding is included.\n",
    "- The _kissim_, _ifp_, and _ligand-profile_ methods: Information about structure, ligand binding, or ligand bioactivity is included, however some kinases may not have any data, some kinases may have only few data, and most kinases may not be fully explored (even if a lot of data is available).\n",
    "- All methods rely on simplifications! \n",
    "  - Dealing with multiple measurements\n",
    "    - _ligand-profile_ method: Only one measurement per kinase-ligand is used here.\n",
    "    - _kissim_ and _ifp_ method: Only one structure/IFP pair represents one kinase pair here.\n",
    "  - Bioactivity cutoffs to define active/inactive compounds in case of the _ligand-profile_ method."
   ]
  },
  {
   "cell_type": "markdown",
   "metadata": {},
   "source": [
    "## Quiz\n",
    "\n",
    "1. Can you think of another perspective to assess kinase similarity?\n",
    "2. Are there other methods to assess and visualize the similarities?\n",
    "3. Can you name at least one advantage and one disadvantage per perspective discussed here?\n",
    "4. Could the different methods be applied to other proteins in general?\n",
    "5. What is the difference between the distances that we show in the heatmap and the dendrogram? "
   ]
  }
 ],
 "metadata": {
  "kernelspec": {
   "display_name": "Python 3 (ipykernel)",
   "language": "python",
   "name": "python3"
  },
  "language_info": {
   "codemirror_mode": {
    "name": "ipython",
    "version": 3
   },
   "file_extension": ".py",
   "mimetype": "text/x-python",
   "name": "python",
   "nbconvert_exporter": "python",
   "pygments_lexer": "ipython3",
   "version": "3.8.10"
  },
  "toc-autonumbering": true,
  "widgets": {
   "application/vnd.jupyter.widget-state+json": {
    "state": {},
    "version_major": 2,
    "version_minor": 0
   }
  }
 },
 "nbformat": 4,
 "nbformat_minor": 4
}
