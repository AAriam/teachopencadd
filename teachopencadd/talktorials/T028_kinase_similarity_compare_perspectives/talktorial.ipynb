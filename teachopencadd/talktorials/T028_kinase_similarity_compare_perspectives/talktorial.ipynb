{
 "cells": [
  {
   "cell_type": "markdown",
   "metadata": {},
   "source": [
    "# T028 · Kinase similarity: Compare different perspectives\n",
    "\n",
    "Authors:\n",
    "\n",
    "- Talia B. Kimber, 2021, [Volkamer lab, Charité](https://volkamerlab.org/)\n",
    "- Dominique Sydow, 2021, [Volkamer lab, Charité](https://volkamerlab.org/)\n",
    "- Andrea Volkamer, 2021, [Volkamer lab, Charité](https://volkamerlab.org/)"
   ]
  },
  {
   "cell_type": "markdown",
   "metadata": {},
   "source": [
    "## Aim of this talktorial\n",
    "\n",
    "We will compare different perspectives on kinase similarity, which were discussed in detail in previous notebooks:\n",
    "\n",
    "* **Talktorial T024**: Kinase pocket sequences (KLIFS pocket sequences)\n",
    "* **Talktorial T025**: Kinase pocket structures (KiSSim fingerprint based on KLIFS pocket residues)\n",
    "* **Talktorial T026**: Kinase-ligand interaction profiles (KLIFS IFPs based on KLIFS pocket residues)\n",
    "* **Talktorial T027**: Ligand profiles"
   ]
  },
  {
   "cell_type": "markdown",
   "metadata": {},
   "source": [
    "### Contents in *Theory*\n",
    "\n",
    "* Kinase dataset\n",
    "* Kinase similarity descriptor: XXX"
   ]
  },
  {
   "cell_type": "markdown",
   "metadata": {},
   "source": [
    "### Contents in *Practical*\n",
    "\n",
    "* Retrieve and preprocess data\n",
    "* Show kinase coverage\n",
    "* Compare kinases\n",
    "* Visualize similarity as kinase matrix\n",
    "* Visualize similarity as phylogenetic tree"
   ]
  },
  {
   "cell_type": "markdown",
   "metadata": {},
   "source": [
    "### References\n",
    "\n",
    "* Kinase dataset: [<i>Molecules</i> (2021), <b>26(3)</b>, 629](https://www.mdpi.com/1420-3049/26/3/629) \n",
    "* Kinase similarity descriptor: XXX"
   ]
  },
  {
   "cell_type": "markdown",
   "metadata": {},
   "source": [
    "## Theory"
   ]
  },
  {
   "cell_type": "markdown",
   "metadata": {},
   "source": [
    "### Kinase dataset"
   ]
  },
  {
   "cell_type": "markdown",
   "metadata": {},
   "source": [
    "We will use nine kinases from [<i>Molecules</i> (2021), <b>26(3)</b>, 629](https://www.mdpi.com/1420-3049/26/3/629), which aimed to understand kinase similarities within different combinations of kinase on- and off-targets (also called anti-targets):\n",
    "\n",
    "> We aggregated the investigated kinases in “profiles”. Profile 1 combined **EGFR** and **ErbB2** as targets and **BRAF** as a (general) anti-target. Out of similar considerations, Profile 2 consisted of EGFR and **PI3K** as targets and BRAF as anti-target. This profile is expected to be more challenging as PI3K is an atypical kinase and thus less similar to EGFR than for example ErbB2 used in Profile 1. Profile 3, comprised of EGFR and **VEGFR2** as targets and BRAF as anti-target, was contrasted with the hit rate that we found with a standard docking against the single target VEGFR2 (Profile 4).\n",
    "> To broaden the comparison and obtain an estimate for the promiscuity of each compound, the kinases **CDK2**, **LCK**, **MET** and **p38α** were included in the experimental assay panel and the structure-based bioinformatics comparison as commonly used anti-targets.\n",
    "\n",
    "*Table 1:*\n",
    "Kinases used in this notebook, taken from [<i>Molecules</i> (2021), <b>26(3)</b>, 629](https://www.mdpi.com/1420-3049/26/3/629), with their synonyms, UniProt IDs, kinase groups, and full unabbreviated names.\n",
    "\n",
    "| Kinase                     | Synonyms               | UniProt ID | Group    | Full kinase name                                 |\n",
    "|----------------------------|------------------------|------------|----------|--------------------------------------------------|\n",
    "| EGFR                       | ErbB1                  | P00533     | TK       | Epidermal growth factor receptor                 |\n",
    "| ErbB2                      | Her2                   | P04626     | TK       | Erythroblastic leukemia viral oncogene homolog 2 |\n",
    "| PI3K                       | PI3KCA, p110a          | P42336     | Atypical | Phosphatidylinositol-3-kinase                    |\n",
    "| VEGFR2                     | KDR                    | P35968     | TK       | Vascular endothelial growth factor receptor 2    |\n",
    "| BRAF                       | -                      | P15056     | TKL      | Rapidly accelerated fibrosarcoma isoform B       |\n",
    "| CDK2                       | -                      | P24941     | CMGC     | Cyclic-dependent kinase 2                        |\n",
    "| LCK                        | -                      | P06239     | TK       | Lymphocyte-specific protein tyrosine kinase      |\n",
    "| MET                        | -                      | P08581     | TK       | Mesenchymal-epithelial transition factor         |\n",
    "| p38a                       | MAPK14                 | Q16539     | CMGC     | p38 mitogen activated protein kinase α           |"
   ]
  },
  {
   "cell_type": "markdown",
   "metadata": {},
   "source": [
    "### Kinase similarity descriptor: XXX\n",
    "\n",
    "Describe the dataset describing kinase similarity and how we use it.\n",
    "\n",
    "- XXX = KLIFS pocket sequence\n",
    "- XXX = KiSSim fingerprint\n",
    "- XXX = KLIFS IFP\n",
    "- XXX = Ligand promiscuity: ChEMBL28, bioactivity"
   ]
  },
  {
   "cell_type": "markdown",
   "metadata": {},
   "source": [
    "## Practical"
   ]
  },
  {
   "cell_type": "code",
   "execution_count": 1,
   "metadata": {},
   "outputs": [],
   "source": [
    "from pathlib import Path\n",
    "\n",
    "import pandas as pd\n",
    "import matplotlib.pyplot as plt\n",
    "import numpy as np\n",
    "from scipy.spatial import distance_matrix, distance\n",
    "from scipy.cluster import hierarchy"
   ]
  },
  {
   "cell_type": "code",
   "execution_count": 2,
   "metadata": {},
   "outputs": [],
   "source": [
    "HERE = Path(_dh[-1])\n",
    "DATA = HERE / \"data\""
   ]
  },
  {
   "cell_type": "markdown",
   "metadata": {},
   "source": [
    "### Load kinase matrices"
   ]
  },
  {
   "cell_type": "code",
   "execution_count": 3,
   "metadata": {},
   "outputs": [],
   "source": [
    "kinase_distance_matrix_paths = {\n",
    "    \"sequence\": HERE / \"../T024_kinase_similarity_sequence/data/kinase_similarity_matrix_sequence.csv\",\n",
    "    \"kissim\": HERE / \"../T025_kinase_similarity_kissim/data/kinase_distance_matrix_kissim.csv\",\n",
    "    \"ifp\": HERE / \"../T026_kinase_similarity_ifp/data/kinase_distance_matrix_ifp.csv\",\n",
    "    \"ligand-profile\": HERE / \"../T027_kinase_similarity_ligand_profile/data/kinase_similarity_matrix_ligand_profile.csv\"\n",
    "}"
   ]
  },
  {
   "cell_type": "code",
   "execution_count": 4,
   "metadata": {},
   "outputs": [],
   "source": [
    "kinase_distance_matrices = {}\n",
    "for kinsim_perspective, path in kinase_distance_matrix_paths.items():\n",
    "    kinase_distance_matrices[kinsim_perspective] = pd.read_csv(path, index_col=0).round(6)"
   ]
  },
  {
   "cell_type": "code",
   "execution_count": 5,
   "metadata": {},
   "outputs": [
    {
     "data": {
      "text/plain": [
       "{'sequence':            EGFR     ErbB2      BRAF      CDK2       LCK       MET      p38a  \\\n",
       " EGFR   1.000000  0.894118  0.376471  0.317647  0.447059  0.458824  0.388235   \n",
       " ErbB2  0.894118  1.000000  0.400000  0.329412  0.423529  0.470588  0.400000   \n",
       " BRAF   0.376471  0.400000  1.000000  0.329412  0.388235  0.376471  0.376471   \n",
       " CDK2   0.317647  0.329412  0.329412  1.000000  0.376471  0.364706  0.470588   \n",
       " LCK    0.447059  0.423529  0.388235  0.376471  1.000000  0.400000  0.388235   \n",
       " MET    0.458824  0.470588  0.376471  0.364706  0.400000  1.000000  0.364706   \n",
       " p38a   0.388235  0.400000  0.376471  0.470588  0.388235  0.364706  1.000000   \n",
       " KDR    0.470588  0.435294  0.400000  0.341176  0.435294  0.470588  0.388235   \n",
       " p110a  0.117647  0.117647  0.152941  0.105882  0.141176  0.105882  0.141176   \n",
       " \n",
       "             KDR     p110a  \n",
       " EGFR   0.470588  0.117647  \n",
       " ErbB2  0.435294  0.117647  \n",
       " BRAF   0.400000  0.152941  \n",
       " CDK2   0.341176  0.105882  \n",
       " LCK    0.435294  0.141176  \n",
       " MET    0.470588  0.105882  \n",
       " p38a   0.388235  0.141176  \n",
       " KDR    1.000000  0.152941  \n",
       " p110a  0.152941  1.000000  ,\n",
       " 'kissim':             BRAF       CDK2       EGFR      ErbB2        KDR        LCK  \\\n",
       " BRAF    0.000000  17.156339  19.515299  21.382788  21.089165  21.582682   \n",
       " CDK2   17.156339   0.000000  18.146634  21.106349  19.880467  17.972925   \n",
       " EGFR   19.515299  18.146634   0.000000  16.391994  17.281650  16.467225   \n",
       " ErbB2  21.382788  21.106349  16.391994   0.000000  23.850592  23.880970   \n",
       " KDR    21.089165  19.880467  17.281650  23.850592   0.000000  19.254898   \n",
       " LCK    21.582682  17.972925  16.467225  23.880970  19.254898   0.000000   \n",
       " MET    20.297483  18.304288  17.498395  22.563236  20.430532  19.221161   \n",
       " p110a  37.610863  36.780071  36.046207  41.277474  41.104455  39.022018   \n",
       " p38a   21.731421  19.480656  22.127617  24.681708  20.262541  22.456693   \n",
       " \n",
       "              MET      p110a       p38a  \n",
       " BRAF   20.297483  37.610863  21.731421  \n",
       " CDK2   18.304288  36.780071  19.480656  \n",
       " EGFR   17.498395  36.046207  22.127617  \n",
       " ErbB2  22.563236  41.277474  24.681708  \n",
       " KDR    20.430532  41.104455  20.262541  \n",
       " LCK    19.221161  39.022018  22.456693  \n",
       " MET     0.000000  39.414278  21.982655  \n",
       " p110a  39.414278   0.000000  38.529748  \n",
       " p38a   21.982655  38.529748   0.000000  ,\n",
       " 'ifp':            BRAF      CDK2      EGFR     ErbB2       KDR       LCK       MET  \\\n",
       " BRAF   0.000000  0.300000  0.277778  0.393939  0.363636  0.320000  0.368421   \n",
       " CDK2   0.300000  0.000000  0.111111  0.451613  0.238095  0.190476  0.133333   \n",
       " EGFR   0.277778  0.111111  0.000000  0.258065  0.238095  0.166667  0.227273   \n",
       " ErbB2  0.393939  0.451613  0.258065  0.000000  0.406250  0.419355  0.382353   \n",
       " KDR    0.363636  0.238095  0.238095  0.406250  0.000000  0.058824  0.333333   \n",
       " LCK    0.320000  0.190476  0.166667  0.419355  0.058824  0.000000  0.250000   \n",
       " MET    0.368421  0.133333  0.227273  0.382353  0.333333  0.250000  0.000000   \n",
       " p110a  0.500000  0.347826  0.380952  0.571429  0.533333  0.375000  0.428571   \n",
       " p38a   0.333333  0.277778  0.173913  0.258065  0.043478  0.190476  0.352941   \n",
       " \n",
       "           p110a      p38a  \n",
       " BRAF   0.500000  0.333333  \n",
       " CDK2   0.347826  0.277778  \n",
       " EGFR   0.380952  0.173913  \n",
       " ErbB2  0.571429  0.258065  \n",
       " KDR    0.533333  0.043478  \n",
       " LCK    0.375000  0.190476  \n",
       " MET    0.428571  0.352941  \n",
       " p110a  0.000000  0.473684  \n",
       " p38a   0.473684  0.000000  ,\n",
       " 'ligand-profile':            EGFR     ErbB2      BRAF      CDK2       LCK       MET      p38a  \\\n",
       " EGFR   0.608962  0.556918  0.419355  0.116279  0.238462  0.225806  0.315789   \n",
       " ErbB2  0.556918  0.605077  0.250000  0.153846  0.176471  0.035714  0.125000   \n",
       " BRAF   0.419355  0.250000  0.811515  0.066667  0.511628  0.111111  0.644444   \n",
       " CDK2   0.116279  0.153846  0.066667  0.544186  0.166667  0.086957  0.083333   \n",
       " LCK    0.238462  0.176471  0.511628  0.166667  0.605075  0.287879  0.489362   \n",
       " MET    0.225806  0.035714  0.111111  0.086957  0.287879  0.792272  0.047619   \n",
       " p38a   0.315789  0.125000  0.644444  0.083333  0.489362  0.047619  0.764755   \n",
       " KDR    0.348214  0.397790  0.748120  0.601695  0.432692  0.539359  0.500000   \n",
       " p110a  0.071429       NaN  0.166667  0.266667  0.000000  0.000000  0.000000   \n",
       " \n",
       "             KDR     p110a  \n",
       " EGFR   0.348214  0.071429  \n",
       " ErbB2  0.397790       NaN  \n",
       " BRAF   0.748120  0.166667  \n",
       " CDK2   0.601695  0.266667  \n",
       " LCK    0.432692  0.000000  \n",
       " MET    0.539359  0.000000  \n",
       " p38a   0.500000  0.000000  \n",
       " KDR    0.696747  0.180791  \n",
       " p110a  0.180791  0.639522  }"
      ]
     },
     "execution_count": 5,
     "metadata": {},
     "output_type": "execute_result"
    }
   ],
   "source": [
    "kinase_distance_matrices"
   ]
  },
  {
   "cell_type": "markdown",
   "metadata": {
    "tags": []
   },
   "source": [
    "### Visualize similarity for example perspective"
   ]
  },
  {
   "cell_type": "code",
   "execution_count": 6,
   "metadata": {},
   "outputs": [],
   "source": [
    "kinase_distance_matrix = kinase_distance_matrices[\"ifp\"]"
   ]
  },
  {
   "cell_type": "markdown",
   "metadata": {
    "tags": []
   },
   "source": [
    "#### Visualize kinase matrix\n",
    "\n",
    "We visualize the kinase matrix in the form of a heatmap."
   ]
  },
  {
   "cell_type": "code",
   "execution_count": 7,
   "metadata": {},
   "outputs": [
    {
     "data": {
      "image/png": "[encoded data removed]",
      "text/plain": [
       "<Figure size 432x288 with 2 Axes>"
      ]
     },
     "metadata": {
      "needs_background": "light"
     },
     "output_type": "display_data"
    }
   ],
   "source": [
    "#plt.imshow(kinase_distance_matrix, vmin=0.0, vmax=1.0)\n",
    "plt.imshow(kinase_distance_matrix)\n",
    "plt.colorbar(label=\"Kinase similarity\")\n",
    "plt.title(\"Kinase distance matrix\")\n",
    "kinase_names = kinase_distance_matrix.columns.to_list()\n",
    "plt.xticks(ticks=range(0, len(kinase_names)), labels=kinase_names, rotation=45)\n",
    "plt.yticks(ticks=range(0, len(kinase_names)), labels=kinase_names);"
   ]
  },
  {
   "cell_type": "markdown",
   "metadata": {
    "tags": []
   },
   "source": [
    "#### Visualize similarity as dendrogram"
   ]
  },
  {
   "cell_type": "markdown",
   "metadata": {},
   "source": [
    "We use the `scipy` function `squareform` to create a condensed vector of the distance matrix of shape $n*(n-1)/2$, where $n$ is the shape of the quadratic distance matrix. The values in this vector correspond to the values of the lower triangular matrix."
   ]
  },
  {
   "cell_type": "code",
   "execution_count": 8,
   "metadata": {},
   "outputs": [
    {
     "data": {
      "text/plain": [
       "array([0.3     , 0.277778, 0.393939, 0.363636, 0.32    , 0.368421,\n",
       "       0.5     , 0.333333, 0.111111, 0.451613, 0.238095, 0.190476,\n",
       "       0.133333, 0.347826, 0.277778, 0.258065, 0.238095, 0.166667,\n",
       "       0.227273, 0.380952, 0.173913, 0.40625 , 0.419355, 0.382353,\n",
       "       0.571429, 0.258065, 0.058824, 0.333333, 0.533333, 0.043478,\n",
       "       0.25    , 0.375   , 0.190476, 0.428571, 0.352941, 0.473684])"
      ]
     },
     "execution_count": 8,
     "metadata": {},
     "output_type": "execute_result"
    }
   ],
   "source": [
    "D = kinase_distance_matrix.values\n",
    "D_condensed = distance.squareform(D)\n",
    "D_condensed"
   ]
  },
  {
   "cell_type": "markdown",
   "metadata": {},
   "source": [
    "We can submit this condensed vector to a hierarchical clustering to extract the relationship between the different kinases. We use here `method=\"average\"`, which stands for the linkage method UPGMA (unweighted pair group method with arithmetic mean). This means that the distance between two clusters A and B is defined as the average of all distances between pairs of elements in clusters A and B. At each clustering step, the two clusters with the lowest average distance are combined."
   ]
  },
  {
   "cell_type": "code",
   "execution_count": 9,
   "metadata": {},
   "outputs": [],
   "source": [
    "hclust = hierarchy.linkage(D_condensed, method=\"average\")"
   ]
  },
  {
   "cell_type": "markdown",
   "metadata": {},
   "source": [
    "We now generate a phylogenetic tree based on our clustering."
   ]
  },
  {
   "cell_type": "code",
   "execution_count": 10,
   "metadata": {},
   "outputs": [],
   "source": [
    "tree = hierarchy.to_tree(hclust)"
   ]
  },
  {
   "cell_type": "markdown",
   "metadata": {},
   "source": [
    "We visualize this tree as dendrogram."
   ]
  },
  {
   "cell_type": "code",
   "execution_count": 11,
   "metadata": {},
   "outputs": [
    {
     "data": {
      "image/png": "[encoded data removed]",
      "text/plain": [
       "<Figure size 432x288 with 1 Axes>"
      ]
     },
     "metadata": {
      "needs_background": "light"
     },
     "output_type": "display_data"
    }
   ],
   "source": [
    "fig, ax = plt.subplots()\n",
    "labels = kinase_distance_matrix.columns.to_list()\n",
    "hierarchy.dendrogram(hclust, labels=labels, orientation=\"left\", ax=ax)\n",
    "ax.set_xlabel(\"Distance\");"
   ]
  },
  {
   "cell_type": "markdown",
   "metadata": {},
   "source": [
    "### Visualize similarities from different perspectives"
   ]
  },
  {
   "cell_type": "markdown",
   "metadata": {},
   "source": [
    "#### Normalize different matrices [0,1]"
   ]
  },
  {
   "cell_type": "code",
   "execution_count": null,
   "metadata": {},
   "outputs": [],
   "source": []
  },
  {
   "cell_type": "markdown",
   "metadata": {},
   "source": [
    "#### Visualize stuff"
   ]
  },
  {
   "cell_type": "code",
   "execution_count": 12,
   "metadata": {},
   "outputs": [],
   "source": [
    "def heatmap(distance_matrix, ax=None, title=\"\"):\n",
    "    \"\"\"TODO\"\"\"\n",
    "    #plt.imshow(kinase_distance_matrix, vmin=0.0, vmax=1.0)\n",
    "    ax.imshow(distance_matrix)\n",
    "    #ax.colorbar(label=\"Kinase similarity\")\n",
    "    ax.set_title(title)\n",
    "    kinase_names = distance_matrix.columns.to_list()\n",
    "    ax.set_xticks(ticks=range(0, len(kinase_names)))\n",
    "    ax.set_xticklabels(labels=kinase_names, rotation=45)\n",
    "    ax.set_yticks(ticks=range(0, len(kinase_names)))\n",
    "    ax.set_yticklabels(labels=kinase_names)"
   ]
  },
  {
   "cell_type": "code",
   "execution_count": 13,
   "metadata": {},
   "outputs": [],
   "source": [
    "def dendrogram(distance_matrix, ax=None, title=\"\"):\n",
    "    \"\"\"TODO\"\"\"\n",
    "    D = distance_matrix.values\n",
    "    print(title)\n",
    "    D_condensed = distance.squareform(D)\n",
    "    hclust = hierarchy.linkage(D_condensed, method=\"average\")\n",
    "    tree = hierarchy.to_tree(hclust)\n",
    "    labels = distance_matrix.columns.to_list()\n",
    "    hierarchy.dendrogram(hclust, labels=labels, orientation=\"left\", ax=ax)\n",
    "    ax.set_title(title)\n",
    "    ax.set_xlabel(\"Distance\")"
   ]
  },
  {
   "cell_type": "code",
   "execution_count": 14,
   "metadata": {},
   "outputs": [
    {
     "data": {
      "text/html": [
       "<div>\n",
       "<style scoped>\n",
       "    .dataframe tbody tr th:only-of-type {\n",
       "        vertical-align: middle;\n",
       "    }\n",
       "\n",
       "    .dataframe tbody tr th {\n",
       "        vertical-align: top;\n",
       "    }\n",
       "\n",
       "    .dataframe thead th {\n",
       "        text-align: right;\n",
       "    }\n",
       "</style>\n",
       "<table border=\"1\" class=\"dataframe\">\n",
       "  <thead>\n",
       "    <tr style=\"text-align: right;\">\n",
       "      <th></th>\n",
       "      <th>BRAF</th>\n",
       "      <th>CDK2</th>\n",
       "      <th>EGFR</th>\n",
       "      <th>ErbB2</th>\n",
       "      <th>KDR</th>\n",
       "      <th>LCK</th>\n",
       "      <th>MET</th>\n",
       "      <th>p110a</th>\n",
       "      <th>p38a</th>\n",
       "    </tr>\n",
       "  </thead>\n",
       "  <tbody>\n",
       "    <tr>\n",
       "      <th>BRAF</th>\n",
       "      <td>0.000000</td>\n",
       "      <td>17.156339</td>\n",
       "      <td>19.515299</td>\n",
       "      <td>21.382788</td>\n",
       "      <td>21.089165</td>\n",
       "      <td>21.582682</td>\n",
       "      <td>20.297483</td>\n",
       "      <td>37.610863</td>\n",
       "      <td>21.731421</td>\n",
       "    </tr>\n",
       "    <tr>\n",
       "      <th>CDK2</th>\n",
       "      <td>17.156339</td>\n",
       "      <td>0.000000</td>\n",
       "      <td>18.146634</td>\n",
       "      <td>21.106349</td>\n",
       "      <td>19.880467</td>\n",
       "      <td>17.972925</td>\n",
       "      <td>18.304288</td>\n",
       "      <td>36.780071</td>\n",
       "      <td>19.480656</td>\n",
       "    </tr>\n",
       "    <tr>\n",
       "      <th>EGFR</th>\n",
       "      <td>19.515299</td>\n",
       "      <td>18.146634</td>\n",
       "      <td>0.000000</td>\n",
       "      <td>16.391994</td>\n",
       "      <td>17.281650</td>\n",
       "      <td>16.467225</td>\n",
       "      <td>17.498395</td>\n",
       "      <td>36.046207</td>\n",
       "      <td>22.127617</td>\n",
       "    </tr>\n",
       "    <tr>\n",
       "      <th>ErbB2</th>\n",
       "      <td>21.382788</td>\n",
       "      <td>21.106349</td>\n",
       "      <td>16.391994</td>\n",
       "      <td>0.000000</td>\n",
       "      <td>23.850592</td>\n",
       "      <td>23.880970</td>\n",
       "      <td>22.563236</td>\n",
       "      <td>41.277474</td>\n",
       "      <td>24.681708</td>\n",
       "    </tr>\n",
       "    <tr>\n",
       "      <th>KDR</th>\n",
       "      <td>21.089165</td>\n",
       "      <td>19.880467</td>\n",
       "      <td>17.281650</td>\n",
       "      <td>23.850592</td>\n",
       "      <td>0.000000</td>\n",
       "      <td>19.254898</td>\n",
       "      <td>20.430532</td>\n",
       "      <td>41.104455</td>\n",
       "      <td>20.262541</td>\n",
       "    </tr>\n",
       "    <tr>\n",
       "      <th>LCK</th>\n",
       "      <td>21.582682</td>\n",
       "      <td>17.972925</td>\n",
       "      <td>16.467225</td>\n",
       "      <td>23.880970</td>\n",
       "      <td>19.254898</td>\n",
       "      <td>0.000000</td>\n",
       "      <td>19.221161</td>\n",
       "      <td>39.022018</td>\n",
       "      <td>22.456693</td>\n",
       "    </tr>\n",
       "    <tr>\n",
       "      <th>MET</th>\n",
       "      <td>20.297483</td>\n",
       "      <td>18.304288</td>\n",
       "      <td>17.498395</td>\n",
       "      <td>22.563236</td>\n",
       "      <td>20.430532</td>\n",
       "      <td>19.221161</td>\n",
       "      <td>0.000000</td>\n",
       "      <td>39.414278</td>\n",
       "      <td>21.982655</td>\n",
       "    </tr>\n",
       "    <tr>\n",
       "      <th>p110a</th>\n",
       "      <td>37.610863</td>\n",
       "      <td>36.780071</td>\n",
       "      <td>36.046207</td>\n",
       "      <td>41.277474</td>\n",
       "      <td>41.104455</td>\n",
       "      <td>39.022018</td>\n",
       "      <td>39.414278</td>\n",
       "      <td>0.000000</td>\n",
       "      <td>38.529748</td>\n",
       "    </tr>\n",
       "    <tr>\n",
       "      <th>p38a</th>\n",
       "      <td>21.731421</td>\n",
       "      <td>19.480656</td>\n",
       "      <td>22.127617</td>\n",
       "      <td>24.681708</td>\n",
       "      <td>20.262541</td>\n",
       "      <td>22.456693</td>\n",
       "      <td>21.982655</td>\n",
       "      <td>38.529748</td>\n",
       "      <td>0.000000</td>\n",
       "    </tr>\n",
       "  </tbody>\n",
       "</table>\n",
       "</div>"
      ],
      "text/plain": [
       "            BRAF       CDK2       EGFR      ErbB2        KDR        LCK  \\\n",
       "BRAF    0.000000  17.156339  19.515299  21.382788  21.089165  21.582682   \n",
       "CDK2   17.156339   0.000000  18.146634  21.106349  19.880467  17.972925   \n",
       "EGFR   19.515299  18.146634   0.000000  16.391994  17.281650  16.467225   \n",
       "ErbB2  21.382788  21.106349  16.391994   0.000000  23.850592  23.880970   \n",
       "KDR    21.089165  19.880467  17.281650  23.850592   0.000000  19.254898   \n",
       "LCK    21.582682  17.972925  16.467225  23.880970  19.254898   0.000000   \n",
       "MET    20.297483  18.304288  17.498395  22.563236  20.430532  19.221161   \n",
       "p110a  37.610863  36.780071  36.046207  41.277474  41.104455  39.022018   \n",
       "p38a   21.731421  19.480656  22.127617  24.681708  20.262541  22.456693   \n",
       "\n",
       "             MET      p110a       p38a  \n",
       "BRAF   20.297483  37.610863  21.731421  \n",
       "CDK2   18.304288  36.780071  19.480656  \n",
       "EGFR   17.498395  36.046207  22.127617  \n",
       "ErbB2  22.563236  41.277474  24.681708  \n",
       "KDR    20.430532  41.104455  20.262541  \n",
       "LCK    19.221161  39.022018  22.456693  \n",
       "MET     0.000000  39.414278  21.982655  \n",
       "p110a  39.414278   0.000000  38.529748  \n",
       "p38a   21.982655  38.529748   0.000000  "
      ]
     },
     "execution_count": 14,
     "metadata": {},
     "output_type": "execute_result"
    }
   ],
   "source": [
    "kinase_distance_matrices[\"kissim\"]"
   ]
  },
  {
   "cell_type": "code",
   "execution_count": 15,
   "metadata": {},
   "outputs": [],
   "source": [
    "# TODO: lifand profile similarity matrix not considered symmetric due to nan value.\n",
    "# kinase_distance_matrices[\"ligand-profile\"].values == kinase_distance_matrices[\"ligand-profile\"].values.transpose()\n",
    "# kinase_distance_matrices[\"ligand-profile\"]"
   ]
  },
  {
   "cell_type": "code",
   "execution_count": 16,
   "metadata": {},
   "outputs": [
    {
     "name": "stdout",
     "output_type": "stream",
     "text": [
      "34.435289999999995\n",
      "sequence\n",
      "1751.566954\n",
      "kissim\n",
      "22.258792\n",
      "ifp\n",
      "24.793573\n",
      "ligand-profile\n"
     ]
    },
    {
     "ename": "ValueError",
     "evalue": "Distance matrix 'X' must be symmetric.",
     "output_type": "error",
     "traceback": [
      "\u001b[0;31m---------------------------------------------------------------------------\u001b[0m",
      "\u001b[0;31mValueError\u001b[0m                                Traceback (most recent call last)",
      "\u001b[0;32m/var/folders/h4/b6vj1lm52pv9p2mw4q7kltr80000gn/T/ipykernel_73855/77165837.py\u001b[0m in \u001b[0;36m<module>\u001b[0;34m\u001b[0m\n\u001b[1;32m      6\u001b[0m     \u001b[0;32mif\u001b[0m \u001b[0mperspective\u001b[0m \u001b[0;32min\u001b[0m \u001b[0;34m[\u001b[0m\u001b[0;34m\"sequence\"\u001b[0m\u001b[0;34m,\u001b[0m \u001b[0;34m\"ligand-profile\"\u001b[0m\u001b[0;34m]\u001b[0m\u001b[0;34m:\u001b[0m\u001b[0;34m\u001b[0m\u001b[0;34m\u001b[0m\u001b[0m\n\u001b[1;32m      7\u001b[0m         \u001b[0;31m# From similarity to distance matrix\u001b[0m\u001b[0;34m\u001b[0m\u001b[0;34m\u001b[0m\u001b[0;34m\u001b[0m\u001b[0m\n\u001b[0;32m----> 8\u001b[0;31m         \u001b[0mdendrogram\u001b[0m\u001b[0;34m(\u001b[0m\u001b[0mnp\u001b[0m\u001b[0;34m.\u001b[0m\u001b[0mones\u001b[0m\u001b[0;34m(\u001b[0m\u001b[0mmatrix\u001b[0m\u001b[0;34m.\u001b[0m\u001b[0mshape\u001b[0m\u001b[0;34m)\u001b[0m \u001b[0;34m-\u001b[0m \u001b[0mmatrix\u001b[0m\u001b[0;34m,\u001b[0m \u001b[0max\u001b[0m\u001b[0;34m=\u001b[0m\u001b[0maxes\u001b[0m\u001b[0;34m[\u001b[0m\u001b[0;36m1\u001b[0m\u001b[0;34m]\u001b[0m\u001b[0;34m[\u001b[0m\u001b[0mi\u001b[0m\u001b[0;34m]\u001b[0m\u001b[0;34m,\u001b[0m \u001b[0mtitle\u001b[0m\u001b[0;34m=\u001b[0m\u001b[0mperspective\u001b[0m\u001b[0;34m)\u001b[0m\u001b[0;34m\u001b[0m\u001b[0;34m\u001b[0m\u001b[0m\n\u001b[0m\u001b[1;32m      9\u001b[0m     \u001b[0;32melse\u001b[0m\u001b[0;34m:\u001b[0m\u001b[0;34m\u001b[0m\u001b[0;34m\u001b[0m\u001b[0m\n\u001b[1;32m     10\u001b[0m         \u001b[0mdendrogram\u001b[0m\u001b[0;34m(\u001b[0m\u001b[0mmatrix\u001b[0m\u001b[0;34m,\u001b[0m \u001b[0max\u001b[0m\u001b[0;34m=\u001b[0m\u001b[0maxes\u001b[0m\u001b[0;34m[\u001b[0m\u001b[0;36m1\u001b[0m\u001b[0;34m]\u001b[0m\u001b[0;34m[\u001b[0m\u001b[0mi\u001b[0m\u001b[0;34m]\u001b[0m\u001b[0;34m,\u001b[0m \u001b[0mtitle\u001b[0m\u001b[0;34m=\u001b[0m\u001b[0mperspective\u001b[0m\u001b[0;34m)\u001b[0m\u001b[0;34m\u001b[0m\u001b[0;34m\u001b[0m\u001b[0m\n",
      "\u001b[0;32m/var/folders/h4/b6vj1lm52pv9p2mw4q7kltr80000gn/T/ipykernel_73855/3193762658.py\u001b[0m in \u001b[0;36mdendrogram\u001b[0;34m(distance_matrix, ax, title)\u001b[0m\n\u001b[1;32m      3\u001b[0m     \u001b[0mD\u001b[0m \u001b[0;34m=\u001b[0m \u001b[0mdistance_matrix\u001b[0m\u001b[0;34m.\u001b[0m\u001b[0mvalues\u001b[0m\u001b[0;34m\u001b[0m\u001b[0;34m\u001b[0m\u001b[0m\n\u001b[1;32m      4\u001b[0m     \u001b[0mprint\u001b[0m\u001b[0;34m(\u001b[0m\u001b[0mtitle\u001b[0m\u001b[0;34m)\u001b[0m\u001b[0;34m\u001b[0m\u001b[0;34m\u001b[0m\u001b[0m\n\u001b[0;32m----> 5\u001b[0;31m     \u001b[0mD_condensed\u001b[0m \u001b[0;34m=\u001b[0m \u001b[0mdistance\u001b[0m\u001b[0;34m.\u001b[0m\u001b[0msquareform\u001b[0m\u001b[0;34m(\u001b[0m\u001b[0mD\u001b[0m\u001b[0;34m)\u001b[0m\u001b[0;34m\u001b[0m\u001b[0;34m\u001b[0m\u001b[0m\n\u001b[0m\u001b[1;32m      6\u001b[0m     \u001b[0mhclust\u001b[0m \u001b[0;34m=\u001b[0m \u001b[0mhierarchy\u001b[0m\u001b[0;34m.\u001b[0m\u001b[0mlinkage\u001b[0m\u001b[0;34m(\u001b[0m\u001b[0mD_condensed\u001b[0m\u001b[0;34m,\u001b[0m \u001b[0mmethod\u001b[0m\u001b[0;34m=\u001b[0m\u001b[0;34m\"average\"\u001b[0m\u001b[0;34m)\u001b[0m\u001b[0;34m\u001b[0m\u001b[0;34m\u001b[0m\u001b[0m\n\u001b[1;32m      7\u001b[0m     \u001b[0mtree\u001b[0m \u001b[0;34m=\u001b[0m \u001b[0mhierarchy\u001b[0m\u001b[0;34m.\u001b[0m\u001b[0mto_tree\u001b[0m\u001b[0;34m(\u001b[0m\u001b[0mhclust\u001b[0m\u001b[0;34m)\u001b[0m\u001b[0;34m\u001b[0m\u001b[0;34m\u001b[0m\u001b[0m\n",
      "\u001b[0;32m/opt/miniconda3/envs/teachopencadd/lib/python3.8/site-packages/scipy/spatial/distance.py\u001b[0m in \u001b[0;36msquareform\u001b[0;34m(X, force, checks)\u001b[0m\n\u001b[1;32m   2360\u001b[0m             \u001b[0;32mraise\u001b[0m \u001b[0mValueError\u001b[0m\u001b[0;34m(\u001b[0m\u001b[0;34m'The matrix argument must be square.'\u001b[0m\u001b[0;34m)\u001b[0m\u001b[0;34m\u001b[0m\u001b[0;34m\u001b[0m\u001b[0m\n\u001b[1;32m   2361\u001b[0m         \u001b[0;32mif\u001b[0m \u001b[0mchecks\u001b[0m\u001b[0;34m:\u001b[0m\u001b[0;34m\u001b[0m\u001b[0;34m\u001b[0m\u001b[0m\n\u001b[0;32m-> 2362\u001b[0;31m             \u001b[0mis_valid_dm\u001b[0m\u001b[0;34m(\u001b[0m\u001b[0mX\u001b[0m\u001b[0;34m,\u001b[0m \u001b[0mthrow\u001b[0m\u001b[0;34m=\u001b[0m\u001b[0;32mTrue\u001b[0m\u001b[0;34m,\u001b[0m \u001b[0mname\u001b[0m\u001b[0;34m=\u001b[0m\u001b[0;34m'X'\u001b[0m\u001b[0;34m)\u001b[0m\u001b[0;34m\u001b[0m\u001b[0;34m\u001b[0m\u001b[0m\n\u001b[0m\u001b[1;32m   2363\u001b[0m \u001b[0;34m\u001b[0m\u001b[0m\n\u001b[1;32m   2364\u001b[0m         \u001b[0;31m# One-side of the dimensions is set here.\u001b[0m\u001b[0;34m\u001b[0m\u001b[0;34m\u001b[0m\u001b[0;34m\u001b[0m\u001b[0m\n",
      "\u001b[0;32m/opt/miniconda3/envs/teachopencadd/lib/python3.8/site-packages/scipy/spatial/distance.py\u001b[0m in \u001b[0;36mis_valid_dm\u001b[0;34m(D, tol, throw, name, warning)\u001b[0m\n\u001b[1;32m   2435\u001b[0m             \u001b[0;32mif\u001b[0m \u001b[0;32mnot\u001b[0m \u001b[0;34m(\u001b[0m\u001b[0mD\u001b[0m \u001b[0;34m==\u001b[0m \u001b[0mD\u001b[0m\u001b[0;34m.\u001b[0m\u001b[0mT\u001b[0m\u001b[0;34m)\u001b[0m\u001b[0;34m.\u001b[0m\u001b[0mall\u001b[0m\u001b[0;34m(\u001b[0m\u001b[0;34m)\u001b[0m\u001b[0;34m:\u001b[0m\u001b[0;34m\u001b[0m\u001b[0;34m\u001b[0m\u001b[0m\n\u001b[1;32m   2436\u001b[0m                 \u001b[0;32mif\u001b[0m \u001b[0mname\u001b[0m\u001b[0;34m:\u001b[0m\u001b[0;34m\u001b[0m\u001b[0;34m\u001b[0m\u001b[0m\n\u001b[0;32m-> 2437\u001b[0;31m                     raise ValueError(('Distance matrix \\'%s\\' must be '\n\u001b[0m\u001b[1;32m   2438\u001b[0m                                      'symmetric.') % name)\n\u001b[1;32m   2439\u001b[0m                 \u001b[0;32melse\u001b[0m\u001b[0;34m:\u001b[0m\u001b[0;34m\u001b[0m\u001b[0;34m\u001b[0m\u001b[0m\n",
      "\u001b[0;31mValueError\u001b[0m: Distance matrix 'X' must be symmetric."
     ]
    },
    {
     "data": {
      "image/png": "[encoded data removed]",
      "text/plain": [
       "<Figure size 1152x720 with 8 Axes>"
      ]
     },
     "metadata": {
      "needs_background": "light"
     },
     "output_type": "display_data"
    }
   ],
   "source": [
    "n_perspectives = len(kinase_distance_matrices)\n",
    "fig, axes = plt.subplots(2, n_perspectives, figsize=(n_perspectives*4, 10))\n",
    "for i, (perspective, matrix) in enumerate(kinase_distance_matrices.items()):\n",
    "    print(matrix.sum().sum())\n",
    "    heatmap(matrix, ax=axes[0][i], title=perspective)\n",
    "    if perspective in [\"sequence\", \"ligand-profile\"]:\n",
    "        # From similarity to distance matrix\n",
    "        dendrogram(np.ones(matrix.shape) - matrix, ax=axes[1][i], title=perspective)\n",
    "    else:\n",
    "        dendrogram(matrix, ax=axes[1][i], title=perspective)"
   ]
  },
  {
   "cell_type": "markdown",
   "metadata": {},
   "source": [
    "## Discussion\n",
    "\n",
    "Wrap up the talktorial's content here and discuss pros/cons and open questions/challenges."
   ]
  },
  {
   "cell_type": "markdown",
   "metadata": {},
   "source": [
    "## Quiz\n",
    "\n",
    "Ask three questions that the user should be able to answer after doing this talktorial. Choose important take-aways from this talktorial for your questions.\n",
    "\n",
    "1. Question\n",
    "2. Question\n",
    "3. Question"
   ]
  }
 ],
 "metadata": {
  "kernelspec": {
   "display_name": "Python 3 (ipykernel)",
   "language": "python",
   "name": "python3"
  },
  "language_info": {
   "codemirror_mode": {
    "name": "ipython",
    "version": 3
   },
   "file_extension": ".py",
   "mimetype": "text/x-python",
   "name": "python",
   "nbconvert_exporter": "python",
   "pygments_lexer": "ipython3",
   "version": "3.8.10"
  },
  "toc-autonumbering": true,
  "widgets": {
   "application/vnd.jupyter.widget-state+json": {
    "state": {},
    "version_major": 2,
    "version_minor": 0
   }
  }
 },
 "nbformat": 4,
 "nbformat_minor": 4
}
