{
 "cells": [
  {
   "cell_type": "markdown",
   "metadata": {
    "id": "0AT1L4_fX-My"
   },
   "source": [
    "# T018 · Automated pipeline for lead optimization\n",
    "\n",
    "Authors:\n",
    "\n",
    "- Armin Ariamajd, 2021, CADD seminar 2021, Charité/Freie Universität Berlin\n",
    "- Melanie Vogel, 2021, CADD seminar 2021, Charité/Freie Universität Berlin\n",
    "- Andrea Volkamer, 2021, [Volkamer lab, Charité](https://volkamerlab.org/)\n",
    "- Dominique Sydow, 2021, [Volkamer lab, Charité](https://volkamerlab.org/)\n",
    "- Corey Taylor, 2021, [Volkamer lab, Charité](https://volkamerlab.org/)"
   ]
  },
  {
   "cell_type": "markdown",
   "metadata": {
    "id": "ywtrPI2vYQ2F"
   },
   "source": [
    "## Aim of this talktorial\n",
    "\n",
    "In this talktorial, we will learn how to develop an **automated structure-based virtual screening pipeline**. \n",
    "The pipeline is **particularly suited for the hit expansion and lead optimization** phases of a drug discovery project, where a promising ligand (i.e. an initial hit or lead compound) needs to be structurally modified in order to improve its binding affinity and selectivity for the target protein. The general architecture of the pipeline can thus be summarized as follows (Figure 1)."
   ]
  },
  {
   "cell_type": "markdown",
   "metadata": {
    "id": "ywtrPI2vYQ2F"
   },
   "source": [
    "* **Input**\n",
    "    * Target protein structure and a promising ligand (e.g. lead or hit compound), plus specifications of the processes that need to be performed.\n",
    "      \n",
    "      \n",
    "* **Processes**\n",
    "    * Detection of the most druggable binding site for the given protein structure.\n",
    "    * Finding derivatives and structural analogs for the ligand. \n",
    "    * Using those analogs to perform docking calculations on the selected protein binding site.\n",
    "    * Analyzing and vizualizing predicted protein–ligand interactions and binding modes for each analog.\n",
    "    \n",
    "    \n",
    "* **Output**\n",
    "    * New ligand structure(s) optimized for affinity and selectivity."
   ]
  },
  {
   "cell_type": "markdown",
   "metadata": {
    "id": "ywtrPI2vYQ2F"
   },
   "source": [
    "![Pipeline overview](images/sb_vs_pipeline.png)\n",
    "\n",
    "*Figure 1*: General architecture of the automated structure-based virtual screening pipeline."
   ]
  },
  {
   "cell_type": "markdown",
   "metadata": {
    "id": "MgOe9WJjYaw6"
   },
   "source": [
    "<a id='#Contents-in-Theory'></a>\n",
    "\n",
    "### Contents in [*Theory*](#theory)\n",
    "\n",
    "- [Drug design pipeline](#Drug-design-pipeline)\n",
    "- [Binding site detection](#Binding-site-detection) \n",
    "- [Chemical similarity](#Chemical-similarity)\n",
    "- [Molecular docking](#Molecular-docking)\n",
    "- [Protein-ligand interactions](#Protein–ligand-interactions)\n",
    "- [Visual inspection of docking results](#Visual-inspection-of-docking-results)\n",
    "\n",
    "[comment]: <> (If you change a title, you must update the TOC label, to make cross-references functional on our website!)"
   ]
  },
  {
   "cell_type": "markdown",
   "metadata": {
    "id": "MgOe9WJjYaw6"
   },
   "source": [
    "<a id='Contents-in-Practical'></a>\n",
    "\n",
    "### Contents in [*Practical*](#practical)\n",
    "\n",
    "- [Outline of the virtual screening pipeline](#Outline-of-the-virtual-screening-pipeline)\n",
    "- [Creating a new project](#Creating-a-new-project)\n",
    "- [The input data](#The-input-data)\n",
    "- [Processing the input protein data](#Processing-the-input-protein-data)\n",
    "- [Processing the input ligand data](#Processing-the-input-ligand-data)\n",
    "- [Binding site detection](#Binding-site-detection)\n",
    "- [Ligand similarity search](#Ligand-similarity-search)\n",
    "- [Molecular docking](#Molecular-docking)\n",
    "- [Analysis of protein–ligand interactions](#Analysis-of-protein–ligand-interactions)\n",
    "- [Selection of the best optimized ligand](#Selection-of-the-best-optimized-ligand)\n",
    "- [Putting the pieces together: A fully automated pipeline](#Putting-all-the-pieces-together:-A-fully-automated-pipeline)\n",
    "\n",
    "[comment]: <> (If you change a title, you must update the TOC label, to make cross-references functional on our website!)"
   ]
  },
  {
   "cell_type": "markdown",
   "metadata": {
    "jp-MarkdownHeadingCollapsed": true,
    "tags": []
   },
   "source": [
    "### References\n",
    "\n",
    "*Note:* due to the extensive references in each category, details are hidden by default.\n",
    "\n",
    "<details>\n",
    "\n",
    "<summary>Click here for a complete list of references </summary>\n",
    "\n",
    "* TeachOpenCADD teaching platform\n",
    "    1. Journal article on *TeachOpenCADD* teaching platform for computer-aided drug design: [D. Sydow *et al.*, *J. Cheminform.* **2019**, 11, 29.](https://doi.org/10.1186/s13321-019-0351-x)\n",
    "    2. [*TeachOpenCADD* website](https://projects.volkamerlab.org/teachopencadd/index.html) at [Volkamer lab](https://volkamerlab.org/)\n",
    "    3. This talktorial is inspired by the *TeachOpenCADD* talktorials T013-T017\n",
    "* Drug design pipeline\n",
    "    4. Book on drug design: [*G. Klebe*, *Drug Design*, Springer, **2013**.](https://doi.org/10.1007/978-3-642-17907-5)\n",
    "    5. Review article on early stages of drug discovery: [Hughes *et al.*, *Br. J. Pharmacol.* **2011**, 162, 1239-1249.](https://doi.org/10.1111/j.1476-5381.2010.01127.x)\n",
    "    6. Review article on computational drug design: [Sliwoski *et al.*, *Pharmacol. Rev.* **2014**, 66, 334-395.](https://doi.org/10.1124/pr.112.007336)\n",
    "    7. Review article on computational drug discovery: [Leelananda *et al.*, *Beilstein J. Org. Chem.* **2016**, 12, 2694-2718.](https://doi.org/10.3762/bjoc.12.267)\n",
    "    8. Review article on free software for building a virtual screening pipeline: [Glaab, *Brief. Bioinform.* **2016**, 17, 352-366.](https://doi.org/10.1093/bib/bbv037)\n",
    "    9. Review article on automating drug discovery: [Schneider, *Nat. Rev. Drug Discov.* **2018**, 17, 97-113.](https://doi.org/10.1038/nrd.2017.232)\n",
    "    10. Review article on structure-based drug discovery: [Batool *et al.*, *Int. J. Mol. Sci.* **2019**, 20, 2783.](https://doi.org/10.3390/ijms20112783)\n",
    "* Binding site detection and the *DoGSiteScorer* program\n",
    "    11. Book chapter on prediction and analysis of binding sites: [Volkamer *et al.*, *Applied Chemoinformatics*, Wiley, **2018**, pp. 283-311.](https://doi.org/10.1002/9783527806539.ch6g)\n",
    "    12. Journal article on binding site and druggability predictions using *DoGSiteScorer*: [Volkamer *et al.*, *J. Chem. Inf. Model.* **2012**, *52*, 360-372.](https://doi.org/10.1021/ci200454v)\n",
    "    13. Journal article describing the *ProteinsPlus* web-portal: [R. Fahrrolfes *et al.*, *Nucleic Acids Res.* **2017**, 45, W337-W343.](https://doi.org/10.1093/nar/gkx333)\n",
    "    14. [*ProteinsPlus* website](https://proteins.plus/), and information regarding the usage of its *DoGSiteScorer* [REST-API](https://proteins.plus/help/dogsite_rest)\n",
    "    15. *TeachOpenCADD* talktorial on binding site detection: [Talktorial T014](https://projects.volkamerlab.org/teachopencadd/talktorials/T014_binding_site_detection.html)\n",
    "    16. *TeachOpenCADD* talktorial on querying online API web-services: [Talktorial T011](https://projects.volkamerlab.org/teachopencadd/talktorials/T011_query_online_api_webservices.html)\n",
    "* Chemical similarity and the *PubChem* online database\n",
    "    17. Review article on molecular similarity in medicinal chemistry: [G. Maggiora *et al.*, *J. Med. Chem.* **2014**, 57, 3186-3204.](https://doi.org/10.1021/jm401411z)\n",
    "    18. Journal article on extended-connectivity fingerprints: [D. Rogers *et al.*, *J. Chem. Inf. Model.* **2010**, 50, 742-754.](https://doi.org/10.1021/ci100050t)\n",
    "    19. Journal article describing the latest developments of the *PubChem* web-services: [S. Kim *et al.*, *Nucleic Acids Res.* **2019**, 47, D1102-D1109.](https://doi.org/10.1093/nar/gky1033)\n",
    "    20. [*PubChem* website](https://pubchem.ncbi.nlm.nih.gov/), and information regarding the usage of its [APIs](https://pubchemdocs.ncbi.nlm.nih.gov/programmatic-access)\n",
    "    21. Description of *PubChem*'s [custom substructure fingerprint](https://ftp.ncbi.nlm.nih.gov/pubchem/specifications/pubchem_fingerprints.pdf) and [*Tanimoto* similarity measure](https://jcheminf.biomedcentral.com/articles/10.1186/s13321-016-0163-1) used in its similarity search engine.  \n",
    "    22. *TeachOpenCADD* talktorial on compound similarity: [Talktorial T004](https://projects.volkamerlab.org/teachopencadd/talktorials/T004_compound_similarity.html)\n",
    "    23. *TeachOpenCADD* talktorial on data acquisition from *PubChem*: [Talktorial T013](https://projects.volkamerlab.org/teachopencadd/talktorials/T013_query_pubchem.html)\n",
    "* Molecular docking and the *Smina* program\n",
    "    24. Review article on molecular docking algorithms: [X. Y. Meng *et al.*, *Curr. Comput. Aided Drug Des.* **2011**, 7, 146-157.](https://doi.org/10.2174/157340911795677602)\n",
    "    25. Review article on different software used for molecular docking: [N. S. Pagadala *et al.*, *Biophys. Rev.* **2017**, 9, 91-102.](https://doi.org/10.1007/s12551-016-0247-1)\n",
    "    26. Review article on evaluation and comparison of different docking algorithms: [G. L. Warren *et al*, *J. Med. Chem.* **2006**, 49, 5912-5931.](https://doi.org/10.1021/jm050362n)\n",
    "    27. Review article on evaluation of ten docking programs on a diverse set of protein-ligand complexes: [Z. Wang *et al.*, *Phys. Chem. Chem. Phys.* **2016**, 18, 12964-12975.](https://doi.org/10.1039/C6CP01555G)\n",
    "    28. Journal article describing the *Smina* docking program and its scoring function: [D. R. Koes *et al.*, *J. Chem. Inf. Model.* **2013**, 53, 1893-1904.](https://doi.org/10.1021/ci300604z) \n",
    "    29. [*OpenBabel* documentation](http://openbabel.org/wiki/Main_Page)\n",
    "    30. [*Smina* documentation](https://sourceforge.net/projects/smina/)\n",
    "    31. *TeachOpenCADD* talktorial on protein–ligand docking: [Talktorial T015](https://projects.volkamerlab.org/teachopencadd/talktorials/T015_protein_ligand_docking.html)\n",
    "    32. Quantifying the chemical beauty of drugs: [G. Bickerton *et al.*, *Nat. Chem* **2012**, 4(2), 90-98.](https://www.ncbi.nlm.nih.gov/pmc/articles/PMC3524573/)\n",
    "* Protein-ligand interactions and the *PLIP* program\n",
    "    33. Review article on protein-ligand interactions: [X. Du *et al.*, *Int. J. Mol. Sci.* **2016**, 17, 144.](https://doi.org/10.3390/ijms17020144)\n",
    "    34. Journal article analyzing the types and frequencies of different protein-ligand interactions in available protein-ligand complex structures: [R. Ferreira de Freitas *et al.*, *Med. Chem. Commun.* **2017**, 8, 1970-1981.](https://doi.org/10.1039/C7MD00381A)\n",
    "    35. Journal article describing the *PLIP* algorithm: [S. Salentin *et al.*, *Nucleic Acids Res.* **2015**, 43, W443-447.](https://doi.org/10.1093/nar/gkv315)\n",
    "    36. [*PLIP* website](https://plip-tool.biotec.tu-dresden.de/plip-web/plip/index)\n",
    "    37. [*PLIP* documentation](https://github.com/pharmai/plip)\n",
    "    38. *TeachOpenCADD* talktorial on protein-ligand interactions: [Talktorial T016](https://projects.volkamerlab.org/teachopencadd/talktorials/T016_protein_ligand_interactions.html)\n",
    "* Visual inspection of docking results and the *NGLView* program\n",
    "    39. Journal article describing the NGLView program: [H. Nguyen *et al.*, *Bioinformatics* **2018**, 34, 1241-1242.](https://doi.org/10.1093/bioinformatics/btx789)\n",
    "    40. [*NGLView* documentation](http://nglviewer.org/nglview/latest/api.html)\n",
    "    41. *TeachOpenCADD* talktorial on advanced NGLView usage: [Talktorial T017](https://projects.volkamerlab.org/teachopencadd/talktorials/T017_advanced_nglview_usage.html)\n",
    "</details>"
   ]
  },
  {
   "cell_type": "markdown",
   "metadata": {
    "id": "NsYZPbWzaJKc"
   },
   "source": [
    "<a id='theory'></a>\n",
    "\n",
    "## Theory"
   ]
  },
  {
   "cell_type": "markdown",
   "metadata": {},
   "source": [
    "<a id='Drug-design-pipeline'></a>\n",
    "\n",
    "### [Drug design pipeline](#Contents-in-Theory)\n",
    "\n",
    "Modern drug discovery and development is a time and resource-intensive process comprised of several phases (Figure 2). The process from initial hit to the pre-clinical phase can take approximately two to four years and cost hundreds of millions of dollars. Causes for failure in the pre-clinical and clinical phases include compound ineffectiveness or unpredictable side-effects. \n",
    "Thus, computer-aided drug design pipelines can help to accelerate drug discovery projects, e.g. by prioritizing compounds. "
   ]
  },
  {
   "cell_type": "markdown",
   "metadata": {},
   "source": [
    "In this talktorial, we will focus on the **hit-to-lead** and **lead optimization** phases of the pipeline: The goal is to find analogs with improved binding affinities, selectivities, physiochemical and/or pharmacokinetic properties. \n",
    "\n",
    "![Drug design pipeline](images/drug_design_pipeline.png)\n",
    "\n",
    "*Figure 2*: Schematic representation of the main phases in a modern drug discovery pipeline. Figure adapted from: [*Expert Opin. Drug. Discov.* **2010**, 5, 1039-1045.](https://doi.org/10.1517/17460441.2010.515583)"
   ]
  },
  {
   "cell_type": "markdown",
   "metadata": {},
   "source": [
    "<details>\n",
    "<summary>Click here for details about the automated drug design pipeline</summary>\n",
    "Given a target protein structure and a hit or lead compound, instead of synthesizing a variety of analogs and testing their potency in laboratory screening experiments, we will obtain these analogs via a similarity-search algorithm. We can then calculate their physiochemical properties and select the best analogs in order to perform docking calculations. The result of these calculations is an estimation of the affinity for each compound against the target protein. Analogs with the highest calculated binding affinities will be selected and we visualize their predicted binding modes to choose those compounds that exhibit optimal protein-ligand interactions. This can result in enhanced selectivities for the target protein as well.\n",
    "</details>"
   ]
  },
  {
   "cell_type": "markdown",
   "metadata": {
    "id": "S3UoQg9yaO22"
   },
   "source": [
    "<a id='Binding-site-detection'></a>\n",
    "\n",
    "### [Binding site detection ](#Contents-in-Theory)\n",
    "\n",
    "Binding sites, also known as binding pockets, are cavities in the 3-dimensional structure of a protein (Figure 3). These are mostly found on the surface of the protein structure, and are the main regions through which the protein interacts with other entities. For a favorable interaction, the two binding partners need to have complementary steric and electronic properties (cf. lock-and-key principle, induced-fit model). Therefore, attractive intermolecular interactions between the residues of the binding pocket and, for example, a small-molecule ligand is one of the key factors for molecular recognition, and thus, a ligand's potency."
   ]
  },
  {
   "cell_type": "markdown",
   "metadata": {},
   "source": [
    "![Binding site detection](images/binding_site.png)\n",
    "\n",
    "*Figure 3*: Crystal structure of a protein (EGFR; PDB-code: 3W32) with a co-crystallized ligand in its main (orthosteric) binding site. The protein's surface is shown in gray. The binding site is colored blue. The ligand's carbon atoms are colored green. Figure created using *PyMol*."
   ]
  },
  {
   "cell_type": "markdown",
   "metadata": {},
   "source": [
    "#### Binding site detection with *DoGSiteScorer*\n",
    "\n",
    "For binding site detection, we will use the _DoGSiteScorer_ functionality of the [*ProteinsPlus*](https://proteins.plus/) webserver. _DoGSiteScorer_ uses a **geometry- and grid-based detection** algorithm where the protein is embedded into a Cartesian 3D-grid and each grid point is labeled as either free or occupied depending on whether it lies within the van-der-Waals radius of a protein atom. Subsequently, an edge-detection algorithm from image processing, called **Difference of Gaussians** (DoG), is used to identify protrusions on the protein surface. In doing so, cavities on the protein surface that can accommodate a spherical object are identified per grid point. Finally, cavities on neighboring grid-points are clustered together based on specific cut-off criteria, resulting in defined sub-pockets that are merged into pockets (Figure 4). "
   ]
  },
  {
   "cell_type": "markdown",
   "metadata": {},
   "source": [
    "<details>\n",
    "<summary>Click here for additional information on how the DoGSiteScorer algorithm works</summary>\n",
    "For each (sub-)pocket, the algorithm then calculates several descriptors, e.g. volume, surface area, depth, hydrophobicity, number of hydrogen-bond donors/acceptors and amino acid count, as well as two druggability estimates: \n",
    "\n",
    "1. a _simple druggability score_, based on a linear combination of the three descriptors describing volume, hydrophobicity and enclosure.\n",
    "2. another score is calculated by incorporating a subset of meaningful descriptors into a support vector machine (SVM) model, trained and tested on the freely available (non-redundant) druggability dataset consisting of 1069 targets.\n",
    "    \n",
    "Both calculated druggability scores are between 0 and 1, where a higher score corresponds to a more druggable binding site. Using these calculated descriptors and druggability estimates, we can then choose the most suitable pocket depending on the specifics of the project in hand.\n",
    "\n",
    "</details>"
   ]
  },
  {
   "cell_type": "markdown",
   "metadata": {},
   "source": [
    "![Binding site detection with DoGSiteScorer](images/dogsitescorer.png)\n",
    "\n",
    "*Figure 4*: Visualization of some of the sub-pockets (colored meshed volumes) for the EGFR protein (PDB-code: 3W32) as detected by the *DoGSiteScorer* web-service. The co-crystallized ligand is mostly contained in the purple sub-pocket. Figure taken from: [DoGSiteScorer website](http://proteinsplus.zbh.uni-hamburg.de/#dogsite)."
   ]
  },
  {
   "cell_type": "markdown",
   "metadata": {},
   "source": [
    "For more details see [Talktorial T014](https://projects.volkamerlab.org/teachopencadd/talktorials/T014_binding_site_detection.html) on binding site detection and the *DoGSiteScorer*."
   ]
  },
  {
   "cell_type": "markdown",
   "metadata": {
    "id": "-sSc9YhNbydI"
   },
   "source": [
    "<a id='Chemical-similarity'></a>\n",
    "\n",
    "### [Chemical similarity](#Contents-in-Theory)\n",
    "\n",
    "In the hit expansion and lead optimization steps of an experimental drug design pipeline, several derivatives of the initial hit/lead compound are chemically synthesized. \n",
    "Following the similarity hypothesis, analogues can also be computationally obtained by performing a **similarity search** on databases of existing chemical compounds. To do so, a numerical description of compounds is needed (Figure 5), as well as a similarity measure to compare them. One common example are molecular fingerprint descriptors together with the Tanimoto coefficient."
   ]
  },
  {
   "cell_type": "markdown",
   "metadata": {},
   "source": [
    "<details>\n",
    "<summary>Click here for additional information on chemical descriptors</summary>\n",
    "    \n",
    "The simplest descriptors for a molecule are the so-called **1D-descriptors**, which are scalar values corresponding to a certain property of the molecule.\n",
    "Some examples include: Molecular weight, octanol-water partition coefficient (logP) or total polar surface area (TPSA).\n",
    "\n",
    "However, these descriptors usually do not contain enough information to assess the structural and chemical similarity of two compounds. For this purpose, **2D-descriptors**, also known as **molecular fingerprints**, are used. These descriptors are vectors that can represent a specific molecular structure in much more detail using a set of scalars. \n",
    "\n",
    "A variety of algorithms are available for generation of 2D-descriptors from chemical structures, e.g. ***MACCS*** **structural keys** and ***ECFP/Morgan*** **fingerprints**. Generally, these algorithms work by extracting a set of specific features from the structure (Figure 5), generating a numerical representation for each feature, and using these representations to produce either a bit-vector where each component is a bit defining the presence/absence of a particular feature (i.e. Morgan fingerprints), or a count-vector where each value corresponds to the number of times a specific feature is present in the structure (i.e. MACCS keys). \n",
    "    \n",
    "Moreover, there are other scoring functions to calculate the similarity between two molecules based on their 2D-descriptors. These include ***Euclidean***-**distance** and ***Manhattan***-**distance** calculations, where both presence and absence of attributes are considered, or ***Tanimoto*** and ***Dice*** coefficients, which only consider the presence of attributes. It should be noted that there is no single correct approach to calculate molecular similarity, and depending on the purpose of the project different descriptors and metrics may be used, which can generally result in vastly different similarity scores.    \n",
    "</details>"
   ]
  },
  {
   "cell_type": "markdown",
   "metadata": {
    "id": "-sSc9YhNbydI"
   },
   "source": [
    "![Chemical similarity](images/chemical_descriptors.png)\n",
    "\n",
    "*Figure 5*: A simplified depiction of the process of calculating the similarity between two compounds. First, the structure of each compound is encoded into a molecular fingerprint bit-vector, where each bit corresponds to the presence or absence of a particular fragment in the structure, for example. These fingerprints can then be compared using different similarity metrics in order to calculate a similarity score."
   ]
  },
  {
   "cell_type": "markdown",
   "metadata": {},
   "source": [
    "See [Talktorial T004](https://projects.volkamerlab.org/teachopencadd/talktorials/T004_compound_similarity.html) to become more familiar with encoding and comparison of molecular similarity measures."
   ]
  },
  {
   "cell_type": "markdown",
   "metadata": {
    "id": "-sSc9YhNbydI"
   },
   "source": [
    "#### PubChem database\n",
    "\n",
    "In this talktorial, we will use the <a href=\"https://pubchem.ncbi.nlm.nih.gov/\">*PubChem*</a> web-services for performing the similarity search on the input ligand. *PubChem*, which is maintained by the <a href=\"https://www.ncbi.nlm.nih.gov/\">U.S. National Center for Biotechnology Information (NCBI)</a> contains an open database with 110 million chemical compounds and their properties (e.g. identifiers, physiochemical properties, biological activities etc.), which can be accessed through both a web-based interface, and several different web-service Application Programming Interfaces (*API*s). "
   ]
  },
  {
   "cell_type": "markdown",
   "metadata": {
    "id": "-sSc9YhNbydI"
   },
   "source": [
    "Here, we will use their <a href=\"https://pubchemdocs.ncbi.nlm.nih.gov/programmatic-access\">PUG-REST API</a>. It also allows for directly performing similarity searches on the database, using a <a href=\"https://ftp.ncbi.nlm.nih.gov/pubchem/specifications/pubchem_fingerprints.pdf\">custom substructure fingerprint</a> as the 2D-descriptor, and the <a href=\"https://jcheminf.biomedcentral.com/articles/10.1186/s13321-016-0163-1\">*Tanimoto* similarity measure</a> as the metric. Therefore, by submitting a compound's identifier (e.g. SMILES, CID, InChI etc.) to the *PubChem*'s API, providing a similarity threshold and the desired number of maximum results, a certain number of compounds within the given similarity threshold can be obtained."
   ]
  },
  {
   "cell_type": "markdown",
   "metadata": {},
   "source": [
    "For more details on data acquisition from *PubChem*, see [Talktorial T013](https://projects.volkamerlab.org/teachopencadd/talktorials/T013_query_pubchem.html)."
   ]
  },
  {
   "cell_type": "markdown",
   "metadata": {
    "id": "K5OXBSFIijNr"
   },
   "source": [
    "<a id='Molecular-docking'></a>\n",
    "\n",
    "### [Molecular docking](#Contents-in-Theory)\n",
    "\n",
    "After defining an appropriate binding site in the target protein and obtaining a set of analogs for the ligand of interest, the next step is to assess the suitability of each analog in terms of its position in the binding site, otherwise known as the binding mode, and its estimated fit or binding affinity. This can be done using a molecular docking algorithm. "
   ]
  },
  {
   "cell_type": "markdown",
   "metadata": {
    "id": "K5OXBSFIijNr"
   },
   "source": [
    "The process works by **sampling the ligand's conformational space** in the protein's binding site and evaluating the energetics of protein-ligand interactions for each generated conformation using a **scoring function**. The **binding affinity** of each docking pose is then estimated to determine the energetically most-favorable **binding modes**. Examples for docking binding modes are shown in Figure 6."
   ]
  },
  {
   "cell_type": "markdown",
   "metadata": {
    "id": "K5OXBSFIijNr"
   },
   "source": [
    "<details>\n",
    "<summary>Click here for additional information on the docking process </summary> \n",
    "Most docking programs require some preparation steps of the protein and ligand structures. For example: \n",
    "\n",
    "- Hydrogen atoms that are usually absent in crystal structures should be added to the protein. \n",
    "- The correct protonation state for each atom should be calculated based on a given pH value, usually physiological pH (7.4). \n",
    "- Partial charges should be assigned to all atoms. \n",
    "- For ligands, which are usually inputted via text-based representation (e.g. SMILES), a low-energy conformer should also be generated. It is then used as the starting point in the conformational sampling process. \n",
    "\n",
    "However, most of these calculations have limitations on their accuracy. Many are either computationally expensive, such as is the case where the lowest-energy conformation of the ligand is calculated, or require information that is not available beforehand or ambiguous, such as protonation states for the protein and ligand. In many cases, the docking pose with the highest estimated binding affinity does not correspond to the experimentally determined binding mode of the ligand (Figure 6). These limitations, along with others inherent in all force-field based methods do affect the accuracy of the estimates from docking results. \n",
    "</details>"
   ]
  },
  {
   "cell_type": "markdown",
   "metadata": {
    "id": "K5OXBSFIijNr"
   },
   "source": [
    "![Example docking poses](images/docking_poses.png)\n",
    "\n",
    "*Figure 6*: An example of two generated docking poses (red) in a re-docking experiment performed using the *Smina* program, superimposed over the corresponding protein structure (EGFR; PDB-code: 3W32) and the co-crystallized ligand in its native binding mode (green). While the generated docking pose shown on the left is calculated to have a higher binding affinity, it also displays a higher distance-RMSD to the native docking pose. Figure created using *PyMol*."
   ]
  },
  {
   "cell_type": "markdown",
   "metadata": {
    "id": "K5OXBSFIijNr"
   },
   "source": [
    "In this talktorial, we will use the [*Smina*](https://sourceforge.net/projects/smina/) docking program, which is an open-source fork of the docking program [*Autodock Vina*](http://vina.scripps.edu/). *Smina* is open-source software and has a focus on improved scoring functions and energetic minimization. It uses a custom empirical scoring function as default but also supports user-parameterized scoring functions as well. In addition, in order to prepare the protein and ligand structures for the docking experiment (as described above), we will also use the [*Pybel*](https://github.com/pybel/pybel) package - a Python package for the [*OpenBabel*](http://openbabel.org/wiki/Main_Page) program."
   ]
  },
  {
   "cell_type": "markdown",
   "metadata": {},
   "source": [
    "For more details on protein–ligand docking, see [Talktorial T015](https://projects.volkamerlab.org/teachopencadd/talktorials/T015_protein_ligand_docking.html)."
   ]
  },
  {
   "cell_type": "markdown",
   "metadata": {
    "id": "HemOC7hZinzP"
   },
   "source": [
    "<a id='Protein–ligand-interactions'></a>\n",
    "\n",
    "### [Protein–ligand interactions](#Contents-in-Theory)\n",
    "\n",
    "The number and type of non-covalent intermolecular interactions between the protein and the ligand are determining factors of the ligand's potency. The overall affinity of a ligand is an intricate balance of several types of interactions which are mostly governed by steric and electronic properties of the interacting partners."
   ]
  },
  {
   "cell_type": "markdown",
   "metadata": {
    "id": "HemOC7hZinzP"
   },
   "source": [
    "While the most common of these interactions are estimated by the scoring function of the docking algorithm, it is useful to explicitly analyze them in the binding modes generated by the docking calculation. This information can be used to validate the calculated binding poses or to narrow the choice of an optimal lead compound in terms of selectivity, e.g. by choosing those derivatives that exhibit interactions with specific mutated or non-conserved residues in the protein. "
   ]
  },
  {
   "cell_type": "markdown",
   "metadata": {
    "id": "HemOC7hZinzP"
   },
   "source": [
    "In this talktorial, we will use the [*Protein–Ligand Interaction Profiler (PLIP)*](https://plip-tool.biotec.tu-dresden.de/plip-web/plip/index), an open-source program with both a webserver and an available package for Python. *PLIP* can analyze protein-ligand interactions in any given protein-ligand complex structure by selecting pairs of atoms - one from the protein and one from the ligand - that lie within a pre-defined distance cut-off value. It then identifies the potential interactions between selected pairs based on electronic and geometric considerations. \n",
    "\n",
    "Thus, a set of information is outputted for each detected interactions including the interaction type, the atoms involved in each of the ligand and protein and other properties specific to each interaction type. The results can then be used to visualize the protein-ligand interactions (Figure 7) or to analyze them algorithmically."
   ]
  },
  {
   "cell_type": "markdown",
   "metadata": {
    "id": "HemOC7hZinzP"
   },
   "source": [
    "![Protein-ligand interactions in 3D](images/interaction_pattern.png)  \n",
    " \n",
    "*Figure 7*: Visualization of the protein-ligand interactions in a protein-ligand complex structure (EGFR; PDB-code: 3W32) detected by the *PLIP* web-service. From the protein, only the interacting residues are shown with their protein and ligand carbon atoms colored blue and brown, respectively. Hydrophobic interactions are shown as gray dashed lines. Hydrogen bonds are depicted as blue lines. $\\pi$-stacking interactions are shown as green dashed lines. Halogen bonds are displayed using cyan lines. Figure taken from: [PLIP website](https://plip-tool.biotec.tu-dresden.de/plip-web/plip/index)."
   ]
  },
  {
   "cell_type": "markdown",
   "metadata": {},
   "source": [
    "For more details on protein-ligand interactions, see [Talktorial T016](https://projects.volkamerlab.org/teachopencadd/talktorials/T016_protein_ligand_interactions.html)."
   ]
  },
  {
   "cell_type": "markdown",
   "metadata": {
    "id": "saNArWyiQMY1"
   },
   "source": [
    "<a id='Visual-inspection-of-docking-results'></a>\n",
    "\n",
    "### [Visual inspection of docking results](#Contents-in-Theory)\n",
    "\n",
    "Visual inspection of the calculated docking poses and their corresponding protein-ligand interactions is inevitable. Some of the most common considerations when selecting a binding mode ares:\n",
    "\n",
    "- Similarity to experimentally observed binding modes in available crystal structures of the target protein\n",
    "- Steric and electronic complementarity\n",
    "- Polar functional groups in the ligand have an interaction partner in the protein\n",
    "- No solvent-exposed hydrophobic moieties in the ligand\n",
    "- Assessment of the displacement of or interactions with water molecules in the pocket\n",
    "- Steric strain induced by the ligand binding"
   ]
  },
  {
   "cell_type": "markdown",
   "metadata": {
    "id": "saNArWyiQMY1"
   },
   "source": [
    "However, since manual inspection is a time-consuming process, it can only be performed on a small subset of calculated docking poses. These are usually the poses with the highest calculated binding affinities. To visualize the results, we use [*NGLView*](https://nglviewer.org/#nglview), a Jupyter widget using a Python wrapper for the Javascript-based *NGL* library. This allows for visualization of structures within a Jupyter notebook in an interactive 3D view."
   ]
  },
  {
   "cell_type": "markdown",
   "metadata": {},
   "source": [
    "For more details on advanced *NGLView* usage, see [Talktorial T017](https://projects.volkamerlab.org/teachopencadd/talktorials/T017_advanced_nglview_usage.html)."
   ]
  },
  {
   "cell_type": "markdown",
   "metadata": {},
   "source": [
    "<a id='practical'></a>\n",
    "\n",
    "## Practical"
   ]
  },
  {
   "cell_type": "markdown",
   "metadata": {},
   "source": [
    "In this section, we will implement and demonstrate the automated structure-based virtual screening pipeline step by step."
   ]
  },
  {
   "cell_type": "markdown",
   "metadata": {},
   "source": [
    "First, the absolute path for loading and saving the data is set."
   ]
  },
  {
   "cell_type": "code",
   "execution_count": 1,
   "metadata": {},
   "outputs": [],
   "source": [
    "%load_ext autoreload\n",
    "%autoreload 2"
   ]
  },
  {
   "cell_type": "code",
   "execution_count": 2,
   "metadata": {},
   "outputs": [],
   "source": [
    "from pathlib import Path\n",
    "\n",
    "HERE = Path(_dh[-1])\n",
    "DATA = HERE / \"data\""
   ]
  },
  {
   "cell_type": "markdown",
   "metadata": {},
   "source": [
    "**Due to maintenance reasons, we are using frozen datasets at two steps of the notebook that would otherwise return slightly different results everytime this notebook is run.**\n",
    "\n",
    "- *PubChem* similarity search: Since the *PubChem* database is constantly updated, the similarity search will return different results. We use a frozen set of analogs to ensure stable results in this notebook.\n",
    "- Docking starting structures: Everytime we are preparing the PDBQT files for docking, we differ slightly (see [this discussion](https://github.com/openbabel/openbabel/issues/1934)). We use a frozen set of PDBQT files to ensure stable results in this notebook.\n",
    "\n",
    "If you want to run this notebook without frozen datasets, please set `USE_FROZEN_DATASETS` to `False`."
   ]
  },
  {
   "cell_type": "code",
   "execution_count": 3,
   "metadata": {},
   "outputs": [],
   "source": [
    "# If you want to unfreeze the datasets, please set `USE_FROZEN_DATASETS` to False\n",
    "USE_FROZEN_DATASETS = True"
   ]
  },
  {
   "cell_type": "code",
   "execution_count": 4,
   "metadata": {},
   "outputs": [
    {
     "data": {
      "application/vnd.jupyter.widget-view+json": {
       "model_id": "6b7bab7da178480996f461e9e3e65816",
       "version_major": 2,
       "version_minor": 0
      },
      "text/plain": []
     },
     "metadata": {},
     "output_type": "display_data"
    }
   ],
   "source": [
    "from utils import FrozenData\n",
    "\n",
    "frozen_data_project1 = FrozenData(\"Project1\", USE_FROZEN_DATASETS)\n",
    "frozen_data_project2 = FrozenData(\"Project2\", USE_FROZEN_DATASETS)"
   ]
  },
  {
   "cell_type": "markdown",
   "metadata": {},
   "source": [
    "<a id='Outline-of-the-virtual-screening-pipeline'></a>\n",
    "\n",
    "### [Outline of the virtual screening pipeline](#Contents-in-Practical)\n",
    "\n",
    "As this is a relatively large project with several different functionalities, it is a good practice to use **classes**. Classes can contain **methods** or even other classes (sub-classes) and are very useful for organizing a project by form and function. In doing so, the code will be well-structured and easier to follow, maintain, reuse, and expand upon. "
   ]
  },
  {
   "cell_type": "markdown",
   "metadata": {},
   "source": [
    "<details>\n",
    "\n",
    "<summary>Click here for additional information on the use of classes, methods, attributes and objects in Object-Oriented Programming</summary> \n",
    "\n",
    "We are going to use classes and organize them into a processing sequence analogous to a pipeline. When a class or method performs an operation on a piece of data, a new representation of that data is created. This is known as an **object** and the process of creating it is known as **instantiation**.  \n",
    "\n",
    "An object is a versatile representation as it can contain data or instructions, known as as **attributes**. The object will be passed between points in the pipeline for further use or processing depending on what type of object it is or which class or method created it. Objects can be augmented with additional attributes or abilities and are even used to create new objects, gaining all of or a sub-set of its abilities (**inheritance**). This is as opposed to older languages where once data was read in by a program, it could not be altered and instructions for manipulating data were generally run in strict sequence. Objects can also be reused whereas, in older languages, once the data is processed, if it was not saved to disk, it was discarded. This is the essence of all **Object-Oriented Programming (OOP)** languages, which Python is.\n",
    "    \n",
    "</details>"
   ]
  },
  {
   "cell_type": "markdown",
   "metadata": {},
   "source": [
    "As a first step, we will define a container class `LeadOptimizationPipeline` with only a single instance attribute called `name`. For the rest of the talktorial, we will use the **eight main classes** shown below (Figure 8), instantiate them with the necessary input data, and assign that instance to our created project. "
   ]
  },
  {
   "cell_type": "markdown",
   "metadata": {},
   "source": [
    "![Main classes](images/lead_optimization_pipeline_classes.png)\n",
    "\n",
    "*Figure 8*: Main classes used in the pipeline of this talktorial."
   ]
  },
  {
   "cell_type": "markdown",
   "metadata": {},
   "source": [
    "Although it is not necessary that the main classes are created in a specific order, you will see as we go that we can often reuse the functionality from one created class in another. Thus, a natural order forms (`Specs` followed by `Protein` followed by `Ligand`, etc.). As the code behind each class contains dozens of lines, we will not present all of it in this notebook directly. These classes are stored in a separate folder (`utils`) and will be imported and used as necessary. Feel free to peruse those files if you would like to know more about the exact operations that are being done when the code is executed. It bears pointing out that one is not limited to the methods implemented for this talktorial; one of the key advantages of writing a pipeline in this manner is that you can easily add more functionality yourself."
   ]
  },
  {
   "cell_type": "markdown",
   "metadata": {},
   "source": [
    "Furthermore, most of the above classes rely on several helper modules (e.g. `IO`, `PDB`, `PubChem`, etc.), which contain functionalities to assist in the operations of the main classes, such as retrieving data or implementing the software needed to perform a task. These helper modules are stored in a separate folder as well (`utils/helpers`)."
   ]
  },
  {
   "cell_type": "markdown",
   "metadata": {},
   "source": [
    "<details>\n",
    "\n",
    "<summary>Click here for additional information on helper modules that are implemented in the Talktorial</summary> \n",
    "\n",
    "**The `Consts` module**\n",
    "\n",
    "To allow for a more robust pipeline, we define a data class called `Consts` which contains all the possible keywords in the input dataframe, such as the column names, index names, subject names, properties, etc. These keywords are all stored in their respective sub-classes as **enumerations**, so that the rest of the code needs only to refer to the enumeration names and not their values.\n",
    "\n",
    "<details>\n",
    "<summary> Click here for additional information on dealing with input data</summary> \n",
    "\n",
    "In a *quick-and-dirty* approach, the input parameters would be called - whenever needed in the code - using their respective index and column names in the dataframe. However, this often leads to code that is not easily maintainable or expandable. A small change to the input data, such as renaming a column, will require the whole code to be revised accordingly. A more efficient approach is to first internalize all the input data in a data class so that the rest of the program needs only to communicate with this class and not the input dataframe directly.\n",
    "\n",
    "There are several advantages to this approach. First, any error in the input data is recognized in the beginning before any process is performed. In subsequent versions of the program, any change in the input data needs only to be accounted for in this class and not in the entire code. Finally, the class gives an overview of all the possible inputs for the program so you won't need to remember them. \n",
    "</details>\n",
    "    \n",
    "**The `IO` module**\n",
    "\n",
    "To be able to read and process the input data, we defined a helper module called `IO`. This contains all the necessary functions for handling the input and output data. e.g. creating a dataframe from the input CSV file, extracting specific information from the dataframe, or creating folders for storing the output data. \n",
    "\n",
    "**The `PDB` and the `NGLView` modules**\n",
    "\n",
    "These modules contain all the necessary functions for handling protein data by processing PDB files, and for visualizing protein-related data, respectively. They allow us to display and manipulate the protein structure and later the protein binding site, as well as ligand poses and their corresponding protein-ligand interactions obtained after the docking experiments.\n",
    "\n",
    "**The `PubChem` module**\n",
    "\n",
    "The `PubChem` module contains all the necessary functions to use the *PubChem* web-service APIs. This is how we can obtain new information on ligands such as other identifiers (e.g. IUPAC name, SMILES), physiochemical properties and, descriptions etc. *PubChem* has also the ability to perform similarity searches on a given ligand, which we will use in the `LigandSimilaritySearch` class of the pipeline. \n",
    "\n",
    "**The `RDKit` module**\n",
    "\n",
    "This moduile uses the `RDKit` Python library to implement some useful functionalities for ligands, such as \n",
    "\n",
    "* calculating properties and descriptors, \n",
    "* generating images or SDF files\n",
    "* or performing similarity searches. \n",
    "\n",
    "We can retrieve data about a molecule such as molecular weight, partition coefficients or number of hydrogen-bond acceptors/donors. These properties will also be used to calculate several drug-likeness scores. Examples include the Lipinski rule of 5, and the quantitative estimate of drug-likeness (QED). \n",
    "\n",
    "Other useful functionalities that will be imported here include visualization of molecular structures and saving molecules to file, either as an image or a Structure-Data File (SDF). A function is also defined to calculate the similarity between two molecules based on the Dice similarity metric using circular (Morgan) fingerprints. This will be used later to assess the similarity of each analog of the ligand found by the similarity search performed using *PubChem*. \n",
    "\n",
    "**The `DoGSiteScorer` module**\n",
    "\n",
    "This module implements the [API](https://proteins.plus/help/dogsite_rest) of the *DoGSiteScorer* web-service, which can be used to submit binding site detection jobs, either \n",
    "\n",
    "* by providing the PDB-code of protein structure, \n",
    "* or by uploading its PDB file. \n",
    "\n",
    "It also processes the binding site detection results, creating a table of all detected pockets and sub-pockets and their corresponding descriptors. For each detected (sub-)pocket, \n",
    "\n",
    "* a PDB file is provided\n",
    "* and a [CCP4](https://www.ccp4.ac.uk/html/maplib.html#description) map file is generated. \n",
    "\n",
    "These are downloaded and used to define the coordinates of the (sub-)pocket needed for the docking calculation and visualization. The function `select_best_pocket` is also defined which provides several methods for selecting the most suitable binding site.\n",
    "\n",
    "\n",
    "**The `OBabel` module**\n",
    "\n",
    "Here, the [Pybel](https://github.com/pybel/pybel) package of the [OpenBabel](http://openbabel.org/wiki/Main_Page) program is used in order to implement the functions needed to prepare the protein and the ligand analogs for docking.\n",
    "\n",
    "**The `Smina` module**\n",
    "\n",
    "For docking, we are going to use the [Smina](https://sourceforge.net/projects/smina/) program. It does not have a Python-API but we can simply communicate with the program via shell commands. Contained within the module is a function to read the output log of the program and extract useful data. \n",
    "\n",
    "**The `PLIP` module**\n",
    "\n",
    "The [PLIP](https://github.com/pharmai/plip) package is used to implement the functions needed to analyze non-covalent protein-ligand interactions in the generated docking poses. In addition, several functions are defined to filter the docking poses based on desirable interactions with specific residues of the protein.\n",
    "\n",
    "</details>"
   ]
  },
  {
   "cell_type": "markdown",
   "metadata": {},
   "source": [
    "Example demonstrations of each helper module are placed at the end of the talktorial under <a href=\"#supp\">Supplementary Information</a>."
   ]
  },
  {
   "cell_type": "markdown",
   "metadata": {},
   "source": [
    "<a id='Creating-a-new-project'></a>\n",
    "\n",
    "### [Creating a new project](#Contents-in-Practical)\n",
    "\n",
    "To begin with a new project, we first create an instance of the `LeadOptimizationPipeline` class, which we will call `project1`. For demonstration purposes, we have chosen the same protein and ligand illustrated in *Figure 1*, i.e. the epidermal growth factor receptor ([EGFR](https://www.uniprot.org/uniprot/P00533)) as our target protein, and the ligand with the ChEMBL-ID [CHEMBL328216](https://www.ebi.ac.uk/chembl/compound_report_card/CHEMBL328216/). Thus, we will simply name our lead optimization project `Project1_EGFR_CHEMBL328216`:"
   ]
  },
  {
   "cell_type": "code",
   "execution_count": 5,
   "metadata": {},
   "outputs": [],
   "source": [
    "from utils import LeadOptimizationPipeline\n",
    "\n",
    "project1 = LeadOptimizationPipeline(project_name=\"Project1_EGFR_CHEMBL328216\")"
   ]
  },
  {
   "cell_type": "markdown",
   "metadata": {},
   "source": [
    "The instance attribute `name` can then be accessed as follows:"
   ]
  },
  {
   "cell_type": "code",
   "execution_count": 6,
   "metadata": {},
   "outputs": [
    {
     "data": {
      "text/plain": [
       "'Project1_EGFR_CHEMBL328216'"
      ]
     },
     "execution_count": 6,
     "metadata": {},
     "output_type": "execute_result"
    }
   ],
   "source": [
    "project1.name\n",
    "# NBVAL_CHECK_OUTPUT"
   ]
  },
  {
   "cell_type": "markdown",
   "metadata": {},
   "source": [
    "<a id='The-input-data'></a>\n",
    "\n",
    "### [The input data](#Contents-in-Practical)"
   ]
  },
  {
   "cell_type": "markdown",
   "metadata": {},
   "source": [
    "#### Entering the input data\n",
    "\n",
    "The first thing the pipeline should be able to do is to read and process the input data for the protein and the ligand, as well as specifications for the processes that need to be performed on them. As this involves many parameters, it is best to use a file to store all the necessary input data for a specific project. Thus, for each project the user only has to fill in a template input file with all the necessary data and then specify the filepath of the input data when running the program. "
   ]
  },
  {
   "cell_type": "markdown",
   "metadata": {},
   "source": [
    "Here, we use a template CSV file, which is stored in the folder `data`, under the name `InputData_Template`. For demonstration purposes, we can open the empty template file here to have a closer look.\n",
    "\n",
    "We see that the table contains four columns:\n",
    "\n",
    "* **Subject**: Specifies the subject of the input parameter. We need to input a **Protein**, a **Ligand** and a set of specifications corresponding to each part of the pipeline, namely **Binding Site**, **Ligand Similarity Search**, **Docking**, **Interaction Analysis** and **Optimized Ligand**.\n",
    "\n",
    "\n",
    "* **Property**: Specifies a specific property of the **Subject**. Required properties are marked with an asterisk. All other properties are optional (i.e. have default values set in the program), and some are dependent on other properties. For example, If the **Binding Site Definition Method** is not `\"coordinates\"`, then there is no need to enter the value for the **Binding Site Coordinates** row. \n",
    "\n",
    "\n",
    "* **Value**: The only column that should be filled by the user. Each value corresponds to a specific **Property** of a specific **Subject**.\n",
    "\n",
    "\n",
    "* **Description**: Provides a short description as to what input data is expected in each specific row, and when it should be provided.\n",
    "\n",
    "In order to read and process the input file we will use the `pandas` package, which can directly read CSV files and transform them into a `DataFrame` object – the `pandas` equivalent of a table in a database. "
   ]
  },
  {
   "cell_type": "code",
   "execution_count": 7,
   "metadata": {
    "tags": []
   },
   "outputs": [
    {
     "data": {
      "text/html": [
       "<div>\n",
       "<style scoped>\n",
       "    .dataframe tbody tr th:only-of-type {\n",
       "        vertical-align: middle;\n",
       "    }\n",
       "\n",
       "    .dataframe tbody tr th {\n",
       "        vertical-align: top;\n",
       "    }\n",
       "\n",
       "    .dataframe thead th {\n",
       "        text-align: right;\n",
       "    }\n",
       "</style>\n",
       "<table border=\"1\" class=\"dataframe\">\n",
       "  <thead>\n",
       "    <tr style=\"text-align: right;\">\n",
       "      <th></th>\n",
       "      <th>Subject</th>\n",
       "      <th>Property</th>\n",
       "      <th>Value</th>\n",
       "      <th>Description</th>\n",
       "    </tr>\n",
       "  </thead>\n",
       "  <tbody>\n",
       "    <tr>\n",
       "      <th>0</th>\n",
       "      <td>Protein</td>\n",
       "      <td>Input Type*</td>\n",
       "      <td>NaN</td>\n",
       "      <td>Allowed: 'pdb_code', 'pdb_filepath'.</td>\n",
       "    </tr>\n",
       "    <tr>\n",
       "      <th>1</th>\n",
       "      <td>Protein</td>\n",
       "      <td>Input Value*</td>\n",
       "      <td>NaN</td>\n",
       "      <td>Either a valid PDB-code or a local filepath to...</td>\n",
       "    </tr>\n",
       "    <tr>\n",
       "      <th>2</th>\n",
       "      <td>Ligand</td>\n",
       "      <td>Input Type*</td>\n",
       "      <td>NaN</td>\n",
       "      <td>Allowed: 'smiles', 'cid', 'inchi', 'inchikey',...</td>\n",
       "    </tr>\n",
       "    <tr>\n",
       "      <th>3</th>\n",
       "      <td>Ligand</td>\n",
       "      <td>Input Value*</td>\n",
       "      <td>NaN</td>\n",
       "      <td>Identifier value corresponding to given input ...</td>\n",
       "    </tr>\n",
       "    <tr>\n",
       "      <th>4</th>\n",
       "      <td>Binding Site</td>\n",
       "      <td>Definition Method</td>\n",
       "      <td>NaN</td>\n",
       "      <td>Definition method for the protein binding site...</td>\n",
       "    </tr>\n",
       "    <tr>\n",
       "      <th>5</th>\n",
       "      <td>Binding Site</td>\n",
       "      <td>Coordinates</td>\n",
       "      <td>NaN</td>\n",
       "      <td>If Definition Method is 'coordinates', enter t...</td>\n",
       "    </tr>\n",
       "    <tr>\n",
       "      <th>6</th>\n",
       "      <td>Binding Site</td>\n",
       "      <td>Ligand</td>\n",
       "      <td>NaN</td>\n",
       "      <td>If the Definition Method is 'ligand', enter th...</td>\n",
       "    </tr>\n",
       "    <tr>\n",
       "      <th>7</th>\n",
       "      <td>Binding Site</td>\n",
       "      <td>Detection Method</td>\n",
       "      <td>NaN</td>\n",
       "      <td>If the Definition Method is 'detection', enter...</td>\n",
       "    </tr>\n",
       "    <tr>\n",
       "      <th>8</th>\n",
       "      <td>Binding Site</td>\n",
       "      <td>Protein Chain-ID</td>\n",
       "      <td>NaN</td>\n",
       "      <td>If the Definition Method is 'detection', optio...</td>\n",
       "    </tr>\n",
       "    <tr>\n",
       "      <th>9</th>\n",
       "      <td>Binding Site</td>\n",
       "      <td>Protein Ligand-ID</td>\n",
       "      <td>NaN</td>\n",
       "      <td>If the Definition Method is 'detection', optio...</td>\n",
       "    </tr>\n",
       "    <tr>\n",
       "      <th>10</th>\n",
       "      <td>Binding Site</td>\n",
       "      <td>Selection Method</td>\n",
       "      <td>NaN</td>\n",
       "      <td>If the Detection Method is 'dogsitescorer', a ...</td>\n",
       "    </tr>\n",
       "    <tr>\n",
       "      <th>11</th>\n",
       "      <td>Binding Site</td>\n",
       "      <td>Selection Criteria</td>\n",
       "      <td>NaN</td>\n",
       "      <td>If the Selection Method is 'function', a valid...</td>\n",
       "    </tr>\n",
       "    <tr>\n",
       "      <th>12</th>\n",
       "      <td>Ligand Similarity Search</td>\n",
       "      <td>Search Engine</td>\n",
       "      <td>NaN</td>\n",
       "      <td>Search engine used for the similarity search. ...</td>\n",
       "    </tr>\n",
       "    <tr>\n",
       "      <th>13</th>\n",
       "      <td>Ligand Similarity Search</td>\n",
       "      <td>Minumum Similarity [%]</td>\n",
       "      <td>NaN</td>\n",
       "      <td>Threshold of similarity (in percent) for findi...</td>\n",
       "    </tr>\n",
       "    <tr>\n",
       "      <th>14</th>\n",
       "      <td>Ligand Similarity Search</td>\n",
       "      <td>Maximum Number of Results</td>\n",
       "      <td>NaN</td>\n",
       "      <td>Maximum number of analogs to retrieve from the...</td>\n",
       "    </tr>\n",
       "    <tr>\n",
       "      <th>15</th>\n",
       "      <td>Ligand Similarity Search</td>\n",
       "      <td>Maximum Number of Most Drug-Like Analogs to Co...</td>\n",
       "      <td>NaN</td>\n",
       "      <td>Maximum number of analogs with highest drug-li...</td>\n",
       "    </tr>\n",
       "    <tr>\n",
       "      <th>16</th>\n",
       "      <td>Docking</td>\n",
       "      <td>Program</td>\n",
       "      <td>NaN</td>\n",
       "      <td>The docking program to use. Allowed: 'smina'. ...</td>\n",
       "    </tr>\n",
       "    <tr>\n",
       "      <th>17</th>\n",
       "      <td>Docking</td>\n",
       "      <td>Number of Docking Poses per Ligand</td>\n",
       "      <td>NaN</td>\n",
       "      <td>Number of docking poses to generate for each l...</td>\n",
       "    </tr>\n",
       "    <tr>\n",
       "      <th>18</th>\n",
       "      <td>Docking</td>\n",
       "      <td>Exhaustiveness</td>\n",
       "      <td>NaN</td>\n",
       "      <td>Exhaustiveness for sampling the conformation s...</td>\n",
       "    </tr>\n",
       "    <tr>\n",
       "      <th>19</th>\n",
       "      <td>Docking</td>\n",
       "      <td>Random Seed</td>\n",
       "      <td>NaN</td>\n",
       "      <td>Random seed for the docking algorithm to make ...</td>\n",
       "    </tr>\n",
       "    <tr>\n",
       "      <th>20</th>\n",
       "      <td>Interaction Analysis</td>\n",
       "      <td>Program</td>\n",
       "      <td>NaN</td>\n",
       "      <td>The program to use for protein-ligand interact...</td>\n",
       "    </tr>\n",
       "    <tr>\n",
       "      <th>21</th>\n",
       "      <td>Optimized Ligand</td>\n",
       "      <td>Number of Results</td>\n",
       "      <td>NaN</td>\n",
       "      <td>Number of optimized ligands to output at the e...</td>\n",
       "    </tr>\n",
       "    <tr>\n",
       "      <th>22</th>\n",
       "      <td>Optimized Ligand</td>\n",
       "      <td>Selection Method</td>\n",
       "      <td>NaN</td>\n",
       "      <td>Method to select the best optimized ligand(s)....</td>\n",
       "    </tr>\n",
       "    <tr>\n",
       "      <th>23</th>\n",
       "      <td>Optimized Ligand</td>\n",
       "      <td>Selection Criteria</td>\n",
       "      <td>NaN</td>\n",
       "      <td>If the Selection Method is 'function', a valid...</td>\n",
       "    </tr>\n",
       "  </tbody>\n",
       "</table>\n",
       "</div>"
      ],
      "text/plain": [
       "                     Subject  \\\n",
       "0                    Protein   \n",
       "1                    Protein   \n",
       "2                     Ligand   \n",
       "3                     Ligand   \n",
       "4               Binding Site   \n",
       "5               Binding Site   \n",
       "6               Binding Site   \n",
       "7               Binding Site   \n",
       "8               Binding Site   \n",
       "9               Binding Site   \n",
       "10              Binding Site   \n",
       "11              Binding Site   \n",
       "12  Ligand Similarity Search   \n",
       "13  Ligand Similarity Search   \n",
       "14  Ligand Similarity Search   \n",
       "15  Ligand Similarity Search   \n",
       "16                   Docking   \n",
       "17                   Docking   \n",
       "18                   Docking   \n",
       "19                   Docking   \n",
       "20      Interaction Analysis   \n",
       "21          Optimized Ligand   \n",
       "22          Optimized Ligand   \n",
       "23          Optimized Ligand   \n",
       "\n",
       "                                             Property  Value  \\\n",
       "0                                         Input Type*    NaN   \n",
       "1                                        Input Value*    NaN   \n",
       "2                                         Input Type*    NaN   \n",
       "3                                        Input Value*    NaN   \n",
       "4                                   Definition Method    NaN   \n",
       "5                                         Coordinates    NaN   \n",
       "6                                              Ligand    NaN   \n",
       "7                                    Detection Method    NaN   \n",
       "8                                    Protein Chain-ID    NaN   \n",
       "9                                   Protein Ligand-ID    NaN   \n",
       "10                                   Selection Method    NaN   \n",
       "11                                 Selection Criteria    NaN   \n",
       "12                                      Search Engine    NaN   \n",
       "13                             Minumum Similarity [%]    NaN   \n",
       "14                          Maximum Number of Results    NaN   \n",
       "15  Maximum Number of Most Drug-Like Analogs to Co...    NaN   \n",
       "16                                            Program    NaN   \n",
       "17                 Number of Docking Poses per Ligand    NaN   \n",
       "18                                     Exhaustiveness    NaN   \n",
       "19                                        Random Seed    NaN   \n",
       "20                                            Program    NaN   \n",
       "21                                  Number of Results    NaN   \n",
       "22                                   Selection Method    NaN   \n",
       "23                                 Selection Criteria    NaN   \n",
       "\n",
       "                                          Description  \n",
       "0                Allowed: 'pdb_code', 'pdb_filepath'.  \n",
       "1   Either a valid PDB-code or a local filepath to...  \n",
       "2   Allowed: 'smiles', 'cid', 'inchi', 'inchikey',...  \n",
       "3   Identifier value corresponding to given input ...  \n",
       "4   Definition method for the protein binding site...  \n",
       "5   If Definition Method is 'coordinates', enter t...  \n",
       "6   If the Definition Method is 'ligand', enter th...  \n",
       "7   If the Definition Method is 'detection', enter...  \n",
       "8   If the Definition Method is 'detection', optio...  \n",
       "9   If the Definition Method is 'detection', optio...  \n",
       "10  If the Detection Method is 'dogsitescorer', a ...  \n",
       "11  If the Selection Method is 'function', a valid...  \n",
       "12  Search engine used for the similarity search. ...  \n",
       "13  Threshold of similarity (in percent) for findi...  \n",
       "14  Maximum number of analogs to retrieve from the...  \n",
       "15  Maximum number of analogs with highest drug-li...  \n",
       "16  The docking program to use. Allowed: 'smina'. ...  \n",
       "17  Number of docking poses to generate for each l...  \n",
       "18  Exhaustiveness for sampling the conformation s...  \n",
       "19  Random seed for the docking algorithm to make ...  \n",
       "20  The program to use for protein-ligand interact...  \n",
       "21  Number of optimized ligands to output at the e...  \n",
       "22  Method to select the best optimized ligand(s)....  \n",
       "23  If the Selection Method is 'function', a valid...  "
      ]
     },
     "execution_count": 7,
     "metadata": {},
     "output_type": "execute_result"
    }
   ],
   "source": [
    "import pandas as pd  # for creating dataframes and handling data\n",
    "\n",
    "pd.read_csv(DATA / f\"InputData_Template.csv\")\n",
    "# NBVAL_CHECK_OUTPUT"
   ]
  },
  {
   "cell_type": "markdown",
   "metadata": {
    "tags": []
   },
   "source": [
    "#### Reading and processing the input data\n",
    "\n",
    "The `Specs` class of the pipeline was created using the functionalities in the `IO` helper module. This class is responsible for automatically reading and internalizing all the input data contained in the input file. It also contains some logic e.g. to check if all the necessary data for a specific project have been inputted by the user, and to fill in some default values if needed. Furthermore, it creates the necessary folders for the output data, and stores their paths."
   ]
  },
  {
   "cell_type": "markdown",
   "metadata": {},
   "source": [
    "We can now instantiate the `Specs` class and feed the data it requires. This is done by specifying the filepath of the input CSV file and the output path for storing the output data. As discussed, we will assign the created instance to our project, just to have everything organized in one place."
   ]
  },
  {
   "cell_type": "code",
   "execution_count": 8,
   "metadata": {},
   "outputs": [],
   "source": [
    "from utils import Specs\n",
    "\n",
    "project1.Specs = Specs(\n",
    "    input_data_filepath=DATA / \"PipelineInputData_Project1.csv\",\n",
    "    output_data_root_folder_path=DATA / \"Outputs/\" / project1.name,\n",
    ")"
   ]
  },
  {
   "cell_type": "markdown",
   "metadata": {},
   "source": [
    "All the available data in the input CSV file of our project are now contained within the project's `Specs` instance. These can be accessed using the corresponding **instance attributes**."
   ]
  },
  {
   "cell_type": "markdown",
   "metadata": {},
   "source": [
    "<details>\n",
    "\n",
    "<summary> Click here for additional information on instance attributes</summary> \n",
    "\n",
    "An advantage of storing the data as instance attributes and assigning them to `project1` is that everywhere in the code we can directly see all the project's data and know how to access them. Just write `project1.` and press the *tab* button. Code completion will then display a list of all available options to choose from. As we import more classes and add attributes later (`Protein`, `Ligand`, etc.), if you repeat this process, you will see more attributes have been added.\n",
    "</details>"
   ]
  },
  {
   "cell_type": "markdown",
   "metadata": {},
   "source": [
    "Some examples of attributes that have been added by instantiation of the `Specs` class can be seen below:"
   ]
  },
  {
   "cell_type": "code",
   "execution_count": 9,
   "metadata": {},
   "outputs": [
    {
     "data": {
      "text/plain": [
       "'3W32'"
      ]
     },
     "execution_count": 9,
     "metadata": {},
     "output_type": "execute_result"
    }
   ],
   "source": [
    "project1.Specs.Protein.input_value\n",
    "# NBVAL_CHECK_OUTPUT"
   ]
  },
  {
   "cell_type": "code",
   "execution_count": 10,
   "metadata": {},
   "outputs": [
    {
     "data": {
      "text/plain": [
       "'Nc1cc2ncnc(Nc3cccc(Br)c3)c2cc1N'"
      ]
     },
     "execution_count": 10,
     "metadata": {},
     "output_type": "execute_result"
    }
   ],
   "source": [
    "project1.Specs.Ligand.input_value\n",
    "# NBVAL_CHECK_OUTPUT"
   ]
  },
  {
   "cell_type": "markdown",
   "metadata": {},
   "source": [
    "And it is also possible to see the raw input data in its entirety:"
   ]
  },
  {
   "cell_type": "code",
   "execution_count": 11,
   "metadata": {},
   "outputs": [
    {
     "data": {
      "text/html": [
       "<div>\n",
       "<style scoped>\n",
       "    .dataframe tbody tr th:only-of-type {\n",
       "        vertical-align: middle;\n",
       "    }\n",
       "\n",
       "    .dataframe tbody tr th {\n",
       "        vertical-align: top;\n",
       "    }\n",
       "\n",
       "    .dataframe thead th {\n",
       "        text-align: right;\n",
       "    }\n",
       "</style>\n",
       "<table border=\"1\" class=\"dataframe\">\n",
       "  <thead>\n",
       "    <tr style=\"text-align: right;\">\n",
       "      <th></th>\n",
       "      <th></th>\n",
       "      <th>Value</th>\n",
       "    </tr>\n",
       "    <tr>\n",
       "      <th>Subject</th>\n",
       "      <th>Property</th>\n",
       "      <th></th>\n",
       "    </tr>\n",
       "  </thead>\n",
       "  <tbody>\n",
       "    <tr>\n",
       "      <th rowspan=\"2\" valign=\"top\">Protein</th>\n",
       "      <th>Input Type*</th>\n",
       "      <td>pdb_code</td>\n",
       "    </tr>\n",
       "    <tr>\n",
       "      <th>Input Value*</th>\n",
       "      <td>3W32</td>\n",
       "    </tr>\n",
       "    <tr>\n",
       "      <th rowspan=\"2\" valign=\"top\">Ligand</th>\n",
       "      <th>Input Type*</th>\n",
       "      <td>smiles</td>\n",
       "    </tr>\n",
       "    <tr>\n",
       "      <th>Input Value*</th>\n",
       "      <td>Nc1cc2ncnc(Nc3cccc(Br)c3)c2cc1N</td>\n",
       "    </tr>\n",
       "    <tr>\n",
       "      <th rowspan=\"8\" valign=\"top\">Binding Site</th>\n",
       "      <th>Definition Method</th>\n",
       "      <td>detection</td>\n",
       "    </tr>\n",
       "    <tr>\n",
       "      <th>Coordinates</th>\n",
       "      <td>NaN</td>\n",
       "    </tr>\n",
       "    <tr>\n",
       "      <th>Ligand</th>\n",
       "      <td>NaN</td>\n",
       "    </tr>\n",
       "    <tr>\n",
       "      <th>Detection Method</th>\n",
       "      <td>dogsitescorer</td>\n",
       "    </tr>\n",
       "    <tr>\n",
       "      <th>Protein Chain-ID</th>\n",
       "      <td>NaN</td>\n",
       "    </tr>\n",
       "    <tr>\n",
       "      <th>Protein Ligand-ID</th>\n",
       "      <td>NaN</td>\n",
       "    </tr>\n",
       "    <tr>\n",
       "      <th>Selection Method</th>\n",
       "      <td>sorting</td>\n",
       "    </tr>\n",
       "    <tr>\n",
       "      <th>Selection Criteria</th>\n",
       "      <td>lig_cov, poc_cov</td>\n",
       "    </tr>\n",
       "    <tr>\n",
       "      <th rowspan=\"4\" valign=\"top\">Ligand Similarity Search</th>\n",
       "      <th>Search Engine</th>\n",
       "      <td>pubchem</td>\n",
       "    </tr>\n",
       "    <tr>\n",
       "      <th>Minumum Similarity [%]</th>\n",
       "      <td>70</td>\n",
       "    </tr>\n",
       "    <tr>\n",
       "      <th>Maximum Number of Results</th>\n",
       "      <td>30</td>\n",
       "    </tr>\n",
       "    <tr>\n",
       "      <th>Maximum Number of Most Drug-Like Analogs to Continue With</th>\n",
       "      <td>20</td>\n",
       "    </tr>\n",
       "    <tr>\n",
       "      <th rowspan=\"4\" valign=\"top\">Docking</th>\n",
       "      <th>Program</th>\n",
       "      <td>smina</td>\n",
       "    </tr>\n",
       "    <tr>\n",
       "      <th>Number of Docking Poses per Ligand</th>\n",
       "      <td>5</td>\n",
       "    </tr>\n",
       "    <tr>\n",
       "      <th>Exhaustiveness</th>\n",
       "      <td>10</td>\n",
       "    </tr>\n",
       "    <tr>\n",
       "      <th>Random Seed</th>\n",
       "      <td>1111</td>\n",
       "    </tr>\n",
       "    <tr>\n",
       "      <th>Interaction Analysis</th>\n",
       "      <th>Program</th>\n",
       "      <td>plip</td>\n",
       "    </tr>\n",
       "    <tr>\n",
       "      <th rowspan=\"3\" valign=\"top\">Optimized Ligand</th>\n",
       "      <th>Number of Results</th>\n",
       "      <td>1</td>\n",
       "    </tr>\n",
       "    <tr>\n",
       "      <th>Selection Method</th>\n",
       "      <td>sorting</td>\n",
       "    </tr>\n",
       "    <tr>\n",
       "      <th>Selection Criteria</th>\n",
       "      <td>affinity, total_num_interactions, drug_score_t...</td>\n",
       "    </tr>\n",
       "  </tbody>\n",
       "</table>\n",
       "</div>"
      ],
      "text/plain": [
       "                                                                                                                         Value\n",
       "Subject                  Property                                                                                             \n",
       "Protein                  Input Type*                                                                                  pdb_code\n",
       "                         Input Value*                                                                                     3W32\n",
       "Ligand                   Input Type*                                                                                    smiles\n",
       "                         Input Value*                                                          Nc1cc2ncnc(Nc3cccc(Br)c3)c2cc1N\n",
       "Binding Site             Definition Method                                                                           detection\n",
       "                         Coordinates                                                                                       NaN\n",
       "                         Ligand                                                                                            NaN\n",
       "                         Detection Method                                                                        dogsitescorer\n",
       "                         Protein Chain-ID                                                                                  NaN\n",
       "                         Protein Ligand-ID                                                                                 NaN\n",
       "                         Selection Method                                                                              sorting\n",
       "                         Selection Criteria                                                                   lig_cov, poc_cov\n",
       "Ligand Similarity Search Search Engine                                                                                 pubchem\n",
       "                         Minumum Similarity [%]                                                                             70\n",
       "                         Maximum Number of Results                                                                          30\n",
       "                         Maximum Number of Most Drug-Like Analogs to Con...                                                 20\n",
       "Docking                  Program                                                                                         smina\n",
       "                         Number of Docking Poses per Ligand                                                                  5\n",
       "                         Exhaustiveness                                                                                     10\n",
       "                         Random Seed                                                                                      1111\n",
       "Interaction Analysis     Program                                                                                          plip\n",
       "Optimized Ligand         Number of Results                                                                                   1\n",
       "                         Selection Method                                                                              sorting\n",
       "                         Selection Criteria                                  affinity, total_num_interactions, drug_score_t..."
      ]
     },
     "execution_count": 11,
     "metadata": {},
     "output_type": "execute_result"
    }
   ],
   "source": [
    "project1.Specs.RawData.all_data\n",
    "# NBVAL_CHECK_OUTPUT"
   ]
  },
  {
   "cell_type": "markdown",
   "metadata": {},
   "source": [
    "<a id='Processing-the-input-protein-data'></a>\n",
    "\n",
    "### [Processing the input protein data](#Contents-in-Practical)\n",
    "\n",
    "The `Protein` class of the pipeline can be instantiated by inputting the protein data of the project, namely:\n",
    "\n",
    "* Protein input type\n",
    "* Corresponding input value\n",
    "* Output path for storing the protein data. \n",
    "\n",
    "It then creates a *Protein* object with extended attributes and methods, using the functionalities defined in the `PDB` and `NGLView` helper modules, ."
   ]
  },
  {
   "cell_type": "code",
   "execution_count": null,
   "metadata": {},
   "outputs": [],
   "source": [
    "from utils import Protein\n",
    "\n",
    "project1.Protein = Protein(\n",
    "    identifier_type=project1.Specs.Protein.input_type,\n",
    "    identifier_value=project1.Specs.Protein.input_value,\n",
    "    protein_output_path=project1.Specs.OutputPaths.protein,\n",
    ")"
   ]
  },
  {
   "cell_type": "markdown",
   "metadata": {},
   "source": [
    "For example, we have implemented a `__call__` method, which prints out some useful information and visualizes the protein's structure, simply by calling the object:"
   ]
  },
  {
   "cell_type": "code",
   "execution_count": null,
   "metadata": {},
   "outputs": [],
   "source": [
    "project1.Protein()"
   ]
  },
  {
   "cell_type": "markdown",
   "metadata": {},
   "source": [
    "All of this information and other properties are stored separately as instance attributes, e.g. a list of information on all co-crystallized ligands where each entry contains\n",
    "\n",
    "* the ligand-ID\n",
    "* the protein chain-ID followed by the ligand residue number\n",
    "* and the number of heavy atoms in the ligand. \n",
    "\n",
    "For example, here the first ligand has the ID `\"W32\"`, is on chain `\"A\"` at residue number `\"1101\"`, and has 39 heavy atoms:"
   ]
  },
  {
   "cell_type": "code",
   "execution_count": null,
   "metadata": {},
   "outputs": [],
   "source": [
    "project1.Protein.ligands\n",
    "# NBVAL_CHECK_OUTPUT"
   ]
  },
  {
   "cell_type": "markdown",
   "metadata": {},
   "source": [
    "When the protein is inputted by its PDB-code, the PDB file will also be automatically downloaded and stored in the defined output path for the protein output data. The full path is also accessible via the attribute `pdb_filepath`: "
   ]
  },
  {
   "cell_type": "code",
   "execution_count": null,
   "metadata": {},
   "outputs": [],
   "source": [
    "project1.Protein.pdb_filepath"
   ]
  },
  {
   "cell_type": "markdown",
   "metadata": {},
   "source": [
    "<a id='Processing-the-input-ligand-data'></a>\n",
    "\n",
    "### [Processing the input ligand data](#Contents-in-Practical)\n",
    "\n",
    "Using the defined functionalities in the `PubChem` and `RDKit` helper modules, we have implemented the pipeline's `Ligand` class. Similar to the `Protein` class, this class also takes in the ligand's input data and creates an object with extended attributes and methods to work with ligands.\n",
    "\n",
    "We can now create an instance of the `Ligand` class using the input data of our project's ligand, and assign it to our project:"
   ]
  },
  {
   "cell_type": "code",
   "execution_count": 12,
   "metadata": {},
   "outputs": [],
   "source": [
    "from utils import Ligand\n",
    "\n",
    "project1.Ligand = Ligand(\n",
    "    identifier_type=project1.Specs.Ligand.input_type,\n",
    "    identifier_value=project1.Specs.Ligand.input_value,\n",
    "    ligand_output_path=project1.Specs.OutputPaths.ligand,\n",
    ")"
   ]
  },
  {
   "cell_type": "markdown",
   "metadata": {},
   "source": [
    "Similar to the `Protein` object, we have implemented a `__call__` method for our `Ligand` which prints out some useful information and visualizes the ligand's structure:"
   ]
  },
  {
   "cell_type": "code",
   "execution_count": 13,
   "metadata": {
    "tags": [
     "nbsphinx-thumbnail"
    ]
   },
   "outputs": [
    {
     "data": {
      "text/html": [
       "<div>\n",
       "<style scoped>\n",
       "    .dataframe tbody tr th:only-of-type {\n",
       "        vertical-align: middle;\n",
       "    }\n",
       "\n",
       "    .dataframe tbody tr th {\n",
       "        vertical-align: top;\n",
       "    }\n",
       "\n",
       "    .dataframe thead th {\n",
       "        text-align: right;\n",
       "    }\n",
       "</style>\n",
       "<table border=\"1\" class=\"dataframe\">\n",
       "  <thead>\n",
       "    <tr style=\"text-align: right;\">\n",
       "      <th></th>\n",
       "      <th></th>\n",
       "      <th>Value</th>\n",
       "    </tr>\n",
       "    <tr>\n",
       "      <th>Structure</th>\n",
       "      <th>Property</th>\n",
       "      <th></th>\n",
       "    </tr>\n",
       "  </thead>\n",
       "  <tbody>\n",
       "    <tr>\n",
       "      <th rowspan=\"17\" valign=\"top\"><img data-content=\"rdkit/molecule\" src=\"data:image/png;base64,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\" alt=\"Mol\"/></th>\n",
       "      <th>name</th>\n",
       "      <td>4-N-(3-Bromophenyl)quinazoline-4,6,7-triamine</td>\n",
       "    </tr>\n",
       "    <tr>\n",
       "      <th>iupac_name</th>\n",
       "      <td>4-N-(3-bromophenyl)quinazoline-4,6,7-triamine</td>\n",
       "    </tr>\n",
       "    <tr>\n",
       "      <th>smiles</th>\n",
       "      <td>C1=CC(=CC(=C1)Br)NC2=NC=NC3=CC(=C(C=C32)N)N</td>\n",
       "    </tr>\n",
       "    <tr>\n",
       "      <th>cid</th>\n",
       "      <td>2426</td>\n",
       "    </tr>\n",
       "    <tr>\n",
       "      <th>inchi</th>\n",
       "      <td>InChI=1S/C14H12BrN5/c15-8-2-1-3-9(4-8)20-14-10...</td>\n",
       "    </tr>\n",
       "    <tr>\n",
       "      <th>inchikey</th>\n",
       "      <td>ADXSZLCTQCWMTE-UHFFFAOYSA-N</td>\n",
       "    </tr>\n",
       "    <tr>\n",
       "      <th>mol_weight</th>\n",
       "      <td>330.189</td>\n",
       "    </tr>\n",
       "    <tr>\n",
       "      <th>num_H_acceptors</th>\n",
       "      <td>5</td>\n",
       "    </tr>\n",
       "    <tr>\n",
       "      <th>num_H_donors</th>\n",
       "      <td>3</td>\n",
       "    </tr>\n",
       "    <tr>\n",
       "      <th>logp</th>\n",
       "      <td>3.3</td>\n",
       "    </tr>\n",
       "    <tr>\n",
       "      <th>tpsa</th>\n",
       "      <td>89.85</td>\n",
       "    </tr>\n",
       "    <tr>\n",
       "      <th>num_rot_bonds</th>\n",
       "      <td>2</td>\n",
       "    </tr>\n",
       "    <tr>\n",
       "      <th>saturation</th>\n",
       "      <td>0.0</td>\n",
       "    </tr>\n",
       "    <tr>\n",
       "      <th>drug_score_qed</th>\n",
       "      <td>0.63</td>\n",
       "    </tr>\n",
       "    <tr>\n",
       "      <th>drug_score_lipinski</th>\n",
       "      <td>1.0</td>\n",
       "    </tr>\n",
       "    <tr>\n",
       "      <th>drug_score_custom</th>\n",
       "      <td>0.65</td>\n",
       "    </tr>\n",
       "    <tr>\n",
       "      <th>drug_score_total</th>\n",
       "      <td>0.7</td>\n",
       "    </tr>\n",
       "  </tbody>\n",
       "</table>\n",
       "</div>"
      ],
      "text/plain": [
       "                                                                                                                    Value\n",
       "Structure                                          Property                                                              \n",
       "<img data-content=\"rdkit/molecule\" src=\"data:im... name                     4-N-(3-Bromophenyl)quinazoline-4,6,7-triamine\n",
       "                                                   iupac_name               4-N-(3-bromophenyl)quinazoline-4,6,7-triamine\n",
       "                                                   smiles                     C1=CC(=CC(=C1)Br)NC2=NC=NC3=CC(=C(C=C32)N)N\n",
       "                                                   cid                                                               2426\n",
       "                                                   inchi                InChI=1S/C14H12BrN5/c15-8-2-1-3-9(4-8)20-14-10...\n",
       "                                                   inchikey                                   ADXSZLCTQCWMTE-UHFFFAOYSA-N\n",
       "                                                   mol_weight                                                     330.189\n",
       "                                                   num_H_acceptors                                                      5\n",
       "                                                   num_H_donors                                                         3\n",
       "                                                   logp                                                               3.3\n",
       "                                                   tpsa                                                             89.85\n",
       "                                                   num_rot_bonds                                                        2\n",
       "                                                   saturation                                                         0.0\n",
       "                                                   drug_score_qed                                                    0.63\n",
       "                                                   drug_score_lipinski                                                1.0\n",
       "                                                   drug_score_custom                                                 0.65\n",
       "                                                   drug_score_total                                                   0.7"
      ]
     },
     "execution_count": 13,
     "metadata": {},
     "output_type": "execute_result"
    }
   ],
   "source": [
    "project1.Ligand()"
   ]
  },
  {
   "cell_type": "markdown",
   "metadata": {},
   "source": [
    "All of this information and some other properties are also stored separately as instance attributes.\n",
    "\n",
    "For example, the ligand's identifiers:"
   ]
  },
  {
   "cell_type": "code",
   "execution_count": 14,
   "metadata": {},
   "outputs": [
    {
     "data": {
      "text/plain": [
       "'4-N-(3-bromophenyl)quinazoline-4,6,7-triamine'"
      ]
     },
     "execution_count": 14,
     "metadata": {},
     "output_type": "execute_result"
    }
   ],
   "source": [
    "project1.Ligand.iupac_name\n",
    "# NBVAL_CHECK_OUTPUT"
   ]
  },
  {
   "cell_type": "code",
   "execution_count": 15,
   "metadata": {},
   "outputs": [
    {
     "data": {
      "text/plain": [
       "'2426'"
      ]
     },
     "execution_count": 15,
     "metadata": {},
     "output_type": "execute_result"
    }
   ],
   "source": [
    "project1.Ligand.cid\n",
    "# NBVAL_CHECK_OUTPUT"
   ]
  },
  {
   "cell_type": "markdown",
   "metadata": {},
   "source": [
    "Or some of its physiochemical properties:"
   ]
  },
  {
   "cell_type": "code",
   "execution_count": 16,
   "metadata": {},
   "outputs": [
    {
     "data": {
      "text/plain": [
       "330.189"
      ]
     },
     "execution_count": 16,
     "metadata": {},
     "output_type": "execute_result"
    }
   ],
   "source": [
    "project1.Ligand.mol_weight\n",
    "# NBVAL_CHECK_OUTPUT"
   ]
  },
  {
   "cell_type": "markdown",
   "metadata": {},
   "source": [
    "<details>\n",
    "\n",
    "<summary> Click here for additional information and details of other useful functions </summary> \n",
    "\n",
    "We have also implemented some functions as methods for the **Ligand** class. For example, the ***remove_counterion*** method can be used to remove the counter-ion of salt compounds from the main molecule in the SMILES. Calling this method will simply return the modified SMILES. In the case of our ligand, which is not charged and does not have a counter-ion, the original SMILES is returned: \n",
    "```python\n",
    "project1.Ligand.remove_counterion()\n",
    "```\n",
    "This is necessary for the docking process as _Smina_ can have problems processing PDBQT files of salt compounds. \n",
    "    \n",
    "</details>"
   ]
  },
  {
   "cell_type": "markdown",
   "metadata": {},
   "source": [
    "<a id='Binding-site-detection'></a>\n",
    "\n",
    "### [Binding site detection](#Contents-in-Practical)\n",
    "\n",
    "Now that the processing of all input data is completed, we can begin the binding site detection process. This is carried out by the `BindingSiteDetection` class of the pipeline, which automatically runs all the required processes based on the specifications in the input data, and stores the results (e.g. coordinates of the most suitable binding site) as instance attributes in the instantiated object. "
   ]
  },
  {
   "cell_type": "markdown",
   "metadata": {},
   "source": [
    "In the input CSV file, you'll notice that the user has the option to select between three definition methods for the binding site:\n",
    "\n",
    "1. `coordinates`: The user must specify the coordinates of the binding site. In this case, there is no need for binding site detection. \n",
    "2. `ligand`: The user should specify the ID of a co-crystallized ligand in the protein structure. This will then be used here to define the binding site. \n",
    "3. `detection`: The user should specify a **detection method**. "
   ]
  },
  {
   "cell_type": "markdown",
   "metadata": {},
   "source": [
    "For this talktorial, we use the *DoGSiteScorer* functionality of the [*ProteinsPlus*](https://proteins.plus) webserver as our detection method. The functions required for communication with the *DoGSiteScorer* webserver's API are implemented in the `DoGSiteScorer` helper module (for a demonstration of each function, see the <a href=\"#dogsitescorer_demo\">corresponding section</a> in *Supplementary Information*)."
   ]
  },
  {
   "cell_type": "markdown",
   "metadata": {},
   "source": [
    "We can now instantiate the `BindingSiteDetection` class using \n",
    "\n",
    "* the `Protein` object, \n",
    "* the `Specs.BindingSite` object, \n",
    "* and the binding site output path of our project. "
   ]
  },
  {
   "cell_type": "code",
   "execution_count": null,
   "metadata": {
    "tags": []
   },
   "outputs": [],
   "source": [
    "from utils import BindingSiteDetection\n",
    "\n",
    "project1.BindingSiteDetection = BindingSiteDetection(\n",
    "    project1.Protein,\n",
    "    project1.Specs.BindingSite,\n",
    "    project1.Specs.OutputPaths.binding_site_detection,\n",
    ")"
   ]
  },
  {
   "cell_type": "markdown",
   "metadata": {},
   "source": [
    "All intermediate information leading to the selected binding-pocket's coordinates is now stored in the `BindingSiteDetection` instance of our project.\n",
    "\n",
    "For example, a dataframe containing all retrieved information on all detected binding sites:"
   ]
  },
  {
   "cell_type": "code",
   "execution_count": null,
   "metadata": {},
   "outputs": [],
   "source": [
    "project1.BindingSiteDetection.dogsitescorer_binding_sites_df.head()\n",
    "# NBVAL_CHECK_OUTPUT"
   ]
  },
  {
   "cell_type": "markdown",
   "metadata": {},
   "source": [
    "The name of the selected binding site:"
   ]
  },
  {
   "cell_type": "code",
   "execution_count": null,
   "metadata": {},
   "outputs": [],
   "source": [
    "project1.BindingSiteDetection.best_binding_site_name\n",
    "# NBVAL_CHECK_OUTPUT"
   ]
  },
  {
   "cell_type": "markdown",
   "metadata": {},
   "source": [
    "We can also visualize the selected binding pocket (or any other pocket by providing its name; e.g. `project1.BindingSiteDetection.visualize(\"P_0\")`):"
   ]
  },
  {
   "cell_type": "code",
   "execution_count": null,
   "metadata": {
    "tags": []
   },
   "outputs": [],
   "source": [
    "project1.BindingSiteDetection.visualize_best()"
   ]
  },
  {
   "cell_type": "markdown",
   "metadata": {},
   "source": [
    "Most importantly, the coordinates of the selected binding site are also assigned to the `Protein` object in the project:"
   ]
  },
  {
   "cell_type": "code",
   "execution_count": null,
   "metadata": {},
   "outputs": [],
   "source": [
    "project1.Protein.binding_site_coordinates\n",
    "# NBVAL_CHECK_OUTPUT"
   ]
  },
  {
   "cell_type": "markdown",
   "metadata": {},
   "source": [
    "<a id='Ligand-similarity-search'></a>\n",
    "\n",
    "### [Ligand similarity search](#Contents-in-Practical)\n",
    "\n",
    "With the coordinates of the protein's binding site in hand, we now focus on the ligand similarity-search part of the pipeline. This is implemented in the `LigandSimilaritySearch` class, which takes in the `Ligand` object and the `Specs.LigandSimilaritySearch` object of the pipeline and initializes a similarity search using the *PubChem* webserver with the help of functions implemented in the `PubChem` helper module. Several drug-likeness scores are then automatically calculated for each of the analogs retrieved. Using these scores, a given number (specified in the input file) of most drug-like analogs are selected and used to create `Ligand` objects with the help of the `Ligand` class that we used earlier. These are assigned as an instance attribute to the `LigandSimilaritySearch` class as well as the input `Ligand` object."
   ]
  },
  {
   "cell_type": "markdown",
   "metadata": {},
   "source": [
    "<details>\n",
    "\n",
    "<summary> Click here for additional information about the drug-likeness scores </summary> \n",
    "\n",
    "`drug_score_total` is calculated as a weighted average of the following three drug-likeness scores, with a ratio of 3:2:1, respectively:\n",
    "\n",
    "* Quantitative Estimate of Drug-likeness (QED) calculated by RDKit using default parameters\n",
    "* QED calculated by implementing functions that fit experimental data from Bickerton et al. (2012) (see references)\n",
    "* Lipinski's rule of 5 (normalized, i.e. 4 = 1, 3 = 0.75, 2 = 0.5, 1 = 0.25, 0 = 0)\n",
    "</details>"
   ]
  },
  {
   "cell_type": "markdown",
   "metadata": {},
   "source": [
    "We instantiate the class and assign it to our project (*Note*: For this project, this process will take **about 2 minutes** to complete):"
   ]
  },
  {
   "cell_type": "code",
   "execution_count": 17,
   "metadata": {},
   "outputs": [],
   "source": [
    "# TODO remove again; only for CI testing\n",
    "from utils.helpers import obabel\n",
    "\n",
    "obabel.create_pdbqt_from_smiles(\"Nc1cc2ncnc(Nc3cccc(Br)c3)c2cc1N\", Path(\".\") / \"ligand.pdbqt\")"
   ]
  },
  {
   "cell_type": "code",
   "execution_count": 18,
   "metadata": {},
   "outputs": [],
   "source": [
    "from utils import LigandSimilaritySearch\n",
    "\n",
    "project1.LigandSimilaritySearch = LigandSimilaritySearch(\n",
    "    project1.Ligand,\n",
    "    project1.Specs.LigandSimilaritySearch,\n",
    "    project1.Specs.OutputPaths.similarity_search,\n",
    "    frozen_data_filepath=frozen_data_project1.pubchem_similarity_search,\n",
    ")"
   ]
  },
  {
   "cell_type": "markdown",
   "metadata": {},
   "source": [
    "Now, we can view the full list of all fetched analogs, their calculated physiochemical properties and drug-likeness scores. "
   ]
  },
  {
   "cell_type": "code",
   "execution_count": 19,
   "metadata": {},
   "outputs": [
    {
     "data": {
      "text/plain": [
       "(30, 14)"
      ]
     },
     "execution_count": 19,
     "metadata": {},
     "output_type": "execute_result"
    }
   ],
   "source": [
    "project1.LigandSimilaritySearch.all_analogs.shape"
   ]
  },
  {
   "cell_type": "code",
   "execution_count": 20,
   "metadata": {},
   "outputs": [
    {
     "data": {
      "text/html": [
       "<div>\n",
       "<style scoped>\n",
       "    .dataframe tbody tr th:only-of-type {\n",
       "        vertical-align: middle;\n",
       "    }\n",
       "\n",
       "    .dataframe tbody tr th {\n",
       "        vertical-align: top;\n",
       "    }\n",
       "\n",
       "    .dataframe thead th {\n",
       "        text-align: right;\n",
       "    }\n",
       "</style>\n",
       "<table border=\"1\" class=\"dataframe\">\n",
       "  <thead>\n",
       "    <tr style=\"text-align: right;\">\n",
       "      <th></th>\n",
       "      <th>CanonicalSMILES</th>\n",
       "      <th>Mol</th>\n",
       "      <th>dice_similarity</th>\n",
       "      <th>mol_weight</th>\n",
       "      <th>num_H_acceptors</th>\n",
       "      <th>num_H_donors</th>\n",
       "      <th>logp</th>\n",
       "      <th>tpsa</th>\n",
       "      <th>num_rot_bonds</th>\n",
       "      <th>saturation</th>\n",
       "      <th>drug_score_qed</th>\n",
       "      <th>drug_score_lipinski</th>\n",
       "      <th>drug_score_custom</th>\n",
       "      <th>drug_score_total</th>\n",
       "    </tr>\n",
       "    <tr>\n",
       "      <th>CID</th>\n",
       "      <th></th>\n",
       "      <th></th>\n",
       "      <th></th>\n",
       "      <th></th>\n",
       "      <th></th>\n",
       "      <th></th>\n",
       "      <th></th>\n",
       "      <th></th>\n",
       "      <th></th>\n",
       "      <th></th>\n",
       "      <th></th>\n",
       "      <th></th>\n",
       "      <th></th>\n",
       "      <th></th>\n",
       "    </tr>\n",
       "  </thead>\n",
       "  <tbody>\n",
       "    <tr>\n",
       "      <th>84759</th>\n",
       "      <td>C1=CC=C2C(=C1)C(=NC=N2)N</td>\n",
       "      <td><img data-content=\"rdkit/molecule\" src=\"data:image/png;base64,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\" alt=\"Mol\"/></td>\n",
       "      <td>0.46</td>\n",
       "      <td>145.165</td>\n",
       "      <td>3</td>\n",
       "      <td>1</td>\n",
       "      <td>1.21</td>\n",
       "      <td>51.80</td>\n",
       "      <td>0</td>\n",
       "      <td>0.00</td>\n",
       "      <td>0.61</td>\n",
       "      <td>1.0</td>\n",
       "      <td>0.64</td>\n",
       "      <td>0.68</td>\n",
       "    </tr>\n",
       "    <tr>\n",
       "      <th>62274</th>\n",
       "      <td>CC1=CC2=C(C=CC=N2)C3=C1N(C(=N3)N)C</td>\n",
       "      <td><img data-content=\"rdkit/molecule\" src=\"data:image/png;base64,iVBORw0KGgoAAAANSUhEUgAAAMgAAADICAIAAAAiOjnJAAAABmJLR0QA/wD/AP+gvaeTAAAbVklEQVR4nO2deVwTV9fHT1gMiyhrEEUFWheoghRBLVK1alXEtSJVQa3aKiLY1qpP7VuxahUqWrTWXRAfEZdWLUsF7ePy4AIKKBaRtmJRkC0KPIoECMl5/xgawhYg5GZGuN+Pf0yuM3MO5Me9d+495wwPEYFCUTUabDtA6ZhQYVGIQIVFIQIVFoUIVFgUIlBhUYhAhUUhAhUWhQhUWBQiUGFRiECFRSECFRaFCFRYFCJQYVGIQIVFIQIVFoUIVFgUIlBhUYhAhUUhAhUWhQhUWBQiUGFRiECFRSECFRaFCFRYFCJQYVGIQIVFIQIVFoUIVFgUIlBhUYhAhUUhAhUWhQhUWBQiUGFRiECFRSECFRaFCFRYFCJQYVGI0PGFFR8ff+DAAba96HTwOnad98zMzMGDB2traycnJzs4OLDtTieig/dYdnZ2vr6+VVVVc+fOFYlEbLvTiejgwgKAkJCQQYMGZWZmrlu3jm1fOhEdfChkuHPnzvDhw8VicVxc3KRJk9h2p1PQ8XssAHB0dNywYQMiLlmy5Pnz52y70ynoFD0WAEil0rFjx165cmXGjBlnzpxh252OT2cRFgDk5eXZ29uXlpaGh4cvXLiQbXc6OJ1iKGSwtLTcuXMnAPj7+//1119su9PB6UTCAgAfH585c+aUl5cvXLhQIpGw7U5HpnMJCwD27NnTp0+fGzdubN26lW1fOjKdaI4lIzExccyYMTwe79q1a8OGDWPbnY5Jp+uxAMDNze2zzz6rqamZN2/ey5cv2XanY9IZeywAqKqqGjZsWHp6+tKlS/ft28e2Ox2QTiosAMjMzBw6dKhIJPrll1+mTp3Ktjsdjc44FDLY2dlt2bIFAJYsWVJYWMi2Ox2NzttjAQAiTp48+fz58xMmTDh//jyPx2Pbo45D5+2xAIDH4x06dMjExCQhIYHOtFRLp+6xGM6ePTtz5kw9Pb3U1NSBAwey7U4HoVP3WAwzZsxYuHBhRUXFvHnzqqur2Xang0CFBQDwww8/9OvXLy0tbePGjWz70kGgQ2EtN27cePfddxHx0qVLo0aNYtud1x4qrDq+/vrrzZs3W1tb3717t1u3biq5JyIKhcLi4uKioqLCwkKhUFhYWOjn52dhYaGlpaUSE9yECquOmpqakSNHJicnL1iw4MiRI628qrS0ND8/v7S0tKCgoPFBbm6uWCxucImDg4OHh8fmzZtV/ANwCSqsemRnZzs6Or58+fLEiRNeXl7V1dUNOpuioqLi4mLmQCgUCoXCFn+BpqamAoFAIBBYWFgIBAKRSHT48OEOP+ZSYTVk//79y5YtMzAw0NLSKi0tVXyyhoaGQCAwMzPr0aOHubm5mZkZox6ZjMzMzLS1tRtcRWLM5RpUWA0RiURmZma6urrPnj0DACMjIwsLCyMjo549ezY+6NOnjxJTJeXG3NcMpNRn9+7dADBkyJDi4mJyVh4+fNi1a1cAOHHiBDkrLEKFVY+ampo33ngDAM6cOUPa1t69ewHA0NDw8ePHpG2pHzoU1iMqKmru3Ln9+/d/8OCBhkYbVo8rKytLSkqaezbMz89PS0vr0aNHg6umTp0aExMzbty4hISENpnjPlRY9XByckpLSzt48OCSJUvk2ysqKp4+fVpcXCwUCvPz82UHzBpVQUFBeXm54junpaU5Ojo2aBQKhfb29oWFhTt27Pjss89U/MOwChVWHRcuXJgwYYK5uXlOTo6Ojo78f33xxRfbt29XcC2fzzc2Nm5ujm9hYWFubq6pqdn4wvj4eHd39y5duty6dcve3l7FPxJ7dOTF37YSHBwMAJ9//nkDVQFAnz59bGxsevTo0dzKgtKrBhMnTmTCo+fOnZuSktLY9OsKy3M8znD79m0A6NatW2lpqZpNv3r1asCAAQCwatUqNZsmBxVWLZ6engCwZs0aVqynpqZ26dJFQ0Pjt99+Y8UBlUOFhYiYnZ2tqanJ5/OfPn3Klg+bNm0CgF69ej1//pwtH1QIFRYi4rJlywBgyZIlLPogkUiYrcOZM2ey6IaqoMLCoqIiXV1dHo93//59dj159OgR8xBw9OhRdj1pPx1qUU45du7cKRKJpk+fbmdnx64n1tbWu3btAgB/f/+cnBx2nWkvbCubZcrLy01MTADgxo0bbPtSi5eXFwC4urrW1NSw7YvydHZhhYSEAAATlMwRSktL+/TpAwBbtmxh2xfl6dTCqq6uZr7CuLg4tn2px8WLFzU0NLS0tJKTk8lZyc/HU6dQ/hn0t9/w779Vc/NOLazw8HAAGDx4sFQqZduXhjBbhwMHDnz16hUhEzExCIALF9a1ODtjeLhqbt55J+/4zzi4evVqDibXb9261d7ePisra82aNeSs9OoFcXFw9arq76xKYeXl5U2bNi03N1eF9yRHbGzs/fv3LS0tmcky1+Dz+cePH9fR0dmzZ09sbCwhK127woYN4OsLqk/UVU3Hh4iIs2fPBgATE5PY2FgV3pYQrq6uABAaGsq2I4pg+lSBQFBYWNie+1RVYV4epqZiXBweOYJBQbhlC8bE4IABWFODQ4bg5s2IKh0KVSmsZ8+eubu7AwCPxwsICKiurlbhzVVLUlISABgbG798+ZJtXxQhkUjGjh0LAJMmTVIwEayoqMjJybl582Z0dHRk5P1Nm9DfH7288N130dYWjY0RoOE/I6NaYSHijRuop4d//61KYakybIbpq3bt2rV69epdu3bdvHnz5MmT1tbWKjShKpjKWH5+fkzgOWfR0NCIiIiwt7c/f/78l19+OXz48IKCAibMkDlgwgzlC16OHr3+ypVvGtxHSwsEAjAzg549wcwMBALo2bPuf0eMgDlzQMVzOdXosz7JyclWVlbA1WGRCTvW0dEpKChg25dWERUVxePxdHV1m/sS+Xx+7969nZ2dPTw8vvzy6Lp1GBqKkZF4+TJmZGBzSSGyHgsRhUI0McHu3TnZY8lwcXFJSUmZP3/+r7/+OmXKFH9//5CQkMbpdWwRHBwslUoXL17cOAidm/D5fETk8/njx483Nzfv0aOHQCBgDpjAQ0NDw3aaMDWFLVtg6VKV+AsAJLd0pFJpaGgooydnZ+dHjx6Rs9V68vLyunTpoqmp+ddff7HtSxP4+vquWLEiPz9fvnHEiBEA8OOPP6rW1sOHeOBA3UeJBEND8d49fPhQBTcnvkCamJhoaWkJACYmJr/+epG0uRZZtWoVAHz44YdsO9IEubm5jOgfyn23ly9fZn575eXlpB2orkYvL9TXxz//bO+t1LHyzjwt8vl8O7uUgABk8WGxrKyse/fuAJCamsqaE83z6aefAsC8efPkG5kXLG7cuFE9Pvj4IAA6ObX3a1LTlo5UKt2zJ1VLCwHQ1RWfPFGP2XpkZWUxqyFjx45lwXxLlJSUMI+oaWlpssZ79+7xeDx9fX2m+ogaKCtDKysEwPXr23Ufte4VJifXOm1igup5WJRIJCkpKYGBgbJYK2NjYy8vrwanPX78eMKECenp6erwqRmY0OSJEyfKN86bNw8APv30U3V6cu0aamqihgZevar8TdS9CS0Uors7AiCPh+SGxVevXp07d27RokUCgUD2mGJiYjJ58mQtLS0NDY3//Oc/8uczY9DgwYMrKyuJONQSIpGIeUS9fPmyrPHJkyfa2tra2to5OTlq9ufLLxEAra3xf/9T8g4sRDdIpRgaitraCIAuLiqL00DEZ8+eRUREeHp6GhgYyPRkZWX1ySefREdHMzsBTeYssJ6A9eOPPzLPzvKNAQEBAODj46N+f8RidHFBAFy0SMk7sBY2o8JhMSsLg4Nx1qyvZeUPeDyei4vLt99++/vvvzc4WZaz8MEHH8i3s5iAVVNT8+abbwLATz/9JGt8/vx5165deTzenTt31OBDQQEGBqL8ptGDB6inhwB48qQyN2QzHqs9w6JEgikpGBiITk61m1+jR1/R0dEZN25caGhoXl6egmtlOQv//ve/5dvZSsA6ceIEALzxxhvyscgbNmwAgMmTJ6vBAYkE7ewQAHfurNe+e3ftrqISD1ssB/pJpbh1KzJPi++/j9On4+jRdQq7fBnd3OqdX1GBv/yCixejQFC3n2pigj4+eO7ci9bvKDMhft27d/9bbiRmKwHLyckJAA7ILVa+evXKzMwMAK62Z/7cFs6dQwDk8/HevbpGqRQ9PBAAx4/HtoZCciKClBkWjxxBZ2fU1cWgoNr2uDjs2xcR8dkzjIhAT080MKjTk5UVfvIJRkcr+QTAhGGNHDlSvp9QfwLWhQsXAMDc3FwkEskaf/jhBwBwcXFRjw8MH3+MADhoEMo5ggUFaGaGALh3b9sCWTkhLER88QIR0dkZ16xBA4PaGT0jrB07UFOzVkw8Hjo74+bN2Gju1GZKS0t79+4NAFu3bpVvZ2o3NujMyDFu3LgGPqiz+Js85eXYvz8CYIMyA+fO4ejRyd27m2VkZLT+blwRFoOzM0ZG4tKl6OGB+I+wfvsNtbTQ1RVDQzE3V5XmLl68yOPxtLW1b926Jd+utgSsu3fv8ng8AwMD+Uokx48fB4ABAwZIJBKi1huTkoLa2qihgfVXY5CpFubo6FhVVdXKW3FRWM+eoakp/vxzrbDE4tr+jATMCpatra18zoLaErCYmNvVq1fLN7799tsAcOjQIaKmm+ObbxAALS3rZe+Ul5f3798f2lI0hYvCQsSDB7F3bzx9unaORY7Kykqm3Jmfn598uxoSsB49eqSlpaWtrf1E7qErPj6+8ZRLnYjFOGIEdu8u/fzzegNxSkqKtrZ247Xl5uCosCQSHDEC3dyICwsRMzIydHR0eDxeTEyMfDvpBCxfX18AWFR/CfK9994DgODgYBIWW8nDhzX9+o0FgGPHjsm3MysglpaWrVmO4aiwEPHePdTSUoewEHHbtm3QKGehuc5MJTRZiYTF4m8NOHz4MPMEI7+bJBaLmciwWbNmtXgHbgnrvffw9Om6j6tWob29OuxKJBKmq5g2bZp8e3OdWfv56quvAGD69OnyjbNmzQKAtWvXqtaWcjDzvwbLMdnZ2cx2WaSsA2gGbgmLIT0dT53CrCy1Gs3LyzM2Nm6wUIn/JGCZmZm1MwFLHlklkuvXr8sauVD8TZ6SkhJmOSZItq6IiM10Zo3horBWrUIADAlRt92ffvoJAPT19f/44w9ZYysTsNpEVFQU0xnINy5duhTYLv7WgAsXLjS5HMN0Zm5ubgqWY7gorJUrEQBZyST19vYGACcnJ/mkSFlntn//flUZSkpKkn/eZKZcGhoamZmZqjKhEpgIC1tb24qKClmjUCi0sLAAgO3btzd3IReF5eeHALh7Nwumy8rKmMS1wMBA+XZmn1hfX1/x9rbSrFu3Tv17lK2hoqLCzs5OV1e3wa5laGiosbHxqVOnmruQi8JauhQBcN8+dqwnJiZqampqaWk1KMXm6+sbFhZGwuKLFy+MjIyAS8Xf5Pn9998b96PTp08HgK+++qq5q7gorMWLEQAPHmTNgX/9618AYGNj84Lckr8czPPBqFGj1GBLJWRlZWloaPD5/AZpavJwUVgLFiCAylJylaC6utrZ2RkAFi9erAZb3Cz+poDFixcDwLJlyxScw0VheXsjANYPwlM3mZmZenp6AKBgGqESwsLCgKvF35qkoKBAR0dHU1PzT4XJh1x8l05NDQAAu+94t7W1DQ4O9vf3X758+ciRI5mHIOUQiUTNvWuutLT00aNHAODv78/B4m9N8v3331dWVs6ePbtfv34KTqPCahY/P7/4+Pi4uLgFCxYkJCQ098Ur1k1ubq58KZjmuHnz5scff6zqn0D1vHjx4sCBAwDw+eefKz6T7W+vKTgiLB6PFxYWZm9vf/HixRUrVgwfPrzxywqFQmEN427zdOvWzcLCwszMzNzcXHYgq+dRVlbm5uYWHh4+adIk5n0+XGbv3r1lZWVjx44dNmyY4jO5+L7CKVMgNhZiYsDDg21XACIjI+fPn8/n80UiUZMn6OjoNPeOQiMjo969e7f4xrndu3f7+/ubmpreu3evPWMuaaqqqmxsbPLz8xMSEt5//33FJ7PdLTQFR3osAEDEEydOSKXSHj16vPPOOwKBoPHLCttfnqmVYy7rHD16ND8/38HBYfz48S2fraZnibbw8cexbm77L18mssbdJr777jsAMDIyIh3/XlRUZG5uDgC7du0iakhpJBKJra0tAERFRbXmfC4Ka/To0VA/2ZwVkpOTu3TpwuPxzp49qwZz586dAwAdHZ178hlYnOHnn38GAGtra7FY3JrzuSiskSNHAkBiYiKLPpSUlDCbhl988YXajCqRs6A2mBC/3a3eweWisIYPHw4AN2/eZMsBqVQ6bdo0AHBxcVHndyzLWeBIrJ+MK1euQBuLv3FRWEOHDgWA27dvs+UA89ZxNUytGnP79m0mZ+HSpUtqNq0AJYq/cVFYQ4YMAQD1FMNoTFJSEjO1OnfuHCsOBAYGAoClpWVJSQkrDjSAKf6mp6fXpuJvXBTWoEGDAKBxoRg1IJtaNcj1UyeynIUGNSPZggl+XLlyZZuu4qKwBg4cCAAPHjxQs122plaNkeUsHD9+nEU3sB3F37j49i9mk0RLboW0qqrKwcFh5cqV165dI2d32zZeSYm7QGB+8uTJLl26kDPUIjY2Njt27AAAX1/fx48fs+hJSEiIWCz+8MMP+/bt27YrCSm9PTCDkXxd+JiYGJnDtra2GzZsyFJ1Es/166itjTwe/vor8arXrYTZOlScs0AUpvgbKDXf5aKwmLrw8onnEokkMTExICBA/l0SdnZ2gYGBiqOCWklJSW15QfZmVk0gy1n47rvvWHHgm2++AQB3d3clruWisJjfZpNhr2KxOCEhYdGiRUyQOAD06jV82DDcsUP5QjRSKU6bVlsQlWsLk0wCFp/PJ/eM/PLlyyZT5ttZ/I2LwjI1NQUAxWtIVVVV0dHR8+bNe//9eKZ0loYGurnh7t3Y1sTS4ODagohqX7RqFf7+/kz3LJ+A1XoqKiqePn2akpISHR29f//+wMDAgIAAT09PV1dXOzs75iU8i5oqYcsUf2tQb7f1cEtYIpFo7dq1enp6enp6Ojo6Hh4eERERild7RSKMjkYfH+zaFWUKY4ppFRW1bDEpqXZqxdKiVcuIRKLBgwcDQEBAQJMnVFdXX758OTIyMjQ0dN26dR999JGHh4ezs7OlpSWfz29xkq2np/fRRx81uGf7i79xSFjp6enMCpa2tvbAgQNlJZANDAy8vb1jYmIULwG8fImRkTh1KvL5tQobN64FiyUl2Lcv56ZWjUlLS2PWbJtMuGguUIxBR0fHwsLCycnJw8PDx8dn7dq1oaGhERERFy9ezMjIaC6dv/3F3zghLOY9Ycyf18CBA1NSUhAxLy8vNDTU1dVVFp9kaGjo4+Mjq9jeHKWlGB6OEyfi4cOKjdZOrYYN49zUqjFBQUEAIBAIiprqhydOnOjl5eXv779p06ZDhw5FR0ffvHnz8ePHyo2e+E/xt4PtSMFjX1gFBQXMVhQA+Pj4NB74srOzt2zZ4uDgIPsrFAgEy5cvv3r1antqKQYFcXpq1QCJRDJmzBhoVKCGBAkJCdDu4m8sC+v06dNM3RWBQBAdHa345EePHgUFBTHhZgBgY+PeqxcGBGBiYpuLRTPFNnk8VHV5IoLk5uYyz8KHFXfFylJUVJSRkXHp0iVHR0dod/E31mLeX7x4sXr1aiblY+LEiWFhYa0P905PTz958uQff0w9c2Y402JlBV5e4OUFjo6tukNNDWzeDJWVEBSklPcsERkZ6e3tra+vf+fOHcXZV40pLS1tLpWooKAgNzdXLBYzZ5qbmxsaGiYnJzOv4FMOdoSVlJTk7e2dnZ2tq6u7devWgIAA5QK979+H06fh2DHIzq5tsbKCqVNh/nxwcqo7bcoUsLCAAwdqP8bEwOnTcPRoO38Idpg7d25UVJSzs/P169dl4fbV1dVCobCoqKiwsFAoFBYWFhYVFRUXFzMHQqGwuLi4xS/axMSEieIfMGDAvn372hl6r25hicWwcaMkPNz16dNkFxeXY8eOtfUvr0lSU+HoUTh9GgoKalvs7MDTE+bMgQEDwMoK8vPh1CmYPh0A4MgR2LMHbt1qv1kWKCsrc3BwePLkiYODg6GhIaOn58+fK76Kx+MJBIIGmWeyAyY9RLXbo2oVVlYWeHtDaioMHfp80qSd69ev11JpLo5EAlevwokTcOYMyH7VmzfDwYMweTLExsL9+9C16+stLAC4cuXK9u3bY2Nj5RuNjIyaS0Hr2bNn79691f2ydxXM+lpHRATq69e+quS//yVrq6YGExMxIABNTfHqVezbFy9exDFjkHlpXHg4KruezBUkEklkZOSlS5cyMjKaXIBgHXUIq6gIp0ypXbT09ER1VgSurESJpFZYGRmoq4vp6R1BWNyHeDxWfDwMGQIxMWBoCMePw6lTYGhI2mYdfD78s4APb70FK1bA8uXqs96ZISgskQhWrgR3dygogHHjICMD5swhZ61VrF8PT57AmTMsu9EZICWs27dhyBDYtQv4fAgKgoQE6NWLkKk20LUrfP89yEUNUkihSFh9+8KFC3Ufb92Cxgtmnp5gYgLFxbUf798HHg9274Z33oE//4QhQyAlBdaurRuPWOeDD8DdnW0nOgGKvvDKSpBI6j5KpVBZ2cRpYjGsWVOvxd4eACAgAJKS4K23VOBlO8nJgXHj6j7Gxb3Gaw2vCypYRvrkEwgLg6tXYdSo2pZ334U//wRr6/bfm/K60oKwMjNBVt3p/v2mzzE1hcBA8PWFu3frGqmqOjktCCssDM6erT1WUPHQzw/CwmDbtto9EwqlBWGFhMA/sVKQlFQ32DW8ixbs2QMTJsDbb6vUO8pri8qe1lxdYfZsWL9eVfejvN60WViVlbBlCyxdWm8lgmHbNsjJUYlXlNceRcKytQUDg7qPenrw1lsQHw9WVvDtt/B//wfPn4ONDchySE1MICSkXiAUpdOifNjMjBnw/fdgZaVSdygdBSXnWCkpUFNDVUVpFmUWSJOSYMMGiIxUuTOUjkObe6yoKJg5EyZMgJ9/hidPSLhE6Qi0eY71+DE8e1Z7/OabTWxLUyjAzVeeUDoAnAlnoXQsqLAoRKDCohCBCotCBCosChGosChEoMKiEIEKi0IEKiwKEaiwKESgwqIQgQqLQgQqLAoRqLAoRKDCohCBCotCBCosChGosChEoMKiEIEKi0IEKiwKEaiwKESgwqIQgQqLQgQqLAoRqLAoRKDCohCBCotCBCosChGosChEoMKiEIEKi0IEKiwKEaiwKESgwqIQgQqLQgQqLAoRqLAoRPh/Rd/D7pCq5yMAAAFSelRYdHJka2l0UEtMIHJka2l0IDIwMjEuMDMuNQAAeJx7v2/tPQYg4AFiRgYIEABiISBuYGRjSACJM7M5aABpZhY2hwwQzcyIEMCQQGewQ5Qwo2tBF4fx2RnAGhmZYJZzAx3GyJTBxMScwMySwcTCmsDKlsHExp7AzgHkcSZwcmUwcXEncPMk8PBmMPHwKXDzM3AxJnAwJ/ByJogwszFycbIwM7GxsrFzMLOwcnNx8vKIw7zKILB17fr9pckeDiDOu3ym/Zd3f7YHseew19gfzmcCi/dUvrG/v8IfLN62ebb91i08+0HsRSKsDoWpj8Hslk0pDvscL4HZR7raHC56T9gHYq+4Ferg+qEQrPePQt8+6T96YDV//07cLyzFDRa/tVflwNPsC7Zg9WZqB6o/bwKriTo4bb+l8Ecw23hPyYE5WwQOgNj5HYUHbtk3gPWKAQC2Llckcqb96QAAAUh6VFh0TU9MIHJka2l0IDIwMjEuMDMuNQAAeJydVDtuxTAM23MKXaCGJMuWNTedir6hQ+/QvfdH5U+NPOB1eAqChEQihmScHNC3z/P9+wf2xudxAFWgBoAPdzODL0bEw29/oZSVS5/MiTJRR5j8KsIr/Cdx3YcKpoI2VCgZCodUfMKaDBVOmFvMiztoomXONqKgF0pMVVY2sRpT8RxqMntWrSWmklPRvFSqcNCLJEZZibj19RHzkoVWDpNyfUe3Z9YLex0T1ZZjvXgbJLjaKDIaCqiwtysrB+FdL08kchVTWl+UBdduT6TaJmrtLtETXnJqLDhdcSWMqqgOFf8WEMkiibwGHsdOHGVfhpNMtIifyiaO6iaOdBNHbRNHdpnpKSdx1H9jixD0P8AiDLQdOCK5kvJntN9WN5kR1nPs4tqn90M/AN5u5/ELOg/b8Hw5O3wAAADhelRYdFNNSUxFUyByZGtpdCAyMDIxLjAzLjUAAHicJY89jsUwCISvsmUiOYgBbEApX7+XcJ8TvMMvZCtbo29++GzsLfvYez9y1g/P8Tn38Xs+8vM9LpC6WA4lKNjHfTFNzikDlGwohSnDLDGEWKMZUJjbGkwBwNGKYJmMdlsulXEX7akxqsJ9TR230nS1FgpdJRgJm1m7JBASzajBvKLTJru8g8R95mxshc6KuCsDxrMnTFNdPVwq3jhLAsNXhV1a1VpOEDPqfaH0gvrwDF4vFKJZkpAssPynu/u7PaL6zu8f7udDpo9XfOIAAAAASUVORK5CYII=\" alt=\"Mol\"/></td>\n",
       "      <td>0.34</td>\n",
       "      <td>212.256</td>\n",
       "      <td>4</td>\n",
       "      <td>1</td>\n",
       "      <td>2.01</td>\n",
       "      <td>56.73</td>\n",
       "      <td>0</td>\n",
       "      <td>0.17</td>\n",
       "      <td>0.62</td>\n",
       "      <td>1.0</td>\n",
       "      <td>0.70</td>\n",
       "      <td>0.71</td>\n",
       "    </tr>\n",
       "    <tr>\n",
       "      <th>7019</th>\n",
       "      <td>C1=CC=C2C(=C1)C(=C3C=CC=CC3=N2)N</td>\n",
       "      <td><img data-content=\"rdkit/molecule\" src=\"data:image/png;base64,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\" alt=\"Mol\"/></td>\n",
       "      <td>0.33</td>\n",
       "      <td>194.237</td>\n",
       "      <td>2</td>\n",
       "      <td>1</td>\n",
       "      <td>2.97</td>\n",
       "      <td>38.91</td>\n",
       "      <td>0</td>\n",
       "      <td>0.00</td>\n",
       "      <td>0.56</td>\n",
       "      <td>1.0</td>\n",
       "      <td>0.63</td>\n",
       "      <td>0.66</td>\n",
       "    </tr>\n",
       "    <tr>\n",
       "      <th>62389</th>\n",
       "      <td>C1=CC=C(C=C1)CNC2=NC=NC3=C2NC=N3</td>\n",
       "      <td><img data-content=\"rdkit/molecule\" src=\"data:image/png;base64,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\" alt=\"Mol\"/></td>\n",
       "      <td>0.32</td>\n",
       "      <td>225.255</td>\n",
       "      <td>4</td>\n",
       "      <td>2</td>\n",
       "      <td>1.96</td>\n",
       "      <td>66.49</td>\n",
       "      <td>3</td>\n",
       "      <td>0.08</td>\n",
       "      <td>0.71</td>\n",
       "      <td>1.0</td>\n",
       "      <td>0.76</td>\n",
       "      <td>0.78</td>\n",
       "    </tr>\n",
       "    <tr>\n",
       "      <th>10288191</th>\n",
       "      <td>CN1C=NC2=C1C=C(C(=C2F)NC3=C(C=C(C=C3)Br)F)C(=O...</td>\n",
       "      <td><img data-content=\"rdkit/molecule\" src=\"data:image/png;base64,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\" alt=\"Mol\"/></td>\n",
       "      <td>0.30</td>\n",
       "      <td>441.232</td>\n",
       "      <td>6</td>\n",
       "      <td>3</td>\n",
       "      <td>3.01</td>\n",
       "      <td>88.41</td>\n",
       "      <td>6</td>\n",
       "      <td>0.18</td>\n",
       "      <td>0.40</td>\n",
       "      <td>1.0</td>\n",
       "      <td>0.54</td>\n",
       "      <td>0.55</td>\n",
       "    </tr>\n",
       "  </tbody>\n",
       "</table>\n",
       "</div>"
      ],
      "text/plain": [
       "                                            CanonicalSMILES  \\\n",
       "CID                                                           \n",
       "84759                              C1=CC=C2C(=C1)C(=NC=N2)N   \n",
       "62274                    CC1=CC2=C(C=CC=N2)C3=C1N(C(=N3)N)C   \n",
       "7019                       C1=CC=C2C(=C1)C(=C3C=CC=CC3=N2)N   \n",
       "62389                      C1=CC=C(C=C1)CNC2=NC=NC3=C2NC=N3   \n",
       "10288191  CN1C=NC2=C1C=C(C(=C2F)NC3=C(C=C(C=C3)Br)F)C(=O...   \n",
       "\n",
       "                                                        Mol  dice_similarity  \\\n",
       "CID                                                                            \n",
       "84759     <img data-content=\"rdkit/molecule\" src=\"data:i...             0.46   \n",
       "62274     <img data-content=\"rdkit/molecule\" src=\"data:i...             0.34   \n",
       "7019      <img data-content=\"rdkit/molecule\" src=\"data:i...             0.33   \n",
       "62389     <img data-content=\"rdkit/molecule\" src=\"data:i...             0.32   \n",
       "10288191  <img data-content=\"rdkit/molecule\" src=\"data:i...             0.30   \n",
       "\n",
       "          mol_weight  num_H_acceptors  num_H_donors  logp   tpsa  \\\n",
       "CID                                                                \n",
       "84759        145.165                3             1  1.21  51.80   \n",
       "62274        212.256                4             1  2.01  56.73   \n",
       "7019         194.237                2             1  2.97  38.91   \n",
       "62389        225.255                4             2  1.96  66.49   \n",
       "10288191     441.232                6             3  3.01  88.41   \n",
       "\n",
       "          num_rot_bonds  saturation  drug_score_qed  drug_score_lipinski  \\\n",
       "CID                                                                        \n",
       "84759                 0        0.00            0.61                  1.0   \n",
       "62274                 0        0.17            0.62                  1.0   \n",
       "7019                  0        0.00            0.56                  1.0   \n",
       "62389                 3        0.08            0.71                  1.0   \n",
       "10288191              6        0.18            0.40                  1.0   \n",
       "\n",
       "          drug_score_custom  drug_score_total  \n",
       "CID                                            \n",
       "84759                  0.64              0.68  \n",
       "62274                  0.70              0.71  \n",
       "7019                   0.63              0.66  \n",
       "62389                  0.76              0.78  \n",
       "10288191               0.54              0.55  "
      ]
     },
     "execution_count": 20,
     "metadata": {},
     "output_type": "execute_result"
    }
   ],
   "source": [
    "project1.LigandSimilaritySearch.all_analogs.head()"
   ]
  },
  {
   "cell_type": "markdown",
   "metadata": {},
   "source": [
    "From these analogs, a certain number of most drug-like compounds are selected according to the input specifications.  These selected analogs are then turned into `Ligand` objects and assigned to the input `Ligand` under the attribute name `analogs`: "
   ]
  },
  {
   "cell_type": "code",
   "execution_count": 21,
   "metadata": {},
   "outputs": [
    {
     "data": {
      "text/plain": [
       "{'65997': <Ligand CID: 65997>,\n",
       " '2435': <Ligand CID: 2435>,\n",
       " '57469': <Ligand CID: 57469>,\n",
       " '5011': <Ligand CID: 5011>,\n",
       " '62389': <Ligand CID: 62389>,\n",
       " '11292933': <Ligand CID: 11292933>,\n",
       " '214347': <Ligand CID: 214347>,\n",
       " '1530': <Ligand CID: 1530>,\n",
       " '11256587': <Ligand CID: 11256587>,\n",
       " '1935': <Ligand CID: 1935>,\n",
       " '62274': <Ligand CID: 62274>,\n",
       " '53462': <Ligand CID: 53462>,\n",
       " '84759': <Ligand CID: 84759>,\n",
       " '62275': <Ligand CID: 62275>,\n",
       " '6451164': <Ligand CID: 6451164>,\n",
       " '103148': <Ligand CID: 103148>,\n",
       " '7019': <Ligand CID: 7019>,\n",
       " '62805': <Ligand CID: 62805>,\n",
       " '675': <Ligand CID: 675>,\n",
       " '5546': <Ligand CID: 5546>}"
      ]
     },
     "execution_count": 21,
     "metadata": {},
     "output_type": "execute_result"
    }
   ],
   "source": [
    "project1.Ligand.analogs\n",
    "# NBVAL_CHECK_OUTPUT"
   ]
  },
  {
   "cell_type": "markdown",
   "metadata": {},
   "source": [
    "The list contains `Ligand` objects corresponding to each analog found. Each analog has thus its own attributes and methods, just like our input `Ligand`, which can be accessed separately via the analog's CID. For example:"
   ]
  },
  {
   "cell_type": "code",
   "execution_count": 22,
   "metadata": {},
   "outputs": [
    {
     "data": {
      "text/plain": [
       "<Ligand CID: 65997>"
      ]
     },
     "execution_count": 22,
     "metadata": {},
     "output_type": "execute_result"
    }
   ],
   "source": [
    "project1.Ligand.analogs[\"65997\"]\n",
    "# NBVAL_CHECK_OUTPUT"
   ]
  },
  {
   "cell_type": "code",
   "execution_count": 23,
   "metadata": {},
   "outputs": [
    {
     "data": {
      "text/html": [
       "<div>\n",
       "<style scoped>\n",
       "    .dataframe tbody tr th:only-of-type {\n",
       "        vertical-align: middle;\n",
       "    }\n",
       "\n",
       "    .dataframe tbody tr th {\n",
       "        vertical-align: top;\n",
       "    }\n",
       "\n",
       "    .dataframe thead th {\n",
       "        text-align: right;\n",
       "    }\n",
       "</style>\n",
       "<table border=\"1\" class=\"dataframe\">\n",
       "  <thead>\n",
       "    <tr style=\"text-align: right;\">\n",
       "      <th></th>\n",
       "      <th></th>\n",
       "      <th>Value</th>\n",
       "    </tr>\n",
       "    <tr>\n",
       "      <th>Structure</th>\n",
       "      <th>Property</th>\n",
       "      <th></th>\n",
       "    </tr>\n",
       "  </thead>\n",
       "  <tbody>\n",
       "    <tr>\n",
       "      <th rowspan=\"18\" valign=\"top\"><img data-content=\"rdkit/molecule\" src=\"data:image/png;base64,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\" alt=\"Mol\"/></th>\n",
       "      <th>name</th>\n",
       "      <td>Lerisetron</td>\n",
       "    </tr>\n",
       "    <tr>\n",
       "      <th>iupac_name</th>\n",
       "      <td>1-benzyl-2-piperazin-1-ylbenzimidazole</td>\n",
       "    </tr>\n",
       "    <tr>\n",
       "      <th>smiles</th>\n",
       "      <td>C1CN(CCN1)C2=NC3=CC=CC=C3N2CC4=CC=CC=C4</td>\n",
       "    </tr>\n",
       "    <tr>\n",
       "      <th>cid</th>\n",
       "      <td>65997</td>\n",
       "    </tr>\n",
       "    <tr>\n",
       "      <th>inchi</th>\n",
       "      <td>InChI=1S/C18H20N4/c1-2-6-15(7-3-1)14-22-17-9-5...</td>\n",
       "    </tr>\n",
       "    <tr>\n",
       "      <th>inchikey</th>\n",
       "      <td>PWWDCRQZITYKDV-UHFFFAOYSA-N</td>\n",
       "    </tr>\n",
       "    <tr>\n",
       "      <th>mol_weight</th>\n",
       "      <td>292.386</td>\n",
       "    </tr>\n",
       "    <tr>\n",
       "      <th>num_H_acceptors</th>\n",
       "      <td>4</td>\n",
       "    </tr>\n",
       "    <tr>\n",
       "      <th>num_H_donors</th>\n",
       "      <td>1</td>\n",
       "    </tr>\n",
       "    <tr>\n",
       "      <th>logp</th>\n",
       "      <td>2.49</td>\n",
       "    </tr>\n",
       "    <tr>\n",
       "      <th>tpsa</th>\n",
       "      <td>33.09</td>\n",
       "    </tr>\n",
       "    <tr>\n",
       "      <th>num_rot_bonds</th>\n",
       "      <td>3</td>\n",
       "    </tr>\n",
       "    <tr>\n",
       "      <th>saturation</th>\n",
       "      <td>0.28</td>\n",
       "    </tr>\n",
       "    <tr>\n",
       "      <th>drug_score_qed</th>\n",
       "      <td>0.8</td>\n",
       "    </tr>\n",
       "    <tr>\n",
       "      <th>drug_score_lipinski</th>\n",
       "      <td>1.0</td>\n",
       "    </tr>\n",
       "    <tr>\n",
       "      <th>drug_score_custom</th>\n",
       "      <td>0.81</td>\n",
       "    </tr>\n",
       "    <tr>\n",
       "      <th>drug_score_total</th>\n",
       "      <td>0.84</td>\n",
       "    </tr>\n",
       "    <tr>\n",
       "      <th>similarity</th>\n",
       "      <td>0.19</td>\n",
       "    </tr>\n",
       "  </tbody>\n",
       "</table>\n",
       "</div>"
      ],
      "text/plain": [
       "                                                                                                                    Value\n",
       "Structure                                          Property                                                              \n",
       "<img data-content=\"rdkit/molecule\" src=\"data:im... name                                                        Lerisetron\n",
       "                                                   iupac_name                      1-benzyl-2-piperazin-1-ylbenzimidazole\n",
       "                                                   smiles                         C1CN(CCN1)C2=NC3=CC=CC=C3N2CC4=CC=CC=C4\n",
       "                                                   cid                                                              65997\n",
       "                                                   inchi                InChI=1S/C18H20N4/c1-2-6-15(7-3-1)14-22-17-9-5...\n",
       "                                                   inchikey                                   PWWDCRQZITYKDV-UHFFFAOYSA-N\n",
       "                                                   mol_weight                                                     292.386\n",
       "                                                   num_H_acceptors                                                      4\n",
       "                                                   num_H_donors                                                         1\n",
       "                                                   logp                                                              2.49\n",
       "                                                   tpsa                                                             33.09\n",
       "                                                   num_rot_bonds                                                        3\n",
       "                                                   saturation                                                        0.28\n",
       "                                                   drug_score_qed                                                     0.8\n",
       "                                                   drug_score_lipinski                                                1.0\n",
       "                                                   drug_score_custom                                                 0.81\n",
       "                                                   drug_score_total                                                  0.84\n",
       "                                                   similarity                                                        0.19"
      ]
     },
     "execution_count": 23,
     "metadata": {},
     "output_type": "execute_result"
    }
   ],
   "source": [
    "project1.Ligand.analogs[\"65997\"]()"
   ]
  },
  {
   "cell_type": "markdown",
   "metadata": {
    "jp-MarkdownHeadingCollapsed": true,
    "tags": []
   },
   "source": [
    "<a id='Molecular-docking'></a>\n",
    "\n",
    "### [Molecular docking](#Contents-in-Practical)\n",
    "\n",
    "We now have successfully \n",
    "\n",
    "* defined the binding site of our input protein \n",
    "* and found a list of analogs for our input ligand. "
   ]
  },
  {
   "cell_type": "markdown",
   "metadata": {},
   "source": [
    "The next step in the pipeline is to perform docking calculations on the protein binding site using the ligand analogs. This is done automatically by the `Docking` class of the pipeline, which docks all provided analogs onto the protein and stores the results separately for each docking pose. Other meaningful information are also extracted from the results of all docking poses for each analog and stored separately."
   ]
  },
  {
   "cell_type": "markdown",
   "metadata": {},
   "source": [
    "We instantiate the `Docking` class with \n",
    "\n",
    "* the `Protein` object containing the binding site coordinates, \n",
    "* the list of analogs (as `Ligand` objects)\n",
    "* and the `Specs.Docking` object of the project. "
   ]
  },
  {
   "cell_type": "markdown",
   "metadata": {},
   "source": [
    "*Note*: This is the most computationally intense process of the pipeline and will take **5 to 10 minutes** (for 20 ligands) to complete."
   ]
  },
  {
   "cell_type": "code",
   "execution_count": null,
   "metadata": {
    "tags": []
   },
   "outputs": [],
   "source": [
    "from utils import Docking\n",
    "\n",
    "project1.Docking = Docking(\n",
    "    project1.Protein,\n",
    "    list(project1.Ligand.analogs.values()),\n",
    "    project1.Specs.Docking,\n",
    "    project1.Specs.OutputPaths.docking,\n",
    "    frozen_data_filepath=frozen_data_project1.docking_pdbqt_files\n",
    ")"
   ]
  },
  {
   "cell_type": "markdown",
   "metadata": {},
   "source": [
    "We can now view all the calculated docking results for each docking pose of each analog: "
   ]
  },
  {
   "cell_type": "code",
   "execution_count": null,
   "metadata": {},
   "outputs": [],
   "source": [
    "project1.Docking.results_dataframe.sort_values(by=\"affinity[kcal/mol]\").head()\n",
    "# NBVAL_CHECK_OUTPUT"
   ]
  },
  {
   "cell_type": "markdown",
   "metadata": {},
   "source": [
    "From the docking output we obtain ```affinity```, which is the estimated binding affinity from the docking score, and calculations of pose distances from the best predicted binding mode matched using different methods (```best mode_rmsd_l.b``` and ```best mode_rmsd_u.b```)."
   ]
  },
  {
   "cell_type": "markdown",
   "metadata": {},
   "source": [
    "<details>\n",
    "\n",
    "<summary> Click here for additional information about the Smina output </summary> \n",
    "\n",
    "From the [Vina manual](http://vina.scripps.edu/manual.html):\n",
    "\n",
    "RMSD values are calculated relative to the best mode and use only movable heavy atoms. Two variants of RMSD metrics are provided, rmsd/lb (RMSD lower bound) and rmsd/ub (RMSD upper bound), differing in how the atoms are matched in the distance calculation:\n",
    "\n",
    "* $rmsd/ub$ (upper bound) matches each atom in one conformation with itself in the other conformation, ignoring any symmetry\n",
    "* $rmsd/lb$ (lower bound)is defined as follows: $rmsd/lb(c1, c2) = max(rmsd'(c1, c2), rmsd'(c2, c1))$, i.e. a match between each atom in one conformation with the *closest* atom of the same element type in the other conformation.\n",
    "</details>"
   ]
  },
  {
   "cell_type": "markdown",
   "metadata": {},
   "source": [
    "Alternatively, by accessing a specific analog, we can view the full results for that analog using the attribute `dataframe_docking`:"
   ]
  },
  {
   "cell_type": "code",
   "execution_count": null,
   "metadata": {},
   "outputs": [],
   "source": [
    "project1.Ligand.analogs[\"11292933\"].dataframe_docking\n",
    "# NBVAL_CHECK_OUTPUT"
   ]
  },
  {
   "cell_type": "markdown",
   "metadata": {},
   "source": [
    "A summary of the docking results (e.g. highest/mean binding affinities) are also added to the main dataframe of each analog and can be viewed by calling its object.     "
   ]
  },
  {
   "cell_type": "code",
   "execution_count": null,
   "metadata": {
    "tags": []
   },
   "outputs": [],
   "source": [
    "project1.Ligand.analogs[\"11292933\"]().tail(7)"
   ]
  },
  {
   "cell_type": "markdown",
   "metadata": {},
   "source": [
    "The same summary results are also added as instance attributes for each object:\n",
    "    "
   ]
  },
  {
   "cell_type": "code",
   "execution_count": null,
   "metadata": {},
   "outputs": [],
   "source": [
    "project1.Ligand.analogs[\"11292933\"].binding_affinity_best\n",
    "# NBVAL_CHECK_OUTPUT"
   ]
  },
  {
   "cell_type": "markdown",
   "metadata": {},
   "source": [
    "The `NGLView` helper module provides additional methods to the `Docking` class for visualization of the docking poses. For example, we can view all poses together in an interactive way using the `visualize_all_poses` method. In this method, poses are sorted by their binding affinities and labeled by their CID and corresponding pose number. By selecting an analog from the menu below, the viewer automatically shows the protein residues in close proximity (i.e. 6 Å) of the ligand, as well as its corresponding binding affinity."
   ]
  },
  {
   "cell_type": "markdown",
   "metadata": {},
   "source": [
    "Also if we are interested in visualization of a certain analog's docking poses, we can use the `visualize_analog_poses` method instead, and provide the analog's CID."
   ]
  },
  {
   "cell_type": "markdown",
   "metadata": {},
   "source": [
    "**Note: Clicking through different ligands and docking poses works only when you execute this talktorial; it does not work on the website version of the talktorial.**"
   ]
  },
  {
   "cell_type": "code",
   "execution_count": null,
   "metadata": {},
   "outputs": [],
   "source": [
    "project1.Docking.visualize_all_poses()"
   ]
  },
  {
   "cell_type": "markdown",
   "metadata": {},
   "source": [
    "Now let's separately dock the input ligand in order to be able to compare the results later and see how the analogs compare to the starting ligand.\n",
    "    "
   ]
  },
  {
   "cell_type": "code",
   "execution_count": null,
   "metadata": {},
   "outputs": [],
   "source": [
    "project1.Ligand.Docking = Docking(\n",
    "    project1.Protein,\n",
    "    [project1.Ligand],\n",
    "    project1.Specs.Docking,\n",
    "    project1.Specs.OutputPaths.ligand,\n",
    "    frozen_data_filepath=frozen_data_project1.docking_pdbqt_files\n",
    ")"
   ]
  },
  {
   "cell_type": "markdown",
   "metadata": {},
   "source": [
    "Similar to the analogs, the docking results of the input ligand is also stored in its object. \n",
    "\n",
    "For example, to see the docking dataframe:\n",
    "   "
   ]
  },
  {
   "cell_type": "code",
   "execution_count": null,
   "metadata": {},
   "outputs": [],
   "source": [
    "project1.Ligand.dataframe_docking\n",
    "# NBVAL_CHECK_OUTPUT"
   ]
  },
  {
   "cell_type": "markdown",
   "metadata": {},
   "source": [
    "<a id='Analysis-of-protein–ligand-interactions'></a>\n",
    "\n",
    "### [Analysis of protein–ligand interactions](#Contents-in-Practical)\n",
    "\n",
    "With the docked poses of each analog in hand, we can now focus on analyzing the protein-ligand interactions in each docking pose of each analog. For the analysis, we use the `PLIP` package, for which a helper module is defined. This is then used in the `InteractionAnalysis` class of the pipeline, which automatically calculates all interaction information for each docked pose of each ligand. "
   ]
  },
  {
   "cell_type": "markdown",
   "metadata": {},
   "source": [
    "The `InteractionAnalysis` class can be instantiated by providing \n",
    "\n",
    "* the filepaths of the separated protein structure, \n",
    "* the smallest residue number in the protein,\n",
    "* a list of all analogs (as `Ligand` objects), \n",
    "* the results dataframe of the docking process,\n",
    "* the `Specs.InteractionAnalysis` object of the project,\n",
    "* and the output path for storing the interaction analysis data."
   ]
  },
  {
   "cell_type": "code",
   "execution_count": null,
   "metadata": {
    "tags": []
   },
   "outputs": [],
   "source": [
    "from utils import InteractionAnalysis\n",
    "\n",
    "project1.InteractionAnalysis = InteractionAnalysis(\n",
    "    project1.Docking.pdbqt_filepath_extracted_protein,\n",
    "    project1.Docking.pdb_filepath_extracted_protein,\n",
    "    project1.Protein.residue_number_first,\n",
    "    list(project1.Ligand.analogs.values()),\n",
    "    project1.Docking.master_df,\n",
    "    project1.Specs.InteractionAnalysis,\n",
    "    project1.Specs.OutputPaths.interaction_analysis,\n",
    ")"
   ]
  },
  {
   "cell_type": "markdown",
   "metadata": {},
   "source": [
    "The interactions can now be inspected collectively for all docking poses of all analogs. Here, only the number of interactions are recorded for each interaction type:"
   ]
  },
  {
   "cell_type": "code",
   "execution_count": null,
   "metadata": {},
   "outputs": [],
   "source": [
    "project1.InteractionAnalysis.results.sort_values(\n",
    "    by=\"total_num_interactions\", ascending=False\n",
    ").head()\n",
    "# NBVAL_CHECK_OUTPUT"
   ]
  },
  {
   "cell_type": "markdown",
   "metadata": {},
   "source": [
    "If we are interested in the details of a specific interaction type for a specific docking pose, we can access this information from the corresponding `Ligand` object of the analog. \n",
    "    \n",
    "For example, accessing the data for hydrophobic interactions of the first docking pose for analog 65997 (showing only the 5 first entries):   "
   ]
  },
  {
   "cell_type": "code",
   "execution_count": null,
   "metadata": {},
   "outputs": [],
   "source": [
    "project1.Ligand.analogs[\"11292933\"].docking_pose_1_interactions_hydrophobic.head()\n",
    "# NBVAL_CHECK_OUTPUT"
   ]
  },
  {
   "cell_type": "markdown",
   "metadata": {},
   "source": [
    "Or hydrogen-bond interactions of the second docking pose for analog 11292933:    "
   ]
  },
  {
   "cell_type": "code",
   "execution_count": null,
   "metadata": {},
   "outputs": [],
   "source": [
    "project1.Ligand.analogs[\"11292933\"].docking_pose_2_interactions_h_bond.head()\n",
    "# NBVAL_CHECK_OUTPUT"
   ]
  },
  {
   "cell_type": "markdown",
   "metadata": {},
   "source": [
    "Again, a summary of interaction analysis data is also added to each analog's main dataframe, which can be viewed by calling the object. Here showing only the relevant data, i.e. the last 9 rows:\n",
    "    "
   ]
  },
  {
   "cell_type": "code",
   "execution_count": null,
   "metadata": {},
   "outputs": [],
   "source": [
    "project1.Ligand.analogs[\"11292933\"]().tail(9)"
   ]
  },
  {
   "cell_type": "markdown",
   "metadata": {},
   "source": [
    "Let's use `plot_interaction_affinity_correlation` function and see if there is any visible correlation between the calculated binding affinities and the number of interactions for each docking pose:\n",
    "    "
   ]
  },
  {
   "cell_type": "code",
   "execution_count": null,
   "metadata": {},
   "outputs": [],
   "source": [
    "project1.InteractionAnalysis.plot_interaction_affinity_correlation()"
   ]
  },
  {
   "cell_type": "markdown",
   "metadata": {},
   "source": [
    "No obvious correlation is visible between the two sets of data; The number of total interactions is weakly correlated with the binding affinity, albeit with several outliers."
   ]
  },
  {
   "cell_type": "markdown",
   "metadata": {},
   "source": [
    "Now let's also analyze the interactions in the docking poses of the input ligand for comparison:    "
   ]
  },
  {
   "cell_type": "code",
   "execution_count": null,
   "metadata": {},
   "outputs": [],
   "source": [
    "project1.Ligand.InteractionAnalysis = InteractionAnalysis(\n",
    "    project1.Docking.pdbqt_filepath_extracted_protein,\n",
    "    project1.Docking.pdb_filepath_extracted_protein,\n",
    "    project1.Protein.residue_number_first,\n",
    "    [project1.Ligand],\n",
    "    project1.Ligand.Docking.master_df,\n",
    "    project1.Specs.InteractionAnalysis,\n",
    "    project1.Specs.OutputPaths.ligand,\n",
    ")"
   ]
  },
  {
   "cell_type": "markdown",
   "metadata": {},
   "source": [
    "The results can be viewed in a similar way to the analogs. For example, to view the summary data:    "
   ]
  },
  {
   "cell_type": "code",
   "execution_count": null,
   "metadata": {},
   "outputs": [],
   "source": [
    "project1.Ligand.InteractionAnalysis.results.sort_values(\n",
    "    by=\"total_num_interactions\", ascending=False\n",
    ")\n",
    "# NBVAL_CHECK_OUTPUT"
   ]
  },
  {
   "cell_type": "markdown",
   "metadata": {},
   "source": [
    "#### Visual interaction analysis\n",
    "\n",
    "We have additional methods available in the `InteractionAnalysis` class for visualization of the protein-ligand interactions. For example, we can now view the interactions for all docking poses in an interactive way. By selecting each docking pose (labeled by their CID and mode-number and sorted by their binding affinities), all the interacting residues are shown. The interactions are visualized with colored lines for which a color-map is also provided."
   ]
  },
  {
   "cell_type": "markdown",
   "metadata": {},
   "source": [
    "If we are interested in visualization of a certain analog's interactions, we can use the `visualize_analog_interactions` method instead, and provide the analog's CID.\n"
   ]
  },
  {
   "cell_type": "markdown",
   "metadata": {},
   "source": [
    "**Note: Clicking through different ligands and docking poses works only when you execute this talktorial; it does not work on the website version of the talktorial.**"
   ]
  },
  {
   "cell_type": "code",
   "execution_count": null,
   "metadata": {},
   "outputs": [],
   "source": [
    "project1.InteractionAnalysis.visualize_all_interactions()"
   ]
  },
  {
   "cell_type": "markdown",
   "metadata": {},
   "source": [
    "#### Finding poses with specific interactions\n",
    "\n",
    "We can also search for docked poses displaying a specific set of interactions with specific residues of the protein using the `find_poses_with_specific_interactions` method. This returns a list of tuples, where the first tuple element is the CID, and the second element is its corresponding docking pose number in which the specified interaction exists."
   ]
  },
  {
   "cell_type": "markdown",
   "metadata": {},
   "source": [
    "For example, since it's a common interaction in many EGFR inhibitors, we can search for the ligands that are involved in hydrogen-bonding with the hinge region (in this case residue M793) of the protein: "
   ]
  },
  {
   "cell_type": "code",
   "execution_count": null,
   "metadata": {},
   "outputs": [],
   "source": [
    "desired_interactions = project1.InteractionAnalysis.find_poses_with_specific_interactions(\n",
    "    [[\"h_bond\", 790]], \"any\"\n",
    ")\n",
    "desired_interactions\n",
    "# NBVAL_CHECK_OUTPUT"
   ]
  },
  {
   "cell_type": "markdown",
   "metadata": {},
   "source": [
    "And we can also visualize the results separately instead of looking for them in the menu of the viewer above.    "
   ]
  },
  {
   "cell_type": "code",
   "execution_count": null,
   "metadata": {},
   "outputs": [],
   "source": [
    "project1.InteractionAnalysis.visualize_docking_poses_interactions(desired_interactions)"
   ]
  },
  {
   "cell_type": "markdown",
   "metadata": {},
   "source": [
    "<a id='Selection-of-the-best-optimized-ligand'></a>\n",
    "\n",
    "### [Selection of the best optimized ligand](#Contents-in-Practical)\n",
    "\n",
    "At this point, we have carried out all the processes in the pipeline and have gathered all the information in our `LeadOptimizationPipeline` instance, i.e. `project1`. "
   ]
  },
  {
   "cell_type": "markdown",
   "metadata": {},
   "source": [
    "To recap, we have\n",
    "\n",
    "* found the most suitable binding site in the input protein based on the specifications of our project,\n",
    "* gathered a number of analogs to the input ligand and filtered them to choose those with the highest drug-likeness scores, and\n",
    "* calculated several docking poses and corresponding binding affinities for each analog and analyzed their interactions with the protein. "
   ]
  },
  {
   "cell_type": "markdown",
   "metadata": {},
   "source": [
    "Now we import a class, `OptimizedLigands`, which takes in the whole project, and based on the specifications in the input file, selects the best analog. "
   ]
  },
  {
   "cell_type": "code",
   "execution_count": null,
   "metadata": {},
   "outputs": [],
   "source": [
    "from utils import OptimizedLigands\n",
    "\n",
    "project1.OptimizedLigands = OptimizedLigands(project1)"
   ]
  },
  {
   "cell_type": "markdown",
   "metadata": {},
   "source": [
    "The class has a `__call__` method, which prints out a summary:    "
   ]
  },
  {
   "cell_type": "code",
   "execution_count": null,
   "metadata": {},
   "outputs": [],
   "source": [
    "project1.OptimizedLigands()"
   ]
  },
  {
   "cell_type": "markdown",
   "metadata": {},
   "source": [
    "We can see that the pipeline successfully found an analog superior to the input ligand in all of the three metrics, i.e. drug-likeness, estimated binding affinity, and total number of protein-ligand interactions.  "
   ]
  },
  {
   "cell_type": "markdown",
   "metadata": {},
   "source": [
    "Lastly we can simply visualize the most suited analog(s) found:"
   ]
  },
  {
   "cell_type": "code",
   "execution_count": null,
   "metadata": {},
   "outputs": [],
   "source": [
    "project1.OptimizedLigands.show_final_output()"
   ]
  },
  {
   "cell_type": "markdown",
   "metadata": {},
   "source": [
    "The final output of the pipeline is thus a certain number (specified in the input specifications) of `Ligand` objects corresponding to the optimized analogs found:"
   ]
  },
  {
   "cell_type": "code",
   "execution_count": null,
   "metadata": {},
   "outputs": [],
   "source": [
    "project1.OptimizedLigands.output\n",
    "# NBVAL_CHECK_OUTPUT"
   ]
  },
  {
   "cell_type": "code",
   "execution_count": null,
   "metadata": {},
   "outputs": [],
   "source": [
    "[ligand.binding_affinity_best for ligand in project1.OptimizedLigands.output]\n",
    "# NBVAL_CHECK_OUTPUT"
   ]
  },
  {
   "cell_type": "markdown",
   "metadata": {},
   "source": [
    "<a id='Putting-all-the-pieces-together:-A-fully-automated-pipeline'></a>\n",
    "\n",
    "### [Putting all the pieces together: A fully automated pipeline](#Contents-in-Practical)\n",
    "\n",
    "Now that we have implemented all the necessary parts of our pipeline, we can write a method &mdash;`LeadOptimizationPipeline.run` &mdash; to automatically run the whole pipeline and display the results; it takes in the project name, the filepath of the input data, and the output path, and performs all the necessary processes to generate the final output. It will also print a summary of the intermediate results for each part of the pipeline, so that the process can be followed."
   ]
  },
  {
   "cell_type": "markdown",
   "metadata": {},
   "source": [
    "For this demonstration, let's use the optimized ligand we just found as the input ligand to see whether we can do better than our previous optimization results and obtain a better analog. "
   ]
  },
  {
   "cell_type": "markdown",
   "metadata": {},
   "source": [
    "We first need to create the corresponding input file. To do so, we can simply open the input file of our project, modify the ligand input value, and save the file as a new input file:"
   ]
  },
  {
   "cell_type": "code",
   "execution_count": null,
   "metadata": {},
   "outputs": [],
   "source": [
    "new_input_df = pd.read_csv(project1.Specs.RawData.filepath)\n",
    "new_input_df.head()\n",
    "# NBVAL_CHECK_OUTPUT"
   ]
  },
  {
   "cell_type": "code",
   "execution_count": null,
   "metadata": {},
   "outputs": [],
   "source": [
    "new_input_df.loc[3, \"Value\"] = project1.OptimizedLigands.output[0].smiles\n",
    "new_input_df\n",
    "# NBVAL_CHECK_OUTPUT"
   ]
  },
  {
   "cell_type": "code",
   "execution_count": null,
   "metadata": {},
   "outputs": [],
   "source": [
    "new_input_df.to_csv(DATA / \"PipelineInputData_Project2.csv\")"
   ]
  },
  {
   "cell_type": "markdown",
   "metadata": {},
   "source": [
    "Now let's run the pipeline again, this time fully automated and with the already optimized ligand. Other than printing out a short summary of results in real-time, the function also returns the whole project at the end. Thus, by assigning the return value to a variable (here `project2`), we can later further investigate the information generated by the pipeline in more detail."
   ]
  },
  {
   "cell_type": "markdown",
   "metadata": {},
   "source": []
  },
  {
   "cell_type": "code",
   "execution_count": null,
   "metadata": {},
   "outputs": [],
   "source": [
    "project2 = LeadOptimizationPipeline.run(\n",
    "    \"Project2_EGFR_CID11292933\",\n",
    "    input_data_filepath=DATA / \"PipelineInputData_Project2.csv\",\n",
    "    output_data_root_folder_path=DATA / \"Outputs\",\n",
    "    frozen_data_filepath=frozen_data_project2.pipeline\n",
    ")"
   ]
  },
  {
   "cell_type": "code",
   "execution_count": null,
   "metadata": {},
   "outputs": [],
   "source": [
    "project2.OptimizedLigands.output\n",
    "# NBVAL_CHECK_OUTPUT"
   ]
  },
  {
   "cell_type": "code",
   "execution_count": null,
   "metadata": {},
   "outputs": [],
   "source": [
    "[ligand.binding_affinity_best for ligand in project2.OptimizedLigands.output]\n",
    "# NBVAL_CHECK_OUTPUT"
   ]
  },
  {
   "cell_type": "markdown",
   "metadata": {},
   "source": [
    "<a id='discussion'></a>\n",
    "\n",
    "## Discussion\n",
    "\n",
    "In this talktorial, we successfully implemented a fully-automated virtual screening pipeline targeted at hit-expansion and lead-optimization phases of a drug discovery project, and demonstrated it using EGFR (PDB code: 3W32) as the target protein and a promising inhibitor with the ChEMBL compound ID CHEMBL328216. \n",
    "\n",
    "* As the input, the pipeline accepted a single CSV data file, specifying a protein structure, a ligand and several other settings regarding the different processes of the pipeline. \n",
    "* It then performed all the necessary processes in order to suggest an analog of the provided ligand with promising features in terms of estimated binding affinity, number of protein-ligand interactions and drug-likeness. "
   ]
  },
  {
   "cell_type": "markdown",
   "metadata": {},
   "source": [
    "The code is specifically structured in such a way that it will be easy to digest, maintain, and expand. For each functionality of the pipeline, a separate class was created, using several helper modules that are required to develop a certain part of the pipeline, and *can be easily adopted for other projects*. "
   ]
  },
  {
   "cell_type": "markdown",
   "metadata": {},
   "source": [
    "<details>\n",
    "\n",
    "<summary> Click here for a more detailed summary of the process </summary>\n",
    "\n",
    "The pipeline was contained in a single class (`LeadOptimizationPipeline`) with sub-classes for every process, making for easier access to all parts of the data generated. \n",
    "    \n",
    "* The process began with **binding site detection** using the *DoGSiteScorer* functionality of the *ProteinsPlus* webserver. \n",
    "* The next step was a **ligand similarity-search** performed using the *PubChem* web-services via the provided API backend. \n",
    "* Subsequently, the structural analogs detected via the similarity search were filtered based on their physiochemical properties in order to *select the most drug-like analogs*. \n",
    "* These were assessed in a virtual screening process using the *Smina* program in order to estimate their binding affinities and corresponding binding-poses.\n",
    "* Using the *PLIP* package, these generated docking poses were analyzed in terms of their specific non-covalent interactions with the target protein and analogs displaying a specific set of desired interactions were selected in order to achieve higher selectivities for the target protein. \n",
    "* After all required processes were carried out, the pipeline outputted a given number of optimized analogs, based on the criteria defined by the user in the input data, such as binding affinity, physiochemical and pharmacokinetic properties, and specific interactions with the protein structure.  \n",
    "    \n",
    "    \n",
    "Furthermore, at the end of the pipeline a function was provided (`LeadOptimizationPipeline.run`) that put the whole program together and automatically ran a given project to completion, merely by providing an input specification file. This function was demonstrated by using the optimized analog found at the end of the step-by-step introduction of the pipeline, which led to discovering a second analog with a higher estimated binding affinity than the first one.\n",
    "</details>"
   ]
  },
  {
   "cell_type": "markdown",
   "metadata": {
    "tags": []
   },
   "source": [
    "As the pipeline provides functionalities and options outside the scope of this talktorial, we have also provided a *Supplementary Information* section that showcases the possibilities of the pipeline in more detail. Furthermore, we have structured the code to be easily expandable, so it can be freely adopted and built upon for various situations and needs. The results of the pipeline are not, however, fully deterministic. Several calculations (e.g. generating 3D structures for docking) have randomized components during the course of their execution. Therefore, re-running the pipeline under the same conditions may result in slightly different outputs. "
   ]
  },
  {
   "cell_type": "markdown",
   "metadata": {
    "tags": []
   },
   "source": [
    "![Pipeline input and output](images/pipeline_io.png)  \n",
    "\n",
    "*Figure 9.* Results of the pipeline's performance in the demonstrated examples. Starting with a ligand with an estimated binding affinity of -8.8 kcal/mol, the pipeline was able to suggest a ligand with an improved estimated affinity of -10.2 kcal/mol. Subjecting this optimized ligand to the same process resulted in an analog with an estimated binding affinity of -10.8 kcal/mol."
   ]
  },
  {
   "cell_type": "markdown",
   "metadata": {},
   "source": [
    "<a id='quiz'></a>\n",
    "\n",
    "## Quiz"
   ]
  },
  {
   "cell_type": "markdown",
   "metadata": {},
   "source": [
    "**Conceptual Questions:**\n",
    "\n",
    "1. Describe the processes involved in the hit-to-lead and lead optimization phases of a drug design pipeline. How are these processes implemented in the virtual pipeline described in this talktorial?\n",
    "2. Describe the important facets of binding site definition in a general virtual screening pipeline. What options are available for binding site definition and selection in this pipeline? \n",
    "3. What chemical differences for obtained analogs might explain their lower calculated similarity than the threshold specified in the input data?\n",
    "4. What did the interaction analysis data tell us about selecting an analog with higher selectivity for the target protein?"
   ]
  },
  {
   "cell_type": "markdown",
   "metadata": {},
   "source": [
    "**Exercises:**\n",
    "\n",
    "1. In order to prevent the talktorial from being too lengthy, we only demonstrated a sub-set of the options and information that the pipeline offers. By creatin another `LeadOptimizationPipeline` instance, execute the pipeline and explore its other options by looking up the attributes and methods of different classes comprising the pipeline.   \n",
    "2. Try to implement a loop, where the final output of a pipeline is re-entered as the input for a new pipeline (i.e. try to optimize your initial input ligand through several runs, same as we did for the demonstration of the `LeadOptimizationPipeline.run` function). After how many cycles does the pipeline reach a plateau where results no longer improve?\n",
    "3. Generate your own input CSV-files, each time choosing a different set of specifications, and compare the results. Can you find a set of specifications that perform considerably better than the others?"
   ]
  },
  {
   "cell_type": "markdown",
   "metadata": {},
   "source": [
    "<a id='supp'></a>\n",
    "\n",
    "## Supplementary information\n",
    " \n",
    "Here we will also demonstrate the functions of each helper module used in the pipeline, to provide a better understanding of the inner workings of the code. \n",
    "\n",
    "*Note*: Some cells use variables defined in an early cell. Therefore, in order for all cells to work you have to run them sequentially."
   ]
  },
  {
   "cell_type": "markdown",
   "metadata": {},
   "source": [
    "<a id='io_demo'></a>\n",
    "\n",
    "### Demonstration of the `io` helper module\n",
    "\n",
    "Using this module, the input CSV file can be easily imported via the `create_dataframe_from_csv_input_file` function, by specifying the corresponding filepath, the name of the columns to be used as indices for the dataframe, and the name of the other columns we want to keep:"
   ]
  },
  {
   "cell_type": "code",
   "execution_count": null,
   "metadata": {},
   "outputs": [],
   "source": [
    "from utils import Consts\n",
    "from utils.helpers import io\n",
    "\n",
    "example_input_df = io.create_dataframe_from_csv_input_file(\n",
    "    input_data_filepath=DATA / f\"PipelineInputData_Project1.csv\",\n",
    "    list_of_index_column_names=[\n",
    "        Consts.DataFrame.ColumnNames.SUBJECT.value,\n",
    "        Consts.DataFrame.ColumnNames.PROPERTY.value,\n",
    "    ],\n",
    "    list_of_columns_to_keep=[Consts.DataFrame.ColumnNames.VALUE.value],\n",
    ")"
   ]
  },
  {
   "cell_type": "markdown",
   "metadata": {},
   "source": [
    "Note that for inputting the `list_of_index_column_names` and `list_of_column_names_to_keep` we didn't write the name of the columns (i.e. `\"Subject\"`, `\"Property\"` and `\"Value\"`) explicitly but used the respective constants stored in the `Consts` class. In this way, if the column names in the input file are changed in the future, they only need to be corrected in the `Consts` class and nowhere else in the code."
   ]
  },
  {
   "cell_type": "markdown",
   "metadata": {},
   "source": [
    "We can now view the imported data in its entirety:    "
   ]
  },
  {
   "cell_type": "code",
   "execution_count": null,
   "metadata": {},
   "outputs": [],
   "source": [
    "example_input_df\n",
    "# NBVAL_CHECK_OUTPUT"
   ]
  },
  {
   "cell_type": "markdown",
   "metadata": {},
   "source": [
    "Moreover, we can also extract all the data corresponding to a specific `Subject`, using the `copy_series_from_dataframe` function and specifying the main dataframe and the name of the index-level and column that we want to extract. For example, to extract the binding site specification data:"
   ]
  },
  {
   "cell_type": "code",
   "execution_count": null,
   "metadata": {
    "tags": []
   },
   "outputs": [],
   "source": [
    "example_input_protein_data = io.copy_series_from_dataframe(\n",
    "    input_df=example_input_df,\n",
    "    index_name=Consts.DataFrame.SubjectNames.BINDING_SITE.value,\n",
    "    column_name=Consts.DataFrame.ColumnNames.VALUE.value,\n",
    ")\n",
    "\n",
    "# Displaying the extracted data:\n",
    "example_input_protein_data\n",
    "# NBVAL_CHECK_OUTPUT"
   ]
  },
  {
   "cell_type": "markdown",
   "metadata": {
    "tags": []
   },
   "source": [
    "Later, for storing the output data we will also need the `create_folder` function, which can create a folder (and all its necessary parent folders) with a given name at a given path. The function then returns the full path of the created folder. We now create a folder named *Examples*, which we will use to store the files used in the demonstration sections."
   ]
  },
  {
   "cell_type": "code",
   "execution_count": null,
   "metadata": {
    "tags": []
   },
   "outputs": [],
   "source": [
    "example_output_path = io.create_folder(folder_name=\"Examples\", folder_path=DATA / f\"Outputs\")\n",
    "\n",
    "# Displaying the full path of the generated folder:\n",
    "example_output_path"
   ]
  },
  {
   "cell_type": "markdown",
   "metadata": {},
   "source": [
    "<a id='pdb_demo'></a>\n",
    "\n",
    "### Demonstration of the `pdb` helper module\n",
    "\n",
    "We can use the `fetch_and_save_pdb_file` function to download a protein's PDB file using its PDB-code. The function takes in a full filepath, including the name of the file and returns the full filepath (including the .PDB extension)."
   ]
  },
  {
   "cell_type": "code",
   "execution_count": null,
   "metadata": {},
   "outputs": [],
   "source": [
    "from utils.helpers import pdb\n",
    "\n",
    "example_downloaded_protein_filepath = pdb.fetch_and_save_pdb_file(\n",
    "    pdb_code=\"3w32\", output_filepath=example_output_path / \"3W32\"\n",
    ")\n",
    "\n",
    "example_downloaded_protein_filepath"
   ]
  },
  {
   "cell_type": "markdown",
   "metadata": {},
   "source": [
    "\n",
    "The PDB file is now downloaded on the disk. Now, the content of the PDB file can be obtained as follows (As the complete file is very long, here we only show the first 800 characters):    "
   ]
  },
  {
   "cell_type": "code",
   "execution_count": null,
   "metadata": {
    "tags": []
   },
   "outputs": [],
   "source": [
    "example_pdb_file_content = pdb.read_pdb_file_content(\n",
    "    input_type=\"pdb_filepath\", input_value=example_downloaded_protein_filepath\n",
    ")\n",
    "\n",
    "example_pdb_file_content[:800]\n",
    "# NBVAL_CHECK_OUTPUT"
   ]
  },
  {
   "cell_type": "markdown",
   "metadata": {},
   "source": [
    "Note that, alternatively, we also could have set the `input_type` to `\"pdb_code\"` and entered a valid PDB-code as the `input_value` to directly fetch and read the file contents of a protein PDB file from the PDB webserver. However, in that case, the PDB file itself would not have been saved on the disk."
   ]
  },
  {
   "cell_type": "markdown",
   "metadata": {},
   "source": [
    "This file content can the be used to extract some useful information from the PDB file:"
   ]
  },
  {
   "cell_type": "code",
   "execution_count": null,
   "metadata": {},
   "outputs": [],
   "source": [
    "pdb.extract_info_from_pdb_file_content(example_pdb_file_content)\n",
    "# NBVAL_CHECK_OUTPUT"
   ]
  },
  {
   "cell_type": "markdown",
   "metadata": {},
   "source": [
    "Or directly without storing the PDB file content in a variable (here using another PDB-code as example):"
   ]
  },
  {
   "cell_type": "code",
   "execution_count": null,
   "metadata": {},
   "outputs": [],
   "source": [
    "pdb.extract_info_from_pdb_file_content(\n",
    "    pdb_file_text_content=pdb.read_pdb_file_content(input_type=\"pdb_code\", input_value=\"5gty\")\n",
    ")\n",
    "# NBVAL_CHECK_OUTPUT"
   ]
  },
  {
   "cell_type": "markdown",
   "metadata": {},
   "source": [
    "The `load_pdb_file_as_dataframe` function can also be used but it does not contain all the information that the `extract_info_from_pdb_file_content` can extract. The function returns a dictionary where each value is a *Pandas DataFrame*:"
   ]
  },
  {
   "cell_type": "code",
   "execution_count": null,
   "metadata": {},
   "outputs": [],
   "source": [
    "example_pdb_dataframe = pdb.load_pdb_file_as_dataframe(example_pdb_file_content)\n",
    "example_pdb_dataframe.keys()\n",
    "# NBVAL_CHECK_OUTPUT"
   ]
  },
  {
   "cell_type": "markdown",
   "metadata": {},
   "source": [
    "For example, all the information regarding the atoms in the protein can be accessed via the `ATOM` key. This data was used in the pipeline, for example, to extract the range of residue numbers of the protein."
   ]
  },
  {
   "cell_type": "code",
   "execution_count": null,
   "metadata": {},
   "outputs": [],
   "source": [
    "example_pdb_dataframe[\"ATOM\"].head()\n",
    "# NBVAL_CHECK_OUTPUT"
   ]
  },
  {
   "cell_type": "markdown",
   "metadata": {},
   "source": [
    "<a id='pubchem_demo'></a>\n",
    "\n",
    "### Demonstration of the `pubchem` helper module\n",
    "\n",
    "The `convert_compound_identifier` function can be used to get a specific compound's identifier by providing another identifier. \n",
    "    \n",
    "For example, obtaining the SMILES of Aspirin by providing its name:"
   ]
  },
  {
   "cell_type": "code",
   "execution_count": null,
   "metadata": {},
   "outputs": [],
   "source": [
    "from utils.helpers import pubchem\n",
    "\n",
    "pubchem.convert_compound_identifier(\n",
    "    input_id_type=\"name\", input_id_value=\"aspirin\", output_id_type=\"smiles\"\n",
    ")\n",
    "# NBVAL_CHECK_OUTPUT"
   ]
  },
  {
   "cell_type": "markdown",
   "metadata": {},
   "source": [
    "Or retrieving its IUPAC name:"
   ]
  },
  {
   "cell_type": "code",
   "execution_count": null,
   "metadata": {},
   "outputs": [],
   "source": [
    "pubchem.convert_compound_identifier(\n",
    "    input_id_type=\"name\", input_id_value=\"aspirin\", output_id_type=\"iupac_name\"\n",
    ")\n",
    "# NBVAL_CHECK_OUTPUT"
   ]
  },
  {
   "cell_type": "markdown",
   "metadata": {},
   "source": [
    "Or retrieving its name using its SMILES:"
   ]
  },
  {
   "cell_type": "code",
   "execution_count": null,
   "metadata": {},
   "outputs": [],
   "source": [
    "pubchem.convert_compound_identifier(\n",
    "    input_id_type=\"smiles\",\n",
    "    input_id_value=\"CC(=O)OC1=CC=CC=C1C(=O)O\",\n",
    "    output_id_type=\"name\",\n",
    ")\n",
    "# NBVAL_CHECK_OUTPUT"
   ]
  },
  {
   "cell_type": "markdown",
   "metadata": {},
   "source": [
    "Or retrieving its CID using its name:"
   ]
  },
  {
   "cell_type": "code",
   "execution_count": null,
   "metadata": {},
   "outputs": [],
   "source": [
    "pubchem.convert_compound_identifier(\n",
    "    input_id_type=\"name\", input_id_value=\"aspirin\", output_id_type=\"cid\"\n",
    ")\n",
    "# NBVAL_CHECK_OUTPUT"
   ]
  },
  {
   "cell_type": "markdown",
   "metadata": {},
   "source": [
    "Using the `get_compound_record` function, all available records on the molecule can be obtained in a dictionary with the following keys: `\"id\"`, `\"atoms\"`, `\"bonds\"`, `\"coords\"`, `\"charge\"`, `\"props\"`, `\"count\"`.\n",
    "\n",
    "As an example, we access the `\"props\"` key, which contains the physiochemical properties of the compound (only showing the first 2 entries, since the full list is too long):"
   ]
  },
  {
   "cell_type": "code",
   "execution_count": null,
   "metadata": {
    "tags": []
   },
   "outputs": [],
   "source": [
    "pubchem.get_compound_record(input_id_type=\"name\", input_id_value=\"aspirin\")[\"props\"][:2]\n",
    "# NBVAL_CHECK_OUTPUT"
   ]
  },
  {
   "cell_type": "markdown",
   "metadata": {},
   "source": [
    "The `get_description_from_smiles` function provides a textual description of the compound. However, it is not available for every compound. If the parameter `printout` is set to False, the function will return a dictionary containing the descriptions, sources, and other information. By setting it to True, only the description part will be printed out. For example, for aspirin:"
   ]
  },
  {
   "cell_type": "code",
   "execution_count": null,
   "metadata": {},
   "outputs": [],
   "source": [
    "pubchem.get_description_from_smiles(smiles=\"CC(=O)OC1=CC=CC=C1C(=O)O\", printout=True)\n",
    "# NBVAL_CHECK_OUTPUT"
   ]
  },
  {
   "cell_type": "markdown",
   "metadata": {},
   "source": [
    "The ```similarity_search``` function performs a similarity search on a given compound by providing its SMILES. The ```min_similarity``` parameters defines the minimum similarity percent to be considered, while the ```max_num_results``` parameters limits the number of results to be fetched from the PubChem server. By default, the results are returned in a ```json``` format, which is transformed into a list of dictionaries. However, the return format can also be changed using the optional ```output_data_file``` parameter."
   ]
  },
  {
   "cell_type": "code",
   "execution_count": null,
   "metadata": {},
   "outputs": [],
   "source": [
    "pubchem.similarity_search(\n",
    "    smiles=\"C1=CC(=CC(=C1)Br)NC2=NC=NC3=CC(=C(C=C32)N)N\", min_similarity=70, max_num_results=30\n",
    ")"
   ]
  },
  {
   "cell_type": "markdown",
   "metadata": {},
   "source": [
    "<a id='rdkit_demo'></a>\n",
    "\n",
    "### Demonstration of the `rdkit` helper module\n",
    "\n",
    "To use any other function in the `rdkit` module, we first have to generate an RDKit molecule object using the `create_molecule_object` function. This can accept different identifiers as input such as the SMILES. Here we again use Aspirin as an example:"
   ]
  },
  {
   "cell_type": "code",
   "execution_count": null,
   "metadata": {},
   "outputs": [],
   "source": [
    "from utils.helpers import rdkit\n",
    "\n",
    "example_mol_obj = rdkit.create_molecule_object(\n",
    "    input_type=\"smiles\", input_value=\"CC(=O)OC1=CC=CC=C1C(=O)O\"\n",
    ")"
   ]
  },
  {
   "cell_type": "markdown",
   "metadata": {},
   "source": [
    "The RDKit molecule objects can be called directly, which simply visualizes the molecule:"
   ]
  },
  {
   "cell_type": "code",
   "execution_count": null,
   "metadata": {},
   "outputs": [],
   "source": [
    "example_mol_obj"
   ]
  },
  {
   "cell_type": "markdown",
   "metadata": {},
   "source": [
    "The `calculate_druglikeness` function can then be used to calculate several molecular properties and drug-likeness scores, which will be returned as a dictionary:"
   ]
  },
  {
   "cell_type": "code",
   "execution_count": null,
   "metadata": {},
   "outputs": [],
   "source": [
    "rdkit.calculate_druglikeness(mol_obj=example_mol_obj)\n",
    "# NBVAL_CHECK_OUTPUT"
   ]
  },
  {
   "cell_type": "markdown",
   "metadata": {},
   "source": [
    "The `calculate_similarity_dice` function is used to calculate the Dice similarity metric between two ligands using a 4096-bit Morgan fingerprints with a raidus of 2. Here, as an example we will input the same molecule twice which results in a similarity score of 1 (i.e. 100% similarity): "
   ]
  },
  {
   "cell_type": "code",
   "execution_count": null,
   "metadata": {},
   "outputs": [],
   "source": [
    "rdkit.calculate_similarity_dice(mol_obj1=example_mol_obj, mol_obj2=example_mol_obj)\n",
    "# NBVAL_CHECK_OUTPUT"
   ]
  },
  {
   "cell_type": "markdown",
   "metadata": {},
   "source": [
    "Using the `save_molecule_image_to_file` function, an image file containing the ligand's structure can be saved at a given path as well:"
   ]
  },
  {
   "cell_type": "code",
   "execution_count": null,
   "metadata": {},
   "outputs": [],
   "source": [
    "rdkit.save_molecule_image_to_file(\n",
    "    mol_obj=example_mol_obj, filepath=example_output_path / \"aspirin\"\n",
    ")"
   ]
  },
  {
   "cell_type": "markdown",
   "metadata": {},
   "source": [
    "In addition, we can use the `save_3D_molecule_to_SDfile` function which prepares the molecule for docking calcluations i.e. adds hydrogen atoms, creates 3D conformation and runs energy minimizations etc. It is then saved as an SDF file:"
   ]
  },
  {
   "cell_type": "code",
   "execution_count": null,
   "metadata": {},
   "outputs": [],
   "source": [
    "rdkit.save_3D_molecule_to_SDfile(mol_obj=example_mol_obj, filepath=example_output_path / \"aspirin\")"
   ]
  },
  {
   "cell_type": "markdown",
   "metadata": {},
   "source": [
    "<a id='obabel_demo'></a>\n",
    "\n",
    "### Demonstration of the `obabel` helper module"
   ]
  },
  {
   "cell_type": "markdown",
   "metadata": {},
   "source": [
    "We can use the `obabel` module to create PDBQT files from PDB files and SMILES."
   ]
  },
  {
   "cell_type": "code",
   "execution_count": null,
   "metadata": {},
   "outputs": [],
   "source": [
    "from utils.helpers import obabel"
   ]
  },
  {
   "cell_type": "code",
   "execution_count": null,
   "metadata": {},
   "outputs": [],
   "source": [
    "obabel.create_pdbqt_from_pdb_file(example_output_path / \"3W32.pdb\", example_output_path / \"protein.pdbqt\")"
   ]
  },
  {
   "cell_type": "code",
   "execution_count": null,
   "metadata": {},
   "outputs": [],
   "source": [
    "obabel.create_pdbqt_from_smiles(\"Nc1cc2ncnc(Nc3cccc(Br)c3)c2cc1N\", example_output_path / \"ligand.pdbqt\")"
   ]
  },
  {
   "cell_type": "markdown",
   "metadata": {
    "tags": []
   },
   "source": [
    "<a id='dogsitescorer_demo'></a>\n",
    "\n",
    "### Demonstration of the `dogsitescorer` helper module\n",
    "\n",
    "If we want to detect the binding sites of a protein from a local PDB file, we should first upload the file to the *DogSiteScorer* webserver using the `upload_pdb_file` function. For this, we will use the PDB file we downloaded earlier:"
   ]
  },
  {
   "cell_type": "code",
   "execution_count": null,
   "metadata": {},
   "outputs": [],
   "source": [
    "from utils.helpers import dogsitescorer\n",
    "\n",
    "example_dummy_pdb_id = dogsitescorer.upload_pdb_file(filepath=example_downloaded_protein_filepath)\n",
    "\n",
    "example_dummy_pdb_id\n",
    "# NBVAL_CHECK_OUTPUT"
   ]
  },
  {
   "cell_type": "markdown",
   "metadata": {},
   "source": [
    "The `upload_pdb_file` returns a dummy PDB-code for the uploaded structure which can be used in place of a valid PDB-code to submit a binding site detection job. Notice that the `submit_job` function can also take in a chain-ID to limit the detection on that specific chain, and a ligand-ID to also calculate the coverage of each detected binding site. However, the ligand-ID that *DoGSiteScorer* accepts has its own format and is not the same as the ligand-ID in the protein PDB file. "
   ]
  },
  {
   "cell_type": "markdown",
   "metadata": {},
   "source": [
    "Nevertheless, it follows the following format: (ligand-ID)\\_(chain-ID)\\_(ligand-residue-ID). When implementing the `BindingSiteDetection` class, we will circumvent this by automatically generating the *DogSiteScorer* ligand-ID from the normal ligand-ID so that the user does not have to manually look up and enter the ligand-ID in this specific format. \n",
    "\n",
    "*Note*: This process should take **about one minute** to complete."
   ]
  },
  {
   "cell_type": "code",
   "execution_count": null,
   "metadata": {},
   "outputs": [],
   "source": [
    "example_binding_site_data = dogsitescorer.submit_job(\n",
    "    pdb_id=example_dummy_pdb_id, ligand_id=\"W32_A_1101\", chain_id=\"A\"\n",
    ")\n",
    "\n",
    "example_binding_site_data\n",
    "# NBVAL_CHECK_OUTPUT"
   ]
  },
  {
   "cell_type": "markdown",
   "metadata": {},
   "source": [
    "Alternatively, we can also use a valid PDB-code to directly submit a binding site detection job: "
   ]
  },
  {
   "cell_type": "code",
   "execution_count": null,
   "metadata": {},
   "outputs": [],
   "source": [
    "dogsitescorer.submit_job(\n",
    "    pdb_id=\"3W32\",\n",
    "    ligand_id=\"W32_A_1101\",\n",
    "    chain_id=\"A\",\n",
    ")"
   ]
  },
  {
   "cell_type": "markdown",
   "metadata": {},
   "source": [
    "The `submit_job` function returns a DataFrame containing all the detected binding sites and their respective properties. It also contains the URLs of the PDB and CCP4 files for each of the detected binding sites, which can be used to download the files later. Among the calculated properties, the most important are `drugScore`, `simpleScore`, `volume`, as well as `lig_cov` and `poc_cov` for when a ligand-ID is also inputted. The list of all properties can be accessed by retrieving the column names of the DataFrame: "
   ]
  },
  {
   "cell_type": "code",
   "execution_count": null,
   "metadata": {},
   "outputs": [],
   "source": [
    "example_binding_site_data.columns\n",
    "# NBVAL_CHECK_OUTPUT"
   ]
  },
  {
   "cell_type": "markdown",
   "metadata": {},
   "source": [
    "The `simpleScore` is a simple druggability score, based on a linear combination of the three descriptors describing volume, hydrophobicity and enclosure. In addition, a subset of meaningful descriptors is incorporated in a support vector machine (libsvm) to predict a druggability score called `drugScore`, which has a value between 0 and 1. The higher the score the more druggable the binding site is estimated to be. `lig_cov` gives the percentage of the ligand volume that is covered by the binding site, and `poc_cov` gives the percentage of the binding site volume that is covered by the ligand."
   ]
  },
  {
   "cell_type": "markdown",
   "metadata": {},
   "source": [
    "Depending on the specifics of the project, these values can be used to select the most-suitable detected binding site. Here, we have implemented two possibilities for this selection process in the `select_best_pocket` function. The first option is to provide a list of properties in order of importance, based on which the binding site with the highest or lowest value is to be chosen. The function then returns the name of the selected binding site. The list of properties should be inputted as a list. For example, the `selection_criteria` argumenr below sorts the binding sites by their `lig_cov` values and if there are two or more binding sites with the same `lig_cov` value, it then sorts them by their `poc_cov` values:"
   ]
  },
  {
   "cell_type": "code",
   "execution_count": null,
   "metadata": {},
   "outputs": [],
   "source": [
    "example_best_pocket_name = dogsitescorer.select_best_pocket(\n",
    "    binding_site_df=example_binding_site_data,\n",
    "    selection_method=\"sorting\",\n",
    "    selection_criteria=[\"lig_cov\", \"poc_cov\"],\n",
    "    ascending=False,\n",
    ")\n",
    "\n",
    "example_best_pocket_name\n",
    "# NBVAL_CHECK_OUTPUT"
   ]
  },
  {
   "cell_type": "markdown",
   "metadata": {},
   "source": [
    "Another possibility for selecting a binding site is to provide any valid Python expression that generates a list-like object with the same length as the number of detected binding site. This Python expression is inputted as a string, so the user can directly input a Python expression in the input CSV file and it will be evaluated during the runtime."
   ]
  },
  {
   "cell_type": "markdown",
   "metadata": {},
   "source": [
    "For example, using this method we can perform any calculation on the properties in the binding site DataFrame. Note that for referring to the binding site dataframe, `df` should be used:"
   ]
  },
  {
   "cell_type": "code",
   "execution_count": null,
   "metadata": {},
   "outputs": [],
   "source": [
    "dogsitescorer.select_best_pocket(\n",
    "    binding_site_df=example_binding_site_data,\n",
    "    selection_method=\"function\",\n",
    "    selection_criteria=\"((df['lig_cov'] + df['poc_cov']) / 2) * ((df['drugScore'] + df['simpleScore']) / 2) / df['volume']\",\n",
    "    ascending=False,\n",
    ")"
   ]
  },
  {
   "cell_type": "markdown",
   "metadata": {},
   "source": [
    "For example, the above `selection_criteria` is a function that calculates the average of `lig_cov` and `poc_cov`, as well as the average of `drugScore` and `simpleScore`, multiplies the two together and then divides the result by the `volume`. The binding site that has the highest value is then chosen. If we want to have the lowest value, we can set the `ascending` parameter to False. Another example is:"
   ]
  },
  {
   "cell_type": "code",
   "execution_count": null,
   "metadata": {},
   "outputs": [],
   "source": [
    "dogsitescorer.select_best_pocket(\n",
    "    binding_site_df=example_binding_site_data,\n",
    "    selection_method=\"function\",\n",
    "    selection_criteria=\"df[['drugScore', 'simpleScore']].min(axis=1) * df[['poc_cov', 'lig_cov']].max(axis=1)\",\n",
    "    ascending=False,\n",
    ")"
   ]
  },
  {
   "cell_type": "markdown",
   "metadata": {},
   "source": [
    "The above example calculates the minimum value between `drugScore` and `simpleScore`, and multiplies the results with the maximum value between the `poc_cov` and `lig_cov`. \n",
    "    \n",
    "We now want to calculate the coordinates of the selected binding site, so that we can use it in the docking process. For this, we first need to download the PDB files of the detected binding sites, using the `save_binding_sites_to_file` function:  "
   ]
  },
  {
   "cell_type": "code",
   "execution_count": null,
   "metadata": {},
   "outputs": [],
   "source": [
    "dogsitescorer.save_binding_sites_to_file(\n",
    "    binding_site_df=example_binding_site_data, output_path=example_output_path\n",
    ")"
   ]
  },
  {
   "cell_type": "markdown",
   "metadata": {},
   "source": [
    "Having downloaded the necessary binding site files, we can now calculate the coordinates of the selected binding site:"
   ]
  },
  {
   "cell_type": "code",
   "execution_count": null,
   "metadata": {
    "tags": []
   },
   "outputs": [],
   "source": [
    "dogsitescorer.calculate_pocket_coordinates_from_pocket_pdb_file(\n",
    "    filepath=example_output_path / example_best_pocket_name\n",
    ")"
   ]
  }
 ],
 "metadata": {
  "colab": {
   "collapsed_sections": [],
   "name": "Copy of T04-Short presentation.ipynb",
   "provenance": []
  },
  "interpreter": {
   "hash": "45522c5628391462637735a679586e65656862e20fd5b76530148d8eaf641b21"
  },
  "kernelspec": {
   "display_name": "Python 3 (ipykernel)",
   "language": "python",
   "name": "python3"
  },
  "language_info": {
   "codemirror_mode": {
    "name": "ipython",
    "version": 3
   },
   "file_extension": ".py",
   "mimetype": "text/x-python",
   "name": "python",
   "nbconvert_exporter": "python",
   "pygments_lexer": "ipython3",
   "version": "3.9.7"
  },
  "toc-autonumbering": true,
  "toc-showcode": false,
  "toc-showmarkdowntxt": false,
  "widgets": {
   "application/vnd.jupyter.widget-state+json": {
    "state": {
     "6b7bab7da178480996f461e9e3e65816": {
      "model_module": "nglview-js-widgets",
      "model_module_version": "3.0.1",
      "model_name": "ColormakerRegistryModel",
      "state": {
       "_msg_ar": [],
       "_msg_q": [],
       "_ready": true,
       "layout": "IPY_MODEL_93f4822451d24149b150c2e67a69ff5a"
      }
     },
     "93f4822451d24149b150c2e67a69ff5a": {
      "model_module": "@jupyter-widgets/base",
      "model_module_version": "1.2.0",
      "model_name": "LayoutModel",
      "state": {}
     }
    },
    "version_major": 2,
    "version_minor": 0
   }
  }
 },
 "nbformat": 4,
 "nbformat_minor": 4
}
