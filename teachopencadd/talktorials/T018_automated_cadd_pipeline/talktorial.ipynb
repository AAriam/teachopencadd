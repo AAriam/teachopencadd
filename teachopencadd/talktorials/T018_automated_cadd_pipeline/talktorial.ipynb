{
 "cells": [
  {
   "cell_type": "markdown",
   "source": [
    "# T018 · Fully Automated Drug Design Pipeline\n",
    "\n",
    "Authors:\n",
    "\n",
    "- Armin Ariamajd, 2021, CADD seminar 2021, Charité/Freie Universität Berlin\n",
    "- Melanie Vogel, 2021, CADD seminar 2021, Charité/Freie Universität Berlin\n",
    "- Andrea Volkamer, 2021, [Volkamer lab, Charité](https://volkamerlab.org/)\n",
    "- Dominique Sydow, 2021, [Volkamer lab, Charité](https://volkamerlab.org/)\n",
    "- Corey Taylor, 2021, [Volkamer lab, Charité](https://volkamerlab.org/)"
   ],
   "metadata": {
    "id": "0AT1L4_fX-My"
   }
  },
  {
   "cell_type": "markdown",
   "source": [
    "## Aim of this talktorial\n",
    "\n",
    "In this talktorial, we will learn how to develop an **automated structure-based virtual screening pipeline**. \n",
    "The pipeline is particularly suited for the hit expansion and lead optimization phases of a drug discovery project, where a promising ligand (i.e. an initial hit or lead compound) needs to be structurally modified in order to improve its binding affinity and selectivity for the target protein. The general architecture of the pipeline can thus be summarized as follows (*Figure 1*)."
   ],
   "metadata": {
    "id": "ywtrPI2vYQ2F"
   }
  },
  {
   "cell_type": "markdown",
   "source": [
    "* **Input**\n",
    "    * Target **protein structure** and a promising **ligand** (e.g. lead or hit compound), plus specifications of the processes that need to be performed.\n",
    "* **Processes**\n",
    "    1. Detection of the most druggable binding site for the given protein structure.\n",
    "    2. Finding derivatives and structural analogs for the ligand. \n",
    "    3. Performing docking calculations on the selected binding site of those analogs.\n",
    "    4. Analyzing and vizualizing predicted protein–ligand interactions and binding modes for each analog.\n",
    "* **Output**\n",
    "    * Protein-ligand structure(s) optimized for affinity and selectivity."
   ],
   "metadata": {
    "id": "ywtrPI2vYQ2F"
   }
  },
  {
   "cell_type": "markdown",
   "source": [
    "![Pipeline overview](images/fig1.png)\n",
    "\n",
    "*Figure 1*: General architecture of the automated structure-based virtual screening pipeline."
   ],
   "metadata": {
    "id": "ywtrPI2vYQ2F"
   }
  },
  {
   "cell_type": "markdown",
   "source": [
    "### Contents in *Theory*\n",
    "\n",
    "- [Drug design pipeline](#drug_design_theory)\n",
    "- [Binding site detection](#binding_site_theory) \n",
    "- [Chemical similarity](#similarity_theory)\n",
    "- [Molecular docking](#docking_theory)\n",
    "- [Protein-ligand interactions](#interactions_theory)\n",
    "- [Visual inspection of the docking results](#visual_theory)"
   ],
   "metadata": {
    "id": "MgOe9WJjYaw6"
   }
  },
  {
   "cell_type": "markdown",
   "source": [
    "### Contents in *Practical*\n",
    "\n",
    "- [Outline of the virtual screening pipeline](#1_practical)\n",
    "- [Reading the input data and initializing output paths](#2_practical)\n",
    "- [Processing the input protein data](#3_practical)\n",
    "- [Processing the input ligand data](#4_practical)\n",
    "- [Binding site detection](#5_practical)\n",
    "- [Ligand similarity search](#6_practical)\n",
    "- [Molecular docking](#7_practical)\n",
    "- [Analysis of protein–ligand interactions](#8_practical)\n",
    "- [Selection of the best optimized ligand](#9_practical)\n",
    "- [Putting the pieces together: A fully automated pipeline](#10_practical)"
   ],
   "metadata": {
    "id": "MgOe9WJjYaw6"
   }
  },
  {
   "cell_type": "markdown",
   "source": [
    "### References\n",
    "\n",
    "Note due to the extensive references in each category, details are hidden by default.\n",
    "\n",
    "<details>\n",
    "\n",
    "<summary>Click here for a complete list of references </summary>\n",
    "\n",
    "* TeachOpenCADD teaching platform\n",
    "    1. Journal article on *TeachOpenCADD* teaching platform for computer-aided drug design: [D. Sydow *et al.*, *J. Cheminform.* **2019**, 11, 29.](https://doi.org/10.1186/s13321-019-0351-x)\n",
    "    2. [*TeachOpenCADD* website](https://projects.volkamerlab.org/teachopencadd/index.html) at [Volkamer lab](https://volkamerlab.org/)\n",
    "    3. This talktorial is inspired by the *TeachOpenCADD* Talktorials [T013 - T017](https://github.com/volkamerlab/teachopencadd/tree/t011-base/teachopencadd/talktorials)\n",
    "* Drug design pipeline\n",
    "    4. Book on drug design: [*G. Klebe*, *Drug Design*, Springer, **2013**.](https://doi.org/10.1007/978-3-642-17907-5)\n",
    "    5. Review article on early stages of drug discovery: [Hughes *et al.*, *Br. J. Pharmacol.* **2011**, 162, 1239-1249.](https://doi.org/10.1111/j.1476-5381.2010.01127.x)\n",
    "    6. Review article on computational drug design: [Sliwoski *et al.*, *Pharmacol. Rev.* **2014**, 66, 334-395.](https://doi.org/10.1124/pr.112.007336)\n",
    "    7. Review article on computational drug discovery: [Leelananda *et al.*, *Beilstein J. Org. Chem.* **2016**, 12, 2694-2718.](https://doi.org/10.3762/bjoc.12.267)\n",
    "    8. Review article on free software for building a virtual screening pipeline: [Glaab, *Brief. Bioinform.* **2016**, 17, 352-366.](https://doi.org/10.1093/bib/bbv037)\n",
    "    9. Review article on automating drug discovery: [Schneider, *Nat. Rev. Drug Discov.* **2018**, 17, 97-113.](https://doi.org/10.1038/nrd.2017.232)\n",
    "    10. Review article on structure-based drug discovery: [Batool *et al.*, *Int. J. Mol. Sci.* **2019**, 20, 2783.](https://doi.org/10.3390/ijms20112783)\n",
    "* Binding site detection and the *DoGSiteScorer* program\n",
    "    11. Book chapter on prediction and analysis of binding sites: [Volkamer *et al.*, *Applied Chemoinformatics*, Wiley, **2018**, pp. 283-311.](https://doi.org/10.1002/9783527806539.ch6g)\n",
    "    12. Journal article on binding-site and druggability predictions using *DoGSiteScorer*: [Volkamer *et al.*, *J. Chem. Inf. Model.* **2012**, *52*, 360-372.](https://doi.org/10.1021/ci200454v)\n",
    "    13. Journal article describing the *ProteinsPlus* web-portal: [R. Fahrrolfes *et al.*, *Nucleic Acids Res.* **2017**, 45, W337-W343.](https://doi.org/10.1093/nar/gkx333)\n",
    "    14. [*ProteinsPlus* website](https://proteins.plus/), and information regarding the usage of its *DoGSiteScorer* [REST-API](https://proteins.plus/help/dogsite_rest)\n",
    "    15. *TeachOpenCADD* Talktorial on binding-site detection: [Talktorial T014](https://github.com/volkamerlab/teachopencadd/tree/t011-base/teachopencadd/talktorials/T014_binding_site_detection)\n",
    "    16. *TeachOpenCADD* talktorial on querying online API web-services: [Talktorial T011](https://github.com/volkamerlab/teachopencadd/tree/t011-base/teachopencadd/talktorials/T011_query_online_api_webservices)\n",
    "* Chemical similarity and the *PubChem* online database\n",
    "    17. Review article on molecular similarity in medicinal chemistry: [G. Maggiora *et al.*, *J. Med. Chem.* **2014**, 57, 3186-3204.](https://doi.org/10.1021/jm401411z)\n",
    "    18. Journal article on extended-connectivity fingerprints: [D. Rogers *et al.*, *J. Chem. Inf. Model.* **2010**, 50, 742-754.](https://doi.org/10.1021/ci100050t)\n",
    "    19. Journal article describing the latest developments of the *PubChem* web-services: [S. Kim *et al.*, *Nucleic Acids Res.* **2019**, 47, D1102-D1109.](https://doi.org/10.1093/nar/gky1033)\n",
    "    20. [*PubChem* website](https://pubchem.ncbi.nlm.nih.gov/), and information regarding the usage of its [APIs](https://pubchemdocs.ncbi.nlm.nih.gov/programmatic-access)\n",
    "    21. Description of *PubChem*'s [custom substructure fingerprint](https://ftp.ncbi.nlm.nih.gov/pubchem/specifications/pubchem_fingerprints.pdf) and [*Tanimoto* similarity measure](https://jcheminf.biomedcentral.com/articles/10.1186/s13321-016-0163-1) used in its similarity search engine.  \n",
    "    22. *TeachOpenCADD* talktorial on compound similarity: [Talktorial T004](https://github.com/volkamerlab/teachopencadd/blob/master/teachopencadd/talktorials/T004_compound_similarity/talktorial.ipynb)\n",
    "    23. *TeachOpenCADD* talktorial on data acquisition from PubChem: [Talktorial T013](https://github.com/volkamerlab/teachopencadd/blob/t011-base/teachopencadd/talktorials/T013_query_pubchem/talktorial.ipynb) \n",
    "* Molecular docking and the *Smina* program\n",
    "    24. Review article on molecular docking algorithms: [X. Y. Meng *et al.*, *Curr. Comput. Aided Drug Des.* **2011**, 7, 146-157.](https://doi.org/10.2174/157340911795677602)\n",
    "    25. Review article on different software used for molecular docking: [N. S. Pagadala *et al.*, *Biophys. Rev.* **2017**, 9, 91-102.](https://doi.org/10.1007/s12551-016-0247-1)\n",
    "    26. Review article on evaluation and comparison of different docking algorithms: [G. L. Warren *et al*, *J. Med. Chem.* **2006**, 49, 5912-5931.](https://doi.org/10.1021/jm050362n)\n",
    "    27. Review article on evaluation of ten docking programs on a diverse set of protein-ligand complexes: [Z. Wang *et al.*, *Phys. Chem. Chem. Phys.* **2016**, 18, 12964-12975.](https://doi.org/10.1039/C6CP01555G)\n",
    "    28. Journal article describing the Smina docking program and its scoring function: [D. R. Koes *et al.*, *J. Chem. Inf. Model.* **2013**, 53, 1893-1904.](https://doi.org/10.1021/ci300604z) \n",
    "    29. [*OpenBabel* documentation](http://openbabel.org/wiki/Main_Page)\n",
    "    30. [*Smina* documentation](https://sourceforge.net/projects/smina/)\n",
    "    31. *TeachOpenCADD* talktorial on protein–ligand docking: [Talktorial T015](https://github.com/volkamerlab/teachopencadd/blob/t011-base/teachopencadd/talktorials/T015_protein_ligand_docking/talktorial.ipynb)\n",
    "    32. Quantifying the chemical beauty of drugs: [G. Bickerton *et al.*, *Nat. Chem* **2012**, 4(2), 90-98.](https://www.ncbi.nlm.nih.gov/pmc/articles/PMC3524573/)\n",
    "* Protein-ligand interactions and the *PLIP* program\n",
    "    33. Review article on protein-ligand interactions: [X. Du *et al.*, *Int. J. Mol. Sci.* **2016**, 17, 144.](https://doi.org/10.3390/ijms17020144)\n",
    "    34. Journal article analyzing the types and frequencies of different protein-ligand interactions in available protein-ligand complex structures: [R. Ferreira de Freitas *et al.*, *Med. Chem. Commun.* **2017**, 8, 1970-1981.](https://doi.org/10.1039/C7MD00381A)\n",
    "    35. Journal article describing the *PLIP* algorithm: [S. Salentin *et al.*, *Nucleic Acids Res.* **2015**, 43, W443-447.](https://doi.org/10.1093/nar/gkv315)\n",
    "    36. [*PLIP* website](https://plip-tool.biotec.tu-dresden.de/plip-web/plip/index)\n",
    "    37. [*PLIP* documentation](https://github.com/pharmai/plip)\n",
    "    38. *TeachOpenCADD* talktorial on protein-ligand interactions: [Talktorial T016](https://github.com/volkamerlab/teachopencadd/blob/t011-base/teachopencadd/talktorials/T016_protein_ligand_interactions/talktorial.ipynb)\n",
    "* Visual inspection of docking results and the *NGLView* program\n",
    "    39. Journal article describing the NGLView program: [H. Nguyen *et al.*, *Bioinformatics* **2018**, 34, 1241-1242.](https://doi.org/10.1093/bioinformatics/btx789)\n",
    "    40. [*NGLView* documentation](http://nglviewer.org/nglview/latest/api.html)\n",
    "    41. *TeachOpenCADD* talktorial on advanced NGLView usage: [Talktorial T017](https://github.com/volkamerlab/teachopencadd/blob/t011-base/teachopencadd/talktorials/T017_advanced_nglview_usage/talktorial.ipynb)\n",
    "</details>"
   ],
   "metadata": {}
  },
  {
   "cell_type": "markdown",
   "source": [
    "<a id='theory'></a>\n",
    "# Theory"
   ],
   "metadata": {
    "id": "NsYZPbWzaJKc"
   }
  },
  {
   "cell_type": "markdown",
   "source": [
    "<a id='drug_design_theory'></a>\n",
    "\n",
    "## Drug design pipeline\n",
    "\n",
    "Modern drug discovery and development is a time and resource-intensive process comprised of several phases (Figure 2). The process from initial hit to the pre-clinical phase can take approximately two to four years and cost hundreds of millions of dollars. Causes for failure in the pre-clinical and clinical phases include compound ineffectiveness or unpredictable side-effects. \n",
    "Thus, computer-aided drug design pipelines can help to accelerate drug discovery projects, e.g. by prioritizing compounds.\n",
    "\n",
    "![Drug design pipeline](images/fig2.png)\n",
    "\n",
    "*Figure 2*: Schematic representation of the main phases in a modern drug discovery pipeline (adapted from [Challenges and Opportunities for New Protein Crystallization Strategies in Structure-Based Drug Design](https://doi.org/10.1517/17460441.2010.515583), 2010)"
   ],
   "metadata": {}
  },
  {
   "cell_type": "markdown",
   "source": [
    "<details>\n",
    "<summary>Click here for additional details about the drug discovery process</summary>\n",
    "Given a target protein structure and a hit or lead compound, instead of synthesizing a variety of analogs and testing their potency in laboratory screening experiments, we will obtain these analogs via a similarity-search algorithm. We can then calculate their physiochemical properties and select the best analogs in order to perform docking calculations. The result of these calculations is an estimation of the affinity for each compound against the target protein. Analogs with the highest calculated binding affinities will be selected and we visualize their predicted binding modes to choose those compounds that exhibit optimal protein-ligand interactions. This will hopefully result in enhanced selectivities for the target protein as well.\n",
    "</details>\n",
    "\n",
    "In this talktorial, we will focus on the **hit-to-lead** and **lead optimization** phases of the pipeline: The goal is to find analogs with improved binding affinities, selectivities, physiochemical and/or pharmacokinetic properties. "
   ],
   "metadata": {}
  },
  {
   "cell_type": "markdown",
   "source": [
    "<a id='binding_site_theory'></a>\n",
    "## Binding site detection \n",
    "\n",
    "Binding sites, also known as binding pockets, are cavities in the 3-dimensional structure of a protein (Figure 3). These are mostly found on the molecular surface of the protein structure, and are the main regions through which the protein interacts with other entities. For a favorable interaction, the two binding partners need to have complementary steric and electronic properties (cf. lock-and-key principle, induced-fit model). Therefore, attractive intermolecular interactions between the residues of the binding pocket and, for example, a small molecule ligand is one of the key factors for molecular recognition, and thus, a ligand's potency.   "
   ],
   "metadata": {
    "id": "S3UoQg9yaO22"
   }
  },
  {
   "cell_type": "markdown",
   "source": [
    "<details>\n",
    "\n",
    "<summary>Click here for additional information regarding binding site detection </summary>\n",
    "Detailed knowledge of the target protein's binding sites is of utmost importance in a drug discovery pipeline.  Ligands predicted to interact most favorably with a specific binding site of the protein can be designed that lead to a desired modulation of the protein's behavior, whether the goal is inhibition or stimulation of the protein's function. Thus, the binding site of interest needs to be known - especially also to perform docking studies. This is not a problem when a crystal structure of the target protein is available, where a ligand has usually been co-crystallized with the protein in the desired binding site. In that case, the residues surrounding the co-crystallized ligand can be simply used to define the binding pocket. However, when the available protein structure does not contain a co-crystallized ligand in the desired binding pocket, it is essential for the docking calculations to first detect and define a druggable pocket in the protein. \n",
    "    \n",
    "![Binding site detection](images/fig3.png)\n",
    "\n",
    "*Figure 3*: Crystal structure of a protein (EGFR; PDB-code: 3W32) with a co-crystallized ligand in its main (orthosteric) binding site. The protein's surface is shown in gray. The binding site is colored blue. The ligand's carbon atoms are colored green. The image was created using **PyMol**.\n",
    "    \n",
    "</details>"
   ],
   "metadata": {
    "id": "S3UoQg9yaO22"
   }
  },
  {
   "cell_type": "markdown",
   "source": [
    "### Binding site detection with *DoGSiteScorer*\n",
    "\n",
    "For binding site detection, we will use the _DoGSiteScorer_ functionality of the **<a href=\"https://proteins.plus/\">ProteinsPlus</a>** webserver. _DoGSiteScorer_ uses a **geometry- and grid-based detection** algorithm where the protein is embedded into a Cartesian 3D-grid and each grid point is labeled as either free or occupied depending on whether it lies within the van-der-Waals radius of any protein atoms. Subsequently, an edge-detection algorithm from image processing, called **Difference of Gaussians** (DoG), is used to identify protrusions on the protein surface. In doing so, cavities on the protein surface that can accommodate a spherical object are identified per grid point. Finally, cavities on neighboring grid-points are clustered together based on specific cut-off criteria, resulting in defined sub-pockets that are merged into pockets (Figure 4). "
   ],
   "metadata": {}
  },
  {
   "cell_type": "markdown",
   "source": [
    "<details>\n",
    "<summary>Click here for additional information on how the DoGSiteScorer algorithm works</summary>\n",
    "For each (sub-)pocket, the algorithm then calculates several descriptors, e.g. volume, surface area, depth, hydrophobicity, number of hydrogen-bond donors/acceptors and amino acid count. _DoGSiteScorer_ also calculates two druggability estimates for each (sub-)pocket: \n",
    "\n",
    "1. a _simple druggability score_, based on a linear combination of the three descriptors describing volume, hydrophobicity and enclosure.\n",
    "2. another score is calculated by incorporating a subset of meaningful descriptors into a support vector machine (SVM) model, trained and tested on the freely available (non-redundant) druggability dataset consisting of 1069 targets.\n",
    "    \n",
    "Both calculated druggability scores are between 0 and 1, where a higher score corresponds to a more druggable binding site. Using these calculated descriptors and druggability estimates, we can then choose the most suitable pocket depending on the specifics of the project in hand.\n",
    "\n",
    "</details>"
   ],
   "metadata": {}
  },
  {
   "cell_type": "markdown",
   "source": [
    "![Binding site detection with DoGSiteScorer](images/fig4.png)\n",
    "\n",
    "*Figure 4*: Visualization of some of the sub-pockets (colored meshed volumes) for the EGFR protein (PDB-code: 3W32) as detected by the *DoGSiteScorer* web-service. The co-crystallized ligand is mostly contained in the purple sub-pocket (image from the [DoGSiteScorer website](http://proteinsplus.zbh.uni-hamburg.de/#dogsite)).\n",
    "\n",
    "For more details see [talktorial T014](https://github.com/volkamerlab/teachopencadd/tree/t011-base/teachopencadd/talktorials/T014_binding_site_detection) on binding-site detection."
   ],
   "metadata": {}
  },
  {
   "cell_type": "markdown",
   "source": [
    "<a id='similarity_theory'></a>\n",
    "## Chemical similarity\n",
    "\n",
    "In the hit expansion and lead optimization steps of an experimental drug design pipeline, several derivatives of the initial hit/lead compound are chemically synthesized. \n",
    "Following the similarity hypothesis, analogues can also be computationally obtained by performing a **similarity search** on databases of existing chemical compounds. \n",
    "\n",
    "Thus, a numerical description of compounds is needed as well as a similarity measure to compare them. One common example are molecular fingerprint descriptors together with Tanimoto similarities. "
   ],
   "metadata": {
    "id": "-sSc9YhNbydI"
   }
  },
  {
   "cell_type": "markdown",
   "source": [
    "![Chemical similarity](images/fig5.png)\n",
    "\n",
    "*Figure 5*: A simplified depiction of the process of calculating the similarity between two compounds. First, the structure of each compound is encoded into a molecular fingerprint bit-vector, where each bit corresponds to the presence or absence of a particular fragment in the structure, for example. These fingerprints can then be compared using different similarity metrics in order to calculate a similarity score.\n",
    "\n",
    "<details>\n",
    "<summary>Click here for additional information on chemical descriptors</summary>\n",
    "    \n",
    "The simplest descriptors for a molecule are the so-called **1D-descriptors**, which are scalar values corresponding to a certain property of the molecule.\n",
    "Some examples include: Molecular weight, octanol-water partition coefficient (logP) or total polar surface area (TPSA).\n",
    "\n",
    "However, these descriptors usually do not contain enough information to assess the structural and chemical similarity of two compounds. For this purpose, **2D-descriptors**, also known as **molecular fingerprints**, are used. These descriptors are vectors that can represent a specific molecular structure in much more detail using a set of scalars. \n",
    "\n",
    "A variety of algorithms are available for generation of 2D-descriptors from chemical structures, e.g. ***MACCS*** **structural keys** and ***ECFP/Morgan*** **fingerprints**. Generally, these algorithms work by extracting a set of specific features from the structure (Figure 5), generating a numerical representation for each feature, and using these representations to produce either a bit-vector where each component is a bit defining the presence/absence of a particular feature (i.e. Morgan fingerprints), or a count-vector where each value corresponds to the number of times a specific feature is present in the structure (i.e. MACCS keys). \n",
    "    \n",
    "Moreover, there are other scoring functions to calculate the similarity between two molecules based on their 2D-descriptors. These include ***Euclidean***-**distance** and ***Manhattan***-**distance** calculations, where both presence and absence of attributes are considered, or ***Tanimoto*** and ***Dice*** coefficients, which only consider the presence of attributes. It should be noted that there is no single correct approach to calculate molecular similarity. and depending on the purpose of the project different descriptors and metrics may be used, which can generally result in vastly different similarity scores.    \n",
    "</details>\n",
    "\n",
    "See [talktorial T004](https://github.com/volkamerlab/teachopencadd/blob/master/teachopencadd/talktorials/T004_compound_similarity/talktorial.ipynb) to become more familiar with encoding and comparison of molecular similarity measures."
   ],
   "metadata": {
    "id": "-sSc9YhNbydI"
   }
  },
  {
   "cell_type": "markdown",
   "source": [
    "### PubChem database\n",
    "In this talktorial, we will use the **<a href=\"https://pubchem.ncbi.nlm.nih.gov/\">PubChem</a>** web-services for performing the similarity search on the input ligand. *PubChem*, which is maintained by the <a href=\"https://www.ncbi.nlm.nih.gov/\">U.S. National Center for Biotechnology Information (NCBI)</a> contains an open database with 110 million chemical compounds and their properties (e.g. identifiers, physiochemical properties, biological activities etc.), which can be accessed through both a web-based interface, and several different web-service Application Programming Interfaces (***API***s). "
   ],
   "metadata": {
    "id": "-sSc9YhNbydI"
   }
  },
  {
   "cell_type": "markdown",
   "source": [
    "Here, we will use their <a href=\"https://pubchemdocs.ncbi.nlm.nih.gov/programmatic-access\">PUG-REST API</a>. It also allows for directly performing similarity searches on the database, using a <a href=\"https://ftp.ncbi.nlm.nih.gov/pubchem/specifications/pubchem_fingerprints.pdf\">custom substructure fingerprint</a> as the 2D-descriptor, and the <a href=\"https://jcheminf.biomedcentral.com/articles/10.1186/s13321-016-0163-1\">*Tanimoto* similarity measure</a> as the metric. Therefore, by submitting a compound's identifier (e.g. SMILES, CID, InChI etc.) to the *PubChem*'s API, providing a similarity threshold and the desired number of maximum results, a certain number of compounds within the given similarity threshold can be obtained.\n",
    "\n",
    "For more details on data acquisition from PubChem, see [talktorial T013](https://github.com/volkamerlab/teachopencadd/blob/t011-base/teachopencadd/talktorials/T013_query_pubchem/talktorial.ipynb)."
   ],
   "metadata": {
    "id": "-sSc9YhNbydI"
   }
  },
  {
   "cell_type": "markdown",
   "source": [
    "<a id='docking_theory'></a>\n",
    "## Molecular docking\n",
    "\n",
    "After defining an appropriate binding site in the target protein and obtaining a set of analogs for the ligand of interest, the next step is to assess the suitability of each analog in terms of its position in the binding site, otherwise known as the binding mode, and its estimated fit or binding affinity. This can be done using a molecular docking algorithm. "
   ],
   "metadata": {
    "id": "K5OXBSFIijNr"
   }
  },
  {
   "cell_type": "markdown",
   "source": [
    "The process works by **sampling the ligand's conformational space** in the protein's binding site and evaluating the energetics of protein-ligand interactions for each generated conformation using a **scoring function**. The **binding affinity** of each docking pose is then estimated to determine the energetically most-favorable **binding modes**. "
   ],
   "metadata": {
    "id": "K5OXBSFIijNr"
   }
  },
  {
   "cell_type": "markdown",
   "source": [
    "<details>\n",
    "<summary>Click here for additional information on the docking process </summary> \n",
    "Most docking programs require some preparation steps of the protein and ligand structures. For example: \n",
    "\n",
    "- Hydrogen atoms that are usually absent in crystal structures should be added to the protein. \n",
    "- The correct protonation state for each atom should be calculated based on a given pH value, usually physiological pH (7.4). \n",
    "- Partial charges should be assigned to all atoms. \n",
    "- For ligands, which are usually inputted via text-based representation (e.g. SMILES), a low-energy conformer should also be generated. It is then used as the starting point in the conformational sampling process. \n",
    "\n",
    "However, most of these calculations have limitations on their accuracy. Many are either computationally expensive, such as is the case where the lowest-energy conformation of the ligand is calculated, or require information that is not available beforehand or ambiguous, such as protonation states for the protein and ligand. In many cases, the docking pose with the highest estimated binding affinity does not correspond to the experimentally determined binding mode of the ligand (Figure 6). These limitations, along with others inherent in all force-field based methods do affect the accuracy of the estimates from docking results. \n",
    "</details>"
   ],
   "metadata": {
    "id": "K5OXBSFIijNr"
   }
  },
  {
   "cell_type": "markdown",
   "source": [
    "![Example docking poses](images/fig6.png)\n",
    "\n",
    "*Figure 6*: An example of two generated docking poses (red) in a re-docking experiment performed using the *Smina* program, superimposed over the corresponding protein structure (EGFR; PDB-code: 3W32) and the co-crystallized ligand in its native binding mode (green). While the generated docking pose shown on the left is calculated to have a higher binding affinity, it also displays a higher distance-RMSD to the native docking pose. The image was created using *PyMol*.\n",
    "\n",
    "For more details on protein–ligand docking, see [talktorial T015](https://github.com/volkamerlab/teachopencadd/blob/t011-base/teachopencadd/talktorials/T015_protein_ligand_docking/talktorial.ipynb)."
   ],
   "metadata": {
    "id": "K5OXBSFIijNr"
   }
  },
  {
   "cell_type": "markdown",
   "source": [
    "In this talktorial, we will use the **<a href=\"https://sourceforge.net/projects/smina/\">Smina</a>** docking program, which is an open-source fork of the docking program **<a href=\"http://vina.scripps.edu/\">Autodock Vina</a>**. *Smina* is open-source software and has a focus on improved scoring functions and energetic minimization. It uses a custom empirical scoring function as default but also supports user-parameterized scoring functions as well. In addition, in order to prepare the protein and ligand structures for the docking experiment (as described above), we will also use the **<a href=\"https://github.com/pybel/pybel\">Pybel</a>** package - a *Python* package for the **<a href=\"http://openbabel.org/wiki/Main_Page\">OpenBabel</a>** program."
   ],
   "metadata": {
    "id": "K5OXBSFIijNr"
   }
  },
  {
   "cell_type": "markdown",
   "source": [
    "<a id='interactions_theory'></a>\n",
    "## Protein–ligand interactions\n",
    "\n",
    "The number and type of non-covalent intermolecular interactions between the protein and the ligand are determining factors of the ligand's potency. The overall affinity of a ligand is an intricate balance of several types of interactions which are mostly governed by steric and electronic properties of the interacting partners."
   ],
   "metadata": {
    "id": "HemOC7hZinzP"
   }
  },
  {
   "cell_type": "markdown",
   "source": [
    "<details>\n",
    "<summary>Click here for additional information on common protein-ligand interactions </summary> \n",
    "    \n",
    "Interactions (see also Figure 7)\n",
    "- Hydrophobic interactions\n",
    "- Hydrogen bonding (direct or water-bridged)\n",
    "- Metal complexation\n",
    "- Electrostatic interactions\n",
    "- $\\pi$–$\\pi$- and cation–$\\pi$ interactions\n",
    "- Halogen bonds\n",
    "\n",
    "![Intramolecular interactions](images/fig7.gif)\n",
    "\n",
    "*Figure 7*: Most common non-covalent intramolecular interactions in available protein-ligand complexes in the *Protein Data Bank* (PDB), and their frequency distribution. Reprinted from reference [<a href=\"https://doi.org/10.1039/C7MD00381A\">30</a>].\n",
    "    \n",
    "</details>"
   ],
   "metadata": {
    "id": "HemOC7hZinzP"
   }
  },
  {
   "cell_type": "markdown",
   "source": [
    "While the most common of these interactions are estimated by the scoring function of the docking algorithm, it is useful to explicitly analyze them in the binding modes generated by the docking calculation. This information can be used to validate the calculated binding poses or to narrow the choice of an optimal lead compound in terms of selectivity, e.g. by choosing those derivatives that exhibit interactions with specific mutated or non-conserved residues in the protein. "
   ],
   "metadata": {
    "id": "HemOC7hZinzP"
   }
  },
  {
   "cell_type": "markdown",
   "source": [
    "In this talktorial, we will use the **<a href=\"https://plip-tool.biotec.tu-dresden.de/plip-web/plip/index\">Protein–Ligand Interaction Profiler (PLIP)</a>**, an open-source program with both a webserver and an available package for *Python*. *PLIP* can analyze protein-ligand interactions in any given protein-ligand complex structure by selecting pairs of atoms - one from the protein and one from the ligand - that lie within a pre-defined distance cut-off value. It then identifies the potential interactions between selected pairs based on electronic and geometric considerations. \n",
    "\n",
    "Thus, a set of information is outputted for each detected interactions including the interaction type, the atoms involved in each of the ligand and protein and other properties specific to each interaction type. The results can then be used to visualize the protein-ligand interactions (Figure 8) or to analyze them algorithmically."
   ],
   "metadata": {
    "id": "HemOC7hZinzP"
   }
  },
  {
   "cell_type": "markdown",
   "source": [
    "![Protein-ligand interactions in 3D](images/fig8.png)  \n",
    " \n",
    "*Figure 8*: Visualization of the protein-ligand interactions in a protein-ligand complex structure (EGFR; PDB-code: 3W32) detected by the *PLIP* web-service. From the protein, only the interacting residues are shown with their protein and ligand carbon atoms colored blue and brown, respectively. Hydrophobic interactions are shown as gray dashed lines. Hydrogen bonds are depicted as blue lines. $\\pi$-stacking interactions are shown as green dashed lines. Halogen bonds are displayed using cyan lines (image from the [PLIP website](https://plip-tool.biotec.tu-dresden.de/plip-web/plip/index).\n",
    "\n",
    "For more details on protein-ligand interactions, see [talktorial T016](https://github.com/volkamerlab/teachopencadd/blob/t011-base/teachopencadd/talktorials/T016_protein_ligand_interactions/talktorial.ipynb)."
   ],
   "metadata": {
    "id": "HemOC7hZinzP"
   }
  },
  {
   "cell_type": "markdown",
   "source": [
    "<a id='visual_theory'></a>\n",
    "## Visual inspection of the docking results\n",
    "\n",
    "Visual inspection of the calculated docking poses and their corresponding protein-ligand interactions is inevitable. Some of the most common considerations when selecting a binding mode ares:\n",
    "\n",
    "- Similarity to experimentally observed binding modes in available crystal structures of the target protein\n",
    "- Steric and electronic complementarity\n",
    "- Polar functional groups in the ligand have an interaction partner in the protein\n",
    "- No solvent-exposed hydrophobic moieties in the ligand\n",
    "- Assessment of the displacement of or interactions with water molecules in the pocket\n",
    "- Steric strain induced by the ligand binding"
   ],
   "metadata": {
    "id": "saNArWyiQMY1"
   }
  },
  {
   "cell_type": "markdown",
   "source": [
    "However, since manual inspection is a time-consuming process, it can only be performed on a small subset of calculated docking poses. These are usually the poses with the highest calculated binding affinities. To visualize the results, we use ***NGLView***, a *Jupyter* widget using a *Python* wrapper for the *Javascript*-based *NGL* library. This allows for visualization of structures within a *Jupyter* notebook in an interactive 3D view.\n",
    "\n",
    "For more details on advanced NGLView usage, see [talktorial T017](https://github.com/volkamerlab/teachopencadd/blob/t011-base/teachopencadd/talktorials/T017_advanced_nglview_usage/talktorial.ipynb)."
   ],
   "metadata": {
    "id": "saNArWyiQMY1"
   }
  },
  {
   "cell_type": "markdown",
   "source": [
    "<a id='practical'></a>\n",
    "# Practical"
   ],
   "metadata": {}
  },
  {
   "cell_type": "markdown",
   "source": [
    "In this section, we will implement and demonstrate the automated structure-based virtual screening pipeline step by step.\n",
    "\n",
    "First of all, we import all the dependencies that we are going to need for the development of the pipeline:"
   ],
   "metadata": {}
  },
  {
   "cell_type": "code",
   "execution_count": 1,
   "source": [
    "# Standard library:\n",
    "import gzip  # for decompressing .gz files downloaded from DoGSiteScorer\n",
    "from enum import Enum  # for creating enumeration classes\n",
    "import io  # for creating file-like objects from strings of data (needed as input for some functions)\n",
    "import logging  # for setting the logging level of some packages (i.e. to disable excessive logging default to some packages e.g. PLIP)\n",
    "from pathlib import Path  # for creating folders and handling local paths\n",
    "import subprocess  # for creating shell processes (needed to communicate with Smina program)\n",
    "import time  # for creating pauses during the runtime (to wait for the response of API requests)\n",
    "from urllib.parse import quote  # for url quoting\n",
    "\n",
    "# 3rd-party packages:\n",
    "from biopandas.pdb import PandasPdb  # for working with PDB files\n",
    "from IPython.display import (\n",
    "    Markdown,\n",
    "    Image,\n",
    ")  # for more display options in the Jupyter Notebook\n",
    "from ipywidgets import (\n",
    "    AppLayout,\n",
    "    Layout,\n",
    "    Select,\n",
    "    Button,\n",
    ")  # for interactive outputs in the Jupyter Notebook\n",
    "import matplotlib as mpl  # for changing the display settings of plots (see bottom of the cell: Settings)\n",
    "from matplotlib import (\n",
    "    colors,\n",
    ")  # for plotting color-maps (for visualization of protein-ligand interactions)\n",
    "import matplotlib.pyplot as plt  # for plotting of data\n",
    "import nglview as nv  # for visualization of the protein and protein-related data (e.g. binding sites, docking poses)\n",
    "import numpy as np  # for some more functionalities when using Pandas (e.g. for handling NaN values)\n",
    "from openbabel import (\n",
    "    pybel,\n",
    ")  # for preparing protein and ligand for docking, and other manipulations of PDB files\n",
    "import pandas as pd  # for creating dataframes and handling data\n",
    "import plip  # for calculating protein-ligand interaction profiles, \n",
    "# Note: for changing the logging setting of the package (see bottom of the cell: Settings)\n",
    "from plip.structure.preparation import (\n",
    "    PDBComplex,\n",
    ")  # for calculating protein-ligand interactions\n",
    "from plip.exchange.report import (\n",
    "    BindingSiteReport,\n",
    ") \n",
    "import pypdb  # for communicating with the RCSB Protein Data Bank (PDB) to fetch PDB files\n",
    "from rdkit import (\n",
    "    Chem,\n",
    ")  # for handling ligand data and calculating ligand-related properties\n",
    "from rdkit.Chem import Draw, AllChem, Descriptors, PandasTools, rdFMCS\n",
    "import requests  # for communicating with web-service APIs\n",
    "\n",
    "# In-house packages:\n",
    "from opencadd.structure.core import Structure  # for manipulating PDB files\n",
    "\n",
    "# Settings:\n",
    "logging.getLogger(plip.__name__).setLevel(\n",
    "    logging.WARNING\n",
    ")  # disabling excessive INFO logs of the PLIP package\n",
    "mpl.rcParams[\"figure.dpi\"] = 300  # for plots with higher resolution\n",
    "mpl.rcParams[\"agg.path.chunksize\"] = 10000  # for handling plots with large number of data points\n",
    "pd.set_option(\"display.max_columns\", 100)  # showing 100 columns at most\n",
    "pd.set_option(\"display.max_colwidth\", 200)  # increasing the maximum column width\n",
    "pd.set_option(\"display.width\", None)  # showing each row in a single line"
   ],
   "outputs": [
    {
     "output_type": "display_data",
     "data": {
      "text/plain": [],
      "application/vnd.jupyter.widget-view+json": {
       "version_major": 2,
       "version_minor": 0,
       "model_id": "b8978e825d5341bb8f5aa6fa9f8f69cd"
      }
     },
     "metadata": {}
    }
   ],
   "metadata": {}
  },
  {
   "cell_type": "code",
   "execution_count": 2,
   "source": [
    "# Set absolute path for loading and saving data\n",
    "HERE = Path(_dh[-1])\n",
    "DATA = HERE / \"data\""
   ],
   "outputs": [],
   "metadata": {}
  },
  {
   "cell_type": "markdown",
   "source": [
    "<a id='1_practical'></a>\n",
    "## Outline of the virtual screening pipeline\n",
    "\n",
    "As this is a relatively large project with several different functionalities, it is a good practice to use **classes**. Classes can contain **methods** or even other classes (sub-classes) and are very useful for organizing a project by form and function. In doing so, the code will be well-structured and easier to follow, maintain, reuse and expand upon. "
   ],
   "metadata": {}
  },
  {
   "cell_type": "markdown",
   "source": [
    "<details>\n",
    "\n",
    "<summary>Click here for additional information on the use of classes, methods, attributes and objects in Object-Oriented Programming</summary> \n",
    "\n",
    "We are going to use classes and organize them into a processing sequence analogous to a pipeline. When a class or method performs an operation on a piece of data, a new representation of that data is created. This is known as an **object** and the process of creating it is known as **instantiation**.  \n",
    "\n",
    "An object is a versatile representation as it can contain data or instructions, known as as **attributes**. The object will be passed between points in the pipeline for further use or processing depending on what type of object it is or which class or method created it. Objects can be augmented with additional attributes or abilities and are even used to create new objects, gaining all of or a sub-set of its abilities (**inheritance**). This is as opposed to older languages where once data was read in by a program, it could not be altered and instructions for manipulating data were generally run in strict sequence. Objects can also be reused whereas, in older languages, once the data is processed, if it was not saved to disk, it was discarded. This is the essence of all **Object-Oriented Programming (OOP)** languages, which Python is.\n",
    "    \n",
    "</details>"
   ],
   "metadata": {}
  },
  {
   "cell_type": "markdown",
   "source": [
    "The **eight main classes** we will use for the virtual screening pipeline are described in Figure 9.\n",
    "\n",
    "![Main classes](images/fig9.png)\n",
    "\n",
    "*Figure 9*: Main classes used in the pipeline of this talktorial."
   ],
   "metadata": {}
  },
  {
   "cell_type": "markdown",
   "source": [
    "Although it is not necessary that the main classes be created in a specific order, you will see as we go that we can often reuse the functionality from one created class in another. Thus, a natural order forms (***Specs*** followed by ***Protein*** followed by ***Ligand***, etc.). As we progress, several 'helper' classes (e.g. ***IO***, ***PDB***, ***PubChem***, etc.) will also be instantiated. These contain functionality to assist in the operations of our main classes, such as retrieving data or implmenting the software needed to perform a task. The purpose of these classes as well as which code is reused and when will be explained as the talktorial progresses."
   ],
   "metadata": {}
  },
  {
   "cell_type": "markdown",
   "source": [
    "As the code behind each class contains dozens of lines, we will not present all of it in this notebook directly. These classes are stored in a separate file (```utils.py```) and will be imported and used as necessary. Feel free to peruse that file if you would like to know more about the exact operations that are being done when the code is executed. It bears pointing out that one is not limited to the methods implemented for this talktorial. One of the key advantages of writing a pipeline in this manner is that one can add more functionality yourself."
   ],
   "metadata": {}
  },
  {
   "cell_type": "markdown",
   "source": [
    "Example demonstrations of each helper function are placed in the <a href=\"#io_demo\">corresponding section</a> in *Supplementary Information*."
   ],
   "metadata": {}
  },
  {
   "cell_type": "markdown",
   "source": [
    "* As a first step, we will define a container class ***LeadOptimizationPipeline*** with only a single instance attribute called ***name***. \n",
    "* For the rest of the talktorial, we will use the other classes mentioned, instantiate them with the necessary input data, and assign that instance to our created project. "
   ],
   "metadata": {}
  },
  {
   "cell_type": "markdown",
   "source": [
    "### Creating a new project: Instantiating the ***LeadOptimizationPipeline*** class \n",
    "\n",
    "We can now create an instance of the ***LeadOptimizationPipeline*** class, which we will call ***project1***. For demonstration purposes, we have chosen the same protein and ligand illustrated in *Figure 1*, i.e. the epidermal growth factor receptor ([EGFR](https://www.uniprot.org/uniprot/P00533)) as our target protein, and the ligand with the ChEMBL-ID [CHEMBL328216](https://www.ebi.ac.uk/chembl/compound_report_card/CHEMBL328216/). Thus, we will simply name our lead optimization project **Project1_EGFR_CHEMBL328216**:"
   ],
   "metadata": {}
  },
  {
   "cell_type": "code",
   "execution_count": 3,
   "source": [
    "class LeadOptimizationPipeline:\n",
    "    def __init__(self, project_name):\n",
    "        self.name = project_name\n",
    "\n",
    "project1 = LeadOptimizationPipeline(project_name=\"Project1_EGFR_CHEMBL328216\")"
   ],
   "outputs": [],
   "metadata": {}
  },
  {
   "cell_type": "markdown",
   "source": [
    "The instance-attribute ***name*** can then be accessed as follows:"
   ],
   "metadata": {}
  },
  {
   "cell_type": "code",
   "execution_count": 4,
   "source": [
    "project1.name\n",
    "\n",
    "# NBVAL_CHECK_OUTPUT"
   ],
   "outputs": [
    {
     "output_type": "execute_result",
     "data": {
      "text/plain": [
       "'Project1_EGFR_CHEMBL328216'"
      ]
     },
     "metadata": {},
     "execution_count": 4
    }
   ],
   "metadata": {}
  },
  {
   "cell_type": "markdown",
   "source": [
    "<a id='2_practical'></a>\n",
    "\n",
    "## Reading the Input Data and Initializing Output Paths\n",
    "\n",
    "The first thing the pipeline should be able to do is to read and process the input data for the protein and the ligand as well as specifications for the processes that need to be performed on them. As this involves many parameters, it is best to use a file to store all the necessary input data for a specific project. For each project, the user only has to fill in a template input file with all the necessary data and then specify the filepath of the input data when running the program. \n",
    "\n",
    "Here, we use a template CSV file, which is stored in the folder ***data***, under the name ***InputData_Template***. For demonstration purposes, we can open the empty template file here to have a closer look.\n",
    "\n",
    "The table contains four columns:\n",
    "* ***Subject***: Specifies the subject of the input parameter. We need to input a ***Protein***, a ***Ligand*** and a set of specifications corresponding to each part of the pipeline, namely ***Binding Site***, ***Ligand Similarity Search***, ***Docking***, ***Interaction Analysis*** and ***Optimized Ligand***. \n",
    "\n",
    "* ***Property***: Specifies a specific property of the ***Subject***. Required properties are marked with an asterisk. All other properties are optional (i.e. have default values set in the program), and some are dependent on other properties. For example, If the ***Binding Site Definition Method*** is not ***'coordinates'***, then there is no need to enter the value for the ***Binding Site Coordinates*** row. \n",
    "\n",
    "* ***Value***: The only column that should be filled by the user. Each value corresponds to a specific ***Property*** of a specific ***Subject***.\n",
    "\n",
    "* ***Description***: Provides a short description as to what input data is expected in each specific row, and when it should be provided."
   ],
   "metadata": {}
  },
  {
   "cell_type": "code",
   "execution_count": 5,
   "source": [
    "pd.read_csv(DATA / f\"InputData_Template.csv\")\n",
    "\n",
    "# NBVAL_CHECK_OUTPUT"
   ],
   "outputs": [
    {
     "output_type": "execute_result",
     "data": {
      "text/plain": [
       "                     Subject  \\\n",
       "0                    Protein   \n",
       "1                    Protein   \n",
       "2                     Ligand   \n",
       "3                     Ligand   \n",
       "4               Binding Site   \n",
       "5               Binding Site   \n",
       "6               Binding Site   \n",
       "7               Binding Site   \n",
       "8               Binding Site   \n",
       "9               Binding Site   \n",
       "10              Binding Site   \n",
       "11              Binding Site   \n",
       "12  Ligand Similarity Search   \n",
       "13  Ligand Similarity Search   \n",
       "14  Ligand Similarity Search   \n",
       "15  Ligand Similarity Search   \n",
       "16                   Docking   \n",
       "17                   Docking   \n",
       "18                   Docking   \n",
       "19                   Docking   \n",
       "20      Interaction Analysis   \n",
       "21          Optimized Ligand   \n",
       "22          Optimized Ligand   \n",
       "23          Optimized Ligand   \n",
       "\n",
       "                                                     Property  Value  \\\n",
       "0                                                 Input Type*    NaN   \n",
       "1                                                Input Value*    NaN   \n",
       "2                                                 Input Type*    NaN   \n",
       "3                                                Input Value*    NaN   \n",
       "4                                           Definition Method    NaN   \n",
       "5                                                 Coordinates    NaN   \n",
       "6                                                      Ligand    NaN   \n",
       "7                                            Detection Method    NaN   \n",
       "8                                            Protein Chain-ID    NaN   \n",
       "9                                           Protein Ligand-ID    NaN   \n",
       "10                                           Selection Method    NaN   \n",
       "11                                         Selection Criteria    NaN   \n",
       "12                                              Search Engine    NaN   \n",
       "13                                     Minumum Similarity [%]    NaN   \n",
       "14                                  Maximum Number of Results    NaN   \n",
       "15  Maximum Number of Most Drug-Like Analogs to Continue With    NaN   \n",
       "16                                                    Program    NaN   \n",
       "17                         Number of Docking Poses per Ligand    NaN   \n",
       "18                                             Exhaustiveness    NaN   \n",
       "19                                                Random Seed    NaN   \n",
       "20                                                    Program    NaN   \n",
       "21                                          Number of Results    NaN   \n",
       "22                                           Selection Method    NaN   \n",
       "23                                         Selection Criteria    NaN   \n",
       "\n",
       "                                                                                                                                                                                                Description  \n",
       "0                                                                                                                                                                      Allowed: 'pdb_code', 'pdb_filepath'.  \n",
       "1                                                                                                                                                 Either a valid PDB-code or a local filepath to a PDB-file  \n",
       "2                                                        Allowed: 'smiles', 'cid', 'inchi', 'inchikey', 'iupac_name', 'name' (Note that 'name' and 'iupac_name' identifiers do not work for all compounds).  \n",
       "3                                                                                                                            Identifier value corresponding to given input type, e.g. SMILES or CID number.  \n",
       "4                                                                                         Definition method for the protein binding site. Allowed: 'coordinates', 'ligand', 'detection'. Default: detection  \n",
       "5   If Definition Method is 'coordinates', enter the coordinates here. The coordinates should be entered as six numbers separated by spaces in the following order: center_x center_y center_z size_x si...  \n",
       "6                                                                                                            If the Definition Method is 'ligand', enter the ligand-ID (as specified in the PDB file) here.  \n",
       "7                                                                                If the Definition Method is 'detection', enter the detection method here. Allowed: 'dogsitescorer'. Default: dogsitescorer  \n",
       "8                                                       If the Definition Method is 'detection', optionally a specific chain-ID can be given here, so that detection is only performed on that chain alone.  \n",
       "9              If the Definition Method is 'detection', optionally a specific ligand-ID present in the PDB file can be given here, so that the ligand coverage is also considered in the detection results.  \n",
       "10                  If the Detection Method is 'dogsitescorer', a selection method should be specified in order to select the best detected binding site. Allowed: 'sorting', 'function'. Default: sorting.  \n",
       "11  If the Selection Method is 'function', a valid Python function manipulating the detection results should be entered here. If the Selection Method is 'sorting', a list of binding-site properties to...  \n",
       "12                                                                                                                       Search engine used for the similarity search. Allowed: 'pubchem'. Default: pubchem  \n",
       "13                                                                                                                                    Threshold of similarity (in percent) for finding analogs. Default: 80  \n",
       "14                                                                                                                           Maximum number of analogs to retrieve from the similarity search. Default: 100  \n",
       "15                                                                                                                  Maximum number of analogs with highest drug-likeness to perform docking on. Default: 30  \n",
       "16                                                                                                                                             The docking program to use. Allowed: 'smina'. Default: smina  \n",
       "17                                                                                                                                          Number of docking poses to generate for each ligand. Default: 5  \n",
       "18                                                                                                                                Exhaustiveness for sampling the conformation space of ligand. Default: 10  \n",
       "19                                                                                                                   Random seed for the docking algorithm to make the results deterministic. Default: None  \n",
       "20                                                                                                               The program to use for protein-ligand interaction analysis. Allowed: 'plip'. Default: plip  \n",
       "21                                                                                                                                             Number of optimized ligands to output at the end. Default: 1  \n",
       "22                                                                                                          Method to select the best optimized ligand(s). Allowed: 'sorting', 'function'. Default: sorting  \n",
       "23  If the Selection Method is 'function', a valid Python function manipulating the parameters should be entered here. If the Selection Method is 'sorting', a list of parameters to sort the optimized ...  "
      ],
      "text/html": [
       "<div>\n",
       "<style scoped>\n",
       "    .dataframe tbody tr th:only-of-type {\n",
       "        vertical-align: middle;\n",
       "    }\n",
       "\n",
       "    .dataframe tbody tr th {\n",
       "        vertical-align: top;\n",
       "    }\n",
       "\n",
       "    .dataframe thead th {\n",
       "        text-align: right;\n",
       "    }\n",
       "</style>\n",
       "<table border=\"1\" class=\"dataframe\">\n",
       "  <thead>\n",
       "    <tr style=\"text-align: right;\">\n",
       "      <th></th>\n",
       "      <th>Subject</th>\n",
       "      <th>Property</th>\n",
       "      <th>Value</th>\n",
       "      <th>Description</th>\n",
       "    </tr>\n",
       "  </thead>\n",
       "  <tbody>\n",
       "    <tr>\n",
       "      <th>0</th>\n",
       "      <td>Protein</td>\n",
       "      <td>Input Type*</td>\n",
       "      <td>NaN</td>\n",
       "      <td>Allowed: 'pdb_code', 'pdb_filepath'.</td>\n",
       "    </tr>\n",
       "    <tr>\n",
       "      <th>1</th>\n",
       "      <td>Protein</td>\n",
       "      <td>Input Value*</td>\n",
       "      <td>NaN</td>\n",
       "      <td>Either a valid PDB-code or a local filepath to a PDB-file</td>\n",
       "    </tr>\n",
       "    <tr>\n",
       "      <th>2</th>\n",
       "      <td>Ligand</td>\n",
       "      <td>Input Type*</td>\n",
       "      <td>NaN</td>\n",
       "      <td>Allowed: 'smiles', 'cid', 'inchi', 'inchikey', 'iupac_name', 'name' (Note that 'name' and 'iupac_name' identifiers do not work for all compounds).</td>\n",
       "    </tr>\n",
       "    <tr>\n",
       "      <th>3</th>\n",
       "      <td>Ligand</td>\n",
       "      <td>Input Value*</td>\n",
       "      <td>NaN</td>\n",
       "      <td>Identifier value corresponding to given input type, e.g. SMILES or CID number.</td>\n",
       "    </tr>\n",
       "    <tr>\n",
       "      <th>4</th>\n",
       "      <td>Binding Site</td>\n",
       "      <td>Definition Method</td>\n",
       "      <td>NaN</td>\n",
       "      <td>Definition method for the protein binding site. Allowed: 'coordinates', 'ligand', 'detection'. Default: detection</td>\n",
       "    </tr>\n",
       "    <tr>\n",
       "      <th>5</th>\n",
       "      <td>Binding Site</td>\n",
       "      <td>Coordinates</td>\n",
       "      <td>NaN</td>\n",
       "      <td>If Definition Method is 'coordinates', enter the coordinates here. The coordinates should be entered as six numbers separated by spaces in the following order: center_x center_y center_z size_x si...</td>\n",
       "    </tr>\n",
       "    <tr>\n",
       "      <th>6</th>\n",
       "      <td>Binding Site</td>\n",
       "      <td>Ligand</td>\n",
       "      <td>NaN</td>\n",
       "      <td>If the Definition Method is 'ligand', enter the ligand-ID (as specified in the PDB file) here.</td>\n",
       "    </tr>\n",
       "    <tr>\n",
       "      <th>7</th>\n",
       "      <td>Binding Site</td>\n",
       "      <td>Detection Method</td>\n",
       "      <td>NaN</td>\n",
       "      <td>If the Definition Method is 'detection', enter the detection method here. Allowed: 'dogsitescorer'. Default: dogsitescorer</td>\n",
       "    </tr>\n",
       "    <tr>\n",
       "      <th>8</th>\n",
       "      <td>Binding Site</td>\n",
       "      <td>Protein Chain-ID</td>\n",
       "      <td>NaN</td>\n",
       "      <td>If the Definition Method is 'detection', optionally a specific chain-ID can be given here, so that detection is only performed on that chain alone.</td>\n",
       "    </tr>\n",
       "    <tr>\n",
       "      <th>9</th>\n",
       "      <td>Binding Site</td>\n",
       "      <td>Protein Ligand-ID</td>\n",
       "      <td>NaN</td>\n",
       "      <td>If the Definition Method is 'detection', optionally a specific ligand-ID present in the PDB file can be given here, so that the ligand coverage is also considered in the detection results.</td>\n",
       "    </tr>\n",
       "    <tr>\n",
       "      <th>10</th>\n",
       "      <td>Binding Site</td>\n",
       "      <td>Selection Method</td>\n",
       "      <td>NaN</td>\n",
       "      <td>If the Detection Method is 'dogsitescorer', a selection method should be specified in order to select the best detected binding site. Allowed: 'sorting', 'function'. Default: sorting.</td>\n",
       "    </tr>\n",
       "    <tr>\n",
       "      <th>11</th>\n",
       "      <td>Binding Site</td>\n",
       "      <td>Selection Criteria</td>\n",
       "      <td>NaN</td>\n",
       "      <td>If the Selection Method is 'function', a valid Python function manipulating the detection results should be entered here. If the Selection Method is 'sorting', a list of binding-site properties to...</td>\n",
       "    </tr>\n",
       "    <tr>\n",
       "      <th>12</th>\n",
       "      <td>Ligand Similarity Search</td>\n",
       "      <td>Search Engine</td>\n",
       "      <td>NaN</td>\n",
       "      <td>Search engine used for the similarity search. Allowed: 'pubchem'. Default: pubchem</td>\n",
       "    </tr>\n",
       "    <tr>\n",
       "      <th>13</th>\n",
       "      <td>Ligand Similarity Search</td>\n",
       "      <td>Minumum Similarity [%]</td>\n",
       "      <td>NaN</td>\n",
       "      <td>Threshold of similarity (in percent) for finding analogs. Default: 80</td>\n",
       "    </tr>\n",
       "    <tr>\n",
       "      <th>14</th>\n",
       "      <td>Ligand Similarity Search</td>\n",
       "      <td>Maximum Number of Results</td>\n",
       "      <td>NaN</td>\n",
       "      <td>Maximum number of analogs to retrieve from the similarity search. Default: 100</td>\n",
       "    </tr>\n",
       "    <tr>\n",
       "      <th>15</th>\n",
       "      <td>Ligand Similarity Search</td>\n",
       "      <td>Maximum Number of Most Drug-Like Analogs to Continue With</td>\n",
       "      <td>NaN</td>\n",
       "      <td>Maximum number of analogs with highest drug-likeness to perform docking on. Default: 30</td>\n",
       "    </tr>\n",
       "    <tr>\n",
       "      <th>16</th>\n",
       "      <td>Docking</td>\n",
       "      <td>Program</td>\n",
       "      <td>NaN</td>\n",
       "      <td>The docking program to use. Allowed: 'smina'. Default: smina</td>\n",
       "    </tr>\n",
       "    <tr>\n",
       "      <th>17</th>\n",
       "      <td>Docking</td>\n",
       "      <td>Number of Docking Poses per Ligand</td>\n",
       "      <td>NaN</td>\n",
       "      <td>Number of docking poses to generate for each ligand. Default: 5</td>\n",
       "    </tr>\n",
       "    <tr>\n",
       "      <th>18</th>\n",
       "      <td>Docking</td>\n",
       "      <td>Exhaustiveness</td>\n",
       "      <td>NaN</td>\n",
       "      <td>Exhaustiveness for sampling the conformation space of ligand. Default: 10</td>\n",
       "    </tr>\n",
       "    <tr>\n",
       "      <th>19</th>\n",
       "      <td>Docking</td>\n",
       "      <td>Random Seed</td>\n",
       "      <td>NaN</td>\n",
       "      <td>Random seed for the docking algorithm to make the results deterministic. Default: None</td>\n",
       "    </tr>\n",
       "    <tr>\n",
       "      <th>20</th>\n",
       "      <td>Interaction Analysis</td>\n",
       "      <td>Program</td>\n",
       "      <td>NaN</td>\n",
       "      <td>The program to use for protein-ligand interaction analysis. Allowed: 'plip'. Default: plip</td>\n",
       "    </tr>\n",
       "    <tr>\n",
       "      <th>21</th>\n",
       "      <td>Optimized Ligand</td>\n",
       "      <td>Number of Results</td>\n",
       "      <td>NaN</td>\n",
       "      <td>Number of optimized ligands to output at the end. Default: 1</td>\n",
       "    </tr>\n",
       "    <tr>\n",
       "      <th>22</th>\n",
       "      <td>Optimized Ligand</td>\n",
       "      <td>Selection Method</td>\n",
       "      <td>NaN</td>\n",
       "      <td>Method to select the best optimized ligand(s). Allowed: 'sorting', 'function'. Default: sorting</td>\n",
       "    </tr>\n",
       "    <tr>\n",
       "      <th>23</th>\n",
       "      <td>Optimized Ligand</td>\n",
       "      <td>Selection Criteria</td>\n",
       "      <td>NaN</td>\n",
       "      <td>If the Selection Method is 'function', a valid Python function manipulating the parameters should be entered here. If the Selection Method is 'sorting', a list of parameters to sort the optimized ...</td>\n",
       "    </tr>\n",
       "  </tbody>\n",
       "</table>\n",
       "</div>"
      ]
     },
     "metadata": {},
     "execution_count": 5
    }
   ],
   "metadata": {
    "tags": []
   }
  },
  {
   "cell_type": "markdown",
   "source": [
    "### Defining The Required Constants For Handling the Input Data: The ***Consts*** Data-Class\n",
    "\n",
    "In order to import and process the input file and extract all the different parameters, we will use the *Pandas* package, which can directly read CSV files and transform them into a *DataFrame* object – the *Pandas* equivalent of a table in a database. \n",
    "\n",
    "<details>\n",
    "\n",
    "<summary> Click here for additional information on dealing with input data</summary> \n",
    "\n",
    "In a *quick-and-dirty* approach, the input parameters would be called - whenever needed in the code - using their respective index and column names in the dataframe. However, this often leads to code that is not easily maintainable or expandable. A small change to the input data, such as renaming a column, will require the whole code to be revised accordingly. A more efficient approach is to first internalize all the input data in a data-class so that the rest of the program needs only to communicate with this class and not the input dataframe directly.\n",
    "\n",
    "There are several advantages to this approach. First, any error in the input data is recognized in the beginning before any process is performed. In subsequent versions of the program, any change in the input data needs only to be accounted for in this class and not in the entire code. Finally, the class gives an overview of all the possible inputs for the program so you won't need to remember them. \n",
    "</details>"
   ],
   "metadata": {}
  },
  {
   "cell_type": "markdown",
   "source": [
    "To allow for a more robust pipeline, we define a data-class called ***Consts*** which contains all the possible keywords in the input dataframe, such as the column names, index names, subject names, properties, etc. These keywords are all stored in their respective sub-classes as **Enumerations**, so that the rest of the code needs only to refer to the enumeration names and not their values."
   ],
   "metadata": {}
  },
  {
   "cell_type": "markdown",
   "source": [
    "### The ***IO*** Helper-Class\n",
    "\n",
    "To be able to read and process the input data, we defined a helper class called ***IO***. This contains all the necessary functions for handling the input and output data. e.g. creating a dataframe from the input CSV file, extracting specific information from the dataframe, or creating folders for storing the output data. "
   ],
   "metadata": {}
  },
  {
   "cell_type": "markdown",
   "source": [
    "### The Pipeline's ***Specs*** Class\n",
    "\n",
    "The ***Specs*** class of the pipeline was created using the functionalities in the ***IO*** helper-class. This class is responsible for automatically reading and internalizing all the input data contained in the input file. It also contains some logic e.g. to check if all the necessary data for a specific project have been inputted by the user, and to fill in some default values if needed. Furthermore, it creates the necessary folders for the output data, and stores their paths."
   ],
   "metadata": {
    "tags": []
   }
  },
  {
   "cell_type": "markdown",
   "source": [
    "### Processing The Input Data: Instantiating The ***Specs*** Class\n",
    "\n",
    "We can now instantiate the ***Specs*** class and feeding the data it requires. This is done by specifying the filepath of the input CSV file and the output path for storing the output data. As discussed, we will assign the created instance to our project, just to have everything organized in one place."
   ],
   "metadata": {
    "tags": []
   }
  },
  {
   "cell_type": "code",
   "execution_count": 6,
   "source": [
    "from utils import Consts, IO, Specs\n",
    "\n",
    "project1.Specs = Specs(\n",
    "    input_data_filepath=DATA / f\"PipelineInputData_Project1.csv\",\n",
    "    output_data_root_folder_path=\"data/Outputs/\" + project1.name,\n",
    ")"
   ],
   "outputs": [
    {
     "output_type": "stream",
     "name": "stderr",
     "text": [
      "/home/taylorc/software/git/projects/teachopencadd/teachopencadd/talktorials/T018_automated_cadd_pipeline/utils.py:263: FutureWarning: In a future version of pandas all arguments of DataFrame.drop except for the argument 'labels' will be keyword-only\n",
      "  input_df.drop(input_df.columns.difference(list_of_columns_to_keep), 1, inplace=True)\n"
     ]
    }
   ],
   "metadata": {}
  },
  {
   "cell_type": "markdown",
   "source": [
    "All the available data in the input CSV file of our project are now contained within the project's ***Specs*** instance. These can be accessed using the corresponding **instance attributes**.\n",
    "\n",
    "<details>\n",
    "\n",
    "<summary> Click here for additional information on instance attributes</summary> \n",
    "\n",
    "An advantage of storing the data as instance attributes and assigning them to ***project1*** is that everywhere in the code we can directly see all the project's data and know how to access them. Just write <span style=\"background-color: #D3D3D3\">project1.</span> and press the *tab* button. Code completion will then display a list of all available options to choose from. As we import more classes and add attributes later (Protein, Ligand, etc.), if you repeat this process, you will see more attributes have been added.\n",
    "</details>"
   ],
   "metadata": {}
  },
  {
   "cell_type": "markdown",
   "source": [
    "Some examples of attributes that have been added by instantiation of the ***Specs*** class can be seen below:"
   ],
   "metadata": {}
  },
  {
   "cell_type": "code",
   "execution_count": 7,
   "source": [
    "project1.Specs.Protein.input_value\n",
    "\n",
    "# NBVAL_CHECK_OUTPUT"
   ],
   "outputs": [
    {
     "output_type": "execute_result",
     "data": {
      "text/plain": [
       "'3W32'"
      ]
     },
     "metadata": {},
     "execution_count": 7
    }
   ],
   "metadata": {}
  },
  {
   "cell_type": "code",
   "execution_count": 8,
   "source": [
    "project1.Specs.Ligand.input_value\n",
    "\n",
    "# NBVAL_CHECK_OUTPUT"
   ],
   "outputs": [
    {
     "output_type": "execute_result",
     "data": {
      "text/plain": [
       "'Nc1cc2ncnc(Nc3cccc(Br)c3)c2cc1N'"
      ]
     },
     "metadata": {},
     "execution_count": 8
    }
   ],
   "metadata": {}
  },
  {
   "cell_type": "markdown",
   "source": [
    "Note:\n",
    "* You can get more information about the available instances by clicking `tab` after the respective \".\", e.g. `project1.Specs.` `tab`.\n",
    "* And it is also possible to see the raw input data in its entirety."
   ],
   "metadata": {}
  },
  {
   "cell_type": "code",
   "execution_count": 9,
   "source": [
    "project1.Specs.RawData.all_data\n",
    "\n",
    "# NBVAL_CHECK_OUTPUT"
   ],
   "outputs": [
    {
     "output_type": "execute_result",
     "data": {
      "text/plain": [
       "                                                                                                                                 Value\n",
       "Subject                  Property                                                                                                     \n",
       "Protein                  Input Type*                                                                                          pdb_code\n",
       "                         Input Value*                                                                                             3W32\n",
       "Ligand                   Input Type*                                                                                            smiles\n",
       "                         Input Value*                                                                  Nc1cc2ncnc(Nc3cccc(Br)c3)c2cc1N\n",
       "Binding Site             Definition Method                                                                                   detection\n",
       "                         Coordinates                                                                                               NaN\n",
       "                         Ligand                                                                                                    NaN\n",
       "                         Detection Method                                                                                dogsitescorer\n",
       "                         Protein Chain-ID                                                                                            A\n",
       "                         Protein Ligand-ID                                                                                         W32\n",
       "                         Selection Method                                                                                      sorting\n",
       "                         Selection Criteria                                                                           lig_cov, poc_cov\n",
       "Ligand Similarity Search Search Engine                                                                                         pubchem\n",
       "                         Minumum Similarity [%]                                                                                     70\n",
       "                         Maximum Number of Results                                                                                  30\n",
       "                         Maximum Number of Most Drug-Like Analogs to Continue With                                                  20\n",
       "Docking                  Program                                                                                                 smina\n",
       "                         Number of Docking Poses per Ligand                                                                          5\n",
       "                         Exhaustiveness                                                                                             10\n",
       "                         Random Seed                                                                                              1111\n",
       "Interaction Analysis     Program                                                                                                  plip\n",
       "Optimized Ligand         Number of Results                                                                                           1\n",
       "                         Selection Method                                                                                      sorting\n",
       "                         Selection Criteria                                         affinity, total_num_interactions, drug_score_total"
      ],
      "text/html": [
       "<div>\n",
       "<style scoped>\n",
       "    .dataframe tbody tr th:only-of-type {\n",
       "        vertical-align: middle;\n",
       "    }\n",
       "\n",
       "    .dataframe tbody tr th {\n",
       "        vertical-align: top;\n",
       "    }\n",
       "\n",
       "    .dataframe thead th {\n",
       "        text-align: right;\n",
       "    }\n",
       "</style>\n",
       "<table border=\"1\" class=\"dataframe\">\n",
       "  <thead>\n",
       "    <tr style=\"text-align: right;\">\n",
       "      <th></th>\n",
       "      <th></th>\n",
       "      <th>Value</th>\n",
       "    </tr>\n",
       "    <tr>\n",
       "      <th>Subject</th>\n",
       "      <th>Property</th>\n",
       "      <th></th>\n",
       "    </tr>\n",
       "  </thead>\n",
       "  <tbody>\n",
       "    <tr>\n",
       "      <th rowspan=\"2\" valign=\"top\">Protein</th>\n",
       "      <th>Input Type*</th>\n",
       "      <td>pdb_code</td>\n",
       "    </tr>\n",
       "    <tr>\n",
       "      <th>Input Value*</th>\n",
       "      <td>3W32</td>\n",
       "    </tr>\n",
       "    <tr>\n",
       "      <th rowspan=\"2\" valign=\"top\">Ligand</th>\n",
       "      <th>Input Type*</th>\n",
       "      <td>smiles</td>\n",
       "    </tr>\n",
       "    <tr>\n",
       "      <th>Input Value*</th>\n",
       "      <td>Nc1cc2ncnc(Nc3cccc(Br)c3)c2cc1N</td>\n",
       "    </tr>\n",
       "    <tr>\n",
       "      <th rowspan=\"8\" valign=\"top\">Binding Site</th>\n",
       "      <th>Definition Method</th>\n",
       "      <td>detection</td>\n",
       "    </tr>\n",
       "    <tr>\n",
       "      <th>Coordinates</th>\n",
       "      <td>NaN</td>\n",
       "    </tr>\n",
       "    <tr>\n",
       "      <th>Ligand</th>\n",
       "      <td>NaN</td>\n",
       "    </tr>\n",
       "    <tr>\n",
       "      <th>Detection Method</th>\n",
       "      <td>dogsitescorer</td>\n",
       "    </tr>\n",
       "    <tr>\n",
       "      <th>Protein Chain-ID</th>\n",
       "      <td>A</td>\n",
       "    </tr>\n",
       "    <tr>\n",
       "      <th>Protein Ligand-ID</th>\n",
       "      <td>W32</td>\n",
       "    </tr>\n",
       "    <tr>\n",
       "      <th>Selection Method</th>\n",
       "      <td>sorting</td>\n",
       "    </tr>\n",
       "    <tr>\n",
       "      <th>Selection Criteria</th>\n",
       "      <td>lig_cov, poc_cov</td>\n",
       "    </tr>\n",
       "    <tr>\n",
       "      <th rowspan=\"4\" valign=\"top\">Ligand Similarity Search</th>\n",
       "      <th>Search Engine</th>\n",
       "      <td>pubchem</td>\n",
       "    </tr>\n",
       "    <tr>\n",
       "      <th>Minumum Similarity [%]</th>\n",
       "      <td>70</td>\n",
       "    </tr>\n",
       "    <tr>\n",
       "      <th>Maximum Number of Results</th>\n",
       "      <td>30</td>\n",
       "    </tr>\n",
       "    <tr>\n",
       "      <th>Maximum Number of Most Drug-Like Analogs to Continue With</th>\n",
       "      <td>20</td>\n",
       "    </tr>\n",
       "    <tr>\n",
       "      <th rowspan=\"4\" valign=\"top\">Docking</th>\n",
       "      <th>Program</th>\n",
       "      <td>smina</td>\n",
       "    </tr>\n",
       "    <tr>\n",
       "      <th>Number of Docking Poses per Ligand</th>\n",
       "      <td>5</td>\n",
       "    </tr>\n",
       "    <tr>\n",
       "      <th>Exhaustiveness</th>\n",
       "      <td>10</td>\n",
       "    </tr>\n",
       "    <tr>\n",
       "      <th>Random Seed</th>\n",
       "      <td>1111</td>\n",
       "    </tr>\n",
       "    <tr>\n",
       "      <th>Interaction Analysis</th>\n",
       "      <th>Program</th>\n",
       "      <td>plip</td>\n",
       "    </tr>\n",
       "    <tr>\n",
       "      <th rowspan=\"3\" valign=\"top\">Optimized Ligand</th>\n",
       "      <th>Number of Results</th>\n",
       "      <td>1</td>\n",
       "    </tr>\n",
       "    <tr>\n",
       "      <th>Selection Method</th>\n",
       "      <td>sorting</td>\n",
       "    </tr>\n",
       "    <tr>\n",
       "      <th>Selection Criteria</th>\n",
       "      <td>affinity, total_num_interactions, drug_score_total</td>\n",
       "    </tr>\n",
       "  </tbody>\n",
       "</table>\n",
       "</div>"
      ]
     },
     "metadata": {},
     "execution_count": 9
    }
   ],
   "metadata": {}
  },
  {
   "cell_type": "markdown",
   "source": [
    "<a id='3_practical'></a>\n",
    "\n",
    "## Processing the Input Protein Data \n",
    "\n",
    "In order to make a ***Protein*** object, some functions for processing protein data, such as fetching PDB files from the PDB webserver, parsing PDB files, etc. must be defined. "
   ],
   "metadata": {}
  },
  {
   "cell_type": "markdown",
   "source": [
    "### The ***PDB*** Helper-Class and the ***NGLView*** Helper-Class\n",
    "\n",
    "These helper classes contain all the necessary functions for handling protein data by processing PDB files all the necessary functions for visualizing protein-related data. They can display and allow us to manipulate the protein structure and later the protein binding site as well as ligand poses after docking and the protein-ligand interactions present within them."
   ],
   "metadata": {}
  },
  {
   "cell_type": "markdown",
   "source": [
    "### The Pipeline's ***Protein*** Class\n",
    "\n",
    "Using the functionalities defined in the helper-classes, the ***Protein*** class of the pipeline was implmented. This class takes in the protein input data and creates an object with extended attributes and methods additional to those already present in ***project1***."
   ],
   "metadata": {}
  },
  {
   "cell_type": "markdown",
   "source": [
    "### Creating a ***Protein*** Object From The Protein Input Data: Instantiating The ***Protein*** Class\n",
    "\n",
    "We now create an instance of the ***Protein*** class by inputting the protein data of our project. \n",
    "* Protein input type\n",
    "* Corresponding input value\n",
    "* Output path for storing the protein data. "
   ],
   "metadata": {}
  },
  {
   "cell_type": "code",
   "execution_count": 10,
   "source": [
    "from utils import PDB, NGLView, Protein\n",
    "\n",
    "project1.Protein = Protein(\n",
    "    identifier_type=project1.Specs.Protein.input_type,\n",
    "    identifier_value=project1.Specs.Protein.input_value,\n",
    "    protein_output_path=project1.Specs.OutputPaths.protein,\n",
    ")"
   ],
   "outputs": [],
   "metadata": {}
  },
  {
   "cell_type": "markdown",
   "source": [
    "We have implemented a **__call__** method for our ***Protein***. This prints out some useful information and visualizes the protein's structure, simply by calling the object:"
   ],
   "metadata": {}
  },
  {
   "cell_type": "code",
   "execution_count": 11,
   "source": [
    "project1.Protein()"
   ],
   "outputs": [
    {
     "output_type": "display_data",
     "data": {
      "text/plain": [
       "<IPython.core.display.Markdown object>"
      ],
      "text/markdown": [
       "<span style='color:black'>&nbsp;&nbsp;&nbsp;&nbsp;Structure Title: </span><span style='color:black'>**EGFR KINASE DOMAIN COMPLEXED WITH COMPOUND 20A**</span>"
      ]
     },
     "metadata": {}
    },
    {
     "output_type": "display_data",
     "data": {
      "text/plain": [
       "<IPython.core.display.Markdown object>"
      ],
      "text/markdown": [
       "<span style='color:black'>&nbsp;&nbsp;&nbsp;&nbsp;Name: </span><span style='color:black'>**EPIDERMAL GROWTH FACTOR RECEPTOR**</span>"
      ]
     },
     "metadata": {}
    },
    {
     "output_type": "display_data",
     "data": {
      "text/plain": [
       "<IPython.core.display.Markdown object>"
      ],
      "text/markdown": [
       "<span style='color:black'>&nbsp;&nbsp;&nbsp;&nbsp;Chains: </span><span style='color:black'>**['A']**</span>"
      ]
     },
     "metadata": {}
    },
    {
     "output_type": "display_data",
     "data": {
      "text/plain": [
       "<IPython.core.display.Markdown object>"
      ],
      "text/markdown": [
       "<span style='color:black'>&nbsp;&nbsp;&nbsp;&nbsp;Ligands: </span><span style='color:black'>**[['W32', 'A1101', 39], ['SO4', 'A1102', 5]]**</span>"
      ]
     },
     "metadata": {}
    },
    {
     "output_type": "display_data",
     "data": {
      "text/plain": [
       "<IPython.core.display.Markdown object>"
      ],
      "text/markdown": [
       "<span style='color:black'>&nbsp;&nbsp;&nbsp;&nbsp;First Residue Number: </span><span style='color:black'>**701**</span>"
      ]
     },
     "metadata": {}
    },
    {
     "output_type": "display_data",
     "data": {
      "text/plain": [
       "<IPython.core.display.Markdown object>"
      ],
      "text/markdown": [
       "<span style='color:black'>&nbsp;&nbsp;&nbsp;&nbsp;Last Residue Number: </span><span style='color:black'>**1017**</span>"
      ]
     },
     "metadata": {}
    },
    {
     "output_type": "display_data",
     "data": {
      "text/plain": [
       "<IPython.core.display.Markdown object>"
      ],
      "text/markdown": [
       "<span style='color:black'>&nbsp;&nbsp;&nbsp;&nbsp;Number of Residues: </span><span style='color:black'>**317**</span>"
      ]
     },
     "metadata": {}
    },
    {
     "output_type": "display_data",
     "data": {
      "text/plain": [
       "NGLWidget()"
      ],
      "application/vnd.jupyter.widget-view+json": {
       "version_major": 2,
       "version_minor": 0,
       "model_id": "a335884554224dcf8035a52c19daa419"
      }
     },
     "metadata": {}
    }
   ],
   "metadata": {}
  },
  {
   "cell_type": "markdown",
   "source": [
    "All of this information and other properties are stored separately as instance attributes. For example, a list of information on all co-crystallized ligands.\n",
    "\n",
    "Each ligand entry contains\n",
    "* the ligand-ID\n",
    "* the protein chain-ID followed by the ligand residue number\n",
    "* and the number of heavy atoms in the ligand. \n",
    "\n",
    "For example, here the first ligand has the ID 'W32', is on chain 'A' at residue number '1101', and has 39 heavy atoms."
   ],
   "metadata": {}
  },
  {
   "cell_type": "code",
   "execution_count": 12,
   "source": [
    "project1.Protein.ligands\n",
    "\n",
    "# NBVAL_CHECK_OUTPUT"
   ],
   "outputs": [
    {
     "output_type": "execute_result",
     "data": {
      "text/plain": [
       "[['W32', 'A1101', 39], ['SO4', 'A1102', 5]]"
      ]
     },
     "metadata": {},
     "execution_count": 12
    }
   ],
   "metadata": {}
  },
  {
   "cell_type": "markdown",
   "source": [
    "When the protein is inputted by its PDB-code, the PDB file will also be automatically downloaded and stored in the defined output path for the protein output data. The full path is also accessible via the attribute ***pdb_filepath***: "
   ],
   "metadata": {}
  },
  {
   "cell_type": "code",
   "execution_count": 13,
   "source": [
    "project1.Protein.pdb_filepath\n",
    "\n",
    "# NBVAL_CHECK_OUTPUT"
   ],
   "outputs": [
    {
     "output_type": "execute_result",
     "data": {
      "text/plain": [
       "PosixPath('data/Outputs/Project1_EGFR_CHEMBL328216/1_Protein/3W32.pdb')"
      ]
     },
     "metadata": {},
     "execution_count": 13
    }
   ],
   "metadata": {}
  },
  {
   "cell_type": "markdown",
   "source": [
    "<a id='4_practical'></a>\n",
    "\n",
    "## Processing the Input Ligand Data\n",
    "\n",
    "In a similar fashion, we can also use the ligand input data to create a ***Ligand*** object with some extended attributes and methods. For this, we first need to define a helper-class to be able to obtain some new information on the input ligand and another helper-class for calculating ligand properties, creating 3D conformations, visualizations etc."
   ],
   "metadata": {}
  },
  {
   "cell_type": "markdown",
   "source": [
    "### The ***PubChem*** Helper-Class\n",
    "\n",
    "The ***PubChem*** class contains all the necessary functions to use the *PubChem* web-service APIs. This is how we can obtain new information on ligands such as other identifiers (e.g. IUPAC name, SMILES), physiochemical properties and, descriptions etc. *PubChem* has also the ability to perform similarity searches on a given ligand. We will use it later in the ***LigandSimilaritySearch*** class of the pipeline. "
   ],
   "metadata": {}
  },
  {
   "cell_type": "markdown",
   "source": [
    "### The ***RDKit*** Helper-Class\n",
    "\n",
    "We also defined another helper class for working with ligands, the ***RDKit*** class. \n",
    "\n",
    "This class uses the *RDKit* python library to implement some useful functionalities for ligands, such as \n",
    "* calculating properties and descriptors, \n",
    "* generating images or SDF files\n",
    "* or performing similarity search. \n",
    "\n",
    "<details>\n",
    "\n",
    "<summary> Click here for additional information regarding RDKit chemical descriptors and functionality offered by its API. </summary> \n",
    "\n",
    "We can retrieve data about a molecule such as molecular weight, partition coefficients or number of hydrogen-bond acceptors/donors. These properties will also be used to calculate several drug-likeness scores. Examples include the Lipinski rule of 5, and the quantitative estimate of drug-likeness (QED). \n",
    "\n",
    "Other useful functionalities that will be imported here include visualization of molecular structures and saving molecules to file, either as an image or a Structure-Data File (SDF). A function is also defined to calculate the similarity between two molecules based on the Dice similarity metric using circular (Morgan) fingerprints. This will be used later to assess the similarity of each analog of the ligand found by the similarity search and will be performed using *PubChem*. \n",
    "</details>"
   ],
   "metadata": {}
  },
  {
   "cell_type": "markdown",
   "source": [
    "### Implementing The Pipeline's ***Ligand*** Class\n",
    "\n",
    "Using the defined functionalities in the ***PubChem*** and ***RDKit*** helper classes, we have implemented the pipeline's ***Ligand*** class. Similar to the ***Protein*** class, this class also takes in the ligand's input data and creates an object with extended attributes and methods to work with ligands."
   ],
   "metadata": {}
  },
  {
   "cell_type": "markdown",
   "source": [
    "### Creating a ***Ligand*** Object From The Ligand Input Data: Instantiating The ***Ligand*** Class\n",
    "\n",
    "We can now create an instance of the ***Ligand*** class using the input data of our project's ligand and assigning it to our project. "
   ],
   "metadata": {}
  },
  {
   "cell_type": "code",
   "execution_count": 14,
   "source": [
    "from utils import PubChem, RDKit, Ligand\n",
    "\n",
    "project1.Ligand = Ligand(\n",
    "    identifier_type=project1.Specs.Ligand.input_type,\n",
    "    identifier_value=project1.Specs.Ligand.input_value,\n",
    "    ligand_output_path=project1.Specs.OutputPaths.ligand,\n",
    ")"
   ],
   "outputs": [],
   "metadata": {}
  },
  {
   "cell_type": "markdown",
   "source": [
    "Similarly to the ***Protein*** object, we have implemented a ***__call__*** method for our ***Ligand*** which prints out some useful information and visualizes the ligand's structure:\n"
   ],
   "metadata": {}
  },
  {
   "cell_type": "code",
   "execution_count": 15,
   "source": [
    "project1.Ligand()\n",
    "\n",
    "# NBVAL_CHECK_OUTPUT"
   ],
   "outputs": [
    {
     "output_type": "execute_result",
     "data": {
      "text/plain": [
       "                                                                                                                                                                                                                                                                                                                                   Value\n",
       "Structure                                                                                                                                                                                                Property                                                                                                                       \n",
       "<img data-content=\"rdkit/molecule\" src=\"data:image/png;base64,iVBORw0KGgoAAAANSUhEUgAAAMgAAADICAIAAAAiOjnJAAAABmJLR0QA/wD/AP+gvaeTAAAZBklEQVR4nO3deVRTVx4H8G/CYlwKagJFdMSlFcRWUPS4YLFaN6Yu44K1YxUVa9U... name                                                                              4-N-(3-Bromophenyl)quinazoline-4,6,7-triamine\n",
       "                                                                                                                                                                                                         iupac_name                                                                        4-N-(3-bromophenyl)quinazoline-4,6,7-triamine\n",
       "                                                                                                                                                                                                         smiles                                                                              C1=CC(=CC(=C1)Br)NC2=NC=NC3=CC(=C(C=C32)N)N\n",
       "                                                                                                                                                                                                         cid                                                                                                                        2426\n",
       "                                                                                                                                                                                                         inchi                InChI=1S/C14H12BrN5/c15-8-2-1-3-9(4-8)20-14-10-5-11(16)12(17)6-13(10)18-7-19-14/h1-7H,16-17H2,(H,18,19,20)\n",
       "                                                                                                                                                                                                         inchikey                                                                                            ADXSZLCTQCWMTE-UHFFFAOYSA-N\n",
       "                                                                                                                                                                                                         mol_weight                                                                                                              330.189\n",
       "                                                                                                                                                                                                         num_H_acceptors                                                                                                               5\n",
       "                                                                                                                                                                                                         num_H_donors                                                                                                                  3\n",
       "                                                                                                                                                                                                         logp                                                                                                                        3.3\n",
       "                                                                                                                                                                                                         tpsa                                                                                                                      89.85\n",
       "                                                                                                                                                                                                         num_rot_bonds                                                                                                                 2\n",
       "                                                                                                                                                                                                         saturation                                                                                                                  0.0\n",
       "                                                                                                                                                                                                         drug_score_qed                                                                                                             0.63\n",
       "                                                                                                                                                                                                         drug_score_lipinski                                                                                                         1.0\n",
       "                                                                                                                                                                                                         drug_score_custom                                                                                                          0.65\n",
       "                                                                                                                                                                                                         drug_score_total                                                                                                            0.7"
      ],
      "text/html": [
       "<div>\n",
       "<style scoped>\n",
       "    .dataframe tbody tr th:only-of-type {\n",
       "        vertical-align: middle;\n",
       "    }\n",
       "\n",
       "    .dataframe tbody tr th {\n",
       "        vertical-align: top;\n",
       "    }\n",
       "\n",
       "    .dataframe thead th {\n",
       "        text-align: right;\n",
       "    }\n",
       "</style>\n",
       "<table border=\"1\" class=\"dataframe\">\n",
       "  <thead>\n",
       "    <tr style=\"text-align: right;\">\n",
       "      <th></th>\n",
       "      <th></th>\n",
       "      <th>Value</th>\n",
       "    </tr>\n",
       "    <tr>\n",
       "      <th>Structure</th>\n",
       "      <th>Property</th>\n",
       "      <th></th>\n",
       "    </tr>\n",
       "  </thead>\n",
       "  <tbody>\n",
       "    <tr>\n",
       "      <th rowspan=\"17\" valign=\"top\"><img data-content=\"rdkit/molecule\" src=\"data:image/png;base64,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\" alt=\"Mol\"/></th>\n",
       "      <th>name</th>\n",
       "      <td>4-N-(3-Bromophenyl)quinazoline-4,6,7-triamine</td>\n",
       "    </tr>\n",
       "    <tr>\n",
       "      <th>iupac_name</th>\n",
       "      <td>4-N-(3-bromophenyl)quinazoline-4,6,7-triamine</td>\n",
       "    </tr>\n",
       "    <tr>\n",
       "      <th>smiles</th>\n",
       "      <td>C1=CC(=CC(=C1)Br)NC2=NC=NC3=CC(=C(C=C32)N)N</td>\n",
       "    </tr>\n",
       "    <tr>\n",
       "      <th>cid</th>\n",
       "      <td>2426</td>\n",
       "    </tr>\n",
       "    <tr>\n",
       "      <th>inchi</th>\n",
       "      <td>InChI=1S/C14H12BrN5/c15-8-2-1-3-9(4-8)20-14-10-5-11(16)12(17)6-13(10)18-7-19-14/h1-7H,16-17H2,(H,18,19,20)</td>\n",
       "    </tr>\n",
       "    <tr>\n",
       "      <th>inchikey</th>\n",
       "      <td>ADXSZLCTQCWMTE-UHFFFAOYSA-N</td>\n",
       "    </tr>\n",
       "    <tr>\n",
       "      <th>mol_weight</th>\n",
       "      <td>330.189</td>\n",
       "    </tr>\n",
       "    <tr>\n",
       "      <th>num_H_acceptors</th>\n",
       "      <td>5</td>\n",
       "    </tr>\n",
       "    <tr>\n",
       "      <th>num_H_donors</th>\n",
       "      <td>3</td>\n",
       "    </tr>\n",
       "    <tr>\n",
       "      <th>logp</th>\n",
       "      <td>3.3</td>\n",
       "    </tr>\n",
       "    <tr>\n",
       "      <th>tpsa</th>\n",
       "      <td>89.85</td>\n",
       "    </tr>\n",
       "    <tr>\n",
       "      <th>num_rot_bonds</th>\n",
       "      <td>2</td>\n",
       "    </tr>\n",
       "    <tr>\n",
       "      <th>saturation</th>\n",
       "      <td>0.0</td>\n",
       "    </tr>\n",
       "    <tr>\n",
       "      <th>drug_score_qed</th>\n",
       "      <td>0.63</td>\n",
       "    </tr>\n",
       "    <tr>\n",
       "      <th>drug_score_lipinski</th>\n",
       "      <td>1.0</td>\n",
       "    </tr>\n",
       "    <tr>\n",
       "      <th>drug_score_custom</th>\n",
       "      <td>0.65</td>\n",
       "    </tr>\n",
       "    <tr>\n",
       "      <th>drug_score_total</th>\n",
       "      <td>0.7</td>\n",
       "    </tr>\n",
       "  </tbody>\n",
       "</table>\n",
       "</div>"
      ]
     },
     "metadata": {},
     "execution_count": 15
    }
   ],
   "metadata": {}
  },
  {
   "cell_type": "markdown",
   "source": [
    "All of this information and some other properties are also stored separately as instance attributes.\n",
    "\n",
    "For example, the ligand's identifiers:"
   ],
   "metadata": {}
  },
  {
   "cell_type": "code",
   "execution_count": 16,
   "source": [
    "project1.Ligand.iupac_name\n",
    "\n",
    "# NBVAL_CHECK_OUTPUT"
   ],
   "outputs": [
    {
     "output_type": "execute_result",
     "data": {
      "text/plain": [
       "'4-N-(3-bromophenyl)quinazoline-4,6,7-triamine'"
      ]
     },
     "metadata": {},
     "execution_count": 16
    }
   ],
   "metadata": {}
  },
  {
   "cell_type": "code",
   "execution_count": 17,
   "source": [
    "project1.Ligand.cid\n",
    "\n",
    "# NBVAL_CHECK_OUTPUT"
   ],
   "outputs": [
    {
     "output_type": "execute_result",
     "data": {
      "text/plain": [
       "'2426'"
      ]
     },
     "metadata": {},
     "execution_count": 17
    }
   ],
   "metadata": {}
  },
  {
   "cell_type": "markdown",
   "source": [
    "Or some of its physiochemical properties:"
   ],
   "metadata": {}
  },
  {
   "cell_type": "code",
   "execution_count": 18,
   "source": [
    "project1.Ligand.mol_weight\n",
    "\n",
    "# NBVAL_CHECK_OUTPUT"
   ],
   "outputs": [
    {
     "output_type": "execute_result",
     "data": {
      "text/plain": [
       "330.189"
      ]
     },
     "metadata": {},
     "execution_count": 18
    }
   ],
   "metadata": {}
  },
  {
   "cell_type": "markdown",
   "source": [
    "<details>\n",
    "\n",
    "<summary> Click here for additional information and details of other useful functions </summary> \n",
    "\n",
    "We have also implemented some functions as methods for the **Ligand** class. For example, the ***remove_counterion*** method can be used to remove salt compounds from the main molecule in the SMILES. This is necessary for the docking process as _Smina_ can have problems processing PDBQT files of salt compounds. \n",
    "\n",
    "Calling this method will simply return the modified SMILES. In the case of our ligand, which is not charged and does not have a counter-ion, the original SMILES is returned: \n",
    "\n",
    "`project1.Ligand.remove_counterion()`\n",
    "    \n",
    "</details>"
   ],
   "metadata": {}
  },
  {
   "cell_type": "markdown",
   "source": [
    "<a id='5_practical'></a>\n",
    "\n",
    "## Binding Site Detection\n",
    "\n",
    "Now that the processing of all input data is completed, we can begin the binding site detection process. In the input CSV file, you'll notice that the user has the option to select between three definition methods for the binding site:\n",
    "\n",
    "1. ***coordinates***: The user must specify the coordinates of the center of the binding site. In this case, there is no need for binding-site detection. \n",
    "2. ***ligand***: The user should specify the ID of a co-crystallized ligand in the protein structure. This will then be used here to define the binding site. \n",
    "3. ***detection***: The user should specify a ***detection method***. \n",
    "\n",
    "For this talktorial, we use the ***DoGSiteScorer*** functionality of the <a href=\"https://proteins.plus\">***ProteinsPlus***</a> webserver for binding site detection. We use a helper-class for communicating with the webserver's API and submitting detection jobs and then import the pipeline's ***BindingSiteDetection*** class, which processes the input specification data on the binding site and acts accordingly. \n"
   ],
   "metadata": {}
  },
  {
   "cell_type": "markdown",
   "source": [
    "### The ***DoGSiteScorer*** Helper-Class\n",
    "\n",
    "*DoGSiteScorer* provides a web-service <a href=\"https://proteins.plus/help/dogsite_rest\">API</a>. \n",
    "This can be used to submit binding-site detection jobs, either \n",
    "* by providing the PDB-code of protein structure, \n",
    "* or by uploading its PDB file. \n",
    "\n",
    "It returns a table of all detected pockets and sub-pockets and their corresponding descriptors. For each detected (sub-)pocket, \n",
    "* a PDB file is provided\n",
    "* and a <a href=\"https://www.ccp4.ac.uk/html/maplib.html#description\">CCP4</a> map file is generated. \n",
    "\n",
    "These can be downloaded and used to define the coordinates of the (sub-)pocket needed for the docking calculation and visualization. The function ***select_best_pocket*** is also defined which provides several methods for selecting the most suitable binding-site.\n",
    "\n",
    "***Note:*** For a demonstration of each function, see the <a href=\"#dogsitescorer_demo\">corresponding section</a> in *Supplementary Information*."
   ],
   "metadata": {}
  },
  {
   "cell_type": "markdown",
   "source": [
    "### Implementing The Pipeline's ***BindingSiteDetection*** Class\n",
    "\n",
    "Now, we can automate the binding-site detection process by importing the ***BindingSiteDetection*** class of the pipeline. Depending on the input specifications, operations are carried out to output the coordinates of the selected binding site based on the input data."
   ],
   "metadata": {}
  },
  {
   "cell_type": "markdown",
   "source": [
    "**Automatically Calculating the Binding Site** \n",
    "\n",
    "We can now instantiate the ***BindingSiteDetection*** class using \n",
    "* the ***Protein*** object, \n",
    "* the ***Specs.BindingSite*** object, \n",
    "* and the binding-site output path of our project. \n",
    "\n",
    "This will automatically run all the processes needed to define the binding site, based on the specifications in the input data. The results will then be stored as instance attributes in the instantiated ***BindingSiteDetection*** object. "
   ],
   "metadata": {}
  },
  {
   "cell_type": "code",
   "execution_count": 19,
   "source": [
    "from utils import DoGSiteScorer, BindingSiteDetection\n",
    "\n",
    "project1.BindingSiteDetection = BindingSiteDetection(\n",
    "    project1.Protein,\n",
    "    project1.Specs.BindingSite,\n",
    "    project1.Specs.OutputPaths.binding_site_detection,\n",
    ")"
   ],
   "outputs": [],
   "metadata": {}
  },
  {
   "cell_type": "markdown",
   "source": [
    "All intermediate information leading to the selected binding-pocket's coordinates is now stored in the ***BindingSiteDetection*** instance of our project.\n",
    "\n",
    "For example, a dataframe containing all retrieved information on all detected binding sites:"
   ],
   "metadata": {}
  },
  {
   "cell_type": "code",
   "execution_count": 20,
   "source": [
    "project1.BindingSiteDetection.dogsitescorer_binding_sites_df.head()\n",
    "\n",
    "# NBVAL_CHECK_OUTPUT"
   ],
   "outputs": [
    {
     "output_type": "execute_result",
     "data": {
      "text/plain": [
       "       lig_cov  poc_cov    lig_name   volume  enclosure  surface  depth  \\\n",
       "name                                                                      \n",
       "P_0      85.48    31.22  W32_A_1101  1422.66       0.10  1673.75  19.26   \n",
       "P_0_0    85.48    73.90  W32_A_1101   599.23       0.06   540.06  17.51   \n",
       "P_0_1     3.23     0.44  W32_A_1101   201.73       0.08   381.07  11.36   \n",
       "P_0_2     0.00     0.00  W32_A_1101   185.60       0.17   282.00   9.35   \n",
       "P_0_3     6.45     0.29  W32_A_1101   175.30       0.15   297.42   9.29   \n",
       "\n",
       "       surf/vol lid/hull ellVol  ell c/a  ell b/a  siteAtms  accept  donor  \\\n",
       "name                                                                         \n",
       "P_0    1.176493        -      -     0.13     0.67       288      86     40   \n",
       "P_0_0  0.901257        -      -     0.14     0.22       131      35     13   \n",
       "P_0_1  1.889010        -      -     0.17     0.25        51      17      9   \n",
       "P_0_2  1.519397        -      -     0.45     0.55        48      17      8   \n",
       "P_0_3  1.696634        -      -     0.23     0.37        48      16      8   \n",
       "\n",
       "       hydrophobic_interactions  hydrophobicity  metal   Cs  Ns  Os  Ss  Xs  \\\n",
       "name                                                                          \n",
       "P_0                          71            0.36      0  198  45  41   4   0   \n",
       "P_0_0                        25            0.34      0   95  16  17   3   0   \n",
       "P_0_1                        10            0.28      0   36   6   7   2   0   \n",
       "P_0_2                        12            0.32      0   31   8   8   1   0   \n",
       "P_0_3                        14            0.37      0   32   8   8   0   0   \n",
       "\n",
       "       negAA  posAA  polarAA  apolarAA  ALA  ARG  ASN  ASP  CYS  GLN  GLU  \\\n",
       "name                                                                        \n",
       "P_0     0.10   0.13     0.24      0.53    4    5    2    5    2    2    1   \n",
       "P_0_0   0.03   0.10     0.28      0.59    1    2    1    1    2    1    0   \n",
       "P_0_1   0.08   0.17     0.25      0.50    1    1    0    1    1    1    0   \n",
       "P_0_2   0.17   0.25     0.08      0.50    0    2    0    1    0    0    1   \n",
       "P_0_3   0.14   0.14     0.36      0.36    1    1    1    2    0    0    0   \n",
       "\n",
       "       GLY  HIS  ILE  LEU  LYS  MET  PHE  PRO  SER  THR  TRP  TYR  VAL  \\\n",
       "name                                                                     \n",
       "P_0      5    0    3   12    3    2    3    3    1    2    1    1    5   \n",
       "P_0_0    2    0    2    7    1    2    2    1    0    2    0    0    2   \n",
       "P_0_1    0    0    0    3    1    1    0    0    0    1    0    0    1   \n",
       "P_0_2    1    0    0    2    1    1    1    0    0    0    0    0    2   \n",
       "P_0_3    3    0    0    1    1    0    1    1    1    0    0    0    1   \n",
       "\n",
       "       simpleScore  drugScore  \\\n",
       "name                            \n",
       "P_0           0.63   0.810023   \n",
       "P_0_0         0.59   0.620201   \n",
       "P_0_1         0.17   0.174816   \n",
       "P_0_2         0.13   0.195695   \n",
       "P_0_3         0.13   0.168845   \n",
       "\n",
       "                                                                            pdb_file_url  \\\n",
       "name                                                                                       \n",
       "P_0      https://proteins.plus/results/dogsite/SrKhwW3ofBbJqVQSCbLLkoeU/3w32_P_0_res.pdb   \n",
       "P_0_0  https://proteins.plus/results/dogsite/SrKhwW3ofBbJqVQSCbLLkoeU/3w32_P_0_0_res.pdb   \n",
       "P_0_1  https://proteins.plus/results/dogsite/SrKhwW3ofBbJqVQSCbLLkoeU/3w32_P_0_1_res.pdb   \n",
       "P_0_2  https://proteins.plus/results/dogsite/SrKhwW3ofBbJqVQSCbLLkoeU/3w32_P_0_2_res.pdb   \n",
       "P_0_3  https://proteins.plus/results/dogsite/SrKhwW3ofBbJqVQSCbLLkoeU/3w32_P_0_3_res.pdb   \n",
       "\n",
       "                                                                                  ccp4_file_url  \n",
       "name                                                                                             \n",
       "P_0      https://proteins.plus/results/dogsite/SrKhwW3ofBbJqVQSCbLLkoeU/3w32_P_0_gpsAll.ccp4.gz  \n",
       "P_0_0  https://proteins.plus/results/dogsite/SrKhwW3ofBbJqVQSCbLLkoeU/3w32_P_0_0_gpsAll.ccp4.gz  \n",
       "P_0_1  https://proteins.plus/results/dogsite/SrKhwW3ofBbJqVQSCbLLkoeU/3w32_P_0_1_gpsAll.ccp4.gz  \n",
       "P_0_2  https://proteins.plus/results/dogsite/SrKhwW3ofBbJqVQSCbLLkoeU/3w32_P_0_2_gpsAll.ccp4.gz  \n",
       "P_0_3  https://proteins.plus/results/dogsite/SrKhwW3ofBbJqVQSCbLLkoeU/3w32_P_0_3_gpsAll.ccp4.gz  "
      ],
      "text/html": [
       "<div>\n",
       "<style scoped>\n",
       "    .dataframe tbody tr th:only-of-type {\n",
       "        vertical-align: middle;\n",
       "    }\n",
       "\n",
       "    .dataframe tbody tr th {\n",
       "        vertical-align: top;\n",
       "    }\n",
       "\n",
       "    .dataframe thead th {\n",
       "        text-align: right;\n",
       "    }\n",
       "</style>\n",
       "<table border=\"1\" class=\"dataframe\">\n",
       "  <thead>\n",
       "    <tr style=\"text-align: right;\">\n",
       "      <th></th>\n",
       "      <th>lig_cov</th>\n",
       "      <th>poc_cov</th>\n",
       "      <th>lig_name</th>\n",
       "      <th>volume</th>\n",
       "      <th>enclosure</th>\n",
       "      <th>surface</th>\n",
       "      <th>depth</th>\n",
       "      <th>surf/vol</th>\n",
       "      <th>lid/hull</th>\n",
       "      <th>ellVol</th>\n",
       "      <th>ell c/a</th>\n",
       "      <th>ell b/a</th>\n",
       "      <th>siteAtms</th>\n",
       "      <th>accept</th>\n",
       "      <th>donor</th>\n",
       "      <th>hydrophobic_interactions</th>\n",
       "      <th>hydrophobicity</th>\n",
       "      <th>metal</th>\n",
       "      <th>Cs</th>\n",
       "      <th>Ns</th>\n",
       "      <th>Os</th>\n",
       "      <th>Ss</th>\n",
       "      <th>Xs</th>\n",
       "      <th>negAA</th>\n",
       "      <th>posAA</th>\n",
       "      <th>polarAA</th>\n",
       "      <th>apolarAA</th>\n",
       "      <th>ALA</th>\n",
       "      <th>ARG</th>\n",
       "      <th>ASN</th>\n",
       "      <th>ASP</th>\n",
       "      <th>CYS</th>\n",
       "      <th>GLN</th>\n",
       "      <th>GLU</th>\n",
       "      <th>GLY</th>\n",
       "      <th>HIS</th>\n",
       "      <th>ILE</th>\n",
       "      <th>LEU</th>\n",
       "      <th>LYS</th>\n",
       "      <th>MET</th>\n",
       "      <th>PHE</th>\n",
       "      <th>PRO</th>\n",
       "      <th>SER</th>\n",
       "      <th>THR</th>\n",
       "      <th>TRP</th>\n",
       "      <th>TYR</th>\n",
       "      <th>VAL</th>\n",
       "      <th>simpleScore</th>\n",
       "      <th>drugScore</th>\n",
       "      <th>pdb_file_url</th>\n",
       "      <th>ccp4_file_url</th>\n",
       "    </tr>\n",
       "    <tr>\n",
       "      <th>name</th>\n",
       "      <th></th>\n",
       "      <th></th>\n",
       "      <th></th>\n",
       "      <th></th>\n",
       "      <th></th>\n",
       "      <th></th>\n",
       "      <th></th>\n",
       "      <th></th>\n",
       "      <th></th>\n",
       "      <th></th>\n",
       "      <th></th>\n",
       "      <th></th>\n",
       "      <th></th>\n",
       "      <th></th>\n",
       "      <th></th>\n",
       "      <th></th>\n",
       "      <th></th>\n",
       "      <th></th>\n",
       "      <th></th>\n",
       "      <th></th>\n",
       "      <th></th>\n",
       "      <th></th>\n",
       "      <th></th>\n",
       "      <th></th>\n",
       "      <th></th>\n",
       "      <th></th>\n",
       "      <th></th>\n",
       "      <th></th>\n",
       "      <th></th>\n",
       "      <th></th>\n",
       "      <th></th>\n",
       "      <th></th>\n",
       "      <th></th>\n",
       "      <th></th>\n",
       "      <th></th>\n",
       "      <th></th>\n",
       "      <th></th>\n",
       "      <th></th>\n",
       "      <th></th>\n",
       "      <th></th>\n",
       "      <th></th>\n",
       "      <th></th>\n",
       "      <th></th>\n",
       "      <th></th>\n",
       "      <th></th>\n",
       "      <th></th>\n",
       "      <th></th>\n",
       "      <th></th>\n",
       "      <th></th>\n",
       "      <th></th>\n",
       "      <th></th>\n",
       "    </tr>\n",
       "  </thead>\n",
       "  <tbody>\n",
       "    <tr>\n",
       "      <th>P_0</th>\n",
       "      <td>85.48</td>\n",
       "      <td>31.22</td>\n",
       "      <td>W32_A_1101</td>\n",
       "      <td>1422.66</td>\n",
       "      <td>0.10</td>\n",
       "      <td>1673.75</td>\n",
       "      <td>19.26</td>\n",
       "      <td>1.176493</td>\n",
       "      <td>-</td>\n",
       "      <td>-</td>\n",
       "      <td>0.13</td>\n",
       "      <td>0.67</td>\n",
       "      <td>288</td>\n",
       "      <td>86</td>\n",
       "      <td>40</td>\n",
       "      <td>71</td>\n",
       "      <td>0.36</td>\n",
       "      <td>0</td>\n",
       "      <td>198</td>\n",
       "      <td>45</td>\n",
       "      <td>41</td>\n",
       "      <td>4</td>\n",
       "      <td>0</td>\n",
       "      <td>0.10</td>\n",
       "      <td>0.13</td>\n",
       "      <td>0.24</td>\n",
       "      <td>0.53</td>\n",
       "      <td>4</td>\n",
       "      <td>5</td>\n",
       "      <td>2</td>\n",
       "      <td>5</td>\n",
       "      <td>2</td>\n",
       "      <td>2</td>\n",
       "      <td>1</td>\n",
       "      <td>5</td>\n",
       "      <td>0</td>\n",
       "      <td>3</td>\n",
       "      <td>12</td>\n",
       "      <td>3</td>\n",
       "      <td>2</td>\n",
       "      <td>3</td>\n",
       "      <td>3</td>\n",
       "      <td>1</td>\n",
       "      <td>2</td>\n",
       "      <td>1</td>\n",
       "      <td>1</td>\n",
       "      <td>5</td>\n",
       "      <td>0.63</td>\n",
       "      <td>0.810023</td>\n",
       "      <td>https://proteins.plus/results/dogsite/SrKhwW3ofBbJqVQSCbLLkoeU/3w32_P_0_res.pdb</td>\n",
       "      <td>https://proteins.plus/results/dogsite/SrKhwW3ofBbJqVQSCbLLkoeU/3w32_P_0_gpsAll.ccp4.gz</td>\n",
       "    </tr>\n",
       "    <tr>\n",
       "      <th>P_0_0</th>\n",
       "      <td>85.48</td>\n",
       "      <td>73.90</td>\n",
       "      <td>W32_A_1101</td>\n",
       "      <td>599.23</td>\n",
       "      <td>0.06</td>\n",
       "      <td>540.06</td>\n",
       "      <td>17.51</td>\n",
       "      <td>0.901257</td>\n",
       "      <td>-</td>\n",
       "      <td>-</td>\n",
       "      <td>0.14</td>\n",
       "      <td>0.22</td>\n",
       "      <td>131</td>\n",
       "      <td>35</td>\n",
       "      <td>13</td>\n",
       "      <td>25</td>\n",
       "      <td>0.34</td>\n",
       "      <td>0</td>\n",
       "      <td>95</td>\n",
       "      <td>16</td>\n",
       "      <td>17</td>\n",
       "      <td>3</td>\n",
       "      <td>0</td>\n",
       "      <td>0.03</td>\n",
       "      <td>0.10</td>\n",
       "      <td>0.28</td>\n",
       "      <td>0.59</td>\n",
       "      <td>1</td>\n",
       "      <td>2</td>\n",
       "      <td>1</td>\n",
       "      <td>1</td>\n",
       "      <td>2</td>\n",
       "      <td>1</td>\n",
       "      <td>0</td>\n",
       "      <td>2</td>\n",
       "      <td>0</td>\n",
       "      <td>2</td>\n",
       "      <td>7</td>\n",
       "      <td>1</td>\n",
       "      <td>2</td>\n",
       "      <td>2</td>\n",
       "      <td>1</td>\n",
       "      <td>0</td>\n",
       "      <td>2</td>\n",
       "      <td>0</td>\n",
       "      <td>0</td>\n",
       "      <td>2</td>\n",
       "      <td>0.59</td>\n",
       "      <td>0.620201</td>\n",
       "      <td>https://proteins.plus/results/dogsite/SrKhwW3ofBbJqVQSCbLLkoeU/3w32_P_0_0_res.pdb</td>\n",
       "      <td>https://proteins.plus/results/dogsite/SrKhwW3ofBbJqVQSCbLLkoeU/3w32_P_0_0_gpsAll.ccp4.gz</td>\n",
       "    </tr>\n",
       "    <tr>\n",
       "      <th>P_0_1</th>\n",
       "      <td>3.23</td>\n",
       "      <td>0.44</td>\n",
       "      <td>W32_A_1101</td>\n",
       "      <td>201.73</td>\n",
       "      <td>0.08</td>\n",
       "      <td>381.07</td>\n",
       "      <td>11.36</td>\n",
       "      <td>1.889010</td>\n",
       "      <td>-</td>\n",
       "      <td>-</td>\n",
       "      <td>0.17</td>\n",
       "      <td>0.25</td>\n",
       "      <td>51</td>\n",
       "      <td>17</td>\n",
       "      <td>9</td>\n",
       "      <td>10</td>\n",
       "      <td>0.28</td>\n",
       "      <td>0</td>\n",
       "      <td>36</td>\n",
       "      <td>6</td>\n",
       "      <td>7</td>\n",
       "      <td>2</td>\n",
       "      <td>0</td>\n",
       "      <td>0.08</td>\n",
       "      <td>0.17</td>\n",
       "      <td>0.25</td>\n",
       "      <td>0.50</td>\n",
       "      <td>1</td>\n",
       "      <td>1</td>\n",
       "      <td>0</td>\n",
       "      <td>1</td>\n",
       "      <td>1</td>\n",
       "      <td>1</td>\n",
       "      <td>0</td>\n",
       "      <td>0</td>\n",
       "      <td>0</td>\n",
       "      <td>0</td>\n",
       "      <td>3</td>\n",
       "      <td>1</td>\n",
       "      <td>1</td>\n",
       "      <td>0</td>\n",
       "      <td>0</td>\n",
       "      <td>0</td>\n",
       "      <td>1</td>\n",
       "      <td>0</td>\n",
       "      <td>0</td>\n",
       "      <td>1</td>\n",
       "      <td>0.17</td>\n",
       "      <td>0.174816</td>\n",
       "      <td>https://proteins.plus/results/dogsite/SrKhwW3ofBbJqVQSCbLLkoeU/3w32_P_0_1_res.pdb</td>\n",
       "      <td>https://proteins.plus/results/dogsite/SrKhwW3ofBbJqVQSCbLLkoeU/3w32_P_0_1_gpsAll.ccp4.gz</td>\n",
       "    </tr>\n",
       "    <tr>\n",
       "      <th>P_0_2</th>\n",
       "      <td>0.00</td>\n",
       "      <td>0.00</td>\n",
       "      <td>W32_A_1101</td>\n",
       "      <td>185.60</td>\n",
       "      <td>0.17</td>\n",
       "      <td>282.00</td>\n",
       "      <td>9.35</td>\n",
       "      <td>1.519397</td>\n",
       "      <td>-</td>\n",
       "      <td>-</td>\n",
       "      <td>0.45</td>\n",
       "      <td>0.55</td>\n",
       "      <td>48</td>\n",
       "      <td>17</td>\n",
       "      <td>8</td>\n",
       "      <td>12</td>\n",
       "      <td>0.32</td>\n",
       "      <td>0</td>\n",
       "      <td>31</td>\n",
       "      <td>8</td>\n",
       "      <td>8</td>\n",
       "      <td>1</td>\n",
       "      <td>0</td>\n",
       "      <td>0.17</td>\n",
       "      <td>0.25</td>\n",
       "      <td>0.08</td>\n",
       "      <td>0.50</td>\n",
       "      <td>0</td>\n",
       "      <td>2</td>\n",
       "      <td>0</td>\n",
       "      <td>1</td>\n",
       "      <td>0</td>\n",
       "      <td>0</td>\n",
       "      <td>1</td>\n",
       "      <td>1</td>\n",
       "      <td>0</td>\n",
       "      <td>0</td>\n",
       "      <td>2</td>\n",
       "      <td>1</td>\n",
       "      <td>1</td>\n",
       "      <td>1</td>\n",
       "      <td>0</td>\n",
       "      <td>0</td>\n",
       "      <td>0</td>\n",
       "      <td>0</td>\n",
       "      <td>0</td>\n",
       "      <td>2</td>\n",
       "      <td>0.13</td>\n",
       "      <td>0.195695</td>\n",
       "      <td>https://proteins.plus/results/dogsite/SrKhwW3ofBbJqVQSCbLLkoeU/3w32_P_0_2_res.pdb</td>\n",
       "      <td>https://proteins.plus/results/dogsite/SrKhwW3ofBbJqVQSCbLLkoeU/3w32_P_0_2_gpsAll.ccp4.gz</td>\n",
       "    </tr>\n",
       "    <tr>\n",
       "      <th>P_0_3</th>\n",
       "      <td>6.45</td>\n",
       "      <td>0.29</td>\n",
       "      <td>W32_A_1101</td>\n",
       "      <td>175.30</td>\n",
       "      <td>0.15</td>\n",
       "      <td>297.42</td>\n",
       "      <td>9.29</td>\n",
       "      <td>1.696634</td>\n",
       "      <td>-</td>\n",
       "      <td>-</td>\n",
       "      <td>0.23</td>\n",
       "      <td>0.37</td>\n",
       "      <td>48</td>\n",
       "      <td>16</td>\n",
       "      <td>8</td>\n",
       "      <td>14</td>\n",
       "      <td>0.37</td>\n",
       "      <td>0</td>\n",
       "      <td>32</td>\n",
       "      <td>8</td>\n",
       "      <td>8</td>\n",
       "      <td>0</td>\n",
       "      <td>0</td>\n",
       "      <td>0.14</td>\n",
       "      <td>0.14</td>\n",
       "      <td>0.36</td>\n",
       "      <td>0.36</td>\n",
       "      <td>1</td>\n",
       "      <td>1</td>\n",
       "      <td>1</td>\n",
       "      <td>2</td>\n",
       "      <td>0</td>\n",
       "      <td>0</td>\n",
       "      <td>0</td>\n",
       "      <td>3</td>\n",
       "      <td>0</td>\n",
       "      <td>0</td>\n",
       "      <td>1</td>\n",
       "      <td>1</td>\n",
       "      <td>0</td>\n",
       "      <td>1</td>\n",
       "      <td>1</td>\n",
       "      <td>1</td>\n",
       "      <td>0</td>\n",
       "      <td>0</td>\n",
       "      <td>0</td>\n",
       "      <td>1</td>\n",
       "      <td>0.13</td>\n",
       "      <td>0.168845</td>\n",
       "      <td>https://proteins.plus/results/dogsite/SrKhwW3ofBbJqVQSCbLLkoeU/3w32_P_0_3_res.pdb</td>\n",
       "      <td>https://proteins.plus/results/dogsite/SrKhwW3ofBbJqVQSCbLLkoeU/3w32_P_0_3_gpsAll.ccp4.gz</td>\n",
       "    </tr>\n",
       "  </tbody>\n",
       "</table>\n",
       "</div>"
      ]
     },
     "metadata": {},
     "execution_count": 20
    }
   ],
   "metadata": {}
  },
  {
   "cell_type": "markdown",
   "source": [
    "The name of the selected binding site:"
   ],
   "metadata": {}
  },
  {
   "cell_type": "code",
   "execution_count": 21,
   "source": [
    "project1.BindingSiteDetection.best_binding_site_name\n",
    "\n",
    "# NBVAL_CHECK_OUTPUT"
   ],
   "outputs": [
    {
     "output_type": "execute_result",
     "data": {
      "text/plain": [
       "'P_0_0'"
      ]
     },
     "metadata": {},
     "execution_count": 21
    }
   ],
   "metadata": {}
  },
  {
   "cell_type": "markdown",
   "source": [
    "The coordinates of the binding site are also assigned to the ***Protein*** object in the project:"
   ],
   "metadata": {}
  },
  {
   "cell_type": "code",
   "execution_count": 22,
   "source": [
    "project1.Protein.binding_site_coordinates\n",
    "\n",
    "# NBVAL_CHECK_OUTPUT"
   ],
   "outputs": [
    {
     "output_type": "execute_result",
     "data": {
      "text/plain": [
       "{'center': [15.91, 32.33, 11.03], 'size': [24.84, 24.84, 24.84]}"
      ]
     },
     "metadata": {},
     "execution_count": 22
    }
   ],
   "metadata": {}
  },
  {
   "cell_type": "markdown",
   "source": [
    "We can also visualize the binding pocket:"
   ],
   "metadata": {}
  },
  {
   "cell_type": "code",
   "execution_count": 23,
   "source": [
    "project1.BindingSiteDetection.visualize_best()"
   ],
   "outputs": [
    {
     "output_type": "display_data",
     "data": {
      "text/plain": [
       "NGLWidget()"
      ],
      "application/vnd.jupyter.widget-view+json": {
       "version_major": 2,
       "version_minor": 0,
       "model_id": "89cf2d71e8e14e9084358d20f7a634c9"
      }
     },
     "metadata": {}
    }
   ],
   "metadata": {
    "tags": []
   }
  },
  {
   "cell_type": "markdown",
   "source": [
    "Or any other binding pocket by providing its name (`project1.BindingSiteDetection.visualize(\"P_0\")`)."
   ],
   "metadata": {}
  },
  {
   "cell_type": "markdown",
   "source": [
    "<a id='6_practical'></a>\n",
    "\n",
    "## Ligand Similarity Search\n",
    "\n",
    "With the coordinates of the protein's binding-site in hand, we now focus on the ligand similarity-search part of the pipeline. To perform a similarity-search, we will use the *PubChem* webserver. We have already imported all the required functions to perform the similarity-search in the ***PubChem*** helper-class that we used for developing the ***Ligand*** class. We can now directly commence with importing the ***LigandSimilaritySearch*** class of the pipeline.\n",
    "\n",
    "Again, for a demonstration of each function, see the <a href=\"#dogsitescorer_demo\">corresponding section</a> in *Supplementary Information*."
   ],
   "metadata": {}
  },
  {
   "cell_type": "markdown",
   "source": [
    "### Implementing The Pipeline's ***LigandSimilaritySearch*** Class\n",
    "\n",
    "Here the similarity-search process of the pipeline is automated. This class will take in the ***Ligand*** object and the ***Specs.LigandSimilaritySearch*** object of the pipeline and initialize a similarity search using the *PubChem* webserver. Several drug-likeness scores are calculated for each of the analogs retrieved. Using these scores, a given number (specified in the input file) of most drug-like analogs are then selected and used to create ***Ligand*** objects with the help of the ***Ligand*** class that we used earlier. "
   ],
   "metadata": {}
  },
  {
   "cell_type": "markdown",
   "source": [
    "**Finding Structural Analogs of the Input Ligand**\n",
    "\n",
    "By instantiating the ***LigandSimilaritySearch*** class with the ***Ligand*** object and the ***Specs.LigandSimilaritySearch*** data-class of the project, analogs are automatically found and turned to ***Ligand*** objects. These are assigned as an instance attribute to the ***LigandSimilaritySearch*** class as well as the input ***Ligand*** object. For this project, this process will take ***about 2 minutes*** to complete. \n",
    "\n",
    "We instantiate the class and assign it to our project:"
   ],
   "metadata": {}
  },
  {
   "cell_type": "code",
   "execution_count": 24,
   "source": [
    "from utils import LigandSimilaritySearch\n",
    "\n",
    "project1.LigandSimilaritySearch = LigandSimilaritySearch(\n",
    "    project1.Ligand,\n",
    "    project1.Specs.LigandSimilaritySearch,\n",
    "    project1.Specs.OutputPaths.similarity_search,\n",
    ")"
   ],
   "outputs": [],
   "metadata": {}
  },
  {
   "cell_type": "markdown",
   "source": [
    "Now, we can view the full list of all fetched analogs, their calculated physiochemical properties and drug-likeness scores. "
   ],
   "metadata": {}
  },
  {
   "cell_type": "code",
   "execution_count": 25,
   "source": [
    "project1.LigandSimilaritySearch.all_analogs.shape"
   ],
   "outputs": [
    {
     "output_type": "execute_result",
     "data": {
      "text/plain": [
       "(30, 14)"
      ]
     },
     "metadata": {},
     "execution_count": 25
    }
   ],
   "metadata": {}
  },
  {
   "cell_type": "code",
   "execution_count": 26,
   "source": [
    "project1.LigandSimilaritySearch.all_analogs.head()\n",
    "\n",
    "# NBVAL_CHECK_OUTPUT"
   ],
   "outputs": [
    {
     "output_type": "execute_result",
     "data": {
      "text/plain": [
       "                                                     CanonicalSMILES  \\\n",
       "CID                                                                    \n",
       "4705                   COC1=C(C=C2C(=C1)C(=NC=N2)NC3=CC(=CC=C3)Br)OC   \n",
       "62274                             CC1=CC2=C(C=CC=N2)C3=C1N(C(=N3)N)C   \n",
       "7019                                C1=CC=C2C(=C1)C(=C3C=CC=CC3=N2)N   \n",
       "2723800  CC1=CC2=C(C=C1N)[N+](=C3C=C(C(=CC3=N2)C)N)C4=CC=CC=C4.[Cl-]   \n",
       "62389                               C1=CC=C(C=C1)CNC2=NC=NC3=C2NC=N3   \n",
       "\n",
       "                                                                                                                                                                                                             Mol  \\\n",
       "CID                                                                                                                                                                                                                \n",
       "4705     <img data-content=\"rdkit/molecule\" src=\"data:image/png;base64,iVBORw0KGgoAAAANSUhEUgAAAMgAAADICAIAAAAiOjnJAAAABmJLR0QA/wD/AP+gvaeTAAAZsElEQVR4nO3deXxM9/4/8NdMJpO1QigSNAiVTHJtqSAJgiBa1WqFG1drSyVV0v...   \n",
       "62274    <img data-content=\"rdkit/molecule\" src=\"data:image/png;base64,iVBORw0KGgoAAAANSUhEUgAAAMgAAADICAIAAAAiOjnJAAAABmJLR0QA/wD/AP+gvaeTAAAbVklEQVR4nO2deVwTV9fHT1gMiyhrEEUFWheoghRBLVK1alXEtSJVQa3aKiLY1q...   \n",
       "7019     <img data-content=\"rdkit/molecule\" src=\"data:image/png;base64,iVBORw0KGgoAAAANSUhEUgAAAMgAAADICAIAAAAiOjnJAAAABmJLR0QA/wD/AP+gvaeTAAAQ+klEQVR4nO3dbUyUVxYH8DMIKCoC1lIBUYpVwKJgsdI3oaVsgTo2/VDMLinJbh...   \n",
       "2723800  <img data-content=\"rdkit/molecule\" src=\"data:image/png;base64,iVBORw0KGgoAAAANSUhEUgAAAMgAAADICAIAAAAiOjnJAAAABmJLR0QA/wD/AP+gvaeTAAAWhklEQVR4nO2dfVxUVf7HvwPDMwKKCYKupjyYYJEmi6Jhxm5QYLkt+VsLe1k5ld...   \n",
       "62389    <img data-content=\"rdkit/molecule\" src=\"data:image/png;base64,iVBORw0KGgoAAAANSUhEUgAAAMgAAADICAIAAAAiOjnJAAAABmJLR0QA/wD/AP+gvaeTAAAYpUlEQVR4nO2de1yUVf7HPzPcBkUEERElbUVBNFgVUxdNpdBaxTRXNKO8pKJdnN...   \n",
       "\n",
       "         dice_similarity  mol_weight  num_H_acceptors  num_H_donors  logp  \\\n",
       "CID                                                                         \n",
       "4705                0.80     360.211                5             1  4.15   \n",
       "62274               0.34     212.256                4             1  2.01   \n",
       "7019                0.33     194.237                2             1  2.97   \n",
       "2723800             0.33     350.853                3             2  0.45   \n",
       "62389               0.32     225.255                4             2  1.96   \n",
       "\n",
       "          tpsa  num_rot_bonds  saturation  drug_score_qed  \\\n",
       "CID                                                         \n",
       "4705     56.27              4        0.12            0.76   \n",
       "62274    56.73              0        0.17            0.62   \n",
       "7019     38.91              0        0.00            0.56   \n",
       "2723800  68.81              1        0.10            0.30   \n",
       "62389    66.49              3        0.08            0.71   \n",
       "\n",
       "         drug_score_lipinski  drug_score_custom  drug_score_total  \n",
       "CID                                                                \n",
       "4705                     1.0               0.74              0.79  \n",
       "62274                    1.0               0.70              0.71  \n",
       "7019                     1.0               0.63              0.66  \n",
       "2723800                  1.0               0.70              0.55  \n",
       "62389                    1.0               0.76              0.78  "
      ],
      "text/html": [
       "<div>\n",
       "<style scoped>\n",
       "    .dataframe tbody tr th:only-of-type {\n",
       "        vertical-align: middle;\n",
       "    }\n",
       "\n",
       "    .dataframe tbody tr th {\n",
       "        vertical-align: top;\n",
       "    }\n",
       "\n",
       "    .dataframe thead th {\n",
       "        text-align: right;\n",
       "    }\n",
       "</style>\n",
       "<table border=\"1\" class=\"dataframe\">\n",
       "  <thead>\n",
       "    <tr style=\"text-align: right;\">\n",
       "      <th></th>\n",
       "      <th>CanonicalSMILES</th>\n",
       "      <th>Mol</th>\n",
       "      <th>dice_similarity</th>\n",
       "      <th>mol_weight</th>\n",
       "      <th>num_H_acceptors</th>\n",
       "      <th>num_H_donors</th>\n",
       "      <th>logp</th>\n",
       "      <th>tpsa</th>\n",
       "      <th>num_rot_bonds</th>\n",
       "      <th>saturation</th>\n",
       "      <th>drug_score_qed</th>\n",
       "      <th>drug_score_lipinski</th>\n",
       "      <th>drug_score_custom</th>\n",
       "      <th>drug_score_total</th>\n",
       "    </tr>\n",
       "    <tr>\n",
       "      <th>CID</th>\n",
       "      <th></th>\n",
       "      <th></th>\n",
       "      <th></th>\n",
       "      <th></th>\n",
       "      <th></th>\n",
       "      <th></th>\n",
       "      <th></th>\n",
       "      <th></th>\n",
       "      <th></th>\n",
       "      <th></th>\n",
       "      <th></th>\n",
       "      <th></th>\n",
       "      <th></th>\n",
       "      <th></th>\n",
       "    </tr>\n",
       "  </thead>\n",
       "  <tbody>\n",
       "    <tr>\n",
       "      <th>4705</th>\n",
       "      <td>COC1=C(C=C2C(=C1)C(=NC=N2)NC3=CC(=CC=C3)Br)OC</td>\n",
       "      <td><img data-content=\"rdkit/molecule\" src=\"data:image/png;base64,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\" alt=\"Mol\"/></td>\n",
       "      <td>0.80</td>\n",
       "      <td>360.211</td>\n",
       "      <td>5</td>\n",
       "      <td>1</td>\n",
       "      <td>4.15</td>\n",
       "      <td>56.27</td>\n",
       "      <td>4</td>\n",
       "      <td>0.12</td>\n",
       "      <td>0.76</td>\n",
       "      <td>1.0</td>\n",
       "      <td>0.74</td>\n",
       "      <td>0.79</td>\n",
       "    </tr>\n",
       "    <tr>\n",
       "      <th>62274</th>\n",
       "      <td>CC1=CC2=C(C=CC=N2)C3=C1N(C(=N3)N)C</td>\n",
       "      <td><img data-content=\"rdkit/molecule\" src=\"data:image/png;base64,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\" alt=\"Mol\"/></td>\n",
       "      <td>0.34</td>\n",
       "      <td>212.256</td>\n",
       "      <td>4</td>\n",
       "      <td>1</td>\n",
       "      <td>2.01</td>\n",
       "      <td>56.73</td>\n",
       "      <td>0</td>\n",
       "      <td>0.17</td>\n",
       "      <td>0.62</td>\n",
       "      <td>1.0</td>\n",
       "      <td>0.70</td>\n",
       "      <td>0.71</td>\n",
       "    </tr>\n",
       "    <tr>\n",
       "      <th>7019</th>\n",
       "      <td>C1=CC=C2C(=C1)C(=C3C=CC=CC3=N2)N</td>\n",
       "      <td><img data-content=\"rdkit/molecule\" src=\"data:image/png;base64,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\" alt=\"Mol\"/></td>\n",
       "      <td>0.33</td>\n",
       "      <td>194.237</td>\n",
       "      <td>2</td>\n",
       "      <td>1</td>\n",
       "      <td>2.97</td>\n",
       "      <td>38.91</td>\n",
       "      <td>0</td>\n",
       "      <td>0.00</td>\n",
       "      <td>0.56</td>\n",
       "      <td>1.0</td>\n",
       "      <td>0.63</td>\n",
       "      <td>0.66</td>\n",
       "    </tr>\n",
       "    <tr>\n",
       "      <th>2723800</th>\n",
       "      <td>CC1=CC2=C(C=C1N)[N+](=C3C=C(C(=CC3=N2)C)N)C4=CC=CC=C4.[Cl-]</td>\n",
       "      <td><img data-content=\"rdkit/molecule\" src=\"data:image/png;base64,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\" alt=\"Mol\"/></td>\n",
       "      <td>0.33</td>\n",
       "      <td>350.853</td>\n",
       "      <td>3</td>\n",
       "      <td>2</td>\n",
       "      <td>0.45</td>\n",
       "      <td>68.81</td>\n",
       "      <td>1</td>\n",
       "      <td>0.10</td>\n",
       "      <td>0.30</td>\n",
       "      <td>1.0</td>\n",
       "      <td>0.70</td>\n",
       "      <td>0.55</td>\n",
       "    </tr>\n",
       "    <tr>\n",
       "      <th>62389</th>\n",
       "      <td>C1=CC=C(C=C1)CNC2=NC=NC3=C2NC=N3</td>\n",
       "      <td><img data-content=\"rdkit/molecule\" src=\"data:image/png;base64,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\" alt=\"Mol\"/></td>\n",
       "      <td>0.32</td>\n",
       "      <td>225.255</td>\n",
       "      <td>4</td>\n",
       "      <td>2</td>\n",
       "      <td>1.96</td>\n",
       "      <td>66.49</td>\n",
       "      <td>3</td>\n",
       "      <td>0.08</td>\n",
       "      <td>0.71</td>\n",
       "      <td>1.0</td>\n",
       "      <td>0.76</td>\n",
       "      <td>0.78</td>\n",
       "    </tr>\n",
       "  </tbody>\n",
       "</table>\n",
       "</div>"
      ]
     },
     "metadata": {},
     "execution_count": 26
    }
   ],
   "metadata": {}
  },
  {
   "cell_type": "markdown",
   "source": [
    "From these analogs, a certain number of most drug-like compounds are selected according to the input specifications.  These selected analogs are then turned into ***Ligand*** objects and assigned to the input ***Ligand*** under the attribute name ***analogs***: "
   ],
   "metadata": {}
  },
  {
   "cell_type": "code",
   "execution_count": 27,
   "source": [
    "project1.Ligand.analogs\n",
    "\n",
    "# NBVAL_CHECK_OUTPUT"
   ],
   "outputs": [
    {
     "output_type": "execute_result",
     "data": {
      "text/plain": [
       "{'65997': <Ligand CID: 65997>,\n",
       " '2435': <Ligand CID: 2435>,\n",
       " '57469': <Ligand CID: 57469>,\n",
       " '4705': <Ligand CID: 4705>,\n",
       " '5011': <Ligand CID: 5011>,\n",
       " '62389': <Ligand CID: 62389>,\n",
       " '11292933': <Ligand CID: 11292933>,\n",
       " '1530': <Ligand CID: 1530>,\n",
       " '214347': <Ligand CID: 214347>,\n",
       " '11256587': <Ligand CID: 11256587>,\n",
       " '1935': <Ligand CID: 1935>,\n",
       " '62274': <Ligand CID: 62274>,\n",
       " '53462': <Ligand CID: 53462>,\n",
       " '6451164': <Ligand CID: 6451164>,\n",
       " '62275': <Ligand CID: 62275>,\n",
       " '7019': <Ligand CID: 7019>,\n",
       " '62805': <Ligand CID: 62805>,\n",
       " '675': <Ligand CID: 675>,\n",
       " '5546': <Ligand CID: 5546>,\n",
       " '135398510': <Ligand CID: 135398510>}"
      ]
     },
     "metadata": {},
     "execution_count": 27
    }
   ],
   "metadata": {}
  },
  {
   "cell_type": "markdown",
   "source": [
    "The list contains ***Ligand*** objects corresponding to each analog found. Each analog has thus its own attributes and methods, just like our input ***Ligand***, which can be accessed separately via the analog's CID. For example:"
   ],
   "metadata": {}
  },
  {
   "cell_type": "code",
   "execution_count": 28,
   "source": [
    "project1.Ligand.analogs[\"65997\"]()\n",
    "\n",
    "# NBVAL_CHECK_OUTPUT"
   ],
   "outputs": [
    {
     "output_type": "execute_result",
     "data": {
      "text/plain": [
       "                                                                                                                                                                                                                                                                                                                                Value\n",
       "Structure                                                                                                                                                                                                Property                                                                                                                    \n",
       "<img data-content=\"rdkit/molecule\" src=\"data:image/png;base64,iVBORw0KGgoAAAANSUhEUgAAAMgAAADICAIAAAAiOjnJAAAABmJLR0QA/wD/AP+gvaeTAAAd80lEQVR4nO2deVxUR7bHz+1mXxQBUSFGwSWAGnQUdUSNCRA3IOoMcdwS13aZiIm... name                                                                                                              Lerisetron\n",
       "                                                                                                                                                                                                         iupac_name                                                                            1-benzyl-2-piperazin-1-ylbenzimidazole\n",
       "                                                                                                                                                                                                         smiles                                                                               C1CN(CCN1)C2=NC3=CC=CC=C3N2CC4=CC=CC=C4\n",
       "                                                                                                                                                                                                         cid                                                                                                                    65997\n",
       "                                                                                                                                                                                                         inchi                InChI=1S/C18H20N4/c1-2-6-15(7-3-1)14-22-17-9-5-4-8-16(17)20-18(22)21-12-10-19-11-13-21/h1-9,19H,10-14H2\n",
       "                                                                                                                                                                                                         inchikey                                                                                         PWWDCRQZITYKDV-UHFFFAOYSA-N\n",
       "                                                                                                                                                                                                         mol_weight                                                                                                           292.386\n",
       "                                                                                                                                                                                                         num_H_acceptors                                                                                                            4\n",
       "                                                                                                                                                                                                         num_H_donors                                                                                                               1\n",
       "                                                                                                                                                                                                         logp                                                                                                                    2.49\n",
       "                                                                                                                                                                                                         tpsa                                                                                                                   33.09\n",
       "                                                                                                                                                                                                         num_rot_bonds                                                                                                              3\n",
       "                                                                                                                                                                                                         saturation                                                                                                              0.28\n",
       "                                                                                                                                                                                                         drug_score_qed                                                                                                           0.8\n",
       "                                                                                                                                                                                                         drug_score_lipinski                                                                                                      1.0\n",
       "                                                                                                                                                                                                         drug_score_custom                                                                                                       0.81\n",
       "                                                                                                                                                                                                         drug_score_total                                                                                                        0.84\n",
       "                                                                                                                                                                                                         similarity                                                                                                              0.19"
      ],
      "text/html": [
       "<div>\n",
       "<style scoped>\n",
       "    .dataframe tbody tr th:only-of-type {\n",
       "        vertical-align: middle;\n",
       "    }\n",
       "\n",
       "    .dataframe tbody tr th {\n",
       "        vertical-align: top;\n",
       "    }\n",
       "\n",
       "    .dataframe thead th {\n",
       "        text-align: right;\n",
       "    }\n",
       "</style>\n",
       "<table border=\"1\" class=\"dataframe\">\n",
       "  <thead>\n",
       "    <tr style=\"text-align: right;\">\n",
       "      <th></th>\n",
       "      <th></th>\n",
       "      <th>Value</th>\n",
       "    </tr>\n",
       "    <tr>\n",
       "      <th>Structure</th>\n",
       "      <th>Property</th>\n",
       "      <th></th>\n",
       "    </tr>\n",
       "  </thead>\n",
       "  <tbody>\n",
       "    <tr>\n",
       "      <th rowspan=\"18\" valign=\"top\"><img data-content=\"rdkit/molecule\" src=\"data:image/png;base64,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\" alt=\"Mol\"/></th>\n",
       "      <th>name</th>\n",
       "      <td>Lerisetron</td>\n",
       "    </tr>\n",
       "    <tr>\n",
       "      <th>iupac_name</th>\n",
       "      <td>1-benzyl-2-piperazin-1-ylbenzimidazole</td>\n",
       "    </tr>\n",
       "    <tr>\n",
       "      <th>smiles</th>\n",
       "      <td>C1CN(CCN1)C2=NC3=CC=CC=C3N2CC4=CC=CC=C4</td>\n",
       "    </tr>\n",
       "    <tr>\n",
       "      <th>cid</th>\n",
       "      <td>65997</td>\n",
       "    </tr>\n",
       "    <tr>\n",
       "      <th>inchi</th>\n",
       "      <td>InChI=1S/C18H20N4/c1-2-6-15(7-3-1)14-22-17-9-5-4-8-16(17)20-18(22)21-12-10-19-11-13-21/h1-9,19H,10-14H2</td>\n",
       "    </tr>\n",
       "    <tr>\n",
       "      <th>inchikey</th>\n",
       "      <td>PWWDCRQZITYKDV-UHFFFAOYSA-N</td>\n",
       "    </tr>\n",
       "    <tr>\n",
       "      <th>mol_weight</th>\n",
       "      <td>292.386</td>\n",
       "    </tr>\n",
       "    <tr>\n",
       "      <th>num_H_acceptors</th>\n",
       "      <td>4</td>\n",
       "    </tr>\n",
       "    <tr>\n",
       "      <th>num_H_donors</th>\n",
       "      <td>1</td>\n",
       "    </tr>\n",
       "    <tr>\n",
       "      <th>logp</th>\n",
       "      <td>2.49</td>\n",
       "    </tr>\n",
       "    <tr>\n",
       "      <th>tpsa</th>\n",
       "      <td>33.09</td>\n",
       "    </tr>\n",
       "    <tr>\n",
       "      <th>num_rot_bonds</th>\n",
       "      <td>3</td>\n",
       "    </tr>\n",
       "    <tr>\n",
       "      <th>saturation</th>\n",
       "      <td>0.28</td>\n",
       "    </tr>\n",
       "    <tr>\n",
       "      <th>drug_score_qed</th>\n",
       "      <td>0.8</td>\n",
       "    </tr>\n",
       "    <tr>\n",
       "      <th>drug_score_lipinski</th>\n",
       "      <td>1.0</td>\n",
       "    </tr>\n",
       "    <tr>\n",
       "      <th>drug_score_custom</th>\n",
       "      <td>0.81</td>\n",
       "    </tr>\n",
       "    <tr>\n",
       "      <th>drug_score_total</th>\n",
       "      <td>0.84</td>\n",
       "    </tr>\n",
       "    <tr>\n",
       "      <th>similarity</th>\n",
       "      <td>0.19</td>\n",
       "    </tr>\n",
       "  </tbody>\n",
       "</table>\n",
       "</div>"
      ]
     },
     "metadata": {},
     "execution_count": 28
    }
   ],
   "metadata": {}
  },
  {
   "cell_type": "markdown",
   "source": [
    "<a id='7_practical'></a>\n",
    "\n",
    "## Molecular Docking \n",
    "\n",
    "We now have successfully \n",
    "* defined the binding site of our input protein \n",
    "* and found a list of analogs for our input ligand. \n",
    "\n",
    "The next step in the pipeline is to perform docking calculations on the protein binding site using the ligand analogs. "
   ],
   "metadata": {}
  },
  {
   "cell_type": "markdown",
   "source": [
    "The used helper classes:\n",
    "\n",
    "* ***OBabel*** helper class: Here, the **<a href=\"https://github.com/pybel/pybel\">Pybel</a>** package of the **<a href=\"http://openbabel.org/wiki/Main_Page\">OpenBabel</a>** program is used in order to implement the functions needed to prepare the protein and the ligand analogs for docking.\n",
    "* ***Smina*** helper class: For docking, we are going to use the <a href=\"https://sourceforge.net/projects/smina/\">***Smina***</a> program. It does not have a Python-API but we can simply communicate with the program via shell commands. Contained within the class is a function to read the output log of the program and extract useful data. "
   ],
   "metadata": {}
  },
  {
   "cell_type": "markdown",
   "source": [
    "### The Pipeline's ***Docking*** Class\n",
    "\n",
    "\n",
    "Finally, the ***Docking*** class is implemented and automatically performs docking calculations on all provided ligands.\n"
   ],
   "metadata": {}
  },
  {
   "cell_type": "markdown",
   "source": [
    "**Performing Docking Experiments on The Selected Analogs**\n",
    "\n",
    "\n",
    "By instantiating the ***Docking*** class with \n",
    "* the ***Protein*** object, \n",
    "* the list of analogs\n",
    "* and the ***Specs.Docking*** data class of the project, \n",
    "\n",
    "analogs are automatically docked into the protein and results are stored separately for each docking pose. \n",
    "\n",
    "Other meaningful information is extracted from the results of all docking poses for each analog and stored separately. This is the most computationally intense process of the pipeline and will take ***5 to 10 minutes*** (for 20 ligands) to complete.\n",
    "\n",
    "We instantiate the class and assign it to our project:\n"
   ],
   "metadata": {}
  },
  {
   "cell_type": "code",
   "execution_count": 29,
   "source": [
    "from utils import OBabel, Smina, Docking\n",
    "\n",
    "project1.Docking = Docking(\n",
    "    project1.Protein,\n",
    "    list(project1.Ligand.analogs.values()),\n",
    "    project1.Specs.Docking,\n",
    "    project1.Specs.OutputPaths.docking,\n",
    ")"
   ],
   "outputs": [
    {
     "output_type": "stream",
     "name": "stderr",
     "text": [
      "==============================\n",
      "*** Open Babel Warning  in PerceiveBondOrders\n",
      "  Failed to kekulize aromatic bonds in OBMol::PerceiveBondOrders (title is data/Outputs/Project1_EGFR_CHEMBL328216/5_Docking/3W32_extracted_protein.pdb)\n",
      "\n",
      "==============================\n",
      "*** Open Babel Warning  in PerceiveBondOrders\n",
      "  Failed to kekulize aromatic bonds in OBMol::PerceiveBondOrders (title is =)\n",
      "\n",
      "==============================\n",
      "*** Open Babel Warning  in PerceiveBondOrders\n",
      "  Failed to kekulize aromatic bonds in OBMol::PerceiveBondOrders (title is =)\n",
      "\n",
      "==============================\n",
      "*** Open Babel Warning  in PerceiveBondOrders\n",
      "  Failed to kekulize aromatic bonds in OBMol::PerceiveBondOrders (title is =)\n",
      "\n",
      "==============================\n",
      "*** Open Babel Warning  in PerceiveBondOrders\n",
      "  Failed to kekulize aromatic bonds in OBMol::PerceiveBondOrders (title is =)\n",
      "\n",
      "==============================\n",
      "*** Open Babel Warning  in PerceiveBondOrders\n",
      "  Failed to kekulize aromatic bonds in OBMol::PerceiveBondOrders (title is =)\n",
      "\n"
     ]
    }
   ],
   "metadata": {
    "tags": []
   }
  },
  {
   "cell_type": "markdown",
   "source": [
    "We can now view all the calculated docking results for each docking pose of each analog. "
   ],
   "metadata": {}
  },
  {
   "cell_type": "code",
   "execution_count": 31,
   "source": [
    "project1.Docking.results_dataframe.sort_values(by=\"affinity[kcal/mol]\").head()\n",
    "\n",
    "# NBVAL_CHECK_OUTPUT"
   ],
   "outputs": [
    {
     "output_type": "execute_result",
     "data": {
      "text/plain": [
       "                affinity[kcal/mol]  dist from best mode_rmsd_l.b  \\\n",
       "CID       mode                                                     \n",
       "11292933  1                  -10.3                         0.000   \n",
       "          2                  -10.2                         1.379   \n",
       "135398510 1                  -10.0                         0.000   \n",
       "11292933  3                  -10.0                         1.777   \n",
       "          4                   -9.8                         1.681   \n",
       "\n",
       "                dist from best mode_rmsd_u.b  drug_score_total  \n",
       "CID       mode                                                  \n",
       "11292933  1                            0.000              0.77  \n",
       "          2                            2.437              0.77  \n",
       "135398510 1                            0.000              0.62  \n",
       "11292933  3                            1.941              0.77  \n",
       "          4                            1.971              0.77  "
      ],
      "text/html": [
       "<div>\n",
       "<style scoped>\n",
       "    .dataframe tbody tr th:only-of-type {\n",
       "        vertical-align: middle;\n",
       "    }\n",
       "\n",
       "    .dataframe tbody tr th {\n",
       "        vertical-align: top;\n",
       "    }\n",
       "\n",
       "    .dataframe thead th {\n",
       "        text-align: right;\n",
       "    }\n",
       "</style>\n",
       "<table border=\"1\" class=\"dataframe\">\n",
       "  <thead>\n",
       "    <tr style=\"text-align: right;\">\n",
       "      <th></th>\n",
       "      <th></th>\n",
       "      <th>affinity[kcal/mol]</th>\n",
       "      <th>dist from best mode_rmsd_l.b</th>\n",
       "      <th>dist from best mode_rmsd_u.b</th>\n",
       "      <th>drug_score_total</th>\n",
       "    </tr>\n",
       "    <tr>\n",
       "      <th>CID</th>\n",
       "      <th>mode</th>\n",
       "      <th></th>\n",
       "      <th></th>\n",
       "      <th></th>\n",
       "      <th></th>\n",
       "    </tr>\n",
       "  </thead>\n",
       "  <tbody>\n",
       "    <tr>\n",
       "      <th rowspan=\"2\" valign=\"top\">11292933</th>\n",
       "      <th>1</th>\n",
       "      <td>-10.3</td>\n",
       "      <td>0.000</td>\n",
       "      <td>0.000</td>\n",
       "      <td>0.77</td>\n",
       "    </tr>\n",
       "    <tr>\n",
       "      <th>2</th>\n",
       "      <td>-10.2</td>\n",
       "      <td>1.379</td>\n",
       "      <td>2.437</td>\n",
       "      <td>0.77</td>\n",
       "    </tr>\n",
       "    <tr>\n",
       "      <th>135398510</th>\n",
       "      <th>1</th>\n",
       "      <td>-10.0</td>\n",
       "      <td>0.000</td>\n",
       "      <td>0.000</td>\n",
       "      <td>0.62</td>\n",
       "    </tr>\n",
       "    <tr>\n",
       "      <th rowspan=\"2\" valign=\"top\">11292933</th>\n",
       "      <th>3</th>\n",
       "      <td>-10.0</td>\n",
       "      <td>1.777</td>\n",
       "      <td>1.941</td>\n",
       "      <td>0.77</td>\n",
       "    </tr>\n",
       "    <tr>\n",
       "      <th>4</th>\n",
       "      <td>-9.8</td>\n",
       "      <td>1.681</td>\n",
       "      <td>1.971</td>\n",
       "      <td>0.77</td>\n",
       "    </tr>\n",
       "  </tbody>\n",
       "</table>\n",
       "</div>"
      ]
     },
     "metadata": {},
     "execution_count": 31
    }
   ],
   "metadata": {}
  },
  {
   "cell_type": "markdown",
   "source": [
    "From the Smina output we obtain ```affinity``` which is the estimated binding affinity from the docking score, calculations of pose distances from the best predicted binding mode matched using different methods (```best mode_rmsd_l.b``` and ```best mode_rmsd_u.b```) and ```drug_score_total```, a combination of drug-likedness scores.\n",
    "\n",
    "<details>\n",
    "\n",
    "<summary> Click here for additional information about the Smina output </summary> \n",
    "\n",
    "From the [Vina manual](http://vina.scripps.edu/manual.html)\n",
    "\n",
    "RMSD values are calculated relative to the best mode and use only movable heavy atoms. Two variants of RMSD metrics are provided, rmsd/lb (RMSD lower bound) and rmsd/ub (RMSD upper bound), differing in how the atoms are matched in the distance calculation:\n",
    "\n",
    "* rmsd/ub (upper bound) matches each atom in one conformation with itself in the other conformation, ignoring any symmetry\n",
    "* rmsd/lb (lower bound)is defined as follows: rmsd/lb(c1, c2) = max(rmsd'(c1, c2), rmsd'(c2, c1)) i.e. a match between each atom in one conformation with the *closest* atom of the same element type in the other conformation.\n",
    "\n",
    "```drug_score_total``` is calculated from three drug-likedness scores:\n",
    "\n",
    "* Lipinski's rule of 5 (normalized, i.e. 4 = 1, 3 = 0.75, 2 = 0.5, 1 = 0.25, 0 = 0)\n",
    "* Quantitative Estimate of Drug-likeness (QED) calculated by RDKit using default parameters\n",
    "* QED calculated by implementing functions that fit experimental data from Bickerton et al **2012** (see references)\n",
    "</details>"
   ],
   "metadata": {}
  },
  {
   "cell_type": "markdown",
   "source": [
    "Alternatively, by accessing a specific analog, we can view the full results for that analog using the attribute ***dataframe_docking***:"
   ],
   "metadata": {}
  },
  {
   "cell_type": "code",
   "execution_count": 32,
   "source": [
    "project1.Ligand.analogs[\"11292933\"].dataframe_docking\n",
    "\n",
    "# NBVAL_CHECK_OUTPUT"
   ],
   "outputs": [
    {
     "output_type": "execute_result",
     "data": {
      "text/plain": [
       "      affinity[kcal/mol]  dist from best mode_rmsd_l.b  \\\n",
       "mode                                                     \n",
       "1                  -10.3                         0.000   \n",
       "2                  -10.2                         1.379   \n",
       "3                  -10.0                         1.777   \n",
       "4                   -9.8                         1.681   \n",
       "5                   -9.7                         2.727   \n",
       "\n",
       "      dist from best mode_rmsd_u.b  \n",
       "mode                                \n",
       "1                            0.000  \n",
       "2                            2.437  \n",
       "3                            1.941  \n",
       "4                            1.971  \n",
       "5                           10.127  "
      ],
      "text/html": [
       "<div>\n",
       "<style scoped>\n",
       "    .dataframe tbody tr th:only-of-type {\n",
       "        vertical-align: middle;\n",
       "    }\n",
       "\n",
       "    .dataframe tbody tr th {\n",
       "        vertical-align: top;\n",
       "    }\n",
       "\n",
       "    .dataframe thead th {\n",
       "        text-align: right;\n",
       "    }\n",
       "</style>\n",
       "<table border=\"1\" class=\"dataframe\">\n",
       "  <thead>\n",
       "    <tr style=\"text-align: right;\">\n",
       "      <th></th>\n",
       "      <th>affinity[kcal/mol]</th>\n",
       "      <th>dist from best mode_rmsd_l.b</th>\n",
       "      <th>dist from best mode_rmsd_u.b</th>\n",
       "    </tr>\n",
       "    <tr>\n",
       "      <th>mode</th>\n",
       "      <th></th>\n",
       "      <th></th>\n",
       "      <th></th>\n",
       "    </tr>\n",
       "  </thead>\n",
       "  <tbody>\n",
       "    <tr>\n",
       "      <th>1</th>\n",
       "      <td>-10.3</td>\n",
       "      <td>0.000</td>\n",
       "      <td>0.000</td>\n",
       "    </tr>\n",
       "    <tr>\n",
       "      <th>2</th>\n",
       "      <td>-10.2</td>\n",
       "      <td>1.379</td>\n",
       "      <td>2.437</td>\n",
       "    </tr>\n",
       "    <tr>\n",
       "      <th>3</th>\n",
       "      <td>-10.0</td>\n",
       "      <td>1.777</td>\n",
       "      <td>1.941</td>\n",
       "    </tr>\n",
       "    <tr>\n",
       "      <th>4</th>\n",
       "      <td>-9.8</td>\n",
       "      <td>1.681</td>\n",
       "      <td>1.971</td>\n",
       "    </tr>\n",
       "    <tr>\n",
       "      <th>5</th>\n",
       "      <td>-9.7</td>\n",
       "      <td>2.727</td>\n",
       "      <td>10.127</td>\n",
       "    </tr>\n",
       "  </tbody>\n",
       "</table>\n",
       "</div>"
      ]
     },
     "metadata": {},
     "execution_count": 32
    }
   ],
   "metadata": {}
  },
  {
   "cell_type": "markdown",
   "source": [
    "A summary of the docking results (e.g. highest/mean binding affinities) are also added to the main dataframe of each analog and can be viewed by calling its object.     "
   ],
   "metadata": {}
  },
  {
   "cell_type": "code",
   "execution_count": 38,
   "source": [
    "project1.Ligand.analogs[\"11292933\"]().tail(7)\n",
    "\n",
    "# NBVAL_CHECK_OUTPUT"
   ],
   "outputs": [
    {
     "output_type": "execute_result",
     "data": {
      "text/plain": [
       "                                                                                                                                                                                                                                             Value\n",
       "Structure                                                                                                                                                                                                Property                                 \n",
       "<img data-content=\"rdkit/molecule\" src=\"data:image/png;base64,iVBORw0KGgoAAAANSUhEUgAAAMgAAADICAIAAAAiOjnJAAAABmJLR0QA/wD/AP+gvaeTAAAaVElEQVR4nO3deVgT194H8F8IRDYVClVBrBTFhSCiEVxQsWL1qlxFLa8WBfVaQUV... binding_affinity_best               -10.3\n",
       "                                                                                                                                                                                                         binding_affinity_mean               -10.0\n",
       "                                                                                                                                                                                                         binding_affinity_std             0.254951\n",
       "                                                                                                                                                                                                         docking_poses_dist_rmsd_lb_mean    1.5128\n",
       "                                                                                                                                                                                                         docking_poses_dist_rmsd_lb_std   0.984739\n",
       "                                                                                                                                                                                                         docking_poses_dist_rmsd_ub_mean    3.2952\n",
       "                                                                                                                                                                                                         docking_poses_dist_rmsd_ub_std    3.93242"
      ],
      "text/html": [
       "<div>\n",
       "<style scoped>\n",
       "    .dataframe tbody tr th:only-of-type {\n",
       "        vertical-align: middle;\n",
       "    }\n",
       "\n",
       "    .dataframe tbody tr th {\n",
       "        vertical-align: top;\n",
       "    }\n",
       "\n",
       "    .dataframe thead th {\n",
       "        text-align: right;\n",
       "    }\n",
       "</style>\n",
       "<table border=\"1\" class=\"dataframe\">\n",
       "  <thead>\n",
       "    <tr style=\"text-align: right;\">\n",
       "      <th></th>\n",
       "      <th></th>\n",
       "      <th>Value</th>\n",
       "    </tr>\n",
       "    <tr>\n",
       "      <th>Structure</th>\n",
       "      <th>Property</th>\n",
       "      <th></th>\n",
       "    </tr>\n",
       "  </thead>\n",
       "  <tbody>\n",
       "    <tr>\n",
       "      <th rowspan=\"7\" valign=\"top\"><img data-content=\"rdkit/molecule\" src=\"data:image/png;base64,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\" alt=\"Mol\"/></th>\n",
       "      <th>binding_affinity_best</th>\n",
       "      <td>-10.3</td>\n",
       "    </tr>\n",
       "    <tr>\n",
       "      <th>binding_affinity_mean</th>\n",
       "      <td>-10.0</td>\n",
       "    </tr>\n",
       "    <tr>\n",
       "      <th>binding_affinity_std</th>\n",
       "      <td>0.254951</td>\n",
       "    </tr>\n",
       "    <tr>\n",
       "      <th>docking_poses_dist_rmsd_lb_mean</th>\n",
       "      <td>1.5128</td>\n",
       "    </tr>\n",
       "    <tr>\n",
       "      <th>docking_poses_dist_rmsd_lb_std</th>\n",
       "      <td>0.984739</td>\n",
       "    </tr>\n",
       "    <tr>\n",
       "      <th>docking_poses_dist_rmsd_ub_mean</th>\n",
       "      <td>3.2952</td>\n",
       "    </tr>\n",
       "    <tr>\n",
       "      <th>docking_poses_dist_rmsd_ub_std</th>\n",
       "      <td>3.93242</td>\n",
       "    </tr>\n",
       "  </tbody>\n",
       "</table>\n",
       "</div>"
      ]
     },
     "metadata": {},
     "execution_count": 38
    }
   ],
   "metadata": {
    "tags": []
   }
  },
  {
   "cell_type": "markdown",
   "source": [
    "The same summary results are also added as instance attributes for each object:\n",
    "    "
   ],
   "metadata": {}
  },
  {
   "cell_type": "code",
   "execution_count": 34,
   "source": [
    "project1.Ligand.analogs[\"11292933\"].binding_affinity_best\n",
    "\n",
    "# NBVAL_CHECK_OUTPUT"
   ],
   "outputs": [
    {
     "output_type": "execute_result",
     "data": {
      "text/plain": [
       "-10.3"
      ]
     },
     "metadata": {},
     "execution_count": 34
    }
   ],
   "metadata": {}
  },
  {
   "cell_type": "markdown",
   "source": [
    "The ***NGLView*** helper-class provides additional methods to the ***Docking*** class for visualization of the docked poses. For example, we can view all docked poses together in an interactive way using the ***visualize_all_poses*** method. In this method, poses are sorted by their binding affinities and labeled by their CID and corresponding pose number. By selecting an analog from the menu below, the viewer automatically shows the protein residues in close proximity (i.e. 6 Å) of the ligand, as well as its corresponding binding affinity.\n",
    "\n",
    "If we are interested in visualization of a certain analog's docking poses, we can use the ***visualize_analog_poses*** method instead, and provide the analog's CID.\n",
    "    "
   ],
   "metadata": {}
  },
  {
   "cell_type": "code",
   "execution_count": 35,
   "source": [
    "project1.Docking.visualize_all_poses()"
   ],
   "outputs": [
    {
     "output_type": "stream",
     "name": "stdout",
     "text": [
      "Docking modes\n",
      "(CID - mode)\n"
     ]
    },
    {
     "output_type": "display_data",
     "data": {
      "text/plain": [
       "AppLayout(children=(Select(layout=Layout(flex='flex-grow', grid_area='left-sidebar', width='auto'), options=((…"
      ],
      "application/vnd.jupyter.widget-view+json": {
       "version_major": 2,
       "version_minor": 0,
       "model_id": "d6315c7838b1414ca23e8c96d2009a0c"
      }
     },
     "metadata": {}
    }
   ],
   "metadata": {}
  },
  {
   "cell_type": "markdown",
   "source": [
    "Now let's separately dock the input ligand in order to be able to compare the results later and see how the analog poses compare to the starting ligand.\n",
    "    "
   ],
   "metadata": {}
  },
  {
   "cell_type": "code",
   "execution_count": 36,
   "source": [
    "project1.Ligand.Docking = Docking(\n",
    "    project1.Protein,\n",
    "    [project1.Ligand],\n",
    "    project1.Specs.Docking,\n",
    "    project1.Specs.OutputPaths.ligand,\n",
    ")"
   ],
   "outputs": [
    {
     "output_type": "stream",
     "name": "stderr",
     "text": [
      "==============================\n",
      "*** Open Babel Warning  in PerceiveBondOrders\n",
      "  Failed to kekulize aromatic bonds in OBMol::PerceiveBondOrders (title is data/Outputs/Project1_EGFR_CHEMBL328216/2_Ligand/3W32_extracted_protein.pdb)\n",
      "\n"
     ]
    }
   ],
   "metadata": {}
  },
  {
   "cell_type": "markdown",
   "source": [
    "Similar to the analogs, the docking results of the input ligand is also stored in it's object. \n",
    "\n",
    "For example, to see the docking dataframe:\n",
    "   "
   ],
   "metadata": {}
  },
  {
   "cell_type": "code",
   "execution_count": 37,
   "source": [
    "project1.Ligand.dataframe_docking\n",
    "\n",
    "# NBVAL_CHECK_OUTPUT"
   ],
   "outputs": [
    {
     "output_type": "execute_result",
     "data": {
      "text/plain": [
       "      affinity[kcal/mol]  dist from best mode_rmsd_l.b  \\\n",
       "mode                                                     \n",
       "1                   -8.5                         0.000   \n",
       "2                   -8.5                         3.772   \n",
       "3                   -8.5                         1.230   \n",
       "4                   -8.4                         3.668   \n",
       "5                   -8.2                         4.352   \n",
       "\n",
       "      dist from best mode_rmsd_u.b  \n",
       "mode                                \n",
       "1                            0.000  \n",
       "2                            5.308  \n",
       "3                            1.632  \n",
       "4                            5.309  \n",
       "5                            6.785  "
      ],
      "text/html": [
       "<div>\n",
       "<style scoped>\n",
       "    .dataframe tbody tr th:only-of-type {\n",
       "        vertical-align: middle;\n",
       "    }\n",
       "\n",
       "    .dataframe tbody tr th {\n",
       "        vertical-align: top;\n",
       "    }\n",
       "\n",
       "    .dataframe thead th {\n",
       "        text-align: right;\n",
       "    }\n",
       "</style>\n",
       "<table border=\"1\" class=\"dataframe\">\n",
       "  <thead>\n",
       "    <tr style=\"text-align: right;\">\n",
       "      <th></th>\n",
       "      <th>affinity[kcal/mol]</th>\n",
       "      <th>dist from best mode_rmsd_l.b</th>\n",
       "      <th>dist from best mode_rmsd_u.b</th>\n",
       "    </tr>\n",
       "    <tr>\n",
       "      <th>mode</th>\n",
       "      <th></th>\n",
       "      <th></th>\n",
       "      <th></th>\n",
       "    </tr>\n",
       "  </thead>\n",
       "  <tbody>\n",
       "    <tr>\n",
       "      <th>1</th>\n",
       "      <td>-8.5</td>\n",
       "      <td>0.000</td>\n",
       "      <td>0.000</td>\n",
       "    </tr>\n",
       "    <tr>\n",
       "      <th>2</th>\n",
       "      <td>-8.5</td>\n",
       "      <td>3.772</td>\n",
       "      <td>5.308</td>\n",
       "    </tr>\n",
       "    <tr>\n",
       "      <th>3</th>\n",
       "      <td>-8.5</td>\n",
       "      <td>1.230</td>\n",
       "      <td>1.632</td>\n",
       "    </tr>\n",
       "    <tr>\n",
       "      <th>4</th>\n",
       "      <td>-8.4</td>\n",
       "      <td>3.668</td>\n",
       "      <td>5.309</td>\n",
       "    </tr>\n",
       "    <tr>\n",
       "      <th>5</th>\n",
       "      <td>-8.2</td>\n",
       "      <td>4.352</td>\n",
       "      <td>6.785</td>\n",
       "    </tr>\n",
       "  </tbody>\n",
       "</table>\n",
       "</div>"
      ]
     },
     "metadata": {},
     "execution_count": 37
    }
   ],
   "metadata": {}
  },
  {
   "cell_type": "markdown",
   "source": [
    "<a id='8_practical'></a>\n",
    "\n",
    "## Analysis of Protein–Ligand Interactions\n",
    "\n",
    "With the docked poses of each analog in hand, we can now focus on analyzing the protein-ligand interactions in each docking pose of each analog. For the analysis, we use the ***PLIP*** package, for which a helper class is defined.\n",
    "\n",
    "In the ***PLIP*** helper class, the <a href=\"https://github.com/pharmai/plip\">PLIP</a> package is used to implement the functions needed to analyze non-covalent protein-ligand interactions. \n",
    "    "
   ],
   "metadata": {}
  },
  {
   "cell_type": "markdown",
   "source": [
    "### The Pipeline's ***InteractionAnalysis*** Class\n",
    "\n",
    "The class automatically calculates all interaction information for each docked pose of each ligand. "
   ],
   "metadata": {}
  },
  {
   "cell_type": "markdown",
   "source": [
    "**Analyzing the Protein-Ligand Interactions in Calculated Docking Poses**\n",
    "\n",
    "The ***InteractionAnalysis*** class can be instantiated by providing \n",
    "* the filepaths of the separated protein structure, \n",
    "* a list of all analogs (as ***Ligand*** objects), \n",
    "* the results dataframe of the docking process, \n",
    "* and the output path for storing the interaction analysis data."
   ],
   "metadata": {
    "tags": []
   }
  },
  {
   "cell_type": "code",
   "execution_count": 39,
   "source": [
    "from utils import PLIP, InteractionAnalysis\n",
    "\n",
    "project1.InteractionAnalysis = InteractionAnalysis(\n",
    "    project1.Docking.pdbqt_filepath_extracted_protein,\n",
    "    project1.Docking.pdb_filepath_extracted_protein,\n",
    "    project1.Protein.residue_number_first,\n",
    "    list(project1.Ligand.analogs.values()),\n",
    "    project1.Docking.master_df,\n",
    "    project1.Specs.InteractionAnalysis,\n",
    "    project1.Specs.OutputPaths.interaction_analysis,\n",
    ")"
   ],
   "outputs": [],
   "metadata": {
    "tags": []
   }
  },
  {
   "cell_type": "markdown",
   "source": [
    "The interactions can now be inspected collectively for all docking poses of all analogs. Here, only the number of interactions are recorded for each interaction type:"
   ],
   "metadata": {}
  },
  {
   "cell_type": "code",
   "execution_count": 40,
   "source": [
    "project1.InteractionAnalysis.results.sort_values(\n",
    "    by=\"total_num_interactions\", ascending=False\n",
    ").head()\n",
    "\n",
    "# NBVAL_CHECK_OUTPUT"
   ],
   "outputs": [
    {
     "output_type": "execute_result",
     "data": {
      "text/plain": [
       "               affinity[kcal/mol]  dist from best mode_rmsd_l.b  \\\n",
       "CID      mode                                                     \n",
       "11256587 5                   -7.9                         2.022   \n",
       "11292933 5                   -9.7                         2.727   \n",
       "62805    2                   -7.2                         2.675   \n",
       "11292933 2                  -10.2                         1.379   \n",
       "1935     1                   -7.3                         0.000   \n",
       "\n",
       "               dist from best mode_rmsd_u.b  drug_score_total  \\\n",
       "CID      mode                                                   \n",
       "11256587 5                            3.551              0.75   \n",
       "11292933 5                           10.127              0.77   \n",
       "62805    2                            5.394              0.65   \n",
       "11292933 2                            2.437              0.77   \n",
       "1935     1                            0.000              0.74   \n",
       "\n",
       "               total_num_interactions  h_bond  hydrophobic  salt_bridge  \\\n",
       "CID      mode                                                             \n",
       "11256587 5                         13       2           10            1   \n",
       "11292933 5                         13       0           13            0   \n",
       "62805    2                         11       4            7            0   \n",
       "11292933 2                         11       2            9            0   \n",
       "1935     1                         10       2            8            0   \n",
       "\n",
       "               water_bridge  pi_stacking  pi_cation  halogen  metal  \n",
       "CID      mode                                                        \n",
       "11256587 5                0            0          0        0      0  \n",
       "11292933 5                0            0          0        0      0  \n",
       "62805    2                0            0          0        0      0  \n",
       "11292933 2                0            0          0        0      0  \n",
       "1935     1                0            0          0        0      0  "
      ],
      "text/html": [
       "<div>\n",
       "<style scoped>\n",
       "    .dataframe tbody tr th:only-of-type {\n",
       "        vertical-align: middle;\n",
       "    }\n",
       "\n",
       "    .dataframe tbody tr th {\n",
       "        vertical-align: top;\n",
       "    }\n",
       "\n",
       "    .dataframe thead th {\n",
       "        text-align: right;\n",
       "    }\n",
       "</style>\n",
       "<table border=\"1\" class=\"dataframe\">\n",
       "  <thead>\n",
       "    <tr style=\"text-align: right;\">\n",
       "      <th></th>\n",
       "      <th></th>\n",
       "      <th>affinity[kcal/mol]</th>\n",
       "      <th>dist from best mode_rmsd_l.b</th>\n",
       "      <th>dist from best mode_rmsd_u.b</th>\n",
       "      <th>drug_score_total</th>\n",
       "      <th>total_num_interactions</th>\n",
       "      <th>h_bond</th>\n",
       "      <th>hydrophobic</th>\n",
       "      <th>salt_bridge</th>\n",
       "      <th>water_bridge</th>\n",
       "      <th>pi_stacking</th>\n",
       "      <th>pi_cation</th>\n",
       "      <th>halogen</th>\n",
       "      <th>metal</th>\n",
       "    </tr>\n",
       "    <tr>\n",
       "      <th>CID</th>\n",
       "      <th>mode</th>\n",
       "      <th></th>\n",
       "      <th></th>\n",
       "      <th></th>\n",
       "      <th></th>\n",
       "      <th></th>\n",
       "      <th></th>\n",
       "      <th></th>\n",
       "      <th></th>\n",
       "      <th></th>\n",
       "      <th></th>\n",
       "      <th></th>\n",
       "      <th></th>\n",
       "      <th></th>\n",
       "    </tr>\n",
       "  </thead>\n",
       "  <tbody>\n",
       "    <tr>\n",
       "      <th>11256587</th>\n",
       "      <th>5</th>\n",
       "      <td>-7.9</td>\n",
       "      <td>2.022</td>\n",
       "      <td>3.551</td>\n",
       "      <td>0.75</td>\n",
       "      <td>13</td>\n",
       "      <td>2</td>\n",
       "      <td>10</td>\n",
       "      <td>1</td>\n",
       "      <td>0</td>\n",
       "      <td>0</td>\n",
       "      <td>0</td>\n",
       "      <td>0</td>\n",
       "      <td>0</td>\n",
       "    </tr>\n",
       "    <tr>\n",
       "      <th>11292933</th>\n",
       "      <th>5</th>\n",
       "      <td>-9.7</td>\n",
       "      <td>2.727</td>\n",
       "      <td>10.127</td>\n",
       "      <td>0.77</td>\n",
       "      <td>13</td>\n",
       "      <td>0</td>\n",
       "      <td>13</td>\n",
       "      <td>0</td>\n",
       "      <td>0</td>\n",
       "      <td>0</td>\n",
       "      <td>0</td>\n",
       "      <td>0</td>\n",
       "      <td>0</td>\n",
       "    </tr>\n",
       "    <tr>\n",
       "      <th>62805</th>\n",
       "      <th>2</th>\n",
       "      <td>-7.2</td>\n",
       "      <td>2.675</td>\n",
       "      <td>5.394</td>\n",
       "      <td>0.65</td>\n",
       "      <td>11</td>\n",
       "      <td>4</td>\n",
       "      <td>7</td>\n",
       "      <td>0</td>\n",
       "      <td>0</td>\n",
       "      <td>0</td>\n",
       "      <td>0</td>\n",
       "      <td>0</td>\n",
       "      <td>0</td>\n",
       "    </tr>\n",
       "    <tr>\n",
       "      <th>11292933</th>\n",
       "      <th>2</th>\n",
       "      <td>-10.2</td>\n",
       "      <td>1.379</td>\n",
       "      <td>2.437</td>\n",
       "      <td>0.77</td>\n",
       "      <td>11</td>\n",
       "      <td>2</td>\n",
       "      <td>9</td>\n",
       "      <td>0</td>\n",
       "      <td>0</td>\n",
       "      <td>0</td>\n",
       "      <td>0</td>\n",
       "      <td>0</td>\n",
       "      <td>0</td>\n",
       "    </tr>\n",
       "    <tr>\n",
       "      <th>1935</th>\n",
       "      <th>1</th>\n",
       "      <td>-7.3</td>\n",
       "      <td>0.000</td>\n",
       "      <td>0.000</td>\n",
       "      <td>0.74</td>\n",
       "      <td>10</td>\n",
       "      <td>2</td>\n",
       "      <td>8</td>\n",
       "      <td>0</td>\n",
       "      <td>0</td>\n",
       "      <td>0</td>\n",
       "      <td>0</td>\n",
       "      <td>0</td>\n",
       "      <td>0</td>\n",
       "    </tr>\n",
       "  </tbody>\n",
       "</table>\n",
       "</div>"
      ]
     },
     "metadata": {},
     "execution_count": 40
    }
   ],
   "metadata": {}
  },
  {
   "cell_type": "markdown",
   "source": [
    "\n",
    "If we are interested in the details of a specific interaction type for a specific docking pose, we can access this information from the corresponding ***Ligand*** objects of the analogs. \n",
    "    \n",
    "For example, accessing the data for hydrophobic interactions of the docking pose 1 of analog 65997 (showing only the 5 first entries):   "
   ],
   "metadata": {}
  },
  {
   "cell_type": "code",
   "execution_count": 59,
   "source": [
    "project1.Ligand.analogs[\"65997\"].docking_pose_1_interactions_hydrophobic.head()\n",
    "\n",
    "# NBVAL_CHECK_OUTPUT"
   ],
   "outputs": [
    {
     "output_type": "execute_result",
     "data": {
      "text/plain": [
       "   RESNR RESTYPE RESCHAIN  RESNR_LIG RESTYPE_LIG RESCHAIN_LIG  DIST  \\\n",
       "0    790     THR        A          1         UNL            A  3.87   \n",
       "1    792     LEU        A          1         UNL            A  4.00   \n",
       "2    844     LEU        A          1         UNL            A  3.73   \n",
       "3    854     THR        A          1         UNL            A  3.86   \n",
       "4    743     ALA        A          1         UNL            A  3.69   \n",
       "\n",
       "   LIGCARBONIDX  PROTCARBONIDX                    LIGCOO  \\\n",
       "0          2566            307  (15.827, 34.162, 10.688)   \n",
       "1          2557           1005  (14.082, 35.162, 16.357)   \n",
       "2          2558           1215   (14.77, 34.277, 15.519)   \n",
       "3          2569           1250  (17.831, 32.471, 11.624)   \n",
       "4          2566            521  (15.827, 34.162, 10.688)   \n",
       "\n",
       "                    PROTCOO  \n",
       "0   (12.237, 33.433, 9.444)  \n",
       "1  (11.186, 37.568, 15.018)  \n",
       "2    (13.961, 30.7, 14.816)  \n",
       "3  (16.714, 28.916, 12.649)  \n",
       "4  (13.145, 36.521, 11.607)  "
      ],
      "text/html": [
       "<div>\n",
       "<style scoped>\n",
       "    .dataframe tbody tr th:only-of-type {\n",
       "        vertical-align: middle;\n",
       "    }\n",
       "\n",
       "    .dataframe tbody tr th {\n",
       "        vertical-align: top;\n",
       "    }\n",
       "\n",
       "    .dataframe thead th {\n",
       "        text-align: right;\n",
       "    }\n",
       "</style>\n",
       "<table border=\"1\" class=\"dataframe\">\n",
       "  <thead>\n",
       "    <tr style=\"text-align: right;\">\n",
       "      <th></th>\n",
       "      <th>RESNR</th>\n",
       "      <th>RESTYPE</th>\n",
       "      <th>RESCHAIN</th>\n",
       "      <th>RESNR_LIG</th>\n",
       "      <th>RESTYPE_LIG</th>\n",
       "      <th>RESCHAIN_LIG</th>\n",
       "      <th>DIST</th>\n",
       "      <th>LIGCARBONIDX</th>\n",
       "      <th>PROTCARBONIDX</th>\n",
       "      <th>LIGCOO</th>\n",
       "      <th>PROTCOO</th>\n",
       "    </tr>\n",
       "  </thead>\n",
       "  <tbody>\n",
       "    <tr>\n",
       "      <th>0</th>\n",
       "      <td>790</td>\n",
       "      <td>THR</td>\n",
       "      <td>A</td>\n",
       "      <td>1</td>\n",
       "      <td>UNL</td>\n",
       "      <td>A</td>\n",
       "      <td>3.87</td>\n",
       "      <td>2566</td>\n",
       "      <td>307</td>\n",
       "      <td>(15.827, 34.162, 10.688)</td>\n",
       "      <td>(12.237, 33.433, 9.444)</td>\n",
       "    </tr>\n",
       "    <tr>\n",
       "      <th>1</th>\n",
       "      <td>792</td>\n",
       "      <td>LEU</td>\n",
       "      <td>A</td>\n",
       "      <td>1</td>\n",
       "      <td>UNL</td>\n",
       "      <td>A</td>\n",
       "      <td>4.00</td>\n",
       "      <td>2557</td>\n",
       "      <td>1005</td>\n",
       "      <td>(14.082, 35.162, 16.357)</td>\n",
       "      <td>(11.186, 37.568, 15.018)</td>\n",
       "    </tr>\n",
       "    <tr>\n",
       "      <th>2</th>\n",
       "      <td>844</td>\n",
       "      <td>LEU</td>\n",
       "      <td>A</td>\n",
       "      <td>1</td>\n",
       "      <td>UNL</td>\n",
       "      <td>A</td>\n",
       "      <td>3.73</td>\n",
       "      <td>2558</td>\n",
       "      <td>1215</td>\n",
       "      <td>(14.77, 34.277, 15.519)</td>\n",
       "      <td>(13.961, 30.7, 14.816)</td>\n",
       "    </tr>\n",
       "    <tr>\n",
       "      <th>3</th>\n",
       "      <td>854</td>\n",
       "      <td>THR</td>\n",
       "      <td>A</td>\n",
       "      <td>1</td>\n",
       "      <td>UNL</td>\n",
       "      <td>A</td>\n",
       "      <td>3.86</td>\n",
       "      <td>2569</td>\n",
       "      <td>1250</td>\n",
       "      <td>(17.831, 32.471, 11.624)</td>\n",
       "      <td>(16.714, 28.916, 12.649)</td>\n",
       "    </tr>\n",
       "    <tr>\n",
       "      <th>4</th>\n",
       "      <td>743</td>\n",
       "      <td>ALA</td>\n",
       "      <td>A</td>\n",
       "      <td>1</td>\n",
       "      <td>UNL</td>\n",
       "      <td>A</td>\n",
       "      <td>3.69</td>\n",
       "      <td>2566</td>\n",
       "      <td>521</td>\n",
       "      <td>(15.827, 34.162, 10.688)</td>\n",
       "      <td>(13.145, 36.521, 11.607)</td>\n",
       "    </tr>\n",
       "  </tbody>\n",
       "</table>\n",
       "</div>"
      ]
     },
     "metadata": {},
     "execution_count": 59
    }
   ],
   "metadata": {}
  },
  {
   "cell_type": "markdown",
   "source": [
    "Or hydrogen-bond interactions of docking pose 2 of analog 11292933:\n",
    "    "
   ],
   "metadata": {}
  },
  {
   "cell_type": "code",
   "execution_count": 53,
   "source": [
    "project1.Ligand.analogs[\"11292933\"].docking_pose_2_interactions_h_bond.head()\n",
    "\n",
    "# NBVAL_CHECK_OUTPUT"
   ],
   "outputs": [
    {
     "output_type": "execute_result",
     "data": {
      "text/plain": [
       "   RESNR RESTYPE RESCHAIN  RESNR_LIG RESTYPE_LIG RESCHAIN_LIG  SIDECHAIN  \\\n",
       "0    855     ASP        A          1         UNL            A      False   \n",
       "1    856     PHE        A          1         UNL            A      False   \n",
       "\n",
       "  DIST_H-A DIST_D-A DON_ANGLE  PROTISDON  DONORIDX DONORTYPE  ACCEPTORIDX  \\\n",
       "0     3.38     3.84    110.79       True        29       Nam         2575   \n",
       "1     2.04     2.89    139.69      False      2575       Nam           20   \n",
       "\n",
       "  ACCEPTORTYPE                   LIGCOO                  PROTCOO  \n",
       "0          Nam  (17.329, 28.265, 5.733)  (17.692, 27.727, 9.517)  \n",
       "1           O2  (17.329, 28.265, 5.733)  (18.707, 25.862, 4.918)  "
      ],
      "text/html": [
       "<div>\n",
       "<style scoped>\n",
       "    .dataframe tbody tr th:only-of-type {\n",
       "        vertical-align: middle;\n",
       "    }\n",
       "\n",
       "    .dataframe tbody tr th {\n",
       "        vertical-align: top;\n",
       "    }\n",
       "\n",
       "    .dataframe thead th {\n",
       "        text-align: right;\n",
       "    }\n",
       "</style>\n",
       "<table border=\"1\" class=\"dataframe\">\n",
       "  <thead>\n",
       "    <tr style=\"text-align: right;\">\n",
       "      <th></th>\n",
       "      <th>RESNR</th>\n",
       "      <th>RESTYPE</th>\n",
       "      <th>RESCHAIN</th>\n",
       "      <th>RESNR_LIG</th>\n",
       "      <th>RESTYPE_LIG</th>\n",
       "      <th>RESCHAIN_LIG</th>\n",
       "      <th>SIDECHAIN</th>\n",
       "      <th>DIST_H-A</th>\n",
       "      <th>DIST_D-A</th>\n",
       "      <th>DON_ANGLE</th>\n",
       "      <th>PROTISDON</th>\n",
       "      <th>DONORIDX</th>\n",
       "      <th>DONORTYPE</th>\n",
       "      <th>ACCEPTORIDX</th>\n",
       "      <th>ACCEPTORTYPE</th>\n",
       "      <th>LIGCOO</th>\n",
       "      <th>PROTCOO</th>\n",
       "    </tr>\n",
       "  </thead>\n",
       "  <tbody>\n",
       "    <tr>\n",
       "      <th>0</th>\n",
       "      <td>855</td>\n",
       "      <td>ASP</td>\n",
       "      <td>A</td>\n",
       "      <td>1</td>\n",
       "      <td>UNL</td>\n",
       "      <td>A</td>\n",
       "      <td>False</td>\n",
       "      <td>3.38</td>\n",
       "      <td>3.84</td>\n",
       "      <td>110.79</td>\n",
       "      <td>True</td>\n",
       "      <td>29</td>\n",
       "      <td>Nam</td>\n",
       "      <td>2575</td>\n",
       "      <td>Nam</td>\n",
       "      <td>(17.329, 28.265, 5.733)</td>\n",
       "      <td>(17.692, 27.727, 9.517)</td>\n",
       "    </tr>\n",
       "    <tr>\n",
       "      <th>1</th>\n",
       "      <td>856</td>\n",
       "      <td>PHE</td>\n",
       "      <td>A</td>\n",
       "      <td>1</td>\n",
       "      <td>UNL</td>\n",
       "      <td>A</td>\n",
       "      <td>False</td>\n",
       "      <td>2.04</td>\n",
       "      <td>2.89</td>\n",
       "      <td>139.69</td>\n",
       "      <td>False</td>\n",
       "      <td>2575</td>\n",
       "      <td>Nam</td>\n",
       "      <td>20</td>\n",
       "      <td>O2</td>\n",
       "      <td>(17.329, 28.265, 5.733)</td>\n",
       "      <td>(18.707, 25.862, 4.918)</td>\n",
       "    </tr>\n",
       "  </tbody>\n",
       "</table>\n",
       "</div>"
      ]
     },
     "metadata": {},
     "execution_count": 53
    }
   ],
   "metadata": {}
  },
  {
   "cell_type": "markdown",
   "source": [
    "Again, a summary of interaction analysis data is also added to each analog's main dataframe. This can be viewed by calling the object here showing only the relevant data, i.e. the last 9 rows:\n",
    "    "
   ],
   "metadata": {}
  },
  {
   "cell_type": "code",
   "execution_count": null,
   "source": [
    "project1.Ligand.analogs[\"11292933\"]().tail(9)\n",
    "\n",
    "# NBVAL_CHECK_OUTPUT"
   ],
   "outputs": [],
   "metadata": {}
  },
  {
   "cell_type": "markdown",
   "source": [
    "Let's use ***plot_interaction_affinity_correlation*** function and see if there is any visible correlation between the calculated binding affinities and the number of interactions for each docking pose:\n",
    "    "
   ],
   "metadata": {}
  },
  {
   "cell_type": "code",
   "execution_count": null,
   "source": [
    "project1.InteractionAnalysis.plot_interaction_affinity_correlation()"
   ],
   "outputs": [],
   "metadata": {}
  },
  {
   "cell_type": "markdown",
   "source": [
    "No obvious correlation is visible between the two sets of data. The number of total interactions is weakly correlated with the binding affinity, albeit with several outliers."
   ],
   "metadata": {}
  },
  {
   "cell_type": "markdown",
   "source": [
    "**Visual Interaction Analysis**\n",
    "\n",
    "Now with the help of the ***NGLView*** helper-class, we have also additional methods in the ***InteractionAnalysis*** class for visualization of the protein-ligand interactions. For example, we can now view the interactions for all docking poses in an interactive way. By selecting each docking pose (labeled by their CID and mode-number and sorted by their binding affinities), all the interacting residues are shown. The interactions are visualized with colored lines for which a color-map is also provided.\n",
    "\n",
    "If we are interested in visualization of a certain analog's interactions, we can use the ***visualize_analog_interactions*** method instead, and provide the analog's CID.\n"
   ],
   "metadata": {}
  },
  {
   "cell_type": "code",
   "execution_count": null,
   "source": [
    "project1.InteractionAnalysis.visualize_all_interactions()"
   ],
   "outputs": [],
   "metadata": {}
  },
  {
   "cell_type": "markdown",
   "source": [
    "**Find Poses With Specific Interactions**\n",
    "\n",
    "We can also search for docked poses displaying a specific set of interactions with specific residues of the protein using the ***find_poses_with_specific_interactions*** method. \n",
    "    \n",
    "For example, many EGFR inhibitors are involved in hydrogen-bonding with the hinge region (in this case residue M793) of the protein. "
   ],
   "metadata": {}
  },
  {
   "cell_type": "code",
   "execution_count": null,
   "source": [
    "desired_interactions = project1.InteractionAnalysis.find_poses_with_specific_interactions(\n",
    "    [[\"h_bond\", 793]], \"any\"\n",
    ")\n",
    "desired_interactions\n",
    "\n",
    "# NBVAL_CHECK_OUTPUT"
   ],
   "outputs": [],
   "metadata": {}
  },
  {
   "cell_type": "markdown",
   "source": [
    "And we can also visualize the results separately instead of looking for them in the menu of the viewer above.    "
   ],
   "metadata": {}
  },
  {
   "cell_type": "code",
   "execution_count": null,
   "source": [
    "project1.InteractionAnalysis.visualize_docking_poses_interactions(desired_interactions)"
   ],
   "outputs": [],
   "metadata": {}
  },
  {
   "cell_type": "markdown",
   "source": [
    "Now let's also analyze the interactions in the docking poses of the input ligand:    "
   ],
   "metadata": {}
  },
  {
   "cell_type": "code",
   "execution_count": null,
   "source": [
    "project1.Ligand.InteractionAnalysis = InteractionAnalysis(\n",
    "    project1.Docking.pdbqt_filepath_extracted_protein,\n",
    "    project1.Docking.pdb_filepath_extracted_protein,\n",
    "    project1.Protein.residue_number_first,\n",
    "    [project1.Ligand],\n",
    "    project1.Ligand.Docking.master_df,\n",
    "    project1.Specs.InteractionAnalysis,\n",
    "    project1.Specs.OutputPaths.ligand,\n",
    ")"
   ],
   "outputs": [],
   "metadata": {}
  },
  {
   "cell_type": "markdown",
   "source": [
    "The results can be viewed in a similar way to the analogs. For example, to view the summary data:    "
   ],
   "metadata": {}
  },
  {
   "cell_type": "code",
   "execution_count": null,
   "source": [
    "project1.Ligand.InteractionAnalysis.results.sort_values(\n",
    "    by=\"total_num_interactions\", ascending=False\n",
    ")\n",
    "\n",
    "# NBVAL_CHECK_OUTPUT"
   ],
   "outputs": [],
   "metadata": {}
  },
  {
   "cell_type": "markdown",
   "source": [
    "<a id='9_practical'></a>\n",
    "\n",
    "## Selection of the Best Ligand\n",
    "\n",
    "At this point, we have carried out all the processes in the pipeline and have gathered all the information in our ***LeadOptimizationPipeline*** instance, i.e. ***project1***. \n",
    "\n",
    "* To recap, we gathered a number of analogs to the input ligand and filtered them to choose those with the highest drug-likeness scores. \n",
    "* We then calculated several docking poses and corresponding binding affinities for each analog and analyzed their interactions with the protein. \n",
    "\n",
    "Now we import a class, ***OptimizedLigands***, which takes in the whole project, and based on the specifications in the input file, selects the best analog. "
   ],
   "metadata": {}
  },
  {
   "cell_type": "code",
   "execution_count": null,
   "source": [
    "from utils import OptimizedLigands\n",
    "\n",
    "project1.OptimizedLigands = OptimizedLigands(project1)"
   ],
   "outputs": [],
   "metadata": {}
  },
  {
   "cell_type": "markdown",
   "source": [
    "The class has a ***__call__*** method, which prints out a summary:    "
   ],
   "metadata": {}
  },
  {
   "cell_type": "code",
   "execution_count": null,
   "source": [
    "project1.OptimizedLigands()"
   ],
   "outputs": [],
   "metadata": {}
  },
  {
   "cell_type": "markdown",
   "source": [
    "The pipeline successfully found an analog which is better than the input ligand in all of the three metrics, i.e. drug-likeness, binding affinity, and total number of protein-ligand interactions.  \n",
    "\n",
    "We can simply visualize each of the above groups of analogs:"
   ],
   "metadata": {}
  },
  {
   "cell_type": "code",
   "execution_count": null,
   "source": [
    "project1.OptimizedLigands.show_final_output()\n",
    "\n",
    "# NBVAL_CHECK_OUTPUT"
   ],
   "outputs": [],
   "metadata": {}
  },
  {
   "cell_type": "markdown",
   "source": [
    "<a id='10_practical'></a>\n",
    "\n",
    "## Putting all the Pieces Together: A Fully Automated Pipeline\n",
    "\n",
    "Now that we have implemented all the necessary parts of our pipeline, we can write a function to automatically run the whole pipeline and display the results. The function thus takes in the project name, the filepath of the input data and the output path and performs all the necessary processes to generate the final output. It will also print the intermediate results of each part of the pipeline so that the process can be followed.\n"
   ],
   "metadata": {}
  },
  {
   "cell_type": "code",
   "execution_count": null,
   "source": [
    "def run_pipeline(project_name, input_data_filepath, output_data_root_folder_path):\n",
    "    \"\"\"\n",
    "    Automatically run the whole lead optimization pipeline to completion,\n",
    "    and print out a summary in real-time.\n",
    "\n",
    "    Parameters\n",
    "    ----------\n",
    "    project_name : str\n",
    "        Name of the lead optimization project.\n",
    "    input_data_filepath : str or pathlib.Path object\n",
    "        Filepath of the input CSV file containing all the specifications of the project.\n",
    "    output_data_root_folder_path : str or pathlib.Path object\n",
    "        Root folder path to save the pipeline's data in.\n",
    "\n",
    "    Returns\n",
    "    -------\n",
    "        LeadOptimizationPipeline object\n",
    "        Object containing all the information about the pipeline.\n",
    "    \"\"\"\n",
    "\n",
    "    def pprint(markdown_list):\n",
    "        markdown_command = \"\"\n",
    "        for command in markdown_list:\n",
    "            text, color = command\n",
    "            markdown_command += f\"<span style='color:{color}'>{text}</span>\"\n",
    "        display(Markdown(markdown_command))\n",
    "\n",
    "    def pprint_header(header):\n",
    "        display(\n",
    "            Markdown(\n",
    "                f\"<span style='color:blue'>**{header}:** </span><span style='color:green'>Successful</span>\"\n",
    "            )\n",
    "        )\n",
    "\n",
    "    project = LeadOptimizationPipeline(project_name=project_name)\n",
    "    pprint_header(\"1. Initializing Project\")\n",
    "    pprint([(f\"&nbsp;&nbsp;&nbsp;&nbsp;Project name: **{project.name}**\", \"black\")])\n",
    "\n",
    "    project.Specs = Specs(\n",
    "        input_data_filepath=input_data_filepath,\n",
    "        output_data_root_folder_path=f\"{output_data_root_folder_path}/{project.name}\",\n",
    "    )\n",
    "    pprint_header(\"2. Initializing Input/Output\")\n",
    "    pprint(\n",
    "        [\n",
    "            (\n",
    "                f\"&nbsp;&nbsp;&nbsp;&nbsp;Input data read from: **{input_data_filepath}**\",\n",
    "                \"black\",\n",
    "            )\n",
    "        ]\n",
    "    )\n",
    "    pprint(\n",
    "        [\n",
    "            (\n",
    "                f\"&nbsp;&nbsp;&nbsp;&nbsp;Output folders created at: **{output_data_root_folder_path}/{project.name}**\",\n",
    "                \"black\",\n",
    "            )\n",
    "        ]\n",
    "    )\n",
    "\n",
    "    project.Protein = Protein(\n",
    "        identifier_type=project.Specs.Protein.input_type,\n",
    "        identifier_value=project.Specs.Protein.input_value,\n",
    "        protein_output_path=project.Specs.OutputPaths.protein,\n",
    "    )\n",
    "    pprint_header(\"3. Processing Protein Data\")\n",
    "    display(project.Protein())\n",
    "\n",
    "    project.Ligand = Ligand(\n",
    "        identifier_type=project.Specs.Ligand.input_type,\n",
    "        identifier_value=project.Specs.Ligand.input_value,\n",
    "        ligand_output_path=project.Specs.OutputPaths.ligand,\n",
    "    )\n",
    "    pprint_header(\"4. Processing Ligand Data\")\n",
    "    display(project.Ligand())\n",
    "\n",
    "    project.BindingSiteDetection = BindingSiteDetection(\n",
    "        project.Protein,\n",
    "        project.Specs.BindingSite,\n",
    "        project.Specs.OutputPaths.binding_site_detection,\n",
    "    )\n",
    "    pprint_header(\"5. Binding Site Detection\")\n",
    "    pprint(\n",
    "        [\n",
    "            (\n",
    "                f\"&nbsp;&nbsp;&nbsp;&nbsp;Binding site definition method: **{project.Specs.BindingSite.definition_method.name}**\",\n",
    "                \"black\",\n",
    "            )\n",
    "        ]\n",
    "    )\n",
    "    if (\n",
    "        project.Specs.BindingSite.definition_method\n",
    "        is Consts.BindingSite.DefinitionMethods.DETECTION\n",
    "    ):\n",
    "        pprint(\n",
    "            [\n",
    "                (\n",
    "                    f\"&nbsp;&nbsp;&nbsp;&nbsp;Binding site detection method: **{project.Specs.BindingSite.detection_method.name}**\",\n",
    "                    \"black\",\n",
    "                )\n",
    "            ]\n",
    "        )\n",
    "        pprint(\n",
    "            [\n",
    "                (\n",
    "                    f\"&nbsp;&nbsp;&nbsp;&nbsp;Selection method for best binding site: **{project.Specs.BindingSite.selection_method.name}**\",\n",
    "                    \"black\",\n",
    "                )\n",
    "            ]\n",
    "        )\n",
    "        pprint(\n",
    "            [\n",
    "                (\n",
    "                    f\"&nbsp;&nbsp;&nbsp;&nbsp;Selection criteria for best binding site: **{project.Specs.BindingSite.selection_criteria}**\",\n",
    "                    \"black\",\n",
    "                )\n",
    "            ]\n",
    "        )\n",
    "        pprint(\n",
    "            [\n",
    "                (\n",
    "                    f\"&nbsp;&nbsp;&nbsp;&nbsp;Name of selected binding site: **{project.BindingSiteDetection.best_binding_site_name}**\",\n",
    "                    \"black\",\n",
    "                )\n",
    "            ]\n",
    "        )\n",
    "    pprint(\n",
    "        [\n",
    "            (\n",
    "                f\"&nbsp;&nbsp;&nbsp;&nbsp;Binding site coordinates - center: **{project.Protein.binding_site_coordinates['center']}**\",\n",
    "                \"black\",\n",
    "            )\n",
    "        ]\n",
    "    )\n",
    "    pprint(\n",
    "        [\n",
    "            (\n",
    "                f\"&nbsp;&nbsp;&nbsp;&nbsp;Binding site coordinates - size: **{project.Protein.binding_site_coordinates['size']}**\",\n",
    "                \"black\",\n",
    "            )\n",
    "        ]\n",
    "    )\n",
    "\n",
    "    display(project.BindingSiteDetection.visualize_best())\n",
    "\n",
    "    project.LigandSimilaritySearch = LigandSimilaritySearch(\n",
    "        project.Ligand,\n",
    "        project.Specs.LigandSimilaritySearch,\n",
    "        project.Specs.OutputPaths.similarity_search,\n",
    "    )\n",
    "    pprint_header(\"6. Ligand Similarity Search\")\n",
    "    pprint(\n",
    "        [\n",
    "            (\n",
    "                f\"&nbsp;&nbsp;&nbsp;&nbsp;Search engine: **{project.Specs.LigandSimilaritySearch.search_engine.name}**\",\n",
    "                \"black\",\n",
    "            )\n",
    "        ]\n",
    "    )\n",
    "    pprint(\n",
    "        [\n",
    "            (\n",
    "                f\"&nbsp;&nbsp;&nbsp;&nbsp;Number of fetched analogs with a similarity higher than **{project.Specs.LigandSimilaritySearch.min_similarity_percent}%**: **{len(project.LigandSimilaritySearch.all_analogs)}**\",\n",
    "                \"black\",\n",
    "            )\n",
    "        ]\n",
    "    )\n",
    "    pprint(\n",
    "        [\n",
    "            (\n",
    "                f\"&nbsp;&nbsp;&nbsp;&nbsp;Dice-similarity range of fetched analogs: **{project.LigandSimilaritySearch.all_analogs['dice_similarity'].min()} - {project.LigandSimilaritySearch.all_analogs['dice_similarity'].max()}**\",\n",
    "                \"black\",\n",
    "            )\n",
    "        ]\n",
    "    )\n",
    "    pprint(\n",
    "        [\n",
    "            (\n",
    "                f\"&nbsp;&nbsp;&nbsp;&nbsp;CID of analog with the highest Dice-similarity: **{project.LigandSimilaritySearch.all_analogs.sort_values(by='dice_similarity', ascending=False).head(1).index.values[0]}**\",\n",
    "                \"black\",\n",
    "            )\n",
    "        ]\n",
    "    )\n",
    "    pprint(\n",
    "        [\n",
    "            (\n",
    "                f\"&nbsp;&nbsp;&nbsp;&nbsp;Number of selected drug-like analogs: **{len(project.Ligand.analogs)}**\",\n",
    "                \"black\",\n",
    "            )\n",
    "        ]\n",
    "    )\n",
    "    sorted_analogs_df = project.LigandSimilaritySearch.all_analogs.sort_values(\n",
    "        by=\"drug_score_total\", ascending=False\n",
    "    ).head(len(project.Ligand.analogs))\n",
    "    pprint(\n",
    "        [\n",
    "            (\n",
    "                f\"&nbsp;&nbsp;&nbsp;&nbsp;Range of drug-likeness score in selected analogs: **{sorted_analogs_df['drug_score_total'].min()} - {sorted_analogs_df['drug_score_total'].max()}**\",\n",
    "                \"black\",\n",
    "            )\n",
    "        ]\n",
    "    )\n",
    "    pprint(\n",
    "        [\n",
    "            (\n",
    "                f\"&nbsp;&nbsp;&nbsp;&nbsp;CID of analog with the highest drug-likeness score: **{sorted_analogs_df.head(1).index.values[0]}**\",\n",
    "                \"black\",\n",
    "            )\n",
    "        ]\n",
    "    )\n",
    "\n",
    "    project.Docking = Docking(\n",
    "        project.Protein,\n",
    "        list(project.Ligand.analogs.values()),\n",
    "        project.Specs.Docking,\n",
    "        project.Specs.OutputPaths.docking,\n",
    "    )\n",
    "    project.Ligand.Docking = Docking(\n",
    "        project.Protein,\n",
    "        [project.Ligand],\n",
    "        project.Specs.Docking,\n",
    "        project.Specs.OutputPaths.ligand,\n",
    "    )\n",
    "    pprint_header(\"7. Docking Experiment\")\n",
    "    pprint(\n",
    "        [\n",
    "            (\n",
    "                f\"&nbsp;&nbsp;&nbsp;&nbsp;Highest binding affinity of input ligand: **{project.Ligand.binding_affinity_best}**\",\n",
    "                \"black\",\n",
    "            )\n",
    "        ]\n",
    "    )\n",
    "    pprint(\n",
    "        [\n",
    "            (\n",
    "                f\"&nbsp;&nbsp;&nbsp;&nbsp;Binding affinity range of analogs: **{project.Docking.results_dataframe['affinity[kcal/mol]'].max()} - {project.Docking.results_dataframe['affinity[kcal/mol]'].min()}**\",\n",
    "                \"black\",\n",
    "            )\n",
    "        ]\n",
    "    )\n",
    "    pprint(\n",
    "        [\n",
    "            (\n",
    "                f\"&nbsp;&nbsp;&nbsp;&nbsp;Number of analog docking poses with higher affinity than ligand: **{len(project.Docking.results_dataframe[project.Docking.results_dataframe['affinity[kcal/mol]']<project.Ligand.binding_affinity_best].sort_values(by=['affinity[kcal/mol]']))}**\",\n",
    "                \"black\",\n",
    "            )\n",
    "        ]\n",
    "    )\n",
    "    pprint(\n",
    "        [\n",
    "            (\n",
    "                f\"&nbsp;&nbsp;&nbsp;&nbsp;Number of analogs with higher affinity than ligand: **{len(set(project.Docking.results_dataframe[project.Docking.results_dataframe['affinity[kcal/mol]']<project.Ligand.binding_affinity_best].sort_values(by=['affinity[kcal/mol]']).index.get_level_values(0)))}**\",\n",
    "                \"black\",\n",
    "            )\n",
    "        ]\n",
    "    )\n",
    "\n",
    "    highest_aff_cids = set(\n",
    "        project.Docking.results_dataframe[\n",
    "            project.Docking.results_dataframe[\"affinity[kcal/mol]\"]\n",
    "            < project.Ligand.binding_affinity_best\n",
    "        ]\n",
    "        .sort_values(by=[\"affinity[kcal/mol]\"])\n",
    "        .index.get_level_values(0)\n",
    "    )\n",
    "    pprint(\n",
    "        [\n",
    "            (\n",
    "                f\"&nbsp;&nbsp;&nbsp;&nbsp;CIDs of analogs with higher affinity than ligand: **{highest_aff_cids}**\",\n",
    "                \"black\",\n",
    "            )\n",
    "        ]\n",
    "    )\n",
    "\n",
    "    project.Docking.visualize_all_poses()\n",
    "\n",
    "    project.InteractionAnalysis = InteractionAnalysis(\n",
    "        project.Docking.pdbqt_filepath_extracted_protein,\n",
    "        project.Docking.pdb_filepath_extracted_protein,\n",
    "        project.Protein.residue_number_first,\n",
    "        list(project.Ligand.analogs.values()),\n",
    "        project.Docking.master_df,\n",
    "        project.Specs.InteractionAnalysis,\n",
    "        project.Specs.OutputPaths.interaction_analysis,\n",
    "    )\n",
    "\n",
    "    project.Ligand.InteractionAnalysis = InteractionAnalysis(\n",
    "        project.Docking.pdbqt_filepath_extracted_protein,\n",
    "        project.Docking.pdb_filepath_extracted_protein,\n",
    "        project.Protein.residue_number_first,\n",
    "        [project.Ligand],\n",
    "        project.Ligand.Docking.master_df,\n",
    "        project.Specs.InteractionAnalysis,\n",
    "        project.Specs.OutputPaths.ligand,\n",
    "    )\n",
    "    pprint_header(\"8. Protein-Ligand Interaction Analysis\")\n",
    "    pprint(\n",
    "        [\n",
    "            (\n",
    "                f\"&nbsp;&nbsp;&nbsp;&nbsp;Highest number of total interactions in a docking pose of input ligand: **{project.Ligand.InteractionAnalysis.results.sort_values(by='total_num_interactions',ascending=False).head(1)['total_num_interactions'].values[0]}**\",\n",
    "                \"black\",\n",
    "            )\n",
    "        ]\n",
    "    )\n",
    "    pprint(\n",
    "        [\n",
    "            (\n",
    "                f\"&nbsp;&nbsp;&nbsp;&nbsp;Range of total number of interactions in docking poses of analogs: **{project.InteractionAnalysis.results['total_num_interactions'].min()} - {project.InteractionAnalysis.results['total_num_interactions'].max()}**\",\n",
    "                \"black\",\n",
    "            )\n",
    "        ]\n",
    "    )\n",
    "    pprint(\n",
    "        [\n",
    "            (\n",
    "                f\"&nbsp;&nbsp;&nbsp;&nbsp;Correlation plot between binding affinity and number of interactions in docking poses of analogs:\",\n",
    "                \"black\",\n",
    "            )\n",
    "        ]\n",
    "    )\n",
    "    project.InteractionAnalysis.plot_interaction_affinity_correlation()\n",
    "\n",
    "    display(project.InteractionAnalysis.visualize_all_interactions())\n",
    "\n",
    "    pprint_header(\"9. Selecting The Optimized Analog\")\n",
    "    project.OptimizedLigands = OptimizedLigands(project)\n",
    "    project.OptimizedLigands()\n",
    "    print(\"\\n\")\n",
    "    pprint([(\"**Selected analogs as final output:**\", \"blue\")])\n",
    "    project.OptimizedLigands.show_final_output()\n",
    "\n",
    "    cid_pose_nr_list = []\n",
    "    for final_analog in project.OptimizedLigands.output:\n",
    "        for docking_pose_nr in range(1, len(final_analog.dataframe_docking) + 1):\n",
    "            cid_pose_nr_list.append((final_analog.cid, docking_pose_nr))\n",
    "    display(project.InteractionAnalysis.visualize_docking_poses_interactions(cid_pose_nr_list))\n",
    "\n",
    "    pprint_header(\"10. Pipeline Completed\")\n",
    "\n",
    "    return project"
   ],
   "outputs": [],
   "metadata": {}
  },
  {
   "cell_type": "markdown",
   "source": [
    "By calling the above function with the necessary parameters, the whole pipeline will run automatically with a full summary of the pipeline processes and results.\n",
    " \n",
    "For this demonstration, let's use the optimized ligand we just found as the input ligand to see whether we can do better than our previous optimization results and obtain a better analog. \n",
    "\n",
    "We first need to create the corresponding input file. To do so, we can simply open the input file of our project, modify the ligand input value, and save the file as a new input file:"
   ],
   "metadata": {}
  },
  {
   "cell_type": "code",
   "execution_count": null,
   "source": [
    "new_input_df = pd.read_csv(project1.Specs.RawData.filepath)\n",
    "new_input_df.head()\n",
    "\n",
    "# NBVAL_CHECK_OUTPUT"
   ],
   "outputs": [],
   "metadata": {}
  },
  {
   "cell_type": "code",
   "execution_count": null,
   "source": [
    "new_input_df.loc[3, \"Value\"] = project1.OptimizedLigands.output[0].smiles\n",
    "new_input_df.head()\n",
    "\n",
    "# NBVAL_CHECK_OUTPUT"
   ],
   "outputs": [],
   "metadata": {}
  },
  {
   "cell_type": "code",
   "execution_count": null,
   "source": [
    "new_input_df.to_csv(\"data/PipelineInputData_Project2.csv\")"
   ],
   "outputs": [],
   "metadata": {}
  },
  {
   "cell_type": "markdown",
   "source": [
    "Now let's run the pipeline again, this time fully automated and with the already optimized ligand. Other than printing out a short summary of results in real-time, the function also returns the whole project at the end. Thus, by assigning the return value to a variable (here ***project2***), we can later further investigate the the information generated by the pipeline in more detail."
   ],
   "metadata": {}
  },
  {
   "cell_type": "code",
   "execution_count": null,
   "source": [
    "project2 = run_pipeline(\n",
    "    \"Project2_EGFR_CID11292933\",\n",
    "    input_data_filepath=DATA / f\"PipelineInputData_Project2.csv\",\n",
    "    output_data_root_folder_path=\"data/Outputs\",\n",
    ")"
   ],
   "outputs": [],
   "metadata": {
    "tags": []
   }
  },
  {
   "cell_type": "markdown",
   "source": [
    "<a id='discussion'></a>\n",
    "\n",
    "# Discussion\n",
    "\n",
    "In this talktorial, we successfully implemented a fully-automated virtual screening pipeline targeted at hit-expansion and lead-optimization phases of a drug discovery project using EGFR (PDB-code: 3W32) as the target protein and a promising inhibitor with the ChEMBL-ID CHEMBL328216. \n",
    "* As the input, the pipeline accepted a single CSV data-file, specifying a protein structure, a ligand and several other settings regarding the different processes of the pipeline. \n",
    "* It then performed all the necessary processes in order to suggest an analog of the provided ligand with promising features in terms of estimated binding affinity, number of protein-ligand interactions and drug-likeness. \n",
    "\n",
    "The code is specifically structured in such a way that it will be easy to digest, maintain, and expand. For each functionality of the pipeline, several helper classes were defined containing static methods that are required to develop a certain part of the pipeline. These *static methods can be easily adopted for other projects*. \n",
    "\n",
    "<details>\n",
    "\n",
    "<summary> Click here for a more detailed summary of the process </summary>\n",
    "\n",
    "* The process began with **binding-site definition** and binding-site detection using the *DoGSiteScorer* functionality of the *ProteinsPlus* webserver. \n",
    "* The next step was a **ligand similarity-search** which is performed using the *PubChem* web-services via the provided API backend. \n",
    "* Subsequently, the structural analogs detected via the similarity search were filtered based on their physiochemical properties in order to *select the most drug-like analogs*. \n",
    "* These were assessed in a virtual screening process using the *Smina* program in order to *estimate their binding affinities and corresponding binding-poses*.\n",
    "* Using the *PLIP* package, these generated docking poses were *analyzed in terms of their specific non-covalent interactions with the target protein* and analogs displaying a specific set of desired interactions were selected in order to achieve *higher selectivities for the target protein*. \n",
    "* After all required processes were carried out, the pipeline was used to *output one or several optimized analogs*, based on the criteria defined by the user in the input data, such as binding affinity, physiochemical and pharmacokinetic properties, and specific interactions with the protein structure.  \n",
    "    \n",
    "The pipeline was contained in a single class (***LeadOptimizationPipeline***) with sub-classes for every process, making for easier access to all parts of the data generated. Furthermore, at the end of the pipeline a function was provided (***run_pipeline***) that put the whole program together and automatically ran a given project to completion, merely by providing an input specification file.\n",
    "</details>"
   ],
   "metadata": {}
  },
  {
   "cell_type": "markdown",
   "source": [
    "As the pipeline provides functionalities and options outside the scope of this talktorial, we have also provided a *Supplementary Information* section that showcases the possibilities of the pipeline in more detail. Furthermore, we have structured the code to be easily expandable, so it can be freely adopted and built upon for various situations and needs. The results of the pipeline are not, however, fully deterministic. Several calculations have randomized components during the course of their execution. Therefore, re-running the pipeline under the same conditions may result in slightly different outputs. \n",
    "\n",
    "<p style=\"text-align:center;\">\n",
    "<img src=\"images/fig10.png\" width=\"950\" height=auto class=\"center\"/>\n",
    "</p>\n",
    "\n",
    "*Figure 10.* Results of the pipeline's performance in the demonstrated examples. Starting with a ligand with an estimated binding affinity of -8.7 kcal/mol, the pipeline was able to suggest a ligand with an improved estimated affinity of -10.3 kcal/mol. Subjecting this optimized ligand to the same process resulted in an analog with an estimated binding affinity of -10.9 kcal/mol. \n",
    "    \n",
    "    "
   ],
   "metadata": {
    "tags": []
   }
  },
  {
   "cell_type": "markdown",
   "source": [
    "<a id='quiz'></a>\n",
    "\n",
    "# Quiz\n",
    "\n",
    "**Conceptual Questions:**\n",
    "1. Describe the processes involved in the hit-to-lead and lead optimization phases of a drug design pipeline. How are these processes implemented in the virtual pipeline described in this talktorial?\n",
    "2. Describe the important facets of binding-site definition in a general virtual screening pipeline. What options are available for binding-site definition and selection in this pipeline? \n",
    "3. What chemical differences for obtained analogs might explain their lower calculated similarity than the threshold specified in the input data?\n",
    "5. Describe the criteria used in this pipeline to filter the initially obtained analogs for the docking calculation.\n",
    "6. What explains why we do not carry out the docking calculation for all initially obtained analogs?\n",
    "7. What were the preparation steps carried out to perform the docking calculations?\n",
    "9. What did the interaction analysis data tell us about selecting an analog with higher selectivity for the target protein?\n",
    "10. Why was it necessary to visualize the docked poses and their corresponding interactions? What criteria for ligand binding should we be looking for in these inspections?\n",
    "11. What criteria were used for selecting the best optimized ligand at the end of the pipeline? \n",
    "\n",
    "**Exercises:**\n",
    "1. In order to prevent the talktorial from being too lengthy, we only demonstrated a sub-set of the options and information that the pipeline offers. By again using the ***LeadOptimizationPipeline*** instance, execute the pipeline and explore its other options by looking up the attributes and methods of different classes comprising the pipeline.   \n",
    "2. Try to implement a loop, where the final output of a pipeline is re-entered as the input for a new pipeline (i.e. try to optimize your initial input ligand through several runs, same as we did for the demonstration of the ***run_pipeline*** function). After how many cycles does the pipeline reach a plateau where results no longer improve?\n",
    "3. Generate your own input CSV-files  each time choosing a different set of specifications, and compare the results. Can you find a set of specifications that perform considerably better than the others?"
   ],
   "metadata": {}
  },
  {
   "cell_type": "markdown",
   "source": [
    "<a id='supp'></a>\n",
    "\n",
    "# Supplementary Information\n",
    " \n",
    "Here we will also demonstrate the functions of each helper-class used in the pipeline, to provide a better understanding of the inner workings of the code. Some cells use variables defined in an early cell. Therefore, in order for all cells to work you have to run them sequentially."
   ],
   "metadata": {}
  },
  {
   "cell_type": "markdown",
   "source": [
    "<a id='io_demo'></a>\n",
    "\n",
    "## Demonstration of The ***IO*** Helper-Class\n",
    "\n",
    "Using this class, the input CSV file can be easily imported via the ***create_dataframe_from_csv_input_file*** function, by specifying the corresponding filepath, the name of the columns to be used as indices for the dataframe, and the name of the other columns we want to keep:"
   ],
   "metadata": {}
  },
  {
   "cell_type": "code",
   "execution_count": null,
   "source": [
    "example_input_df = IO.create_dataframe_from_csv_input_file(\n",
    "    input_data_filepath=DATA / f\"PipelineInputData_Project1.csv\",\n",
    "    list_of_index_column_names=[\n",
    "        Consts.DataFrame.ColumnNames.SUBJECT.value,\n",
    "        Consts.DataFrame.ColumnNames.PROPERTY.value,\n",
    "    ],\n",
    "    list_of_columns_to_keep=[Consts.DataFrame.ColumnNames.VALUE.value],\n",
    ")"
   ],
   "outputs": [],
   "metadata": {}
  },
  {
   "cell_type": "markdown",
   "source": [
    "Note that for inputting the ***list_of_index_column_names*** and ***list_of_column_names_to_keep*** we didn't write the name of the columns (i.e. '***Subject***', '***Property***' and '***Value***') explicitly but used the respective constants stored in the ***Consts*** class. In this way, if the column names in the input file are changed in the future, they only need to be corrected in the ***Consts*** class and nowhere else in the code."
   ],
   "metadata": {}
  },
  {
   "cell_type": "markdown",
   "source": [
    "We can now view the imported data in its entirety:    "
   ],
   "metadata": {}
  },
  {
   "cell_type": "code",
   "execution_count": null,
   "source": [
    "example_input_df\n",
    "\n",
    "# NBVAL_CHECK_OUTPUT"
   ],
   "outputs": [],
   "metadata": {}
  },
  {
   "cell_type": "markdown",
   "source": [
    "Moreover, we can also extract all the data corresponding to a specific ***Subject***, using the ***copy_series_from_dataframe*** function and specifying the main dataframe and the name of the index-level and column that we want to extract. For example, to extract the binding-site specification data:"
   ],
   "metadata": {}
  },
  {
   "cell_type": "code",
   "execution_count": null,
   "source": [
    "example_input_protein_data = IO.copy_series_from_dataframe(\n",
    "    input_df=example_input_df,\n",
    "    index_name=Consts.DataFrame.SubjectNames.BINDING_SITE.value,\n",
    "    column_name=Consts.DataFrame.ColumnNames.VALUE.value,\n",
    ")\n",
    "\n",
    "# Displaying the extracted data:\n",
    "example_input_protein_data\n",
    "\n",
    "# NBVAL_CHECK_OUTPUT"
   ],
   "outputs": [],
   "metadata": {
    "tags": []
   }
  },
  {
   "cell_type": "markdown",
   "source": [
    "Later, for storing the output data we will also need the ***create_folder*** function, which can create a folder (and all its necessary parent folders) with a given name at a given path. The function then returns the full path of the created folder. We now create a folder named *Examples*, which we will use to store the files used in the demonstration sections."
   ],
   "metadata": {
    "tags": []
   }
  },
  {
   "cell_type": "code",
   "execution_count": null,
   "source": [
    "example_output_path = IO.create_folder(folder_name=\"Examples\", folder_path=\"data/Outputs\")\n",
    "\n",
    "# Displaying the full path of the generated folder:\n",
    "example_output_path\n",
    "\n",
    "# NBVAL_CHECK_OUTPUT"
   ],
   "outputs": [],
   "metadata": {
    "tags": []
   }
  },
  {
   "cell_type": "markdown",
   "source": [
    "<a id='pdb_demo'></a>\n",
    "\n",
    "## Demonstration of The ***PDB*** Helper-Class\n",
    "\n",
    "We can use the ***fetch_and_save_pdb_file*** function to download a protein's PDB file using its PDB-code. The function takes in a full filepath, including the name of the file and returns the full filepath (including the .PDB extension)."
   ],
   "metadata": {}
  },
  {
   "cell_type": "code",
   "execution_count": null,
   "source": [
    "example_downloaded_protein_filepath = PDB.fetch_and_save_pdb_file(\n",
    "    pdb_code=\"3w32\", output_filepath=example_output_path / \"3W32\"\n",
    ")\n",
    "\n",
    "example_downloaded_protein_filepath\n",
    "\n",
    "# NBVAL_CHECK_OUTPUT"
   ],
   "outputs": [],
   "metadata": {}
  },
  {
   "cell_type": "markdown",
   "source": [
    "\n",
    "The PDB file is now downloaded on the disk. Now, the file content of the PDB file can be obtained as follows:    "
   ],
   "metadata": {}
  },
  {
   "cell_type": "code",
   "execution_count": null,
   "source": [
    "example_pdb_file_content = PDB.read_pdb_file_content(\n",
    "    input_type=\"pdb_filepath\", input_value=example_downloaded_protein_filepath\n",
    ")\n",
    "\n",
    "# As the complete file is very long, here we only show the first 800 characters:\n",
    "example_pdb_file_content[:800]\n",
    "\n",
    "# NBVAL_CHECK_OUTPUT"
   ],
   "outputs": [],
   "metadata": {
    "tags": []
   }
  },
  {
   "cell_type": "markdown",
   "source": [
    "Note that, alternatively, we also could have set the ***input_type*** to 'pdb_code' and entered a valid PDB-code as the ***input_value*** to directly fetch and read the file contents of a protein PDB file from the PDB webserver. However, in that case, the PDB file itself would not have been saved on the disk."
   ],
   "metadata": {}
  },
  {
   "cell_type": "markdown",
   "source": [
    "This file content can the be used to extract some useful information from the PDB file:"
   ],
   "metadata": {}
  },
  {
   "cell_type": "code",
   "execution_count": null,
   "source": [
    "PDB.extract_info_from_pdb_file_content(example_pdb_file_content)\n",
    "\n",
    "# NBVAL_CHECK_OUTPUT"
   ],
   "outputs": [],
   "metadata": {}
  },
  {
   "cell_type": "markdown",
   "source": [
    "Or directly without storing the PDB file content in a variable (here using another PDB-code as example):"
   ],
   "metadata": {}
  },
  {
   "cell_type": "code",
   "execution_count": null,
   "source": [
    "PDB.extract_info_from_pdb_file_content(\n",
    "    pdb_file_text_content=PDB.read_pdb_file_content(input_type=\"pdb_code\", input_value=\"5gty\")\n",
    ")\n",
    "\n",
    "# NBVAL_CHECK_OUTPUT"
   ],
   "outputs": [],
   "metadata": {}
  },
  {
   "cell_type": "markdown",
   "source": [
    "The ***load_pdb_file_as_dataframe*** function can also be used but it does not contain all the information that the ***extract_info_from_pdb_file_content*** can extract. The function returns a dictionary where each value is a *Pandas DataFrame*:"
   ],
   "metadata": {}
  },
  {
   "cell_type": "code",
   "execution_count": null,
   "source": [
    "example_pdb_dataframe = PDB.load_pdb_file_as_dataframe(example_pdb_file_content)\n",
    "example_pdb_dataframe.keys()\n",
    "\n",
    "# NBVAL_CHECK_OUTPUT"
   ],
   "outputs": [],
   "metadata": {}
  },
  {
   "cell_type": "markdown",
   "source": [
    "For example, all the information regarding the atoms in the protein can be accessed via the ***ATOM*** key. This data was used in the pipeline, for example, to extract the range of residue numbers of the protein."
   ],
   "metadata": {}
  },
  {
   "cell_type": "code",
   "execution_count": null,
   "source": [
    "example_pdb_dataframe[\"ATOM\"]\n",
    "\n",
    "# NBVAL_CHECK_OUTPUT"
   ],
   "outputs": [],
   "metadata": {}
  },
  {
   "cell_type": "markdown",
   "source": [
    "<a id='pubchem_demo'></a>\n",
    "\n",
    "## Demonstration of The ***PubChem*** Helper-Class\n",
    "\n",
    "The ***convert_compound_identifier*** function can be used to get a specific compound's identifier by providing another identifier. \n",
    "    \n",
    "For example, obtaining the SMILES of Aspirin by providing its name:"
   ],
   "metadata": {}
  },
  {
   "cell_type": "code",
   "execution_count": null,
   "source": [
    "PubChem.convert_compound_identifier(\n",
    "    input_id_type=\"name\", input_id_value=\"aspirin\", output_id_type=\"smiles\"\n",
    ")\n",
    "\n",
    "# NBVAL_CHECK_OUTPUT"
   ],
   "outputs": [],
   "metadata": {}
  },
  {
   "cell_type": "markdown",
   "source": [
    "Or retrieving its IUPAC name:"
   ],
   "metadata": {}
  },
  {
   "cell_type": "code",
   "execution_count": null,
   "source": [
    "PubChem.convert_compound_identifier(\n",
    "    input_id_type=\"name\", input_id_value=\"aspirin\", output_id_type=\"iupac_name\"\n",
    ")\n",
    "\n",
    "# NBVAL_CHECK_OUTPUT"
   ],
   "outputs": [],
   "metadata": {}
  },
  {
   "cell_type": "markdown",
   "source": [
    "Or retrieving its name using its SMILES:"
   ],
   "metadata": {}
  },
  {
   "cell_type": "code",
   "execution_count": null,
   "source": [
    "PubChem.convert_compound_identifier(\n",
    "    input_id_type=\"smiles\",\n",
    "    input_id_value=\"CC(=O)OC1=CC=CC=C1C(=O)O\",\n",
    "    output_id_type=\"name\",\n",
    ")\n",
    "\n",
    "# NBVAL_CHECK_OUTPUT"
   ],
   "outputs": [],
   "metadata": {}
  },
  {
   "cell_type": "markdown",
   "source": [
    "Or retrieving its CID using its name:"
   ],
   "metadata": {}
  },
  {
   "cell_type": "code",
   "execution_count": null,
   "source": [
    "PubChem.convert_compound_identifier(\n",
    "    input_id_type=\"name\", input_id_value=\"aspirin\", output_id_type=\"cid\"\n",
    ")\n",
    "\n",
    "# NBVAL_CHECK_OUTPUT"
   ],
   "outputs": [],
   "metadata": {}
  },
  {
   "cell_type": "markdown",
   "source": [
    "Using the ***get_compound_record*** function, all available records on the molecule can be obtained in a dictionary with the following keys: '***id***', '***atoms***', '***bonds***', '***coords***', '***charge***', '***props***', '***count***'.\n",
    "\n",
    "As an example, we access the '***props***' key, which contains the physiochemical properties of the compound:"
   ],
   "metadata": {}
  },
  {
   "cell_type": "code",
   "execution_count": null,
   "source": [
    "# Only showing the first 2 entries, since the full list is too long:\n",
    "PubChem.get_compound_record(input_id_type=\"name\", input_id_value=\"aspirin\")[\"props\"][:2]\n",
    "\n",
    "# NBVAL_CHECK_OUTPUT"
   ],
   "outputs": [],
   "metadata": {
    "tags": []
   }
  },
  {
   "cell_type": "markdown",
   "source": [
    "The ***get_description_from_smiles*** function provides a textual description of the compound. However, it is not available for every compound. If the parameter ***printout*** is set to False, the function will return a dictionary containing the descriptions, sources, and other information. By setting it to True, only the description part will be printed out. For example, for aspirin:"
   ],
   "metadata": {}
  },
  {
   "cell_type": "code",
   "execution_count": null,
   "source": [
    "PubChem.get_description_from_smiles(smiles=\"CC(=O)OC1=CC=CC=C1C(=O)O\", printout=True)\n",
    "\n",
    "# NBVAL_CHECK_OUTPUT"
   ],
   "outputs": [],
   "metadata": {}
  },
  {
   "cell_type": "markdown",
   "source": [
    "<a id='rdkit_demo'></a>\n",
    "\n",
    "## Demonstration of The ***RDKit*** Helper-Class\n",
    "\n",
    "To use any other function in the ***RDKit*** class, we first have to generate an RDKit molecule object using the ***create_molecule_object*** function. This can accept different identifiers as input such as the SMILES. Here we again use Aspirin as an example:"
   ],
   "metadata": {}
  },
  {
   "cell_type": "code",
   "execution_count": null,
   "source": [
    "example_mol_obj = RDKit.create_molecule_object(\n",
    "    input_type=\"smiles\", input_value=\"CC(=O)OC1=CC=CC=C1C(=O)O\"\n",
    ")\n",
    "\n",
    "# NBVAL_CHECK_OUTPUT"
   ],
   "outputs": [],
   "metadata": {}
  },
  {
   "cell_type": "markdown",
   "source": [
    "The RDKit molecule objects can be called directly, which simply visualizes the molecule:"
   ],
   "metadata": {}
  },
  {
   "cell_type": "code",
   "execution_count": null,
   "source": [
    "example_mol_obj"
   ],
   "outputs": [],
   "metadata": {}
  },
  {
   "cell_type": "markdown",
   "source": [
    "The ***calculate_druglikeness*** function can then be used to calculate several molecular properties and drug-likeness scores, which will be returned as a dictionary:"
   ],
   "metadata": {}
  },
  {
   "cell_type": "code",
   "execution_count": null,
   "source": [
    "RDKit.calculate_druglikeness(mol_obj=example_mol_obj)\n",
    "\n",
    "# NBVAL_CHECK_OUTPUT"
   ],
   "outputs": [],
   "metadata": {}
  },
  {
   "cell_type": "markdown",
   "source": [
    "The ***calculate_similarity_dice*** function is used to calculate the Dice similarity metric between two ligands using a 4096-bit Morgan fingerprints with a raidus of 2. Here, as an example we will input the same molecule twice which results in a similarity score of 1 (i.e. 100% similarity): "
   ],
   "metadata": {}
  },
  {
   "cell_type": "code",
   "execution_count": null,
   "source": [
    "RDKit.calculate_similarity_dice(mol_obj1=example_mol_obj, mol_obj2=example_mol_obj)\n",
    "\n",
    "# NBVAL_CHECK_OUTPUT"
   ],
   "outputs": [],
   "metadata": {}
  },
  {
   "cell_type": "markdown",
   "source": [
    "Using the ***save_molecule_image_to_file*** function, an image file containing the ligand's structure can be saved at a given path as well:"
   ],
   "metadata": {}
  },
  {
   "cell_type": "code",
   "execution_count": null,
   "source": [
    "RDKit.save_molecule_image_to_file(\n",
    "    mol_obj=example_mol_obj, filepath=example_output_path / \"aspirin\"\n",
    ")"
   ],
   "outputs": [],
   "metadata": {}
  },
  {
   "cell_type": "markdown",
   "source": [
    "In addition, we can use the ***save_3D_molecule_to_SDfile*** function which prepares the molecule for docking calcluations i.e. adds hydrogen atoms, creates 3D conformation and runs energy minimizations etc. It is then saved as an SDF file:"
   ],
   "metadata": {}
  },
  {
   "cell_type": "code",
   "execution_count": null,
   "source": [
    "RDKit.save_3D_molecule_to_SDfile(mol_obj=example_mol_obj, filepath=example_output_path / \"aspirin\")"
   ],
   "outputs": [],
   "metadata": {}
  },
  {
   "cell_type": "markdown",
   "source": [
    "<a id='dogsitescorer_demo'></a>\n",
    "\n",
    "## Demonstration of The ***DoGSiteScorer*** Class\n",
    "\n",
    "If we want to detect the binding sites of a protein from a local PDB file, we should first upload the file to the *DogSiteScorer* webserver using the ***upload_pdb_file*** function. For this, we will use the PDB file we downloaded earlier:"
   ],
   "metadata": {
    "tags": []
   }
  },
  {
   "cell_type": "code",
   "execution_count": null,
   "source": [
    "example_dummy_pdb_id = DoGSiteScorer.upload_pdb_file(filepath=example_downloaded_protein_filepath)\n",
    "\n",
    "example_dummy_pdb_id"
   ],
   "outputs": [],
   "metadata": {}
  },
  {
   "cell_type": "markdown",
   "source": [
    "The ***upload_pdb_file*** returns a dummy PDB-code for the uploaded structure which can be used in place of a valid PDB-code to submit a binding-site detection job. Notice that the ***submit_job*** function can also take in a chain-ID to limit the detection on that specific chain, and a ligand-ID to also calculate the coverage of each detected binding-site. However, the ligand-ID that *DoGSiteScorer* accepts has its own format and is not the same as the ligand-ID in the protein PDB file. \n",
    "    \n",
    "Nevertheless, it follows the following format: (ligand-ID)\\_(chain-ID)\\_(ligand-residue-ID). When implementing the ***BindingSiteDetection*** class, we will circumvent this by automatically generating the *DogSiteScorer* ligand-ID from the normal ligand-ID so that the user does not have to manually look up and enter the ligand-ID in this specific format. This process should take *about one minute* to complete."
   ],
   "metadata": {}
  },
  {
   "cell_type": "code",
   "execution_count": null,
   "source": [
    "example_binding_site_data = DoGSiteScorer.submit_job(\n",
    "    pdb_id=example_dummy_pdb_id, ligand_id=\"W32_A_1101\", chain_id=\"A\"\n",
    ")\n",
    "\n",
    "example_binding_site_data\n",
    "\n",
    "# NBVAL_CHECK_OUTPUT"
   ],
   "outputs": [],
   "metadata": {}
  },
  {
   "cell_type": "markdown",
   "source": [
    "Alternatively, we can also use a valid PDB-code to directly submit a binding-site detection job: "
   ],
   "metadata": {}
  },
  {
   "cell_type": "code",
   "execution_count": null,
   "source": [
    "DoGSiteScorer.submit_job(\n",
    "    pdb_id=project1.Protein.pdb_code,\n",
    "    ligand_id=\"W32_A_1101\",\n",
    "    chain_id=project1.Protein.chains[0],\n",
    ")\n",
    "\n",
    "# NBVAL_CHECK_OUTPUT"
   ],
   "outputs": [],
   "metadata": {}
  },
  {
   "cell_type": "markdown",
   "source": [
    "The ***submit_job*** function returns a DataFrame containing all the detected binding-sites and their respective properties. It also contains the URLs of the PDB and CCP4 files for each of the detected binding-sites, which can be used to download the files later. Among the calculated properties, the most important are ***drugScore***, ***simpleScore***, ***volume***, as well as ***lig_cov*** and ***poc_cov*** for when a ligand-ID is also inputted. The list of all properties can be accessed by retrieving the column names of the DataFrame: "
   ],
   "metadata": {}
  },
  {
   "cell_type": "code",
   "execution_count": null,
   "source": [
    "example_binding_site_data.columns\n",
    "\n",
    "# NBVAL_CHECK_OUTPUT"
   ],
   "outputs": [],
   "metadata": {}
  },
  {
   "cell_type": "markdown",
   "source": [
    "The ***simpleScore*** is a simple druggability score, based on a linear combination of the three descriptors describing volume, hydrophobicity and enclosure. In addition, a subset of meaningful descriptors is incorporated in a support vector machine (libsvm) to predict a druggability score called ***drugScore***, which has a value between 0 and 1. The higher the score the more druggable the binding-site is estimated to be. ***lig_cov*** gives the percentage of the ligand volume that is covered by the binding-site, and ***poc_cov*** gives the percentage of the binding-site volume that is covered by the ligand.\n",
    "\n",
    "Depending on the specifics of the project, these values can be used to select the most-suitable detected binding-site. Here, we have implemented two possibilities for this selection process in the ***select_best_pocket*** function. The first option is to provide a list of properties in order of importance, based on which the binding-site with the highest or lowest value is to be chosen. The function then returns the name of the selected binding-site. The list of properties should be inputted as a list:"
   ],
   "metadata": {}
  },
  {
   "cell_type": "code",
   "execution_count": null,
   "source": [
    "example_best_pocket_name = DoGSiteScorer.select_best_pocket(\n",
    "    binding_site_df=example_binding_site_data,\n",
    "    selection_method=\"sorting\",\n",
    "    selection_criteria=[\"lig_cov\", \"poc_cov\"],\n",
    "    ascending=False,\n",
    ")\n",
    "\n",
    "example_best_pocket_name\n",
    "\n",
    "# NBVAL_CHECK_OUTPUT"
   ],
   "outputs": [],
   "metadata": {}
  },
  {
   "cell_type": "markdown",
   "source": [
    "For example, the above ***selection_criteria*** sorts the binding-sites by their ***lig_cov*** values and if there are two or more binding-sites with the same ***lig_cov*** value, it then sorts them by their ***poc_cov*** values.\n",
    "\n",
    "Another possibility for selecting a binding site is to provide any valid python expression that generates a list-like object with the same length as the number of detected binding-site. This python expression is inputted as string, so the user can directly input a python expression in the input CSV file and it will be evaluated during the runtime.\n",
    "\n",
    "For example, using this method we can perform any calculation on the properties in the binding-site DataFrame. Note that for referring to the binding-site dataframe, *'df'* should be used:"
   ],
   "metadata": {}
  },
  {
   "cell_type": "code",
   "execution_count": null,
   "source": [
    "DoGSiteScorer.select_best_pocket(\n",
    "    binding_site_df=example_binding_site_data,\n",
    "    selection_method=\"function\",\n",
    "    selection_criteria=\"((df['lig_cov'] + df['poc_cov']) / 2) * ((df['drugScore'] + df['simpleScore']) / 2) / df['volume']\",\n",
    "    ascending=False,\n",
    ")\n",
    "\n",
    "# NBVAL_CHECK_OUTPUT"
   ],
   "outputs": [],
   "metadata": {}
  },
  {
   "cell_type": "markdown",
   "source": [
    "For example, the above ***selection_criteria*** is a function that calculates the average of ***lig_cov*** and ***poc_cov***, as well as the average of ***drugScore*** and ***simpleScore***, multiplies the two together and then divides the result by the ***volume***. The binding-site that has the highest value is then chosen. If we want to have the lowest value, we can set the ***ascending*** parameter to False. Note that the dataframe should always be referred to as *'df'*. Another example is:"
   ],
   "metadata": {}
  },
  {
   "cell_type": "code",
   "execution_count": null,
   "source": [
    "DoGSiteScorer.select_best_pocket(\n",
    "    binding_site_df=example_binding_site_data,\n",
    "    selection_method=\"function\",\n",
    "    selection_criteria=\"df[['drugScore', 'simpleScore']].min(axis=1) * df[['poc_cov', 'lig_cov']].max(axis=1)\",\n",
    "    ascending=False,\n",
    ")\n",
    "\n",
    "# NBVAL_CHECK_OUTPUT"
   ],
   "outputs": [],
   "metadata": {}
  },
  {
   "cell_type": "markdown",
   "source": [
    "The above example calculates the minimum value between ***drugScore*** and ***simpleScore***, and multiplies the results with the maximum value between the***poc_cov*** and ***lig_cov***. \n",
    "    \n",
    "We now want to calculate the coordinates of the selected binding-site, so that we can use it in the docking process. For this, we first need to download the PDB files of the detected binding-sites, using the ***save_binding_sites_to_file*** function:  "
   ],
   "metadata": {}
  },
  {
   "cell_type": "code",
   "execution_count": null,
   "source": [
    "DoGSiteScorer.save_binding_sites_to_file(\n",
    "    binding_site_df=example_binding_site_data, output_path=example_output_path\n",
    ")"
   ],
   "outputs": [],
   "metadata": {}
  },
  {
   "cell_type": "markdown",
   "source": [
    "Having downloaded the necessary binding-site files, we can now calculate the coordinates of the selected binding-site:"
   ],
   "metadata": {}
  },
  {
   "cell_type": "code",
   "execution_count": null,
   "source": [
    "DoGSiteScorer.calculate_pocket_coordinates_from_pocket_pdb_file(\n",
    "    filepath=example_output_path / example_best_pocket_name\n",
    ")\n",
    "\n",
    "# NBVAL_CHECK_OUTPUT"
   ],
   "outputs": [],
   "metadata": {
    "tags": []
   }
  }
 ],
 "metadata": {
  "colab": {
   "collapsed_sections": [],
   "name": "Copy of T04-Short presentation.ipynb",
   "provenance": []
  },
  "interpreter": {
   "hash": "45522c5628391462637735a679586e65656862e20fd5b76530148d8eaf641b21"
  },
  "kernelspec": {
   "name": "python3",
   "display_name": "Python 3.9.6 64-bit ('teachopencadd': conda)"
  },
  "language_info": {
   "codemirror_mode": {
    "name": "ipython",
    "version": 3
   },
   "file_extension": ".py",
   "mimetype": "text/x-python",
   "name": "python",
   "nbconvert_exporter": "python",
   "pygments_lexer": "ipython3",
   "version": "3.9.6"
  },
  "toc-autonumbering": true,
  "toc-showcode": true,
  "toc-showmarkdowntxt": false
 },
 "nbformat": 4,
 "nbformat_minor": 4
}