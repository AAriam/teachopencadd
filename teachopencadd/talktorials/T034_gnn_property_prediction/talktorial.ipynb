{
 "cells": [
  {
   "cell_type": "markdown",
   "metadata": {},
   "source": [
    "# GNN based property prediction"
   ]
  },
  {
   "cell_type": "markdown",
   "metadata": {},
   "source": [
    "In this tutorial, we will explain the basic concepts of graph neural networks (GNNs). We will implement two simple GNNs for property prediction. "
   ]
  },
  {
   "cell_type": "markdown",
   "metadata": {},
   "source": [
    "**TODO List** \n",
    "\n",
    "* papers for application of GNNs\n",
    "* quiz\n",
    "* add more plots target prediction vs ground truth (test set)\n",
    "* add random seed"
   ]
  },
  {
   "cell_type": "markdown",
   "metadata": {},
   "source": [
    "### Content in Theory\n",
    "\n",
    "* GNN Tasks\n",
    "* Message Passing \n",
    "* Graph Convolutional Network (GCN)\n",
    "* Graph Isomorphism Network (GIN)\n",
    "* Training a GNN\n"
   ]
  },
  {
   "cell_type": "markdown",
   "metadata": {},
   "source": [
    "### Content in Practical \n",
    "\n",
    "* Dataset \n",
    "* Defining a GCN and GIN\n",
    "* Training a GNN\n",
    "* Evaluating the model "
   ]
  },
  {
   "cell_type": "markdown",
   "metadata": {},
   "source": [
    "### References\n",
    "\n",
    "* Papers: \n",
    "    * Geometric Deep Learning on Molecular Representations, [https://arxiv.org/pdf/2107.12375.pdf](https://arxiv.org/pdf/2107.12375.pdf)\n",
    "    * How Powerful are Graph Neural Networks?, [https://arxiv.org/abs/1810.00826v3](https://arxiv.org/abs/1810.00826v3)\n",
    "    * Semi-supervised classification with graph convolutional networks, [https://arxiv.org/pdf/1609.02907.pdf](https://arxiv.org/pdf/1609.02907.pdf)\n",
    "\n",
    "* Blog posts: \n",
    "    * Graph Convolutional Networks: Introduction to GNNs, [https://mlabonne.github.io/blog/intrognn/](https://mlabonne.github.io/blog/intrognn/)\n",
    "    * GIN: How to Design the Most Powerful Graph Neural Network, [https://mlabonne.github.io/blog/gin/](https://mlabonne.github.io/blog/gin/)"
   ]
  },
  {
   "cell_type": "markdown",
   "metadata": {},
   "source": [
    "## Theory\n",
    "\n",
    "### Graph Neural Networks\n",
    "\n",
    "If we work with molecules, one intuitive approach to apply deep learning to certain tasks is to make use of the graph-structure of molecules. Graph neural networks can directly work on given graphs. \n",
    "\n",
    "#### GNN Tasks\n",
    "\n",
    "We can perform different tasks with a GNN such as: \n",
    "\n",
    "- graph-level prediction: we predict a specific property of the entire graph. This can be a classification task such as toxicity prediction or a regression task. In this tutorial, we will present be a regression task.\n",
    "- node-level prediction: we predict a property of a specific node in the graph, e.g. the atomic number. \n",
    "- node prediction: we predict a new node in the graph, this is relevant for molecule generation to extend molecules by adding new atoms. \n",
    "- edge prediction: we predict a new edge in the graph, this is also important in molecule generation to generate potential bonds between the atoms\n"
   ]
  },
  {
   "cell_type": "markdown",
   "metadata": {},
   "source": [
    "#### Message Passing\n",
    "\n",
    "Given a graph $G=(V,E)$, $V$ describe the vertices or nodes. A node $v$ can have different features $v_i$, such as atomic number. The edge features $e_{ij}$ are usually the bond type. \n",
    "\n",
    "\n",
    "<p align=\"center\">\n",
    "<img src=\"images/simple-graph.png\" alt=\"simple_graph\" width=\"600\"/>\n",
    "</p>\n",
    "\n",
    "Instead of MLP layers in standard neural networks, GNNs have message passing layers, where we collect information about the neighbors. For each node $v$, we look at the direct neighbors $N(v)$ and gather information (such as node features). Then all the information is aggregated, for example with summation. Then we update the node $v$ with the aggregated messages. If we perform this aggregation and combining, each node contains the information about the direct neighbors (1-hop). If we repeat this $n$ times, we aggregate information about the $n$ th closest neighbors ($n$ -hop). \n",
    "\n",
    "$$a_v^{(k)} = \\text{aggregate}^{(k)} (\\{ h_u^{(k-1)}: u \\in N(v) \\})$$\n",
    "\n",
    "$$h_v^{(k)} = \\text{combine}^{(k)} (h_v^{(k-1)}, a_v^{(k)})$$\n",
    "\n",
    "where $h_v^{(k)}$ is the embedding of node $v$ at layer $k$, $N(v)$ are the neighbors of node $v$. \n",
    "\n",
    "\n",
    "\n",
    "<p align=\"center\">\n",
    "<img src=\"images/gnn_overview.png\" alt=\"simple_graph\" width=\"600\"/>\n",
    "</p>\n",
    "<p align=\"center\">\n",
    "    <em> Image taken from [<a href=\"https://medium.com/stanford-cs224w/self-supervised-learning-for-graphs-963e03b9f809\" target=\"_top\">1</a>]\n",
    "</em>\n",
    "</p>\n",
    "\n",
    "\n"
   ]
  },
  {
   "cell_type": "markdown",
   "metadata": {},
   "source": [
    "#### GCN \n",
    "\n",
    "One of the simplest GNN is a Graph Convolutional Network (GCN). For GCNs, we sum over all neighbors of node $v$, including the node $v$ itself and aggregate all information. We divide it by the degree to keep the range of different nodes comparable. The node-wise aggregation function is\n",
    "\n",
    "$$h_v = \\Theta^{\\top} \\sum_{u \\in N(v) \\cup \\{v\\}} \\frac{1}{\\sqrt{d_v d_u}} \\cdot h_u$$\n",
    "\n",
    "where $d_j$ and $d_i$ denote the degree of node $j$ and $i$, respectively. \n",
    "\n",
    "One disadvantage of GCNs is, that they use a mean based aggregation and this function is not injective. This means that different graphs can lead to the same graph embedding and the network cannot distinguish between the two graphs anymore. One example is in the figure below. \n",
    "\n",
    "\n",
    "<p align=\"center\">\n",
    "<img src=\"images/graph.jpeg\" alt=\"simple_graph\" width=\"500\"/>\n",
    "</p>\n",
    "<p align=\"center\">\n",
    "    <em> Two indistinguishable graphs using GCNs \n",
    "</em>\n",
    "</p>"
   ]
  },
  {
   "cell_type": "markdown",
   "metadata": {},
   "source": [
    "\n",
    "#### GIN \n",
    "For a GNN, we therefore need an aggregation function and a combining function that should be permutation invariant, such as using the mean, the maximum or a sum. In this tutorial, we focus on the Graph Isomorphism Network (GIN), where the aggregation function is defined as the following: \n",
    "\n",
    "$$h_v^{(k)} = h_\\Theta((1+ \\epsilon) \\cdot h_v^{(k-1)} + \\sum_{u \\in N(v)} h_u^{(k-1)} )$$\n",
    "\n",
    "The aggregation function here is a sum. The parameter $\\epsilon$ decides on the importance of the node $v$ compared to its neighbors. $h_\\Theta$ represents a neural network, for example an MLP. \n",
    "\n",
    "\n",
    "GINs are a good example of a simple network, which still is quite powerful, as they are quite good in distinguishing between non-isomorphic graphs. Two graphs are isomorphic, if the graphs are identical except for node permutations. While this might be easily visible for smaller graphs, it is a complex problem for larger graphs. When working with GNNs, we would like the model to give us the same output if the input graphs are isomorphic. On the other hand, we also want the model to be able to differentiate between non-isomorphic graphs and output (possibly) different results. GINs can differentiate between non-isomorphic graphs a lot better than other simple GNNs such as GCN and GraphSage. For example, the two graphs in the figure above have different embeddings using GINs, since we are using a sum-based aggregation. It is proven that GINs are as powerful as the Weisfeiler-Lehman test, a common (but not perfect) isomorphism test for graphs. If you are interested in the WL test or more details on GINs, [here](https://arxiv.org/abs/1810.00826v3) is the original publication about GINs and a [blog post](https://towardsdatascience.com/expressive-power-of-graph-neural-networks-and-the-weisefeiler-lehman-test-b883db3c7c49) about the WL test. \n",
    "\n"
   ]
  },
  {
   "cell_type": "markdown",
   "metadata": {},
   "source": [
    "#### Training a GNN\n",
    "\n",
    "Similar to training a standard neural network, different design choices and hyperparameters need to be decided on. We will shortly present some concepts commonly used in neural networks, which can also be used for GNNs. Loss functions and activation functions are already discussed in Tutorial 22 (TODO: add link). We also used the mean squared error loss as well as the ReLU activation function. \n",
    "\n",
    "\n",
    "##### Batching\n",
    "\n",
    "It is common to do batching when training a GNN to improve performance. The batch size indicates how many samples from the training data are fed to the neural network before updating model parameters. Choosing the right batch size is a trade-off between computational cost and generalization. For larger batches, the model is updated fewer times and the training is a lot faster. Models using smaller batches can generalize better, meaning that the test error can be lower. Since this is not the only hyperparameter, choosing the batch size is also linked to the learning rate, the number of training epochs etc. For batching in GNNs, the adjacency matrices are stacked diagonally and the node features are concatenated. \n",
    "\n",
    "\n",
    "<p align=\"center\">\n",
    "<img src=\"images/batching-ex.png\" alt=\"simple_graph\" width=\"600\"/>\n",
    "</p>\n",
    "<p align=\"center\">\n",
    "    <em>Batching in GNNs, image taken from [<a href=\"https://blog.dataiku.com/graph-neural-networks-part-three\" target=\"_top\">2</a>]\n",
    "</em>\n",
    "</p>\n",
    "\n",
    "\n",
    "#### Pooling\n",
    "\n",
    "Pooling layers help a neural network to reduce dimensionality. This makes the model more robust to variations. In graphs, global pooling layers can produce a graph embedding from the different node embeddings. There are different ways for pooling, the most common ones are: mean, max and sum. For the GCN, we use a global mean pooling layer and for the GIN we use a global sum pooling layer. \n",
    "\n",
    "\n",
    "\n",
    "#### Dropout\n",
    "\n",
    "One common problem in deep learning tasks is overfitting. This usually means that the dataset used to train the neural network is too small. Applying an overfitted network to a different dataset then leads to a high error in prediction, since the model is fit too closely to the training data and does not generalize well enough. To reduce overfitting, one approach is to use dropout layers, which can lead to a better generalization of the model. During training, nodes are randomly dropped. The probability of dropping nodes is another hyperparameter to be fixed. In each iteration, the nodes (and the number of nodes) can therefore differ. This means we incorporate more noise and therefore force the neural network to generalize better. \n",
    "\n"
   ]
  },
  {
   "cell_type": "markdown",
   "metadata": {},
   "source": [
    "## Practical \n",
    "\n",
    "**TODO** not done yet \n",
    "\n"
   ]
  },
  {
   "cell_type": "code",
   "execution_count": 23,
   "metadata": {},
   "outputs": [],
   "source": [
    "import torch\n",
    "from torch_geometric.datasets import QM9\n",
    "from torch_geometric.nn import GCNConv, GINConv\n",
    "import torch.nn.functional as Fun\n",
    "import pandas as pd\n",
    "from torch_geometric.loader import DataLoader\n",
    "from torch_geometric.nn import global_mean_pool, global_add_pool\n",
    "from torch.nn import Linear, Sequential, BatchNorm1d, ReLU, Dropout\n",
    "import matplotlib.pylab as plt\n",
    "from matplotlib.ticker import MaxNLocator\n",
    "import numpy \n",
    "from pathlib import Path "
   ]
  },
  {
   "cell_type": "code",
   "execution_count": 24,
   "metadata": {},
   "outputs": [],
   "source": [
    "# specify local data path \n",
    "HERE = Path(_dh[-1])\n",
    "DATA = HERE / \"data\""
   ]
  },
  {
   "cell_type": "markdown",
   "metadata": {},
   "source": [
    "### Dataset \n",
    "For this tutorial, we use the `QM9` dataset, which can be imported with `torch_geometric`. The dataset contains around $130,000$ small molecules with at most 9 heavy atoms. "
   ]
  },
  {
   "cell_type": "code",
   "execution_count": 25,
   "metadata": {},
   "outputs": [],
   "source": [
    "# load dataset\n",
    "\n",
    "qm9 = QM9(root=DATA)\n",
    "\n",
    "y_target = pd.DataFrame(qm9.data.y.numpy())\n",
    "qm9.data.y = torch.Tensor(y_target[0])\n",
    "\n",
    "qm9 = qm9.shuffle()\n",
    "\n",
    "# data split\n",
    "data_size = 30000\n",
    "train_index = int(data_size * 0.8)\n",
    "test_index = train_index + int(data_size * 0.1)\n",
    "val_index = test_index + int(data_size * 0.1)\n",
    "\n",
    "\n",
    "# normalizing the data \n",
    "data_mean = qm9.data.y[0:train_index].mean()\n",
    "data_std = qm9.data.y[0:train_index].std()\n",
    "\n",
    "qm9.data.y = (qm9.data.y - data_mean) / data_std\n",
    "\n",
    "# datasets into DataLoader \n",
    "train_loader = DataLoader(qm9[0:train_index], batch_size=64, shuffle=True)\n",
    "test_loader = DataLoader(qm9[train_index:test_index], batch_size=64, shuffle=True)\n",
    "val_loader = DataLoader(qm9[test_index:val_index], batch_size= 64, shuffle=True)\n"
   ]
  },
  {
   "cell_type": "markdown",
   "metadata": {},
   "source": [
    "As an example, the first molecule from the dataset is shown below. The dataset contains the following information: \n",
    "- `x`: contains the different node features (such as atomic number, chirality, hybridisation, is aromatic, is in ring),\n",
    "- `edge_index`: adjacency matrix, representing the bonds,\n",
    "- `edge_attributes`: contains the edge features (bond type, is conjugated, stereo configuration),\n",
    "- `pos`: 3D atom coordinates, we will not use them in this tutorial,\n",
    "- `z`: atomic numbers,\n",
    "- `y`: target value, in our case indicating the dipole moment of the molecule.\n",
    "\n",
    "The dataset has 19 different regression tasks, we will only focus on one of the tasks, which is the prediction of the dipole moment $\\mu$. For this tutorial, we only sample a subset of QM9. This keeps the runtime low and is enough to show first results.  "
   ]
  },
  {
   "cell_type": "code",
   "execution_count": 15,
   "metadata": {},
   "outputs": [
    {
     "data": {
      "text/plain": [
       "Data(x=[23, 11], edge_index=[2, 48], edge_attr=[48, 4], y=[1], pos=[23, 3], z=[23], name='gdb_40211', idx=[1])"
      ]
     },
     "execution_count": 15,
     "metadata": {},
     "output_type": "execute_result"
    }
   ],
   "source": [
    "qm9[0]"
   ]
  },
  {
   "cell_type": "code",
   "execution_count": 26,
   "metadata": {},
   "outputs": [],
   "source": [
    "class GCN(torch.nn.Module): \n",
    "    \"\"\"Graph Convolutional Network class with 3 convolutional layers and a linear layer\n",
    "    \n",
    "    \"\"\"\n",
    "    \n",
    "    def __init__(self, dim_h): \n",
    "        \"\"\"init method for GCN\n",
    "\n",
    "        Args:\n",
    "            dim_h (int): dimension of hidden layers\n",
    "        \"\"\"\n",
    "        super().__init__()\n",
    "        self.conv1 = GCNConv(qm9.num_features, dim_h)\n",
    "        self.conv2 = GCNConv(dim_h, dim_h)\n",
    "        self.conv3 = GCNConv(dim_h, dim_h)\n",
    "        self.lin = torch.nn.Linear(dim_h, 1)\n",
    "    \n",
    "    def forward(self, data): \n",
    "        e = data.edge_index\n",
    "        x = data.x\n",
    "        \n",
    "        x = self.conv1(x, e)\n",
    "        x = x.relu()\n",
    "        x = self.conv2(x, e)\n",
    "        x = x.relu()\n",
    "        x = self.conv3(x, e)\n",
    "        x = global_mean_pool(x, data.batch)  \n",
    "\n",
    "        x = Fun.dropout(x, p=0.5, training=self.training)\n",
    "        x = self.lin(x)\n",
    "\n",
    "        return x"
   ]
  },
  {
   "cell_type": "code",
   "execution_count": 5,
   "metadata": {},
   "outputs": [],
   "source": [
    "\n",
    "class GIN(torch.nn.Module):\n",
    "    \"\"\"Graph Isomorphism Network class with 3 GINConv layers and 2 linear layers\n",
    "\n",
    "    \"\"\"\n",
    "    \n",
    "    def __init__(self, dim_h):\n",
    "        \"\"\"Initializing GIN class\n",
    "\n",
    "        Args:\n",
    "            dim_h (int): dimension of hidden layers\n",
    "        \"\"\"\n",
    "        super(GIN, self).__init__()\n",
    "        self.conv1 = GINConv(\n",
    "            Sequential(Linear(11, dim_h),\n",
    "                       BatchNorm1d(dim_h), ReLU(),\n",
    "                       Linear(dim_h, dim_h), ReLU()))\n",
    "        self.conv2 = GINConv(\n",
    "            Sequential(Linear(dim_h, dim_h), BatchNorm1d(dim_h), ReLU(),\n",
    "                       Linear(dim_h, dim_h), ReLU()))\n",
    "        self.conv3 = GINConv(\n",
    "            Sequential(Linear(dim_h, dim_h), BatchNorm1d(dim_h), ReLU(),\n",
    "                       Linear(dim_h, dim_h), ReLU()))\n",
    "        self.lin1 = Linear(dim_h, dim_h)\n",
    "        self.lin2 = Linear(dim_h, 1)\n",
    "\n",
    "    def forward(self, data):\n",
    "\n",
    "        x = data.x\n",
    "        edge_index = data.edge_index\n",
    "        batch = data.batch\n",
    "        \n",
    "        # Node embeddings \n",
    "        h = self.conv1(x, edge_index)\n",
    "        h = h.relu()\n",
    "        h = self.conv2(h, edge_index)\n",
    "        h = h.relu()\n",
    "        h = self.conv3(h, edge_index)\n",
    "\n",
    "        # Graph-level readout\n",
    "        h = global_add_pool(h, batch)\n",
    "\n",
    "        h = self.lin1(h)\n",
    "        h = h.relu()\n",
    "        h = Fun.dropout(h, p=0.5, training=self.training)\n",
    "        h = self.lin2(h)\n",
    "        \n",
    "        return h"
   ]
  },
  {
   "cell_type": "code",
   "execution_count": 16,
   "metadata": {},
   "outputs": [],
   "source": [
    "\n",
    "def training(loader, model, loss, optimizer): \n",
    "    \"\"\"Training one epoch\n",
    "\n",
    "    Args:\n",
    "        loader (DataLoader): loader (DataLoader): training data divided into batches\n",
    "        model (nn.Module): GNN model to train on\n",
    "        loss (nn.functional): loss function to use during training\n",
    "        optimizer (optimizer): optimizer during training\n",
    "\n",
    "    Returns:\n",
    "        float: training loss\n",
    "    \"\"\"\n",
    "    model.train()\n",
    "\n",
    "    current_loss = 0\n",
    "    for d in loader: \n",
    "        optimizer.zero_grad()\n",
    "        d.x = d.x.float()\n",
    "    \n",
    "        out = model(d)\n",
    "        \n",
    "        l = loss(out, torch.reshape(d.y, (len(d.y), 1)))\n",
    "        current_loss += l / len(loader)\n",
    "        l.backward()\n",
    "        optimizer.step()\n",
    "    return current_loss, model"
   ]
  },
  {
   "cell_type": "code",
   "execution_count": 17,
   "metadata": {},
   "outputs": [],
   "source": [
    "def validation(loader, model , loss): \n",
    "    \"\"\"validation\n",
    "\n",
    "    Args:\n",
    "        loader (DataLoader): validation set in batches\n",
    "        model (nn.Module): current trained model\n",
    "        loss (nn.functional): loss function\n",
    "\n",
    "    Returns:\n",
    "        float: validation loss\n",
    "    \"\"\"\n",
    "    model.eval()\n",
    "    val_loss = 0\n",
    "    for d in loader: \n",
    "        out = model(d)\n",
    "        l = loss(out, torch.reshape(d.y, (len(d.y), 1))) \n",
    "        val_loss += l / len(loader)\n",
    "    return val_loss "
   ]
  },
  {
   "cell_type": "code",
   "execution_count": 18,
   "metadata": {},
   "outputs": [],
   "source": [
    "# TODO: add target vs pred validation \n",
    "\n",
    "@torch.no_grad()\n",
    "def testing(loader, model):\n",
    "    \"\"\"testing \n",
    "\n",
    "    Args:\n",
    "        loader (DataLoader): test dataset\n",
    "        model (nn.Module): trained model\n",
    "\n",
    "    Returns:\n",
    "        float: test loss\n",
    "    \"\"\"\n",
    "    loss = torch.nn.MSELoss()\n",
    "    test_loss = 0 \n",
    "    for d in loader: \n",
    "        out = model(d)\n",
    "        l = loss(out, torch.reshape(d.y, (len(d.y), 1))) \n",
    "        test_loss += l / len(loader)\n",
    "    \n",
    "    return test_loss\n"
   ]
  },
  {
   "cell_type": "code",
   "execution_count": 46,
   "metadata": {},
   "outputs": [],
   "source": [
    "def plot_loss(gcn_train_loss, gcn_val_loss, gin_train_loss, gin_val_loss): \n",
    "    \"\"\"plots the loss for each epoch\n",
    "\n",
    "    Args:\n",
    "        epochs (int): number of epochs\n",
    "        train_loss (array): training losses for each epoch\n",
    "        val_loss (array): validation losses for each epoch\n",
    "    \"\"\"\n",
    "    plt.plot(gcn_train_loss, label=\"Train loss (GCN)\")\n",
    "    plt.plot(gcn_val_loss, label=\"Val loss (GCN)\")\n",
    "    plt.plot(gin_train_loss, label=\"Train loss (GIN)\")\n",
    "    plt.plot(gin_val_loss, label=\"Val loss (GIN)\")\n",
    "    plt.legend()\n",
    "    plt.ylabel('loss')\n",
    "    plt.xlabel('epoch')\n",
    "    plt.title('Model Loss')\n",
    "    plt.gca().xaxis.set_major_locator(MaxNLocator(integer=True))\n",
    "    plt.show()\n"
   ]
  },
  {
   "cell_type": "code",
   "execution_count": 20,
   "metadata": {},
   "outputs": [],
   "source": [
    "def plot_targets(pred, ground_truth): \n",
    "    \"\"\"plots true vs predicted value in scatter plot\n",
    "\n",
    "    Args:\n",
    "        pred (array): predicted values\n",
    "        ground_truth (array): ground truth values\n",
    "    \"\"\"\n",
    "    plt.scatter(pred, ground_truth, s=0.5)\n",
    "    plt.xlim(-2, 7)\n",
    "    plt.ylim(-2, 7)\n",
    "    plt.xlabel(\"Predicted Value\")\n",
    "    plt.ylabel(\"True Value\")\n",
    "    plt.title(\"True vs predicted values\")\n",
    "    plt.show()"
   ]
  },
  {
   "cell_type": "code",
   "execution_count": 21,
   "metadata": {},
   "outputs": [],
   "source": [
    "# training\n",
    "\n",
    "def train_epochs(epochs, model, train_loader, test_loader, path): \n",
    "    optimizer = torch.optim.Adam(model.parameters(), lr=0.001, weight_decay=5e-4)\n",
    "    loss = torch.nn.MSELoss()\n",
    "    train_target = numpy.empty((0))\n",
    "    train_y_target = numpy.empty((0))\n",
    "    train_loss = numpy.empty(epochs)\n",
    "    val_loss = numpy.empty(epochs)\n",
    "    best_loss = None\n",
    "    for epoch in range(epochs): \n",
    "        epoch_loss, model = training(train_loader, model, loss, optimizer)\n",
    "        v_loss = validation(test_loader, model, loss)\n",
    "        if best_loss is None: \n",
    "            best_loss = v_loss\n",
    "        if v_loss < best_loss: \n",
    "            torch.save(model.state_dict(), path)\n",
    "        for d in train_loader: \n",
    "            out = model(d)\n",
    "            # TODO: train vs pred on best model \n",
    "            if epoch == epochs-1:\n",
    "                # record true vs predicted values for training data \n",
    "                train_target = numpy.concatenate((train_target, out.detach().numpy()[:,0]))\n",
    "                train_y_target = numpy.concatenate((train_y_target, d.y.detach().numpy()))\n",
    "        \n",
    "        train_loss[epoch] = epoch_loss.detach().numpy()\n",
    "        val_loss[epoch] = v_loss.detach().numpy()\n",
    "        \n",
    "        if epoch % 10 == 0: \n",
    "            print(\"Epoch: \" + str(epoch) + \", Train loss: \" + str(epoch_loss) + \", Val loss: \" + str(v_loss))\n",
    "    return train_loss, val_loss, train_target, train_y_target\n"
   ]
  },
  {
   "cell_type": "markdown",
   "metadata": {},
   "source": [
    "### Training GCN and GIN"
   ]
  },
  {
   "cell_type": "code",
   "execution_count": 28,
   "metadata": {},
   "outputs": [
    {
     "name": "stdout",
     "output_type": "stream",
     "text": [
      "Epoch:0, Training loss: tensor(0.9351, grad_fn=<AddBackward0>), Test loss: tensor(0.9315, grad_fn=<AddBackward0>)\n",
      "Epoch:1, Training loss: tensor(0.8866, grad_fn=<AddBackward0>), Test loss: tensor(0.9166, grad_fn=<AddBackward0>)\n",
      "Epoch:2, Training loss: tensor(0.8595, grad_fn=<AddBackward0>), Test loss: tensor(0.8943, grad_fn=<AddBackward0>)\n",
      "Epoch:3, Training loss: tensor(0.8493, grad_fn=<AddBackward0>), Test loss: tensor(0.8893, grad_fn=<AddBackward0>)\n",
      "Epoch:4, Training loss: tensor(0.8371, grad_fn=<AddBackward0>), Test loss: tensor(0.8710, grad_fn=<AddBackward0>)\n"
     ]
    }
   ],
   "source": [
    "epochs = 100\n",
    "# training GCN for 100 epochs\n",
    "\n",
    "model = GCN(dim_h=128)\n",
    "\n",
    "gcn_train_loss, gcn_val_loss, gcn_train_target, gcn_train_y_target = train_epochs(epochs, model, train_loader, test_loader, 'GCN_best-model-parameters.pt')\n"
   ]
  },
  {
   "cell_type": "code",
   "execution_count": 29,
   "metadata": {},
   "outputs": [
    {
     "name": "stdout",
     "output_type": "stream",
     "text": [
      "Epoch:0, Training loss: tensor(0.6943, grad_fn=<AddBackward0>), Test loss: tensor(0.6533, grad_fn=<AddBackward0>)\n",
      "Epoch:1, Training loss: tensor(0.5830, grad_fn=<AddBackward0>), Test loss: tensor(0.5084, grad_fn=<AddBackward0>)\n",
      "Epoch:2, Training loss: tensor(0.5454, grad_fn=<AddBackward0>), Test loss: tensor(0.5086, grad_fn=<AddBackward0>)\n",
      "Epoch:3, Training loss: tensor(0.5258, grad_fn=<AddBackward0>), Test loss: tensor(0.4875, grad_fn=<AddBackward0>)\n",
      "Epoch:4, Training loss: tensor(0.4905, grad_fn=<AddBackward0>), Test loss: tensor(0.4745, grad_fn=<AddBackward0>)\n"
     ]
    }
   ],
   "source": [
    "# training GIN for 100 epochs\n",
    "\n",
    "model = GIN(dim_h=64)\n",
    "\n",
    "gin_train_loss, gin_val_loss, gin_train_target, gin_train_y_target = train_epochs(epochs, model, train_loader, test_loader, 'GIN_best-model-parameters.pt')"
   ]
  },
  {
   "cell_type": "markdown",
   "metadata": {},
   "source": [
    "### Evaluating the model \n",
    "\n",
    "For evaluation, we use a validation dataset to find the best model and a test set, to test our model on unseen data. \n",
    "First, we have plotted the losses of our training and validation sets. \n"
   ]
  },
  {
   "cell_type": "code",
   "execution_count": 47,
   "metadata": {},
   "outputs": [
    {
     "data": {
      "image/png": "[encoded data removed]",
      "text/plain": [
       "<Figure size 640x480 with 1 Axes>"
      ]
     },
     "metadata": {},
     "output_type": "display_data"
    }
   ],
   "source": [
    "# plot overall losses of GIN and GCN \n",
    "\n",
    "plot_loss(gcn_train_loss, gcn_val_loss, gin_train_loss, gin_val_loss)"
   ]
  },
  {
   "cell_type": "markdown",
   "metadata": {},
   "source": [
    "Then, we also plotted the actual predictions of our target value compared to the ground truth for the GIN model, since this model performs better."
   ]
  },
  {
   "cell_type": "code",
   "execution_count": 48,
   "metadata": {},
   "outputs": [
    {
     "data": {
      "image/png": "[encoded data removed]",
      "text/plain": [
       "<Figure size 640x480 with 1 Axes>"
      ]
     },
     "metadata": {},
     "output_type": "display_data"
    }
   ],
   "source": [
    "# plot target and prediction \n",
    "\n",
    "plot_targets(gin_train_target, gin_train_y_target)"
   ]
  },
  {
   "cell_type": "markdown",
   "metadata": {},
   "source": [
    "Below, we have calculated the test loss for both the GCN and the GIN. "
   ]
  },
  {
   "cell_type": "code",
   "execution_count": 53,
   "metadata": {},
   "outputs": [
    {
     "name": "stdout",
     "output_type": "stream",
     "text": [
      "Test Loss for GCN: tensor(0.8766)\n"
     ]
    }
   ],
   "source": [
    "# Calculate test loss from best GCN model (according to validation loss) \n",
    "\n",
    "# load our model\n",
    "model = GCN(dim_h=128)\n",
    "model.load_state_dict(torch.load('GCN_best-model-parameters.pt'))\n",
    "\n",
    "# calculate test loss\n",
    "test_loss = testing(test_loader, model)\n",
    "\n",
    "print(\"Test Loss for GCN: \" + str(test_loss))"
   ]
  },
  {
   "cell_type": "code",
   "execution_count": 50,
   "metadata": {},
   "outputs": [
    {
     "name": "stdout",
     "output_type": "stream",
     "text": [
      "Test Loss for GIN: tensor(0.5301)\n"
     ]
    }
   ],
   "source": [
    "# Calculate test loss from best GIN model (according to validation loss)\n",
    "\n",
    "# load our model\n",
    "model = GIN(dim_h=64)\n",
    "model.load_state_dict(torch.load('GIN_best-model-parameters.pt'))\n",
    "\n",
    "# calculate test loss\n",
    "test_loss = testing(test_loader, model)\n",
    "\n",
    "print(\"Test Loss for GIN: \" + str(test_loss))"
   ]
  }
 ],
 "metadata": {
  "kernelspec": {
   "display_name": "Python 3.9.15 ('teachopencadd9')",
   "language": "python",
   "name": "python3"
  },
  "language_info": {
   "codemirror_mode": {
    "name": "ipython",
    "version": 3
   },
   "file_extension": ".py",
   "mimetype": "text/x-python",
   "name": "python",
   "nbconvert_exporter": "python",
   "pygments_lexer": "ipython3",
   "version": "3.9.15"
  },
  "orig_nbformat": 4,
  "vscode": {
   "interpreter": {
    "hash": "303c4499c6089c66bb06f8fad745a91d2a66aad0a931b516c61543a7644eeb4d"
   }
  }
 },
 "nbformat": 4,
 "nbformat_minor": 2
}
