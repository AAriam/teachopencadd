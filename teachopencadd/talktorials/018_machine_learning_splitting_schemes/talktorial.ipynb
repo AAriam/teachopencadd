{
 "cells": [
  {
   "cell_type": "markdown",
   "metadata": {},
   "source": [
    "# T018 · Performance of ligand-based machine learning methods for the classification of active/inactive compounds, considering various validation approaches\n",
    "\n",
    "Supervisior:\n",
    "\n",
    "* JProf. Dr. Andrea Volkamer; AG Volkamer:  Institut für Physiologie - Charité Universitätsmedizin\n",
    "\n",
    "\n",
    "Author:\n",
    "\n",
    "* Hee-yeong Kim; WiSe20/21; Freie Universität Berlin; Bioinformatik (M.Sc.)"
   ]
  },
  {
   "cell_type": "markdown",
   "metadata": {},
   "source": [
    "## Aim of this project work\n",
    "Currently, the application and evaluation of Machine Learning (ML) based approaches, especially in the field of CADD is still state-of-art.\n",
    "\n",
    "* Search for appropriate strategies for QSAR models applied on chemical compounds.\n",
    "* Assess the performance and predictive power of ML-methods.\n",
    "* Splitting schemes: cluster-based split approaches and cross validation (CV) by random and time-split.\n",
    "* Compare the different splitting methods and observe the performance of the models based on some performance metrics."
   ]
  },
  {
   "cell_type": "markdown",
   "metadata": {},
   "source": [
    "## General Workflow of this Notebook"
   ]
  },
  {
   "cell_type": "markdown",
   "metadata": {},
   "source": [
    "<img src=\"images/workflow.png\" width=\"800\" height=\"600\">\n"
   ]
  },
  {
   "cell_type": "markdown",
   "metadata": {},
   "source": [
    "## Theory\n",
    "\n",
    "### Biological Background\n",
    "#### Epidermal growth factor receptor (EGFR)\n",
    "* Transmembrane glycoprotein is located at the cell surface and binds to epidermal growth factor.\n",
    "* Activated by binding to a ligand, which induces cell proliferation and prevents the apoptotic cell death. * Mutations are associated with a number of cancers (non-small cell lung cancer (NSCLC) (40-80%), glioblastoma, head and neck cancer as well as breast cancer (25-30%) [EGFR_]).\n",
    "* Importance of its investigation for research and therapeutic issues.\n",
    "\n",
    "Computer-Aided Drug Design (CADD) uses computational approaches to discover, enhance, develop and analyze drugs and similar biologically active molecules. It can be described by three major approaches: ligand-based, structure-based and system-based drug discovery methods.\n",
    "\n",
    "* Ligand-based approach: Structural similar molecules have similar properties and thus similar biological activity.\n",
    "* Prediction of active and inactive compounds (activation or inhibition of the target protein)."
   ]
  },
  {
   "cell_type": "markdown",
   "metadata": {},
   "source": [
    "### Data Aquisition and preparation\n",
    "For the data aquisition and filtering step, the preimplemented talktorials, 001_query_chembl and 002_compound_adme, provided by the research group of Volkamer Lab (https://github.com/volkamerlab) were used. Talktorial 007_compound_activity_machine_learning is used as framework of this notebook and functions for Butina Clustering are taken from 005_compound_clustering.\n",
    "\n",
    "After having chosen the target data (EGFR Kinase: P00533) the bioactivity information and the compounds (ChEMBL ID, SMILES) were fetched and downloaded from ChEMBL data base. The resulting dataframe was then used to filter the compounds according to Lipinski's Rule of Five, to estimate the bioavailability of compounds solely based on their chemical structure. Compounds were selected as candidates for further investigation if not more than one rule was violated.\n",
    "The final composed EGFR data set comprises following parameters for each compound:\n",
    "\n",
    "* CHEMBL-ID\n",
    "* Publishing year\n",
    "* SMILES representation (Simplified Molecular Input Line Entry Specification)\n",
    "* pIC50 value: -log10(IC50), with IC50 = Concentration of a drug to inhibit a process by 50% (in vitro).\n",
    "* Molecular weight\n",
    "* Number of hydrogen bond acceptors (HBAs)\n",
    "* Number of hydrogen bond donors (HBDs)\n",
    "* log(p) (octanol-water coefficient): Used as measure of hydrophobicity.\n",
    "\n",
    "#### Molecule encoding\n",
    "It is a crucial step in CADD to encode the molecules to an abstract and interpretable representation for the computer while keeping important information of certain structural properties. Usually, molecular fingerprints are used to describe small molecules and are represented by bit vectors, where each fingerprint bit corresponds to a fragment of the molecule.\n",
    "\n",
    "<img src=\"images/fp_.png\" width=\"400\" height=\"400\">\n",
    "\n",
    "RDKit provides various functions generating molecular fingerprints [S1]. The method section here is done with MACCS only, a comparision of the ML-methods between MACCS and Morgan is withdrawable from 007.\n",
    "\n",
    "MACCS keys are 166 bit structure fingerprints, where each bit corresponds to a predefined structural feature (substructure or fragment). In contrast, Morgan fingerprints - also known as Extended-Connectivity Fingerprints (ECFPs) - are circular topological fingerprints, generated by considering the “circular” environment of each atom up to a given radius or diameter (see [S2] for a general overview of molecular descriptor types)."
   ]
  },
  {
   "cell_type": "markdown",
   "metadata": {},
   "source": [
    "### Machine Learning (ML) Approaches\n",
    "\n",
    "In Machine Learning, supervised learning describes methods to learn the mapping function from the input to the output. The goal is to approximate the mapping function good enough, to predict for new input data the output variables with a specific accuracy.\n",
    "\n",
    "The here introduced ML-appraoches are commonly used in drug discovery, consisting of:\n",
    "\n",
    "* **Random Forest (RF)**: \n",
    "* **Support Vector Machine (SVM)**: "
   ]
  },
  {
   "cell_type": "markdown",
   "metadata": {},
   "source": [
    "### Data Splitting Schemes\n",
    "The use of Machine Learning methods to overcome financial restrictions, limited scoures or more sophisticated problems in medicine and economy, increased over the last decades. Therefore more advanced techniques were developed with high performance, like CNNs but still represent an incomprehensible black box in their decision making process. This brought up the need for approaches to infer the performance of the models and assess their reliability and 'realistic' predictive power on new data.\n",
    "\n",
    "#### Role of Train/Test and Validation Set in ML\n",
    "The data we want to predict on is usually divided in three parts:\n",
    "\n",
    "* Training Set: Train the model by fitting on the data.\n",
    "\n",
    "* Validation Set: Validation of the performance of the models is tested and used to adjust the model hyperparameters (e.g. number of layers in an NN).\n",
    "\n",
    "* Test Set: Evaluate the performance on unlabeled data to assess their true performance. Usually used to compare models.\n",
    "\n",
    "In our case, the role of validation and test sets are identical, since this project does not aim to compare the models itself but assess their performance depending on the data splitting scheme."
   ]
  },
  {
   "cell_type": "markdown",
   "metadata": {},
   "source": [
    "#### Random Splitting Schemes\n",
    "* **Single random Split**: As the name already implies, it splits the data into train and test set by a given percentage. Usually, a split of 80% for train and 20% for test is applied.\n",
    "\n",
    "* **k-fold Cross Validation (CV)**: The data is partitioned into k folds. In each of the k partitions, k-1 parts are used as training set, while the remaining k-th part serves as test set.\n",
    "\n",
    "<img src=\"images/cv.png\" width=\"500\" height=\"500\">"
   ]
  },
  {
   "cell_type": "markdown",
   "metadata": {},
   "source": [
    "#### Time-based Splitting\n",
    "* Type of Cross Validation to deal with time-related data (data is sorted by time in ascending order).\n",
    "* Splits train/test sets in a 'sliding window' approach.\n",
    "* In each split, the test indices must be higher than before.\n",
    "* Simulating the process of prospective validation [].\n",
    "\n",
    "<img src=\"images/timesplit_cv.png\" width=\"250\" height=\"250\">\n",
    "\n",
    "Scikit-learn has a TimeSeriesSplit method with the main drawback, that the splitting process is not interferable. Therefore two functions are implemented in this notebook, a naive (recommended) implementation and another version, where the splits are infered such that the train and test sets are disjoint w.r.t. the year."
   ]
  },
  {
   "cell_type": "markdown",
   "metadata": {},
   "source": [
    "#### Cluster-based Splitting\n",
    "\n",
    "General idea is to use an algorithm to cluster the compounds based on their sturctural features to get: \n",
    "* Train/validation set: Largest clusters are used to cover a wide chemical space.\n",
    "* Test set: Small remaining clusters and/or singletons are used to provide a 'realistic' model evaluation with unseen, structural most diverse molecules.\n",
    "\n",
    "**Algorithms**:\n",
    "\n",
    "1. **Butina Clustering** [butina1999]: Clustering technique based on fingerprints and tanimoto similarity.\n",
    "\n",
    "<img src=\"images/butina.png\" width=\"850\" height=\"700\" align=\"center\"/>\n",
    "\n",
    "* Convert SMILES to Fingerprints (maccs)\n",
    "* Calculate Tanimoto dissimilarity matrix (1-similarity)\n",
    "* Cluster the molecules based on exclusion spheres using RDKit _Butina.ClusterData()_.\n",
    "* Assign the compound from the clusters to train and test set with an ratio approximately 80:20.\n",
    "\n",
    "\n",
    "2. **K-means**: Is a very common clustering technique, that aims to partition n observations into k clusters, where each observation belongs to the cluster with the smallest (euclidian) distance.\n",
    "\n",
    "<img src=\"images/kmeans.png\" width=\"600\" height=\"400\">\n",
    "\n",
    "* Convert SMILES to a set of physicochemical properties (=200).\n",
    "* Cluster the molecules based on the properties using Scikit-learn _KMeans()_ function.\n",
    "* Choose an appropiate initial k (empirically or elbow method)\n",
    "* Assign the compound from the clusters to train and test set with ratio approximately 80:20."
   ]
  },
  {
   "cell_type": "markdown",
   "metadata": {},
   "source": [
    "### Performance metrics\n",
    "\n",
    "* **Accuracy**: ACC = (TP + TN)/(TP + TN + FP + FN)\n",
    "Informal: \n",
    "\n",
    "* **Sensitivity**: TruePositiveRate = TP/(FN + TP)\n",
    "Informal: \n",
    "\n",
    "* **Specificity**: TrueNegativeRate = TN/(FP + TN)\n",
    "Informal: \n",
    "\n",
    "* **Area under the ROC curve (AUC)**:\n",
    "\n",
    "\n",
    "* **Receiver operating characteristic (ROC) Curve Plot**:"
   ]
  },
  {
   "cell_type": "markdown",
   "metadata": {},
   "source": [
    "## Practice and Results"
   ]
  },
  {
   "cell_type": "code",
   "execution_count": 2,
   "metadata": {},
   "outputs": [],
   "source": [
    "import pandas as pd\n",
    "import numpy as np\n",
    "import math\n",
    "#Molecule Encoding\n",
    "from rdkit import Chem\n",
    "from rdkit import DataStructs\n",
    "from rdkit.Chem import MACCSkeys\n",
    "from rdkit.Chem.AllChem import GetMorganFingerprintAsBitVect\n",
    "#ML-approaches\n",
    "from sklearn import svm, metrics\n",
    "from sklearn.ensemble import RandomForestClassifier\n",
    "from sklearn.neural_network import MLPClassifier\n",
    "#CV and Random Division\n",
    "from sklearn.model_selection import KFold, train_test_split, cross_validate\n",
    "#Time-split CV\n",
    "from sklearn.model_selection import TimeSeriesSplit\n",
    "#Cluster-based splits\n",
    "from rdkit.ML.Cluster import Butina\n",
    "from rdkit.Chem import Descriptors\n",
    "from rdkit.ML.Descriptors import MoleculeDescriptors\n",
    "from sklearn.cluster import KMeans\n",
    "import kneed\n",
    "from kneed import KneeLocator #find optimal number of cluster centers for kmeans\n",
    "#Performance Metrics\n",
    "from sklearn.metrics import auc, accuracy_score, recall_score\n",
    "from sklearn.metrics import roc_curve, roc_auc_score\n",
    "#Plotting\n",
    "import matplotlib.pyplot as plt\n",
    "from rdkit.Chem import Draw\n",
    "#Display Images\n",
    "from IPython.display import Image"
   ]
  },
  {
   "cell_type": "code",
   "execution_count": 3,
   "metadata": {},
   "outputs": [],
   "source": [
    "#global parameter(s)\n",
    "SEED = 22 #fixed seed for reproducible results\n",
    "N_FOLDS = 10 #for random- and time-split CV\n",
    "cut_off = 0.1 #for similarity-based clustering"
   ]
  },
  {
   "cell_type": "markdown",
   "metadata": {},
   "source": [
    "### 1. Load compound data"
   ]
  },
  {
   "cell_type": "code",
   "execution_count": 4,
   "metadata": {},
   "outputs": [
    {
     "name": "stdout",
     "output_type": "stream",
     "text": [
      "Number of molecules :  4493\n",
      "Number of features :  11\n"
     ]
    }
   ],
   "source": [
    "path_to_data = 'data/EGFR_compounds_lipinski_timeseries.csv'\n",
    "chembl_df = pd.read_csv(path_to_data, index_col=0)\n",
    "\n",
    "print(\"Number of molecules : \", chembl_df.shape[0])\n",
    "print(\"Number of features : \", chembl_df.shape[1])"
   ]
  },
  {
   "cell_type": "code",
   "execution_count": 4,
   "metadata": {},
   "outputs": [
    {
     "data": {
      "text/html": [
       "<div>\n",
       "<style scoped>\n",
       "    .dataframe tbody tr th:only-of-type {\n",
       "        vertical-align: middle;\n",
       "    }\n",
       "\n",
       "    .dataframe tbody tr th {\n",
       "        vertical-align: top;\n",
       "    }\n",
       "\n",
       "    .dataframe thead th {\n",
       "        text-align: right;\n",
       "    }\n",
       "</style>\n",
       "<table border=\"1\" class=\"dataframe\">\n",
       "  <thead>\n",
       "    <tr style=\"text-align: right;\">\n",
       "      <th></th>\n",
       "      <th>molecule_chembl_id</th>\n",
       "      <th>document_year</th>\n",
       "      <th>smiles</th>\n",
       "      <th>pIC50</th>\n",
       "      <th>molecular_weight</th>\n",
       "      <th>n_hba</th>\n",
       "      <th>n_hbd</th>\n",
       "      <th>logp</th>\n",
       "    </tr>\n",
       "  </thead>\n",
       "  <tbody>\n",
       "    <tr>\n",
       "      <th>0</th>\n",
       "      <td>CHEMBL63786</td>\n",
       "      <td>1996</td>\n",
       "      <td>Brc1cccc(Nc2ncnc3cc4ccccc4cc23)c1</td>\n",
       "      <td>11.522879</td>\n",
       "      <td>349.021459</td>\n",
       "      <td>3</td>\n",
       "      <td>1</td>\n",
       "      <td>5.2891</td>\n",
       "    </tr>\n",
       "    <tr>\n",
       "      <th>1</th>\n",
       "      <td>CHEMBL53711</td>\n",
       "      <td>1998</td>\n",
       "      <td>CN(C)c1cc2c(Nc3cccc(Br)c3)ncnc2cn1</td>\n",
       "      <td>11.221849</td>\n",
       "      <td>343.043258</td>\n",
       "      <td>5</td>\n",
       "      <td>1</td>\n",
       "      <td>3.5969</td>\n",
       "    </tr>\n",
       "    <tr>\n",
       "      <th>2</th>\n",
       "      <td>CHEMBL35820</td>\n",
       "      <td>1997</td>\n",
       "      <td>CCOc1cc2ncnc(Nc3cccc(Br)c3)c2cc1OCC</td>\n",
       "      <td>11.221849</td>\n",
       "      <td>387.058239</td>\n",
       "      <td>5</td>\n",
       "      <td>1</td>\n",
       "      <td>4.9333</td>\n",
       "    </tr>\n",
       "    <tr>\n",
       "      <th>3</th>\n",
       "      <td>CHEMBL66031</td>\n",
       "      <td>1999</td>\n",
       "      <td>Brc1cccc(Nc2ncnc3cc4[nH]cnc4cc23)c1</td>\n",
       "      <td>11.096910</td>\n",
       "      <td>339.011957</td>\n",
       "      <td>4</td>\n",
       "      <td>2</td>\n",
       "      <td>4.0122</td>\n",
       "    </tr>\n",
       "    <tr>\n",
       "      <th>4</th>\n",
       "      <td>CHEMBL53753</td>\n",
       "      <td>1999</td>\n",
       "      <td>CNc1cc2c(Nc3cccc(Br)c3)ncnc2cn1</td>\n",
       "      <td>11.096910</td>\n",
       "      <td>329.027607</td>\n",
       "      <td>5</td>\n",
       "      <td>2</td>\n",
       "      <td>3.5726</td>\n",
       "    </tr>\n",
       "  </tbody>\n",
       "</table>\n",
       "</div>"
      ],
      "text/plain": [
       "  molecule_chembl_id  document_year                               smiles  \\\n",
       "0        CHEMBL63786           1996    Brc1cccc(Nc2ncnc3cc4ccccc4cc23)c1   \n",
       "1        CHEMBL53711           1998   CN(C)c1cc2c(Nc3cccc(Br)c3)ncnc2cn1   \n",
       "2        CHEMBL35820           1997  CCOc1cc2ncnc(Nc3cccc(Br)c3)c2cc1OCC   \n",
       "3        CHEMBL66031           1999  Brc1cccc(Nc2ncnc3cc4[nH]cnc4cc23)c1   \n",
       "4        CHEMBL53753           1999      CNc1cc2c(Nc3cccc(Br)c3)ncnc2cn1   \n",
       "\n",
       "       pIC50  molecular_weight  n_hba  n_hbd    logp  \n",
       "0  11.522879        349.021459      3      1  5.2891  \n",
       "1  11.221849        343.043258      5      1  3.5969  \n",
       "2  11.221849        387.058239      5      1  4.9333  \n",
       "3  11.096910        339.011957      4      2  4.0122  \n",
       "4  11.096910        329.027607      5      2  3.5726  "
      ]
     },
     "execution_count": 4,
     "metadata": {},
     "output_type": "execute_result"
    }
   ],
   "source": [
    "# Keep only the columns we want\n",
    "chembl_df = chembl_df.drop(columns=[\"IC50\",\"units\",\"ro5_fulfilled\"])\n",
    "#convert document_year to int\n",
    "chembl_df[\"document_year\"] = chembl_df[\"document_year\"].astype(int)\n",
    "chembl_df.head()"
   ]
  },
  {
   "cell_type": "markdown",
   "metadata": {},
   "source": [
    "### 2. Data preparation"
   ]
  },
  {
   "cell_type": "markdown",
   "metadata": {},
   "source": [
    "#### Data labeling\n",
    "Classify each compound as active or inactive based on the pIC50 value.\n",
    "\n",
    "A common cut-off value to discretize pIC50 data is 6.3, which is also used here.\n",
    "Note that there are several other suggestions for an activity cut-off ranging from an pIC50 value of 5 to 7 in the literature. "
   ]
  },
  {
   "cell_type": "code",
   "execution_count": 5,
   "metadata": {},
   "outputs": [
    {
     "name": "stdout",
     "output_type": "stream",
     "text": [
      "Number of active compounds: 2555\n",
      "Number of inactive compounds: 1938\n"
     ]
    },
    {
     "data": {
      "text/html": [
       "<div>\n",
       "<style scoped>\n",
       "    .dataframe tbody tr th:only-of-type {\n",
       "        vertical-align: middle;\n",
       "    }\n",
       "\n",
       "    .dataframe tbody tr th {\n",
       "        vertical-align: top;\n",
       "    }\n",
       "\n",
       "    .dataframe thead th {\n",
       "        text-align: right;\n",
       "    }\n",
       "</style>\n",
       "<table border=\"1\" class=\"dataframe\">\n",
       "  <thead>\n",
       "    <tr style=\"text-align: right;\">\n",
       "      <th></th>\n",
       "      <th>molecule_chembl_id</th>\n",
       "      <th>document_year</th>\n",
       "      <th>smiles</th>\n",
       "      <th>pIC50</th>\n",
       "      <th>molecular_weight</th>\n",
       "      <th>n_hba</th>\n",
       "      <th>n_hbd</th>\n",
       "      <th>logp</th>\n",
       "      <th>activity</th>\n",
       "    </tr>\n",
       "  </thead>\n",
       "  <tbody>\n",
       "    <tr>\n",
       "      <th>0</th>\n",
       "      <td>CHEMBL63786</td>\n",
       "      <td>1996</td>\n",
       "      <td>Brc1cccc(Nc2ncnc3cc4ccccc4cc23)c1</td>\n",
       "      <td>11.522879</td>\n",
       "      <td>349.021459</td>\n",
       "      <td>3</td>\n",
       "      <td>1</td>\n",
       "      <td>5.2891</td>\n",
       "      <td>1.0</td>\n",
       "    </tr>\n",
       "    <tr>\n",
       "      <th>1</th>\n",
       "      <td>CHEMBL53711</td>\n",
       "      <td>1998</td>\n",
       "      <td>CN(C)c1cc2c(Nc3cccc(Br)c3)ncnc2cn1</td>\n",
       "      <td>11.221849</td>\n",
       "      <td>343.043258</td>\n",
       "      <td>5</td>\n",
       "      <td>1</td>\n",
       "      <td>3.5969</td>\n",
       "      <td>1.0</td>\n",
       "    </tr>\n",
       "    <tr>\n",
       "      <th>2</th>\n",
       "      <td>CHEMBL35820</td>\n",
       "      <td>1997</td>\n",
       "      <td>CCOc1cc2ncnc(Nc3cccc(Br)c3)c2cc1OCC</td>\n",
       "      <td>11.221849</td>\n",
       "      <td>387.058239</td>\n",
       "      <td>5</td>\n",
       "      <td>1</td>\n",
       "      <td>4.9333</td>\n",
       "      <td>1.0</td>\n",
       "    </tr>\n",
       "    <tr>\n",
       "      <th>3</th>\n",
       "      <td>CHEMBL66031</td>\n",
       "      <td>1999</td>\n",
       "      <td>Brc1cccc(Nc2ncnc3cc4[nH]cnc4cc23)c1</td>\n",
       "      <td>11.096910</td>\n",
       "      <td>339.011957</td>\n",
       "      <td>4</td>\n",
       "      <td>2</td>\n",
       "      <td>4.0122</td>\n",
       "      <td>1.0</td>\n",
       "    </tr>\n",
       "    <tr>\n",
       "      <th>4</th>\n",
       "      <td>CHEMBL53753</td>\n",
       "      <td>1999</td>\n",
       "      <td>CNc1cc2c(Nc3cccc(Br)c3)ncnc2cn1</td>\n",
       "      <td>11.096910</td>\n",
       "      <td>329.027607</td>\n",
       "      <td>5</td>\n",
       "      <td>2</td>\n",
       "      <td>3.5726</td>\n",
       "      <td>1.0</td>\n",
       "    </tr>\n",
       "  </tbody>\n",
       "</table>\n",
       "</div>"
      ],
      "text/plain": [
       "  molecule_chembl_id  document_year                               smiles  \\\n",
       "0        CHEMBL63786           1996    Brc1cccc(Nc2ncnc3cc4ccccc4cc23)c1   \n",
       "1        CHEMBL53711           1998   CN(C)c1cc2c(Nc3cccc(Br)c3)ncnc2cn1   \n",
       "2        CHEMBL35820           1997  CCOc1cc2ncnc(Nc3cccc(Br)c3)c2cc1OCC   \n",
       "3        CHEMBL66031           1999  Brc1cccc(Nc2ncnc3cc4[nH]cnc4cc23)c1   \n",
       "4        CHEMBL53753           1999      CNc1cc2c(Nc3cccc(Br)c3)ncnc2cn1   \n",
       "\n",
       "       pIC50  molecular_weight  n_hba  n_hbd    logp  activity  \n",
       "0  11.522879        349.021459      3      1  5.2891       1.0  \n",
       "1  11.221849        343.043258      5      1  3.5969       1.0  \n",
       "2  11.221849        387.058239      5      1  4.9333       1.0  \n",
       "3  11.096910        339.011957      4      2  4.0122       1.0  \n",
       "4  11.096910        329.027607      5      2  3.5726       1.0  "
      ]
     },
     "execution_count": 5,
     "metadata": {},
     "output_type": "execute_result"
    }
   ],
   "source": [
    "# Add column for activity\n",
    "chembl_df[\"activity\"] = np.zeros(len(chembl_df))\n",
    "\n",
    "# Assign binary activity score (activity = 1)\n",
    "chembl_df.loc[chembl_df[chembl_df.pIC50 >= 6.3].index, \"activity\"] = 1.0\n",
    "\n",
    "print(\"Number of active compounds:\", int(chembl_df.activity.sum()))\n",
    "print(\"Number of inactive compounds:\", len(chembl_df) - int(chembl_df.activity.sum()))\n",
    "chembl_df.head()"
   ]
  },
  {
   "cell_type": "markdown",
   "metadata": {},
   "source": [
    "#### Molecule encoding"
   ]
  },
  {
   "cell_type": "code",
   "execution_count": 6,
   "metadata": {},
   "outputs": [],
   "source": [
    "def smiles_to_fp(smiles, method=\"maccs\", n_bits=2048):\n",
    "    # convert smiles to RDKit mol object\n",
    "    mol = Chem.MolFromSmiles(smiles)\n",
    "    if method == \"morgan2\":\n",
    "        return GetMorganFingerprintAsBitVect(mol, 2, nBits=n_bits)\n",
    "    if method == \"morgan3\":\n",
    "        return GetMorganFingerprintAsBitVect(mol, 3, nBits=n_bits)\n",
    "    else: #default maccs\n",
    "        return MACCSkeys.GenMACCSKeys(mol)"
   ]
  },
  {
   "cell_type": "code",
   "execution_count": 7,
   "metadata": {},
   "outputs": [],
   "source": [
    "compound_df = chembl_df.copy()"
   ]
  },
  {
   "cell_type": "code",
   "execution_count": 8,
   "metadata": {},
   "outputs": [
    {
     "data": {
      "text/html": [
       "<div>\n",
       "<style scoped>\n",
       "    .dataframe tbody tr th:only-of-type {\n",
       "        vertical-align: middle;\n",
       "    }\n",
       "\n",
       "    .dataframe tbody tr th {\n",
       "        vertical-align: top;\n",
       "    }\n",
       "\n",
       "    .dataframe thead th {\n",
       "        text-align: right;\n",
       "    }\n",
       "</style>\n",
       "<table border=\"1\" class=\"dataframe\">\n",
       "  <thead>\n",
       "    <tr style=\"text-align: right;\">\n",
       "      <th></th>\n",
       "      <th>molecule_chembl_id</th>\n",
       "      <th>document_year</th>\n",
       "      <th>smiles</th>\n",
       "      <th>pIC50</th>\n",
       "      <th>molecular_weight</th>\n",
       "      <th>n_hba</th>\n",
       "      <th>n_hbd</th>\n",
       "      <th>logp</th>\n",
       "      <th>activity</th>\n",
       "      <th>fp_maccs</th>\n",
       "    </tr>\n",
       "  </thead>\n",
       "  <tbody>\n",
       "    <tr>\n",
       "      <th>0</th>\n",
       "      <td>CHEMBL63786</td>\n",
       "      <td>1996</td>\n",
       "      <td>Brc1cccc(Nc2ncnc3cc4ccccc4cc23)c1</td>\n",
       "      <td>11.522879</td>\n",
       "      <td>349.021459</td>\n",
       "      <td>3</td>\n",
       "      <td>1</td>\n",
       "      <td>5.2891</td>\n",
       "      <td>1.0</td>\n",
       "      <td>[0, 0, 0, 0, 0, 0, 0, 0, 0, 0, 0, 0, 0, 0, 0, ...</td>\n",
       "    </tr>\n",
       "    <tr>\n",
       "      <th>1</th>\n",
       "      <td>CHEMBL53711</td>\n",
       "      <td>1998</td>\n",
       "      <td>CN(C)c1cc2c(Nc3cccc(Br)c3)ncnc2cn1</td>\n",
       "      <td>11.221849</td>\n",
       "      <td>343.043258</td>\n",
       "      <td>5</td>\n",
       "      <td>1</td>\n",
       "      <td>3.5969</td>\n",
       "      <td>1.0</td>\n",
       "      <td>[0, 0, 0, 0, 0, 0, 0, 0, 0, 0, 0, 0, 0, 0, 0, ...</td>\n",
       "    </tr>\n",
       "    <tr>\n",
       "      <th>2</th>\n",
       "      <td>CHEMBL35820</td>\n",
       "      <td>1997</td>\n",
       "      <td>CCOc1cc2ncnc(Nc3cccc(Br)c3)c2cc1OCC</td>\n",
       "      <td>11.221849</td>\n",
       "      <td>387.058239</td>\n",
       "      <td>5</td>\n",
       "      <td>1</td>\n",
       "      <td>4.9333</td>\n",
       "      <td>1.0</td>\n",
       "      <td>[0, 0, 0, 0, 0, 0, 0, 0, 0, 0, 0, 0, 0, 0, 0, ...</td>\n",
       "    </tr>\n",
       "  </tbody>\n",
       "</table>\n",
       "</div>"
      ],
      "text/plain": [
       "  molecule_chembl_id  document_year                               smiles  \\\n",
       "0        CHEMBL63786           1996    Brc1cccc(Nc2ncnc3cc4ccccc4cc23)c1   \n",
       "1        CHEMBL53711           1998   CN(C)c1cc2c(Nc3cccc(Br)c3)ncnc2cn1   \n",
       "2        CHEMBL35820           1997  CCOc1cc2ncnc(Nc3cccc(Br)c3)c2cc1OCC   \n",
       "\n",
       "       pIC50  molecular_weight  n_hba  n_hbd    logp  activity  \\\n",
       "0  11.522879        349.021459      3      1  5.2891       1.0   \n",
       "1  11.221849        343.043258      5      1  3.5969       1.0   \n",
       "2  11.221849        387.058239      5      1  4.9333       1.0   \n",
       "\n",
       "                                            fp_maccs  \n",
       "0  [0, 0, 0, 0, 0, 0, 0, 0, 0, 0, 0, 0, 0, 0, 0, ...  \n",
       "1  [0, 0, 0, 0, 0, 0, 0, 0, 0, 0, 0, 0, 0, 0, 0, ...  \n",
       "2  [0, 0, 0, 0, 0, 0, 0, 0, 0, 0, 0, 0, 0, 0, 0, ...  "
      ]
     },
     "execution_count": 8,
     "metadata": {},
     "output_type": "execute_result"
    }
   ],
   "source": [
    "# Add column for fingerprint\n",
    "compound_df[\"fp_maccs\"] = compound_df[\"smiles\"].apply(smiles_to_fp)\n",
    "compound_df.head(3)\n",
    "\n",
    "#Command to calc. another fp type\n",
    "#compound_df[\"fp_morgan2\"] = compound_df[\"smiles\"].apply(smiles_to_fp, args=('morgan2',))"
   ]
  },
  {
   "cell_type": "markdown",
   "metadata": {},
   "source": [
    "### 3. Methods\n",
    "\n",
    "#### 3.1 Machine Learning (ML) Models"
   ]
  },
  {
   "cell_type": "code",
   "execution_count": 9,
   "metadata": {},
   "outputs": [],
   "source": [
    "#Set model parameter\n",
    "param = {\n",
    "    \"n_estimators\": 100,  # number of trees\n",
    "    \"criterion\": \"entropy\",  # cost function\n",
    "}\n",
    "model_RF = RandomForestClassifier(**param)\n",
    "models = [{\"label\": \"Model_RF\", \"model\": model_RF}]\n",
    "\n",
    "model_SVM = svm.SVC(kernel=\"rbf\", C=1, gamma=0.1, probability=True)\n",
    "models.append({\"label\": \"Model_SVM\", \"model\": model_SVM})"
   ]
  },
  {
   "cell_type": "markdown",
   "metadata": {},
   "source": [
    "#### 3.2 Model evaluation"
   ]
  },
  {
   "cell_type": "code",
   "execution_count": 10,
   "metadata": {},
   "outputs": [],
   "source": [
    "def model_performance(ml_model, test_x, test_y, verbose=True):\n",
    "    # Prediction probability on test set\n",
    "    test_prob = ml_model.predict_proba(test_x)[:, 1]\n",
    "\n",
    "    # Prediction class on test set\n",
    "    test_pred = ml_model.predict(test_x)\n",
    "\n",
    "    # Performance of model on test set\n",
    "    accuracy = accuracy_score(test_y, test_pred)\n",
    "    sens = recall_score(test_y, test_pred)\n",
    "    spec = recall_score(test_y, test_pred, pos_label=0)\n",
    "    auc = roc_auc_score(test_y, test_prob)\n",
    "\n",
    "    if verbose:\n",
    "        print(f\"Sensitivity: {sens:.2f}\")\n",
    "        print(f\"Specificity: {spec:.2f}\")\n",
    "        print(f\"AUC: {auc:.2f}\")\n",
    "\n",
    "    return accuracy, sens, spec, auc"
   ]
  },
  {
   "cell_type": "code",
   "execution_count": 11,
   "metadata": {},
   "outputs": [],
   "source": [
    "def plot_roc_curves_for_models(models, test_x, test_y, save_png=False):\n",
    "    fig, ax = plt.subplots()\n",
    "\n",
    "    # Below for loop iterates through your models list\n",
    "    for model in models:\n",
    "        # Select the model\n",
    "        ml_model = model[\"model\"]\n",
    "        # Prediction probability on test set\n",
    "        test_prob = ml_model.predict_proba(test_x)[:, 1]\n",
    "        # Prediction class on test set\n",
    "        test_pred = ml_model.predict(test_x)\n",
    "        # Compute False postive rate and True positive rate\n",
    "        fpr, tpr, thresholds = metrics.roc_curve(test_y, test_prob)\n",
    "        # Calculate Area under the curve to display on the plot\n",
    "        auc = roc_auc_score(test_y, test_prob)\n",
    "        # Plot the computed values\n",
    "        ax.plot(fpr, tpr, label=(f\"{model['label']} AUC area = {auc:.2f}\"))\n",
    "\n",
    "    # Custom settings for the plot\n",
    "    ax.plot([0, 1], [0, 1], \"r--\")\n",
    "    ax.set_xlabel(\"False Positive Rate\")\n",
    "    ax.set_ylabel(\"True Positive Rate\")\n",
    "    ax.set_title(\"Receiver Operating Characteristic\")\n",
    "    ax.legend(loc=\"lower right\")\n",
    "    # Save plot\n",
    "    if save_png:\n",
    "        fig.savefig(\"roc_auc_\"+str(ml_model), dpi=300, bbox_inches=\"tight\", transparent=True)\n",
    "    return fig"
   ]
  },
  {
   "cell_type": "code",
   "execution_count": 12,
   "metadata": {},
   "outputs": [],
   "source": [
    "def plot_roc_curves_for_singlemodel(ml_model, test_x, test_y, model_type, title_, save_png=False):\n",
    "    fig, ax = plt.subplots()\n",
    "        \n",
    "    for i in range(len(test_x)):\n",
    "        # Prediction probability on test set\n",
    "        test_prob = ml_model.predict_proba(test_x[i])[:, 1]\n",
    "        # Prediction class on test set\n",
    "        test_pred = ml_model.predict(test_x[i])\n",
    "        # Compute False postive rate and True positive rate\n",
    "        fpr, tpr, thresholds = metrics.roc_curve(test_y[i], test_prob)\n",
    "        # Calculate Area under the curve to display on the plot\n",
    "        auc = roc_auc_score(test_y[i], test_prob)\n",
    "        # Plot the computed values\n",
    "        ax.plot(fpr, tpr, label=(f\"{model_type[i]}: AUC area = {auc:.2f}\"))\n",
    "\n",
    "    # Custom settings for the plot\n",
    "    ax.plot([0, 1], [0, 1], \"r--\")\n",
    "    ax.set_xlabel(\"False Positive Rate\")\n",
    "    ax.set_ylabel(\"True Positive Rate\")\n",
    "    ax.set_title(title_)\n",
    "    ax.legend(loc=\"lower right\")\n",
    "    # Save plot\n",
    "    if save_png:\n",
    "        fig.savefig(\"roc_auc_\"+str(ml_model), dpi=300, bbox_inches=\"tight\", transparent=True)\n",
    "    return fig"
   ]
  },
  {
   "cell_type": "markdown",
   "metadata": {},
   "source": [
    "#### Random Split"
   ]
  },
  {
   "cell_type": "code",
   "execution_count": 13,
   "metadata": {},
   "outputs": [],
   "source": [
    "def random_split(X_set, Y_set, testsize):\n",
    "    x_train, x_test, y_train, y_test = train_test_split(X_set, Y_set, test_size=testsize, shuffle=True, random_state=42)\n",
    "    return x_train, x_test, y_train, y_test"
   ]
  },
  {
   "cell_type": "markdown",
   "metadata": {},
   "source": [
    "#### k-Fold Cross Validation [S3]\n",
    "\n",
    "_KFold()_ will randomly pick the datapoints which would become part of the train and test set. Not completely randomly, if random_state is set to an integer value. It influences which points appear in each set and the same random_state always results in the same split."
   ]
  },
  {
   "cell_type": "code",
   "execution_count": 14,
   "metadata": {},
   "outputs": [],
   "source": [
    "def cross_validation(ml_model, df, n_folds=5, verbose=False):\n",
    "    kf = KFold(n_splits=n_folds, shuffle=True, random_state=SEED)\n",
    "    # Results for each of the cross-validation folds\n",
    "    acc_per_fold = []\n",
    "    sens_per_fold = []\n",
    "    spec_per_fold = []\n",
    "    auc_per_fold = []\n",
    "    for train_index, test_index in kf.split(df):\n",
    "        #print(\"TRAIN:\", train_index, \"TEST:\", test_index)\n",
    "        \n",
    "        # Convert the fingerprint and the label to a list\n",
    "        train_x = df.iloc[train_index].fp_maccs.tolist()\n",
    "        train_y = df.iloc[train_index].activity.tolist()\n",
    "\n",
    "        # Train the model\n",
    "        ml_model.fit(train_x, train_y)\n",
    "\n",
    "        # Convert the fingerprint and the label to a list\n",
    "        test_x = df.iloc[test_index].fp_maccs.tolist()\n",
    "        test_y = df.iloc[test_index].activity.tolist()\n",
    "        \n",
    "        # Performance for each fold\n",
    "        accuracy, sens, spec, auc = model_performance(ml_model, test_x, test_y, verbose)\n",
    "        \n",
    "        acc_per_fold.append(accuracy)\n",
    "        sens_per_fold.append(sens)\n",
    "        spec_per_fold.append(spec)\n",
    "        auc_per_fold.append(auc)\n",
    "\n",
    "    # Print statistics of results\n",
    "    print(\n",
    "        f\"Mean accuracy: {np.mean(acc_per_fold):.2f} \\t\"\n",
    "        f\"and std : {np.std(acc_per_fold):.2f} \\n\"\n",
    "        f\"Mean sensitivity: {np.mean(sens_per_fold):.2f} \\t\"\n",
    "        f\"and std : {np.std(sens_per_fold):.2f} \\n\"\n",
    "        f\"Mean specificity: {np.mean(spec_per_fold):.2f} \\t\"\n",
    "        f\"and std : {np.std(spec_per_fold):.2f} \\n\"\n",
    "        f\"Mean AUC: {np.mean(auc_per_fold):.2f} \\t\"\n",
    "        f\"and std : {np.std(auc_per_fold):.2f} \\n\"\n",
    "    )\n",
    "    return acc_per_fold, sens_per_fold, spec_per_fold, auc_per_fold"
   ]
  },
  {
   "cell_type": "markdown",
   "metadata": {},
   "source": [
    "#### Time-split cross validation  [S4]\n",
    "\n",
    "Provides train/test indices to split time series data samples that are observed at fixed time intervals, in train/test sets. In each split, test indices must be higher than before, and thus shuffling in cross validator is inappropriate."
   ]
  },
  {
   "cell_type": "code",
   "execution_count": 15,
   "metadata": {},
   "outputs": [],
   "source": [
    "def naive_timesplit_CV(ml_model, df, n_folds=5, get_sets=False, verbose=False):\n",
    "    tscv = TimeSeriesSplit(max_train_size=None, n_splits=n_folds)\n",
    "    acc_per_fold = []\n",
    "    sens_per_fold = []\n",
    "    spec_per_fold = []\n",
    "    auc_per_fold = [] \n",
    "    plot_train = []\n",
    "    plot_test = []\n",
    "    for train_index, test_index in tscv.split(df):\n",
    "        #print(\"TRAIN:\", train_index, \"TEST:\", test_index)\n",
    "        train_x = df.iloc[train_index].fp_maccs.tolist()\n",
    "        train_y = df.iloc[train_index].activity.tolist()\n",
    "        \n",
    "        plot_train.append(df.iloc[train_index])\n",
    "        # Train the model\n",
    "        ml_model.fit(train_x, train_y)\n",
    "       \n",
    "        # Convert the fingerprint and the label to a list\n",
    "        test_x = df.iloc[test_index].fp_maccs.tolist()\n",
    "        test_y = df.iloc[test_index].activity.tolist()\n",
    "        \n",
    "        plot_test.append(df.iloc[test_index])\n",
    "        # Performance for each fold\n",
    "        accuracy, sens, spec, auc = model_performance(ml_model, test_x, test_y, verbose)\n",
    "\n",
    "        acc_per_fold.append(accuracy)\n",
    "        sens_per_fold.append(sens)\n",
    "        spec_per_fold.append(spec)\n",
    "        auc_per_fold.append(auc)\n",
    "\n",
    "    if get_sets:\n",
    "        return plot_train, plot_test\n",
    "    else: \n",
    "        # Print statistics of results\n",
    "        print(\n",
    "            f\"Mean accuracy: {np.mean(acc_per_fold):.2f} \\t\"\n",
    "            f\"and std : {np.std(acc_per_fold):.2f} \\n\"\n",
    "            f\"Mean sensitivity: {np.mean(sens_per_fold):.2f} \\t\"\n",
    "            f\"and std : {np.std(sens_per_fold):.2f} \\n\"\n",
    "            f\"Mean specificity: {np.mean(spec_per_fold):.2f} \\t\"\n",
    "            f\"and std : {np.std(spec_per_fold):.2f} \\n\"\n",
    "            f\"Mean AUC: {np.mean(auc_per_fold):.2f} \\t\"\n",
    "            f\"and std : {np.std(auc_per_fold):.2f} \\n\"\n",
    "        )\n",
    "        return acc_per_fold, sens_per_fold, spec_per_fold, auc_per_fold"
   ]
  },
  {
   "cell_type": "code",
   "execution_count": 16,
   "metadata": {},
   "outputs": [],
   "source": [
    "def timesplit_CV(ml_model, df, n_folds=5, get_sets=False, verbose=False):\n",
    "    tscv = TimeSeriesSplit(max_train_size=None, n_splits=n_folds)\n",
    "    acc_per_fold = []\n",
    "    sens_per_fold = []\n",
    "    spec_per_fold = []\n",
    "    auc_per_fold = [] \n",
    "    plot_train = []\n",
    "    plot_test = []\n",
    "    for train_index, test_index in tscv.split(df):\n",
    "        #print(\"TRAIN:\", train_index, \"TEST:\", test_index)\n",
    "        \n",
    "        #split sets at years\n",
    "        left_interval = df.iloc[train_index].document_year.tolist()\n",
    "        right_interval = df.iloc[test_index].document_year.tolist()\n",
    "        if list(set(left_interval)&set(right_interval)) != []: #if intersection not empty\n",
    "            inters=[]\n",
    "            intersection = list(set(left_interval)&set(right_interval))\n",
    "            #get molecule index by intersection (document year)\n",
    "            l =df.loc[train_index].document_year[df.loc[train_index].document_year == intersection[0]].count()\n",
    "            r =df.loc[test_index].document_year[df.loc[test_index].document_year == intersection[0]].count()\n",
    "            #assign compounds belonging to the year to the largest set\n",
    "            if l >= r:\n",
    "                inter = df.document_year[df.document_year == intersection[0]].index.tolist()\n",
    "                #molecules are continuously numbered, therefore get them by considering the first and last numbers\n",
    "                pos = np.where(df.index==inter[0])[0]\n",
    "                pos_n = np.where(df.index==inter[-1:])[0]\n",
    "                #fill the numbers inbetween\n",
    "                inters.extend(range(pos[0],pos_n[0]+1))\n",
    "                #delete compounds corresponding to the considered year\n",
    "                train_index = [i for i in train_index if i not in inters]\n",
    "                #add all compounds (indices) corresponding to the year to the training set\n",
    "                train_index = np.append(inters, train_index)\n",
    "                #remove intersecting molecule indices in training set from test set\n",
    "                test_index = [j for j in test_index if j not in train_index]\n",
    "            if r > l:\n",
    "                inter = df.document_year[df.document_year == intersection[0]].index.tolist()\n",
    "                #molecules are continuously numbered, therefore get them by considering the first and last numbers\n",
    "                pos = np.where(df.index==inter[0])[0]\n",
    "                pos_n = np.where(df.index==inter[-1:])[0]\n",
    "                #fill the numbers inbetween\n",
    "                inters.extend(range(pos[0],pos_n[0]+1))\n",
    "                #delete compounds corresponding to the considered year\n",
    "                test_index = [k for k in test_index if k not in inters]\n",
    "                #add all compounds (indices) corresponding to the year to the test set\n",
    "                test_index = np.append(inters, test_index)\n",
    "                #remove intersecting molecule indices in test set from training set\n",
    "                train_index = [l for l in train_index if l not in test_index]\n",
    "            \n",
    "        else: pass\n",
    "        \n",
    "        train_x = df.iloc[train_index].fp_maccs.tolist()\n",
    "        train_y = df.iloc[train_index].activity.tolist()\n",
    "        \n",
    "        plot_train.append(df.iloc[train_index])\n",
    "        # Train the model\n",
    "        ml_model.fit(train_x, train_y)\n",
    "       \n",
    "        # Convert the fingerprint and the label to a list\n",
    "        test_x = df.iloc[test_index].fp_maccs.tolist()\n",
    "        test_y = df.iloc[test_index].activity.tolist()\n",
    "        \n",
    "        plot_test.append(df.iloc[test_index])\n",
    "        # Performance for each fold\n",
    "        accuracy, sens, spec, auc = model_performance(ml_model, test_x, test_y, verbose)\n",
    "\n",
    "        acc_per_fold.append(accuracy)\n",
    "        sens_per_fold.append(sens)\n",
    "        spec_per_fold.append(spec)\n",
    "        auc_per_fold.append(auc)\n",
    "\n",
    "    if get_sets:\n",
    "        return plot_train, plot_test\n",
    "    else: \n",
    "        # Print statistics of results\n",
    "        print(\n",
    "            f\"Mean accuracy: {np.mean(acc_per_fold):.2f} \\t\"\n",
    "            f\"and std : {np.std(acc_per_fold):.2f} \\n\"\n",
    "            f\"Mean sensitivity: {np.mean(sens_per_fold):.2f} \\t\"\n",
    "            f\"and std : {np.std(sens_per_fold):.2f} \\n\"\n",
    "            f\"Mean specificity: {np.mean(spec_per_fold):.2f} \\t\"\n",
    "            f\"and std : {np.std(spec_per_fold):.2f} \\n\"\n",
    "            f\"Mean AUC: {np.mean(auc_per_fold):.2f} \\t\"\n",
    "            f\"and std : {np.std(auc_per_fold):.2f} \\n\"\n",
    "        )\n",
    "        return acc_per_fold, sens_per_fold, spec_per_fold, auc_per_fold"
   ]
  },
  {
   "cell_type": "code",
   "execution_count": 17,
   "metadata": {},
   "outputs": [],
   "source": [
    "def plot_cv_data(train_timeset, test_timeset, title_):\n",
    "    df_list=[]\n",
    "    for i in range(len(train_timeset)):\n",
    "        df_years = []\n",
    "        #group the molecules by years in ascending order and count the members\n",
    "        years = train_timeset[i].groupby(train_timeset[i][\"document_year\"]).count()\n",
    "        years_test = test_timeset[i].groupby(test_timeset[i][\"document_year\"]).count()\n",
    "        df_years = pd.DataFrame(years.molecule_chembl_id.tolist(), index = years.index.tolist(), columns=['train'])\n",
    "        #add a new colum to the dataframe initilized with zeros\n",
    "        df_years['test'] = 0\n",
    "        for ind in years_test.index.tolist():\n",
    "            #put the number of members to the respective year (position)\n",
    "            df_years.at[ind, 'test'] = years_test.loc[ind, :][0]\n",
    "        df_list.append(df_years)\n",
    "    #plot the distribution of training and test samples\n",
    "    nrow = math.ceil(len(train_timeset)/3)\n",
    "    ncol=3\n",
    "    print(title_)\n",
    "    fig, axes = plt.subplots(nrow, ncol, figsize=(18,5))\n",
    "    for i in range(len(train_timeset)):\n",
    "        df_list[i].plot(kind='bar', ax=axes[i], title=str(i+1)+'-fold')\n",
    "    return plt.show()"
   ]
  },
  {
   "cell_type": "code",
   "execution_count": 80,
   "metadata": {},
   "outputs": [],
   "source": [
    "def plot_cv_accuracy(acc_list, model_list, title_):\n",
    "    df_acc = pd.DataFrame(acc_list).T\n",
    "    #assign the model and evaluation method\n",
    "    df_acc.columns = model_list\n",
    "    n_models = int(len(model_list)/3)\n",
    "    nrow=math.ceil(n_models/3)\n",
    "    print(title_)\n",
    "    fig, axes = plt.subplots(nrow, n_models, figsize=(18,5))\n",
    "    #plot the accuracy for all evaluation methods belonging to a model\n",
    "    for i in range(n_models):\n",
    "        ax = df_acc.iloc[:, i::n_models].plot(style='o-', ax=axes[i], title=models_method[i][:-3])\n",
    "        ax.set(xlabel='n-folds', ylabel='accuracy')\n",
    "    return plt.show()"
   ]
  },
  {
   "cell_type": "markdown",
   "metadata": {},
   "source": [
    "**Cluster-based Split**\n",
    "\n",
    "**1) Butina Clustering**"
   ]
  },
  {
   "cell_type": "code",
   "execution_count": 19,
   "metadata": {},
   "outputs": [],
   "source": [
    "def tanimoto_distance_matrix(df_fps):\n",
    "    dissimilarity_matrix = []\n",
    "    # Notice we are skipping the first and last items in the list because we don't need to compare them against themselves\n",
    "    for i in range(1, len(df_fps)):\n",
    "        # Compare the current fingerprint against all the previous ones in the list\n",
    "        similarities = DataStructs.BulkTanimotoSimilarity(df_fps[i], df_fps[:i])\n",
    "        # Since we need a distance matrix, calculate 1-x for every element in similarity matrix\n",
    "        dissimilarity_matrix.extend([1 - x for x in similarities])\n",
    "    return dissimilarity_matrix"
   ]
  },
  {
   "cell_type": "code",
   "execution_count": null,
   "metadata": {},
   "outputs": [],
   "source": [
    "def cluster_fingerprints(fingerprints, cutoff=0.2):\n",
    "    # Calculate Tanimoto distance matrix\n",
    "    distance_matrix = tanimoto_distance_matrix(fingerprints)\n",
    "    # Now cluster the data with the implemented Butina algorithm:\n",
    "    clusters = Butina.ClusterData(distance_matrix, len(fingerprints), cutoff, isDistData=True)\n",
    "    clusters = sorted(clusters, key=len, reverse=True)\n",
    "    num_singletons = sum(1 for c in clusters if len(c) == 1)\n",
    "    largest_clust = len(clusters[0])\n",
    "    print('Size of largets cluster: ', largest_clust)\n",
    "    print('Number of Singletons: ', num_singletons)\n",
    "    return clusters"
   ]
  },
  {
   "cell_type": "code",
   "execution_count": null,
   "metadata": {},
   "outputs": [],
   "source": [
    "def fingerprint_split(df_compounds, cluster_set):\n",
    "    train_data=[]; train_label=[]; singletons=[]; s_label=[]\n",
    "    for i in range(len(cluster_set)):\n",
    "        if len(cluster_set[i]) <= 1: \n",
    "            singletons.append(df_compounds.fp_maccs[cluster_set[i][0]])\n",
    "            s_label.append(df_compounds.activity[cluster_set[i][0]])\n",
    "        else:\n",
    "            train_data.append(df_compounds.fp_maccs.loc[list(cluster_set[i])].tolist())\n",
    "            train_label.append(df_compounds.activity.loc[list(cluster_set[i])].tolist())\n",
    "    return [x for xi in train_data for x in xi], [y for yi in train_label for y in yi], singletons, s_label"
   ]
  },
  {
   "cell_type": "markdown",
   "metadata": {},
   "source": [
    "**2) K-means**"
   ]
  },
  {
   "cell_type": "code",
   "execution_count": 20,
   "metadata": {},
   "outputs": [],
   "source": [
    "def elbow_method(features_list, show_image=False):\n",
    "    sse = []\n",
    "    for k in range(1, 11):\n",
    "        kmeans = KMeans(n_clusters=k)\n",
    "        kmeans.fit(features_list)\n",
    "        sse.append(kmeans.inertia_)\n",
    "    if show_image==True:\n",
    "        plt.style.use(\"fivethirtyeight\")\n",
    "        plt.plot(range(1, 11), sse)\n",
    "        plt.xticks(range(1, 11))\n",
    "        plt.xlabel(\"Number of Clusters\")\n",
    "        plt.ylabel(\"SSE\")\n",
    "        plt.show()\n",
    "    kl = KneeLocator(range(1, 11), sse, curve=\"convex\", direction=\"decreasing\")\n",
    "    return kl.elbow"
   ]
  },
  {
   "cell_type": "code",
   "execution_count": 21,
   "metadata": {},
   "outputs": [],
   "source": [
    "def cluster_features(df, number_of_centers, elbowmethod=False):\n",
    "    features=[x[0] for x in Descriptors._descList]\n",
    "    calc = MoleculeDescriptors.MolecularDescriptorCalculator(features)\n",
    "    df['physchem'] = df['smiles'].apply(lambda sm: calc.CalcDescriptors(Chem.MolFromSmiles(sm)))\n",
    "    p = df.physchem.tolist()\n",
    "    physicochems =np.array([list(elem) for elem in p])\n",
    "    physicochems = np.nan_to_num(physicochems)\n",
    "    if elbowmethod:\n",
    "        number_of_centers = elbow_method(physicochems, show_image=True)\n",
    "        kmeans = KMeans(n_clusters=number_of_centers, random_state=0).fit(physicochems)\n",
    "        print('Size of clusters: ', np.bincount(kmeans.labels_[kmeans.labels_>=0]))\n",
    "    else:\n",
    "        kmeans = KMeans(n_clusters=number_of_centers, random_state=0).fit(physicochems)\n",
    "        print('Size of clusters: ', np.bincount(kmeans.labels_[kmeans.labels_>=0]))\n",
    "    clus = kmeans.labels_\n",
    "    df['cluster_member'] = clus\n",
    "    members=[]\n",
    "    for mem in np.unique(clus):\n",
    "        members.append(df.cluster_member[df.cluster_member == mem].index.tolist())\n",
    "    return members"
   ]
  },
  {
   "cell_type": "code",
   "execution_count": null,
   "metadata": {},
   "outputs": [],
   "source": [
    "c = cluster_features(compound_df, 0, True)\n",
    "print('Optimal #clusters for this data: ', len(c))"
   ]
  },
  {
   "cell_type": "code",
   "execution_count": 65,
   "metadata": {},
   "outputs": [],
   "source": [
    "def feature_split(df, feature_list):\n",
    "    count=1\n",
    "    cond = len(feature_list[0])\n",
    "    while cond/len(df) <= 0.8:\n",
    "        cond+=len(feature_list[count])\n",
    "        count+=1\n",
    "    train_ind = feature_list[:count]\n",
    "    test_ind = feature_list[count:]\n",
    "    train_index = [x for xi in train_ind for x in xi]\n",
    "    test_index = [y for yi in test_ind for y in yi]\n",
    "    xtrain = df.loc[train_index].fp_maccs.tolist()\n",
    "    ytrain = df.loc[train_index].activity.tolist()\n",
    "    xtest = df.loc[test_index].fp_maccs.tolist()\n",
    "    ytest = df.loc[test_index].activity.tolist()\n",
    "    return xtrain, ytrain, xtest, ytest"
   ]
  },
  {
   "cell_type": "markdown",
   "metadata": {},
   "source": [
    "### Results\n",
    "#### Performace on random selected sets"
   ]
  },
  {
   "cell_type": "code",
   "execution_count": 25,
   "metadata": {},
   "outputs": [
    {
     "name": "stdout",
     "output_type": "stream",
     "text": [
      "Fit model on single split with train/test split of 80.0% to 20.0%\n",
      "\n",
      "======= \n",
      "Model_RF\n",
      "accuracy:  0.8264738598442715\n",
      "sensitivity:  0.9019607843137255\n",
      "specifity:  0.7275064267352185\n",
      "AUC score:  0.8951509652704268\n",
      "\n",
      "======= \n",
      "Model_SVM\n",
      "accuracy:  0.8275862068965517\n",
      "sensitivity:  0.9098039215686274\n",
      "specifity:  0.7197943444730077\n",
      "AUC score:  0.8846363223952821\n"
     ]
    }
   ],
   "source": [
    "#Divide the set into training and test set for random split\n",
    "fingerprint_model = compound_df.fp_maccs.tolist()\n",
    "label_model = compound_df.activity.tolist()\n",
    "test_size=0.2\n",
    "x_train, x_test, y_train, y_test = random_split(fingerprint_model, label_model, test_size)\n",
    "print(f\"Fit model on single split with train/test split of {round((100-test_size*100),2)}% to {round(test_size*100,2)}%\")\n",
    "for model in models:\n",
    "    print(\"\\n======= \")\n",
    "    print(f\"{model['label']}\")\n",
    "    model['model'].fit(x_train, y_train)\n",
    "    # Calculate model performance results\n",
    "    accuracy, sens, spec, auc = model_performance(model['model'], x_test, y_test, False)\n",
    "    print('accuracy: ',accuracy)\n",
    "    print('sensitivity: ', sens)\n",
    "    print('specifity: ', spec)\n",
    "    print('AUC score: ', auc)"
   ]
  },
  {
   "cell_type": "code",
   "execution_count": 26,
   "metadata": {},
   "outputs": [
    {
     "name": "stdout",
     "output_type": "stream",
     "text": [
      "10-fold Cross Validation performance: \n",
      "\n",
      "======= \n",
      "Model_RF\n",
      "Mean accuracy: 0.83 \tand std : 0.01 \n",
      "Mean sensitivity: 0.88 \tand std : 0.02 \n",
      "Mean specificity: 0.77 \tand std : 0.03 \n",
      "Mean AUC: 0.90 \tand std : 0.01 \n",
      "\n",
      "\n",
      "======= \n",
      "Model_SVM\n",
      "Mean accuracy: 0.85 \tand std : 0.01 \n",
      "Mean sensitivity: 0.90 \tand std : 0.02 \n",
      "Mean specificity: 0.77 \tand std : 0.03 \n",
      "Mean AUC: 0.90 \tand std : 0.02 \n",
      "\n"
     ]
    }
   ],
   "source": [
    "print(f\"{N_FOLDS}-fold Cross Validation performance: \")\n",
    "models_acc=[]; models_method=[]\n",
    "for model in models:\n",
    "    print(\"\\n======= \")\n",
    "    print(f\"{model['label']}\")\n",
    "    acc,_,_,_ = cross_validation(model[\"model\"],compound_df, n_folds=N_FOLDS)\n",
    "    models_method.append((f\"{model['label']}+CV\"))\n",
    "    models_acc.append(acc)"
   ]
  },
  {
   "cell_type": "markdown",
   "metadata": {},
   "source": [
    "#### Performace on Time-split CV"
   ]
  },
  {
   "cell_type": "code",
   "execution_count": 3,
   "metadata": {},
   "outputs": [
    {
     "ename": "NameError",
     "evalue": "name 'compound_df' is not defined",
     "output_type": "error",
     "traceback": [
      "\u001b[0;31m---------------------------------------------------------------------------\u001b[0m",
      "\u001b[0;31mNameError\u001b[0m                                 Traceback (most recent call last)",
      "\u001b[0;32m<ipython-input-3-dce710a6f1e7>\u001b[0m in \u001b[0;36m<module>\u001b[0;34m\u001b[0m\n\u001b[1;32m      1\u001b[0m \u001b[0;31m#Sort the dataframe by document year in ascending order\u001b[0m\u001b[0;34m\u001b[0m\u001b[0;34m\u001b[0m\u001b[0;34m\u001b[0m\u001b[0m\n\u001b[0;32m----> 2\u001b[0;31m \u001b[0mcompounds_set_time\u001b[0m \u001b[0;34m=\u001b[0m \u001b[0mcompound_df\u001b[0m\u001b[0;34m.\u001b[0m\u001b[0msort_values\u001b[0m\u001b[0;34m(\u001b[0m\u001b[0mby\u001b[0m\u001b[0;34m=\u001b[0m\u001b[0;34m[\u001b[0m\u001b[0;34m'document_year'\u001b[0m\u001b[0;34m]\u001b[0m\u001b[0;34m)\u001b[0m\u001b[0;34m\u001b[0m\u001b[0;34m\u001b[0m\u001b[0m\n\u001b[0m\u001b[1;32m      3\u001b[0m \u001b[0mcompounds_set_time\u001b[0m\u001b[0;34m.\u001b[0m\u001b[0mhead\u001b[0m\u001b[0;34m(\u001b[0m\u001b[0;34m)\u001b[0m\u001b[0;34m\u001b[0m\u001b[0;34m\u001b[0m\u001b[0m\n",
      "\u001b[0;31mNameError\u001b[0m: name 'compound_df' is not defined"
     ]
    }
   ],
   "source": [
    "#Sort the dataframe by document year in ascending order\n",
    "compounds_set_time = compound_df.sort_values(by=['document_year'])\n",
    "compounds_set_time.head()"
   ]
  },
  {
   "cell_type": "markdown",
   "metadata": {},
   "source": [
    "* Naive Time-split CV"
   ]
  },
  {
   "cell_type": "code",
   "execution_count": 29,
   "metadata": {},
   "outputs": [
    {
     "name": "stdout",
     "output_type": "stream",
     "text": [
      "Data selection in time-split CV (naive)\n"
     ]
    },
    {
     "data": {
      "image/png": "[encoded data removed]",
      "text/plain": [
       "<Figure size 1296x360 with 3 Axes>"
      ]
     },
     "metadata": {
      "needs_background": "light"
     },
     "output_type": "display_data"
    }
   ],
   "source": [
    "train_time, test_time = naive_timesplit_CV(model_RF, compounds_set_time, n_folds=3, get_sets=True)\n",
    "plot_cv_data(train_time, test_time, 'Data selection in time-split CV (naive)')"
   ]
  },
  {
   "cell_type": "markdown",
   "metadata": {},
   "source": [
    "* Time-split CV for fixed split points"
   ]
  },
  {
   "cell_type": "code",
   "execution_count": 30,
   "metadata": {},
   "outputs": [
    {
     "name": "stdout",
     "output_type": "stream",
     "text": [
      "Data selection in time-split CV (split by years)\n"
     ]
    },
    {
     "data": {
      "image/png": "[encoded data removed]",
      "text/plain": [
       "<Figure size 1296x360 with 3 Axes>"
      ]
     },
     "metadata": {
      "needs_background": "light"
     },
     "output_type": "display_data"
    }
   ],
   "source": [
    "train_time, test_time = timesplit_CV(model_RF, compounds_set_time, n_folds=3, get_sets=True)\n",
    "plot_cv_data(train_time, test_time, 'Data selection in time-split CV (split by years)')"
   ]
  },
  {
   "cell_type": "code",
   "execution_count": null,
   "metadata": {},
   "outputs": [],
   "source": [
    "print(f\"{N_FOLDS}-fold (naive) Time-Split Cross Validation performance: \")\n",
    "for model in models:\n",
    "    print(\"\\n======= \")\n",
    "    print(f\"{model['label']}\")\n",
    "    acc,_,_,_ = naive_timesplit_CV(model[\"model\"], compounds_set_time, n_folds=N_FOLDS)\n",
    "    models_method.append(f\"{model['label']}+Time-split CV (naive)\")\n",
    "    models_acc.append(acc)"
   ]
  },
  {
   "cell_type": "code",
   "execution_count": 31,
   "metadata": {},
   "outputs": [
    {
     "name": "stdout",
     "output_type": "stream",
     "text": [
      "10-fold Time-Split Cross Validation performance: \n",
      "\n",
      "======= \n",
      "Model_RF\n",
      "Mean accuracy: 0.72 \tand std : 0.04 \n",
      "Mean sensitivity: 0.79 \tand std : 0.07 \n",
      "Mean specificity: 0.62 \tand std : 0.10 \n",
      "Mean AUC: 0.77 \tand std : 0.05 \n",
      "\n",
      "\n",
      "======= \n",
      "Model_SVM\n",
      "Mean accuracy: 0.71 \tand std : 0.08 \n",
      "Mean sensitivity: 0.74 \tand std : 0.13 \n",
      "Mean specificity: 0.67 \tand std : 0.14 \n",
      "Mean AUC: 0.76 \tand std : 0.05 \n",
      "\n"
     ]
    }
   ],
   "source": [
    "print(f\"{N_FOLDS}-fold Time-Split Cross Validation performance: \")\n",
    "for model in models:\n",
    "    print(\"\\n======= \")\n",
    "    print(f\"{model['label']}\")\n",
    "    acc,_,_,_ = timesplit_CV(model[\"model\"], compounds_set_time, n_folds=N_FOLDS)\n",
    "    models_method.append(f\"{model['label']}+Time-split CV\")\n",
    "    models_acc.append(acc)"
   ]
  },
  {
   "cell_type": "markdown",
   "metadata": {},
   "source": [
    "#### Performace on rational selection\n",
    "\n",
    "* Butina Clustering"
   ]
  },
  {
   "cell_type": "code",
   "execution_count": 32,
   "metadata": {},
   "outputs": [
    {
     "name": "stdout",
     "output_type": "stream",
     "text": [
      "Size of largets cluster:  52\n",
      "Number of Singletons:  989\n",
      "# clusters with only 1 compound:  989\n",
      "# clusters with >5 compounds:  171\n",
      "# clusters with >25 compounds:  10\n",
      "# clusters with >100 compounds:  0\n"
     ]
    }
   ],
   "source": [
    "#Convert fingerprints to list\n",
    "df_fingerprints = compound_df.fp_maccs.tolist()\n",
    "\n",
    "# Run the clustering procedure for the dataset\n",
    "clusters = cluster_fingerprints(df_fingerprints, cutoff=cut_off)# user-defined cut-off for similarity"
   ]
  },
  {
   "cell_type": "code",
   "execution_count": 33,
   "metadata": {},
   "outputs": [
    {
     "name": "stdout",
     "output_type": "stream",
     "text": [
      "Number of clusters: 1710 from 4493 molecules at distance cut-off 0.10\n",
      "Number of molecules in largest cluster: 52\n",
      "Similarity between two random points in same cluster: 0.91\n",
      "Similarity between two random points in different cluster: 0.64\n"
     ]
    },
    {
     "data": {
      "image/png": "[encoded data removed]",
      "text/plain": [
       "<Figure size 1080x288 with 1 Axes>"
      ]
     },
     "metadata": {
      "needs_background": "light"
     },
     "output_type": "display_data"
    }
   ],
   "source": [
    "# Plot the size of the clusters - save plot\n",
    "fig, ax = plt.subplots(figsize=(15, 4))\n",
    "ax.set_xlabel(\"Cluster index\")\n",
    "ax.set_ylabel(\"# molecules\")\n",
    "ax.bar(range(1, len(clusters) + 1), [len(c) for c in clusters])\n",
    "ax.set_title(f\"Threshold: {cut_off:3.1f}\")\n",
    "\n",
    "print(f\"Number of clusters: {len(clusters)} from {len(compound_df)} molecules at distance cut-off {cut_off:.2f}\")\n",
    "print(\"Number of molecules in largest cluster:\", len(clusters[0]))\n",
    "print(f\"Similarity between two random points in same cluster: {DataStructs.TanimotoSimilarity(df_fingerprints[clusters[0][0]], df_fingerprints[clusters[0][1]]):.2f}\")\n",
    "print(f\"Similarity between two random points in different cluster: {DataStructs.TanimotoSimilarity(df_fingerprints[clusters[0][0]], df_fingerprints[clusters[1][0]]):.2f}\")"
   ]
  },
  {
   "cell_type": "code",
   "execution_count": 35,
   "metadata": {},
   "outputs": [
    {
     "name": "stdout",
     "output_type": "stream",
     "text": [
      "Fit model on cluster-based split with train/test split of 77.99% to 22.01%\n",
      "\n",
      "======= \n",
      "Model_RF\n",
      "accuracy:  0.7654196157735086\n",
      "sensitivity:  0.8845360824742268\n",
      "specifity:  0.6507936507936508\n",
      "AUC score:  0.8598429062346589\n",
      "\n",
      "======= \n",
      "Model_SVM\n",
      "accuracy:  0.7714863498483316\n",
      "sensitivity:  0.8762886597938144\n",
      "specifity:  0.6706349206349206\n",
      "AUC score:  0.847555637375225\n"
     ]
    }
   ],
   "source": [
    "cluster_xtrain, cluster_ytrain, cluster_xtest, cluster_ytest = fingerprint_split(compound_df, clusters)\n",
    "testsize = len(cluster_ytest)/(len(cluster_ytest)+len(cluster_ytrain))*100\n",
    "print(f\"Fit model on cluster-based split with train/test split of {round(100-testsize,2)}% to {round(testsize,2)}%\")\n",
    "for model in models:\n",
    "    print(\"\\n======= \")\n",
    "    print(f\"{model['label']}\")\n",
    "    model['model'].fit(cluster_xtrain, cluster_ytrain)\n",
    "    # Calculate model performance results\n",
    "    accuracy, sens, spec, auc = model_performance(model['model'], cluster_xtest, cluster_ytest, False)\n",
    "    print('accuracy: ',accuracy)\n",
    "    print('sensitivity: ', sens)\n",
    "    print('specifity: ', spec)\n",
    "    print('AUC score: ', auc)"
   ]
  },
  {
   "cell_type": "markdown",
   "metadata": {},
   "source": [
    "* K-means"
   ]
  },
  {
   "cell_type": "code",
   "execution_count": 66,
   "metadata": {},
   "outputs": [
    {
     "name": "stdout",
     "output_type": "stream",
     "text": [
      "Size of clusters:  [3484    1    1    4    1   19    1    4   28    8    1    2    6   29\n",
      "    4    2   94    1    4    9  215   36   53    1    1    1   10  459\n",
      "    5    7    2]\n",
      "Fit model on cluster-based split with train/test split of 80.01% to 19.99%\n",
      "\n",
      "======= \n",
      "Model_RF\n",
      "accuracy:  0.7984409799554566\n",
      "sensitivity:  0.8714285714285714\n",
      "specifity:  0.6268656716417911\n",
      "AUC score:  0.8226012793176973\n",
      "\n",
      "======= \n",
      "Model_SVM\n",
      "accuracy:  0.821826280623608\n",
      "sensitivity:  0.9063492063492063\n",
      "specifity:  0.6231343283582089\n",
      "AUC score:  0.8250621890547263\n"
     ]
    }
   ],
   "source": [
    "features = cluster_features(compound_df, 31)\n",
    "feat_xtrain, feat_ytrain, feat_xtest, feat_ytest = feature_split(compound_df, features)\n",
    "testsize_ = len(feat_ytest)/(len(feat_ytest)+len(feat_ytrain))*100\n",
    "print(f\"Fit model on cluster-based split with train/test split of {round(100-testsize_,2)}% to {round(testsize_,2)}%\")\n",
    "for model in models:\n",
    "    print(\"\\n======= \")\n",
    "    print(f\"{model['label']}\")\n",
    "    model['model'].fit(feat_xtrain, feat_ytrain)\n",
    "    # Calculate model performance results\n",
    "    accuracy, sens, spec, auc = model_performance(model['model'], feat_xtest, feat_ytest, False)\n",
    "    print('accuracy: ',accuracy)\n",
    "    print('sensitivity: ', sens)\n",
    "    print('specifity: ', spec)\n",
    "    print('AUC score: ', auc)"
   ]
  },
  {
   "cell_type": "markdown",
   "metadata": {},
   "source": [
    "#### Create test set with random split method with same ratio for rational split from Butina Clustering"
   ]
  },
  {
   "cell_type": "code",
   "execution_count": 73,
   "metadata": {},
   "outputs": [
    {
     "name": "stdout",
     "output_type": "stream",
     "text": [
      "Fit model on single split with train/test split of 77.99%:22.01%\n",
      "\n",
      "======= \n",
      "Model_RF\n",
      "accuracy:  0.8169868554095046\n",
      "sensitivity:  0.8853615520282186\n",
      "specifity:  0.7251184834123223\n",
      "AUC score:  0.8865004137515986\n",
      "\n",
      "======= \n",
      "Model_SVM\n",
      "accuracy:  0.8220424671385238\n",
      "sensitivity:  0.9065255731922398\n",
      "specifity:  0.7085308056872038\n",
      "AUC score:  0.8812720980967426\n"
     ]
    }
   ],
   "source": [
    "#Divide the set into training and test set for random split\n",
    "fingerprint_model = compound_df.fp_maccs.tolist()\n",
    "label_model = compound_df.activity.tolist()\n",
    "\n",
    "static_xtrain, static_xtest, static_ytrain, static_ytest = random_split(fingerprint_model, label_model,(testsize/100))"
   ]
  },
  {
   "cell_type": "markdown",
   "metadata": {},
   "source": [
    "### Discussion"
   ]
  },
  {
   "cell_type": "markdown",
   "metadata": {},
   "source": [
    "#### Cross Validation methods"
   ]
  },
  {
   "cell_type": "code",
   "execution_count": 81,
   "metadata": {},
   "outputs": [
    {
     "name": "stdout",
     "output_type": "stream",
     "text": [
      "Accuracy per fold\n"
     ]
    },
    {
     "data": {
      "image/png": "[encoded data removed]",
      "text/plain": [
       "<Figure size 1296x360 with 2 Axes>"
      ]
     },
     "metadata": {},
     "output_type": "display_data"
    }
   ],
   "source": [
    "plot_cv_accuracy(models_acc, models_method, 'Accuracy per fold')"
   ]
  },
  {
   "cell_type": "markdown",
   "metadata": {},
   "source": [
    "#### Single Random vs. Cluster-based Split"
   ]
  },
  {
   "cell_type": "code",
   "execution_count": 75,
   "metadata": {},
   "outputs": [
    {
     "data": {
      "image/png": "[encoded data removed]",
      "text/plain": [
       "<Figure size 432x288 with 1 Axes>"
      ]
     },
     "metadata": {},
     "output_type": "display_data"
    }
   ],
   "source": [
    "diff = abs(testsize-testsize_)\n",
    "plot_roc_curves_for_singlemodel(model_RF, [static_xtest, cluster_xtest, feat_xtest], [static_ytest, cluster_ytest, feat_ytest], ['Static Split','Butina Split ','K-means'],'ROC Curve Plot for RF');"
   ]
  },
  {
   "cell_type": "code",
   "execution_count": 77,
   "metadata": {},
   "outputs": [
    {
     "data": {
      "image/png": "[encoded data removed]",
      "text/plain": [
       "<Figure size 432x288 with 1 Axes>"
      ]
     },
     "metadata": {},
     "output_type": "display_data"
    }
   ],
   "source": [
    "plot_roc_curves_for_singlemodel(model_SVM, [static_xtest, cluster_xtest, feat_xtest], [static_ytest, cluster_ytest, feat_ytest], ['Static Split','Butina Split','K-means'],'ROC Curve Plot for SVM with test size '+str(round(testsize,2))+'+-'+str(diff)+'%');"
   ]
  },
  {
   "cell_type": "markdown",
   "metadata": {},
   "source": [
    "#### Visualization of the clusters"
   ]
  },
  {
   "cell_type": "code",
   "execution_count": null,
   "metadata": {},
   "outputs": [],
   "source": [
    "print(\"Ten molecules from largest cluster:\")\n",
    "# Draw molecules\n",
    "Draw.MolsToGridImage(\n",
    "    [Chem.MolFromSmiles(compound_df.smiles[i]) for i in clusters[0][:10]],\n",
    "    legends=[compound_df.molecule_chembl_id[i] for i in clusters[0][:10]],\n",
    "    molsPerRow=5,\n",
    ")"
   ]
  },
  {
   "cell_type": "markdown",
   "metadata": {},
   "source": [
    "### Sources\n",
    "[S1]\n",
    "https://www.rdkit.org/docs/GettingStartedInPython.html#fingerprinting-and-molecular-similarity\n",
    "[S2] Overview molecular descriptors\n",
    "https://chem.libretexts.org/Courses/Intercollegiate_Courses/Cheminformatics_OLCC_(2019)/6%3A_Molecular_Similarity/6.1%3A_Molecular_Descriptors\n",
    "[S3] Scikit-learn Cross Validation\n",
    "https://scikit-learn.org/stable/modules/generated/sklearn.model_selection.KFold.html\n",
    "[S4] Scikit-learn Time-split Cross Validation\n",
    "https://scikit-learn.org/stable/modules/generated/sklearn.model_selection.TimeSeriesSplit.html\n",
    "\n",
    "### Images\n",
    "* https://chemaxon.com/news/chemaxon-us-user-group-meeting-ugm-san-diego-september-24-25-2013\n",
    "* https://scikit-learn.org/stable/modules/cross_validation.html\n",
    "\n",
    "\n",
    "### References\n",
    "\n",
    "[] REVIEW OF EPIDERMAL GROWTH FACTOR RECEPTOR BIOLOGY\n",
    "\n"
   ]
  },
  {
   "cell_type": "code",
   "execution_count": null,
   "metadata": {},
   "outputs": [],
   "source": []
  }
 ],
 "metadata": {
  "kernelspec": {
   "display_name": "Python 3",
   "language": "python",
   "name": "python3"
  },
  "language_info": {
   "codemirror_mode": {
    "name": "ipython",
    "version": 3
   },
   "file_extension": ".py",
   "mimetype": "text/x-python",
   "name": "python",
   "nbconvert_exporter": "python",
   "pygments_lexer": "ipython3",
   "version": "3.6.9"
  },
  "toc-autonumbering": true
 },
 "nbformat": 4,
 "nbformat_minor": 4
}
