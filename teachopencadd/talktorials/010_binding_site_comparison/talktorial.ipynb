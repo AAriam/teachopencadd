{
 "cells": [
  {
   "cell_type": "markdown",
   "metadata": {},
   "source": [
    "# Binding site similarity and off-target prediction\n",
    "\n",
    "Authors:\n",
    "\n",
    "- Angelika Szengel, CADD seminars 2017, Charité/FU Berlin\n",
    "- Marvis Sydow, CADD seminars 2018, Charité/FU Berlin\n",
    "- Richard Gowers, RDKit UGM hackathon 2019\n",
    "- Jaime Rodríguez-Guerra, 2020, Volkamer lab, Charité\n",
    "- Dominique Sydow, 2018-2020, Volkamer lab, Charité"
   ]
  },
  {
   "cell_type": "markdown",
   "metadata": {},
   "source": [
    "__Talktorial T10__: This talktorial is part of the TeachOpenCADD pipeline described in the [first TeachOpenCADD paper](https://jcheminf.biomedcentral.com/articles/10.1186/s13321-019-0351-x), comprising of talktorials T1-T10."
   ]
  },
  {
   "cell_type": "markdown",
   "metadata": {},
   "source": [
    "**Note**: Please run this notebook cell by cell. Running all cells in one is possible also, however, part of the `nglview` 3D representations might be missing."
   ]
  },
  {
   "cell_type": "markdown",
   "metadata": {},
   "source": [
    "## Aim of this talktorial\n",
    "\n",
    "In this talktorial, we use the structural similarity of full proteins and binding sites to predict off-targets, i.e. proteins that are not intended targets of a drug. This may lead to unwanted side effects or enable desired alternate applications of a drug (drug repositioning).\n",
    "We discuss the main steps for binding site comparison and implement a basic method, i.e. the geometrical variation between structures (the root mean square deviation between two structures)."
   ]
  },
  {
   "cell_type": "markdown",
   "metadata": {},
   "source": [
    "### Contents in *Theory*\n",
    "\n",
    "* Off-target proteins\n",
    "* Computational off-target prediction: binding site comparison\n",
    "* Pairwise RMSD as simple measure for similarity\n",
    "* Imatinib, a tyrosine kinase inhibitor"
   ]
  },
  {
   "cell_type": "markdown",
   "metadata": {},
   "source": [
    "### Contents in *Practical*\n",
    "\n",
    "* Load and visualize the ligand of interest (Imatinib/STI)\n",
    "* Get all protein-STI complexes from the PDB\n",
    "  * Query the PDB\n",
    "  * Filter the PDB data set\n",
    "* Visualize the PDB structures\n",
    "* Align the PDB structures (full protein)\n",
    "* Get pairwise RMSD (full protein)\n",
    "* Align the PDB structures (binding site)\n",
    "* Get pairwise RMSD (binding site)\n",
    "* Filter out outliers"
   ]
  },
  {
   "cell_type": "markdown",
   "metadata": {},
   "source": [
    "### References\n",
    "\n",
    "Binding site superposition + comparison: \n",
    "\n",
    "* Binding site comparison reviews: \n",
    "  * [<i>Curr. Comput. Aided Drug Des. </i> (2008), <b>4</b>, 209-20](https://www.eurekaselect.com/67606/article/how-measure-similarity-between-protein-ligand-binding-sites)\n",
    "  * [<i>J. Med. Chem. </i> (2016), <b>9</b>, 4121-51](https://pubs.acs.org/doi/10.1021/acs.jmedchem.6b00078)\n",
    "* Molecular superposition with Python: `opencadd` package (`structure.superposition` module) ([GitHub repository](https://github.com/volkamerlab/opencadd))\n",
    "* Wikipedia article on root mean square deviation (RMSD) \n",
    "([Wikipedia](https://en.wikipedia.org/wiki/Root-mean-square_deviation_of_atomic_positions)) and structural superposition ([Wikipedia](https://en.wikipedia.org/wiki/Structural_alignment))\n",
    "* Structural superposition: [Book chapter: Algorithms, Applications, and Challenges of Protein Structure Alignment in *Advances in Protein Chemistry and Structural Biology* (2014), **94**, 121-75](https://www.sciencedirect.com/science/article/pii/B9780128001684000056?via%3Dihub)\n",
    "\n",
    "Imatinib:  \n",
    "\n",
    "* Review on Imatinib: [<i>Nat. Rev. Clin. Oncol.</i> (2016), <b>13</b>, 431-46](https://www.nature.com/articles/nrclinonc.2016.41)\n",
    "* Promiscuity of imatinib: \n",
    "[<i>J. Biol.</i> (2009), <b>8</b>, 30](https://jbiol.biomedcentral.com/articles/10.1186/jbiol134)\n",
    "* [ChEMBL information on Imatinib](https://www.ebi.ac.uk/chembl/compound/inspect/CHEMBL941)\n",
    "* [PDB information on Imatinib](https://www3.rcsb.org/ligand/STI)\n",
    "* Side effects of Imatinib\n",
    "  * [MedFacts Consumer Drug Information](https://www.drugs.com/cdi/imatinib.html)\n",
    "  * [DrugBank](https://go.drugbank.com/drugs/DB00619)\n",
    "  * [<i>BMC Struct. Biol.</i> (2009), <b>9</b>](https://bmcstructbiol.biomedcentral.com/articles/10.1186/1472-6807-9-7)"
   ]
  },
  {
   "cell_type": "markdown",
   "metadata": {},
   "source": [
    "## Theory"
   ]
  },
  {
   "cell_type": "markdown",
   "metadata": {},
   "source": [
    "### Off-target proteins\n",
    "\n",
    "An off-target can be any protein which interacts with a drug or (one of) its metabolite(s) without being the designated target protein. \n",
    "The molecular reaction caused by the off-target can lead to unwanted side effects, ranging from a rather harmless to an extremely harmful impact. \n",
    "Off-targets mainly occur because on- and off-targets share similar structural motifs with each other in their binding site and therefore can bind similar ligands."
   ]
  },
  {
   "cell_type": "markdown",
   "metadata": {},
   "source": [
    "### Computational off-target prediction: binding site comparison\n",
    "\n",
    "Computation-aided prediction of potential off-targets is aimed at minimizing the risk of developing potentially dangerous substances for medical treatment.\n",
    "There are several algorithmic approaches to assess binding site similarity but they always consist of three main steps:\n",
    "\n",
    "1. **Binding site encoding**: binding sites are encoded using different descriptor techniques and stored in a target database.\n",
    "2. **Binding site comparison**: a query binding site is compared with the target database, using different similarity measures.\n",
    "3. **Target ranking**: targets are ranked based on a suitable scoring approach.\n",
    "\n",
    "For detailed information on different similarity measures and existing tools, we refer to two excellent reviews on binding site comparison ([<i>Curr. Comput. Aided Drug Des. </i> (2008), <b>4</b>, 209-20](https://www.eurekaselect.com/67606/article/how-measure-similarity-between-protein-ligand-binding-sites) and [<i>J. Med. Chem. </i> (2016), <b>9</b>, 4121-51](https://pubs.acs.org/doi/10.1021/acs.jmedchem.6b00078)).\n",
    "\n",
    "![Binding site comparison steps](images/binding_site_comparison_steps.png)\n",
    "\n",
    "Figure 1: Main steps of binding site comparison methods (figure by Dominique Sydow).</div>"
   ]
  },
  {
   "cell_type": "markdown",
   "metadata": {},
   "source": [
    "### Pairwise RMSD as simple measure for similarity\n",
    "\n",
    "A simple and straightforward method for scoring the similarity is to use the calculated root mean square deviation (RMSD), which is the square root of the mean of the square of the distances between the atoms of two aligned structures ([Wikipedia](https://en.wikipedia.org/wiki/Root-mean-square_deviation_of_atomic_positions)). \n",
    "\n",
    "\n",
    "In order to find the respective atoms that are compared between two structures, they need to be aligned first based on sequence-based or sequence-independent alignment algorithms ([Book chapter: Algorithms, Applications, and Challenges of Protein Structure Alignment in *Advances in Protein Chemistry and Structural Biology* (2014), **94**, 121-75](https://www.sciencedirect.com/science/article/pii/B9780128001684000056?via%3Dihub))."
   ]
  },
  {
   "cell_type": "markdown",
   "metadata": {},
   "source": [
    "### Imatinib, a tyrosine kinase inhibitor\n",
    "\n",
    "Kinases transfer a phosphate group from ATP to proteins, and thereby regulate various cellular processes such as signal transduction, metabolism, and protein regulation.\n",
    "If these kinases are constitutively active (due to genomic mutations), they can distort regulation processes and cause cancer.\n",
    "An example for cancer treatment is Imatinib ([<i>Nat. Rev. Clin. Oncol.</i> (2016), <b>13</b>, 431-46](https://www.nature.com/articles/nrclinonc.2016.41)), a small molecule tyrosine kinase inhibitor used to treat cancer, more specifically chronic myeloid leukaemia (CML) and gastrointestinal stromal tumour (GIST). \n",
    "\n",
    "Imatinib was shown to be not entirely specific and to target tyrosine kinases other than its main target. This was used for drug repositioning, i.e. Imatinib was approved for alternate cancer types, ([<i>J. Biol.</i> (2009), <b>8</b>, 30](https://jbiol.biomedcentral.com/articles/10.1186/jbiol134)), however can also show unwanted side effects such as signs of an allergic reaction, infection, bleeding, or headache ([MedFacts Consumer Drug Information](https://www.drugs.com/cdi/imatinib.html))."
   ]
  },
  {
   "cell_type": "markdown",
   "metadata": {},
   "source": [
    "## Practical\n",
    "\n",
    "In the following, we will fetch and filter PDB structures that bind Imatinib. We will investigate the structure similarity of Imatinib-binding proteins (those with a solved protein structure). \n",
    "The similarity measure used is a pairwise RMSD calculation (as a simple similarity measure), in order to show that this simple method can be used as an initial test for potential off-targets."
   ]
  },
  {
   "cell_type": "code",
   "execution_count": null,
   "metadata": {},
   "outputs": [],
   "source": [
    "import logging\n",
    "from pathlib import Path\n",
    "import random\n",
    "\n",
    "import pandas as pd\n",
    "import matplotlib.pyplot as plt\n",
    "import seaborn as sns\n",
    "import redo\n",
    "import nglview as nv\n",
    "import pypdb\n",
    "from rdkit import Chem\n",
    "from rdkit.Chem import Draw, AllChem\n",
    "from rdkit.Chem.Draw import IPythonConsole\n",
    "from MDAnalysis.analysis import rms\n",
    "from opencadd.structure.core import Structure\n",
    "from opencadd.structure.superposition.api import align, METHODS\n",
    "from opencadd.structure.superposition.engines.mda import MDAnalysisAligner\n",
    "\n",
    "IPythonConsole.ipython_useSVG=True\n",
    "logger = logging.getLogger(\"opencadd\")\n",
    "logger.setLevel(logging.ERROR)"
   ]
  },
  {
   "cell_type": "code",
   "execution_count": null,
   "metadata": {},
   "outputs": [],
   "source": [
    "# Set path to this notebook\n",
    "HERE = Path(_dh[0])\n",
    "DATA = HERE / \"data\""
   ]
  },
  {
   "cell_type": "markdown",
   "metadata": {},
   "source": [
    "### Load and visualize the ligand of interest (Imatinib/STI)\n",
    "\n",
    "The SMILES format for Imatinib (common abbreviation: STI) can be retrieved from e.g. the ChEMBL database \n",
    "([ChEMBL: Imatinib](https://www.ebi.ac.uk/chembl/compound/inspect/CHEMBL941)) \n",
    "or the PDB database by its common abbreviation STI \n",
    "([PDB: STI](https://www3.rcsb.org/ligand/STI)). \n",
    "We simply copy the string from the \"Isomeric SMILES\" entry of the Chemical Component Summary table, and load the ligand here by hand."
   ]
  },
  {
   "cell_type": "code",
   "execution_count": null,
   "metadata": {},
   "outputs": [],
   "source": [
    "smiles = Chem.MolFromSmiles(\"CN1CCN(Cc2ccc(cc2)C(=O)Nc2ccc(C)c(Nc3nccc(n3)-c3cccnc3)c2)CC1\")\n",
    "Draw.MolToImage(smiles)"
   ]
  },
  {
   "cell_type": "markdown",
   "metadata": {},
   "source": [
    "In order to inspect the 3D structure of STI, we use the open source tool `nglview`. \n",
    "Before we can view STI in `nglview`, we need to compute its 3D coordinates.\n",
    "\n",
    "First, we add hydrogen atoms to the molecule, which are not always explicitly denoted in the SMILES format.\n",
    "Second, we use the distance geometry to obtain initial coordinates for the molecule and optimize the structure of the molecule using the force field UFF (Universal Force Field)."
   ]
  },
  {
   "cell_type": "code",
   "execution_count": null,
   "metadata": {},
   "outputs": [],
   "source": [
    "molecule = Chem.AddHs(smiles)\n",
    "molecule"
   ]
  },
  {
   "cell_type": "code",
   "execution_count": null,
   "metadata": {},
   "outputs": [],
   "source": [
    "AllChem.EmbedMolecule(molecule)\n",
    "AllChem.UFFOptimizeMolecule(molecule)\n",
    "molecule"
   ]
  },
  {
   "cell_type": "markdown",
   "metadata": {},
   "source": [
    "Now, we are ready to roll in `nglview`! "
   ]
  },
  {
   "cell_type": "code",
   "execution_count": null,
   "metadata": {},
   "outputs": [],
   "source": [
    "view = nv.show_rdkit(molecule)\n",
    "view"
   ]
  },
  {
   "cell_type": "code",
   "execution_count": null,
   "metadata": {
    "scrolled": true
   },
   "outputs": [],
   "source": [
    "view.render_image();"
   ]
  },
  {
   "cell_type": "code",
   "execution_count": null,
   "metadata": {},
   "outputs": [],
   "source": [
    "view._display_image()"
   ]
  },
  {
   "cell_type": "markdown",
   "metadata": {},
   "source": [
    "### Get all protein-STI complexes from the PDB"
   ]
  },
  {
   "cell_type": "markdown",
   "metadata": {},
   "source": [
    "#### Query the PDB\n",
    "\n",
    "We can look up Imatinib/STI in open databases like the PDB and search for proteins that are reported targets. In the PDB, Imatinib is usually abbreviated to STI. We will search for both terms and merge the results in the following. We will use the `pypdb` package to perform the PDB queries.\n",
    "\n",
    "First, we retrieve all proteins from the PDB that bind the ligand of interest (STI)."
   ]
  },
  {
   "cell_type": "code",
   "execution_count": null,
   "metadata": {},
   "outputs": [],
   "source": [
    "# Set up query dictionary\n",
    "search_dict = pypdb.make_query(\"STI\")\n",
    "search_dict"
   ]
  },
  {
   "cell_type": "code",
   "execution_count": null,
   "metadata": {},
   "outputs": [],
   "source": [
    "# Query PDB\n",
    "pdb_ids1 = pypdb.do_search(search_dict)\n",
    "\n",
    "print(f\"Number of structures connected with STI in the PDB: {len(pdb_ids1)}\")\n",
    "print(*pdb_ids1)"
   ]
  },
  {
   "cell_type": "markdown",
   "metadata": {},
   "source": [
    "Note that the query results can differ depending on the term used for the query ligand. "
   ]
  },
  {
   "cell_type": "code",
   "execution_count": null,
   "metadata": {},
   "outputs": [],
   "source": [
    "# Query PDB for proteins bound to the ligand Imatinib\n",
    "search_dict = pypdb.make_query(\"Imatinib\")  \n",
    "pdb_ids2 = pypdb.do_search(search_dict)\n",
    "\n",
    "print(f\"Number of structures connected with Imatinib in the PDB: {len(pdb_ids2)}\")\n",
    "print(*pdb_ids2)"
   ]
  },
  {
   "cell_type": "markdown",
   "metadata": {},
   "source": [
    "We merge both query results and keep only unique entries."
   ]
  },
  {
   "cell_type": "code",
   "execution_count": null,
   "metadata": {},
   "outputs": [],
   "source": [
    "pdb_ids = list(set(pdb_ids1 + pdb_ids2))\n",
    "print(f\"Number of structures connected with STI/Imatinib in the PDB: {len(pdb_ids)}\")"
   ]
  },
  {
   "cell_type": "markdown",
   "metadata": {},
   "source": [
    "#### Filter the PDB data set\n",
    "\n",
    "We retrieve meta information on the PDB structures and filter the data set based on the following criteria:\n",
    "\n",
    "1. Filter by experimental method (\"xray\").\n",
    "2. Filter by resolution (equal or lower than 3 &#8491;).\n",
    "3. Retain only PDB structures with a single chain (for simplicity).\n",
    "4. Retain only Imatinib-bound structures (e.g. some PDB structures are returned that are associated with Imatinib but not bound to it).\n",
    "5. Retain only PDB IDs deposited before 2019 (technical detail to make the notebook easier to maintain for us)."
   ]
  },
  {
   "cell_type": "markdown",
   "metadata": {},
   "source": [
    "Let's get started!\n",
    "\n",
    "__Get meta information from the PDB.__"
   ]
  },
  {
   "cell_type": "code",
   "execution_count": null,
   "metadata": {
    "scrolled": true
   },
   "outputs": [],
   "source": [
    "entity_info = [pypdb.get_entity_info(pdb_id) for pdb_id in pdb_ids]\n",
    "    \n",
    "# Show the first entry\n",
    "entity_info[0]"
   ]
  },
  {
   "cell_type": "code",
   "execution_count": null,
   "metadata": {},
   "outputs": [],
   "source": [
    "# Transform list to DataFrame\n",
    "entity_info = pd.DataFrame(entity_info)\n",
    "\n",
    "# Show the 5 first rows\n",
    "print(f\"Number of structures: {entity_info.shape[0]}\")\n",
    "entity_info.head()"
   ]
  },
  {
   "cell_type": "markdown",
   "metadata": {},
   "source": [
    "__1. Filter by experimental method (\"xray\").__"
   ]
  },
  {
   "cell_type": "code",
   "execution_count": null,
   "metadata": {},
   "outputs": [],
   "source": [
    "entity_info = entity_info[entity_info[\"Method\"] == {\"@name\": \"xray\"}]\n",
    "print(f\"Number of structures left: {entity_info.shape[0]}\")"
   ]
  },
  {
   "cell_type": "markdown",
   "metadata": {},
   "source": [
    "__2. Filter by resolution (equal or lower than 3 &#8491;).__"
   ]
  },
  {
   "cell_type": "code",
   "execution_count": null,
   "metadata": {},
   "outputs": [],
   "source": [
    "entity_info = entity_info[entity_info[\"resolution\"].astype(float) <= 3.0]\n",
    "print(f\"Number of structures left: {entity_info.shape[0]}\")"
   ]
  },
  {
   "cell_type": "markdown",
   "metadata": {},
   "source": [
    "__3. Retain only PDB structures with a single chain.__"
   ]
  },
  {
   "cell_type": "code",
   "execution_count": null,
   "metadata": {},
   "outputs": [],
   "source": [
    "# Remove all PDB IDs with multiple entities -- use pandas' apply function\n",
    "entity_info = entity_info[entity_info[\"Entity\"].apply(lambda x: isinstance(x, dict))]\n",
    "print(f\"Number of structures left: {entity_info.shape[0]}\")\n",
    "\n",
    "# Remove all PDB IDs with multiple chains\n",
    "entity_info = entity_info[entity_info[\"Entity\"].apply(lambda x: isinstance(x[\"Chain\"], dict))]\n",
    "print(f\"Number of structures left: {entity_info.shape[0]}\")"
   ]
  },
  {
   "cell_type": "markdown",
   "metadata": {},
   "source": [
    "__4. Retain only Imatinib-bound structures.__"
   ]
  },
  {
   "cell_type": "code",
   "execution_count": null,
   "metadata": {},
   "outputs": [],
   "source": [
    "@redo.retriable(attempts=10, sleeptime=2)\n",
    "def get_ligands(pdb_id):\n",
    "    \"\"\"Decorate pypdb.get_ligands so it retries after a failure\"\"\"\n",
    "    return pypdb.get_ligands(pdb_id)"
   ]
  },
  {
   "cell_type": "code",
   "execution_count": null,
   "metadata": {},
   "outputs": [],
   "source": [
    "# Add ligand information to DataFrame\n",
    "entity_info[\"ligandInfo\"] = entity_info[\"structureId\"].apply(lambda x: get_ligands(x)[\"ligandInfo\"])\n",
    "\n",
    "# Keep only PBD IDs with ligand information -- \"~\" negates boolean values\n",
    "entity_info = entity_info[~entity_info[\"ligandInfo\"].apply(lambda x: x is None)]\n",
    "\n",
    "# Ligand information is given as dict (if only one ligand) and list, transform everything to list\n",
    "entity_info[\"ligandInfo\"] = entity_info[\"ligandInfo\"].apply(lambda x: x[\"ligand\"] if isinstance(x[\"ligand\"], list) else [x[\"ligand\"]])\n",
    "\n",
    "# Keep only PDB IDs with STI ligand\n",
    "entity_info = entity_info[entity_info[\"ligandInfo\"].apply(lambda x: \"STI\" in [i[\"@chemicalID\"] for i in x])]\n",
    "print(f\"Number of structures left: {entity_info.shape[0]}\")\n",
    "\n",
    "# After manual visual inspection remove 3GVU (contains 2x STI: not feasible for the automated workflow below)\n",
    "entity_info = entity_info[entity_info[\"structureId\"] != \"3GVU\"]\n",
    "print(f\"Number of structures left: {entity_info.shape[0]}\")"
   ]
  },
  {
   "cell_type": "markdown",
   "metadata": {},
   "source": [
    "__5. Retain only PDB IDs deposited before 2019.__"
   ]
  },
  {
   "cell_type": "code",
   "execution_count": null,
   "metadata": {},
   "outputs": [],
   "source": [
    "entity_info.apply(lambda x: int(x[\"release_date\"][-4:]) < 2019, axis=1)\n",
    "print(f\"Number of structures left: {entity_info.shape[0]}\")\n",
    "\n",
    "pdb_ids = entity_info[\"structureId\"].tolist()\n",
    "print(*pdb_ids)"
   ]
  },
  {
   "cell_type": "markdown",
   "metadata": {},
   "source": [
    "### Visualize the PDB structures\n",
    "\n",
    "First, we load all structures in `nglview` for visual inspection of the 3D structure of the protein data set. "
   ]
  },
  {
   "cell_type": "code",
   "execution_count": null,
   "metadata": {},
   "outputs": [],
   "source": [
    "view = nv.NGLWidget()\n",
    "for pdb_id in pdb_ids:\n",
    "    view.add_pdbid(pdb_id)\n",
    "view"
   ]
  },
  {
   "cell_type": "code",
   "execution_count": null,
   "metadata": {},
   "outputs": [],
   "source": [
    "view.render_image();"
   ]
  },
  {
   "cell_type": "code",
   "execution_count": null,
   "metadata": {},
   "outputs": [],
   "source": [
    "view._display_image()"
   ]
  },
  {
   "cell_type": "markdown",
   "metadata": {},
   "source": [
    "Though this image is beautifully colorful and curly, it is not informative yet. We align the structures to each other in the next step."
   ]
  },
  {
   "cell_type": "markdown",
   "metadata": {},
   "source": [
    "### Align the PDB structures (full protein)\n",
    "\n",
    "We will use one of our `opencadd` packages (`structure.superposition` module) to guide the structural alignment of the different proteins. The approach we will use is based on superposition guided by sequence alignment provided matched residues. There are other methods in the package, but this simple one will be enough to showcase some similarities.\n",
    "\n",
    "Note: This approach biases the analysis towards structures with similar sequences. For an automated workflow (where we do not know the sequence or structural similarity of protein pairs) a solution could be to calculate the RMSD based on all three measures and retain the best for further analysis.\n",
    "\n",
    "First, we show the alignment of all structures to the first structure in the our list."
   ]
  },
  {
   "cell_type": "code",
   "execution_count": null,
   "metadata": {},
   "outputs": [],
   "source": [
    "# Download PDB \n",
    "structures = [Structure.from_pdbid(pdb_id) for pdb_id in pdb_ids]\n",
    "# Strip solvent and other artifacts of crystallography\n",
    "proteins = [Structure.from_atomgroup(s.select_atoms(\"protein\")) for s in structures]\n",
    "# Align proteins\n",
    "results = align(proteins, method=METHODS[\"mda\"])"
   ]
  },
  {
   "cell_type": "code",
   "execution_count": null,
   "metadata": {},
   "outputs": [],
   "source": [
    "view = nv.NGLWidget()\n",
    "for protein in proteins:\n",
    "    view.add_component(protein.atoms)\n",
    "view"
   ]
  },
  {
   "cell_type": "code",
   "execution_count": null,
   "metadata": {},
   "outputs": [],
   "source": [
    "view.render_image();"
   ]
  },
  {
   "cell_type": "code",
   "execution_count": null,
   "metadata": {},
   "outputs": [],
   "source": [
    "view._display_image()"
   ]
  },
  {
   "cell_type": "markdown",
   "metadata": {},
   "source": [
    "The structural alignment for many helices is high, whereas lower or poor for other protein parts."
   ]
  },
  {
   "cell_type": "code",
   "execution_count": null,
   "metadata": {},
   "outputs": [],
   "source": [
    "def calc_rmsd(A, B):\n",
    "    \"\"\"\n",
    "    Calculate RMSD between two structures.\n",
    "    \n",
    "    Parameters\n",
    "    ----------\n",
    "    A : opencadd.structure.core.Structure\n",
    "        Structure A.\n",
    "    B : opencadd.structure.core.Structure\n",
    "        Structure B.\n",
    "        \n",
    "    Returns\n",
    "    -------\n",
    "    float\n",
    "        RMSD value.\n",
    "    \"\"\"\n",
    "    aligner = MDAnalysisAligner()\n",
    "    selection, _ = aligner.matching_selection(A, B)\n",
    "    A = A.select_atoms(selection['reference'])\n",
    "    B = B.select_atoms(selection['mobile'])\n",
    "    return rms.rmsd(A.positions, B.positions, superposition=False)"
   ]
  },
  {
   "cell_type": "code",
   "execution_count": null,
   "metadata": {},
   "outputs": [],
   "source": [
    "def calc_rmsd_matrix(structures, names):\n",
    "    \"\"\"\n",
    "    Calculate RMSD matrix between a list of structures.\n",
    "    \n",
    "    Parameters\n",
    "    ----------\n",
    "    structures : list of opencadd.structure.core.Structure\n",
    "        List of structures.\n",
    "    names : list of str\n",
    "        List of structure names.\n",
    "        \n",
    "    Returns\n",
    "    -------\n",
    "    pandas.DataFrame\n",
    "        RMSD matrix.\n",
    "    \"\"\"\n",
    "    values = {name: {} for name in names}\n",
    "    for A, name_i in zip(structures, names):\n",
    "        for B, name_j, in zip(structures, names):\n",
    "            if name_i == name_j:\n",
    "                # If we compare the same structures, RMSD is 0.0 and continue with next iteration\n",
    "                values[name_i][name_j] = 0.0\n",
    "                continue\n",
    "            try:\n",
    "                # If we already have calculated the RMSD for the pair, reuse RMSD\n",
    "                values[name_i][name_j] = values[name_j][name_i] \n",
    "            except KeyError:\n",
    "                # If we have not, calculate RMSD\n",
    "                values[name_i][name_j] = calc_rmsd(A, B)\n",
    "    df = pd.DataFrame.from_dict(values)\n",
    "    return df"
   ]
  },
  {
   "cell_type": "markdown",
   "metadata": {},
   "source": [
    "### Get pairwise RMSD (full protein)"
   ]
  },
  {
   "cell_type": "code",
   "execution_count": null,
   "metadata": {},
   "outputs": [],
   "source": [
    "# TODO: CI\n",
    "rmsd_matrix = calc_rmsd_matrix(proteins, pdb_ids)\n",
    "rmsd_matrix"
   ]
  },
  {
   "cell_type": "markdown",
   "metadata": {},
   "source": [
    "We visualize the results of this RMSD refinement as heatmap."
   ]
  },
  {
   "cell_type": "code",
   "execution_count": null,
   "metadata": {},
   "outputs": [],
   "source": [
    "# Make sure matplotlib version >= 3.1.2; otherwise you'll get Y-cropped heatmaps\n",
    "sns.heatmap(rmsd_matrix, linewidths=0, annot=True, square=True, cbar_kws={\"label\": \"RMSD ($\\AA$)\"}, cmap=\"Blues\");"
   ]
  },
  {
   "cell_type": "markdown",
   "metadata": {},
   "source": [
    "We cluster the heatmap in order to see protein similarity based on the RMSD refinement."
   ]
  },
  {
   "cell_type": "code",
   "execution_count": null,
   "metadata": {},
   "outputs": [],
   "source": [
    "def plot_clustermap(rmsd):\n",
    "    \"\"\"\n",
    "    Plot clustered heatmap from import RMSD matrix.\n",
    "    \n",
    "    Parameters\n",
    "    ----------\n",
    "    rmsd : pandas.DataFrame\n",
    "        RMSD matrix.\n",
    "    title : str\n",
    "        Plot title.\n",
    "        \n",
    "    Returns\n",
    "    -------\n",
    "    matplotlib.figure.Figure\n",
    "        Clustered heatmap.\n",
    "    \"\"\"\n",
    "    g = sns.clustermap(rmsd, linewidths=1, annot=True, cbar_kws={\"label\": \"RMSD ($\\AA$)\"}, cmap=\"Blues\")\n",
    "    plt.setp(g.ax_heatmap.get_xticklabels(), rotation=0)\n",
    "    plt.setp(g.ax_heatmap.get_yticklabels(), rotation=0)\n",
    "    sns.set(font_scale=1.5)\n",
    "    return plt.gcf()"
   ]
  },
  {
   "cell_type": "code",
   "execution_count": null,
   "metadata": {},
   "outputs": [],
   "source": [
    "plot_clustermap(rmsd_matrix);"
   ]
  },
  {
   "cell_type": "markdown",
   "metadata": {},
   "source": [
    "The RMSD comparison shows that one protein differs most from the other proteins, i.e. 3FW1. Let's try to understand by checking which proteins we have in our dataset."
   ]
  },
  {
   "cell_type": "markdown",
   "metadata": {},
   "source": [
    "Proteins are classified by the chemical reactions that they catalyze with EC (Enzyme Commission) numbers. We will use them here to check the enzymatic groups the proteins belong to."
   ]
  },
  {
   "cell_type": "code",
   "execution_count": null,
   "metadata": {
    "scrolled": true
   },
   "outputs": [],
   "source": [
    "# Get EC numbers for PDB IDs from PDB\n",
    "pdbs_info = [pypdb.get_all_info(pdb_id) for pdb_id in pdb_ids]\n",
    "ec_numbers = [pdb_info[\"polymer\"][\"enzClass\"][\"@ec\"] for pdb_info in pdbs_info]\n",
    "ec_numbers = {\"pdb_id\": pdb_ids,  \"ec_number\": ec_numbers}\n",
    "ec_numbers = pd.DataFrame(ec_numbers)\n",
    "ec_numbers"
   ]
  },
  {
   "cell_type": "markdown",
   "metadata": {},
   "source": [
    "We can see that 3FW1, the human quinone reductase 2 (NQO2), belongs to EC class 1, i.e. oxidoreductases, whereas the other proteins belong to class 2.7, i.e. phosphorus transferases, which contain the tyrosine kinases (EC 2.7.10.2), the designated targets for Imatinib. 3FW1 is a reported off-target \"with potential implications for drug design and treatment of chronic myelogenous leukemia in patients\" ([<i>BMC Struct. Biol.</i> (2009), <b>9</b>](https://bmcstructbiol.biomedcentral.com/articles/10.1186/1472-6807-9-7))."
   ]
  },
  {
   "cell_type": "markdown",
   "metadata": {},
   "source": [
    "### Align PDB structures (binding sites)"
   ]
  },
  {
   "cell_type": "markdown",
   "metadata": {},
   "source": [
    "So far, we have used the full protein structure for the alignment and RMSD refinement. However, ligands bind only at a protein's binding site. \n",
    "Therefore, the similarity of binding sites is a more putative basis for off-target prediction rather than of the similarity of full protein structures. \n",
    "\n",
    "We define a binding site of a protein by selecting all residues that are within 10 &#8491; of any ligand atom. These binding site residues are used for alignment and only their C&#593; atoms (protein backbone) are used for the RMSD refinement. Here, we show the alignment of all structures to the first structure in our list.\n",
    "\n",
    "Note that for the aligner to work, full residues must be selected as part of the distance search, hence the need for the `same residue as (...)` query."
   ]
  },
  {
   "cell_type": "code",
   "execution_count": null,
   "metadata": {},
   "outputs": [],
   "source": [
    "binding_sites = [Structure.from_atomgroup(s.select_atoms(\"same residue as (resname STI or (around 10 resname STI))\")) \n",
    "                 for s in structures]"
   ]
  },
  {
   "cell_type": "markdown",
   "metadata": {},
   "source": [
    "Let's look at the proteins' binding sites only."
   ]
  },
  {
   "cell_type": "code",
   "execution_count": null,
   "metadata": {},
   "outputs": [],
   "source": [
    "view = nv.NGLWidget()\n",
    "for binding_site in binding_sites:\n",
    "    view.add_component(binding_site.atoms)\n",
    "view"
   ]
  },
  {
   "cell_type": "code",
   "execution_count": null,
   "metadata": {},
   "outputs": [],
   "source": [
    "view.render_image();"
   ]
  },
  {
   "cell_type": "code",
   "execution_count": null,
   "metadata": {},
   "outputs": [],
   "source": [
    "view._display_image()"
   ]
  },
  {
   "cell_type": "markdown",
   "metadata": {},
   "source": [
    "Now we align the binding sites."
   ]
  },
  {
   "cell_type": "code",
   "execution_count": null,
   "metadata": {},
   "outputs": [],
   "source": [
    "results_binding_sites = align(binding_sites, method=METHODS[\"mda\"])"
   ]
  },
  {
   "cell_type": "markdown",
   "metadata": {},
   "source": [
    "Let's visualize our aligned binding sites."
   ]
  },
  {
   "cell_type": "code",
   "execution_count": null,
   "metadata": {},
   "outputs": [],
   "source": [
    "view = nv.NGLWidget()\n",
    "for binding_site in binding_sites:\n",
    "    view.add_component(binding_site.atoms)\n",
    "view"
   ]
  },
  {
   "cell_type": "code",
   "execution_count": null,
   "metadata": {},
   "outputs": [],
   "source": [
    "view.render_image();"
   ]
  },
  {
   "cell_type": "code",
   "execution_count": null,
   "metadata": {},
   "outputs": [],
   "source": [
    "view._display_image()"
   ]
  },
  {
   "cell_type": "markdown",
   "metadata": {},
   "source": [
    "### Get pairwise RMSD (binding sites)"
   ]
  },
  {
   "cell_type": "code",
   "execution_count": null,
   "metadata": {},
   "outputs": [],
   "source": [
    "# TODO: CI\n",
    "rmsd_matrix_binding_sites = calc_rmsd_matrix(binding_sites, pdb_ids)\n",
    "rmsd_matrix_binding_sites"
   ]
  },
  {
   "cell_type": "markdown",
   "metadata": {},
   "source": [
    "We show the clustered heatmap for the RMSD results."
   ]
  },
  {
   "cell_type": "code",
   "execution_count": null,
   "metadata": {},
   "outputs": [],
   "source": [
    "# Show the pairwise RMSD values as clustered heatmap\n",
    "plot_clustermap(rmsd_matrix_binding_sites);"
   ]
  },
  {
   "cell_type": "markdown",
   "metadata": {},
   "source": [
    "What are the key observations in this heatmap?\n",
    "\n",
    "- As observed already during the *full protein* comparison, also the *binding site* comparison reveals the highest dissimilarity for `3FW1`. Since `3FW1` is the only structure in our dataset representing not a kinase, we are content that our similarity measure was able to spot this. As discussed before, the human quinone reductase 2 (`3FW1`) is a reported off-target for Imatinib.\n",
    "- Also the kinase `1XBB` shows a higher dissimilarity compared to the other kinases. This can be explained by `1XBB` being resolved in a different conformation (DFG-in) than the other kinases (DFG-out). The DFG motif is an important structural element in kinases, defining whether a kinase is active (DFG-in conformation) or inactive (DFG-out conformation). Note: DFG conformations of kinase structures can be looked up e.g. in the [KLIFS database](www.klifs.net).\n",
    "- The remaining structures are comparatively similar to each other, which we would expect since they all represent kinases in the overall same conformation.\n",
    "\n",
    "Note that RMSD values as calculated here are dependent on the residue selection (binding site definition) and the quality of the a priori sequence alignment."
   ]
  },
  {
   "cell_type": "markdown",
   "metadata": {},
   "source": [
    "### Filter out outliers\n",
    "\n",
    "For a cleaner depiction of the most similar structures, we can filter `3FW1` and `1XBB` out and re-run the binding site comparison."
   ]
  },
  {
   "cell_type": "code",
   "execution_count": null,
   "metadata": {},
   "outputs": [],
   "source": [
    "filtered_structures = []\n",
    "filtered_pdb_ids = []\n",
    "for name, structure in zip(pdb_ids, structures):\n",
    "    if name not in (\"3FW1\", \"1XBB\"):\n",
    "        filtered_structures.append(structure)\n",
    "        filtered_pdb_ids.append(name)"
   ]
  },
  {
   "cell_type": "code",
   "execution_count": null,
   "metadata": {},
   "outputs": [],
   "source": [
    "filtered_binding_sites = [Structure.from_atomgroup(s.select_atoms(\"same residue as (resname STI or (around 10 resname STI))\")) \n",
    "                          for s in filtered_structures]"
   ]
  },
  {
   "cell_type": "code",
   "execution_count": null,
   "metadata": {},
   "outputs": [],
   "source": [
    "view = nv.NGLWidget()\n",
    "for binding_site in filtered_binding_sites:\n",
    "    view.add_component(binding_site.atoms)\n",
    "view"
   ]
  },
  {
   "cell_type": "code",
   "execution_count": null,
   "metadata": {},
   "outputs": [],
   "source": [
    "view.render_image();"
   ]
  },
  {
   "cell_type": "code",
   "execution_count": null,
   "metadata": {},
   "outputs": [],
   "source": [
    "view._display_image()"
   ]
  },
  {
   "cell_type": "code",
   "execution_count": null,
   "metadata": {},
   "outputs": [],
   "source": [
    "filtered_results_binding_sites = align(filtered_binding_sites, method=METHODS[\"mda\"])"
   ]
  },
  {
   "cell_type": "code",
   "execution_count": null,
   "metadata": {},
   "outputs": [],
   "source": [
    "view = nv.NGLWidget()\n",
    "for binding_site in filtered_binding_sites:\n",
    "    view.add_component(binding_site.atoms)\n",
    "view"
   ]
  },
  {
   "cell_type": "code",
   "execution_count": null,
   "metadata": {},
   "outputs": [],
   "source": [
    "view.render_image();"
   ]
  },
  {
   "cell_type": "code",
   "execution_count": null,
   "metadata": {},
   "outputs": [],
   "source": [
    "view._display_image()"
   ]
  },
  {
   "cell_type": "code",
   "execution_count": null,
   "metadata": {},
   "outputs": [],
   "source": [
    "filtered_rmsd_matrix_bs = calc_rmsd_matrix(filtered_binding_sites, filtered_pdb_ids)\n",
    "filtered_rmsd_matrix_bs"
   ]
  },
  {
   "cell_type": "code",
   "execution_count": null,
   "metadata": {},
   "outputs": [],
   "source": [
    "plot_clustermap(filtered_rmsd_matrix_bs);"
   ]
  },
  {
   "cell_type": "markdown",
   "metadata": {},
   "source": [
    "Much better!"
   ]
  },
  {
   "cell_type": "markdown",
   "metadata": {},
   "source": [
    "## Discussion\n",
    "\n",
    "In this talktorial, we have used a simple comparison approach, i.e. sequence alignment and subsequent RMSD refinement of (i) full proteins and (ii) binding sites, to assess the similarity and dissimilarity of a small set of structures showing Imatinib-binding proteins. \n",
    "In our data set, we were able to spot an off-target for Imatinib (highest dissimilarity) and a kinase resolved in a different conformation compared to the rest of the kinases (also with a relatively high dissimilarity). \n",
    "Given our simple approach, we are content with these results!\n",
    "\n",
    "In a real case scenario, off-targets for Imatinib would be predicted by comparing the binding site of an intended target of Imatinib (a tyrosine kinase) with a large database of resolved structures (PDB). \n",
    "Since this results in the comparison of sequences also with low similarity, more sophisticated methods should be invoked\n",
    "that use a sequence-independent alignment algorithm and that include the physico-chemical properties of the binding site.\n",
    "\n",
    "## Quiz\n",
    "\n",
    "1. Explain the terms on- and off-targets of a drug.\n",
    "2. Explain why binding site similarity can be used to find off-targets based on a query target.\n",
    "3. Discuss how useful the RMSD value of (i) full proteins and (ii) protein binding sites is for off-target prediction.\n",
    "4. Think of alternate approaches to encode binding site information."
   ]
  }
 ],
 "metadata": {
  "kernelspec": {
   "display_name": "Python 3",
   "language": "python",
   "name": "python3"
  },
  "language_info": {
   "codemirror_mode": {
    "name": "ipython",
    "version": 3
   },
   "file_extension": ".py",
   "mimetype": "text/x-python",
   "name": "python",
   "nbconvert_exporter": "python",
   "pygments_lexer": "ipython3",
   "version": "3.8.5"
  },
  "toc-autonumbering": true
 },
 "nbformat": 4,
 "nbformat_minor": 4
}
