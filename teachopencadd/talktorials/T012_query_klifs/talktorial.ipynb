{
 "cells": [
  {
   "cell_type": "markdown",
   "metadata": {},
   "source": [
    "# T012 · Data acquisition from KLIFS\n",
    "\n",
    "Authors:\n",
    "\n",
    "- Jaime Rodríguez-Guerra, 2019-2020, [Volkamer lab, Charité](https://volkamerlab.org/)\n",
    "- Dominique Sydow, 2019-2020, [Volkamer lab, Charité](https://volkamerlab.org/)"
   ]
  },
  {
   "cell_type": "markdown",
   "metadata": {},
   "source": [
    "## Aim of this talktorial\n",
    "\n",
    "KLIFS is a database for kinase-ligand interaction fingerprints and structures. We show in this talktorial how to use the programmatic access of this database (KLIFS Swagger API) and the `opencadd` package to get kinase-ligand structures for a query kinase."
   ]
  },
  {
   "cell_type": "markdown",
   "metadata": {},
   "source": [
    "### Contents in *Theory*\n",
    "\n",
    "- Kinases\n",
    "- KLIFS database\n",
    "- KLIFS Swagger API\n",
    "- OpenCADD"
   ]
  },
  {
   "cell_type": "markdown",
   "metadata": {},
   "source": [
    "### Contents in *Practical*\n",
    "\n",
    "- Generate a KLIFS Python client\n",
    "- Define kinase and ligand of interest: EGFR and Gefitinib\n",
    "- Explore the KLIFS Swagger API\n",
    "- Get structures for a query kinase\n",
    "- Select an example structure\n",
    "- Show the structure with `nglview`\n",
    "- Show the ligand with `rdkit`"
   ]
  },
  {
   "cell_type": "markdown",
   "metadata": {},
   "source": [
    "### References\n",
    "\n",
    "* Kinase-centric computational drug development ([_Annu. Rep. Med. Chem._ (2017), __50__, 197-236](https://www.sciencedirect.com/science/article/pii/S0065774317300040?via%3Dihub))\n",
    "* KLIFS, a kinase-inhibitor interactions database.\n",
    "   * Main database/website reference ([_Nucleic Acids Res._ (2020)](https://academic.oup.com/nar/advance-article/doi/10.1093/nar/gkaa895/5934416))\n",
    "   * Introduction of the KLIFS website & database ([_Nucleic Acids Res._ (2016), __44__, 6, D365–D371](https://doi.org/10.1093/nar/gkv1082))\n",
    "   * Initial KLIFS dataset, binding mode classification, residue numbering ([_J. Med. Chem._ (2014), __57__, 2, 249-277](https://pubs.acs.org/doi/abs/10.1021/jm400378w))\n",
    "* NGLView, the interactive molecule visualizer ([_Bioinformatics_ (2018), __34__, 1241–124](https://doi.org/10.1093/bioinformatics/btx789))"
   ]
  },
  {
   "cell_type": "markdown",
   "metadata": {},
   "source": [
    "## Theory"
   ]
  },
  {
   "cell_type": "markdown",
   "metadata": {},
   "source": [
    "### Kinases\n",
    "\n",
    "Protein kinases are one the most important and well-studied drug targets, since they are critical to most aspects of cell life and their dysregulation causes many diseases such as cancer, inflammation, and autoimmune disorders.\n",
    "Since this protein class is so well-studied, the amount of available data is growing more and more, allowing and requiring infrastructures that organize, analyze, and provide this data to facilitate kinase-centric drug development ([_Annu. Rep. Med. Chem._ (2017), __50__, 197-236](https://www.sciencedirect.com/science/article/pii/S0065774317300040?via%3Dihub)). One of these rich resources is the KLIFS database, which will be used in this talktorial.\n",
    "\n",
    "TODO: There are 518 kinases encoded in the human genome, which were clustered based on their sequence into eight main kinase groups (AGC, CAMK, CK1, CMGC, STE, TK, TKL and Other). Each kinase group is further categorized into different kinase families. "
   ]
  },
  {
   "cell_type": "markdown",
   "metadata": {},
   "source": [
    "### KLIFS database\n",
    "\n",
    "The __K__inase-__L__igand __I__nteraction __F__ingerprints and __S__tructures database (KLIFS) is a database that provides information about the protein structure (collected from the PDB) of catalytic kinase domains and the interaction with their ligands. \n",
    "\n",
    "* Role: Kinase-ligand interaction profiles database\n",
    "* Website: http://klifs.net/\n",
    "* API: Yes, REST-based, Swagger-enabled. No official client. Use `bravado`.\n",
    "* Documentation: http://klifs.net/swagger/\n",
    "* Literature:\n",
    "   * Main database/website reference ([_Nucleic Acids Res._ (2020)](https://academic.oup.com/nar/advance-article/doi/10.1093/nar/gkaa895/5934416))\n",
    "   * Introduction of the KLIFS website & database ([_Nucleic Acids Res._ (2016), __44__, 6, D365–D371](https://doi.org/10.1093/nar/gkv1082))\n",
    "   * Initial KLIFS dataset, binding mode classification, residue numbering ([_J. Med. Chem._ (2014), __57__, 2, 249-277](https://pubs.acs.org/doi/abs/10.1021/jm400378w))\n",
    "    \n",
    "\n",
    "> Kinase-Ligand Interaction Fingerprints and Structures database (KLIFS), developed at the Division of Medicinal Chemistry - VU University Amsterdam, is a database that revolves around the protein structure of catalytic kinase domains and the way kinase inhibitors can interact with them. Based on the underlying systematic and consistent protocol all (currently human and mouse) kinase structures and the binding mode of kinase ligands can be directly compared to each other. Moreover, because of the classification of an all-encompassing binding site of 85 residues it is possible to compare the interaction patterns of kinase-inhibitors to each other to, for example, identify crucial interactions determining kinase-inhibitor selectivity."
   ]
  },
  {
   "cell_type": "markdown",
   "metadata": {},
   "source": [
    "### KLIFS Swagger API\n",
    "\n",
    "The KLIFS database offers standardized URL schemes (__REST API__) to programmatically access - from your computer - resources that live on the KLIFS server. You could literally paste such an URL into your browser (sending a __request__) and you would get back a result (receiving a __response__).\n",
    "\n",
    "Now, it would be possible to generate these URL schemes with your own little script or library (__client__), but it would _really_ be nicer if you would not need to deal with the technical details of how to set up such an URL. \n",
    "Luckily, there is a solution - some websites provide you with a document that defines these REST API schema for you (__Swagger definitions__). \n",
    "Luckily again, KLIFS is one of them! \n",
    "\n",
    "- Take a look at how such a document looks like in case of KLIFS (it's a json file): https://klifs.net/swagger/swagger.json \n",
    "- You can also explore the definitions interactively using Swaggers user interface (Swagger UI): http://klifs.net/swagger/\n",
    "\n",
    "We are getting closer. We know now that we can get KLIFS results using URLs and we know thanks to the KLIFS Swagger definitions how these URLs need to look like. \n",
    "What we are still missing is a nice Python program (client) that offers a simple API to send these requests and receive the responses - under the hood - for us.\n",
    "\n",
    "We are lucky once more. Libraries like `bravado` can be used to generate dynamically such a Python client based on Swagger definitions - for our webservice at hand here, `bravado` can be used to generate a KLIFS client based on the KLIFS Swagger definitions. This KLIFS client will offer many different methods to interact with the KLIFS webservice (as defined by the Swagger definitions). In the \"Practical\" section of this talktorial, we will revisit these steps!"
   ]
  },
  {
   "cell_type": "markdown",
   "metadata": {},
   "source": [
    "### `opencadd`\n",
    "\n",
    "`opencadd` is a Python library for structural cheminformatics developed by the Volkamber lab at the Charité in Berlin. \n",
    "This library is a growing collection of modules that help facilitate and standardize common tasks in structural bioinformatics and cheminformatics, e.g. a module for structural superimposition (`opencadd.structure.superpsition`) or KLIFS queries (`opencadd.databases.klifs`).\n",
    "\n",
    "- GitHub repository: https://github.com/volkamerlab/opencadd\n",
    "- Documentation: https://opencadd.readthedocs.io\n",
    "\n",
    "We will use the KLIFS-dedicated module in this talktorial. It offers a standardized API to work with KLIFS data locally (KLIFS download) or remotely (KLIFS Swagger API). Most query results are returned in the form of standardized `pandas` DataFrames for quick and easy data manipulation."
   ]
  },
  {
   "cell_type": "markdown",
   "metadata": {},
   "source": [
    "## Practical"
   ]
  },
  {
   "cell_type": "markdown",
   "metadata": {},
   "source": [
    "We can obtain curated protein structures from this database for a query kinase to extract ligand information for that kinase. \n",
    "This set of ligands could be used to retrieve similar ligands from other databases, like PubChem (__Talktorial T013__) or ChEMBL (__Talktorial T001+T004__).\n",
    "\n",
    "TODO: We will first show how to access the KLIFS database (a) using the KLIFS Swagger API and (b) using `opencadd`'s unofficial KLIFS client."
   ]
  },
  {
   "cell_type": "markdown",
   "metadata": {},
   "source": [
    "### Generate a KLIFS Python client\n",
    "\n",
    "First, we will generate a KLIFS Python client using the provided KLIFS Swagger definitions."
   ]
  },
  {
   "cell_type": "code",
   "execution_count": 1,
   "metadata": {},
   "outputs": [
    {
     "data": {
      "application/vnd.jupyter.widget-view+json": {
       "model_id": "00520624fde74e6991bb4f049e7a2b67",
       "version_major": 2,
       "version_minor": 0
      },
      "text/plain": []
     },
     "metadata": {},
     "output_type": "display_data"
    }
   ],
   "source": [
    "import random\n",
    "from tempfile import NamedTemporaryFile\n",
    "import time\n",
    "\n",
    "from bravado.client import SwaggerClient\n",
    "import pandas as pd\n",
    "import nglview as nv\n",
    "from rdkit import Chem\n",
    "from rdkit.Chem.Draw import (\n",
    "    IPythonConsole,\n",
    "    MolsToGridImage,\n",
    ")  # Needed to show molecules\n",
    "import opencadd\n",
    "\n",
    "pd.set_option('display.max_columns', 50)"
   ]
  },
  {
   "cell_type": "code",
   "execution_count": 2,
   "metadata": {},
   "outputs": [],
   "source": [
    "KLIFS_API_DEFINITIONS = \"https://klifs.net/swagger/swagger.json\"\n",
    "KLIFS_CLIENT = SwaggerClient.from_url(KLIFS_API_DEFINITIONS, config={\"validate_responses\": False})"
   ]
  },
  {
   "cell_type": "markdown",
   "metadata": {},
   "source": [
    "As with any Python library, you can access the KLIFS client's entry points when hitting the Tab key after \n",
    "\n",
    "```python\n",
    "KLIFS_CLIENT.\n",
    "```\n",
    "\n",
    "Available entry points are: \n",
    "\n",
    "- `KLIFS_CLIENT.Information`: Access to kinases (name, group, family, ...).\n",
    "- `KLIFS_CLIENT.Interactions`: Access to kinase-ligand interaction fingerprints.\n",
    "- `KLIFS_CLIENT.Ligands`: Access to kinase-bound ligands (name, SMILES, ...) and their measured bioactivity against kinases (ChEMBL data).\n",
    "- `KLIFS_CLIENT.Structures`: Access to kinase structures with and without ligands (including their KLIFS-processed PDB data)."
   ]
  },
  {
   "cell_type": "markdown",
   "metadata": {},
   "source": [
    "### Define kinase and ligand of interest: EGFR and Gefitinib"
   ]
  },
  {
   "cell_type": "markdown",
   "metadata": {},
   "source": [
    "Adapted from [the corresponding Wikipedia article](https://en.wikipedia.org/wiki/Epidermal_growth_factor_receptor):\n",
    "\n",
    ">The epidermal growth factor receptor (EGFR) is a member of the ErbB family of receptors, a subfamily of four closely related receptor tyrosine kinases: EGFR (ErbB-1), HER2/neu (ErbB-2), Her 3 (ErbB-3) and Her 4 (ErbB-4). In many cancer types, mutations affecting EGFR expression or activity could result in cancer.\n",
    ">\n",
    ">Deficient signaling of the EGFR and other receptor tyrosine kinases in humans is associated with diseases such as Alzheimer's, while over-expression is associated with the development of a wide variety of tumors. Interruption of EGFR signalling, either by blocking EGFR binding sites on the extracellular domain of the receptor or by inhibiting intracellular tyrosine kinase activity, can prevent the growth of EGFR-expressing tumours and improve the patient's condition.\n",
    "\n",
    "\n",
    "As a result, we are interested in finding potential inhibitors that can target members of the EGFR family. \n",
    "\n",
    "Gefitinib is an already approved EGFR inhibitor [PubChem](https://pubchem.ncbi.nlm.nih.gov/compound/Gefitinib) with the ligand Expo ID \"IRE\"."
   ]
  },
  {
   "cell_type": "code",
   "execution_count": 3,
   "metadata": {},
   "outputs": [],
   "source": [
    "species = \"Human\"\n",
    "kinase_group = \"TK\"\n",
    "kinase_family = \"EGFR\"\n",
    "kinase_name = \"EGFR\"\n",
    "ligand_expo_id = \"IRE\""
   ]
  },
  {
   "cell_type": "markdown",
   "metadata": {},
   "source": [
    "### Explore the KLIFS Swagger API\n",
    "\n",
    "Let's send a few requests to KLIFS to explore available data for our kinase and ligand of interest."
   ]
  },
  {
   "cell_type": "markdown",
   "metadata": {},
   "source": [
    "1. Let's check out the available __kinase groups__."
   ]
  },
  {
   "cell_type": "code",
   "execution_count": 4,
   "metadata": {},
   "outputs": [
    {
     "name": "stdout",
     "output_type": "stream",
     "text": [
      "All kinase groups:\n",
      " AGC CAMK CK1 CMGC Other STE TK TKL\n"
     ]
    }
   ],
   "source": [
    "kinase_groups = KLIFS_CLIENT.Information.get_kinase_groups().response().result\n",
    "print(\"All kinase groups:\\n\", *kinase_groups)"
   ]
  },
  {
   "cell_type": "markdown",
   "metadata": {},
   "source": [
    "2. Now let's look at our all available __kinase families__ for the kinase group of interest (`kinase_group`)."
   ]
  },
  {
   "cell_type": "code",
   "execution_count": 5,
   "metadata": {},
   "outputs": [
    {
     "name": "stdout",
     "output_type": "stream",
     "text": [
      "Kinase families in TK:\n",
      " ALK Abl Ack Alk Axl CCK4 Csk DDR EGFR Eph FAK FGFR Fer InsR JakA JakB Lmr Met Musk PDGFR Ret Ror Ryk Sev Src Syk TK-Unique Tec Tie Trk VEGFR\n"
     ]
    }
   ],
   "source": [
    "kinase_families = KLIFS_CLIENT.Information.get_kinase_families(kinase_group=kinase_group).response().result\n",
    "print(f\"Kinase families in {kinase_group}:\\n\", *kinase_families)"
   ]
  },
  {
   "cell_type": "markdown",
   "metadata": {},
   "source": [
    "3. The following __kinases__ belong to the kinase family of interest (`kinase_family`):"
   ]
  },
  {
   "cell_type": "code",
   "execution_count": 6,
   "metadata": {},
   "outputs": [
    {
     "data": {
      "text/plain": [
       "[IDlist(full_name='epidermal growth factor receptor', kinase_ID=406, name='EGFR', species='Human'),\n",
       " IDlist(full_name='erb-b2 receptor tyrosine kinase 2', kinase_ID=407, name='ERBB2', species='Human'),\n",
       " IDlist(full_name='erb-b2 receptor tyrosine kinase 3', kinase_ID=408, name='ERBB3', species='Human'),\n",
       " IDlist(full_name='erb-b2 receptor tyrosine kinase 4', kinase_ID=409, name='ERBB4', species='Human')]"
      ]
     },
     "execution_count": 6,
     "metadata": {},
     "output_type": "execute_result"
    }
   ],
   "source": [
    "kinases = KLIFS_CLIENT.Information.get_kinase_names(kinase_family=kinase_family, species=species).response().result\n",
    "kinases"
   ]
  },
  {
   "cell_type": "markdown",
   "metadata": {},
   "source": [
    "4. For this notebook we are interested in the kinase `kinase_name`. \n",
    "Let extract the KLIFS ID for this kinase, which we will use to query for structures in KLIFS."
   ]
  },
  {
   "cell_type": "code",
   "execution_count": 7,
   "metadata": {},
   "outputs": [
    {
     "name": "stdout",
     "output_type": "stream",
     "text": [
      "Kinase KLIFS ID for EGFR: 406\n"
     ]
    }
   ],
   "source": [
    "kinase_klifs_id = [kinase[\"kinase_ID\"] for kinase in kinases if kinase[\"name\"]==kinase_name][0]\n",
    "print(f\"Kinase KLIFS ID for {kinase_name}: {kinase_klifs_id}\")"
   ]
  },
  {
   "cell_type": "markdown",
   "metadata": {},
   "source": [
    "5. Get all available structures in KLIFS for this kinase."
   ]
  },
  {
   "cell_type": "code",
   "execution_count": 8,
   "metadata": {},
   "outputs": [
    {
     "name": "stdout",
     "output_type": "stream",
     "text": [
      "Number of structures for the kinase EGFR: 425\n"
     ]
    }
   ],
   "source": [
    "structures = KLIFS_CLIENT.Structures.get_structures_list(kinase_ID=[kinase_klifs_id]).response().result\n",
    "print(f\"Number of structures for the kinase {kinase_name}: {len(structures)}\")"
   ]
  },
  {
   "cell_type": "markdown",
   "metadata": {},
   "source": [
    "Look at the first structure as an example. We get information about the kinases that the structure represents, about the bound ligand (if any) and about the structure quality and conformation."
   ]
  },
  {
   "cell_type": "code",
   "execution_count": 9,
   "metadata": {},
   "outputs": [
    {
     "data": {
      "text/plain": [
       "structureDetails(DFG='in', Grich_angle=48.1597, Grich_distance=14.8202, Grich_rotation=43.046, aC_helix='out', allosteric_ligand=0, alt='A', back=True, bp_III=False, bp_II_A_in=True, bp_II_B=False, bp_II_B_in=False, bp_II_in=True, bp_II_out=False, bp_IV=False, bp_I_A=True, bp_I_B=True, bp_V=False, chain='A', fp_I=False, fp_II=False, front=True, gate=True, kinase='EGFR', kinase_ID=406, ligand='W19', missing_atoms=0, missing_residues=0, pdb='3w33', pocket='KVLGSGAFGTVYKVAIKELEILDEAYVMASVDPHVCRLLGIQLITQLMPFGCLLDYVREYLEDRRLVHRDLAARNVLVITDFGLA', quality_score=8.0, resolution=1.7, rmsd1=0.814, rmsd2=2.153, species='Human', structure_ID=782)"
      ]
     },
     "execution_count": 9,
     "metadata": {},
     "output_type": "execute_result"
    }
   ],
   "source": [
    "structures[0]"
   ]
  },
  {
   "cell_type": "markdown",
   "metadata": {},
   "source": [
    "6. Get the structural data for this first structure in the form of a string that contains the file content for the kinase-ligand complex. Show only the first 10 file rows."
   ]
  },
  {
   "cell_type": "code",
   "execution_count": 10,
   "metadata": {},
   "outputs": [
    {
     "data": {
      "text/plain": [
       "['HEADER    3w33.A                                                      ',\n",
       " 'REMARK  99                                                                      ',\n",
       " 'REMARK  99 MOE v2012.10 (Chemical Computing Group Inc.) Fri Mar  3 16:17:14 2017',\n",
       " 'HELIX    1   1 GLU A  709  GLU A  711  5               Generated by MOE    3',\n",
       " 'HELIX    2   2 ASN A  756  SER A  768  1               Generated by MOE   13',\n",
       " 'HELIX    3   3 LEU A  798  HIS A  805  1               Generated by MOE    8',\n",
       " 'HELIX    4   4 LYS A  806  ASN A  808  5               Generated by MOE    3',\n",
       " 'HELIX    5   5 SER A  811  ASP A  830  1               Generated by MOE   20',\n",
       " 'HELIX    6   6 ALA A  840  ASN A  842  5               Generated by MOE    3',\n",
       " 'HELIX    7   7 LEU A  858  LEU A  861  1               Generated by MOE    4']"
      ]
     },
     "execution_count": 10,
     "metadata": {},
     "output_type": "execute_result"
    }
   ],
   "source": [
    "complex_coordinates = KLIFS_CLIENT.Structures.get_structure_get_pdb_complex(structure_ID=structures[0].structure_ID).response().result\n",
    "complex_coordinates.split('\\n')[:10]"
   ]
  },
  {
   "cell_type": "markdown",
   "metadata": {},
   "source": [
    "### Get structures for a query kinase"
   ]
  },
  {
   "cell_type": "markdown",
   "metadata": {},
   "source": [
    "After introducing the KLIFS Swagger API above, we will use now the `opencadd.databases.klifs` module, which is a wrapper for this KLIFS client. \n",
    "As mentioned in the _Theory_ section of this talktorial, this module returns all responses as `pandas` DataFrames for easy and quick manipulation.\n",
    "This comes in handy when we want to quickly inspect and filter the structure results."
   ]
  },
  {
   "cell_type": "code",
   "execution_count": 11,
   "metadata": {},
   "outputs": [
    {
     "name": "stderr",
     "output_type": "stream",
     "text": [
      "INFO:opencadd.databases.klifs.api:Set up remote session...\n",
      "INFO:opencadd.databases.klifs.api:Remote session is ready!\n"
     ]
    }
   ],
   "source": [
    "from opencadd.databases.klifs import setup_remote\n",
    "session = setup_remote()"
   ]
  },
  {
   "cell_type": "code",
   "execution_count": 12,
   "metadata": {},
   "outputs": [
    {
     "name": "stdout",
     "output_type": "stream",
     "text": [
      "Number of structures for the kinase EGFR: 425\n"
     ]
    }
   ],
   "source": [
    "structures = session.structures.by_kinase_klifs_id(kinase_klifs_id)\n",
    "print(f\"Number of structures for the kinase {kinase_name}: {len(structures)}\")"
   ]
  },
  {
   "cell_type": "markdown",
   "metadata": {},
   "source": [
    "### Select an example structure"
   ]
  },
  {
   "cell_type": "markdown",
   "metadata": {},
   "source": [
    "Keep only structures bound by a ligand of interest (`ligand_expo_id`), sort them by highest resolution and keep show the top 10 structures."
   ]
  },
  {
   "cell_type": "code",
   "execution_count": 13,
   "metadata": {},
   "outputs": [
    {
     "data": {
      "text/html": [
       "<div>\n",
       "<style scoped>\n",
       "    .dataframe tbody tr th:only-of-type {\n",
       "        vertical-align: middle;\n",
       "    }\n",
       "\n",
       "    .dataframe tbody tr th {\n",
       "        vertical-align: top;\n",
       "    }\n",
       "\n",
       "    .dataframe thead th {\n",
       "        text-align: right;\n",
       "    }\n",
       "</style>\n",
       "<table border=\"1\" class=\"dataframe\">\n",
       "  <thead>\n",
       "    <tr style=\"text-align: right;\">\n",
       "      <th></th>\n",
       "      <th>structure.klifs_id</th>\n",
       "      <th>structure.pdb_id</th>\n",
       "      <th>structure.alternate_model</th>\n",
       "      <th>structure.chain</th>\n",
       "      <th>species.klifs</th>\n",
       "      <th>kinase.klifs_id</th>\n",
       "      <th>kinase.klifs_name</th>\n",
       "      <th>kinase.family</th>\n",
       "      <th>kinase.group</th>\n",
       "      <th>structure.pocket</th>\n",
       "      <th>ligand.expo_id</th>\n",
       "      <th>ligand_allosteric.expo_id</th>\n",
       "      <th>ligand.name</th>\n",
       "      <th>ligand_allosteric.name</th>\n",
       "      <th>structure.dfg</th>\n",
       "      <th>structure.ac_helix</th>\n",
       "      <th>structure.resolution</th>\n",
       "      <th>structure.qualityscore</th>\n",
       "      <th>structure.missing_residues</th>\n",
       "      <th>structure.missing_atoms</th>\n",
       "      <th>structure.rmsd1</th>\n",
       "      <th>structure.rmsd2</th>\n",
       "      <th>structure.front</th>\n",
       "      <th>structure.gate</th>\n",
       "      <th>structure.back</th>\n",
       "      <th>structure.fp_i</th>\n",
       "      <th>structure.fp_ii</th>\n",
       "      <th>structure.bp_i_a</th>\n",
       "      <th>structure.bp_i_b</th>\n",
       "      <th>structure.bp_ii_in</th>\n",
       "      <th>structure.bp_ii_a_in</th>\n",
       "      <th>structure.bp_ii_b_in</th>\n",
       "      <th>structure.bp_ii_out</th>\n",
       "      <th>structure.bp_ii_b</th>\n",
       "      <th>structure.bp_iii</th>\n",
       "      <th>structure.bp_iv</th>\n",
       "      <th>structure.bp_v</th>\n",
       "      <th>structure.grich_distance</th>\n",
       "      <th>structure.grich_angle</th>\n",
       "      <th>structure.grich_rotation</th>\n",
       "      <th>structure.filepath</th>\n",
       "    </tr>\n",
       "  </thead>\n",
       "  <tbody>\n",
       "    <tr>\n",
       "      <th>42</th>\n",
       "      <td>823</td>\n",
       "      <td>4i22</td>\n",
       "      <td>-</td>\n",
       "      <td>A</td>\n",
       "      <td>Human</td>\n",
       "      <td>406</td>\n",
       "      <td>EGFR</td>\n",
       "      <td>None</td>\n",
       "      <td>None</td>\n",
       "      <td>KVLGSGAFGTVYKVAIKELEILDEAYVMASVDPHVCRLLGIQLIMQ...</td>\n",
       "      <td>IRE</td>\n",
       "      <td>-</td>\n",
       "      <td>None</td>\n",
       "      <td>None</td>\n",
       "      <td>in</td>\n",
       "      <td>out</td>\n",
       "      <td>1.71</td>\n",
       "      <td>8.0</td>\n",
       "      <td>0</td>\n",
       "      <td>0</td>\n",
       "      <td>0.810</td>\n",
       "      <td>2.159</td>\n",
       "      <td>True</td>\n",
       "      <td>True</td>\n",
       "      <td>False</td>\n",
       "      <td>False</td>\n",
       "      <td>False</td>\n",
       "      <td>True</td>\n",
       "      <td>True</td>\n",
       "      <td>False</td>\n",
       "      <td>False</td>\n",
       "      <td>False</td>\n",
       "      <td>False</td>\n",
       "      <td>False</td>\n",
       "      <td>False</td>\n",
       "      <td>False</td>\n",
       "      <td>False</td>\n",
       "      <td>14.6390</td>\n",
       "      <td>47.5394</td>\n",
       "      <td>47.9735</td>\n",
       "      <td>None</td>\n",
       "    </tr>\n",
       "    <tr>\n",
       "      <th>47</th>\n",
       "      <td>837</td>\n",
       "      <td>4wkq</td>\n",
       "      <td>B</td>\n",
       "      <td>A</td>\n",
       "      <td>Human</td>\n",
       "      <td>406</td>\n",
       "      <td>EGFR</td>\n",
       "      <td>None</td>\n",
       "      <td>None</td>\n",
       "      <td>KVLGSG___TVYKVAIKE_EILDEAYVMASVDPHVCRLLGIQLITQ...</td>\n",
       "      <td>IRE</td>\n",
       "      <td>-</td>\n",
       "      <td>None</td>\n",
       "      <td>None</td>\n",
       "      <td>in</td>\n",
       "      <td>in</td>\n",
       "      <td>1.85</td>\n",
       "      <td>6.7</td>\n",
       "      <td>5</td>\n",
       "      <td>13</td>\n",
       "      <td>0.776</td>\n",
       "      <td>1.995</td>\n",
       "      <td>True</td>\n",
       "      <td>True</td>\n",
       "      <td>False</td>\n",
       "      <td>False</td>\n",
       "      <td>False</td>\n",
       "      <td>True</td>\n",
       "      <td>True</td>\n",
       "      <td>False</td>\n",
       "      <td>False</td>\n",
       "      <td>False</td>\n",
       "      <td>False</td>\n",
       "      <td>False</td>\n",
       "      <td>False</td>\n",
       "      <td>False</td>\n",
       "      <td>False</td>\n",
       "      <td>0.0000</td>\n",
       "      <td>0.0000</td>\n",
       "      <td>0.0000</td>\n",
       "      <td>None</td>\n",
       "    </tr>\n",
       "    <tr>\n",
       "      <th>93</th>\n",
       "      <td>889</td>\n",
       "      <td>4wkq</td>\n",
       "      <td>A</td>\n",
       "      <td>A</td>\n",
       "      <td>Human</td>\n",
       "      <td>406</td>\n",
       "      <td>EGFR</td>\n",
       "      <td>None</td>\n",
       "      <td>None</td>\n",
       "      <td>KVLGSG___TVYKVAIKE_EILDEAYVMASVDPHVCRLLGIQLITQ...</td>\n",
       "      <td>IRE</td>\n",
       "      <td>-</td>\n",
       "      <td>None</td>\n",
       "      <td>None</td>\n",
       "      <td>in</td>\n",
       "      <td>in</td>\n",
       "      <td>1.85</td>\n",
       "      <td>6.7</td>\n",
       "      <td>5</td>\n",
       "      <td>13</td>\n",
       "      <td>0.776</td>\n",
       "      <td>1.995</td>\n",
       "      <td>True</td>\n",
       "      <td>True</td>\n",
       "      <td>False</td>\n",
       "      <td>False</td>\n",
       "      <td>False</td>\n",
       "      <td>True</td>\n",
       "      <td>True</td>\n",
       "      <td>False</td>\n",
       "      <td>False</td>\n",
       "      <td>False</td>\n",
       "      <td>False</td>\n",
       "      <td>False</td>\n",
       "      <td>False</td>\n",
       "      <td>False</td>\n",
       "      <td>False</td>\n",
       "      <td>0.0000</td>\n",
       "      <td>0.0000</td>\n",
       "      <td>0.0000</td>\n",
       "      <td>None</td>\n",
       "    </tr>\n",
       "    <tr>\n",
       "      <th>23</th>\n",
       "      <td>819</td>\n",
       "      <td>3ug2</td>\n",
       "      <td>B</td>\n",
       "      <td>A</td>\n",
       "      <td>Human</td>\n",
       "      <td>406</td>\n",
       "      <td>EGFR</td>\n",
       "      <td>None</td>\n",
       "      <td>None</td>\n",
       "      <td>KVLSSG___TVYKVAIKE_EILDEAYVMASVDPHVCRLLGIQLIMQ...</td>\n",
       "      <td>IRE</td>\n",
       "      <td>-</td>\n",
       "      <td>None</td>\n",
       "      <td>None</td>\n",
       "      <td>in</td>\n",
       "      <td>in</td>\n",
       "      <td>2.50</td>\n",
       "      <td>7.6</td>\n",
       "      <td>4</td>\n",
       "      <td>8</td>\n",
       "      <td>0.778</td>\n",
       "      <td>2.014</td>\n",
       "      <td>True</td>\n",
       "      <td>True</td>\n",
       "      <td>True</td>\n",
       "      <td>False</td>\n",
       "      <td>False</td>\n",
       "      <td>True</td>\n",
       "      <td>True</td>\n",
       "      <td>False</td>\n",
       "      <td>False</td>\n",
       "      <td>False</td>\n",
       "      <td>False</td>\n",
       "      <td>False</td>\n",
       "      <td>False</td>\n",
       "      <td>False</td>\n",
       "      <td>False</td>\n",
       "      <td>0.0000</td>\n",
       "      <td>0.0000</td>\n",
       "      <td>0.0000</td>\n",
       "      <td>None</td>\n",
       "    </tr>\n",
       "    <tr>\n",
       "      <th>98</th>\n",
       "      <td>898</td>\n",
       "      <td>3ug2</td>\n",
       "      <td>A</td>\n",
       "      <td>A</td>\n",
       "      <td>Human</td>\n",
       "      <td>406</td>\n",
       "      <td>EGFR</td>\n",
       "      <td>None</td>\n",
       "      <td>None</td>\n",
       "      <td>KVLSSG___TVYKVAIKE_EILDEAYVMASVDPHVCRLLGIQLIMQ...</td>\n",
       "      <td>IRE</td>\n",
       "      <td>-</td>\n",
       "      <td>None</td>\n",
       "      <td>None</td>\n",
       "      <td>in</td>\n",
       "      <td>in</td>\n",
       "      <td>2.50</td>\n",
       "      <td>7.6</td>\n",
       "      <td>4</td>\n",
       "      <td>8</td>\n",
       "      <td>0.778</td>\n",
       "      <td>2.014</td>\n",
       "      <td>True</td>\n",
       "      <td>True</td>\n",
       "      <td>True</td>\n",
       "      <td>False</td>\n",
       "      <td>False</td>\n",
       "      <td>True</td>\n",
       "      <td>True</td>\n",
       "      <td>False</td>\n",
       "      <td>False</td>\n",
       "      <td>False</td>\n",
       "      <td>False</td>\n",
       "      <td>False</td>\n",
       "      <td>False</td>\n",
       "      <td>False</td>\n",
       "      <td>False</td>\n",
       "      <td>0.0000</td>\n",
       "      <td>0.0000</td>\n",
       "      <td>0.0000</td>\n",
       "      <td>None</td>\n",
       "    </tr>\n",
       "    <tr>\n",
       "      <th>18</th>\n",
       "      <td>789</td>\n",
       "      <td>2itz</td>\n",
       "      <td>-</td>\n",
       "      <td>A</td>\n",
       "      <td>Human</td>\n",
       "      <td>406</td>\n",
       "      <td>EGFR</td>\n",
       "      <td>None</td>\n",
       "      <td>None</td>\n",
       "      <td>KVLGSGAFGTVYKVAIKELEILDEAYVMASVDPHVCRLLGIQLITQ...</td>\n",
       "      <td>IRE</td>\n",
       "      <td>-</td>\n",
       "      <td>None</td>\n",
       "      <td>None</td>\n",
       "      <td>in</td>\n",
       "      <td>in</td>\n",
       "      <td>2.72</td>\n",
       "      <td>9.4</td>\n",
       "      <td>0</td>\n",
       "      <td>6</td>\n",
       "      <td>0.776</td>\n",
       "      <td>2.097</td>\n",
       "      <td>True</td>\n",
       "      <td>True</td>\n",
       "      <td>False</td>\n",
       "      <td>False</td>\n",
       "      <td>False</td>\n",
       "      <td>True</td>\n",
       "      <td>True</td>\n",
       "      <td>False</td>\n",
       "      <td>False</td>\n",
       "      <td>False</td>\n",
       "      <td>False</td>\n",
       "      <td>False</td>\n",
       "      <td>False</td>\n",
       "      <td>False</td>\n",
       "      <td>False</td>\n",
       "      <td>18.0567</td>\n",
       "      <td>58.1317</td>\n",
       "      <td>30.0730</td>\n",
       "      <td>None</td>\n",
       "    </tr>\n",
       "    <tr>\n",
       "      <th>2</th>\n",
       "      <td>783</td>\n",
       "      <td>2ito</td>\n",
       "      <td>-</td>\n",
       "      <td>A</td>\n",
       "      <td>Human</td>\n",
       "      <td>406</td>\n",
       "      <td>EGFR</td>\n",
       "      <td>None</td>\n",
       "      <td>None</td>\n",
       "      <td>KVLSSGAFGTVYKVAIKELEILDEAYVMASVDPHVCRLLGIQLITQ...</td>\n",
       "      <td>IRE</td>\n",
       "      <td>-</td>\n",
       "      <td>None</td>\n",
       "      <td>None</td>\n",
       "      <td>in</td>\n",
       "      <td>in</td>\n",
       "      <td>3.25</td>\n",
       "      <td>8.0</td>\n",
       "      <td>0</td>\n",
       "      <td>0</td>\n",
       "      <td>0.778</td>\n",
       "      <td>2.096</td>\n",
       "      <td>True</td>\n",
       "      <td>True</td>\n",
       "      <td>False</td>\n",
       "      <td>False</td>\n",
       "      <td>False</td>\n",
       "      <td>True</td>\n",
       "      <td>True</td>\n",
       "      <td>False</td>\n",
       "      <td>False</td>\n",
       "      <td>False</td>\n",
       "      <td>False</td>\n",
       "      <td>False</td>\n",
       "      <td>False</td>\n",
       "      <td>False</td>\n",
       "      <td>False</td>\n",
       "      <td>19.7766</td>\n",
       "      <td>63.3167</td>\n",
       "      <td>23.7491</td>\n",
       "      <td>None</td>\n",
       "    </tr>\n",
       "    <tr>\n",
       "      <th>20</th>\n",
       "      <td>790</td>\n",
       "      <td>2ity</td>\n",
       "      <td>-</td>\n",
       "      <td>A</td>\n",
       "      <td>Human</td>\n",
       "      <td>406</td>\n",
       "      <td>EGFR</td>\n",
       "      <td>None</td>\n",
       "      <td>None</td>\n",
       "      <td>KVLGSGAFGTVYKVAIKELEILDEAYVMASVDPHVCRLLGIQLITQ...</td>\n",
       "      <td>IRE</td>\n",
       "      <td>-</td>\n",
       "      <td>None</td>\n",
       "      <td>None</td>\n",
       "      <td>in</td>\n",
       "      <td>in</td>\n",
       "      <td>3.42</td>\n",
       "      <td>8.0</td>\n",
       "      <td>0</td>\n",
       "      <td>0</td>\n",
       "      <td>0.778</td>\n",
       "      <td>2.103</td>\n",
       "      <td>True</td>\n",
       "      <td>True</td>\n",
       "      <td>False</td>\n",
       "      <td>False</td>\n",
       "      <td>False</td>\n",
       "      <td>True</td>\n",
       "      <td>True</td>\n",
       "      <td>False</td>\n",
       "      <td>False</td>\n",
       "      <td>False</td>\n",
       "      <td>False</td>\n",
       "      <td>False</td>\n",
       "      <td>False</td>\n",
       "      <td>False</td>\n",
       "      <td>False</td>\n",
       "      <td>19.5474</td>\n",
       "      <td>62.9767</td>\n",
       "      <td>21.9343</td>\n",
       "      <td>None</td>\n",
       "    </tr>\n",
       "  </tbody>\n",
       "</table>\n",
       "</div>"
      ],
      "text/plain": [
       "    structure.klifs_id structure.pdb_id structure.alternate_model  \\\n",
       "42                 823             4i22                         -   \n",
       "47                 837             4wkq                         B   \n",
       "93                 889             4wkq                         A   \n",
       "23                 819             3ug2                         B   \n",
       "98                 898             3ug2                         A   \n",
       "18                 789             2itz                         -   \n",
       "2                  783             2ito                         -   \n",
       "20                 790             2ity                         -   \n",
       "\n",
       "   structure.chain species.klifs  kinase.klifs_id kinase.klifs_name  \\\n",
       "42               A         Human              406              EGFR   \n",
       "47               A         Human              406              EGFR   \n",
       "93               A         Human              406              EGFR   \n",
       "23               A         Human              406              EGFR   \n",
       "98               A         Human              406              EGFR   \n",
       "18               A         Human              406              EGFR   \n",
       "2                A         Human              406              EGFR   \n",
       "20               A         Human              406              EGFR   \n",
       "\n",
       "   kinase.family kinase.group  \\\n",
       "42          None         None   \n",
       "47          None         None   \n",
       "93          None         None   \n",
       "23          None         None   \n",
       "98          None         None   \n",
       "18          None         None   \n",
       "2           None         None   \n",
       "20          None         None   \n",
       "\n",
       "                                     structure.pocket ligand.expo_id  \\\n",
       "42  KVLGSGAFGTVYKVAIKELEILDEAYVMASVDPHVCRLLGIQLIMQ...            IRE   \n",
       "47  KVLGSG___TVYKVAIKE_EILDEAYVMASVDPHVCRLLGIQLITQ...            IRE   \n",
       "93  KVLGSG___TVYKVAIKE_EILDEAYVMASVDPHVCRLLGIQLITQ...            IRE   \n",
       "23  KVLSSG___TVYKVAIKE_EILDEAYVMASVDPHVCRLLGIQLIMQ...            IRE   \n",
       "98  KVLSSG___TVYKVAIKE_EILDEAYVMASVDPHVCRLLGIQLIMQ...            IRE   \n",
       "18  KVLGSGAFGTVYKVAIKELEILDEAYVMASVDPHVCRLLGIQLITQ...            IRE   \n",
       "2   KVLSSGAFGTVYKVAIKELEILDEAYVMASVDPHVCRLLGIQLITQ...            IRE   \n",
       "20  KVLGSGAFGTVYKVAIKELEILDEAYVMASVDPHVCRLLGIQLITQ...            IRE   \n",
       "\n",
       "   ligand_allosteric.expo_id ligand.name ligand_allosteric.name structure.dfg  \\\n",
       "42                         -        None                   None            in   \n",
       "47                         -        None                   None            in   \n",
       "93                         -        None                   None            in   \n",
       "23                         -        None                   None            in   \n",
       "98                         -        None                   None            in   \n",
       "18                         -        None                   None            in   \n",
       "2                          -        None                   None            in   \n",
       "20                         -        None                   None            in   \n",
       "\n",
       "   structure.ac_helix  structure.resolution  structure.qualityscore  \\\n",
       "42                out                  1.71                     8.0   \n",
       "47                 in                  1.85                     6.7   \n",
       "93                 in                  1.85                     6.7   \n",
       "23                 in                  2.50                     7.6   \n",
       "98                 in                  2.50                     7.6   \n",
       "18                 in                  2.72                     9.4   \n",
       "2                  in                  3.25                     8.0   \n",
       "20                 in                  3.42                     8.0   \n",
       "\n",
       "    structure.missing_residues  structure.missing_atoms  structure.rmsd1  \\\n",
       "42                           0                        0            0.810   \n",
       "47                           5                       13            0.776   \n",
       "93                           5                       13            0.776   \n",
       "23                           4                        8            0.778   \n",
       "98                           4                        8            0.778   \n",
       "18                           0                        6            0.776   \n",
       "2                            0                        0            0.778   \n",
       "20                           0                        0            0.778   \n",
       "\n",
       "    structure.rmsd2  structure.front  structure.gate  structure.back  \\\n",
       "42            2.159             True            True           False   \n",
       "47            1.995             True            True           False   \n",
       "93            1.995             True            True           False   \n",
       "23            2.014             True            True            True   \n",
       "98            2.014             True            True            True   \n",
       "18            2.097             True            True           False   \n",
       "2             2.096             True            True           False   \n",
       "20            2.103             True            True           False   \n",
       "\n",
       "    structure.fp_i  structure.fp_ii  structure.bp_i_a  structure.bp_i_b  \\\n",
       "42           False            False              True              True   \n",
       "47           False            False              True              True   \n",
       "93           False            False              True              True   \n",
       "23           False            False              True              True   \n",
       "98           False            False              True              True   \n",
       "18           False            False              True              True   \n",
       "2            False            False              True              True   \n",
       "20           False            False              True              True   \n",
       "\n",
       "    structure.bp_ii_in  structure.bp_ii_a_in  structure.bp_ii_b_in  \\\n",
       "42               False                 False                 False   \n",
       "47               False                 False                 False   \n",
       "93               False                 False                 False   \n",
       "23               False                 False                 False   \n",
       "98               False                 False                 False   \n",
       "18               False                 False                 False   \n",
       "2                False                 False                 False   \n",
       "20               False                 False                 False   \n",
       "\n",
       "    structure.bp_ii_out  structure.bp_ii_b  structure.bp_iii  structure.bp_iv  \\\n",
       "42                False              False             False            False   \n",
       "47                False              False             False            False   \n",
       "93                False              False             False            False   \n",
       "23                False              False             False            False   \n",
       "98                False              False             False            False   \n",
       "18                False              False             False            False   \n",
       "2                 False              False             False            False   \n",
       "20                False              False             False            False   \n",
       "\n",
       "    structure.bp_v  structure.grich_distance  structure.grich_angle  \\\n",
       "42           False                   14.6390                47.5394   \n",
       "47           False                    0.0000                 0.0000   \n",
       "93           False                    0.0000                 0.0000   \n",
       "23           False                    0.0000                 0.0000   \n",
       "98           False                    0.0000                 0.0000   \n",
       "18           False                   18.0567                58.1317   \n",
       "2            False                   19.7766                63.3167   \n",
       "20           False                   19.5474                62.9767   \n",
       "\n",
       "    structure.grich_rotation structure.filepath  \n",
       "42                   47.9735               None  \n",
       "47                    0.0000               None  \n",
       "93                    0.0000               None  \n",
       "23                    0.0000               None  \n",
       "98                    0.0000               None  \n",
       "18                   30.0730               None  \n",
       "2                    23.7491               None  \n",
       "20                   21.9343               None  "
      ]
     },
     "execution_count": 13,
     "metadata": {},
     "output_type": "execute_result"
    }
   ],
   "source": [
    "structures[(structures[\"ligand.expo_id\"] == ligand_expo_id)].sort_values(by=\"structure.resolution\").head(10)"
   ]
  },
  {
   "cell_type": "code",
   "execution_count": 14,
   "metadata": {},
   "outputs": [
    {
     "name": "stdout",
     "output_type": "stream",
     "text": [
      "Structure KLIFS ID for best resolved IRE-bound EGFR: 823\n"
     ]
    }
   ],
   "source": [
    "structure_klifs_id = structures[(structures[\"ligand.expo_id\"] == ligand_expo_id)].sort_values(by=\"structure.resolution\").iloc[0][\"structure.klifs_id\"]\n",
    "print(f\"Structure KLIFS ID for best resolved {ligand_expo_id}-bound {kinase_name}: {structure_klifs_id}\")"
   ]
  },
  {
   "cell_type": "markdown",
   "metadata": {},
   "source": [
    "### Show the structure with `nglview`"
   ]
  },
  {
   "cell_type": "markdown",
   "metadata": {},
   "source": [
    "Let's preview the protein-ligand complex and protein with `nglview`."
   ]
  },
  {
   "cell_type": "code",
   "execution_count": 15,
   "metadata": {},
   "outputs": [],
   "source": [
    "def show_molecule(structure_text, extension=\"mol2\"):\n",
    "    \"\"\"\n",
    "    Show molecule with the nglview.\n",
    "    \n",
    "    Parameters\n",
    "    ----------\n",
    "    structure_text : str\n",
    "        Structural data in the form of a string.\n",
    "    extension : str\n",
    "        Format of the structural data (default: mol2).\n",
    "    \"\"\"\n",
    "    \n",
    "    v = nv.NGLWidget()\n",
    "    v.add_component(structure_text, ext=extension)\n",
    "    return v"
   ]
  },
  {
   "cell_type": "markdown",
   "metadata": {},
   "source": [
    "Let's check what kind of structural data we can get from the KLIFS database (docstring inspection)."
   ]
  },
  {
   "cell_type": "code",
   "execution_count": 16,
   "metadata": {},
   "outputs": [
    {
     "data": {
      "text/plain": [
       "\u001b[0;31mSignature:\u001b[0m\n",
       "\u001b[0msession\u001b[0m\u001b[0;34m.\u001b[0m\u001b[0mcoordinates\u001b[0m\u001b[0;34m.\u001b[0m\u001b[0mto_text\u001b[0m\u001b[0;34m(\u001b[0m\u001b[0;34m\u001b[0m\n",
       "\u001b[0;34m\u001b[0m    \u001b[0mstructure_klifs_id\u001b[0m\u001b[0;34m,\u001b[0m\u001b[0;34m\u001b[0m\n",
       "\u001b[0;34m\u001b[0m    \u001b[0mentity\u001b[0m\u001b[0;34m=\u001b[0m\u001b[0;34m'complex'\u001b[0m\u001b[0;34m,\u001b[0m\u001b[0;34m\u001b[0m\n",
       "\u001b[0;34m\u001b[0m    \u001b[0mextension\u001b[0m\u001b[0;34m=\u001b[0m\u001b[0;34m'mol2'\u001b[0m\u001b[0;34m,\u001b[0m\u001b[0;34m\u001b[0m\n",
       "\u001b[0;34m\u001b[0m\u001b[0;34m)\u001b[0m\u001b[0;34m\u001b[0m\u001b[0;34m\u001b[0m\u001b[0m\n",
       "\u001b[0;31mDocstring:\u001b[0m\n",
       "Get structural data content from KLIFS database as string (text).\n",
       "\n",
       "Parameters\n",
       "----------\n",
       "structure_klifs_id : int\n",
       "    Structure KLIFS ID.\n",
       "    In the local module, this parameter is called \"structure_klifs_id_or_filepath\".\n",
       "structure_klifs_id_or_filepath : int / str or pathlib.Path\n",
       "    Structure KLIFS ID or path to file.\n",
       "    In the remote module, this parameter is called \"structure_klifs_id\".\n",
       "entity : str\n",
       "    Structural entity: complex (default), ligand, pocket, or protein.\n",
       "    In the local module, when a filepath is passed to \"structure_klifs_id_or_filepath\", this\n",
       "    parameter will be ignored and inferred from the filepath instead.\n",
       "extension : str\n",
       "    Input file format (fetched from KLIFS): mol2 (default) or pdb.\n",
       "    In the local module, when a filepath is passed to \"structure_klifs_id_or_filepath\", this\n",
       "    parameter will be ignored and inferred from the filepath instead.\n",
       "\n",
       "Returns\n",
       "-------\n",
       "str\n",
       "    Structural data.\n",
       "\u001b[0;31mFile:\u001b[0m      ~/Documents/Work/GitHub/opencadd/opencadd/databases/klifs/remote.py\n",
       "\u001b[0;31mType:\u001b[0m      method\n"
      ]
     },
     "metadata": {},
     "output_type": "display_data"
    }
   ],
   "source": [
    "session.coordinates.to_text?"
   ]
  },
  {
   "cell_type": "code",
   "execution_count": 17,
   "metadata": {},
   "outputs": [
    {
     "data": {
      "application/vnd.jupyter.widget-view+json": {
       "model_id": "a0551634d49540a8a6e87a8da930817e",
       "version_major": 2,
       "version_minor": 0
      },
      "text/plain": [
       "NGLWidget()"
      ]
     },
     "metadata": {},
     "output_type": "display_data"
    }
   ],
   "source": [
    "structure_text = session.coordinates.to_text(structure_klifs_id, \"complex\", \"mol2\")\n",
    "v = show_molecule(structure_text)\n",
    "v"
   ]
  },
  {
   "cell_type": "code",
   "execution_count": 18,
   "metadata": {},
   "outputs": [],
   "source": [
    "v.render_image();"
   ]
  },
  {
   "cell_type": "code",
   "execution_count": 19,
   "metadata": {},
   "outputs": [
    {
     "data": {
      "image/png": "\n",
      "text/plain": [
       "<IPython.core.display.Image object>"
      ]
     },
     "execution_count": 19,
     "metadata": {},
     "output_type": "execute_result"
    }
   ],
   "source": [
    "v._display_image()"
   ]
  },
  {
   "cell_type": "code",
   "execution_count": 20,
   "metadata": {},
   "outputs": [
    {
     "data": {
      "application/vnd.jupyter.widget-view+json": {
       "model_id": "dfafc60c461a46a18aa7e21b3e73f839",
       "version_major": 2,
       "version_minor": 0
      },
      "text/plain": [
       "NGLWidget()"
      ]
     },
     "metadata": {},
     "output_type": "display_data"
    }
   ],
   "source": [
    "structure_text = session.coordinates.to_text(structure_klifs_id, \"protein\", \"mol2\")\n",
    "v = show_molecule(structure_text)\n",
    "v"
   ]
  },
  {
   "cell_type": "code",
   "execution_count": 21,
   "metadata": {},
   "outputs": [],
   "source": [
    "v.render_image();"
   ]
  },
  {
   "cell_type": "code",
   "execution_count": 22,
   "metadata": {},
   "outputs": [
    {
     "data": {
      "image/png": "\n",
      "text/plain": [
       "<IPython.core.display.Image object>"
      ]
     },
     "execution_count": 22,
     "metadata": {},
     "output_type": "execute_result"
    }
   ],
   "source": [
    "v._display_image()"
   ]
  },
  {
   "cell_type": "markdown",
   "metadata": {},
   "source": [
    "### Show the ligand with `rdkit`\n",
    "\n",
    "The `opencadd.databases.klifs` module can also be used to quickly show the bound ligand using `rdkit`."
   ]
  },
  {
   "cell_type": "code",
   "execution_count": 23,
   "metadata": {},
   "outputs": [
    {
     "data": {
      "image/png": "[encoded data removed]",
      "text/plain": [
       "<rdkit.Chem.rdchem.Mol at 0x7fb4c0e289e0>"
      ]
     },
     "execution_count": 23,
     "metadata": {},
     "output_type": "execute_result"
    }
   ],
   "source": [
    "session.coordinates.to_rdkit(structure_klifs_id, \"ligand\")"
   ]
  },
  {
   "cell_type": "markdown",
   "metadata": {},
   "source": [
    "We can also get this ligand's SMILES via the ligand Expo ID (KLIFS query)."
   ]
  },
  {
   "cell_type": "code",
   "execution_count": 24,
   "metadata": {},
   "outputs": [
    {
     "data": {
      "text/html": [
       "<div>\n",
       "<style scoped>\n",
       "    .dataframe tbody tr th:only-of-type {\n",
       "        vertical-align: middle;\n",
       "    }\n",
       "\n",
       "    .dataframe tbody tr th {\n",
       "        vertical-align: top;\n",
       "    }\n",
       "\n",
       "    .dataframe thead th {\n",
       "        text-align: right;\n",
       "    }\n",
       "</style>\n",
       "<table border=\"1\" class=\"dataframe\">\n",
       "  <thead>\n",
       "    <tr style=\"text-align: right;\">\n",
       "      <th></th>\n",
       "      <th>ligand.klifs_id</th>\n",
       "      <th>ligand.expo_id</th>\n",
       "      <th>ligand.name</th>\n",
       "      <th>ligand.smiles</th>\n",
       "      <th>ligand.inchikey</th>\n",
       "    </tr>\n",
       "  </thead>\n",
       "  <tbody>\n",
       "    <tr>\n",
       "      <th>0</th>\n",
       "      <td>222</td>\n",
       "      <td>IRE</td>\n",
       "      <td>Gefitinib</td>\n",
       "      <td>Clc1c(F)ccc(Nc2ncnc3c2cc(OCCCN4CCOCC4)c(OC)c3)c1</td>\n",
       "      <td>XGALLCVXEZPNRQ-UHFFFAOYSA-N</td>\n",
       "    </tr>\n",
       "  </tbody>\n",
       "</table>\n",
       "</div>"
      ],
      "text/plain": [
       "   ligand.klifs_id ligand.expo_id ligand.name  \\\n",
       "0              222            IRE   Gefitinib   \n",
       "\n",
       "                                      ligand.smiles  \\\n",
       "0  Clc1c(F)ccc(Nc2ncnc3c2cc(OCCCN4CCOCC4)c(OC)c3)c1   \n",
       "\n",
       "               ligand.inchikey  \n",
       "0  XGALLCVXEZPNRQ-UHFFFAOYSA-N  "
      ]
     },
     "execution_count": 24,
     "metadata": {},
     "output_type": "execute_result"
    }
   ],
   "source": [
    "session.ligands.by_ligand_expo_id(ligand_expo_id)"
   ]
  },
  {
   "cell_type": "markdown",
   "metadata": {},
   "source": [
    "### Explore kinases in KLIFS"
   ]
  },
  {
   "cell_type": "markdown",
   "metadata": {},
   "source": [
    "To quickly explore the resources on different kinases in KLIFS, we define a function that allows us to return (a) all structure-bound ligands in KLIFS plus (b) one random structure for a random kinase or given kinase(s)."
   ]
  },
  {
   "cell_type": "code",
   "execution_count": 25,
   "metadata": {},
   "outputs": [],
   "source": [
    "def random_kinase_structure(*kinase_names):\n",
    "    \"\"\"\n",
    "    Get one example structure (complex and protein structural data) for one or more kinases plus the SMILES of all bound ligands.\n",
    "    \n",
    "    Parameters\n",
    "    ----------\n",
    "    *kinase_names : str\n",
    "        Kinase names.\n",
    "        \n",
    "    Returns\n",
    "    -------\n",
    "    (molcomplex, protein, ligands) : (str, str, list of str)\n",
    "        Complex structural data, protein structural data, list of ligand SMILES.\n",
    "    \"\"\"\n",
    "    # Get all structures or all structures for a given kinase\n",
    "    if kinase_names:\n",
    "        kinase_names = list(kinase_names)\n",
    "        try:\n",
    "            structures = session.structures.by_kinase_name(list(kinase_names))\n",
    "        except ValueError:\n",
    "            raise ValueError(f\"The input kinase(s) {kinase_names} yielded no results.\")\n",
    "    else:\n",
    "        structures = session.structures.all_structures()\n",
    "    kinase_klifs_ids = [int(i) for i in structures[\"kinase.klifs_id\"].unique()]\n",
    "    # Choose random structure\n",
    "    structure = structures.sample().squeeze()\n",
    "    structure_klifs_id = structure[\"structure.klifs_id\"]\n",
    "    print(f\"Selected kinases: {structure['kinase.klifs_name']}\")\n",
    "    # Get complex structural data\n",
    "    molcomplex = (\n",
    "        KLIFS_CLIENT.Structures.get_structure_get_pdb_complex(\n",
    "            structure_ID=structure_klifs_id\n",
    "        )\n",
    "        .response()\n",
    "        .result\n",
    "    )\n",
    "    # Get protein structural data\n",
    "    protein = (\n",
    "        KLIFS_CLIENT.Structures.get_structure_get_protein(structure_ID=structure_klifs_id)\n",
    "        .response()\n",
    "        .result\n",
    "    )\n",
    "    # Get all ligands bound to all structures for input kinases\n",
    "    ligands = KLIFS_CLIENT.Ligands.get_ligands_list(kinase_ID=kinase_klifs_ids).response().result\n",
    "    print(\n",
    "        f\"Chosen KLIFS entry: PDB ID {structure['structure.pdb_id']} \"\n",
    "        f\"with chain {structure['structure.chain'] if structure['structure.chain'] else '-'} and \"\n",
    "        f\"alternate model {structure['structure.alternate_model'] if structure['structure.alternate_model'] else '-'} \"\n",
    "        f\"({structure['species.klifs'].lower()}).\"\n",
    "    )\n",
    "    print(f\"Number of structure-bound ligands: {len(ligands)}\")\n",
    "    return molcomplex, protein, [ligand.SMILES for ligand in ligands]"
   ]
  },
  {
   "cell_type": "code",
   "execution_count": 26,
   "metadata": {},
   "outputs": [
    {
     "name": "stdout",
     "output_type": "stream",
     "text": [
      "Selected kinases: EGFR\n",
      "Chosen KLIFS entry: PDB ID 5em7 with chain A and alternate model A (human).\n",
      "Number of structure-bound ligands: 395\n"
     ]
    }
   ],
   "source": [
    "molcomplex, protein, ligands = random_kinase_structure(\"p38a\", \"EGFR\")"
   ]
  },
  {
   "cell_type": "code",
   "execution_count": 27,
   "metadata": {},
   "outputs": [
    {
     "name": "stderr",
     "output_type": "stream",
     "text": [
      "/home/dominique/.local/miniforge3/envs/teachopencadd-review/lib/python3.8/site-packages/rdkit/Chem/Draw/IPythonConsole.py:186: UserWarning: Truncating the list of molecules to be displayed to 12. Change the maxMols value to display more.\n",
      "  warnings.warn(\n"
     ]
    },
    {
     "data": {
      "image/png": "[encoded data removed]",
      "text/plain": [
       "<PIL.PngImagePlugin.PngImageFile image mode=RGB size=1200x400 at 0x7FB4C0DF4B80>"
      ]
     },
     "execution_count": 27,
     "metadata": {},
     "output_type": "execute_result"
    }
   ],
   "source": [
    "Chem.Draw.MolsToGridImage(\n",
    "    [Chem.MolFromSmiles(ligand) for ligand in ligands], maxMols=12, molsPerRow=6\n",
    ")"
   ]
  },
  {
   "cell_type": "code",
   "execution_count": 28,
   "metadata": {},
   "outputs": [
    {
     "data": {
      "application/vnd.jupyter.widget-view+json": {
       "model_id": "065dd88f886d47288511403f09b297fa",
       "version_major": 2,
       "version_minor": 0
      },
      "text/plain": [
       "NGLWidget()"
      ]
     },
     "metadata": {},
     "output_type": "display_data"
    }
   ],
   "source": [
    "v = show_molecule(molcomplex, \"pdb\")\n",
    "v"
   ]
  },
  {
   "cell_type": "code",
   "execution_count": 29,
   "metadata": {},
   "outputs": [],
   "source": [
    "v.render_image();"
   ]
  },
  {
   "cell_type": "code",
   "execution_count": 30,
   "metadata": {},
   "outputs": [
    {
     "data": {
      "image/png": "\n",
      "text/plain": [
       "<IPython.core.display.Image object>"
      ]
     },
     "execution_count": 30,
     "metadata": {},
     "output_type": "execute_result"
    }
   ],
   "source": [
    "v._display_image()"
   ]
  },
  {
   "cell_type": "markdown",
   "metadata": {},
   "source": [
    "## Discussion\n",
    "\n",
    "**TODO**"
   ]
  },
  {
   "cell_type": "markdown",
   "metadata": {},
   "source": [
    "## Quiz\n",
    "\n",
    "- How many kinases does KLIFS provide for the \"EGFR\" family?\n",
    "- **TODO**\n",
    "- **TODO**"
   ]
  }
 ],
 "metadata": {
  "kernelspec": {
   "display_name": "Python 3",
   "language": "python",
   "name": "python3"
  },
  "language_info": {
   "codemirror_mode": {
    "name": "ipython",
    "version": 3
   },
   "file_extension": ".py",
   "mimetype": "text/x-python",
   "name": "python",
   "nbconvert_exporter": "python",
   "pygments_lexer": "ipython3",
   "version": "3.8.5"
  }
 },
 "nbformat": 4,
 "nbformat_minor": 4
}
