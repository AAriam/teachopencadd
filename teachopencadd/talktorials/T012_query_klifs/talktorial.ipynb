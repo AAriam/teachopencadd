{
 "cells": [
  {
   "cell_type": "markdown",
   "metadata": {},
   "source": [
    "# T012 · Data acquisition from KLIFS\n",
    "\n",
    "Authors:\n",
    "\n",
    "- Dominique Sydow, 2019-2020, [Volkamer lab, Charité](https://volkamerlab.org/)\n",
    "- Jaime Rodríguez-Guerra, 2019-2020, [Volkamer lab, Charité](https://volkamerlab.org/)"
   ]
  },
  {
   "cell_type": "markdown",
   "metadata": {},
   "source": [
    "## Aim of this talktorial\n",
    "\n",
    "KLIFS is a database for kinase-ligand interaction fingerprints and structures. In this talktorial, we will use the programmatic access to this database (KLIFS OpenAPI) and the `opencadd` package to interact with its rich content. \n",
    "First, we will use a query kinase (EGFR) to fetch all available structures and explore their bound ligands and interaction fingerprints. Then, we will explore the bioactivity data for the EGFR inhibitor Gefitinib in order to find off-targets. Last but not least, we offer a convenience function that allows you to easily explore different (if you want random) kinases."
   ]
  },
  {
   "cell_type": "markdown",
   "metadata": {},
   "source": [
    "### Contents in *Theory*\n",
    "\n",
    "- Kinases\n",
    "- EGFR and Gefitinib\n",
    "- KLIFS database\n",
    "- KLIFS OpenAPI\n",
    "- `opencadd`"
   ]
  },
  {
   "cell_type": "markdown",
   "metadata": {},
   "source": [
    "### Contents in *Practical*\n",
    "\n",
    "- Define kinase and ligand of interest: EGFR and Gefitinib\n",
    "- Generate a KLIFS Python client\n",
    "- Explore the KLIFS OpenAPI\n",
    "  - Kinase groups\n",
    "  - Kinase families\n",
    "  - Kinases\n",
    "  - Structures\n",
    "  - Interaction fingerprints\n",
    "  - Structure coordinates\n",
    "  - Ligands\n",
    "- Case study: EGFR (using `opencadd`)\n",
    "  - Get all structures for EGFR\n",
    "  - Average interaction fingerprint\n",
    "  - Select an example EGFR-Gefitinib structure\n",
    "  - Show the structure with `nglview`\n",
    "  - Show all kinase-bound ligands with `rdkit`\n",
    "  - Explore profiling data for Gefitinib\n",
    "- Explore random kinase in KLIFS (show example structure and all bound ligands)"
   ]
  },
  {
   "cell_type": "markdown",
   "metadata": {},
   "source": [
    "### References\n",
    "\n",
    "* Introduction to protein kinases and inhibition ([Chapter 9 in _Med. Chem. Anticancer Drugs_ (2008), 251-305](https://www.sciencedirect.com/science/article/pii/B9780444528247000093))\n",
    "* Kinase classification by Manning _et al._ ([_Science_ (2002), __298__, 1912-1934](https://science.sciencemag.org/content/298/5600/1912))\n",
    "* Kinase-centric computational drug development ([_Annu. Rep. Med. Chem._ (2017), __50__, 197-236](https://www.sciencedirect.com/science/article/pii/S0065774317300040?via%3Dihub))\n",
    "* EGFR and Gefitinib \n",
    "  * Review on the EGFR family ([_Pharmacol. Res._ (2019), __139__, 395-411](https://www.sciencedirect.com/science/article/abs/pii/S104366181831747X?via%3Dihub) and [_Front. Cell Dev. Biol._ (2016), __8__](https://www.frontiersin.org/articles/10.3389/fcell.2016.00088/full))\n",
    "  * EGFR kinase details on [UniProt](https://www.uniprot.org/uniprot/P00533)\n",
    "  * Gefitinib details on [PubChem](https://pubchem.ncbi.nlm.nih.gov/compound/Gefitinib)\n",
    "* KLIFS - a kinase-inhibitor interactions database\n",
    "   * Main database/website reference ([_Nucleic Acids Res._ (2020)](https://academic.oup.com/nar/advance-article/doi/10.1093/nar/gkaa895/5934416))\n",
    "   * Introduction of the KLIFS website & database ([_Nucleic Acids Res._ (2016), __44__, 6, D365–D371](https://doi.org/10.1093/nar/gkv1082))\n",
    "   * Initial KLIFS dataset, binding mode classification, residue numbering ([_J. Med. Chem._ (2014), __57__, 2, 249-277](https://pubs.acs.org/doi/abs/10.1021/jm400378w))\n",
    "* NGLView, the interactive molecule visualizer ([_Bioinformatics_ (2018), __34__, 1241–124](https://doi.org/10.1093/bioinformatics/btx789))"
   ]
  },
  {
   "cell_type": "markdown",
   "metadata": {},
   "source": [
    "## Theory"
   ]
  },
  {
   "cell_type": "markdown",
   "metadata": {},
   "source": [
    "### Kinases\n",
    "\n",
    "Protein kinases are one of the most important and well-studied drug targets, since they are critical to most aspects of cell life and their dysregulation causes many diseases such as cancer, inflammation, and autoimmune disorders.\n",
    "\n",
    "Protein kinases catalyze the phosphorylation of tyrosine, serine, theorine and histidine residues of themselves or other kinases using their bound ATP ([_Med. Chem. Anticancer Drugs_ (2008), 251-305](https://www.sciencedirect.com/science/article/pii/B9780444528247000093)).\n",
    "There are 518 protein kinases encoded in the human genome, which were clustered based on their sequence into eight main kinase groups (AGC, CAMK, CK1, CMGC, STE, TK, TKL and Other). Each kinase group is further categorized into different kinase families ([_Science_ (2002), __298__, 1912-1934](https://science.sciencemag.org/content/298/5600/1912)).\n",
    "Their binding site is highly conserved based on their sequence and structure, making them difficult drug targets when it comes to the development of selective drugs.\n",
    "\n",
    "Since this protein class is so well-studied, the amount of available data is growing more and more, allowing and requiring infrastructures that organize, analyze, and provide this data to facilitate kinase-centric drug development ([_Annu. Rep. Med. Chem._ (2017), __50__, 197-236](https://www.sciencedirect.com/science/article/pii/S0065774317300040?via%3Dihub)). One of these rich resources is the KLIFS database, which will be used in this talktorial."
   ]
  },
  {
   "cell_type": "markdown",
   "metadata": {},
   "source": [
    "### EGFR and Gefitinib\n",
    "\n",
    "The [epidermal growth factor receptor (EGFR)](https://www.uniprot.org/uniprot/P00533) is a member of the EGFR (ErbB) family of receptors, which consists of four closely related receptor tyrosine kinases: EGFR (ErbB1), HER2/neu (ErbB2), Her3 (ErbB3) and Her4 (ErbB4). \n",
    "EGFR was the first receptor for which a relationship between mutations, overexpression and cancer (tumor growth) has been shown. Interrupting EGFR signaling by blocking the EGFR binding site can help to prevent tumor growth and improve the patient's health. The first EGFR inhibitor [Gefitinib](https://pubchem.ncbi.nlm.nih.gov/compound/Gefitinib) (ligand Expo ID \"IRE\") was approved in 2003. ([_Pharmacol. Res._ (2019), __139__, 395-411](https://www.sciencedirect.com/science/article/abs/pii/S104366181831747X?via%3Dihub) and [_Front. Cell Dev. Biol._ (2016), __8__](https://www.frontiersin.org/articles/10.3389/fcell.2016.00088/full))"
   ]
  },
  {
   "cell_type": "markdown",
   "metadata": {},
   "source": [
    "### KLIFS database\n",
    "\n",
    "The **K**inase-**L**igand **I**nteraction **F**ingerprints and **S**tructures database (KLIFS) is a database that provides information about the protein structure (collected from the PDB) of catalytic kinase domains and the interaction with their ligands. \n",
    "\n",
    "* Role: Kinase-ligand interaction profiles database\n",
    "* Website: http://klifs.net/\n",
    "* API: Yes, REST-based, OpenAPI-enabled. No official client. Use `bravado`.\n",
    "* Documentation: http://klifs.net/swagger/\n",
    "* Literature:\n",
    "   * Main database/website reference ([_Nucleic Acids Res._ (2020)](https://academic.oup.com/nar/advance-article/doi/10.1093/nar/gkaa895/5934416))\n",
    "   * Introduction of the KLIFS website & database ([_Nucleic Acids Res._ (2016), __44__, 6, D365–D371](https://doi.org/10.1093/nar/gkv1082))\n",
    "   * Initial KLIFS dataset, binding mode classification, residue numbering ([_J. Med. Chem._ (2014), __57__, 2, 249-277](https://pubs.acs.org/doi/abs/10.1021/jm400378w))\n",
    "    \n",
    "\n",
    "> Kinase-Ligand Interaction Fingerprints and Structures database (KLIFS), developed at the Division of Medicinal Chemistry - VU University Amsterdam, is a database that revolves around the protein structure of catalytic kinase domains and the way kinase inhibitors can interact with them. Based on the underlying systematic and consistent protocol all (currently human and mouse) kinase structures and the binding mode of kinase ligands can be directly compared to each other. Moreover, because of the classification of an all-encompassing binding site of 85 residues it is possible to compare the interaction patterns of kinase-inhibitors to each other to, for example, identify crucial interactions determining kinase-inhibitor selectivity."
   ]
  },
  {
   "cell_type": "markdown",
   "metadata": {},
   "source": [
    "![KLIFS database](images/teachopencadd_t012_toc.png)\n",
    "\n",
    "_Figure 1_: Key kinase resources available on the KLIFS database."
   ]
  },
  {
   "cell_type": "markdown",
   "metadata": {},
   "source": [
    "### KLIFS OpenAPI\n",
    "\n",
    "The KLIFS database offers standardized URL schemes (__REST API__) to programmatically access resources that live on the KLIFS server. You could literally paste such an URL into your browser (sending a __request__) and you would get back a result (receiving a __response__). For example, the following URL will fetch from KLIFS all ChEMBL bioactivity values associated with the kinase inhibitor Gefitinib (ligand expo ID in the PDB: IRE):\n",
    "\n",
    "https://klifs.net/api/bioactivity_list_pdb?ligand_PDB=IRE\n",
    "\n",
    "Now, it would be possible to generate these URL schemes with your own little script or library (__client__), but it would _really_ be nicer if you would not need to deal with the technical details of how to set up such an URL. \n",
    "Luckily, there is a solution - some websites provide you with a document that defines the REST API schema for you ([__OpenAPI specification__](https://swagger.io/docs/specification/about/), formerly __Swagger specification__). \n",
    "Luckily again, KLIFS is one of them! \n",
    "\n",
    "- Take a look at how such a document looks like in case of KLIFS (it's a json file): https://klifs.net/swagger/swagger.json \n",
    "- You can also explore the definitions via an interactive user interface (Swagger UI): http://klifs.net/swagger/\n",
    "\n",
    "We are getting closer. We know now that we can get KLIFS results using URLs and we know thanks to the KLIFS OpenAPI definitions how these URLs need to look like. \n",
    "What we are still missing is a nice Python program (client) that offers a simple Python API to send these requests and receive the responses - under the hood - for us.\n",
    "\n",
    "We are lucky once more. Libraries like `bravado` can be used to generate dynamically such a Python client based on OpenAPI definitions - for our webservice at hand here, `bravado` can be used to generate a KLIFS client based on the KLIFS OpenAPI definitions. This KLIFS client will offer many different methods to interact with the KLIFS webservice (as defined by the OpenAPI definitions). In the \"Practical\" section of this talktorial, we will revisit these steps!"
   ]
  },
  {
   "cell_type": "markdown",
   "metadata": {},
   "source": [
    "### `opencadd`\n",
    "\n",
    "`opencadd` is a Python library for structural cheminformatics developed by the Volkamer lab at the Charité in Berlin. \n",
    "This library is a growing collection of modules that help facilitate and standardize common tasks in structural bioinformatics and cheminformatics, e.g. a module for structural superimposition (`opencadd.structure.superposition`) or KLIFS queries (`opencadd.databases.klifs`).\n",
    "\n",
    "- GitHub repository: https://github.com/volkamerlab/opencadd\n",
    "- Documentation: https://opencadd.readthedocs.io\n",
    "\n",
    "We will use the KLIFS-dedicated module in this talktorial. It offers a standardized API to work with KLIFS data locally (KLIFS download) or remotely (KLIFS OpenAPI). Most query results are returned in the form of standardized `pandas` DataFrames for quick and easy data manipulation."
   ]
  },
  {
   "cell_type": "markdown",
   "metadata": {},
   "source": [
    "## Practical"
   ]
  },
  {
   "cell_type": "markdown",
   "metadata": {},
   "source": [
    "Let's begin! For starters, we will define our kinase and ligand of interest (EGFR and Gefitinib). We will explore their KLIFS data using first the KLIFS OpenAPI and then using `opencadd`'s KLIFS module."
   ]
  },
  {
   "cell_type": "code",
   "execution_count": 1,
   "metadata": {},
   "outputs": [
    {
     "data": {
      "application/vnd.jupyter.widget-view+json": {
       "model_id": "723da860b9e74c60af5cd804e4f022cd",
       "version_major": 2,
       "version_minor": 0
      },
      "text/plain": []
     },
     "metadata": {},
     "output_type": "display_data"
    },
    {
     "name": "stderr",
     "output_type": "stream",
     "text": [
      "RDKit WARNING: [12:49:35] Enabling RDKit 2019.09.3 jupyter extensions\n"
     ]
    }
   ],
   "source": [
    "from bravado.client import SwaggerClient\n",
    "from IPython.display import display, Markdown\n",
    "import pandas as pd\n",
    "import nglview as nv\n",
    "from rdkit import Chem\n",
    "from rdkit.Chem.Draw import (\n",
    "    IPythonConsole,\n",
    "    MolsToGridImage,\n",
    ")  # Needed to show molecules\n",
    "import opencadd\n",
    "\n",
    "# Show up to 50 columns for DataFrames in this talktorial\n",
    "pd.set_option(\"display.max_columns\", 50)"
   ]
  },
  {
   "cell_type": "markdown",
   "metadata": {},
   "source": [
    "### Define kinase and ligand of interest: EGFR and Gefitinib"
   ]
  },
  {
   "cell_type": "code",
   "execution_count": 2,
   "metadata": {},
   "outputs": [],
   "source": [
    "species = \"Human\"\n",
    "kinase_group = \"TK\"\n",
    "kinase_family = \"EGFR\"\n",
    "kinase_name = \"EGFR\"\n",
    "ligand_expo_id = \"IRE\""
   ]
  },
  {
   "cell_type": "markdown",
   "metadata": {},
   "source": [
    "### Generate a KLIFS Python client\n",
    "\n",
    "First, we will generate a KLIFS Python client using the provided KLIFS OpenAPI (Swagger) definitions."
   ]
  },
  {
   "cell_type": "code",
   "execution_count": 3,
   "metadata": {},
   "outputs": [],
   "source": [
    "KLIFS_API_DEFINITIONS = \"https://klifs.net/swagger/swagger.json\"\n",
    "KLIFS_CLIENT = SwaggerClient.from_url(KLIFS_API_DEFINITIONS, config={\"validate_responses\": False})"
   ]
  },
  {
   "cell_type": "markdown",
   "metadata": {},
   "source": [
    "As with any Python library, you can access the KLIFS client's entry points when hitting the Tab key after \n",
    "\n",
    "```python\n",
    "KLIFS_CLIENT.\n",
    "```\n",
    "\n",
    "Available entry points are: \n",
    "\n",
    "- `KLIFS_CLIENT.Information`: Access to kinases (name, group, family, ...).\n",
    "- `KLIFS_CLIENT.Interactions`: Access to kinase-ligand interaction fingerprints.\n",
    "- `KLIFS_CLIENT.Ligands`: Access to kinase-bound ligands (name, SMILES, ...) and their measured bioactivity against kinases (ChEMBL data).\n",
    "- `KLIFS_CLIENT.Structures`: Access to kinase structures with and without ligands (including their KLIFS-processed PDB data)."
   ]
  },
  {
   "cell_type": "markdown",
   "metadata": {},
   "source": [
    "### Explore the KLIFS OpenAPI\n",
    "\n",
    "Let's send a few requests to KLIFS to explore available data for our kinase and ligand of interest."
   ]
  },
  {
   "cell_type": "markdown",
   "metadata": {},
   "source": [
    "#### 1. Kinase groups\n",
    "\n",
    "Let's check out the available kinase groups."
   ]
  },
  {
   "cell_type": "code",
   "execution_count": 4,
   "metadata": {},
   "outputs": [
    {
     "data": {
      "text/markdown": [
       "All kinase groups are returned as a list of strings:"
      ],
      "text/plain": [
       "<IPython.core.display.Markdown object>"
      ]
     },
     "metadata": {},
     "output_type": "display_data"
    },
    {
     "name": "stdout",
     "output_type": "stream",
     "text": [
      "['AGC', 'CAMK', 'CK1', 'CMGC', 'Other', 'STE', 'TK', 'TKL']\n"
     ]
    }
   ],
   "source": [
    "kinase_groups = KLIFS_CLIENT.Information.get_kinase_groups().response().result\n",
    "# Note: IPython's display function can be used to render output as Markdown \n",
    "display(Markdown(\"All kinase groups are returned as a list of strings:\"))\n",
    "print(kinase_groups)\n",
    "# NBVAL_CHECK_OUTPUT"
   ]
  },
  {
   "cell_type": "markdown",
   "metadata": {},
   "source": [
    "#### 2. Kinase families\n",
    "\n",
    "Now let's look at our all available kinase families for the kinase group of interest (`kinase_group`)."
   ]
  },
  {
   "cell_type": "code",
   "execution_count": 5,
   "metadata": {},
   "outputs": [
    {
     "data": {
      "text/markdown": [
       "Kinase families in TK are returned as a list of strings:"
      ],
      "text/plain": [
       "<IPython.core.display.Markdown object>"
      ]
     },
     "metadata": {},
     "output_type": "display_data"
    },
    {
     "name": "stdout",
     "output_type": "stream",
     "text": [
      "['ALK', 'Abl', 'Ack', 'Alk', 'Axl', 'CCK4', 'Csk', 'DDR', 'EGFR', 'Eph', 'FAK', 'FGFR', 'Fer', 'InsR', 'JakA', 'JakB', 'Lmr', 'Met', 'Musk', 'PDGFR', 'Ret', 'Ror', 'Ryk', 'Sev', 'Src', 'Syk', 'TK-Unique', 'Tec', 'Tie', 'Trk', 'VEGFR']\n"
     ]
    }
   ],
   "source": [
    "# Note: All code lines are supposed to be not longer than 99 characters\n",
    "# Thus, sometimes brackets are used so that code lines can be split to multiple lines\n",
    "# (you could also write this in one line without the brackets!)\n",
    "kinase_families = (\n",
    "    KLIFS_CLIENT.Information.get_kinase_families(kinase_group=kinase_group).response().result\n",
    ")\n",
    "display(Markdown(f\"Kinase families in {kinase_group} are returned as a list of strings:\"))\n",
    "print(kinase_families)"
   ]
  },
  {
   "cell_type": "markdown",
   "metadata": {},
   "source": [
    "#### 3. Kinases\n",
    "\n",
    "The following kinases belong to the kinase family of interest (`kinase_family`):"
   ]
  },
  {
   "cell_type": "code",
   "execution_count": 6,
   "metadata": {},
   "outputs": [
    {
     "data": {
      "text/markdown": [
       "Kinases in the human family EGFR as a list of objects that contain kinase-specific information:"
      ],
      "text/plain": [
       "<IPython.core.display.Markdown object>"
      ]
     },
     "metadata": {},
     "output_type": "display_data"
    },
    {
     "data": {
      "text/plain": [
       "[IDlist(full_name='epidermal growth factor receptor', kinase_ID=406, name='EGFR', species='Human'),\n",
       " IDlist(full_name='erb-b2 receptor tyrosine kinase 2', kinase_ID=407, name='ERBB2', species='Human'),\n",
       " IDlist(full_name='erb-b2 receptor tyrosine kinase 3', kinase_ID=408, name='ERBB3', species='Human'),\n",
       " IDlist(full_name='erb-b2 receptor tyrosine kinase 4', kinase_ID=409, name='ERBB4', species='Human')]"
      ]
     },
     "execution_count": 6,
     "metadata": {},
     "output_type": "execute_result"
    }
   ],
   "source": [
    "kinases = (\n",
    "    KLIFS_CLIENT.Information.get_kinase_names(kinase_family=kinase_family, species=species)\n",
    "    .response()\n",
    "    .result\n",
    ")\n",
    "display(Markdown(\n",
    "    f\"Kinases in the {species.lower()} family {kinase_family} as a list of objects \"\n",
    "    f\"that contain kinase-specific information:\"\n",
    "))\n",
    "kinases"
   ]
  },
  {
   "cell_type": "markdown",
   "metadata": {},
   "source": [
    "In this talktorial we are interested in the kinase defined in `kinase_name`. \n",
    "Let extract the KLIFS ID for this kinase, which we will use to query for structures in KLIFS."
   ]
  },
  {
   "cell_type": "code",
   "execution_count": 7,
   "metadata": {},
   "outputs": [
    {
     "data": {
      "text/markdown": [
       "Kinase KLIFS ID for EGFR: 406"
      ],
      "text/plain": [
       "<IPython.core.display.Markdown object>"
      ]
     },
     "metadata": {},
     "output_type": "display_data"
    }
   ],
   "source": [
    "# Use iterator to get first element of the list\n",
    "kinase_klifs_id = next(kinase.kinase_ID for kinase in kinases if kinase.name == kinase_name)\n",
    "display(Markdown(f\"Kinase KLIFS ID for {kinase_name}: {kinase_klifs_id}\"))\n",
    "# NBVAL_CHECK_OUTPUT"
   ]
  },
  {
   "cell_type": "markdown",
   "metadata": {},
   "source": [
    "#### 4. Structures\n",
    "\n",
    "We get all available __structures__ in KLIFS for this kinase and show details for an example ligand-bound structure."
   ]
  },
  {
   "cell_type": "code",
   "execution_count": 8,
   "metadata": {},
   "outputs": [
    {
     "data": {
      "text/markdown": [
       "Number of structures for the kinase EGFR: 425\n",
       "\n",
       "Example structure, i.e. the first structure in the result list that contains a ligand:"
      ],
      "text/plain": [
       "<IPython.core.display.Markdown object>"
      ]
     },
     "metadata": {},
     "output_type": "display_data"
    },
    {
     "data": {
      "text/plain": [
       "structureDetails(DFG='in', Grich_angle=48.1597, Grich_distance=14.8202, Grich_rotation=43.046, aC_helix='out', allosteric_ligand=0, alt='A', back=True, bp_III=False, bp_II_A_in=True, bp_II_B=False, bp_II_B_in=False, bp_II_in=True, bp_II_out=False, bp_IV=False, bp_I_A=True, bp_I_B=True, bp_V=False, chain='A', fp_I=False, fp_II=False, front=True, gate=True, kinase='EGFR', kinase_ID=406, ligand='W19', missing_atoms=0, missing_residues=0, pdb='3w33', pocket='KVLGSGAFGTVYKVAIKELEILDEAYVMASVDPHVCRLLGIQLITQLMPFGCLLDYVREYLEDRRLVHRDLAARNVLVITDFGLA', quality_score=8.0, resolution=1.7, rmsd1=0.814, rmsd2=2.153, species='Human', structure_ID=782)"
      ]
     },
     "execution_count": 8,
     "metadata": {},
     "output_type": "execute_result"
    }
   ],
   "source": [
    "structures = (\n",
    "    KLIFS_CLIENT.Structures.get_structures_list(kinase_ID=[kinase_klifs_id]).response().result\n",
    ")\n",
    "display(Markdown(\n",
    "    f\"Number of structures for the kinase {kinase_name}: {len(structures)}\\n\\n\"\n",
    "    f\"Example structure, i.e. the first structure in the result list that contains a ligand:\"\n",
    "))\n",
    "# If structures do not contain ligands, the ligand field is set to 0\n",
    "structure = next(structure for structure in structures if structure.ligand != 0)\n",
    "structure"
   ]
  },
  {
   "cell_type": "markdown",
   "metadata": {},
   "source": [
    "As you can see for the example structure, KLIFS provides the following information:\n",
    "- the kinase that this structure represents and its pocket sequence\n",
    "- the bound ligand including details on the subpockets that the ligand occupies\n",
    "- the structure quality and conformation"
   ]
  },
  {
   "cell_type": "markdown",
   "metadata": {},
   "source": [
    "Based on an initial analysis of over 1200 kinase-ligand crystal structures, the KLIFS authors defined a pocket that comprises 85 residues and covers interactions seen in the kinase-ligand structures. For our example the pocket sequence is the following:"
   ]
  },
  {
   "cell_type": "code",
   "execution_count": 9,
   "metadata": {},
   "outputs": [
    {
     "data": {
      "text/markdown": [
       "Pocket sequence:\n",
       "\n",
       "KVLGSGAFGTVYKVAIKELEILDEAYVMASVDPHVCRLLGIQLITQLMPFGCLLDYVREYLEDRRLVHRDLAARNVLVITDFGLA\n",
       "\n",
       "(85 residues)"
      ],
      "text/plain": [
       "<IPython.core.display.Markdown object>"
      ]
     },
     "metadata": {},
     "output_type": "display_data"
    }
   ],
   "source": [
    "display(Markdown(f\"Pocket sequence:\\n\\n{structure.pocket}\\n\\n({len(structure.pocket)} residues)\"))"
   ]
  },
  {
   "cell_type": "markdown",
   "metadata": {},
   "source": [
    "#### 5. Interaction fingerprints\n",
    "\n",
    "Next, we get the interaction fingerprint (IFP) for the example kinase-ligand complex structure. The KLIFS IFP checks for each of the 85 residues if the following 7 interaction between that residue and the ligand is available (1) or not (0). "
   ]
  },
  {
   "cell_type": "code",
   "execution_count": 10,
   "metadata": {},
   "outputs": [
    {
     "data": {
      "text/plain": [
       "[{'position': '1', 'name': 'Apolar contact'},\n",
       " {'position': '2', 'name': 'Aromatic face-to-face'},\n",
       " {'position': '3', 'name': 'Aromatic edge-to-face'},\n",
       " {'position': '4', 'name': 'Hydrogen bond donor (protein)'},\n",
       " {'position': '5', 'name': 'Hydrogen bond acceptor (protein)'},\n",
       " {'position': '6', 'name': 'Protein cation - ligand anion'},\n",
       " {'position': '7', 'name': 'Protein anion - ligand cation'}]"
      ]
     },
     "execution_count": 10,
     "metadata": {},
     "output_type": "execute_result"
    }
   ],
   "source": [
    "KLIFS_CLIENT.Interactions.get_interactions_get_types().response().result"
   ]
  },
  {
   "cell_type": "markdown",
   "metadata": {},
   "source": [
    "This results in an IFP with $85 \\cdot 7 = 595$ bits. Let's look at the IFP for our example structure:"
   ]
  },
  {
   "cell_type": "code",
   "execution_count": 11,
   "metadata": {},
   "outputs": [
    {
     "data": {
      "text/plain": [
       "[{'structure_ID': 782,\n",
       "  'IFP': '0000000000000010000001000000000000000000000000000000000000000000000000100000000000000000000000000010000001000000100000000000000000000000000000000000000000000000000000000000000000000000000001000000000000000000000000000000000000000000000000000000010000001000000100000000000000000000000000000000001000000100000010000001000000100000010011000000000000000010000000000000000000000000000000000000000000000000000000000000000000000000000000000000000000000000000000000000000000000000000000000000000000000000000000000000000000000000000000000000100000000000000000000100000010000001010000000000010000000000000'}]"
      ]
     },
     "execution_count": 11,
     "metadata": {},
     "output_type": "execute_result"
    }
   ],
   "source": [
    "structure_klifs_id = structure.structure_ID\n",
    "interaction_fingerprints = (\n",
    "    KLIFS_CLIENT.Interactions.get_interactions_get_IFP(structure_ID=[structure_klifs_id])\n",
    "    .response()\n",
    "    .result\n",
    ")\n",
    "interaction_fingerprints"
   ]
  },
  {
   "cell_type": "markdown",
   "metadata": {},
   "source": [
    "Further below in this talktorial, we will show a quick example of how you could use this IFP information."
   ]
  },
  {
   "cell_type": "markdown",
   "metadata": {},
   "source": [
    "#### 6. Structure coordinates\n",
    "\n",
    "We explored so far a lot the structure properties. Let's get the actual structural data for this first structure in the form of a string that contains the atomic coordinates for the kinase-ligand complex."
   ]
  },
  {
   "cell_type": "code",
   "execution_count": 12,
   "metadata": {},
   "outputs": [
    {
     "data": {
      "text/plain": [
       "['ATOM     67  N   GLU A 709      18.017  26.733  45.799  1.00  0.00           N  ',\n",
       " 'ATOM     68  CA  GLU A 709      17.685  25.527  46.562  1.00  0.00           C  ',\n",
       " 'ATOM     69  C   GLU A 709      17.372  25.814  48.036  1.00  0.00           C  ',\n",
       " 'ATOM     70  O   GLU A 709      16.634  25.071  48.672  1.00  0.00           O  ',\n",
       " 'ATOM     71  CB  GLU A 709      18.816  24.503  46.474  1.00  0.00           C  ',\n",
       " 'ATOM     72  CG  GLU A 709      18.851  23.724  45.177  1.00  0.00           C  ',\n",
       " 'ATOM     73  CD  GLU A 709      19.877  22.613  45.199  1.00  0.00           C  ',\n",
       " 'ATOM     74  OE1 GLU A 709      19.470  21.427  45.212  1.00  0.00           O  ',\n",
       " 'ATOM     75  OE2 GLU A 709      21.088  22.925  45.212  1.00  0.00           O1-',\n",
       " 'ATOM     76  N   THR A 710      17.928  26.893  48.572  1.00  0.00           N  ']"
      ]
     },
     "execution_count": 12,
     "metadata": {},
     "output_type": "execute_result"
    }
   ],
   "source": [
    "complex_coordinates = (\n",
    "    KLIFS_CLIENT.Structures.get_structure_get_pdb_complex(structure_ID=structures[0].structure_ID)\n",
    "    .response()\n",
    "    .result\n",
    ")\n",
    "# Show some example rows\n",
    "complex_coordinates.split(\"\\n\")[100:110]"
   ]
  },
  {
   "cell_type": "markdown",
   "metadata": {},
   "source": [
    "#### 7. Ligands\n",
    "\n",
    "Last but not least, let's have quick look at another important resource in KLIFS. For each ligand, it is possible to extract all bioactivities measured for different kinases. The bioactivity data comes from ChEMBL, a manually curated compound database (check out __Talktorial T001__ for more information about ChEMBL)."
   ]
  },
  {
   "cell_type": "code",
   "execution_count": 13,
   "metadata": {},
   "outputs": [
    {
     "data": {
      "text/markdown": [
       "Number of ChEMBL bioactivity values available at KLIFS for example ligand W19: 10\n",
       "\n",
       "Example bioactivity:"
      ],
      "text/plain": [
       "<IPython.core.display.Markdown object>"
      ]
     },
     "metadata": {},
     "output_type": "display_data"
    },
    {
     "data": {
      "text/plain": [
       "{'pref_name': 'Dual specificity mitogen-activated protein kinase kinase 5',\n",
       " 'accession': 'Q13163',\n",
       " 'organism': 'Homo sapiens',\n",
       " 'standard_type': 'IC50',\n",
       " 'standard_relation': '=',\n",
       " 'standard_value': '870.0',\n",
       " 'standard_units': 'nM',\n",
       " 'pchembl_value': '6.06'}"
      ]
     },
     "execution_count": 13,
     "metadata": {},
     "output_type": "execute_result"
    }
   ],
   "source": [
    "bioactivities = (\n",
    "    KLIFS_CLIENT.Ligands.get_bioactivity_list_pdb(ligand_PDB=structure.ligand).response().result\n",
    ")\n",
    "display(Markdown(\n",
    "    f\"Number of ChEMBL bioactivity values available at KLIFS for example ligand {structure.ligand}: {len(bioactivities)}\\n\\n\"\n",
    "    f\"Example bioactivity:\"\n",
    "))\n",
    "bioactivities[0]"
   ]
  },
  {
   "cell_type": "markdown",
   "metadata": {},
   "source": [
    "### Case study: EGFR (using `opencadd`)"
   ]
  },
  {
   "cell_type": "markdown",
   "metadata": {},
   "source": [
    "After introducing the KLIFS OpenAPI above, we will use now the `opencadd.databases.klifs` module, which is a wrapper for this KLIFS client. \n",
    "As mentioned in the _Theory_ section of this talktorial, this module returns all responses as `pandas` DataFrames for easy and quick manipulation."
   ]
  },
  {
   "cell_type": "code",
   "execution_count": 14,
   "metadata": {},
   "outputs": [
    {
     "name": "stderr",
     "output_type": "stream",
     "text": [
      "INFO:opencadd.databases.klifs.api:Set up remote session...\n",
      "INFO:opencadd.databases.klifs.api:Remote session is ready!\n"
     ]
    }
   ],
   "source": [
    "from opencadd.databases.klifs import setup_remote\n",
    "\n",
    "session = setup_remote()"
   ]
  },
  {
   "cell_type": "markdown",
   "metadata": {},
   "source": [
    "#### 1. Get all structures for EGFR"
   ]
  },
  {
   "cell_type": "code",
   "execution_count": 15,
   "metadata": {},
   "outputs": [
    {
     "data": {
      "text/markdown": [
       "Number of structures for the kinase EGFR: 425"
      ],
      "text/plain": [
       "<IPython.core.display.Markdown object>"
      ]
     },
     "metadata": {},
     "output_type": "display_data"
    }
   ],
   "source": [
    "structures = session.structures.by_kinase_klifs_id(kinase_klifs_id)\n",
    "display(Markdown(f\"Number of structures for the kinase {kinase_name}: {len(structures)}\"))"
   ]
  },
  {
   "cell_type": "code",
   "execution_count": 16,
   "metadata": {},
   "outputs": [
    {
     "data": {
      "text/markdown": [
       "Number of IFPs for EGFR: 383\n",
       "\n",
       "Show example IFPs:"
      ],
      "text/plain": [
       "<IPython.core.display.Markdown object>"
      ]
     },
     "metadata": {},
     "output_type": "display_data"
    },
    {
     "data": {
      "text/html": [
       "<div>\n",
       "<style scoped>\n",
       "    .dataframe tbody tr th:only-of-type {\n",
       "        vertical-align: middle;\n",
       "    }\n",
       "\n",
       "    .dataframe tbody tr th {\n",
       "        vertical-align: top;\n",
       "    }\n",
       "\n",
       "    .dataframe thead th {\n",
       "        text-align: right;\n",
       "    }\n",
       "</style>\n",
       "<table border=\"1\" class=\"dataframe\">\n",
       "  <thead>\n",
       "    <tr style=\"text-align: right;\">\n",
       "      <th></th>\n",
       "      <th>structure.klifs_id</th>\n",
       "      <th>interaction.fingerprint</th>\n",
       "    </tr>\n",
       "  </thead>\n",
       "  <tbody>\n",
       "    <tr>\n",
       "      <th>0</th>\n",
       "      <td>775</td>\n",
       "      <td>0000000000000010000000000000000000000000000000...</td>\n",
       "    </tr>\n",
       "    <tr>\n",
       "      <th>1</th>\n",
       "      <td>777</td>\n",
       "      <td>0000000000000010000001000000000000000000000000...</td>\n",
       "    </tr>\n",
       "    <tr>\n",
       "      <th>2</th>\n",
       "      <td>778</td>\n",
       "      <td>0000000000000010000000000000000000000000000000...</td>\n",
       "    </tr>\n",
       "    <tr>\n",
       "      <th>3</th>\n",
       "      <td>779</td>\n",
       "      <td>0000000000000010000001000000000000000000000000...</td>\n",
       "    </tr>\n",
       "    <tr>\n",
       "      <th>4</th>\n",
       "      <td>781</td>\n",
       "      <td>0000000000000010000001000000000000000000000000...</td>\n",
       "    </tr>\n",
       "  </tbody>\n",
       "</table>\n",
       "</div>"
      ],
      "text/plain": [
       "   structure.klifs_id                            interaction.fingerprint\n",
       "0                 775  0000000000000010000000000000000000000000000000...\n",
       "1                 777  0000000000000010000001000000000000000000000000...\n",
       "2                 778  0000000000000010000000000000000000000000000000...\n",
       "3                 779  0000000000000010000001000000000000000000000000...\n",
       "4                 781  0000000000000010000001000000000000000000000000..."
      ]
     },
     "execution_count": 16,
     "metadata": {},
     "output_type": "execute_result"
    }
   ],
   "source": [
    "structure_klifs_ids = structures[\"structure.klifs_id\"].to_list()\n",
    "interaction_fingerprints = session.interactions.by_structure_klifs_id(structure_klifs_ids)\n",
    "display(Markdown(\n",
    "    f\"Number of IFPs for {kinase_name}: {len(interaction_fingerprints)}\\n\\n\"\n",
    "    f\"Show example IFPs:\"\n",
    "))\n",
    "interaction_fingerprints.head()"
   ]
  },
  {
   "cell_type": "markdown",
   "metadata": {},
   "source": [
    "#### 2. Average interaction fingerprint"
   ]
  },
  {
   "cell_type": "markdown",
   "metadata": {},
   "source": [
    "Let's aggregate the information about interaction types per residue positions from all ligand-bound structures that are available for our kinase of interest. "
   ]
  },
  {
   "cell_type": "code",
   "execution_count": 17,
   "metadata": {},
   "outputs": [],
   "source": [
    "def average_n_interactions_per_residue(structure_klifs_ids):\n",
    "    \"\"\"\n",
    "    Generate residue position x interaction type matrix that contains the average number of interactions per residue and interaction type.\n",
    "\n",
    "    Parameters\n",
    "    ----------\n",
    "    structure_klifs_ids : list of int\n",
    "        Structure KLIFS IDs.\n",
    "\n",
    "    Returns\n",
    "    -------\n",
    "    pandas.DataFrame\n",
    "        Average number of interactions per residue (rows) and interaction type (columns).\n",
    "    \"\"\"\n",
    "\n",
    "    # Get IFP (is returned from KLIFS as string)\n",
    "    ifps = session.interactions.by_structure_klifs_id(structure_klifs_ids)\n",
    "    # Split string into list of int (0, 1): structures x IFP bits matrix\n",
    "    ifps = pd.DataFrame(ifps[\"interaction.fingerprint\"].apply(lambda x: list(x)).to_list())\n",
    "    ifps = ifps.astype(\"int32\")\n",
    "    # Sum up all interaction per bit position and normalize by number of IFPs\n",
    "    ifp_relative = (ifps.sum() / len(ifps)).to_list()\n",
    "    # Transform aggregated IFP into residue position x interaction type matrix\n",
    "    residue_feature_matrix = pd.DataFrame(\n",
    "        [ifp_relative[i : i + 7] for i in range(0, len(ifp_relative), 7)], index=range(1, 86)\n",
    "    )\n",
    "    # Add interaction type names\n",
    "    residue_feature_matrix.columns = session.interactions.interaction_types[\n",
    "        \"interaction.name\"\n",
    "    ].to_list()\n",
    "    return residue_feature_matrix"
   ]
  },
  {
   "cell_type": "code",
   "execution_count": 18,
   "metadata": {},
   "outputs": [
    {
     "data": {
      "text/markdown": [
       "Calculated average interactions per interaction type (feature) and residue position:\n",
       "\n",
       "**Interaction types** (columns): Apolar contact, Aromatic face-to-face, Aromatic edge-to-face, Hydrogen bond donor (protein), Hydrogen bond acceptor (protein), Protein cation - ligand anion, Protein anion - ligand cation\n",
       "\n",
       "**Residue positions** (rows): RangeIndex(start=1, stop=86, step=1)"
      ],
      "text/plain": [
       "<IPython.core.display.Markdown object>"
      ]
     },
     "metadata": {},
     "output_type": "display_data"
    }
   ],
   "source": [
    "residue_feature_matrix = average_n_interactions_per_residue(structure_klifs_ids)\n",
    "display(Markdown(\n",
    "    f\"Calculated average interactions per interaction type (feature) and residue position:\\n\\n\"\n",
    "    f\"**Interaction types** (columns): {', '.join(residue_feature_matrix.columns)}\\n\\n\"\n",
    "    f\"**Residue positions** (rows): {residue_feature_matrix.index}\"\n",
    "))\n",
    "# NBVAL_CHECK_OUTPUT"
   ]
  },
  {
   "cell_type": "code",
   "execution_count": 19,
   "metadata": {},
   "outputs": [
    {
     "data": {
      "text/html": [
       "<div>\n",
       "<style scoped>\n",
       "    .dataframe tbody tr th:only-of-type {\n",
       "        vertical-align: middle;\n",
       "    }\n",
       "\n",
       "    .dataframe tbody tr th {\n",
       "        vertical-align: top;\n",
       "    }\n",
       "\n",
       "    .dataframe thead th {\n",
       "        text-align: right;\n",
       "    }\n",
       "</style>\n",
       "<table border=\"1\" class=\"dataframe\">\n",
       "  <thead>\n",
       "    <tr style=\"text-align: right;\">\n",
       "      <th></th>\n",
       "      <th>Apolar contact</th>\n",
       "      <th>Aromatic face-to-face</th>\n",
       "      <th>Aromatic edge-to-face</th>\n",
       "      <th>Hydrogen bond donor (protein)</th>\n",
       "      <th>Hydrogen bond acceptor (protein)</th>\n",
       "      <th>Protein cation - ligand anion</th>\n",
       "      <th>Protein anion - ligand cation</th>\n",
       "    </tr>\n",
       "  </thead>\n",
       "  <tbody>\n",
       "    <tr>\n",
       "      <th>1</th>\n",
       "      <td>0.000000</td>\n",
       "      <td>0.0</td>\n",
       "      <td>0.0</td>\n",
       "      <td>0.0</td>\n",
       "      <td>0.000000</td>\n",
       "      <td>0.0</td>\n",
       "      <td>0.0</td>\n",
       "    </tr>\n",
       "    <tr>\n",
       "      <th>2</th>\n",
       "      <td>0.000000</td>\n",
       "      <td>0.0</td>\n",
       "      <td>0.0</td>\n",
       "      <td>0.0</td>\n",
       "      <td>0.000000</td>\n",
       "      <td>0.0</td>\n",
       "      <td>0.0</td>\n",
       "    </tr>\n",
       "    <tr>\n",
       "      <th>3</th>\n",
       "      <td>0.992167</td>\n",
       "      <td>0.0</td>\n",
       "      <td>0.0</td>\n",
       "      <td>0.0</td>\n",
       "      <td>0.005222</td>\n",
       "      <td>0.0</td>\n",
       "      <td>0.0</td>\n",
       "    </tr>\n",
       "    <tr>\n",
       "      <th>4</th>\n",
       "      <td>0.686684</td>\n",
       "      <td>0.0</td>\n",
       "      <td>0.0</td>\n",
       "      <td>0.0</td>\n",
       "      <td>0.000000</td>\n",
       "      <td>0.0</td>\n",
       "      <td>0.0</td>\n",
       "    </tr>\n",
       "    <tr>\n",
       "      <th>5</th>\n",
       "      <td>0.347258</td>\n",
       "      <td>0.0</td>\n",
       "      <td>0.0</td>\n",
       "      <td>0.0</td>\n",
       "      <td>0.000000</td>\n",
       "      <td>0.0</td>\n",
       "      <td>0.0</td>\n",
       "    </tr>\n",
       "  </tbody>\n",
       "</table>\n",
       "</div>"
      ],
      "text/plain": [
       "   Apolar contact  Aromatic face-to-face  Aromatic edge-to-face  \\\n",
       "1        0.000000                    0.0                    0.0   \n",
       "2        0.000000                    0.0                    0.0   \n",
       "3        0.992167                    0.0                    0.0   \n",
       "4        0.686684                    0.0                    0.0   \n",
       "5        0.347258                    0.0                    0.0   \n",
       "\n",
       "   Hydrogen bond donor (protein)  Hydrogen bond acceptor (protein)  \\\n",
       "1                            0.0                          0.000000   \n",
       "2                            0.0                          0.000000   \n",
       "3                            0.0                          0.005222   \n",
       "4                            0.0                          0.000000   \n",
       "5                            0.0                          0.000000   \n",
       "\n",
       "   Protein cation - ligand anion  Protein anion - ligand cation  \n",
       "1                            0.0                            0.0  \n",
       "2                            0.0                            0.0  \n",
       "3                            0.0                            0.0  \n",
       "4                            0.0                            0.0  \n",
       "5                            0.0                            0.0  "
      ]
     },
     "execution_count": 19,
     "metadata": {},
     "output_type": "execute_result"
    }
   ],
   "source": [
    "residue_feature_matrix.head()"
   ]
  },
  {
   "cell_type": "code",
   "execution_count": 20,
   "metadata": {},
   "outputs": [
    {
     "data": {
      "image/png": "[encoded data removed]",
      "text/plain": [
       "<Figure size 1080x360 with 1 Axes>"
      ]
     },
     "metadata": {
      "needs_background": "light"
     },
     "output_type": "display_data"
    }
   ],
   "source": [
    "residue_feature_matrix.plot.bar(\n",
    "    figsize=(15, 5),\n",
    "    stacked=True,\n",
    "    xlabel=\"KLIFS pocket residue position\",\n",
    "    ylabel=\"Average number of interactions (per interaction type)\",\n",
    "    color=[\"grey\", \"green\", \"limegreen\", \"red\", \"blue\", \"orange\", \"cyan\"],\n",
    ");"
   ]
  },
  {
   "cell_type": "markdown",
   "metadata": {},
   "source": [
    "The apolar contacts nicely show which residues are in close contact with the mainly hydrophobic ligand. Most ligands show hydrogen bonding at position 48, which is part of the binding site's hinge region, a key region for kinase-ligand binding."
   ]
  },
  {
   "cell_type": "markdown",
   "metadata": {},
   "source": [
    "#### 3. Select an example EGFR-Gefitinib structure "
   ]
  },
  {
   "cell_type": "markdown",
   "metadata": {},
   "source": [
    "Keep only structures bound by a ligand of interest (`ligand_expo_id`), sort them by highest resolution and show the top 10 structures."
   ]
  },
  {
   "cell_type": "code",
   "execution_count": 21,
   "metadata": {},
   "outputs": [
    {
     "data": {
      "text/html": [
       "<div>\n",
       "<style scoped>\n",
       "    .dataframe tbody tr th:only-of-type {\n",
       "        vertical-align: middle;\n",
       "    }\n",
       "\n",
       "    .dataframe tbody tr th {\n",
       "        vertical-align: top;\n",
       "    }\n",
       "\n",
       "    .dataframe thead th {\n",
       "        text-align: right;\n",
       "    }\n",
       "</style>\n",
       "<table border=\"1\" class=\"dataframe\">\n",
       "  <thead>\n",
       "    <tr style=\"text-align: right;\">\n",
       "      <th></th>\n",
       "      <th>structure.klifs_id</th>\n",
       "      <th>structure.pdb_id</th>\n",
       "      <th>structure.alternate_model</th>\n",
       "      <th>structure.chain</th>\n",
       "      <th>species.klifs</th>\n",
       "      <th>kinase.klifs_id</th>\n",
       "      <th>kinase.klifs_name</th>\n",
       "      <th>kinase.family</th>\n",
       "      <th>kinase.group</th>\n",
       "      <th>structure.pocket</th>\n",
       "      <th>ligand.expo_id</th>\n",
       "      <th>ligand_allosteric.expo_id</th>\n",
       "      <th>ligand.name</th>\n",
       "      <th>ligand_allosteric.name</th>\n",
       "      <th>structure.dfg</th>\n",
       "      <th>structure.ac_helix</th>\n",
       "      <th>structure.resolution</th>\n",
       "      <th>structure.qualityscore</th>\n",
       "      <th>structure.missing_residues</th>\n",
       "      <th>structure.missing_atoms</th>\n",
       "      <th>structure.rmsd1</th>\n",
       "      <th>structure.rmsd2</th>\n",
       "      <th>structure.front</th>\n",
       "      <th>structure.gate</th>\n",
       "      <th>structure.back</th>\n",
       "      <th>structure.fp_i</th>\n",
       "      <th>structure.fp_ii</th>\n",
       "      <th>structure.bp_i_a</th>\n",
       "      <th>structure.bp_i_b</th>\n",
       "      <th>structure.bp_ii_in</th>\n",
       "      <th>structure.bp_ii_a_in</th>\n",
       "      <th>structure.bp_ii_b_in</th>\n",
       "      <th>structure.bp_ii_out</th>\n",
       "      <th>structure.bp_ii_b</th>\n",
       "      <th>structure.bp_iii</th>\n",
       "      <th>structure.bp_iv</th>\n",
       "      <th>structure.bp_v</th>\n",
       "      <th>structure.grich_distance</th>\n",
       "      <th>structure.grich_angle</th>\n",
       "      <th>structure.grich_rotation</th>\n",
       "      <th>structure.filepath</th>\n",
       "    </tr>\n",
       "  </thead>\n",
       "  <tbody>\n",
       "    <tr>\n",
       "      <th>42</th>\n",
       "      <td>823</td>\n",
       "      <td>4i22</td>\n",
       "      <td>-</td>\n",
       "      <td>A</td>\n",
       "      <td>Human</td>\n",
       "      <td>406</td>\n",
       "      <td>EGFR</td>\n",
       "      <td>None</td>\n",
       "      <td>None</td>\n",
       "      <td>KVLGSGAFGTVYKVAIKELEILDEAYVMASVDPHVCRLLGIQLIMQ...</td>\n",
       "      <td>IRE</td>\n",
       "      <td>-</td>\n",
       "      <td>None</td>\n",
       "      <td>None</td>\n",
       "      <td>in</td>\n",
       "      <td>out</td>\n",
       "      <td>1.71</td>\n",
       "      <td>8.0</td>\n",
       "      <td>0</td>\n",
       "      <td>0</td>\n",
       "      <td>0.810</td>\n",
       "      <td>2.159</td>\n",
       "      <td>True</td>\n",
       "      <td>True</td>\n",
       "      <td>False</td>\n",
       "      <td>False</td>\n",
       "      <td>False</td>\n",
       "      <td>True</td>\n",
       "      <td>True</td>\n",
       "      <td>False</td>\n",
       "      <td>False</td>\n",
       "      <td>False</td>\n",
       "      <td>False</td>\n",
       "      <td>False</td>\n",
       "      <td>False</td>\n",
       "      <td>False</td>\n",
       "      <td>False</td>\n",
       "      <td>14.6390</td>\n",
       "      <td>47.5394</td>\n",
       "      <td>47.9735</td>\n",
       "      <td>None</td>\n",
       "    </tr>\n",
       "    <tr>\n",
       "      <th>47</th>\n",
       "      <td>837</td>\n",
       "      <td>4wkq</td>\n",
       "      <td>B</td>\n",
       "      <td>A</td>\n",
       "      <td>Human</td>\n",
       "      <td>406</td>\n",
       "      <td>EGFR</td>\n",
       "      <td>None</td>\n",
       "      <td>None</td>\n",
       "      <td>KVLGSG___TVYKVAIKE_EILDEAYVMASVDPHVCRLLGIQLITQ...</td>\n",
       "      <td>IRE</td>\n",
       "      <td>-</td>\n",
       "      <td>None</td>\n",
       "      <td>None</td>\n",
       "      <td>in</td>\n",
       "      <td>in</td>\n",
       "      <td>1.85</td>\n",
       "      <td>6.7</td>\n",
       "      <td>5</td>\n",
       "      <td>13</td>\n",
       "      <td>0.776</td>\n",
       "      <td>1.995</td>\n",
       "      <td>True</td>\n",
       "      <td>True</td>\n",
       "      <td>False</td>\n",
       "      <td>False</td>\n",
       "      <td>False</td>\n",
       "      <td>True</td>\n",
       "      <td>True</td>\n",
       "      <td>False</td>\n",
       "      <td>False</td>\n",
       "      <td>False</td>\n",
       "      <td>False</td>\n",
       "      <td>False</td>\n",
       "      <td>False</td>\n",
       "      <td>False</td>\n",
       "      <td>False</td>\n",
       "      <td>0.0000</td>\n",
       "      <td>0.0000</td>\n",
       "      <td>0.0000</td>\n",
       "      <td>None</td>\n",
       "    </tr>\n",
       "    <tr>\n",
       "      <th>93</th>\n",
       "      <td>889</td>\n",
       "      <td>4wkq</td>\n",
       "      <td>A</td>\n",
       "      <td>A</td>\n",
       "      <td>Human</td>\n",
       "      <td>406</td>\n",
       "      <td>EGFR</td>\n",
       "      <td>None</td>\n",
       "      <td>None</td>\n",
       "      <td>KVLGSG___TVYKVAIKE_EILDEAYVMASVDPHVCRLLGIQLITQ...</td>\n",
       "      <td>IRE</td>\n",
       "      <td>-</td>\n",
       "      <td>None</td>\n",
       "      <td>None</td>\n",
       "      <td>in</td>\n",
       "      <td>in</td>\n",
       "      <td>1.85</td>\n",
       "      <td>6.7</td>\n",
       "      <td>5</td>\n",
       "      <td>13</td>\n",
       "      <td>0.776</td>\n",
       "      <td>1.995</td>\n",
       "      <td>True</td>\n",
       "      <td>True</td>\n",
       "      <td>False</td>\n",
       "      <td>False</td>\n",
       "      <td>False</td>\n",
       "      <td>True</td>\n",
       "      <td>True</td>\n",
       "      <td>False</td>\n",
       "      <td>False</td>\n",
       "      <td>False</td>\n",
       "      <td>False</td>\n",
       "      <td>False</td>\n",
       "      <td>False</td>\n",
       "      <td>False</td>\n",
       "      <td>False</td>\n",
       "      <td>0.0000</td>\n",
       "      <td>0.0000</td>\n",
       "      <td>0.0000</td>\n",
       "      <td>None</td>\n",
       "    </tr>\n",
       "    <tr>\n",
       "      <th>23</th>\n",
       "      <td>819</td>\n",
       "      <td>3ug2</td>\n",
       "      <td>B</td>\n",
       "      <td>A</td>\n",
       "      <td>Human</td>\n",
       "      <td>406</td>\n",
       "      <td>EGFR</td>\n",
       "      <td>None</td>\n",
       "      <td>None</td>\n",
       "      <td>KVLSSG___TVYKVAIKE_EILDEAYVMASVDPHVCRLLGIQLIMQ...</td>\n",
       "      <td>IRE</td>\n",
       "      <td>-</td>\n",
       "      <td>None</td>\n",
       "      <td>None</td>\n",
       "      <td>in</td>\n",
       "      <td>in</td>\n",
       "      <td>2.50</td>\n",
       "      <td>7.6</td>\n",
       "      <td>4</td>\n",
       "      <td>8</td>\n",
       "      <td>0.778</td>\n",
       "      <td>2.014</td>\n",
       "      <td>True</td>\n",
       "      <td>True</td>\n",
       "      <td>True</td>\n",
       "      <td>False</td>\n",
       "      <td>False</td>\n",
       "      <td>True</td>\n",
       "      <td>True</td>\n",
       "      <td>False</td>\n",
       "      <td>False</td>\n",
       "      <td>False</td>\n",
       "      <td>False</td>\n",
       "      <td>False</td>\n",
       "      <td>False</td>\n",
       "      <td>False</td>\n",
       "      <td>False</td>\n",
       "      <td>0.0000</td>\n",
       "      <td>0.0000</td>\n",
       "      <td>0.0000</td>\n",
       "      <td>None</td>\n",
       "    </tr>\n",
       "    <tr>\n",
       "      <th>98</th>\n",
       "      <td>898</td>\n",
       "      <td>3ug2</td>\n",
       "      <td>A</td>\n",
       "      <td>A</td>\n",
       "      <td>Human</td>\n",
       "      <td>406</td>\n",
       "      <td>EGFR</td>\n",
       "      <td>None</td>\n",
       "      <td>None</td>\n",
       "      <td>KVLSSG___TVYKVAIKE_EILDEAYVMASVDPHVCRLLGIQLIMQ...</td>\n",
       "      <td>IRE</td>\n",
       "      <td>-</td>\n",
       "      <td>None</td>\n",
       "      <td>None</td>\n",
       "      <td>in</td>\n",
       "      <td>in</td>\n",
       "      <td>2.50</td>\n",
       "      <td>7.6</td>\n",
       "      <td>4</td>\n",
       "      <td>8</td>\n",
       "      <td>0.778</td>\n",
       "      <td>2.014</td>\n",
       "      <td>True</td>\n",
       "      <td>True</td>\n",
       "      <td>True</td>\n",
       "      <td>False</td>\n",
       "      <td>False</td>\n",
       "      <td>True</td>\n",
       "      <td>True</td>\n",
       "      <td>False</td>\n",
       "      <td>False</td>\n",
       "      <td>False</td>\n",
       "      <td>False</td>\n",
       "      <td>False</td>\n",
       "      <td>False</td>\n",
       "      <td>False</td>\n",
       "      <td>False</td>\n",
       "      <td>0.0000</td>\n",
       "      <td>0.0000</td>\n",
       "      <td>0.0000</td>\n",
       "      <td>None</td>\n",
       "    </tr>\n",
       "    <tr>\n",
       "      <th>18</th>\n",
       "      <td>789</td>\n",
       "      <td>2itz</td>\n",
       "      <td>-</td>\n",
       "      <td>A</td>\n",
       "      <td>Human</td>\n",
       "      <td>406</td>\n",
       "      <td>EGFR</td>\n",
       "      <td>None</td>\n",
       "      <td>None</td>\n",
       "      <td>KVLGSGAFGTVYKVAIKELEILDEAYVMASVDPHVCRLLGIQLITQ...</td>\n",
       "      <td>IRE</td>\n",
       "      <td>-</td>\n",
       "      <td>None</td>\n",
       "      <td>None</td>\n",
       "      <td>in</td>\n",
       "      <td>in</td>\n",
       "      <td>2.72</td>\n",
       "      <td>9.4</td>\n",
       "      <td>0</td>\n",
       "      <td>6</td>\n",
       "      <td>0.776</td>\n",
       "      <td>2.097</td>\n",
       "      <td>True</td>\n",
       "      <td>True</td>\n",
       "      <td>False</td>\n",
       "      <td>False</td>\n",
       "      <td>False</td>\n",
       "      <td>True</td>\n",
       "      <td>True</td>\n",
       "      <td>False</td>\n",
       "      <td>False</td>\n",
       "      <td>False</td>\n",
       "      <td>False</td>\n",
       "      <td>False</td>\n",
       "      <td>False</td>\n",
       "      <td>False</td>\n",
       "      <td>False</td>\n",
       "      <td>18.0567</td>\n",
       "      <td>58.1317</td>\n",
       "      <td>30.0730</td>\n",
       "      <td>None</td>\n",
       "    </tr>\n",
       "    <tr>\n",
       "      <th>2</th>\n",
       "      <td>783</td>\n",
       "      <td>2ito</td>\n",
       "      <td>-</td>\n",
       "      <td>A</td>\n",
       "      <td>Human</td>\n",
       "      <td>406</td>\n",
       "      <td>EGFR</td>\n",
       "      <td>None</td>\n",
       "      <td>None</td>\n",
       "      <td>KVLSSGAFGTVYKVAIKELEILDEAYVMASVDPHVCRLLGIQLITQ...</td>\n",
       "      <td>IRE</td>\n",
       "      <td>-</td>\n",
       "      <td>None</td>\n",
       "      <td>None</td>\n",
       "      <td>in</td>\n",
       "      <td>in</td>\n",
       "      <td>3.25</td>\n",
       "      <td>8.0</td>\n",
       "      <td>0</td>\n",
       "      <td>0</td>\n",
       "      <td>0.778</td>\n",
       "      <td>2.096</td>\n",
       "      <td>True</td>\n",
       "      <td>True</td>\n",
       "      <td>False</td>\n",
       "      <td>False</td>\n",
       "      <td>False</td>\n",
       "      <td>True</td>\n",
       "      <td>True</td>\n",
       "      <td>False</td>\n",
       "      <td>False</td>\n",
       "      <td>False</td>\n",
       "      <td>False</td>\n",
       "      <td>False</td>\n",
       "      <td>False</td>\n",
       "      <td>False</td>\n",
       "      <td>False</td>\n",
       "      <td>19.7766</td>\n",
       "      <td>63.3167</td>\n",
       "      <td>23.7491</td>\n",
       "      <td>None</td>\n",
       "    </tr>\n",
       "    <tr>\n",
       "      <th>20</th>\n",
       "      <td>790</td>\n",
       "      <td>2ity</td>\n",
       "      <td>-</td>\n",
       "      <td>A</td>\n",
       "      <td>Human</td>\n",
       "      <td>406</td>\n",
       "      <td>EGFR</td>\n",
       "      <td>None</td>\n",
       "      <td>None</td>\n",
       "      <td>KVLGSGAFGTVYKVAIKELEILDEAYVMASVDPHVCRLLGIQLITQ...</td>\n",
       "      <td>IRE</td>\n",
       "      <td>-</td>\n",
       "      <td>None</td>\n",
       "      <td>None</td>\n",
       "      <td>in</td>\n",
       "      <td>in</td>\n",
       "      <td>3.42</td>\n",
       "      <td>8.0</td>\n",
       "      <td>0</td>\n",
       "      <td>0</td>\n",
       "      <td>0.778</td>\n",
       "      <td>2.103</td>\n",
       "      <td>True</td>\n",
       "      <td>True</td>\n",
       "      <td>False</td>\n",
       "      <td>False</td>\n",
       "      <td>False</td>\n",
       "      <td>True</td>\n",
       "      <td>True</td>\n",
       "      <td>False</td>\n",
       "      <td>False</td>\n",
       "      <td>False</td>\n",
       "      <td>False</td>\n",
       "      <td>False</td>\n",
       "      <td>False</td>\n",
       "      <td>False</td>\n",
       "      <td>False</td>\n",
       "      <td>19.5474</td>\n",
       "      <td>62.9767</td>\n",
       "      <td>21.9343</td>\n",
       "      <td>None</td>\n",
       "    </tr>\n",
       "  </tbody>\n",
       "</table>\n",
       "</div>"
      ],
      "text/plain": [
       "    structure.klifs_id structure.pdb_id structure.alternate_model  \\\n",
       "42                 823             4i22                         -   \n",
       "47                 837             4wkq                         B   \n",
       "93                 889             4wkq                         A   \n",
       "23                 819             3ug2                         B   \n",
       "98                 898             3ug2                         A   \n",
       "18                 789             2itz                         -   \n",
       "2                  783             2ito                         -   \n",
       "20                 790             2ity                         -   \n",
       "\n",
       "   structure.chain species.klifs  kinase.klifs_id kinase.klifs_name  \\\n",
       "42               A         Human              406              EGFR   \n",
       "47               A         Human              406              EGFR   \n",
       "93               A         Human              406              EGFR   \n",
       "23               A         Human              406              EGFR   \n",
       "98               A         Human              406              EGFR   \n",
       "18               A         Human              406              EGFR   \n",
       "2                A         Human              406              EGFR   \n",
       "20               A         Human              406              EGFR   \n",
       "\n",
       "   kinase.family kinase.group  \\\n",
       "42          None         None   \n",
       "47          None         None   \n",
       "93          None         None   \n",
       "23          None         None   \n",
       "98          None         None   \n",
       "18          None         None   \n",
       "2           None         None   \n",
       "20          None         None   \n",
       "\n",
       "                                     structure.pocket ligand.expo_id  \\\n",
       "42  KVLGSGAFGTVYKVAIKELEILDEAYVMASVDPHVCRLLGIQLIMQ...            IRE   \n",
       "47  KVLGSG___TVYKVAIKE_EILDEAYVMASVDPHVCRLLGIQLITQ...            IRE   \n",
       "93  KVLGSG___TVYKVAIKE_EILDEAYVMASVDPHVCRLLGIQLITQ...            IRE   \n",
       "23  KVLSSG___TVYKVAIKE_EILDEAYVMASVDPHVCRLLGIQLIMQ...            IRE   \n",
       "98  KVLSSG___TVYKVAIKE_EILDEAYVMASVDPHVCRLLGIQLIMQ...            IRE   \n",
       "18  KVLGSGAFGTVYKVAIKELEILDEAYVMASVDPHVCRLLGIQLITQ...            IRE   \n",
       "2   KVLSSGAFGTVYKVAIKELEILDEAYVMASVDPHVCRLLGIQLITQ...            IRE   \n",
       "20  KVLGSGAFGTVYKVAIKELEILDEAYVMASVDPHVCRLLGIQLITQ...            IRE   \n",
       "\n",
       "   ligand_allosteric.expo_id ligand.name ligand_allosteric.name structure.dfg  \\\n",
       "42                         -        None                   None            in   \n",
       "47                         -        None                   None            in   \n",
       "93                         -        None                   None            in   \n",
       "23                         -        None                   None            in   \n",
       "98                         -        None                   None            in   \n",
       "18                         -        None                   None            in   \n",
       "2                          -        None                   None            in   \n",
       "20                         -        None                   None            in   \n",
       "\n",
       "   structure.ac_helix  structure.resolution  structure.qualityscore  \\\n",
       "42                out                  1.71                     8.0   \n",
       "47                 in                  1.85                     6.7   \n",
       "93                 in                  1.85                     6.7   \n",
       "23                 in                  2.50                     7.6   \n",
       "98                 in                  2.50                     7.6   \n",
       "18                 in                  2.72                     9.4   \n",
       "2                  in                  3.25                     8.0   \n",
       "20                 in                  3.42                     8.0   \n",
       "\n",
       "    structure.missing_residues  structure.missing_atoms  structure.rmsd1  \\\n",
       "42                           0                        0            0.810   \n",
       "47                           5                       13            0.776   \n",
       "93                           5                       13            0.776   \n",
       "23                           4                        8            0.778   \n",
       "98                           4                        8            0.778   \n",
       "18                           0                        6            0.776   \n",
       "2                            0                        0            0.778   \n",
       "20                           0                        0            0.778   \n",
       "\n",
       "    structure.rmsd2  structure.front  structure.gate  structure.back  \\\n",
       "42            2.159             True            True           False   \n",
       "47            1.995             True            True           False   \n",
       "93            1.995             True            True           False   \n",
       "23            2.014             True            True            True   \n",
       "98            2.014             True            True            True   \n",
       "18            2.097             True            True           False   \n",
       "2             2.096             True            True           False   \n",
       "20            2.103             True            True           False   \n",
       "\n",
       "    structure.fp_i  structure.fp_ii  structure.bp_i_a  structure.bp_i_b  \\\n",
       "42           False            False              True              True   \n",
       "47           False            False              True              True   \n",
       "93           False            False              True              True   \n",
       "23           False            False              True              True   \n",
       "98           False            False              True              True   \n",
       "18           False            False              True              True   \n",
       "2            False            False              True              True   \n",
       "20           False            False              True              True   \n",
       "\n",
       "    structure.bp_ii_in  structure.bp_ii_a_in  structure.bp_ii_b_in  \\\n",
       "42               False                 False                 False   \n",
       "47               False                 False                 False   \n",
       "93               False                 False                 False   \n",
       "23               False                 False                 False   \n",
       "98               False                 False                 False   \n",
       "18               False                 False                 False   \n",
       "2                False                 False                 False   \n",
       "20               False                 False                 False   \n",
       "\n",
       "    structure.bp_ii_out  structure.bp_ii_b  structure.bp_iii  structure.bp_iv  \\\n",
       "42                False              False             False            False   \n",
       "47                False              False             False            False   \n",
       "93                False              False             False            False   \n",
       "23                False              False             False            False   \n",
       "98                False              False             False            False   \n",
       "18                False              False             False            False   \n",
       "2                 False              False             False            False   \n",
       "20                False              False             False            False   \n",
       "\n",
       "    structure.bp_v  structure.grich_distance  structure.grich_angle  \\\n",
       "42           False                   14.6390                47.5394   \n",
       "47           False                    0.0000                 0.0000   \n",
       "93           False                    0.0000                 0.0000   \n",
       "23           False                    0.0000                 0.0000   \n",
       "98           False                    0.0000                 0.0000   \n",
       "18           False                   18.0567                58.1317   \n",
       "2            False                   19.7766                63.3167   \n",
       "20           False                   19.5474                62.9767   \n",
       "\n",
       "    structure.grich_rotation structure.filepath  \n",
       "42                   47.9735               None  \n",
       "47                    0.0000               None  \n",
       "93                    0.0000               None  \n",
       "23                    0.0000               None  \n",
       "98                    0.0000               None  \n",
       "18                   30.0730               None  \n",
       "2                    23.7491               None  \n",
       "20                   21.9343               None  "
      ]
     },
     "execution_count": 21,
     "metadata": {},
     "output_type": "execute_result"
    }
   ],
   "source": [
    "structures[(structures[\"ligand.expo_id\"] == ligand_expo_id)].sort_values(\n",
    "    by=\"structure.resolution\"\n",
    ").head(10)"
   ]
  },
  {
   "cell_type": "code",
   "execution_count": 22,
   "metadata": {},
   "outputs": [
    {
     "data": {
      "text/markdown": [
       "Structure KLIFS ID for best resolved IRE-bound EGFR: 823"
      ],
      "text/plain": [
       "<IPython.core.display.Markdown object>"
      ]
     },
     "metadata": {},
     "output_type": "display_data"
    }
   ],
   "source": [
    "structure_klifs_id = (\n",
    "    structures[(structures[\"ligand.expo_id\"] == ligand_expo_id)]\n",
    "    .sort_values(by=\"structure.resolution\")\n",
    "    .iloc[0][\"structure.klifs_id\"]\n",
    ")\n",
    "display(Markdown(\n",
    "    f\"Structure KLIFS ID for best resolved {ligand_expo_id}-bound {kinase_name}: {structure_klifs_id}\"\n",
    "))"
   ]
  },
  {
   "cell_type": "markdown",
   "metadata": {},
   "source": [
    "#### 4. Show the structure with `nglview`"
   ]
  },
  {
   "cell_type": "markdown",
   "metadata": {},
   "source": [
    "Let's preview the protein-ligand complex and protein with `nglview`."
   ]
  },
  {
   "cell_type": "code",
   "execution_count": 23,
   "metadata": {},
   "outputs": [],
   "source": [
    "def show_molecule(structure_text, extension=\"mol2\"):\n",
    "    \"\"\"\n",
    "    Show molecule with the nglview.\n",
    "\n",
    "    Parameters\n",
    "    ----------\n",
    "    structure_text : str\n",
    "        Structural data in the form of a string.\n",
    "    extension : str\n",
    "        Format of the structural data (default: mol2).\n",
    "\n",
    "    Returns\n",
    "    -------\n",
    "    nglview.widget.NGLWidget\n",
    "        Molecular viewer.\n",
    "    \"\"\"\n",
    "\n",
    "    v = nv.NGLWidget()\n",
    "    v.add_component(structure_text, ext=extension)\n",
    "    return v"
   ]
  },
  {
   "cell_type": "markdown",
   "metadata": {},
   "source": [
    "Let's check what kind of structural data we can get from the KLIFS database."
   ]
  },
  {
   "cell_type": "code",
   "execution_count": 24,
   "metadata": {},
   "outputs": [
    {
     "data": {
      "application/vnd.jupyter.widget-view+json": {
       "model_id": "f925f0caba444b5f81719db2ed6f1dbf",
       "version_major": 2,
       "version_minor": 0
      },
      "text/plain": [
       "NGLWidget()"
      ]
     },
     "metadata": {},
     "output_type": "display_data"
    }
   ],
   "source": [
    "structure_text = session.coordinates.to_text(structure_klifs_id, \"complex\", \"pdb\")\n",
    "v = show_molecule(structure_text, \"pdb\")\n",
    "v"
   ]
  },
  {
   "cell_type": "code",
   "execution_count": 25,
   "metadata": {},
   "outputs": [],
   "source": [
    "v.render_image();"
   ]
  },
  {
   "cell_type": "code",
   "execution_count": 26,
   "metadata": {},
   "outputs": [
    {
     "data": {
      "image/png": "\n",
      "text/plain": [
       "<IPython.core.display.Image object>"
      ]
     },
     "execution_count": 26,
     "metadata": {},
     "output_type": "execute_result"
    }
   ],
   "source": [
    "v._display_image()"
   ]
  },
  {
   "cell_type": "markdown",
   "metadata": {},
   "source": [
    "Let's highlight residues with frequent interactions (across all IFPs for a kinase with `kinase_klifs_id`, in our case kinase EGFR) in an example structure with `structure_klifs_id`. Define with `features`, which feature types you would like to look at, and with `feature_cutoff`, which cutoff to use for highlighting (`None` means you will see any residue that has shown at least one interaction across all structures)."
   ]
  },
  {
   "cell_type": "code",
   "execution_count": 27,
   "metadata": {},
   "outputs": [],
   "source": [
    "def show_kinase_feature_positions(\n",
    "    kinase_klifs_id, structure_klifs_id, features=[\"HBD\"], feature_cutoff=None\n",
    "):\n",
    "    \"\"\"\n",
    "    Show an example kinase structure and color residues showing interactions of defined type(s)\n",
    "    across interaction fingerprints for this kinase.\n",
    "\n",
    "    Parameters\n",
    "    ----------\n",
    "    kinase_klifs_id : int\n",
    "        Kinase KLIFS ID used to fetch all associated IFPs.\n",
    "    structure_klifs_id : int\n",
    "        Structure KLIFS ID used to map average feature coverage per residue.\n",
    "    features : list of str\n",
    "        One or more feature types (H, AR.f2f, AR.e2f, HBD, HBA, NI, PI).\n",
    "    feature_cutoff : int or float\n",
    "        Show only residues with a higher average feature coverage than this cutoff.\n",
    "\n",
    "    Returns\n",
    "    -------\n",
    "    nglview.widget.NGLWidget\n",
    "        Molecular viewer.\n",
    "    \"\"\"\n",
    "\n",
    "    # Get all structures KLIFS ID for a kinase\n",
    "    structures = session.structures.by_kinase_klifs_id(kinase_klifs_id)\n",
    "    structure_klifs_ids = structures[\"structure.klifs_id\"].to_list()\n",
    "    # Get aggregated residue-feature matrix from IFPs\n",
    "    residue_feature_matrix = average_n_interactions_per_residue(structure_klifs_ids)\n",
    "    residue_feature_matrix.columns = \"H AR.f2f AR.e2f HBD HBA NI PI\".split()\n",
    "    # Aggregate hydrogen bond donor/acceptor values\n",
    "    residues_features = residue_feature_matrix[features].sum(axis=1)\n",
    "    # Fetch the PDB residue numbers for the 85 pocket residues\n",
    "    residues_features.index = session.pockets.by_structure_klifs_id(structure_klifs_id)[\n",
    "        \"residue.id\"\n",
    "    ]\n",
    "    # Keep only residues with hydrogen bonding above a cutoff occurrence\n",
    "    if feature_cutoff:\n",
    "        residues_features = residues_features[residues_features > feature_cutoff]\n",
    "    # Prepare residue-color mapping in a nglview-required format\n",
    "    color_scheme_list = [[\"magenta\", residue_id] for residue_id, _ in residues_features.items()]\n",
    "    color_scheme = nv.color._ColorScheme(color_scheme_list, label=\"HBA and HBD interactions\")\n",
    "    structure_text = session.coordinates.to_text(structure_klifs_id, \"complex\", \"pdb\")\n",
    "    ligand_expo_id = session.structures.by_structure_klifs_id(structure_klifs_id).iloc[0][\n",
    "        \"ligand.expo_id\"\n",
    "    ]\n",
    "    v = show_molecule(structure_text, \"pdb\")\n",
    "    v.clear()\n",
    "    v.add_representation(\"cartoon\", selection=\"protein\", color=color_scheme)\n",
    "    v.add_representation(\"ball+stick\", selection=ligand_expo_id)\n",
    "    return v"
   ]
  },
  {
   "cell_type": "code",
   "execution_count": 28,
   "metadata": {},
   "outputs": [
    {
     "data": {
      "text/markdown": [
       "Show residues with interactions ['HBD', 'HBA'] for kinase #406 on structure #823 that have been seen in at least 0.25 of all structures."
      ],
      "text/plain": [
       "<IPython.core.display.Markdown object>"
      ]
     },
     "metadata": {},
     "output_type": "display_data"
    },
    {
     "data": {
      "application/vnd.jupyter.widget-view+json": {
       "model_id": "238480923d5a44dfa6930911ba7901f8",
       "version_major": 2,
       "version_minor": 0
      },
      "text/plain": [
       "NGLWidget()"
      ]
     },
     "metadata": {},
     "output_type": "display_data"
    }
   ],
   "source": [
    "features = [\"HBD\", \"HBA\"]\n",
    "feature_cutoff = 0.25\n",
    "display(Markdown(\n",
    "    f\"Show residues with interactions {features} for kinase #{kinase_klifs_id} \"\n",
    "    f\"on structure #{structure_klifs_id} that have been seen in at least {feature_cutoff} of all structures.\"\n",
    "))\n",
    "v = show_kinase_feature_positions(\n",
    "    kinase_klifs_id, structure_klifs_id, features=[\"HBD\", \"HBA\"], feature_cutoff=0.25\n",
    ")\n",
    "v"
   ]
  },
  {
   "cell_type": "code",
   "execution_count": 29,
   "metadata": {},
   "outputs": [],
   "source": [
    "v.render_image();"
   ]
  },
  {
   "cell_type": "code",
   "execution_count": 30,
   "metadata": {},
   "outputs": [
    {
     "data": {
      "image/png": "\n",
      "text/plain": [
       "<IPython.core.display.Image object>"
      ]
     },
     "execution_count": 30,
     "metadata": {},
     "output_type": "execute_result"
    }
   ],
   "source": [
    "v._display_image()"
   ]
  },
  {
   "cell_type": "markdown",
   "metadata": {},
   "source": [
    "#### 5. Show all kinase-bound ligands with `rdkit`\n",
    "\n",
    "Let's take a look at all EGFR-bound ligands using `rdkit`, a popular library for cheminformatics."
   ]
  },
  {
   "cell_type": "code",
   "execution_count": 31,
   "metadata": {},
   "outputs": [],
   "source": [
    "def show_ligands(smiles):\n",
    "    return Chem.Draw.MolsToGridImage(\n",
    "        [Chem.MolFromSmiles(s) for s in smiles], maxMols=10, molsPerRow=5\n",
    "    )"
   ]
  },
  {
   "cell_type": "code",
   "execution_count": 32,
   "metadata": {},
   "outputs": [
    {
     "data": {
      "application/vnd.jupyter.widget-view+json": {
       "model_id": "5bdd28418619425f8925cd69410c51c4",
       "version_major": 2,
       "version_minor": 0
      },
      "text/plain": [
       "HBox(children=(HTML(value='Processing...'), FloatProgress(value=0.0, max=1.0), HTML(value='')))"
      ]
     },
     "metadata": {},
     "output_type": "display_data"
    },
    {
     "name": "stdout",
     "output_type": "stream",
     "text": [
      "\n"
     ]
    },
    {
     "data": {
      "text/markdown": [
       "Number of ligands bound to kinase #406: 109"
      ],
      "text/plain": [
       "<IPython.core.display.Markdown object>"
      ]
     },
     "metadata": {},
     "output_type": "display_data"
    },
    {
     "data": {
      "image/png": "[encoded data removed]",
      "text/plain": [
       "<PIL.PngImagePlugin.PngImageFile image mode=RGB size=1000x400 at 0x7F721261CD90>"
      ]
     },
     "execution_count": 32,
     "metadata": {},
     "output_type": "execute_result"
    }
   ],
   "source": [
    "ligands = session.ligands.by_kinase_klifs_id(kinase_klifs_id)\n",
    "display(Markdown(f\"Number of ligands bound to kinase #{kinase_klifs_id}: {len(ligands)}\"))\n",
    "# Show only the first 10 ligands\n",
    "show_ligands(ligands[\"ligand.smiles\"].to_list()[:10])"
   ]
  },
  {
   "cell_type": "markdown",
   "metadata": {},
   "source": [
    "#### 6. Explore profiling data for Gefitinib"
   ]
  },
  {
   "cell_type": "markdown",
   "metadata": {},
   "source": [
    "Get ligand KLIFS ID for Gefitinib by which we will query the KLIFS database."
   ]
  },
  {
   "cell_type": "code",
   "execution_count": 33,
   "metadata": {},
   "outputs": [
    {
     "data": {
      "text/markdown": [
       "Ligand KLIFS ID for IRE: 222"
      ],
      "text/plain": [
       "<IPython.core.display.Markdown object>"
      ]
     },
     "metadata": {},
     "output_type": "display_data"
    }
   ],
   "source": [
    "# TODO: Remove when opencadd has by_ligand_expo_id API!\n",
    "ligand_klifs_id = ligands[ligands[\"ligand.expo_id\"] == ligand_expo_id][\"ligand.klifs_id\"].iloc[0]\n",
    "display(Markdown(f\"Ligand KLIFS ID for {ligand_expo_id}: {ligand_klifs_id}\"))\n",
    "# NBVAL_CHECK_OUTPUT"
   ]
  },
  {
   "cell_type": "code",
   "execution_count": 34,
   "metadata": {},
   "outputs": [
    {
     "data": {
      "application/vnd.jupyter.widget-view+json": {
       "model_id": "fddb5488592e4811a71f5d5021aabcb7",
       "version_major": 2,
       "version_minor": 0
      },
      "text/plain": [
       "HBox(children=(HTML(value='Processing...'), FloatProgress(value=0.0, max=1.0), HTML(value='')))"
      ]
     },
     "metadata": {},
     "output_type": "display_data"
    },
    {
     "name": "stdout",
     "output_type": "stream",
     "text": [
      "\n"
     ]
    },
    {
     "data": {
      "text/markdown": [
       "Number of bioactivity values for IRE: 252\n",
       "\n",
       "Show example bioactivities:\n",
       "\n"
      ],
      "text/plain": [
       "<IPython.core.display.Markdown object>"
      ]
     },
     "metadata": {},
     "output_type": "display_data"
    },
    {
     "data": {
      "text/html": [
       "<div>\n",
       "<style scoped>\n",
       "    .dataframe tbody tr th:only-of-type {\n",
       "        vertical-align: middle;\n",
       "    }\n",
       "\n",
       "    .dataframe tbody tr th {\n",
       "        vertical-align: top;\n",
       "    }\n",
       "\n",
       "    .dataframe thead th {\n",
       "        text-align: right;\n",
       "    }\n",
       "</style>\n",
       "<table border=\"1\" class=\"dataframe\">\n",
       "  <thead>\n",
       "    <tr style=\"text-align: right;\">\n",
       "      <th></th>\n",
       "      <th>kinase.pref_name</th>\n",
       "      <th>kinase.uniprot</th>\n",
       "      <th>ligand.bioactivity_standard_type</th>\n",
       "      <th>ligand.bioactivity_standard_relation</th>\n",
       "      <th>ligand.bioactivity_standard_value</th>\n",
       "      <th>ligand.bioactivity_standard_units</th>\n",
       "      <th>ligand.bioactivity_pchembl_value</th>\n",
       "      <th>species.chembl</th>\n",
       "    </tr>\n",
       "  </thead>\n",
       "  <tbody>\n",
       "    <tr>\n",
       "      <th>48</th>\n",
       "      <td>Epidermal growth factor receptor erbB1</td>\n",
       "      <td>P00533</td>\n",
       "      <td>IC50</td>\n",
       "      <td>=</td>\n",
       "      <td>0.10</td>\n",
       "      <td>nM</td>\n",
       "      <td>10.00</td>\n",
       "      <td>Homo sapiens</td>\n",
       "    </tr>\n",
       "    <tr>\n",
       "      <th>81</th>\n",
       "      <td>Epidermal growth factor receptor erbB1</td>\n",
       "      <td>P00533</td>\n",
       "      <td>IC50</td>\n",
       "      <td>=</td>\n",
       "      <td>0.15</td>\n",
       "      <td>nM</td>\n",
       "      <td>9.82</td>\n",
       "      <td>Homo sapiens</td>\n",
       "    </tr>\n",
       "    <tr>\n",
       "      <th>29</th>\n",
       "      <td>Epidermal growth factor receptor erbB1</td>\n",
       "      <td>P00533</td>\n",
       "      <td>IC50</td>\n",
       "      <td>=</td>\n",
       "      <td>0.17</td>\n",
       "      <td>nM</td>\n",
       "      <td>9.77</td>\n",
       "      <td>Homo sapiens</td>\n",
       "    </tr>\n",
       "    <tr>\n",
       "      <th>119</th>\n",
       "      <td>Epidermal growth factor receptor erbB1</td>\n",
       "      <td>P00533</td>\n",
       "      <td>Ki</td>\n",
       "      <td>=</td>\n",
       "      <td>0.40</td>\n",
       "      <td>nM</td>\n",
       "      <td>9.40</td>\n",
       "      <td>Homo sapiens</td>\n",
       "    </tr>\n",
       "    <tr>\n",
       "      <th>56</th>\n",
       "      <td>Epidermal growth factor receptor erbB1</td>\n",
       "      <td>P00533</td>\n",
       "      <td>IC50</td>\n",
       "      <td>=</td>\n",
       "      <td>0.45</td>\n",
       "      <td>nM</td>\n",
       "      <td>9.35</td>\n",
       "      <td>Homo sapiens</td>\n",
       "    </tr>\n",
       "  </tbody>\n",
       "</table>\n",
       "</div>"
      ],
      "text/plain": [
       "                           kinase.pref_name kinase.uniprot  \\\n",
       "48   Epidermal growth factor receptor erbB1         P00533   \n",
       "81   Epidermal growth factor receptor erbB1         P00533   \n",
       "29   Epidermal growth factor receptor erbB1         P00533   \n",
       "119  Epidermal growth factor receptor erbB1         P00533   \n",
       "56   Epidermal growth factor receptor erbB1         P00533   \n",
       "\n",
       "    ligand.bioactivity_standard_type ligand.bioactivity_standard_relation  \\\n",
       "48                              IC50                                    =   \n",
       "81                              IC50                                    =   \n",
       "29                              IC50                                    =   \n",
       "119                               Ki                                    =   \n",
       "56                              IC50                                    =   \n",
       "\n",
       "     ligand.bioactivity_standard_value ligand.bioactivity_standard_units  \\\n",
       "48                                0.10                                nM   \n",
       "81                                0.15                                nM   \n",
       "29                                0.17                                nM   \n",
       "119                               0.40                                nM   \n",
       "56                                0.45                                nM   \n",
       "\n",
       "    ligand.bioactivity_pchembl_value species.chembl  \n",
       "48                             10.00   Homo sapiens  \n",
       "81                              9.82   Homo sapiens  \n",
       "29                              9.77   Homo sapiens  \n",
       "119                             9.40   Homo sapiens  \n",
       "56                              9.35   Homo sapiens  "
      ]
     },
     "execution_count": 34,
     "metadata": {},
     "output_type": "execute_result"
    }
   ],
   "source": [
    "bioactivities = session.bioactivities.by_ligand_klifs_id(ligand_klifs_id)\n",
    "# TODO: Remove astype when fixed in opencadd\n",
    "bioactivities = bioactivities.astype({\"ligand.bioactivity_standard_value\": float})\n",
    "display(Markdown(\n",
    "    f\"Number of bioactivity values for {ligand_expo_id}: {len(bioactivities)}\\n\\n\"\n",
    "    f\"Show example bioactivities:\\n\\n\"\n",
    "))\n",
    "bioactivities.sort_values(\"ligand.bioactivity_standard_value\").head()"
   ]
  },
  {
   "cell_type": "markdown",
   "metadata": {},
   "source": [
    "Show the bioactivity distribution!"
   ]
  },
  {
   "cell_type": "code",
   "execution_count": 35,
   "metadata": {},
   "outputs": [
    {
     "data": {
      "image/png": "[encoded data removed]",
      "text/plain": [
       "<Figure size 432x288 with 1 Axes>"
      ]
     },
     "metadata": {
      "needs_background": "light"
     },
     "output_type": "display_data"
    }
   ],
   "source": [
    "bioactivities[\"ligand.bioactivity_standard_value\"].plot(\n",
    "    kind=\"hist\", title=f\"ChEMBL bioactivity standard values (nM) for {ligand_expo_id}\"\n",
    ");"
   ]
  },
  {
   "cell_type": "markdown",
   "metadata": {},
   "source": [
    "We can see that there are a lot of measurements with high bioactivity (low values) and some with no bioactivity (high values). \n",
    "We know that the intended target (on-target) of Gefitinib is EGFR (also called epidermal growth factor receptor erbB1). It would be interesting to see now if there are other kinases that have been shown to bind Gefitinib also with high bioactivity (off-targets). Such off-targets are often the reason for the side effects of drugs.\n",
    "\n",
    "In order to find our off-targets based on the ChEMBL profiling data at hand, we will filter now our bioactivity dataset only for measurements showing high activity using the cutoff `activity_cutoff` and we will print out all measurements for targets that are not EGFR (our potential off-targets)."
   ]
  },
  {
   "cell_type": "code",
   "execution_count": 36,
   "metadata": {},
   "outputs": [
    {
     "data": {
      "text/markdown": [
       "Number of measurements with high activity per kinase:"
      ],
      "text/plain": [
       "<IPython.core.display.Markdown object>"
      ]
     },
     "metadata": {},
     "output_type": "display_data"
    },
    {
     "data": {
      "text/plain": [
       "kinase.pref_name\n",
       "Interleukin-1 receptor-associated kinase 1        1\n",
       "Serine/threonine-protein kinase RIPK2             1\n",
       "Vascular endothelial growth factor receptor 2     1\n",
       "Receptor protein-tyrosine kinase erbB-2           2\n",
       "Serine/threonine-protein kinase GAK               2\n",
       "Epidermal growth factor receptor erbB1           70\n",
       "dtype: int64"
      ]
     },
     "execution_count": 36,
     "metadata": {},
     "output_type": "execute_result"
    }
   ],
   "source": [
    "ACTIVITY_CUTOFF = 100\n",
    "bioactivities_active = bioactivities[\n",
    "    bioactivities[\"ligand.bioactivity_standard_value\"] < ACTIVITY_CUTOFF\n",
    "]\n",
    "display(Markdown(\"Number of measurements with high activity per kinase:\"))\n",
    "n_bioactivities_per_target = (\n",
    "    bioactivities_active.groupby(\"kinase.pref_name\").size().sort_values(ascending=True)\n",
    ")\n",
    "n_bioactivities_per_target"
   ]
  },
  {
   "cell_type": "code",
   "execution_count": 37,
   "metadata": {},
   "outputs": [
    {
     "data": {
      "text/markdown": [
       "Off-targets of IRE based on our profiling data:"
      ],
      "text/plain": [
       "<IPython.core.display.Markdown object>"
      ]
     },
     "metadata": {},
     "output_type": "display_data"
    },
    {
     "data": {
      "text/html": [
       "<div>\n",
       "<style scoped>\n",
       "    .dataframe tbody tr th:only-of-type {\n",
       "        vertical-align: middle;\n",
       "    }\n",
       "\n",
       "    .dataframe tbody tr th {\n",
       "        vertical-align: top;\n",
       "    }\n",
       "\n",
       "    .dataframe thead th {\n",
       "        text-align: right;\n",
       "    }\n",
       "</style>\n",
       "<table border=\"1\" class=\"dataframe\">\n",
       "  <thead>\n",
       "    <tr style=\"text-align: right;\">\n",
       "      <th></th>\n",
       "      <th>kinase.pref_name</th>\n",
       "      <th>kinase.uniprot</th>\n",
       "      <th>ligand.bioactivity_standard_type</th>\n",
       "      <th>ligand.bioactivity_standard_relation</th>\n",
       "      <th>ligand.bioactivity_standard_value</th>\n",
       "      <th>ligand.bioactivity_standard_units</th>\n",
       "      <th>ligand.bioactivity_pchembl_value</th>\n",
       "      <th>species.chembl</th>\n",
       "    </tr>\n",
       "  </thead>\n",
       "  <tbody>\n",
       "    <tr>\n",
       "      <th>193</th>\n",
       "      <td>Serine/threonine-protein kinase RIPK2</td>\n",
       "      <td>O43353</td>\n",
       "      <td>IC50</td>\n",
       "      <td>=</td>\n",
       "      <td>3.80</td>\n",
       "      <td>nM</td>\n",
       "      <td>8.42</td>\n",
       "      <td>Homo sapiens</td>\n",
       "    </tr>\n",
       "    <tr>\n",
       "      <th>188</th>\n",
       "      <td>Serine/threonine-protein kinase GAK</td>\n",
       "      <td>O14976</td>\n",
       "      <td>Kd</td>\n",
       "      <td>=</td>\n",
       "      <td>7.00</td>\n",
       "      <td>nM</td>\n",
       "      <td>8.15</td>\n",
       "      <td>Homo sapiens</td>\n",
       "    </tr>\n",
       "    <tr>\n",
       "      <th>187</th>\n",
       "      <td>Serine/threonine-protein kinase GAK</td>\n",
       "      <td>O14976</td>\n",
       "      <td>Kd</td>\n",
       "      <td>=</td>\n",
       "      <td>13.00</td>\n",
       "      <td>nM</td>\n",
       "      <td>7.89</td>\n",
       "      <td>Homo sapiens</td>\n",
       "    </tr>\n",
       "    <tr>\n",
       "      <th>155</th>\n",
       "      <td>Receptor protein-tyrosine kinase erbB-2</td>\n",
       "      <td>P04626</td>\n",
       "      <td>IC50</td>\n",
       "      <td>=</td>\n",
       "      <td>24.00</td>\n",
       "      <td>nM</td>\n",
       "      <td>7.62</td>\n",
       "      <td>Homo sapiens</td>\n",
       "    </tr>\n",
       "    <tr>\n",
       "      <th>165</th>\n",
       "      <td>Receptor protein-tyrosine kinase erbB-2</td>\n",
       "      <td>P04626</td>\n",
       "      <td>Ki</td>\n",
       "      <td>=</td>\n",
       "      <td>25.12</td>\n",
       "      <td>nM</td>\n",
       "      <td>7.60</td>\n",
       "      <td>Homo sapiens</td>\n",
       "    </tr>\n",
       "    <tr>\n",
       "      <th>250</th>\n",
       "      <td>Vascular endothelial growth factor receptor 2</td>\n",
       "      <td>P35968</td>\n",
       "      <td>IC50</td>\n",
       "      <td>=</td>\n",
       "      <td>48.50</td>\n",
       "      <td>nM</td>\n",
       "      <td>7.31</td>\n",
       "      <td>Homo sapiens</td>\n",
       "    </tr>\n",
       "    <tr>\n",
       "      <th>123</th>\n",
       "      <td>Interleukin-1 receptor-associated kinase 1</td>\n",
       "      <td>P51617</td>\n",
       "      <td>Kd</td>\n",
       "      <td>=</td>\n",
       "      <td>69.00</td>\n",
       "      <td>nM</td>\n",
       "      <td>7.16</td>\n",
       "      <td>Homo sapiens</td>\n",
       "    </tr>\n",
       "  </tbody>\n",
       "</table>\n",
       "</div>"
      ],
      "text/plain": [
       "                                  kinase.pref_name kinase.uniprot  \\\n",
       "193          Serine/threonine-protein kinase RIPK2         O43353   \n",
       "188            Serine/threonine-protein kinase GAK         O14976   \n",
       "187            Serine/threonine-protein kinase GAK         O14976   \n",
       "155        Receptor protein-tyrosine kinase erbB-2         P04626   \n",
       "165        Receptor protein-tyrosine kinase erbB-2         P04626   \n",
       "250  Vascular endothelial growth factor receptor 2         P35968   \n",
       "123     Interleukin-1 receptor-associated kinase 1         P51617   \n",
       "\n",
       "    ligand.bioactivity_standard_type ligand.bioactivity_standard_relation  \\\n",
       "193                             IC50                                    =   \n",
       "188                               Kd                                    =   \n",
       "187                               Kd                                    =   \n",
       "155                             IC50                                    =   \n",
       "165                               Ki                                    =   \n",
       "250                             IC50                                    =   \n",
       "123                               Kd                                    =   \n",
       "\n",
       "     ligand.bioactivity_standard_value ligand.bioactivity_standard_units  \\\n",
       "193                               3.80                                nM   \n",
       "188                               7.00                                nM   \n",
       "187                              13.00                                nM   \n",
       "155                              24.00                                nM   \n",
       "165                              25.12                                nM   \n",
       "250                              48.50                                nM   \n",
       "123                              69.00                                nM   \n",
       "\n",
       "    ligand.bioactivity_pchembl_value species.chembl  \n",
       "193                             8.42   Homo sapiens  \n",
       "188                             8.15   Homo sapiens  \n",
       "187                             7.89   Homo sapiens  \n",
       "155                             7.62   Homo sapiens  \n",
       "165                             7.60   Homo sapiens  \n",
       "250                             7.31   Homo sapiens  \n",
       "123                             7.16   Homo sapiens  "
      ]
     },
     "execution_count": 37,
     "metadata": {},
     "output_type": "execute_result"
    }
   ],
   "source": [
    "display(Markdown(f\"Off-targets of {ligand_expo_id} based on our profiling data:\"))\n",
    "bioactivities_active[\n",
    "    bioactivities_active[\"kinase.pref_name\"] != \"Epidermal growth factor receptor erbB1\"\n",
    "].sort_values([\"ligand.bioactivity_standard_value\"])"
   ]
  },
  {
   "cell_type": "markdown",
   "metadata": {},
   "source": [
    "Let's take a look at our off-targets and see if we can rationalize our results from a kinase similarity point of view (similar kinases are likely to bind the same ligand) - we will focus on sequence similarity (aka kinase groups and families) for now. \n",
    "\n",
    "Our off-target list contains closely related members of the the tyrosine kinase (TK) group, to which EGFR itself belongs, i.e. ErbB2 and Erb4 (two other members of the EGFR family) and VEGFR/KDR - and two kinases from the related tyrosine-like kinase (TKL) group, i.e. RIPK2 and IRAK1. \n",
    "\n",
    "The GAK kinase belongs to the atypical kinases and might not be an obvious off-target when only looking at sequence similarity, but it is another well-known and reported off-target. This is a nice example of how sequence is not the only indicator of protein similarity but that structural similarity plays a very important role as well.\n",
    "\n",
    "Check out __Talktorial 010__ for more details on binding site similarity and off-target prediction"
   ]
  },
  {
   "cell_type": "markdown",
   "metadata": {},
   "source": [
    "### Explore random kinase in KLIFS (show example structure and all bound ligands)"
   ]
  },
  {
   "cell_type": "markdown",
   "metadata": {},
   "source": [
    "This section is intended for you to quickly explore the resources on different kinases in KLIFS. \n",
    "\n",
    "First, we define a function that allows us to return (a) all structure-bound ligands in KLIFS plus (b) one random structure for a random kinase or given kinase(s)."
   ]
  },
  {
   "cell_type": "code",
   "execution_count": 38,
   "metadata": {},
   "outputs": [],
   "source": [
    "def random_kinase_structure(*kinase_names):\n",
    "    \"\"\"\n",
    "    Get one example structure (complex and protein structural data) for one or more kinases plus the SMILES of all bound ligands.\n",
    "\n",
    "    Parameters\n",
    "    ----------\n",
    "    *kinase_names : str\n",
    "        Kinase names.\n",
    "\n",
    "    Returns\n",
    "    -------\n",
    "    molcomplex : str\n",
    "        Complex structural data.\n",
    "    protein : str\n",
    "        Protein structural data.\n",
    "    ligands : list of str\n",
    "        List of ligand SMILES.\n",
    "    \"\"\"\n",
    "    # Get all structures or all structures for a given kinase\n",
    "    if kinase_names:\n",
    "        kinase_names = list(kinase_names)\n",
    "        try:\n",
    "            structures = session.structures.by_kinase_name(list(kinase_names))\n",
    "        except ValueError:\n",
    "            raise ValueError(f\"The input kinase(s) {kinase_names} yielded no results.\")\n",
    "    else:\n",
    "        structures = session.structures.all_structures()\n",
    "    kinase_klifs_ids = [int(i) for i in structures[\"kinase.klifs_id\"].unique()]\n",
    "    # Choose random structure\n",
    "    structure = structures.sample().squeeze()\n",
    "    structure_klifs_id = structure[\"structure.klifs_id\"]\n",
    "    display(Markdown(f\"Selected kinases: {structure['kinase.klifs_name']}\"))\n",
    "    # Get complex structural data\n",
    "    molcomplex = (\n",
    "        KLIFS_CLIENT.Structures.get_structure_get_pdb_complex(structure_ID=structure_klifs_id)\n",
    "        .response()\n",
    "        .result\n",
    "    )\n",
    "    # Get protein structural data\n",
    "    protein = (\n",
    "        KLIFS_CLIENT.Structures.get_structure_get_protein(structure_ID=structure_klifs_id)\n",
    "        .response()\n",
    "        .result\n",
    "    )\n",
    "    # Get all ligands bound to all structures for input kinases\n",
    "    ligands = KLIFS_CLIENT.Ligands.get_ligands_list(kinase_ID=kinase_klifs_ids).response().result\n",
    "    display(Markdown(\n",
    "        f\"Chosen KLIFS entry: PDB ID {structure['structure.pdb_id']} \"\n",
    "        f\"with chain {structure['structure.chain'] if structure['structure.chain'] else '-'} and \"\n",
    "        f\"alternate model {structure['structure.alternate_model'] if structure['structure.alternate_model'] else '-'} \"\n",
    "        f\"({structure['species.klifs'].lower()}).\\n\\n\"\n",
    "        f\"Number of structure-bound ligands: {len(ligands)}\"\n",
    "    ))\n",
    "    return molcomplex, protein, [ligand.SMILES for ligand in ligands]"
   ]
  },
  {
   "cell_type": "markdown",
   "metadata": {},
   "source": [
    "Second, we use the function to get data on a random kinase. _Note_: You can specify one or more kinases of your choice to narrow down the search space if you want, see `random_kinase_structure(*kinase_names)`."
   ]
  },
  {
   "cell_type": "code",
   "execution_count": 39,
   "metadata": {},
   "outputs": [
    {
     "data": {
      "text/markdown": [
       "Selected kinases: KDR"
      ],
      "text/plain": [
       "<IPython.core.display.Markdown object>"
      ]
     },
     "metadata": {},
     "output_type": "display_data"
    },
    {
     "data": {
      "text/markdown": [
       "Chosen KLIFS entry: PDB ID 3wze with chain A and alternate model A (human).\n",
       "\n",
       "Number of structure-bound ligands: 3564"
      ],
      "text/plain": [
       "<IPython.core.display.Markdown object>"
      ]
     },
     "metadata": {},
     "output_type": "display_data"
    }
   ],
   "source": [
    "molcomplex, protein, ligands = random_kinase_structure()"
   ]
  },
  {
   "cell_type": "code",
   "execution_count": 40,
   "metadata": {},
   "outputs": [
    {
     "name": "stderr",
     "output_type": "stream",
     "text": [
      "RDKit ERROR: [12:49:45] Explicit valence for atom # 40 O, 4, is greater than permitted\n",
      "RDKit ERROR: [12:49:45] Explicit valence for atom # 0 O, 4, is greater than permitted\n",
      "RDKit ERROR: [12:49:45] Explicit valence for atom # 24 O, 4, is greater than permitted\n",
      "RDKit ERROR: [12:49:45] Explicit valence for atom # 17 O, 4, is greater than permitted\n",
      "RDKit ERROR: [12:49:45] Explicit valence for atom # 0 O, 4, is greater than permitted\n",
      "RDKit ERROR: [12:49:45] Explicit valence for atom # 12 O, 4, is greater than permitted\n",
      "RDKit ERROR: [12:49:45] Explicit valence for atom # 28 O, 4, is greater than permitted\n",
      "RDKit ERROR: [12:49:45] Explicit valence for atom # 17 O, 4, is greater than permitted\n",
      "RDKit ERROR: [12:49:45] SMILES Parse Error: syntax error while parsing: Fc1c(c(F)ccc1)-c1cc2c(-c3nc(OC4C[N+H2]CCC4)cnc3)c[nH]c2cc1\n",
      "RDKit ERROR: [12:49:45] SMILES Parse Error: Failed parsing SMILES 'Fc1c(c(F)ccc1)-c1cc2c(-c3nc(OC4C[N+H2]CCC4)cnc3)c[nH]c2cc1' for input: 'Fc1c(c(F)ccc1)-c1cc2c(-c3nc(OC4C[N+H2]CCC4)cnc3)c[nH]c2cc1'\n",
      "RDKit ERROR: [12:49:45] Explicit valence for atom # 25 O, 3, is greater than permitted\n",
      "/home/dominique/.local/miniconda/envs/toc2/lib/python3.8/site-packages/rdkit/Chem/Draw/IPythonConsole.py:186: UserWarning: Truncating the list of molecules to be displayed to 10. Change the maxMols value to display more.\n",
      "  warnings.warn(\n"
     ]
    },
    {
     "data": {
      "image/png": "[encoded data removed]",
      "text/plain": [
       "<PIL.PngImagePlugin.PngImageFile image mode=RGB size=1000x400 at 0x7F721261C280>"
      ]
     },
     "execution_count": 40,
     "metadata": {},
     "output_type": "execute_result"
    }
   ],
   "source": [
    "show_ligands(ligands)"
   ]
  },
  {
   "cell_type": "code",
   "execution_count": 41,
   "metadata": {},
   "outputs": [
    {
     "data": {
      "application/vnd.jupyter.widget-view+json": {
       "model_id": "d17a67220b994677b170c2657e57fc82",
       "version_major": 2,
       "version_minor": 0
      },
      "text/plain": [
       "NGLWidget()"
      ]
     },
     "metadata": {},
     "output_type": "display_data"
    }
   ],
   "source": [
    "v = show_molecule(molcomplex, \"pdb\")\n",
    "v"
   ]
  },
  {
   "cell_type": "code",
   "execution_count": 42,
   "metadata": {},
   "outputs": [],
   "source": [
    "v.render_image();"
   ]
  },
  {
   "cell_type": "code",
   "execution_count": 43,
   "metadata": {},
   "outputs": [
    {
     "data": {
      "image/png": "\n",
      "text/plain": [
       "<IPython.core.display.Image object>"
      ]
     },
     "execution_count": 43,
     "metadata": {},
     "output_type": "execute_result"
    }
   ],
   "source": [
    "v._display_image()"
   ]
  },
  {
   "cell_type": "markdown",
   "metadata": {},
   "source": [
    "## Discussion\n",
    "\n",
    "In this talktorial, we have explored how to interact with the rich kinase resource KLIFS using (a) the KLIFS OpenAPI and (b) the KLIFS-dedicated module in `opencadd`. First, we have used the kinase EGFR to extract all available ligand-bound structures and their KLIFS interaction fingerprints, which were used to extract key hydrogen bonding residues. Second, we fetched profiling data for Gefitinib to investigate EGFR off-targets. "
   ]
  },
  {
   "cell_type": "markdown",
   "metadata": {},
   "source": [
    "## Quiz\n",
    "\n",
    "- Explain and set in context the following terms: Server, client, API, request, response, REST and OpenAPI.\n",
    "- Query KLIFS: How many kinases does KLIFS provide for the Abl family? How many structures are available for the kinase CDK2?\n",
    "- Explain how the profiling data of an inhibitor can be used to search for off-targets."
   ]
  }
 ],
 "metadata": {
  "kernelspec": {
   "display_name": "Python 3",
   "language": "python",
   "name": "python3"
  },
  "language_info": {
   "codemirror_mode": {
    "name": "ipython",
    "version": 3
   },
   "file_extension": ".py",
   "mimetype": "text/x-python",
   "name": "python",
   "nbconvert_exporter": "python",
   "pygments_lexer": "ipython3",
   "version": "3.8.6"
  }
 },
 "nbformat": 4,
 "nbformat_minor": 4
}
