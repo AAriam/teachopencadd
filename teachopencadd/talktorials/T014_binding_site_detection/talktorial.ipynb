{
 "cells": [
  {
   "cell_type": "markdown",
   "metadata": {},
   "source": [
    "# T014 · Binding site detection\n",
    "\n",
    "**Note:** This talktorial is a part of TeachOpenCADD, a platform that aims to teach domain-specific skills and to provide pipeline templates as starting points for research projects.\n",
    "\n",
    "Authors:\n",
    "\n",
    "* Adapted from Abishek Laxmanan Ravi Shankar, 2019, internship at Volkamer lab\n",
    "* Andrea Volkamer, 2020/21, [Volkamer lab, Charité](https://volkamerlab.org/)\n",
    "* Dominique Sydow, 2020/21, [Volkamer lab, Charité](https://volkamerlab.org/)"
   ]
  },
  {
   "cell_type": "markdown",
   "metadata": {},
   "source": [
    "## Aim of this talktorial\n",
    "\n",
    "The binding site of a protein is the key to its function. In this talktorial, we introduce the concepts of computational binding site detection tools using DoGSiteScorer from the [protein.plus](https://proteins.plus/) web server, exemplified on an EGFR structure. \n",
    "Additionally, we compare the results to the pre-defined KLIFS binding site by calculating the percentage of residues in accordance between the two sets."
   ]
  },
  {
   "cell_type": "markdown",
   "metadata": {},
   "source": [
    "### Contents in *Theory*\n",
    "\n",
    "* Protein binding sites\n",
    "* Binding site detection\n",
    "    * Methods overview\n",
    "    * DoGSiteScorer\n",
    "* Comparison to KLIFS pocket"
   ]
  },
  {
   "cell_type": "markdown",
   "metadata": {},
   "source": [
    "### Contents in *Practical*\n",
    "\n",
    "* Binding site detection using DoGSiteScorer\n",
    "    * Job submission of structure of interest\n",
    "    * Get DoGSiteScorer pocket metadata\n",
    "    * Pick the most suitable pocket\n",
    "    * Get best binding site file content\n",
    "    * Investigate detected pocket\n",
    "* Comparison between DoGSiteScorer and KLIFS pocket\n",
    "    * Get DoGSiteScorer pocket residues\n",
    "    * Get KLIFS pocket residues\n",
    "    * Overlap of pocket residues"
   ]
  },
  {
   "cell_type": "markdown",
   "metadata": {},
   "source": [
    "### References\n",
    "* Prediction, Analysis, and Comparison of Active Sites [Volkamer <i>et al.</i>, (<b>2018</b>)](https://doi.org/10.1002/9783527806539.ch6g), book chapter in Applied Chemoinformatics: Achievements and Future Opportunities, Wiley\n",
    "* DoGSiteScorer, [Volkamer <i>et al.</i>, <i>J.Chem.Inf.Model</i>, (<b>2012</b>), 52(2):360-372](https://pubmed.ncbi.nlm.nih.gov/22148551/)\n",
    "* [ProteinsPlus](https://proteins.plus/): a web portal for structure analysis of macromolecules. [Fährrolfes <i>et al.</i>, <i>NAR</i>, (<b>2017</b>), 3;45(W1)](https://pubmed.ncbi.nlm.nih.gov/28472372/)\n",
    "* [KLIFS](https://klifs.net/): a structural kinase-ligand interaction database, [Kanev <i>et al.</i>, <i>NAR</i>, (<b>2021</b>), 49(D1):D562-D569](https://academic.oup.com/nar/article/49/D1/D562/5934416) "
   ]
  },
  {
   "cell_type": "markdown",
   "metadata": {},
   "source": [
    "## Theory"
   ]
  },
  {
   "cell_type": "markdown",
   "metadata": {},
   "source": [
    "### Protein binding sites"
   ]
  },
  {
   "cell_type": "markdown",
   "metadata": {},
   "source": [
    "Most biological processes are guided through (non-)reversible binding of molecules. Given a therapeutic target associated to a specific disease, knowing its binding site(s), i.e. the key to the proteins function, is of utmost importance for designing new drugs.\n",
    "\n",
    "Depending on the given data, e.g., no protein-ligand complex structure (x-ray) is available or one is interested in allosteric sites, binding site detection algorithms come into play. Binding sites, or in the case of enzymes rather called active sites, are cavities in 3-dimensional space, mostly on the surface of a protein structure, that serve as binding (docking) regions for ligands, peptides, or proteins. To interact with each other, the two binding partners need to be complementary concerning shape and physico-chemical properties (*key and look* principle).\n",
    "\n",
    "![Binding site example](images/3w32_SP_0_0_scale025.png)\n",
    "\n",
    "*Figure 1:* Example of a detected binding site for EGFR kinase (PDB: [3w32](https://www.rcsb.org/structure/3W32)) using DoGSiteScorer from [proteins.plus](https://proteins.plus). Protein shown as blue cartoon, ligand as sticks (carbons in gray) and binding site as violet cloud (largest subpocket SP_0_0 shown).\n"
   ]
  },
  {
   "cell_type": "markdown",
   "metadata": {},
   "source": [
    "### Binding site detection"
   ]
  },
  {
   "cell_type": "markdown",
   "metadata": {},
   "source": [
    "#### Methods overview"
   ]
  },
  {
   "cell_type": "markdown",
   "metadata": {},
   "source": [
    "If ligand information is available, i.e., a protein-ligand complex, the protein residues surrounding the ligand can simply be defined as pocket (e.g. using all protein residues within a predefined radius of the ligand atoms such as 6 Å). If the ligand is absent, prediction tools can be used for *in silico* pocket detection. These methods can be grouped on the one hand in geometry- and energy-based methods as well as on the other hand in grid-based and grid-free approaches, as outlined in Figure 2. Note that in recent years, more and more machine or deep learning based methods have been developed (see e.g. [DeepSite](https://doi.org/10.1093/bioinformatics/btx350) by Jiménez *et al.*, Bioinformatics, 2017, 33(19), 3036–3042)."
   ]
  },
  {
   "cell_type": "markdown",
   "metadata": {},
   "source": [
    "![Binding site detection methods](images/Figure2_DetectionMethods_scale05.png)\n",
    "\n",
    "*Figure 2*: Binding site detection methods can be grouped into geometry-based and energy-based approaches as well as grid-based and grid-free approaches. Figure taken from Prediction, Analysis, and Comparison of Active Sites, [Volkamer <i>et al.</i>, (<b>2018</b>)](https://doi.org/10.1002/9783527806539.ch6g), Applied Chemoinformatics: Achievements and Future Opportunities, Wiley."
   ]
  },
  {
   "cell_type": "markdown",
   "metadata": {},
   "source": [
    "**Geometry-based approaches** analyze the shape of a molecular surface to locate cavities and incorporate the 3D spatial arrangement of the atoms on the protein surface. **Energy-based approaches** record interactions of probes or molecular fragments with the protein, thus, favorable energetic responses are assigned to pockets. Both strategies can be performed on a Cartesian **grid-based** representation of the protein (i.e. checking the environment per grid point) or without (i.e. **grid-free**). "
   ]
  },
  {
   "cell_type": "markdown",
   "metadata": {},
   "source": [
    "In the following, an example for each of the four categories will be shortly introduced:\n",
    "\n",
    "* *Geometric, grid-based approach*: In [**LIGSITE**](https://doi.org/10.1016/s1093-3263(98)00002-3) (Hendlich, *et al.*, J Mol Graph Model., 1997, 15(6):359-63, 389), a Cartesian grid (e.g. 1Å grid spacing) is spanned over the protein of interest. Each grid point is then scanned in seven direction (along the x, y and z axes as well as the four cubic diagonals) and the number of Protein-Solvent-Protein (PSP) events per point is stored (# rays restricted on both side by the protein). Finally, grid points that are buried (= have a high PSP value) are clustered to pockets.\n",
    "* *Geometric, grid-free approach*: In [**SURFNET**](https://doi.org/10.1016/0263-7855(95)00073-9) (Laskowski, J Mol Graph., 1995, 13(5):323-30, 307-8), spheres are placed midway between all pairs of atoms on the protein surface directly. In case a probe clashes with any nearby atom, its radius is reduced until no overlap occurs. The resulting probes define the cavities.\n",
    "* *Energy, grid-based approach*: In [**DrugSite**](https://doi.org/10.11234/GI1990.15.2_31) (An, *et al.*, Genome Informatics, 2004, 15(2): 31–41), the protein is embedded in a Cartesian grid and carbon probes are placed on each grid point. Then, van der Waals energies between the probe and the protein environment within 8 Å distance are calculated. Grid points with unfavorable energies, i.e., above an energy cut-off based on the mean energy and standard deviation over the whole grid, are discarded. Finally, grid points fulfilling this cut-off are merged to pockets.\n",
    "* *Energy, grid-free approach*:  In **docking**-based methods, fragments (or small molecules) are docked against the protein of interest (placed and scored, for more info on docking see talktorial T015). Pockets are then assigned based on the quantity of fragments that bind to a specific area."
   ]
  },
  {
   "cell_type": "markdown",
   "metadata": {},
   "source": [
    "#### DoGSiteScorer\n",
    "\n",
    "In this talktorial, we will use the DoGSiteScorer functionality, available within [protein.plus](https://proteins.plus/), to detect and score the pockets of a protein of interest. Thus, the algorithm will be explained in a bit more detail (see Figure 3 for a visual explanation).\n",
    "\n",
    "* *Pocket detection*: DoGSiteScorer incorporates a **geometric** and **grid-based** algorithm to detect pockets. The protein is embedded in a Cartesian grid, and each grid point is labeled as either 0 (free) or 1 (occupied), depending on if it lies within any protein atom's van der Waals radius. Then, an edge-detection algorithm from image processing, a **Difference of Gaussian filter** (thus the name DoGSite) is invoked to identify protrusion on the protein surface (i.e. the positions on a protein surface where the location of a sphere-like object is favorable). Based on specific cut-off criteria, grid points with the highest intensity are selected and first clustered to subpockets, then merged to pockets. \n",
    "* *Descriptor calculation*: Based on the grid representation of the respective pocket as well as the surrounding protein atoms, properties describing the pocket are derived. These include properties such as volume, surface, or depth of the pocket (calculated directly from the properties of the individual grid points) as well as hyprophobicity, number of available hydrogen bond donors/acceptors or amino acid count (derived from the neighboring protein residues).  \n",
    "* *Druggability estimates*: Additionally, the tool has an in-built druggability predictor. [Druggability](https://en.wikipedia.org/wiki/Druggability) can be defined as the ability of a (disease-associated) target to bind - and potentially be modulated by - low molecular weight compounds (sometimes also referred to as ligandability). In DoGSiteScorer, druggablity is predicted using a support vector machine (SVM) model, trained and tested on the freely available (non-redundant) druggability data set (NR) DD. The DD consists of 1069 targets and each target was assigned to one of the three classes: druggable, difficult, or undruggable. \n",
    "\n",
    "    For more detail on DoGSiteScorer's druggability model, see [Volkamer <i>et al.</i>, J. Chem. Inf. Model., 2012, 52, 2, 360–372](https://pubs.acs.org/doi/10.1021/ci200454v). For more info on the *druggability* concept itself refer to e.g. Hopkins and Groom, [The druggable genome](https://www.nature.com/articles/nrd892). Nat Rev Drug Discov 1, 727–730 (2002).\n",
    "\n",
    "![DoGSiteScorer methodology](images/3w32_DoGSite_Overview_scale05.png)\n",
    "\n",
    "*Figure 3*: Schematic representation of the individual steps within DoGSiteScorer: A. Pocket detection, B. descriptor calculation and C. druggability estimation. Figure newly composed based on [Volkamer <i>et al.</i>, J. Chem. Inf. Model., **2012**, 52(2), 360–372](https://pubs.acs.org/doi/10.1021/ci200454v) and [Volkamer <i>et al.</i>, J. Chem. Inf. Model., **2010**, 50(11), 2041–2052](https://pubs.acs.org/doi/10.1021/ci100241y).\n"
   ]
  },
  {
   "cell_type": "markdown",
   "metadata": {},
   "source": [
    "### Comparison to KLIFS pocket\n",
    "\n",
    "Once we obtain the binding site of interest from DoGSiteScorer, we can compare the results with any other method in order to validate it. Here, we compare it with the KLIFS binding pocket definition for our target kinase structure using the KLIFS API (see **Talktorial T012** for more detail).\n",
    "\n",
    "**KLIFS pocket definition** in a nutshell:\n",
    "The [KLIFS](https://klifs.net/) (Kinase-Ligand Interaction Fingerprints and Structures) database is a structural repository of information on over 3600 human and mouse kinase structures. The curated KLIFS data allows systematic analyses of all kinase structures and binding sites, bound ligands and protein-ligand interactions. KLIFS comes with a nomenclature of typical structural motifs within kinases (such as DFG-in/out, hinge region, ...) and maps the binding site of all known kinases to 85 residues, defined via an elaborated multiple sequence alignment. It is possible to compare the interaction patterns of kinase-inhibitors to each other to, for example, identify crucial interactions determining kinase-inhibitor selectivity. \n",
    "\n",
    "In this talktorial, we will query the KLIFS API to return the binding pocket of a specific protein kinase structure of interest for further analysis."
   ]
  },
  {
   "cell_type": "markdown",
   "metadata": {},
   "source": [
    "## Practical"
   ]
  },
  {
   "cell_type": "markdown",
   "metadata": {},
   "source": [
    "In this practical part, we will introduce how to query the [proteins.plus](https://proteins.plus) server for binding site detection using DoGSiteScorer for our protein of interest."
   ]
  },
  {
   "cell_type": "markdown",
   "metadata": {},
   "source": [
    "Import all necessary libraries."
   ]
  },
  {
   "cell_type": "code",
   "execution_count": 1,
   "metadata": {},
   "outputs": [
    {
     "data": {
      "application/vnd.jupyter.widget-view+json": {
       "model_id": "89a012c18b6b40228b0a3dda359aef49",
       "version_major": 2,
       "version_minor": 0
      },
      "text/plain": []
     },
     "metadata": {},
     "output_type": "display_data"
    }
   ],
   "source": [
    "import io\n",
    "from pathlib import Path\n",
    "import time\n",
    "import gzip\n",
    "\n",
    "import requests\n",
    "from matplotlib_venn import venn2\n",
    "import matplotlib.pyplot as plt\n",
    "import pandas as pd\n",
    "from biopandas.pdb import PandasPdb\n",
    "import nglview\n",
    "\n",
    "from opencadd.databases.klifs import setup_remote\n",
    "\n",
    "pd.set_option(\"display.max_columns\", 50)"
   ]
  },
  {
   "cell_type": "markdown",
   "metadata": {},
   "source": [
    "Add globals to this talktorial's path (`HERE`) and its data folder (`DATA`)."
   ]
  },
  {
   "cell_type": "code",
   "execution_count": 2,
   "metadata": {},
   "outputs": [],
   "source": [
    "HERE = Path(_dh[-1])\n",
    "DATA = HERE / \"data\"\n",
    "DATATMP = DATA / \"_tmp\"\n",
    "DATATMP.mkdir(parents=True, exist_ok=True)"
   ]
  },
  {
   "cell_type": "markdown",
   "metadata": {},
   "source": [
    "### Binding site detection using DoGSiteScorer\n",
    "We first define a function to query the server for a protein of interest.\n",
    "Infos on the REST API can be found [here](https://proteins.plus/help/dogsite_rest)."
   ]
  },
  {
   "cell_type": "code",
   "execution_count": 3,
   "metadata": {},
   "outputs": [],
   "source": [
    "def submit_dogsitescorer_job_with_pdbid(pdb_code, chain_id, ligand=\"\"):\n",
    "    \"\"\"\n",
    "    Submit PDB ID to DoGSiteScorer webserver using their API and get back URL for job location.\n",
    "\n",
    "    Parameters\n",
    "    ----------\n",
    "    pdb_code : str\n",
    "        4-letter valid PDB ID, e.g. '3w32'.\n",
    "    chain_id : str\n",
    "        Chain ID, e.g. 'A'.\n",
    "    ligand : str\n",
    "        Name of ligand bound to PDB structure with pdb_id, e.g. 'W32_A_1101'.\n",
    "        Currently, the ligand name must be checked manually on the DoGSiteScorer website.\n",
    "\n",
    "    Returns\n",
    "    -------\n",
    "    str\n",
    "        Job location URL for submitted query.\n",
    "\n",
    "    References\n",
    "    ----------\n",
    "    Function is adapted from: https://github.com/volkamerlab/TeachOpenCADD/pull/3 (@jaimergp)\n",
    "    \"\"\"\n",
    "\n",
    "    # Submit job to proteins.plus\n",
    "    # For details on parameters see: https://proteins.plus/help/dogsite_rest\n",
    "    r = requests.post(\n",
    "        \"https://proteins.plus/api/dogsite_rest\",\n",
    "        json={\n",
    "            \"dogsite\": {\n",
    "                \"pdbCode\": pdb_code,  # PDB code of protein\n",
    "                \"analysisDetail\": \"1\",  # 1 = include subpockets in results\n",
    "                \"bindingSitePredictionGranularity\": \"1\",  # 1 = include drugablity scores\n",
    "                \"ligand\": ligand,  # if name is specified, ligand coverage is calculated\n",
    "                \"chain\": chain_id,  # if chain is specified, calculation is only performed on this chain\n",
    "            }\n",
    "        },\n",
    "        headers={\"Content-type\": \"application/json\", \"Accept\": \"application/json\"},\n",
    "    )\n",
    "\n",
    "    r.raise_for_status()\n",
    "\n",
    "    return r.json()[\"location\"]"
   ]
  },
  {
   "cell_type": "markdown",
   "metadata": {},
   "source": [
    "#### Job submission for structure of interest"
   ]
  },
  {
   "cell_type": "markdown",
   "metadata": {},
   "source": [
    "Define the protein of interest. As an example, we chose an EGFR kinase structure, more details can be found in the respective PDB entry: [3w32](https://www.rcsb.org/structure/3W32)."
   ]
  },
  {
   "cell_type": "code",
   "execution_count": 4,
   "metadata": {},
   "outputs": [],
   "source": [
    "pdb_id = \"3w32\"\n",
    "chain_id = \"A\"\n",
    "# Ligand id manually looked-up from DoGSiteScorer within proteins.plus\n",
    "# Note that it is generally composed of [pdb_lig_id]_[chain_id]_[pdb_residue_id]\n",
    "ligand_id = \"W32_A_1101\""
   ]
  },
  {
   "cell_type": "markdown",
   "metadata": {},
   "source": [
    "Submit the query and identify the job location (URL) on the web server for further investigation."
   ]
  },
  {
   "cell_type": "code",
   "execution_count": 5,
   "metadata": {},
   "outputs": [
    {
     "data": {
      "text/plain": [
       "'https://proteins.plus/api/dogsite_rest/twNQ4AjQiuzoUUMsSdA3NxH4'"
      ]
     },
     "execution_count": 5,
     "metadata": {},
     "output_type": "execute_result"
    }
   ],
   "source": [
    "job_location = submit_dogsitescorer_job_with_pdbid(pdb_id, chain_id, ligand_id)\n",
    "job_location"
   ]
  },
  {
   "cell_type": "markdown",
   "metadata": {},
   "source": [
    "#### Get DoGSiteScorer pocket metadata\n",
    "We now define a function that collects all data returned by the server and stores them in a pandas `DataFrame`."
   ]
  },
  {
   "cell_type": "code",
   "execution_count": 6,
   "metadata": {},
   "outputs": [],
   "source": [
    "def get_dogsitescorer_metadata(job_location, attempts=30):\n",
    "    \"\"\"\n",
    "    Get results from a DoGSiteScorer query, i.e., the binding sites which are found over the protein surface,\n",
    "    in the form of a table with the details about all detected pockets.\n",
    "\n",
    "    Parameters\n",
    "    ----------\n",
    "    job_location : str\n",
    "        Consists of the location of a finished DoGSiteScorer job on the proteins.plus web server.\n",
    "    attempts : int\n",
    "        The time waiting for the feedback from DoGSiteScorer service.\n",
    "\n",
    "    Returns\n",
    "    -------\n",
    "    pandas.DataFrame\n",
    "        Table with metadata on detected binding sites.\n",
    "    \"\"\"\n",
    "\n",
    "    print(f\"Querying for job at URL {job_location}...\", end=\"\")\n",
    "\n",
    "    while attempts:\n",
    "        # Get job results\n",
    "        result = requests.get(job_location)\n",
    "        result.raise_for_status()\n",
    "        # Get URL of result table file\n",
    "        response = result.json()\n",
    "        if \"result_table\" in response:\n",
    "            result_file = response[\"result_table\"]\n",
    "            break\n",
    "        attempts -= 1\n",
    "        print(\".\", end=\"\")\n",
    "        time.sleep(10)\n",
    "    # Get result table (as string)\n",
    "    result_table = requests.get(result_file).text\n",
    "    # Load the table (csv format using \"\\t\" as separator) with pandas DataFrame\n",
    "    # We cannot load the table from a string directly but from a file\n",
    "    # Use io.StringIO to wrap this string as file-like object as needed for read_csv method\n",
    "    # See more: https://docs.python.org/3/library/io.html#io.StringIO\n",
    "    result_table_df = pd.read_csv(io.StringIO(result_table), sep=\"\\t\").set_index(\"name\")\n",
    "\n",
    "    return result_table_df"
   ]
  },
  {
   "cell_type": "markdown",
   "metadata": {},
   "source": [
    "All detected pockets from DoGSiteScorer web server are retrieved and a dataframe is returned containing all pocket descriptor information."
   ]
  },
  {
   "cell_type": "code",
   "execution_count": 7,
   "metadata": {},
   "outputs": [
    {
     "name": "stdout",
     "output_type": "stream",
     "text": [
      "Querying for job at URL https://proteins.plus/api/dogsite_rest/twNQ4AjQiuzoUUMsSdA3NxH4..."
     ]
    },
    {
     "data": {
      "text/html": [
       "<div>\n",
       "<style scoped>\n",
       "    .dataframe tbody tr th:only-of-type {\n",
       "        vertical-align: middle;\n",
       "    }\n",
       "\n",
       "    .dataframe tbody tr th {\n",
       "        vertical-align: top;\n",
       "    }\n",
       "\n",
       "    .dataframe thead th {\n",
       "        text-align: right;\n",
       "    }\n",
       "</style>\n",
       "<table border=\"1\" class=\"dataframe\">\n",
       "  <thead>\n",
       "    <tr style=\"text-align: right;\">\n",
       "      <th></th>\n",
       "      <th>lig_cov</th>\n",
       "      <th>poc_cov</th>\n",
       "      <th>lig_name</th>\n",
       "      <th>volume</th>\n",
       "      <th>enclosure</th>\n",
       "      <th>surface</th>\n",
       "      <th>depth</th>\n",
       "      <th>surf/vol</th>\n",
       "      <th>lid/hull</th>\n",
       "      <th>ellVol</th>\n",
       "      <th>ell c/a</th>\n",
       "      <th>ell b/a</th>\n",
       "      <th>siteAtms</th>\n",
       "      <th>accept</th>\n",
       "      <th>donor</th>\n",
       "      <th>hydrophobic_interactions</th>\n",
       "      <th>hydrophobicity</th>\n",
       "      <th>metal</th>\n",
       "      <th>Cs</th>\n",
       "      <th>Ns</th>\n",
       "      <th>Os</th>\n",
       "      <th>Ss</th>\n",
       "      <th>Xs</th>\n",
       "      <th>negAA</th>\n",
       "      <th>posAA</th>\n",
       "      <th>polarAA</th>\n",
       "      <th>apolarAA</th>\n",
       "      <th>ALA</th>\n",
       "      <th>ARG</th>\n",
       "      <th>ASN</th>\n",
       "      <th>ASP</th>\n",
       "      <th>CYS</th>\n",
       "      <th>GLN</th>\n",
       "      <th>GLU</th>\n",
       "      <th>GLY</th>\n",
       "      <th>HIS</th>\n",
       "      <th>ILE</th>\n",
       "      <th>LEU</th>\n",
       "      <th>LYS</th>\n",
       "      <th>MET</th>\n",
       "      <th>PHE</th>\n",
       "      <th>PRO</th>\n",
       "      <th>SER</th>\n",
       "      <th>THR</th>\n",
       "      <th>TRP</th>\n",
       "      <th>TYR</th>\n",
       "      <th>VAL</th>\n",
       "      <th>simpleScore</th>\n",
       "      <th>drugScore</th>\n",
       "    </tr>\n",
       "    <tr>\n",
       "      <th>name</th>\n",
       "      <th></th>\n",
       "      <th></th>\n",
       "      <th></th>\n",
       "      <th></th>\n",
       "      <th></th>\n",
       "      <th></th>\n",
       "      <th></th>\n",
       "      <th></th>\n",
       "      <th></th>\n",
       "      <th></th>\n",
       "      <th></th>\n",
       "      <th></th>\n",
       "      <th></th>\n",
       "      <th></th>\n",
       "      <th></th>\n",
       "      <th></th>\n",
       "      <th></th>\n",
       "      <th></th>\n",
       "      <th></th>\n",
       "      <th></th>\n",
       "      <th></th>\n",
       "      <th></th>\n",
       "      <th></th>\n",
       "      <th></th>\n",
       "      <th></th>\n",
       "      <th></th>\n",
       "      <th></th>\n",
       "      <th></th>\n",
       "      <th></th>\n",
       "      <th></th>\n",
       "      <th></th>\n",
       "      <th></th>\n",
       "      <th></th>\n",
       "      <th></th>\n",
       "      <th></th>\n",
       "      <th></th>\n",
       "      <th></th>\n",
       "      <th></th>\n",
       "      <th></th>\n",
       "      <th></th>\n",
       "      <th></th>\n",
       "      <th></th>\n",
       "      <th></th>\n",
       "      <th></th>\n",
       "      <th></th>\n",
       "      <th></th>\n",
       "      <th></th>\n",
       "      <th></th>\n",
       "      <th></th>\n",
       "    </tr>\n",
       "  </thead>\n",
       "  <tbody>\n",
       "    <tr>\n",
       "      <th>P_0</th>\n",
       "      <td>85.48</td>\n",
       "      <td>31.22</td>\n",
       "      <td>W32_A_1101</td>\n",
       "      <td>1422.66</td>\n",
       "      <td>0.10</td>\n",
       "      <td>1673.75</td>\n",
       "      <td>19.26</td>\n",
       "      <td>1.176493</td>\n",
       "      <td>-</td>\n",
       "      <td>-</td>\n",
       "      <td>0.13</td>\n",
       "      <td>0.67</td>\n",
       "      <td>288</td>\n",
       "      <td>86</td>\n",
       "      <td>40</td>\n",
       "      <td>71</td>\n",
       "      <td>0.36</td>\n",
       "      <td>0</td>\n",
       "      <td>198</td>\n",
       "      <td>45</td>\n",
       "      <td>41</td>\n",
       "      <td>4</td>\n",
       "      <td>0</td>\n",
       "      <td>0.10</td>\n",
       "      <td>0.13</td>\n",
       "      <td>0.24</td>\n",
       "      <td>0.53</td>\n",
       "      <td>4</td>\n",
       "      <td>5</td>\n",
       "      <td>2</td>\n",
       "      <td>5</td>\n",
       "      <td>2</td>\n",
       "      <td>2</td>\n",
       "      <td>1</td>\n",
       "      <td>5</td>\n",
       "      <td>0</td>\n",
       "      <td>3</td>\n",
       "      <td>12</td>\n",
       "      <td>3</td>\n",
       "      <td>2</td>\n",
       "      <td>3</td>\n",
       "      <td>3</td>\n",
       "      <td>1</td>\n",
       "      <td>2</td>\n",
       "      <td>1</td>\n",
       "      <td>1</td>\n",
       "      <td>5</td>\n",
       "      <td>0.63</td>\n",
       "      <td>0.810023</td>\n",
       "    </tr>\n",
       "    <tr>\n",
       "      <th>P_0_0</th>\n",
       "      <td>85.48</td>\n",
       "      <td>73.90</td>\n",
       "      <td>W32_A_1101</td>\n",
       "      <td>599.23</td>\n",
       "      <td>0.06</td>\n",
       "      <td>540.06</td>\n",
       "      <td>17.51</td>\n",
       "      <td>0.901257</td>\n",
       "      <td>-</td>\n",
       "      <td>-</td>\n",
       "      <td>0.14</td>\n",
       "      <td>0.22</td>\n",
       "      <td>131</td>\n",
       "      <td>35</td>\n",
       "      <td>13</td>\n",
       "      <td>25</td>\n",
       "      <td>0.34</td>\n",
       "      <td>0</td>\n",
       "      <td>95</td>\n",
       "      <td>16</td>\n",
       "      <td>17</td>\n",
       "      <td>3</td>\n",
       "      <td>0</td>\n",
       "      <td>0.03</td>\n",
       "      <td>0.10</td>\n",
       "      <td>0.28</td>\n",
       "      <td>0.59</td>\n",
       "      <td>1</td>\n",
       "      <td>2</td>\n",
       "      <td>1</td>\n",
       "      <td>1</td>\n",
       "      <td>2</td>\n",
       "      <td>1</td>\n",
       "      <td>0</td>\n",
       "      <td>2</td>\n",
       "      <td>0</td>\n",
       "      <td>2</td>\n",
       "      <td>7</td>\n",
       "      <td>1</td>\n",
       "      <td>2</td>\n",
       "      <td>2</td>\n",
       "      <td>1</td>\n",
       "      <td>0</td>\n",
       "      <td>2</td>\n",
       "      <td>0</td>\n",
       "      <td>0</td>\n",
       "      <td>2</td>\n",
       "      <td>0.59</td>\n",
       "      <td>0.620201</td>\n",
       "    </tr>\n",
       "    <tr>\n",
       "      <th>P_0_1</th>\n",
       "      <td>3.23</td>\n",
       "      <td>0.44</td>\n",
       "      <td>W32_A_1101</td>\n",
       "      <td>201.73</td>\n",
       "      <td>0.08</td>\n",
       "      <td>381.07</td>\n",
       "      <td>11.36</td>\n",
       "      <td>1.889010</td>\n",
       "      <td>-</td>\n",
       "      <td>-</td>\n",
       "      <td>0.17</td>\n",
       "      <td>0.25</td>\n",
       "      <td>51</td>\n",
       "      <td>17</td>\n",
       "      <td>9</td>\n",
       "      <td>10</td>\n",
       "      <td>0.28</td>\n",
       "      <td>0</td>\n",
       "      <td>36</td>\n",
       "      <td>6</td>\n",
       "      <td>7</td>\n",
       "      <td>2</td>\n",
       "      <td>0</td>\n",
       "      <td>0.08</td>\n",
       "      <td>0.17</td>\n",
       "      <td>0.25</td>\n",
       "      <td>0.50</td>\n",
       "      <td>1</td>\n",
       "      <td>1</td>\n",
       "      <td>0</td>\n",
       "      <td>1</td>\n",
       "      <td>1</td>\n",
       "      <td>1</td>\n",
       "      <td>0</td>\n",
       "      <td>0</td>\n",
       "      <td>0</td>\n",
       "      <td>0</td>\n",
       "      <td>3</td>\n",
       "      <td>1</td>\n",
       "      <td>1</td>\n",
       "      <td>0</td>\n",
       "      <td>0</td>\n",
       "      <td>0</td>\n",
       "      <td>1</td>\n",
       "      <td>0</td>\n",
       "      <td>0</td>\n",
       "      <td>1</td>\n",
       "      <td>0.17</td>\n",
       "      <td>0.174816</td>\n",
       "    </tr>\n",
       "    <tr>\n",
       "      <th>P_0_2</th>\n",
       "      <td>0.00</td>\n",
       "      <td>0.00</td>\n",
       "      <td>W32_A_1101</td>\n",
       "      <td>185.60</td>\n",
       "      <td>0.17</td>\n",
       "      <td>282.00</td>\n",
       "      <td>9.35</td>\n",
       "      <td>1.519397</td>\n",
       "      <td>-</td>\n",
       "      <td>-</td>\n",
       "      <td>0.45</td>\n",
       "      <td>0.55</td>\n",
       "      <td>48</td>\n",
       "      <td>17</td>\n",
       "      <td>8</td>\n",
       "      <td>12</td>\n",
       "      <td>0.32</td>\n",
       "      <td>0</td>\n",
       "      <td>31</td>\n",
       "      <td>8</td>\n",
       "      <td>8</td>\n",
       "      <td>1</td>\n",
       "      <td>0</td>\n",
       "      <td>0.17</td>\n",
       "      <td>0.25</td>\n",
       "      <td>0.08</td>\n",
       "      <td>0.50</td>\n",
       "      <td>0</td>\n",
       "      <td>2</td>\n",
       "      <td>0</td>\n",
       "      <td>1</td>\n",
       "      <td>0</td>\n",
       "      <td>0</td>\n",
       "      <td>1</td>\n",
       "      <td>1</td>\n",
       "      <td>0</td>\n",
       "      <td>0</td>\n",
       "      <td>2</td>\n",
       "      <td>1</td>\n",
       "      <td>1</td>\n",
       "      <td>1</td>\n",
       "      <td>0</td>\n",
       "      <td>0</td>\n",
       "      <td>0</td>\n",
       "      <td>0</td>\n",
       "      <td>0</td>\n",
       "      <td>2</td>\n",
       "      <td>0.13</td>\n",
       "      <td>0.195695</td>\n",
       "    </tr>\n",
       "    <tr>\n",
       "      <th>P_0_3</th>\n",
       "      <td>6.45</td>\n",
       "      <td>0.29</td>\n",
       "      <td>W32_A_1101</td>\n",
       "      <td>175.30</td>\n",
       "      <td>0.15</td>\n",
       "      <td>297.42</td>\n",
       "      <td>9.29</td>\n",
       "      <td>1.696634</td>\n",
       "      <td>-</td>\n",
       "      <td>-</td>\n",
       "      <td>0.23</td>\n",
       "      <td>0.37</td>\n",
       "      <td>48</td>\n",
       "      <td>16</td>\n",
       "      <td>8</td>\n",
       "      <td>14</td>\n",
       "      <td>0.37</td>\n",
       "      <td>0</td>\n",
       "      <td>32</td>\n",
       "      <td>8</td>\n",
       "      <td>8</td>\n",
       "      <td>0</td>\n",
       "      <td>0</td>\n",
       "      <td>0.14</td>\n",
       "      <td>0.14</td>\n",
       "      <td>0.36</td>\n",
       "      <td>0.36</td>\n",
       "      <td>1</td>\n",
       "      <td>1</td>\n",
       "      <td>1</td>\n",
       "      <td>2</td>\n",
       "      <td>0</td>\n",
       "      <td>0</td>\n",
       "      <td>0</td>\n",
       "      <td>3</td>\n",
       "      <td>0</td>\n",
       "      <td>0</td>\n",
       "      <td>1</td>\n",
       "      <td>1</td>\n",
       "      <td>0</td>\n",
       "      <td>1</td>\n",
       "      <td>1</td>\n",
       "      <td>1</td>\n",
       "      <td>0</td>\n",
       "      <td>0</td>\n",
       "      <td>0</td>\n",
       "      <td>1</td>\n",
       "      <td>0.13</td>\n",
       "      <td>0.168845</td>\n",
       "    </tr>\n",
       "  </tbody>\n",
       "</table>\n",
       "</div>"
      ],
      "text/plain": [
       "       lig_cov  poc_cov    lig_name   volume  enclosure  surface  depth   \n",
       "name                                                                      \n",
       "P_0      85.48    31.22  W32_A_1101  1422.66       0.10  1673.75  19.26  \\\n",
       "P_0_0    85.48    73.90  W32_A_1101   599.23       0.06   540.06  17.51   \n",
       "P_0_1     3.23     0.44  W32_A_1101   201.73       0.08   381.07  11.36   \n",
       "P_0_2     0.00     0.00  W32_A_1101   185.60       0.17   282.00   9.35   \n",
       "P_0_3     6.45     0.29  W32_A_1101   175.30       0.15   297.42   9.29   \n",
       "\n",
       "       surf/vol lid/hull ellVol  ell c/a  ell b/a  siteAtms  accept  donor   \n",
       "name                                                                         \n",
       "P_0    1.176493        -      -     0.13     0.67       288      86     40  \\\n",
       "P_0_0  0.901257        -      -     0.14     0.22       131      35     13   \n",
       "P_0_1  1.889010        -      -     0.17     0.25        51      17      9   \n",
       "P_0_2  1.519397        -      -     0.45     0.55        48      17      8   \n",
       "P_0_3  1.696634        -      -     0.23     0.37        48      16      8   \n",
       "\n",
       "       hydrophobic_interactions  hydrophobicity  metal   Cs  Ns  Os  Ss  Xs   \n",
       "name                                                                          \n",
       "P_0                          71            0.36      0  198  45  41   4   0  \\\n",
       "P_0_0                        25            0.34      0   95  16  17   3   0   \n",
       "P_0_1                        10            0.28      0   36   6   7   2   0   \n",
       "P_0_2                        12            0.32      0   31   8   8   1   0   \n",
       "P_0_3                        14            0.37      0   32   8   8   0   0   \n",
       "\n",
       "       negAA  posAA  polarAA  apolarAA  ALA  ARG  ASN  ASP  CYS  GLN  GLU   \n",
       "name                                                                        \n",
       "P_0     0.10   0.13     0.24      0.53    4    5    2    5    2    2    1  \\\n",
       "P_0_0   0.03   0.10     0.28      0.59    1    2    1    1    2    1    0   \n",
       "P_0_1   0.08   0.17     0.25      0.50    1    1    0    1    1    1    0   \n",
       "P_0_2   0.17   0.25     0.08      0.50    0    2    0    1    0    0    1   \n",
       "P_0_3   0.14   0.14     0.36      0.36    1    1    1    2    0    0    0   \n",
       "\n",
       "       GLY  HIS  ILE  LEU  LYS  MET  PHE  PRO  SER  THR  TRP  TYR  VAL   \n",
       "name                                                                     \n",
       "P_0      5    0    3   12    3    2    3    3    1    2    1    1    5  \\\n",
       "P_0_0    2    0    2    7    1    2    2    1    0    2    0    0    2   \n",
       "P_0_1    0    0    0    3    1    1    0    0    0    1    0    0    1   \n",
       "P_0_2    1    0    0    2    1    1    1    0    0    0    0    0    2   \n",
       "P_0_3    3    0    0    1    1    0    1    1    1    0    0    0    1   \n",
       "\n",
       "       simpleScore  drugScore  \n",
       "name                           \n",
       "P_0           0.63   0.810023  \n",
       "P_0_0         0.59   0.620201  \n",
       "P_0_1         0.17   0.174816  \n",
       "P_0_2         0.13   0.195695  \n",
       "P_0_3         0.13   0.168845  "
      ]
     },
     "execution_count": 7,
     "metadata": {},
     "output_type": "execute_result"
    }
   ],
   "source": [
    "metadata = get_dogsitescorer_metadata(job_location)\n",
    "metadata.head()"
   ]
  },
  {
   "cell_type": "markdown",
   "metadata": {},
   "source": [
    "**Note**: We selected to have pockets and subpockets returned from the algorithm, e.g. pocket ``P_0`` contains subpockets ``P_0_0`` to ``P_0_5``. Depending on your research question you might prefer to work with the pockets - mostly if you are more interested in the general location (e.g. for docking) - or the subpockets, which give a more granular description."
   ]
  },
  {
   "cell_type": "markdown",
   "metadata": {},
   "source": [
    "#### Pick the most suitable pocket\n",
    "The pockets are initially sorted by the volume of the respective pocket.\n",
    "We want to have a deeper look at the pocket that contains the ligand (see ligand coverage column ``lig_cov``) and which is covered by the ligand the most (pocket coverage ``poc_cov``). \n",
    "\n",
    "For clarity, we drop a few columns first from the dataframe."
   ]
  },
  {
   "cell_type": "code",
   "execution_count": 8,
   "metadata": {},
   "outputs": [],
   "source": [
    "metadata = metadata[\n",
    "    [\n",
    "        \"lig_cov\",\n",
    "        \"poc_cov\",\n",
    "        \"lig_name\",\n",
    "        \"volume\",\n",
    "        \"enclosure\",\n",
    "        \"surface\",\n",
    "        \"depth\",\n",
    "        \"surf/vol\",\n",
    "        \"accept\",\n",
    "        \"donor\",\n",
    "        \"hydrophobic_interactions\",\n",
    "        \"hydrophobicity\",\n",
    "        \"metal\",\n",
    "        \"simpleScore\",\n",
    "        \"drugScore\",\n",
    "    ]\n",
    "]"
   ]
  },
  {
   "cell_type": "markdown",
   "metadata": {},
   "source": [
    "Sort the obtained binding site by your column of interest."
   ]
  },
  {
   "cell_type": "code",
   "execution_count": 9,
   "metadata": {},
   "outputs": [
    {
     "data": {
      "text/html": [
       "<div>\n",
       "<style scoped>\n",
       "    .dataframe tbody tr th:only-of-type {\n",
       "        vertical-align: middle;\n",
       "    }\n",
       "\n",
       "    .dataframe tbody tr th {\n",
       "        vertical-align: top;\n",
       "    }\n",
       "\n",
       "    .dataframe thead th {\n",
       "        text-align: right;\n",
       "    }\n",
       "</style>\n",
       "<table border=\"1\" class=\"dataframe\">\n",
       "  <thead>\n",
       "    <tr style=\"text-align: right;\">\n",
       "      <th></th>\n",
       "      <th>lig_cov</th>\n",
       "      <th>poc_cov</th>\n",
       "      <th>lig_name</th>\n",
       "      <th>volume</th>\n",
       "      <th>enclosure</th>\n",
       "      <th>surface</th>\n",
       "      <th>depth</th>\n",
       "      <th>surf/vol</th>\n",
       "      <th>accept</th>\n",
       "      <th>donor</th>\n",
       "      <th>hydrophobic_interactions</th>\n",
       "      <th>hydrophobicity</th>\n",
       "      <th>metal</th>\n",
       "      <th>simpleScore</th>\n",
       "      <th>drugScore</th>\n",
       "    </tr>\n",
       "    <tr>\n",
       "      <th>name</th>\n",
       "      <th></th>\n",
       "      <th></th>\n",
       "      <th></th>\n",
       "      <th></th>\n",
       "      <th></th>\n",
       "      <th></th>\n",
       "      <th></th>\n",
       "      <th></th>\n",
       "      <th></th>\n",
       "      <th></th>\n",
       "      <th></th>\n",
       "      <th></th>\n",
       "      <th></th>\n",
       "      <th></th>\n",
       "      <th></th>\n",
       "    </tr>\n",
       "  </thead>\n",
       "  <tbody>\n",
       "    <tr>\n",
       "      <th>P_0_0</th>\n",
       "      <td>85.48</td>\n",
       "      <td>73.90</td>\n",
       "      <td>W32_A_1101</td>\n",
       "      <td>599.23</td>\n",
       "      <td>0.06</td>\n",
       "      <td>540.06</td>\n",
       "      <td>17.51</td>\n",
       "      <td>0.901257</td>\n",
       "      <td>35</td>\n",
       "      <td>13</td>\n",
       "      <td>25</td>\n",
       "      <td>0.34</td>\n",
       "      <td>0</td>\n",
       "      <td>0.59</td>\n",
       "      <td>0.620201</td>\n",
       "    </tr>\n",
       "    <tr>\n",
       "      <th>P_0</th>\n",
       "      <td>85.48</td>\n",
       "      <td>31.22</td>\n",
       "      <td>W32_A_1101</td>\n",
       "      <td>1422.66</td>\n",
       "      <td>0.10</td>\n",
       "      <td>1673.75</td>\n",
       "      <td>19.26</td>\n",
       "      <td>1.176493</td>\n",
       "      <td>86</td>\n",
       "      <td>40</td>\n",
       "      <td>71</td>\n",
       "      <td>0.36</td>\n",
       "      <td>0</td>\n",
       "      <td>0.63</td>\n",
       "      <td>0.810023</td>\n",
       "    </tr>\n",
       "    <tr>\n",
       "      <th>P_0_3</th>\n",
       "      <td>6.45</td>\n",
       "      <td>0.29</td>\n",
       "      <td>W32_A_1101</td>\n",
       "      <td>175.30</td>\n",
       "      <td>0.15</td>\n",
       "      <td>297.42</td>\n",
       "      <td>9.29</td>\n",
       "      <td>1.696634</td>\n",
       "      <td>16</td>\n",
       "      <td>8</td>\n",
       "      <td>14</td>\n",
       "      <td>0.37</td>\n",
       "      <td>0</td>\n",
       "      <td>0.13</td>\n",
       "      <td>0.168845</td>\n",
       "    </tr>\n",
       "    <tr>\n",
       "      <th>P_0_1</th>\n",
       "      <td>3.23</td>\n",
       "      <td>0.44</td>\n",
       "      <td>W32_A_1101</td>\n",
       "      <td>201.73</td>\n",
       "      <td>0.08</td>\n",
       "      <td>381.07</td>\n",
       "      <td>11.36</td>\n",
       "      <td>1.889010</td>\n",
       "      <td>17</td>\n",
       "      <td>9</td>\n",
       "      <td>10</td>\n",
       "      <td>0.28</td>\n",
       "      <td>0</td>\n",
       "      <td>0.17</td>\n",
       "      <td>0.174816</td>\n",
       "    </tr>\n",
       "    <tr>\n",
       "      <th>P_0_2</th>\n",
       "      <td>0.00</td>\n",
       "      <td>0.00</td>\n",
       "      <td>W32_A_1101</td>\n",
       "      <td>185.60</td>\n",
       "      <td>0.17</td>\n",
       "      <td>282.00</td>\n",
       "      <td>9.35</td>\n",
       "      <td>1.519397</td>\n",
       "      <td>17</td>\n",
       "      <td>8</td>\n",
       "      <td>12</td>\n",
       "      <td>0.32</td>\n",
       "      <td>0</td>\n",
       "      <td>0.13</td>\n",
       "      <td>0.195695</td>\n",
       "    </tr>\n",
       "  </tbody>\n",
       "</table>\n",
       "</div>"
      ],
      "text/plain": [
       "       lig_cov  poc_cov    lig_name   volume  enclosure  surface  depth   \n",
       "name                                                                      \n",
       "P_0_0    85.48    73.90  W32_A_1101   599.23       0.06   540.06  17.51  \\\n",
       "P_0      85.48    31.22  W32_A_1101  1422.66       0.10  1673.75  19.26   \n",
       "P_0_3     6.45     0.29  W32_A_1101   175.30       0.15   297.42   9.29   \n",
       "P_0_1     3.23     0.44  W32_A_1101   201.73       0.08   381.07  11.36   \n",
       "P_0_2     0.00     0.00  W32_A_1101   185.60       0.17   282.00   9.35   \n",
       "\n",
       "       surf/vol  accept  donor  hydrophobic_interactions  hydrophobicity   \n",
       "name                                                                       \n",
       "P_0_0  0.901257      35     13                        25            0.34  \\\n",
       "P_0    1.176493      86     40                        71            0.36   \n",
       "P_0_3  1.696634      16      8                        14            0.37   \n",
       "P_0_1  1.889010      17      9                        10            0.28   \n",
       "P_0_2  1.519397      17      8                        12            0.32   \n",
       "\n",
       "       metal  simpleScore  drugScore  \n",
       "name                                  \n",
       "P_0_0      0         0.59   0.620201  \n",
       "P_0        0         0.63   0.810023  \n",
       "P_0_3      0         0.13   0.168845  \n",
       "P_0_1      0         0.17   0.174816  \n",
       "P_0_2      0         0.13   0.195695  "
      ]
     },
     "execution_count": 9,
     "metadata": {},
     "output_type": "execute_result"
    }
   ],
   "source": [
    "metadata.sort_values(by=[\"lig_cov\", \"poc_cov\"], ascending=False).head()\n",
    "# NBVAL_CHECK_OUTPUT"
   ]
  },
  {
   "cell_type": "markdown",
   "metadata": {},
   "source": [
    "**Note**: We decided here to select the pocket with the best ligand and pocket coverage to have a precise description of the pocket for our comparison later. In other drug design scenarios, you might want to simply sort by ``drugScore`` (``metadata.sort_values(by='drugScore', ascending=False)``) or other values, such as ``volume`` or ``simpleScore``."
   ]
  },
  {
   "cell_type": "markdown",
   "metadata": {},
   "source": [
    "We define a function that returns the ID (variable is called ``best_pocket_id``) of the pocket that fullfills our sorting criterion."
   ]
  },
  {
   "cell_type": "code",
   "execution_count": 10,
   "metadata": {},
   "outputs": [],
   "source": [
    "def select_best_pocket(metadata, sorted_by=\"drugScore\"):\n",
    "    \"\"\"\n",
    "    This function uses the defined sorting parameter to identify\n",
    "    the best pocket among the obtained pockets.\n",
    "\n",
    "    Parameters\n",
    "    ----------\n",
    "    metadata : pd.DataFrame\n",
    "        Pockets retrieved from the DoGSiteScorer website\n",
    "\n",
    "    by : str\n",
    "        Method name(s) to sort table by (default is to sort by drugScore).\n",
    "\n",
    "    Returns\n",
    "    -------\n",
    "    str\n",
    "        Best binding site name.\n",
    "    \"\"\"\n",
    "\n",
    "    by_methods = [\"drugScore\", \"volume\", \"simpleScore\", \"lig_cov\", \"poc_cov\"]\n",
    "\n",
    "    # Sort by the selected method\n",
    "    if all(elem in by_methods for elem in sorted_by):\n",
    "        sorted_pocket = metadata.sort_values(sorted_by, ascending=False)\n",
    "    else:\n",
    "        raise ValueError(f'Selection method not in list: {\", \".join(by_methods)}')\n",
    "\n",
    "    # Get name of best pocket\n",
    "    best_pocket_name = sorted_pocket.iloc[0, :].name\n",
    "\n",
    "    return best_pocket_name"
   ]
  },
  {
   "cell_type": "markdown",
   "metadata": {},
   "source": [
    "We now programatically access the name of the best pocket based on the selected sorting."
   ]
  },
  {
   "cell_type": "code",
   "execution_count": 11,
   "metadata": {},
   "outputs": [
    {
     "data": {
      "text/plain": [
       "'P_0_0'"
      ]
     },
     "execution_count": 11,
     "metadata": {},
     "output_type": "execute_result"
    }
   ],
   "source": [
    "best_pocket_id = select_best_pocket(metadata, [\"lig_cov\", \"poc_cov\"])\n",
    "best_pocket_id\n",
    "# NBVAL_CHECK_OUTPUT"
   ]
  },
  {
   "cell_type": "markdown",
   "metadata": {},
   "source": [
    "#### Get binding site file content"
   ]
  },
  {
   "cell_type": "markdown",
   "metadata": {},
   "source": [
    "We define two helper functions to first get the URL for all pocket pdb or ccp4 files, respectively. Then, we only process the files further for our pocket of interest.\n",
    "\n",
    "Note that DoGSiteScorer returns two structural (3D) file formats per pocket:\n",
    "\n",
    "* *pdb*: These files contain all atoms/residues surrounding the pocket.\n",
    "    * Accessed via ``residues``\n",
    "    * Naming scheme, e.g. 3w32_P_0_0``_res.pdb``\n",
    "* *ccp4*: These files contain the grid points composing the pocket, also considered the *volume* of the pocket.\n",
    "    * Accessed via ``pockets``\n",
    "    * Naming scheme, e.g. 3w32_P_0_0``_gpsAll.ccp4.gz``"
   ]
  },
  {
   "cell_type": "code",
   "execution_count": 12,
   "metadata": {},
   "outputs": [],
   "source": [
    "def get_url_for_pockets(job_location, file_type=\"pdb\"):\n",
    "    \"\"\"\n",
    "    Get all pocket file locations for a finished DoGSiteScorer job\n",
    "    for a selected file type (pdb/ccp4).\n",
    "\n",
    "    Parameters\n",
    "    ----------\n",
    "    job_location : str\n",
    "        URL of finished job submitted to the DoGSiteScorer web server.\n",
    "    file_type : str\n",
    "        Type of file to be returned (pdb/ccp4).\n",
    "\n",
    "    Returns\n",
    "    -------\n",
    "    list\n",
    "        List of all respective pocket file URLs.\n",
    "    \"\"\"\n",
    "\n",
    "    # Get job results\n",
    "    result = requests.get(job_location)\n",
    "\n",
    "    if file_type == \"pdb\":\n",
    "        # Get pocket residues\n",
    "        return result.json()[\"residues\"]\n",
    "    elif file_type == \"ccp4\":\n",
    "        # Get pocket volumes\n",
    "        return result.json()[\"pockets\"]\n",
    "    else:\n",
    "        raise ValueError(f\"File type {file_type} not available.\")"
   ]
  },
  {
   "cell_type": "code",
   "execution_count": 13,
   "metadata": {},
   "outputs": [],
   "source": [
    "def get_selected_pocket_location(job_location, best_pocket, file_type=\"pdb\"):\n",
    "    \"\"\"\n",
    "    Get the selected binding site file location.\n",
    "\n",
    "    Parameters\n",
    "    ----------\n",
    "    job_location : str\n",
    "        URL of finished job submitted to the DoGSiteScorer web server.\n",
    "    best_pocket : str\n",
    "        Selected pocket id.\n",
    "    file_type : str\n",
    "        Type of file to be returned (pdb/ccp4).\n",
    "\n",
    "    Returns\n",
    "    ------\n",
    "    str\n",
    "        URL of selected pocket file on the DoGSiteScorer web server.\n",
    "    \"\"\"\n",
    "    result = []\n",
    "\n",
    "    # Get URL for all available pdb or ccp4 files\n",
    "    pocket_files = get_url_for_pockets(job_location, file_type)\n",
    "\n",
    "    for pocket_file in pocket_files:\n",
    "        if file_type == \"pdb\":\n",
    "            if f\"{best_pocket}_res\" in pocket_file:\n",
    "                result.append(pocket_file)\n",
    "        elif file_type == \"ccp4\":\n",
    "            if f\"{best_pocket}_gpsAll\" in pocket_file:\n",
    "                result.append(pocket_file)\n",
    "\n",
    "    if len(result) > 1:\n",
    "        raise TypeError(f'Multiple strings detected: {\", \".join(result)}.')\n",
    "    elif len(result) == 0:\n",
    "        raise TypeError(f\"No string detected.\")\n",
    "    else:\n",
    "        pass\n",
    "\n",
    "    return result[0]"
   ]
  },
  {
   "cell_type": "markdown",
   "metadata": {},
   "source": [
    "Get URL for PDB file containing the selected pocket's residues."
   ]
  },
  {
   "cell_type": "code",
   "execution_count": 14,
   "metadata": {},
   "outputs": [
    {
     "data": {
      "text/plain": [
       "'https://proteins.plus/results/dogsite/twNQ4AjQiuzoUUMsSdA3NxH4/3w32_P_0_0_res.pdb'"
      ]
     },
     "execution_count": 14,
     "metadata": {},
     "output_type": "execute_result"
    }
   ],
   "source": [
    "selected_pocket_residues_url = get_selected_pocket_location(job_location, best_pocket_id, \"pdb\")\n",
    "selected_pocket_residues_url"
   ]
  },
  {
   "cell_type": "markdown",
   "metadata": {},
   "source": [
    "#### Investigate detected pocket\n",
    "\n",
    "**Pocket descriptors**\n",
    "\n",
    "The algorithm returns information on all calculated descriptors for the respective pocket. "
   ]
  },
  {
   "cell_type": "code",
   "execution_count": 15,
   "metadata": {},
   "outputs": [
    {
     "data": {
      "text/plain": [
       "lig_cov                          85.48\n",
       "poc_cov                           73.9\n",
       "lig_name                    W32_A_1101\n",
       "volume                          599.23\n",
       "enclosure                         0.06\n",
       "surface                         540.06\n",
       "depth                            17.51\n",
       "surf/vol                      0.901257\n",
       "accept                              35\n",
       "donor                               13\n",
       "hydrophobic_interactions            25\n",
       "hydrophobicity                    0.34\n",
       "metal                                0\n",
       "simpleScore                       0.59\n",
       "drugScore                     0.620201\n",
       "Name: P_0_0, dtype: object"
      ]
     },
     "execution_count": 15,
     "metadata": {},
     "output_type": "execute_result"
    }
   ],
   "source": [
    "metadata.loc[best_pocket_id]\n",
    "# NBVAL_CHECK_OUTPUT"
   ]
  },
  {
   "cell_type": "markdown",
   "metadata": {},
   "source": [
    "**Visualize the pocket**\n",
    "\n",
    "We need to get the respective ``ccp4`` file that contains the pocket information. First, we get the URL for the``ccp4`` file containing the selected pocket's volume."
   ]
  },
  {
   "cell_type": "code",
   "execution_count": 16,
   "metadata": {},
   "outputs": [
    {
     "data": {
      "text/plain": [
       "'https://proteins.plus/results/dogsite/twNQ4AjQiuzoUUMsSdA3NxH4/3w32_P_0_0_gpsAll.ccp4.gz'"
      ]
     },
     "execution_count": 16,
     "metadata": {},
     "output_type": "execute_result"
    }
   ],
   "source": [
    "selected_pocket_volume_url = get_selected_pocket_location(job_location, best_pocket_id, \"ccp4\")\n",
    "selected_pocket_volume_url"
   ]
  },
  {
   "cell_type": "markdown",
   "metadata": {},
   "source": [
    "We get the grid point coordinates from that proteins.plus URL. We do not save this to disk, but to a memory file (`io.BytesIO`). Thanks to the extension in the URL, we know this is a gzipped (`.gz` extension) CCP4 map (`.ccp4`). What we do:\n",
    "\n",
    "1. Download the file from the server into memory. At this point we have gzipped bytes.\n",
    "2. We decompress the response in memory using `gzip.decompress`.\n",
    "3. We wrap it in a `io.BytesIO` object that will behave as an opened file."
   ]
  },
  {
   "cell_type": "code",
   "execution_count": 17,
   "metadata": {},
   "outputs": [],
   "source": [
    "r = requests.get(selected_pocket_volume_url)\n",
    "r.raise_for_status()\n",
    "# Decompress response content and wrap it in a file-like object\n",
    "memfile = io.BytesIO(gzip.decompress(r.content))"
   ]
  },
  {
   "cell_type": "markdown",
   "metadata": {},
   "source": [
    "**Note**: If the pocket volume does not show in the NGLviewer, please try to run the notebook with Jupyter Notebook (instead of Jupyter Lab)."
   ]
  },
  {
   "cell_type": "code",
   "execution_count": 18,
   "metadata": {},
   "outputs": [
    {
     "data": {
      "application/vnd.jupyter.widget-view+json": {
       "model_id": "6e40b176c28649fca4ec3b175104d5ac",
       "version_major": 2,
       "version_minor": 0
      },
      "text/plain": [
       "NGLWidget()"
      ]
     },
     "metadata": {},
     "output_type": "display_data"
    }
   ],
   "source": [
    "viewer = nglview.show_pdbid(pdb_id)\n",
    "# Since we are passing bytes with no path or extension\n",
    "# we need to tell nglview what kind of data this is: ccp4\n",
    "viewer.add_component(memfile, ext=\"ccp4\")\n",
    "viewer.center()\n",
    "viewer"
   ]
  },
  {
   "cell_type": "code",
   "execution_count": 22,
   "metadata": {},
   "outputs": [],
   "source": [
    "viewer.render_image(trim=True, factor=2);"
   ]
  },
  {
   "cell_type": "code",
   "execution_count": 23,
   "metadata": {
    "tags": [
     "nbsphinx-thumbnail"
    ]
   },
   "outputs": [
    {
     "data": {
      "image/png": "",
      "text/plain": [
       "<IPython.core.display.Image object>"
      ]
     },
     "execution_count": 23,
     "metadata": {},
     "output_type": "execute_result"
    }
   ],
   "source": [
    "viewer._display_image()"
   ]
  },
  {
   "cell_type": "markdown",
   "metadata": {},
   "source": [
    "The above rendered image shows the same content as when using the proteins.plus web server directly (see Figure 1). "
   ]
  },
  {
   "cell_type": "markdown",
   "metadata": {},
   "source": [
    "### Comparison between DoGSiteScorer and KLIFS pocket"
   ]
  },
  {
   "cell_type": "markdown",
   "metadata": {},
   "source": [
    "#### Get DoGSiteScorer pocket residues\n",
    "Since we want to compare the automatically predicted pocket with the manually assigned KLIFS pocket, we need to identify the pocket residues."
   ]
  },
  {
   "cell_type": "code",
   "execution_count": 24,
   "metadata": {},
   "outputs": [],
   "source": [
    "def get_pocket_residues(pocket_url):\n",
    "    \"\"\"\n",
    "    Gets residue IDs and names of a specified pocket (via URL).\n",
    "\n",
    "    Parameters\n",
    "    ----------\n",
    "    pocket_url : str\n",
    "        URL of selected pocket file on the DoGSiteScorer web server.\n",
    "\n",
    "    Returns\n",
    "    -------\n",
    "    pandas.DataFrame\n",
    "        Table of residues names and IDs for the selected binding site.\n",
    "    \"\"\"\n",
    "\n",
    "    # Retrieve PDB file content from URL\n",
    "    result = requests.get(pocket_url)\n",
    "\n",
    "    # Get content of PDB file\n",
    "    pdb_residues = result.text\n",
    "\n",
    "    # Load PDB format as DataFrame\n",
    "    ppdb = PandasPdb().read_pdb_from_list(pdb_residues.splitlines(True))\n",
    "    pdb_df = ppdb.df[\"ATOM\"]\n",
    "\n",
    "    # Drop duplicates\n",
    "    # PDB file contains per atom entries, we only need per residue info\n",
    "    pdb_df.sort_values(\"residue_number\", inplace=True)\n",
    "    pdb_df.drop_duplicates(subset=\"residue_number\", keep=\"first\", inplace=True)\n",
    "\n",
    "    return pdb_df[[\"residue_number\", \"residue_name\"]]"
   ]
  },
  {
   "cell_type": "markdown",
   "metadata": {},
   "source": [
    "We get the residues of selected pocket and show the top 5 residues."
   ]
  },
  {
   "cell_type": "code",
   "execution_count": 25,
   "metadata": {},
   "outputs": [
    {
     "data": {
      "text/html": [
       "<div>\n",
       "<style scoped>\n",
       "    .dataframe tbody tr th:only-of-type {\n",
       "        vertical-align: middle;\n",
       "    }\n",
       "\n",
       "    .dataframe tbody tr th {\n",
       "        vertical-align: top;\n",
       "    }\n",
       "\n",
       "    .dataframe thead th {\n",
       "        text-align: right;\n",
       "    }\n",
       "</style>\n",
       "<table border=\"1\" class=\"dataframe\">\n",
       "  <thead>\n",
       "    <tr style=\"text-align: right;\">\n",
       "      <th></th>\n",
       "      <th>residue_number</th>\n",
       "      <th>residue_name</th>\n",
       "    </tr>\n",
       "  </thead>\n",
       "  <tbody>\n",
       "    <tr>\n",
       "      <th>0</th>\n",
       "      <td>718</td>\n",
       "      <td>LEU</td>\n",
       "    </tr>\n",
       "    <tr>\n",
       "      <th>4</th>\n",
       "      <td>726</td>\n",
       "      <td>VAL</td>\n",
       "    </tr>\n",
       "    <tr>\n",
       "      <th>11</th>\n",
       "      <td>743</td>\n",
       "      <td>ALA</td>\n",
       "    </tr>\n",
       "    <tr>\n",
       "      <th>12</th>\n",
       "      <td>744</td>\n",
       "      <td>ILE</td>\n",
       "    </tr>\n",
       "    <tr>\n",
       "      <th>20</th>\n",
       "      <td>745</td>\n",
       "      <td>LYS</td>\n",
       "    </tr>\n",
       "  </tbody>\n",
       "</table>\n",
       "</div>"
      ],
      "text/plain": [
       "    residue_number residue_name\n",
       "0              718          LEU\n",
       "4              726          VAL\n",
       "11             743          ALA\n",
       "12             744          ILE\n",
       "20             745          LYS"
      ]
     },
     "execution_count": 25,
     "metadata": {},
     "output_type": "execute_result"
    }
   ],
   "source": [
    "dogsite_pocket_residues_df = get_pocket_residues(selected_pocket_residues_url)\n",
    "dogsite_pocket_residues_df.head()\n",
    "# NBVAL_CHECK_OUTPUT"
   ]
  },
  {
   "cell_type": "markdown",
   "metadata": {},
   "source": [
    "**Another pocket visualization**\n",
    "\n",
    "We can also use the selected pocket residues to investigate our pocket in 3D."
   ]
  },
  {
   "cell_type": "code",
   "execution_count": 26,
   "metadata": {},
   "outputs": [
    {
     "data": {
      "application/vnd.jupyter.widget-view+json": {
       "model_id": "4a3d60cc1a0e46ac851a72df5ebdec60",
       "version_major": 2,
       "version_minor": 0
      },
      "text/plain": [
       "NGLWidget()"
      ]
     },
     "metadata": {},
     "output_type": "display_data"
    }
   ],
   "source": [
    "# Show protein structure as cartoon\n",
    "viewer = nglview.show_pdbid(pdb_id)\n",
    "# Select pocket residues\n",
    "selection = (\n",
    "    f\":{chain_id} and ({' or '.join(dogsite_pocket_residues_df['residue_number'].astype(str))})\"\n",
    ")\n",
    "# Show pocket residues as stick\n",
    "viewer.add_representation(\"ball+stick\", selection=selection, aspectRatio=1.0)\n",
    "# Show ligand as ball and stick\n",
    "viewer.add_representation(\"ball+stick\", selection=ligand_id.split(\"_\")[0])\n",
    "viewer.center()\n",
    "viewer"
   ]
  },
  {
   "cell_type": "code",
   "execution_count": 27,
   "metadata": {},
   "outputs": [],
   "source": [
    "viewer.render_image(trim=True, factor=2);"
   ]
  },
  {
   "cell_type": "code",
   "execution_count": 28,
   "metadata": {},
   "outputs": [
    {
     "data": {
      "image/png": "[encoded data removed]",
      "text/plain": [
       "<IPython.core.display.Image object>"
      ]
     },
     "execution_count": 28,
     "metadata": {},
     "output_type": "execute_result"
    }
   ],
   "source": [
    "viewer._display_image()"
   ]
  },
  {
   "cell_type": "markdown",
   "metadata": {},
   "source": [
    "#### Get KLIFS pocket residues"
   ]
  },
  {
   "cell_type": "markdown",
   "metadata": {},
   "source": [
    "We are using the `opencadd.databases.klifs` module to extract the binding site residues (PDB residue numbering) as defined in the KLIFS database.\n",
    "\n",
    "Please refer to __Talktorial T012__ for detailed information about KLIFS and the `opencadd.databases.klifs` module usage."
   ]
  },
  {
   "cell_type": "code",
   "execution_count": 29,
   "metadata": {},
   "outputs": [],
   "source": [
    "session = setup_remote()"
   ]
  },
  {
   "cell_type": "code",
   "execution_count": 30,
   "metadata": {},
   "outputs": [],
   "source": [
    "# Get first structure KLIFS ID associated with PDB ID\n",
    "structures = session.structures.by_structure_pdb_id(pdb_id)\n",
    "structure_klifs_id = structures[\"structure.klifs_id\"].iloc[0]"
   ]
  },
  {
   "cell_type": "code",
   "execution_count": 31,
   "metadata": {},
   "outputs": [
    {
     "data": {
      "text/html": [
       "<div>\n",
       "<style scoped>\n",
       "    .dataframe tbody tr th:only-of-type {\n",
       "        vertical-align: middle;\n",
       "    }\n",
       "\n",
       "    .dataframe tbody tr th {\n",
       "        vertical-align: top;\n",
       "    }\n",
       "\n",
       "    .dataframe thead th {\n",
       "        text-align: right;\n",
       "    }\n",
       "</style>\n",
       "<table border=\"1\" class=\"dataframe\">\n",
       "  <thead>\n",
       "    <tr style=\"text-align: right;\">\n",
       "      <th></th>\n",
       "      <th>residue.klifs_id</th>\n",
       "      <th>residue.id</th>\n",
       "      <th>residue.klifs_region_id</th>\n",
       "      <th>residue.klifs_region</th>\n",
       "      <th>residue.klifs_color</th>\n",
       "    </tr>\n",
       "  </thead>\n",
       "  <tbody>\n",
       "    <tr>\n",
       "      <th>0</th>\n",
       "      <td>1</td>\n",
       "      <td>716</td>\n",
       "      <td>I.1</td>\n",
       "      <td>I</td>\n",
       "      <td>khaki</td>\n",
       "    </tr>\n",
       "    <tr>\n",
       "      <th>1</th>\n",
       "      <td>2</td>\n",
       "      <td>717</td>\n",
       "      <td>I.2</td>\n",
       "      <td>I</td>\n",
       "      <td>khaki</td>\n",
       "    </tr>\n",
       "    <tr>\n",
       "      <th>2</th>\n",
       "      <td>3</td>\n",
       "      <td>718</td>\n",
       "      <td>I.3</td>\n",
       "      <td>I</td>\n",
       "      <td>khaki</td>\n",
       "    </tr>\n",
       "    <tr>\n",
       "      <th>3</th>\n",
       "      <td>4</td>\n",
       "      <td>719</td>\n",
       "      <td>g.l.4</td>\n",
       "      <td>g.l</td>\n",
       "      <td>green</td>\n",
       "    </tr>\n",
       "    <tr>\n",
       "      <th>4</th>\n",
       "      <td>5</td>\n",
       "      <td>720</td>\n",
       "      <td>g.l.5</td>\n",
       "      <td>g.l</td>\n",
       "      <td>green</td>\n",
       "    </tr>\n",
       "  </tbody>\n",
       "</table>\n",
       "</div>"
      ],
      "text/plain": [
       "   residue.klifs_id  residue.id residue.klifs_region_id residue.klifs_region   \n",
       "0                 1         716                     I.1                    I  \\\n",
       "1                 2         717                     I.2                    I   \n",
       "2                 3         718                     I.3                    I   \n",
       "3                 4         719                   g.l.4                  g.l   \n",
       "4                 5         720                   g.l.5                  g.l   \n",
       "\n",
       "  residue.klifs_color  \n",
       "0               khaki  \n",
       "1               khaki  \n",
       "2               khaki  \n",
       "3               green  \n",
       "4               green  "
      ]
     },
     "execution_count": 31,
     "metadata": {},
     "output_type": "execute_result"
    }
   ],
   "source": [
    "# Get the structure's pocket\n",
    "klifs_pocket_df = session.pockets.by_structure_klifs_id(structure_klifs_id)\n",
    "# Residue ID: Cast string to int\n",
    "klifs_pocket_df = klifs_pocket_df.astype({\"residue.id\": int})\n",
    "klifs_pocket_df.head()\n",
    "# NBVAL_CHECK_OUTPUT"
   ]
  },
  {
   "cell_type": "markdown",
   "metadata": {},
   "source": [
    "#### Overlap of pocket residues"
   ]
  },
  {
   "cell_type": "code",
   "execution_count": 32,
   "metadata": {},
   "outputs": [
    {
     "name": "stdout",
     "output_type": "stream",
     "text": [
      "DoGSiteScorer pocket P_0_0 with 29 residues detected.\n",
      "KLIFS pocket with 85 residues detected.\n"
     ]
    }
   ],
   "source": [
    "# Get DoGSiteScorer pocket residues as list\n",
    "dogsite_pocket_residues = dogsite_pocket_residues_df[\"residue_number\"].to_list()\n",
    "print(\n",
    "    f\"DoGSiteScorer pocket {best_pocket_id} with {len(dogsite_pocket_residues)} residues detected.\"\n",
    ")\n",
    "# Get KLIFS pocket residues as list\n",
    "klifs_pocket_residues = klifs_pocket_df[\"residue.id\"].to_list()\n",
    "print(f\"KLIFS pocket with {len(klifs_pocket_residues)} residues detected.\")"
   ]
  },
  {
   "cell_type": "code",
   "execution_count": 33,
   "metadata": {},
   "outputs": [
    {
     "name": "stdout",
     "output_type": "stream",
     "text": [
      "Overlap between the two residue sets: 27.\n"
     ]
    }
   ],
   "source": [
    "overlap = set.intersection(set(dogsite_pocket_residues), set(klifs_pocket_residues))\n",
    "print(f\"Overlap between the two residue sets: {len(overlap)}.\")\n",
    "# NBVAL_CHECK_OUTPUT"
   ]
  },
  {
   "cell_type": "markdown",
   "metadata": {},
   "source": [
    "Plot the overlap as Venn diagram."
   ]
  },
  {
   "cell_type": "code",
   "execution_count": 34,
   "metadata": {},
   "outputs": [
    {
     "name": "stdout",
     "output_type": "stream",
     "text": [
      "Residue overlap between the two methods using P_0_0.\n"
     ]
    },
    {
     "data": {
      "image/png": "[encoded data removed]",
      "text/plain": [
       "<Figure size 640x480 with 1 Axes>"
      ]
     },
     "metadata": {},
     "output_type": "display_data"
    }
   ],
   "source": [
    "print(f\"Residue overlap between the two methods using {best_pocket_id}.\")\n",
    "venn2(\n",
    "    [set(dogsite_pocket_residues), set(klifs_pocket_residues)],\n",
    "    set_labels=(\"DoGSiteScorer\", \"KLIFS\"),\n",
    ")\n",
    "plt.show()"
   ]
  },
  {
   "cell_type": "markdown",
   "metadata": {},
   "source": [
    "As we can see, the subpocket we choose from DoGSiteScorer is very precise. In fact, 27 out of the 29 residues do overlap with the KLIFS definition (85 residues).\n",
    "Though, the KLIFS pocket covers a larger overall pocket area.\n",
    "Out of interest, we can also do the same comparison using the pocket ``P_0`` (instead of subpocket ``P_0_0``) to see how that compares to KLIFS."
   ]
  },
  {
   "cell_type": "code",
   "execution_count": 35,
   "metadata": {},
   "outputs": [
    {
     "name": "stdout",
     "output_type": "stream",
     "text": [
      "DoGSiteScorer pocket P_0 with 62 detected.\n"
     ]
    }
   ],
   "source": [
    "# Get info for largest DoGSiteScorer pocket P_0\n",
    "new_pocket_id = \"P_0\"\n",
    "dogsite_pocket_residues_df_p0 = get_pocket_residues(\n",
    "    get_selected_pocket_location(job_location, new_pocket_id)\n",
    ")\n",
    "dogsite_pocket_residues_p0 = dogsite_pocket_residues_df_p0[\"residue_number\"].to_list()\n",
    "print(f\"DoGSiteScorer pocket {new_pocket_id} with {len(dogsite_pocket_residues_p0)} detected.\")\n",
    "# NBVAL_CHECK_OUTPUT"
   ]
  },
  {
   "cell_type": "code",
   "execution_count": 36,
   "metadata": {},
   "outputs": [
    {
     "name": "stdout",
     "output_type": "stream",
     "text": [
      "Residue overlap between the two methods using P_0.\n"
     ]
    },
    {
     "data": {
      "image/png": "[encoded data removed]",
      "text/plain": [
       "<Figure size 640x480 with 1 Axes>"
      ]
     },
     "metadata": {},
     "output_type": "display_data"
    }
   ],
   "source": [
    "print(f\"Residue overlap between the two methods using {new_pocket_id}.\")\n",
    "venn2(\n",
    "    [set(dogsite_pocket_residues_p0), set(klifs_pocket_residues)],\n",
    "    set_labels=(\"DoGSiteScorer\", \"KLIFS\"),\n",
    ")\n",
    "plt.show()"
   ]
  },
  {
   "cell_type": "markdown",
   "metadata": {},
   "source": [
    "## Discussion\n",
    "\n",
    "We introduced the idea of binding site detection algorithms using DoGSiteScorer, which can be queried through the [proteins.plus](https://proteins.plus) server.\n",
    "Besides investigating into the main (known) binding site, as exemplified above, one can use other predicted pockets to initiate drug design campaigns against a novel, e.g. allosteric or less explored, pocket.\n",
    "\n",
    "Potential shortcomings: Such algorithms detect the pockets based on a given protein structure (x-ray). If another structure of the same protein is available, applying the algorithm to that structure might lead to (slightly) different pockets due to e.g. conformational changes induced by the bound ligand. Also differences between apo and holo structures do affect the predictions."
   ]
  },
  {
   "cell_type": "markdown",
   "metadata": {},
   "source": [
    "## Quiz\n",
    "\n",
    "1. What techniques can be invoked to automatically detect pockets on the protein surface?\n",
    "2. What are advantages and disadvantages of automatic binding site detection algorithms?\n",
    "3. Try another protein EGFR kinase structure and check the overlap between the predicted residues."
   ]
  }
 ],
 "metadata": {
  "kernelspec": {
   "display_name": "Python 3 (ipykernel)",
   "language": "python",
   "name": "python3"
  },
  "language_info": {
   "codemirror_mode": {
    "name": "ipython",
    "version": 3
   },
   "file_extension": ".py",
   "mimetype": "text/x-python",
   "name": "python",
   "nbconvert_exporter": "python",
   "pygments_lexer": "ipython3",
   "version": "3.9.16"
  },
  "toc-autonumbering": true,
  "widgets": {
   "application/vnd.jupyter.widget-state+json": {
    "state": {},
    "version_major": 2,
    "version_minor": 0
   }
  }
 },
 "nbformat": 4,
 "nbformat_minor": 4
}
