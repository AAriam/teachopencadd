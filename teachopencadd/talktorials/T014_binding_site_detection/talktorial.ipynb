{
 "cells": [
  {
   "cell_type": "markdown",
   "metadata": {},
   "source": [
    "# T015 · Binding site detection\n",
    "\n",
    "Authors:\n",
    "- adapted from Abishek Laxmanan Ravi Shankar, 2019, Volkamer Lab\n",
    "- Andrea Volkamer, 2020/21, [Volkamer lab, Charité](https://volkamerlab.org/)\n",
    "- Dominique Sydow, 2020/21, [Volkamer lab, Charité](https://volkamerlab.org/)"
   ]
  },
  {
   "cell_type": "markdown",
   "metadata": {},
   "source": [
    "## Aim of this talktorial\n",
    "\n",
    "The binding site of a protein is the key to its function. In this talktorial, we introduce the concepts of computational binding site detection tools, exemplified on an EGFR structure using DoGSiteScorer from the  [protein.plus](https://proteins.plus/) web server. \n",
    "Additionally, we will compare the results to the pre-defined KLIFS binding site by calculating the percentage of residues in accordance between the two sets."
   ]
  },
  {
   "cell_type": "markdown",
   "metadata": {},
   "source": [
    "### Contents in *Theory*\n",
    "\n",
    "* Protein binding sites\n",
    "* Binding site detection\n",
    "    * Methods overview\n",
    "    * DoGSiteScorer\n",
    "* Comparison to KLIFS pocket"
   ]
  },
  {
   "cell_type": "markdown",
   "metadata": {},
   "source": [
    "### Contents in *Practical*\n",
    "\n",
    "* Binding site detection using DoGSiteScorer\n",
    "    * Job submission of structure of interest\n",
    "    * Get DoGSiteScorer pocket metadata\n",
    "    * Pick the most suitable pocket\n",
    "    * Get best binding site file content\n",
    "    * TODO: Show pocket using nglview\n",
    "* Comparison between DoGSiteScorer and KLIFS pocket\n",
    "    * Get DoGSiteScorer pocket residues\n",
    "    * Get KLIFS pocket residues\n",
    "    * Overlap of pocket residues"
   ]
  },
  {
   "cell_type": "markdown",
   "metadata": {},
   "source": [
    "### References\n",
    "* Prediction, Analysis, and Comparison of Active Sites [Volkamer <i>et al.</i>, (<b>2018</b>)](https://doi.org/10.1002/9783527806539.ch6g), book chapter in Applied Chemoinformatics: Achievements and Future Opportunities, Wiley\n",
    "* DoGSiteScorer, [Volkamer <i>et al.</i>, <i>J.Chem.Inf.Model</i>, (<b>2012</b>), 52(2):360-372](https://pubmed.ncbi.nlm.nih.gov/22148551/)\n",
    "* [ProteinsPlus](https://proteins.plus/): a web portal for structure analysis of macromolecules. [Fährrolfes <i>et al.</i>, <i>NAR</i>, (<b>2017</b>), 3;45(W1)](https://pubmed.ncbi.nlm.nih.gov/28472372/)\n",
    "* [KLIFS](https://klifs.net/): a structural kinase-ligand interaction database, [Kooistra <i>et al.</i>, <i>NAR</i>, (<b>2016</b>), 4;44(D1):D365-71](https://pubmed.ncbi.nlm.nih.gov/26496949/) "
   ]
  },
  {
   "cell_type": "markdown",
   "metadata": {},
   "source": [
    "## Theory"
   ]
  },
  {
   "cell_type": "markdown",
   "metadata": {},
   "source": [
    "### Protein binding sites"
   ]
  },
  {
   "cell_type": "markdown",
   "metadata": {},
   "source": [
    "Most biological processes are guided through (non-)reversible binding of molecules. Given a therapeutic target associated to a specific disease, knowing its binding site(s), i.e. the key to the proteins function, is of utmost important for designing new drugs.\n",
    "\n",
    "Depending on the given data, e.g. no protein-ligand complex structure (x-ray) is available or one is interested in allosteric sites, binding site detection algorithm come into play. Binding sites, or in the case of enzyme rather called active sites, are cavities in 3-dimensional space, mostly on the surface of a protein structure, that serve as binding (docking) regions for ligands, peptides, or proteins. To interact with each other, the two binding partners need to be complementary concerning to shape and physico-chemical properties (*key and look* principle).\n",
    "\n",
    "![Binding site example](images/3w32_SP_0_0_scale025.png)\n",
    "\n",
    "*Figure 1:* Example of a detected binding site for EGFR kinase (PDB: [3w32](https://www.rcsb.org/structure/3W32)) using DoGSiteScorer from [proteins.plus](https://proteins.plus). Protein shown as blue cartoon, ligand as sticks (carbons in gray) and binding site as violet cloud (largest subpocket (SP_0_0) shown).\n"
   ]
  },
  {
   "cell_type": "markdown",
   "metadata": {},
   "source": [
    "### Binding site detection"
   ]
  },
  {
   "cell_type": "markdown",
   "metadata": {},
   "source": [
    "#### Methods overview"
   ]
  },
  {
   "cell_type": "markdown",
   "metadata": {},
   "source": [
    "If ligand information is available (i.e. a protein-ligand complex), the protein residues surrounding the ligand can simply be defined as pocket (e.g. using all protein residues within a predefined radius of the ligand atoms such as 6 Å). If the ligand is absent, prediction tools can be used for *in silico* pocket detection. These methods can be largely grouped on the one hand into geometry- and energy-based methods as well as on the other hand in grid-based and grid-free approaches, as outlined in Figure 2. Note that in recent years, more and more machine or deep learning based methods have been developed (see e.g. [DeepSite](https://doi.org/10.1093/bioinformatics/btx350) by Jiménez *et al.*, Bioinformatics, 2017, 33(19),3036–3042).\n",
    "\n",
    "![Binding site detection methods](images/Figure2_DetectionMethods_scale05.png)\n",
    "\n",
    "*Figure 2*: Binding site detection methods can be grouped into geometry-based and energy-based approaches as well as grid-based and grid-free approaches. Figure taken from Prediction, Analysis, and Comparison of Active Sites, [Volkamer <i>et al.</i>, (<b>2018</b>)](https://doi.org/10.1002/9783527806539.ch6g), Applied Chemoinformatics: Achievements and Future Opportunities, Wiley.\n",
    "\n",
    "**Geometry-based approaches** analyze the shape of a molecular surface to locate cavities and incorporate the 3D spatial arrangement of the atoms on the protein surface. **Energy-based approaches** record interactions of probes or a molecular fragments with the protein, thus, favorable energetic responses are assigned to pockets. Both strategies can be performed on a Cartesian **grid-based** representation of the protein (i.e. checking the environment per grid point) or without (i.e. **grid-free**). "
   ]
  },
  {
   "cell_type": "markdown",
   "metadata": {},
   "source": [
    "In the following, an example for each of the four categories will be shortly introduced:\n",
    "* *Geometric, grid-based approach*: In [**LIGSITE**](https://doi.org/10.1016/s1093-3263(98)00002-3) (Hendlich, *et al.*, J Mol Graph Model., 1997, 15(6):359-63, 389), a Cartesian grid (e.g. 1Å grid spacing) is spanned over the protein of interest. Each grid point is then scanned in seven direction (along the x, y and z axes as well as the fours cubic diagonals) and the number of Protein-Solvent-Protein (PSP) events per point is stored (# rays restricted on both side by the protein). Finally, grid points that are buried (= have a high PSP value) are clustered to pockets.\n",
    "* *Geometric, grid-free approach*: In [**SURFNET**](https://doi.org/10.1016/0263-7855(95)00073-9) (Laskowski, J Mol Graph., 1995, 13(5):323-30, 307-8), spheres are placed midway between any two pairs of atoms on the protein surface directly. In case a probe clashes with any nearby atom, its radius is reduced until no overlap occurs. The resulting probes define the cavities.\n",
    "* *Energy, grid-based approach*: In [**DrugSite**](https://doi.org/10.11234/GI1990.15.2_31) (An, *et al.*, Genome Informatics, 2004, 15(2): 31–41), the protein is embedded in a Cartesian grid and carbon probes are placed on each grid point. Then, van der Waals energies between the probe and the protein environment within 8 Å distance are calculated. Grid points with unfavorable energies, i.e. above an energy cut-off based on the mean energy and standard deviation over the whole grid, are discarded. Finally, grid points fulfilling this cut-off are merged to pockets.\n",
    "* *Energy, grid-free approach*:  In **docking**-based methods, fragments (or small molecules) are docked against the protein of interest (placed and scored, for more info on docking see talktorial T015). Pockets are then assigned based on the quantity of fragments that bind to a specific area."
   ]
  },
  {
   "cell_type": "markdown",
   "metadata": {},
   "source": [
    "#### DoGSiteScorer\n",
    "\n",
    "In this talktorial, we will use the DoGSiteScorer functionality, available within [protein.plus](https://proteins.plus/), to detect and score the pockets of a protein of interest. Thus, it's algorithm will be explained in a bit more detail (see Figure 3 for a visual explanation).\n",
    "\n",
    "* *Pocket Detection*: DoGSiteScorer incorporates a **geometric** and **grid-based** algorithm to detect pockets. The protein is embedded in a Cartesian grid, and each grid point is labeled as either 0 (free) or 1 (occupied), depending on if it lies within any protein atom's van der Waals radius. Then, an edge-detection algorithm from image processing, a **Difference of Gaussian filter** (thus the name DoGSite) is invoked to identify protrusion on the protein surface (i.e. the positions on a protein surface where the location of a sphere-like object is favorable). Based on specific cut-off criteria, grid points with the highest intensity are selected and first clustered to subpockets, then merged to pockets. \n",
    "* *Descriptor calculation*: Based on the grid representation of the respective pocket as well as the surrounding protein atoms, properties describing the pocket are derived. These include properties such as volume, surface, or depth of the pocket (calculated directly from the properties of the individual grid points) as well as hyprophobicity, number of available hydrogen bond donors/acceptors or amino acid count (derived from the neighboring protein residues).  \n",
    "* *Druggability estimates*: Additionally, the tool has an inbuilt druggability predictor. Druggability can be defined as the ability of a (disease modifying) target to bind (and potentially be modulated by) low molecular weight compounds (sometimes also referred to as ligandability). In DoGSiteScorer, druggablity is predicted using a support vector machine (SVM) model, trained and tested on the freely available (non-redundant) druggability data set (NR) DD. The DD consists of 1069 targets and each target was assigned to one of the three classes: druggable, difficult, and undruggable. See [Volkamer <i>et al.</i>, J. Chem. Inf. Model., 2012, 52, 2, 360–372](https://pubs.acs.org/doi/10.1021/ci200454v) for more detail.\n",
    "\n",
    "![DoGSiteScorer methodology](images/3w32_DoGSite_Overview_scale05.png)\n",
    "\n",
    "*Figure 3*: Schematic representation of the individual steps within DoGSiteScorer: A. Pocket detection, B. descriptor calculation and C. druggability estimation. Figure newly composed based on [Volkamer <i>et al.</i>, J. Chem. Inf. Model., **2012**, 52(2), 360–372](https://pubs.acs.org/doi/10.1021/ci200454v) and [Volkamer <i>et al.</i>, J. Chem. Inf. Model., **2010**, 50(11), 2041–2052](https://pubs.acs.org/doi/10.1021/ci100241y).\n"
   ]
  },
  {
   "cell_type": "markdown",
   "metadata": {},
   "source": [
    "### Comparison to KLIFS pocket\n",
    "Once we obtained the binding site of interest from DoGSiteScorer, we can compare the results with any other method in order to validate it. Here, we compare it with the manually assigned KLIFS binding pocket for our target kinase structure using the KLIFS API (see **Talktorial T012** for more detail).\n",
    "\n",
    "**KLIFS pocket definition** in a nutshell:\n",
    "The [KLIFS](https://klifs.net/) (Kinase-Ligand Interaction Fingerprints and Structures) database is a structural repository of information on over 3600 human and mouse kinase structures. KLIFS thereby enables us to do systematic comparison or analysis of the structures, chemical features, bound ligands and interactions to such of all available structures. KLIFS comes with a nomenclature of typical structural motifs within kinases (such as DFG-in/out, hinge region, ...) and maps the binding site of all known kinases to 85 residues, defined via an elaborated multiple sequence alignment. It is possible to compare the interaction patterns of kinase-inhibitors to each other to, for example, identify crucial interactions determining kinase-inhibitor selectivity. \n",
    "\n",
    "In this talktorial, we will query the KLIFS API to return the binding pocket of a specific protein kinase structure of interest for further analysis."
   ]
  },
  {
   "cell_type": "markdown",
   "metadata": {},
   "source": [
    "## Practical"
   ]
  },
  {
   "cell_type": "markdown",
   "metadata": {},
   "source": [
    "In this practical part, we will introduce how to query the [proteins.plus](https://proteins.plus) server for binding site detection using DoGSiteScorer for our protein of interest."
   ]
  },
  {
   "cell_type": "markdown",
   "metadata": {},
   "source": [
    "Import all necessary libraries"
   ]
  },
  {
   "cell_type": "code",
   "execution_count": 1,
   "metadata": {},
   "outputs": [
    {
     "name": "stderr",
     "output_type": "stream",
     "text": [
      "Matplotlib created a temporary config/cache directory at /tmp/matplotlib-_ehju8zm because the default path (/home/andrea/.cache/matplotlib) is not a writable directory; it is highly recommended to set the MPLCONFIGDIR environment variable to a writable directory, in particular to speed up the import of Matplotlib and to better support multiprocessing.\n"
     ]
    },
    {
     "data": {
      "application/vnd.jupyter.widget-view+json": {
       "model_id": "e855643dd6d2417dad784f0e4d55ac78",
       "version_major": 2,
       "version_minor": 0
      },
      "text/plain": []
     },
     "metadata": {},
     "output_type": "display_data"
    },
    {
     "name": "stderr",
     "output_type": "stream",
     "text": [
      "INFO:opencadd.databases.klifs.api:If you want to see an non-truncated version of the DataFrames in this module, use `pd.set_option('display.max_columns', 50)` in your notebook.\n"
     ]
    }
   ],
   "source": [
    "from pathlib import Path\n",
    "import time\n",
    "\n",
    "import requests\n",
    "import gzip\n",
    "import shutil\n",
    "from matplotlib_venn import venn2\n",
    "import matplotlib.pyplot as plt\n",
    "import pandas as pd\n",
    "from biopandas.pdb import PandasPdb\n",
    "import nglview\n",
    "\n",
    "from opencadd.databases.klifs import setup_remote\n",
    "\n",
    "pd.set_option('display.max_columns', 50)"
   ]
  },
  {
   "cell_type": "markdown",
   "metadata": {},
   "source": [
    "Add globals to this talktorial's path (`HERE`) and its data folder (`DATA`)."
   ]
  },
  {
   "cell_type": "code",
   "execution_count": 2,
   "metadata": {},
   "outputs": [],
   "source": [
    "HERE = Path(_dh[-1])\n",
    "DATA = HERE / \"data\""
   ]
  },
  {
   "cell_type": "markdown",
   "metadata": {},
   "source": [
    "### Binding site detection using DoGSiteScorer\n",
    "We first define a function to query the server for a protein of interest.\n",
    "Infos on the rest API can be found [here](https://proteins.plus/help/dogsite_rest)."
   ]
  },
  {
   "cell_type": "code",
   "execution_count": 3,
   "metadata": {},
   "outputs": [],
   "source": [
    "def submit_dogsitescorer_job_with_pdbid(pdb_code, chain_id, ligand=''):\n",
    "    \"\"\"\n",
    "    Submit PDB ID to DoGSiteScorer webserver using their API and get back URL for job location.\n",
    "    \n",
    "    Parameters\n",
    "    ----------\n",
    "    pdb_id : str \n",
    "        4-letter valid PDB ID, e.g. '3w32'.\n",
    "    chain : str\n",
    "        Chain ID, e.g. 'A'.\n",
    "    ligand : str\n",
    "        Name of ligand bound to PDB structure with pdb_id, e.g. 'W32_A_1101'. \n",
    "        Currently, the ligand name must be checked manually on the PDB website. \n",
    "        \n",
    "    Returns\n",
    "    -------\n",
    "    str\n",
    "        Job location URL for submitted query.\n",
    "        \n",
    "    References\n",
    "    ----------\n",
    "        Function is adapted from: https://github.com/volkamerlab/TeachOpenCADD/pull/3 (@jaimergp)\n",
    "    \"\"\"\n",
    "    \n",
    "    # Submit job to proteins.plus\n",
    "    # For details on parameters see: https://proteins.plus/help/dogsite_rest\n",
    "    r = requests.post(\"https://proteins.plus/api/dogsite_rest\",\n",
    "        json={\n",
    "            \"dogsite\": {\n",
    "                \"pdbCode\": pdb_code, # PDB code of protein\n",
    "                \"analysisDetail\": \"1\", # 1 = include subpockets in results\n",
    "                \"bindingSitePredictionGranularity\": \"1\", # 1 = include drugablity scores\n",
    "                \"ligand\": ligand, # if name is specified, ligand coverage is calculated\n",
    "                \"chain\": chain_id # if chain is specified, calculation is only performed on this chain\n",
    "            }\n",
    "        },\n",
    "        headers= {'Content-type': 'application/json', 'Accept': 'application/json'}\n",
    "    )\n",
    "\n",
    "    r.raise_for_status()\n",
    "    \n",
    "    return r.json()['location']"
   ]
  },
  {
   "cell_type": "markdown",
   "metadata": {},
   "source": [
    "#### Job submission for structure of interest"
   ]
  },
  {
   "cell_type": "markdown",
   "metadata": {},
   "source": [
    "Define the protein of interest. As an example, we chose an EGFR kinase structure, more details can be found in the respective PDB entry: [3w32](https://www.rcsb.org/structure/3W32)."
   ]
  },
  {
   "cell_type": "code",
   "execution_count": 4,
   "metadata": {},
   "outputs": [],
   "source": [
    "pdb_id = \"3w32\"\n",
    "chain_id = \"A\"\n",
    "# Ligand id manually looked-up from the PDB file\n",
    "ligand = 'W32_A_1101'"
   ]
  },
  {
   "cell_type": "markdown",
   "metadata": {},
   "source": [
    "Submit the query and return the job location for further investigation."
   ]
  },
  {
   "cell_type": "code",
   "execution_count": 5,
   "metadata": {},
   "outputs": [
    {
     "data": {
      "text/plain": [
       "'https://proteins.plus/api/dogsite_rest/DgaMKhauLg4PpBwCMbmbwLCR'"
      ]
     },
     "execution_count": 5,
     "metadata": {},
     "output_type": "execute_result"
    }
   ],
   "source": [
    "# Identify the job location (URL) where the work is submitted to the web server\n",
    "job_location = submit_dogsitescorer_job_with_pdbid(pdb_id, chain_id, ligand)\n",
    "job_location"
   ]
  },
  {
   "cell_type": "code",
   "execution_count": 6,
   "metadata": {},
   "outputs": [],
   "source": [
    "# Wait a bit so that job can finish\n",
    "time.sleep(30)"
   ]
  },
  {
   "cell_type": "markdown",
   "metadata": {},
   "source": [
    "#### Get DoGSiteScorer pocket metadata\n",
    "We now define a function that collects all data returned by the server and stores them in a pandas dataframe."
   ]
  },
  {
   "cell_type": "code",
   "execution_count": 7,
   "metadata": {},
   "outputs": [],
   "source": [
    "def get_dogsitescorer_metadata(job_location):\n",
    "    \"\"\"\n",
    "    Get results from a DoGSiteScorer query, i.e. the binding sites which are found over the protein surface, \n",
    "    in the form of a table with the details about all detected pockets.\n",
    "\n",
    "    Parameters\n",
    "    ----------\n",
    "    job_location : str\n",
    "        Consists of the location of a finished DoGSiteScorer job on the proteins.plus web server.\n",
    "    \n",
    "    Returns\n",
    "    -------\n",
    "    pandas.DataFrame\n",
    "        Table with metadata on detected binding sites. \n",
    "    \"\"\"\n",
    "    \n",
    "    # Get job results\n",
    "    result = requests.get(job_location)\n",
    "    \n",
    "    # Get URL of result table file\n",
    "    result_file = result.json()['result_table']\n",
    "    \n",
    "    # Get result table\n",
    "    result_table = requests.get(result_file).text\n",
    "    \n",
    "    # Split string into list of lists (= table)\n",
    "    result_table_split = [i.split('\\t') for i in result_table[:-1].split('\\n')]\n",
    "\n",
    "    # Remove spaces\n",
    "    result_table_split = [[j.replace(' ', '') for j in i] for i in result_table_split]\n",
    "\n",
    "    # Extract column names, index names, table body\n",
    "    column_names = result_table_split[0]\n",
    "    index_names = [i[0] for i in result_table_split[1:]]\n",
    "    table = [i[1:] for i in result_table_split[1:]]\n",
    "\n",
    "    # Convert to DataFrame\n",
    "    result_table_df = pd.DataFrame(\n",
    "        table,\n",
    "        columns=column_names[1:],\n",
    "        index=index_names\n",
    "    )\n",
    "    result_table_df.index.name = 'name'\n",
    "    \n",
    "    # Convert numbers from strings to numeric values\n",
    "    for name, data in result_table_df.iteritems():\n",
    "        try:\n",
    "            result_table_df[name] = pd.to_numeric(data)\n",
    "        except ValueError:\n",
    "            pass\n",
    "    \n",
    "    return result_table_df"
   ]
  },
  {
   "cell_type": "markdown",
   "metadata": {},
   "source": [
    "Retrieve all detected pockets from DoGSiteScorer web server. "
   ]
  },
  {
   "cell_type": "code",
   "execution_count": 8,
   "metadata": {},
   "outputs": [
    {
     "data": {
      "text/html": [
       "<div>\n",
       "<style scoped>\n",
       "    .dataframe tbody tr th:only-of-type {\n",
       "        vertical-align: middle;\n",
       "    }\n",
       "\n",
       "    .dataframe tbody tr th {\n",
       "        vertical-align: top;\n",
       "    }\n",
       "\n",
       "    .dataframe thead th {\n",
       "        text-align: right;\n",
       "    }\n",
       "</style>\n",
       "<table border=\"1\" class=\"dataframe\">\n",
       "  <thead>\n",
       "    <tr style=\"text-align: right;\">\n",
       "      <th></th>\n",
       "      <th>lig_cov</th>\n",
       "      <th>poc_cov</th>\n",
       "      <th>lig_name</th>\n",
       "      <th>volume</th>\n",
       "      <th>enclosure</th>\n",
       "      <th>surface</th>\n",
       "      <th>depth</th>\n",
       "      <th>surf/vol</th>\n",
       "      <th>lid/hull</th>\n",
       "      <th>ellVol</th>\n",
       "      <th>ellc/a</th>\n",
       "      <th>ellb/a</th>\n",
       "      <th>siteAtms</th>\n",
       "      <th>accept</th>\n",
       "      <th>donor</th>\n",
       "      <th>hydrophobic_interactions</th>\n",
       "      <th>hydrophobicity</th>\n",
       "      <th>metal</th>\n",
       "      <th>Cs</th>\n",
       "      <th>Ns</th>\n",
       "      <th>Os</th>\n",
       "      <th>Ss</th>\n",
       "      <th>Xs</th>\n",
       "      <th>negAA</th>\n",
       "      <th>posAA</th>\n",
       "      <th>polarAA</th>\n",
       "      <th>apolarAA</th>\n",
       "      <th>ALA</th>\n",
       "      <th>ARG</th>\n",
       "      <th>ASN</th>\n",
       "      <th>ASP</th>\n",
       "      <th>CYS</th>\n",
       "      <th>GLN</th>\n",
       "      <th>GLU</th>\n",
       "      <th>GLY</th>\n",
       "      <th>HIS</th>\n",
       "      <th>ILE</th>\n",
       "      <th>LEU</th>\n",
       "      <th>LYS</th>\n",
       "      <th>MET</th>\n",
       "      <th>PHE</th>\n",
       "      <th>PRO</th>\n",
       "      <th>SER</th>\n",
       "      <th>THR</th>\n",
       "      <th>TRP</th>\n",
       "      <th>TYR</th>\n",
       "      <th>VAL</th>\n",
       "      <th>simpleScore</th>\n",
       "      <th>drugScore</th>\n",
       "    </tr>\n",
       "    <tr>\n",
       "      <th>name</th>\n",
       "      <th></th>\n",
       "      <th></th>\n",
       "      <th></th>\n",
       "      <th></th>\n",
       "      <th></th>\n",
       "      <th></th>\n",
       "      <th></th>\n",
       "      <th></th>\n",
       "      <th></th>\n",
       "      <th></th>\n",
       "      <th></th>\n",
       "      <th></th>\n",
       "      <th></th>\n",
       "      <th></th>\n",
       "      <th></th>\n",
       "      <th></th>\n",
       "      <th></th>\n",
       "      <th></th>\n",
       "      <th></th>\n",
       "      <th></th>\n",
       "      <th></th>\n",
       "      <th></th>\n",
       "      <th></th>\n",
       "      <th></th>\n",
       "      <th></th>\n",
       "      <th></th>\n",
       "      <th></th>\n",
       "      <th></th>\n",
       "      <th></th>\n",
       "      <th></th>\n",
       "      <th></th>\n",
       "      <th></th>\n",
       "      <th></th>\n",
       "      <th></th>\n",
       "      <th></th>\n",
       "      <th></th>\n",
       "      <th></th>\n",
       "      <th></th>\n",
       "      <th></th>\n",
       "      <th></th>\n",
       "      <th></th>\n",
       "      <th></th>\n",
       "      <th></th>\n",
       "      <th></th>\n",
       "      <th></th>\n",
       "      <th></th>\n",
       "      <th></th>\n",
       "      <th></th>\n",
       "      <th></th>\n",
       "    </tr>\n",
       "  </thead>\n",
       "  <tbody>\n",
       "    <tr>\n",
       "      <th>P_0</th>\n",
       "      <td>85.48</td>\n",
       "      <td>31.22</td>\n",
       "      <td>W32_A_1101</td>\n",
       "      <td>1422.66</td>\n",
       "      <td>0.10</td>\n",
       "      <td>1673.75</td>\n",
       "      <td>19.26</td>\n",
       "      <td>1.176493</td>\n",
       "      <td>-</td>\n",
       "      <td>-</td>\n",
       "      <td>0.13</td>\n",
       "      <td>0.67</td>\n",
       "      <td>288</td>\n",
       "      <td>86</td>\n",
       "      <td>40</td>\n",
       "      <td>71</td>\n",
       "      <td>0.36</td>\n",
       "      <td>0</td>\n",
       "      <td>198</td>\n",
       "      <td>45</td>\n",
       "      <td>41</td>\n",
       "      <td>4</td>\n",
       "      <td>0</td>\n",
       "      <td>0.10</td>\n",
       "      <td>0.13</td>\n",
       "      <td>0.24</td>\n",
       "      <td>0.53</td>\n",
       "      <td>4</td>\n",
       "      <td>5</td>\n",
       "      <td>2</td>\n",
       "      <td>5</td>\n",
       "      <td>2</td>\n",
       "      <td>2</td>\n",
       "      <td>1</td>\n",
       "      <td>5</td>\n",
       "      <td>0</td>\n",
       "      <td>3</td>\n",
       "      <td>12</td>\n",
       "      <td>3</td>\n",
       "      <td>2</td>\n",
       "      <td>3</td>\n",
       "      <td>3</td>\n",
       "      <td>1</td>\n",
       "      <td>2</td>\n",
       "      <td>1</td>\n",
       "      <td>1</td>\n",
       "      <td>5</td>\n",
       "      <td>0.63</td>\n",
       "      <td>0.810023</td>\n",
       "    </tr>\n",
       "    <tr>\n",
       "      <th>P_0_0</th>\n",
       "      <td>85.48</td>\n",
       "      <td>73.90</td>\n",
       "      <td>W32_A_1101</td>\n",
       "      <td>599.23</td>\n",
       "      <td>0.06</td>\n",
       "      <td>540.06</td>\n",
       "      <td>17.51</td>\n",
       "      <td>0.901257</td>\n",
       "      <td>-</td>\n",
       "      <td>-</td>\n",
       "      <td>0.14</td>\n",
       "      <td>0.22</td>\n",
       "      <td>131</td>\n",
       "      <td>35</td>\n",
       "      <td>13</td>\n",
       "      <td>25</td>\n",
       "      <td>0.34</td>\n",
       "      <td>0</td>\n",
       "      <td>95</td>\n",
       "      <td>16</td>\n",
       "      <td>17</td>\n",
       "      <td>3</td>\n",
       "      <td>0</td>\n",
       "      <td>0.03</td>\n",
       "      <td>0.10</td>\n",
       "      <td>0.28</td>\n",
       "      <td>0.59</td>\n",
       "      <td>1</td>\n",
       "      <td>2</td>\n",
       "      <td>1</td>\n",
       "      <td>1</td>\n",
       "      <td>2</td>\n",
       "      <td>1</td>\n",
       "      <td>0</td>\n",
       "      <td>2</td>\n",
       "      <td>0</td>\n",
       "      <td>2</td>\n",
       "      <td>7</td>\n",
       "      <td>1</td>\n",
       "      <td>2</td>\n",
       "      <td>2</td>\n",
       "      <td>1</td>\n",
       "      <td>0</td>\n",
       "      <td>2</td>\n",
       "      <td>0</td>\n",
       "      <td>0</td>\n",
       "      <td>2</td>\n",
       "      <td>0.59</td>\n",
       "      <td>0.620201</td>\n",
       "    </tr>\n",
       "    <tr>\n",
       "      <th>P_0_1</th>\n",
       "      <td>3.23</td>\n",
       "      <td>0.44</td>\n",
       "      <td>W32_A_1101</td>\n",
       "      <td>201.73</td>\n",
       "      <td>0.08</td>\n",
       "      <td>381.07</td>\n",
       "      <td>11.36</td>\n",
       "      <td>1.889010</td>\n",
       "      <td>-</td>\n",
       "      <td>-</td>\n",
       "      <td>0.17</td>\n",
       "      <td>0.25</td>\n",
       "      <td>51</td>\n",
       "      <td>17</td>\n",
       "      <td>9</td>\n",
       "      <td>10</td>\n",
       "      <td>0.28</td>\n",
       "      <td>0</td>\n",
       "      <td>36</td>\n",
       "      <td>6</td>\n",
       "      <td>7</td>\n",
       "      <td>2</td>\n",
       "      <td>0</td>\n",
       "      <td>0.08</td>\n",
       "      <td>0.17</td>\n",
       "      <td>0.25</td>\n",
       "      <td>0.50</td>\n",
       "      <td>1</td>\n",
       "      <td>1</td>\n",
       "      <td>0</td>\n",
       "      <td>1</td>\n",
       "      <td>1</td>\n",
       "      <td>1</td>\n",
       "      <td>0</td>\n",
       "      <td>0</td>\n",
       "      <td>0</td>\n",
       "      <td>0</td>\n",
       "      <td>3</td>\n",
       "      <td>1</td>\n",
       "      <td>1</td>\n",
       "      <td>0</td>\n",
       "      <td>0</td>\n",
       "      <td>0</td>\n",
       "      <td>1</td>\n",
       "      <td>0</td>\n",
       "      <td>0</td>\n",
       "      <td>1</td>\n",
       "      <td>0.17</td>\n",
       "      <td>0.174816</td>\n",
       "    </tr>\n",
       "    <tr>\n",
       "      <th>P_0_2</th>\n",
       "      <td>0.00</td>\n",
       "      <td>0.00</td>\n",
       "      <td>W32_A_1101</td>\n",
       "      <td>185.60</td>\n",
       "      <td>0.17</td>\n",
       "      <td>282.00</td>\n",
       "      <td>9.35</td>\n",
       "      <td>1.519397</td>\n",
       "      <td>-</td>\n",
       "      <td>-</td>\n",
       "      <td>0.45</td>\n",
       "      <td>0.55</td>\n",
       "      <td>48</td>\n",
       "      <td>17</td>\n",
       "      <td>8</td>\n",
       "      <td>12</td>\n",
       "      <td>0.32</td>\n",
       "      <td>0</td>\n",
       "      <td>31</td>\n",
       "      <td>8</td>\n",
       "      <td>8</td>\n",
       "      <td>1</td>\n",
       "      <td>0</td>\n",
       "      <td>0.17</td>\n",
       "      <td>0.25</td>\n",
       "      <td>0.08</td>\n",
       "      <td>0.50</td>\n",
       "      <td>0</td>\n",
       "      <td>2</td>\n",
       "      <td>0</td>\n",
       "      <td>1</td>\n",
       "      <td>0</td>\n",
       "      <td>0</td>\n",
       "      <td>1</td>\n",
       "      <td>1</td>\n",
       "      <td>0</td>\n",
       "      <td>0</td>\n",
       "      <td>2</td>\n",
       "      <td>1</td>\n",
       "      <td>1</td>\n",
       "      <td>1</td>\n",
       "      <td>0</td>\n",
       "      <td>0</td>\n",
       "      <td>0</td>\n",
       "      <td>0</td>\n",
       "      <td>0</td>\n",
       "      <td>2</td>\n",
       "      <td>0.13</td>\n",
       "      <td>0.195695</td>\n",
       "    </tr>\n",
       "    <tr>\n",
       "      <th>P_0_3</th>\n",
       "      <td>6.45</td>\n",
       "      <td>0.29</td>\n",
       "      <td>W32_A_1101</td>\n",
       "      <td>175.30</td>\n",
       "      <td>0.15</td>\n",
       "      <td>297.42</td>\n",
       "      <td>9.29</td>\n",
       "      <td>1.696634</td>\n",
       "      <td>-</td>\n",
       "      <td>-</td>\n",
       "      <td>0.23</td>\n",
       "      <td>0.37</td>\n",
       "      <td>48</td>\n",
       "      <td>16</td>\n",
       "      <td>8</td>\n",
       "      <td>14</td>\n",
       "      <td>0.37</td>\n",
       "      <td>0</td>\n",
       "      <td>32</td>\n",
       "      <td>8</td>\n",
       "      <td>8</td>\n",
       "      <td>0</td>\n",
       "      <td>0</td>\n",
       "      <td>0.14</td>\n",
       "      <td>0.14</td>\n",
       "      <td>0.36</td>\n",
       "      <td>0.36</td>\n",
       "      <td>1</td>\n",
       "      <td>1</td>\n",
       "      <td>1</td>\n",
       "      <td>2</td>\n",
       "      <td>0</td>\n",
       "      <td>0</td>\n",
       "      <td>0</td>\n",
       "      <td>3</td>\n",
       "      <td>0</td>\n",
       "      <td>0</td>\n",
       "      <td>1</td>\n",
       "      <td>1</td>\n",
       "      <td>0</td>\n",
       "      <td>1</td>\n",
       "      <td>1</td>\n",
       "      <td>1</td>\n",
       "      <td>0</td>\n",
       "      <td>0</td>\n",
       "      <td>0</td>\n",
       "      <td>1</td>\n",
       "      <td>0.13</td>\n",
       "      <td>0.168845</td>\n",
       "    </tr>\n",
       "  </tbody>\n",
       "</table>\n",
       "</div>"
      ],
      "text/plain": [
       "       lig_cov  poc_cov    lig_name   volume  enclosure  surface  depth  \\\n",
       "name                                                                      \n",
       "P_0      85.48    31.22  W32_A_1101  1422.66       0.10  1673.75  19.26   \n",
       "P_0_0    85.48    73.90  W32_A_1101   599.23       0.06   540.06  17.51   \n",
       "P_0_1     3.23     0.44  W32_A_1101   201.73       0.08   381.07  11.36   \n",
       "P_0_2     0.00     0.00  W32_A_1101   185.60       0.17   282.00   9.35   \n",
       "P_0_3     6.45     0.29  W32_A_1101   175.30       0.15   297.42   9.29   \n",
       "\n",
       "       surf/vol lid/hull ellVol  ellc/a  ellb/a  siteAtms  accept  donor  \\\n",
       "name                                                                       \n",
       "P_0    1.176493        -      -    0.13    0.67       288      86     40   \n",
       "P_0_0  0.901257        -      -    0.14    0.22       131      35     13   \n",
       "P_0_1  1.889010        -      -    0.17    0.25        51      17      9   \n",
       "P_0_2  1.519397        -      -    0.45    0.55        48      17      8   \n",
       "P_0_3  1.696634        -      -    0.23    0.37        48      16      8   \n",
       "\n",
       "       hydrophobic_interactions  hydrophobicity  metal   Cs  Ns  Os  Ss  Xs  \\\n",
       "name                                                                          \n",
       "P_0                          71            0.36      0  198  45  41   4   0   \n",
       "P_0_0                        25            0.34      0   95  16  17   3   0   \n",
       "P_0_1                        10            0.28      0   36   6   7   2   0   \n",
       "P_0_2                        12            0.32      0   31   8   8   1   0   \n",
       "P_0_3                        14            0.37      0   32   8   8   0   0   \n",
       "\n",
       "       negAA  posAA  polarAA  apolarAA  ALA  ARG  ASN  ASP  CYS  GLN  GLU  \\\n",
       "name                                                                        \n",
       "P_0     0.10   0.13     0.24      0.53    4    5    2    5    2    2    1   \n",
       "P_0_0   0.03   0.10     0.28      0.59    1    2    1    1    2    1    0   \n",
       "P_0_1   0.08   0.17     0.25      0.50    1    1    0    1    1    1    0   \n",
       "P_0_2   0.17   0.25     0.08      0.50    0    2    0    1    0    0    1   \n",
       "P_0_3   0.14   0.14     0.36      0.36    1    1    1    2    0    0    0   \n",
       "\n",
       "       GLY  HIS  ILE  LEU  LYS  MET  PHE  PRO  SER  THR  TRP  TYR  VAL  \\\n",
       "name                                                                     \n",
       "P_0      5    0    3   12    3    2    3    3    1    2    1    1    5   \n",
       "P_0_0    2    0    2    7    1    2    2    1    0    2    0    0    2   \n",
       "P_0_1    0    0    0    3    1    1    0    0    0    1    0    0    1   \n",
       "P_0_2    1    0    0    2    1    1    1    0    0    0    0    0    2   \n",
       "P_0_3    3    0    0    1    1    0    1    1    1    0    0    0    1   \n",
       "\n",
       "       simpleScore  drugScore  \n",
       "name                           \n",
       "P_0           0.63   0.810023  \n",
       "P_0_0         0.59   0.620201  \n",
       "P_0_1         0.17   0.174816  \n",
       "P_0_2         0.13   0.195695  \n",
       "P_0_3         0.13   0.168845  "
      ]
     },
     "execution_count": 8,
     "metadata": {},
     "output_type": "execute_result"
    }
   ],
   "source": [
    "# A dataframe is returned containing all information\n",
    "metadata = get_dogsitescorer_metadata(job_location)\n",
    "metadata.head()\n",
    "# NBVAL_CHECK_OUTPUT"
   ]
  },
  {
   "cell_type": "markdown",
   "metadata": {},
   "source": [
    "**Note**: We selected to have pockets and subpockets returned from the algorithm, e.g. pocket ``P_0`` contains subpockets ``P_0_0`` to ``P_0_5``. Depending on your research question you might prefer to work with the pockets - mostly if you are more interested in the general location (e.g. for docking) - or the subpockets, which give a more granular description."
   ]
  },
  {
   "cell_type": "markdown",
   "metadata": {},
   "source": [
    "#### Pick the most suitable pocket\n",
    "The pockets are initially sorted by the volume of the respective pocket.\n",
    "We want to have a deeper look at the pocket that contains the ligand (see ligand coverage column ``lig_cov``) and which is covered by the ligand the most (pocket coverage ``poc_cov``). "
   ]
  },
  {
   "cell_type": "code",
   "execution_count": 9,
   "metadata": {},
   "outputs": [],
   "source": [
    "# For clarity, we drop a few columns\n",
    "col_to_drop = ['ALA','ARG','ASN','ASP','CYS','GLN','GLU','GLY','HIS','ILE','LEU','LYS','MET','PHE','PRO','SER','THR','TRP','TYR','VAL','lid/hull','ellVol', 'Cs','Ns','Os','Ss','Xs']\n",
    "metadata.drop(col_to_drop, axis=1, inplace=True)"
   ]
  },
  {
   "cell_type": "code",
   "execution_count": 10,
   "metadata": {},
   "outputs": [
    {
     "data": {
      "text/html": [
       "<div>\n",
       "<style scoped>\n",
       "    .dataframe tbody tr th:only-of-type {\n",
       "        vertical-align: middle;\n",
       "    }\n",
       "\n",
       "    .dataframe tbody tr th {\n",
       "        vertical-align: top;\n",
       "    }\n",
       "\n",
       "    .dataframe thead th {\n",
       "        text-align: right;\n",
       "    }\n",
       "</style>\n",
       "<table border=\"1\" class=\"dataframe\">\n",
       "  <thead>\n",
       "    <tr style=\"text-align: right;\">\n",
       "      <th></th>\n",
       "      <th>lig_cov</th>\n",
       "      <th>poc_cov</th>\n",
       "      <th>lig_name</th>\n",
       "      <th>volume</th>\n",
       "      <th>enclosure</th>\n",
       "      <th>surface</th>\n",
       "      <th>depth</th>\n",
       "      <th>surf/vol</th>\n",
       "      <th>ellc/a</th>\n",
       "      <th>ellb/a</th>\n",
       "      <th>siteAtms</th>\n",
       "      <th>accept</th>\n",
       "      <th>donor</th>\n",
       "      <th>hydrophobic_interactions</th>\n",
       "      <th>hydrophobicity</th>\n",
       "      <th>metal</th>\n",
       "      <th>negAA</th>\n",
       "      <th>posAA</th>\n",
       "      <th>polarAA</th>\n",
       "      <th>apolarAA</th>\n",
       "      <th>simpleScore</th>\n",
       "      <th>drugScore</th>\n",
       "    </tr>\n",
       "    <tr>\n",
       "      <th>name</th>\n",
       "      <th></th>\n",
       "      <th></th>\n",
       "      <th></th>\n",
       "      <th></th>\n",
       "      <th></th>\n",
       "      <th></th>\n",
       "      <th></th>\n",
       "      <th></th>\n",
       "      <th></th>\n",
       "      <th></th>\n",
       "      <th></th>\n",
       "      <th></th>\n",
       "      <th></th>\n",
       "      <th></th>\n",
       "      <th></th>\n",
       "      <th></th>\n",
       "      <th></th>\n",
       "      <th></th>\n",
       "      <th></th>\n",
       "      <th></th>\n",
       "      <th></th>\n",
       "      <th></th>\n",
       "    </tr>\n",
       "  </thead>\n",
       "  <tbody>\n",
       "    <tr>\n",
       "      <th>P_0_0</th>\n",
       "      <td>85.48</td>\n",
       "      <td>73.90</td>\n",
       "      <td>W32_A_1101</td>\n",
       "      <td>599.23</td>\n",
       "      <td>0.06</td>\n",
       "      <td>540.06</td>\n",
       "      <td>17.51</td>\n",
       "      <td>0.901257</td>\n",
       "      <td>0.14</td>\n",
       "      <td>0.22</td>\n",
       "      <td>131</td>\n",
       "      <td>35</td>\n",
       "      <td>13</td>\n",
       "      <td>25</td>\n",
       "      <td>0.34</td>\n",
       "      <td>0</td>\n",
       "      <td>0.03</td>\n",
       "      <td>0.10</td>\n",
       "      <td>0.28</td>\n",
       "      <td>0.59</td>\n",
       "      <td>0.59</td>\n",
       "      <td>0.620201</td>\n",
       "    </tr>\n",
       "    <tr>\n",
       "      <th>P_0</th>\n",
       "      <td>85.48</td>\n",
       "      <td>31.22</td>\n",
       "      <td>W32_A_1101</td>\n",
       "      <td>1422.66</td>\n",
       "      <td>0.10</td>\n",
       "      <td>1673.75</td>\n",
       "      <td>19.26</td>\n",
       "      <td>1.176493</td>\n",
       "      <td>0.13</td>\n",
       "      <td>0.67</td>\n",
       "      <td>288</td>\n",
       "      <td>86</td>\n",
       "      <td>40</td>\n",
       "      <td>71</td>\n",
       "      <td>0.36</td>\n",
       "      <td>0</td>\n",
       "      <td>0.10</td>\n",
       "      <td>0.13</td>\n",
       "      <td>0.24</td>\n",
       "      <td>0.53</td>\n",
       "      <td>0.63</td>\n",
       "      <td>0.810023</td>\n",
       "    </tr>\n",
       "    <tr>\n",
       "      <th>P_0_3</th>\n",
       "      <td>6.45</td>\n",
       "      <td>0.29</td>\n",
       "      <td>W32_A_1101</td>\n",
       "      <td>175.30</td>\n",
       "      <td>0.15</td>\n",
       "      <td>297.42</td>\n",
       "      <td>9.29</td>\n",
       "      <td>1.696634</td>\n",
       "      <td>0.23</td>\n",
       "      <td>0.37</td>\n",
       "      <td>48</td>\n",
       "      <td>16</td>\n",
       "      <td>8</td>\n",
       "      <td>14</td>\n",
       "      <td>0.37</td>\n",
       "      <td>0</td>\n",
       "      <td>0.14</td>\n",
       "      <td>0.14</td>\n",
       "      <td>0.36</td>\n",
       "      <td>0.36</td>\n",
       "      <td>0.13</td>\n",
       "      <td>0.168845</td>\n",
       "    </tr>\n",
       "    <tr>\n",
       "      <th>P_0_1</th>\n",
       "      <td>3.23</td>\n",
       "      <td>0.44</td>\n",
       "      <td>W32_A_1101</td>\n",
       "      <td>201.73</td>\n",
       "      <td>0.08</td>\n",
       "      <td>381.07</td>\n",
       "      <td>11.36</td>\n",
       "      <td>1.889010</td>\n",
       "      <td>0.17</td>\n",
       "      <td>0.25</td>\n",
       "      <td>51</td>\n",
       "      <td>17</td>\n",
       "      <td>9</td>\n",
       "      <td>10</td>\n",
       "      <td>0.28</td>\n",
       "      <td>0</td>\n",
       "      <td>0.08</td>\n",
       "      <td>0.17</td>\n",
       "      <td>0.25</td>\n",
       "      <td>0.50</td>\n",
       "      <td>0.17</td>\n",
       "      <td>0.174816</td>\n",
       "    </tr>\n",
       "    <tr>\n",
       "      <th>P_0_2</th>\n",
       "      <td>0.00</td>\n",
       "      <td>0.00</td>\n",
       "      <td>W32_A_1101</td>\n",
       "      <td>185.60</td>\n",
       "      <td>0.17</td>\n",
       "      <td>282.00</td>\n",
       "      <td>9.35</td>\n",
       "      <td>1.519397</td>\n",
       "      <td>0.45</td>\n",
       "      <td>0.55</td>\n",
       "      <td>48</td>\n",
       "      <td>17</td>\n",
       "      <td>8</td>\n",
       "      <td>12</td>\n",
       "      <td>0.32</td>\n",
       "      <td>0</td>\n",
       "      <td>0.17</td>\n",
       "      <td>0.25</td>\n",
       "      <td>0.08</td>\n",
       "      <td>0.50</td>\n",
       "      <td>0.13</td>\n",
       "      <td>0.195695</td>\n",
       "    </tr>\n",
       "  </tbody>\n",
       "</table>\n",
       "</div>"
      ],
      "text/plain": [
       "       lig_cov  poc_cov    lig_name   volume  enclosure  surface  depth  \\\n",
       "name                                                                      \n",
       "P_0_0    85.48    73.90  W32_A_1101   599.23       0.06   540.06  17.51   \n",
       "P_0      85.48    31.22  W32_A_1101  1422.66       0.10  1673.75  19.26   \n",
       "P_0_3     6.45     0.29  W32_A_1101   175.30       0.15   297.42   9.29   \n",
       "P_0_1     3.23     0.44  W32_A_1101   201.73       0.08   381.07  11.36   \n",
       "P_0_2     0.00     0.00  W32_A_1101   185.60       0.17   282.00   9.35   \n",
       "\n",
       "       surf/vol  ellc/a  ellb/a  siteAtms  accept  donor  \\\n",
       "name                                                       \n",
       "P_0_0  0.901257    0.14    0.22       131      35     13   \n",
       "P_0    1.176493    0.13    0.67       288      86     40   \n",
       "P_0_3  1.696634    0.23    0.37        48      16      8   \n",
       "P_0_1  1.889010    0.17    0.25        51      17      9   \n",
       "P_0_2  1.519397    0.45    0.55        48      17      8   \n",
       "\n",
       "       hydrophobic_interactions  hydrophobicity  metal  negAA  posAA  polarAA  \\\n",
       "name                                                                            \n",
       "P_0_0                        25            0.34      0   0.03   0.10     0.28   \n",
       "P_0                          71            0.36      0   0.10   0.13     0.24   \n",
       "P_0_3                        14            0.37      0   0.14   0.14     0.36   \n",
       "P_0_1                        10            0.28      0   0.08   0.17     0.25   \n",
       "P_0_2                        12            0.32      0   0.17   0.25     0.08   \n",
       "\n",
       "       apolarAA  simpleScore  drugScore  \n",
       "name                                     \n",
       "P_0_0      0.59         0.59   0.620201  \n",
       "P_0        0.53         0.63   0.810023  \n",
       "P_0_3      0.36         0.13   0.168845  \n",
       "P_0_1      0.50         0.17   0.174816  \n",
       "P_0_2      0.50         0.13   0.195695  "
      ]
     },
     "execution_count": 10,
     "metadata": {},
     "output_type": "execute_result"
    }
   ],
   "source": [
    "# Sort the obtained binding site by your column of interest\n",
    "metadata.sort_values(by=['lig_cov', 'poc_cov'], ascending=False).head()"
   ]
  },
  {
   "cell_type": "markdown",
   "metadata": {},
   "source": [
    "**Note**: We decided here to select the pocket with the best ligand and pocket coverage to have a precise description of the pocket for our comparison later. In other drug design scenarios, you might want to simply sort by drugScore (``metadata.sort_values(by='drugScore', ascending=False)``) or other values, such as ``volume`` or ``simpleScore``."
   ]
  },
  {
   "cell_type": "markdown",
   "metadata": {},
   "source": [
    "We define a function that returns the ``id`` of the pocket that fullfills our sorting criterion."
   ]
  },
  {
   "cell_type": "code",
   "execution_count": 11,
   "metadata": {},
   "outputs": [],
   "source": [
    "def select_best_pocket(metadata, sorted_by='drugScore'):\n",
    "    \"\"\"\n",
    "    This function uses the defined sorting parameter to identify \n",
    "    the best pocket among the obtained pockets.\n",
    "    \n",
    "    Parameters\n",
    "    ----------\n",
    "    metadata : pd.DataFrame\n",
    "        Pockets retrieved from the DoGSiteScorer website\n",
    "        \n",
    "    by : str\n",
    "        Method name(s) to sort table by (default is to sort by drugScore).\n",
    "        \n",
    "    Returns \n",
    "    -------\n",
    "    str\n",
    "        Best binding site name.\n",
    "    \"\"\"\n",
    "    \n",
    "    by_methods = ['drugScore', 'volume', 'simpleScore', 'lig_cov', 'poc_cov']\n",
    "    \n",
    "    # Sort by the selected method\n",
    "    if all(elem in by_methods for elem in sorted_by):\n",
    "        sorted_pocket = metadata.sort_values(sorted_by, ascending=False)\n",
    "    else:\n",
    "        raise ValueError(f'Selection method not in list: {\", \".join(by_methods)}')\n",
    "                         \n",
    "    # Get name of best pocket\n",
    "    best_pocket_name = sorted_pocket.iloc[0, :].name     \n",
    "        \n",
    "    return best_pocket_name"
   ]
  },
  {
   "cell_type": "code",
   "execution_count": 12,
   "metadata": {},
   "outputs": [
    {
     "data": {
      "text/plain": [
       "'P_0_0'"
      ]
     },
     "execution_count": 12,
     "metadata": {},
     "output_type": "execute_result"
    }
   ],
   "source": [
    "# Get the name of the best pocket\n",
    "best_pocket_id = select_best_pocket(metadata, ['lig_cov', 'poc_cov'])\n",
    "best_pocket_id\n",
    "# NBVAL_CHECK_OUTPUT"
   ]
  },
  {
   "cell_type": "markdown",
   "metadata": {},
   "source": [
    "#### Get binding site file content"
   ]
  },
  {
   "cell_type": "markdown",
   "metadata": {},
   "source": [
    "We define two helper functions to first get the URL for all pocket PDB (or ccp4) files. Then, we only process the file further for our pocket of interest."
   ]
  },
  {
   "cell_type": "code",
   "execution_count": 13,
   "metadata": {},
   "outputs": [],
   "source": [
    "def get_url_for_pockets(job_location, file_type='pdb'):\n",
    "    \"\"\"\n",
    "    Get all pocket file locations for a finished DoGSiteScorer job\n",
    "    for a selected file type (pdb/ccp4).\n",
    "    \n",
    "    Parameters\n",
    "    ----------\n",
    "    job_location : str\n",
    "        URL of finished job submitted to the DoGSiteScorer web server.\n",
    "    file_type : str\n",
    "        Type of file to be returned (pdb/ccp4).\n",
    "        \n",
    "    Returns\n",
    "    -------\n",
    "    list\n",
    "        List of all respective pocket file URLs.\n",
    "    \"\"\"\n",
    "    \n",
    "    # Get job results\n",
    "    result = requests.get(job_location)\n",
    "    \n",
    "    if file_type == 'pdb':\n",
    "        # Get pocket residues\n",
    "        return result.json()['residues']\n",
    "    elif file_type =='ccp4':\n",
    "        # Get pocket volumes\n",
    "        return result.json()['pockets']\n",
    "    else:\n",
    "        raise ValueError(f'File type {file_type} not available.')"
   ]
  },
  {
   "cell_type": "code",
   "execution_count": 14,
   "metadata": {},
   "outputs": [],
   "source": [
    "def get_best_pocket_location(job_location, best_pocket, file_type='pdb'):\n",
    "    \"\"\"\n",
    "    Get the best binding site file location.\n",
    "    \n",
    "    Parameters\n",
    "    ----------\n",
    "    job_location : str\n",
    "        URL of finished job submitted to the DoGSiteScorer web server.\n",
    "    best_pocket : str\n",
    "        Selected pocket id.\n",
    "    file_type : str\n",
    "        Type of file to be returned (pdb/ccp4).\n",
    "        \n",
    "    Returns\n",
    "    ------\n",
    "    str\n",
    "        URL of selected pocket file on the DoGSiteScorer web server.\n",
    "    \"\"\"\n",
    "    result = []\n",
    "    \n",
    "    # Get URL for all PDB files\n",
    "    pocket_files = get_url_for_pockets(job_location, file_type)\n",
    "    \n",
    "    for pocket_file in pocket_files:\n",
    "        if file_type == 'pdb':\n",
    "            if f'{best_pocket}_res' in pocket_file:\n",
    "                result.append(pocket_file)\n",
    "        elif file_type == 'ccp4':\n",
    "            if f'{best_pocket}_gpsAll' in pocket_file:\n",
    "                result.append(pocket_file)\n",
    "            \n",
    "    if len(result) > 1:\n",
    "        raise TypeError(f'Multiple strings detected: {\", \".join(result)}.')\n",
    "    elif len(result) == 0:\n",
    "        raise TypeError(f'No string detected.')\n",
    "    else:\n",
    "        pass\n",
    "            \n",
    "    return result[0]"
   ]
  },
  {
   "cell_type": "code",
   "execution_count": 15,
   "metadata": {},
   "outputs": [
    {
     "data": {
      "text/plain": [
       "'https://proteins.plus/results/dogsite/DgaMKhauLg4PpBwCMbmbwLCR/3w32_P_0_0_res.pdb'"
      ]
     },
     "execution_count": 15,
     "metadata": {},
     "output_type": "execute_result"
    }
   ],
   "source": [
    "# Get URL for PDB file containing the selected pocket's residues\n",
    "selected_pocket_residues_url = get_best_pocket_location(job_location, best_pocket_id,'pdb')\n",
    "selected_pocket_residues_url"
   ]
  },
  {
   "cell_type": "markdown",
   "metadata": {},
   "source": [
    "#### Investigate detected pocket\n",
    "\n",
    "**Pocket descriptors**\n",
    "\n",
    "The algorithm returns information on all calculated descriptors for the respective pocket. "
   ]
  },
  {
   "cell_type": "code",
   "execution_count": 16,
   "metadata": {},
   "outputs": [
    {
     "data": {
      "text/plain": [
       "lig_cov                          85.48\n",
       "poc_cov                           73.9\n",
       "lig_name                    W32_A_1101\n",
       "volume                          599.23\n",
       "enclosure                         0.06\n",
       "surface                         540.06\n",
       "depth                            17.51\n",
       "surf/vol                      0.901257\n",
       "ellc/a                            0.14\n",
       "ellb/a                            0.22\n",
       "siteAtms                           131\n",
       "accept                              35\n",
       "donor                               13\n",
       "hydrophobic_interactions            25\n",
       "hydrophobicity                    0.34\n",
       "metal                                0\n",
       "negAA                             0.03\n",
       "posAA                              0.1\n",
       "polarAA                           0.28\n",
       "apolarAA                          0.59\n",
       "simpleScore                       0.59\n",
       "drugScore                     0.620201\n",
       "Name: P_0_0, dtype: object"
      ]
     },
     "execution_count": 16,
     "metadata": {},
     "output_type": "execute_result"
    }
   ],
   "source": [
    "metadata.loc[best_pocket_id]\n",
    "# NBVAL_CHECK_OUTPUT"
   ]
  },
  {
   "cell_type": "markdown",
   "metadata": {},
   "source": [
    "**Visualize the pocket**\n",
    "\n",
    "We need to get the respective ``ccp4`` file that contains the pocket information."
   ]
  },
  {
   "cell_type": "code",
   "execution_count": 17,
   "metadata": {},
   "outputs": [
    {
     "data": {
      "text/plain": [
       "'https://proteins.plus/results/dogsite/DgaMKhauLg4PpBwCMbmbwLCR/3w32_P_0_0_gpsAll.ccp4.gz'"
      ]
     },
     "execution_count": 17,
     "metadata": {},
     "output_type": "execute_result"
    }
   ],
   "source": [
    "# Get URL for cpp4 file containing the selected pocket's volume\n",
    "selected_pocket_volume_url = get_best_pocket_location(job_location, best_pocket_id, 'ccp4')\n",
    "selected_pocket_volume_url"
   ]
  },
  {
   "cell_type": "code",
   "execution_count": 18,
   "metadata": {},
   "outputs": [
    {
     "name": "stdout",
     "output_type": "stream",
     "text": [
      "File 3w32_P_0_0_gpsAll.ccp4.gz will be stored in data folder.\n"
     ]
    }
   ],
   "source": [
    "# Get grid point coordinates from proteins.plus and save them to disk\n",
    "filename = selected_pocket_volume_url.split(\"/\")[-1]\n",
    "print(f'File {filename} will be stored in data folder.')\n",
    "temp_file_path_ccp4_gz = DATA / filename\n",
    "with open(temp_file_path_ccp4_gz, \"wb\") as f:\n",
    "    r = requests.get(selected_pocket_volume_url)\n",
    "    f.write(r.content)"
   ]
  },
  {
   "cell_type": "code",
   "execution_count": 19,
   "metadata": {},
   "outputs": [
    {
     "data": {
      "application/vnd.jupyter.widget-view+json": {
       "model_id": "f682de1b2d3b448caf13b60de4f74b54",
       "version_major": 2,
       "version_minor": 0
      },
      "text/plain": [
       "NGLWidget()"
      ]
     },
     "metadata": {},
     "output_type": "display_data"
    }
   ],
   "source": [
    "viewer = nglview.show_pdbid(pdb_id)\n",
    "viewer.add_component(str(temp_file_path_ccp4_gz)) # might also directly work with url: selected_pocket_volume_url)\n",
    "# TODO: currently cpp4 volume does not show?\n",
    "viewer.center()\n",
    "viewer"
   ]
  },
  {
   "cell_type": "code",
   "execution_count": 20,
   "metadata": {},
   "outputs": [],
   "source": [
    "viewer.render_image(trim=True, transparent=True);"
   ]
  },
  {
   "cell_type": "code",
   "execution_count": 21,
   "metadata": {},
   "outputs": [
    {
     "data": {
      "image/png": "\n",
      "text/plain": [
       "<IPython.core.display.Image object>"
      ]
     },
     "execution_count": 21,
     "metadata": {},
     "output_type": "execute_result"
    }
   ],
   "source": [
    "viewer._display_image()"
   ]
  },
  {
   "cell_type": "markdown",
   "metadata": {},
   "source": [
    "The above rendered image shows the same content as when using the proteins.plus web server directly (see Figure 1). "
   ]
  },
  {
   "cell_type": "markdown",
   "metadata": {},
   "source": [
    "### Comparison between DoGSiteScorer and KLIFS pocket"
   ]
  },
  {
   "cell_type": "markdown",
   "metadata": {},
   "source": [
    "#### Get DoGSiteScorer pocket residues\n",
    "Since we want to compare the automatically predicted pocket with the manually assigned KLIFS pocket, we need to identify the pocket residues."
   ]
  },
  {
   "cell_type": "code",
   "execution_count": 22,
   "metadata": {},
   "outputs": [],
   "source": [
    "def get_pocket_residues(pocket_url):\n",
    "    \"\"\"\n",
    "    Gets residue IDs and names of a specified pocket (via URL).\n",
    "    \n",
    "    Parameters\n",
    "    ----------\n",
    "    pocket_url : str\n",
    "        URL of selected pocket file on the DoGSiteScorer web server.\n",
    "        \n",
    "    Returns\n",
    "    -------\n",
    "    pandas.DataFrame\n",
    "        Table of residues names and IDs for the selected binding site.\n",
    "    \"\"\"\n",
    "    \n",
    "    # Retrieve PDB file content from URL\n",
    "    result = requests.get(pocket_url)\n",
    "\n",
    "    # Get content of PDB file  \n",
    "    pdb_residues = result.text\n",
    "    \n",
    "    # Load PDB format as DataFrame\n",
    "    ppdb = PandasPdb()\n",
    "    pdb_df = ppdb._construct_df(pdb_residues.splitlines(True))['ATOM']\n",
    "    \n",
    "    # Drop duplicates\n",
    "    # PDB file contains per atom entries, we only need per residue info\n",
    "    pdb_df.sort_values(\"residue_number\", inplace = True)\n",
    "    pdb_df.drop_duplicates(subset =\"residue_number\", \n",
    "                     keep = 'first', inplace = True) \n",
    "    \n",
    "    return pdb_df[['residue_number', 'residue_name']]"
   ]
  },
  {
   "cell_type": "code",
   "execution_count": 23,
   "metadata": {},
   "outputs": [
    {
     "data": {
      "text/html": [
       "<div>\n",
       "<style scoped>\n",
       "    .dataframe tbody tr th:only-of-type {\n",
       "        vertical-align: middle;\n",
       "    }\n",
       "\n",
       "    .dataframe tbody tr th {\n",
       "        vertical-align: top;\n",
       "    }\n",
       "\n",
       "    .dataframe thead th {\n",
       "        text-align: right;\n",
       "    }\n",
       "</style>\n",
       "<table border=\"1\" class=\"dataframe\">\n",
       "  <thead>\n",
       "    <tr style=\"text-align: right;\">\n",
       "      <th></th>\n",
       "      <th>residue_number</th>\n",
       "      <th>residue_name</th>\n",
       "    </tr>\n",
       "  </thead>\n",
       "  <tbody>\n",
       "    <tr>\n",
       "      <th>0</th>\n",
       "      <td>718</td>\n",
       "      <td>LEU</td>\n",
       "    </tr>\n",
       "    <tr>\n",
       "      <th>4</th>\n",
       "      <td>726</td>\n",
       "      <td>VAL</td>\n",
       "    </tr>\n",
       "    <tr>\n",
       "      <th>11</th>\n",
       "      <td>743</td>\n",
       "      <td>ALA</td>\n",
       "    </tr>\n",
       "    <tr>\n",
       "      <th>12</th>\n",
       "      <td>744</td>\n",
       "      <td>ILE</td>\n",
       "    </tr>\n",
       "    <tr>\n",
       "      <th>20</th>\n",
       "      <td>745</td>\n",
       "      <td>LYS</td>\n",
       "    </tr>\n",
       "  </tbody>\n",
       "</table>\n",
       "</div>"
      ],
      "text/plain": [
       "    residue_number residue_name\n",
       "0              718          LEU\n",
       "4              726          VAL\n",
       "11             743          ALA\n",
       "12             744          ILE\n",
       "20             745          LYS"
      ]
     },
     "execution_count": 23,
     "metadata": {},
     "output_type": "execute_result"
    }
   ],
   "source": [
    "# Get residues of selected pocket\n",
    "dogsite_pocket_residues_df = get_pocket_residues(selected_pocket_residues_url)\n",
    "dogsite_pocket_residues_df.head()\n",
    "# NBVAL_CHECK_OUTPUT"
   ]
  },
  {
   "cell_type": "markdown",
   "metadata": {},
   "source": [
    "**Another pocket vizualisation**\n",
    "\n",
    "We can also use the selected pocket residues to investigate our pocket in 3D."
   ]
  },
  {
   "cell_type": "code",
   "execution_count": 24,
   "metadata": {},
   "outputs": [
    {
     "data": {
      "application/vnd.jupyter.widget-view+json": {
       "model_id": "a9d41131ba4c4f73be60c3248188a992",
       "version_major": 2,
       "version_minor": 0
      },
      "text/plain": [
       "NGLWidget()"
      ]
     },
     "metadata": {},
     "output_type": "display_data"
    }
   ],
   "source": [
    "# show protein structure as cartoon\n",
    "viewer = nglview.show_pdbid(pdb_id)\n",
    "# select pocket residues\n",
    "selection = f\":{chain_id} and ({' or '.join(dogsite_pocket_residues_df['residue_number'].astype(str))})\"\n",
    "# show pocket residues as stick\n",
    "viewer.add_representation(\"ball+stick\", selection=selection, aspectRatio=1.0)\n",
    "# show ligand as ball and stick\n",
    "viewer.add_representation(\"ball+stick\", selection=ligand.split(\"_\")[0])\n",
    "viewer.center()\n",
    "viewer"
   ]
  },
  {
   "cell_type": "code",
   "execution_count": 25,
   "metadata": {},
   "outputs": [],
   "source": [
    "viewer.render_image(trim=True, transparent=True);"
   ]
  },
  {
   "cell_type": "code",
   "execution_count": 26,
   "metadata": {},
   "outputs": [
    {
     "data": {
      "image/png": "\n",
      "text/plain": [
       "<IPython.core.display.Image object>"
      ]
     },
     "execution_count": 26,
     "metadata": {},
     "output_type": "execute_result"
    }
   ],
   "source": [
    "viewer._display_image()"
   ]
  },
  {
   "cell_type": "markdown",
   "metadata": {},
   "source": [
    "#### Get KLIFS pocket residues"
   ]
  },
  {
   "cell_type": "markdown",
   "metadata": {},
   "source": [
    "We are using the `opencadd.databases.klifs` module to extract the binding site residues (PDB residue numbering) as defined in the KLIFS database.\n",
    "\n",
    "Please refer to __Talktorial T012__ for detailed information about KLIFS and the `opencadd.databases.klifs` module usage."
   ]
  },
  {
   "cell_type": "code",
   "execution_count": 27,
   "metadata": {},
   "outputs": [
    {
     "name": "stderr",
     "output_type": "stream",
     "text": [
      "INFO:opencadd.databases.klifs.api:Set up remote session...\n",
      "INFO:opencadd.databases.klifs.api:Remote session is ready!\n"
     ]
    }
   ],
   "source": [
    "session = setup_remote()"
   ]
  },
  {
   "cell_type": "code",
   "execution_count": 28,
   "metadata": {},
   "outputs": [],
   "source": [
    "# Get first structure KLIFS ID associated with PDB ID\n",
    "structures = session.structures.by_structure_pdb_id(pdb_id)\n",
    "structure_klifs_id = structures[\"structure.klifs_id\"].iloc[0]"
   ]
  },
  {
   "cell_type": "code",
   "execution_count": 29,
   "metadata": {},
   "outputs": [
    {
     "data": {
      "text/html": [
       "<div>\n",
       "<style scoped>\n",
       "    .dataframe tbody tr th:only-of-type {\n",
       "        vertical-align: middle;\n",
       "    }\n",
       "\n",
       "    .dataframe tbody tr th {\n",
       "        vertical-align: top;\n",
       "    }\n",
       "\n",
       "    .dataframe thead th {\n",
       "        text-align: right;\n",
       "    }\n",
       "</style>\n",
       "<table border=\"1\" class=\"dataframe\">\n",
       "  <thead>\n",
       "    <tr style=\"text-align: right;\">\n",
       "      <th></th>\n",
       "      <th>residue.klifs_id</th>\n",
       "      <th>residue.id</th>\n",
       "      <th>residue.klifs_region_id</th>\n",
       "      <th>residue.klifs_region</th>\n",
       "      <th>residue.klifs_color</th>\n",
       "    </tr>\n",
       "  </thead>\n",
       "  <tbody>\n",
       "    <tr>\n",
       "      <th>0</th>\n",
       "      <td>1</td>\n",
       "      <td>716</td>\n",
       "      <td>I.1</td>\n",
       "      <td>I</td>\n",
       "      <td>khaki</td>\n",
       "    </tr>\n",
       "    <tr>\n",
       "      <th>1</th>\n",
       "      <td>2</td>\n",
       "      <td>717</td>\n",
       "      <td>I.2</td>\n",
       "      <td>I</td>\n",
       "      <td>khaki</td>\n",
       "    </tr>\n",
       "    <tr>\n",
       "      <th>2</th>\n",
       "      <td>3</td>\n",
       "      <td>718</td>\n",
       "      <td>I.3</td>\n",
       "      <td>I</td>\n",
       "      <td>khaki</td>\n",
       "    </tr>\n",
       "    <tr>\n",
       "      <th>3</th>\n",
       "      <td>4</td>\n",
       "      <td>719</td>\n",
       "      <td>g.l.4</td>\n",
       "      <td>g.l</td>\n",
       "      <td>green</td>\n",
       "    </tr>\n",
       "    <tr>\n",
       "      <th>4</th>\n",
       "      <td>5</td>\n",
       "      <td>720</td>\n",
       "      <td>g.l.5</td>\n",
       "      <td>g.l</td>\n",
       "      <td>green</td>\n",
       "    </tr>\n",
       "  </tbody>\n",
       "</table>\n",
       "</div>"
      ],
      "text/plain": [
       "   residue.klifs_id residue.id residue.klifs_region_id residue.klifs_region  \\\n",
       "0                 1        716                     I.1                    I   \n",
       "1                 2        717                     I.2                    I   \n",
       "2                 3        718                     I.3                    I   \n",
       "3                 4        719                   g.l.4                  g.l   \n",
       "4                 5        720                   g.l.5                  g.l   \n",
       "\n",
       "  residue.klifs_color  \n",
       "0               khaki  \n",
       "1               khaki  \n",
       "2               khaki  \n",
       "3               green  \n",
       "4               green  "
      ]
     },
     "execution_count": 29,
     "metadata": {},
     "output_type": "execute_result"
    }
   ],
   "source": [
    "# Get the structure's pocket\n",
    "klifs_pocket_df = session.pockets.by_structure_klifs_id(structure_klifs_id)\n",
    "klifs_pocket_df.head()\n",
    "# NBVAL_CHECK_OUTPUT"
   ]
  },
  {
   "cell_type": "markdown",
   "metadata": {},
   "source": [
    "#### Overlap of pocket residues"
   ]
  },
  {
   "cell_type": "code",
   "execution_count": 30,
   "metadata": {},
   "outputs": [
    {
     "name": "stdout",
     "output_type": "stream",
     "text": [
      "DoGSiteScorer pocket P_0_0 with 29 residues detected.\n",
      "KLIFS pocket with 85 residues detected.\n"
     ]
    }
   ],
   "source": [
    "dogsite_pocket_residues=dogsite_pocket_residues_df['residue_number'].to_list()\n",
    "print(f'DoGSiteScorer pocket {best_pocket_id} with {len(dogsite_pocket_residues)} residues detected.')\n",
    "# Convert klifs residue entries from string to numeric\n",
    "klifs_pocket_df['residue.id']=pd.to_numeric(klifs_pocket_df['residue.id'])\n",
    "klifs_pocket_residues = klifs_pocket_df['residue.id'].to_list()#\n",
    "print(f'KLIFS pocket with {len(klifs_pocket_residues)} residues detected.')"
   ]
  },
  {
   "cell_type": "code",
   "execution_count": 31,
   "metadata": {},
   "outputs": [
    {
     "name": "stdout",
     "output_type": "stream",
     "text": [
      "Overlap between the two residue sets: 27.\n"
     ]
    }
   ],
   "source": [
    "overlap=set.intersection(set(dogsite_pocket_residues), set(klifs_pocket_residues))\n",
    "print(f'Overlap between the two residue sets: {len(overlap)}.')\n",
    "# NBVAL_CHECK_OUTPUT"
   ]
  },
  {
   "cell_type": "markdown",
   "metadata": {},
   "source": [
    "Plot the overlap as Venn diagram"
   ]
  },
  {
   "cell_type": "code",
   "execution_count": 32,
   "metadata": {},
   "outputs": [
    {
     "name": "stdout",
     "output_type": "stream",
     "text": [
      "Residue overlap between the two methods using P_0_0.\n"
     ]
    },
    {
     "data": {
      "image/png": "[encoded data removed]",
      "text/plain": [
       "<Figure size 432x288 with 1 Axes>"
      ]
     },
     "metadata": {},
     "output_type": "display_data"
    }
   ],
   "source": [
    "print(f'Residue overlap between the two methods using {best_pocket_id}.')\n",
    "venn2([set(dogsite_pocket_residues), set(klifs_pocket_residues)], set_labels = ('DoGSiteScorer', 'KLIFS'))\n",
    "plt.show()"
   ]
  },
  {
   "cell_type": "markdown",
   "metadata": {},
   "source": [
    "As we can see, the subpocket we choose from DoGSiteScorer is very precise. In fact, 27 out of the 29 residues do overlap with the KLIFS definition (85 residues).\n",
    "Though, the KLIFS pocket covers a larger overall pocket area.\n",
    "Out of interest, we can also do the same comparison using the pocket ``P_0`` (instead of subpocket ``P_0_0``) to see how that compares to KLIFS."
   ]
  },
  {
   "cell_type": "code",
   "execution_count": 33,
   "metadata": {},
   "outputs": [
    {
     "name": "stdout",
     "output_type": "stream",
     "text": [
      "DoGSiteScorer pocket P_0 with 62 detected.\n"
     ]
    }
   ],
   "source": [
    "# Get info for largest DoGSiteScorer pocket P_0\n",
    "poc_id ='P_0'\n",
    "dogsite_pocket_residues_df_p0 = get_pocket_residues(get_best_pocket_location(job_location, poc_id))\n",
    "dogsite_pocket_residues_p0=dogsite_pocket_residues_df_p0['residue_number'].to_list()\n",
    "print(f'DoGSiteScorer pocket {poc_id} with {len(dogsite_pocket_residues_p0)} detected.')\n",
    "# NBVAL_CHECK_OUTPUT"
   ]
  },
  {
   "cell_type": "code",
   "execution_count": 34,
   "metadata": {},
   "outputs": [
    {
     "name": "stdout",
     "output_type": "stream",
     "text": [
      "Residue overlap between the two methods using P_0.\n"
     ]
    },
    {
     "data": {
      "image/png": "[encoded data removed]",
      "text/plain": [
       "<Figure size 432x288 with 1 Axes>"
      ]
     },
     "metadata": {},
     "output_type": "display_data"
    }
   ],
   "source": [
    "print(f'Residue overlap between the two methods using {poc_id}.')\n",
    "venn2([set(dogsite_pocket_residues_p0), set(klifs_pocket_residues)], set_labels = ('DoGSiteScorer', 'KLIFS'))\n",
    "plt.show()"
   ]
  },
  {
   "cell_type": "markdown",
   "metadata": {},
   "source": [
    "## Discussion\n",
    "\n",
    "We introduced the the idea of binding site detection algorithms, exemplified on DoGSiteScorer, which can be queried through the [proteins.plus](https://proteins.plus) server.\n",
    "Besides investigating into the main (known) binding site, as exemplified above, one can use other predicted pockets to initiate drug design campaigns against a novel, e.g. allosteric or less explored, pockets.\n",
    "\n",
    "Potential shortcomings: Such algorithms detect the pockets based on a given protein structure (x-ray). If another structure of the same protein is available, applying the algorithm to that structure might lead to (slightly) different pockets due to e.g. conformational changes induced by the bound ligand. Also differences between apo and holo structures do affect the predictions."
   ]
  },
  {
   "cell_type": "markdown",
   "metadata": {},
   "source": [
    "## Quiz\n",
    "\n",
    "1. What techniques can be invoked to automatically detect pockets on the protein surface?\n",
    "2. What are advantages and disadvantages of automatic binding site detection algorithms?\n",
    "3. Try another protein EGFR kinase structure and check the overlap between the predicted residues."
   ]
  },
  {
   "cell_type": "code",
   "execution_count": null,
   "metadata": {},
   "outputs": [],
   "source": []
  }
 ],
 "metadata": {
  "kernelspec": {
   "display_name": "Python 3",
   "language": "python",
   "name": "python3"
  },
  "language_info": {
   "codemirror_mode": {
    "name": "ipython",
    "version": 3
   },
   "file_extension": ".py",
   "mimetype": "text/x-python",
   "name": "python",
   "nbconvert_exporter": "python",
   "pygments_lexer": "ipython3",
   "version": "3.8.5"
  },
  "toc-autonumbering": true
 },
 "nbformat": 4,
 "nbformat_minor": 4
}
