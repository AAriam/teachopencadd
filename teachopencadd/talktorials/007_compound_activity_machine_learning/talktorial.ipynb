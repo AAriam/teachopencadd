{
 "cells": [
  {
   "cell_type": "markdown",
   "metadata": {},
   "source": [
    "# Ligand-based screening: machine learning\n",
    "\n",
    "Authors:\n",
    "\n",
    "* Jan Philipp Albrecht, CADD seminar 2018, Charité/FU Berlin\n",
    "* Jacob Gora, CADD seminar 2018, Charité/FU Berlin\n",
    "* Talia Kimber, 2019-2020, [Volkamer lab](https://volkamerlab.org)\n",
    "* Andrea Volkamer, 2019-2020, [Volkamer lab](https://volkamerlab.org)"
   ]
  },
  {
   "cell_type": "markdown",
   "metadata": {},
   "source": [
    "__Talktorial T007__: This talktorial is part of the TeachOpenCADD pipeline described in the [first TeachOpenCADD paper](https://jcheminf.biomedcentral.com/articles/10.1186/s13321-019-0351-x), comprising of talktorials T001-T010."
   ]
  },
  {
   "cell_type": "markdown",
   "metadata": {},
   "source": [
    "## Aim of this talktorial\n",
    "\n",
    "Due to larger available data sources, machine learning (ML) gained momentum in drug discovery and especially in ligand-based virtual screening. In this talktorial, we learn how to use different supervised ML algorithms to predict the activity of novel compounds against our target of interest (EGFR)."
   ]
  },
  {
   "cell_type": "markdown",
   "metadata": {},
   "source": [
    "### Contents in _Theory_\n",
    "\n",
    "* Data preparation: Molecule encoding\n",
    "* Machine learning (ML)\n",
    "    * Supervised learning\n",
    "* Model validation and evaluation\n",
    "    * Validation strategy: K-fold cross-validation\n",
    "    *  Performance measures"
   ]
  },
  {
   "cell_type": "markdown",
   "metadata": {},
   "source": [
    "### Contents in _Practical_\n",
    "\n",
    "* Load compound and activity data\n",
    "* Data preparation\n",
    "    * Data labeling\n",
    "    * Molecule encoding\n",
    "* Machine learning\n",
    "    * Helper functions\n",
    "    * Random forest classifier\n",
    "    * Support vector classifier\n",
    "    * Neural network classifier\n",
    "    * Cross-validation"
   ]
  },
  {
   "cell_type": "markdown",
   "metadata": {},
   "source": [
    "### References\n",
    "\n",
    "* \"Fingerprints in the RDKit\" [slides](https://www.rdkit.org/UGM/2012/Landrum_RDKit_UGM.Fingerprints.Final.pptx.pdf), G. Landrum, RDKit UGM 2012\n",
    "* Machine learning (ML):\n",
    "    * Random forest (RF): Breiman, L. \"Random Forests\". [_Machine Learning_ **45**, 5–32 (2001).](https://doi.org/10.1023/A:1010933404324)\n",
    "    * Support vector machines (SVM): Cortes, C., Vapnik, V. \"Support-vector networks\". [_Machine Learning_ **20**, 273–297 (1995).](https://doi.org/10.1007/BF00994018)\n",
    "    * Artificial neural networks (ANN): Van Gerven, Marcel, and Sander Bohte. \"Artificial neural networks as models of neural information processing.\" [_Frontiers in Computational Neuroscience_ 11 (2017): 114.](https://doi.org/10.3389/fncom.2017.00114)\n",
    "* Performance: \n",
    "    * Sensitivity and specificity ([Wikipedia](https://en.wikipedia.org/wiki/Sensitivity_and_specificity))\n",
    "    * ROC curve and AUC ([Wikipedia](https://en.wikipedia.org/wiki/Receiver_operating_characteristic#Area_under_the_curve))\n",
    "* See also [github notebook by B. Merget](https://github.com/Team-SKI/Publications/tree/master/Profiling_prediction_of_kinase_inhibitors) from [*J. Med. Chem.*, 2017, 60, 474−485](https://pubs.acs.org/doi/10.1021/acs.jmedchem.6b01611) "
   ]
  },
  {
   "cell_type": "markdown",
   "metadata": {},
   "source": [
    "## Theory\n",
    "\n",
    "To successfully apply ML, we need a large data set of molecules, a molecular encoding, a label per molecule in the data set, and a ML algorithm to train a model. Then, we can make predictions for new molecules.\n",
    "\n",
    "![ML overview](images/ML_overview.png)\n",
    "\n",
    "_Figure 1_: Machine learning overview: Molecular encoding, label, ML algorithm, prediction. Figure by Andrea Volkamer."
   ]
  },
  {
   "cell_type": "markdown",
   "metadata": {},
   "source": [
    "### Data preparation: Molecule encoding\n",
    "\n",
    "For ML, molecules need to be converted into a list of features. Often molecular fingerprints are used as representation. \n",
    "\n",
    "The fingerprints used in this talktorial as implemented in RDKit (more info can be found in a  [presentation by G. Landrum](https://www.rdkit.org/UGM/2012/Landrum_RDKit_UGM.Fingerprints.Final.pptx.pdf)) are:\n",
    "\n",
    "* **maccs**: 'MACCS keys are 166 bit structural key descriptors in which each bit is associated with a SMARTS pattern.' (see OE's `MACCS` [docs](https://docs.eyesopen.com/toolkits/python/graphsimtk/fingerprint.html#maccs))\n",
    "* **ecfp4** and **ecfp6**: 'Extended-Connectivity Fingerprints (ECFPs) are circular topological fingerprints designed for molecular characterization, similarity searching, and structure-activity modeling.' (see ChemAxon's `ECFP` [docs](https://docs.chemaxon.com/display/docs/Extended+Connectivity+Fingerprint+ECFP)) Most important parameters of ECFPs are maximum diameter and fingerprint length. The so-called diameter specifies the maximum diameter of circular neighborhoods considered for each atom. Here there are two diameters: 4 and 6. The length parameter specifies the length to which the bit string representation is hashed. The default length is 2048.\n",
    "* **torsion**: The Torsion Fingerprint Deviation (TFD) extracts weights, and compares Torsion Fingerprints from a query molecule and generated conformations under consideration of acyclic bonds as well as ring systems. (adapted from Schulz-Gasch, _et al._, [_J Chem Inf Model_. 2012;52(6)](https://pubmed.ncbi.nlm.nih.gov/22670896/))\n",
    "* **rdk5**: rdk5 is a path based fingerprint. 'A path fingerprint is generated by exhaustively enumerating all linear fragments of a molecular graph up to a given size and then hashing these fragments into a fixed-length bit vector.' (see OE's `Path` [docs](https://docs.eyesopen.com/toolkits/cpp/graphsimtk/fingerprint.html#path))"
   ]
  },
  {
   "cell_type": "markdown",
   "metadata": {},
   "source": [
    "### Machine learning (ML)\n",
    "\n",
    "ML can be applied for (text adapted from [scikit-learn page](http://scikit-learn.org/stable/)):\n",
    "\n",
    "* **Classification (supervised)**: Identify which category an object belongs to (e.g. : Nearest neighbors, Naive Bayes, RF, SVM, ...)\n",
    "* Regression: Prediction of a continuous-values attribute associated with an object\n",
    "* Clustering (unsupervised): Automated grouping of similar objects into sets (see also **talktorial T005**)"
   ]
  },
  {
   "cell_type": "markdown",
   "metadata": {},
   "source": [
    "#### Supervised learning\n",
    "\n",
    "A learning algorithm creates rules by finding patterns in the training data."
   ]
  },
  {
   "cell_type": "markdown",
   "metadata": {},
   "source": [
    "* **Random Forest (RF)**: Multiple decision trees which produce a mean prediction. \n",
    "* **Support Vector Machines (SVMs)**: SVMs can efficiently perform a non-linear classification using what is called the kernel trick, implicitly mapping their inputs into high-dimensional feature spaces. The classifier is based on the idea of maximizing the margin as the objective function.  \n",
    "* **Artificial neural networks (ANNs)**: An ANN is based on a collection of connected units or nodes called artificial neurons which loosely model the neurons in a biological brain. Each connection, like the synapses in a biological brain, can transmit a signal from one artificial neuron to another. An artificial neuron that receives a signal can process it and then signal additional artificial neurons connected to it.\n",
    "\n",
    "\n",
    "![ANN_example](images/ANN_wiki.png)\n",
    "\n",
    "_Figure 2_: Example of a neural network with one hidden layer. Figure taken from [Wikipedia](https://en.wikipedia.org/wiki/Artificial_neural_network)."
   ]
  },
  {
   "cell_type": "markdown",
   "metadata": {},
   "source": [
    "### Model validation and evaluation"
   ]
  },
  {
   "cell_type": "markdown",
   "metadata": {},
   "source": [
    "#### Validation strategy: K-fold cross validation\n",
    "\n",
    "* This model validation technique splits the dataset in two groups in an iterative manner:\n",
    "    * Training data set: Considered as the known dataset on which the model is trained\n",
    "    * Test dataset: Unknown dataset on which the model is then tested\n",
    "    * Process is repeated k-times\n",
    "* The goal is to test the ability of the model to predict data which it has never seen before in order to flag problems known as over-fitting and to assess the generalization ability of the model."
   ]
  },
  {
   "cell_type": "markdown",
   "metadata": {},
   "source": [
    "#### Performance measures\n",
    "\n",
    "* **Sensitivity**, also true positive rate\n",
    "    * TPR = TP/(FN + TP) \n",
    "    * _Intuitively_: Out of all actual positives, how many were predicted as positive?\n",
    "* **Specificity**, also true negative rate\n",
    "    * TNR = TN/(FP + TN)\n",
    "    * _Intuitively_:Out of all actual negatives, how many were predicted as negative?\n",
    "* **Accuracy**, also the trueness\n",
    "    * ACC = (TP + TN)/(TP + TN + FP + FN)\n",
    "    * _Intuitively_: proportion of correct predictions.\n",
    "* **ROC-curve**, receiver operating characteristic curve\n",
    "    * A graphical plot that illustrates the diagnostic ability of our classifier\n",
    "    * Plots the sensitivity against the specificity\n",
    "* **AUC**, the area under the ROC curve (AUC):  \n",
    "    * Describes the probability that a classifier will rank a randomly chosen positive instance higher than a negative one\n",
    "    * Values between 0 and 1, the higher the better"
   ]
  },
  {
   "cell_type": "markdown",
   "metadata": {},
   "source": [
    "| What the model predicts  | True active  |  True inactive |\n",
    "|---|---|---|\n",
    "| active  |  True Positive (TP) |  False Positive (FP) |\n",
    "| inactive  |  False Negative (FN) |  True Negative (TN) |"
   ]
  },
  {
   "cell_type": "markdown",
   "metadata": {},
   "source": [
    "## Practical"
   ]
  },
  {
   "cell_type": "code",
   "execution_count": 1,
   "metadata": {},
   "outputs": [
    {
     "name": "stderr",
     "output_type": "stream",
     "text": [
      "Matplotlib created a temporary config/cache directory at /tmp/matplotlib-6pyq0wn6 because the default path (/home/andrea/.cache/matplotlib) is not a writable directory; it is highly recommended to set the MPLCONFIGDIR environment variable to a writable directory, in particular to speed up the import of Matplotlib and to better support multiprocessing.\n"
     ]
    }
   ],
   "source": [
    "# Import statements\n",
    "# General:\n",
    "from pathlib import Path\n",
    "import pandas as pd\n",
    "import numpy as np\n",
    "# sklearn:\n",
    "from sklearn import svm, metrics\n",
    "from sklearn.ensemble import RandomForestClassifier\n",
    "from sklearn.neural_network import MLPClassifier\n",
    "from sklearn.model_selection import KFold, train_test_split\n",
    "from sklearn.metrics import auc, accuracy_score, recall_score, roc_curve, roc_auc_score\n",
    "# matplotlib:\n",
    "import matplotlib.ticker as ticker\n",
    "import matplotlib.pyplot as plt\n",
    "import matplotlib.cm as cm\n",
    "# seaborn:\n",
    "import seaborn as sns\n",
    "# rdkit:\n",
    "from rdkit import Chem\n",
    "from rdkit.Chem import RDKFingerprint, MACCSkeys\n",
    "from rdkit.Chem.AllChem import GetMorganFingerprintAsBitVect, GetHashedTopologicalTorsionFingerprintAsBitVect\n",
    "from rdkit.DataStructs import ConvertToNumpyArray"
   ]
  },
  {
   "cell_type": "code",
   "execution_count": 2,
   "metadata": {},
   "outputs": [],
   "source": [
    "# Set path to this notebook\n",
    "HERE = Path(_dh[-1])\n",
    "DATA = HERE / \"data\""
   ]
  },
  {
   "cell_type": "markdown",
   "metadata": {},
   "source": [
    "### Load compound and activity data\n",
    "\n",
    "Let's start by loading our data, which focuses on the Epidermal growth factor receptor (EGFR) kinase. The *csv* file from **talktorial T002** is loaded into a dataframe with the important columns:\n",
    "\n",
    "* CHEMBL-ID\n",
    "* SMILES string of the corresponding compound\n",
    "* Measured affinity: pIC50"
   ]
  },
  {
   "cell_type": "code",
   "execution_count": 3,
   "metadata": {},
   "outputs": [
    {
     "name": "stdout",
     "output_type": "stream",
     "text": [
      "Shape of dataframe :  (4009, 10)\n"
     ]
    },
    {
     "data": {
      "text/html": [
       "<div>\n",
       "<style scoped>\n",
       "    .dataframe tbody tr th:only-of-type {\n",
       "        vertical-align: middle;\n",
       "    }\n",
       "\n",
       "    .dataframe tbody tr th {\n",
       "        vertical-align: top;\n",
       "    }\n",
       "\n",
       "    .dataframe thead th {\n",
       "        text-align: right;\n",
       "    }\n",
       "</style>\n",
       "<table border=\"1\" class=\"dataframe\">\n",
       "  <thead>\n",
       "    <tr style=\"text-align: right;\">\n",
       "      <th></th>\n",
       "      <th>molecule_chembl_id</th>\n",
       "      <th>units</th>\n",
       "      <th>IC50</th>\n",
       "      <th>pIC50</th>\n",
       "      <th>smiles</th>\n",
       "      <th>MW</th>\n",
       "      <th>HBA</th>\n",
       "      <th>HBD</th>\n",
       "      <th>LogP</th>\n",
       "      <th>rule_of_five_conform</th>\n",
       "    </tr>\n",
       "  </thead>\n",
       "  <tbody>\n",
       "    <tr>\n",
       "      <th>0</th>\n",
       "      <td>CHEMBL63786</td>\n",
       "      <td>nM</td>\n",
       "      <td>0.003</td>\n",
       "      <td>11.522879</td>\n",
       "      <td>Brc1cccc(Nc2ncnc3cc4ccccc4cc23)c1</td>\n",
       "      <td>349.021459</td>\n",
       "      <td>3</td>\n",
       "      <td>1</td>\n",
       "      <td>5.2891</td>\n",
       "      <td>yes</td>\n",
       "    </tr>\n",
       "    <tr>\n",
       "      <th>1</th>\n",
       "      <td>CHEMBL53711</td>\n",
       "      <td>nM</td>\n",
       "      <td>0.006</td>\n",
       "      <td>11.221849</td>\n",
       "      <td>CN(C)c1cc2c(Nc3cccc(Br)c3)ncnc2cn1</td>\n",
       "      <td>343.043258</td>\n",
       "      <td>5</td>\n",
       "      <td>1</td>\n",
       "      <td>3.5969</td>\n",
       "      <td>yes</td>\n",
       "    </tr>\n",
       "    <tr>\n",
       "      <th>2</th>\n",
       "      <td>CHEMBL35820</td>\n",
       "      <td>nM</td>\n",
       "      <td>0.006</td>\n",
       "      <td>11.221849</td>\n",
       "      <td>CCOc1cc2ncnc(Nc3cccc(Br)c3)c2cc1OCC</td>\n",
       "      <td>387.058239</td>\n",
       "      <td>5</td>\n",
       "      <td>1</td>\n",
       "      <td>4.9333</td>\n",
       "      <td>yes</td>\n",
       "    </tr>\n",
       "    <tr>\n",
       "      <th>3</th>\n",
       "      <td>CHEMBL53753</td>\n",
       "      <td>nM</td>\n",
       "      <td>0.008</td>\n",
       "      <td>11.096910</td>\n",
       "      <td>CNc1cc2c(Nc3cccc(Br)c3)ncnc2cn1</td>\n",
       "      <td>329.027607</td>\n",
       "      <td>5</td>\n",
       "      <td>2</td>\n",
       "      <td>3.5726</td>\n",
       "      <td>yes</td>\n",
       "    </tr>\n",
       "    <tr>\n",
       "      <th>4</th>\n",
       "      <td>CHEMBL66031</td>\n",
       "      <td>nM</td>\n",
       "      <td>0.008</td>\n",
       "      <td>11.096910</td>\n",
       "      <td>Brc1cccc(Nc2ncnc3cc4[nH]cnc4cc23)c1</td>\n",
       "      <td>339.011957</td>\n",
       "      <td>4</td>\n",
       "      <td>2</td>\n",
       "      <td>4.0122</td>\n",
       "      <td>yes</td>\n",
       "    </tr>\n",
       "  </tbody>\n",
       "</table>\n",
       "</div>"
      ],
      "text/plain": [
       "  molecule_chembl_id units   IC50      pIC50  \\\n",
       "0        CHEMBL63786    nM  0.003  11.522879   \n",
       "1        CHEMBL53711    nM  0.006  11.221849   \n",
       "2        CHEMBL35820    nM  0.006  11.221849   \n",
       "3        CHEMBL53753    nM  0.008  11.096910   \n",
       "4        CHEMBL66031    nM  0.008  11.096910   \n",
       "\n",
       "                                smiles          MW  HBA  HBD    LogP  \\\n",
       "0    Brc1cccc(Nc2ncnc3cc4ccccc4cc23)c1  349.021459    3    1  5.2891   \n",
       "1   CN(C)c1cc2c(Nc3cccc(Br)c3)ncnc2cn1  343.043258    5    1  3.5969   \n",
       "2  CCOc1cc2ncnc(Nc3cccc(Br)c3)c2cc1OCC  387.058239    5    1  4.9333   \n",
       "3      CNc1cc2c(Nc3cccc(Br)c3)ncnc2cn1  329.027607    5    2  3.5726   \n",
       "4  Brc1cccc(Nc2ncnc3cc4[nH]cnc4cc23)c1  339.011957    4    2  4.0122   \n",
       "\n",
       "  rule_of_five_conform  \n",
       "0                  yes  \n",
       "1                  yes  \n",
       "2                  yes  \n",
       "3                  yes  \n",
       "4                  yes  "
      ]
     },
     "execution_count": 3,
     "metadata": {},
     "output_type": "execute_result"
    }
   ],
   "source": [
    "# Read data from previous talktorials\n",
    "compound_df = pd.read_csv(\n",
    "    HERE / \"../002_compound_adme/data/EGFR_compounds_lipinski.csv\",\n",
    "    delimiter=\";\",\n",
    "    index_col=0,\n",
    ")\n",
    "\n",
    "# Look at head\n",
    "print(\"Shape of dataframe : \", compound_df.shape)  # TODO:CI\n",
    "\n",
    "compound_df.head()  # TODO:CI"
   ]
  },
  {
   "cell_type": "code",
   "execution_count": 4,
   "metadata": {},
   "outputs": [
    {
     "data": {
      "text/html": [
       "<div>\n",
       "<style scoped>\n",
       "    .dataframe tbody tr th:only-of-type {\n",
       "        vertical-align: middle;\n",
       "    }\n",
       "\n",
       "    .dataframe tbody tr th {\n",
       "        vertical-align: top;\n",
       "    }\n",
       "\n",
       "    .dataframe thead th {\n",
       "        text-align: right;\n",
       "    }\n",
       "</style>\n",
       "<table border=\"1\" class=\"dataframe\">\n",
       "  <thead>\n",
       "    <tr style=\"text-align: right;\">\n",
       "      <th></th>\n",
       "      <th>molecule_chembl_id</th>\n",
       "      <th>pIC50</th>\n",
       "      <th>smiles</th>\n",
       "    </tr>\n",
       "  </thead>\n",
       "  <tbody>\n",
       "    <tr>\n",
       "      <th>0</th>\n",
       "      <td>CHEMBL63786</td>\n",
       "      <td>11.522879</td>\n",
       "      <td>Brc1cccc(Nc2ncnc3cc4ccccc4cc23)c1</td>\n",
       "    </tr>\n",
       "    <tr>\n",
       "      <th>1</th>\n",
       "      <td>CHEMBL53711</td>\n",
       "      <td>11.221849</td>\n",
       "      <td>CN(C)c1cc2c(Nc3cccc(Br)c3)ncnc2cn1</td>\n",
       "    </tr>\n",
       "    <tr>\n",
       "      <th>2</th>\n",
       "      <td>CHEMBL35820</td>\n",
       "      <td>11.221849</td>\n",
       "      <td>CCOc1cc2ncnc(Nc3cccc(Br)c3)c2cc1OCC</td>\n",
       "    </tr>\n",
       "    <tr>\n",
       "      <th>3</th>\n",
       "      <td>CHEMBL53753</td>\n",
       "      <td>11.096910</td>\n",
       "      <td>CNc1cc2c(Nc3cccc(Br)c3)ncnc2cn1</td>\n",
       "    </tr>\n",
       "    <tr>\n",
       "      <th>4</th>\n",
       "      <td>CHEMBL66031</td>\n",
       "      <td>11.096910</td>\n",
       "      <td>Brc1cccc(Nc2ncnc3cc4[nH]cnc4cc23)c1</td>\n",
       "    </tr>\n",
       "  </tbody>\n",
       "</table>\n",
       "</div>"
      ],
      "text/plain": [
       "  molecule_chembl_id      pIC50                               smiles\n",
       "0        CHEMBL63786  11.522879    Brc1cccc(Nc2ncnc3cc4ccccc4cc23)c1\n",
       "1        CHEMBL53711  11.221849   CN(C)c1cc2c(Nc3cccc(Br)c3)ncnc2cn1\n",
       "2        CHEMBL35820  11.221849  CCOc1cc2ncnc(Nc3cccc(Br)c3)c2cc1OCC\n",
       "3        CHEMBL53753  11.096910      CNc1cc2c(Nc3cccc(Br)c3)ncnc2cn1\n",
       "4        CHEMBL66031  11.096910  Brc1cccc(Nc2ncnc3cc4[nH]cnc4cc23)c1"
      ]
     },
     "execution_count": 4,
     "metadata": {},
     "output_type": "execute_result"
    }
   ],
   "source": [
    "# Drop unnecessary columns\n",
    "compound_df.drop(\n",
    "    [\"units\", \"IC50\", \"MW\", \"HBA\", \"HBD\", \"LogP\", \"rule_of_five_conform\"],\n",
    "    axis=1,\n",
    "    inplace=True\n",
    ")\n",
    "compound_df.head()  # TODO:CI"
   ]
  },
  {
   "cell_type": "markdown",
   "metadata": {},
   "source": [
    "### Data preparation"
   ]
  },
  {
   "cell_type": "markdown",
   "metadata": {},
   "source": [
    "#### Data labeling\n",
    "We need to classify each compound as active or inactive. Therefore, we use the pIC50 value.\n",
    "\n",
    "* pIC50 = -log10(IC50) \n",
    "* IC50 describes the amount of substance needed to inhibit, _in vitro_, a process by 50% .\n",
    "* A common cut-off value to discretize pIC50 data is 6,3, which we will use for our experiment.\n",
    "* Note that there are several other suggestions for an activity cut-off ranging from an pIC50 value of 5 to 7 in the literature or even to define an exclusion range when not to take data points. "
   ]
  },
  {
   "cell_type": "code",
   "execution_count": 5,
   "metadata": {},
   "outputs": [
    {
     "name": "stdout",
     "output_type": "stream",
     "text": [
      "Number of active compounds: 2181\n",
      "Number of inactive compounds: 1828\n"
     ]
    }
   ],
   "source": [
    "# Add column for activity\n",
    "compound_df[\"active\"] = np.zeros(len(compound_df))\n",
    "\n",
    "# Mark every molecule as active with an pIC50 of >= 6.3, 0 otherwise\n",
    "compound_df.loc[compound_df[compound_df.pIC50 >= 6.3].index, \"active\"] = 1.0\n",
    "\n",
    "# TODO:CI\n",
    "print(f'Number of active compounds: {int(compound_df.active.sum())}')\n",
    "print(f'Number of inactive compounds: {int(len(compound_df)-compound_df.active.sum())}')"
   ]
  },
  {
   "cell_type": "code",
   "execution_count": 6,
   "metadata": {},
   "outputs": [
    {
     "data": {
      "text/html": [
       "<div>\n",
       "<style scoped>\n",
       "    .dataframe tbody tr th:only-of-type {\n",
       "        vertical-align: middle;\n",
       "    }\n",
       "\n",
       "    .dataframe tbody tr th {\n",
       "        vertical-align: top;\n",
       "    }\n",
       "\n",
       "    .dataframe thead th {\n",
       "        text-align: right;\n",
       "    }\n",
       "</style>\n",
       "<table border=\"1\" class=\"dataframe\">\n",
       "  <thead>\n",
       "    <tr style=\"text-align: right;\">\n",
       "      <th></th>\n",
       "      <th>molecule_chembl_id</th>\n",
       "      <th>pIC50</th>\n",
       "      <th>smiles</th>\n",
       "      <th>active</th>\n",
       "    </tr>\n",
       "  </thead>\n",
       "  <tbody>\n",
       "    <tr>\n",
       "      <th>0</th>\n",
       "      <td>CHEMBL63786</td>\n",
       "      <td>11.522879</td>\n",
       "      <td>Brc1cccc(Nc2ncnc3cc4ccccc4cc23)c1</td>\n",
       "      <td>1.0</td>\n",
       "    </tr>\n",
       "    <tr>\n",
       "      <th>1</th>\n",
       "      <td>CHEMBL53711</td>\n",
       "      <td>11.221849</td>\n",
       "      <td>CN(C)c1cc2c(Nc3cccc(Br)c3)ncnc2cn1</td>\n",
       "      <td>1.0</td>\n",
       "    </tr>\n",
       "    <tr>\n",
       "      <th>2</th>\n",
       "      <td>CHEMBL35820</td>\n",
       "      <td>11.221849</td>\n",
       "      <td>CCOc1cc2ncnc(Nc3cccc(Br)c3)c2cc1OCC</td>\n",
       "      <td>1.0</td>\n",
       "    </tr>\n",
       "    <tr>\n",
       "      <th>3</th>\n",
       "      <td>CHEMBL53753</td>\n",
       "      <td>11.096910</td>\n",
       "      <td>CNc1cc2c(Nc3cccc(Br)c3)ncnc2cn1</td>\n",
       "      <td>1.0</td>\n",
       "    </tr>\n",
       "    <tr>\n",
       "      <th>4</th>\n",
       "      <td>CHEMBL66031</td>\n",
       "      <td>11.096910</td>\n",
       "      <td>Brc1cccc(Nc2ncnc3cc4[nH]cnc4cc23)c1</td>\n",
       "      <td>1.0</td>\n",
       "    </tr>\n",
       "  </tbody>\n",
       "</table>\n",
       "</div>"
      ],
      "text/plain": [
       "  molecule_chembl_id      pIC50                               smiles  active\n",
       "0        CHEMBL63786  11.522879    Brc1cccc(Nc2ncnc3cc4ccccc4cc23)c1     1.0\n",
       "1        CHEMBL53711  11.221849   CN(C)c1cc2c(Nc3cccc(Br)c3)ncnc2cn1     1.0\n",
       "2        CHEMBL35820  11.221849  CCOc1cc2ncnc(Nc3cccc(Br)c3)c2cc1OCC     1.0\n",
       "3        CHEMBL53753  11.096910      CNc1cc2c(Nc3cccc(Br)c3)ncnc2cn1     1.0\n",
       "4        CHEMBL66031  11.096910  Brc1cccc(Nc2ncnc3cc4[nH]cnc4cc23)c1     1.0"
      ]
     },
     "execution_count": 6,
     "metadata": {},
     "output_type": "execute_result"
    }
   ],
   "source": [
    "compound_df.head()  # TODO:CI"
   ]
  },
  {
   "cell_type": "markdown",
   "metadata": {},
   "source": [
    "#### Molecule encoding\n",
    "\n",
    "Now we define a function `smiles_to_fp` to generate fingerprints from SMILES.\n",
    "For now, we incorporated the choice between the following fingerprints:\n",
    "\n",
    "* maccs\n",
    "* ecfp4 and ecfp6\n",
    "* torsion\n",
    "* rdk5 "
   ]
  },
  {
   "cell_type": "code",
   "execution_count": 7,
   "metadata": {},
   "outputs": [],
   "source": [
    "def smiles_to_fp(smiles, method=\"maccs\", n_bits=2048):\n",
    "    \"\"\"\n",
    "    Encode a molecule from a SMILES string into a fingerprint.\n",
    "\n",
    "    Parameters\n",
    "    ----------\n",
    "    smiles : str\n",
    "        The SMILES string defining the molecule.\n",
    "\n",
    "    method : str\n",
    "        The type of fingerprint to use. Default is MACCS keys.\n",
    "\n",
    "    n_bits : int\n",
    "        The length of the fingerprint.\n",
    "\n",
    "    Returns\n",
    "    -------\n",
    "    array\n",
    "        The fingerprint array.\n",
    "\n",
    "    \"\"\"\n",
    "\n",
    "    # convert smiles to RDKit mol object\n",
    "    mol = Chem.MolFromSmiles(smiles)\n",
    "\n",
    "    if method == \"maccs\":\n",
    "        return np.array(MACCSkeys.GenMACCSKeys(mol))\n",
    "    if method == \"ecfp4\":\n",
    "        return np.array(GetMorganFingerprintAsBitVect(mol, 2, nBits=n_bits))\n",
    "    if method == \"ecfp6\":\n",
    "        return np.array(GetMorganFingerprintAsBitVect(mol, 3, nBits=n_bits))\n",
    "    if method == \"torsion\":\n",
    "        return np.array(\n",
    "            GetHashedTopologicalTorsionFingerprintAsBitVect(mol, nBits=n_bits)\n",
    "        )\n",
    "    if method == \"rdk5\":\n",
    "        return np.array(RDKFingerprint(mol, maxPath=5,\n",
    "                                       fpSize=1024, nBitsPerHash=2))\n",
    "    else:\n",
    "        print(f'Warning: Wrong method specified: {method}, default will be used instead.')\n",
    "        return np.array(MACCSkeys.GenMACCSKeys(mol))"
   ]
  },
  {
   "cell_type": "code",
   "execution_count": 8,
   "metadata": {},
   "outputs": [
    {
     "data": {
      "text/html": [
       "<div>\n",
       "<style scoped>\n",
       "    .dataframe tbody tr th:only-of-type {\n",
       "        vertical-align: middle;\n",
       "    }\n",
       "\n",
       "    .dataframe tbody tr th {\n",
       "        vertical-align: top;\n",
       "    }\n",
       "\n",
       "    .dataframe thead th {\n",
       "        text-align: right;\n",
       "    }\n",
       "</style>\n",
       "<table border=\"1\" class=\"dataframe\">\n",
       "  <thead>\n",
       "    <tr style=\"text-align: right;\">\n",
       "      <th></th>\n",
       "      <th>molecule_chembl_id</th>\n",
       "      <th>pIC50</th>\n",
       "      <th>smiles</th>\n",
       "      <th>active</th>\n",
       "      <th>fp</th>\n",
       "    </tr>\n",
       "  </thead>\n",
       "  <tbody>\n",
       "    <tr>\n",
       "      <th>0</th>\n",
       "      <td>CHEMBL63786</td>\n",
       "      <td>11.522879</td>\n",
       "      <td>Brc1cccc(Nc2ncnc3cc4ccccc4cc23)c1</td>\n",
       "      <td>1.0</td>\n",
       "      <td>[0, 0, 0, 0, 0, 0, 0, 0, 0, 0, 0, 0, 0, 0, 0, ...</td>\n",
       "    </tr>\n",
       "    <tr>\n",
       "      <th>1</th>\n",
       "      <td>CHEMBL53711</td>\n",
       "      <td>11.221849</td>\n",
       "      <td>CN(C)c1cc2c(Nc3cccc(Br)c3)ncnc2cn1</td>\n",
       "      <td>1.0</td>\n",
       "      <td>[0, 0, 0, 0, 0, 0, 0, 0, 0, 0, 0, 0, 0, 0, 0, ...</td>\n",
       "    </tr>\n",
       "    <tr>\n",
       "      <th>2</th>\n",
       "      <td>CHEMBL35820</td>\n",
       "      <td>11.221849</td>\n",
       "      <td>CCOc1cc2ncnc(Nc3cccc(Br)c3)c2cc1OCC</td>\n",
       "      <td>1.0</td>\n",
       "      <td>[0, 0, 0, 0, 0, 0, 0, 0, 0, 0, 0, 0, 0, 0, 0, ...</td>\n",
       "    </tr>\n",
       "  </tbody>\n",
       "</table>\n",
       "</div>"
      ],
      "text/plain": [
       "  molecule_chembl_id      pIC50                               smiles  active  \\\n",
       "0        CHEMBL63786  11.522879    Brc1cccc(Nc2ncnc3cc4ccccc4cc23)c1     1.0   \n",
       "1        CHEMBL53711  11.221849   CN(C)c1cc2c(Nc3cccc(Br)c3)ncnc2cn1     1.0   \n",
       "2        CHEMBL35820  11.221849  CCOc1cc2ncnc(Nc3cccc(Br)c3)c2cc1OCC     1.0   \n",
       "\n",
       "                                                  fp  \n",
       "0  [0, 0, 0, 0, 0, 0, 0, 0, 0, 0, 0, 0, 0, 0, 0, ...  \n",
       "1  [0, 0, 0, 0, 0, 0, 0, 0, 0, 0, 0, 0, 0, 0, 0, ...  \n",
       "2  [0, 0, 0, 0, 0, 0, 0, 0, 0, 0, 0, 0, 0, 0, 0, ...  "
      ]
     },
     "execution_count": 8,
     "metadata": {},
     "output_type": "execute_result"
    }
   ],
   "source": [
    "# Add column for fingerprint\n",
    "compound_df[\"fp\"] = compound_df[\"smiles\"].apply(smiles_to_fp)\n",
    "compound_df.head(3)"
   ]
  },
  {
   "cell_type": "markdown",
   "metadata": {},
   "source": [
    "### Machine Learning (ML)\n",
    "\n",
    "In the following, we will try several ML approaches to classify our molecules. We will use:\n",
    "\n",
    "* Random Forest (RF)\n",
    "* Support Vector Machine (SVM) \n",
    "* Artificial Neural Network (ANN) \n",
    "\n",
    "Additionally, we will comment on the results.\n",
    "\n",
    "The goal is to test the ability of the model to predict data which it has never seen before in order to flag problems known as over fitting and to assess the generalization ability of the model.\n",
    "\n",
    "We start by defining a function `model_training_and_validation` which fits a model on a random train-test split of the data and returns measures such as accuracy, sensitivity, specificity and AUC evaluated on the test set. We also plot the ROC curves using `plot_roc_curves_for_models`.\n",
    "\n",
    "We then define a function named `crossvalidation` which executes a cross validation procedure and prints the statistics of the results over the folds."
   ]
  },
  {
   "cell_type": "code",
   "execution_count": 9,
   "metadata": {},
   "outputs": [],
   "source": [
    "# Set seed for reproducibility of results\n",
    "SEED = 123"
   ]
  },
  {
   "cell_type": "markdown",
   "metadata": {},
   "source": [
    "#### Helper functions\n",
    "Helper function to plot customized ROC curves. Code inspired by [stackoverflow](https://stackoverflow.com/questions/42894871/how-to-plot-multiple-roc-curves-in-one-plot-with-legend-and-auc-scores-in-python)."
   ]
  },
  {
   "cell_type": "code",
   "execution_count": 10,
   "metadata": {},
   "outputs": [],
   "source": [
    "def plot_roc_curves_for_models(models, test_x, test_y, save_png=False):\n",
    "    '''\n",
    "    Helper function to plot customized roc curve\n",
    "    \n",
    "    Parameters\n",
    "    ----------\n",
    "    models: dict\n",
    "        Dictionary of pretrained machine learning models.\n",
    "    test_x: list\n",
    "        Molecular fingerprints for test set.\n",
    "    test_y: list\n",
    "        Associated activity labels for test set.\n",
    "    save_png: bool\n",
    "        Save image to disk (default = False)\n",
    "    Returns\n",
    "    -------\n",
    "    plt:\n",
    "        Figure.\n",
    "    \n",
    "    '''\n",
    "    \n",
    "    # Plotting   \n",
    "    plt.figure()\n",
    "\n",
    "    # Below for loop iterates through your models list\n",
    "    for m in models:\n",
    "        # select the model\n",
    "        ml_model = m['model'] \n",
    "        # Prediction probability on test set\n",
    "        test_prob = ml_model.predict_proba(test_x)[:, 1]\n",
    "        # Prediction class on test set\n",
    "        test_pred = ml_model.predict(test_x)\n",
    "        # Compute False postive rate, and True positive rate\n",
    "        fpr, tpr, thresholds = metrics.roc_curve(test_y, test_prob)\n",
    "        # Calculate Area under the curve to display on the plot\n",
    "        auc = roc_auc_score(test_y, test_prob)\n",
    "        # Now, plot the computed values\n",
    "        plt.plot(fpr, tpr, label = '%s AUC (area = %0.2f)' % (m['label'], auc))\n",
    "\n",
    "    # Custom settings for the plot \n",
    "    plt.plot([0, 1], [0, 1],'r--')\n",
    "    plt.xlabel('False Positive Rate')\n",
    "    plt.ylabel('True Positive Rate')\n",
    "    plt.title('Receiver Operating Characteristic')\n",
    "    plt.legend(loc=\"lower right\")\n",
    "    # Save plot\n",
    "    if save_png:\n",
    "        plt.savefig(f\"{DATA}/roc_auc\", dpi=300,\n",
    "                bbox_inches=\"tight\", transparent=True)\n",
    "    plt.show()  "
   ]
  },
  {
   "cell_type": "markdown",
   "metadata": {},
   "source": [
    "Helper function to calculate model performance."
   ]
  },
  {
   "cell_type": "code",
   "execution_count": 11,
   "metadata": {},
   "outputs": [],
   "source": [
    "def model_performance(ml_model, test_x, test_y, verbose=True):\n",
    "    '''\n",
    "    Helper function to calculate model performance\n",
    "    \n",
    "    Parameters\n",
    "    ----------\n",
    "    ml_model: sklearn model object\n",
    "        The machine learning model to train.\n",
    "    test_x: list\n",
    "        Molecular fingerprints for test set.\n",
    "    test_y: list\n",
    "        Associated activity labels for test set.\n",
    "    verbose: bool\n",
    "        Print performance info (default = True)\n",
    "        \n",
    "    Returns\n",
    "    -------\n",
    "    tuple:\n",
    "        Accuracy, sensitivity, specificity, auc on test set.\n",
    "        \n",
    "    '''\n",
    "\n",
    "    # Prediction probability on test set\n",
    "    test_prob = ml_model.predict_proba(test_x)[:, 1]\n",
    "        \n",
    "    # Prediction class on test set\n",
    "    test_pred = ml_model.predict(test_x)\n",
    "    \n",
    "    # Performance of model on test set\n",
    "    accuracy = accuracy_score(test_y, test_pred)\n",
    "    sens = recall_score(test_y, test_pred)\n",
    "    spec = recall_score(test_y, test_pred, pos_label=0)\n",
    "    auc = roc_auc_score(test_y, test_prob)\n",
    "    \n",
    "    if verbose:\n",
    "        # Print performance results\n",
    "        print(f'Accuracy: {accuracy:.2}')\n",
    "        print(f'Sensitivity: {sens:.2}')\n",
    "        print(f'Specificity: {spec:.2}')\n",
    "        print(f'AUC: {auc:.2f}')\n",
    "    \n",
    "    return (accuracy, sens, spec, auc)"
   ]
  },
  {
   "cell_type": "markdown",
   "metadata": {},
   "source": [
    " Helper function to fit a machine learning model on a random train-test split of the data and return the performance measures."
   ]
  },
  {
   "cell_type": "code",
   "execution_count": 12,
   "metadata": {},
   "outputs": [],
   "source": [
    "def model_training_and_validation(ml_model, name, splits, verbose=True):\n",
    "    '''\n",
    "    Fit a machine learning model on a random train-test split of the data and return the performance measures.\n",
    "    \n",
    "    Parameters\n",
    "    ----------\n",
    "    ml_model: sklearn model object\n",
    "        The machine learning model to train.\n",
    "    name: str\n",
    "        Name of machine learning algorithm: RF, SVM, ANN\n",
    "    splits: list\n",
    "        List of desciptor and label data: train_x, test_x, train_y, test_y.\n",
    "    verbose: bool\n",
    "        Print performance info (default = True)\n",
    "        \n",
    "    Returns\n",
    "    -------\n",
    "    tuple:\n",
    "        Model, Splits, Accuracy, sensitivity, specificity, auc on test set.\n",
    "    \n",
    "    '''\n",
    "    train_x, test_x, train_y, test_y = splits\n",
    "            \n",
    "    # Fit the model\n",
    "    ml_model.fit(train_x, train_y)\n",
    "    \n",
    "    # Calculate model performance results\n",
    "    accuracy, sens, spec, auc = model_performance(ml_model, test_x, test_y, verbose)\n",
    "    \n",
    "    return(accuracy, sens, spec, auc)"
   ]
  },
  {
   "cell_type": "markdown",
   "metadata": {},
   "source": [
    "#### Random forest classifier\n",
    "\n",
    "We start with a random forest classifier, where we first set the parameters."
   ]
  },
  {
   "cell_type": "code",
   "execution_count": 13,
   "metadata": {},
   "outputs": [],
   "source": [
    "# Set model parameter for random Forest\n",
    "param = {'max_features': 'auto',\n",
    "         'n_estimators': 100,\n",
    "         'criterion': 'entropy',\n",
    "         'min_samples_leaf': 1}\n",
    "model_RF = RandomForestClassifier(**param)"
   ]
  },
  {
   "cell_type": "markdown",
   "metadata": {},
   "source": [
    "**Preprocessing**: Split the data (will be reused for the other models)"
   ]
  },
  {
   "cell_type": "code",
   "execution_count": 14,
   "metadata": {},
   "outputs": [
    {
     "name": "stdout",
     "output_type": "stream",
     "text": [
      "Training data size: 3207\n",
      "Test data size: 802\n"
     ]
    }
   ],
   "source": [
    "fingerprint_to_model = compound_df.fp.tolist()\n",
    "label_to_model = compound_df.active.tolist()\n",
    "    \n",
    "# Split data randomly in train and test set\n",
    "# note that we use test/train_x for the repective fingerprint splits\n",
    "# and test/train_y for the respective label splits \n",
    "static_train_x, static_test_x, static_train_y, static_test_y = train_test_split(fingerprint_to_model,\n",
    "                                                    label_to_model,\n",
    "                                                    test_size=0.2,\n",
    "                                                    random_state=SEED)\n",
    "splits = [static_train_x, static_test_x, static_train_y, static_test_y]\n",
    "#TODO CI\n",
    "print(f'Training data size: {len(static_train_x)}')\n",
    "print(f'Test data size: {len(static_test_x)}')"
   ]
  },
  {
   "cell_type": "markdown",
   "metadata": {},
   "source": [
    "We train the model on a random train-test split and plot the results."
   ]
  },
  {
   "cell_type": "code",
   "execution_count": 15,
   "metadata": {},
   "outputs": [
    {
     "name": "stdout",
     "output_type": "stream",
     "text": [
      "Accuracy: 0.85\n",
      "Sensitivity: 0.86\n",
      "Specificity: 0.83\n",
      "AUC: 0.92\n"
     ]
    }
   ],
   "source": [
    "# Fit model on single split\n",
    "performance_measures = model_training_and_validation(model_RF, 'RF', splits)"
   ]
  },
  {
   "cell_type": "code",
   "execution_count": 16,
   "metadata": {},
   "outputs": [
    {
     "data": {
      "image/png": "[encoded data removed]",
      "text/plain": [
       "<Figure size 432x288 with 1 Axes>"
      ]
     },
     "metadata": {
      "needs_background": "light"
     },
     "output_type": "display_data"
    }
   ],
   "source": [
    "# List that stores all models\n",
    "models = []\n",
    "# Append RF model\n",
    "models.append({'label': 'Model_RF', 'model': model_RF}) \n",
    "# Plot roc curve\n",
    "plot_roc_curves_for_models(models, static_test_x, static_test_y)"
   ]
  },
  {
   "cell_type": "markdown",
   "metadata": {},
   "source": [
    "#### Support vector classifier\n",
    "Here we train a SVM with a radial-basis function kernel (also: squared-exponential kernel). \n",
    "For more information, see [sklearn RBF kernel](http://scikit-learn.org/stable/modules/generated/sklearn.gaussian_process.kernels.RBF.html)."
   ]
  },
  {
   "cell_type": "code",
   "execution_count": 17,
   "metadata": {
    "scrolled": true
   },
   "outputs": [
    {
     "name": "stdout",
     "output_type": "stream",
     "text": [
      "Accuracy: 0.86\n",
      "Sensitivity: 0.89\n",
      "Specificity: 0.81\n",
      "AUC: 0.92\n"
     ]
    }
   ],
   "source": [
    "# Specify model\n",
    "model_SVM = svm.SVC(kernel='rbf', C=1, gamma=0.1, probability=True)\n",
    "\n",
    "# Fit model on single split\n",
    "performance_measures = model_training_and_validation(model_SVM, 'SVM', splits)"
   ]
  },
  {
   "cell_type": "code",
   "execution_count": 18,
   "metadata": {},
   "outputs": [
    {
     "data": {
      "image/png": "[encoded data removed]",
      "text/plain": [
       "<Figure size 432x288 with 1 Axes>"
      ]
     },
     "metadata": {
      "needs_background": "light"
     },
     "output_type": "display_data"
    }
   ],
   "source": [
    "# Append RF model\n",
    "models.append({'label': 'Model_SVM', 'model': model_SVM}) \n",
    "# Plot roc curve\n",
    "plot_roc_curves_for_models(models, static_test_x, static_test_y)"
   ]
  },
  {
   "cell_type": "markdown",
   "metadata": {},
   "source": [
    "#### Neural network classifier\n",
    "The last approach we try here is a neural network model. We train an MLPClassifier (Multi-layer Perceptron classifier) with 3 layers, each with 5 neurons. You may notice early stopping is explicitly set to `False`. As before, we do the crossvalidation procedure and plot the results. For more information on MLP, see [sklearn MLPClassifier](http://scikit-learn.org/stable/modules/generated/sklearn.neural_network.MLPClassifier.html)."
   ]
  },
  {
   "cell_type": "code",
   "execution_count": 19,
   "metadata": {
    "scrolled": true
   },
   "outputs": [
    {
     "name": "stdout",
     "output_type": "stream",
     "text": [
      "Accuracy: 0.81\n",
      "Sensitivity: 0.84\n",
      "Specificity: 0.77\n",
      "AUC: 0.88\n"
     ]
    },
    {
     "name": "stderr",
     "output_type": "stream",
     "text": [
      "/home/andrea/.local/miniconda/envs/teachopencadd_review/lib/python3.8/site-packages/sklearn/neural_network/_multilayer_perceptron.py:582: ConvergenceWarning: Stochastic Optimizer: Maximum iterations (200) reached and the optimization hasn't converged yet.\n",
      "  warnings.warn(\n"
     ]
    }
   ],
   "source": [
    "# Specify model, default activation: relu\n",
    "model_ANN = MLPClassifier(solver='adam', alpha=1e-5,\n",
    "                          hidden_layer_sizes=(5, 3),\n",
    "                          random_state=SEED, early_stopping=False)\n",
    "\n",
    "# Fit model on single split\n",
    "performance_measures = model_training_and_validation(model_ANN, 'ANN', splits)"
   ]
  },
  {
   "cell_type": "code",
   "execution_count": 20,
   "metadata": {},
   "outputs": [
    {
     "data": {
      "image/png": "[encoded data removed]",
      "text/plain": [
       "<Figure size 432x288 with 1 Axes>"
      ]
     },
     "metadata": {
      "needs_background": "light"
     },
     "output_type": "display_data"
    }
   ],
   "source": [
    "# Append RF model\n",
    "models.append({'label': 'Model_ANN', 'model' :  model_ANN}) \n",
    "# Plot roc curve\n",
    "plot_roc_curves_for_models(models, static_test_x, static_test_y, True)"
   ]
  },
  {
   "cell_type": "markdown",
   "metadata": {},
   "source": [
    "Our models show very good values for all measured values, e.g. AUCs of 0.88 or 0.92, and thus seem to be predictive."
   ]
  },
  {
   "cell_type": "markdown",
   "metadata": {},
   "source": [
    "#### Cross-validation\n",
    "\n",
    "Next, we will perform cross-validation experiments with the three different models.\n",
    "Therefore, we define a helper function for machine learning model training and validation in a cross-validation loop."
   ]
  },
  {
   "cell_type": "code",
   "execution_count": 21,
   "metadata": {},
   "outputs": [],
   "source": [
    "def crossvalidation(ml_model, df, n_folds=10, verbose=True):\n",
    "    '''\n",
    "    Machine learning model training and validation in a cross-validation loop.\n",
    "    \n",
    "    Parameters\n",
    "    ----------\n",
    "    ml_model: sklearn model object\n",
    "        The machine learning model to train.\n",
    "    df: pd.DataFrame\n",
    "        Data set with SMILES and their associated activity labels.\n",
    "    n_folds: int, optional\n",
    "        Number of fold for cross-validation\n",
    "        \n",
    "    Returns\n",
    "    -------\n",
    "    None\n",
    "    \n",
    "    '''\n",
    "    \n",
    "    # Shuffle the indices for the k-fold cross-validation\n",
    "    kf = KFold(n_splits=n_folds, shuffle=True, random_state=SEED)\n",
    "    \n",
    "    # Results for each of the cross-validation folds\n",
    "    acc_per_fold = []\n",
    "    sens_per_fold = []\n",
    "    spec_per_fold = []\n",
    "    auc_per_fold = []\n",
    "    \n",
    "    # Loop over the folds\n",
    "    for train_index, test_index in kf.split(df):\n",
    "        \n",
    "        # Training\n",
    "        \n",
    "        # Convert the fingerprint and the label to a list\n",
    "        train_x = df.iloc[train_index].fp.tolist()\n",
    "        train_y = df.iloc[train_index].active.tolist()\n",
    "        \n",
    "        # Fit the model\n",
    "        ml_model.fit(train_x, train_y)\n",
    "\n",
    "        # Testing\n",
    "        \n",
    "        # Convert the fingerprint and the label to a list\n",
    "        test_x = df.iloc[test_index].fp.tolist()\n",
    "        test_y = df.iloc[test_index].active.tolist()\n",
    "        \n",
    "        # Performance for each fold\n",
    "        accuracy, sens, spec, auc = model_performance(ml_model, test_x, test_y, verbose)\n",
    "        \n",
    "        # Save results\n",
    "        acc_per_fold.append(accuracy)\n",
    "        sens_per_fold.append(sens)\n",
    "        spec_per_fold.append(spec)\n",
    "        auc_per_fold.append(auc)\n",
    "    \n",
    "    # Print statistics of results\n",
    "    print((\n",
    "        f'Mean accuracy: {np.mean(acc_per_fold):.2} \\t'\n",
    "        f'and std : {np.std(acc_per_fold):.2} \\n'\n",
    "        f'Mean sensitivity: {np.mean(sens_per_fold):.2} \\t'\n",
    "        f'and std : {np.std(sens_per_fold):.2} \\n'\n",
    "        f'Mean specificity: {np.mean(spec_per_fold):.2} \\t'\n",
    "        f'and std : {np.std(spec_per_fold):.2} \\n'\n",
    "        f'Mean AUC: {np.mean(auc_per_fold):.2} \\t'\n",
    "        f'and std : {np.std(auc_per_fold):.2} \\n'\n",
    "    ))"
   ]
  },
  {
   "cell_type": "markdown",
   "metadata": {},
   "source": [
    "**We now apply 10-fold cross-validation and show the statistics.**\n",
    "\n",
    "**Cross-validation RF** "
   ]
  },
  {
   "cell_type": "code",
   "execution_count": 22,
   "metadata": {},
   "outputs": [
    {
     "name": "stdout",
     "output_type": "stream",
     "text": [
      "Mean accuracy: 0.84 \tand std : 0.016 \n",
      "Mean sensitivity: 0.88 \tand std : 0.017 \n",
      "Mean specificity: 0.8 \tand std : 0.029 \n",
      "Mean AUC: 0.9 \tand std : 0.018 \n",
      "\n"
     ]
    }
   ],
   "source": [
    "# 10 cross-validation procedure\n",
    "cv_results = crossvalidation(model_RF, compound_df, 10, False)"
   ]
  },
  {
   "cell_type": "markdown",
   "metadata": {},
   "source": [
    "**Cross-validation SVM**\n",
    "\n",
    "Note: Next cell takes long to execute"
   ]
  },
  {
   "cell_type": "code",
   "execution_count": 23,
   "metadata": {},
   "outputs": [
    {
     "name": "stdout",
     "output_type": "stream",
     "text": [
      "Mean accuracy: 0.85 \tand std : 0.017 \n",
      "Mean sensitivity: 0.9 \tand std : 0.02 \n",
      "Mean specificity: 0.79 \tand std : 0.037 \n",
      "Mean AUC: 0.9 \tand std : 0.02 \n",
      "\n"
     ]
    }
   ],
   "source": [
    "# 10 cross-validation procedure\n",
    "cv_results = crossvalidation(model_SVM, compound_df, 10, False)"
   ]
  },
  {
   "cell_type": "markdown",
   "metadata": {},
   "source": [
    "**Cross-validation ANN**"
   ]
  },
  {
   "cell_type": "code",
   "execution_count": 24,
   "metadata": {},
   "outputs": [
    {
     "name": "stderr",
     "output_type": "stream",
     "text": [
      "/home/andrea/.local/miniconda/envs/teachopencadd_review/lib/python3.8/site-packages/sklearn/neural_network/_multilayer_perceptron.py:582: ConvergenceWarning: Stochastic Optimizer: Maximum iterations (200) reached and the optimization hasn't converged yet.\n",
      "  warnings.warn(\n",
      "/home/andrea/.local/miniconda/envs/teachopencadd_review/lib/python3.8/site-packages/sklearn/neural_network/_multilayer_perceptron.py:582: ConvergenceWarning: Stochastic Optimizer: Maximum iterations (200) reached and the optimization hasn't converged yet.\n",
      "  warnings.warn(\n",
      "/home/andrea/.local/miniconda/envs/teachopencadd_review/lib/python3.8/site-packages/sklearn/neural_network/_multilayer_perceptron.py:582: ConvergenceWarning: Stochastic Optimizer: Maximum iterations (200) reached and the optimization hasn't converged yet.\n",
      "  warnings.warn(\n",
      "/home/andrea/.local/miniconda/envs/teachopencadd_review/lib/python3.8/site-packages/sklearn/neural_network/_multilayer_perceptron.py:582: ConvergenceWarning: Stochastic Optimizer: Maximum iterations (200) reached and the optimization hasn't converged yet.\n",
      "  warnings.warn(\n",
      "/home/andrea/.local/miniconda/envs/teachopencadd_review/lib/python3.8/site-packages/sklearn/neural_network/_multilayer_perceptron.py:582: ConvergenceWarning: Stochastic Optimizer: Maximum iterations (200) reached and the optimization hasn't converged yet.\n",
      "  warnings.warn(\n",
      "/home/andrea/.local/miniconda/envs/teachopencadd_review/lib/python3.8/site-packages/sklearn/neural_network/_multilayer_perceptron.py:582: ConvergenceWarning: Stochastic Optimizer: Maximum iterations (200) reached and the optimization hasn't converged yet.\n",
      "  warnings.warn(\n",
      "/home/andrea/.local/miniconda/envs/teachopencadd_review/lib/python3.8/site-packages/sklearn/neural_network/_multilayer_perceptron.py:582: ConvergenceWarning: Stochastic Optimizer: Maximum iterations (200) reached and the optimization hasn't converged yet.\n",
      "  warnings.warn(\n",
      "/home/andrea/.local/miniconda/envs/teachopencadd_review/lib/python3.8/site-packages/sklearn/neural_network/_multilayer_perceptron.py:582: ConvergenceWarning: Stochastic Optimizer: Maximum iterations (200) reached and the optimization hasn't converged yet.\n",
      "  warnings.warn(\n"
     ]
    },
    {
     "name": "stdout",
     "output_type": "stream",
     "text": [
      "Mean accuracy: 0.78 \tand std : 0.083 \n",
      "Mean sensitivity: 0.85 \tand std : 0.054 \n",
      "Mean specificity: 0.7 \tand std : 0.24 \n",
      "Mean AUC: 0.83 \tand std : 0.11 \n",
      "\n"
     ]
    },
    {
     "name": "stderr",
     "output_type": "stream",
     "text": [
      "/home/andrea/.local/miniconda/envs/teachopencadd_review/lib/python3.8/site-packages/sklearn/neural_network/_multilayer_perceptron.py:582: ConvergenceWarning: Stochastic Optimizer: Maximum iterations (200) reached and the optimization hasn't converged yet.\n",
      "  warnings.warn(\n"
     ]
    }
   ],
   "source": [
    "# 10 cross-validation procedure\n",
    "cv_results = crossvalidation(model_ANN, compound_df, 10, False)"
   ]
  },
  {
   "cell_type": "markdown",
   "metadata": {},
   "source": [
    "## Discussion\n",
    "\n",
    "* Which model performed best on our data set and why?\n",
    "    * All three models perform (very) well on our dataset. The best models are the random forest and support vector machine models which showed a mean AUC of 90%. Our neural network showed slightly lower results with a mean AUC of 87%. \n",
    "    * There might be several reasons that random forest and support vector machine models performed best. Our dataset might be easily separable in active/inactive with some simple tree-like decisions or with the radial basis function, respectively. Thus, there is not such a complex pattern in the fingerprints to do this classification.\n",
    "    * A cause for the slightly poorer performance of the ANN, could be that there was simply too few data to train the model on.\n",
    "    * Additionally, it is always advisable to have another external validation set for model evaluation.  \n",
    "* Was MACCS the right choice?\n",
    "    * Obviously, MACCS was good to start training and validating models to see if a classification is possible. \n",
    "    * But since MACCS fingerprints are rather short (166 bit) compared to others (2048 bit), one should try different fingerprints and repeat the validation process.\n",
    "\n",
    "    \n",
    "### Where can we go from here?\n",
    "\n",
    "* We successfully trained several models. \n",
    "* The next step could be to use these models to do a classification with an unknown screening dataset to predict novel potential EGFR inhibitors.\n",
    "* An example for a large screening data set is e.g. [MolPort](https://www.molport.com/shop/database-download) with over 7 million compounds.\n",
    "* Our models could be used to rank the MolPort compounds and then further study those with the highest predicted probability of being active.\n",
    "* For such an application, see also the [TDT Tutorial](https://github.com/sriniker/TDT-tutorial-2014) developed by S. Riniker and G. Landrum, where they trained a fusion model to screen [eMolecules](https://www.emolecules.com/) for new anti-malaria drugs."
   ]
  },
  {
   "cell_type": "markdown",
   "metadata": {},
   "source": [
    "## Quiz\n",
    "\n",
    "* How can you apply ML for virtual screening?\n",
    "* Which machine learning algorithms do you know?\n",
    "* What are necessary prerequisites to successfully apply ML?"
   ]
  }
 ],
 "metadata": {
  "kernelspec": {
   "display_name": "Python 3",
   "language": "python",
   "name": "python3"
  },
  "language_info": {
   "codemirror_mode": {
    "name": "ipython",
    "version": 3
   },
   "file_extension": ".py",
   "mimetype": "text/x-python",
   "name": "python",
   "nbconvert_exporter": "python",
   "pygments_lexer": "ipython3",
   "version": "3.8.5"
  },
  "toc-autonumbering": true
 },
 "nbformat": 4,
 "nbformat_minor": 4
}
