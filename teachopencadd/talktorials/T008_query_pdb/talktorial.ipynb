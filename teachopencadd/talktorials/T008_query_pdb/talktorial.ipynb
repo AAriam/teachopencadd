{
 "cells": [
  {
   "cell_type": "markdown",
   "metadata": {},
   "source": [
    "# T008 · Protein data acquisition: Protein Data Bank (PDB) \n",
    "\n",
    "Authors:\n",
    "\n",
    "- Anja Georgi, CADD seminar, 2017, Charité/FU Berlin\n",
    "- Majid Vafadar, CADD seminar, 2018, Charité/FU Berlin\n",
    "- Jaime Rodríguez-Guerra, Volkamer lab, Charité\n",
    "- Dominique Sydow, Volkamer lab, Charité"
   ]
  },
  {
   "cell_type": "markdown",
   "metadata": {},
   "source": [
    "__Talktorial T008__: This talktorial is part of the TeachOpenCADD pipeline described in the first TeachOpenCADD publication ([_J. Cheminform._ (2019), **11**, 1-7](https://jcheminf.biomedcentral.com/articles/10.1186/s13321-019-0351-x)), comprising of talktorials T001-T010."
   ]
  },
  {
   "cell_type": "markdown",
   "metadata": {},
   "source": [
    "## Aim of this talktorial\n",
    "\n",
    "In this talktorial, we conduct the groundwork for the next talktorial where we will generate a ligand-based ensemble pharmacophore for EGFR. Therefore, we \n",
    "(i) fetch all PDB IDs for EGFR from the PDB database, \n",
    "(ii) retrieve five protein-ligand structures, which have the best structural quality and are derived from X-ray crystallography, and \n",
    "(iii) align all structures to each in 3D as well as extract and save the ligands to be used in the next talktorial."
   ]
  },
  {
   "cell_type": "markdown",
   "metadata": {},
   "source": [
    "### Contents in Theory\n",
    "\n",
    "* Protein Data Bank (PDB)\n",
    "* Python package `pypdb`"
   ]
  },
  {
   "cell_type": "markdown",
   "metadata": {},
   "source": [
    "### Contents in Practical\n",
    "\n",
    "* Select query protein\n",
    "* Get all PDB IDs for query protein\n",
    "* Get statistic on PDB entries for query protein\n",
    "* Get meta information on PDB entries\n",
    "* Filter and sort meta information on PDB entries\n",
    "* Get meta information of ligands from top structures\n",
    "* Draw top ligand molecules\n",
    "* Create protein-ligand ID pairs\n",
    "* Get the PDB structure files\n",
    "* Align PDB structures"
   ]
  },
  {
   "cell_type": "markdown",
   "metadata": {},
   "source": [
    "### References\n",
    "\n",
    "* Protein Data Bank \n",
    "([PDB website](http://www.rcsb.org/))\n",
    "* `pypdb` python package \n",
    "([_Bioinformatics_ (2016), **1**, 159-60](https://academic.oup.com/bioinformatics/article-lookup/doi/10.1093/bioinformatics/btv543), [documentation](http://www.wgilpin.com/pypdb_docs/html/))\n",
    "* Molecular superposition with the python package `opencadd` ([repository](https://github.com/volkamerlab/opencadd))"
   ]
  },
  {
   "cell_type": "markdown",
   "metadata": {},
   "source": [
    "## Theory"
   ]
  },
  {
   "cell_type": "markdown",
   "metadata": {},
   "source": [
    "### Protein Data Bank (PDB)\n",
    "\n",
    "The Protein Data Bank (PDB) is one of the most comprehensive structural biology information database and a key resource in areas of structural biology, such as structural genomics and drug design ([PDB website](http://www.rcsb.org/)).\n",
    "\n",
    "Structural data is generated from structural determination methods such as X-ray crystallography (most common method), nuclear magnetic resonance (NMR), and cryo electron microscopy (cryo-EM). \n",
    "For each entry, the database contains (i) the 3D coordinates of the atoms and the bonds connecting these atoms for proteins, ligand, cofactors, water molecules, and ions, as well as (ii) meta information on the structural data such as the PDB ID, the authors, the deposition date, the structural determination method used and the structural resolution.\n",
    "\n",
    "The structural resolution is a measure of the quality of the data that has been collected and has the unit Å (Angstrom). The lower the value, the higher the quality of the structure. \n",
    "\n",
    "The PDB website offers a 3D visualization of the protein structures (with ligand interactions if available) and a structure quality metrics, as can be seen for the PDB entry of an example epidermal growth factor receptor (EGFR) with the PDB ID [3UG5](https://www.rcsb.org/structure/3UG5).\n",
    "\n",
    "![protein ligand complex](images/protein-ligand-complex.png)\n",
    "\n",
    "Figure 1: The protein structure (in gray) with an interacting ligand (in green) is shown for an example epidermal growth factor receptor (EGFR) with the PDB ID 3UG5 (figure by Dominique Sydow)."
   ]
  },
  {
   "cell_type": "markdown",
   "metadata": {},
   "source": [
    "### Python package `pypdb`\n",
    "\n",
    "`pypdb` is a python programming interface for the PDB and works exclusively in Python 3 ([_Bioinformatics_ (2016), **1**, 159-60](https://academic.oup.com/bioinformatics/article-lookup/doi/10.1093/bioinformatics/btv543), [documentation](http://www.wgilpin.com/pypdb_docs/html/)). \n",
    "This package facilitates the integration of automatic PDB searches within bioinformatics workflows and simplifies the process of performing multiple searches based on the results of existing searches. \n",
    "It also allows an advanced querying of information on PDB entries. \n",
    "The PDB currently uses a RESTful API that allows for the retrieval of information via standard HTML vocabulary. `pypdb` converts these objects into XML strings. \n",
    "\n",
    "Check out the [demo](https://github.com/williamgilpin/pypdb/blob/master/demos/demos.ipynb) notebook introducing the `pypdb` API."
   ]
  },
  {
   "cell_type": "markdown",
   "metadata": {},
   "source": [
    "## Practical"
   ]
  },
  {
   "cell_type": "code",
   "execution_count": 1,
   "metadata": {},
   "outputs": [
    {
     "data": {
      "application/vnd.jupyter.widget-view+json": {
       "model_id": "e4df7dd516f445b2b7c8f66cea538fbc",
       "version_major": 2,
       "version_minor": 0
      },
      "text/plain": []
     },
     "metadata": {},
     "output_type": "display_data"
    }
   ],
   "source": [
    "import collections\n",
    "import logging\n",
    "import pathlib\n",
    "import time\n",
    "import warnings\n",
    "\n",
    "import pandas as pd\n",
    "from tqdm.auto import tqdm\n",
    "import redo\n",
    "import requests_cache\n",
    "import nglview\n",
    "import pypdb\n",
    "from rdkit.Chem import Draw\n",
    "from rdkit.Chem import PandasTools\n",
    "\n",
    "from opencadd.structure.superposition.api import align, METHODS\n",
    "from opencadd.structure.core import Structure\n",
    "\n",
    "# Disable some unneeded warnings\n",
    "logger = logging.getLogger(\"opencadd\")\n",
    "logger.setLevel(logging.ERROR)\n",
    "warnings.filterwarnings(\"ignore\")\n",
    "\n",
    "# cache requests -- this will speed up repeated queries to PDB\n",
    "requests_cache.install_cache(\"rcsb_pdb\", backend=\"memory\")"
   ]
  },
  {
   "cell_type": "code",
   "execution_count": 2,
   "metadata": {},
   "outputs": [],
   "source": [
    "# define paths\n",
    "HERE = pathlib.Path(_dh[-1])\n",
    "DATA = HERE / \"data\""
   ]
  },
  {
   "cell_type": "markdown",
   "metadata": {},
   "source": [
    "### Select query protein\n",
    "\n",
    "We use EGFR as query protein for this talktorial. The UniProt ID of EGFR is `P00533`, which will be used in the following to query the PDB database."
   ]
  },
  {
   "cell_type": "markdown",
   "metadata": {},
   "source": [
    "### Get all PDB IDs for query protein\n",
    "\n",
    "First, we get all PDB structures for our query protein EGFR, using the `pypdb` search function `Query(search_term).search()`."
   ]
  },
  {
   "cell_type": "code",
   "execution_count": 3,
   "metadata": {
    "scrolled": true
   },
   "outputs": [
    {
     "name": "stdout",
     "output_type": "stream",
     "text": [
      "Sample PDB IDs found for query: 2M0B 2M20 1Z9I ...\n",
      "Number of EGFR structures found: 221\n"
     ]
    }
   ],
   "source": [
    "found_pdb_ids = pypdb.Query(\"P00533\").search()\n",
    "\n",
    "print(\"Sample PDB IDs found for query:\", *found_pdb_ids[:3], \"...\")\n",
    "print(\"Number of EGFR structures found:\", len(found_pdb_ids))"
   ]
  },
  {
   "cell_type": "markdown",
   "metadata": {},
   "source": [
    "### Get meta information for PDB entries\n",
    "\n",
    "We use `describe_pdb` to get meta information about the structures, which is stored per structure as a dictionary.\n",
    "\n",
    "Note: we only fetch meta information on PDB structures here, we do not fetch the structures (3D coordinates), yet.\n",
    "\n",
    "> The `redo.retriable` line is a _decorator_. This wraps the function and provides extra functionality. In this case, it will retry failed queries automatically (10 times maximum)."
   ]
  },
  {
   "cell_type": "code",
   "execution_count": 4,
   "metadata": {
    "scrolled": true
   },
   "outputs": [],
   "source": [
    "@redo.retriable(attempts=10, sleeptime=2)\n",
    "def describe_one_pdb_id(pdb_id):\n",
    "    \"\"\"Fetch meta information from PDB.\"\"\"\n",
    "    described = pypdb.describe_pdb(pdb_id)\n",
    "    if described is None:\n",
    "        print(f\"! Error while fetching {pdb_id}, retrying ...\")\n",
    "        raise ValueError(f\"Could not fetch PDB id {pdb_id}\")\n",
    "    return described"
   ]
  },
  {
   "cell_type": "code",
   "execution_count": 5,
   "metadata": {},
   "outputs": [
    {
     "data": {
      "text/plain": [
       "{'audit_author': [{'name': 'Lesovoy, D.M.', 'pdbx_ordinal': 1},\n",
       "  {'name': 'Bocharov, E.V.', 'pdbx_ordinal': 2},\n",
       "  {'name': 'Pustovalova, Y.E.', 'pdbx_ordinal': 3},\n",
       "  {'name': 'Bocharova, O.V.', 'pdbx_ordinal': 4},\n",
       "  {'name': 'Arseniev, A.S.', 'pdbx_ordinal': 5}],\n",
       " 'citation': [{'country': 'NE',\n",
       "   'id': 'primary',\n",
       "   'journal_abbrev': 'Biochim. Biophys. Acta',\n",
       "   'journal_id_astm': 'BBACAQ',\n",
       "   'journal_id_csd': '0113',\n",
       "   'journal_id_issn': '0006-3002',\n",
       "   'journal_volume': '1858',\n",
       "   'page_first': '1254',\n",
       "   'page_last': '1261',\n",
       "   'pdbx_database_id_doi': '10.1016/j.bbamem.2016.02.023',\n",
       "   'pdbx_database_id_pub_med': 26903218,\n",
       "   'rcsb_authors': ['Bocharov, E.V.',\n",
       "    'Lesovoy, D.M.',\n",
       "    'Pavlov, K.V.',\n",
       "    'Pustovalova, Y.E.',\n",
       "    'Bocharova, O.V.',\n",
       "    'Arseniev, A.S.'],\n",
       "   'rcsb_is_primary': 'Y',\n",
       "   'rcsb_journal_abbrev': 'Biochim Biophys Acta',\n",
       "   'title': 'Alternative packing of EGFR transmembrane domain suggests that protein-lipid interactions underlie signal conduction across membrane.',\n",
       "   'year': 2016}],\n",
       " 'entry': {'id': '2M0B'},\n",
       " 'exptl': [{'method': 'SOLUTION NMR'}],\n",
       " 'pdbx_audit_revision_category': [{'category': 'citation',\n",
       "   'data_content_type': 'Structure model',\n",
       "   'ordinal': 1,\n",
       "   'revision_ordinal': 2},\n",
       "  {'category': 'citation_author',\n",
       "   'data_content_type': 'Structure model',\n",
       "   'ordinal': 2,\n",
       "   'revision_ordinal': 2}],\n",
       " 'pdbx_audit_revision_details': [{'data_content_type': 'Structure model',\n",
       "   'ordinal': 1,\n",
       "   'provider': 'repository',\n",
       "   'revision_ordinal': 1,\n",
       "   'type': 'Initial release'}],\n",
       " 'pdbx_audit_revision_group': [{'data_content_type': 'Structure model',\n",
       "   'group': 'Data collection',\n",
       "   'ordinal': 1,\n",
       "   'revision_ordinal': 2},\n",
       "  {'data_content_type': 'Structure model',\n",
       "   'group': 'Database references',\n",
       "   'ordinal': 2,\n",
       "   'revision_ordinal': 2}],\n",
       " 'pdbx_audit_revision_history': [{'data_content_type': 'Structure model',\n",
       "   'major_revision': 1,\n",
       "   'minor_revision': 0,\n",
       "   'ordinal': 1,\n",
       "   'revision_date': '2013-10-30T00:00:00+0000'},\n",
       "  {'data_content_type': 'Structure model',\n",
       "   'major_revision': 1,\n",
       "   'minor_revision': 1,\n",
       "   'ordinal': 2,\n",
       "   'revision_date': '2019-06-26T00:00:00+0000'}],\n",
       " 'pdbx_audit_revision_item': [{'data_content_type': 'Structure model',\n",
       "   'item': '_citation.country',\n",
       "   'ordinal': 1,\n",
       "   'revision_ordinal': 2},\n",
       "  {'data_content_type': 'Structure model',\n",
       "   'item': '_citation.journal_abbrev',\n",
       "   'ordinal': 2,\n",
       "   'revision_ordinal': 2},\n",
       "  {'data_content_type': 'Structure model',\n",
       "   'item': '_citation.journal_id_ASTM',\n",
       "   'ordinal': 3,\n",
       "   'revision_ordinal': 2},\n",
       "  {'data_content_type': 'Structure model',\n",
       "   'item': '_citation.journal_id_CSD',\n",
       "   'ordinal': 4,\n",
       "   'revision_ordinal': 2},\n",
       "  {'data_content_type': 'Structure model',\n",
       "   'item': '_citation.journal_id_ISSN',\n",
       "   'ordinal': 5,\n",
       "   'revision_ordinal': 2},\n",
       "  {'data_content_type': 'Structure model',\n",
       "   'item': '_citation.journal_volume',\n",
       "   'ordinal': 6,\n",
       "   'revision_ordinal': 2},\n",
       "  {'data_content_type': 'Structure model',\n",
       "   'item': '_citation.page_first',\n",
       "   'ordinal': 7,\n",
       "   'revision_ordinal': 2},\n",
       "  {'data_content_type': 'Structure model',\n",
       "   'item': '_citation.page_last',\n",
       "   'ordinal': 8,\n",
       "   'revision_ordinal': 2},\n",
       "  {'data_content_type': 'Structure model',\n",
       "   'item': '_citation.pdbx_database_id_DOI',\n",
       "   'ordinal': 9,\n",
       "   'revision_ordinal': 2},\n",
       "  {'data_content_type': 'Structure model',\n",
       "   'item': '_citation.pdbx_database_id_PubMed',\n",
       "   'ordinal': 10,\n",
       "   'revision_ordinal': 2},\n",
       "  {'data_content_type': 'Structure model',\n",
       "   'item': '_citation.title',\n",
       "   'ordinal': 11,\n",
       "   'revision_ordinal': 2},\n",
       "  {'data_content_type': 'Structure model',\n",
       "   'item': '_citation.year',\n",
       "   'ordinal': 12,\n",
       "   'revision_ordinal': 2}],\n",
       " 'pdbx_database_related': [{'content_type': 'unspecified',\n",
       "   'db_id': '18804',\n",
       "   'db_name': 'BMRB'}],\n",
       " 'pdbx_database_status': {'deposit_site': 'BMRB',\n",
       "  'pdb_format_compatible': 'Y',\n",
       "  'process_site': 'RCSB',\n",
       "  'recvd_initial_deposition_date': '2012-10-24T00:00:00+0000',\n",
       "  'status_code': 'REL',\n",
       "  'status_code_cs': 'REL',\n",
       "  'status_code_mr': 'REL'},\n",
       " 'pdbx_nmr_ensemble': {'conformer_selection_criteria': 'target function',\n",
       "  'conformers_calculated_total_number': 200,\n",
       "  'conformers_submitted_total_number': 20},\n",
       " 'pdbx_nmr_exptl': [{'conditions_id': '1',\n",
       "   'experiment_id': '1',\n",
       "   'solution_id': '1',\n",
       "   'type': '2D 1H-15N HSQC'},\n",
       "  {'conditions_id': '1',\n",
       "   'experiment_id': '2',\n",
       "   'solution_id': '1',\n",
       "   'type': '2D 1H-15N TROSY'},\n",
       "  {'conditions_id': '1',\n",
       "   'experiment_id': '3',\n",
       "   'solution_id': '2',\n",
       "   'type': '2D 1H-13C constant time HSQC aliphatic'},\n",
       "  {'conditions_id': '1',\n",
       "   'experiment_id': '4',\n",
       "   'solution_id': '2',\n",
       "   'type': '2D 1H-13C constant time HSQC aromatic'},\n",
       "  {'conditions_id': '1',\n",
       "   'experiment_id': '5',\n",
       "   'solution_id': '1',\n",
       "   'type': '3D HNCO'},\n",
       "  {'conditions_id': '1',\n",
       "   'experiment_id': '6',\n",
       "   'solution_id': '1',\n",
       "   'type': '3D HNCA'},\n",
       "  {'conditions_id': '1',\n",
       "   'experiment_id': '7',\n",
       "   'solution_id': '1',\n",
       "   'type': '3D HN(CO)CA'},\n",
       "  {'conditions_id': '1',\n",
       "   'experiment_id': '8',\n",
       "   'solution_id': '1',\n",
       "   'type': '3D HN(CA)CO'},\n",
       "  {'conditions_id': '1',\n",
       "   'experiment_id': '9',\n",
       "   'solution_id': '1',\n",
       "   'type': '3D HNHA'},\n",
       "  {'conditions_id': '1',\n",
       "   'experiment_id': '10',\n",
       "   'solution_id': '1',\n",
       "   'type': '3D HNHB'},\n",
       "  {'conditions_id': '1',\n",
       "   'experiment_id': '11',\n",
       "   'solution_id': '1',\n",
       "   'type': '3D HCCH-TOCSY'},\n",
       "  {'conditions_id': '1',\n",
       "   'experiment_id': '12',\n",
       "   'solution_id': '1',\n",
       "   'type': '3D 1H-15N(TROSY) NOESY'},\n",
       "  {'conditions_id': '1',\n",
       "   'experiment_id': '13',\n",
       "   'solution_id': '1',\n",
       "   'type': '3D 1H-13C NOESY aliphatic'},\n",
       "  {'conditions_id': '1',\n",
       "   'experiment_id': '14',\n",
       "   'solution_id': '1',\n",
       "   'type': '3D 1H-13C(constant time) NOESY aliphatic'},\n",
       "  {'conditions_id': '1',\n",
       "   'experiment_id': '15',\n",
       "   'solution_id': '1',\n",
       "   'type': '15N,13C-F1-filtered/F3-edited-NOESY'},\n",
       "  {'conditions_id': '1',\n",
       "   'experiment_id': '16',\n",
       "   'solution_id': '2',\n",
       "   'type': '15N,13C-F1-filtered/F3-edited-NOESY'}],\n",
       " 'pdbx_nmr_exptl_sample_conditions': [{'conditions_id': '1',\n",
       "   'ionic_strength': '50',\n",
       "   'pressure': 'ambient',\n",
       "   'temperature': '313',\n",
       "   'temperature_units': 'K',\n",
       "   'ph': '5.0'}],\n",
       " 'pdbx_nmr_refine': [{'method': 'simulated annealing, TORSION ANGLE DYNAMICS',\n",
       "   'software_ordinal': 1}],\n",
       " 'pdbx_nmr_representative': {'conformer_id': '1',\n",
       "  'selection_criteria': 'fewest violations'},\n",
       " 'pdbx_nmr_sample_details': [{'contents': '0.75 mM [U-99% 13C; U-99% 15N] ErbB1tm, 0.75 mM ErbB1tm, 90 mM [U-99% 2H] DPC, 0.3 mM sodium azide, 6 mM TCEP, 10 mM citric acid, 20 mM Na2HPO4, 95% H2O/5% D2O',\n",
       "   'solution_id': '1',\n",
       "   'solvent_system': '95% H2O/5% D2O'},\n",
       "  {'contents': '0.75 mM [U-99% 13C; U-99% 15N] ErbB1tm, 0.75 mM ErbB1tm, 90 mM [U-99% 2H] DPC, 0.3 mM sodium azide, 6 mM TCEP, 10 mM citric acid, 20 mM Na2HPO4, 99.9% D2O',\n",
       "   'solution_id': '2',\n",
       "   'solvent_system': '99.9% D2O'}],\n",
       " 'pdbx_nmr_software': [{'authors': 'Guntert, Mumenthaler and Wuthrich',\n",
       "   'classification': 'structure solution',\n",
       "   'name': 'CYANA',\n",
       "   'ordinal': 1,\n",
       "   'version': '3.0'},\n",
       "  {'authors': 'Rochus Keller',\n",
       "   'classification': 'chemical shift assignment',\n",
       "   'name': 'CARA',\n",
       "   'ordinal': 2,\n",
       "   'version': '1.8.4'},\n",
       "  {'authors': 'Wolfram Research',\n",
       "   'classification': 'data analysis',\n",
       "   'name': 'Mathematica',\n",
       "   'ordinal': 3},\n",
       "  {'authors': 'Guntert, Mumenthaler and Wuthrich',\n",
       "   'classification': 'refinement',\n",
       "   'name': 'CYANA',\n",
       "   'ordinal': 4,\n",
       "   'version': '3.0'}],\n",
       " 'pdbx_nmr_spectrometer': [{'field_strength': 800.0,\n",
       "   'manufacturer': 'Bruker',\n",
       "   'model': 'Avance',\n",
       "   'spectrometer_id': '1',\n",
       "   'type': 'Bruker Avance'},\n",
       "  {'field_strength': 600.0,\n",
       "   'manufacturer': 'Bruker',\n",
       "   'model': 'Avance',\n",
       "   'spectrometer_id': '2',\n",
       "   'type': 'Bruker Avance'}],\n",
       " 'pdbx_vrpt_summary': {'absolute_percentile_clashscore': 12.1,\n",
       "  'absolute_percentile_percent_ramachandran_outliers': 100.0,\n",
       "  'absolute_percentile_percent_rotamer_outliers': 93.1,\n",
       "  'angles_rmsz': 0.35,\n",
       "  'attempted_validation_steps': 'molprobity,validation-pack,mogul,buster-report,coreclust,chemicalshifts,percentiles,writexml,writepdf',\n",
       "  'bonds_rmsz': 0.19,\n",
       "  'chemical_shift_completeness': 57.89,\n",
       "  'chemical_shift_completeness_full_length': 46.11,\n",
       "  'clashscore': 19.13,\n",
       "  'clashscore_full_length': 9.82,\n",
       "  'cyrange_error': 'success',\n",
       "  'cyrange_number_of_domains': 1,\n",
       "  'cyrange_version': 'Kirchner and G\\\\\"{u}ntert (2011)',\n",
       "  'medoid_model': 4,\n",
       "  'nmr_models_consistency_flag': 'True',\n",
       "  'nmrclust_error': 'success',\n",
       "  'nmrclust_number_of_clusters': 4,\n",
       "  'nmrclust_number_of_models': 20,\n",
       "  'nmrclust_number_of_outliers': 0,\n",
       "  'nmrclust_representative_model': 14,\n",
       "  'nmrclust_version': 'Kelley et al. (1996)',\n",
       "  'no_ligands_for_buster_report': 'yes',\n",
       "  'no_ligands_for_mogul': 'yes',\n",
       "  'no_percentile_property': 'true',\n",
       "  'num_hreduce': 14840.0,\n",
       "  'num_pdbids_absolute_percentile_clashscore': 158937,\n",
       "  'num_pdbids_absolute_percentile_percent_ramachandran_outliers': 154571,\n",
       "  'num_pdbids_absolute_percentile_percent_rotamer_outliers': 154315,\n",
       "  'num_pdbids_relative_percentile_clashscore': 12864,\n",
       "  'num_pdbids_relative_percentile_percent_ramachandran_outliers': 11451,\n",
       "  'num_pdbids_relative_percentile_percent_rotamer_outliers': 11428,\n",
       "  'num_angles_rmsz': 17880,\n",
       "  'num_bonds_rmsz': 13320,\n",
       "  'panav_version': 'Wang et al. (2010)',\n",
       "  'percent_ramachandran_outliers': 0.0,\n",
       "  'percent_ramachandran_outliers_full_length': 1.37,\n",
       "  'percent_rotamer_outliers': 0.24,\n",
       "  'percent_rotamer_outliers_full_length': 8.57,\n",
       "  'percentilebins': ['all', 'nmr'],\n",
       "  'protein_dnarnaentities': '1',\n",
       "  'rci_version': 'v_1n_11_5_13_A (Berjanski et al., 2005)',\n",
       "  'relative_percentile_clashscore': 34.8,\n",
       "  'relative_percentile_percent_ramachandran_outliers': 100.0,\n",
       "  'relative_percentile_percent_rotamer_outliers': 98.1,\n",
       "  'report_creation_date': 'May 28, 2020 -- 11:28 pm BST',\n",
       "  'shiftchecker_version': '2.11',\n",
       "  'pdbdeposition_date': '2012-10-24T00:00:00+0000',\n",
       "  'pdbrevision_date': '2019-06-26T00:00:00+0000',\n",
       "  'pdbrevision_number': 2.0},\n",
       " 'rcsb_accession_info': {'deposit_date': '2012-10-24T00:00:00+0000',\n",
       "  'has_released_experimental_data': 'Y',\n",
       "  'initial_release_date': '2013-10-30T00:00:00+0000',\n",
       "  'major_revision': 1,\n",
       "  'minor_revision': 1,\n",
       "  'revision_date': '2019-06-26T00:00:00+0000',\n",
       "  'status_code': 'REL'},\n",
       " 'rcsb_entry_container_identifiers': {'assembly_ids': ['1'],\n",
       "  'entity_ids': ['1'],\n",
       "  'entry_id': '2M0B',\n",
       "  'model_ids': [1,\n",
       "   10,\n",
       "   11,\n",
       "   12,\n",
       "   13,\n",
       "   14,\n",
       "   15,\n",
       "   16,\n",
       "   17,\n",
       "   18,\n",
       "   19,\n",
       "   2,\n",
       "   20,\n",
       "   3,\n",
       "   4,\n",
       "   5,\n",
       "   6,\n",
       "   7,\n",
       "   8,\n",
       "   9],\n",
       "  'polymer_entity_ids': ['1'],\n",
       "  'rcsb_id': '2M0B',\n",
       "  'pubmed_id': 26903218},\n",
       " 'rcsb_entry_info': {'assembly_count': 1,\n",
       "  'branched_entity_count': 0,\n",
       "  'cis_peptide_count': 0,\n",
       "  'deposited_atom_count': 658,\n",
       "  'deposited_hydrogen_atom_count': 744,\n",
       "  'deposited_model_count': 20,\n",
       "  'deposited_modeled_polymer_monomer_count': 88,\n",
       "  'deposited_nonpolymer_entity_instance_count': 0,\n",
       "  'deposited_polymer_entity_instance_count': 2,\n",
       "  'deposited_polymer_monomer_count': 88,\n",
       "  'deposited_solvent_atom_count': 0,\n",
       "  'deposited_unmodeled_polymer_monomer_count': 0,\n",
       "  'disulfide_bond_count': 0,\n",
       "  'entity_count': 1,\n",
       "  'experimental_method': 'NMR',\n",
       "  'experimental_method_count': 1,\n",
       "  'inter_mol_covalent_bond_count': 0,\n",
       "  'inter_mol_metalic_bond_count': 0,\n",
       "  'molecular_weight': 9.47,\n",
       "  'na_polymer_entity_types': 'Other',\n",
       "  'nonpolymer_entity_count': 0,\n",
       "  'polymer_composition': 'homomeric protein',\n",
       "  'polymer_entity_count': 1,\n",
       "  'polymer_entity_count_dna': 0,\n",
       "  'polymer_entity_count_rna': 0,\n",
       "  'polymer_entity_count_nucleic_acid': 0,\n",
       "  'polymer_entity_count_nucleic_acid_hybrid': 0,\n",
       "  'polymer_entity_count_protein': 1,\n",
       "  'polymer_entity_taxonomy_count': 1,\n",
       "  'polymer_molecular_weight_maximum': 4.73,\n",
       "  'polymer_molecular_weight_minimum': 4.73,\n",
       "  'polymer_monomer_count_maximum': 44,\n",
       "  'polymer_monomer_count_minimum': 44,\n",
       "  'selected_polymer_entity_types': 'Protein (only)',\n",
       "  'software_programs_combined': ['CARA', 'CYANA', 'MATHEMATICA'],\n",
       "  'solvent_entity_count': 0},\n",
       " 'rcsb_primary_citation': {'country': 'NE',\n",
       "  'id': 'primary',\n",
       "  'journal_abbrev': 'Biochim. Biophys. Acta',\n",
       "  'journal_id_astm': 'BBACAQ',\n",
       "  'journal_id_csd': '0113',\n",
       "  'journal_id_issn': '0006-3002',\n",
       "  'journal_volume': '1858',\n",
       "  'page_first': '1254',\n",
       "  'page_last': '1261',\n",
       "  'pdbx_database_id_doi': '10.1016/j.bbamem.2016.02.023',\n",
       "  'pdbx_database_id_pub_med': 26903218,\n",
       "  'rcsb_orcididentifiers': ['?', '?', '?', '?', '?', '?'],\n",
       "  'rcsb_authors': ['Bocharov, E.V.',\n",
       "   'Lesovoy, D.M.',\n",
       "   'Pavlov, K.V.',\n",
       "   'Pustovalova, Y.E.',\n",
       "   'Bocharova, O.V.',\n",
       "   'Arseniev, A.S.'],\n",
       "  'rcsb_journal_abbrev': 'Biochim Biophys Acta',\n",
       "  'title': 'Alternative packing of EGFR transmembrane domain suggests that protein-lipid interactions underlie signal conduction across membrane.',\n",
       "  'year': 2016},\n",
       " 'struct': {'pdbx_descriptor': 'Epidermal growth factor receptor (E.C.2.7.10.1)',\n",
       "  'pdbx_model_details': 'fewest violations, model 1',\n",
       "  'title': 'Homodimeric transmembrane domain of the human receptor tyrosine kinase ErbB1 (EGFR, HER1) in micelles'},\n",
       " 'struct_keywords': {'pdbx_keywords': 'MEMBRANE PROTEIN',\n",
       "  'text': 'TRANSMEMBRANE DOMAIN, ERBB1, RECEPTOR, DIMERIZATION, TYROSINE KINASE, MEMBRANE PROTEIN'},\n",
       " 'rcsb_id': '2M0B',\n",
       " 'rcsb_external_references': [{'id': '2M0B',\n",
       "   'type': 'OLDERADO',\n",
       "   'link': 'http://www.ebi.ac.uk/pdbe-apps/nmr/olderado/searchEntry?pdbCode=2M0B'},\n",
       "  {'id': '18804',\n",
       "   'type': 'BMRB',\n",
       "   'link': 'http://www.bmrb.wisc.edu/data_library/generate_summary.php?bmrbId=18804'}]}"
      ]
     },
     "execution_count": 5,
     "metadata": {},
     "output_type": "execute_result"
    }
   ],
   "source": [
    "pdbs_data = [describe_one_pdb_id(pdb_id) for pdb_id in found_pdb_ids]\n",
    "pdbs_data[0]"
   ]
  },
  {
   "cell_type": "markdown",
   "metadata": {},
   "source": [
    "Since we want to use the information to filter for relevant PDB structures, we convert the data set from dictionary to DataFrame for easier handling."
   ]
  },
  {
   "cell_type": "code",
   "execution_count": 6,
   "metadata": {
    "scrolled": true
   },
   "outputs": [
    {
     "data": {
      "text/html": [
       "<div>\n",
       "<style scoped>\n",
       "    .dataframe tbody tr th:only-of-type {\n",
       "        vertical-align: middle;\n",
       "    }\n",
       "\n",
       "    .dataframe tbody tr th {\n",
       "        vertical-align: top;\n",
       "    }\n",
       "\n",
       "    .dataframe thead th {\n",
       "        text-align: right;\n",
       "    }\n",
       "</style>\n",
       "<table border=\"1\" class=\"dataframe\">\n",
       "  <thead>\n",
       "    <tr style=\"text-align: right;\">\n",
       "      <th></th>\n",
       "      <th>audit_author</th>\n",
       "      <th>citation</th>\n",
       "      <th>entry</th>\n",
       "      <th>exptl</th>\n",
       "      <th>pdbx_audit_revision_category</th>\n",
       "      <th>pdbx_audit_revision_details</th>\n",
       "      <th>pdbx_audit_revision_group</th>\n",
       "      <th>pdbx_audit_revision_history</th>\n",
       "      <th>pdbx_audit_revision_item</th>\n",
       "      <th>pdbx_database_related</th>\n",
       "      <th>...</th>\n",
       "      <th>refine_hist</th>\n",
       "      <th>refine_ls_restr</th>\n",
       "      <th>reflns</th>\n",
       "      <th>software</th>\n",
       "      <th>symmetry</th>\n",
       "      <th>pdbx_sgproject</th>\n",
       "      <th>refine_analyze</th>\n",
       "      <th>reflns_shell</th>\n",
       "      <th>rcsb_binding_affinity</th>\n",
       "      <th>pdbx_audit_support</th>\n",
       "    </tr>\n",
       "  </thead>\n",
       "  <tbody>\n",
       "    <tr>\n",
       "      <th>0</th>\n",
       "      <td>[{'name': 'Lesovoy, D.M.', 'pdbx_ordinal': 1},...</td>\n",
       "      <td>[{'country': 'NE', 'id': 'primary', 'journal_a...</td>\n",
       "      <td>{'id': '2M0B'}</td>\n",
       "      <td>[{'method': 'SOLUTION NMR'}]</td>\n",
       "      <td>[{'category': 'citation', 'data_content_type':...</td>\n",
       "      <td>[{'data_content_type': 'Structure model', 'ord...</td>\n",
       "      <td>[{'data_content_type': 'Structure model', 'gro...</td>\n",
       "      <td>[{'data_content_type': 'Structure model', 'maj...</td>\n",
       "      <td>[{'data_content_type': 'Structure model', 'ite...</td>\n",
       "      <td>[{'content_type': 'unspecified', 'db_id': '188...</td>\n",
       "      <td>...</td>\n",
       "      <td>NaN</td>\n",
       "      <td>NaN</td>\n",
       "      <td>NaN</td>\n",
       "      <td>NaN</td>\n",
       "      <td>NaN</td>\n",
       "      <td>NaN</td>\n",
       "      <td>NaN</td>\n",
       "      <td>NaN</td>\n",
       "      <td>NaN</td>\n",
       "      <td>NaN</td>\n",
       "    </tr>\n",
       "    <tr>\n",
       "      <th>1</th>\n",
       "      <td>[{'name': 'Endres, N.F.', 'pdbx_ordinal': 1}, ...</td>\n",
       "      <td>[{'country': 'US', 'id': 'primary', 'journal_a...</td>\n",
       "      <td>{'id': '2M20'}</td>\n",
       "      <td>[{'method': 'SOLUTION NMR'}]</td>\n",
       "      <td>NaN</td>\n",
       "      <td>[{'data_content_type': 'Structure model', 'ord...</td>\n",
       "      <td>NaN</td>\n",
       "      <td>[{'data_content_type': 'Structure model', 'maj...</td>\n",
       "      <td>NaN</td>\n",
       "      <td>[{'content_type': 'unspecified', 'db_id': '188...</td>\n",
       "      <td>...</td>\n",
       "      <td>NaN</td>\n",
       "      <td>NaN</td>\n",
       "      <td>NaN</td>\n",
       "      <td>NaN</td>\n",
       "      <td>NaN</td>\n",
       "      <td>NaN</td>\n",
       "      <td>NaN</td>\n",
       "      <td>NaN</td>\n",
       "      <td>NaN</td>\n",
       "      <td>NaN</td>\n",
       "    </tr>\n",
       "    <tr>\n",
       "      <th>2</th>\n",
       "      <td>[{'name': 'Choowongkomon, K.', 'pdbx_ordinal':...</td>\n",
       "      <td>[{'country': 'US', 'id': 'primary', 'journal_a...</td>\n",
       "      <td>{'id': '1Z9I'}</td>\n",
       "      <td>[{'method': 'SOLUTION NMR'}]</td>\n",
       "      <td>NaN</td>\n",
       "      <td>[{'data_content_type': 'Structure model', 'ord...</td>\n",
       "      <td>[{'data_content_type': 'Structure model', 'gro...</td>\n",
       "      <td>[{'data_content_type': 'Structure model', 'maj...</td>\n",
       "      <td>NaN</td>\n",
       "      <td>NaN</td>\n",
       "      <td>...</td>\n",
       "      <td>NaN</td>\n",
       "      <td>NaN</td>\n",
       "      <td>NaN</td>\n",
       "      <td>NaN</td>\n",
       "      <td>NaN</td>\n",
       "      <td>NaN</td>\n",
       "      <td>NaN</td>\n",
       "      <td>NaN</td>\n",
       "      <td>NaN</td>\n",
       "      <td>NaN</td>\n",
       "    </tr>\n",
       "    <tr>\n",
       "      <th>3</th>\n",
       "      <td>[{'name': 'Cai, Z.', 'pdbx_ordinal': 1}, {'nam...</td>\n",
       "      <td>[{'country': 'US', 'id': 'primary', 'journal_a...</td>\n",
       "      <td>{'id': '4TKS'}</td>\n",
       "      <td>[{'crystals_number': 1, 'method': 'X-RAY DIFFR...</td>\n",
       "      <td>NaN</td>\n",
       "      <td>[{'data_content_type': 'Structure model', 'ord...</td>\n",
       "      <td>[{'data_content_type': 'Structure model', 'gro...</td>\n",
       "      <td>[{'data_content_type': 'Structure model', 'maj...</td>\n",
       "      <td>NaN</td>\n",
       "      <td>NaN</td>\n",
       "      <td>...</td>\n",
       "      <td>[{'cycle_id': 'LAST', 'number_atoms_solvent': ...</td>\n",
       "      <td>[{'dev_ideal': 0.002, 'number': 2512, 'pdbx_re...</td>\n",
       "      <td>[{'number_obs': 8731, 'pdbx_diffrn_id': ['1'],...</td>\n",
       "      <td>[{'classification': 'refinement', 'name': 'PHE...</td>\n",
       "      <td>{'int_tables_number': 197, 'space_group_name_h...</td>\n",
       "      <td>NaN</td>\n",
       "      <td>NaN</td>\n",
       "      <td>NaN</td>\n",
       "      <td>NaN</td>\n",
       "      <td>NaN</td>\n",
       "    </tr>\n",
       "    <tr>\n",
       "      <th>4</th>\n",
       "      <td>[{'name': 'Mineev, K.', 'pdbx_ordinal': 1}, {'...</td>\n",
       "      <td>[{'country': 'US', 'id': 'primary', 'journal_a...</td>\n",
       "      <td>{'id': '2N5S'}</td>\n",
       "      <td>[{'method': 'SOLUTION NMR'}]</td>\n",
       "      <td>NaN</td>\n",
       "      <td>[{'data_content_type': 'Structure model', 'ord...</td>\n",
       "      <td>[{'data_content_type': 'Structure model', 'gro...</td>\n",
       "      <td>[{'data_content_type': 'Structure model', 'maj...</td>\n",
       "      <td>NaN</td>\n",
       "      <td>[{'content_type': 'unspecified', 'db_id': '257...</td>\n",
       "      <td>...</td>\n",
       "      <td>NaN</td>\n",
       "      <td>NaN</td>\n",
       "      <td>NaN</td>\n",
       "      <td>NaN</td>\n",
       "      <td>NaN</td>\n",
       "      <td>NaN</td>\n",
       "      <td>NaN</td>\n",
       "      <td>NaN</td>\n",
       "      <td>NaN</td>\n",
       "      <td>NaN</td>\n",
       "    </tr>\n",
       "  </tbody>\n",
       "</table>\n",
       "<p>5 rows × 47 columns</p>\n",
       "</div>"
      ],
      "text/plain": [
       "                                        audit_author  \\\n",
       "0  [{'name': 'Lesovoy, D.M.', 'pdbx_ordinal': 1},...   \n",
       "1  [{'name': 'Endres, N.F.', 'pdbx_ordinal': 1}, ...   \n",
       "2  [{'name': 'Choowongkomon, K.', 'pdbx_ordinal':...   \n",
       "3  [{'name': 'Cai, Z.', 'pdbx_ordinal': 1}, {'nam...   \n",
       "4  [{'name': 'Mineev, K.', 'pdbx_ordinal': 1}, {'...   \n",
       "\n",
       "                                            citation           entry  \\\n",
       "0  [{'country': 'NE', 'id': 'primary', 'journal_a...  {'id': '2M0B'}   \n",
       "1  [{'country': 'US', 'id': 'primary', 'journal_a...  {'id': '2M20'}   \n",
       "2  [{'country': 'US', 'id': 'primary', 'journal_a...  {'id': '1Z9I'}   \n",
       "3  [{'country': 'US', 'id': 'primary', 'journal_a...  {'id': '4TKS'}   \n",
       "4  [{'country': 'US', 'id': 'primary', 'journal_a...  {'id': '2N5S'}   \n",
       "\n",
       "                                               exptl  \\\n",
       "0                       [{'method': 'SOLUTION NMR'}]   \n",
       "1                       [{'method': 'SOLUTION NMR'}]   \n",
       "2                       [{'method': 'SOLUTION NMR'}]   \n",
       "3  [{'crystals_number': 1, 'method': 'X-RAY DIFFR...   \n",
       "4                       [{'method': 'SOLUTION NMR'}]   \n",
       "\n",
       "                        pdbx_audit_revision_category  \\\n",
       "0  [{'category': 'citation', 'data_content_type':...   \n",
       "1                                                NaN   \n",
       "2                                                NaN   \n",
       "3                                                NaN   \n",
       "4                                                NaN   \n",
       "\n",
       "                         pdbx_audit_revision_details  \\\n",
       "0  [{'data_content_type': 'Structure model', 'ord...   \n",
       "1  [{'data_content_type': 'Structure model', 'ord...   \n",
       "2  [{'data_content_type': 'Structure model', 'ord...   \n",
       "3  [{'data_content_type': 'Structure model', 'ord...   \n",
       "4  [{'data_content_type': 'Structure model', 'ord...   \n",
       "\n",
       "                           pdbx_audit_revision_group  \\\n",
       "0  [{'data_content_type': 'Structure model', 'gro...   \n",
       "1                                                NaN   \n",
       "2  [{'data_content_type': 'Structure model', 'gro...   \n",
       "3  [{'data_content_type': 'Structure model', 'gro...   \n",
       "4  [{'data_content_type': 'Structure model', 'gro...   \n",
       "\n",
       "                         pdbx_audit_revision_history  \\\n",
       "0  [{'data_content_type': 'Structure model', 'maj...   \n",
       "1  [{'data_content_type': 'Structure model', 'maj...   \n",
       "2  [{'data_content_type': 'Structure model', 'maj...   \n",
       "3  [{'data_content_type': 'Structure model', 'maj...   \n",
       "4  [{'data_content_type': 'Structure model', 'maj...   \n",
       "\n",
       "                            pdbx_audit_revision_item  \\\n",
       "0  [{'data_content_type': 'Structure model', 'ite...   \n",
       "1                                                NaN   \n",
       "2                                                NaN   \n",
       "3                                                NaN   \n",
       "4                                                NaN   \n",
       "\n",
       "                               pdbx_database_related  ...  \\\n",
       "0  [{'content_type': 'unspecified', 'db_id': '188...  ...   \n",
       "1  [{'content_type': 'unspecified', 'db_id': '188...  ...   \n",
       "2                                                NaN  ...   \n",
       "3                                                NaN  ...   \n",
       "4  [{'content_type': 'unspecified', 'db_id': '257...  ...   \n",
       "\n",
       "                                         refine_hist  \\\n",
       "0                                                NaN   \n",
       "1                                                NaN   \n",
       "2                                                NaN   \n",
       "3  [{'cycle_id': 'LAST', 'number_atoms_solvent': ...   \n",
       "4                                                NaN   \n",
       "\n",
       "                                     refine_ls_restr  \\\n",
       "0                                                NaN   \n",
       "1                                                NaN   \n",
       "2                                                NaN   \n",
       "3  [{'dev_ideal': 0.002, 'number': 2512, 'pdbx_re...   \n",
       "4                                                NaN   \n",
       "\n",
       "                                              reflns  \\\n",
       "0                                                NaN   \n",
       "1                                                NaN   \n",
       "2                                                NaN   \n",
       "3  [{'number_obs': 8731, 'pdbx_diffrn_id': ['1'],...   \n",
       "4                                                NaN   \n",
       "\n",
       "                                            software  \\\n",
       "0                                                NaN   \n",
       "1                                                NaN   \n",
       "2                                                NaN   \n",
       "3  [{'classification': 'refinement', 'name': 'PHE...   \n",
       "4                                                NaN   \n",
       "\n",
       "                                            symmetry pdbx_sgproject  \\\n",
       "0                                                NaN            NaN   \n",
       "1                                                NaN            NaN   \n",
       "2                                                NaN            NaN   \n",
       "3  {'int_tables_number': 197, 'space_group_name_h...            NaN   \n",
       "4                                                NaN            NaN   \n",
       "\n",
       "  refine_analyze reflns_shell rcsb_binding_affinity pdbx_audit_support  \n",
       "0            NaN          NaN                   NaN                NaN  \n",
       "1            NaN          NaN                   NaN                NaN  \n",
       "2            NaN          NaN                   NaN                NaN  \n",
       "3            NaN          NaN                   NaN                NaN  \n",
       "4            NaN          NaN                   NaN                NaN  \n",
       "\n",
       "[5 rows x 47 columns]"
      ]
     },
     "execution_count": 6,
     "metadata": {},
     "output_type": "execute_result"
    }
   ],
   "source": [
    "pdbs_data = pd.DataFrame(pdbs_data)\n",
    "pdbs_data.head()"
   ]
  },
  {
   "cell_type": "code",
   "execution_count": 7,
   "metadata": {
    "scrolled": true
   },
   "outputs": [
    {
     "name": "stdout",
     "output_type": "stream",
     "text": [
      "Number of PDB structures for EGFR: 221\n"
     ]
    }
   ],
   "source": [
    "print(f\"Number of PDB structures for EGFR: {len(pdbs_data)}\")"
   ]
  },
  {
   "cell_type": "markdown",
   "metadata": {},
   "source": [
    "Let's extract (using `pandas`'s `apply` function) a few fields of interest from this plethora of data: \n",
    "- PDB ID: `\"entry\"` > `\"id\"`\n",
    "- Deposition date: `\"rcsb_accession_info\"` > `\"deposit_date\"`\n",
    "- Experimental method: `\"exptl\"` > `\"method\"`\n",
    "- Structural resolution: `\"rcsb_entry_info\"` > `\"resolution_combined\"`"
   ]
  },
  {
   "cell_type": "code",
   "execution_count": 8,
   "metadata": {},
   "outputs": [],
   "source": [
    "entry_ids = pdbs_data[\"entry\"].apply(lambda x: x[\"id\"])\n",
    "deposition_dates = pdbs_data[\"rcsb_accession_info\"].apply(lambda x: x[\"deposit_date\"]).astype(\"datetime64\")\n",
    "experimental_methods = pdbs_data[\"exptl\"].apply(lambda x: x[0][\"method\"])\n",
    "resolutions = pdbs_data[\"rcsb_entry_info\"].apply(lambda x: x[\"resolution_combined\"][0] if \"resolution_combined\" in x.keys() else None)"
   ]
  },
  {
   "cell_type": "code",
   "execution_count": 9,
   "metadata": {},
   "outputs": [
    {
     "data": {
      "text/html": [
       "<div>\n",
       "<style scoped>\n",
       "    .dataframe tbody tr th:only-of-type {\n",
       "        vertical-align: middle;\n",
       "    }\n",
       "\n",
       "    .dataframe tbody tr th {\n",
       "        vertical-align: top;\n",
       "    }\n",
       "\n",
       "    .dataframe thead th {\n",
       "        text-align: right;\n",
       "    }\n",
       "</style>\n",
       "<table border=\"1\" class=\"dataframe\">\n",
       "  <thead>\n",
       "    <tr style=\"text-align: right;\">\n",
       "      <th></th>\n",
       "      <th>pdb_id</th>\n",
       "      <th>deposition_date</th>\n",
       "      <th>experimental_method</th>\n",
       "      <th>resolution</th>\n",
       "    </tr>\n",
       "  </thead>\n",
       "  <tbody>\n",
       "    <tr>\n",
       "      <th>0</th>\n",
       "      <td>2M0B</td>\n",
       "      <td>2012-10-24</td>\n",
       "      <td>SOLUTION NMR</td>\n",
       "      <td>NaN</td>\n",
       "    </tr>\n",
       "    <tr>\n",
       "      <th>1</th>\n",
       "      <td>2M20</td>\n",
       "      <td>2012-12-11</td>\n",
       "      <td>SOLUTION NMR</td>\n",
       "      <td>NaN</td>\n",
       "    </tr>\n",
       "    <tr>\n",
       "      <th>2</th>\n",
       "      <td>1Z9I</td>\n",
       "      <td>2005-04-02</td>\n",
       "      <td>SOLUTION NMR</td>\n",
       "      <td>NaN</td>\n",
       "    </tr>\n",
       "    <tr>\n",
       "      <th>3</th>\n",
       "      <td>4TKS</td>\n",
       "      <td>2014-05-27</td>\n",
       "      <td>X-RAY DIFFRACTION</td>\n",
       "      <td>3.2017</td>\n",
       "    </tr>\n",
       "    <tr>\n",
       "      <th>4</th>\n",
       "      <td>2N5S</td>\n",
       "      <td>2015-07-27</td>\n",
       "      <td>SOLUTION NMR</td>\n",
       "      <td>NaN</td>\n",
       "    </tr>\n",
       "  </tbody>\n",
       "</table>\n",
       "</div>"
      ],
      "text/plain": [
       "  pdb_id deposition_date experimental_method  resolution\n",
       "0   2M0B      2012-10-24        SOLUTION NMR         NaN\n",
       "1   2M20      2012-12-11        SOLUTION NMR         NaN\n",
       "2   1Z9I      2005-04-02        SOLUTION NMR         NaN\n",
       "3   4TKS      2014-05-27   X-RAY DIFFRACTION      3.2017\n",
       "4   2N5S      2015-07-27        SOLUTION NMR         NaN"
      ]
     },
     "execution_count": 9,
     "metadata": {},
     "output_type": "execute_result"
    }
   ],
   "source": [
    "pdbs = pd.DataFrame(\n",
    "    {\n",
    "        \"pdb_id\": entry_ids,\n",
    "        \"deposition_date\": deposition_dates,\n",
    "        \"experimental_method\": experimental_methods,\n",
    "        \"resolution\": resolutions\n",
    "    }\n",
    ")\n",
    "pdbs.head()"
   ]
  },
  {
   "cell_type": "markdown",
   "metadata": {},
   "source": [
    "### Get statistics on PDB entries for query protein \n",
    "\n",
    "Next, we ask the question: How many PDB entries are deposited in the PDB for EGFR per year and how many in total?\n",
    "\n",
    "We extract the year from the deposition dates and calculate a depositions-per-year histogram."
   ]
  },
  {
   "cell_type": "code",
   "execution_count": 10,
   "metadata": {},
   "outputs": [
    {
     "data": {
      "image/png": "[encoded data removed]",
      "text/plain": [
       "<Figure size 432x288 with 1 Axes>"
      ]
     },
     "metadata": {
      "needs_background": "light"
     },
     "output_type": "display_data"
    }
   ],
   "source": [
    "# Extract year\n",
    "years = pdbs[\"deposition_date\"].apply(lambda x: x.year)\n",
    "bins = years.max() - years.min() + 1\n",
    "axes = years.hist(bins=bins)\n",
    "axes.set_ylabel(\"New entries per year\")\n",
    "axes.set_xlabel(\"Year\")\n",
    "axes.set_title(\"PDB entries for EGFR\");"
   ]
  },
  {
   "cell_type": "markdown",
   "metadata": {},
   "source": [
    "### Filter and sort meta information on PDB entries\n",
    "\n",
    "We start filtering our dataset based on the following criteria:"
   ]
  },
  {
   "cell_type": "markdown",
   "metadata": {},
   "source": [
    "#### Year cutoff\n",
    "\n",
    "This step is for TeachOpenCADD-internal maintanence purposes: We will only consider structures that were deposited before 2020. That way the results of this notebooks will stay the same over time, allowing us to check with our continuous integration (CI) that this notebook does not go out of service."
   ]
  },
  {
   "cell_type": "code",
   "execution_count": 11,
   "metadata": {},
   "outputs": [
    {
     "name": "stdout",
     "output_type": "stream",
     "text": [
      "Number of PDB structures deposited before 2020: 213\n"
     ]
    }
   ],
   "source": [
    "pdbs = pdbs[pdbs[\"deposition_date\"] < \"2020-01-01\"]\n",
    "print(f\"Number of PDB structures deposited before 2020: {len(pdbs)}\")"
   ]
  },
  {
   "cell_type": "markdown",
   "metadata": {},
   "source": [
    "#### Experimental method: X-ray diffraction\n",
    "\n",
    "We only keep structures resolved by `X-RAY DIFFRACTION`, the most commonly used structure determination method. "
   ]
  },
  {
   "cell_type": "code",
   "execution_count": 12,
   "metadata": {
    "scrolled": true
   },
   "outputs": [
    {
     "name": "stdout",
     "output_type": "stream",
     "text": [
      "Number of PDB structures for EGFR from X-ray: 207\n"
     ]
    }
   ],
   "source": [
    "pdbs = pdbs[pdbs[\"experimental_method\"] == \"X-RAY DIFFRACTION\"]\n",
    "print(f\"Number of PDB structures for EGFR from X-ray: {len(pdbs)}\")"
   ]
  },
  {
   "cell_type": "markdown",
   "metadata": {},
   "source": [
    "#### Structural resolution\n",
    "\n",
    "We only keep structures with a resolution equal or lower than 3 Å. The lower the resolution value, the higher is the quality of the structure (-> the higher is the certainty that the assigned 3D coordinates of the atoms are correct). Below 3 Å, atomic orientations can be determined  and therefore is often used as threshold for structures relevant for structure-based drug design."
   ]
  },
  {
   "cell_type": "code",
   "execution_count": 13,
   "metadata": {},
   "outputs": [
    {
     "name": "stdout",
     "output_type": "stream",
     "text": [
      "Number of PDB entries for EGFR from X-ray with resolution <= 3.0 Angstrom: 172\n"
     ]
    }
   ],
   "source": [
    "pdbs = pdbs[pdbs[\"resolution\"] <= 3.0]\n",
    "print(f\"Number of PDB entries for EGFR from X-ray with resolution <= 3.0 Angstrom: {len(pdbs)}\")"
   ]
  },
  {
   "cell_type": "markdown",
   "metadata": {},
   "source": [
    "We sort the data set by the structural resolution. "
   ]
  },
  {
   "cell_type": "code",
   "execution_count": 14,
   "metadata": {
    "scrolled": true
   },
   "outputs": [],
   "source": [
    "pdbs = pdbs.sort_values([\"resolution\"], ascending=True, na_position=\"last\")"
   ]
  },
  {
   "cell_type": "markdown",
   "metadata": {},
   "source": [
    "We check the top PDB structures (sorted by resolution): "
   ]
  },
  {
   "cell_type": "code",
   "execution_count": 15,
   "metadata": {
    "scrolled": true
   },
   "outputs": [
    {
     "data": {
      "text/html": [
       "<div>\n",
       "<style scoped>\n",
       "    .dataframe tbody tr th:only-of-type {\n",
       "        vertical-align: middle;\n",
       "    }\n",
       "\n",
       "    .dataframe tbody tr th {\n",
       "        vertical-align: top;\n",
       "    }\n",
       "\n",
       "    .dataframe thead th {\n",
       "        text-align: right;\n",
       "    }\n",
       "</style>\n",
       "<table border=\"1\" class=\"dataframe\">\n",
       "  <thead>\n",
       "    <tr style=\"text-align: right;\">\n",
       "      <th></th>\n",
       "      <th>pdb_id</th>\n",
       "      <th>resolution</th>\n",
       "    </tr>\n",
       "  </thead>\n",
       "  <tbody>\n",
       "    <tr>\n",
       "      <th>217</th>\n",
       "      <td>5UG9</td>\n",
       "      <td>1.33</td>\n",
       "    </tr>\n",
       "    <tr>\n",
       "      <th>220</th>\n",
       "      <td>5HG8</td>\n",
       "      <td>1.42</td>\n",
       "    </tr>\n",
       "    <tr>\n",
       "      <th>216</th>\n",
       "      <td>5UG8</td>\n",
       "      <td>1.46</td>\n",
       "    </tr>\n",
       "    <tr>\n",
       "      <th>166</th>\n",
       "      <td>6TG0</td>\n",
       "      <td>1.50</td>\n",
       "    </tr>\n",
       "    <tr>\n",
       "      <th>165</th>\n",
       "      <td>6TFV</td>\n",
       "      <td>1.50</td>\n",
       "    </tr>\n",
       "  </tbody>\n",
       "</table>\n",
       "</div>"
      ],
      "text/plain": [
       "    pdb_id  resolution\n",
       "217   5UG9        1.33\n",
       "220   5HG8        1.42\n",
       "216   5UG8        1.46\n",
       "166   6TG0        1.50\n",
       "165   6TFV        1.50"
      ]
     },
     "execution_count": 15,
     "metadata": {},
     "output_type": "execute_result"
    }
   ],
   "source": [
    "pdbs.head()[[\"pdb_id\", \"resolution\"]]"
   ]
  },
  {
   "cell_type": "markdown",
   "metadata": {},
   "source": [
    "#### Ligand-bound structures\n",
    "\n",
    "Since we will create ensemble ligand-based pharmacophores in the next talktorial, we remove all PDB structures from our DataFrame, which do not contain a bound ligand: we use the `pypdb` function `get_ligands` to check/retrieve the ligand(s) from a PDB structure. PDB-annotated ligands can be ligands, cofactors, but also solvents and ions. In order to filter only ligand-bound structures, we (i) remove all structures without any annotated ligand and (ii) remove all structures that do not contain any ligands with a molecular weight (MW) greater than 100 Da (Dalton), since many solvents and ions weight less. Note: this is a simple, but not comprehensive exclusion of solvents and ions. "
   ]
  },
  {
   "cell_type": "code",
   "execution_count": null,
   "metadata": {},
   "outputs": [],
   "source": [
    "# Get all PDB IDs from DataFrame\n",
    "pdb_ids = pdbs[\"pdb_id\"].tolist()"
   ]
  },
  {
   "cell_type": "code",
   "execution_count": null,
   "metadata": {
    "scrolled": true
   },
   "outputs": [],
   "source": [
    "# Remove structures\n",
    "# (i) without ligand and\n",
    "# (ii) without any ligands with molecular weight (MW) greater than 100 Da (Dalton)\n",
    "\n",
    "\n",
    "@redo.retriable(attempts=10, sleeptime=2)\n",
    "def get_ligands(pdb_id):\n",
    "    \"\"\"Decorate pypdb.get_ligands so it retries after a failure.\"\"\"\n",
    "    return pypdb.get_ligands(pdb_id)\n",
    "\n",
    "\n",
    "mw_cutoff = 100.0  # Molecular weight cutoff in Da\n",
    "\n",
    "# This database query may take a moment\n",
    "passed_pdb_ids = []\n",
    "removed_pdb_ids = []\n",
    "progressbar = tqdm(pdb_ids)\n",
    "for pdb_id in progressbar:\n",
    "    progressbar.set_description(f\"Processing {pdb_id}...\")\n",
    "    ligand_dict = get_ligands(pdb_id)\n",
    "\n",
    "    # (i) Remove structure if no ligand present\n",
    "    if ligand_dict[\"ligandInfo\"] is None:\n",
    "        removed_pdb_ids.append(pdb_id)  # Store ligand-free PDB IDs\n",
    "\n",
    "    # (ii) Remove structure if not a single annotated ligand has a MW above mw_cutoff\n",
    "    else:\n",
    "        # Get ligand information\n",
    "        ligands = ligand_dict[\"ligandInfo\"][\"ligand\"]\n",
    "        # Technicality: if only one ligand, cast dict to list (for the subsequent list comprehension)\n",
    "        if type(ligands) == dict:\n",
    "            ligands = [ligands]\n",
    "        # Get MW per annotated ligand\n",
    "        mw_list = [float(ligand[\"@molecularWeight\"]) for ligand in ligands]\n",
    "        # Remove structure if not a single annotated ligand has a MW above mw_cutoff\n",
    "        if sum([mw > mw_cutoff for mw in mw_list]) == 0:\n",
    "            removed_pdb_ids.append(pdb_id)  # Store ligand-free PDB IDs\n",
    "        else:\n",
    "            passed_pdb_ids.append(pdb_id)  # Remove ligand-free PDB IDs from list"
   ]
  },
  {
   "cell_type": "code",
   "execution_count": null,
   "metadata": {
    "scrolled": true
   },
   "outputs": [],
   "source": [
    "print(\n",
    "    \"PDB structures without a ligand (removed from our data set):\",\n",
    "    *removed_pdb_ids,\n",
    ")\n",
    "print(\"Number of structures with ligand:\", len(passed_pdb_ids))"
   ]
  },
  {
   "cell_type": "markdown",
   "metadata": {},
   "source": [
    "### Get meta information of ligands from top structures\n",
    "\n",
    "In the next talktorial, we will build ligand-based ensemble pharmacophores from the top `top_num` structures with the highest resolution."
   ]
  },
  {
   "cell_type": "code",
   "execution_count": null,
   "metadata": {
    "scrolled": true
   },
   "outputs": [],
   "source": [
    "top_num = 8  # Number of top structures\n",
    "selected_pdb_ids = passed_pdb_ids[:top_num]\n",
    "selected_pdb_ids"
   ]
  },
  {
   "cell_type": "markdown",
   "metadata": {},
   "source": [
    "The selected highest resolution PDB entries can contain ligands targeting different binding sites, e.g. allosteric and orthosteric ligands, which would hamper ligand-based pharmacophore generation. Thus, we will focus on the following 4 structures, which contain ligands in the orthosteric binding pocket. The code provided later in the notebook can be used to verify this."
   ]
  },
  {
   "cell_type": "code",
   "execution_count": null,
   "metadata": {},
   "outputs": [],
   "source": [
    "selected_pdb_ids = [\"5UG9\", \"5HG8\", \"5UG8\", \"3POZ\"]"
   ]
  },
  {
   "cell_type": "markdown",
   "metadata": {},
   "source": [
    "We fetch the PDB information about the top `top_num` ligands using `get_ligands`, to be stored as *csv* file (as dictionary per ligand).\n",
    "\n",
    "If a structure contains several ligands, we select the largest ligand. Note: this is a simple, but not comprehensive method to select ligand binding the binding site of a protein. This approach may also select a cofactor bound to the protein. Therefore, please check the automatically selected top ligands visually before further usage."
   ]
  },
  {
   "cell_type": "code",
   "execution_count": null,
   "metadata": {
    "scrolled": true
   },
   "outputs": [],
   "source": [
    "ligands_list = []\n",
    "\n",
    "for pdb_id in selected_pdb_ids:\n",
    "    ligands = get_ligands(pdb_id)[\"ligandInfo\"][\"ligand\"]\n",
    "\n",
    "    # Technicality: if only one ligand, cast dict to list (for the subsequent list comprehension)\n",
    "    if isinstance(ligands, dict):\n",
    "        ligands = [ligands]\n",
    "\n",
    "    weight = 0\n",
    "    this_lig = {}\n",
    "\n",
    "    # If several ligands contained, take largest\n",
    "    for ligand in ligands:\n",
    "        if float(ligand[\"@molecularWeight\"]) > weight:\n",
    "            this_ligand = ligand\n",
    "            weight = float(ligand[\"@molecularWeight\"])\n",
    "\n",
    "    ligands_list.append(this_ligand)"
   ]
  },
  {
   "cell_type": "code",
   "execution_count": null,
   "metadata": {
    "scrolled": true
   },
   "outputs": [],
   "source": [
    "# NBVAL_CHECK_OUTPUT\n",
    "# Change the format to DataFrame\n",
    "ligands = pd.DataFrame(ligands_list)\n",
    "ligands"
   ]
  },
  {
   "cell_type": "code",
   "execution_count": null,
   "metadata": {},
   "outputs": [],
   "source": [
    "ligands.to_csv(DATA / \"PDB_top_ligands.csv\", header=True, index=False)"
   ]
  },
  {
   "cell_type": "markdown",
   "metadata": {},
   "source": [
    "### Draw top ligand molecules"
   ]
  },
  {
   "cell_type": "code",
   "execution_count": null,
   "metadata": {},
   "outputs": [],
   "source": [
    "PandasTools.AddMoleculeColumnToFrame(ligands, \"smiles\")\n",
    "Draw.MolsToGridImage(\n",
    "    mols=list(ligands.ROMol),\n",
    "    legends=list(ligands[\"@chemicalID\"] + \", \" + ligands[\"@structureId\"]),\n",
    "    molsPerRow=top_num,\n",
    ")"
   ]
  },
  {
   "cell_type": "markdown",
   "metadata": {},
   "source": [
    "### Create protein-ligand ID pairs"
   ]
  },
  {
   "cell_type": "code",
   "execution_count": null,
   "metadata": {},
   "outputs": [],
   "source": [
    "# NBVAL_CHECK_OUTPUT\n",
    "pairs = collections.OrderedDict(zip(ligands[\"@structureId\"], ligands[\"@chemicalID\"]))\n",
    "pairs"
   ]
  },
  {
   "cell_type": "markdown",
   "metadata": {},
   "source": [
    "### Align PDB structures\n",
    "\n",
    "Since we want to build ligand-based ensemble pharmacophores in the next talktorial, it is necessary to align all structures to each other in 3D. \n",
    "\n",
    "We will use one the python package `opencadd` ([repository](https://github.com/volkamerlab/opencadd)), which includes a 3D superposition subpackage  to guide the structural alignment of the proteins. The approach is based on superposition guided by sequence alignment provided matched residues. There are other methods in the package, but this simple one will be enough for the task at hand."
   ]
  },
  {
   "cell_type": "markdown",
   "metadata": {},
   "source": [
    "#### Get the PDB structure files\n",
    "\n",
    "We now fetch the PDB structure files, i.e. 3D coordinates of the protein, ligand (and if available other atomic or molecular entities such as cofactors, water molecules, and ions) from the PDB using `opencadd.structure.superposition`. \n",
    "\n",
    "Available file formats are *pdb* and *cif*, which store the 3D coordinations of atoms of the protein (and ligand, cofactors, water molecules, and ions) as well as information on bonds between atoms. Here, we work with *pdb* files."
   ]
  },
  {
   "cell_type": "code",
   "execution_count": null,
   "metadata": {},
   "outputs": [],
   "source": [
    "# Download PDB structures\n",
    "structures = [Structure.from_pdbid(pdb_id) for pdb_id in pairs]\n",
    "structures"
   ]
  },
  {
   "cell_type": "markdown",
   "metadata": {},
   "source": [
    "#### Extract protein and ligand\n",
    "\n",
    "Extract protein and ligand from the structure in order to remove solvent and other artifacts of crystallography."
   ]
  },
  {
   "cell_type": "code",
   "execution_count": null,
   "metadata": {},
   "outputs": [],
   "source": [
    "complexes = [\n",
    "    Structure.from_atomgroup(structure.select_atoms(f\"protein or resname {ligand}\"))\n",
    "    for structure, ligand in zip(structures, pairs.values())\n",
    "]\n",
    "complexes"
   ]
  },
  {
   "cell_type": "code",
   "execution_count": null,
   "metadata": {},
   "outputs": [],
   "source": [
    "# Write complex to file\n",
    "for complex_, pdb_id in zip(complexes, pairs.keys()):\n",
    "    complex_.write(DATA / f\"{pdb_id}.pdb\")"
   ]
  },
  {
   "cell_type": "markdown",
   "metadata": {},
   "source": [
    "#### Align proteins\n",
    "\n",
    "Align complexes (based on protein atoms)."
   ]
  },
  {
   "cell_type": "code",
   "execution_count": null,
   "metadata": {},
   "outputs": [],
   "source": [
    "results = align(complexes, method=METHODS[\"mda\"])"
   ]
  },
  {
   "cell_type": "markdown",
   "metadata": {},
   "source": [
    "`nglview` can be used to visualize molecular data within Jupyter notebooks. With the next cell we will visualize out aligned protein-ligand complexes."
   ]
  },
  {
   "cell_type": "code",
   "execution_count": null,
   "metadata": {},
   "outputs": [],
   "source": [
    "view = nglview.NGLWidget()\n",
    "for complex_ in complexes:\n",
    "    view.add_component(complex_.atoms)\n",
    "view"
   ]
  },
  {
   "cell_type": "code",
   "execution_count": null,
   "metadata": {},
   "outputs": [],
   "source": [
    "view.render_image(trim=True, factor=2, transparent=True);"
   ]
  },
  {
   "cell_type": "code",
   "execution_count": null,
   "metadata": {
    "tags": [
     "nbsphinx-thumbnail"
    ]
   },
   "outputs": [],
   "source": [
    "view._display_image()"
   ]
  },
  {
   "cell_type": "markdown",
   "metadata": {},
   "source": [
    "#### Extract ligands "
   ]
  },
  {
   "cell_type": "code",
   "execution_count": null,
   "metadata": {},
   "outputs": [],
   "source": [
    "ligands = [\n",
    "    Structure.from_atomgroup(complex_.select_atoms(f\"resname {ligand}\"))\n",
    "    for complex_, ligand in zip(complexes, pairs.values())\n",
    "]\n",
    "ligands"
   ]
  },
  {
   "cell_type": "code",
   "execution_count": null,
   "metadata": {},
   "outputs": [],
   "source": [
    "for ligand, pdb_id in zip(ligands, pairs.keys()):\n",
    "    ligand.write(DATA / f\"{pdb_id}_lig.pdb\")"
   ]
  },
  {
   "cell_type": "markdown",
   "metadata": {},
   "source": [
    "We check the existence of all ligand *pdb* files."
   ]
  },
  {
   "cell_type": "code",
   "execution_count": null,
   "metadata": {},
   "outputs": [],
   "source": [
    "ligand_files = []\n",
    "for file in DATA.glob(\"*_lig.pdb\"):\n",
    "    ligand_files.append(file.name)\n",
    "ligand_files"
   ]
  },
  {
   "cell_type": "markdown",
   "metadata": {},
   "source": [
    "We can also use `nglview` to depict the co-crystallized ligands alone. As we can see, the selected complexes contain ligands populating the same binding pocket and can thus be used in the next talktorial for ligand-based pharmacophore generation."
   ]
  },
  {
   "cell_type": "code",
   "execution_count": null,
   "metadata": {},
   "outputs": [],
   "source": [
    "view = nglview.NGLWidget()\n",
    "for component_id, ligand in enumerate(ligands):\n",
    "    view.add_component(ligand.atoms)\n",
    "    view.remove_ball_and_stick(component=component_id)\n",
    "    view.add_licorice(component=component_id)\n",
    "view"
   ]
  },
  {
   "cell_type": "code",
   "execution_count": null,
   "metadata": {},
   "outputs": [],
   "source": [
    "view.render_image(trim=True, factor=2, transparent=True);"
   ]
  },
  {
   "cell_type": "code",
   "execution_count": null,
   "metadata": {},
   "outputs": [],
   "source": [
    "view._display_image()"
   ]
  },
  {
   "cell_type": "markdown",
   "metadata": {},
   "source": [
    "## Discussion\n",
    "\n",
    "In this talktorial, we learned how to retrieve protein and ligand meta information and structural information from the PDB. We retained only X-ray structures and filtered our data by resolution and ligand availability. Ultimately, we aimed for an aligned set of ligands to be used in the next talktorial for the generation of ligand-based ensemble pharmacophores. \n",
    "\n",
    "In order to enrich information about ligands for pharmacophore modeling, it is advisable to not only filter by PDB structure resolution, but also to check for ligand diversity (see **Talktorial 005** on molecule clustering by similarity) and to check for ligand activity (i.e. to include only potent ligands). "
   ]
  },
  {
   "cell_type": "markdown",
   "metadata": {},
   "source": [
    "## Quiz\n",
    "\n",
    "1. Summarize the kind of data that the Protein Data Bank contains.\n",
    "2. Explain what the resolution of a structure stands for and how and why we filter for it in this talktorial.\n",
    "3. Explain what an alignment of structures means and discuss the alignment performed in this talktorial."
   ]
  }
 ],
 "metadata": {
  "kernelspec": {
   "display_name": "Python 3",
   "language": "python",
   "name": "python3"
  },
  "language_info": {
   "codemirror_mode": {
    "name": "ipython",
    "version": 3
   },
   "file_extension": ".py",
   "mimetype": "text/x-python",
   "name": "python",
   "nbconvert_exporter": "python",
   "pygments_lexer": "ipython3",
   "version": "3.8.6"
  },
  "toc-autonumbering": true
 },
 "nbformat": 4,
 "nbformat_minor": 4
}
