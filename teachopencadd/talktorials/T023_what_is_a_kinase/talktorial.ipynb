{
 "cells": [
  {
   "cell_type": "markdown",
   "metadata": {},
   "source": [
    "# T023 · What is a kinase?\n",
    "\n",
    "Authors:\n",
    "\n",
    "- Talia B. Kimber, 2021, [Volkamer lab, Charité](https://volkamerlab.org/)\n",
    "- Dominique Sydow, 2021, [Volkamer lab, Charité](https://volkamerlab.org/)\n",
    "- Andrea Volkamer, 2021, [Volkamer lab, Charité](https://volkamerlab.org/)"
   ]
  },
  {
   "cell_type": "markdown",
   "metadata": {},
   "source": [
    "## Aim of this talktorial\n",
    "\n",
    "In this talktorial, we will talk about kinases: why are they important in life and drug design, what do they look like, and what data resources are available?"
   ]
  },
  {
   "cell_type": "markdown",
   "metadata": {},
   "source": [
    "### Contents in *Theory*\n",
    "\n",
    "- Kinases in a nutshell\n",
    "    - The human kinome\n",
    "    - Kinase structures and important motifs\n",
    "- Kinase resources\n",
    "    - Kinase structures and related information\n",
    "    - Bioactivity data\n",
    "- Kinase-similarity: off-target, promiscuous binding\n",
    "- Kinase dataset compilation"
   ]
  },
  {
   "cell_type": "markdown",
   "metadata": {},
   "source": [
    "### Contents in *Practical*\n",
    "\n",
    "- Define the kinases of interest"
   ]
  },
  {
   "cell_type": "markdown",
   "metadata": {},
   "source": [
    "### References\n",
    "\n",
    "- Kinases as drug targets: [<i>Nat. Rev. Drug Discov.</i> (2021), <b>20(7)</b>, 551-569](https://doi.org/10.1038/s41573-021-00195-4)\n",
    "- Sequence-based kinase clustering: Manning et al. [<i>Science</i> (2002), <b>298(5600)</b>, 1912-1934](https://doi.org/10.1126/science.1075762)\n",
    "- KLIFS\n",
    "  - KLIFS URL: https://klifs.net/\n",
    "  - KLIFS database: [<i>Nucleic Acid Res.</i> (2020), <b>49(D1)</b>, D562-D569](https://doi.org/10.1093/nar/gkaa895)\n",
    "  - KLIFS binding site definition: [<i>J. Med. Chem.</i> (2014), <b>57(2)</b>, 249-277](https://doi.org/10.1021/jm400378w)\n",
    "- Bioactivity data\n",
    "  - Karaman et al. dataset: [<i>Nature Biotechnology</i> (2008), <b>26</b>, 127-132](https://doi.org/10.1038/nbt1358)\n",
    "  - Davis et al. dataset: [<i>Nature Biotechnology</i> (2011), <b>29</b>, 1046-1051](https://doi.org/10.1038/nbt.1990)\n",
    "  - KIBA dataset: [<i>J. Chem. Inf. Model.</i> (2014), <b>54(3)</b>, 753-743](https://doi.org/10.1021/ci400709d)\n",
    "  - PKIS dataset: [<i>PLOS ONE</i> (2017), <b>12</b>, 1-20](https://doi.org/10.1371/journal.pone.0181585)\n",
    "- Kinase dataset: [<i>Molecules</i> (2021), <b>26(3)</b>, 629](https://www.mdpi.com/1420-3049/26/3/629) "
   ]
  },
  {
   "cell_type": "markdown",
   "metadata": {},
   "source": [
    "## Theory"
   ]
  },
  {
   "cell_type": "markdown",
   "metadata": {},
   "source": [
    "### Kinases in a nutshell"
   ]
  },
  {
   "cell_type": "markdown",
   "metadata": {},
   "source": [
    "Kinases are established drug targets to combat cancer and inflammatory diseases ([<i>Nat. Rev. Drug Discov.</i> (2021), <b>20(7)</b>, 551-569](https://doi.org/10.1038/s41573-021-00195-4)). They are involved in most aspects of cell life by phosphorylating and thereby activating themselves or other proteins and are most frequently mutated proteins in tumors.\n",
    "\n",
    "As of Sep 2021, 5782 X-ray structures of human kinases have been resolved (see [KLIFS](https://klifs.net/) database) and 67 FDA approved small molecule protein kinase inhibitors are on the market (see [this list](http://www.brimr.org/PKI/PKIs.htm)). Most of the approved drugs bind in the ATP-binding pocket and intermediate surroundings.\n",
    "\n",
    "Despite of decades of kinase research, there are still many open challenges:\n",
    "\n",
    "- A large fraction of the kinome is un-/underexplored\n",
    "- Many kinase inhibitors are promiscous binders causing off-target effects or enabling polypharmacology\n",
    "- Occurence of drug resistances due to mutations"
   ]
  },
  {
   "cell_type": "markdown",
   "metadata": {},
   "source": [
    "#### The human kinome \n",
    "\n",
    "Human kinome consists of over 500 protein kinases (number varies depending on the data resource, see [overview on kinodata](https://github.com/openkinome/kinodata/blob/master/human-kinases/human_kinases.ipynb)).\n",
    "\n",
    "Manning et al. clustered the human protein kinases based on their sequence into [<i>Science</i> (2002), <b>298(5600)</b>, 1912-1934](https://doi.org/10.1126/science.1075762) into eight major groups (AGC, CAMK, CK1, CMGC, RGC, STE, TK, TKL) and one \"Other\" group for unassigned kinases. The kinase clustering is visualized as Manning kinome tree. The kinase resource KinMap enables mapping of kinase data onto that tree, e.g. the number of of X-ray structures per kinase as shown in Figure 1.\n",
    "\n",
    "![Manning tree with number of structures per kinase (KinMap)](images/kinmap_n_structures_per_kinase.png)\n",
    "\n",
    "*Figure 1:* \n",
    "Number of PDB structures per kinase mapped onto the Manning kinome tree using KinMap.\n",
    "<!---\n",
    "We are using KLIFS kinase names; some are not recognized by KinMap and were simply dropped!\n",
    "--->"
   ]
  },
  {
   "cell_type": "markdown",
   "metadata": {
    "tags": []
   },
   "source": [
    "#### Kinase structures and important motifs\n",
    "\n",
    "Kinases sequences and structures are highly conserved. Important regions in the kinase pocket include (Figure 2):\n",
    "\n",
    "- Hinge region: Forms key hydrogen bonds to ligands \n",
    "- DFG motif: Flips between phenylalanine (F) and aspartate (D), driving the active and inactive state\n",
    "- αC-helix: Forms in the αC-in conformation a salt bridge between highly conserved lysine and glutamine\n",
    "- Glycine-rich (G-rich) loop: Stabilizes ATP binding\n",
    "\n",
    "![Kinase structure with key motifs](images/T023_kinase_structure.png)\n",
    "\n",
    "*Figure 2:* \n",
    "Kinase structure with important key motifs: Hinge region, DFG motif, αC-helix, and G-rich loop (example: CDK2, PDB ID: 1FIN)\n",
    "\n",
    "<!---\n",
    "from opencadd.structure.pocket import PocketKlifs, PocketViewer\n",
    "pocket = PocketKlifs.from_structure_klifs_id(4367)\n",
    "viewer = PocketViewer()\n",
    "viewer.add_pocket(\n",
    "    pocket,\n",
    "    ligand_expo_id=\"ATP\",\n",
    "    show_pocket_center=False\n",
    ")\n",
    "viewer.viewer.add_ball_and_stick(selection=\"ATP\")\n",
    "-->"
   ]
  },
  {
   "cell_type": "markdown",
   "metadata": {},
   "source": [
    "### Kinase resources\n",
    "\n",
    "Nevertheless the focus on this protein family has led to a plethora of freely available data on compounds, bioactivity, and structures that are being used for computational drug development. \n",
    "[TODO cite Kooistra, Volkamer, ARMC V.50, Elsevier, 2017, 153-192]"
   ]
  },
  {
   "cell_type": "markdown",
   "metadata": {},
   "source": [
    "#### Kinase structures and related information: KLIFS"
   ]
  },
  {
   "cell_type": "markdown",
   "metadata": {},
   "source": [
    "The KLIFS database ([<i>Nucleic Acid Res.</i> (2020), <b>49(D1)</b>, D562-D569](https://doi.org/10.1093/nar/gkaa895), [<i>J. Med. Chem.</i> (2014), <b>57(2)</b>, 249-277](https://doi.org/10.1021/jm400378w)) fetches all kinase structures deposited in the structural database PDB ([<i>Acta Cryst.</i> (2002), <b>D58</b>, 899-907](https://doi.org/10.1107/S0907444902003451), [<i>Structure</i> (2012), <b>20(3)</b>, 391-396](https://doi.org/10.1016/j.str.2012.01.010)) and processes them as follows: All multi-chain structures in the PDB are split into monomers and aligned to each other with a special focus on a pre-defined binding site of 85 residues (Figure 1). For example, this means that the conserved gatekeeper (GK) residue at KLIFS position 45 can be easily and quickly looked up in any of the over 10,000 monomeric kinase structures in KLIFS. \n",
    "\n",
    "![KLIFS binding site](https://klifs.net/images/faq/xcolors.png.pagespeed.ic.dprMuoZGzn.webp)\n",
    "\n",
    "*Figure 1:* \n",
    "Kinase binding site residues as defined by KLIFS.\n",
    "Figure and description taken from: [<i>J. Med. Chem.</i> (2014), <b>57(2)</b>, 249-277](https://doi.org/10.1021/jm400378w)."
   ]
  },
  {
   "cell_type": "markdown",
   "metadata": {},
   "source": [
    "Each structure, kinase, and ligand in KLIFS is associated with an identifier:\n",
    "\n",
    "- Structure KLIFS ID\n",
    "- Kinase KLIFS ID\n",
    "- Ligand KLIFS ID"
   ]
  },
  {
   "cell_type": "markdown",
   "metadata": {},
   "source": [
    "#### Bioactivity data\n",
    "\n",
    "TODO - short !\n",
    "* maybe an overview of data points per kinase on Chembl (from kinodata)\n",
    "* other profiling data (as available in karaman, xxx)\n",
    "\n",
    "![Manning tree with number of ChEMBL activities per kinase (KinMap)](images/kinmap_n_activities_per_kinase.png)\n",
    "\n",
    "*Figure 3:* \n",
    "Number of ChEMBL 29 bioactivities per kinase mapped onto the Manning kinome tree using KinMap.\n",
    "<!---\n",
    "We are using KLIFS kinase names; some are not recognized by KinMap and were simply dropped!\n",
    "--->"
   ]
  },
  {
   "cell_type": "markdown",
   "metadata": {},
   "source": [
    "- Karaman et al. dataset: TODO\n",
    "  - Paper: [<i>Nature Biotechnology</i> (2008), <b>26</b>, 127-132](https://doi.org/10.1038/nbt1358)\n",
    "  - Data: [KinMap data (JSON)](http://kinhub.org/js/Davis_profiling.js)\n",
    "- Davis et al. dataset: TODO\n",
    "  - Paper: [<i>Nature Biotechnology</i> (2011), <b>29</b>, 1046-1051](https://doi.org/10.1038/nbt.1990)\n",
    "  - Data: [KinMap data (JSON)](http://kinhub.org/js/Karaman_profiling.js)\n",
    "- KIBA dataset: TODO\n",
    "  - Paper: [<i>J. Chem. Inf. Model.</i> (2014), <b>54(3)</b>, 753-743](https://doi.org/10.1021/ci400709d)\n",
    "  - Data: [SI data (XLSX)](https://ndownloader.figstatic.com/files/3950161)\n",
    "- PKIS dataset: \n",
    "  - Paper: [<i>PLOS ONE</i> (2017), <b>12</b>, 1-20](https://doi.org/10.1371/journal.pone.0181585)\n",
    "  - Data: [SI data (XLSX)](https://doi.org/10.1371/journal.pone.0181585.s004)"
   ]
  },
  {
   "cell_type": "markdown",
   "metadata": {},
   "source": [
    "### Kinase-similarity: off-target, promiscuous binding\n",
    "\n",
    "TODO Problem statement. Introduce\n",
    "* problem of promiscuous binding (e.g. by profiling results for known inhibitors, (kinhub figure), example from molecules paper?)\n",
    "* different perspectives: sequence, structure and ligand-profiling data\n",
    "* that's why we investigate in similarity from the different perspectives\n"
   ]
  },
  {
   "cell_type": "markdown",
   "metadata": {},
   "source": [
    "### Kinase dataset compilation"
   ]
  },
  {
   "cell_type": "markdown",
   "metadata": {},
   "source": [
    "In the course of the kinase similarity talktorials (**Talktorials T024-T028**), we will use nine kinases from [<i>Molecules</i> (2021), <b>26(3)</b>, 629](https://www.mdpi.com/1420-3049/26/3/629), which were selected for the following reasons:\n",
    "\n",
    "> - Profile 1 combined __EGFR__ and __ErbB2__ as targets and __BRAF__ as a (general) anti-target. \n",
    "> - Out of similar considerations, Profile 2 consisted of EGFR and __PI3K__ as targets and BRAF as anti-target. This profile is expected to be more challenging as PI3K is an atypical kinase and thus less similar to EGFR than for example ErbB2 used in Profile 1. \n",
    "> - Profile 3, comprised of EGFR and __VEGFR2__ as targets and BRAF as anti-target, was contrasted with the hit rate that we found with a standard docking against the single target VEGFR2 (Profile 4).\n",
    "> - To broaden the comparison and obtain an estimate for the promiscuity of each compound, the kinases __CDK2__, __LCK__, __MET__ and __p38α__ were included in the experimental assay panel and the structure-based bioinformatics comparison as commonly used anti-targets."
   ]
  },
  {
   "cell_type": "markdown",
   "metadata": {},
   "source": [
    "## Practical"
   ]
  },
  {
   "cell_type": "code",
   "execution_count": 1,
   "metadata": {},
   "outputs": [],
   "source": [
    "from pathlib import Path\n",
    "\n",
    "import pandas as pd"
   ]
  },
  {
   "cell_type": "code",
   "execution_count": 2,
   "metadata": {},
   "outputs": [],
   "source": [
    "HERE = Path(_dh[-1])\n",
    "DATA = HERE / \"data\""
   ]
  },
  {
   "cell_type": "markdown",
   "metadata": {},
   "source": [
    "### Define the kinases of interest"
   ]
  },
  {
   "cell_type": "markdown",
   "metadata": {},
   "source": [
    "We have collected information about these nine kinases in the CSV file `kinase_selection.csv`:\n",
    "\n",
    "- `kinase`: Kinase name as used in [<i>Molecules</i> (2021), <b>26(3)</b>, 629](https://www.mdpi.com/1420-3049/26/3/629)\n",
    "- `kinase_klifs`: Kinase name as used in the KLIFS database\n",
    "- `uniprot_id`: Kinase UniProt ID\n",
    "- `group`: Kinase group as defined by Manning et al. [<i>Science</i> (2002), <b>298(5600)</b>, 1912-1934](https://doi.org/10.1126/science.1075762)\n",
    "- `full_kinase_name`: Full kinase name as used in [<i>Molecules</i> (2021), <b>26(3)</b>, 629](https://www.mdpi.com/1420-3049/26/3/629)"
   ]
  },
  {
   "cell_type": "markdown",
   "metadata": {},
   "source": [
    "Note: You can run the kinase similarity **Talktorials T024-T028** with your own set of kinases. Please update the CSV file with your kinases; the only mandatory columns are `kinase_klifs` and `uniprot_id`."
   ]
  },
  {
   "cell_type": "code",
   "execution_count": 3,
   "metadata": {},
   "outputs": [
    {
     "data": {
      "text/html": [
       "<div>\n",
       "<style scoped>\n",
       "    .dataframe tbody tr th:only-of-type {\n",
       "        vertical-align: middle;\n",
       "    }\n",
       "\n",
       "    .dataframe tbody tr th {\n",
       "        vertical-align: top;\n",
       "    }\n",
       "\n",
       "    .dataframe thead th {\n",
       "        text-align: right;\n",
       "    }\n",
       "</style>\n",
       "<table border=\"1\" class=\"dataframe\">\n",
       "  <thead>\n",
       "    <tr style=\"text-align: right;\">\n",
       "      <th></th>\n",
       "      <th>kinase</th>\n",
       "      <th>kinase_klifs</th>\n",
       "      <th>uniprot_id</th>\n",
       "      <th>group</th>\n",
       "      <th>full_kinase_name</th>\n",
       "    </tr>\n",
       "  </thead>\n",
       "  <tbody>\n",
       "    <tr>\n",
       "      <th>0</th>\n",
       "      <td>EGFR</td>\n",
       "      <td>EGFR</td>\n",
       "      <td>P00533</td>\n",
       "      <td>TK</td>\n",
       "      <td>Epidermal growth factor receptor</td>\n",
       "    </tr>\n",
       "    <tr>\n",
       "      <th>1</th>\n",
       "      <td>ErbB2</td>\n",
       "      <td>ErbB2</td>\n",
       "      <td>P04626</td>\n",
       "      <td>TK</td>\n",
       "      <td>Erythroblastic leukemia viral oncogene homolog 2</td>\n",
       "    </tr>\n",
       "    <tr>\n",
       "      <th>2</th>\n",
       "      <td>PI3K</td>\n",
       "      <td>p110a</td>\n",
       "      <td>P42336</td>\n",
       "      <td>Atypical</td>\n",
       "      <td>Phosphatidylinositol-3-kinase</td>\n",
       "    </tr>\n",
       "    <tr>\n",
       "      <th>3</th>\n",
       "      <td>VEGFR2</td>\n",
       "      <td>KDR</td>\n",
       "      <td>P35968</td>\n",
       "      <td>TK</td>\n",
       "      <td>Vascular endothelial growth factor receptor 2</td>\n",
       "    </tr>\n",
       "    <tr>\n",
       "      <th>4</th>\n",
       "      <td>BRAF</td>\n",
       "      <td>BRAF</td>\n",
       "      <td>P15056</td>\n",
       "      <td>TKL</td>\n",
       "      <td>Rapidly accelerated fibrosarcoma isoform B</td>\n",
       "    </tr>\n",
       "    <tr>\n",
       "      <th>5</th>\n",
       "      <td>CDK2</td>\n",
       "      <td>CDK2</td>\n",
       "      <td>P24941</td>\n",
       "      <td>CMGC</td>\n",
       "      <td>Cyclic-dependent kinase 2</td>\n",
       "    </tr>\n",
       "    <tr>\n",
       "      <th>6</th>\n",
       "      <td>LCK</td>\n",
       "      <td>LCK</td>\n",
       "      <td>P06239</td>\n",
       "      <td>TK</td>\n",
       "      <td>Lymphocyte-specific protein tyrosine kinase</td>\n",
       "    </tr>\n",
       "    <tr>\n",
       "      <th>7</th>\n",
       "      <td>MET</td>\n",
       "      <td>MET</td>\n",
       "      <td>P08581</td>\n",
       "      <td>TK</td>\n",
       "      <td>Mesenchymal-epithelial transition factor</td>\n",
       "    </tr>\n",
       "    <tr>\n",
       "      <th>8</th>\n",
       "      <td>p38a</td>\n",
       "      <td>p38a</td>\n",
       "      <td>Q16539</td>\n",
       "      <td>CMGC</td>\n",
       "      <td>p38 mitogen activated protein kinase alpha</td>\n",
       "    </tr>\n",
       "  </tbody>\n",
       "</table>\n",
       "</div>"
      ],
      "text/plain": [
       "   kinase kinase_klifs uniprot_id     group  \\\n",
       "0    EGFR         EGFR     P00533        TK   \n",
       "1   ErbB2        ErbB2     P04626        TK   \n",
       "2    PI3K        p110a     P42336  Atypical   \n",
       "3  VEGFR2          KDR     P35968        TK   \n",
       "4    BRAF         BRAF     P15056       TKL   \n",
       "5    CDK2         CDK2     P24941      CMGC   \n",
       "6     LCK          LCK     P06239        TK   \n",
       "7     MET          MET     P08581        TK   \n",
       "8    p38a         p38a     Q16539      CMGC   \n",
       "\n",
       "                                   full_kinase_name  \n",
       "0                  Epidermal growth factor receptor  \n",
       "1  Erythroblastic leukemia viral oncogene homolog 2  \n",
       "2                     Phosphatidylinositol-3-kinase  \n",
       "3     Vascular endothelial growth factor receptor 2  \n",
       "4        Rapidly accelerated fibrosarcoma isoform B  \n",
       "5                         Cyclic-dependent kinase 2  \n",
       "6       Lymphocyte-specific protein tyrosine kinase  \n",
       "7          Mesenchymal-epithelial transition factor  \n",
       "8        p38 mitogen activated protein kinase alpha  "
      ]
     },
     "execution_count": 3,
     "metadata": {},
     "output_type": "execute_result"
    }
   ],
   "source": [
    "kinase_selection_df = pd.read_csv(DATA/\"kinase_selection.csv\")\n",
    "kinase_selection_df"
   ]
  },
  {
   "cell_type": "markdown",
   "metadata": {},
   "source": [
    "We will load this dataset in all downstream talktorials to assess kinase similarity from different perspectives:\n",
    "\n",
    "- **Talktorial T024**: Kinase similarity based on KLIFS pocket sequence\n",
    "- **Talktorial T025**: Kinase similarity based on KiSSim pocket structure\n",
    "- **Talktorial T026**: Kinase similarity based on KLIFS interaction fingerprint\n",
    "- **Talktorial T027**: Kinase similarity based on ligand promiscuity (ChEMBL bioactivity data)\n",
    "- **Talktorial T028**: Compare kinase similarity measures from **Talktorials T024-T027**"
   ]
  },
  {
   "cell_type": "markdown",
   "metadata": {},
   "source": [
    "## Appendix"
   ]
  },
  {
   "cell_type": "markdown",
   "metadata": {},
   "source": [
    "### KinMap data\n",
    "\n",
    "There are some KinMap trees shown in this notebook. Please find in the appendix the code to generate the KinMap CSV files to be uploaded to KinMap:\n",
    "http://www.kinhub.org/kinmap\n",
    "\n",
    "Note: PNG downloads do not seem to work anymore, thus download as SVG and convert to PNG in your terminal (Linux) via `convert -density 25 xxx.svg xxx.png` (SVG cannot be included in Jupyter notebooks out-of-the-box)."
   ]
  },
  {
   "cell_type": "code",
   "execution_count": 4,
   "metadata": {},
   "outputs": [],
   "source": [
    "def format_for_kinmap(kinase_names, kinase_values, size_min=10, size_max=50):\n",
    "    \"\"\"\n",
    "    Take kinase names and some associated values and generate a KinMap data file\n",
    "    that will display values as circles of size [`size_min`, `size_max`].\n",
    "    \n",
    "    Parameters\n",
    "    ----------\n",
    "    kinase_names : list of str\n",
    "        Kinase names.\n",
    "    kinase_values : list of float\n",
    "        Some associated values.\n",
    "    size_min : int\n",
    "        Minimum circle size on KinMap tree (minimum input value will be scaled to `size_min`).\n",
    "    size_max : int\n",
    "        Maximum circle size on KinMap tree (maximum input value will be scaled to `size_min`).\n",
    "    \n",
    "    Returns\n",
    "    -------\n",
    "    pandas.DataFrame\n",
    "        KinMap data with columns `xName` (kinase name), `size` (circle size for KinMap tree).\n",
    "    \"\"\"\n",
    "    \n",
    "    data = pd.DataFrame({\"xName\": kinase_names, \"values\": kinase_values})\n",
    "    min_ = data[\"values\"].min()\n",
    "    max_ = data[\"values\"].max()\n",
    "    data[\"size\"] = data[\"values\"].apply(\n",
    "        lambda x: ((x - min_)/(max_ - min_) * size_max) + size_min\n",
    "    )\n",
    "    return data[[\"xName\", \"size\"]]"
   ]
  },
  {
   "cell_type": "markdown",
   "metadata": {},
   "source": [
    "#### Number of PDB structures per kinase\n",
    "\n",
    "Generate data for number of structures per kinase in the KinMap format to be mapped onto the kinome tree."
   ]
  },
  {
   "cell_type": "code",
   "execution_count": 5,
   "metadata": {},
   "outputs": [],
   "source": [
    "from opencadd.databases.klifs import setup_remote\n",
    "\n",
    "klifs = setup_remote()\n",
    "structures_df = klifs.structures.all_structures()\n",
    "\n",
    "# Get number of structures per kinase\n",
    "n_structures_per_kinase = structures_df.groupby(\n",
    "    [\"structure.pdb_id\", \"kinase.klifs_name\"]\n",
    ").first().reset_index().groupby(\"kinase.klifs_name\").size()\n",
    "\n",
    "# Save in KinMap format\n",
    "kinmap_n_structures_per_kinase = format_for_kinmap(n_structures_per_kinase.index, n_structures_per_kinase.values)\n",
    "kinmap_n_structures_per_kinase.to_csv(DATA / \"kinmap_n_structures_per_kinase.csv\", index=None)\n",
    "# Some kinases will not be resolved in KinMap and will be simply dropped"
   ]
  },
  {
   "cell_type": "markdown",
   "metadata": {},
   "source": [
    "#### Number of ChEMBL bioactivities per kinase\n",
    "\n",
    "Generate data for number of ChEMBL bioactivities per kinase in the KinMap format to be mapped onto the kinome tree."
   ]
  },
  {
   "cell_type": "code",
   "execution_count": 6,
   "metadata": {},
   "outputs": [],
   "source": [
    "from opencadd.databases.klifs import setup_remote\n",
    "\n",
    "# Get bioactivity data\n",
    "path = \"https://github.com/openkinome/kinodata/releases/download/v0.3/activities-chembl29_v0.3.zip\"\n",
    "data = pd.read_csv(path, index_col=None)\n",
    "data = data[data[\"activities.standard_type\"] == \"pIC50\"]\n",
    "data = data.dropna()\n",
    "\n",
    "# Get kinase data\n",
    "klifs = setup_remote()\n",
    "kinases_df = klifs.kinases.all_kinases()\n",
    "kinases_df = kinases_df[kinases_df[\"kinase.uniprot\"] != \"0\"]\n",
    "# Some UniProt IDs have several names in KLIFS, keep only first\n",
    "kinases_df = kinases_df.groupby(\"kinase.uniprot\").first()\n",
    "\n",
    "# Map UniProt ID > kinase KLIFS name\n",
    "data = pd.merge(data, kinases_df, left_on=\"UniprotID\", right_on=\"kinase.uniprot\", how=\"left\")\n",
    "\n",
    "# Get number of activities per kinase\n",
    "n_activities_per_kinase = data.groupby(\"kinase.klifs_name\").size()\n",
    "\n",
    "# Save in KinMap format\n",
    "kinmap_n_activities_per_kinase = format_for_kinmap(n_activities_per_kinase.index, n_activities_per_kinase.values)\n",
    "kinmap_n_activities_per_kinase.to_csv(DATA / \"kinmap_n_activities_per_kinase.csv\", index=None)\n",
    "# Some kinases will not be resolved in KinMap and will be simply dropped"
   ]
  }
 ],
 "metadata": {
  "kernelspec": {
   "display_name": "Python 3 (ipykernel)",
   "language": "python",
   "name": "python3"
  },
  "language_info": {
   "codemirror_mode": {
    "name": "ipython",
    "version": 3
   },
   "file_extension": ".py",
   "mimetype": "text/x-python",
   "name": "python",
   "nbconvert_exporter": "python",
   "pygments_lexer": "ipython3",
   "version": "3.9.7"
  },
  "toc-autonumbering": true,
  "widgets": {
   "application/vnd.jupyter.widget-state+json": {
    "state": {},
    "version_major": 2,
    "version_minor": 0
   }
  }
 },
 "nbformat": 4,
 "nbformat_minor": 4
}
