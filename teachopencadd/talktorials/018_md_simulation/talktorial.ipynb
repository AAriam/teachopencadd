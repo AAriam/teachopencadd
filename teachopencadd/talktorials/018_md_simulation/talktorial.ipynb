{
 "cells": [
  {
   "cell_type": "markdown",
   "metadata": {
    "id": "Rc3gPsMdLgmK"
   },
   "source": [
    "# Molecular dynamics simulation\n",
    "\n",
    "Authors:\n",
    "- Pietro Gerletti, CADD seminar 2020, Charité/FU Berlin\n",
    "- Mareike Leja\n",
    "- Jeffrey R Wagner\n",
    "- David Schaller"
   ]
  },
  {
   "cell_type": "markdown",
   "metadata": {
    "id": "ehs-GJfkwUap"
   },
   "source": [
    "__Note__\n",
    "\n",
    "This talktorial was designed to be used with [Google Colab](https://colab.research.google.com/). It is also possible to use it on a local computer. However, performing the molecular dynamics simulation may take a considerably long time if no GPU is available."
   ]
  },
  {
   "cell_type": "markdown",
   "metadata": {
    "id": "v0WOINBLExEO"
   },
   "source": [
    "## Aim of this talktorial"
   ]
  },
  {
   "cell_type": "markdown",
   "metadata": {
    "id": "ETO2kR5CE6-E"
   },
   "source": [
    "In this talktorial, we will learn why molecular dynamics (MD) simulations are important for drug design and which steps are neccessary to perform an MD simulation of a protein in complex with a ligand. The kinase EGFR will serve as sample system for simulation."
   ]
  },
  {
   "cell_type": "markdown",
   "metadata": {
    "id": "1KVizU3UVCxF"
   },
   "source": [
    "### Contents in *Theory*\n",
    "\n",
    "- Molecular dynamics\n",
    "- Force fields\n",
    "- Boundary conditions\n",
    "- MD simulations and drug design\n",
    "- EGFR kinase"
   ]
  },
  {
   "cell_type": "markdown",
   "metadata": {
    "id": "kdamNfk7VCxF"
   },
   "source": [
    "### Contents in *Practical*\n",
    "\n",
    "- Installation on Google Colab\n",
    "- Download pdb file\n",
    "- Prepare the protein ligand comples\n",
    "  - Prepare protein\n",
    "  - Prepare ligand\n",
    "- Merge protein and ligand\n",
    "- MD simulation set up\n",
    "  - Force field\n",
    "  - System\n",
    "- Perform the MD simulation\n",
    "- Download results\n",
    "- Discussion"
   ]
  },
  {
   "cell_type": "markdown",
   "metadata": {
    "id": "mNvsYi3OLgmU"
   },
   "source": [
    "### References\n",
    "\n",
    "- Review on the impact of MD simulations in drug discovery ([_J Med Chem_ (2016), **59**(9), 4035‐4061](https://doi.org/10.1021/acs.jmedchem.5b01684))\n",
    "- Review on the physics behind MD simulations and best practices ([_Living J Comp Mol Sci_ (2019), **1**(1), 5957](https://doi.org/10.33011/livecoms.1.1.5957))\n",
    "- Review on force fields ([_J Chem Inf Model_ (2018), **58**(3), 565-578](https://doi.org/10.1021/acs.jcim.8b00042))\n",
    "- Review on EGFR in cancer ([_Cancers (Basel)_ (2017), **9**(5), 52](https://dx.doi.org/10.3390%2Fcancers9050052))\n",
    "- Pierre-Simon Laplace, Oeuvres Complètes de Laplace. Théorie Analytique des Probabilités (_volume VII Gauthier-Villars_ (1820), 3rd ed)\n",
    "- Inspired by a notebook form Jaime Rodríguez-Guerra ([github](https://github.com/jaimergp/uab-msc-bioinf/blob/master/MD%20Simulation%20and%20Analysis%20in%20a%20Notebook.ipynb))\n",
    "- Repositories of [OpenMM](https://github.com/openmm/openmmforcefields), [RDKit](https://github.com/rdkit/rdkit), [PyPDB](https://github.com/williamgilpin/pypdb), [MDTraj](https://github.com/mdtraj/mdtraj), [PDBFixer](https://github.com/openmm/pdbfixer)\n",
    "- Wikipedia articles about [MD simulations](https://en.wikipedia.org/wiki/Molecular_dynamics), [AMBER](https://en.wikipedia.org/wiki/AMBER) and [Force Fields](https://en.wikipedia.org/wiki/Force_field_(chemistry)) in general"
   ]
  },
  {
   "cell_type": "markdown",
   "metadata": {
    "id": "WpSLhe8ZLgmd"
   },
   "source": [
    "## Theory"
   ]
  },
  {
   "cell_type": "markdown",
   "metadata": {
    "id": "lxhBZyifLgmm"
   },
   "source": [
    "### Molecular dynamics"
   ]
  },
  {
   "cell_type": "markdown",
   "metadata": {
    "id": "svQEDsBCwUa5"
   },
   "source": [
    "Molecular dynamics is a computational method analyzing the movements and interactions of atoms and molecules of a defined system. The method stems from theoretical physics, where it was developed in the 1950s (Alder and Wainwright in [_J Chem Phys_ (1959), **31**(2), 459](https://doi.org/10.1063/1.1730376)), although the ideas behind it can be dated much earlier:\n",
    "\n",
    "*'An intelligence which could, at  any moment, comprehend all the forces by  which nature is animated and the  respective positions of the  beings of which it is  composed, and moreover, if this intelligence were far-reaching enough to subject these data to  analysis, it would encompass in that formula both the movements of the  largest bodies in  the universe and those of the lightest atom: to it nothing would be uncertain, and the  future, as well as the past, would be present to its eyes. The human mind offers us, in the perfection which it has  given to  astronomy, a faint sketch of this intelligence.'*  \n",
    "Pierre-Simon Laplace (1820)"
   ]
  },
  {
   "cell_type": "markdown",
   "metadata": {
    "id": "kLgNBvtIm7S3"
   },
   "source": [
    "Let us just take this statement by de Laplace as the ideological substrate underneath molecular dynamics simulations. In other terms, we can approximate the behavior of a physical system by knowing the characteristics of its components and applying Newton's laws of motion. By solving the equations of motion, we can obtain a molecular trajectory of the system, which is a series of snapshots with the positions and velocities of all its particles, as well as its potential energy. To do so, we define functions, called force fields, which provide an approximate description of all the forces applied to each particle in the system. We then use numerical integrators to solve the initial value problem for the system and obtain the trajectory. As it sounds, the process requires quite a bit of processing power and it was only few years ago that MD started seeing a more widespread use, especially in the field of computational chemistry and biology, as well as in drug discovery ([_J Med Chem_ (2016), **59**(9), 4035‐4061](https://doi.org/10.1021/acs.jmedchem.5b01684))."
   ]
  },
  {
   "cell_type": "markdown",
   "metadata": {
    "id": "yXlInBPrwUa6"
   },
   "source": [
    "![MD rotor](images/MD_rotor_250K_1ns.gif)\n",
    "\n",
    "**Figure 1**: Molecular dynamics simulation of the rotation of a supramolecule composed of three molecules in a confined nanoscopic pore (Palma et al. via [Wikimedia](https://commons.wikimedia.org/w/index.php?curid=34866205))."
   ]
  },
  {
   "cell_type": "markdown",
   "metadata": {
    "id": "8-uCG3KPwUa8"
   },
   "source": [
    "### Force fields\n",
    "\n"
   ]
  },
  {
   "cell_type": "markdown",
   "metadata": {
    "id": "NC8t-i-cwUbB"
   },
   "source": [
    "Force fields describe the forces between atoms within and between molecules. They are parametric equations with components for different forces (bond stretching, van-der-Waals and more). The parameter values are usually derived experimentally and change for each MD scenario, depending on the molecules involved and the simulation settings. The result is a mathematical description of the energy landscape of the system, in which the forces acting on each particle result from the gradient of the potential energy with respect to the coordinates of the atoms.\n",
    "\n",
    "Several force fields are available, each with its own characteristics ([_J Chem Inf Model_ (2018), **58**(3), 565-578](https://doi.org/10.1021/acs.jcim.8b00042)). In this notebook, we will use a member of the AMBER force fields, which are widely used for MD simulations of proteins. Their functional form is:\n",
    "\n",
    "$$V(r^N) = \\sum_{i \\in  bonds}k_{bi} (l_i-l^0_i)^2 + \\sum_{i \\in  angles}k_{ai}(\\theta_i - \\theta^0_i)^2 + \\sum_{i\\in torsions} \\sum_n \\frac{1}{2} V_i^n[1+cos(nw_i-\\gamma_i)] + \\sum_{j=1}^{N-1}\\sum_{I=j+1}^{N} f_{ij}\\in ij [(\\frac{r^0_{ij}}{r_{ij}})^{12}-2(\\frac{r^0_{ij}}{r_{ij}})^{6}]+\\frac{q_iq_j}{4\\pi \\in_0 r_{ij}}$$"
   ]
  },
  {
   "cell_type": "markdown",
   "metadata": {
    "id": "pjSsc4l-wUbB"
   },
   "source": [
    "The formula consists of a sum of different components. The first three components contain information about bond lengths, angles and torsions (intramolecular forces). The last component describes intermolecular, non-bonded forces like Van-der-Waals forces and electrostatic interactions. The various parameters, denoted by a superscricpt 0, depend on the force field used and vary between all members of the AMBER force field family. Note that these force fields assume fixed-charge particles and do not allow polarization, nor do they consider how a local charge influences its surroundings. \n",
    "\n",
    "The following visual representation of force fields components shows the same concepts in a more intuitive way."
   ]
  },
  {
   "cell_type": "markdown",
   "metadata": {
    "id": "6aDDjIqYwUbC"
   },
   "source": [
    "![force field](images/MM_PEF.png)\n",
    "\n",
    "**Figure 2**: Components of a molecular mechanics force field (Edboas via [Wikimedia](https://commons.wikimedia.org/w/index.php?curid=4194424))."
   ]
  },
  {
   "cell_type": "markdown",
   "metadata": {
    "id": "3J7LdqzKB0PM"
   },
   "source": [
    "### Boundary conditions\n",
    "\n",
    "Often, molecular systems are simulated in a box filled with solvent such as water. These boxes are of finite size, which results in problems for molecules at or near the box boundaries. With which molecules should those interact? Periodic boundary conditions can avoid such boundary artifacts by simulating a theoretically infinite system. Molecules at one boundary of the box thereby interact with molecules at the boundary on the other side of the box. This mimics a situation, in which the simulation box is surrounded by replicas of itself. When visualizing such MD simulations, one can often observe that particles leave the box at one side (Fig. 3). However, they re-appear at the same time on the other side of the box with the same velocity. For simulations under periodic boundary conditions, it is recommended to use a simulation box large enough, so that the simulated macromolecule does not come into contact with neighbouring images of itself."
   ]
  },
  {
   "cell_type": "markdown",
   "metadata": {
    "id": "fdnT_He0VCxF"
   },
   "source": [
    "![MD_water](images/MD_water.gif)\n",
    "\n",
    "**Figure 3**: Molecular dynamics simulation of water molecules with periodic boundary conditions (Kmckiern via [Wikimedia](https://commons.wikimedia.org/wiki/File:MD_water.gif))."
   ]
  },
  {
   "cell_type": "markdown",
   "metadata": {
    "id": "zjcLLVbKNt-F"
   },
   "source": [
    "### MD simulations and drug design\n",
    "\n",
    "MD simulations give valuable insights into the highly dynamic process of drugs binding to their target. When a ligand (drug) approaches a macromolecule (protein) in solution, it encounters a structure in constant motion. Also, ligands may induce conformational changes in the macromolecule, that can best accomodate the small molecule. Such conformations may not be discovered with static methods. Accordingly, binding sites that are not observed in static ligand-free structures, but can be discovered with MD Simulations, are sometimes called *cryptic binding sites* ([_J Med Chem_ (2016), **59**(9), 4035‐4061](https://doi.org/10.1021/acs.jmedchem.5b01684)). The identification of such binding sites with MD Simulation can kickstart new drug discovery campaigns. Later in the drug discovery process, MD simulations can also be used to estimate the quality of computationally identified small molecules before performing more costly and time-intensive in-vitro tests. Alltogether, MD Simulations pose a valuable asset in computational drug design. A more extensive introduction to applications of MD simulations in the context of drug design can be found in the following talktorial."
   ]
  },
  {
   "cell_type": "markdown",
   "metadata": {
    "id": "z-ZEaeB2n4hg"
   },
   "source": [
    "### EGFR kinase\n",
    "\n",
    "The **E**pidermal **G**rowth **F**actor **R**eceptor (EGFR) is an important drug target with implications in cancer and inflammation ([wikipedia](https://en.wikipedia.org/wiki/Epidermal_growth_factor_receptor)). It is a transmembrane protein with an extracellular receptor domain and an intracellular kinase domain. The binding of the endogenous ligand epidermal growth factor results in activation of the kinase domain via dimerization and autophosphorylisation. The activated kinase domain can then phosphorylate downstream signaling proteins triggering DNA synthesis and cell proliferation ([_Cancers (Basel)_ (2017), **9**(5), 52](https://dx.doi.org/10.3390%2Fcancers9050052)). Inhibition of this kinase is the underlying mechanism of action of several already approved cancer drugs ([DrugBank](https://go.drugbank.com/bio_entities/BE0000767)). In this talktorial, we use the pdb structure of this kinase in complex with the small molecule inhibitor 8AM to perform an MD simulation ([RCSB](https://www.rcsb.org/structure/5ug9))."
   ]
  },
  {
   "cell_type": "markdown",
   "metadata": {
    "id": "fARXaAnzwUau"
   },
   "source": [
    "![5UG9](images/5ug9_assembly-1.jpeg)\n",
    "\n",
    "**Figure 4**: Structure of the EGFR kinase domain bound to inhibitor 8AM ([RCSB](https://www.rcsb.org/structure/5ug9))."
   ]
  },
  {
   "cell_type": "markdown",
   "metadata": {
    "id": "dkhvXl0HLgnb"
   },
   "source": [
    "## Practical\n",
    "\n",
    "We will now proceed to perform an MD simulation using the molecular dynamics engine `OpenMM`."
   ]
  },
  {
   "cell_type": "markdown",
   "metadata": {
    "id": "7I_BbH58n4h2"
   },
   "source": [
    "### Installation on Google Colab\n",
    "\n",
    "Execute the following code cell, if on Google Colab. This notebook can also be used on a local computer but requires considerable computing power."
   ]
  },
  {
   "cell_type": "code",
   "execution_count": 1,
   "metadata": {
    "colab": {
     "base_uri": "https://localhost:8080/"
    },
    "id": "K78GGT60Nu8p",
    "outputId": "5fe15048-ac77-4e5c-c136-cc13d5ae0d6f"
   },
   "outputs": [
    {
     "name": "stdout",
     "output_type": "stream",
     "text": [
      "Dependencies successfully installed!\n"
     ]
    }
   ],
   "source": [
    "import sys\n",
    "from IPython.display import clear_output\n",
    "from google.colab import files\n",
    "\n",
    "# download miniconda\n",
    "!wget -q https://repo.anaconda.com/miniconda/Miniconda3-latest-Linux-x86_64.sh\n",
    "!bash Miniconda3-latest-Linux-x86_64.sh -bfp /usr/local\n",
    "\n",
    "# install required modules\n",
    "!conda install -q -y -c conda-forge -c omnia --prefix /usr/local/ python=3.6 openmm openmmforcefields rdkit pdbfixer mdtraj pypdb\n",
    "\n",
    "# append path to enable running packages installed with conda\n",
    "sys.path.append(\"/usr/local/lib/python3.6/site-packages\")\n",
    "\n",
    "# clear the excesive installation outputs\n",
    "clear_output()\n",
    "\n",
    "print(\"Dependencies successfully installed!\")"
   ]
  },
  {
   "cell_type": "code",
   "execution_count": 2,
   "metadata": {
    "colab": {
     "base_uri": "https://localhost:8080/"
    },
    "id": "3g6vsWucLgng",
    "outputId": "1bc4ed4a-6f12-4eee-dab9-ad9f8ea3e59e"
   },
   "outputs": [
    {
     "name": "stderr",
     "output_type": "stream",
     "text": [
      "Warning: Unable to load toolkit 'OpenEye Toolkit'. The Open Force Field Toolkit does not require the OpenEye Toolkits, and can use RDKit/AmberTools instead. However, if you have a valid license for the OpenEye Toolkits, consider installing them for faster performance and additional file format support: https://docs.eyesopen.com/toolkits/python/quickstart-python/linuxosx.html OpenEye offers free Toolkit licenses for academics: https://www.eyesopen.com/academic-licensing\n"
     ]
    }
   ],
   "source": [
    "# imports\n",
    "import sys\n",
    "import copy\n",
    "from pathlib import Path\n",
    "\n",
    "from IPython.display import display\n",
    "import numpy as np\n",
    "from rdkit import Chem\n",
    "from rdkit.Chem import Draw\n",
    "from rdkit.Chem import AllChem\n",
    "from pypdb import get_pdb_file\n",
    "import mdtraj as md\n",
    "import pdbfixer\n",
    "import simtk.openmm as mm\n",
    "import simtk.openmm.app as app\n",
    "from simtk.openmm import unit\n",
    "from openforcefield.topology import Molecule, Topology\n",
    "from openmmforcefields.generators import GAFFTemplateGenerator"
   ]
  },
  {
   "cell_type": "code",
   "execution_count": 3,
   "metadata": {
    "id": "w5g1k527SexH"
   },
   "outputs": [],
   "source": [
    "# create data directory if not exists\n",
    "HERE = Path(_dh[-1])\n",
    "DATA = HERE / \"data\"\n",
    "DATA.mkdir(exist_ok=True)"
   ]
  },
  {
   "cell_type": "markdown",
   "metadata": {
    "id": "ltkfdrHvn4iI"
   },
   "source": [
    "### Download pdb file\n",
    "The python package `pypdb` allows easy access to structures stored in the protein data bank ([PDB](https://www.rcsb.org/))."
   ]
  },
  {
   "cell_type": "code",
   "execution_count": 4,
   "metadata": {
    "id": "Ecabaj2Y9kte"
   },
   "outputs": [],
   "source": [
    "pdbid = \"5ug9\"\n",
    "pdb_path = DATA / (pdbid + \".pdb\")\n",
    "pdb_file_string = get_pdb_file(pdbid, filetype='pdb', compression=False)\n",
    "with open(pdb_path, 'w') as f:\n",
    "    f.write(pdb_file_string)"
   ]
  },
  {
   "cell_type": "markdown",
   "metadata": {
    "id": "krsfBvoenaYu"
   },
   "source": [
    "### Prepare the protein ligand complex"
   ]
  },
  {
   "cell_type": "markdown",
   "metadata": {
    "id": "t3mGSg8LLgop"
   },
   "source": [
    "#### Protein preparation\n",
    "\n",
    "A crucial part for successful simulation is a correct and complete system. Pdb files from crystallographic structures often miss atoms, mainly hydrogens, and may contain non-standard residues. In this talktorial, we will use the python package `pdbfixer` to prepare the protein structure. However, co-crystallized ligands are not handled well by `pdbfixer` and will thus be prepared separately."
   ]
  },
  {
   "cell_type": "code",
   "execution_count": 5,
   "metadata": {
    "id": "pA9Vct0iNRhl"
   },
   "outputs": [],
   "source": [
    "def prepare_protein(pdb_file, ignore_missing_residues=True, ignore_terminal_missing_residues=True):\n",
    "    \"\"\"Use pdbfixer to prepare the protein from a pdb file. Hetero atoms such as ligands are \n",
    "    removed, nonstandard residues replaced and missing atoms added.\n",
    "    \n",
    "    Parameters\n",
    "    ----------\n",
    "    pdb_file: str\n",
    "        Pdb file containing the system to simulate.\n",
    "    ignore_missing_residues: bool\n",
    "        If missing residues should be ignored or built.\n",
    "    ignore_terminal_missing_residues: bool\n",
    "        If missing residues at the beginning and the end of a chain should be ignored or built.\n",
    "    \n",
    "    Returns\n",
    "    -------\n",
    "    fixer: pdbfixer.pdbfixer.PDBFixer\n",
    "        Prepared protein system.\n",
    "    \"\"\"\n",
    "    fixer = pdbfixer.PDBFixer(pdb_file)\n",
    "    fixer.removeHeterogens()  # co-crystallized ligands are unknown to pdbfixer\n",
    "    fixer.findMissingResidues()  # identify missing residues\n",
    "    if ignore_terminal_missing_residues:  # pdbfixer does a poor job in modeling missing residues\n",
    "        chains = list(fixer.topology.chains())\n",
    "        keys = fixer.missingResidues.keys()\n",
    "        for key in list(keys):\n",
    "            chain = chains[key[0]]\n",
    "            if key[1] == 0 or key[1] == len(list(chain.residues())):\n",
    "                del fixer.missingResidues[key]\n",
    "    if ignore_missing_residues:  # pdbfixer does a poor job in modeling missing residues\n",
    "        fixer.missingResidues = {}\n",
    "    fixer.findNonstandardResidues()  # find non standard residue\n",
    "    fixer.replaceNonstandardResidues()  # replace non standard residues with standard one\n",
    "    fixer.findMissingAtoms()  # find missing heavy atoms\n",
    "    fixer.addMissingAtoms()  # add missing atoms and residues\n",
    "    fixer.addMissingHydrogens(7.0)  # add missing hydrogens\n",
    "    return fixer"
   ]
  },
  {
   "cell_type": "code",
   "execution_count": 6,
   "metadata": {
    "id": "bxuyg-oxOtvn"
   },
   "outputs": [],
   "source": [
    "# prepare protein and build only missing residues within a chain\n",
    "prepared_protein = prepare_protein(str(pdb_path), ignore_missing_residues=False)"
   ]
  },
  {
   "cell_type": "markdown",
   "metadata": {
    "id": "_wR47KGjnP2O"
   },
   "source": [
    "#### Prepare ligand"
   ]
  },
  {
   "cell_type": "markdown",
   "metadata": {
    "id": "8VoOjhASZ4Jh"
   },
   "source": [
    "After preparing the protein, we turn our attention to the ligand. Again, we need to add hydrogens, but also need to make sure the bond orders are correctly assigned, since some PDB entries may contain errors. We use the python package `RDKit`, which is specialized in small molecules.\n",
    "We will provide the correct protonation state and bond orders to RDKit via a SMILES string. Uncharged isomeric SMILES strings for each co-crystallized ligand can be found in the PDB. The ligand of PDB entry [5UG9](https://www.rcsb.org/structure/5ug9) has the name [8AM](https://www.rcsb.org/ligand/8AM). If a ligand is likely to bind in its charged form or as a specific tautomer, such characteristics need to be incorporated into the SMILES string."
   ]
  },
  {
   "cell_type": "code",
   "execution_count": 7,
   "metadata": {
    "id": "si7ARKHoabal"
   },
   "outputs": [],
   "source": [
    "def prepare_ligand(pdb_file, resname, smiles):\n",
    "    \"\"\"Prepare a ligand from a pdb file via adding hydrogens and assigning bond orders. A depiction \n",
    "    of the ligand before and after preparation is rendered in 2D to allow an inspection of the \n",
    "    results. Huge thanks to @j-wags for the suggestion.\n",
    "  \n",
    "    Parameters\n",
    "    ----------\n",
    "    pdb_file: str\n",
    "       Pdb file containing the ligand of interest.\n",
    "    resname: str\n",
    "        Three character residue name of the ligand. \n",
    "    smiles : str\n",
    "        SMILES string of the ligand informing about correct protonation and bond orders.\n",
    "    \n",
    "    Returns\n",
    "    -------\n",
    "    prepared_ligand: rdkit.Chem.rdchem.Mol\n",
    "        Prepared ligand.\n",
    "    \"\"\"    \n",
    "    # split molecule\n",
    "    rdkit_mol = Chem.MolFromPDBFile(pdb_file)\n",
    "    rdkit_mol_split = Chem.rdmolops.SplitMolByPDBResidues(rdkit_mol)\n",
    "\n",
    "    # extract the ligand and remove any already present hydrogens\n",
    "    ligand = rdkit_mol_split[resname]\n",
    "    ligand = Chem.RemoveHs(ligand)\n",
    "\n",
    "    # assign bond orders from template\n",
    "    reference_mol = Chem.MolFromSmiles(smiles)\n",
    "    prepared_ligand = AllChem.AssignBondOrdersFromTemplate(reference_mol, ligand)\n",
    "    prepared_ligand.AddConformer(ligand.GetConformer(0))\n",
    "\n",
    "    # protonate ligand\n",
    "    prepared_ligand = Chem.rdmolops.AddHs(prepared_ligand, addCoords=True)\n",
    "    \n",
    "    # 2D depiction\n",
    "    ligand_2d = copy.deepcopy(ligand)\n",
    "    prepared_ligand_2d = copy.deepcopy(prepared_ligand)\n",
    "    AllChem.Compute2DCoords(ligand_2d)\n",
    "    AllChem.Compute2DCoords(prepared_ligand_2d)\n",
    "    display(Draw.MolsToGridImage([ligand_2d, prepared_ligand_2d], molsPerRow=2, legends=[\"original\", \"prepared\"]))\n",
    "    return prepared_ligand"
   ]
  },
  {
   "cell_type": "markdown",
   "metadata": {
    "id": "GkqslZRknFbq"
   },
   "source": [
    "Calling this function returns a correctly prepared ligand."
   ]
  },
  {
   "cell_type": "code",
   "execution_count": 8,
   "metadata": {
    "colab": {
     "base_uri": "https://localhost:8080/",
     "height": 217
    },
    "id": "04v75eTlcEtx",
    "outputId": "3a843ad2-86de-434d-ff4c-b860e8d0375f"
   },
   "outputs": [
    {
     "data": {
      "image/png": "[encoded data removed]",
      "text/plain": [
       "<PIL.PngImagePlugin.PngImageFile image mode=RGB size=400x200 at 0x7FF439C796A0>"
      ]
     },
     "metadata": {
      "tags": []
     },
     "output_type": "display_data"
    }
   ],
   "source": [
    "smiles = \"CCC(=O)N[C@@H]1CN(C[C@H]1F)c2nc(Nc3cn(C)nc3OC)c4ncn(C(C)C)c4n2\"\n",
    "rdkit_ligand = prepare_ligand(str(pdb_path), \"8AM\", smiles)"
   ]
  },
  {
   "cell_type": "markdown",
   "metadata": {
    "id": "NP9WekSTO5N3"
   },
   "source": [
    "### Merge protein and ligand\n",
    "\n",
    "In the next step, we want to merge the prepared protein and ligand structures using the python package `MDTraj`. MDTraj can handle the prepared protein, which is currently an OpenMM like pdbfixer molecule. For the ligand however, we need to do several conversions, since it is currently an RDKit molecule."
   ]
  },
  {
   "cell_type": "code",
   "execution_count": 9,
   "metadata": {
    "id": "UwehzZrhpDnD"
   },
   "outputs": [],
   "source": [
    "def rdkit_to_openmm(rdkit_mol, name=\"LIG\"):\n",
    "    \"\"\"Convert an RDKit molecule to an OpenMM molecule. Inspired by @hannahbrucemcdonald and @glass-w.\n",
    "    \n",
    "    Parameters\n",
    "    ----------\n",
    "    rdkit_mol: rdkit.Chem.rdchem.Mol\n",
    "        RDKit molecule to convert.\n",
    "    name: str\n",
    "        Molecule name.\n",
    "    \n",
    "    Returns\n",
    "    -------\n",
    "    omm_molecule: simtk.openmm.app.Modeller\n",
    "        OpenMM modeller object holding the molecule of interest.\n",
    "    \"\"\"\n",
    "    # convert RDKit to OpenFF\n",
    "    off_mol = Molecule.from_rdkit(rdkit_mol)\n",
    "\n",
    "    # add name for molecule\n",
    "    off_mol.name = name\n",
    "    \n",
    "    # add names for atoms\n",
    "    element_counter_dict = {}\n",
    "    for off_atom, rdkit_atom in zip(off_mol.atoms, rdkit_mol.GetAtoms()):\n",
    "        element = rdkit_atom.GetSymbol()\n",
    "        if element in element_counter_dict.keys():\n",
    "            element_counter_dict[element] += 1\n",
    "        else:\n",
    "            element_counter_dict[element] = 1\n",
    "        off_atom.name = element + str(element_counter_dict[element])\n",
    "\n",
    "    # convert from OpenFF to OpenMM\n",
    "    off_mol_topology = off_mol.to_topology()\n",
    "    mol_topology = off_mol_topology.to_openmm()\n",
    "    mol_positions = off_mol.conformers[0]\n",
    "    \n",
    "    # convert units from Ångström to Nanometers\n",
    "    for atom in mol_positions:\n",
    "        coords = atom / atom.unit\n",
    "        atom = (coords / 10.0) * unit.nanometers  # since openmm works in nm\n",
    "    \n",
    "    # combine topology and positions in modeller object\n",
    "    omm_mol = app.Modeller(mol_topology, mol_positions)\n",
    "        \n",
    "    return omm_mol"
   ]
  },
  {
   "cell_type": "code",
   "execution_count": 10,
   "metadata": {
    "id": "I77OHmv47vEN"
   },
   "outputs": [],
   "source": [
    "omm_ligand = rdkit_to_openmm(rdkit_ligand, \"8AM\")"
   ]
  },
  {
   "cell_type": "markdown",
   "metadata": {
    "id": "dqY5AE0JGIgL"
   },
   "source": [
    "Now protein and ligand are both in OpenMM like formats and can be merged with `MDTraj`."
   ]
  },
  {
   "cell_type": "code",
   "execution_count": 11,
   "metadata": {
    "id": "8gJMRq8fZYOU"
   },
   "outputs": [],
   "source": [
    "def merge_protein_and_ligand(protein, ligand):\n",
    "    \"\"\"Merge two OpenMM structures.\n",
    "  \n",
    "    Parameters\n",
    "    ----------\n",
    "    protein: pdbfixer.pdbfixer.PDBFixer\n",
    "        Protein to merge.\n",
    "    ligand: simtk.openmm.app.Modeller\n",
    "        Ligand to merge.\n",
    "    \n",
    "    Returns\n",
    "    -------\n",
    "    complex_topology: simtk.openmm.app.topology.Topology\n",
    "        The merged topology.\n",
    "    complex_positions: simtk.unit.quantity.Quantity\n",
    "        The merged positions.\n",
    "    \"\"\"\n",
    "    # combine topologies\n",
    "    md_protein_topology = md.Topology.from_openmm(protein.topology)  # using mdtraj for protein top\n",
    "    md_ligand_topology = md.Topology.from_openmm(ligand.topology)  # using mdtraj for ligand top\n",
    "    md_complex_topology = md_protein_topology.join(md_ligand_topology)  # add them together\n",
    "    complex_topology = md_complex_topology.to_openmm()\n",
    "\n",
    "    # combine positions\n",
    "    total_atoms = len(protein.positions) + len(ligand.positions)\n",
    "    \n",
    "    # create an OpenMM quantity array of right size\n",
    "    complex_positions = unit.Quantity(np.zeros([total_atoms, 3]), unit=unit.nanometers)\n",
    "    complex_positions[0: len(protein.positions)] = protein.positions  # add protein positions\n",
    "    complex_positions[len(protein.positions) + 1: total_atoms] = ligand.positions  # add ligand positions\n",
    "\n",
    "    return complex_topology, complex_positions"
   ]
  },
  {
   "cell_type": "code",
   "execution_count": 12,
   "metadata": {
    "id": "ZXmeeV0ZPOho"
   },
   "outputs": [],
   "source": [
    "complex_topology, complex_positions = merge_protein_and_ligand(prepared_protein, omm_ligand)"
   ]
  },
  {
   "cell_type": "markdown",
   "metadata": {
    "id": "2HAmjMG5Lgpd"
   },
   "source": [
    "### MD simulation set up\n",
    "\n",
    "We can now use the prepared complex to set up the MD simulation. "
   ]
  },
  {
   "cell_type": "markdown",
   "metadata": {
    "id": "1B9DRdICny_f"
   },
   "source": [
    "#### Force field\n",
    "\n",
    "Common force fields like `AMBER` have parameters for amino acids, nucleic acids, water and ions. Parameters for ligands however are not included. To generate these parameters, we can use the **G**eneral **A**MBER **F**orce**F**ield (GAFF), which is implemented in the python package `openmmforcefields`. The following function generates a force field object holding standard AMBER paramaters and additionally includes parameters for a small molecule if required."
   ]
  },
  {
   "cell_type": "code",
   "execution_count": 13,
   "metadata": {
    "id": "EFHKhU6v1k-h"
   },
   "outputs": [],
   "source": [
    "def generate_forcefield(rdkit_mol=None, protein_ff=\"amber14-all.xml\", solvent_ff=\"amber14/tip3pfb.xml\"):\n",
    "    \"\"\"Generate an OpenMM Forcefield object and register a small molecule.\n",
    "  \n",
    "    Parameters\n",
    "    ----------\n",
    "    rdkit_mol: rdkit.Chem.rdchem.Mol\n",
    "        Small molecule to register in forcefield.\n",
    "    protein_ff: string\n",
    "        Name of the forcefield.\n",
    "    solvent_ff: string\n",
    "        Name of the solvent forcefield.\n",
    "\n",
    "    Returns\n",
    "    -------\n",
    "    forcefield: simtk.openmm.app.Forcefield\n",
    "        Forcefield with registered small molecule.\n",
    "    \"\"\"\n",
    "    forcefield = app.ForceField(protein_ff, solvent_ff)\n",
    "\n",
    "    if rdkit_mol is not None:\n",
    "        gaff = GAFFTemplateGenerator(molecules=Molecule.from_rdkit(rdkit_mol))\n",
    "        forcefield.registerTemplateGenerator(gaff.generator)\n",
    "\n",
    "    return forcefield"
   ]
  },
  {
   "cell_type": "code",
   "execution_count": 14,
   "metadata": {
    "id": "5is-oVrO2Fjy"
   },
   "outputs": [],
   "source": [
    "forcefield = generate_forcefield(rdkit_ligand)"
   ]
  },
  {
   "cell_type": "markdown",
   "metadata": {
    "id": "cGrreylan6XS"
   },
   "source": [
    "#### System"
   ]
  },
  {
   "cell_type": "markdown",
   "metadata": {
    "id": "DzO12MFp2P48"
   },
   "source": [
    "With our configured force field we can now create the MD environment containing the complex and add solvent we want to simulate in."
   ]
  },
  {
   "cell_type": "code",
   "execution_count": 15,
   "metadata": {
    "colab": {
     "base_uri": "https://localhost:8080/"
    },
    "id": "c4LEvWMI8ash",
    "outputId": "22c452b8-95c2-40d8-8fae-26784056eba5"
   },
   "outputs": [
    {
     "name": "stderr",
     "output_type": "stream",
     "text": [
      "Warning: In AmberToolsToolkitwrapper.compute_partial_charges_am1bcc: Molecule '' has more than one conformer, but this function will only generate charges for the first one.\n"
     ]
    }
   ],
   "source": [
    "# add solvent\n",
    "modeller = app.Modeller(complex_topology, complex_positions)\n",
    "modeller.addSolvent(forcefield, padding=1.0 * unit.nanometers, ionicStrength=0.15 * unit.molar)"
   ]
  },
  {
   "cell_type": "markdown",
   "metadata": {
    "id": "TwAEe5d8n4jf"
   },
   "source": [
    "With our solvated system and forcefield we can finally create an OpenMM system and set up the simulation."
   ]
  },
  {
   "cell_type": "code",
   "execution_count": 16,
   "metadata": {
    "id": "n52Cmkr4dpI-"
   },
   "outputs": [],
   "source": [
    "system = forcefield.createSystem(modeller.topology, nonbondedMethod=app.PME)\n",
    "integrator = mm.LangevinIntegrator(300 * unit.kelvin, 1.0 / unit.picoseconds, 2.0 * unit.femtoseconds)\n",
    "simulation = app.Simulation(modeller.topology, system, integrator)\n",
    "simulation.context.setPositions(modeller.positions)"
   ]
  },
  {
   "cell_type": "markdown",
   "metadata": {
    "id": "JwEgrFkILgqL"
   },
   "source": [
    "### Perform the MD simulation\n",
    "Now that everything is set-up we can perform the simulation. We need to set starting positions and minimize the energy of the system to get a low energy starting configuration, which is important to decrease the chance of simulation failures due to severe atom clashes. The energy minimized system is saved.\n",
    "\n",
    "Once the minimization has finished, we can perform the MD simulation. In this talktorial, we will simulate 100 ps of molecular dynamics corresponding to 50k steps of 2 fs each. We save molecular \"snapshots\" every 10 ps (5000 steps), for a total of 10 frames. The results are saved in an .xtc file, which contains the coordinates of all the atoms at a given time point. Together with the pdb file of the energy minimized system written before, it gives us all the information needed for later analysis."
   ]
  },
  {
   "cell_type": "code",
   "execution_count": 17,
   "metadata": {
    "id": "EgkE1EUGLgqP"
   },
   "outputs": [],
   "source": [
    "# minimize energy\n",
    "simulation.minimizeEnergy()\n",
    "# write out minimized system\n",
    "with open(DATA / \"topology.pdb\", \"w\") as pdb_file:\n",
    "    app.PDBFile.writeFile(simulation.topology,\n",
    "                      simulation.context.getState(getPositions=True, enforcePeriodicBox=True).getPositions(),\n",
    "                      file=pdb_file,\n",
    "                      keepIds=True)"
   ]
  },
  {
   "cell_type": "code",
   "execution_count": 18,
   "metadata": {
    "id": "E8t-0ZxFLgqh"
   },
   "outputs": [],
   "source": [
    "# output settings\n",
    "steps = 50000  # corresponds to 100 ps\n",
    "write_interval = 5000  # write every 10 ps\n",
    "log_interval = 2500  # log progress to stdout every 5 ps\n",
    "simulation.reporters.append(md.reporters.XTCReporter(file=str(DATA / \"trajectory.xtc\"), reportInterval=write_interval))\n",
    "simulation.reporters.append(app.StateDataReporter(sys.stdout, log_interval, step=True, potentialEnergy=True, \n",
    "                                                  temperature=True, progress=True, remainingTime=True,\n",
    "                                                  speed=True, totalSteps=steps, separator='\\t'))"
   ]
  },
  {
   "cell_type": "code",
   "execution_count": 19,
   "metadata": {
    "colab": {
     "base_uri": "https://localhost:8080/"
    },
    "id": "7B7AiVO3fr03",
    "outputId": "e0ab8a03-3116-47d8-8a9e-81b17493cf5a"
   },
   "outputs": [
    {
     "name": "stdout",
     "output_type": "stream",
     "text": [
      "#\"Progress (%)\"\t\"Step\"\t\"Potential Energy (kJ/mole)\"\t\"Temperature (K)\"\t\"Speed (ns/day)\"\t\"Time Remaining\"\n",
      "5.0%\t2500\t-915088.3484301772\t295.7316416446826\t0\t--\n",
      "10.0%\t5000\t-912464.8484301772\t298.38414040198955\t110\t1:10\n",
      "15.0%\t7500\t-911151.3484301772\t301.4804474306923\t110\t1:06\n",
      "20.0%\t10000\t-913068.3484301772\t300.7353585955218\t109\t1:03\n",
      "25.0%\t12500\t-911820.3484301772\t300.9588310893395\t109\t0:59\n",
      "30.0%\t15000\t-911519.5984301772\t299.0045332167148\t109\t0:55\n",
      "35.0%\t17500\t-912271.8484301772\t299.1659234204909\t109\t0:51\n",
      "40.0%\t20000\t-912527.8484301772\t297.221515990635\t108\t0:47\n",
      "45.0%\t22500\t-910494.3484301772\t299.33508756366723\t108\t0:44\n",
      "50.0%\t25000\t-911382.3484301772\t300.28793968091406\t108\t0:40\n",
      "55.0%\t27500\t-912857.8484301772\t300.21514172849476\t107\t0:36\n",
      "60.0%\t30000\t-911449.8484301772\t300.64461170201076\t107\t0:32\n",
      "65.0%\t32500\t-909814.3484301772\t298.34525156824196\t107\t0:28\n",
      "70.0%\t35000\t-912905.0984301772\t300.8875586074726\t106\t0:24\n",
      "75.0%\t37500\t-913089.3484301772\t298.12128676141845\t106\t0:20\n",
      "80.0%\t40000\t-910665.3484301772\t303.2951220172129\t106\t0:16\n",
      "85.0%\t42500\t-913622.0984301772\t301.3051971178307\t106\t0:12\n",
      "90.0%\t45000\t-912527.8484301772\t299.54449575072834\t105\t0:08\n",
      "95.0%\t47500\t-911769.3484301772\t299.06750622631967\t105\t0:04\n",
      "100.0%\t50000\t-911492.5984301772\t301.31587934621325\t105\t0:00\n"
     ]
    }
   ],
   "source": [
    "# set random velocities\n",
    "simulation.context.setVelocitiesToTemperature(300 * unit.kelvin)\n",
    "# perform the simulation\n",
    "simulation.step(steps)"
   ]
  },
  {
   "cell_type": "markdown",
   "metadata": {
    "id": "M_Wf2prXqoif"
   },
   "source": [
    "### Download results\n",
    "\n",
    "You can execute the following cell if on Google Colab to download the MD simulation results."
   ]
  },
  {
   "cell_type": "code",
   "execution_count": 20,
   "metadata": {
    "colab": {
     "base_uri": "https://localhost:8080/",
     "height": 17
    },
    "id": "FfcMX8G1i0RY",
    "outputId": "fe60c67f-9647-46f2-d023-2a27e83241c6"
   },
   "outputs": [
    {
     "data": {
      "application/javascript": [
       "\n",
       "    async function download(id, filename, size) {\n",
       "      if (!google.colab.kernel.accessAllowed) {\n",
       "        return;\n",
       "      }\n",
       "      const div = document.createElement('div');\n",
       "      const label = document.createElement('label');\n",
       "      label.textContent = `Downloading \"${filename}\": `;\n",
       "      div.appendChild(label);\n",
       "      const progress = document.createElement('progress');\n",
       "      progress.max = size;\n",
       "      div.appendChild(progress);\n",
       "      document.body.appendChild(div);\n",
       "\n",
       "      const buffers = [];\n",
       "      let downloaded = 0;\n",
       "\n",
       "      const channel = await google.colab.kernel.comms.open(id);\n",
       "      // Send a message to notify the kernel that we're ready.\n",
       "      channel.send({})\n",
       "\n",
       "      for await (const message of channel.messages) {\n",
       "        // Send a message to notify the kernel that we're ready.\n",
       "        channel.send({})\n",
       "        if (message.buffers) {\n",
       "          for (const buffer of message.buffers) {\n",
       "            buffers.push(buffer);\n",
       "            downloaded += buffer.byteLength;\n",
       "            progress.value = downloaded;\n",
       "          }\n",
       "        }\n",
       "      }\n",
       "      const blob = new Blob(buffers, {type: 'application/binary'});\n",
       "      const a = document.createElement('a');\n",
       "      a.href = window.URL.createObjectURL(blob);\n",
       "      a.download = filename;\n",
       "      div.appendChild(a);\n",
       "      a.click();\n",
       "      div.remove();\n",
       "    }\n",
       "  "
      ],
      "text/plain": [
       "<IPython.core.display.Javascript object>"
      ]
     },
     "metadata": {
      "tags": []
     },
     "output_type": "display_data"
    },
    {
     "data": {
      "application/javascript": [
       "download(\"download_60f35d36-0bba-4533-8e3b-977b08e1877c\", \"topology.pdb\", 4616423)"
      ],
      "text/plain": [
       "<IPython.core.display.Javascript object>"
      ]
     },
     "metadata": {
      "tags": []
     },
     "output_type": "display_data"
    },
    {
     "data": {
      "application/javascript": [
       "\n",
       "    async function download(id, filename, size) {\n",
       "      if (!google.colab.kernel.accessAllowed) {\n",
       "        return;\n",
       "      }\n",
       "      const div = document.createElement('div');\n",
       "      const label = document.createElement('label');\n",
       "      label.textContent = `Downloading \"${filename}\": `;\n",
       "      div.appendChild(label);\n",
       "      const progress = document.createElement('progress');\n",
       "      progress.max = size;\n",
       "      div.appendChild(progress);\n",
       "      document.body.appendChild(div);\n",
       "\n",
       "      const buffers = [];\n",
       "      let downloaded = 0;\n",
       "\n",
       "      const channel = await google.colab.kernel.comms.open(id);\n",
       "      // Send a message to notify the kernel that we're ready.\n",
       "      channel.send({})\n",
       "\n",
       "      for await (const message of channel.messages) {\n",
       "        // Send a message to notify the kernel that we're ready.\n",
       "        channel.send({})\n",
       "        if (message.buffers) {\n",
       "          for (const buffer of message.buffers) {\n",
       "            buffers.push(buffer);\n",
       "            downloaded += buffer.byteLength;\n",
       "            progress.value = downloaded;\n",
       "          }\n",
       "        }\n",
       "      }\n",
       "      const blob = new Blob(buffers, {type: 'application/binary'});\n",
       "      const a = document.createElement('a');\n",
       "      a.href = window.URL.createObjectURL(blob);\n",
       "      a.download = filename;\n",
       "      div.appendChild(a);\n",
       "      a.click();\n",
       "      div.remove();\n",
       "    }\n",
       "  "
      ],
      "text/plain": [
       "<IPython.core.display.Javascript object>"
      ]
     },
     "metadata": {
      "tags": []
     },
     "output_type": "display_data"
    },
    {
     "data": {
      "application/javascript": [
       "download(\"download_829659eb-c4c2-4493-8c39-11e78949f66d\", \"trajectory.xtc\", 2123840)"
      ],
      "text/plain": [
       "<IPython.core.display.Javascript object>"
      ]
     },
     "metadata": {
      "tags": []
     },
     "output_type": "display_data"
    }
   ],
   "source": [
    "files.download(DATA / \"topology.pdb\")\n",
    "files.download(DATA / \"trajectory.xtc\")"
   ]
  },
  {
   "cell_type": "markdown",
   "metadata": {
    "id": "aAleBNfKyhCd"
   },
   "source": [
    "### Discussion\n",
    "\n",
    "We have successfully performed an MD simulation of a protein ligand complex. However, we simulated only a considerably short time to keep the execution time of the talktorial short. To address critical questions in drug design, longer simulation times in the µs scale are often required. Also, we did not include an equilibration step, which is commenly used to slowly heat up the system from 0 to 300 K before starting the simulation and might be important when simulating more sensitive systems including lipid bilayers. The protonation of ligand and protein was done seperately, which is suboptimal, since protonation states of protein residues and ligand affect each other. However, we did not find a free and open-source solution meeting all requirements. Suggestions are very welcome!\n",
    "\n",
    "\n",
    "If you want to learn how to visualize analyze the trajectory, you can refer to the next notebook in this repository."
   ]
  }
 ],
 "metadata": {
  "accelerator": "GPU",
  "colab": {
   "collapsed_sections": [],
   "name": "talktorial.ipynb",
   "provenance": [],
   "toc_visible": true
  },
  "kernelspec": {
   "display_name": "Python 3",
   "language": "python",
   "name": "python3"
  },
  "language_info": {
   "codemirror_mode": {
    "name": "ipython",
    "version": 3
   },
   "file_extension": ".py",
   "mimetype": "text/x-python",
   "name": "python",
   "nbconvert_exporter": "python",
   "pygments_lexer": "ipython3",
   "version": "3.6.11"
  }
 },
 "nbformat": 4,
 "nbformat_minor": 4
}
