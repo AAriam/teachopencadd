{
  "nbformat": 4,
  "nbformat_minor": 0,
  "metadata": {
    "accelerator": "GPU",
    "colab": {
      "name": "T09_MD_sim.ipynb",
      "provenance": [],
      "collapsed_sections": [],
      "toc_visible": true
    },
    "kernelspec": {
      "display_name": "Python 3",
      "language": "python",
      "name": "python3"
    },
    "language_info": {
      "codemirror_mode": {
        "name": "ipython",
        "version": 3
      },
      "file_extension": ".py",
      "mimetype": "text/x-python",
      "name": "python",
      "nbconvert_exporter": "python",
      "pygments_lexer": "ipython3",
      "version": "3.6.10"
    }
  },
  "cells": [
    {
      "cell_type": "markdown",
      "metadata": {
        "id": "Rc3gPsMdLgmK"
      },
      "source": [
        "# Talktorial T09\n",
        "# Molecular Dynamics simulation of SARS Cov2 main protease in complex with inhibitor\n",
        "\n",
        "#### CADD Seminar 2020, AG Volkamer, Charité/FU Berlin \n",
        "\n",
        "#### Pietro Gerletti\n",
        "\n",
        "Berlin, June 2020"
      ]
    },
    {
      "cell_type": "markdown",
      "metadata": {
        "id": "ehs-GJfkwUap"
      },
      "source": [
        "# ---------------------------------------- DISCLAIMER ----------------------------------------\n",
        "\n",
        "The notebook presented here is designed to be run on Google Colab. It is possible to run it on a normal laptop, if sufficient computational power is available, preferably on a GPU."
      ]
    },
    {
      "cell_type": "markdown",
      "metadata": {
        "id": "mNvsYi3OLgmU"
      },
      "source": [
        "# Learning goals\n",
        "\n",
        "\n",
        "## Theory\n",
        "\n",
        "\n",
        "* SARS-CoV-2 main protease and relevance for drug discovery\n",
        "* Molecular dynamics\n",
        "* Force fields\n",
        "\n",
        "## Practical\n",
        "\n",
        "* Step 0 - Set up for Google Colab\n",
        "* Step 1 - Load PDB \n",
        "* Step 2 - Fix the PDB \n",
        "* Step 3 - Set up the MD simulation\n",
        "* Step 4 - Run the simulation\n",
        "\n",
        "# References\n",
        "\n",
        "* De Vivo M, Masetti M, Bottegoni G, Cavalli A. Role of Molecular Dynamics and Related Methods in Drug Discovery. J Med Chem. 2016;59(9):4035‐4061. doi:10.1021/acs.jmedchem.5b01684\n",
        "\n",
        "* Sereina Riniker, Fixed-Charge Atomistic Force Fields for Molecular Dynamics Simulations in the Condensed Phase: An Overview. Journal of Chemical Information and Modeling 2018 58 (3), 565-578, DOI:10.1021/acs.jcim.8b00042 \n",
        "\n",
        "* Mesecar A.D., A taxonomically-driven approach to development of potent, broad-spectrum inhibitors of coronavirus main protease including SARS-CoV-2 (COVID-19)\n",
        "\n",
        "* Marina Macchiagodena, Marco Pagliai, Piero Procacci, Identification of potential binders of the main protease 3CLpro of the COVID-19 via structure-based ligand design and molecular modeling,Chemical Physics Letters, Volume 750,2020, https://doi.org/10.1016/j.cplett.2020.137489.\n",
        "\n",
        "* P. S. de Laplace. Oeuvres Complètes de Laplace. Théorie Analytique des Probabilités, volume VII Gauthier-Villars, Paris, France, 3 edition, 1820.\n",
        "\n",
        "* Schlick T. (1996) Pursuing Laplace’s Vision on Modern Computers. In: Mesirov J.P., Schulten K., Sumners D.W. (eds) Mathematical Approaches to Biomolecular Structure and Dynamics. The IMA Volumes in Mathematics and its Applications, vol 82. Springer, New York, NY\n",
        "\n",
        "\n",
        "\n",
        "\n",
        "* https://github.com/openmm/openmmforcefields\n",
        "* https://github.com/jaimergp/uab-msc-bioinf/blob/master/MD%20Simulation%20and%20Analysis%20in%20a%20Notebook.ipynb\n",
        "* http://htmlpreview.github.io/?https://raw.github.com/pandegroup/pdbfixer/master/Manual.html\n",
        "* https://en.wikipedia.org/wiki/AMBER\n",
        "* https://en.wikipedia.org/wiki/Force_field_(chemistry)"
      ]
    },
    {
      "cell_type": "markdown",
      "metadata": {
        "id": "WpSLhe8ZLgmd"
      },
      "source": [
        "# Theory"
      ]
    },
    {
      "cell_type": "markdown",
      "metadata": {
        "id": "ffIAyMqdwUat"
      },
      "source": [
        "The main focus of this notebook will be on how to perform molecular dynamics (MD) simulations of protein, using the main protease of SARS-CoV-2 in complex with the X77 inhibitor. Nevertheless a short introduction to the protein and its relevance in drug discovery are give below, before focusing on MD and force fields. \n",
        "\n",
        "## Main protease of SARS-CoV-2 \n",
        "\n",
        "SARS-CoV-2 genome encodes, between others, polyproteins that are cleaved and tansformed in non-structural proteins by proteases. These non-structural proteins play a fundamental role in the pathogenesis and blocking their production could significally hinder the virulence of SARS-CoV-2. A possible way of doing do is to inhibit the viral proteases needed for the correct folding of the non-structural proteins. This makes the main protease of SARS-CoV-2 a candidate target for the development of a much needed antiviral drug. Here we used the pdb structure of the protease in complex with the inhibitor X77 (shown below) provided by Mesecar (2020) to perform a MD simulation, providing a 1 ns molecular trajactory. "
      ]
    },
    {
      "cell_type": "markdown",
      "metadata": {
        "id": "fARXaAnzwUau"
      },
      "source": [
        "![SARS-CoV-2](https://cdn.rcsb.org/images/rutgers/w6/6w63/6w63.pdb1-500.jpg)"
      ]
    },
    {
      "cell_type": "markdown",
      "metadata": {
        "id": "M-A4u9NxwUav"
      },
      "source": [
        "## The X77 ligand\n",
        "\n",
        "The molecular structure of the ligand X77, which shows inhibiting properties when in complex with the SARS-CoV-2 main protease, is shown below (fetched from SMILES)."
      ]
    },
    {
      "cell_type": "markdown",
      "metadata": {
        "id": "lxhBZyifLgmm"
      },
      "source": [
        "## Molecular dynamics"
      ]
    },
    {
      "cell_type": "markdown",
      "metadata": {
        "id": "svQEDsBCwUa5"
      },
      "source": [
        "MD is a computational method for analyzing how the atoms and molecules of a system move and interact with each other. The method stems from theoretical physics, where it was developed in the years around 1950, although the ideas behind it can be dated much earlier:\n",
        "\n",
        "#### \"An intelligence which could, at  any moment, comprehend all the forces by  which nature is animated and the  respective positions of the  beings of which it is  composed, and moreover, if this intelligence were far-reaching enough to subject these data to  analysis, it would encompass in that formula both the movements of the  largest bodies in  the universe and those of the lightest atom: to it nothing would be uncertain, and the  future, as well as the past, would be present to its eyes. The human mind offers us, in the perfection which it has  given to  astronomy, a faint sketch of this intelligence.\"\n",
        "\n",
        "#### - Pierre Simon de Laplace, 1820 A.D.\n",
        "\n",
        "Well, without entering the much-off-topic discussion about wheter it is possible to actually predict every future state of a system by knowing EVERYTHING about its components and the laws governing it (which would take us through discussing chaos and randomness in mathematical phylosophy up to relativity vs quantum physics and beyond... but if you are interested in the topic(s), here is a very interestig documentary https://www.youtube.com/watch?v=XDpurdHKpb8), let us just take this statement by de Laplace as the ideological substrate underneath molecular dynamics simulations. In other terms, we can approximate the behaviour of a physical system by knowing the characteristics of its components and applying Newton's motion laws. By solving the equations of motion, we can obtain a molecular trajectory of the system, i.e. a series of snapshots with the positions and velocities of all its particles, as well as its potential energy. To do so, we define functions, called force fields, which provide an approximate description of all the forces applied to each particle in the system. We then can use numerical integrators to solve the initial value problem for the system and obtain the trajectory. As it sounds, the process requires quite a bit of processing power and it was only few years ago that MD started seeing a more widespread use, especially in the field of computational chemistry and biology, as well as in drug discovery. To get a better idea about how the process works, here it is a GIF showing a MD simulation of a molecular motor."
      ]
    },
    {
      "cell_type": "markdown",
      "metadata": {
        "id": "yXlInBPrwUa6"
      },
      "source": [
        "<p><a href=\"https://commons.wikimedia.org/wiki/File:MD_rotor_250K_1ns.gif#/media/File:MD_rotor_250K_1ns.gif\"><img src=\"https://upload.wikimedia.org/wikipedia/commons/b/b6/MD_rotor_250K_1ns.gif\" alt=\"MD rotor 250K 1ns.gif\"></a><br>By Palma, C.-A.; Kühne, D.; Klappenberger, F.; Barth, J.V. - Technische Universität München, Public Domain, <a href=\"https://commons.wikimedia.org/w/index.php?curid=34866205\">Link</a></p>"
      ]
    },
    {
      "cell_type": "markdown",
      "metadata": {
        "id": "plElNr9RwUa7"
      },
      "source": [
        "We will now dig a bit deeper in the equations behind MD, the force fields, to gain a better undestanding how what we will be doing in the practical part."
      ]
    },
    {
      "cell_type": "markdown",
      "metadata": {
        "id": "8-uCG3KPwUa8"
      },
      "source": [
        "## Force fields\n",
        "\n"
      ]
    },
    {
      "cell_type": "markdown",
      "metadata": {
        "id": "W-MkHS4R5lNL"
      },
      "source": [
        "Since I started the previous section with a fancy citation, it seemed fair to me to keep it up:\n",
        "\n",
        "  ### \"The force is strong with this one\"\n",
        "\n",
        " <img src=\"https://encrypted-tbn0.gstatic.com/images?q=tbn%3AANd9GcQ8cX8WaivCV9VcoqkuJ34KfUuRadnpP2nZGw&usqp=CAU\" width=\"200\" height=\"200\">\n",
        "\n",
        "  #### - Darth Vader talking about X77\n",
        "\n",
        "And that's about it. Just ask Vader."
      ]
    },
    {
      "cell_type": "markdown",
      "metadata": {
        "id": "NC8t-i-cwUbB"
      },
      "source": [
        "Force jokes a(dark)side, force fields describe the forces between the atoms whithin the molecules and between the molecules themselves. They are parametric equations with different components, each corresponding to a precise interaction (e.g. bond torsion angles, steric hindrance, etc.). The parameters values are usually derived experimentally and change for each MD scenario, depending on the molecules involved and the simulations settings. The result is a mathematical description of the energy landcape of the system, in which the forces acting on each particle result from the gradient of the potential energy with respect to the coordinates of the atoms.\n",
        "\n",
        "A lot of different force fields are available, each with its own charachteristics. In this notebook, we will use the AMBER force fields, which are widely used for MD simulations of proteins. Their functional form is:\n",
        "\n",
        " <img src=\"https://wikimedia.org/api/rest_v1/media/math/render/svg/fdc7cf40fe4d2f568921977c83e49f699d780e92\" width=\"500\" height=\"500\">\n",
        " <img src=\"https://wikimedia.org/api/rest_v1/media/math/render/svg/2d244cd7f2e174af73dfc1e4dd0b37083115b690\" width=\"500\" height=\"200\">"
      ]
    },
    {
      "cell_type": "markdown",
      "metadata": {
        "id": "pjSsc4l-wUbB"
      },
      "source": [
        "From the formula you can see there are different components, each describing a different interaction: the first two contain information about bonds lenght and their angles (intramolecular forces), while the third component describes intermolecular forces as the electrostatic interactions. Note that these force fields assume fixed-charge particles and do not allow polarization, nor they consider how a local charge influences its surroundings. It follows a visual representation of force fields components, which shows the same concepts in a more intuitive way."
      ]
    },
    {
      "cell_type": "markdown",
      "metadata": {
        "id": "6aDDjIqYwUbC"
      },
      "source": [
        "<p><a href=\"https://commons.wikimedia.org/wiki/File:MM_PEF.png#/media/File:MM_PEF.png\"><img src=\"https://upload.wikimedia.org/wikipedia/commons/thumb/5/5c/MM_PEF.png/1200px-MM_PEF.png\" width=400 height=400  alt=\"MM PEF.png\"></a><br>By <a href=\"//commons.wikimedia.org/w/index.php?title=User:Edboas&amp;action=edit&amp;redlink=1\" class=\"new\" title=\"User:Edboas (page does not exist)\">Edboas</a> - <span class=\"int-own-work\" lang=\"en\">Own work</span>, <a href=\"https://creativecommons.org/licenses/by-sa/3.0\" title=\"Creative Commons Attribution-Share Alike 3.0\">CC BY-SA 3.0</a>, <a href=\"https://commons.wikimedia.org/w/index.php?curid=4194424\">Link</a></p>"
      ]
    },
    {
      "cell_type": "markdown",
      "metadata": {
        "id": "xefD3p0TwUbD"
      },
      "source": [
        "After selecting a force field to run the MD with, the equation needs to be parametrized according to the specific scenario we wish to simulate. In this process, an algorithm will fetch the parameters needed (in this case we rely on `openforcefields`), taking into account the simulation settings. Usually the process involves these basic steps (but it can vary):\n",
        "\n",
        "* fetch the crystal structure/chemical formula\n",
        "* define atom types\n",
        "* get atomic charges\n",
        "* assign initial Lennard-Jones and bond parameters \n",
        "* test density and geometry (reference data)\n",
        "* test energetic properties (surface and hydration energy - compare with reference data)\n",
        "\n",
        "Once the force field is parametrized, the simulation basically consists in solving a differential equations system and saving the resulting trajectory."
      ]
    },
    {
      "cell_type": "markdown",
      "metadata": {
        "id": "5ox72nSHwUbE"
      },
      "source": [
        "Wrapping up, molecular dynamics simulate the trajectory of a physico-chemical system by using force fields to describe the interactions between each atom in the system, applying classical physics' law of motions and solving the equations by employing numerical methods that take advantage of the high performance processors of modern computers. This means no statistical mechanics nor quantum physics knowledge is included in the method, although there is ongoing reserach in the field of quantum force fields. Surprisingly, such deterministic, classical-physics-based description of a physico-chemical system works well enough to provide us with useful insights into what happens at a spatiotemporally not observable scale."
      ]
    },
    {
      "cell_type": "markdown",
      "metadata": {
        "id": "dkhvXl0HLgnb"
      },
      "source": [
        "# Practical\n",
        "\n",
        "We will now proceed to implement a simple MD simulation using `openmm` and `openforcefields` on Google Colab. There are four funtamental steps needed to set up and run the simulation, plus an extra pre-step (step 0) needed to set up the notebook on Google Colab (done at the beginning)."
      ]
    },
    {
      "cell_type": "markdown",
      "metadata": {
        "id": "DWYT67p1Nvrm"
      },
      "source": [
        "## Step 0 - Google Colab set up "
      ]
    },
    {
      "cell_type": "code",
      "metadata": {
        "id": "K78GGT60Nu8p"
      },
      "source": [
        "import sys\n",
        "# Download miniconda\n",
        "!wget -q https://repo.anaconda.com/miniconda/Miniconda3-latest-Linux-x86_64.sh\n",
        "!bash Miniconda3-latest-Linux-x86_64.sh -bfp /usr/local\n",
        "# install required modules\n",
        "!conda install -q -y -c omnia --prefix /usr/local/ python=3.6 openmm;\n",
        "!conda install -q -y -c omnia -c conda-forge --prefix /usr/local/ python=3.6 openmmforcefields;\n",
        "!conda install -q -y -c omnia -c conda-forge --prefix /usr/local/ python=3.6 rdkit;\n",
        "!conda install -q -y -c omnia -c conda-forge --prefix /usr/local/ python=3.6 pdbfixer;\n",
        "!conda install -q -y -c omnia -c conda-forge --prefix /usr/local/ python=3.6 mdtraj;\n",
        "# Append path to enable running packages installed with conda\n",
        "sys.path.append('/usr/local/lib/python3.6/site-packages')\n",
        "\n",
        "#Clear the excesive installation outputs\n",
        "from IPython.display import clear_output\n",
        "clear_output()"
      ],
      "execution_count": 1,
      "outputs": []
    },
    {
      "cell_type": "markdown",
      "metadata": {
        "id": "yikvMH3ig7ux"
      },
      "source": [
        "## Step 1 - PDB file upload\n",
        "\n",
        "After setting up Google Colab, we need a file to work with. First, we import all needed packages and upload the topology file(s) containing our system.\n",
        "In this case, we will run the simulation on the SARS-CoV-2 main protease in complex with an inhibitor. "
      ]
    },
    {
      "cell_type": "code",
      "metadata": {
        "id": "3g6vsWucLgng",
        "outputId": "683cfd5a-e9f6-4e2e-f8f2-665f61f779b7",
        "colab": {
          "base_uri": "https://localhost:8080/"
        }
      },
      "source": [
        "# imports\n",
        "import io\n",
        "\n",
        "import mdtraj as md\n",
        "import numpy as np\n",
        "import parmed as chem\n",
        "import parmed.unit as u\n",
        "import simtk.openmm as mm\n",
        "import simtk.openmm.app as app\n",
        "from simtk.openmm import unit\n",
        "from simtk.openmm.app import CheckpointReporter, ForceField, PDBFile\n",
        "from openforcefield.topology import Molecule, Topology\n",
        "from openmmforcefields.generators import GAFFTemplateGenerator\n",
        "from google.colab import files\n",
        "\n",
        "\n",
        "import pdbfixer\n",
        "from rdkit import Chem\n",
        "from rdkit.Chem import AllChem"
      ],
      "execution_count": 2,
      "outputs": [
        {
          "output_type": "stream",
          "text": [
            "Warning: Unable to load toolkit 'OpenEye Toolkit'. The Open Force Field Toolkit does not require the OpenEye Toolkits, and can use RDKit/AmberTools instead. However, if you have a valid license for the OpenEye Toolkits, consider installing them for faster performance and additional file format support: https://docs.eyesopen.com/toolkits/python/quickstart-python/linuxosx.html OpenEye offers free Toolkit licenses for academics: https://www.eyesopen.com/academic-licensing\n"
          ],
          "name": "stderr"
        }
      ]
    },
    {
      "cell_type": "code",
      "metadata": {
        "id": "n9RiGBfPz_hG",
        "outputId": "ff675b20-d29b-4933-a9e4-dd60bf688df0",
        "colab": {
          "resources": {
            "http://localhost:8080/nbextensions/google.colab/files.js": {
              "data": "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",
              "ok": true,
              "headers": [
                [
                  "content-type",
                  "application/javascript"
                ]
              ],
              "status": 200,
              "status_text": ""
            }
          },
          "base_uri": "https://localhost:8080/",
          "height": 72
        }
      },
      "source": [
        "uploaded = files.upload()"
      ],
      "execution_count": 3,
      "outputs": [
        {
          "output_type": "display_data",
          "data": {
            "text/html": [
              "\n",
              "     <input type=\"file\" id=\"files-dd2de6f6-d9cd-4f51-96f9-53e83e19e8c5\" name=\"files[]\" multiple disabled\n",
              "        style=\"border:none\" />\n",
              "     <output id=\"result-dd2de6f6-d9cd-4f51-96f9-53e83e19e8c5\">\n",
              "      Upload widget is only available when the cell has been executed in the\n",
              "      current browser session. Please rerun this cell to enable.\n",
              "      </output>\n",
              "      <script src=\"/nbextensions/google.colab/files.js\"></script> "
            ],
            "text/plain": [
              "<IPython.core.display.HTML object>"
            ]
          },
          "metadata": {
            "tags": []
          }
        },
        {
          "output_type": "stream",
          "text": [
            "Saving 6w63.pdb to 6w63.pdb\n"
          ],
          "name": "stdout"
        }
      ]
    },
    {
      "cell_type": "code",
      "metadata": {
        "id": "LcgfVjZTOjah"
      },
      "source": [
        "pdb = \"6w63.pdb\" #Name of the pdb file\n",
        "ligand_name = \"X77\""
      ],
      "execution_count": 4,
      "outputs": []
    },
    {
      "cell_type": "markdown",
      "metadata": {
        "id": "t3mGSg8LLgop"
      },
      "source": [
        "## Step 2 - fix PDB file for missing atoms and residues\n",
        "\n",
        "One crucial part to a successful simulation is a correct and complete system.\n",
        "Thus, we need to repair our structure. Several options are available, a common one in python being the package `pdbfixer`. We use it to fix our residues and also remove heterogens, which are any atoms not directly linked to the protein structure. This will remove our ligand as well, but we will add it back later.\n",
        "We will also skip the protonation of the protein for now, since it is better done in complex with the ligand later on."
      ]
    },
    {
      "cell_type": "code",
      "metadata": {
        "id": "pA9Vct0iNRhl"
      },
      "source": [
        "def fix_pdb_protein(pdb_file):\n",
        "  \"\"\"Uses pdbfixer to repair and prepare a pdb file.\n",
        "  Hetatoms are removed, nonstandard resiudes replaced and missing atoms added.\n",
        "  \n",
        "  Parameters\n",
        "  ----------\n",
        "  pdb_file : str\n",
        "    uploaded pdb file containing a simulateable system\n",
        "    \n",
        "  Returns\n",
        "  -------\n",
        "  fixer : pdbfixer.pdbfixer.PDBFixer\n",
        "    fixed protein system\n",
        "  \"\"\"\n",
        "  fixer = pdbfixer.PDBFixer(pdb_file) #fix pdb\n",
        "  fixer.removeHeterogens()\n",
        "  fixer.findMissingResidues() # find missing residues\n",
        "  fixer.missingResidues = {} #set the \n",
        "  fixer.findNonstandardResidues() # find non standard residue#\n",
        "  fixer.replaceNonstandardResidues()# replace non standard residues with standard one\n",
        "  fixer.findMissingAtoms() # find missing heavy atoms\n",
        "  fixer.addMissingAtoms() # add missing atoms and residues\n",
        "  return fixer"
      ],
      "execution_count": 5,
      "outputs": []
    },
    {
      "cell_type": "code",
      "metadata": {
        "id": "bxuyg-oxOtvn"
      },
      "source": [
        "fixed_protein = fix_pdb_protein(pdb)"
      ],
      "execution_count": 6,
      "outputs": []
    },
    {
      "cell_type": "markdown",
      "metadata": {
        "id": "8VoOjhASZ4Jh"
      },
      "source": [
        "Most libraries handle proteins rather well, but fixing small molecules like ligands is a different task.\n",
        "Thus we have to seperately protonate our ligand before adding it back to the complex.\n",
        "We use RDKit, which specialises in small molecules.\n",
        "To correctly add hydrogens, RDKit needs bond-orders.Those are not generally included in pdb files, thus we need to assign some from a template. In this case a smiles string is used.\n",
        "We wrap the entire procedure in one function. \n"
      ]
    },
    {
      "cell_type": "code",
      "metadata": {
        "id": "si7ARKHoabal"
      },
      "source": [
        "def protonate_ligand(pdb_file, ligand_resname, ligand_smiles):\n",
        "  \"\"\"Protonate a ligand molecule with RDKit. The ligand is extracted from a complex system.\n",
        "  A smiles string represantation is used as template for bond order assignment.\n",
        "  \n",
        "  Parameters\n",
        "  ----------\n",
        "  pdb_file : str\n",
        "    uploaded pdb file containing a simulateable system\n",
        "  ligand_name :str\n",
        "  ligand_simles : str\n",
        "    smiles representation of ligand to be used as template\n",
        "    \n",
        "  Returns\n",
        "  -------\n",
        "  fixer : rdkit.Chem.rdchem.Mol\n",
        "    protonated ligand\n",
        "  \"\"\"\n",
        "  #Split the molecule\n",
        "  rdkit_mol = Chem.MolFromPDBFile(pdb_file)\n",
        "  rdkit_mol_split = Chem.rdmolops.SplitMolByPDBResidues(rdkit_mol)\n",
        "\n",
        "  #Extract Ligand and remove any already present hydrogens\n",
        "  lig_mol_wo_bond_orders = Chem.RemoveHs(rdkit_mol_split[ligand_resname])\n",
        "\n",
        "  #Assign bond orders from template\n",
        "  reference_mol = Chem.MolFromSmiles(ligand_smiles)\n",
        "  lig_mol = AllChem.AssignBondOrdersFromTemplate(reference_mol, lig_mol_wo_bond_orders)\n",
        "  lig_mol.AddConformer(lig_mol_wo_bond_orders.GetConformer(0))\n",
        "\n",
        "  #protonate ligand\n",
        "  lig_mol_h = Chem.rdmolops.AddHs(lig_mol, addCoords=True)\n",
        "  return lig_mol_h"
      ],
      "execution_count": 7,
      "outputs": []
    },
    {
      "cell_type": "markdown",
      "metadata": {
        "id": "GkqslZRknFbq"
      },
      "source": [
        "Calling our function returns a correctly protonated ligand, extracted from the file via its name."
      ]
    },
    {
      "cell_type": "code",
      "metadata": {
        "id": "04v75eTlcEtx"
      },
      "source": [
        "protonated_ligand = protonate_ligand(pdb, ligand_name,\n",
        "                                     \"CC(C)(C)c1ccc(cc1)N([C@@H](C(=O)NC2CCCCC2)c3cccnc3)C(=O)c4c[nH]cn4\")"
      ],
      "execution_count": 8,
      "outputs": []
    },
    {
      "cell_type": "markdown",
      "metadata": {
        "id": "NP9WekSTO5N3"
      },
      "source": [
        "##Step 3 - Merge Molecule and ligand\n",
        "In the next step we want to merge the protonated ligand with the protein using MDTraj. MDTraj can be loaded from OpenMM Topologies, so we need to do some conversions for our ligand. \n",
        "We write a function, that handles the conversion and adds some naming information back in we lost in RDKit."
      ]
    },
    {
      "cell_type": "code",
      "metadata": {
        "id": "UwehzZrhpDnD"
      },
      "source": [
        "def convert_rdkit_to_openmm(molecule, molecule_name=\"lig\"):\n",
        "  \"\"\"Merge two OpenMM Structures together using MDTraj.\n",
        "  \n",
        "  Parameters\n",
        "  ----------\n",
        "  molecule : rdkit.Chem.rdchem.Mol\n",
        "  molecule_name : str, optional\n",
        "    \n",
        "  Returns\n",
        "  -------\n",
        "  mol_topology : simtk.openmm.app.topology.Topology\n",
        "  mol_positions : simtk.unit.quantity.Quantity\n",
        "  \"\"\"\n",
        "  #Convert RDKit to OpenFF\n",
        "  off_mol = Molecule.from_rdkit(molecule)\n",
        "\n",
        "  #Add naming of molecule and atoms\n",
        "  off_mol.name = molecule_name\n",
        "  atom_names = {\n",
        "      1: \"H\",\n",
        "      6: \"C\",\n",
        "      7: \"N\",\n",
        "      8: \"O\"\n",
        "      }\n",
        "      \n",
        "  for atom in off_mol.atoms:\n",
        "    atom.name = atom_names.get(atom.atomic_number)\n",
        "\n",
        "  #Convert from OpenFF to OpenMM\n",
        "  off_mol_topology = off_mol.to_topology()\n",
        "  mol_topology = off_mol_topology.to_openmm()\n",
        "  mol_positions = off_mol.conformers[0]\n",
        "\n",
        "  #Convert Units from Angström to Nanometers\n",
        "  for atom in mol_positions:\n",
        "    coords = atom / atom.unit\n",
        "    atom = (coords / 10.0) * mm.unit.nanometers  # since openmm works in nm\n",
        "    \n",
        "  return mol_topology, mol_positions"
      ],
      "execution_count": null,
      "outputs": []
    },
    {
      "cell_type": "code",
      "metadata": {
        "id": "I77OHmv47vEN"
      },
      "source": [
        "ligand_topology, ligand_positions = convert_rdkit_to_openmm(protonated_ligand, ligand_name)"
      ],
      "execution_count": null,
      "outputs": []
    },
    {
      "cell_type": "markdown",
      "metadata": {
        "id": "dqY5AE0JGIgL"
      },
      "source": [
        "Our fixed Protein is already in OpenMM format and can now be merged with the converted ligand."
      ]
    },
    {
      "cell_type": "code",
      "metadata": {
        "id": "8gJMRq8fZYOU"
      },
      "source": [
        "def merge_protein_and_ligand(protein, ligand_topology, ligand_positions):\n",
        "  \"\"\"Merge two OpenMM Structures together.\n",
        "  \n",
        "  Parameters\n",
        "  ----------\n",
        "  protein : pdbfixer.pdbfixer.PDBFixer\n",
        "  ligand_topology : simtk.openmm.app.topology.Topology\n",
        "  ligand_positions : simtk.unit.quantity.Quantity\n",
        "    \n",
        "  Returns\n",
        "  -------\n",
        "  complex_topology : simtk.openmm.app.topology.Topology\n",
        "  complex_positions : simtk.unit.quantity.Quantity\n",
        "  \"\"\"\n",
        "  #Combine Topologies\n",
        "  md_protein_topology = md.Topology.from_openmm(protein.topology)  # using mdtraj for protein top\n",
        "  md_ligand_topology = md.Topology.from_openmm(ligand_topology)  # using mdtraj for ligand top\n",
        "  md_complex_topology = md_protein_topology.join(md_ligand_topology)  # add them together\n",
        "  complex_topology = md_complex_topology.to_openmm()\n",
        "\n",
        "  #Combine Positions\n",
        "  total_atoms = len(protein.positions) + len(ligand_positions)\n",
        "  #Create a OpenMM Quantity Array of right size\n",
        "  complex_positions = unit.Quantity(np.zeros([total_atoms, 3]), unit=unit.nanometers)\n",
        "  complex_positions[0 : len(protein.positions)] = protein.positions #add protein positions\n",
        "  complex_positions[len(protein.positions)+1 : total_atoms] = ligand_positions #add ligand positions\n",
        "\n",
        "  return complex_topology, complex_positions"
      ],
      "execution_count": null,
      "outputs": []
    },
    {
      "cell_type": "code",
      "metadata": {
        "id": "ZXmeeV0ZPOho"
      },
      "source": [
        "complex_topology, complex_positions = merge_protein_and_ligand(fixed_protein, ligand_topology, ligand_positions)"
      ],
      "execution_count": null,
      "outputs": []
    },
    {
      "cell_type": "markdown",
      "metadata": {
        "id": "0CDZojoVHLmm"
      },
      "source": [
        "To combine the ligand and the protein structures both topologies are read into MDTraj and then joined."
      ]
    },
    {
      "cell_type": "markdown",
      "metadata": {
        "id": "2uTAQnbAf6ZW"
      },
      "source": [
        "The joined complex topology is then converted back to OpenMM. "
      ]
    },
    {
      "cell_type": "markdown",
      "metadata": {
        "id": "2sei-SAJgUOQ"
      },
      "source": [
        "For a complete complex we also need to add the ligand positions back into the system.\n",
        "Again, the protein positions are already in the right format. The ligand coordinates additionally need to be converted from  Ångström to Nanometers."
      ]
    },
    {
      "cell_type": "markdown",
      "metadata": {
        "id": "2HAmjMG5Lgpd"
      },
      "source": [
        "## Step 4 - Molecular dynamics simulation set up\n",
        "\n",
        "We can then use the fixed pdb to set up the MD simulation. We first need to fetch the ligand molecule from its SMILES and then we can use GAFF to generate a template for it, which is needed for the force field to be set up properly (otherwise the force field has \"no knowledge\" of the ligand). We can then create the MD environment containing the protein and the ligand and add the solvent we wish to simulate in, in this case water. Once the system is ready we save its pdb file and proceed in setting up the system."
      ]
    },
    {
      "cell_type": "code",
      "metadata": {
        "id": "Ilsf8nZo9IcW"
      },
      "source": [
        "# Create the GAFF template generator\n",
        "gaff = GAFFTemplateGenerator(molecules=Molecule.from_rdkit(protonated_ligand))\n",
        "# Create an OpenMM ForceField object with AMBER ff14SB\n",
        "# and TIP3P with compatible ions\n",
        "forcefield = app.ForceField(\n",
        "    '/usr/local/lib/python3.6/site-packages/simtk/openmm/app/data/amber14/protein.ff14SB.xml',\n",
        "    '/usr/local/lib/python3.6/site-packages/simtk/openmm/app/data/amber14/tip3p.xml')\n",
        "# Register the GAFF template generator\n",
        "forcefield.registerTemplateGenerator(gaff.generator)"
      ],
      "execution_count": null,
      "outputs": []
    },
    {
      "cell_type": "code",
      "metadata": {
        "id": "c4LEvWMI8ash",
        "outputId": "9c9f7ec3-ac80-418d-a489-892240e05ef5",
        "colab": {
          "base_uri": "https://localhost:8080/"
        }
      },
      "source": [
        "# Add solvent\n",
        "modeller = app.Modeller(complex_topology, complex_positions)\n",
        "modeller.addHydrogens(forcefield);\n",
        "modeller.addSolvent(forcefield, padding=1.0*unit.nanometers,\n",
        "                    model='tip3p', ionicStrength=0.15*unit.molar)\n",
        "# Save PDB file of solvated molecule\n",
        "app.PDBFile.writeFile(modeller.topology,\n",
        "                      modeller.positions,\n",
        "                      open('MD_system.pdb', 'w'))"
      ],
      "execution_count": null,
      "outputs": [
        {
          "output_type": "stream",
          "text": [
            "Warning: In AmberToolsToolkitwrapper.compute_partial_charges_am1bcc: Molecule '' has more than one conformer, but this function will only generate charges for the first one.\n"
          ],
          "name": "stderr"
        }
      ]
    },
    {
      "cell_type": "code",
      "metadata": {
        "id": "fLmbYVKftz0M"
      },
      "source": [
        "system = forcefield.createSystem(modeller.topology, nonbondedMethod=app.PME)"
      ],
      "execution_count": null,
      "outputs": []
    },
    {
      "cell_type": "code",
      "metadata": {
        "id": "n52Cmkr4dpI-"
      },
      "source": [
        "integrator = mm.LangevinIntegrator(300*unit.kelvin,\n",
        "                                1.0/unit.picoseconds,\n",
        "                                2.0*unit.femtoseconds)\n",
        "simulation = app.Simulation(modeller.topology, system, integrator)"
      ],
      "execution_count": null,
      "outputs": []
    },
    {
      "cell_type": "markdown",
      "metadata": {
        "id": "WRO2meHovQe3"
      },
      "source": [
        "Alternatively we can also write this as a function returning the simulation object:"
      ]
    },
    {
      "cell_type": "code",
      "metadata": {
        "id": "uYRvhz1OvRAJ"
      },
      "source": [
        "def SimSet(smiles, protein):\n",
        "    \"\"\" Create simulation settingd for MD simulation of protein bound to ligand\n",
        "\n",
        "        Parameters\n",
        "        ----------\n",
        "        smiles : str\n",
        "            the SMILES of the ligand\n",
        "        protein : openmm PDBFile object\n",
        "            a pdb file loaded with simtk.openmm.app.PDBfile\n",
        "\n",
        "        Returns\n",
        "        -------\n",
        "        Saves the solvated system as pdb in the working directoty\n",
        "\n",
        "        Returns simulation object (simtk.openmm.app.Simulation()) for the MD simulation.\n",
        "        It includes info about the simulation settings and the parametrized ligand.\n",
        "\n",
        "    \"\"\"\n",
        "    # Create an openforcefield Molecule object for ligand from SMILES\n",
        "    mol = Molecule.from_smiles(smiles)\n",
        "    # Create the GAFF template generator\n",
        "    gaff = GAFFTemplateGenerator(molecules=mol)\n",
        "    # Create an OpenMM ForceField object with AMBER ff14SB and TIP3P with compatible ions\n",
        "    forcefield = app.ForceField('/usr/local/lib/python3.6/site-packages/simtk/openmm/app/data/amber14/protein.ff14SB.xml',\n",
        "                                '/usr/local/lib/python3.6/site-packages/simtk/openmm/app/data/amber14/tip3p.xml')\n",
        "    # Register the GAFF template generator\n",
        "    forcefield.registerTemplateGenerator(gaff.generator)\n",
        "    # Add solvent\n",
        "    modeller = app.Modeller(protein.topology, protein.positions)\n",
        "    modeller.addSolvent(forcefield, padding=1.0*unit.nanometers, model='tip3p', ionicStrength=0.15*unit.molar)\n",
        "    # Save PDB file of solvated molecule\n",
        "    app.PDBFile.writeFile(modeller.topology, modeller.positions, open('MD_system.pdb', 'w'))\n",
        "    # Simulation settings\n",
        "    system = forcefield.createSystem(modeller.topology)\n",
        "    integrator = LangevinIntegrator(300*unit.kelvin, 1.0/unit.picoseconds, 2.0*unit.femtoseconds)\n",
        "    simulation = app.Simulation(modeller.topology, system, integrator)\n",
        "    return simulation"
      ],
      "execution_count": null,
      "outputs": []
    },
    {
      "cell_type": "markdown",
      "metadata": {
        "id": "JwEgrFkILgqL"
      },
      "source": [
        "## Step 5 - Run the MD simulation\n",
        "Now that everything is set-up we can run the simulation. We need to set starting positions and to minimize the energy of the system. Once that is done, we can let the simulation run! Here we are simulating 1 ns and saving one molecular \"snapshot\" every 5000, for a total of 100 frames out of the 500000 steps we are taking. The results are saved in a .dcd files, which contains the coordinates of all the atoms at a given time point. Together with the pdb file of the system, it gives us all the information about our simulation.  "
      ]
    },
    {
      "cell_type": "code",
      "metadata": {
        "id": "AE3GJtwp_Ccq",
        "outputId": "0afabf61-93c7-46d7-cea2-3dc86b0f307e",
        "colab": {
          "base_uri": "https://localhost:8080/"
        }
      },
      "source": [
        "# Initialize the MD simulation\n",
        "print('Setting up positions...')\n",
        "simulation.context.setPositions(modeller.positions)"
      ],
      "execution_count": null,
      "outputs": [
        {
          "output_type": "stream",
          "text": [
            "Setting up positions...\n"
          ],
          "name": "stdout"
        }
      ]
    },
    {
      "cell_type": "code",
      "metadata": {
        "id": "EgkE1EUGLgqP",
        "outputId": "680504de-bbba-4d0a-bccc-ae4b004c5b05",
        "colab": {
          "base_uri": "https://localhost:8080/"
        }
      },
      "source": [
        "# Minimize energy\n",
        "print('Energy minimization in progress...')\n",
        "simulation.minimizeEnergy()"
      ],
      "execution_count": null,
      "outputs": [
        {
          "output_type": "stream",
          "text": [
            "Energy minimization in progress...\n"
          ],
          "name": "stdout"
        }
      ]
    },
    {
      "cell_type": "code",
      "metadata": {
        "id": "E8t-0ZxFLgqh"
      },
      "source": [
        "# Output settings\n",
        "simulation.reporters.append(app.DCDReporter('trajectory.dcd', 5000))\n",
        "\n",
        "# Output data\n",
        "simulation.reporters.append(app.StateDataReporter(sys.stdout, 5000, step=True,\n",
        "                                                  potentialEnergy=True, temperature=True, progress=True, remainingTime=True,\n",
        "                                                  speed=True, totalSteps=5*1e5, separator='\\t'))\n",
        "\n",
        "# Set velocities\n",
        "simulation.context.setVelocitiesToTemperature(300*unit.kelvin)"
      ],
      "execution_count": null,
      "outputs": []
    },
    {
      "cell_type": "code",
      "metadata": {
        "id": "7B7AiVO3fr03",
        "outputId": "4307836d-e4f5-4f76-dd0f-06fd7347bd10",
        "colab": {
          "base_uri": "https://localhost:8080/"
        }
      },
      "source": [
        "# Run the simulation\n",
        "simulation.step(5*1e5)"
      ],
      "execution_count": null,
      "outputs": [
        {
          "output_type": "stream",
          "text": [
            "#\"Progress (%)\"\t\"Step\"\t\"Potential Energy (kJ/mole)\"\t\"Temperature (K)\"\t\"Speed (ns/day)\"\t\"Time Remaining\"\n",
            "1.0%\t5000\t-864050.0495080752\t299.58732976623\t0\t--\n",
            "2.0%\t10000\t-866537.7995080752\t300.91501366866726\t92.2\t15:17\n",
            "3.0%\t15000\t-865278.0495080752\t298.8072924636277\t91.8\t15:13\n",
            "4.0%\t20000\t-866681.2995080752\t297.6260401865531\t91.4\t15:07\n",
            "5.0%\t25000\t-864814.5495080752\t302.85294186934505\t90.9\t15:02\n",
            "6.0%\t30000\t-865613.7995080752\t299.0298699242096\t90.6\t14:55\n",
            "7.0%\t35000\t-866324.2995080752\t302.10643503649726\t90.1\t14:51\n",
            "8.0%\t40000\t-866829.2995080752\t302.286720761105\t89.6\t14:46\n",
            "9.0%\t45000\t-867127.0495080752\t299.4056541300393\t89.2\t14:41\n",
            "10.0%\t50000\t-864874.7995080752\t299.99162548304963\t88.7\t14:37\n",
            "11.0%\t55000\t-866113.7995080752\t301.4463553847788\t88.3\t14:31\n",
            "12.0%\t60000\t-866975.7995080752\t301.74345666163555\t87.8\t14:26\n",
            "13.0%\t65000\t-866185.2995080752\t297.76302541926424\t87.3\t14:21\n",
            "14.0%\t70000\t-864828.2995080752\t299.3331816010388\t86.9\t14:15\n",
            "15.0%\t75000\t-866210.7995080752\t300.88049894553717\t86.7\t14:07\n",
            "16.0%\t80000\t-864900.7995080752\t298.5036983402971\t86.4\t13:59\n",
            "17.0%\t85000\t-864592.0495080752\t299.3092776845715\t86.3\t13:51\n",
            "18.0%\t90000\t-865556.7995080752\t300.9712418771177\t86.2\t13:42\n",
            "19.0%\t95000\t-865241.7995080752\t301.74592178847826\t86\t13:33\n",
            "20.0%\t100000\t-865458.2995080752\t300.26436132029454\t85.9\t13:24\n",
            "21.0%\t105000\t-867729.0495080752\t300.77571004047934\t85.7\t13:16\n",
            "22.0%\t110000\t-865789.7995080752\t300.623412432296\t85.6\t13:07\n",
            "23.0%\t115000\t-865391.5495080752\t299.35147069919645\t85.5\t12:58\n",
            "24.0%\t120000\t-865500.5495080752\t300.5503956766589\t85.4\t12:48\n",
            "25.0%\t125000\t-865480.2995080752\t298.8646781373354\t85.4\t12:39\n",
            "26.0%\t130000\t-864686.0495080752\t297.8501760829128\t85.3\t12:29\n",
            "27.0%\t135000\t-865507.5495080752\t302.54485488097123\t85.2\t12:20\n",
            "28.0%\t140000\t-865341.7995080752\t298.425501042001\t85.1\t12:10\n",
            "29.0%\t145000\t-866680.7995080752\t300.0008658109955\t85.1\t12:01\n",
            "30.0%\t150000\t-866689.7995080752\t301.61612865672225\t85\t11:51\n",
            "31.0%\t155000\t-866257.2995080752\t299.2993387159384\t85\t11:41\n",
            "32.0%\t160000\t-865707.2995080752\t301.11247796628334\t84.9\t11:31\n",
            "33.0%\t165000\t-865736.5495080752\t301.47440665066307\t84.9\t11:22\n",
            "34.0%\t170000\t-866846.0495080752\t299.6395494432158\t84.8\t11:12\n",
            "35.0%\t175000\t-868150.5495080752\t301.7323020500832\t84.8\t11:02\n",
            "36.0%\t180000\t-866383.2995080752\t299.9659235444552\t84.7\t10:52\n",
            "37.0%\t185000\t-865731.5495080752\t299.31715199075666\t84.7\t10:42\n",
            "38.0%\t190000\t-865039.5495080752\t300.12284818967487\t84.7\t10:32\n",
            "39.0%\t195000\t-865493.2995080752\t299.31365652551386\t84.7\t10:22\n",
            "40.0%\t200000\t-865921.5495080752\t300.6569400218616\t84.6\t10:12\n",
            "41.0%\t205000\t-866297.7995080752\t302.37040910690075\t84.6\t10:02\n",
            "42.0%\t210000\t-866906.2995080752\t301.24834133141354\t84.5\t9:52\n",
            "43.0%\t215000\t-867273.2995080752\t300.88545943310385\t84.5\t9:42\n",
            "44.0%\t220000\t-865417.2995080752\t302.7009049644372\t84.5\t9:32\n",
            "45.0%\t225000\t-866096.2995080752\t300.1429955938943\t84.5\t9:22\n",
            "46.0%\t230000\t-865987.7995080752\t302.0079820675774\t84.5\t9:12\n",
            "47.0%\t235000\t-866881.7995080752\t299.7781380183391\t84.4\t9:02\n",
            "48.0%\t240000\t-866548.2995080752\t299.31708588069466\t84.4\t8:52\n",
            "49.0%\t245000\t-865193.2995080752\t299.30924228755515\t84.4\t8:42\n",
            "50.0%\t250000\t-866786.7995080752\t299.62971316375183\t84.4\t8:32\n",
            "51.0%\t255000\t-865470.7995080752\t299.97652358837445\t84.3\t8:21\n",
            "52.0%\t260000\t-865500.0495080752\t299.8187563548372\t84.3\t8:11\n",
            "53.0%\t265000\t-865914.2995080752\t302.48448678440275\t84.3\t8:01\n",
            "54.0%\t270000\t-867066.0495080752\t301.7575307055253\t84.3\t7:51\n",
            "55.0%\t275000\t-867096.5495080752\t299.3435390606524\t84.3\t7:41\n",
            "56.0%\t280000\t-865720.7995080752\t301.04515476283245\t84.3\t7:31\n",
            "57.0%\t285000\t-868634.0495080752\t302.43499183293625\t84.3\t7:20\n",
            "58.0%\t290000\t-867538.2995080752\t302.12895305112295\t84.2\t7:10\n",
            "59.0%\t295000\t-866853.2995080752\t299.17021789999563\t84.2\t7:00\n",
            "60.0%\t300000\t-865670.7995080752\t299.2289360616384\t84.2\t6:50\n",
            "61.0%\t305000\t-866037.5495080752\t301.5873785437983\t84.2\t6:40\n",
            "62.0%\t310000\t-865458.2995080752\t301.3274450226992\t84.2\t6:30\n",
            "63.0%\t315000\t-865309.2995080752\t299.0960733447074\t84.2\t6:19\n",
            "64.0%\t320000\t-866343.2995080752\t300.9015410982408\t84.1\t6:09\n",
            "65.0%\t325000\t-864389.0495080752\t299.8297133364402\t84.1\t5:59\n",
            "66.0%\t330000\t-864797.2995080752\t299.8856834285044\t84.1\t5:49\n",
            "67.0%\t335000\t-867717.7995080752\t300.75069894562967\t84.1\t5:39\n",
            "68.0%\t340000\t-865015.7995080752\t301.5375755495603\t84.1\t5:28\n",
            "69.0%\t345000\t-867278.5495080752\t299.7741874184642\t84.1\t5:18\n",
            "70.0%\t350000\t-865923.2995080752\t298.6913002144811\t84.1\t5:08\n",
            "71.0%\t355000\t-865526.2995080752\t299.0453166742292\t84.1\t4:58\n",
            "72.0%\t360000\t-866469.0495080752\t301.98521157831993\t84\t4:47\n",
            "73.0%\t365000\t-868055.7995080752\t298.0460731114888\t84\t4:37\n",
            "74.0%\t370000\t-866700.0495080752\t300.107329943157\t84\t4:27\n",
            "75.0%\t375000\t-865861.7995080752\t298.157901136578\t84\t4:17\n",
            "76.0%\t380000\t-865836.7995080752\t298.4848338263692\t84\t4:06\n",
            "77.0%\t385000\t-867067.2995080752\t300.6063428404647\t84\t3:56\n",
            "78.0%\t390000\t-866044.5495080752\t300.6037471531846\t84\t3:46\n",
            "79.0%\t395000\t-864978.0495080752\t300.4680088981005\t84\t3:36\n",
            "80.0%\t400000\t-866543.7995080752\t300.21489728340475\t84\t3:25\n",
            "81.0%\t405000\t-867492.2995080752\t299.4267846690896\t83.9\t3:15\n",
            "82.0%\t410000\t-867120.2995080752\t301.05973274809406\t84\t3:05\n",
            "83.0%\t415000\t-866722.7995080752\t297.70763115719353\t83.9\t2:54\n",
            "84.0%\t420000\t-865124.5495080752\t300.6305748773347\t83.9\t2:44\n",
            "85.0%\t425000\t-865344.0495080752\t298.9046946814292\t83.9\t2:34\n",
            "86.0%\t430000\t-868076.2995080752\t299.76642391060034\t83.9\t2:24\n",
            "87.0%\t435000\t-865606.2995080752\t299.4142292737418\t83.9\t2:13\n",
            "88.0%\t440000\t-867220.0495080752\t301.28005763700975\t83.9\t2:03\n",
            "89.0%\t445000\t-867396.2995080752\t300.17790076382784\t83.9\t1:53\n",
            "90.0%\t450000\t-866900.2995080752\t301.5629075540803\t83.9\t1:42\n",
            "91.0%\t455000\t-865537.2995080752\t299.754073989863\t83.9\t1:32\n",
            "92.0%\t460000\t-865988.7995080752\t299.0170907428861\t83.9\t1:22\n",
            "93.0%\t465000\t-867036.7995080752\t298.9710413337065\t83.9\t1:12\n",
            "94.0%\t470000\t-864989.2995080752\t300.0593350151525\t83.9\t1:01\n",
            "95.0%\t475000\t-868104.7995080752\t300.3654677293559\t83.9\t0:51\n",
            "96.0%\t480000\t-866975.5495080752\t300.0955186001595\t83.9\t0:41\n",
            "97.0%\t485000\t-866082.5495080752\t299.74715802245396\t83.9\t0:30\n",
            "98.0%\t490000\t-865892.7995080752\t299.9369762816632\t83.8\t0:20\n",
            "99.0%\t495000\t-866588.5495080752\t300.8595403390322\t83.8\t0:10\n",
            "100.0%\t500000\t-867329.5495080752\t301.0587246375836\t83.8\t0:00\n"
          ],
          "name": "stdout"
        }
      ]
    },
    {
      "cell_type": "code",
      "metadata": {
        "id": "FfcMX8G1i0RY",
        "outputId": "17addb10-408f-4ea8-a8ec-13a209e0136b",
        "colab": {
          "base_uri": "https://localhost:8080/",
          "height": 17
        }
      },
      "source": [
        "# Download the results\n",
        "files.download('MD_system.pdb')"
      ],
      "execution_count": null,
      "outputs": [
        {
          "output_type": "display_data",
          "data": {
            "application/javascript": [
              "\n",
              "    async function download(id, filename, size) {\n",
              "      if (!google.colab.kernel.accessAllowed) {\n",
              "        return;\n",
              "      }\n",
              "      const div = document.createElement('div');\n",
              "      const label = document.createElement('label');\n",
              "      label.textContent = `Downloading \"${filename}\": `;\n",
              "      div.appendChild(label);\n",
              "      const progress = document.createElement('progress');\n",
              "      progress.max = size;\n",
              "      div.appendChild(progress);\n",
              "      document.body.appendChild(div);\n",
              "\n",
              "      const buffers = [];\n",
              "      let downloaded = 0;\n",
              "\n",
              "      const channel = await google.colab.kernel.comms.open(id);\n",
              "      // Send a message to notify the kernel that we're ready.\n",
              "      channel.send({})\n",
              "\n",
              "      for await (const message of channel.messages) {\n",
              "        // Send a message to notify the kernel that we're ready.\n",
              "        channel.send({})\n",
              "        if (message.buffers) {\n",
              "          for (const buffer of message.buffers) {\n",
              "            buffers.push(buffer);\n",
              "            downloaded += buffer.byteLength;\n",
              "            progress.value = downloaded;\n",
              "          }\n",
              "        }\n",
              "      }\n",
              "      const blob = new Blob(buffers, {type: 'application/binary'});\n",
              "      const a = document.createElement('a');\n",
              "      a.href = window.URL.createObjectURL(blob);\n",
              "      a.download = filename;\n",
              "      div.appendChild(a);\n",
              "      a.click();\n",
              "      div.remove();\n",
              "    }\n",
              "  "
            ],
            "text/plain": [
              "<IPython.core.display.Javascript object>"
            ]
          },
          "metadata": {
            "tags": []
          }
        },
        {
          "output_type": "display_data",
          "data": {
            "application/javascript": [
              "download(\"download_f2475435-11ae-465e-a6d0-2604a39565ca\", \"MD_system.pdb\", 5276646)"
            ],
            "text/plain": [
              "<IPython.core.display.Javascript object>"
            ]
          },
          "metadata": {
            "tags": []
          }
        }
      ]
    },
    {
      "cell_type": "code",
      "metadata": {
        "id": "bFcERITJC44X",
        "outputId": "9b4ff373-cb02-4539-cd60-380a409c660b",
        "colab": {
          "base_uri": "https://localhost:8080/",
          "height": 17
        }
      },
      "source": [
        "files.download('trajectory.dcd')"
      ],
      "execution_count": null,
      "outputs": [
        {
          "output_type": "display_data",
          "data": {
            "application/javascript": [
              "\n",
              "    async function download(id, filename, size) {\n",
              "      if (!google.colab.kernel.accessAllowed) {\n",
              "        return;\n",
              "      }\n",
              "      const div = document.createElement('div');\n",
              "      const label = document.createElement('label');\n",
              "      label.textContent = `Downloading \"${filename}\": `;\n",
              "      div.appendChild(label);\n",
              "      const progress = document.createElement('progress');\n",
              "      progress.max = size;\n",
              "      div.appendChild(progress);\n",
              "      document.body.appendChild(div);\n",
              "\n",
              "      const buffers = [];\n",
              "      let downloaded = 0;\n",
              "\n",
              "      const channel = await google.colab.kernel.comms.open(id);\n",
              "      // Send a message to notify the kernel that we're ready.\n",
              "      channel.send({})\n",
              "\n",
              "      for await (const message of channel.messages) {\n",
              "        // Send a message to notify the kernel that we're ready.\n",
              "        channel.send({})\n",
              "        if (message.buffers) {\n",
              "          for (const buffer of message.buffers) {\n",
              "            buffers.push(buffer);\n",
              "            downloaded += buffer.byteLength;\n",
              "            progress.value = downloaded;\n",
              "          }\n",
              "        }\n",
              "      }\n",
              "      const blob = new Blob(buffers, {type: 'application/binary'});\n",
              "      const a = document.createElement('a');\n",
              "      a.href = window.URL.createObjectURL(blob);\n",
              "      a.download = filename;\n",
              "      div.appendChild(a);\n",
              "      a.click();\n",
              "      div.remove();\n",
              "    }\n",
              "  "
            ],
            "text/plain": [
              "<IPython.core.display.Javascript object>"
            ]
          },
          "metadata": {
            "tags": []
          }
        },
        {
          "output_type": "display_data",
          "data": {
            "application/javascript": [
              "download(\"download_48ef44be-6428-4006-9af9-45508b279dc7\", \"trajectory.dcd\", 78154676)"
            ],
            "text/plain": [
              "<IPython.core.display.Javascript object>"
            ]
          },
          "metadata": {
            "tags": []
          }
        }
      ]
    },
    {
      "cell_type": "markdown",
      "metadata": {
        "id": "aAleBNfKyhCd"
      },
      "source": [
        "We have succefully ran a MD simulation! If you want to know how to visualize the results, you can refer to the next notebook in the repository.   \n",
        "   \n",
        "As last I would like to add a quick note about the run-time. We saw that running this kind of simulations can be quite computationally expensive and long. Here on Google Colaboratory we achieved a speed of 3.7 ns/day, which is OK but still slow, especially if we need to run longer simulations and multiple times with different settings. I also tried running the same simulation on a Ubuntu VM on Virtualbox (Windows 10 host), achieving 1 ns/day as speed. Given that it was running on 4 virtual cores (host processor Intel core i7 8th gen) and not on the host machine 8 cores, it was probably a bit slower than it could have been, but it is clear that CPU is not the way to go for such applications. GPU parallel computations allow to reduce the run time exponentially and should always be preferred. Anyhow if, as stated at the beginning, you want to punish your laptop, you can definetly use MD simulations as an effective tool.  "
      ]
    }
  ]
}