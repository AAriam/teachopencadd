{
  "nbformat": 4,
  "nbformat_minor": 0,
  "metadata": {
    "accelerator": "GPU",
    "colab": {
      "name": "talktorial.ipynb",
      "provenance": [],
      "collapsed_sections": [],
      "toc_visible": true
    },
    "kernelspec": {
      "display_name": "Python 3",
      "language": "python",
      "name": "python3"
    },
    "language_info": {
      "codemirror_mode": {
        "name": "ipython",
        "version": 3
      },
      "file_extension": ".py",
      "mimetype": "text/x-python",
      "name": "python",
      "nbconvert_exporter": "python",
      "pygments_lexer": "ipython3",
      "version": "3.6.10"
    }
  },
  "cells": [
    {
      "cell_type": "markdown",
      "metadata": {
        "id": "Rc3gPsMdLgmK"
      },
      "source": [
        "# Molecular Dynamics simulation of SARS Cov2 main protease in complex with inhibitor\n",
        "\n",
        "Developed in the CADD Seminar 2020, AG Volkamer, Charité/FU Berlin \n",
        "\n",
        "Authors:\n",
        "- Pietro Gerletti\n",
        "- David Schaller\n",
        "- Mareike Leja"
      ]
    },
    {
      "cell_type": "markdown",
      "metadata": {
        "id": "UW4tm2QSHToz"
      },
      "source": [
        "__Talktorial T18__"
      ]
    },
    {
      "cell_type": "markdown",
      "metadata": {
        "id": "ehs-GJfkwUap"
      },
      "source": [
        "__Note__\n",
        "\n",
        "The notebook presented here is designed to be run on Google Colab. It is possible to run it on a normal laptop, if sufficient computational power is available, preferably on a GPU."
      ]
    },
    {
      "cell_type": "markdown",
      "metadata": {
        "id": "v0WOINBLExEO"
      },
      "source": [
        "## Aim of this talktorial"
      ]
    },
    {
      "cell_type": "markdown",
      "metadata": {
        "id": "ETO2kR5CE6-E"
      },
      "source": [
        "At the end of this talktorial we want to have a working Molecular Dynamics Simulation of a protein in comlex with a ligand. We will follow the steps from obtaining and fixing a structure, to creating a forcefield and finally running the simulation."
      ]
    },
    {
      "cell_type": "markdown",
      "metadata": {
        "id": "mNvsYi3OLgmU"
      },
      "source": [
        "## Learning goals\n",
        "\n",
        "\n",
        "### Contents in *Theory*\n",
        "\n",
        "\n",
        "* Main protease of SARS-CoV-2 \n",
        "* Molecular dynamics\n",
        "* Force fields\n",
        "* Boundary conditions\n",
        "* Summary\n",
        "\n",
        "### Contents in *Practical*\n",
        "\n",
        "* Set up\n",
        "  * Installation\n",
        "  * Imorts\n",
        "  * PDB file download\n",
        "* Fix PDB file\n",
        "  * Add missing atoms and residues to protein\n",
        "  * Add missing hydrogens to ligand\n",
        "* Merge protein and ligand\n",
        "* Molecular Dynamics simulation set up\n",
        "  * Force field\n",
        "  * System\n",
        "* Run the simulation\n",
        "  * Download results\n",
        "\n",
        "### References\n",
        "\n",
        "* De Vivo M, Masetti M, Bottegoni G, Cavalli A. *Role of Molecular Dynamics and Related Methods in Drug Discovery*\n",
        "([<i>J Med Chem.</i> (2016), <b>59</b>(9), 4035‐4061](https://pubs.acs.org/doi/10.1021/acs.jmedchem.5b01684))\n",
        "\n",
        "* Sereina Riniker, *Fixed-Charge Atomistic Force Fields for Molecular Dynamics Simulations in the Condensed Phase: An Overview*\n",
        "([<i>Journal of Chemical Information and Modeling</i> (2018), <b>58</b>(3), 565-578](https://pubs.acs.org/doi/10.1021/acs.jcim.8b00042))\n",
        "\n",
        "* Mesecar A.D., *A taxonomically-driven approach to development of potent, broad-spectrum inhibitors of coronavirus main protease including SARS-CoV-2*\n",
        "\n",
        "* Marina Macchiagodena, Marco Pagliai, Piero Procacci, *Identification of potential binders of the main protease 3CLpro of the COVID-19 via structure-based ligand design and molecular modeling*\n",
        "([<i>Chemical Physics Letters</i> (2020), <b>750</b>](https://iupac.org/publications/pac/70/5/1129/))\n",
        "\n",
        "* Sumit Sharma, Pramod Kumar, Rakesh Chandra *Chapter 1 - Introduction to Molecular Dynamics*\n",
        "([<i>Molecular Dynamics Simulation of Nanocomposites Using BIOVIA Materials Studio, Lammps and Gromacs</i> (2019)](https://doi.org/10.1016/B978-0-12-816954-4.00001-2))\n",
        "\n",
        "* P. S. de Laplace, *Oeuvres Complètes de Laplace. Théorie Analytique des Probabilités*\n",
        "(<i>volume VII Gauthier-Villars</i> (1820), 3rd ed)\n",
        "\n",
        "\n",
        "* Jaime Rodríguez-Guerra, Volkamer lab, Charité [Molecular Dynamics Simulation and Analysis in a Notebook](https://github.com/jaimergp/uab-msc-bioinf/blob/master/MD%20Simulation%20and%20Analysis%20in%20a%20Notebook.ipynb)\n",
        "\n",
        "* [OpenMM](https://github.com/openmm/openmmforcefields)\n",
        "\n",
        "* [PDB Fixer](http://htmlpreview.github.io/?https://raw.github.com/pandegroup/pdbfixer/master/Manual.html)\n",
        "* Wikipedia Articles about [AMBER](https://en.wikipedia.org/wiki/AMBER)\n",
        "and [Force Fields](https://en.wikipedia.org/wiki/Force_field_(chemistry))"
      ]
    },
    {
      "cell_type": "markdown",
      "metadata": {
        "id": "WpSLhe8ZLgmd"
      },
      "source": [
        "## Theory"
      ]
    },
    {
      "cell_type": "markdown",
      "metadata": {
        "id": "ffIAyMqdwUat"
      },
      "source": [
        "In this notebook we will focus on how to perform molecular dynamics (MD) simulations of a protein in complex with a small ligand molecule. Here, the main protease of SARS-CoV-2 in complex with the inhibitor X77 is used. Therefore a short introduction to SARS-CoV-2 and the protease is included. \n",
        "\n"
      ]
    },
    {
      "cell_type": "markdown",
      "metadata": {
        "id": "z-ZEaeB2n4hg"
      },
      "source": [
        "### Main protease of SARS-CoV-2 \n",
        "\n",
        "SARS-CoV-2 genome encodes, between others, polyproteins that are cleaved and transformed to non-structural proteins by proteases. These non-structural proteins play a fundamental role in the pathogenesis. Blocking their production could significantly reduce the virulence of SARS-CoV-2. One possible way of doing this is to inhibit the viral proteases needed for the correct cleaving of the non-structural proteins. This makes the main protease of SARS-CoV-2 a candidate target for the development of a much needed antiviral drug. Here we used the pdb structure of the protease in complex with the inhibitor X77 provided by Mesecar (2020) to perform a MD simulation, providing a 1 ns molecular trajectory. "
      ]
    },
    {
      "cell_type": "markdown",
      "metadata": {
        "id": "fARXaAnzwUau"
      },
      "source": [
        "![SARS-CoV-2](https://cdn.rcsb.org/images/structures/w6/6w63/6w63_assembly-1.jpeg)\n",
        "\n",
        "*Figure 1*: Structure of COVID-19 main protease bound to potent broad-spectrum non-covalent inhibitor X77, Mesecar A.D. (2020), on [RCSB](https://www.rcsb.org/structure/6w63) "
      ]
    },
    {
      "cell_type": "markdown",
      "metadata": {
        "id": "lxhBZyifLgmm"
      },
      "source": [
        "### Molecular dynamics"
      ]
    },
    {
      "cell_type": "markdown",
      "metadata": {
        "id": "svQEDsBCwUa5"
      },
      "source": [
        "MD is a computational method for analyzing how the atoms and molecules of a system move and interact with each other. The method stems from theoretical physics, where it was developed in the years around 1950, although the ideas behind it can be dated much earlier:\n",
        "\n",
        "*An intelligence which could, at  any moment, comprehend all the forces by  which nature is animated and the  respective positions of the  beings of which it is  composed, and moreover, if this intelligence were far-reaching enough to subject these data to  analysis, it would encompass in that formula both the movements of the  largest bodies in  the universe and those of the lightest atom: to it nothing would be uncertain, and the  future, as well as the past, would be present to its eyes. The human mind offers us, in the perfection which it has  given to  astronomy, a faint sketch of this intelligence.*\n",
        "\n",
        "__Pierre Simon de Laplace, 1820 A.D.__\n"
      ]
    },
    {
      "cell_type": "markdown",
      "metadata": {
        "id": "kLgNBvtIm7S3"
      },
      "source": [
        "This statement brings up discussions about whether it is possible to actually predict every future state of a system by knowing EVERYTHING about its components and the laws governing it (which would take us through discussing chaos and randomness in mathematical philosophy up to relativity vs quantum physics and beyond... but if you are interested in the topic(s), here is a very interesting documentary https://www.youtube.com/watch?v=XDpurdHKpb8).\n",
        "Let us just take this statement by de Laplace as the ideological substrate underneath molecular dynamics simulations. In other terms, we can approximate the behavior of a physical system by knowing the characteristics of its components and applying Newton's motion laws. By solving the equations of motion, we can obtain a molecular trajectory of the system, i.e. a series of snapshots with the positions and velocities of all its particles, as well as its potential energy. To do so we define functions, called force fields, which provide an approximate description of all the forces applied to each particle in the system. We then use numerical integrators to solve the initial value problem for the system and obtain the trajectory. As it sounds, the process requires quite a bit of processing power and it was only few years ago that MD started seeing a more widespread use, especially in the field of computational chemistry and biology, as well as in drug discovery."
      ]
    },
    {
      "cell_type": "markdown",
      "metadata": {
        "id": "yXlInBPrwUa6"
      },
      "source": [
        "![MD Rotor](https://upload.wikimedia.org/wikipedia/commons/b/b6/MD_rotor_250K_1ns.gif)\n",
        "\n",
        "*Figure 2*: Molecular dynamics ~1 nanosecond movie of rotation of a supramolecule composed of three molecules using a, in a confined nanoscopic pore (outer diameter = 6.7 nm) on a silver surface at ~ 250 K; Palma, C.-A.; Kühne, D.; Klappenberger, F.; Barth, J.V. - Technische Universität München, on <a href=\"https://commons.wikimedia.org/w/index.php?curid=34866205\">Wikimedia</a></p>"
      ]
    },
    {
      "cell_type": "markdown",
      "metadata": {
        "id": "plElNr9RwUa7"
      },
      "source": [
        "We will now dig a bit deeper in the equations behind MD, the force fields, to gain a better understanding how what we will be doing in the practical part."
      ]
    },
    {
      "cell_type": "markdown",
      "metadata": {
        "id": "8-uCG3KPwUa8"
      },
      "source": [
        "### Force fields\n",
        "\n"
      ]
    },
    {
      "cell_type": "markdown",
      "metadata": {
        "id": "NC8t-i-cwUbB"
      },
      "source": [
        "Force fields describe the forces between the atoms within and between the molecules. They are parametric equations with different components, each corresponding to a precise interaction (e.g. bond torsion angles, steric hindrance, etc.). The parameters values are usually derived experimentally and change for each MD scenario, depending on the molecules involved and the simulations settings. The result is a mathematical description of the energy landscape of the system, in which the forces acting on each particle result from the gradient of the potential energy with respect to the coordinates of the atoms.\n",
        "\n",
        "A lot of different force fields are available, each with its own characteristics. In this notebook, we will use the AMBER force fields, which are widely used for MD simulations of proteins. Their functional form is:\n",
        "\n",
        "$$V(r^N) = \\sum_{i \\in  bonds}k_{bi} (l_i-l^0_i)^2 + \\sum_{i \\in  angles}k_{ai}(\\theta_i - \\theta^0_i)^2 + \\sum_{i\\in torsions} \\sum_n \\frac{1}{2} V_i^n[1+cos(nw_i-\\gamma_i)] + \\sum_{j=1}^{N-1}\\sum_{I=j+1}^{N} f_{ij}\\in ij [(\\frac{r^0_{ij}}{r_{ij}})^{12}-2(\\frac{r^0_{ij}}{r_{ij}})^{6}]+\\frac{q_iq_j}{4\\pi \\in_0 r_{ij}}$$"
      ]
    },
    {
      "cell_type": "markdown",
      "metadata": {
        "id": "pjSsc4l-wUbB"
      },
      "source": [
        "The formula consists of a sum of different components, each describing a different interaction: the first two contain information about bonds length and their angles (intramolecular forces), the third term describes torsional forces and the last component describes intermolecular, non-bonded forces like Van-der-Waals and electrostatic energies. The various parameters, denoteb by a superscricpt 0, depend on the forcefield used and vary between all members of the AMBER forcefield family.\n",
        "Note that these force fields assume fixed-charge particles and do not allow polarization, nor do they consider how a local charge influences its surroundings. \n",
        "\n",
        "The following visual representation of force fields components shows the same concepts in a more intuitive way."
      ]
    },
    {
      "cell_type": "markdown",
      "metadata": {
        "id": "6aDDjIqYwUbC"
      },
      "source": [
        "![physics](https://upload.wikimedia.org/wikipedia/commons/thumb/5/5c/MM_PEF.png/1200px-MM_PEF.png)\n",
        "\n",
        "*Figure 3*: Physics on a molecular scale, Dhatfield on <a href=\"https://commons.wikimedia.org/w/index.php?curid=4194424\">Wikimedia</a></p>"
      ]
    },
    {
      "cell_type": "markdown",
      "metadata": {
        "id": "xefD3p0TwUbD"
      },
      "source": [
        "After selecting a force field to run the MD Simulation with, the equation needs to be parametrized according to the specific scenario we wish to simulate. In this process, an algorithm will fetch the parameters needed (in this case we rely on `openforcefields`), taking into account the simulation settings. Usually the process involves these basic steps (but it can vary):\n",
        "\n",
        "* fetch the crystal structure/chemical formula\n",
        "* define atom types\n",
        "* get atomic charges\n",
        "* assign initial Lennard-Jones and bond parameters \n",
        "* test density and geometry (reference data)\n",
        "* test energetic properties (surface and hydration energy - compare with reference data)\n",
        "\n",
        "Once the force field is parametrized, the simulation basically consists in solving a differential equations system and saving the resulting trajectory."
      ]
    },
    {
      "cell_type": "markdown",
      "metadata": {
        "id": "3J7LdqzKB0PM"
      },
      "source": [
        "###Boundary conditions\n",
        "\n",
        "Usually the structures are simulated in a box filled with a solvent of choice. The box is finite, which gives rise to corner cases and influences the interaction.\n",
        "To avoid these cases and approximate a large or possibly infinite system __Periodic Boundary Conditions (PBCs)__ are used. The simulation box is surrounded by replicas of itself. To fulfil the PBCs, two procedures are needed: particles leaving the simulation box need to be treated and applicable forces from the surrounding virtual boxes need to be included.\n",
        "Sometimes PBCs are used in a way, that particles leaving the box on one side re-appear on the other side with the same velocity.\n",
        "Whichever exact conditions are used, it is still recommended to use a simulation box large enough that a simulated macromolecule does not come into interaction with neighbouring images of itself. "
      ]
    },
    {
      "cell_type": "markdown",
      "metadata": {
        "id": "bing7cq_Bwwg"
      },
      "source": [
        "###Summary"
      ]
    },
    {
      "cell_type": "markdown",
      "metadata": {
        "id": "5ox72nSHwUbE"
      },
      "source": [
        "Wrapping up, molecular dynamics simulate the trajectory of a physico-chemical system by using force fields to describe the interactions between each atom in the system, applying classical physics' law of motions and solving the equations by employing numerical methods that take advantage of the high performance processors of modern computers. This means no statistical mechanics nor quantum physics knowledge is included in the method, although there is ongoing research in the field of quantum force fields. Surprisingly, such deterministic, classical-physics-based description of a physico-chemical system works well enough to provide us with useful insights into what happens at a spatiotemporally not observable scale."
      ]
    },
    {
      "cell_type": "markdown",
      "metadata": {
        "id": "dkhvXl0HLgnb"
      },
      "source": [
        "## Practical\n",
        "\n",
        "We will now proceed to implement a simple MD simulation using `openmm` and `openforcefields` on Google Colab."
      ]
    },
    {
      "cell_type": "markdown",
      "metadata": {
        "id": "DWYT67p1Nvrm"
      },
      "source": [
        "### Set up "
      ]
    },
    {
      "cell_type": "code",
      "metadata": {
        "id": "l2j-qK6Cv2Dz"
      },
      "source": [
        "lib_path = \"/usr/local/lib/python3.6/site-packages\""
      ],
      "execution_count": null,
      "outputs": []
    },
    {
      "cell_type": "markdown",
      "metadata": {
        "id": "7I_BbH58n4h2"
      },
      "source": [
        "#### Installation"
      ]
    },
    {
      "cell_type": "code",
      "metadata": {
        "id": "K78GGT60Nu8p",
        "colab": {
          "base_uri": "https://localhost:8080/"
        },
        "outputId": "9287eb60-3e3a-49bf-90f2-64aad9ebe48c"
      },
      "source": [
        "import sys\n",
        "# Download miniconda\n",
        "!wget -q https://repo.anaconda.com/miniconda/Miniconda3-latest-Linux-x86_64.sh\n",
        "!bash Miniconda3-latest-Linux-x86_64.sh -bfp /usr/local\n",
        "# install required modules\n",
        "!conda install -q -y -c omnia --prefix /usr/local/ python=3.6 openmm;\n",
        "!conda install -q -y -c omnia -c conda-forge --prefix /usr/local/ python=3.6 openmmforcefields;\n",
        "!conda install -q -y -c omnia -c conda-forge --prefix /usr/local/ python=3.6 rdkit;\n",
        "!conda install -q -y -c omnia -c conda-forge --prefix /usr/local/ python=3.6 pdbfixer;\n",
        "!conda install -q -y -c omnia -c conda-forge --prefix /usr/local/ python=3.6 mdtraj;\n",
        "!conda install -q -y -c omnia -c conda-forge --prefix /usr/local/ python=3.6 MDAnalysis;\n",
        "\n",
        "!pip install pypdb\n",
        "# Append path to enable running packages installed with conda\n",
        "sys.path.append(lib_path)\n",
        "\n",
        "#Clear the excesive installation outputs\n",
        "from IPython.display import clear_output\n",
        "clear_output()\n",
        "print(\"done\")"
      ],
      "execution_count": null,
      "outputs": [
        {
          "output_type": "stream",
          "text": [
            "done\n"
          ],
          "name": "stdout"
        }
      ]
    },
    {
      "cell_type": "markdown",
      "metadata": {
        "id": "yikvMH3ig7ux"
      },
      "source": [
        "#### Imports"
      ]
    },
    {
      "cell_type": "code",
      "metadata": {
        "id": "3g6vsWucLgng",
        "colab": {
          "base_uri": "https://localhost:8080/"
        },
        "outputId": "7fec9549-cc96-4abc-b5a9-08ee20cb0187"
      },
      "source": [
        "# imports\n",
        "import io\n",
        "from pathlib import Path\n",
        "import mdtraj as md\n",
        "import numpy as np\n",
        "import simtk.openmm as mm\n",
        "import simtk.openmm.app as app\n",
        "from simtk.openmm import unit as u\n",
        "from simtk.openmm.app import CheckpointReporter, ForceField, PDBFile\n",
        "from openforcefield.topology import Molecule, Topology\n",
        "from openmmforcefields.generators import GAFFTemplateGenerator\n",
        "from google.colab import files\n",
        "\n",
        "from pypdb import *\n",
        "import pdbfixer\n",
        "from rdkit import Chem\n",
        "from rdkit.Chem import Draw\n",
        "from rdkit.Chem import AllChem"
      ],
      "execution_count": null,
      "outputs": [
        {
          "output_type": "stream",
          "text": [
            "Warning: Unable to load toolkit 'OpenEye Toolkit'. The Open Force Field Toolkit does not require the OpenEye Toolkits, and can use RDKit/AmberTools instead. However, if you have a valid license for the OpenEye Toolkits, consider installing them for faster performance and additional file format support: https://docs.eyesopen.com/toolkits/python/quickstart-python/linuxosx.html OpenEye offers free Toolkit licenses for academics: https://www.eyesopen.com/academic-licensing\n"
          ],
          "name": "stderr"
        }
      ]
    },
    {
      "cell_type": "markdown",
      "metadata": {
        "id": "ltkfdrHvn4iI"
      },
      "source": [
        "#### PDB File Download\n",
        "After setting up Google Colab, we need a file to work with. First, we import all needed packages and upload the topology file(s) containing our system.\n",
        "In this case, we will run the simulation on the SARS-CoV-2 main protease in complex with an inhibitor. "
      ]
    },
    {
      "cell_type": "code",
      "metadata": {
        "id": "w5g1k527SexH"
      },
      "source": [
        "folder = Path(\"data\")\n",
        "folder.mkdir(exist_ok=True)"
      ],
      "execution_count": null,
      "outputs": []
    },
    {
      "cell_type": "code",
      "metadata": {
        "id": "46HGV64tvOWn"
      },
      "source": [
        "pdbid = \"6w63\"\n",
        "pdb_path = Path(\"data\") / (pdbid+\".pdb\")"
      ],
      "execution_count": null,
      "outputs": []
    },
    {
      "cell_type": "code",
      "metadata": {
        "id": "Ecabaj2Y9kte"
      },
      "source": [
        "pdb_file_string = get_pdb_file(pdbid, filetype='pdb', compression=False)\n",
        "with open(pdb_path, 'w') as f:\n",
        "    f.write(pdb_file_string)"
      ],
      "execution_count": null,
      "outputs": []
    },
    {
      "cell_type": "code",
      "metadata": {
        "id": "LcgfVjZTOjah"
      },
      "source": [
        "ligand_name = \"X77\""
      ],
      "execution_count": null,
      "outputs": []
    },
    {
      "cell_type": "markdown",
      "metadata": {
        "id": "krsfBvoenaYu"
      },
      "source": [
        "### Fix the PDB File"
      ]
    },
    {
      "cell_type": "markdown",
      "metadata": {
        "id": "t3mGSg8LLgop"
      },
      "source": [
        "#### Add missing atoms and residues to the protein\n",
        "\n",
        "One crucial part to a successful simulation is a correct and complete system. PDB files from crystallographic structures often miss atoms, mainly hydrogens, and may have nonstandard residues.\n",
        "Thus, we need to fix our structure. Several options are available, a common one in python being the package `pdbfixer`. We use it to fix our residues and also remove heterogens, which are any atoms not directly linked to the protein structure. This will remove our ligand as well, but we will add it back later.\n",
        "We will also skip the protonation, which means adding missing hydrogens, of the protein for now. It is better done in complex with the already protonated ligand ligand later on."
      ]
    },
    {
      "cell_type": "code",
      "metadata": {
        "id": "pA9Vct0iNRhl"
      },
      "source": [
        "def fix_pdb_protein(pdb_file, ignore_missing_residues=True):\n",
        "    \"\"\"Use pdbfixer to repair and prepare a pdb file.\n",
        "    Hetatoms are removed, nonstandard residues replaced and missing atoms added.\n",
        "  \n",
        "    Parameters\n",
        "    ----------\n",
        "   pdb_file : str\n",
        "      uploaded pdb file containing a simulateable system\n",
        "    \n",
        "    Returns\n",
        "    -------\n",
        "    fixer : pdbfixer.pdbfixer.PDBFixer\n",
        "        fixed protein system\n",
        "        \"\"\"\n",
        "    fixer = pdbfixer.PDBFixer(pdb_file) #fix pdb\n",
        "    fixer.removeHeterogens()\n",
        "    #needed to determine any residues with problems\n",
        "    if(ignore_missing_residues):\n",
        "      fixer.findMissingResidues() \n",
        "    #set the the list of missing residues to 0 so none get added\n",
        "    fixer.missingResidues = {} \n",
        "    fixer.findNonstandardResidues() # find non standard residue\n",
        "    fixer.replaceNonstandardResidues()# replace non standard residues with standard one\n",
        "    fixer.findMissingAtoms() # find missing heavy atoms\n",
        "    fixer.addMissingAtoms() # add missing atoms and residues\n",
        "    return fixer"
      ],
      "execution_count": null,
      "outputs": []
    },
    {
      "cell_type": "code",
      "metadata": {
        "id": "bxuyg-oxOtvn"
      },
      "source": [
        "fixed_protein = fix_pdb_protein(str(pdb_path))"
      ],
      "execution_count": null,
      "outputs": []
    },
    {
      "cell_type": "markdown",
      "metadata": {
        "id": "_wR47KGjnP2O"
      },
      "source": [
        "#### Add missing Hydrogens to Ligand"
      ]
    },
    {
      "cell_type": "markdown",
      "metadata": {
        "id": "8VoOjhASZ4Jh"
      },
      "source": [
        "After fixing the protein we turn our attention to the ligand. Most libraries handle proteins rather well, but fixing small molecules is a different task.\n",
        "Thus we have to separately protonate our ligand before adding it back to the complex.\n",
        "We use RDKit, which is specialized in small molecules.\n",
        "To correctly add hydrogens, RDKit needs bond-orders. Those are not generally included in pdb files, so we need to assign some from a template. In this case a SMILES string is used.\n",
        "We wrap the entire procedure in one function. \n"
      ]
    },
    {
      "cell_type": "code",
      "metadata": {
        "id": "si7ARKHoabal"
      },
      "source": [
        "def protonate_ligand(pdb_file, ligand_resname, ligand_smiles):\n",
        "    \"\"\"Protonate a ligand molecule with RDKit. The ligand is extracted from a complex system.\n",
        "    A smiles string represantation is used as template for bond order assignment. \n",
        "    For manual checking a before and after image of the ligand is returned.\n",
        "  \n",
        "    Parameters\n",
        "    ----------\n",
        "    pdb_file : str\n",
        "       uploaded pdb file containing a simulateable system\n",
        "    ligand_name :str\n",
        "    ligand_simles : str\n",
        "      smiles representation of ligand to be used as template\n",
        "    \n",
        "    Returns\n",
        "    -------\n",
        "    lig_mol_h : rdkit.Chem.rdchem.Mol\n",
        "      protonated ligand\n",
        "    \"\"\"\n",
        "    #Split the molecule\n",
        "    rdkit_mol = Chem.MolFromPDBFile(pdb_file)\n",
        "    rdkit_mol_split = Chem.rdmolops.SplitMolByPDBResidues(rdkit_mol)\n",
        "\n",
        "    #Extract Ligand and remove any already present hydrogens\n",
        "    ligand = rdkit_mol_split[ligand_resname]\n",
        "    #lig_mol_wo_bond_orders = Chem.RemoveHs(ligand)\n",
        "\n",
        "    #Assign bond orders from template\n",
        "    reference_mol = Chem.MolFromSmiles(ligand_smiles)\n",
        "    lig_mol = AllChem.AssignBondOrdersFromTemplate(reference_mol, ligand)\n",
        "    lig_mol.AddConformer(ligand.GetConformer(0))\n",
        "\n",
        "    #protonate ligand\n",
        "    lig_mol_h = Chem.rdmolops.AddHs(lig_mol, addCoords=True)\n",
        "    img = Draw.MolsToGridImage([ligand, lig_mol_h], molsPerRow=2, legends=[\"original\",\"protonated\"])\n",
        "    return lig_mol_h, img"
      ],
      "execution_count": null,
      "outputs": []
    },
    {
      "cell_type": "markdown",
      "metadata": {
        "id": "GkqslZRknFbq"
      },
      "source": [
        "Calling our function returns a correctly protonated ligand, extracted from the file via its name. Additionally, we return a view of the ligand before and after protonation."
      ]
    },
    {
      "cell_type": "code",
      "metadata": {
        "id": "04v75eTlcEtx"
      },
      "source": [
        "protonated_ligand, ligand_image = protonate_ligand(str(pdb_path), ligand_name,\n",
        "                                     \"CC(C)(C)c1ccc(cc1)N([C@@H](C(=O)NC2CCCCC2)c3cccnc3)C(=O)c4c[nH]cn4\")"
      ],
      "execution_count": null,
      "outputs": []
    },
    {
      "cell_type": "markdown",
      "metadata": {
        "id": "HEffGI0H2OVa"
      },
      "source": [
        "We can now examine the changes made to our molecule."
      ]
    },
    {
      "cell_type": "code",
      "metadata": {
        "id": "w-6fMBVu1AWL",
        "colab": {
          "base_uri": "https://localhost:8080/",
          "height": 217
        },
        "outputId": "d6245758-a257-4635-8d21-d57900107cf8"
      },
      "source": [
        "ligand_image"
      ],
      "execution_count": null,
      "outputs": [
        {
          "output_type": "execute_result",
          "data": {
            "image/png": "[encoded data removed]",
            "text/plain": [
              "<PIL.PngImagePlugin.PngImageFile image mode=RGB size=400x200 at 0x7F2F03FC4E10>"
            ]
          },
          "metadata": {
            "tags": []
          },
          "execution_count": 13
        }
      ]
    },
    {
      "cell_type": "markdown",
      "metadata": {
        "id": "NP9WekSTO5N3"
      },
      "source": [
        "### Merge protein and ligand\n",
        "In the next step we want to merge the protonated ligand with the protein using MDTraj. MDTraj Molecules can be loaded from OpenMM Topologies. We need to do some conversions, since our protonated ligand is an RDKit Molecule at the moment.\n",
        "We write a function, that handles the conversion and adds some naming information back in, which we lost in RDKit."
      ]
    },
    {
      "cell_type": "code",
      "metadata": {
        "id": "UwehzZrhpDnD"
      },
      "source": [
        "def convert_rdkit_to_openmm(molecule, molecule_name=\"lig\"):\n",
        "    \"\"\"Merge two OpenMM Structures together using MDTraj.\n",
        "    \n",
        "    Parameters\n",
        "    ----------\n",
        "    molecule : rdkit.Chem.rdchem.Mol\n",
        "    molecule_name : str, optional\n",
        "    \n",
        "    Returns\n",
        "    -------\n",
        "    off_mol : openforcefield.topology.molecule.Molecule\n",
        "    mol_topology : simtk.openmm.app.topology.Topology\n",
        "    mol_positions : simtk.unit.quantity.Quantity\n",
        "    \"\"\"\n",
        "    #Convert RDKit to OpenFF\n",
        "    off_mol = Molecule.from_rdkit(molecule)\n",
        "\n",
        "    #Add naming of molecule and atoms\n",
        "    off_mol.name = molecule_name\n",
        "    atom_names = {\n",
        "        1: \"H\",\n",
        "        6: \"C\",\n",
        "        7: \"N\",\n",
        "        8: \"O\"\n",
        "        }\n",
        "      \n",
        "    for atom in off_mol.atoms:\n",
        "        atom.name = atom_names.get(atom.atomic_number)\n",
        "\n",
        "    #Convert from OpenFF to OpenMM\n",
        "    off_mol_topology = off_mol.to_topology()\n",
        "    mol_topology = off_mol_topology.to_openmm()\n",
        "    mol_positions = off_mol.conformers[0]\n",
        "    \n",
        "    #Convert Units from Angström to Nanometers\n",
        "    for atom in mol_positions:\n",
        "        coords = atom / atom.unit\n",
        "        atom = (coords / 10.0) * mm.unit.nanometers  # since openmm works in nm\n",
        "        \n",
        "    return off_mol, mol_topology, mol_positions"
      ],
      "execution_count": null,
      "outputs": []
    },
    {
      "cell_type": "code",
      "metadata": {
        "id": "I77OHmv47vEN"
      },
      "source": [
        "off_molecule, ligand_topology, ligand_positions = convert_rdkit_to_openmm(protonated_ligand, ligand_name)"
      ],
      "execution_count": null,
      "outputs": []
    },
    {
      "cell_type": "markdown",
      "metadata": {
        "id": "dqY5AE0JGIgL"
      },
      "source": [
        "Our fixed Protein is already in OpenMM format and can now be merged with the converted ligand."
      ]
    },
    {
      "cell_type": "code",
      "metadata": {
        "id": "8gJMRq8fZYOU"
      },
      "source": [
        "def merge_protein_and_ligand(protein, ligand_topology, ligand_positions):\n",
        "    \"\"\"Merge two OpenMM Structures together.\n",
        "  \n",
        "    Parameters\n",
        "    ----------\n",
        "    protein : pdbfixer.pdbfixer.PDBFixer\n",
        "    ligand_topology : simtk.openmm.app.topology.Topology\n",
        "    ligand_positions : simtk.unit.quantity.Quantity\n",
        "    \n",
        "    Returns\n",
        "    -------\n",
        "    complex_topology : simtk.openmm.app.topology.Topology\n",
        "    complex_positions : simtk.unit.quantity.Quantity\n",
        "    \"\"\"\n",
        "    #Combine Topologies\n",
        "    md_protein_topology = md.Topology.from_openmm(protein.topology)  # using mdtraj for protein top\n",
        "    md_ligand_topology = md.Topology.from_openmm(ligand_topology)  # using mdtraj for ligand top\n",
        "    md_complex_topology = md_protein_topology.join(md_ligand_topology)  # add them together\n",
        "    complex_topology = md_complex_topology.to_openmm()\n",
        "\n",
        "    #Combine Positions\n",
        "    total_atoms = len(protein.positions) + len(ligand_positions)\n",
        "    #Create a OpenMM Quantity Array of right size\n",
        "    complex_positions = unit.Quantity(np.zeros([total_atoms, 3]), unit=unit.nanometers)\n",
        "    complex_positions[0 : len(protein.positions)] = protein.positions #add protein positions\n",
        "    complex_positions[len(protein.positions)+1 : total_atoms] = ligand_positions #add ligand positions\n",
        "\n",
        "    return complex_topology, complex_positions"
      ],
      "execution_count": null,
      "outputs": []
    },
    {
      "cell_type": "code",
      "metadata": {
        "id": "ZXmeeV0ZPOho"
      },
      "source": [
        "complex_topology, complex_positions = merge_protein_and_ligand(fixed_protein, ligand_topology, ligand_positions)"
      ],
      "execution_count": null,
      "outputs": []
    },
    {
      "cell_type": "markdown",
      "metadata": {
        "id": "2HAmjMG5Lgpd"
      },
      "source": [
        "### Molecular dynamics simulation set up\n",
        "\n",
        "We can now use the fixed pdb to set up the MD simulation. "
      ]
    },
    {
      "cell_type": "markdown",
      "metadata": {
        "id": "1B9DRdICny_f"
      },
      "source": [
        "#### Force field\n",
        "We use the General Amber ForceField (GAFF) which includes parameters for small molecules and is able to generate a template for them. This is needed for the force field to be set up properly otherwise the protein force field has \"no knowledge\" of the ligand. The following function generates a force field object using a protein and a solvation forcefield and additionally includes a generated template for a small molecule of choice."
      ]
    },
    {
      "cell_type": "code",
      "metadata": {
        "id": "EFHKhU6v1k-h"
      },
      "source": [
        "def generate_forcefield(molecule = None, protein_ff = \"protein.ff14SB.xml\", solvation_ff = \"tip3p.xml\"):\n",
        "    \"\"\"Generate an OpenFF Forcefield and register a small molecule template.\n",
        "  \n",
        "    Parameters\n",
        "    ----------\n",
        "    molecule : openforcefield.topology.molecule.Molecule, optional\n",
        "    protein_ff : string, optional\n",
        "      Name of the protein forcefield \n",
        "    solvent_ff : string, optional\n",
        "      Name of the solvation forcefield\n",
        "    Returns\n",
        "    -------\n",
        "    complex_topology : simtk.openmm.app.topology.Topology\n",
        "    complex_positions : simtk.unit.quantity.Quantity\n",
        "    \"\"\"\n",
        "    protein_forcefield = Path(lib_path) / \"simtk/openmm/app/data/amber14\" / protein_ff\n",
        "    solvation_forcefield = Path(lib_path) / \"simtk/openmm/app/data/amber14\" / solvation_ff\n",
        "\n",
        "    forcefield = app.ForceField(protein_forcefield, solvation_forcefield)\n",
        "\n",
        "    if(molecule is not None):\n",
        "        gaff = GAFFTemplateGenerator(molecules=molecule)\n",
        "        forcefield.registerTemplateGenerator(gaff.generator)\n",
        "\n",
        "    return forcefield"
      ],
      "execution_count": null,
      "outputs": []
    },
    {
      "cell_type": "code",
      "metadata": {
        "id": "5is-oVrO2Fjy"
      },
      "source": [
        "forcefield = generate_forcefield(off_molecule)"
      ],
      "execution_count": null,
      "outputs": []
    },
    {
      "cell_type": "markdown",
      "metadata": {
        "id": "cGrreylan6XS"
      },
      "source": [
        "#### System"
      ]
    },
    {
      "cell_type": "markdown",
      "metadata": {
        "id": "DzO12MFp2P48"
      },
      "source": [
        "With our configured forcefield we can now create the MD environment containing the complex and add the solvent we wish to simulate in, in this case water. Once the system is solvated we save its pdb file and proceed in setting up the simulation.\n",
        "Remember how we did not protonate the protein but rather only the ligand in an earlier step. Now we add the hydrogens to our complex protonating the protein with a modeller object."
      ]
    },
    {
      "cell_type": "code",
      "metadata": {
        "id": "c4LEvWMI8ash",
        "colab": {
          "base_uri": "https://localhost:8080/"
        },
        "outputId": "d5394a52-1f8c-4dbc-8bb5-afe4e3fb9ce3"
      },
      "source": [
        "# Add solvent\n",
        "modeller = app.Modeller(complex_topology, complex_positions)\n",
        "modeller.addHydrogens(forcefield); #Protonate System\n",
        "modeller.addSolvent(forcefield, padding=1.0*unit.nanometers,\n",
        "                    model='tip3p', ionicStrength=0.15*unit.molar)\n",
        "# Save PDB file of solvated molecule\n",
        "app.PDBFile.writeFile(modeller.topology,\n",
        "                      modeller.positions,\n",
        "                      open('data/MD_system.pdb', 'w'))"
      ],
      "execution_count": null,
      "outputs": [
        {
          "output_type": "stream",
          "text": [
            "Warning: In AmberToolsToolkitwrapper.compute_partial_charges_am1bcc: Molecule 'X77' has more than one conformer, but this function will only generate charges for the first one.\n"
          ],
          "name": "stderr"
        }
      ]
    },
    {
      "cell_type": "markdown",
      "metadata": {
        "id": "TwAEe5d8n4jf"
      },
      "source": [
        "With our solvated complex and the forcefield we can finally create a system and set up the simulation."
      ]
    },
    {
      "cell_type": "code",
      "metadata": {
        "id": "n52Cmkr4dpI-"
      },
      "source": [
        "system = forcefield.createSystem(modeller.topology, nonbondedMethod=app.PME)\n",
        "integrator = mm.LangevinIntegrator(300*unit.kelvin,\n",
        "                                1.0/unit.picoseconds,\n",
        "                                2.0*unit.femtoseconds)\n",
        "simulation = app.Simulation(modeller.topology, system, integrator)"
      ],
      "execution_count": null,
      "outputs": []
    },
    {
      "cell_type": "markdown",
      "metadata": {
        "id": "JwEgrFkILgqL"
      },
      "source": [
        "### Run the MD simulation\n",
        "Now that everything is set-up we can run the simulation. We need to set starting positions and to minimize the energy of the system. Once that is done, we can let the simulation run! Here we are simulating 1 ns. We save one molecular \"snapshot\" every 5000 steps, for a total of 100 frames out of the 500.000 steps we are taking. The results are saved in a .dcd files, which contains the coordinates of all the atoms at a given time point. Together with the pdb file of the system, it gives us all the information about our simulation.  "
      ]
    },
    {
      "cell_type": "code",
      "metadata": {
        "id": "AE3GJtwp_Ccq",
        "colab": {
          "base_uri": "https://localhost:8080/"
        },
        "outputId": "37febe46-eca6-4e7a-c8f0-95a062ae5f76"
      },
      "source": [
        "# Initialize the MD simulation\n",
        "print('Setting up positions...')\n",
        "simulation.context.setPositions(modeller.positions)"
      ],
      "execution_count": null,
      "outputs": [
        {
          "output_type": "stream",
          "text": [
            "Setting up positions...\n"
          ],
          "name": "stdout"
        }
      ]
    },
    {
      "cell_type": "code",
      "metadata": {
        "id": "EgkE1EUGLgqP",
        "colab": {
          "base_uri": "https://localhost:8080/"
        },
        "outputId": "54131097-203a-41c8-bf45-17096737fc1e"
      },
      "source": [
        "# Minimize energy\n",
        "print('Energy minimization in progress...')\n",
        "simulation.minimizeEnergy()"
      ],
      "execution_count": null,
      "outputs": [
        {
          "output_type": "stream",
          "text": [
            "Energy minimization in progress...\n"
          ],
          "name": "stdout"
        }
      ]
    },
    {
      "cell_type": "code",
      "metadata": {
        "id": "E8t-0ZxFLgqh"
      },
      "source": [
        "# Output settings\n",
        "simulation.reporters.append(app.DCDReporter('data/trajectory.dcd', 5000))\n",
        "\n",
        "# Output data\n",
        "simulation.reporters.append(app.StateDataReporter(sys.stdout, 5000, step=True,\n",
        "                                                  potentialEnergy=True, temperature=True, progress=True, remainingTime=True,\n",
        "                                                  speed=True, totalSteps=5*1e5, separator='\\t'))\n",
        "\n",
        "# Set velocities\n",
        "simulation.context.setVelocitiesToTemperature(300*unit.kelvin)"
      ],
      "execution_count": null,
      "outputs": []
    },
    {
      "cell_type": "code",
      "metadata": {
        "id": "7B7AiVO3fr03",
        "colab": {
          "base_uri": "https://localhost:8080/"
        },
        "outputId": "d44a013e-c8fd-4889-fea7-00156c9cff5d"
      },
      "source": [
        "# Run the simulation\n",
        "simulation.step(5*1e5)"
      ],
      "execution_count": null,
      "outputs": [
        {
          "output_type": "stream",
          "text": [
            "#\"Progress (%)\"\t\"Step\"\t\"Potential Energy (kJ/mole)\"\t\"Temperature (K)\"\t\"Speed (ns/day)\"\t\"Time Remaining\"\n",
            "1.0%\t5000\t-860150.115497224\t299.4726952308724\t0\t--\n",
            "2.0%\t10000\t-863458.865497224\t301.7400771562922\t91.4\t15:25\n",
            "3.0%\t15000\t-861987.365497224\t300.31363467929344\t90.9\t15:22\n",
            "4.0%\t20000\t-860728.365497224\t300.8191763089624\t90.4\t15:17\n",
            "5.0%\t25000\t-862821.865497224\t299.9709419636196\t90\t15:12\n",
            "6.0%\t30000\t-861785.865497224\t297.7316565603197\t89.7\t15:05\n",
            "7.0%\t35000\t-860661.365497224\t301.2343576718918\t89.1\t15:01\n",
            "8.0%\t40000\t-862188.365497224\t298.0157897657093\t88.6\t14:57\n",
            "9.0%\t45000\t-862851.115497224\t299.21414274797763\t88\t14:53\n",
            "10.0%\t50000\t-861463.865497224\t299.5455588264192\t87.5\t14:48\n",
            "11.0%\t55000\t-862979.365497224\t300.44510071046335\t86.9\t14:44\n",
            "12.0%\t60000\t-861736.365497224\t300.7911923879831\t86.5\t14:39\n",
            "13.0%\t65000\t-862940.865497224\t299.45751958414445\t86.1\t14:32\n",
            "14.0%\t70000\t-860563.115497224\t300.14698126776517\t86\t14:23\n",
            "15.0%\t75000\t-862117.615497224\t300.46957959222664\t85.8\t14:15\n",
            "16.0%\t80000\t-862943.615497224\t300.49944211723187\t85.7\t14:07\n",
            "17.0%\t85000\t-862530.865497224\t299.73972958176773\t85.6\t13:57\n",
            "18.0%\t90000\t-860995.865497224\t301.864910196278\t85.4\t13:49\n",
            "19.0%\t95000\t-863346.365497224\t300.415331848299\t85.3\t13:40\n",
            "20.0%\t100000\t-860453.365497224\t298.9139027983758\t85.2\t13:31\n",
            "21.0%\t105000\t-862345.365497224\t297.86569057322\t85.1\t13:22\n",
            "22.0%\t110000\t-862178.615497224\t301.82257552872613\t85\t13:12\n",
            "23.0%\t115000\t-861986.365497224\t301.28840543925827\t84.9\t13:03\n",
            "24.0%\t120000\t-860884.365497224\t301.07391744076017\t84.9\t12:53\n",
            "25.0%\t125000\t-861902.365497224\t300.6325025057144\t84.8\t12:44\n",
            "26.0%\t130000\t-864621.865497224\t299.769160383247\t84.8\t12:34\n",
            "27.0%\t135000\t-863245.365497224\t299.4392318565236\t84.7\t12:24\n",
            "28.0%\t140000\t-861713.615497224\t299.27369340955147\t84.6\t12:14\n",
            "29.0%\t145000\t-862679.365497224\t298.3615426323928\t84.6\t12:05\n",
            "30.0%\t150000\t-860867.865497224\t300.7037294588932\t84.6\t11:55\n",
            "31.0%\t155000\t-861835.365497224\t298.6685067053501\t84.5\t11:45\n",
            "32.0%\t160000\t-862076.865497224\t298.3090961637973\t84.5\t11:35\n",
            "33.0%\t165000\t-863138.865497224\t300.2037676133659\t84.4\t11:25\n",
            "34.0%\t170000\t-861900.365497224\t300.2032082030416\t84.4\t11:15\n",
            "35.0%\t175000\t-862926.115497224\t299.399927758797\t84.3\t11:05\n",
            "36.0%\t180000\t-862444.865497224\t299.3386506263541\t84.3\t10:55\n",
            "37.0%\t185000\t-863688.865497224\t299.523725266155\t84.3\t10:45\n",
            "38.0%\t190000\t-861379.365497224\t301.25053491878083\t84.3\t10:35\n",
            "39.0%\t195000\t-863446.865497224\t300.82327717475266\t84.2\t10:25\n",
            "40.0%\t200000\t-863712.115497224\t299.2455676218935\t84.2\t10:15\n",
            "41.0%\t205000\t-862078.865497224\t298.5725564965477\t84.2\t10:05\n",
            "42.0%\t210000\t-862069.615497224\t300.73117344446854\t84.1\t9:55\n",
            "43.0%\t215000\t-862867.615497224\t300.60889595386794\t84.1\t9:45\n",
            "44.0%\t220000\t-861764.365497224\t300.0760610450507\t84.1\t9:35\n",
            "45.0%\t225000\t-861653.865497224\t298.85079791667437\t84.1\t9:25\n",
            "46.0%\t230000\t-862036.365497224\t300.2957049599257\t84.1\t9:14\n",
            "47.0%\t235000\t-863335.865497224\t301.41043110869657\t84.1\t9:04\n",
            "48.0%\t240000\t-863426.865497224\t301.94191152636387\t84\t8:54\n",
            "49.0%\t245000\t-863259.115497224\t297.83343118518974\t84\t8:44\n",
            "50.0%\t250000\t-862114.365497224\t299.1444499274165\t84\t8:34\n",
            "51.0%\t255000\t-864132.615497224\t301.35381802327043\t84\t8:23\n",
            "52.0%\t260000\t-862830.865497224\t299.45168740186114\t84\t8:13\n",
            "53.0%\t265000\t-863601.115497224\t299.4505247483757\t84\t8:03\n",
            "54.0%\t270000\t-861294.865497224\t299.4099424700685\t84\t7:53\n",
            "55.0%\t275000\t-862164.865497224\t300.13902852875424\t84\t7:42\n",
            "56.0%\t280000\t-863782.365497224\t298.9614540380945\t84\t7:32\n",
            "57.0%\t285000\t-861792.865497224\t299.0970445319889\t84\t7:22\n",
            "58.0%\t290000\t-863798.115497224\t301.40758474798963\t84\t7:12\n",
            "59.0%\t295000\t-861674.615497224\t301.1722424841201\t84\t7:01\n",
            "60.0%\t300000\t-862357.115497224\t299.52821456772637\t84\t6:51\n",
            "61.0%\t305000\t-862727.365497224\t300.49950926542067\t83.9\t6:41\n",
            "62.0%\t310000\t-862158.865497224\t300.45496602478033\t84\t6:31\n",
            "63.0%\t315000\t-862048.115497224\t299.9488324808958\t83.9\t6:20\n",
            "64.0%\t320000\t-861947.615497224\t300.6033830265004\t83.9\t6:10\n",
            "65.0%\t325000\t-862001.865497224\t300.81552658196006\t83.9\t6:00\n",
            "66.0%\t330000\t-862523.115497224\t298.8820796448249\t83.9\t5:50\n",
            "67.0%\t335000\t-863905.365497224\t301.42695427882745\t83.9\t5:39\n",
            "68.0%\t340000\t-864353.865497224\t299.207929465416\t83.9\t5:29\n",
            "69.0%\t345000\t-863347.115497224\t298.975112028755\t83.9\t5:19\n",
            "70.0%\t350000\t-861850.865497224\t300.45961818174817\t83.9\t5:08\n",
            "71.0%\t355000\t-862563.365497224\t300.3012796282244\t83.9\t4:58\n",
            "72.0%\t360000\t-861414.365497224\t300.0883939926979\t83.9\t4:48\n",
            "73.0%\t365000\t-860034.615497224\t298.78539271725367\t83.9\t4:37\n",
            "74.0%\t370000\t-861510.365497224\t299.3699313556452\t83.9\t4:27\n",
            "75.0%\t375000\t-862025.865497224\t300.4590215337553\t83.9\t4:17\n",
            "76.0%\t380000\t-862924.865497224\t300.6332121455852\t83.9\t4:07\n",
            "77.0%\t385000\t-862219.365497224\t300.80302152452117\t83.9\t3:56\n",
            "78.0%\t390000\t-862358.865497224\t299.1189688929066\t83.9\t3:46\n",
            "79.0%\t395000\t-862633.365497224\t299.2643447874622\t83.9\t3:36\n",
            "80.0%\t400000\t-861913.865497224\t300.7720416470396\t83.9\t3:25\n",
            "81.0%\t405000\t-861339.865497224\t301.8171418547366\t83.9\t3:15\n",
            "82.0%\t410000\t-862873.615497224\t299.9206046118744\t83.9\t3:05\n",
            "83.0%\t415000\t-861975.865497224\t301.9147995630411\t83.9\t2:55\n",
            "84.0%\t420000\t-863288.365497224\t300.6489826478677\t83.9\t2:44\n",
            "85.0%\t425000\t-863497.865497224\t299.48576047268523\t83.9\t2:34\n",
            "86.0%\t430000\t-862375.615497224\t301.7397863951156\t83.9\t2:24\n",
            "87.0%\t435000\t-863260.115497224\t302.3370001671856\t83.9\t2:13\n",
            "88.0%\t440000\t-861552.865497224\t301.182256375891\t83.9\t2:03\n",
            "89.0%\t445000\t-862799.865497224\t300.9562469365768\t83.9\t1:53\n",
            "90.0%\t450000\t-863180.365497224\t300.74143105161033\t83.9\t1:42\n",
            "91.0%\t455000\t-862889.115497224\t299.6369564333386\t83.9\t1:32\n",
            "92.0%\t460000\t-861719.365497224\t300.54317473268276\t83.9\t1:22\n",
            "93.0%\t465000\t-863388.365497224\t299.74138944234244\t83.9\t1:12\n",
            "94.0%\t470000\t-861834.865497224\t298.96699306420214\t83.9\t1:01\n",
            "95.0%\t475000\t-862292.865497224\t299.6910846801646\t83.9\t0:51\n",
            "96.0%\t480000\t-861336.865497224\t299.83012643861065\t83.9\t0:41\n",
            "97.0%\t485000\t-861173.365497224\t301.9036184390122\t83.9\t0:30\n",
            "98.0%\t490000\t-861525.115497224\t301.6424227090048\t83.9\t0:20\n",
            "99.0%\t495000\t-863589.615497224\t299.501644688123\t83.9\t0:10\n",
            "100.0%\t500000\t-862127.865497224\t302.67566016849685\t83.9\t0:00\n"
          ],
          "name": "stdout"
        }
      ]
    },
    {
      "cell_type": "markdown",
      "metadata": {
        "id": "M_Wf2prXqoif"
      },
      "source": [
        "#### Download results"
      ]
    },
    {
      "cell_type": "code",
      "metadata": {
        "id": "FfcMX8G1i0RY",
        "colab": {
          "base_uri": "https://localhost:8080/",
          "height": 50
        },
        "outputId": "fa0a941a-45fe-4f50-c0bb-e8c6d1fe3cda"
      },
      "source": [
        "files.download('data/MD_system.pdb')\n",
        "files.download('data/trajectory.dcd')"
      ],
      "execution_count": null,
      "outputs": [
        {
          "output_type": "display_data",
          "data": {
            "application/javascript": [
              "\n",
              "    async function download(id, filename, size) {\n",
              "      if (!google.colab.kernel.accessAllowed) {\n",
              "        return;\n",
              "      }\n",
              "      const div = document.createElement('div');\n",
              "      const label = document.createElement('label');\n",
              "      label.textContent = `Downloading \"${filename}\": `;\n",
              "      div.appendChild(label);\n",
              "      const progress = document.createElement('progress');\n",
              "      progress.max = size;\n",
              "      div.appendChild(progress);\n",
              "      document.body.appendChild(div);\n",
              "\n",
              "      const buffers = [];\n",
              "      let downloaded = 0;\n",
              "\n",
              "      const channel = await google.colab.kernel.comms.open(id);\n",
              "      // Send a message to notify the kernel that we're ready.\n",
              "      channel.send({})\n",
              "\n",
              "      for await (const message of channel.messages) {\n",
              "        // Send a message to notify the kernel that we're ready.\n",
              "        channel.send({})\n",
              "        if (message.buffers) {\n",
              "          for (const buffer of message.buffers) {\n",
              "            buffers.push(buffer);\n",
              "            downloaded += buffer.byteLength;\n",
              "            progress.value = downloaded;\n",
              "          }\n",
              "        }\n",
              "      }\n",
              "      const blob = new Blob(buffers, {type: 'application/binary'});\n",
              "      const a = document.createElement('a');\n",
              "      a.href = window.URL.createObjectURL(blob);\n",
              "      a.download = filename;\n",
              "      div.appendChild(a);\n",
              "      a.click();\n",
              "      div.remove();\n",
              "    }\n",
              "  "
            ],
            "text/plain": [
              "<IPython.core.display.Javascript object>"
            ]
          },
          "metadata": {
            "tags": []
          }
        },
        {
          "output_type": "display_data",
          "data": {
            "application/javascript": [
              "download(\"download_49509b4a-99f8-437d-bd50-b506e7ecaea3\", \"MD_system.pdb\", 5258502)"
            ],
            "text/plain": [
              "<IPython.core.display.Javascript object>"
            ]
          },
          "metadata": {
            "tags": []
          }
        },
        {
          "output_type": "display_data",
          "data": {
            "application/javascript": [
              "\n",
              "    async function download(id, filename, size) {\n",
              "      if (!google.colab.kernel.accessAllowed) {\n",
              "        return;\n",
              "      }\n",
              "      const div = document.createElement('div');\n",
              "      const label = document.createElement('label');\n",
              "      label.textContent = `Downloading \"${filename}\": `;\n",
              "      div.appendChild(label);\n",
              "      const progress = document.createElement('progress');\n",
              "      progress.max = size;\n",
              "      div.appendChild(progress);\n",
              "      document.body.appendChild(div);\n",
              "\n",
              "      const buffers = [];\n",
              "      let downloaded = 0;\n",
              "\n",
              "      const channel = await google.colab.kernel.comms.open(id);\n",
              "      // Send a message to notify the kernel that we're ready.\n",
              "      channel.send({})\n",
              "\n",
              "      for await (const message of channel.messages) {\n",
              "        // Send a message to notify the kernel that we're ready.\n",
              "        channel.send({})\n",
              "        if (message.buffers) {\n",
              "          for (const buffer of message.buffers) {\n",
              "            buffers.push(buffer);\n",
              "            downloaded += buffer.byteLength;\n",
              "            progress.value = downloaded;\n",
              "          }\n",
              "        }\n",
              "      }\n",
              "      const blob = new Blob(buffers, {type: 'application/binary'});\n",
              "      const a = document.createElement('a');\n",
              "      a.href = window.URL.createObjectURL(blob);\n",
              "      a.download = filename;\n",
              "      div.appendChild(a);\n",
              "      a.click();\n",
              "      div.remove();\n",
              "    }\n",
              "  "
            ],
            "text/plain": [
              "<IPython.core.display.Javascript object>"
            ]
          },
          "metadata": {
            "tags": []
          }
        },
        {
          "output_type": "display_data",
          "data": {
            "application/javascript": [
              "download(\"download_b887a8c2-673f-4afb-b6bc-323aedc6c38e\", \"trajectory.dcd\", 77885876)"
            ],
            "text/plain": [
              "<IPython.core.display.Javascript object>"
            ]
          },
          "metadata": {
            "tags": []
          }
        }
      ]
    },
    {
      "cell_type": "markdown",
      "metadata": {
        "id": "aAleBNfKyhCd"
      },
      "source": [
        "We have successfully ran a MD simulation! If you want to know how to visualize the results, you can refer to the next notebook in the repository.   \n",
        "   \n",
        "As last I would like to add a quick note about the run-time. We saw that running this kind of simulations can be quite computationally expensive and long. Here on Google Colaboratory we achieved a speed of 3.7 ns/day, which is manageable but still slow, especially if we need to run longer simulations and multiple times with different settings. I also tried running the same simulation on a Ubuntu VM on Virtualbox (Windows 10 host), achieving 1 ns/day as speed. Given that it was running on 4 virtual cores (host processor Intel core i7 8th gen) and not on the host machine 8 cores, it was probably a bit slower than it could have been, but it is clear that CPU is not the way to go for such applications. GPU parallel computations allow to reduce the run time exponentially and should always be preferred.  "
      ]
    }
  ]
}