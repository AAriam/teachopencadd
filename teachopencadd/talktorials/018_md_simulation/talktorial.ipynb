{
  "nbformat": 4,
  "nbformat_minor": 0,
  "metadata": {
    "accelerator": "GPU",
    "colab": {
      "name": "talktorial.ipynb",
      "provenance": [],
      "collapsed_sections": [],
      "toc_visible": true
    },
    "kernelspec": {
      "display_name": "Python 3",
      "language": "python",
      "name": "python3"
    },
    "language_info": {
      "codemirror_mode": {
        "name": "ipython",
        "version": 3
      },
      "file_extension": ".py",
      "mimetype": "text/x-python",
      "name": "python",
      "nbconvert_exporter": "python",
      "pygments_lexer": "ipython3",
      "version": "3.6.10"
    }
  },
  "cells": [
    {
      "cell_type": "markdown",
      "metadata": {
        "id": "Rc3gPsMdLgmK"
      },
      "source": [
        "# Molecular Dynamics simulation of SARS Cov2 main protease in complex with inhibitor\n",
        "\n",
        "Developed in the CADD Seminar 2020, AG Volkamer, Charité/FU Berlin \n",
        "\n",
        "Authors:\n",
        "- Pietro Gerletti\n",
        "- David Schaller\n",
        "- Mareike Leja"
      ]
    },
    {
      "cell_type": "markdown",
      "metadata": {
        "id": "UW4tm2QSHToz"
      },
      "source": [
        "__Talktorial T18__"
      ]
    },
    {
      "cell_type": "markdown",
      "metadata": {
        "id": "ehs-GJfkwUap"
      },
      "source": [
        "__Note__\n",
        "\n",
        "The notebook presented here is designed to be run on Google Colab. It is possible to run it on a normal laptop, if sufficient computational power is available, preferably on a GPU."
      ]
    },
    {
      "cell_type": "markdown",
      "metadata": {
        "id": "v0WOINBLExEO"
      },
      "source": [
        "## Aim of this talktorial"
      ]
    },
    {
      "cell_type": "markdown",
      "metadata": {
        "id": "ETO2kR5CE6-E"
      },
      "source": [
        "At the end of this talktorial we want to perform a Molecular Dynamics Simulation of a protein in complex with a ligand. We will follow the steps from obtaining and fixing a structure, to creating a forcefield and finally running the simulation."
      ]
    },
    {
      "cell_type": "markdown",
      "metadata": {
        "id": "mNvsYi3OLgmU"
      },
      "source": [
        "## Learning goals\n",
        "\n",
        "\n",
        "### Contents in *Theory*\n",
        "\n",
        "\n",
        "* Main protease of SARS-CoV-2 \n",
        "* Molecular dynamics\n",
        "* Force fields\n",
        "* Boundary conditions\n",
        "* Summary\n",
        "\n",
        "### Contents in *Practical*\n",
        "\n",
        "* Set up\n",
        "  * Installation\n",
        "  * Imorts\n",
        "  * PDB file download\n",
        "* Fix PDB file\n",
        "  * Add missing atoms and residues to protein\n",
        "  * Add missing hydrogens to ligand\n",
        "* Merge protein and ligand\n",
        "* Molecular Dynamics simulation set up\n",
        "  * Force field\n",
        "  * System\n",
        "* Run the simulation\n",
        "  * Download results\n",
        "\n",
        "### References\n",
        "\n",
        "* De Vivo M, Masetti M, Bottegoni G, Cavalli A. *Role of Molecular Dynamics and Related Methods in Drug Discovery*\n",
        "([<i>J Med Chem.</i> (2016), <b>59</b>(9), 4035‐4061](https://pubs.acs.org/doi/10.1021/acs.jmedchem.5b01684))\n",
        "\n",
        "* Sereina Riniker, *Fixed-Charge Atomistic Force Fields for Molecular Dynamics Simulations in the Condensed Phase: An Overview*\n",
        "([<i>Journal of Chemical Information and Modeling</i> (2018), <b>58</b>(3), 565-578](https://pubs.acs.org/doi/10.1021/acs.jcim.8b00042))\n",
        "\n",
        "* Mesecar A.D., *A taxonomically-driven approach to development of potent, broad-spectrum inhibitors of coronavirus main protease including SARS-CoV-2*\n",
        "\n",
        "* Marina Macchiagodena, Marco Pagliai, Piero Procacci, *Identification of potential binders of the main protease 3CLpro of the COVID-19 via structure-based ligand design and molecular modeling*\n",
        "([<i>Chemical Physics Letters</i> (2020), <b>750</b>](https://iupac.org/publications/pac/70/5/1129/))\n",
        "\n",
        "* Sumit Sharma, Pramod Kumar, Rakesh Chandra *Chapter 1 - Introduction to Molecular Dynamics*\n",
        "([<i>Molecular Dynamics Simulation of Nanocomposites Using BIOVIA Materials Studio, Lammps and Gromacs</i> (2019)](https://doi.org/10.1016/B978-0-12-816954-4.00001-2))\n",
        "\n",
        "* P. S. de Laplace, *Oeuvres Complètes de Laplace. Théorie Analytique des Probabilités*\n",
        "(<i>volume VII Gauthier-Villars</i> (1820), 3rd ed)\n",
        "\n",
        "\n",
        "* Jaime Rodríguez-Guerra, Volkamer lab, Charité [Molecular Dynamics Simulation and Analysis in a Notebook](https://github.com/jaimergp/uab-msc-bioinf/blob/master/MD%20Simulation%20and%20Analysis%20in%20a%20Notebook.ipynb)\n",
        "\n",
        "* [OpenMM](https://github.com/openmm/openmmforcefields)\n",
        "\n",
        "* [PDB Fixer](http://htmlpreview.github.io/?https://raw.github.com/pandegroup/pdbfixer/master/Manual.html)\n",
        "* Wikipedia Articles about [AMBER](https://en.wikipedia.org/wiki/AMBER)\n",
        "and [Force Fields](https://en.wikipedia.org/wiki/Force_field_(chemistry))"
      ]
    },
    {
      "cell_type": "markdown",
      "metadata": {
        "id": "WpSLhe8ZLgmd"
      },
      "source": [
        "## Theory"
      ]
    },
    {
      "cell_type": "markdown",
      "metadata": {
        "id": "ffIAyMqdwUat"
      },
      "source": [
        "In this notebook we will focus on how to perform molecular dynamics (MD) simulations of a protein in complex with a small ligand molecule. Here, the main protease of SARS-CoV-2 in complex with the inhibitor X77 is used. Therefore a short introduction to SARS-CoV-2 and the protease is included. \n",
        "\n"
      ]
    },
    {
      "cell_type": "markdown",
      "metadata": {
        "id": "z-ZEaeB2n4hg"
      },
      "source": [
        "### Main protease of SARS-CoV-2 \n",
        "\n",
        "SARS-CoV-2 genome encodes, between others, polyproteins that are cleaved and transformed to non-structural proteins by proteases. These non-structural proteins play a fundamental role in the pathogenesis. Blocking their production could significantly reduce the virulence of SARS-CoV-2. One possible way of doing this is to inhibit the viral proteases needed for the correct cleaving of the non-structural proteins. This makes the main protease of SARS-CoV-2 a candidate target for the development of a much needed antiviral drug. Here we used the pdb structure of the protease in complex with the inhibitor X77 provided by Mesecar (2020) to perform a MD simulation, providing a 1 ns molecular trajectory. "
      ]
    },
    {
      "cell_type": "markdown",
      "metadata": {
        "id": "fARXaAnzwUau"
      },
      "source": [
        "![SARS-CoV-2](https://cdn.rcsb.org/images/structures/w6/6w63/6w63_assembly-1.jpeg)\n",
        "\n",
        "*Figure 1*: Structure of COVID-19 main protease bound to potent broad-spectrum non-covalent inhibitor X77, Mesecar A.D. (2020), on [RCSB](https://www.rcsb.org/structure/6w63) "
      ]
    },
    {
      "cell_type": "markdown",
      "metadata": {
        "id": "lxhBZyifLgmm"
      },
      "source": [
        "### Molecular dynamics"
      ]
    },
    {
      "cell_type": "markdown",
      "metadata": {
        "id": "svQEDsBCwUa5"
      },
      "source": [
        "MD is a computational method for analyzing how the atoms and molecules of a system move and interact with each other. The method stems from theoretical physics, where it was developed in the years around 1950, although the ideas behind it can be dated much earlier:\n",
        "\n",
        "*An intelligence which could, at  any moment, comprehend all the forces by  which nature is animated and the  respective positions of the  beings of which it is  composed, and moreover, if this intelligence were far-reaching enough to subject these data to  analysis, it would encompass in that formula both the movements of the  largest bodies in  the universe and those of the lightest atom: to it nothing would be uncertain, and the  future, as well as the past, would be present to its eyes. The human mind offers us, in the perfection which it has  given to  astronomy, a faint sketch of this intelligence.*\n",
        "\n",
        "__Pierre Simon de Laplace, 1820 A.D.__\n"
      ]
    },
    {
      "cell_type": "markdown",
      "metadata": {
        "id": "kLgNBvtIm7S3"
      },
      "source": [
        "This statement brings up discussions about whether it is possible to actually predict every future state of a system by knowing EVERYTHING about its components and the laws governing it (which would take us through discussing chaos and randomness in mathematical philosophy up to relativity vs quantum physics and beyond... but if you are interested in the topic(s), here is a very interesting documentary on [youtube](https://www.youtube.com/watch?v=XDpurdHKpb8).\n",
        "Let us just take this statement by de Laplace as the ideological substrate underneath molecular dynamics simulations. In other terms, we can approximate the behavior of a physical system by knowing the characteristics of its components and applying Newton's motion laws. By solving the equations of motion, we can obtain a molecular trajectory of the system, i.e. a series of snapshots with the positions and velocities of all its particles, as well as its potential energy. To do so we define functions, called force fields, which provide an approximate description of all the forces applied to each particle in the system. We then use numerical integrators to solve the initial value problem for the system and obtain the trajectory. As it sounds, the process requires quite a bit of processing power and it was only few years ago that MD started seeing a more widespread use, especially in the field of computational chemistry and biology, as well as in drug discovery."
      ]
    },
    {
      "cell_type": "markdown",
      "metadata": {
        "id": "yXlInBPrwUa6"
      },
      "source": [
        "![MD Rotor](https://upload.wikimedia.org/wikipedia/commons/b/b6/MD_rotor_250K_1ns.gif)\n",
        "\n",
        "*Figure 2*: Molecular dynamics ~1 nanosecond movie of rotation of a supramolecule composed of three molecules in a confined nanoscopic pore (outer diameter = 6.7 nm) on a silver surface at ~ 250 K; Palma, C.-A.; Kühne, D.; Klappenberger, F.; Barth, J.V. - Technische Universität München, on <a href=\"https://commons.wikimedia.org/w/index.php?curid=34866205\">Wikimedia</a></p>"
      ]
    },
    {
      "cell_type": "markdown",
      "metadata": {
        "id": "plElNr9RwUa7"
      },
      "source": [
        "We will now dig a bit deeper in the equations behind MD, the force fields, to gain a better understanding how what we will be doing in the practical part."
      ]
    },
    {
      "cell_type": "markdown",
      "metadata": {
        "id": "8-uCG3KPwUa8"
      },
      "source": [
        "### Force fields\n",
        "\n"
      ]
    },
    {
      "cell_type": "markdown",
      "metadata": {
        "id": "NC8t-i-cwUbB"
      },
      "source": [
        "Force fields describe the forces between the atoms within and between the molecules. They are parametric equations with different components, each corresponding to a precise interaction (e.g. bond torsion angles, steric hindrance, etc.). The parameters values are usually derived experimentally and change for each MD scenario, depending on the molecules involved and the simulations settings. The result is a mathematical description of the energy landscape of the system, in which the forces acting on each particle result from the gradient of the potential energy with respect to the coordinates of the atoms.\n",
        "\n",
        "A lot of different force fields are available, each with its own characteristics. In this notebook, we will use the AMBER force fields, which are widely used for MD simulations of proteins. Their functional form is:\n",
        "\n",
        "$$V(r^N) = \\sum_{i \\in  bonds}k_{bi} (l_i-l^0_i)^2 + \\sum_{i \\in  angles}k_{ai}(\\theta_i - \\theta^0_i)^2 + \\sum_{i\\in torsions} \\sum_n \\frac{1}{2} V_i^n[1+cos(nw_i-\\gamma_i)] + \\sum_{j=1}^{N-1}\\sum_{I=j+1}^{N} f_{ij}\\in ij [(\\frac{r^0_{ij}}{r_{ij}})^{12}-2(\\frac{r^0_{ij}}{r_{ij}})^{6}]+\\frac{q_iq_j}{4\\pi \\in_0 r_{ij}}$$"
      ]
    },
    {
      "cell_type": "markdown",
      "metadata": {
        "id": "pjSsc4l-wUbB"
      },
      "source": [
        "The formula consists of a sum of different components, each describing a different interaction: the first two contain information about bonds length and their angles (intramolecular forces), the third term describes torsional forces and the last component describes intermolecular, non-bonded forces like Van-der-Waals and electrostatic energies. The various parameters, denoteb by a superscricpt 0, depend on the forcefield used and vary between all members of the AMBER forcefield family.\n",
        "Note that these force fields assume fixed-charge particles and do not allow polarization, nor do they consider how a local charge influences its surroundings. \n",
        "\n",
        "The following visual representation of force fields components shows the same concepts in a more intuitive way."
      ]
    },
    {
      "cell_type": "markdown",
      "metadata": {
        "id": "6aDDjIqYwUbC"
      },
      "source": [
        "![physics](https://upload.wikimedia.org/wikipedia/commons/thumb/5/5c/MM_PEF.png/1200px-MM_PEF.png)\n",
        "\n",
        "*Figure 3*: Physics on a molecular scale, Dhatfield on <a href=\"https://commons.wikimedia.org/w/index.php?curid=4194424\">Wikimedia</a></p>"
      ]
    },
    {
      "cell_type": "markdown",
      "metadata": {
        "id": "xefD3p0TwUbD"
      },
      "source": [
        "After selecting a force field to run the MD Simulation with, the equation needs to be parametrized according to the specific scenario we wish to simulate. In this process, an algorithm will fetch the parameters needed (in this case we rely on `openforcefields`), taking into account the simulation settings. Usually the process involves these basic steps (but it can vary):\n",
        "\n",
        "* fetch the crystal structure/chemical formula\n",
        "* define atom types\n",
        "* get atomic charges\n",
        "* assign initial Lennard-Jones and bond parameters \n",
        "* test density and geometry (reference data)\n",
        "* test energetic properties (surface and hydration energy - compare with reference data)\n",
        "\n",
        "Once the force field is parametrized, the simulation basically consists in solving a differential equations system and saving the resulting trajectory."
      ]
    },
    {
      "cell_type": "markdown",
      "metadata": {
        "id": "3J7LdqzKB0PM"
      },
      "source": [
        "###Boundary conditions\n",
        "\n",
        "Usually the structures are simulated in a box filled with a solvent of choice. The box is finite, which gives rise to corner cases and influences the interaction.\n",
        "To avoid these cases and approximate a large or possibly infinite system __Periodic Boundary Conditions (PBCs)__ are used. The simulation box is surrounded by replicas of itself. To fulfil the PBCs, two procedures are needed: particles leaving the simulation box need to be treated and applicable forces from the surrounding virtual boxes need to be included.\n",
        "Sometimes PBCs are used in a way, that particles leaving the box on one side re-appear on the other side with the same velocity.\n",
        "Whichever exact conditions are used, it is still recommended to use a simulation box large enough that a simulated macromolecule does not come into interaction with neighbouring images of itself. "
      ]
    },
    {
      "cell_type": "markdown",
      "metadata": {
        "id": "bing7cq_Bwwg"
      },
      "source": [
        "###Summary"
      ]
    },
    {
      "cell_type": "markdown",
      "metadata": {
        "id": "5ox72nSHwUbE"
      },
      "source": [
        "Wrapping up, molecular dynamics simulate the trajectory of a physico-chemical system by using force fields to describe the interactions between each atom in the system, applying classical physics' law of motions and solving the equations by employing numerical methods that take advantage of the high performance processors of modern computers. This means no statistical mechanics nor quantum physics knowledge is included in the method, although there is ongoing research in the field of quantum force fields. Surprisingly, such deterministic, classical-physics-based description of a physico-chemical system works well enough to provide us with useful insights into what happens at a spatiotemporally not observable scale.\n",
        "\n",
        "This, in turn, gives valuable insight into the highly dynamic processes of molecular interactions. When a small molecule (ligand) finds a macromolecule (protein) in a solution, it encounters a structure in conctant motion. "
      ]
    },
    {
      "cell_type": "markdown",
      "metadata": {
        "id": "zjcLLVbKNt-F"
      },
      "source": [
        "### MD Simulation and Drug Design\n",
        "\n",
        "Even short simulations give valuable insight into the highly dynamic processes of molecular interactions. When a small molecule (ligand) finds a macromolecule (protein) in a solution, it encounters a structure in constant motion. Additionally, the molecules interact and may induce conformational changes pushing the structure to a conformation, that can best accomodate a binding. Those conformations may not be typically sampled with static methods when a ligand is absent. Fittingly, binding sites that are not obvious from static structures, but can be discovered with MD Simulations, are sometimes called *cryptic binding sites*. \n",
        "The identification of binding sites with MD Simulation can kickstart the drug discovery journey. Later in the process, the simulations can be used for evaluation of binding. \n",
        "Alltogether, MD Simulations pose a valuable asset in computer aided drug design."
      ]
    },
    {
      "cell_type": "markdown",
      "metadata": {
        "id": "dkhvXl0HLgnb"
      },
      "source": [
        "## Practical\n",
        "\n",
        "We will now proceed to implement a simple MD simulation using `openmm` and `openforcefields` on Google Colab."
      ]
    },
    {
      "cell_type": "markdown",
      "metadata": {
        "id": "DWYT67p1Nvrm"
      },
      "source": [
        "### Set up \n",
        "\n",
        "For installing the packages in Google Colab the path to the python installations packages folder is needed. Given is the default path for Python 3.6."
      ]
    },
    {
      "cell_type": "code",
      "metadata": {
        "id": "l2j-qK6Cv2Dz"
      },
      "source": [
        "lib_path = \"/usr/local/lib/python3.6/site-packages\""
      ],
      "execution_count": null,
      "outputs": []
    },
    {
      "cell_type": "markdown",
      "metadata": {
        "id": "7I_BbH58n4h2"
      },
      "source": [
        "#### Installation"
      ]
    },
    {
      "cell_type": "code",
      "metadata": {
        "id": "K78GGT60Nu8p",
        "colab": {
          "base_uri": "https://localhost:8080/"
        },
        "outputId": "c18167c6-dca2-4c0d-b842-4fa79f41e829"
      },
      "source": [
        "import sys\n",
        "# Download miniconda\n",
        "!wget -q https://repo.anaconda.com/miniconda/Miniconda3-latest-Linux-x86_64.sh\n",
        "!bash Miniconda3-latest-Linux-x86_64.sh -bfp /usr/local\n",
        "# install required modules\n",
        "!conda install -q -y -c omnia --prefix /usr/local/ python=3.6 openmm;\n",
        "!conda install -q -y -c omnia -c conda-forge --prefix /usr/local/ python=3.6 openmmforcefields;\n",
        "!conda install -q -y -c omnia -c conda-forge --prefix /usr/local/ python=3.6 rdkit;\n",
        "!conda install -q -y -c omnia -c conda-forge --prefix /usr/local/ python=3.6 pdbfixer;\n",
        "!conda install -q -y -c omnia -c conda-forge --prefix /usr/local/ python=3.6 mdtraj;\n",
        "!conda install -q -y -c omnia -c conda-forge --prefix /usr/local/ python=3.6 MDAnalysis;\n",
        "\n",
        "!pip install pypdb\n",
        "# Append path to enable running packages installed with conda\n",
        "sys.path.append(lib_path)\n",
        "\n",
        "#Clear the excesive installation outputs\n",
        "from IPython.display import clear_output\n",
        "clear_output()\n",
        "print(\"done\")"
      ],
      "execution_count": null,
      "outputs": [
        {
          "output_type": "stream",
          "text": [
            "done\n"
          ],
          "name": "stdout"
        }
      ]
    },
    {
      "cell_type": "markdown",
      "metadata": {
        "id": "yikvMH3ig7ux"
      },
      "source": [
        "#### Imports"
      ]
    },
    {
      "cell_type": "code",
      "metadata": {
        "id": "3g6vsWucLgng"
      },
      "source": [
        "# imports\n",
        "import io\n",
        "from google.colab import files\n",
        "\n",
        "import mdtraj as md\n",
        "import numpy as np\n",
        "import simtk.openmm as mm\n",
        "import simtk.openmm.app as app\n",
        "from simtk.openmm import unit\n",
        "from simtk.openmm.app import CheckpointReporter, ForceField, PDBFile\n",
        "from pathlib import Path\n",
        "from rdkit import Chem\n",
        "from rdkit.Chem import Draw\n",
        "from rdkit.Chem import AllChem\n",
        "from openforcefield.topology import Molecule, Topology\n",
        "from openmmforcefields.generators import GAFFTemplateGenerator\n",
        "from pypdb import *\n",
        "import pdbfixer"
      ],
      "execution_count": null,
      "outputs": []
    },
    {
      "cell_type": "markdown",
      "metadata": {
        "id": "ltkfdrHvn4iI"
      },
      "source": [
        "#### PDB File Download\n",
        "After setting up Google Colab, we need a file to work with. First, we import all needed packages and upload the topology file(s) containing our system.\n",
        "In this case, we will run the simulation on the SARS-CoV-2 main protease in complex with an inhibitor. "
      ]
    },
    {
      "cell_type": "code",
      "metadata": {
        "id": "w5g1k527SexH"
      },
      "source": [
        "folder = Path(\"data\")\n",
        "folder.mkdir(exist_ok=True)"
      ],
      "execution_count": null,
      "outputs": []
    },
    {
      "cell_type": "code",
      "metadata": {
        "id": "46HGV64tvOWn"
      },
      "source": [
        "pdbid = \"6w63\"\n",
        "pdb_path = Path(\"data\") / (pdbid+\".pdb\")"
      ],
      "execution_count": null,
      "outputs": []
    },
    {
      "cell_type": "code",
      "metadata": {
        "id": "Ecabaj2Y9kte"
      },
      "source": [
        "pdb_file_string = get_pdb_file(pdbid, filetype='pdb', compression=False)\n",
        "with open(pdb_path, 'w') as f:\n",
        "    f.write(pdb_file_string)"
      ],
      "execution_count": null,
      "outputs": []
    },
    {
      "cell_type": "code",
      "metadata": {
        "id": "LcgfVjZTOjah"
      },
      "source": [
        "ligand_name = \"X77\""
      ],
      "execution_count": null,
      "outputs": []
    },
    {
      "cell_type": "markdown",
      "metadata": {
        "id": "krsfBvoenaYu"
      },
      "source": [
        "### Fix the PDB File"
      ]
    },
    {
      "cell_type": "markdown",
      "metadata": {
        "id": "t3mGSg8LLgop"
      },
      "source": [
        "#### Add missing atoms and residues to the protein\n",
        "\n",
        "One crucial part to a successful simulation is a correct and complete system. PDB files from crystallographic structures often miss atoms, mainly hydrogens, and may have nonstandard residues.\n",
        "Thus, we need to fix our structure. Several options are available, a common one in python being the package `pdbfixer`. We use it to fix our residues and also remove heterogens, which are any atoms not directly linked to the protein structure. This will remove our ligand as well, but we will add it back later.Also, hydrogens are often not included in PDB-Files, but we will skip the protonation, which means adding missing hydrogens, of the protein for now. It is better done in complex with the already protonated ligand ligand later on."
      ]
    },
    {
      "cell_type": "code",
      "metadata": {
        "id": "pA9Vct0iNRhl"
      },
      "source": [
        "def fix_pdb_protein(pdb_file, ignore_missing_residues=True):\n",
        "    \"\"\"Use pdbfixer to repair and prepare a pdb file.\n",
        "    Hetatoms are removed, nonstandard residues replaced and missing atoms added.\n",
        "  \n",
        "    Parameters\n",
        "    ----------\n",
        "   pdb_file : str\n",
        "      uploaded pdb file containing a simulateable system\n",
        "    \n",
        "    Returns\n",
        "    -------\n",
        "    fixer : pdbfixer.pdbfixer.PDBFixer\n",
        "        fixed protein system\n",
        "        \"\"\"\n",
        "    fixer = pdbfixer.PDBFixer(pdb_file) #fix pdb\n",
        "    fixer.removeHeterogens()\n",
        "    #needed to determine any residues with problems\n",
        "    if(ignore_missing_residues):\n",
        "      fixer.findMissingResidues() \n",
        "    #set the the list of missing residues to 0 so none get added\n",
        "    fixer.missingResidues = {} \n",
        "    fixer.findNonstandardResidues() # find non standard residue\n",
        "    fixer.replaceNonstandardResidues()# replace non standard residues with standard one\n",
        "    fixer.findMissingAtoms() # find missing heavy atoms\n",
        "    fixer.addMissingAtoms() # add missing atoms and residues\n",
        "    return fixer"
      ],
      "execution_count": null,
      "outputs": []
    },
    {
      "cell_type": "code",
      "metadata": {
        "id": "bxuyg-oxOtvn"
      },
      "source": [
        "fixed_protein = fix_pdb_protein(str(pdb_path))"
      ],
      "execution_count": null,
      "outputs": []
    },
    {
      "cell_type": "markdown",
      "metadata": {
        "id": "_wR47KGjnP2O"
      },
      "source": [
        "#### Add missing Hydrogens to Ligand"
      ]
    },
    {
      "cell_type": "markdown",
      "metadata": {
        "id": "8VoOjhASZ4Jh"
      },
      "source": [
        "After fixing the protein we turn our attention to the ligand. Most libraries handle proteins rather well, but fixing small molecules is a different task.\n",
        "Thus we have to separately protonate our ligand before adding it back to the complex.\n",
        "We use RDKit, which is specialized in small molecules.\n",
        "To correctly add hydrogens, RDKit needs bond-orders in addition to the given bonding information. Those are not generally included in pdb files, so we need to assign some from a template. In this case a SMILES string is used.\n",
        "We wrap the entire procedure in one function. \n"
      ]
    },
    {
      "cell_type": "code",
      "metadata": {
        "id": "si7ARKHoabal"
      },
      "source": [
        "def protonate_ligand(pdb_file, ligand_resname, ligand_smiles):\n",
        "    \"\"\"Protonate a ligand molecule with RDKit. The ligand is extracted from a complex system.\n",
        "    A smiles string represantation is used as template for bond order assignment. \n",
        "    For manual checking a before and after image of the ligand is returned.\n",
        "  \n",
        "    Parameters\n",
        "    ----------\n",
        "    pdb_file : str\n",
        "       uploaded pdb file containing a simulateable system\n",
        "    ligand_name :str\n",
        "    ligand_simles : str\n",
        "      smiles representation of ligand to be used as template\n",
        "    \n",
        "    Returns\n",
        "    -------\n",
        "    lig_mol_h : rdkit.Chem.rdchem.Mol\n",
        "      protonated ligand\n",
        "    img : PIL.PngImagePlugin.PngImageFile\n",
        "    \"\"\"\n",
        "    #Split the molecule\n",
        "    rdkit_mol = Chem.MolFromPDBFile(pdb_file)\n",
        "    rdkit_mol_split = Chem.rdmolops.SplitMolByPDBResidues(rdkit_mol)\n",
        "\n",
        "    #Extract Ligand and remove any already present hydrogens\n",
        "    ligand = rdkit_mol_split[ligand_resname]\n",
        "    #lig_mol_wo_bond_orders = Chem.RemoveHs(ligand)\n",
        "\n",
        "    #Assign bond orders from template\n",
        "    reference_mol = Chem.MolFromSmiles(ligand_smiles)\n",
        "    lig_mol = AllChem.AssignBondOrdersFromTemplate(reference_mol, ligand)\n",
        "    lig_mol.AddConformer(ligand.GetConformer(0))\n",
        "\n",
        "    #protonate ligand\n",
        "    lig_mol_h = Chem.rdmolops.AddHs(lig_mol, addCoords=True)\n",
        "    img = Draw.MolsToGridImage([ligand, lig_mol_h], molsPerRow=2, legends=[\"original\",\"protonated\"])\n",
        "    return lig_mol_h, img"
      ],
      "execution_count": null,
      "outputs": []
    },
    {
      "cell_type": "markdown",
      "metadata": {
        "id": "GkqslZRknFbq"
      },
      "source": [
        "Calling our function returns a correctly protonated ligand, extracted from the file via its name. Additionally, we return a view of the ligand before and after protonation."
      ]
    },
    {
      "cell_type": "code",
      "metadata": {
        "id": "04v75eTlcEtx"
      },
      "source": [
        "protonated_ligand, ligand_image = protonate_ligand(str(pdb_path), ligand_name,\n",
        "                                     \"CC(C)(C)c1ccc(cc1)N([C@@H](C(=O)NC2CCCCC2)c3cccnc3)C(=O)c4c[nH]cn4\")"
      ],
      "execution_count": null,
      "outputs": []
    },
    {
      "cell_type": "markdown",
      "metadata": {
        "id": "HEffGI0H2OVa"
      },
      "source": [
        "We can now examine the changes made to our molecule."
      ]
    },
    {
      "cell_type": "code",
      "metadata": {
        "id": "w-6fMBVu1AWL",
        "colab": {
          "base_uri": "https://localhost:8080/",
          "height": 217
        },
        "outputId": "c1349d4f-cf5c-4bc1-f960-343beb69d318"
      },
      "source": [
        "ligand_image"
      ],
      "execution_count": null,
      "outputs": [
        {
          "output_type": "execute_result",
          "data": {
            "image/png": "[encoded data removed]",
            "text/plain": [
              "<PIL.PngImagePlugin.PngImageFile image mode=RGB size=400x200 at 0x7F68ACAAEA20>"
            ]
          },
          "metadata": {
            "tags": []
          },
          "execution_count": 14
        }
      ]
    },
    {
      "cell_type": "markdown",
      "metadata": {
        "id": "NP9WekSTO5N3"
      },
      "source": [
        "### Merge protein and ligand\n",
        "In the next step we want to merge the protonated ligand with the protein using MDTraj. MDTraj Molecules can be loaded from OpenMM Topologies. We need to do some conversions, since our protonated ligand is an RDKit Molecule at the moment.\n",
        "We write a function, that handles the conversion and adds some naming information back in, which we lost in RDKit."
      ]
    },
    {
      "cell_type": "code",
      "metadata": {
        "id": "UwehzZrhpDnD"
      },
      "source": [
        "def convert_rdkit_to_openmm(molecule, molecule_name=\"lig\"):\n",
        "    \"\"\"Merge two OpenMM Structures together using MDTraj.\n",
        "    \n",
        "    Parameters\n",
        "    ----------\n",
        "    molecule : rdkit.Chem.rdchem.Mol\n",
        "    molecule_name : str, optional\n",
        "    \n",
        "    Returns\n",
        "    -------\n",
        "    off_mol : openforcefield.topology.molecule.Molecule\n",
        "    mol_topology : simtk.openmm.app.topology.Topology\n",
        "    mol_positions : simtk.unit.quantity.Quantity\n",
        "    \"\"\"\n",
        "    #Convert RDKit to OpenFF\n",
        "    off_mol = Molecule.from_rdkit(molecule)\n",
        "\n",
        "    #Add naming of molecule and atoms\n",
        "    off_mol.name = molecule_name\n",
        "    atom_names = {\n",
        "        1: \"H\",\n",
        "        6: \"C\",\n",
        "        7: \"N\",\n",
        "        8: \"O\"\n",
        "        }\n",
        "      \n",
        "    for off_atom, rdkit_atom in zip(off_mol.atoms, molecule.GetAtoms()):\n",
        "      if(rdkit_atom.GetPDBResidueInfo() is not None):\n",
        "        off_atom.name = rdkit_atom.GetPDBResidueInfo().GetName()\n",
        "\n",
        "    #Convert from OpenFF to OpenMM\n",
        "    off_mol_topology = off_mol.to_topology()\n",
        "    mol_topology = off_mol_topology.to_openmm()\n",
        "    mol_positions = off_mol.conformers[0]\n",
        "    \n",
        "    #Convert Units from Ångström to Nanometers\n",
        "    for atom in mol_positions:\n",
        "        coords = atom / atom.unit\n",
        "        atom = (coords / 10.0) * unit.nanometers  # since openmm works in nm\n",
        "        \n",
        "    return off_mol, mol_topology, mol_positions"
      ],
      "execution_count": null,
      "outputs": []
    },
    {
      "cell_type": "code",
      "metadata": {
        "id": "I77OHmv47vEN"
      },
      "source": [
        "off_molecule, ligand_topology, ligand_positions = convert_rdkit_to_openmm(protonated_ligand, ligand_name)"
      ],
      "execution_count": null,
      "outputs": []
    },
    {
      "cell_type": "markdown",
      "metadata": {
        "id": "dqY5AE0JGIgL"
      },
      "source": [
        "Our fixed Protein is already in OpenMM format and can now be merged with the converted ligand."
      ]
    },
    {
      "cell_type": "code",
      "metadata": {
        "id": "8gJMRq8fZYOU"
      },
      "source": [
        "def merge_protein_and_ligand(protein, ligand_topology, ligand_positions):\n",
        "    \"\"\"Merge two OpenMM Structures together.\n",
        "  \n",
        "    Parameters\n",
        "    ----------\n",
        "    protein : pdbfixer.pdbfixer.PDBFixer\n",
        "    ligand_topology : simtk.openmm.app.topology.Topology\n",
        "    ligand_positions : simtk.unit.quantity.Quantity\n",
        "    \n",
        "    Returns\n",
        "    -------\n",
        "    complex_topology : simtk.openmm.app.topology.Topology\n",
        "    complex_positions : simtk.unit.quantity.Quantity\n",
        "    \"\"\"\n",
        "    #Combine Topologies\n",
        "    md_protein_topology = md.Topology.from_openmm(protein.topology)  # using mdtraj for protein top\n",
        "    md_ligand_topology = md.Topology.from_openmm(ligand_topology)  # using mdtraj for ligand top\n",
        "    md_complex_topology = md_protein_topology.join(md_ligand_topology)  # add them together\n",
        "    complex_topology = md_complex_topology.to_openmm()\n",
        "\n",
        "    #Combine Positions\n",
        "    total_atoms = len(protein.positions) + len(ligand_positions)\n",
        "    #Create a OpenMM Quantity Array of right size\n",
        "    complex_positions = unit.Quantity(np.zeros([total_atoms, 3]), unit=unit.nanometers)\n",
        "    complex_positions[0 : len(protein.positions)] = protein.positions #add protein positions\n",
        "    complex_positions[len(protein.positions)+1 : total_atoms] = ligand_positions #add ligand positions\n",
        "\n",
        "    return complex_topology, complex_positions"
      ],
      "execution_count": null,
      "outputs": []
    },
    {
      "cell_type": "code",
      "metadata": {
        "id": "ZXmeeV0ZPOho"
      },
      "source": [
        "complex_topology, complex_positions = merge_protein_and_ligand(fixed_protein, ligand_topology, ligand_positions)"
      ],
      "execution_count": null,
      "outputs": []
    },
    {
      "cell_type": "markdown",
      "metadata": {
        "id": "2HAmjMG5Lgpd"
      },
      "source": [
        "### Molecular dynamics simulation set up\n",
        "\n",
        "We can now use the fixed pdb to set up the MD simulation. "
      ]
    },
    {
      "cell_type": "markdown",
      "metadata": {
        "id": "1B9DRdICny_f"
      },
      "source": [
        "#### Force field\n",
        "We use the General Amber ForceField (GAFF) which includes parameters for small molecules and is able to generate a template for them. This is needed for the force field to be set up properly otherwise the protein force field has \"no knowledge\" of the ligand. The following function generates a force field object using a protein and a solvation forcefield and additionally includes a generated template for a small molecule of choice."
      ]
    },
    {
      "cell_type": "code",
      "metadata": {
        "id": "EFHKhU6v1k-h"
      },
      "source": [
        "def generate_forcefield(molecule = None, protein_ff = \"protein.ff14SB.xml\", solvation_ff = \"tip3p.xml\"):\n",
        "    \"\"\"Generate an OpenFF Forcefield and register a small molecule template.\n",
        "  \n",
        "    Parameters\n",
        "    ----------\n",
        "    molecule : openforcefield.topology.molecule.Molecule, optional\n",
        "    protein_ff : string, optional\n",
        "      Name of the protein forcefield \n",
        "    solvent_ff : string, optional\n",
        "      Name of the solvation forcefield\n",
        "    Returns\n",
        "    -------\n",
        "    complex_topology : simtk.openmm.app.topology.Topology\n",
        "    complex_positions : simtk.unit.quantity.Quantity\n",
        "    \"\"\"\n",
        "    protein_forcefield = Path(lib_path) / \"simtk/openmm/app/data/amber14\" / protein_ff\n",
        "    solvation_forcefield = Path(lib_path) / \"simtk/openmm/app/data/amber14\" / solvation_ff\n",
        "\n",
        "    forcefield = app.ForceField(protein_forcefield, solvation_forcefield)\n",
        "\n",
        "    if(molecule is not None):\n",
        "        gaff = GAFFTemplateGenerator(molecules=molecule)\n",
        "        forcefield.registerTemplateGenerator(gaff.generator)\n",
        "\n",
        "    return forcefield"
      ],
      "execution_count": null,
      "outputs": []
    },
    {
      "cell_type": "code",
      "metadata": {
        "id": "5is-oVrO2Fjy"
      },
      "source": [
        "forcefield = generate_forcefield(off_molecule)"
      ],
      "execution_count": null,
      "outputs": []
    },
    {
      "cell_type": "markdown",
      "metadata": {
        "id": "cGrreylan6XS"
      },
      "source": [
        "#### System"
      ]
    },
    {
      "cell_type": "markdown",
      "metadata": {
        "id": "DzO12MFp2P48"
      },
      "source": [
        "With our configured forcefield we can now create the MD environment containing the complex and add the solvent we wish to simulate in, in this case water. Once the system is solvated we save its pdb file and proceed in setting up the simulation.\n",
        "Remember how we did not protonate the protein but rather only the ligand in an earlier step. Now we add the hydrogens to our complex protonating the protein with a modeller object."
      ]
    },
    {
      "cell_type": "code",
      "metadata": {
        "id": "c4LEvWMI8ash"
      },
      "source": [
        "# Add solvent\n",
        "modeller = app.Modeller(complex_topology, complex_positions)\n",
        "modeller.addHydrogens(forcefield); #Protonate System\n",
        "modeller.addSolvent(forcefield, padding=1.0*unit.nanometers,\n",
        "                    model='tip3p', ionicStrength=0.15*unit.molar)\n",
        "# Save PDB file of solvated molecule\n",
        "app.PDBFile.writeFile(modeller.topology,\n",
        "                      modeller.positions,\n",
        "                      open('data/MD_system.pdb', 'w'))"
      ],
      "execution_count": null,
      "outputs": []
    },
    {
      "cell_type": "markdown",
      "metadata": {
        "id": "TwAEe5d8n4jf"
      },
      "source": [
        "With our solvated complex and the forcefield we can finally create a system and set up the simulation."
      ]
    },
    {
      "cell_type": "code",
      "metadata": {
        "id": "n52Cmkr4dpI-"
      },
      "source": [
        "system = forcefield.createSystem(modeller.topology, nonbondedMethod=app.PME)\n",
        "integrator = mm.LangevinIntegrator(300*unit.kelvin,\n",
        "                                1.0/unit.picoseconds,\n",
        "                                2.0*unit.femtoseconds)\n",
        "simulation = app.Simulation(modeller.topology, system, integrator)"
      ],
      "execution_count": null,
      "outputs": []
    },
    {
      "cell_type": "markdown",
      "metadata": {
        "id": "JwEgrFkILgqL"
      },
      "source": [
        "### Run the MD simulation\n",
        "Now that everything is set-up we can run the simulation. We need to set starting positions and minimize the energy of the system, to get a viable and stable starting configuration. This gets rid of any misconfigurations like overlapping atoms and ensures a consistent simulation.\n",
        "\n",
        "Once that is done, we can let the simulation run! Here we are simulating 1 ns. We save one molecular \"snapshot\" every 5000 steps, for a total of 100 frames out of the 500.000 steps we are taking. The results are saved in a .dcd files, which contains the coordinates of all the atoms at a given time point. Together with the pdb file of the system, it gives us all the information about our simulation.  "
      ]
    },
    {
      "cell_type": "code",
      "metadata": {
        "id": "AE3GJtwp_Ccq",
        "colab": {
          "base_uri": "https://localhost:8080/"
        },
        "outputId": "85e2d911-08c2-4fc7-d19b-ce9771198a00"
      },
      "source": [
        "# Initialize the MD simulation\n",
        "print('Setting up positions...')\n",
        "simulation.context.setPositions(modeller.positions)"
      ],
      "execution_count": null,
      "outputs": [
        {
          "output_type": "stream",
          "text": [
            "Setting up positions...\n"
          ],
          "name": "stdout"
        }
      ]
    },
    {
      "cell_type": "code",
      "metadata": {
        "id": "EgkE1EUGLgqP",
        "colab": {
          "base_uri": "https://localhost:8080/"
        },
        "outputId": "f80f3ca9-235a-45e4-a03e-0e1d57c6e3fb"
      },
      "source": [
        "# Minimize energy\n",
        "print('Energy minimization in progress...')\n",
        "simulation.minimizeEnergy()"
      ],
      "execution_count": null,
      "outputs": [
        {
          "output_type": "stream",
          "text": [
            "Energy minimization in progress...\n"
          ],
          "name": "stdout"
        }
      ]
    },
    {
      "cell_type": "code",
      "metadata": {
        "id": "E8t-0ZxFLgqh"
      },
      "source": [
        "# Output settings\n",
        "simulation.reporters.append(app.DCDReporter('data/trajectory.dcd', 5000))\n",
        "\n",
        "# Output data\n",
        "simulation.reporters.append(app.StateDataReporter(sys.stdout, 5000, step=True,\n",
        "                                                  potentialEnergy=True, temperature=True, progress=True, remainingTime=True,\n",
        "                                                  speed=True, totalSteps=5*1e5, separator='\\t'))\n",
        "\n",
        "# Set velocities\n",
        "simulation.context.setVelocitiesToTemperature(300*unit.kelvin)"
      ],
      "execution_count": null,
      "outputs": []
    },
    {
      "cell_type": "code",
      "metadata": {
        "id": "7B7AiVO3fr03",
        "colab": {
          "base_uri": "https://localhost:8080/"
        },
        "outputId": "781b0d06-3658-466a-8a14-77f8a5d4e843"
      },
      "source": [
        "# Run the simulation\n",
        "simulation.step(5*1e5)"
      ],
      "execution_count": null,
      "outputs": [
        {
          "output_type": "stream",
          "text": [
            "#\"Progress (%)\"\t\"Step\"\t\"Potential Energy (kJ/mole)\"\t\"Temperature (K)\"\t\"Speed (ns/day)\"\t\"Time Remaining\"\n",
            "1.0%\t5000\t-858103.0852457723\t298.1333615937341\t0\t--\n",
            "2.0%\t10000\t-856464.3352457723\t299.6679223336799\t92.4\t15:15\n",
            "3.0%\t15000\t-856045.0852457723\t301.729752319867\t92.6\t15:04\n",
            "4.0%\t20000\t-855027.8352457723\t300.92916434805954\t91.9\t15:02\n",
            "5.0%\t25000\t-855406.3352457723\t300.22457070326294\t91.3\t14:58\n",
            "6.0%\t30000\t-855771.5852457723\t299.8384060119578\t90.7\t14:55\n",
            "7.0%\t35000\t-855831.0852457723\t300.2787543543008\t90.4\t14:48\n",
            "8.0%\t40000\t-855188.5852457723\t302.21729853116085\t89.8\t14:44\n",
            "9.0%\t45000\t-856139.3352457723\t302.6191541859233\t89.3\t14:40\n",
            "10.0%\t50000\t-854557.3352457723\t301.0369487197796\t88.8\t14:36\n",
            "11.0%\t55000\t-855315.0852457723\t300.2969940643097\t88.3\t14:30\n",
            "12.0%\t60000\t-854543.0852457723\t299.686586769068\t87.8\t14:25\n",
            "13.0%\t65000\t-855212.0852457723\t302.77554547072793\t87.5\t14:18\n",
            "14.0%\t70000\t-855819.3352457723\t299.5695645494645\t87.4\t14:10\n",
            "15.0%\t75000\t-856991.8352457723\t299.99599618991743\t87.3\t14:01\n",
            "16.0%\t80000\t-854943.8352457723\t299.21303069194164\t87.1\t13:53\n",
            "17.0%\t85000\t-854780.3352457723\t300.6457009560803\t87\t13:44\n",
            "18.0%\t90000\t-855783.0852457723\t298.0174162259698\t86.9\t13:35\n",
            "19.0%\t95000\t-854833.8352457723\t300.183970763931\t86.7\t13:26\n",
            "20.0%\t100000\t-855682.3352457723\t300.3984176191655\t86.6\t13:17\n",
            "21.0%\t105000\t-854862.5852457723\t301.65898463885117\t86.5\t13:08\n",
            "22.0%\t110000\t-856628.8352457723\t301.28655666854974\t86.5\t12:59\n",
            "23.0%\t115000\t-856425.3352457723\t301.0635707204563\t86.4\t12:50\n",
            "24.0%\t120000\t-854840.5852457723\t300.13298972330585\t86.3\t12:40\n",
            "25.0%\t125000\t-857820.5852457723\t299.7819807600308\t86.3\t12:30\n",
            "26.0%\t130000\t-855334.5852457723\t299.6235940804472\t86.2\t12:21\n",
            "27.0%\t135000\t-857602.8352457723\t299.9886146613617\t86.2\t12:11\n",
            "28.0%\t140000\t-856721.8352457723\t299.85778544266196\t86.1\t12:02\n",
            "29.0%\t145000\t-855361.8352457723\t300.38791767493757\t86.1\t11:52\n",
            "30.0%\t150000\t-856226.0852457723\t300.92680440552937\t86.1\t11:42\n",
            "31.0%\t155000\t-857312.3352457723\t299.50327688514403\t86\t11:33\n",
            "32.0%\t160000\t-855842.3352457723\t300.41475246518246\t86\t11:23\n",
            "33.0%\t165000\t-855967.8352457723\t299.34067079883584\t85.9\t11:13\n",
            "34.0%\t170000\t-855134.3352457723\t301.5647640989079\t85.9\t11:03\n",
            "35.0%\t175000\t-854903.5852457723\t299.8742432402874\t85.9\t10:54\n",
            "36.0%\t180000\t-856078.3352457723\t299.573735682977\t85.8\t10:44\n",
            "37.0%\t185000\t-855490.8352457723\t300.4185863687875\t85.8\t10:34\n",
            "38.0%\t190000\t-857275.3352457723\t299.57459250816527\t85.8\t10:24\n",
            "39.0%\t195000\t-854460.3352457723\t298.99328705534236\t85.8\t10:14\n",
            "40.0%\t200000\t-855349.8352457723\t299.10256639274235\t85.8\t10:04\n",
            "41.0%\t205000\t-856420.3352457723\t302.10192926567055\t85.7\t9:54\n",
            "42.0%\t210000\t-856220.3352457723\t298.98507496992266\t85.7\t9:44\n",
            "43.0%\t215000\t-856619.3352457723\t299.160978278735\t85.7\t9:34\n",
            "44.0%\t220000\t-854515.3352457723\t299.63735161708536\t85.7\t9:24\n",
            "45.0%\t225000\t-855024.3352457723\t298.52130824712003\t85.6\t9:14\n",
            "46.0%\t230000\t-855210.3352457723\t300.3585391146232\t85.6\t9:04\n",
            "47.0%\t235000\t-856087.3352457723\t298.0323913401398\t85.6\t8:54\n",
            "48.0%\t240000\t-855087.8352457723\t299.6348537189155\t85.6\t8:44\n",
            "49.0%\t245000\t-857592.5852457723\t300.5738790946696\t85.6\t8:34\n",
            "50.0%\t250000\t-856668.3352457723\t300.98567294334526\t85.6\t8:24\n",
            "51.0%\t255000\t-855129.3352457723\t300.9053630762756\t85.5\t8:14\n",
            "52.0%\t260000\t-854986.5852457723\t300.5266849755745\t85.6\t8:04\n",
            "53.0%\t265000\t-855670.3352457723\t299.68167265459266\t85.5\t7:54\n",
            "54.0%\t270000\t-855410.3352457723\t299.518865707713\t85.5\t7:44\n",
            "55.0%\t275000\t-854496.0852457723\t302.10840834375284\t85.5\t7:34\n",
            "56.0%\t280000\t-856393.3352457723\t299.99056093505465\t85.5\t7:24\n",
            "57.0%\t285000\t-855871.0852457723\t301.1158934838621\t85.5\t7:14\n",
            "58.0%\t290000\t-856322.8352457723\t300.3710786433844\t85.5\t7:04\n",
            "59.0%\t295000\t-855553.0852457723\t300.3681705618644\t85.5\t6:54\n",
            "60.0%\t300000\t-856311.5852457723\t298.8892372075648\t85.5\t6:44\n",
            "61.0%\t305000\t-856125.8352457723\t300.2514484710025\t85.4\t6:34\n",
            "62.0%\t310000\t-857464.8352457723\t299.760824928467\t85.5\t6:24\n",
            "63.0%\t315000\t-855063.8352457723\t299.7113192513815\t85.4\t6:14\n",
            "64.0%\t320000\t-856269.8352457723\t299.73633472365555\t85.4\t6:04\n",
            "65.0%\t325000\t-856483.5852457723\t298.87748037850986\t85.4\t5:54\n",
            "66.0%\t330000\t-855327.8352457723\t300.4171423560436\t85.4\t5:43\n",
            "67.0%\t335000\t-856783.5852457723\t300.2895343579978\t85.4\t5:33\n",
            "68.0%\t340000\t-856198.3352457723\t299.2651270631355\t85.4\t5:23\n",
            "69.0%\t345000\t-856303.3352457723\t301.20150352486445\t85.4\t5:13\n",
            "70.0%\t350000\t-855625.8352457723\t299.6697699761226\t85.4\t5:03\n",
            "71.0%\t355000\t-856168.3352457723\t300.0371011509599\t85.4\t4:53\n",
            "72.0%\t360000\t-856874.3352457723\t299.9125575997051\t85.4\t4:43\n",
            "73.0%\t365000\t-855965.8352457723\t301.0398993801772\t85.4\t4:33\n",
            "74.0%\t370000\t-855787.8352457723\t300.6272982911933\t85.4\t4:23\n",
            "75.0%\t375000\t-855704.3352457723\t301.92409045141306\t85.4\t4:13\n",
            "76.0%\t380000\t-854774.3352457723\t301.1031545034637\t85.3\t4:02\n",
            "77.0%\t385000\t-856192.3352457723\t299.7945675702542\t85.3\t3:52\n",
            "78.0%\t390000\t-855557.8352457723\t299.776899596536\t85.3\t3:42\n",
            "79.0%\t395000\t-855571.8352457723\t299.27465630242\t85.3\t3:32\n",
            "80.0%\t400000\t-857261.8352457723\t301.95719335060215\t85.3\t3:22\n",
            "81.0%\t405000\t-855564.0852457723\t301.170526467295\t85.3\t3:12\n",
            "82.0%\t410000\t-855678.3352457723\t300.32765658286684\t85.3\t3:02\n",
            "83.0%\t415000\t-855962.3352457723\t300.2249398239677\t85.3\t2:52\n",
            "84.0%\t420000\t-857353.3352457723\t300.9543316304047\t85.3\t2:42\n",
            "85.0%\t425000\t-854629.8352457723\t298.9296948125728\t85.3\t2:31\n",
            "86.0%\t430000\t-855510.3352457723\t300.8207256992435\t85.3\t2:21\n",
            "87.0%\t435000\t-856572.8352457723\t299.83590971374963\t85.3\t2:11\n",
            "88.0%\t440000\t-855182.3352457723\t299.69120036423436\t85.3\t2:01\n",
            "89.0%\t445000\t-856302.8352457723\t297.89404898674655\t85.3\t1:51\n",
            "90.0%\t450000\t-855000.8352457723\t298.39112415946295\t85.3\t1:41\n",
            "91.0%\t455000\t-854551.3352457723\t298.66244206386926\t85.3\t1:31\n",
            "92.0%\t460000\t-856279.8352457723\t298.70394820340925\t85.3\t1:21\n",
            "93.0%\t465000\t-856345.8352457723\t297.49305447232143\t85.3\t1:10\n",
            "94.0%\t470000\t-855001.5852457723\t299.16661795436147\t85.3\t1:00\n",
            "95.0%\t475000\t-856018.5852457723\t297.9960654094021\t85.3\t0:50\n",
            "96.0%\t480000\t-855760.3352457723\t301.1765583196526\t85.3\t0:40\n",
            "97.0%\t485000\t-855579.8352457723\t302.5329880018982\t85.3\t0:30\n",
            "98.0%\t490000\t-855607.3352457723\t302.4840812240167\t85.2\t0:20\n",
            "99.0%\t495000\t-855994.0852457723\t300.30042513028286\t85.3\t0:10\n",
            "100.0%\t500000\t-855250.8352457723\t300.92978168119026\t85.2\t0:00\n"
          ],
          "name": "stdout"
        }
      ]
    },
    {
      "cell_type": "markdown",
      "metadata": {
        "id": "M_Wf2prXqoif"
      },
      "source": [
        "#### Download results"
      ]
    },
    {
      "cell_type": "code",
      "metadata": {
        "id": "FfcMX8G1i0RY",
        "colab": {
          "base_uri": "https://localhost:8080/",
          "height": 17
        },
        "outputId": "85a9c814-44ac-474c-b71a-5836b9e90f59"
      },
      "source": [
        "files.download('data/MD_system.pdb')\n",
        "files.download('data/trajectory.dcd')"
      ],
      "execution_count": null,
      "outputs": [
        {
          "output_type": "display_data",
          "data": {
            "application/javascript": [
              "\n",
              "    async function download(id, filename, size) {\n",
              "      if (!google.colab.kernel.accessAllowed) {\n",
              "        return;\n",
              "      }\n",
              "      const div = document.createElement('div');\n",
              "      const label = document.createElement('label');\n",
              "      label.textContent = `Downloading \"${filename}\": `;\n",
              "      div.appendChild(label);\n",
              "      const progress = document.createElement('progress');\n",
              "      progress.max = size;\n",
              "      div.appendChild(progress);\n",
              "      document.body.appendChild(div);\n",
              "\n",
              "      const buffers = [];\n",
              "      let downloaded = 0;\n",
              "\n",
              "      const channel = await google.colab.kernel.comms.open(id);\n",
              "      // Send a message to notify the kernel that we're ready.\n",
              "      channel.send({})\n",
              "\n",
              "      for await (const message of channel.messages) {\n",
              "        // Send a message to notify the kernel that we're ready.\n",
              "        channel.send({})\n",
              "        if (message.buffers) {\n",
              "          for (const buffer of message.buffers) {\n",
              "            buffers.push(buffer);\n",
              "            downloaded += buffer.byteLength;\n",
              "            progress.value = downloaded;\n",
              "          }\n",
              "        }\n",
              "      }\n",
              "      const blob = new Blob(buffers, {type: 'application/binary'});\n",
              "      const a = document.createElement('a');\n",
              "      a.href = window.URL.createObjectURL(blob);\n",
              "      a.download = filename;\n",
              "      div.appendChild(a);\n",
              "      a.click();\n",
              "      div.remove();\n",
              "    }\n",
              "  "
            ],
            "text/plain": [
              "<IPython.core.display.Javascript object>"
            ]
          },
          "metadata": {
            "tags": []
          }
        },
        {
          "output_type": "display_data",
          "data": {
            "application/javascript": [
              "download(\"download_067555ab-145e-478b-b3b2-a9c9660fc7c8\", \"MD_system.pdb\", 5217192)"
            ],
            "text/plain": [
              "<IPython.core.display.Javascript object>"
            ]
          },
          "metadata": {
            "tags": []
          }
        },
        {
          "output_type": "display_data",
          "data": {
            "application/javascript": [
              "\n",
              "    async function download(id, filename, size) {\n",
              "      if (!google.colab.kernel.accessAllowed) {\n",
              "        return;\n",
              "      }\n",
              "      const div = document.createElement('div');\n",
              "      const label = document.createElement('label');\n",
              "      label.textContent = `Downloading \"${filename}\": `;\n",
              "      div.appendChild(label);\n",
              "      const progress = document.createElement('progress');\n",
              "      progress.max = size;\n",
              "      div.appendChild(progress);\n",
              "      document.body.appendChild(div);\n",
              "\n",
              "      const buffers = [];\n",
              "      let downloaded = 0;\n",
              "\n",
              "      const channel = await google.colab.kernel.comms.open(id);\n",
              "      // Send a message to notify the kernel that we're ready.\n",
              "      channel.send({})\n",
              "\n",
              "      for await (const message of channel.messages) {\n",
              "        // Send a message to notify the kernel that we're ready.\n",
              "        channel.send({})\n",
              "        if (message.buffers) {\n",
              "          for (const buffer of message.buffers) {\n",
              "            buffers.push(buffer);\n",
              "            downloaded += buffer.byteLength;\n",
              "            progress.value = downloaded;\n",
              "          }\n",
              "        }\n",
              "      }\n",
              "      const blob = new Blob(buffers, {type: 'application/binary'});\n",
              "      const a = document.createElement('a');\n",
              "      a.href = window.URL.createObjectURL(blob);\n",
              "      a.download = filename;\n",
              "      div.appendChild(a);\n",
              "      a.click();\n",
              "      div.remove();\n",
              "    }\n",
              "  "
            ],
            "text/plain": [
              "<IPython.core.display.Javascript object>"
            ]
          },
          "metadata": {
            "tags": []
          }
        },
        {
          "output_type": "display_data",
          "data": {
            "application/javascript": [
              "download(\"download_aa16f632-348e-45db-bf9d-90f9075a6321\", \"trajectory.dcd\", 77273876)"
            ],
            "text/plain": [
              "<IPython.core.display.Javascript object>"
            ]
          },
          "metadata": {
            "tags": []
          }
        }
      ]
    },
    {
      "cell_type": "markdown",
      "metadata": {
        "id": "aAleBNfKyhCd"
      },
      "source": [
        "We have successfully performed a MD simulation! If you want to know how to visualize the results, you can refer to the next notebook in the repository.   \n",
        "   \n",
        "As last I would like to add a quick note about the run-time. We saw that running this kind of simulations can be quite computationally expensive and long. Here on Google Colaboratory we achieved a speed of 3.7 ns/day, which is manageable but still slow, especially if we need to run longer simulations and multiple times with different settings. I also tried running the same simulation on a Ubuntu VM on Virtualbox (Windows 10 host), achieving 1 ns/day as speed. Given that it was running on 4 virtual cores (host processor Intel core i7 8th gen) and not on the host machine 8 cores, it was probably a bit slower than it could have been, but it is clear that CPU is not the way to go for such applications. GPU parallel computations allow to reduce the run time exponentially and should always be preferred.  "
      ]
    }
  ]
}