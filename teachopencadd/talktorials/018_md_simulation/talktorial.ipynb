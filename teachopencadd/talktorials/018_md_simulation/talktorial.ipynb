{
 "cells": [
  {
   "cell_type": "markdown",
   "metadata": {
    "id": "Rc3gPsMdLgmK"
   },
   "source": [
    "# Talktorial T09\n",
    "# Molecular Dynamics simulation of SARS Cov2 main protease in complex with inhibitor\n",
    "\n",
    "#### CADD Seminar 2020, AG Volkamer, Charité/FU Berlin \n",
    "\n",
    "#### Pietro Gerletti\n",
    "\n",
    "Berlin, June 2020"
   ]
  },
  {
   "cell_type": "markdown",
   "metadata": {
    "id": "ehs-GJfkwUap"
   },
   "source": [
    "# ---------------------------------------- DISCLAIMER ----------------------------------------\n",
    "\n",
    "The notebook presented here is thought to be run on Google Colab but it should be possible to run it on a normal laptop, which is advised if and only if you decided that your processor is not worthy of serving you and should commit seppuku (yes, I tried and decided having the processor run at 99 °C for 28h straight was kind of sadistic)."
   ]
  },
  {
   "cell_type": "markdown",
   "metadata": {
    "id": "mNvsYi3OLgmU"
   },
   "source": [
    "# Learning goals\n",
    "\n",
    "\n",
    "## Theory\n",
    "\n",
    "\n",
    "* SARS-CoV-2 main protease and relevance for drug discovery\n",
    "* Molecular dynamics\n",
    "* Force fields\n",
    "\n",
    "## Practical\n",
    "\n",
    "* Step 0 - set up for Google Colab\n",
    "* Step 1 - Load PDB \n",
    "* Step 2 - Fix the PDB file (missing atoms/residues/hydrogens)\n",
    "* Step 3 - Merge Molecule and Ligand \n",
    "* Step 4 - Set up the MD simulation\n",
    "* Step 5 - Run the simulation\n",
    "\n",
    "# References\n",
    "\n",
    "* De Vivo M, Masetti M, Bottegoni G, Cavalli A. Role of Molecular Dynamics and Related Methods in Drug Discovery. J Med Chem. 2016;59(9):4035‐4061. doi:10.1021/acs.jmedchem.5b01684\n",
    "\n",
    "* Sereina Riniker, Fixed-Charge Atomistic Force Fields for Molecular Dynamics Simulations in the Condensed Phase: An Overview. Journal of Chemical Information and Modeling 2018 58 (3), 565-578, DOI:10.1021/acs.jcim.8b00042 \n",
    "\n",
    "* Mesecar A.D., A taxonomically-driven approach to development of potent, broad-spectrum inhibitors of coronavirus main protease including SARS-CoV-2 (COVID-19)\n",
    "\n",
    "* Marina Macchiagodena, Marco Pagliai, Piero Procacci, Identification of potential binders of the main protease 3CLpro of the COVID-19 via structure-based ligand design and molecular modeling,Chemical Physics Letters, Volume 750,2020, https://doi.org/10.1016/j.cplett.2020.137489.\n",
    "\n",
    "* P. S. de Laplace. Oeuvres Complètes de Laplace. Théorie Analytique des Probabilités, volume VII Gauthier-Villars, Paris, France, 3 edition, 1820.\n",
    "\n",
    "* Schlick T. (1996) Pursuing Laplace’s Vision on Modern Computers. In: Mesirov J.P., Schulten K., Sumners D.W. (eds) Mathematical Approaches to Biomolecular Structure and Dynamics. The IMA Volumes in Mathematics and its Applications, vol 82. Springer, New York, NY\n",
    "\n",
    "\n",
    "\n",
    "\n",
    "* https://github.com/openmm/openmmforcefields\n",
    "* https://github.com/jaimergp/uab-msc-bioinf/blob/master/MD%20Simulation%20and%20Analysis%20in%20a%20Notebook.ipynb\n",
    "* http://htmlpreview.github.io/?https://raw.github.com/pandegroup/pdbfixer/master/Manual.html\n",
    "* https://en.wikipedia.org/wiki/AMBER\n",
    "* https://en.wikipedia.org/wiki/Force_field_(chemistry)"
   ]
  },
  {
   "cell_type": "markdown",
   "metadata": {
    "id": "DWYT67p1Nvrm"
   },
   "source": [
    "# Step 0 - Google Colab set up "
   ]
  },
  {
   "cell_type": "code",
   "execution_count": 3,
   "metadata": {
    "colab": {
     "base_uri": "https://localhost:8080/",
     "height": 1000
    },
    "id": "K78GGT60Nu8p",
    "outputId": "e57c2cf8-b3c5-4aa6-c67e-6e780f787b95"
   },
   "outputs": [
    {
     "name": "stdout",
     "output_type": "stream",
     "text": [
      "--2020-10-26 10:47:00--  https://repo.anaconda.com/miniconda/Miniconda3-latest-Linux-x86_64.sh\n",
      "Resolving repo.anaconda.com (repo.anaconda.com)... 104.16.131.3, 104.16.130.3, 2606:4700::6810:8203, ...\n",
      "Connecting to repo.anaconda.com (repo.anaconda.com)|104.16.131.3|:443... connected.\n",
      "HTTP request sent, awaiting response... 200 OK\n",
      "Length: 93052469 (89M) [application/x-sh]\n",
      "Saving to: ‘Miniconda3-latest-Linux-x86_64.sh’\n",
      "\n",
      "Miniconda3-latest-L 100%[===================>]  88.74M  68.4MB/s    in 1.3s    \n",
      "\n",
      "2020-10-26 10:47:01 (68.4 MB/s) - ‘Miniconda3-latest-Linux-x86_64.sh’ saved [93052469/93052469]\n",
      "\n",
      "PREFIX=/usr/local\n",
      "Unpacking payload ...\n",
      "Collecting package metadata (current_repodata.json): - \b\b\\ \b\b| \b\bdone\n",
      "Solving environment: - \b\b\\ \b\bdone\n",
      "\n",
      "## Package Plan ##\n",
      "\n",
      "  environment location: /usr/local\n",
      "\n",
      "  added / updated specs:\n",
      "    - _libgcc_mutex==0.1=main\n",
      "    - ca-certificates==2020.1.1=0\n",
      "    - certifi==2020.4.5.1=py38_0\n",
      "    - cffi==1.14.0=py38he30daa8_1\n",
      "    - chardet==3.0.4=py38_1003\n",
      "    - conda-package-handling==1.6.1=py38h7b6447c_0\n",
      "    - conda==4.8.3=py38_0\n",
      "    - cryptography==2.9.2=py38h1ba5d50_0\n",
      "    - idna==2.9=py_1\n",
      "    - ld_impl_linux-64==2.33.1=h53a641e_7\n",
      "    - libedit==3.1.20181209=hc058e9b_0\n",
      "    - libffi==3.3=he6710b0_1\n",
      "    - libgcc-ng==9.1.0=hdf63c60_0\n",
      "    - libstdcxx-ng==9.1.0=hdf63c60_0\n",
      "    - ncurses==6.2=he6710b0_1\n",
      "    - openssl==1.1.1g=h7b6447c_0\n",
      "    - pip==20.0.2=py38_3\n",
      "    - pycosat==0.6.3=py38h7b6447c_1\n",
      "    - pycparser==2.20=py_0\n",
      "    - pyopenssl==19.1.0=py38_0\n",
      "    - pysocks==1.7.1=py38_0\n",
      "    - python==3.8.3=hcff3b4d_0\n",
      "    - readline==8.0=h7b6447c_0\n",
      "    - requests==2.23.0=py38_0\n",
      "    - ruamel_yaml==0.15.87=py38h7b6447c_0\n",
      "    - setuptools==46.4.0=py38_0\n",
      "    - six==1.14.0=py38_0\n",
      "    - sqlite==3.31.1=h62c20be_1\n",
      "    - tk==8.6.8=hbc83047_0\n",
      "    - tqdm==4.46.0=py_0\n",
      "    - urllib3==1.25.8=py38_0\n",
      "    - wheel==0.34.2=py38_0\n",
      "    - xz==5.2.5=h7b6447c_0\n",
      "    - yaml==0.1.7=had09818_2\n",
      "    - zlib==1.2.11=h7b6447c_3\n",
      "\n",
      "\n",
      "The following NEW packages will be INSTALLED:\n",
      "\n",
      "  _libgcc_mutex      pkgs/main/linux-64::_libgcc_mutex-0.1-main\n",
      "  ca-certificates    pkgs/main/linux-64::ca-certificates-2020.1.1-0\n",
      "  certifi            pkgs/main/linux-64::certifi-2020.4.5.1-py38_0\n",
      "  cffi               pkgs/main/linux-64::cffi-1.14.0-py38he30daa8_1\n",
      "  chardet            pkgs/main/linux-64::chardet-3.0.4-py38_1003\n",
      "  conda              pkgs/main/linux-64::conda-4.8.3-py38_0\n",
      "  conda-package-han~ pkgs/main/linux-64::conda-package-handling-1.6.1-py38h7b6447c_0\n",
      "  cryptography       pkgs/main/linux-64::cryptography-2.9.2-py38h1ba5d50_0\n",
      "  idna               pkgs/main/noarch::idna-2.9-py_1\n",
      "  ld_impl_linux-64   pkgs/main/linux-64::ld_impl_linux-64-2.33.1-h53a641e_7\n",
      "  libedit            pkgs/main/linux-64::libedit-3.1.20181209-hc058e9b_0\n",
      "  libffi             pkgs/main/linux-64::libffi-3.3-he6710b0_1\n",
      "  libgcc-ng          pkgs/main/linux-64::libgcc-ng-9.1.0-hdf63c60_0\n",
      "  libstdcxx-ng       pkgs/main/linux-64::libstdcxx-ng-9.1.0-hdf63c60_0\n",
      "  ncurses            pkgs/main/linux-64::ncurses-6.2-he6710b0_1\n",
      "  openssl            pkgs/main/linux-64::openssl-1.1.1g-h7b6447c_0\n",
      "  pip                pkgs/main/linux-64::pip-20.0.2-py38_3\n",
      "  pycosat            pkgs/main/linux-64::pycosat-0.6.3-py38h7b6447c_1\n",
      "  pycparser          pkgs/main/noarch::pycparser-2.20-py_0\n",
      "  pyopenssl          pkgs/main/linux-64::pyopenssl-19.1.0-py38_0\n",
      "  pysocks            pkgs/main/linux-64::pysocks-1.7.1-py38_0\n",
      "  python             pkgs/main/linux-64::python-3.8.3-hcff3b4d_0\n",
      "  readline           pkgs/main/linux-64::readline-8.0-h7b6447c_0\n",
      "  requests           pkgs/main/linux-64::requests-2.23.0-py38_0\n",
      "  ruamel_yaml        pkgs/main/linux-64::ruamel_yaml-0.15.87-py38h7b6447c_0\n",
      "  setuptools         pkgs/main/linux-64::setuptools-46.4.0-py38_0\n",
      "  six                pkgs/main/linux-64::six-1.14.0-py38_0\n",
      "  sqlite             pkgs/main/linux-64::sqlite-3.31.1-h62c20be_1\n",
      "  tk                 pkgs/main/linux-64::tk-8.6.8-hbc83047_0\n",
      "  tqdm               pkgs/main/noarch::tqdm-4.46.0-py_0\n",
      "  urllib3            pkgs/main/linux-64::urllib3-1.25.8-py38_0\n",
      "  wheel              pkgs/main/linux-64::wheel-0.34.2-py38_0\n",
      "  xz                 pkgs/main/linux-64::xz-5.2.5-h7b6447c_0\n",
      "  yaml               pkgs/main/linux-64::yaml-0.1.7-had09818_2\n",
      "  zlib               pkgs/main/linux-64::zlib-1.2.11-h7b6447c_3\n",
      "\n",
      "\n",
      "Preparing transaction: / \b\b- \b\b\\ \b\bdone\n",
      "Executing transaction: / \b\b- \b\b\\ \b\b| \b\b/ \b\b- \b\b\\ \b\b| \b\b/ \b\b- \b\b\\ \b\bdone\n",
      "installation finished.\n",
      "WARNING:\n",
      "    You currently have a PYTHONPATH environment variable set. This may cause\n",
      "    unexpected behavior when running the Python interpreter in Miniconda3.\n",
      "    For best results, please verify that your PYTHONPATH only points to\n",
      "    directories of packages that are compatible with the Python interpreter\n",
      "    in Miniconda3: /usr/local\n",
      "Collecting package metadata (current_repodata.json): ...working... done\n",
      "Solving environment: ...working... done\n",
      "\n",
      "## Package Plan ##\n",
      "\n",
      "  environment location: /usr/local\n",
      "\n",
      "  added / updated specs:\n",
      "    - openmm\n",
      "    - python=3.6\n",
      "\n",
      "\n",
      "The following packages will be downloaded:\n",
      "\n",
      "    package                    |            build\n",
      "    ---------------------------|-----------------\n",
      "    blas-1.0                   |              mkl           6 KB\n",
      "    brotlipy-0.7.0             |py36h7b6447c_1000         323 KB\n",
      "    ca-certificates-2020.10.14 |                0         121 KB\n",
      "    certifi-2020.6.20          |           py36_0         156 KB\n",
      "    cffi-1.14.3                |   py36he30daa8_0         222 KB\n",
      "    chardet-3.0.4              |        py36_1003         180 KB\n",
      "    conda-4.9.0                |           py36_0         2.9 MB\n",
      "    conda-package-handling-1.7.2|   py36h03888b9_0         886 KB\n",
      "    cryptography-3.1.1         |   py36h1ba5d50_0         555 KB\n",
      "    cython-0.29.21             |   py36he6710b0_0         1.9 MB\n",
      "    fftw3f-3.3.4               |                2         1.2 MB  omnia\n",
      "    intel-openmp-2020.2        |              254         786 KB\n",
      "    mkl-2020.2                 |              256       138.3 MB\n",
      "    mkl-service-2.3.0          |   py36he904b0f_0         219 KB\n",
      "    mkl_fft-1.2.0              |   py36h23d657b_0         149 KB\n",
      "    mkl_random-1.1.1           |   py36h0573a6f_0         327 KB\n",
      "    numpy-1.19.2               |   py36h54aff64_0          22 KB\n",
      "    numpy-base-1.19.2          |   py36hfa32c7d_0         4.1 MB\n",
      "    openmm-7.4.2               |py36_cuda101_rc_1        11.9 MB  omnia\n",
      "    openssl-1.1.1h             |       h7b6447c_0         2.5 MB\n",
      "    pip-20.2.4                 |           py36_0         1.8 MB\n",
      "    pycosat-0.6.3              |   py36h7b6447c_0          82 KB\n",
      "    pyopenssl-19.1.0           |             py_1          48 KB\n",
      "    pysocks-1.7.1              |           py36_0          30 KB\n",
      "    python-3.6.10              |       h7579374_2        29.7 MB\n",
      "    requests-2.24.0            |             py_0          56 KB\n",
      "    ruamel_yaml-0.15.87        |   py36h7b6447c_0         257 KB\n",
      "    setuptools-50.3.0          |   py36hb0f4dca_1         713 KB\n",
      "    six-1.15.0                 |             py_0          13 KB\n",
      "    urllib3-1.25.11            |             py_0          99 KB\n",
      "    wheel-0.35.1               |             py_0          37 KB\n",
      "    ------------------------------------------------------------\n",
      "                                           Total:       199.5 MB\n",
      "\n",
      "The following NEW packages will be INSTALLED:\n",
      "\n",
      "  blas               pkgs/main/linux-64::blas-1.0-mkl\n",
      "  brotlipy           pkgs/main/linux-64::brotlipy-0.7.0-py36h7b6447c_1000\n",
      "  cython             pkgs/main/linux-64::cython-0.29.21-py36he6710b0_0\n",
      "  fftw3f             omnia/linux-64::fftw3f-3.3.4-2\n",
      "  intel-openmp       pkgs/main/linux-64::intel-openmp-2020.2-254\n",
      "  mkl                pkgs/main/linux-64::mkl-2020.2-256\n",
      "  mkl-service        pkgs/main/linux-64::mkl-service-2.3.0-py36he904b0f_0\n",
      "  mkl_fft            pkgs/main/linux-64::mkl_fft-1.2.0-py36h23d657b_0\n",
      "  mkl_random         pkgs/main/linux-64::mkl_random-1.1.1-py36h0573a6f_0\n",
      "  numpy              pkgs/main/linux-64::numpy-1.19.2-py36h54aff64_0\n",
      "  numpy-base         pkgs/main/linux-64::numpy-base-1.19.2-py36hfa32c7d_0\n",
      "  openmm             omnia/linux-64::openmm-7.4.2-py36_cuda101_rc_1\n",
      "\n",
      "The following packages will be UPDATED:\n",
      "\n",
      "  ca-certificates                                2020.1.1-0 --> 2020.10.14-0\n",
      "  certifi                                 2020.4.5.1-py38_0 --> 2020.6.20-py36_0\n",
      "  cffi                                1.14.0-py38he30daa8_1 --> 1.14.3-py36he30daa8_0\n",
      "  conda                                        4.8.3-py38_0 --> 4.9.0-py36_0\n",
      "  conda-package-han~                   1.6.1-py38h7b6447c_0 --> 1.7.2-py36h03888b9_0\n",
      "  cryptography                         2.9.2-py38h1ba5d50_0 --> 3.1.1-py36h1ba5d50_0\n",
      "  openssl                                 1.1.1g-h7b6447c_0 --> 1.1.1h-h7b6447c_0\n",
      "  pip                                         20.0.2-py38_3 --> 20.2.4-py36_0\n",
      "  pyopenssl          pkgs/main/linux-64::pyopenssl-19.1.0-~ --> pkgs/main/noarch::pyopenssl-19.1.0-py_1\n",
      "  requests           pkgs/main/linux-64::requests-2.23.0-p~ --> pkgs/main/noarch::requests-2.24.0-py_0\n",
      "  setuptools                                  46.4.0-py38_0 --> 50.3.0-py36hb0f4dca_1\n",
      "  six                 pkgs/main/linux-64::six-1.14.0-py38_0 --> pkgs/main/noarch::six-1.15.0-py_0\n",
      "  urllib3            pkgs/main/linux-64::urllib3-1.25.8-py~ --> pkgs/main/noarch::urllib3-1.25.11-py_0\n",
      "  wheel              pkgs/main/linux-64::wheel-0.34.2-py38~ --> pkgs/main/noarch::wheel-0.35.1-py_0\n",
      "\n",
      "The following packages will be DOWNGRADED:\n",
      "\n",
      "  chardet                                   3.0.4-py38_1003 --> 3.0.4-py36_1003\n",
      "  pycosat                              0.6.3-py38h7b6447c_1 --> 0.6.3-py36h7b6447c_0\n",
      "  pysocks                                      1.7.1-py38_0 --> 1.7.1-py36_0\n",
      "  python                                   3.8.3-hcff3b4d_0 --> 3.6.10-h7579374_2\n",
      "  ruamel_yaml                        0.15.87-py38h7b6447c_0 --> 0.15.87-py36h7b6447c_0\n",
      "\n",
      "\n",
      "Preparing transaction: ...working... done\n",
      "Verifying transaction: ...working... done\n",
      "Executing transaction: ...working... done\n",
      "Collecting package metadata (current_repodata.json): ...working... done\n",
      "Solving environment: ...working... done\n",
      "\n",
      "## Package Plan ##\n",
      "\n",
      "  environment location: /usr/local\n",
      "\n",
      "  added / updated specs:\n",
      "    - openmmforcefields\n",
      "    - python=3.6\n",
      "\n",
      "\n",
      "The following packages will be downloaded:\n",
      "\n",
      "    package                    |            build\n",
      "    ---------------------------|-----------------\n",
      "    ambertools-18.0            |                0       114.9 MB  omnia\n",
      "    argon2-cffi-20.1.0         |   py36h8c4c3a4_2          47 KB  conda-forge\n",
      "    async_generator-1.10       |             py_0          18 KB  conda-forge\n",
      "    attrs-20.2.0               |     pyh9f0ad1d_0          41 KB  conda-forge\n",
      "    backports-1.0              |             py_2           4 KB  conda-forge\n",
      "    backports.functools_lru_cache-1.6.1|             py_0           8 KB  conda-forge\n",
      "    bleach-3.2.1               |     pyh9f0ad1d_0         111 KB  conda-forge\n",
      "    boost-1.74.0               |   py36h79e6602_1         312 KB  conda-forge\n",
      "    boost-cpp-1.74.0           |       h9359b55_0        16.4 MB  conda-forge\n",
      "    bson-0.5.9                 |             py_0          14 KB  conda-forge\n",
      "    bzip2-1.0.8                |       h516909a_3         398 KB  conda-forge\n",
      "    ca-certificates-2020.6.20  |       hecda079_0         145 KB  conda-forge\n",
      "    cairo-1.16.0               |    h3fc0475_1005         1.5 MB  conda-forge\n",
      "    certifi-2020.6.20          |   py36h9880bd3_2         151 KB  conda-forge\n",
      "    codecov-2.1.10             |     pyh9f0ad1d_0          19 KB  conda-forge\n",
      "    conda-4.9.0                |   py36h9880bd3_1         3.0 MB  conda-forge\n",
      "    coverage-4.3.4             |           py36_0         226 KB  omnia\n",
      "    decorator-4.4.2            |             py_0          11 KB  conda-forge\n",
      "    defusedxml-0.6.0           |             py_0          22 KB  conda-forge\n",
      "    entrypoints-0.3            |py36h9f0ad1d_1002          13 KB  conda-forge\n",
      "    fontconfig-2.13.1          |    h1056068_1002         365 KB  conda-forge\n",
      "    freetype-2.10.4            |       he06d7ca_0         919 KB  conda-forge\n",
      "    glib-2.66.1                |       h92f7085_0         2.9 MB\n",
      "    icu-67.1                   |       he1b5a44_0        12.9 MB  conda-forge\n",
      "    importlib-metadata-2.0.0   |             py_1          28 KB  conda-forge\n",
      "    importlib_metadata-2.0.0   |                1           3 KB  conda-forge\n",
      "    iniconfig-1.1.1            |     pyh9f0ad1d_0           8 KB  conda-forge\n",
      "    ipykernel-5.3.4            |   py36hac0dd68_1         166 KB  conda-forge\n",
      "    ipython-5.8.0              |           py36_1         1.1 MB  conda-forge\n",
      "    ipython_genutils-0.2.0     |             py_1          21 KB  conda-forge\n",
      "    jinja2-2.11.2              |     pyh9f0ad1d_0          93 KB  conda-forge\n",
      "    jpeg-9d                    |       h516909a_0         266 KB  conda-forge\n",
      "    jsonschema-3.2.0           |             py_2          45 KB  conda-forge\n",
      "    jupyter_client-6.1.7       |             py_0          76 KB  conda-forge\n",
      "    jupyter_core-4.6.3         |   py36h9f0ad1d_2          72 KB  conda-forge\n",
      "    jupyterlab_pygments-0.1.2  |     pyh9f0ad1d_0           8 KB  conda-forge\n",
      "    lcms2-2.11                 |       hbd6801e_0         431 KB  conda-forge\n",
      "    libgcc-7.2.0               |       h69d50b8_2         304 KB  conda-forge\n",
      "    libiconv-1.16              |       h516909a_0         1.4 MB  conda-forge\n",
      "    libpng-1.6.37              |       hed695b0_2         359 KB  conda-forge\n",
      "    libsodium-1.0.18           |       h516909a_1         366 KB  conda-forge\n",
      "    libtiff-4.1.0              |       hc7e4089_6         668 KB  conda-forge\n",
      "    libuuid-2.32.1             |    h14c3975_1000          26 KB  conda-forge\n",
      "    libwebp-base-1.1.0         |       h516909a_3         845 KB  conda-forge\n",
      "    libxcb-1.13                |    h14c3975_1002         396 KB  conda-forge\n",
      "    libxml2-2.9.10             |       h68273f3_2         1.3 MB  conda-forge\n",
      "    libxslt-1.1.33             |       h572872d_1         556 KB  conda-forge\n",
      "    lxml-4.6.1                 |   py36h17c4326_0         1.4 MB  conda-forge\n",
      "    lz4-c-1.9.2                |       he1b5a44_3         203 KB  conda-forge\n",
      "    markupsafe-1.1.1           |   py36he6145b8_2          27 KB  conda-forge\n",
      "    mistune-0.8.4              |py36h8c4c3a4_1002          54 KB  conda-forge\n",
      "    more-itertools-8.5.0       |             py_0          37 KB  conda-forge\n",
      "    msgpack-python-1.0.0       |   py36hdb11119_2          91 KB  conda-forge\n",
      "    nbclient-0.5.1             |             py_0          60 KB  conda-forge\n",
      "    nbconvert-6.0.7            |   py36h9f0ad1d_1         551 KB  conda-forge\n",
      "    nbformat-5.0.8             |             py_0         100 KB  conda-forge\n",
      "    nest-asyncio-1.4.1         |             py_0           9 KB  conda-forge\n",
      "    networkx-2.5               |             py_0         1.2 MB  conda-forge\n",
      "    notebook-6.1.4             |   py36h9f0ad1d_1         6.2 MB  conda-forge\n",
      "    olefile-0.46               |     pyh9f0ad1d_1          32 KB  conda-forge\n",
      "    openforcefield-0.6.0       |           py36_1        29.7 MB  omnia\n",
      "    openforcefields-1.3.0      |             py_0          74 KB  omnia\n",
      "    openmmforcefields-0.7.4    |             py_0         2.0 MB  omnia\n",
      "    openssl-1.1.1h             |       h516909a_0         2.1 MB  conda-forge\n",
      "    packaging-20.4             |     pyh9f0ad1d_0          32 KB  conda-forge\n",
      "    pandas-1.1.3               |   py36h66e3816_2        10.5 MB  conda-forge\n",
      "    pandoc-2.11.0.4            |       hd18ef5c_0        12.5 MB  conda-forge\n",
      "    pandocfilters-1.4.2        |             py_1           9 KB  conda-forge\n",
      "    pcre-8.44                  |       he1b5a44_0         261 KB  conda-forge\n",
      "    pexpect-4.8.0              |     pyh9f0ad1d_2          47 KB  conda-forge\n",
      "    pickleshare-0.7.5          |          py_1003           9 KB  conda-forge\n",
      "    pillow-8.0.0               |   py36h9a89aac_0         620 KB\n",
      "    pixman-0.38.0              |    h516909a_1003         594 KB  conda-forge\n",
      "    pluggy-0.13.1              |   py36h9880bd3_3          29 KB  conda-forge\n",
      "    prometheus_client-0.8.0    |     pyh9f0ad1d_0          44 KB  conda-forge\n",
      "    prompt_toolkit-1.0.15      |             py_1         154 KB  conda-forge\n",
      "    pthread-stubs-0.4          |    h14c3975_1001           5 KB  conda-forge\n",
      "    ptyprocess-0.6.0           |          py_1001          15 KB  conda-forge\n",
      "    py-1.9.0                   |     pyh9f0ad1d_0          74 KB  conda-forge\n",
      "    pycairo-1.20.0             |   py36h4779a57_1          77 KB  conda-forge\n",
      "    pygments-2.7.2             |             py_0         707 KB  conda-forge\n",
      "    pyparsing-2.4.7            |     pyh9f0ad1d_0          60 KB  conda-forge\n",
      "    pyrsistent-0.17.3          |   py36h8c4c3a4_1          89 KB  conda-forge\n",
      "    pytest-6.1.1               |   py36h9880bd3_1         417 KB  conda-forge\n",
      "    pytest-cov-2.5.1           |           py36_0          23 KB  conda-forge\n",
      "    python-dateutil-2.8.1      |             py_0         220 KB  conda-forge\n",
      "    python_abi-3.6             |          1_cp36m           4 KB  conda-forge\n",
      "    pytz-2020.1                |     pyh9f0ad1d_0         227 KB  conda-forge\n",
      "    pyyaml-5.1.2               |   py36h516909a_0         184 KB  conda-forge\n",
      "    pyzmq-19.0.2               |   py36h9947dbf_2         467 KB  conda-forge\n",
      "    rdkit-2020.09.1            |   py36hf6a1616_0        25.7 MB  conda-forge\n",
      "    send2trash-1.5.0           |             py_0          12 KB  conda-forge\n",
      "    simplegeneric-0.8.1        |             py_1           7 KB  conda-forge\n",
      "    smirnoff99frosst-1.1.0     |           py36_1          72 KB  omnia\n",
      "    terminado-0.9.1            |   py36h9f0ad1d_1          25 KB  conda-forge\n",
      "    testpath-0.4.4             |             py_0          85 KB  conda-forge\n",
      "    tinydb-4.2.0               |     pyh9f0ad1d_0          21 KB  conda-forge\n",
      "    toml-0.10.1                |     pyh9f0ad1d_0          18 KB  conda-forge\n",
      "    tornado-6.0.4              |   py36h8c4c3a4_2         638 KB  conda-forge\n",
      "    traitlets-4.3.3            |   py36h9f0ad1d_1         133 KB  conda-forge\n",
      "    wcwidth-0.2.5              |     pyh9f0ad1d_2          33 KB  conda-forge\n",
      "    webencodings-0.5.1         |             py_1          12 KB  conda-forge\n",
      "    xmltodict-0.12.0           |             py_0          11 KB  conda-forge\n",
      "    xorg-kbproto-1.0.7         |    h14c3975_1002          26 KB  conda-forge\n",
      "    xorg-libice-1.0.10         |       h516909a_0          57 KB  conda-forge\n",
      "    xorg-libsm-1.2.3           |    h84519dc_1000          25 KB  conda-forge\n",
      "    xorg-libx11-1.6.12         |       h516909a_0         917 KB  conda-forge\n",
      "    xorg-libxau-1.0.9          |       h14c3975_0          13 KB  conda-forge\n",
      "    xorg-libxdmcp-1.1.3        |       h516909a_0          18 KB  conda-forge\n",
      "    xorg-libxext-1.3.4         |       h516909a_0          51 KB  conda-forge\n",
      "    xorg-libxrender-0.9.10     |    h516909a_1002          31 KB  conda-forge\n",
      "    xorg-renderproto-0.11.1    |    h14c3975_1002           8 KB  conda-forge\n",
      "    xorg-xextproto-7.3.0       |    h14c3975_1002          27 KB  conda-forge\n",
      "    xorg-xproto-7.0.31         |    h14c3975_1007          72 KB  conda-forge\n",
      "    zeromq-4.3.3               |       he1b5a44_2         288 KB  conda-forge\n",
      "    zipp-3.4.0                 |             py_0          11 KB  conda-forge\n",
      "    zstd-1.4.5                 |       h6597ccf_2         712 KB  conda-forge\n",
      "    ------------------------------------------------------------\n",
      "                                           Total:       262.8 MB\n",
      "\n",
      "The following NEW packages will be INSTALLED:\n",
      "\n",
      "  ambertools         omnia/linux-64::ambertools-18.0-0\n",
      "  argon2-cffi        conda-forge/linux-64::argon2-cffi-20.1.0-py36h8c4c3a4_2\n",
      "  async_generator    conda-forge/noarch::async_generator-1.10-py_0\n",
      "  attrs              conda-forge/noarch::attrs-20.2.0-pyh9f0ad1d_0\n",
      "  backports          conda-forge/noarch::backports-1.0-py_2\n",
      "  backports.functoo~ conda-forge/noarch::backports.functools_lru_cache-1.6.1-py_0\n",
      "  bleach             conda-forge/noarch::bleach-3.2.1-pyh9f0ad1d_0\n",
      "  boost              conda-forge/linux-64::boost-1.74.0-py36h79e6602_1\n",
      "  boost-cpp          conda-forge/linux-64::boost-cpp-1.74.0-h9359b55_0\n",
      "  bson               conda-forge/noarch::bson-0.5.9-py_0\n",
      "  bzip2              conda-forge/linux-64::bzip2-1.0.8-h516909a_3\n",
      "  cairo              conda-forge/linux-64::cairo-1.16.0-h3fc0475_1005\n",
      "  codecov            conda-forge/noarch::codecov-2.1.10-pyh9f0ad1d_0\n",
      "  coverage           omnia/linux-64::coverage-4.3.4-py36_0\n",
      "  decorator          conda-forge/noarch::decorator-4.4.2-py_0\n",
      "  defusedxml         conda-forge/noarch::defusedxml-0.6.0-py_0\n",
      "  entrypoints        conda-forge/linux-64::entrypoints-0.3-py36h9f0ad1d_1002\n",
      "  fontconfig         conda-forge/linux-64::fontconfig-2.13.1-h1056068_1002\n",
      "  freetype           conda-forge/linux-64::freetype-2.10.4-he06d7ca_0\n",
      "  glib               pkgs/main/linux-64::glib-2.66.1-h92f7085_0\n",
      "  icu                conda-forge/linux-64::icu-67.1-he1b5a44_0\n",
      "  importlib-metadata conda-forge/noarch::importlib-metadata-2.0.0-py_1\n",
      "  importlib_metadata conda-forge/noarch::importlib_metadata-2.0.0-1\n",
      "  iniconfig          conda-forge/noarch::iniconfig-1.1.1-pyh9f0ad1d_0\n",
      "  ipykernel          conda-forge/linux-64::ipykernel-5.3.4-py36hac0dd68_1\n",
      "  ipython            conda-forge/linux-64::ipython-5.8.0-py36_1\n",
      "  ipython_genutils   conda-forge/noarch::ipython_genutils-0.2.0-py_1\n",
      "  jinja2             conda-forge/noarch::jinja2-2.11.2-pyh9f0ad1d_0\n",
      "  jpeg               conda-forge/linux-64::jpeg-9d-h516909a_0\n",
      "  jsonschema         conda-forge/noarch::jsonschema-3.2.0-py_2\n",
      "  jupyter_client     conda-forge/noarch::jupyter_client-6.1.7-py_0\n",
      "  jupyter_core       conda-forge/linux-64::jupyter_core-4.6.3-py36h9f0ad1d_2\n",
      "  jupyterlab_pygmen~ conda-forge/noarch::jupyterlab_pygments-0.1.2-pyh9f0ad1d_0\n",
      "  lcms2              conda-forge/linux-64::lcms2-2.11-hbd6801e_0\n",
      "  libgcc             conda-forge/linux-64::libgcc-7.2.0-h69d50b8_2\n",
      "  libiconv           conda-forge/linux-64::libiconv-1.16-h516909a_0\n",
      "  libpng             conda-forge/linux-64::libpng-1.6.37-hed695b0_2\n",
      "  libsodium          conda-forge/linux-64::libsodium-1.0.18-h516909a_1\n",
      "  libtiff            conda-forge/linux-64::libtiff-4.1.0-hc7e4089_6\n",
      "  libuuid            conda-forge/linux-64::libuuid-2.32.1-h14c3975_1000\n",
      "  libwebp-base       conda-forge/linux-64::libwebp-base-1.1.0-h516909a_3\n",
      "  libxcb             conda-forge/linux-64::libxcb-1.13-h14c3975_1002\n",
      "  libxml2            conda-forge/linux-64::libxml2-2.9.10-h68273f3_2\n",
      "  libxslt            conda-forge/linux-64::libxslt-1.1.33-h572872d_1\n",
      "  lxml               conda-forge/linux-64::lxml-4.6.1-py36h17c4326_0\n",
      "  lz4-c              conda-forge/linux-64::lz4-c-1.9.2-he1b5a44_3\n",
      "  markupsafe         conda-forge/linux-64::markupsafe-1.1.1-py36he6145b8_2\n",
      "  mistune            conda-forge/linux-64::mistune-0.8.4-py36h8c4c3a4_1002\n",
      "  more-itertools     conda-forge/noarch::more-itertools-8.5.0-py_0\n",
      "  msgpack-python     conda-forge/linux-64::msgpack-python-1.0.0-py36hdb11119_2\n",
      "  nbclient           conda-forge/noarch::nbclient-0.5.1-py_0\n",
      "  nbconvert          conda-forge/linux-64::nbconvert-6.0.7-py36h9f0ad1d_1\n",
      "  nbformat           conda-forge/noarch::nbformat-5.0.8-py_0\n",
      "  nest-asyncio       conda-forge/noarch::nest-asyncio-1.4.1-py_0\n",
      "  networkx           conda-forge/noarch::networkx-2.5-py_0\n",
      "  notebook           conda-forge/linux-64::notebook-6.1.4-py36h9f0ad1d_1\n",
      "  olefile            conda-forge/noarch::olefile-0.46-pyh9f0ad1d_1\n",
      "  openforcefield     omnia/linux-64::openforcefield-0.6.0-py36_1\n",
      "  openforcefields    omnia/noarch::openforcefields-1.3.0-py_0\n",
      "  openmmforcefields  omnia/noarch::openmmforcefields-0.7.4-py_0\n",
      "  packaging          conda-forge/noarch::packaging-20.4-pyh9f0ad1d_0\n",
      "  pandas             conda-forge/linux-64::pandas-1.1.3-py36h66e3816_2\n",
      "  pandoc             conda-forge/linux-64::pandoc-2.11.0.4-hd18ef5c_0\n",
      "  pandocfilters      conda-forge/noarch::pandocfilters-1.4.2-py_1\n",
      "  pcre               conda-forge/linux-64::pcre-8.44-he1b5a44_0\n",
      "  pexpect            conda-forge/noarch::pexpect-4.8.0-pyh9f0ad1d_2\n",
      "  pickleshare        conda-forge/noarch::pickleshare-0.7.5-py_1003\n",
      "  pillow             pkgs/main/linux-64::pillow-8.0.0-py36h9a89aac_0\n",
      "  pixman             conda-forge/linux-64::pixman-0.38.0-h516909a_1003\n",
      "  pluggy             conda-forge/linux-64::pluggy-0.13.1-py36h9880bd3_3\n",
      "  prometheus_client  conda-forge/noarch::prometheus_client-0.8.0-pyh9f0ad1d_0\n",
      "  prompt_toolkit     conda-forge/noarch::prompt_toolkit-1.0.15-py_1\n",
      "  pthread-stubs      conda-forge/linux-64::pthread-stubs-0.4-h14c3975_1001\n",
      "  ptyprocess         conda-forge/noarch::ptyprocess-0.6.0-py_1001\n",
      "  py                 conda-forge/noarch::py-1.9.0-pyh9f0ad1d_0\n",
      "  pycairo            conda-forge/linux-64::pycairo-1.20.0-py36h4779a57_1\n",
      "  pygments           conda-forge/noarch::pygments-2.7.2-py_0\n",
      "  pyparsing          conda-forge/noarch::pyparsing-2.4.7-pyh9f0ad1d_0\n",
      "  pyrsistent         conda-forge/linux-64::pyrsistent-0.17.3-py36h8c4c3a4_1\n",
      "  pytest             conda-forge/linux-64::pytest-6.1.1-py36h9880bd3_1\n",
      "  pytest-cov         conda-forge/linux-64::pytest-cov-2.5.1-py36_0\n",
      "  python-dateutil    conda-forge/noarch::python-dateutil-2.8.1-py_0\n",
      "  python_abi         conda-forge/linux-64::python_abi-3.6-1_cp36m\n",
      "  pytz               conda-forge/noarch::pytz-2020.1-pyh9f0ad1d_0\n",
      "  pyyaml             conda-forge/linux-64::pyyaml-5.1.2-py36h516909a_0\n",
      "  pyzmq              conda-forge/linux-64::pyzmq-19.0.2-py36h9947dbf_2\n",
      "  rdkit              conda-forge/linux-64::rdkit-2020.09.1-py36hf6a1616_0\n",
      "  send2trash         conda-forge/noarch::send2trash-1.5.0-py_0\n",
      "  simplegeneric      conda-forge/noarch::simplegeneric-0.8.1-py_1\n",
      "  smirnoff99frosst   omnia/linux-64::smirnoff99frosst-1.1.0-py36_1\n",
      "  terminado          conda-forge/linux-64::terminado-0.9.1-py36h9f0ad1d_1\n",
      "  testpath           conda-forge/noarch::testpath-0.4.4-py_0\n",
      "  tinydb             conda-forge/noarch::tinydb-4.2.0-pyh9f0ad1d_0\n",
      "  toml               conda-forge/noarch::toml-0.10.1-pyh9f0ad1d_0\n",
      "  tornado            conda-forge/linux-64::tornado-6.0.4-py36h8c4c3a4_2\n",
      "  traitlets          conda-forge/linux-64::traitlets-4.3.3-py36h9f0ad1d_1\n",
      "  wcwidth            conda-forge/noarch::wcwidth-0.2.5-pyh9f0ad1d_2\n",
      "  webencodings       conda-forge/noarch::webencodings-0.5.1-py_1\n",
      "  xmltodict          conda-forge/noarch::xmltodict-0.12.0-py_0\n",
      "  xorg-kbproto       conda-forge/linux-64::xorg-kbproto-1.0.7-h14c3975_1002\n",
      "  xorg-libice        conda-forge/linux-64::xorg-libice-1.0.10-h516909a_0\n",
      "  xorg-libsm         conda-forge/linux-64::xorg-libsm-1.2.3-h84519dc_1000\n",
      "  xorg-libx11        conda-forge/linux-64::xorg-libx11-1.6.12-h516909a_0\n",
      "  xorg-libxau        conda-forge/linux-64::xorg-libxau-1.0.9-h14c3975_0\n",
      "  xorg-libxdmcp      conda-forge/linux-64::xorg-libxdmcp-1.1.3-h516909a_0\n",
      "  xorg-libxext       conda-forge/linux-64::xorg-libxext-1.3.4-h516909a_0\n",
      "  xorg-libxrender    conda-forge/linux-64::xorg-libxrender-0.9.10-h516909a_1002\n",
      "  xorg-renderproto   conda-forge/linux-64::xorg-renderproto-0.11.1-h14c3975_1002\n",
      "  xorg-xextproto     conda-forge/linux-64::xorg-xextproto-7.3.0-h14c3975_1002\n",
      "  xorg-xproto        conda-forge/linux-64::xorg-xproto-7.0.31-h14c3975_1007\n",
      "  zeromq             conda-forge/linux-64::zeromq-4.3.3-he1b5a44_2\n",
      "  zipp               conda-forge/noarch::zipp-3.4.0-py_0\n",
      "  zstd               conda-forge/linux-64::zstd-1.4.5-h6597ccf_2\n",
      "\n",
      "The following packages will be UPDATED:\n",
      "\n",
      "  certifi               pkgs/main::certifi-2020.6.20-py36_0 --> conda-forge::certifi-2020.6.20-py36h9880bd3_2\n",
      "  conda                       pkgs/main::conda-4.9.0-py36_0 --> conda-forge::conda-4.9.0-py36h9880bd3_1\n",
      "\n",
      "The following packages will be SUPERSEDED by a higher-priority channel:\n",
      "\n",
      "  ca-certificates    pkgs/main::ca-certificates-2020.10.14~ --> conda-forge::ca-certificates-2020.6.20-hecda079_0\n",
      "  openssl              pkgs/main::openssl-1.1.1h-h7b6447c_0 --> conda-forge::openssl-1.1.1h-h516909a_0\n",
      "\n",
      "\n",
      "Preparing transaction: ...working... done\n",
      "Verifying transaction: ...working... done\n",
      "Executing transaction: ...working... done\n",
      "Collecting package metadata (current_repodata.json): ...working... done\n",
      "Solving environment: ...working... done\n",
      "\n",
      "# All requested packages already installed.\n",
      "\n",
      "Collecting package metadata (current_repodata.json): ...working... done\n",
      "Solving environment: ...working... done\n",
      "\n",
      "## Package Plan ##\n",
      "\n",
      "  environment location: /usr/local\n",
      "\n",
      "  added / updated specs:\n",
      "    - pdbfixer\n",
      "    - python=3.6\n",
      "\n",
      "\n",
      "The following packages will be downloaded:\n",
      "\n",
      "    package                    |            build\n",
      "    ---------------------------|-----------------\n",
      "    pdbfixer-1.6               |           py36_0         190 KB  omnia\n",
      "    ------------------------------------------------------------\n",
      "                                           Total:         190 KB\n",
      "\n",
      "The following NEW packages will be INSTALLED:\n",
      "\n",
      "  pdbfixer           omnia/linux-64::pdbfixer-1.6-py36_0\n",
      "\n",
      "\n",
      "Preparing transaction: ...working... done\n",
      "Verifying transaction: ...working... done\n",
      "Executing transaction: ...working... done\n",
      "Collecting package metadata (current_repodata.json): ...working... done\n",
      "Solving environment: ...working... done\n",
      "\n",
      "## Package Plan ##\n",
      "\n",
      "  environment location: /usr/local\n",
      "\n",
      "  added / updated specs:\n",
      "    - mdtraj\n",
      "    - python=3.6\n",
      "\n",
      "\n",
      "The following packages will be downloaded:\n",
      "\n",
      "    package                    |            build\n",
      "    ---------------------------|-----------------\n",
      "    blosc-1.20.1               |       he1b5a44_0         874 KB  conda-forge\n",
      "    hdf5-1.10.6                |nompi_h3c11f04_101         3.0 MB  conda-forge\n",
      "    libgfortran-ng-7.5.0       |      hae1eefd_17          22 KB  conda-forge\n",
      "    libgfortran4-7.5.0         |      hae1eefd_17         1.3 MB  conda-forge\n",
      "    lzo-2.10                   |    h516909a_1000         314 KB  conda-forge\n",
      "    mdtraj-1.9.1               |           py36_0         5.9 MB  omnia\n",
      "    mock-4.0.2                 |   py36h9f0ad1d_1          51 KB  conda-forge\n",
      "    numexpr-2.7.1              |   py36h7c3b610_3         197 KB  conda-forge\n",
      "    pytables-3.6.1             |   py36hd57f836_3         1.5 MB  conda-forge\n",
      "    scipy-1.5.2                |   py36h0b6359f_0        14.4 MB\n",
      "    ------------------------------------------------------------\n",
      "                                           Total:        27.5 MB\n",
      "\n",
      "The following NEW packages will be INSTALLED:\n",
      "\n",
      "  blosc              conda-forge/linux-64::blosc-1.20.1-he1b5a44_0\n",
      "  hdf5               conda-forge/linux-64::hdf5-1.10.6-nompi_h3c11f04_101\n",
      "  libgfortran-ng     conda-forge/linux-64::libgfortran-ng-7.5.0-hae1eefd_17\n",
      "  libgfortran4       conda-forge/linux-64::libgfortran4-7.5.0-hae1eefd_17\n",
      "  lzo                conda-forge/linux-64::lzo-2.10-h516909a_1000\n",
      "  mdtraj             omnia/linux-64::mdtraj-1.9.1-py36_0\n",
      "  mock               conda-forge/linux-64::mock-4.0.2-py36h9f0ad1d_1\n",
      "  numexpr            conda-forge/linux-64::numexpr-2.7.1-py36h7c3b610_3\n",
      "  pytables           conda-forge/linux-64::pytables-3.6.1-py36hd57f836_3\n",
      "  scipy              pkgs/main/linux-64::scipy-1.5.2-py36h0b6359f_0\n",
      "\n",
      "\n",
      "Preparing transaction: ...working... done\n",
      "Verifying transaction: ...working... done\n",
      "Executing transaction: ...working... done\n"
     ]
    }
   ],
   "source": [
    "import sys\n",
    "# Download miniconda\n",
    "!wget https://repo.anaconda.com/miniconda/Miniconda3-latest-Linux-x86_64.sh\n",
    "!bash Miniconda3-latest-Linux-x86_64.sh -bfp /usr/local\n",
    "# install required modules\n",
    "!conda install -q -y -c omnia --prefix /usr/local/ python=3.6 openmm;\n",
    "!conda install -q -y -c omnia -c conda-forge --prefix /usr/local/ python=3.6 openmmforcefields;\n",
    "!conda install -q -y -c omnia -c conda-forge --prefix /usr/local/ python=3.6 rdkit;\n",
    "!conda install -q -y -c omnia -c conda-forge --prefix /usr/local/ python=3.6 pdbfixer;\n",
    "#!conda install -q -y -c conda-forge --prefix /usr/local/ python=3.6 mdanalysis;\n",
    "!conda install -q -y -c omnia -c conda-forge --prefix /usr/local/ python=3.6 mdtraj;\n",
    "# Append path to enable running packages installed with conda\n",
    "sys.path.append('/usr/local/lib/python3.6/site-packages')"
   ]
  },
  {
   "cell_type": "markdown",
   "metadata": {
    "id": "WpSLhe8ZLgmd"
   },
   "source": [
    "# Theory"
   ]
  },
  {
   "cell_type": "markdown",
   "metadata": {
    "id": "ffIAyMqdwUat"
   },
   "source": [
    "The main focus of this notebook will be on how to perform molecular dynamics (MD) simulations of protein, using the main protease of SARS-CoV-2 in complex with the X77 inhibitor. Nevertheless a short introduction to the protein and its relevance in drug discovery are give below, before focusing on MD and force fields. \n",
    "\n",
    "## Main protease of SARS-CoV-2 \n",
    "\n",
    "SARS-CoV-2 genome encodes, between others, polyproteins that are cleaved and tansformed in non-structural proteins by proteases. These non-structural proteins play a fundamental role in the pathogenesis and blocking their production could significally hinder the virulence of SARS-CoV-2. A possible way of doing do is to inhibit the viral proteases needed for the correct folding of the non-structural proteins. This makes the main protease of SARS-CoV-2 a candidate target for the development of a much needed antiviral drug. Here we used the pdb structure of the protease in complex with the inhibitor X77 (shown below) provided by Mesecar (2020) to perform a MD simulation, providing a 1 ns molecular trajactory. "
   ]
  },
  {
   "cell_type": "markdown",
   "metadata": {
    "id": "fARXaAnzwUau"
   },
   "source": [
    "![SARS-CoV-2](https://cdn.rcsb.org/images/rutgers/w6/6w63/6w63.pdb1-500.jpg)"
   ]
  },
  {
   "cell_type": "markdown",
   "metadata": {
    "id": "M-A4u9NxwUav"
   },
   "source": [
    "## The X77 ligand\n",
    "\n",
    "The molecular structure of the ligand X77, which shows inhibiting properties when in complex with the SARS-CoV-2 main protease, is shown below (fetched from SMILES)."
   ]
  },
  {
   "cell_type": "code",
   "execution_count": null,
   "metadata": {
    "colab": {
     "base_uri": "https://localhost:8080/",
     "height": 34
    },
    "id": "EVm6YjEwwUay",
    "outputId": "9beeb3c8-1a33-40b6-9866-891862265b5d"
   },
   "outputs": [
    {
     "data": {
      "text/plain": [
       "<rdkit.Chem.rdchem.Mol at 0x7fad63adb530>"
      ]
     },
     "execution_count": 2,
     "metadata": {
      "tags": []
     },
     "output_type": "execute_result"
    }
   ],
   "source": [
    "from rdkit import Chem\n",
    "# get the X77 structure from SMILES and draw it\n",
    "X77 = Chem.MolFromSmiles(\n",
    "    'CC(C)(C)c1ccc(cc1)N([C@@H](C(=O)NC2CCCCC2)c3cccnc3)C(=O)c4c[nH]cn4')\n",
    "X77"
   ]
  },
  {
   "cell_type": "markdown",
   "metadata": {
    "id": "lxhBZyifLgmm"
   },
   "source": [
    "## Molecular dynamics"
   ]
  },
  {
   "cell_type": "markdown",
   "metadata": {
    "id": "svQEDsBCwUa5"
   },
   "source": [
    "MD is a computational method for analyzing how the atoms and molecules of a system move and interact with each other. The method stems from theoretical physics, where it was developed in the years around 1950, although the ideas behind it can be dated much earlier:\n",
    "\n",
    "#### \"An intelligence which could, at  any moment, comprehend all the forces by  which nature is animated and the  respective positions of the  beings of which it is  composed, and moreover, if this intelligence were far-reaching enough to subject these data to  analysis, it would encompass in that formula both the movements of the  largest bodies in  the universe and those of the lightest atom: to it nothing would be uncertain, and the  future, as well as the past, would be present to its eyes. The human mind offers us, in the perfection which it has  given to  astronomy, a faint sketch of this intelligence.\"\n",
    "\n",
    "#### - Pierre Simon de Laplace, 1820 A.D.\n",
    "\n",
    "Well, without entering the much-off-topic discussion about wheter it is possible to actually predict every future state of a system by knowing EVERYTHING about its components and the laws governing it (which would take us through discussing chaos and randomness in mathematical phylosophy up to relativity vs quantum physics and beyond... but if you are interested in the topic(s), here is a very interestig documentary https://www.youtube.com/watch?v=XDpurdHKpb8), let us just take this statement by de Laplace as the ideological substrate underneath molecular dynamics simulations. In other terms, we can approximate the behaviour of a physical system by knowing the characteristics of its components and applying Newton's motion laws. By solving the equations of motion, we can obtain a molecular trajectory of the system, i.e. a series of snapshots with the positions and velocities of all its particles, as well as its potential energy. To do so, we define functions, called force fields, which provide an approximate description of all the forces applied to each particle in the system. We then can use numerical integrators to solve the initial value problem for the system and obtain the trajectory. As it sounds, the process requires quite a bit of processing power and it was only few years ago that MD started seeing a more widespread use, especially in the field of computational chemistry and biology, as well as in drug discovery. To get a better idea about how the process works, here it is a GIF showing a MD simulation of a molecular motor."
   ]
  },
  {
   "cell_type": "markdown",
   "metadata": {
    "id": "yXlInBPrwUa6"
   },
   "source": [
    "<p><a href=\"https://commons.wikimedia.org/wiki/File:MD_rotor_250K_1ns.gif#/media/File:MD_rotor_250K_1ns.gif\"><img src=\"https://upload.wikimedia.org/wikipedia/commons/b/b6/MD_rotor_250K_1ns.gif\" alt=\"MD rotor 250K 1ns.gif\"></a><br>By Palma, C.-A.; Kühne, D.; Klappenberger, F.; Barth, J.V. - Technische Universität München, Public Domain, <a href=\"https://commons.wikimedia.org/w/index.php?curid=34866205\">Link</a></p>"
   ]
  },
  {
   "cell_type": "markdown",
   "metadata": {
    "id": "plElNr9RwUa7"
   },
   "source": [
    "We will now dig a bit deeper in the equations behind MD, the force fields, to gain a better undestanding how what we will be doing in the practical part."
   ]
  },
  {
   "cell_type": "markdown",
   "metadata": {
    "id": "8-uCG3KPwUa8"
   },
   "source": [
    "## Force fields\n",
    "\n"
   ]
  },
  {
   "cell_type": "markdown",
   "metadata": {
    "id": "W-MkHS4R5lNL"
   },
   "source": [
    "Since I started the previous section with a fancy citation, it seemed fair to me to keep it up:\n",
    "\n",
    "  ### \"The force is strong with this one\"\n",
    "\n",
    " <img src=\"https://encrypted-tbn0.gstatic.com/images?q=tbn%3AANd9GcQ8cX8WaivCV9VcoqkuJ34KfUuRadnpP2nZGw&usqp=CAU\" width=\"200\" height=\"200\">\n",
    "\n",
    "  #### - Darth Vader talking about X77\n",
    "\n",
    "And that's about it. Just ask Vader."
   ]
  },
  {
   "cell_type": "markdown",
   "metadata": {
    "id": "NC8t-i-cwUbB"
   },
   "source": [
    "Force jokes a(dark)side, force fields describe the forces between the atoms whithin the molecules and between the molecules themselves. They are parametric equations with different components, each corresponding to a precise interaction (e.g. bond torsion angles, steric hindrance, etc.). The parameters values are usually derived experimentally and change for each MD scenario, depending on the molecules involved and the simulations settings. The result is a mathematical description of the energy landcape of the system, in which the forces acting on each particle result from the gradient of the potential energy with respect to the coordinates of the atoms.\n",
    "\n",
    "A lot of different force fields are available, each with its own charachteristics. In this notebook, we will use the AMBER force fields, which are widely used for MD simulations of proteins. Their functional form is:\n",
    "\n",
    " <img src=\"https://wikimedia.org/api/rest_v1/media/math/render/svg/fdc7cf40fe4d2f568921977c83e49f699d780e92\" width=\"500\" height=\"500\">\n",
    " <img src=\"https://wikimedia.org/api/rest_v1/media/math/render/svg/2d244cd7f2e174af73dfc1e4dd0b37083115b690\" width=\"500\" height=\"200\">"
   ]
  },
  {
   "cell_type": "markdown",
   "metadata": {
    "id": "pjSsc4l-wUbB"
   },
   "source": [
    "From the formula you can see there are different components, each describing a different interaction: the first two contain information about bonds lenght and their angles (intramolecular forces), while the third component describes intermolecular forces as the electrostatic interactions. Note that these force fields assume fixed-charge particles and do not allow polarization, nor they consider how a local charge influences its surroundings. It follows a visual representation of force fields components, which shows the same concepts in a more intuitive way."
   ]
  },
  {
   "cell_type": "markdown",
   "metadata": {
    "id": "6aDDjIqYwUbC"
   },
   "source": [
    "<p><a href=\"https://commons.wikimedia.org/wiki/File:MM_PEF.png#/media/File:MM_PEF.png\"><img src=\"https://upload.wikimedia.org/wikipedia/commons/thumb/5/5c/MM_PEF.png/1200px-MM_PEF.png\" width=400 height=400  alt=\"MM PEF.png\"></a><br>By <a href=\"//commons.wikimedia.org/w/index.php?title=User:Edboas&amp;action=edit&amp;redlink=1\" class=\"new\" title=\"User:Edboas (page does not exist)\">Edboas</a> - <span class=\"int-own-work\" lang=\"en\">Own work</span>, <a href=\"https://creativecommons.org/licenses/by-sa/3.0\" title=\"Creative Commons Attribution-Share Alike 3.0\">CC BY-SA 3.0</a>, <a href=\"https://commons.wikimedia.org/w/index.php?curid=4194424\">Link</a></p>"
   ]
  },
  {
   "cell_type": "markdown",
   "metadata": {
    "id": "xefD3p0TwUbD"
   },
   "source": [
    "After selecting a force field to run the MD with, the equation needs to be parametrized according to the specific scenario we wish to simulate. In this process, an algorithm will fetch the parameters needed (in this case we rely on `openforcefields`), taking into account the simulation settings. Usually the process involves these basic steps (but it can vary):\n",
    "\n",
    "* fetch the crystal structure/chemical formula\n",
    "* define atom types\n",
    "* get atomic charges\n",
    "* assign initial Lennard-Jones and bond parameters \n",
    "* test density and geometry (reference data)\n",
    "* test energetic properties (surface and hydration energy - compare with reference data)\n",
    "\n",
    "Once the force field is parametrized, the simulation basically consists in solving a differential equations system and saving the resulting trajectory."
   ]
  },
  {
   "cell_type": "markdown",
   "metadata": {
    "id": "5ox72nSHwUbE"
   },
   "source": [
    "Wrapping up, molecular dynamics simulate the trajectory of a physico-chemical system by using force fields to describe the interactions between each atom in the system, applying classical physics' law of motions and solving the equations by employing numerical methods that take advantage of the high performance processors of modern computers. This means no statistical mechanics nor quantum physics knowledge is included in the method, although there is ongoing reserach in the field of quantum force fields. Surprisingly, such deterministic, classical-physics-based description of a physico-chemical system works well enough to provide us with useful insights into what happens at a spatiotemporally not observable scale."
   ]
  },
  {
   "cell_type": "markdown",
   "metadata": {
    "id": "dkhvXl0HLgnb"
   },
   "source": [
    "# Practical\n",
    "\n",
    "We will now proceed to implement a simple MD simulation using `openmm` and `openforcefields` on Google Colab. There are four funtamental steps needed to set up and run the simulation, plus an extra pre-step (step 0) needed to set up the notebook on Google Colab (done at the beginning)."
   ]
  },
  {
   "cell_type": "markdown",
   "metadata": {
    "id": "yikvMH3ig7ux"
   },
   "source": [
    "## Step 1 - PDB file upload\n",
    "\n",
    "After setting up Google Colab, we need a file to work with. In this case we will run the simulation on the SARS Cov2 main protease in complex with an inhibitor. We need therefore to import all needed packages and to upload the file(s) we need to work with."
   ]
  },
  {
   "cell_type": "code",
   "execution_count": 3,
   "metadata": {
    "colab": {
     "base_uri": "https://localhost:8080/",
     "height": 54
    },
    "id": "3g6vsWucLgng",
    "outputId": "22ab80ad-2325-450c-9653-7d7b12392472"
   },
   "outputs": [],
   "source": [
    "# imports\n",
    "import io\n",
    "\n",
    "import mdtraj as md\n",
    "import numpy as np\n",
    "import parmed\n",
    "import simtk.openmm as mm\n",
    "import simtk.openmm.app as app\n",
    "from simtk.openmm import LangevinIntegrator\n",
    "from simtk.openmm import unit\n",
    "from simtk.openmm.app import CheckpointReporter, ForceField, PDBFile\n",
    "from openforcefield.topology import Molecule, Topology\n",
    "from openmmforcefields.generators import GAFFTemplateGenerator\n",
    "\n",
    "\n",
    "import pdbfixer\n",
    "from rdkit import Chem\n",
    "from rdkit.Chem import AllChem\n",
    "import copy"
   ]
  },
  {
   "cell_type": "code",
   "execution_count": null,
   "metadata": {},
   "outputs": [],
   "source": [
    "from google.colab import files"
   ]
  },
  {
   "cell_type": "code",
   "execution_count": 6,
   "metadata": {
    "colab": {
     "base_uri": "https://localhost:8080/",
     "height": 72,
     "resources": {
      "http://localhost:8080/nbextensions/google.colab/files.js": {
       "data": "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",
       "headers": [
        [
         "content-type",
         "application/javascript"
        ]
       ],
       "ok": true,
       "status": 200,
       "status_text": ""
      }
     }
    },
    "id": "n9RiGBfPz_hG",
    "outputId": "43e5eff5-7db6-4bcb-f85b-a3c53e7f9d01"
   },
   "outputs": [
    {
     "data": {
      "text/html": [
       "\n",
       "     <input type=\"file\" id=\"files-7e3256c8-32da-4233-918c-15fec8329d4e\" name=\"files[]\" multiple disabled\n",
       "        style=\"border:none\" />\n",
       "     <output id=\"result-7e3256c8-32da-4233-918c-15fec8329d4e\">\n",
       "      Upload widget is only available when the cell has been executed in the\n",
       "      current browser session. Please rerun this cell to enable.\n",
       "      </output>\n",
       "      <script src=\"/nbextensions/google.colab/files.js\"></script> "
      ],
      "text/plain": [
       "<IPython.core.display.HTML object>"
      ]
     },
     "metadata": {
      "tags": []
     },
     "output_type": "display_data"
    },
    {
     "name": "stdout",
     "output_type": "stream",
     "text": [
      "Saving 6w63.pdb to 6w63.pdb\n"
     ]
    }
   ],
   "source": [
    "#in Google Colab\n",
    "uploaded = files.upload()"
   ]
  },
  {
   "cell_type": "code",
   "execution_count": null,
   "metadata": {},
   "outputs": [],
   "source": [
    "path = \"6w63.pdb\""
   ]
  },
  {
   "cell_type": "code",
   "execution_count": 7,
   "metadata": {},
   "outputs": [],
   "source": [
    "#in Jupyter Notebook\n",
    "path = \"data/6w63.pdb\""
   ]
  },
  {
   "cell_type": "markdown",
   "metadata": {
    "id": "t3mGSg8LLgop"
   },
   "source": [
    "## Step 2 - fix PDB file for missing atoms and residues\n",
    "\n",
    "In case our pdb file is missing some hydrogen atoms or some residues we need to add them and thus \"fix\" the structure. To do this there are several options, a common one in python being the package `pdbfixer`.\n"
   ]
  },
  {
   "cell_type": "code",
   "execution_count": 8,
   "metadata": {
    "id": "Jpz00hbWeBPj"
   },
   "outputs": [],
   "source": [
    "fixer = pdbfixer.PDBFixer(path) #fix pdb\n",
    "fixer.removeHeterogens()\n",
    "fixer.findMissingResidues() # find missing residues\n",
    "fixer.missingResidues = {}\n",
    "fixer.findNonstandardResidues() # find non standard residue#\n",
    "fixer.replaceNonstandardResidues()# replace non standard residues with standard one\n",
    "fixer.findMissingAtoms() # find missing heavy atoms\n",
    "fixer.addMissingAtoms() # add missing atoms and residues\n",
    "app.PDBFile.writeFile(fixer.topology, fixer.positions, open('6w63_fixed.pdb', 'w'))"
   ]
  },
  {
   "cell_type": "markdown",
   "metadata": {
    "id": "8VoOjhASZ4Jh"
   },
   "source": [
    "To run a reliable simulation it is crucial to have correctly protonated protein and ligand structures, but the H-Atoms are often not included in topology files and have to be added before simulating. Most libraries handle proteins rather well, but fixing small molecules like ligands is a different task.\n",
    "Thus we protonate our ligand with RDKit, which specialises on small molecules.\n",
    "We can extract the ligand from the complex by splitting it into residues and selecting the ligand."
   ]
  },
  {
   "cell_type": "code",
   "execution_count": 9,
   "metadata": {
    "id": "RlW5nkw-w-_c"
   },
   "outputs": [],
   "source": [
    "mol = Chem.MolFromPDBFile(path)\n",
    "lig_resname = 'X77'\n",
    "mol_split = Chem.rdmolops.SplitMolByPDBResidues(mol)\n",
    "lig_mol_wo_bond_orders = copy.deepcopy(mol_split[lig_resname])\n",
    "lig_mol_wo_bond_orders_wo_Hs = Chem.RemoveHs(lig_mol_wo_bond_orders)"
   ]
  },
  {
   "cell_type": "markdown",
   "metadata": {
    "id": "AQP_2CQfegQt"
   },
   "source": [
    "In PDB Topology files no bond order information is given. RDKit needs the information to correctly add Hydrogens, thus we need to assign bond orders to our ligand. \n",
    "We take a molecule generated from a SMILES string as a reference for adding bond order information.\n",
    "Finally, RDKit can add the Hydrogens."
   ]
  },
  {
   "cell_type": "code",
   "execution_count": 10,
   "metadata": {
    "id": "j35GmQhebT3t"
   },
   "outputs": [],
   "source": [
    "reference_mol = Chem.MolFromSmiles('CC(C)(C)c1ccc(cc1)N([C@@H](C(=O)NC2CCCCC2)c3cccnc3)C(=O)c4c[nH]cn4')\n",
    "lig_mol = AllChem.AssignBondOrdersFromTemplate(reference_mol, lig_mol_wo_bond_orders_wo_Hs)\n",
    "lig_mol.AddConformer(lig_mol_wo_bond_orders.GetConformer(0))\n",
    "lig_mol_H = Chem.rdmolops.AddHs(lig_mol, addCoords=True)\n",
    "Chem.MolToMolFile(lig_mol_H, 'X77.sdf')"
   ]
  },
  {
   "cell_type": "markdown",
   "metadata": {
    "id": "NP9WekSTO5N3"
   },
   "source": [
    "## Step 3 - Merge Molecule and Ligand\n",
    "In the next step we want to merge the protonated ligand with the protein using MDTraj. MDTraj works from an OpenMM Topology, so we will need to do some conversions. \n",
    "First, create an OpenFF Molecule from the RDKit molecule."
   ]
  },
  {
   "cell_type": "code",
   "execution_count": 11,
   "metadata": {
    "id": "O00PcuRnPAkn"
   },
   "outputs": [],
   "source": [
    "ligand = Molecule.from_rdkit(lig_mol_H)"
   ]
  },
  {
   "cell_type": "markdown",
   "metadata": {
    "id": "ux2iYCRi4R_J"
   },
   "source": [
    "Before we continue, lets add naming information back that we lost with RDKit in the previous step. Names are not necessary for the simulation, but will help with keeping generated files human-readable and make working with the simulation easier later on."
   ]
  },
  {
   "cell_type": "code",
   "execution_count": 12,
   "metadata": {
    "id": "4SnlwlIV-jZr"
   },
   "outputs": [],
   "source": [
    "ligand.name = \"X77\""
   ]
  },
  {
   "cell_type": "code",
   "execution_count": 13,
   "metadata": {
    "id": "Dp06zm3eLrYT"
   },
   "outputs": [],
   "source": [
    "atom_names = {\n",
    "        1: \"H\",\n",
    "        6: \"C\",\n",
    "        7: \"N\",\n",
    "        8: \"O\"\n",
    "    }\n",
    "for atom in ligand.atoms:\n",
    "  atom.name = atom_names.get(atom.atomic_number)"
   ]
  },
  {
   "cell_type": "markdown",
   "metadata": {
    "id": "nj_Xz4267B5F"
   },
   "source": [
    "Now we convert the OpenFF Topology to an OpenMM Topology. Together with the positions we have a working OpenMM system for the ligand."
   ]
  },
  {
   "cell_type": "code",
   "execution_count": 14,
   "metadata": {
    "id": "rxewuJuIGIFV"
   },
   "outputs": [],
   "source": [
    "off_ligand_topology = ligand.to_topology()\n",
    "ligand_topology = off_ligand_topology.to_openmm()\n",
    "ligand_positions = ligand.conformers[0]"
   ]
  },
  {
   "cell_type": "markdown",
   "metadata": {
    "id": "dqY5AE0JGIgL"
   },
   "source": [
    "Our Protein is already in OpenMM format."
   ]
  },
  {
   "cell_type": "code",
   "execution_count": 15,
   "metadata": {
    "id": "ZXmeeV0ZPOho"
   },
   "outputs": [],
   "source": [
    "# Read in the PDB and create an OpenMM topology\n",
    "protein_topology, protein_positions = fixer.topology, fixer.positions"
   ]
  },
  {
   "cell_type": "markdown",
   "metadata": {
    "id": "0CDZojoVHLmm"
   },
   "source": [
    "To combine the ligand and the protein structures both topologies are read into MDTraj and then joined."
   ]
  },
  {
   "cell_type": "code",
   "execution_count": 16,
   "metadata": {
    "colab": {
     "base_uri": "https://localhost:8080/",
     "height": 34
    },
    "id": "lsquhzD_PZ8Q",
    "outputId": "7fee6612-00f3-4aff-dfcb-c64af6cbc845"
   },
   "outputs": [
    {
     "name": "stdout",
     "output_type": "stream",
     "text": [
      "--> Combining protein and ligand topologies\n"
     ]
    }
   ],
   "source": [
    "# Add ligand to topology - credit to @hannahbrucemacdonald for help here\n",
    "print(\"--> Combining protein and ligand topologies\")\n",
    "md_protein_topology = md.Topology.from_openmm(protein_topology)  # using mdtraj for protein top\n",
    "md_ligand_topology = md.Topology.from_openmm(ligand_topology)  # using mdtraj for ligand top\n",
    "md_complex_topology = md_protein_topology.join(md_ligand_topology)  # add them together"
   ]
  },
  {
   "cell_type": "markdown",
   "metadata": {
    "id": "2uTAQnbAf6ZW"
   },
   "source": [
    "The joined complex topology is then converted back to OpenMM. "
   ]
  },
  {
   "cell_type": "code",
   "execution_count": 17,
   "metadata": {
    "id": "cQse6Z-9gT2A"
   },
   "outputs": [],
   "source": [
    "complex_topology = md_complex_topology.to_openmm()  # now back to openmm"
   ]
  },
  {
   "cell_type": "markdown",
   "metadata": {
    "id": "2sei-SAJgUOQ"
   },
   "source": [
    "For a complete complex we also need to add the ligand positions back into the system.\n",
    "Again, the protein positions are already in the right format. The ligand positions have to be converted from  Ångström to Nanometers."
   ]
  },
  {
   "cell_type": "code",
   "execution_count": 18,
   "metadata": {
    "id": "Tng7m5xJRFgo"
   },
   "outputs": [],
   "source": [
    "total_atoms = len(protein_positions) + len(ligand_positions)\n",
    "#generate a quantitiy array of right size\n",
    "complex_positions = unit.Quantity(np.zeros([total_atoms, 3]), unit=unit.nanometers)\n",
    "complex_positions[0 : len(protein_positions)] = protein_positions #add protein positions\n",
    "#Fill with ligand positions\n",
    "for i, atom in enumerate(ligand_positions, len(protein_positions)):\n",
    "    coords = atom / atom.unit\n",
    "    complex_positions[i] = (\n",
    "        coords / 10.0\n",
    "    ) * unit.nanometers  # since openmm works in nm"
   ]
  },
  {
   "cell_type": "code",
   "execution_count": 19,
   "metadata": {
    "id": "amaGujzkJQ-6"
   },
   "outputs": [],
   "source": [
    "app.PDBFile.writeFile(complex_topology,\n",
    "                      complex_positions,\n",
    "                      open('complex.pdb', 'w'))"
   ]
  },
  {
   "cell_type": "markdown",
   "metadata": {
    "id": "2HAmjMG5Lgpd"
   },
   "source": [
    "## Step 4 - Molecular dynamics simulation set up\n",
    "\n",
    "We can then use the fixed pdb to set up the MD simulation. We first need to fetch the ligand molecule from its SMILES and then we can use GAFF to generate a template for it, which is needed for the force field to be set up properly (otherwise the force field has \"no knowledge\" of the ligand). We can then create the MD environment containing the protein and the ligand and add the solvent we wish to simulate in, in this case water. Once the system is ready we save its pdb file and proceed in setting up the system."
   ]
  },
  {
   "cell_type": "code",
   "execution_count": 28,
   "metadata": {
    "id": "Ilsf8nZo9IcW"
   },
   "outputs": [],
   "source": [
    "# Create an openforcefield Molecule object for ligand X77 from SMILES\n",
    "off_ligand = Molecule.from_smiles(\n",
    "    'CC(C)(C)c1ccc(cc1)N([C@@H](C(=O)NC2CCCCC2)c3cccnc3)C(=O)c4c[nH]cn4')\n",
    "# Create the GAFF template generator\n",
    "gaff = GAFFTemplateGenerator(molecules=off_ligand)\n",
    "# Create an OpenMM ForceField object with AMBER ff14SB\n",
    "# and TIP3P with compatible ions\n",
    "forcefield = app.ForceField(\n",
    "    '/usr/local/lib/python3.6/site-packages/simtk/openmm/app/data/amber14/protein.ff14SB.xml',\n",
    "    '/usr/local/lib/python3.6/site-packages/simtk/openmm/app/data/amber14/tip3p.xml')\n",
    "# Register the GAFF template generator\n",
    "forcefield.registerTemplateGenerator(gaff.generator)"
   ]
  },
  {
   "cell_type": "code",
   "execution_count": 30,
   "metadata": {
    "id": "c4LEvWMI8ash"
   },
   "outputs": [],
   "source": [
    "# Add solvent\n",
    "modeller = app.Modeller(complex_topology, complex_positions)\n",
    "modeller.addHydrogens(forcefield);\n",
    "modeller.addSolvent(forcefield, padding=1.0*unit.nanometers,\n",
    "                    model='tip3p', ionicStrength=0.15*unit.molar)\n",
    "# Save PDB file of solvated molecule\n",
    "app.PDBFile.writeFile(modeller.topology,\n",
    "                      modeller.positions,\n",
    "                      open('MD_system.pdb', 'w'))\n",
    "# Simulation settings\n",
    "system = forcefield.createSystem(modeller.topology)\n",
    "integrator = LangevinIntegrator(300*unit.kelvin,\n",
    "                                1.0/unit.picoseconds,\n",
    "                                2.0*unit.femtoseconds)\n",
    "simulation = app.Simulation(modeller.topology, system, integrator)"
   ]
  },
  {
   "cell_type": "markdown",
   "metadata": {
    "id": "WRO2meHovQe3"
   },
   "source": [
    "Alternatively we can also write this as a function returning the simulation object:"
   ]
  },
  {
   "cell_type": "code",
   "execution_count": null,
   "metadata": {
    "id": "uYRvhz1OvRAJ"
   },
   "outputs": [],
   "source": [
    "def SimSet(smiles, protein):\n",
    "    \"\"\" Create simulation settingd for MD simulation of protein bound to ligand\n",
    "\n",
    "        Parameters\n",
    "        ----------\n",
    "        smiles : str\n",
    "            the SMILES of the ligand\n",
    "        protein : openmm PDBFile object\n",
    "            a pdb file loaded with simtk.openmm.app.PDBfile\n",
    "\n",
    "        Returns\n",
    "        -------\n",
    "        Saves the solvated system as pdb in the working directoty\n",
    "\n",
    "        Returns simulation object (simtk.openmm.app.Simulation()) for the MD simulation.\n",
    "        It includes info about the simulation settings and the parametrized ligand.\n",
    "\n",
    "    \"\"\"\n",
    "    # Create an openforcefield Molecule object for ligand from SMILES\n",
    "    mol = Molecule.from_smiles(smiles)\n",
    "    # Create the GAFF template generator\n",
    "    gaff = GAFFTemplateGenerator(molecules=mol)\n",
    "    # Create an OpenMM ForceField object with AMBER ff14SB and TIP3P with compatible ions\n",
    "    forcefield = app.ForceField('/usr/local/lib/python3.6/site-packages/simtk/openmm/app/data/amber14/protein.ff14SB.xml',\n",
    "                                '/usr/local/lib/python3.6/site-packages/simtk/openmm/app/data/amber14/tip3p.xml')\n",
    "    # Register the GAFF template generator\n",
    "    forcefield.registerTemplateGenerator(gaff.generator)\n",
    "    # Add solvent\n",
    "    modeller = app.Modeller(protein.topology, protein.positions)\n",
    "    modeller.addSolvent(forcefield, padding=1.0*unit.nanometers, model='tip3p', ionicStrength=0.15*unit.molar)\n",
    "    # Save PDB file of solvated molecule\n",
    "    app.PDBFile.writeFile(modeller.topology, modeller.positions, open('MD_system.pdb', 'w'))\n",
    "    # Simulation settings\n",
    "    system = forcefield.createSystem(modeller.topology)\n",
    "    integrator = LangevinIntegrator(300*unit.kelvin, 1.0/unit.picoseconds, 2.0*unit.femtoseconds)\n",
    "    simulation = app.Simulation(modeller.topology, system, integrator)\n",
    "    return simulation"
   ]
  },
  {
   "cell_type": "markdown",
   "metadata": {
    "id": "JwEgrFkILgqL"
   },
   "source": [
    "## Step 5 - Run the MD simulation\n",
    "Now that everything is set-up we can run the simulation. We need to set starting positions and to minimize the energy of the system. Once that is done, we can let the simulation run! Here we are simulating 1 ns and saving one molecular \"snapshot\" every 5000, for a total of 100 frames out of the 500000 steps we are taking. The results are saved in a .dcd files, which contains the coordinates of all the atoms at a given time point. Together with the pdb file of the system, it gives us all the information about our simulation.  "
   ]
  },
  {
   "cell_type": "code",
   "execution_count": 31,
   "metadata": {
    "colab": {
     "base_uri": "https://localhost:8080/",
     "height": 51
    },
    "id": "AE3GJtwp_Ccq",
    "outputId": "a1f52417-1d9e-4d29-dc43-c5066d866f8d"
   },
   "outputs": [
    {
     "name": "stdout",
     "output_type": "stream",
     "text": [
      "Setting up positions...\n",
      "-762242.375 kJ/mol\n"
     ]
    }
   ],
   "source": [
    "# Initialize the MD simulation\n",
    "print('Setting up positions...')\n",
    "simulation.context.setPositions(modeller.positions)\n",
    "\n",
    "state = simulation.context.getState(getEnergy=True)\n",
    "print(state.getPotentialEnergy())"
   ]
  },
  {
   "cell_type": "code",
   "execution_count": 32,
   "metadata": {
    "colab": {
     "base_uri": "https://localhost:8080/",
     "height": 34
    },
    "id": "EgkE1EUGLgqP",
    "outputId": "fa108be4-8bab-4cc3-e7a1-c07bee8b011f"
   },
   "outputs": [
    {
     "name": "stdout",
     "output_type": "stream",
     "text": [
      "Energy minimization in progress...\n"
     ]
    }
   ],
   "source": [
    "# Minimize energy\n",
    "print('Energy minimization in progress...')\n",
    "simulation.minimizeEnergy()"
   ]
  },
  {
   "cell_type": "code",
   "execution_count": 34,
   "metadata": {
    "id": "E8t-0ZxFLgqh"
   },
   "outputs": [],
   "source": [
    "# Output settings\n",
    "simulation.reporters.append(app.DCDReporter('trajectory.dcd', 5000))\n",
    "\n",
    "# Output data\n",
    "simulation.reporters.append(app.StateDataReporter(sys.stdout, 5000, step=True,\n",
    "                                                  potentialEnergy=True, temperature=True, progress=True, remainingTime=True,\n",
    "                                                  speed=True, totalSteps=5*1e5, separator='\\t'))\n",
    "\n",
    "# Set velocities\n",
    "simulation.context.setVelocitiesToTemperature(300*unit.kelvin)\n",
    "\n"
   ]
  },
  {
   "cell_type": "markdown",
   "metadata": {
    "id": "xyEf6-dm5ngp"
   },
   "source": []
  },
  {
   "cell_type": "code",
   "execution_count": null,
   "metadata": {
    "colab": {
     "base_uri": "https://localhost:8080/",
     "height": 71
    },
    "id": "7B7AiVO3fr03",
    "outputId": "078c244a-5aa5-4502-aaf8-72a8ad4b978c"
   },
   "outputs": [
    {
     "name": "stdout",
     "output_type": "stream",
     "text": [
      "#\"Progress (%)\"\t\"Step\"\t\"Potential Energy (kJ/mole)\"\t\"Temperature (K)\"\t\"Speed (ns/day)\"\t\"Time Remaining\"\n",
      "1.0%\t5000\t-860003.625\t300.3846344151758\t0\t--\n"
     ]
    }
   ],
   "source": [
    "# Run the simulation\n",
    "simulation.step(5*1e5)"
   ]
  },
  {
   "cell_type": "code",
   "execution_count": 23,
   "metadata": {
    "colab": {
     "base_uri": "https://localhost:8080/",
     "height": 17
    },
    "id": "FfcMX8G1i0RY",
    "outputId": "a2c06d48-e3dd-47bc-d173-80736897e9ff"
   },
   "outputs": [
    {
     "data": {
      "application/javascript": [
       "\n",
       "    async function download(id, filename, size) {\n",
       "      if (!google.colab.kernel.accessAllowed) {\n",
       "        return;\n",
       "      }\n",
       "      const div = document.createElement('div');\n",
       "      const label = document.createElement('label');\n",
       "      label.textContent = `Downloading \"${filename}\": `;\n",
       "      div.appendChild(label);\n",
       "      const progress = document.createElement('progress');\n",
       "      progress.max = size;\n",
       "      div.appendChild(progress);\n",
       "      document.body.appendChild(div);\n",
       "\n",
       "      const buffers = [];\n",
       "      let downloaded = 0;\n",
       "\n",
       "      const channel = await google.colab.kernel.comms.open(id);\n",
       "      // Send a message to notify the kernel that we're ready.\n",
       "      channel.send({})\n",
       "\n",
       "      for await (const message of channel.messages) {\n",
       "        // Send a message to notify the kernel that we're ready.\n",
       "        channel.send({})\n",
       "        if (message.buffers) {\n",
       "          for (const buffer of message.buffers) {\n",
       "            buffers.push(buffer);\n",
       "            downloaded += buffer.byteLength;\n",
       "            progress.value = downloaded;\n",
       "          }\n",
       "        }\n",
       "      }\n",
       "      const blob = new Blob(buffers, {type: 'application/binary'});\n",
       "      const a = document.createElement('a');\n",
       "      a.href = window.URL.createObjectURL(blob);\n",
       "      a.download = filename;\n",
       "      div.appendChild(a);\n",
       "      a.click();\n",
       "      div.remove();\n",
       "    }\n",
       "  "
      ],
      "text/plain": [
       "<IPython.core.display.Javascript object>"
      ]
     },
     "metadata": {
      "tags": []
     },
     "output_type": "display_data"
    },
    {
     "data": {
      "application/javascript": [
       "download(\"download_87b7561a-36e9-487c-b6fc-65036738b4ba\", \"MD_system.pdb\", 5277861)"
      ],
      "text/plain": [
       "<IPython.core.display.Javascript object>"
      ]
     },
     "metadata": {
      "tags": []
     },
     "output_type": "display_data"
    }
   ],
   "source": [
    "# Download the results\n",
    "files.download('MD_system.pdb')"
   ]
  },
  {
   "cell_type": "code",
   "execution_count": 24,
   "metadata": {
    "colab": {
     "base_uri": "https://localhost:8080/",
     "height": 17
    },
    "id": "bFcERITJC44X",
    "outputId": "070c7320-daee-4c9e-f69d-00498846727f"
   },
   "outputs": [
    {
     "data": {
      "application/javascript": [
       "\n",
       "    async function download(id, filename, size) {\n",
       "      if (!google.colab.kernel.accessAllowed) {\n",
       "        return;\n",
       "      }\n",
       "      const div = document.createElement('div');\n",
       "      const label = document.createElement('label');\n",
       "      label.textContent = `Downloading \"${filename}\": `;\n",
       "      div.appendChild(label);\n",
       "      const progress = document.createElement('progress');\n",
       "      progress.max = size;\n",
       "      div.appendChild(progress);\n",
       "      document.body.appendChild(div);\n",
       "\n",
       "      const buffers = [];\n",
       "      let downloaded = 0;\n",
       "\n",
       "      const channel = await google.colab.kernel.comms.open(id);\n",
       "      // Send a message to notify the kernel that we're ready.\n",
       "      channel.send({})\n",
       "\n",
       "      for await (const message of channel.messages) {\n",
       "        // Send a message to notify the kernel that we're ready.\n",
       "        channel.send({})\n",
       "        if (message.buffers) {\n",
       "          for (const buffer of message.buffers) {\n",
       "            buffers.push(buffer);\n",
       "            downloaded += buffer.byteLength;\n",
       "            progress.value = downloaded;\n",
       "          }\n",
       "        }\n",
       "      }\n",
       "      const blob = new Blob(buffers, {type: 'application/binary'});\n",
       "      const a = document.createElement('a');\n",
       "      a.href = window.URL.createObjectURL(blob);\n",
       "      a.download = filename;\n",
       "      div.appendChild(a);\n",
       "      a.click();\n",
       "      div.remove();\n",
       "    }\n",
       "  "
      ],
      "text/plain": [
       "<IPython.core.display.Javascript object>"
      ]
     },
     "metadata": {
      "tags": []
     },
     "output_type": "display_data"
    },
    {
     "data": {
      "application/javascript": [
       "download(\"download_6b3051fd-44e5-417b-8287-b153bcca9b68\", \"trajectory.dcd\", 78172676)"
      ],
      "text/plain": [
       "<IPython.core.display.Javascript object>"
      ]
     },
     "metadata": {
      "tags": []
     },
     "output_type": "display_data"
    }
   ],
   "source": [
    "files.download('trajectory.dcd')"
   ]
  },
  {
   "cell_type": "markdown",
   "metadata": {
    "id": "aAleBNfKyhCd"
   },
   "source": [
    "We have succefully ran a MD simulation! If you want to know how to visualize the results, you can refer to the next notebook in the repository.   \n",
    "   \n",
    "As last I would like to add a quick note about the run-time. We saw that running this kind of simulations can be quite computationally expensive and long. Here on Google Colaboratory we achieved a speed of 3.7 ns/day, which is OK but still slow, especially if we need to run longer simulations and multiple times with different settings. I also tried running the same simulation on a Ubuntu VM on Virtualbox (Windows 10 host), achieving 1 ns/day as speed. Given that it was running on 4 virtual cores (host processor Intel core i7 8th gen) and not on the host machine 8 cores, it was probably a bit slower than it could have been, but it is clear that CPU is not the way to go for such applications. GPU parallel computations allow to reduce the run time exponentially and should always be preferred. Anyhow if, as stated at the beginning, you want to punish your laptop, you can definetly use MD simulations as an effective tool.  "
   ]
  }
 ],
 "metadata": {
  "accelerator": "GPU",
  "colab": {
   "collapsed_sections": [],
   "name": "T09_MD_sim.ipynb",
   "provenance": [],
   "toc_visible": true
  },
  "kernelspec": {
   "display_name": "Python 3",
   "language": "python",
   "name": "python3"
  },
  "language_info": {
   "codemirror_mode": {
    "name": "ipython",
    "version": 3
   },
   "file_extension": ".py",
   "mimetype": "text/x-python",
   "name": "python",
   "nbconvert_exporter": "python",
   "pygments_lexer": "ipython3",
   "version": "3.6.10"
  }
 },
 "nbformat": 4,
 "nbformat_minor": 1
}
