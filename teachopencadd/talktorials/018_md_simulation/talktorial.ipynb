{
  "nbformat": 4,
  "nbformat_minor": 0,
  "metadata": {
    "accelerator": "GPU",
    "colab": {
      "name": "talktorial.ipynb",
      "provenance": [],
      "collapsed_sections": [],
      "toc_visible": true
    },
    "kernelspec": {
      "display_name": "Python 3",
      "language": "python",
      "name": "python3"
    },
    "language_info": {
      "codemirror_mode": {
        "name": "ipython",
        "version": 3
      },
      "file_extension": ".py",
      "mimetype": "text/x-python",
      "name": "python",
      "nbconvert_exporter": "python",
      "pygments_lexer": "ipython3",
      "version": "3.6.10"
    },
    "widgets": {
      "application/vnd.jupyter.widget-state+json": {
        "04268d7b8d4148df8cbb9b48156371ee": {
          "model_module": "nglview-js-widgets",
          "model_name": "ColormakerRegistryModel",
          "state": {
            "_view_name": "ColormakerRegistryView",
            "_dom_classes": [],
            "_model_name": "ColormakerRegistryModel",
            "_msg_q": [],
            "_view_module": "nglview-js-widgets",
            "_model_module_version": "2.7.7",
            "_msg_ar": [],
            "_ready": false,
            "_view_module_version": "2.7.7",
            "_view_count": null,
            "_model_module": "nglview-js-widgets",
            "layout": "IPY_MODEL_432b5ff47ad949818a28eaa7c3d36bfb"
          }
        }
      }
    }
  },
  "cells": [
    {
      "cell_type": "markdown",
      "metadata": {
        "id": "Rc3gPsMdLgmK"
      },
      "source": [
        "# Molecular Dynamics simulation of SARS Cov2 main protease in complex with inhibitor\n",
        "\n",
        "Developed in the CADD Seminar 2020, AG Volkamer, Charité/FU Berlin \n",
        "\n",
        "Authors:\n",
        "- Pietro Gerletti\n",
        "- David Schaller\n",
        "- Mareike Leja"
      ]
    },
    {
      "cell_type": "markdown",
      "metadata": {
        "id": "UW4tm2QSHToz"
      },
      "source": [
        "__Talktorial T18__"
      ]
    },
    {
      "cell_type": "markdown",
      "metadata": {
        "id": "ehs-GJfkwUap"
      },
      "source": [
        "__Note__\n",
        "\n",
        "The notebook presented here is designed to be run on Google Colab. It is possible to run it on a normal laptop, if sufficient computational power is available, preferably on a GPU."
      ]
    },
    {
      "cell_type": "markdown",
      "metadata": {
        "id": "v0WOINBLExEO"
      },
      "source": [
        "## Aim of this talktorial"
      ]
    },
    {
      "cell_type": "markdown",
      "metadata": {
        "id": "ETO2kR5CE6-E"
      },
      "source": [
        "aim...."
      ]
    },
    {
      "cell_type": "markdown",
      "metadata": {
        "id": "mNvsYi3OLgmU"
      },
      "source": [
        "## Learning goals\n",
        "\n",
        "\n",
        "### Contents in *Theory*\n",
        "\n",
        "\n",
        "* SARS-CoV-2 main protease and relevance for drug discovery\n",
        "* Molecular dynamics\n",
        "* Force fields\n",
        "\n",
        "### Contents in *Practical*\n",
        "\n",
        "* Set up\n",
        "* Load a PDB File\n",
        "* Fix the Molecule\n",
        "* Fix the Ligand\n",
        "* Merge Molecule and Ligand\n",
        "* Set up the MD simulation\n",
        "* Run the simulation\n",
        "\n",
        "### References\n",
        "\n",
        "* De Vivo M, Masetti M, Bottegoni G, Cavalli A. *Role of Molecular Dynamics and Related Methods in Drug Discovery*\n",
        "([<i>J Med Chem.</i> (2016), <b>59</b>(9), 4035‐4061](https://pubs.acs.org/doi/10.1021/acs.jmedchem.5b01684))\n",
        "\n",
        "* Sereina Riniker, *Fixed-Charge Atomistic Force Fields for Molecular Dynamics Simulations in the Condensed Phase: An Overview*\n",
        "([<i>Journal of Chemical Information and Modeling</i> (2018), <b>58</b>(3), 565-578](https://pubs.acs.org/doi/10.1021/acs.jcim.8b00042))\n",
        "\n",
        "* Mesecar A.D., *A taxonomically-driven approach to development of potent, broad-spectrum inhibitors of coronavirus main protease including SARS-CoV-2*\n",
        "\n",
        "* Marina Macchiagodena, Marco Pagliai, Piero Procacci, *Identification of potential binders of the main protease 3CLpro of the COVID-19 via structure-based ligand design and molecular modeling*\n",
        "([<i>Chemical Physics Letters</i> (2020), <b>750</b>](https://iupac.org/publications/pac/70/5/1129/))\n",
        "\n",
        "* P. S. de Laplace, *Oeuvres Complètes de Laplace. Théorie Analytique des Probabilités*\n",
        "(<i>volume VII Gauthier-Villars</i> (1820), 3rd ed)\n",
        "\n",
        "\n",
        "* Jaime Rodríguez-Guerra, Volkamer lab, Charité [Molecular Dynamics Simulation and Analysis in a Notebook](https://github.com/jaimergp/uab-msc-bioinf/blob/master/MD%20Simulation%20and%20Analysis%20in%20a%20Notebook.ipynb)\n",
        "\n",
        "* [OpenMM](https://github.com/openmm/openmmforcefields)\n",
        "\n",
        "* [PDB Fixer](http://htmlpreview.github.io/?https://raw.github.com/pandegroup/pdbfixer/master/Manual.html)\n",
        "* Wikipedia Articles about [AMBER](https://en.wikipedia.org/wiki/AMBER)\n",
        "and [Force Fields](https://en.wikipedia.org/wiki/Force_field_(chemistry))"
      ]
    },
    {
      "cell_type": "markdown",
      "metadata": {
        "id": "WpSLhe8ZLgmd"
      },
      "source": [
        "## Theory"
      ]
    },
    {
      "cell_type": "markdown",
      "metadata": {
        "id": "ffIAyMqdwUat"
      },
      "source": [
        "The main focus of this notebook will be on how to perform molecular dynamics (MD) simulations of protein in complex with a small ligand molecule. We are using the main protease of SARS-CoV-2 with the inhibitor X77. Nevertheless a short introduction to the protein and its relevance in drug discovery are give below, before focusing on MD and force fields. \n"
      ]
    },
    {
      "cell_type": "markdown",
      "metadata": {
        "id": "z-ZEaeB2n4hg"
      },
      "source": [
        "### Main protease of SARS-CoV-2 \n",
        "\n",
        "SARS-CoV-2 genome encodes, between others, polyproteins that are cleaved and transformed in non-structural proteins by proteases. These non-structural proteins play a fundamental role in the pathogenesis and blocking their production could significantly hinder the virulence of SARS-CoV-2. A possible way of doing this is to inhibit the viral proteases needed for the correct folding of the non-structural proteins. This makes the main protease of SARS-CoV-2 a candidate target for the development of a much needed antiviral drug. Here we used the pdb structure of the protease in complex with the inhibitor X77 provided by Mesecar (2020) to perform a MD simulation, providing a 1 ns molecular trajectory. "
      ]
    },
    {
      "cell_type": "markdown",
      "metadata": {
        "id": "fARXaAnzwUau"
      },
      "source": [
        "![SARS-CoV-2](https://cdn.rcsb.org/images/structures/w6/6w63/6w63_assembly-1.jpeg)"
      ]
    },
    {
      "cell_type": "markdown",
      "metadata": {
        "id": "lxhBZyifLgmm"
      },
      "source": [
        "### Molecular dynamics"
      ]
    },
    {
      "cell_type": "markdown",
      "metadata": {
        "id": "svQEDsBCwUa5"
      },
      "source": [
        "MD is a computational method for analyzing how the atoms and molecules of a system move and interact with each other. The method stems from theoretical physics, where it was developed in the years around 1950, although the ideas behind it can be dated much earlier:\n",
        "\n",
        "*An intelligence which could, at  any moment, comprehend all the forces by  which nature is animated and the  respective positions of the  beings of which it is  composed, and moreover, if this intelligence were far-reaching enough to subject these data to  analysis, it would encompass in that formula both the movements of the  largest bodies in  the universe and those of the lightest atom: to it nothing would be uncertain, and the  future, as well as the past, would be present to its eyes. The human mind offers us, in the perfection which it has  given to  astronomy, a faint sketch of this intelligence.*\n",
        "\n",
        "__Pierre Simon de Laplace, 1820 A.D.__\n"
      ]
    },
    {
      "cell_type": "markdown",
      "metadata": {
        "id": "kLgNBvtIm7S3"
      },
      "source": [
        "Well, without entering the much-off-topic discussion about whether it is possible to actually predict every future state of a system by knowing EVERYTHING about its components and the laws governing it (which would take us through discussing chaos and randomness in mathematical philosophy up to relativity vs quantum physics and beyond... but if you are interested in the topic(s), here is a very interesting documentary https://www.youtube.com/watch?v=XDpurdHKpb8), let us just take this statement by de Laplace as the ideological substrate underneath molecular dynamics simulations. In other terms, we can approximate the behavior of a physical system by knowing the characteristics of its components and applying Newton's motion laws. By solving the equations of motion, we can obtain a molecular trajectory of the system, i.e. a series of snapshots with the positions and velocities of all its particles, as well as its potential energy. To do so, we define functions, called force fields, which provide an approximate description of all the forces applied to each particle in the system. We then can use numerical integrators to solve the initial value problem for the system and obtain the trajectory. As it sounds, the process requires quite a bit of processing power and it was only few years ago that MD started seeing a more widespread use, especially in the field of computational chemistry and biology, as well as in drug discovery. To get a better idea about how the process works, here it is a GIF showing a MD simulation of a molecular motor."
      ]
    },
    {
      "cell_type": "markdown",
      "metadata": {
        "id": "yXlInBPrwUa6"
      },
      "source": [
        "<p><a href=\"https://commons.wikimedia.org/wiki/File:MD_rotor_250K_1ns.gif#/media/File:MD_rotor_250K_1ns.gif\"><img src=\"https://upload.wikimedia.org/wikipedia/commons/b/b6/MD_rotor_250K_1ns.gif\" alt=\"MD rotor 250K 1ns.gif\"></a><br>By Palma, C.-A.; Kühne, D.; Klappenberger, F.; Barth, J.V. - Technische Universität München, Public Domain, <a href=\"https://commons.wikimedia.org/w/index.php?curid=34866205\">Link</a></p>"
      ]
    },
    {
      "cell_type": "markdown",
      "metadata": {
        "id": "plElNr9RwUa7"
      },
      "source": [
        "We will now dig a bit deeper in the equations behind MD, the force fields, to gain a better understanding how what we will be doing in the practical part."
      ]
    },
    {
      "cell_type": "markdown",
      "metadata": {
        "id": "8-uCG3KPwUa8"
      },
      "source": [
        "### Force fields\n",
        "\n"
      ]
    },
    {
      "cell_type": "markdown",
      "metadata": {
        "id": "NC8t-i-cwUbB"
      },
      "source": [
        "Force fields describe the forces between the atoms within and between the molecules. They are parametric equations with different components, each corresponding to a precise interaction (e.g. bond torsion angles, steric hindrance, etc.). The parameters values are usually derived experimentally and change for each MD scenario, depending on the molecules involved and the simulations settings. The result is a mathematical description of the energy landscape of the system, in which the forces acting on each particle result from the gradient of the potential energy with respect to the coordinates of the atoms.\n",
        "\n",
        "A lot of different force fields are available, each with its own characteristics. In this notebook, we will use the AMBER force fields, which are widely used for MD simulations of proteins. Their functional form is:\n",
        "\n",
        "$$V(r^N) = \\sum_{i \\in  bonds}k_{bi} (l_i-l^0_i)^2 + \\sum_{i \\in  angles}k_{ai}(\\theta_i - \\theta^0_i)^2 + \\sum_{i\\in torsions} \\sum_n \\frac{1}{2} V_i^n[1+cos(nw_i-\\gamma_i)] + \\sum_{j=1}^{N-1}\\sum_{I=j+1}^{N} f_{ij}\\in ij [(\\frac{r^0_{ij}}{r_{ij}})^{12}-2(\\frac{r^0_{ij}}{r_{ij}})^{6}]+\\frac{q_iq_j}{4\\pi \\in_0 r_{ij}}]$$"
      ]
    },
    {
      "cell_type": "markdown",
      "metadata": {
        "id": "pjSsc4l-wUbB"
      },
      "source": [
        "The formula consists of a sum of different components, each describing a different interaction: the first two contain information about bonds length and their angles (intramolecular forces), the third term describes torsional forces and the last component describes intermolecular, non-bonded forces like Van-der-Waals and electrostatic energies. The various parameters depend on the forcefield used and vary between all members of the AMBER forcefield family.\n",
        "Note that these force fields assume fixed-charge particles and do not allow polarization, nor do they consider how a local charge influences its surroundings. The following visual representation of force fields components shows the same concepts in a more intuitive way."
      ]
    },
    {
      "cell_type": "markdown",
      "metadata": {
        "id": "6aDDjIqYwUbC"
      },
      "source": [
        "<p><a href=\"https://commons.wikimedia.org/wiki/File:MM_PEF.png#/media/File:MM_PEF.png\"><img src=\"https://upload.wikimedia.org/wikipedia/commons/thumb/5/5c/MM_PEF.png/1200px-MM_PEF.png\" width=400 height=400  alt=\"MM PEF.png\"></a><br>By <a href=\"//commons.wikimedia.org/w/index.php?title=User:Edboas&amp;action=edit&amp;redlink=1\" class=\"new\" title=\"User:Edboas (page does not exist)\">Edboas</a> - <span class=\"int-own-work\" lang=\"en\">Own work</span>, <a href=\"https://creativecommons.org/licenses/by-sa/3.0\" title=\"Creative Commons Attribution-Share Alike 3.0\">CC BY-SA 3.0</a>, <a href=\"https://commons.wikimedia.org/w/index.php?curid=4194424\">Link</a></p>"
      ]
    },
    {
      "cell_type": "markdown",
      "metadata": {
        "id": "xefD3p0TwUbD"
      },
      "source": [
        "After selecting a force field to run the MD Simulation with, the equation needs to be parametrized according to the specific scenario we wish to simulate. In this process, an algorithm will fetch the parameters needed (in this case we rely on `openforcefields`), taking into account the simulation settings. Usually the process involves these basic steps (but it can vary):\n",
        "\n",
        "* fetch the crystal structure/chemical formula\n",
        "* define atom types\n",
        "* get atomic charges\n",
        "* assign initial Lennard-Jones and bond parameters \n",
        "* test density and geometry (reference data)\n",
        "* test energetic properties (surface and hydration energy - compare with reference data)\n",
        "\n",
        "Once the force field is parametrized, the simulation basically consists in solving a differential equations system and saving the resulting trajectory."
      ]
    },
    {
      "cell_type": "markdown",
      "metadata": {
        "id": "5ox72nSHwUbE"
      },
      "source": [
        "Wrapping up, molecular dynamics simulate the trajectory of a physico-chemical system by using force fields to describe the interactions between each atom in the system, applying classical physics' law of motions and solving the equations by employing numerical methods that take advantage of the high performance processors of modern computers. This means no statistical mechanics nor quantum physics knowledge is included in the method, although there is ongoing research in the field of quantum force fields. Surprisingly, such deterministic, classical-physics-based description of a physico-chemical system works well enough to provide us with useful insights into what happens at a spatiotemporally not observable scale."
      ]
    },
    {
      "cell_type": "markdown",
      "metadata": {
        "id": "dkhvXl0HLgnb"
      },
      "source": [
        "## Practical\n",
        "\n",
        "We will now proceed to implement a simple MD simulation using `openmm` and `openforcefields` on Google Colab. There are four fundamental steps needed to set up and run the simulation, plus an extra pre-step (step 0) needed to set up the notebook on Google Colab (done at the beginning)."
      ]
    },
    {
      "cell_type": "markdown",
      "metadata": {
        "id": "DWYT67p1Nvrm"
      },
      "source": [
        "### Set up "
      ]
    },
    {
      "cell_type": "code",
      "metadata": {
        "id": "l2j-qK6Cv2Dz"
      },
      "source": [
        "lib_path = \"/usr/local/lib/python3.6/site-packages\""
      ],
      "execution_count": 1,
      "outputs": []
    },
    {
      "cell_type": "markdown",
      "metadata": {
        "id": "7I_BbH58n4h2"
      },
      "source": [
        "#### Installation"
      ]
    },
    {
      "cell_type": "code",
      "metadata": {
        "id": "K78GGT60Nu8p"
      },
      "source": [
        "import sys\n",
        "# Download miniconda\n",
        "!wget -q https://repo.anaconda.com/miniconda/Miniconda3-latest-Linux-x86_64.sh\n",
        "!bash Miniconda3-latest-Linux-x86_64.sh -bfp /usr/local\n",
        "# install required modules\n",
        "!conda install -q -y -c omnia --prefix /usr/local/ python=3.6 openmm;\n",
        "!conda install -q -y -c omnia -c conda-forge --prefix /usr/local/ python=3.6 openmmforcefields;\n",
        "!conda install -q -y -c omnia -c conda-forge --prefix /usr/local/ python=3.6 rdkit;\n",
        "!conda install -q -y -c omnia -c conda-forge --prefix /usr/local/ python=3.6 pdbfixer;\n",
        "!conda install -q -y -c omnia -c conda-forge --prefix /usr/local/ python=3.6 mdtraj;\n",
        "!conda install -q -y -c omnia -c conda-forge --prefix /usr/local/ python=3.6 MDAnalysis;\n",
        "!conda install -q -y -c conda-forge --prefix /usr/local/ nglview;\n",
        "\n",
        "!pip install https://github.com/volkamerlab/opencadd/archive/b6d9c511f89ff200c45532e614f1abffa35e2ab7.zip\n",
        "# Append path to enable running packages installed with conda\n",
        "sys.path.append(lib_path)\n",
        "\n",
        "#Clear the excesive installation outputs\n",
        "from IPython.display import clear_output\n",
        "clear_output()"
      ],
      "execution_count": 7,
      "outputs": []
    },
    {
      "cell_type": "markdown",
      "metadata": {
        "id": "yikvMH3ig7ux"
      },
      "source": [
        "#### Imports"
      ]
    },
    {
      "cell_type": "code",
      "metadata": {
        "id": "3g6vsWucLgng",
        "outputId": "5f5043fa-0699-4418-c7a0-f38e0b0d6273",
        "colab": {
          "base_uri": "https://localhost:8080/",
          "height": 17,
          "referenced_widgets": [
            "04268d7b8d4148df8cbb9b48156371ee"
          ]
        }
      },
      "source": [
        "# imports\n",
        "import io\n",
        "from pathlib import Path\n",
        "import mdtraj as md\n",
        "import numpy as np\n",
        "import nglview as nv\n",
        "import parmed as chem\n",
        "import parmed.unit as u\n",
        "import simtk.openmm as mm\n",
        "import simtk.openmm.app as app\n",
        "from simtk.openmm import unit\n",
        "from simtk.openmm.app import CheckpointReporter, ForceField, PDBFile\n",
        "from openforcefield.topology import Molecule, Topology\n",
        "from openmmforcefields.generators import GAFFTemplateGenerator\n",
        "from google.colab import files\n",
        "\n",
        "\n",
        "import pdbfixer\n",
        "from rdkit import Chem\n",
        "from rdkit.Chem import AllChem\n",
        "\n",
        "from opencadd.structure.core import Structure"
      ],
      "execution_count": 9,
      "outputs": [
        {
          "output_type": "display_data",
          "data": {
            "application/vnd.jupyter.widget-view+json": {
              "model_id": "04268d7b8d4148df8cbb9b48156371ee",
              "version_minor": 0,
              "version_major": 2
            },
            "text/plain": [
              ""
            ]
          },
          "metadata": {
            "tags": []
          }
        }
      ]
    },
    {
      "cell_type": "markdown",
      "metadata": {
        "id": "ltkfdrHvn4iI"
      },
      "source": [
        "#### PDB File Download\n",
        "After setting up Google Colab, we need a file to work with. First, we import all needed packages and upload the topology file(s) containing our system.\n",
        "In this case, we will run the simulation on the SARS-CoV-2 main protease in complex with an inhibitor. "
      ]
    },
    {
      "cell_type": "code",
      "metadata": {
        "id": "j9VuMqxs7T4m"
      },
      "source": [
        "mkdir data"
      ],
      "execution_count": 10,
      "outputs": []
    },
    {
      "cell_type": "markdown",
      "metadata": {
        "id": "pN6w7ZOUn4iP"
      },
      "source": [
        "TODO: Loading the pdb like this will throw \"UndefinedStereochemistryError: Unable to make OFFMol from RDMol: Unable to make OFFMol from RDMol: RDMol has unspecified stereochemistry. Undefined chiral centers are:\n",
        " - Atom C (index 1) a in \"merge_protein_and_ligand\""
      ]
    },
    {
      "cell_type": "code",
      "metadata": {
        "id": "46HGV64tvOWn"
      },
      "source": [
        "pdbid = \"6w63\"\n",
        "pdb_path = Path(\"data\") / (pdbid+\".pdb\")"
      ],
      "execution_count": 12,
      "outputs": []
    },
    {
      "cell_type": "code",
      "metadata": {
        "id": "pv142b-93Nnj",
        "outputId": "17e70204-5c5b-4798-90ba-729b6355933d",
        "colab": {
          "base_uri": "https://localhost:8080/"
        }
      },
      "source": [
        "rcsb_pdb = Structure.from_pdbid(pdbid)\n",
        "rcsb_pdb.write(pdb_path)"
      ],
      "execution_count": null,
      "outputs": [
        {
          "output_type": "stream",
          "text": [
            "/home/mika/miniconda3/envs/T10_ML/lib/python3.6/site-packages/MDAnalysis/coordinates/PDB.py:1028: UserWarning: Found no information for attr: 'tempfactors' Using default value of '0.0'\n",
            "  \"\".format(attrname, default))\n"
          ],
          "name": "stderr"
        }
      ]
    },
    {
      "cell_type": "code",
      "metadata": {
        "id": "LcgfVjZTOjah"
      },
      "source": [
        "ligand_name = \"X77\""
      ],
      "execution_count": 11,
      "outputs": []
    },
    {
      "cell_type": "markdown",
      "metadata": {
        "id": "krsfBvoenaYu"
      },
      "source": [
        "### Fix the PDB File"
      ]
    },
    {
      "cell_type": "markdown",
      "metadata": {
        "id": "t3mGSg8LLgop"
      },
      "source": [
        "#### Add missing atoms and residues to the protein\n",
        "\n",
        "One crucial part to a successful simulation is a correct and complete system. PDB files from crystallographic structures often miss atoms, mainly hydrogens, and may have nonstandard residues.\n",
        "Thus, we need to fix our structure. Several options are available, a common one in python being the package `pdbfixer`. We use it to fix our residues and also remove heterogens, which are any atoms not directly linked to the protein structure. This will remove our ligand as well, but we will add it back later.\n",
        "We will also skip the protonation, which means adding missing hydrogens, of the protein for now. It is better done in complex with the already protonated ligand ligand later on."
      ]
    },
    {
      "cell_type": "code",
      "metadata": {
        "id": "pA9Vct0iNRhl"
      },
      "source": [
        "def fix_pdb_protein(pdb_file):\n",
        "    \"\"\"Uses pdbfixer to repair and prepare a pdb file.\n",
        "    Hetatoms are removed, nonstandard resiudes replaced and missing atoms added.\n",
        "  \n",
        "    Parameters\n",
        "    ----------\n",
        "   pdb_file : str\n",
        "      uploaded pdb file containing a simulateable system\n",
        "    \n",
        "    Returns\n",
        "    -------\n",
        "    fixer : pdbfixer.pdbfixer.PDBFixer\n",
        "        fixed protein system\n",
        "        \"\"\"\n",
        "    fixer = pdbfixer.PDBFixer(pdb_file) #fix pdb\n",
        "    fixer.removeHeterogens()\n",
        "    #needed to determine any residues with problems\n",
        "    fixer.findMissingResidues() \n",
        "    #set the the list of missing residues to 0 so none get added\n",
        "    fixer.missingResidues = {} \n",
        "    fixer.findNonstandardResidues() # find non standard residue\n",
        "    fixer.replaceNonstandardResidues()# replace non standard residues with standard one\n",
        "    fixer.findMissingAtoms() # find missing heavy atoms\n",
        "    fixer.addMissingAtoms() # add missing atoms and residues\n",
        "    return fixer"
      ],
      "execution_count": 13,
      "outputs": []
    },
    {
      "cell_type": "code",
      "metadata": {
        "id": "bxuyg-oxOtvn"
      },
      "source": [
        "fixed_protein = fix_pdb_protein(str(pdb_path))"
      ],
      "execution_count": 14,
      "outputs": []
    },
    {
      "cell_type": "markdown",
      "metadata": {
        "id": "_wR47KGjnP2O"
      },
      "source": [
        "#### Add missing Hydrogens to Ligand"
      ]
    },
    {
      "cell_type": "markdown",
      "metadata": {
        "id": "8VoOjhASZ4Jh"
      },
      "source": [
        "After fixing out protein we turn our attention to the ligand. Most libraries handle proteins rather well, but fixing small molecules is a different task.\n",
        "Thus we have to separately protonate our ligand before adding it back to the complex.\n",
        "We use RDKit, which specializes in small molecules.\n",
        "To correctly add hydrogens, RDKit needs bond-orders. Those are not generally included in pdb files, we need to assign some from a template. In this case a SMILES string is used.\n",
        "We wrap the entire procedure in one function. \n"
      ]
    },
    {
      "cell_type": "code",
      "metadata": {
        "id": "si7ARKHoabal"
      },
      "source": [
        "def protonate_ligand(pdb_file, ligand_resname, ligand_smiles):\n",
        "    \"\"\"Protonate a ligand molecule with RDKit. The ligand is extracted from a complex system.\n",
        "    A smiles string represantation is used as template for bond order assignment.\n",
        "  \n",
        "    Parameters\n",
        "    ----------\n",
        "    pdb_file : str\n",
        "       uploaded pdb file containing a simulateable system\n",
        "    ligand_name :str\n",
        "    ligand_simles : str\n",
        "      smiles representation of ligand to be used as template\n",
        "    \n",
        "    Returns\n",
        "    -------\n",
        "    lig_mol_h : rdkit.Chem.rdchem.Mol\n",
        "      protonated ligand\n",
        "    \"\"\"\n",
        "    #Split the molecule\n",
        "    rdkit_mol = Chem.MolFromPDBFile(pdb_file)\n",
        "    rdkit_mol_split = Chem.rdmolops.SplitMolByPDBResidues(rdkit_mol)\n",
        "\n",
        "    #Extract Ligand and remove any already present hydrogens\n",
        "    lig_mol_wo_bond_orders = Chem.RemoveHs(rdkit_mol_split[ligand_resname])\n",
        "\n",
        "    #Assign bond orders from template\n",
        "    reference_mol = Chem.MolFromSmiles(ligand_smiles)\n",
        "    lig_mol = AllChem.AssignBondOrdersFromTemplate(reference_mol, lig_mol_wo_bond_orders)\n",
        "    lig_mol.AddConformer(lig_mol_wo_bond_orders.GetConformer(0))\n",
        "\n",
        "    #protonate ligand\n",
        "    lig_mol_h = Chem.rdmolops.AddHs(lig_mol, addCoords=True)\n",
        "    return lig_mol_h"
      ],
      "execution_count": 24,
      "outputs": []
    },
    {
      "cell_type": "markdown",
      "metadata": {
        "id": "GkqslZRknFbq"
      },
      "source": [
        "Calling our function returns a correctly protonated ligand, extracted from the file via its name."
      ]
    },
    {
      "cell_type": "code",
      "metadata": {
        "id": "04v75eTlcEtx",
        "outputId": "598cdc3e-a735-49ae-d1e4-79fddb4393ea",
        "colab": {
          "base_uri": "https://localhost:8080/",
          "height": 316
        }
      },
      "source": [
        "protonated_ligand = protonate_ligand(str(pdb_path), ligand_name,\n",
        "                                     \"CC(C)(C)c1ccc(cc1)N([C@@H](C(=O)NC2CCCCC2)c3cccnc3)C(=O)c4c[nH]cn4\")"
      ],
      "execution_count": 25,
      "outputs": [
        {
          "output_type": "error",
          "ename": "ValueError",
          "evalue": "ignored",
          "traceback": [
            "\u001b[0;31m---------------------------------------------------------------------------\u001b[0m",
            "\u001b[0;31mValueError\u001b[0m                                Traceback (most recent call last)",
            "\u001b[0;32m<ipython-input-25-5471eac529ac>\u001b[0m in \u001b[0;36m<module>\u001b[0;34m()\u001b[0m\n\u001b[1;32m      1\u001b[0m protonated_ligand = protonate_ligand(str(pdb_path), ligand_name,\n\u001b[0;32m----> 2\u001b[0;31m                                      \"CC(C)(C)c1ccc(cc1)N([C@@H](C(=O)NC2CCCCC2)c3cccnc3)C(=O)c4c[nH]cn4\")\n\u001b[0m",
            "\u001b[0;32m<ipython-input-24-466a9d138bb3>\u001b[0m in \u001b[0;36mprotonate_ligand\u001b[0;34m(pdb_file, ligand_resname, ligand_smiles)\u001b[0m\n\u001b[1;32m     27\u001b[0m     \u001b[0mlig_mol\u001b[0m \u001b[0;34m=\u001b[0m \u001b[0mAllChem\u001b[0m\u001b[0;34m.\u001b[0m\u001b[0mAssignBondOrdersFromTemplate\u001b[0m\u001b[0;34m(\u001b[0m\u001b[0mreference_mol\u001b[0m\u001b[0;34m,\u001b[0m \u001b[0mlig_mol_wo_bond_orders\u001b[0m\u001b[0;34m)\u001b[0m\u001b[0;34m\u001b[0m\u001b[0;34m\u001b[0m\u001b[0m\n\u001b[1;32m     28\u001b[0m     \u001b[0mlig_mol\u001b[0m\u001b[0;34m.\u001b[0m\u001b[0mAddConformer\u001b[0m\u001b[0;34m(\u001b[0m\u001b[0mlig_mol_wo_bond_orders\u001b[0m\u001b[0;34m.\u001b[0m\u001b[0mGetConformer\u001b[0m\u001b[0;34m(\u001b[0m\u001b[0;36m0\u001b[0m\u001b[0;34m)\u001b[0m\u001b[0;34m)\u001b[0m\u001b[0;34m\u001b[0m\u001b[0;34m\u001b[0m\u001b[0m\n\u001b[0;32m---> 29\u001b[0;31m     \u001b[0mChem\u001b[0m\u001b[0;34m.\u001b[0m\u001b[0mMolToPDBBlock\u001b[0m\u001b[0;34m(\u001b[0m\u001b[0mlig_mol\u001b[0m\u001b[0;34m)\u001b[0m\u001b[0;34m\u001b[0m\u001b[0;34m\u001b[0m\u001b[0m\n\u001b[0m\u001b[1;32m     30\u001b[0m \u001b[0;34m\u001b[0m\u001b[0m\n\u001b[1;32m     31\u001b[0m     \u001b[0;31m#protonate ligand\u001b[0m\u001b[0;34m\u001b[0m\u001b[0;34m\u001b[0m\u001b[0;34m\u001b[0m\u001b[0m\n",
            "\u001b[0;31mValueError\u001b[0m: Bad Conformer Id"
          ]
        }
      ]
    },
    {
      "cell_type": "markdown",
      "metadata": {
        "id": "HEffGI0H2OVa"
      },
      "source": [
        "When we now look at our ligand in SMILES notation we can see the added hydrogens."
      ]
    },
    {
      "cell_type": "code",
      "metadata": {
        "id": "w-6fMBVu1AWL",
        "outputId": "edc7f60a-1f43-4aa1-8620-0c9efc2d1f94",
        "colab": {
          "base_uri": "https://localhost:8080/"
        }
      },
      "source": [
        "smiles = Chem.MolToSmiles(protonated_ligand)\n",
        "print(smiles)"
      ],
      "execution_count": 48,
      "outputs": [
        {
          "output_type": "stream",
          "text": [
            "[H]c1nc([H])c([C@]([H])(C(=O)N([H])C2([H])C([H])([H])C([H])([H])C([H])([H])C([H])([H])C2([H])[H])N(C(=O)c2nc([H])n([H])c2[H])c2c([H])c([H])c(C(C([H])([H])[H])(C([H])([H])[H])C([H])([H])[H])c([H])c2[H])c([H])c1[H]\n"
          ],
          "name": "stdout"
        }
      ]
    },
    {
      "cell_type": "markdown",
      "metadata": {
        "id": "NP9WekSTO5N3"
      },
      "source": [
        "### Merge Molecule and ligand\n",
        "In the next step we want to merge the protonated ligand with the protein using MDTraj. MDTraj Molecules can be loaded from OpenMM Topologies. We need to do some conversions, since our protonated ligand is an RDKit Molecule at the moment.\n",
        "We write a function, that handles the conversion and adds some naming information back in,that we lost in RDKit."
      ]
    },
    {
      "cell_type": "code",
      "metadata": {
        "id": "UwehzZrhpDnD"
      },
      "source": [
        "def convert_rdkit_to_openmm(molecule, molecule_name=\"lig\"):\n",
        "    \"\"\"Merge two OpenMM Structures together using MDTraj.\n",
        "    \n",
        "    Parameters\n",
        "    ----------\n",
        "    molecule : rdkit.Chem.rdchem.Mol\n",
        "    molecule_name : str, optional\n",
        "    \n",
        "    Returns\n",
        "    -------\n",
        "    off_mol : openforcefield.topology.molecule.Molecule\n",
        "    mol_topology : simtk.openmm.app.topology.Topology\n",
        "    mol_positions : simtk.unit.quantity.Quantity\n",
        "    \"\"\"\n",
        "    #Convert RDKit to OpenFF\n",
        "    off_mol = Molecule.from_rdkit(molecule)\n",
        "\n",
        "    #Add naming of molecule and atoms\n",
        "    off_mol.name = molecule_name\n",
        "    atom_names = {\n",
        "        1: \"H\",\n",
        "        6: \"C\",\n",
        "        7: \"N\",\n",
        "        8: \"O\"\n",
        "        }\n",
        "      \n",
        "    for atom in off_mol.atoms:\n",
        "        atom.name = atom_names.get(atom.atomic_number)\n",
        "\n",
        "    #Convert from OpenFF to OpenMM\n",
        "    off_mol_topology = off_mol.to_topology()\n",
        "    mol_topology = off_mol_topology.to_openmm()\n",
        "    mol_positions = off_mol.conformers[0]\n",
        "    \n",
        "    #Convert Units from Angström to Nanometers\n",
        "    for atom in mol_positions:\n",
        "        coords = atom / atom.unit\n",
        "        atom = (coords / 10.0) * mm.unit.nanometers  # since openmm works in nm\n",
        "        \n",
        "    return off_mol, mol_topology, mol_positions"
      ],
      "execution_count": 17,
      "outputs": []
    },
    {
      "cell_type": "code",
      "metadata": {
        "id": "I77OHmv47vEN"
      },
      "source": [
        "off_molecule, ligand_topology, ligand_positions = convert_rdkit_to_openmm(protonated_ligand, ligand_name)"
      ],
      "execution_count": 18,
      "outputs": []
    },
    {
      "cell_type": "markdown",
      "metadata": {
        "id": "dqY5AE0JGIgL"
      },
      "source": [
        "Our fixed Protein is already in OpenMM format and can now be merged with the converted ligand."
      ]
    },
    {
      "cell_type": "code",
      "metadata": {
        "id": "8gJMRq8fZYOU"
      },
      "source": [
        "def merge_protein_and_ligand(protein, ligand_topology, ligand_positions):\n",
        "    \"\"\"Merge two OpenMM Structures together.\n",
        "  \n",
        "    Parameters\n",
        "    ----------\n",
        "    protein : pdbfixer.pdbfixer.PDBFixer\n",
        "    ligand_topology : simtk.openmm.app.topology.Topology\n",
        "    ligand_positions : simtk.unit.quantity.Quantity\n",
        "    \n",
        "    Returns\n",
        "    -------\n",
        "    complex_topology : simtk.openmm.app.topology.Topology\n",
        "    complex_positions : simtk.unit.quantity.Quantity\n",
        "    \"\"\"\n",
        "    #Combine Topologies\n",
        "    md_protein_topology = md.Topology.from_openmm(protein.topology)  # using mdtraj for protein top\n",
        "    md_ligand_topology = md.Topology.from_openmm(ligand_topology)  # using mdtraj for ligand top\n",
        "    md_complex_topology = md_protein_topology.join(md_ligand_topology)  # add them together\n",
        "    complex_topology = md_complex_topology.to_openmm()\n",
        "\n",
        "    #Combine Positions\n",
        "    total_atoms = len(protein.positions) + len(ligand_positions)\n",
        "    #Create a OpenMM Quantity Array of right size\n",
        "    complex_positions = unit.Quantity(np.zeros([total_atoms, 3]), unit=unit.nanometers)\n",
        "    complex_positions[0 : len(protein.positions)] = protein.positions #add protein positions\n",
        "    complex_positions[len(protein.positions)+1 : total_atoms] = ligand_positions #add ligand positions\n",
        "\n",
        "    return complex_topology, complex_positions"
      ],
      "execution_count": 19,
      "outputs": []
    },
    {
      "cell_type": "code",
      "metadata": {
        "id": "ZXmeeV0ZPOho"
      },
      "source": [
        "complex_topology, complex_positions = merge_protein_and_ligand(fixed_protein, ligand_topology, ligand_positions)"
      ],
      "execution_count": 26,
      "outputs": []
    },
    {
      "cell_type": "markdown",
      "metadata": {
        "id": "2HAmjMG5Lgpd"
      },
      "source": [
        "### Molecular dynamics simulation set up\n",
        "\n",
        "We can then use the fixed pdb to set up the MD simulation. We use a General Amber ForceField (GAFF) which includes parameters for small molecules and is able to generate a template for them. This is needed for the force field to be set up properly otherwise the protein force field has \"no knowledge\" of the ligand. The following functions generates a forcefield object using a protein forcefield and a salvation forcefield and additionally includes a generated template for a small molecule."
      ]
    },
    {
      "cell_type": "markdown",
      "metadata": {
        "id": "1B9DRdICny_f"
      },
      "source": [
        "#### The Force Field\n",
        "We use a General Amber ForceField (GAFF) which includes parameters for small molecules and is able to generate a template for them. This is needed for the force field to be set up properly otherwise the protein force field has \"no knowledge\" of the ligand. The following function generates a force field object using a protein and a solvation forcefield and additionally includes a generated template for a small molecule of choice."
      ]
    },
    {
      "cell_type": "code",
      "metadata": {
        "id": "EFHKhU6v1k-h"
      },
      "source": [
        "def generate_forcefield(molecule = None, protein_ff = \"protein.ff14SB.xml\", solvation_ff = \"tip3p.xml\"):\n",
        "    \"\"\"Generate an OpenFF Forcefield and register a small molecule template.\n",
        "  \n",
        "    Parameters\n",
        "    ----------\n",
        "    molecule : openforcefield.topology.molecule.Molecule, optional\n",
        "    protein_ff : string, optional\n",
        "      Name of the protein forcefield \n",
        "    solvent_ff : string, optional\n",
        "      Name of the solvation forcefield\n",
        "    Returns\n",
        "    -------\n",
        "    complex_topology : simtk.openmm.app.topology.Topology\n",
        "    complex_positions : simtk.unit.quantity.Quantity\n",
        "    \"\"\"\n",
        "    protein_forcefield = Path(lib_path) / \"simtk/openmm/app/data/amber14\" / protein_ff\n",
        "    solvation_forcefield = Path(lib_path) / \"simtk/openmm/app/data/amber14\" / solvation_ff\n",
        "\n",
        "    forcefield = app.ForceField(protein_forcefield, solvation_forcefield)\n",
        "\n",
        "    if(molecule is not None):\n",
        "        gaff = GAFFTemplateGenerator(molecules=molecule)\n",
        "        forcefield.registerTemplateGenerator(gaff.generator)\n",
        "\n",
        "    return forcefield"
      ],
      "execution_count": 27,
      "outputs": []
    },
    {
      "cell_type": "code",
      "metadata": {
        "id": "5is-oVrO2Fjy"
      },
      "source": [
        "forcefield = generate_forcefield(off_molecule)"
      ],
      "execution_count": 29,
      "outputs": []
    },
    {
      "cell_type": "markdown",
      "metadata": {
        "id": "cGrreylan6XS"
      },
      "source": [
        "#### The System"
      ]
    },
    {
      "cell_type": "markdown",
      "metadata": {
        "id": "DzO12MFp2P48"
      },
      "source": [
        "With our configured forcefield we can now create the MD environment containing the complex and add the solvent we wish to simulate in, in this case water. Once the system is solvated we save its pdb file and proceed in setting up the simulation.\n",
        "Remember how we did not protonate the protein but rather only the ligand in an earlier step. Now we add the hydrogens to our complex protonating the protein with a modeller object."
      ]
    },
    {
      "cell_type": "code",
      "metadata": {
        "id": "c4LEvWMI8ash",
        "outputId": "9ce243f1-97db-4b4e-a1b2-139562134109",
        "colab": {
          "base_uri": "https://localhost:8080/"
        }
      },
      "source": [
        "# Add solvent\n",
        "modeller = app.Modeller(complex_topology, complex_positions)\n",
        "modeller.addHydrogens(forcefield); #Protonate System\n",
        "modeller.addSolvent(forcefield, padding=1.0*unit.nanometers,\n",
        "                    model='tip3p', ionicStrength=0.15*unit.molar)\n",
        "# Save PDB file of solvated molecule\n",
        "app.PDBFile.writeFile(modeller.topology,\n",
        "                      modeller.positions,\n",
        "                      open('data/MD_system.pdb', 'w'))"
      ],
      "execution_count": 30,
      "outputs": [
        {
          "output_type": "stream",
          "text": [
            "Warning: In AmberToolsToolkitwrapper.compute_partial_charges_am1bcc: Molecule 'X77' has more than one conformer, but this function will only generate charges for the first one.\n"
          ],
          "name": "stderr"
        }
      ]
    },
    {
      "cell_type": "markdown",
      "metadata": {
        "id": "TwAEe5d8n4jf"
      },
      "source": [
        "With our solvated complex and the forcefield we can finally create a system and set up the simulation."
      ]
    },
    {
      "cell_type": "code",
      "metadata": {
        "id": "n52Cmkr4dpI-"
      },
      "source": [
        "system = forcefield.createSystem(modeller.topology, nonbondedMethod=app.PME)\n",
        "integrator = mm.LangevinIntegrator(300*unit.kelvin,\n",
        "                                1.0/unit.picoseconds,\n",
        "                                2.0*unit.femtoseconds)\n",
        "simulation = app.Simulation(modeller.topology, system, integrator)"
      ],
      "execution_count": null,
      "outputs": []
    },
    {
      "cell_type": "markdown",
      "metadata": {
        "id": "JwEgrFkILgqL"
      },
      "source": [
        "### Run the MD simulation\n",
        "Now that everything is set-up we can run the simulation. We need to set starting positions and to minimize the energy of the system. Once that is done, we can let the simulation run! Here we are simulating 1 ns. We save one molecular \"snapshot\" every 5000 steps, for a total of 100 frames out of the 500.000 steps we are taking. The results are saved in a .dcd files, which contains the coordinates of all the atoms at a given time point. Together with the pdb file of the system, it gives us all the information about our simulation.  "
      ]
    },
    {
      "cell_type": "code",
      "metadata": {
        "id": "AE3GJtwp_Ccq",
        "outputId": "79bcc9a1-9857-4b92-b130-464273883259",
        "colab": {
          "base_uri": "https://localhost:8080/"
        }
      },
      "source": [
        "# Initialize the MD simulation\n",
        "print('Setting up positions...')\n",
        "simulation.context.setPositions(modeller.positions)"
      ],
      "execution_count": null,
      "outputs": [
        {
          "output_type": "stream",
          "text": [
            "Setting up positions...\n"
          ],
          "name": "stdout"
        }
      ]
    },
    {
      "cell_type": "code",
      "metadata": {
        "id": "EgkE1EUGLgqP",
        "outputId": "aa731936-a499-4ade-84b6-3bd31bd8cc97",
        "colab": {
          "base_uri": "https://localhost:8080/"
        }
      },
      "source": [
        "# Minimize energy\n",
        "print('Energy minimization in progress...')\n",
        "simulation.minimizeEnergy()"
      ],
      "execution_count": null,
      "outputs": [
        {
          "output_type": "stream",
          "text": [
            "Energy minimization in progress...\n"
          ],
          "name": "stdout"
        }
      ]
    },
    {
      "cell_type": "code",
      "metadata": {
        "id": "E8t-0ZxFLgqh"
      },
      "source": [
        "# Output settings\n",
        "simulation.reporters.append(app.DCDReporter('data/trajectory.dcd', 5000))\n",
        "\n",
        "# Output data\n",
        "simulation.reporters.append(app.StateDataReporter(sys.stdout, 5000, step=True,\n",
        "                                                  potentialEnergy=True, temperature=True, progress=True, remainingTime=True,\n",
        "                                                  speed=True, totalSteps=5*1e5, separator='\\t'))\n",
        "\n",
        "# Set velocities\n",
        "simulation.context.setVelocitiesToTemperature(300*unit.kelvin)"
      ],
      "execution_count": null,
      "outputs": []
    },
    {
      "cell_type": "code",
      "metadata": {
        "id": "7B7AiVO3fr03",
        "outputId": "99581ec9-8752-48e5-a613-c5673ac3ac1c",
        "colab": {
          "base_uri": "https://localhost:8080/"
        }
      },
      "source": [
        "# Run the simulation\n",
        "simulation.step(5*1e5)"
      ],
      "execution_count": null,
      "outputs": [
        {
          "output_type": "stream",
          "text": [
            "#\"Progress (%)\"\t\"Step\"\t\"Potential Energy (kJ/mole)\"\t\"Temperature (K)\"\t\"Speed (ns/day)\"\t\"Time Remaining\"\n",
            "1.0%\t5000\t-859886.5143957892\t300.3639806761085\t0\t--\n",
            "2.0%\t10000\t-860644.2643957892\t298.527637998316\t90.5\t15:35\n",
            "3.0%\t15000\t-861380.5143957892\t300.1872201724805\t90\t15:31\n",
            "4.0%\t20000\t-858815.7643957892\t299.1841954724659\t89.5\t15:26\n",
            "5.0%\t25000\t-860390.7643957892\t301.66051174116313\t89.2\t15:20\n",
            "6.0%\t30000\t-859926.2643957892\t299.5078805777378\t88.5\t15:17\n",
            "7.0%\t35000\t-860554.2643957892\t300.7886827120478\t87.8\t15:14\n",
            "8.0%\t40000\t-861185.0143957892\t302.24999955028755\t87.3\t15:10\n",
            "9.0%\t45000\t-859125.7643957892\t299.46501856281463\t86.6\t15:07\n",
            "10.0%\t50000\t-859535.7643957892\t300.1244398615951\t86\t15:03\n",
            "11.0%\t55000\t-861220.5143957892\t300.8850711121466\t85.7\t14:57\n",
            "12.0%\t60000\t-859792.0143957892\t302.0937607405159\t85.4\t14:49\n",
            "13.0%\t65000\t-860899.5143957892\t298.79704017427815\t85.4\t14:40\n",
            "14.0%\t70000\t-861091.5143957892\t300.88151103208975\t85.3\t14:31\n",
            "15.0%\t75000\t-859380.5143957892\t298.9619412133646\t85.1\t14:22\n",
            "16.0%\t80000\t-861060.0143957892\t299.53587266959414\t85\t14:13\n",
            "17.0%\t85000\t-860001.7643957892\t298.2693795009204\t84.9\t14:04\n",
            "18.0%\t90000\t-860860.5143957892\t301.72365604141226\t84.8\t13:55\n",
            "19.0%\t95000\t-862033.2643957892\t301.80637855203315\t84.7\t13:46\n",
            "20.0%\t100000\t-860763.0143957892\t297.73516893653834\t84.6\t13:37\n",
            "21.0%\t105000\t-860909.5143957892\t299.2351062385843\t84.6\t13:27\n",
            "22.0%\t110000\t-860339.5143957892\t299.46510865761417\t84.5\t13:17\n",
            "23.0%\t115000\t-860321.7643957892\t298.94229967701386\t84.4\t13:07\n",
            "24.0%\t120000\t-861238.5143957892\t297.52543869530484\t84.4\t12:58\n",
            "25.0%\t125000\t-859129.7643957892\t298.33943625736447\t84.4\t12:48\n",
            "26.0%\t130000\t-860035.5143957892\t300.6756896267058\t84.3\t12:38\n",
            "27.0%\t135000\t-860808.0143957892\t297.31637420910624\t84.3\t12:28\n",
            "28.0%\t140000\t-860910.5143957892\t300.520088267782\t84.2\t12:18\n",
            "29.0%\t145000\t-860249.5143957892\t299.3716310742131\t84.2\t12:08\n",
            "30.0%\t150000\t-859437.2643957892\t300.53601719686344\t84.2\t11:58\n",
            "31.0%\t155000\t-861331.2643957892\t299.0570700552249\t84.1\t11:48\n",
            "32.0%\t160000\t-860644.0143957892\t298.6522186212103\t84.1\t11:38\n",
            "33.0%\t165000\t-860708.2643957892\t300.787087620545\t84.1\t11:28\n",
            "34.0%\t170000\t-859339.2643957892\t302.0047987783376\t84\t11:18\n",
            "35.0%\t175000\t-860960.5143957892\t299.91446404259784\t84\t11:08\n",
            "36.0%\t180000\t-860341.5143957892\t301.2567202423574\t84\t10:58\n",
            "37.0%\t185000\t-860558.7643957892\t299.611291070228\t84\t10:48\n",
            "38.0%\t190000\t-859293.7643957892\t300.048674676274\t84\t10:38\n",
            "39.0%\t195000\t-860826.5143957892\t298.78482477586505\t83.9\t10:27\n",
            "40.0%\t200000\t-861590.0143957892\t300.02905017138534\t83.9\t10:17\n",
            "41.0%\t205000\t-861997.5143957892\t299.4926396776617\t83.9\t10:07\n",
            "42.0%\t210000\t-859857.0143957892\t298.71725996253184\t83.9\t9:57\n",
            "43.0%\t215000\t-859429.0143957892\t297.9843851794905\t83.9\t9:47\n",
            "44.0%\t220000\t-858985.2643957892\t300.98227468528574\t83.8\t9:37\n",
            "45.0%\t225000\t-862156.2643957892\t298.41612336358844\t83.8\t9:26\n",
            "46.0%\t230000\t-858796.5143957892\t301.38900474613666\t83.8\t9:16\n",
            "47.0%\t235000\t-858516.0143957892\t301.1773193109538\t83.8\t9:06\n",
            "48.0%\t240000\t-860163.5143957892\t300.88939709338564\t83.8\t8:56\n",
            "49.0%\t245000\t-857652.0143957892\t300.7950956031089\t83.8\t8:45\n",
            "50.0%\t250000\t-859479.0143957892\t299.7062943990495\t83.8\t8:35\n",
            "51.0%\t255000\t-859964.0143957892\t299.21108352048554\t83.8\t8:25\n",
            "52.0%\t260000\t-860134.0143957892\t301.9665622407401\t83.8\t8:15\n",
            "53.0%\t265000\t-861234.0143957892\t300.00139275877723\t83.8\t8:04\n",
            "54.0%\t270000\t-860661.0143957892\t300.0146462252134\t83.8\t7:54\n",
            "55.0%\t275000\t-861011.5143957892\t300.0126688344968\t83.8\t7:44\n",
            "56.0%\t280000\t-860197.0143957892\t299.7580942005431\t83.8\t7:33\n",
            "57.0%\t285000\t-862503.0143957892\t298.81757092735324\t83.7\t7:23\n",
            "58.0%\t290000\t-861531.0143957892\t298.50626487650914\t83.7\t7:13\n",
            "59.0%\t295000\t-859585.5143957892\t302.6772849658944\t83.7\t7:03\n",
            "60.0%\t300000\t-858924.7643957892\t300.3885852032694\t83.7\t6:52\n",
            "61.0%\t305000\t-860954.5143957892\t300.674639871871\t83.7\t6:42\n",
            "62.0%\t310000\t-862034.7643957892\t298.93586144335245\t83.7\t6:32\n",
            "63.0%\t315000\t-860606.5143957892\t300.1638713934721\t83.7\t6:21\n",
            "64.0%\t320000\t-859212.5143957892\t300.3357987367222\t83.7\t6:11\n",
            "65.0%\t325000\t-860330.5143957892\t299.20349337256147\t83.7\t6:01\n",
            "66.0%\t330000\t-862097.0143957892\t300.83215045495336\t83.7\t5:51\n",
            "67.0%\t335000\t-859719.0143957892\t299.7585298637124\t83.7\t5:40\n",
            "68.0%\t340000\t-859847.7643957892\t300.59323958098884\t83.7\t5:30\n",
            "69.0%\t345000\t-860304.0143957892\t300.4991964777007\t83.7\t5:20\n",
            "70.0%\t350000\t-861509.0143957892\t299.170970954775\t83.7\t5:09\n",
            "71.0%\t355000\t-859799.7643957892\t299.6937732368064\t83.7\t4:59\n",
            "72.0%\t360000\t-861659.5143957892\t299.0611449835613\t83.7\t4:49\n",
            "73.0%\t365000\t-861710.0143957892\t298.23177294752014\t83.7\t4:38\n",
            "74.0%\t370000\t-858989.2643957892\t297.8255585965736\t83.7\t4:28\n",
            "75.0%\t375000\t-860584.5143957892\t301.0252511302911\t83.7\t4:18\n",
            "76.0%\t380000\t-860786.5143957892\t298.94473593504546\t83.7\t4:07\n",
            "77.0%\t385000\t-860161.2643957892\t301.10569761342856\t83.6\t3:57\n",
            "78.0%\t390000\t-859811.2643957892\t299.92097325174683\t83.6\t3:47\n",
            "79.0%\t395000\t-861541.5143957892\t299.3219177133607\t83.6\t3:36\n",
            "80.0%\t400000\t-860370.0143957892\t299.48942351375314\t83.6\t3:26\n",
            "81.0%\t405000\t-860137.2643957892\t300.2332284953905\t83.6\t3:16\n",
            "82.0%\t410000\t-860384.2643957892\t300.2081750342149\t83.6\t3:05\n",
            "83.0%\t415000\t-860816.5143957892\t301.56025945851366\t83.6\t2:55\n",
            "84.0%\t420000\t-858856.0143957892\t300.46290030073936\t83.6\t2:45\n",
            "85.0%\t425000\t-861680.0143957892\t301.8872961716294\t83.6\t2:34\n",
            "86.0%\t430000\t-860567.0143957892\t296.45538412382155\t83.6\t2:24\n",
            "87.0%\t435000\t-858953.5143957892\t301.8934288887312\t83.6\t2:14\n",
            "88.0%\t440000\t-862091.0143957892\t300.63506316374924\t83.6\t2:04\n",
            "89.0%\t445000\t-860439.7643957892\t301.80229135508023\t83.6\t1:53\n",
            "90.0%\t450000\t-860333.5143957892\t300.359747025981\t83.6\t1:43\n",
            "91.0%\t455000\t-859835.0143957892\t301.40711863912173\t83.6\t1:33\n",
            "92.0%\t460000\t-859297.0143957892\t298.7806984731907\t83.6\t1:22\n",
            "93.0%\t465000\t-860919.7643957892\t300.390402056001\t83.6\t1:12\n",
            "94.0%\t470000\t-860261.0143957892\t300.23048495357455\t83.6\t1:02\n",
            "95.0%\t475000\t-859225.5143957892\t300.2114762949582\t83.6\t0:51\n",
            "96.0%\t480000\t-861986.5143957892\t299.61564465620853\t83.6\t0:41\n",
            "97.0%\t485000\t-859680.7643957892\t298.9796557899002\t83.6\t0:31\n",
            "98.0%\t490000\t-859931.7643957892\t301.21232221825306\t83.6\t0:20\n",
            "99.0%\t495000\t-859600.5143957892\t300.5743602213343\t83.6\t0:10\n",
            "100.0%\t500000\t-859351.5143957892\t299.4127146949694\t83.6\t0:00\n"
          ],
          "name": "stdout"
        }
      ]
    },
    {
      "cell_type": "markdown",
      "metadata": {
        "id": "M_Wf2prXqoif"
      },
      "source": [
        "#### Download Results"
      ]
    },
    {
      "cell_type": "code",
      "metadata": {
        "id": "FfcMX8G1i0RY",
        "outputId": "ba617575-07e5-482f-a09f-cc95c0bee6a6",
        "colab": {
          "base_uri": "https://localhost:8080/",
          "height": 17
        }
      },
      "source": [
        "files.download('data/MD_system.pdb')\n",
        "files.download('data/trajectory.dcd')"
      ],
      "execution_count": null,
      "outputs": [
        {
          "output_type": "display_data",
          "data": {
            "application/javascript": [
              "\n",
              "    async function download(id, filename, size) {\n",
              "      if (!google.colab.kernel.accessAllowed) {\n",
              "        return;\n",
              "      }\n",
              "      const div = document.createElement('div');\n",
              "      const label = document.createElement('label');\n",
              "      label.textContent = `Downloading \"${filename}\": `;\n",
              "      div.appendChild(label);\n",
              "      const progress = document.createElement('progress');\n",
              "      progress.max = size;\n",
              "      div.appendChild(progress);\n",
              "      document.body.appendChild(div);\n",
              "\n",
              "      const buffers = [];\n",
              "      let downloaded = 0;\n",
              "\n",
              "      const channel = await google.colab.kernel.comms.open(id);\n",
              "      // Send a message to notify the kernel that we're ready.\n",
              "      channel.send({})\n",
              "\n",
              "      for await (const message of channel.messages) {\n",
              "        // Send a message to notify the kernel that we're ready.\n",
              "        channel.send({})\n",
              "        if (message.buffers) {\n",
              "          for (const buffer of message.buffers) {\n",
              "            buffers.push(buffer);\n",
              "            downloaded += buffer.byteLength;\n",
              "            progress.value = downloaded;\n",
              "          }\n",
              "        }\n",
              "      }\n",
              "      const blob = new Blob(buffers, {type: 'application/binary'});\n",
              "      const a = document.createElement('a');\n",
              "      a.href = window.URL.createObjectURL(blob);\n",
              "      a.download = filename;\n",
              "      div.appendChild(a);\n",
              "      a.click();\n",
              "      div.remove();\n",
              "    }\n",
              "  "
            ],
            "text/plain": [
              "<IPython.core.display.Javascript object>"
            ]
          },
          "metadata": {
            "tags": []
          }
        },
        {
          "output_type": "display_data",
          "data": {
            "application/javascript": [
              "download(\"download_6e44f14f-8166-452c-a8c0-10b36b2ccbcf\", \"MD_system.pdb\", 5253885)"
            ],
            "text/plain": [
              "<IPython.core.display.Javascript object>"
            ]
          },
          "metadata": {
            "tags": []
          }
        }
      ]
    },
    {
      "cell_type": "markdown",
      "metadata": {
        "id": "aAleBNfKyhCd"
      },
      "source": [
        "We have successfully ran a MD simulation! If you want to know how to visualize the results, you can refer to the next notebook in the repository.   \n",
        "   \n",
        "As last I would like to add a quick note about the run-time. We saw that running this kind of simulations can be quite computationally expensive and long. Here on Google Colaboratory we achieved a speed of 3.7 ns/day, which is manageable but still slow, especially if we need to run longer simulations and multiple times with different settings. I also tried running the same simulation on a Ubuntu VM on Virtualbox (Windows 10 host), achieving 1 ns/day as speed. Given that it was running on 4 virtual cores (host processor Intel core i7 8th gen) and not on the host machine 8 cores, it was probably a bit slower than it could have been, but it is clear that CPU is not the way to go for such applications. GPU parallel computations allow to reduce the run time exponentially and should always be preferred.  "
      ]
    }
  ]
}