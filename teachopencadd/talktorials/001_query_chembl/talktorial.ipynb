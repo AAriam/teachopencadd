{
 "cells": [
  {
   "cell_type": "markdown",
   "metadata": {},
   "source": [
    "# Compound data acquisition (ChEMBL)\n",
    "\n",
    "Authors:\n",
    "\n",
    "- Svetlana Leng, CADD seminar 2017, Volkamer lab, Charité/FU Berlin \n",
    "- Paula Junge, CADD seminar 2018, Volkamer lab, Charité/FU Berlin\n",
    "- Dominique Sydow, 2019-2020, [Volkamer lab, Charité](https://volkamerlab.org/)\n",
    "- Andrea Volkamer, 2020, [Volkamer lab, Charité](https://volkamerlab.org/)\n",
    "- Yonghui Chen, 2020, [Volkamer lab, Charité](https://volkamerlab.org/)"
   ]
  },
  {
   "cell_type": "markdown",
   "metadata": {},
   "source": [
    "__Talktorial T001__: This talktorial is part of the TeachOpenCADD pipeline described in the [first TeachOpenCADD paper](https://jcheminf.biomedcentral.com/articles/10.1186/s13321-019-0351-x), comprising of talktorials T001-T010."
   ]
  },
  {
   "cell_type": "markdown",
   "metadata": {},
   "source": [
    "## Aim of this talktorial\n",
    "\n",
    "In thus notebook, we will learn more about the ChEMBL database and how to extract data from ChEMBL, i.e. (compound, activity data) pairs for a target of interest. These data sets can be used for many cheminformatics tasks, such as similarity search, clustering or machine learning.\n",
    "\n",
    "Our work here will include finding compounds which were tested against a certain target and filtering available bioactivity data."
   ]
  },
  {
   "cell_type": "markdown",
   "metadata": {},
   "source": [
    "### Contents in *Theory*\n",
    "\n",
    "* ChEMBL database\n",
    "    * ChEMBL web services\n",
    "    * ChEMBL webresource client\n",
    "* Compound activity measures\n",
    "    * IC50 measure\n",
    "    * pIC50 value"
   ]
  },
  {
   "cell_type": "markdown",
   "metadata": {},
   "source": [
    "### Contents in *Practical*\n",
    "    \n",
    "**Goal: Get a list of compounds with bioactivity data for a given target**\n",
    "\n",
    "* Connect to ChEMBL database\n",
    "* Get target data (example: EGFR kinase)\n",
    "    * Fetch and download target data\n",
    "    * Select target ChEMBL ID\n",
    "* Get bioactivity data\n",
    "    * Fetch and download bioactivity data for target\n",
    "    * Preprocess and filter bioactivities\n",
    "* Get compound data\n",
    "    * Fetch and download compound data\n",
    "    * Preprocess and filter compound data\n",
    "* Output bioactivity-compound data\n",
    "    * Merge bioactivity and compound data, and add pIC50 values\n",
    "    * Draw molecules with highest pIC50\n",
    "    * Write output file"
   ]
  },
  {
   "cell_type": "markdown",
   "metadata": {},
   "source": [
    "### References\n",
    "\n",
    "* ChEMBL bioactivity database: [Gaulton *et al.*, <i>Nucleic Acids Res.</i> (2017), 45(Database issue), D945–D954](https://www.ncbi.nlm.nih.gov/pmc/articles/PMC5210557/)\n",
    "* ChEMBL web services: [Davies *et al.*, <i>Nucleic Acids Res.</i> (2015), <b>43</b>, 612-620](https://academic.oup.com/nar/article/43/W1/W612/2467881) \n",
    "* [ChEMBL web-interface](https://www.ebi.ac.uk/chembl/)\n",
    "*  GitHub [ChEMBL webrescource client](https://github.com/chembl/chembl_webresource_client)\n",
    "* [myChEMBL web services version 2.x](https://github.com/chembl/mychembl/blob/master/ipython_notebooks/09_myChEMBL_web_services.ipynb)\n",
    "* The EBI RDF platform: [Jupp *et al.*, <i>Bioinformatics </i> (2014), 30(9), 1338-9](https://www.ncbi.nlm.nih.gov/pubmed/24413672)\n",
    "* Info on half maximal inhibitory concentration: [(p)IC50](https://en.wikipedia.org/wiki/IC50)\n",
    "* [UniProt website](https://www.uniprot.org/)"
   ]
  },
  {
   "cell_type": "markdown",
   "metadata": {},
   "source": [
    "## Theory"
   ]
  },
  {
   "cell_type": "markdown",
   "metadata": {},
   "source": [
    "### ChEMBL database\n",
    ">\"ChEMBL is a manually curated database of bioactive molecules with drug-like properties. It brings together chemical, bioactivity and genomic data to aid the translation of genomic information into effective new drugs.\" ([ChEMBL website](https://www.ebi.ac.uk/chembl/))\n",
    "\n",
    "* Open large-scale bioactivity database\n",
    "* **Current data content (as of 09.2020, ChEMBL 27):**\n",
    "    * \\>1.9 million distinct compounds\n",
    "    * \\>16 million activity values\n",
    "    * Assays are mapped to ~13,000 targets\n",
    "* **Data sources** include scientific literature, PubChem bioassays, Drugs for Neglected Diseases Initiative (DNDi), BindingDB database, ...\n",
    "* ChEMBL data can be accessed via a [web-interface](https://www.ebi.ac.uk/chembl/), the [EBI-RDF platform](https://www.ncbi.nlm.nih.gov/pubmed/24413672) and the [ChEMBL web services](https://github.com/chembl/mychembl/blob/master/ipython_notebooks/09_myChEMBL_web_services.ipynb)"
   ]
  },
  {
   "cell_type": "markdown",
   "metadata": {},
   "source": [
    "#### ChEMBL web services\n",
    "\n",
    "* RESTful web service\n",
    "* ChEMBL web service version 2.x resource schema: \n",
    "\n",
    "![ChEMBL web service schema](images/chembl_webservices_schema_diagram.jpg)\n",
    "\n",
    "*Figure 1:* \n",
    "\"[ChEMBL web service schema diagram](https://www.ncbi.nlm.nih.gov/pmc/articles/PMC4489243/figure/F2/). The oval shapes represent ChEMBL web service resources and the line between two resources indicates that they share a common attribute. The arrow direction shows where the primary information about a resource type can be found. A dashed line indicates the relationship between two resources behaves differently. For example, the `Image` resource provides a graphical based representation of a `Molecule`.\"\n",
    "Figure and description taken from: [<i>Nucleic Acids Res.</i> (2015), <b>43</b>, 612-620](https://academic.oup.com/nar/article/43/W1/W612/2467881)."
   ]
  },
  {
   "cell_type": "markdown",
   "metadata": {},
   "source": [
    "#### ChEMBL webresource client\n",
    "\n",
    "* Python client library for accessing ChEMBL data\n",
    "* Handles interaction with the HTTPS protocol\n",
    "* Lazy evaluation of results -> reduced number of network requests"
   ]
  },
  {
   "cell_type": "markdown",
   "metadata": {},
   "source": [
    "### Compound activity measures"
   ]
  },
  {
   "cell_type": "markdown",
   "metadata": {},
   "source": [
    "#### IC50 measure\n",
    "\n",
    "* [Half maximal inhibitory concentration](https://en.wikipedia.org/wiki/IC50)\n",
    "* Indicates how much of a particular drug or other substance is needed to inhibit a given biological process by half\n",
    "\n",
    "![Wiki_Example_IC50_curve_demonstrating_visually_how_IC50_is_derived](images/Wiki_Example_IC50_curve_demonstrating_visually_how_IC50_is_derived.png)\n",
    "\n",
    "*Figure 2:* Visual demonstration of how to derive an IC50 value: \n",
    "(i) Arrange inhibition data on y-axis and log(concentration) on x-axis. (ii) Identify maximum and minimum inhibition. (iii) The IC50 is the concentration at which the curve passes through the 50% inhibition level. Figure [\"Example IC50 curve demonstrating visually how IC50 is derived\"](https://en.wikipedia.org/wiki/IC50#/media/File:Example_IC50_curve_demonstrating_visually_how_IC50_is_derived.png) by JesseAlanGordon is licensed under [CC BY-SA 3.0](https://creativecommons.org/licenses/by-sa/3.0/)."
   ]
  },
  {
   "cell_type": "markdown",
   "metadata": {},
   "source": [
    "#### pIC50 value\n",
    "\n",
    "* To facilitate the comparison of IC50 values, which have a large value range and are given in different units (M, nM, ...), often pIC50 values are used\n",
    "* The pIC50 is the negative log of the IC50 value when converted to molar units: \n",
    "    $ pIC_{50} = -log_{10}(IC_{50}) $, where $ IC_{50}$ is specified in units of M\n",
    "* Higher pIC50 values indicate exponentially greater potency of the drug\n",
    "* Note that the conversion can be adapted to the respective IC50 unit, e.g. for nM: $pIC_{50} = -log_{10}(IC_{50}*10^{-9})= 9-log_{10}(IC_{50}) $\n",
    "\n",
    "Other activity measures:\n",
    "\n",
    "Besides, IC50 and pIC50, other bioactivity measures are used, such as the equilibrium constant [KI](https://en.wikipedia.org/wiki/Equilibrium_constant) and the half maximal effective concentration  [EC50](https://en.wikipedia.org/wiki/EC50)."
   ]
  },
  {
   "cell_type": "markdown",
   "metadata": {},
   "source": [
    "## Practical\n",
    "\n",
    "In the following, we want to download all molecules that have been tested against our target of interest, the **epidermal growth factor receptor** ([**EGFR**](https://www.uniprot.org/uniprot/P00533)) kinase."
   ]
  },
  {
   "cell_type": "markdown",
   "metadata": {},
   "source": [
    "### Connect to ChEMBL database"
   ]
  },
  {
   "cell_type": "markdown",
   "metadata": {},
   "source": [
    "First, the ChEMBL webresource client as well as other python libraries are imported."
   ]
  },
  {
   "cell_type": "code",
   "execution_count": 1,
   "metadata": {},
   "outputs": [],
   "source": [
    "import math\n",
    "from pathlib import Path\n",
    "from zipfile import ZipFile\n",
    "from tempfile import TemporaryDirectory\n",
    "import numpy as np\n",
    "import pandas as pd\n",
    "from rdkit.Chem import PandasTools\n",
    "from chembl_webresource_client.new_client import new_client"
   ]
  },
  {
   "cell_type": "code",
   "execution_count": 2,
   "metadata": {},
   "outputs": [],
   "source": [
    "HERE = Path(_dh[-1])\n",
    "DATA = HERE / \"data\""
   ]
  },
  {
   "cell_type": "markdown",
   "metadata": {},
   "source": [
    "Next, we create resource objects for API access."
   ]
  },
  {
   "cell_type": "code",
   "execution_count": 3,
   "metadata": {},
   "outputs": [],
   "source": [
    "targets_api = new_client.target\n",
    "compounds_api = new_client.molecule\n",
    "bioactivities_api = new_client.activity"
   ]
  },
  {
   "cell_type": "code",
   "execution_count": 4,
   "metadata": {},
   "outputs": [
    {
     "data": {
      "text/plain": [
       "chembl_webresource_client.query_set.QuerySet"
      ]
     },
     "execution_count": 4,
     "metadata": {},
     "output_type": "execute_result"
    }
   ],
   "source": [
    "type(targets_api)"
   ]
  },
  {
   "cell_type": "markdown",
   "metadata": {},
   "source": [
    "### Get target data (EGFR kinase)\n",
    "\n",
    "* Get UniProt ID of the target of interest (EGFR kinase:  [P00533](http://www.uniprot.org/uniprot/P00533)) from [UniProt website](https://www.uniprot.org/)\n",
    "* Use UniProt ID to get target information\n",
    "\n",
    "Select a different UniProt ID, if you are interested in another target."
   ]
  },
  {
   "cell_type": "code",
   "execution_count": 5,
   "metadata": {},
   "outputs": [],
   "source": [
    "uniprot_id = \"P00533\""
   ]
  },
  {
   "cell_type": "markdown",
   "metadata": {},
   "source": [
    "#### Fetch target data from ChEMBL"
   ]
  },
  {
   "cell_type": "code",
   "execution_count": 6,
   "metadata": {},
   "outputs": [
    {
     "name": "stdout",
     "output_type": "stream",
     "text": [
      "The type of the targets is \"<class 'chembl_webresource_client.query_set.QuerySet'>\"\n"
     ]
    }
   ],
   "source": [
    "# Get target information from ChEMBL but restrict it to specified values only\n",
    "targets = targets_api.get(\n",
    "    target_components__accession=uniprot_id\n",
    ").only(\n",
    "    \"target_chembl_id\", \n",
    "    \"organism\", \n",
    "    \"pref_name\", \n",
    "    \"target_type\"\n",
    ")\n",
    "print(f\"The type of the targets is \\\"{type(targets)}\\\"\")"
   ]
  },
  {
   "cell_type": "markdown",
   "metadata": {},
   "source": [
    "#### Download target data from ChEMBL\n",
    "\n",
    "The results of the query are stored in `targets`, a `QuerySet`, i.e. the results are not fetched from ChEMBL until we ask for it (here using `pandas.DataFrame.from_records`).\n",
    "\n",
    "More information about the `QuerySet` datatype:\n",
    "\n",
    "> QuerySets are lazy – the act of creating a QuerySet does not involve any database activity. You can stack filters together all day long, and Django will actually not run the query until the QuerySet is evaluated. \n",
    "([querysets-are-lazy](https://docs.djangoproject.com/en/3.0/topics/db/queries/#querysets-are-lazy))"
   ]
  },
  {
   "cell_type": "code",
   "execution_count": 7,
   "metadata": {},
   "outputs": [
    {
     "data": {
      "text/html": [
       "<div>\n",
       "<style scoped>\n",
       "    .dataframe tbody tr th:only-of-type {\n",
       "        vertical-align: middle;\n",
       "    }\n",
       "\n",
       "    .dataframe tbody tr th {\n",
       "        vertical-align: top;\n",
       "    }\n",
       "\n",
       "    .dataframe thead th {\n",
       "        text-align: right;\n",
       "    }\n",
       "</style>\n",
       "<table border=\"1\" class=\"dataframe\">\n",
       "  <thead>\n",
       "    <tr style=\"text-align: right;\">\n",
       "      <th></th>\n",
       "      <th>organism</th>\n",
       "      <th>pref_name</th>\n",
       "      <th>target_chembl_id</th>\n",
       "      <th>target_type</th>\n",
       "    </tr>\n",
       "  </thead>\n",
       "  <tbody>\n",
       "    <tr>\n",
       "      <th>0</th>\n",
       "      <td>Homo sapiens</td>\n",
       "      <td>Epidermal growth factor receptor erbB1</td>\n",
       "      <td>CHEMBL203</td>\n",
       "      <td>SINGLE PROTEIN</td>\n",
       "    </tr>\n",
       "    <tr>\n",
       "      <th>1</th>\n",
       "      <td>Homo sapiens</td>\n",
       "      <td>Epidermal growth factor receptor erbB1</td>\n",
       "      <td>CHEMBL203</td>\n",
       "      <td>SINGLE PROTEIN</td>\n",
       "    </tr>\n",
       "    <tr>\n",
       "      <th>2</th>\n",
       "      <td>Homo sapiens</td>\n",
       "      <td>Epidermal growth factor receptor and ErbB2 (HE...</td>\n",
       "      <td>CHEMBL2111431</td>\n",
       "      <td>PROTEIN FAMILY</td>\n",
       "    </tr>\n",
       "    <tr>\n",
       "      <th>3</th>\n",
       "      <td>Homo sapiens</td>\n",
       "      <td>Epidermal growth factor receptor</td>\n",
       "      <td>CHEMBL2363049</td>\n",
       "      <td>PROTEIN FAMILY</td>\n",
       "    </tr>\n",
       "    <tr>\n",
       "      <th>4</th>\n",
       "      <td>Homo sapiens</td>\n",
       "      <td>MER intracellular domain/EGFR extracellular do...</td>\n",
       "      <td>CHEMBL3137284</td>\n",
       "      <td>CHIMERIC PROTEIN</td>\n",
       "    </tr>\n",
       "  </tbody>\n",
       "</table>\n",
       "</div>"
      ],
      "text/plain": [
       "       organism                                          pref_name  \\\n",
       "0  Homo sapiens             Epidermal growth factor receptor erbB1   \n",
       "1  Homo sapiens             Epidermal growth factor receptor erbB1   \n",
       "2  Homo sapiens  Epidermal growth factor receptor and ErbB2 (HE...   \n",
       "3  Homo sapiens                   Epidermal growth factor receptor   \n",
       "4  Homo sapiens  MER intracellular domain/EGFR extracellular do...   \n",
       "\n",
       "  target_chembl_id       target_type  \n",
       "0        CHEMBL203    SINGLE PROTEIN  \n",
       "1        CHEMBL203    SINGLE PROTEIN  \n",
       "2    CHEMBL2111431    PROTEIN FAMILY  \n",
       "3    CHEMBL2363049    PROTEIN FAMILY  \n",
       "4    CHEMBL3137284  CHIMERIC PROTEIN  "
      ]
     },
     "execution_count": 7,
     "metadata": {},
     "output_type": "execute_result"
    }
   ],
   "source": [
    "targets = pd.DataFrame.from_records(targets)\n",
    "targets"
   ]
  },
  {
   "cell_type": "markdown",
   "metadata": {},
   "source": [
    "#### Select target (target ChEMBL ID)\n",
    "\n",
    "After checking the entries, we select the first entry as our target of interest:\n",
    "\n",
    "`CHEMBL203`: It is a single protein and represents the human Epidermal growth factor receptor (EGFR, also named erbB1) "
   ]
  },
  {
   "cell_type": "code",
   "execution_count": 8,
   "metadata": {},
   "outputs": [
    {
     "data": {
      "text/plain": [
       "organism                                      Homo sapiens\n",
       "pref_name           Epidermal growth factor receptor erbB1\n",
       "target_chembl_id                                 CHEMBL203\n",
       "target_type                                 SINGLE PROTEIN\n",
       "Name: 0, dtype: object"
      ]
     },
     "execution_count": 8,
     "metadata": {},
     "output_type": "execute_result"
    }
   ],
   "source": [
    "target = targets.iloc[0]\n",
    "target"
   ]
  },
  {
   "cell_type": "markdown",
   "metadata": {},
   "source": [
    "Save selected ChEMBL ID."
   ]
  },
  {
   "cell_type": "code",
   "execution_count": 9,
   "metadata": {},
   "outputs": [
    {
     "name": "stdout",
     "output_type": "stream",
     "text": [
      "The target ChEMBL ID is CHEMBL203\n"
     ]
    }
   ],
   "source": [
    "chembl_id = target.target_chembl_id\n",
    "print(f\"The target ChEMBL ID is {chembl_id}\")\n",
    "# TODO: CI"
   ]
  },
  {
   "cell_type": "markdown",
   "metadata": {},
   "source": [
    "### Get bioactivity data\n",
    "\n",
    "Now, we want to query bioactivity data for the target of interest."
   ]
  },
  {
   "cell_type": "markdown",
   "metadata": {},
   "source": [
    "#### Fetch bioactivity data for the target from ChEMBL"
   ]
  },
  {
   "cell_type": "markdown",
   "metadata": {},
   "source": [
    "In this step, we fetch the bioactivity data and filter it to only consider\n",
    "\n",
    "* human proteins, \n",
    "* bioactivity type IC50, \n",
    "* exact measurements (relation `'='`), and\n",
    "* binding data (assay type `'B'`)."
   ]
  },
  {
   "cell_type": "code",
   "execution_count": 10,
   "metadata": {},
   "outputs": [
    {
     "name": "stdout",
     "output_type": "stream",
     "text": [
      "Length and type of bioactivities object: 7177, <class 'chembl_webresource_client.query_set.QuerySet'>\n"
     ]
    }
   ],
   "source": [
    "bioactivities = bioactivities_api.filter(\n",
    "    target_chembl_id=chembl_id, type=\"IC50\", relation=\"=\", assay_type=\"B\"\n",
    ").only(\n",
    "    \"activity_id\",\n",
    "    \"assay_chembl_id\",\n",
    "    \"assay_description\",\n",
    "    \"assay_type\",\n",
    "    \"molecule_chembl_id\",\n",
    "    \"type\",\n",
    "    \"standard_units\",\n",
    "    \"relation\",\n",
    "    \"standard_value\",\n",
    "    \"target_chembl_id\",\n",
    "    \"target_organism\",\n",
    ")\n",
    "\n",
    "print(\n",
    "    f\"Length and type of bioactivities object: {len(bioactivities)}, {type(bioactivities)}\"\n",
    ")\n",
    "# TODO: CI"
   ]
  },
  {
   "cell_type": "markdown",
   "metadata": {},
   "source": [
    "Our bioactivity set contains 7177 entries, each holding the following information."
   ]
  },
  {
   "cell_type": "code",
   "execution_count": 11,
   "metadata": {},
   "outputs": [
    {
     "name": "stdout",
     "output_type": "stream",
     "text": [
      "Length and type of first element: 13, <class 'dict'>\n"
     ]
    },
    {
     "data": {
      "text/plain": [
       "{'activity_id': 32260,\n",
       " 'assay_chembl_id': 'CHEMBL674637',\n",
       " 'assay_description': 'Inhibitory activity towards tyrosine phosphorylation for the epidermal growth factor-receptor kinase',\n",
       " 'assay_type': 'B',\n",
       " 'molecule_chembl_id': 'CHEMBL68920',\n",
       " 'relation': '=',\n",
       " 'standard_units': 'nM',\n",
       " 'standard_value': '41.0',\n",
       " 'target_chembl_id': 'CHEMBL203',\n",
       " 'target_organism': 'Homo sapiens',\n",
       " 'type': 'IC50',\n",
       " 'units': 'uM',\n",
       " 'value': '0.041'}"
      ]
     },
     "execution_count": 11,
     "metadata": {},
     "output_type": "execute_result"
    }
   ],
   "source": [
    "print(f\"Length and type of first element: {len(bioactivities[0])}, {type(bioactivities[0])}\")\n",
    "bioactivities[0]"
   ]
  },
  {
   "cell_type": "markdown",
   "metadata": {},
   "source": [
    "#### Download bioactivity data from ChEMBL"
   ]
  },
  {
   "cell_type": "markdown",
   "metadata": {},
   "source": [
    "Finally, we download the `QuerySet` in the form of a `pandas` `DataFrame`. \n",
    "\n",
    "> **Note**: This step should not take more than 2 minutes, if so try to rerun all cells starting from _\"Fetch bioactivity data for the target from ChEMBL\"_ or read this message below:\n",
    "\n",
    "<details>\n",
    "    \n",
    "<summary>Load a local version of the data</summary>\n",
    "    \n",
    "If you experience difficulties to query the ChEMBL database, we also provide the resulting dataframe you will construct in the cell below. If you want to use the saved version, use the following code instead to obtain `bioactivities_df`:\n",
    "  \n",
    "```python\n",
    "# replace first line in cell below with this other line\n",
    "bioactivities_df = pd.read_csv(DATA / \"EGFR_compounds_CHEMBL27.csv.zip\", index_col=0)\n",
    "```\n",
    "\n",
    "</details>"
   ]
  },
  {
   "cell_type": "code",
   "execution_count": null,
   "metadata": {},
   "outputs": [],
   "source": [
    "bioactivities_df = pd.DataFrame.from_records(bioactivities)\n",
    "print(f\"DataFrame shape: {bioactivities_df.shape}\")\n",
    "bioactivities_df.head()"
   ]
  },
  {
   "cell_type": "markdown",
   "metadata": {},
   "source": [
    "Note, that we have columns for `standard_units`/`units` and `standard_values`/`values` - in the following we will use the standardized columns (standardization by ChEMBL). Thus, we drop the other two columns.\n",
    "\n",
    "If we used the `units` and `values` columns, we would need to convert all values with many different units to nM:"
   ]
  },
  {
   "cell_type": "code",
   "execution_count": 13,
   "metadata": {},
   "outputs": [
    {
     "data": {
      "text/plain": [
       "array(['uM', 'nM', 'pM', 'M', \"10'3 uM\", \"10'1 ug/ml\", 'ug ml-1',\n",
       "       \"10'-1microM\", \"10'1 uM\", \"10'-1 ug/ml\", \"10'-2 ug/ml\", \"10'2 uM\",\n",
       "       \"10'-3 ug/ml\", \"10'-2microM\", '/uM', \"10'-6g/ml\", 'mM', 'umol/L',\n",
       "       'nmol/L', \"10'-10M\"], dtype=object)"
      ]
     },
     "execution_count": 13,
     "metadata": {},
     "output_type": "execute_result"
    }
   ],
   "source": [
    "bioactivities_df[\"units\"].unique()"
   ]
  },
  {
   "cell_type": "code",
   "execution_count": 14,
   "metadata": {},
   "outputs": [
    {
     "data": {
      "text/html": [
       "<div>\n",
       "<style scoped>\n",
       "    .dataframe tbody tr th:only-of-type {\n",
       "        vertical-align: middle;\n",
       "    }\n",
       "\n",
       "    .dataframe tbody tr th {\n",
       "        vertical-align: top;\n",
       "    }\n",
       "\n",
       "    .dataframe thead th {\n",
       "        text-align: right;\n",
       "    }\n",
       "</style>\n",
       "<table border=\"1\" class=\"dataframe\">\n",
       "  <thead>\n",
       "    <tr style=\"text-align: right;\">\n",
       "      <th></th>\n",
       "      <th>activity_id</th>\n",
       "      <th>assay_chembl_id</th>\n",
       "      <th>assay_description</th>\n",
       "      <th>assay_type</th>\n",
       "      <th>molecule_chembl_id</th>\n",
       "      <th>relation</th>\n",
       "      <th>standard_units</th>\n",
       "      <th>standard_value</th>\n",
       "      <th>target_chembl_id</th>\n",
       "      <th>target_organism</th>\n",
       "      <th>type</th>\n",
       "    </tr>\n",
       "  </thead>\n",
       "  <tbody>\n",
       "    <tr>\n",
       "      <th>0</th>\n",
       "      <td>32260</td>\n",
       "      <td>CHEMBL674637</td>\n",
       "      <td>Inhibitory activity towards tyrosine phosphory...</td>\n",
       "      <td>B</td>\n",
       "      <td>CHEMBL68920</td>\n",
       "      <td>=</td>\n",
       "      <td>nM</td>\n",
       "      <td>41.0</td>\n",
       "      <td>CHEMBL203</td>\n",
       "      <td>Homo sapiens</td>\n",
       "      <td>IC50</td>\n",
       "    </tr>\n",
       "    <tr>\n",
       "      <th>1</th>\n",
       "      <td>32260</td>\n",
       "      <td>CHEMBL674637</td>\n",
       "      <td>Inhibitory activity towards tyrosine phosphory...</td>\n",
       "      <td>B</td>\n",
       "      <td>CHEMBL68920</td>\n",
       "      <td>=</td>\n",
       "      <td>nM</td>\n",
       "      <td>41.0</td>\n",
       "      <td>CHEMBL203</td>\n",
       "      <td>Homo sapiens</td>\n",
       "      <td>IC50</td>\n",
       "    </tr>\n",
       "    <tr>\n",
       "      <th>2</th>\n",
       "      <td>32267</td>\n",
       "      <td>CHEMBL674637</td>\n",
       "      <td>Inhibitory activity towards tyrosine phosphory...</td>\n",
       "      <td>B</td>\n",
       "      <td>CHEMBL69960</td>\n",
       "      <td>=</td>\n",
       "      <td>nM</td>\n",
       "      <td>170.0</td>\n",
       "      <td>CHEMBL203</td>\n",
       "      <td>Homo sapiens</td>\n",
       "      <td>IC50</td>\n",
       "    </tr>\n",
       "    <tr>\n",
       "      <th>3</th>\n",
       "      <td>32680</td>\n",
       "      <td>CHEMBL677833</td>\n",
       "      <td>In vitro inhibition of Epidermal growth factor...</td>\n",
       "      <td>B</td>\n",
       "      <td>CHEMBL137635</td>\n",
       "      <td>=</td>\n",
       "      <td>nM</td>\n",
       "      <td>9300.0</td>\n",
       "      <td>CHEMBL203</td>\n",
       "      <td>Homo sapiens</td>\n",
       "      <td>IC50</td>\n",
       "    </tr>\n",
       "    <tr>\n",
       "      <th>4</th>\n",
       "      <td>32770</td>\n",
       "      <td>CHEMBL674643</td>\n",
       "      <td>Inhibitory concentration of EGF dependent auto...</td>\n",
       "      <td>B</td>\n",
       "      <td>CHEMBL306988</td>\n",
       "      <td>=</td>\n",
       "      <td>nM</td>\n",
       "      <td>500000.0</td>\n",
       "      <td>CHEMBL203</td>\n",
       "      <td>Homo sapiens</td>\n",
       "      <td>IC50</td>\n",
       "    </tr>\n",
       "  </tbody>\n",
       "</table>\n",
       "</div>"
      ],
      "text/plain": [
       "   activity_id assay_chembl_id  \\\n",
       "0        32260    CHEMBL674637   \n",
       "1        32260    CHEMBL674637   \n",
       "2        32267    CHEMBL674637   \n",
       "3        32680    CHEMBL677833   \n",
       "4        32770    CHEMBL674643   \n",
       "\n",
       "                                   assay_description assay_type  \\\n",
       "0  Inhibitory activity towards tyrosine phosphory...          B   \n",
       "1  Inhibitory activity towards tyrosine phosphory...          B   \n",
       "2  Inhibitory activity towards tyrosine phosphory...          B   \n",
       "3  In vitro inhibition of Epidermal growth factor...          B   \n",
       "4  Inhibitory concentration of EGF dependent auto...          B   \n",
       "\n",
       "  molecule_chembl_id relation standard_units  standard_value target_chembl_id  \\\n",
       "0        CHEMBL68920        =             nM            41.0        CHEMBL203   \n",
       "1        CHEMBL68920        =             nM            41.0        CHEMBL203   \n",
       "2        CHEMBL69960        =             nM           170.0        CHEMBL203   \n",
       "3       CHEMBL137635        =             nM          9300.0        CHEMBL203   \n",
       "4       CHEMBL306988        =             nM        500000.0        CHEMBL203   \n",
       "\n",
       "  target_organism  type  \n",
       "0    Homo sapiens  IC50  \n",
       "1    Homo sapiens  IC50  \n",
       "2    Homo sapiens  IC50  \n",
       "3    Homo sapiens  IC50  \n",
       "4    Homo sapiens  IC50  "
      ]
     },
     "execution_count": 14,
     "metadata": {},
     "output_type": "execute_result"
    }
   ],
   "source": [
    "bioactivities_df.drop([\"units\", \"value\"], axis=1, inplace=True)\n",
    "bioactivities_df.head()"
   ]
  },
  {
   "cell_type": "markdown",
   "metadata": {},
   "source": [
    "#### Freeze bioactivity data to ChEMBL 27\n",
    "\n",
    "This is a technical step: Usually, we would continue to work with the dataset that we just downloaded (latest dataset). \n",
    "\n",
    "However, here on the TeachOpenCADD platform, we prefer to freeze the dataset to a certain ChEMBL releases (i.e. [ChEMBL 27](http://doi.org/10.6019/CHEMBL.database.27)), \n",
    "so that this talktorial and other talktorials downstream in our CADD pipeline do not change in the future (helping us to maintain the talktorials)."
   ]
  },
  {
   "cell_type": "markdown",
   "metadata": {},
   "source": [
    "This cell will load bioactivity IDs in ChEMBL 27 release from file `data/chembl27_activities.npz.zip`. We have to uncompress it to a temporary file first, and then load it with `numpy`.\n",
    "\n",
    "If you are interested, you can check out how this file was generated in `data/all_chembl_activities.ipynb`."
   ]
  },
  {
   "cell_type": "code",
   "execution_count": 15,
   "metadata": {},
   "outputs": [
    {
     "name": "stdout",
     "output_type": "stream",
     "text": [
      "Number of bioactivity values in full ChEMBL 27 release: 16066124\n"
     ]
    }
   ],
   "source": [
    "with ZipFile(DATA / \"chembl27_activities.npz.zip\") as z, TemporaryDirectory() as tmpdir:\n",
    "    z.extract(\"chembl27_activities.npz\", tmpdir)\n",
    "    with np.load(Path(tmpdir) / \"chembl27_activities.npz\") as f:\n",
    "        bioactivity_ids_chembl_27 = set(f[\"activities\"])\n",
    "\n",
    "print(f\"Number of bioactivity values in full ChEMBL 27 release: {len(bioactivity_ids_chembl_27)}\")\n",
    "# TODO CI"
   ]
  },
  {
   "cell_type": "markdown",
   "metadata": {},
   "source": [
    "Keep only bioactivities with bioactivity IDs from the ChEMBL 27 release."
   ]
  },
  {
   "cell_type": "code",
   "execution_count": 16,
   "metadata": {},
   "outputs": [
    {
     "name": "stdout",
     "output_type": "stream",
     "text": [
      "Number of bioactivities queried for EGFR in this notebook: 7178\n",
      "Number of bioactivities after ChEMBL 27 intersection: 7178\n"
     ]
    }
   ],
   "source": [
    "print(f\"Number of bioactivities queried for EGFR in this notebook: {bioactivities_df.shape[0]}\")\n",
    "# Get the intersection between the current and the frozen ChEMBL version\n",
    "bioactivities_df = bioactivities_df[\n",
    "    bioactivities_df[\"activity_id\"].isin(bioactivity_ids_chembl_27)\n",
    "].copy()\n",
    "# TODO CI\n",
    "print(f\"Number of bioactivities after ChEMBL 27 intersection: {bioactivities_df.shape[0]}\")"
   ]
  },
  {
   "cell_type": "markdown",
   "metadata": {},
   "source": [
    "Note: If these numbers are the same, it means the latest ChEMBL release is still ChEMBL 27. \n",
    "\n",
    "You can check out the current [ChEMBL](https://chembl.gitbook.io/chembl-interface-documentation/downloads) release."
   ]
  },
  {
   "cell_type": "markdown",
   "metadata": {},
   "source": [
    "#### Preprocess and filter bioactivity data\n",
    "\n",
    "1. Convert `standard_value`'s datatype from `object` to `float`\n",
    "2. Delete entries with missing values\n",
    "3. Keep only entries with `standard_unit == nM`\n",
    "4. Delete duplicate molecules\n",
    "5. Reset `DataFrame` index\n",
    "6. Rename columns"
   ]
  },
  {
   "cell_type": "markdown",
   "metadata": {},
   "source": [
    "**1. Convert `standard_value`'s datatype from `object` to `float`**\n",
    "\n",
    "The field `standard_value` holds standardized (here IC50) values. In order to make these values usable in calculations later on, convert values to floats."
   ]
  },
  {
   "cell_type": "code",
   "execution_count": 17,
   "metadata": {},
   "outputs": [
    {
     "data": {
      "text/plain": [
       "activity_id             int64\n",
       "assay_chembl_id        object\n",
       "assay_description      object\n",
       "assay_type             object\n",
       "molecule_chembl_id     object\n",
       "relation               object\n",
       "standard_units         object\n",
       "standard_value        float64\n",
       "target_chembl_id       object\n",
       "target_organism        object\n",
       "type                   object\n",
       "dtype: object"
      ]
     },
     "execution_count": 17,
     "metadata": {},
     "output_type": "execute_result"
    }
   ],
   "source": [
    "bioactivities_df.dtypes"
   ]
  },
  {
   "cell_type": "code",
   "execution_count": 18,
   "metadata": {},
   "outputs": [
    {
     "data": {
      "text/plain": [
       "activity_id             int64\n",
       "assay_chembl_id        object\n",
       "assay_description      object\n",
       "assay_type             object\n",
       "molecule_chembl_id     object\n",
       "relation               object\n",
       "standard_units         object\n",
       "standard_value        float64\n",
       "target_chembl_id       object\n",
       "target_organism        object\n",
       "type                   object\n",
       "dtype: object"
      ]
     },
     "execution_count": 18,
     "metadata": {},
     "output_type": "execute_result"
    }
   ],
   "source": [
    "bioactivities_df = bioactivities_df.astype({\"standard_value\": \"float64\"})\n",
    "bioactivities_df.dtypes"
   ]
  },
  {
   "cell_type": "markdown",
   "metadata": {},
   "source": [
    "**2. Delete entries with missing values**\n",
    "\n",
    "Use the parameter `inplace=True` to drop values in the current `DataFrame` directly."
   ]
  },
  {
   "cell_type": "code",
   "execution_count": 19,
   "metadata": {},
   "outputs": [
    {
     "name": "stdout",
     "output_type": "stream",
     "text": [
      "DataFrame shape: (7177, 11)\n"
     ]
    }
   ],
   "source": [
    "bioactivities_df.dropna(\n",
    "    axis=0, \n",
    "    how=\"any\", \n",
    "    inplace=True\n",
    ")\n",
    "print(f\"DataFrame shape: {bioactivities_df.shape}\")"
   ]
  },
  {
   "cell_type": "markdown",
   "metadata": {},
   "source": [
    "**3. Keep only entries with `standard_unit == nM`**\n",
    "\n",
    "We only want to keep bioactivity entries in `nM`, thus we remove all entries with other units."
   ]
  },
  {
   "cell_type": "code",
   "execution_count": 32,
   "metadata": {},
   "outputs": [
    {
     "name": "stdout",
     "output_type": "stream",
     "text": [
      "Units in downloaded data: ['nM']\n",
      "Number of non-nM entries:    0\n"
     ]
    }
   ],
   "source": [
    "print(f\"Units in downloaded data: {bioactivities_df['standard_units'].unique()}\")\n",
    "print(\n",
    "    f\"Number of non-nM entries:\\\n",
    "    {bioactivities_df[bioactivities_df['standard_units'] != 'nM'].shape[0]}\"\n",
    ")"
   ]
  },
  {
   "cell_type": "code",
   "execution_count": 33,
   "metadata": {},
   "outputs": [
    {
     "name": "stdout",
     "output_type": "stream",
     "text": [
      "Units after filtering: ['nM']\n"
     ]
    }
   ],
   "source": [
    "bioactivities_df = bioactivities_df[bioactivities_df[\"standard_units\"] == 'nM']\n",
    "print(f\"Units after filtering: {bioactivities_df['standard_units'].unique()}\")"
   ]
  },
  {
   "cell_type": "code",
   "execution_count": 34,
   "metadata": {},
   "outputs": [
    {
     "name": "stdout",
     "output_type": "stream",
     "text": [
      "DataFrame shape: (7113, 11)\n"
     ]
    }
   ],
   "source": [
    "print(f\"DataFrame shape: {bioactivities_df.shape}\")"
   ]
  },
  {
   "cell_type": "markdown",
   "metadata": {},
   "source": [
    "**4. Delete duplicate molecules**\n",
    "\n",
    "Sometimes the same molecule (`molecule_chembl_id`) has been tested more than once, in this case, we only keep the first one.\n",
    "\n",
    "Note other choices could be to keep the one with the best value or a mean value of all assay results for the respective compound."
   ]
  },
  {
   "cell_type": "code",
   "execution_count": 35,
   "metadata": {},
   "outputs": [
    {
     "name": "stdout",
     "output_type": "stream",
     "text": [
      "DataFrame shape: (5451, 11)\n"
     ]
    }
   ],
   "source": [
    "bioactivities_df.drop_duplicates(\n",
    "    \"molecule_chembl_id\", \n",
    "    keep=\"first\", \n",
    "    inplace=True\n",
    ")\n",
    "print(f\"DataFrame shape: {bioactivities_df.shape}\")"
   ]
  },
  {
   "cell_type": "markdown",
   "metadata": {},
   "source": [
    "**5. Reset `DataFrame` index**\n",
    "\n",
    "Since we deleted some rows, but we want to iterate over the index later, we reset the index to be continuous."
   ]
  },
  {
   "cell_type": "code",
   "execution_count": 36,
   "metadata": {},
   "outputs": [
    {
     "data": {
      "text/html": [
       "<div>\n",
       "<style scoped>\n",
       "    .dataframe tbody tr th:only-of-type {\n",
       "        vertical-align: middle;\n",
       "    }\n",
       "\n",
       "    .dataframe tbody tr th {\n",
       "        vertical-align: top;\n",
       "    }\n",
       "\n",
       "    .dataframe thead th {\n",
       "        text-align: right;\n",
       "    }\n",
       "</style>\n",
       "<table border=\"1\" class=\"dataframe\">\n",
       "  <thead>\n",
       "    <tr style=\"text-align: right;\">\n",
       "      <th></th>\n",
       "      <th>activity_id</th>\n",
       "      <th>assay_chembl_id</th>\n",
       "      <th>assay_description</th>\n",
       "      <th>assay_type</th>\n",
       "      <th>molecule_chembl_id</th>\n",
       "      <th>relation</th>\n",
       "      <th>standard_units</th>\n",
       "      <th>standard_value</th>\n",
       "      <th>target_chembl_id</th>\n",
       "      <th>target_organism</th>\n",
       "      <th>type</th>\n",
       "    </tr>\n",
       "  </thead>\n",
       "  <tbody>\n",
       "    <tr>\n",
       "      <th>0</th>\n",
       "      <td>32260</td>\n",
       "      <td>CHEMBL674637</td>\n",
       "      <td>Inhibitory activity towards tyrosine phosphory...</td>\n",
       "      <td>B</td>\n",
       "      <td>CHEMBL68920</td>\n",
       "      <td>=</td>\n",
       "      <td>nM</td>\n",
       "      <td>41.0</td>\n",
       "      <td>CHEMBL203</td>\n",
       "      <td>Homo sapiens</td>\n",
       "      <td>IC50</td>\n",
       "    </tr>\n",
       "    <tr>\n",
       "      <th>1</th>\n",
       "      <td>32267</td>\n",
       "      <td>CHEMBL674637</td>\n",
       "      <td>Inhibitory activity towards tyrosine phosphory...</td>\n",
       "      <td>B</td>\n",
       "      <td>CHEMBL69960</td>\n",
       "      <td>=</td>\n",
       "      <td>nM</td>\n",
       "      <td>170.0</td>\n",
       "      <td>CHEMBL203</td>\n",
       "      <td>Homo sapiens</td>\n",
       "      <td>IC50</td>\n",
       "    </tr>\n",
       "    <tr>\n",
       "      <th>2</th>\n",
       "      <td>32680</td>\n",
       "      <td>CHEMBL677833</td>\n",
       "      <td>In vitro inhibition of Epidermal growth factor...</td>\n",
       "      <td>B</td>\n",
       "      <td>CHEMBL137635</td>\n",
       "      <td>=</td>\n",
       "      <td>nM</td>\n",
       "      <td>9300.0</td>\n",
       "      <td>CHEMBL203</td>\n",
       "      <td>Homo sapiens</td>\n",
       "      <td>IC50</td>\n",
       "    </tr>\n",
       "    <tr>\n",
       "      <th>3</th>\n",
       "      <td>32770</td>\n",
       "      <td>CHEMBL674643</td>\n",
       "      <td>Inhibitory concentration of EGF dependent auto...</td>\n",
       "      <td>B</td>\n",
       "      <td>CHEMBL306988</td>\n",
       "      <td>=</td>\n",
       "      <td>nM</td>\n",
       "      <td>500000.0</td>\n",
       "      <td>CHEMBL203</td>\n",
       "      <td>Homo sapiens</td>\n",
       "      <td>IC50</td>\n",
       "    </tr>\n",
       "    <tr>\n",
       "      <th>4</th>\n",
       "      <td>32772</td>\n",
       "      <td>CHEMBL674643</td>\n",
       "      <td>Inhibitory concentration of EGF dependent auto...</td>\n",
       "      <td>B</td>\n",
       "      <td>CHEMBL66879</td>\n",
       "      <td>=</td>\n",
       "      <td>nM</td>\n",
       "      <td>3000000.0</td>\n",
       "      <td>CHEMBL203</td>\n",
       "      <td>Homo sapiens</td>\n",
       "      <td>IC50</td>\n",
       "    </tr>\n",
       "  </tbody>\n",
       "</table>\n",
       "</div>"
      ],
      "text/plain": [
       "   activity_id assay_chembl_id  \\\n",
       "0        32260    CHEMBL674637   \n",
       "1        32267    CHEMBL674637   \n",
       "2        32680    CHEMBL677833   \n",
       "3        32770    CHEMBL674643   \n",
       "4        32772    CHEMBL674643   \n",
       "\n",
       "                                   assay_description assay_type  \\\n",
       "0  Inhibitory activity towards tyrosine phosphory...          B   \n",
       "1  Inhibitory activity towards tyrosine phosphory...          B   \n",
       "2  In vitro inhibition of Epidermal growth factor...          B   \n",
       "3  Inhibitory concentration of EGF dependent auto...          B   \n",
       "4  Inhibitory concentration of EGF dependent auto...          B   \n",
       "\n",
       "  molecule_chembl_id relation standard_units  standard_value target_chembl_id  \\\n",
       "0        CHEMBL68920        =             nM            41.0        CHEMBL203   \n",
       "1        CHEMBL69960        =             nM           170.0        CHEMBL203   \n",
       "2       CHEMBL137635        =             nM          9300.0        CHEMBL203   \n",
       "3       CHEMBL306988        =             nM        500000.0        CHEMBL203   \n",
       "4        CHEMBL66879        =             nM       3000000.0        CHEMBL203   \n",
       "\n",
       "  target_organism  type  \n",
       "0    Homo sapiens  IC50  \n",
       "1    Homo sapiens  IC50  \n",
       "2    Homo sapiens  IC50  \n",
       "3    Homo sapiens  IC50  \n",
       "4    Homo sapiens  IC50  "
      ]
     },
     "execution_count": 36,
     "metadata": {},
     "output_type": "execute_result"
    }
   ],
   "source": [
    "bioactivities_df.reset_index(drop=True, inplace=True) \n",
    "bioactivities_df.head()"
   ]
  },
  {
   "cell_type": "markdown",
   "metadata": {},
   "source": [
    "**6. Rename columns**"
   ]
  },
  {
   "cell_type": "code",
   "execution_count": 37,
   "metadata": {},
   "outputs": [
    {
     "data": {
      "text/html": [
       "<div>\n",
       "<style scoped>\n",
       "    .dataframe tbody tr th:only-of-type {\n",
       "        vertical-align: middle;\n",
       "    }\n",
       "\n",
       "    .dataframe tbody tr th {\n",
       "        vertical-align: top;\n",
       "    }\n",
       "\n",
       "    .dataframe thead th {\n",
       "        text-align: right;\n",
       "    }\n",
       "</style>\n",
       "<table border=\"1\" class=\"dataframe\">\n",
       "  <thead>\n",
       "    <tr style=\"text-align: right;\">\n",
       "      <th></th>\n",
       "      <th>activity_id</th>\n",
       "      <th>assay_chembl_id</th>\n",
       "      <th>assay_description</th>\n",
       "      <th>assay_type</th>\n",
       "      <th>molecule_chembl_id</th>\n",
       "      <th>relation</th>\n",
       "      <th>units</th>\n",
       "      <th>IC50</th>\n",
       "      <th>target_chembl_id</th>\n",
       "      <th>target_organism</th>\n",
       "      <th>type</th>\n",
       "    </tr>\n",
       "  </thead>\n",
       "  <tbody>\n",
       "    <tr>\n",
       "      <th>0</th>\n",
       "      <td>32260</td>\n",
       "      <td>CHEMBL674637</td>\n",
       "      <td>Inhibitory activity towards tyrosine phosphory...</td>\n",
       "      <td>B</td>\n",
       "      <td>CHEMBL68920</td>\n",
       "      <td>=</td>\n",
       "      <td>nM</td>\n",
       "      <td>41.0</td>\n",
       "      <td>CHEMBL203</td>\n",
       "      <td>Homo sapiens</td>\n",
       "      <td>IC50</td>\n",
       "    </tr>\n",
       "    <tr>\n",
       "      <th>1</th>\n",
       "      <td>32267</td>\n",
       "      <td>CHEMBL674637</td>\n",
       "      <td>Inhibitory activity towards tyrosine phosphory...</td>\n",
       "      <td>B</td>\n",
       "      <td>CHEMBL69960</td>\n",
       "      <td>=</td>\n",
       "      <td>nM</td>\n",
       "      <td>170.0</td>\n",
       "      <td>CHEMBL203</td>\n",
       "      <td>Homo sapiens</td>\n",
       "      <td>IC50</td>\n",
       "    </tr>\n",
       "    <tr>\n",
       "      <th>2</th>\n",
       "      <td>32680</td>\n",
       "      <td>CHEMBL677833</td>\n",
       "      <td>In vitro inhibition of Epidermal growth factor...</td>\n",
       "      <td>B</td>\n",
       "      <td>CHEMBL137635</td>\n",
       "      <td>=</td>\n",
       "      <td>nM</td>\n",
       "      <td>9300.0</td>\n",
       "      <td>CHEMBL203</td>\n",
       "      <td>Homo sapiens</td>\n",
       "      <td>IC50</td>\n",
       "    </tr>\n",
       "    <tr>\n",
       "      <th>3</th>\n",
       "      <td>32770</td>\n",
       "      <td>CHEMBL674643</td>\n",
       "      <td>Inhibitory concentration of EGF dependent auto...</td>\n",
       "      <td>B</td>\n",
       "      <td>CHEMBL306988</td>\n",
       "      <td>=</td>\n",
       "      <td>nM</td>\n",
       "      <td>500000.0</td>\n",
       "      <td>CHEMBL203</td>\n",
       "      <td>Homo sapiens</td>\n",
       "      <td>IC50</td>\n",
       "    </tr>\n",
       "    <tr>\n",
       "      <th>4</th>\n",
       "      <td>32772</td>\n",
       "      <td>CHEMBL674643</td>\n",
       "      <td>Inhibitory concentration of EGF dependent auto...</td>\n",
       "      <td>B</td>\n",
       "      <td>CHEMBL66879</td>\n",
       "      <td>=</td>\n",
       "      <td>nM</td>\n",
       "      <td>3000000.0</td>\n",
       "      <td>CHEMBL203</td>\n",
       "      <td>Homo sapiens</td>\n",
       "      <td>IC50</td>\n",
       "    </tr>\n",
       "  </tbody>\n",
       "</table>\n",
       "</div>"
      ],
      "text/plain": [
       "   activity_id assay_chembl_id  \\\n",
       "0        32260    CHEMBL674637   \n",
       "1        32267    CHEMBL674637   \n",
       "2        32680    CHEMBL677833   \n",
       "3        32770    CHEMBL674643   \n",
       "4        32772    CHEMBL674643   \n",
       "\n",
       "                                   assay_description assay_type  \\\n",
       "0  Inhibitory activity towards tyrosine phosphory...          B   \n",
       "1  Inhibitory activity towards tyrosine phosphory...          B   \n",
       "2  In vitro inhibition of Epidermal growth factor...          B   \n",
       "3  Inhibitory concentration of EGF dependent auto...          B   \n",
       "4  Inhibitory concentration of EGF dependent auto...          B   \n",
       "\n",
       "  molecule_chembl_id relation units       IC50 target_chembl_id  \\\n",
       "0        CHEMBL68920        =    nM       41.0        CHEMBL203   \n",
       "1        CHEMBL69960        =    nM      170.0        CHEMBL203   \n",
       "2       CHEMBL137635        =    nM     9300.0        CHEMBL203   \n",
       "3       CHEMBL306988        =    nM   500000.0        CHEMBL203   \n",
       "4        CHEMBL66879        =    nM  3000000.0        CHEMBL203   \n",
       "\n",
       "  target_organism  type  \n",
       "0    Homo sapiens  IC50  \n",
       "1    Homo sapiens  IC50  \n",
       "2    Homo sapiens  IC50  \n",
       "3    Homo sapiens  IC50  \n",
       "4    Homo sapiens  IC50  "
      ]
     },
     "execution_count": 37,
     "metadata": {},
     "output_type": "execute_result"
    }
   ],
   "source": [
    "bioactivities_df.rename(\n",
    "    columns={\n",
    "        \"standard_value\": \"IC50\", \n",
    "        \"standard_units\": \"units\"\n",
    "    },\n",
    "    inplace=True\n",
    ")\n",
    "bioactivities_df.head()"
   ]
  },
  {
   "cell_type": "code",
   "execution_count": 38,
   "metadata": {},
   "outputs": [
    {
     "name": "stdout",
     "output_type": "stream",
     "text": [
      "DataFrame shape: (5451, 11)\n"
     ]
    }
   ],
   "source": [
    "print(f\"DataFrame shape: {bioactivities_df.shape}\")\n",
    "# TODO CI"
   ]
  },
  {
   "cell_type": "markdown",
   "metadata": {},
   "source": [
    "We now have a set of **5451** molecule ids with respective IC50 values for our target kinase."
   ]
  },
  {
   "cell_type": "markdown",
   "metadata": {},
   "source": [
    "### Get compound data\n",
    "\n",
    "We have a `DataFrame` containing all molecules tested against EGFR (with the respective measured bioactivity). \n",
    "\n",
    "Now, we want to get the molecular structures of the molecules that are linked to respective bioactivity ChEMBL IDs. "
   ]
  },
  {
   "cell_type": "markdown",
   "metadata": {},
   "source": [
    "#### Fetch compound data from ChEMBL\n",
    "\n",
    "Let's have a look at the compounds from ChEMBL which we have defined bioactivity data for: We fetch compound ChEMBL IDs and structures for the compounds linked to our filtered bioactivity data."
   ]
  },
  {
   "cell_type": "code",
   "execution_count": 39,
   "metadata": {},
   "outputs": [],
   "source": [
    "compounds = compounds_api.filter(\n",
    "    molecule_chembl_id__in = list(bioactivities_df[\"molecule_chembl_id\"])\n",
    ").only(\n",
    "    \"molecule_chembl_id\",\n",
    "    \"molecule_structures\"\n",
    ")"
   ]
  },
  {
   "cell_type": "markdown",
   "metadata": {},
   "source": [
    "#### Download compound data from ChEMBL\n",
    "\n",
    "Again, we download the `QuerySet` in the form of a `pandas` `DataFrame`. **This may take some time.**"
   ]
  },
  {
   "cell_type": "code",
   "execution_count": 40,
   "metadata": {},
   "outputs": [
    {
     "name": "stdout",
     "output_type": "stream",
     "text": [
      "DataFrame shape: (5452, 2)\n"
     ]
    }
   ],
   "source": [
    "compounds_df = pd.DataFrame.from_records(compounds)\n",
    "print(f\"DataFrame shape: {compounds_df.shape}\")"
   ]
  },
  {
   "cell_type": "code",
   "execution_count": 41,
   "metadata": {},
   "outputs": [
    {
     "data": {
      "text/html": [
       "<div>\n",
       "<style scoped>\n",
       "    .dataframe tbody tr th:only-of-type {\n",
       "        vertical-align: middle;\n",
       "    }\n",
       "\n",
       "    .dataframe tbody tr th {\n",
       "        vertical-align: top;\n",
       "    }\n",
       "\n",
       "    .dataframe thead th {\n",
       "        text-align: right;\n",
       "    }\n",
       "</style>\n",
       "<table border=\"1\" class=\"dataframe\">\n",
       "  <thead>\n",
       "    <tr style=\"text-align: right;\">\n",
       "      <th></th>\n",
       "      <th>molecule_chembl_id</th>\n",
       "      <th>molecule_structures</th>\n",
       "    </tr>\n",
       "  </thead>\n",
       "  <tbody>\n",
       "    <tr>\n",
       "      <th>0</th>\n",
       "      <td>CHEMBL6246</td>\n",
       "      <td>{'canonical_smiles': 'O=c1oc2c(O)c(O)cc3c(=O)o...</td>\n",
       "    </tr>\n",
       "    <tr>\n",
       "      <th>1</th>\n",
       "      <td>CHEMBL6246</td>\n",
       "      <td>{'canonical_smiles': 'O=c1oc2c(O)c(O)cc3c(=O)o...</td>\n",
       "    </tr>\n",
       "    <tr>\n",
       "      <th>2</th>\n",
       "      <td>CHEMBL10</td>\n",
       "      <td>{'canonical_smiles': 'C[S+]([O-])c1ccc(-c2nc(-...</td>\n",
       "    </tr>\n",
       "    <tr>\n",
       "      <th>3</th>\n",
       "      <td>CHEMBL6976</td>\n",
       "      <td>{'canonical_smiles': 'COc1cc2c(cc1OC)Nc1ncn(C)...</td>\n",
       "    </tr>\n",
       "    <tr>\n",
       "      <th>4</th>\n",
       "      <td>CHEMBL7002</td>\n",
       "      <td>{'canonical_smiles': 'CC1(COc2ccc(CC3SC(=O)NC3...</td>\n",
       "    </tr>\n",
       "  </tbody>\n",
       "</table>\n",
       "</div>"
      ],
      "text/plain": [
       "  molecule_chembl_id                                molecule_structures\n",
       "0         CHEMBL6246  {'canonical_smiles': 'O=c1oc2c(O)c(O)cc3c(=O)o...\n",
       "1         CHEMBL6246  {'canonical_smiles': 'O=c1oc2c(O)c(O)cc3c(=O)o...\n",
       "2           CHEMBL10  {'canonical_smiles': 'C[S+]([O-])c1ccc(-c2nc(-...\n",
       "3         CHEMBL6976  {'canonical_smiles': 'COc1cc2c(cc1OC)Nc1ncn(C)...\n",
       "4         CHEMBL7002  {'canonical_smiles': 'CC1(COc2ccc(CC3SC(=O)NC3..."
      ]
     },
     "execution_count": 41,
     "metadata": {},
     "output_type": "execute_result"
    }
   ],
   "source": [
    "compounds_df.head()"
   ]
  },
  {
   "cell_type": "markdown",
   "metadata": {},
   "source": [
    "#### Preprocess and filter compound data\n",
    "\n",
    "1. Remove entries with missing entries\n",
    "2. Delete duplicate molecules (by molecule_chembl_id)\n",
    "3. Get molecules with canonical SMILES"
   ]
  },
  {
   "cell_type": "markdown",
   "metadata": {},
   "source": [
    "**1. Remove entries with missing molecule structure entry**"
   ]
  },
  {
   "cell_type": "code",
   "execution_count": 42,
   "metadata": {},
   "outputs": [
    {
     "name": "stdout",
     "output_type": "stream",
     "text": [
      "DataFrame shape: (5445, 2)\n"
     ]
    }
   ],
   "source": [
    "compounds_df.dropna(\n",
    "    axis=0, \n",
    "    how=\"any\", \n",
    "    inplace=True\n",
    ")\n",
    "print(f\"DataFrame shape: {compounds_df.shape}\")"
   ]
  },
  {
   "cell_type": "markdown",
   "metadata": {},
   "source": [
    "**2. Delete duplicate molecules**"
   ]
  },
  {
   "cell_type": "code",
   "execution_count": 43,
   "metadata": {},
   "outputs": [
    {
     "name": "stdout",
     "output_type": "stream",
     "text": [
      "DataFrame shape: (5444, 2)\n"
     ]
    }
   ],
   "source": [
    "compounds_df.drop_duplicates(\n",
    "    \"molecule_chembl_id\", \n",
    "    keep=\"first\", \n",
    "    inplace=True\n",
    ")\n",
    "print(f\"DataFrame shape: {compounds_df.shape}\")"
   ]
  },
  {
   "cell_type": "markdown",
   "metadata": {},
   "source": [
    "**3. Get molecules with canonical SMILES**\n",
    "\n",
    "So far, we have multiple different molecular structure representations. We only want to keep the canonical SMILES."
   ]
  },
  {
   "cell_type": "code",
   "execution_count": 44,
   "metadata": {},
   "outputs": [
    {
     "data": {
      "text/plain": [
       "dict_keys(['canonical_smiles', 'molfile', 'standard_inchi', 'standard_inchi_key'])"
      ]
     },
     "execution_count": 44,
     "metadata": {},
     "output_type": "execute_result"
    }
   ],
   "source": [
    "compounds_df.iloc[0].molecule_structures.keys()"
   ]
  },
  {
   "cell_type": "code",
   "execution_count": 45,
   "metadata": {},
   "outputs": [
    {
     "name": "stdout",
     "output_type": "stream",
     "text": [
      "DataFrame shape: (5444, 2)\n"
     ]
    }
   ],
   "source": [
    "canonical_smiles = []\n",
    "\n",
    "for i, compounds in compounds_df.iterrows():\n",
    "    try:\n",
    "        canonical_smiles.append(compounds[\"molecule_structures\"][\"canonical_smiles\"])\n",
    "    except KeyError:\n",
    "        canonical_smiles.append(None)\n",
    "        \n",
    "compounds_df[\"smiles\"] = canonical_smiles\n",
    "compounds_df.drop(\"molecule_structures\", axis=1, inplace=True)\n",
    "print(f\"DataFrame shape: {compounds_df.shape}\")"
   ]
  },
  {
   "cell_type": "markdown",
   "metadata": {},
   "source": [
    "Sanity check: Remove all molecules without a canonical SMILES string."
   ]
  },
  {
   "cell_type": "code",
   "execution_count": 46,
   "metadata": {},
   "outputs": [
    {
     "name": "stdout",
     "output_type": "stream",
     "text": [
      "DataFrame shape: (5444, 2)\n"
     ]
    }
   ],
   "source": [
    "compounds_df.dropna(\n",
    "    axis=0, \n",
    "    how=\"any\", \n",
    "    inplace=True\n",
    ")\n",
    "print(f\"DataFrame shape: {compounds_df.shape}\")\n",
    "# TODO CI"
   ]
  },
  {
   "cell_type": "markdown",
   "metadata": {},
   "source": [
    "We now have a set of **5444** molecule ids with respective IC50 values for our target kinase."
   ]
  },
  {
   "cell_type": "markdown",
   "metadata": {},
   "source": [
    "### Output (bioactivity-compound) data\n",
    "**Summary of compound and bioactivity data**"
   ]
  },
  {
   "cell_type": "code",
   "execution_count": 47,
   "metadata": {},
   "outputs": [
    {
     "name": "stdout",
     "output_type": "stream",
     "text": [
      "Bioactivities filtered: 5451\n"
     ]
    },
    {
     "data": {
      "text/plain": [
       "Index(['activity_id', 'assay_chembl_id', 'assay_description', 'assay_type',\n",
       "       'molecule_chembl_id', 'relation', 'units', 'IC50', 'target_chembl_id',\n",
       "       'target_organism', 'type'],\n",
       "      dtype='object')"
      ]
     },
     "execution_count": 47,
     "metadata": {},
     "output_type": "execute_result"
    }
   ],
   "source": [
    "print(f\"Bioactivities filtered: {bioactivities_df.shape[0]}\")\n",
    "bioactivities_df.columns"
   ]
  },
  {
   "cell_type": "code",
   "execution_count": 48,
   "metadata": {},
   "outputs": [
    {
     "name": "stdout",
     "output_type": "stream",
     "text": [
      "Compounds filtered: 5444\n"
     ]
    },
    {
     "data": {
      "text/plain": [
       "Index(['molecule_chembl_id', 'smiles'], dtype='object')"
      ]
     },
     "execution_count": 48,
     "metadata": {},
     "output_type": "execute_result"
    }
   ],
   "source": [
    "print(f\"Compounds filtered: {compounds_df.shape[0]}\")\n",
    "compounds_df.columns"
   ]
  },
  {
   "cell_type": "markdown",
   "metadata": {},
   "source": [
    "#### Merge both datasets\n",
    "\n",
    "Merge values of interest from `bioactivities_df` and `compounds_df` in an `output_df` based on the compounds' ChEMBL IDs (`molecule_chembl_id`), keeping the following columns:\n",
    "\n",
    "* ChEMBL IDs: `molecule_chembl_id`\n",
    "* SMILES: `smiles`\n",
    "* units: `units`\n",
    "* IC50: `IC50`"
   ]
  },
  {
   "cell_type": "code",
   "execution_count": 49,
   "metadata": {},
   "outputs": [
    {
     "name": "stdout",
     "output_type": "stream",
     "text": [
      "Dataset with 5444 entries.\n"
     ]
    }
   ],
   "source": [
    "# Merge DataFrames\n",
    "output_df = pd.merge(\n",
    "    bioactivities_df[[\"molecule_chembl_id\", \"IC50\", \"units\"]], \n",
    "    compounds_df, \n",
    "    on=\"molecule_chembl_id\"\n",
    ")\n",
    "\n",
    "# Reset row indices\n",
    "output_df.reset_index(drop=True, inplace=True)\n",
    "\n",
    "print(f\"Dataset with {output_df.shape[0]} entries.\")\n",
    "# TODO CI"
   ]
  },
  {
   "cell_type": "markdown",
   "metadata": {},
   "source": [
    "Sanity check: The merged bioactivities/compound data set contains **5444** entries."
   ]
  },
  {
   "cell_type": "code",
   "execution_count": 50,
   "metadata": {},
   "outputs": [
    {
     "data": {
      "text/plain": [
       "molecule_chembl_id     object\n",
       "IC50                  float64\n",
       "units                  object\n",
       "smiles                 object\n",
       "dtype: object"
      ]
     },
     "execution_count": 50,
     "metadata": {},
     "output_type": "execute_result"
    }
   ],
   "source": [
    "output_df.dtypes"
   ]
  },
  {
   "cell_type": "code",
   "execution_count": 51,
   "metadata": {},
   "outputs": [
    {
     "data": {
      "text/html": [
       "<div>\n",
       "<style scoped>\n",
       "    .dataframe tbody tr th:only-of-type {\n",
       "        vertical-align: middle;\n",
       "    }\n",
       "\n",
       "    .dataframe tbody tr th {\n",
       "        vertical-align: top;\n",
       "    }\n",
       "\n",
       "    .dataframe thead th {\n",
       "        text-align: right;\n",
       "    }\n",
       "</style>\n",
       "<table border=\"1\" class=\"dataframe\">\n",
       "  <thead>\n",
       "    <tr style=\"text-align: right;\">\n",
       "      <th></th>\n",
       "      <th>molecule_chembl_id</th>\n",
       "      <th>IC50</th>\n",
       "      <th>units</th>\n",
       "      <th>smiles</th>\n",
       "    </tr>\n",
       "  </thead>\n",
       "  <tbody>\n",
       "    <tr>\n",
       "      <th>0</th>\n",
       "      <td>CHEMBL68920</td>\n",
       "      <td>41.0</td>\n",
       "      <td>nM</td>\n",
       "      <td>Cc1cc(C)c(/C=C2\\C(=O)Nc3ncnc(Nc4ccc(F)c(Cl)c4)...</td>\n",
       "    </tr>\n",
       "    <tr>\n",
       "      <th>1</th>\n",
       "      <td>CHEMBL69960</td>\n",
       "      <td>170.0</td>\n",
       "      <td>nM</td>\n",
       "      <td>Cc1cc(C(=O)N2CCOCC2)[nH]c1/C=C1\\C(=O)Nc2ncnc(N...</td>\n",
       "    </tr>\n",
       "    <tr>\n",
       "      <th>2</th>\n",
       "      <td>CHEMBL137635</td>\n",
       "      <td>9300.0</td>\n",
       "      <td>nM</td>\n",
       "      <td>CN(c1ccccc1)c1ncnc2ccc(N/N=N/Cc3ccccn3)cc12</td>\n",
       "    </tr>\n",
       "    <tr>\n",
       "      <th>3</th>\n",
       "      <td>CHEMBL306988</td>\n",
       "      <td>500000.0</td>\n",
       "      <td>nM</td>\n",
       "      <td>CC(=C(C#N)C#N)c1ccc(NC(=O)CCC(=O)O)cc1</td>\n",
       "    </tr>\n",
       "    <tr>\n",
       "      <th>4</th>\n",
       "      <td>CHEMBL66879</td>\n",
       "      <td>3000000.0</td>\n",
       "      <td>nM</td>\n",
       "      <td>O=C(O)/C=C/c1ccc(O)cc1</td>\n",
       "    </tr>\n",
       "    <tr>\n",
       "      <th>5</th>\n",
       "      <td>CHEMBL77085</td>\n",
       "      <td>96000.0</td>\n",
       "      <td>nM</td>\n",
       "      <td>N#CC(C#N)=Cc1cc(O)ccc1[N+](=O)[O-]</td>\n",
       "    </tr>\n",
       "    <tr>\n",
       "      <th>6</th>\n",
       "      <td>CHEMBL443268</td>\n",
       "      <td>5310.0</td>\n",
       "      <td>nM</td>\n",
       "      <td>Cc1cc(C(=O)NCCN2CCOCC2)[nH]c1/C=C1\\C(=O)N(C)c2...</td>\n",
       "    </tr>\n",
       "    <tr>\n",
       "      <th>7</th>\n",
       "      <td>CHEMBL76979</td>\n",
       "      <td>264000.0</td>\n",
       "      <td>nM</td>\n",
       "      <td>COc1cc(/C=C(\\C#N)C(=O)O)cc(OC)c1O</td>\n",
       "    </tr>\n",
       "    <tr>\n",
       "      <th>8</th>\n",
       "      <td>CHEMBL76589</td>\n",
       "      <td>125.0</td>\n",
       "      <td>nM</td>\n",
       "      <td>N#CC(C#N)=C(N)/C(C#N)=C/c1ccc(O)cc1</td>\n",
       "    </tr>\n",
       "    <tr>\n",
       "      <th>9</th>\n",
       "      <td>CHEMBL76904</td>\n",
       "      <td>35000.0</td>\n",
       "      <td>nM</td>\n",
       "      <td>N#CC(C#N)=Cc1ccc(O)c(O)c1</td>\n",
       "    </tr>\n",
       "  </tbody>\n",
       "</table>\n",
       "</div>"
      ],
      "text/plain": [
       "  molecule_chembl_id       IC50 units  \\\n",
       "0        CHEMBL68920       41.0    nM   \n",
       "1        CHEMBL69960      170.0    nM   \n",
       "2       CHEMBL137635     9300.0    nM   \n",
       "3       CHEMBL306988   500000.0    nM   \n",
       "4        CHEMBL66879  3000000.0    nM   \n",
       "5        CHEMBL77085    96000.0    nM   \n",
       "6       CHEMBL443268     5310.0    nM   \n",
       "7        CHEMBL76979   264000.0    nM   \n",
       "8        CHEMBL76589      125.0    nM   \n",
       "9        CHEMBL76904    35000.0    nM   \n",
       "\n",
       "                                              smiles  \n",
       "0  Cc1cc(C)c(/C=C2\\C(=O)Nc3ncnc(Nc4ccc(F)c(Cl)c4)...  \n",
       "1  Cc1cc(C(=O)N2CCOCC2)[nH]c1/C=C1\\C(=O)Nc2ncnc(N...  \n",
       "2        CN(c1ccccc1)c1ncnc2ccc(N/N=N/Cc3ccccn3)cc12  \n",
       "3             CC(=C(C#N)C#N)c1ccc(NC(=O)CCC(=O)O)cc1  \n",
       "4                             O=C(O)/C=C/c1ccc(O)cc1  \n",
       "5                 N#CC(C#N)=Cc1cc(O)ccc1[N+](=O)[O-]  \n",
       "6  Cc1cc(C(=O)NCCN2CCOCC2)[nH]c1/C=C1\\C(=O)N(C)c2...  \n",
       "7                  COc1cc(/C=C(\\C#N)C(=O)O)cc(OC)c1O  \n",
       "8                N#CC(C#N)=C(N)/C(C#N)=C/c1ccc(O)cc1  \n",
       "9                          N#CC(C#N)=Cc1ccc(O)c(O)c1  "
      ]
     },
     "execution_count": 51,
     "metadata": {},
     "output_type": "execute_result"
    }
   ],
   "source": [
    "output_df.head(10)"
   ]
  },
  {
   "cell_type": "markdown",
   "metadata": {},
   "source": [
    "#### Add pIC50 values"
   ]
  },
  {
   "cell_type": "markdown",
   "metadata": {},
   "source": [
    "As you can see the low IC50 values are difficult to read (values are distributed over multiple scales), which is why we convert the IC50 values to pIC50."
   ]
  },
  {
   "cell_type": "code",
   "execution_count": 52,
   "metadata": {},
   "outputs": [],
   "source": [
    "def convert_ic50_to_pic50(IC50_value):\n",
    "    pIC50_value = 9 - math.log10(IC50_value)\n",
    "    return pIC50_value"
   ]
  },
  {
   "cell_type": "code",
   "execution_count": 53,
   "metadata": {},
   "outputs": [],
   "source": [
    "# Apply conversion to each row of the compounds DataFrame\n",
    "output_df[\"pIC50\"] = output_df.apply(lambda x: convert_ic50_to_pic50(x.IC50), axis=1)"
   ]
  },
  {
   "cell_type": "code",
   "execution_count": 54,
   "metadata": {},
   "outputs": [
    {
     "data": {
      "text/html": [
       "<div>\n",
       "<style scoped>\n",
       "    .dataframe tbody tr th:only-of-type {\n",
       "        vertical-align: middle;\n",
       "    }\n",
       "\n",
       "    .dataframe tbody tr th {\n",
       "        vertical-align: top;\n",
       "    }\n",
       "\n",
       "    .dataframe thead th {\n",
       "        text-align: right;\n",
       "    }\n",
       "</style>\n",
       "<table border=\"1\" class=\"dataframe\">\n",
       "  <thead>\n",
       "    <tr style=\"text-align: right;\">\n",
       "      <th></th>\n",
       "      <th>molecule_chembl_id</th>\n",
       "      <th>IC50</th>\n",
       "      <th>units</th>\n",
       "      <th>smiles</th>\n",
       "      <th>pIC50</th>\n",
       "    </tr>\n",
       "  </thead>\n",
       "  <tbody>\n",
       "    <tr>\n",
       "      <th>0</th>\n",
       "      <td>CHEMBL68920</td>\n",
       "      <td>41.0</td>\n",
       "      <td>nM</td>\n",
       "      <td>Cc1cc(C)c(/C=C2\\C(=O)Nc3ncnc(Nc4ccc(F)c(Cl)c4)...</td>\n",
       "      <td>7.387216</td>\n",
       "    </tr>\n",
       "    <tr>\n",
       "      <th>1</th>\n",
       "      <td>CHEMBL69960</td>\n",
       "      <td>170.0</td>\n",
       "      <td>nM</td>\n",
       "      <td>Cc1cc(C(=O)N2CCOCC2)[nH]c1/C=C1\\C(=O)Nc2ncnc(N...</td>\n",
       "      <td>6.769551</td>\n",
       "    </tr>\n",
       "    <tr>\n",
       "      <th>2</th>\n",
       "      <td>CHEMBL137635</td>\n",
       "      <td>9300.0</td>\n",
       "      <td>nM</td>\n",
       "      <td>CN(c1ccccc1)c1ncnc2ccc(N/N=N/Cc3ccccn3)cc12</td>\n",
       "      <td>5.031517</td>\n",
       "    </tr>\n",
       "    <tr>\n",
       "      <th>3</th>\n",
       "      <td>CHEMBL306988</td>\n",
       "      <td>500000.0</td>\n",
       "      <td>nM</td>\n",
       "      <td>CC(=C(C#N)C#N)c1ccc(NC(=O)CCC(=O)O)cc1</td>\n",
       "      <td>3.301030</td>\n",
       "    </tr>\n",
       "    <tr>\n",
       "      <th>4</th>\n",
       "      <td>CHEMBL66879</td>\n",
       "      <td>3000000.0</td>\n",
       "      <td>nM</td>\n",
       "      <td>O=C(O)/C=C/c1ccc(O)cc1</td>\n",
       "      <td>2.522879</td>\n",
       "    </tr>\n",
       "  </tbody>\n",
       "</table>\n",
       "</div>"
      ],
      "text/plain": [
       "  molecule_chembl_id       IC50 units  \\\n",
       "0        CHEMBL68920       41.0    nM   \n",
       "1        CHEMBL69960      170.0    nM   \n",
       "2       CHEMBL137635     9300.0    nM   \n",
       "3       CHEMBL306988   500000.0    nM   \n",
       "4        CHEMBL66879  3000000.0    nM   \n",
       "\n",
       "                                              smiles     pIC50  \n",
       "0  Cc1cc(C)c(/C=C2\\C(=O)Nc3ncnc(Nc4ccc(F)c(Cl)c4)...  7.387216  \n",
       "1  Cc1cc(C(=O)N2CCOCC2)[nH]c1/C=C1\\C(=O)Nc2ncnc(N...  6.769551  \n",
       "2        CN(c1ccccc1)c1ncnc2ccc(N/N=N/Cc3ccccn3)cc12  5.031517  \n",
       "3             CC(=C(C#N)C#N)c1ccc(NC(=O)CCC(=O)O)cc1  3.301030  \n",
       "4                             O=C(O)/C=C/c1ccc(O)cc1  2.522879  "
      ]
     },
     "execution_count": 54,
     "metadata": {},
     "output_type": "execute_result"
    }
   ],
   "source": [
    "output_df.head()"
   ]
  },
  {
   "cell_type": "markdown",
   "metadata": {},
   "source": [
    "#### Draw compound data\n",
    "\n",
    "Let's have a look at our collected data set.\n",
    "\n",
    "First, we plot the pIC50 value distribution"
   ]
  },
  {
   "cell_type": "code",
   "execution_count": 55,
   "metadata": {},
   "outputs": [
    {
     "data": {
      "text/plain": [
       "array([[<AxesSubplot:title={'center':'pIC50'}>]], dtype=object)"
      ]
     },
     "execution_count": 55,
     "metadata": {},
     "output_type": "execute_result"
    },
    {
     "data": {
      "image/png": "[encoded data removed]",
      "text/plain": [
       "<Figure size 432x288 with 1 Axes>"
      ]
     },
     "metadata": {
      "needs_background": "light"
     },
     "output_type": "display_data"
    }
   ],
   "source": [
    "output_df.hist(column=\"pIC50\")"
   ]
  },
  {
   "cell_type": "markdown",
   "metadata": {},
   "source": [
    "In the next steps, we add a column for RDKit molecule objects to our `DataFrame` and look at the structures of the molecules with the highest pIC50 values. "
   ]
  },
  {
   "cell_type": "code",
   "execution_count": 56,
   "metadata": {},
   "outputs": [],
   "source": [
    "# Add molecule column\n",
    "PandasTools.AddMoleculeColumnToFrame(output_df, smilesCol=\"smiles\")"
   ]
  },
  {
   "cell_type": "code",
   "execution_count": 57,
   "metadata": {},
   "outputs": [],
   "source": [
    "# Sort molecules by pIC50\n",
    "output_df.sort_values(\n",
    "    by=\"pIC50\", \n",
    "    ascending=False, \n",
    "    inplace=True\n",
    ")\n",
    "\n",
    "# Reset index\n",
    "output_df.reset_index(\n",
    "    drop=True, \n",
    "    inplace=True\n",
    ")"
   ]
  },
  {
   "cell_type": "markdown",
   "metadata": {},
   "source": [
    "Show the three most active molecules, i.e. molecules with the highest pIC50 values."
   ]
  },
  {
   "cell_type": "code",
   "execution_count": 58,
   "metadata": {},
   "outputs": [
    {
     "data": {
      "text/html": [
       "<div>\n",
       "<style scoped>\n",
       "    .dataframe tbody tr th:only-of-type {\n",
       "        vertical-align: middle;\n",
       "    }\n",
       "\n",
       "    .dataframe tbody tr th {\n",
       "        vertical-align: top;\n",
       "    }\n",
       "\n",
       "    .dataframe thead th {\n",
       "        text-align: right;\n",
       "    }\n",
       "</style>\n",
       "<table border=\"1\" class=\"dataframe\">\n",
       "  <thead>\n",
       "    <tr style=\"text-align: right;\">\n",
       "      <th></th>\n",
       "      <th>molecule_chembl_id</th>\n",
       "      <th>IC50</th>\n",
       "      <th>units</th>\n",
       "      <th>pIC50</th>\n",
       "      <th>ROMol</th>\n",
       "    </tr>\n",
       "  </thead>\n",
       "  <tbody>\n",
       "    <tr>\n",
       "      <th>0</th>\n",
       "      <td>CHEMBL63786</td>\n",
       "      <td>0.003</td>\n",
       "      <td>nM</td>\n",
       "      <td>11.522879</td>\n",
       "      <td><img data-content=\"rdkit/molecule\" src=\"data:image/png;base64,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\" alt=\"Mol\"/></td>\n",
       "    </tr>\n",
       "    <tr>\n",
       "      <th>1</th>\n",
       "      <td>CHEMBL35820</td>\n",
       "      <td>0.006</td>\n",
       "      <td>nM</td>\n",
       "      <td>11.221849</td>\n",
       "      <td><img data-content=\"rdkit/molecule\" src=\"data:image/png;base64,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\" alt=\"Mol\"/></td>\n",
       "    </tr>\n",
       "    <tr>\n",
       "      <th>2</th>\n",
       "      <td>CHEMBL53711</td>\n",
       "      <td>0.006</td>\n",
       "      <td>nM</td>\n",
       "      <td>11.221849</td>\n",
       "      <td><img data-content=\"rdkit/molecule\" src=\"data:image/png;base64,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\" alt=\"Mol\"/></td>\n",
       "    </tr>\n",
       "  </tbody>\n",
       "</table>\n",
       "</div>"
      ],
      "text/plain": [
       "  molecule_chembl_id   IC50 units      pIC50  \\\n",
       "0        CHEMBL63786  0.003    nM  11.522879   \n",
       "1        CHEMBL35820  0.006    nM  11.221849   \n",
       "2        CHEMBL53711  0.006    nM  11.221849   \n",
       "\n",
       "                                               ROMol  \n",
       "0  <img data-content=\"rdkit/molecule\" src=\"data:i...  \n",
       "1  <img data-content=\"rdkit/molecule\" src=\"data:i...  \n",
       "2  <img data-content=\"rdkit/molecule\" src=\"data:i...  "
      ]
     },
     "execution_count": 58,
     "metadata": {},
     "output_type": "execute_result"
    }
   ],
   "source": [
    "output_df.drop(\"smiles\", axis=1).head(3)"
   ]
  },
  {
   "cell_type": "markdown",
   "metadata": {},
   "source": [
    "#### Write output data to file\n",
    "\n",
    "We want to use this bioactivity-compound dataset in the following talktorials, thus we save the data as `csv` file. \n",
    "Note that it is advisable to drop the molecule column (which only contains an image of the molecules) when saving the data."
   ]
  },
  {
   "cell_type": "code",
   "execution_count": 59,
   "metadata": {
    "scrolled": true
   },
   "outputs": [],
   "source": [
    "output_df.drop(\"ROMol\", axis=1).to_csv(DATA / \"EGFR_compounds.csv\")"
   ]
  },
  {
   "cell_type": "code",
   "execution_count": 60,
   "metadata": {},
   "outputs": [
    {
     "name": "stdout",
     "output_type": "stream",
     "text": [
      "DataFrame shape: (5444, 6)\n"
     ]
    }
   ],
   "source": [
    "print(f\"DataFrame shape: {output_df.shape}\")"
   ]
  },
  {
   "cell_type": "markdown",
   "metadata": {},
   "source": [
    "## Discussion"
   ]
  },
  {
   "cell_type": "markdown",
   "metadata": {},
   "source": [
    "In this tutorial, we collected bioactivity data for our target of interest from the ChEMBL database. \n",
    "We filtered the data set in order to only contain molecules with measured IC50 bioactivity values. \n",
    "\n",
    "Be aware that ChEMBL data originates from various sources. Compound data has been generated in different labs by different people all over the world. Therefore, we have to be cautious with the predictions we make using this data set. It is always important to consider the source of the data and consistency of data production assays when interpreting the results and determining how much confidence we have in our predictions.\n",
    "\n",
    "In the next tutorials, we will filter our acquired data by Lipinski's rule of five and by unwanted substructures. Another important step would be to *clean* the molecular data. As this is not shown in any of our talktorials (yet), we would like to refer to the  [`standardiser` library](https://github.com/flatkinson/standardiser) or [MolVS](https://molvs.readthedocs.io/en/latest/) as useful tools for this task."
   ]
  },
  {
   "cell_type": "markdown",
   "metadata": {},
   "source": [
    "## Quiz"
   ]
  },
  {
   "cell_type": "markdown",
   "metadata": {},
   "source": [
    "* We have downloaded in this talktorial molecules and bioactivity data from ChEMBL. What else is the ChEMBL database useful for?\n",
    "* What is the difference between IC50 and EC50?\n",
    "* What can we use the data extracted from ChEMBL for?"
   ]
  }
 ],
 "metadata": {
  "kernelspec": {
   "display_name": "Python 3",
   "language": "python",
   "name": "python3"
  },
  "language_info": {
   "codemirror_mode": {
    "name": "ipython",
    "version": 3
   },
   "file_extension": ".py",
   "mimetype": "text/x-python",
   "name": "python",
   "nbconvert_exporter": "python",
   "pygments_lexer": "ipython3",
   "version": "3.8.5"
  },
  "toc-autonumbering": false,
  "toc-showmarkdowntxt": false,
  "toc-showtags": false
 },
 "nbformat": 4,
 "nbformat_minor": 4
}
