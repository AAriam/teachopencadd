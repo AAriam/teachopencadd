{
 "cells": [
  {
   "cell_type": "markdown",
   "metadata": {},
   "source": [
    "# T010 · Binding site similarity and off-target prediction\n",
    "\n",
    "**Note:** This talktorial is a part of TeachOpenCADD, a platform that aims to teach domain-specific skills and to provide pipeline templates as starting points for research projects.\n",
    "\n",
    "Authors:\n",
    "\n",
    "- Angelika Szengel, CADD seminar 2017, Charité/FU Berlin\n",
    "- Marvis Sydow, CADD seminar 2018, Charité/FU Berlin\n",
    "- Richard Gowers, RDKit UGM hackathon 2019\n",
    "- Jaime Rodríguez-Guerra, 2020, [Volkamer lab](https://volkamerlab.org), Charité\n",
    "- Dominique Sydow, 2018-2020, [Volkamer lab](https://volkamerlab.org), Charité\n",
    "- Mareike Leja, 2020, [Volkamer lab](https://volkamerlab.org), Charité"
   ]
  },
  {
   "cell_type": "markdown",
   "metadata": {},
   "source": [
    "__Talktorial T010__: This talktorial is part of the TeachOpenCADD pipeline described in the [first TeachOpenCADD paper](https://jcheminf.biomedcentral.com/articles/10.1186/s13321-019-0351-x), comprising of talktorials T001-T010."
   ]
  },
  {
   "cell_type": "markdown",
   "metadata": {},
   "source": [
    "**Note**: Please run this notebook cell by cell. Running all cells in one is possible also, however, part of the `nglview` 3D representations might be missing."
   ]
  },
  {
   "cell_type": "markdown",
   "metadata": {},
   "source": [
    "## Aim of this talktorial\n",
    "\n",
    "In this talktorial, we use the structural similarity of full proteins and binding sites to predict off-targets, i.e. proteins that are not intended targets of a drug. This may lead to unwanted side effects or enable desired alternate applications of a drug (drug repositioning).\n",
    "We discuss the main steps for binding site comparison and implement a basic method, i.e. the geometrical variation between structures (the root mean square deviation between two structures)."
   ]
  },
  {
   "cell_type": "markdown",
   "metadata": {},
   "source": [
    "### Contents in *Theory*\n",
    "\n",
    "* Off-target proteins\n",
    "* Computational off-target prediction: binding site comparison\n",
    "* Pairwise RMSD as simple measure for similarity\n",
    "* Imatinib, a tyrosine kinase inhibitor"
   ]
  },
  {
   "cell_type": "markdown",
   "metadata": {},
   "source": [
    "### Contents in *Practical*\n",
    "\n",
    "* Load and visualize the ligand of interest (Imatinib/STI)\n",
    "* Get all protein-STI complexes from the PDB\n",
    "* Visualize the PDB structures\n",
    "* Align the PDB structures (full protein)\n",
    "* Get pairwise RMSD (full protein)\n",
    "* Align the PDB structures (binding site)\n",
    "* Get pairwise RMSD (binding site)\n",
    "* Filter out outliers"
   ]
  },
  {
   "cell_type": "markdown",
   "metadata": {},
   "source": [
    "### References\n",
    "\n",
    "* Binding site superposition + comparison \n",
    "  * Binding site comparison reviews: \n",
    "    * [<i>Curr. Comput. Aided Drug Des. </i> (2008), <b>4</b>, 209-20](https://www.eurekaselect.com/67606/article/how-measure-similarity-between-protein-ligand-binding-sites)\n",
    "    * [<i>J. Med. Chem. </i> (2016), <b>9</b>, 4121-51](https://pubs.acs.org/doi/10.1021/acs.jmedchem.6b00078)\n",
    "  * Molecular superposition with Python: `opencadd` package (`structure.superposition` module) ([GitHub repository](https://github.com/volkamerlab/opencadd))\n",
    "  * Wikipedia article on root mean square deviation ([RMSD](https://en.wikipedia.org/wiki/Root-mean-square_deviation_of_atomic_positions)) and [structural superposition](https://en.wikipedia.org/wiki/Structural_alignment)\n",
    "  * Structural superposition: [Book chapter: Algorithms, Applications, and Challenges of Protein Structure Alignment in *Advances in Protein Chemistry and Structural Biology* (2014), **94**, 121-75](https://www.sciencedirect.com/science/article/pii/B9780128001684000056?via%3Dihub)\n",
    "* Imatinib  \n",
    "  * Review on Imatinib: [<i>Nat. Rev. Clin. Oncol.</i> (2016), <b>13</b>, 431-46](https://www.nature.com/articles/nrclinonc.2016.41)\n",
    "  * Promiscuity of imatinib: \n",
    "[<i>J. Biol.</i> (2009), <b>8</b>, 30](https://jbiol.biomedcentral.com/articles/10.1186/jbiol134)\n",
    "  * [ChEMBL information on Imatinib](https://www.ebi.ac.uk/chembl/compound/inspect/CHEMBL941)\n",
    "  * [PDB information on Imatinib](https://www3.rcsb.org/ligand/STI)\n",
    "  * Side effects of Imatinib\n",
    "    * [MedFacts Consumer Drug Information](https://www.drugs.com/cdi/imatinib.html)\n",
    "    * [DrugBank](https://go.drugbank.com/drugs/DB00619)\n",
    "    * [<i>BMC Struct. Biol.</i> (2009), <b>9</b>](https://bmcstructbiol.biomedcentral.com/articles/10.1186/1472-6807-9-7)\n",
    "* PDB queries\n",
    "  * `pypdb` Python package \n",
    "[_Bioinformatics_ (2016), **1**, 159-60](https://academic.oup.com/bioinformatics/article-lookup/doi/10.1093/bioinformatics/btv543); [documentation](http://www.wgilpin.com/pypdb_docs/html/)\n",
    "  * `biotite` Python package [_BMC Bioinformatics_ (2018), **19**](https://bmcbioinformatics.biomedcentral.com/articles/10.1186/s12859-018-2367-z); [documentation](https://www.biotite-python.org/)\n",
    "  * Check out **Talktorial T008** for more details on PDB queries"
   ]
  },
  {
   "cell_type": "markdown",
   "metadata": {},
   "source": [
    "## Theory"
   ]
  },
  {
   "cell_type": "markdown",
   "metadata": {},
   "source": [
    "### Off-target proteins\n",
    "\n",
    "An off-target can be any protein which interacts with a drug or (one of) its metabolite(s) without being the designated target protein. \n",
    "The molecular reaction caused by the off-target can lead to unwanted side effects, ranging from a rather harmless to an extremely harmful impact. \n",
    "Off-targets mainly occur because on- and off-targets share similar structural motifs with each other in their binding site and therefore can bind similar ligands."
   ]
  },
  {
   "cell_type": "markdown",
   "metadata": {},
   "source": [
    "### Computational off-target prediction: binding site comparison\n",
    "\n",
    "Computation-aided prediction of potential off-targets is aimed at minimizing the risk of developing potentially dangerous substances for medical treatment.\n",
    "There are several algorithmic approaches to assess binding site similarity but they always consist of three main steps:\n",
    "\n",
    "1. **Binding site encoding**: binding sites are encoded using different descriptor techniques and stored in a target database.\n",
    "2. **Binding site comparison**: a query binding site is compared with the target database, using different similarity measures.\n",
    "3. **Target ranking**: targets are ranked based on a suitable scoring approach.\n",
    "\n",
    "For detailed information on different similarity measures and existing tools, we refer to two excellent reviews on binding site comparison ([<i>Curr. Comput. Aided Drug Des. </i> (2008), <b>4</b>, 209-20](https://www.eurekaselect.com/67606/article/how-measure-similarity-between-protein-ligand-binding-sites) and [<i>J. Med. Chem. </i> (2016), <b>9</b>, 4121-51](https://pubs.acs.org/doi/10.1021/acs.jmedchem.6b00078)).\n",
    "\n",
    "![Binding site comparison steps](images/binding_site_comparison_steps.png)\n",
    "\n",
    "_Figure 1_: Main steps of binding site comparison methods (figure by Dominique Sydow).</div>"
   ]
  },
  {
   "cell_type": "markdown",
   "metadata": {},
   "source": [
    "### Pairwise RMSD as simple measure for similarity\n",
    "\n",
    "A simple and straightforward method for scoring the similarity is to use the calculated root mean square deviation (RMSD), which is the square root of the mean of the square of the distances between the atoms of two aligned structures ([Wikipedia](https://en.wikipedia.org/wiki/Root-mean-square_deviation_of_atomic_positions)). \n",
    "\n",
    "\n",
    "In order to find the respective atoms that are compared between two structures, they need to be aligned first based on sequence-based or sequence-independent alignment algorithms ([Book chapter: Algorithms, Applications, and Challenges of Protein Structure Alignment in *Advances in Protein Chemistry and Structural Biology* (2014), **94**, 121-75](https://www.sciencedirect.com/science/article/pii/B9780128001684000056?via%3Dihub))."
   ]
  },
  {
   "cell_type": "markdown",
   "metadata": {},
   "source": [
    "### Imatinib, a tyrosine kinase inhibitor\n",
    "\n",
    "Kinases transfer a phosphate group from ATP to proteins, and thereby regulate various cellular processes such as signal transduction, metabolism, and protein regulation.\n",
    "If these kinases are constitutively active (due to genomic mutations), they can distort regulation processes and cause cancer.\n",
    "An example for cancer treatment is Imatinib ([<i>Nat. Rev. Clin. Oncol.</i> (2016), <b>13</b>, 431-46](https://www.nature.com/articles/nrclinonc.2016.41)), a small molecule tyrosine kinase inhibitor used to treat cancer, more specifically chronic myeloid leukaemia (CML) and gastrointestinal stromal tumour (GIST). \n",
    "\n",
    "Imatinib was shown to be not entirely specific and to target tyrosine kinases other than its main target. This was used for drug repositioning, i.e. Imatinib was approved for alternate cancer types, ([<i>J. Biol.</i> (2009), <b>8</b>, 30](https://jbiol.biomedcentral.com/articles/10.1186/jbiol134)), however can also show unwanted side effects such as signs of an allergic reaction, infection, bleeding, or headache ([MedFacts Consumer Drug Information](https://www.drugs.com/cdi/imatinib.html))."
   ]
  },
  {
   "cell_type": "markdown",
   "metadata": {},
   "source": [
    "## Practical\n",
    "\n",
    "In the following, we will fetch and filter PDB structures that bind Imatinib. We will investigate the structure similarity of Imatinib-binding proteins (those with a solved protein structure). \n",
    "The similarity measure used is a pairwise RMSD calculation (as a simple similarity measure), in order to show that this simple method can be used as an initial test for potential off-targets."
   ]
  },
  {
   "cell_type": "code",
   "execution_count": 1,
   "metadata": {},
   "outputs": [
    {
     "data": {
      "application/vnd.jupyter.widget-view+json": {
       "model_id": "db3798d2fff44e78809251ebab8d7141",
       "version_major": 2,
       "version_minor": 0
      },
      "text/plain": []
     },
     "metadata": {},
     "output_type": "display_data"
    },
    {
     "name": "stderr",
     "output_type": "stream",
     "text": [
      "/home/michael/.miniconda3/envs/teachopencadd/lib/python3.9/site-packages/h5py/__init__.py:46: DeprecationWarning: `np.typeDict` is a deprecated alias for `np.sctypeDict`.\n",
      "  from ._conv import register_converters as _register_converters\n"
     ]
    }
   ],
   "source": [
    "import logging\n",
    "from pathlib import Path\n",
    "import random\n",
    "import warnings\n",
    "\n",
    "import pandas as pd\n",
    "import matplotlib.pyplot as plt\n",
    "import seaborn as sns\n",
    "import redo\n",
    "import nglview as nv\n",
    "import pypdb\n",
    "import biotite.database.rcsb as rcsb\n",
    "from rdkit import Chem\n",
    "from rdkit.Chem import Draw, AllChem\n",
    "from MDAnalysis.analysis import rms\n",
    "from opencadd.structure.core import Structure\n",
    "from opencadd.structure.superposition.api import align, METHODS\n",
    "from opencadd.structure.superposition.engines.mda import MDAnalysisAligner\n",
    "\n",
    "from teachopencadd.utils import seed_everything\n",
    "\n",
    "seed_everything()"
   ]
  },
  {
   "cell_type": "code",
   "execution_count": 2,
   "metadata": {},
   "outputs": [],
   "source": [
    "# Ignore warnings, added because of the two following warnings\n",
    "# VisibleDeprecationWarning (MDAnalysis), ClusterWarning (seaborn)\n",
    "# TODO check in the future if ignoring warnings is still necessary\n",
    "warnings.simplefilter(\"ignore\")\n",
    "# Also make MDAnalysis code in OpenCADD a bit less noisy\n",
    "logger = logging.getLogger(\"opencadd\")\n",
    "logger.setLevel(logging.ERROR)"
   ]
  },
  {
   "cell_type": "code",
   "execution_count": 3,
   "metadata": {},
   "outputs": [],
   "source": [
    "# Set path to this notebook\n",
    "HERE = Path(_dh[0])\n",
    "DATA = HERE / \"data\""
   ]
  },
  {
   "cell_type": "code",
   "execution_count": 4,
   "metadata": {},
   "outputs": [],
   "source": [
    "# Frozen set of PDB IDs that will be used in this notebook\n",
    "# TODO check in the future if we want to update this dataset\n",
    "FROZEN_PDB_IDS = [\"3HEC\", \"2PL0\", \"4CSV\", \"4R7I\", \"1XBB\", \"3FW1\", \"1T46\"]"
   ]
  },
  {
   "cell_type": "markdown",
   "metadata": {},
   "source": [
    "### Load and visualize the ligand of interest (Imatinib/STI)\n",
    "\n",
    "The SMILES format for Imatinib can be retrieved from e.g. the [ChEMBL database by its compound ID *CHEMBL941*](https://www.ebi.ac.uk/chembl/compound/inspect/CHEMBL941) or the [PDB database by its Ligand Expo ID *STI*](https://www3.rcsb.org/ligand/STI). \n",
    "We simply copy the string from the \"Isomeric SMILES\" entry of the Chemical Component Summary table, and load the ligand here by hand."
   ]
  },
  {
   "cell_type": "code",
   "execution_count": 5,
   "metadata": {},
   "outputs": [
    {
     "data": {
      "image/png": "[encoded data removed]",
      "text/plain": [
       "<PIL.PngImagePlugin.PngImageFile image mode=RGB size=300x300>"
      ]
     },
     "execution_count": 5,
     "metadata": {},
     "output_type": "execute_result"
    }
   ],
   "source": [
    "smiles = Chem.MolFromSmiles(\"CN1CCN(Cc2ccc(cc2)C(=O)Nc2ccc(C)c(Nc3nccc(n3)-c3cccnc3)c2)CC1\")\n",
    "Draw.MolToImage(smiles)"
   ]
  },
  {
   "cell_type": "markdown",
   "metadata": {},
   "source": [
    "In order to inspect the 3D structure of STI, we use the open source tool `nglview`. \n",
    "Before we can view STI in `nglview`, we need to compute its 3D coordinates.\n",
    "\n",
    "First, we add hydrogen atoms to the molecule, which are not always explicitly denoted in the SMILES format.\n",
    "Second, we use the distance geometry to obtain initial coordinates for the molecule and optimize the structure of the molecule using the force field UFF (Universal Force Field)."
   ]
  },
  {
   "cell_type": "code",
   "execution_count": 6,
   "metadata": {},
   "outputs": [
    {
     "data": {
      "image/png": "[encoded data removed]",
      "text/plain": [
       "<rdkit.Chem.rdchem.Mol at 0x7fa56661c3a0>"
      ]
     },
     "execution_count": 6,
     "metadata": {},
     "output_type": "execute_result"
    }
   ],
   "source": [
    "molecule = Chem.AddHs(smiles)\n",
    "molecule"
   ]
  },
  {
   "cell_type": "code",
   "execution_count": 7,
   "metadata": {},
   "outputs": [
    {
     "data": {
      "image/png": "[encoded data removed]",
      "text/plain": [
       "<rdkit.Chem.rdchem.Mol at 0x7fa56661c3a0>"
      ]
     },
     "execution_count": 7,
     "metadata": {},
     "output_type": "execute_result"
    }
   ],
   "source": [
    "AllChem.EmbedMolecule(molecule)\n",
    "AllChem.UFFOptimizeMolecule(molecule)\n",
    "molecule"
   ]
  },
  {
   "cell_type": "markdown",
   "metadata": {},
   "source": [
    "Now, we are ready to roll in `nglview`! "
   ]
  },
  {
   "cell_type": "code",
   "execution_count": 8,
   "metadata": {},
   "outputs": [
    {
     "data": {
      "application/vnd.jupyter.widget-view+json": {
       "model_id": "e708cc9dd3ff42b7aa2ce0feaf9face1",
       "version_major": 2,
       "version_minor": 0
      },
      "text/plain": [
       "NGLWidget()"
      ]
     },
     "metadata": {},
     "output_type": "display_data"
    }
   ],
   "source": [
    "view = nv.show_rdkit(molecule)\n",
    "view"
   ]
  },
  {
   "cell_type": "code",
   "execution_count": 9,
   "metadata": {
    "scrolled": true
   },
   "outputs": [],
   "source": [
    "view.render_image(trim=True, factor=2, transparent=True);"
   ]
  },
  {
   "cell_type": "code",
   "execution_count": 10,
   "metadata": {},
   "outputs": [
    {
     "data": {
      "image/png": "",
      "text/plain": [
       "<IPython.core.display.Image object>"
      ]
     },
     "execution_count": 10,
     "metadata": {},
     "output_type": "execute_result"
    }
   ],
   "source": [
    "view._display_image()"
   ]
  },
  {
   "cell_type": "markdown",
   "metadata": {},
   "source": [
    "### Get protein-STI complexes from the PDB\n",
    "\n",
    "In the following, we will search for PDB IDs describing structures in the PDB that fulfill the following criteria:\n",
    "\n",
    "- Structure is bound to Imatinib (Ligand Expo ID: STI)\n",
    "- Structure was experimentally resolved by X-ray crystallography\n",
    "- Structure has a resolution less or equal to $3.0$\n",
    "- Structure has only one chain (for simplicity)\n",
    "\n",
    "Each structure in the PDB database is linked to many different fields to hold meta information such as our defined criteria. Check out the complete list of available fields for [chemicals](https://search.rcsb.org/chemical-search-attributes.html)/[structures](https://search.rcsb.org/structure-search-attributes.html) and supported operators on the RCSB website. \n",
    "\n",
    "The package `biotite` provides a very nice module `databases.rcsb` (see [docs](https://www.biotite-python.org/apidoc/biotite.database.rcsb.html)), which allows us to query one (`FieldQuery`, see [docs](https://www.biotite-python.org/apidoc/biotite.database.rcsb.FieldQuery.html#biotite.database.rcsb.FieldQuery)) or more (`CompositeQuery`, see [docs](https://www.biotite-python.org/apidoc/biotite.database.rcsb.CompositeQuery.html#biotite.database.rcsb.CompositeQuery)) of these fields to retrieve a count (`count`) or list (`search`) of PDB IDs that match our criteria. \n",
    "\n",
    "This is a table summarizing our queries:\n",
    "\n",
    "| Field | Operator | Value |\n",
    "|-|-|-|\n",
    "| `rcsb_nonpolymer_entity_container_identifiers.nonpolymer_comp_id` | `exact_match` | STI |\n",
    "| `exptl.method` | `exact_match` | X-RAY DIFFRACTION |\n",
    "| `rcsb_entry_info.resolution_combined` | `less_or_equal` | $3.0$ |\n",
    "| `rcsb_entry_info.deposited_polymer_entity_instance_count` | `equals` | $1$ |\n",
    "\n",
    "We will first perform each of the queries alone and check the number of matches per condition. Afterwards, we will combine all queries with the `and` operator to match only PDB IDs that fulfill all the conditions."
   ]
  },
  {
   "cell_type": "markdown",
   "metadata": {},
   "source": [
    "**Query STI-bound structures**"
   ]
  },
  {
   "cell_type": "code",
   "execution_count": 11,
   "metadata": {},
   "outputs": [
    {
     "name": "stdout",
     "output_type": "stream",
     "text": [
      "Number of matches: 28\n"
     ]
    }
   ],
   "source": [
    "query_by_ligand_id = rcsb.FieldQuery(\n",
    "    \"rcsb_nonpolymer_entity_container_identifiers.nonpolymer_comp_id\", exact_match=\"STI\"\n",
    ")\n",
    "print(f\"Number of matches: {rcsb.count(query_by_ligand_id)}\")"
   ]
  },
  {
   "cell_type": "markdown",
   "metadata": {},
   "source": [
    "**Query structures from X-ray crystallography**"
   ]
  },
  {
   "cell_type": "code",
   "execution_count": 12,
   "metadata": {},
   "outputs": [
    {
     "name": "stdout",
     "output_type": "stream",
     "text": [
      "Number of matches: 174575\n"
     ]
    }
   ],
   "source": [
    "query_by_experimental_method = rcsb.FieldQuery(\"exptl.method\", exact_match=\"X-RAY DIFFRACTION\")\n",
    "print(f\"Number of matches: {rcsb.count(query_by_experimental_method)}\")"
   ]
  },
  {
   "cell_type": "markdown",
   "metadata": {},
   "source": [
    "**Query structures with resolution less than or equal to 3.0**"
   ]
  },
  {
   "cell_type": "code",
   "execution_count": 13,
   "metadata": {},
   "outputs": [
    {
     "name": "stdout",
     "output_type": "stream",
     "text": [
      "Number of matches: 166898\n"
     ]
    }
   ],
   "source": [
    "query_by_resolution = rcsb.FieldQuery(\"rcsb_entry_info.resolution_combined\", less_or_equal=3.0)\n",
    "print(f\"Number of matches: {rcsb.count(query_by_resolution)}\")"
   ]
  },
  {
   "cell_type": "markdown",
   "metadata": {},
   "source": [
    "**Query structures with only one chain**"
   ]
  },
  {
   "cell_type": "code",
   "execution_count": 14,
   "metadata": {},
   "outputs": [
    {
     "name": "stdout",
     "output_type": "stream",
     "text": [
      "Number of matches: 74223\n"
     ]
    }
   ],
   "source": [
    "query_by_polymer_count = rcsb.FieldQuery(\n",
    "    \"rcsb_entry_info.deposited_polymer_entity_instance_count\", equals=1\n",
    ")\n",
    "print(f\"Number of matches: {rcsb.count(query_by_polymer_count)}\")"
   ]
  },
  {
   "cell_type": "markdown",
   "metadata": {},
   "source": [
    "**Query structures fulfilling all the above criteria**\n",
    "\n",
    "Use the `and` operator to combine the list of queries above."
   ]
  },
  {
   "cell_type": "code",
   "execution_count": 15,
   "metadata": {},
   "outputs": [
    {
     "name": "stdout",
     "output_type": "stream",
     "text": [
      "Number of matches: 9\n",
      "Selected PDB IDs:\n",
      "1T46 1XBB 2PL0 3FW1 3GVU 3HEC 4CSV 4R7I 6JOL\n"
     ]
    }
   ],
   "source": [
    "query = rcsb.CompositeQuery(\n",
    "    [\n",
    "        query_by_ligand_id,\n",
    "        query_by_experimental_method,\n",
    "        query_by_resolution,\n",
    "        query_by_polymer_count,\n",
    "    ],\n",
    "    \"and\",\n",
    ")\n",
    "pdb_ids = rcsb.search(query)\n",
    "print(f\"Number of matches: {len(pdb_ids)}\")\n",
    "print(\"Selected PDB IDs:\")\n",
    "print(*pdb_ids)"
   ]
  },
  {
   "cell_type": "markdown",
   "metadata": {},
   "source": [
    "__Note__: The next step has technical reasons only. In order to maintain the notebooks automatically, we define here a certain set of PDB IDs to work with. Thus, even if new PDB structures matching our filtering criteria are added to the PDB, they will not be included in the downstream analysis and therefore the output will stay the same. Remote this step if you want to work with the full set of PDB structures."
   ]
  },
  {
   "cell_type": "code",
   "execution_count": 16,
   "metadata": {},
   "outputs": [
    {
     "name": "stdout",
     "output_type": "stream",
     "text": [
      "Final set of PDB IDs:\n",
      "3HEC 2PL0 4CSV 4R7I 1XBB 3FW1 1T46\n"
     ]
    }
   ],
   "source": [
    "pdb_ids = FROZEN_PDB_IDS\n",
    "print(\"Final set of PDB IDs:\")\n",
    "print(*pdb_ids)"
   ]
  },
  {
   "cell_type": "markdown",
   "metadata": {},
   "source": [
    "### Visualize the PDB structures\n",
    "\n",
    "First, we load all structures in `nglview` for visual inspection of the 3D structure of the protein data set. "
   ]
  },
  {
   "cell_type": "code",
   "execution_count": 17,
   "metadata": {},
   "outputs": [
    {
     "data": {
      "application/vnd.jupyter.widget-view+json": {
       "model_id": "b775295b7fd44896b335b845c03212ea",
       "version_major": 2,
       "version_minor": 0
      },
      "text/plain": [
       "NGLWidget()"
      ]
     },
     "metadata": {},
     "output_type": "display_data"
    }
   ],
   "source": [
    "view = nv.NGLWidget()\n",
    "for pdb_id in pdb_ids:\n",
    "    view.add_pdbid(pdb_id)\n",
    "view"
   ]
  },
  {
   "cell_type": "code",
   "execution_count": 18,
   "metadata": {},
   "outputs": [],
   "source": [
    "view.render_image(trim=True, factor=2, transparent=True);"
   ]
  },
  {
   "cell_type": "code",
   "execution_count": 19,
   "metadata": {},
   "outputs": [
    {
     "data": {
      "image/png": "",
      "text/plain": [
       "<IPython.core.display.Image object>"
      ]
     },
     "execution_count": 19,
     "metadata": {},
     "output_type": "execute_result"
    }
   ],
   "source": [
    "view._display_image()"
   ]
  },
  {
   "cell_type": "markdown",
   "metadata": {},
   "source": [
    "Though this image is beautifully colorful and curly, it is not informative yet. We align the structures to each other in the next step."
   ]
  },
  {
   "cell_type": "markdown",
   "metadata": {},
   "source": [
    "### Align the PDB structures (full protein)\n",
    "\n",
    "We will use one of our `opencadd` packages (`structure.superposition` module) to guide the structural alignment of the different proteins. The approach we will use is based on superposition guided by sequence alignment provided matched residues. There are other methods in the package, but this simple one will be enough to showcase some similarities.\n",
    "\n",
    "Note: This approach biases the analysis towards structures with similar sequences. For an automated workflow (where we do not know the sequence or structural similarity of protein pairs) a solution could be to calculate the RMSD based on all three measures and retain the best for further analysis.\n",
    "\n",
    "First, we show the alignment of all structures to the first structure in the our list."
   ]
  },
  {
   "cell_type": "code",
   "execution_count": 20,
   "metadata": {},
   "outputs": [],
   "source": [
    "# Download PDB\n",
    "structures = [Structure.from_pdbid(pdb_id) for pdb_id in pdb_ids]\n",
    "# Strip solvent and other artifacts of crystallography\n",
    "proteins = [Structure.from_atomgroup(s.select_atoms(\"protein\")) for s in structures]\n",
    "# Align proteins\n",
    "results = align(proteins, method=METHODS[\"mda\"])"
   ]
  },
  {
   "cell_type": "code",
   "execution_count": 21,
   "metadata": {},
   "outputs": [
    {
     "data": {
      "application/vnd.jupyter.widget-view+json": {
       "model_id": "773dd9d036844399bbb54a79b08b4bb0",
       "version_major": 2,
       "version_minor": 0
      },
      "text/plain": [
       "NGLWidget()"
      ]
     },
     "metadata": {},
     "output_type": "display_data"
    }
   ],
   "source": [
    "view = nv.NGLWidget()\n",
    "for protein in proteins:\n",
    "    view.add_component(protein.atoms)\n",
    "view"
   ]
  },
  {
   "cell_type": "code",
   "execution_count": 22,
   "metadata": {},
   "outputs": [],
   "source": [
    "view.render_image(trim=True, factor=2, transparent=True);"
   ]
  },
  {
   "cell_type": "code",
   "execution_count": 23,
   "metadata": {},
   "outputs": [
    {
     "data": {
      "image/png": "",
      "text/plain": [
       "<IPython.core.display.Image object>"
      ]
     },
     "execution_count": 23,
     "metadata": {},
     "output_type": "execute_result"
    }
   ],
   "source": [
    "view._display_image()"
   ]
  },
  {
   "cell_type": "markdown",
   "metadata": {},
   "source": [
    "The structural alignment for many helices is high, whereas lower or poor for other protein parts."
   ]
  },
  {
   "cell_type": "code",
   "execution_count": 24,
   "metadata": {},
   "outputs": [],
   "source": [
    "def calc_rmsd(A, B):\n",
    "    \"\"\"\n",
    "    Calculate RMSD between two structures.\n",
    "\n",
    "    Parameters\n",
    "    ----------\n",
    "    A : opencadd.structure.core.Structure\n",
    "        Structure A.\n",
    "    B : opencadd.structure.core.Structure\n",
    "        Structure B.\n",
    "\n",
    "    Returns\n",
    "    -------\n",
    "    float\n",
    "        RMSD value.\n",
    "    \"\"\"\n",
    "    aligner = MDAnalysisAligner()\n",
    "    selection, _ = aligner.matching_selection(A, B)\n",
    "    A = A.select_atoms(selection[\"reference\"])\n",
    "    B = B.select_atoms(selection[\"mobile\"])\n",
    "    return rms.rmsd(A.positions, B.positions, superposition=False)"
   ]
  },
  {
   "cell_type": "code",
   "execution_count": 25,
   "metadata": {},
   "outputs": [],
   "source": [
    "def calc_rmsd_matrix(structures, names):\n",
    "    \"\"\"\n",
    "    Calculate RMSD matrix between a list of structures.\n",
    "\n",
    "    Parameters\n",
    "    ----------\n",
    "    structures : list of opencadd.structure.core.Structure\n",
    "        List of structures.\n",
    "    names : list of str\n",
    "        List of structure names.\n",
    "\n",
    "    Returns\n",
    "    -------\n",
    "    pandas.DataFrame\n",
    "        RMSD matrix.\n",
    "    \"\"\"\n",
    "    values = {name: {} for name in names}\n",
    "    for i, (A, name_i) in enumerate(zip(structures, names)):\n",
    "        for j, (B, name_j) in enumerate(zip(structures, names)):\n",
    "            if i == j:\n",
    "                values[name_i][name_j] = 0.0\n",
    "                continue\n",
    "            if i < j:\n",
    "                rmsd = calc_rmsd(A, B)\n",
    "                values[name_i][name_j] = rmsd\n",
    "                values[name_j][name_i] = rmsd\n",
    "                continue\n",
    "    df = pd.DataFrame.from_dict(values)\n",
    "    return df"
   ]
  },
  {
   "cell_type": "markdown",
   "metadata": {},
   "source": [
    "### Get pairwise RMSD (full protein)"
   ]
  },
  {
   "cell_type": "code",
   "execution_count": 26,
   "metadata": {},
   "outputs": [
    {
     "data": {
      "text/html": [
       "<div>\n",
       "<style scoped>\n",
       "    .dataframe tbody tr th:only-of-type {\n",
       "        vertical-align: middle;\n",
       "    }\n",
       "\n",
       "    .dataframe tbody tr th {\n",
       "        vertical-align: top;\n",
       "    }\n",
       "\n",
       "    .dataframe thead th {\n",
       "        text-align: right;\n",
       "    }\n",
       "</style>\n",
       "<table border=\"1\" class=\"dataframe\">\n",
       "  <thead>\n",
       "    <tr style=\"text-align: right;\">\n",
       "      <th></th>\n",
       "      <th>3HEC</th>\n",
       "      <th>2PL0</th>\n",
       "      <th>4CSV</th>\n",
       "      <th>4R7I</th>\n",
       "      <th>1XBB</th>\n",
       "      <th>3FW1</th>\n",
       "      <th>1T46</th>\n",
       "    </tr>\n",
       "  </thead>\n",
       "  <tbody>\n",
       "    <tr>\n",
       "      <th>3HEC</th>\n",
       "      <td>0.0</td>\n",
       "      <td>16.1</td>\n",
       "      <td>12.6</td>\n",
       "      <td>20.5</td>\n",
       "      <td>17.2</td>\n",
       "      <td>23.7</td>\n",
       "      <td>21.7</td>\n",
       "    </tr>\n",
       "    <tr>\n",
       "      <th>2PL0</th>\n",
       "      <td>16.1</td>\n",
       "      <td>0.0</td>\n",
       "      <td>3.7</td>\n",
       "      <td>13.5</td>\n",
       "      <td>7.5</td>\n",
       "      <td>22.8</td>\n",
       "      <td>14.1</td>\n",
       "    </tr>\n",
       "    <tr>\n",
       "      <th>4CSV</th>\n",
       "      <td>12.6</td>\n",
       "      <td>3.7</td>\n",
       "      <td>0.0</td>\n",
       "      <td>14.0</td>\n",
       "      <td>7.8</td>\n",
       "      <td>22.5</td>\n",
       "      <td>14.6</td>\n",
       "    </tr>\n",
       "    <tr>\n",
       "      <th>4R7I</th>\n",
       "      <td>20.5</td>\n",
       "      <td>13.5</td>\n",
       "      <td>14.0</td>\n",
       "      <td>0.0</td>\n",
       "      <td>11.9</td>\n",
       "      <td>21.9</td>\n",
       "      <td>3.2</td>\n",
       "    </tr>\n",
       "    <tr>\n",
       "      <th>1XBB</th>\n",
       "      <td>17.2</td>\n",
       "      <td>7.5</td>\n",
       "      <td>7.8</td>\n",
       "      <td>11.9</td>\n",
       "      <td>0.0</td>\n",
       "      <td>22.2</td>\n",
       "      <td>12.6</td>\n",
       "    </tr>\n",
       "    <tr>\n",
       "      <th>3FW1</th>\n",
       "      <td>23.7</td>\n",
       "      <td>22.8</td>\n",
       "      <td>22.5</td>\n",
       "      <td>21.9</td>\n",
       "      <td>22.2</td>\n",
       "      <td>0.0</td>\n",
       "      <td>21.6</td>\n",
       "    </tr>\n",
       "    <tr>\n",
       "      <th>1T46</th>\n",
       "      <td>21.7</td>\n",
       "      <td>14.1</td>\n",
       "      <td>14.6</td>\n",
       "      <td>3.2</td>\n",
       "      <td>12.6</td>\n",
       "      <td>21.6</td>\n",
       "      <td>0.0</td>\n",
       "    </tr>\n",
       "  </tbody>\n",
       "</table>\n",
       "</div>"
      ],
      "text/plain": [
       "      3HEC  2PL0  4CSV  4R7I  1XBB  3FW1  1T46\n",
       "3HEC   0.0  16.1  12.6  20.5  17.2  23.7  21.7\n",
       "2PL0  16.1   0.0   3.7  13.5   7.5  22.8  14.1\n",
       "4CSV  12.6   3.7   0.0  14.0   7.8  22.5  14.6\n",
       "4R7I  20.5  13.5  14.0   0.0  11.9  21.9   3.2\n",
       "1XBB  17.2   7.5   7.8  11.9   0.0  22.2  12.6\n",
       "3FW1  23.7  22.8  22.5  21.9  22.2   0.0  21.6\n",
       "1T46  21.7  14.1  14.6   3.2  12.6  21.6   0.0"
      ]
     },
     "execution_count": 26,
     "metadata": {},
     "output_type": "execute_result"
    }
   ],
   "source": [
    "# NBVAL_CHECK_OUTPUT\n",
    "rmsd_matrix = calc_rmsd_matrix(proteins, pdb_ids)\n",
    "rmsd_matrix.round(1)"
   ]
  },
  {
   "cell_type": "markdown",
   "metadata": {},
   "source": [
    "We visualize the results of this RMSD refinement as heatmap."
   ]
  },
  {
   "cell_type": "code",
   "execution_count": 27,
   "metadata": {},
   "outputs": [
    {
     "data": {
      "image/png": "[encoded data removed]",
      "text/plain": [
       "<Figure size 640x480 with 2 Axes>"
      ]
     },
     "metadata": {},
     "output_type": "display_data"
    }
   ],
   "source": [
    "# Make sure matplotlib version >= 3.1.2; otherwise you'll get Y-cropped heatmaps\n",
    "sns.heatmap(\n",
    "    rmsd_matrix,\n",
    "    linewidths=0,\n",
    "    annot=True,\n",
    "    square=True,\n",
    "    cbar_kws={\"label\": \"RMSD ($\\AA$)\"},\n",
    "    cmap=\"Blues\",\n",
    ");"
   ]
  },
  {
   "cell_type": "markdown",
   "metadata": {},
   "source": [
    "We cluster the heatmap in order to see protein similarity based on the RMSD refinement."
   ]
  },
  {
   "cell_type": "code",
   "execution_count": 28,
   "metadata": {},
   "outputs": [],
   "source": [
    "def plot_clustermap(rmsd):\n",
    "    \"\"\"\n",
    "    Plot clustered heatmap from import RMSD matrix.\n",
    "\n",
    "    Parameters\n",
    "    ----------\n",
    "    rmsd : pandas.DataFrame\n",
    "        RMSD matrix.\n",
    "    title : str\n",
    "        Plot title.\n",
    "\n",
    "    Returns\n",
    "    -------\n",
    "    matplotlib.figure.Figure\n",
    "        Clustered heatmap.\n",
    "    \"\"\"\n",
    "    g = sns.clustermap(\n",
    "        rmsd,\n",
    "        linewidths=1,\n",
    "        annot=True,\n",
    "        cbar_kws={\"label\": \"RMSD ($\\AA$)\"},\n",
    "        cmap=\"Blues\",\n",
    "    )\n",
    "    plt.setp(g.ax_heatmap.get_xticklabels(), rotation=0)\n",
    "    plt.setp(g.ax_heatmap.get_yticklabels(), rotation=0)\n",
    "    sns.set(font_scale=1.5)\n",
    "    return plt.gcf()"
   ]
  },
  {
   "cell_type": "code",
   "execution_count": 29,
   "metadata": {},
   "outputs": [
    {
     "data": {
      "image/png": "[encoded data removed]",
      "text/plain": [
       "<Figure size 1000x1000 with 4 Axes>"
      ]
     },
     "metadata": {},
     "output_type": "display_data"
    }
   ],
   "source": [
    "plot_clustermap(rmsd_matrix);"
   ]
  },
  {
   "cell_type": "markdown",
   "metadata": {},
   "source": [
    "The RMSD comparison shows that one protein differs most from the other proteins, i.e. 3FW1. Let's try to understand by checking which proteins we have in our dataset."
   ]
  },
  {
   "cell_type": "markdown",
   "metadata": {},
   "source": [
    "Proteins are classified by the chemical reactions that they catalyze with EC (Enzyme Commission) numbers. We will use them here to check the enzymatic groups the proteins belong to. Let's get the EC numbers from the PDB using the package `pypdb` (see more details in **Talktorial T008**)."
   ]
  },
  {
   "cell_type": "code",
   "execution_count": 30,
   "metadata": {
    "scrolled": true
   },
   "outputs": [
    {
     "data": {
      "text/html": [
       "<div>\n",
       "<style scoped>\n",
       "    .dataframe tbody tr th:only-of-type {\n",
       "        vertical-align: middle;\n",
       "    }\n",
       "\n",
       "    .dataframe tbody tr th {\n",
       "        vertical-align: top;\n",
       "    }\n",
       "\n",
       "    .dataframe thead th {\n",
       "        text-align: right;\n",
       "    }\n",
       "</style>\n",
       "<table border=\"1\" class=\"dataframe\">\n",
       "  <thead>\n",
       "    <tr style=\"text-align: right;\">\n",
       "      <th></th>\n",
       "      <th>pdb_id</th>\n",
       "      <th>description</th>\n",
       "    </tr>\n",
       "  </thead>\n",
       "  <tbody>\n",
       "    <tr>\n",
       "      <th>0</th>\n",
       "      <td>3HEC</td>\n",
       "      <td>Mitogen-activated protein kinase 14 (E.C.2.7.11.24)</td>\n",
       "    </tr>\n",
       "    <tr>\n",
       "      <th>1</th>\n",
       "      <td>2PL0</td>\n",
       "      <td>Proto-oncogene tyrosine-protein kinase LCK (E.C.2.7.10.2)</td>\n",
       "    </tr>\n",
       "    <tr>\n",
       "      <th>2</th>\n",
       "      <td>4CSV</td>\n",
       "      <td>SRC-ABL TYROSINE KINASE ANCESTOR (E.C.2.7.10.2)</td>\n",
       "    </tr>\n",
       "    <tr>\n",
       "      <th>3</th>\n",
       "      <td>4R7I</td>\n",
       "      <td>Macrophage colony-stimulating factor 1 receptor (E.C.2.7.10.1)</td>\n",
       "    </tr>\n",
       "    <tr>\n",
       "      <th>4</th>\n",
       "      <td>1XBB</td>\n",
       "      <td>Tyrosine-protein kinase SYK (E.C.2.7.1.112)</td>\n",
       "    </tr>\n",
       "    <tr>\n",
       "      <th>5</th>\n",
       "      <td>3FW1</td>\n",
       "      <td>Human Quinone Reductase 2 Bound to Imatinib</td>\n",
       "    </tr>\n",
       "    <tr>\n",
       "      <th>6</th>\n",
       "      <td>1T46</td>\n",
       "      <td>Homo sapiens v-kit Hardy-Zuckerman 4 feline sarcoma viral oncogene homolog (E.C.2.7.1.112)</td>\n",
       "    </tr>\n",
       "  </tbody>\n",
       "</table>\n",
       "</div>"
      ],
      "text/plain": [
       "  pdb_id   \n",
       "0   3HEC  \\\n",
       "1   2PL0   \n",
       "2   4CSV   \n",
       "3   4R7I   \n",
       "4   1XBB   \n",
       "5   3FW1   \n",
       "6   1T46   \n",
       "\n",
       "                                                                                  description  \n",
       "0                                         Mitogen-activated protein kinase 14 (E.C.2.7.11.24)  \n",
       "1                                   Proto-oncogene tyrosine-protein kinase LCK (E.C.2.7.10.2)  \n",
       "2                                             SRC-ABL TYROSINE KINASE ANCESTOR (E.C.2.7.10.2)  \n",
       "3                              Macrophage colony-stimulating factor 1 receptor (E.C.2.7.10.1)  \n",
       "4                                                 Tyrosine-protein kinase SYK (E.C.2.7.1.112)  \n",
       "5                                                 Human Quinone Reductase 2 Bound to Imatinib  \n",
       "6  Homo sapiens v-kit Hardy-Zuckerman 4 feline sarcoma viral oncogene homolog (E.C.2.7.1.112)  "
      ]
     },
     "execution_count": 30,
     "metadata": {},
     "output_type": "execute_result"
    }
   ],
   "source": [
    "# NBVAL_CHECK_OUTPUT\n",
    "# Get EC numbers for PDB IDs from PDB\n",
    "pdbs_info = [pypdb.get_all_info(pdb_id) for pdb_id in pdb_ids]\n",
    "pdbx_descriptors = [pdb_info[\"struct\"][\"pdbx_descriptor\"] for pdb_info in pdbs_info]\n",
    "ec_numbers = pd.DataFrame(\n",
    "    {\n",
    "        \"pdb_id\": pdb_ids,\n",
    "        \"description\": pdbx_descriptors,\n",
    "    }\n",
    ")\n",
    "# Increase column width to fit all text\n",
    "pd.set_option(\"max_colwidth\", 100)\n",
    "ec_numbers"
   ]
  },
  {
   "cell_type": "markdown",
   "metadata": {},
   "source": [
    "We can see that 3FW1 is a the human quinone reductase 2 (NQO2), the only protein not belonging to class 2.7 (phosphorus transferases), which contains the tyrosine kinases (EC 2.7.10.2), the designated targets for Imatinib. 3FW1 is a reported off-target \"with potential implications for drug design and treatment of chronic myelogenous leukemia in patients\" ([<i>BMC Struct. Biol.</i> (2009), <b>9</b>](https://bmcstructbiol.biomedcentral.com/articles/10.1186/1472-6807-9-7))."
   ]
  },
  {
   "cell_type": "markdown",
   "metadata": {},
   "source": [
    "### Align PDB structures (binding sites)"
   ]
  },
  {
   "cell_type": "markdown",
   "metadata": {},
   "source": [
    "So far, we have used the full protein structure for the alignment and RMSD refinement. However, ligands bind only at a protein's binding site. \n",
    "Therefore, the similarity of binding sites is a more putative basis for off-target prediction rather than of the similarity of full protein structures. \n",
    "\n",
    "We define a binding site of a protein by selecting all residues that are within 10 &#8491; of any ligand atom. These binding site residues are used for alignment and only their C&#593; atoms (protein backbone) are used for the RMSD refinement. Here, we show the alignment of all structures to the first structure in our list.\n",
    "\n",
    "Note that for the aligner to work, full residues must be selected as part of the distance search, hence the need for the `same residue as (...)` query."
   ]
  },
  {
   "cell_type": "code",
   "execution_count": 31,
   "metadata": {},
   "outputs": [],
   "source": [
    "sel = \"same residue as (resname STI or (around 10 resname STI))\"\n",
    "binding_sites = [Structure.from_atomgroup(s.select_atoms(sel)) for s in structures]"
   ]
  },
  {
   "cell_type": "markdown",
   "metadata": {},
   "source": [
    "Let's look at the proteins' binding sites only."
   ]
  },
  {
   "cell_type": "code",
   "execution_count": 32,
   "metadata": {},
   "outputs": [
    {
     "data": {
      "application/vnd.jupyter.widget-view+json": {
       "model_id": "a7c2706289bd43db9416ac89f9688c46",
       "version_major": 2,
       "version_minor": 0
      },
      "text/plain": [
       "NGLWidget()"
      ]
     },
     "metadata": {},
     "output_type": "display_data"
    }
   ],
   "source": [
    "view = nv.NGLWidget()\n",
    "for binding_site in binding_sites:\n",
    "    view.add_component(binding_site.atoms)\n",
    "view"
   ]
  },
  {
   "cell_type": "code",
   "execution_count": 33,
   "metadata": {},
   "outputs": [],
   "source": [
    "view.render_image(trim=True, factor=2, transparent=True);"
   ]
  },
  {
   "cell_type": "code",
   "execution_count": 34,
   "metadata": {},
   "outputs": [
    {
     "data": {
      "image/png": "",
      "text/plain": [
       "<IPython.core.display.Image object>"
      ]
     },
     "execution_count": 34,
     "metadata": {},
     "output_type": "execute_result"
    }
   ],
   "source": [
    "view._display_image()"
   ]
  },
  {
   "cell_type": "markdown",
   "metadata": {},
   "source": [
    "Now we align the binding sites."
   ]
  },
  {
   "cell_type": "code",
   "execution_count": 35,
   "metadata": {},
   "outputs": [],
   "source": [
    "results_binding_sites = align(binding_sites, method=METHODS[\"mda\"])"
   ]
  },
  {
   "cell_type": "markdown",
   "metadata": {},
   "source": [
    "Let's visualize our aligned binding sites."
   ]
  },
  {
   "cell_type": "code",
   "execution_count": 36,
   "metadata": {},
   "outputs": [
    {
     "data": {
      "application/vnd.jupyter.widget-view+json": {
       "model_id": "7496e4be73a64a8b9a1abef1db46ef3a",
       "version_major": 2,
       "version_minor": 0
      },
      "text/plain": [
       "NGLWidget()"
      ]
     },
     "metadata": {},
     "output_type": "display_data"
    }
   ],
   "source": [
    "view = nv.NGLWidget()\n",
    "for binding_site in binding_sites:\n",
    "    view.add_component(binding_site.atoms)\n",
    "view"
   ]
  },
  {
   "cell_type": "code",
   "execution_count": 37,
   "metadata": {},
   "outputs": [],
   "source": [
    "view.render_image(trim=True, factor=2, transparent=True);"
   ]
  },
  {
   "cell_type": "code",
   "execution_count": 38,
   "metadata": {},
   "outputs": [
    {
     "data": {
      "image/png": "",
      "text/plain": [
       "<IPython.core.display.Image object>"
      ]
     },
     "execution_count": 38,
     "metadata": {},
     "output_type": "execute_result"
    }
   ],
   "source": [
    "view._display_image()"
   ]
  },
  {
   "cell_type": "markdown",
   "metadata": {},
   "source": [
    "### Get pairwise RMSD (binding sites)"
   ]
  },
  {
   "cell_type": "code",
   "execution_count": 39,
   "metadata": {},
   "outputs": [
    {
     "data": {
      "text/html": [
       "<div>\n",
       "<style scoped>\n",
       "    .dataframe tbody tr th:only-of-type {\n",
       "        vertical-align: middle;\n",
       "    }\n",
       "\n",
       "    .dataframe tbody tr th {\n",
       "        vertical-align: top;\n",
       "    }\n",
       "\n",
       "    .dataframe thead th {\n",
       "        text-align: right;\n",
       "    }\n",
       "</style>\n",
       "<table border=\"1\" class=\"dataframe\">\n",
       "  <thead>\n",
       "    <tr style=\"text-align: right;\">\n",
       "      <th></th>\n",
       "      <th>3HEC</th>\n",
       "      <th>2PL0</th>\n",
       "      <th>4CSV</th>\n",
       "      <th>4R7I</th>\n",
       "      <th>1XBB</th>\n",
       "      <th>3FW1</th>\n",
       "      <th>1T46</th>\n",
       "    </tr>\n",
       "  </thead>\n",
       "  <tbody>\n",
       "    <tr>\n",
       "      <th>3HEC</th>\n",
       "      <td>0.0</td>\n",
       "      <td>6.2</td>\n",
       "      <td>4.6</td>\n",
       "      <td>5.7</td>\n",
       "      <td>12.3</td>\n",
       "      <td>15.0</td>\n",
       "      <td>9.8</td>\n",
       "    </tr>\n",
       "    <tr>\n",
       "      <th>2PL0</th>\n",
       "      <td>6.2</td>\n",
       "      <td>0.0</td>\n",
       "      <td>4.0</td>\n",
       "      <td>4.0</td>\n",
       "      <td>11.7</td>\n",
       "      <td>11.3</td>\n",
       "      <td>4.3</td>\n",
       "    </tr>\n",
       "    <tr>\n",
       "      <th>4CSV</th>\n",
       "      <td>4.6</td>\n",
       "      <td>4.0</td>\n",
       "      <td>0.0</td>\n",
       "      <td>5.2</td>\n",
       "      <td>10.7</td>\n",
       "      <td>13.9</td>\n",
       "      <td>5.9</td>\n",
       "    </tr>\n",
       "    <tr>\n",
       "      <th>4R7I</th>\n",
       "      <td>5.7</td>\n",
       "      <td>4.0</td>\n",
       "      <td>5.2</td>\n",
       "      <td>0.0</td>\n",
       "      <td>10.5</td>\n",
       "      <td>14.5</td>\n",
       "      <td>2.7</td>\n",
       "    </tr>\n",
       "    <tr>\n",
       "      <th>1XBB</th>\n",
       "      <td>12.3</td>\n",
       "      <td>11.7</td>\n",
       "      <td>10.7</td>\n",
       "      <td>10.5</td>\n",
       "      <td>0.0</td>\n",
       "      <td>13.5</td>\n",
       "      <td>11.1</td>\n",
       "    </tr>\n",
       "    <tr>\n",
       "      <th>3FW1</th>\n",
       "      <td>15.0</td>\n",
       "      <td>11.3</td>\n",
       "      <td>13.9</td>\n",
       "      <td>14.5</td>\n",
       "      <td>13.5</td>\n",
       "      <td>0.0</td>\n",
       "      <td>15.3</td>\n",
       "    </tr>\n",
       "    <tr>\n",
       "      <th>1T46</th>\n",
       "      <td>9.8</td>\n",
       "      <td>4.3</td>\n",
       "      <td>5.9</td>\n",
       "      <td>2.7</td>\n",
       "      <td>11.1</td>\n",
       "      <td>15.3</td>\n",
       "      <td>0.0</td>\n",
       "    </tr>\n",
       "  </tbody>\n",
       "</table>\n",
       "</div>"
      ],
      "text/plain": [
       "      3HEC  2PL0  4CSV  4R7I  1XBB  3FW1  1T46\n",
       "3HEC   0.0   6.2   4.6   5.7  12.3  15.0   9.8\n",
       "2PL0   6.2   0.0   4.0   4.0  11.7  11.3   4.3\n",
       "4CSV   4.6   4.0   0.0   5.2  10.7  13.9   5.9\n",
       "4R7I   5.7   4.0   5.2   0.0  10.5  14.5   2.7\n",
       "1XBB  12.3  11.7  10.7  10.5   0.0  13.5  11.1\n",
       "3FW1  15.0  11.3  13.9  14.5  13.5   0.0  15.3\n",
       "1T46   9.8   4.3   5.9   2.7  11.1  15.3   0.0"
      ]
     },
     "execution_count": 39,
     "metadata": {},
     "output_type": "execute_result"
    }
   ],
   "source": [
    "# NBVAL_CHECK_OUTPUT\n",
    "rmsd_matrix_binding_sites = calc_rmsd_matrix(binding_sites, pdb_ids)\n",
    "rmsd_matrix_binding_sites.round(1)"
   ]
  },
  {
   "cell_type": "markdown",
   "metadata": {},
   "source": [
    "We show the clustered heatmap for the RMSD results."
   ]
  },
  {
   "cell_type": "code",
   "execution_count": 40,
   "metadata": {},
   "outputs": [
    {
     "data": {
      "image/png": "[encoded data removed]",
      "text/plain": [
       "<Figure size 1000x1000 with 4 Axes>"
      ]
     },
     "metadata": {},
     "output_type": "display_data"
    }
   ],
   "source": [
    "# Show the pairwise RMSD values as clustered heatmap\n",
    "plot_clustermap(rmsd_matrix_binding_sites);"
   ]
  },
  {
   "cell_type": "markdown",
   "metadata": {},
   "source": [
    "What are the key observations in this heatmap?\n",
    "\n",
    "- As observed already during the *full protein* comparison, also the *binding site* comparison reveals the highest dissimilarity for `3FW1`. Since `3FW1` is the only structure in our dataset representing not a kinase, we are content that our similarity measure was able to spot this. As discussed before, the human quinone reductase 2 (`3FW1`) is a reported off-target for Imatinib.\n",
    "- Also the kinase `1XBB` shows a higher dissimilarity compared to the other kinases. This can be explained by `1XBB` being resolved in a different conformation (DFG-in) than the other kinases (DFG-out). The DFG motif is an important structural element in kinases, defining whether a kinase is active (DFG-in conformation) or inactive (DFG-out conformation). Note: DFG conformations of kinase structures can be looked up e.g. in the [KLIFS database](https://www.klifs.net).\n",
    "- The remaining structures are comparatively similar to each other, which we would expect since they all represent kinases in the overall same conformation.\n",
    "\n",
    "Note that RMSD values as calculated here are dependent on the residue selection (binding site definition) and the quality of the a priori sequence alignment."
   ]
  },
  {
   "cell_type": "markdown",
   "metadata": {},
   "source": [
    "### Filter out outliers\n",
    "\n",
    "For a cleaner depiction of the most similar structures, we can filter `3FW1` and `1XBB` out and re-run the binding site comparison."
   ]
  },
  {
   "cell_type": "code",
   "execution_count": 41,
   "metadata": {},
   "outputs": [],
   "source": [
    "filtered_structures = []\n",
    "filtered_pdb_ids = []\n",
    "for name, structure in zip(pdb_ids, structures):\n",
    "    if name not in (\"3FW1\", \"1XBB\"):\n",
    "        filtered_structures.append(structure)\n",
    "        filtered_pdb_ids.append(name)"
   ]
  },
  {
   "cell_type": "code",
   "execution_count": 42,
   "metadata": {},
   "outputs": [],
   "source": [
    "selection = \"same residue as (resname STI or (around 10 resname STI))\"\n",
    "filtered_binding_sites = [\n",
    "    Structure.from_atomgroup(s.select_atoms(selection)) for s in filtered_structures\n",
    "]"
   ]
  },
  {
   "cell_type": "code",
   "execution_count": 43,
   "metadata": {},
   "outputs": [
    {
     "data": {
      "application/vnd.jupyter.widget-view+json": {
       "model_id": "42a879e03a624d3ab4f069bb164e3fab",
       "version_major": 2,
       "version_minor": 0
      },
      "text/plain": [
       "NGLWidget()"
      ]
     },
     "metadata": {},
     "output_type": "display_data"
    }
   ],
   "source": [
    "view = nv.NGLWidget()\n",
    "for binding_site in filtered_binding_sites:\n",
    "    view.add_component(binding_site.atoms)\n",
    "view"
   ]
  },
  {
   "cell_type": "code",
   "execution_count": 44,
   "metadata": {},
   "outputs": [],
   "source": [
    "view.render_image(trim=True, factor=2, transparent=True);"
   ]
  },
  {
   "cell_type": "code",
   "execution_count": 45,
   "metadata": {},
   "outputs": [
    {
     "data": {
      "image/png": "",
      "text/plain": [
       "<IPython.core.display.Image object>"
      ]
     },
     "execution_count": 45,
     "metadata": {},
     "output_type": "execute_result"
    }
   ],
   "source": [
    "view._display_image()"
   ]
  },
  {
   "cell_type": "code",
   "execution_count": 46,
   "metadata": {},
   "outputs": [],
   "source": [
    "filtered_results_binding_sites = align(filtered_binding_sites, method=METHODS[\"mda\"])"
   ]
  },
  {
   "cell_type": "code",
   "execution_count": 47,
   "metadata": {},
   "outputs": [
    {
     "data": {
      "application/vnd.jupyter.widget-view+json": {
       "model_id": "52d1fa730c7d4d5dbd51a097b0b2c3ba",
       "version_major": 2,
       "version_minor": 0
      },
      "text/plain": [
       "NGLWidget()"
      ]
     },
     "metadata": {},
     "output_type": "display_data"
    }
   ],
   "source": [
    "view = nv.NGLWidget()\n",
    "for binding_site in filtered_binding_sites:\n",
    "    view.add_component(binding_site.atoms)\n",
    "view"
   ]
  },
  {
   "cell_type": "code",
   "execution_count": 48,
   "metadata": {},
   "outputs": [],
   "source": [
    "view.render_image(trim=True, factor=2, transparent=True);"
   ]
  },
  {
   "cell_type": "code",
   "execution_count": 49,
   "metadata": {
    "tags": [
     "nbsphinx-thumbnail"
    ]
   },
   "outputs": [
    {
     "data": {
      "image/png": "",
      "text/plain": [
       "<IPython.core.display.Image object>"
      ]
     },
     "execution_count": 49,
     "metadata": {},
     "output_type": "execute_result"
    }
   ],
   "source": [
    "view._display_image()"
   ]
  },
  {
   "cell_type": "code",
   "execution_count": 50,
   "metadata": {},
   "outputs": [
    {
     "data": {
      "text/html": [
       "<div>\n",
       "<style scoped>\n",
       "    .dataframe tbody tr th:only-of-type {\n",
       "        vertical-align: middle;\n",
       "    }\n",
       "\n",
       "    .dataframe tbody tr th {\n",
       "        vertical-align: top;\n",
       "    }\n",
       "\n",
       "    .dataframe thead th {\n",
       "        text-align: right;\n",
       "    }\n",
       "</style>\n",
       "<table border=\"1\" class=\"dataframe\">\n",
       "  <thead>\n",
       "    <tr style=\"text-align: right;\">\n",
       "      <th></th>\n",
       "      <th>3HEC</th>\n",
       "      <th>2PL0</th>\n",
       "      <th>4CSV</th>\n",
       "      <th>4R7I</th>\n",
       "      <th>1T46</th>\n",
       "    </tr>\n",
       "  </thead>\n",
       "  <tbody>\n",
       "    <tr>\n",
       "      <th>3HEC</th>\n",
       "      <td>0.0</td>\n",
       "      <td>6.2</td>\n",
       "      <td>4.6</td>\n",
       "      <td>5.7</td>\n",
       "      <td>9.8</td>\n",
       "    </tr>\n",
       "    <tr>\n",
       "      <th>2PL0</th>\n",
       "      <td>6.2</td>\n",
       "      <td>0.0</td>\n",
       "      <td>4.0</td>\n",
       "      <td>4.0</td>\n",
       "      <td>4.3</td>\n",
       "    </tr>\n",
       "    <tr>\n",
       "      <th>4CSV</th>\n",
       "      <td>4.6</td>\n",
       "      <td>4.0</td>\n",
       "      <td>0.0</td>\n",
       "      <td>5.2</td>\n",
       "      <td>5.9</td>\n",
       "    </tr>\n",
       "    <tr>\n",
       "      <th>4R7I</th>\n",
       "      <td>5.7</td>\n",
       "      <td>4.0</td>\n",
       "      <td>5.2</td>\n",
       "      <td>0.0</td>\n",
       "      <td>2.7</td>\n",
       "    </tr>\n",
       "    <tr>\n",
       "      <th>1T46</th>\n",
       "      <td>9.8</td>\n",
       "      <td>4.3</td>\n",
       "      <td>5.9</td>\n",
       "      <td>2.7</td>\n",
       "      <td>0.0</td>\n",
       "    </tr>\n",
       "  </tbody>\n",
       "</table>\n",
       "</div>"
      ],
      "text/plain": [
       "      3HEC  2PL0  4CSV  4R7I  1T46\n",
       "3HEC   0.0   6.2   4.6   5.7   9.8\n",
       "2PL0   6.2   0.0   4.0   4.0   4.3\n",
       "4CSV   4.6   4.0   0.0   5.2   5.9\n",
       "4R7I   5.7   4.0   5.2   0.0   2.7\n",
       "1T46   9.8   4.3   5.9   2.7   0.0"
      ]
     },
     "execution_count": 50,
     "metadata": {},
     "output_type": "execute_result"
    }
   ],
   "source": [
    "# NBVAL_CHECK_OUTPUT\n",
    "filtered_rmsd_matrix_bs = calc_rmsd_matrix(filtered_binding_sites, filtered_pdb_ids)\n",
    "filtered_rmsd_matrix_bs.round(1)"
   ]
  },
  {
   "cell_type": "code",
   "execution_count": 51,
   "metadata": {},
   "outputs": [
    {
     "data": {
      "image/png": "[encoded data removed]",
      "text/plain": [
       "<Figure size 1000x1000 with 4 Axes>"
      ]
     },
     "metadata": {},
     "output_type": "display_data"
    }
   ],
   "source": [
    "plot_clustermap(filtered_rmsd_matrix_bs);"
   ]
  },
  {
   "cell_type": "markdown",
   "metadata": {},
   "source": [
    "Much better!"
   ]
  },
  {
   "cell_type": "markdown",
   "metadata": {},
   "source": [
    "## Discussion\n",
    "\n",
    "In this talktorial, we have used a simple comparison approach, i.e. sequence alignment and subsequent RMSD refinement of (i) full proteins and (ii) binding sites, to assess the similarity and dissimilarity of a small set of structures showing Imatinib-binding proteins. \n",
    "In our data set, we were able to spot an off-target for Imatinib (highest dissimilarity) and a kinase resolved in a different conformation compared to the rest of the kinases (also with a relatively high dissimilarity). \n",
    "Given our simple approach, we are content with these results!\n",
    "\n",
    "In a real case scenario, off-targets for Imatinib would be predicted by comparing the binding site of an intended target of Imatinib (a tyrosine kinase) with a large database of resolved structures (PDB). \n",
    "Since this results in the comparison of sequences also with low similarity, more sophisticated methods should be invoked\n",
    "that use a sequence-independent alignment algorithm and that include the physico-chemical properties of the binding site.\n",
    "\n",
    "## Quiz\n",
    "\n",
    "1. Explain the terms on- and off-targets of a drug.\n",
    "2. Explain why binding site similarity can be used to find off-targets based on a query target.\n",
    "3. Discuss how useful the RMSD value of (i) full proteins and (ii) protein binding sites is for off-target prediction.\n",
    "4. Think of alternate approaches to encode binding site information."
   ]
  }
 ],
 "metadata": {
  "kernelspec": {
   "display_name": "Python 3 (ipykernel)",
   "language": "python",
   "name": "python3"
  },
  "language_info": {
   "codemirror_mode": {
    "name": "ipython",
    "version": 3
   },
   "file_extension": ".py",
   "mimetype": "text/x-python",
   "name": "python",
   "nbconvert_exporter": "python",
   "pygments_lexer": "ipython3",
   "version": "3.9.16"
  },
  "toc-autonumbering": true,
  "widgets": {
   "application/vnd.jupyter.widget-state+json": {
    "state": {},
    "version_major": 2,
    "version_minor": 0
   }
  }
 },
 "nbformat": 4,
 "nbformat_minor": 4
}
