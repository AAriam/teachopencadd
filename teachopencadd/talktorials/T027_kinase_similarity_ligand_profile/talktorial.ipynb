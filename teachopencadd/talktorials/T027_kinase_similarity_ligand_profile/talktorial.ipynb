{
 "cells": [
  {
   "cell_type": "markdown",
   "metadata": {},
   "source": [
    "# T027 · Kinase similarity: Ligand profile\n",
    "\n",
    "**Note:** This talktorial is a part of TeachOpenCADD, a platform that aims to teach domain-specific skills and to provide pipeline templates as starting points for research projects.\n",
    "\n",
    "Authors:\n",
    "\n",
    "- Talia B. Kimber, 2021, [Volkamer lab, Charité](https://volkamerlab.org/)\n",
    "- Dominique Sydow, 2021, [Volkamer lab, Charité](https://volkamerlab.org/)\n",
    "- Andrea Volkamer, 2021, [Volkamer lab, Charité](https://volkamerlab.org/)"
   ]
  },
  {
   "cell_type": "markdown",
   "metadata": {},
   "source": [
    "## Aim of this talktorial\n",
    "\n",
    "The aim of this talktorial is to investigate kinase similarity through ligand profiling data (ChEMBL29). In the context of drug design, the following assumption is often made: if a compound was tested active on two different kinases, it is suspected that these two kinases may have some degree of similarity. We will use this assumption in this talktorial. The concept of kinase promiscuity is also covered."
   ]
  },
  {
   "cell_type": "markdown",
   "metadata": {},
   "source": [
    "### Contents in *Theory*\n",
    "\n",
    "* Kinase dataset\n",
    "* Bioactivity data\n",
    "* Kinase similarity descriptor: Ligand profile\n",
    "    * Kinase similarity\n",
    "    * Kinase promiscuity\n",
    "* From similarity matrix to distance matrix"
   ]
  },
  {
   "cell_type": "markdown",
   "metadata": {},
   "source": [
    "### Contents in *Practical*\n",
    "\n",
    "* Define the kinases of interest\n",
    "* Retrieve the data\n",
    "* Preprocess the data\n",
    "    * Hit or non-hit\n",
    "* Kinase promiscuity\n",
    "* Kinase similarity\n",
    "    * Visualize similarity as kinase matrix\n",
    "    * Save kinase similarity matrix\n",
    "* Kinase distance matrix\n",
    "    * Save kinase distance matrix"
   ]
  },
  {
   "cell_type": "markdown",
   "metadata": {},
   "source": [
    "### References\n",
    "\n",
    "* Kinase dataset: [<i>Molecules</i> (2021), <b>26(3)</b>, 629](https://www.mdpi.com/1420-3049/26/3/629) \n",
    "* ChEMBL database\n",
    "  * Website: https://www.ebi.ac.uk/chembl/\n",
    "  * Paper: [<i>Nucleic Acid Research</i> (2017), <b>45(D1)</b>, D945-D954](https://doi.org/10.1093/nar/gkw1074) \n",
    "* KinMap\n",
    "  * Website: http://www.kinhub.org/kinmap/\n",
    "  * Paper: [<i>BMC Bioinformatics</i> (2017), <b>18(1)</b>, 16](https://doi.org/10.1186/s12859-016-1433-7) "
   ]
  },
  {
   "cell_type": "markdown",
   "metadata": {},
   "source": [
    "## Theory"
   ]
  },
  {
   "cell_type": "markdown",
   "metadata": {},
   "source": [
    "### Kinase dataset"
   ]
  },
  {
   "cell_type": "markdown",
   "metadata": {},
   "source": [
    "We use the kinase selection as defined in __Talktorial T023__."
   ]
  },
  {
   "cell_type": "markdown",
   "metadata": {},
   "source": [
    "### Bioactivity data"
   ]
  },
  {
   "cell_type": "markdown",
   "metadata": {},
   "source": [
    "In order to measure kinase similarity through ligand profiling data, bioactivity data is retrieved from the well-known [ChEMBL](https://www.ebi.ac.uk/chembl/) database and the query focuses on human kinases. Luckily, a curated version of ChEMBL29 is already freely available through the Openkinome organization, see https://github.com/openkinome/kinodata.\n",
    "For more details on querying the ChEMBL database, please refer to __Talktorial T001__."
   ]
  },
  {
   "cell_type": "markdown",
   "metadata": {},
   "source": [
    "In drug design, it is common to binarize the activity of a compound against a target of interest as a \"hit\" or \"non-hit\". Practically speaking, this is done using a cutoff value for measured activity. If the activity is greater than the cutoff, the compound is labeled as active (hit), and inactive (non-hit) otherwise.\n",
    "\n",
    "![Manning tree with number of ChEMBL activities per kinase (KinMap)](images/kinmap_n_activities_per_kinase.png)\n",
    "\n",
    "\n",
    "*Figure 1:* \n",
    "Number of ChEMBL29 bioactivities per kinase - as collected in [kinodata](https://github.com/openkinome/kinodata) - mapped onto the Manning kinome tree using [KinMap](http://www.kinhub.org/kinmap/). The figure has been generated in __Talktorial T023__."
   ]
  },
  {
   "cell_type": "markdown",
   "metadata": {},
   "source": [
    "### Kinase similarity descriptor: Ligand profile"
   ]
  },
  {
   "cell_type": "markdown",
   "metadata": {},
   "source": [
    "As a measure of similarity, we use ligand profiling data in this talktorial."
   ]
  },
  {
   "cell_type": "markdown",
   "metadata": {
    "jp-MarkdownHeadingCollapsed": true,
    "tags": []
   },
   "source": [
    "#### Kinase similarity\n",
    "\n",
    "We use the following metric as similarity between two kinases $K_i$ and $K_j$ :\n",
    "\n",
    "$$\n",
    "\\text{similarity}(K_i, K_j) = \\frac{\\#\\text{ of compounds that were tested active on both } K_i \\text{ and } K_j}\n",
    "{\\#\\text{ of compounds that were tested on both } K_i \\text{ and } K_j}.\n",
    "$$\n",
    "\n",
    "Assuming that only one compound was tested on two kinases, and that the compound was tested as active for one and inactive for the other, then the similarity between these two kinases would be zero."
   ]
  },
  {
   "cell_type": "markdown",
   "metadata": {},
   "source": [
    "#### Kinase promiscuity\n",
    "Computing the similarity between a kinase and itself may be interpreted as kinase promiscuity, where the similarity described above would therefore represent the fraction of active compounds over all tested compounds."
   ]
  },
  {
   "cell_type": "markdown",
   "metadata": {},
   "source": [
    "### From similarity matrix to distance matrix\n",
    "\n",
    "As discussed in __Talktorial T024__, we convert the similarity matrix to a distance matrix."
   ]
  },
  {
   "cell_type": "markdown",
   "metadata": {},
   "source": [
    "## Practical"
   ]
  },
  {
   "cell_type": "code",
   "execution_count": 1,
   "metadata": {},
   "outputs": [],
   "source": [
    "from pathlib import Path\n",
    "from collections import Counter\n",
    "\n",
    "import pandas as pd\n",
    "import numpy as np\n",
    "import seaborn as sns\n",
    "import matplotlib.pyplot as plt\n",
    "\n",
    "from rdkit import Chem\n",
    "from rdkit.Chem import Draw\n",
    "from rdkit.Chem.Draw import IPythonConsole"
   ]
  },
  {
   "cell_type": "code",
   "execution_count": 2,
   "metadata": {},
   "outputs": [],
   "source": [
    "HERE = Path(_dh[-1])\n",
    "DATA = HERE / \"data\""
   ]
  },
  {
   "cell_type": "code",
   "execution_count": 3,
   "metadata": {},
   "outputs": [
    {
     "name": "stdout",
     "output_type": "stream",
     "text": [
      "Run in demo mode: True\n"
     ]
    }
   ],
   "source": [
    "configs = pd.read_csv(HERE / \"../T023_what_is_a_kinase/data/pipeline_configs.csv\")\n",
    "configs = configs.set_index(\"variable\")[\"default_value\"]\n",
    "DEMO = bool(int(configs[\"DEMO\"]))\n",
    "print(f\"Run in demo mode: {DEMO}\")\n",
    "# NBVAL_CHECK_OUTPUT"
   ]
  },
  {
   "cell_type": "markdown",
   "metadata": {},
   "source": [
    "### Define the kinases of interest"
   ]
  },
  {
   "cell_type": "markdown",
   "metadata": {},
   "source": [
    "Let's load the kinase selection as defined in __Talktorial T023__."
   ]
  },
  {
   "cell_type": "code",
   "execution_count": 4,
   "metadata": {},
   "outputs": [
    {
     "data": {
      "text/html": [
       "<div>\n",
       "<style scoped>\n",
       "    .dataframe tbody tr th:only-of-type {\n",
       "        vertical-align: middle;\n",
       "    }\n",
       "\n",
       "    .dataframe tbody tr th {\n",
       "        vertical-align: top;\n",
       "    }\n",
       "\n",
       "    .dataframe thead th {\n",
       "        text-align: right;\n",
       "    }\n",
       "</style>\n",
       "<table border=\"1\" class=\"dataframe\">\n",
       "  <thead>\n",
       "    <tr style=\"text-align: right;\">\n",
       "      <th></th>\n",
       "      <th>kinase</th>\n",
       "      <th>kinase_klifs</th>\n",
       "      <th>uniprot_id</th>\n",
       "      <th>group</th>\n",
       "      <th>full_kinase_name</th>\n",
       "    </tr>\n",
       "  </thead>\n",
       "  <tbody>\n",
       "    <tr>\n",
       "      <th>0</th>\n",
       "      <td>EGFR</td>\n",
       "      <td>EGFR</td>\n",
       "      <td>P00533</td>\n",
       "      <td>TK</td>\n",
       "      <td>Epidermal growth factor receptor</td>\n",
       "    </tr>\n",
       "    <tr>\n",
       "      <th>1</th>\n",
       "      <td>ErbB2</td>\n",
       "      <td>ErbB2</td>\n",
       "      <td>P04626</td>\n",
       "      <td>TK</td>\n",
       "      <td>Erythroblastic leukemia viral oncogene homolog 2</td>\n",
       "    </tr>\n",
       "    <tr>\n",
       "      <th>2</th>\n",
       "      <td>PI3K</td>\n",
       "      <td>p110a</td>\n",
       "      <td>P42336</td>\n",
       "      <td>Atypical</td>\n",
       "      <td>Phosphatidylinositol-3-kinase</td>\n",
       "    </tr>\n",
       "    <tr>\n",
       "      <th>3</th>\n",
       "      <td>VEGFR2</td>\n",
       "      <td>KDR</td>\n",
       "      <td>P35968</td>\n",
       "      <td>TK</td>\n",
       "      <td>Vascular endothelial growth factor receptor 2</td>\n",
       "    </tr>\n",
       "    <tr>\n",
       "      <th>4</th>\n",
       "      <td>BRAF</td>\n",
       "      <td>BRAF</td>\n",
       "      <td>P15056</td>\n",
       "      <td>TKL</td>\n",
       "      <td>Rapidly accelerated fibrosarcoma isoform B</td>\n",
       "    </tr>\n",
       "    <tr>\n",
       "      <th>5</th>\n",
       "      <td>CDK2</td>\n",
       "      <td>CDK2</td>\n",
       "      <td>P24941</td>\n",
       "      <td>CMGC</td>\n",
       "      <td>Cyclic-dependent kinase 2</td>\n",
       "    </tr>\n",
       "    <tr>\n",
       "      <th>6</th>\n",
       "      <td>LCK</td>\n",
       "      <td>LCK</td>\n",
       "      <td>P06239</td>\n",
       "      <td>TK</td>\n",
       "      <td>Lymphocyte-specific protein tyrosine kinase</td>\n",
       "    </tr>\n",
       "    <tr>\n",
       "      <th>7</th>\n",
       "      <td>MET</td>\n",
       "      <td>MET</td>\n",
       "      <td>P08581</td>\n",
       "      <td>TK</td>\n",
       "      <td>Mesenchymal-epithelial transition factor</td>\n",
       "    </tr>\n",
       "    <tr>\n",
       "      <th>8</th>\n",
       "      <td>p38a</td>\n",
       "      <td>p38a</td>\n",
       "      <td>Q16539</td>\n",
       "      <td>CMGC</td>\n",
       "      <td>p38 mitogen activated protein kinase alpha</td>\n",
       "    </tr>\n",
       "  </tbody>\n",
       "</table>\n",
       "</div>"
      ],
      "text/plain": [
       "   kinase kinase_klifs uniprot_id     group   \n",
       "0    EGFR         EGFR     P00533        TK  \\\n",
       "1   ErbB2        ErbB2     P04626        TK   \n",
       "2    PI3K        p110a     P42336  Atypical   \n",
       "3  VEGFR2          KDR     P35968        TK   \n",
       "4    BRAF         BRAF     P15056       TKL   \n",
       "5    CDK2         CDK2     P24941      CMGC   \n",
       "6     LCK          LCK     P06239        TK   \n",
       "7     MET          MET     P08581        TK   \n",
       "8    p38a         p38a     Q16539      CMGC   \n",
       "\n",
       "                                   full_kinase_name  \n",
       "0                  Epidermal growth factor receptor  \n",
       "1  Erythroblastic leukemia viral oncogene homolog 2  \n",
       "2                     Phosphatidylinositol-3-kinase  \n",
       "3     Vascular endothelial growth factor receptor 2  \n",
       "4        Rapidly accelerated fibrosarcoma isoform B  \n",
       "5                         Cyclic-dependent kinase 2  \n",
       "6       Lymphocyte-specific protein tyrosine kinase  \n",
       "7          Mesenchymal-epithelial transition factor  \n",
       "8        p38 mitogen activated protein kinase alpha  "
      ]
     },
     "execution_count": 4,
     "metadata": {},
     "output_type": "execute_result"
    }
   ],
   "source": [
    "kinase_selection_df = pd.read_csv(\n",
    "    HERE\n",
    "    / \"../T023_what_is_a_kinase/\\\n",
    "data/kinase_selection.csv\"\n",
    ")\n",
    "kinase_selection_df\n",
    "# NBVAL_CHECK_OUTPUT"
   ]
  },
  {
   "cell_type": "markdown",
   "metadata": {},
   "source": [
    "### Retrieve the data"
   ]
  },
  {
   "cell_type": "markdown",
   "metadata": {},
   "source": [
    "We retrieve a pre-curated version of a kinase subset of ChEMBL29 freely available at Openkinome, see https://github.com/openkinome/kinodata/releases/tag/v0.3."
   ]
  },
  {
   "cell_type": "code",
   "execution_count": null,
   "metadata": {},
   "outputs": [],
   "source": [
    "path = \"https://github.com/openkinome/kinodata/releases/download/\\\n",
    "v0.3/activities-chembl29_v0.3.zip\"\n",
    "# Load data and reset index so that it starts from 0\n",
    "data = pd.read_csv(path, index_col=0).reset_index(drop=True)\n",
    "print(f\"Current shape of data: {data.shape}\")\n",
    "data.head()\n",
    "# NBVAL_CHECK_OUTPUT"
   ]
  },
  {
   "cell_type": "markdown",
   "metadata": {},
   "source": [
    "### Preprocess the data"
   ]
  },
  {
   "cell_type": "markdown",
   "metadata": {},
   "source": [
    "We look at the type of activity and the associated units."
   ]
  },
  {
   "cell_type": "code",
   "execution_count": null,
   "metadata": {},
   "outputs": [],
   "source": [
    "print(\n",
    "    f\"Activities: {sorted(set(data['activities.standard_type']))}\\n\"\n",
    "    f\"Units: {set(data['activities.standard_units'])}\"\n",
    ")"
   ]
  },
  {
   "cell_type": "markdown",
   "metadata": {},
   "source": [
    "Let's keep the entries which have pIC50 values only."
   ]
  },
  {
   "cell_type": "code",
   "execution_count": null,
   "metadata": {},
   "outputs": [],
   "source": [
    "data = data[data[\"activities.standard_type\"] == \"pIC50\"]"
   ]
  },
  {
   "cell_type": "code",
   "execution_count": null,
   "metadata": {},
   "outputs": [],
   "source": [
    "data.columns\n",
    "# NBVAL_CHECK_OUTPUT"
   ]
  },
  {
   "cell_type": "markdown",
   "metadata": {},
   "source": [
    "The DataFrame contains many columns that won't be necessary for the rest of the notebook which are therefore removed. \n",
    "Only relevant information is kept, namely the canonical SMILES of the compound (`compound_structures.canonical_smiles`), the measured activity (`activities.standard_value`) and the UniProt ID of the kinase (`UniprotID`). These columns are renamed for readability."
   ]
  },
  {
   "cell_type": "code",
   "execution_count": null,
   "metadata": {},
   "outputs": [],
   "source": [
    "data = data[[\"compound_structures.canonical_smiles\", \"activities.standard_value\", \"UniprotID\"]]\n",
    "data = data.rename(\n",
    "    columns={\n",
    "        \"compound_structures.canonical_smiles\": \"smiles\",\n",
    "        \"activities.standard_value\": \"pIC50\",\n",
    "    }\n",
    ")"
   ]
  },
  {
   "cell_type": "code",
   "execution_count": null,
   "metadata": {},
   "outputs": [],
   "source": [
    "print(f\"Current shape of data: {data.shape}\")\n",
    "data.head()\n",
    "# NBVAL_CHECK_OUTPUT"
   ]
  },
  {
   "cell_type": "markdown",
   "metadata": {},
   "source": [
    "NA values are dropped."
   ]
  },
  {
   "cell_type": "code",
   "execution_count": null,
   "metadata": {},
   "outputs": [],
   "source": [
    "data = data.dropna()\n",
    "print(f\"Current shape of data: {data.shape}\")\n",
    "# NBVAL_CHECK_OUTPUT"
   ]
  },
  {
   "cell_type": "markdown",
   "metadata": {},
   "source": [
    "We only keep the data for the query kinases:"
   ]
  },
  {
   "cell_type": "code",
   "execution_count": null,
   "metadata": {},
   "outputs": [],
   "source": [
    "data = data[data[\"UniprotID\"].isin(kinase_selection_df[\"uniprot_id\"])]\n",
    "print(f\"Current shape of data: {data.shape}\")\n",
    "data.head()\n",
    "# NBVAL_CHECK_OUTPUT"
   ]
  },
  {
   "cell_type": "markdown",
   "metadata": {},
   "source": [
    "Let's look at example data (which corresponds to the first row in the kinase selection DataFrame):"
   ]
  },
  {
   "cell_type": "code",
   "execution_count": null,
   "metadata": {},
   "outputs": [],
   "source": [
    "example_kinase = kinase_selection_df[\"kinase_klifs\"][0]\n",
    "example_uniprot = kinase_selection_df[\"uniprot_id\"][0]\n",
    "\n",
    "example_data = data[data[\"UniprotID\"] == example_uniprot]\n",
    "\n",
    "print(f\"Example kinase: {example_kinase}\")"
   ]
  },
  {
   "cell_type": "markdown",
   "metadata": {},
   "source": [
    "Some compounds have been tested several times against a target, as shown below."
   ]
  },
  {
   "cell_type": "code",
   "execution_count": null,
   "metadata": {},
   "outputs": [],
   "source": [
    "measured_compounds = Counter(example_data[\"smiles\"])\n",
    "try:\n",
    "    top_measured_compounds = measured_compounds.most_common()[0:5]\n",
    "except IndexError:\n",
    "    top_measured_compounds = measured_compounds.most_common()\n",
    "top_measured_compounds\n",
    "# NBVAL_CHECK_OUTPUT"
   ]
  },
  {
   "cell_type": "markdown",
   "metadata": {},
   "source": [
    "We have a look at those compounds."
   ]
  },
  {
   "cell_type": "code",
   "execution_count": null,
   "metadata": {
    "tags": [
     "nbsphinx-thumbnail"
    ]
   },
   "outputs": [],
   "source": [
    "mols = []\n",
    "for entry in top_measured_compounds:\n",
    "    mols.append(Chem.MolFromSmiles(entry[0]))\n",
    "Draw.MolsToGridImage(mols, molsPerRow=5)"
   ]
  },
  {
   "cell_type": "markdown",
   "metadata": {},
   "source": [
    "In this example (demo mode), the first molecule is gefitinib, a known FDA-approved drug against EGFR."
   ]
  },
  {
   "cell_type": "markdown",
   "metadata": {},
   "source": [
    "As a simple workaround — since we prefer to have one activity value per compound-kinase pair — we keep the value for which the compound has the best activity value, i.e., the highest pIC50 value."
   ]
  },
  {
   "cell_type": "code",
   "execution_count": null,
   "metadata": {},
   "outputs": [],
   "source": [
    "data = data.groupby([\"UniprotID\", \"smiles\"])[\"pIC50\"].max().reset_index()\n",
    "data.head()\n",
    "# NBVAL_CHECK_OUTPUT"
   ]
  },
  {
   "cell_type": "markdown",
   "metadata": {},
   "source": [
    "#### Hit or non-hit"
   ]
  },
  {
   "cell_type": "markdown",
   "metadata": {},
   "source": [
    "Finally, we binarize the pIC50 values to obtain hit or non-hit using a cutoff. We use a pIC50 cutoff of $6.3$, similarly to the cutoff used in [<i>Molecules</i> (2021), <b>26(3)</b>, 629](https://www.mdpi.com/1420-3049/26/3/629)."
   ]
  },
  {
   "cell_type": "code",
   "execution_count": null,
   "metadata": {},
   "outputs": [],
   "source": [
    "cutoff = 6.3"
   ]
  },
  {
   "cell_type": "code",
   "execution_count": null,
   "metadata": {},
   "outputs": [],
   "source": [
    "def binarize_pic50(pic50_value, threshold):\n",
    "    \"\"\"\n",
    "    Binarizes a scalar value given a threshold.\n",
    "\n",
    "    Parameters\n",
    "    ----------\n",
    "    pic50_value : float\n",
    "        The measurement pIC50 value of a kinase-ligand pair.\n",
    "    threshold : float\n",
    "        The cutoff to determine activity.\n",
    "\n",
    "    Returns\n",
    "    -------\n",
    "    int\n",
    "        1 if the pIC50 value is above the threshold, which indicates activity.\n",
    "        0 otherwise.\n",
    "    \"\"\"\n",
    "    if pic50_value >= threshold:\n",
    "        return 1\n",
    "    else:\n",
    "        return 0"
   ]
  },
  {
   "cell_type": "code",
   "execution_count": null,
   "metadata": {},
   "outputs": [],
   "source": [
    "data[\"activity_binary\"] = data[\"pIC50\"].apply(binarize_pic50, args=(cutoff,))"
   ]
  },
  {
   "cell_type": "code",
   "execution_count": null,
   "metadata": {},
   "outputs": [],
   "source": [
    "print(f\"Current shape of data: {data.shape}\")\n",
    "data.head()\n",
    "# NBVAL_CHECK_OUTPUT"
   ]
  },
  {
   "cell_type": "markdown",
   "metadata": {},
   "source": [
    "### Kinase promiscuity"
   ]
  },
  {
   "cell_type": "markdown",
   "metadata": {},
   "source": [
    "We now look at the kinase promiscuity.\n",
    "\n",
    "For a given kinase, three values are computed:\n",
    "\n",
    "1. the total number of measured compounds against the given kinase,\n",
    "2. the number of active compounds against the kinase, and\n",
    "3. the fraction of active compounds, i.e., the ratio of active compounds over the total number of measured compounds per kinase."
   ]
  },
  {
   "cell_type": "code",
   "execution_count": null,
   "metadata": {},
   "outputs": [],
   "source": [
    "def kinase_to_activity_numbers(uniprot_id, activity_df):\n",
    "    \"\"\"\n",
    "    Retrieve the three values for a given kinase.\n",
    "\n",
    "    Parameters\n",
    "    ----------\n",
    "    uniprot_id : str\n",
    "        The UniProt ID of the kinase of interest, e.g. \"P00533\" for \"EGFR\".\n",
    "    activity_df : pd.DataFrame\n",
    "        The dataframe with activity values for kinases.\n",
    "\n",
    "    Returns\n",
    "    -------\n",
    "    tuple : (int, int, float)\n",
    "        The three metrics:\n",
    "        1. The total number of measured compounds against the kinase.\n",
    "        2. The number of active compounds against the kinase.\n",
    "        3. The fraction of active compounds against the kinase.\n",
    "    \"\"\"\n",
    "    kinase_data = activity_df[activity_df[\"UniprotID\"] == uniprot_id]\n",
    "    total_measured_compounds = len(kinase_data)\n",
    "    active_compounds = len(kinase_data[kinase_data[\"activity_binary\"] == 1])\n",
    "    if total_measured_compounds > 0:\n",
    "        fraction = active_compounds / total_measured_compounds\n",
    "    else:\n",
    "        print(\"No compounds were measured for this kinase.\")\n",
    "        fraction = np.nan\n",
    "    return (total_measured_compounds, active_compounds, fraction)"
   ]
  },
  {
   "cell_type": "markdown",
   "metadata": {},
   "source": [
    "Let's see what information we get for the first kinase in our dataset:"
   ]
  },
  {
   "cell_type": "code",
   "execution_count": null,
   "metadata": {},
   "outputs": [],
   "source": [
    "example_kinase = kinase_selection_df[\"kinase_klifs\"][0]\n",
    "example_uniprot = kinase_selection_df[\"uniprot_id\"][0]\n",
    "\n",
    "print(f\"{example_kinase} ({example_uniprot}):\")\n",
    "example_metrics = kinase_to_activity_numbers(example_uniprot, data)\n",
    "print(\n",
    "    f\"{'Total number of measured compounds:' : <40}\"\n",
    "    f\"{example_metrics[0]} \\n\"\n",
    "    f\"{'Number of active compounds:' : <40}\"\n",
    "    f\"{example_metrics[1]} \\n\"\n",
    "    f\"{'Fraction of active compounds:' : <40}\"\n",
    "    f\"{example_metrics[2]:.2f} \\n\"\n",
    ")\n",
    "# NBVAL_CHECK_OUTPUT"
   ]
  },
  {
   "cell_type": "markdown",
   "metadata": {},
   "source": [
    "Let's create a table from these values for all kinases:"
   ]
  },
  {
   "cell_type": "code",
   "execution_count": null,
   "metadata": {},
   "outputs": [],
   "source": [
    "def promiscuity_table(kinase_selection, activity_df):\n",
    "    \"\"\"\n",
    "    Create a table with all three values for all kinases.\n",
    "\n",
    "    Parameters\n",
    "    ----------\n",
    "    kinase_selection : pd.DataFrame\n",
    "        The DataFrame for the chosen kinases.\n",
    "    activity_df : pd.DataFrame\n",
    "        The DataFrame with activity values for kinases.\n",
    "\n",
    "    Returns\n",
    "    -------\n",
    "    promiscuity_table : pd.DataFrame\n",
    "        A DataFrame with the kinases as rows and values as columns.\n",
    "    \"\"\"\n",
    "    promiscuity_table = pd.DataFrame(\n",
    "        index=kinase_selection[\"kinase_klifs\"], columns=[\"total\", \"actives\", \"fraction\"]\n",
    "    )\n",
    "    promiscuity_table.index.name = None\n",
    "    promiscuity_table.columns.name = None\n",
    "\n",
    "    for name, uniprot_id in zip(kinase_selection[\"kinase_klifs\"], kinase_selection[\"uniprot_id\"]):\n",
    "        values = kinase_to_activity_numbers(uniprot_id, activity_df)\n",
    "        promiscuity_table.loc[name] = values\n",
    "    return promiscuity_table"
   ]
  },
  {
   "cell_type": "code",
   "execution_count": null,
   "metadata": {},
   "outputs": [],
   "source": [
    "kinase_promiscuity_df = promiscuity_table(kinase_selection_df, data)\n",
    "kinase_promiscuity_df\n",
    "# NBVAL_CHECK_OUTPUT"
   ]
  },
  {
   "cell_type": "markdown",
   "metadata": {},
   "source": [
    "Let's beautify the table:"
   ]
  },
  {
   "cell_type": "code",
   "execution_count": null,
   "metadata": {},
   "outputs": [],
   "source": [
    "kinase_promiscuity_df.style.format(\"{:.3f}\", subset=[\"fraction\"]).background_gradient(\n",
    "    cmap=\"Purples\", subset=[\"fraction\"]\n",
    ").highlight_min(color=\"yellow\", axis=None, subset=[\"fraction\"]).highlight_max(\n",
    "    color=\"red\", subset=[\"fraction\"]\n",
    ")"
   ]
  },
  {
   "cell_type": "markdown",
   "metadata": {},
   "source": [
    "From the table, we notice that CDK2 is the least (in yellow) and BRAF the most (in red) promiscuous kinase."
   ]
  },
  {
   "cell_type": "markdown",
   "metadata": {},
   "source": [
    "### Kinase similarity"
   ]
  },
  {
   "cell_type": "markdown",
   "metadata": {},
   "source": [
    "We now investigate how we can use the similarity measure discussed in the _Theory_ part to compare kinases. "
   ]
  },
  {
   "cell_type": "code",
   "execution_count": null,
   "metadata": {},
   "outputs": [],
   "source": [
    "def similarity_ligand_profile(uniprot_id1, uniprot_id2, activity_df):\n",
    "    \"\"\"\n",
    "    Compute the similarity between two kinases using ligand profiling data.\n",
    "\n",
    "    Parameters\n",
    "    ----------\n",
    "    uniprot_id1 : str\n",
    "        UniProt ID of first kinase of interest.\n",
    "    uniprot_id2 : str\n",
    "        UniProt ID of second kinase of interest.\n",
    "    activity_df :  pd.DataFrame\n",
    "        The DataFrame with activity values for kinases.\n",
    "\n",
    "    Returns\n",
    "    -------\n",
    "    tuple : (int, int, float)\n",
    "        The three metrics:\n",
    "        1. The total number of measured compounds against both kinases.\n",
    "        2. The number of active compounds against both kinases.\n",
    "        3. The metric for kinase similarity,\n",
    "                i.e. number of active compounds on both kinases\n",
    "                over number of measured compounds on both kinases.\n",
    "    \"\"\"\n",
    "    if uniprot_id1 == uniprot_id2:\n",
    "        return kinase_to_activity_numbers(uniprot_id1, activity_df)\n",
    "    else:\n",
    "        # Data for the two kinases only\n",
    "        reduced_data = activity_df[activity_df[\"UniprotID\"].isin([uniprot_id1, uniprot_id2])]\n",
    "\n",
    "        # Look at active compounds only\n",
    "        active_entries = reduced_data[reduced_data[\"activity_binary\"] == 1]\n",
    "        # Group by compounds\n",
    "        compounds = active_entries.groupby(\"smiles\").size()\n",
    "        # Look at the number of active compounds measured on both kinases\n",
    "        active_compounds_on_both = compounds[compounds == 2].shape[0]\n",
    "\n",
    "        # Look at all tested compounds\n",
    "        compounds = reduced_data.groupby(\"smiles\").size()\n",
    "        # Look at the number of compounds measured on both kinases\n",
    "        measured_compounds_on_both = compounds[compounds == 2].shape[0]\n",
    "\n",
    "        if measured_compounds_on_both > 0:\n",
    "            fraction = active_compounds_on_both / measured_compounds_on_both\n",
    "        else:\n",
    "            print(\n",
    "                f\"No compounds were measured on both kinases, \"\n",
    "                f\"namely {uniprot_id1} and {uniprot_id2}.\"\n",
    "            )\n",
    "            fraction = np.nan\n",
    "            measured_compounds_on_both = np.nan\n",
    "            active_compounds_on_both = np.nan\n",
    "        return (measured_compounds_on_both, active_compounds_on_both, fraction)"
   ]
  },
  {
   "cell_type": "markdown",
   "metadata": {},
   "source": [
    "Let's look at the values and similarity between two kinases."
   ]
  },
  {
   "cell_type": "code",
   "execution_count": null,
   "metadata": {},
   "outputs": [],
   "source": [
    "if DEMO:\n",
    "    kinase1 = \"EGFR\"\n",
    "    uniprot1 = \"P00533\"\n",
    "    kinase2 = \"MET\"\n",
    "    uniprot2 = \"P08581\"\n",
    "else:\n",
    "    kinase1 = kinase_selection_df[\"kinase_klifs\"][0]\n",
    "    uniprot1 = kinase_selection_df[\"uniprot_id\"][0]\n",
    "    kinase2 = kinase_selection_df[\"kinase_klifs\"][1]\n",
    "    uniprot2 = kinase_selection_df[\"uniprot_id\"][1]\n",
    "\n",
    "similarity_example = similarity_ligand_profile(uniprot1, uniprot2, data)\n",
    "print(\n",
    "    f\"Values for {kinase1} and {kinase2}: \\n\\n\"\n",
    "    f\"{'Total number of measured compounds:' : <50}\"\n",
    "    f\"{similarity_example[0]} \\n\"\n",
    "    f\"{'Number of active compounds:' : <50}\"\n",
    "    f\"{similarity_example[1]} \\n\"\n",
    "    f\"Fraction of active compounds or \\n\"\n",
    "    f\"{'ligand profile similarity:' : <50}\"\n",
    "    f\"{similarity_example[2]:.2f} \\n\"\n",
    ")\n",
    "# NBVAL_CHECK_OUTPUT"
   ]
  },
  {
   "cell_type": "markdown",
   "metadata": {},
   "source": [
    "#### Visualize similarity as kinase matrix"
   ]
  },
  {
   "cell_type": "markdown",
   "metadata": {},
   "source": [
    "Let's first look at the non-reduced fraction of number of active compound against total number of compounds to have an idea of the counts."
   ]
  },
  {
   "cell_type": "code",
   "execution_count": null,
   "metadata": {},
   "outputs": [],
   "source": [
    "kinase_counts_matrix = pd.DataFrame(\n",
    "    index=kinase_selection_df.kinase_klifs, columns=kinase_selection_df.kinase_klifs\n",
    ")\n",
    "kinase_counts_matrix.index.name = None\n",
    "kinase_counts_matrix.columns.name = None\n",
    "\n",
    "for i, (uniprot_id1, klifs_name1) in enumerate(\n",
    "    zip(kinase_selection_df.uniprot_id, kinase_selection_df.kinase_klifs)\n",
    "):\n",
    "    for j, (uniprot_id2, klifs_name2) in enumerate(\n",
    "        zip(kinase_selection_df.uniprot_id, kinase_selection_df.kinase_klifs)\n",
    "    ):\n",
    "        total, actives, _ = similarity_ligand_profile(uniprot_id1, uniprot_id2, data)\n",
    "        integer_ratio = f\"{actives}/{total}\"\n",
    "        kinase_counts_matrix[klifs_name1][klifs_name2] = integer_ratio\n",
    "kinase_counts_matrix\n",
    "# NBVAL_CHECK_OUTPUT"
   ]
  },
  {
   "cell_type": "markdown",
   "metadata": {},
   "source": [
    "Note that the total number of tested compounds as well as the number of active compounds on two kinases vary largely.\n",
    "\n",
    "* For the p110a-ErbB2 pair, there are none.\n",
    "* For p110a and [BRAF, CDK2, LCK, MET and p38a], there are less than $13$ commonly tested compounds.\n",
    "* In contrast, the EGFR-ErbB2 pair has $1170$ commonly tested compounds, of which $662$ were active on both."
   ]
  },
  {
   "cell_type": "markdown",
   "metadata": {},
   "source": [
    "Now let's look at the similarity, in this case, the reduced fraction:"
   ]
  },
  {
   "cell_type": "code",
   "execution_count": null,
   "metadata": {},
   "outputs": [],
   "source": [
    "kinase_similarity_matrix = np.zeros((len(kinase_selection_df), len(kinase_selection_df)))\n",
    "for i, uniprot_id1 in enumerate(kinase_selection_df.uniprot_id):\n",
    "    for j, uniprot_id2 in enumerate(kinase_selection_df.uniprot_id):\n",
    "        kinase_similarity_matrix[i, j] = similarity_ligand_profile(uniprot_id1, uniprot_id2, data)[\n",
    "            2\n",
    "        ]"
   ]
  },
  {
   "cell_type": "code",
   "execution_count": null,
   "metadata": {},
   "outputs": [],
   "source": [
    "kinase_similarity_matrix_df = pd.DataFrame(\n",
    "    data=kinase_similarity_matrix,\n",
    "    index=kinase_selection_df.kinase_klifs,\n",
    "    columns=kinase_selection_df.kinase_klifs,\n",
    ")\n",
    "kinase_similarity_matrix_df.index.name = None\n",
    "kinase_similarity_matrix_df.columns.name = None\n",
    "kinase_similarity_matrix_df\n",
    "# NBVAL_CHECK_OUTPUT"
   ]
  },
  {
   "cell_type": "code",
   "execution_count": null,
   "metadata": {},
   "outputs": [],
   "source": [
    "# Show matrix with background gradient\n",
    "cm = sns.light_palette(\"green\", as_cmap=True)\n",
    "kinase_similarity_matrix_df.style.background_gradient(cmap=cm).format(\"{:.3f}\")"
   ]
  },
  {
   "cell_type": "markdown",
   "metadata": {},
   "source": [
    "Note that the diagonal contains the previously discussed promiscuity values.\n",
    "\n",
    "As mentioned above, no compounds were measured on both ErbB2 and p110a and therefore creates a `np.nan` entry which can be problematic for algorithmic reason.\n",
    "\n",
    "As a simple workaround, we will fill the NA values with zero."
   ]
  },
  {
   "cell_type": "code",
   "execution_count": null,
   "metadata": {},
   "outputs": [],
   "source": [
    "kinase_similarity_matrix_df = kinase_similarity_matrix_df.fillna(0)\n",
    "\n",
    "kinase_similarity_matrix_df.style.background_gradient(cmap=cm).format(\"{:.3f}\")"
   ]
  },
  {
   "cell_type": "markdown",
   "metadata": {},
   "source": [
    "#### Save kinase similarity matrix"
   ]
  },
  {
   "cell_type": "code",
   "execution_count": null,
   "metadata": {},
   "outputs": [],
   "source": [
    "kinase_similarity_matrix_df.to_csv(DATA / \"kinase_similarity_matrix.csv\")"
   ]
  },
  {
   "cell_type": "markdown",
   "metadata": {},
   "source": [
    "### Kinase distance matrix"
   ]
  },
  {
   "cell_type": "markdown",
   "metadata": {},
   "source": [
    "The similarity matrix $SM$ is converted to a pseudo-distance matrix (all entries of the similarity matrix are between $0$ and $1$):"
   ]
  },
  {
   "cell_type": "code",
   "execution_count": null,
   "metadata": {},
   "outputs": [],
   "source": [
    "print(\n",
    "    f\"The values of the similarity matrix lie between: \"\n",
    "    f\"{kinase_similarity_matrix_df.min().min():.2f}\"\n",
    "    f\" and {kinase_similarity_matrix_df.max().max():.2f}\"\n",
    ")\n",
    "# NBVAL_CHECK_OUTPUT"
   ]
  },
  {
   "cell_type": "code",
   "execution_count": null,
   "metadata": {},
   "outputs": [],
   "source": [
    "kinase_distance_matrix_df = 1 - kinase_similarity_matrix_df"
   ]
  },
  {
   "cell_type": "markdown",
   "metadata": {},
   "source": [
    "Finally, we set the diagonal values to $0$ and we obtain the kinase distance matrix:"
   ]
  },
  {
   "cell_type": "code",
   "execution_count": null,
   "metadata": {},
   "outputs": [],
   "source": [
    "np.fill_diagonal(kinase_distance_matrix_df.values, 0)"
   ]
  },
  {
   "cell_type": "code",
   "execution_count": null,
   "metadata": {},
   "outputs": [],
   "source": [
    "kinase_distance_matrix_df.style.background_gradient(cmap=cm).format(\"{:.3f}\")"
   ]
  },
  {
   "cell_type": "markdown",
   "metadata": {},
   "source": [
    "#### Save kinase distance matrix"
   ]
  },
  {
   "cell_type": "code",
   "execution_count": null,
   "metadata": {},
   "outputs": [],
   "source": [
    "kinase_distance_matrix_df.to_csv(DATA / \"kinase_distance_matrix.csv\")"
   ]
  },
  {
   "cell_type": "markdown",
   "metadata": {},
   "source": [
    "## Discussion\n",
    "\n",
    "In this talktorial, we investigate how activity data can be used as a measure of similarity between kinases. The fraction of compounds tested as actives over the total number of measured compounds is a way of accessing the similarity. Moreover, using the same rationale, the promiscuity of a kinase can be quantified using the ratio of active compounds over measured compounds.\n",
    "\n",
    "When working with these data, we have to keep in mind that some kinases have much higher coverage with respect to the number of compounds that were tested against them, leading to an imbalance in information content.\n",
    "This cannot be inferred from the calculated fraction. For example, the pairs EGFR-KDR and EGFR-p38a both have a profile similarity of $0.35$. However, the first was calculated based on $893$ tested compounds, whereas the latter on $52$ only.\n",
    "\n",
    "The kinase distance matrix above will be reloaded in __Talktorial T028__, where we compare kinase similarities from different perspectives, including the ligand profile perspective we have talked about in this talktorial."
   ]
  },
  {
   "cell_type": "markdown",
   "metadata": {},
   "source": [
    "## Quiz\n",
    "\n",
    "1. Is there an optimal way to deal with multiple kinase-ligand measurements?\n",
    "2. Can promiscuity be fairly compared between two kinases if one has been tested against many compounds whereas the other only against very few? \n",
    "3. Using the similarity described in this talktorial, what does it mean that two kinases have a similarity of $0$, as is the case for p110a and LCK?"
   ]
  }
 ],
 "metadata": {
  "kernelspec": {
   "display_name": "Python 3 (ipykernel)",
   "language": "python",
   "name": "python3"
  },
  "language_info": {
   "codemirror_mode": {
    "name": "ipython",
    "version": 3
   },
   "file_extension": ".py",
   "mimetype": "text/x-python",
   "name": "python",
   "nbconvert_exporter": "python",
   "pygments_lexer": "ipython3",
   "version": "3.9.16"
  },
  "toc-autonumbering": true,
  "widgets": {
   "application/vnd.jupyter.widget-state+json": {
    "state": {},
    "version_major": 2,
    "version_minor": 0
   }
  }
 },
 "nbformat": 4,
 "nbformat_minor": 4
}
