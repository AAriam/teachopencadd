{
 "cells": [
  {
   "cell_type": "markdown",
   "metadata": {},
   "source": [
    "# T027 · Kinase similarity: ligand-profile\n",
    "\n",
    "Authors:\n",
    "\n",
    "- Talia B. Kimber, 2021, [Volkamer lab, Charité](https://volkamerlab.org/)\n",
    "- Dominique Sydow, 2021, [Volkamer lab, Charité](https://volkamerlab.org/)\n",
    "- Andrea Volkamer, 2021, [Volkamer lab, Charité](https://volkamerlab.org/)"
   ]
  },
  {
   "cell_type": "markdown",
   "metadata": {},
   "source": [
    "## Aim of this talktorial\n",
    "\n",
    "The aim of this talktorial is to investigate kinase similarity through ligand profiling. We make the following assumption: if a compound was tested as active on two different kinases, then we could assume that these two same kinases may have some degree of similarity. "
   ]
  },
  {
   "cell_type": "markdown",
   "metadata": {},
   "source": [
    "### Contents in *Theory*\n",
    "\n",
    "* Kinase dataset\n",
    "* Kinase similarity descriptor: ligand-profile\n",
    "    * Kinase similarity\n",
    "    * Kinase promiscuity"
   ]
  },
  {
   "cell_type": "markdown",
   "metadata": {},
   "source": [
    "### Contents in *Practical*\n",
    "\n",
    "* Retrieve the data\n",
    "* Preprocess the data\n",
    "    * Kinases of interest\n",
    "    * Hit or non-hit\n",
    "* Show kinase promiscuity\n",
    "* Compare kinases\n",
    "* Visualize similarity as kinase matrix\n",
    "* Visualize similarity as phylogenetic tree"
   ]
  },
  {
   "cell_type": "markdown",
   "metadata": {},
   "source": [
    "### References\n",
    "\n",
    "* Kinase dataset: [<i>Molecules</i> (2021), <b>26(3)</b>, 629](https://www.mdpi.com/1420-3049/26/3/629) \n",
    "* Kinase similarity descriptor: ligand-profile"
   ]
  },
  {
   "cell_type": "code",
   "execution_count": 1,
   "metadata": {},
   "outputs": [],
   "source": [
    "# TODO: ADD"
   ]
  },
  {
   "cell_type": "markdown",
   "metadata": {},
   "source": [
    "## Theory"
   ]
  },
  {
   "cell_type": "markdown",
   "metadata": {},
   "source": [
    "### Kinase dataset"
   ]
  },
  {
   "cell_type": "markdown",
   "metadata": {},
   "source": [
    "We will use nine kinases from [<i>Molecules</i> (2021), <b>26(3)</b>, 629](https://www.mdpi.com/1420-3049/26/3/629), which aimed to understand kinase similarities within different combinations of kinase on- and off-targets (also called anti-targets):\n",
    "\n",
    " \n",
    "\n",
    "> We aggregated the investigated kinases in “profiles”. Profile 1 combined **EGFR** and **ErbB2** as targets and **BRAF** as a (general) anti-target. Out of similar considerations, Profile 2 consisted of EGFR and **PI3K** as targets and BRAF as anti-target. This profile is expected to be more challenging as PI3K is an atypical kinase and thus less similar to EGFR than for example ErbB2 used in Profile 1. Profile 3, comprised of EGFR and **VEGFR2** as targets and BRAF as anti-target, was contrasted with the hit rate that we found with a standard docking against the single target VEGFR2 (Profile 4).\n",
    "> To broaden the comparison and obtain an estimate for the promiscuity of each compound, the kinases **CDK2**, **LCK**, **MET** and **p38α** were included in the experimental assay panel and the structure-based bioinformatics comparison as commonly used anti-targets.\n",
    "\n",
    " \n",
    "\n",
    "*Table 1:* \n",
    "Kinases used in this notebook, taken from [<i>Molecules</i> (2021), <b>26(3)</b>, 629](https://www.mdpi.com/1420-3049/26/3/629), with their synonyms, UniProt IDs, and kinase groups.\n",
    "\n",
    " \n",
    "\n",
    "| Kinase                     | Synonyms               | UniProt ID | Group    | Full kinase name                                 |\n",
    "|----------------------------|------------------------|------------|----------|--------------------------------------------------|\n",
    "| EGFR                       | ErbB1                  | P00533     | TK       | Epidermal growth factor receptor                 |\n",
    "| ErbB2                      | Her2                   | P04626     | TK       | Erythroblastic leukemia viral oncogene homolog 2 |\n",
    "| PI3K                       | PI3KCA, p110a          | P42336     | Atypical | Phosphatidylinositol-3-kinase                    |\n",
    "| VEGFR2                     | KDR                    | P35968     | TK       | Vascular endothelial growth factor receptor 2    |\n",
    "| BRAF                       | -                      | P15056     | TKL      | Rapidly accelerated fibrosarcoma isoform B       |\n",
    "| CDK2                       | -                      | P24941     | CMGC     | Cyclic-dependent kinase 2                        |\n",
    "| LCK                        | -                      | P06239     | TK       | Lymphocyte-specific protein tyrosine kinase      |\n",
    "| MET                        | -                      | P08581     | TK       | Mesenchymal-epithelial transition factor         |\n",
    "| p38a                       | MAPK14                 | Q16539     | CMGC     | p38 mitogen activated protein kinase α           |"
   ]
  },
  {
   "cell_type": "markdown",
   "metadata": {},
   "source": [
    "In this talktorial, we focus on bioactivity retrieve from the well-known [ChEMBL](https://www.ebi.ac.uk/chembl/) database. We query the data focusing on human-kinases. Luckily, a curated version of ChEMBL28 is already freely available in the openkinome organization, see https://github.com/openkinome."
   ]
  },
  {
   "cell_type": "markdown",
   "metadata": {},
   "source": [
    "In drug design, it is common to determine the activity of a compound against as a \"hit\" or \"non hit\". Practically speaking, this is done using a cutoff value for measured activity. If the activity is greater to the cutoff, the compound is labeled as active, and inactive otherwise."
   ]
  },
  {
   "cell_type": "code",
   "execution_count": 2,
   "metadata": {},
   "outputs": [],
   "source": [
    "# TODO: add reference to other talktorial."
   ]
  },
  {
   "cell_type": "markdown",
   "metadata": {},
   "source": [
    "### Kinase similarity descriptor: ligand-profile"
   ]
  },
  {
   "cell_type": "markdown",
   "metadata": {},
   "source": [
    "As a measure of similarity, we use ligand profiling in this talktorial."
   ]
  },
  {
   "cell_type": "markdown",
   "metadata": {
    "jp-MarkdownHeadingCollapsed": true,
    "tags": []
   },
   "source": [
    "#### Kinase similarity\n",
    "\n",
    "We use the following metric as similarity between kinases $K_i$ and $K_j$:\n",
    "\n",
    "$$\n",
    "\\text{similarity}(K_i, K_j) = \\frac{\\#\\text{ of compounds that were tested as actives on $K_i$ and $K_j$}}\n",
    "{\\#\\text{ of compounds that were tested on both $K_i$ and $K_j$}}\n",
    "$$\n",
    "\n",
    "Assuming that only one compound was tested on two kinases, and that the compound was tested as active for one and inactive for the other, then the similarity between these two kinases would be null."
   ]
  },
  {
   "cell_type": "markdown",
   "metadata": {},
   "source": [
    "#### Kinase promiscuity\n",
    "Computing the similarity between a kinase and itself may be interpreted as kinase promiscuity, where the similarity descrived above would therefore represent the fraction of active compounds over all tested compounds."
   ]
  },
  {
   "cell_type": "markdown",
   "metadata": {},
   "source": [
    "## Practical"
   ]
  },
  {
   "cell_type": "code",
   "execution_count": 3,
   "metadata": {},
   "outputs": [],
   "source": [
    "# !pip install flake8 pycodestyle_magic\n",
    "%load_ext pycodestyle_magic\n",
    "%pycodestyle_on"
   ]
  },
  {
   "cell_type": "code",
   "execution_count": 4,
   "metadata": {},
   "outputs": [],
   "source": [
    "from pathlib import Path\n",
    "import pandas as pd\n",
    "import numpy as np\n",
    "import seaborn as sns\n",
    "from collections import Counter"
   ]
  },
  {
   "cell_type": "code",
   "execution_count": 5,
   "metadata": {},
   "outputs": [],
   "source": [
    "HERE = Path(_dh[-1])\n",
    "DATA = HERE / \"data\""
   ]
  },
  {
   "cell_type": "markdown",
   "metadata": {},
   "source": [
    "### Retrieve the data"
   ]
  },
  {
   "cell_type": "markdown",
   "metadata": {},
   "source": [
    "We retrieve a pre-curated version of ChEMBL v.28 freely available at openkinome, see https://github.com/openkinome/kinodata/releases/tag/v0.2."
   ]
  },
  {
   "cell_type": "code",
   "execution_count": 6,
   "metadata": {},
   "outputs": [],
   "source": [
    "# TODO: Take v.29 instead of v.28."
   ]
  },
  {
   "cell_type": "code",
   "execution_count": 7,
   "metadata": {},
   "outputs": [
    {
     "name": "stdout",
     "output_type": "stream",
     "text": [
      "Current shape of data: (186972, 17)\n"
     ]
    },
    {
     "data": {
      "text/html": [
       "<div>\n",
       "<style scoped>\n",
       "    .dataframe tbody tr th:only-of-type {\n",
       "        vertical-align: middle;\n",
       "    }\n",
       "\n",
       "    .dataframe tbody tr th {\n",
       "        vertical-align: top;\n",
       "    }\n",
       "\n",
       "    .dataframe thead th {\n",
       "        text-align: right;\n",
       "    }\n",
       "</style>\n",
       "<table border=\"1\" class=\"dataframe\">\n",
       "  <thead>\n",
       "    <tr style=\"text-align: right;\">\n",
       "      <th></th>\n",
       "      <th>Unnamed: 0</th>\n",
       "      <th>activities.activity_id</th>\n",
       "      <th>assays.chembl_id</th>\n",
       "      <th>target_dictionary.chembl_id</th>\n",
       "      <th>molecule_dictionary.chembl_id</th>\n",
       "      <th>molecule_dictionary.max_phase</th>\n",
       "      <th>activities.standard_type</th>\n",
       "      <th>activities.standard_value</th>\n",
       "      <th>activities.standard_units</th>\n",
       "      <th>compound_structures.canonical_smiles</th>\n",
       "      <th>compound_structures.standard_inchi</th>\n",
       "      <th>component_sequences.sequence</th>\n",
       "      <th>assays.confidence_score</th>\n",
       "      <th>docs.chembl_id</th>\n",
       "      <th>docs.year</th>\n",
       "      <th>docs.authors</th>\n",
       "      <th>UniprotID</th>\n",
       "    </tr>\n",
       "  </thead>\n",
       "  <tbody>\n",
       "    <tr>\n",
       "      <th>0</th>\n",
       "      <td>96251</td>\n",
       "      <td>16291323</td>\n",
       "      <td>CHEMBL3705523</td>\n",
       "      <td>CHEMBL2973</td>\n",
       "      <td>CHEMBL3666724</td>\n",
       "      <td>0</td>\n",
       "      <td>pIC50</td>\n",
       "      <td>14.096910</td>\n",
       "      <td>nM</td>\n",
       "      <td>CCCC(=O)Nc1cccc(-c2nc(Nc3ccc4[nH]ncc4c3)c3cc(O...</td>\n",
       "      <td>InChI=1S/C31H33N7O3/c1-2-4-29(40)33-22-6-3-5-2...</td>\n",
       "      <td>MSRPPPTGKMPGAPETAPGDGAGASRQRKLEALIRDPRSPINVESL...</td>\n",
       "      <td>9</td>\n",
       "      <td>CHEMBL3639077</td>\n",
       "      <td>2014.0</td>\n",
       "      <td>NaN</td>\n",
       "      <td>O75116</td>\n",
       "    </tr>\n",
       "    <tr>\n",
       "      <th>1</th>\n",
       "      <td>97672</td>\n",
       "      <td>16306943</td>\n",
       "      <td>CHEMBL3705523</td>\n",
       "      <td>CHEMBL2973</td>\n",
       "      <td>CHEMBL1968705</td>\n",
       "      <td>0</td>\n",
       "      <td>pIC50</td>\n",
       "      <td>14.000000</td>\n",
       "      <td>nM</td>\n",
       "      <td>CCCC(=O)Nc1cccc(-c2nc(Nc3ccc4[nH]ncc4c3)c3cc(O...</td>\n",
       "      <td>InChI=1S/C31H33N7O2/c1-2-6-29(39)33-23-8-5-7-2...</td>\n",
       "      <td>MSRPPPTGKMPGAPETAPGDGAGASRQRKLEALIRDPRSPINVESL...</td>\n",
       "      <td>9</td>\n",
       "      <td>CHEMBL3639077</td>\n",
       "      <td>2014.0</td>\n",
       "      <td>NaN</td>\n",
       "      <td>O75116</td>\n",
       "    </tr>\n",
       "    <tr>\n",
       "      <th>2</th>\n",
       "      <td>93879</td>\n",
       "      <td>16264754</td>\n",
       "      <td>CHEMBL3705523</td>\n",
       "      <td>CHEMBL2973</td>\n",
       "      <td>CHEMBL3666728</td>\n",
       "      <td>0</td>\n",
       "      <td>pIC50</td>\n",
       "      <td>14.000000</td>\n",
       "      <td>nM</td>\n",
       "      <td>CCCC(=O)Nc1cccc(-c2nc(Nc3ccc4[nH]ncc4c3)c3cc(O...</td>\n",
       "      <td>InChI=1S/C34H40N8O3/c1-5-7-32(43)36-24-9-6-8-2...</td>\n",
       "      <td>MSRPPPTGKMPGAPETAPGDGAGASRQRKLEALIRDPRSPINVESL...</td>\n",
       "      <td>9</td>\n",
       "      <td>CHEMBL3639077</td>\n",
       "      <td>2014.0</td>\n",
       "      <td>NaN</td>\n",
       "      <td>O75116</td>\n",
       "    </tr>\n",
       "    <tr>\n",
       "      <th>3</th>\n",
       "      <td>100714</td>\n",
       "      <td>16340050</td>\n",
       "      <td>CHEMBL3705523</td>\n",
       "      <td>CHEMBL2973</td>\n",
       "      <td>CHEMBL1997433</td>\n",
       "      <td>0</td>\n",
       "      <td>pIC50</td>\n",
       "      <td>13.958607</td>\n",
       "      <td>nM</td>\n",
       "      <td>CCCC(=O)Nc1cccc(-c2nc(Nc3ccc4[nH]ncc4c3)c3cc(O...</td>\n",
       "      <td>InChI=1S/C28H28N6O3/c1-3-5-26(35)30-20-7-4-6-1...</td>\n",
       "      <td>MSRPPPTGKMPGAPETAPGDGAGASRQRKLEALIRDPRSPINVESL...</td>\n",
       "      <td>9</td>\n",
       "      <td>CHEMBL3639077</td>\n",
       "      <td>2014.0</td>\n",
       "      <td>NaN</td>\n",
       "      <td>O75116</td>\n",
       "    </tr>\n",
       "    <tr>\n",
       "      <th>4</th>\n",
       "      <td>95877</td>\n",
       "      <td>16287186</td>\n",
       "      <td>CHEMBL3705523</td>\n",
       "      <td>CHEMBL2973</td>\n",
       "      <td>CHEMBL3666721</td>\n",
       "      <td>0</td>\n",
       "      <td>pIC50</td>\n",
       "      <td>13.920819</td>\n",
       "      <td>nM</td>\n",
       "      <td>CCCC(=O)Nc1cccc(-c2nc(Nc3ccc4[nH]ncc4c3)c3cc(O...</td>\n",
       "      <td>InChI=1S/C32H35N7O2/c1-2-7-30(40)34-24-9-6-8-2...</td>\n",
       "      <td>MSRPPPTGKMPGAPETAPGDGAGASRQRKLEALIRDPRSPINVESL...</td>\n",
       "      <td>9</td>\n",
       "      <td>CHEMBL3639077</td>\n",
       "      <td>2014.0</td>\n",
       "      <td>NaN</td>\n",
       "      <td>O75116</td>\n",
       "    </tr>\n",
       "  </tbody>\n",
       "</table>\n",
       "</div>"
      ],
      "text/plain": [
       "   Unnamed: 0  activities.activity_id assays.chembl_id  \\\n",
       "0       96251                16291323    CHEMBL3705523   \n",
       "1       97672                16306943    CHEMBL3705523   \n",
       "2       93879                16264754    CHEMBL3705523   \n",
       "3      100714                16340050    CHEMBL3705523   \n",
       "4       95877                16287186    CHEMBL3705523   \n",
       "\n",
       "  target_dictionary.chembl_id molecule_dictionary.chembl_id  \\\n",
       "0                  CHEMBL2973                 CHEMBL3666724   \n",
       "1                  CHEMBL2973                 CHEMBL1968705   \n",
       "2                  CHEMBL2973                 CHEMBL3666728   \n",
       "3                  CHEMBL2973                 CHEMBL1997433   \n",
       "4                  CHEMBL2973                 CHEMBL3666721   \n",
       "\n",
       "   molecule_dictionary.max_phase activities.standard_type  \\\n",
       "0                              0                    pIC50   \n",
       "1                              0                    pIC50   \n",
       "2                              0                    pIC50   \n",
       "3                              0                    pIC50   \n",
       "4                              0                    pIC50   \n",
       "\n",
       "   activities.standard_value activities.standard_units  \\\n",
       "0                  14.096910                        nM   \n",
       "1                  14.000000                        nM   \n",
       "2                  14.000000                        nM   \n",
       "3                  13.958607                        nM   \n",
       "4                  13.920819                        nM   \n",
       "\n",
       "                compound_structures.canonical_smiles  \\\n",
       "0  CCCC(=O)Nc1cccc(-c2nc(Nc3ccc4[nH]ncc4c3)c3cc(O...   \n",
       "1  CCCC(=O)Nc1cccc(-c2nc(Nc3ccc4[nH]ncc4c3)c3cc(O...   \n",
       "2  CCCC(=O)Nc1cccc(-c2nc(Nc3ccc4[nH]ncc4c3)c3cc(O...   \n",
       "3  CCCC(=O)Nc1cccc(-c2nc(Nc3ccc4[nH]ncc4c3)c3cc(O...   \n",
       "4  CCCC(=O)Nc1cccc(-c2nc(Nc3ccc4[nH]ncc4c3)c3cc(O...   \n",
       "\n",
       "                  compound_structures.standard_inchi  \\\n",
       "0  InChI=1S/C31H33N7O3/c1-2-4-29(40)33-22-6-3-5-2...   \n",
       "1  InChI=1S/C31H33N7O2/c1-2-6-29(39)33-23-8-5-7-2...   \n",
       "2  InChI=1S/C34H40N8O3/c1-5-7-32(43)36-24-9-6-8-2...   \n",
       "3  InChI=1S/C28H28N6O3/c1-3-5-26(35)30-20-7-4-6-1...   \n",
       "4  InChI=1S/C32H35N7O2/c1-2-7-30(40)34-24-9-6-8-2...   \n",
       "\n",
       "                        component_sequences.sequence  assays.confidence_score  \\\n",
       "0  MSRPPPTGKMPGAPETAPGDGAGASRQRKLEALIRDPRSPINVESL...                        9   \n",
       "1  MSRPPPTGKMPGAPETAPGDGAGASRQRKLEALIRDPRSPINVESL...                        9   \n",
       "2  MSRPPPTGKMPGAPETAPGDGAGASRQRKLEALIRDPRSPINVESL...                        9   \n",
       "3  MSRPPPTGKMPGAPETAPGDGAGASRQRKLEALIRDPRSPINVESL...                        9   \n",
       "4  MSRPPPTGKMPGAPETAPGDGAGASRQRKLEALIRDPRSPINVESL...                        9   \n",
       "\n",
       "  docs.chembl_id  docs.year docs.authors UniprotID  \n",
       "0  CHEMBL3639077     2014.0          NaN    O75116  \n",
       "1  CHEMBL3639077     2014.0          NaN    O75116  \n",
       "2  CHEMBL3639077     2014.0          NaN    O75116  \n",
       "3  CHEMBL3639077     2014.0          NaN    O75116  \n",
       "4  CHEMBL3639077     2014.0          NaN    O75116  "
      ]
     },
     "execution_count": 7,
     "metadata": {},
     "output_type": "execute_result"
    }
   ],
   "source": [
    "path = \"https://github.com/openkinome/kinodata/releases/download/\\\n",
    "v0.2/activities-chembl28_v0.2.zip\"\n",
    "data = pd.read_csv(path, index_col=None)\n",
    "print(f\"Current shape of data: {data.shape}\")\n",
    "data.head()"
   ]
  },
  {
   "cell_type": "markdown",
   "metadata": {},
   "source": [
    "### Preprocess the data"
   ]
  },
  {
   "cell_type": "markdown",
   "metadata": {},
   "source": [
    "We look at the type of activity and the associated units."
   ]
  },
  {
   "cell_type": "code",
   "execution_count": 8,
   "metadata": {},
   "outputs": [
    {
     "name": "stdout",
     "output_type": "stream",
     "text": [
      "Activities: {'pKi', 'pIC50', 'pKd'}\n",
      "Units: {'nM'}\n"
     ]
    }
   ],
   "source": [
    "print(f\"Activities: {set(data['activities.standard_type'])}\\n\"\n",
    "      f\"Units: {set(data['activities.standard_units'])}\")"
   ]
  },
  {
   "cell_type": "markdown",
   "metadata": {},
   "source": [
    "Let's keep the entries which have pIC50 values only."
   ]
  },
  {
   "cell_type": "code",
   "execution_count": 9,
   "metadata": {},
   "outputs": [],
   "source": [
    "data = data[data[\"activities.standard_type\"] == \"pIC50\"]"
   ]
  },
  {
   "cell_type": "markdown",
   "metadata": {},
   "source": [
    "The dataframe contains many columns that won't be necessary for the rest of the notebook and are therefore removed. Only relevant information is kept, namely the canonical SMILES of the compound, the measured activity and the uniprot ID of the kinase. We rename these columns for readability."
   ]
  },
  {
   "cell_type": "code",
   "execution_count": 10,
   "metadata": {},
   "outputs": [],
   "source": [
    "data = data[[\"compound_structures.canonical_smiles\",\n",
    "             \"activities.standard_value\",\n",
    "             \"UniprotID\"]]\n",
    "data = data.rename(columns={\"compound_structures.canonical_smiles\": \"smiles\",\n",
    "                            \"activities.standard_value\": \"activity_value\"})"
   ]
  },
  {
   "cell_type": "code",
   "execution_count": 11,
   "metadata": {},
   "outputs": [
    {
     "name": "stdout",
     "output_type": "stream",
     "text": [
      "Current shape of data: (159978, 3)\n"
     ]
    },
    {
     "data": {
      "text/html": [
       "<div>\n",
       "<style scoped>\n",
       "    .dataframe tbody tr th:only-of-type {\n",
       "        vertical-align: middle;\n",
       "    }\n",
       "\n",
       "    .dataframe tbody tr th {\n",
       "        vertical-align: top;\n",
       "    }\n",
       "\n",
       "    .dataframe thead th {\n",
       "        text-align: right;\n",
       "    }\n",
       "</style>\n",
       "<table border=\"1\" class=\"dataframe\">\n",
       "  <thead>\n",
       "    <tr style=\"text-align: right;\">\n",
       "      <th></th>\n",
       "      <th>smiles</th>\n",
       "      <th>activity_value</th>\n",
       "      <th>UniprotID</th>\n",
       "    </tr>\n",
       "  </thead>\n",
       "  <tbody>\n",
       "    <tr>\n",
       "      <th>0</th>\n",
       "      <td>CCCC(=O)Nc1cccc(-c2nc(Nc3ccc4[nH]ncc4c3)c3cc(O...</td>\n",
       "      <td>14.096910</td>\n",
       "      <td>O75116</td>\n",
       "    </tr>\n",
       "    <tr>\n",
       "      <th>1</th>\n",
       "      <td>CCCC(=O)Nc1cccc(-c2nc(Nc3ccc4[nH]ncc4c3)c3cc(O...</td>\n",
       "      <td>14.000000</td>\n",
       "      <td>O75116</td>\n",
       "    </tr>\n",
       "    <tr>\n",
       "      <th>2</th>\n",
       "      <td>CCCC(=O)Nc1cccc(-c2nc(Nc3ccc4[nH]ncc4c3)c3cc(O...</td>\n",
       "      <td>14.000000</td>\n",
       "      <td>O75116</td>\n",
       "    </tr>\n",
       "    <tr>\n",
       "      <th>3</th>\n",
       "      <td>CCCC(=O)Nc1cccc(-c2nc(Nc3ccc4[nH]ncc4c3)c3cc(O...</td>\n",
       "      <td>13.958607</td>\n",
       "      <td>O75116</td>\n",
       "    </tr>\n",
       "    <tr>\n",
       "      <th>4</th>\n",
       "      <td>CCCC(=O)Nc1cccc(-c2nc(Nc3ccc4[nH]ncc4c3)c3cc(O...</td>\n",
       "      <td>13.920819</td>\n",
       "      <td>O75116</td>\n",
       "    </tr>\n",
       "  </tbody>\n",
       "</table>\n",
       "</div>"
      ],
      "text/plain": [
       "                                              smiles  activity_value UniprotID\n",
       "0  CCCC(=O)Nc1cccc(-c2nc(Nc3ccc4[nH]ncc4c3)c3cc(O...       14.096910    O75116\n",
       "1  CCCC(=O)Nc1cccc(-c2nc(Nc3ccc4[nH]ncc4c3)c3cc(O...       14.000000    O75116\n",
       "2  CCCC(=O)Nc1cccc(-c2nc(Nc3ccc4[nH]ncc4c3)c3cc(O...       14.000000    O75116\n",
       "3  CCCC(=O)Nc1cccc(-c2nc(Nc3ccc4[nH]ncc4c3)c3cc(O...       13.958607    O75116\n",
       "4  CCCC(=O)Nc1cccc(-c2nc(Nc3ccc4[nH]ncc4c3)c3cc(O...       13.920819    O75116"
      ]
     },
     "execution_count": 11,
     "metadata": {},
     "output_type": "execute_result"
    }
   ],
   "source": [
    "print(f\"Current shape of data: {data.shape}\")\n",
    "data.head()"
   ]
  },
  {
   "cell_type": "markdown",
   "metadata": {},
   "source": [
    "We also drop NA values."
   ]
  },
  {
   "cell_type": "code",
   "execution_count": 12,
   "metadata": {},
   "outputs": [
    {
     "name": "stdout",
     "output_type": "stream",
     "text": [
      "Current shape of data: (159823, 3)\n"
     ]
    }
   ],
   "source": [
    "data = data.dropna()\n",
    "print(f\"Current shape of data: {data.shape}\")"
   ]
  },
  {
   "cell_type": "markdown",
   "metadata": {},
   "source": [
    "#### Kinases of interest\n",
    "\n",
    "We focus on the kinases of interest and map them to their uniprot IDs in accordance with the Table in the Theory."
   ]
  },
  {
   "cell_type": "code",
   "execution_count": 13,
   "metadata": {},
   "outputs": [],
   "source": [
    "name_to_uniprot = {'EGFR': 'P00533',\n",
    "                   'ErbB2': 'P04626',\n",
    "                   'BRAF': 'P15056',\n",
    "                   'CDK2': 'P24941',\n",
    "                   'LCK': 'P06239',\n",
    "                   'MET': 'P08581',\n",
    "                   'p38a': 'Q16539',\n",
    "                   'KDR': 'P35968',\n",
    "                   'p110a': 'P42336'}"
   ]
  },
  {
   "cell_type": "markdown",
   "metadata": {},
   "source": [
    "We keep data for these kinases only:"
   ]
  },
  {
   "cell_type": "code",
   "execution_count": 14,
   "metadata": {},
   "outputs": [
    {
     "name": "stdout",
     "output_type": "stream",
     "text": [
      "Current shape of data: (33169, 3)\n"
     ]
    }
   ],
   "source": [
    "data = data[data[\"UniprotID\"].isin(name_to_uniprot.values())]\n",
    "print(f\"Current shape of data: {data.shape}\")"
   ]
  },
  {
   "cell_type": "code",
   "execution_count": 15,
   "metadata": {},
   "outputs": [
    {
     "data": {
      "text/html": [
       "<div>\n",
       "<style scoped>\n",
       "    .dataframe tbody tr th:only-of-type {\n",
       "        vertical-align: middle;\n",
       "    }\n",
       "\n",
       "    .dataframe tbody tr th {\n",
       "        vertical-align: top;\n",
       "    }\n",
       "\n",
       "    .dataframe thead th {\n",
       "        text-align: right;\n",
       "    }\n",
       "</style>\n",
       "<table border=\"1\" class=\"dataframe\">\n",
       "  <thead>\n",
       "    <tr style=\"text-align: right;\">\n",
       "      <th></th>\n",
       "      <th>smiles</th>\n",
       "      <th>activity_value</th>\n",
       "      <th>UniprotID</th>\n",
       "    </tr>\n",
       "  </thead>\n",
       "  <tbody>\n",
       "    <tr>\n",
       "      <th>57</th>\n",
       "      <td>Brc1cccc(Nc2ncnc3cc4ccccc4cc23)c1</td>\n",
       "      <td>11.522879</td>\n",
       "      <td>P00533</td>\n",
       "    </tr>\n",
       "    <tr>\n",
       "      <th>98</th>\n",
       "      <td>CCOc1cc2ncnc(Nc3cccc(Br)c3)c2cc1OCC</td>\n",
       "      <td>11.221849</td>\n",
       "      <td>P00533</td>\n",
       "    </tr>\n",
       "    <tr>\n",
       "      <th>101</th>\n",
       "      <td>CN(C)c1cc2c(Nc3cccc(Br)c3)ncnc2cn1</td>\n",
       "      <td>11.221849</td>\n",
       "      <td>P00533</td>\n",
       "    </tr>\n",
       "    <tr>\n",
       "      <th>139</th>\n",
       "      <td>Brc1cccc(Nc2ncnc3cc4[nH]cnc4cc23)c1</td>\n",
       "      <td>11.096910</td>\n",
       "      <td>P00533</td>\n",
       "    </tr>\n",
       "    <tr>\n",
       "      <th>140</th>\n",
       "      <td>CNc1cc2c(Nc3cccc(Br)c3)ncnc2cn1</td>\n",
       "      <td>11.096910</td>\n",
       "      <td>P00533</td>\n",
       "    </tr>\n",
       "    <tr>\n",
       "      <th>...</th>\n",
       "      <td>...</td>\n",
       "      <td>...</td>\n",
       "      <td>...</td>\n",
       "    </tr>\n",
       "    <tr>\n",
       "      <th>186925</th>\n",
       "      <td>Nc1nc2cc(-c3cncc(S(N)(=O)=O)c3)ccn2n1</td>\n",
       "      <td>1.800000</td>\n",
       "      <td>P42336</td>\n",
       "    </tr>\n",
       "    <tr>\n",
       "      <th>186927</th>\n",
       "      <td>O=C(/C=C/c1ccc(O)c(O)c1)c1ccc(O[C@@H]2O[C@H](C...</td>\n",
       "      <td>1.721246</td>\n",
       "      <td>P00533</td>\n",
       "    </tr>\n",
       "    <tr>\n",
       "      <th>186929</th>\n",
       "      <td>CS(=O)(=O)c1cncc(-c2ccn3nc(N)nc3c2)c1</td>\n",
       "      <td>1.700000</td>\n",
       "      <td>P42336</td>\n",
       "    </tr>\n",
       "    <tr>\n",
       "      <th>186936</th>\n",
       "      <td>O=C(CCc1ccc(O)cc1)c1c(O)cc(O)cc1O</td>\n",
       "      <td>1.602060</td>\n",
       "      <td>P00533</td>\n",
       "    </tr>\n",
       "    <tr>\n",
       "      <th>186957</th>\n",
       "      <td>Nc1nc2cc(-c3cncc(S(=O)(=O)Nc4ccccc4)c3)ccn2n1</td>\n",
       "      <td>1.400000</td>\n",
       "      <td>P42336</td>\n",
       "    </tr>\n",
       "  </tbody>\n",
       "</table>\n",
       "<p>33169 rows × 3 columns</p>\n",
       "</div>"
      ],
      "text/plain": [
       "                                                   smiles  activity_value  \\\n",
       "57                      Brc1cccc(Nc2ncnc3cc4ccccc4cc23)c1       11.522879   \n",
       "98                    CCOc1cc2ncnc(Nc3cccc(Br)c3)c2cc1OCC       11.221849   \n",
       "101                    CN(C)c1cc2c(Nc3cccc(Br)c3)ncnc2cn1       11.221849   \n",
       "139                   Brc1cccc(Nc2ncnc3cc4[nH]cnc4cc23)c1       11.096910   \n",
       "140                       CNc1cc2c(Nc3cccc(Br)c3)ncnc2cn1       11.096910   \n",
       "...                                                   ...             ...   \n",
       "186925              Nc1nc2cc(-c3cncc(S(N)(=O)=O)c3)ccn2n1        1.800000   \n",
       "186927  O=C(/C=C/c1ccc(O)c(O)c1)c1ccc(O[C@@H]2O[C@H](C...        1.721246   \n",
       "186929              CS(=O)(=O)c1cncc(-c2ccn3nc(N)nc3c2)c1        1.700000   \n",
       "186936                  O=C(CCc1ccc(O)cc1)c1c(O)cc(O)cc1O        1.602060   \n",
       "186957      Nc1nc2cc(-c3cncc(S(=O)(=O)Nc4ccccc4)c3)ccn2n1        1.400000   \n",
       "\n",
       "       UniprotID  \n",
       "57        P00533  \n",
       "98        P00533  \n",
       "101       P00533  \n",
       "139       P00533  \n",
       "140       P00533  \n",
       "...          ...  \n",
       "186925    P42336  \n",
       "186927    P00533  \n",
       "186929    P42336  \n",
       "186936    P00533  \n",
       "186957    P42336  \n",
       "\n",
       "[33169 rows x 3 columns]"
      ]
     },
     "execution_count": 15,
     "metadata": {},
     "output_type": "execute_result"
    }
   ],
   "source": [
    "data"
   ]
  },
  {
   "cell_type": "markdown",
   "metadata": {},
   "source": [
    "Let's look at EGFR data:"
   ]
  },
  {
   "cell_type": "code",
   "execution_count": 16,
   "metadata": {},
   "outputs": [],
   "source": [
    "EGFR_data = data[data[\"UniprotID\"] == \"P00533\"]"
   ]
  },
  {
   "cell_type": "markdown",
   "metadata": {},
   "source": [
    "Some compounds have been tested several times against EGFR, as shown below."
   ]
  },
  {
   "cell_type": "code",
   "execution_count": 17,
   "metadata": {},
   "outputs": [
    {
     "data": {
      "text/plain": [
       "[('COc1cc2ncnc(Nc3ccc(F)c(Cl)c3)c2cc1OCCCN1CCOCC1', 40),\n",
       " ('C#Cc1cccc(Nc2ncnc3cc(OCCOC)c(OCCOC)cc23)c1', 24),\n",
       " ('C=CC(=O)Nc1cc(Nc2nccc(-c3cn(C)c4ccccc34)n2)c(OC)cc1N(C)CCN(C)C', 12),\n",
       " ('C=CC(=O)Nc1cccc(Oc2nc(Nc3ccc(N4CCN(C)CC4)cc3OC)ncc2Cl)c1', 10),\n",
       " ('CN[C@@H]1C[C@H]2O[C@@](C)([C@@H]1OC)n1c3ccccc3c3c4c(c5c6ccccc6n2c5c31)C(=O)NC4',\n",
       "  7)]"
      ]
     },
     "execution_count": 17,
     "metadata": {},
     "output_type": "execute_result"
    }
   ],
   "source": [
    "measured_compounds = Counter(EGFR_data[\"smiles\"])\n",
    "measured_compounds.most_common()[0:5]"
   ]
  },
  {
   "cell_type": "markdown",
   "metadata": {},
   "source": [
    "As a simple workaround, we keep the value for which the compound has the highest activity value."
   ]
  },
  {
   "cell_type": "code",
   "execution_count": 18,
   "metadata": {},
   "outputs": [
    {
     "data": {
      "text/html": [
       "<div>\n",
       "<style scoped>\n",
       "    .dataframe tbody tr th:only-of-type {\n",
       "        vertical-align: middle;\n",
       "    }\n",
       "\n",
       "    .dataframe tbody tr th {\n",
       "        vertical-align: top;\n",
       "    }\n",
       "\n",
       "    .dataframe thead th {\n",
       "        text-align: right;\n",
       "    }\n",
       "</style>\n",
       "<table border=\"1\" class=\"dataframe\">\n",
       "  <thead>\n",
       "    <tr style=\"text-align: right;\">\n",
       "      <th></th>\n",
       "      <th>UniprotID</th>\n",
       "      <th>smiles</th>\n",
       "      <th>activity_value</th>\n",
       "    </tr>\n",
       "  </thead>\n",
       "  <tbody>\n",
       "    <tr>\n",
       "      <th>0</th>\n",
       "      <td>P00533</td>\n",
       "      <td>Br.CC(Nc1ncnc2[nH]c(-c3ccc(O)cc3)cc12)c1ccc(C(...</td>\n",
       "      <td>5.336488</td>\n",
       "    </tr>\n",
       "    <tr>\n",
       "      <th>1</th>\n",
       "      <td>P00533</td>\n",
       "      <td>Br.CC(Nc1ncnc2[nH]c(-c3ccc(O)cc3)cc12)c1cccc2c...</td>\n",
       "      <td>5.996539</td>\n",
       "    </tr>\n",
       "    <tr>\n",
       "      <th>2</th>\n",
       "      <td>P00533</td>\n",
       "      <td>Br.CC[C@@H](Nc1ncnc2[nH]c(-c3ccc(O)cc3)cc12)c1...</td>\n",
       "      <td>8.397940</td>\n",
       "    </tr>\n",
       "    <tr>\n",
       "      <th>3</th>\n",
       "      <td>P00533</td>\n",
       "      <td>Br.C[C@@H](Nc1ncnc2[nH]c(-c3ccc(O)cc3)cc12)c1c...</td>\n",
       "      <td>7.207608</td>\n",
       "    </tr>\n",
       "    <tr>\n",
       "      <th>4</th>\n",
       "      <td>P00533</td>\n",
       "      <td>Br.C[C@@H](Nc1ncnc2[nH]c(-c3ccc(O)cc3)cc12)c1c...</td>\n",
       "      <td>8.420216</td>\n",
       "    </tr>\n",
       "    <tr>\n",
       "      <th>...</th>\n",
       "      <td>...</td>\n",
       "      <td>...</td>\n",
       "      <td>...</td>\n",
       "    </tr>\n",
       "    <tr>\n",
       "      <th>32683</th>\n",
       "      <td>Q16539</td>\n",
       "      <td>c1ccc(-c2nn3c(c2-c2ccnc4ccccc24)CCC3)nc1</td>\n",
       "      <td>5.102373</td>\n",
       "    </tr>\n",
       "    <tr>\n",
       "      <th>32684</th>\n",
       "      <td>Q16539</td>\n",
       "      <td>c1ccc(Cn2cc(-c3ccnc4ccccc34)c(-c3ccccn3)n2)cc1</td>\n",
       "      <td>6.292430</td>\n",
       "    </tr>\n",
       "    <tr>\n",
       "      <th>32685</th>\n",
       "      <td>Q16539</td>\n",
       "      <td>c1ccc(Nc2ccc3c(-c4ccccc4)n[nH]c3c2)cc1</td>\n",
       "      <td>7.522879</td>\n",
       "    </tr>\n",
       "    <tr>\n",
       "      <th>32686</th>\n",
       "      <td>Q16539</td>\n",
       "      <td>c1ccc(Sc2ncnc3c2N=C(c2cccnc2)c2ccccc2S3)cc1</td>\n",
       "      <td>5.903090</td>\n",
       "    </tr>\n",
       "    <tr>\n",
       "      <th>32687</th>\n",
       "      <td>Q16539</td>\n",
       "      <td>c1csc(-c2n[nH]cc2-c2ccnc3ccccc23)c1</td>\n",
       "      <td>6.397940</td>\n",
       "    </tr>\n",
       "  </tbody>\n",
       "</table>\n",
       "<p>32688 rows × 3 columns</p>\n",
       "</div>"
      ],
      "text/plain": [
       "      UniprotID                                             smiles  \\\n",
       "0        P00533  Br.CC(Nc1ncnc2[nH]c(-c3ccc(O)cc3)cc12)c1ccc(C(...   \n",
       "1        P00533  Br.CC(Nc1ncnc2[nH]c(-c3ccc(O)cc3)cc12)c1cccc2c...   \n",
       "2        P00533  Br.CC[C@@H](Nc1ncnc2[nH]c(-c3ccc(O)cc3)cc12)c1...   \n",
       "3        P00533  Br.C[C@@H](Nc1ncnc2[nH]c(-c3ccc(O)cc3)cc12)c1c...   \n",
       "4        P00533  Br.C[C@@H](Nc1ncnc2[nH]c(-c3ccc(O)cc3)cc12)c1c...   \n",
       "...         ...                                                ...   \n",
       "32683    Q16539           c1ccc(-c2nn3c(c2-c2ccnc4ccccc24)CCC3)nc1   \n",
       "32684    Q16539     c1ccc(Cn2cc(-c3ccnc4ccccc34)c(-c3ccccn3)n2)cc1   \n",
       "32685    Q16539             c1ccc(Nc2ccc3c(-c4ccccc4)n[nH]c3c2)cc1   \n",
       "32686    Q16539        c1ccc(Sc2ncnc3c2N=C(c2cccnc2)c2ccccc2S3)cc1   \n",
       "32687    Q16539                c1csc(-c2n[nH]cc2-c2ccnc3ccccc23)c1   \n",
       "\n",
       "       activity_value  \n",
       "0            5.336488  \n",
       "1            5.996539  \n",
       "2            8.397940  \n",
       "3            7.207608  \n",
       "4            8.420216  \n",
       "...               ...  \n",
       "32683        5.102373  \n",
       "32684        6.292430  \n",
       "32685        7.522879  \n",
       "32686        5.903090  \n",
       "32687        6.397940  \n",
       "\n",
       "[32688 rows x 3 columns]"
      ]
     },
     "execution_count": 18,
     "metadata": {},
     "output_type": "execute_result"
    }
   ],
   "source": [
    "data = data.groupby([\"UniprotID\",\n",
    "                     \"smiles\"])['activity_value'].max().reset_index()\n",
    "data"
   ]
  },
  {
   "cell_type": "markdown",
   "metadata": {},
   "source": [
    "#### Hit or non-hit"
   ]
  },
  {
   "cell_type": "markdown",
   "metadata": {},
   "source": [
    "Finally, we binarize the pIC50 values to obtain hit or non-hit using a cut-off. We use a cut-off of $6.3$, similarly to the referenced paper."
   ]
  },
  {
   "cell_type": "code",
   "execution_count": 19,
   "metadata": {},
   "outputs": [],
   "source": [
    "cutoff = 6.3"
   ]
  },
  {
   "cell_type": "code",
   "execution_count": 20,
   "metadata": {},
   "outputs": [],
   "source": [
    "def binarize_pic50(pic50_value, threshold):\n",
    "    \"\"\"\n",
    "    Binarizes a scalar value given a threshold.\n",
    "\n",
    "    Parameters\n",
    "    ----------\n",
    "    pic50_value : float\n",
    "        The measurement pIC50 value of a kinase-ligand pair.\n",
    "    threshold : float\n",
    "        The cutoff to determine activity.\n",
    "\n",
    "    Returns\n",
    "    -------\n",
    "    1 if the pIC50 value is above the threshold, which indicates activity.\n",
    "    0 otherwise.\n",
    "    \"\"\"\n",
    "    if pic50_value >= threshold:\n",
    "        return 1\n",
    "    else:\n",
    "        return 0"
   ]
  },
  {
   "cell_type": "code",
   "execution_count": 21,
   "metadata": {},
   "outputs": [],
   "source": [
    "data[\"activity_binary\"] = data[\"activity_value\"].apply(binarize_pic50,\n",
    "                                                       args=(cutoff,))"
   ]
  },
  {
   "cell_type": "code",
   "execution_count": 22,
   "metadata": {},
   "outputs": [
    {
     "name": "stdout",
     "output_type": "stream",
     "text": [
      "Current shape of data: (32688, 4)\n"
     ]
    },
    {
     "data": {
      "text/html": [
       "<div>\n",
       "<style scoped>\n",
       "    .dataframe tbody tr th:only-of-type {\n",
       "        vertical-align: middle;\n",
       "    }\n",
       "\n",
       "    .dataframe tbody tr th {\n",
       "        vertical-align: top;\n",
       "    }\n",
       "\n",
       "    .dataframe thead th {\n",
       "        text-align: right;\n",
       "    }\n",
       "</style>\n",
       "<table border=\"1\" class=\"dataframe\">\n",
       "  <thead>\n",
       "    <tr style=\"text-align: right;\">\n",
       "      <th></th>\n",
       "      <th>UniprotID</th>\n",
       "      <th>smiles</th>\n",
       "      <th>activity_value</th>\n",
       "      <th>activity_binary</th>\n",
       "    </tr>\n",
       "  </thead>\n",
       "  <tbody>\n",
       "    <tr>\n",
       "      <th>0</th>\n",
       "      <td>P00533</td>\n",
       "      <td>Br.CC(Nc1ncnc2[nH]c(-c3ccc(O)cc3)cc12)c1ccc(C(...</td>\n",
       "      <td>5.336488</td>\n",
       "      <td>0</td>\n",
       "    </tr>\n",
       "    <tr>\n",
       "      <th>1</th>\n",
       "      <td>P00533</td>\n",
       "      <td>Br.CC(Nc1ncnc2[nH]c(-c3ccc(O)cc3)cc12)c1cccc2c...</td>\n",
       "      <td>5.996539</td>\n",
       "      <td>0</td>\n",
       "    </tr>\n",
       "    <tr>\n",
       "      <th>2</th>\n",
       "      <td>P00533</td>\n",
       "      <td>Br.CC[C@@H](Nc1ncnc2[nH]c(-c3ccc(O)cc3)cc12)c1...</td>\n",
       "      <td>8.397940</td>\n",
       "      <td>1</td>\n",
       "    </tr>\n",
       "    <tr>\n",
       "      <th>3</th>\n",
       "      <td>P00533</td>\n",
       "      <td>Br.C[C@@H](Nc1ncnc2[nH]c(-c3ccc(O)cc3)cc12)c1c...</td>\n",
       "      <td>7.207608</td>\n",
       "      <td>1</td>\n",
       "    </tr>\n",
       "    <tr>\n",
       "      <th>4</th>\n",
       "      <td>P00533</td>\n",
       "      <td>Br.C[C@@H](Nc1ncnc2[nH]c(-c3ccc(O)cc3)cc12)c1c...</td>\n",
       "      <td>8.420216</td>\n",
       "      <td>1</td>\n",
       "    </tr>\n",
       "  </tbody>\n",
       "</table>\n",
       "</div>"
      ],
      "text/plain": [
       "  UniprotID                                             smiles  \\\n",
       "0    P00533  Br.CC(Nc1ncnc2[nH]c(-c3ccc(O)cc3)cc12)c1ccc(C(...   \n",
       "1    P00533  Br.CC(Nc1ncnc2[nH]c(-c3ccc(O)cc3)cc12)c1cccc2c...   \n",
       "2    P00533  Br.CC[C@@H](Nc1ncnc2[nH]c(-c3ccc(O)cc3)cc12)c1...   \n",
       "3    P00533  Br.C[C@@H](Nc1ncnc2[nH]c(-c3ccc(O)cc3)cc12)c1c...   \n",
       "4    P00533  Br.C[C@@H](Nc1ncnc2[nH]c(-c3ccc(O)cc3)cc12)c1c...   \n",
       "\n",
       "   activity_value  activity_binary  \n",
       "0        5.336488                0  \n",
       "1        5.996539                0  \n",
       "2        8.397940                1  \n",
       "3        7.207608                1  \n",
       "4        8.420216                1  "
      ]
     },
     "execution_count": 22,
     "metadata": {},
     "output_type": "execute_result"
    }
   ],
   "source": [
    "print(f\"Current shape of data: {data.shape}\")\n",
    "data.head()"
   ]
  },
  {
   "cell_type": "markdown",
   "metadata": {},
   "source": [
    "### Show kinase promiscuity"
   ]
  },
  {
   "cell_type": "markdown",
   "metadata": {},
   "source": [
    "We now look at the kinase promiscuity.\n",
    "\n",
    "For each of them, we compute three metrics:\n",
    "\n",
    "1. the total number of measured compounds against the given kinase,\n",
    "2. the number of active compounds, and\n",
    "3. the fraction of active compouds, i.e. the ratio of active compounds and total number of measured compounds."
   ]
  },
  {
   "cell_type": "code",
   "execution_count": 23,
   "metadata": {},
   "outputs": [],
   "source": [
    "def kinase_to_activity_numbers(kinase_name, activity_dataframe):\n",
    "    \"\"\"\n",
    "    Retrieve the three metrics for a given kinase.\n",
    "\n",
    "    Parameters\n",
    "    ----------\n",
    "    kinase_name : str\n",
    "        The name of the kinase of interest, e.g. \"EGFR\".\n",
    "\n",
    "    activity_dataframe :  pd.DataFrame\n",
    "        The dataframe with activity values for kinases.\n",
    "\n",
    "    Returns\n",
    "    -------\n",
    "    tuple : (int, int, float)\n",
    "        The three metrics:\n",
    "        1. The total number of measured compounds against the kinase\n",
    "        2. The number of active compounds against the kinase.\n",
    "        3. The fraction of active compounds against the kinase.\n",
    "    \"\"\"\n",
    "    uniprot_id = name_to_uniprot[kinase_name]\n",
    "    kinase_data = activity_dataframe[activity_dataframe[\"UniprotID\"]\n",
    "                                     == uniprot_id]\n",
    "    total_measured_compounds = len(kinase_data)\n",
    "    active_compounds = len(kinase_data[kinase_data[\"activity_binary\"] == 1])\n",
    "    if total_measured_compounds > 0:\n",
    "        fraction = active_compounds/total_measured_compounds\n",
    "    else:\n",
    "        print(\"No compounds were measured for this kinase.\")\n",
    "        fraction = np.nan\n",
    "    return (total_measured_compounds, active_compounds, fraction)"
   ]
  },
  {
   "cell_type": "markdown",
   "metadata": {},
   "source": [
    "Let's see what information we get for EGFR."
   ]
  },
  {
   "cell_type": "code",
   "execution_count": 24,
   "metadata": {},
   "outputs": [
    {
     "data": {
      "text/plain": [
       "(5869, 3574, 0.6089623445220651)"
      ]
     },
     "execution_count": 24,
     "metadata": {},
     "output_type": "execute_result"
    }
   ],
   "source": [
    "EGFR_metrics = kinase_to_activity_numbers(\"EGFR\", data)\n",
    "EGFR_metrics"
   ]
  },
  {
   "cell_type": "markdown",
   "metadata": {},
   "source": [
    "Let's create a table from this information for all kinases:"
   ]
  },
  {
   "cell_type": "code",
   "execution_count": 25,
   "metadata": {},
   "outputs": [],
   "source": [
    "def from_numbers_to_table(activity_dataframe):\n",
    "    \"\"\"\n",
    "    Create a metric table for all kinases.\n",
    "\n",
    "    Parameters\n",
    "    ----------\n",
    "    activity_dataframe :  pd.DataFrame\n",
    "        The dataframe with activity values for kinases.\n",
    "\n",
    "    Returns\n",
    "    -------\n",
    "    table : pd.DataFrame\n",
    "        A dataframe with the kinases as rows and metrics as columns.\n",
    "    \"\"\"\n",
    "    table = pd.DataFrame(index=name_to_uniprot.keys(),\n",
    "                         columns=[\"total\", \"actives\", \"fraction\"])\n",
    "    for name in name_to_uniprot:\n",
    "        metrics = kinase_to_activity_numbers(name, activity_dataframe)\n",
    "        table.loc[name] = metrics\n",
    "    return table"
   ]
  },
  {
   "cell_type": "code",
   "execution_count": 26,
   "metadata": {},
   "outputs": [
    {
     "data": {
      "text/html": [
       "<div>\n",
       "<style scoped>\n",
       "    .dataframe tbody tr th:only-of-type {\n",
       "        vertical-align: middle;\n",
       "    }\n",
       "\n",
       "    .dataframe tbody tr th {\n",
       "        vertical-align: top;\n",
       "    }\n",
       "\n",
       "    .dataframe thead th {\n",
       "        text-align: right;\n",
       "    }\n",
       "</style>\n",
       "<table border=\"1\" class=\"dataframe\">\n",
       "  <thead>\n",
       "    <tr style=\"text-align: right;\">\n",
       "      <th></th>\n",
       "      <th>total</th>\n",
       "      <th>actives</th>\n",
       "      <th>fraction</th>\n",
       "    </tr>\n",
       "  </thead>\n",
       "  <tbody>\n",
       "    <tr>\n",
       "      <th>EGFR</th>\n",
       "      <td>5869</td>\n",
       "      <td>3574</td>\n",
       "      <td>0.608962</td>\n",
       "    </tr>\n",
       "    <tr>\n",
       "      <th>ErbB2</th>\n",
       "      <td>1694</td>\n",
       "      <td>1025</td>\n",
       "      <td>0.605077</td>\n",
       "    </tr>\n",
       "    <tr>\n",
       "      <th>BRAF</th>\n",
       "      <td>3682</td>\n",
       "      <td>2988</td>\n",
       "      <td>0.811515</td>\n",
       "    </tr>\n",
       "    <tr>\n",
       "      <th>CDK2</th>\n",
       "      <td>1505</td>\n",
       "      <td>819</td>\n",
       "      <td>0.544186</td>\n",
       "    </tr>\n",
       "    <tr>\n",
       "      <th>LCK</th>\n",
       "      <td>1537</td>\n",
       "      <td>930</td>\n",
       "      <td>0.605075</td>\n",
       "    </tr>\n",
       "    <tr>\n",
       "      <th>MET</th>\n",
       "      <td>2821</td>\n",
       "      <td>2235</td>\n",
       "      <td>0.792272</td>\n",
       "    </tr>\n",
       "    <tr>\n",
       "      <th>p38a</th>\n",
       "      <td>3609</td>\n",
       "      <td>2760</td>\n",
       "      <td>0.764755</td>\n",
       "    </tr>\n",
       "    <tr>\n",
       "      <th>KDR</th>\n",
       "      <td>7624</td>\n",
       "      <td>5312</td>\n",
       "      <td>0.696747</td>\n",
       "    </tr>\n",
       "    <tr>\n",
       "      <th>p110a</th>\n",
       "      <td>4347</td>\n",
       "      <td>2780</td>\n",
       "      <td>0.639522</td>\n",
       "    </tr>\n",
       "  </tbody>\n",
       "</table>\n",
       "</div>"
      ],
      "text/plain": [
       "      total actives  fraction\n",
       "EGFR   5869    3574  0.608962\n",
       "ErbB2  1694    1025  0.605077\n",
       "BRAF   3682    2988  0.811515\n",
       "CDK2   1505     819  0.544186\n",
       "LCK    1537     930  0.605075\n",
       "MET    2821    2235  0.792272\n",
       "p38a   3609    2760  0.764755\n",
       "KDR    7624    5312  0.696747\n",
       "p110a  4347    2780  0.639522"
      ]
     },
     "execution_count": 26,
     "metadata": {},
     "output_type": "execute_result"
    }
   ],
   "source": [
    "kinase_table = from_numbers_to_table(data)\n",
    "kinase_table"
   ]
  },
  {
   "cell_type": "markdown",
   "metadata": {},
   "source": [
    "Let's beautify the table:"
   ]
  },
  {
   "cell_type": "code",
   "execution_count": 27,
   "metadata": {},
   "outputs": [
    {
     "data": {
      "text/html": [
       "<style type=\"text/css\">\n",
       "#T_28336_row0_col2 {\n",
       "  background-color: #dbdbec;\n",
       "  color: #000000;\n",
       "}\n",
       "#T_28336_row1_col2, #T_28336_row4_col2 {\n",
       "  background-color: #dedded;\n",
       "  color: #000000;\n",
       "}\n",
       "#T_28336_row2_col2 {\n",
       "  background-color: #3f007d;\n",
       "  color: #f1f1f1;\n",
       "  background-color: red;\n",
       "}\n",
       "#T_28336_row3_col2 {\n",
       "  background-color: #fcfbfd;\n",
       "  color: #000000;\n",
       "  background-color: yellow;\n",
       "}\n",
       "#T_28336_row5_col2 {\n",
       "  background-color: #4b1687;\n",
       "  color: #f1f1f1;\n",
       "}\n",
       "#T_28336_row6_col2 {\n",
       "  background-color: #5c3797;\n",
       "  color: #f1f1f1;\n",
       "}\n",
       "#T_28336_row7_col2 {\n",
       "  background-color: #8d89c0;\n",
       "  color: #f1f1f1;\n",
       "}\n",
       "#T_28336_row8_col2 {\n",
       "  background-color: #c0c1de;\n",
       "  color: #000000;\n",
       "}\n",
       "</style>\n",
       "<table id=\"T_28336_\">\n",
       "  <thead>\n",
       "    <tr>\n",
       "      <th class=\"blank level0\" >&nbsp;</th>\n",
       "      <th class=\"col_heading level0 col0\" >total</th>\n",
       "      <th class=\"col_heading level0 col1\" >actives</th>\n",
       "      <th class=\"col_heading level0 col2\" >fraction</th>\n",
       "    </tr>\n",
       "  </thead>\n",
       "  <tbody>\n",
       "    <tr>\n",
       "      <th id=\"T_28336_level0_row0\" class=\"row_heading level0 row0\" >EGFR</th>\n",
       "      <td id=\"T_28336_row0_col0\" class=\"data row0 col0\" >5869</td>\n",
       "      <td id=\"T_28336_row0_col1\" class=\"data row0 col1\" >3574</td>\n",
       "      <td id=\"T_28336_row0_col2\" class=\"data row0 col2\" >0.609</td>\n",
       "    </tr>\n",
       "    <tr>\n",
       "      <th id=\"T_28336_level0_row1\" class=\"row_heading level0 row1\" >ErbB2</th>\n",
       "      <td id=\"T_28336_row1_col0\" class=\"data row1 col0\" >1694</td>\n",
       "      <td id=\"T_28336_row1_col1\" class=\"data row1 col1\" >1025</td>\n",
       "      <td id=\"T_28336_row1_col2\" class=\"data row1 col2\" >0.605</td>\n",
       "    </tr>\n",
       "    <tr>\n",
       "      <th id=\"T_28336_level0_row2\" class=\"row_heading level0 row2\" >BRAF</th>\n",
       "      <td id=\"T_28336_row2_col0\" class=\"data row2 col0\" >3682</td>\n",
       "      <td id=\"T_28336_row2_col1\" class=\"data row2 col1\" >2988</td>\n",
       "      <td id=\"T_28336_row2_col2\" class=\"data row2 col2\" >0.812</td>\n",
       "    </tr>\n",
       "    <tr>\n",
       "      <th id=\"T_28336_level0_row3\" class=\"row_heading level0 row3\" >CDK2</th>\n",
       "      <td id=\"T_28336_row3_col0\" class=\"data row3 col0\" >1505</td>\n",
       "      <td id=\"T_28336_row3_col1\" class=\"data row3 col1\" >819</td>\n",
       "      <td id=\"T_28336_row3_col2\" class=\"data row3 col2\" >0.544</td>\n",
       "    </tr>\n",
       "    <tr>\n",
       "      <th id=\"T_28336_level0_row4\" class=\"row_heading level0 row4\" >LCK</th>\n",
       "      <td id=\"T_28336_row4_col0\" class=\"data row4 col0\" >1537</td>\n",
       "      <td id=\"T_28336_row4_col1\" class=\"data row4 col1\" >930</td>\n",
       "      <td id=\"T_28336_row4_col2\" class=\"data row4 col2\" >0.605</td>\n",
       "    </tr>\n",
       "    <tr>\n",
       "      <th id=\"T_28336_level0_row5\" class=\"row_heading level0 row5\" >MET</th>\n",
       "      <td id=\"T_28336_row5_col0\" class=\"data row5 col0\" >2821</td>\n",
       "      <td id=\"T_28336_row5_col1\" class=\"data row5 col1\" >2235</td>\n",
       "      <td id=\"T_28336_row5_col2\" class=\"data row5 col2\" >0.792</td>\n",
       "    </tr>\n",
       "    <tr>\n",
       "      <th id=\"T_28336_level0_row6\" class=\"row_heading level0 row6\" >p38a</th>\n",
       "      <td id=\"T_28336_row6_col0\" class=\"data row6 col0\" >3609</td>\n",
       "      <td id=\"T_28336_row6_col1\" class=\"data row6 col1\" >2760</td>\n",
       "      <td id=\"T_28336_row6_col2\" class=\"data row6 col2\" >0.765</td>\n",
       "    </tr>\n",
       "    <tr>\n",
       "      <th id=\"T_28336_level0_row7\" class=\"row_heading level0 row7\" >KDR</th>\n",
       "      <td id=\"T_28336_row7_col0\" class=\"data row7 col0\" >7624</td>\n",
       "      <td id=\"T_28336_row7_col1\" class=\"data row7 col1\" >5312</td>\n",
       "      <td id=\"T_28336_row7_col2\" class=\"data row7 col2\" >0.697</td>\n",
       "    </tr>\n",
       "    <tr>\n",
       "      <th id=\"T_28336_level0_row8\" class=\"row_heading level0 row8\" >p110a</th>\n",
       "      <td id=\"T_28336_row8_col0\" class=\"data row8 col0\" >4347</td>\n",
       "      <td id=\"T_28336_row8_col1\" class=\"data row8 col1\" >2780</td>\n",
       "      <td id=\"T_28336_row8_col2\" class=\"data row8 col2\" >0.640</td>\n",
       "    </tr>\n",
       "  </tbody>\n",
       "</table>\n"
      ],
      "text/plain": [
       "<pandas.io.formats.style.Styler at 0x7fb372a2e2e0>"
      ]
     },
     "execution_count": 27,
     "metadata": {},
     "output_type": "execute_result"
    }
   ],
   "source": [
    "kinase_table_styler = kinase_table.style.\\\n",
    "    format(\"{:.3f}\", subset=[\"fraction\"]).\\\n",
    "    background_gradient(cmap='Purples', subset=[\"fraction\"]).\\\n",
    "    highlight_min(color=\"yellow\", axis=None).\\\n",
    "    highlight_max(color=\"red\", subset=[\"fraction\"])\n",
    "kinase_table_styler"
   ]
  },
  {
   "cell_type": "markdown",
   "metadata": {},
   "source": [
    "From the table, we notice that CDK2, BRAF are the least, most promiscious kinases, respectively."
   ]
  },
  {
   "cell_type": "markdown",
   "metadata": {},
   "source": [
    "### Compare kinases"
   ]
  },
  {
   "cell_type": "code",
   "execution_count": 28,
   "metadata": {},
   "outputs": [],
   "source": [
    "def similarity_ligand_profile(kinase_name1, kinase_name2, activity_dataframe):\n",
    "    \"\"\"\n",
    "    Compute the similarity of two kinases using ligand profiling.\n",
    "\n",
    "    Parameters\n",
    "    ----------\n",
    "    kinase_name1 : str\n",
    "        First kinase of interest.\n",
    "    kinase_name2 : str\n",
    "        Second kinase of interest.\n",
    "\n",
    "    activity_dataframe :  pd.DataFrame\n",
    "        The dataframe with activity values for kinases.\n",
    "\n",
    "    Returns\n",
    "    -------\n",
    "    fraction : float\n",
    "        The metric for kinase similariy,\n",
    "        i.e. number of active compounds on both kinases\n",
    "        over number of measured compounds on both kinases.\n",
    "    \"\"\"\n",
    "    if kinase_name1 == kinase_name2:\n",
    "        (total_compounds,\n",
    "         active_compounds,\n",
    "         fraction) = kinase_to_activity_numbers(kinase_name1,\n",
    "                                                activity_dataframe)\n",
    "        return fraction\n",
    "    else:\n",
    "        uniprot1 = name_to_uniprot[kinase_name1]\n",
    "        uniprot2 = name_to_uniprot[kinase_name2]\n",
    "\n",
    "        # Data for the two kinases only\n",
    "        reduced_data = activity_dataframe[activity_dataframe\n",
    "                                          [\"UniprotID\"].isin([uniprot1,\n",
    "                                                              uniprot2])]\n",
    "\n",
    "        # Look at active compounds only\n",
    "        active_entries = reduced_data[reduced_data[\"activity_binary\"] == 1]\n",
    "        # Group by compounds\n",
    "        compounds = active_entries.groupby(\"smiles\").size()\n",
    "        # Look at the number of active compounds measured on both kinases\n",
    "        active_compounds_on_both = compounds[compounds == 2].shape\n",
    "\n",
    "        # Look at all tested compounds\n",
    "        compounds = reduced_data.groupby(\"smiles\").size()\n",
    "        # Look at the number of compounds measured on both kinases\n",
    "        measured_compounds_on_both = compounds[compounds == 2].shape\n",
    "\n",
    "        if measured_compounds_on_both[0] > 0:\n",
    "            fraction = (active_compounds_on_both[0] /\n",
    "                        measured_compounds_on_both[0])\n",
    "        else:\n",
    "            print(f\"No compounds were measured on both kinases, \"\n",
    "                  f\"namely {kinase_name1} and {kinase_name2}.\")\n",
    "            fraction = np.nan\n",
    "        return fraction"
   ]
  },
  {
   "cell_type": "markdown",
   "metadata": {},
   "source": [
    "Let's look at the similarity between EGFR and MET:"
   ]
  },
  {
   "cell_type": "code",
   "execution_count": 29,
   "metadata": {},
   "outputs": [
    {
     "name": "stdout",
     "output_type": "stream",
     "text": [
      "Ligand profile similarity between EGFR and MET: 0.23.\n"
     ]
    }
   ],
   "source": [
    "similarity_EGFR_MET = similarity_ligand_profile(\"EGFR\", \"MET\", data)\n",
    "print(f\"Ligand profile similarity between EGFR and MET: \"\n",
    "      f\"{similarity_EGFR_MET:.2f}.\")"
   ]
  },
  {
   "cell_type": "markdown",
   "metadata": {},
   "source": [
    "Let's look at the promiscuity for EGFR:"
   ]
  },
  {
   "cell_type": "code",
   "execution_count": 30,
   "metadata": {},
   "outputs": [
    {
     "name": "stdout",
     "output_type": "stream",
     "text": [
      "EGRF promiscuity: 0.61.\n"
     ]
    }
   ],
   "source": [
    "promiscuity_EGFR = similarity_ligand_profile(\"EGFR\", \"EGFR\", data)\n",
    "print(f\"EGRF promiscuity: \"\n",
    "      f\"{promiscuity_EGFR:.2f}.\")"
   ]
  },
  {
   "cell_type": "markdown",
   "metadata": {},
   "source": [
    "### Visualize similarity as kinase matrix"
   ]
  },
  {
   "cell_type": "code",
   "execution_count": 31,
   "metadata": {},
   "outputs": [
    {
     "name": "stdout",
     "output_type": "stream",
     "text": [
      "No compounds were measured on both kinases, namely ErbB2 and p110a.\n",
      "No compounds were measured on both kinases, namely p110a and ErbB2.\n"
     ]
    }
   ],
   "source": [
    "kinase_similarity_matrix = np.zeros((len(name_to_uniprot),\n",
    "                                     len(name_to_uniprot)))\n",
    "for i, kinase_name1 in enumerate(name_to_uniprot):\n",
    "    for j, kinase_name2 in enumerate(name_to_uniprot):\n",
    "        kinase_similarity_matrix[i, j] = similarity_ligand_profile(\n",
    "            kinase_name1,\n",
    "            kinase_name2,\n",
    "            data)"
   ]
  },
  {
   "cell_type": "code",
   "execution_count": 32,
   "metadata": {},
   "outputs": [
    {
     "data": {
      "text/html": [
       "<div>\n",
       "<style scoped>\n",
       "    .dataframe tbody tr th:only-of-type {\n",
       "        vertical-align: middle;\n",
       "    }\n",
       "\n",
       "    .dataframe tbody tr th {\n",
       "        vertical-align: top;\n",
       "    }\n",
       "\n",
       "    .dataframe thead th {\n",
       "        text-align: right;\n",
       "    }\n",
       "</style>\n",
       "<table border=\"1\" class=\"dataframe\">\n",
       "  <thead>\n",
       "    <tr style=\"text-align: right;\">\n",
       "      <th></th>\n",
       "      <th>EGFR</th>\n",
       "      <th>ErbB2</th>\n",
       "      <th>BRAF</th>\n",
       "      <th>CDK2</th>\n",
       "      <th>LCK</th>\n",
       "      <th>MET</th>\n",
       "      <th>p38a</th>\n",
       "      <th>KDR</th>\n",
       "      <th>p110a</th>\n",
       "    </tr>\n",
       "  </thead>\n",
       "  <tbody>\n",
       "    <tr>\n",
       "      <th>EGFR</th>\n",
       "      <td>0.608962</td>\n",
       "      <td>0.556918</td>\n",
       "      <td>0.419355</td>\n",
       "      <td>0.116279</td>\n",
       "      <td>0.238462</td>\n",
       "      <td>0.225806</td>\n",
       "      <td>0.315789</td>\n",
       "      <td>0.348214</td>\n",
       "      <td>0.071429</td>\n",
       "    </tr>\n",
       "    <tr>\n",
       "      <th>ErbB2</th>\n",
       "      <td>0.556918</td>\n",
       "      <td>0.605077</td>\n",
       "      <td>0.250000</td>\n",
       "      <td>0.153846</td>\n",
       "      <td>0.176471</td>\n",
       "      <td>0.035714</td>\n",
       "      <td>0.125000</td>\n",
       "      <td>0.397790</td>\n",
       "      <td>NaN</td>\n",
       "    </tr>\n",
       "    <tr>\n",
       "      <th>BRAF</th>\n",
       "      <td>0.419355</td>\n",
       "      <td>0.250000</td>\n",
       "      <td>0.811515</td>\n",
       "      <td>0.066667</td>\n",
       "      <td>0.511628</td>\n",
       "      <td>0.111111</td>\n",
       "      <td>0.644444</td>\n",
       "      <td>0.748120</td>\n",
       "      <td>0.166667</td>\n",
       "    </tr>\n",
       "    <tr>\n",
       "      <th>CDK2</th>\n",
       "      <td>0.116279</td>\n",
       "      <td>0.153846</td>\n",
       "      <td>0.066667</td>\n",
       "      <td>0.544186</td>\n",
       "      <td>0.166667</td>\n",
       "      <td>0.086957</td>\n",
       "      <td>0.083333</td>\n",
       "      <td>0.601695</td>\n",
       "      <td>0.266667</td>\n",
       "    </tr>\n",
       "    <tr>\n",
       "      <th>LCK</th>\n",
       "      <td>0.238462</td>\n",
       "      <td>0.176471</td>\n",
       "      <td>0.511628</td>\n",
       "      <td>0.166667</td>\n",
       "      <td>0.605075</td>\n",
       "      <td>0.287879</td>\n",
       "      <td>0.489362</td>\n",
       "      <td>0.432692</td>\n",
       "      <td>0.000000</td>\n",
       "    </tr>\n",
       "    <tr>\n",
       "      <th>MET</th>\n",
       "      <td>0.225806</td>\n",
       "      <td>0.035714</td>\n",
       "      <td>0.111111</td>\n",
       "      <td>0.086957</td>\n",
       "      <td>0.287879</td>\n",
       "      <td>0.792272</td>\n",
       "      <td>0.047619</td>\n",
       "      <td>0.539359</td>\n",
       "      <td>0.000000</td>\n",
       "    </tr>\n",
       "    <tr>\n",
       "      <th>p38a</th>\n",
       "      <td>0.315789</td>\n",
       "      <td>0.125000</td>\n",
       "      <td>0.644444</td>\n",
       "      <td>0.083333</td>\n",
       "      <td>0.489362</td>\n",
       "      <td>0.047619</td>\n",
       "      <td>0.764755</td>\n",
       "      <td>0.500000</td>\n",
       "      <td>0.000000</td>\n",
       "    </tr>\n",
       "    <tr>\n",
       "      <th>KDR</th>\n",
       "      <td>0.348214</td>\n",
       "      <td>0.397790</td>\n",
       "      <td>0.748120</td>\n",
       "      <td>0.601695</td>\n",
       "      <td>0.432692</td>\n",
       "      <td>0.539359</td>\n",
       "      <td>0.500000</td>\n",
       "      <td>0.696747</td>\n",
       "      <td>0.180791</td>\n",
       "    </tr>\n",
       "    <tr>\n",
       "      <th>p110a</th>\n",
       "      <td>0.071429</td>\n",
       "      <td>NaN</td>\n",
       "      <td>0.166667</td>\n",
       "      <td>0.266667</td>\n",
       "      <td>0.000000</td>\n",
       "      <td>0.000000</td>\n",
       "      <td>0.000000</td>\n",
       "      <td>0.180791</td>\n",
       "      <td>0.639522</td>\n",
       "    </tr>\n",
       "  </tbody>\n",
       "</table>\n",
       "</div>"
      ],
      "text/plain": [
       "           EGFR     ErbB2      BRAF      CDK2       LCK       MET      p38a  \\\n",
       "EGFR   0.608962  0.556918  0.419355  0.116279  0.238462  0.225806  0.315789   \n",
       "ErbB2  0.556918  0.605077  0.250000  0.153846  0.176471  0.035714  0.125000   \n",
       "BRAF   0.419355  0.250000  0.811515  0.066667  0.511628  0.111111  0.644444   \n",
       "CDK2   0.116279  0.153846  0.066667  0.544186  0.166667  0.086957  0.083333   \n",
       "LCK    0.238462  0.176471  0.511628  0.166667  0.605075  0.287879  0.489362   \n",
       "MET    0.225806  0.035714  0.111111  0.086957  0.287879  0.792272  0.047619   \n",
       "p38a   0.315789  0.125000  0.644444  0.083333  0.489362  0.047619  0.764755   \n",
       "KDR    0.348214  0.397790  0.748120  0.601695  0.432692  0.539359  0.500000   \n",
       "p110a  0.071429       NaN  0.166667  0.266667  0.000000  0.000000  0.000000   \n",
       "\n",
       "            KDR     p110a  \n",
       "EGFR   0.348214  0.071429  \n",
       "ErbB2  0.397790       NaN  \n",
       "BRAF   0.748120  0.166667  \n",
       "CDK2   0.601695  0.266667  \n",
       "LCK    0.432692  0.000000  \n",
       "MET    0.539359  0.000000  \n",
       "p38a   0.500000  0.000000  \n",
       "KDR    0.696747  0.180791  \n",
       "p110a  0.180791  0.639522  "
      ]
     },
     "execution_count": 32,
     "metadata": {},
     "output_type": "execute_result"
    }
   ],
   "source": [
    "kinase_similarity_matrix = pd.DataFrame(data=kinase_similarity_matrix,\n",
    "                                        index=name_to_uniprot.keys(),\n",
    "                                        columns=name_to_uniprot.keys())\n",
    "kinase_similarity_matrix"
   ]
  },
  {
   "cell_type": "code",
   "execution_count": 33,
   "metadata": {},
   "outputs": [
    {
     "data": {
      "text/html": [
       "<style type=\"text/css\">\n",
       "#T_567e4_row0_col0, #T_567e4_row1_col1, #T_567e4_row2_col2, #T_567e4_row2_col7, #T_567e4_row4_col4, #T_567e4_row5_col5, #T_567e4_row6_col6, #T_567e4_row7_col3, #T_567e4_row8_col8 {\n",
       "  background-color: #008000;\n",
       "  color: #f1f1f1;\n",
       "}\n",
       "#T_567e4_row0_col1, #T_567e4_row7_col2 {\n",
       "  background-color: #138913;\n",
       "  color: #f1f1f1;\n",
       "}\n",
       "#T_567e4_row0_col2, #T_567e4_row5_col4 {\n",
       "  background-color: #7bbc7b;\n",
       "  color: #000000;\n",
       "}\n",
       "#T_567e4_row0_col3 {\n",
       "  background-color: #d5e9d5;\n",
       "  color: #000000;\n",
       "}\n",
       "#T_567e4_row0_col4 {\n",
       "  background-color: #8fc68f;\n",
       "  color: #000000;\n",
       "}\n",
       "#T_567e4_row0_col5, #T_567e4_row7_col8 {\n",
       "  background-color: #a8d2a8;\n",
       "  color: #000000;\n",
       "}\n",
       "#T_567e4_row0_col6 {\n",
       "  background-color: #8ac48a;\n",
       "  color: #000000;\n",
       "}\n",
       "#T_567e4_row0_col7 {\n",
       "  background-color: #a6d1a6;\n",
       "  color: #000000;\n",
       "}\n",
       "#T_567e4_row0_col8, #T_567e4_row3_col5 {\n",
       "  background-color: #d1e6d1;\n",
       "  color: #000000;\n",
       "}\n",
       "#T_567e4_row1_col0 {\n",
       "  background-color: #168b16;\n",
       "  color: #f1f1f1;\n",
       "}\n",
       "#T_567e4_row1_col2, #T_567e4_row4_col1 {\n",
       "  background-color: #b1d7b1;\n",
       "  color: #000000;\n",
       "}\n",
       "#T_567e4_row1_col3, #T_567e4_row1_col6 {\n",
       "  background-color: #c5e0c5;\n",
       "  color: #000000;\n",
       "}\n",
       "#T_567e4_row1_col4 {\n",
       "  background-color: #a6d2a6;\n",
       "  color: #000000;\n",
       "}\n",
       "#T_567e4_row1_col5 {\n",
       "  background-color: #e0eee0;\n",
       "  color: #000000;\n",
       "}\n",
       "#T_567e4_row1_col7 {\n",
       "  background-color: #91c791;\n",
       "  color: #000000;\n",
       "}\n",
       "#T_567e4_row1_col8, #T_567e4_row8_col1 {\n",
       "  background-color: #000000;\n",
       "  color: #f1f1f1;\n",
       "}\n",
       "#T_567e4_row2_col0 {\n",
       "  background-color: #53a953;\n",
       "  color: #f1f1f1;\n",
       "}\n",
       "#T_567e4_row2_col1 {\n",
       "  background-color: #92c892;\n",
       "  color: #000000;\n",
       "}\n",
       "#T_567e4_row2_col3, #T_567e4_row3_col2, #T_567e4_row4_col8, #T_567e4_row5_col1, #T_567e4_row5_col8, #T_567e4_row6_col8, #T_567e4_row8_col0, #T_567e4_row8_col4, #T_567e4_row8_col5, #T_567e4_row8_col6, #T_567e4_row8_col7 {\n",
       "  background-color: #ebf3eb;\n",
       "  color: #000000;\n",
       "}\n",
       "#T_567e4_row2_col4 {\n",
       "  background-color: #249224;\n",
       "  color: #f1f1f1;\n",
       "}\n",
       "#T_567e4_row2_col5 {\n",
       "  background-color: #cae3ca;\n",
       "  color: #000000;\n",
       "}\n",
       "#T_567e4_row2_col6 {\n",
       "  background-color: #259225;\n",
       "  color: #f1f1f1;\n",
       "}\n",
       "#T_567e4_row2_col8 {\n",
       "  background-color: #aed5ae;\n",
       "  color: #000000;\n",
       "}\n",
       "#T_567e4_row3_col0 {\n",
       "  background-color: #d7e9d7;\n",
       "  color: #000000;\n",
       "}\n",
       "#T_567e4_row3_col1 {\n",
       "  background-color: #badbba;\n",
       "  color: #000000;\n",
       "}\n",
       "#T_567e4_row3_col3 {\n",
       "  background-color: #198c19;\n",
       "  color: #f1f1f1;\n",
       "}\n",
       "#T_567e4_row3_col4 {\n",
       "  background-color: #aad3aa;\n",
       "  color: #000000;\n",
       "}\n",
       "#T_567e4_row3_col6 {\n",
       "  background-color: #d2e7d2;\n",
       "  color: #000000;\n",
       "}\n",
       "#T_567e4_row3_col7 {\n",
       "  background-color: #3d9e3d;\n",
       "  color: #f1f1f1;\n",
       "}\n",
       "#T_567e4_row3_col8 {\n",
       "  background-color: #89c389;\n",
       "  color: #000000;\n",
       "}\n",
       "#T_567e4_row4_col0 {\n",
       "  background-color: #a2cfa2;\n",
       "  color: #000000;\n",
       "}\n",
       "#T_567e4_row4_col2 {\n",
       "  background-color: #5fae5f;\n",
       "  color: #f1f1f1;\n",
       "}\n",
       "#T_567e4_row4_col3 {\n",
       "  background-color: #bfdebf;\n",
       "  color: #000000;\n",
       "}\n",
       "#T_567e4_row4_col5 {\n",
       "  background-color: #95c995;\n",
       "  color: #000000;\n",
       "}\n",
       "#T_567e4_row4_col6 {\n",
       "  background-color: #55a955;\n",
       "  color: #f1f1f1;\n",
       "}\n",
       "#T_567e4_row4_col7 {\n",
       "  background-color: #83c083;\n",
       "  color: #000000;\n",
       "}\n",
       "#T_567e4_row5_col0 {\n",
       "  background-color: #a7d2a7;\n",
       "  color: #000000;\n",
       "}\n",
       "#T_567e4_row5_col2, #T_567e4_row5_col6, #T_567e4_row6_col5 {\n",
       "  background-color: #ddecdd;\n",
       "  color: #000000;\n",
       "}\n",
       "#T_567e4_row5_col3 {\n",
       "  background-color: #e2efe2;\n",
       "  color: #000000;\n",
       "}\n",
       "#T_567e4_row5_col7, #T_567e4_row7_col1 {\n",
       "  background-color: #56aa56;\n",
       "  color: #f1f1f1;\n",
       "}\n",
       "#T_567e4_row6_col0 {\n",
       "  background-color: #80bf80;\n",
       "  color: #000000;\n",
       "}\n",
       "#T_567e4_row6_col1 {\n",
       "  background-color: #c6e1c6;\n",
       "  color: #000000;\n",
       "}\n",
       "#T_567e4_row6_col2 {\n",
       "  background-color: #349a34;\n",
       "  color: #f1f1f1;\n",
       "}\n",
       "#T_567e4_row6_col3 {\n",
       "  background-color: #e4f0e4;\n",
       "  color: #000000;\n",
       "}\n",
       "#T_567e4_row6_col4 {\n",
       "  background-color: #2c962c;\n",
       "  color: #f1f1f1;\n",
       "}\n",
       "#T_567e4_row6_col7 {\n",
       "  background-color: #66b266;\n",
       "  color: #f1f1f1;\n",
       "}\n",
       "#T_567e4_row7_col0 {\n",
       "  background-color: #72b872;\n",
       "  color: #f1f1f1;\n",
       "}\n",
       "#T_567e4_row7_col4 {\n",
       "  background-color: #42a042;\n",
       "  color: #f1f1f1;\n",
       "}\n",
       "#T_567e4_row7_col5 {\n",
       "  background-color: #4ba54a;\n",
       "  color: #f1f1f1;\n",
       "}\n",
       "#T_567e4_row7_col6 {\n",
       "  background-color: #51a851;\n",
       "  color: #f1f1f1;\n",
       "}\n",
       "#T_567e4_row7_col7 {\n",
       "  background-color: #158a15;\n",
       "  color: #f1f1f1;\n",
       "}\n",
       "#T_567e4_row8_col2 {\n",
       "  background-color: #cbe4cb;\n",
       "  color: #000000;\n",
       "}\n",
       "#T_567e4_row8_col3 {\n",
       "  background-color: #93c893;\n",
       "  color: #000000;\n",
       "}\n",
       "</style>\n",
       "<table id=\"T_567e4_\">\n",
       "  <thead>\n",
       "    <tr>\n",
       "      <th class=\"blank level0\" >&nbsp;</th>\n",
       "      <th class=\"col_heading level0 col0\" >EGFR</th>\n",
       "      <th class=\"col_heading level0 col1\" >ErbB2</th>\n",
       "      <th class=\"col_heading level0 col2\" >BRAF</th>\n",
       "      <th class=\"col_heading level0 col3\" >CDK2</th>\n",
       "      <th class=\"col_heading level0 col4\" >LCK</th>\n",
       "      <th class=\"col_heading level0 col5\" >MET</th>\n",
       "      <th class=\"col_heading level0 col6\" >p38a</th>\n",
       "      <th class=\"col_heading level0 col7\" >KDR</th>\n",
       "      <th class=\"col_heading level0 col8\" >p110a</th>\n",
       "    </tr>\n",
       "  </thead>\n",
       "  <tbody>\n",
       "    <tr>\n",
       "      <th id=\"T_567e4_level0_row0\" class=\"row_heading level0 row0\" >EGFR</th>\n",
       "      <td id=\"T_567e4_row0_col0\" class=\"data row0 col0\" >0.609</td>\n",
       "      <td id=\"T_567e4_row0_col1\" class=\"data row0 col1\" >0.557</td>\n",
       "      <td id=\"T_567e4_row0_col2\" class=\"data row0 col2\" >0.419</td>\n",
       "      <td id=\"T_567e4_row0_col3\" class=\"data row0 col3\" >0.116</td>\n",
       "      <td id=\"T_567e4_row0_col4\" class=\"data row0 col4\" >0.238</td>\n",
       "      <td id=\"T_567e4_row0_col5\" class=\"data row0 col5\" >0.226</td>\n",
       "      <td id=\"T_567e4_row0_col6\" class=\"data row0 col6\" >0.316</td>\n",
       "      <td id=\"T_567e4_row0_col7\" class=\"data row0 col7\" >0.348</td>\n",
       "      <td id=\"T_567e4_row0_col8\" class=\"data row0 col8\" >0.071</td>\n",
       "    </tr>\n",
       "    <tr>\n",
       "      <th id=\"T_567e4_level0_row1\" class=\"row_heading level0 row1\" >ErbB2</th>\n",
       "      <td id=\"T_567e4_row1_col0\" class=\"data row1 col0\" >0.557</td>\n",
       "      <td id=\"T_567e4_row1_col1\" class=\"data row1 col1\" >0.605</td>\n",
       "      <td id=\"T_567e4_row1_col2\" class=\"data row1 col2\" >0.250</td>\n",
       "      <td id=\"T_567e4_row1_col3\" class=\"data row1 col3\" >0.154</td>\n",
       "      <td id=\"T_567e4_row1_col4\" class=\"data row1 col4\" >0.176</td>\n",
       "      <td id=\"T_567e4_row1_col5\" class=\"data row1 col5\" >0.036</td>\n",
       "      <td id=\"T_567e4_row1_col6\" class=\"data row1 col6\" >0.125</td>\n",
       "      <td id=\"T_567e4_row1_col7\" class=\"data row1 col7\" >0.398</td>\n",
       "      <td id=\"T_567e4_row1_col8\" class=\"data row1 col8\" >nan</td>\n",
       "    </tr>\n",
       "    <tr>\n",
       "      <th id=\"T_567e4_level0_row2\" class=\"row_heading level0 row2\" >BRAF</th>\n",
       "      <td id=\"T_567e4_row2_col0\" class=\"data row2 col0\" >0.419</td>\n",
       "      <td id=\"T_567e4_row2_col1\" class=\"data row2 col1\" >0.250</td>\n",
       "      <td id=\"T_567e4_row2_col2\" class=\"data row2 col2\" >0.812</td>\n",
       "      <td id=\"T_567e4_row2_col3\" class=\"data row2 col3\" >0.067</td>\n",
       "      <td id=\"T_567e4_row2_col4\" class=\"data row2 col4\" >0.512</td>\n",
       "      <td id=\"T_567e4_row2_col5\" class=\"data row2 col5\" >0.111</td>\n",
       "      <td id=\"T_567e4_row2_col6\" class=\"data row2 col6\" >0.644</td>\n",
       "      <td id=\"T_567e4_row2_col7\" class=\"data row2 col7\" >0.748</td>\n",
       "      <td id=\"T_567e4_row2_col8\" class=\"data row2 col8\" >0.167</td>\n",
       "    </tr>\n",
       "    <tr>\n",
       "      <th id=\"T_567e4_level0_row3\" class=\"row_heading level0 row3\" >CDK2</th>\n",
       "      <td id=\"T_567e4_row3_col0\" class=\"data row3 col0\" >0.116</td>\n",
       "      <td id=\"T_567e4_row3_col1\" class=\"data row3 col1\" >0.154</td>\n",
       "      <td id=\"T_567e4_row3_col2\" class=\"data row3 col2\" >0.067</td>\n",
       "      <td id=\"T_567e4_row3_col3\" class=\"data row3 col3\" >0.544</td>\n",
       "      <td id=\"T_567e4_row3_col4\" class=\"data row3 col4\" >0.167</td>\n",
       "      <td id=\"T_567e4_row3_col5\" class=\"data row3 col5\" >0.087</td>\n",
       "      <td id=\"T_567e4_row3_col6\" class=\"data row3 col6\" >0.083</td>\n",
       "      <td id=\"T_567e4_row3_col7\" class=\"data row3 col7\" >0.602</td>\n",
       "      <td id=\"T_567e4_row3_col8\" class=\"data row3 col8\" >0.267</td>\n",
       "    </tr>\n",
       "    <tr>\n",
       "      <th id=\"T_567e4_level0_row4\" class=\"row_heading level0 row4\" >LCK</th>\n",
       "      <td id=\"T_567e4_row4_col0\" class=\"data row4 col0\" >0.238</td>\n",
       "      <td id=\"T_567e4_row4_col1\" class=\"data row4 col1\" >0.176</td>\n",
       "      <td id=\"T_567e4_row4_col2\" class=\"data row4 col2\" >0.512</td>\n",
       "      <td id=\"T_567e4_row4_col3\" class=\"data row4 col3\" >0.167</td>\n",
       "      <td id=\"T_567e4_row4_col4\" class=\"data row4 col4\" >0.605</td>\n",
       "      <td id=\"T_567e4_row4_col5\" class=\"data row4 col5\" >0.288</td>\n",
       "      <td id=\"T_567e4_row4_col6\" class=\"data row4 col6\" >0.489</td>\n",
       "      <td id=\"T_567e4_row4_col7\" class=\"data row4 col7\" >0.433</td>\n",
       "      <td id=\"T_567e4_row4_col8\" class=\"data row4 col8\" >0.000</td>\n",
       "    </tr>\n",
       "    <tr>\n",
       "      <th id=\"T_567e4_level0_row5\" class=\"row_heading level0 row5\" >MET</th>\n",
       "      <td id=\"T_567e4_row5_col0\" class=\"data row5 col0\" >0.226</td>\n",
       "      <td id=\"T_567e4_row5_col1\" class=\"data row5 col1\" >0.036</td>\n",
       "      <td id=\"T_567e4_row5_col2\" class=\"data row5 col2\" >0.111</td>\n",
       "      <td id=\"T_567e4_row5_col3\" class=\"data row5 col3\" >0.087</td>\n",
       "      <td id=\"T_567e4_row5_col4\" class=\"data row5 col4\" >0.288</td>\n",
       "      <td id=\"T_567e4_row5_col5\" class=\"data row5 col5\" >0.792</td>\n",
       "      <td id=\"T_567e4_row5_col6\" class=\"data row5 col6\" >0.048</td>\n",
       "      <td id=\"T_567e4_row5_col7\" class=\"data row5 col7\" >0.539</td>\n",
       "      <td id=\"T_567e4_row5_col8\" class=\"data row5 col8\" >0.000</td>\n",
       "    </tr>\n",
       "    <tr>\n",
       "      <th id=\"T_567e4_level0_row6\" class=\"row_heading level0 row6\" >p38a</th>\n",
       "      <td id=\"T_567e4_row6_col0\" class=\"data row6 col0\" >0.316</td>\n",
       "      <td id=\"T_567e4_row6_col1\" class=\"data row6 col1\" >0.125</td>\n",
       "      <td id=\"T_567e4_row6_col2\" class=\"data row6 col2\" >0.644</td>\n",
       "      <td id=\"T_567e4_row6_col3\" class=\"data row6 col3\" >0.083</td>\n",
       "      <td id=\"T_567e4_row6_col4\" class=\"data row6 col4\" >0.489</td>\n",
       "      <td id=\"T_567e4_row6_col5\" class=\"data row6 col5\" >0.048</td>\n",
       "      <td id=\"T_567e4_row6_col6\" class=\"data row6 col6\" >0.765</td>\n",
       "      <td id=\"T_567e4_row6_col7\" class=\"data row6 col7\" >0.500</td>\n",
       "      <td id=\"T_567e4_row6_col8\" class=\"data row6 col8\" >0.000</td>\n",
       "    </tr>\n",
       "    <tr>\n",
       "      <th id=\"T_567e4_level0_row7\" class=\"row_heading level0 row7\" >KDR</th>\n",
       "      <td id=\"T_567e4_row7_col0\" class=\"data row7 col0\" >0.348</td>\n",
       "      <td id=\"T_567e4_row7_col1\" class=\"data row7 col1\" >0.398</td>\n",
       "      <td id=\"T_567e4_row7_col2\" class=\"data row7 col2\" >0.748</td>\n",
       "      <td id=\"T_567e4_row7_col3\" class=\"data row7 col3\" >0.602</td>\n",
       "      <td id=\"T_567e4_row7_col4\" class=\"data row7 col4\" >0.433</td>\n",
       "      <td id=\"T_567e4_row7_col5\" class=\"data row7 col5\" >0.539</td>\n",
       "      <td id=\"T_567e4_row7_col6\" class=\"data row7 col6\" >0.500</td>\n",
       "      <td id=\"T_567e4_row7_col7\" class=\"data row7 col7\" >0.697</td>\n",
       "      <td id=\"T_567e4_row7_col8\" class=\"data row7 col8\" >0.181</td>\n",
       "    </tr>\n",
       "    <tr>\n",
       "      <th id=\"T_567e4_level0_row8\" class=\"row_heading level0 row8\" >p110a</th>\n",
       "      <td id=\"T_567e4_row8_col0\" class=\"data row8 col0\" >0.071</td>\n",
       "      <td id=\"T_567e4_row8_col1\" class=\"data row8 col1\" >nan</td>\n",
       "      <td id=\"T_567e4_row8_col2\" class=\"data row8 col2\" >0.167</td>\n",
       "      <td id=\"T_567e4_row8_col3\" class=\"data row8 col3\" >0.267</td>\n",
       "      <td id=\"T_567e4_row8_col4\" class=\"data row8 col4\" >0.000</td>\n",
       "      <td id=\"T_567e4_row8_col5\" class=\"data row8 col5\" >0.000</td>\n",
       "      <td id=\"T_567e4_row8_col6\" class=\"data row8 col6\" >0.000</td>\n",
       "      <td id=\"T_567e4_row8_col7\" class=\"data row8 col7\" >0.181</td>\n",
       "      <td id=\"T_567e4_row8_col8\" class=\"data row8 col8\" >0.640</td>\n",
       "    </tr>\n",
       "  </tbody>\n",
       "</table>\n"
      ],
      "text/plain": [
       "<pandas.io.formats.style.Styler at 0x7fb372e418b0>"
      ]
     },
     "execution_count": 33,
     "metadata": {},
     "output_type": "execute_result"
    }
   ],
   "source": [
    "# Show matrix with background gradient\n",
    "cm = sns.light_palette(\"green\", as_cmap=True)\n",
    "kinase_similarity_matrix.style.\\\n",
    "    background_gradient(cmap=cm).\\\n",
    "    format(\"{:.3f}\")"
   ]
  },
  {
   "cell_type": "markdown",
   "metadata": {},
   "source": [
    "### Save kinase distance matrix"
   ]
  },
  {
   "cell_type": "code",
   "execution_count": 34,
   "metadata": {},
   "outputs": [],
   "source": [
    "kinase_similarity_matrix.to_csv(DATA /\n",
    "                                \"kinase_similarity_matrix_ligand_profile.csv\")"
   ]
  },
  {
   "cell_type": "markdown",
   "metadata": {},
   "source": [
    "## Discussion\n",
    "\n",
    "Wrap up the talktorial's content here and discuss pros/cons and open questions/challenges.\n",
    "\n",
    "The kinase similarity matrix above will be reloaded in Talktorial T028, where we compare kinase similarities from different perspectives, including the ligand profile perspective we have talked about in this talktorial."
   ]
  },
  {
   "cell_type": "markdown",
   "metadata": {},
   "source": [
    "## Quiz\n",
    "\n",
    "Ask three questions that the user should be able to answer after doing this talktorial. Choose important take-aways from this talktorial for your questions.\n",
    "\n",
    "1. Question\n",
    "2. Question\n",
    "3. Question"
   ]
  }
 ],
 "metadata": {
  "kernelspec": {
   "display_name": "Python 3 (ipykernel)",
   "language": "python",
   "name": "python3"
  },
  "language_info": {
   "codemirror_mode": {
    "name": "ipython",
    "version": 3
   },
   "file_extension": ".py",
   "mimetype": "text/x-python",
   "name": "python",
   "nbconvert_exporter": "python",
   "pygments_lexer": "ipython3",
   "version": "3.8.10"
  },
  "toc-autonumbering": true,
  "widgets": {
   "application/vnd.jupyter.widget-state+json": {
    "state": {},
    "version_major": 2,
    "version_minor": 0
   }
  }
 },
 "nbformat": 4,
 "nbformat_minor": 4
}
