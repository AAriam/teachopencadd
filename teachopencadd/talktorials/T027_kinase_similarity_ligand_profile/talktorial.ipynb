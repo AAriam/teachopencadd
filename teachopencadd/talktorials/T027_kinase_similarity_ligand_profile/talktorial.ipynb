{
 "cells": [
  {
   "cell_type": "markdown",
   "metadata": {},
   "source": [
    "# T027 · Kinase similarity: ligand-profile\n",
    "\n",
    "Authors:\n",
    "\n",
    "- Talia B. Kimber, 2021, [Volkamer lab, Charité](https://volkamerlab.org/)\n",
    "- Dominique Sydow, 2021, [Volkamer lab, Charité](https://volkamerlab.org/)\n",
    "- Andrea Volkamer, 2021, [Volkamer lab, Charité](https://volkamerlab.org/)"
   ]
  },
  {
   "cell_type": "markdown",
   "metadata": {},
   "source": [
    "## Aim of this talktorial\n",
    "\n",
    "The aim of this talktorial is to investigate kinase similarity through ligand profiling data. In the context of drug design, the following assumption can be made: if a compound was tested as active on two different kinases, it is suspected that these two kinases may have some degree of similarity. The concept of kinase promiscuity is also covered."
   ]
  },
  {
   "cell_type": "markdown",
   "metadata": {},
   "source": [
    "### Contents in *Theory*\n",
    "\n",
    "* Kinase dataset\n",
    "* Bioactivity data\n",
    "* Kinase similarity descriptor: ligand-profile\n",
    "    * Kinase similarity\n",
    "    * Kinase promiscuity"
   ]
  },
  {
   "cell_type": "markdown",
   "metadata": {},
   "source": [
    "### Contents in *Practical*\n",
    "\n",
    "* Retrieve the data\n",
    "* Preprocess the data\n",
    "    * Kinases of interest\n",
    "    * Hit or non-hit\n",
    "* Kinase promiscuity\n",
    "* Kinase similarity\n",
    "    * Visualize similarity as kinase matrix\n",
    "    * Save kinase similarity matrix\n",
    "* Kinase distance matrix\n",
    "    * Save kinase distance matrix"
   ]
  },
  {
   "cell_type": "markdown",
   "metadata": {},
   "source": [
    "### References\n",
    "\n",
    "* Kinase dataset: [<i>Molecules</i> (2021), <b>26(3)</b>, 629](https://www.mdpi.com/1420-3049/26/3/629) \n",
    "* [ChEMBL](https://www.ebi.ac.uk/chembl/) database"
   ]
  },
  {
   "cell_type": "markdown",
   "metadata": {},
   "source": [
    "## Theory"
   ]
  },
  {
   "cell_type": "markdown",
   "metadata": {},
   "source": [
    "### Kinase dataset"
   ]
  },
  {
   "cell_type": "markdown",
   "metadata": {},
   "source": [
    "We will use nine kinases as investigated in [<i>Molecules</i> (2021), <b>26(3)</b>, 629](https://www.mdpi.com/1420-3049/26/3/629). In the study diverse kinase similarity measures were analyzed for different combinations of kinase on- and off-targets to explore the limits of multi-kinase screenings.\n",
    "\n",
    " \n",
    "\n",
    "> We aggregated the investigated kinases in “profiles”. Profile 1 combined **EGFR** and **ErbB2** as targets and **BRAF** as a (general) anti-target. Out of similar considerations, Profile 2 consisted of EGFR and **PI3K** as targets and BRAF as anti-target. This profile is expected to be more challenging as PI3K is an atypical kinase and thus less similar to EGFR than for example ErbB2 used in Profile 1. Profile 3, comprised of EGFR and **VEGFR2** as targets and BRAF as anti-target, was contrasted with the hit rate that we found with a standard docking against the single target VEGFR2 (Profile 4).\n",
    "> To broaden the comparison and obtain an estimate for the promiscuity of each compound, the kinases **CDK2**, **LCK**, **MET** and **p38α** were included in the experimental assay panel and the structure-based bioinformatics comparison as commonly used anti-targets.\n",
    "\n",
    " \n",
    "\n",
    "*Table 1:* \n",
    "Kinases used in this notebook, taken from [<i>Molecules</i> (2021), <b>26(3)</b>, 629](https://www.mdpi.com/1420-3049/26/3/629), with their synonyms, UniProt IDs, kinase groups, and full unabbreviated names.\n",
    "\n",
    " \n",
    "\n",
    "| Kinase                     | Synonyms               | UniProt ID | Group    | Full kinase name                                 |\n",
    "|----------------------------|------------------------|------------|----------|--------------------------------------------------|\n",
    "| EGFR                       | ErbB1                  | P00533     | TK       | Epidermal growth factor receptor                 |\n",
    "| ErbB2                      | Her2                   | P04626     | TK       | Erythroblastic leukemia viral oncogene homolog 2 |\n",
    "| PI3K                       | PI3KCA, p110a          | P42336     | Atypical | Phosphatidylinositol-3-kinase                    |\n",
    "| VEGFR2                     | KDR                    | P35968     | TK       | Vascular endothelial growth factor receptor 2    |\n",
    "| BRAF                       | -                      | P15056     | TKL      | Rapidly accelerated fibrosarcoma isoform B       |\n",
    "| CDK2                       | -                      | P24941     | CMGC     | Cyclic-dependent kinase 2                        |\n",
    "| LCK                        | -                      | P06239     | TK       | Lymphocyte-specific protein tyrosine kinase      |\n",
    "| MET                        | -                      | P08581     | TK       | Mesenchymal-epithelial transition factor         |\n",
    "| p38a                       | MAPK14                 | Q16539     | CMGC     | p38 mitogen activated protein kinase α           |"
   ]
  },
  {
   "cell_type": "markdown",
   "metadata": {},
   "source": [
    "### Bioactivity data"
   ]
  },
  {
   "cell_type": "markdown",
   "metadata": {},
   "source": [
    "In order to measure kinase similarity through ligand profiling data, bioactivity data is retrieved from the well-known [ChEMBL](https://www.ebi.ac.uk/chembl/) database and the query focuses on human-kinases. Luckily, a curated version of ChEMBL28 is already freely available in the openkinome organization, see https://github.com/openkinome/kinodata.\n",
    "For more details on querying the ChEMBL database, please refer to [Talktorial T001](https://github.com/volkamerlab/teachopencadd/blob/master/teachopencadd/talktorials/T001_query_chembl/talktorial.ipynb)."
   ]
  },
  {
   "cell_type": "markdown",
   "metadata": {},
   "source": [
    "In drug design, it is common to binarize the activity of a compound against a target of interest as a \"hit\" or \"non-hit\". Practically speaking, this is done using a cutoff value for measured activity. If the activity is greater than the cutoff, the compound is labeled as active (hit), and inactive (non-hit) otherwise."
   ]
  },
  {
   "cell_type": "markdown",
   "metadata": {},
   "source": [
    "### Kinase similarity descriptor: ligand-profile"
   ]
  },
  {
   "cell_type": "markdown",
   "metadata": {},
   "source": [
    "As a measure of similarity, we use ligand profiling data in this talktorial."
   ]
  },
  {
   "cell_type": "markdown",
   "metadata": {
    "jp-MarkdownHeadingCollapsed": true,
    "tags": []
   },
   "source": [
    "#### Kinase similarity\n",
    "\n",
    "We use the following metric as similarity between kinases $K_i$ and $K_j$:\n",
    "\n",
    "$$\n",
    "\\text{similarity}(K_i, K_j) = \\frac{\\#\\text{ of compounds that were tested as actives on } K_i \\text{ and } K_j}\n",
    "{\\#\\text{ of compounds that were tested on both } K_i \\text{ and } K_j}.\n",
    "$$\n",
    "\n",
    "Assuming that only one compound was tested on two kinases, and that the compound was tested as active for one and inactive for the other, then the similarity between these two kinases would be zero."
   ]
  },
  {
   "cell_type": "markdown",
   "metadata": {},
   "source": [
    "#### Kinase promiscuity\n",
    "Computing the similarity between a kinase and itself may be interpreted as kinase promiscuity, where the similarity described above would therefore represent the fraction of active compounds over all tested compounds."
   ]
  },
  {
   "cell_type": "markdown",
   "metadata": {},
   "source": [
    "## Practical"
   ]
  },
  {
   "cell_type": "code",
   "execution_count": 1,
   "metadata": {},
   "outputs": [],
   "source": [
    "from pathlib import Path\n",
    "import pandas as pd\n",
    "import numpy as np\n",
    "import seaborn as sns\n",
    "from collections import Counter"
   ]
  },
  {
   "cell_type": "code",
   "execution_count": 2,
   "metadata": {},
   "outputs": [],
   "source": [
    "HERE = Path(_dh[-1])\n",
    "DATA = HERE / \"data\""
   ]
  },
  {
   "cell_type": "markdown",
   "metadata": {},
   "source": [
    "### Retrieve the data"
   ]
  },
  {
   "cell_type": "markdown",
   "metadata": {},
   "source": [
    "We retrieve a pre-curated version of a kinase subset of ChEMBL v.28 freely available at openkinome, see https://github.com/openkinome/kinodata/releases/tag/v0.2."
   ]
  },
  {
   "cell_type": "code",
   "execution_count": null,
   "metadata": {},
   "outputs": [],
   "source": [
    "path = \"https://github.com/openkinome/kinodata/releases/download/\\\n",
    "v0.2/activities-chembl28_v0.2.zip\"\n",
    "data = pd.read_csv(path, index_col=None)\n",
    "print(f\"Current shape of data: {data.shape}\")\n",
    "data.head()"
   ]
  },
  {
   "cell_type": "markdown",
   "metadata": {},
   "source": [
    "### Preprocess the data"
   ]
  },
  {
   "cell_type": "markdown",
   "metadata": {},
   "source": [
    "We look at the type of activity and the associated units."
   ]
  },
  {
   "cell_type": "code",
   "execution_count": null,
   "metadata": {},
   "outputs": [],
   "source": [
    "print(f\"Activities: {set(data['activities.standard_type'])}\\n\"\n",
    "      f\"Units: {set(data['activities.standard_units'])}\")"
   ]
  },
  {
   "cell_type": "markdown",
   "metadata": {},
   "source": [
    "Let's keep the entries which have pIC50 values only."
   ]
  },
  {
   "cell_type": "code",
   "execution_count": null,
   "metadata": {},
   "outputs": [],
   "source": [
    "data = data[data[\"activities.standard_type\"] == \"pIC50\"]"
   ]
  },
  {
   "cell_type": "code",
   "execution_count": null,
   "metadata": {},
   "outputs": [],
   "source": [
    "data.columns"
   ]
  },
  {
   "cell_type": "markdown",
   "metadata": {},
   "source": [
    "The dataframe contains many columns that won't be necessary for the rest of the notebook which are therefore removed. \n",
    "Only relevant information is kept, namely the canonical SMILES of the compound, the measured activity and the UniProt ID of the kinase. These columns are renamed for readability."
   ]
  },
  {
   "cell_type": "code",
   "execution_count": null,
   "metadata": {},
   "outputs": [],
   "source": [
    "data = data[[\"compound_structures.canonical_smiles\",\n",
    "             \"activities.standard_value\",\n",
    "             \"UniprotID\"]]\n",
    "data = data.rename(columns={\"compound_structures.canonical_smiles\": \"smiles\",\n",
    "                            \"activities.standard_value\": \"activity_value\"})"
   ]
  },
  {
   "cell_type": "code",
   "execution_count": null,
   "metadata": {},
   "outputs": [],
   "source": [
    "print(f\"Current shape of data: {data.shape}\")\n",
    "data.head()"
   ]
  },
  {
   "cell_type": "markdown",
   "metadata": {},
   "source": [
    "We also drop NA values."
   ]
  },
  {
   "cell_type": "code",
   "execution_count": null,
   "metadata": {},
   "outputs": [],
   "source": [
    "data = data.dropna()\n",
    "print(f\"Current shape of data: {data.shape}\")"
   ]
  },
  {
   "cell_type": "markdown",
   "metadata": {},
   "source": [
    "#### Kinases of interest\n",
    "\n",
    "We focus on the kinases of interest and map them to their [UniProt](https://www.uniprot.org/) IDs, using Table 1 from the theory."
   ]
  },
  {
   "cell_type": "code",
   "execution_count": null,
   "metadata": {},
   "outputs": [],
   "source": [
    "name_to_uniprot = {'EGFR': 'P00533',\n",
    "                   'ErbB2': 'P04626',\n",
    "                   'BRAF': 'P15056',\n",
    "                   'CDK2': 'P24941',\n",
    "                   'LCK': 'P06239',\n",
    "                   'MET': 'P08581',\n",
    "                   'p38a': 'Q16539',\n",
    "                   'KDR': 'P35968',\n",
    "                   'p110a': 'P42336'}"
   ]
  },
  {
   "cell_type": "markdown",
   "metadata": {},
   "source": [
    "We keep data for these kinases only:"
   ]
  },
  {
   "cell_type": "code",
   "execution_count": null,
   "metadata": {},
   "outputs": [],
   "source": [
    "data = data[data[\"UniprotID\"].isin(name_to_uniprot.values())]\n",
    "print(f\"Current shape of data: {data.shape}\")"
   ]
  },
  {
   "cell_type": "code",
   "execution_count": null,
   "metadata": {},
   "outputs": [],
   "source": [
    "data.head()"
   ]
  },
  {
   "cell_type": "markdown",
   "metadata": {},
   "source": [
    "Let's look at EGFR data:"
   ]
  },
  {
   "cell_type": "code",
   "execution_count": null,
   "metadata": {},
   "outputs": [],
   "source": [
    "EGFR_data = data[data[\"UniprotID\"] == \"P00533\"]"
   ]
  },
  {
   "cell_type": "markdown",
   "metadata": {},
   "source": [
    "Some compounds have been tested several times against EGFR, as shown below."
   ]
  },
  {
   "cell_type": "code",
   "execution_count": null,
   "metadata": {},
   "outputs": [],
   "source": [
    "measured_compounds = Counter(EGFR_data[\"smiles\"])\n",
    "measured_compounds.most_common()[0:5]"
   ]
  },
  {
   "cell_type": "markdown",
   "metadata": {},
   "source": [
    "As a simple workaround, we keep the value for which the compound has the best activity value, i.e., highest pIC50 value here."
   ]
  },
  {
   "cell_type": "code",
   "execution_count": null,
   "metadata": {},
   "outputs": [],
   "source": [
    "data = data.groupby([\"UniprotID\",\n",
    "                     \"smiles\"])['activity_value'].max().reset_index()\n",
    "data.head()"
   ]
  },
  {
   "cell_type": "markdown",
   "metadata": {},
   "source": [
    "#### Hit or non-hit"
   ]
  },
  {
   "cell_type": "markdown",
   "metadata": {},
   "source": [
    "Finally, we binarize the pIC50 values to obtain hit or non-hit using a cut-off. We use a pIC50 cut-off of $6.3$, similarly to the [<i>Molecules</i> (2021), <b>26(3)</b>, 629](https://www.mdpi.com/1420-3049/26/3/629)."
   ]
  },
  {
   "cell_type": "code",
   "execution_count": null,
   "metadata": {},
   "outputs": [],
   "source": [
    "cutoff = 6.3"
   ]
  },
  {
   "cell_type": "code",
   "execution_count": null,
   "metadata": {},
   "outputs": [],
   "source": [
    "def binarize_pic50(pic50_value, threshold):\n",
    "    \"\"\"\n",
    "    Binarizes a scalar value given a threshold.\n",
    "\n",
    "    Parameters\n",
    "    ----------\n",
    "    pic50_value : float\n",
    "        The measurement pIC50 value of a kinase-ligand pair.\n",
    "    threshold : float\n",
    "        The cutoff to determine activity.\n",
    "\n",
    "    Returns\n",
    "    -------\n",
    "    1 if the pIC50 value is above the threshold, which indicates activity.\n",
    "    0 otherwise.\n",
    "    \"\"\"\n",
    "    if pic50_value >= threshold:\n",
    "        return 1\n",
    "    else:\n",
    "        return 0"
   ]
  },
  {
   "cell_type": "code",
   "execution_count": null,
   "metadata": {},
   "outputs": [],
   "source": [
    "data[\"activity_binary\"] = data[\"activity_value\"].apply(binarize_pic50,\n",
    "                                                       args=(cutoff, ))"
   ]
  },
  {
   "cell_type": "code",
   "execution_count": null,
   "metadata": {},
   "outputs": [],
   "source": [
    "print(f\"Current shape of data: {data.shape}\")\n",
    "data.head()"
   ]
  },
  {
   "cell_type": "markdown",
   "metadata": {},
   "source": [
    "### Kinase promiscuity"
   ]
  },
  {
   "cell_type": "markdown",
   "metadata": {},
   "source": [
    "We now look at the kinase promiscuity.\n",
    "\n",
    "For a given kinase, three values are computed:\n",
    "\n",
    "1. the total number of measured compounds against the given kinase,\n",
    "2. the number of active compounds against the kinase, and\n",
    "3. the fraction of active compounds, i.e. the ratio of active compounds over the total number of measured compounds."
   ]
  },
  {
   "cell_type": "code",
   "execution_count": null,
   "metadata": {},
   "outputs": [],
   "source": [
    "def kinase_to_activity_numbers(uniprot_id, activity_dataframe):\n",
    "    \"\"\"\n",
    "    Retrieve the three values for a given kinase.\n",
    "\n",
    "    Parameters\n",
    "    ----------\n",
    "    uniprot_id : str\n",
    "        The uniprot id of the kinase of interest, e.g. \"P00533\" for \"EGFR\".\n",
    "\n",
    "    activity_dataframe :  pd.DataFrame\n",
    "        The dataframe with activity values for kinases.\n",
    "\n",
    "    Returns\n",
    "    -------\n",
    "    tuple : (int, int, float)\n",
    "        The three metrics:\n",
    "        1. The total number of measured compounds against the kinase\n",
    "        2. The number of active compounds against the kinase.\n",
    "        3. The fraction of active compounds against the kinase.\n",
    "    \"\"\"\n",
    "    kinase_data = activity_dataframe[activity_dataframe[\"UniprotID\"]\n",
    "                                     == uniprot_id]\n",
    "    total_measured_compounds = len(kinase_data)\n",
    "    active_compounds = len(kinase_data[kinase_data[\"activity_binary\"] == 1])\n",
    "    if total_measured_compounds > 0:\n",
    "        fraction = active_compounds/total_measured_compounds\n",
    "    else:\n",
    "        print(\"No compounds were measured for this kinase.\")\n",
    "        fraction = np.nan\n",
    "    return (total_measured_compounds, active_compounds, fraction)"
   ]
  },
  {
   "cell_type": "markdown",
   "metadata": {},
   "source": [
    "Let's see what information we get for EGFR."
   ]
  },
  {
   "cell_type": "code",
   "execution_count": null,
   "metadata": {},
   "outputs": [],
   "source": [
    "uniprot_id = name_to_uniprot[\"EGFR\"]\n",
    "EGFR_metrics = kinase_to_activity_numbers(uniprot_id, data)\n",
    "print(f\"Total number of measured compounds: \\t\"\n",
    "      f\"{EGFR_metrics[0]} \\n\"\n",
    "      f\"Number of active compounds: \\t\\t\"\n",
    "      f\"{EGFR_metrics[1]} \\n\"\n",
    "      f\"Fraction of active compounds: \\t\\t\"\n",
    "      f\"{EGFR_metrics[2]:.2f} \\n\")"
   ]
  },
  {
   "cell_type": "markdown",
   "metadata": {},
   "source": [
    "Let's create a table from these values for all kinases:"
   ]
  },
  {
   "cell_type": "code",
   "execution_count": null,
   "metadata": {},
   "outputs": [],
   "source": [
    "def from_numbers_to_table(activity_dataframe):\n",
    "    \"\"\"\n",
    "    Create a table with all three values for all kinases.\n",
    "\n",
    "    Parameters\n",
    "    ----------\n",
    "    activity_dataframe :  pd.DataFrame\n",
    "        The dataframe with activity values for kinases.\n",
    "\n",
    "    Returns\n",
    "    -------\n",
    "    promiscuity_table : pd.DataFrame\n",
    "        A dataframe with the kinases as rows and values as columns.\n",
    "    \"\"\"\n",
    "    promiscuity_table = pd.DataFrame(index=name_to_uniprot.keys(),\n",
    "                                     columns=[\"total\", \"actives\", \"fraction\"])\n",
    "    for name, uniprot_id in name_to_uniprot.items():\n",
    "        values = kinase_to_activity_numbers(uniprot_id, activity_dataframe)\n",
    "        promiscuity_table.loc[name] = values\n",
    "    return promiscuity_table"
   ]
  },
  {
   "cell_type": "code",
   "execution_count": null,
   "metadata": {},
   "outputs": [],
   "source": [
    "kinase_promiscuity_table = from_numbers_to_table(data)\n",
    "kinase_promiscuity_table"
   ]
  },
  {
   "cell_type": "markdown",
   "metadata": {},
   "source": [
    "Let's beautify the table:"
   ]
  },
  {
   "cell_type": "code",
   "execution_count": null,
   "metadata": {},
   "outputs": [],
   "source": [
    "kinase_promiscuity_table.style.\\\n",
    "    format(\"{:.3f}\", subset=[\"fraction\"]).\\\n",
    "    background_gradient(cmap='Purples', subset=[\"fraction\"]).\\\n",
    "    highlight_min(color=\"yellow\", axis=None, subset=[\"fraction\"]).\\\n",
    "    highlight_max(color=\"red\", subset=[\"fraction\"])"
   ]
  },
  {
   "cell_type": "markdown",
   "metadata": {},
   "source": [
    "From the table, we notice that CDK2 and BRAF are the least and most promiscuous kinases, respectively."
   ]
  },
  {
   "cell_type": "markdown",
   "metadata": {},
   "source": [
    "## Kinase similarity"
   ]
  },
  {
   "cell_type": "markdown",
   "metadata": {},
   "source": [
    "We now investigate how we can use the similarity measure discussed in the theory to compare kinases. "
   ]
  },
  {
   "cell_type": "code",
   "execution_count": null,
   "metadata": {},
   "outputs": [],
   "source": [
    "def similarity_ligand_profile(uniprot_id1, uniprot_id2, activity_dataframe):\n",
    "    \"\"\"\n",
    "    Compute the similarity between two kinases using ligand profiling.\n",
    "\n",
    "    Parameters\n",
    "    ----------\n",
    "    uniprot_id1 : str\n",
    "        Uniprot id of first kinase of interest.\n",
    "    uniprot_id2 : str\n",
    "        Uniprot id of second kinase of interest.\n",
    "\n",
    "    activity_dataframe :  pd.DataFrame\n",
    "        The dataframe with activity values for kinases.\n",
    "\n",
    "    Returns\n",
    "    -------\n",
    "    fraction : float\n",
    "        The metric for kinase similariy,\n",
    "        i.e. number of active compounds on both kinases\n",
    "        over number of measured compounds on both kinases.\n",
    "    \"\"\"\n",
    "    if uniprot_id1 == uniprot_id2:\n",
    "        (total_compounds,\n",
    "         active_compounds,\n",
    "         fraction) = kinase_to_activity_numbers(uniprot_id1,\n",
    "                                                activity_dataframe)\n",
    "        return fraction\n",
    "    else:\n",
    "        # Data for the two kinases only\n",
    "        reduced_data = activity_dataframe[activity_dataframe\n",
    "                                          [\"UniprotID\"].isin([uniprot_id1,\n",
    "                                                              uniprot_id2])]\n",
    "\n",
    "        # Look at active compounds only\n",
    "        active_entries = reduced_data[reduced_data[\"activity_binary\"] == 1]\n",
    "        # Group by compounds\n",
    "        compounds = active_entries.groupby(\"smiles\").size()\n",
    "        # Look at the number of active compounds measured on both kinases\n",
    "        active_compounds_on_both = compounds[compounds == 2].shape\n",
    "\n",
    "        # Look at all tested compounds\n",
    "        compounds = reduced_data.groupby(\"smiles\").size()\n",
    "        # Look at the number of compounds measured on both kinases\n",
    "        measured_compounds_on_both = compounds[compounds == 2].shape\n",
    "\n",
    "        if measured_compounds_on_both[0] > 0:\n",
    "            fraction = (active_compounds_on_both[0] /\n",
    "                        measured_compounds_on_both[0])\n",
    "        else:\n",
    "            print(f\"No compounds were measured on both kinases, \"\n",
    "                  f\"namely {uniprot_id1} and {uniprot_id2}.\")\n",
    "            fraction = np.nan\n",
    "        return fraction"
   ]
  },
  {
   "cell_type": "markdown",
   "metadata": {},
   "source": [
    "Let's look at the similarity between EGFR and MET:"
   ]
  },
  {
   "cell_type": "code",
   "execution_count": null,
   "metadata": {},
   "outputs": [],
   "source": [
    "uniprot_id1=name_to_uniprot[\"EGFR\"]\n",
    "uniprot_id2=name_to_uniprot[\"MET\"]\n",
    "similarity_EGFR_MET = similarity_ligand_profile(uniprot_id1, uniprot_id2, data)\n",
    "print(f\"Ligand profile similarity between EGFR and MET: \"\n",
    "      f\"{similarity_EGFR_MET:.2f}.\")"
   ]
  },
  {
   "cell_type": "markdown",
   "metadata": {},
   "source": [
    "### Visualize similarity as kinase matrix"
   ]
  },
  {
   "cell_type": "code",
   "execution_count": null,
   "metadata": {},
   "outputs": [],
   "source": [
    "kinase_similarity_matrix = np.zeros((len(name_to_uniprot),\n",
    "                                     len(name_to_uniprot)))\n",
    "for i, kinase_name1 in enumerate(name_to_uniprot):\n",
    "    for j, kinase_name2 in enumerate(name_to_uniprot):\n",
    "        uniprot_id1=name_to_uniprot[kinase_name1]\n",
    "        uniprot_id2=name_to_uniprot[kinase_name2]\n",
    "        kinase_similarity_matrix[i, j] = similarity_ligand_profile(\n",
    "            uniprot_id1,\n",
    "            uniprot_id2,\n",
    "            data)"
   ]
  },
  {
   "cell_type": "code",
   "execution_count": null,
   "metadata": {},
   "outputs": [],
   "source": [
    "kinase_similarity_matrix = pd.DataFrame(data=kinase_similarity_matrix,\n",
    "                                        index=name_to_uniprot.keys(),\n",
    "                                        columns=name_to_uniprot.keys())\n",
    "kinase_similarity_matrix"
   ]
  },
  {
   "cell_type": "code",
   "execution_count": null,
   "metadata": {},
   "outputs": [],
   "source": [
    "# Show matrix with background gradient\n",
    "cm = sns.light_palette(\"green\", as_cmap=True)\n",
    "kinase_similarity_matrix.style.\\\n",
    "    background_gradient(cmap=cm).\\\n",
    "    format(\"{:.3f}\")"
   ]
  },
  {
   "cell_type": "markdown",
   "metadata": {},
   "source": [
    "Note that the diagonal contains the previously discussed promiscuity values.\n",
    "\n",
    "As mentioned above, no compounds were measured on both ErbB2 and p110a and therefore create a `np.nan` entry which can be problematic for algorithmic reason.\n",
    "\n",
    "As a simple workaround, we will fill the NA values with zero."
   ]
  },
  {
   "cell_type": "code",
   "execution_count": null,
   "metadata": {},
   "outputs": [],
   "source": [
    "kinase_similarity_matrix = kinase_similarity_matrix.fillna(0)\n",
    "\n",
    "kinase_similarity_matrix.style.\\\n",
    "    background_gradient(cmap=cm).\\\n",
    "    format(\"{:.3f}\")"
   ]
  },
  {
   "cell_type": "markdown",
   "metadata": {},
   "source": [
    "### Save kinase similarity matrix"
   ]
  },
  {
   "cell_type": "code",
   "execution_count": null,
   "metadata": {},
   "outputs": [],
   "source": [
    "kinase_similarity_matrix.to_csv(DATA /\n",
    "                                \"kinase_similarity_matrix_ligand_profile.csv\")"
   ]
  },
  {
   "cell_type": "markdown",
   "metadata": {},
   "source": [
    "## Kinase distance matrix"
   ]
  },
  {
   "cell_type": "markdown",
   "metadata": {},
   "source": [
    "In order to apply some clustering algorithm to assess the similarity between kinases, it is necessary to start with a distance matrix. In the case of the similarity matrix above, this matrix is not a distance matrix. For example, the diagonal elements are not zero.\n",
    "\n",
    "Since all entries are between $0$ and $1$, the similarity matrix $SM$ can be converted to a distance matrix $DM$ using $$ DM = 1-SM.$$"
   ]
  },
  {
   "cell_type": "code",
   "execution_count": null,
   "metadata": {},
   "outputs": [],
   "source": [
    "print(f\"The values of the similarity matrix lie between: \"\n",
    "      f\"{kinase_similarity_matrix.min().min():.2f}\"\n",
    "      f\" and {kinase_similarity_matrix.max().max():.2f}\")"
   ]
  },
  {
   "cell_type": "code",
   "execution_count": null,
   "metadata": {},
   "outputs": [],
   "source": [
    "kinase_distance_matrix = 1 - kinase_similarity_matrix"
   ]
  },
  {
   "cell_type": "markdown",
   "metadata": {},
   "source": [
    "Finally, we set the diagonal values to $0$ and we obtain the kinase distance matrix:"
   ]
  },
  {
   "cell_type": "code",
   "execution_count": null,
   "metadata": {},
   "outputs": [],
   "source": [
    "np.fill_diagonal(kinase_distance_matrix.values, 0)"
   ]
  },
  {
   "cell_type": "code",
   "execution_count": null,
   "metadata": {},
   "outputs": [],
   "source": [
    "kinase_distance_matrix.style.\\\n",
    "    background_gradient(cmap=cm).\\\n",
    "    format(\"{:.3f}\")"
   ]
  },
  {
   "cell_type": "markdown",
   "metadata": {},
   "source": [
    "### Save kinase distance matrix"
   ]
  },
  {
   "cell_type": "code",
   "execution_count": null,
   "metadata": {},
   "outputs": [],
   "source": [
    "kinase_distance_matrix.to_csv(DATA /\n",
    "                              \"kinase_distance_matrix_ligand_profile.csv\")"
   ]
  },
  {
   "cell_type": "markdown",
   "metadata": {},
   "source": [
    "## Discussion\n",
    "\n",
    "In this talktorial, we investigate how activity data can be used as a measure of similarity between kinases. The fraction of compounds tested as actives over the total number of measured compounds is a way of accessing the similarity. Moreover, using the same rationale, the promiscuity of a kinase can quantified using the ratio of active compounds over measured compounds.\n",
    "\n",
    "The kinase distance matrix above will be reloaded in Talktorial T028, where we compare kinase similarities from different perspectives, including the ligand profile perspective we have talked about in this talktorial."
   ]
  },
  {
   "cell_type": "markdown",
   "metadata": {},
   "source": [
    "## Quiz\n",
    "\n",
    "1. Is there be an optimal way to deal with multiple kinase-ligand measurements?\n",
    "2. Can promiscuity be fairly compared between two kinases if one has been tested against many compounds whereas the other only against very few? \n",
    "3. Using the similarity described in this talktorial, what does it mean that two kinases have a similarity of $0$, as is the case for p110a and LCK?"
   ]
  },
  {
   "cell_type": "code",
   "execution_count": null,
   "metadata": {},
   "outputs": [],
   "source": []
  }
 ],
 "metadata": {
  "kernelspec": {
   "display_name": "Python 3",
   "language": "python",
   "name": "python3"
  },
  "language_info": {
   "codemirror_mode": {
    "name": "ipython",
    "version": 3
   },
   "file_extension": ".py",
   "mimetype": "text/x-python",
   "name": "python",
   "nbconvert_exporter": "python",
   "pygments_lexer": "ipython3",
   "version": "3.8.5"
  },
  "toc-autonumbering": true,
  "widgets": {
   "application/vnd.jupyter.widget-state+json": {
    "state": {},
    "version_major": 2,
    "version_minor": 0
   }
  }
 },
 "nbformat": 4,
 "nbformat_minor": 4
}
