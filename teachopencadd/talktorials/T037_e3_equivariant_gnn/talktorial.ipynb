{
 "cells": [
  {
   "cell_type": "markdown",
   "metadata": {},
   "source": [
    "<div class=\"alert alert-block alert-info\">\n",
    "\n",
    "<b>Thank you for contributing to TeachOpenCADD!</b>\n",
    "\n",
    "</div>"
   ]
  },
  {
   "cell_type": "markdown",
   "metadata": {},
   "source": [
    "<div class=\"alert alert-block alert-info\">\n",
    "\n",
    "<b>Set up your PR</b>: Please check out our <a href=\"https://github.com/volkamerlab/teachopencadd/issues/41\">issue</a> on how to set up a PR for new talktorials, including standard checks and TODOs.\n",
    "\n",
    "</div>"
   ]
  },
  {
   "cell_type": "markdown",
   "metadata": {},
   "source": [
    "# T037 · An introduction to $\\text{E}(3)$-equivariant graph neural networks\n",
    "\n",
    "**Note:** This talktorial is a part of TeachOpenCADD, a platform that aims to teach domain-specific skills and to provide pipeline templates as starting points for research projects.\n",
    "\n",
    "Authors:\n",
    "\n",
    "- Joschka Groß, 2022, Chair for Modelling and Simulation, Saarland University,"
   ]
  },
  {
   "cell_type": "markdown",
   "metadata": {},
   "source": [
    "## Aim of this talktorial\n",
    "\n",
    "This talktorial is supposed to serve as an introduction to molecular machine learning on point clouds, i.e., molecular graphs that are embedded into euclidean space (see **Talktorial 033**). You will learn why euclidean equivariance and invariance are important properties of neural networks (NNs) that take point clouds as input and learn how to implement and train such NNs. In addition to discussing them in theory, this notebook also aims to demonstrate the shortcomings of plain graph neural networks (GNNs) when working with point clouds practically."
   ]
  },
  {
   "cell_type": "markdown",
   "metadata": {},
   "source": [
    "### Contents in *Theory*\n",
    "\n",
    "* Why 3D coordinates?\n",
    "* Representing molecules as point clouds, mathematically\n",
    "* Equivariance and invariance in euclidean space and why we care\n",
    "* How to construct $\\text{E}(n)$-invariant and equivariant models\n",
    "* The QM9 dataset"
   ]
  },
  {
   "cell_type": "markdown",
   "metadata": {},
   "source": [
    "### Contents in *Practical*\n",
    "\n",
    "* Visualization of point clouds\n",
    "* Set up the QM9 dataset\n",
    "* Demo: Plain GNNs are not E(3)-invariant\n",
    "* EGNN Model\n",
    "* Demo: Our EGNN is E(3)-invariant\n",
    "* Traingin"
   ]
  },
  {
   "cell_type": "markdown",
   "metadata": {},
   "source": [
    "<div class=\"alert alert-block alert-info\">\n",
    "\n",
    "<b>Sync TOC with section titles</b>: These points should refer to the headlines of your <i>Practical</i> section.\n",
    "\n",
    "</div>"
   ]
  },
  {
   "cell_type": "markdown",
   "metadata": {},
   "source": [
    "### References\n",
    "\n",
    "* Paper \n",
    "* Tutorial links\n",
    "* Other useful resources\n",
    "\n",
    "*We suggest the following citation style:*\n",
    "* Keyword describing resource: <i>Journal</i> (year), <b>volume</b>, pages (link to resource) \n",
    "\n",
    "*Example:*\n",
    "* ChEMBL web services: [<i>Nucleic Acids Res.</i> (2015), <b>43</b>, 612-620](https://academic.oup.com/nar/article/43/W1/W612/2467881) "
   ]
  },
  {
   "cell_type": "markdown",
   "metadata": {},
   "source": [
    "## Theory"
   ]
  },
  {
   "cell_type": "markdown",
   "metadata": {},
   "source": [
    "<div class=\"alert alert-block alert-info\">\n",
    "    \n",
    "<b>Figures</b>: Place images in the <code>images/</code> folder and include them using Markdown <code>![Figure title](images/some_figure.jpg)</code>. Add a figure caption in the format shown in the example.\n",
    "\n",
    "</div>"
   ]
  },
  {
   "cell_type": "markdown",
   "metadata": {},
   "source": [
    "### Why 3D coordinates?\n",
    "\n",
    "* Some properties are more easily derived when 3D coordinates are known.\n",
    "* Sometimes the task is to predict properties that are coupled to euclidean space, e.g. atom positions or forces that apply to atoms.\n",
    "* We do not have to settle for one or the other. In practice, it is common to keep structural information (bonds) and add the 3D coordinates on top of the molecule graph representation and have a model which uses *both*.\n",
    "\n",
    "For instance, one application that may require the use of 3D coordinates is protein-ligand docking (see **Talktorial 000**). Work from 2022 by (TODO cite) uses E(3) equivariant graph neural networks as the backbone for a generative model that learns to predict potential ligand docking positions (3D coordinates for the ligand atoms) when additionally given protein structures with 3D information as input."
   ]
  },
  {
   "cell_type": "markdown",
   "metadata": {},
   "source": [
    "### Representing molecules as point clouds, mathematically\n",
    "Here, we will just focus on atoms and their 3D positions and ignore structural (bond) information for the sake of simplicity. Our mathematical representations of molecules are thus point clouds, i.e., tuples $(X, Z)$ where $Z \\in \\mathbb{R}^{n \\times d}$ is the atom feature matrix and $X \\in \\mathbb{R}^{n \\times 3}$ captures the atom 3D-xyz coordinates (see **Talktorial GERRIT**). We will assume that the coordinates are derived from some conformer (TODO: refer to some talktorial?)."
   ]
  },
  {
   "cell_type": "markdown",
   "metadata": {},
   "source": [
    "### Equivariance and invariance in euclidean space and why we care\n",
    "\n",
    "In **Talktorial 034** you were taught why equi- and/or invariance w.r.t. to node permutations is a desirable model property when representing molecules by their molecular graphs. When embedding molecular graphs into euclidean space, we now also need to worry about euclidean symmetry groups. These are groups of transformations $g: \\mathbb{R}^n \\to \\mathbb{R}^n$ that preserve distance, i.e., translations, rotations, reflections, or combinations thereof. For the euclidean space $\\mathbb{R}^n$ with $n$ spatial dimensions, one typically distinguishes between\n",
    "* the euclidean group $\\text{E}(n)$, which consists of *all* distance-preserving transformations, and\n",
    "* the special euclidean group $\\text{SE}(n)$, which consists only of translations and rotations.\n",
    "  \n",
    "Say $\\theta$ is a model that learns atom embeddings $H = \\theta(X, Z) \\in \\mathbb{R}^{n \\times q}$ where $q$ is the number of embedding dimensions. We call $\\theta$ $\\text{E}(3)$-*invariant*, if for all $g \\in \\text{E}(3)$\n",
    "$$\n",
    "\\theta(X, g(Z)) = \\theta(X, Z),\n",
    "$$\n",
    "where $g$ is applied row-wise to Z.\n",
    "\n",
    "If we consider a model that makes predictions about objects which are coupled to the euclidean space, e.g., future atom positions $X' = \\theta(X, Z) \\in \\mathbb{R}^{n \\times 3}$, we can define $\\text{E}(3)$-*equivariance* as\n",
    "$$\n",
    "\\theta(X, g(Z)) = g(\\theta(X, Z)),\n",
    "$$\n",
    "for all $g \\in \\text{E}(3)$ applied in row-wise fashion. Note that this definition can easily be extended to arbitrary euclidean features (velocities, electromagnetic forces, ...).\n",
    "\n",
    "So, why do we care about these properties?\n",
    "\n",
    "Let's assume our goal was to train a model that predicts the docking position of a ligand when given a fixed protein structure, also with 3D coordinates. Would you trust a model that predicted different relative positions for the ligand atoms when the protein was simply rotated by 180 degrees along the z-axis? If your answer is no, then you should consider using a model that is $\\text{E}(3)$-equivariant.\n",
    "In addition to being a \"natural\" choice given such considerations, euclidean equivariance empirically also increases the sample complexity (efficiency) of training and improves the model's ability to generalize to unseen data (TODO cite?)."
   ]
  },
  {
   "cell_type": "markdown",
   "metadata": {},
   "source": [
    "### How to construct $\\text{E}(n)$-invariant and equivariant models\n",
    "\n",
    "Constructing such models is simple if you know that all $g \\in \\text{E}(3)$ are *distance-preserving*. We will not give a fully-fledged proof (if you are interested see e.g. Hoogeboom et. al.), but it shouldn't be too surprising that a model which *only considers relative distances* for its internal computations is guaranteed to be $E(3)$ invariant or equivariant respectively depending on whether the output is coupled to the euclidean space. We can thus define a *message passing network* $\\theta(Z, X)$ with $l=1,\\ldots,L$ layers where\n",
    "\n",
    "\\begin{align*}\n",
    "    h_{i}^0 &= \\psi_0(Z_i) && (1)\\\\\n",
    "    d_{ij} &= ||X_i - X_j||^2 && (2) \\\\\n",
    "    m_{ij}^{l} &= \\phi_{l}(h_i^l, h_j^l, d_{ij})  ~~\\text{for}~l=0,\\ldots,L-1 && (3)\\\\\n",
    "    h_{i}^{l+1} &= \\psi_l(h_{i}^l, \\sum_{j \\neq i} m_{ij}^l) ~~\\text{for}~l=0,\\ldots,L-1 && (4)\n",
    "\\end{align*}\n",
    "\n",
    "where $\\psi_0$ is a multi-layer perceptron (MLP) (see **Talktorial 000**) that computes the inital node embeddings, the $\\phi_l$ MLPs construct messages and $\\psi_l$ MLPs take care of combining previous embeddings and aggregated messages into new embeddings. The final node embeddings $H = (h_1^L \\ldots h_n^L)^t$ computed by this scheme are $E(3)$-invariant.\n",
    "\n",
    "As we will only predict properties that are not directly linked to the euclidean space in the practical part, this network suffices for our purposes. If your goal is to predict e.g. atom positions, you will need slighly more sophisticated equations to ensure that they are $E(3)$-equivariant, but they follow the same principle of only using distances in their computations. If you want to read up on this you can take a look at\n",
    "* CITE EGNN\n",
    "* CITE SE(3) Transformer\n",
    "* CITE TORCH-MD Net equivariant transformer"
   ]
  },
  {
   "cell_type": "markdown",
   "metadata": {},
   "source": [
    "### The QM9 dataset\n",
    "\n",
    "The QM9 dataset is part of MoleculeNet and consists of ~130k small organic molecules with up to 9 heavy atoms. It also includes targets for various geometric, energetic, electronic and thermodynamic properties. Crucially, it also includes 3D coordinates, which makes it a suitable for this talktorial."
   ]
  },
  {
   "cell_type": "markdown",
   "metadata": {},
   "source": [
    "## Practical"
   ]
  },
  {
   "cell_type": "markdown",
   "metadata": {},
   "source": [
    "For the practical part we will be working with a version of QM9 that is already included in PyTorch Geometric, as implementing the dataset from scratch would go beyond the scope of this talktorial. We will just inspect the data and briefly discuss how point clouds are represented as tensors. Then we will demonstrate how one could use plain GNNs to work with point clouds and why this approach would yield models that are not $\\text{E}(3)$ invariant/equivariant. Finally, you will learn how to implement, train and evaluate equivariant GNNs."
   ]
  },
  {
   "cell_type": "code",
   "execution_count": 2,
   "metadata": {},
   "outputs": [],
   "source": [
    "import math\n",
    "from itertools import chain, product\n",
    "from functools import partial\n",
    "from pathlib import Path\n",
    "from typing import Any, Optional, Callable, Tuple, Dict\n",
    "\n",
    "import numpy as np\n",
    "\n",
    "from tqdm import tqdm\n",
    "\n",
    "import torch\n",
    "import torch.nn as nn\n",
    "from torch import Tensor, LongTensor\n",
    "\n",
    "import torch_geometric\n",
    "from torch_geometric.transforms import BaseTransform, Compose\n",
    "from torch_geometric.datasets import QM9\n",
    "from torch_geometric.data import Data\n",
    "from torch_geometric.loader import DataLoader\n",
    "from torch_geometric.data import Dataset\n",
    "from torch_geometric.nn.aggr import SumAggregation\n",
    "import torch_geometric.nn as geom_nn\n",
    "\n",
    "from torch_scatter import scatter\n",
    "\n",
    "import matplotlib as mpl\n",
    "import matplotlib.pyplot as plt\n"
   ]
  },
  {
   "cell_type": "markdown",
   "metadata": {},
   "source": [
    "<div class=\"alert alert-block alert-info\">\n",
    "\n",
    "<b>Relative paths</b>: Please define all paths relative to this talktorial's path by using the global variable <code>HERE</code>.\n",
    "If your talktorial has input/output data, please define the global <code>DATA</code>, which points to this talktorial's data folder (check out the default folder structure of each talktorial).\n",
    "    \n",
    "</div>"
   ]
  },
  {
   "cell_type": "code",
   "execution_count": 53,
   "metadata": {},
   "outputs": [],
   "source": [
    "# Set path to this notebook\n",
    "HERE = Path(_dh[-1])\n",
    "DATA = HERE / \"data\""
   ]
  },
  {
   "cell_type": "markdown",
   "metadata": {},
   "source": [
    "### Visualization\n",
    "In order to visualize model inputs and embeddings we will project the 3D-xyz point clouds to the z-plane because 2D point clouds are easier to visualize. The following functions will be used later on to visualize properties of plain GNNs and E(3) equivariant GNNs."
   ]
  },
  {
   "cell_type": "code",
   "execution_count": 3,
   "metadata": {},
   "outputs": [
    {
     "data": {
      "image/png": "[encoded data removed]",
      "text/plain": [
       "<Figure size 800x800 with 8 Axes>"
      ]
     },
     "metadata": {},
     "output_type": "display_data"
    }
   ],
   "source": [
    "def to_perceived_brightness(rgb: np.ndarray) -> np.ndarray:\n",
    "    \"\"\"Convert rgb colors to perceived brighness values in [0,1]\n",
    "\n",
    "    Parameters\n",
    "    ----------\n",
    "    rgb : np.ndarray\n",
    "        _description_\n",
    "\n",
    "    Returns\n",
    "    -------\n",
    "    np.ndarray\n",
    "        _description_\n",
    "    \"\"\"\n",
    "    r, g, b = rgb\n",
    "    return 0.1 * r + 0.8 * g + 0.1 * b\n",
    "\n",
    "def plot_point_cloud_2d(\n",
    "    color: np.ndarray,\n",
    "    pos: np.ndarray,\n",
    "    cmap: mpl.colors.Colormap = mpl.colormaps[\"magma\"],\n",
    "    ax: Optional[mpl.axis.Axis] = None,\n",
    "    point_size: float = 250.0,\n",
    "    label_axes: bool = False,\n",
    "    normalize_pos: bool = True,\n",
    "    annotate_points: bool = True,\n",
    "):\n",
    "    \"\"\"_summary_\n",
    "\n",
    "    Parameters\n",
    "    ----------\n",
    "    color : np.ndarray\n",
    "        _description_\n",
    "    pos : np.ndarray\n",
    "        _description_\n",
    "    cmap : mpl.colors.Colormap, optional\n",
    "        _description_, by default mpl.colormaps[\"magma\"]\n",
    "    ax : Optional[mpl.axis.Axis], optional\n",
    "        _description_, by default None\n",
    "    point_size : float, optional\n",
    "        _description_, by default 250.0\n",
    "    label_axes : bool, optional\n",
    "        _description_, by default False\n",
    "    normalize_pos : bool, optional\n",
    "        _description_, by default True\n",
    "    annotate_points : bool, optional\n",
    "        _description_, by default True\n",
    "    \"\"\"\n",
    "    if ax is None:\n",
    "        fig, ax = plt.subplots()\n",
    "    # normalize coordinates for better comparability\n",
    "    # when comparing point clouds\n",
    "    if normalize_pos:\n",
    "        pos = (pos - pos.mean(axis=1, keepdims=True)) / pos.std(axis=1, keepdims=True)\n",
    "        ax.set_xlim(-4, 4)\n",
    "        ax.set_ylim(-4, 4)\n",
    "    x, y = pos\n",
    "    ax.set_xticklabels([])\n",
    "    ax.set_yticklabels([])\n",
    "    if label_axes:\n",
    "        ax.set_xlabel(\"$x$ coordinate\")\n",
    "        ax.set_ylabel(\"$y$ coordinate\")\n",
    "    sc = ax.scatter(x, y, c=color, cmap=cmap, s=point_size)\n",
    "    plt.colorbar(sc)\n",
    "    if annotate_points:\n",
    "        _colors = cmap(color)\n",
    "        rgb = np.transpose(_colors)[:3, :]\n",
    "        brightness = to_perceived_brightness(rgb)\n",
    "        for i, (xi, yi, li) in enumerate(zip(x, y, brightness)):\n",
    "            text = f\"${i}$\"\n",
    "            num_digits = len(text) - 2\n",
    "            offset = (-4 -2*num_digits, -4)\n",
    "            ax.annotate(\n",
    "                text=\"$%d$\" % i,\n",
    "                xy=(xi, yi),\n",
    "                xytext=offset,\n",
    "                textcoords=\"offset pixels\",\n",
    "                # annotation color based on perceived color brightness\n",
    "                # for readability\n",
    "                color=[1 - li] * 3\n",
    "            )\n",
    "            \n",
    "\n",
    "# testing\n",
    "fig, axes = plt.subplots(2, 2, sharex=True, sharey=True, figsize=(8,8))\n",
    "for ax in chain(*axes):\n",
    "    pos = np.random.rand(2, 3)\n",
    "    color = np.random.rand(3)\n",
    "    ax.set_title(\"A random 2D point cloud\")\n",
    "    plot_point_cloud_2d(color, pos, ax=ax)\n",
    "    "
   ]
  },
  {
   "cell_type": "code",
   "execution_count": 4,
   "metadata": {},
   "outputs": [],
   "source": [
    "def plot_model_input(data: Data, ax: mpl.axis.Axis):\n",
    "    \"\"\"_summary_\n",
    "\n",
    "    Parameters\n",
    "    ----------\n",
    "    data : Data\n",
    "        _description_\n",
    "    ax : mpl.axis.Axis\n",
    "        _description_\n",
    "    \"\"\"\n",
    "    x, pos = data.x, data.pos \n",
    "    # use atomic number as color\n",
    "    x = x[:, 0].flatten().detach().numpy()\n",
    "    pos = pos.T.detach().numpy()\n",
    "    plot_point_cloud_2d(x, pos, ax=ax, normalize_pos=False)\n",
    "\n",
    "def plot_model_embedding(data: Data, model: Callable[[Data], Tensor], ax: mpl.axis.Axis):\n",
    "    \"\"\"_summary_\n",
    "\n",
    "    Parameters\n",
    "    ----------\n",
    "    data : Data\n",
    "        _description_\n",
    "    model : Callable[[Data], Tensor]\n",
    "        _description_\n",
    "    ax : mpl.axis.Axis\n",
    "        _description_\n",
    "    \"\"\"\n",
    "    x = model(data)\n",
    "    pos = data.pos\n",
    "    x = x.flatten().detach().numpy()\n",
    "    pos = pos.T.detach().numpy()\n",
    "    plot_point_cloud_2d(x, pos, ax=ax, normalize_pos=False)"
   ]
  },
  {
   "cell_type": "markdown",
   "metadata": {},
   "source": [
    "### Set up QM9 dataset"
   ]
  },
  {
   "cell_type": "markdown",
   "metadata": {},
   "source": [
    "We use the QM9 dataset already included in pytorch geometric. For the sake of this tutorial we will restrict ourselves to small molecules with at most 8 heavy atoms. Because we want to ignore structural information and treat molecules as point clouds, where every atom interacts with every other atom, we extend the date with additional adjacency information that represents a complete graph without self loops.\n",
    "\n",
    "We do this *once* when pre-processing the data."
   ]
  },
  {
   "cell_type": "code",
   "execution_count": 31,
   "metadata": {},
   "outputs": [
    {
     "name": "stdout",
     "output_type": "stream",
     "text": [
      "Num. examples in QM9 restricted to molecules with at most 8 heavy atoms: 21800\n"
     ]
    }
   ],
   "source": [
    "def num_heavy_atoms(qm9_data: Data) -> int:\n",
    "    \"\"\"Count the number of heavy atoms in a torch geometric\n",
    "    Data object where atomic number is the *zeroth* atom (node)\n",
    "    feature in `Data.x`\n",
    "\n",
    "    Parameters\n",
    "    ----------\n",
    "    qm9_data : Data\n",
    "        A pytorch geometric qm9 data object representing a small molecule\n",
    "\n",
    "    Returns\n",
    "    -------\n",
    "    int\n",
    "        The number of heavy atoms in the molecule.\n",
    "    \"\"\"\n",
    "    # every atom with atomic number other than 1 is heavy\n",
    "    # the torch geometric qm9 dataset stores\n",
    "    # the atomic number in the first (zeroth)\n",
    "    # node-feature channel\n",
    "    return (qm9_data.x[:, 0] != 1).sum()\n",
    "\n",
    "\n",
    "def complete_edge_index(n: int) -> LongTensor:\n",
    "    # filter removes self loops\n",
    "    edges = list(filter(lambda e: e[0] != e[1], product(range(n), range(n))))\n",
    "    return torch.tensor(edges, dtype=torch.long).T\n",
    "\n",
    "\n",
    "def add_complete_graph_edge_index(data: Data) -> Data:\n",
    "    data.complete_edge_index = complete_edge_index(data.x.size(0))\n",
    "    return data\n",
    "\n",
    "\n",
    "#\n",
    "dataset = QM9(\n",
    "    \"data\",\n",
    "    # filter out molecules with more than 8 heavy atoms\n",
    "    pre_filter=lambda data: num_heavy_atoms(data) < 9,\n",
    "    # implement point cloud adjacency as a complete graph\n",
    "    pre_transform=add_complete_graph_edge_index,\n",
    ")\n",
    "\n",
    "print(\n",
    "    f\"Num. examples in QM9 restricted to molecules with at most 8 heavy atoms: {len(dataset)}\"\n",
    ")\n"
   ]
  },
  {
   "cell_type": "markdown",
   "metadata": {},
   "source": [
    "The QM9 dataset includes 19 different targets but we will restrict ourselves to the [electronic spatial extent](TODO), which, simply put, describes the volume of a molecule. In order to improve training performance we will standardize the target."
   ]
  },
  {
   "cell_type": "code",
   "execution_count": 32,
   "metadata": {},
   "outputs": [],
   "source": [
    "def select_and_scale_target(\n",
    "    qm9_data: Data,\n",
    "    target_idx: int = 5,\n",
    "    target_mean: float = 0,\n",
    "    target_std: float = 1,\n",
    ") -> Data:\n",
    "    \"\"\" TODO\n",
    "\n",
    "    Parameters\n",
    "    ----------\n",
    "    qm9_data : Data\n",
    "        _description_\n",
    "\n",
    "    Returns\n",
    "    -------\n",
    "    Data\n",
    "        _description_\n",
    "    \"\"\"\n",
    "    qm9_data.y = (qm9_data.y[:, target_idx].view(-1,1) - target_mean) / target_std\n",
    "    return qm9_data"
   ]
  },
  {
   "cell_type": "code",
   "execution_count": 33,
   "metadata": {},
   "outputs": [],
   "source": [
    "target_idx = 5 # electronic spatial extent has idx 5 in torch geometric\n",
    "y = dataset.data.y[:, target_idx]\n",
    "\n",
    "# store this for later, s.t. we can rescale validation mae by the original standard dev.\n",
    "mean, std = y.mean(0).item(), y.std(0).item()\n",
    "\n",
    "dataset = QM9(\n",
    "    \"data\",\n",
    "    pre_filter=lambda data: num_heavy_atoms(data) < 9,\n",
    "    pre_transform=add_complete_graph_edge_index,\n",
    "    # select a target and make sure it is scaled to have mean 0 and std. 1\n",
    "    transform=partial(select_and_scale_target, target_idx=target_idx, target_mean=mean, target_std=std),\n",
    ")\n"
   ]
  },
  {
   "cell_type": "markdown",
   "metadata": {},
   "source": [
    "Now we set up a random training, validation and test splits on which we will train and evaluate our model later on."
   ]
  },
  {
   "cell_type": "code",
   "execution_count": 47,
   "metadata": {},
   "outputs": [],
   "source": [
    "num_examples = len(dataset)\n",
    "\n",
    "# percentages of the data used for train/val/test data\n",
    "train_ratio = 0.8\n",
    "val_ratio = 0.1\n",
    "\n",
    "# random train/val/test split\n",
    "train_split = np.arange(int(train_ratio * num_examples))\n",
    "val_split = np.arange(int(val_ratio * num_examples)) + train_split.shape[0]\n",
    "test_split = np.arange(train_split.shape[0] + val_split.shape[0], num_examples)\n",
    "shuffled_idxs = np.random.permutation(num_examples)\n",
    "train_split = shuffled_idxs[train_split]\n",
    "val_split = shuffled_idxs[val_split]\n",
    "test_split = shuffled_idxs[test_split]\n",
    "\n",
    "assert train_split.shape[0] + val_split.shape[0] + test_split.shape[0] == num_examples"
   ]
  },
  {
   "cell_type": "markdown",
   "metadata": {},
   "source": [
    "Note: PyTorch Geometric stores node (atom) coordinates in a separate `Data` attribute named `pos`."
   ]
  },
  {
   "cell_type": "code",
   "execution_count": 35,
   "metadata": {},
   "outputs": [
    {
     "data": {
      "text/plain": [
       "(5, 3)"
      ]
     },
     "execution_count": 35,
     "metadata": {},
     "output_type": "execute_result"
    }
   ],
   "source": [
    "num_atoms, dimensions = dataset[0].pos.size()\n",
    "num_atoms, dimensions"
   ]
  },
  {
   "cell_type": "markdown",
   "metadata": {},
   "source": [
    "### Demo: Plain GNNs are not E(3) invariant\n",
    "A naive way to incorporate 3D coordinates into a GNN for molecular graphs would be to interpret them as atom-level features. \n",
    "It is easy to implement a transformation which does exactly this."
   ]
  },
  {
   "cell_type": "code",
   "execution_count": 36,
   "metadata": {},
   "outputs": [],
   "source": [
    "def add_coordinates_as_features(data: Data, num_spatial_dims_used: int = 3) -> Data:\n",
    "    \"\"\"Add separately stored atom coordinates\n",
    "    to the node (atom) features of a molecular graph data object.\n",
    "\n",
    "    Parameters\n",
    "    ----------\n",
    "    data : Data\n",
    "        A pytorch geometric qm9 data object representing a small molecule\n",
    "        \n",
    "    num_spatial_dims_used : int\n",
    "        Use the first `num_spatial_dims_used` as the coordinates.\n",
    "        Helps with visualization, where we look at 2D point clouds.\n",
    "\n",
    "    Returns\n",
    "    -------\n",
    "    Data\n",
    "        Modified data object where the coordinates have been added as atom features.\n",
    "    \"\"\"\n",
    "    new_data = data.clone()\n",
    "    new_data.x = torch.cat((data.x, data.pos[:, :num_spatial_dims_used]), dim=-1)\n",
    "    new_data.pos = data.pos[:, :num_spatial_dims_used]\n",
    "    return new_data"
   ]
  },
  {
   "cell_type": "markdown",
   "metadata": {},
   "source": [
    "However, this approach is problematic because the corresponding atom embeddings of a regular GNN (from which we would also derive our final predictions) will not be $\\text{E}(3)$-invariant. This is easily demonstrated by visualizing the behavior of a plain GCN. To ease the visualization we restrict ourselves to 2D coordinates by first projecting the 3D-xyz coordinates to the z-plane."
   ]
  },
  {
   "cell_type": "code",
   "execution_count": 37,
   "metadata": {},
   "outputs": [
    {
     "data": {
      "image/png": "[encoded data removed]",
      "text/plain": [
       "<Figure size 800x800 with 8 Axes>"
      ]
     },
     "metadata": {},
     "output_type": "display_data"
    }
   ],
   "source": [
    "# some datapoint from qm9\n",
    "sample_data = dataset[20160].clone()\n",
    "\n",
    "# apply an E(2) transformation, in this case rotation by 180 degrees\n",
    "rotated_sample_data = sample_data.clone()\n",
    "rotated_sample_data.pos = - rotated_sample_data.pos\n",
    "\n",
    "# prepare data for GCN\n",
    "sample_data = add_coordinates_as_features(sample_data, num_spatial_dims_used=2)\n",
    "rotated_sample_data = add_coordinates_as_features(rotated_sample_data, num_spatial_dims_used=2)\n",
    "\n",
    "# initialize a GCN with 2 hidden layers that outputs 1-dimensional node embeddings\n",
    "model = geom_nn.models.GCN(sample_data.x.size(1), 4, 2, 1)\n",
    "model_fwd = lambda data: model(data.x, data.edge_index)\n",
    "\n",
    "# make a plot that demonstrates non-equivariance\n",
    "fig, axes = plt.subplots(2, 2, figsize=(8,8), sharex=True, sharey=True)\n",
    "\n",
    "axes[0][0].set_title(\"Sample input $(X, Z)$\")\n",
    "plot_model_input(sample_data, axes[0][0])\n",
    "\n",
    "axes[0][1].set_title(\"Rotated input $(X, g(Z))$\")\n",
    "plot_model_input(rotated_sample_data, axes[0][1])\n",
    "\n",
    "axes[1][0].set_title(\"Model output for $(X, Z)$\")\n",
    "plot_model_embedding(sample_data, model_fwd, axes[1][0])\n",
    "\n",
    "axes[1][1].set_title(\"Model output for $(X, g(Z))$\")\n",
    "plot_model_embedding(rotated_sample_data, model_fwd, axes[1][1])\n",
    "fig.tight_layout()"
   ]
  },
  {
   "cell_type": "markdown",
   "metadata": {},
   "source": [
    "We can observe that rotating the molecule *significantly* alters the atom embeddings obtained from the GCN model."
   ]
  },
  {
   "cell_type": "markdown",
   "metadata": {},
   "source": [
    "<a id='egnn_model'></a>\n",
    "### EGNN Model"
   ]
  },
  {
   "cell_type": "markdown",
   "metadata": {},
   "source": [
    "We now implement an $\\text{E}(3)$-invariant GNN based on the principles outlined in the [theory section](...)."
   ]
  },
  {
   "cell_type": "code",
   "execution_count": 38,
   "metadata": {},
   "outputs": [],
   "source": [
    "# TODO thought this would be more complicated\n",
    "# maybe can remove this function and do it inplace\n",
    "def aggregate_messages(\n",
    "    messages: Tensor, target_index: LongTensor, aggr: str = \"sum\"\n",
    ") -> Tensor:\n",
    "    return scatter(messages, target_index, dim=0, reduce=aggr)\n",
    "\n",
    "\n",
    "class EquivariantMPLayer(nn.Module):\n",
    "    def __init__(\n",
    "        self,\n",
    "        in_channels: int,\n",
    "        hidden_channels: int,\n",
    "        act: nn.Module,\n",
    "        dropout: bool = True,\n",
    "        drop_p: float = 0.2,\n",
    "    ) -> None:\n",
    "        super().__init__()\n",
    "        self.act = act\n",
    "        self.fn_dropout = nn.Dropout(drop_p) if dropout else nn.Identity()\n",
    "        self.residual_proj = nn.Linear(in_channels, hidden_channels, bias=False)\n",
    "\n",
    "        # message input: source node, target node, distance\n",
    "        message_input_size = 2 * in_channels + 1\n",
    "        # theory, equation (3) \"phi_l\"\n",
    "        self.message_mlp = nn.Sequential(\n",
    "            nn.Linear(message_input_size, hidden_channels),\n",
    "            act,\n",
    "            nn.Linear(hidden_channels, hidden_channels),\n",
    "            act,\n",
    "        )\n",
    "        # theory, equation (4), \"psi_l\"\n",
    "        self.node_update_mlp = nn.Sequential(\n",
    "            nn.Linear(in_channels + hidden_channels, hidden_channels),\n",
    "            act,\n",
    "            nn.Linear(hidden_channels, hidden_channels),\n",
    "        )\n",
    "\n",
    "    def node_message_function(\n",
    "        self,\n",
    "        source_node_embed: Tensor,  # j\n",
    "        target_node_embed: Tensor,  # i\n",
    "        node_dist: Tensor,\n",
    "    ):\n",
    "        inp = torch.cat((source_node_embed, target_node_embed, node_dist), dim=-1)\n",
    "        return self.message_mlp(inp)\n",
    "\n",
    "    def compute_distances(self, node_pos: Tensor, edge_index: LongTensor) -> Tensor:\n",
    "        row, col = edge_index\n",
    "        xi, xj = node_pos[row], node_pos[col]\n",
    "        # relative, squared distance\n",
    "        # theory, equation (2) ||X_i - X_j||^2\n",
    "        rsdist = (xi - xj).pow(2).sum(1, keepdim=True)\n",
    "        return rsdist\n",
    "\n",
    "    def forward(\n",
    "        self,\n",
    "        node_embed: Tensor,\n",
    "        node_pos: Tensor,\n",
    "        edge_index: Tensor,\n",
    "    ) -> Tensor:\n",
    "        row, col = edge_index\n",
    "        dist = self.compute_distances(node_pos, edge_index)\n",
    "        _node_embed = self.fn_dropout(node_embed)\n",
    "\n",
    "        # compute messages \"m_ij\" from theory, equation (3)\n",
    "        node_messages = self.node_message_function(\n",
    "            _node_embed[row], _node_embed[col], dist\n",
    "        )\n",
    "\n",
    "        # aggregate messages for one node\n",
    "        aggr_node_messages = aggregate_messages(node_messages, col, aggr=\"sum\")\n",
    "\n",
    "        # compute new node embeddings, i.e. theory, equation (4)\n",
    "        new_node_embed = self.residual_proj(node_embed) + self.node_update_mlp(\n",
    "            torch.cat((node_embed, aggr_node_messages), dim=-1)\n",
    "        )\n",
    "\n",
    "        return new_node_embed\n",
    "\n",
    "\n",
    "class EquivariantGNN(nn.Module):\n",
    "    def __init__(\n",
    "        self,\n",
    "        num_node_features: int,\n",
    "        hidden_channels: int,\n",
    "        output_channels: Optional[int] = None,\n",
    "        target_size: int = 1,\n",
    "        num_mp_layers: int = 2,\n",
    "        dropout: bool = True,\n",
    "        p_drop: float = 0.2,\n",
    "    ) -> None:\n",
    "        super().__init__()\n",
    "        self.fn_dropout = nn.Dropout(p_drop) if dropout else nn.Identity()\n",
    "        if output_channels is None:\n",
    "            output_channels = hidden_channels\n",
    "\n",
    "        # non-lienar activation func.\n",
    "        # usually configurable, here we just use relu for simplicity\n",
    "        self.act = nn.ReLU()\n",
    "\n",
    "        # theory, equation (1) \"psi_0\"\n",
    "        self.initial_mlp = nn.Linear(num_node_features, hidden_channels)\n",
    "        channels = [hidden_channels] * (num_mp_layers) + [output_channels]\n",
    "        self.message_passing_layers = nn.ModuleList()\n",
    "        for d_in, d_out in zip(channels[:-1], channels[1:]):\n",
    "            layer = EquivariantMPLayer(\n",
    "                d_in, d_out, self.act, dropout=dropout, drop_p=p_drop\n",
    "            )\n",
    "            self.message_passing_layers.append(layer)\n",
    "\n",
    "        self.aggregation = geom_nn.aggr.MeanAggregation()\n",
    "        self.f_predict = nn.Sequential(\n",
    "            self.fn_dropout,\n",
    "            nn.Linear(output_channels, output_channels),\n",
    "            self.act,\n",
    "            nn.Linear(hidden_channels, target_size),\n",
    "        )\n",
    "\n",
    "    def encode(self, data: Data):\n",
    "        # theory, equation (1)\n",
    "        node_embed = self.initial_mlp(data.x)\n",
    "        # message passing\n",
    "        for mp_layer in self.message_passing_layers:\n",
    "            # NOTE we here use the complete edge index defined by the transform earlier on\n",
    "            node_embed = mp_layer(node_embed, data.pos, data.complete_edge_index)\n",
    "        return node_embed\n",
    "\n",
    "    def predict(self, node_embed, batch):\n",
    "        aggr = self.aggregation(node_embed, batch)\n",
    "        return self.f_predict(aggr)\n",
    "\n",
    "    def forward(self, data: Data) -> torch.Tensor:\n",
    "        node_embed = self.encode(data)\n",
    "        pred = self.predict(node_embed, data.batch)\n",
    "        return pred\n"
   ]
  },
  {
   "cell_type": "markdown",
   "metadata": {},
   "source": [
    "We can collect evidence that this model is indeed $\\text{E}(n)$ equivariant by repeating the experiment we performed earlier with the plain GCN model."
   ]
  },
  {
   "cell_type": "code",
   "execution_count": 39,
   "metadata": {},
   "outputs": [],
   "source": [
    "model = EquivariantGNN(\n",
    "    num_node_features=dataset[0].x.size(1),\n",
    "    hidden_channels=16,\n",
    "    output_channels=1,\n",
    "    dropout=False\n",
    ")"
   ]
  },
  {
   "cell_type": "code",
   "execution_count": 40,
   "metadata": {},
   "outputs": [
    {
     "data": {
      "image/png": "[encoded data removed]",
      "text/plain": [
       "<Figure size 800x800 with 8 Axes>"
      ]
     },
     "metadata": {},
     "output_type": "display_data"
    }
   ],
   "source": [
    "# idx = np.random.randint(len(dataset))\n",
    "idx = 20160\n",
    "data = dataset[idx].clone()\n",
    "\n",
    "# project xyz coordinates onto z-plane\n",
    "data.pos = data.pos[:, :2]\n",
    "\n",
    "# rotate clockwise by 180 degrees\n",
    "rotated_data = data.clone()\n",
    "rotated_data.pos = -data.pos\n",
    "\n",
    "\n",
    "fig, ax = plt.subplots(2, 2, figsize=(8,8))\n",
    "\n",
    "ax[0][0].set_title(\"Sample input $(X, Z)$\")\n",
    "plot_model_input(data, ax[0][0])\n",
    "\n",
    "ax[0][1].set_title(\"Rotated input $(X, g(Z))$\")\n",
    "plot_model_input(rotated_data, ax[0][1])\n",
    "\n",
    "ax[1][0].set_title(\"Model output for $(X, Z)$\")\n",
    "plot_model_embedding(data, model.encode, ax[1][0])\n",
    "\n",
    "ax[1][1].set_title(\"Sample output for $(X, g(Z))$\")\n",
    "plot_model_embedding(rotated_data, model.encode, ax[1][1])\n",
    "fig.tight_layout()\n"
   ]
  },
  {
   "cell_type": "markdown",
   "metadata": {},
   "source": [
    "### EGNN Model training"
   ]
  },
  {
   "cell_type": "code",
   "execution_count": 41,
   "metadata": {},
   "outputs": [],
   "source": [
    "# we will be using mean absolute error\n",
    "# for validation and testing\n",
    "def total_absolute_error(pred: Tensor, target: Tensor, batch_dim: int = 0) -> Tensor:\n",
    "    return (pred - target).abs().sum(batch_dim)"
   ]
  },
  {
   "cell_type": "code",
   "execution_count": 54,
   "metadata": {},
   "outputs": [],
   "source": [
    "def training_step(\n",
    "    model: nn.Module,\n",
    "    data_batch: Data,\n",
    "    optim: torch.optim.Optimizer,\n",
    "    criterion: Callable[[Tensor, Tensor], Tensor],\n",
    ") -> float:\n",
    "    optim.zero_grad()\n",
    "    pred = model.forward(data_batch)\n",
    "    target = data_batch.y\n",
    "    loss = criterion(pred, target)\n",
    "    loss.backward()\n",
    "    optim.step()\n",
    "    return loss.detach().item()\n",
    "\n",
    "\n",
    "@torch.no_grad()\n",
    "def validation_step(\n",
    "    model: nn.Module,\n",
    "    data_batch: Data,\n",
    "    std: float,\n",
    ") -> float:\n",
    "    pred = model.forward(data_batch)\n",
    "    target = data_batch.y\n",
    "    validation_measure = total_absolute_error(pred * std, target * std)\n",
    "    return validation_measure.item()\n",
    "\n",
    "def train(\n",
    "    dataset: Dataset,\n",
    "    target_idx: int,\n",
    "    target_std: float,\n",
    "    train_split: np.ndarray,\n",
    "    val_split: np.ndarray,\n",
    "    model: Optional[nn.Module] = None,\n",
    "    num_epochs: int = 30,\n",
    "    lr: float = 3e-4,\n",
    "    batch_size: int = 32,\n",
    "    model_path: Path = DATA.joinpath(\"trained_model.pth\")\n",
    ") -> Dict[str, Any]:\n",
    "    # initialize model if not given\n",
    "    # TODO this is ugly. Remove\n",
    "    # or expose model kwargs in function signature\n",
    "    if model is None:\n",
    "        num_node_features = dataset[0].x.size(1)\n",
    "        model = EquivariantGNN(\n",
    "            num_node_features=num_node_features,\n",
    "            hidden_channels=50,\n",
    "            target_size=1,\n",
    "            num_mp_layers=2,\n",
    "            dropout=True,\n",
    "            p_drop=0.25\n",
    "        )\n",
    "\n",
    "    # create data loaders\n",
    "    train_loader = DataLoader(dataset[train_split], batch_size=batch_size, shuffle=True)\n",
    "    val_loader = DataLoader(dataset[val_split], batch_size=batch_size)\n",
    "\n",
    "    for i, data in enumerate(dataset):\n",
    "        assert data.y.size(1) == 1, i\n",
    "\n",
    "    # setup optimizer and loss\n",
    "    optim = torch.optim.Adam(model.parameters(), lr)\n",
    "    loss_fn = nn.MSELoss()\n",
    "    \n",
    "    # keep track of the epoch with best validation mae\n",
    "    # st we can save the \"best\" model weights\n",
    "    best_val_mae = float(\"inf\")\n",
    "    \n",
    "    # storage for plotting the loss curves later on\n",
    "    train_losses = np.empty(num_epochs)\n",
    "    val_maes = np.empty(num_epochs)\n",
    "\n",
    "    for i_epoch in range(1, num_epochs + 1):\n",
    "        print(f\"Epoch {i_epoch} / {num_epochs}\")\n",
    "\n",
    "        # run training epoch\n",
    "        model.train() # important: enables dropout layers\n",
    "        pbar = tqdm(train_loader)\n",
    "        total_train_loss = 0\n",
    "        total_num_examples = 0\n",
    "        for data in pbar:\n",
    "            train_loss = training_step(model, data, optim, loss_fn)\n",
    "            total_train_loss += train_loss * data.num_graphs\n",
    "            total_num_examples += data.num_graphs\n",
    "            desc = f\"   Training loss: {total_train_loss / total_num_examples:.3f}\"\n",
    "            pbar.set_description(desc)\n",
    "        \n",
    "        train_desc_len = len(desc)\n",
    "        train_losses[i_epoch - 1] = total_train_loss / total_num_examples\n",
    "\n",
    "        # run validation epoch\n",
    "        model.eval() # important: disables dropout layers\n",
    "        pbar = tqdm(val_loader)\n",
    "        desc = \"Validating...\"\n",
    "        desc = \" \" * (train_desc_len - len(desc)) + desc\n",
    "        pbar.set_description(desc)\n",
    "        val_mae = 0\n",
    "        for data in pbar:\n",
    "            val_mae += validation_step(model, data, target_std)\n",
    "\n",
    "        val_mae = val_mae / len(val_split)\n",
    "        print(f\"   Validation MAE: {val_mae:.3f}\")\n",
    "        if val_mae < best_val_mae:\n",
    "            best_val_mae = val_mae\n",
    "            torch.save(model.state_dict(), model_path)\n",
    "        \n",
    "        val_maes[i_epoch - 1] = val_mae\n",
    "        \n",
    "    return {\n",
    "        \"model\": model,\n",
    "        \"path_to_best_model\": model_path,\n",
    "        \"train_loss\": train_losses,\n",
    "        \"val_mae\": val_maes,\n",
    "    }\n"
   ]
  },
  {
   "cell_type": "code",
   "execution_count": 55,
   "metadata": {},
   "outputs": [
    {
     "name": "stdout",
     "output_type": "stream",
     "text": [
      "Epoch 1 / 25\n"
     ]
    },
    {
     "name": "stderr",
     "output_type": "stream",
     "text": [
      "   Training loss: 0.218: 100%|██████████| 545/545 [00:17<00:00, 31.66it/s]\n",
      "          Validating...: 100%|██████████| 69/69 [00:01<00:00, 65.11it/s]\n"
     ]
    },
    {
     "name": "stdout",
     "output_type": "stream",
     "text": [
      "   Validation MAE: 28.857\n",
      "Epoch 2 / 25\n"
     ]
    },
    {
     "name": "stderr",
     "output_type": "stream",
     "text": [
      "   Training loss: 0.049: 100%|██████████| 545/545 [00:17<00:00, 31.39it/s]\n",
      "          Validating...: 100%|██████████| 69/69 [00:01<00:00, 67.59it/s]\n"
     ]
    },
    {
     "name": "stdout",
     "output_type": "stream",
     "text": [
      "   Validation MAE: 34.014\n",
      "Epoch 3 / 25\n"
     ]
    },
    {
     "name": "stderr",
     "output_type": "stream",
     "text": [
      "   Training loss: 0.030: 100%|██████████| 545/545 [00:17<00:00, 31.19it/s]\n",
      "          Validating...: 100%|██████████| 69/69 [00:01<00:00, 67.11it/s]\n"
     ]
    },
    {
     "name": "stdout",
     "output_type": "stream",
     "text": [
      "   Validation MAE: 23.841\n",
      "Epoch 4 / 25\n"
     ]
    },
    {
     "name": "stderr",
     "output_type": "stream",
     "text": [
      "   Training loss: 0.023: 100%|██████████| 545/545 [00:18<00:00, 30.12it/s]\n",
      "          Validating...: 100%|██████████| 69/69 [00:01<00:00, 61.38it/s]\n"
     ]
    },
    {
     "name": "stdout",
     "output_type": "stream",
     "text": [
      "   Validation MAE: 19.316\n",
      "Epoch 5 / 25\n"
     ]
    },
    {
     "name": "stderr",
     "output_type": "stream",
     "text": [
      "   Training loss: 0.020: 100%|██████████| 545/545 [00:17<00:00, 30.35it/s]\n",
      "          Validating...: 100%|██████████| 69/69 [00:01<00:00, 63.87it/s]\n"
     ]
    },
    {
     "name": "stdout",
     "output_type": "stream",
     "text": [
      "   Validation MAE: 16.546\n",
      "Epoch 6 / 25\n"
     ]
    },
    {
     "name": "stderr",
     "output_type": "stream",
     "text": [
      "   Training loss: 0.016: 100%|██████████| 545/545 [00:18<00:00, 29.56it/s]\n",
      "          Validating...: 100%|██████████| 69/69 [00:01<00:00, 57.62it/s]\n"
     ]
    },
    {
     "name": "stdout",
     "output_type": "stream",
     "text": [
      "   Validation MAE: 27.762\n",
      "Epoch 7 / 25\n"
     ]
    },
    {
     "name": "stderr",
     "output_type": "stream",
     "text": [
      "   Training loss: 0.015: 100%|██████████| 545/545 [00:17<00:00, 31.47it/s]\n",
      "          Validating...: 100%|██████████| 69/69 [00:01<00:00, 59.57it/s]\n"
     ]
    },
    {
     "name": "stdout",
     "output_type": "stream",
     "text": [
      "   Validation MAE: 33.478\n",
      "Epoch 8 / 25\n"
     ]
    },
    {
     "name": "stderr",
     "output_type": "stream",
     "text": [
      "   Training loss: 0.015: 100%|██████████| 545/545 [00:18<00:00, 29.21it/s]\n",
      "          Validating...: 100%|██████████| 69/69 [00:01<00:00, 53.70it/s]\n"
     ]
    },
    {
     "name": "stdout",
     "output_type": "stream",
     "text": [
      "   Validation MAE: 14.410\n",
      "Epoch 9 / 25\n"
     ]
    },
    {
     "name": "stderr",
     "output_type": "stream",
     "text": [
      "   Training loss: 0.014: 100%|██████████| 545/545 [00:18<00:00, 29.49it/s]\n",
      "          Validating...: 100%|██████████| 69/69 [00:01<00:00, 67.44it/s]\n"
     ]
    },
    {
     "name": "stdout",
     "output_type": "stream",
     "text": [
      "   Validation MAE: 23.766\n",
      "Epoch 10 / 25\n"
     ]
    },
    {
     "name": "stderr",
     "output_type": "stream",
     "text": [
      "   Training loss: 0.013: 100%|██████████| 545/545 [00:18<00:00, 30.10it/s]\n",
      "          Validating...: 100%|██████████| 69/69 [00:01<00:00, 64.02it/s]\n"
     ]
    },
    {
     "name": "stdout",
     "output_type": "stream",
     "text": [
      "   Validation MAE: 21.856\n",
      "Epoch 11 / 25\n"
     ]
    },
    {
     "name": "stderr",
     "output_type": "stream",
     "text": [
      "   Training loss: 0.012: 100%|██████████| 545/545 [00:17<00:00, 31.32it/s]\n",
      "          Validating...: 100%|██████████| 69/69 [00:01<00:00, 64.99it/s]\n"
     ]
    },
    {
     "name": "stdout",
     "output_type": "stream",
     "text": [
      "   Validation MAE: 17.299\n",
      "Epoch 12 / 25\n"
     ]
    },
    {
     "name": "stderr",
     "output_type": "stream",
     "text": [
      "   Training loss: 0.011: 100%|██████████| 545/545 [00:17<00:00, 30.60it/s]\n",
      "          Validating...: 100%|██████████| 69/69 [00:01<00:00, 54.66it/s]\n"
     ]
    },
    {
     "name": "stdout",
     "output_type": "stream",
     "text": [
      "   Validation MAE: 34.979\n",
      "Epoch 13 / 25\n"
     ]
    },
    {
     "name": "stderr",
     "output_type": "stream",
     "text": [
      "   Training loss: 0.011: 100%|██████████| 545/545 [00:18<00:00, 29.41it/s]\n",
      "          Validating...: 100%|██████████| 69/69 [00:01<00:00, 67.94it/s]\n"
     ]
    },
    {
     "name": "stdout",
     "output_type": "stream",
     "text": [
      "   Validation MAE: 30.133\n",
      "Epoch 14 / 25\n"
     ]
    },
    {
     "name": "stderr",
     "output_type": "stream",
     "text": [
      "   Training loss: 0.010: 100%|██████████| 545/545 [00:17<00:00, 31.48it/s]\n",
      "          Validating...: 100%|██████████| 69/69 [00:01<00:00, 64.69it/s]\n"
     ]
    },
    {
     "name": "stdout",
     "output_type": "stream",
     "text": [
      "   Validation MAE: 20.311\n",
      "Epoch 15 / 25\n"
     ]
    },
    {
     "name": "stderr",
     "output_type": "stream",
     "text": [
      "   Training loss: 0.009: 100%|██████████| 545/545 [00:18<00:00, 29.56it/s]\n",
      "          Validating...: 100%|██████████| 69/69 [00:01<00:00, 58.41it/s]\n"
     ]
    },
    {
     "name": "stdout",
     "output_type": "stream",
     "text": [
      "   Validation MAE: 38.268\n",
      "Epoch 16 / 25\n"
     ]
    },
    {
     "name": "stderr",
     "output_type": "stream",
     "text": [
      "   Training loss: 0.009: 100%|██████████| 545/545 [00:18<00:00, 29.61it/s]\n",
      "          Validating...: 100%|██████████| 69/69 [00:01<00:00, 66.12it/s]\n"
     ]
    },
    {
     "name": "stdout",
     "output_type": "stream",
     "text": [
      "   Validation MAE: 39.023\n",
      "Epoch 17 / 25\n"
     ]
    },
    {
     "name": "stderr",
     "output_type": "stream",
     "text": [
      "   Training loss: 0.009: 100%|██████████| 545/545 [00:18<00:00, 29.49it/s]\n",
      "          Validating...: 100%|██████████| 69/69 [00:01<00:00, 66.57it/s]\n"
     ]
    },
    {
     "name": "stdout",
     "output_type": "stream",
     "text": [
      "   Validation MAE: 38.255\n",
      "Epoch 18 / 25\n"
     ]
    },
    {
     "name": "stderr",
     "output_type": "stream",
     "text": [
      "   Training loss: 0.008: 100%|██████████| 545/545 [00:17<00:00, 30.85it/s]\n",
      "          Validating...: 100%|██████████| 69/69 [00:01<00:00, 63.64it/s]\n"
     ]
    },
    {
     "name": "stdout",
     "output_type": "stream",
     "text": [
      "   Validation MAE: 32.682\n",
      "Epoch 19 / 25\n"
     ]
    },
    {
     "name": "stderr",
     "output_type": "stream",
     "text": [
      "   Training loss: 0.008: 100%|██████████| 545/545 [00:17<00:00, 30.94it/s]\n",
      "          Validating...: 100%|██████████| 69/69 [00:01<00:00, 65.93it/s]\n"
     ]
    },
    {
     "name": "stdout",
     "output_type": "stream",
     "text": [
      "   Validation MAE: 32.559\n",
      "Epoch 20 / 25\n"
     ]
    },
    {
     "name": "stderr",
     "output_type": "stream",
     "text": [
      "   Training loss: 0.008: 100%|██████████| 545/545 [00:17<00:00, 30.62it/s]\n",
      "          Validating...: 100%|██████████| 69/69 [00:01<00:00, 61.67it/s]\n"
     ]
    },
    {
     "name": "stdout",
     "output_type": "stream",
     "text": [
      "   Validation MAE: 26.567\n",
      "Epoch 21 / 25\n"
     ]
    },
    {
     "name": "stderr",
     "output_type": "stream",
     "text": [
      "   Training loss: 0.007: 100%|██████████| 545/545 [00:18<00:00, 30.13it/s]\n",
      "          Validating...: 100%|██████████| 69/69 [00:01<00:00, 68.66it/s]\n"
     ]
    },
    {
     "name": "stdout",
     "output_type": "stream",
     "text": [
      "   Validation MAE: 30.799\n",
      "Epoch 22 / 25\n"
     ]
    },
    {
     "name": "stderr",
     "output_type": "stream",
     "text": [
      "   Training loss: 0.007: 100%|██████████| 545/545 [00:17<00:00, 30.84it/s]\n",
      "          Validating...: 100%|██████████| 69/69 [00:01<00:00, 67.62it/s]\n"
     ]
    },
    {
     "name": "stdout",
     "output_type": "stream",
     "text": [
      "   Validation MAE: 45.995\n",
      "Epoch 23 / 25\n"
     ]
    },
    {
     "name": "stderr",
     "output_type": "stream",
     "text": [
      "   Training loss: 0.007: 100%|██████████| 545/545 [00:17<00:00, 30.84it/s]\n",
      "          Validating...: 100%|██████████| 69/69 [00:01<00:00, 67.24it/s]\n"
     ]
    },
    {
     "name": "stdout",
     "output_type": "stream",
     "text": [
      "   Validation MAE: 27.331\n",
      "Epoch 24 / 25\n"
     ]
    },
    {
     "name": "stderr",
     "output_type": "stream",
     "text": [
      "   Training loss: 0.006: 100%|██████████| 545/545 [00:17<00:00, 31.07it/s]\n",
      "          Validating...: 100%|██████████| 69/69 [00:01<00:00, 65.61it/s]\n"
     ]
    },
    {
     "name": "stdout",
     "output_type": "stream",
     "text": [
      "   Validation MAE: 30.023\n",
      "Epoch 25 / 25\n"
     ]
    },
    {
     "name": "stderr",
     "output_type": "stream",
     "text": [
      "   Training loss: 0.005: 100%|██████████| 545/545 [00:17<00:00, 30.86it/s]\n",
      "          Validating...: 100%|██████████| 69/69 [00:00<00:00, 69.72it/s]"
     ]
    },
    {
     "name": "stdout",
     "output_type": "stream",
     "text": [
      "   Validation MAE: 24.497\n"
     ]
    },
    {
     "name": "stderr",
     "output_type": "stream",
     "text": [
      "\n"
     ]
    }
   ],
   "source": [
    "# use the data split and target defined earlier\n",
    "egnn_train_result = train(\n",
    "    dataset,\n",
    "    target_idx,\n",
    "    std,\n",
    "    train_split,\n",
    "    val_split,\n",
    "    num_epochs=25,\n",
    "    lr=3e-4,\n",
    "    batch_size=32,\n",
    "    model_path=DATA.joinpath(\"trained_egnn.pth\")\n",
    ")\n"
   ]
  },
  {
   "cell_type": "code",
   "execution_count": 56,
   "metadata": {},
   "outputs": [
    {
     "data": {
      "text/plain": [
       "<matplotlib.legend.Legend at 0x1360fa700>"
      ]
     },
     "execution_count": 56,
     "metadata": {},
     "output_type": "execute_result"
    },
    {
     "data": {
      "image/png": "[encoded data removed]",
      "text/plain": [
       "<Figure size 640x480 with 2 Axes>"
      ]
     },
     "metadata": {},
     "output_type": "display_data"
    }
   ],
   "source": [
    "\n",
    "fig, ax = plt.subplots()\n",
    "\n",
    "ax.plot(egnn_train_result[\"train_loss\"], \"o--\", label=\"Train. loss\")\n",
    "ax.set_ylabel(\"Train. MAE loss (standardized target)\")\n",
    "ax.set_xlabel(\"Epoch\")\n",
    "#ax.set_yscale(\"log\")\n",
    "\n",
    "ax2 = ax.twinx()\n",
    "ax2.set_ylabel(\"Val. MAE\")\n",
    "ax2.plot(egnn_train_result[\"val_mae\"], \"o--\", label=\"Val. MAE\", color=\"red\")\n",
    "fig.legend()"
   ]
  },
  {
   "cell_type": "code",
   "execution_count": 49,
   "metadata": {},
   "outputs": [
    {
     "data": {
      "text/plain": [
       "13.218847091044855"
      ]
     },
     "execution_count": 49,
     "metadata": {},
     "output_type": "execute_result"
    }
   ],
   "source": [
    "@torch.no_grad()\n",
    "def test(model: nn.Module, test_split: np.ndarray, dataset: Dataset, target_std: float):\n",
    "    test_loader = DataLoader(dataset[test_split], batch_size=16)\n",
    "    test_mae = 0\n",
    "    for data in test_loader:\n",
    "        pred = model(data)\n",
    "        test_mae += total_absolute_error(pred * target_std, data.y * target_std).item()\n",
    "    \n",
    "    test_mae = test_mae / len(test_split)\n",
    "    \n",
    "    return test_mae"
   ]
  },
  {
   "cell_type": "code",
   "execution_count": null,
   "metadata": {},
   "outputs": [],
   "source": [
    "trained_model = egnn_train_result[\"model\"]\n",
    "\n",
    "# load the best model weights according to val. MAE\n",
    "trained_model.load_state_dict(torch.load(Path(\"data\", \"trained_model.pth\")))\n",
    "\n",
    "egnn_test_mae = test(trained_model, test_split, dataset, std)\n",
    "egnn_test_mae"
   ]
  },
  {
   "cell_type": "code",
   "execution_count": 51,
   "metadata": {},
   "outputs": [
    {
     "name": "stdout",
     "output_type": "stream",
     "text": [
      "Epoch 1 / 30\n"
     ]
    },
    {
     "name": "stderr",
     "output_type": "stream",
     "text": [
      "   Training loss: 0.551: 100%|██████████| 545/545 [00:06<00:00, 79.37it/s]\n",
      "          Validating...: 100%|██████████| 69/69 [00:00<00:00, 121.04it/s]\n"
     ]
    },
    {
     "name": "stdout",
     "output_type": "stream",
     "text": [
      "   Validation MAE: 115.960\n",
      "Epoch 2 / 30\n"
     ]
    },
    {
     "name": "stderr",
     "output_type": "stream",
     "text": [
      "   Training loss: 0.468: 100%|██████████| 545/545 [00:06<00:00, 79.40it/s]\n",
      "          Validating...: 100%|██████████| 69/69 [00:00<00:00, 125.10it/s]\n"
     ]
    },
    {
     "name": "stdout",
     "output_type": "stream",
     "text": [
      "   Validation MAE: 104.578\n",
      "Epoch 3 / 30\n"
     ]
    },
    {
     "name": "stderr",
     "output_type": "stream",
     "text": [
      "   Training loss: 0.440: 100%|██████████| 545/545 [00:07<00:00, 77.23it/s]\n",
      "          Validating...: 100%|██████████| 69/69 [00:00<00:00, 111.60it/s]\n"
     ]
    },
    {
     "name": "stdout",
     "output_type": "stream",
     "text": [
      "   Validation MAE: 99.621\n",
      "Epoch 4 / 30\n"
     ]
    },
    {
     "name": "stderr",
     "output_type": "stream",
     "text": [
      "   Training loss: 0.413: 100%|██████████| 545/545 [00:06<00:00, 79.02it/s]\n",
      "          Validating...: 100%|██████████| 69/69 [00:00<00:00, 120.44it/s]\n"
     ]
    },
    {
     "name": "stdout",
     "output_type": "stream",
     "text": [
      "   Validation MAE: 96.720\n",
      "Epoch 5 / 30\n"
     ]
    },
    {
     "name": "stderr",
     "output_type": "stream",
     "text": [
      "   Training loss: 0.395: 100%|██████████| 545/545 [00:06<00:00, 79.81it/s]\n",
      "          Validating...: 100%|██████████| 69/69 [00:00<00:00, 110.10it/s]\n"
     ]
    },
    {
     "name": "stdout",
     "output_type": "stream",
     "text": [
      "   Validation MAE: 93.213\n",
      "Epoch 6 / 30\n"
     ]
    },
    {
     "name": "stderr",
     "output_type": "stream",
     "text": [
      "   Training loss: 0.378: 100%|██████████| 545/545 [00:07<00:00, 75.58it/s]\n",
      "          Validating...: 100%|██████████| 69/69 [00:00<00:00, 101.72it/s]\n"
     ]
    },
    {
     "name": "stdout",
     "output_type": "stream",
     "text": [
      "   Validation MAE: 85.978\n",
      "Epoch 7 / 30\n"
     ]
    },
    {
     "name": "stderr",
     "output_type": "stream",
     "text": [
      "   Training loss: 0.357: 100%|██████████| 545/545 [00:07<00:00, 76.27it/s]\n",
      "          Validating...: 100%|██████████| 69/69 [00:00<00:00, 97.49it/s]\n"
     ]
    },
    {
     "name": "stdout",
     "output_type": "stream",
     "text": [
      "   Validation MAE: 85.544\n",
      "Epoch 8 / 30\n"
     ]
    },
    {
     "name": "stderr",
     "output_type": "stream",
     "text": [
      "   Training loss: 0.345: 100%|██████████| 545/545 [00:07<00:00, 72.42it/s]\n",
      "          Validating...: 100%|██████████| 69/69 [00:00<00:00, 104.71it/s]\n"
     ]
    },
    {
     "name": "stdout",
     "output_type": "stream",
     "text": [
      "   Validation MAE: 79.685\n",
      "Epoch 9 / 30\n"
     ]
    },
    {
     "name": "stderr",
     "output_type": "stream",
     "text": [
      "   Training loss: 0.331: 100%|██████████| 545/545 [00:07<00:00, 74.17it/s]\n",
      "          Validating...: 100%|██████████| 69/69 [00:00<00:00, 106.81it/s]\n"
     ]
    },
    {
     "name": "stdout",
     "output_type": "stream",
     "text": [
      "   Validation MAE: 77.208\n",
      "Epoch 10 / 30\n"
     ]
    },
    {
     "name": "stderr",
     "output_type": "stream",
     "text": [
      "   Training loss: 0.324: 100%|██████████| 545/545 [00:07<00:00, 73.42it/s]\n",
      "          Validating...: 100%|██████████| 69/69 [00:00<00:00, 109.28it/s]\n"
     ]
    },
    {
     "name": "stdout",
     "output_type": "stream",
     "text": [
      "   Validation MAE: 86.883\n",
      "Epoch 11 / 30\n"
     ]
    },
    {
     "name": "stderr",
     "output_type": "stream",
     "text": [
      "   Training loss: 0.314: 100%|██████████| 545/545 [00:07<00:00, 71.68it/s]\n",
      "          Validating...: 100%|██████████| 69/69 [00:00<00:00, 96.44it/s] \n"
     ]
    },
    {
     "name": "stdout",
     "output_type": "stream",
     "text": [
      "   Validation MAE: 76.972\n",
      "Epoch 12 / 30\n"
     ]
    },
    {
     "name": "stderr",
     "output_type": "stream",
     "text": [
      "   Training loss: 0.301: 100%|██████████| 545/545 [00:07<00:00, 72.39it/s]\n",
      "          Validating...: 100%|██████████| 69/69 [00:00<00:00, 111.38it/s]\n"
     ]
    },
    {
     "name": "stdout",
     "output_type": "stream",
     "text": [
      "   Validation MAE: 68.561\n",
      "Epoch 13 / 30\n"
     ]
    },
    {
     "name": "stderr",
     "output_type": "stream",
     "text": [
      "   Training loss: 0.290: 100%|██████████| 545/545 [00:07<00:00, 74.77it/s]\n",
      "          Validating...: 100%|██████████| 69/69 [00:00<00:00, 108.16it/s]\n"
     ]
    },
    {
     "name": "stdout",
     "output_type": "stream",
     "text": [
      "   Validation MAE: 66.483\n",
      "Epoch 14 / 30\n"
     ]
    },
    {
     "name": "stderr",
     "output_type": "stream",
     "text": [
      "   Training loss: 0.281: 100%|██████████| 545/545 [00:07<00:00, 76.79it/s]\n",
      "          Validating...: 100%|██████████| 69/69 [00:00<00:00, 105.02it/s]\n"
     ]
    },
    {
     "name": "stdout",
     "output_type": "stream",
     "text": [
      "   Validation MAE: 65.921\n",
      "Epoch 15 / 30\n"
     ]
    },
    {
     "name": "stderr",
     "output_type": "stream",
     "text": [
      "   Training loss: 0.271: 100%|██████████| 545/545 [00:07<00:00, 73.87it/s]\n",
      "          Validating...: 100%|██████████| 69/69 [00:00<00:00, 107.84it/s]\n"
     ]
    },
    {
     "name": "stdout",
     "output_type": "stream",
     "text": [
      "   Validation MAE: 71.034\n",
      "Epoch 16 / 30\n"
     ]
    },
    {
     "name": "stderr",
     "output_type": "stream",
     "text": [
      "   Training loss: 0.268: 100%|██████████| 545/545 [00:06<00:00, 77.95it/s]\n",
      "          Validating...: 100%|██████████| 69/69 [00:00<00:00, 109.41it/s]\n"
     ]
    },
    {
     "name": "stdout",
     "output_type": "stream",
     "text": [
      "   Validation MAE: 61.033\n",
      "Epoch 17 / 30\n"
     ]
    },
    {
     "name": "stderr",
     "output_type": "stream",
     "text": [
      "   Training loss: 0.261: 100%|██████████| 545/545 [00:07<00:00, 76.53it/s]\n",
      "          Validating...: 100%|██████████| 69/69 [00:00<00:00, 115.13it/s]\n"
     ]
    },
    {
     "name": "stdout",
     "output_type": "stream",
     "text": [
      "   Validation MAE: 61.827\n",
      "Epoch 18 / 30\n"
     ]
    },
    {
     "name": "stderr",
     "output_type": "stream",
     "text": [
      "   Training loss: 0.253: 100%|██████████| 545/545 [00:07<00:00, 76.97it/s]\n",
      "          Validating...: 100%|██████████| 69/69 [00:00<00:00, 107.16it/s]\n"
     ]
    },
    {
     "name": "stdout",
     "output_type": "stream",
     "text": [
      "   Validation MAE: 61.696\n",
      "Epoch 19 / 30\n"
     ]
    },
    {
     "name": "stderr",
     "output_type": "stream",
     "text": [
      "   Training loss: 0.243: 100%|██████████| 545/545 [00:07<00:00, 74.95it/s]\n",
      "          Validating...: 100%|██████████| 69/69 [00:00<00:00, 113.27it/s]\n"
     ]
    },
    {
     "name": "stdout",
     "output_type": "stream",
     "text": [
      "   Validation MAE: 56.639\n",
      "Epoch 20 / 30\n"
     ]
    },
    {
     "name": "stderr",
     "output_type": "stream",
     "text": [
      "   Training loss: 0.241: 100%|██████████| 545/545 [00:06<00:00, 78.31it/s]\n",
      "          Validating...: 100%|██████████| 69/69 [00:00<00:00, 112.46it/s]\n"
     ]
    },
    {
     "name": "stdout",
     "output_type": "stream",
     "text": [
      "   Validation MAE: 57.084\n",
      "Epoch 21 / 30\n"
     ]
    },
    {
     "name": "stderr",
     "output_type": "stream",
     "text": [
      "   Training loss: 0.241: 100%|██████████| 545/545 [00:07<00:00, 76.62it/s]\n",
      "          Validating...: 100%|██████████| 69/69 [00:00<00:00, 107.27it/s]\n"
     ]
    },
    {
     "name": "stdout",
     "output_type": "stream",
     "text": [
      "   Validation MAE: 55.267\n",
      "Epoch 22 / 30\n"
     ]
    },
    {
     "name": "stderr",
     "output_type": "stream",
     "text": [
      "   Training loss: 0.236: 100%|██████████| 545/545 [00:07<00:00, 76.59it/s]\n",
      "          Validating...: 100%|██████████| 69/69 [00:00<00:00, 100.87it/s]\n"
     ]
    },
    {
     "name": "stdout",
     "output_type": "stream",
     "text": [
      "   Validation MAE: 61.292\n",
      "Epoch 23 / 30\n"
     ]
    },
    {
     "name": "stderr",
     "output_type": "stream",
     "text": [
      "   Training loss: 0.234: 100%|██████████| 545/545 [00:07<00:00, 73.19it/s]\n",
      "          Validating...: 100%|██████████| 69/69 [00:00<00:00, 101.41it/s]\n"
     ]
    },
    {
     "name": "stdout",
     "output_type": "stream",
     "text": [
      "   Validation MAE: 54.336\n",
      "Epoch 24 / 30\n"
     ]
    },
    {
     "name": "stderr",
     "output_type": "stream",
     "text": [
      "   Training loss: 0.228: 100%|██████████| 545/545 [00:07<00:00, 77.35it/s]\n",
      "          Validating...: 100%|██████████| 69/69 [00:00<00:00, 115.99it/s]\n"
     ]
    },
    {
     "name": "stdout",
     "output_type": "stream",
     "text": [
      "   Validation MAE: 52.544\n",
      "Epoch 25 / 30\n"
     ]
    },
    {
     "name": "stderr",
     "output_type": "stream",
     "text": [
      "   Training loss: 0.229: 100%|██████████| 545/545 [00:06<00:00, 78.50it/s]\n",
      "          Validating...: 100%|██████████| 69/69 [00:00<00:00, 115.51it/s]\n"
     ]
    },
    {
     "name": "stdout",
     "output_type": "stream",
     "text": [
      "   Validation MAE: 53.088\n",
      "Epoch 26 / 30\n"
     ]
    },
    {
     "name": "stderr",
     "output_type": "stream",
     "text": [
      "   Training loss: 0.224: 100%|██████████| 545/545 [00:07<00:00, 75.46it/s]\n",
      "          Validating...: 100%|██████████| 69/69 [00:00<00:00, 104.20it/s]\n"
     ]
    },
    {
     "name": "stdout",
     "output_type": "stream",
     "text": [
      "   Validation MAE: 54.681\n",
      "Epoch 27 / 30\n"
     ]
    },
    {
     "name": "stderr",
     "output_type": "stream",
     "text": [
      "   Training loss: 0.220: 100%|██████████| 545/545 [00:07<00:00, 69.82it/s]\n",
      "          Validating...: 100%|██████████| 69/69 [00:00<00:00, 101.26it/s]\n"
     ]
    },
    {
     "name": "stdout",
     "output_type": "stream",
     "text": [
      "   Validation MAE: 52.171\n",
      "Epoch 28 / 30\n"
     ]
    },
    {
     "name": "stderr",
     "output_type": "stream",
     "text": [
      "   Training loss: 0.220: 100%|██████████| 545/545 [00:07<00:00, 68.17it/s]\n",
      "          Validating...: 100%|██████████| 69/69 [00:00<00:00, 93.80it/s]\n"
     ]
    },
    {
     "name": "stdout",
     "output_type": "stream",
     "text": [
      "   Validation MAE: 52.003\n",
      "Epoch 29 / 30\n"
     ]
    },
    {
     "name": "stderr",
     "output_type": "stream",
     "text": [
      "   Training loss: 0.215: 100%|██████████| 545/545 [00:07<00:00, 70.09it/s]\n",
      "          Validating...: 100%|██████████| 69/69 [00:00<00:00, 105.11it/s]\n"
     ]
    },
    {
     "name": "stdout",
     "output_type": "stream",
     "text": [
      "   Validation MAE: 49.970\n",
      "Epoch 30 / 30\n"
     ]
    },
    {
     "name": "stderr",
     "output_type": "stream",
     "text": [
      "   Training loss: 0.213: 100%|██████████| 545/545 [00:07<00:00, 74.99it/s]\n",
      "          Validating...: 100%|██████████| 69/69 [00:00<00:00, 101.00it/s]"
     ]
    },
    {
     "name": "stdout",
     "output_type": "stream",
     "text": [
      "   Validation MAE: 53.258\n"
     ]
    },
    {
     "name": "stderr",
     "output_type": "stream",
     "text": [
      "\n"
     ]
    }
   ],
   "source": [
    "class GCNBaseline(nn.Module):\n",
    "    \n",
    "    def __init__(self) -> None:\n",
    "        super().__init__()\n",
    "        self.gcn = geom_nn.models.GCN(dataset.data.x.size(1) + 3, 50, 2)\n",
    "        self.aggregation = geom_nn.aggr.SumAggregation()\n",
    "        self.f_predict = nn.Sequential(\n",
    "            nn.Linear(50, 50),\n",
    "            nn.ReLU(),\n",
    "            nn.Linear(50, 1)\n",
    "        )\n",
    "    \n",
    "    def forward(self, data: Data) -> Tensor:\n",
    "        node_embed = self.gcn(data.x, data.edge_index)\n",
    "        aggr = self.aggregation(node_embed, data.batch)\n",
    "        return self.f_predict(aggr)\n",
    "        \n",
    "\n",
    "gcn_baseline = GCNBaseline()\n",
    "\n",
    "gcn_train_result = train(\n",
    "    dataset,\n",
    "    target_idx,\n",
    "    std,\n",
    "    train_split,\n",
    "    val_split,\n",
    "    gcn_baseline,\n",
    "    lr=3e-4,\n",
    "    batch_size=32\n",
    ")"
   ]
  },
  {
   "cell_type": "markdown",
   "metadata": {},
   "source": [
    "## Discussion\n",
    "\n",
    "* Discuss vector valued features\n",
    "* Discuss implementation with dense edge/adjacency tensor instead of sparse tensors\n",
    "* Discuss reflections SE vs E"
   ]
  },
  {
   "cell_type": "markdown",
   "metadata": {},
   "source": [
    "## Quiz\n",
    "\n",
    "Ask three questions that the user should be able to answer after doing this talktorial. Choose important take-aways from this talktorial for your questions.\n",
    "\n",
    "1. Question\n",
    "2. Question\n",
    "3. Question"
   ]
  },
  {
   "cell_type": "markdown",
   "metadata": {},
   "source": [
    "<div class=\"alert alert-block alert-info\">\n",
    "\n",
    "<b>Useful checks at the end</b>: \n",
    "    \n",
    "<ul>\n",
    "<li>Clear output and rerun your complete notebook. Does it finish without errors?</li>\n",
    "<li>Check if your talktorial's runtime is as excepted. If not, try to find out which step(s) take unexpectedly long.</li>\n",
    "<li>Flag code cells with <code># NBVAL_CHECK_OUTPUT</code> that have deterministic output and should be tested within our Continuous Integration (CI) framework.</li>\n",
    "</ul>\n",
    "\n",
    "</div>"
   ]
  }
 ],
 "metadata": {
  "kernelspec": {
   "display_name": "Python 3.9.15 ('teachopencadd')",
   "language": "python",
   "name": "python3"
  },
  "language_info": {
   "codemirror_mode": {
    "name": "ipython",
    "version": 3
   },
   "file_extension": ".py",
   "mimetype": "text/x-python",
   "name": "python",
   "nbconvert_exporter": "python",
   "pygments_lexer": "ipython3",
   "version": "3.9.15"
  },
  "vscode": {
   "interpreter": {
    "hash": "8a9b266ef77d2c7845c34a2fd631702a12f40ca31c61a4ac43e85fda7905a5a1"
   }
  },
  "widgets": {
   "application/vnd.jupyter.widget-state+json": {
    "state": {},
    "version_major": 2,
    "version_minor": 0
   }
  }
 },
 "nbformat": 4,
 "nbformat_minor": 4
}
