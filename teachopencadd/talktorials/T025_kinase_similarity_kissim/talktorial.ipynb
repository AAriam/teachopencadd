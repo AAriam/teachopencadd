{
 "cells": [
  {
   "cell_type": "markdown",
   "metadata": {
    "tags": []
   },
   "source": [
    "# T025 · Kinase similarity: Kinase pocket (KiSSim fingerprint)\n",
    "\n",
    "Authors:\n",
    "\n",
    "- Talia B. Kimber, 2021, [Volkamer lab, Charité](https://volkamerlab.org/)\n",
    "- Dominique Sydow, 2021, [Volkamer lab, Charité](https://volkamerlab.org/)\n",
    "- Andrea Volkamer, 2021, [Volkamer lab, Charité](https://volkamerlab.org/)"
   ]
  },
  {
   "cell_type": "markdown",
   "metadata": {
    "jp-MarkdownHeadingCollapsed": true,
    "tags": []
   },
   "source": [
    "## Aim of this talktorial\n",
    "\n",
    "We will assess the similarity between a set of kinases based on the KiSSim fingerprint, which describes the physicochemical and spatial properties in structurally resolved kinases."
   ]
  },
  {
   "cell_type": "markdown",
   "metadata": {},
   "source": [
    "### Contents in *Theory*\n",
    "\n",
    "* Kinase dataset\n",
    "* Kinase similarity descriptor: Kinase pockets (KiSSim fingerprint)\n",
    "* Fetching KLIFS data with `opencadd.databases.klifs`"
   ]
  },
  {
   "cell_type": "markdown",
   "metadata": {},
   "source": [
    "### Contents in *Practical*\n",
    "\n",
    "* Retrieve and preprocess data\n",
    "* Show kinase coverage\n",
    "* Encode and compare structures\n",
    "* Map structure to kinase distance matrix\n",
    "* Save kinase distance matrix"
   ]
  },
  {
   "cell_type": "markdown",
   "metadata": {},
   "source": [
    "### References\n",
    "\n",
    "* Kinase dataset: [<i>Molecules</i> (2021), <b>26(3)</b>, 629](https://www.mdpi.com/1420-3049/26/3/629) \n",
    "* Protein Data Bank\n",
    "  * PDB URL: http://www.rcsb.org/\n",
    "  * PDB database: [<i>Acta Cryst.</i> (2002), <b>D58</b>, 899-907](https://doi.org/10.1107/S0907444902003451) and [<i>Structure</i> (2012), <b>20(3)</b>, 391-396](https://doi.org/10.1016/j.str.2012.01.010)\n",
    "* KLIFS\n",
    "  * KLIFS URL: https://klifs.net/\n",
    "  * KLIFS database: [<i>Nucleic Acid Res.</i> (2020), <b>49(D1)</b>, D562-D569](https://doi.org/10.1093/nar/gkaa895)\n",
    "  * KLIFS binding site definition: [<i>J. Med. Chem.</i> (2014), <b>57(2)</b>, 249-277](https://doi.org/10.1021/jm400378w)\n",
    " * Binding site comparison reviews: \n",
    "   * [<i>Curr. Comput. Aided Drug Des. </i> (2008), <b>4</b>, 209-20](https://www.eurekaselect.com/67606/article/how-measure-similarity-between-protein-ligand-binding-sites)\n",
    "    * [<i>J. Med. Chem. </i> (2016), <b>9</b>, 4121-51](https://pubs.acs.org/doi/10.1021/acs.jmedchem.6b00078)\n",
    "* KiSSim: Kinase Structural Similarity\n",
    "  * GitHub repository: https://github.com/volkamerlab/kissim\n",
    "  * Documentation: https://kissim.readthedocs.io\n",
    "* `opencadd`, a Python library for structural cheminformatics\n",
    "  * GitHub repository: https://github.com/volkamerlab/opencadd\n",
    "  * Documentation: https://opencadd.readthedocs.io"
   ]
  },
  {
   "cell_type": "markdown",
   "metadata": {},
   "source": [
    "## Theory"
   ]
  },
  {
   "cell_type": "markdown",
   "metadata": {},
   "source": [
    "### Kinase dataset"
   ]
  },
  {
   "cell_type": "markdown",
   "metadata": {},
   "source": [
    "We will use nine kinases from [<i>Molecules</i> (2021), <b>26(3)</b>, 629](https://www.mdpi.com/1420-3049/26/3/629), which aimed to understand kinase similarities within different combinations of kinase on- and off-targets (also called anti-targets):\n",
    "\n",
    "> We aggregated the investigated kinases in “profiles”. Profile 1 combined **EGFR** and **ErbB2** as targets and **BRAF** as a (general) anti-target. Out of similar considerations, Profile 2 consisted of EGFR and **PI3K** as targets and BRAF as anti-target. This profile is expected to be more challenging as PI3K is an atypical kinase and thus less similar to EGFR than for example ErbB2 used in Profile 1. Profile 3, comprised of EGFR and **VEGFR2** as targets and BRAF as anti-target, was contrasted with the hit rate that we found with a standard docking against the single target VEGFR2 (Profile 4).\n",
    "> To broaden the comparison and obtain an estimate for the promiscuity of each compound, the kinases **CDK2**, **LCK**, **MET** and **p38α** were included in the experimental assay panel and the structure-based bioinformatics comparison as commonly used anti-targets.\n",
    "\n",
    "*Table 1:* \n",
    "Kinases used in this notebook, adapted from [<i>Molecules</i> (2021), <b>26(3)</b>, 629](https://www.mdpi.com/1420-3049/26/3/629), with their synonyms, UniProt IDs, and kinase groups.\n",
    "\n",
    "| Kinase                     | Synonyms               | UniProt ID | Group    | Full kinase name                                 |\n",
    "|----------------------------|------------------------|------------|----------|--------------------------------------------------|\n",
    "| EGFR                       | ErbB1                  | P00533     | TK       | Epidermal growth factor receptor                 |\n",
    "| ErbB2                      | Her2                   | P04626     | TK       | Erythroblastic leukemia viral oncogene homolog 2 |\n",
    "| PI3K                       | PI3KCA, p110a          | P42336     | Atypical | Phosphatidylinositol-3-kinase                    |\n",
    "| VEGFR2                     | KDR                    | P35968     | TK       | Vascular endothelial growth factor receptor 2    |\n",
    "| BRAF                       | -                      | P15056     | TKL      | Rapidly accelerated fibrosarcoma isoform B       |\n",
    "| CDK2                       | -                      | P24941     | CMGC     | Cyclic-dependent kinase 2                        |\n",
    "| LCK                        | -                      | P06239     | TK       | Lymphocyte-specific protein tyrosine kinase      |\n",
    "| MET                        | -                      | P08581     | TK       | Mesenchymal-epithelial transition factor         |\n",
    "| p38a                       | MAPK14                 | Q16539     | CMGC     | p38 mitogen activated protein kinase α           |"
   ]
  },
  {
   "cell_type": "markdown",
   "metadata": {},
   "source": [
    "### Kinase similarity descriptor: Kinase pockets (KiSSim fingerprint)\n",
    "\n",
    "Side effects often occur when a drug binds not only to its designated target (on-target) but also to other targets (off-targets) that share similar binding sites to form similar protein-ligand interaction patterns. Many binding site comparison tools have been proposed to predict similarities and potentially off-targets. We here use the KiSSim (*Ki*nase *S*tructure *Sim*ilarity) fingerprint, which is based on the KLIFS pocket definition and alignment described in the following."
   ]
  },
  {
   "cell_type": "markdown",
   "metadata": {},
   "source": [
    "The KLIFS database ([<i>Nucleic Acid Res.</i> (2020), <b>49(D1)</b>, D562-D569](https://doi.org/10.1093/nar/gkaa895), [<i>J. Med. Chem.</i> (2014), <b>57(2)</b>, 249-277](https://doi.org/10.1021/jm400378w)) fetches all kinase structures deposited in the structural database PDB ([<i>Acta Cryst.</i> (2002), <b>D58</b>, 899-907](https://doi.org/10.1107/S0907444902003451), [<i>Structure</i> (2012), <b>20(3)</b>, 391-396](https://doi.org/10.1016/j.str.2012.01.010)) and processes them as follows: All multi-chain structures in the PDB are split into monomers and aligned to each other with a special focus on a pre-defined binding site of 85 residues (Figure 1). For example, this means that the conserved gatekeeper (GK) residue at KLIFS position 45 can be easily and quickly looked up in any of the over 10,000 monomeric kinase structures in KLIFS. \n",
    "\n",
    "![KLIFS binding site](https://klifs.net/images/faq/xcolors.png.pagespeed.ic.dprMuoZGzn.webp)\n",
    "\n",
    "*Figure 1:* \n",
    "Kinase binding site residues as defined by KLIFS.\n",
    "Figure and description taken from: [<i>J. Med. Chem.</i> (2014), <b>57(2)</b>, 249-277](https://doi.org/10.1021/jm400378w)."
   ]
  },
  {
   "cell_type": "markdown",
   "metadata": {},
   "source": [
    "The KiSSim fingerprint encodes each of the 85 residues in the KLIFS binding site with respect to physicochemical and spatial properties (Figure 2). Since all KLIFS pockets are aligned across the structurally covered kinome, we can compare the KiSSim fingerprints bit by bit. Physicochemical properties include each residue's pharmacophoric features, size, side chain orientation, and solvent exposure. Spatial properties describe the distance of each residue to defined important regions in the kinase pocket, for example the hinge region, which forms crucial hydrogen bonds to ligands, or the DFG region, whose conformation determines the activity state of the kinase.\n",
    "\n",
    "![KiSSim fingerprint](https://raw.githubusercontent.com/volkamerlab/kissim/main/docs/_static/kissim_toc.png)\n",
    "\n",
    "*Figure 2:* \n",
    "The KiSSim fingerprint encodes physicochemical and spatial properties of a kinase binding site.\n",
    "Figure taken from: https://github.com/volkamerlab/kissim"
   ]
  },
  {
   "cell_type": "markdown",
   "metadata": {},
   "source": [
    "### Fetching KLIFS data with `opencadd.databases.klifs`\n",
    "\n",
    "`opencadd` is a Python library for structural cheminformatics developed by the Volkamer lab at the Charité in Berlin. \n",
    "This library is a growing collection of modules that help facilitate and standardize common tasks in structural bioinformatics and cheminformatics. Today, we will use the module `opencadd.databases.klifs`, which allows us to fetch the KLIFS IFP as `pandas` DataFrame.\n",
    "\n",
    "- GitHub repository: https://github.com/volkamerlab/opencadd\n",
    "- Documentation: https://opencadd.readthedocs.io\n",
    "\n",
    "For more information about this library and the KLIFS OpenAPI, please refer to __Talktorial T012__."
   ]
  },
  {
   "cell_type": "markdown",
   "metadata": {},
   "source": [
    "## Practical"
   ]
  },
  {
   "cell_type": "code",
   "execution_count": 1,
   "metadata": {},
   "outputs": [
    {
     "data": {
      "application/vnd.jupyter.widget-view+json": {
       "model_id": "f7ed13c4ebba4baeaffdad2223c902e9",
       "version_major": 2,
       "version_minor": 0
      },
      "text/plain": []
     },
     "metadata": {},
     "output_type": "display_data"
    }
   ],
   "source": [
    "from pathlib import Path\n",
    "\n",
    "import numpy as np\n",
    "import pandas as pd\n",
    "from sklearn.metrics import pairwise\n",
    "import matplotlib.pyplot as plt\n",
    "import seaborn as sns\n",
    "from opencadd.databases.klifs import setup_remote"
   ]
  },
  {
   "cell_type": "code",
   "execution_count": 2,
   "metadata": {},
   "outputs": [],
   "source": [
    "HERE = Path(_dh[-1])\n",
    "DATA = HERE / \"data\""
   ]
  },
  {
   "cell_type": "markdown",
   "metadata": {},
   "source": [
    "### Retrieve and preprocess data"
   ]
  },
  {
   "cell_type": "markdown",
   "metadata": {},
   "source": [
    "Let's define our kinases of interest and all their synonyms as described in Table 1 in the global variable `query_kinases`."
   ]
  },
  {
   "cell_type": "code",
   "execution_count": 3,
   "metadata": {},
   "outputs": [],
   "source": [
    "query_kinases = [\n",
    "    \"EGFR\",\n",
    "    \"ErbB2\",\n",
    "    \"Her2\",\n",
    "    \"PI3K\",\n",
    "    \"PI3KCA\",\n",
    "    \"p110a\",\n",
    "    \"BRAF\",\n",
    "    \"CDK2\",\n",
    "    \"LCK\",\n",
    "    \"MET\",\n",
    "    \"p38a\",\n",
    "    \"MAPK14\",\n",
    "    \"VEGFR2\",\n",
    "    \"KDR\",\n",
    "]"
   ]
  },
  {
   "cell_type": "markdown",
   "metadata": {},
   "source": [
    "Now, we query the KLIFS database using the `opencadd.databases.klifs` module to generate our IFP dataset."
   ]
  },
  {
   "cell_type": "markdown",
   "metadata": {},
   "source": [
    "#### Set up a remote KLIFS session"
   ]
  },
  {
   "cell_type": "code",
   "execution_count": 4,
   "metadata": {},
   "outputs": [],
   "source": [
    "from opencadd.databases.klifs import setup_remote"
   ]
  },
  {
   "cell_type": "code",
   "execution_count": 5,
   "metadata": {},
   "outputs": [],
   "source": [
    "klifs_session = setup_remote()"
   ]
  },
  {
   "cell_type": "markdown",
   "metadata": {},
   "source": [
    "#### Fetch all structures describing these kinases"
   ]
  },
  {
   "cell_type": "code",
   "execution_count": 6,
   "metadata": {},
   "outputs": [
    {
     "name": "stdout",
     "output_type": "stream",
     "text": [
      "Number of structures: 2466\n",
      "Kinases: CDK2 p38a EGFR ErbB2 MET LCK KDR BRAF p110a\n"
     ]
    }
   ],
   "source": [
    "structures = klifs_session.structures.by_kinase_name(kinase_names=query_kinases)\n",
    "print(f\"Number of structures: {len(structures)}\")\n",
    "print(\"Kinases:\", *structures[\"kinase.klifs_name\"].unique())"
   ]
  },
  {
   "cell_type": "markdown",
   "metadata": {},
   "source": [
    "#### Filter structures\n",
    "\n",
    "We filter the structures by different criteria:\n",
    "\n",
    "- Species: human\n",
    "- Conformation: DFG-in (the active kinase conformation)\n",
    "- Resolution: $\\le 3$ Angström\n",
    "- Quality score*: $\\ge 6$\n",
    "\n",
    "\\* The KLIFS quality score takes into account the quality of the alignment and the number of missing residues and atoms (the higher the better the structure quality)."
   ]
  },
  {
   "cell_type": "code",
   "execution_count": 7,
   "metadata": {},
   "outputs": [
    {
     "name": "stdout",
     "output_type": "stream",
     "text": [
      "Number of structures: 1620\n",
      "Kinases: CDK2 p38a EGFR ErbB2 MET LCK KDR BRAF p110a\n"
     ]
    }
   ],
   "source": [
    "structures = structures[\n",
    "    (structures[\"species.klifs\"] == \"Human\")\n",
    "    & (structures[\"structure.dfg\"] == \"in\")\n",
    "    & (structures[\"structure.resolution\"] <= 3)\n",
    "    & (structures[\"structure.qualityscore\"] >= 6)\n",
    "]\n",
    "print(f\"Number of structures: {len(structures)}\")\n",
    "print(\"Kinases:\", *structures[\"kinase.klifs_name\"].unique())"
   ]
  },
  {
   "cell_type": "markdown",
   "metadata": {},
   "source": [
    "Save the structure KLIFS IDs for the next step."
   ]
  },
  {
   "cell_type": "code",
   "execution_count": 8,
   "metadata": {},
   "outputs": [
    {
     "name": "stdout",
     "output_type": "stream",
     "text": [
      "Number of structures: 1620\n"
     ]
    }
   ],
   "source": [
    "structure_klifs_ids = structures[\"structure.klifs_id\"].to_list()\n",
    "print(f\"Number of structures: {len(structure_klifs_ids)}\")"
   ]
  },
  {
   "cell_type": "markdown",
   "metadata": {},
   "source": [
    "To make it easier for us to maintain the talktorials, we will load now a set of frozen structure KLIFS IDs (2021-08-23) and continue to work with those. If you would like to work with the latest KLIFS data, please uncomment the cell below."
   ]
  },
  {
   "cell_type": "code",
   "execution_count": 9,
   "metadata": {},
   "outputs": [
    {
     "name": "stdout",
     "output_type": "stream",
     "text": [
      "Number of structures: 1620\n"
     ]
    }
   ],
   "source": [
    "# Load frozen dataset\n",
    "structure_klifs_ids = pd.read_csv(DATA / \"frozen_structure_klifs_ids.csv\")[\n",
    "    \"structure.klifs_id\"\n",
    "].to_list()\n",
    "print(f\"Number of structures: {len(structure_klifs_ids)}\")\n",
    "# NBVAL_CHECK_OUTPUT"
   ]
  },
  {
   "cell_type": "markdown",
   "metadata": {
    "tags": []
   },
   "source": [
    "### Show kinase coverage\n",
    "\n",
    "Let's get the number of structures that describe our kinases (kinase coverage)."
   ]
  },
  {
   "cell_type": "code",
   "execution_count": 10,
   "metadata": {},
   "outputs": [
    {
     "data": {
      "text/plain": [
       "kinase.klifs_name\n",
       "ErbB2      4\n",
       "KDR        6\n",
       "LCK       32\n",
       "p110a     49\n",
       "BRAF      72\n",
       "MET       99\n",
       "p38a     151\n",
       "EGFR     357\n",
       "CDK2     850\n",
       "dtype: int64"
      ]
     },
     "execution_count": 10,
     "metadata": {},
     "output_type": "execute_result"
    }
   ],
   "source": [
    "# Use pandas' groupby method to count the number of structures (rows) per kinase\n",
    "n_structures_per_kinase = structures.groupby(\"kinase.klifs_name\").size().sort_values()\n",
    "n_structures_per_kinase\n",
    "# NBVAL_CHECK_OUTPUT"
   ]
  },
  {
   "cell_type": "markdown",
   "metadata": {},
   "source": [
    "Let's plot our results."
   ]
  },
  {
   "cell_type": "code",
   "execution_count": 11,
   "metadata": {},
   "outputs": [
    {
     "data": {
      "image/png": "[encoded data removed]",
      "text/plain": [
       "<Figure size 432x288 with 1 Axes>"
      ]
     },
     "metadata": {
      "needs_background": "light"
     },
     "output_type": "display_data"
    }
   ],
   "source": [
    "fig, ax = plt.subplots()\n",
    "n_structures_per_kinase.plot(kind=\"barh\", ax=ax)\n",
    "ax.set_xlabel(\"Number of structures\")\n",
    "ax.set_ylabel(\"Kinase name\")\n",
    "for i, value in enumerate(n_structures_per_kinase):\n",
    "    ax.text(value, i, str(value), va=\"center\")"
   ]
  },
  {
   "cell_type": "markdown",
   "metadata": {},
   "source": [
    "We see that our dataset is highly imbalanced. While some kinases are structurally resolved very often, other kinases are not: See e.g. CDK2 and EGFR vs. KDR and ErbB2. We will have to keep this in mind when interpreting our results later."
   ]
  },
  {
   "cell_type": "markdown",
   "metadata": {},
   "source": [
    "### Load KiSSim fingerprints"
   ]
  },
  {
   "cell_type": "markdown",
   "metadata": {},
   "source": [
    "We will use in this notebook pre-calculated KiSSim fingerprints for our kinase set. If you wanted to calculate the fingerprints yourself, you can use the following `kissim` API: \n",
    "\n",
    "```python\n",
    "# Generate fingerprints\n",
    "from kissim.api import encode\n",
    "kissim_fingerprints = encode(structure_klifs_ids, n_cores=1)\n",
    "\n",
    "# Save fingerprints as csv files\n",
    "structure_klifs_ids = list(kissim_fingerprints.data.keys())\n",
    "kissim_fingerprints_array = [\n",
    "    fingerprint.values_array().tolist()\n",
    "    for structure_klifs_id, fingerprint\n",
    "    in kissim_fingerprints.data.items()\n",
    "]\n",
    "kissim_fingerprints_array = np.array(kissim_fingerprints_array)\n",
    "kissim_fingerprints_df = pd.DataFrame(kissim_fingerprints_array, index=structure_klifs_ids)\n",
    "kissim_fingerprints_df.to_csv(DATA / \"kissim_fingerprints.csv\")\n",
    "```"
   ]
  },
  {
   "cell_type": "markdown",
   "metadata": {},
   "source": [
    "Let's load the pre-calculated KiSSim fingerprints!"
   ]
  },
  {
   "cell_type": "code",
   "execution_count": 12,
   "metadata": {},
   "outputs": [
    {
     "name": "stdout",
     "output_type": "stream",
     "text": [
      "Matrix shape: (1611, 1032)\n",
      "Number of fingerprints: 1611\n",
      "Number of fingerprint bits: 1032\n"
     ]
    }
   ],
   "source": [
    "kissim_fingerprints = pd.read_csv(DATA / \"kissim_fingerprints.csv\", index_col=0)\n",
    "print(f\"Matrix shape: {kissim_fingerprints.shape}\")\n",
    "print(f\"Number of fingerprints: {kissim_fingerprints.shape[0]}\")\n",
    "print(f\"Number of fingerprint bits: {kissim_fingerprints.shape[1]}\")"
   ]
  },
  {
   "cell_type": "markdown",
   "metadata": {},
   "source": [
    "You might notice that we have fewer fingerprints than structures. This can happen during the `kissim` fingerprinting when some structures cannot be encoded."
   ]
  },
  {
   "cell_type": "markdown",
   "metadata": {},
   "source": [
    "### Compare structures\n",
    "\n",
    "Let's compare the KiSSim fingerprints pairwise. We use `sklearn`'s `nan_euclidean_distances` method, which calculates the Euclidean distance between all pairwise vectors of a matrix. \n",
    "\n",
    "If two vectors have NaN values (which can happen if residues are not resolved in a structure), the following procedure is applied:\n",
    "\n",
    ">  When calculating the distance between a pair of samples, this formulation ignores feature coordinates with a missing value in either sample and scales up the weight of the remaining coordinates.\n",
    "\n",
    "Please find more information in their documentation:\n",
    "\n",
    "https://scikit-learn.org/stable/modules/generated/sklearn.metrics.pairwise.nan_euclidean_distances.html"
   ]
  },
  {
   "cell_type": "code",
   "execution_count": 13,
   "metadata": {},
   "outputs": [
    {
     "data": {
      "text/plain": [
       "array([[ 0.        , 13.25694052, 14.00147438, ..., 50.66954295,\n",
       "        50.7622906 , 50.9508342 ],\n",
       "       [13.25694052,  0.        , 10.37977891, ..., 50.76260217,\n",
       "        51.20730054, 51.4472163 ],\n",
       "       [14.00147438, 10.37977891,  0.        , ..., 51.94849587,\n",
       "        52.88538294, 52.73268888],\n",
       "       ...,\n",
       "       [50.66954295, 50.76260217, 51.94849587, ...,  0.        ,\n",
       "         8.24900205,  6.08783522],\n",
       "       [50.7622906 , 51.20730054, 52.88538294, ...,  8.24900205,\n",
       "         0.        ,  7.94854801],\n",
       "       [50.9508342 , 51.4472163 , 52.73268888, ...,  6.08783522,\n",
       "         7.94854801,  0.        ]])"
      ]
     },
     "execution_count": 13,
     "metadata": {},
     "output_type": "execute_result"
    }
   ],
   "source": [
    "structure_distance_matrix = pairwise.nan_euclidean_distances(kissim_fingerprints.values)\n",
    "structure_distance_matrix"
   ]
  },
  {
   "cell_type": "code",
   "execution_count": 14,
   "metadata": {},
   "outputs": [
    {
     "name": "stdout",
     "output_type": "stream",
     "text": [
      "Structure distance matrix size: (1611, 1611)\n",
      "Show matrix subset:\n"
     ]
    },
    {
     "data": {
      "text/html": [
       "<div>\n",
       "<style scoped>\n",
       "    .dataframe tbody tr th:only-of-type {\n",
       "        vertical-align: middle;\n",
       "    }\n",
       "\n",
       "    .dataframe tbody tr th {\n",
       "        vertical-align: top;\n",
       "    }\n",
       "\n",
       "    .dataframe thead th {\n",
       "        text-align: right;\n",
       "    }\n",
       "</style>\n",
       "<table border=\"1\" class=\"dataframe\">\n",
       "  <thead>\n",
       "    <tr style=\"text-align: right;\">\n",
       "      <th></th>\n",
       "      <th>6285</th>\n",
       "      <th>10568</th>\n",
       "      <th>11187</th>\n",
       "      <th>4060</th>\n",
       "      <th>10566</th>\n",
       "    </tr>\n",
       "  </thead>\n",
       "  <tbody>\n",
       "    <tr>\n",
       "      <th>6285</th>\n",
       "      <td>0.000000</td>\n",
       "      <td>13.256941</td>\n",
       "      <td>14.001474</td>\n",
       "      <td>26.391543</td>\n",
       "      <td>14.307291</td>\n",
       "    </tr>\n",
       "    <tr>\n",
       "      <th>10568</th>\n",
       "      <td>13.256941</td>\n",
       "      <td>0.000000</td>\n",
       "      <td>10.379779</td>\n",
       "      <td>27.882193</td>\n",
       "      <td>16.833932</td>\n",
       "    </tr>\n",
       "    <tr>\n",
       "      <th>11187</th>\n",
       "      <td>14.001474</td>\n",
       "      <td>10.379779</td>\n",
       "      <td>0.000000</td>\n",
       "      <td>30.962221</td>\n",
       "      <td>18.338492</td>\n",
       "    </tr>\n",
       "    <tr>\n",
       "      <th>4060</th>\n",
       "      <td>26.391543</td>\n",
       "      <td>27.882193</td>\n",
       "      <td>30.962221</td>\n",
       "      <td>0.000000</td>\n",
       "      <td>28.905189</td>\n",
       "    </tr>\n",
       "    <tr>\n",
       "      <th>10566</th>\n",
       "      <td>14.307291</td>\n",
       "      <td>16.833932</td>\n",
       "      <td>18.338492</td>\n",
       "      <td>28.905189</td>\n",
       "      <td>0.000000</td>\n",
       "    </tr>\n",
       "  </tbody>\n",
       "</table>\n",
       "</div>"
      ],
      "text/plain": [
       "           6285       10568      11187      4060       10566\n",
       "6285    0.000000  13.256941  14.001474  26.391543  14.307291\n",
       "10568  13.256941   0.000000  10.379779  27.882193  16.833932\n",
       "11187  14.001474  10.379779   0.000000  30.962221  18.338492\n",
       "4060   26.391543  27.882193  30.962221   0.000000  28.905189\n",
       "10566  14.307291  16.833932  18.338492  28.905189   0.000000"
      ]
     },
     "execution_count": 14,
     "metadata": {},
     "output_type": "execute_result"
    }
   ],
   "source": [
    "# Create DataFrame with structure KLIFS IDs as index/columns\n",
    "structure_klifs_ids = kissim_fingerprints.index.to_list()\n",
    "structure_distance_matrix = pd.DataFrame(\n",
    "    structure_distance_matrix, index=structure_klifs_ids, columns=structure_klifs_ids\n",
    ")\n",
    "print(f\"Structure distance matrix size: {structure_distance_matrix.shape}\")\n",
    "print(\"Show matrix subset:\")\n",
    "structure_distance_matrix.iloc[:5, :5]"
   ]
  },
  {
   "cell_type": "markdown",
   "metadata": {
    "tags": []
   },
   "source": [
    "### Map structure to kinase distance matrix\n",
    "\n",
    "First &mdash; as an intermediate step &mdash; we will create a structure distance matrix but instead of labeling the data with structure KLIFS IDs we add the corresponding kinase name."
   ]
  },
  {
   "cell_type": "code",
   "execution_count": 15,
   "metadata": {},
   "outputs": [
    {
     "name": "stdout",
     "output_type": "stream",
     "text": [
      "Show matrix subset:\n"
     ]
    },
    {
     "data": {
      "text/html": [
       "<div>\n",
       "<style scoped>\n",
       "    .dataframe tbody tr th:only-of-type {\n",
       "        vertical-align: middle;\n",
       "    }\n",
       "\n",
       "    .dataframe tbody tr th {\n",
       "        vertical-align: top;\n",
       "    }\n",
       "\n",
       "    .dataframe thead th {\n",
       "        text-align: right;\n",
       "    }\n",
       "</style>\n",
       "<table border=\"1\" class=\"dataframe\">\n",
       "  <thead>\n",
       "    <tr style=\"text-align: right;\">\n",
       "      <th>kinase.klifs_name</th>\n",
       "      <th>CDK2</th>\n",
       "      <th>CDK2</th>\n",
       "      <th>CDK2</th>\n",
       "      <th>CDK2</th>\n",
       "      <th>CDK2</th>\n",
       "    </tr>\n",
       "    <tr>\n",
       "      <th>kinase.klifs_name</th>\n",
       "      <th></th>\n",
       "      <th></th>\n",
       "      <th></th>\n",
       "      <th></th>\n",
       "      <th></th>\n",
       "    </tr>\n",
       "  </thead>\n",
       "  <tbody>\n",
       "    <tr>\n",
       "      <th>CDK2</th>\n",
       "      <td>0.000000</td>\n",
       "      <td>13.256941</td>\n",
       "      <td>14.001474</td>\n",
       "      <td>26.391543</td>\n",
       "      <td>14.307291</td>\n",
       "    </tr>\n",
       "    <tr>\n",
       "      <th>CDK2</th>\n",
       "      <td>13.256941</td>\n",
       "      <td>0.000000</td>\n",
       "      <td>10.379779</td>\n",
       "      <td>27.882193</td>\n",
       "      <td>16.833932</td>\n",
       "    </tr>\n",
       "    <tr>\n",
       "      <th>CDK2</th>\n",
       "      <td>14.001474</td>\n",
       "      <td>10.379779</td>\n",
       "      <td>0.000000</td>\n",
       "      <td>30.962221</td>\n",
       "      <td>18.338492</td>\n",
       "    </tr>\n",
       "    <tr>\n",
       "      <th>CDK2</th>\n",
       "      <td>26.391543</td>\n",
       "      <td>27.882193</td>\n",
       "      <td>30.962221</td>\n",
       "      <td>0.000000</td>\n",
       "      <td>28.905189</td>\n",
       "    </tr>\n",
       "    <tr>\n",
       "      <th>CDK2</th>\n",
       "      <td>14.307291</td>\n",
       "      <td>16.833932</td>\n",
       "      <td>18.338492</td>\n",
       "      <td>28.905189</td>\n",
       "      <td>0.000000</td>\n",
       "    </tr>\n",
       "  </tbody>\n",
       "</table>\n",
       "</div>"
      ],
      "text/plain": [
       "kinase.klifs_name       CDK2       CDK2       CDK2       CDK2       CDK2\n",
       "kinase.klifs_name                                                       \n",
       "CDK2                0.000000  13.256941  14.001474  26.391543  14.307291\n",
       "CDK2               13.256941   0.000000  10.379779  27.882193  16.833932\n",
       "CDK2               14.001474  10.379779   0.000000  30.962221  18.338492\n",
       "CDK2               26.391543  27.882193  30.962221   0.000000  28.905189\n",
       "CDK2               14.307291  16.833932  18.338492  28.905189   0.000000"
      ]
     },
     "execution_count": 15,
     "metadata": {},
     "output_type": "execute_result"
    }
   ],
   "source": [
    "# Copy distance matrix to kinase matrix\n",
    "kinase_distance_matrix = structure_distance_matrix\n",
    "# Replace structure KLIFS IDs with the structures' kinase names\n",
    "kinase_names = structures.set_index(\"structure.klifs_id\").loc[\n",
    "    structure_klifs_ids, \"kinase.klifs_name\"\n",
    "]\n",
    "kinase_distance_matrix.index = kinase_names\n",
    "kinase_distance_matrix.columns = kinase_names\n",
    "print(\"Show matrix subset:\")\n",
    "kinase_distance_matrix.iloc[:5, :5]"
   ]
  },
  {
   "cell_type": "markdown",
   "metadata": {},
   "source": [
    "In this talktorial, we will consider per kinase pair the two structures that show the most similar binding mode for their co-crystallized ligands. Hence, we select the structure pair with the minimum distance as representative for a kinase pair."
   ]
  },
  {
   "cell_type": "code",
   "execution_count": 16,
   "metadata": {},
   "outputs": [
    {
     "data": {
      "text/html": [
       "<style type=\"text/css\">\n",
       "#T_1e2f0_row0_col0, #T_1e2f0_row1_col1, #T_1e2f0_row2_col2, #T_1e2f0_row3_col3, #T_1e2f0_row4_col4, #T_1e2f0_row5_col5, #T_1e2f0_row6_col6, #T_1e2f0_row7_col7, #T_1e2f0_row8_col8 {\n",
       "  background-color: #ebf3eb;\n",
       "  color: #000000;\n",
       "}\n",
       "#T_1e2f0_row0_col1, #T_1e2f0_row5_col4 {\n",
       "  background-color: #7dbd7d;\n",
       "  color: #000000;\n",
       "}\n",
       "#T_1e2f0_row0_col2, #T_1e2f0_row4_col1, #T_1e2f0_row6_col0 {\n",
       "  background-color: #6cb56c;\n",
       "  color: #f1f1f1;\n",
       "}\n",
       "#T_1e2f0_row0_col3, #T_1e2f0_row2_col0, #T_1e2f0_row4_col6 {\n",
       "  background-color: #71b771;\n",
       "  color: #f1f1f1;\n",
       "}\n",
       "#T_1e2f0_row0_col4, #T_1e2f0_row0_col6 {\n",
       "  background-color: #72b872;\n",
       "  color: #f1f1f1;\n",
       "}\n",
       "#T_1e2f0_row0_col5 {\n",
       "  background-color: #69b369;\n",
       "  color: #f1f1f1;\n",
       "}\n",
       "#T_1e2f0_row0_col7 {\n",
       "  background-color: #148a14;\n",
       "  color: #f1f1f1;\n",
       "}\n",
       "#T_1e2f0_row0_col8 {\n",
       "  background-color: #66b266;\n",
       "  color: #f1f1f1;\n",
       "}\n",
       "#T_1e2f0_row1_col0, #T_1e2f0_row3_col2, #T_1e2f0_row5_col2 {\n",
       "  background-color: #80bf80;\n",
       "  color: #000000;\n",
       "}\n",
       "#T_1e2f0_row1_col2 {\n",
       "  background-color: #75b975;\n",
       "  color: #f1f1f1;\n",
       "}\n",
       "#T_1e2f0_row1_col3 {\n",
       "  background-color: #73b873;\n",
       "  color: #f1f1f1;\n",
       "}\n",
       "#T_1e2f0_row1_col4 {\n",
       "  background-color: #79bc79;\n",
       "  color: #000000;\n",
       "}\n",
       "#T_1e2f0_row1_col5 {\n",
       "  background-color: #7fbe7f;\n",
       "  color: #000000;\n",
       "}\n",
       "#T_1e2f0_row1_col6 {\n",
       "  background-color: #7ebe7e;\n",
       "  color: #000000;\n",
       "}\n",
       "#T_1e2f0_row1_col7 {\n",
       "  background-color: #198c19;\n",
       "  color: #f1f1f1;\n",
       "}\n",
       "#T_1e2f0_row1_col8 {\n",
       "  background-color: #74b974;\n",
       "  color: #f1f1f1;\n",
       "}\n",
       "#T_1e2f0_row2_col1, #T_1e2f0_row4_col5, #T_1e2f0_row6_col5, #T_1e2f0_row8_col4 {\n",
       "  background-color: #77ba77;\n",
       "  color: #f1f1f1;\n",
       "}\n",
       "#T_1e2f0_row2_col3 {\n",
       "  background-color: #8ec58e;\n",
       "  color: #000000;\n",
       "}\n",
       "#T_1e2f0_row2_col4 {\n",
       "  background-color: #88c388;\n",
       "  color: #000000;\n",
       "}\n",
       "#T_1e2f0_row2_col5 {\n",
       "  background-color: #87c287;\n",
       "  color: #000000;\n",
       "}\n",
       "#T_1e2f0_row2_col6 {\n",
       "  background-color: #83c083;\n",
       "  color: #000000;\n",
       "}\n",
       "#T_1e2f0_row2_col7 {\n",
       "  background-color: #1d8e1d;\n",
       "  color: #f1f1f1;\n",
       "}\n",
       "#T_1e2f0_row2_col8, #T_1e2f0_row4_col3, #T_1e2f0_row8_col0, #T_1e2f0_row8_col5 {\n",
       "  background-color: #63b163;\n",
       "  color: #f1f1f1;\n",
       "}\n",
       "#T_1e2f0_row3_col0 {\n",
       "  background-color: #65b265;\n",
       "  color: #f1f1f1;\n",
       "}\n",
       "#T_1e2f0_row3_col1, #T_1e2f0_row3_col6, #T_1e2f0_row5_col0, #T_1e2f0_row6_col8 {\n",
       "  background-color: #64b164;\n",
       "  color: #f1f1f1;\n",
       "}\n",
       "#T_1e2f0_row3_col4, #T_1e2f0_row5_col3 {\n",
       "  background-color: #62b062;\n",
       "  color: #f1f1f1;\n",
       "}\n",
       "#T_1e2f0_row3_col5 {\n",
       "  background-color: #5bad5b;\n",
       "  color: #f1f1f1;\n",
       "}\n",
       "#T_1e2f0_row3_col7, #T_1e2f0_row7_col0, #T_1e2f0_row7_col1, #T_1e2f0_row7_col2, #T_1e2f0_row7_col3, #T_1e2f0_row7_col4, #T_1e2f0_row7_col5, #T_1e2f0_row7_col6, #T_1e2f0_row7_col8 {\n",
       "  background-color: #008000;\n",
       "  color: #f1f1f1;\n",
       "}\n",
       "#T_1e2f0_row3_col8 {\n",
       "  background-color: #55a955;\n",
       "  color: #f1f1f1;\n",
       "}\n",
       "#T_1e2f0_row4_col0 {\n",
       "  background-color: #67b267;\n",
       "  color: #f1f1f1;\n",
       "}\n",
       "#T_1e2f0_row4_col2 {\n",
       "  background-color: #7abc7a;\n",
       "  color: #000000;\n",
       "}\n",
       "#T_1e2f0_row4_col7 {\n",
       "  background-color: #018001;\n",
       "  color: #f1f1f1;\n",
       "}\n",
       "#T_1e2f0_row4_col8 {\n",
       "  background-color: #6fb76f;\n",
       "  color: #f1f1f1;\n",
       "}\n",
       "#T_1e2f0_row5_col1 {\n",
       "  background-color: #78bb78;\n",
       "  color: #f1f1f1;\n",
       "}\n",
       "#T_1e2f0_row5_col6, #T_1e2f0_row6_col2 {\n",
       "  background-color: #78bb78;\n",
       "  color: #000000;\n",
       "}\n",
       "#T_1e2f0_row5_col7 {\n",
       "  background-color: #0c860c;\n",
       "  color: #f1f1f1;\n",
       "}\n",
       "#T_1e2f0_row5_col8 {\n",
       "  background-color: #61b061;\n",
       "  color: #f1f1f1;\n",
       "}\n",
       "#T_1e2f0_row6_col1, #T_1e2f0_row6_col4 {\n",
       "  background-color: #76ba76;\n",
       "  color: #f1f1f1;\n",
       "}\n",
       "#T_1e2f0_row6_col3 {\n",
       "  background-color: #6bb46b;\n",
       "  color: #f1f1f1;\n",
       "}\n",
       "#T_1e2f0_row6_col7 {\n",
       "  background-color: #0a850a;\n",
       "  color: #f1f1f1;\n",
       "}\n",
       "#T_1e2f0_row8_col1 {\n",
       "  background-color: #6eb66e;\n",
       "  color: #f1f1f1;\n",
       "}\n",
       "#T_1e2f0_row8_col2 {\n",
       "  background-color: #5aac5a;\n",
       "  color: #f1f1f1;\n",
       "}\n",
       "#T_1e2f0_row8_col3 {\n",
       "  background-color: #5eae5e;\n",
       "  color: #f1f1f1;\n",
       "}\n",
       "#T_1e2f0_row8_col6 {\n",
       "  background-color: #68b368;\n",
       "  color: #f1f1f1;\n",
       "}\n",
       "#T_1e2f0_row8_col7 {\n",
       "  background-color: #108810;\n",
       "  color: #f1f1f1;\n",
       "}\n",
       "</style>\n",
       "<table id=\"T_1e2f0_\">\n",
       "  <thead>\n",
       "    <tr>\n",
       "      <th class=\"index_name level0\" >kinase.klifs_name</th>\n",
       "      <th class=\"col_heading level0 col0\" >BRAF</th>\n",
       "      <th class=\"col_heading level0 col1\" >CDK2</th>\n",
       "      <th class=\"col_heading level0 col2\" >EGFR</th>\n",
       "      <th class=\"col_heading level0 col3\" >ErbB2</th>\n",
       "      <th class=\"col_heading level0 col4\" >KDR</th>\n",
       "      <th class=\"col_heading level0 col5\" >LCK</th>\n",
       "      <th class=\"col_heading level0 col6\" >MET</th>\n",
       "      <th class=\"col_heading level0 col7\" >p110a</th>\n",
       "      <th class=\"col_heading level0 col8\" >p38a</th>\n",
       "    </tr>\n",
       "    <tr>\n",
       "      <th class=\"index_name level0\" >kinase.klifs_name</th>\n",
       "      <th class=\"blank col0\" >&nbsp;</th>\n",
       "      <th class=\"blank col1\" >&nbsp;</th>\n",
       "      <th class=\"blank col2\" >&nbsp;</th>\n",
       "      <th class=\"blank col3\" >&nbsp;</th>\n",
       "      <th class=\"blank col4\" >&nbsp;</th>\n",
       "      <th class=\"blank col5\" >&nbsp;</th>\n",
       "      <th class=\"blank col6\" >&nbsp;</th>\n",
       "      <th class=\"blank col7\" >&nbsp;</th>\n",
       "      <th class=\"blank col8\" >&nbsp;</th>\n",
       "    </tr>\n",
       "  </thead>\n",
       "  <tbody>\n",
       "    <tr>\n",
       "      <th id=\"T_1e2f0_level0_row0\" class=\"row_heading level0 row0\" >BRAF</th>\n",
       "      <td id=\"T_1e2f0_row0_col0\" class=\"data row0 col0\" >0.000</td>\n",
       "      <td id=\"T_1e2f0_row0_col1\" class=\"data row0 col1\" >17.156</td>\n",
       "      <td id=\"T_1e2f0_row0_col2\" class=\"data row0 col2\" >19.515</td>\n",
       "      <td id=\"T_1e2f0_row0_col3\" class=\"data row0 col3\" >21.383</td>\n",
       "      <td id=\"T_1e2f0_row0_col4\" class=\"data row0 col4\" >21.089</td>\n",
       "      <td id=\"T_1e2f0_row0_col5\" class=\"data row0 col5\" >21.583</td>\n",
       "      <td id=\"T_1e2f0_row0_col6\" class=\"data row0 col6\" >20.297</td>\n",
       "      <td id=\"T_1e2f0_row0_col7\" class=\"data row0 col7\" >37.611</td>\n",
       "      <td id=\"T_1e2f0_row0_col8\" class=\"data row0 col8\" >21.731</td>\n",
       "    </tr>\n",
       "    <tr>\n",
       "      <th id=\"T_1e2f0_level0_row1\" class=\"row_heading level0 row1\" >CDK2</th>\n",
       "      <td id=\"T_1e2f0_row1_col0\" class=\"data row1 col0\" >17.156</td>\n",
       "      <td id=\"T_1e2f0_row1_col1\" class=\"data row1 col1\" >0.000</td>\n",
       "      <td id=\"T_1e2f0_row1_col2\" class=\"data row1 col2\" >18.147</td>\n",
       "      <td id=\"T_1e2f0_row1_col3\" class=\"data row1 col3\" >21.106</td>\n",
       "      <td id=\"T_1e2f0_row1_col4\" class=\"data row1 col4\" >19.880</td>\n",
       "      <td id=\"T_1e2f0_row1_col5\" class=\"data row1 col5\" >17.973</td>\n",
       "      <td id=\"T_1e2f0_row1_col6\" class=\"data row1 col6\" >18.304</td>\n",
       "      <td id=\"T_1e2f0_row1_col7\" class=\"data row1 col7\" >36.780</td>\n",
       "      <td id=\"T_1e2f0_row1_col8\" class=\"data row1 col8\" >19.481</td>\n",
       "    </tr>\n",
       "    <tr>\n",
       "      <th id=\"T_1e2f0_level0_row2\" class=\"row_heading level0 row2\" >EGFR</th>\n",
       "      <td id=\"T_1e2f0_row2_col0\" class=\"data row2 col0\" >19.515</td>\n",
       "      <td id=\"T_1e2f0_row2_col1\" class=\"data row2 col1\" >18.147</td>\n",
       "      <td id=\"T_1e2f0_row2_col2\" class=\"data row2 col2\" >0.000</td>\n",
       "      <td id=\"T_1e2f0_row2_col3\" class=\"data row2 col3\" >16.392</td>\n",
       "      <td id=\"T_1e2f0_row2_col4\" class=\"data row2 col4\" >17.282</td>\n",
       "      <td id=\"T_1e2f0_row2_col5\" class=\"data row2 col5\" >16.467</td>\n",
       "      <td id=\"T_1e2f0_row2_col6\" class=\"data row2 col6\" >17.498</td>\n",
       "      <td id=\"T_1e2f0_row2_col7\" class=\"data row2 col7\" >36.046</td>\n",
       "      <td id=\"T_1e2f0_row2_col8\" class=\"data row2 col8\" >22.128</td>\n",
       "    </tr>\n",
       "    <tr>\n",
       "      <th id=\"T_1e2f0_level0_row3\" class=\"row_heading level0 row3\" >ErbB2</th>\n",
       "      <td id=\"T_1e2f0_row3_col0\" class=\"data row3 col0\" >21.383</td>\n",
       "      <td id=\"T_1e2f0_row3_col1\" class=\"data row3 col1\" >21.106</td>\n",
       "      <td id=\"T_1e2f0_row3_col2\" class=\"data row3 col2\" >16.392</td>\n",
       "      <td id=\"T_1e2f0_row3_col3\" class=\"data row3 col3\" >0.000</td>\n",
       "      <td id=\"T_1e2f0_row3_col4\" class=\"data row3 col4\" >23.851</td>\n",
       "      <td id=\"T_1e2f0_row3_col5\" class=\"data row3 col5\" >23.881</td>\n",
       "      <td id=\"T_1e2f0_row3_col6\" class=\"data row3 col6\" >22.563</td>\n",
       "      <td id=\"T_1e2f0_row3_col7\" class=\"data row3 col7\" >41.277</td>\n",
       "      <td id=\"T_1e2f0_row3_col8\" class=\"data row3 col8\" >24.682</td>\n",
       "    </tr>\n",
       "    <tr>\n",
       "      <th id=\"T_1e2f0_level0_row4\" class=\"row_heading level0 row4\" >KDR</th>\n",
       "      <td id=\"T_1e2f0_row4_col0\" class=\"data row4 col0\" >21.089</td>\n",
       "      <td id=\"T_1e2f0_row4_col1\" class=\"data row4 col1\" >19.880</td>\n",
       "      <td id=\"T_1e2f0_row4_col2\" class=\"data row4 col2\" >17.282</td>\n",
       "      <td id=\"T_1e2f0_row4_col3\" class=\"data row4 col3\" >23.851</td>\n",
       "      <td id=\"T_1e2f0_row4_col4\" class=\"data row4 col4\" >0.000</td>\n",
       "      <td id=\"T_1e2f0_row4_col5\" class=\"data row4 col5\" >19.255</td>\n",
       "      <td id=\"T_1e2f0_row4_col6\" class=\"data row4 col6\" >20.431</td>\n",
       "      <td id=\"T_1e2f0_row4_col7\" class=\"data row4 col7\" >41.104</td>\n",
       "      <td id=\"T_1e2f0_row4_col8\" class=\"data row4 col8\" >20.263</td>\n",
       "    </tr>\n",
       "    <tr>\n",
       "      <th id=\"T_1e2f0_level0_row5\" class=\"row_heading level0 row5\" >LCK</th>\n",
       "      <td id=\"T_1e2f0_row5_col0\" class=\"data row5 col0\" >21.583</td>\n",
       "      <td id=\"T_1e2f0_row5_col1\" class=\"data row5 col1\" >17.973</td>\n",
       "      <td id=\"T_1e2f0_row5_col2\" class=\"data row5 col2\" >16.467</td>\n",
       "      <td id=\"T_1e2f0_row5_col3\" class=\"data row5 col3\" >23.881</td>\n",
       "      <td id=\"T_1e2f0_row5_col4\" class=\"data row5 col4\" >19.255</td>\n",
       "      <td id=\"T_1e2f0_row5_col5\" class=\"data row5 col5\" >0.000</td>\n",
       "      <td id=\"T_1e2f0_row5_col6\" class=\"data row5 col6\" >19.221</td>\n",
       "      <td id=\"T_1e2f0_row5_col7\" class=\"data row5 col7\" >39.022</td>\n",
       "      <td id=\"T_1e2f0_row5_col8\" class=\"data row5 col8\" >22.457</td>\n",
       "    </tr>\n",
       "    <tr>\n",
       "      <th id=\"T_1e2f0_level0_row6\" class=\"row_heading level0 row6\" >MET</th>\n",
       "      <td id=\"T_1e2f0_row6_col0\" class=\"data row6 col0\" >20.297</td>\n",
       "      <td id=\"T_1e2f0_row6_col1\" class=\"data row6 col1\" >18.304</td>\n",
       "      <td id=\"T_1e2f0_row6_col2\" class=\"data row6 col2\" >17.498</td>\n",
       "      <td id=\"T_1e2f0_row6_col3\" class=\"data row6 col3\" >22.563</td>\n",
       "      <td id=\"T_1e2f0_row6_col4\" class=\"data row6 col4\" >20.431</td>\n",
       "      <td id=\"T_1e2f0_row6_col5\" class=\"data row6 col5\" >19.221</td>\n",
       "      <td id=\"T_1e2f0_row6_col6\" class=\"data row6 col6\" >0.000</td>\n",
       "      <td id=\"T_1e2f0_row6_col7\" class=\"data row6 col7\" >39.414</td>\n",
       "      <td id=\"T_1e2f0_row6_col8\" class=\"data row6 col8\" >21.983</td>\n",
       "    </tr>\n",
       "    <tr>\n",
       "      <th id=\"T_1e2f0_level0_row7\" class=\"row_heading level0 row7\" >p110a</th>\n",
       "      <td id=\"T_1e2f0_row7_col0\" class=\"data row7 col0\" >37.611</td>\n",
       "      <td id=\"T_1e2f0_row7_col1\" class=\"data row7 col1\" >36.780</td>\n",
       "      <td id=\"T_1e2f0_row7_col2\" class=\"data row7 col2\" >36.046</td>\n",
       "      <td id=\"T_1e2f0_row7_col3\" class=\"data row7 col3\" >41.277</td>\n",
       "      <td id=\"T_1e2f0_row7_col4\" class=\"data row7 col4\" >41.104</td>\n",
       "      <td id=\"T_1e2f0_row7_col5\" class=\"data row7 col5\" >39.022</td>\n",
       "      <td id=\"T_1e2f0_row7_col6\" class=\"data row7 col6\" >39.414</td>\n",
       "      <td id=\"T_1e2f0_row7_col7\" class=\"data row7 col7\" >0.000</td>\n",
       "      <td id=\"T_1e2f0_row7_col8\" class=\"data row7 col8\" >38.530</td>\n",
       "    </tr>\n",
       "    <tr>\n",
       "      <th id=\"T_1e2f0_level0_row8\" class=\"row_heading level0 row8\" >p38a</th>\n",
       "      <td id=\"T_1e2f0_row8_col0\" class=\"data row8 col0\" >21.731</td>\n",
       "      <td id=\"T_1e2f0_row8_col1\" class=\"data row8 col1\" >19.481</td>\n",
       "      <td id=\"T_1e2f0_row8_col2\" class=\"data row8 col2\" >22.128</td>\n",
       "      <td id=\"T_1e2f0_row8_col3\" class=\"data row8 col3\" >24.682</td>\n",
       "      <td id=\"T_1e2f0_row8_col4\" class=\"data row8 col4\" >20.263</td>\n",
       "      <td id=\"T_1e2f0_row8_col5\" class=\"data row8 col5\" >22.457</td>\n",
       "      <td id=\"T_1e2f0_row8_col6\" class=\"data row8 col6\" >21.983</td>\n",
       "      <td id=\"T_1e2f0_row8_col7\" class=\"data row8 col7\" >38.530</td>\n",
       "      <td id=\"T_1e2f0_row8_col8\" class=\"data row8 col8\" >0.000</td>\n",
       "    </tr>\n",
       "  </tbody>\n",
       "</table>\n"
      ],
      "text/plain": [
       "<pandas.io.formats.style.Styler at 0x7ff4942344f0>"
      ]
     },
     "execution_count": 16,
     "metadata": {},
     "output_type": "execute_result"
    }
   ],
   "source": [
    "# We unstack the matrix (each pairwise comparison in a single row)\n",
    "# We group by kinase names (level=[0, 1] ensures that the order of the kinases is ignored\n",
    "# We take the minimum value in each kinase pair group\n",
    "# We unstack the remaining data points\n",
    "kinase_distance_matrix = (\n",
    "    kinase_distance_matrix.unstack().groupby(level=[0, 1]).min().unstack(level=1)\n",
    ")\n",
    "# Show matrix with background gradient\n",
    "# Show matrix with background gradient\n",
    "cm = sns.light_palette(\"green\", as_cmap=True)\n",
    "kinase_distance_matrix.style.background_gradient(cmap=cm).format(\"{:.3f}\")"
   ]
  },
  {
   "cell_type": "markdown",
   "metadata": {
    "tags": []
   },
   "source": [
    "### Save kinase distance matrix"
   ]
  },
  {
   "cell_type": "code",
   "execution_count": 17,
   "metadata": {},
   "outputs": [],
   "source": [
    "kinase_distance_matrix.index.name = None\n",
    "kinase_distance_matrix.columns.name = None\n",
    "kinase_distance_matrix.to_csv(DATA / \"kinase_distance_matrix_kissim.csv\")"
   ]
  },
  {
   "cell_type": "markdown",
   "metadata": {
    "jp-MarkdownHeadingCollapsed": true,
    "tags": []
   },
   "source": [
    "## Discussion\n",
    "\n",
    "In this talktorial, we have assessed kinase similarity used KiSSim fingerprints, which describe physicochemical and spatial properties of pockets in kinase structures. We have reduced a structure distance matrix to a kinase distance matrix by selecting for each kinase pair the corresponding closest structure pair. \n",
    "\n",
    "The kinase distance matrix above will be reloaded in **Talktorial T028**, where we compare kinase similarities from different perspectives, including the pocket structure perspective we have talked about in this talktorial."
   ]
  },
  {
   "cell_type": "markdown",
   "metadata": {},
   "source": [
    "## Quiz\n",
    "\n",
    "1. Can you think of reasons why it is important to include physicochemical *and* spatial properties in a fingerprint?\n",
    "2. Can you think of a reason why the side chain orientation and solvent exposure may be interesting features to consider in a fingerprint?\n",
    "2. Can you think of research questions for which you could make use of the structure distance matrix?"
   ]
  },
  {
   "cell_type": "code",
   "execution_count": null,
   "metadata": {},
   "outputs": [],
   "source": []
  }
 ],
 "metadata": {
  "kernelspec": {
   "display_name": "Python 3 (ipykernel)",
   "language": "python",
   "name": "python3"
  },
  "language_info": {
   "codemirror_mode": {
    "name": "ipython",
    "version": 3
   },
   "file_extension": ".py",
   "mimetype": "text/x-python",
   "name": "python",
   "nbconvert_exporter": "python",
   "pygments_lexer": "ipython3",
   "version": "3.9.6"
  },
  "toc-autonumbering": true,
  "widgets": {
   "application/vnd.jupyter.widget-state+json": {
    "state": {},
    "version_major": 2,
    "version_minor": 0
   }
  }
 },
 "nbformat": 4,
 "nbformat_minor": 4
}
