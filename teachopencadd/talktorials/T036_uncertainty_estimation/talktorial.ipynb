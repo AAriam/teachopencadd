{
 "cells": [
  {
   "cell_type": "markdown",
   "metadata": {},
   "source": [
    "# T036 · Uncertainty estimation\n",
    "\n",
    "**Note:** This talktorial is a part of TeachOpenCADD, a platform that aims to teach domain-specific skills and to provide pipeline templates as starting points for research projects.\n",
    "\n",
    "Authors:\n",
    "\n",
    "- Michael Backenköhler, 2022, [Volkamer lab](https://volkarmerlab.org), Saarland University"
   ]
  },
  {
   "cell_type": "markdown",
   "metadata": {},
   "source": [
    "*The examples used in this talktorial template are taken from [__Talktorial T001__](https://github.com/volkamerlab/teachopencadd/blob/master/teachopencadd/talktorials/T001_query_chembl/talktorial.ipynb) and [__Talktorial T002__](https://github.com/volkamerlab/teachopencadd/blob/master/teachopencadd/talktorials/T002_compound_adme/talktorial.ipynb).*"
   ]
  },
  {
   "cell_type": "markdown",
   "metadata": {},
   "source": [
    "## Aim of this talktorial\n",
    "\n",
    "Add a short summary of this talktorial's content."
   ]
  },
  {
   "cell_type": "markdown",
   "metadata": {},
   "source": [
    "### Contents in *Theory*\n",
    "\n",
    "_Add Table of Contents (TOC) for Theory section._\n",
    "\n",
    "* ChEMBL database\n",
    "* Compound activity measures"
   ]
  },
  {
   "cell_type": "markdown",
   "metadata": {},
   "source": [
    "### Contents in *Practical*\n",
    "\n",
    "_Add Table of Contents (TOC) for Practical section._\n",
    "\n",
    "* Connect to ChEMBL database\n",
    "* Load and draw molecules"
   ]
  },
  {
   "cell_type": "markdown",
   "metadata": {},
   "source": [
    "<div class=\"alert alert-block alert-info\">\n",
    "\n",
    "<b>Sync TOC with section titles</b>: These points should refer to the headlines of your <i>Practical</i> section.\n",
    "\n",
    "</div>"
   ]
  },
  {
   "cell_type": "markdown",
   "metadata": {},
   "source": [
    "### References\n",
    "\n",
    "* Paper \n",
    "* [__Talktorial T022__](https://github.com/volkamerlab/teachopencadd/blob/master/teachopencadd/talktorials/T022_ligand_based_screening_neural_network/talktorial.ipynb)\n",
    "* Other useful resources\n",
    "\n",
    "*We suggest the following citation style:*\n",
    "* Keyword describing resource: <i>Journal</i> (year), <b>volume</b>, pages (link to resource) \n",
    "\n",
    "*Example:*\n",
    "* ChEMBL web services: [<i>Nucleic Acids Res.</i> (2015), <b>43</b>, 612-620](https://academic.oup.com/nar/article/43/W1/W612/2467881) "
   ]
  },
  {
   "cell_type": "markdown",
   "metadata": {},
   "source": [
    "## Theory\n",
    "\n",
    "### Aleatoric uncertainty\n",
    "\n",
    "### Epistemic uncertainty\n",
    "\n",
    "### Confidence curves and calibration"
   ]
  },
  {
   "cell_type": "markdown",
   "metadata": {},
   "source": [
    "## Practical"
   ]
  },
  {
   "cell_type": "markdown",
   "metadata": {},
   "source": [
    "Add short summary of what will be done in this practical section."
   ]
  },
  {
   "cell_type": "markdown",
   "metadata": {},
   "source": [
    "<div class=\"alert alert-block alert-info\">\n",
    "\n",
    "<b>Sync section titles with TOC</b>: Please make sure that all section titles in the <i>Practical</i> section are synced with the bullet point list provided in the <i>Aim of this talktorial</i> > <i>Contents in Practical</i> section.\n",
    "\n",
    "</div>"
   ]
  },
  {
   "cell_type": "markdown",
   "metadata": {},
   "source": [
    "<div class=\"alert alert-block alert-info\">\n",
    "    \n",
    "<b>Beware of section levels</b>: Please check if you are using the correct subsection levels. The section <i>Practical</i> is written in Markdown as <code>## Practical</code>, so every subsection within <i>Practical</i> is <code>###</code> or lower.\n",
    "\n",
    "</div>"
   ]
  },
  {
   "cell_type": "code",
   "execution_count": 44,
   "metadata": {},
   "outputs": [],
   "source": [
    "from pathlib import Path\n",
    "from warnings import filterwarnings\n",
    "\n",
    "# Silence some expected warnings\n",
    "filterwarnings(\"ignore\")\n",
    "\n",
    "import pandas as pd\n",
    "import numpy as np\n",
    "from rdkit import Chem\n",
    "from rdkit.Chem import Draw\n",
    "from sklearn.model_selection import train_test_split\n",
    "import matplotlib.pyplot as plt\n",
    "from sklearn import metrics\n",
    "import seaborn as sns\n",
    "\n",
    "import tensorflow as tf\n",
    "\n",
    "from t022 import neural_network_model, smiles_to_fp, load_chembl_egfr_data\n",
    "\n",
    "%matplotlib inline"
   ]
  },
  {
   "cell_type": "markdown",
   "metadata": {},
   "source": [
    "<div class=\"alert alert-block alert-info\">\n",
    "\n",
    "<b>Imports</b>: Please add all your imports on top of this section, ordered by standard library / 3rd party packages / our own (<code>teachopencadd.*</code>). \n",
    "Read more on imports and import order in the <a href=\"https://www.python.org/dev/peps/pep-0008/#imports\">\"PEP 8 -- Style Guide for Python Code\"</a>.\n",
    "    \n",
    "</div>"
   ]
  },
  {
   "cell_type": "code",
   "execution_count": null,
   "metadata": {},
   "outputs": [],
   "source": [
    "import tqdm"
   ]
  },
  {
   "cell_type": "code",
   "execution_count": 2,
   "metadata": {},
   "outputs": [],
   "source": [
    "HERE = Path(_dh[-1])\n",
    "DATA = HERE / \"data\""
   ]
  },
  {
   "cell_type": "markdown",
   "metadata": {},
   "source": [
    "<div class=\"alert alert-block alert-info\">\n",
    "\n",
    "<b>Relative paths</b>: Please define all paths relative to this talktorial's path by using the global variable <code>HERE</code>.\n",
    "If your talktorial has input/output data, please define the global <code>DATA</code>, which points to this talktorial's data folder (check out the default folder structure of each talktorial).\n",
    "    \n",
    "</div>"
   ]
  },
  {
   "cell_type": "markdown",
   "metadata": {
    "tags": []
   },
   "source": [
    "### Connect to ChEMBL database"
   ]
  },
  {
   "cell_type": "markdown",
   "metadata": {},
   "source": [
    "Load data."
   ]
  },
  {
   "cell_type": "code",
   "execution_count": 20,
   "metadata": {},
   "outputs": [],
   "source": [
    "chembl_df = load_chembl_egfr_data(DATA / \"CHEMBL25_activities_EGFR.csv\", method='morgan3', n_bits=1024)\n",
    "x_train, x_test, y_train, y_test = train_test_split(\n",
    "    chembl_df[\"fingerprints_df\"], chembl_df[[\"pIC50\"]], test_size=0.3, random_state=42\n",
    ")\n",
    "x_test = tf.convert_to_tensor(np.array([np.array(a, dtype=int) for a in x_test], dtype=int))"
   ]
  },
  {
   "cell_type": "markdown",
   "metadata": {},
   "source": [
    "We now set up the pipeline of creating and training a model."
   ]
  },
  {
   "cell_type": "code",
   "execution_count": 35,
   "metadata": {},
   "outputs": [],
   "source": [
    "def create_and_fit_model(layers=[512, 128, 64], **kwargs):\n",
    "    \"\"\"\n",
    "    Create and fit an instance of a feed-forward neural network (see Talktorial 022).\n",
    "    \n",
    "    Parameters\n",
    "    ----------\n",
    "    layers: List[int]\n",
    "        The width of hidden layers in the feed-forward neural net.\n",
    "    \n",
    "    **kwargs\n",
    "        The keyword arguments are passed to the `model.fit` function.\n",
    "    \n",
    "    Returns\n",
    "    -------\n",
    "    Sequential\n",
    "        A fitted feed-forward NN.\n",
    "    \"\"\"\n",
    "    model = neural_network_model(layers)\n",
    "    # Fit model on x_train, y_train data\n",
    "    history = model.fit(\n",
    "        np.array(list((x_train))).astype(float),\n",
    "        y_train.values,\n",
    "        validation_data=(np.array(list((x_test))).astype(float), y_test.values),\n",
    "        **kwargs,\n",
    "    )\n",
    "    \n",
    "    return model"
   ]
  },
  {
   "cell_type": "code",
   "execution_count": 42,
   "metadata": {},
   "outputs": [
    {
     "name": "stderr",
     "output_type": "stream",
     "text": [
      "100%|███████████████████████████████████████████████████████████████████████████████████████████████████████████████████████████████████████████████████████| 100/100 [26:40<00:00, 16.00s/it]\n"
     ]
    }
   ],
   "source": [
    "ensemble = [create_and_fit_model(verbose=0, batch_size=64, epochs=30) for _ in tqdm.tqdm(range(100))]"
   ]
  },
  {
   "cell_type": "code",
   "execution_count": 78,
   "metadata": {},
   "outputs": [
    {
     "name": "stderr",
     "output_type": "stream",
     "text": [
      "\n",
      "  0%|                                                                                                                                                                 | 0/100 [00:00<?, ?it/s]\u001b[A\n",
      "  1%|█▌                                                                                                                                                       | 1/100 [00:00<00:21,  4.54it/s]\u001b[A\n",
      "  2%|███                                                                                                                                                      | 2/100 [00:00<00:27,  3.59it/s]\u001b[A\n",
      "  3%|████▌                                                                                                                                                    | 3/100 [00:00<00:28,  3.39it/s]\u001b[A\n",
      "  4%|██████                                                                                                                                                   | 4/100 [00:01<00:28,  3.34it/s]\u001b[A\n",
      "  5%|███████▋                                                                                                                                                 | 5/100 [00:01<00:26,  3.53it/s]\u001b[A\n",
      "  6%|█████████▏                                                                                                                                               | 6/100 [00:01<00:29,  3.15it/s]\u001b[A\n",
      "  7%|██████████▋                                                                                                                                              | 7/100 [00:02<00:30,  3.03it/s]\u001b[A\n",
      "  8%|████████████▏                                                                                                                                            | 8/100 [00:02<00:36,  2.52it/s]\u001b[A\n",
      "  9%|█████████████▊                                                                                                                                           | 9/100 [00:03<00:35,  2.55it/s]\u001b[A\n",
      " 10%|███████████████▏                                                                                                                                        | 10/100 [00:03<00:33,  2.68it/s]\u001b[A\n",
      " 11%|████████████████▋                                                                                                                                       | 11/100 [00:03<00:32,  2.72it/s]\u001b[A\n",
      " 12%|██████████████████▏                                                                                                                                     | 12/100 [00:04<00:32,  2.73it/s]\u001b[A\n",
      " 13%|███████████████████▊                                                                                                                                    | 13/100 [00:04<00:29,  2.92it/s]\u001b[A\n",
      " 14%|█████████████████████▎                                                                                                                                  | 14/100 [00:04<00:29,  2.96it/s]\u001b[A\n",
      " 15%|██████████████████████▊                                                                                                                                 | 15/100 [00:05<00:28,  2.94it/s]\u001b[A\n",
      " 16%|████████████████████████▎                                                                                                                               | 16/100 [00:05<00:29,  2.89it/s]\u001b[A\n",
      " 17%|█████████████████████████▊                                                                                                                              | 17/100 [00:05<00:28,  2.94it/s]\u001b[A\n",
      " 18%|███████████████████████████▎                                                                                                                            | 18/100 [00:06<00:27,  2.95it/s]\u001b[A\n",
      " 19%|████████████████████████████▉                                                                                                                           | 19/100 [00:06<00:27,  2.92it/s]\u001b[A\n",
      " 20%|██████████████████████████████▍                                                                                                                         | 20/100 [00:06<00:25,  3.13it/s]\u001b[A\n",
      " 21%|███████████████████████████████▉                                                                                                                        | 21/100 [00:07<00:25,  3.06it/s]\u001b[A\n",
      " 22%|█████████████████████████████████▍                                                                                                                      | 22/100 [00:07<00:26,  2.92it/s]\u001b[A\n",
      " 23%|██████████████████████████████████▉                                                                                                                     | 23/100 [00:07<00:26,  2.91it/s]\u001b[A\n",
      " 24%|████████████████████████████████████▍                                                                                                                   | 24/100 [00:08<00:27,  2.81it/s]\u001b[A\n",
      " 25%|██████████████████████████████████████                                                                                                                  | 25/100 [00:08<00:26,  2.82it/s]\u001b[A\n",
      " 26%|███████████████████████████████████████▌                                                                                                                | 26/100 [00:08<00:25,  2.90it/s]\u001b[A\n",
      " 27%|█████████████████████████████████████████                                                                                                               | 27/100 [00:09<00:24,  2.94it/s]\u001b[A\n",
      " 28%|██████████████████████████████████████████▌                                                                                                             | 28/100 [00:09<00:24,  2.91it/s]\u001b[A\n",
      " 29%|████████████████████████████████████████████                                                                                                            | 29/100 [00:09<00:24,  2.94it/s]\u001b[A\n",
      " 30%|█████████████████████████████████████████████▌                                                                                                          | 30/100 [00:10<00:24,  2.90it/s]\u001b[A\n",
      " 31%|███████████████████████████████████████████████                                                                                                         | 31/100 [00:10<00:22,  3.04it/s]\u001b[A\n",
      " 32%|████████████████████████████████████████████████▋                                                                                                       | 32/100 [00:10<00:21,  3.11it/s]\u001b[A\n",
      " 33%|██████████████████████████████████████████████████▏                                                                                                     | 33/100 [00:11<00:21,  3.16it/s]\u001b[A\n",
      " 34%|███████████████████████████████████████████████████▋                                                                                                    | 34/100 [00:11<00:19,  3.39it/s]\u001b[A\n",
      " 35%|█████████████████████████████████████████████████████▏                                                                                                  | 35/100 [00:11<00:18,  3.42it/s]\u001b[A\n",
      " 36%|██████████████████████████████████████████████████████▋                                                                                                 | 36/100 [00:11<00:19,  3.32it/s]\u001b[A\n",
      " 37%|████████████████████████████████████████████████████████▏                                                                                               | 37/100 [00:12<00:19,  3.22it/s]\u001b[A\n",
      " 38%|█████████████████████████████████████████████████████████▊                                                                                              | 38/100 [00:12<00:19,  3.26it/s]\u001b[A\n",
      " 39%|███████████████████████████████████████████████████████████▎                                                                                            | 39/100 [00:12<00:18,  3.24it/s]\u001b[A\n",
      " 40%|████████████████████████████████████████████████████████████▊                                                                                           | 40/100 [00:13<00:18,  3.30it/s]\u001b[A\n",
      " 41%|██████████████████████████████████████████████████████████████▎                                                                                         | 41/100 [00:13<00:18,  3.15it/s]\u001b[A\n",
      " 42%|███████████████████████████████████████████████████████████████▊                                                                                        | 42/100 [00:13<00:19,  3.03it/s]\u001b[A\n",
      " 43%|█████████████████████████████████████████████████████████████████▎                                                                                      | 43/100 [00:14<00:18,  3.07it/s]\u001b[A\n",
      " 44%|██████████████████████████████████████████████████████████████████▉                                                                                     | 44/100 [00:14<00:18,  3.08it/s]\u001b[A\n",
      " 45%|████████████████████████████████████████████████████████████████████▍                                                                                   | 45/100 [00:14<00:18,  2.99it/s]\u001b[A\n",
      " 46%|█████████████████████████████████████████████████████████████████████▉                                                                                  | 46/100 [00:15<00:18,  2.88it/s]\u001b[A\n",
      " 47%|███████████████████████████████████████████████████████████████████████▍                                                                                | 47/100 [00:15<00:18,  2.94it/s]\u001b[A\n",
      " 48%|████████████████████████████████████████████████████████████████████████▉                                                                               | 48/100 [00:15<00:17,  3.00it/s]\u001b[A\n",
      " 49%|██████████████████████████████████████████████████████████████████████████▍                                                                             | 49/100 [00:16<00:17,  2.99it/s]\u001b[A\n",
      " 50%|████████████████████████████████████████████████████████████████████████████                                                                            | 50/100 [00:16<00:17,  2.94it/s]\u001b[A\n",
      " 51%|█████████████████████████████████████████████████████████████████████████████▌                                                                          | 51/100 [00:16<00:16,  2.95it/s]\u001b[A\n",
      " 52%|███████████████████████████████████████████████████████████████████████████████                                                                         | 52/100 [00:17<00:16,  2.94it/s]\u001b[A\n",
      " 53%|████████████████████████████████████████████████████████████████████████████████▌                                                                       | 53/100 [00:17<00:14,  3.15it/s]\u001b[A\n",
      " 54%|██████████████████████████████████████████████████████████████████████████████████                                                                      | 54/100 [00:17<00:13,  3.30it/s]\u001b[A\n",
      " 55%|███████████████████████████████████████████████████████████████████████████████████▌                                                                    | 55/100 [00:18<00:12,  3.50it/s]\u001b[A\n",
      " 56%|█████████████████████████████████████████████████████████████████████████████████████                                                                   | 56/100 [00:18<00:12,  3.53it/s]\u001b[A\n",
      " 57%|██████████████████████████████████████████████████████████████████████████████████████▋                                                                 | 57/100 [00:18<00:13,  3.31it/s]\u001b[A\n",
      " 58%|████████████████████████████████████████████████████████████████████████████████████████▏                                                               | 58/100 [00:18<00:11,  3.57it/s]\u001b[A\n",
      " 59%|█████████████████████████████████████████████████████████████████████████████████████████▋                                                              | 59/100 [00:19<00:11,  3.71it/s]\u001b[A\n",
      " 60%|███████████████████████████████████████████████████████████████████████████████████████████▏                                                            | 60/100 [00:19<00:10,  3.84it/s]\u001b[A\n",
      " 61%|████████████████████████████████████████████████████████████████████████████████████████████▋                                                           | 61/100 [00:19<00:09,  3.96it/s]\u001b[A\n",
      " 62%|██████████████████████████████████████████████████████████████████████████████████████████████▏                                                         | 62/100 [00:20<00:11,  3.42it/s]\u001b[A\n",
      " 63%|███████████████████████████████████████████████████████████████████████████████████████████████▊                                                        | 63/100 [00:20<00:10,  3.47it/s]\u001b[A\n",
      " 64%|█████████████████████████████████████████████████████████████████████████████████████████████████▎                                                      | 64/100 [00:20<00:09,  3.64it/s]\u001b[A\n",
      " 65%|██████████████████████████████████████████████████████████████████████████████████████████████████▊                                                     | 65/100 [00:20<00:10,  3.36it/s]\u001b[A\n",
      " 66%|████████████████████████████████████████████████████████████████████████████████████████████████████▎                                                   | 66/100 [00:21<00:10,  3.27it/s]\u001b[A\n",
      " 67%|█████████████████████████████████████████████████████████████████████████████████████████████████████▊                                                  | 67/100 [00:21<00:10,  3.09it/s]\u001b[A\n",
      " 68%|███████████████████████████████████████████████████████████████████████████████████████████████████████▎                                                | 68/100 [00:21<00:09,  3.38it/s]\u001b[A\n",
      " 69%|████████████████████████████████████████████████████████████████████████████████████████████████████████▉                                               | 69/100 [00:22<00:08,  3.52it/s]\u001b[A\n",
      " 70%|██████████████████████████████████████████████████████████████████████████████████████████████████████████▍                                             | 70/100 [00:22<00:08,  3.66it/s]\u001b[A\n",
      " 71%|███████████████████████████████████████████████████████████████████████████████████████████████████████████▉                                            | 71/100 [00:22<00:07,  3.87it/s]\u001b[A\n",
      " 72%|█████████████████████████████████████████████████████████████████████████████████████████████████████████████▍                                          | 72/100 [00:22<00:07,  3.97it/s]\u001b[A\n",
      " 73%|██████████████████████████████████████████████████████████████████████████████████████████████████████████████▉                                         | 73/100 [00:23<00:06,  4.03it/s]\u001b[A\n",
      " 74%|████████████████████████████████████████████████████████████████████████████████████████████████████████████████▍                                       | 74/100 [00:23<00:06,  4.10it/s]\u001b[A\n",
      " 75%|██████████████████████████████████████████████████████████████████████████████████████████████████████████████████                                      | 75/100 [00:23<00:06,  4.15it/s]\u001b[A\n",
      " 76%|███████████████████████████████████████████████████████████████████████████████████████████████████████████████████▌                                    | 76/100 [00:23<00:05,  4.15it/s]\u001b[A\n",
      " 77%|█████████████████████████████████████████████████████████████████████████████████████████████████████████████████████                                   | 77/100 [00:24<00:06,  3.73it/s]\u001b[A\n",
      " 78%|██████████████████████████████████████████████████████████████████████████████████████████████████████████████████████▌                                 | 78/100 [00:24<00:06,  3.35it/s]\u001b[A\n",
      " 79%|████████████████████████████████████████████████████████████████████████████████████████████████████████████████████████                                | 79/100 [00:24<00:06,  3.30it/s]\u001b[A\n",
      " 80%|█████████████████████████████████████████████████████████████████████████████████████████████████████████████████████████▌                              | 80/100 [00:25<00:06,  3.23it/s]\u001b[A\n",
      " 81%|███████████████████████████████████████████████████████████████████████████████████████████████████████████████████████████                             | 81/100 [00:25<00:06,  3.07it/s]\u001b[A\n",
      " 82%|████████████████████████████████████████████████████████████████████████████████████████████████████████████████████████████▋                           | 82/100 [00:25<00:05,  3.35it/s]\u001b[A\n",
      " 83%|██████████████████████████████████████████████████████████████████████████████████████████████████████████████████████████████▏                         | 83/100 [00:26<00:05,  3.08it/s]\u001b[A\n",
      " 84%|███████████████████████████████████████████████████████████████████████████████████████████████████████████████████████████████▋                        | 84/100 [00:26<00:05,  3.05it/s]\u001b[A\n",
      " 85%|█████████████████████████████████████████████████████████████████████████████████████████████████████████████████████████████████▏                      | 85/100 [00:26<00:05,  2.92it/s]\u001b[A\n",
      " 86%|██████████████████████████████████████████████████████████████████████████████████████████████████████████████████████████████████▋                     | 86/100 [00:27<00:05,  2.68it/s]\u001b[A\n",
      " 87%|████████████████████████████████████████████████████████████████████████████████████████████████████████████████████████████████████▏                   | 87/100 [00:27<00:04,  2.66it/s]\u001b[A\n",
      " 88%|█████████████████████████████████████████████████████████████████████████████████████████████████████████████████████████████████████▊                  | 88/100 [00:27<00:04,  2.78it/s]\u001b[A\n",
      " 89%|███████████████████████████████████████████████████████████████████████████████████████████████████████████████████████████████████████▎                | 89/100 [00:28<00:04,  2.48it/s]\u001b[A\n",
      " 90%|████████████████████████████████████████████████████████████████████████████████████████████████████████████████████████████████████████▊               | 90/100 [00:28<00:03,  2.61it/s]\u001b[A\n",
      " 91%|██████████████████████████████████████████████████████████████████████████████████████████████████████████████████████████████████████████▎             | 91/100 [00:29<00:03,  2.77it/s]\u001b[A\n",
      " 92%|███████████████████████████████████████████████████████████████████████████████████████████████████████████████████████████████████████████▊            | 92/100 [00:29<00:02,  3.03it/s]\u001b[A\n",
      " 93%|█████████████████████████████████████████████████████████████████████████████████████████████████████████████████████████████████████████████▎          | 93/100 [00:29<00:02,  3.28it/s]\u001b[A\n",
      " 94%|██████████████████████████████████████████████████████████████████████████████████████████████████████████████████████████████████████████████▉         | 94/100 [00:29<00:01,  3.27it/s]\u001b[A\n",
      " 95%|████████████████████████████████████████████████████████████████████████████████████████████████████████████████████████████████████████████████▍       | 95/100 [00:30<00:01,  3.16it/s]\u001b[A\n",
      " 96%|█████████████████████████████████████████████████████████████████████████████████████████████████████████████████████████████████████████████████▉      | 96/100 [00:30<00:01,  3.11it/s]\u001b[A\n",
      " 97%|███████████████████████████████████████████████████████████████████████████████████████████████████████████████████████████████████████████████████▍    | 97/100 [00:30<00:01,  2.98it/s]\u001b[A\n",
      " 98%|████████████████████████████████████████████████████████████████████████████████████████████████████████████████████████████████████████████████████▉   | 98/100 [00:31<00:00,  3.04it/s]\u001b[A\n",
      " 99%|██████████████████████████████████████████████████████████████████████████████████████████████████████████████████████████████████████████████████████▍ | 99/100 [00:31<00:00,  3.16it/s]\u001b[A\n",
      "100%|███████████████████████████████████████████████████████████████████████████████████████████████████████████████████████████████████████████████████████| 100/100 [00:31<00:00,  3.14it/s]\u001b[A\n"
     ]
    }
   ],
   "source": [
    "scores = np.array([model.predict(x_test) for model in tqdm.tqdm(ensemble)])"
   ]
  },
  {
   "cell_type": "code",
   "execution_count": 84,
   "metadata": {},
   "outputs": [],
   "source": [
    "scores = np.array(scores)"
   ]
  },
  {
   "cell_type": "code",
   "execution_count": 180,
   "metadata": {},
   "outputs": [],
   "source": [
    "stds = scores.std(0).flatten()\n",
    "mean = scores.mean(0).flatten()\n",
    "mae = np.abs(mean - y_test.values.flatten()).flatten()"
   ]
  },
  {
   "cell_type": "code",
   "execution_count": 182,
   "metadata": {},
   "outputs": [
    {
     "data": {
      "text/plain": [
       "Text(0, 0.5, 'MAE')"
      ]
     },
     "execution_count": 182,
     "metadata": {},
     "output_type": "execute_result"
    },
    {
     "data": {
      "image/png": "[encoded data removed]",
      "text/plain": [
       "<Figure size 640x480 with 1 Axes>"
      ]
     },
     "metadata": {},
     "output_type": "display_data"
    }
   ],
   "source": [
    "plt.scatter(stds, mae, s=3)\n",
    "plt.xlabel('uncertainty')\n",
    "plt.ylabel('MAE')\n",
    "# plt.yscale('log')\n",
    "# plt.xscale('log')"
   ]
  },
  {
   "cell_type": "code",
   "execution_count": 183,
   "metadata": {
    "tags": []
   },
   "outputs": [],
   "source": [
    "from scipy.stats import norm"
   ]
  },
  {
   "cell_type": "code",
   "execution_count": 233,
   "metadata": {},
   "outputs": [],
   "source": [
    "confidences = np.linspace(.0, 1)"
   ]
  },
  {
   "cell_type": "code",
   "execution_count": 234,
   "metadata": {},
   "outputs": [],
   "source": [
    "hits = []\n",
    "for c in confidences:\n",
    "    delta = stds * norm.ppf(.5 + c / 2) / np.sqrt(len(ensemble))\n",
    "    a = (mean - delta < y_test.values.flatten()) & (mean + delta > y_test.values.flatten()).astype(int)\n",
    "    hits.append(a.sum() / len(a))"
   ]
  },
  {
   "cell_type": "code",
   "execution_count": 236,
   "metadata": {},
   "outputs": [
    {
     "data": {
      "image/png": "[encoded data removed]",
      "text/plain": [
       "<Figure size 640x480 with 1 Axes>"
      ]
     },
     "metadata": {},
     "output_type": "display_data"
    }
   ],
   "source": [
    "plt.plot(confidences, hits)\n",
    "plt.yscale('log')"
   ]
  },
  {
   "cell_type": "code",
   "execution_count": 223,
   "metadata": {},
   "outputs": [
    {
     "data": {
      "text/plain": [
       "83"
      ]
     },
     "execution_count": 223,
     "metadata": {},
     "output_type": "execute_result"
    }
   ],
   "source": [
    "arr.sum()"
   ]
  },
  {
   "cell_type": "markdown",
   "metadata": {
    "tags": []
   },
   "source": [
    "<div class=\"alert alert-block alert-info\">\n",
    "\n",
    "<b>Functions</b>: \n",
    "\n",
    "<ul>\n",
    "<li>Please add <a href=\"https://numpydoc.readthedocs.io/en/latest/format.html\">numpy docstrings</a> to your functions.</li>\n",
    "<li>Please expose all variables used within a function in the function's signature (i.e. they must be function parameters), unless they are created within the scope of the function.</li>\n",
    "<li>Please add comments to the steps performed in the function.</li>\n",
    "<li>Please use meaningful function and parameter names. This applies also to variable names.</li>\n",
    "</ul>\n",
    "    \n",
    "</div>"
   ]
  },
  {
   "cell_type": "markdown",
   "metadata": {},
   "source": [
    "## Discussion\n",
    "\n",
    "Wrap up the talktorial's content here and discuss pros/cons and open questions/challenges."
   ]
  },
  {
   "cell_type": "markdown",
   "metadata": {},
   "source": [
    "## Quiz\n",
    "\n",
    "Ask three questions that the user should be able to answer after doing this talktorial. Choose important take-aways from this talktorial for your questions.\n",
    "\n",
    "1. Question\n",
    "2. Question\n",
    "3. Question"
   ]
  },
  {
   "cell_type": "markdown",
   "metadata": {},
   "source": [
    "<div class=\"alert alert-block alert-info\">\n",
    "\n",
    "<b>Useful checks at the end</b>: \n",
    "    \n",
    "<ul>\n",
    "<li>Clear output and rerun your complete notebook. Does it finish without errors?</li>\n",
    "<li>Check if your talktorial's runtime is as excepted. If not, try to find out which step(s) take unexpectedly long.</li>\n",
    "<li>Flag code cells with <code># NBVAL_CHECK_OUTPUT</code> that have deterministic output and should be tested within our Continuous Integration (CI) framework.</li>\n",
    "</ul>\n",
    "\n",
    "</div>"
   ]
  },
  {
   "cell_type": "code",
   "execution_count": null,
   "metadata": {},
   "outputs": [],
   "source": []
  }
 ],
 "metadata": {
  "kernelspec": {
   "display_name": "Python 3 (ipykernel)",
   "language": "python",
   "name": "python3"
  },
  "language_info": {
   "codemirror_mode": {
    "name": "ipython",
    "version": 3
   },
   "file_extension": ".py",
   "mimetype": "text/x-python",
   "name": "python",
   "nbconvert_exporter": "python",
   "pygments_lexer": "ipython3",
   "version": "3.9.15"
  },
  "widgets": {
   "application/vnd.jupyter.widget-state+json": {
    "state": {},
    "version_major": 2,
    "version_minor": 0
   }
  }
 },
 "nbformat": 4,
 "nbformat_minor": 4
}
