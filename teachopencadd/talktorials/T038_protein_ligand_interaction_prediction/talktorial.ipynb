{
 "cells": [
  {
   "cell_type": "markdown",
   "metadata": {},
   "source": [
    "# T038 · Protein Ligand Interaction Prediction\n",
    "\n",
    "**Note:** This talktorial is a part of TeachOpenCADD, a platform that aims to teach domain-specific skills and to provide pipeline templates as starting points for research projects.\n",
    "\n",
    "Authors:\n",
    "\n",
    "- Roman Joeres, 2022, [Chair for Drug Bioinformatics, UdS and HIPS](https://www.helmholtz-hips.de/de/forschung/teams/team/wirkstoffbioinformatik/)"
   ]
  },
  {
   "cell_type": "markdown",
   "metadata": {},
   "source": [
    "## Aim of this talktorial\n",
    "\n",
    "The goal of this talktorial is to introduce the reader to the field of protein ligand interaction prediction using graph neural networks (GNNs). GNNs are especially useful for representing structural data such as proteins and chemical molecules (ligands) to a deep learning model. In this talktorial, I will show how to train a deep learning model to predict interactions between proteins and ligands."
   ]
  },
  {
   "cell_type": "markdown",
   "metadata": {},
   "source": [
    "### Contents in *Theory*\n",
    "\n",
    "* Relevance of Protein Ligand Interaction Prediction\n",
    "* Workflow\n",
    "* Biological background - Proteins as Graphs\n",
    "* Technical background\n",
    "  * Graph Isomorphism Networks\n",
    "  * Binary Cross Entropy Loss"
   ]
  },
  {
   "cell_type": "markdown",
   "metadata": {},
   "source": [
    "### Contents in *Practical*\n",
    "\n",
    "* Compute graph representations\n",
    "  * Ligands to graphs\n",
    "  * Proteins to graphs\n",
    "* Data Storages\n",
    "  * Data Points\n",
    "  * Data Set\n",
    "  * Data Module\n",
    "* Network\n",
    "  * GNN Encoder\n",
    "  * Full Model\n",
    "* Training routine"
   ]
  },
  {
   "cell_type": "markdown",
   "metadata": {},
   "source": [
    "### References\n",
    "\n",
    "* Theoretical background\n",
    "    * Graph Neural Networks:\n",
    "      Kipf, Welling: \"Semi-Supervised Classification with Graph Convolutional Networks\", [<i>arXiv</i> (2017)](https://arxiv.org/abs/1609.02907)\n",
    "      Bronstein, et al.: \"Geometric deep learning: going beyond Euclidean data\", [<i>IEEE Signal Processing Magazine</i> (2017), <b>4</b>, 18-42](https://doi.org/10.1109/MSP.2017.2693418)\n",
    "    * GNN based Protein Ligand Interaction Prediction:\n",
    "      Öztürk, et al.: \"DeepDTA: Deep drug-target binding affinity prediction\", [<i>Bioinformatics</i> (2018), <b>34</b>, i821-i829](https://doi.org/10.1093/bioinformatics/bty593)\n",
    "      Nguyen, et. al.: \"GraphDTA: Predicting drug target binding affinity with graph neural networks\", [<i>Bioinformatics</i> (2021), <b>37</b>, 1140-1147](https://doi.org/10.1093/bioinformatics/btaa921)\n",
    "    * Graph Isomorphism Network:\n",
    "      Xu, et al.: \"How powerful are graph neural networks?\", [<i>arXiv</i> (2018)](https://arxiv.org/abs/1810.00826)\n",
    "\n",
    "* Practical Background\n",
    "    * [PyTorch](https://pytorch.org/)\n",
    "    * [PyTorch Geometric](https://pytorch-geometric.readthedocs.io/en/latest/)\n",
    "    * [RDKit](http://rdkit.org/): Greg Landrum, *RDKit Documentation*, [PDF](https://www.rdkit.org/UGM/2012/Landrum_RDKit_UGM.Fingerprints.Final.pptx.pdf), Release on 2019.09.1."
   ]
  },
  {
   "cell_type": "markdown",
   "metadata": {},
   "source": [
    "## Theory\n",
    "\n",
    "This talktorial combines several topics, you have seen in other talktorials. Here, I will describe the general idea of how to predict interactions between proteins and ligands. If some technique used in the workflow is already presented somewhere else, I'll link to this otherwise, I'll explain new things below."
   ]
  },
  {
   "cell_type": "markdown",
   "metadata": {},
   "source": [
    "### Relevance of Protein Ligand Interaction Prediction\n",
    "Protein-ligand interactions are of interest in research for many reasons as can be seen in [__Talktorial T016__](https://github.com/volkamerlab/teachopencadd/blob/master/teachopencadd/talktorials/T016_protein_ligand_interactions/talktorial.ipynb). One of the most important fields where being able to predict whether a certain pair of protein and ligand interact or not is the field of drug discovery. Classically, in drug development one want to find a new drug given a protein target. For example in the CoVid-19 pandemic, most pharmacy companies tried to find drugs to bind to the spike protein. In order TBC."
   ]
  },
  {
   "cell_type": "markdown",
   "metadata": {},
   "source": [
    "### Workflow\n",
    "\n",
    "Our input is a dataset comprising a set of proteins and a set of ligands and a table with binding information for every pair of proteins and ligands. Speaking in terms of supervised learning (as in [__Talktorial T022__](https://github.com/volkamerlab/teachopencadd/blob/master/teachopencadd/talktorials/T022_ligand_based_screening_neural_networks/talktorial.ipynb)), our dataset we use for training, validation, and testing is the table of interaction data. One component of our network architecture is a simple Feed-forward Neural Network (FNN) as presented in [__Talktorial T022__](https://github.com/volkamerlab/teachopencadd/blob/master/teachopencadd/talktorials/T022_ligand_based_screening_neural_networks/talktorial.ipynb). The other two components are graph neural networks (GNNs) to extract features from the proteins and ligands in each pair of the dataset. As discussed in [__Talktorial T034__](https://github.com/volkamerlab/teachopencadd/blob/master/teachopencadd/talktorials/T034_link/talktorial.ipynb) GNNs are used to compute a representation of graph structured data that holds information about the structure. These representations are concatenated into one vector which serves as input for the final FNN.\n",
    "\n",
    "![Basic structure](./images/basic_structure.png)\n",
    "\n",
    "*Figure 1:*\n",
    "Visualization of the workflow of the model in this notebook. The shown exemplary structures are taken from from the PDB entry with ID 4O75."
   ]
  },
  {
   "cell_type": "markdown",
   "metadata": {},
   "source": [
    "### Biological background - Proteins as Graphs\n",
    "\n",
    "Here, I will focus on the conversion of proteins into graphs as the conversion of SMILES to graphs is explained in [__Talktorial T034__](https://github.com/volkamerlab/teachopencadd/blob/master/teachopencadd/talktorials/T022_ligand_based_screening_neural_networks/talktorial.ipynb).\n",
    "\n",
    "There are usually two ways to represent proteins in science. Either by their sequence of amino acids or as a PDB structure as introduced in [__Talktorial T008__](https://github.com/volkamerlab/teachopencadd/blob/master/teachopencadd/talktorials/T008_query_pdb/talktorial.ipynb). As amino acid sequences do not contain structural information, in protein ligand interaction prediction we use PDB files of proteins as input for our structure-based models. In the graph representation of a protein, every node of the graph represents an amino acid from the protein. Edges between nodes in the graph are drawn if the two represented amino acids are within a certain distance. This is the equivalent of an interaction between the two amino acids in teh protein. To compute the distance of two amino acids, we look at the coordinates of the $C_\\alpha$ atoms of the amino acids in the PDB file. If the distance between two $C_\\alpha$ atoms is below a certain distance threshold, we consider the amino acids to interact and insert an edge in the graph representation of the protein. This can be seen in Figure 2.\n",
    "\n",
    "![Prot2Graph](./images/prot_graph_creation.png)\n",
    "\n",
    "*Figure 2:*\n",
    "Visualization of the process and idea of protein representation as graphs. For this example, we consider only the $C_\\alpha$ atoms of the cysteins to be withing a distance threshold of 7 Angstrom. As both cysteins are spatially close, their sulfates generate a disulfate bridge and stabilizes the protein three-dimensions structure which is the type of interaction we want to have in the graph representations."
   ]
  },
  {
   "cell_type": "markdown",
   "metadata": {},
   "source": [
    "### Technical background\n",
    "\n",
    "In this section, I will focus on the computer science aspects of the proposed solution. Mainly, I'll discuss the concrete GNN architecture to use and which node features I use."
   ]
  },
  {
   "cell_type": "markdown",
   "metadata": {},
   "source": [
    "#### Graph Isomorphism Networks\n",
    "\n",
    "There is a whole zoo of GNN architectures proposed to solve many problems. If you want to get an overview over the most popular architectures, you can have a look at the [list of convolutional layers implemented in PyTorch-Geometric](https://pytorch-geometric.readthedocs.io/en/latest/modules/nn.html#convolutional-layers). In this talktorial, we will use the GINConv layers as backbone of out GNNs as they have been proven to be powerful in embedding molecular data yet remaining easy to understand in their functionality. The formula to compute an embedding of a node based on the neighbors is\n",
    "$$\\mathbf{x}^{\\prime}_i = h_{\\mathbf{\\Theta}} \\left( (1 + \\epsilon) \\cdot \\mathbf{x}_i + \\sum_{j \\in \\mathcal{N}(i)} \\mathbf{x}_j \\right)$$\n",
    "where $\\mathcal{N}(i)$ is the set of neighbors of node $i$, $\\epsilon$ is just a constant, and $h_{\\mathbf{\\Theta}}$ is a neural network as presented in [__Talktorial T022__](https://github.com/volkamerlab/teachopencadd/blob/master/teachopencadd/talktorials/T022_ligand_based_screening_neural_networks/talktorial.ipynb). The idea is to aggregate all neighbor embeddings together with the own current embedding and put this into a neural network to extract information on the nodes and it's neighborhood.\n",
    "\n",
    "As can be seen, GINConv layers do not use edge information in their computation. So, the only thing we need to extract from out proteins and ligands when turning into graphs are features for the edges. In this talktorial, we will use a very simple featurization and every node just contains categorical information on the amino acid type or atom type is represents. Information on onehot encodings of categorical data is covered in [__Talktorial T021__](https://github.com/volkamerlab/teachopencadd/blob/master/teachopencadd/talktorials/T022_one_hot_encoding/talktorial.ipynb).\n",
    "\n",
    "The final element to finalize our GNN module is the pooling function, that is used to compute the graph embedding based on the node embeddings in the final layer. For simplicity reasons (and because it's surprisingly powerful) we use mean pooling. That means, we just take the mean vector over all node embeddings in the final GINConv layer."
   ]
  },
  {
   "cell_type": "markdown",
   "metadata": {},
   "source": [
    "#### Binary Cross Entropy Loss\n",
    "\n",
    "[__Talktorial T022__](https://github.com/volkamerlab/teachopencadd/blob/master/teachopencadd/talktorials/T022_ligand_based_screening_neural_networks/talktorial.ipynb) introduces two loss functions, namely MSE and MAE. Both are suitable to train regression models but not appropriate for classification. For classification there is wide range of loss functions of which we will use the [Binary Cross Entropy Loss](https://pytorch.org/docs/stable/generated/torch.nn.BCELoss.html).\n",
    "\n",
    "The formula to compute the loss is\n",
    "$$-\\left[ y\\cdot\\log x+(1-y)\\cdot\\log (1-x)\\right],$$\n",
    "where $x$ is the models output for one sample and $y$ is the label of that sample.\n",
    "\n",
    "The idea is that exactly one term of $y$ and $1-y$ equals $1$ to the formula reduces to $\\log x$ for a positive sample and $\\log (1-x)$ for a negative example. By this setting, the BCE formula ensures that you want to push the predicted values $x$ towards 0 in negative samples ($y=0$) and towards $1$ in positive cases ($y=1$)."
   ]
  },
  {
   "cell_type": "markdown",
   "metadata": {},
   "source": [
    "## Practical"
   ]
  },
  {
   "cell_type": "markdown",
   "metadata": {},
   "source": [
    "In this practical section, we will discuss every step in implementing the above presented solution to protein ligand interaction prediction. We will start with all the imports needed and some path definitions."
   ]
  },
  {
   "cell_type": "code",
   "execution_count": 1,
   "metadata": {},
   "outputs": [],
   "source": [
    "import math\n",
    "import random\n",
    "import os\n",
    "from pathlib import Path\n",
    "\n",
    "from rdkit import Chem\n",
    "import torch\n",
    "import torch.nn.functional as F\n",
    "from torch import Tensor, nn\n",
    "from torch.optim import Adam\n",
    "from torch_geometric.nn import global_mean_pool, GINConv\n",
    "from torch_geometric.data import Data, InMemoryDataset\n",
    "from torch_geometric.loader import DataLoader\n",
    "import matplotlib.pyplot as plt\n",
    "\n",
    "from kiba_analysis import kiba_preprocessing"
   ]
  },
  {
   "cell_type": "code",
   "execution_count": 5,
   "metadata": {},
   "outputs": [
    {
     "name": "stderr",
     "output_type": "stream",
     "text": [
      "C:\\Users\\joere\\Desktop\\Dokumente\\Workspace\\Python\\teachopencadd\\teachopencadd\\talktorials\\T038_protein_ligand_interaction_prediction\\kiba_analysis.py:15: DtypeWarning: Columns (1,2,3,4,5,6,7,8,9,10,11,12,13,14,18,19,20,21,22,24,25,26,27,29,30,31,32,34,35,36,37,38,39,40,41,42,43,44,45,47,48,49,50,51,52,59,63,68,69,71,76,77,79,80,81,84,87,89,91,92,94,98,99,100,101,102,103,104,105,106,107,109,110,112,113,114,116,117,118,120,121,122,125,126,127,128,130,131,132,135,136,137,138,139,140,141,142,143,148,149,150,151,152,153,154,156,157,158,159,160,161,162,163,164,165,166,170,171,172,173,174,176,178,179,180,181,182,185,186,188,189,190,192,193,195,196,198,200,201,202,203,205,206,207,208,209,210,211,212,213,214,215,216,217,218,220,221,222,223,224,225,226,227,229,230,231,233,234,235,237,238,242,244,245,246,247,249,250,251,252,253,254,255,256,257,258,259,260,261,262,263,265,266,267,268,270,271,272,273,274,275,276,277,278,279,281,282,283,284,285,286,287,289,290,291,292,293,294,296,297,299,300,302,303,305,306,307,308,309,312,313,314,315,316,317,318,319,320,321,322,323,324,325,326,327,328,329,331,332,333,334,335,336,337,338,339,340,341,342,343,344,346,347,348,349,350,352,353,354,355,356,357,358,359,360,361,362,363,364,365,366,368,369,370,371,372,373,374,375,376,377,378,379,381,382,383,384,385,386,387,388,389,390,391,392,393,394,395,396,397,398,399,400,401,403,404,406,407,408,409,410,411,412,413,414,415,416,417,418,419,420,421,422,424,425,426,428,429,430,431,432,433,434,435,436,437,438,439,440,441,442,443,444,445,447,448,449,450,451,452,453,454,455,456,457,458,459,460,462,463,464,465,466,467) have mixed types. Specify dtype option on import or set low_memory=False.\n",
      "  df = pd.read_csv(kiba_init_filepath, sep=\"\\t\")\n"
     ]
    },
    {
     "name": "stdout",
     "output_type": "stream",
     "text": [
      "KiBA originally contains 52498 ligands and 468 proteins.\n",
      "KiBA after dropping sparse rows contains 79 ligands and 468 proteins.\n",
      "KiBA finally contains 79 ligands and 373 proteins.\n",
      "Preprocessing ligands\n",
      "After ligand availability analysis KiBA contains 76 ligands and 373 proteins.\n",
      "Preprocessing ligands finished\n",
      "Preprocessing proteins\n",
      "After protein availability analysis KiBA contains 76 ligands and 275 proteins.\n",
      "Preprocessing proteins finished\n",
      "Preprocessing interactions\n"
     ]
    },
    {
     "data": {
      "text/plain": "<Figure size 640x480 with 1 Axes>",
      "image/png": "[encoded data removed]"
     },
     "metadata": {},
     "output_type": "display_data"
    },
    {
     "name": "stdout",
     "output_type": "stream",
     "text": [
      "3.6122063690076973\n",
      "3.6122063690076973\n",
      "Finally, KiBA comprises 20475 interactions.\n",
      "Preprocessing interactions finished\n"
     ]
    }
   ],
   "source": [
    "HERE = Path(\"./\")\n",
    "DATA = HERE / \"data2\"\n",
    "\n",
    "kiba_preprocessing(f\"{str(DATA)}/kiba/KIBA.csv\", f\"{str(DATA)}/resources/\")"
   ]
  },
  {
   "cell_type": "markdown",
   "metadata": {},
   "source": [
    "### Compute graph representations"
   ]
  },
  {
   "cell_type": "markdown",
   "metadata": {},
   "source": [
    "#### Ligands to graphs\n",
    "\n",
    "First, we're going to implement the conversion of ligands into graphs. For the following explaination, I assume the ligand has $N$ atoms. To encode a graph, we have to compute a matrix of the node features (a $N\\times F$-matrix where $F$ is the number of features per node) and a matrix of the edges given by pairs of the participating node ids.\n",
    "\n",
    "Due to some PyTorch Geometric related implementation details, the edge-matrix has to have the format $2\\times N$."
   ]
  },
  {
   "cell_type": "code",
   "execution_count": 6,
   "metadata": {},
   "outputs": [],
   "source": [
    "# For every atom type we consider, map the symbol to a numerical value for onehot encoding.\n",
    "atoms_to_num = dict((atom, i) for i, atom in enumerate([\n",
    "    \"C\", \"N\", \"O\", \"F\", \"P\", \"S\", \"Cl\", \"Br\", \"I\"\n",
    "]))\n",
    "\n",
    "\n",
    "def atom_to_onehot(atom):\n",
    "    \"\"\"\n",
    "    Return the onehot encoding for an atom given as it's index from the atoms_to_num dict.\n",
    "\n",
    "    Parameters\n",
    "    ----------\n",
    "    atom: str\n",
    "        Atomic symbol of the atom to represent\n",
    "\n",
    "    Returns\n",
    "    -------\n",
    "    torch.Tensor\n",
    "        A onehot tensor encoding the atoms features.\n",
    "    \"\"\"\n",
    "    # initialize a 0-vector ...\n",
    "    one_hot = torch.zeros(len(atoms_to_num) + 1, dtype=torch.float)\n",
    "    # ... and set the according field to one, ...\n",
    "    if atom in atoms_to_num:\n",
    "        one_hot[atoms_to_num[atom]] = 1.0\n",
    "    # ... the last field is used to represent atom types that do not have their own field in the onehot vector\n",
    "    else:\n",
    "        one_hot[len(atoms_to_num)] = 1.0\n",
    "    return one_hot\n",
    "\n",
    "\n",
    "def smiles_to_graph(smiles):\n",
    "    \"\"\"\n",
    "    Convert a molecule given as SDF file into a graph.\n",
    "\n",
    "    Arguments\n",
    "    ---------\n",
    "    smiles: str\n",
    "        Path to the file storing the structural information of the ligand\n",
    "\n",
    "    Returns\n",
    "    -------\n",
    "    Tuple[torch.Tensor, torch.Tensor]\n",
    "        A pair of node features and edges in the PyTorch Geometric format\n",
    "    \"\"\"\n",
    "    # read in the molecule from an SDF file\n",
    "    mol = Chem.MolFromSmiles(smiles)\n",
    "    atoms, bonds = [], []\n",
    "    # check if the molecule is valid\n",
    "    if mol is None:\n",
    "        print(smiles)\n",
    "        return None, None\n",
    "\n",
    "    # iterate over all atom, compute the feature vector and store them in a torch.Tensor object\n",
    "    for atom in mol.GetAtoms():\n",
    "        atoms.append(atom_to_onehot(atom.GetSymbol()))\n",
    "    atoms = torch.stack(atoms)\n",
    "\n",
    "    # iterate over all bonds in the molecule and store them in the PyTorch Geometric specific format in a torch.Tensor,\n",
    "    for bond in mol.GetBonds():\n",
    "        bonds.append((bond.GetBeginAtomIdx(), bond.GetEndAtomIdx()))\n",
    "        bonds.append((bond.GetEndAtomIdx(), bond.GetBeginAtomIdx()))\n",
    "    bonds = torch.tensor(bonds, dtype=torch.long).T\n",
    "\n",
    "    return atoms, bonds"
   ]
  },
  {
   "cell_type": "markdown",
   "metadata": {},
   "source": [
    "#### Proteins to graphs\n",
    "\n",
    "Similar to how we converted ligands to graphs, we convert proteins into graphs. The output will be the same, a pair of node features and edges."
   ]
  },
  {
   "cell_type": "code",
   "execution_count": 7,
   "metadata": {},
   "outputs": [],
   "source": [
    "# Generate a mapping from amino acids to numbers for onehot encoding\n",
    "aa_to_num = dict((aa, i) for i, aa in enumerate([\n",
    "    \"ALA\", \"ARG\", \"ASN\", \"ASP\", \"CYS\", \"GLU\", \"GLN\", \"GLY\", \"HIS\", \"ILE\", \"LEU\", \"LYS\", \"MET\",  \"PHE\", \"PRO\",  \"SER\", \"THR\", \"TRP\", \"TYR\", \"VAL\", \"UNK\",\n",
    "]))\n",
    "\n",
    "\n",
    "def aa_to_onehot(aa):\n",
    "    \"\"\"\n",
    "    Compute the onehot vector for an amino acid representing node.\n",
    "\n",
    "    Arguments\n",
    "    ---------\n",
    "    aa: str\n",
    "        The three-letter code of the amino acid to be represented\n",
    "\n",
    "    Returns\n",
    "    -------\n",
    "    torch.Tensor\n",
    "        A onehot tensor encoding the atoms features.\n",
    "    \"\"\"\n",
    "    one_hot = torch.zeros(len(aa_to_num), dtype=torch.float)\n",
    "    one_hot[aa_to_num[aa]] = 1.0\n",
    "    return one_hot\n",
    "\n",
    "\n",
    "def pdb_to_graph(pdb_file_path, max_dist=7.0):\n",
    "    \"\"\"\n",
    "    Extract a graph representation of a protein from the PDB file.\n",
    "\n",
    "    Arguments\n",
    "    ---------\n",
    "    pdb_file_path: str\n",
    "        Filepath of the PDB file containing structural information on the protein\n",
    "    max_dist: float\n",
    "        Distance threshold to apply when computing edges between amino acids\n",
    "\n",
    "    Returns\n",
    "    -------\n",
    "    Tuple[torch.Tensor, torch.Tensor]\n",
    "        A pair of node features and edges in the PyTorch Geometric format\n",
    "    \"\"\"\n",
    "    # read in the PDB file by looking for the Calpha atoms and extract their amino acid and coordinates based on the positioning in the PDB file\n",
    "    residues = []\n",
    "    with open(pdb_file_path, \"r\") as protein:\n",
    "        for line in protein:\n",
    "            if line.startswith(\"ATOM\") and line[12:16].strip() == \"CA\":\n",
    "                residues.append((\n",
    "                    line[17:20].strip(),\n",
    "                    float(line[30:38].strip()),\n",
    "                    float(line[38:46].strip()),\n",
    "                    float(line[46:54].strip()),\n",
    "                ))\n",
    "    # Finally compute the node features based on the amino acids in the protein\n",
    "    node_feat = torch.stack([aa_to_onehot(res[0]) for res in residues])\n",
    "\n",
    "    # compute the edges of the protein by iterating over all pairs of amino acids and computing their distance\n",
    "    edges = []\n",
    "    for i in range(len(residues)):\n",
    "        res = residues[i]\n",
    "        for j in range(i + 1, len(residues)):\n",
    "            tmp = residues[j]\n",
    "            if math.dist(res[1:4], tmp[1:4]) <= max_dist:\n",
    "                edges.append((i, j))\n",
    "                edges.append((j, i))\n",
    "\n",
    "    # store the edges in the PyTorch Geometric format\n",
    "    edges = torch.tensor(edges, dtype=torch.long).T\n",
    "\n",
    "    return node_feat, edges"
   ]
  },
  {
   "cell_type": "markdown",
   "metadata": {},
   "source": [
    "### Data Storages\n",
    "\n",
    "Storing and representing data in PLI-prediction is a bit different from other neural networks. Therefore, we have to define our own classes to represent the data."
   ]
  },
  {
   "cell_type": "markdown",
   "metadata": {},
   "source": [
    "#### Data Points\n",
    "\n",
    "Usually the built-in Data class of PyTorch Geometric is used to represent only one graph, for our task, the data contains two graphs, therefore, we need to adapt the functionality to compute the number of nodes and edges for one data point."
   ]
  },
  {
   "cell_type": "code",
   "execution_count": 8,
   "metadata": {},
   "outputs": [],
   "source": [
    "class DTIDataPair(Data):\n",
    "    def __init__(self, **kwargs):\n",
    "        super().__init__(**kwargs)\n",
    "\n",
    "    @property\n",
    "    def num_nodes(self):\n",
    "        return self[\"lig_x\"].size(0) + self[\"prot_x\"].size(0)\n",
    "\n",
    "    @property\n",
    "    def num_edges(self):\n",
    "        return self[\"lig_edge_index\"].size(1) + self[\"prot_edge_index\"].size(1)\n",
    "\n",
    "    def __inc__(self, key, value, *args, **kwargs):\n",
    "        \"\"\"\n",
    "        Method that is necessary to overwrite for successful batching of DTIDataPair object.\n",
    "        In case of interest, one can look at this explanation:\n",
    "        https://pytorch-geometric.readthedocs.io/en/latest/notes/batching.html\n",
    "\n",
    "        When multiple samples are send through a network at once, they are aggregated into batches.\n",
    "        In PyTorch Geometric this is done by copying all n graphs for one batch into one graph with\n",
    "        n connected components. Because of this, the node ids in the edge_index objects have to be\n",
    "        changed. As they have to be increased by a fix offset based on the number of nodes in the\n",
    "        batch so far, this method computes this offset in case the edge_indices of either the\n",
    "        proteins or ligands.\n",
    "\n",
    "        Arguments\n",
    "        ---------\n",
    "        key: str\n",
    "            String name of the field of this class to increment while batching\n",
    "\n",
    "        Returns\n",
    "        -------\n",
    "        torch.Tensor\n",
    "            A one-element tensor describing how to modify the values when batching.\n",
    "        \"\"\"\n",
    "        if not key.endswith(\"edge_index\"):\n",
    "            return super().__inc__(key, value, *args, **kwargs)\n",
    "        lenedg = len(\"edge_index\")\n",
    "        prefix = key[:-lenedg]\n",
    "        return self[prefix + \"x\"].size(0)"
   ]
  },
  {
   "cell_type": "markdown",
   "metadata": {},
   "source": [
    "#### Data Set\n",
    "\n",
    "This is where the real data magic happens. In the dataset, we read in the data and process them into the graphical representation we want to have."
   ]
  },
  {
   "cell_type": "code",
   "execution_count": 9,
   "metadata": {},
   "outputs": [],
   "source": [
    "class DTIDataset(InMemoryDataset):\n",
    "    def __init__(self, folder_name, file_index):\n",
    "        self.folder_name = folder_name\n",
    "        super().__init__(root=folder_name)\n",
    "        self.data, self.slices = torch.load(self.processed_paths[file_index])\n",
    "\n",
    "    @property\n",
    "    def processed_file_names(self):\n",
    "        \"\"\"\n",
    "        Just store the names of the files where the training split, validation split, and test split are stored.\n",
    "\n",
    "        Returns\n",
    "        -------\n",
    "        List[str]\n",
    "            A list of filenames where the preprocessed data is stored to not recompute the preprocessing every time.\n",
    "        \"\"\"\n",
    "        return [\"train.pt\", \"val.pt\", \"test.pt\"]\n",
    "\n",
    "    def process(self):\n",
    "        \"\"\"\n",
    "        This function is called internally in the preprocessing routine of PyTorch Geometric and defined how the dataset of PDB files, ligands, and an interaction table is converted into a dataset of graphs, ready for deep learning.\n",
    "        \"\"\"\n",
    "        # compute all ligand graphs and store them as a dictionary with their names as key and the graphs as values\n",
    "        ligand_graphs = dict()\n",
    "        with open(os.path.join(self.folder_name, \"tables\", \"ligands.tsv\"), \"r\") as data:\n",
    "            for line in data.readlines()[1:]:\n",
    "                chembl_id, smiles = line.strip().split(\"\\t\")[:2]\n",
    "                ligand_graphs[chembl_id] = smiles_to_graph(smiles)\n",
    "\n",
    "        # compute all protein graphs and store them as a dictionary with their names as key and the graphs as values\n",
    "        protein_graphs = dict([\n",
    "            (filename[:-4], pdb_to_graph(os.path.join(os.path.join(self.folder_name, \"proteins\", filename)))) for filename in os.listdir(os.path.join(self.folder_name, \"proteins\"))\n",
    "        ])\n",
    "\n",
    "        with open(os.path.join(self.folder_name, \"tables\", \"inter.tsv\")) as inter:\n",
    "            data_list = []\n",
    "            for line in inter.readlines()[1:]:\n",
    "                # read a line with one interaction sample. Extract ligand and protein ID and get their graphs from the dictionaries above\n",
    "                protein, ligand, y = line.strip().split('\\t')\n",
    "                lig_node_feat, lig_edge_index = ligand_graphs[ligand]\n",
    "                prot_node_feat, prot_edge_index = protein_graphs[protein]\n",
    "\n",
    "                # if either ligand or protein are invalid graphs, skip this sample ...\n",
    "                if lig_node_feat is None or prot_node_feat is None:\n",
    "                    print(line.strip())\n",
    "                    continue\n",
    "\n",
    "                # ... otherwise, create a datapoint using the class from above\n",
    "                data_list.append(DTIDataPair(\n",
    "                    lig_x=lig_node_feat,\n",
    "                    lig_edge_index=lig_edge_index,\n",
    "                    prot_x=prot_node_feat,\n",
    "                    prot_edge_index=prot_edge_index,\n",
    "                    y=torch.tensor(float(y), dtype=torch.float),\n",
    "                ))\n",
    "\n",
    "            # shuffle the data, and compute how many samples go into which split\n",
    "            random.shuffle(data_list)\n",
    "            train_frac = int(len(data_list) * 0.7)\n",
    "            test_frac = int(len(data_list) * 0.1)\n",
    "\n",
    "            # then split the data and store them for later reuse without running the preprocessing pipeline\n",
    "            train_data, train_slices = self.collate(data_list[:train_frac])\n",
    "            torch.save((train_data, train_slices), self.processed_paths[0])\n",
    "            val_data, val_slices = self.collate(data_list[train_frac:-test_frac])\n",
    "            torch.save((val_data, val_slices), self.processed_paths[1])\n",
    "            test_data, test_slices = self.collate(data_list[-test_frac:])\n",
    "            torch.save((test_data, test_slices), self.processed_paths[2])"
   ]
  },
  {
   "cell_type": "markdown",
   "metadata": {},
   "source": [
    "#### Data Module\n",
    "\n",
    "This is just a handy class holding all three splits of a dataset and providing data loaders for training, validation, and test."
   ]
  },
  {
   "cell_type": "code",
   "execution_count": 10,
   "metadata": {},
   "outputs": [],
   "source": [
    "class DTIDataModule:\n",
    "    def __init__(self, folder_name):\n",
    "        self.train = DTIDataset(folder_name, 0)\n",
    "        self.val = DTIDataset(folder_name, 1)\n",
    "        self.test = DTIDataset(folder_name, 2)\n",
    "\n",
    "    def train_dataloader(self):\n",
    "        \"\"\"\n",
    "        Create and return a dataloader for the training dataset.\n",
    "\n",
    "        Returns\n",
    "        -------\n",
    "        torch_geometric.loaders.DataLoader\n",
    "            Dataloader on the training dataset\n",
    "        \"\"\"\n",
    "        return DataLoader(self.train, batch_size=64, shuffle=True, follow_batch=[\"prot_x\", \"lig_x\"])\n",
    "\n",
    "    def val_dataloader(self):\n",
    "        \"\"\"\n",
    "        Create and return a dataloader for the validation dataset.\n",
    "\n",
    "        Returns\n",
    "        -------\n",
    "        torch_geometric.loaders.DataLoader\n",
    "            Dataloader on the validation dataset\n",
    "        \"\"\"\n",
    "        return DataLoader(self.val, batch_size=64, shuffle=True, follow_batch=[\"prot_x\", \"lig_x\"])\n",
    "\n",
    "    def test_dataloader(self):\n",
    "        \"\"\"\n",
    "        Create and return a dataloader for the test dataset.\n",
    "\n",
    "        Returns\n",
    "        -------\n",
    "        torch_geometric.loaders.DataLoader\n",
    "            Dataloader on the test dataset\n",
    "        \"\"\"\n",
    "        return DataLoader(self.test, batch_size=64, shuffle=True, follow_batch=[\"prot_x\", \"lig_x\"])"
   ]
  },
  {
   "cell_type": "markdown",
   "metadata": {},
   "source": [
    "### Network\n",
    "\n",
    "Here, we will implement the networks as defined in the theory section."
   ]
  },
  {
   "cell_type": "markdown",
   "metadata": {},
   "source": [
    "#### GNN Encoder\n",
    "\n",
    "First, the GNN encoder which we will use for both, embedding proteins and embedding ligands."
   ]
  },
  {
   "cell_type": "code",
   "execution_count": 11,
   "metadata": {},
   "outputs": [],
   "source": [
    "class Encoder(torch.nn.Module):\n",
    "    def __init__(self, input_dim, hidden_dim=128, output_dim=64, num_layers=3):\n",
    "        \"\"\"\n",
    "        Encoder to embed structural data using a stack of GINConv layers.\n",
    "\n",
    "        Arguments\n",
    "        ---------\n",
    "        input_dim: int\n",
    "            Size of the feature vector of the data\n",
    "        hidden_dim: int\n",
    "            Number of hidden neurons to use when computing the embeddings\n",
    "        output_dim: int\n",
    "            Size of the output vector of the final graph embedding after a final mean pooling\n",
    "        num_layers: int\n",
    "            Number of layers to use when computing embedding. This includes input and output layers, so values below 3 are meaningless.\n",
    "        \"\"\"\n",
    "        super().__init__()\n",
    "        self.layers = [\n",
    "            # define the input layer\n",
    "            GINConv(\n",
    "                nn.Sequential(\n",
    "                    nn.Linear(input_dim, hidden_dim),\n",
    "                    nn.PReLU(),\n",
    "                    nn.Linear(hidden_dim, hidden_dim),\n",
    "                    nn.BatchNorm1d(hidden_dim),\n",
    "                )\n",
    "            )\n",
    "        ] + [\n",
    "            # define a number of hidden layers\n",
    "            GINConv(\n",
    "                nn.Sequential(\n",
    "                    nn.Linear(hidden_dim, hidden_dim),\n",
    "                    nn.PReLU(),\n",
    "                    nn.Linear(hidden_dim, hidden_dim),\n",
    "                    nn.BatchNorm1d(hidden_dim),\n",
    "                )\n",
    "            )\n",
    "            for _ in range(num_layers - 2)\n",
    "        ] + [\n",
    "            # define the output layer\n",
    "            GINConv(\n",
    "                nn.Sequential(\n",
    "                    nn.Linear(hidden_dim, hidden_dim),\n",
    "                    nn.PReLU(),\n",
    "                    nn.Linear(hidden_dim, output_dim),\n",
    "                    nn.BatchNorm1d(output_dim),\n",
    "                )\n",
    "            )\n",
    "        ]\n",
    "\n",
    "    def forward(self, x, edge_index, batch):\n",
    "        \"\"\"\n",
    "        Forward a batch of samples through this network to compute the forward pass.\n",
    "\n",
    "        Arguments\n",
    "        ---------\n",
    "        x: torch.Tensor\n",
    "            feature matrices of the graphs forwarded through the network\n",
    "        edge_index: torch.Tensor\n",
    "            edge indices of the graphs forwarded through the network\n",
    "        batch: torch.Tensor\n",
    "            Some internally used information, not relevant for the topic of this talktorial\n",
    "        \"\"\"\n",
    "        for layer in self.layers:\n",
    "            x = layer(x=x, edge_index=edge_index)\n",
    "        pool = global_mean_pool(x, batch)\n",
    "        return F.normalize(pool, dim=1)"
   ]
  },
  {
   "cell_type": "markdown",
   "metadata": {},
   "source": [
    "#### Full Model\n",
    "\n",
    "Define the full model according to the workflow proposed in the theory section."
   ]
  },
  {
   "cell_type": "code",
   "execution_count": 12,
   "metadata": {},
   "outputs": [],
   "source": [
    "class DTINetwork(torch.nn.Module):\n",
    "    def __init__(self):\n",
    "        super().__init__()\n",
    "\n",
    "        # create encoders for both, proteins and ligands\n",
    "        self.prot_encoder = Encoder(21)\n",
    "        self.lig_encoder = Encoder(10)\n",
    "\n",
    "        # define a simple FNN to compute the final prediction (to bind or not to bind)\n",
    "        self.combine = torch.nn.Sequential(\n",
    "            torch.nn.Linear(128, 256),\n",
    "            torch.nn.ReLU(),\n",
    "            torch.nn.Dropout(0.2),\n",
    "\n",
    "            torch.nn.Linear(256, 64),\n",
    "            torch.nn.ReLU(),\n",
    "            torch.nn.Dropout(0.2),\n",
    "\n",
    "            torch.nn.Linear(64, 1),\n",
    "            torch.nn.Sigmoid(),\n",
    "        )\n",
    "\n",
    "    def forward(self, data):\n",
    "        \"\"\"\n",
    "        Define the standard forward process of this network.\n",
    "\n",
    "        Arguments\n",
    "        ---------\n",
    "        data: DTIDataPairBatch\n",
    "            A batch of DTIDataPair samples to be predicted to train on them\n",
    "\n",
    "        Returns\n",
    "        -------\n",
    "        Prediction values for all pairs in the input batch\n",
    "        \"\"\"\n",
    "        # compute the protein embeddings using the protein embedder on the protein data of the batch\n",
    "        prot_embed = self.prot_encoder(\n",
    "            x=data.prot_x,\n",
    "            edge_index=data.prot_edge_index,\n",
    "            batch=data.prot_x_batch,\n",
    "        )\n",
    "\n",
    "        # compute the ligand embeddings using the ligand embedder on the ligand data of the batch\n",
    "        lig_embed = self.lig_encoder(\n",
    "            x=data.lig_x,\n",
    "            edge_index=data.lig_edge_index,\n",
    "            batch=data.lig_x_batch,\n",
    "        )\n",
    "\n",
    "        # concatenate both embeddings and return the output of the FNN\n",
    "        combined = torch.cat((prot_embed, lig_embed), dim=1)\n",
    "        return self.combine(combined)"
   ]
  },
  {
   "cell_type": "markdown",
   "metadata": {},
   "source": [
    "### Training Routine"
   ]
  },
  {
   "cell_type": "code",
   "execution_count": 13,
   "metadata": {},
   "outputs": [],
   "source": [
    "def train(num_epochs=1):\n",
    "    \"\"\"\n",
    "    Implementation of the actual training routine.\n",
    "\n",
    "    Arguments\n",
    "    ---------\n",
    "    num_epochs: int\n",
    "        Number of epochs to train the model\n",
    "    \"\"\"\n",
    "    # load the data, model, and define the loss function\n",
    "    dataset = DTIDataModule(DATA / \"resources\")\n",
    "    model = DTINetwork()\n",
    "    loss_fn = torch.nn.BCELoss()\n",
    "    optimizer = Adam(model.parameters(), lr=0.0001)\n",
    "    epoch_train_acc, epoch_train_loss, epoch_val_acc, epoch_val_loss = [], [], [], []\n",
    "\n",
    "    # train for num_epochs\n",
    "    for e in range(num_epochs):\n",
    "        print(f\"Epoch {e + 1}/{num_epochs}\")\n",
    "\n",
    "        # perform the actual training\n",
    "        train_loader = dataset.train_dataloader()\n",
    "        for b, data in enumerate(train_loader):\n",
    "            # compute the models predictions and the loss\n",
    "            pred = model.forward(data).squeeze()\n",
    "            loss = loss_fn(pred, data.y.squeeze())\n",
    "\n",
    "            # perform one step of backpropagation\n",
    "            optimizer.zero_grad()\n",
    "            loss.backward()\n",
    "            optimizer.step()\n",
    "\n",
    "            # report some statistics on the training batch\n",
    "            pred = pred > 0.5\n",
    "            epoch_train_acc.append(sum(pred == data.y) / len(pred))\n",
    "            epoch_train_loss.append(loss.item())\n",
    "            print(f\"\\rTraining step {(b + 1)}/{len(train_loader)}: Loss: {epoch_train_loss[-1]:.5f}\\tAcc: {epoch_train_acc[-1]:.5f}\", end=\"\")\n",
    "\n",
    "        torch.save(model.state_dict(), DATA / f\"model_{e + 1}.pth\")\n",
    "\n",
    "        # perform validation of the last training epoch\n",
    "        val_loader = dataset.val_dataloader()\n",
    "        for b, data in enumerate(val_loader):\n",
    "            # compute the models predictions and the loss\n",
    "            pred = model.forward(data).squeeze()\n",
    "            loss = loss_fn(pred, data.y.squeeze())\n",
    "\n",
    "            # report some statistics on the validation batch\n",
    "            pred = pred > 0.5\n",
    "            epoch_val_acc.append(sum(pred == data.y) / len(pred))\n",
    "            epoch_val_loss.append(loss.item())\n",
    "            print(f\"\\rValidation step {(b + 1)}/{len(val_loader)}: Loss: {epoch_val_loss[-1]:.5f}\\tAcc: {epoch_val_acc[-1]:.5f}\", end=\"\")\n",
    "\n",
    "    # test the final model\n",
    "    print()\n",
    "    test_loss, test_acc = [], []\n",
    "    val_loader = dataset.test_dataloader()\n",
    "    for b, data in enumerate(val_loader):\n",
    "        # compute the models predictions and the loss\n",
    "        pred = model.forward(data).squeeze()\n",
    "        loss = loss_fn(pred, data.y.squeeze())\n",
    "\n",
    "        # report some statistics on the validation batch\n",
    "        pred = pred > 0.5\n",
    "        test_acc.append(sum(pred == data.y) / len(pred))\n",
    "        test_loss.append(loss.item())\n",
    "        print(f\"\\rTesting Loss: {test_loss[-1]:.5f}\\tAcc: {test_acc[-1]:.5f}\", end=\"\")\n",
    "    print(f\"\\rTesting: Loss: {(sum(test_loss) / len(test_loss)):.5f}\\tAcc: {(sum(test_acc) / len(test_acc)):.5f}\")\n",
    "    \n",
    "    fig, ax = plt.subplots(1, 2, figsize=(8, 4), sharey=True)\n",
    "    \n",
    "    ax[0].plot(epoch_train_loss, c=\"b\", label=\"Train\")\n",
    "    ax[0].plot(epoch_val_loss, c=\"r\", label=\"Val\")\n",
    "    ax[0].set_ylim([0, 1])\n",
    "    ax[0].title.set_text(\"Loss\")\n",
    "    \n",
    "    ax[1].plot(epoch_train_acc, c=\"b\", label=\"Train\")\n",
    "    ax[1].plot(epoch_val_acc, c=\"r\", label=\"Val\")\n",
    "    ax[1].set_ylim([0, 1])\n",
    "    ax[1].title.set_text(\"Accuracy\")\n",
    "    \n",
    "    plt.title(\"Training performance\")\n",
    "    plt.legend()\n",
    "    plt.savefig(DATA / \"images/train_perf.png\")\n",
    "    \n",
    "    return model"
   ]
  },
  {
   "cell_type": "code",
   "execution_count": 15,
   "metadata": {},
   "outputs": [
    {
     "name": "stdout",
     "output_type": "stream",
     "text": [
      "Epoch 1/1\n",
      "Validation step 64/64: Loss: 0.53275\tAcc: 0.79688\n",
      "Testing: Loss: 0.55621\tAcc: 0.76011\n"
     ]
    },
    {
     "ename": "FileNotFoundError",
     "evalue": "[Errno 2] No such file or directory: 'data2\\\\images\\\\train_perf.png'",
     "output_type": "error",
     "traceback": [
      "\u001B[1;31m---------------------------------------------------------------------------\u001B[0m",
      "\u001B[1;31mFileNotFoundError\u001B[0m                         Traceback (most recent call last)",
      "Input \u001B[1;32mIn [15]\u001B[0m, in \u001B[0;36m<cell line: 1>\u001B[1;34m()\u001B[0m\n\u001B[0;32m      1\u001B[0m \u001B[38;5;28;01mif\u001B[39;00m \u001B[38;5;129;01mnot\u001B[39;00m os\u001B[38;5;241m.\u001B[39mpath\u001B[38;5;241m.\u001B[39mexists(DATA \u001B[38;5;241m/\u001B[39m \u001B[38;5;124m\"\u001B[39m\u001B[38;5;124mfinal_model.pth\u001B[39m\u001B[38;5;124m\"\u001B[39m):\n\u001B[0;32m      2\u001B[0m     torch\u001B[38;5;241m.\u001B[39mmanual_seed(\u001B[38;5;241m42\u001B[39m)\n\u001B[1;32m----> 3\u001B[0m     model \u001B[38;5;241m=\u001B[39m \u001B[43mtrain\u001B[49m\u001B[43m(\u001B[49m\u001B[38;5;241;43m1\u001B[39;49m\u001B[43m)\u001B[49m\n\u001B[0;32m      4\u001B[0m     \u001B[38;5;66;03m# torch.save(model.state_dict(), DATA / \"final_model.pth\")\u001B[39;00m\n\u001B[0;32m      5\u001B[0m \u001B[38;5;28;01melse\u001B[39;00m:\n\u001B[0;32m      6\u001B[0m     model \u001B[38;5;241m=\u001B[39m DTINetwork()\n",
      "Input \u001B[1;32mIn [13]\u001B[0m, in \u001B[0;36mtrain\u001B[1;34m(num_epochs)\u001B[0m\n\u001B[0;32m     82\u001B[0m plt\u001B[38;5;241m.\u001B[39mtitle(\u001B[38;5;124m\"\u001B[39m\u001B[38;5;124mTraining performance\u001B[39m\u001B[38;5;124m\"\u001B[39m)\n\u001B[0;32m     83\u001B[0m plt\u001B[38;5;241m.\u001B[39mlegend()\n\u001B[1;32m---> 84\u001B[0m \u001B[43mplt\u001B[49m\u001B[38;5;241;43m.\u001B[39;49m\u001B[43msavefig\u001B[49m\u001B[43m(\u001B[49m\u001B[43mDATA\u001B[49m\u001B[43m \u001B[49m\u001B[38;5;241;43m/\u001B[39;49m\u001B[43m \u001B[49m\u001B[38;5;124;43m\"\u001B[39;49m\u001B[38;5;124;43mimages/train_perf.png\u001B[39;49m\u001B[38;5;124;43m\"\u001B[39;49m\u001B[43m)\u001B[49m\n\u001B[0;32m     86\u001B[0m \u001B[38;5;28;01mreturn\u001B[39;00m model\n",
      "File \u001B[1;32m~\\miniconda3\\envs\\teachopencadd\\lib\\site-packages\\matplotlib\\pyplot.py:954\u001B[0m, in \u001B[0;36msavefig\u001B[1;34m(*args, **kwargs)\u001B[0m\n\u001B[0;32m    951\u001B[0m \u001B[38;5;129m@_copy_docstring_and_deprecators\u001B[39m(Figure\u001B[38;5;241m.\u001B[39msavefig)\n\u001B[0;32m    952\u001B[0m \u001B[38;5;28;01mdef\u001B[39;00m \u001B[38;5;21msavefig\u001B[39m(\u001B[38;5;241m*\u001B[39margs, \u001B[38;5;241m*\u001B[39m\u001B[38;5;241m*\u001B[39mkwargs):\n\u001B[0;32m    953\u001B[0m     fig \u001B[38;5;241m=\u001B[39m gcf()\n\u001B[1;32m--> 954\u001B[0m     res \u001B[38;5;241m=\u001B[39m fig\u001B[38;5;241m.\u001B[39msavefig(\u001B[38;5;241m*\u001B[39margs, \u001B[38;5;241m*\u001B[39m\u001B[38;5;241m*\u001B[39mkwargs)\n\u001B[0;32m    955\u001B[0m     fig\u001B[38;5;241m.\u001B[39mcanvas\u001B[38;5;241m.\u001B[39mdraw_idle()  \u001B[38;5;66;03m# Need this if 'transparent=True', to reset colors.\u001B[39;00m\n\u001B[0;32m    956\u001B[0m     \u001B[38;5;28;01mreturn\u001B[39;00m res\n",
      "File \u001B[1;32m~\\miniconda3\\envs\\teachopencadd\\lib\\site-packages\\matplotlib\\figure.py:3274\u001B[0m, in \u001B[0;36mFigure.savefig\u001B[1;34m(self, fname, transparent, **kwargs)\u001B[0m\n\u001B[0;32m   3270\u001B[0m     \u001B[38;5;28;01mfor\u001B[39;00m ax \u001B[38;5;129;01min\u001B[39;00m \u001B[38;5;28mself\u001B[39m\u001B[38;5;241m.\u001B[39maxes:\n\u001B[0;32m   3271\u001B[0m         stack\u001B[38;5;241m.\u001B[39menter_context(\n\u001B[0;32m   3272\u001B[0m             ax\u001B[38;5;241m.\u001B[39mpatch\u001B[38;5;241m.\u001B[39m_cm_set(facecolor\u001B[38;5;241m=\u001B[39m\u001B[38;5;124m'\u001B[39m\u001B[38;5;124mnone\u001B[39m\u001B[38;5;124m'\u001B[39m, edgecolor\u001B[38;5;241m=\u001B[39m\u001B[38;5;124m'\u001B[39m\u001B[38;5;124mnone\u001B[39m\u001B[38;5;124m'\u001B[39m))\n\u001B[1;32m-> 3274\u001B[0m \u001B[38;5;28mself\u001B[39m\u001B[38;5;241m.\u001B[39mcanvas\u001B[38;5;241m.\u001B[39mprint_figure(fname, \u001B[38;5;241m*\u001B[39m\u001B[38;5;241m*\u001B[39mkwargs)\n",
      "File \u001B[1;32m~\\miniconda3\\envs\\teachopencadd\\lib\\site-packages\\matplotlib\\backend_bases.py:2338\u001B[0m, in \u001B[0;36mFigureCanvasBase.print_figure\u001B[1;34m(self, filename, dpi, facecolor, edgecolor, orientation, format, bbox_inches, pad_inches, bbox_extra_artists, backend, **kwargs)\u001B[0m\n\u001B[0;32m   2334\u001B[0m \u001B[38;5;28;01mtry\u001B[39;00m:\n\u001B[0;32m   2335\u001B[0m     \u001B[38;5;66;03m# _get_renderer may change the figure dpi (as vector formats\u001B[39;00m\n\u001B[0;32m   2336\u001B[0m     \u001B[38;5;66;03m# force the figure dpi to 72), so we need to set it again here.\u001B[39;00m\n\u001B[0;32m   2337\u001B[0m     \u001B[38;5;28;01mwith\u001B[39;00m cbook\u001B[38;5;241m.\u001B[39m_setattr_cm(\u001B[38;5;28mself\u001B[39m\u001B[38;5;241m.\u001B[39mfigure, dpi\u001B[38;5;241m=\u001B[39mdpi):\n\u001B[1;32m-> 2338\u001B[0m         result \u001B[38;5;241m=\u001B[39m print_method(\n\u001B[0;32m   2339\u001B[0m             filename,\n\u001B[0;32m   2340\u001B[0m             facecolor\u001B[38;5;241m=\u001B[39mfacecolor,\n\u001B[0;32m   2341\u001B[0m             edgecolor\u001B[38;5;241m=\u001B[39medgecolor,\n\u001B[0;32m   2342\u001B[0m             orientation\u001B[38;5;241m=\u001B[39morientation,\n\u001B[0;32m   2343\u001B[0m             bbox_inches_restore\u001B[38;5;241m=\u001B[39m_bbox_inches_restore,\n\u001B[0;32m   2344\u001B[0m             \u001B[38;5;241m*\u001B[39m\u001B[38;5;241m*\u001B[39mkwargs)\n\u001B[0;32m   2345\u001B[0m \u001B[38;5;28;01mfinally\u001B[39;00m:\n\u001B[0;32m   2346\u001B[0m     \u001B[38;5;28;01mif\u001B[39;00m bbox_inches \u001B[38;5;129;01mand\u001B[39;00m restore_bbox:\n",
      "File \u001B[1;32m~\\miniconda3\\envs\\teachopencadd\\lib\\site-packages\\matplotlib\\backend_bases.py:2204\u001B[0m, in \u001B[0;36mFigureCanvasBase._switch_canvas_and_return_print_method.<locals>.<lambda>\u001B[1;34m(*args, **kwargs)\u001B[0m\n\u001B[0;32m   2200\u001B[0m     optional_kws \u001B[38;5;241m=\u001B[39m {  \u001B[38;5;66;03m# Passed by print_figure for other renderers.\u001B[39;00m\n\u001B[0;32m   2201\u001B[0m         \u001B[38;5;124m\"\u001B[39m\u001B[38;5;124mdpi\u001B[39m\u001B[38;5;124m\"\u001B[39m, \u001B[38;5;124m\"\u001B[39m\u001B[38;5;124mfacecolor\u001B[39m\u001B[38;5;124m\"\u001B[39m, \u001B[38;5;124m\"\u001B[39m\u001B[38;5;124medgecolor\u001B[39m\u001B[38;5;124m\"\u001B[39m, \u001B[38;5;124m\"\u001B[39m\u001B[38;5;124morientation\u001B[39m\u001B[38;5;124m\"\u001B[39m,\n\u001B[0;32m   2202\u001B[0m         \u001B[38;5;124m\"\u001B[39m\u001B[38;5;124mbbox_inches_restore\u001B[39m\u001B[38;5;124m\"\u001B[39m}\n\u001B[0;32m   2203\u001B[0m     skip \u001B[38;5;241m=\u001B[39m optional_kws \u001B[38;5;241m-\u001B[39m {\u001B[38;5;241m*\u001B[39minspect\u001B[38;5;241m.\u001B[39msignature(meth)\u001B[38;5;241m.\u001B[39mparameters}\n\u001B[1;32m-> 2204\u001B[0m     print_method \u001B[38;5;241m=\u001B[39m functools\u001B[38;5;241m.\u001B[39mwraps(meth)(\u001B[38;5;28;01mlambda\u001B[39;00m \u001B[38;5;241m*\u001B[39margs, \u001B[38;5;241m*\u001B[39m\u001B[38;5;241m*\u001B[39mkwargs: meth(\n\u001B[0;32m   2205\u001B[0m         \u001B[38;5;241m*\u001B[39margs, \u001B[38;5;241m*\u001B[39m\u001B[38;5;241m*\u001B[39m{k: v \u001B[38;5;28;01mfor\u001B[39;00m k, v \u001B[38;5;129;01min\u001B[39;00m kwargs\u001B[38;5;241m.\u001B[39mitems() \u001B[38;5;28;01mif\u001B[39;00m k \u001B[38;5;129;01mnot\u001B[39;00m \u001B[38;5;129;01min\u001B[39;00m skip}))\n\u001B[0;32m   2206\u001B[0m \u001B[38;5;28;01melse\u001B[39;00m:  \u001B[38;5;66;03m# Let third-parties do as they see fit.\u001B[39;00m\n\u001B[0;32m   2207\u001B[0m     print_method \u001B[38;5;241m=\u001B[39m meth\n",
      "File \u001B[1;32m~\\miniconda3\\envs\\teachopencadd\\lib\\site-packages\\matplotlib\\_api\\deprecation.py:410\u001B[0m, in \u001B[0;36mdelete_parameter.<locals>.wrapper\u001B[1;34m(*inner_args, **inner_kwargs)\u001B[0m\n\u001B[0;32m    400\u001B[0m     deprecation_addendum \u001B[38;5;241m=\u001B[39m (\n\u001B[0;32m    401\u001B[0m         \u001B[38;5;124mf\u001B[39m\u001B[38;5;124m\"\u001B[39m\u001B[38;5;124mIf any parameter follows \u001B[39m\u001B[38;5;132;01m{\u001B[39;00mname\u001B[38;5;132;01m!r}\u001B[39;00m\u001B[38;5;124m, they should be passed as \u001B[39m\u001B[38;5;124m\"\u001B[39m\n\u001B[0;32m    402\u001B[0m         \u001B[38;5;124mf\u001B[39m\u001B[38;5;124m\"\u001B[39m\u001B[38;5;124mkeyword, not positionally.\u001B[39m\u001B[38;5;124m\"\u001B[39m)\n\u001B[0;32m    403\u001B[0m     warn_deprecated(\n\u001B[0;32m    404\u001B[0m         since,\n\u001B[0;32m    405\u001B[0m         name\u001B[38;5;241m=\u001B[39m\u001B[38;5;28mrepr\u001B[39m(name),\n\u001B[1;32m   (...)\u001B[0m\n\u001B[0;32m    408\u001B[0m                  \u001B[38;5;28;01melse\u001B[39;00m deprecation_addendum,\n\u001B[0;32m    409\u001B[0m         \u001B[38;5;241m*\u001B[39m\u001B[38;5;241m*\u001B[39mkwargs)\n\u001B[1;32m--> 410\u001B[0m \u001B[38;5;28;01mreturn\u001B[39;00m func(\u001B[38;5;241m*\u001B[39minner_args, \u001B[38;5;241m*\u001B[39m\u001B[38;5;241m*\u001B[39minner_kwargs)\n",
      "File \u001B[1;32m~\\miniconda3\\envs\\teachopencadd\\lib\\site-packages\\matplotlib\\backends\\backend_agg.py:517\u001B[0m, in \u001B[0;36mFigureCanvasAgg.print_png\u001B[1;34m(self, filename_or_obj, metadata, pil_kwargs, *args)\u001B[0m\n\u001B[0;32m    468\u001B[0m \u001B[38;5;129m@_api\u001B[39m\u001B[38;5;241m.\u001B[39mdelete_parameter(\u001B[38;5;124m\"\u001B[39m\u001B[38;5;124m3.5\u001B[39m\u001B[38;5;124m\"\u001B[39m, \u001B[38;5;124m\"\u001B[39m\u001B[38;5;124margs\u001B[39m\u001B[38;5;124m\"\u001B[39m)\n\u001B[0;32m    469\u001B[0m \u001B[38;5;28;01mdef\u001B[39;00m \u001B[38;5;21mprint_png\u001B[39m(\u001B[38;5;28mself\u001B[39m, filename_or_obj, \u001B[38;5;241m*\u001B[39margs,\n\u001B[0;32m    470\u001B[0m               metadata\u001B[38;5;241m=\u001B[39m\u001B[38;5;28;01mNone\u001B[39;00m, pil_kwargs\u001B[38;5;241m=\u001B[39m\u001B[38;5;28;01mNone\u001B[39;00m):\n\u001B[0;32m    471\u001B[0m     \u001B[38;5;124;03m\"\"\"\u001B[39;00m\n\u001B[0;32m    472\u001B[0m \u001B[38;5;124;03m    Write the figure to a PNG file.\u001B[39;00m\n\u001B[0;32m    473\u001B[0m \n\u001B[1;32m   (...)\u001B[0m\n\u001B[0;32m    515\u001B[0m \u001B[38;5;124;03m        *metadata*, including the default 'Software' key.\u001B[39;00m\n\u001B[0;32m    516\u001B[0m \u001B[38;5;124;03m    \"\"\"\u001B[39;00m\n\u001B[1;32m--> 517\u001B[0m     \u001B[38;5;28;43mself\u001B[39;49m\u001B[38;5;241;43m.\u001B[39;49m\u001B[43m_print_pil\u001B[49m\u001B[43m(\u001B[49m\u001B[43mfilename_or_obj\u001B[49m\u001B[43m,\u001B[49m\u001B[43m \u001B[49m\u001B[38;5;124;43m\"\u001B[39;49m\u001B[38;5;124;43mpng\u001B[39;49m\u001B[38;5;124;43m\"\u001B[39;49m\u001B[43m,\u001B[49m\u001B[43m \u001B[49m\u001B[43mpil_kwargs\u001B[49m\u001B[43m,\u001B[49m\u001B[43m \u001B[49m\u001B[43mmetadata\u001B[49m\u001B[43m)\u001B[49m\n",
      "File \u001B[1;32m~\\miniconda3\\envs\\teachopencadd\\lib\\site-packages\\matplotlib\\backends\\backend_agg.py:464\u001B[0m, in \u001B[0;36mFigureCanvasAgg._print_pil\u001B[1;34m(self, filename_or_obj, fmt, pil_kwargs, metadata)\u001B[0m\n\u001B[0;32m    459\u001B[0m \u001B[38;5;124;03m\"\"\"\u001B[39;00m\n\u001B[0;32m    460\u001B[0m \u001B[38;5;124;03mDraw the canvas, then save it using `.image.imsave` (to which\u001B[39;00m\n\u001B[0;32m    461\u001B[0m \u001B[38;5;124;03m*pil_kwargs* and *metadata* are forwarded).\u001B[39;00m\n\u001B[0;32m    462\u001B[0m \u001B[38;5;124;03m\"\"\"\u001B[39;00m\n\u001B[0;32m    463\u001B[0m FigureCanvasAgg\u001B[38;5;241m.\u001B[39mdraw(\u001B[38;5;28mself\u001B[39m)\n\u001B[1;32m--> 464\u001B[0m \u001B[43mmpl\u001B[49m\u001B[38;5;241;43m.\u001B[39;49m\u001B[43mimage\u001B[49m\u001B[38;5;241;43m.\u001B[39;49m\u001B[43mimsave\u001B[49m\u001B[43m(\u001B[49m\n\u001B[0;32m    465\u001B[0m \u001B[43m    \u001B[49m\u001B[43mfilename_or_obj\u001B[49m\u001B[43m,\u001B[49m\u001B[43m \u001B[49m\u001B[38;5;28;43mself\u001B[39;49m\u001B[38;5;241;43m.\u001B[39;49m\u001B[43mbuffer_rgba\u001B[49m\u001B[43m(\u001B[49m\u001B[43m)\u001B[49m\u001B[43m,\u001B[49m\u001B[43m \u001B[49m\u001B[38;5;28;43mformat\u001B[39;49m\u001B[38;5;241;43m=\u001B[39;49m\u001B[43mfmt\u001B[49m\u001B[43m,\u001B[49m\u001B[43m \u001B[49m\u001B[43morigin\u001B[49m\u001B[38;5;241;43m=\u001B[39;49m\u001B[38;5;124;43m\"\u001B[39;49m\u001B[38;5;124;43mupper\u001B[39;49m\u001B[38;5;124;43m\"\u001B[39;49m\u001B[43m,\u001B[49m\n\u001B[0;32m    466\u001B[0m \u001B[43m    \u001B[49m\u001B[43mdpi\u001B[49m\u001B[38;5;241;43m=\u001B[39;49m\u001B[38;5;28;43mself\u001B[39;49m\u001B[38;5;241;43m.\u001B[39;49m\u001B[43mfigure\u001B[49m\u001B[38;5;241;43m.\u001B[39;49m\u001B[43mdpi\u001B[49m\u001B[43m,\u001B[49m\u001B[43m \u001B[49m\u001B[43mmetadata\u001B[49m\u001B[38;5;241;43m=\u001B[39;49m\u001B[43mmetadata\u001B[49m\u001B[43m,\u001B[49m\u001B[43m \u001B[49m\u001B[43mpil_kwargs\u001B[49m\u001B[38;5;241;43m=\u001B[39;49m\u001B[43mpil_kwargs\u001B[49m\u001B[43m)\u001B[49m\n",
      "File \u001B[1;32m~\\miniconda3\\envs\\teachopencadd\\lib\\site-packages\\matplotlib\\image.py:1664\u001B[0m, in \u001B[0;36mimsave\u001B[1;34m(fname, arr, vmin, vmax, cmap, format, origin, dpi, metadata, pil_kwargs)\u001B[0m\n\u001B[0;32m   1662\u001B[0m pil_kwargs\u001B[38;5;241m.\u001B[39msetdefault(\u001B[38;5;124m\"\u001B[39m\u001B[38;5;124mformat\u001B[39m\u001B[38;5;124m\"\u001B[39m, \u001B[38;5;28mformat\u001B[39m)\n\u001B[0;32m   1663\u001B[0m pil_kwargs\u001B[38;5;241m.\u001B[39msetdefault(\u001B[38;5;124m\"\u001B[39m\u001B[38;5;124mdpi\u001B[39m\u001B[38;5;124m\"\u001B[39m, (dpi, dpi))\n\u001B[1;32m-> 1664\u001B[0m image\u001B[38;5;241m.\u001B[39msave(fname, \u001B[38;5;241m*\u001B[39m\u001B[38;5;241m*\u001B[39mpil_kwargs)\n",
      "File \u001B[1;32m~\\miniconda3\\envs\\teachopencadd\\lib\\site-packages\\PIL\\Image.py:2317\u001B[0m, in \u001B[0;36mImage.save\u001B[1;34m(self, fp, format, **params)\u001B[0m\n\u001B[0;32m   2315\u001B[0m         fp \u001B[38;5;241m=\u001B[39m builtins\u001B[38;5;241m.\u001B[39mopen(filename, \u001B[38;5;124m\"\u001B[39m\u001B[38;5;124mr+b\u001B[39m\u001B[38;5;124m\"\u001B[39m)\n\u001B[0;32m   2316\u001B[0m     \u001B[38;5;28;01melse\u001B[39;00m:\n\u001B[1;32m-> 2317\u001B[0m         fp \u001B[38;5;241m=\u001B[39m \u001B[43mbuiltins\u001B[49m\u001B[38;5;241;43m.\u001B[39;49m\u001B[43mopen\u001B[49m\u001B[43m(\u001B[49m\u001B[43mfilename\u001B[49m\u001B[43m,\u001B[49m\u001B[43m \u001B[49m\u001B[38;5;124;43m\"\u001B[39;49m\u001B[38;5;124;43mw+b\u001B[39;49m\u001B[38;5;124;43m\"\u001B[39;49m\u001B[43m)\u001B[49m\n\u001B[0;32m   2319\u001B[0m \u001B[38;5;28;01mtry\u001B[39;00m:\n\u001B[0;32m   2320\u001B[0m     save_handler(\u001B[38;5;28mself\u001B[39m, fp, filename)\n",
      "\u001B[1;31mFileNotFoundError\u001B[0m: [Errno 2] No such file or directory: 'data2\\\\images\\\\train_perf.png'"
     ]
    },
    {
     "data": {
      "text/plain": "<Figure size 800x400 with 2 Axes>",
      "image/png": "[encoded data removed]"
     },
     "metadata": {},
     "output_type": "display_data"
    }
   ],
   "source": [
    "if not os.path.exists(DATA / \"final_model.pth\"):\n",
    "    torch.manual_seed(42)\n",
    "    model = train(1)\n",
    "    # torch.save(model.state_dict(), DATA / \"final_model.pth\")\n",
    "else:\n",
    "    model = DTINetwork()\n",
    "    model.load_state_dict(torch.load(DATA / \"final_model.pth\"))\n",
    "    model.eval()"
   ]
  },
  {
   "cell_type": "markdown",
   "metadata": {},
   "source": [
    "![TrainGraph](./images/train_perf.png)\n",
    "\n",
    "*Figure 3:*\n",
    "TDB"
   ]
  },
  {
   "cell_type": "markdown",
   "metadata": {},
   "source": [
    "## Discussion\n",
    "\n",
    "Wrap up the talktorial's content here and discuss pros/cons and open questions/challenges."
   ]
  },
  {
   "cell_type": "markdown",
   "metadata": {},
   "source": [
    "## Quiz\n",
    "\n",
    "With this quiz you can test if you unterstand the important lessons of this talktorial.\n",
    "\n",
    "1. Why do we use structual data instead of amino acid sequences and SMILES strings?\n",
    "2. How do we convert proteins into graphs? What are the essential parts of proteins we use for that?\n",
    "3. Difficult: Why do we need to implement our own class to represent data points?"
   ]
  },
  {
   "cell_type": "markdown",
   "metadata": {},
   "source": [
    "<div class=\"alert alert-block alert-info\">\n",
    "\n",
    "<b>Useful checks at the end</b>: \n",
    "    \n",
    "<ul>\n",
    "<li>Clear output and rerun your complete notebook. Does it finish without errors?</li>\n",
    "<li>Check if your talktorial's runtime is as excepted. If not, try to find out which step(s) take unexpectedly long.</li>\n",
    "<li>Flag code cells with <code># NBVAL_CHECK_OUTPUT</code> that have deterministic output and should be tested within our Continuous Integration (CI) framework.</li>\n",
    "</ul>\n",
    "\n",
    "</div>"
   ]
  },
  {
   "cell_type": "code",
   "execution_count": null,
   "metadata": {},
   "outputs": [],
   "source": []
  }
 ],
 "metadata": {
  "kernelspec": {
   "display_name": "Python 3 (ipykernel)",
   "language": "python",
   "name": "python3"
  },
  "language_info": {
   "codemirror_mode": {
    "name": "ipython",
    "version": 3
   },
   "file_extension": ".py",
   "mimetype": "text/x-python",
   "name": "python",
   "nbconvert_exporter": "python",
   "pygments_lexer": "ipython3",
   "version": "3.9.15"
  },
  "widgets": {
   "application/vnd.jupyter.widget-state+json": {
    "state": {},
    "version_major": 2,
    "version_minor": 0
   }
  }
 },
 "nbformat": 4,
 "nbformat_minor": 4
}
