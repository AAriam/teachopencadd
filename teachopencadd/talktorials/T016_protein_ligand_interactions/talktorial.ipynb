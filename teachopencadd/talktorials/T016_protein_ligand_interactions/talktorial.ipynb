{
 "cells": [
  {
   "cell_type": "markdown",
   "metadata": {},
   "source": [
    "# T016 · Protein-ligand interactions\n",
    "\n",
    "Authors:\n",
    "\n",
    "- Jaime Rodríguez-Guerra, [Volkamer lab](https://volkamerlab.org)\n",
    "- Michele Wichmann, 2019-2020, Charité/FU Berlin\n",
    "- Yonghui Chen, [Volkamer lab](https://volkamerlab.org)\n",
    "- Talia B. Kimber, [Volkamer lab](https://volkamerlab.org)\n",
    "- Andrea Volkamer, [Volkamer lab](https://volkamerlab.org)"
   ]
  },
  {
   "cell_type": "markdown",
   "metadata": {},
   "source": [
    "## Aim of this talktorial\n",
    "\n",
    "In this talktorial, we focus on protein-ligand interactions. Understanding such interactions, which are driving molecular recognition, are fundamental in drug design.\n",
    "\n",
    "To this end, we use two Python tools: the first one, called the Protein–Ligand Interaction Profiler, or [PLIP](https://doi.org/10.1093/nar/gkv315), to get insight into protein-ligand interactions for any sample complex and the second, [NGLView](https://doi.org/10.1093/bioinformatics/btx789), to visualize the interactions in 3D."
   ]
  },
  {
   "cell_type": "markdown",
   "metadata": {},
   "source": [
    "### Contents in _Theory_\n",
    "\n",
    "- Protein-ligand interactions\n",
    "- PLIP: Protein–Ligand Interaction Profiler\n",
    "    - Web service\n",
    "    - Algorithm\n",
    "- Visualization: complex and interactions"
   ]
  },
  {
   "cell_type": "markdown",
   "metadata": {},
   "source": [
    "### Contents in _Practical_\n",
    "\n",
    "- PDB complex: example with EGFR\n",
    "- Profiling protein-ligand interactions using PLIP\n",
    "- Table of interaction types\n",
    "- Visualization with NGLView\n",
    "    - Analysis of interactions"
   ]
  },
  {
   "cell_type": "markdown",
   "metadata": {},
   "source": [
    "### References\n",
    "\n",
    "- Review on protein-ligand interactions ([_Int. J. Mol. Sci._ (2016), __17__, 144](https://www.mdpi.com/1422-0067/17/2/144))\n",
    "- A systematic analysis of non-covalent interactions in the PDB database ([_M. Med. Chem. Commun._ (2017), __8__, 1970-1981](https://pubs.rsc.org/en/content/articlelanding/2017/md/c7md00381a#!divAbstract))\n",
    "- A chapter about how protein–ligand interactions are key for drug action (in [Klebe G. (eds) Drug Design. Springer, Berlin, Heidelberg.](https://link.springer.com/referenceworkentry/10.1007%2F978-3-642-17907-5_4))\n",
    "* NGLView, the interactive visualizer for Jupyter notebooks ([_Bioinformatics_ (2018), __34__, 1241–124](https://doi.org/10.1093/bioinformatics/btx789))\n",
    "* PLIP, the Protein–Ligand Interaction Profiler ([_Nucl. Acids Res._ (2015), __43__, W1, W443-W447](https://academic.oup.com/nar/article/43/W1/W443/2467865))"
   ]
  },
  {
   "cell_type": "markdown",
   "metadata": {},
   "source": [
    "## Theory"
   ]
  },
  {
   "cell_type": "markdown",
   "metadata": {},
   "source": [
    "### Protein-ligand interactions\n",
    "\n",
    "Ligand binding is mainly governed by non-covalent interactions between the ligand and the surface of the protein pocket or protein-protein interface. This process is a function of electrostatic and shape complementarities, induces fitting, desolvation processes and more.\n",
    "\n",
    "Some quotes from the literature:\n",
    "\n",
    "Adapted from [José L. Medina-Franco, Oscar Méndez-Lucio, Karina Martinez-Mayorga](https://www.sciencedirect.com/science/article/pii/S1876162314000029):\n",
    "\n",
    "> Understanding protein–ligand interactions (PLIs) and protein–protein interactions (PPIs) is at the core of molecular recognition and has a fundamental role in many scientific areas. PLIs and PPIs have a broad area of practical applications in drug discovery including but not limited to molecular docking, structure-based design, virtual screening of molecular fragments, small molecules, and other types of compounds, clustering of complexes, and structural interpretation of activity cliffs, to name a few."
   ]
  },
  {
   "cell_type": "markdown",
   "metadata": {},
   "source": [
    "These interactions can be rationalized in several ways, which opens the door to systematic analysis of the docking solutions."
   ]
  },
  {
   "cell_type": "markdown",
   "metadata": {},
   "source": [
    "![protein ligand non-covalent interactions](images/protein_ligand_non_covalent.gif)\n",
    "\n",
    "_Figure 1_ : **Frequency of non-colavent interactions.** Out of 750,873 ligand–protein atom pairs extracted from complexes from the PDB data base, the 100 most frequent pairs can be grouped into seven interaction types, as shown in the figure (taken from the paper by de Freitas, Renato Ferreira, and Matthieu Schapira, [A systematic analysis of atomic protein–ligand interactions in the PDB](https://doi.org/10.1039/C7MD00381A))."
   ]
  },
  {
   "cell_type": "markdown",
   "metadata": {},
   "source": [
    "There are several programs to assess protein-ligand interactions in an automated way.\n",
    "\n",
    "For example, the Kinase-Ligand Interaction Fingerprints and Structures database (KLIFS) is a kinase centric tool with a freely available web service, which can be found on https://klifs.net/.\n",
    "More details can be found in talktorial 12,  \"Data acquisition from KLIFS\"."
   ]
  },
  {
   "cell_type": "markdown",
   "metadata": {},
   "source": [
    "### PLIP: Protein–Ligand Interaction Profiler"
   ]
  },
  {
   "cell_type": "markdown",
   "metadata": {},
   "source": [
    "For a more general set of proteins, [PLIP](https://plip.biotec.tu-dresden.de/plip-web/plip/index) is also popular thanks to its publicly available webserver and free-to-use Python library."
   ]
  },
  {
   "cell_type": "markdown",
   "metadata": {},
   "source": [
    "#### PLIP: web service\n",
    "\n",
    "The PLIP web service is a freely available tool which allows to exhibit protein-ligand interactions from any PDB structure as shown in the figure below."
   ]
  },
  {
   "cell_type": "markdown",
   "metadata": {},
   "source": [
    "![aromatic interaction](images/3POZ_PLIP.png)\n",
    "\n",
    "_Figure 2_ : **Visualization of protein-ligand interactions generated by the PLIP web service.** The example displays the EGFR kinase in complex, with associated PDB ID [3POZ](10.2210/pdb3poz/pdb). The figure, a snapshot from the [web service](https://projects.biotec.tu-dresden.de/plip-web/plip/result/895de9d1-7cd9-4d6d-be70-708919c79593), shows\n",
    "- the 3D plot of the protein and the ligand and the different interactions types (see legend on the right).\n",
    "\n",
    "\n",
    "- a table describing the hydrophobic interactions between atoms from the protein and the ligand."
   ]
  },
  {
   "cell_type": "markdown",
   "metadata": {},
   "source": [
    "#### PLIP: algorithm\n",
    "\n",
    "For each binding site, the PLIP algorithm considers the atoms from the protein and the ligand only if they lie within a certain distance cutoff, which equals the maximum distance between the centroid of the ligand and a ligand atom. \n",
    "\n",
    "Once the atoms from the protein and ligand are identified, non-covalent interactions can be detected, such as:\n",
    "\n",
    "- hydrophobic interactions\n",
    "- hydrogen bonds\n",
    "- aromatic stacking\n",
    "- pi-cation interactions\n",
    "- salt bridges\n",
    "- water-bridged hydrogen bonds\n",
    "- halogen bonds\n",
    "\n",
    "They are defined using geometry rules, such as distance and angle thresholds."
   ]
  },
  {
   "cell_type": "markdown",
   "metadata": {},
   "source": [
    "The [supporting information](https://www.ncbi.nlm.nih.gov/pmc/articles/PMC4489249/bin/supp_gkv315_nar-00254-web-b-2015-File003.pdf) accompanying the manuscript describes protein-ligand interactions in a simple way that is very easy to understand. The PDF document is shown below. "
   ]
  },
  {
   "cell_type": "code",
   "execution_count": null,
   "metadata": {},
   "outputs": [],
   "source": [
    "from teachopencadd.utils import show_pdf"
   ]
  },
  {
   "cell_type": "code",
   "execution_count": null,
   "metadata": {},
   "outputs": [],
   "source": [
    "pdf = \"https://www.ncbi.nlm.nih.gov/pmc/articles/PMC4489249/bin/supp_gkv315_nar-00254-web-b-2015-File003.pdf\"\n",
    "show_pdf(pdf)"
   ]
  },
  {
   "cell_type": "markdown",
   "metadata": {},
   "source": [
    "### Visualization: complex and interactions\n",
    "\n",
    "We will use `nglview` for visualization. It's a [web-based molecular viewer](https://doi.org/10.1093/bioinformatics/btx789) that can be run on Jupyter notebooks. We will first use it in a basic way to visualize a complex of interest. And then we will make use of `ipywidgets` layouts to visualize protein-ligand interactions."
   ]
  },
  {
   "cell_type": "markdown",
   "metadata": {},
   "source": [
    "## Practical"
   ]
  },
  {
   "cell_type": "code",
   "execution_count": 3,
   "metadata": {},
   "outputs": [
    {
     "data": {
      "application/vnd.jupyter.widget-view+json": {
       "model_id": "fbfee70ec3c1469a80831c6e171271c5",
       "version_major": 2,
       "version_minor": 0
      },
      "text/plain": []
     },
     "metadata": {},
     "output_type": "display_data"
    }
   ],
   "source": [
    "# imports\n",
    "from pathlib import Path\n",
    "from warnings import filterwarnings\n",
    "import time\n",
    "import pandas as pd\n",
    "import nglview as nv\n",
    "import openbabel\n",
    "import numpy as np\n",
    "import matplotlib.pyplot as plt\n",
    "from matplotlib import colors\n",
    "\n",
    "from plip.structure.preparation import PDBComplex\n",
    "from plip.exchange.report import BindingSiteReport"
   ]
  },
  {
   "cell_type": "code",
   "execution_count": 4,
   "metadata": {},
   "outputs": [],
   "source": [
    "# Absolute path\n",
    "HERE = Path(_dh[-1])\n",
    "DATA = HERE / \"data\""
   ]
  },
  {
   "cell_type": "markdown",
   "metadata": {},
   "source": [
    "### PDB complex: example with EGFR"
   ]
  },
  {
   "cell_type": "markdown",
   "metadata": {},
   "source": [
    "As a test case for this notebook, we choose the EGFR kinase. The PDB that will be looked into is given by the ID [3POZ](10.2210/pdb3poz/pdb). Let's use `nglview` to vizualise the structure in a notebook cell.\n",
    "\n",
    "_Note_: the complex can easily be changed by adapting the PDB ID in the cell below."
   ]
  },
  {
   "cell_type": "code",
   "execution_count": 5,
   "metadata": {},
   "outputs": [],
   "source": [
    "pdb_id = \"3poz\""
   ]
  },
  {
   "cell_type": "code",
   "execution_count": 6,
   "metadata": {},
   "outputs": [
    {
     "data": {
      "application/vnd.jupyter.widget-view+json": {
       "model_id": "ed8300aadc5d40c8b4f1cd2cba26da25",
       "version_major": 2,
       "version_minor": 0
      },
      "text/plain": [
       "NGLWidget()"
      ]
     },
     "metadata": {},
     "output_type": "display_data"
    }
   ],
   "source": [
    "ngl_viewer = nv.show_pdbid(pdb_id) # show the complex based on PDB ID\n",
    "ngl_viewer.center(\"ligand\") # center on binding site\n",
    "ngl_viewer # TODO: CI"
   ]
  },
  {
   "cell_type": "markdown",
   "metadata": {},
   "source": [
    "### Profiling protein-ligand interactions using PLIP"
   ]
  },
  {
   "cell_type": "markdown",
   "metadata": {},
   "source": [
    "PLIP offers [a webserver](https://projects.biotec.tu-dresden.de/plip-web/plip) for automated analysis, but unfortunately there is no API. We could try to use the HTML forms as if we were using the standard web UI, but since the library itself is Python-3 ready and very easy to install with `pip`, we can just use it locally for simplicity."
   ]
  },
  {
   "cell_type": "markdown",
   "metadata": {},
   "source": [
    "**Installation**\n",
    "\n",
    "Let's install a working version of PLIP. In a terminal with the `teachopencadd` environment activated, type :\n",
    "\n",
    "\n",
    "`(teachopencadd) $ conda remove --force plip`\n",
    "\n",
    "`(teachopencadd) $ pip install -U https://github.com/pharmai/plip/archive/development.tar.gz --no-deps`"
   ]
  },
  {
   "cell_type": "markdown",
   "metadata": {},
   "source": [
    "PLIP takes PDB files as input, so we can pass the PDB file to PLIP and let it do its magic. The `BindingSiteReport` class processes each detected binding site in `PDBComplex` and creates an object with the (eight) fields we are interested in, namely\n",
    "\n",
    "- hydrophobic interaction : `hydrophobic`\n",
    "- hydrogen bond : `hbond`\n",
    "- water bridge : `waterbridge`\n",
    "- salt bridge : `saltbridge`\n",
    "- $\\pi$-stacking (parallel and perpendicular) : `pistacking`\n",
    "- $\\pi$- cation : `pication`\n",
    "- halogen bond : `halogen`\n",
    "- metal complexation : `metal`\n",
    "\n",
    "\n",
    "These fields are divided in `<field>_features` (containing column names) and `<field>_info` (containing the actual records). If we iterate over the object retrieving the correct attribute name with `getattr()`, we can compose a dictionary that can be passed to a `pandas.DataFrame` for nice overviews."
   ]
  },
  {
   "cell_type": "markdown",
   "metadata": {},
   "source": [
    "This dictionary is composed of two levels:\n",
    "\n",
    "- First level is the detected binding sites.\n",
    "\n",
    "- For each binding site, we have one more sub-dictionary containing eight lists, one for each specific interaction. Each list will contain the column names in the first row, and the data (if available) in the following."
   ]
  },
  {
   "cell_type": "code",
   "execution_count": 7,
   "metadata": {},
   "outputs": [],
   "source": [
    "def analyze_interactions(pdb_file):\n",
    "    \"\"\"\n",
    "    Retrieves the interactions from PLIP.\n",
    "    \n",
    "    Parameters\n",
    "    ----------\n",
    "    pdb_file : \n",
    "            The PDB file of the complex.\n",
    "            \n",
    "    Returns\n",
    "    -------\n",
    "    dict :\n",
    "            A dictionary of the binding sites and the interactions.\n",
    "    \"\"\"\n",
    "    protlig = PDBComplex()\n",
    "    protlig.load_pdb(pdb_file)  # load the pdb file\n",
    "    for ligand in protlig.ligands:\n",
    "        protlig.characterize_complex(ligand)  # find ligands and analyze interactions\n",
    "    sites = {}\n",
    "    for key, site in sorted(protlig.interaction_sets.items()):\n",
    "        binding_site = BindingSiteReport(site)  # collect data about interactions\n",
    "        # tuples of *_features and *_info will be converted to pandas data frame\n",
    "        keys = (\n",
    "            \"hydrophobic\",\n",
    "            \"hbond\",\n",
    "            \"waterbridge\",\n",
    "            \"saltbridge\",\n",
    "            \"pistacking\",\n",
    "            \"pication\",\n",
    "            \"halogen\",\n",
    "            \"metal\",\n",
    "        )\n",
    "        interactions = {\n",
    "            k: [getattr(binding_site, k + \"_features\")] + getattr(binding_site, k + \"_info\")\n",
    "            for k in keys\n",
    "        }\n",
    "        sites[key] = interactions\n",
    "    return sites"
   ]
  },
  {
   "cell_type": "markdown",
   "metadata": {},
   "source": [
    "We create the dictionary for the complex of interest:"
   ]
  },
  {
   "cell_type": "code",
   "execution_count": 8,
   "metadata": {},
   "outputs": [],
   "source": [
    "interactions_by_site = analyze_interactions(f\"{DATA}/{pdb_id}.pdb\")"
   ]
  },
  {
   "cell_type": "markdown",
   "metadata": {},
   "source": [
    "Let's see how many binding sites are detected:"
   ]
  },
  {
   "cell_type": "code",
   "execution_count": 9,
   "metadata": {},
   "outputs": [
    {
     "name": "stdout",
     "output_type": "stream",
     "text": [
      "Number of binding sites detected in 3poz : \n",
      " 4\n"
     ]
    }
   ],
   "source": [
    "print(f\"Number of binding sites detected in {pdb_id} : \\n \"\n",
    "      f\"{len(interactions_by_site)}\"\n",
    "     )  # TODO: CI"
   ]
  },
  {
   "cell_type": "markdown",
   "metadata": {},
   "source": [
    "### Table of interaction types"
   ]
  },
  {
   "cell_type": "markdown",
   "metadata": {},
   "source": [
    "We can construct a `pandas.DataFrame` for a binding site and particular interaction type."
   ]
  },
  {
   "cell_type": "code",
   "execution_count": 10,
   "metadata": {},
   "outputs": [],
   "source": [
    "def create_df_from_binding_site(binding_site_id,\n",
    "                                interaction_type=\"hydrophobic\"):\n",
    "    \"\"\"\n",
    "    Creates a data frame from a binding site and interaction type.\n",
    "    \n",
    "    Parameters\n",
    "    ----------\n",
    "    binding_site_id : str\n",
    "        The binding site of interest.\n",
    "    interaction_type : str, optional\n",
    "        The interaction type of interest (default set to hydrogen bond).\n",
    "        \n",
    "    Returns\n",
    "    -------\n",
    "    DataFrame : \n",
    "        Data frame with information retrieved from PLIP.\n",
    "    \"\"\"\n",
    "    df = pd.DataFrame.from_records(\n",
    "    # data is stored AFTER the column names\n",
    "    interactions_by_site[binding_site_id][interaction_type][1:],\n",
    "    # column names are always the first element\n",
    "    columns=interactions_by_site[binding_site_id][interaction_type][0],  \n",
    "    )  \n",
    "    return df"
   ]
  },
  {
   "cell_type": "markdown",
   "metadata": {},
   "source": [
    "#### Hydrophobic interactions"
   ]
  },
  {
   "cell_type": "markdown",
   "metadata": {},
   "source": [
    "In the next cell, we show the hydrophobic interactions from the first detected binding site."
   ]
  },
  {
   "cell_type": "code",
   "execution_count": 11,
   "metadata": {},
   "outputs": [
    {
     "data": {
      "text/html": [
       "<div>\n",
       "<style scoped>\n",
       "    .dataframe tbody tr th:only-of-type {\n",
       "        vertical-align: middle;\n",
       "    }\n",
       "\n",
       "    .dataframe tbody tr th {\n",
       "        vertical-align: top;\n",
       "    }\n",
       "\n",
       "    .dataframe thead th {\n",
       "        text-align: right;\n",
       "    }\n",
       "</style>\n",
       "<table border=\"1\" class=\"dataframe\">\n",
       "  <thead>\n",
       "    <tr style=\"text-align: right;\">\n",
       "      <th></th>\n",
       "      <th>RESNR</th>\n",
       "      <th>RESTYPE</th>\n",
       "      <th>RESCHAIN</th>\n",
       "      <th>RESNR_LIG</th>\n",
       "      <th>RESTYPE_LIG</th>\n",
       "      <th>RESCHAIN_LIG</th>\n",
       "      <th>DIST</th>\n",
       "      <th>LIGCARBONIDX</th>\n",
       "      <th>PROTCARBONIDX</th>\n",
       "      <th>LIGCOO</th>\n",
       "      <th>PROTCOO</th>\n",
       "    </tr>\n",
       "  </thead>\n",
       "  <tbody>\n",
       "    <tr>\n",
       "      <th>0</th>\n",
       "      <td>745</td>\n",
       "      <td>LYS</td>\n",
       "      <td>A</td>\n",
       "      <td>1023</td>\n",
       "      <td>03P</td>\n",
       "      <td>A</td>\n",
       "      <td>3.91</td>\n",
       "      <td>2399</td>\n",
       "      <td>320</td>\n",
       "      <td>(18.317, 32.25, 10.052)</td>\n",
       "      <td>(20.469, 34.989, 8.267)</td>\n",
       "    </tr>\n",
       "    <tr>\n",
       "      <th>1</th>\n",
       "      <td>788</td>\n",
       "      <td>LEU</td>\n",
       "      <td>A</td>\n",
       "      <td>1023</td>\n",
       "      <td>03P</td>\n",
       "      <td>A</td>\n",
       "      <td>3.66</td>\n",
       "      <td>2384</td>\n",
       "      <td>595</td>\n",
       "      <td>(18.404, 30.743, 6.486)</td>\n",
       "      <td>(18.317, 33.573, 4.169)</td>\n",
       "    </tr>\n",
       "    <tr>\n",
       "      <th>2</th>\n",
       "      <td>790</td>\n",
       "      <td>THR</td>\n",
       "      <td>A</td>\n",
       "      <td>1023</td>\n",
       "      <td>03P</td>\n",
       "      <td>A</td>\n",
       "      <td>3.80</td>\n",
       "      <td>2398</td>\n",
       "      <td>611</td>\n",
       "      <td>(16.476, 34.203, 10.862)</td>\n",
       "      <td>(12.875, 33.449, 9.914)</td>\n",
       "    </tr>\n",
       "    <tr>\n",
       "      <th>3</th>\n",
       "      <td>854</td>\n",
       "      <td>THR</td>\n",
       "      <td>A</td>\n",
       "      <td>1023</td>\n",
       "      <td>03P</td>\n",
       "      <td>A</td>\n",
       "      <td>3.82</td>\n",
       "      <td>2383</td>\n",
       "      <td>1138</td>\n",
       "      <td>(18.135, 32.543, 11.422)</td>\n",
       "      <td>(17.798, 28.992, 12.797)</td>\n",
       "    </tr>\n",
       "    <tr>\n",
       "      <th>4</th>\n",
       "      <td>858</td>\n",
       "      <td>LEU</td>\n",
       "      <td>A</td>\n",
       "      <td>1023</td>\n",
       "      <td>03P</td>\n",
       "      <td>A</td>\n",
       "      <td>3.93</td>\n",
       "      <td>2384</td>\n",
       "      <td>1167</td>\n",
       "      <td>(18.404, 30.743, 6.486)</td>\n",
       "      <td>(22.084, 30.736, 5.093)</td>\n",
       "    </tr>\n",
       "  </tbody>\n",
       "</table>\n",
       "</div>"
      ],
      "text/plain": [
       "   RESNR RESTYPE RESCHAIN  RESNR_LIG RESTYPE_LIG RESCHAIN_LIG  DIST  \\\n",
       "0    745     LYS        A       1023         03P            A  3.91   \n",
       "1    788     LEU        A       1023         03P            A  3.66   \n",
       "2    790     THR        A       1023         03P            A  3.80   \n",
       "3    854     THR        A       1023         03P            A  3.82   \n",
       "4    858     LEU        A       1023         03P            A  3.93   \n",
       "\n",
       "   LIGCARBONIDX  PROTCARBONIDX                    LIGCOO  \\\n",
       "0          2399            320   (18.317, 32.25, 10.052)   \n",
       "1          2384            595   (18.404, 30.743, 6.486)   \n",
       "2          2398            611  (16.476, 34.203, 10.862)   \n",
       "3          2383           1138  (18.135, 32.543, 11.422)   \n",
       "4          2384           1167   (18.404, 30.743, 6.486)   \n",
       "\n",
       "                    PROTCOO  \n",
       "0   (20.469, 34.989, 8.267)  \n",
       "1   (18.317, 33.573, 4.169)  \n",
       "2   (12.875, 33.449, 9.914)  \n",
       "3  (17.798, 28.992, 12.797)  \n",
       "4   (22.084, 30.736, 5.093)  "
      ]
     },
     "execution_count": 11,
     "metadata": {},
     "output_type": "execute_result"
    }
   ],
   "source": [
    "create_df_from_binding_site(list(interactions_by_site.keys())[0],\n",
    "                            interaction_type=\"hydrophobic\")\n",
    "# TODO: CI"
   ]
  },
  {
   "cell_type": "markdown",
   "metadata": {},
   "source": [
    "As you can notice, this table matches the figure in the _Theory_ part of the notebook."
   ]
  },
  {
   "cell_type": "markdown",
   "metadata": {},
   "source": [
    "#### Hydrogen interactions"
   ]
  },
  {
   "cell_type": "markdown",
   "metadata": {},
   "source": [
    "If hydrogen interactions are of interest, the table can be generated as follow:"
   ]
  },
  {
   "cell_type": "code",
   "execution_count": 12,
   "metadata": {},
   "outputs": [
    {
     "data": {
      "text/html": [
       "<div>\n",
       "<style scoped>\n",
       "    .dataframe tbody tr th:only-of-type {\n",
       "        vertical-align: middle;\n",
       "    }\n",
       "\n",
       "    .dataframe tbody tr th {\n",
       "        vertical-align: top;\n",
       "    }\n",
       "\n",
       "    .dataframe thead th {\n",
       "        text-align: right;\n",
       "    }\n",
       "</style>\n",
       "<table border=\"1\" class=\"dataframe\">\n",
       "  <thead>\n",
       "    <tr style=\"text-align: right;\">\n",
       "      <th></th>\n",
       "      <th>RESNR</th>\n",
       "      <th>RESTYPE</th>\n",
       "      <th>RESCHAIN</th>\n",
       "      <th>RESNR_LIG</th>\n",
       "      <th>RESTYPE_LIG</th>\n",
       "      <th>RESCHAIN_LIG</th>\n",
       "      <th>SIDECHAIN</th>\n",
       "      <th>DIST_H-A</th>\n",
       "      <th>DIST_D-A</th>\n",
       "      <th>DON_ANGLE</th>\n",
       "      <th>PROTISDON</th>\n",
       "      <th>DONORIDX</th>\n",
       "      <th>DONORTYPE</th>\n",
       "      <th>ACCEPTORIDX</th>\n",
       "      <th>ACCEPTORTYPE</th>\n",
       "      <th>LIGCOO</th>\n",
       "      <th>PROTCOO</th>\n",
       "    </tr>\n",
       "  </thead>\n",
       "  <tbody>\n",
       "    <tr>\n",
       "      <th>0</th>\n",
       "      <td>793</td>\n",
       "      <td>MET</td>\n",
       "      <td>A</td>\n",
       "      <td>1023</td>\n",
       "      <td>03P</td>\n",
       "      <td>A</td>\n",
       "      <td>False</td>\n",
       "      <td>2.01</td>\n",
       "      <td>2.96</td>\n",
       "      <td>163.57</td>\n",
       "      <td>True</td>\n",
       "      <td>629</td>\n",
       "      <td>Nam</td>\n",
       "      <td>2405</td>\n",
       "      <td>Nar</td>\n",
       "      <td>(13.371, 34.064, 15.005)</td>\n",
       "      <td>(10.667, 33.654, 16.145)</td>\n",
       "    </tr>\n",
       "  </tbody>\n",
       "</table>\n",
       "</div>"
      ],
      "text/plain": [
       "   RESNR RESTYPE RESCHAIN  RESNR_LIG RESTYPE_LIG RESCHAIN_LIG  SIDECHAIN  \\\n",
       "0    793     MET        A       1023         03P            A      False   \n",
       "\n",
       "  DIST_H-A DIST_D-A DON_ANGLE  PROTISDON  DONORIDX DONORTYPE  ACCEPTORIDX  \\\n",
       "0     2.01     2.96    163.57       True       629       Nam         2405   \n",
       "\n",
       "  ACCEPTORTYPE                    LIGCOO                   PROTCOO  \n",
       "0          Nar  (13.371, 34.064, 15.005)  (10.667, 33.654, 16.145)  "
      ]
     },
     "execution_count": 12,
     "metadata": {},
     "output_type": "execute_result"
    }
   ],
   "source": [
    "create_df_from_binding_site(list(interactions_by_site.keys())[0],\n",
    "                           interaction_type=\"hbond\")\n",
    "# TODO: CI"
   ]
  },
  {
   "cell_type": "markdown",
   "metadata": {},
   "source": [
    "### Visualization with NGLView"
   ]
  },
  {
   "cell_type": "markdown",
   "metadata": {},
   "source": [
    "Now, let's try to represent those interactions in the NGL viewer. We can draw cylinders between the interaction points (`LIGCOOVisualization with NGLView` and `PROTCOO` in the `pandas.DataFrame`) and color-code them as shown in `color_map`, which uses RGB tuples."
   ]
  },
  {
   "cell_type": "code",
   "execution_count": 13,
   "metadata": {},
   "outputs": [],
   "source": [
    "color_map = {\n",
    "    \"hydrophobic\": [0.90, 0.10, 0.29],\n",
    "    \"hbond\": [0.26, 0.83, 0.96],\n",
    "    \"waterbridge\": [1.00, 0.88, 0.10],\n",
    "    \"saltbridge\": [0.67, 1.00, 0.76],\n",
    "    \"pistacking\": [0.75, 0.94, 0.27],\n",
    "    \"pication\": [0.27, 0.60, 0.56],\n",
    "    \"halogen\": [0.94, 0.20, 0.90],\n",
    "    \"metal\": [0.90, 0.75, 1.00],\n",
    "}"
   ]
  },
  {
   "cell_type": "markdown",
   "metadata": {},
   "source": [
    "Let's see what these RGB colors correspond to:"
   ]
  },
  {
   "cell_type": "code",
   "execution_count": 14,
   "metadata": {},
   "outputs": [
    {
     "data": {
      "image/png": "[encoded data removed]",
      "text/plain": [
       "<Figure size 720x576 with 8 Axes>"
      ]
     },
     "metadata": {
      "needs_background": "light"
     },
     "output_type": "display_data"
    }
   ],
   "source": [
    "fig, axs = plt.subplots(nrows=len(color_map), ncols=1, figsize=(10, 8))\n",
    "plt.subplots_adjust(hspace = 1)\n",
    "fig.suptitle('Colors for interaction types', size=16, y=1.1)\n",
    "\n",
    "for ax, (interaction, color) in zip(axs, color_map.items()):\n",
    "    ax.imshow(np.zeros((1, 5)), cmap = colors.ListedColormap(color_map[interaction]))\n",
    "    ax.set_title(interaction, loc=\"right\")\n",
    "    ax.set_axis_off()\n",
    "plt.show()"
   ]
  },
  {
   "cell_type": "code",
   "execution_count": 15,
   "metadata": {},
   "outputs": [],
   "source": [
    "def show_interactions_3D(pdb_id,\n",
    "                         highlight_interactions=color_map):\n",
    "    \"\"\"\n",
    "    3D visualization of protein-ligand interactions.\n",
    "    \n",
    "    Parameters\n",
    "    ----------\n",
    "    pdb_id : str\n",
    "        The pdb ID of interest.\n",
    "    highlight_interactions : dict\n",
    "        The colors used to highlight the different interaction types.\n",
    "    \n",
    "    Returns\n",
    "    -------\n",
    "    NGL viewer with explicit interactions given by PLIP.\n",
    "    \n",
    "    \"\"\"\n",
    "\n",
    "    # Create NGLviewer\n",
    "    viewer = nv.NGLWidget(height=\"600px\", default=True, gui=True)\n",
    "    # Add protein\n",
    "    prot_component = viewer.add_pdbid(pdb_id)\n",
    "    # Center on binding site\n",
    "    viewer.center(\"ligand\")\n",
    "    time.sleep(1)\n",
    "\n",
    "    # Add interactions from PLIP\n",
    "    interactions_by_site = analyze_interactions(f\"{DATA}/{pdb_id}.pdb\")\n",
    "    interacting_residues = []\n",
    "    for site, interactions in interactions_by_site.items():\n",
    "        for interaction_type, interaction_list in interactions.items():\n",
    "            color = highlight_interactions[interaction_type]\n",
    "            if len(interaction_list) == 1:\n",
    "                continue\n",
    "            df_interactions = pd.DataFrame.from_records(\n",
    "                interaction_list[1:], columns=interaction_list[0]\n",
    "            )\n",
    "            for _, interaction in df_interactions.iterrows():\n",
    "                name = interaction_type\n",
    "                viewer.shape.add_cylinder(\n",
    "                    interaction[\"LIGCOO\"], interaction[\"PROTCOO\"], color, [0.1], name,\n",
    "                )\n",
    "                interacting_residues.append(interaction[\"RESNR\"])\n",
    "    # Display interacting residues\n",
    "    res_sele = \" or \".join([f\"({r} and not _H)\" for r in interacting_residues])\n",
    "    res_sele_nc = \" or \".join(\n",
    "        [f\"({r} and ((_O) or (_N) or (_S)))\" for r in interacting_residues]\n",
    "    )\n",
    "    prot_component.add_ball_and_stick(\n",
    "        sele=res_sele, colorScheme=\"chainindex\", aspectRatio=1.5\n",
    "    )\n",
    "    prot_component.add_ball_and_stick(\n",
    "        sele=res_sele_nc, colorScheme=\"element\", aspectRatio=1.5\n",
    "    )\n",
    "\n",
    "    return viewer"
   ]
  },
  {
   "cell_type": "code",
   "execution_count": 16,
   "metadata": {},
   "outputs": [
    {
     "data": {
      "application/vnd.jupyter.widget-view+json": {
       "model_id": "d297da53697e4f40a25bf60015393376",
       "version_major": 2,
       "version_minor": 0
      },
      "text/plain": [
       "NGLWidget()"
      ]
     },
     "metadata": {},
     "output_type": "display_data"
    },
    {
     "data": {
      "application/vnd.jupyter.widget-view+json": {
       "model_id": "a8b02c6c5cfa4e37a0e879ce74319a59",
       "version_major": 2,
       "version_minor": 0
      },
      "text/plain": [
       "Tab(children=(Box(children=(Box(children=(Box(children=(Label(value='step'), IntSlider(value=1, min=-100)), la…"
      ]
     },
     "metadata": {},
     "output_type": "display_data"
    }
   ],
   "source": [
    "show_interactions_3D(pdb_id) # TODO: CI"
   ]
  },
  {
   "cell_type": "markdown",
   "metadata": {},
   "source": [
    "#### Analysis of interactions"
   ]
  },
  {
   "cell_type": "markdown",
   "metadata": {},
   "source": [
    "As we can see in the NGL viewer, PLIP manages to identify different interactions between the protein and the ligand in the binding site, for example,\n",
    "- the typical hinge hydrogen binding with a methionine residue, MET793, which is also identified in KLIFS, as shown on this [webpage](https://klifs.net/details.php?structure_id=7308). \n",
    "- hydrophobic interactions with the following residues: LYS745, THR854, THR790.\n",
    "- halogen interactions with residues THR790 and MET766."
   ]
  },
  {
   "cell_type": "markdown",
   "metadata": {},
   "source": [
    "## Discussion\n",
    "\n",
    "In this talktorial we have learned about protein-ligand interactions, more specifically in the context of the Protein–Ligand Interaction Profiler, or PLIP for short. We created a data frame to depict the interactions in a table. Furthermore, we made use of the NGL viewer to visualize these interactions in 3D, which require a good amount of web technologies, mainly based around the NGL viewer itself and `ipywidgets` layouts."
   ]
  },
  {
   "cell_type": "markdown",
   "metadata": {},
   "source": [
    "## Quiz\n",
    "\n",
    "- Do some interactions seem more important than others?\n",
    "- What's the main difference between hydrophobic interactions and hydrogen bonds? How are they similar?\n",
    "- What can be a considerable advantage of using PLIP over KLIFS?"
   ]
  }
 ],
 "metadata": {
  "kernelspec": {
   "display_name": "Python 3",
   "language": "python",
   "name": "python3"
  },
  "language_info": {
   "codemirror_mode": {
    "name": "ipython",
    "version": 3
   },
   "file_extension": ".py",
   "mimetype": "text/x-python",
   "name": "python",
   "nbconvert_exporter": "python",
   "pygments_lexer": "ipython3",
   "version": "3.8.6"
  },
  "widgets": {
   "application/vnd.jupyter.widget-state+json": {
    "state": {
     "7eda39f63ab340f7bda267cb5c283d2a": {
      "model_module": "@jupyter-widgets/base",
      "model_module_version": "1.2.0",
      "model_name": "LayoutModel",
      "state": {}
     },
     "b3dc9ceb1b6446afbec0eb4b56f944cd": {
      "model_module": "nglview-js-widgets",
      "model_module_version": "2.7.7",
      "model_name": "ColormakerRegistryModel",
      "state": {
       "_msg_ar": [],
       "_msg_q": [],
       "_ready": true,
       "layout": "IPY_MODEL_7eda39f63ab340f7bda267cb5c283d2a"
      }
     }
    },
    "version_major": 2,
    "version_minor": 0
   }
  }
 },
 "nbformat": 4,
 "nbformat_minor": 4
}
