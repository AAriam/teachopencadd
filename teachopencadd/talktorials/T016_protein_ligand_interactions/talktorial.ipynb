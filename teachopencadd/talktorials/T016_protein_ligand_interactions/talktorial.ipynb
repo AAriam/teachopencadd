{
 "cells": [
  {
   "cell_type": "markdown",
   "metadata": {},
   "source": [
    "# T016 · Protein-ligand interactions\n",
    "\n",
    "Authors:\n",
    "\n",
    "- Jaime Rodríguez-Guerra, [Volkamer lab](https://volkamerlab.org)\n",
    "- Michele Wichmann, 2019-2020, Charité/FU Berlin\n",
    "- Yonghui Chen, [Volkamer lab](https://volkamerlab.org)\n",
    "- Talia B. Kimber, [Volkamer lab](https://volkamerlab.org)\n",
    "- Andrea Volkamer, [Volkamer lab](https://volkamerlab.org)"
   ]
  },
  {
   "cell_type": "markdown",
   "metadata": {},
   "source": [
    "## Aim of this talktorial\n",
    "\n",
    "In this talktorial, we focus on protein-ligand interactions. Understanding such interactions, which are driving molecular recognition, are fundamental in drug design.\n",
    "\n",
    "To this end, we use two Python tools: the first one, called the Protein–Ligand Interaction Profiler, or [PLIP](https://doi.org/10.1093/nar/gkv315), to get insight into protein-ligand interactions for any sample complex and the second, [NGLView](https://doi.org/10.1093/bioinformatics/btx789), to visualize the interactions in 3D."
   ]
  },
  {
   "cell_type": "markdown",
   "metadata": {},
   "source": [
    "### Contents in _Theory_\n",
    "\n",
    "- Protein-ligand interactions\n",
    "- Visualization: complex and interactions"
   ]
  },
  {
   "cell_type": "markdown",
   "metadata": {},
   "source": [
    "### Contents in _Practical_\n",
    "\n",
    "- Profiling protein-ligand interactions using PLIP\n",
    "- Visualization with NGLView"
   ]
  },
  {
   "cell_type": "markdown",
   "metadata": {
    "toc-hr-collapsed": true,
    "toc-nb-collapsed": true
   },
   "source": [
    "### References\n",
    "\n",
    "- Review on protein-ligand interactions ([_Int. J. Mol. Sci._ (2016), __17__, 144](https://www.mdpi.com/1422-0067/17/2/144))\n",
    "- A systematic analysis of non-covalent interactions in the PDB database ([_M. Med. Chem. Commun._ (2017), __8__, 1970-1981](https://pubs.rsc.org/en/content/articlelanding/2017/md/c7md00381a#!divAbstract))\n",
    "- A chapter about how protein–ligand interactions are key for drug action (in [Klebe G. (eds) Drug Design. Springer, Berlin, Heidelberg.](https://link.springer.com/referenceworkentry/10.1007%2F978-3-642-17907-5_4))\n",
    "* NGLView, the interactive visualizer for Jupyter notebooks ([_Bioinformatics_ (2018), __34__, 1241–124](https://doi.org/10.1093/bioinformatics/btx789))\n",
    "* PLIP, the Protein–Ligand Interaction Profiler ([_Nucl. Acids Res._ (2015), __43__, W1, W443-W447](https://academic.oup.com/nar/article/43/W1/W443/2467865))"
   ]
  },
  {
   "cell_type": "markdown",
   "metadata": {},
   "source": [
    "## Theory"
   ]
  },
  {
   "cell_type": "markdown",
   "metadata": {},
   "source": [
    "### Protein-ligand interactions\n",
    "\n",
    "Ligand binding is mainly governed by non-covalent interactions between the ligand and the surface of the protein pocket or protein-protein interface. This process is a function of electrostatic and shape complementarities, induces fitting, desolvation processes and more.\n",
    "\n",
    "Some quotes from the literature:\n",
    "\n",
    "Adapted from [José L. Medina-Franco, Oscar Méndez-Lucio, Karina Martinez-Mayorga](https://www.sciencedirect.com/science/article/pii/S1876162314000029):\n",
    "\n",
    "> Understanding protein–ligand interactions (PLIs) and protein–protein interactions (PPIs) is at the core of molecular recognition and has a fundamental role in many scientific areas. PLIs and PPIs have a broad area of practical applications in drug discovery including but not limited to molecular docking, structure-based design, virtual screening of molecular fragments, small molecules, and other types of compounds, clustering of complexes, and structural interpretation of activity cliffs, to name a few."
   ]
  },
  {
   "cell_type": "markdown",
   "metadata": {},
   "source": [
    "These interactions can be rationalized in several ways, which opens the door to systematic analysis of the docking solutions."
   ]
  },
  {
   "cell_type": "markdown",
   "metadata": {},
   "source": [
    "![protein ligand non-covalent interactions](images/protein_ligand_non_covalent.gif)\n",
    "\n",
    "_Figure 1_ : **Frequency of non-colavent interactions.** Out of 750,873 ligand–protein atom pairs extracted from complexes from the PDB data base, the 100 most frequent pairs can be grouped into seven interaction types, as shown in the figure (taken from the paper by de Freitas, Renato Ferreira, and Matthieu Schapira, [A systematic analysis of atomic protein–ligand interactions in the PDB](https://doi.org/10.1039/C7MD00381A))."
   ]
  },
  {
   "cell_type": "markdown",
   "metadata": {},
   "source": [
    "# TODO\n",
    "\n",
    "There are several programs to assess protein-ligand interactions in an automated way. [PLIP](https://plip.biotec.tu-dresden.de/plip-web/plip/index) is a popular one thanks to its publicly available webserver and free-to-use Python library. The [supporting information](https://www.ncbi.nlm.nih.gov/pmc/articles/PMC4489249/bin/supp_gkv315_nar-00254-web-b-2015-File003.pdf) accompanying the manuscript describes protein-ligand interactions in a simple way that is very easy to understand. As an introduction, this paragraph is enough:\n",
    "\n",
    "> PLIP uses a rule-based system for detection of non-covalent interactions between protein\n",
    "residues and ligands. Information on chemical groups able to participate in a specific interaction\n",
    "(e.g. requirements for hydrogen bond donors) and interaction geometry (e.g. distance and\n",
    "angle thresholds) from literature are used to detect characteristics of non-covalent interactions\n",
    "between contacting atoms of protein and ligands. For each binding site, the algorithm searches\n",
    "first for atoms or atom groups in the protein and ligand which could possibly be partner in\n",
    "specific interactions. Subsequently, geometric rules are applied to match groups in protein\n",
    "and ligand forming an interaction."
   ]
  },
  {
   "cell_type": "markdown",
   "metadata": {},
   "source": [
    "![aromatic interaction](images/3POZ_03P_A_1023.png)\n",
    "![aromatic interaction](images/legend.png)\n",
    "\n",
    "_Figure 2_ : **Visualization of protein-ligand interactions generated by the PLIP web service.** The example shows the EGFR kinase in complex, with associated PDB ID [3POZ](10.2210/pdb3poz/pdb). The legend explicits the types of interactions that are displayed in the figure."
   ]
  },
  {
   "cell_type": "markdown",
   "metadata": {},
   "source": [
    "For more details, have a look at the PDF document shown below."
   ]
  },
  {
   "cell_type": "code",
   "execution_count": 1,
   "metadata": {},
   "outputs": [],
   "source": [
    "from teachopencadd.utils import show_pdf"
   ]
  },
  {
   "cell_type": "code",
   "execution_count": 2,
   "metadata": {},
   "outputs": [
    {
     "data": {
      "text/html": [
       "\n",
       "    <iframe src=\"https://docs.google.com/viewer?url=https://www.ncbi.nlm.nih.gov/pmc/articles/PMC4489249/bin/supp_gkv315_nar-00254-web-b-2015-File003.pdf&embedded=true\"\n",
       "        frameborder=\"0\" webkitallowfullscreen mozallowfullscreen\n",
       "        allowfullscreen width=\"900\" height=\"600\">\n",
       "    </iframe>\n",
       "    "
      ],
      "text/plain": [
       "<IPython.core.display.HTML object>"
      ]
     },
     "metadata": {},
     "output_type": "display_data"
    }
   ],
   "source": [
    "pdf = \"https://www.ncbi.nlm.nih.gov/pmc/articles/PMC4489249/bin/supp_gkv315_nar-00254-web-b-2015-File003.pdf\"\n",
    "show_pdf(pdf)"
   ]
  },
  {
   "cell_type": "markdown",
   "metadata": {},
   "source": [
    "### Visualization: complex and interactions\n",
    "\n",
    "We will use `nglview` for visualization. It's a [web-based molecular viewer](https://doi.org/10.1093/bioinformatics/btx789) that can be run on Jupyter notebooks. We will first use it in a basic way to visualize a complex of interest. And then we will make use of `ipywidgets` layouts to visualize protein-ligand interactions."
   ]
  },
  {
   "cell_type": "markdown",
   "metadata": {},
   "source": [
    "## Practical"
   ]
  },
  {
   "cell_type": "markdown",
   "metadata": {},
   "source": [
    "As a very first step, let's install a working version of PLIP. In a terminal with the `teachopencadd` environment activated, type :\n",
    "\n",
    "\n",
    "`(teachopencadd) $ conda remove --force plip`\n",
    "\n",
    "`(teachopencadd) $ pip install -U https://github.com/pharmai/plip/archive/development.tar.gz --no-deps`"
   ]
  },
  {
   "cell_type": "code",
   "execution_count": 5,
   "metadata": {},
   "outputs": [],
   "source": [
    "# imports\n",
    "from pathlib import Path\n",
    "from warnings import filterwarnings\n",
    "import time\n",
    "import pandas as pd\n",
    "import nglview as nv\n",
    "import openbabel\n",
    "\n",
    "from plip.structure.preparation import PDBComplex\n",
    "from plip.exchange.report import BindingSiteReport"
   ]
  },
  {
   "cell_type": "code",
   "execution_count": 6,
   "metadata": {},
   "outputs": [],
   "source": [
    "# Absolute path\n",
    "HERE = Path(_dh[-1])\n",
    "DATA = HERE / \"data\""
   ]
  },
  {
   "cell_type": "markdown",
   "metadata": {},
   "source": [
    "**Example with EGFR**"
   ]
  },
  {
   "cell_type": "markdown",
   "metadata": {},
   "source": [
    "As a test case for this notebook, we choose the EGFR kinase. The PDB that will be looked into is given by the ID [3POZ](10.2210/pdb3poz/pdb). Let's use `nglview` to vizualise the structure in a notebook cell.\n",
    "\n",
    "_Note_: the complex can easily be changed by adapting the PDB ID in the cell below."
   ]
  },
  {
   "cell_type": "code",
   "execution_count": 7,
   "metadata": {},
   "outputs": [],
   "source": [
    "pdb_id = \"3poz\""
   ]
  },
  {
   "cell_type": "code",
   "execution_count": 13,
   "metadata": {},
   "outputs": [
    {
     "data": {
      "application/vnd.jupyter.widget-view+json": {
       "model_id": "d35ea00dda3a47be921d79180df7f4b5",
       "version_major": 2,
       "version_minor": 0
      },
      "text/plain": [
       "NGLWidget()"
      ]
     },
     "metadata": {},
     "output_type": "display_data"
    }
   ],
   "source": [
    "ngl_viewer = nv.show_pdbid(pdb_id) # show the complex\n",
    "ngl_viewer.center(\"ligand\") # center on binding site\n",
    "ngl_viewer"
   ]
  },
  {
   "cell_type": "markdown",
   "metadata": {
    "toc-hr-collapsed": true,
    "toc-nb-collapsed": true
   },
   "source": [
    "### Profiling protein-ligand interactions using PLIP"
   ]
  },
  {
   "cell_type": "markdown",
   "metadata": {},
   "source": [
    "PLIP offers [a webserver](https://projects.biotec.tu-dresden.de/plip-web/plip) for automated analysis, but unfortunately there is no API. We could try to use the HTML forms as if we were using the standard web UI, but since the library itself is Python-3 ready and very easy to install with `pip`, we can just use it locally for simplicity."
   ]
  },
  {
   "cell_type": "markdown",
   "metadata": {},
   "source": [
    "PLIP only accepts PDB files, so we can pass the PDB file to PLIP and let it do its magic. The `BindingSiteReport` class processes each detected binding site in `PDBComplex` and creates an object with the (eight) fields we are interested in, namely\n",
    "\n",
    "- hydrophobic interaction : `hydrophobic`\n",
    "- hydrogen bond : `hbond`\n",
    "- water bridge : `waterbridge`\n",
    "- salt bridge : `saltbridge`\n",
    "- $\\pi$-stacking (parallel and perpendicular) : `pistacking`\n",
    "- $\\pi$- cation : `pication`\n",
    "- halogen bond : `halogen`\n",
    "- metal complexation : `metal`\n",
    "\n",
    "\n",
    "These fields are divided in `<field>_features` (containing column names) and `<field>_info` (containing the actual records). If we iterate over the object retrieving the correct attribute name with `getattr()`, we can compose a dictionary that can be passed to a `pandas.DataFrame` for nice overviews."
   ]
  },
  {
   "cell_type": "code",
   "execution_count": 7,
   "metadata": {},
   "outputs": [],
   "source": [
    "def analyze_interactions(pdbfile):\n",
    "    \"\"\"\n",
    "    Retrieves the interactions from PLIP.\n",
    "    \n",
    "    Parameters\n",
    "    ----------\n",
    "    pdbfile : \n",
    "            The PDB file of the complex.\n",
    "            \n",
    "    Returns\n",
    "    -------\n",
    "    dict :\n",
    "            A dictionary of the binding sites and the interactions.\n",
    "    \"\"\"\n",
    "    protlig = PDBComplex()\n",
    "    protlig.load_pdb(pdbfile)  # load the pdb\n",
    "    for ligand in protlig.ligands:\n",
    "        protlig.characterize_complex(ligand)  # find ligands and analyze interactions\n",
    "    sites = {}\n",
    "    for key, site in sorted(protlig.interaction_sets.items()):\n",
    "        binding_site = BindingSiteReport(site)  # collect data about interactions\n",
    "        # tuples of *_features and *_info will be converted to pandas data frame\n",
    "        keys = (\n",
    "            \"hydrophobic\",\n",
    "            \"hbond\",\n",
    "            \"waterbridge\",\n",
    "            \"saltbridge\",\n",
    "            \"pistacking\",\n",
    "            \"pication\",\n",
    "            \"halogen\",\n",
    "            \"metal\",\n",
    "        )\n",
    "        interactions = {\n",
    "            k: [getattr(binding_site, k + \"_features\")] + getattr(binding_site, k + \"_info\")\n",
    "            for k in keys\n",
    "        }\n",
    "        sites[key] = interactions\n",
    "    return sites"
   ]
  },
  {
   "cell_type": "code",
   "execution_count": 8,
   "metadata": {},
   "outputs": [],
   "source": [
    "interactions_by_site = analyze_interactions(f\"{pdb_id}.pdb\")\n",
    "# interactions_by_site = analyze_interactions(DATA/\"3poz.pdb\")\n",
    "# TODO : error when running cell using DATA folder"
   ]
  },
  {
   "cell_type": "markdown",
   "metadata": {},
   "source": [
    "This dictionary is composed of two levels:\n",
    "\n",
    "- First level is the detected binding sites.\n",
    "\n",
    "- For each binding site, we have one more sub-dictionary containing eight lists, one for each specific interaction. Each list will contain the column names in the first row, and the data (if available) in the following.\n",
    "\n",
    "Let's see how many binding sites are detected using our complex of interest."
   ]
  },
  {
   "cell_type": "code",
   "execution_count": 9,
   "metadata": {},
   "outputs": [
    {
     "name": "stdout",
     "output_type": "stream",
     "text": [
      "Number of binding sites detected in 3poz : \n",
      " 4\n"
     ]
    }
   ],
   "source": [
    "print(f\"Number of binding sites detected in {pdb_id} : \\n \"\n",
    "      f\"{len(interactions_by_site)}\"\n",
    "     )  # TODO: CI"
   ]
  },
  {
   "cell_type": "markdown",
   "metadata": {},
   "source": [
    "We can construct a `pandas.DataFrame` for a binding site and particular interaction type."
   ]
  },
  {
   "cell_type": "code",
   "execution_count": 10,
   "metadata": {},
   "outputs": [],
   "source": [
    "def create_df_from_binding_site(binding_site_id, interaction_type=\"hbond\"):\n",
    "    \"\"\"\n",
    "    Creates a data frame from a binding site and interaction type.\n",
    "    \n",
    "    Parameters\n",
    "    ----------\n",
    "    binding_site_id : str\n",
    "        The binding site of interest.\n",
    "    interaction_type : str, optional\n",
    "        The interaction type of interest (default set to hydrogen bond).\n",
    "        \n",
    "    Returns\n",
    "    -------\n",
    "    DataFrame : \n",
    "        Data frame with information retrieved from PLIP.\n",
    "    \"\"\"\n",
    "    df = pd.DataFrame.from_records(\n",
    "    # data is stored AFTER the column names\n",
    "    interactions_by_site[binding_site_id][interaction_type][1:],\n",
    "    # column names are always the first element\n",
    "    columns=interactions_by_site[binding_site_id][interaction_type][0],  \n",
    "    )  \n",
    "    return df"
   ]
  },
  {
   "cell_type": "markdown",
   "metadata": {},
   "source": [
    "In the next cell, we show the hydrogen interactions from the third detected binding site."
   ]
  },
  {
   "cell_type": "code",
   "execution_count": 11,
   "metadata": {},
   "outputs": [
    {
     "data": {
      "text/html": [
       "<div>\n",
       "<style scoped>\n",
       "    .dataframe tbody tr th:only-of-type {\n",
       "        vertical-align: middle;\n",
       "    }\n",
       "\n",
       "    .dataframe tbody tr th {\n",
       "        vertical-align: top;\n",
       "    }\n",
       "\n",
       "    .dataframe thead th {\n",
       "        text-align: right;\n",
       "    }\n",
       "</style>\n",
       "<table border=\"1\" class=\"dataframe\">\n",
       "  <thead>\n",
       "    <tr style=\"text-align: right;\">\n",
       "      <th></th>\n",
       "      <th>RESNR</th>\n",
       "      <th>RESTYPE</th>\n",
       "      <th>RESCHAIN</th>\n",
       "      <th>RESNR_LIG</th>\n",
       "      <th>RESTYPE_LIG</th>\n",
       "      <th>RESCHAIN_LIG</th>\n",
       "      <th>SIDECHAIN</th>\n",
       "      <th>DIST_H-A</th>\n",
       "      <th>DIST_D-A</th>\n",
       "      <th>DON_ANGLE</th>\n",
       "      <th>PROTISDON</th>\n",
       "      <th>DONORIDX</th>\n",
       "      <th>DONORTYPE</th>\n",
       "      <th>ACCEPTORIDX</th>\n",
       "      <th>ACCEPTORTYPE</th>\n",
       "      <th>LIGCOO</th>\n",
       "      <th>PROTCOO</th>\n",
       "    </tr>\n",
       "  </thead>\n",
       "  <tbody>\n",
       "    <tr>\n",
       "      <th>0</th>\n",
       "      <td>996</td>\n",
       "      <td>ASN</td>\n",
       "      <td>A</td>\n",
       "      <td>2</td>\n",
       "      <td>SO4</td>\n",
       "      <td>A</td>\n",
       "      <td>False</td>\n",
       "      <td>1.98</td>\n",
       "      <td>2.89</td>\n",
       "      <td>151.35</td>\n",
       "      <td>True</td>\n",
       "      <td>2223</td>\n",
       "      <td>Nam</td>\n",
       "      <td>2368</td>\n",
       "      <td>O3</td>\n",
       "      <td>(12.465, 35.968, 31.608)</td>\n",
       "      <td>(10.739, 37.795, 30.186)</td>\n",
       "    </tr>\n",
       "    <tr>\n",
       "      <th>1</th>\n",
       "      <td>997</td>\n",
       "      <td>PHE</td>\n",
       "      <td>A</td>\n",
       "      <td>2</td>\n",
       "      <td>SO4</td>\n",
       "      <td>A</td>\n",
       "      <td>False</td>\n",
       "      <td>2.12</td>\n",
       "      <td>3.00</td>\n",
       "      <td>149.36</td>\n",
       "      <td>True</td>\n",
       "      <td>2231</td>\n",
       "      <td>Nam</td>\n",
       "      <td>2365</td>\n",
       "      <td>O2</td>\n",
       "      <td>(13.708, 36.129, 29.523)</td>\n",
       "      <td>(12.221, 38.072, 27.779)</td>\n",
       "    </tr>\n",
       "    <tr>\n",
       "      <th>2</th>\n",
       "      <td>994</td>\n",
       "      <td>ASP</td>\n",
       "      <td>A</td>\n",
       "      <td>2</td>\n",
       "      <td>SO4</td>\n",
       "      <td>A</td>\n",
       "      <td>False</td>\n",
       "      <td>3.34</td>\n",
       "      <td>3.93</td>\n",
       "      <td>121.05</td>\n",
       "      <td>False</td>\n",
       "      <td>2368</td>\n",
       "      <td>O3</td>\n",
       "      <td>2212</td>\n",
       "      <td>O2</td>\n",
       "      <td>(12.465, 35.968, 31.608)</td>\n",
       "      <td>(8.716, 36.654, 32.562)</td>\n",
       "    </tr>\n",
       "  </tbody>\n",
       "</table>\n",
       "</div>"
      ],
      "text/plain": [
       "   RESNR RESTYPE RESCHAIN  RESNR_LIG RESTYPE_LIG RESCHAIN_LIG  SIDECHAIN  \\\n",
       "0    996     ASN        A          2         SO4            A      False   \n",
       "1    997     PHE        A          2         SO4            A      False   \n",
       "2    994     ASP        A          2         SO4            A      False   \n",
       "\n",
       "  DIST_H-A DIST_D-A DON_ANGLE  PROTISDON  DONORIDX DONORTYPE  ACCEPTORIDX  \\\n",
       "0     1.98     2.89    151.35       True      2223       Nam         2368   \n",
       "1     2.12     3.00    149.36       True      2231       Nam         2365   \n",
       "2     3.34     3.93    121.05      False      2368        O3         2212   \n",
       "\n",
       "  ACCEPTORTYPE                    LIGCOO                   PROTCOO  \n",
       "0           O3  (12.465, 35.968, 31.608)  (10.739, 37.795, 30.186)  \n",
       "1           O2  (13.708, 36.129, 29.523)  (12.221, 38.072, 27.779)  \n",
       "2           O2  (12.465, 35.968, 31.608)   (8.716, 36.654, 32.562)  "
      ]
     },
     "execution_count": 11,
     "metadata": {},
     "output_type": "execute_result"
    }
   ],
   "source": [
    "create_df_from_binding_site(list(interactions_by_site.keys())[2])"
   ]
  },
  {
   "cell_type": "markdown",
   "metadata": {},
   "source": [
    "### Visualization with NGLView"
   ]
  },
  {
   "cell_type": "markdown",
   "metadata": {},
   "source": [
    "Now, let's try to represent those interactions in the NGL viewer. We can draw cylinders between the interaction points (`LIGCOOVisualization with NGLView` and `PROTCOO` in the `pandas.DataFrame`) and color-code them as shown in `color_map`, which uses RGB tuples."
   ]
  },
  {
   "cell_type": "code",
   "execution_count": 12,
   "metadata": {},
   "outputs": [],
   "source": [
    "color_map = {\n",
    "    \"hydrophobic\": [0.90, 0.10, 0.29],\n",
    "    \"hbond\": [0.26, 0.83, 0.96],\n",
    "    \"waterbridge\": [1.00, 0.88, 0.10],\n",
    "    \"saltbridge\": [0.67, 1.00, 0.76],\n",
    "    \"pistacking\": [0.75, 0.94, 0.27],\n",
    "    \"pication\": [0.27, 0.60, 0.56],\n",
    "    \"halogen\": [0.94, 0.20, 0.90],\n",
    "    \"metal\": [0.90, 0.75, 1.00],\n",
    "}\n",
    "\n",
    "\n",
    "def show_interactions_3D(pdb=pdb_id):\n",
    "    \"\"\"\n",
    "    3D visualization of protein-ligand interactions.\n",
    "    \n",
    "    Parameters\n",
    "    ----------\n",
    "    pdb : str\n",
    "        The pdb ID of interest.\n",
    "    \n",
    "    Returns\n",
    "    -------\n",
    "    NGL viewer with explicit interactions given by PLIP.\n",
    "    \n",
    "    \"\"\"\n",
    "\n",
    "    viewer = nv.NGLWidget(height=\"600px\", default=True, gui=True)\n",
    "    prot_component = viewer.add_pdbid(pdb_id)  # add protein\n",
    "    time.sleep(1)\n",
    "\n",
    "    # Add interactions\n",
    "    interactions_by_site = analyze_interactions(f\"{pdb_id}.pdb\")\n",
    "    interacting_residues = []\n",
    "    for site, interactions in interactions_by_site.items():\n",
    "        for interaction_type, interaction_list in interactions.items():\n",
    "            color = color_map[interaction_type]\n",
    "            if len(interaction_list) == 1:\n",
    "                continue\n",
    "            df_interactions = pd.DataFrame.from_records(\n",
    "                interaction_list[1:], columns=interaction_list[0]\n",
    "            )\n",
    "            for _, interaction in df_interactions.iterrows():\n",
    "                name = interaction_type\n",
    "                viewer.shape.add_cylinder(\n",
    "                    interaction[\"LIGCOO\"], interaction[\"PROTCOO\"], color, [0.1], name,\n",
    "                )\n",
    "                interacting_residues.append(interaction[\"RESNR\"])\n",
    "    # Display interacting residues\n",
    "    res_sele = \" or \".join([f\"({r} and not _H)\" for r in interacting_residues])\n",
    "    res_sele_nc = \" or \".join(\n",
    "        [f\"({r} and ((_O) or (_N) or (_S)))\" for r in interacting_residues]\n",
    "    )\n",
    "    prot_component.add_ball_and_stick(\n",
    "        sele=res_sele, colorScheme=\"chainindex\", aspectRatio=1.5\n",
    "    )\n",
    "    prot_component.add_ball_and_stick(\n",
    "        sele=res_sele_nc, colorScheme=\"element\", aspectRatio=1.5\n",
    "    )\n",
    "\n",
    "    return viewer"
   ]
  },
  {
   "cell_type": "code",
   "execution_count": 13,
   "metadata": {},
   "outputs": [
    {
     "data": {
      "application/vnd.jupyter.widget-view+json": {
       "model_id": "41494c9d332849afa5ddb0eba031f6e2",
       "version_major": 2,
       "version_minor": 0
      },
      "text/plain": [
       "NGLWidget()"
      ]
     },
     "metadata": {},
     "output_type": "display_data"
    },
    {
     "data": {
      "application/vnd.jupyter.widget-view+json": {
       "model_id": "00824614cfcb405e9be3f44e4cb25101",
       "version_major": 2,
       "version_minor": 0
      },
      "text/plain": [
       "Tab(children=(Box(children=(Box(children=(Box(children=(Label(value='step'), IntSlider(value=1, min=-100)), la…"
      ]
     },
     "metadata": {},
     "output_type": "display_data"
    }
   ],
   "source": [
    "show_interactions_3D()"
   ]
  },
  {
   "cell_type": "markdown",
   "metadata": {},
   "source": [
    "## Discussion\n",
    "\n",
    "In this talktorial we have learned about protein-ligand interactions, more specifically in the context of the Protein–Ligand Interaction Profiler, or PLIP for short. We created a data frame to depict the interactions in a table. Furthermore, we made use of the NGL viewer to visualize these interactions in 3D, which require a good amount of web technologies, mainly based around the NGL viewer itself and `ipywidgets` layouts."
   ]
  },
  {
   "cell_type": "markdown",
   "metadata": {
    "toc-hr-collapsed": true,
    "toc-nb-collapsed": true
   },
   "source": [
    "## Quiz\n",
    "\n",
    "- Do some interactions seem more important than others?\n",
    "- What's the main difference between hydrophobic interactions and hydrogen bonds? How are they similar?\n",
    "- What can be a considerable advantage of using PLIP over KLIFS?"
   ]
  }
 ],
 "metadata": {
  "kernelspec": {
   "display_name": "Python 3",
   "language": "python",
   "name": "python3"
  },
  "language_info": {
   "codemirror_mode": {
    "name": "ipython",
    "version": 3
   },
   "file_extension": ".py",
   "mimetype": "text/x-python",
   "name": "python",
   "nbconvert_exporter": "python",
   "pygments_lexer": "ipython3",
   "version": "3.8.6"
  },
  "widgets": {
   "application/vnd.jupyter.widget-state+json": {
    "state": {
     "7eda39f63ab340f7bda267cb5c283d2a": {
      "model_module": "@jupyter-widgets/base",
      "model_module_version": "1.2.0",
      "model_name": "LayoutModel",
      "state": {}
     },
     "b3dc9ceb1b6446afbec0eb4b56f944cd": {
      "model_module": "nglview-js-widgets",
      "model_module_version": "2.7.7",
      "model_name": "ColormakerRegistryModel",
      "state": {
       "_msg_ar": [],
       "_msg_q": [],
       "_ready": true,
       "layout": "IPY_MODEL_7eda39f63ab340f7bda267cb5c283d2a"
      }
     }
    },
    "version_major": 2,
    "version_minor": 0
   }
  }
 },
 "nbformat": 4,
 "nbformat_minor": 4
}
