{
 "cells": [
  {
   "cell_type": "markdown",
   "metadata": {},
   "source": [
    "# 017 · Advanced NGLview usage\n",
    "\n",
    "Authors:\n",
    "\n",
    "- First and last name, year(s) of contribution, lab, institution\n",
    "- First and last name, year(s) of contribution, lab, institution"
   ]
  },
  {
   "cell_type": "markdown",
   "metadata": {},
   "source": [
    "## Aim of this talktorial\n",
    "\n",
    "\n",
    "    For this notebook, we should cover:\n",
    "\n",
    "    * Simple interactive widget controls with callbacks\n",
    "    * More complex controls and GUIs\n",
    "    * Executing JS snippets directly for the nglview parts that are not wrapped in Python\n"
   ]
  },
  {
   "cell_type": "markdown",
   "metadata": {},
   "source": [
    "### Contents in *Theory*\n",
    "\n",
    "*These points should refer to the headlines of your theory section below.*\n",
    "\n",
    "* ChEMBL database\n",
    "* Compound activity measures"
   ]
  },
  {
   "cell_type": "markdown",
   "metadata": {},
   "source": [
    "### Contents in *Practical*\n",
    "\n",
    "*These points should refer to the headlines of your practical section below.*\n",
    "\n",
    "* Connect to ChEMBL database\n",
    "* Load and draw molecules"
   ]
  },
  {
   "cell_type": "markdown",
   "metadata": {},
   "source": [
    "### References\n",
    "\n",
    "* Paper \n",
    "* Tutorial links\n",
    "* Other useful resources\n",
    "\n",
    "*We suggest the following citation style:*\n",
    "* Keyword describing resource: <i>Journal</i> (year), <b>volume</b>, pages (link to resource) \n",
    "\n",
    "*Example:*\n",
    "* ChEMBL web services: <i>Nucleic Acids Res.</i> (2015), <b>43</b>, 612-620 (https://academic.oup.com/nar/article/43/W1/W612/2467881) "
   ]
  },
  {
   "cell_type": "markdown",
   "metadata": {},
   "source": [
    "## Theory"
   ]
  },
  {
   "cell_type": "markdown",
   "metadata": {},
   "source": [
    "### ChEMBL database"
   ]
  },
  {
   "cell_type": "markdown",
   "metadata": {},
   "source": [
    "Lorem ipsum dolor sit amet, consetetur sadipscing elitr, sed diam nonumy eirmod tempor invidunt ut labore et dolore magna aliquyam erat, sed diam voluptua. At vero eos et accusam et justo duo dolores et ea rebum. Stet clita kasd gubergren, no sea takimata sanctus est Lorem ipsum dolor sit amet. Lorem ipsum dolor sit amet, consetetur sadipscing elitr, sed diam nonumy eirmod tempor invidunt ut labore et dolore magna aliquyam erat, sed diam voluptua. At vero eos et accusam et justo duo dolores et ea rebum. Stet clita kasd gubergren, no sea takimata sanctus est Lorem ipsum dolor sit amet.\n",
    "\n",
    "**Note**: Include images like this (place images in `images/`):\n",
    "\n",
    "![ChEMBL web service schema](images/chembl_webservices_schema_diagram.jpg)\n",
    "\n",
    "*Figure 1:* \n",
    "Describe figure and add reference.\n",
    "Figure and description taken from: [<i>Nucleic Acids Res.</i> (2015), <b>43</b>, 612-620](https://academic.oup.com/nar/article/43/W1/W612/2467881)."
   ]
  },
  {
   "cell_type": "markdown",
   "metadata": {},
   "source": [
    "### Compound activity measures"
   ]
  },
  {
   "cell_type": "markdown",
   "metadata": {},
   "source": [
    "Lorem ipsum dolor sit amet, consetetur sadipscing elitr, sed diam nonumy eirmod tempor invidunt ut labore et dolore magna aliquyam erat, sed diam voluptua. At vero eos et accusam et justo duo dolores et ea rebum. Stet clita kasd gubergren, no sea takimata sanctus est Lorem ipsum dolor sit amet. Lorem ipsum dolor sit amet, consetetur sadipscing elitr, sed diam nonumy eirmod tempor invidunt ut labore et dolore magna aliquyam erat, sed diam voluptua. At vero eos et accusam et justo duo dolores et ea rebum. Stet clita kasd gubergren, no sea takimata sanctus est Lorem ipsum dolor sit amet.\n",
    "\n",
    "Please use LaTeX to format formulas: $pIC_{50} = -log_{10}(IC_{50}*10^{-9})= 9-log_{10}(IC_{50}) $\n",
    "\n",
    "If you place links, please link descriptive words.\n",
    "> **Yes**:  This figure is licensed under [CC BY-SA 3.0](https://creativecommons.org/licenses/by-sa/3.0/).\n",
    "\n",
    "> **No**: This figure is licensed under CC BY-SA 3.0 ([here](https://creativecommons.org/licenses/by-sa/3.0/))."
   ]
  },
  {
   "cell_type": "markdown",
   "metadata": {},
   "source": [
    "## Practical"
   ]
  },
  {
   "cell_type": "markdown",
   "metadata": {},
   "source": [
    "Short summay of what will be done in this practical section."
   ]
  },
  {
   "cell_type": "markdown",
   "metadata": {},
   "source": [
    "Please add all your imports on top of this section."
   ]
  },
  {
   "cell_type": "code",
   "execution_count": 1,
   "metadata": {},
   "outputs": [],
   "source": [
    "from pathlib import Path"
   ]
  },
  {
   "cell_type": "markdown",
   "metadata": {},
   "source": [
    "Add globals to this talktorial's path (`HERE`) and its data folder (`DATA`)."
   ]
  },
  {
   "cell_type": "code",
   "execution_count": 2,
   "metadata": {},
   "outputs": [],
   "source": [
    "HERE = Path(_dh[-1])\n",
    "DATA = HERE / \"data\""
   ]
  },
  {
   "cell_type": "markdown",
   "metadata": {},
   "source": [
    "### Connect to ChEMBL database"
   ]
  },
  {
   "cell_type": "markdown",
   "metadata": {},
   "source": [
    "Explain what you will do here in the Markdown cell. This includes everything that has to do with the talktorial's storytelling."
   ]
  },
  {
   "cell_type": "code",
   "execution_count": 3,
   "metadata": {},
   "outputs": [],
   "source": [
    "# Add comments in the Code cell if you want to comment on coding decisions"
   ]
  },
  {
   "cell_type": "code",
   "execution_count": null,
   "metadata": {},
   "outputs": [],
   "source": [
    "# ⚠ This is probably too advanced for this notebook! -> T017\n",
    "#    Just use a simple visualization with thin cylinders and\n",
    "#    no interactive widget controls\n",
    "\n",
    "\n",
    "# JavaScript code needed to update residues around the ligand\n",
    "# because this part is not exposed in the Python widget\n",
    "# Based on: http://nglviewer.org/ngl/api/manual/snippets.html\n",
    "_RESIDUES_AROUND = \"\"\"\n",
    "var protein = this.stage.compList[0];\n",
    "var ligand_center = this.stage.compList[{index}].structure.atomCenter();\n",
    "var around = protein.structure.getAtomSetWithinPoint(ligand_center, {radius});\n",
    "var around_complete = protein.structure.getAtomSetWithinGroup(around);\n",
    "var last_repr = protein.reprList[protein.reprList.length-1];\n",
    "protein.removeRepresentation(last_repr);\n",
    "protein.addRepresentation(\"licorice\", {{sele: around_complete.toSeleString()}});\n",
    "\"\"\"\n",
    "\n",
    "\n",
    "def show_docking(protein, ligands, vina_output):\n",
    "    # Split the multi PDBQT ligand file into separate files\n",
    "    ligands_files = split_pdbqt(ligands)\n",
    "    # Retrieve affinities (we only need that column of the dataframe)\n",
    "    affinities = parse_output(vina_output)[\"Affinity (kcal/mol)\"]\n",
    "\n",
    "    # Create viewer widget\n",
    "    viewer = create_viewer(protein, ligands_files, affinities)\n",
    "\n",
    "    # Create selection widget\n",
    "    #   Options is a list of (text, value) tuples. When we click on select, the value will be passed\n",
    "    #   to the callable registered in `.observe(...)`\n",
    "    selector = Select(\n",
    "        options=[(f\"#{i} {aff} kcal/mol\", i) for (i, aff) in enumerate(affinities, 1)],\n",
    "        description=\"\",\n",
    "        rows=len(ligands_files),\n",
    "        layout=Layout(width=\"auto\"),\n",
    "    )\n",
    "\n",
    "    # Arrange GUI elements\n",
    "    # The selection box will be on the left, the viewer will occupy the rest of the window\n",
    "    display(AppLayout(left_sidebar=selector, center=viewer, pane_widths=[1, 6, 1]))\n",
    "\n",
    "    # This is the event handler - action taken when the user clicks on the selection box\n",
    "    # We need to define it here so it can \"see\" the viewer variable\n",
    "    def _on_selection_change(change):\n",
    "        # Update only if the user clicked on a different entry\n",
    "        if change[\"name\"] == \"value\" and (change[\"new\"] != change[\"old\"]):\n",
    "            viewer.hide(\n",
    "                list(range(1, len(ligands_files) + 1))\n",
    "            )  # Hide all ligands (components 1-n)\n",
    "            component = getattr(viewer, f\"component_{change['new']}\")\n",
    "            component.show()  # Display the selected one\n",
    "            component.center(500)  # Zoom view\n",
    "            # Call the JS code to show sidechains around ligand\n",
    "            viewer._execute_js_code(_RESIDUES_AROUND.format(index=change[\"new\"], radius=5))\n",
    "\n",
    "    # Register event handler\n",
    "    selector.observe(_on_selection_change)\n",
    "    # Trigger event manually to focus on the first solution\n",
    "    _on_selection_change({\"name\": \"value\", \"new\": 1, \"old\": None})\n",
    "\n",
    "    return viewer"
   ]
  },
  {
   "cell_type": "markdown",
   "metadata": {},
   "source": [
    "In the function above we are doing some advanced Python. If you are interested, you can click on the header below to view some more details.\n",
    "\n",
    "<br />\n",
    "\n",
    "<details>\n",
    "    \n",
    "<summary>Advanced Python explanation</summary>\n",
    "    \n",
    "> First you might have noticed is that we are mixing JavaScript and Python code! This is possible thanks to the `ipywidgets` infrastructure, as provided in `NGLViewer.Viewer._execute_js_code`. You can pass a string here (containing JavaScript code) and it will be executed in the NGL widget scope (`this` refers to the interactive canvas). To make it parameterizable, we have added some template placeholders that are formatted on each call to `_on_selection_change`.\n",
    ">\n",
    "> This function, `_on_selection_change` is the glue that ties user interactions (clicks on the selection box) to the Python world. It will be called each time you click on the selection box, with a single argument `change`: a dictionary containing the type of event and both the old and new values (so you can compare and do something about it). However, we also need `viewer` to be present in that function... and [we cannot pass additional values](https://ipywidgets.readthedocs.io/en/latest/examples/Widget%20Events.html#Traitlet-events)!\n",
    ">\n",
    "> One way to have `viewer` available in that function is to nest its definition within our `show_docking` function. That way, it will be able to access the outer scope without having to look up in the notebook (global) scope. You have some [more information about scope and closures in this post](https://medium.com/@dannymcwaves/a-python-tutorial-to-understanding-scopes-and-closures-c6a3d3ba0937).\n",
    "\n",
    "</details>\n"
   ]
  },
  {
   "cell_type": "markdown",
   "metadata": {},
   "source": [
    "### Load and draw molecules"
   ]
  },
  {
   "cell_type": "markdown",
   "metadata": {},
   "source": [
    "Explain what you will do."
   ]
  },
  {
   "cell_type": "code",
   "execution_count": null,
   "metadata": {},
   "outputs": [],
   "source": [
    "color_map = {\n",
    "    \"hydrophobic\": [0.90, 0.10, 0.29],\n",
    "    \"hbond\": [0.26, 0.83, 0.96],\n",
    "    \"waterbridge\": [1.00, 0.88, 0.10],\n",
    "    \"saltbridge\": [0.67, 1.00, 0.76],\n",
    "    \"pistacking\": [0.75, 0.94, 0.27],\n",
    "    \"pication\": [0.27, 0.60, 0.56],\n",
    "    \"halogen\": [0.94, 0.20, 0.90],\n",
    "    \"metal\": [0.90, 0.75, 1.00],\n",
    "}\n",
    "\n",
    "\n",
    "def show_docking_and_interactions(protein, ligands, vina_output):\n",
    "    # Split the multi PDBQT ligand file into separate files\n",
    "    ligands_files = split_pdbqt(ligands)\n",
    "    # Retrieve affinities (we only need that column of the dataframe)\n",
    "    affinities = parse_output(vina_output)[\"Affinity (kcal/mol)\"]\n",
    "\n",
    "    # Create selection widget\n",
    "    #   Options is a list of (text, value) tuples. When we click on select, the value will be passed\n",
    "    #   to the callable registered in `.observe(...)`\n",
    "    selector = Select(\n",
    "        options=[(f\"#{i} {aff} kcal/mol\", i - 1) for (i, aff) in enumerate(affinities, 1)],\n",
    "        description=\"\",\n",
    "        rows=len(ligands_files),\n",
    "        layout=Layout(width=\"auto\"),\n",
    "    )\n",
    "\n",
    "    # Arrange GUI elements\n",
    "    # The selection box will be on the left, the viewer will occupy the rest of the window (but it will be added later)\n",
    "    app = AppLayout(left_sidebar=selector, center=None, pane_widths=[1, 6, 1], height=\"600px\",)\n",
    "\n",
    "    # This is the event handler - action taken when the user clicks on the selection box\n",
    "    # We need to define it here so it can \"see\" the viewer variable\n",
    "    def _on_selection_change(change):\n",
    "        # Update only if the user clicked on a different entry\n",
    "        if change[\"name\"] == \"value\" and (change[\"new\"] != change[\"old\"]):\n",
    "            if app.center is not None:\n",
    "                app.center.close()\n",
    "\n",
    "            # NGL Viewer\n",
    "            app.center = viewer = nv.NGLWidget(height=\"600px\", default=True, gui=True)\n",
    "            prot_component = viewer.add_component(protein, ext=\"pdbqt\")  # add protein\n",
    "            time.sleep(1)\n",
    "            lig_component = viewer.add_component(\n",
    "                ligands_files[change[\"new\"]], ext=\"pdbqt\"\n",
    "            )  # add selected ligand\n",
    "            time.sleep(1)\n",
    "            lig_component.center(duration=500)\n",
    "\n",
    "            # Add interactions\n",
    "            interactions_by_site = analyze_interactions(\n",
    "                f\"data/docked_protein_ligand.{change['new']+1}.pdb\"\n",
    "            )\n",
    "            interacting_residues = []\n",
    "            for site, interactions in interactions_by_site.items():\n",
    "                for interaction_type, interaction_list in interactions.items():\n",
    "                    color = color_map[interaction_type]\n",
    "                    if len(interaction_list) == 1:\n",
    "                        continue\n",
    "                    df_interactions = pd.DataFrame.from_records(\n",
    "                        interaction_list[1:], columns=interaction_list[0]\n",
    "                    )\n",
    "                    for _, interaction in df_interactions.iterrows():\n",
    "                        name = interaction_type\n",
    "                        viewer.shape.add_cylinder(\n",
    "                            interaction[\"LIGCOO\"], interaction[\"PROTCOO\"], color, [0.1], name,\n",
    "                        )\n",
    "                        interacting_residues.append(interaction[\"RESNR\"])\n",
    "            # Display interacting residues\n",
    "            res_sele = \" or \".join([f\"({r} and not _H)\" for r in interacting_residues])\n",
    "            res_sele_nc = \" or \".join(\n",
    "                [f\"({r} and ((_O) or (_N) or (_S)))\" for r in interacting_residues]\n",
    "            )\n",
    "            prot_component.add_ball_and_stick(\n",
    "                sele=res_sele, colorScheme=\"chainindex\", aspectRatio=1.5\n",
    "            )\n",
    "            prot_component.add_ball_and_stick(\n",
    "                sele=res_sele_nc, colorScheme=\"element\", aspectRatio=1.5\n",
    "            )\n",
    "\n",
    "    # Register event handler\n",
    "    selector.observe(_on_selection_change)\n",
    "    # Trigger event manually to focus on the first solution\n",
    "    _on_selection_change({\"name\": \"value\", \"new\": 1, \"old\": None})\n",
    "\n",
    "    return app"
   ]
  },
  {
   "cell_type": "markdown",
   "metadata": {},
   "source": [
    "`show_docking_and_interactions` is mostly the same function as `show_docking`, but it will also calculate the PLIP interactions for each selection event. In this case, the event handler is a bit more involved. We have to recreate the NGL viewer for each selection event because the interaction cylinders cannot be manually erased. However, this time there is no JavaScript involved; just pure Python. Recreating the viewer widget from scratch, loading the molecules and calculating the interactions takes more time, though, and as a result the experience is not that dynamic."
   ]
  },
  {
   "cell_type": "markdown",
   "metadata": {},
   "source": [
    "## Discussion\n",
    "\n",
    "We first used event handlers (as registered by `.observe()`) to interactively update the viewer with the selected protein-ligand pose and its surroundings. Then, we extended the visualization using PLIP's automated analysis to draw the interactions in the viewer."
   ]
  },
  {
   "cell_type": "markdown",
   "metadata": {},
   "source": [
    "## Quiz\n",
    "\n",
    "Ask three questions that the user should be able to answer after doing this talktorial. Choose important take-aways from this talktorial for your questions.\n",
    "\n",
    "1. Question\n",
    "2. Question\n",
    "3. Question"
   ]
  }
 ],
 "metadata": {
  "kernelspec": {
   "display_name": "Python 3",
   "language": "python",
   "name": "python3"
  },
  "language_info": {
   "codemirror_mode": {
    "name": "ipython",
    "version": 3
   },
   "file_extension": ".py",
   "mimetype": "text/x-python",
   "name": "python",
   "nbconvert_exporter": "python",
   "pygments_lexer": "ipython3",
   "version": "3.8.6"
  },
  "widgets": {
   "application/vnd.jupyter.widget-state+json": {
    "state": {},
    "version_major": 2,
    "version_minor": 0
   }
  }
 },
 "nbformat": 4,
 "nbformat_minor": 4
}
