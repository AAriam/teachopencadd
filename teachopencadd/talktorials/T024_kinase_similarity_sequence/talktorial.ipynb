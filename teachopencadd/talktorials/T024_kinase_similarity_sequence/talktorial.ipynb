{
 "cells": [
  {
   "cell_type": "markdown",
   "metadata": {},
   "source": [
    "# T024 · Kinase similarity: sequence\n",
    "\n",
    "Authors:\n",
    "\n",
    "- Talia B. Kimber, 2021, [Volkamer lab, Charité](https://volkamerlab.org/)\n",
    "- Dominique Sydow, 2021, [Volkamer lab, Charité](https://volkamerlab.org/)\n",
    "- Andrea Volkamer, 2021, [Volkamer lab, Charité](https://volkamerlab.org/)"
   ]
  },
  {
   "cell_type": "markdown",
   "metadata": {},
   "source": [
    "## Aim of this talktorial\n",
    "\n",
    "In this talktorial, we investigate sequence similarity for kinases of interest. KLIFS' API is used to retrieve the 85 residues pocket sequence for each kinase. Two similarity measures are implemented: 1. the identity similarity which is based on character-wise discrepancy and 2. the substitution similarity which is amino acid specific."
   ]
  },
  {
   "cell_type": "markdown",
   "metadata": {},
   "source": [
    "### Contents in *Theory*\n",
    "\n",
    "* Kinase dataset\n",
    "* Kinase similarity descriptor: sequence\n",
    "    * Identity score\n",
    "    * Substitution score"
   ]
  },
  {
   "cell_type": "markdown",
   "metadata": {},
   "source": [
    "### Contents in *Practical*\n",
    "\n",
    "* Retrieve sequences from KLIFS\n",
    "* Sequence similarity\n",
    "    * Identity score\n",
    "    * Substitution score\n",
    "* Kinase comparison\n",
    "* Visualize similarity as kinase matrix\n",
    "* Save kinase distance matrix"
   ]
  },
  {
   "cell_type": "markdown",
   "metadata": {},
   "source": [
    "### References\n",
    "\n",
    "* Kinase dataset: [<i>Molecules</i> (2021), <b>26(3)</b>, 629](https://www.mdpi.com/1420-3049/26/3/629) \n",
    "* KLIFS\n",
    "  * KLIFS URL: https://klifs.net/\n",
    "  * KLIFS database: [<i>Nucleic Acid Res.</i> (2020), <b>49(D1)</b>, D562-D569](https://doi.org/10.1093/nar/gkaa895)\n",
    "* Substitution matrix: [<i>PNAS</i> (1992), <b>89(22)<b>, 10915-10919](https://doi.org/10.1073/pnas.89.22.10915)"
   ]
  },
  {
   "cell_type": "markdown",
   "metadata": {},
   "source": [
    "## Theory"
   ]
  },
  {
   "cell_type": "markdown",
   "metadata": {},
   "source": [
    "### Kinase dataset"
   ]
  },
  {
   "cell_type": "markdown",
   "metadata": {},
   "source": [
    "We will use nine kinases from [<i>Molecules</i> (2021), <b>26(3)</b>, 629](https://www.mdpi.com/1420-3049/26/3/629), which aimed to understand kinase similarities within different combinations of kinase on- and off-targets (also called anti-targets):\n",
    "\n",
    " \n",
    "\n",
    "> We aggregated the investigated kinases in “profiles”. Profile 1 combined **EGFR** and **ErbB2** as targets and **BRAF** as a (general) anti-target. Out of similar considerations, Profile 2 consisted of EGFR and **PI3K** as targets and BRAF as anti-target. This profile is expected to be more challenging as PI3K is an atypical kinase and thus less similar to EGFR than for example ErbB2 used in Profile 1. Profile 3, comprised of EGFR and **VEGFR2** as targets and BRAF as anti-target, was contrasted with the hit rate that we found with a standard docking against the single target VEGFR2 (Profile 4).\n",
    "> To broaden the comparison and obtain an estimate for the promiscuity of each compound, the kinases **CDK2**, **LCK**, **MET** and **p38α** were included in the experimental assay panel and the structure-based bioinformatics comparison as commonly used anti-targets.\n",
    "\n",
    " \n",
    "\n",
    "*Table 1:*\n",
    "Kinases used in this notebook, taken from [<i>Molecules</i> (2021), <b>26(3)</b>, 629](https://www.mdpi.com/1420-3049/26/3/629), with their synonyms, UniProt IDs, kinase groups, and full unabbreviated names.\n",
    "\n",
    " \n",
    "\n",
    "| Kinase                     | Synonyms               | UniProt ID | Group    | Full kinase name                                 |\n",
    "|----------------------------|------------------------|------------|----------|--------------------------------------------------|\n",
    "| EGFR                       | ErbB1                  | P00533     | TK       | Epidermal growth factor receptor                 |\n",
    "| ErbB2                      | Her2                   | P04626     | TK       | Erythroblastic leukemia viral oncogene homolog 2 |\n",
    "| PI3K                       | PI3KCA, p110a          | P42336     | Atypical | Phosphatidylinositol-3-kinase                    |\n",
    "| VEGFR2                     | KDR                    | P35968     | TK       | Vascular endothelial growth factor receptor 2    |\n",
    "| BRAF                       | -                      | P15056     | TKL      | Rapidly accelerated fibrosarcoma isoform B       |\n",
    "| CDK2                       | -                      | P24941     | CMGC     | Cyclic-dependent kinase 2                        |\n",
    "| LCK                        | -                      | P06239     | TK       | Lymphocyte-specific protein tyrosine kinase      |\n",
    "| MET                        | -                      | P08581     | TK       | Mesenchymal-epithelial transition factor         |\n",
    "| p38a                       | MAPK14                 | Q16539     | CMGC     | p38 mitogen activated protein kinase α           |"
   ]
  },
  {
   "cell_type": "markdown",
   "metadata": {},
   "source": [
    "### Kinase similarity descriptor: sequence\n",
    "\n",
    "In this talktorial, the KLIFS' pocket sequence is used for two main reasons:\n",
    "1. The sequence is of fixed length (it contains 85 residues), which makes computation for pairwise similarity between two sequences easy.\n",
    "2. The binding pocket is where the action takes place. Why consider the full kinase sequence when an 85 residues sequence contains most relevant information?\n",
    "\n",
    "We now describe two ways to compare pocket sequences."
   ]
  },
  {
   "cell_type": "markdown",
   "metadata": {},
   "source": [
    "#### Identity score\n",
    "A simple way of assessing the similarity between two sequences is to use the so-called identity score.\n",
    "First, a match vector is created: it checks whether for each position the characters from the two sequences are identical. If there are, the entry is set to $1$, and $0$ otherwise.\n",
    "\n",
    "The identity score is computed by sum the elements in the match vector and normalizing the entry by the length of the sequence, which, in the case of KLIFS pocket sequence is $85$."
   ]
  },
  {
   "cell_type": "markdown",
   "metadata": {},
   "source": [
    "Let's consider the identity matrix $I$ below:"
   ]
  },
  {
   "cell_type": "markdown",
   "metadata": {},
   "source": [
    "|       | A     | C     | D     | E     | ... |\n",
    "|-------|-------|-----  |-----  |-----  |-----|\n",
    "| **A** | **1** | 0     | 0     | 0     | ... |\n",
    "| **C** | 0     | **1** | 0     | 0     | ... |\n",
    "| **D** | 0     | 0     | **1** | 0     | ... |\n",
    "| **E** | 0     | 0     | 0     | **1** | ... |\n",
    "| ...   | ...   | ...   | ...   | ...   | ... |\n"
   ]
  },
  {
   "cell_type": "markdown",
   "metadata": {},
   "source": [
    "and let $M = len(K_i) = len(K_j)$."
   ]
  },
  {
   "cell_type": "markdown",
   "metadata": {},
   "source": [
    "We use the following metric as similarity between kinases $K_i$ and $K_j$:\n",
    "\n",
    "$$\n",
    "\\text{similarity}(K_i, K_j) = \\frac{1}{M} \\sum_{n}^{M} I (K_i[n], K_j[n]),\n",
    "$$\n",
    "\n",
    "where $K_i[n]$ represents the amino acid at position $n$ of kinase $i$."
   ]
  },
  {
   "cell_type": "markdown",
   "metadata": {},
   "source": [
    "#### Substitution score\n",
    "Although the identity score is an easy measure of similarity, it does not take into account the rate at which an amino acid may change into another and treats all residues uniformly.\n",
    "\n",
    "The substitution score takes the changes of the amino acids over evolutionary time into account. It makes use of a substitution matrix, where each entry gives a score between two amino acids.\n",
    "In this talktorial, we use the BLOSUM substitution matrix [<i>PNAS</i> (1992), <b>89(22)<b>, 10915-10919](https://doi.org/10.1073/pnas.89.22.10915), implemented in biotite."
   ]
  },
  {
   "cell_type": "markdown",
   "metadata": {},
   "source": [
    "The BLOSUM substitution matrix $SM$ is defined as below (the full matrix will be displayed in the practical part):"
   ]
  },
  {
   "cell_type": "markdown",
   "metadata": {},
   "source": [
    "|       | A     | C     | D     | E     | ... |\n",
    "|-------|-------|-----  |-----  |-----  |-----|\n",
    "| **A** | 4     | 0     | -2    | -1    | ... |\n",
    "| **C** | 0     | 9     | -3    | -4    | ... |\n",
    "| **D** | -2    | -3    | 6     | 2     | ... |\n",
    "| **E** | -1    | -4    | 2     | 5     | ... |\n",
    "| ...   | ...   | ...   | ...   | ...   | ... |"
   ]
  },
  {
   "cell_type": "markdown",
   "metadata": {},
   "source": [
    "We use the following metric as similarity between kinases $K_i$ and $K_j$:\n",
    "\n",
    "$$\n",
    "\\text{similarity}(K_i, K_j) = \\frac{1}{\\sum_i SM[i,i]} \\sum_{n}^{M} SM\\big((K_i[n], K_j[n])\\big),\n",
    "$$\n",
    "\n",
    "where $K_i[n]$ represents the amino acid at position $n$ of kinase $i$ and $M = len(K_i) = len(K_j)$."
   ]
  },
  {
   "cell_type": "markdown",
   "metadata": {},
   "source": [
    "## Practical"
   ]
  },
  {
   "cell_type": "code",
   "execution_count": 1,
   "metadata": {},
   "outputs": [],
   "source": [
    "from pathlib import Path\n",
    "\n",
    "import pandas as pd\n",
    "import numpy as np\n",
    "import seaborn as sns\n",
    "import requests\n",
    "import biotite.sequence.align as align\n",
    "from sklearn import preprocessing"
   ]
  },
  {
   "cell_type": "code",
   "execution_count": 2,
   "metadata": {},
   "outputs": [],
   "source": [
    "HERE = Path(_dh[-1])\n",
    "DATA = HERE / \"data\""
   ]
  },
  {
   "cell_type": "markdown",
   "metadata": {},
   "source": [
    "### Retrieve sequences from KLIFS"
   ]
  },
  {
   "cell_type": "markdown",
   "metadata": {},
   "source": [
    "We start by listing the kinases of interest."
   ]
  },
  {
   "cell_type": "code",
   "execution_count": 3,
   "metadata": {},
   "outputs": [],
   "source": [
    "query_kinases = ['EGFR',\n",
    "                 'ErbB2',\n",
    "                 'BRAF',\n",
    "                 'CDK2',\n",
    "                 'LCK',\n",
    "                 'MET',\n",
    "                 'p38a',\n",
    "                 'KDR',\n",
    "                 'p110a']"
   ]
  },
  {
   "cell_type": "markdown",
   "metadata": {},
   "source": [
    "We use KLIFS' API to retrieve the $85$-long pocket sequence for each kinase."
   ]
  },
  {
   "cell_type": "code",
   "execution_count": 4,
   "metadata": {},
   "outputs": [],
   "source": [
    "def klifs_pocket_sequence(kinase_name):\n",
    "    \"\"\"\n",
    "    Retrieves the pocket sequence from KLIFS using the API.\n",
    "\n",
    "    Parameters\n",
    "    ----------\n",
    "    kinase_name : str\n",
    "        The name of the kinase of interest.\n",
    "\n",
    "    Returns\n",
    "    -------\n",
    "    str :\n",
    "        The 85 residues pocket sequence from KLIFS,\n",
    "        if the kinase name is valid, None otherwise.\n",
    "    \"\"\"\n",
    "    response = requests.get(f\"https://klifs.net/api/\"\n",
    "                            f\"kinase_ID?kinase_name={kinase_name}\"\n",
    "                            f\"&species=HUMAN\")\n",
    "\n",
    "    if response.status_code == 200:\n",
    "        return response.json()[0]['pocket']\n",
    "    else:\n",
    "        print(f'KLIFS failed for kinase {kinase_name}')\n",
    "        return None"
   ]
  },
  {
   "cell_type": "markdown",
   "metadata": {},
   "source": [
    "Let's look at these pocket sequences."
   ]
  },
  {
   "cell_type": "code",
   "execution_count": 5,
   "metadata": {},
   "outputs": [
    {
     "data": {
      "text/plain": [
       "{'EGFR': 'KVLGSGAFGTVYKVAIKELEILDEAYVMASVDPHVCRLLGIQLITQLMPFGCLLDYVREYLEDRRLVHRDLAARNVLVITDFGLA',\n",
       " 'ErbB2': 'KVLGSGAFGTVYKVAIKVLEILDEAYVMAGVGPYVSRLLGIQLVTQLMPYGCLLDHVREYLEDVRLVHRDLAARNVLVITDFGLA',\n",
       " 'BRAF': 'QRIGSGSFGTVYKVAVKMLAFKNEVGVLRKTRVNILLFMGYAIVTQWCEGSSLYHHLHIYLHAKSIIHRDLKSNNIFLIGDFGLA',\n",
       " 'CDK2': 'EKIGEGTYGVVYKVALKKITAIREISLLKELNPNIVKLLDVYLVFEFLH-QDLKKFMDAFCHSHRVLHRDLKPQNLLILADFGLA',\n",
       " 'LCK': 'ERLGAGQFGEVWMVAVKSLAFLAEANLMKQLQQRLVRLYAVYIITEYMENGSLVDFLKTFIEERNYIHRDLRAANILVIADFGLA',\n",
       " 'MET': 'EVIGRGHFGCVYHCAVKSLQFLTEGIIMKDFSPNVLSLLGILVVLPYMKHGDLRNFIRNYLASKKFVHRDLAARNCMLVADFGLA',\n",
       " 'p38a': 'SPVGSGAYGSVCAVAVKKLRTYRELRLLKHMKENVIGLLDVYLVTHLMG-ADLNNIVKCYIHSADIIHRDLKPSNLAVILDFGLA',\n",
       " 'KDR': 'KPLGRGAFGQVIEVAVKMLALMSELKILIHIGLNVVNLLGAMVIVEFCKFGNLSTYLRSFLASRKCIHRDLAARNILLICDFGLA',\n",
       " 'p110a': 'CRIMSSAKRPLWLIIFKNGDLRQDMLTLQIIRLRMLPYGCLVGLIEVVRSHTIMQIQCKATFI--LGIGDRHNSNIMVHIDFGHF'}"
      ]
     },
     "execution_count": 5,
     "metadata": {},
     "output_type": "execute_result"
    }
   ],
   "source": [
    "kinase_sequences = {}\n",
    "for kinase in query_kinases:\n",
    "    kinase_sequences[kinase] = klifs_pocket_sequence(kinase)\n",
    "kinase_sequences"
   ]
  },
  {
   "cell_type": "markdown",
   "metadata": {},
   "source": [
    "### Sequence similarity"
   ]
  },
  {
   "cell_type": "markdown",
   "metadata": {},
   "source": [
    "Given two kinases, we create functions which account for identity or substitution similarity, as described in the theory."
   ]
  },
  {
   "cell_type": "markdown",
   "metadata": {},
   "source": [
    "#### Identity score\n",
    "We first define a function which compares element-wise characters in two sequences."
   ]
  },
  {
   "cell_type": "code",
   "execution_count": 6,
   "metadata": {},
   "outputs": [],
   "source": [
    "def identity_score(sequence1, sequence2):\n",
    "    \"\"\"\n",
    "    Computes the element-wise binary similarity between two sequences.\n",
    "\n",
    "    Parameters\n",
    "    ----------\n",
    "    sequence1 : np.array\n",
    "        An array of character describing the first sequence.\n",
    "    sequence2 :\n",
    "        An array of character describing the second sequence.\n",
    "\n",
    "    Returns\n",
    "    -------\n",
    "    np.array :\n",
    "        The bool array for each character.\n",
    "        1 if the elements are identical,\n",
    "        0 otherwise.\n",
    "    \"\"\"\n",
    "    # True is the character is the same, False otherwise\n",
    "    return np.compare_chararrays(sequence1,\n",
    "                                 sequence2,\n",
    "                                 cmp=\"==\",\n",
    "                                 rstrip=True)"
   ]
  },
  {
   "cell_type": "markdown",
   "metadata": {},
   "source": [
    "#### Substitution score\n",
    "We now define the function which is more specific to amino acids grouping and use the `biotite` library for retrieving the BLOSUM substitution matrix."
   ]
  },
  {
   "cell_type": "markdown",
   "metadata": {},
   "source": [
    "The substituion matrix can be retrieve from `biotite` using the following command:"
   ]
  },
  {
   "cell_type": "code",
   "execution_count": 7,
   "metadata": {},
   "outputs": [
    {
     "name": "stdout",
     "output_type": "stream",
     "text": [
      "    A   C   D   E   F   G   H   I   K   L   M   N   P   Q   R   S   T   V   W   Y   B   Z   X   *\n",
      "A   4   0  -2  -1  -2   0  -2  -1  -1  -1  -1  -2  -1  -1  -1   1   0   0  -3  -2  -2  -1   0  -4\n",
      "C   0   9  -3  -4  -2  -3  -3  -1  -3  -1  -1  -3  -3  -3  -3  -1  -1  -1  -2  -2  -3  -3  -2  -4\n",
      "D  -2  -3   6   2  -3  -1  -1  -3  -1  -4  -3   1  -1   0  -2   0  -1  -3  -4  -3   4   1  -1  -4\n",
      "E  -1  -4   2   5  -3  -2   0  -3   1  -3  -2   0  -1   2   0   0  -1  -2  -3  -2   1   4  -1  -4\n",
      "F  -2  -2  -3  -3   6  -3  -1   0  -3   0   0  -3  -4  -3  -3  -2  -2  -1   1   3  -3  -3  -1  -4\n",
      "G   0  -3  -1  -2  -3   6  -2  -4  -2  -4  -3   0  -2  -2  -2   0  -2  -3  -2  -3  -1  -2  -1  -4\n",
      "H  -2  -3  -1   0  -1  -2   8  -3  -1  -3  -2   1  -2   0   0  -1  -2  -3  -2   2   0   0  -1  -4\n",
      "I  -1  -1  -3  -3   0  -4  -3   4  -3   2   1  -3  -3  -3  -3  -2  -1   3  -3  -1  -3  -3  -1  -4\n",
      "K  -1  -3  -1   1  -3  -2  -1  -3   5  -2  -1   0  -1   1   2   0  -1  -2  -3  -2   0   1  -1  -4\n",
      "L  -1  -1  -4  -3   0  -4  -3   2  -2   4   2  -3  -3  -2  -2  -2  -1   1  -2  -1  -4  -3  -1  -4\n",
      "M  -1  -1  -3  -2   0  -3  -2   1  -1   2   5  -2  -2   0  -1  -1  -1   1  -1  -1  -3  -1  -1  -4\n",
      "N  -2  -3   1   0  -3   0   1  -3   0  -3  -2   6  -2   0   0   1   0  -3  -4  -2   3   0  -1  -4\n",
      "P  -1  -3  -1  -1  -4  -2  -2  -3  -1  -3  -2  -2   7  -1  -2  -1  -1  -2  -4  -3  -2  -1  -2  -4\n",
      "Q  -1  -3   0   2  -3  -2   0  -3   1  -2   0   0  -1   5   1   0  -1  -2  -2  -1   0   3  -1  -4\n",
      "R  -1  -3  -2   0  -3  -2   0  -3   2  -2  -1   0  -2   1   5  -1  -1  -3  -3  -2  -1   0  -1  -4\n",
      "S   1  -1   0   0  -2   0  -1  -2   0  -2  -1   1  -1   0  -1   4   1  -2  -3  -2   0   0   0  -4\n",
      "T   0  -1  -1  -1  -2  -2  -2  -1  -1  -1  -1   0  -1  -1  -1   1   5   0  -2  -2  -1  -1   0  -4\n",
      "V   0  -1  -3  -2  -1  -3  -3   3  -2   1   1  -3  -2  -2  -3  -2   0   4  -3  -1  -3  -2  -1  -4\n",
      "W  -3  -2  -4  -3   1  -2  -2  -3  -3  -2  -1  -4  -4  -2  -3  -3  -2  -3  11   2  -4  -3  -2  -4\n",
      "Y  -2  -2  -3  -2   3  -3   2  -1  -2  -1  -1  -2  -3  -1  -2  -2  -2  -1   2   7  -3  -2  -1  -4\n",
      "B  -2  -3   4   1  -3  -1   0  -3   0  -4  -3   3  -2   0  -1   0  -1  -3  -4  -3   4   1  -1  -4\n",
      "Z  -1  -3   1   4  -3  -2   0  -3   1  -3  -1   0  -1   3   0   0  -1  -2  -3  -2   1   4  -1  -4\n",
      "X   0  -2  -1  -1  -1  -1  -1  -1  -1  -1  -1  -1  -2  -1  -1   0   0  -1  -2  -1  -1  -1  -1  -4\n",
      "*  -4  -4  -4  -4  -4  -4  -4  -4  -4  -4  -4  -4  -4  -4  -4  -4  -4  -4  -4  -4  -4  -4  -4   1\n"
     ]
    }
   ],
   "source": [
    "substitution_matrix = align.SubstitutionMatrix.std_protein_matrix()\n",
    "print(substitution_matrix)"
   ]
  },
  {
   "cell_type": "code",
   "execution_count": 8,
   "metadata": {},
   "outputs": [],
   "source": [
    "def substitution_score(sequence1,\n",
    "                       sequence2,\n",
    "                       substitution_matrix=align.\n",
    "                       SubstitutionMatrix.std_protein_matrix()):\n",
    "    \"\"\"\n",
    "    Retrieve the match score given the substitution matrix\n",
    "\n",
    "    Parameters\n",
    "    ----------\n",
    "    sequence1 : np.array\n",
    "        An array of character describing the first sequence.\n",
    "    sequence2 :\n",
    "        An array of character describing the second sequence.\n",
    "    substitution_matrix:\n",
    "        A substituition matrix specific to amino acids.\n",
    "        The default is align.SubstitutionMatrix.std_protein_matrix()\n",
    "        from biotite, which represents BLOSUM62.\n",
    "\n",
    "    Returns\n",
    "    -------\n",
    "    tuple (np.array, np.float) :\n",
    "        The vector of match score given the substitution matrix,\n",
    "        and the normalizing value.\n",
    "    \"\"\"\n",
    "    # Retrieve np.array from substitution matrix\n",
    "    score_matrix = substitution_matrix.score_matrix()\n",
    "    \n",
    "    # Normalize values to be in (0,1)\n",
    "    score_matrix = preprocessing.minmax_scale(score_matrix,\n",
    "                                              feature_range=(0, 1))\n",
    "    \n",
    "    # Sum diagonal values for normalization, called the trace\n",
    "    normalizing_value = np.trace(score_matrix)\n",
    "    \n",
    "    # Retireve the letter\n",
    "    letter_alphabet = substitution_matrix.get_alphabet1()\n",
    "\n",
    "    # Map letter to index\n",
    "    dict_letters = {}\n",
    "    for i, letter in enumerate(letter_alphabet.get_symbols()):\n",
    "        dict_letters[letter] = i\n",
    "\n",
    "    match_score = match_score = np.zeros(len(sequence1))\n",
    "    for i, (character_seq1, character_seq2) in enumerate(zip(sequence1,\n",
    "                                                             sequence2)):\n",
    "        ind1 = dict_letters[character_seq1]\n",
    "        ind2 = dict_letters[character_seq2]\n",
    "        match_score[i] = score_matrix[ind1, ind2]\n",
    "    return match_score, normalizing_value"
   ]
  },
  {
   "cell_type": "markdown",
   "metadata": {},
   "source": [
    "## Kinase similarity"
   ]
  },
  {
   "cell_type": "markdown",
   "metadata": {},
   "source": [
    "Given two kinases, we create a function which computes the sequence similarity between them using one of the two measures, the identity or the substitution."
   ]
  },
  {
   "cell_type": "code",
   "execution_count": 9,
   "metadata": {},
   "outputs": [],
   "source": [
    "def sequence_similarity(kinase_name1, kinase_name2, type_=\"identity\"):\n",
    "    \"\"\"\n",
    "    Compares two sequences using a given metric.\n",
    "\n",
    "    kinase_name1, kinase_name2 : str\n",
    "        The two names of the kinases for comparison.\n",
    "\n",
    "    type_ : str\n",
    "        The type of metric to compute the similarity.\n",
    "        The default is `identity`.\n",
    "\n",
    "    Returns\n",
    "    -------\n",
    "    float :\n",
    "        The similarity between the pocket sequences of the two kinases.\n",
    "    \"\"\"\n",
    "    sequence_1 = klifs_pocket_sequence(kinase_name1)\n",
    "    sequence_2 = klifs_pocket_sequence(kinase_name2)\n",
    "\n",
    "    # Replace possible unavailable residue\n",
    "    # noted in KLIFS with \"-\"\n",
    "    # by the symbol \"*\" for biotite\n",
    "    sequence_1 = sequence_1.replace(\"-\", \"*\")\n",
    "    sequence_2 = sequence_2.replace(\"-\", \"*\")\n",
    "\n",
    "    if len(sequence_1) != len(sequence_1):\n",
    "        print(\"Mismatch in sequence lengths.\")\n",
    "        return None\n",
    "    else:\n",
    "        seq_array1 = np.array(list(sequence_1))\n",
    "        seq_array2 = np.array(list(sequence_2))\n",
    "\n",
    "        if type_ == \"identity\":\n",
    "            is_match = identity_score(seq_array1, seq_array2)\n",
    "            similarity_normed = sum(is_match)/len(sequence_1)\n",
    "            return similarity_normed\n",
    "\n",
    "        elif type_ == \"substitution\":\n",
    "            match_score, normalizing_value = substitution_score(seq_array1, seq_array2)\n",
    "            similarity_normed = sum(match_score)/normalizing_value\n",
    "            return similarity_normed\n",
    "\n",
    "        else:\n",
    "            print(\"Type not defined.\")\n",
    "            return None"
   ]
  },
  {
   "cell_type": "markdown",
   "metadata": {},
   "source": [
    "Let's look at the sequence similarity between EGFR and MET:"
   ]
  },
  {
   "cell_type": "code",
   "execution_count": 10,
   "metadata": {},
   "outputs": [
    {
     "name": "stdout",
     "output_type": "stream",
     "text": [
      "Pocket sequence similarity between EGFR and MET kinases: 2.54 using substitution.\n"
     ]
    }
   ],
   "source": [
    "EGFR_MET_seq_similarity = sequence_similarity(\"EGFR\",\n",
    "                                              \"MET\",\n",
    "                                              \"substitution\")\n",
    "print(f\"Pocket sequence similarity between EGFR and MET kinases: \"\n",
    "      f\"{EGFR_MET_seq_similarity:.2f} using substitution.\")"
   ]
  },
  {
   "cell_type": "code",
   "execution_count": 11,
   "metadata": {},
   "outputs": [
    {
     "name": "stdout",
     "output_type": "stream",
     "text": [
      "Pocket sequence similarity between EGFR and MET kinases: 0.46 using identity.\n"
     ]
    }
   ],
   "source": [
    "EGFR_MET_seq_similarity = sequence_similarity(\"EGFR\",\n",
    "                                              \"MET\",\n",
    "                                              \"identity\")\n",
    "print(f\"Pocket sequence similarity between EGFR and MET kinases: \"\n",
    "      f\"{EGFR_MET_seq_similarity:.2f} using identity.\")"
   ]
  },
  {
   "cell_type": "markdown",
   "metadata": {},
   "source": [
    "As expected, the similarity between a kinase and itself leads to the highest possible score:"
   ]
  },
  {
   "cell_type": "code",
   "execution_count": 12,
   "metadata": {},
   "outputs": [
    {
     "name": "stdout",
     "output_type": "stream",
     "text": [
      "Pocket sequence similarity between EGFR itself: 1.00 using identity.\n"
     ]
    }
   ],
   "source": [
    "EGFR_seq_similarity = sequence_similarity(\"EGFR\", \"EGFR\")\n",
    "print(f\"Pocket sequence similarity between EGFR itself: \"\n",
    "      f\"{EGFR_seq_similarity:.2f} using identity.\")"
   ]
  },
  {
   "cell_type": "code",
   "execution_count": 13,
   "metadata": {},
   "outputs": [
    {
     "name": "stdout",
     "output_type": "stream",
     "text": [
      "Pocket sequence similarity between EGFR itself: 3.58 using substitution.\n"
     ]
    }
   ],
   "source": [
    "EGFR_seq_similarity = sequence_similarity(\"EGFR\", \"EGFR\", type_=\"substitution\")\n",
    "print(f\"Pocket sequence similarity between EGFR itself: \"\n",
    "      f\"{EGFR_seq_similarity:.2f} using substitution.\")\n",
    "# TODO: normalize"
   ]
  },
  {
   "cell_type": "markdown",
   "metadata": {},
   "source": [
    "### Visualize similarity as kinase matrix"
   ]
  },
  {
   "cell_type": "code",
   "execution_count": 14,
   "metadata": {},
   "outputs": [],
   "source": [
    "kinase_similarity_matrix = np.zeros((len(query_kinases), len(query_kinases)))\n",
    "for i, kinase_name1 in enumerate(query_kinases):\n",
    "    for j, kinase_name2 in enumerate(query_kinases):\n",
    "        kinase_similarity_matrix[i, j] = sequence_similarity(kinase_name1,\n",
    "                                                             kinase_name2)"
   ]
  },
  {
   "cell_type": "code",
   "execution_count": 15,
   "metadata": {},
   "outputs": [
    {
     "data": {
      "text/html": [
       "<div>\n",
       "<style scoped>\n",
       "    .dataframe tbody tr th:only-of-type {\n",
       "        vertical-align: middle;\n",
       "    }\n",
       "\n",
       "    .dataframe tbody tr th {\n",
       "        vertical-align: top;\n",
       "    }\n",
       "\n",
       "    .dataframe thead th {\n",
       "        text-align: right;\n",
       "    }\n",
       "</style>\n",
       "<table border=\"1\" class=\"dataframe\">\n",
       "  <thead>\n",
       "    <tr style=\"text-align: right;\">\n",
       "      <th></th>\n",
       "      <th>EGFR</th>\n",
       "      <th>ErbB2</th>\n",
       "      <th>BRAF</th>\n",
       "      <th>CDK2</th>\n",
       "      <th>LCK</th>\n",
       "      <th>MET</th>\n",
       "      <th>p38a</th>\n",
       "      <th>KDR</th>\n",
       "      <th>p110a</th>\n",
       "    </tr>\n",
       "  </thead>\n",
       "  <tbody>\n",
       "    <tr>\n",
       "      <th>EGFR</th>\n",
       "      <td>1.000000</td>\n",
       "      <td>0.894118</td>\n",
       "      <td>0.376471</td>\n",
       "      <td>0.317647</td>\n",
       "      <td>0.447059</td>\n",
       "      <td>0.458824</td>\n",
       "      <td>0.388235</td>\n",
       "      <td>0.470588</td>\n",
       "      <td>0.117647</td>\n",
       "    </tr>\n",
       "    <tr>\n",
       "      <th>ErbB2</th>\n",
       "      <td>0.894118</td>\n",
       "      <td>1.000000</td>\n",
       "      <td>0.400000</td>\n",
       "      <td>0.329412</td>\n",
       "      <td>0.423529</td>\n",
       "      <td>0.470588</td>\n",
       "      <td>0.400000</td>\n",
       "      <td>0.435294</td>\n",
       "      <td>0.117647</td>\n",
       "    </tr>\n",
       "    <tr>\n",
       "      <th>BRAF</th>\n",
       "      <td>0.376471</td>\n",
       "      <td>0.400000</td>\n",
       "      <td>1.000000</td>\n",
       "      <td>0.329412</td>\n",
       "      <td>0.388235</td>\n",
       "      <td>0.376471</td>\n",
       "      <td>0.376471</td>\n",
       "      <td>0.400000</td>\n",
       "      <td>0.152941</td>\n",
       "    </tr>\n",
       "    <tr>\n",
       "      <th>CDK2</th>\n",
       "      <td>0.317647</td>\n",
       "      <td>0.329412</td>\n",
       "      <td>0.329412</td>\n",
       "      <td>1.000000</td>\n",
       "      <td>0.376471</td>\n",
       "      <td>0.364706</td>\n",
       "      <td>0.470588</td>\n",
       "      <td>0.341176</td>\n",
       "      <td>0.105882</td>\n",
       "    </tr>\n",
       "    <tr>\n",
       "      <th>LCK</th>\n",
       "      <td>0.447059</td>\n",
       "      <td>0.423529</td>\n",
       "      <td>0.388235</td>\n",
       "      <td>0.376471</td>\n",
       "      <td>1.000000</td>\n",
       "      <td>0.400000</td>\n",
       "      <td>0.388235</td>\n",
       "      <td>0.435294</td>\n",
       "      <td>0.141176</td>\n",
       "    </tr>\n",
       "    <tr>\n",
       "      <th>MET</th>\n",
       "      <td>0.458824</td>\n",
       "      <td>0.470588</td>\n",
       "      <td>0.376471</td>\n",
       "      <td>0.364706</td>\n",
       "      <td>0.400000</td>\n",
       "      <td>1.000000</td>\n",
       "      <td>0.364706</td>\n",
       "      <td>0.470588</td>\n",
       "      <td>0.105882</td>\n",
       "    </tr>\n",
       "    <tr>\n",
       "      <th>p38a</th>\n",
       "      <td>0.388235</td>\n",
       "      <td>0.400000</td>\n",
       "      <td>0.376471</td>\n",
       "      <td>0.470588</td>\n",
       "      <td>0.388235</td>\n",
       "      <td>0.364706</td>\n",
       "      <td>1.000000</td>\n",
       "      <td>0.388235</td>\n",
       "      <td>0.141176</td>\n",
       "    </tr>\n",
       "    <tr>\n",
       "      <th>KDR</th>\n",
       "      <td>0.470588</td>\n",
       "      <td>0.435294</td>\n",
       "      <td>0.400000</td>\n",
       "      <td>0.341176</td>\n",
       "      <td>0.435294</td>\n",
       "      <td>0.470588</td>\n",
       "      <td>0.388235</td>\n",
       "      <td>1.000000</td>\n",
       "      <td>0.152941</td>\n",
       "    </tr>\n",
       "    <tr>\n",
       "      <th>p110a</th>\n",
       "      <td>0.117647</td>\n",
       "      <td>0.117647</td>\n",
       "      <td>0.152941</td>\n",
       "      <td>0.105882</td>\n",
       "      <td>0.141176</td>\n",
       "      <td>0.105882</td>\n",
       "      <td>0.141176</td>\n",
       "      <td>0.152941</td>\n",
       "      <td>1.000000</td>\n",
       "    </tr>\n",
       "  </tbody>\n",
       "</table>\n",
       "</div>"
      ],
      "text/plain": [
       "           EGFR     ErbB2      BRAF      CDK2       LCK       MET      p38a  \\\n",
       "EGFR   1.000000  0.894118  0.376471  0.317647  0.447059  0.458824  0.388235   \n",
       "ErbB2  0.894118  1.000000  0.400000  0.329412  0.423529  0.470588  0.400000   \n",
       "BRAF   0.376471  0.400000  1.000000  0.329412  0.388235  0.376471  0.376471   \n",
       "CDK2   0.317647  0.329412  0.329412  1.000000  0.376471  0.364706  0.470588   \n",
       "LCK    0.447059  0.423529  0.388235  0.376471  1.000000  0.400000  0.388235   \n",
       "MET    0.458824  0.470588  0.376471  0.364706  0.400000  1.000000  0.364706   \n",
       "p38a   0.388235  0.400000  0.376471  0.470588  0.388235  0.364706  1.000000   \n",
       "KDR    0.470588  0.435294  0.400000  0.341176  0.435294  0.470588  0.388235   \n",
       "p110a  0.117647  0.117647  0.152941  0.105882  0.141176  0.105882  0.141176   \n",
       "\n",
       "            KDR     p110a  \n",
       "EGFR   0.470588  0.117647  \n",
       "ErbB2  0.435294  0.117647  \n",
       "BRAF   0.400000  0.152941  \n",
       "CDK2   0.341176  0.105882  \n",
       "LCK    0.435294  0.141176  \n",
       "MET    0.470588  0.105882  \n",
       "p38a   0.388235  0.141176  \n",
       "KDR    1.000000  0.152941  \n",
       "p110a  0.152941  1.000000  "
      ]
     },
     "execution_count": 15,
     "metadata": {},
     "output_type": "execute_result"
    }
   ],
   "source": [
    "kinase_similarity_matrix = pd.DataFrame(data=kinase_similarity_matrix,\n",
    "                                        index=query_kinases,\n",
    "                                        columns=query_kinases)\n",
    "kinase_similarity_matrix"
   ]
  },
  {
   "cell_type": "code",
   "execution_count": 16,
   "metadata": {},
   "outputs": [
    {
     "data": {
      "text/html": [
       "<style type=\"text/css\">\n",
       "#T_03cd7_row0_col0, #T_03cd7_row1_col1, #T_03cd7_row2_col2, #T_03cd7_row3_col3, #T_03cd7_row4_col4, #T_03cd7_row5_col5, #T_03cd7_row6_col6, #T_03cd7_row7_col7, #T_03cd7_row8_col8 {\n",
       "  background-color: #008000;\n",
       "  color: #f1f1f1;\n",
       "}\n",
       "#T_03cd7_row0_col1, #T_03cd7_row1_col0 {\n",
       "  background-color: #1c8e1c;\n",
       "  color: #f1f1f1;\n",
       "}\n",
       "#T_03cd7_row0_col2, #T_03cd7_row5_col2, #T_03cd7_row6_col2, #T_03cd7_row7_col3 {\n",
       "  background-color: #add5ad;\n",
       "  color: #000000;\n",
       "}\n",
       "#T_03cd7_row0_col3 {\n",
       "  background-color: #b3d8b3;\n",
       "  color: #000000;\n",
       "}\n",
       "#T_03cd7_row0_col4 {\n",
       "  background-color: #97ca97;\n",
       "  color: #000000;\n",
       "}\n",
       "#T_03cd7_row0_col5 {\n",
       "  background-color: #8ec58e;\n",
       "  color: #000000;\n",
       "}\n",
       "#T_03cd7_row0_col6, #T_03cd7_row2_col4, #T_03cd7_row4_col6, #T_03cd7_row6_col4, #T_03cd7_row7_col6 {\n",
       "  background-color: #a7d2a7;\n",
       "  color: #000000;\n",
       "}\n",
       "#T_03cd7_row0_col7, #T_03cd7_row5_col7 {\n",
       "  background-color: #92c892;\n",
       "  color: #000000;\n",
       "}\n",
       "#T_03cd7_row0_col8, #T_03cd7_row1_col8 {\n",
       "  background-color: #e8f2e8;\n",
       "  color: #000000;\n",
       "}\n",
       "#T_03cd7_row1_col2, #T_03cd7_row2_col7, #T_03cd7_row3_col5, #T_03cd7_row5_col3, #T_03cd7_row6_col5, #T_03cd7_row7_col2 {\n",
       "  background-color: #a6d2a6;\n",
       "  color: #000000;\n",
       "}\n",
       "#T_03cd7_row1_col3, #T_03cd7_row2_col3 {\n",
       "  background-color: #b1d7b1;\n",
       "  color: #000000;\n",
       "}\n",
       "#T_03cd7_row1_col4, #T_03cd7_row4_col5 {\n",
       "  background-color: #9dcd9d;\n",
       "  color: #000000;\n",
       "}\n",
       "#T_03cd7_row1_col5, #T_03cd7_row6_col3, #T_03cd7_row7_col5 {\n",
       "  background-color: #8bc48b;\n",
       "  color: #000000;\n",
       "}\n",
       "#T_03cd7_row1_col6, #T_03cd7_row2_col5, #T_03cd7_row4_col3, #T_03cd7_row5_col4 {\n",
       "  background-color: #a4d0a4;\n",
       "  color: #000000;\n",
       "}\n",
       "#T_03cd7_row1_col7, #T_03cd7_row4_col7 {\n",
       "  background-color: #9ccd9c;\n",
       "  color: #000000;\n",
       "}\n",
       "#T_03cd7_row2_col0 {\n",
       "  background-color: #a6d1a6;\n",
       "  color: #000000;\n",
       "}\n",
       "#T_03cd7_row2_col1, #T_03cd7_row6_col1 {\n",
       "  background-color: #a0cea0;\n",
       "  color: #000000;\n",
       "}\n",
       "#T_03cd7_row2_col6, #T_03cd7_row3_col4 {\n",
       "  background-color: #aad3aa;\n",
       "  color: #000000;\n",
       "}\n",
       "#T_03cd7_row2_col8, #T_03cd7_row7_col8 {\n",
       "  background-color: #dfeddf;\n",
       "  color: #000000;\n",
       "}\n",
       "#T_03cd7_row3_col0 {\n",
       "  background-color: #b5d9b5;\n",
       "  color: #000000;\n",
       "}\n",
       "#T_03cd7_row3_col1 {\n",
       "  background-color: #b2d7b2;\n",
       "  color: #000000;\n",
       "}\n",
       "#T_03cd7_row3_col2 {\n",
       "  background-color: #badbba;\n",
       "  color: #000000;\n",
       "}\n",
       "#T_03cd7_row3_col6, #T_03cd7_row5_col0 {\n",
       "  background-color: #90c790;\n",
       "  color: #000000;\n",
       "}\n",
       "#T_03cd7_row3_col7 {\n",
       "  background-color: #b7dab7;\n",
       "  color: #000000;\n",
       "}\n",
       "#T_03cd7_row3_col8, #T_03cd7_row5_col8, #T_03cd7_row8_col0, #T_03cd7_row8_col1, #T_03cd7_row8_col2, #T_03cd7_row8_col3, #T_03cd7_row8_col4, #T_03cd7_row8_col5, #T_03cd7_row8_col6, #T_03cd7_row8_col7 {\n",
       "  background-color: #ebf3eb;\n",
       "  color: #000000;\n",
       "}\n",
       "#T_03cd7_row4_col0 {\n",
       "  background-color: #93c893;\n",
       "  color: #000000;\n",
       "}\n",
       "#T_03cd7_row4_col1 {\n",
       "  background-color: #9acb9a;\n",
       "  color: #000000;\n",
       "}\n",
       "#T_03cd7_row4_col2, #T_03cd7_row6_col7 {\n",
       "  background-color: #a9d3a9;\n",
       "  color: #000000;\n",
       "}\n",
       "#T_03cd7_row4_col8, #T_03cd7_row6_col8 {\n",
       "  background-color: #e1eee1;\n",
       "  color: #000000;\n",
       "}\n",
       "#T_03cd7_row5_col1, #T_03cd7_row7_col0 {\n",
       "  background-color: #8dc58d;\n",
       "  color: #000000;\n",
       "}\n",
       "#T_03cd7_row5_col6 {\n",
       "  background-color: #aed5ae;\n",
       "  color: #000000;\n",
       "}\n",
       "#T_03cd7_row6_col0 {\n",
       "  background-color: #a3d0a3;\n",
       "  color: #000000;\n",
       "}\n",
       "#T_03cd7_row7_col1 {\n",
       "  background-color: #96c996;\n",
       "  color: #000000;\n",
       "}\n",
       "#T_03cd7_row7_col4 {\n",
       "  background-color: #9bcc9b;\n",
       "  color: #000000;\n",
       "}\n",
       "</style>\n",
       "<table id=\"T_03cd7_\">\n",
       "  <thead>\n",
       "    <tr>\n",
       "      <th class=\"blank level0\" >&nbsp;</th>\n",
       "      <th class=\"col_heading level0 col0\" >EGFR</th>\n",
       "      <th class=\"col_heading level0 col1\" >ErbB2</th>\n",
       "      <th class=\"col_heading level0 col2\" >BRAF</th>\n",
       "      <th class=\"col_heading level0 col3\" >CDK2</th>\n",
       "      <th class=\"col_heading level0 col4\" >LCK</th>\n",
       "      <th class=\"col_heading level0 col5\" >MET</th>\n",
       "      <th class=\"col_heading level0 col6\" >p38a</th>\n",
       "      <th class=\"col_heading level0 col7\" >KDR</th>\n",
       "      <th class=\"col_heading level0 col8\" >p110a</th>\n",
       "    </tr>\n",
       "  </thead>\n",
       "  <tbody>\n",
       "    <tr>\n",
       "      <th id=\"T_03cd7_level0_row0\" class=\"row_heading level0 row0\" >EGFR</th>\n",
       "      <td id=\"T_03cd7_row0_col0\" class=\"data row0 col0\" >1.000</td>\n",
       "      <td id=\"T_03cd7_row0_col1\" class=\"data row0 col1\" >0.894</td>\n",
       "      <td id=\"T_03cd7_row0_col2\" class=\"data row0 col2\" >0.376</td>\n",
       "      <td id=\"T_03cd7_row0_col3\" class=\"data row0 col3\" >0.318</td>\n",
       "      <td id=\"T_03cd7_row0_col4\" class=\"data row0 col4\" >0.447</td>\n",
       "      <td id=\"T_03cd7_row0_col5\" class=\"data row0 col5\" >0.459</td>\n",
       "      <td id=\"T_03cd7_row0_col6\" class=\"data row0 col6\" >0.388</td>\n",
       "      <td id=\"T_03cd7_row0_col7\" class=\"data row0 col7\" >0.471</td>\n",
       "      <td id=\"T_03cd7_row0_col8\" class=\"data row0 col8\" >0.118</td>\n",
       "    </tr>\n",
       "    <tr>\n",
       "      <th id=\"T_03cd7_level0_row1\" class=\"row_heading level0 row1\" >ErbB2</th>\n",
       "      <td id=\"T_03cd7_row1_col0\" class=\"data row1 col0\" >0.894</td>\n",
       "      <td id=\"T_03cd7_row1_col1\" class=\"data row1 col1\" >1.000</td>\n",
       "      <td id=\"T_03cd7_row1_col2\" class=\"data row1 col2\" >0.400</td>\n",
       "      <td id=\"T_03cd7_row1_col3\" class=\"data row1 col3\" >0.329</td>\n",
       "      <td id=\"T_03cd7_row1_col4\" class=\"data row1 col4\" >0.424</td>\n",
       "      <td id=\"T_03cd7_row1_col5\" class=\"data row1 col5\" >0.471</td>\n",
       "      <td id=\"T_03cd7_row1_col6\" class=\"data row1 col6\" >0.400</td>\n",
       "      <td id=\"T_03cd7_row1_col7\" class=\"data row1 col7\" >0.435</td>\n",
       "      <td id=\"T_03cd7_row1_col8\" class=\"data row1 col8\" >0.118</td>\n",
       "    </tr>\n",
       "    <tr>\n",
       "      <th id=\"T_03cd7_level0_row2\" class=\"row_heading level0 row2\" >BRAF</th>\n",
       "      <td id=\"T_03cd7_row2_col0\" class=\"data row2 col0\" >0.376</td>\n",
       "      <td id=\"T_03cd7_row2_col1\" class=\"data row2 col1\" >0.400</td>\n",
       "      <td id=\"T_03cd7_row2_col2\" class=\"data row2 col2\" >1.000</td>\n",
       "      <td id=\"T_03cd7_row2_col3\" class=\"data row2 col3\" >0.329</td>\n",
       "      <td id=\"T_03cd7_row2_col4\" class=\"data row2 col4\" >0.388</td>\n",
       "      <td id=\"T_03cd7_row2_col5\" class=\"data row2 col5\" >0.376</td>\n",
       "      <td id=\"T_03cd7_row2_col6\" class=\"data row2 col6\" >0.376</td>\n",
       "      <td id=\"T_03cd7_row2_col7\" class=\"data row2 col7\" >0.400</td>\n",
       "      <td id=\"T_03cd7_row2_col8\" class=\"data row2 col8\" >0.153</td>\n",
       "    </tr>\n",
       "    <tr>\n",
       "      <th id=\"T_03cd7_level0_row3\" class=\"row_heading level0 row3\" >CDK2</th>\n",
       "      <td id=\"T_03cd7_row3_col0\" class=\"data row3 col0\" >0.318</td>\n",
       "      <td id=\"T_03cd7_row3_col1\" class=\"data row3 col1\" >0.329</td>\n",
       "      <td id=\"T_03cd7_row3_col2\" class=\"data row3 col2\" >0.329</td>\n",
       "      <td id=\"T_03cd7_row3_col3\" class=\"data row3 col3\" >1.000</td>\n",
       "      <td id=\"T_03cd7_row3_col4\" class=\"data row3 col4\" >0.376</td>\n",
       "      <td id=\"T_03cd7_row3_col5\" class=\"data row3 col5\" >0.365</td>\n",
       "      <td id=\"T_03cd7_row3_col6\" class=\"data row3 col6\" >0.471</td>\n",
       "      <td id=\"T_03cd7_row3_col7\" class=\"data row3 col7\" >0.341</td>\n",
       "      <td id=\"T_03cd7_row3_col8\" class=\"data row3 col8\" >0.106</td>\n",
       "    </tr>\n",
       "    <tr>\n",
       "      <th id=\"T_03cd7_level0_row4\" class=\"row_heading level0 row4\" >LCK</th>\n",
       "      <td id=\"T_03cd7_row4_col0\" class=\"data row4 col0\" >0.447</td>\n",
       "      <td id=\"T_03cd7_row4_col1\" class=\"data row4 col1\" >0.424</td>\n",
       "      <td id=\"T_03cd7_row4_col2\" class=\"data row4 col2\" >0.388</td>\n",
       "      <td id=\"T_03cd7_row4_col3\" class=\"data row4 col3\" >0.376</td>\n",
       "      <td id=\"T_03cd7_row4_col4\" class=\"data row4 col4\" >1.000</td>\n",
       "      <td id=\"T_03cd7_row4_col5\" class=\"data row4 col5\" >0.400</td>\n",
       "      <td id=\"T_03cd7_row4_col6\" class=\"data row4 col6\" >0.388</td>\n",
       "      <td id=\"T_03cd7_row4_col7\" class=\"data row4 col7\" >0.435</td>\n",
       "      <td id=\"T_03cd7_row4_col8\" class=\"data row4 col8\" >0.141</td>\n",
       "    </tr>\n",
       "    <tr>\n",
       "      <th id=\"T_03cd7_level0_row5\" class=\"row_heading level0 row5\" >MET</th>\n",
       "      <td id=\"T_03cd7_row5_col0\" class=\"data row5 col0\" >0.459</td>\n",
       "      <td id=\"T_03cd7_row5_col1\" class=\"data row5 col1\" >0.471</td>\n",
       "      <td id=\"T_03cd7_row5_col2\" class=\"data row5 col2\" >0.376</td>\n",
       "      <td id=\"T_03cd7_row5_col3\" class=\"data row5 col3\" >0.365</td>\n",
       "      <td id=\"T_03cd7_row5_col4\" class=\"data row5 col4\" >0.400</td>\n",
       "      <td id=\"T_03cd7_row5_col5\" class=\"data row5 col5\" >1.000</td>\n",
       "      <td id=\"T_03cd7_row5_col6\" class=\"data row5 col6\" >0.365</td>\n",
       "      <td id=\"T_03cd7_row5_col7\" class=\"data row5 col7\" >0.471</td>\n",
       "      <td id=\"T_03cd7_row5_col8\" class=\"data row5 col8\" >0.106</td>\n",
       "    </tr>\n",
       "    <tr>\n",
       "      <th id=\"T_03cd7_level0_row6\" class=\"row_heading level0 row6\" >p38a</th>\n",
       "      <td id=\"T_03cd7_row6_col0\" class=\"data row6 col0\" >0.388</td>\n",
       "      <td id=\"T_03cd7_row6_col1\" class=\"data row6 col1\" >0.400</td>\n",
       "      <td id=\"T_03cd7_row6_col2\" class=\"data row6 col2\" >0.376</td>\n",
       "      <td id=\"T_03cd7_row6_col3\" class=\"data row6 col3\" >0.471</td>\n",
       "      <td id=\"T_03cd7_row6_col4\" class=\"data row6 col4\" >0.388</td>\n",
       "      <td id=\"T_03cd7_row6_col5\" class=\"data row6 col5\" >0.365</td>\n",
       "      <td id=\"T_03cd7_row6_col6\" class=\"data row6 col6\" >1.000</td>\n",
       "      <td id=\"T_03cd7_row6_col7\" class=\"data row6 col7\" >0.388</td>\n",
       "      <td id=\"T_03cd7_row6_col8\" class=\"data row6 col8\" >0.141</td>\n",
       "    </tr>\n",
       "    <tr>\n",
       "      <th id=\"T_03cd7_level0_row7\" class=\"row_heading level0 row7\" >KDR</th>\n",
       "      <td id=\"T_03cd7_row7_col0\" class=\"data row7 col0\" >0.471</td>\n",
       "      <td id=\"T_03cd7_row7_col1\" class=\"data row7 col1\" >0.435</td>\n",
       "      <td id=\"T_03cd7_row7_col2\" class=\"data row7 col2\" >0.400</td>\n",
       "      <td id=\"T_03cd7_row7_col3\" class=\"data row7 col3\" >0.341</td>\n",
       "      <td id=\"T_03cd7_row7_col4\" class=\"data row7 col4\" >0.435</td>\n",
       "      <td id=\"T_03cd7_row7_col5\" class=\"data row7 col5\" >0.471</td>\n",
       "      <td id=\"T_03cd7_row7_col6\" class=\"data row7 col6\" >0.388</td>\n",
       "      <td id=\"T_03cd7_row7_col7\" class=\"data row7 col7\" >1.000</td>\n",
       "      <td id=\"T_03cd7_row7_col8\" class=\"data row7 col8\" >0.153</td>\n",
       "    </tr>\n",
       "    <tr>\n",
       "      <th id=\"T_03cd7_level0_row8\" class=\"row_heading level0 row8\" >p110a</th>\n",
       "      <td id=\"T_03cd7_row8_col0\" class=\"data row8 col0\" >0.118</td>\n",
       "      <td id=\"T_03cd7_row8_col1\" class=\"data row8 col1\" >0.118</td>\n",
       "      <td id=\"T_03cd7_row8_col2\" class=\"data row8 col2\" >0.153</td>\n",
       "      <td id=\"T_03cd7_row8_col3\" class=\"data row8 col3\" >0.106</td>\n",
       "      <td id=\"T_03cd7_row8_col4\" class=\"data row8 col4\" >0.141</td>\n",
       "      <td id=\"T_03cd7_row8_col5\" class=\"data row8 col5\" >0.106</td>\n",
       "      <td id=\"T_03cd7_row8_col6\" class=\"data row8 col6\" >0.141</td>\n",
       "      <td id=\"T_03cd7_row8_col7\" class=\"data row8 col7\" >0.153</td>\n",
       "      <td id=\"T_03cd7_row8_col8\" class=\"data row8 col8\" >1.000</td>\n",
       "    </tr>\n",
       "  </tbody>\n",
       "</table>\n"
      ],
      "text/plain": [
       "<pandas.io.formats.style.Styler at 0x7fa7344b8220>"
      ]
     },
     "execution_count": 16,
     "metadata": {},
     "output_type": "execute_result"
    }
   ],
   "source": [
    "# Show matrix with background gradient\n",
    "cm = sns.light_palette(\"green\", as_cmap=True)\n",
    "kinase_similarity_matrix.style.\\\n",
    "    background_gradient(cmap=cm).\\\n",
    "    format(\"{:.3f}\")"
   ]
  },
  {
   "cell_type": "markdown",
   "metadata": {},
   "source": [
    "### Save kinase similarity matrix"
   ]
  },
  {
   "cell_type": "code",
   "execution_count": 17,
   "metadata": {},
   "outputs": [],
   "source": [
    "kinase_similarity_matrix.to_csv(DATA / \"kinase_similarity_matrix_sequence.csv\")"
   ]
  },
  {
   "cell_type": "markdown",
   "metadata": {},
   "source": [
    "## Kinase distance matrix"
   ]
  },
  {
   "cell_type": "markdown",
   "metadata": {},
   "source": [
    "In order to apply some clustering algorithm to assess the similarity between kinases, it is necessary to start with a distance matrix. In the case of the similarity matrix above, this matrix is not a distance matrix. For example, the diagonal elements are not zero.\n",
    "\n",
    "Since all entries are between $0$ and $1$, the similarity matrix $SM$ can be converted to a distance matrix $DM$ using $$ DM = 1-SM.$$"
   ]
  },
  {
   "cell_type": "code",
   "execution_count": 18,
   "metadata": {},
   "outputs": [
    {
     "name": "stdout",
     "output_type": "stream",
     "text": [
      "The values of the similarity matrix lie between: 0.11 and 1.00\n"
     ]
    }
   ],
   "source": [
    "print(f\"The values of the similarity matrix lie between: \"\n",
    "      f\"{kinase_similarity_matrix.min().min():.2f}\"\n",
    "      f\" and {kinase_similarity_matrix.max().max():.2f}\")"
   ]
  },
  {
   "cell_type": "code",
   "execution_count": 19,
   "metadata": {},
   "outputs": [],
   "source": [
    "kinase_distance_matrix = 1 - kinase_similarity_matrix"
   ]
  },
  {
   "cell_type": "code",
   "execution_count": 20,
   "metadata": {},
   "outputs": [
    {
     "data": {
      "text/html": [
       "<style type=\"text/css\">\n",
       "#T_99d04_row0_col0, #T_99d04_row1_col1, #T_99d04_row2_col2, #T_99d04_row3_col3, #T_99d04_row4_col4, #T_99d04_row5_col5, #T_99d04_row6_col6, #T_99d04_row7_col7, #T_99d04_row8_col8 {\n",
       "  background-color: #ebf3eb;\n",
       "  color: #000000;\n",
       "}\n",
       "#T_99d04_row0_col1, #T_99d04_row1_col0 {\n",
       "  background-color: #cfe5cf;\n",
       "  color: #000000;\n",
       "}\n",
       "#T_99d04_row0_col2, #T_99d04_row5_col2, #T_99d04_row6_col2, #T_99d04_row7_col3 {\n",
       "  background-color: #3e9e3e;\n",
       "  color: #f1f1f1;\n",
       "}\n",
       "#T_99d04_row0_col3 {\n",
       "  background-color: #379b37;\n",
       "  color: #f1f1f1;\n",
       "}\n",
       "#T_99d04_row0_col4 {\n",
       "  background-color: #54a954;\n",
       "  color: #f1f1f1;\n",
       "}\n",
       "#T_99d04_row0_col5 {\n",
       "  background-color: #5dae5d;\n",
       "  color: #f1f1f1;\n",
       "}\n",
       "#T_99d04_row0_col6, #T_99d04_row2_col4, #T_99d04_row4_col6, #T_99d04_row6_col4, #T_99d04_row7_col6 {\n",
       "  background-color: #43a143;\n",
       "  color: #f1f1f1;\n",
       "}\n",
       "#T_99d04_row0_col7, #T_99d04_row4_col0, #T_99d04_row5_col7 {\n",
       "  background-color: #57ab57;\n",
       "  color: #f1f1f1;\n",
       "}\n",
       "#T_99d04_row0_col8, #T_99d04_row1_col8 {\n",
       "  background-color: #038103;\n",
       "  color: #f1f1f1;\n",
       "}\n",
       "#T_99d04_row1_col2, #T_99d04_row2_col7, #T_99d04_row3_col5, #T_99d04_row5_col3, #T_99d04_row6_col5, #T_99d04_row7_col2 {\n",
       "  background-color: #44a144;\n",
       "  color: #f1f1f1;\n",
       "}\n",
       "#T_99d04_row1_col3, #T_99d04_row2_col3 {\n",
       "  background-color: #3a9c3a;\n",
       "  color: #f1f1f1;\n",
       "}\n",
       "#T_99d04_row1_col4, #T_99d04_row4_col5 {\n",
       "  background-color: #4da64d;\n",
       "  color: #f1f1f1;\n",
       "}\n",
       "#T_99d04_row1_col5, #T_99d04_row6_col3, #T_99d04_row7_col5 {\n",
       "  background-color: #60af60;\n",
       "  color: #f1f1f1;\n",
       "}\n",
       "#T_99d04_row1_col6, #T_99d04_row2_col5, #T_99d04_row4_col3, #T_99d04_row5_col4 {\n",
       "  background-color: #47a347;\n",
       "  color: #f1f1f1;\n",
       "}\n",
       "#T_99d04_row1_col7, #T_99d04_row4_col7 {\n",
       "  background-color: #4ea64e;\n",
       "  color: #f1f1f1;\n",
       "}\n",
       "#T_99d04_row2_col0 {\n",
       "  background-color: #45a245;\n",
       "  color: #f1f1f1;\n",
       "}\n",
       "#T_99d04_row2_col1, #T_99d04_row6_col1 {\n",
       "  background-color: #4ba54a;\n",
       "  color: #f1f1f1;\n",
       "}\n",
       "#T_99d04_row2_col6, #T_99d04_row3_col4 {\n",
       "  background-color: #40a040;\n",
       "  color: #f1f1f1;\n",
       "}\n",
       "#T_99d04_row2_col8, #T_99d04_row7_col8 {\n",
       "  background-color: #0c860c;\n",
       "  color: #f1f1f1;\n",
       "}\n",
       "#T_99d04_row3_col0 {\n",
       "  background-color: #359a35;\n",
       "  color: #f1f1f1;\n",
       "}\n",
       "#T_99d04_row3_col1 {\n",
       "  background-color: #389b38;\n",
       "  color: #f1f1f1;\n",
       "}\n",
       "#T_99d04_row3_col2 {\n",
       "  background-color: #319831;\n",
       "  color: #f1f1f1;\n",
       "}\n",
       "#T_99d04_row3_col6, #T_99d04_row5_col0 {\n",
       "  background-color: #5aac5a;\n",
       "  color: #f1f1f1;\n",
       "}\n",
       "#T_99d04_row3_col7 {\n",
       "  background-color: #349934;\n",
       "  color: #f1f1f1;\n",
       "}\n",
       "#T_99d04_row3_col8, #T_99d04_row5_col8, #T_99d04_row8_col0, #T_99d04_row8_col1, #T_99d04_row8_col2, #T_99d04_row8_col3, #T_99d04_row8_col4, #T_99d04_row8_col5, #T_99d04_row8_col6, #T_99d04_row8_col7 {\n",
       "  background-color: #008000;\n",
       "  color: #f1f1f1;\n",
       "}\n",
       "#T_99d04_row4_col1 {\n",
       "  background-color: #51a851;\n",
       "  color: #f1f1f1;\n",
       "}\n",
       "#T_99d04_row4_col2, #T_99d04_row6_col7 {\n",
       "  background-color: #41a041;\n",
       "  color: #f1f1f1;\n",
       "}\n",
       "#T_99d04_row4_col8, #T_99d04_row6_col8 {\n",
       "  background-color: #098509;\n",
       "  color: #f1f1f1;\n",
       "}\n",
       "#T_99d04_row5_col1, #T_99d04_row7_col0 {\n",
       "  background-color: #5eae5e;\n",
       "  color: #f1f1f1;\n",
       "}\n",
       "#T_99d04_row5_col6 {\n",
       "  background-color: #3d9e3d;\n",
       "  color: #f1f1f1;\n",
       "}\n",
       "#T_99d04_row6_col0 {\n",
       "  background-color: #48a348;\n",
       "  color: #f1f1f1;\n",
       "}\n",
       "#T_99d04_row7_col1 {\n",
       "  background-color: #55a955;\n",
       "  color: #f1f1f1;\n",
       "}\n",
       "#T_99d04_row7_col4 {\n",
       "  background-color: #50a750;\n",
       "  color: #f1f1f1;\n",
       "}\n",
       "</style>\n",
       "<table id=\"T_99d04_\">\n",
       "  <thead>\n",
       "    <tr>\n",
       "      <th class=\"blank level0\" >&nbsp;</th>\n",
       "      <th class=\"col_heading level0 col0\" >EGFR</th>\n",
       "      <th class=\"col_heading level0 col1\" >ErbB2</th>\n",
       "      <th class=\"col_heading level0 col2\" >BRAF</th>\n",
       "      <th class=\"col_heading level0 col3\" >CDK2</th>\n",
       "      <th class=\"col_heading level0 col4\" >LCK</th>\n",
       "      <th class=\"col_heading level0 col5\" >MET</th>\n",
       "      <th class=\"col_heading level0 col6\" >p38a</th>\n",
       "      <th class=\"col_heading level0 col7\" >KDR</th>\n",
       "      <th class=\"col_heading level0 col8\" >p110a</th>\n",
       "    </tr>\n",
       "  </thead>\n",
       "  <tbody>\n",
       "    <tr>\n",
       "      <th id=\"T_99d04_level0_row0\" class=\"row_heading level0 row0\" >EGFR</th>\n",
       "      <td id=\"T_99d04_row0_col0\" class=\"data row0 col0\" >0.000</td>\n",
       "      <td id=\"T_99d04_row0_col1\" class=\"data row0 col1\" >0.106</td>\n",
       "      <td id=\"T_99d04_row0_col2\" class=\"data row0 col2\" >0.624</td>\n",
       "      <td id=\"T_99d04_row0_col3\" class=\"data row0 col3\" >0.682</td>\n",
       "      <td id=\"T_99d04_row0_col4\" class=\"data row0 col4\" >0.553</td>\n",
       "      <td id=\"T_99d04_row0_col5\" class=\"data row0 col5\" >0.541</td>\n",
       "      <td id=\"T_99d04_row0_col6\" class=\"data row0 col6\" >0.612</td>\n",
       "      <td id=\"T_99d04_row0_col7\" class=\"data row0 col7\" >0.529</td>\n",
       "      <td id=\"T_99d04_row0_col8\" class=\"data row0 col8\" >0.882</td>\n",
       "    </tr>\n",
       "    <tr>\n",
       "      <th id=\"T_99d04_level0_row1\" class=\"row_heading level0 row1\" >ErbB2</th>\n",
       "      <td id=\"T_99d04_row1_col0\" class=\"data row1 col0\" >0.106</td>\n",
       "      <td id=\"T_99d04_row1_col1\" class=\"data row1 col1\" >0.000</td>\n",
       "      <td id=\"T_99d04_row1_col2\" class=\"data row1 col2\" >0.600</td>\n",
       "      <td id=\"T_99d04_row1_col3\" class=\"data row1 col3\" >0.671</td>\n",
       "      <td id=\"T_99d04_row1_col4\" class=\"data row1 col4\" >0.576</td>\n",
       "      <td id=\"T_99d04_row1_col5\" class=\"data row1 col5\" >0.529</td>\n",
       "      <td id=\"T_99d04_row1_col6\" class=\"data row1 col6\" >0.600</td>\n",
       "      <td id=\"T_99d04_row1_col7\" class=\"data row1 col7\" >0.565</td>\n",
       "      <td id=\"T_99d04_row1_col8\" class=\"data row1 col8\" >0.882</td>\n",
       "    </tr>\n",
       "    <tr>\n",
       "      <th id=\"T_99d04_level0_row2\" class=\"row_heading level0 row2\" >BRAF</th>\n",
       "      <td id=\"T_99d04_row2_col0\" class=\"data row2 col0\" >0.624</td>\n",
       "      <td id=\"T_99d04_row2_col1\" class=\"data row2 col1\" >0.600</td>\n",
       "      <td id=\"T_99d04_row2_col2\" class=\"data row2 col2\" >0.000</td>\n",
       "      <td id=\"T_99d04_row2_col3\" class=\"data row2 col3\" >0.671</td>\n",
       "      <td id=\"T_99d04_row2_col4\" class=\"data row2 col4\" >0.612</td>\n",
       "      <td id=\"T_99d04_row2_col5\" class=\"data row2 col5\" >0.624</td>\n",
       "      <td id=\"T_99d04_row2_col6\" class=\"data row2 col6\" >0.624</td>\n",
       "      <td id=\"T_99d04_row2_col7\" class=\"data row2 col7\" >0.600</td>\n",
       "      <td id=\"T_99d04_row2_col8\" class=\"data row2 col8\" >0.847</td>\n",
       "    </tr>\n",
       "    <tr>\n",
       "      <th id=\"T_99d04_level0_row3\" class=\"row_heading level0 row3\" >CDK2</th>\n",
       "      <td id=\"T_99d04_row3_col0\" class=\"data row3 col0\" >0.682</td>\n",
       "      <td id=\"T_99d04_row3_col1\" class=\"data row3 col1\" >0.671</td>\n",
       "      <td id=\"T_99d04_row3_col2\" class=\"data row3 col2\" >0.671</td>\n",
       "      <td id=\"T_99d04_row3_col3\" class=\"data row3 col3\" >0.000</td>\n",
       "      <td id=\"T_99d04_row3_col4\" class=\"data row3 col4\" >0.624</td>\n",
       "      <td id=\"T_99d04_row3_col5\" class=\"data row3 col5\" >0.635</td>\n",
       "      <td id=\"T_99d04_row3_col6\" class=\"data row3 col6\" >0.529</td>\n",
       "      <td id=\"T_99d04_row3_col7\" class=\"data row3 col7\" >0.659</td>\n",
       "      <td id=\"T_99d04_row3_col8\" class=\"data row3 col8\" >0.894</td>\n",
       "    </tr>\n",
       "    <tr>\n",
       "      <th id=\"T_99d04_level0_row4\" class=\"row_heading level0 row4\" >LCK</th>\n",
       "      <td id=\"T_99d04_row4_col0\" class=\"data row4 col0\" >0.553</td>\n",
       "      <td id=\"T_99d04_row4_col1\" class=\"data row4 col1\" >0.576</td>\n",
       "      <td id=\"T_99d04_row4_col2\" class=\"data row4 col2\" >0.612</td>\n",
       "      <td id=\"T_99d04_row4_col3\" class=\"data row4 col3\" >0.624</td>\n",
       "      <td id=\"T_99d04_row4_col4\" class=\"data row4 col4\" >0.000</td>\n",
       "      <td id=\"T_99d04_row4_col5\" class=\"data row4 col5\" >0.600</td>\n",
       "      <td id=\"T_99d04_row4_col6\" class=\"data row4 col6\" >0.612</td>\n",
       "      <td id=\"T_99d04_row4_col7\" class=\"data row4 col7\" >0.565</td>\n",
       "      <td id=\"T_99d04_row4_col8\" class=\"data row4 col8\" >0.859</td>\n",
       "    </tr>\n",
       "    <tr>\n",
       "      <th id=\"T_99d04_level0_row5\" class=\"row_heading level0 row5\" >MET</th>\n",
       "      <td id=\"T_99d04_row5_col0\" class=\"data row5 col0\" >0.541</td>\n",
       "      <td id=\"T_99d04_row5_col1\" class=\"data row5 col1\" >0.529</td>\n",
       "      <td id=\"T_99d04_row5_col2\" class=\"data row5 col2\" >0.624</td>\n",
       "      <td id=\"T_99d04_row5_col3\" class=\"data row5 col3\" >0.635</td>\n",
       "      <td id=\"T_99d04_row5_col4\" class=\"data row5 col4\" >0.600</td>\n",
       "      <td id=\"T_99d04_row5_col5\" class=\"data row5 col5\" >0.000</td>\n",
       "      <td id=\"T_99d04_row5_col6\" class=\"data row5 col6\" >0.635</td>\n",
       "      <td id=\"T_99d04_row5_col7\" class=\"data row5 col7\" >0.529</td>\n",
       "      <td id=\"T_99d04_row5_col8\" class=\"data row5 col8\" >0.894</td>\n",
       "    </tr>\n",
       "    <tr>\n",
       "      <th id=\"T_99d04_level0_row6\" class=\"row_heading level0 row6\" >p38a</th>\n",
       "      <td id=\"T_99d04_row6_col0\" class=\"data row6 col0\" >0.612</td>\n",
       "      <td id=\"T_99d04_row6_col1\" class=\"data row6 col1\" >0.600</td>\n",
       "      <td id=\"T_99d04_row6_col2\" class=\"data row6 col2\" >0.624</td>\n",
       "      <td id=\"T_99d04_row6_col3\" class=\"data row6 col3\" >0.529</td>\n",
       "      <td id=\"T_99d04_row6_col4\" class=\"data row6 col4\" >0.612</td>\n",
       "      <td id=\"T_99d04_row6_col5\" class=\"data row6 col5\" >0.635</td>\n",
       "      <td id=\"T_99d04_row6_col6\" class=\"data row6 col6\" >0.000</td>\n",
       "      <td id=\"T_99d04_row6_col7\" class=\"data row6 col7\" >0.612</td>\n",
       "      <td id=\"T_99d04_row6_col8\" class=\"data row6 col8\" >0.859</td>\n",
       "    </tr>\n",
       "    <tr>\n",
       "      <th id=\"T_99d04_level0_row7\" class=\"row_heading level0 row7\" >KDR</th>\n",
       "      <td id=\"T_99d04_row7_col0\" class=\"data row7 col0\" >0.529</td>\n",
       "      <td id=\"T_99d04_row7_col1\" class=\"data row7 col1\" >0.565</td>\n",
       "      <td id=\"T_99d04_row7_col2\" class=\"data row7 col2\" >0.600</td>\n",
       "      <td id=\"T_99d04_row7_col3\" class=\"data row7 col3\" >0.659</td>\n",
       "      <td id=\"T_99d04_row7_col4\" class=\"data row7 col4\" >0.565</td>\n",
       "      <td id=\"T_99d04_row7_col5\" class=\"data row7 col5\" >0.529</td>\n",
       "      <td id=\"T_99d04_row7_col6\" class=\"data row7 col6\" >0.612</td>\n",
       "      <td id=\"T_99d04_row7_col7\" class=\"data row7 col7\" >0.000</td>\n",
       "      <td id=\"T_99d04_row7_col8\" class=\"data row7 col8\" >0.847</td>\n",
       "    </tr>\n",
       "    <tr>\n",
       "      <th id=\"T_99d04_level0_row8\" class=\"row_heading level0 row8\" >p110a</th>\n",
       "      <td id=\"T_99d04_row8_col0\" class=\"data row8 col0\" >0.882</td>\n",
       "      <td id=\"T_99d04_row8_col1\" class=\"data row8 col1\" >0.882</td>\n",
       "      <td id=\"T_99d04_row8_col2\" class=\"data row8 col2\" >0.847</td>\n",
       "      <td id=\"T_99d04_row8_col3\" class=\"data row8 col3\" >0.894</td>\n",
       "      <td id=\"T_99d04_row8_col4\" class=\"data row8 col4\" >0.859</td>\n",
       "      <td id=\"T_99d04_row8_col5\" class=\"data row8 col5\" >0.894</td>\n",
       "      <td id=\"T_99d04_row8_col6\" class=\"data row8 col6\" >0.859</td>\n",
       "      <td id=\"T_99d04_row8_col7\" class=\"data row8 col7\" >0.847</td>\n",
       "      <td id=\"T_99d04_row8_col8\" class=\"data row8 col8\" >0.000</td>\n",
       "    </tr>\n",
       "  </tbody>\n",
       "</table>\n"
      ],
      "text/plain": [
       "<pandas.io.formats.style.Styler at 0x7fa73485c3a0>"
      ]
     },
     "execution_count": 20,
     "metadata": {},
     "output_type": "execute_result"
    }
   ],
   "source": [
    "kinase_distance_matrix.style.\\\n",
    "    background_gradient(cmap=cm).\\\n",
    "    format(\"{:.3f}\")"
   ]
  },
  {
   "cell_type": "markdown",
   "metadata": {},
   "source": [
    "### Save kinase distance matrix"
   ]
  },
  {
   "cell_type": "code",
   "execution_count": 21,
   "metadata": {},
   "outputs": [],
   "source": [
    "kinase_distance_matrix.to_csv(DATA /\n",
    "                              \"kinase_distance_matrix_sequence.csv\")"
   ]
  },
  {
   "cell_type": "markdown",
   "metadata": {},
   "source": [
    "## Discussion\n",
    "\n",
    "In this talktorial, we investigate how sequences can be used to measure similarity between kinases. The focus is made of the pocket sequence, which is retrieve from KLIFS. Sequence similarity can be assessed using two scores: 1. the identity, which treats all amino acids uniformly, and 2. the substitution, which takes into account the rate of change of residues over evolutionary time.\n",
    "\n",
    "The kinase similarity matrix above will be reloaded in **Talktorial T028**, where we compare kinase similarities from different perspectives, including the pocket sequence perspective we have talked about in this talktorial."
   ]
  },
  {
   "cell_type": "markdown",
   "metadata": {},
   "source": [
    "## Quiz\n",
    "\n",
    "1. Should the full kinase sequence be used instead of the pocket sequence?\n",
    "2. How does the similarity using identity behave with respect to mutations?\n",
    "3. How does similarity using identity compare to similarity using substitution?"
   ]
  }
 ],
 "metadata": {
  "kernelspec": {
   "display_name": "Python 3 (ipykernel)",
   "language": "python",
   "name": "python3"
  },
  "language_info": {
   "codemirror_mode": {
    "name": "ipython",
    "version": 3
   },
   "file_extension": ".py",
   "mimetype": "text/x-python",
   "name": "python",
   "nbconvert_exporter": "python",
   "pygments_lexer": "ipython3",
   "version": "3.8.10"
  },
  "toc-autonumbering": true,
  "widgets": {
   "application/vnd.jupyter.widget-state+json": {
    "state": {},
    "version_major": 2,
    "version_minor": 0
   }
  }
 },
 "nbformat": 4,
 "nbformat_minor": 4
}
