{
 "cells": [
  {
   "cell_type": "markdown",
   "metadata": {},
   "source": [
    "# T024 · Kinase similarity: sequence\n",
    "\n",
    "Authors:\n",
    "\n",
    "- Talia B. Kimber, 2021, [Volkamer lab, Charité](https://volkamerlab.org/)\n",
    "- Dominique Sydow, 2021, [Volkamer lab, Charité](https://volkamerlab.org/)\n",
    "- Andrea Volkamer, 2021, [Volkamer lab, Charité](https://volkamerlab.org/)"
   ]
  },
  {
   "cell_type": "markdown",
   "metadata": {},
   "source": [
    "## Aim of this talktorial\n",
    "\n",
    "In this talktorial, we investigate sequence similarity for kinases of interest. KLIFS' API is used to retrieve the 85 residues pocket sequence for each kinase. \n",
    "\n",
    "Two similarity measures are implemented:\n",
    "   1. Sequence identity, i.e., the similarity which is based on character-wise discrepancy\n",
    "   2. Sequence similarity, i.e., the similarity which is based on a substitution matrix, thus, reflecting similarities between amino acids."
   ]
  },
  {
   "cell_type": "markdown",
   "metadata": {},
   "source": [
    "### Contents in *Theory*\n",
    "\n",
    "* Kinase dataset\n",
    "* Kinase similarity descriptor: sequence\n",
    "    * Identity score\n",
    "    * Substitution score"
   ]
  },
  {
   "cell_type": "markdown",
   "metadata": {},
   "source": [
    "### Contents in *Practical*\n",
    "\n",
    "* Define the kinases of interest\n",
    "* Retrieve sequences from KLIFS\n",
    "* Sequence similarity\n",
    "    * Identity score\n",
    "    * Substitution score\n",
    "* Kinase comparison\n",
    "* Visualize kinase similarity matrix\n",
    "* Save kinase distance matrix"
   ]
  },
  {
   "cell_type": "markdown",
   "metadata": {},
   "source": [
    "### References\n",
    "\n",
    "* Kinase dataset: [<i>Molecules</i> (2021), <b>26(3)</b>, 629](https://www.mdpi.com/1420-3049/26/3/629) \n",
    "* KLIFS\n",
    "  * KLIFS URL: https://klifs.net/\n",
    "  * KLIFS database: [<i>Nucleic Acid Res.</i> (2020), <b>49(D1)</b>, D562-D569](https://doi.org/10.1093/nar/gkaa895)\n",
    "* Substitution matrix: [<i>PNAS</i> (1992), <b>89(22)<b>, 10915-10919](https://doi.org/10.1073/pnas.89.22.10915)"
   ]
  },
  {
   "cell_type": "markdown",
   "metadata": {},
   "source": [
    "## Theory"
   ]
  },
  {
   "cell_type": "markdown",
   "metadata": {},
   "source": [
    "### Kinase dataset"
   ]
  },
  {
   "cell_type": "markdown",
   "metadata": {},
   "source": [
    "We will use nine kinases as investigated in [<i>Molecules</i> (2021), <b>26(3)</b>, 629](https://www.mdpi.com/1420-3049/26/3/629). In the study diverse kinase similarity measures were analyzed for different combinations of kinase on- and off-targets to explore the limits of multi-kinase screenings.\n",
    " \n",
    "\n",
    "> We aggregated the investigated kinases in “profiles”. Profile 1 combined **EGFR** and **ErbB2** as targets and **BRAF** as a (general) anti-target. Out of similar considerations, Profile 2 consisted of EGFR and **PI3K** as targets and BRAF as anti-target. This profile is expected to be more challenging as PI3K is an atypical kinase and thus less similar to EGFR than for example ErbB2 used in Profile 1. Profile 3, comprised of EGFR and **VEGFR2** as targets and BRAF as anti-target, was contrasted with the hit rate that we found with a standard docking against the single target VEGFR2 (Profile 4).\n",
    "> To broaden the comparison and obtain an estimate for the promiscuity of each compound, the kinases **CDK2**, **LCK**, **MET** and **p38α** were included in the experimental assay panel and the structure-based bioinformatics comparison as commonly used anti-targets.\n",
    "\n",
    " \n",
    "\n",
    "*Table 1:*\n",
    "Kinases used in this notebook, taken from [<i>Molecules</i> (2021), <b>26(3)</b>, 629](https://www.mdpi.com/1420-3049/26/3/629), with their synonyms, UniProt IDs, kinase groups, and full unabbreviated names.\n",
    "\n",
    " \n",
    "\n",
    "| Kinase                     | Synonyms               | UniProt ID | Group    | Full kinase name                                 |\n",
    "|----------------------------|------------------------|------------|----------|--------------------------------------------------|\n",
    "| EGFR                       | ErbB1                  | P00533     | TK       | Epidermal growth factor receptor                 |\n",
    "| ErbB2                      | Her2                   | P04626     | TK       | Erythroblastic leukemia viral oncogene homolog 2 |\n",
    "| PI3K                       | PI3KCA, p110a          | P42336     | Atypical | Phosphatidylinositol-3-kinase                    |\n",
    "| VEGFR2                     | KDR                    | P35968     | TK       | Vascular endothelial growth factor receptor 2    |\n",
    "| BRAF                       | -                      | P15056     | TKL      | Rapidly accelerated fibrosarcoma isoform B       |\n",
    "| CDK2                       | -                      | P24941     | CMGC     | Cyclic-dependent kinase 2                        |\n",
    "| LCK                        | -                      | P06239     | TK       | Lymphocyte-specific protein tyrosine kinase      |\n",
    "| MET                        | -                      | P08581     | TK       | Mesenchymal-epithelial transition factor         |\n",
    "| p38a                       | MAPK14                 | Q16539     | CMGC     | p38 mitogen activated protein kinase α           |"
   ]
  },
  {
   "cell_type": "markdown",
   "metadata": {},
   "source": [
    "### Kinase similarity descriptor: sequence\n",
    "\n",
    "In this talktorial, the KLIFS' pocket sequence is used for two main reasons:\n",
    "1. The sequence is of fixed length (it contains 85 residues), which makes computation for pairwise similarity between two sequences easy.\n",
    "2. The binding pocket is where the action takes place. Why consider the full kinase sequence when an 85 residues sequence contains most relevant information?\n",
    "\n",
    "We now describe two ways to compare pocket sequences."
   ]
  },
  {
   "cell_type": "markdown",
   "metadata": {},
   "source": [
    "#### Identity score\n",
    "A simple way of assessing the similarity between two sequences is to use the so-called identity score.\n",
    "First, a match vector is created: it checks whether for each position the characters from the two sequences are identical. If there are, the entry is set to $1$, and $0$ otherwise.\n",
    "\n",
    "The identity score is computed by summing the elements in the match vector and normalizing the entry by the length of the sequence, which, in the case of KLIFS pocket sequence is $85$."
   ]
  },
  {
   "cell_type": "markdown",
   "metadata": {},
   "source": [
    "Let's consider the identity matrix $I$ below:"
   ]
  },
  {
   "cell_type": "markdown",
   "metadata": {},
   "source": [
    "|       | A     | C     | D     | E     | ... |\n",
    "|-------|-------|-----  |-----  |-----  |-----|\n",
    "| **A** | **1** | 0     | 0     | 0     | ... |\n",
    "| **C** | 0     | **1** | 0     | 0     | ... |\n",
    "| **D** | 0     | 0     | **1** | 0     | ... |\n",
    "| **E** | 0     | 0     | 0     | **1** | ... |\n",
    "| ...   | ...   | ...   | ...   | ...   | ... |\n"
   ]
  },
  {
   "cell_type": "markdown",
   "metadata": {},
   "source": [
    "and let $M = len(K_i) = len(K_j)$."
   ]
  },
  {
   "cell_type": "markdown",
   "metadata": {},
   "source": [
    "We use the following as similarity between kinases $K_i$ and $K_j$:\n",
    "\n",
    "$$\n",
    "\\text{similarity}(K_i, K_j) = \\frac{1}{M} \\sum_{n}^{M} I (K_i[n], K_j[n]),\n",
    "$$\n",
    "\n",
    "where $K_i[n]$ represents the amino acid at position $n$ of kinase $i$."
   ]
  },
  {
   "cell_type": "markdown",
   "metadata": {},
   "source": [
    "#### Substitution score\n",
    "Although the identity score is an easy measure of similarity, it does not take into account the rate at which an amino acid may change into another and treats all residues uniformly.\n",
    "\n",
    "The substitution score takes the changes of the amino acids over evolutionary time into account. It makes use of a substitution matrix, where each entry gives a score between two amino acids.\n",
    "In this talktorial, we use the BLOSUM substitution matrix [<i>PNAS</i> (1992), <b>89(22)<b>, 10915-10919](https://doi.org/10.1073/pnas.89.22.10915), implemented in `biotite`."
   ]
  },
  {
   "cell_type": "markdown",
   "metadata": {},
   "source": [
    "The BLOSUM substitution matrix $SM$ is defined as below (the full matrix will be displayed in the practical part):"
   ]
  },
  {
   "cell_type": "markdown",
   "metadata": {},
   "source": [
    "|       | A     | C     | D     | E     | ... |\n",
    "|-------|-------|-----  |-----  |-----  |-----|\n",
    "| **A** | 4     | 0     | -2    | -1    | ... |\n",
    "| **C** | 0     | 9     | -3    | -4    | ... |\n",
    "| **D** | -2    | -3    | 6     | 2     | ... |\n",
    "| **E** | -1    | -4    | 2     | 5     | ... |\n",
    "| ...   | ...   | ...   | ...   | ...   | ... |"
   ]
  },
  {
   "cell_type": "markdown",
   "metadata": {},
   "source": [
    "We use the following as similarity between kinases $K_i$ and $K_j$:\n",
    "\n",
    "$$\n",
    "\\text{similarity}(K_i, K_j) = \\frac{1}{\\sum_i SM[i,i]} \\sum_{n}^{M} SM\\big((K_i[n], K_j[n])\\big),\n",
    "$$\n",
    "\n",
    "where $K_i[n]$ represents the amino acid at position $n$ of kinase $i$ and $M = len(K_i) = len(K_j)$.\n",
    "\n",
    "For computational reasons, we will use the normalized version of this matrix, i.e. all entries are between $0$ and $1$."
   ]
  },
  {
   "cell_type": "markdown",
   "metadata": {},
   "source": [
    "## Practical"
   ]
  },
  {
   "cell_type": "code",
   "execution_count": 1,
   "metadata": {},
   "outputs": [],
   "source": [
    "from pathlib import Path\n",
    "\n",
    "import pandas as pd\n",
    "import numpy as np\n",
    "import seaborn as sns\n",
    "import requests\n",
    "import matplotlib.pyplot as plt\n",
    "import biotite.sequence.align as align\n",
    "from sklearn import preprocessing"
   ]
  },
  {
   "cell_type": "code",
   "execution_count": 2,
   "metadata": {},
   "outputs": [],
   "source": [
    "HERE = Path(_dh[-1])\n",
    "DATA = HERE / \"data\""
   ]
  },
  {
   "cell_type": "markdown",
   "metadata": {},
   "source": [
    "### Define the kinases of interest"
   ]
  },
  {
   "cell_type": "markdown",
   "metadata": {},
   "source": [
    "We start by listing the kinases of interest."
   ]
  },
  {
   "cell_type": "code",
   "execution_count": 3,
   "metadata": {},
   "outputs": [],
   "source": [
    "query_kinases = ['EGFR',\n",
    "                 'ErbB2',\n",
    "                 'BRAF',\n",
    "                 'CDK2',\n",
    "                 'LCK',\n",
    "                 'MET',\n",
    "                 'p38a',\n",
    "                 'KDR',\n",
    "                 'p110a']"
   ]
  },
  {
   "cell_type": "markdown",
   "metadata": {},
   "source": [
    "### Retrieve sequences from KLIFS"
   ]
  },
  {
   "cell_type": "markdown",
   "metadata": {},
   "source": [
    "We use KLIFS' API to retrieve the $85$-long pocket sequence for each kinase."
   ]
  },
  {
   "cell_type": "code",
   "execution_count": 4,
   "metadata": {},
   "outputs": [],
   "source": [
    "def klifs_pocket_sequence(kinase_name):\n",
    "    \"\"\"\n",
    "    Retrieves the pocket sequence from KLIFS using the API.\n",
    "\n",
    "    Parameters\n",
    "    ----------\n",
    "    kinase_name : str\n",
    "        The name of the kinase of interest.\n",
    "\n",
    "    Returns\n",
    "    -------\n",
    "    str :\n",
    "        The 85 residues pocket sequence from KLIFS,\n",
    "        if the kinase name is valid, None otherwise.\n",
    "    \"\"\"\n",
    "    response = requests.get(f\"https://klifs.net/api/\"\n",
    "                            f\"kinase_ID?kinase_name={kinase_name}\"\n",
    "                            f\"&species=HUMAN\")\n",
    "\n",
    "    if response.status_code == 200:\n",
    "        return response.json()[0]['pocket']\n",
    "    else:\n",
    "        print(f'KLIFS failed for kinase {kinase_name}')\n",
    "        return None"
   ]
  },
  {
   "cell_type": "markdown",
   "metadata": {},
   "source": [
    "Let's look at these pocket sequences."
   ]
  },
  {
   "cell_type": "code",
   "execution_count": 5,
   "metadata": {},
   "outputs": [
    {
     "data": {
      "text/plain": [
       "{'EGFR': 'KVLGSGAFGTVYKVAIKELEILDEAYVMASVDPHVCRLLGIQLITQLMPFGCLLDYVREYLEDRRLVHRDLAARNVLVITDFGLA',\n",
       " 'ErbB2': 'KVLGSGAFGTVYKVAIKVLEILDEAYVMAGVGPYVSRLLGIQLVTQLMPYGCLLDHVREYLEDVRLVHRDLAARNVLVITDFGLA',\n",
       " 'BRAF': 'QRIGSGSFGTVYKVAVKMLAFKNEVGVLRKTRVNILLFMGYAIVTQWCEGSSLYHHLHIYLHAKSIIHRDLKSNNIFLIGDFGLA',\n",
       " 'CDK2': 'EKIGEGTYGVVYKVALKKITAIREISLLKELNPNIVKLLDVYLVFEFLH-QDLKKFMDAFCHSHRVLHRDLKPQNLLILADFGLA',\n",
       " 'LCK': 'ERLGAGQFGEVWMVAVKSLAFLAEANLMKQLQQRLVRLYAVYIITEYMENGSLVDFLKTFIEERNYIHRDLRAANILVIADFGLA',\n",
       " 'MET': 'EVIGRGHFGCVYHCAVKSLQFLTEGIIMKDFSPNVLSLLGILVVLPYMKHGDLRNFIRNYLASKKFVHRDLAARNCMLVADFGLA',\n",
       " 'p38a': 'SPVGSGAYGSVCAVAVKKLRTYRELRLLKHMKENVIGLLDVYLVTHLMG-ADLNNIVKCYIHSADIIHRDLKPSNLAVILDFGLA',\n",
       " 'KDR': 'KPLGRGAFGQVIEVAVKMLALMSELKILIHIGLNVVNLLGAMVIVEFCKFGNLSTYLRSFLASRKCIHRDLAARNILLICDFGLA',\n",
       " 'p110a': 'CRIMSSAKRPLWLIIFKNGDLRQDMLTLQIIRLRMLPYGCLVGLIEVVRSHTIMQIQCKATFI--LGIGDRHNSNIMVHIDFGHF'}"
      ]
     },
     "execution_count": 5,
     "metadata": {},
     "output_type": "execute_result"
    }
   ],
   "source": [
    "kinase_sequences = {}\n",
    "for kinase in query_kinases:\n",
    "    kinase_sequences[kinase] = klifs_pocket_sequence(kinase)\n",
    "kinase_sequences"
   ]
  },
  {
   "cell_type": "markdown",
   "metadata": {},
   "source": [
    "### Sequence similarity"
   ]
  },
  {
   "cell_type": "markdown",
   "metadata": {},
   "source": [
    "Given two kinases, we create functions which account for identity or substitution similarity, as described in the theory."
   ]
  },
  {
   "cell_type": "markdown",
   "metadata": {},
   "source": [
    "#### Identity score\n",
    "We first define a function which compares element-wise characters in two sequences."
   ]
  },
  {
   "cell_type": "code",
   "execution_count": 6,
   "metadata": {},
   "outputs": [],
   "source": [
    "def identity_score(sequence1, sequence2):\n",
    "    \"\"\"\n",
    "    Computes the element-wise binary similarity between two sequences.\n",
    "\n",
    "    Parameters\n",
    "    ----------\n",
    "    sequence1 : np.array\n",
    "        An array of character describing the first sequence.\n",
    "    sequence2 :\n",
    "        An array of character describing the second sequence.\n",
    "\n",
    "    Returns\n",
    "    -------\n",
    "    np.array :\n",
    "        The bool array for each character.\n",
    "        1 if the elements are identical,\n",
    "        0 otherwise.\n",
    "    \"\"\"\n",
    "    # True is the character is the same, False otherwise\n",
    "    return np.compare_chararrays(sequence1,\n",
    "                                 sequence2,\n",
    "                                 cmp=\"==\",\n",
    "                                 rstrip=True)"
   ]
  },
  {
   "cell_type": "markdown",
   "metadata": {},
   "source": [
    "#### Substitution score\n",
    "We now define the function which is more specific to amino acids grouping and use the `biotite` library to retrieve the BLOSUM substitution matrix."
   ]
  },
  {
   "cell_type": "markdown",
   "metadata": {},
   "source": [
    "The substitution matrix can be retrieve from `biotite` using the following command:"
   ]
  },
  {
   "cell_type": "code",
   "execution_count": 7,
   "metadata": {},
   "outputs": [
    {
     "name": "stdout",
     "output_type": "stream",
     "text": [
      "    A   C   D   E   F   G   H   I   K   L   M   N   P   Q   R   S   T   V   W   Y   B   Z   X   *\n",
      "A   4   0  -2  -1  -2   0  -2  -1  -1  -1  -1  -2  -1  -1  -1   1   0   0  -3  -2  -2  -1   0  -4\n",
      "C   0   9  -3  -4  -2  -3  -3  -1  -3  -1  -1  -3  -3  -3  -3  -1  -1  -1  -2  -2  -3  -3  -2  -4\n",
      "D  -2  -3   6   2  -3  -1  -1  -3  -1  -4  -3   1  -1   0  -2   0  -1  -3  -4  -3   4   1  -1  -4\n",
      "E  -1  -4   2   5  -3  -2   0  -3   1  -3  -2   0  -1   2   0   0  -1  -2  -3  -2   1   4  -1  -4\n",
      "F  -2  -2  -3  -3   6  -3  -1   0  -3   0   0  -3  -4  -3  -3  -2  -2  -1   1   3  -3  -3  -1  -4\n",
      "G   0  -3  -1  -2  -3   6  -2  -4  -2  -4  -3   0  -2  -2  -2   0  -2  -3  -2  -3  -1  -2  -1  -4\n",
      "H  -2  -3  -1   0  -1  -2   8  -3  -1  -3  -2   1  -2   0   0  -1  -2  -3  -2   2   0   0  -1  -4\n",
      "I  -1  -1  -3  -3   0  -4  -3   4  -3   2   1  -3  -3  -3  -3  -2  -1   3  -3  -1  -3  -3  -1  -4\n",
      "K  -1  -3  -1   1  -3  -2  -1  -3   5  -2  -1   0  -1   1   2   0  -1  -2  -3  -2   0   1  -1  -4\n",
      "L  -1  -1  -4  -3   0  -4  -3   2  -2   4   2  -3  -3  -2  -2  -2  -1   1  -2  -1  -4  -3  -1  -4\n",
      "M  -1  -1  -3  -2   0  -3  -2   1  -1   2   5  -2  -2   0  -1  -1  -1   1  -1  -1  -3  -1  -1  -4\n",
      "N  -2  -3   1   0  -3   0   1  -3   0  -3  -2   6  -2   0   0   1   0  -3  -4  -2   3   0  -1  -4\n",
      "P  -1  -3  -1  -1  -4  -2  -2  -3  -1  -3  -2  -2   7  -1  -2  -1  -1  -2  -4  -3  -2  -1  -2  -4\n",
      "Q  -1  -3   0   2  -3  -2   0  -3   1  -2   0   0  -1   5   1   0  -1  -2  -2  -1   0   3  -1  -4\n",
      "R  -1  -3  -2   0  -3  -2   0  -3   2  -2  -1   0  -2   1   5  -1  -1  -3  -3  -2  -1   0  -1  -4\n",
      "S   1  -1   0   0  -2   0  -1  -2   0  -2  -1   1  -1   0  -1   4   1  -2  -3  -2   0   0   0  -4\n",
      "T   0  -1  -1  -1  -2  -2  -2  -1  -1  -1  -1   0  -1  -1  -1   1   5   0  -2  -2  -1  -1   0  -4\n",
      "V   0  -1  -3  -2  -1  -3  -3   3  -2   1   1  -3  -2  -2  -3  -2   0   4  -3  -1  -3  -2  -1  -4\n",
      "W  -3  -2  -4  -3   1  -2  -2  -3  -3  -2  -1  -4  -4  -2  -3  -3  -2  -3  11   2  -4  -3  -2  -4\n",
      "Y  -2  -2  -3  -2   3  -3   2  -1  -2  -1  -1  -2  -3  -1  -2  -2  -2  -1   2   7  -3  -2  -1  -4\n",
      "B  -2  -3   4   1  -3  -1   0  -3   0  -4  -3   3  -2   0  -1   0  -1  -3  -4  -3   4   1  -1  -4\n",
      "Z  -1  -3   1   4  -3  -2   0  -3   1  -3  -1   0  -1   3   0   0  -1  -2  -3  -2   1   4  -1  -4\n",
      "X   0  -2  -1  -1  -1  -1  -1  -1  -1  -1  -1  -1  -2  -1  -1   0   0  -1  -2  -1  -1  -1  -1  -4\n",
      "*  -4  -4  -4  -4  -4  -4  -4  -4  -4  -4  -4  -4  -4  -4  -4  -4  -4  -4  -4  -4  -4  -4  -4   1\n"
     ]
    }
   ],
   "source": [
    "substitution_matrix = align.SubstitutionMatrix.std_protein_matrix()\n",
    "print(substitution_matrix)"
   ]
  },
  {
   "cell_type": "markdown",
   "metadata": {},
   "source": [
    "Check for symmetry:"
   ]
  },
  {
   "cell_type": "code",
   "execution_count": 8,
   "metadata": {},
   "outputs": [
    {
     "data": {
      "text/plain": [
       "True"
      ]
     },
     "execution_count": 8,
     "metadata": {},
     "output_type": "execute_result"
    }
   ],
   "source": [
    "substitution_matrix.is_symmetric()"
   ]
  },
  {
   "cell_type": "code",
   "execution_count": 9,
   "metadata": {},
   "outputs": [],
   "source": [
    "def substitution_score(sequence1,\n",
    "                       sequence2,\n",
    "                       substitution_matrix=align.\n",
    "                       SubstitutionMatrix.std_protein_matrix()):\n",
    "    \"\"\"\n",
    "    Retrieve the match score given the substitution matrix\n",
    "\n",
    "    Parameters\n",
    "    ----------\n",
    "    sequence1 : np.array\n",
    "        An array of character describing the first sequence.\n",
    "    sequence2 :\n",
    "        An array of character describing the second sequence.\n",
    "    substitution_matrix:\n",
    "        A substituition matrix specific to amino acids.\n",
    "        The default is align.SubstitutionMatrix.std_protein_matrix()\n",
    "        from biotite, which represents BLOSUM62.\n",
    "\n",
    "    Returns\n",
    "    -------\n",
    "    np.array :\n",
    "        The vector of match score\n",
    "        using the normalized substitution matrix.\n",
    "    \"\"\"\n",
    "    # Retrieve np.array from substitution matrix\n",
    "    score_matrix = substitution_matrix.score_matrix()\n",
    "    \n",
    "    # Normalize values to be in (0,1)\n",
    "    normalized_score_matrix = preprocessing.minmax_scale(score_matrix,\n",
    "                                              feature_range=(0, 1),\n",
    "                                              axis=1)\n",
    "\n",
    "    # Retrieve the letter (amino acid)\n",
    "    letter_alphabet = substitution_matrix.get_alphabet1()\n",
    "\n",
    "    # Map letter to index\n",
    "    dict_letters = {}\n",
    "    for i, letter in enumerate(letter_alphabet.get_symbols()):\n",
    "        dict_letters[letter] = i\n",
    "\n",
    "    match_score  = np.zeros(len(sequence1))\n",
    "    for i, (character_seq1, character_seq2) in enumerate(zip(sequence1,\n",
    "                                                             sequence2)):\n",
    "        ind1 = dict_letters[character_seq1]\n",
    "        ind2 = dict_letters[character_seq2]\n",
    "        match_score[i] = normalized_score_matrix[ind1, ind2]\n",
    "    return match_score"
   ]
  },
  {
   "cell_type": "markdown",
   "metadata": {},
   "source": [
    "## Kinase similarity"
   ]
  },
  {
   "cell_type": "markdown",
   "metadata": {},
   "source": [
    "Given two kinases, we create a function which computes the sequence similarity between them using one of the two measures, the identity or the substitution."
   ]
  },
  {
   "cell_type": "code",
   "execution_count": 10,
   "metadata": {},
   "outputs": [],
   "source": [
    "def sequence_similarity(sequence_1, sequence_2, type_=\"identity\"):\n",
    "    \"\"\"\n",
    "    Compares two sequences using a given metric.\n",
    "\n",
    "    kinase_name1, kinase_name2 : str\n",
    "        The two names of the kinases for comparison.\n",
    "\n",
    "    type_ : str\n",
    "        The type of metric to compute the similarity.\n",
    "        The default is `identity`.\n",
    "\n",
    "    Returns\n",
    "    -------\n",
    "    float :\n",
    "        The similarity between the pocket sequences of the two kinases.\n",
    "    \"\"\"\n",
    "    #sequence_1 = klifs_pocket_sequence(kinase_name1)\n",
    "    #sequence_2 = klifs_pocket_sequence(kinase_name2)\n",
    "\n",
    "    # Replace possible unavailable residue\n",
    "    # noted in KLIFS with \"-\"\n",
    "    # by the symbol \"*\" for biotite\n",
    "    sequence_1 = sequence_1.replace(\"-\", \"*\")\n",
    "    sequence_2 = sequence_2.replace(\"-\", \"*\")\n",
    "\n",
    "    if len(sequence_1) != len(sequence_1):\n",
    "        print(\"Mismatch in sequence lengths.\")\n",
    "        return None\n",
    "    else:\n",
    "        seq_array1 = np.array(list(sequence_1))\n",
    "        seq_array2 = np.array(list(sequence_2))\n",
    "\n",
    "        if type_ == \"identity\":\n",
    "            is_match = identity_score(seq_array1, seq_array2)\n",
    "            similarity_normed = sum(is_match)/len(sequence_1)\n",
    "        elif type_ == \"substitution\":\n",
    "            match_score = substitution_score(seq_array1, seq_array2)\n",
    "            similarity_normed = sum(match_score)/len(sequence_1)\n",
    "        else:\n",
    "            print(f\"Type {type_} not defined.\")\n",
    "            return None\n",
    "\n",
    "        return similarity_normed"
   ]
  },
  {
   "cell_type": "markdown",
   "metadata": {},
   "source": [
    "Let's look at the sequence similarity between EGFR and MET:"
   ]
  },
  {
   "cell_type": "code",
   "execution_count": 11,
   "metadata": {},
   "outputs": [
    {
     "name": "stdout",
     "output_type": "stream",
     "text": [
      "EGFR :KVLGSGAFGTVYKVAIKELEILDEAYVMASVDPHVCRLLGIQLITQLMPFGCLLDYVREYLEDRRLVHRDLAARNVLVITDFGLA\n",
      "MET  :EVIGRGHFGCVYHCAVKSLQFLTEGIIMKDFSPNVLSLLGILVVLPYMKHGDLRNFIRNYLASKKFVHRDLAARNCMLVADFGLA\n",
      "Pocket sequence similarity between EGFR and MET kinases: 0.46 using identity.\n"
     ]
    }
   ],
   "source": [
    "EGFR_MET_seq_similarity = sequence_similarity(kinase_sequences[\"EGFR\"],\n",
    "                                              kinase_sequences[\"MET\"],\n",
    "                                              \"identity\")\n",
    "for key in ('EGFR','MET'):\n",
    "    print(f\"{key:5s}:{kinase_sequences[key]}\")\n",
    "print(f\"Pocket sequence similarity between EGFR and MET kinases: \"\n",
    "      f\"{EGFR_MET_seq_similarity:.2f} using identity.\")"
   ]
  },
  {
   "cell_type": "code",
   "execution_count": 12,
   "metadata": {},
   "outputs": [
    {
     "name": "stdout",
     "output_type": "stream",
     "text": [
      "Pocket sequence similarity between EGFR and MET kinases: 0.72 using substitution.\n"
     ]
    }
   ],
   "source": [
    "EGFR_MET_seq_similarity = sequence_similarity(kinase_sequences[\"EGFR\"],\n",
    "                                              kinase_sequences[\"MET\"],\n",
    "                                              \"substitution\")\n",
    "print(f\"Pocket sequence similarity between EGFR and MET kinases: \"\n",
    "      f\"{EGFR_MET_seq_similarity:.2f} using substitution.\")"
   ]
  },
  {
   "cell_type": "markdown",
   "metadata": {},
   "source": [
    "We can also look at self-similarity:"
   ]
  },
  {
   "cell_type": "code",
   "execution_count": 13,
   "metadata": {},
   "outputs": [
    {
     "name": "stdout",
     "output_type": "stream",
     "text": [
      "Pocket sequence similarity between EGFR itself: 1.00 using identity.\n"
     ]
    }
   ],
   "source": [
    "EGFR_seq_similarity = sequence_similarity(kinase_sequences[\"EGFR\"], \n",
    "                                          kinase_sequences[\"EGFR\"])\n",
    "print(f\"Pocket sequence similarity between EGFR itself: \"\n",
    "      f\"{EGFR_seq_similarity:.2f} using identity.\")"
   ]
  },
  {
   "cell_type": "code",
   "execution_count": 14,
   "metadata": {},
   "outputs": [
    {
     "name": "stdout",
     "output_type": "stream",
     "text": [
      "Pocket sequence similarity between EGFR itself: 1.00 using substitution.\n"
     ]
    }
   ],
   "source": [
    "EGFR_seq_similarity = sequence_similarity(kinase_sequences[\"EGFR\"], \n",
    "                                          kinase_sequences[\"EGFR\"], \n",
    "                                          type_=\"substitution\")\n",
    "print(f\"Pocket sequence similarity between EGFR itself: \"\n",
    "      f\"{EGFR_seq_similarity:.2f} using substitution.\")"
   ]
  },
  {
   "cell_type": "markdown",
   "metadata": {},
   "source": [
    "As expected, the similarity between a kinase and itself leads to the highest possible score:"
   ]
  },
  {
   "cell_type": "markdown",
   "metadata": {},
   "source": [
    "### Visualize similarity as kinase matrix"
   ]
  },
  {
   "cell_type": "markdown",
   "metadata": {},
   "source": [
    "We visualize the similarity matrix using substitution:"
   ]
  },
  {
   "cell_type": "code",
   "execution_count": 15,
   "metadata": {},
   "outputs": [],
   "source": [
    "similarity_measure=\"substitution\" "
   ]
  },
  {
   "cell_type": "code",
   "execution_count": 16,
   "metadata": {},
   "outputs": [],
   "source": [
    "kinase_similarity_matrix = np.zeros((len(query_kinases), len(query_kinases)))\n",
    "for i, kinase_name1 in enumerate(query_kinases):\n",
    "    for j, kinase_name2 in enumerate(query_kinases):\n",
    "        kinase_similarity_matrix[i, j] = sequence_similarity(kinase_sequences[kinase_name1],\n",
    "                                                             kinase_sequences[kinase_name2],\n",
    "                                                             type_=similarity_measure)"
   ]
  },
  {
   "cell_type": "code",
   "execution_count": 17,
   "metadata": {},
   "outputs": [
    {
     "data": {
      "text/html": [
       "<div>\n",
       "<style scoped>\n",
       "    .dataframe tbody tr th:only-of-type {\n",
       "        vertical-align: middle;\n",
       "    }\n",
       "\n",
       "    .dataframe tbody tr th {\n",
       "        vertical-align: top;\n",
       "    }\n",
       "\n",
       "    .dataframe thead th {\n",
       "        text-align: right;\n",
       "    }\n",
       "</style>\n",
       "<table border=\"1\" class=\"dataframe\">\n",
       "  <thead>\n",
       "    <tr style=\"text-align: right;\">\n",
       "      <th></th>\n",
       "      <th>EGFR</th>\n",
       "      <th>ErbB2</th>\n",
       "      <th>BRAF</th>\n",
       "      <th>CDK2</th>\n",
       "      <th>LCK</th>\n",
       "      <th>MET</th>\n",
       "      <th>p38a</th>\n",
       "      <th>KDR</th>\n",
       "      <th>p110a</th>\n",
       "    </tr>\n",
       "  </thead>\n",
       "  <tbody>\n",
       "    <tr>\n",
       "      <th>EGFR</th>\n",
       "      <td>1.000000</td>\n",
       "      <td>0.940995</td>\n",
       "      <td>0.658852</td>\n",
       "      <td>0.650192</td>\n",
       "      <td>0.710442</td>\n",
       "      <td>0.715203</td>\n",
       "      <td>0.644984</td>\n",
       "      <td>0.715307</td>\n",
       "      <td>0.429135</td>\n",
       "    </tr>\n",
       "    <tr>\n",
       "      <th>ErbB2</th>\n",
       "      <td>0.941257</td>\n",
       "      <td>1.000000</td>\n",
       "      <td>0.659334</td>\n",
       "      <td>0.632521</td>\n",
       "      <td>0.685368</td>\n",
       "      <td>0.702937</td>\n",
       "      <td>0.636820</td>\n",
       "      <td>0.701761</td>\n",
       "      <td>0.416966</td>\n",
       "    </tr>\n",
       "    <tr>\n",
       "      <th>BRAF</th>\n",
       "      <td>0.653021</td>\n",
       "      <td>0.651452</td>\n",
       "      <td>1.000000</td>\n",
       "      <td>0.646301</td>\n",
       "      <td>0.670291</td>\n",
       "      <td>0.639468</td>\n",
       "      <td>0.637391</td>\n",
       "      <td>0.667424</td>\n",
       "      <td>0.437786</td>\n",
       "    </tr>\n",
       "    <tr>\n",
       "      <th>CDK2</th>\n",
       "      <td>0.648024</td>\n",
       "      <td>0.629135</td>\n",
       "      <td>0.649093</td>\n",
       "      <td>1.000000</td>\n",
       "      <td>0.679931</td>\n",
       "      <td>0.658547</td>\n",
       "      <td>0.724206</td>\n",
       "      <td>0.652563</td>\n",
       "      <td>0.425303</td>\n",
       "    </tr>\n",
       "    <tr>\n",
       "      <th>LCK</th>\n",
       "      <td>0.713619</td>\n",
       "      <td>0.685906</td>\n",
       "      <td>0.677195</td>\n",
       "      <td>0.684067</td>\n",
       "      <td>1.000000</td>\n",
       "      <td>0.696126</td>\n",
       "      <td>0.665214</td>\n",
       "      <td>0.689147</td>\n",
       "      <td>0.454323</td>\n",
       "    </tr>\n",
       "    <tr>\n",
       "      <th>MET</th>\n",
       "      <td>0.709202</td>\n",
       "      <td>0.694562</td>\n",
       "      <td>0.638929</td>\n",
       "      <td>0.655510</td>\n",
       "      <td>0.687189</td>\n",
       "      <td>1.000000</td>\n",
       "      <td>0.628056</td>\n",
       "      <td>0.711115</td>\n",
       "      <td>0.392443</td>\n",
       "    </tr>\n",
       "    <tr>\n",
       "      <th>p38a</th>\n",
       "      <td>0.645767</td>\n",
       "      <td>0.634558</td>\n",
       "      <td>0.640101</td>\n",
       "      <td>0.723386</td>\n",
       "      <td>0.661388</td>\n",
       "      <td>0.632620</td>\n",
       "      <td>1.000000</td>\n",
       "      <td>0.652120</td>\n",
       "      <td>0.432959</td>\n",
       "    </tr>\n",
       "    <tr>\n",
       "      <th>KDR</th>\n",
       "      <td>0.718258</td>\n",
       "      <td>0.703629</td>\n",
       "      <td>0.676719</td>\n",
       "      <td>0.656019</td>\n",
       "      <td>0.687444</td>\n",
       "      <td>0.718457</td>\n",
       "      <td>0.656647</td>\n",
       "      <td>1.000000</td>\n",
       "      <td>0.424930</td>\n",
       "    </tr>\n",
       "    <tr>\n",
       "      <th>p110a</th>\n",
       "      <td>0.427023</td>\n",
       "      <td>0.412055</td>\n",
       "      <td>0.437192</td>\n",
       "      <td>0.424418</td>\n",
       "      <td>0.450303</td>\n",
       "      <td>0.397434</td>\n",
       "      <td>0.431120</td>\n",
       "      <td>0.422578</td>\n",
       "      <td>1.000000</td>\n",
       "    </tr>\n",
       "  </tbody>\n",
       "</table>\n",
       "</div>"
      ],
      "text/plain": [
       "           EGFR     ErbB2      BRAF      CDK2       LCK       MET      p38a  \\\n",
       "EGFR   1.000000  0.940995  0.658852  0.650192  0.710442  0.715203  0.644984   \n",
       "ErbB2  0.941257  1.000000  0.659334  0.632521  0.685368  0.702937  0.636820   \n",
       "BRAF   0.653021  0.651452  1.000000  0.646301  0.670291  0.639468  0.637391   \n",
       "CDK2   0.648024  0.629135  0.649093  1.000000  0.679931  0.658547  0.724206   \n",
       "LCK    0.713619  0.685906  0.677195  0.684067  1.000000  0.696126  0.665214   \n",
       "MET    0.709202  0.694562  0.638929  0.655510  0.687189  1.000000  0.628056   \n",
       "p38a   0.645767  0.634558  0.640101  0.723386  0.661388  0.632620  1.000000   \n",
       "KDR    0.718258  0.703629  0.676719  0.656019  0.687444  0.718457  0.656647   \n",
       "p110a  0.427023  0.412055  0.437192  0.424418  0.450303  0.397434  0.431120   \n",
       "\n",
       "            KDR     p110a  \n",
       "EGFR   0.715307  0.429135  \n",
       "ErbB2  0.701761  0.416966  \n",
       "BRAF   0.667424  0.437786  \n",
       "CDK2   0.652563  0.425303  \n",
       "LCK    0.689147  0.454323  \n",
       "MET    0.711115  0.392443  \n",
       "p38a   0.652120  0.432959  \n",
       "KDR    1.000000  0.424930  \n",
       "p110a  0.422578  1.000000  "
      ]
     },
     "execution_count": 17,
     "metadata": {},
     "output_type": "execute_result"
    }
   ],
   "source": [
    "kinase_similarity_matrix_df = pd.DataFrame(data=kinase_similarity_matrix,\n",
    "                                        index=query_kinases,\n",
    "                                        columns=query_kinases)\n",
    "kinase_similarity_matrix_df"
   ]
  },
  {
   "cell_type": "code",
   "execution_count": 18,
   "metadata": {},
   "outputs": [
    {
     "data": {
      "text/html": [
       "<style  type=\"text/css\" >\n",
       "#T_efaac_row0_col0,#T_efaac_row1_col1,#T_efaac_row2_col2,#T_efaac_row3_col3,#T_efaac_row4_col4,#T_efaac_row5_col5,#T_efaac_row6_col6,#T_efaac_row7_col7,#T_efaac_row8_col8{\n",
       "            background-color:  #008000;\n",
       "            color:  #f1f1f1;\n",
       "        }#T_efaac_row0_col1{\n",
       "            background-color:  #178b17;\n",
       "            color:  #000000;\n",
       "        }#T_efaac_row0_col2,#T_efaac_row0_col3,#T_efaac_row2_col0,#T_efaac_row6_col5{\n",
       "            background-color:  #8fc68f;\n",
       "            color:  #000000;\n",
       "        }#T_efaac_row0_col4{\n",
       "            background-color:  #7bbc7b;\n",
       "            color:  #000000;\n",
       "        }#T_efaac_row0_col5{\n",
       "            background-color:  #6eb66e;\n",
       "            color:  #000000;\n",
       "        }#T_efaac_row0_col6,#T_efaac_row3_col2,#T_efaac_row6_col1{\n",
       "            background-color:  #92c892;\n",
       "            color:  #000000;\n",
       "        }#T_efaac_row0_col7,#T_efaac_row1_col5{\n",
       "            background-color:  #74b974;\n",
       "            color:  #000000;\n",
       "        }#T_efaac_row0_col8{\n",
       "            background-color:  #ddecdd;\n",
       "            color:  #000000;\n",
       "        }#T_efaac_row1_col0{\n",
       "            background-color:  #188c18;\n",
       "            color:  #000000;\n",
       "        }#T_efaac_row1_col2,#T_efaac_row3_col7,#T_efaac_row6_col7,#T_efaac_row7_col6{\n",
       "            background-color:  #8ec58e;\n",
       "            color:  #000000;\n",
       "        }#T_efaac_row1_col3,#T_efaac_row1_col6,#T_efaac_row2_col6,#T_efaac_row6_col2{\n",
       "            background-color:  #96c996;\n",
       "            color:  #000000;\n",
       "        }#T_efaac_row1_col4,#T_efaac_row4_col2{\n",
       "            background-color:  #86c286;\n",
       "            color:  #000000;\n",
       "        }#T_efaac_row1_col7,#T_efaac_row5_col1{\n",
       "            background-color:  #79bc79;\n",
       "            color:  #000000;\n",
       "        }#T_efaac_row1_col8{\n",
       "            background-color:  #e1eee1;\n",
       "            color:  #000000;\n",
       "        }#T_efaac_row2_col1{\n",
       "            background-color:  #8bc48b;\n",
       "            color:  #000000;\n",
       "        }#T_efaac_row2_col3,#T_efaac_row3_col0,#T_efaac_row6_col4{\n",
       "            background-color:  #90c790;\n",
       "            color:  #000000;\n",
       "        }#T_efaac_row2_col4,#T_efaac_row2_col5,#T_efaac_row5_col3{\n",
       "            background-color:  #8dc58d;\n",
       "            color:  #000000;\n",
       "        }#T_efaac_row2_col7,#T_efaac_row7_col2{\n",
       "            background-color:  #87c287;\n",
       "            color:  #000000;\n",
       "        }#T_efaac_row2_col8{\n",
       "            background-color:  #d9ead9;\n",
       "            color:  #000000;\n",
       "        }#T_efaac_row3_col1{\n",
       "            background-color:  #94c994;\n",
       "            color:  #000000;\n",
       "        }#T_efaac_row3_col4{\n",
       "            background-color:  #89c389;\n",
       "            color:  #000000;\n",
       "        }#T_efaac_row3_col5,#T_efaac_row5_col4,#T_efaac_row7_col4{\n",
       "            background-color:  #85c185;\n",
       "            color:  #000000;\n",
       "        }#T_efaac_row3_col6{\n",
       "            background-color:  #72b872;\n",
       "            color:  #000000;\n",
       "        }#T_efaac_row3_col8,#T_efaac_row7_col8{\n",
       "            background-color:  #dfeddf;\n",
       "            color:  #000000;\n",
       "        }#T_efaac_row4_col0{\n",
       "            background-color:  #75b975;\n",
       "            color:  #000000;\n",
       "        }#T_efaac_row4_col1{\n",
       "            background-color:  #7dbd7d;\n",
       "            color:  #000000;\n",
       "        }#T_efaac_row4_col3{\n",
       "            background-color:  #81bf81;\n",
       "            color:  #000000;\n",
       "        }#T_efaac_row4_col5,#T_efaac_row5_col0,#T_efaac_row7_col1{\n",
       "            background-color:  #77ba77;\n",
       "            color:  #000000;\n",
       "        }#T_efaac_row4_col6{\n",
       "            background-color:  #8ac48a;\n",
       "            color:  #000000;\n",
       "        }#T_efaac_row4_col7{\n",
       "            background-color:  #7ebe7e;\n",
       "            color:  #000000;\n",
       "        }#T_efaac_row4_col8{\n",
       "            background-color:  #d3e7d3;\n",
       "            color:  #000000;\n",
       "        }#T_efaac_row5_col2{\n",
       "            background-color:  #97ca97;\n",
       "            color:  #000000;\n",
       "        }#T_efaac_row5_col6{\n",
       "            background-color:  #9acb9a;\n",
       "            color:  #000000;\n",
       "        }#T_efaac_row5_col7{\n",
       "            background-color:  #76ba76;\n",
       "            color:  #000000;\n",
       "        }#T_efaac_row5_col8,#T_efaac_row8_col0,#T_efaac_row8_col1,#T_efaac_row8_col2,#T_efaac_row8_col3,#T_efaac_row8_col4,#T_efaac_row8_col5,#T_efaac_row8_col6,#T_efaac_row8_col7{\n",
       "            background-color:  #ebf3eb;\n",
       "            color:  #000000;\n",
       "        }#T_efaac_row6_col0{\n",
       "            background-color:  #91c791;\n",
       "            color:  #000000;\n",
       "        }#T_efaac_row6_col3{\n",
       "            background-color:  #71b771;\n",
       "            color:  #000000;\n",
       "        }#T_efaac_row6_col8{\n",
       "            background-color:  #dbebdb;\n",
       "            color:  #000000;\n",
       "        }#T_efaac_row7_col0{\n",
       "            background-color:  #73b873;\n",
       "            color:  #000000;\n",
       "        }#T_efaac_row7_col3{\n",
       "            background-color:  #8cc58c;\n",
       "            color:  #000000;\n",
       "        }#T_efaac_row7_col5{\n",
       "            background-color:  #6db66d;\n",
       "            color:  #000000;\n",
       "        }</style><table id=\"T_efaac_\" ><thead>    <tr>        <th class=\"blank level0\" ></th>        <th class=\"col_heading level0 col0\" >EGFR</th>        <th class=\"col_heading level0 col1\" >ErbB2</th>        <th class=\"col_heading level0 col2\" >BRAF</th>        <th class=\"col_heading level0 col3\" >CDK2</th>        <th class=\"col_heading level0 col4\" >LCK</th>        <th class=\"col_heading level0 col5\" >MET</th>        <th class=\"col_heading level0 col6\" >p38a</th>        <th class=\"col_heading level0 col7\" >KDR</th>        <th class=\"col_heading level0 col8\" >p110a</th>    </tr></thead><tbody>\n",
       "                <tr>\n",
       "                        <th id=\"T_efaac_level0_row0\" class=\"row_heading level0 row0\" >EGFR</th>\n",
       "                        <td id=\"T_efaac_row0_col0\" class=\"data row0 col0\" >1.000</td>\n",
       "                        <td id=\"T_efaac_row0_col1\" class=\"data row0 col1\" >0.941</td>\n",
       "                        <td id=\"T_efaac_row0_col2\" class=\"data row0 col2\" >0.659</td>\n",
       "                        <td id=\"T_efaac_row0_col3\" class=\"data row0 col3\" >0.650</td>\n",
       "                        <td id=\"T_efaac_row0_col4\" class=\"data row0 col4\" >0.710</td>\n",
       "                        <td id=\"T_efaac_row0_col5\" class=\"data row0 col5\" >0.715</td>\n",
       "                        <td id=\"T_efaac_row0_col6\" class=\"data row0 col6\" >0.645</td>\n",
       "                        <td id=\"T_efaac_row0_col7\" class=\"data row0 col7\" >0.715</td>\n",
       "                        <td id=\"T_efaac_row0_col8\" class=\"data row0 col8\" >0.429</td>\n",
       "            </tr>\n",
       "            <tr>\n",
       "                        <th id=\"T_efaac_level0_row1\" class=\"row_heading level0 row1\" >ErbB2</th>\n",
       "                        <td id=\"T_efaac_row1_col0\" class=\"data row1 col0\" >0.941</td>\n",
       "                        <td id=\"T_efaac_row1_col1\" class=\"data row1 col1\" >1.000</td>\n",
       "                        <td id=\"T_efaac_row1_col2\" class=\"data row1 col2\" >0.659</td>\n",
       "                        <td id=\"T_efaac_row1_col3\" class=\"data row1 col3\" >0.633</td>\n",
       "                        <td id=\"T_efaac_row1_col4\" class=\"data row1 col4\" >0.685</td>\n",
       "                        <td id=\"T_efaac_row1_col5\" class=\"data row1 col5\" >0.703</td>\n",
       "                        <td id=\"T_efaac_row1_col6\" class=\"data row1 col6\" >0.637</td>\n",
       "                        <td id=\"T_efaac_row1_col7\" class=\"data row1 col7\" >0.702</td>\n",
       "                        <td id=\"T_efaac_row1_col8\" class=\"data row1 col8\" >0.417</td>\n",
       "            </tr>\n",
       "            <tr>\n",
       "                        <th id=\"T_efaac_level0_row2\" class=\"row_heading level0 row2\" >BRAF</th>\n",
       "                        <td id=\"T_efaac_row2_col0\" class=\"data row2 col0\" >0.653</td>\n",
       "                        <td id=\"T_efaac_row2_col1\" class=\"data row2 col1\" >0.651</td>\n",
       "                        <td id=\"T_efaac_row2_col2\" class=\"data row2 col2\" >1.000</td>\n",
       "                        <td id=\"T_efaac_row2_col3\" class=\"data row2 col3\" >0.646</td>\n",
       "                        <td id=\"T_efaac_row2_col4\" class=\"data row2 col4\" >0.670</td>\n",
       "                        <td id=\"T_efaac_row2_col5\" class=\"data row2 col5\" >0.639</td>\n",
       "                        <td id=\"T_efaac_row2_col6\" class=\"data row2 col6\" >0.637</td>\n",
       "                        <td id=\"T_efaac_row2_col7\" class=\"data row2 col7\" >0.667</td>\n",
       "                        <td id=\"T_efaac_row2_col8\" class=\"data row2 col8\" >0.438</td>\n",
       "            </tr>\n",
       "            <tr>\n",
       "                        <th id=\"T_efaac_level0_row3\" class=\"row_heading level0 row3\" >CDK2</th>\n",
       "                        <td id=\"T_efaac_row3_col0\" class=\"data row3 col0\" >0.648</td>\n",
       "                        <td id=\"T_efaac_row3_col1\" class=\"data row3 col1\" >0.629</td>\n",
       "                        <td id=\"T_efaac_row3_col2\" class=\"data row3 col2\" >0.649</td>\n",
       "                        <td id=\"T_efaac_row3_col3\" class=\"data row3 col3\" >1.000</td>\n",
       "                        <td id=\"T_efaac_row3_col4\" class=\"data row3 col4\" >0.680</td>\n",
       "                        <td id=\"T_efaac_row3_col5\" class=\"data row3 col5\" >0.659</td>\n",
       "                        <td id=\"T_efaac_row3_col6\" class=\"data row3 col6\" >0.724</td>\n",
       "                        <td id=\"T_efaac_row3_col7\" class=\"data row3 col7\" >0.653</td>\n",
       "                        <td id=\"T_efaac_row3_col8\" class=\"data row3 col8\" >0.425</td>\n",
       "            </tr>\n",
       "            <tr>\n",
       "                        <th id=\"T_efaac_level0_row4\" class=\"row_heading level0 row4\" >LCK</th>\n",
       "                        <td id=\"T_efaac_row4_col0\" class=\"data row4 col0\" >0.714</td>\n",
       "                        <td id=\"T_efaac_row4_col1\" class=\"data row4 col1\" >0.686</td>\n",
       "                        <td id=\"T_efaac_row4_col2\" class=\"data row4 col2\" >0.677</td>\n",
       "                        <td id=\"T_efaac_row4_col3\" class=\"data row4 col3\" >0.684</td>\n",
       "                        <td id=\"T_efaac_row4_col4\" class=\"data row4 col4\" >1.000</td>\n",
       "                        <td id=\"T_efaac_row4_col5\" class=\"data row4 col5\" >0.696</td>\n",
       "                        <td id=\"T_efaac_row4_col6\" class=\"data row4 col6\" >0.665</td>\n",
       "                        <td id=\"T_efaac_row4_col7\" class=\"data row4 col7\" >0.689</td>\n",
       "                        <td id=\"T_efaac_row4_col8\" class=\"data row4 col8\" >0.454</td>\n",
       "            </tr>\n",
       "            <tr>\n",
       "                        <th id=\"T_efaac_level0_row5\" class=\"row_heading level0 row5\" >MET</th>\n",
       "                        <td id=\"T_efaac_row5_col0\" class=\"data row5 col0\" >0.709</td>\n",
       "                        <td id=\"T_efaac_row5_col1\" class=\"data row5 col1\" >0.695</td>\n",
       "                        <td id=\"T_efaac_row5_col2\" class=\"data row5 col2\" >0.639</td>\n",
       "                        <td id=\"T_efaac_row5_col3\" class=\"data row5 col3\" >0.656</td>\n",
       "                        <td id=\"T_efaac_row5_col4\" class=\"data row5 col4\" >0.687</td>\n",
       "                        <td id=\"T_efaac_row5_col5\" class=\"data row5 col5\" >1.000</td>\n",
       "                        <td id=\"T_efaac_row5_col6\" class=\"data row5 col6\" >0.628</td>\n",
       "                        <td id=\"T_efaac_row5_col7\" class=\"data row5 col7\" >0.711</td>\n",
       "                        <td id=\"T_efaac_row5_col8\" class=\"data row5 col8\" >0.392</td>\n",
       "            </tr>\n",
       "            <tr>\n",
       "                        <th id=\"T_efaac_level0_row6\" class=\"row_heading level0 row6\" >p38a</th>\n",
       "                        <td id=\"T_efaac_row6_col0\" class=\"data row6 col0\" >0.646</td>\n",
       "                        <td id=\"T_efaac_row6_col1\" class=\"data row6 col1\" >0.635</td>\n",
       "                        <td id=\"T_efaac_row6_col2\" class=\"data row6 col2\" >0.640</td>\n",
       "                        <td id=\"T_efaac_row6_col3\" class=\"data row6 col3\" >0.723</td>\n",
       "                        <td id=\"T_efaac_row6_col4\" class=\"data row6 col4\" >0.661</td>\n",
       "                        <td id=\"T_efaac_row6_col5\" class=\"data row6 col5\" >0.633</td>\n",
       "                        <td id=\"T_efaac_row6_col6\" class=\"data row6 col6\" >1.000</td>\n",
       "                        <td id=\"T_efaac_row6_col7\" class=\"data row6 col7\" >0.652</td>\n",
       "                        <td id=\"T_efaac_row6_col8\" class=\"data row6 col8\" >0.433</td>\n",
       "            </tr>\n",
       "            <tr>\n",
       "                        <th id=\"T_efaac_level0_row7\" class=\"row_heading level0 row7\" >KDR</th>\n",
       "                        <td id=\"T_efaac_row7_col0\" class=\"data row7 col0\" >0.718</td>\n",
       "                        <td id=\"T_efaac_row7_col1\" class=\"data row7 col1\" >0.704</td>\n",
       "                        <td id=\"T_efaac_row7_col2\" class=\"data row7 col2\" >0.677</td>\n",
       "                        <td id=\"T_efaac_row7_col3\" class=\"data row7 col3\" >0.656</td>\n",
       "                        <td id=\"T_efaac_row7_col4\" class=\"data row7 col4\" >0.687</td>\n",
       "                        <td id=\"T_efaac_row7_col5\" class=\"data row7 col5\" >0.718</td>\n",
       "                        <td id=\"T_efaac_row7_col6\" class=\"data row7 col6\" >0.657</td>\n",
       "                        <td id=\"T_efaac_row7_col7\" class=\"data row7 col7\" >1.000</td>\n",
       "                        <td id=\"T_efaac_row7_col8\" class=\"data row7 col8\" >0.425</td>\n",
       "            </tr>\n",
       "            <tr>\n",
       "                        <th id=\"T_efaac_level0_row8\" class=\"row_heading level0 row8\" >p110a</th>\n",
       "                        <td id=\"T_efaac_row8_col0\" class=\"data row8 col0\" >0.427</td>\n",
       "                        <td id=\"T_efaac_row8_col1\" class=\"data row8 col1\" >0.412</td>\n",
       "                        <td id=\"T_efaac_row8_col2\" class=\"data row8 col2\" >0.437</td>\n",
       "                        <td id=\"T_efaac_row8_col3\" class=\"data row8 col3\" >0.424</td>\n",
       "                        <td id=\"T_efaac_row8_col4\" class=\"data row8 col4\" >0.450</td>\n",
       "                        <td id=\"T_efaac_row8_col5\" class=\"data row8 col5\" >0.397</td>\n",
       "                        <td id=\"T_efaac_row8_col6\" class=\"data row8 col6\" >0.431</td>\n",
       "                        <td id=\"T_efaac_row8_col7\" class=\"data row8 col7\" >0.423</td>\n",
       "                        <td id=\"T_efaac_row8_col8\" class=\"data row8 col8\" >1.000</td>\n",
       "            </tr>\n",
       "    </tbody></table>"
      ],
      "text/plain": [
       "<pandas.io.formats.style.Styler at 0x7f35feba3f10>"
      ]
     },
     "execution_count": 18,
     "metadata": {},
     "output_type": "execute_result"
    }
   ],
   "source": [
    "# Show matrix with background gradient\n",
    "cm = sns.light_palette(\"green\", as_cmap=True)\n",
    "kinase_similarity_matrix_df.style.\\\n",
    "    background_gradient(cmap=cm).\\\n",
    "    format(\"{:.3f}\")"
   ]
  },
  {
   "cell_type": "markdown",
   "metadata": {},
   "source": [
    "### Save kinase similarity matrix"
   ]
  },
  {
   "cell_type": "code",
   "execution_count": 19,
   "metadata": {},
   "outputs": [],
   "source": [
    "f_name = f\"kinase_similarity_{similarity_measure}_matrix_sequence.csv\"\n",
    "kinase_similarity_matrix_df.to_csv(DATA / f_name)"
   ]
  },
  {
   "cell_type": "markdown",
   "metadata": {},
   "source": [
    "## Kinase distance matrix"
   ]
  },
  {
   "cell_type": "markdown",
   "metadata": {},
   "source": [
    "In order to apply some clustering algorithm to assess the similarity between kinases, it is necessary to start with a distance matrix. In the case of the similarity matrix above, this matrix is not a distance matrix. For example, the diagonal elements are not zero.\n",
    "\n",
    "Since all entries are between $0$ and $1$, the similarity matrix $SM$ can be converted to a distance matrix $DM$ using $$ DM = 1-SM.$$"
   ]
  },
  {
   "cell_type": "code",
   "execution_count": 20,
   "metadata": {},
   "outputs": [
    {
     "name": "stdout",
     "output_type": "stream",
     "text": [
      "The values of the similarity matrix lie between: 0.39 and 1.00\n"
     ]
    }
   ],
   "source": [
    "print(f\"The values of the similarity matrix lie between: \"\n",
    "      f\"{kinase_similarity_matrix_df.min().min():.2f}\"\n",
    "      f\" and {kinase_similarity_matrix_df.max().max():.2f}\")"
   ]
  },
  {
   "cell_type": "code",
   "execution_count": 21,
   "metadata": {},
   "outputs": [],
   "source": [
    "kinase_distance_matrix_df = 1 - kinase_similarity_matrix_df"
   ]
  },
  {
   "cell_type": "code",
   "execution_count": 22,
   "metadata": {},
   "outputs": [
    {
     "data": {
      "text/html": [
       "<style  type=\"text/css\" >\n",
       "#T_f9fbf_row0_col0,#T_f9fbf_row1_col1,#T_f9fbf_row2_col2,#T_f9fbf_row3_col3,#T_f9fbf_row4_col4,#T_f9fbf_row5_col5,#T_f9fbf_row6_col6,#T_f9fbf_row7_col7,#T_f9fbf_row8_col8{\n",
       "            background-color:  #ebf3eb;\n",
       "            color:  #000000;\n",
       "        }#T_f9fbf_row0_col1{\n",
       "            background-color:  #d4e8d4;\n",
       "            color:  #000000;\n",
       "        }#T_f9fbf_row0_col2,#T_f9fbf_row0_col3,#T_f9fbf_row2_col0{\n",
       "            background-color:  #5cad5c;\n",
       "            color:  #000000;\n",
       "        }#T_f9fbf_row0_col4{\n",
       "            background-color:  #6fb76f;\n",
       "            color:  #000000;\n",
       "        }#T_f9fbf_row0_col5{\n",
       "            background-color:  #7cbd7c;\n",
       "            color:  #000000;\n",
       "        }#T_f9fbf_row0_col6,#T_f9fbf_row3_col2,#T_f9fbf_row6_col1{\n",
       "            background-color:  #58ab58;\n",
       "            color:  #000000;\n",
       "        }#T_f9fbf_row0_col7,#T_f9fbf_row1_col5{\n",
       "            background-color:  #77ba77;\n",
       "            color:  #000000;\n",
       "        }#T_f9fbf_row0_col8{\n",
       "            background-color:  #0e870e;\n",
       "            color:  #f1f1f1;\n",
       "        }#T_f9fbf_row1_col0{\n",
       "            background-color:  #d3e7d3;\n",
       "            color:  #000000;\n",
       "        }#T_f9fbf_row1_col2,#T_f9fbf_row3_col7,#T_f9fbf_row6_col7,#T_f9fbf_row7_col6{\n",
       "            background-color:  #5dae5d;\n",
       "            color:  #000000;\n",
       "        }#T_f9fbf_row1_col3,#T_f9fbf_row1_col6,#T_f9fbf_row2_col6,#T_f9fbf_row6_col2{\n",
       "            background-color:  #55a955;\n",
       "            color:  #000000;\n",
       "        }#T_f9fbf_row1_col4,#T_f9fbf_row4_col2{\n",
       "            background-color:  #64b164;\n",
       "            color:  #000000;\n",
       "        }#T_f9fbf_row1_col7,#T_f9fbf_row5_col1{\n",
       "            background-color:  #71b771;\n",
       "            color:  #000000;\n",
       "        }#T_f9fbf_row1_col8{\n",
       "            background-color:  #098509;\n",
       "            color:  #f1f1f1;\n",
       "        }#T_f9fbf_row2_col1{\n",
       "            background-color:  #60af60;\n",
       "            color:  #000000;\n",
       "        }#T_f9fbf_row2_col3,#T_f9fbf_row3_col0,#T_f9fbf_row6_col4{\n",
       "            background-color:  #5aac5a;\n",
       "            color:  #000000;\n",
       "        }#T_f9fbf_row2_col4,#T_f9fbf_row2_col5,#T_f9fbf_row5_col3{\n",
       "            background-color:  #5eae5e;\n",
       "            color:  #000000;\n",
       "        }#T_f9fbf_row2_col7,#T_f9fbf_row7_col2{\n",
       "            background-color:  #63b163;\n",
       "            color:  #000000;\n",
       "        }#T_f9fbf_row2_col8{\n",
       "            background-color:  #118911;\n",
       "            color:  #f1f1f1;\n",
       "        }#T_f9fbf_row3_col1{\n",
       "            background-color:  #56aa56;\n",
       "            color:  #000000;\n",
       "        }#T_f9fbf_row3_col4{\n",
       "            background-color:  #61b061;\n",
       "            color:  #000000;\n",
       "        }#T_f9fbf_row3_col5,#T_f9fbf_row5_col4,#T_f9fbf_row7_col4{\n",
       "            background-color:  #65b265;\n",
       "            color:  #000000;\n",
       "        }#T_f9fbf_row3_col6,#T_f9fbf_row7_col0{\n",
       "            background-color:  #78bb78;\n",
       "            color:  #000000;\n",
       "        }#T_f9fbf_row3_col8,#T_f9fbf_row7_col8{\n",
       "            background-color:  #0c860c;\n",
       "            color:  #f1f1f1;\n",
       "        }#T_f9fbf_row4_col0{\n",
       "            background-color:  #76ba76;\n",
       "            color:  #000000;\n",
       "        }#T_f9fbf_row4_col1{\n",
       "            background-color:  #6db66d;\n",
       "            color:  #000000;\n",
       "        }#T_f9fbf_row4_col3{\n",
       "            background-color:  #6ab46a;\n",
       "            color:  #000000;\n",
       "        }#T_f9fbf_row4_col5,#T_f9fbf_row5_col0,#T_f9fbf_row7_col1{\n",
       "            background-color:  #74b974;\n",
       "            color:  #000000;\n",
       "        }#T_f9fbf_row4_col6{\n",
       "            background-color:  #61af61;\n",
       "            color:  #000000;\n",
       "        }#T_f9fbf_row4_col7{\n",
       "            background-color:  #6db56d;\n",
       "            color:  #000000;\n",
       "        }#T_f9fbf_row4_col8{\n",
       "            background-color:  #188c18;\n",
       "            color:  #000000;\n",
       "        }#T_f9fbf_row5_col2{\n",
       "            background-color:  #54a954;\n",
       "            color:  #000000;\n",
       "        }#T_f9fbf_row5_col6{\n",
       "            background-color:  #51a851;\n",
       "            color:  #000000;\n",
       "        }#T_f9fbf_row5_col7{\n",
       "            background-color:  #75b975;\n",
       "            color:  #000000;\n",
       "        }#T_f9fbf_row5_col8,#T_f9fbf_row8_col0,#T_f9fbf_row8_col1,#T_f9fbf_row8_col2,#T_f9fbf_row8_col3,#T_f9fbf_row8_col4,#T_f9fbf_row8_col5,#T_f9fbf_row8_col6,#T_f9fbf_row8_col7{\n",
       "            background-color:  #008000;\n",
       "            color:  #f1f1f1;\n",
       "        }#T_f9fbf_row6_col0{\n",
       "            background-color:  #59ac59;\n",
       "            color:  #000000;\n",
       "        }#T_f9fbf_row6_col3{\n",
       "            background-color:  #79bc79;\n",
       "            color:  #000000;\n",
       "        }#T_f9fbf_row6_col5{\n",
       "            background-color:  #5bad5b;\n",
       "            color:  #000000;\n",
       "        }#T_f9fbf_row6_col8{\n",
       "            background-color:  #108810;\n",
       "            color:  #f1f1f1;\n",
       "        }#T_f9fbf_row7_col3{\n",
       "            background-color:  #5fae5f;\n",
       "            color:  #000000;\n",
       "        }#T_f9fbf_row7_col5{\n",
       "            background-color:  #7dbd7d;\n",
       "            color:  #000000;\n",
       "        }</style><table id=\"T_f9fbf_\" ><thead>    <tr>        <th class=\"blank level0\" ></th>        <th class=\"col_heading level0 col0\" >EGFR</th>        <th class=\"col_heading level0 col1\" >ErbB2</th>        <th class=\"col_heading level0 col2\" >BRAF</th>        <th class=\"col_heading level0 col3\" >CDK2</th>        <th class=\"col_heading level0 col4\" >LCK</th>        <th class=\"col_heading level0 col5\" >MET</th>        <th class=\"col_heading level0 col6\" >p38a</th>        <th class=\"col_heading level0 col7\" >KDR</th>        <th class=\"col_heading level0 col8\" >p110a</th>    </tr></thead><tbody>\n",
       "                <tr>\n",
       "                        <th id=\"T_f9fbf_level0_row0\" class=\"row_heading level0 row0\" >EGFR</th>\n",
       "                        <td id=\"T_f9fbf_row0_col0\" class=\"data row0 col0\" >0.000</td>\n",
       "                        <td id=\"T_f9fbf_row0_col1\" class=\"data row0 col1\" >0.059</td>\n",
       "                        <td id=\"T_f9fbf_row0_col2\" class=\"data row0 col2\" >0.341</td>\n",
       "                        <td id=\"T_f9fbf_row0_col3\" class=\"data row0 col3\" >0.350</td>\n",
       "                        <td id=\"T_f9fbf_row0_col4\" class=\"data row0 col4\" >0.290</td>\n",
       "                        <td id=\"T_f9fbf_row0_col5\" class=\"data row0 col5\" >0.285</td>\n",
       "                        <td id=\"T_f9fbf_row0_col6\" class=\"data row0 col6\" >0.355</td>\n",
       "                        <td id=\"T_f9fbf_row0_col7\" class=\"data row0 col7\" >0.285</td>\n",
       "                        <td id=\"T_f9fbf_row0_col8\" class=\"data row0 col8\" >0.571</td>\n",
       "            </tr>\n",
       "            <tr>\n",
       "                        <th id=\"T_f9fbf_level0_row1\" class=\"row_heading level0 row1\" >ErbB2</th>\n",
       "                        <td id=\"T_f9fbf_row1_col0\" class=\"data row1 col0\" >0.059</td>\n",
       "                        <td id=\"T_f9fbf_row1_col1\" class=\"data row1 col1\" >0.000</td>\n",
       "                        <td id=\"T_f9fbf_row1_col2\" class=\"data row1 col2\" >0.341</td>\n",
       "                        <td id=\"T_f9fbf_row1_col3\" class=\"data row1 col3\" >0.367</td>\n",
       "                        <td id=\"T_f9fbf_row1_col4\" class=\"data row1 col4\" >0.315</td>\n",
       "                        <td id=\"T_f9fbf_row1_col5\" class=\"data row1 col5\" >0.297</td>\n",
       "                        <td id=\"T_f9fbf_row1_col6\" class=\"data row1 col6\" >0.363</td>\n",
       "                        <td id=\"T_f9fbf_row1_col7\" class=\"data row1 col7\" >0.298</td>\n",
       "                        <td id=\"T_f9fbf_row1_col8\" class=\"data row1 col8\" >0.583</td>\n",
       "            </tr>\n",
       "            <tr>\n",
       "                        <th id=\"T_f9fbf_level0_row2\" class=\"row_heading level0 row2\" >BRAF</th>\n",
       "                        <td id=\"T_f9fbf_row2_col0\" class=\"data row2 col0\" >0.347</td>\n",
       "                        <td id=\"T_f9fbf_row2_col1\" class=\"data row2 col1\" >0.349</td>\n",
       "                        <td id=\"T_f9fbf_row2_col2\" class=\"data row2 col2\" >0.000</td>\n",
       "                        <td id=\"T_f9fbf_row2_col3\" class=\"data row2 col3\" >0.354</td>\n",
       "                        <td id=\"T_f9fbf_row2_col4\" class=\"data row2 col4\" >0.330</td>\n",
       "                        <td id=\"T_f9fbf_row2_col5\" class=\"data row2 col5\" >0.361</td>\n",
       "                        <td id=\"T_f9fbf_row2_col6\" class=\"data row2 col6\" >0.363</td>\n",
       "                        <td id=\"T_f9fbf_row2_col7\" class=\"data row2 col7\" >0.333</td>\n",
       "                        <td id=\"T_f9fbf_row2_col8\" class=\"data row2 col8\" >0.562</td>\n",
       "            </tr>\n",
       "            <tr>\n",
       "                        <th id=\"T_f9fbf_level0_row3\" class=\"row_heading level0 row3\" >CDK2</th>\n",
       "                        <td id=\"T_f9fbf_row3_col0\" class=\"data row3 col0\" >0.352</td>\n",
       "                        <td id=\"T_f9fbf_row3_col1\" class=\"data row3 col1\" >0.371</td>\n",
       "                        <td id=\"T_f9fbf_row3_col2\" class=\"data row3 col2\" >0.351</td>\n",
       "                        <td id=\"T_f9fbf_row3_col3\" class=\"data row3 col3\" >0.000</td>\n",
       "                        <td id=\"T_f9fbf_row3_col4\" class=\"data row3 col4\" >0.320</td>\n",
       "                        <td id=\"T_f9fbf_row3_col5\" class=\"data row3 col5\" >0.341</td>\n",
       "                        <td id=\"T_f9fbf_row3_col6\" class=\"data row3 col6\" >0.276</td>\n",
       "                        <td id=\"T_f9fbf_row3_col7\" class=\"data row3 col7\" >0.347</td>\n",
       "                        <td id=\"T_f9fbf_row3_col8\" class=\"data row3 col8\" >0.575</td>\n",
       "            </tr>\n",
       "            <tr>\n",
       "                        <th id=\"T_f9fbf_level0_row4\" class=\"row_heading level0 row4\" >LCK</th>\n",
       "                        <td id=\"T_f9fbf_row4_col0\" class=\"data row4 col0\" >0.286</td>\n",
       "                        <td id=\"T_f9fbf_row4_col1\" class=\"data row4 col1\" >0.314</td>\n",
       "                        <td id=\"T_f9fbf_row4_col2\" class=\"data row4 col2\" >0.323</td>\n",
       "                        <td id=\"T_f9fbf_row4_col3\" class=\"data row4 col3\" >0.316</td>\n",
       "                        <td id=\"T_f9fbf_row4_col4\" class=\"data row4 col4\" >0.000</td>\n",
       "                        <td id=\"T_f9fbf_row4_col5\" class=\"data row4 col5\" >0.304</td>\n",
       "                        <td id=\"T_f9fbf_row4_col6\" class=\"data row4 col6\" >0.335</td>\n",
       "                        <td id=\"T_f9fbf_row4_col7\" class=\"data row4 col7\" >0.311</td>\n",
       "                        <td id=\"T_f9fbf_row4_col8\" class=\"data row4 col8\" >0.546</td>\n",
       "            </tr>\n",
       "            <tr>\n",
       "                        <th id=\"T_f9fbf_level0_row5\" class=\"row_heading level0 row5\" >MET</th>\n",
       "                        <td id=\"T_f9fbf_row5_col0\" class=\"data row5 col0\" >0.291</td>\n",
       "                        <td id=\"T_f9fbf_row5_col1\" class=\"data row5 col1\" >0.305</td>\n",
       "                        <td id=\"T_f9fbf_row5_col2\" class=\"data row5 col2\" >0.361</td>\n",
       "                        <td id=\"T_f9fbf_row5_col3\" class=\"data row5 col3\" >0.344</td>\n",
       "                        <td id=\"T_f9fbf_row5_col4\" class=\"data row5 col4\" >0.313</td>\n",
       "                        <td id=\"T_f9fbf_row5_col5\" class=\"data row5 col5\" >0.000</td>\n",
       "                        <td id=\"T_f9fbf_row5_col6\" class=\"data row5 col6\" >0.372</td>\n",
       "                        <td id=\"T_f9fbf_row5_col7\" class=\"data row5 col7\" >0.289</td>\n",
       "                        <td id=\"T_f9fbf_row5_col8\" class=\"data row5 col8\" >0.608</td>\n",
       "            </tr>\n",
       "            <tr>\n",
       "                        <th id=\"T_f9fbf_level0_row6\" class=\"row_heading level0 row6\" >p38a</th>\n",
       "                        <td id=\"T_f9fbf_row6_col0\" class=\"data row6 col0\" >0.354</td>\n",
       "                        <td id=\"T_f9fbf_row6_col1\" class=\"data row6 col1\" >0.365</td>\n",
       "                        <td id=\"T_f9fbf_row6_col2\" class=\"data row6 col2\" >0.360</td>\n",
       "                        <td id=\"T_f9fbf_row6_col3\" class=\"data row6 col3\" >0.277</td>\n",
       "                        <td id=\"T_f9fbf_row6_col4\" class=\"data row6 col4\" >0.339</td>\n",
       "                        <td id=\"T_f9fbf_row6_col5\" class=\"data row6 col5\" >0.367</td>\n",
       "                        <td id=\"T_f9fbf_row6_col6\" class=\"data row6 col6\" >0.000</td>\n",
       "                        <td id=\"T_f9fbf_row6_col7\" class=\"data row6 col7\" >0.348</td>\n",
       "                        <td id=\"T_f9fbf_row6_col8\" class=\"data row6 col8\" >0.567</td>\n",
       "            </tr>\n",
       "            <tr>\n",
       "                        <th id=\"T_f9fbf_level0_row7\" class=\"row_heading level0 row7\" >KDR</th>\n",
       "                        <td id=\"T_f9fbf_row7_col0\" class=\"data row7 col0\" >0.282</td>\n",
       "                        <td id=\"T_f9fbf_row7_col1\" class=\"data row7 col1\" >0.296</td>\n",
       "                        <td id=\"T_f9fbf_row7_col2\" class=\"data row7 col2\" >0.323</td>\n",
       "                        <td id=\"T_f9fbf_row7_col3\" class=\"data row7 col3\" >0.344</td>\n",
       "                        <td id=\"T_f9fbf_row7_col4\" class=\"data row7 col4\" >0.313</td>\n",
       "                        <td id=\"T_f9fbf_row7_col5\" class=\"data row7 col5\" >0.282</td>\n",
       "                        <td id=\"T_f9fbf_row7_col6\" class=\"data row7 col6\" >0.343</td>\n",
       "                        <td id=\"T_f9fbf_row7_col7\" class=\"data row7 col7\" >0.000</td>\n",
       "                        <td id=\"T_f9fbf_row7_col8\" class=\"data row7 col8\" >0.575</td>\n",
       "            </tr>\n",
       "            <tr>\n",
       "                        <th id=\"T_f9fbf_level0_row8\" class=\"row_heading level0 row8\" >p110a</th>\n",
       "                        <td id=\"T_f9fbf_row8_col0\" class=\"data row8 col0\" >0.573</td>\n",
       "                        <td id=\"T_f9fbf_row8_col1\" class=\"data row8 col1\" >0.588</td>\n",
       "                        <td id=\"T_f9fbf_row8_col2\" class=\"data row8 col2\" >0.563</td>\n",
       "                        <td id=\"T_f9fbf_row8_col3\" class=\"data row8 col3\" >0.576</td>\n",
       "                        <td id=\"T_f9fbf_row8_col4\" class=\"data row8 col4\" >0.550</td>\n",
       "                        <td id=\"T_f9fbf_row8_col5\" class=\"data row8 col5\" >0.603</td>\n",
       "                        <td id=\"T_f9fbf_row8_col6\" class=\"data row8 col6\" >0.569</td>\n",
       "                        <td id=\"T_f9fbf_row8_col7\" class=\"data row8 col7\" >0.577</td>\n",
       "                        <td id=\"T_f9fbf_row8_col8\" class=\"data row8 col8\" >0.000</td>\n",
       "            </tr>\n",
       "    </tbody></table>"
      ],
      "text/plain": [
       "<pandas.io.formats.style.Styler at 0x7f35feac9be0>"
      ]
     },
     "execution_count": 22,
     "metadata": {},
     "output_type": "execute_result"
    }
   ],
   "source": [
    "kinase_distance_matrix_df.style.\\\n",
    "    background_gradient(cmap=cm).\\\n",
    "    format(\"{:.3f}\")"
   ]
  },
  {
   "cell_type": "markdown",
   "metadata": {},
   "source": [
    "### Save kinase distance matrix"
   ]
  },
  {
   "cell_type": "code",
   "execution_count": 23,
   "metadata": {},
   "outputs": [],
   "source": [
    "f_name = f\"kinase_distance_{similarity_measure}_matrix_sequence.csv\"\n",
    "kinase_distance_matrix_df.to_csv(DATA / f_name)"
   ]
  },
  {
   "cell_type": "markdown",
   "metadata": {},
   "source": [
    "## Discussion\n",
    "\n",
    "In this talktorial, we investigate how sequences can be used to measure similarity between kinases. The focus is set on the pocket sequence, which is retrieved from KLIFS. Sequence similarity can be assessed using two scores: 1. the identity, which treats all amino acids uniformly, and 2. the substitution, which takes into account the rate of change of residues over evolutionary time.\n",
    "\n",
    "The kinase similarity matrix above will be reloaded in **Talktorial T028**, where we compare kinase similarities from different perspectives, including the pocket sequence perspective we have talked about in this talktorial."
   ]
  },
  {
   "cell_type": "markdown",
   "metadata": {},
   "source": [
    "## Quiz\n",
    "\n",
    "1. Should the full kinase sequence be used instead of the pocket sequence?\n",
    "2. How does the similarity using identity behave with respect to mutations?\n",
    "3. How does similarity using identity compare to similarity using substitution?"
   ]
  }
 ],
 "metadata": {
  "kernelspec": {
   "display_name": "Python 3",
   "language": "python",
   "name": "python3"
  },
  "language_info": {
   "codemirror_mode": {
    "name": "ipython",
    "version": 3
   },
   "file_extension": ".py",
   "mimetype": "text/x-python",
   "name": "python",
   "nbconvert_exporter": "python",
   "pygments_lexer": "ipython3",
   "version": "3.8.5"
  },
  "toc-autonumbering": true,
  "widgets": {
   "application/vnd.jupyter.widget-state+json": {
    "state": {},
    "version_major": 2,
    "version_minor": 0
   }
  }
 },
 "nbformat": 4,
 "nbformat_minor": 4
}
