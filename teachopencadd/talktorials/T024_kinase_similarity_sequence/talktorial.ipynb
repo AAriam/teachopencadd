{
 "cells": [
  {
   "cell_type": "markdown",
   "metadata": {},
   "source": [
    "# T024 · Kinase similarity: sequence\n",
    "\n",
    "Authors:\n",
    "\n",
    "- Talia B. Kimber, 2021, [Volkamer lab, Charité](https://volkamerlab.org/)\n",
    "- Dominique Sydow, 2021, [Volkamer lab, Charité](https://volkamerlab.org/)\n",
    "- Andrea Volkamer, 2021, [Volkamer lab, Charité](https://volkamerlab.org/)"
   ]
  },
  {
   "cell_type": "markdown",
   "metadata": {},
   "source": [
    "## Aim of this talktorial\n",
    "\n",
    "Add a short summary of this talktorial's content."
   ]
  },
  {
   "cell_type": "markdown",
   "metadata": {},
   "source": [
    "### Contents in *Theory*\n",
    "\n",
    "* Kinase dataset\n",
    "* Kinase similarity descriptor: XXX"
   ]
  },
  {
   "cell_type": "markdown",
   "metadata": {},
   "source": [
    "### Contents in *Practical*\n",
    "\n",
    "* Retrieve and preprocess data\n",
    "* Show kinase coverage\n",
    "* Compare kinases\n",
    "* Visualize similarity as kinase matrix\n",
    "* Visualize similarity as phylogenetic tree"
   ]
  },
  {
   "cell_type": "markdown",
   "metadata": {},
   "source": [
    "### References\n",
    "\n",
    "* Kinase dataset: [<i>Molecules</i> (2021), <b>26(3)</b>, 629](https://www.mdpi.com/1420-3049/26/3/629) \n",
    "* Kinase similarity descriptor: XXX"
   ]
  },
  {
   "cell_type": "markdown",
   "metadata": {},
   "source": [
    "## Theory"
   ]
  },
  {
   "cell_type": "markdown",
   "metadata": {},
   "source": [
    "### Kinase dataset"
   ]
  },
  {
   "cell_type": "markdown",
   "metadata": {},
   "source": [
    "We will use nine kinases from [<i>Molecules</i> (2021), <b>26(3)</b>, 629](https://www.mdpi.com/1420-3049/26/3/629), which aimed to understand kinase similarities within different combinations of kinase on- and off-targets (also called anti-targets):\n",
    "\n",
    " \n",
    "\n",
    "> We aggregated the investigated kinases in “profiles”. Profile 1 combined **EGFR** and **ErbB2** as targets and **BRAF** as a (general) anti-target. Out of similar considerations, Profile 2 consisted of EGFR and **PI3K** as targets and BRAF as anti-target. This profile is expected to be more challenging as PI3K is an atypical kinase and thus less similar to EGFR than for example ErbB2 used in Profile 1. Profile 3, comprised of EGFR and **VEGFR2** as targets and BRAF as anti-target, was contrasted with the hit rate that we found with a standard docking against the single target VEGFR2 (Profile 4).\n",
    "> To broaden the comparison and obtain an estimate for the promiscuity of each compound, the kinases **CDK2**, **LCK**, **MET** and **p38α** were included in the experimental assay panel and the structure-based bioinformatics comparison as commonly used anti-targets.\n",
    "\n",
    " \n",
    "\n",
    "*Table 1:* \n",
    "Kinases used in this notebook, taken from [<i>Molecules</i> (2021), <b>26(3)</b>, 629](https://www.mdpi.com/1420-3049/26/3/629), with their synonyms, UniProt IDs, and kinase groups.\n",
    "\n",
    " \n",
    "\n",
    "| Kinase                     | Synonyms               | UniProt ID | Group    | Full kinase name                                 |\n",
    "|----------------------------|------------------------|------------|----------|--------------------------------------------------|\n",
    "| EGFR                       | ErbB1                  | P00533     | TK       | Epidermal growth factor receptor                 |\n",
    "| ErbB2                      | Her2                   | P04626     | TK       | Erythroblastic leukemia viral oncogene homolog 2 |\n",
    "| PI3K                       | PI3KCA, p110a          | P42336     | Atypical | Phosphatidylinositol-3-kinase                    |\n",
    "| VEGFR2                     | KDR                    | P35968     | TK       | Vascular endothelial growth factor receptor 2    |\n",
    "| BRAF                       | -                      | P15056     | TKL      | Rapidly accelerated fibrosarcoma isoform B       |\n",
    "| CDK2                       | -                      | P24941     | CMGC     | Cyclic-dependent kinase 2                        |\n",
    "| LCK                        | -                      | P06239     | TK       | Lymphocyte-specific protein tyrosine kinase      |\n",
    "| MET                        | -                      | P08581     | TK       | Mesenchymal-epithelial transition factor         |\n",
    "| p38a                       | MAPK14                 | Q16539     | CMGC     | p38 mitogen activated protein kinase α           |"
   ]
  },
  {
   "cell_type": "markdown",
   "metadata": {},
   "source": [
    "### Kinase similarity descriptor: sequence\n",
    "\n",
    "Describe the dataset describing kinase similarity and how we use it.\n",
    "\n",
    "- XXX = KLIFS pocket sequence"
   ]
  },
  {
   "cell_type": "markdown",
   "metadata": {},
   "source": [
    "## Practical"
   ]
  },
  {
   "cell_type": "code",
   "execution_count": 1,
   "metadata": {},
   "outputs": [],
   "source": [
    "# !pip install flake8 pycodestyle_magic\n",
    "%load_ext pycodestyle_magic\n",
    "%pycodestyle_on"
   ]
  },
  {
   "cell_type": "code",
   "execution_count": 2,
   "metadata": {},
   "outputs": [],
   "source": [
    "from pathlib import Path\n",
    "\n",
    "import pandas as pd\n",
    "import numpy as np\n",
    "import requests\n",
    "import biotite.sequence.align as align"
   ]
  },
  {
   "cell_type": "code",
   "execution_count": 3,
   "metadata": {},
   "outputs": [],
   "source": [
    "HERE = Path(_dh[-1])\n",
    "DATA = HERE / \"data\""
   ]
  },
  {
   "cell_type": "markdown",
   "metadata": {},
   "source": [
    "### Retrieve sequences from KLIFS"
   ]
  },
  {
   "cell_type": "markdown",
   "metadata": {},
   "source": [
    "We start by listing the kinases of interest."
   ]
  },
  {
   "cell_type": "code",
   "execution_count": 4,
   "metadata": {},
   "outputs": [],
   "source": [
    "query_kinases = ['EGFR',\n",
    "                 'ErbB2',\n",
    "                 'BRAF',\n",
    "                 'CDK2',\n",
    "                 'LCK',\n",
    "                 'MET',\n",
    "                 'p38a',\n",
    "                 'KDR',\n",
    "                 'p110a']"
   ]
  },
  {
   "cell_type": "markdown",
   "metadata": {},
   "source": [
    "We use KLIFS' API to retrieve the 85-long pocket sequence for each kinase."
   ]
  },
  {
   "cell_type": "code",
   "execution_count": 5,
   "metadata": {},
   "outputs": [],
   "source": [
    "def klifs_pocket_sequence(kinase_name):\n",
    "    \"\"\"\n",
    "    Retrieves the pocket sequence from KLIFS using the API.\n",
    "\n",
    "    Parameters\n",
    "    ----------\n",
    "    kinase_name : str\n",
    "        The name of the kinase of interest.\n",
    "\n",
    "    Returns\n",
    "    -------\n",
    "    str :\n",
    "        The 85 residues pocket sequence from KLIFS,\n",
    "        if the kinase name is valid, None otherwise.\n",
    "    \"\"\"\n",
    "    response = requests.get(f\"https://klifs.net/api/\"\n",
    "                            f\"kinase_ID?kinase_name={kinase_name}\"\n",
    "                            f\"&species=HUMAN\")\n",
    "\n",
    "    if response.status_code == 200:\n",
    "        return response.json()[0]['pocket']\n",
    "    else:\n",
    "        print(f'KLIFS failed for kinase {kinase_name}')\n",
    "        return None"
   ]
  },
  {
   "cell_type": "markdown",
   "metadata": {},
   "source": [
    "Let's see how these pocket sequence look like."
   ]
  },
  {
   "cell_type": "code",
   "execution_count": 6,
   "metadata": {},
   "outputs": [
    {
     "data": {
      "text/plain": [
       "{'EGFR': 'KVLGSGAFGTVYKVAIKELEILDEAYVMASVDPHVCRLLGIQLITQLMPFGCLLDYVREYLEDRRLVHRDLAARNVLVITDFGLA',\n",
       " 'ErbB2': 'KVLGSGAFGTVYKVAIKVLEILDEAYVMAGVGPYVSRLLGIQLVTQLMPYGCLLDHVREYLEDVRLVHRDLAARNVLVITDFGLA',\n",
       " 'BRAF': 'QRIGSGSFGTVYKVAVKMLAFKNEVGVLRKTRVNILLFMGYAIVTQWCEGSSLYHHLHIYLHAKSIIHRDLKSNNIFLIGDFGLA',\n",
       " 'CDK2': 'EKIGEGTYGVVYKVALKKITAIREISLLKELNPNIVKLLDVYLVFEFLH-QDLKKFMDAFCHSHRVLHRDLKPQNLLILADFGLA',\n",
       " 'LCK': 'ERLGAGQFGEVWMVAVKSLAFLAEANLMKQLQQRLVRLYAVYIITEYMENGSLVDFLKTFIEERNYIHRDLRAANILVIADFGLA',\n",
       " 'MET': 'EVIGRGHFGCVYHCAVKSLQFLTEGIIMKDFSPNVLSLLGILVVLPYMKHGDLRNFIRNYLASKKFVHRDLAARNCMLVADFGLA',\n",
       " 'p38a': 'SPVGSGAYGSVCAVAVKKLRTYRELRLLKHMKENVIGLLDVYLVTHLMG-ADLNNIVKCYIHSADIIHRDLKPSNLAVILDFGLA',\n",
       " 'KDR': 'KPLGRGAFGQVIEVAVKMLALMSELKILIHIGLNVVNLLGAMVIVEFCKFGNLSTYLRSFLASRKCIHRDLAARNILLICDFGLA',\n",
       " 'p110a': 'CRIMSSAKRPLWLIIFKNGDLRQDMLTLQIIRLRMLPYGCLVGLIEVVRSHTIMQIQCKATFI--LGIGDRHNSNIMVHIDFGHF'}"
      ]
     },
     "execution_count": 6,
     "metadata": {},
     "output_type": "execute_result"
    }
   ],
   "source": [
    "kinase_sequences = {}\n",
    "for kinase in query_kinases:\n",
    "    kinase_sequences[kinase] = klifs_pocket_sequence(kinase)\n",
    "kinase_sequences"
   ]
  },
  {
   "cell_type": "markdown",
   "metadata": {},
   "source": [
    "### Sequence similarity"
   ]
  },
  {
   "cell_type": "markdown",
   "metadata": {},
   "source": [
    "Given two kinases, we create a function which computes the sequence similarity between them using one of the two measures discussed in the theory, namely the identity or the substitution."
   ]
  },
  {
   "cell_type": "markdown",
   "metadata": {},
   "source": [
    "#### Identity score\n",
    "We first define a function which compares element wise elements as described in the theory."
   ]
  },
  {
   "cell_type": "code",
   "execution_count": 7,
   "metadata": {},
   "outputs": [],
   "source": [
    "def identity_score(sequence1, sequence2):\n",
    "    \"\"\"\n",
    "    sequence1 :\n",
    "    sequence2 :\n",
    "    \"\"\"\n",
    "    # True is the character is the same, False otherwise\n",
    "    return np.compare_chararrays(sequence1,\n",
    "                                 sequence2,\n",
    "                                 cmp=\"==\",\n",
    "                                 rstrip=True)"
   ]
  },
  {
   "cell_type": "markdown",
   "metadata": {},
   "source": [
    "#### Substitution score\n",
    "We now define the function which is more specific to amino acids grouping and use the `biotite` library and retrieve the substitution matrix."
   ]
  },
  {
   "cell_type": "code",
   "execution_count": 8,
   "metadata": {},
   "outputs": [
    {
     "name": "stderr",
     "output_type": "stream",
     "text": [
      "3:80: E501 line too long (90 > 79 characters)\n",
      "6:1: W293 blank line contains whitespace\n",
      "11:25: W291 trailing whitespace\n"
     ]
    }
   ],
   "source": [
    "def substitution_score(sequence1,\n",
    "                       sequence2,\n",
    "                       substitution_matrix=align.SubstitutionMatrix.std_protein_matrix()):\n",
    "    \"\"\"\n",
    "    ADD\n",
    "    \n",
    "    Parameters\n",
    "    ----------\n",
    "    sequence1 :\n",
    "    sequence2 :\n",
    "    substitution_matrix: \n",
    "        Default align.SubstitutionMatrix.std_protein_matrix() from biotite\n",
    "        Obtain BLOSUM62\n",
    "    Returns\n",
    "    -------\n",
    "    \"\"\"\n",
    "    # Retrieve np.array from substitution matrix\n",
    "    score_matrix = substitution_matrix.score_matrix()\n",
    "\n",
    "    # Retireve the letter\n",
    "    letter_alphabet = substitution_matrix.get_alphabet1()\n",
    "\n",
    "    # Map letter to index\n",
    "    dict_letters = {}\n",
    "    for i, letter in enumerate(letter_alphabet.get_symbols()):\n",
    "        dict_letters[letter] = i\n",
    "\n",
    "    match_score = match_score = np.zeros(len(sequence1))\n",
    "    for i, (character_seq1, character_seq2) in enumerate(zip(sequence1,\n",
    "                                                             sequence2)):\n",
    "        ind1 = dict_letters[character_seq1]\n",
    "        ind2 = dict_letters[character_seq2]\n",
    "        match_score[i] = score_matrix[ind1, ind2]\n",
    "    return match_score"
   ]
  },
  {
   "cell_type": "markdown",
   "metadata": {},
   "source": [
    "#### Kinase comparison"
   ]
  },
  {
   "cell_type": "markdown",
   "metadata": {},
   "source": [
    "Given two kinases, we create a function which computes the sequence similarity between them using one of the two measures discussed in the theory, namely the identity or the substitution."
   ]
  },
  {
   "cell_type": "code",
   "execution_count": 9,
   "metadata": {},
   "outputs": [],
   "source": [
    "def sequence_similarity(kinase_name1, kinase_name2, type_=\"identity\"):\n",
    "    \"\"\"\n",
    "    Compares two sequences using a given metric.\n",
    "\n",
    "    kinase_name1, kinase_name2 : str\n",
    "        The two names of the kinases for comparison.\n",
    "\n",
    "    type_ : str ? default = identity\n",
    "\n",
    "    Returns\n",
    "    -------\n",
    "    float :\n",
    "        The similarity between the pocket sequences of the two kinases.\n",
    "    \"\"\"\n",
    "    sequence_1 = klifs_pocket_sequence(kinase_name1)\n",
    "    sequence_2 = klifs_pocket_sequence(kinase_name2)\n",
    "\n",
    "    if len(sequence_1) != len(sequence_1):\n",
    "        print(\"Mismatch in sequence lengths.\")\n",
    "        return None\n",
    "    else:\n",
    "        seq_array1 = np.array(list(sequence_1))\n",
    "        seq_array2 = np.array(list(sequence_2))\n",
    "        if type_ == \"identity\":\n",
    "            is_match = identity_score(seq_array1, seq_array2)\n",
    "            similarity_normed = sum(is_match)/len(sequence_1)\n",
    "            return similarity_normed\n",
    "        elif type_ == \"substitution\":\n",
    "            match_score = substitution_score(seq_array1,\n",
    "                                             seq_array2)\n",
    "            return match_score\n",
    "        else:\n",
    "            print(\"Type not defined.\")\n",
    "            return None"
   ]
  },
  {
   "cell_type": "markdown",
   "metadata": {},
   "source": [
    "Let's look at the sequence similarity between EGFR and MET:"
   ]
  },
  {
   "cell_type": "code",
   "execution_count": 10,
   "metadata": {},
   "outputs": [
    {
     "data": {
      "text/plain": [
       "array([ 1.,  4.,  2.,  6., -1.,  6., -2.,  6.,  6., -1.,  4.,  7., -1.,\n",
       "       -1.,  4.,  3.,  5.,  0.,  4.,  2.,  0.,  4., -1.,  5.,  0., -1.,\n",
       "        3.,  5., -1.,  0., -1.,  0.,  7.,  1.,  4., -1., -1.,  4.,  4.,\n",
       "        6.,  4., -2.,  1.,  3., -1., -1., -1.,  5., -1., -1.,  6., -3.,\n",
       "        4., -2.,  1.,  3.,  3.,  5.,  0.,  7.,  4., -1.,  0.,  2.,  2.,\n",
       "        0.,  4.,  8.,  5.,  6.,  4.,  4.,  4.,  5.,  6., -1.,  2.,  1.,\n",
       "        3.,  0.,  6.,  6.,  6.,  4.,  4.])"
      ]
     },
     "execution_count": 10,
     "metadata": {},
     "output_type": "execute_result"
    }
   ],
   "source": [
    "a = sequence_similarity(\"EGFR\", \"MET\", \"substitution\")\n",
    "a"
   ]
  },
  {
   "cell_type": "code",
   "execution_count": 11,
   "metadata": {},
   "outputs": [
    {
     "data": {
      "text/plain": [
       "0.4588235294117647"
      ]
     },
     "execution_count": 11,
     "metadata": {},
     "output_type": "execute_result"
    }
   ],
   "source": [
    "a = sequence_similarity(\"EGFR\", \"MET\", \"identity\")\n",
    "a"
   ]
  },
  {
   "cell_type": "markdown",
   "metadata": {},
   "source": [
    "As expected, the similarity between a kinase and itself leads the highest possible score:"
   ]
  },
  {
   "cell_type": "code",
   "execution_count": 12,
   "metadata": {},
   "outputs": [
    {
     "data": {
      "text/plain": [
       "1.0"
      ]
     },
     "execution_count": 12,
     "metadata": {},
     "output_type": "execute_result"
    }
   ],
   "source": [
    "sequence_similarity(\"EGFR\", \"EGFR\")"
   ]
  },
  {
   "cell_type": "code",
   "execution_count": 13,
   "metadata": {},
   "outputs": [
    {
     "data": {
      "text/plain": [
       "array([5., 4., 4., 6., 4., 6., 4., 6., 6., 5., 4., 7., 5., 4., 4., 4., 5.,\n",
       "       5., 4., 5., 4., 4., 6., 5., 4., 7., 4., 5., 4., 4., 4., 6., 7., 8.,\n",
       "       4., 9., 5., 4., 4., 6., 4., 5., 4., 4., 5., 5., 4., 5., 7., 6., 6.,\n",
       "       9., 4., 4., 6., 7., 4., 5., 5., 7., 4., 5., 6., 5., 5., 4., 4., 8.,\n",
       "       5., 6., 4., 4., 4., 5., 6., 4., 4., 4., 4., 5., 6., 6., 6., 4., 4.])"
      ]
     },
     "execution_count": 13,
     "metadata": {},
     "output_type": "execute_result"
    }
   ],
   "source": [
    "sequence_similarity(\"EGFR\", \"EGFR\", type_=\"substitution\")"
   ]
  },
  {
   "cell_type": "markdown",
   "metadata": {},
   "source": [
    "### Visualize similarity as kinase matrix"
   ]
  },
  {
   "cell_type": "code",
   "execution_count": 14,
   "metadata": {},
   "outputs": [
    {
     "data": {
      "text/plain": [
       "array([[1.        , 0.89411765, 0.37647059, 0.31764706, 0.44705882,\n",
       "        0.45882353, 0.38823529, 0.47058824, 0.11764706],\n",
       "       [0.89411765, 1.        , 0.4       , 0.32941176, 0.42352941,\n",
       "        0.47058824, 0.4       , 0.43529412, 0.11764706],\n",
       "       [0.37647059, 0.4       , 1.        , 0.32941176, 0.38823529,\n",
       "        0.37647059, 0.37647059, 0.4       , 0.15294118],\n",
       "       [0.31764706, 0.32941176, 0.32941176, 1.        , 0.37647059,\n",
       "        0.36470588, 0.47058824, 0.34117647, 0.10588235],\n",
       "       [0.44705882, 0.42352941, 0.38823529, 0.37647059, 1.        ,\n",
       "        0.4       , 0.38823529, 0.43529412, 0.14117647],\n",
       "       [0.45882353, 0.47058824, 0.37647059, 0.36470588, 0.4       ,\n",
       "        1.        , 0.36470588, 0.47058824, 0.10588235],\n",
       "       [0.38823529, 0.4       , 0.37647059, 0.47058824, 0.38823529,\n",
       "        0.36470588, 1.        , 0.38823529, 0.14117647],\n",
       "       [0.47058824, 0.43529412, 0.4       , 0.34117647, 0.43529412,\n",
       "        0.47058824, 0.38823529, 1.        , 0.15294118],\n",
       "       [0.11764706, 0.11764706, 0.15294118, 0.10588235, 0.14117647,\n",
       "        0.10588235, 0.14117647, 0.15294118, 1.        ]])"
      ]
     },
     "execution_count": 14,
     "metadata": {},
     "output_type": "execute_result"
    }
   ],
   "source": [
    "table = np.zeros((len(query_kinases), len(query_kinases)))\n",
    "for i, kinase_name1 in enumerate(query_kinases):\n",
    "    for j, kinase_name2 in enumerate(query_kinases):\n",
    "        table[i, j] = sequence_similarity(kinase_name1,\n",
    "                                          kinase_name2)\n",
    "table"
   ]
  },
  {
   "cell_type": "markdown",
   "metadata": {},
   "source": [
    "### Substitution"
   ]
  },
  {
   "cell_type": "code",
   "execution_count": 15,
   "metadata": {},
   "outputs": [
    {
     "data": {
      "text/plain": [
       "array(['K', 'V', 'L', 'G', 'S', 'G', 'A', 'F', 'G', 'T', 'V', 'Y', 'K',\n",
       "       'V', 'A', 'I', 'K', 'E', 'L', 'E', 'I', 'L', 'D', 'E', 'A', 'Y',\n",
       "       'V', 'M', 'A', 'S', 'V', 'D', 'P', 'H', 'V', 'C', 'R', 'L', 'L',\n",
       "       'G', 'I', 'Q', 'L', 'I', 'T', 'Q', 'L', 'M', 'P', 'F', 'G', 'C',\n",
       "       'L', 'L', 'D', 'Y', 'V', 'R', 'E', 'Y', 'L', 'E', 'D', 'R', 'R',\n",
       "       'L', 'V', 'H', 'R', 'D', 'L', 'A', 'A', 'R', 'N', 'V', 'L', 'V',\n",
       "       'I', 'T', 'D', 'F', 'G', 'L', 'A'], dtype='<U1')"
      ]
     },
     "execution_count": 15,
     "metadata": {},
     "output_type": "execute_result"
    }
   ],
   "source": [
    "a = np.array(list(kinase_sequences[\"EGFR\"]))\n",
    "a"
   ]
  },
  {
   "cell_type": "code",
   "execution_count": 16,
   "metadata": {},
   "outputs": [
    {
     "data": {
      "text/plain": [
       "array(['E', 'V', 'I', 'G', 'R', 'G', 'H', 'F', 'G', 'C', 'V', 'Y', 'H',\n",
       "       'C', 'A', 'V', 'K', 'S', 'L', 'Q', 'F', 'L', 'T', 'E', 'G', 'I',\n",
       "       'I', 'M', 'K', 'D', 'F', 'S', 'P', 'N', 'V', 'L', 'S', 'L', 'L',\n",
       "       'G', 'I', 'L', 'V', 'V', 'L', 'P', 'Y', 'M', 'K', 'H', 'G', 'D',\n",
       "       'L', 'R', 'N', 'F', 'I', 'R', 'N', 'Y', 'L', 'A', 'S', 'K', 'K',\n",
       "       'F', 'V', 'H', 'R', 'D', 'L', 'A', 'A', 'R', 'N', 'C', 'M', 'L',\n",
       "       'V', 'A', 'D', 'F', 'G', 'L', 'A'], dtype='<U1')"
      ]
     },
     "execution_count": 16,
     "metadata": {},
     "output_type": "execute_result"
    }
   ],
   "source": [
    "b = np.array(list(kinase_sequences[\"MET\"]))\n",
    "b"
   ]
  },
  {
   "cell_type": "code",
   "execution_count": 17,
   "metadata": {},
   "outputs": [
    {
     "name": "stdout",
     "output_type": "stream",
     "text": [
      "    A   C   D   E   F   G   H   I   K   L   M   N   P   Q   R   S   T   V   W   Y   B   Z   X   *\n",
      "A   4   0  -2  -1  -2   0  -2  -1  -1  -1  -1  -2  -1  -1  -1   1   0   0  -3  -2  -2  -1   0  -4\n",
      "C   0   9  -3  -4  -2  -3  -3  -1  -3  -1  -1  -3  -3  -3  -3  -1  -1  -1  -2  -2  -3  -3  -2  -4\n",
      "D  -2  -3   6   2  -3  -1  -1  -3  -1  -4  -3   1  -1   0  -2   0  -1  -3  -4  -3   4   1  -1  -4\n",
      "E  -1  -4   2   5  -3  -2   0  -3   1  -3  -2   0  -1   2   0   0  -1  -2  -3  -2   1   4  -1  -4\n",
      "F  -2  -2  -3  -3   6  -3  -1   0  -3   0   0  -3  -4  -3  -3  -2  -2  -1   1   3  -3  -3  -1  -4\n",
      "G   0  -3  -1  -2  -3   6  -2  -4  -2  -4  -3   0  -2  -2  -2   0  -2  -3  -2  -3  -1  -2  -1  -4\n",
      "H  -2  -3  -1   0  -1  -2   8  -3  -1  -3  -2   1  -2   0   0  -1  -2  -3  -2   2   0   0  -1  -4\n",
      "I  -1  -1  -3  -3   0  -4  -3   4  -3   2   1  -3  -3  -3  -3  -2  -1   3  -3  -1  -3  -3  -1  -4\n",
      "K  -1  -3  -1   1  -3  -2  -1  -3   5  -2  -1   0  -1   1   2   0  -1  -2  -3  -2   0   1  -1  -4\n",
      "L  -1  -1  -4  -3   0  -4  -3   2  -2   4   2  -3  -3  -2  -2  -2  -1   1  -2  -1  -4  -3  -1  -4\n",
      "M  -1  -1  -3  -2   0  -3  -2   1  -1   2   5  -2  -2   0  -1  -1  -1   1  -1  -1  -3  -1  -1  -4\n",
      "N  -2  -3   1   0  -3   0   1  -3   0  -3  -2   6  -2   0   0   1   0  -3  -4  -2   3   0  -1  -4\n",
      "P  -1  -3  -1  -1  -4  -2  -2  -3  -1  -3  -2  -2   7  -1  -2  -1  -1  -2  -4  -3  -2  -1  -2  -4\n",
      "Q  -1  -3   0   2  -3  -2   0  -3   1  -2   0   0  -1   5   1   0  -1  -2  -2  -1   0   3  -1  -4\n",
      "R  -1  -3  -2   0  -3  -2   0  -3   2  -2  -1   0  -2   1   5  -1  -1  -3  -3  -2  -1   0  -1  -4\n",
      "S   1  -1   0   0  -2   0  -1  -2   0  -2  -1   1  -1   0  -1   4   1  -2  -3  -2   0   0   0  -4\n",
      "T   0  -1  -1  -1  -2  -2  -2  -1  -1  -1  -1   0  -1  -1  -1   1   5   0  -2  -2  -1  -1   0  -4\n",
      "V   0  -1  -3  -2  -1  -3  -3   3  -2   1   1  -3  -2  -2  -3  -2   0   4  -3  -1  -3  -2  -1  -4\n",
      "W  -3  -2  -4  -3   1  -2  -2  -3  -3  -2  -1  -4  -4  -2  -3  -3  -2  -3  11   2  -4  -3  -2  -4\n",
      "Y  -2  -2  -3  -2   3  -3   2  -1  -2  -1  -1  -2  -3  -1  -2  -2  -2  -1   2   7  -3  -2  -1  -4\n",
      "B  -2  -3   4   1  -3  -1   0  -3   0  -4  -3   3  -2   0  -1   0  -1  -3  -4  -3   4   1  -1  -4\n",
      "Z  -1  -3   1   4  -3  -2   0  -3   1  -3  -1   0  -1   3   0   0  -1  -2  -3  -2   1   4  -1  -4\n",
      "X   0  -2  -1  -1  -1  -1  -1  -1  -1  -1  -1  -1  -2  -1  -1   0   0  -1  -2  -1  -1  -1  -1  -4\n",
      "*  -4  -4  -4  -4  -4  -4  -4  -4  -4  -4  -4  -4  -4  -4  -4  -4  -4  -4  -4  -4  -4  -4  -4   1\n"
     ]
    }
   ],
   "source": [
    "# Obtain BLOSUM62\n",
    "substitution_matrix = align.SubstitutionMatrix.std_protein_matrix()\n",
    "print(substitution_matrix)"
   ]
  },
  {
   "cell_type": "code",
   "execution_count": 18,
   "metadata": {},
   "outputs": [
    {
     "data": {
      "text/plain": [
       "(numpy.ndarray, (24, 24))"
      ]
     },
     "execution_count": 18,
     "metadata": {},
     "output_type": "execute_result"
    }
   ],
   "source": [
    "score_matrix = substitution_matrix.score_matrix()\n",
    "type(score_matrix), score_matrix.shape"
   ]
  },
  {
   "cell_type": "code",
   "execution_count": 19,
   "metadata": {},
   "outputs": [],
   "source": [
    "letter_alphabet = substitution_matrix.get_alphabet1()"
   ]
  },
  {
   "cell_type": "code",
   "execution_count": 20,
   "metadata": {},
   "outputs": [
    {
     "data": {
      "text/plain": [
       "{'A': 0,\n",
       " 'C': 1,\n",
       " 'D': 2,\n",
       " 'E': 3,\n",
       " 'F': 4,\n",
       " 'G': 5,\n",
       " 'H': 6,\n",
       " 'I': 7,\n",
       " 'K': 8,\n",
       " 'L': 9,\n",
       " 'M': 10,\n",
       " 'N': 11,\n",
       " 'P': 12,\n",
       " 'Q': 13,\n",
       " 'R': 14,\n",
       " 'S': 15,\n",
       " 'T': 16,\n",
       " 'V': 17,\n",
       " 'W': 18,\n",
       " 'Y': 19,\n",
       " 'B': 20,\n",
       " 'Z': 21,\n",
       " 'X': 22,\n",
       " '*': 23}"
      ]
     },
     "execution_count": 20,
     "metadata": {},
     "output_type": "execute_result"
    }
   ],
   "source": [
    "dict_letters = {}\n",
    "for i, letter in enumerate(letter_alphabet.get_symbols()):\n",
    "    dict_letters[letter] = i\n",
    "dict_letters"
   ]
  },
  {
   "cell_type": "code",
   "execution_count": 21,
   "metadata": {},
   "outputs": [],
   "source": [
    "match_score = np.zeros(len(a))\n",
    "for i, (character_seq1, character_seq2) in enumerate(zip(a, b)):\n",
    "    # print(character_seq1, character_seq2)#, type(character_seq1))\n",
    "    ind1 = dict_letters[character_seq1]\n",
    "    ind2 = dict_letters[character_seq2]\n",
    "    match_score[i] = score_matrix[ind1, ind2]"
   ]
  },
  {
   "cell_type": "code",
   "execution_count": 22,
   "metadata": {},
   "outputs": [
    {
     "data": {
      "text/plain": [
       "array([ 1.,  4.,  2.,  6., -1.,  6., -2.,  6.,  6., -1.,  4.,  7., -1.,\n",
       "       -1.,  4.,  3.,  5.,  0.,  4.,  2.,  0.,  4., -1.,  5.,  0., -1.,\n",
       "        3.,  5., -1.,  0., -1.,  0.,  7.,  1.,  4., -1., -1.,  4.,  4.,\n",
       "        6.,  4., -2.,  1.,  3., -1., -1., -1.,  5., -1., -1.,  6., -3.,\n",
       "        4., -2.,  1.,  3.,  3.,  5.,  0.,  7.,  4., -1.,  0.,  2.,  2.,\n",
       "        0.,  4.,  8.,  5.,  6.,  4.,  4.,  4.,  5.,  6., -1.,  2.,  1.,\n",
       "        3.,  0.,  6.,  6.,  6.,  4.,  4.])"
      ]
     },
     "execution_count": 22,
     "metadata": {},
     "output_type": "execute_result"
    }
   ],
   "source": [
    "match_score"
   ]
  },
  {
   "cell_type": "code",
   "execution_count": 23,
   "metadata": {},
   "outputs": [
    {
     "data": {
      "text/plain": [
       "(24, 24)"
      ]
     },
     "execution_count": 23,
     "metadata": {},
     "output_type": "execute_result"
    }
   ],
   "source": [
    "substitution_matrix.shape()"
   ]
  },
  {
   "cell_type": "code",
   "execution_count": 24,
   "metadata": {},
   "outputs": [
    {
     "data": {
      "text/plain": [
       "True"
      ]
     },
     "execution_count": 24,
     "metadata": {},
     "output_type": "execute_result"
    }
   ],
   "source": [
    "substitution_matrix.is_symmetric()"
   ]
  },
  {
   "cell_type": "markdown",
   "metadata": {},
   "source": [
    "### Show kinase coverage"
   ]
  },
  {
   "cell_type": "code",
   "execution_count": null,
   "metadata": {},
   "outputs": [],
   "source": []
  },
  {
   "cell_type": "code",
   "execution_count": null,
   "metadata": {},
   "outputs": [],
   "source": []
  },
  {
   "cell_type": "code",
   "execution_count": null,
   "metadata": {},
   "outputs": [],
   "source": []
  },
  {
   "cell_type": "markdown",
   "metadata": {},
   "source": [
    "### Visualize similarity as phylogenetic tree"
   ]
  },
  {
   "cell_type": "code",
   "execution_count": null,
   "metadata": {},
   "outputs": [],
   "source": []
  },
  {
   "cell_type": "markdown",
   "metadata": {},
   "source": [
    "## Discussion\n",
    "\n",
    "Wrap up the talktorial's content here and discuss pros/cons and open questions/challenges."
   ]
  },
  {
   "cell_type": "markdown",
   "metadata": {},
   "source": [
    "## Quiz\n",
    "\n",
    "Ask three questions that the user should be able to answer after doing this talktorial. Choose important take-aways from this talktorial for your questions.\n",
    "\n",
    "1. Question\n",
    "2. Question\n",
    "3. Question"
   ]
  },
  {
   "cell_type": "code",
   "execution_count": null,
   "metadata": {},
   "outputs": [],
   "source": []
  }
 ],
 "metadata": {
  "kernelspec": {
   "display_name": "Python 3 (ipykernel)",
   "language": "python",
   "name": "python3"
  },
  "language_info": {
   "codemirror_mode": {
    "name": "ipython",
    "version": 3
   },
   "file_extension": ".py",
   "mimetype": "text/x-python",
   "name": "python",
   "nbconvert_exporter": "python",
   "pygments_lexer": "ipython3",
   "version": "3.8.10"
  },
  "toc-autonumbering": true,
  "widgets": {
   "application/vnd.jupyter.widget-state+json": {
    "state": {},
    "version_major": 2,
    "version_minor": 0
   }
  }
 },
 "nbformat": 4,
 "nbformat_minor": 4
}
