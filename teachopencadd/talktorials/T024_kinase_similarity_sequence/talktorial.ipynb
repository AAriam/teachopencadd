{
 "cells": [
  {
   "cell_type": "markdown",
   "metadata": {},
   "source": [
    "# T024 · Kinase similarity: sequence\n",
    "\n",
    "Authors:\n",
    "\n",
    "- Talia B. Kimber, 2021, [Volkamer lab, Charité](https://volkamerlab.org/)\n",
    "- Dominique Sydow, 2021, [Volkamer lab, Charité](https://volkamerlab.org/)\n",
    "- Andrea Volkamer, 2021, [Volkamer lab, Charité](https://volkamerlab.org/)"
   ]
  },
  {
   "cell_type": "markdown",
   "metadata": {},
   "source": [
    "## Aim of this talktorial\n",
    "\n",
    "In this talktorial, we investigate sequence similarity for kinases of interest. KLIFS' API is used to retrieve the $85$ residues pocket sequence for each kinase. \n",
    "\n",
    "Two similarity measures are implemented:\n",
    "   1. Sequence identity, i.e., the similarity which is based on character-wise discrepancy.\n",
    "   2. Sequence similarity, i.e., the similarity which is based on a substitution matrix, thus, reflecting similarities between amino acids."
   ]
  },
  {
   "cell_type": "markdown",
   "metadata": {},
   "source": [
    "### Contents in *Theory*\n",
    "\n",
    "* Kinase dataset\n",
    "* Kinase similarity descriptor: sequence\n",
    "    * Identity score\n",
    "    * Substitution score\n",
    "* From similarity matrix to distance matrix"
   ]
  },
  {
   "cell_type": "markdown",
   "metadata": {},
   "source": [
    "### Contents in *Practical*\n",
    "\n",
    "* Define the kinases of interest\n",
    "* Retrieve sequences from KLIFS\n",
    "* Sequence similarity\n",
    "    * Identity score\n",
    "    * Substitution score\n",
    "* Kinase comparison\n",
    "* Visualize kinase similarity matrix\n",
    "* Save kinase distance matrix"
   ]
  },
  {
   "cell_type": "markdown",
   "metadata": {},
   "source": [
    "### References\n",
    "\n",
    "* Kinase dataset: [<i>Molecules</i> (2021), <b>26(3)</b>, 629](https://www.mdpi.com/1420-3049/26/3/629) \n",
    "* KLIFS\n",
    "  * KLIFS URL: https://klifs.net/\n",
    "  * KLIFS database: [<i>Nucleic Acid Res.</i> (2020), <b>49(D1)</b>, D562-D569](https://doi.org/10.1093/nar/gkaa895)\n",
    "* Sequence-based kinase clustering: Manning et al. [<i>Science</i> (2002), <b>298(5600)</b>, 1912-1934](https://doi.org/10.1126/science.1075762)\n",
    "* Substitution matrix: [<i>PNAS</i> (1992), <b>89(22)<b>, 10915-10919](https://doi.org/10.1073/pnas.89.22.10915)\n",
    "* Biotite\n",
    "    * documentation: https://www.biotite-python.org/index.html\n",
    "    * [Blosum matrix](https://www.biotite-python.org/examples/gallery/sequence/blosum_dendrogram.html?highlight=blosum)\n",
    "* Sequence logo: http://www.cbs.dtu.dk/biotools/Seq2Logo/\n",
    "    "
   ]
  },
  {
   "cell_type": "markdown",
   "metadata": {},
   "source": [
    "## Theory"
   ]
  },
  {
   "cell_type": "markdown",
   "metadata": {},
   "source": [
    "### Kinase dataset"
   ]
  },
  {
   "cell_type": "markdown",
   "metadata": {},
   "source": [
    "We use the kinase selection as defined in __Talktorial T023__."
   ]
  },
  {
   "cell_type": "markdown",
   "metadata": {},
   "source": [
    "### Kinase similarity descriptor: sequence\n",
    "\n",
    "As mentioned in the previous talktorial, sequence is often used in kinase similarity (see the phylogenetic tree developed by Manning et al. [<i>Science</i> (2002), <b>298(5600)</b>, 1912-1934](https://doi.org/10.1126/science.1075762))."
   ]
  },
  {
   "cell_type": "markdown",
   "metadata": {},
   "source": [
    "In this talktorial, the KLIFS' pocket sequence is used for two main reasons:\n",
    "\n",
    "1. The sequence is of fixed length (it contains $85$ residues), which makes computation for pairwise similarity between two sequences easy.\n",
    "\n",
    "2. The binding pocket is where the action takes place. Why consider the full kinase sequence when an $85$ residues sequence contains most relevant information?"
   ]
  },
  {
   "cell_type": "markdown",
   "metadata": {},
   "source": [
    "Missing residues in KLIFS are noted using the symbol \"-\"."
   ]
  },
  {
   "cell_type": "markdown",
   "metadata": {},
   "source": [
    "![sequence_logo](images/sequence_logo.png)\n",
    "\n",
    "_Figure 1:_\n",
    "The sequence logo shows amino acid binding motifs and sequence profiles such as amino acid depletion.\n",
    "\n",
    "**Note for reproducibility:**\n",
    "The figure is generated using the Seq2Logo tool available at http://www.cbs.dtu.dk/biotools/Seq2Logo/. The input is the $85$ residues KLIFS binding pocket for the query kinases. All parameters are the the default ones. For the graphical layout, the entry _Stacks Per Line_ is set to $85$ and _Page size_ to $1200 \\times 480$."
   ]
  },
  {
   "cell_type": "markdown",
   "metadata": {},
   "source": [
    "We now describe two ways to compare pocket sequences."
   ]
  },
  {
   "cell_type": "markdown",
   "metadata": {},
   "source": [
    "#### Identity score\n",
    "A simple way of assessing the similarity between two sequences is to use the so-called identity score.\n",
    "First, a match vector is created: it checks whether for each position the characters from the two sequences are identical. If there are, the entry is set to $1$, and $0$ otherwise.\n",
    "\n",
    "The identity score is computed by summing the elements in the match vector and normalizing the entry by the length of the sequence, which, in the case of KLIFS pocket sequence is $85$."
   ]
  },
  {
   "cell_type": "markdown",
   "metadata": {},
   "source": [
    "Let's consider the identity matrix $I$ below:"
   ]
  },
  {
   "cell_type": "markdown",
   "metadata": {},
   "source": [
    "|       | A     | C     | D     | E     | ... |\n",
    "|-------|-------|-----  |-----  |-----  |-----|\n",
    "| **A** | **1** | 0     | 0     | 0     | ... |\n",
    "| **C** | 0     | **1** | 0     | 0     | ... |\n",
    "| **D** | 0     | 0     | **1** | 0     | ... |\n",
    "| **E** | 0     | 0     | 0     | **1** | ... |\n",
    "| ...   | ...   | ...   | ...   | ...   | ... |\n"
   ]
  },
  {
   "cell_type": "markdown",
   "metadata": {},
   "source": [
    "and let $M = len(K_i) = len(K_j)$."
   ]
  },
  {
   "cell_type": "markdown",
   "metadata": {},
   "source": [
    "We use the following as similarity between kinases $K_i$ and $K_j$:\n",
    "\n",
    "$$\n",
    "\\text{similarity}(K_i, K_j) = \\frac{1}{M} \\sum_{n}^{M} I (K_i[n], K_j[n]),\n",
    "$$\n",
    "\n",
    "where $K_i[n]$ represents the amino acid at position $n$ of kinase $i$."
   ]
  },
  {
   "cell_type": "markdown",
   "metadata": {},
   "source": [
    "#### Substitution score\n",
    "Although the identity score is an easy measure of similarity, it does not take into account the rate at which an amino acid may change into another and treats all residues uniformly.\n",
    "\n",
    "The substitution score takes the changes of the amino acids over evolutionary time into account. It makes use of a substitution matrix, where each entry gives a score between two amino acids.\n",
    "In this talktorial, we use the BLOSUM substitution matrix [<i>PNAS</i> (1992), <b>89(22)<b>, 10915-10919](https://doi.org/10.1073/pnas.89.22.10915), implemented in `biotite`."
   ]
  },
  {
   "cell_type": "markdown",
   "metadata": {},
   "source": [
    "The BLOSUM substitution matrix $SM$ is defined as below (the full matrix will be displayed in the practical part):"
   ]
  },
  {
   "cell_type": "markdown",
   "metadata": {},
   "source": [
    "|       | A     | C     | D     | E     | ... |\n",
    "|-------|-------|-----  |-----  |-----  |-----|\n",
    "| **A** | 4     | 0     | -2    | -1    | ... |\n",
    "| **C** | 0     | 9     | -3    | -4    | ... |\n",
    "| **D** | -2    | -3    | 6     | 2     | ... |\n",
    "| **E** | -1    | -4    | 2     | 5     | ... |\n",
    "| ...   | ...   | ...   | ...   | ...   | ... |"
   ]
  },
  {
   "cell_type": "markdown",
   "metadata": {},
   "source": [
    "The BLOSUM substitution matrix is symmetric, as shown in the practical part.\n",
    "For convenience, we will translate and rescale the matrix using the following:\n",
    "\n",
    "$$\n",
    "SM' = SM - min(SM),\n",
    "$$\n",
    "\n",
    "for translation, and\n",
    "\n",
    "for all $x, y$\n",
    "\n",
    "$$\n",
    "SM''(x, y) = \\frac{SM'[x,y]}{\\sqrt{SM'[x,x]*SM'[y,y]}},\n",
    "$$\n",
    "\n",
    "for rescaling, such that\n",
    "\n",
    "$$\n",
    "SM''[x, x] = 1 \\text{ for all } x,\n",
    "$$ and\n",
    "\n",
    "$$\n",
    "SM''[x, y] \\in [0, 1] \\text{ for all } x,y.\n",
    "$$"
   ]
  },
  {
   "cell_type": "markdown",
   "metadata": {},
   "source": [
    "We use the following as similarity between kinases $K_i$ and $K_j$:\n",
    "\n",
    "$$\n",
    "\\text{similarity}(K_i, K_j) = \\frac{1}{M} \\sum_{n}^{M} SM''\\big(K_i[n], K_j[n]\\big),\n",
    "$$\n",
    "\n",
    "where $K_i[n]$ represents the amino acid at position $n$ of kinase $i$ and $M = len(K_i) = len(K_j)$."
   ]
  },
  {
   "cell_type": "markdown",
   "metadata": {},
   "source": [
    "### From similarity matrix to distance matrix"
   ]
  },
  {
   "cell_type": "markdown",
   "metadata": {},
   "source": [
    "In order to apply some clustering algorithm to assess the similarity between kinases, it is necessary to start with a distance matrix. A similarity matrix is not, by definition, a distance matrix. For example, the diagonal elements are not zero. However, if all entries of the are between $0$ and $1$, the similarity matrix $SM$ can be converted to a distance matrix $DM$ using $$ DM = 1-SM.$$"
   ]
  },
  {
   "cell_type": "markdown",
   "metadata": {},
   "source": [
    "## Practical"
   ]
  },
  {
   "cell_type": "code",
   "execution_count": 1,
   "metadata": {},
   "outputs": [],
   "source": [
    "from pathlib import Path\n",
    "\n",
    "import pandas as pd\n",
    "import numpy as np\n",
    "import seaborn as sns\n",
    "import requests\n",
    "import matplotlib.pyplot as plt\n",
    "import biotite.sequence.align as align"
   ]
  },
  {
   "cell_type": "code",
   "execution_count": 2,
   "metadata": {},
   "outputs": [],
   "source": [
    "HERE = Path(_dh[-1])\n",
    "DATA = HERE / \"data\""
   ]
  },
  {
   "cell_type": "markdown",
   "metadata": {},
   "source": [
    "### Define the kinases of interest"
   ]
  },
  {
   "cell_type": "markdown",
   "metadata": {},
   "source": [
    "Let's load the kinase selection as defined in __Talktorial T023__."
   ]
  },
  {
   "cell_type": "code",
   "execution_count": 3,
   "metadata": {},
   "outputs": [
    {
     "data": {
      "text/html": [
       "<div>\n",
       "<style scoped>\n",
       "    .dataframe tbody tr th:only-of-type {\n",
       "        vertical-align: middle;\n",
       "    }\n",
       "\n",
       "    .dataframe tbody tr th {\n",
       "        vertical-align: top;\n",
       "    }\n",
       "\n",
       "    .dataframe thead th {\n",
       "        text-align: right;\n",
       "    }\n",
       "</style>\n",
       "<table border=\"1\" class=\"dataframe\">\n",
       "  <thead>\n",
       "    <tr style=\"text-align: right;\">\n",
       "      <th></th>\n",
       "      <th>kinase</th>\n",
       "      <th>kinase_klifs</th>\n",
       "      <th>uniprot_id</th>\n",
       "      <th>group</th>\n",
       "      <th>full_kinase_name</th>\n",
       "    </tr>\n",
       "  </thead>\n",
       "  <tbody>\n",
       "    <tr>\n",
       "      <th>0</th>\n",
       "      <td>EGFR</td>\n",
       "      <td>EGFR</td>\n",
       "      <td>P00533</td>\n",
       "      <td>TK</td>\n",
       "      <td>Epidermal growth factor receptor</td>\n",
       "    </tr>\n",
       "    <tr>\n",
       "      <th>1</th>\n",
       "      <td>ErbB2</td>\n",
       "      <td>ErbB2</td>\n",
       "      <td>P04626</td>\n",
       "      <td>TK</td>\n",
       "      <td>Erythroblastic leukemia viral oncogene homolog 2</td>\n",
       "    </tr>\n",
       "    <tr>\n",
       "      <th>2</th>\n",
       "      <td>PI3K</td>\n",
       "      <td>p110a</td>\n",
       "      <td>P42336</td>\n",
       "      <td>Atypical</td>\n",
       "      <td>Phosphatidylinositol-3-kinase</td>\n",
       "    </tr>\n",
       "    <tr>\n",
       "      <th>3</th>\n",
       "      <td>VEGFR2</td>\n",
       "      <td>KDR</td>\n",
       "      <td>P35968</td>\n",
       "      <td>TK</td>\n",
       "      <td>Vascular endothelial growth factor receptor 2</td>\n",
       "    </tr>\n",
       "    <tr>\n",
       "      <th>4</th>\n",
       "      <td>BRAF</td>\n",
       "      <td>BRAF</td>\n",
       "      <td>P15056</td>\n",
       "      <td>TKL</td>\n",
       "      <td>Rapidly accelerated fibrosarcoma isoform B</td>\n",
       "    </tr>\n",
       "    <tr>\n",
       "      <th>5</th>\n",
       "      <td>CDK2</td>\n",
       "      <td>CDK2</td>\n",
       "      <td>P24941</td>\n",
       "      <td>CMGC</td>\n",
       "      <td>Cyclic-dependent kinase 2</td>\n",
       "    </tr>\n",
       "    <tr>\n",
       "      <th>6</th>\n",
       "      <td>LCK</td>\n",
       "      <td>LCK</td>\n",
       "      <td>P06239</td>\n",
       "      <td>TK</td>\n",
       "      <td>Lymphocyte-specific protein tyrosine kinase</td>\n",
       "    </tr>\n",
       "    <tr>\n",
       "      <th>7</th>\n",
       "      <td>MET</td>\n",
       "      <td>MET</td>\n",
       "      <td>P08581</td>\n",
       "      <td>TK</td>\n",
       "      <td>Mesenchymal-epithelial transition factor</td>\n",
       "    </tr>\n",
       "    <tr>\n",
       "      <th>8</th>\n",
       "      <td>p38a</td>\n",
       "      <td>p38a</td>\n",
       "      <td>Q16539</td>\n",
       "      <td>CMGC</td>\n",
       "      <td>p38 mitogen activated protein kinase alpha</td>\n",
       "    </tr>\n",
       "  </tbody>\n",
       "</table>\n",
       "</div>"
      ],
      "text/plain": [
       "   kinase kinase_klifs uniprot_id     group  \\\n",
       "0    EGFR         EGFR     P00533        TK   \n",
       "1   ErbB2        ErbB2     P04626        TK   \n",
       "2    PI3K        p110a     P42336  Atypical   \n",
       "3  VEGFR2          KDR     P35968        TK   \n",
       "4    BRAF         BRAF     P15056       TKL   \n",
       "5    CDK2         CDK2     P24941      CMGC   \n",
       "6     LCK          LCK     P06239        TK   \n",
       "7     MET          MET     P08581        TK   \n",
       "8    p38a         p38a     Q16539      CMGC   \n",
       "\n",
       "                                   full_kinase_name  \n",
       "0                  Epidermal growth factor receptor  \n",
       "1  Erythroblastic leukemia viral oncogene homolog 2  \n",
       "2                     Phosphatidylinositol-3-kinase  \n",
       "3     Vascular endothelial growth factor receptor 2  \n",
       "4        Rapidly accelerated fibrosarcoma isoform B  \n",
       "5                         Cyclic-dependent kinase 2  \n",
       "6       Lymphocyte-specific protein tyrosine kinase  \n",
       "7          Mesenchymal-epithelial transition factor  \n",
       "8        p38 mitogen activated protein kinase alpha  "
      ]
     },
     "execution_count": 3,
     "metadata": {},
     "output_type": "execute_result"
    }
   ],
   "source": [
    "kinase_selection_df = pd.read_csv(HERE / \"../T023_what_is_a_kinase/\\\n",
    "data/kinase_selection.csv\")\n",
    "kinase_selection_df"
   ]
  },
  {
   "cell_type": "markdown",
   "metadata": {},
   "source": [
    "### Retrieve sequences from KLIFS"
   ]
  },
  {
   "cell_type": "markdown",
   "metadata": {},
   "source": [
    "We use KLIFS' API to retrieve the $85$-long pocket sequence for each kinase."
   ]
  },
  {
   "cell_type": "code",
   "execution_count": 4,
   "metadata": {},
   "outputs": [],
   "source": [
    "def klifs_pocket_sequence(klifs_kinase_name):\n",
    "    \"\"\"\n",
    "    Retrieves the pocket sequence from KLIFS using the API.\n",
    "\n",
    "    Parameters\n",
    "    ----------\n",
    "    klifs_kinase_name : str\n",
    "        The KLIFS' name of the kinase of interest.\n",
    "\n",
    "    Returns\n",
    "    -------\n",
    "    str :\n",
    "        The 85 residues pocket sequence from KLIFS,\n",
    "        if the kinase name is valid, None otherwise.\n",
    "    \"\"\"\n",
    "    response = requests.get(f\"https://klifs.net/api/\"\n",
    "                            f\"kinase_ID?kinase_name={klifs_kinase_name}\"\n",
    "                            f\"&species=HUMAN\")\n",
    "\n",
    "    if response.status_code == 200:\n",
    "        return response.json()[0]['pocket']\n",
    "    else:\n",
    "        print(f'KLIFS failed for kinase {klifs_kinase_name}')\n",
    "        return None"
   ]
  },
  {
   "cell_type": "markdown",
   "metadata": {},
   "source": [
    "Let's look at these pocket sequences."
   ]
  },
  {
   "cell_type": "code",
   "execution_count": 5,
   "metadata": {},
   "outputs": [
    {
     "data": {
      "text/plain": [
       "{'EGFR': 'KVLGSGAFGTVYKVAIKELEILDEAYVMASVDPHVCRLLGIQLITQLMPFGCLLDYVREYLEDRRLVHRDLAARNVLVITDFGLA',\n",
       " 'ErbB2': 'KVLGSGAFGTVYKVAIKVLEILDEAYVMAGVGPYVSRLLGIQLVTQLMPYGCLLDHVREYLEDVRLVHRDLAARNVLVITDFGLA',\n",
       " 'p110a': 'CRIMSSAKRPLWLIIFKNGDLRQDMLTLQIIRLRMLPYGCLVGLIEVVRSHTIMQIQCKATFI--LGIGDRHNSNIMVHIDFGHF',\n",
       " 'KDR': 'KPLGRGAFGQVIEVAVKMLALMSELKILIHIGLNVVNLLGAMVIVEFCKFGNLSTYLRSFLASRKCIHRDLAARNILLICDFGLA',\n",
       " 'BRAF': 'QRIGSGSFGTVYKVAVKMLAFKNEVGVLRKTRVNILLFMGYAIVTQWCEGSSLYHHLHIYLHAKSIIHRDLKSNNIFLIGDFGLA',\n",
       " 'CDK2': 'EKIGEGTYGVVYKVALKKITAIREISLLKELNPNIVKLLDVYLVFEFLH-QDLKKFMDAFCHSHRVLHRDLKPQNLLILADFGLA',\n",
       " 'LCK': 'ERLGAGQFGEVWMVAVKSLAFLAEANLMKQLQQRLVRLYAVYIITEYMENGSLVDFLKTFIEERNYIHRDLRAANILVIADFGLA',\n",
       " 'MET': 'EVIGRGHFGCVYHCAVKSLQFLTEGIIMKDFSPNVLSLLGILVVLPYMKHGDLRNFIRNYLASKKFVHRDLAARNCMLVADFGLA',\n",
       " 'p38a': 'SPVGSGAYGSVCAVAVKKLRTYRELRLLKHMKENVIGLLDVYLVTHLMG-ADLNNIVKCYIHSADIIHRDLKPSNLAVILDFGLA'}"
      ]
     },
     "execution_count": 5,
     "metadata": {},
     "output_type": "execute_result"
    }
   ],
   "source": [
    "kinase_sequences = {}\n",
    "for kinase in kinase_selection_df.kinase_klifs:\n",
    "    kinase_sequences[kinase] = klifs_pocket_sequence(kinase)\n",
    "kinase_sequences"
   ]
  },
  {
   "cell_type": "markdown",
   "metadata": {},
   "source": [
    "As shown in the cell above, some sequences have missing residues, denoted by \"-\"."
   ]
  },
  {
   "cell_type": "markdown",
   "metadata": {},
   "source": [
    "### Sequence similarity"
   ]
  },
  {
   "cell_type": "markdown",
   "metadata": {},
   "source": [
    "Given two kinases, we create functions which account for identity or substitution similarity, as described in the theory."
   ]
  },
  {
   "cell_type": "markdown",
   "metadata": {},
   "source": [
    "#### Identity score\n",
    "We first define a function which compares element-wise characters in two sequences."
   ]
  },
  {
   "cell_type": "code",
   "execution_count": 6,
   "metadata": {},
   "outputs": [],
   "source": [
    "def identity_score(sequence1, sequence2):\n",
    "    \"\"\"\n",
    "    Computes the element-wise binary similarity between two sequences.\n",
    "\n",
    "    Parameters\n",
    "    ----------\n",
    "    sequence1 : np.array\n",
    "        An array of character describing the first sequence.\n",
    "    sequence2 :\n",
    "        An array of character describing the second sequence.\n",
    "\n",
    "    Returns\n",
    "    -------\n",
    "    np.array :\n",
    "        The bool array for each character.\n",
    "        1 if the elements are identical,\n",
    "        0 otherwise.\n",
    "    \"\"\"\n",
    "    # True is the character is the same, False otherwise\n",
    "    return np.compare_chararrays(sequence1,\n",
    "                                 sequence2,\n",
    "                                 cmp=\"==\",\n",
    "                                 rstrip=True)"
   ]
  },
  {
   "cell_type": "markdown",
   "metadata": {},
   "source": [
    "#### Substitution score\n",
    "We now define the function which is more specific to amino acids grouping and use the `biotite` library to retrieve the BLOSUM substitution matrix."
   ]
  },
  {
   "cell_type": "markdown",
   "metadata": {},
   "source": [
    "The substitution matrix can be retrieve from `biotite` using the following command:"
   ]
  },
  {
   "cell_type": "code",
   "execution_count": 7,
   "metadata": {},
   "outputs": [
    {
     "name": "stdout",
     "output_type": "stream",
     "text": [
      "    A   C   D   E   F   G   H   I   K   L   M   N   P   Q   R   S   T   V   W   Y   B   Z   X   *\n",
      "A   4   0  -2  -1  -2   0  -2  -1  -1  -1  -1  -2  -1  -1  -1   1   0   0  -3  -2  -2  -1   0  -4\n",
      "C   0   9  -3  -4  -2  -3  -3  -1  -3  -1  -1  -3  -3  -3  -3  -1  -1  -1  -2  -2  -3  -3  -2  -4\n",
      "D  -2  -3   6   2  -3  -1  -1  -3  -1  -4  -3   1  -1   0  -2   0  -1  -3  -4  -3   4   1  -1  -4\n",
      "E  -1  -4   2   5  -3  -2   0  -3   1  -3  -2   0  -1   2   0   0  -1  -2  -3  -2   1   4  -1  -4\n",
      "F  -2  -2  -3  -3   6  -3  -1   0  -3   0   0  -3  -4  -3  -3  -2  -2  -1   1   3  -3  -3  -1  -4\n",
      "G   0  -3  -1  -2  -3   6  -2  -4  -2  -4  -3   0  -2  -2  -2   0  -2  -3  -2  -3  -1  -2  -1  -4\n",
      "H  -2  -3  -1   0  -1  -2   8  -3  -1  -3  -2   1  -2   0   0  -1  -2  -3  -2   2   0   0  -1  -4\n",
      "I  -1  -1  -3  -3   0  -4  -3   4  -3   2   1  -3  -3  -3  -3  -2  -1   3  -3  -1  -3  -3  -1  -4\n",
      "K  -1  -3  -1   1  -3  -2  -1  -3   5  -2  -1   0  -1   1   2   0  -1  -2  -3  -2   0   1  -1  -4\n",
      "L  -1  -1  -4  -3   0  -4  -3   2  -2   4   2  -3  -3  -2  -2  -2  -1   1  -2  -1  -4  -3  -1  -4\n",
      "M  -1  -1  -3  -2   0  -3  -2   1  -1   2   5  -2  -2   0  -1  -1  -1   1  -1  -1  -3  -1  -1  -4\n",
      "N  -2  -3   1   0  -3   0   1  -3   0  -3  -2   6  -2   0   0   1   0  -3  -4  -2   3   0  -1  -4\n",
      "P  -1  -3  -1  -1  -4  -2  -2  -3  -1  -3  -2  -2   7  -1  -2  -1  -1  -2  -4  -3  -2  -1  -2  -4\n",
      "Q  -1  -3   0   2  -3  -2   0  -3   1  -2   0   0  -1   5   1   0  -1  -2  -2  -1   0   3  -1  -4\n",
      "R  -1  -3  -2   0  -3  -2   0  -3   2  -2  -1   0  -2   1   5  -1  -1  -3  -3  -2  -1   0  -1  -4\n",
      "S   1  -1   0   0  -2   0  -1  -2   0  -2  -1   1  -1   0  -1   4   1  -2  -3  -2   0   0   0  -4\n",
      "T   0  -1  -1  -1  -2  -2  -2  -1  -1  -1  -1   0  -1  -1  -1   1   5   0  -2  -2  -1  -1   0  -4\n",
      "V   0  -1  -3  -2  -1  -3  -3   3  -2   1   1  -3  -2  -2  -3  -2   0   4  -3  -1  -3  -2  -1  -4\n",
      "W  -3  -2  -4  -3   1  -2  -2  -3  -3  -2  -1  -4  -4  -2  -3  -3  -2  -3  11   2  -4  -3  -2  -4\n",
      "Y  -2  -2  -3  -2   3  -3   2  -1  -2  -1  -1  -2  -3  -1  -2  -2  -2  -1   2   7  -3  -2  -1  -4\n",
      "B  -2  -3   4   1  -3  -1   0  -3   0  -4  -3   3  -2   0  -1   0  -1  -3  -4  -3   4   1  -1  -4\n",
      "Z  -1  -3   1   4  -3  -2   0  -3   1  -3  -1   0  -1   3   0   0  -1  -2  -3  -2   1   4  -1  -4\n",
      "X   0  -2  -1  -1  -1  -1  -1  -1  -1  -1  -1  -1  -2  -1  -1   0   0  -1  -2  -1  -1  -1  -1  -4\n",
      "*  -4  -4  -4  -4  -4  -4  -4  -4  -4  -4  -4  -4  -4  -4  -4  -4  -4  -4  -4  -4  -4  -4  -4   1\n"
     ]
    }
   ],
   "source": [
    "substitution_matrix = align.SubstitutionMatrix.std_protein_matrix()\n",
    "print(substitution_matrix)"
   ]
  },
  {
   "cell_type": "markdown",
   "metadata": {},
   "source": [
    "Check for symmetry:"
   ]
  },
  {
   "cell_type": "code",
   "execution_count": 8,
   "metadata": {},
   "outputs": [
    {
     "data": {
      "text/plain": [
       "True"
      ]
     },
     "execution_count": 8,
     "metadata": {},
     "output_type": "execute_result"
    }
   ],
   "source": [
    "substitution_matrix.is_symmetric()"
   ]
  },
  {
   "cell_type": "code",
   "execution_count": 9,
   "metadata": {},
   "outputs": [],
   "source": [
    "def substitution_score(sequence1,\n",
    "                       sequence2,\n",
    "                       substitution_matrix=align.\n",
    "                       SubstitutionMatrix.std_protein_matrix()):\n",
    "    \"\"\"\n",
    "    Retrieve the match score given the substitution matrix.\n",
    "\n",
    "    Parameters\n",
    "    ----------\n",
    "    sequence1 : np.array\n",
    "        An array of character describing the first sequence.\n",
    "    sequence2 :\n",
    "        An array of character describing the second sequence.\n",
    "    substitution_matrix:\n",
    "        A substituition matrix specific to amino acids.\n",
    "        The default is align.SubstitutionMatrix.std_protein_matrix()\n",
    "        from biotite, which represents BLOSUM62.\n",
    "\n",
    "    Returns\n",
    "    -------\n",
    "    np.array :\n",
    "        The vector of match score\n",
    "        using the normalized substitution matrix.\n",
    "    \"\"\"\n",
    "    # Retrieve np.array from substitution matrix\n",
    "    score_matrix = substitution_matrix.score_matrix()\n",
    "\n",
    "    # Translation of substitution matrix\n",
    "    translated_matrix = score_matrix-np.min(score_matrix)\n",
    "\n",
    "    # Rescaling\n",
    "    normalized_score_matrix = np.zeros(score_matrix.shape)\n",
    "    for i in range(score_matrix.shape[0]):\n",
    "        for j in range(score_matrix.shape[0]):\n",
    "            normalized_score_matrix[i, j] = (translated_matrix[i, j] /\n",
    "                                             np.sqrt(translated_matrix[i, i] *\n",
    "                                                     translated_matrix[j, j]))\n",
    "\n",
    "    # Retrieve the letter (amino acid)\n",
    "    letter_alphabet = substitution_matrix.get_alphabet1()\n",
    "\n",
    "    # Map letter to index\n",
    "    dict_letters = {}\n",
    "    for i, letter in enumerate(letter_alphabet.get_symbols()):\n",
    "        dict_letters[letter] = i\n",
    "\n",
    "    match_score_array = np.zeros(len(sequence1))\n",
    "    for i, (character_seq1, character_seq2) in enumerate(zip(sequence1,\n",
    "                                                             sequence2)):\n",
    "        ind1 = dict_letters[character_seq1]\n",
    "        ind2 = dict_letters[character_seq2]\n",
    "        match_score_array[i] = normalized_score_matrix[ind1, ind2]\n",
    "    return match_score_array"
   ]
  },
  {
   "cell_type": "markdown",
   "metadata": {},
   "source": [
    "### Kinase similarity"
   ]
  },
  {
   "cell_type": "markdown",
   "metadata": {},
   "source": [
    "Given two kinases, we create a function which computes the sequence similarity between them using one of the two measures, the identity or the substitution."
   ]
  },
  {
   "cell_type": "code",
   "execution_count": 10,
   "metadata": {},
   "outputs": [],
   "source": [
    "def sequence_similarity(klifs_kinase_name1,\n",
    "                        klifs_kinase_name2,\n",
    "                        type_=\"identity\"):\n",
    "    \"\"\"\n",
    "    Compares two sequences using a given metric.\n",
    "\n",
    "    klifs_kinase_name1, klifs_kinase_name2 : str\n",
    "        The two KLIFS names of the kinases for comparison.\n",
    "\n",
    "    type_ : str\n",
    "        The type of metric to compute the similarity.\n",
    "        The default is `identity`.\n",
    "\n",
    "    Returns\n",
    "    -------\n",
    "    float :\n",
    "        The similarity between the pocket sequences of the two kinases.\n",
    "    \"\"\"\n",
    "    sequence_1 = klifs_pocket_sequence(klifs_kinase_name1)\n",
    "    sequence_2 = klifs_pocket_sequence(klifs_kinase_name2)\n",
    "\n",
    "    # Replace possible unavailable residue\n",
    "    # noted in KLIFS with \"-\"\n",
    "    # by the symbol \"*\" for biotite\n",
    "    sequence_1 = sequence_1.replace(\"-\", \"*\")\n",
    "    sequence_2 = sequence_2.replace(\"-\", \"*\")\n",
    "\n",
    "    if len(sequence_1) != len(sequence_1):\n",
    "        print(\"Mismatch in sequence lengths.\")\n",
    "        return None\n",
    "    else:\n",
    "        seq_array1 = np.array(list(sequence_1))\n",
    "        seq_array2 = np.array(list(sequence_2))\n",
    "\n",
    "        if type_ == \"identity\":\n",
    "            is_match_array = identity_score(seq_array1, seq_array2)\n",
    "            similarity_normed = sum(is_match_array)/len(sequence_1)\n",
    "        elif type_ == \"substitution\":\n",
    "            match_score_array = substitution_score(seq_array1, seq_array2)\n",
    "            similarity_normed = sum(match_score_array)/len(sequence_1)\n",
    "        else:\n",
    "            print(f\"Type {type_} not defined.\")\n",
    "            return None\n",
    "\n",
    "        return similarity_normed"
   ]
  },
  {
   "cell_type": "markdown",
   "metadata": {},
   "source": [
    "Let's look at the sequence similarity between EGFR and MET:"
   ]
  },
  {
   "cell_type": "code",
   "execution_count": 11,
   "metadata": {},
   "outputs": [
    {
     "name": "stdout",
     "output_type": "stream",
     "text": [
      "The sequences are:\n",
      "\n",
      "EGFR : KVLGSGAFGTVYKVAIKELEILDEAYVMASVDPHVCRLLGIQLITQLMPFGCLLDYVREYLEDRRLVHRDLAARNVLVITDFGLA\n",
      "MET  : EVIGRGHFGCVYHCAVKSLQFLTEGIIMKDFSPNVLSLLGILVVLPYMKHGDLRNFIRNYLASKKFVHRDLAARNCMLVADFGLA\n"
     ]
    }
   ],
   "source": [
    "print(\"The sequences are:\\n\")\n",
    "for key in ('EGFR', 'MET'):\n",
    "    print(f\"{key:5s}: {kinase_sequences[key]}\")"
   ]
  },
  {
   "cell_type": "code",
   "execution_count": 12,
   "metadata": {},
   "outputs": [
    {
     "name": "stdout",
     "output_type": "stream",
     "text": [
      "Pocket sequence similarity between EGFR and MET kinases: 0.46 using identity.\n"
     ]
    }
   ],
   "source": [
    "EGFR_MET_seq_similarity = sequence_similarity(\"EGFR\",\n",
    "                                              \"MET\",\n",
    "                                              \"identity\")\n",
    "\n",
    "print(f\"Pocket sequence similarity between EGFR and MET kinases: \"\n",
    "      f\"{EGFR_MET_seq_similarity:.2f} using identity.\")"
   ]
  },
  {
   "cell_type": "code",
   "execution_count": 13,
   "metadata": {},
   "outputs": [
    {
     "name": "stdout",
     "output_type": "stream",
     "text": [
      "Pocket sequence similarity between EGFR and MET kinases: 0.71 using substitution.\n"
     ]
    }
   ],
   "source": [
    "EGFR_MET_seq_similarity = sequence_similarity(\"EGFR\",\n",
    "                                              \"MET\",\n",
    "                                              \"substitution\")\n",
    "print(f\"Pocket sequence similarity between EGFR and MET kinases: \"\n",
    "      f\"{EGFR_MET_seq_similarity:.2f} using substitution.\")"
   ]
  },
  {
   "cell_type": "markdown",
   "metadata": {},
   "source": [
    "We can also look at self-similarity:"
   ]
  },
  {
   "cell_type": "code",
   "execution_count": 14,
   "metadata": {},
   "outputs": [
    {
     "name": "stdout",
     "output_type": "stream",
     "text": [
      "Pocket sequence similarity between EGFR itself: 1.00 using identity.\n"
     ]
    }
   ],
   "source": [
    "EGFR_seq_similarity = sequence_similarity(\"EGFR\",\n",
    "                                          \"EGFR\")\n",
    "print(f\"Pocket sequence similarity between EGFR itself: \"\n",
    "      f\"{EGFR_seq_similarity:.2f} using identity.\")"
   ]
  },
  {
   "cell_type": "code",
   "execution_count": 15,
   "metadata": {},
   "outputs": [
    {
     "name": "stdout",
     "output_type": "stream",
     "text": [
      "Pocket sequence similarity between EGFR itself: 1.00 using substitution.\n"
     ]
    }
   ],
   "source": [
    "EGFR_seq_similarity = sequence_similarity(\"EGFR\",\n",
    "                                          \"EGFR\",\n",
    "                                          type_=\"substitution\")\n",
    "print(f\"Pocket sequence similarity between EGFR itself: \"\n",
    "      f\"{EGFR_seq_similarity:.2f} using substitution.\")"
   ]
  },
  {
   "cell_type": "markdown",
   "metadata": {},
   "source": [
    "As expected, the similarity between a kinase and itself leads to the highest possible score:"
   ]
  },
  {
   "cell_type": "markdown",
   "metadata": {},
   "source": [
    "### Visualize similarity as kinase matrix"
   ]
  },
  {
   "cell_type": "markdown",
   "metadata": {},
   "source": [
    "We visualize the similarity matrix using substitution:"
   ]
  },
  {
   "cell_type": "code",
   "execution_count": 16,
   "metadata": {},
   "outputs": [],
   "source": [
    "similarity_measure = \"substitution\""
   ]
  },
  {
   "cell_type": "markdown",
   "metadata": {},
   "source": [
    "_Note_: The cell below takes a few seconds to execute."
   ]
  },
  {
   "cell_type": "code",
   "execution_count": 17,
   "metadata": {},
   "outputs": [],
   "source": [
    "kinase_similarity_matrix = np.zeros((len(kinase_selection_df.kinase_klifs),\n",
    "                                     len(kinase_selection_df.kinase_klifs)))\n",
    "for i, kinase_name1 in enumerate(kinase_selection_df.kinase_klifs):\n",
    "    for j, kinase_name2 in enumerate(kinase_selection_df.kinase_klifs):\n",
    "        kinase_similarity_matrix[i, j] = sequence_similarity(kinase_name1,\n",
    "                                                             kinase_name2,\n",
    "                                                             similarity_measure)"
   ]
  },
  {
   "cell_type": "code",
   "execution_count": 18,
   "metadata": {},
   "outputs": [
    {
     "data": {
      "text/html": [
       "<div>\n",
       "<style scoped>\n",
       "    .dataframe tbody tr th:only-of-type {\n",
       "        vertical-align: middle;\n",
       "    }\n",
       "\n",
       "    .dataframe tbody tr th {\n",
       "        vertical-align: top;\n",
       "    }\n",
       "\n",
       "    .dataframe thead th {\n",
       "        text-align: right;\n",
       "    }\n",
       "</style>\n",
       "<table border=\"1\" class=\"dataframe\">\n",
       "  <thead>\n",
       "    <tr style=\"text-align: right;\">\n",
       "      <th>kinase_klifs</th>\n",
       "      <th>EGFR</th>\n",
       "      <th>ErbB2</th>\n",
       "      <th>p110a</th>\n",
       "      <th>KDR</th>\n",
       "      <th>BRAF</th>\n",
       "      <th>CDK2</th>\n",
       "      <th>LCK</th>\n",
       "      <th>MET</th>\n",
       "      <th>p38a</th>\n",
       "    </tr>\n",
       "    <tr>\n",
       "      <th>kinase_klifs</th>\n",
       "      <th></th>\n",
       "      <th></th>\n",
       "      <th></th>\n",
       "      <th></th>\n",
       "      <th></th>\n",
       "      <th></th>\n",
       "      <th></th>\n",
       "      <th></th>\n",
       "      <th></th>\n",
       "    </tr>\n",
       "  </thead>\n",
       "  <tbody>\n",
       "    <tr>\n",
       "      <th>EGFR</th>\n",
       "      <td>1.000000</td>\n",
       "      <td>0.940963</td>\n",
       "      <td>0.427062</td>\n",
       "      <td>0.716047</td>\n",
       "      <td>0.655028</td>\n",
       "      <td>0.648447</td>\n",
       "      <td>0.711321</td>\n",
       "      <td>0.711258</td>\n",
       "      <td>0.644644</td>\n",
       "    </tr>\n",
       "    <tr>\n",
       "      <th>ErbB2</th>\n",
       "      <td>0.940963</td>\n",
       "      <td>1.000000</td>\n",
       "      <td>0.413638</td>\n",
       "      <td>0.702118</td>\n",
       "      <td>0.654600</td>\n",
       "      <td>0.630308</td>\n",
       "      <td>0.685075</td>\n",
       "      <td>0.697967</td>\n",
       "      <td>0.635173</td>\n",
       "    </tr>\n",
       "    <tr>\n",
       "      <th>p110a</th>\n",
       "      <td>0.427062</td>\n",
       "      <td>0.413638</td>\n",
       "      <td>1.000000</td>\n",
       "      <td>0.422705</td>\n",
       "      <td>0.436459</td>\n",
       "      <td>0.423994</td>\n",
       "      <td>0.451336</td>\n",
       "      <td>0.393699</td>\n",
       "      <td>0.431194</td>\n",
       "    </tr>\n",
       "    <tr>\n",
       "      <th>KDR</th>\n",
       "      <td>0.716047</td>\n",
       "      <td>0.702118</td>\n",
       "      <td>0.422705</td>\n",
       "      <td>1.000000</td>\n",
       "      <td>0.671268</td>\n",
       "      <td>0.653379</td>\n",
       "      <td>0.687648</td>\n",
       "      <td>0.713806</td>\n",
       "      <td>0.653444</td>\n",
       "    </tr>\n",
       "    <tr>\n",
       "      <th>BRAF</th>\n",
       "      <td>0.655028</td>\n",
       "      <td>0.654600</td>\n",
       "      <td>0.436459</td>\n",
       "      <td>0.671268</td>\n",
       "      <td>1.000000</td>\n",
       "      <td>0.646755</td>\n",
       "      <td>0.672933</td>\n",
       "      <td>0.638158</td>\n",
       "      <td>0.637912</td>\n",
       "    </tr>\n",
       "    <tr>\n",
       "      <th>CDK2</th>\n",
       "      <td>0.648447</td>\n",
       "      <td>0.630308</td>\n",
       "      <td>0.423994</td>\n",
       "      <td>0.653379</td>\n",
       "      <td>0.646755</td>\n",
       "      <td>1.000000</td>\n",
       "      <td>0.681253</td>\n",
       "      <td>0.656025</td>\n",
       "      <td>0.723093</td>\n",
       "    </tr>\n",
       "    <tr>\n",
       "      <th>LCK</th>\n",
       "      <td>0.711321</td>\n",
       "      <td>0.685075</td>\n",
       "      <td>0.451336</td>\n",
       "      <td>0.687648</td>\n",
       "      <td>0.672933</td>\n",
       "      <td>0.681253</td>\n",
       "      <td>1.000000</td>\n",
       "      <td>0.690879</td>\n",
       "      <td>0.662581</td>\n",
       "    </tr>\n",
       "    <tr>\n",
       "      <th>MET</th>\n",
       "      <td>0.711258</td>\n",
       "      <td>0.697967</td>\n",
       "      <td>0.393699</td>\n",
       "      <td>0.713806</td>\n",
       "      <td>0.638158</td>\n",
       "      <td>0.656025</td>\n",
       "      <td>0.690879</td>\n",
       "      <td>1.000000</td>\n",
       "      <td>0.629355</td>\n",
       "    </tr>\n",
       "    <tr>\n",
       "      <th>p38a</th>\n",
       "      <td>0.644644</td>\n",
       "      <td>0.635173</td>\n",
       "      <td>0.431194</td>\n",
       "      <td>0.653444</td>\n",
       "      <td>0.637912</td>\n",
       "      <td>0.723093</td>\n",
       "      <td>0.662581</td>\n",
       "      <td>0.629355</td>\n",
       "      <td>1.000000</td>\n",
       "    </tr>\n",
       "  </tbody>\n",
       "</table>\n",
       "</div>"
      ],
      "text/plain": [
       "kinase_klifs      EGFR     ErbB2     p110a       KDR      BRAF      CDK2  \\\n",
       "kinase_klifs                                                               \n",
       "EGFR          1.000000  0.940963  0.427062  0.716047  0.655028  0.648447   \n",
       "ErbB2         0.940963  1.000000  0.413638  0.702118  0.654600  0.630308   \n",
       "p110a         0.427062  0.413638  1.000000  0.422705  0.436459  0.423994   \n",
       "KDR           0.716047  0.702118  0.422705  1.000000  0.671268  0.653379   \n",
       "BRAF          0.655028  0.654600  0.436459  0.671268  1.000000  0.646755   \n",
       "CDK2          0.648447  0.630308  0.423994  0.653379  0.646755  1.000000   \n",
       "LCK           0.711321  0.685075  0.451336  0.687648  0.672933  0.681253   \n",
       "MET           0.711258  0.697967  0.393699  0.713806  0.638158  0.656025   \n",
       "p38a          0.644644  0.635173  0.431194  0.653444  0.637912  0.723093   \n",
       "\n",
       "kinase_klifs       LCK       MET      p38a  \n",
       "kinase_klifs                                \n",
       "EGFR          0.711321  0.711258  0.644644  \n",
       "ErbB2         0.685075  0.697967  0.635173  \n",
       "p110a         0.451336  0.393699  0.431194  \n",
       "KDR           0.687648  0.713806  0.653444  \n",
       "BRAF          0.672933  0.638158  0.637912  \n",
       "CDK2          0.681253  0.656025  0.723093  \n",
       "LCK           1.000000  0.690879  0.662581  \n",
       "MET           0.690879  1.000000  0.629355  \n",
       "p38a          0.662581  0.629355  1.000000  "
      ]
     },
     "execution_count": 18,
     "metadata": {},
     "output_type": "execute_result"
    }
   ],
   "source": [
    "kinase_similarity_matrix_df = pd.DataFrame(data=kinase_similarity_matrix,\n",
    "                                           index=kinase_selection_df.kinase_klifs,\n",
    "                                           columns=kinase_selection_df.kinase_klifs)\n",
    "kinase_similarity_matrix_df"
   ]
  },
  {
   "cell_type": "markdown",
   "metadata": {},
   "source": [
    "Let's check that the matrix is symmetric:"
   ]
  },
  {
   "cell_type": "code",
   "execution_count": 19,
   "metadata": {},
   "outputs": [
    {
     "data": {
      "text/plain": [
       "True"
      ]
     },
     "execution_count": 19,
     "metadata": {},
     "output_type": "execute_result"
    }
   ],
   "source": [
    "(kinase_similarity_matrix_df.values ==\n",
    " kinase_similarity_matrix_df.values.transpose()).all()"
   ]
  },
  {
   "cell_type": "code",
   "execution_count": 20,
   "metadata": {},
   "outputs": [
    {
     "data": {
      "text/html": [
       "<style type=\"text/css\">\n",
       "#T_72c5e_row0_col0, #T_72c5e_row1_col1, #T_72c5e_row2_col2, #T_72c5e_row3_col3, #T_72c5e_row4_col4, #T_72c5e_row5_col5, #T_72c5e_row6_col6, #T_72c5e_row7_col7, #T_72c5e_row8_col8 {\n",
       "  background-color: #008000;\n",
       "  color: #f1f1f1;\n",
       "}\n",
       "#T_72c5e_row0_col1 {\n",
       "  background-color: #178b17;\n",
       "  color: #f1f1f1;\n",
       "}\n",
       "#T_72c5e_row0_col2 {\n",
       "  background-color: #deedde;\n",
       "  color: #000000;\n",
       "}\n",
       "#T_72c5e_row0_col3 {\n",
       "  background-color: #73b873;\n",
       "  color: #f1f1f1;\n",
       "}\n",
       "#T_72c5e_row0_col4, #T_72c5e_row0_col5, #T_72c5e_row1_col4, #T_72c5e_row3_col8, #T_72c5e_row4_col5, #T_72c5e_row8_col7 {\n",
       "  background-color: #8fc68f;\n",
       "  color: #000000;\n",
       "}\n",
       "#T_72c5e_row0_col6 {\n",
       "  background-color: #7bbc7b;\n",
       "  color: #000000;\n",
       "}\n",
       "#T_72c5e_row0_col7 {\n",
       "  background-color: #6fb76f;\n",
       "  color: #f1f1f1;\n",
       "}\n",
       "#T_72c5e_row0_col8, #T_72c5e_row8_col1 {\n",
       "  background-color: #92c892;\n",
       "  color: #000000;\n",
       "}\n",
       "#T_72c5e_row1_col0 {\n",
       "  background-color: #188c18;\n",
       "  color: #f1f1f1;\n",
       "}\n",
       "#T_72c5e_row1_col2 {\n",
       "  background-color: #e3efe3;\n",
       "  color: #000000;\n",
       "}\n",
       "#T_72c5e_row1_col3 {\n",
       "  background-color: #79bc79;\n",
       "  color: #000000;\n",
       "}\n",
       "#T_72c5e_row1_col5, #T_72c5e_row1_col8, #T_72c5e_row7_col4, #T_72c5e_row8_col4 {\n",
       "  background-color: #97ca97;\n",
       "  color: #000000;\n",
       "}\n",
       "#T_72c5e_row1_col6 {\n",
       "  background-color: #86c286;\n",
       "  color: #000000;\n",
       "}\n",
       "#T_72c5e_row1_col7 {\n",
       "  background-color: #75b975;\n",
       "  color: #f1f1f1;\n",
       "}\n",
       "#T_72c5e_row2_col0, #T_72c5e_row2_col1, #T_72c5e_row2_col3, #T_72c5e_row2_col4, #T_72c5e_row2_col5, #T_72c5e_row2_col6, #T_72c5e_row2_col7, #T_72c5e_row2_col8, #T_72c5e_row7_col2 {\n",
       "  background-color: #ebf3eb;\n",
       "  color: #000000;\n",
       "}\n",
       "#T_72c5e_row3_col0, #T_72c5e_row7_col3 {\n",
       "  background-color: #74b974;\n",
       "  color: #f1f1f1;\n",
       "}\n",
       "#T_72c5e_row3_col1, #T_72c5e_row6_col7 {\n",
       "  background-color: #78bb78;\n",
       "  color: #f1f1f1;\n",
       "}\n",
       "#T_72c5e_row3_col2, #T_72c5e_row5_col2 {\n",
       "  background-color: #e0eedf;\n",
       "  color: #000000;\n",
       "}\n",
       "#T_72c5e_row3_col4 {\n",
       "  background-color: #89c389;\n",
       "  color: #000000;\n",
       "}\n",
       "#T_72c5e_row3_col5, #T_72c5e_row4_col0 {\n",
       "  background-color: #8ec58e;\n",
       "  color: #000000;\n",
       "}\n",
       "#T_72c5e_row3_col6, #T_72c5e_row4_col3, #T_72c5e_row5_col7 {\n",
       "  background-color: #85c185;\n",
       "  color: #000000;\n",
       "}\n",
       "#T_72c5e_row3_col7 {\n",
       "  background-color: #6eb66e;\n",
       "  color: #f1f1f1;\n",
       "}\n",
       "#T_72c5e_row4_col1 {\n",
       "  background-color: #8ac48a;\n",
       "  color: #000000;\n",
       "}\n",
       "#T_72c5e_row4_col2 {\n",
       "  background-color: #daebda;\n",
       "  color: #000000;\n",
       "}\n",
       "#T_72c5e_row4_col6, #T_72c5e_row4_col7, #T_72c5e_row7_col5 {\n",
       "  background-color: #8cc58c;\n",
       "  color: #000000;\n",
       "}\n",
       "#T_72c5e_row4_col8 {\n",
       "  background-color: #95c995;\n",
       "  color: #000000;\n",
       "}\n",
       "#T_72c5e_row5_col0, #T_72c5e_row8_col6 {\n",
       "  background-color: #90c790;\n",
       "  color: #000000;\n",
       "}\n",
       "#T_72c5e_row5_col1 {\n",
       "  background-color: #94c994;\n",
       "  color: #000000;\n",
       "}\n",
       "#T_72c5e_row5_col3, #T_72c5e_row8_col3 {\n",
       "  background-color: #8dc58d;\n",
       "  color: #000000;\n",
       "}\n",
       "#T_72c5e_row5_col4 {\n",
       "  background-color: #93c893;\n",
       "  color: #000000;\n",
       "}\n",
       "#T_72c5e_row5_col6, #T_72c5e_row6_col4 {\n",
       "  background-color: #88c388;\n",
       "  color: #000000;\n",
       "}\n",
       "#T_72c5e_row5_col8 {\n",
       "  background-color: #72b872;\n",
       "  color: #f1f1f1;\n",
       "}\n",
       "#T_72c5e_row6_col0 {\n",
       "  background-color: #76ba76;\n",
       "  color: #f1f1f1;\n",
       "}\n",
       "#T_72c5e_row6_col1 {\n",
       "  background-color: #7ebe7e;\n",
       "  color: #000000;\n",
       "}\n",
       "#T_72c5e_row6_col2 {\n",
       "  background-color: #d4e8d4;\n",
       "  color: #000000;\n",
       "}\n",
       "#T_72c5e_row6_col3 {\n",
       "  background-color: #7fbe7f;\n",
       "  color: #000000;\n",
       "}\n",
       "#T_72c5e_row6_col5 {\n",
       "  background-color: #82c082;\n",
       "  color: #000000;\n",
       "}\n",
       "#T_72c5e_row6_col8 {\n",
       "  background-color: #8bc48b;\n",
       "  color: #000000;\n",
       "}\n",
       "#T_72c5e_row7_col0 {\n",
       "  background-color: #77ba77;\n",
       "  color: #f1f1f1;\n",
       "}\n",
       "#T_72c5e_row7_col1 {\n",
       "  background-color: #78bb78;\n",
       "  color: #000000;\n",
       "}\n",
       "#T_72c5e_row7_col6 {\n",
       "  background-color: #84c184;\n",
       "  color: #000000;\n",
       "}\n",
       "#T_72c5e_row7_col8 {\n",
       "  background-color: #99cb99;\n",
       "  color: #000000;\n",
       "}\n",
       "#T_72c5e_row8_col0 {\n",
       "  background-color: #91c791;\n",
       "  color: #000000;\n",
       "}\n",
       "#T_72c5e_row8_col2 {\n",
       "  background-color: #ddecdd;\n",
       "  color: #000000;\n",
       "}\n",
       "#T_72c5e_row8_col5 {\n",
       "  background-color: #71b771;\n",
       "  color: #f1f1f1;\n",
       "}\n",
       "</style>\n",
       "<table id=\"T_72c5e_\">\n",
       "  <thead>\n",
       "    <tr>\n",
       "      <th class=\"index_name level0\" >kinase_klifs</th>\n",
       "      <th class=\"col_heading level0 col0\" >EGFR</th>\n",
       "      <th class=\"col_heading level0 col1\" >ErbB2</th>\n",
       "      <th class=\"col_heading level0 col2\" >p110a</th>\n",
       "      <th class=\"col_heading level0 col3\" >KDR</th>\n",
       "      <th class=\"col_heading level0 col4\" >BRAF</th>\n",
       "      <th class=\"col_heading level0 col5\" >CDK2</th>\n",
       "      <th class=\"col_heading level0 col6\" >LCK</th>\n",
       "      <th class=\"col_heading level0 col7\" >MET</th>\n",
       "      <th class=\"col_heading level0 col8\" >p38a</th>\n",
       "    </tr>\n",
       "    <tr>\n",
       "      <th class=\"index_name level0\" >kinase_klifs</th>\n",
       "      <th class=\"blank col0\" >&nbsp;</th>\n",
       "      <th class=\"blank col1\" >&nbsp;</th>\n",
       "      <th class=\"blank col2\" >&nbsp;</th>\n",
       "      <th class=\"blank col3\" >&nbsp;</th>\n",
       "      <th class=\"blank col4\" >&nbsp;</th>\n",
       "      <th class=\"blank col5\" >&nbsp;</th>\n",
       "      <th class=\"blank col6\" >&nbsp;</th>\n",
       "      <th class=\"blank col7\" >&nbsp;</th>\n",
       "      <th class=\"blank col8\" >&nbsp;</th>\n",
       "    </tr>\n",
       "  </thead>\n",
       "  <tbody>\n",
       "    <tr>\n",
       "      <th id=\"T_72c5e_level0_row0\" class=\"row_heading level0 row0\" >EGFR</th>\n",
       "      <td id=\"T_72c5e_row0_col0\" class=\"data row0 col0\" >1.000</td>\n",
       "      <td id=\"T_72c5e_row0_col1\" class=\"data row0 col1\" >0.941</td>\n",
       "      <td id=\"T_72c5e_row0_col2\" class=\"data row0 col2\" >0.427</td>\n",
       "      <td id=\"T_72c5e_row0_col3\" class=\"data row0 col3\" >0.716</td>\n",
       "      <td id=\"T_72c5e_row0_col4\" class=\"data row0 col4\" >0.655</td>\n",
       "      <td id=\"T_72c5e_row0_col5\" class=\"data row0 col5\" >0.648</td>\n",
       "      <td id=\"T_72c5e_row0_col6\" class=\"data row0 col6\" >0.711</td>\n",
       "      <td id=\"T_72c5e_row0_col7\" class=\"data row0 col7\" >0.711</td>\n",
       "      <td id=\"T_72c5e_row0_col8\" class=\"data row0 col8\" >0.645</td>\n",
       "    </tr>\n",
       "    <tr>\n",
       "      <th id=\"T_72c5e_level0_row1\" class=\"row_heading level0 row1\" >ErbB2</th>\n",
       "      <td id=\"T_72c5e_row1_col0\" class=\"data row1 col0\" >0.941</td>\n",
       "      <td id=\"T_72c5e_row1_col1\" class=\"data row1 col1\" >1.000</td>\n",
       "      <td id=\"T_72c5e_row1_col2\" class=\"data row1 col2\" >0.414</td>\n",
       "      <td id=\"T_72c5e_row1_col3\" class=\"data row1 col3\" >0.702</td>\n",
       "      <td id=\"T_72c5e_row1_col4\" class=\"data row1 col4\" >0.655</td>\n",
       "      <td id=\"T_72c5e_row1_col5\" class=\"data row1 col5\" >0.630</td>\n",
       "      <td id=\"T_72c5e_row1_col6\" class=\"data row1 col6\" >0.685</td>\n",
       "      <td id=\"T_72c5e_row1_col7\" class=\"data row1 col7\" >0.698</td>\n",
       "      <td id=\"T_72c5e_row1_col8\" class=\"data row1 col8\" >0.635</td>\n",
       "    </tr>\n",
       "    <tr>\n",
       "      <th id=\"T_72c5e_level0_row2\" class=\"row_heading level0 row2\" >p110a</th>\n",
       "      <td id=\"T_72c5e_row2_col0\" class=\"data row2 col0\" >0.427</td>\n",
       "      <td id=\"T_72c5e_row2_col1\" class=\"data row2 col1\" >0.414</td>\n",
       "      <td id=\"T_72c5e_row2_col2\" class=\"data row2 col2\" >1.000</td>\n",
       "      <td id=\"T_72c5e_row2_col3\" class=\"data row2 col3\" >0.423</td>\n",
       "      <td id=\"T_72c5e_row2_col4\" class=\"data row2 col4\" >0.436</td>\n",
       "      <td id=\"T_72c5e_row2_col5\" class=\"data row2 col5\" >0.424</td>\n",
       "      <td id=\"T_72c5e_row2_col6\" class=\"data row2 col6\" >0.451</td>\n",
       "      <td id=\"T_72c5e_row2_col7\" class=\"data row2 col7\" >0.394</td>\n",
       "      <td id=\"T_72c5e_row2_col8\" class=\"data row2 col8\" >0.431</td>\n",
       "    </tr>\n",
       "    <tr>\n",
       "      <th id=\"T_72c5e_level0_row3\" class=\"row_heading level0 row3\" >KDR</th>\n",
       "      <td id=\"T_72c5e_row3_col0\" class=\"data row3 col0\" >0.716</td>\n",
       "      <td id=\"T_72c5e_row3_col1\" class=\"data row3 col1\" >0.702</td>\n",
       "      <td id=\"T_72c5e_row3_col2\" class=\"data row3 col2\" >0.423</td>\n",
       "      <td id=\"T_72c5e_row3_col3\" class=\"data row3 col3\" >1.000</td>\n",
       "      <td id=\"T_72c5e_row3_col4\" class=\"data row3 col4\" >0.671</td>\n",
       "      <td id=\"T_72c5e_row3_col5\" class=\"data row3 col5\" >0.653</td>\n",
       "      <td id=\"T_72c5e_row3_col6\" class=\"data row3 col6\" >0.688</td>\n",
       "      <td id=\"T_72c5e_row3_col7\" class=\"data row3 col7\" >0.714</td>\n",
       "      <td id=\"T_72c5e_row3_col8\" class=\"data row3 col8\" >0.653</td>\n",
       "    </tr>\n",
       "    <tr>\n",
       "      <th id=\"T_72c5e_level0_row4\" class=\"row_heading level0 row4\" >BRAF</th>\n",
       "      <td id=\"T_72c5e_row4_col0\" class=\"data row4 col0\" >0.655</td>\n",
       "      <td id=\"T_72c5e_row4_col1\" class=\"data row4 col1\" >0.655</td>\n",
       "      <td id=\"T_72c5e_row4_col2\" class=\"data row4 col2\" >0.436</td>\n",
       "      <td id=\"T_72c5e_row4_col3\" class=\"data row4 col3\" >0.671</td>\n",
       "      <td id=\"T_72c5e_row4_col4\" class=\"data row4 col4\" >1.000</td>\n",
       "      <td id=\"T_72c5e_row4_col5\" class=\"data row4 col5\" >0.647</td>\n",
       "      <td id=\"T_72c5e_row4_col6\" class=\"data row4 col6\" >0.673</td>\n",
       "      <td id=\"T_72c5e_row4_col7\" class=\"data row4 col7\" >0.638</td>\n",
       "      <td id=\"T_72c5e_row4_col8\" class=\"data row4 col8\" >0.638</td>\n",
       "    </tr>\n",
       "    <tr>\n",
       "      <th id=\"T_72c5e_level0_row5\" class=\"row_heading level0 row5\" >CDK2</th>\n",
       "      <td id=\"T_72c5e_row5_col0\" class=\"data row5 col0\" >0.648</td>\n",
       "      <td id=\"T_72c5e_row5_col1\" class=\"data row5 col1\" >0.630</td>\n",
       "      <td id=\"T_72c5e_row5_col2\" class=\"data row5 col2\" >0.424</td>\n",
       "      <td id=\"T_72c5e_row5_col3\" class=\"data row5 col3\" >0.653</td>\n",
       "      <td id=\"T_72c5e_row5_col4\" class=\"data row5 col4\" >0.647</td>\n",
       "      <td id=\"T_72c5e_row5_col5\" class=\"data row5 col5\" >1.000</td>\n",
       "      <td id=\"T_72c5e_row5_col6\" class=\"data row5 col6\" >0.681</td>\n",
       "      <td id=\"T_72c5e_row5_col7\" class=\"data row5 col7\" >0.656</td>\n",
       "      <td id=\"T_72c5e_row5_col8\" class=\"data row5 col8\" >0.723</td>\n",
       "    </tr>\n",
       "    <tr>\n",
       "      <th id=\"T_72c5e_level0_row6\" class=\"row_heading level0 row6\" >LCK</th>\n",
       "      <td id=\"T_72c5e_row6_col0\" class=\"data row6 col0\" >0.711</td>\n",
       "      <td id=\"T_72c5e_row6_col1\" class=\"data row6 col1\" >0.685</td>\n",
       "      <td id=\"T_72c5e_row6_col2\" class=\"data row6 col2\" >0.451</td>\n",
       "      <td id=\"T_72c5e_row6_col3\" class=\"data row6 col3\" >0.688</td>\n",
       "      <td id=\"T_72c5e_row6_col4\" class=\"data row6 col4\" >0.673</td>\n",
       "      <td id=\"T_72c5e_row6_col5\" class=\"data row6 col5\" >0.681</td>\n",
       "      <td id=\"T_72c5e_row6_col6\" class=\"data row6 col6\" >1.000</td>\n",
       "      <td id=\"T_72c5e_row6_col7\" class=\"data row6 col7\" >0.691</td>\n",
       "      <td id=\"T_72c5e_row6_col8\" class=\"data row6 col8\" >0.663</td>\n",
       "    </tr>\n",
       "    <tr>\n",
       "      <th id=\"T_72c5e_level0_row7\" class=\"row_heading level0 row7\" >MET</th>\n",
       "      <td id=\"T_72c5e_row7_col0\" class=\"data row7 col0\" >0.711</td>\n",
       "      <td id=\"T_72c5e_row7_col1\" class=\"data row7 col1\" >0.698</td>\n",
       "      <td id=\"T_72c5e_row7_col2\" class=\"data row7 col2\" >0.394</td>\n",
       "      <td id=\"T_72c5e_row7_col3\" class=\"data row7 col3\" >0.714</td>\n",
       "      <td id=\"T_72c5e_row7_col4\" class=\"data row7 col4\" >0.638</td>\n",
       "      <td id=\"T_72c5e_row7_col5\" class=\"data row7 col5\" >0.656</td>\n",
       "      <td id=\"T_72c5e_row7_col6\" class=\"data row7 col6\" >0.691</td>\n",
       "      <td id=\"T_72c5e_row7_col7\" class=\"data row7 col7\" >1.000</td>\n",
       "      <td id=\"T_72c5e_row7_col8\" class=\"data row7 col8\" >0.629</td>\n",
       "    </tr>\n",
       "    <tr>\n",
       "      <th id=\"T_72c5e_level0_row8\" class=\"row_heading level0 row8\" >p38a</th>\n",
       "      <td id=\"T_72c5e_row8_col0\" class=\"data row8 col0\" >0.645</td>\n",
       "      <td id=\"T_72c5e_row8_col1\" class=\"data row8 col1\" >0.635</td>\n",
       "      <td id=\"T_72c5e_row8_col2\" class=\"data row8 col2\" >0.431</td>\n",
       "      <td id=\"T_72c5e_row8_col3\" class=\"data row8 col3\" >0.653</td>\n",
       "      <td id=\"T_72c5e_row8_col4\" class=\"data row8 col4\" >0.638</td>\n",
       "      <td id=\"T_72c5e_row8_col5\" class=\"data row8 col5\" >0.723</td>\n",
       "      <td id=\"T_72c5e_row8_col6\" class=\"data row8 col6\" >0.663</td>\n",
       "      <td id=\"T_72c5e_row8_col7\" class=\"data row8 col7\" >0.629</td>\n",
       "      <td id=\"T_72c5e_row8_col8\" class=\"data row8 col8\" >1.000</td>\n",
       "    </tr>\n",
       "  </tbody>\n",
       "</table>\n"
      ],
      "text/plain": [
       "<pandas.io.formats.style.Styler at 0x7fb414e3fd90>"
      ]
     },
     "execution_count": 20,
     "metadata": {},
     "output_type": "execute_result"
    }
   ],
   "source": [
    "# Show matrix with background gradient\n",
    "cm = sns.light_palette(\"green\", as_cmap=True)\n",
    "kinase_similarity_matrix_df.style.\\\n",
    "    background_gradient(cmap=cm).\\\n",
    "    format(\"{:.3f}\")"
   ]
  },
  {
   "cell_type": "markdown",
   "metadata": {},
   "source": [
    "### Save kinase similarity matrix"
   ]
  },
  {
   "cell_type": "code",
   "execution_count": 21,
   "metadata": {},
   "outputs": [],
   "source": [
    "f_name = f\"kinase_similarity_{similarity_measure}_matrix_sequence.csv\"\n",
    "kinase_similarity_matrix_df.to_csv(DATA / f_name)"
   ]
  },
  {
   "cell_type": "markdown",
   "metadata": {},
   "source": [
    "### Kinase distance matrix"
   ]
  },
  {
   "cell_type": "markdown",
   "metadata": {},
   "source": [
    "Since all entries are between $0$ and $1$, the similarity matrix $SM$ can be converted to a distance matrix:"
   ]
  },
  {
   "cell_type": "code",
   "execution_count": 22,
   "metadata": {},
   "outputs": [
    {
     "name": "stdout",
     "output_type": "stream",
     "text": [
      "The values of the similarity matrix lie between: 0.39 and 1.00\n"
     ]
    }
   ],
   "source": [
    "print(f\"The values of the similarity matrix lie between: \"\n",
    "      f\"{kinase_similarity_matrix_df.min().min():.2f}\"\n",
    "      f\" and {kinase_similarity_matrix_df.max().max():.2f}\")"
   ]
  },
  {
   "cell_type": "code",
   "execution_count": 23,
   "metadata": {},
   "outputs": [],
   "source": [
    "kinase_distance_matrix_df = 1 - kinase_similarity_matrix_df"
   ]
  },
  {
   "cell_type": "code",
   "execution_count": 24,
   "metadata": {},
   "outputs": [
    {
     "data": {
      "text/html": [
       "<style type=\"text/css\">\n",
       "#T_a23fa_row0_col0, #T_a23fa_row1_col1, #T_a23fa_row2_col2, #T_a23fa_row3_col3, #T_a23fa_row4_col4, #T_a23fa_row5_col5, #T_a23fa_row6_col6, #T_a23fa_row7_col7, #T_a23fa_row8_col8 {\n",
       "  background-color: #ebf3eb;\n",
       "  color: #000000;\n",
       "}\n",
       "#T_a23fa_row0_col1 {\n",
       "  background-color: #d4e8d4;\n",
       "  color: #000000;\n",
       "}\n",
       "#T_a23fa_row0_col2 {\n",
       "  background-color: #0d860d;\n",
       "  color: #f1f1f1;\n",
       "}\n",
       "#T_a23fa_row0_col3 {\n",
       "  background-color: #78bb78;\n",
       "  color: #f1f1f1;\n",
       "}\n",
       "#T_a23fa_row0_col4, #T_a23fa_row0_col5, #T_a23fa_row1_col4, #T_a23fa_row4_col5, #T_a23fa_row8_col7 {\n",
       "  background-color: #5bad5b;\n",
       "  color: #f1f1f1;\n",
       "}\n",
       "#T_a23fa_row0_col6 {\n",
       "  background-color: #6fb76f;\n",
       "  color: #f1f1f1;\n",
       "}\n",
       "#T_a23fa_row0_col7 {\n",
       "  background-color: #7bbc7b;\n",
       "  color: #000000;\n",
       "}\n",
       "#T_a23fa_row0_col8, #T_a23fa_row8_col1 {\n",
       "  background-color: #58ab58;\n",
       "  color: #f1f1f1;\n",
       "}\n",
       "#T_a23fa_row1_col0 {\n",
       "  background-color: #d3e7d3;\n",
       "  color: #000000;\n",
       "}\n",
       "#T_a23fa_row1_col2 {\n",
       "  background-color: #078407;\n",
       "  color: #f1f1f1;\n",
       "}\n",
       "#T_a23fa_row1_col3 {\n",
       "  background-color: #71b771;\n",
       "  color: #f1f1f1;\n",
       "}\n",
       "#T_a23fa_row1_col5, #T_a23fa_row1_col8, #T_a23fa_row7_col4, #T_a23fa_row8_col4 {\n",
       "  background-color: #54a954;\n",
       "  color: #f1f1f1;\n",
       "}\n",
       "#T_a23fa_row1_col6 {\n",
       "  background-color: #64b164;\n",
       "  color: #f1f1f1;\n",
       "}\n",
       "#T_a23fa_row1_col7 {\n",
       "  background-color: #76ba76;\n",
       "  color: #f1f1f1;\n",
       "}\n",
       "#T_a23fa_row2_col0, #T_a23fa_row2_col1, #T_a23fa_row2_col3, #T_a23fa_row2_col4, #T_a23fa_row2_col5, #T_a23fa_row2_col6, #T_a23fa_row2_col7, #T_a23fa_row2_col8, #T_a23fa_row7_col2 {\n",
       "  background-color: #008000;\n",
       "  color: #f1f1f1;\n",
       "}\n",
       "#T_a23fa_row3_col0, #T_a23fa_row7_col3 {\n",
       "  background-color: #77ba77;\n",
       "  color: #f1f1f1;\n",
       "}\n",
       "#T_a23fa_row3_col1, #T_a23fa_row6_col7 {\n",
       "  background-color: #73b873;\n",
       "  color: #f1f1f1;\n",
       "}\n",
       "#T_a23fa_row3_col2, #T_a23fa_row5_col2 {\n",
       "  background-color: #0b850b;\n",
       "  color: #f1f1f1;\n",
       "}\n",
       "#T_a23fa_row3_col4 {\n",
       "  background-color: #61b061;\n",
       "  color: #f1f1f1;\n",
       "}\n",
       "#T_a23fa_row3_col5, #T_a23fa_row4_col0 {\n",
       "  background-color: #5dae5d;\n",
       "  color: #f1f1f1;\n",
       "}\n",
       "#T_a23fa_row3_col6, #T_a23fa_row4_col3, #T_a23fa_row5_col7 {\n",
       "  background-color: #65b265;\n",
       "  color: #f1f1f1;\n",
       "}\n",
       "#T_a23fa_row3_col7 {\n",
       "  background-color: #7cbd7c;\n",
       "  color: #000000;\n",
       "}\n",
       "#T_a23fa_row3_col8 {\n",
       "  background-color: #5cad5c;\n",
       "  color: #f1f1f1;\n",
       "}\n",
       "#T_a23fa_row4_col1 {\n",
       "  background-color: #61af61;\n",
       "  color: #f1f1f1;\n",
       "}\n",
       "#T_a23fa_row4_col2 {\n",
       "  background-color: #118811;\n",
       "  color: #f1f1f1;\n",
       "}\n",
       "#T_a23fa_row4_col6, #T_a23fa_row4_col7, #T_a23fa_row7_col5 {\n",
       "  background-color: #5fae5f;\n",
       "  color: #f1f1f1;\n",
       "}\n",
       "#T_a23fa_row4_col8, #T_a23fa_row5_col1 {\n",
       "  background-color: #56aa56;\n",
       "  color: #f1f1f1;\n",
       "}\n",
       "#T_a23fa_row5_col0, #T_a23fa_row8_col6 {\n",
       "  background-color: #5aac5a;\n",
       "  color: #f1f1f1;\n",
       "}\n",
       "#T_a23fa_row5_col3, #T_a23fa_row8_col3 {\n",
       "  background-color: #5eae5e;\n",
       "  color: #f1f1f1;\n",
       "}\n",
       "#T_a23fa_row5_col4 {\n",
       "  background-color: #57ab57;\n",
       "  color: #f1f1f1;\n",
       "}\n",
       "#T_a23fa_row5_col6, #T_a23fa_row6_col4 {\n",
       "  background-color: #62b062;\n",
       "  color: #f1f1f1;\n",
       "}\n",
       "#T_a23fa_row5_col8 {\n",
       "  background-color: #78bb78;\n",
       "  color: #000000;\n",
       "}\n",
       "#T_a23fa_row6_col0 {\n",
       "  background-color: #75b975;\n",
       "  color: #f1f1f1;\n",
       "}\n",
       "#T_a23fa_row6_col1 {\n",
       "  background-color: #6db56d;\n",
       "  color: #f1f1f1;\n",
       "}\n",
       "#T_a23fa_row6_col2 {\n",
       "  background-color: #168b16;\n",
       "  color: #f1f1f1;\n",
       "}\n",
       "#T_a23fa_row6_col3 {\n",
       "  background-color: #6cb56c;\n",
       "  color: #f1f1f1;\n",
       "}\n",
       "#T_a23fa_row6_col5 {\n",
       "  background-color: #69b369;\n",
       "  color: #f1f1f1;\n",
       "}\n",
       "#T_a23fa_row6_col8 {\n",
       "  background-color: #60af60;\n",
       "  color: #f1f1f1;\n",
       "}\n",
       "#T_a23fa_row7_col0 {\n",
       "  background-color: #74b974;\n",
       "  color: #f1f1f1;\n",
       "}\n",
       "#T_a23fa_row7_col1 {\n",
       "  background-color: #72b872;\n",
       "  color: #f1f1f1;\n",
       "}\n",
       "#T_a23fa_row7_col6 {\n",
       "  background-color: #66b266;\n",
       "  color: #f1f1f1;\n",
       "}\n",
       "#T_a23fa_row7_col8 {\n",
       "  background-color: #52a852;\n",
       "  color: #f1f1f1;\n",
       "}\n",
       "#T_a23fa_row8_col0 {\n",
       "  background-color: #59ac59;\n",
       "  color: #f1f1f1;\n",
       "}\n",
       "#T_a23fa_row8_col2 {\n",
       "  background-color: #0e870e;\n",
       "  color: #f1f1f1;\n",
       "}\n",
       "#T_a23fa_row8_col5 {\n",
       "  background-color: #79bc79;\n",
       "  color: #000000;\n",
       "}\n",
       "</style>\n",
       "<table id=\"T_a23fa_\">\n",
       "  <thead>\n",
       "    <tr>\n",
       "      <th class=\"index_name level0\" >kinase_klifs</th>\n",
       "      <th class=\"col_heading level0 col0\" >EGFR</th>\n",
       "      <th class=\"col_heading level0 col1\" >ErbB2</th>\n",
       "      <th class=\"col_heading level0 col2\" >p110a</th>\n",
       "      <th class=\"col_heading level0 col3\" >KDR</th>\n",
       "      <th class=\"col_heading level0 col4\" >BRAF</th>\n",
       "      <th class=\"col_heading level0 col5\" >CDK2</th>\n",
       "      <th class=\"col_heading level0 col6\" >LCK</th>\n",
       "      <th class=\"col_heading level0 col7\" >MET</th>\n",
       "      <th class=\"col_heading level0 col8\" >p38a</th>\n",
       "    </tr>\n",
       "    <tr>\n",
       "      <th class=\"index_name level0\" >kinase_klifs</th>\n",
       "      <th class=\"blank col0\" >&nbsp;</th>\n",
       "      <th class=\"blank col1\" >&nbsp;</th>\n",
       "      <th class=\"blank col2\" >&nbsp;</th>\n",
       "      <th class=\"blank col3\" >&nbsp;</th>\n",
       "      <th class=\"blank col4\" >&nbsp;</th>\n",
       "      <th class=\"blank col5\" >&nbsp;</th>\n",
       "      <th class=\"blank col6\" >&nbsp;</th>\n",
       "      <th class=\"blank col7\" >&nbsp;</th>\n",
       "      <th class=\"blank col8\" >&nbsp;</th>\n",
       "    </tr>\n",
       "  </thead>\n",
       "  <tbody>\n",
       "    <tr>\n",
       "      <th id=\"T_a23fa_level0_row0\" class=\"row_heading level0 row0\" >EGFR</th>\n",
       "      <td id=\"T_a23fa_row0_col0\" class=\"data row0 col0\" >0.000</td>\n",
       "      <td id=\"T_a23fa_row0_col1\" class=\"data row0 col1\" >0.059</td>\n",
       "      <td id=\"T_a23fa_row0_col2\" class=\"data row0 col2\" >0.573</td>\n",
       "      <td id=\"T_a23fa_row0_col3\" class=\"data row0 col3\" >0.284</td>\n",
       "      <td id=\"T_a23fa_row0_col4\" class=\"data row0 col4\" >0.345</td>\n",
       "      <td id=\"T_a23fa_row0_col5\" class=\"data row0 col5\" >0.352</td>\n",
       "      <td id=\"T_a23fa_row0_col6\" class=\"data row0 col6\" >0.289</td>\n",
       "      <td id=\"T_a23fa_row0_col7\" class=\"data row0 col7\" >0.289</td>\n",
       "      <td id=\"T_a23fa_row0_col8\" class=\"data row0 col8\" >0.355</td>\n",
       "    </tr>\n",
       "    <tr>\n",
       "      <th id=\"T_a23fa_level0_row1\" class=\"row_heading level0 row1\" >ErbB2</th>\n",
       "      <td id=\"T_a23fa_row1_col0\" class=\"data row1 col0\" >0.059</td>\n",
       "      <td id=\"T_a23fa_row1_col1\" class=\"data row1 col1\" >0.000</td>\n",
       "      <td id=\"T_a23fa_row1_col2\" class=\"data row1 col2\" >0.586</td>\n",
       "      <td id=\"T_a23fa_row1_col3\" class=\"data row1 col3\" >0.298</td>\n",
       "      <td id=\"T_a23fa_row1_col4\" class=\"data row1 col4\" >0.345</td>\n",
       "      <td id=\"T_a23fa_row1_col5\" class=\"data row1 col5\" >0.370</td>\n",
       "      <td id=\"T_a23fa_row1_col6\" class=\"data row1 col6\" >0.315</td>\n",
       "      <td id=\"T_a23fa_row1_col7\" class=\"data row1 col7\" >0.302</td>\n",
       "      <td id=\"T_a23fa_row1_col8\" class=\"data row1 col8\" >0.365</td>\n",
       "    </tr>\n",
       "    <tr>\n",
       "      <th id=\"T_a23fa_level0_row2\" class=\"row_heading level0 row2\" >p110a</th>\n",
       "      <td id=\"T_a23fa_row2_col0\" class=\"data row2 col0\" >0.573</td>\n",
       "      <td id=\"T_a23fa_row2_col1\" class=\"data row2 col1\" >0.586</td>\n",
       "      <td id=\"T_a23fa_row2_col2\" class=\"data row2 col2\" >0.000</td>\n",
       "      <td id=\"T_a23fa_row2_col3\" class=\"data row2 col3\" >0.577</td>\n",
       "      <td id=\"T_a23fa_row2_col4\" class=\"data row2 col4\" >0.564</td>\n",
       "      <td id=\"T_a23fa_row2_col5\" class=\"data row2 col5\" >0.576</td>\n",
       "      <td id=\"T_a23fa_row2_col6\" class=\"data row2 col6\" >0.549</td>\n",
       "      <td id=\"T_a23fa_row2_col7\" class=\"data row2 col7\" >0.606</td>\n",
       "      <td id=\"T_a23fa_row2_col8\" class=\"data row2 col8\" >0.569</td>\n",
       "    </tr>\n",
       "    <tr>\n",
       "      <th id=\"T_a23fa_level0_row3\" class=\"row_heading level0 row3\" >KDR</th>\n",
       "      <td id=\"T_a23fa_row3_col0\" class=\"data row3 col0\" >0.284</td>\n",
       "      <td id=\"T_a23fa_row3_col1\" class=\"data row3 col1\" >0.298</td>\n",
       "      <td id=\"T_a23fa_row3_col2\" class=\"data row3 col2\" >0.577</td>\n",
       "      <td id=\"T_a23fa_row3_col3\" class=\"data row3 col3\" >0.000</td>\n",
       "      <td id=\"T_a23fa_row3_col4\" class=\"data row3 col4\" >0.329</td>\n",
       "      <td id=\"T_a23fa_row3_col5\" class=\"data row3 col5\" >0.347</td>\n",
       "      <td id=\"T_a23fa_row3_col6\" class=\"data row3 col6\" >0.312</td>\n",
       "      <td id=\"T_a23fa_row3_col7\" class=\"data row3 col7\" >0.286</td>\n",
       "      <td id=\"T_a23fa_row3_col8\" class=\"data row3 col8\" >0.347</td>\n",
       "    </tr>\n",
       "    <tr>\n",
       "      <th id=\"T_a23fa_level0_row4\" class=\"row_heading level0 row4\" >BRAF</th>\n",
       "      <td id=\"T_a23fa_row4_col0\" class=\"data row4 col0\" >0.345</td>\n",
       "      <td id=\"T_a23fa_row4_col1\" class=\"data row4 col1\" >0.345</td>\n",
       "      <td id=\"T_a23fa_row4_col2\" class=\"data row4 col2\" >0.564</td>\n",
       "      <td id=\"T_a23fa_row4_col3\" class=\"data row4 col3\" >0.329</td>\n",
       "      <td id=\"T_a23fa_row4_col4\" class=\"data row4 col4\" >0.000</td>\n",
       "      <td id=\"T_a23fa_row4_col5\" class=\"data row4 col5\" >0.353</td>\n",
       "      <td id=\"T_a23fa_row4_col6\" class=\"data row4 col6\" >0.327</td>\n",
       "      <td id=\"T_a23fa_row4_col7\" class=\"data row4 col7\" >0.362</td>\n",
       "      <td id=\"T_a23fa_row4_col8\" class=\"data row4 col8\" >0.362</td>\n",
       "    </tr>\n",
       "    <tr>\n",
       "      <th id=\"T_a23fa_level0_row5\" class=\"row_heading level0 row5\" >CDK2</th>\n",
       "      <td id=\"T_a23fa_row5_col0\" class=\"data row5 col0\" >0.352</td>\n",
       "      <td id=\"T_a23fa_row5_col1\" class=\"data row5 col1\" >0.370</td>\n",
       "      <td id=\"T_a23fa_row5_col2\" class=\"data row5 col2\" >0.576</td>\n",
       "      <td id=\"T_a23fa_row5_col3\" class=\"data row5 col3\" >0.347</td>\n",
       "      <td id=\"T_a23fa_row5_col4\" class=\"data row5 col4\" >0.353</td>\n",
       "      <td id=\"T_a23fa_row5_col5\" class=\"data row5 col5\" >0.000</td>\n",
       "      <td id=\"T_a23fa_row5_col6\" class=\"data row5 col6\" >0.319</td>\n",
       "      <td id=\"T_a23fa_row5_col7\" class=\"data row5 col7\" >0.344</td>\n",
       "      <td id=\"T_a23fa_row5_col8\" class=\"data row5 col8\" >0.277</td>\n",
       "    </tr>\n",
       "    <tr>\n",
       "      <th id=\"T_a23fa_level0_row6\" class=\"row_heading level0 row6\" >LCK</th>\n",
       "      <td id=\"T_a23fa_row6_col0\" class=\"data row6 col0\" >0.289</td>\n",
       "      <td id=\"T_a23fa_row6_col1\" class=\"data row6 col1\" >0.315</td>\n",
       "      <td id=\"T_a23fa_row6_col2\" class=\"data row6 col2\" >0.549</td>\n",
       "      <td id=\"T_a23fa_row6_col3\" class=\"data row6 col3\" >0.312</td>\n",
       "      <td id=\"T_a23fa_row6_col4\" class=\"data row6 col4\" >0.327</td>\n",
       "      <td id=\"T_a23fa_row6_col5\" class=\"data row6 col5\" >0.319</td>\n",
       "      <td id=\"T_a23fa_row6_col6\" class=\"data row6 col6\" >0.000</td>\n",
       "      <td id=\"T_a23fa_row6_col7\" class=\"data row6 col7\" >0.309</td>\n",
       "      <td id=\"T_a23fa_row6_col8\" class=\"data row6 col8\" >0.337</td>\n",
       "    </tr>\n",
       "    <tr>\n",
       "      <th id=\"T_a23fa_level0_row7\" class=\"row_heading level0 row7\" >MET</th>\n",
       "      <td id=\"T_a23fa_row7_col0\" class=\"data row7 col0\" >0.289</td>\n",
       "      <td id=\"T_a23fa_row7_col1\" class=\"data row7 col1\" >0.302</td>\n",
       "      <td id=\"T_a23fa_row7_col2\" class=\"data row7 col2\" >0.606</td>\n",
       "      <td id=\"T_a23fa_row7_col3\" class=\"data row7 col3\" >0.286</td>\n",
       "      <td id=\"T_a23fa_row7_col4\" class=\"data row7 col4\" >0.362</td>\n",
       "      <td id=\"T_a23fa_row7_col5\" class=\"data row7 col5\" >0.344</td>\n",
       "      <td id=\"T_a23fa_row7_col6\" class=\"data row7 col6\" >0.309</td>\n",
       "      <td id=\"T_a23fa_row7_col7\" class=\"data row7 col7\" >0.000</td>\n",
       "      <td id=\"T_a23fa_row7_col8\" class=\"data row7 col8\" >0.371</td>\n",
       "    </tr>\n",
       "    <tr>\n",
       "      <th id=\"T_a23fa_level0_row8\" class=\"row_heading level0 row8\" >p38a</th>\n",
       "      <td id=\"T_a23fa_row8_col0\" class=\"data row8 col0\" >0.355</td>\n",
       "      <td id=\"T_a23fa_row8_col1\" class=\"data row8 col1\" >0.365</td>\n",
       "      <td id=\"T_a23fa_row8_col2\" class=\"data row8 col2\" >0.569</td>\n",
       "      <td id=\"T_a23fa_row8_col3\" class=\"data row8 col3\" >0.347</td>\n",
       "      <td id=\"T_a23fa_row8_col4\" class=\"data row8 col4\" >0.362</td>\n",
       "      <td id=\"T_a23fa_row8_col5\" class=\"data row8 col5\" >0.277</td>\n",
       "      <td id=\"T_a23fa_row8_col6\" class=\"data row8 col6\" >0.337</td>\n",
       "      <td id=\"T_a23fa_row8_col7\" class=\"data row8 col7\" >0.371</td>\n",
       "      <td id=\"T_a23fa_row8_col8\" class=\"data row8 col8\" >0.000</td>\n",
       "    </tr>\n",
       "  </tbody>\n",
       "</table>\n"
      ],
      "text/plain": [
       "<pandas.io.formats.style.Styler at 0x7fb41520fbb0>"
      ]
     },
     "execution_count": 24,
     "metadata": {},
     "output_type": "execute_result"
    }
   ],
   "source": [
    "kinase_distance_matrix_df.style.\\\n",
    "    background_gradient(cmap=cm).\\\n",
    "    format(\"{:.3f}\")"
   ]
  },
  {
   "cell_type": "markdown",
   "metadata": {},
   "source": [
    "### Save kinase distance matrix"
   ]
  },
  {
   "cell_type": "code",
   "execution_count": 25,
   "metadata": {},
   "outputs": [],
   "source": [
    "f_name = f\"kinase_distance_{similarity_measure}_matrix_sequence.csv\"\n",
    "kinase_distance_matrix_df.to_csv(DATA / f_name)"
   ]
  },
  {
   "cell_type": "markdown",
   "metadata": {},
   "source": [
    "## Discussion\n",
    "\n",
    "In this talktorial, we investigate how sequences can be used to measure similarity between kinases. The focus is set on the pocket sequence, which is retrieved from KLIFS. Sequence similarity can be assessed using two scores: 1. the identity, which treats all amino acids uniformly, and 2. the substitution, which takes into account the rate of change of residues over evolutionary time.\n",
    "\n",
    "The kinase similarity matrix above will be reloaded in **Talktorial T028**, where we compare kinase similarities from different perspectives, including the pocket sequence perspective we have talked about in this talktorial."
   ]
  },
  {
   "cell_type": "markdown",
   "metadata": {},
   "source": [
    "## Quiz\n",
    "\n",
    "1. Should the full kinase sequence be used instead of the pocket sequence?\n",
    "2. How does the similarity using identity behave with respect to mutations?\n",
    "3. How does similarity using identity compare to similarity using substitution?"
   ]
  }
 ],
 "metadata": {
  "kernelspec": {
   "display_name": "Python 3 (ipykernel)",
   "language": "python",
   "name": "python3"
  },
  "language_info": {
   "codemirror_mode": {
    "name": "ipython",
    "version": 3
   },
   "file_extension": ".py",
   "mimetype": "text/x-python",
   "name": "python",
   "nbconvert_exporter": "python",
   "pygments_lexer": "ipython3",
   "version": "3.8.10"
  },
  "toc-autonumbering": true,
  "widgets": {
   "application/vnd.jupyter.widget-state+json": {
    "state": {},
    "version_major": 2,
    "version_minor": 0
   }
  }
 },
 "nbformat": 4,
 "nbformat_minor": 4
}
