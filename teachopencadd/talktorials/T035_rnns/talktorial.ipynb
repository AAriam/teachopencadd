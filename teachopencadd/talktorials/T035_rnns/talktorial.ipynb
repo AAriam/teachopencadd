{
 "cells": [
  {
   "cell_type": "markdown",
   "metadata": {},
   "source": [
    "<div class=\"alert alert-block alert-info\">\n",
    "\n",
    "<b>Thank you for contributing to TeachOpenCADD!</b>\n",
    "\n",
    "</div>"
   ]
  },
  {
   "cell_type": "markdown",
   "metadata": {},
   "source": [
    "<div class=\"alert alert-block alert-info\">\n",
    "\n",
    "<b>Set up your PR</b>: Please check out our <a href=\"https://github.com/volkamerlab/teachopencadd/issues/41\">issue</a> on how to set up a PR for new talktorials, including standard checks and TODOs.\n",
    "\n",
    "</div>"
   ]
  },
  {
   "cell_type": "markdown",
   "metadata": {},
   "source": [
    "# T034 · SMILES based property prediction\n",
    "\n",
    "**Note:** This talktorial is a part of TeachOpenCADD, a platform that aims to teach domain-specific skills and to provide pipeline templates as starting points for research projects.\n",
    "\n",
    "Authors:\n",
    "\n",
    "- Azat Tagirdzhanov, 2022, ..., Saarland University"
   ]
  },
  {
   "cell_type": "markdown",
   "metadata": {},
   "source": [
    "**TODO: link**\n",
    "*The examples used in this talktorial template are taken from [__Talktorial T034__](https://github.com/volkamerlab/teachopencadd/blob/master/teachopencadd/talktorials/T034_query_chembl/talktorial.ipynb).*"
   ]
  },
  {
   "cell_type": "markdown",
   "metadata": {},
   "source": [
    "<div class=\"alert alert-block alert-info\">\n",
    "\n",
    "<b>Cross-referencing talktorials</b>: If you want to cross-reference to existing talktorials in your notebook, please use the following formatting: <b>Talktorial T000</b>.\n",
    "\n",
    "</div>"
   ]
  },
  {
   "cell_type": "markdown",
   "metadata": {},
   "source": [
    "## Aim of this talktorial\n",
    "\n",
    "Molecular representation by a SMILES string paved the way for applying natural language processing techniques to a broad range of molecule related tasks. In this talktorial we will dive deeper into one of these techinques: recurrent neural networks (RNNs). First, we will describe different RNN architectures and then apply them to a regression task using the QM9 dataset."
   ]
  },
  {
   "cell_type": "markdown",
   "metadata": {},
   "source": [
    "### Contents in *Theory*\n",
    "\n",
    "_Add Table of Contents (TOC) for Theory section._\n",
    "\n",
    "* ChEMBL database\n",
    "* Compound activity measures"
   ]
  },
  {
   "cell_type": "markdown",
   "metadata": {},
   "source": [
    "<div class=\"alert alert-block alert-info\">\n",
    "\n",
    "<b>Sync TOC with section titles</b>: These points should refer to the headlines of your <i>Theory</i> section.\n",
    "\n",
    "</div>"
   ]
  },
  {
   "cell_type": "markdown",
   "metadata": {},
   "source": [
    "### Contents in *Practical*\n",
    "\n",
    "_Add Table of Contents (TOC) for Practical section._\n",
    "\n",
    "* Connect to ChEMBL database\n",
    "* Load and draw molecules"
   ]
  },
  {
   "cell_type": "markdown",
   "metadata": {},
   "source": [
    "<div class=\"alert alert-block alert-info\">\n",
    "\n",
    "<b>Sync TOC with section titles</b>: These points should refer to the headlines of your <i>Practical</i> section.\n",
    "\n",
    "</div>"
   ]
  },
  {
   "cell_type": "markdown",
   "metadata": {},
   "source": [
    "### References\n",
    "\n",
    "* Paper \n",
    "* Tutorial links\n",
    "* Other useful resources\n",
    "\n",
    "*We suggest the following citation style:*\n",
    "* Keyword describing resource: <i>Journal</i> (year), <b>volume</b>, pages (link to resource) \n",
    "\n",
    "*Example:*\n",
    "* ChEMBL web services: [<i>Nucleic Acids Res.</i> (2015), <b>43</b>, 612-620](https://academic.oup.com/nar/article/43/W1/W612/2467881) "
   ]
  },
  {
   "cell_type": "markdown",
   "metadata": {},
   "source": [
    "## Theory"
   ]
  },
  {
   "cell_type": "markdown",
   "metadata": {},
   "source": [
    "<div class=\"alert alert-block alert-info\">\n",
    "\n",
    "<b>Sync section titles with TOC</b>: Please make sure that all section titles in the <i>Theory</i> section are synced with the bullet point list provided in the <i>Aim of this talktorial</i> > <i>Contents in Theory</i> section.\n",
    "\n",
    "</div>"
   ]
  },
  {
   "cell_type": "markdown",
   "metadata": {},
   "source": [
    "<div class=\"alert alert-block alert-info\">\n",
    "    \n",
    "<b>Beware of section levels</b>: Please check if you are using the correct subsection levels. The section <i>Theory</i> is written in Markdown as <code>## Theory</code>, so every subsection within <i>Theory</i> is <code>###</code> or lower.\n",
    "\n",
    "</div>"
   ]
  },
  {
   "cell_type": "markdown",
   "metadata": {},
   "source": [
    "### Molecules as text"
   ]
  },
  {
   "cell_type": "markdown",
   "metadata": {},
   "source": [
    "Molecular representation by a SMILES string paved the way for applying natural language processing techniques to a broad range of molecule related tasks. In this talktorial we will dive deeper into one of these techinques: recurrent neural networks (RNNs).\n",
    "\n",
    "In this tutorial we will rely on a string representation of molecules. Some recap from [__Talktorial T021__](https://github.com/volkamerlab/teachopencadd/blob/master/teachopencadd/talktorials/T021_one_hot_encoding/talktorial.ipynb)\n"
   ]
  },
  {
   "cell_type": "markdown",
   "metadata": {},
   "source": [
    "### Recurrent Neural Networks"
   ]
  },
  {
   "cell_type": "markdown",
   "metadata": {},
   "source": [
    "A Recurrent Neural Network (RNN) is a type of neural networks that is designed to process sequential data. RNNs have been widely used for \n",
    "\n",
    "\n",
    "\n",
    "Unlike feedforward networks, RNNs have a special type of connection \n",
    "\n",
    "Since molecules can be represented as SMILES strings, many models emerged that rely on this representation for a whole lot of different tasks including property prediction, generation, and more.\n",
    "\n",
    "\n",
    "A paragraph introducing RNNs"
   ]
  },
  {
   "cell_type": "markdown",
   "metadata": {},
   "source": [
    "#### Simple RNN: Elman network"
   ]
  },
  {
   "cell_type": "markdown",
   "metadata": {},
   "source": [
    "$$\\begin{aligned} h_{t} &= \\tanh( W_{h} x_{t} + U_{h}h_{t-1} + b_{h}) \\\\\n",
    "y_{t} &= \\tanh(W_yh_t + b_y) \\end{aligned}$$"
   ]
  },
  {
   "cell_type": "markdown",
   "metadata": {},
   "source": [
    "#### Gate recurrent unit"
   ]
  },
  {
   "cell_type": "markdown",
   "metadata": {},
   "source": [
    "$$\n",
    "\\begin{align}\n",
    "r_t &= \\sigma(W_{r} x_t + U_{r} h_{t-1} + b_r) \\\\\n",
    "z_t &= \\sigma(W_{z} x_t + U_{z} h_{t-1} + b_z) \\\\\n",
    "\\hat{h}_t &= \\tanh(W_{h} x_t + U_{h} (r_t \\odot h_{t-1}) + b_h) \\\\\n",
    "h_t &=   z_t \\odot h_{t-1} + (1-z_t) \\odot  \\hat{h}_t \n",
    "\\end{align}\n",
    "$$\n",
    "\n",
    "where $\\odot$ is the [element-wise matrix product](https://en.wikipedia.org/wiki/Hadamard_product_(matrices))."
   ]
  },
  {
   "cell_type": "code",
   "execution_count": null,
   "metadata": {},
   "outputs": [],
   "source": []
  },
  {
   "cell_type": "code",
   "execution_count": null,
   "metadata": {},
   "outputs": [],
   "source": []
  },
  {
   "cell_type": "code",
   "execution_count": null,
   "metadata": {},
   "outputs": [],
   "source": []
  },
  {
   "cell_type": "markdown",
   "metadata": {},
   "source": [
    "### ChEMBL database"
   ]
  },
  {
   "cell_type": "markdown",
   "metadata": {},
   "source": [
    "Lorem ipsum dolor sit amet, consetetur sadipscing elitr, sed diam nonumy eirmod tempor invidunt ut labore et dolore magna aliquyam erat, sed diam voluptua. At vero eos et accusam et justo duo dolores et ea rebum. Stet clita kasd gubergren, no sea takimata sanctus est Lorem ipsum dolor sit amet. Lorem ipsum dolor sit amet, consetetur sadipscing elitr, sed diam nonumy eirmod tempor invidunt ut labore et dolore magna aliquyam erat, sed diam voluptua. At vero eos et accusam et justo duo dolores et ea rebum. Stet clita kasd gubergren, no sea takimata sanctus est Lorem ipsum dolor sit amet."
   ]
  },
  {
   "cell_type": "markdown",
   "metadata": {},
   "source": [
    "![ChEMBL web service schema](images/chembl_webservices_schema_diagram.jpg)\n",
    "\n",
    "*Figure 1:* \n",
    "Describe figure and add reference.\n",
    "Figure and description taken from: [<i>Nucleic Acids Res.</i> (2015), <b>43</b>, 612-620](https://academic.oup.com/nar/article/43/W1/W612/2467881)."
   ]
  },
  {
   "cell_type": "markdown",
   "metadata": {},
   "source": [
    "<div class=\"alert alert-block alert-info\">\n",
    "    \n",
    "<b>Figures</b>: Place images in the <code>images/</code> folder and include them using Markdown <code>![Figure title](images/some_figure.jpg)</code>. Add a figure caption in the format shown in the example.\n",
    "\n",
    "</div>"
   ]
  },
  {
   "cell_type": "markdown",
   "metadata": {},
   "source": [
    "### Compound activity measures"
   ]
  },
  {
   "cell_type": "markdown",
   "metadata": {},
   "source": [
    "Lorem ipsum dolor sit amet, consetetur sadipscing elitr, sed diam nonumy eirmod tempor invidunt ut labore et dolore magna aliquyam erat, sed diam voluptua. At vero eos et accusam et justo duo dolores et ea rebum. Stet clita kasd gubergren, no sea takimata sanctus est Lorem ipsum dolor sit amet. Lorem ipsum dolor sit amet, consetetur sadipscing elitr, sed diam nonumy eirmod tempor invidunt ut labore et dolore magna aliquyam erat, sed diam voluptua. At vero eos et accusam et justo duo dolores et ea rebum. Stet clita kasd gubergren, no sea takimata sanctus est Lorem ipsum dolor sit amet."
   ]
  },
  {
   "cell_type": "markdown",
   "metadata": {},
   "source": [
    "$pIC_{50} = -log_{10}(IC_{50}*10^{-9})= 9-log_{10}(IC_{50}) $"
   ]
  },
  {
   "cell_type": "markdown",
   "metadata": {},
   "source": [
    "<div class=\"alert alert-block alert-info\">\n",
    "    \n",
    "<b>Formulas</b>: Please use LaTeX to format formulas.\n",
    "</div>"
   ]
  },
  {
   "cell_type": "markdown",
   "metadata": {},
   "source": [
    "If you place links, please link descriptive words.\n",
    "\n",
    "> __Yes__: [ChEMBL](https://www.ebi.ac.uk/chembl/) is a manually curated database of bioactive molecules\n",
    "\n",
    "> __No__: ChEMBL ([here](https://www.ebi.ac.uk/chembl/)) is a manually curated database of bioactive molecules"
   ]
  },
  {
   "cell_type": "markdown",
   "metadata": {},
   "source": [
    "<div class=\"alert alert-block alert-info\">\n",
    "    \n",
    "<b>Links</b>: If you place links, please link descriptive words.\n",
    "\n",
    "</div>"
   ]
  },
  {
   "cell_type": "markdown",
   "metadata": {},
   "source": [
    "## Practical"
   ]
  },
  {
   "cell_type": "markdown",
   "metadata": {},
   "source": [
    "Add short summary of what will be done in this practical section."
   ]
  },
  {
   "cell_type": "markdown",
   "metadata": {},
   "source": [
    "<div class=\"alert alert-block alert-info\">\n",
    "\n",
    "<b>Sync section titles with TOC</b>: Please make sure that all section titles in the <i>Practical</i> section are synced with the bullet point list provided in the <i>Aim of this talktorial</i> > <i>Contents in Practical</i> section.\n",
    "\n",
    "</div>"
   ]
  },
  {
   "cell_type": "markdown",
   "metadata": {},
   "source": [
    "<div class=\"alert alert-block alert-info\">\n",
    "    \n",
    "<b>Beware of section levels</b>: Please check if you are using the correct subsection levels. The section <i>Practical</i> is written in Markdown as <code>## Practical</code>, so every subsection within <i>Practical</i> is <code>###</code> or lower.\n",
    "\n",
    "</div>"
   ]
  },
  {
   "cell_type": "code",
   "execution_count": 1,
   "metadata": {},
   "outputs": [],
   "source": [
    "from pathlib import Path\n",
    "import os\n",
    "import re \n",
    "from collections import Counter\n",
    "import numpy as np\n",
    "import pandas as pd\n",
    "import torch \n",
    "import torch.nn as nn\n",
    "from torch.utils.data import TensorDataset, DataLoader\n",
    "import matplotlib.pyplot as plt"
   ]
  },
  {
   "cell_type": "code",
   "execution_count": 2,
   "metadata": {},
   "outputs": [
    {
     "data": {
      "text/plain": [
       "<torch._C.Generator at 0x10f326170>"
      ]
     },
     "execution_count": 2,
     "metadata": {},
     "output_type": "execute_result"
    }
   ],
   "source": [
    "device = torch.device('cuda' if torch.cuda.is_available() else 'cpu')\n",
    "torch.manual_seed(42)"
   ]
  },
  {
   "cell_type": "markdown",
   "metadata": {},
   "source": [
    "<div class=\"alert alert-block alert-info\">\n",
    "\n",
    "<b>Imports</b>: Please add all your imports on top of this section, ordered by standard library / 3rd party packages / our own (<code>teachopencadd.*</code>). \n",
    "Read more on imports and import order in the <a href=\"https://www.python.org/dev/peps/pep-0008/#imports\">\"PEP 8 -- Style Guide for Python Code\"</a>.\n",
    "    \n",
    "</div>"
   ]
  },
  {
   "cell_type": "code",
   "execution_count": 3,
   "metadata": {},
   "outputs": [],
   "source": [
    "HERE = Path(_dh[-1])\n",
    "DATA = HERE / \"data\""
   ]
  },
  {
   "cell_type": "markdown",
   "metadata": {},
   "source": [
    "<div class=\"alert alert-block alert-info\">\n",
    "\n",
    "<b>Relative paths</b>: Please define all paths relative to this talktorial's path by using the global variable <code>HERE</code>.\n",
    "If your talktorial has input/output data, please define the global <code>DATA</code>, which points to this talktorial's data folder (check out the default folder structure of each talktorial).\n",
    "    \n",
    "</div>"
   ]
  },
  {
   "cell_type": "markdown",
   "metadata": {},
   "source": [
    "### Dataset"
   ]
  },
  {
   "cell_type": "markdown",
   "metadata": {},
   "source": [
    "_Explain what you will do and why here in the Markdown cell. This includes everything that has to do with the talktorial's storytelling._"
   ]
  },
  {
   "cell_type": "code",
   "execution_count": 4,
   "metadata": {},
   "outputs": [],
   "source": [
    "df = pd.read_csv(os.path.join(DATA, 'qm9.csv.gz'), compression='gzip')"
   ]
  },
  {
   "cell_type": "code",
   "execution_count": 5,
   "metadata": {},
   "outputs": [
    {
     "data": {
      "text/html": [
       "<div>\n",
       "<style scoped>\n",
       "    .dataframe tbody tr th:only-of-type {\n",
       "        vertical-align: middle;\n",
       "    }\n",
       "\n",
       "    .dataframe tbody tr th {\n",
       "        vertical-align: top;\n",
       "    }\n",
       "\n",
       "    .dataframe thead th {\n",
       "        text-align: right;\n",
       "    }\n",
       "</style>\n",
       "<table border=\"1\" class=\"dataframe\">\n",
       "  <thead>\n",
       "    <tr style=\"text-align: right;\">\n",
       "      <th></th>\n",
       "      <th>mol_id</th>\n",
       "      <th>A</th>\n",
       "      <th>B</th>\n",
       "      <th>C</th>\n",
       "      <th>mu</th>\n",
       "      <th>alpha</th>\n",
       "      <th>homo</th>\n",
       "      <th>lumo</th>\n",
       "      <th>gap</th>\n",
       "      <th>r2</th>\n",
       "      <th>...</th>\n",
       "      <th>u0</th>\n",
       "      <th>u298</th>\n",
       "      <th>h298</th>\n",
       "      <th>g298</th>\n",
       "      <th>cv</th>\n",
       "      <th>u0_atom</th>\n",
       "      <th>u298_atom</th>\n",
       "      <th>h298_atom</th>\n",
       "      <th>g298_atom</th>\n",
       "      <th>smiles</th>\n",
       "    </tr>\n",
       "  </thead>\n",
       "  <tbody>\n",
       "    <tr>\n",
       "      <th>65977</th>\n",
       "      <td>gdb_66703</td>\n",
       "      <td>3.20045</td>\n",
       "      <td>1.74370</td>\n",
       "      <td>1.44173</td>\n",
       "      <td>2.4186</td>\n",
       "      <td>64.08</td>\n",
       "      <td>-0.2371</td>\n",
       "      <td>-0.0296</td>\n",
       "      <td>0.2075</td>\n",
       "      <td>882.3655</td>\n",
       "      <td>...</td>\n",
       "      <td>-436.625775</td>\n",
       "      <td>-436.619353</td>\n",
       "      <td>-436.618409</td>\n",
       "      <td>-436.656379</td>\n",
       "      <td>26.101</td>\n",
       "      <td>-1462.572249</td>\n",
       "      <td>-1470.985890</td>\n",
       "      <td>-1478.689818</td>\n",
       "      <td>-1365.384910</td>\n",
       "      <td>O=C1[C@H]2[C@@H]3[N@H+]2[C@@H]2[C@H]1[C@]32O</td>\n",
       "    </tr>\n",
       "    <tr>\n",
       "      <th>25969</th>\n",
       "      <td>gdb_26191</td>\n",
       "      <td>3.77339</td>\n",
       "      <td>1.00579</td>\n",
       "      <td>0.81923</td>\n",
       "      <td>0.7062</td>\n",
       "      <td>80.07</td>\n",
       "      <td>-0.1738</td>\n",
       "      <td>0.0423</td>\n",
       "      <td>0.2161</td>\n",
       "      <td>1397.2819</td>\n",
       "      <td>...</td>\n",
       "      <td>-419.238513</td>\n",
       "      <td>-419.229068</td>\n",
       "      <td>-419.228123</td>\n",
       "      <td>-419.272736</td>\n",
       "      <td>35.677</td>\n",
       "      <td>-1834.114681</td>\n",
       "      <td>-1845.074125</td>\n",
       "      <td>-1855.742406</td>\n",
       "      <td>-1705.718809</td>\n",
       "      <td>C[C@@H](O)c1cc(N)c[nH]1</td>\n",
       "    </tr>\n",
       "    <tr>\n",
       "      <th>50853</th>\n",
       "      <td>gdb_51408</td>\n",
       "      <td>5.97141</td>\n",
       "      <td>0.93938</td>\n",
       "      <td>0.91642</td>\n",
       "      <td>2.2882</td>\n",
       "      <td>64.41</td>\n",
       "      <td>-0.2709</td>\n",
       "      <td>-0.0278</td>\n",
       "      <td>0.2431</td>\n",
       "      <td>1213.2519</td>\n",
       "      <td>...</td>\n",
       "      <td>-473.769065</td>\n",
       "      <td>-473.761515</td>\n",
       "      <td>-473.760570</td>\n",
       "      <td>-473.801828</td>\n",
       "      <td>27.241</td>\n",
       "      <td>-1415.812161</td>\n",
       "      <td>-1423.517344</td>\n",
       "      <td>-1431.220645</td>\n",
       "      <td>-1319.723591</td>\n",
       "      <td>O=CO[C@@H]1[C@@H]2N[C@H]1C2=O</td>\n",
       "    </tr>\n",
       "    <tr>\n",
       "      <th>60785</th>\n",
       "      <td>gdb_61444</td>\n",
       "      <td>3.22067</td>\n",
       "      <td>0.92106</td>\n",
       "      <td>0.82622</td>\n",
       "      <td>1.4271</td>\n",
       "      <td>71.92</td>\n",
       "      <td>-0.2493</td>\n",
       "      <td>-0.0187</td>\n",
       "      <td>0.2306</td>\n",
       "      <td>1448.5037</td>\n",
       "      <td>...</td>\n",
       "      <td>-460.159223</td>\n",
       "      <td>-460.149407</td>\n",
       "      <td>-460.148463</td>\n",
       "      <td>-460.195052</td>\n",
       "      <td>34.990</td>\n",
       "      <td>-1808.558749</td>\n",
       "      <td>-1819.285388</td>\n",
       "      <td>-1829.954296</td>\n",
       "      <td>-1681.274824</td>\n",
       "      <td>CC(=O)C[C@@H](O)[C@H]1CO1</td>\n",
       "    </tr>\n",
       "    <tr>\n",
       "      <th>89539</th>\n",
       "      <td>gdb_90638</td>\n",
       "      <td>3.73721</td>\n",
       "      <td>1.08935</td>\n",
       "      <td>1.01314</td>\n",
       "      <td>3.2559</td>\n",
       "      <td>78.64</td>\n",
       "      <td>-0.2372</td>\n",
       "      <td>0.0214</td>\n",
       "      <td>0.2585</td>\n",
       "      <td>1226.4068</td>\n",
       "      <td>...</td>\n",
       "      <td>-398.096148</td>\n",
       "      <td>-398.087504</td>\n",
       "      <td>-398.086560</td>\n",
       "      <td>-398.129062</td>\n",
       "      <td>33.007</td>\n",
       "      <td>-1732.851043</td>\n",
       "      <td>-1743.424570</td>\n",
       "      <td>-1753.500482</td>\n",
       "      <td>-1610.267160</td>\n",
       "      <td>C[C@H]1N[C@H]2[C@@H]1[C@]2(N)C#N</td>\n",
       "    </tr>\n",
       "  </tbody>\n",
       "</table>\n",
       "<p>5 rows × 21 columns</p>\n",
       "</div>"
      ],
      "text/plain": [
       "          mol_id        A        B        C      mu  alpha    homo    lumo  \\\n",
       "65977  gdb_66703  3.20045  1.74370  1.44173  2.4186  64.08 -0.2371 -0.0296   \n",
       "25969  gdb_26191  3.77339  1.00579  0.81923  0.7062  80.07 -0.1738  0.0423   \n",
       "50853  gdb_51408  5.97141  0.93938  0.91642  2.2882  64.41 -0.2709 -0.0278   \n",
       "60785  gdb_61444  3.22067  0.92106  0.82622  1.4271  71.92 -0.2493 -0.0187   \n",
       "89539  gdb_90638  3.73721  1.08935  1.01314  3.2559  78.64 -0.2372  0.0214   \n",
       "\n",
       "          gap         r2  ...          u0        u298        h298        g298  \\\n",
       "65977  0.2075   882.3655  ... -436.625775 -436.619353 -436.618409 -436.656379   \n",
       "25969  0.2161  1397.2819  ... -419.238513 -419.229068 -419.228123 -419.272736   \n",
       "50853  0.2431  1213.2519  ... -473.769065 -473.761515 -473.760570 -473.801828   \n",
       "60785  0.2306  1448.5037  ... -460.159223 -460.149407 -460.148463 -460.195052   \n",
       "89539  0.2585  1226.4068  ... -398.096148 -398.087504 -398.086560 -398.129062   \n",
       "\n",
       "           cv      u0_atom    u298_atom    h298_atom    g298_atom  \\\n",
       "65977  26.101 -1462.572249 -1470.985890 -1478.689818 -1365.384910   \n",
       "25969  35.677 -1834.114681 -1845.074125 -1855.742406 -1705.718809   \n",
       "50853  27.241 -1415.812161 -1423.517344 -1431.220645 -1319.723591   \n",
       "60785  34.990 -1808.558749 -1819.285388 -1829.954296 -1681.274824   \n",
       "89539  33.007 -1732.851043 -1743.424570 -1753.500482 -1610.267160   \n",
       "\n",
       "                                             smiles  \n",
       "65977  O=C1[C@H]2[C@@H]3[N@H+]2[C@@H]2[C@H]1[C@]32O  \n",
       "25969                       C[C@@H](O)c1cc(N)c[nH]1  \n",
       "50853                 O=CO[C@@H]1[C@@H]2N[C@H]1C2=O  \n",
       "60785                     CC(=O)C[C@@H](O)[C@H]1CO1  \n",
       "89539              C[C@H]1N[C@H]2[C@@H]1[C@]2(N)C#N  \n",
       "\n",
       "[5 rows x 21 columns]"
      ]
     },
     "execution_count": 5,
     "metadata": {},
     "output_type": "execute_result"
    }
   ],
   "source": [
    "sample_size = 30000\n",
    "\n",
    "df = df.sample(n=sample_size, axis=0, random_state=0)\n",
    "\n",
    "df.head()"
   ]
  },
  {
   "cell_type": "code",
   "execution_count": null,
   "metadata": {},
   "outputs": [],
   "source": []
  },
  {
   "cell_type": "code",
   "execution_count": null,
   "metadata": {},
   "outputs": [],
   "source": []
  },
  {
   "cell_type": "markdown",
   "metadata": {},
   "source": [
    "In this tutorial we will be focusing on predicting the dipole moment `mu`. First, let's have a look on the data."
   ]
  },
  {
   "cell_type": "code",
   "execution_count": 6,
   "metadata": {},
   "outputs": [
    {
     "data": {
      "image/png": "[encoded data removed]",
      "text/plain": [
       "<Figure size 600x200 with 2 Axes>"
      ]
     },
     "metadata": {},
     "output_type": "display_data"
    }
   ],
   "source": [
    "fig, axarr = plt.subplots(1,2,figsize=(6,2))\n",
    "\n",
    "_ = df['mu'].hist(ax=axarr[0], density=True)\n",
    "_ = axarr[0].set_xlabel('mu')\n",
    "\n",
    "_ = df['mu'].plot.box(ax=axarr[1])"
   ]
  },
  {
   "cell_type": "markdown",
   "metadata": {},
   "source": [
    "#### Tokenization"
   ]
  },
  {
   "cell_type": "code",
   "execution_count": 7,
   "metadata": {},
   "outputs": [],
   "source": [
    "# This tokenizer is adapted from https://github.com/deepchem/deepchem/blob/master/deepchem/feat/smiles_tokenizer.py\n",
    "class BasicSmilesTokenizer(object):\n",
    "    def __init__(self):\n",
    "        self.regex_pattern = r\"\"\"(\\[[^\\]]+]|Br?|Cl?|N|O|S|P|F|I|b|c|n|o|s|p|\\(|\\)|\\.|=|#|-|\\+|\\\\|\\/|:|~|@|\\?|>>?|\\*|\\$|\\%[0-9]{2}|[0-9])\"\"\"\n",
    "        self.regex = re.compile(self.regex_pattern)        \n",
    "    \n",
    "    def tokenize(self, smiles):\n",
    "        tokens = [token for token in self.regex.findall(smiles)]\n",
    "        return tokens"
   ]
  },
  {
   "cell_type": "code",
   "execution_count": 8,
   "metadata": {},
   "outputs": [
    {
     "name": "stdout",
     "output_type": "stream",
     "text": [
      "C C O c 1 c c c 2 n c ( S ( N ) ( = O ) = O ) s c 2 c 1\n"
     ]
    }
   ],
   "source": [
    "tokenizer = BasicSmilesTokenizer()\n",
    "print(' '.join(tokenizer.tokenize('CCOc1ccc2nc(S(N)(=O)=O)sc2c1')))"
   ]
  },
  {
   "cell_type": "code",
   "execution_count": 9,
   "metadata": {},
   "outputs": [
    {
     "data": {
      "text/plain": [
       "[('C', 117638),\n",
       " ('1', 57842),\n",
       " ('O', 39948),\n",
       " ('2', 29220),\n",
       " ('(', 26353),\n",
       " (')', 26353),\n",
       " ('[C@H]', 26077),\n",
       " ('=', 18201),\n",
       " ('[C@@H]', 17406),\n",
       " ('c', 16414),\n",
       " ('N', 16247),\n",
       " ('#', 8427),\n",
       " ('3', 7692),\n",
       " ('n', 6625),\n",
       " ('[C@]', 5657),\n",
       " ('[C@@]', 5255),\n",
       " ('[NH-]', 2026),\n",
       " ('o', 1889),\n",
       " ('[nH]', 1758),\n",
       " ('[N@H+]', 1750)]"
      ]
     },
     "execution_count": 9,
     "metadata": {},
     "output_type": "execute_result"
    }
   ],
   "source": [
    "tokenized_smiles = [tokenizer.tokenize(s) for s in df['smiles']]\n",
    "tokens = Counter(c for s in tokenized_smiles for c in s)\n",
    "\n",
    "tokens.most_common(20)"
   ]
  },
  {
   "cell_type": "code",
   "execution_count": 10,
   "metadata": {},
   "outputs": [],
   "source": [
    "seq_len = max([len(toks) for toks in tokenized_smiles])\n",
    "vocab_size = 20\n",
    "\n",
    "vocab   = [tok for tok,_ in tokens.most_common(vocab_size)] \n",
    "token_to_index = {t:i for i,t in enumerate(vocab)}"
   ]
  },
  {
   "cell_type": "markdown",
   "metadata": {},
   "source": [
    "#### One hot encoding"
   ]
  },
  {
   "cell_type": "code",
   "execution_count": 11,
   "metadata": {},
   "outputs": [
    {
     "data": {
      "text/plain": [
       "(30000, 25, 20)"
      ]
     },
     "execution_count": 11,
     "metadata": {},
     "output_type": "execute_result"
    }
   ],
   "source": [
    "X = np.zeros((len(tokenized_smiles), seq_len, vocab_size))\n",
    "for i, tokens in enumerate(tokenized_smiles):\n",
    "    for k, token in enumerate(tokens):\n",
    "        n = token_to_index.get(token, vocab_size-1)\n",
    "        X[i, k, n] = 1\n",
    "\n",
    "X.shape"
   ]
  },
  {
   "cell_type": "code",
   "execution_count": 12,
   "metadata": {},
   "outputs": [],
   "source": [
    "y = df['mu'].to_numpy()\n",
    "y = (y - y.mean()) / y.std()"
   ]
  },
  {
   "cell_type": "code",
   "execution_count": 13,
   "metadata": {},
   "outputs": [],
   "source": [
    "train_batch_size = 64   \n",
    "n_test = n_val = 5000\n",
    "n_train = 20000\n",
    "\n",
    "dataset = TensorDataset(torch.Tensor(X), torch.Tensor(y))\n",
    "\n",
    "data_train, data_val, data_test = torch.utils.data.random_split(dataset, [n_train, n_val, n_test], generator=torch.Generator().manual_seed(42))    \n",
    "\n",
    "train_loader = DataLoader(data_train, batch_size=train_batch_size, shuffle=True, generator=torch.Generator().manual_seed(42)) \n",
    "val_loader = DataLoader(data_val, batch_size=1, shuffle=True, generator=torch.Generator().manual_seed(42)) \n",
    "test_loader = DataLoader(data_test, batch_size=1, shuffle=True, generator=torch.Generator().manual_seed(42))"
   ]
  },
  {
   "cell_type": "markdown",
   "metadata": {},
   "source": [
    "### Models"
   ]
  },
  {
   "cell_type": "code",
   "execution_count": 77,
   "metadata": {},
   "outputs": [],
   "source": [
    "class RNNRegressionModel(nn.Module):\n",
    "    def __init__(self, input_size, hidden_size=16, num_layers=1):\n",
    "        super(RNNRegressionModel, self).__init__()\n",
    "        self.hidden_size = hidden_size\n",
    "        self.num_layers = num_layers\n",
    "        self.rnn = nn.RNN(input_size, hidden_size, num_layers, batch_first=True)\n",
    "        self.fc = nn.Linear(hidden_size, 1)  \n",
    "        self.dropout = nn.Dropout(p=.2)\n",
    "        \n",
    "    def forward(self, x):\n",
    "        h0 = torch.zeros(self.num_layers, x.size(0), self.hidden_size).to(device) \n",
    "        out, hn = self.rnn(x, h0)\n",
    "        out = out[:, -1]\n",
    "        out = self.dropout(out)\n",
    "        out = self.fc(out)\n",
    "        return out\n",
    "    \n",
    "    \n",
    "class GRURegressionModel(nn.Module):\n",
    "    def __init__(self, input_size, hidden_size=16, num_layers=1):\n",
    "        super(GRURegressionModel, self).__init__()\n",
    "        self.hidden_size = hidden_size\n",
    "        self.num_layers = num_layers\n",
    "        self.gru = nn.GRU(input_size, hidden_size, num_layers, batch_first=True)\n",
    "        self.fc = nn.Linear(hidden_size, 1)  \n",
    "        self.dropout = nn.Dropout(p=.2)\n",
    "        \n",
    "    def forward(self, x):\n",
    "        h0 = torch.zeros(self.num_layers, x.size(0), self.hidden_size).to(device) \n",
    "        out, hn = self.gru(x, h0)\n",
    "        out = out[:, -1]\n",
    "        out = self.dropout(out)\n",
    "        out = self.fc(out)\n",
    "        return out"
   ]
  },
  {
   "cell_type": "code",
   "execution_count": 95,
   "metadata": {},
   "outputs": [],
   "source": [
    "def train_model(model, criterion, optimizer, loader):\n",
    "    model.train()\n",
    "    epoch_loss = 0\n",
    "    batch_losses = []\n",
    "    \n",
    "    for i, (X_batch, y_batch) in enumerate(loader):\n",
    "        X_batch, y_batch = X_batch.to(device), y_batch.to(device)\n",
    "        optimizer.zero_grad()\n",
    "        y_pred = model(X_batch)\n",
    "        loss = criterion(y_pred, y_batch.unsqueeze(1))\n",
    "        loss.backward()\n",
    "        \n",
    "        torch.nn.utils.clip_grad_norm_(model.parameters(), max_norm=1, norm_type=2)\n",
    "        \n",
    "        optimizer.step()\n",
    "        epoch_loss += loss.item()\n",
    "        batch_losses.append(loss.item())\n",
    "\n",
    "    return epoch_loss/len(loader), batch_losses\n",
    "\n",
    " \n",
    "def eval_model(model, criterion, loader):   \n",
    "    model.eval()\n",
    "    test_loss = 0\n",
    "    predictions = []\n",
    "    targets = []\n",
    "    with torch.no_grad():\n",
    "        for X_batch, y_batch in loader:\n",
    "            X_batch, y_batch = X_batch.to(device), y_batch.to(device)\n",
    "            y_pred = model(X_batch)\n",
    "            loss = criterion(y_pred, y_batch.unsqueeze(1))\n",
    "            test_loss += loss.item()\n",
    "            predictions.append(y_pred.detach().numpy())\n",
    "            targets.append(y_batch.unsqueeze(1).detach().numpy())\n",
    "\n",
    "    predictions = np.concatenate(predictions).flatten()\n",
    "    targets = np.concatenate(targets).flatten()\n",
    "    \n",
    "    return test_loss/len(loader), predictions, targets"
   ]
  },
  {
   "cell_type": "markdown",
   "metadata": {},
   "source": [
    "#### Training Simple RNN model"
   ]
  },
  {
   "cell_type": "code",
   "execution_count": 96,
   "metadata": {},
   "outputs": [
    {
     "name": "stdout",
     "output_type": "stream",
     "text": [
      "RNNRegressionModel(\n",
      "  (rnn): RNN(20, 16, batch_first=True)\n",
      "  (fc): Linear(in_features=16, out_features=1, bias=True)\n",
      "  (dropout): Dropout(p=0.2, inplace=False)\n",
      ")\n"
     ]
    }
   ],
   "source": [
    "input_size = X.shape[2]\n",
    "sequence_length = X.shape[1]\n",
    "learning_rate = 1e-3\n",
    "\n",
    "model_rnn = RNNRegressionModel(input_size)\n",
    "criterion = torch.nn.MSELoss()\n",
    "optimizer = torch.optim.Adam(model_rnn.parameters(), lr=learning_rate)\n",
    "\n",
    "model_rnn.to(device)\n",
    "print(model_rnn)"
   ]
  },
  {
   "cell_type": "code",
   "execution_count": 97,
   "metadata": {},
   "outputs": [
    {
     "name": "stdout",
     "output_type": "stream",
     "text": [
      "Epoch 000: | train_loss: 1.00095 | test_loss: 1.02523\n",
      "Epoch 001: | train_loss: 0.99366 | test_loss: 1.01749\n",
      "Epoch 002: | train_loss: 0.76012 | test_loss: 0.73115\n",
      "Epoch 003: | train_loss: 0.71646 | test_loss: 0.72112\n",
      "Epoch 004: | train_loss: 0.70986 | test_loss: 0.71852\n",
      "Epoch 005: | train_loss: 0.70915 | test_loss: 0.72009\n",
      "Epoch 006: | train_loss: 0.70648 | test_loss: 0.71664\n",
      "Epoch 007: | train_loss: 0.70312 | test_loss: 0.71542\n",
      "Epoch 008: | train_loss: 0.70691 | test_loss: 0.71324\n",
      "Epoch 009: | train_loss: 0.70328 | test_loss: 0.71386\n",
      "Epoch 010: | train_loss: 0.70302 | test_loss: 0.72055\n",
      "Epoch 011: | train_loss: 0.69846 | test_loss: 0.71798\n",
      "Epoch 012: | train_loss: 0.70178 | test_loss: 0.71479\n",
      "Epoch 013: | train_loss: 0.69862 | test_loss: 0.71672\n",
      "Epoch 014: | train_loss: 0.71211 | test_loss: 0.72942\n",
      "Epoch 015: | train_loss: 0.71764 | test_loss: 0.71494\n",
      "Epoch 016: | train_loss: 0.69871 | test_loss: 0.71844\n",
      "Epoch 017: | train_loss: 0.70886 | test_loss: 0.71762\n",
      "Epoch 018: | train_loss: 0.70229 | test_loss: 0.72727\n",
      "Epoch 019: | train_loss: 0.70041 | test_loss: 0.72013\n",
      "Epoch 020: | train_loss: 0.76543 | test_loss: 0.85083\n",
      "Epoch 021: | train_loss: 0.81880 | test_loss: 0.84709\n",
      "Epoch 022: | train_loss: 0.80334 | test_loss: 0.80071\n",
      "Epoch 023: | train_loss: 0.86079 | test_loss: 0.92926\n",
      "Epoch 024: | train_loss: 0.90709 | test_loss: 0.94001\n",
      "Epoch 025: | train_loss: 0.90989 | test_loss: 0.93995\n",
      "Epoch 026: | train_loss: 0.90028 | test_loss: 0.93035\n",
      "Epoch 027: | train_loss: 0.90346 | test_loss: 0.96642\n",
      "Epoch 028: | train_loss: 0.93407 | test_loss: 0.96351\n",
      "Epoch 029: | train_loss: 0.93117 | test_loss: 0.94161\n",
      "Epoch 030: | train_loss: 0.92012 | test_loss: 0.95065\n",
      "Epoch 031: | train_loss: 0.92243 | test_loss: 0.94784\n",
      "Epoch 032: | train_loss: 0.91568 | test_loss: 0.94723\n",
      "Epoch 033: | train_loss: 0.91740 | test_loss: 0.94711\n",
      "Epoch 034: | train_loss: 0.91599 | test_loss: 0.94770\n",
      "Epoch 035: | train_loss: 0.91608 | test_loss: 0.94609\n",
      "Epoch 036: | train_loss: 0.91715 | test_loss: 0.94742\n",
      "Epoch 037: | train_loss: 0.91662 | test_loss: 0.94716\n",
      "Epoch 038: | train_loss: 0.91514 | test_loss: 0.94747\n",
      "Epoch 039: | train_loss: 0.91693 | test_loss: 0.94886\n"
     ]
    }
   ],
   "source": [
    "n_epochs = 40\n",
    "\n",
    "train_loss_rnn = []\n",
    "batch_loss_rnn = []\n",
    "test_loss_rnn = []\n",
    "for e in range(n_epochs):\n",
    "    train_loss, train_loss_batches = train_model(model_rnn, criterion, optimizer, train_loader)\n",
    "    test_loss, _, _ = eval_model(model_rnn, criterion, test_loader)\n",
    "    batch_loss_rnn += train_loss_batches\n",
    "    train_loss_rnn.append(train_loss)\n",
    "    test_loss_rnn.append(test_loss)\n",
    "    print(f'Epoch {e+0:03}: | train_loss: {train_loss:.5f} | test_loss: {test_loss:.5f}')"
   ]
  },
  {
   "cell_type": "markdown",
   "metadata": {},
   "source": [
    "#### Training GRU model"
   ]
  },
  {
   "cell_type": "code",
   "execution_count": 98,
   "metadata": {},
   "outputs": [
    {
     "name": "stdout",
     "output_type": "stream",
     "text": [
      "GRURegressionModel(\n",
      "  (gru): GRU(20, 16, batch_first=True)\n",
      "  (fc): Linear(in_features=16, out_features=1, bias=True)\n",
      "  (dropout): Dropout(p=0.2, inplace=False)\n",
      ")\n"
     ]
    }
   ],
   "source": [
    "input_size = X.shape[2]\n",
    "sequence_length = X.shape[1]\n",
    "learning_rate = 1e-3\n",
    "\n",
    "model_gru = GRURegressionModel(input_size)\n",
    "criterion = torch.nn.MSELoss()\n",
    "optimizer = torch.optim.Adam(model_gru.parameters(), lr=learning_rate)\n",
    "\n",
    "model_gru.to(device)\n",
    "print(model_gru)"
   ]
  },
  {
   "cell_type": "code",
   "execution_count": 99,
   "metadata": {},
   "outputs": [
    {
     "name": "stdout",
     "output_type": "stream",
     "text": [
      "Epoch 000: | train_loss: 0.92225 | test_loss: 0.72248\n",
      "Epoch 001: | train_loss: 0.66652 | test_loss: 0.64649\n",
      "Epoch 002: | train_loss: 0.62125 | test_loss: 0.61616\n",
      "Epoch 003: | train_loss: 0.59226 | test_loss: 0.59629\n",
      "Epoch 004: | train_loss: 0.57466 | test_loss: 0.58496\n",
      "Epoch 005: | train_loss: 0.55909 | test_loss: 0.56780\n",
      "Epoch 006: | train_loss: 0.55245 | test_loss: 0.56211\n",
      "Epoch 007: | train_loss: 0.54445 | test_loss: 0.55078\n",
      "Epoch 008: | train_loss: 0.53382 | test_loss: 0.54806\n",
      "Epoch 009: | train_loss: 0.52766 | test_loss: 0.54114\n",
      "Epoch 010: | train_loss: 0.52237 | test_loss: 0.53689\n",
      "Epoch 011: | train_loss: 0.51518 | test_loss: 0.52885\n",
      "Epoch 012: | train_loss: 0.50949 | test_loss: 0.53096\n",
      "Epoch 013: | train_loss: 0.50624 | test_loss: 0.52609\n",
      "Epoch 014: | train_loss: 0.50161 | test_loss: 0.51984\n",
      "Epoch 015: | train_loss: 0.49762 | test_loss: 0.51799\n",
      "Epoch 016: | train_loss: 0.49342 | test_loss: 0.51308\n",
      "Epoch 017: | train_loss: 0.48973 | test_loss: 0.50892\n",
      "Epoch 018: | train_loss: 0.48617 | test_loss: 0.50148\n",
      "Epoch 019: | train_loss: 0.48552 | test_loss: 0.49656\n",
      "Epoch 020: | train_loss: 0.47782 | test_loss: 0.49395\n",
      "Epoch 021: | train_loss: 0.47562 | test_loss: 0.49810\n",
      "Epoch 022: | train_loss: 0.47073 | test_loss: 0.49637\n",
      "Epoch 023: | train_loss: 0.46831 | test_loss: 0.47833\n",
      "Epoch 024: | train_loss: 0.46547 | test_loss: 0.47522\n",
      "Epoch 025: | train_loss: 0.46482 | test_loss: 0.47899\n",
      "Epoch 026: | train_loss: 0.46100 | test_loss: 0.47150\n",
      "Epoch 027: | train_loss: 0.45579 | test_loss: 0.46399\n",
      "Epoch 028: | train_loss: 0.45350 | test_loss: 0.47279\n",
      "Epoch 029: | train_loss: 0.45485 | test_loss: 0.46152\n",
      "Epoch 030: | train_loss: 0.44663 | test_loss: 0.46134\n",
      "Epoch 031: | train_loss: 0.44320 | test_loss: 0.45791\n",
      "Epoch 032: | train_loss: 0.44422 | test_loss: 0.45675\n",
      "Epoch 033: | train_loss: 0.44191 | test_loss: 0.45409\n",
      "Epoch 034: | train_loss: 0.43965 | test_loss: 0.45565\n",
      "Epoch 035: | train_loss: 0.43693 | test_loss: 0.45217\n",
      "Epoch 036: | train_loss: 0.43913 | test_loss: 0.45162\n",
      "Epoch 037: | train_loss: 0.43230 | test_loss: 0.45241\n",
      "Epoch 038: | train_loss: 0.43303 | test_loss: 0.45818\n",
      "Epoch 039: | train_loss: 0.43142 | test_loss: 0.45211\n"
     ]
    }
   ],
   "source": [
    "n_epochs = 40\n",
    "\n",
    "train_loss_gru = []\n",
    "batch_loss_gru = []\n",
    "test_loss_gru = []\n",
    "for e in range(n_epochs):\n",
    "    train_loss, train_loss_batches = train_model(model_gru, criterion, optimizer, train_loader)\n",
    "    test_loss, _, _ = eval_model(model_gru, criterion, test_loader)\n",
    "    batch_loss_gru += train_loss_batches\n",
    "    train_loss_gru.append(train_loss)\n",
    "    test_loss_gru.append(test_loss)\n",
    "    print(f'Epoch {e+0:03}: | train_loss: {train_loss:.5f} | test_loss: {test_loss:.5f}')"
   ]
  },
  {
   "cell_type": "code",
   "execution_count": 100,
   "metadata": {},
   "outputs": [
    {
     "data": {
      "image/png": "[encoded data removed]",
      "text/plain": [
       "<Figure size 640x480 with 1 Axes>"
      ]
     },
     "metadata": {},
     "output_type": "display_data"
    }
   ],
   "source": [
    "_ = plt.plot(train_loss_rnn, label='RNN train')\n",
    "_ = plt.plot(test_loss_rnn, label='RNN test')\n",
    "_ = plt.plot(train_loss_gru, label='GRU train')\n",
    "_ = plt.plot(test_loss_gru, label='GRU test')\n",
    "_ = plt.xlabel('epoch')\n",
    "_ = plt.ylabel('MSE')\n",
    "_ = plt.legend()"
   ]
  },
  {
   "cell_type": "markdown",
   "metadata": {},
   "source": [
    "### Validation"
   ]
  },
  {
   "cell_type": "code",
   "execution_count": 39,
   "metadata": {},
   "outputs": [
    {
     "name": "stdout",
     "output_type": "stream",
     "text": [
      "RNN Validation loss: 0.496\n",
      "GRU Validation loss: 0.409\n"
     ]
    },
    {
     "data": {
      "image/png": "[encoded data removed]",
      "text/plain": [
       "<Figure size 900x500 with 2 Axes>"
      ]
     },
     "metadata": {},
     "output_type": "display_data"
    }
   ],
   "source": [
    "f, axarr = plt.subplots(1, 2, figsize=(9,5), constrained_layout=True)\n",
    "\n",
    "f.suptitle('Ground truth vs predicted values')\n",
    "\n",
    "loss, y_pred, y_targ = eval_model(model_rnn, criterion, val_loader)\n",
    "print(f'RNN Validation loss: {loss:.3f}')\n",
    "\n",
    "_ = axarr[0].scatter(y_pred, y_targ, alpha=.5, s=.5)\n",
    "_ = axarr[0].plot([-2,9],[-2,9], lw=.4, c='r')\n",
    "_ = axarr[0].set_title('RNN')\n",
    "\n",
    "loss, y_pred, y_targ = eval_model(model_gru, criterion, val_loader)\n",
    "print(f'GRU Validation loss: {loss:.3f}')\n",
    "\n",
    "_ = axarr[1].scatter(y_pred, y_targ, alpha=.5, s=.5)\n",
    "_ = axarr[1].plot([-2,9],[-2,9], lw=.4, c='r')\n",
    "_ = axarr[1].set_title('GRU')\n",
    "\n",
    "for ax in axarr:\n",
    "    _ = ax.set_xlabel('y_pred')\n",
    "    _ = ax.set_ylabel('y_true')"
   ]
  },
  {
   "cell_type": "code",
   "execution_count": 23,
   "metadata": {},
   "outputs": [
    {
     "data": {
      "text/plain": [
       "0.5817175113151603"
      ]
     },
     "execution_count": 23,
     "metadata": {},
     "output_type": "execute_result"
    }
   ],
   "source": [
    "l, x1, x2 = eval_model(model_rnn, criterion, val_loader)\n",
    "l"
   ]
  },
  {
   "cell_type": "code",
   "execution_count": 24,
   "metadata": {},
   "outputs": [
    {
     "data": {
      "image/png": "[encoded data removed]",
      "text/plain": [
       "<Figure size 640x480 with 1 Axes>"
      ]
     },
     "metadata": {},
     "output_type": "display_data"
    }
   ],
   "source": [
    "_ = plt.scatter(x1,x2,alpha=.5,s=.5)\n",
    "_ = plt.plot([-2,10],[-2,10],lw=.4,c='r')"
   ]
  },
  {
   "cell_type": "code",
   "execution_count": 25,
   "metadata": {},
   "outputs": [
    {
     "name": "stdout",
     "output_type": "stream",
     "text": [
      "RNN Validation loss: 0.501\n"
     ]
    }
   ],
   "source": [
    "loss, y_pred, y_targ = eval_model(model_gru, criterion, val_loader)\n",
    "print(f'RNN Validation loss: {loss:.3f}')"
   ]
  },
  {
   "cell_type": "code",
   "execution_count": 26,
   "metadata": {},
   "outputs": [
    {
     "data": {
      "image/png": "[encoded data removed]",
      "text/plain": [
       "<Figure size 640x480 with 1 Axes>"
      ]
     },
     "metadata": {},
     "output_type": "display_data"
    }
   ],
   "source": [
    "_ = plt.scatter(x1,x2,alpha=.5,s=.5)\n",
    "_ = plt.plot([-2,10],[-2,10],lw=.4,c='r')"
   ]
  },
  {
   "cell_type": "code",
   "execution_count": 27,
   "metadata": {},
   "outputs": [
    {
     "ename": "RuntimeError",
     "evalue": "No active exception to reraise",
     "output_type": "error",
     "traceback": [
      "\u001b[0;31m---------------------------------------------------------------------------\u001b[0m",
      "\u001b[0;31mRuntimeError\u001b[0m                              Traceback (most recent call last)",
      "Cell \u001b[0;32mIn[27], line 1\u001b[0m\n\u001b[0;32m----> 1\u001b[0m \u001b[38;5;28;01mraise\u001b[39;00m\n",
      "\u001b[0;31mRuntimeError\u001b[0m: No active exception to reraise"
     ]
    }
   ],
   "source": [
    "raise"
   ]
  },
  {
   "cell_type": "code",
   "execution_count": null,
   "metadata": {},
   "outputs": [],
   "source": []
  },
  {
   "cell_type": "code",
   "execution_count": null,
   "metadata": {},
   "outputs": [],
   "source": []
  },
  {
   "cell_type": "code",
   "execution_count": null,
   "metadata": {},
   "outputs": [],
   "source": []
  },
  {
   "cell_type": "code",
   "execution_count": null,
   "metadata": {},
   "outputs": [],
   "source": []
  },
  {
   "cell_type": "markdown",
   "metadata": {},
   "source": [
    "<div class=\"alert alert-block alert-info\">\n",
    "\n",
    "<b>Functions</b>: \n",
    "\n",
    "<ul>\n",
    "<li>Please add <a href=\"https://numpydoc.readthedocs.io/en/latest/format.html\">numpy docstrings</a> to your functions.</li>\n",
    "<li>Please expose all variables used within a function in the function's signature (i.e. they must be function parameters), unless they are created within the scope of the function.</li>\n",
    "<li>Please add comments to the steps performed in the function.</li>\n",
    "<li>Please use meaningful function and parameter names. This applies also to variable names.</li>\n",
    "</ul>\n",
    "    \n",
    "</div>"
   ]
  },
  {
   "cell_type": "code",
   "execution_count": null,
   "metadata": {},
   "outputs": [],
   "source": [
    "def calculate_ro5_properties(smiles):\n",
    "    \"\"\"\n",
    "    Test if input molecule (SMILES) fulfills Lipinski's rule of five.\n",
    "\n",
    "    Parameters\n",
    "    ----------\n",
    "    smiles : str\n",
    "        SMILES for a molecule.\n",
    "\n",
    "    Returns\n",
    "    -------\n",
    "    pandas.Series\n",
    "        Molecular weight, number of hydrogen bond acceptors/donor and logP value\n",
    "        and Lipinski's rule of five compliance for input molecule.\n",
    "    \"\"\"\n",
    "    # RDKit molecule from SMILES\n",
    "    molecule = Chem.MolFromSmiles(smiles)\n",
    "    # Calculate Ro5-relevant chemical properties\n",
    "    molecular_weight = Descriptors.ExactMolWt(molecule)\n",
    "    n_hba = Descriptors.NumHAcceptors(molecule)\n",
    "    n_hbd = Descriptors.NumHDonors(molecule)\n",
    "    logp = Descriptors.MolLogP(molecule)\n",
    "    # Ro5 conditions fulfilled\n",
    "    conditions = [molecular_weight <= 500, n_hba <= 10, n_hbd <= 5, logp <= 5]\n",
    "    ro5_fulfilled = sum(conditions) >= 3\n",
    "    # Return True if no more than one out of four conditions is violated\n",
    "    return pd.Series(\n",
    "        [molecular_weight, n_hba, n_hbd, logp, ro5_fulfilled],\n",
    "        index=[\"molecular_weight\", \"n_hba\", \"n_hbd\", \"logp\", \"ro5_fulfilled\"],\n",
    "    )"
   ]
  },
  {
   "cell_type": "markdown",
   "metadata": {},
   "source": [
    "### Load and draw molecules"
   ]
  },
  {
   "cell_type": "markdown",
   "metadata": {},
   "source": [
    "_Explain what you will do and why here in the Markdown cell. This includes everything that has to do with the talktorial's storytelling._"
   ]
  },
  {
   "cell_type": "code",
   "execution_count": null,
   "metadata": {},
   "outputs": [],
   "source": [
    "# Add comments in the code cell if you want to comment on coding decisions"
   ]
  },
  {
   "cell_type": "code",
   "execution_count": null,
   "metadata": {},
   "outputs": [],
   "source": []
  },
  {
   "cell_type": "markdown",
   "metadata": {},
   "source": [
    "## Discussion\n",
    "\n",
    "Wrap up the talktorial's content here and discuss pros/cons and open questions/challenges."
   ]
  },
  {
   "cell_type": "markdown",
   "metadata": {},
   "source": [
    "## Quiz\n",
    "\n",
    "Ask three questions that the user should be able to answer after doing this talktorial. Choose important take-aways from this talktorial for your questions.\n",
    "\n",
    "1. Question\n",
    "2. Question\n",
    "3. Question"
   ]
  },
  {
   "cell_type": "markdown",
   "metadata": {},
   "source": [
    "<div class=\"alert alert-block alert-info\">\n",
    "\n",
    "<b>Useful checks at the end</b>: \n",
    "    \n",
    "<ul>\n",
    "<li>Clear output and rerun your complete notebook. Does it finish without errors?</li>\n",
    "<li>Check if your talktorial's runtime is as excepted. If not, try to find out which step(s) take unexpectedly long.</li>\n",
    "<li>Flag code cells with <code># NBVAL_CHECK_OUTPUT</code> that have deterministic output and should be tested within our Continuous Integration (CI) framework.</li>\n",
    "</ul>\n",
    "\n",
    "</div>"
   ]
  },
  {
   "cell_type": "code",
   "execution_count": null,
   "metadata": {},
   "outputs": [],
   "source": []
  }
 ],
 "metadata": {
  "kernelspec": {
   "display_name": "Python [conda env:pytorch]",
   "language": "python",
   "name": "conda-env-pytorch-py"
  },
  "language_info": {
   "codemirror_mode": {
    "name": "ipython",
    "version": 3
   },
   "file_extension": ".py",
   "mimetype": "text/x-python",
   "name": "python",
   "nbconvert_exporter": "python",
   "pygments_lexer": "ipython3",
   "version": "3.10.8"
  },
  "widgets": {
   "application/vnd.jupyter.widget-state+json": {
    "state": {},
    "version_major": 2,
    "version_minor": 0
   }
  }
 },
 "nbformat": 4,
 "nbformat_minor": 4
}
