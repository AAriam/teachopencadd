{
 "cells": [
  {
   "cell_type": "markdown",
   "metadata": {},
   "source": [
    "<div class=\"alert alert-block alert-info\">\n",
    "\n",
    "<b>Thank you for contributing to TeachOpenCADD!</b>\n",
    "\n",
    "</div>"
   ]
  },
  {
   "cell_type": "markdown",
   "metadata": {},
   "source": [
    "<div class=\"alert alert-block alert-info\">\n",
    "\n",
    "<b>Set up your PR</b>: Please check out our <a href=\"https://github.com/volkamerlab/teachopencadd/issues/41\">issue</a> on how to set up a PR for new talktorials, including standard checks and TODOs.\n",
    "\n",
    "</div>"
   ]
  },
  {
   "cell_type": "markdown",
   "metadata": {},
   "source": [
    "# T034 · SMILES based property prediction\n",
    "\n",
    "**Note:** This talktorial is a part of TeachOpenCADD, a platform that aims to teach domain-specific skills and to provide pipeline templates as starting points for research projects.\n",
    "\n",
    "Authors:\n",
    "\n",
    "- Azat Tagirdzhanov, 2022, Saarland University"
   ]
  },
  {
   "cell_type": "markdown",
   "metadata": {},
   "source": [
    "## Aim of this talktorial\n",
    "\n",
    "Molecular representation by a SMILES string paved the way for applying natural language processing techniques to a broad range of molecule related tasks. In this talktorial we will dive deeper into one of these techinques: recurrent neural networks (RNNs). First, we will describe different RNN architectures and then apply them to a regression task using the QM9 dataset."
   ]
  },
  {
   "cell_type": "markdown",
   "metadata": {},
   "source": [
    "### Contents in *Theory*\n",
    "\n",
    "* Molecules as text\n",
    "    * Tokenization and one-hot encoding\n",
    "* Recurrent Neural Networks (RNNs)\n",
    "    * Vanilla RNN\n",
    "    * Training an RNN\n",
    "    * Vanishing gradients\n",
    "    * Gated Recurrent Unit"
   ]
  },
  {
   "cell_type": "markdown",
   "metadata": {},
   "source": [
    "### Contents in *Practical*\n",
    "\n",
    "* Connect to ChEMBL database\n",
    "* Load and draw molecules"
   ]
  },
  {
   "cell_type": "markdown",
   "metadata": {},
   "source": [
    "### References\n",
    "\n",
    "#### Talktorials\n",
    "* [__Talktorial T021__](https://github.com/volkamerlab/teachopencadd/blob/master/teachopencadd/talktorials/T021_one_hot_encoding/talktorial.ipynb): One-Hot Encoding\n",
    "* [__Talktorial T022__](https://github.com/volkamerlab/teachopencadd/blob/master/teachopencadd/talktorials/T022_ligand_based_screening_neural_network/talktorial.ipynb): Ligand-based screening: neural networks\n",
    "* [__Talktorial T033__](todo)(**todo**)\n",
    "* [__Talktorial T034__](todo)(**todo**)\n",
    "\n",
    "\n",
    "#### Theoretical background\n",
    "* Michael Phi, <i>Illustrated Guide to Recurrent Neural Networks</i>, [towardsdatascience](https://towardsdatascience.com/illustrated-guide-to-recurrent-neural-networks-79e5eb8049c9)\n",
    "* Michael Phi, <i>Illustrated Guide to LSTM’s and GRU’s: A step by step explanation</i>, [towardsdatascience](https://towardsdatascience.com/illustrated-guide-to-lstms-and-gru-s-a-step-by-step-explanation-44e9eb85bf21)\n",
    "* [Modern Recurrent Neural Networks](https://d2l.ai/chapter_recurrent-modern/index.html), <i>D2L.ai: Interactive Deep Learning Book with Multi-Framework Code, Math, and Discussions</i>\n",
    "* Denny Britz, <i>Recurrent Neural Networks Tutorial</i>, [dennybritz.com](https://dennybritz.com/posts/wildml/recurrent-neural-networks-tutorial-part-1/)\n",
    "* Andrej Karpathy, <i>The Unreasonable Effectiveness of Recurrent Neural Networks</i>, [Andrej Karpathy blog](https://karpathy.github.io/2015/05/21/rnn-effectiveness/)\n",
    "* Anvita Gupta, et al. \"Generative recurrent networks for de novo drug design.\" [<i>Molecular informatics</i> <b>37</b>, no. 1-2 (2018)](https://doi.org/10.1002/minf.201700111)\n"
   ]
  },
  {
   "cell_type": "markdown",
   "metadata": {},
   "source": [
    "## Theory"
   ]
  },
  {
   "cell_type": "markdown",
   "metadata": {},
   "source": [
    "### Molecules as text"
   ]
  },
  {
   "cell_type": "markdown",
   "metadata": {},
   "source": [
    "To apply machine learning to molecular data, it is necesarry to first convert the molecules into a representation that can be used as input to the machine learning models. We have already discussed numerous ways of molecular representations in [__Talktorial T033__](todo)(**todo**). In this talktorial we will be using a textual representation of molecules by SMILES strings.\n",
    "\n",
    "The string representation of molecules paves the way for applying natural language processing (NLP) techniques to molecular data. In recent years, there has been a significant progress in NLP models including, most famously, recurrent neural networks and transformers. These models proved to be good in capturing text semantics and, when appplied to SMILES strings, can capture the structure of the molecule in its text representation.\n",
    "\n",
    "#### Tokenization and one-hot encoding\n",
    "\n",
    "As other machine learning models, NLP models are designed to operate with numeric inputs. We have already discussed how to transform SMILES strings into numerical form in [__Talktorial T021__](https://github.com/volkamerlab/teachopencadd/blob/master/teachopencadd/talktorials/T021_one_hot_encoding/talktorial.ipynb). Here, we will only briefly go through the key steps:\n",
    "\n",
    "- In order to transform a string to a sequence of vectors, the string is first split into meaningful chunks called *tokens*. For example, one way of tokenizing a SMILES string `C=CCl` is to split it into individual atomic and branch symbols: `[C, =, C, Cl]`. \n",
    "- All possible tokens form a *vocabulary*. In our example, only limited to this particular compound, the vocabulary will look like `[C, Cl, =]`. Replacing the tokens with their indices in the vocabulary gets us to another representation, `[0, 2, 0, 1]`. \n",
    "- Finally, the sequence of token indices is transformed to a sequence of binary vectors using one-hot encoding:\n",
    "$$\n",
    "\\begin{bmatrix} 1 \\\\ 0 \\\\ 0 \\end{bmatrix},~\n",
    "\\begin{bmatrix} 0 \\\\ 0 \\\\ 1 \\end{bmatrix},~\n",
    "\\begin{bmatrix} 1 \\\\ 0 \\\\ 0 \\end{bmatrix},~\n",
    "\\begin{bmatrix} 0 \\\\ 1 \\\\ 0 \\end{bmatrix}.\n",
    "$$\n",
    "\n"
   ]
  },
  {
   "cell_type": "markdown",
   "metadata": {},
   "source": [
    "### Recurrent Neural Networks (RNNs)"
   ]
  },
  {
   "cell_type": "markdown",
   "metadata": {},
   "source": [
    "Some basic intuition shared by all rnns:\n",
    "- RNNs process the input in a sequential manner. \n",
    "- they have hidden state that allows passing information about previous timesteps to the coming ones\n",
    "- they have recurrent connection that feeds previous hidden state to the cell\n",
    "- can be organized as layers\n",
    "- rnn tasks"
   ]
  },
  {
   "cell_type": "markdown",
   "metadata": {},
   "source": [
    "Recurrent neural networks (RNNs) are designed to handle sequential data. To do so, they introduce the notion of time. Elements of the input sequence are processed one after another, with output of the current time step being passed to the next one as an additonal input. This is done by introducing a special type of connection called a *recurrent connection* (hence the name). This architecture allows RNNs to accumulate information about the past and as a result capture dependencies between elements in the sequence."
   ]
  },
  {
   "cell_type": "markdown",
   "metadata": {},
   "source": [
    "![RNN](images/rnn-unfolded-800.png)\n",
    "\n",
    "*Figure 1:* \n",
    "Two ways of representing a recurrent neural network: compressed (left) and unfolded in time (right). "
   ]
  },
  {
   "cell_type": "markdown",
   "metadata": {},
   "source": [
    "As many other neural networks, RNN cells can be organized in layers. An example of a multi-layer RNN is shown on the Figure 2 below.  "
   ]
  },
  {
   "cell_type": "markdown",
   "metadata": {},
   "source": [
    "![RNN](images/rnn-multilayer-800.png)\n",
    "\n",
    "*Figure 2:* \n",
    "Multi-layer RNN architecture (unfolded). Hidden states from the first layer are passed as inputs to the second layer."
   ]
  },
  {
   "cell_type": "markdown",
   "metadata": {},
   "source": [
    "#### Vanilla RNN\n",
    "An RNN takes as input a sequence of vectors $x_1, x_2, \\dots, x_L$. We will refer to indices of these vectors as *time steps*, with $x_t$ being an input at time step $t$. An RNN cell has a hidden state vector $h_t$ which is updated at each time step and is responsible for aggregating the information about the previous elements of the input sequence. The update is performed combining the input $x_t$ with the hidden state of the previous step $h_{t-1}$\n",
    "according to the following recurrence relation,\n",
    "\n",
    "$$h_{t} = \\tanh( W x_{t} + U h_{t-1} + b),~~~t=1,2,\\dots,L.$$\n",
    "\n",
    "Here $W$ and $U$ are weight matrices, and $b$ is a bias vector. The initial hidden state $h_0$ is usually seeded as a vector of zeros. It is important to note that the weights $W$, $U$ and $b$ are are shared between all the time steps."
   ]
  },
  {
   "cell_type": "markdown",
   "metadata": {},
   "source": [
    "#### Training an RNN\n",
    "Similar to other neural networks, RNNs are trained using a backpropagation algorithm. A flavour of the algorithm used in RNNs is called *backpropagation through time* or BPTT for short. BPTT unfolds the RNN in time, with every copy of the RNN cell sharing the same weights. Unfolded RNN doesn't have recurrent connections anymore and can be viewed as a normal feed-forward network. The backpropagation algorithm is applied to the unfolded network to compute the gradient of the loss function with respect to the network weights."
   ]
  },
  {
   "cell_type": "markdown",
   "metadata": {},
   "source": [
    "#### Vanishing gradients\n",
    "\n",
    "Vanilla RNNs are susceptible to a problem called *vanishing gradients*. This problem occurs in deep neural networks when the gradients of the weights of the first layers of the network become very small as they are backpropagated through the network. This can lead to slow training and poor performance. In RNNs, the backpropagation is applied to the unfolded network which tends to be very deep. Furthermore, all copies of the RNN cells in the unfolded network share the same weights, which can cause gradients to diminish exponentially fast. For more details on the vanishing gradients problem, please refer to the blogpost [Backpropagation Through Time and Vanishing Gradients](https://dennybritz.com/posts/wildml/recurrent-neural-networks-tutorial-part-3/)"
   ]
  },
  {
   "cell_type": "markdown",
   "metadata": {},
   "source": [
    "#### Gated Recurrent Unit\n",
    "\n",
    "Gated recurrent unit (GRU) is a more advanced architecture of the recurrent network that aims to solve the vanishing gradient problem. In addition to the hidden state vector, GRU introduces so-called *update gate* and *reset gate*. These two vectors help the model to decide which information should be passed forward. They can be trained to keep information from long ago, without washing it through time or remove information which is irrelevant to the prediction.\n"
   ]
  },
  {
   "cell_type": "markdown",
   "metadata": {},
   "source": [
    "\n",
    "![GRU](images/gru-3.png)\n",
    "\n",
    "*Figure 3:* \n",
    "Gated recurrent unit.\n",
    "Figure is adapted from [\"*<i>D2L.ai: Interactive Deep Learning Book with Multi-Framework Code, Math, and Discussions</i>*\"](https://d2l.ai/chapter_recurrent-modern/gru.html).\n"
   ]
  },
  {
   "cell_type": "markdown",
   "metadata": {},
   "source": [
    "\n",
    "##### Reset gate\n",
    "\n",
    "This gate is used by the GRU cell to decide how much of the past information to forget. It is calculated using the formula\n",
    "\n",
    "$$r_t = \\sigma(W_{r} x_t + U_{r} h_{t-1} + b_r).$$\n",
    "\n",
    "The input vector $x_t$ is multiplied by the weight matrix $W_r$. The hidden state from the previous time step $h_{t-1}$ is also plugged into the cell and is multiplied by its own weight matrix $U_r$. Both results are added together with a bias vector $b_r$, and passed through a sigmoid activation function to limit the output to a range between 0 and 1.\n",
    "\n",
    "##### Update gate\n",
    "\n",
    "The update gate is calculated using a similar formula,\n",
    "\n",
    "$$z_t = \\sigma(W_{z} x_t + U_{z} h_{t-1} + b_z),$$\n",
    "\n",
    "but it has its own weights $W_z$, $U_z$, $b_z$, and serves a different purpose. As we will see below, the update gate helps the GRU cell to decide how much of the past information should be passed to the future step.\n",
    "\n",
    "##### Hidden state candidate\n",
    "\n",
    "A candidate hidden state stores the relevant information from the past. It is calculated as follows:\n",
    "\n",
    "$$\\hat{h}_t = \\tanh(W_{h} x_t + U_{h}(r_t \\odot h_{t-1}) + b_h),$$\n",
    "\n",
    "where $\\odot$ is the [element-wise product](https://en.wikipedia.org/wiki/Hadamard_product_(matrices)) and $r_t$ is the reset gate vector introduced above. This formula looks similar to how the hidden state is updated in a simple RNN cell, but here the hidden state from the previous time step $h_{t-1}$ is multiplied by the reset gate vector $r_t$. Due to sigmoid activation, components of $r_t$ take values between 0 and 1. Using the reset gate the model can learn which information is not relevant and should be discarded. If, for example, an $i$-th component of $r_t$ is close to 0, then the memory contained in the $i$-th component of $h_{t-1}$ will be discarded in the candidate vector. \n",
    "\n",
    "##### Hidden state update\n",
    "\n",
    "Finally, the hidden state is updated as a mixture of $h_{t-1}$ and the hidden state candidate,\n",
    "\n",
    "$$h_t =   z_t \\odot h_{t-1} + (1-z_t) \\odot  \\hat{h}_t. $$\n",
    "\n",
    "Here, the update gate vector $z_t$ controls how much of information to collect from the candidate vector $\\hat{h}_t$ and and how much from the previous steps $h_{t-1}$.\n",
    "\n"
   ]
  },
  {
   "cell_type": "markdown",
   "metadata": {},
   "source": [
    "## Practical"
   ]
  },
  {
   "cell_type": "markdown",
   "metadata": {},
   "source": [
    "In the practical section we will apply recurrent neural networks to a regression task.  "
   ]
  },
  {
   "cell_type": "code",
   "execution_count": 1,
   "metadata": {},
   "outputs": [],
   "source": [
    "from pathlib import Path\n",
    "import os\n",
    "import re\n",
    "from collections import Counter\n",
    "import numpy as np\n",
    "import pandas as pd\n",
    "import matplotlib.pyplot as plt\n",
    "\n",
    "import torch \n",
    "import torch.nn as nn\n",
    "from torch.utils.data import TensorDataset, DataLoader"
   ]
  },
  {
   "cell_type": "code",
   "execution_count": 2,
   "metadata": {},
   "outputs": [],
   "source": [
    "# use cuda if available\n",
    "device = torch.device('cuda' if torch.cuda.is_available() else 'cpu')\n",
    "\n",
    "# seed random generator\n",
    "_ = torch.manual_seed(42)"
   ]
  },
  {
   "cell_type": "code",
   "execution_count": 3,
   "metadata": {},
   "outputs": [],
   "source": [
    "HERE = Path(_dh[-1])\n",
    "DATA = HERE / \"data\""
   ]
  },
  {
   "cell_type": "markdown",
   "metadata": {},
   "source": [
    "### Dataset"
   ]
  },
  {
   "cell_type": "markdown",
   "metadata": {},
   "source": [
    "In this talktorial we use [QM9](https://pytorch-geometric.readthedocs.io/en/2.2.0/modules/datasets.html#torch_geometric.datasets.QM9) dataset from the [MoleculeNet](https://arxiv.org/abs/1703.00564) paper. This dataset consists of about 130,000 molecules together with their quantum chemical properties. In this talktorial we will build a model predicting the dipole moment `mu`. "
   ]
  },
  {
   "cell_type": "code",
   "execution_count": 4,
   "metadata": {},
   "outputs": [],
   "source": [
    "# load dataset\n",
    "df = pd.read_csv(os.path.join(DATA, 'qm9.csv.gz'), compression='gzip')"
   ]
  },
  {
   "cell_type": "code",
   "execution_count": 5,
   "metadata": {},
   "outputs": [
    {
     "data": {
      "text/html": [
       "<div>\n",
       "<style scoped>\n",
       "    .dataframe tbody tr th:only-of-type {\n",
       "        vertical-align: middle;\n",
       "    }\n",
       "\n",
       "    .dataframe tbody tr th {\n",
       "        vertical-align: top;\n",
       "    }\n",
       "\n",
       "    .dataframe thead th {\n",
       "        text-align: right;\n",
       "    }\n",
       "</style>\n",
       "<table border=\"1\" class=\"dataframe\">\n",
       "  <thead>\n",
       "    <tr style=\"text-align: right;\">\n",
       "      <th></th>\n",
       "      <th>mol_id</th>\n",
       "      <th>A</th>\n",
       "      <th>B</th>\n",
       "      <th>C</th>\n",
       "      <th>mu</th>\n",
       "      <th>alpha</th>\n",
       "      <th>homo</th>\n",
       "      <th>lumo</th>\n",
       "      <th>gap</th>\n",
       "      <th>r2</th>\n",
       "      <th>...</th>\n",
       "      <th>u0</th>\n",
       "      <th>u298</th>\n",
       "      <th>h298</th>\n",
       "      <th>g298</th>\n",
       "      <th>cv</th>\n",
       "      <th>u0_atom</th>\n",
       "      <th>u298_atom</th>\n",
       "      <th>h298_atom</th>\n",
       "      <th>g298_atom</th>\n",
       "      <th>smiles</th>\n",
       "    </tr>\n",
       "  </thead>\n",
       "  <tbody>\n",
       "    <tr>\n",
       "      <th>65977</th>\n",
       "      <td>gdb_66703</td>\n",
       "      <td>3.20045</td>\n",
       "      <td>1.74370</td>\n",
       "      <td>1.44173</td>\n",
       "      <td>2.4186</td>\n",
       "      <td>64.08</td>\n",
       "      <td>-0.2371</td>\n",
       "      <td>-0.0296</td>\n",
       "      <td>0.2075</td>\n",
       "      <td>882.3655</td>\n",
       "      <td>...</td>\n",
       "      <td>-436.625775</td>\n",
       "      <td>-436.619353</td>\n",
       "      <td>-436.618409</td>\n",
       "      <td>-436.656379</td>\n",
       "      <td>26.101</td>\n",
       "      <td>-1462.572249</td>\n",
       "      <td>-1470.985890</td>\n",
       "      <td>-1478.689818</td>\n",
       "      <td>-1365.384910</td>\n",
       "      <td>O=C1[C@H]2[C@@H]3[N@H+]2[C@@H]2[C@H]1[C@]32O</td>\n",
       "    </tr>\n",
       "    <tr>\n",
       "      <th>25969</th>\n",
       "      <td>gdb_26191</td>\n",
       "      <td>3.77339</td>\n",
       "      <td>1.00579</td>\n",
       "      <td>0.81923</td>\n",
       "      <td>0.7062</td>\n",
       "      <td>80.07</td>\n",
       "      <td>-0.1738</td>\n",
       "      <td>0.0423</td>\n",
       "      <td>0.2161</td>\n",
       "      <td>1397.2819</td>\n",
       "      <td>...</td>\n",
       "      <td>-419.238513</td>\n",
       "      <td>-419.229068</td>\n",
       "      <td>-419.228123</td>\n",
       "      <td>-419.272736</td>\n",
       "      <td>35.677</td>\n",
       "      <td>-1834.114681</td>\n",
       "      <td>-1845.074125</td>\n",
       "      <td>-1855.742406</td>\n",
       "      <td>-1705.718809</td>\n",
       "      <td>C[C@@H](O)c1cc(N)c[nH]1</td>\n",
       "    </tr>\n",
       "    <tr>\n",
       "      <th>50853</th>\n",
       "      <td>gdb_51408</td>\n",
       "      <td>5.97141</td>\n",
       "      <td>0.93938</td>\n",
       "      <td>0.91642</td>\n",
       "      <td>2.2882</td>\n",
       "      <td>64.41</td>\n",
       "      <td>-0.2709</td>\n",
       "      <td>-0.0278</td>\n",
       "      <td>0.2431</td>\n",
       "      <td>1213.2519</td>\n",
       "      <td>...</td>\n",
       "      <td>-473.769065</td>\n",
       "      <td>-473.761515</td>\n",
       "      <td>-473.760570</td>\n",
       "      <td>-473.801828</td>\n",
       "      <td>27.241</td>\n",
       "      <td>-1415.812161</td>\n",
       "      <td>-1423.517344</td>\n",
       "      <td>-1431.220645</td>\n",
       "      <td>-1319.723591</td>\n",
       "      <td>O=CO[C@@H]1[C@@H]2N[C@H]1C2=O</td>\n",
       "    </tr>\n",
       "    <tr>\n",
       "      <th>60785</th>\n",
       "      <td>gdb_61444</td>\n",
       "      <td>3.22067</td>\n",
       "      <td>0.92106</td>\n",
       "      <td>0.82622</td>\n",
       "      <td>1.4271</td>\n",
       "      <td>71.92</td>\n",
       "      <td>-0.2493</td>\n",
       "      <td>-0.0187</td>\n",
       "      <td>0.2306</td>\n",
       "      <td>1448.5037</td>\n",
       "      <td>...</td>\n",
       "      <td>-460.159223</td>\n",
       "      <td>-460.149407</td>\n",
       "      <td>-460.148463</td>\n",
       "      <td>-460.195052</td>\n",
       "      <td>34.990</td>\n",
       "      <td>-1808.558749</td>\n",
       "      <td>-1819.285388</td>\n",
       "      <td>-1829.954296</td>\n",
       "      <td>-1681.274824</td>\n",
       "      <td>CC(=O)C[C@@H](O)[C@H]1CO1</td>\n",
       "    </tr>\n",
       "    <tr>\n",
       "      <th>89539</th>\n",
       "      <td>gdb_90638</td>\n",
       "      <td>3.73721</td>\n",
       "      <td>1.08935</td>\n",
       "      <td>1.01314</td>\n",
       "      <td>3.2559</td>\n",
       "      <td>78.64</td>\n",
       "      <td>-0.2372</td>\n",
       "      <td>0.0214</td>\n",
       "      <td>0.2585</td>\n",
       "      <td>1226.4068</td>\n",
       "      <td>...</td>\n",
       "      <td>-398.096148</td>\n",
       "      <td>-398.087504</td>\n",
       "      <td>-398.086560</td>\n",
       "      <td>-398.129062</td>\n",
       "      <td>33.007</td>\n",
       "      <td>-1732.851043</td>\n",
       "      <td>-1743.424570</td>\n",
       "      <td>-1753.500482</td>\n",
       "      <td>-1610.267160</td>\n",
       "      <td>C[C@H]1N[C@H]2[C@@H]1[C@]2(N)C#N</td>\n",
       "    </tr>\n",
       "  </tbody>\n",
       "</table>\n",
       "<p>5 rows × 21 columns</p>\n",
       "</div>"
      ],
      "text/plain": [
       "          mol_id        A        B        C      mu  alpha    homo    lumo  \\\n",
       "65977  gdb_66703  3.20045  1.74370  1.44173  2.4186  64.08 -0.2371 -0.0296   \n",
       "25969  gdb_26191  3.77339  1.00579  0.81923  0.7062  80.07 -0.1738  0.0423   \n",
       "50853  gdb_51408  5.97141  0.93938  0.91642  2.2882  64.41 -0.2709 -0.0278   \n",
       "60785  gdb_61444  3.22067  0.92106  0.82622  1.4271  71.92 -0.2493 -0.0187   \n",
       "89539  gdb_90638  3.73721  1.08935  1.01314  3.2559  78.64 -0.2372  0.0214   \n",
       "\n",
       "          gap         r2  ...          u0        u298        h298        g298  \\\n",
       "65977  0.2075   882.3655  ... -436.625775 -436.619353 -436.618409 -436.656379   \n",
       "25969  0.2161  1397.2819  ... -419.238513 -419.229068 -419.228123 -419.272736   \n",
       "50853  0.2431  1213.2519  ... -473.769065 -473.761515 -473.760570 -473.801828   \n",
       "60785  0.2306  1448.5037  ... -460.159223 -460.149407 -460.148463 -460.195052   \n",
       "89539  0.2585  1226.4068  ... -398.096148 -398.087504 -398.086560 -398.129062   \n",
       "\n",
       "           cv      u0_atom    u298_atom    h298_atom    g298_atom  \\\n",
       "65977  26.101 -1462.572249 -1470.985890 -1478.689818 -1365.384910   \n",
       "25969  35.677 -1834.114681 -1845.074125 -1855.742406 -1705.718809   \n",
       "50853  27.241 -1415.812161 -1423.517344 -1431.220645 -1319.723591   \n",
       "60785  34.990 -1808.558749 -1819.285388 -1829.954296 -1681.274824   \n",
       "89539  33.007 -1732.851043 -1743.424570 -1753.500482 -1610.267160   \n",
       "\n",
       "                                             smiles  \n",
       "65977  O=C1[C@H]2[C@@H]3[N@H+]2[C@@H]2[C@H]1[C@]32O  \n",
       "25969                       C[C@@H](O)c1cc(N)c[nH]1  \n",
       "50853                 O=CO[C@@H]1[C@@H]2N[C@H]1C2=O  \n",
       "60785                     CC(=O)C[C@@H](O)[C@H]1CO1  \n",
       "89539              C[C@H]1N[C@H]2[C@@H]1[C@]2(N)C#N  \n",
       "\n",
       "[5 rows x 21 columns]"
      ]
     },
     "execution_count": 5,
     "metadata": {},
     "output_type": "execute_result"
    }
   ],
   "source": [
    "sample_size = 50000\n",
    "\n",
    "df = df.sample(n=sample_size, axis=0, random_state=42)\n",
    "\n",
    "df.head()"
   ]
  },
  {
   "cell_type": "markdown",
   "metadata": {},
   "source": [
    "#### Tokenization"
   ]
  },
  {
   "cell_type": "code",
   "execution_count": 7,
   "metadata": {},
   "outputs": [],
   "source": [
    "# This tokenizer is adapted from https://github.com/deepchem/deepchem/blob/master/deepchem/feat/smiles_tokenizer.py\n",
    "class BasicSmilesTokenizer(object):\n",
    "    def __init__(self):\n",
    "        self.regex_pattern = r\"\"\"(\\[[^\\]]+]|Br?|Cl?|N|O|S|P|F|I|b|c|n|o|s|p|\\(|\\)|\\.|=|#|-|\\+|\\\\|\\/|:|~|@|\\?|>>?|\\*|\\$|\\%[0-9]{2}|[0-9])\"\"\"\n",
    "        self.regex = re.compile(self.regex_pattern)        \n",
    "    \n",
    "    def tokenize(self, smiles):\n",
    "        tokens = [token for token in self.regex.findall(smiles)]\n",
    "        return tokens"
   ]
  },
  {
   "cell_type": "code",
   "execution_count": 8,
   "metadata": {},
   "outputs": [
    {
     "name": "stdout",
     "output_type": "stream",
     "text": [
      "C C O c 1 c c c 2 n c ( S ( N ) ( = O ) = O ) s c 2 c 1\n"
     ]
    }
   ],
   "source": [
    "tokenizer = BasicSmilesTokenizer()\n",
    "print(' '.join(tokenizer.tokenize('CCOc1ccc2nc(S(N)(=O)=O)sc2c1')))"
   ]
  },
  {
   "cell_type": "code",
   "execution_count": 9,
   "metadata": {},
   "outputs": [
    {
     "data": {
      "text/plain": [
       "[('C', 196880),\n",
       " ('1', 96426),\n",
       " ('O', 66869),\n",
       " ('2', 48720),\n",
       " ('(', 44049),\n",
       " (')', 44049),\n",
       " ('[C@H]', 43037),\n",
       " ('=', 30497),\n",
       " ('[C@@H]', 29039),\n",
       " ('c', 26996),\n",
       " ('N', 26979),\n",
       " ('#', 13961),\n",
       " ('3', 12690),\n",
       " ('n', 10839),\n",
       " ('[C@]', 9456),\n",
       " ('[C@@]', 8877),\n",
       " ('[NH-]', 3395),\n",
       " ('o', 3101),\n",
       " ('[nH]', 2914),\n",
       " ('[N@H+]', 2875),\n",
       " ('/', 2126),\n",
       " ('[N@@H+]', 2102),\n",
       " ('[NH2+]', 1846),\n",
       " ('4', 1744),\n",
       " ('[CH+]', 1468),\n",
       " ('F', 1256),\n",
       " ('[NH+]', 629),\n",
       " ('[H]', 619),\n",
       " ('\\\\', 566),\n",
       " ('[nH+]', 492)]"
      ]
     },
     "execution_count": 9,
     "metadata": {},
     "output_type": "execute_result"
    }
   ],
   "source": [
    "tokenized_smiles = [tokenizer.tokenize(s) for s in df['smiles']]\n",
    "tokens = Counter(c for s in tokenized_smiles for c in s)\n",
    "\n",
    "tokens.most_common(30)"
   ]
  },
  {
   "cell_type": "code",
   "execution_count": 10,
   "metadata": {},
   "outputs": [],
   "source": [
    "seq_len = max([len(toks) for toks in tokenized_smiles])\n",
    "vocab_size = 30\n",
    "\n",
    "vocab   = [tok for tok,_ in tokens.most_common(vocab_size)] \n",
    "token_to_index = {t:i for i,t in enumerate(vocab)}"
   ]
  },
  {
   "cell_type": "markdown",
   "metadata": {},
   "source": [
    "#### One hot encoding"
   ]
  },
  {
   "cell_type": "code",
   "execution_count": 11,
   "metadata": {},
   "outputs": [
    {
     "data": {
      "text/plain": [
       "(50000, 27, 30)"
      ]
     },
     "execution_count": 11,
     "metadata": {},
     "output_type": "execute_result"
    }
   ],
   "source": [
    "X = np.zeros((len(tokenized_smiles), seq_len, vocab_size))\n",
    "for i, tokens in enumerate(tokenized_smiles):\n",
    "    for k, token in enumerate(tokens):\n",
    "        n = token_to_index.get(token, vocab_size-1)\n",
    "        X[i, k, n] = 1\n",
    "\n",
    "X.shape"
   ]
  },
  {
   "cell_type": "code",
   "execution_count": 12,
   "metadata": {},
   "outputs": [],
   "source": [
    "y = df['mu'].to_numpy()\n",
    "y = (y - y.mean()) / y.std()"
   ]
  },
  {
   "cell_type": "code",
   "execution_count": 13,
   "metadata": {},
   "outputs": [],
   "source": [
    "train_batch_size = 64   \n",
    "n_test = n_val = 5000\n",
    "n_train = 40000\n",
    "\n",
    "dataset = TensorDataset(torch.Tensor(X), torch.Tensor(y))\n",
    "\n",
    "data_train, data_val, data_test = torch.utils.data.random_split(dataset, [n_train, n_val, n_test], generator=torch.Generator().manual_seed(42))    \n",
    "\n",
    "train_loader = DataLoader(data_train, batch_size=train_batch_size, shuffle=True, generator=torch.Generator().manual_seed(42)) \n",
    "val_loader = DataLoader(data_val, batch_size=1, shuffle=True, generator=torch.Generator().manual_seed(42)) \n",
    "test_loader = DataLoader(data_test, batch_size=1, shuffle=True, generator=torch.Generator().manual_seed(42))"
   ]
  },
  {
   "cell_type": "markdown",
   "metadata": {},
   "source": [
    "### Models"
   ]
  },
  {
   "cell_type": "code",
   "execution_count": 14,
   "metadata": {},
   "outputs": [],
   "source": [
    "class RNNRegressionModel(nn.Module):\n",
    "    def __init__(self, input_size, hidden_size=32, num_layers=1):\n",
    "        super(RNNRegressionModel, self).__init__()\n",
    "        self.hidden_size = hidden_size\n",
    "        self.num_layers = num_layers\n",
    "        self.rnn = nn.RNN(input_size, hidden_size, num_layers, batch_first=True)\n",
    "        self.fc = nn.Linear(hidden_size, 1)\n",
    "        self.dropout = nn.Dropout(p=.2)\n",
    "        \n",
    "    def forward(self, x):\n",
    "        h0 = torch.zeros(self.num_layers, x.size(0), self.hidden_size).to(device) \n",
    "        out, hn = self.rnn(x, h0)\n",
    "        out = out[:, -1]\n",
    "        out = self.dropout(out)\n",
    "        out = self.fc(out)\n",
    "        return out\n",
    "    \n",
    "    \n",
    "class GRURegressionModel(nn.Module):\n",
    "    def __init__(self, input_size, hidden_size=32, num_layers=1):\n",
    "        super(GRURegressionModel, self).__init__()\n",
    "        self.hidden_size = hidden_size\n",
    "        self.num_layers = num_layers\n",
    "        self.gru = nn.GRU(input_size, hidden_size, num_layers, batch_first=True) \n",
    "        self.fc = nn.Linear(hidden_size, 1)  \n",
    "        self.dropout = nn.Dropout(p=.2)\n",
    "        \n",
    "    def forward(self, x):\n",
    "        h0 = torch.zeros(self.num_layers, x.size(0), self.hidden_size).to(device) \n",
    "        out, hn = self.gru(x, h0)\n",
    "        out = out[:, -1]\n",
    "        out = self.dropout(out)\n",
    "        out = self.fc(out)\n",
    "        return out"
   ]
  },
  {
   "cell_type": "markdown",
   "metadata": {},
   "source": [
    "### Training"
   ]
  },
  {
   "cell_type": "code",
   "execution_count": 15,
   "metadata": {},
   "outputs": [],
   "source": [
    "def train_model(model, criterion, optimizer, loader, clip_gradients=False):\n",
    "    model.train()\n",
    "    epoch_loss = 0\n",
    "    batch_losses = []\n",
    "    \n",
    "    for i, (X_batch, y_batch) in enumerate(loader):\n",
    "        X_batch, y_batch = X_batch.to(device), y_batch.to(device)\n",
    "        optimizer.zero_grad()\n",
    "        y_pred = model(X_batch)\n",
    "        loss = criterion(y_pred, y_batch.unsqueeze(1))\n",
    "        loss.backward()\n",
    "        \n",
    "        if clip_gradients:\n",
    "            torch.nn.utils.clip_grad_norm_(model.parameters(), max_norm=1, norm_type=2)\n",
    "        \n",
    "        optimizer.step()\n",
    "        epoch_loss += loss.item()\n",
    "        batch_losses.append(loss.item())\n",
    "\n",
    "    return epoch_loss/len(loader), batch_losses\n",
    "\n",
    " \n",
    "def eval_model(model, criterion, loader):   \n",
    "    model.eval()\n",
    "    test_loss = 0\n",
    "    predictions = []\n",
    "    targets = []\n",
    "    with torch.no_grad():\n",
    "        for X_batch, y_batch in loader:\n",
    "            X_batch, y_batch = X_batch.to(device), y_batch.to(device)\n",
    "            y_pred = model(X_batch)\n",
    "            loss = criterion(y_pred, y_batch.unsqueeze(1))\n",
    "            test_loss += loss.item()\n",
    "            predictions.append(y_pred.detach().numpy())\n",
    "            targets.append(y_batch.unsqueeze(1).detach().numpy())\n",
    "\n",
    "    predictions = np.concatenate(predictions).flatten()\n",
    "    targets = np.concatenate(targets).flatten()\n",
    "    \n",
    "    return test_loss/len(loader), predictions, targets"
   ]
  },
  {
   "cell_type": "code",
   "execution_count": 16,
   "metadata": {},
   "outputs": [],
   "source": [
    "class ModelTrainer(object):\n",
    "    def __init__(self, model, lr, name=None, clip_gradients=False):\n",
    "        self.model = model\n",
    "        self.lr = lr\n",
    "        self.criterion = torch.nn.MSELoss()\n",
    "        self.optimizer = torch.optim.Adam(self.model.parameters(), self.lr)\n",
    "        self.clip_gradients = clip_gradients\n",
    "        self.model.to(device)\n",
    "        \n",
    "        self.train_loss = []\n",
    "        self.batch_loss = []\n",
    "        self.test_loss  = []\n",
    "    \n",
    "    def _train_epoch(self, loader):\n",
    "        self.model.train()\n",
    "        epoch_loss = 0\n",
    "        batch_losses = []\n",
    "        for i, (X_batch, y_batch) in enumerate(loader):\n",
    "            X_batch, y_batch = X_batch.to(device), y_batch.to(device)\n",
    "            self.optimizer.zero_grad()\n",
    "            y_pred = self.model(X_batch)\n",
    "            loss = self.criterion(y_pred, y_batch.unsqueeze(1))\n",
    "            loss.backward()\n",
    "            \n",
    "            if self.clip_gradients:\n",
    "                torch.nn.utils.clip_grad_norm_(self.model.parameters(), max_norm=1, norm_type=2)\n",
    "            \n",
    "            self.optimizer.step()\n",
    "            epoch_loss += loss.item()\n",
    "            batch_losses.append(loss.item())\n",
    "        \n",
    "        return epoch_loss/len(loader), batch_losses\n",
    "    \n",
    "    def _eval_epoch(self, loader):\n",
    "        self.model.eval()\n",
    "        test_loss = 0\n",
    "        predictions = []\n",
    "        targets = []\n",
    "        with torch.no_grad():\n",
    "            for X_batch, y_batch in loader:\n",
    "                X_batch, y_batch = X_batch.to(device), y_batch.to(device)\n",
    "                y_pred = self.model(X_batch)\n",
    "                loss = self.criterion(y_pred, y_batch.unsqueeze(1))\n",
    "                test_loss += loss.item()\n",
    "                predictions.append(y_pred.detach().numpy())\n",
    "                targets.append(y_batch.unsqueeze(1).detach().numpy())\n",
    "        \n",
    "        predictions = np.concatenate(predictions).flatten()\n",
    "        targets = np.concatenate(targets).flatten()\n",
    "        return test_loss/len(loader), predictions, targets\n",
    "    \n",
    "    def train(self, train_loader, test_loader, n_epochs, print_every=10):\n",
    "        for e in range(n_epochs):\n",
    "            train_loss, train_loss_batches = self._train_epoch(train_loader)\n",
    "            test_loss, _, _ = self._eval_epoch(test_loader)\n",
    "            self.batch_loss += train_loss_batches\n",
    "            self.train_loss.append(train_loss)\n",
    "            self.test_loss.append(test_loss)\n",
    "            if e % print_every == 0:\n",
    "                print(f'Epoch {e+0:03} | train_loss: {train_loss:.5f} | test_loss: {test_loss:.5f}')\n",
    "    \n",
    "    def validate(self, val_loader):\n",
    "        loss, y_pred, y_targ = self._eval_epoch(val_loader)\n",
    "        return loss, y_pred, y_targ"
   ]
  },
  {
   "cell_type": "code",
   "execution_count": 17,
   "metadata": {},
   "outputs": [],
   "source": [
    "input_size = X.shape[2]\n",
    "learning_rate = 1e-3\n",
    "\n",
    "model_rnn = ModelTrainer(\n",
    "    model=RNNRegressionModel(input_size),\n",
    "    lr=learning_rate,\n",
    ")"
   ]
  },
  {
   "cell_type": "code",
   "execution_count": 18,
   "metadata": {},
   "outputs": [
    {
     "name": "stdout",
     "output_type": "stream",
     "text": [
      "Epoch 000 | train_loss: 0.97890 | test_loss: 0.89825\n",
      "Epoch 010 | train_loss: 0.58709 | test_loss: 0.58682\n",
      "Epoch 020 | train_loss: 0.52529 | test_loss: 0.53558\n",
      "Epoch 030 | train_loss: 0.50315 | test_loss: 0.51534\n",
      "Epoch 040 | train_loss: 0.48645 | test_loss: 0.49958\n",
      "Epoch 050 | train_loss: 0.48438 | test_loss: 0.49776\n"
     ]
    }
   ],
   "source": [
    "model_rnn.train(train_loader, test_loader, 51)"
   ]
  },
  {
   "cell_type": "code",
   "execution_count": 21,
   "metadata": {},
   "outputs": [],
   "source": [
    "learning_rate = 1e-3\n",
    "\n",
    "model_gru = ModelTrainer(\n",
    "    model=GRURegressionModel(input_size),\n",
    "    lr=learning_rate,\n",
    ")"
   ]
  },
  {
   "cell_type": "code",
   "execution_count": 22,
   "metadata": {},
   "outputs": [
    {
     "name": "stdout",
     "output_type": "stream",
     "text": [
      "Epoch 000 | train_loss: 0.75178 | test_loss: 0.59978\n",
      "Epoch 010 | train_loss: 0.44454 | test_loss: 0.41863\n",
      "Epoch 020 | train_loss: 0.38213 | test_loss: 0.39115\n",
      "Epoch 030 | train_loss: 0.34844 | test_loss: 0.35323\n",
      "Epoch 040 | train_loss: 0.32392 | test_loss: 0.33633\n",
      "Epoch 050 | train_loss: 0.30527 | test_loss: 0.32454\n"
     ]
    }
   ],
   "source": [
    "model_gru.train(train_loader, test_loader, 51)"
   ]
  },
  {
   "cell_type": "markdown",
   "metadata": {},
   "source": [
    "### Evaluation"
   ]
  },
  {
   "cell_type": "code",
   "execution_count": 23,
   "metadata": {},
   "outputs": [
    {
     "data": {
      "image/png": "[encoded data removed]",
      "text/plain": [
       "<Figure size 640x480 with 1 Axes>"
      ]
     },
     "metadata": {},
     "output_type": "display_data"
    }
   ],
   "source": [
    "\n",
    "_ = plt.plot(model_rnn.train_loss, label=f'RNN train')\n",
    "_ = plt.plot(model_rnn.test_loss, label=f'RNN test')\n",
    "_ = plt.plot(model_gru.train_loss, label=f'RNN train')\n",
    "_ = plt.plot(model_gru.test_loss, label=f'RNN test')\n",
    "_ = plt.xlabel('epoch')\n",
    "_ = plt.ylabel('MSE')\n",
    "_ = plt.legend()"
   ]
  },
  {
   "cell_type": "code",
   "execution_count": 24,
   "metadata": {},
   "outputs": [
    {
     "name": "stdout",
     "output_type": "stream",
     "text": [
      "RNN Validation loss: 0.523\n",
      "GRU Validation loss: 0.338\n"
     ]
    },
    {
     "data": {
      "image/png": "[encoded data removed]",
      "text/plain": [
       "<Figure size 900x500 with 2 Axes>"
      ]
     },
     "metadata": {},
     "output_type": "display_data"
    }
   ],
   "source": [
    "f, axarr = plt.subplots(1, 2, figsize=(9,5), constrained_layout=True)\n",
    "\n",
    "f.suptitle('Ground truth vs predicted values')\n",
    "\n",
    "loss, y_pred, y_targ = model_rnn.validate(val_loader)\n",
    "print(f'RNN Validation loss: {loss:.3f}')\n",
    "\n",
    "_ = axarr[0].scatter(y_pred, y_targ, alpha=.5, s=.5)\n",
    "_ = axarr[0].plot([-2,9],[-2,9], lw=.4, c='r')\n",
    "_ = axarr[0].set_title('RNN')\n",
    "\n",
    "loss, y_pred, y_targ = model_gru.validate(val_loader)\n",
    "print(f'GRU Validation loss: {loss:.3f}')\n",
    "\n",
    "_ = axarr[1].scatter(y_pred, y_targ, alpha=.5, s=.5)\n",
    "_ = axarr[1].plot([-2,9],[-2,9], lw=.4, c='r')\n",
    "_ = axarr[1].set_title('GRU')\n",
    "\n",
    "for ax in axarr:\n",
    "    _ = ax.set_xlabel('y_pred')\n",
    "    _ = ax.set_ylabel('y_true')"
   ]
  },
  {
   "cell_type": "code",
   "execution_count": null,
   "metadata": {},
   "outputs": [],
   "source": []
  },
  {
   "cell_type": "markdown",
   "metadata": {},
   "source": [
    "## Discussion\n",
    "\n",
    "Wrap up the talktorial's content here and discuss pros/cons and open questions/challenges."
   ]
  },
  {
   "cell_type": "markdown",
   "metadata": {},
   "source": [
    "## Quiz\n",
    "\n",
    "Ask three questions that the user should be able to answer after doing this talktorial. Choose important take-aways from this talktorial for your questions.\n",
    "\n",
    "1. Another approach to handling sequential data would be to concatenate the input sequence into one vector and use it as an input to a feed-forward network. What benefits do RNNs have compared to this approach?\n",
    "2. Question\n",
    "3. Question"
   ]
  },
  {
   "cell_type": "markdown",
   "metadata": {},
   "source": [
    "<div class=\"alert alert-block alert-info\">\n",
    "\n",
    "<b>Useful checks at the end</b>: \n",
    "    \n",
    "<ul>\n",
    "<li>Clear output and rerun your complete notebook. Does it finish without errors?</li>\n",
    "<li>Check if your talktorial's runtime is as excepted. If not, try to find out which step(s) take unexpectedly long.</li>\n",
    "<li>Flag code cells with <code># NBVAL_CHECK_OUTPUT</code> that have deterministic output and should be tested within our Continuous Integration (CI) framework.</li>\n",
    "</ul>\n",
    "\n",
    "</div>"
   ]
  },
  {
   "cell_type": "code",
   "execution_count": null,
   "metadata": {},
   "outputs": [],
   "source": []
  }
 ],
 "metadata": {
  "kernelspec": {
   "display_name": "Python [conda env:pytorch]",
   "language": "python",
   "name": "conda-env-pytorch-py"
  },
  "language_info": {
   "codemirror_mode": {
    "name": "ipython",
    "version": 3
   },
   "file_extension": ".py",
   "mimetype": "text/x-python",
   "name": "python",
   "nbconvert_exporter": "python",
   "pygments_lexer": "ipython3",
   "version": "3.10.8"
  },
  "widgets": {
   "application/vnd.jupyter.widget-state+json": {
    "state": {},
    "version_major": 2,
    "version_minor": 0
   }
  }
 },
 "nbformat": 4,
 "nbformat_minor": 4
}
