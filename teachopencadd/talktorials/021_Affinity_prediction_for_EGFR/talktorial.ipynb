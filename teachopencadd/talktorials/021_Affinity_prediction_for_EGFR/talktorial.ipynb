{
 "cells": [
  {
   "cell_type": "markdown",
   "metadata": {},
   "source": [
    "# T022 - Ligand-based screening: Neural networks\n",
    "\n",
    "Developed in the CADD seminar 2020, Volkamer Lab, Charité/FU Berlin \n",
    "\n",
    "Authors : \n",
    "- Ahmed Atta, CADD Seminar 2020, Charité/FU Berlin\n",
    "- Sakshi Misra, [Volkamer lab](https://volkamerlab.org), Charité\n",
    "- Talia B. Kimber, [Volkamer lab](https://volkamerlab.org), Charité\n",
    "- Prof. Dr. Andrea Volkamer, [Volkamer lab](https://volkamerlab.org), Charité"
   ]
  },
  {
   "cell_type": "markdown",
   "metadata": {},
   "source": [
    "## Aim of this talktorial\n",
    "\n",
    "In recent years, use of neural networks in pharmaceutical research has shown promise in addressing diverse problems in drug discovery. In this talktorial, we will get familiar with the basic structure of the artificial neural network. Furthermore, we will learn how to build a simple two layer neural network model and use it to predict the pIC50 values of unknown compounds against our target of interest (EGFR)."
   ]
  },
  {
   "cell_type": "markdown",
   "metadata": {},
   "source": [
    "### Contents in *Theory*\n",
    "\n",
    "- Biological background\n",
    "    - EGFR\n",
    "    - Compound activity measures\n",
    "    - Molecule encoding\n",
    "- What is a neural network ?\n",
    "- Basic structure of a neural network\n",
    "- What does a neuron do?\n",
    "- Activation functions\n",
    "    - Types of activation functions\n",
    "       - Step function\n",
    "       - Linear activation function\n",
    "       - Non-linear activation function\n",
    "- Loss function\n",
    "- How to train a neural network\n",
    "    - Backpropagation\n",
    "    - Gradient descent\n",
    "- Types of neural network\n",
    "    - Artifical neural network(ANN)\n",
    "    - Recurrent neural network(RNN)\n",
    "    - Convolution neural network(CNN)\n",
    "- Advantages and applications of neural network"
   ]
  },
  {
   "cell_type": "markdown",
   "metadata": {},
   "source": [
    "### Contents in *Practical*\n",
    "\n",
    "- Load data and visualize the dataframe\n",
    "- Data preparation: molecule encoding\n",
    "- Define keras model\n",
    "- Choose the most appropriate batch sizes\n",
    "- Fit keras model\n",
    "- Evaluate keras model\n",
    "- Prediction on test data\n",
    "- Model evaluation on test data\n",
    "- Plotting to compare the distribution of pIC50 values"
   ]
  },
  {
   "cell_type": "markdown",
   "metadata": {},
   "source": [
    "### References\n",
    "\n",
    " - Theoretical background:\n",
    "     - Blogpost: Imad Dabbura, *Coding Neural Network — Forward Propagation and Backpropagtion*, [towards data science, accessed April 1st, 2018](https://towardsdatascience.com/coding-neural-network-forward-propagation-and-backpropagtion-ccf8cf369f76).\n",
    "     - Blogpost: Lavanya Shukla, *Designing Your Neural Networks*, [towardsdatascience, accessed Sep 23rd, 2019](https://towardsdatascience.com/designing-your-neural-networks-a5e4617027ed)\n",
    "     - Blogpost: Arthur Arnx, *First neural network for beginners explained (with code)*, [towardsdatascience, accessed Jan 13th, 2019](https://towardsdatascience.com/first-neural-network-for-beginners-explained-with-code-4cfd37e06eaf) \n",
    "     - Activation functions: Siddharth Sharma, \"ACTIVATION FUNCTIONS IN NEURAL NETWORKS\". [_International Journal of Engineering Applied Sciences and Technology, 2020_ **Vol. 4, Issue 12,**, 310-316 (2020).](https://www.ijeast.com/papers/310-316,Tesma412,IJEAST.pdf)\n",
    "     - Blogpost: Varun Divakar, *Understanding Backpropagation*, [QuantInst, accessed Nov 19th, 2018](https://blog.quantinsti.com/backpropagation/) \n",
    "     - Blogpost: ARAVIND PAI, *CNN vs. RNN vs. ANN – Analyzing 3 Types of Neural Networks in Deep Learning*, [Analytics Vidya, accessed Feb 17th, 2020](https://towardsdatascience.com/first-neural-network-for-beginners-explained-with-code-4cfd37e06eaf) \n",
    "     \n",
    "     \n",
    "- Packages used:\n",
    "     - [keras](https://keras.io/): Book chapter: \"An Introduction to Deep Learning and Keras\" in [*Learn Keras for Deep Neural Networks* (2019), **page(s):1-16**](https://doi.org/10.1007/978-1-4842-4240-7).\n",
    "     - [Sequential model](https://keras.io/api/models/sequential/) in keras"
   ]
  },
  {
   "cell_type": "markdown",
   "metadata": {},
   "source": [
    "## Theory"
   ]
  },
  {
   "cell_type": "markdown",
   "metadata": {},
   "source": [
    "### Biological background"
   ]
  },
  {
   "cell_type": "markdown",
   "metadata": {},
   "source": [
    "#### EGFR\n",
    "\n",
    "- [Epidermal growth factor receptor (EGFR)](https://de.wikipedia.org/wiki/EGF-Rezeptor) is a transmembrane protein/receptor present on the cell membrane. It is a member of the ErbB family of receptors. They have an extracellular binding  component/domain, a hydrphobic transmembrane component/domain and an intracelluar tyrosine kinase component/domain. \n",
    "\n",
    "- EGFRs play an important role in controlling normal cell growth, apoptosis and other cellular functions. \n",
    "\n",
    "- It is activated by binding of its specific ligands, upon activation by its growth factor ligands EGFR undergoes a transition from an inactive monomeric form to an active homodimers.\n",
    "\n",
    "- The EGFR receptor is upregulated in various types of tumors or cancers, so an EGFR inhibition is a type of biological therapy that might stop cancer cell from growing."
   ]
  },
  {
   "cell_type": "markdown",
   "metadata": {},
   "source": [
    "#### Compound activity measures\n",
    "\n",
    "**IC50** is the half maximal inhibitory concentration of the drug which indicates how much a drug is needed to inhibit a biological process by half and in our case the epidermal growth factor receptor as its inhibition helps in slow down or stop cancer cell growth. \n",
    "\n",
    "**pIC50** is the negative log of the IC50 value. It is easy for the interpretation and common to measure the potency of compounds (Please refer to [talktorial 001](https://github.com/volkamerlab/teachopencadd/blob/master/teachopencadd/talktorials/T001_query_chembl/talktorial.ipynb) for further details.)"
   ]
  },
  {
   "cell_type": "markdown",
   "metadata": {},
   "source": [
    "#### Molecule encoding\n",
    "\n",
    "For machine learning algorithms, molecules need to be converted into a list of features, in this case molecular fingerprints are used. \n",
    "\n",
    "Molecular fingerprints represents or encoded the chemical structures and molecular features in bitstrings form, where at each position \"1\" represents the presence and \"0\" represents the absence of a feature.\n",
    "\n",
    "One of the common fingerprints used is **M**olecular **ACC**ess **S**ystem fingerprints [(MACCS Keys)](https://docs.eyesopen.com/toolkits/python/graphsimtk/fingerprint.html#maccs) which are 166 bits structural key descriptors in which each bit is associated with a [SMARTS](https://docs.eyesopen.com/toolkits/python/oechemtk/glossary.html#term-smarts) pattern (Please refer to [talktorial 004](https://github.com/volkamerlab/teachopencadd/blob/master/teachopencadd/talktorials/T004_compound_similarity/talktorial.ipynb) for further details.)"
   ]
  },
  {
   "cell_type": "markdown",
   "metadata": {},
   "source": [
    "### What is a neural network?\n",
    "\n",
    "Neural networks, also known as artificial neural networks (ANNs) are subset of machine learning algorithms. The structure and the name of the neural network is inspired by the human brain, mimicking the way that biological neurons transfers signal to one another.\n",
    "Artificial neural networks (ANNs) are comprised of node layers, containing an input layer, one or more hidden layers, and an output layer. Neurons are the core processing unit of the network. The operations of a complete neural network is straightforward: input layer receives the input and the output layer predicts our final output. In between there exists hidden layers which performs the computations required by our network. \n",
    "\n",
    "Each node, or artificial neuron, connects to another via channels meaning a neuron of the column *n* can only be connected to neurons from column *n-1* and *n+1*. Every neural connection or channel has an associated numerical value known as weights. If the output of any individual neuron is above certain threshold value, that node is activated, meaning sending data to the next layer of the network. Otherwise, no data is passed along to the next layer of the network. We will discuss more about the structure in the next section.\n",
    "\n",
    "<div>\n",
    "<img src=\"images/neural_network.png\" width=\"500\"/>\n",
    "</div>\n",
    "\n",
    "*Figure 1:* Representation of a two-layer neural network. Figure is taken from the article [Coding Neural Network — Forward Propagation and Backpropagtion](https://towardsdatascience.com/coding-neural-network-forward-propagation-and-backpropagtion-ccf8cf369f76)\n",
    "\n"
   ]
  },
  {
   "cell_type": "markdown",
   "metadata": {},
   "source": [
    "### Basic structure of a neural network\n",
    "\n",
    "Neural network consists of three main layers as shown below:\n",
    "1. Input layer\n",
    "2. Hidden layers \n",
    "3. Output layer \n",
    "\n",
    "<div>\n",
    "<img src=\"images/basic_structure.png\" width=\"500\"/>\n",
    "</div>\n",
    "\n",
    "*Figure 2:* Figure shows the basic structure of a neural network. It is taken from the article: \"*Designing Your Neural Networks*\", Lavanya Shukla, [towardsdatascience](https://towardsdatascience.com/designing-your-neural-networks-a5e4617027ed)\n",
    "\n",
    "Lets take a deeper look at each layer,\n",
    "\n",
    "\n",
    "- **Input neurons or input layer**\n",
    "   - This layers represents the number of features which are used to make the predictions.\n",
    "   - The input vector needs one input neuron per feature. For example as shown in the figure below, the image is composed of 28 * 28 = 784 pixels, each pixel will be fed as input to each neuron of the first input layer.\n",
    "   \n",
    " \n",
    "<div>\n",
    "<img src=\"images/input_vector.png\" width=\"500\"/>\n",
    "</div>\n",
    "\n",
    "*Figure 3:* Figure shows a hand written digit composed of 784 pixels which is given as an input to our first input layer neurons. It is taken from the article: \"*Designing Your Neural Networks*\", Lavanya Shukla, [towardsdatascience](https://towardsdatascience.com/designing-your-neural-networks-a5e4617027ed)\n",
    "\n",
    "\n",
    "- **Hidden layers and neurons per hidden layers**\n",
    "    - The number of hidden layers and the neurons is totally dependent on the type of the problem and how much deep a neural network you want. In general, using same number of neurons for all hidden layers will suffice but for some datasets, having a large first layer and following it up with smaller layers will lead to a better performance as first layer can learn a lot of low-level features that can feed into the next subsequent layers which can learn higher order features.\n",
    "    - In the figure below, the input was a dog image broken into pixels, then several layers learn the different features and finally the network outputs it as a dog.\n",
    "\n",
    "<div>\n",
    "<img src=\"images/layer.png\" width=\"500\"/>\n",
    "</div>\n",
    "\n",
    "*Figure 4:* Figure shows the hidden layers learning certain features of a dog image. It taken from the article: \"*Designing Your Neural Networks*\", Lavanya Shukla, [towardsdatascience](https://towardsdatascience.com/designing-your-neural-networks-a5e4617027ed)\n",
    "\n",
    "\n",
    "- **Output neurons or output layer**\n",
    "  - Output layer contains the number of neurons which represents the number of predictions you want to make and the neuron with highest value probability determines the output.\n",
    "  - **Regression**: For regressions tasks, this can be a value like predicting the price of the house or predicting stock prices.\n",
    "  - **Classification**: For binary classification tasks, we have output neuron per positive class which represents the probability of the positive class whereas for multi-class classification, we have an output neuron per class and we use the certain activation function on the output layer to ensure the final probabilities sum to 1."
   ]
  },
  {
   "cell_type": "markdown",
   "metadata": {},
   "source": [
    "### What does a neuron do ?\n",
    "\n",
    "Neurons are the basic units of a neural network, so lets understand the operations done by each neuron:\n",
    "\n",
    "<div>\n",
    "<img src=\"images/neuron.png\" width=\"500\"/>\n",
    "</div>\n",
    "\n",
    "*Figure 5:* Operations done by a neuron. Figure is taken from the artcile [First neural network for beginners explained (with code)](https://towardsdatascience.com/first-neural-network-for-beginners-explained-with-code-4cfd37e06eaf)\n",
    "\n",
    "- First, the values from the previous layer's neurons adds up and sent to the current neuron. In the figure above, there are 3 inputs (*X1, X2, X3*) coming to the neuron, meaning 3 neurons are connected to our current neuron. \n",
    "- Each connection or channel has assigned a numerical value known as **weight**(*w1, w2, w3*). Weight determines the connection between the neurons or in other words, a weight decides how much influence the input will have on the output. The inputs are multiplied by the corresponding weights and their sum is sent as input to the neurons in the hidden layer.\n",
    "- Each of these neurons is associated with a numerical value called the **bias** which is then added to the input sum.\n",
    "- Both weights and bias, commonly referred to as *w* and *b*, are the learnable parameters which can be tuned while training the model to get the better performance of a model. The equation below summarises the operations done by our neuron:\n",
    "\n",
    "$$Y = \\sum(w1*x1 + w2*x2 + w3*x3) + bias$$ \n",
    "\n",
    "- After all those summations, the value is then passed through a threshold function called the **activation function**. The result of the activation function determines if the particular neuron will get activated or not. An activated neuron transmits data to the neuron of the next layer over the channels. In this manner the data is propagated through the network which is known as **forward propagation**. There are many types of activation functions which we will discuss in detail in the next section."
   ]
  },
  {
   "cell_type": "markdown",
   "metadata": {},
   "source": [
    "### Activation function\n",
    "\n",
    "#### What is a activation function?\n",
    "\n",
    "[Activation function](https://en.wikipedia.org/wiki/Activation_function) are the mathematical equations that determine the output of a neural network. Each neuron is applied by this function and it determines whether the neuron should be activated or not. \n",
    "\n",
    "The value of **Y** can be anything ranging from -inf to +inf . The neuron doesn't know the bounds of the value, so how do we decide whether the neuron should be activated or not? Then, the activation functions comes into the picture which helps in normalizing the output of each neuron to a range between 1 and 0 or between -1 and 1 depending on the type of the activation function used. Activation function simply works as a \"gate\" in between the input feeding the current neuron and its output going to the next layer as shown below, \n",
    "\n",
    "<div>\n",
    "<img src=\"images/activation.png\" width=\"500\"/>\n",
    "</div>\n",
    "\n",
    "*Figure 6:* Figure shows the activation function applied on a neuron. It is taken from the blogpost: [7 Types of Neural Network Activation Functions: How to Choose?](https://missinglink.ai/guides/neural-network-concepts/7-types-neural-network-activation-functions-right/)"
   ]
  },
  {
   "cell_type": "markdown",
   "metadata": {},
   "source": [
    "#### Types of activation function\n",
    "\n",
    "Activation functions can be basically divided into 3 types:\n",
    "\n",
    "##### Binary step function:\n",
    "\n",
    "It is a threshold-based activation function. Activation functions can be as simple as a [step function](https://en.wikipedia.org/wiki/Step_function) that turns the neuron's output \"on\" or simply neuron is activated when the **Y** value is above threshold, otherwise its \"off\". Simply put in an equation:\n",
    "\n",
    "\\begin{equation}\n",
    "\\text{Activation function(A)} = \\text{\"activated\" if Y > threshold, else not}\n",
    "\\end{equation}\n",
    "\n",
    "\\begin{equation}\n",
    "\\text{Alternatively, A = 1 if Y > threshold, 0 otherwise}\n",
    "\\end{equation}\n",
    "\n",
    "<div>\n",
    "<img src=\"images/step.png\" width=\"300\"/>\n",
    "</div>\n",
    "\n",
    "*Figure 7:* Representation of a step function. Figure is take from the blogpost: [7 Types of Neural Network Activation Functions: How to Choose?](https://missinglink.ai/guides/neural-network-concepts/7-types-neural-network-activation-functions-right/)\n",
    "\n",
    "Step function can work great with binary classifiers but it does not allow multi-value output for examples if we want to build a multi-class classifier model, we would want the network to activate only 1 neuron and others should be 0 but it won't be possible with a step function."
   ]
  },
  {
   "cell_type": "markdown",
   "metadata": {},
   "source": [
    "##### Linear activation function: \n",
    "\n",
    "A linear activation function takes the form:\n",
    "$$\\boxed{A = cx}$$\n",
    "\n",
    "<div>\n",
    "<img src=\"images/linear.png\" width=\"300\"/>. \n",
    "</div>\n",
    "\n",
    "*Figure 8:* Representation of a linear activation function. Figure is take from the blogpost: [7 Types of Neural Network Activation Functions: How to Choose?](https://missinglink.ai/guides/neural-network-concepts/7-types-neural-network-activation-functions-right/) \n",
    "\n",
    "It is a straight line function where the activation is proportional to input which is the weighted sum from neuron. It is better than a step function function because it gives range of activations, meaning multiple output is possible not just yes or no. But it also has some limitations:\n",
    "\n",
    "1. **Not possible to use backpropagation(gradient descent)** to train the model because the derivative of a linear function is a constant and has no relation with input so it is not possible to go back and tune weights in the network.\n",
    "\n",
    "2. **All layers will collapse into one**, with linear activation functions, no matter how many layers are the there in the neural network, if all are linear in nature, the final layer will be a linear functions of the first layer because a linear combination of linear functions will still be a linear function.\n",
    "That means two layers or N layers can be replaced by a single layer, so a linear activation function will turn the whole neural network into just one layer."
   ]
  },
  {
   "cell_type": "markdown",
   "metadata": {},
   "source": [
    "##### Non-linear activation function:\n",
    "\n",
    "Non-linear function addressed the problems of a linear activation function. Most neural networks uses non-linear activation functions as it makes easy for the model to generalize or adapt with variety of data and to differentiate between the output.\n",
    "\n",
    "There are many types of non-linear activation functions, we will discuss 4 most commonly used activation function (you can also refer the supplementary section to see how the functions are defined and plotted).\n",
    "\n",
    "\n",
    "1) **Sigmoid function (σ)**: It takes the form: $$\\boxed{f(x)=\\frac{1}{1+e^{−x}}}$$ \n",
    "\n",
    "   -  The sigmoid curve looks like a *S*-shaped curve as shown in the figure below. \n",
    "   - It has a \"smooth gradient\" which prevents jumps in the output values and it bound the output values between 0 and 1.\n",
    "   - It's recommended to be used only on the output layer so that we can easily interpret the output as probabilities since it has restricted output between 0 and 1. \n",
    "   - If you notice in the figure below, x values between -2.5 to 2.5, Y values are very steep, so any small change in values of x in that region will cause value of y to change significantly. It tends to bring the activations to either side of the curve.\n",
    "   - Another advantage of this activation function, unlike linear function, the output of the activation function is always going to be in range (0,1) compared to (-inf, inf) of linear function.\n",
    "   - But it has a major drawback, for very high or very low values of X, there is almost no change in y values or the prediction, causing a [**vanishing gradient**](https://towardsdatascience.com/the-vanishing-exploding-gradient-problem-in-deep-neural-networks-191358470c11) problem. This can cause the network to learn slowly or refuses to learn further. \n",
    "     \n",
    "<div>\n",
    "<img src=\"images/sigmoid.png\" width=\"400\" >\n",
    "</div>\n",
    "\n",
    "*Figure 9:* Representation of a \"sigmoid\" function. Figure by Sakshi Misra.\n",
    "\n",
    "\n",
    "\n",
    "2) **Hyperbolic Tangent function or TanH**:  It takes the form: $$\\boxed{f(x)= tanh(x) = \\frac{2}{1+e^{-2x}}−1}$$ it looks very similar to sigmoid function, it can also be written as $$\\boxed{tanh(x)= \\text{2 sigmoid (2x)}-1}$$\n",
    "\n",
    "   - It has same characteristics as sigmoid like non-linear in nature, output is bound between -1 and 1 but it has deeper [derivative s](https://en.wikipedia.org/wiki/Derivative) which means it has stronger gradient than sigmoid as shown in the figure below. Deciding between sigmoid and tanh depends upon your requirement of gradient strength.\n",
    "   - The disadvantage that it shares with sigmoid function is that the it also has vanishing gradient problem.\n",
    "\n",
    "<div>\n",
    "<img src=\"images/tanh.png\" width=\"400\"/>\n",
    "</div>\n",
    "\n",
    "*Figure 10:* Representation of a \"tanh\" function. Figure by Sakshi Misra\n",
    "\n",
    "\n",
    "3) **Rectified Linear Unit (ReLU)**: ReLu takes the form: $$\\boxed{f(x) = max\\{ 0,x\\}}$$\n",
    "\n",
    "  - As shown below, ReLu gives an output *x* if *x* is positive and *0* otherwise.\n",
    "  - It is not bound though. The range of ReLu is [0, inf).\n",
    "  - The only issue is that when inputs approach to zero or negative, the gradient of the function becomes zero hence, the network cannot learn and perform backpropagation.\n",
    "  - ReLU is the most commonly used activation function, one of the reasons could be its sparsity in the activation. Imagine if we have a deep neural network with many neurons, using a sigmoid of tanh will cause all the neurons to be activated, this is costly. But with ReLu, only few neurons will be activated and thereby making the activations sparse and efficient.\n",
    "\n",
    "<div>\n",
    "<img src=\"images/relu.png\" width=\"400\"/>\n",
    "</div>\n",
    "\n",
    "*Figure 11:* Representation of a \"ReLU\" function. Figure by Sakshi Misra\n",
    "\n",
    "\n",
    "4) **Leaky Rectified Linear Unit**: ReLu takes the form: $$\\boxed{f(x)= \\max\\{ α ∗ x,x\\}}$$\n",
    "\n",
    "   - This is the variation of ReLU which has a small positive slope in the negative area.\n",
    "   - The range of the Leaky ReLU is (-infinity to infinity).\n",
    "   - It overcomes the zero gradient issue from ReLU and assigns α which is a small value for x≤0.\n",
    "\n",
    "<div>\n",
    "<img src=\"images/leaky.png\" width=\"400\"/>\n",
    "</div>\n",
    "\n",
    "*Figure 12:* Representation of a \"Leaky ReLU\" function. Figure by Sakshi Misra\n",
    "\n",
    "\n",
    "Now which activation function do we choose? It totally depends on the type of the problem you are solving, you can choose an activation function which will approximate the function faster and lead to faster raining process. There are other activation functions too, but the general idea remains the same. Please refer an article: H. N. Mhaskar, [How to Choose an Activation Function](https://papers.nips.cc/paper/1993/file/51ef186e18dc00c2d31982567235c559-Paper.pdf) for more details."
   ]
  },
  {
   "cell_type": "markdown",
   "metadata": {},
   "source": [
    "### Loss function \n",
    "\n",
    "Before diving into how to train a neural network lets discuss about **loss** and **loss function**. In neural network, we an objective function i.e. to minimize the prediction error, so this objective function is often referred to as cost function or loss function. Through loss function we calculate loss or prediction error basically. Loss function is one of the important components of training the neural networks. \n",
    "\n",
    "Keras and tensorflow have various inbuilt loss functions, we will be covering some of them:\n",
    "\n",
    "- **Mean Squared Error (MSE)**: It is used for regression tasks, as the name suggests this loss is calculated by taking the mean of squared differences between actual(target) and predicted values. \n",
    "\n",
    "- **Binary Crossentropy (BCE)**: BCE loss is used for the binary classification tasks. We just need one output node to classify the data into two classes. The output value should be passed through a sigmoid activation function and the range of output is (0 – 1)\n",
    "\n",
    "- **Categorical Crossentropy (CC)**: When we have a multi-class classification task, we can use CC loss function. If we are using CCE loss function, there must be the same number of output nodes as the classes. And the final layer output should be passed through a softmax activation so that each node output a probability value between (0–1).\n",
    "\n",
    "\n",
    "The choice of loss function is directly related to the activation function used in the output layer of your neural network. For example, in our case we have to predict the pIC50 value of drug molecules so it is a regression task. We can use linear activation function in the output layer and mean square error (mse) as our loss function.\n",
    "\n",
    "You can refer to article: [Loss and Loss Functions for Training Deep Learning Neural Networks](https://machinelearningmastery.com/loss-and-loss-functions-for-training-deep-learning-neural-networks/) for more details."
   ]
  },
  {
   "cell_type": "markdown",
   "metadata": {},
   "source": [
    "### How to train a neural network ?\n",
    "\n",
    "When we start with [forward propagation](https://en.wikipedia.org/wiki/Feedforward_neural_network), we randomly assign weights in our network. Obviously, it won’t give very good results, so how the network figures this out? \n",
    "\n",
    "During the training process along with the input our network also has the output fed to it. The predicted output is compared against the actual output to realize the error in prediction, the magnitude of the error indicates how wrong we are. This error is computed using loss function which we want to minimize and make it much lower at the end of training. It can be done by calculating the gradient by back propagating in the network and adjust the weights such that the network can predict the output correctly. \n",
    "\n",
    "There are major two algorithms which helps in training the neural network model:\n",
    "\n",
    "- [Back propagation](https://de.wikipedia.org/wiki/Backpropagation): gradient computation  \n",
    "- [Gradient descent](https://en.wikipedia.org/wiki/Gradient_descent#:~:text=Gradient%20descent%20is%20a%20first,the%20direction%20of%20steepest%20descent.): optimization method to minimize the loss or cost function"
   ]
  },
  {
   "cell_type": "markdown",
   "metadata": {},
   "source": [
    "#### Backpropagation\n",
    "\n",
    "Backpropagation is an efficient method of calculating the derivatives or gradient. This algorithm trains a neural network through a method called chain rule. In simple terms, after each forward pass through a network, backpropagation performs a backward pass while adjusting the model’s parameters (weights and biases) which aims to minimize the cost function."
   ]
  },
  {
   "cell_type": "markdown",
   "metadata": {},
   "source": [
    "#### Gradient descent \n",
    "\n",
    "Gradient is the vector which points to the direction of the steepest increase of the function. Since, we want to minimize our function, we will take a step in the opposite direction of gradient. Generally we want to control how big of step we make, this is achieved by choosing the most important hyper parameter which is called [learning rate](https://techburst.io/improving-the-way-we-work-with-learning-rate-5e99554f163b). Mostly people choose learning rate by trying out a bunch of numbers and using the one that looks to work best. \n",
    "\n",
    "In our neural network we have weights which values we want to improve, if we compute the gradient of the loss function w.r.t. to our weights and take small steps in the opposite direction of gradient, our loss will gradually decrease until it converges to some local minima, this algorithm is called gradient descent. So in short, it is the process of descending through the gradient i.e. adjusting the parameters of the model to minimize the loss function and achieve our target, which is to predict close to the original value. There many types of gradient descent method:\n",
    "\n",
    "- **Stochastic Gradient Descent(SGD)**: When we train the model to optimize the loss function using only single sample from our dataset, it is called Stochastic Gradient Descent.\n",
    "- **Batch Gradient Descent**: When we train the model to optimize the loss function using the the whole dataset, it is called Batch Gradient Descent.\n",
    "- **Mini-Batch Gradient Descent**: Batch gradient descent takes a lot of time and is therefore somewhat inefficient. If we look at SGD, it is trained using only 1 example. There is a possibility that the model may get too biased with the peculiarity of that particular example when we use SGD. So, we use the mean of a batch of 10–1000 examples to check the optimize the loss in order to deal with the problems.\n"
   ]
  },
  {
   "cell_type": "markdown",
   "metadata": {},
   "source": [
    "### Types of neural network\n",
    "\n",
    "We will focus on major three important types of neural networks:\n",
    "- Artificial Neural Networks (ANN)\n",
    "- Convolution Neural Networks (CNN)\n",
    "- Recurrent Neural Networks (RNN)\n",
    "\n",
    "Lets discuss each neural network in detail."
   ]
  },
  {
   "cell_type": "markdown",
   "metadata": {},
   "source": [
    "#### Artificial Neural Networks (ANN)\n",
    "\n",
    "It is also known as feed-forward neural network because inputs are processed only in the forward direction. The information flow in this network is unidirectional. We have already discussed above about the basic structure and working of the artificial neural network and we will implement the same in the practical part below. \n",
    "\n",
    "There are some challenges faced  with ANN such as: \n",
    "- ANN cannot capture sequential information in the input data which is required for dealing with sequence data\n",
    "- One common problems with all neural networks is the vanishing and exploding gradient\n",
    "- While solving an image classification problem, the 2D image is converted into 1D which makes number of trainable parameters drastically increases with the size of the image. "
   ]
  },
  {
   "cell_type": "markdown",
   "metadata": {},
   "source": [
    "#### Recurrent Neural Networks (RNN)\n",
    "\n",
    "Let us first try to understand the difference between RNN and ANN\n",
    "<div>\n",
    "<img src=\"images/RNN.png\" width=\"300\"/>\n",
    "</div> \n",
    "\n",
    "*Figure 13:* Figure shows the difference between RNN and ANN. It is taken from the blogpost: [CNN vs. RNN vs. ANN – Analyzing 3 Types of Neural Networks in Deep Learning](https://www.analyticsvidhya.com/blog/2020/02/cnn-vs-rnn-vs-mlp-analyzing-3-types-of-neural-networks-in-deep-learning/)\n",
    "\n",
    "As you can see, RNN has recurrent connection on the hidden state. They are bit more complex and the data flows in multiple direction. RNN overcomes some of the problem faced with ANN by capturing the sequential information present in the input data. It also shares parameters across different time steps which is known as **parameter sharing**. But RNNs also suffer from vanishing and exploding gradient.\n",
    "\n",
    "You can refer the article [Fundamentals of Deep Learning – Introduction to Recurrent Neural Networks] to learn more about how RNNs work and how to build one in Python.\n"
   ]
  },
  {
   "cell_type": "markdown",
   "metadata": {},
   "source": [
    "#### Convolution Neural Networks (CNN)\n",
    "\n",
    "CNNs are widely used neural networks especially for image and video processing tasks. **Filters** a.k.a. **kernels** are the building blocks of CNNs. They are used to extract the relevant features from the input data using the convolution operation. There are some major advantages of using CNN such as:\n",
    "- CNN learns the filters automatically without mentioning it explicitly. These filters help in extracting the right and relevant features from the input data.\n",
    "- CNN also helpful in capturing the **spatial features** which refers to the arrangement of pixels and the relationship between them in an image. These spatial features help us in identifying the object accurately.\n",
    "\n",
    "<img src=\"https://cdn.analyticsvidhya.com/wp-content/uploads/2020/02/1oB3S5yHHhvougJkPXuc8og.gif\" width=\"500\" align=\"center\">\n",
    "\n",
    "*Figure 14:* Gif represents the image classification using CNN. It is taken from the blogpost: [CNN vs. RNN vs. ANN](https://www.analyticsvidhya.com/blog/2020/02/cnn-vs-rnn-vs-mlp-analyzing-3-types-of-neural-networks-in-deep-learning/)\n",
    "\n",
    "\n",
    "If you want to explore more about CNN, please refer to the article [Demystifying the Mathematics Behind Convolutional Neural Networks (CNNs)](https://courses.analyticsvidhya.com/courses/convolutional-neural-networks-cnn-from-scratch?utm_source=blog&utm_medium=cnn-vs-rnn-vs-mlp-analyzing-3-types-of-neural-networks-in-deep-learning)."
   ]
  },
  {
   "cell_type": "markdown",
   "metadata": {},
   "source": [
    "### Advantages and applications of neural network\n",
    "\n",
    "#### Advantages of a neural network \n",
    "\n",
    "- **Organic learning**: Neural networks have the ability to learn by themselves by extracting the important features present in the input data. The outputs aren't limited entirely by inputs. Neural networks have the ability to generalize their inputs.\n",
    "- **Non linear data processing**: They have the ability to learn and model non-linear and complex relationships. \n",
    "- **Fault tolerance**: They have potential for high fault tolerance. When these networks are scaled across multiple machines and multiple servers, they can debug and diagnose the problem by its own."
   ]
  },
  {
   "cell_type": "markdown",
   "metadata": {},
   "source": [
    "#### Applications of neural networks\n",
    "\n",
    "There are various applications of neural networks in various fields such as:\n",
    "- Facial recognition\n",
    "- Language processing and translation\n",
    "- Route detection\n",
    "- Speech recognition\n",
    "- Forecasting\n",
    "\n",
    "Please refer to the article: \"*Neural networks – advantages and applications*\", [ScienceDirect](https://doi.org/10.1016/B978-0-444-81892-8.50036-5) for further details."
   ]
  },
  {
   "cell_type": "markdown",
   "metadata": {},
   "source": [
    "## Practical\n",
    "\n",
    "The first step is to import all the necessary libraries and define the functions and classes we intend to use in this notebook."
   ]
  },
  {
   "cell_type": "code",
   "execution_count": 1,
   "metadata": {},
   "outputs": [],
   "source": [
    "from pathlib import Path\n",
    "from warnings import filterwarnings\n",
    "import time\n",
    "\n",
    "import pandas as pd\n",
    "import numpy as np\n",
    "from rdkit import Chem\n",
    "from rdkit.Chem import MACCSkeys, Draw\n",
    "from sklearn.model_selection import KFold, train_test_split\n",
    "import matplotlib.pyplot as plt\n",
    "import seaborn as sns\n",
    "from sklearn import metrics\n",
    "\n",
    "# Neural network specific libraries\n",
    "from tensorflow.keras.models import Sequential, load_model\n",
    "from tensorflow.keras.layers import Dense\n",
    "from tensorflow.keras.callbacks import ModelCheckpoint\n",
    "%matplotlib inline\n",
    "from pathlib import Path\n",
    "\n",
    "# Silence some expected warnings\n",
    "filterwarnings(\"ignore\")"
   ]
  },
  {
   "cell_type": "code",
   "execution_count": 2,
   "metadata": {},
   "outputs": [],
   "source": [
    "# extension used to show lint errors\n",
    "%load_ext pycodestyle_magic"
   ]
  },
  {
   "cell_type": "code",
   "execution_count": 3,
   "metadata": {},
   "outputs": [],
   "source": [
    "%pycodestyle_on"
   ]
  },
  {
   "cell_type": "markdown",
   "metadata": {},
   "source": [
    "###  Load data and visualize the dataframe"
   ]
  },
  {
   "cell_type": "markdown",
   "metadata": {},
   "source": [
    "Let's load our data which is the subset of ChEMBL dataset and visualize the dataframe, the important columns in the dataframe are:\n",
    "\n",
    "- CHEMBL-ID\n",
    "- SMILES string of the corresponding compound\n",
    "- Measured affinity: pIC50"
   ]
  },
  {
   "cell_type": "code",
   "execution_count": 4,
   "metadata": {},
   "outputs": [],
   "source": [
    "# Set path to this notebook\n",
    "HERE = Path(_dh[-1])\n",
    "DATA = HERE / \"data\"\n",
    "\n",
    "df = pd.read_csv(DATA/'CHEMBL25_activities_EGFR.csv',\n",
    "                 lineterminator='\\n')  # NBVAL_CHECK_OUTPUT"
   ]
  },
  {
   "cell_type": "code",
   "execution_count": 5,
   "metadata": {},
   "outputs": [
    {
     "name": "stdout",
     "output_type": "stream",
     "text": [
      "Shape of dataframe :  (3906, 6)\n",
      "<class 'pandas.core.frame.DataFrame'>\n",
      "RangeIndex: 3906 entries, 0 to 3905\n",
      "Data columns (total 6 columns):\n",
      " #   Column            Non-Null Count  Dtype  \n",
      "---  ------            --------------  -----  \n",
      " 0   Unnamed: 0        3906 non-null   int64  \n",
      " 1   chembl_id         3906 non-null   object \n",
      " 2   IC50              3906 non-null   float64\n",
      " 3   units             3906 non-null   object \n",
      " 4   canonical_smiles  3906 non-null   object \n",
      " 5   pIC50\r",
      "            3906 non-null   float64\n",
      "dtypes: float64(2), int64(1), object(3)\n",
      "memory usage: 183.2+ KB\n"
     ]
    },
    {
     "data": {
      "text/html": [
       "<div>\n",
       "<style scoped>\n",
       "    .dataframe tbody tr th:only-of-type {\n",
       "        vertical-align: middle;\n",
       "    }\n",
       "\n",
       "    .dataframe tbody tr th {\n",
       "        vertical-align: top;\n",
       "    }\n",
       "\n",
       "    .dataframe thead th {\n",
       "        text-align: right;\n",
       "    }\n",
       "</style>\n",
       "<table border=\"1\" class=\"dataframe\">\n",
       "  <thead>\n",
       "    <tr style=\"text-align: right;\">\n",
       "      <th></th>\n",
       "      <th>Unnamed: 0</th>\n",
       "      <th>chembl_id</th>\n",
       "      <th>IC50</th>\n",
       "      <th>units</th>\n",
       "      <th>canonical_smiles</th>\n",
       "      <th>pIC50\\r</th>\n",
       "    </tr>\n",
       "  </thead>\n",
       "  <tbody>\n",
       "    <tr>\n",
       "      <th>0</th>\n",
       "      <td>1777</td>\n",
       "      <td>CHEMBL207869</td>\n",
       "      <td>77.0</td>\n",
       "      <td>nM</td>\n",
       "      <td>Clc1c(OCc2cc(F)ccc2)ccc(Nc2c(C#Cc3ncccn3)cncn2)c1</td>\n",
       "      <td>7.113509</td>\n",
       "    </tr>\n",
       "    <tr>\n",
       "      <th>1</th>\n",
       "      <td>5785</td>\n",
       "      <td>CHEMBL3940060</td>\n",
       "      <td>330.0</td>\n",
       "      <td>nM</td>\n",
       "      <td>ClCC(=O)OCCN1C(=O)Oc2c1cc1c(Nc3cc(Cl)c(F)cc3)n...</td>\n",
       "      <td>6.481486</td>\n",
       "    </tr>\n",
       "    <tr>\n",
       "      <th>2</th>\n",
       "      <td>6373</td>\n",
       "      <td>CHEMBL3678951</td>\n",
       "      <td>1.0</td>\n",
       "      <td>nM</td>\n",
       "      <td>FC(F)(F)c1cc(Nc2n(C(C)C)c3nc(Nc4ccc(N5CC[NH+](...</td>\n",
       "      <td>9.000000</td>\n",
       "    </tr>\n",
       "    <tr>\n",
       "      <th>3</th>\n",
       "      <td>2442</td>\n",
       "      <td>CHEMBL504034</td>\n",
       "      <td>40.0</td>\n",
       "      <td>nM</td>\n",
       "      <td>Clc1c(OCc2cc(F)ccc2)ccc(Nc2ncnc3c2sc(C#C[C@H]2...</td>\n",
       "      <td>7.397940</td>\n",
       "    </tr>\n",
       "    <tr>\n",
       "      <th>4</th>\n",
       "      <td>1084</td>\n",
       "      <td>CHEMBL158797</td>\n",
       "      <td>43000.0</td>\n",
       "      <td>nM</td>\n",
       "      <td>S(Sc1n(C)c2c(c1C(=O)NCC(O)CO)cccc2)c1n(C)c2c(c...</td>\n",
       "      <td>4.366531</td>\n",
       "    </tr>\n",
       "  </tbody>\n",
       "</table>\n",
       "</div>"
      ],
      "text/plain": [
       "   Unnamed: 0      chembl_id     IC50 units  \\\n",
       "0        1777   CHEMBL207869     77.0    nM   \n",
       "1        5785  CHEMBL3940060    330.0    nM   \n",
       "2        6373  CHEMBL3678951      1.0    nM   \n",
       "3        2442   CHEMBL504034     40.0    nM   \n",
       "4        1084   CHEMBL158797  43000.0    nM   \n",
       "\n",
       "                                    canonical_smiles   pIC50\\r  \n",
       "0  Clc1c(OCc2cc(F)ccc2)ccc(Nc2c(C#Cc3ncccn3)cncn2)c1  7.113509  \n",
       "1  ClCC(=O)OCCN1C(=O)Oc2c1cc1c(Nc3cc(Cl)c(F)cc3)n...  6.481486  \n",
       "2  FC(F)(F)c1cc(Nc2n(C(C)C)c3nc(Nc4ccc(N5CC[NH+](...  9.000000  \n",
       "3  Clc1c(OCc2cc(F)ccc2)ccc(Nc2ncnc3c2sc(C#C[C@H]2...  7.397940  \n",
       "4  S(Sc1n(C)c2c(c1C(=O)NCC(O)CO)cccc2)c1n(C)c2c(c...  4.366531  "
      ]
     },
     "execution_count": 5,
     "metadata": {},
     "output_type": "execute_result"
    }
   ],
   "source": [
    "# Check the dimension and missing value of the data\n",
    "print(\"Shape of dataframe : \", df.shape)\n",
    "df.info()\n",
    "\n",
    "# Look at head\n",
    "df.head()"
   ]
  },
  {
   "cell_type": "code",
   "execution_count": 6,
   "metadata": {},
   "outputs": [
    {
     "data": {
      "text/html": [
       "<div>\n",
       "<style scoped>\n",
       "    .dataframe tbody tr th:only-of-type {\n",
       "        vertical-align: middle;\n",
       "    }\n",
       "\n",
       "    .dataframe tbody tr th {\n",
       "        vertical-align: top;\n",
       "    }\n",
       "\n",
       "    .dataframe thead th {\n",
       "        text-align: right;\n",
       "    }\n",
       "</style>\n",
       "<table border=\"1\" class=\"dataframe\">\n",
       "  <thead>\n",
       "    <tr style=\"text-align: right;\">\n",
       "      <th></th>\n",
       "      <th>chembl_id</th>\n",
       "      <th>canonical_smiles</th>\n",
       "      <th>pIC50\\r</th>\n",
       "    </tr>\n",
       "  </thead>\n",
       "  <tbody>\n",
       "    <tr>\n",
       "      <th>0</th>\n",
       "      <td>CHEMBL207869</td>\n",
       "      <td>Clc1c(OCc2cc(F)ccc2)ccc(Nc2c(C#Cc3ncccn3)cncn2)c1</td>\n",
       "      <td>7.113509</td>\n",
       "    </tr>\n",
       "    <tr>\n",
       "      <th>1</th>\n",
       "      <td>CHEMBL3940060</td>\n",
       "      <td>ClCC(=O)OCCN1C(=O)Oc2c1cc1c(Nc3cc(Cl)c(F)cc3)n...</td>\n",
       "      <td>6.481486</td>\n",
       "    </tr>\n",
       "    <tr>\n",
       "      <th>2</th>\n",
       "      <td>CHEMBL3678951</td>\n",
       "      <td>FC(F)(F)c1cc(Nc2n(C(C)C)c3nc(Nc4ccc(N5CC[NH+](...</td>\n",
       "      <td>9.000000</td>\n",
       "    </tr>\n",
       "    <tr>\n",
       "      <th>3</th>\n",
       "      <td>CHEMBL504034</td>\n",
       "      <td>Clc1c(OCc2cc(F)ccc2)ccc(Nc2ncnc3c2sc(C#C[C@H]2...</td>\n",
       "      <td>7.397940</td>\n",
       "    </tr>\n",
       "    <tr>\n",
       "      <th>4</th>\n",
       "      <td>CHEMBL158797</td>\n",
       "      <td>S(Sc1n(C)c2c(c1C(=O)NCC(O)CO)cccc2)c1n(C)c2c(c...</td>\n",
       "      <td>4.366531</td>\n",
       "    </tr>\n",
       "  </tbody>\n",
       "</table>\n",
       "</div>"
      ],
      "text/plain": [
       "       chembl_id                                   canonical_smiles   pIC50\\r\n",
       "0   CHEMBL207869  Clc1c(OCc2cc(F)ccc2)ccc(Nc2c(C#Cc3ncccn3)cncn2)c1  7.113509\n",
       "1  CHEMBL3940060  ClCC(=O)OCCN1C(=O)Oc2c1cc1c(Nc3cc(Cl)c(F)cc3)n...  6.481486\n",
       "2  CHEMBL3678951  FC(F)(F)c1cc(Nc2n(C(C)C)c3nc(Nc4ccc(N5CC[NH+](...  9.000000\n",
       "3   CHEMBL504034  Clc1c(OCc2cc(F)ccc2)ccc(Nc2ncnc3c2sc(C#C[C@H]2...  7.397940\n",
       "4   CHEMBL158797  S(Sc1n(C)c2c(c1C(=O)NCC(O)CO)cccc2)c1n(C)c2c(c...  4.366531"
      ]
     },
     "execution_count": 6,
     "metadata": {},
     "output_type": "execute_result"
    }
   ],
   "source": [
    "# Keep the necessary columns\n",
    "chembl_df = df[[\"chembl_id\", \"canonical_smiles\", \"pIC50\\r\"]]\n",
    "chembl_df.head()\n",
    "# NBVAL_CHECK_OUTPUT"
   ]
  },
  {
   "cell_type": "markdown",
   "metadata": {},
   "source": [
    "### Data Preparation\n",
    "\n",
    "#### Molecule encoding\n",
    "Now we have to convert the SMILES string to numerical data so that we can perform machine learning algorithm on it and we can use already defined function `smiles_to_fp` from Talktorial **T007** which generate fingerprints from SMILES. \n",
    "There is a choice incorporated between **MACCS**, **morgan2** and **morgan3** but we will use MACCS fingerprints because MACCS keys are short (166 bit) as compared to others (2048 bit). (Please refer to [talktorial 007](https://github.com/volkamerlab/teachopencadd/blob/master/teachopencadd/talktorials/T007_compound_activity_machine_learning/talktorial.ipynb) for further details on the functions defined for molecule encoding. )"
   ]
  },
  {
   "cell_type": "code",
   "execution_count": 7,
   "metadata": {
    "format": "row"
   },
   "outputs": [],
   "source": [
    "def smiles_to_fp(smiles, method=\"maccs\", n_bits=2048):\n",
    "    \"\"\"\n",
    "    Encode a molecule from a SMILES string into a fingerprint.\n",
    "\n",
    "    Parameters\n",
    "    ----------\n",
    "    smiles : str\n",
    "        The SMILES string defining the molecule.\n",
    "\n",
    "    method : str\n",
    "        The type of fingerprint to use. Default is MACCS keys.\n",
    "\n",
    "    n_bits : int\n",
    "        The length of the fingerprint.\n",
    "\n",
    "    Returns\n",
    "    -------\n",
    "    array\n",
    "        The fingerprint array.\n",
    "\n",
    "    \"\"\"\n",
    "\n",
    "    # convert smiles to RDKit mol object\n",
    "    mol = Chem.MolFromSmiles(smiles)\n",
    "\n",
    "    if method == \"maccs\":\n",
    "        return np.array(MACCSkeys.GenMACCSKeys(mol))\n",
    "    if method == \"morgan2\":\n",
    "        return np.array(GetMorganFingerprintAsBitVect(mol, 2, nBits=n_bits))\n",
    "    if method == \"morgan3\":\n",
    "        return np.array(GetMorganFingerprintAsBitVect(mol, 3, nBits=n_bits))\n",
    "    else:\n",
    "        # NBVAL_CHECK_OUTPUT\n",
    "        print(f\"Warning: Wrong method specified: {method}.\"\n",
    "              \" Default will be used instead.\")\n",
    "        return np.array(MACCSkeys.GenMACCSKeys(mol))"
   ]
  },
  {
   "cell_type": "code",
   "execution_count": 23,
   "metadata": {},
   "outputs": [
    {
     "name": "stdout",
     "output_type": "stream",
     "text": [
      "Shape of dataframe :  (3906, 167)\n"
     ]
    },
    {
     "data": {
      "text/html": [
       "<div>\n",
       "<style scoped>\n",
       "    .dataframe tbody tr th:only-of-type {\n",
       "        vertical-align: middle;\n",
       "    }\n",
       "\n",
       "    .dataframe tbody tr th {\n",
       "        vertical-align: top;\n",
       "    }\n",
       "\n",
       "    .dataframe thead th {\n",
       "        text-align: right;\n",
       "    }\n",
       "</style>\n",
       "<table border=\"1\" class=\"dataframe\">\n",
       "  <thead>\n",
       "    <tr style=\"text-align: right;\">\n",
       "      <th></th>\n",
       "      <th>0</th>\n",
       "      <th>1</th>\n",
       "      <th>2</th>\n",
       "      <th>3</th>\n",
       "      <th>4</th>\n",
       "      <th>5</th>\n",
       "      <th>6</th>\n",
       "      <th>7</th>\n",
       "      <th>8</th>\n",
       "      <th>9</th>\n",
       "      <th>...</th>\n",
       "      <th>157</th>\n",
       "      <th>158</th>\n",
       "      <th>159</th>\n",
       "      <th>160</th>\n",
       "      <th>161</th>\n",
       "      <th>162</th>\n",
       "      <th>163</th>\n",
       "      <th>164</th>\n",
       "      <th>165</th>\n",
       "      <th>166</th>\n",
       "    </tr>\n",
       "  </thead>\n",
       "  <tbody>\n",
       "    <tr>\n",
       "      <th>0</th>\n",
       "      <td>0</td>\n",
       "      <td>0</td>\n",
       "      <td>0</td>\n",
       "      <td>0</td>\n",
       "      <td>0</td>\n",
       "      <td>0</td>\n",
       "      <td>0</td>\n",
       "      <td>0</td>\n",
       "      <td>0</td>\n",
       "      <td>0</td>\n",
       "      <td>...</td>\n",
       "      <td>1</td>\n",
       "      <td>1</td>\n",
       "      <td>0</td>\n",
       "      <td>0</td>\n",
       "      <td>1</td>\n",
       "      <td>1</td>\n",
       "      <td>1</td>\n",
       "      <td>1</td>\n",
       "      <td>1</td>\n",
       "      <td>0</td>\n",
       "    </tr>\n",
       "    <tr>\n",
       "      <th>1</th>\n",
       "      <td>0</td>\n",
       "      <td>0</td>\n",
       "      <td>0</td>\n",
       "      <td>0</td>\n",
       "      <td>0</td>\n",
       "      <td>0</td>\n",
       "      <td>0</td>\n",
       "      <td>0</td>\n",
       "      <td>0</td>\n",
       "      <td>0</td>\n",
       "      <td>...</td>\n",
       "      <td>1</td>\n",
       "      <td>1</td>\n",
       "      <td>1</td>\n",
       "      <td>0</td>\n",
       "      <td>1</td>\n",
       "      <td>1</td>\n",
       "      <td>1</td>\n",
       "      <td>1</td>\n",
       "      <td>1</td>\n",
       "      <td>0</td>\n",
       "    </tr>\n",
       "    <tr>\n",
       "      <th>2</th>\n",
       "      <td>0</td>\n",
       "      <td>0</td>\n",
       "      <td>0</td>\n",
       "      <td>0</td>\n",
       "      <td>0</td>\n",
       "      <td>0</td>\n",
       "      <td>0</td>\n",
       "      <td>0</td>\n",
       "      <td>0</td>\n",
       "      <td>0</td>\n",
       "      <td>...</td>\n",
       "      <td>0</td>\n",
       "      <td>1</td>\n",
       "      <td>0</td>\n",
       "      <td>1</td>\n",
       "      <td>1</td>\n",
       "      <td>1</td>\n",
       "      <td>1</td>\n",
       "      <td>0</td>\n",
       "      <td>1</td>\n",
       "      <td>0</td>\n",
       "    </tr>\n",
       "  </tbody>\n",
       "</table>\n",
       "<p>3 rows × 167 columns</p>\n",
       "</div>"
      ],
      "text/plain": [
       "   0    1    2    3    4    5    6    7    8    9    ...  157  158  159  160  \\\n",
       "0    0    0    0    0    0    0    0    0    0    0  ...    1    1    0    0   \n",
       "1    0    0    0    0    0    0    0    0    0    0  ...    1    1    1    0   \n",
       "2    0    0    0    0    0    0    0    0    0    0  ...    0    1    0    1   \n",
       "\n",
       "   161  162  163  164  165  166  \n",
       "0    1    1    1    1    1    0  \n",
       "1    1    1    1    1    1    0  \n",
       "2    1    1    1    0    1    0  \n",
       "\n",
       "[3 rows x 167 columns]"
      ]
     },
     "execution_count": 23,
     "metadata": {},
     "output_type": "execute_result"
    }
   ],
   "source": [
    "# convert all SMILES strings to MACC fingerprints\n",
    "fingerprints_df = pd.DataFrame([smiles_to_fp(smile) for smile in\n",
    "                                chembl_df['canonical_smiles']])\n",
    "\n",
    "# Look at head\n",
    "print(\"Shape of dataframe : \", fingerprints_df.shape)\n",
    "fingerprints_df.head(3)  # NBVAL_CHECK_OUTPUT"
   ]
  },
  {
   "cell_type": "markdown",
   "metadata": {},
   "source": [
    "Now we can define **X** and **y** which are the features used to train the model and target values respectively. In our case, features are the bit vectors and the target value is pIC50 values of the drug molecules which we want to predict.\n",
    "\n",
    "After defining X and y, we can use `train_test_split` from scikit-learn library to split the data into training and testing datasets."
   ]
  },
  {
   "cell_type": "code",
   "execution_count": 9,
   "metadata": {},
   "outputs": [
    {
     "name": "stdout",
     "output_type": "stream",
     "text": [
      "Shape of training data :  (2734, 167)\n",
      "Shape of testing data :  (1172, 167)\n"
     ]
    }
   ],
   "source": [
    "# Assign X and y value\n",
    "X = fingerprints_df\n",
    "y = chembl_df[['pIC50\\r']]\n",
    "\n",
    "# Split the data into training and testing\n",
    "X_train, X_test, y_train, y_test = train_test_split(\n",
    "    X, y, test_size=0.3, random_state=42)\n",
    "\n",
    "# Print the shape of training and testing data\n",
    "print(\"Shape of training data : \", X_train.shape)\n",
    "print(\"Shape of testing data : \", X_test.shape)"
   ]
  },
  {
   "cell_type": "markdown",
   "metadata": {},
   "source": [
    "### Define keras model"
   ]
  },
  {
   "cell_type": "markdown",
   "metadata": {},
   "source": [
    "Now we will use [keras](https://keras.io/getting_started/) to define our neural network model. Goal is to train a neural network model with the training dataset and use test datasets to predict the pIC50 value for the drug molecules which it has never seen before.\n",
    "\n",
    "We start by **defining** a keras model which is defined as a sequence of layers. We create a [Sequential model](https://keras.io/api/models/sequential/) and add layers. We can specify the number of neurons or nodes in the layer as the first argument, and specify the activation function using the activation argument. We have used [rectified linear unit activation function](https://machinelearningmastery.com/rectified-linear-activation-function-for-deep-learning-neural-networks/) in the hidden layers and linear in the output layer. \n",
    "\n",
    "Now, after defining the model, we can [compile](https://keras.io/api/models/model_training_apis/#compile-method) it. It uses the efficient numerical libraries to chooses the best way to represent the network for training and making predictions. When compiling we have to specify some additional parameters such as optimizer, loss, metrices etc. we would like to report. \n",
    "\n",
    "In this case we used **mean square error** as a loss argument and we defined optimizer to be **adam** which is a popular version of gradient descent because it automatically tunes itself and gives good results in a wide range of problems. \n",
    "\n",
    "To learn more about the Adam version of stochastic gradient descent see the post: [Gentle Introduction to the Adam Optimization Algorithm for Deep Learning](https://machinelearningmastery.com/adam-optimization-algorithm-for-deep-learning/).\n",
    "\n",
    "Finally, we will report mean square error(mse) and mean absolute error(mae) as our metrices."
   ]
  },
  {
   "cell_type": "code",
   "execution_count": 22,
   "metadata": {},
   "outputs": [],
   "source": [
    "def NN_model(hidden1, hidden2):\n",
    "    \"\"\"\n",
    "    creating neural network from two hidden layer\n",
    "    using relu as activation function in two hidden layer\n",
    "    and linear in the output layer\n",
    "\n",
    "    parameters\n",
    "    ----------\n",
    "    hidden1 : Int\n",
    "         number of neuons in first hidden layer\n",
    "\n",
    "    hidden2: Int\n",
    "         number of neuons in second hidden layer\n",
    "    Returns\n",
    "    --------\n",
    "    model\n",
    "        fully connected neural network model with two hidden layer\n",
    "    \"\"\"\n",
    "\n",
    "    model = Sequential()\n",
    "    # first hidden layer\n",
    "    model.add(Dense(hidden1, activation='relu', name=\"layer1\"))\n",
    "    # second hidden layer\n",
    "    model.add(Dense(hidden2, activation='relu', name=\"layer2\"))\n",
    "    # output layer\n",
    "    model.add(Dense(1, activation='linear', name=\"layer3\"))\n",
    "    # compile model\n",
    "    model.compile(loss='mean_squared_error',\n",
    "                  optimizer='adam', metrics=['mse', 'mae'])\n",
    "    return model"
   ]
  },
  {
   "cell_type": "markdown",
   "metadata": {},
   "source": [
    "### Choose the most appropriate batch sizes \n",
    "\n",
    "**Bath sizes** refers to the number of samples that will be propagated through the network to train it. \n",
    "Batches can made up of:\n",
    "- **Batch Gradient Descent**: when all training datasets is used as a batch.\n",
    "- **Stochastic Gradient Descent**: when single sample is used as a batch.\n",
    "- **Mini-Batch Gradient Descent**: when batch size is more than one sample but less that full training data.\n",
    "\n",
    "We have tried passing mini-batches and plotted the loss."
   ]
  },
  {
   "cell_type": "code",
   "execution_count": 11,
   "metadata": {},
   "outputs": [
    {
     "data": {
      "image/png": "[encoded data removed]",
      "text/plain": [
       "<Figure size 864x864 with 5 Axes>"
      ]
     },
     "metadata": {
      "needs_background": "light"
     },
     "output_type": "display_data"
    }
   ],
   "source": [
    "# trying different batch sizes\n",
    "batch_sizes = [32, 64, 128, 256, 512]\n",
    "\n",
    "# size of figure\n",
    "fig = plt.figure(figsize=(12, 12))\n",
    "sns.set(color_codes=True)\n",
    "for index in range(0, 5):\n",
    "    fig.add_subplot(2, 3, index+1)\n",
    "    model = NN_model(64, 32)\n",
    "# fit model on X_train and y_train data\n",
    "    history = model.fit(X_train, y_train,\n",
    "                        batch_size=batch_sizes[index],\n",
    "                        validation_data=(X_test, y_test),\n",
    "                        verbose=0, epochs=100)\n",
    "\n",
    "    plt.plot(history.history['loss'], label='train')\n",
    "    plt.plot(history.history['val_loss'], label='test')\n",
    "    plt.legend(['train', 'test'], loc='upper right')\n",
    "    plt.ylabel('loss')\n",
    "    plt.xlabel('epoch')\n",
    "    plt.title('model loss in batch size = '+str(batch_sizes[index]))\n",
    "plt.show()"
   ]
  },
  {
   "cell_type": "markdown",
   "metadata": {},
   "source": [
    "### Fit keras model\n",
    "\n",
    "Now we will call [model.fit()](https://keras.io/api/models/model_training_apis/#fit-method) method which needs several parameters like **x**: Input data, **y**: Target data, batch size, epochs etc.\n",
    "We specified batch size to be 512 and epochs to be 100. \n",
    "\n",
    "One **epoch** means when an entire dataset is passed forward and backward through the neural network **once**."
   ]
  },
  {
   "cell_type": "code",
   "execution_count": 12,
   "metadata": {},
   "outputs": [
    {
     "data": {
      "text/plain": [
       "<tensorflow.python.keras.callbacks.History at 0x29198aa5108>"
      ]
     },
     "execution_count": 12,
     "metadata": {},
     "output_type": "execute_result"
    }
   ],
   "source": [
    "# save the model\n",
    "filepath = \"weights_CV.best.hdf5\"\n",
    "\n",
    "checkpoint = ModelCheckpoint(filepath, monitor='loss', verbose=0,\n",
    "                             save_best_only=True, mode='min')\n",
    "callbacks_list = [checkpoint]\n",
    "\n",
    "\n",
    "# fit the model\n",
    "model.fit(X, y, epochs=100, batch_size=512,\n",
    "          callbacks=callbacks_list, verbose=0)"
   ]
  },
  {
   "cell_type": "markdown",
   "metadata": {},
   "source": [
    "### Evaluate keras model\n",
    "\n",
    "After training the model, we can use [model.evaluate()](https://keras.io/api/models/model_training_apis/#evaluate-method) to check the performance or score of our model. It will report the loss, mse and mae values."
   ]
  },
  {
   "cell_type": "code",
   "execution_count": 13,
   "metadata": {},
   "outputs": [
    {
     "name": "stdout",
     "output_type": "stream",
     "text": [
      "Evaluate on training data\n",
      "score:[0.5000921487808228, 0.5000921487808228, 0.5345600843429565]\n"
     ]
    }
   ],
   "source": [
    "# Evalute the model on training datausing `evaluate`\n",
    "print(\"Evaluate on training data\")\n",
    "score = model.evaluate(X, y, verbose=0)\n",
    "print(f'score:{score}')"
   ]
  },
  {
   "cell_type": "markdown",
   "metadata": {},
   "source": [
    "### Prediction on test data\n",
    "\n",
    "#### Loading the test data (EGFR_test_set.csv)\n",
    "\n",
    "We will use another dataset to test the model. This dataset contains some SMILES compounds without the pIC50 values, we can load the dataset using pandas and visualize the dataframe."
   ]
  },
  {
   "cell_type": "code",
   "execution_count": 14,
   "metadata": {},
   "outputs": [
    {
     "data": {
      "text/html": [
       "<div>\n",
       "<style scoped>\n",
       "    .dataframe tbody tr th:only-of-type {\n",
       "        vertical-align: middle;\n",
       "    }\n",
       "\n",
       "    .dataframe tbody tr th {\n",
       "        vertical-align: top;\n",
       "    }\n",
       "\n",
       "    .dataframe thead th {\n",
       "        text-align: right;\n",
       "    }\n",
       "</style>\n",
       "<table border=\"1\" class=\"dataframe\">\n",
       "  <thead>\n",
       "    <tr style=\"text-align: right;\">\n",
       "      <th></th>\n",
       "      <th>id</th>\n",
       "      <th>canonical_smiles\\r</th>\n",
       "    </tr>\n",
       "  </thead>\n",
       "  <tbody>\n",
       "    <tr>\n",
       "      <th>0</th>\n",
       "      <td>1</td>\n",
       "      <td>S(Cc1c([O-])c(OC)cc(/C=C(\\C#N)/C(=O)N)c1)c1ccc...</td>\n",
       "    </tr>\n",
       "    <tr>\n",
       "      <th>1</th>\n",
       "      <td>2</td>\n",
       "      <td>S=C(N)N1C(c2ccc(OC)cc2)CC(c2cc(C)c(C)cc2)=N1\\r</td>\n",
       "    </tr>\n",
       "    <tr>\n",
       "      <th>2</th>\n",
       "      <td>3</td>\n",
       "      <td>Clc1c(O)cc(-c2nn(C(C)C)c3ncnc(N)c23)cc1\\r</td>\n",
       "    </tr>\n",
       "    <tr>\n",
       "      <th>3</th>\n",
       "      <td>4</td>\n",
       "      <td>O=C(/C=C/CN1CC[NH+](C)CC1)N1Cc2sc3ncnc(N[C@H](...</td>\n",
       "    </tr>\n",
       "    <tr>\n",
       "      <th>4</th>\n",
       "      <td>5</td>\n",
       "      <td>S(=O)(=O)(NC(=O)Cn1c(C)ncc1[N+](=O)[O-])c1ccc(...</td>\n",
       "    </tr>\n",
       "  </tbody>\n",
       "</table>\n",
       "</div>"
      ],
      "text/plain": [
       "   id                                 canonical_smiles\\r\n",
       "0   1  S(Cc1c([O-])c(OC)cc(/C=C(\\C#N)/C(=O)N)c1)c1ccc...\n",
       "1   2     S=C(N)N1C(c2ccc(OC)cc2)CC(c2cc(C)c(C)cc2)=N1\\r\n",
       "2   3          Clc1c(O)cc(-c2nn(C(C)C)c3ncnc(N)c23)cc1\\r\n",
       "3   4  O=C(/C=C/CN1CC[NH+](C)CC1)N1Cc2sc3ncnc(N[C@H](...\n",
       "4   5  S(=O)(=O)(NC(=O)Cn1c(C)ncc1[N+](=O)[O-])c1ccc(..."
      ]
     },
     "execution_count": 14,
     "metadata": {},
     "output_type": "execute_result"
    }
   ],
   "source": [
    "# load test data\n",
    "test_df = pd.read_csv(DATA/'test.csv',\n",
    "                      lineterminator='\\n')\n",
    "test_df.head()  # NBVAL_CHECK_OUTPUT"
   ]
  },
  {
   "cell_type": "markdown",
   "metadata": {},
   "source": [
    "We used the same `smiles_to_fp` function and convert the SMILES strings in test data into MACCS fingerprints."
   ]
  },
  {
   "cell_type": "code",
   "execution_count": 15,
   "metadata": {},
   "outputs": [
    {
     "data": {
      "text/plain": [
       "(60, 167)"
      ]
     },
     "execution_count": 15,
     "metadata": {},
     "output_type": "execute_result"
    }
   ],
   "source": [
    "# convert all smiles in test file to MACC keys\n",
    "maccs_test_df = pd.DataFrame([smiles_to_fp(smile) for smile in\n",
    "                              test_df['canonical_smiles\\r']])\n",
    "maccs_test_df.shape"
   ]
  },
  {
   "cell_type": "markdown",
   "metadata": {},
   "source": [
    "We then can use [model.predict](https://keras.io/api/models/model_training_apis/#predict-method) to predict the pIC50 values of test molecules."
   ]
  },
  {
   "cell_type": "code",
   "execution_count": 16,
   "metadata": {},
   "outputs": [
    {
     "data": {
      "text/html": [
       "<div>\n",
       "<style scoped>\n",
       "    .dataframe tbody tr th:only-of-type {\n",
       "        vertical-align: middle;\n",
       "    }\n",
       "\n",
       "    .dataframe tbody tr th {\n",
       "        vertical-align: top;\n",
       "    }\n",
       "\n",
       "    .dataframe thead th {\n",
       "        text-align: right;\n",
       "    }\n",
       "</style>\n",
       "<table border=\"1\" class=\"dataframe\">\n",
       "  <thead>\n",
       "    <tr style=\"text-align: right;\">\n",
       "      <th></th>\n",
       "      <th>id</th>\n",
       "      <th>canonical_smiles\\r</th>\n",
       "      <th>Predicted pIC50 values</th>\n",
       "    </tr>\n",
       "  </thead>\n",
       "  <tbody>\n",
       "    <tr>\n",
       "      <th>0</th>\n",
       "      <td>1</td>\n",
       "      <td>S(Cc1c([O-])c(OC)cc(/C=C(\\C#N)/C(=O)N)c1)c1ccc...</td>\n",
       "      <td>5.721431</td>\n",
       "    </tr>\n",
       "    <tr>\n",
       "      <th>1</th>\n",
       "      <td>2</td>\n",
       "      <td>S=C(N)N1C(c2ccc(OC)cc2)CC(c2cc(C)c(C)cc2)=N1\\r</td>\n",
       "      <td>5.610683</td>\n",
       "    </tr>\n",
       "    <tr>\n",
       "      <th>2</th>\n",
       "      <td>3</td>\n",
       "      <td>Clc1c(O)cc(-c2nn(C(C)C)c3ncnc(N)c23)cc1\\r</td>\n",
       "      <td>6.137012</td>\n",
       "    </tr>\n",
       "  </tbody>\n",
       "</table>\n",
       "</div>"
      ],
      "text/plain": [
       "   id                                 canonical_smiles\\r  \\\n",
       "0   1  S(Cc1c([O-])c(OC)cc(/C=C(\\C#N)/C(=O)N)c1)c1ccc...   \n",
       "1   2     S=C(N)N1C(c2ccc(OC)cc2)CC(c2cc(C)c(C)cc2)=N1\\r   \n",
       "2   3          Clc1c(O)cc(-c2nn(C(C)C)c3ncnc(N)c23)cc1\\r   \n",
       "\n",
       "   Predicted pIC50 values  \n",
       "0                5.721431  \n",
       "1                5.610683  \n",
       "2                6.137012  "
      ]
     },
     "execution_count": 16,
     "metadata": {},
     "output_type": "execute_result"
    }
   ],
   "source": [
    "# prediction on test data\n",
    "pred = model.predict(maccs_test_df)\n",
    "\n",
    "predicted_pIC50 = pd.DataFrame(pred, columns=['Predicted pIC50 values'])\n",
    "predicted_pIC50_df = test_df.join(predicted_pIC50)\n",
    "\n",
    "predicted_pIC50_df.head(3)"
   ]
  },
  {
   "cell_type": "markdown",
   "metadata": {},
   "source": [
    "### Model evaluation on test data"
   ]
  },
  {
   "cell_type": "code",
   "execution_count": 17,
   "metadata": {},
   "outputs": [
    {
     "name": "stdout",
     "output_type": "stream",
     "text": [
      "Evaluate on test data\n",
      "2/2 [==============================] - 0s 2ms/step - loss: 1.7148e-13 - mse: 1.7148e-13 - mae: 2.8213e-07\n",
      "score: [1.7147764599326903e-13, 1.7147764599326903e-13, 2.8212863867338456e-07]\n"
     ]
    }
   ],
   "source": [
    "# model evaluation on test data\n",
    "print(\"Evaluate on test data\")\n",
    "score = model.evaluate(maccs_test_df, pred)\n",
    "print(f'score: {score}')"
   ]
  },
  {
   "cell_type": "markdown",
   "metadata": {},
   "source": [
    "### Plotting to compare the distribution of pIC50 values"
   ]
  },
  {
   "cell_type": "code",
   "execution_count": 18,
   "metadata": {},
   "outputs": [
    {
     "data": {
      "image/png": "[encoded data removed]",
      "text/plain": [
       "<Figure size 864x864 with 2 Axes>"
      ]
     },
     "metadata": {},
     "output_type": "display_data"
    }
   ],
   "source": [
    "# Histogram plot to compare the distribution\n",
    "# of training pIC50 values and the predected pIC50\n",
    "plt.figure(figsize=(12, 12))\n",
    "sns.set(color_codes=True)\n",
    "\n",
    "plt.subplot(221)\n",
    "plt.hist(predicted_pIC50_df[\"Predicted pIC50 values\"],\n",
    "         facecolor='b', histtype='barstacked', range=(1, 10))\n",
    "plt.xlabel('pIC50 values')\n",
    "plt.ylabel('count')\n",
    "plt.title('range of predicted pIC50')\n",
    "\n",
    "plt.subplot(222)\n",
    "plt.hist(chembl_df[\"pIC50\\r\"], facecolor='r', range=(1, 10), bins=10)\n",
    "plt.xlabel('pIC50 values')\n",
    "plt.ylabel('count')\n",
    "plt.title('range of pIC50 value used in training the model')\n",
    "plt.show()\n",
    "sns.set()"
   ]
  },
  {
   "cell_type": "markdown",
   "metadata": {},
   "source": [
    "## Discussion\n",
    "\n",
    "\n",
    "\n"
   ]
  },
  {
   "cell_type": "markdown",
   "metadata": {},
   "source": [
    "TODO We can see the predicted values are also right skewed and the training values are also right skewed"
   ]
  },
  {
   "cell_type": "markdown",
   "metadata": {},
   "source": [
    "## Quiz\n",
    "\n",
    "- TODO "
   ]
  },
  {
   "cell_type": "markdown",
   "metadata": {},
   "source": [
    "-------\n",
    "## Supplementary section\n",
    "\n",
    "In this section we have defined activation functions and forward propagation function for better understanding of the concept.\n",
    "\n",
    "Lets define 4 activation functions which were discussed in the theory section above."
   ]
  },
  {
   "cell_type": "code",
   "execution_count": 19,
   "metadata": {},
   "outputs": [
    {
     "name": "stderr",
     "output_type": "stream",
     "text": [
      "2:1: E302 expected 2 blank lines, found 0\n"
     ]
    }
   ],
   "source": [
    "# Define activation functions that can be used in forward propagation\n",
    "def sigmoid(input_array):\n",
    "    \"\"\"\n",
    "    Computes the sigmoid of input element-wise.\n",
    "\n",
    "    Parameters\n",
    "    ----------\n",
    "    input_array : array\n",
    "             input values.\n",
    "\n",
    "    Returns\n",
    "    -------\n",
    "    Activation_function : array\n",
    "             post activation output.\n",
    "    input_array : array\n",
    "             input values.\n",
    "    \"\"\"\n",
    "    Activation_function = 1 / (1 + np.exp(-input_array))\n",
    "\n",
    "    return Activation_function, input_array\n",
    "\n",
    "\n",
    "def tanh(x):\n",
    "    \"\"\"\n",
    "    Computes the Hyperbolic Tagent of input element-wise.\n",
    "\n",
    "    Parameters\n",
    "    ----------\n",
    "    input_array : array\n",
    "             input values.\n",
    "\n",
    "    Returns\n",
    "    -------\n",
    "    Activation_function : array\n",
    "             post activation output.\n",
    "    input_array : array\n",
    "             input values.\n",
    "    \"\"\"\n",
    "    Activation_function = np.tanh(input_array)\n",
    "\n",
    "    return Activation_function, input_array\n",
    "\n",
    "\n",
    "def relu(input_array):\n",
    "    \"\"\"\n",
    "    Computes the Rectified Linear Unit (ReLU) element-wise.\n",
    "\n",
    "    Parameters\n",
    "    ----------\n",
    "    input_array : array\n",
    "             input values.\n",
    "    Returns\n",
    "    -------\n",
    "    Activation_function : array\n",
    "             post activation output.\n",
    "    input_array : array\n",
    "             input values.\n",
    "    \"\"\"\n",
    "    Activation_function = np.maximum(0, input_array)\n",
    "\n",
    "    return Activation_function, input_array\n",
    "\n",
    "\n",
    "def leaky_relu(input_array):\n",
    "    \"\"\"\n",
    "    Computes Leaky Rectified Linear Unit element-wise.\n",
    "\n",
    "    Parameters\n",
    "    ----------\n",
    "    input_array : array\n",
    "             input values.\n",
    "\n",
    "    Returns\n",
    "    -------\n",
    "    Activation_function : array\n",
    "             post activation output.\n",
    "    input_array : array\n",
    "             input values.\n",
    "    \"\"\"\n",
    "    Activation_function = np.maximum(0.1 * input_array, input_array)\n",
    "\n",
    "    return Activation_function, input_array"
   ]
  },
  {
   "cell_type": "markdown",
   "metadata": {},
   "source": [
    "We can also plot all the activation function using `matplotlib.plt` library as shown below."
   ]
  },
  {
   "cell_type": "code",
   "execution_count": 24,
   "metadata": {},
   "outputs": [
    {
     "data": {
      "image/png": "[encoded data removed]",
      "text/plain": [
       "<Figure size 864x576 with 4 Axes>"
      ]
     },
     "metadata": {},
     "output_type": "display_data"
    }
   ],
   "source": [
    "# Plot the 4 activation functions\n",
    "input_array = np.linspace(-10, 10, 100)\n",
    "\n",
    "# Computes post-activation outputs\n",
    "A_sigmoid, input_array = sigmoid(input_array)\n",
    "A_tanh, input_array = tanh(input_array)\n",
    "A_relu, input_array = relu(input_array)\n",
    "A_leaky_relu, input_array = leaky_relu(input_array)\n",
    "\n",
    "# Plot sigmoid function\n",
    "plt.figure(figsize=(12, 8))\n",
    "plt.subplot(2, 2, 1)\n",
    "plt.plot(input_array, A_sigmoid, 'b')\n",
    "plt.axvline(x=0, color='gray', linestyle='--')\n",
    "plt.axhline(y=0, color='gray', linestyle='--')\n",
    "plt.xlabel(\"input(x)\")\n",
    "plt.ylabel(r\"$\\frac{1}{1 + e^{-x}}$\")\n",
    "plt.title(\"Sigmoid Function\", fontsize=16)\n",
    "\n",
    "# Plot tanh function\n",
    "plt.subplot(2, 2, 2)\n",
    "plt.plot(input_array, A_tanh, 'b')\n",
    "plt.axvline(x=0, color='gray', linestyle='--')\n",
    "plt.axhline(y=0, color='gray', linestyle='--')\n",
    "plt.xlabel(\"input(x)\")\n",
    "plt.ylabel(r\"$\\frac{e^x - e^{-x}}{e^x + e^{-x}}$\")\n",
    "plt.title(\"Hyperbolic Tangent Function\", fontsize=16)\n",
    "\n",
    "# plot relu function\n",
    "plt.subplot(2, 2, 3)\n",
    "plt.plot(input_array, A_relu, 'b')\n",
    "plt.axvline(x=0, color='gray', linestyle='--')\n",
    "plt.axhline(y=0, color='gray', linestyle='--')\n",
    "plt.xlabel(\"input(x)\")\n",
    "plt.ylabel(r\"$max\\{0, x\\}$\")\n",
    "plt.title(\"ReLU Function\", fontsize=16)\n",
    "\n",
    "# plot leaky relu function\n",
    "plt.subplot(2, 2, 4)\n",
    "plt.plot(input_array, A_leaky_relu, 'b')\n",
    "plt.axvline(x=0, color='gray', linestyle='--')\n",
    "plt.axhline(y=0, color='gray', linestyle='--')\n",
    "plt.xlabel(\"input(x)\")\n",
    "plt.ylabel(r\"$max\\{0.1x, x\\}$\")\n",
    "plt.title(\"Leaky ReLU Function\", fontsize=16)\n",
    "plt.tight_layout()"
   ]
  },
  {
   "cell_type": "markdown",
   "metadata": {},
   "source": [
    "Now, we will define forward propagation function using classes, this implementation can help you understand the concept practically.\n",
    "\n",
    "First we converted our input bit vectors data into lists and then defined a class named `Layer_Dense`. It has two properties, weights and biases. We have randomly assigned their values and defined a function named `forward_pass` which calculates the **dot product** of the input values and weights and add it to the bias values. \n",
    "\n",
    "Now, as we know activation function is applied on every neuron, so we have created another class named `activation_function`, here we have defined the a function named `ReLU`, meaning we will use ReLU activation function in this case. \n",
    "\n",
    "After defining classes and their attributes, we create an object from both the classes and called the functions on our data. We can now print the output values as shown.\n",
    "\n",
    "**Note:** The predicted values will differ in every run because the weights are randomly assigned.  "
   ]
  },
  {
   "cell_type": "code",
   "execution_count": 26,
   "metadata": {},
   "outputs": [
    {
     "name": "stderr",
     "output_type": "stream",
     "text": [
      "5:1: E302 expected 2 blank lines, found 1\n",
      "9:1: W293 blank line contains whitespace\n"
     ]
    },
    {
     "name": "stdout",
     "output_type": "stream",
     "text": [
      "[[0.08964509]\n",
      " [0.        ]\n",
      " [0.38412751]\n",
      " ...\n",
      " [0.        ]\n",
      " [0.        ]\n",
      " [0.48200956]]\n"
     ]
    }
   ],
   "source": [
    "# convert our input data to list\n",
    "fingerprints_df_list = fingerprints_df.values.tolist()\n",
    "\n",
    "# create forward pass function with one hidden layer\n",
    "class Layer_Dense:\n",
    "    def __init__(self, n_inputs, n_neurons):\n",
    "        self.weights = 0.10 * np.random.randn(n_inputs, n_neurons)\n",
    "        self.biases = np.zeros((1, n_neurons))\n",
    "    def forward_pass(self, inputs):\n",
    "        self.output = np.dot(inputs, self.weights) + self.biases\n",
    "\n",
    "\n",
    "class Activation_function:\n",
    "    def ReLU(self, inputs):\n",
    "        self.output = np.maximum(0, inputs)\n",
    "\n",
    "\n",
    "# object\n",
    "layer1 = Layer_Dense(167, 50)\n",
    "layer2 = Layer_Dense(50, 1)\n",
    "activation1 = Activation_function()\n",
    "activation2 = Activation_function()\n",
    "\n",
    "# function calling\n",
    "layer1.forward_pass(fingerprints_df_list)\n",
    "layer2.forward_pass(layer1.output)\n",
    "activation1.ReLU(layer1.output)\n",
    "activation2.ReLU(layer2.output)\n",
    "\n",
    "print(activation2.output)"
   ]
  },
  {
   "cell_type": "code",
   "execution_count": null,
   "metadata": {},
   "outputs": [],
   "source": []
  }
 ],
 "metadata": {
  "kernelspec": {
   "display_name": "Python 3",
   "language": "python",
   "name": "python3"
  },
  "language_info": {
   "codemirror_mode": {
    "name": "ipython",
    "version": 3
   },
   "file_extension": ".py",
   "mimetype": "text/x-python",
   "name": "python",
   "nbconvert_exporter": "python",
   "pygments_lexer": "ipython3",
   "version": "3.7.7"
  }
 },
 "nbformat": 4,
 "nbformat_minor": 4
}
