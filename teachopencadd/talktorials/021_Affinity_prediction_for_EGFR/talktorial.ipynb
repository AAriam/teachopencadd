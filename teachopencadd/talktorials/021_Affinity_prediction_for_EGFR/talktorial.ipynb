{
 "cells": [
  {
   "cell_type": "markdown",
   "metadata": {},
   "source": [
    "# T022 - Ligand-based screening: Neural networks\n",
    "\n",
    "Developed in the CADD seminar 2020, Volkamer Lab, Charité/FU Berlin \n",
    "\n",
    "Authors : \n",
    "\n",
    "- Ahmed Atta, CADD Seminar 2020, Charité/FU Berlin\n",
    "- Sakshi Misra, [Volkamer lab](https://volkamerlab.org), Charité\n",
    "- Talia B. Kimber, [Volkamer lab](https://volkamerlab.org), Charité\n",
    "- Prof. Dr. Andrea Volkamer, [Volkamer lab](https://volkamerlab.org), Charité"
   ]
  },
  {
   "cell_type": "markdown",
   "metadata": {},
   "source": [
    "## Aim of this talktorial\n",
    "\n",
    "In recent years, the use of neural networks in pharmaceutical research has shown promising results in addressing diverse problems in drug discovery. In this talktorial, we get familiar with the basic structure of artificial neural networks and we will learn how to build a simple two layer neural network and use it to predict the pIC50 values of unknown compounds against our target of interest (EGFR). Furthermore, we will select three compounds from the unknown data set that are active against the EGFR kinase."
   ]
  },
  {
   "cell_type": "markdown",
   "metadata": {},
   "source": [
    "### Contents in *Theory*\n",
    "\n",
    "- Biological background\n",
    "    - EGFR\n",
    "    - Compound activity measures\n",
    "    - Molecule encoding\n",
    "- What is a neural network ?\n",
    "- Basic structure of a neural network\n",
    "- What does a neuron do?\n",
    "- Activation functions\n",
    "    - Types of activation functions\n",
    "- Loss function\n",
    "- How to train a neural network\n",
    "    - Backpropagation\n",
    "    - Gradient descent\n",
    "- Advantages and applications of neural network"
   ]
  },
  {
   "cell_type": "markdown",
   "metadata": {},
   "source": [
    "### Contents in *Practical*\n",
    "\n",
    "- Load data and visualize the dataframe\n",
    "- Data preparation: molecule encoding\n",
    "- Define keras model\n",
    "- Choose the most appropriate batch sizes\n",
    "- Fit keras model\n",
    "- Evaluate keras model\n",
    "- Prediction on test data\n",
    "- Model evaluation on test data\n",
    "- Plotting to compare the distribution of pIC50 values"
   ]
  },
  {
   "cell_type": "markdown",
   "metadata": {},
   "source": [
    "### References\n",
    "\n",
    " - Theoretical background:\n",
    "     - Blogpost: Imad Dabbura, *Coding Neural Network — Forward Propagation and Backpropagtion*, [towards data science, accessed April 1st, 2018](https://towardsdatascience.com/coding-neural-network-forward-propagation-and-backpropagtion-ccf8cf369f76).\n",
    "     - Blogpost: Lavanya Shukla, *Designing Your Neural Networks*, [towardsdatascience, accessed Sep 23rd, 2019](https://towardsdatascience.com/designing-your-neural-networks-a5e4617027ed)\n",
    "     - Blogpost: Arthur Arnx, *First neural network for beginners explained (with code)*, [towardsdatascience, accessed Jan 13th, 2019](https://towardsdatascience.com/first-neural-network-for-beginners-explained-with-code-4cfd37e06eaf) \n",
    "     - Blogpost: Varun Divakar, *Understanding Backpropagation*, [QuantInst, accessed Nov 19th, 2018](https://blog.quantinsti.com/backpropagation/) \n",
    "     - Blogpost: ARAVIND PAI, *CNN vs. RNN vs. ANN – Analyzing 3 Types of Neural Networks in Deep Learning*, [Analytics Vidya, accessed Feb 17th, 2020](https://towardsdatascience.com/first-neural-network-for-beginners-explained-with-code-4cfd37e06eaf) \n",
    "     - Blogpost: https://www.machinelearningplus.com/plots/python-scatter-plot/\n",
    "     - Activation functions: Siddharth Sharma, \"ACTIVATION FUNCTIONS IN NEURAL NETWORKS\". [_International Journal of Engineering Applied Sciences and Technology, 2020_ **Vol. 4, Issue 12,**, 310-316 (2020).](https://www.ijeast.com/papers/310-316,Tesma412,IJEAST.pdf)\n",
    "     \n",
    "     \n",
    "- Packages:\n",
    "     - [keras](https://keras.io/): Book chapter: \"An Introduction to Deep Learning and Keras\" in [*Learn Keras for Deep Neural Networks* (2019), **page(s):1-16**](https://doi.org/10.1007/978-1-4842-4240-7).\n",
    "     - [Sequential model](https://keras.io/api/models/sequential/) in keras"
   ]
  },
  {
   "cell_type": "markdown",
   "metadata": {},
   "source": [
    "## Theory"
   ]
  },
  {
   "cell_type": "markdown",
   "metadata": {},
   "source": [
    "### Biological background"
   ]
  },
  {
   "cell_type": "markdown",
   "metadata": {},
   "source": [
    "#### EGFR\n",
    "\n",
    "- [Epidermal growth factor receptor (EGFR)](https://en.wikipedia.org/wiki/Epidermal_growth_factor_receptor) is a transmembrane protein/receptor present on the cell membrane. It is a member of the ErbB family of receptors. They have an extracellular binding  component/domain, a hydrphobic transmembrane component/domain and an intracelluar tyrosine kinase component/domain. \n",
    "\n",
    "- EGFRs play an important role in controlling normal cell growth, apoptosis and other cellular functions. \n",
    "\n",
    "- It is activated by ligand binding to its extracellular domain, upon activation EGFR undergoes a transition from an inactive monomeric form to an active homodimers.\n",
    "\n",
    "- The EGFR receptor is upregulated in various types of tumors or cancers, so an EGFR inhibition is a type of biological therapy that might stop cancer cell from growing."
   ]
  },
  {
   "cell_type": "markdown",
   "metadata": {},
   "source": [
    "#### Compound activity measures\n",
    "\n",
    "- **IC50** is the half maximal inhibitory concentration of a drug which indicates how much a drug is needed to inhibit a biological process by half and in our case the epidermal growth factor receptor as its inhibition helps in slowing down or stopping cancer cell growth. \n",
    "\n",
    "- **pIC50** is the negative log of the IC50 value. It is more easily interpretable than IC50 values and a common measure for potency of compounds. (Please refer to [talktorial 001](https://github.com/volkamerlab/teachopencadd/blob/master/teachopencadd/talktorials/T001_query_chembl/talktorial.ipynb) for further details.)"
   ]
  },
  {
   "cell_type": "markdown",
   "metadata": {},
   "source": [
    "#### Molecule encoding\n",
    "\n",
    "For machine learning algorithms, molecules need to be converted into a list of features, in this case molecular fingerprints are used. \n",
    "\n",
    "Molecular fingerprints represent or encode the chemical structures and molecular features in bitstrings form, where at each position \"1\" represents the presence and \"0\" represents the absence of a feature.\n",
    "\n",
    "One of the common fingerprints used are **M**olecular **ACC**ess **S**ystem fingerprints [(MACCS Keys)](https://docs.eyesopen.com/toolkits/python/graphsimtk/fingerprint.html#maccs) which are 166 bits structural key descriptors in which each bit is associated with a [SMARTS](https://docs.eyesopen.com/toolkits/python/oechemtk/glossary.html#term-smarts) pattern (Please refer to [talktorial 004](https://github.com/volkamerlab/teachopencadd/blob/master/teachopencadd/talktorials/T004_compound_similarity/talktorial.ipynb) for further details.)"
   ]
  },
  {
   "cell_type": "markdown",
   "metadata": {},
   "source": [
    "### What is a neural network?\n",
    "\n",
    "Neural networks, also known as artificial neural networks (ANNs) are a subset of machine learning algorithms. The structure and the name of the neural network is inspired by the human brain, mimicking the way that biological neurons transfers signal to one another.\n",
    "ANNs are comprised of node layers, containing an input layer, one or more hidden layers, and an output layer. The operations of a complete neural network is straightforward: the input layer receives the input and the output layer predicts the final output. In between there exists hidden layers which performs the computations required by the network. We will discuss more about the structure in the next section.\n",
    "\n",
    "<div>\n",
    "<img src=\"images/neural_network.png\" width=\"500\" align=\"center\"/>\n",
    "</div>\n",
    "\n",
    "*Figure 1:* Representation of a two-layer neural network. Figure is taken from the blogpost [Coding Neural Network — Forward Propagation and Backpropagtion](https://towardsdatascience.com/coding-neural-network-forward-propagation-and-backpropagtion-ccf8cf369f76)\n",
    "\n"
   ]
  },
  {
   "cell_type": "markdown",
   "metadata": {},
   "source": [
    "### Basic structure of a neural network\n",
    "\n",
    "Each node, or artificial neuron, connects to another via channels meaning a neuron of the column *n* can only be connected to neurons from column *n-1* and *n+1*. Every neural connection or channel has an associated numerical value known as weights. If the output of any individual neuron is above certain threshold value, that node is activated, meaning sending data to the next layer of the network. Otherwise, no data is passed along to the next layer of the network.\n",
    "\n",
    "Neural network consists of three main layers as shown below:\n",
    "\n",
    "1. Input layer\n",
    "2. Hidden layers \n",
    "3. Output layer \n",
    "\n",
    "<div>\n",
    "<img src=\"images/basic_structure.png\" width=\"500\" align=\"center\"/>\n",
    "</div>\n",
    "\n",
    "*Figure 2:* Figure shows the basic structure of a neural network. It is taken from the blogpost: \"*Designing Your Neural Networks*\", Lavanya Shukla, [towardsdatascience](https://towardsdatascience.com/designing-your-neural-networks-a5e4617027ed)\n",
    "\n",
    "Lets take a deeper look at each layer,\n",
    "\n",
    "\n",
    "- **Input neurons or input layer**\n",
    "\n",
    "   - This layer represents the number of features which are used to make the predictions.\n",
    "   - The input vector needs one input neuron per feature. For example as shown in the figure below, the image is composed of 28 * 28 = 784 pixels, each pixel will be fed as an input to each neuron of the first input layer.\n",
    "   \n",
    " \n",
    "<div>\n",
    "<img src=\"images/input_vector.png\" width=\"500\" align=\"center\"/>\n",
    "</div>\n",
    "\n",
    "*Figure 3:* Figure shows a hand written digit composed of 784 pixels which is given as an input to our first input layer neurons. It is taken from the blogpost: \"*Designing Your Neural Networks*\", Lavanya Shukla, [towardsdatascience](https://towardsdatascience.com/designing-your-neural-networks-a5e4617027ed)\n",
    "\n",
    "\n",
    "- **Hidden layers and neurons per hidden layer**\n",
    "\n",
    "    -  The optimal size of the hidden layer is usually between the size of the input and the size of the outputs layer. In general, using same number of neurons for all hidden layers will suffice but for some datasets, having a large first layer and following it up with smaller layers will lead to a better performance as first layers can learn a lot of low-level features that can fed into the next subsequent layers which can learn higher order features.\n",
    "    - In the figure below, the input was a dog image broken into pixels, then several layers learn the different features and finally the network outputs it as a dog.\n",
    "\n",
    "<div>\n",
    "<img src=\"images/layer.png\" width=\"500\" align=\"center\"/>\n",
    "</div>\n",
    "\n",
    "*Figure 4:* Figure shows the hidden layers learning certain features of a dog image. It taken from the blogpost: \"*Designing Your Neural Networks*\", Lavanya Shukla, [towardsdatascience](https://towardsdatascience.com/designing-your-neural-networks-a5e4617027ed)\n",
    "\n",
    "\n",
    "- **Output neurons or output layer**\n",
    "\n",
    "  - The output layer contains the number of neurons which represents the number of predictions you want to make and the neuron with highest value probability determines the output.\n",
    "  - **Regression**: For regressions tasks, this can be a value like predicting the price of the house or predicting stock prices.\n",
    "  - **Classification**: For binary classification tasks, we have an output neuron per positive class which represents the probability of the positive class whereas for multi-class classification, we have an output neuron per class and we use a certain activation function on the output layer to ensure the final probabilities sum to 1."
   ]
  },
  {
   "cell_type": "markdown",
   "metadata": {},
   "source": [
    "### What does a neuron do ?\n",
    "\n",
    "Neurons are the basic units of a neural network, so lets understand the operations done by each neuron:\n",
    "\n",
    "<div>\n",
    "<img src=\"images/neuron.png\" width=\"500\" align=\"center\"/>\n",
    "</div>\n",
    "\n",
    "*Figure 5:* Operations done by a neuron. Figure is taken from the blogpost: \"*First neural network for beginners explained (with code)*\", Arthur Arnx, [towardsdatascience](https://towardsdatascience.com/first-neural-network-for-beginners-explained-with-code-4cfd37e06eaf)\n",
    "\n",
    "- First, the values from the previous layer's neurons adds up and sent to the current neuron. In the figure above, there are 3 inputs $(x1, x2, x3)$ coming to the neuron, meaning 3 neurons are connected to our current neuron. \n",
    "- Each connection or channel has assigned a numerical value known as **weight** $(w1, w2, w3)$. Weight determines the connection between the neurons or in other words, a weight decides how much influence the input will have on the output. The inputs are multiplied by the corresponding weights and their sum is sent as input to the neurons in the hidden layer.\n",
    "- Each of these neurons is associated with a numerical value called the **bias** which is then added to the input sum.\n",
    "- Both weights and bias, commonly referred to as *w* and *b*, are the learnable parameters which can be tuned while training the model to get the better performance of a model. The equation below summarises the operations done by our neuron:\n",
    "\n",
    "\n",
    "$$ Y = \\sum (w1*x1 + w2*x2 + w3*x3) + bias $$\n",
    "\n",
    "where, $Y$ = value of neuron after summation of weights and bias before activation function is applied\n",
    "\n",
    "- After all those summations, the value is then passed through a threshold function called the **activation function**. The result of the activation function determines if the particular neuron will get activated or not. An activated neuron transmits data to the neuron of the next layer over the channels. In this manner the data is propagated through the network which is known as **forward propagation**. There are many types of activation functions which we will discuss in detail in the next section."
   ]
  },
  {
   "cell_type": "markdown",
   "metadata": {},
   "source": [
    "### Activation function\n",
    "\n",
    "#### What is a activation function?\n",
    "\n",
    "[Activation functions](https://en.wikipedia.org/wiki/Activation_function) are the mathematical equations that determine the output of a neural network. Each neuron is applied by this function and it determines whether the neuron should be activated or not. \n",
    "\n",
    "The value of **Y** can be anything ranging from $-\\infty$ to $+\\infty$ . The neuron doesn't know the bounds of the value, so how do we decide whether the neuron should be activated or not? Then, the activation functions comes into the picture which helps in normalizing the output of each neuron to a range between 1 and 0 or between -1 and 1 depending on the type of an activation function used. Activation function simply works as a \"gate\" in between the input feeding the current neuron and its output going to the next layer as shown below, \n",
    "\n",
    "<div>\n",
    "<img src=\"images/activation.png\" width=\"500\" align=\"center\"/>\n",
    "</div>\n",
    "\n",
    "*Figure 6:* Figure shows the activation function applied on a neuron. It is taken from the blogpost: [7 Types of Neural Network Activation Functions: How to Choose?](https://missinglink.ai/guides/neural-network-concepts/7-types-neural-network-activation-functions-right/)"
   ]
  },
  {
   "cell_type": "markdown",
   "metadata": {},
   "source": [
    "#### Types of activation function\n",
    "\n",
    "There are many types of activation but we will discuss the ones which we will use in the practical section below. For more information on some other types of activation functions, you can refer supplementary section and references.\n",
    "\n",
    "Most neural networks uses non-linear activation functions as it makes easy for the model to generalize or adapt with variety of data and to differentiate between the output.\n",
    "\n",
    "**Rectified Linear Unit (ReLU)** is one of the most commonly used activation function. \n",
    "\n",
    "- It takes the form: $$\\boxed{f(x) = max\\{ 0,x\\}}$$\n",
    "\n",
    "- As shown below in the figure, [ReLu](https://machinelearningmastery.com/rectified-linear-activation-function-for-deep-learning-neural-networks/) gives an output $x$ if $x$ is positive and $0$ otherwise. The range of ReLu is [0, inf) which is not bound. \n",
    "- One of the reasons of it being commonly used could be its sparsity in the activation. Imagine if we have a deep neural network with many neurons, using a sigmoid or tanh will cause all the neurons to be activated, this is costly. But with ReLu, only few neurons will be activated and thereby making the activations sparse and efficient.\n",
    "- The only issue is that when inputs approach to zero or negative, the gradient of the function becomes zero hence, the network cannot learn and perform backpropagation. \n",
    "- It has become the default activation function for many types of neural networks because a model that uses it is easier to train and often achieves better performance\n",
    "\n",
    "- We used ReLU activation function for both the hidden layers in while defining a keras model.\n",
    "\n",
    "<div>\n",
    "<img src=\"images/relu.png\" width=\"400\" align=\"center\"/>\n",
    "</div>\n",
    "\n",
    "*Figure 7:* Representation of a \"ReLU\" function. Figure by Sakshi Misra\n",
    "\n",
    "\n",
    " \n",
    "**Linear activation function** is an another type of activation function which we have used for the output layer. \n",
    "\n",
    "- A [linear](https://keras.io/api/layers/core_layers/dense/) activation function in keras takes the form: $$\\boxed{a(x) = x}$$\n",
    "\n",
    "- It is a straight line function where the activation is proportional to input which is the weighted sum from neuron. \n",
    "- The most appropriate activation function for the output neuron(s) of a neural network used for regression problems is a linear activation. Hence we used linear activation function on the output layer to predict the pIC50 values of the drugs."
   ]
  },
  {
   "cell_type": "markdown",
   "metadata": {},
   "source": [
    "### Loss function \n",
    "\n",
    "Before diving into how to train a neural network lets discuss about **loss** and **loss function**. In neural network, we have an objective function i.e. to minimize the prediction error, so this objective function is often referred to as cost function or loss function. Basically, through loss function we calculate loss or prediction error. Loss function is one of the important components of training the neural networks. \n",
    "\n",
    "Keras and tensorflow have various inbuilt loss functions, we will be covering some of them such as:\n",
    "\n",
    "- **Mean Squared Error (MSE)**: It is used for regression tasks, as the name suggests this loss is calculated by taking the mean of squared differences between actual(target) and predicted values. \n",
    "\n",
    "- **Mean Absolute Error (MAE)**: It is also used for regression tasks, the loss is calculated by taking the mean of the absolute values of the individual prediction errors. (Prediction error is the difference between the actual values and the predicted values)\n",
    "\n",
    "The choice of loss function is directly related to the activation function used in the output layer of your neural network. For example, in our case we have to predict the pIC50 value of drug molecules so it is a regression task. We can use linear activation function in the output layer and mean square error (mse) as our loss function.\n",
    "\n",
    "\n",
    "You can refer to article: [Loss and Loss Functions for Training Deep Learning Neural Networks](https://machinelearningmastery.com/loss-and-loss-functions-for-training-deep-learning-neural-networks/) for more details."
   ]
  },
  {
   "cell_type": "markdown",
   "metadata": {},
   "source": [
    "### How to train a neural network ?\n",
    "\n",
    "When we start with [forward propagation](https://en.wikipedia.org/wiki/Feedforward_neural_network), we randomly assign weights in our network. Obviously, it won’t give very good results, so how the network figures this out? \n",
    "\n",
    "During the training process along with the input our network also has the output fed to it. The predicted output is compared against the actual output to realize the error in prediction, the magnitude of the error indicates how wrong we are. This error is computed using loss function which we want to minimize and make it much lower at the end of training. It can be done by calculating the gradient by back propagating in the network and adjust the weights such that the network can predict the output correctly. \n",
    "\n",
    "There are major two algorithms which helps in training the neural network model:\n",
    "\n",
    "- [Back propagation](https://de.wikipedia.org/wiki/Backpropagation): gradient computation  \n",
    "- [Gradient descent](https://en.wikipedia.org/wiki/Gradient_descent#:~:text=Gradient%20descent%20is%20a%20first,the%20direction%20of%20steepest%20descent.): optimization method to minimize the loss or cost function"
   ]
  },
  {
   "cell_type": "markdown",
   "metadata": {},
   "source": [
    "#### Backpropagation\n",
    "\n",
    "Backpropagation is an efficient method of calculating the derivatives or gradient. This algorithm trains a neural network through a method called chain rule. In simple terms, after each forward pass through a network, backpropagation performs a backward pass while adjusting the model’s parameters (weights and biases) which aims to minimize the cost function."
   ]
  },
  {
   "cell_type": "markdown",
   "metadata": {},
   "source": [
    "#### Gradient descent \n",
    "\n",
    "**Gradient** is the vector which points to the direction of the steepest increase of the function. Since, we want to minimize our function, we will take a step in the opposite direction of gradient. Generally we want to control how big of step we make, this is achieved by choosing the most important hyper parameter which is called [learning rate](https://techburst.io/improving-the-way-we-work-with-learning-rate-5e99554f163b). Mostly people choose learning rate by trying out a bunch of numbers and using the one that looks to work best. \n",
    "\n",
    "In our neural network we have weights which values we want to improve, if we compute the gradient of the loss function w.r.t. to our weights and take small steps in the opposite direction of gradient, our loss will gradually decrease until it converges to some local minima, this algorithm is called **gradient descent**. So in short, it is the process of descending through the gradient i.e. adjusting the parameters of the model to minimize the loss function and achieve our target, which is to predict close to the original value. There many types of gradient descent method or say batch sizes which refers to the number of samples that will be propagated through the network to train it. Batches can made up of:\n",
    "\n",
    "- **Stochastic Gradient Descent(SGD)**: When we train the model to optimize the loss function using only single sample from our dataset, it is called Stochastic Gradient Descent.\n",
    "- **Batch Gradient Descent**: When we train the model to optimize the loss function using the the whole dataset, it is called Batch Gradient Descent.\n",
    "- **Mini-Batch Gradient Descent**: Batch gradient descent takes a lot of time and is therefore somewhat inefficient. If we look at SGD, it is trained using only 1 example. There is a possibility that the model may get too biased with the peculiarity of that particular example when we use SGD. So, we use the mean of a batch of 10–1000 examples to check the optimize the loss in order to deal with the problems.\n"
   ]
  },
  {
   "cell_type": "markdown",
   "metadata": {},
   "source": [
    "#### Workflow to train a neural network using keras\n",
    "\n",
    "Let us first understand the basic workflow of how [keras](https://keras.io/getting_started/) helps in the process of deep learning. The goal is to train a neural network model with the training dataset and use test datasets to predict the pIC50 value for the drug molecules which it has never seen before.\n",
    " \n",
    "- **Prepare data** − Foremost for any machine learning algorithm, we process, filter and select only the required information from the data. Then the data is split into training and test data set. Test data will be used to evaluate the prediction of the algorithm / model and to cross check the efficiency of the learning process.\n",
    " \n",
    "- **Define the model** - In keras, every ANN is represented by Keras [Models](https://keras.io/api/models/model/#model-class). keras provides a way to create a model which is called [Sequential model](https://keras.io/api/models/sequential/). It is simple and easy to use. The layers are arranged sequentially where the data flows from one layer to another layer in the given order until the data finally reaches the output layer. Each layers in ANN can be represented by keras layer in keras. \n",
    "\n",
    "We can specified the number of neurons or nodes in the layer as the first argument, and specify the activation function using the activation argument. We have used [rectified linear unit activation function](https://machinelearningmastery.com/rectified-linear-activation-function-for-deep-learning-neural-networks/) in the hidden layers and [linear](https://keras.io/api/layers/core_layers/dense/) in the output layer.\n",
    "\n",
    "- **Compile the model** − The compilation is the final step in creating a model. Once the compilation is done, we can move on to training phase. This step requires us to choose **loss function** and **optimizer**. Loss function and optimizer are used in learning phase to find the error (deviation from actual output) and do optimization so that the error will be minimized. In this case we used **mean square error** as a loss argument and we defined optimizer to be **adam** which is a popular version of gradient descent because it automatically tunes itself and gives good results in a wide range of problems. \n",
    "\n",
    "To learn more about the Adam version of stochastic gradient descent see the post: [Gentle Introduction to the Adam Optimization Algorithm for Deep Learning](https://machinelearningmastery.com/adam-optimization-algorithm-for-deep-learning/).\n",
    "\n",
    "- **Fit the model** - The actual learning process will be done in this phase using the training data set. We can call [fit()](https://keras.io/api/models/model_training_apis/#fit-method) method which needs several parameters like **X**: Input data, **y**: Target data, batch size, epochs etc. **Epochs** means number of times the model is needed to be evaluated during training process. For example one **epoch** means when an entire dataset is passed forward and backward through the neural network **once**.\n",
    "\n",
    "- **Predict result for unknown value** − Keras provides a method, [predict](https://keras.io/api/models/model_training_apis/#predict-method) to get the prediction of the trained model.\n",
    "\n",
    "- **Evaluate model** − Evaluate the model by predicting the output for test data and cross-comparing the prediction with actual result of the test data by using [evaluate](https://keras.io/api/models/model_training_apis/#evaluate-method) method provided by keras. Evaluation is a process during development of the model to check whether the model is best fit for the given problem and corresponding data. It has three main arguments,\n",
    "\n",
    "   - Test data\n",
    "   - Test data label\n",
    "   - verbose - true or false\n",
    "\n",
    "**Scatter plots** can be used to plot predicted values vs true values and the relation can be observed...."
   ]
  },
  {
   "cell_type": "markdown",
   "metadata": {},
   "source": [
    "### Advantages and applications of neural network\n",
    "\n",
    "#### Advantages of a neural network \n",
    "\n",
    "- **Organic learning**: Neural networks have the ability to learn by themselves by extracting the important features present in the input data. The outputs aren't limited entirely by inputs. Neural networks have the ability to generalize their inputs.\n",
    "- **Non linear data processing**: They have the ability to learn and model non-linear and complex relationships. \n",
    "- **Fault tolerance**: They have potential for high fault tolerance. When these networks are scaled across multiple machines and multiple servers, they can debug and diagnose the problem by its own."
   ]
  },
  {
   "cell_type": "markdown",
   "metadata": {},
   "source": [
    "#### Applications of neural networks\n",
    "\n",
    "There are various applications of neural networks in computer aided drug design  such as:\n",
    "\n",
    "- Biomarker identification and/or classification\n",
    "- Pattern recognition\n",
    "\n",
    "Please refer to the article: \"*Neural networks – advantages and applications*\", [ScienceDirect](https://doi.org/10.1016/B978-0-444-81892-8.50036-5) for general applications."
   ]
  },
  {
   "cell_type": "markdown",
   "metadata": {},
   "source": [
    "## Practical\n",
    "\n",
    "The first step is to import all the necessary libraries and define the functions and classes we intend to use in this notebook."
   ]
  },
  {
   "cell_type": "code",
   "execution_count": 1,
   "metadata": {},
   "outputs": [],
   "source": [
    "from pathlib import Path\n",
    "from warnings import filterwarnings\n",
    "import time\n",
    "\n",
    "import pandas as pd\n",
    "import numpy as np\n",
    "from rdkit import Chem\n",
    "from rdkit.Chem import MACCSkeys, Draw\n",
    "from sklearn.model_selection import KFold, train_test_split\n",
    "import matplotlib.pyplot as plt\n",
    "import seaborn as sns\n",
    "from sklearn import metrics\n",
    "\n",
    "# Neural network specific libraries\n",
    "from tensorflow.keras.models import Sequential, load_model\n",
    "from tensorflow.keras.layers import Dense\n",
    "from tensorflow.keras.callbacks import ModelCheckpoint\n",
    "%matplotlib inline\n",
    "from pathlib import Path\n",
    "\n",
    "# Silence some expected warnings\n",
    "filterwarnings(\"ignore\")"
   ]
  },
  {
   "cell_type": "markdown",
   "metadata": {},
   "source": [
    "###  Load data and visualize the dataframe"
   ]
  },
  {
   "cell_type": "markdown",
   "metadata": {},
   "source": [
    "Let's load our data which is the subset of ChEMBL dataset and visualize the dataframe, the important columns in the dataframe are:\n",
    "\n",
    "- CHEMBL-ID\n",
    "- SMILES string of the corresponding compound\n",
    "- Measured affinity: pIC50"
   ]
  },
  {
   "cell_type": "code",
   "execution_count": 2,
   "metadata": {
    "format": "row"
   },
   "outputs": [],
   "source": [
    "# Set path to this notebook\n",
    "HERE = Path(_dh[-1])\n",
    "DATA = HERE / \"data\"\n",
    "\n",
    "df = pd.read_csv(DATA/'CHEMBL25_activities_EGFR.csv',\n",
    "                 index_col = 0)  # NBVAL_CHECK_OUTPUT\n",
    "\n",
    "df=df.reset_index(drop=True)"
   ]
  },
  {
   "cell_type": "code",
   "execution_count": 3,
   "metadata": {},
   "outputs": [
    {
     "name": "stdout",
     "output_type": "stream",
     "text": [
      "Shape of dataframe :  (3906, 5)\n",
      "<class 'pandas.core.frame.DataFrame'>\n",
      "RangeIndex: 3906 entries, 0 to 3905\n",
      "Data columns (total 5 columns):\n",
      " #   Column            Non-Null Count  Dtype  \n",
      "---  ------            --------------  -----  \n",
      " 0   chembl_id         3906 non-null   object \n",
      " 1   IC50              3906 non-null   float64\n",
      " 2   units             3906 non-null   object \n",
      " 3   canonical_smiles  3906 non-null   object \n",
      " 4   pIC50             3906 non-null   float64\n",
      "dtypes: float64(2), object(3)\n",
      "memory usage: 152.7+ KB\n"
     ]
    },
    {
     "data": {
      "text/html": [
       "<div>\n",
       "<style scoped>\n",
       "    .dataframe tbody tr th:only-of-type {\n",
       "        vertical-align: middle;\n",
       "    }\n",
       "\n",
       "    .dataframe tbody tr th {\n",
       "        vertical-align: top;\n",
       "    }\n",
       "\n",
       "    .dataframe thead th {\n",
       "        text-align: right;\n",
       "    }\n",
       "</style>\n",
       "<table border=\"1\" class=\"dataframe\">\n",
       "  <thead>\n",
       "    <tr style=\"text-align: right;\">\n",
       "      <th></th>\n",
       "      <th>chembl_id</th>\n",
       "      <th>IC50</th>\n",
       "      <th>units</th>\n",
       "      <th>canonical_smiles</th>\n",
       "      <th>pIC50</th>\n",
       "    </tr>\n",
       "  </thead>\n",
       "  <tbody>\n",
       "    <tr>\n",
       "      <th>0</th>\n",
       "      <td>CHEMBL207869</td>\n",
       "      <td>77.0</td>\n",
       "      <td>nM</td>\n",
       "      <td>Clc1c(OCc2cc(F)ccc2)ccc(Nc2c(C#Cc3ncccn3)cncn2)c1</td>\n",
       "      <td>7.113509</td>\n",
       "    </tr>\n",
       "    <tr>\n",
       "      <th>1</th>\n",
       "      <td>CHEMBL3940060</td>\n",
       "      <td>330.0</td>\n",
       "      <td>nM</td>\n",
       "      <td>ClCC(=O)OCCN1C(=O)Oc2c1cc1c(Nc3cc(Cl)c(F)cc3)n...</td>\n",
       "      <td>6.481486</td>\n",
       "    </tr>\n",
       "    <tr>\n",
       "      <th>2</th>\n",
       "      <td>CHEMBL3678951</td>\n",
       "      <td>1.0</td>\n",
       "      <td>nM</td>\n",
       "      <td>FC(F)(F)c1cc(Nc2n(C(C)C)c3nc(Nc4ccc(N5CC[NH+](...</td>\n",
       "      <td>9.000000</td>\n",
       "    </tr>\n",
       "    <tr>\n",
       "      <th>3</th>\n",
       "      <td>CHEMBL504034</td>\n",
       "      <td>40.0</td>\n",
       "      <td>nM</td>\n",
       "      <td>Clc1c(OCc2cc(F)ccc2)ccc(Nc2ncnc3c2sc(C#C[C@H]2...</td>\n",
       "      <td>7.397940</td>\n",
       "    </tr>\n",
       "    <tr>\n",
       "      <th>4</th>\n",
       "      <td>CHEMBL158797</td>\n",
       "      <td>43000.0</td>\n",
       "      <td>nM</td>\n",
       "      <td>S(Sc1n(C)c2c(c1C(=O)NCC(O)CO)cccc2)c1n(C)c2c(c...</td>\n",
       "      <td>4.366531</td>\n",
       "    </tr>\n",
       "  </tbody>\n",
       "</table>\n",
       "</div>"
      ],
      "text/plain": [
       "       chembl_id     IC50 units  \\\n",
       "0   CHEMBL207869     77.0    nM   \n",
       "1  CHEMBL3940060    330.0    nM   \n",
       "2  CHEMBL3678951      1.0    nM   \n",
       "3   CHEMBL504034     40.0    nM   \n",
       "4   CHEMBL158797  43000.0    nM   \n",
       "\n",
       "                                    canonical_smiles     pIC50  \n",
       "0  Clc1c(OCc2cc(F)ccc2)ccc(Nc2c(C#Cc3ncccn3)cncn2)c1  7.113509  \n",
       "1  ClCC(=O)OCCN1C(=O)Oc2c1cc1c(Nc3cc(Cl)c(F)cc3)n...  6.481486  \n",
       "2  FC(F)(F)c1cc(Nc2n(C(C)C)c3nc(Nc4ccc(N5CC[NH+](...  9.000000  \n",
       "3  Clc1c(OCc2cc(F)ccc2)ccc(Nc2ncnc3c2sc(C#C[C@H]2...  7.397940  \n",
       "4  S(Sc1n(C)c2c(c1C(=O)NCC(O)CO)cccc2)c1n(C)c2c(c...  4.366531  "
      ]
     },
     "execution_count": 3,
     "metadata": {},
     "output_type": "execute_result"
    }
   ],
   "source": [
    "# Check the dimension and missing value of the data\n",
    "print(\"Shape of dataframe : \", df.shape)\n",
    "df.info()\n",
    "\n",
    "# Look at head\n",
    "df.head()"
   ]
  },
  {
   "cell_type": "code",
   "execution_count": 4,
   "metadata": {},
   "outputs": [
    {
     "data": {
      "text/html": [
       "<div>\n",
       "<style scoped>\n",
       "    .dataframe tbody tr th:only-of-type {\n",
       "        vertical-align: middle;\n",
       "    }\n",
       "\n",
       "    .dataframe tbody tr th {\n",
       "        vertical-align: top;\n",
       "    }\n",
       "\n",
       "    .dataframe thead th {\n",
       "        text-align: right;\n",
       "    }\n",
       "</style>\n",
       "<table border=\"1\" class=\"dataframe\">\n",
       "  <thead>\n",
       "    <tr style=\"text-align: right;\">\n",
       "      <th></th>\n",
       "      <th>chembl_id</th>\n",
       "      <th>canonical_smiles</th>\n",
       "      <th>pIC50</th>\n",
       "    </tr>\n",
       "  </thead>\n",
       "  <tbody>\n",
       "    <tr>\n",
       "      <th>0</th>\n",
       "      <td>CHEMBL207869</td>\n",
       "      <td>Clc1c(OCc2cc(F)ccc2)ccc(Nc2c(C#Cc3ncccn3)cncn2)c1</td>\n",
       "      <td>7.113509</td>\n",
       "    </tr>\n",
       "    <tr>\n",
       "      <th>1</th>\n",
       "      <td>CHEMBL3940060</td>\n",
       "      <td>ClCC(=O)OCCN1C(=O)Oc2c1cc1c(Nc3cc(Cl)c(F)cc3)n...</td>\n",
       "      <td>6.481486</td>\n",
       "    </tr>\n",
       "    <tr>\n",
       "      <th>2</th>\n",
       "      <td>CHEMBL3678951</td>\n",
       "      <td>FC(F)(F)c1cc(Nc2n(C(C)C)c3nc(Nc4ccc(N5CC[NH+](...</td>\n",
       "      <td>9.000000</td>\n",
       "    </tr>\n",
       "    <tr>\n",
       "      <th>3</th>\n",
       "      <td>CHEMBL504034</td>\n",
       "      <td>Clc1c(OCc2cc(F)ccc2)ccc(Nc2ncnc3c2sc(C#C[C@H]2...</td>\n",
       "      <td>7.397940</td>\n",
       "    </tr>\n",
       "    <tr>\n",
       "      <th>4</th>\n",
       "      <td>CHEMBL158797</td>\n",
       "      <td>S(Sc1n(C)c2c(c1C(=O)NCC(O)CO)cccc2)c1n(C)c2c(c...</td>\n",
       "      <td>4.366531</td>\n",
       "    </tr>\n",
       "  </tbody>\n",
       "</table>\n",
       "</div>"
      ],
      "text/plain": [
       "       chembl_id                                   canonical_smiles     pIC50\n",
       "0   CHEMBL207869  Clc1c(OCc2cc(F)ccc2)ccc(Nc2c(C#Cc3ncccn3)cncn2)c1  7.113509\n",
       "1  CHEMBL3940060  ClCC(=O)OCCN1C(=O)Oc2c1cc1c(Nc3cc(Cl)c(F)cc3)n...  6.481486\n",
       "2  CHEMBL3678951  FC(F)(F)c1cc(Nc2n(C(C)C)c3nc(Nc4ccc(N5CC[NH+](...  9.000000\n",
       "3   CHEMBL504034  Clc1c(OCc2cc(F)ccc2)ccc(Nc2ncnc3c2sc(C#C[C@H]2...  7.397940\n",
       "4   CHEMBL158797  S(Sc1n(C)c2c(c1C(=O)NCC(O)CO)cccc2)c1n(C)c2c(c...  4.366531"
      ]
     },
     "execution_count": 4,
     "metadata": {},
     "output_type": "execute_result"
    }
   ],
   "source": [
    "# Keep the necessary columns\n",
    "chembl_df = df[[\"chembl_id\", \"canonical_smiles\", \"pIC50\"]]\n",
    "chembl_df.head()\n",
    "# NBVAL_CHECK_OUTPUT"
   ]
  },
  {
   "cell_type": "markdown",
   "metadata": {},
   "source": [
    "### Data Preparation\n",
    "\n",
    "#### Molecule encoding\n",
    "Now we have to convert the SMILES string to numerical data so that we can perform machine learning algorithm on it and we can use already defined function `smiles_to_fp` from Talktorial **T007** which generate fingerprints from SMILES. \n",
    "There is a choice incorporated between **MACCS**, **morgan2** and **morgan3** but we will use MACCS fingerprints because MACCS keys are short (166 bit) as compared to others (2048 bit). (Please refer to [talktorial 007](https://github.com/volkamerlab/teachopencadd/blob/master/teachopencadd/talktorials/T007_compound_activity_machine_learning/talktorial.ipynb) for further details on the functions defined for molecule encoding. )"
   ]
  },
  {
   "cell_type": "code",
   "execution_count": 5,
   "metadata": {
    "format": "row"
   },
   "outputs": [],
   "source": [
    "def smiles_to_fp(smiles, method=\"maccs\", n_bits=2048):\n",
    "    \"\"\"\n",
    "    Encode a molecule from a SMILES string into a fingerprint.\n",
    "\n",
    "    Parameters\n",
    "    ----------\n",
    "    smiles : str\n",
    "        The SMILES string defining the molecule.\n",
    "\n",
    "    method : str\n",
    "        The type of fingerprint to use. Default is MACCS keys.\n",
    "\n",
    "    n_bits : int\n",
    "        The length of the fingerprint.\n",
    "\n",
    "    Returns\n",
    "    -------\n",
    "    array\n",
    "        The fingerprint array.\n",
    "\n",
    "    \"\"\"\n",
    "\n",
    "    # convert smiles to RDKit mol object\n",
    "    mol = Chem.MolFromSmiles(smiles)\n",
    "\n",
    "    if method == \"maccs\":\n",
    "        return np.array(MACCSkeys.GenMACCSKeys(mol))\n",
    "    if method == \"morgan2\":\n",
    "        return np.array(GetMorganFingerprintAsBitVect(mol, 2, nBits=n_bits))\n",
    "    if method == \"morgan3\":\n",
    "        return np.array(GetMorganFingerprintAsBitVect(mol, 3, nBits=n_bits))\n",
    "    else:\n",
    "        # NBVAL_CHECK_OUTPUT\n",
    "        print(f\"Warning: Wrong method specified: {method}.\"\n",
    "              \" Default will be used instead.\")\n",
    "        return np.array(MACCSkeys.GenMACCSKeys(mol))"
   ]
  },
  {
   "cell_type": "code",
   "execution_count": 6,
   "metadata": {},
   "outputs": [
    {
     "name": "stdout",
     "output_type": "stream",
     "text": [
      "Shape of dataframe :  (3906, 4)\n"
     ]
    },
    {
     "data": {
      "text/html": [
       "<div>\n",
       "<style scoped>\n",
       "    .dataframe tbody tr th:only-of-type {\n",
       "        vertical-align: middle;\n",
       "    }\n",
       "\n",
       "    .dataframe tbody tr th {\n",
       "        vertical-align: top;\n",
       "    }\n",
       "\n",
       "    .dataframe thead th {\n",
       "        text-align: right;\n",
       "    }\n",
       "</style>\n",
       "<table border=\"1\" class=\"dataframe\">\n",
       "  <thead>\n",
       "    <tr style=\"text-align: right;\">\n",
       "      <th></th>\n",
       "      <th>chembl_id</th>\n",
       "      <th>canonical_smiles</th>\n",
       "      <th>pIC50</th>\n",
       "      <th>fingerprints_df</th>\n",
       "    </tr>\n",
       "  </thead>\n",
       "  <tbody>\n",
       "    <tr>\n",
       "      <th>0</th>\n",
       "      <td>CHEMBL207869</td>\n",
       "      <td>Clc1c(OCc2cc(F)ccc2)ccc(Nc2c(C#Cc3ncccn3)cncn2)c1</td>\n",
       "      <td>7.113509</td>\n",
       "      <td>[0, 0, 0, 0, 0, 0, 0, 0, 0, 0, 0, 0, 0, 0, 0, ...</td>\n",
       "    </tr>\n",
       "    <tr>\n",
       "      <th>1</th>\n",
       "      <td>CHEMBL3940060</td>\n",
       "      <td>ClCC(=O)OCCN1C(=O)Oc2c1cc1c(Nc3cc(Cl)c(F)cc3)n...</td>\n",
       "      <td>6.481486</td>\n",
       "      <td>[0, 0, 0, 0, 0, 0, 0, 0, 0, 0, 0, 0, 0, 0, 0, ...</td>\n",
       "    </tr>\n",
       "    <tr>\n",
       "      <th>2</th>\n",
       "      <td>CHEMBL3678951</td>\n",
       "      <td>FC(F)(F)c1cc(Nc2n(C(C)C)c3nc(Nc4ccc(N5CC[NH+](...</td>\n",
       "      <td>9.000000</td>\n",
       "      <td>[0, 0, 0, 0, 0, 0, 0, 0, 0, 0, 0, 0, 0, 0, 0, ...</td>\n",
       "    </tr>\n",
       "  </tbody>\n",
       "</table>\n",
       "</div>"
      ],
      "text/plain": [
       "       chembl_id                                   canonical_smiles     pIC50  \\\n",
       "0   CHEMBL207869  Clc1c(OCc2cc(F)ccc2)ccc(Nc2c(C#Cc3ncccn3)cncn2)c1  7.113509   \n",
       "1  CHEMBL3940060  ClCC(=O)OCCN1C(=O)Oc2c1cc1c(Nc3cc(Cl)c(F)cc3)n...  6.481486   \n",
       "2  CHEMBL3678951  FC(F)(F)c1cc(Nc2n(C(C)C)c3nc(Nc4ccc(N5CC[NH+](...  9.000000   \n",
       "\n",
       "                                     fingerprints_df  \n",
       "0  [0, 0, 0, 0, 0, 0, 0, 0, 0, 0, 0, 0, 0, 0, 0, ...  \n",
       "1  [0, 0, 0, 0, 0, 0, 0, 0, 0, 0, 0, 0, 0, 0, 0, ...  \n",
       "2  [0, 0, 0, 0, 0, 0, 0, 0, 0, 0, 0, 0, 0, 0, 0, ...  "
      ]
     },
     "execution_count": 6,
     "metadata": {},
     "output_type": "execute_result"
    }
   ],
   "source": [
    "# convert all SMILES strings to MACC fingerprints\n",
    "chembl_df['fingerprints_df'] = chembl_df['canonical_smiles'].apply(smiles_to_fp)\n",
    "\n",
    "# Look at head\n",
    "print(\"Shape of dataframe : \", chembl_df.shape)\n",
    "chembl_df.head(3)  # NBVAL_CHECK_OUTPUT"
   ]
  },
  {
   "cell_type": "code",
   "execution_count": 7,
   "metadata": {},
   "outputs": [],
   "source": [
    "\n",
    "#fingerprints_df = pd.DataFrame([smiles_to_fp(smile) for smile in\n",
    " #                               chembl_df['canonical_smiles']])\n",
    "\n"
   ]
  },
  {
   "cell_type": "markdown",
   "metadata": {},
   "source": [
    "Now we can define features and the target data which will be used to train the model. In our case, features are the bit vectors and the target value is pIC50 values of the drug molecules which we want to predict.\n",
    "\n",
    "We can then use `train_test_split` from scikit-learn library to split the data into training and testing datasets."
   ]
  },
  {
   "cell_type": "code",
   "execution_count": 8,
   "metadata": {},
   "outputs": [
    {
     "name": "stdout",
     "output_type": "stream",
     "text": [
      "Shape of training data :  (2734,)\n",
      "Shape of testing data :  (1172,)\n"
     ]
    }
   ],
   "source": [
    "# Split the data into training and testing\n",
    "X_train, X_test, y_train, y_test = train_test_split(\n",
    "             chembl_df['fingerprints_df'], \n",
    "             chembl_df[['pIC50']], test_size=0.3, random_state=42)\n",
    "\n",
    "# Print the shape of training and testing data\n",
    "print(\"Shape of training data : \", X_train.shape)\n",
    "print(\"Shape of testing data : \", X_test.shape)"
   ]
  },
  {
   "cell_type": "markdown",
   "metadata": {},
   "source": [
    "### Define keras model"
   ]
  },
  {
   "cell_type": "code",
   "execution_count": 9,
   "metadata": {},
   "outputs": [],
   "source": [
    "def NN_model(hidden1, hidden2):\n",
    "    \"\"\"\n",
    "    creating neural network from two hidden layer\n",
    "    using relu as activation function in two hidden layer\n",
    "    and linear in the output layer\n",
    "\n",
    "    parameters\n",
    "    ----------\n",
    "    hidden1 : Int\n",
    "         number of neuons in first hidden layer\n",
    "\n",
    "    hidden2: Int\n",
    "         number of neuons in second hidden layer\n",
    "    Returns\n",
    "    --------\n",
    "    model\n",
    "        fully connected neural network model with two hidden layer\n",
    "    \"\"\"\n",
    "\n",
    "    model = Sequential()\n",
    "    # first hidden layer\n",
    "    model.add(Dense(hidden1, activation='relu', name=\"layer1\"))\n",
    "    # second hidden layer\n",
    "    model.add(Dense(hidden2, activation='relu', name=\"layer2\"))\n",
    "    # output layer\n",
    "    model.add(Dense(1, activation='linear', name=\"layer3\"))\n",
    "    # compile model\n",
    "    model.compile(loss='mean_squared_error',\n",
    "                  optimizer='adam', metrics=['mse', 'mae'])\n",
    "    return model"
   ]
  },
  {
   "cell_type": "markdown",
   "metadata": {},
   "source": [
    "### Choose the most appropriate batch sizes \n",
    "\n",
    "We have passed different mini-batches and plotted the loss."
   ]
  },
  {
   "cell_type": "code",
   "execution_count": 19,
   "metadata": {},
   "outputs": [
    {
     "data": {
      "image/png": "[encoded data removed]",
      "text/plain": [
       "<Figure size 864x864 with 5 Axes>"
      ]
     },
     "metadata": {},
     "output_type": "display_data"
    }
   ],
   "source": [
    "# trying different batch sizes\n",
    "batch_sizes = [32, 64, 128, 256, 512]\n",
    "\n",
    "# size of figure\n",
    "fig = plt.figure(figsize=(12, 12))\n",
    "sns.set(color_codes=True)\n",
    "for index in range(len(batch_sizes)):\n",
    "    fig.add_subplot(2, 3, index+1)\n",
    "    model = NN_model(64, 32)\n",
    "  # fit model on X_train and y_train data\n",
    "    history = model.fit(np.array(list((X_train))).astype(float), y_train.values,\n",
    "                        batch_size=batch_sizes[index],\n",
    "                        validation_data=(np.array(list((X_test))).astype(float), y_test.values),\n",
    "                        verbose=0, epochs=100)\n",
    "    plt.plot(history.history['loss'], label='train')\n",
    "    plt.plot(history.history['val_loss'], label='test')\n",
    "    plt.legend(['train', 'test'], loc='upper right')\n",
    "    plt.ylabel('loss')\n",
    "    plt.xlabel('epoch')\n",
    "    plt.title(f\"model loss in batch size = {str(batch_sizes[index])}\")\n",
    "plt.show()"
   ]
  },
  {
   "cell_type": "markdown",
   "metadata": {},
   "source": [
    "### Fit keras model"
   ]
  },
  {
   "cell_type": "code",
   "execution_count": 11,
   "metadata": {},
   "outputs": [
    {
     "data": {
      "text/plain": [
       "<tensorflow.python.keras.callbacks.History at 0x1af3f196348>"
      ]
     },
     "execution_count": 11,
     "metadata": {},
     "output_type": "execute_result"
    }
   ],
   "source": [
    "# save the model\n",
    "filepath = \"weights_CV.best.hdf5\"\n",
    "\n",
    "checkpoint = ModelCheckpoint(filepath, monitor='loss', verbose=0,\n",
    "                             save_best_only=True, mode='min')\n",
    "callbacks_list = [checkpoint]\n",
    "\n",
    "# fit the model\n",
    "model.fit(np.array(list((X_train))).astype(float), y_train.values, \n",
    "          epochs=100, batch_size=512,\n",
    "          callbacks=callbacks_list, verbose=0)"
   ]
  },
  {
   "cell_type": "markdown",
   "metadata": {},
   "source": [
    "### Predict keras model on test data\n",
    "\n",
    "Prediction is the final step and our expected outcome of the model generation. Keras provides a method, [predict()](https://keras.io/api/models/model_training_apis/#predict-method) to get the prediction of the trained model. We can use  this method to predict the pIC50 values on test data. "
   ]
  },
  {
   "cell_type": "code",
   "execution_count": 12,
   "metadata": {},
   "outputs": [],
   "source": [
    "# Predict pIC50 values on X_test data \n",
    "y_pred = model.predict(np.array(list((X_test))))"
   ]
  },
  {
   "cell_type": "markdown",
   "metadata": {},
   "source": [
    "### Evaluate keras model\n",
    "\n",
    "After prediction, we can use [evaluate()](https://keras.io/api/models/model_training_apis/#evaluate-method) method to check the performance or score of our model. It will report the loss, mse and mae values."
   ]
  },
  {
   "cell_type": "code",
   "execution_count": 25,
   "metadata": {},
   "outputs": [
    {
     "name": "stdout",
     "output_type": "stream",
     "text": [
      "Evaluate on test data\n",
      "score:[1.2252471446990967, 1.2252471446990967, 0.8713627457618713]\n"
     ]
    }
   ],
   "source": [
    "# Evalute the model \n",
    "print(f\"Evaluate on test data\")\n",
    "score = model.evaluate(np.array(list((X_test))), y_test, verbose=0)\n",
    "print(f'score:{score}')"
   ]
  },
  {
   "cell_type": "markdown",
   "metadata": {},
   "source": [
    "### Scatter plot between predicted and true pIC50 values"
   ]
  },
  {
   "cell_type": "markdown",
   "metadata": {},
   "source": [
    "[Scatter_plots](https://matplotlib.org/3.3.3/api/_as_gen/matplotlib.pyplot.scatter.html) cane be used to visulaize the predicted and true values. We can see that there is a positive linear relation between the points"
   ]
  },
  {
   "cell_type": "code",
   "execution_count": null,
   "metadata": {},
   "outputs": [],
   "source": [
    "# Scatter plot \n",
    "plt.scatter(y_test, y_pred)\n",
    "plt.title('Scatter plot between predicted and true pIC50 values')\n",
    "plt.xlabel('True pIC50 values')\n",
    "plt.ylabel('Predicted pIC50 values')\n",
    "plt.show()"
   ]
  },
  {
   "cell_type": "markdown",
   "metadata": {},
   "source": [
    "Now we can use our trained model and predict pC50 values on unknown data."
   ]
  },
  {
   "cell_type": "markdown",
   "metadata": {},
   "source": [
    "### Prediction on unknown data\n",
    "\n",
    "We will use another dataset to test the model. This dataset contains some SMILES compounds without the pIC50 values, we can load the dataset using pandas and visualize the dataframe."
   ]
  },
  {
   "cell_type": "code",
   "execution_count": null,
   "metadata": {},
   "outputs": [],
   "source": [
    "test_df = pd.read_csv(DATA/'test.csv',\n",
    "                      index_col = 0)\n",
    "test_df.head()  # NBVAL_CHECK_OUTPUT"
   ]
  },
  {
   "cell_type": "markdown",
   "metadata": {},
   "source": [
    "We used the same `smiles_to_fp` function and convert the SMILES strings in test data as well into MACCS fingerprints."
   ]
  },
  {
   "cell_type": "code",
   "execution_count": null,
   "metadata": {},
   "outputs": [],
   "source": [
    "# convert all SMILES strings to MACC fingerprints\n",
    "test_df['fingerprints_df'] = test_df['canonical_smiles'].apply(smiles_to_fp)\n",
    "\n",
    "# Look at head\n",
    "print(\"Shape of dataframe : \", test_df.shape)\n",
    "test_df.head(3)  # NBVAL_CHECK_OUTPUT"
   ]
  },
  {
   "cell_type": "code",
   "execution_count": null,
   "metadata": {},
   "outputs": [],
   "source": [
    "# prediction on test data\n",
    "pred = model.predict(np.array(list((test_df['fingerprints_df']))).astype(float))\n",
    "\n",
    "predicted_pIC50 = pd.DataFrame(pred, columns=['Predicted pIC50 values'])\n",
    "predicted_pIC50_df = test_df.join(predicted_pIC50)\n",
    "\n",
    "predicted_pIC50_df.head(3)  # NBVAL_CHECK_OUTPUT"
   ]
  },
  {
   "cell_type": "markdown",
   "metadata": {},
   "source": [
    "### Select the top 3 compounds that are most active against the EGFR kinase"
   ]
  },
  {
   "cell_type": "markdown",
   "metadata": {},
   "source": [
    "Now we can select 3 drugs that can be used as epidermal growth factor receptor inhibitor with highest pIC50 values."
   ]
  },
  {
   "cell_type": "code",
   "execution_count": null,
   "metadata": {},
   "outputs": [],
   "source": [
    "# select top 3 drugs\n",
    "predicted_pic50_df_top3 = predicted_pIC50_df.nlargest(3, 'Predicted pIC50 values')\n",
    "predicted_pic50_df_top3"
   ]
  },
  {
   "cell_type": "code",
   "execution_count": null,
   "metadata": {},
   "outputs": [],
   "source": [
    "# draw the drug molecules\n",
    "highest_pic50 = predicted_pIC50_df['canonical_smiles'][[17, 8, 15]]\n",
    "\n",
    "mols_EGFR = [Chem.MolFromSmiles(smile) for smile in highest_pic50]\n",
    "pic50_EGFR = predicted_pic50_df_top3['Predicted pIC50 values'].astype(str).tolist()\n",
    "\n",
    "Draw.MolsToGridImage(mols_EGFR, molsPerRow=3, subImgSize=(450, 300), legends=pic50_EGFR)"
   ]
  },
  {
   "cell_type": "markdown",
   "metadata": {},
   "source": [
    "## Discussion\n",
    "\n",
    "\n",
    "\n"
   ]
  },
  {
   "cell_type": "markdown",
   "metadata": {},
   "source": [
    "TODO \n",
    "- Advantage of this model for prediction pic50 from their fingerprint keys.\n",
    "There is no time consuming as laboratory experiments and cheap.\n",
    "It gives general overview about the possible drugs can be used as EGFR inhibitor drugs.\n",
    "- Disadvantage:\n",
    "It does not have enough information about:\n",
    "\n",
    "The model is changed with more variables and there is no fixed procedure to follow in building model.\n",
    "side effect of the compounds and their toxicity on normal cells.\n",
    "The stereochemistry , stability and also their metabolite that can be produce by liver enzymes and other chemical properties of compounds as it can be used or no.\n",
    "\n",
    "In general , this Neural network model for prediction of pic50 of molecules form their keys is good as overview to the possible drugs that can be used in experiments. Therefore , we can reduce the number of experiments on a lot of compounds but I think we cannot take direct molecules from ML models and be 100% assure that these best compounds as EGFR inhibitors drugs"
   ]
  },
  {
   "cell_type": "markdown",
   "metadata": {},
   "source": [
    "## Quiz\n",
    "\n",
    "- What other hyperparameters can be tuned to give better performance result of the model?\n",
    "- "
   ]
  },
  {
   "cell_type": "markdown",
   "metadata": {},
   "source": [
    "-------\n",
    "## Supplementary section\n",
    "\n",
    "In this section we have defined other activation functions and forward propagation function for better understanding of the concept.\n",
    "\n",
    "Lets discuss about some other activation functions and define them using python."
   ]
  },
  {
   "cell_type": "markdown",
   "metadata": {},
   "source": [
    "1) **Sigmoid function (σ)**: It takes the form: $$\\boxed{f(x)=\\frac{1}{1+e^{−x}}}$$ \n",
    "\n",
    "   -  The sigmoid curve looks like a *S*-shaped curve as shown in the figure below. \n",
    "   - It has a \"smooth gradient\" which prevents jumps in the output values and it bound the output values between 0 and 1.\n",
    "   - It's recommended to be used only on the output layer so that we can easily interpret the output as probabilities since it has restricted output between 0 and 1. \n",
    "   - If you notice in the figure below, x values between -2.5 to 2.5, Y values are very steep, so any small change in values of x in that region will cause value of y to change significantly. It tends to bring the activations to either side of the curve.\n",
    "   - Another advantage of this activation function, unlike linear function, the output of the activation function is always going to be in range (0,1) compared to (-inf, inf) of linear function.\n",
    "   - But it has a major drawback, for very high or very low values of X, there is almost no change in y values or the prediction, causing a [**vanishing gradient**](https://towardsdatascience.com/the-vanishing-exploding-gradient-problem-in-deep-neural-networks-191358470c11) problem. This can cause the network to learn slowly or refuses to learn further. \n",
    "     \n",
    "<div>\n",
    "<img src=\"images/sigmoid.png\" width=\"400\" align=\"center\"/>\n",
    "</div>\n",
    "\n",
    "*Figure 9:* Representation of a \"sigmoid\" function. Figure by Sakshi Misra.\n",
    "\n",
    "\n",
    "\n",
    "2) **Hyperbolic Tangent function or TanH**:  It takes the form: $$\\boxed{f(x)= tanh(x) = \\frac{2}{1+e^{-2x}}−1}$$ it looks very similar to sigmoid function, it can also be written as $$\\boxed{tanh(x)= \\text{2 sigmoid (2x)}-1}$$\n",
    "\n",
    "   - It has same characteristics as sigmoid like non-linear in nature, output is bound between -1 and 1 but it has deeper [derivatives](https://en.wikipedia.org/wiki/Derivative) which means it has stronger gradient than sigmoid as shown in the figure below. Deciding between sigmoid and tanh depends upon your requirement of gradient strength.\n",
    "   - The disadvantage that it shares with sigmoid function is that the it also has vanishing gradient problem.\n",
    "\n",
    "<div>\n",
    "<img src=\"images/tanh.png\" width=\"400\" align=\"center\"/>\n",
    "</div>\n",
    "\n",
    "*Figure 10:* Representation of a \"tanh\" function. Figure by Sakshi Misra\n",
    "\n",
    "3) **Leaky Rectified Linear Unit**: ReLu takes the form: $$\\boxed{f(x)= \\max\\{ α ∗ x,x\\}}$$\n",
    "\n",
    "   - This is the variation of ReLU which has a small positive slope in the negative area.\n",
    "   - The range of the Leaky ReLU is (-infinity to infinity).\n",
    "   - It overcomes the zero gradient issue from ReLU and assigns α which is a small value for x≤0.\n",
    "\n",
    "<div>\n",
    "<img src=\"images/leaky.png\" width=\"400\" align=\"center\"/>\n",
    "</div>\n",
    "\n",
    "*Figure 12:* Representation of a \"Leaky ReLU\" function. Figure by Sakshi Misra\n",
    "\n",
    "\n",
    "Now which activation function do we choose? It totally depends on the type of the problem you are solving, you can choose an activation function which will approximate the function faster and lead to faster raining process. There are other activation functions too, but the general idea remains the same. Please refer an article: H. N. Mhaskar, [How to Choose an Activation Function](https://papers.nips.cc/paper/1993/file/51ef186e18dc00c2d31982567235c559-Paper.pdf) for more details."
   ]
  },
  {
   "cell_type": "markdown",
   "metadata": {},
   "source": [
    "Now we define the above discussed activation functions in python and plot them."
   ]
  },
  {
   "cell_type": "code",
   "execution_count": null,
   "metadata": {},
   "outputs": [],
   "source": [
    "# Define activation functions that can be used in forward propagation\n",
    "def sigmoid(input_array):\n",
    "    \"\"\"\n",
    "    Computes the sigmoid of input element-wise.\n",
    "\n",
    "    Parameters\n",
    "    ----------\n",
    "    input_array : array\n",
    "             input values.\n",
    "\n",
    "    Returns\n",
    "    -------\n",
    "    Activation_function : array\n",
    "             post activation output.\n",
    "    input_array : array\n",
    "             input values.\n",
    "    \"\"\"\n",
    "    Activation_function = 1 / (1 + np.exp(-input_array))\n",
    "\n",
    "    return Activation_function, input_array\n",
    "\n",
    "\n",
    "def tanh(x):\n",
    "    \"\"\"\n",
    "    Computes the Hyperbolic Tagent of input element-wise.\n",
    "\n",
    "    Parameters\n",
    "    ----------\n",
    "    input_array : array\n",
    "             input values.\n",
    "\n",
    "    Returns\n",
    "    -------\n",
    "    Activation_function : array\n",
    "             post activation output.\n",
    "    input_array : array\n",
    "             input values.\n",
    "    \"\"\"\n",
    "    Activation_function = np.tanh(input_array)\n",
    "\n",
    "    return Activation_function, input_array\n",
    "\n",
    "\n",
    "def relu(input_array):\n",
    "    \"\"\"\n",
    "    Computes the Rectified Linear Unit (ReLU) element-wise.\n",
    "\n",
    "    Parameters\n",
    "    ----------\n",
    "    input_array : array\n",
    "             input values.\n",
    "    Returns\n",
    "    -------\n",
    "    Activation_function : array\n",
    "             post activation output.\n",
    "    input_array : array\n",
    "             input values.\n",
    "    \"\"\"\n",
    "    Activation_function = np.maximum(0, input_array)\n",
    "\n",
    "    return Activation_function, input_array\n",
    "\n",
    "\n",
    "def leaky_relu(input_array):\n",
    "    \"\"\"\n",
    "    Computes Leaky Rectified Linear Unit element-wise.\n",
    "\n",
    "    Parameters\n",
    "    ----------\n",
    "    input_array : array\n",
    "             input values.\n",
    "\n",
    "    Returns\n",
    "    -------\n",
    "    Activation_function : array\n",
    "             post activation output.\n",
    "    input_array : array\n",
    "             input values.\n",
    "    \"\"\"\n",
    "    Activation_function = np.maximum(0.1 * input_array, input_array)\n",
    "\n",
    "    return Activation_function, input_array"
   ]
  },
  {
   "cell_type": "markdown",
   "metadata": {},
   "source": [
    "We can also plot all the activation function using `matplotlib.plt` library as shown below."
   ]
  },
  {
   "cell_type": "code",
   "execution_count": null,
   "metadata": {},
   "outputs": [],
   "source": [
    "# Plot the 4 activation functions\n",
    "input_array = np.linspace(-10, 10, 100)\n",
    "\n",
    "# Computes post-activation outputs\n",
    "A_sigmoid, input_array = sigmoid(input_array)\n",
    "A_tanh, input_array = tanh(input_array)\n",
    "A_relu, input_array = relu(input_array)\n",
    "A_leaky_relu, input_array = leaky_relu(input_array)\n",
    "\n",
    "# Plot sigmoid function\n",
    "plt.figure(figsize=(12, 8))\n",
    "plt.subplot(2, 2, 1)\n",
    "plt.plot(input_array, A_sigmoid, 'b')\n",
    "plt.axvline(x=0, color='gray', linestyle='--')\n",
    "plt.axhline(y=0, color='gray', linestyle='--')\n",
    "plt.xlabel(\"input(x)\")\n",
    "plt.ylabel(r\"$\\frac{1}{1 + e^{-x}}$\")\n",
    "plt.title(\"Sigmoid Function\", fontsize=16)\n",
    "\n",
    "# Plot tanh function\n",
    "plt.subplot(2, 2, 2)\n",
    "plt.plot(input_array, A_tanh, 'b')\n",
    "plt.axvline(x=0, color='gray', linestyle='--')\n",
    "plt.axhline(y=0, color='gray', linestyle='--')\n",
    "plt.xlabel(\"input(x)\")\n",
    "plt.ylabel(r\"$\\frac{e^x - e^{-x}}{e^x + e^{-x}}$\")\n",
    "plt.title(\"Hyperbolic Tangent Function\", fontsize=16)\n",
    "\n",
    "# plot relu function\n",
    "plt.subplot(2, 2, 3)\n",
    "plt.plot(input_array, A_relu, 'b')\n",
    "plt.axvline(x=0, color='gray', linestyle='--')\n",
    "plt.axhline(y=0, color='gray', linestyle='--')\n",
    "plt.xlabel(\"input(x)\")\n",
    "plt.ylabel(r\"$max\\{0, x\\}$\")\n",
    "plt.title(\"ReLU Function\", fontsize=16)\n",
    "\n",
    "# plot leaky relu function\n",
    "plt.subplot(2, 2, 4)\n",
    "plt.plot(input_array, A_leaky_relu, 'b')\n",
    "plt.axvline(x=0, color='gray', linestyle='--')\n",
    "plt.axhline(y=0, color='gray', linestyle='--')\n",
    "plt.xlabel(\"input(x)\")\n",
    "plt.ylabel(r\"$max\\{0.1x, x\\}$\")\n",
    "plt.title(\"Leaky ReLU Function\", fontsize=16)\n",
    "plt.tight_layout()"
   ]
  },
  {
   "cell_type": "markdown",
   "metadata": {},
   "source": [
    "Now, we will define forward propagation function using classes, this implementation might help you to understand the forward propagation concept better.\n",
    "\n",
    "First we converted our input bit vectors data into lists and then defined a class named `Layer_Dense`. It has two properties, weights and biases. We have randomly assigned their values and defined a function named `forward_pass` which calculates the **dot product** of the input values and weights and add it to the bias values. \n",
    "\n",
    "Now, as we know activation function is applied on every neuron, so we have created another class named `activation_function`, here we have defined the a function named `ReLU`, meaning we will use ReLU activation function in this case. \n",
    "\n",
    "After defining classes and their attributes, we create an object from both the classes and called the functions on our data. We can now print the output values as shown.\n",
    "\n",
    "**Note:** The predicted values will differ in every run because the weights are randomly assigned.  "
   ]
  },
  {
   "cell_type": "code",
   "execution_count": null,
   "metadata": {},
   "outputs": [],
   "source": [
    "# convert our input data to list\n",
    "fingerprints_df_list = fingerprints_df.values.tolist()\n",
    "\n",
    "\n",
    "# create forward pass function with one hidden layer\n",
    "class Layer_Dense:\n",
    "    \"\"\"\n",
    "    A class to represent a neural network\n",
    "    \n",
    "    '''\n",
    "    Attributes\n",
    "    ----------\n",
    "    n_inputs : int\n",
    "        number of neurons in input layer\n",
    "    n_neurons : int\n",
    "        number of neurons in hidden layer\n",
    "\n",
    "    Method\n",
    "    ------\n",
    "    forward_pass(inputs):\n",
    "        computes the forward pass of a neural network.\n",
    "    \"\"\"\n",
    "\n",
    "    def __init__(self, n_inputs, n_neurons):\n",
    "        \"\"\"\n",
    "        Constructs all the necessary attributes.\n",
    "\n",
    "        Parameters\n",
    "        ----------\n",
    "        n_inputs : int\n",
    "            number of neurons in input layer\n",
    "        n_neurons : int\n",
    "            number of neurons in hidden layer\n",
    "\n",
    "        \"\"\"\n",
    "        self.weights = 0.10 * np.random.randn(n_inputs, n_neurons)\n",
    "        self.biases = np.zeros((1, n_neurons))\n",
    "        \n",
    "    def forward_pass(self, inputs):\n",
    "        \"\"\"\n",
    "        Computes forward pass.\n",
    "\n",
    "        Parameters\n",
    "        ----------\n",
    "        input : int\n",
    "            input neurons.\n",
    "\n",
    "        Returns\n",
    "        -------\n",
    "        None\n",
    "        \n",
    "        \"\"\"\n",
    "        self.output = np.dot(inputs, self.weights) + self.biases\n",
    "\n",
    "\n",
    "class Activation_function:\n",
    "    \"\"\"\n",
    "    A class to represent an activation function\n",
    "\n",
    "    Method\n",
    "    ------\n",
    "    ReLU(inputs):\n",
    "        computes the ReLU activtaion function.\n",
    "    \"\"\"\n",
    "    def ReLU(self, inputs):\n",
    "        \"\"\"\n",
    "        Computes activation function applied on neuron.\n",
    "\n",
    "        Parameters\n",
    "        ----------\n",
    "        input : int\n",
    "            input neurons.\n",
    "\n",
    "        Returns\n",
    "        -------\n",
    "        None\n",
    "        \n",
    "        \"\"\"\n",
    "        self.output = np.maximum(0, inputs)\n",
    "\n",
    "\n",
    "        \n",
    "# object\n",
    "layer1 = Layer_Dense(167, 50)\n",
    "layer2 = Layer_Dense(50, 1)\n",
    "activation1 = Activation_function()\n",
    "activation2 = Activation_function()\n",
    "\n",
    "# function calling\n",
    "layer1.forward_pass(fingerprints_df_list)\n",
    "layer2.forward_pass(layer1.output)\n",
    "activation1.ReLU(layer1.output)\n",
    "activation2.ReLU(layer2.output)\n",
    "\n",
    "print(activation2.output)"
   ]
  }
 ],
 "metadata": {
  "kernelspec": {
   "display_name": "Python 3",
   "language": "python",
   "name": "python3"
  },
  "language_info": {
   "codemirror_mode": {
    "name": "ipython",
    "version": 3
   },
   "file_extension": ".py",
   "mimetype": "text/x-python",
   "name": "python",
   "nbconvert_exporter": "python",
   "pygments_lexer": "ipython3",
   "version": "3.7.7"
  }
 },
 "nbformat": 4,
 "nbformat_minor": 4
}
