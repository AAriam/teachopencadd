{
 "cells": [
  {
   "cell_type": "markdown",
   "metadata": {},
   "source": [
    "# Molecular filtering: ADME and lead-likeness criteria\n",
    "\n",
    "Developed in the CADD seminar 2017 and 2018, Volkamer lab, Charité/FU Berlin.\n",
    "\n",
    "Authors:\n",
    "- Michele Wichmann, CADD seminars 2017, Charité/FU Berlin\n",
    "- Mathias Wajnberg, CADD seminars 2018, Charité/FU Berlin\n",
    "- Dominique Sydow, 2018-2020, Volkamer lab, Charité"
   ]
  },
  {
   "cell_type": "markdown",
   "metadata": {},
   "source": [
    "__Talktorial T2__: This talktorial is part of the TeachOpenCADD pipeline described in the [first TeachOpenCADD paper](https://jcheminf.biomedcentral.com/articles/10.1186/s13321-019-0351-x), comprising of talktorials T1-T10."
   ]
  },
  {
   "cell_type": "markdown",
   "metadata": {},
   "source": [
    "## Aim of this talktorial\n",
    "\n",
    "The compounds acquired from ChEMBL (**Talktorial 001**) will be filtered by Lipinsik's rule of five to check for orally active compounds (applying Lipinski's rule of five)."
   ]
  },
  {
   "cell_type": "markdown",
   "metadata": {},
   "source": [
    "### Contents in _Theory_\n",
    "\n",
    "* ADME - absorption, distribution, metabolism, and excretion\n",
    "* Lead-likeness and Lipinski's rule of five (Ro5)\n",
    "* Radar charts in the context of lead-likeness"
   ]
  },
  {
   "cell_type": "markdown",
   "metadata": {},
   "source": [
    "### Contents in _Practical_\n",
    "\n",
    "* Define and visualize example molecules\n",
    "* Calculate and plot molecular properties for Ro5\n",
    "* Investigate compliance with Ro5\n",
    "* Apply Ro5 to the EGFR dataset\n",
    "* Visualize Ro5 properties (radar plot)"
   ]
  },
  {
   "cell_type": "markdown",
   "metadata": {},
   "source": [
    "### References\n",
    "\n",
    "* ADME criteria ([Wikipedia](https://en.wikipedia.org/wiki/ADME) and [<i>Mol Pharm.</i> (2010), <b>7(5)</b>, 1388-1405](https://www.ncbi.nlm.nih.gov/pmc/articles/PMC3025274/))\n",
    "* [SwissADME](http://www.swissadme.ch/)\n",
    "* Lead compounds ([Wikipedia](https://en.wikipedia.org/wiki/Lead_compound))\n",
    "* LogP ([Wikipedia](https://en.wikipedia.org/wiki/Partition_coefficient))\n",
    "* Lipinski et al. \"Experimental and computational approaches to estimate solubility and permeability in drug discovery and development settings.\" ([<i>Adv. Drug Deliv. Rev.</i> (1997), <b>23</b>, 3-25](https://www.sciencedirect.com/science/article/pii/S0169409X96004231))\n",
    "* Ritchie et al. \"Graphical representation of ADME-related molecule properties for medicinal chemists\" ([<i>Drug. Discov. Today</i> (2011), <b>16</b>, 65-72](https://www.ncbi.nlm.nih.gov/pubmed/21074634))"
   ]
  },
  {
   "cell_type": "markdown",
   "metadata": {},
   "source": [
    "## Theory\n",
    "\n",
    "In a virtual screening, we can predict whether a compound might bind to and interact with a specific target. However, if we want to identify a new drug, it is also important that this compound reaches the target and is eventually removed from the body in a favorable way. Therefore, we should also consider whether a compound is actually taken up into the body and whether it is able to cross certain barriers in order to reach its target. Is it metabolically stable and how will it be excreted once it is not acting at the target anymore? These processes are investigated in the field of pharmacokinetics. In contrast to pharmacodynamics (\"What does the drug do to our body?\"), pharmacokinetics deals with the question **\"What happens to the drug in our body?\"**. "
   ]
  },
  {
   "cell_type": "markdown",
   "metadata": {},
   "source": [
    "### ADME - absorption, distribution, metabolism, and excretion\n",
    "\n",
    "Pharmacokinetics are mainly divided into four steps: \n",
    "<strong>A</strong>bsorption, \n",
    "<strong>D</strong>istribution, \n",
    "<strong>M</strong>etabolism, and \n",
    "<strong>E</strong>xcretion. \n",
    "These are summarized as <strong>ADME</strong>. Sometimes, ADME(T) also includes <strong>T</strong>oxicology. \n",
    "Below, the ADME steps are discussed in more detail ([Wikipedia](https://en.wikipedia.org/wiki/ADME) and [<i>Mol Pharm.</i> (2010), <b>7(5)</b>, 1388-1405](https://www.ncbi.nlm.nih.gov/pmc/articles/PMC3025274/)).\n",
    "\n",
    "__Absorption__: The amount and the time drug-uptake into the body depends on multiple factors which can vary between individuals and their conditions as well as on the properties of the substance. Factors such as (poor) compound solubility, gastric emptying time, intestinal transit time, chemical (in-)stability in the stomach, and (in-)ability to permeate the intestinal wall can all influence the extent to which a drug is absorbed after e.g. oral administration, inhalation, or contact to skin.\n",
    "\n",
    "__Distribution__: The distribution of an absorbed substance, i.e. within the body, between blood and different tissues, and crossing of the blood-brain barrier are affected by regional blood flow rates, molecular size and polarity of the compound, and binding to serum proteins and transporter enzymes. Critical effects in toxicology can be the accumulation of highly apolar substances in fatty tissue, or crossing of the blood-brain barrier.\n",
    "\n",
    "__Metabolism__: As soon as a compound enters the body, it usually starts to be metabolized. This means that only part of this compound will actually reach its target. Mainly liver and kidney enzymes are responsible for the break-down of xenobiotics (substances that are extrinsic to the body). This way, toxic compounds can be removed from the body, however the metabolism itself can also Reducing the amount of an absorbed substance can be favorable if a toxic compound is removed. transformation of a chemical could even yield new toxic metabolites. \n",
    "\n",
    "__Excretion__: Compounds and their metabolites need to be removed from the body via excretion, usually through the kidneys (urine) or in the feces. Incomplete excretion can result in accumulation of foreign substances or adverse interference with normal metabolism.\n",
    "\n",
    "![ADME processes in the human body](images/adme.png)\n",
    "\n",
    "_Figure 1_: ADME processes in the human body (figure taken from [Openclipart](https://openclipart.org/) and adapted)."
   ]
  },
  {
   "cell_type": "markdown",
   "metadata": {},
   "source": [
    "###  Lead-likeness and Lipinski's rule of five (Ro5)\n",
    "\n",
    "[<strong>Lead</strong> compounds](https://en.wikipedia.org/wiki/Lead_compound) are developmental drug candidates with promising properties. They are used as starting structures and modified with the aim to find desired drugs. Besides bioactivity (_compound binds to the target of interest_), also favorable ADME properties are important criteria for the design of efficient drugs. \n",
    "\n",
    "The bioavailability of a compound is an important ADME property. Lipinski's rule of five (Ro5, [<i>Adv. Drug Deliv. Rev.</i> (1997), <b>23</b>, 3-25](https://www.sciencedirect.com/science/article/pii/S0169409X96004231)) was introduced to estimate the bioavailability of a compound solely based on its chemical structure.\n",
    "The Ro5 states that poor absorption or permeation of a compound is more probable if the chemical structure violates more than one of the following rules:\n",
    "\n",
    "- Molecular weight (MWT) <= 500 Da\n",
    "- Number of hydrogen bond acceptors (HBAs) <= 10\n",
    "- Numbero of hydrogen bond donors (HBD) <= 5 \n",
    "- Calculated LogP (octanol-water coefficient) <= 5\n",
    "\n",
    "Note: All numbers in the Ro5 are multiples of five; this is the origin of the rule's name.\n",
    "\n",
    "Additional remarks:\n",
    "- [LogP](https://en.wikipedia.org/wiki/Partition_coefficient) is also called partition coefficient or octanol-water coefficient. It measures the distribution of a compound, usually between a hydrophobic (e.g. 1-octanol) and a hydrophilic (e.g. water) phase. \n",
    "- Hydrophobic molecules might have a reduced solubility in water, while more hydrophilic molecules (e.g. high number of hydrogen bond acceptors and donors) or large molecules (high molecular weight) might have more difficulties in passing phospholipid membranes."
   ]
  },
  {
   "cell_type": "markdown",
   "metadata": {},
   "source": [
    "### Radar charts in the context of lead-likeness\n",
    "\n",
    "Molecular properties, such as the Ro5 properties, can be visualized in multiple ways  (e.g. craig plots, flower plots, or golden triangle) to support the interpretation by medicinal chemists ([<i>Drug. Discov. Today</i> (2011), <b>16(1-2)</b>, 65-72](https://www.ncbi.nlm.nih.gov/pubmed/21074634)).\n",
    "\n",
    "In this tutorial, you learn how to generate a radar plot using the Python plotting library `matplotlib`.\n",
    "Due to their appearance, [radar charts](https://en.wikipedia.org/wiki/Radar_chart) are sometimes also called \"spider\" or \"cobweb\" plots. \n",
    "They are arranged circularly in 360 degrees and have one axis, starting in the center, for each condition. The values for each parameter are plotted on the axis and connected with a line. \n",
    "A shaded area can indicate the region where the parameters meet the conditions.\n",
    "\n",
    "![Radar plot for physicochemical properties](images/radarplot.png)\n",
    "\n",
    "_Figure 2_: Radar plot displaying physico-chemical properties of a compound dataset\n"
   ]
  },
  {
   "cell_type": "markdown",
   "metadata": {},
   "source": [
    "## Practical"
   ]
  },
  {
   "cell_type": "code",
   "execution_count": 1,
   "metadata": {},
   "outputs": [],
   "source": [
    "from pathlib import Path\n",
    "\n",
    "import numpy as np\n",
    "import pandas as pd\n",
    "import matplotlib.pyplot as plt\n",
    "from matplotlib.lines import Line2D\n",
    "import matplotlib.patches as mpatches\n",
    "from rdkit import Chem\n",
    "from rdkit.Chem import Descriptors, Draw, PandasTools"
   ]
  },
  {
   "cell_type": "code",
   "execution_count": 2,
   "metadata": {},
   "outputs": [],
   "source": [
    "# Set path to this notebook\n",
    "HERE = Path(_dh[-1])\n",
    "DATA = HERE / \"data\""
   ]
  },
  {
   "cell_type": "markdown",
   "metadata": {},
   "source": [
    "### Define and visualize example molecules\n",
    "\n",
    "Before working with the whole dataset retrieved from ChEMBL, we pick four example compounds to investigate their chemical properties.\n",
    "We import the necessary libraries, start from the SMILES of four example molecules and draw them."
   ]
  },
  {
   "cell_type": "code",
   "execution_count": 3,
   "metadata": {},
   "outputs": [],
   "source": [
    "smiles = [\n",
    "    \"CCC1C(=O)N(CC(=O)N(C(C(=O)NC(C(=O)N(C(C(=O)NC(C(=O)NC(C(=O)N(C(C(=O)N(C(C(=O)N(C(C(=O)N(C(C(=O)N1)C(C(C)CC=CC)O)C)C(C)C)C)CC(C)C)C)CC(C)C)C)C)C)CC(C)C)C)C(C)C)CC(C)C)C)C\",\n",
    "    \"CN1CCN(CC1)C2=C3C=CC=CC3=NC4=C(N2)C=C(C=C4)C\",\n",
    "    \"CC1=C(C(CCC1)(C)C)C=CC(=CC=CC(=CC=CC=C(C)C=CC=C(C)C=CC2=C(CCCC2(C)C)C)C)C\",\n",
    "    \"CCCCCC1=CC(=C(C(=C1)O)C2C=C(CCC2C(=C)C)C)O\"\n",
    "]\n",
    "names = [\"cyclosporine\", \"clozapine\", \"beta-carotene\", \"cannabidiol\"]"
   ]
  },
  {
   "cell_type": "code",
   "execution_count": 4,
   "metadata": {},
   "outputs": [
    {
     "data": {
      "text/html": [
       "<div>\n",
       "<style scoped>\n",
       "    .dataframe tbody tr th:only-of-type {\n",
       "        vertical-align: middle;\n",
       "    }\n",
       "\n",
       "    .dataframe tbody tr th {\n",
       "        vertical-align: top;\n",
       "    }\n",
       "\n",
       "    .dataframe thead th {\n",
       "        text-align: right;\n",
       "    }\n",
       "</style>\n",
       "<table border=\"1\" class=\"dataframe\">\n",
       "  <thead>\n",
       "    <tr style=\"text-align: right;\">\n",
       "      <th></th>\n",
       "      <th>name</th>\n",
       "      <th>smiles</th>\n",
       "      <th>ROMol</th>\n",
       "    </tr>\n",
       "  </thead>\n",
       "  <tbody>\n",
       "    <tr>\n",
       "      <th>0</th>\n",
       "      <td>cyclosporine</td>\n",
       "      <td>CCC1C(=O)N(CC(=O)N(C(C(=O)NC(C(=O)N(C(C(=O)NC(...</td>\n",
       "      <td><img data-content=\"rdkit/molecule\" src=\"data:image/png;base64,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\" alt=\"Mol\"/></td>\n",
       "    </tr>\n",
       "    <tr>\n",
       "      <th>1</th>\n",
       "      <td>clozapine</td>\n",
       "      <td>CN1CCN(CC1)C2=C3C=CC=CC3=NC4=C(N2)C=C(C=C4)C</td>\n",
       "      <td><img data-content=\"rdkit/molecule\" src=\"data:image/png;base64,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\" alt=\"Mol\"/></td>\n",
       "    </tr>\n",
       "    <tr>\n",
       "      <th>2</th>\n",
       "      <td>beta-carotene</td>\n",
       "      <td>CC1=C(C(CCC1)(C)C)C=CC(=CC=CC(=CC=CC=C(C)C=CC=...</td>\n",
       "      <td><img data-content=\"rdkit/molecule\" src=\"data:image/png;base64,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\" alt=\"Mol\"/></td>\n",
       "    </tr>\n",
       "    <tr>\n",
       "      <th>3</th>\n",
       "      <td>cannabidiol</td>\n",
       "      <td>CCCCCC1=CC(=C(C(=C1)O)C2C=C(CCC2C(=C)C)C)O</td>\n",
       "      <td><img data-content=\"rdkit/molecule\" src=\"data:image/png;base64,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\" alt=\"Mol\"/></td>\n",
       "    </tr>\n",
       "  </tbody>\n",
       "</table>\n",
       "</div>"
      ],
      "text/plain": [
       "            name                                             smiles  \\\n",
       "0   cyclosporine  CCC1C(=O)N(CC(=O)N(C(C(=O)NC(C(=O)N(C(C(=O)NC(...   \n",
       "1      clozapine       CN1CCN(CC1)C2=C3C=CC=CC3=NC4=C(N2)C=C(C=C4)C   \n",
       "2  beta-carotene  CC1=C(C(CCC1)(C)C)C=CC(=CC=CC(=CC=CC=C(C)C=CC=...   \n",
       "3    cannabidiol         CCCCCC1=CC(=C(C(=C1)O)C2C=C(CCC2C(=C)C)C)O   \n",
       "\n",
       "                                               ROMol  \n",
       "0  <img data-content=\"rdkit/molecule\" src=\"data:i...  \n",
       "1  <img data-content=\"rdkit/molecule\" src=\"data:i...  \n",
       "2  <img data-content=\"rdkit/molecule\" src=\"data:i...  \n",
       "3  <img data-content=\"rdkit/molecule\" src=\"data:i...  "
      ]
     },
     "execution_count": 4,
     "metadata": {},
     "output_type": "execute_result"
    }
   ],
   "source": [
    "molecules = pd.DataFrame({\"name\": names, \"smiles\": smiles})\n",
    "PandasTools.AddMoleculeColumnToFrame(molecules, \"smiles\")\n",
    "molecules"
   ]
  },
  {
   "cell_type": "markdown",
   "metadata": {},
   "source": [
    "### Calculate and plot molecular properties for Ro5\n",
    "\n",
    "1. Calculate molecular weight, number of hydrogen bond acceptors and donors, and logP using `rdkit`'s [descriptor library](http://www.rdkit.org/docs/GettingStartedInPython.html#descriptor-calculation)."
   ]
  },
  {
   "cell_type": "code",
   "execution_count": 5,
   "metadata": {},
   "outputs": [
    {
     "data": {
      "text/html": [
       "<div>\n",
       "<style scoped>\n",
       "    .dataframe tbody tr th:only-of-type {\n",
       "        vertical-align: middle;\n",
       "    }\n",
       "\n",
       "    .dataframe tbody tr th {\n",
       "        vertical-align: top;\n",
       "    }\n",
       "\n",
       "    .dataframe thead th {\n",
       "        text-align: right;\n",
       "    }\n",
       "</style>\n",
       "<table border=\"1\" class=\"dataframe\">\n",
       "  <thead>\n",
       "    <tr style=\"text-align: right;\">\n",
       "      <th></th>\n",
       "      <th>name</th>\n",
       "      <th>smiles</th>\n",
       "      <th>ROMol</th>\n",
       "      <th>molecular_weight</th>\n",
       "      <th>n_hba</th>\n",
       "      <th>n_hbd</th>\n",
       "      <th>logp</th>\n",
       "      <th>color</th>\n",
       "    </tr>\n",
       "  </thead>\n",
       "  <tbody>\n",
       "    <tr>\n",
       "      <th>0</th>\n",
       "      <td>cyclosporine</td>\n",
       "      <td>CCC1C(=O)N(CC(=O)N(C(C(=O)NC(C(=O)N(C(C(=O)NC(...</td>\n",
       "      <td><img data-content=\"rdkit/molecule\" src=\"data:image/png;base64,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\" alt=\"Mol\"/></td>\n",
       "      <td>1201.841368</td>\n",
       "      <td>12</td>\n",
       "      <td>5</td>\n",
       "      <td>3.26900</td>\n",
       "      <td>red</td>\n",
       "    </tr>\n",
       "    <tr>\n",
       "      <th>1</th>\n",
       "      <td>clozapine</td>\n",
       "      <td>CN1CCN(CC1)C2=C3C=CC=CC3=NC4=C(N2)C=C(C=C4)C</td>\n",
       "      <td><img data-content=\"rdkit/molecule\" src=\"data:image/png;base64,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\" alt=\"Mol\"/></td>\n",
       "      <td>306.184447</td>\n",
       "      <td>4</td>\n",
       "      <td>1</td>\n",
       "      <td>1.68492</td>\n",
       "      <td>green</td>\n",
       "    </tr>\n",
       "    <tr>\n",
       "      <th>2</th>\n",
       "      <td>beta-carotene</td>\n",
       "      <td>CC1=C(C(CCC1)(C)C)C=CC(=CC=CC(=CC=CC=C(C)C=CC=...</td>\n",
       "      <td><img data-content=\"rdkit/molecule\" src=\"data:image/png;base64,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\" alt=\"Mol\"/></td>\n",
       "      <td>536.438202</td>\n",
       "      <td>0</td>\n",
       "      <td>0</td>\n",
       "      <td>12.60580</td>\n",
       "      <td>blue</td>\n",
       "    </tr>\n",
       "    <tr>\n",
       "      <th>3</th>\n",
       "      <td>cannabidiol</td>\n",
       "      <td>CCCCCC1=CC(=C(C(=C1)O)C2C=C(CCC2C(=C)C)C)O</td>\n",
       "      <td><img data-content=\"rdkit/molecule\" src=\"data:image/png;base64,iVBORw0KGgoAAAANSUhEUgAAAMgAAADICAIAAAAiOjnJAAAABmJLR0QA/wD/AP+gvaeTAAAVeElEQVR4nO3df1RUZf4H8PfMAMoAoqIQikqxujpBqyJ7xJEio9QcXWnXzQxsxZVwUc/Z7OgpbXHTzLZisUwrWRR/UeImEnU6DYXKrwRJTA3BjDoqjmEiIujAzDzfP571fqdRhvn1DISf13+N9z73aXz73DvP87n3yhhjIMTV5N3dAdI7UbCIEBQsIgQFiwhBwSJCULCIEBQsIgQFiwhBwSJCULCIEBQsIgQFiwhBwSJCULCIEBQsIgQFiwhBwSJCULCIEBQsIgQFiwhBwSJCULCIEBQsIgQFiwhBwSJCULCIEBQsIgQFiwhBwSJCULCIEBQsIgQFiwhBwSJCULCIEBQsIgQFiwhBwSJCULCIEBQsIgQFiwhBwSJCULCIEBQsIgQFiwhBwSJCULCIEBQsIgQFiwhBwSJCULCIEBQsIgQFiwhBwSJCULBIFw4dOlRbW2vvXjLGmIjekF5jzJgxp0+fLi0tnTRpku17UbCINTU1NSqVKiAgQKfTeXh42L4jnQqJNXl5eQBmzZplV6pAwSLW8WD94Q9/sHdHOhWSTjU0NISEhHh7ezc2NiqVSrv2pRGLdCovL48xNm3aNHtTBQoWseLAgQNw6DwIOhWSzjQ3NwcGBhqNRp1ON2jQIHt3pxGL3FlBQUF7e/tDDz3kQKpAwSKd4efB2bNnO7Y7nQrJHej1+sGDB7e0tNTX14eGhjrQgn2zXsQFDAakpcFgQFsb0tJQVQWlEjExKCwEgLi47u4fABQWFra0tERGRjqWKlCwusH27ZgwAfHxOHsWaWmIiUFHBwBcvdrdPft/fF7U4fMg6BqrG3z9NfhqblgYLl4EgKwsPP88duzo3n5JTCZTQUEBnAsWjVhuFxqKujoEBaGpCb6+AJCUBI0G+/Z1d8/+p6ysTKfThYWFhYeHO9wIBcvtUlKwZAkOHsTp03jpJVRXd3eHLPHzYHx8vDON0K9C92IMU6ciOhpLl8Kh+SE3GDVq1JkzZ0pKStRqtcONULDc66uvEB2NESNQXw+ZrLt7cwfl5eWTJk0KDAxsaGhQKBQOt0OnQvc6cAAA4uN7VKq+//77kpKSqqqq0tLSY8eOBQcHDxo0yJlUgUYsdxszBqdPo6gIsbHd2IuWlpaKiory8vLy8vKvvvrqypUr0h/16dMHgF6vX7Vq1bp16xw+BAXLjWpqoFIhIAA6HewsyHReQ0NDaWkpH5kqKio6+OQZACA4ODgyMjIyMnLy5MlqtbqkpESj0bS3t7/xxhvLly938HiMuM369QxgCxa452jXr18vLi7OyMiYM2fO4MGDzf/SPTw8VCpVcnJydnb2yZMnb9939+7dcrlcJpNlZWU5dnQKlhv9/vcMYHl5bjjUuXPn+vbtax6m4ODg+Pj4119/vbi4uK2tzXxjnU6Xl5e3cuXKo0ePSh++8847ABQKxUcffeRAByhYbnL9wgVTv35MqWStraKP9dNPP3l4ePj5+ZkPSyaTSdrAYDCcPHkyOzs7OTlZpVLJbv2SWLt2rXk7q1evBuDt7X348GF7+0DBcpPNmzf369Mnc/FiNxwrMzMTwOOPP27+4U8//ZSfn//CCy/Exsb6+PiYD2Z+fn5TpkxZvXr1kSNHLJpatmwZAH9//6+//tquPlCw3OSxxx4DkJ2d7YZjaTQaAO+//z7/z2PHjo0cOdLi2nrkyJHz58/fvHlzdXW1wWDorCmj0fjnP/8ZQGBgYG1tre19oGC5w9WrV728vBQKRWNjo+hjtbS09O3bVy6XX7x4kX/S2Ngok8l8fHzUavWyZcv27t176dIl2xvU6/XTpk0DEBYW1tDQYONeFCx32LVrF4ApU6a44Vi5ubkAJk+ebP7hN99809HR4XCbra2t/P76iIiIK1eu2LILlc24g5Nlvg4cy+LWmoiICHtvZTanVCrz8/PHjBlz4sSJGTNmtLa2dr2PwykmNrp586afnx+A+vp60cdqb28fMGAAALuuh2x0/vz5ESNGANBoNF2OfxQs4Xbs2AEgMjLSDcf6/PPPAYSHhwtqv66uLigoCEBCQoLRaLSyJS1Cu57BYKitrZXWT2pqau65555+/fq54dD8POhkKZUVI0eO/Pjjjx955JFdu3b179//7bff7nRTQdG+20iT1w8++KDFDem+vr68UmDjxo1C+2AymYYNGwbAfAJdBK1W6+XlBWD79u2dbePKYBmNxlOnTmVmZp48ebKpqcmFLfdAnU1ec8HBwXPmzMnIyDh69KjRaNy1axdfetu2bZu4Lh05cgRASEiI+SS7IBkZGQMGDNi0aVNnGzh7Krx+/Xp1dTUf9svLy3/++WcAUVFRN27cOHTo0MCBA51sv0e5du1aRUUFP8GVlJRcNbuvxsfHZ+zYsbxAIDY21mLR9+mnn7569eqSJUuSk5MHDx48Y8YMEd3j58EnnnhCJr7Y6+rVq01NTSdOnOh0C3ujajKZampqsrKyFi1aFB4eLpf/YsJi2LBh8fHxw4cPB6BWq1vFr4u5TVVVlcVXZ+PkNWOMDyEvvvgiHF16s8WYMWMAfPHFFyIatzB27FgAn376aWcb2BSslpYWqQDD4k5+Dw+PyMjIZcuWZWdnf//993z7Cxcu8BsdH330Ub1e75r/lW5VXV0tk8l8fX0dmLzetGnTrFmzOjo6TCZTcnIyAH9//2PHjrm2h3V1dQAGDhzozESojX744QeZTObn53fjxo3Otuk0WDdv3szOzk5JSXnggQcsqlSHDh36pz/96c033ywrK7t58+Yddz9z5gz/XTpv3jzrv0t/FdLS0gCkpKTYu+Ply5f5P8X58+ebTCaj0ThnzhwAQ4YMkf4dusSGDRsAPPPMMy5sszP//ve/AcydO9fKNp0Gy2Aw8Gk92FAXdkfHjx/v378/gL/97W/2dbzn+d3vfgfgs88+c2DfyspK/k0uWbKEMabX66dOnQogLCxMWs5z3sSJEwE4Vjtlr4ceeghATk6OlW2snQr/8Y9/8LowKyOedUVFRbzcbN26dY610BPU19fz85der29vb3fgB++XX37Jv4f169czxlpbW6Ojo2HP0pt1Op1OLpd7e3tfv37d+dasu3z5soeHh6enp/XvQfg81oEDB/gqlehZHHHS09MBPPXUU4yxzz77zMvLi489dsnLy/Pw8JDJZLyapbGxkV9rR0dHO/8TZ8uWLQBmz57tZDu2yMrKAjB9+nTrm7ljgjQ7O1smk8nl8g8//NANh3O5Bx98EADv/LPPPgtgzZo1DrSzfft2mUymUCj27t3LGDt37hxfeps5c6YDV9wGg6G6unrz5s2JiYn8kuO1115zoFf2mjVrFoB3333X+mZumnl/9dVXAXh5eTl2mdKN+Mjfp0+f5uZmo9EYHBwMoLq62rHW+A1V0vdQV1cXGBgIICEhwZZZzebmZq1Wm5aWptFo+GKzRKFQhIaG2l4v5ZjW1lalUimXy7s8kPuWdJ5//nkASqWytLTUyaZqa2vb29td0qsu/ec//8GtMt+ysjIAoaGhzjTIb6jy8/OrrKxkjFVUVPj6+gJYunTpHbc/e/asNL9vMWsoze9rtVpeLxUeHv7zzz870z3r/vvf/wKYNGlSl1u6L1gmk2nhwoUABg0a9O2339q17+13MqWmpqanpwvqqrmZM2fiVpnvihUrAPz97393pkGTybRgwQL+PdTU1DDGvvjiC36bKD+XXbt2rbi4eMOGDRqNxmLpwtPTk88a7t27V6fTmTfb1NTEf7pOnDhR3CX8/PnzbTznunUR2mAwPPHEE3wm7IcffrC+8Xfffbdz587U1NRx48ZZFKkFBATwi7bdu3cL7bA08vN5gd/+9rcADh065GSzBoOBFyCEhIT8+OOPjLEPPviALyYOHz7cYkEmNDR03rx5b731VmVlpfVLsfPnzwudl+7o6OBzcqdPn+5yY3dXN7S1tfFr4ZEjR1pMXre3tx89epQPS3xyVWIxkWYymXjBhqen5yeffCKut/v27QOgVqsZY6dOneKZdsnUdmtrq1qt9vHxKSoq4p+kpqbywVgalrKzs+2tDRQ6L11YWAhApVLZsnE3lM00NzePGzcOQFRUVF1dXX5+/sqVK9VqNT8dSPz9/ePi4tLS0rRa7R1/kL/wwgsAvL29i4uLBXU1ISEBwL/+9S9267o7KSnJVY03NTWZ17fw64SUlBQnLx+rq6v5j8TU1FSn+/gLS5cuBbBq1SpbNu6eeqyLFy+GhYVZjPkeHh7jxo1LTU3duXPnd99912UjJpNp0aJFELP0xm4r842KigKQn5/v8gMxxoxG4z333APA9oUNK6T5WBfOS5tMJl5bUFFRYcv23Vbod/bs2a1btw4ZMkSj0bzyyitFRUUtLS32NmIwGAQtvTHGtFotbpX5nj9/XiaTKZVKQfUahw8fBvCb3/zGVQ26fF66srKSXxzbWOz1q68gFbT0xhhbsmQJgNWrVzPG+CXdH//4Rxe2b+65554DsGLFChe26dp5aX67ve1LDr/6YDHGrl27NmHCBAAPPPCAqypXpTJfPtsUFxcHYOfOnS5p/Hb33XcfAOdn+CysX78ezs1LG43GkydPbt26lU/karVaG3fsDcFijDU2No4ePRpAbGysw0vm5ioqKqSRv6mpycvLy9PT0yULxrc7fvw4gKCgIBH1RQ7MS/PyOz6RFhAQIF0Br1u3zvYfFr0kWIyxc+fO8atLXlXnZGurVq3Crdnwjo4OrVabkZHhim7ewZo1awAkJyeLaNxkMiUlJVmfl7ZeFTx8+PC5c+dmZGTYdRHce4LFGDt16hT/F5aYmOjADQXSRFpiYqK/vz9uLTyLxidfrJT5Okmalw4JCZHmpe2tCrZXrwoWY+zIkSN86c3GC+ELFy5IE2kWTyoDEBERIfp2I17m6+vr65IzeGfa2tpiYmIAjBgx4i9/+UtnVcHp6elWqoLt0tuCxRgrLCzkc618YtNCR0eHNCzde++95l+uQqFQqVSJiYnvvfdeSUmJSqWC4KU3dqvM98knnxR3CK65uTksLGzIkCHSsORAVbDtemGwGGMfffSRQqGQyWSZmZmMsYaGhs6GpX79+vH5/fz8fItrc2npbcaMGeKKKWJjY9FVma+rTJkyhYf49qdFulzvDBZjbNOmTXwQ4jPaErlcHh4evmjRom3bttXU1Fi/FJOW3p5++mkRP9lsLPN1CXc+o4v14mAxxtasWcPLPPz8/NRq9cqVK/Pz8+0tVxK39MZulflOmzbN5S3fbs+ePQAefvhhNxyL9e5gMcba2tpOnTrl5GAjLb298sorruoYx59i1WWZr0vwJz667c6DXh4sV+G3QgB466237N2XT15nZmYmJSVFRkZK90zbXubrvJs3b/LH3bh8RbUzFCxb8VshbFx6u+PkNScVYvAy3+joaMEdZ4yxTz75BMD48ePdcCyOno9lq2eeeaahoeHFF1/k06d85ducxauOTCaT9Ef8nSL8hSJ86QnufX6k86/itZvbItw78FshlEplWVmZ+ee8CE7Sp0+f6Ojo5557Ljc39/z58+Zb6vX68vLyN998kz9s3ZYyXydJxV7ffPON6GNJaMSyz+uvv97U1JSVlTVr1qzDhw/zm04BjB8/3uJVR97e3tJeOp2usrKSD2alpaU3btwAoFQqPT09GxoaeCm9OOXl5TqdLjQ0NCIiQuiBfsFtEe417rj0ZvHDs729vaKiYuPGjU899RS/K1Uil8tVKtXChQv5T8KhQ4devnxZaId5gcPy5cuFHsUCBcsRd7wlRKfT5efnp6WlxcXF3f60SGkiTYqR0WjkT9eIj48X2ttRo0YBEHdnwB1RsBwk3cc3atSoJ598klfqSWQy2ejRoxcsWPD++++fOHGis4m0+vp6Xkax29G3t3WJP3QvMDDQ+qPhXI6C5bhLly6NGjVKunAxfyyb7csme/bs2Th5snHIEFZTI6KTa9euBfDXv/5VRONWULCc0tjYWFVVtWXLluPHjzs+JCQmMoCNH88E3GUaGRkJoKCgwOUtW0ev7u0Brl/H+PE4cwYrVuC111zY8IULF4YNG+bj49PY2Hh7tZlQ9C6dHsDXF7t3w9MTb7yBwkIXNswf8Dd9+nQ3pwoAzWP1DFFReOklFBXh1ry8k9ra2goKCvbv3w83T7jfQqfCHsNohEwGuVPnEJPJVFZWtnPnzpycnJaWFoVCIZfLL126ZPEwLTegEavH+GURur0qKyt379794Ycf6nQ6ADKZLCoqSqFQ1NXV6fV6F3XRDjRi9TAGA9LSYDCgrQ1paaiqglKJmJj/XXvFxVls/uOPP37wwQfbtm2rra3ln4SGhj7++OMDBgw4ePBgeXm5yWQaO3bswYMH+YSZ29CI1cNs344JExAfj7NnkZaGmBh0dACA2etVAFy5cmXfvn07duzga+EAAgICZs6cGRQUdOTIkXfffZfXVgwYMMDf37+6unr69OlardbiHeNiuXl6g3Rh8WImPaovPp7l5LD4eLZ8OZs5k+Xm8o83bNggPYmuX79+CQkJL7/8ckJCgrSO1LdvX41Gs3fvXr1eb9fbK12IRqweJjQUdXUICkJTE3x9ASApCRoN9u2TNrn//vsZY4888sjEiROvXLmSm5vL3zktl8vVavX8+fPnzp0rvR5x6NChWq02JiamoKBgwYIF2dnZcud+H9jKbREmNmluZomJ7OWX2bx5rKaG5eSwjz9mjLHcXGnE6ujoWL16dUhIiPSXGBkZmZ6ebqXEuaKiwvztGG5AweqRunpKwuLFiwEMHz585cqVNbYtMkqP0H311Vdd0cUuULB+lerq6srKyux9PsX+/fv5fbz8IdBC0XTD3eW9995LSUlRKBQ5OTn8YYiC0Frh3eXZZ59du3at0WhMSEjgr7wXhEasu9Hy5cvT09P9/PyKiop4XY3LUbDuRoyxhQsXbtu2bdCgQcXFxaNdtPJtjoJ1l+Lvet2/f39ISEhpaSl/GKILUbDuXjdu3Jg6dWpxcbFKpTp8+LDFHdtOoov3u5e3t/eBAwciIiK+/fZb/hxUF6IR62538eLFf/7zn+np6Ra3rDmJgkWEoFMhEYKCRYSgYBEhKFhECAoWEYKCRYSgYBEhKFhECAoWEYKCRYSgYBEhKFhECAoWEYKCRYSgYBEhKFhECAoWEYKCRYSgYBEhKFhECAoWEYKCRYSgYBEhKFhECAoWEYKCRYSgYBEhKFhECAoWEYKCRYSgYBEhKFhECAoWEYKCRYSgYBEhKFhECAoWEYKCRYSgYBEhKFhECAoWEYKCRYSgYBEhKFhECAoWEYKCRYSgYBEhKFhECAoWEYKCRYSgYBEhKFhECAoWEeL/AHdPkXBuxG0KAAAAAElFTkSuQmCC\" alt=\"Mol\"/></td>\n",
       "      <td>314.224580</td>\n",
       "      <td>2</td>\n",
       "      <td>2</td>\n",
       "      <td>5.84650</td>\n",
       "      <td>cyan</td>\n",
       "    </tr>\n",
       "  </tbody>\n",
       "</table>\n",
       "</div>"
      ],
      "text/plain": [
       "            name                                             smiles  \\\n",
       "0   cyclosporine  CCC1C(=O)N(CC(=O)N(C(C(=O)NC(C(=O)N(C(C(=O)NC(...   \n",
       "1      clozapine       CN1CCN(CC1)C2=C3C=CC=CC3=NC4=C(N2)C=C(C=C4)C   \n",
       "2  beta-carotene  CC1=C(C(CCC1)(C)C)C=CC(=CC=CC(=CC=CC=C(C)C=CC=...   \n",
       "3    cannabidiol         CCCCCC1=CC(=C(C(=C1)O)C2C=C(CCC2C(=C)C)C)O   \n",
       "\n",
       "                                               ROMol  molecular_weight  n_hba  \\\n",
       "0  <img data-content=\"rdkit/molecule\" src=\"data:i...       1201.841368     12   \n",
       "1  <img data-content=\"rdkit/molecule\" src=\"data:i...        306.184447      4   \n",
       "2  <img data-content=\"rdkit/molecule\" src=\"data:i...        536.438202      0   \n",
       "3  <img data-content=\"rdkit/molecule\" src=\"data:i...        314.224580      2   \n",
       "\n",
       "   n_hbd      logp  color  \n",
       "0      5   3.26900    red  \n",
       "1      1   1.68492  green  \n",
       "2      0  12.60580   blue  \n",
       "3      2   5.84650   cyan  "
      ]
     },
     "execution_count": 5,
     "metadata": {},
     "output_type": "execute_result"
    }
   ],
   "source": [
    "molecules[\"molecular_weight\"] = molecules[\"ROMol\"].apply(Descriptors.ExactMolWt)\n",
    "molecules[\"n_hba\"] = molecules[\"ROMol\"].apply(Descriptors.NumHAcceptors)\n",
    "molecules[\"n_hbd\"] = molecules[\"ROMol\"].apply(Descriptors.NumHDonors)\n",
    "molecules[\"logp\"] = molecules[\"ROMol\"].apply(Descriptors.MolLogP)\n",
    "molecules[\"color\"] = [\"red\", \"green\", \"blue\", \"cyan\"]\n",
    "molecules"
   ]
  },
  {
   "cell_type": "markdown",
   "metadata": {},
   "source": [
    "2. Plot the molecule properties as bar plots."
   ]
  },
  {
   "cell_type": "code",
   "execution_count": 6,
   "metadata": {},
   "outputs": [],
   "source": [
    "ro5_properties = {\n",
    "    \"molecular_weight\": (500, \"molecular weight (Da)\"),\n",
    "    \"n_hba\": (10, \"# HBA\"),\n",
    "    \"n_hbd\": (5, \"# HBD\"),\n",
    "    \"logp\": (5, \"logP\"),\n",
    "}"
   ]
  },
  {
   "cell_type": "code",
   "execution_count": 7,
   "metadata": {},
   "outputs": [
    {
     "data": {
      "image/png": "[encoded data removed]",
      "text/plain": [
       "<Figure size 720x180 with 4 Axes>"
      ]
     },
     "metadata": {
      "needs_background": "light"
     },
     "output_type": "display_data"
    }
   ],
   "source": [
    "# Start 1x4 plot frame\n",
    "fig, axes = plt.subplots(figsize=(10, 2.5), nrows=1, ncols=4)\n",
    "x = np.arange(1, len(molecules)+1)\n",
    "colors = ['red', 'green', 'blue', 'cyan']\n",
    "\n",
    "# Create subplots\n",
    "for index, (key, (threshold, title)) in enumerate(ro5_properties.items()):\n",
    "    axes[index].bar([1, 2, 3, 4], molecules[key], color=colors)\n",
    "    axes[index].axhline(y=threshold, color=\"black\", linestyle=\"dashed\")\n",
    "    axes[index].set_title(title)\n",
    "\n",
    "# Add legend\n",
    "legend_elements = [mpatches.Patch(color=row[\"color\"], label=row[\"name\"]) for index, row in molecules.iterrows()]\n",
    "legend_elements.append(Line2D([0], [0], color=\"black\", ls=\"dashed\", label=\"Threshold\"))\n",
    "fig.legend(handles=legend_elements, bbox_to_anchor=(1.2, 0.8))\n",
    "\n",
    "# Fit subplots and legend into figure\n",
    "plt.tight_layout()\n",
    "plt.show()"
   ]
  },
  {
   "cell_type": "markdown",
   "metadata": {},
   "source": [
    "In the above bar chart we compared the Ro5 properties for four example molecules. We can see that the four example drug molecules have different properties. In the next steps, we will investigate for each compound whether it violates the Ro5."
   ]
  },
  {
   "cell_type": "markdown",
   "metadata": {},
   "source": [
    "### Investigate compliance with Ro5"
   ]
  },
  {
   "cell_type": "code",
   "execution_count": 8,
   "metadata": {},
   "outputs": [],
   "source": [
    "def calculates_ro5(smiles):\n",
    "    \"\"\"Test if input molecule (SMILES) fulfills Lipinski's rule of five.\"\"\"\n",
    "    # RDKit molecule from SMILES\n",
    "    molecule = Chem.MolFromSmiles(smiles)\n",
    "    # Calculate Ro5-relevant chemical properties\n",
    "    molecular_weight = Descriptors.ExactMolWt(molecule)\n",
    "    n_hba = Descriptors.NumHAcceptors(molecule)\n",
    "    n_hbd = Descriptors.NumHDonors(molecule)\n",
    "    logp = Descriptors.MolLogP(molecule)\n",
    "    # Ro5 conditions fulfilled?\n",
    "    conditions = [molecular_weight <= 500, n_hba <= 10, n_hbd <= 5, logp <= 5]\n",
    "    ro5_fulfilled = sum(conditions) >= 3\n",
    "    # Return True if no more than one out of four conditions is violated\n",
    "    return pd.Series(\n",
    "        [molecular_weight, n_hba, n_hbd, logp, ro5_fulfilled], \n",
    "        index=[\"molecular_weight\", \"n_hba\", \"n_hbd\", \"logp\", \"ro5_fulfilled\"]\n",
    "    )"
   ]
  },
  {
   "cell_type": "code",
   "execution_count": 9,
   "metadata": {},
   "outputs": [
    {
     "name": "stdout",
     "output_type": "stream",
     "text": [
      "Ro5 fulfilled for cyclosporine: False\n",
      "Ro5 fulfilled for clozapine: True\n",
      "Ro5 fulfilled for beta-carotene: False\n",
      "Ro5 fulfilled for cannabidiol: True\n"
     ]
    }
   ],
   "source": [
    "for name, smiles in zip(molecules[\"name\"], molecules[\"smiles\"]):\n",
    "    print(f\"Ro5 fulfilled for {name}: {calculates_ro5(smiles)['ro5_fulfilled']}\")                "
   ]
  },
  {
   "cell_type": "markdown",
   "metadata": {},
   "source": [
    "According to the Ro5, cyclosporin and betacarotene are estimated to have poor bioavailability. However, since all of them are approved drugs, they are good examples of how the Ro5 can used as an alert but should not be used as a filter.\n",
    "\n",
    "TODO: are these orally administered drugs???"
   ]
  },
  {
   "cell_type": "markdown",
   "metadata": {},
   "source": [
    "### Apply Ro5 to the EGFR dataset\n",
    "\n",
    "The `test_rule_of_five` function can be used to filter the main dataset by compliance with Lipinski's rule of five.\n",
    "\n",
    "* Adjust the function to return all chemical parameters related to the rule of five\n",
    "* Load main dataframe (`ChEMBL_df`)\n",
    "* Apply rule of five function to `ChEMBL_df`\n",
    "* Filter `ChEMBL_df` by  compounds that violate more than one rule\n",
    "* Save filtered dataframe"
   ]
  },
  {
   "cell_type": "code",
   "execution_count": 10,
   "metadata": {
    "scrolled": true
   },
   "outputs": [
    {
     "name": "stdout",
     "output_type": "stream",
     "text": [
      "(5444, 5)\n"
     ]
    },
    {
     "data": {
      "text/html": [
       "<div>\n",
       "<style scoped>\n",
       "    .dataframe tbody tr th:only-of-type {\n",
       "        vertical-align: middle;\n",
       "    }\n",
       "\n",
       "    .dataframe tbody tr th {\n",
       "        vertical-align: top;\n",
       "    }\n",
       "\n",
       "    .dataframe thead th {\n",
       "        text-align: right;\n",
       "    }\n",
       "</style>\n",
       "<table border=\"1\" class=\"dataframe\">\n",
       "  <thead>\n",
       "    <tr style=\"text-align: right;\">\n",
       "      <th></th>\n",
       "      <th>molecule_chembl_id</th>\n",
       "      <th>IC50</th>\n",
       "      <th>units</th>\n",
       "      <th>smiles</th>\n",
       "      <th>pIC50</th>\n",
       "    </tr>\n",
       "  </thead>\n",
       "  <tbody>\n",
       "    <tr>\n",
       "      <th>0</th>\n",
       "      <td>CHEMBL63786</td>\n",
       "      <td>0.003</td>\n",
       "      <td>nM</td>\n",
       "      <td>Brc1cccc(Nc2ncnc3cc4ccccc4cc23)c1</td>\n",
       "      <td>11.522879</td>\n",
       "    </tr>\n",
       "    <tr>\n",
       "      <th>1</th>\n",
       "      <td>CHEMBL35820</td>\n",
       "      <td>0.006</td>\n",
       "      <td>nM</td>\n",
       "      <td>CCOc1cc2ncnc(Nc3cccc(Br)c3)c2cc1OCC</td>\n",
       "      <td>11.221849</td>\n",
       "    </tr>\n",
       "    <tr>\n",
       "      <th>2</th>\n",
       "      <td>CHEMBL53711</td>\n",
       "      <td>0.006</td>\n",
       "      <td>nM</td>\n",
       "      <td>CN(C)c1cc2c(Nc3cccc(Br)c3)ncnc2cn1</td>\n",
       "      <td>11.221849</td>\n",
       "    </tr>\n",
       "    <tr>\n",
       "      <th>3</th>\n",
       "      <td>CHEMBL53753</td>\n",
       "      <td>0.008</td>\n",
       "      <td>nM</td>\n",
       "      <td>CNc1cc2c(Nc3cccc(Br)c3)ncnc2cn1</td>\n",
       "      <td>11.096910</td>\n",
       "    </tr>\n",
       "    <tr>\n",
       "      <th>4</th>\n",
       "      <td>CHEMBL66031</td>\n",
       "      <td>0.008</td>\n",
       "      <td>nM</td>\n",
       "      <td>Brc1cccc(Nc2ncnc3cc4[nH]cnc4cc23)c1</td>\n",
       "      <td>11.096910</td>\n",
       "    </tr>\n",
       "  </tbody>\n",
       "</table>\n",
       "</div>"
      ],
      "text/plain": [
       "  molecule_chembl_id   IC50 units                               smiles  \\\n",
       "0        CHEMBL63786  0.003    nM    Brc1cccc(Nc2ncnc3cc4ccccc4cc23)c1   \n",
       "1        CHEMBL35820  0.006    nM  CCOc1cc2ncnc(Nc3cccc(Br)c3)c2cc1OCC   \n",
       "2        CHEMBL53711  0.006    nM   CN(C)c1cc2c(Nc3cccc(Br)c3)ncnc2cn1   \n",
       "3        CHEMBL53753  0.008    nM      CNc1cc2c(Nc3cccc(Br)c3)ncnc2cn1   \n",
       "4        CHEMBL66031  0.008    nM  Brc1cccc(Nc2ncnc3cc4[nH]cnc4cc23)c1   \n",
       "\n",
       "       pIC50  \n",
       "0  11.522879  \n",
       "1  11.221849  \n",
       "2  11.221849  \n",
       "3  11.096910  \n",
       "4  11.096910  "
      ]
     },
     "execution_count": 10,
     "metadata": {},
     "output_type": "execute_result"
    }
   ],
   "source": [
    "molecules = pd.read_csv(HERE / \"..\" / \"001_query_chembl\" / \"data\" / \"EGFR_compounds.csv\", index_col=0)  # TODO\n",
    "print(molecules.shape)\n",
    "molecules.head()"
   ]
  },
  {
   "cell_type": "code",
   "execution_count": 11,
   "metadata": {},
   "outputs": [
    {
     "data": {
      "text/html": [
       "<div>\n",
       "<style scoped>\n",
       "    .dataframe tbody tr th:only-of-type {\n",
       "        vertical-align: middle;\n",
       "    }\n",
       "\n",
       "    .dataframe tbody tr th {\n",
       "        vertical-align: top;\n",
       "    }\n",
       "\n",
       "    .dataframe thead th {\n",
       "        text-align: right;\n",
       "    }\n",
       "</style>\n",
       "<table border=\"1\" class=\"dataframe\">\n",
       "  <thead>\n",
       "    <tr style=\"text-align: right;\">\n",
       "      <th></th>\n",
       "      <th>molecular_weight</th>\n",
       "      <th>n_hba</th>\n",
       "      <th>n_hbd</th>\n",
       "      <th>logp</th>\n",
       "      <th>ro5_fulfilled</th>\n",
       "    </tr>\n",
       "  </thead>\n",
       "  <tbody>\n",
       "    <tr>\n",
       "      <th>0</th>\n",
       "      <td>349.021459</td>\n",
       "      <td>3</td>\n",
       "      <td>1</td>\n",
       "      <td>5.2891</td>\n",
       "      <td>True</td>\n",
       "    </tr>\n",
       "    <tr>\n",
       "      <th>1</th>\n",
       "      <td>387.058239</td>\n",
       "      <td>5</td>\n",
       "      <td>1</td>\n",
       "      <td>4.9333</td>\n",
       "      <td>True</td>\n",
       "    </tr>\n",
       "    <tr>\n",
       "      <th>2</th>\n",
       "      <td>343.043258</td>\n",
       "      <td>5</td>\n",
       "      <td>1</td>\n",
       "      <td>3.5969</td>\n",
       "      <td>True</td>\n",
       "    </tr>\n",
       "    <tr>\n",
       "      <th>3</th>\n",
       "      <td>329.027607</td>\n",
       "      <td>5</td>\n",
       "      <td>2</td>\n",
       "      <td>3.5726</td>\n",
       "      <td>True</td>\n",
       "    </tr>\n",
       "    <tr>\n",
       "      <th>4</th>\n",
       "      <td>339.011957</td>\n",
       "      <td>4</td>\n",
       "      <td>2</td>\n",
       "      <td>4.0122</td>\n",
       "      <td>True</td>\n",
       "    </tr>\n",
       "  </tbody>\n",
       "</table>\n",
       "</div>"
      ],
      "text/plain": [
       "   molecular_weight  n_hba  n_hbd    logp  ro5_fulfilled\n",
       "0        349.021459      3      1  5.2891           True\n",
       "1        387.058239      5      1  4.9333           True\n",
       "2        343.043258      5      1  3.5969           True\n",
       "3        329.027607      5      2  3.5726           True\n",
       "4        339.011957      4      2  4.0122           True"
      ]
     },
     "execution_count": 11,
     "metadata": {},
     "output_type": "execute_result"
    }
   ],
   "source": [
    "# Apply the Ro5 to all molecules\n",
    "# TODO: CI - Takes a few seconds\n",
    "ro5_properties = molecules[\"smiles\"].apply(calculates_ro5)\n",
    "ro5_properties.head()"
   ]
  },
  {
   "cell_type": "code",
   "execution_count": 12,
   "metadata": {},
   "outputs": [
    {
     "data": {
      "text/html": [
       "<div>\n",
       "<style scoped>\n",
       "    .dataframe tbody tr th:only-of-type {\n",
       "        vertical-align: middle;\n",
       "    }\n",
       "\n",
       "    .dataframe tbody tr th {\n",
       "        vertical-align: top;\n",
       "    }\n",
       "\n",
       "    .dataframe thead th {\n",
       "        text-align: right;\n",
       "    }\n",
       "</style>\n",
       "<table border=\"1\" class=\"dataframe\">\n",
       "  <thead>\n",
       "    <tr style=\"text-align: right;\">\n",
       "      <th></th>\n",
       "      <th>molecule_chembl_id</th>\n",
       "      <th>IC50</th>\n",
       "      <th>units</th>\n",
       "      <th>smiles</th>\n",
       "      <th>pIC50</th>\n",
       "      <th>molecular_weight</th>\n",
       "      <th>n_hba</th>\n",
       "      <th>n_hbd</th>\n",
       "      <th>logp</th>\n",
       "      <th>ro5_fulfilled</th>\n",
       "    </tr>\n",
       "  </thead>\n",
       "  <tbody>\n",
       "    <tr>\n",
       "      <th>0</th>\n",
       "      <td>CHEMBL63786</td>\n",
       "      <td>0.003</td>\n",
       "      <td>nM</td>\n",
       "      <td>Brc1cccc(Nc2ncnc3cc4ccccc4cc23)c1</td>\n",
       "      <td>11.522879</td>\n",
       "      <td>349.021459</td>\n",
       "      <td>3</td>\n",
       "      <td>1</td>\n",
       "      <td>5.2891</td>\n",
       "      <td>True</td>\n",
       "    </tr>\n",
       "    <tr>\n",
       "      <th>1</th>\n",
       "      <td>CHEMBL35820</td>\n",
       "      <td>0.006</td>\n",
       "      <td>nM</td>\n",
       "      <td>CCOc1cc2ncnc(Nc3cccc(Br)c3)c2cc1OCC</td>\n",
       "      <td>11.221849</td>\n",
       "      <td>387.058239</td>\n",
       "      <td>5</td>\n",
       "      <td>1</td>\n",
       "      <td>4.9333</td>\n",
       "      <td>True</td>\n",
       "    </tr>\n",
       "    <tr>\n",
       "      <th>2</th>\n",
       "      <td>CHEMBL53711</td>\n",
       "      <td>0.006</td>\n",
       "      <td>nM</td>\n",
       "      <td>CN(C)c1cc2c(Nc3cccc(Br)c3)ncnc2cn1</td>\n",
       "      <td>11.221849</td>\n",
       "      <td>343.043258</td>\n",
       "      <td>5</td>\n",
       "      <td>1</td>\n",
       "      <td>3.5969</td>\n",
       "      <td>True</td>\n",
       "    </tr>\n",
       "    <tr>\n",
       "      <th>3</th>\n",
       "      <td>CHEMBL53753</td>\n",
       "      <td>0.008</td>\n",
       "      <td>nM</td>\n",
       "      <td>CNc1cc2c(Nc3cccc(Br)c3)ncnc2cn1</td>\n",
       "      <td>11.096910</td>\n",
       "      <td>329.027607</td>\n",
       "      <td>5</td>\n",
       "      <td>2</td>\n",
       "      <td>3.5726</td>\n",
       "      <td>True</td>\n",
       "    </tr>\n",
       "    <tr>\n",
       "      <th>4</th>\n",
       "      <td>CHEMBL66031</td>\n",
       "      <td>0.008</td>\n",
       "      <td>nM</td>\n",
       "      <td>Brc1cccc(Nc2ncnc3cc4[nH]cnc4cc23)c1</td>\n",
       "      <td>11.096910</td>\n",
       "      <td>339.011957</td>\n",
       "      <td>4</td>\n",
       "      <td>2</td>\n",
       "      <td>4.0122</td>\n",
       "      <td>True</td>\n",
       "    </tr>\n",
       "  </tbody>\n",
       "</table>\n",
       "</div>"
      ],
      "text/plain": [
       "  molecule_chembl_id   IC50 units                               smiles  \\\n",
       "0        CHEMBL63786  0.003    nM    Brc1cccc(Nc2ncnc3cc4ccccc4cc23)c1   \n",
       "1        CHEMBL35820  0.006    nM  CCOc1cc2ncnc(Nc3cccc(Br)c3)c2cc1OCC   \n",
       "2        CHEMBL53711  0.006    nM   CN(C)c1cc2c(Nc3cccc(Br)c3)ncnc2cn1   \n",
       "3        CHEMBL53753  0.008    nM      CNc1cc2c(Nc3cccc(Br)c3)ncnc2cn1   \n",
       "4        CHEMBL66031  0.008    nM  Brc1cccc(Nc2ncnc3cc4[nH]cnc4cc23)c1   \n",
       "\n",
       "       pIC50  molecular_weight  n_hba  n_hbd    logp  ro5_fulfilled  \n",
       "0  11.522879        349.021459      3      1  5.2891           True  \n",
       "1  11.221849        387.058239      5      1  4.9333           True  \n",
       "2  11.221849        343.043258      5      1  3.5969           True  \n",
       "3  11.096910        329.027607      5      2  3.5726           True  \n",
       "4  11.096910        339.011957      4      2  4.0122           True  "
      ]
     },
     "execution_count": 12,
     "metadata": {},
     "output_type": "execute_result"
    }
   ],
   "source": [
    "# Concatenate molecule with Ro5 data\n",
    "molecules = pd.concat([molecules, ro5_properties], axis=1)\n",
    "molecules.head()"
   ]
  },
  {
   "cell_type": "code",
   "execution_count": 13,
   "metadata": {},
   "outputs": [
    {
     "name": "stdout",
     "output_type": "stream",
     "text": [
      "# of compounds in unfiltered data set: 5444\n",
      "# of compounds in filtered data set: 4525\n",
      "# of compounds not compliant with the Ro5: 919\n"
     ]
    }
   ],
   "source": [
    "# Keep only Ro5-compliant molecules\n",
    "molecules_ro5_fulfilled = molecules[molecules[\"ro5_fulfilled\"]]\n",
    "\n",
    "print(f\"# of compounds in unfiltered data set: {molecules.shape[0]}\")\n",
    "print(f\"# of compounds in filtered data set: {molecules_ro5_fulfilled.shape[0]}\")\n",
    "print(f\"# of compounds not compliant with the Ro5: {molecules.shape[0] - molecules_ro5_fulfilled.shape[0]}\")"
   ]
  },
  {
   "cell_type": "code",
   "execution_count": 14,
   "metadata": {},
   "outputs": [
    {
     "data": {
      "text/html": [
       "<div>\n",
       "<style scoped>\n",
       "    .dataframe tbody tr th:only-of-type {\n",
       "        vertical-align: middle;\n",
       "    }\n",
       "\n",
       "    .dataframe tbody tr th {\n",
       "        vertical-align: top;\n",
       "    }\n",
       "\n",
       "    .dataframe thead th {\n",
       "        text-align: right;\n",
       "    }\n",
       "</style>\n",
       "<table border=\"1\" class=\"dataframe\">\n",
       "  <thead>\n",
       "    <tr style=\"text-align: right;\">\n",
       "      <th></th>\n",
       "      <th>molecule_chembl_id</th>\n",
       "      <th>IC50</th>\n",
       "      <th>units</th>\n",
       "      <th>smiles</th>\n",
       "      <th>pIC50</th>\n",
       "      <th>molecular_weight</th>\n",
       "      <th>n_hba</th>\n",
       "      <th>n_hbd</th>\n",
       "      <th>logp</th>\n",
       "      <th>ro5_fulfilled</th>\n",
       "    </tr>\n",
       "  </thead>\n",
       "  <tbody>\n",
       "    <tr>\n",
       "      <th>0</th>\n",
       "      <td>CHEMBL63786</td>\n",
       "      <td>0.003</td>\n",
       "      <td>nM</td>\n",
       "      <td>Brc1cccc(Nc2ncnc3cc4ccccc4cc23)c1</td>\n",
       "      <td>11.522879</td>\n",
       "      <td>349.021459</td>\n",
       "      <td>3</td>\n",
       "      <td>1</td>\n",
       "      <td>5.2891</td>\n",
       "      <td>True</td>\n",
       "    </tr>\n",
       "    <tr>\n",
       "      <th>1</th>\n",
       "      <td>CHEMBL35820</td>\n",
       "      <td>0.006</td>\n",
       "      <td>nM</td>\n",
       "      <td>CCOc1cc2ncnc(Nc3cccc(Br)c3)c2cc1OCC</td>\n",
       "      <td>11.221849</td>\n",
       "      <td>387.058239</td>\n",
       "      <td>5</td>\n",
       "      <td>1</td>\n",
       "      <td>4.9333</td>\n",
       "      <td>True</td>\n",
       "    </tr>\n",
       "    <tr>\n",
       "      <th>2</th>\n",
       "      <td>CHEMBL53711</td>\n",
       "      <td>0.006</td>\n",
       "      <td>nM</td>\n",
       "      <td>CN(C)c1cc2c(Nc3cccc(Br)c3)ncnc2cn1</td>\n",
       "      <td>11.221849</td>\n",
       "      <td>343.043258</td>\n",
       "      <td>5</td>\n",
       "      <td>1</td>\n",
       "      <td>3.5969</td>\n",
       "      <td>True</td>\n",
       "    </tr>\n",
       "    <tr>\n",
       "      <th>3</th>\n",
       "      <td>CHEMBL53753</td>\n",
       "      <td>0.008</td>\n",
       "      <td>nM</td>\n",
       "      <td>CNc1cc2c(Nc3cccc(Br)c3)ncnc2cn1</td>\n",
       "      <td>11.096910</td>\n",
       "      <td>329.027607</td>\n",
       "      <td>5</td>\n",
       "      <td>2</td>\n",
       "      <td>3.5726</td>\n",
       "      <td>True</td>\n",
       "    </tr>\n",
       "    <tr>\n",
       "      <th>4</th>\n",
       "      <td>CHEMBL66031</td>\n",
       "      <td>0.008</td>\n",
       "      <td>nM</td>\n",
       "      <td>Brc1cccc(Nc2ncnc3cc4[nH]cnc4cc23)c1</td>\n",
       "      <td>11.096910</td>\n",
       "      <td>339.011957</td>\n",
       "      <td>4</td>\n",
       "      <td>2</td>\n",
       "      <td>4.0122</td>\n",
       "      <td>True</td>\n",
       "    </tr>\n",
       "  </tbody>\n",
       "</table>\n",
       "</div>"
      ],
      "text/plain": [
       "  molecule_chembl_id   IC50 units                               smiles  \\\n",
       "0        CHEMBL63786  0.003    nM    Brc1cccc(Nc2ncnc3cc4ccccc4cc23)c1   \n",
       "1        CHEMBL35820  0.006    nM  CCOc1cc2ncnc(Nc3cccc(Br)c3)c2cc1OCC   \n",
       "2        CHEMBL53711  0.006    nM   CN(C)c1cc2c(Nc3cccc(Br)c3)ncnc2cn1   \n",
       "3        CHEMBL53753  0.008    nM      CNc1cc2c(Nc3cccc(Br)c3)ncnc2cn1   \n",
       "4        CHEMBL66031  0.008    nM  Brc1cccc(Nc2ncnc3cc4[nH]cnc4cc23)c1   \n",
       "\n",
       "       pIC50  molecular_weight  n_hba  n_hbd    logp  ro5_fulfilled  \n",
       "0  11.522879        349.021459      3      1  5.2891           True  \n",
       "1  11.221849        387.058239      5      1  4.9333           True  \n",
       "2  11.221849        343.043258      5      1  3.5969           True  \n",
       "3  11.096910        329.027607      5      2  3.5726           True  \n",
       "4  11.096910        339.011957      4      2  4.0122           True  "
      ]
     },
     "execution_count": 14,
     "metadata": {},
     "output_type": "execute_result"
    }
   ],
   "source": [
    "# Save filtered data \n",
    "molecules_ro5_fulfilled.to_csv(DATA / \"EGFR_compounds_lipinski.csv\", sep=';') # TODO why ;?\n",
    "molecules_ro5_fulfilled.head()"
   ]
  },
  {
   "cell_type": "markdown",
   "metadata": {},
   "source": [
    "### Visualize Ro5 properties (radar plot)\n",
    "\n",
    "First, we define a function that defines the mean and standard deviations of a dataset. \n",
    "\n",
    "These statistics will be lateron used to plot the Lipinski's rule of five related parameters of a dataset."
   ]
  },
  {
   "cell_type": "code",
   "execution_count": 15,
   "metadata": {},
   "outputs": [],
   "source": [
    "def get_properties_stats(data_df):\n",
    "    \"\"\"\n",
    "    Function that calculates the mean and standard deviation of physicochemical properties of a dataset.\n",
    "    \n",
    "    Input: \n",
    "    Dataset containing per compound values for physicochemical properties\n",
    "    HBD, HBA, MW and LogP as columns (with exactly these names).\n",
    "    \n",
    "    Output:\n",
    "    Dataframe with mean and std (columns) for each physicochemical property (rows).\n",
    "    \"\"\"\n",
    "    properties = [\"HBD\", \"HBA\", \"MW\", \"LogP\"]\n",
    "    \n",
    "    data_stats = []\n",
    "    \n",
    "    for i in properties:\n",
    "        std = data_df[i].std()\n",
    "        mean = data_df[i].mean()\n",
    "        da = pd.DataFrame([[round(mean, 2), round(std, 2)]], index=[i], columns=[\"mean\", \"std\"])\n",
    "        data_stats.append(da)\n",
    "    \n",
    "    data_stats = pd.concat(data_stats)\n",
    "    \n",
    "    return data_stats"
   ]
  },
  {
   "cell_type": "markdown",
   "metadata": {},
   "source": [
    "We calculate the statistic for the dataset of compounds compliant with Lipinski's rule of five (filtered dataset)."
   ]
  },
  {
   "cell_type": "code",
   "execution_count": 16,
   "metadata": {},
   "outputs": [
    {
     "ename": "NameError",
     "evalue": "name 'filtered_df' is not defined",
     "output_type": "error",
     "traceback": [
      "\u001b[0;31m---------------------------------------------------------------------------\u001b[0m",
      "\u001b[0;31mNameError\u001b[0m                                 Traceback (most recent call last)",
      "\u001b[0;32m<ipython-input-16-8d457880185e>\u001b[0m in \u001b[0;36m<module>\u001b[0;34m\u001b[0m\n\u001b[0;32m----> 1\u001b[0;31m \u001b[0mstats_rof\u001b[0m \u001b[0;34m=\u001b[0m \u001b[0mget_properties_stats\u001b[0m\u001b[0;34m(\u001b[0m\u001b[0mfiltered_df\u001b[0m\u001b[0;34m)\u001b[0m\u001b[0;34m\u001b[0m\u001b[0;34m\u001b[0m\u001b[0m\n\u001b[0m\u001b[1;32m      2\u001b[0m \u001b[0mstats_rof\u001b[0m\u001b[0;34m\u001b[0m\u001b[0;34m\u001b[0m\u001b[0m\n",
      "\u001b[0;31mNameError\u001b[0m: name 'filtered_df' is not defined"
     ]
    }
   ],
   "source": [
    "stats_rof = get_properties_stats(filtered_df)\n",
    "stats_rof"
   ]
  },
  {
   "cell_type": "markdown",
   "metadata": {},
   "source": [
    "We calculate the statistic for the dataset of compounds NOT compliant with Lipinski's rule of five."
   ]
  },
  {
   "cell_type": "code",
   "execution_count": null,
   "metadata": {
    "scrolled": true
   },
   "outputs": [],
   "source": [
    "stats_not_rof = get_properties_stats(ChEMBL_df[ChEMBL_df['rule_of_five_conform']=='no'])\n",
    "stats_not_rof"
   ]
  },
  {
   "cell_type": "markdown",
   "metadata": {},
   "source": [
    "We create a function to visualize the compound properties with a radar chart. For this, we follow a [tutorial on stackoverflow](https://stackoverflow.com/questions/42227409/tutorial-for-python-radar-chart-plot)."
   ]
  },
  {
   "cell_type": "code",
   "execution_count": null,
   "metadata": {},
   "outputs": [],
   "source": [
    "def plot_radarplot(data_stats, output_path):\n",
    "    \"\"\"\n",
    "    Function that plots a radar plot based on the mean and std of 4 physicochemical properties (HBD, HBA, MW and LogP).\n",
    "    \n",
    "    Input: \n",
    "    Dataframe with mean and std (columns) for each physicochemical property (rows).\n",
    "    \n",
    "    Output:\n",
    "    Radar plot (saved as file and shown in Jupyter notebook).\n",
    "    \"\"\"\n",
    "\n",
    "    # Get data points for lines\n",
    "    std_1 = [data_stats[\"mean\"][\"HBD\"] + data_stats[\"std\"][\"HBD\"], \n",
    "             (data_stats[\"mean\"][\"HBA\"]/2) + (data_stats[\"std\"][\"HBA\"]/2), \n",
    "             (data_stats[\"mean\"][\"MW\"]/100) + (data_stats[\"std\"][\"MW\"]/100), \n",
    "             data_stats[\"mean\"][\"LogP\"] + data_stats[\"std\"][\"LogP\"]]\n",
    "    std_2 = [data_stats[\"mean\"][\"HBD\"] - data_stats[\"std\"][\"HBD\"], \n",
    "             (data_stats[\"mean\"][\"HBA\"]/2) - (data_stats[\"std\"][\"HBA\"]/2), \n",
    "             (data_stats[\"mean\"][\"MW\"]/100) - (data_stats[\"std\"][\"MW\"]/100), \n",
    "             data_stats[\"mean\"][\"LogP\"] - data_stats[\"std\"][\"LogP\"]]\n",
    "    mean_val = [data_stats[\"mean\"][\"HBD\"], (data_stats[\"mean\"][\"HBA\"]/2), \n",
    "                (data_stats[\"mean\"][\"MW\"]/100), data_stats[\"mean\"][\"LogP\"]]\n",
    "\n",
    "    # Get data points for (filled) area (rule of five)\n",
    "    rule_conditions = [5, (10/2), (500/100), 5]\n",
    "    \n",
    "    # Define property names\n",
    "    parameters = ['# H-bond donors', '# H-bond acceptors/2', 'Molecular weight (Da)/100', 'LogP']\n",
    "\n",
    "    # \n",
    "    N = len(rule_conditions)\n",
    "\n",
    "    # Set font size\n",
    "    fontsize = 16\n",
    "\n",
    "    # Angles for the condition axes\n",
    "    x_as = [n / float(N) * 2 * pi for n in range(N)]\n",
    "\n",
    "    # Since our chart will be circular we need to append a copy of the first\n",
    "    # Value of each list at the end of each list with data\n",
    "    std_1 += std_1[:1]\n",
    "    std_2 += std_2[:1]\n",
    "    mean_val += mean_val[:1]\n",
    "    rule_conditions += rule_conditions[:1]\n",
    "    x_as += x_as[:1]\n",
    "\n",
    "    # Set figure size\n",
    "    plt.figure(figsize=(8,8))\n",
    "\n",
    "    # Set color of axes\n",
    "    plt.rc('axes', linewidth=2, edgecolor=\"#888888\")\n",
    "\n",
    "    # Create polar plot\n",
    "    ax = plt.subplot(111, polar=True)\n",
    "\n",
    "    # Set clockwise rotation. That is:\n",
    "    ax.set_theta_offset(pi / 2)\n",
    "    ax.set_theta_direction(-1)\n",
    "\n",
    "    # Set position of y-labels\n",
    "    ax.set_rlabel_position(0)\n",
    "\n",
    "    # Set color and linestyle of grid\n",
    "    ax.xaxis.grid(True, color=\"#888888\", linestyle='solid', linewidth=2)\n",
    "    ax.yaxis.grid(True, color=\"#888888\", linestyle='solid', linewidth=2)\n",
    "\n",
    "    # Set number of radial axes and remove labels\n",
    "    plt.xticks(x_as[:-1], [])\n",
    "\n",
    "    # Set yticks\n",
    "    plt.yticks([1, 3, 5, 7], [\"1\", \"3\", \"5\", \"7\"], size=fontsize)\n",
    "\n",
    "    # Set axes limits\n",
    "    plt.ylim(0, 7)\n",
    "\n",
    "    # Plot data\n",
    "    # Mean values\n",
    "    ax.plot(x_as, mean_val, 'b', linewidth=3, linestyle='solid', zorder=3)\n",
    "\n",
    "    # Standard deviation\n",
    "    ax.plot(x_as, std_1, 'm', linewidth=2, linestyle='dashed', zorder=3, color='#111111')\n",
    "    ax.plot(x_as, std_2, 'y', linewidth=2, linestyle='dashed', zorder=3, color='#333333')\n",
    "\n",
    "    # Fill area\n",
    "    ax.fill(x_as, rule_conditions, \"#3465a4\", alpha=0.2)\n",
    "\n",
    "    # Draw ytick labels to make sure they fit properly\n",
    "    for i in range(N):\n",
    "        angle_rad = i / float(N) * 2 * pi\n",
    "        if angle_rad == 0:\n",
    "            ha, distance_ax = \"center\", 1\n",
    "        elif 0 < angle_rad < pi:\n",
    "            ha, distance_ax = \"left\", 1\n",
    "        elif angle_rad == pi:\n",
    "            ha, distance_ax = \"center\", 1\n",
    "        else:\n",
    "            ha, distance_ax = \"right\", 1\n",
    "        ax.text(angle_rad, 7 + distance_ax, parameters[i], size=fontsize,\n",
    "                horizontalalignment=ha, verticalalignment=\"center\")\n",
    "\n",
    "    # Add legend relative to top-left plot    \n",
    "        labels = ('Mean', 'Mean + std', 'Mean - std', 'Rule of five area')\n",
    "        legend = ax.legend(labels, loc=(1.1, .7),\n",
    "                           labelspacing=0.3, fontsize=fontsize)\n",
    "    plt.tight_layout()\n",
    "\n",
    "    # Save plot - use bbox_inches to include text boxes:\n",
    "    # https://stackoverflow.com/questions/44642082/text-or-legend-cut-from-matplotlib-figure-on-savefig?rq=1\n",
    "    plt.savefig(output_path, dpi=300, bbox_inches=\"tight\", transparent=True)\n",
    "\n",
    "    # Show polar plot\n",
    "    plt.show()"
   ]
  },
  {
   "cell_type": "markdown",
   "metadata": {},
   "source": [
    "First, we plot the dataset filtered by the rule of five."
   ]
  },
  {
   "cell_type": "code",
   "execution_count": null,
   "metadata": {},
   "outputs": [],
   "source": [
    "plot_radarplot(stats_rof, \"data/radarplot_rof.png\")"
   ]
  },
  {
   "cell_type": "markdown",
   "metadata": {},
   "source": [
    "In the above created radar chart, the blue square shows the area where the physicochemical properties are within the rule of five. The blue line connects the mean values of our filtered dataset, while the dashed lines show the standard deviations. We can see that the mean values never violate any of Lipinski's rules. However, according to the standard deviation, some properties are still larger. This is acceptable; we have to keep in mind that one of the four property's rules may be violated.\n",
    "\n",
    "Second, we take a look at the compounds that violate the rule of five."
   ]
  },
  {
   "cell_type": "code",
   "execution_count": null,
   "metadata": {},
   "outputs": [],
   "source": [
    "plot_radarplot(stats_not_rof, \"data/radarplot_not_rof.png\")"
   ]
  },
  {
   "cell_type": "markdown",
   "metadata": {},
   "source": [
    "We see that compounds mostly violate the rule of five based on their logP value and their molecular weight."
   ]
  },
  {
   "cell_type": "markdown",
   "metadata": {},
   "source": [
    "## Discussion\n",
    "Lipinski's rule of five focuses on oral bioavailability. Drugs can also be administered via alternative routes, i.e. inhalation, skin penetration and injection. Be aware, that the rule of five is a guide for estimation of oral bioavailability, there are exceptions in both ways. With bioavailability, we have looked at one of several ADME properties. \n",
    "\n",
    "There are webservers/programmes available to get a whole picture of ADME properties, e.g. [SwissADME](http://www.swissadme.ch/)."
   ]
  },
  {
   "cell_type": "markdown",
   "metadata": {},
   "source": [
    "## Quiz\n",
    "* In what way can the chemical properties described by the rule of five affect ADME?\n",
    "* Find or design a molecule which violates three or four rules. \n",
    "* How can you plot information of an additional molecule in the above created radar chart?"
   ]
  }
 ],
 "metadata": {
  "kernelspec": {
   "display_name": "Python 3",
   "language": "python",
   "name": "python3"
  },
  "language_info": {
   "codemirror_mode": {
    "name": "ipython",
    "version": 3
   },
   "file_extension": ".py",
   "mimetype": "text/x-python",
   "name": "python",
   "nbconvert_exporter": "python",
   "pygments_lexer": "ipython3",
   "version": "3.8.5"
  }
 },
 "nbformat": 4,
 "nbformat_minor": 4
}
