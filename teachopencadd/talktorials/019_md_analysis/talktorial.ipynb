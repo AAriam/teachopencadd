{
 "cells": [
  {
   "cell_type": "markdown",
   "metadata": {},
   "source": [
    "# Analyzing Molecular Dynamics Simulations\n",
    "\n",
    "Developed in CADD Seminar 2020, AG Volkamer, Charité/FU Berlin \n",
    "\n",
    "Authors:\n",
    "- Mareike Leja\n",
    "- David Schaller\n",
    "\n",
    "Berlin, 21.05.2020"
   ]
  },
  {
   "cell_type": "markdown",
   "metadata": {},
   "source": [
    "__Talktorial T19__"
   ]
  },
  {
   "cell_type": "markdown",
   "metadata": {},
   "source": [
    "## Aim of this talktorial\n",
    "\n",
    "The aim of this notebook is to introduce methods for the analysis of MD Simulations. We are working with the results of the MD Simulation performed in T018 on the SARS-CoV-2 Main Protease and its inhibitor X77.\n",
    "The introduced methods include animated visualization, RMSD calculation and hydrogenbond analysis."
   ]
  },
  {
   "cell_type": "markdown",
   "metadata": {},
   "source": [
    "### Contents in Theory\n",
    "\n",
    "* MD Simulations in the drug discovery process\n",
    "* Analyzing MD Simulations\n",
    "    * RMSD\n",
    "    * Hydrogen Bonds Analysis"
   ]
  },
  {
   "cell_type": "markdown",
   "metadata": {},
   "source": [
    "### Contents in Practical\n",
    "\n",
    "* Load the MD Simulation\n",
    "* Visualize the Simulation with NGL View\n",
    "* Analysis of the MD Simulation\n",
    "    * Plot RMSD of Protein and Ligand\n",
    "    * Plot Hydrogen Bond Distances between Protein and Ligand"
   ]
  },
  {
   "cell_type": "markdown",
   "metadata": {},
   "source": [
    "### References\n",
    "\n",
    "Theoretical Background:\n",
    "\n",
    "* Molecular Dynamics:\n",
    "    * __[Role of Molecular Dynamics and Related Methods in Drug Discovery](https://pubmed.ncbi.nlm.nih.gov/26807648/)__\n",
    "    * __[Force Fields](https://pubs.acs.org/doi/10.1021/acs.jcim.8b00042)__\n",
    "* RMSD\n",
    "    * __[Wikipedia](https://en.wikipedia.org/wiki/Root-mean-square_deviation)__\n",
    "* Hydrogen - Bonds\n",
    "    * __[Optimized Hydrophobic Interactions and Hydrogen Bonding at the Target-Ligand Interface Leads the Pathways of Drug-Designing](https://www.ncbi.nlm.nih.gov/pmc/articles/PMC2922327/)__\n",
    "    * __[The Role of Hydrogen-Bonds in Drug Binding](https://pubmed.ncbi.nlm.nih.gov/2726808/)__\n",
    "\n",
    "\n",
    "Special Packages used:\n",
    "\n",
    "* __[MDAnalysis](https://www.mdanalysis.org/)__\n",
    "* __[NGL View](https://github.com/arose/nglview)__"
   ]
  },
  {
   "cell_type": "markdown",
   "metadata": {},
   "source": [
    "## Theory"
   ]
  },
  {
   "cell_type": "markdown",
   "metadata": {},
   "source": [
    "### MD Simulations in the Drug Discovery Process\n",
    "\n",
    "During the past decade the importance of structure-based drug design was ever growing. Especially the development of better algorithms and faster architectures paved the way for Molecular Dynamics (MD) to becoming routine computational tools for drug discovery. \n",
    "\n",
    "The main advantage is the more accurate estimation of drug-target recognition and binding processes. An array of methods build on MD Simulations provide tool for most problems encountered during the challenging process of designing, selecting and optimizing new drug candidates."
   ]
  },
  {
   "cell_type": "markdown",
   "metadata": {},
   "source": [
    "### MD Simulations vs Static Structures\n",
    "\n",
    "Static models also evaluate the affinity a drug candidate has to the target, but static calculations alone are not enough to to comprehensively characterize drug-target binding. The numerous interactions between ligand, target and surroundings cannot be captured solely by the enthalpy of the current equilibrium state of the system.\n",
    "\n",
    "Forcefield-based MD Simulations on the other hand fully account for structural flexibility and entropic effects. \n",
    "They allow for modeling of induced-fit bindings and conformational selection and can even be used to run unbiased simulations with unsupervised ligand-target binding."
   ]
  },
  {
   "cell_type": "markdown",
   "metadata": {},
   "source": [
    "### Coupled Methods for Investigating Ligand Binding\n",
    "\n",
    "While being a straightforward way of simulating drug-binding events, unbiased MD is costly. Thus it is often coupled with so-called enhanced sampling methods to accelerate the process.\n",
    "\n",
    "One of these is the **Free energy perturbation (FEP)**, which computes the free energy difference when going from a state A to another state B.  It is used for studying binding energetics and is applied in the virtual screening of ligands during the drug discovery process. Furthermore, it is employed in lead optimization being especially good at predicting small modification, that will boost the ligand-binding affinity for the target. One successful example for this optimization is the design of the most potent non-nucleoside inhibitors of HIV-1 reverse transcriptase.\n",
    "\n",
    "Another technique for free-energy calculations is **Umbrella sampling (US)**. US enforces sampling along a collective variable (CV) by performing staged simulations with an energetic bias. The bias usually takes the form of a harmonic potential, hence the term \"umbrella\". The goal is to sample high-energy regions along the CV.\n",
    "The use in drug design is limited by the high computational cost.\n",
    "\n",
    "**Steered MD (SMD)**  on the other hand follows a different approach: it applies external forces to the system. Those forces are time-dependent and facilitate the unbinding of the ligand from the target.\n",
    "The SMD calculates the final force exerted on the system. The unbinding force profile can then be used to improve docking and discriminate active and inactive binders.\n",
    "\n",
    "Lastly, a broad family of enhanced sampling techniques is cumulated in the term of **Metadynamics-Based Methods**. Those aim to explore the free-energy landscapes of rare events. For this purpose a set of CVs is used, that approximate the true reaction coordinate of the event.\n",
    "Metdaynamics demonstrates a high ability to characterize binding and unbinding paths, to treat conformation flexibility,and to compute free-energy profiles and thus is able to accurately compute the entire physical path of protein−ligand binding and/or unbinding. Nevertheless, for calculations of relative free energy concerning a set of compounds in binding poses other methods like FEP are often more efficient."
   ]
  },
  {
   "cell_type": "markdown",
   "metadata": {},
   "source": [
    "### Analyzing MD Simulations\n",
    "\n",
    "An MD Simulation is defined by a list of atoms and a file with trajectories, which describe the movement of the atoms for up to a few milliseconds. This allows for exploration of different aspects. "
   ]
  },
  {
   "cell_type": "markdown",
   "metadata": {},
   "source": [
    "#### Visualization\n",
    "\n",
    "The MD Simulation can be used to create an animated 3D model of the molecules. These allow for observation of conformational changes, fluctuations and binding processes with the bare eye.\n",
    "\n",
    "![Model](images/model.gif)\n",
    "Fig. 1: Visualization of MD Simulation of AdK, [NGL View Example](https://github.com/arose/nglview/blob/master/examples/mdanalysis.md)"
   ]
  },
  {
   "cell_type": "markdown",
   "metadata": {},
   "source": [
    "#### RMSD\n",
    "\n",
    "RMSD stands for Root-mean-square deviation of atomic positions and is a measure of the average distance between atoms. Particularly, the distance between two sets of coordinates is calculated. \n",
    "One use of RMSD Plots is to depict the relative movement of whole molecules or its domains during folding or docking processes. \n",
    "During the process the coordinates of the moving molecule are compared to the starting positions.\n",
    "RMSD can also be used to compare computed docking configurations to known (i.e. crystallographic) binding poses to validate the docking protocol.\n",
    "\n",
    "For two, usually superimposed, sets of coordinates v and w with n atoms the RMSD is defined as follows:\n",
    "\n",
    "$$RMSD(v,w) = \\frac{1}{n} \\sum_{i=1}^n \\|v_i - w_i\\|²$$\n",
    "\n",
    "For random movements of stable structures the root-mean-square fluctuation (RMSF) is used instead."
   ]
  },
  {
   "cell_type": "markdown",
   "metadata": {},
   "source": [
    "#### Hydrogen Bond Analysis\n",
    "\n",
    "Non-covalent hydrogen bonds are key-players in the bonding and stabilization of proteins and ligands. \n",
    "Analysis of hydrogen bonds in the computed binding can thus give valuable information about the stability of the structure.\n",
    "The strength of H-Bonds is determined by the angle and the distance between the donor and acceptor atoms. \n",
    "A small distance and an angle close to 180° are signs for a strong bond, while bigger distances and smaller angles point towards a weaker bond.\n",
    "![H-Bonds](images/CADD_Hbonds.png)\n",
    "Fig. 2: Hydrogen Bond Strength, *Mareike Leja, CADD Seminar 2020*\n",
    "\n",
    "For hydrogen bond detection in computational analysis, geometric criteria define which interactions are recorded as bonds: The distance between acceptor and hydrogen has to be less than or equal to a distance threshold and \n",
    "the angle between donor-hydrogen-acceptor has to be greater than or equal to an angle threshold.\n",
    "For example, the Python Package __[MD Analysis](https://www.mdanalysis.org/docs/documentation_pages/analysis/hbond_analysis.html)__, which we will use for analysis, sets the default maximum distance at 3Å and the minimum angle at 120°. "
   ]
  },
  {
   "cell_type": "markdown",
   "metadata": {},
   "source": [
    "## Practical\n",
    "\n",
    "\n",
    "In the following we will load a MD Simulation and analyze the ligand binding process. \n",
    "The MD Simulation we analyze was done in Project T09 with a SARS-CoV-2 main protease and inhibitor X77.\n",
    "We will visualize the simulation and then perform a RMSD calculation and hydrogen bond analysis. "
   ]
  },
  {
   "cell_type": "markdown",
   "metadata": {},
   "source": [
    "The data can be downloaded from https://zenodo.org/record/3910753.\n",
    "\n",
    "Before we start we have to import the needed modules."
   ]
  },
  {
   "cell_type": "code",
   "execution_count": 1,
   "metadata": {},
   "outputs": [
    {
     "data": {
      "application/vnd.jupyter.widget-view+json": {
       "model_id": "d317b5fb718546f18cb2855d3ee96a41",
       "version_major": 2,
       "version_minor": 0
      },
      "text/plain": []
     },
     "metadata": {},
     "output_type": "display_data"
    }
   ],
   "source": [
    "from pathlib import Path\n",
    "import MDAnalysis as mda\n",
    "from MDAnalysis.analysis import rms\n",
    "from MDAnalysis.analysis import diffusionmap, align\n",
    "from MDAnalysis.analysis.hydrogenbonds.hbond_analysis import HydrogenBondAnalysis as HBA\n",
    "import nglview as nv\n",
    "import matplotlib.pyplot as plt\n",
    "import pandas as pd\n",
    "import numpy as np"
   ]
  },
  {
   "cell_type": "code",
   "execution_count": 2,
   "metadata": {},
   "outputs": [],
   "source": [
    "HERE = Path(_dh[-1])\n",
    "DATA = HERE / \"data\""
   ]
  },
  {
   "cell_type": "markdown",
   "metadata": {},
   "source": [
    "### Load and Visualize the Molecule\n",
    "\n",
    "As the first step we load the topology and the trajectory file to create a universe representing the simulation."
   ]
  },
  {
   "cell_type": "markdown",
   "metadata": {},
   "source": [
    "When we have the universe we can visualize it as a whole, including the animation.\n"
   ]
  },
  {
   "cell_type": "code",
   "execution_count": 3,
   "metadata": {},
   "outputs": [
    {
     "data": {
      "application/vnd.jupyter.widget-view+json": {
       "model_id": "533976215f6740d494262d0c12087a5f",
       "version_major": 2,
       "version_minor": 0
      },
      "text/plain": [
       "NGLWidget(max_frame=9)"
      ]
     },
     "metadata": {},
     "output_type": "display_data"
    }
   ],
   "source": [
    "u = mda.Universe(str(Path(DATA / \"topology.pdb\")), str(Path(DATA / \"trajectory.xtc\")))\n",
    "view = nv.show_mdanalysis(u)\n",
    "view"
   ]
  },
  {
   "cell_type": "markdown",
   "metadata": {},
   "source": [
    "### RMSD of Protein and Ligand\n",
    "\n",
    "Protein and ligand are clearly extinguishable in the animation. Both undergo some conformational changes during the binding process.\n",
    "In this part we will evaluate the relative movement using the RMSD.\n",
    "The MD Analysis framework allows for selection of atom groups with strings and has some built-in default strings as well, for example \"protein\", which selects all residues usually found in proteins.\n",
    "The ligand is best selected by its distinct residue name. In this case we know it is the inhibitor X77, but we could also find the name from either inspecting the topology file or hovering a ligand atom in the animation above. The atoms of our ligand are identified by the residue name \"X77\"."
   ]
  },
  {
   "cell_type": "code",
   "execution_count": 12,
   "metadata": {},
   "outputs": [],
   "source": [
    "ligand_name = \"03P\""
   ]
  },
  {
   "cell_type": "markdown",
   "metadata": {},
   "source": [
    "#### RMSD over time\n",
    "\n",
    "For plotting the RMSD easily we write a function that does the RMSD calculation for selected atomgroups from the universe. It returns a plotable Pandas Dataframe."
   ]
  },
  {
   "cell_type": "code",
   "execution_count": 4,
   "metadata": {},
   "outputs": [],
   "source": [
    "def rmsd_for_atomgroups(universe, selection1, selection2=None):\n",
    "    \"\"\" Calulate the RMSD for selected atomgroups.\n",
    "\n",
    "    Parameters\n",
    "    ----------\n",
    "    universe : MDAnalysis.core.universe.Universe\n",
    "    selection1: str\n",
    "        selection string for main atomgroup\n",
    "    selection2: list of str, optional\n",
    "        selection strings for secondary atomgroups\n",
    "\n",
    "    Returns\n",
    "    -------\n",
    "    rmsd_df : pandas.core.frame.DataFrame\n",
    "        DataFrame containing RMSD of the selections over time\n",
    "\n",
    "    \"\"\"\n",
    "    universe.trajectory[0]\n",
    "    ref = universe\n",
    "    rmsd_analysis = rms.RMSD(universe, ref,\n",
    "                             select=selection1, groupselections=selection2)\n",
    "    rmsd_analysis.run()\n",
    "    columns = [selection1, *selection2] if selection2 else [selection1]\n",
    "    rmsd_df = pd.DataFrame(rmsd_analysis.rmsd[:, 2:],\n",
    "                           columns=columns)\n",
    "    rmsd_df.index.name = \"frame\"\n",
    "    return rmsd_df"
   ]
  },
  {
   "cell_type": "markdown",
   "metadata": {},
   "source": [
    "Run the function to with selections for the whole protein, the protein backbone atoms and the ligand (residuename X77) to calculate the RMSD for the molecules during the interaction. During the calculation the molecule will be superimposed to the first frame along the backbone of the protein."
   ]
  },
  {
   "cell_type": "code",
   "execution_count": 13,
   "metadata": {},
   "outputs": [
    {
     "data": {
      "text/html": [
       "<div>\n",
       "<style scoped>\n",
       "    .dataframe tbody tr th:only-of-type {\n",
       "        vertical-align: middle;\n",
       "    }\n",
       "\n",
       "    .dataframe tbody tr th {\n",
       "        vertical-align: top;\n",
       "    }\n",
       "\n",
       "    .dataframe thead th {\n",
       "        text-align: right;\n",
       "    }\n",
       "</style>\n",
       "<table border=\"1\" class=\"dataframe\">\n",
       "  <thead>\n",
       "    <tr style=\"text-align: right;\">\n",
       "      <th></th>\n",
       "      <th>backbone</th>\n",
       "      <th>protein</th>\n",
       "      <th>resname 03P</th>\n",
       "    </tr>\n",
       "    <tr>\n",
       "      <th>frame</th>\n",
       "      <th></th>\n",
       "      <th></th>\n",
       "      <th></th>\n",
       "    </tr>\n",
       "  </thead>\n",
       "  <tbody>\n",
       "    <tr>\n",
       "      <th>0</th>\n",
       "      <td>0.000001</td>\n",
       "      <td>7.961067e-09</td>\n",
       "      <td>0.000000</td>\n",
       "    </tr>\n",
       "    <tr>\n",
       "      <th>1</th>\n",
       "      <td>0.762378</td>\n",
       "      <td>9.949736e-01</td>\n",
       "      <td>1.330921</td>\n",
       "    </tr>\n",
       "    <tr>\n",
       "      <th>2</th>\n",
       "      <td>0.857795</td>\n",
       "      <td>1.134732e+00</td>\n",
       "      <td>1.335238</td>\n",
       "    </tr>\n",
       "    <tr>\n",
       "      <th>3</th>\n",
       "      <td>0.888943</td>\n",
       "      <td>1.275056e+00</td>\n",
       "      <td>1.565761</td>\n",
       "    </tr>\n",
       "    <tr>\n",
       "      <th>4</th>\n",
       "      <td>0.919951</td>\n",
       "      <td>1.280488e+00</td>\n",
       "      <td>1.652524</td>\n",
       "    </tr>\n",
       "  </tbody>\n",
       "</table>\n",
       "</div>"
      ],
      "text/plain": [
       "       backbone       protein  resname 03P\n",
       "frame                                     \n",
       "0      0.000001  7.961067e-09     0.000000\n",
       "1      0.762378  9.949736e-01     1.330921\n",
       "2      0.857795  1.134732e+00     1.335238\n",
       "3      0.888943  1.275056e+00     1.565761\n",
       "4      0.919951  1.280488e+00     1.652524"
      ]
     },
     "execution_count": 13,
     "metadata": {},
     "output_type": "execute_result"
    }
   ],
   "source": [
    "rmsd = rmsd_for_atomgroups(u, \"backbone\", [\"protein\", \"resname \" + ligand_name])\n",
    "rmsd.head()"
   ]
  },
  {
   "cell_type": "markdown",
   "metadata": {},
   "source": [
    "If needed, we can change the column names to be more concise. \n",
    "Then we plot the results."
   ]
  },
  {
   "cell_type": "code",
   "execution_count": 10,
   "metadata": {},
   "outputs": [
    {
     "data": {
      "image/png": "[encoded data removed]",
      "text/plain": [
       "<Figure size 432x288 with 1 Axes>"
      ]
     },
     "metadata": {
      "needs_background": "light"
     },
     "output_type": "display_data"
    }
   ],
   "source": [
    "rmsd.columns = [\"Backbone\", \"Protein\", \"Ligand\"]\n",
    "rmsd.plot(title=\"RMSD of protein and ligand\")\n",
    "plt.ylabel(\"RMSD (Å)\");"
   ]
  },
  {
   "cell_type": "markdown",
   "metadata": {},
   "source": [
    "The protein is superimposed along the backbone and thus there are only slight conformational changes during the reaction. The sidechains included in the whole protein lead to more movement when compared to the protein backbone.\n",
    "The ligand however can move more freely and additionally to any conformational changes there might be directional movement involved, which is more likely the case if the RMSD values for the ligand are exceptionally high."
   ]
  },
  {
   "cell_type": "markdown",
   "metadata": {},
   "source": [
    "#### RMSD between frames"
   ]
  },
  {
   "cell_type": "markdown",
   "metadata": {},
   "source": [
    "The plot before showed the distance at the given time compared to the initial state.\n",
    "Now we calculate the differences between the frames and visualize them in a heatmap."
   ]
  },
  {
   "cell_type": "code",
   "execution_count": 7,
   "metadata": {},
   "outputs": [],
   "source": [
    "def RMSD_dist_frames(u, selection_string):\n",
    "    \"\"\" Calculate the distance between frames using RMSD.\n",
    "\n",
    "    Parameters\n",
    "    ----------\n",
    "    universe : MDAnalysis.core.universe.Universe\n",
    "    selection1: str\n",
    "        selection string for the atomgroup to be investigated\n",
    "\n",
    "    Returns\n",
    "    -------\n",
    "    array\n",
    "        distance values\n",
    "\n",
    "    \"\"\"\n",
    "    align.AlignTraj(u, u, select=selection_string,\n",
    "                    in_memory=True).run()\n",
    "    matrix = diffusionmap.DistanceMatrix(u, select=selection_string).run()\n",
    "\n",
    "    return matrix.dist_matrix"
   ]
  },
  {
   "cell_type": "markdown",
   "metadata": {},
   "source": [
    "First, we calculate the distance matrices for protein and ligand using the function above.\n",
    "Then we plot them side by side as heatmaps."
   ]
  },
  {
   "cell_type": "code",
   "execution_count": 14,
   "metadata": {},
   "outputs": [],
   "source": [
    "dist_matrix_p = RMSD_dist_frames(u, \"protein\")\n",
    "dist_matrix_np = RMSD_dist_frames(u, \"resname \" + ligand_name)"
   ]
  },
  {
   "cell_type": "markdown",
   "metadata": {},
   "source": [
    "In order to achieve comparable heatmaps it is important to set minimal and maximal values to the same values in both plots. We set the minimal value to 0 and derive the upper bound from the distance matrices."
   ]
  },
  {
   "cell_type": "code",
   "execution_count": null,
   "metadata": {},
   "outputs": [],
   "source": [
    "fig, ax = plt.subplots(1, 2)\n",
    "fig.suptitle(\"RMSD between the frames\")\n",
    "max_dist = max(np.amax(dist_matrix_np), np.amax(dist_matrix_p))\n",
    "img1 = ax[0].imshow(dist_matrix_p, cmap=\"viridis\", vmin=0, vmax=max_dist)\n",
    "ax[0].title.set_text(\"protein\")\n",
    "ax[0].set_xlabel(\"frames\")\n",
    "ax[0].set_ylabel(\"frames\")\n",
    "img2 = ax[1].imshow(dist_matrix_np, cmap=\"viridis\", vmin=0, vmax=max_dist)\n",
    "ax[1].title.set_text(\"Ligand\")\n",
    "ax[1].set_xlabel(\"frames\")\n",
    "fig.colorbar(img1, ax=ax, orientation=\"horizontal\", fraction=.1, label=\"RMSD (Å)\")"
   ]
  },
  {
   "cell_type": "markdown",
   "metadata": {},
   "source": [
    "From the heatmaps we can conclude that the protein moves constantly and evenly between the states. The ligand, however, reaches similar conformations repeatedly."
   ]
  },
  {
   "cell_type": "markdown",
   "metadata": {},
   "source": [
    "### Hydrogen Bond analysis\n",
    "\n",
    "Now we will look at the interaction between protein and ligand. Therefore we want to analyze the hydrogen bonds that form during the process."
   ]
  },
  {
   "cell_type": "markdown",
   "metadata": {},
   "source": [
    "MD Analysis is able to guess possible acceptors and donors for proteins but not the ligand.\n",
    "Thus we have to determine them manually. To do this we visualize the ligand and note down any O, N or S atoms that may serve as donor or acceptor. We can get their respective ID by hovering over the atom in the image."
   ]
  },
  {
   "cell_type": "code",
   "execution_count": 15,
   "metadata": {},
   "outputs": [
    {
     "data": {
      "application/vnd.jupyter.widget-view+json": {
       "model_id": "6a99cd4865e544e5948373db9539030b",
       "version_major": 2,
       "version_minor": 0
      },
      "text/plain": [
       "NGLWidget(max_frame=9)"
      ]
     },
     "metadata": {},
     "output_type": "display_data"
    }
   ],
   "source": [
    "t = nv.MDAnalysisTrajectory(u)\n",
    "w = nv.NGLWidget(t)\n",
    "w"
   ]
  },
  {
   "cell_type": "code",
   "execution_count": 16,
   "metadata": {},
   "outputs": [],
   "source": [
    "pocket_resids = set(u.select_atoms(\"(around 5 resname \" + ligand_name + \") and protein\").resids)\n",
    "w.add_representation(\"licorice\", selection=f\"protein and ({' '.join([str(x) for x in pocket_resids])})\")"
   ]
  },
  {
   "cell_type": "markdown",
   "metadata": {},
   "source": [
    "After this we run the the H-Bond Analysis adding our determined donor and acceptor atoms to the list."
   ]
  },
  {
   "cell_type": "code",
   "execution_count": 112,
   "metadata": {},
   "outputs": [
    {
     "data": {
      "text/html": [
       "<div>\n",
       "<style scoped>\n",
       "    .dataframe tbody tr th:only-of-type {\n",
       "        vertical-align: middle;\n",
       "    }\n",
       "\n",
       "    .dataframe tbody tr th {\n",
       "        vertical-align: top;\n",
       "    }\n",
       "\n",
       "    .dataframe thead th {\n",
       "        text-align: right;\n",
       "    }\n",
       "</style>\n",
       "<table border=\"1\" class=\"dataframe\">\n",
       "  <thead>\n",
       "    <tr style=\"text-align: right;\">\n",
       "      <th></th>\n",
       "      <th>frame</th>\n",
       "      <th>donor index</th>\n",
       "      <th>hydrogen index</th>\n",
       "      <th>acceptor index</th>\n",
       "      <th>distance</th>\n",
       "      <th>angle</th>\n",
       "    </tr>\n",
       "  </thead>\n",
       "  <tbody>\n",
       "    <tr>\n",
       "      <th>0</th>\n",
       "      <td>1.0</td>\n",
       "      <td>746.0</td>\n",
       "      <td>748.0</td>\n",
       "      <td>5531.0</td>\n",
       "      <td>2.991674</td>\n",
       "      <td>152.718985</td>\n",
       "    </tr>\n",
       "    <tr>\n",
       "      <th>1</th>\n",
       "      <td>4.0</td>\n",
       "      <td>746.0</td>\n",
       "      <td>748.0</td>\n",
       "      <td>5531.0</td>\n",
       "      <td>2.950579</td>\n",
       "      <td>160.351023</td>\n",
       "    </tr>\n",
       "    <tr>\n",
       "      <th>2</th>\n",
       "      <td>6.0</td>\n",
       "      <td>746.0</td>\n",
       "      <td>748.0</td>\n",
       "      <td>5531.0</td>\n",
       "      <td>2.742426</td>\n",
       "      <td>167.990994</td>\n",
       "    </tr>\n",
       "    <tr>\n",
       "      <th>3</th>\n",
       "      <td>7.0</td>\n",
       "      <td>746.0</td>\n",
       "      <td>748.0</td>\n",
       "      <td>5531.0</td>\n",
       "      <td>2.757136</td>\n",
       "      <td>165.923389</td>\n",
       "    </tr>\n",
       "    <tr>\n",
       "      <th>4</th>\n",
       "      <td>9.0</td>\n",
       "      <td>746.0</td>\n",
       "      <td>748.0</td>\n",
       "      <td>5531.0</td>\n",
       "      <td>2.610002</td>\n",
       "      <td>166.809667</td>\n",
       "    </tr>\n",
       "  </tbody>\n",
       "</table>\n",
       "</div>"
      ],
      "text/plain": [
       "   frame  donor index  hydrogen index  acceptor index  distance       angle\n",
       "0    1.0        746.0           748.0          5531.0  2.991674  152.718985\n",
       "1    4.0        746.0           748.0          5531.0  2.950579  160.351023\n",
       "2    6.0        746.0           748.0          5531.0  2.742426  167.990994\n",
       "3    7.0        746.0           748.0          5531.0  2.757136  165.923389\n",
       "4    9.0        746.0           748.0          5531.0  2.610002  166.809667"
      ]
     },
     "execution_count": 112,
     "metadata": {},
     "output_type": "execute_result"
    }
   ],
   "source": [
    "hbonds = HBA(universe=u,\n",
    "             hydrogens_sel=\"resid 745 and name HZ2\",\n",
    "             acceptors_sel=\"resname \" + ligand_name + \" and name O2\",\n",
    "             donors_sel=\"resid 745 and name NZ\",\n",
    "             d_h_cutoff=1.2)\n",
    "hbonds.run()\n",
    "bond = pd.DataFrame(hbonds.hbonds)\n",
    "bond.columns = [\"frame\", \"donor index\", \"hydrogen index\", \"acceptor index\", \"distance\", \"angle\"]\n",
    "bond"
   ]
  },
  {
   "cell_type": "code",
   "execution_count": 118,
   "metadata": {},
   "outputs": [
    {
     "data": {
      "text/html": [
       "<div>\n",
       "<style scoped>\n",
       "    .dataframe tbody tr th:only-of-type {\n",
       "        vertical-align: middle;\n",
       "    }\n",
       "\n",
       "    .dataframe tbody tr th {\n",
       "        vertical-align: top;\n",
       "    }\n",
       "\n",
       "    .dataframe thead th {\n",
       "        text-align: right;\n",
       "    }\n",
       "</style>\n",
       "<table border=\"1\" class=\"dataframe\">\n",
       "  <thead>\n",
       "    <tr style=\"text-align: right;\">\n",
       "      <th></th>\n",
       "      <th>donor index</th>\n",
       "      <th>hydrogen index</th>\n",
       "      <th>acceptor index</th>\n",
       "      <th>distance</th>\n",
       "      <th>angle</th>\n",
       "    </tr>\n",
       "    <tr>\n",
       "      <th>frame</th>\n",
       "      <th></th>\n",
       "      <th></th>\n",
       "      <th></th>\n",
       "      <th></th>\n",
       "      <th></th>\n",
       "    </tr>\n",
       "  </thead>\n",
       "  <tbody>\n",
       "    <tr>\n",
       "      <th>1.0</th>\n",
       "      <td>746.0</td>\n",
       "      <td>748.0</td>\n",
       "      <td>5531.0</td>\n",
       "      <td>2.991674</td>\n",
       "      <td>152.718985</td>\n",
       "    </tr>\n",
       "    <tr>\n",
       "      <th>4.0</th>\n",
       "      <td>746.0</td>\n",
       "      <td>748.0</td>\n",
       "      <td>5531.0</td>\n",
       "      <td>2.950579</td>\n",
       "      <td>160.351023</td>\n",
       "    </tr>\n",
       "    <tr>\n",
       "      <th>6.0</th>\n",
       "      <td>746.0</td>\n",
       "      <td>748.0</td>\n",
       "      <td>5531.0</td>\n",
       "      <td>2.742426</td>\n",
       "      <td>167.990994</td>\n",
       "    </tr>\n",
       "    <tr>\n",
       "      <th>7.0</th>\n",
       "      <td>746.0</td>\n",
       "      <td>748.0</td>\n",
       "      <td>5531.0</td>\n",
       "      <td>2.757136</td>\n",
       "      <td>165.923389</td>\n",
       "    </tr>\n",
       "    <tr>\n",
       "      <th>9.0</th>\n",
       "      <td>746.0</td>\n",
       "      <td>748.0</td>\n",
       "      <td>5531.0</td>\n",
       "      <td>2.610002</td>\n",
       "      <td>166.809667</td>\n",
       "    </tr>\n",
       "  </tbody>\n",
       "</table>\n",
       "</div>"
      ],
      "text/plain": [
       "       donor index  hydrogen index  acceptor index  distance       angle\n",
       "frame                                                                   \n",
       "1.0          746.0           748.0          5531.0  2.991674  152.718985\n",
       "4.0          746.0           748.0          5531.0  2.950579  160.351023\n",
       "6.0          746.0           748.0          5531.0  2.742426  167.990994\n",
       "7.0          746.0           748.0          5531.0  2.757136  165.923389\n",
       "9.0          746.0           748.0          5531.0  2.610002  166.809667"
      ]
     },
     "execution_count": 118,
     "metadata": {},
     "output_type": "execute_result"
    }
   ],
   "source": [
    "bond['frame'] = bond['frame'].astype(str)\n",
    "bond.set_index(\"frame\")"
   ]
  },
  {
   "cell_type": "code",
   "execution_count": 119,
   "metadata": {},
   "outputs": [
    {
     "data": {
      "image/png": "[encoded data removed]",
      "text/plain": [
       "<Figure size 432x288 with 2 Axes>"
      ]
     },
     "metadata": {
      "needs_background": "light"
     },
     "output_type": "display_data"
    }
   ],
   "source": [
    "fig = plt.figure()\n",
    "distance = bond.distance.plot(title=f'H-Bond between donor {bond[\"donor index\"][0]}'f' and acceptor {bond[\"acceptor index\"][0]}',\n",
    "                              style='o-')\n",
    "distance.set_ylabel('distance (Å)')\n",
    "distance.set_xlabel('frame')\n",
    "angle = bond.angle.plot(secondary_y=True, style='o-')\n",
    "angle.set_ylabel('angle (°)')\n",
    "angle.set_xlabel('frame')\n",
    "fig.legend(loc='upper right', bbox_to_anchor=(1, 1),\n",
    "           bbox_transform=distance.transAxes)\n",
    "plt.show()"
   ]
  },
  {
   "cell_type": "markdown",
   "metadata": {},
   "source": [
    "## Summary\n",
    "\n",
    "There are various ways to analyze MD Simulations and in this notebook we explored just a small spectrum. Nevertheless, we gained valuable insights into the binding process happening.\n",
    "\n",
    "Some methods are more straightforward, like the visualization of the molecule, while others require more finesse.\n",
    "Especially the hydrogen bond analysis is yet dependent on manual input and tweaking, but with further advancements in the field we can expect the frameworks to become more and more refined.\n",
    "In the end, all approaches contributed a piece towards understanding the complex interactions captured with the MD simulation.\n",
    "\n"
   ]
  }
 ],
 "metadata": {
  "kernelspec": {
   "display_name": "Python 3",
   "language": "python",
   "name": "python3"
  },
  "language_info": {
   "codemirror_mode": {
    "name": "ipython",
    "version": 3
   },
   "file_extension": ".py",
   "mimetype": "text/x-python",
   "name": "python",
   "nbconvert_exporter": "python",
   "pygments_lexer": "ipython3",
   "version": "3.6.10"
  }
 },
 "nbformat": 4,
 "nbformat_minor": 4
}
