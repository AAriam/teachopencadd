{
 "cells": [
  {
   "cell_type": "markdown",
   "metadata": {},
   "source": [
    "<div class=\"alert alert-block alert-info\">\n",
    "\n",
    "<b>Thank you for contributing to TeachOpenCADD!</b>\n",
    "\n",
    "</div>"
   ]
  },
  {
   "cell_type": "markdown",
   "metadata": {},
   "source": [
    "<div class=\"alert alert-block alert-info\">\n",
    "\n",
    "<b>Set up your PR</b>: Please check out our <a href=\"https://github.com/volkamerlab/teachopencadd/issues/41\">issue</a> on how to set up a PR for new talktorials, including standard checks and TODOs.\n",
    "\n",
    "</div>"
   ]
  },
  {
   "cell_type": "markdown",
   "metadata": {},
   "source": [
    "# T029 · Compound activity: Proteochemometrics\n",
    "\n",
    "**Note:** This talktorial is a part of TeachOpenCADD, a platform that aims to teach domain-specific skills and to provide pipeline templates as starting points for research projects.\n",
    "\n",
    "Authors:\n",
    "\n",
    "- Marina Gorostiola González, 2022, Computational Drug Discovery, Drug Discovery & Safety Leiden University (The Netherlands)\n",
    "- Olivier J.M. Béquignon, 2022, Computational Drug Discovery, Drug Discovery & Safety Leiden University (The Netherlands)\n",
    "- Willem Jespers, 2022, Computational Drug Discovery, Drug Discovery & Safety Leiden University (The Netherlands)"
   ]
  },
  {
   "cell_type": "markdown",
   "metadata": {},
   "source": [
    "*The examples used in this talktorial template are taken from [__Talktorial T001__](https://github.com/volkamerlab/teachopencadd/blob/master/teachopencadd/talktorials/T001_query_chembl/talktorial.ipynb) and [__Talktorial T002__](https://github.com/volkamerlab/teachopencadd/blob/master/teachopencadd/talktorials/T002_compound_adme/talktorial.ipynb).*"
   ]
  },
  {
   "cell_type": "markdown",
   "metadata": {},
   "source": [
    "<div class=\"alert alert-block alert-info\">\n",
    "\n",
    "<b>Cross-referencing talktorials</b>: If you want to cross-reference to existing talktorials in your notebook, please use the following formatting: <b>Talktorial T000</b>.\n",
    "\n",
    "</div>"
   ]
  },
  {
   "cell_type": "markdown",
   "metadata": {},
   "source": [
    "## Aim of this talktorial\n",
    "\n",
    "While activity data is very abundant for some protein targets, there are still a number of underexplored proteins where the use of machine learning (ML) for activity prediction is very difficult due to the lack of data. This issue can be solved leveraging similarities and differences between proteins. In this talktorial, we use Proteochemometrics modelling (PCM) to enrich our activity models with protein data to predict the activity of novel compounds against the four adenosine receptor isoforms (A1, A2A, A2B, A3)."
   ]
  },
  {
   "cell_type": "markdown",
   "metadata": {},
   "source": [
    "### Contents in *Theory*\n",
    "\n",
    "* Data preparation\n",
    "    * Papyrus dataset\n",
    "    * Molecule encoding: molecular descriptors\n",
    "    * Protein encoding: protein descriptors\n",
    "\n",
    "* Proteochemometrics (PCM)\n",
    "    * Machine learning principles: regression\n",
    "        * Splitting methods\n",
    "        * Regression evaluation metrics\n",
    "        * ML algorithm: Random Forest\n",
    "    * Applications of PCM in drug discovery"
   ]
  },
  {
   "cell_type": "markdown",
   "metadata": {},
   "source": [
    "### Contents in *Practical*\n",
    "\n",
    "* Downlaod Papyrus dataset\n",
    "* Data preparation\n",
    "    * Filter activity data for targets of interest\n",
    "    * Align target sequences\n",
    "    * Calculate protein descriptors\n",
    "    * Calculate compound descriptors\n",
    "* Proteochemometrics modelling\n",
    "    * Helper functions\n",
    "    * Model training and validation"
   ]
  },
  {
   "cell_type": "markdown",
   "metadata": {},
   "source": [
    "### References\n",
    "\n",
    "* Papyrus scripts [github](https://github.com/OlivierBeq/Papyrus-scripts)\n",
    "* Papyrus dataset preprint: [<i>ChemRvix</i> (2021)](https://chemrxiv.org/engage/chemrxiv/article-details/617aa2467a002162403d71f0)\n",
    "* Molecular descriptors (Modred): [<i>J. Cheminf.</i>, 10, (2018)](https://jcheminf.biomedcentral.com/articles/10.1186/s13321-018-0258-y)\n",
    "* Protein descriptors (ProDEC) [github](https://github.com/OlivierBeq/ProDEC)\n",
    "* Regression metrics [(Scikit learn)](https://scikit-learn.org/stable/modules/model_evaluation.html#regression-metrics)\n",
    "* XGBoost [Documentation](https://xgboost.readthedocs.io/en/stable/index.html)\n",
    "* Proteochemometrics review: [<i>Drug Discov.</i> (2019), <b>32</b>, 89-98](https://www.sciencedirect.com/science/article/pii/S1740674920300111?via%3Dihub)\n",
    "\n"
   ]
  },
  {
   "cell_type": "markdown",
   "metadata": {},
   "source": [
    "## Theory"
   ]
  },
  {
   "cell_type": "markdown",
   "metadata": {},
   "source": [
    "To successfully apply PCM modelling, we need a large dataset of molecule-protein pairs with known bioactivity values, a way of describing molecules and proteins, and a ML algorithm to train a model. Then, we can make predictions for new molecule-protein pairs.\n",
    "\n",
    "<b>NOTE:</b> PCM modelling is an extension of ligand-based modelling with ML described in <b>Talktorial T007</b>. Explore that talktorial to know more about the basic principle of activity prediction using ML."
   ]
  },
  {
   "cell_type": "markdown",
   "metadata": {},
   "source": [
    "<img src='images/PCM_model_text-01.png' width=\"1000\">\n",
    "\n",
    "*Figure 1:*\n",
    "Proteochemometrics modelling construction from protein and molecular descriptors for which protein-compound pair bioactivity data is known.\n",
    "Figure made by Marina Gorostiola González."
   ]
  },
  {
   "cell_type": "markdown",
   "source": [
    "### Data preparation"
   ],
   "metadata": {
    "collapsed": false
   }
  },
  {
   "cell_type": "markdown",
   "source": [
    "#### Papyrus dataset"
   ],
   "metadata": {
    "collapsed": false
   }
  },
  {
   "cell_type": "markdown",
   "source": [
    "The Papyrus dataset is a highly curated compilation of bioactivity data intended for modelling in drug discovery. Apart from the bioactivity data contained in the ChEMBL database (see also  <b>Talktorial T001</b>), the Papyrus dataset contains binary data for classification tasks from the ExCAPE-DB, and bioactivity data from a number of kinase-specific papers (Figure 1).\n",
    "\n",
    "The bioactivity data aggregated is standardized, repaired, and normalised to form the Papyrus dataset, which is updated with every new version of ChEMBL released. The Papyrus dataset contains \"high quality\" data associated to pChEMBL values for regression tasks and \"low quality\" data associated to an active/inactive label for classification tasks (read more about ML applications in <b>Talktorial T007</b>)."
   ],
   "metadata": {
    "collapsed": false
   }
  },
  {
   "cell_type": "markdown",
   "source": [
    "<img src='images/papyrus_workflow.png' width=\"1000\">\n",
    "\n",
    "*Figure 2:*\n",
    "Papyrus dataset generation scheme.\n",
    "Figure taken from: [<i>ChemRvix</i> (2021)](https://chemrxiv.org/engage/chemrxiv/article-details/617aa2467a002162403d71f0)."
   ],
   "metadata": {
    "collapsed": false
   }
  },
  {
   "cell_type": "markdown",
   "source": [
    "#### Molecule encoding: molecular descriptors"
   ],
   "metadata": {
    "collapsed": false,
    "pycharm": {
     "name": "#%% md\n"
    }
   }
  },
  {
   "cell_type": "markdown",
   "source": [
    "For the ML models used in PCM, molecules need to be converted into a list of features. In <b>Talktorial T007</b>, molecular fingerprints were introduced. In this talktorial, we will use a different type of representation that is often used on its own or in combination with fingerprints: molecular descriptors.\n",
    "\n",
    "<b>Molecular descriptors</b> are the \"final result of a logical and mathematical procedure, which transforms chemical information encoded within a symbolic representation of a molecule into a useful number or the result of some standardized experiment\" ([<i>J. Cheminf.</i>, 10, (2018)](https://jcheminf.biomedcentral.com/articles/10.1186/s13321-018-0258-y)). These descriptors can be, for example, molecular weight, ring count, Eccentric Connectivity Index (calculated from the 2D structure), or Geometrical Index (calculated from the 3D structure).\n",
    "\n",
    "In this talktorial, we use Modred as a software engine to calculate molecular descriptors. Modred calculates more than 1,800 molecular descriptors, including the ones implemented in RDKit, including an automatic preprocessing step that is common for all descriptors calculated. For simplicity, here we calculate only 4 types of descriptors from the vast list of possibilities from Modred, excluding their 3D representation. These include:\n",
    "\n",
    "* <b>ABC Index</b>: 2 descriptors that represent the atom-bond connectivity index or the Graovac-Ghorbani atom-bond connectivity index (see Modred <code>ABCIndex</code> [docs](https://mordred-descriptor.github.io/documentation/master/api/mordred.ABCIndex.html))\n",
    "* <b>Acid-Base</b>: 2 descriptors that count acidic and basic groups, respectively (see Modred <code>AcidBase</code> [docs](https://mordred-descriptor.github.io/documentation/master/api/mordred.AcidBase.html?highlight=acidbase))\n",
    "* <b>Atom count</b>: 16 descriptors that represent a count of different types of atoms (see Modred <code>AtomCount</code> [docs](https://mordred-descriptor.github.io/documentation/master/api/mordred.AtomCount.html?highlight=atomcount))\n",
    "* <b>Balaban J index</b>: 1 descriptor (included in RDkit), which represents a topological index (see Modred <code>BalabanJ</code> [docs](https://mordred-descriptor.github.io/documentation/master/api/mordred.BalabanJ.html?highlight=balaban#module-mordred.BalabanJ))"
   ],
   "metadata": {
    "collapsed": false,
    "pycharm": {
     "name": "#%% md\n"
    }
   }
  },
  {
   "cell_type": "markdown",
   "source": [
    "#### Protein encoding: protein descriptors"
   ],
   "metadata": {
    "collapsed": false
   }
  },
  {
   "cell_type": "markdown",
   "source": [
    "As done for molecules, the proteins of interest need to be converted to a list of features or protein descriptors. Protein descriptors used in PCM applications are commonly based on the protein sequence and represent physicochemical characteristics of the amino acids that make up the sequence (e.g. Z-scales). Other protein descriptors represent topological (e.g. St-scales) or electrostatic properties (e.g. MS-WHIM) of the protein sequence. Moreover, if structural information is available, protein descriptors can be derived from the 3D structure of the protein (e.g. sPairs) or the ligand-protein interaction in 3D (e.g. interaction fingerprints). Finally, with the widespread use of deep learning, protein embeddings can be obtained after parsing the protein sequence through the network (e.g. UniRep, AlphaFold embeddings).\n",
    "\n",
    "For protein descriptors based on the protein sequence, an aspect to take into account is that for ML the length of the protein descriptor needs to be the same. However, most proteins do not have the same sequence length. To solve this issue, there are two main approaches:\n",
    "* <b>Multiple sequence alignment</b>: when the whole protein wants to be incorporated to the model, a multiple sequence alignment can be performed. The final descriptor will have as many features as the number of features per amino acid multiplied by the number of aligned positions. To take into account, gaps in the alignment will receive zeroes in the descriptor.\n",
    "* <b>Binding pocket selection</b>: To avoid unnecessary features, a binding pocket of the same length can be selected for each protein. Normally, the binding pocket selection is preceded by a multiple sequence alignment and driven by known structural or mutagenesis data.\n",
    "\n",
    "Other options are available when proteins are not of the same family or do not share a binding pocket (see [<i>Drug Discov.</i> (2019), <b>32</b>, 89-98](https://www.sciencedirect.com/science/article/pii/S1740674920300111?via%3Dihub))\n",
    "\n",
    "In this talktorial, we will focus on physicochemical protein descriptors, mainly <b>Z-scales</b> ([<i>J. Med. Chem</i>, 30 (1987)](https://pubs.acs.org/doi/10.1021/jm00390a003)). The Z-scales descriptor assigns three pre-determined values (Z<sub>1</sub>, Z<sub>2</sub>, Z<sub>3</sub>) to each amino acid in the sequence. The Z<sub>1</sub>, Z<sub>2</sub>, and Z<sub>3</sub> values are the first principal components of a principal component analysis (PCA) including 29 different physicochemical variables to characterize the amino acids.\n",
    "Since we are calculating activity for four proteins with very high sequence similarity (Adenosine receptors A1, A2A, A2B, and A3), we will use <b>multiple sequence alignment</b> prior to calculation of the Z-scales. To calculate Z-scales we will use ProDEC, an open source resource that compiles a large number of protein descriptors."
   ],
   "metadata": {
    "collapsed": false,
    "pycharm": {
     "name": "#%% md\n"
    }
   }
  },
  {
   "cell_type": "markdown",
   "source": [
    "### Proteochemometrics (PCM)"
   ],
   "metadata": {
    "collapsed": false
   }
  },
  {
   "cell_type": "markdown",
   "source": [
    "#### Machine learning principles: regression"
   ],
   "metadata": {
    "collapsed": false,
    "pycharm": {
     "name": "#%% md\n"
    }
   }
  },
  {
   "cell_type": "markdown",
   "source": [
    "Proteochemometrics (PCM) consists in the modelling via supervised machine learning algorithms of a biological endpoint (e.g. compound activity) based on a series of features derived from chemical compounds and target proteins. The ML principles for proteochemometric modelling are equivalent to those explained in <b>Talktorial T007</b>. However, in this talktorial we will explore a supervised ML application other than classification, this is <b>regression</b>. For regression tasks, a continuous target variable is needed, for example pChEMBL values."
   ],
   "metadata": {
    "collapsed": false
   }
  },
  {
   "cell_type": "markdown",
   "source": [
    "##### Splitting methods"
   ],
   "metadata": {
    "collapsed": false,
    "pycharm": {
     "name": "#%% md\n"
    }
   }
  },
  {
   "cell_type": "markdown",
   "source": [
    "Similarly to classification tasks, in supervised ML regression applications the model is first fitted to a training set and subsequently the predictive performance is evaluated on a test set. Therefore, the original dataset needs to be split between training and test sets. The split needs to ensure that the fitting process has enough data, and that the test set is representative. Normally, the distribution between train and test set is 80/20 or 70/30. Depending on the applicability domain, the split can be done in multiple ways. In PCM modelling, some of the most common splitting methods are:\n",
    "* <b>Random split</b>: This method is not particularly relevant in drug discovery applications as it does not refflect the reality of a drug discovery campaign and it will most likely lead to data leaks between the training and test set. This is, very similar data will be found in both sets, which will lead to an overestimation of the rpedictive performance of the model. This type of split is commonly used, however, as a baseline and point of reference for other splitting methods, or as a starting point for quick model comparisons.\n",
    "* <b>Leave one target out (LOTO) split</b>: To evaluate the ability of the model to extrapolate to targets not previously seen, one of the targets can be completely moved to the test set.\n",
    "* <b>Leave one compound cluster out (LOCCO) split</b>: This method evaluates the ability of the model to extrapolate to compounds with properties not previously seen by the model. Clustering can be done based on different molecular characteristics, such as physicochemical properties, scaffold, or approval status, for example (see <b>Talktorial T005</b> to learn more about clustering). One (or several) clusters can then be left out for testing. This methods prevents data leaking in terms of chemistry between training and test sets.\n",
    "* <b>Temporal split</b>: This method was developed in order to account for the usual timeline of drug discovery campaigns, where chemical series are populated sequentially over time. In this approach, the molecules included in the training set are those released until certain date and the rest (most novel) are included in the test set.\n",
    "* <b>Stratified split per target</b>: This method can be applied to any of the splitting methods described above (except LOTO), and aims to include data of all targets in both the training and test set, so that additional target-compound interactions can be extracted by the model."
   ],
   "metadata": {
    "collapsed": false
   }
  },
  {
   "cell_type": "markdown",
   "source": [
    "<img src='images/splitting_methods.png' width=\"1000\">\n",
    "\n",
    "*Figure 3:*\n",
    "Overview of splitting methods, including target-stratified random and temporal splits and leave one target out approach.\n",
    "Figure made by Marina Gorostiola González."
   ],
   "metadata": {
    "collapsed": false,
    "pycharm": {
     "name": "#%% md\n"
    }
   }
  },
  {
   "cell_type": "markdown",
   "source": [
    "##### Regression evaluation metrics"
   ],
   "metadata": {
    "collapsed": false,
    "pycharm": {
     "name": "#%% md\n"
    }
   }
  },
  {
   "cell_type": "markdown",
   "source": [
    "\n",
    "To evaluate the predictive performance of a regression model, there are several metrics that in simple terms measure the differences between the true target values and the predictions made by the model. These metrics can be used in cross-validation on the training set (see <b>Talktorial T007</b>) or in the test set. The most commonly used metrics include:\n",
    "\n",
    "* <b>Coefficient of determination ($R^{2}$ score)</b>: Represents the portion of variance of the target variable that has been explained by the independent variables (features) in the model. $R^{2}$ score varies between 1.0 (best score) and minus infinite, where 0.0 represents a model that always predicts the average target variable. As the variance is dataset dependent, it might not be meaningful metric to compare between datasets. When dealing with linear regression, and model fitting and evaluation are performed on a single dataset, $R^{2}$ is equivalent to the square of the Pearson correlation coefficient, described below, and can be noted as $r^{2}$.\n",
    "* <b>Pearson's correlation coefficient (Pearson's $r$)</b>: Is a measure of the linear correlation between the true and predicted values of the target variable. It is calculated as the covariance of the two variables divided by the product of their standard deviation. Pearson's $r$ can vary between 1.0 (a perfect positive correlation) and -1.0 (a perfect negative correlation), where 1.0 would represent a perfect prediction.\n",
    "* <b>Mean squared error (MSE)</b>: Measures the average of the squares of the difference between the predicted and the true values. It varies between 1.0 (worst) and 0.0 (best).\n",
    "* <b>Root mean square error (RMSE)</b>: Also called root mean square deviation (RMSD), it is the square root of the MSE and represents the standard deviation of the prediction errors respect to the line of best fit. RMSE is a measure of accuracy and it cannot be applied to compare  between datasets, as it is scale-dependent. It varies between 1.0 (worst) and 0.0 (best).\n",
    "\n",
    "To learn more about evaluation metrics, you can consult scikit learn's <code>regression metrics</code> [Docs](https://scikit-learn.org/stable/modules/model_evaluation.html#regression-metrics).\n",
    "\n",
    "\n",
    "\n"
   ],
   "metadata": {
    "collapsed": false
   }
  },
  {
   "cell_type": "markdown",
   "source": [
    "##### ML algorithm: Random Forest"
   ],
   "metadata": {
    "collapsed": false,
    "pycharm": {
     "name": "#%% md\n"
    }
   }
  },
  {
   "cell_type": "markdown",
   "source": [
    "Different ML algorithms can be used to train PCM models. Some of them include support vector machines (SVM), <b>random forest (RF)</b>, and neural networks (NN), that were described in <b>Talktorial T007</b>. In this talktorial, we will use RF. RF is a decision tree-based algorithm, more in detail a bagging ensemble method. This means that there are multiple decision trees trained independently with subsets of features and data and the final prediction is made from a consensus between the independent predictions.\n",
    "RF models have been used extensively in PCM applications due to their efficiency in large datasets and resistance to overfitting with more features."
   ],
   "metadata": {
    "collapsed": false,
    "pycharm": {
     "name": "#%% md\n"
    }
   }
  },
  {
   "cell_type": "markdown",
   "source": [
    "#### Applications of PCM in drug discovery"
   ],
   "metadata": {
    "collapsed": false,
    "pycharm": {
     "name": "#%% md\n"
    }
   }
  },
  {
   "cell_type": "markdown",
   "source": [
    "The possibility to predict bioactivity for multiple targets in one model with PCM is very interesting in drug discovery. Some applications of this technique are listed below and help answer the following questions in drug discovery:\n",
    "\n",
    "* <b>Poly-pharmacology</b>: Is it possible to target several proteins of interest simultaneously with one single drug?\n",
    "* <b>Off-target prediction</b>: What other proteins do these compounds target apart from the intended therapeutic target? Are maybe these off-targets responsible for side effects?\n",
    "* <b>Selectivity prediction</b>: Do certain novel compounds target one protein isoform while avoiding others (off-targets) known to cause adverse effects?\n",
    "\n",
    "To know more about applications of PCM in drug discovery, have a look at this review [<i>Drug Discov.</i> (2019), <b>32</b>, 89-98](https://www.sciencedirect.com/science/article/pii/S1740674920300111?via%3Dihub)."
   ],
   "metadata": {
    "collapsed": false,
    "pycharm": {
     "name": "#%% md\n"
    }
   }
  },
  {
   "cell_type": "markdown",
   "metadata": {},
   "source": [
    "## Practical"
   ]
  },
  {
   "cell_type": "markdown",
   "metadata": {},
   "source": [
    "In the practical section of this talktorial we will create a PCM regression model for the four adenosine receptors (A1, A2A, A2B, A3) with data from the Papyrus dataset and molecular and protein descriptors as features."
   ]
  },
  {
   "cell_type": "code",
   "execution_count": 2,
   "metadata": {},
   "outputs": [],
   "source": [
    "from pathlib import Path\n",
    "import numpy as np\n",
    "import pandas as pd\n",
    "import re\n",
    "import wget\n",
    "import zipfile\n",
    "\n",
    "from papyrus_scripts.download import download_papyrus\n",
    "from papyrus_scripts.reader import read_papyrus, read_protein_set\n",
    "from papyrus_scripts.preprocess import *\n",
    "from papyrus_scripts.utils.IO import get_num_rows_in_file\n",
    "\n",
    "from Bio.Seq import Seq\n",
    "from Bio.SeqIO import SeqRecord, write as SeqIO_write, parse as SeqIO_parse\n",
    "from Bio.Align.Applications import ClustalOmegaCommandline\n",
    "import Bio.AlignIO\n",
    "import rich\n",
    "from rich_msa import RichAlignment\n",
    "\n",
    "from prodec import ProteinDescriptors, Transform\n",
    "from rdkit import Chem\n",
    "from mordred import Calculator, descriptors\n",
    "\n",
    "from sklearn.preprocessing import RobustScaler\n",
    "from sklearn.model_selection import train_test_split\n",
    "from sklearn.ensemble import RandomForestRegressor\n",
    "from sklearn.metrics import r2_score,mean_absolute_error\n",
    "from scipy.stats import pearsonr\n",
    "\n",
    "import seaborn as sns\n",
    "import matplotlib.pyplot as plt"
   ]
  },
  {
   "cell_type": "code",
   "execution_count": 4,
   "metadata": {},
   "outputs": [],
   "source": [
    "# Set path to this notebook\n",
    "HERE = Path(_dh[-1])\n",
    "DATA = HERE / \"data\""
   ]
  },
  {
   "cell_type": "markdown",
   "source": [
    "### Download Payrus dataset"
   ],
   "metadata": {
    "collapsed": false
   }
  },
  {
   "cell_type": "markdown",
   "source": [
    "By default, the <code>download_papyrus</code> function retrieves bioactivity, target and other information for the latest version of the Papyrus dataset. The data retrieved consists of the highest quality continuous bioactivity data (Papyrus++) without stereochemistry annotated."
   ],
   "metadata": {
    "collapsed": false,
    "pycharm": {
     "name": "#%% md\n"
    }
   }
  },
  {
   "cell_type": "code",
   "execution_count": 18,
   "outputs": [
    {
     "name": "stdout",
     "output_type": "stream",
     "text": [
      "Latest version: 05.5\n",
      "Number of files to be donwloaded: 6\n",
      "Total size: 118MB\n"
     ]
    },
    {
     "data": {
      "text/plain": "Donwloading version 05.5:   0%|          | 0.00/118M [00:00<?, ?B/s]",
      "application/vnd.jupyter.widget-view+json": {
       "version_major": 2,
       "version_minor": 0,
       "model_id": "719d914671cd438aa578bffdc8b95c1c"
      }
     },
     "metadata": {},
     "output_type": "display_data"
    }
   ],
   "source": [
    "download_papyrus(outdir=DATA, version='latest', nostereo=True, stereo=False, descriptors=None)"
   ],
   "metadata": {
    "collapsed": false,
    "pycharm": {
     "name": "#%%\n"
    }
   }
  },
  {
   "cell_type": "code",
   "execution_count": 90,
   "outputs": [],
   "source": [
    "# Let's specify the Papyrus version for the rest of the work\n",
    "PAPYRUS_VERSION = '05.5'"
   ],
   "metadata": {
    "collapsed": false,
    "pycharm": {
     "name": "#%%\n"
    }
   }
  },
  {
   "cell_type": "markdown",
   "metadata": {},
   "source": [
    "### Data preparation"
   ]
  },
  {
   "cell_type": "markdown",
   "source": [
    "#### Filter activity data for targets of interest"
   ],
   "metadata": {
    "collapsed": false,
    "pycharm": {
     "name": "#%% md\n"
    }
   }
  },
  {
   "cell_type": "markdown",
   "source": [
    "From the Papyrus dataset, we want to extract continuous activity data for all compound-protein pairs for the four human Adenosine receptors. In the Papyrus set, unique compound-target activity values are reported by aggregating data from different assays available. To account for the different types of bioactivity units available, a canonical activity metric defined by ChEMBL is used, pchembl value, which is defined as $-log_{10}(molar IC_{50}, XC_{50}, EC_{50}, AC_{50}, Ki, Kd, or potency)$. From the activity aggregation strategies available with the Papyrus set, we will use the Mean (<code>pchembl_value_Mean</code> variable). \n",
    "\n",
    "|Receptor|Uniprot accession|\n",
    "|---|---|\n",
    "|A1|P30542|\n",
    "|A2A|P29274|\n",
    "|A2B|P29275|\n",
    "|A3|P0DMS8|"
   ],
   "metadata": {
    "collapsed": false,
    "pycharm": {
     "name": "#%% md\n"
    }
   }
  },
  {
   "cell_type": "code",
   "execution_count": 76,
   "outputs": [],
   "source": [
    "def filter_explore_activity_data(papyrus_version, targets):\n",
    "    \"\"\"\n",
    "    Filter Papyrus dataset for targets of interest and explore the statistics of the resulting dataset\n",
    "\n",
    "    Parameters\n",
    "    ----------\n",
    "    papyrus_version : str\n",
    "        Version of the Papyrus dataset to read\n",
    "    targets : dict\n",
    "        Dictionary with target labels as keys and Uniprot accession codes as values\n",
    "\n",
    "    Returns\n",
    "    -------\n",
    "    pandas.DataFrame\n",
    "        Filtered bioactivity dataset for input targets\n",
    "    \"\"\"\n",
    "    # Read downloaded Papyrus dataset in chunks, as it does not fit in memory\n",
    "    CHUNKSIZE = 100000\n",
    "    data = read_papyrus(version=papyrus_version, chunksize=CHUNKSIZE, source_path=DATA)\n",
    "\n",
    "    # Create filter for targets of interest\n",
    "    target_accession_list = targets.values()\n",
    "    filter = keep_accession(data, target_accession_list)\n",
    "\n",
    "    # Iterate through chunks and apply the filter defined\n",
    "    filtered_data = consume_chunks(filter, total=round(get_num_rows_in_file('bioactivities', False) / CHUNKSIZE))\n",
    "    # Add column named 'Target' for easier data visualization\n",
    "    filtered_data['Target'] = filtered_data['accession'].apply(lambda x: [i for i in targets.keys() if targets[i]==x][0])\n",
    "\n",
    "    # Print number of bioactivity datapoints per target\n",
    "    for target,accession in zip(targets.keys(), targets.values()):\n",
    "        print('Number of bioactivity datapoints')\n",
    "        print(f'{target} ({accession}) : {filtered_data[filtered_data[\"accession\"]==accession].shape[0]}')\n",
    "\n",
    "    # Plot distribution of activity values (pchembl_value_Mean) per target\n",
    "    g = sns.displot(filtered_data, x='pchembl_value_Mean', hue='Target', element='step', hue_order=targets.keys())\n",
    "\n",
    "    return filtered_data"
   ],
   "metadata": {
    "collapsed": false,
    "pycharm": {
     "name": "#%%\n"
    }
   }
  },
  {
   "cell_type": "code",
   "execution_count": 81,
   "outputs": [
    {
     "data": {
      "text/plain": "  0%|          | 0/12 [00:00<?, ?it/s]",
      "application/vnd.jupyter.widget-view+json": {
       "version_major": 2,
       "version_minor": 0,
       "model_id": "0b3a11c7b73442ca885f3662094679ea"
      }
     },
     "metadata": {},
     "output_type": "display_data"
    },
    {
     "name": "stdout",
     "output_type": "stream",
     "text": [
      "Number of bioactivity datapoints\n",
      "A1 (P30542) : 3519\n",
      "Number of bioactivity datapoints\n",
      "A2A (P29274) : 3991\n",
      "Number of bioactivity datapoints\n",
      "A2B (P29275) : 1988\n",
      "Number of bioactivity datapoints\n",
      "A3 (P0DMS8) : 3221\n"
     ]
    },
    {
     "data": {
      "text/plain": "<Figure size 578x500 with 1 Axes>",
      "image/png": "[encoded data removed]"
     },
     "metadata": {},
     "output_type": "display_data"
    }
   ],
   "source": [
    "# Define the set of receptors of interest with a label and their Uniprot accession\n",
    "adenosine_receptors = {'A1': 'P30542',\n",
    "                       'A2A': 'P29274',\n",
    "                       'A2B': 'P29275',\n",
    "                       'A3': 'P0DMS8'}\n",
    "\n",
    "# Filter the Papyrus bioactivity dataset and plot the distribution of activity values for the targets of interest\n",
    "ar_data = filter_explore_activity_data(PAPYRUS_VERSION, adenosine_receptors)"
   ],
   "metadata": {
    "collapsed": false,
    "pycharm": {
     "name": "#%%\n"
    }
   }
  },
  {
   "cell_type": "markdown",
   "source": [
    "#### Align target sequences"
   ],
   "metadata": {
    "collapsed": false,
    "pycharm": {
     "name": "#%% md\n"
    }
   }
  },
  {
   "cell_type": "markdown",
   "source": [
    "In order to ensure protein descriptors are of the same length, we first need to align the target sequences. We do this by using the software ClustalW. The first step is to install the software. Choose one of the following download options depending on your system (Windows, Unix, or MacOS)."
   ],
   "metadata": {
    "collapsed": false
   }
  },
  {
   "cell_type": "markdown",
   "source": [
    "##### Clustal Omega downlaod for Windows"
   ],
   "metadata": {
    "collapsed": false,
    "pycharm": {
     "name": "#%% md\n"
    }
   }
  },
  {
   "cell_type": "code",
   "execution_count": 96,
   "outputs": [],
   "source": [
    "# Define url of download file and paths to download\n",
    "clustalo_url =  \"http://www.clustal.org/omega/clustal-omega-1.2.2-win64.zip\"\n",
    "clustalo_zip_path = str(Path(DATA, 'clustalo.zip'))\n",
    "clustalo_path = str(Path(DATA, 'clustalo'))\n",
    "# Download .zip installation file\n",
    "wget.download(clustalo_url, out=clustalo_zip_path)\n",
    "# Unzip installation file\n",
    "with zipfile.ZipFile(clustalo_zip_path, 'r') as zip_ref:\n",
    "    zip_ref.extractall(clustalo_path)\n",
    "# Define path to executable\n",
    "clustalo_exe = os.path.join(clustalo_path, 'clustal-omega-1.2.2-win64', 'clustalo.exe')"
   ],
   "metadata": {
    "collapsed": false,
    "pycharm": {
     "name": "#%%\n"
    }
   }
  },
  {
   "cell_type": "markdown",
   "source": [
    "##### clustalo download for Unix"
   ],
   "metadata": {
    "collapsed": false,
    "pycharm": {
     "name": "#%% md\n"
    }
   }
  },
  {
   "cell_type": "code",
   "execution_count": null,
   "outputs": [],
   "source": [
    "# Define url of download file and paths to download\n",
    "clustalo_url =  \"http://www.clustal.org/omega/clustalo-1.2.4-Ubuntu-x86_64\"\n",
    "clustalo_path = str(Path(DATA, 'clustalo'))\n",
    "# Download executable file\n",
    "wget.download(clustalo_url, out=clustalo_path)\n",
    "# Give file executable permission\n",
    "os.chmod(clustalo_path, 0755)\n",
    "# Define path to executable\n",
    "clustalo_exe = clustalo_path"
   ],
   "metadata": {
    "collapsed": false,
    "pycharm": {
     "name": "#%%\n"
    }
   }
  },
  {
   "cell_type": "markdown",
   "source": [
    "##### clustalo download for MacOS"
   ],
   "metadata": {
    "collapsed": false,
    "pycharm": {
     "name": "#%% md\n"
    }
   }
  },
  {
   "cell_type": "code",
   "execution_count": null,
   "outputs": [],
   "source": [
    "# Define url of download file and paths to download\n",
    "clustalo_url =  \"http://www.clustal.org/omega/clustal-omega-1.2.3-macosx\"\n",
    "clustalo_path = str(Path(DATA, 'clustalo'))\n",
    "# Download executable file\n",
    "wget.download(clustalo_url, out=clustalo_path)\n",
    "# Give file executable permission\n",
    "os.chmod(clustalo_path, 0755)\n",
    "# Define path to executable\n",
    "clustalo_exe = clustalo_path"
   ],
   "metadata": {
    "collapsed": false,
    "pycharm": {
     "name": "#%%\n"
    }
   }
  },
  {
   "cell_type": "markdown",
   "source": [
    "Next, we obtain the protein sequences from the target files in Papyrus."
   ],
   "metadata": {
    "collapsed": false,
    "pycharm": {
     "name": "#%% md\n"
    }
   }
  },
  {
   "cell_type": "code",
   "execution_count": 91,
   "outputs": [
    {
     "data": {
      "text/plain": "    target_id HGNC_symbol    UniProtID    Status              Organism  \\\n80  P30542_WT      ADORA1   AA1R_HUMAN  reviewed  Homo sapiens (Human)   \n81  P29274_WT     ADORA2A  AA2AR_HUMAN  reviewed  Homo sapiens (Human)   \n47  P29275_WT     ADORA2B  AA2BR_HUMAN  reviewed  Homo sapiens (Human)   \n82  P0DMS8_WT      ADORA3   AA3R_HUMAN  reviewed  Homo sapiens (Human)   \n\n                                       Classification  Length  \\\n80  Membrane receptor->Family A G protein-coupled ...     326   \n81  Membrane receptor->Family A G protein-coupled ...     412   \n47  Membrane receptor->Family A G protein-coupled ...     332   \n82  Membrane receptor->Family A G protein-coupled ...     318   \n\n                                             Sequence  \n80  MPPSISAFQAAYIGIEVLIALVSVPGNVLVIWAVKVNQALRDATFC...  \n81  MPIMGSSVYITVELAIAVLAILGNVLVCWAVWLNSNLQNVTNYFVV...  \n47  MLLETQDALYVALELVIAALSVAGNVLVCAAVGTANTLQTPTNYFL...  \n82  MPNNSTALSLANVTYITMEIFIGLCAIVGNVLVICVVKLNPSLQTT...  ",
      "text/html": "<div>\n<style scoped>\n    .dataframe tbody tr th:only-of-type {\n        vertical-align: middle;\n    }\n\n    .dataframe tbody tr th {\n        vertical-align: top;\n    }\n\n    .dataframe thead th {\n        text-align: right;\n    }\n</style>\n<table border=\"1\" class=\"dataframe\">\n  <thead>\n    <tr style=\"text-align: right;\">\n      <th></th>\n      <th>target_id</th>\n      <th>HGNC_symbol</th>\n      <th>UniProtID</th>\n      <th>Status</th>\n      <th>Organism</th>\n      <th>Classification</th>\n      <th>Length</th>\n      <th>Sequence</th>\n    </tr>\n  </thead>\n  <tbody>\n    <tr>\n      <th>80</th>\n      <td>P30542_WT</td>\n      <td>ADORA1</td>\n      <td>AA1R_HUMAN</td>\n      <td>reviewed</td>\n      <td>Homo sapiens (Human)</td>\n      <td>Membrane receptor-&gt;Family A G protein-coupled ...</td>\n      <td>326</td>\n      <td>MPPSISAFQAAYIGIEVLIALVSVPGNVLVIWAVKVNQALRDATFC...</td>\n    </tr>\n    <tr>\n      <th>81</th>\n      <td>P29274_WT</td>\n      <td>ADORA2A</td>\n      <td>AA2AR_HUMAN</td>\n      <td>reviewed</td>\n      <td>Homo sapiens (Human)</td>\n      <td>Membrane receptor-&gt;Family A G protein-coupled ...</td>\n      <td>412</td>\n      <td>MPIMGSSVYITVELAIAVLAILGNVLVCWAVWLNSNLQNVTNYFVV...</td>\n    </tr>\n    <tr>\n      <th>47</th>\n      <td>P29275_WT</td>\n      <td>ADORA2B</td>\n      <td>AA2BR_HUMAN</td>\n      <td>reviewed</td>\n      <td>Homo sapiens (Human)</td>\n      <td>Membrane receptor-&gt;Family A G protein-coupled ...</td>\n      <td>332</td>\n      <td>MLLETQDALYVALELVIAALSVAGNVLVCAAVGTANTLQTPTNYFL...</td>\n    </tr>\n    <tr>\n      <th>82</th>\n      <td>P0DMS8_WT</td>\n      <td>ADORA3</td>\n      <td>AA3R_HUMAN</td>\n      <td>reviewed</td>\n      <td>Homo sapiens (Human)</td>\n      <td>Membrane receptor-&gt;Family A G protein-coupled ...</td>\n      <td>318</td>\n      <td>MPNNSTALSLANVTYITMEIFIGLCAIVGNVLVICVVKLNPSLQTT...</td>\n    </tr>\n  </tbody>\n</table>\n</div>"
     },
     "execution_count": 91,
     "metadata": {},
     "output_type": "execute_result"
    }
   ],
   "source": [
    "protein_data = read_protein_set(version=PAPYRUS_VERSION)\n",
    "sequences = pd.concat(protein_data[protein_data.target_id.str.startswith(x)] for x in adenosine_receptors.values())\n",
    "sequences"
   ],
   "metadata": {
    "collapsed": false,
    "pycharm": {
     "name": "#%%\n"
    }
   }
  },
  {
   "cell_type": "markdown",
   "source": [
    "In order to align the sequences with Clustal Omega, we first need to write them into a FASTA file."
   ],
   "metadata": {
    "collapsed": false,
    "pycharm": {
     "name": "#%% md\n"
    }
   }
  },
  {
   "cell_type": "code",
   "execution_count": 94,
   "outputs": [],
   "source": [
    "records = []\n",
    "for index, row in sequences.reset_index(drop=True).iterrows():\n",
    "    records.append(SeqRecord(seq=Seq(row.Sequence),\n",
    "                             id=str(index),\n",
    "                             name=row.target_id,\n",
    "                             description=' '.join([row.UniProtID, row.Organism, row.Classification])))\n",
    "sequences_path = os.path.join(DATA, 'sequences.fasta')\n",
    "_ = SeqIO_write(records, sequences_path, 'fasta')"
   ],
   "metadata": {
    "collapsed": false,
    "pycharm": {
     "name": "#%%\n"
    }
   }
  },
  {
   "cell_type": "markdown",
   "source": [
    "Now, we use Clustal Omega to align the sequences and write out the alignment file."
   ],
   "metadata": {
    "collapsed": false,
    "pycharm": {
     "name": "#%% md\n"
    }
   }
  },
  {
   "cell_type": "code",
   "execution_count": 97,
   "outputs": [],
   "source": [
    "alignment_file = os.path.join(DATA, 'aligned_sequences.fasta')\n",
    "clustalomega_cline = ClustalOmegaCommandline(cmd=clustalo_exe, infile=sequences_path, outfile=alignment_file, auto=True)\n",
    "_ = clustalomega_cline()"
   ],
   "metadata": {
    "collapsed": false,
    "pycharm": {
     "name": "#%%\n"
    }
   }
  },
  {
   "cell_type": "markdown",
   "source": [
    "Finally we parse the aligned sequences."
   ],
   "metadata": {
    "collapsed": false,
    "pycharm": {
     "name": "#%% md\n"
    }
   }
  },
  {
   "cell_type": "code",
   "execution_count": 101,
   "outputs": [],
   "source": [
    "aligned_sequences = [str(seq.seq) for seq in SeqIO_parse(alignment_file, 'fasta')]"
   ],
   "metadata": {
    "collapsed": false,
    "pycharm": {
     "name": "#%%\n"
    }
   }
  },
  {
   "cell_type": "markdown",
   "source": [
    "And we visualize the MSA."
   ],
   "metadata": {
    "collapsed": false,
    "pycharm": {
     "name": "#%% md\n"
    }
   }
  },
  {
   "cell_type": "code",
   "execution_count": 112,
   "outputs": [
    {
     "data": {
      "text/plain": "╭────────────────────────────────────────── Multiple sequence alignment ──────────────────────────────────────────╮\n│ 0 AA1R_HU…   \u001B[1;36m  1\u001B[0m  \u001B[1;38;5;239m-\u001B[0m\u001B[1;38;5;239m-\u001B[0m\u001B[1;38;5;239m-\u001B[0m\u001B[1;31mM\u001B[0m\u001B[1;31mP\u001B[0m\u001B[1;31mP\u001B[0m\u001B[1;32mS\u001B[0m\u001B[1;31mI\u001B[0m\u001B[1;32mS\u001B[0m\u001B[1;31mA\u001B[0m\u001B[1;31mF\u001B[0m\u001B[1;32mQ\u001B[0m\u001B[1;31mA\u001B[0m\u001B[1;31mA\u001B[0m\u001B[1;32mY\u001B[0m\u001B[1;31mI\u001B[0m\u001B[1;32mG\u001B[0m\u001B[1;31mI\u001B[0m\u001B[1;34mE\u001B[0m\u001B[1;31mV\u001B[0m\u001B[1;31mL\u001B[0m\u001B[1;31mI\u001B[0m\u001B[1;31mA\u001B[0m\u001B[1;31mL\u001B[0m\u001B[1;31mV\u001B[0m\u001B[1;32mS\u001B[0m\u001B[1;31mV\u001B[0m\u001B[1;31mP\u001B[0m\u001B[1;32mG\u001B[0m\u001B[1;32mN\u001B[0m\u001B[1;31mV\u001B[0m\u001B[1;31mL\u001B[0m\u001B[1;31mV\u001B[0m\u001B[1;31mI\u001B[0m\u001B[1;31mW\u001B[0m\u001B[1;31mA\u001B[0m\u001B[1;31mV\u001B[0m\u001B[1;38;5;129mK\u001B[0m\u001B[1;31mV\u001B[0m\u001B[1;32mN\u001B[0m\u001B[1;32mQ\u001B[0m\u001B[1;31mA\u001B[0m\u001B[1;31mL\u001B[0m\u001B[1;38;5;129mR\u001B[0m\u001B[1;34mD\u001B[0m\u001B[1;31mA\u001B[0m\u001B[1;32mT\u001B[0m\u001B[1;31mF\u001B[0m\u001B[1;32mC\u001B[0m\u001B[1;31mF\u001B[0m\u001B[1;31mI\u001B[0m\u001B[1;31mV\u001B[0m\u001B[1;32mS\u001B[0m\u001B[1;31mL\u001B[0m\u001B[1;31mA\u001B[0m\u001B[1;31mV\u001B[0m\u001B[1;31mA\u001B[0m\u001B[1;34mD\u001B[0m\u001B[1;31mV\u001B[0m\u001B[1;31mA\u001B[0m\u001B[1;31mV\u001B[0m\u001B[1;32mG\u001B[0m\u001B[1;31mA\u001B[0m\u001B[1;31mL\u001B[0m\u001B[1;31mV\u001B[0m\u001B[1;31mI\u001B[0m\u001B[1;31mP\u001B[0m\u001B[1;31mL\u001B[0m\u001B[1;31mA\u001B[0m\u001B[1;31mI\u001B[0m\u001B[1;31mL\u001B[0m\u001B[1;31mI\u001B[0m\u001B[1;32mN\u001B[0m\u001B[1;31mI\u001B[0m\u001B[1;32mG\u001B[0m\u001B[1;31mP\u001B[0m\u001B[1;32mQ\u001B[0m\u001B[1;32mT\u001B[0m\u001B[1;32mY\u001B[0m\u001B[1;31mF\u001B[0m\u001B[1;32mH\u001B[0m\u001B[1;32mT\u001B[0m\u001B[1;32mC\u001B[0m\u001B[1;31mL\u001B[0m\u001B[1;31mM\u001B[0m\u001B[1;31mV\u001B[0m\u001B[1;31mA\u001B[0m\u001B[1;32mC\u001B[0m\u001B[1;31mP\u001B[0m\u001B[1;31mV\u001B[0m\u001B[1;31mL\u001B[0m\u001B[1;31mI\u001B[0m  │\n│ 1 AA2AR_H…   \u001B[1;36m  1\u001B[0m  \u001B[1;38;5;239m-\u001B[0m\u001B[1;38;5;239m-\u001B[0m\u001B[1;38;5;239m-\u001B[0m\u001B[1;38;5;239m-\u001B[0m\u001B[1;38;5;239m-\u001B[0m\u001B[1;38;5;239m-\u001B[0m\u001B[1;31mM\u001B[0m\u001B[1;31mP\u001B[0m\u001B[1;31mI\u001B[0m\u001B[1;31mM\u001B[0m\u001B[1;32mG\u001B[0m\u001B[1;32mS\u001B[0m\u001B[1;32mS\u001B[0m\u001B[1;31mV\u001B[0m\u001B[1;32mY\u001B[0m\u001B[1;31mI\u001B[0m\u001B[1;32mT\u001B[0m\u001B[1;31mV\u001B[0m\u001B[1;34mE\u001B[0m\u001B[1;31mL\u001B[0m\u001B[1;31mA\u001B[0m\u001B[1;31mI\u001B[0m\u001B[1;31mA\u001B[0m\u001B[1;31mV\u001B[0m\u001B[1;31mL\u001B[0m\u001B[1;31mA\u001B[0m\u001B[1;31mI\u001B[0m\u001B[1;31mL\u001B[0m\u001B[1;32mG\u001B[0m\u001B[1;32mN\u001B[0m\u001B[1;31mV\u001B[0m\u001B[1;31mL\u001B[0m\u001B[1;31mV\u001B[0m\u001B[1;32mC\u001B[0m\u001B[1;31mW\u001B[0m\u001B[1;31mA\u001B[0m\u001B[1;31mV\u001B[0m\u001B[1;31mW\u001B[0m\u001B[1;31mL\u001B[0m\u001B[1;32mN\u001B[0m\u001B[1;32mS\u001B[0m\u001B[1;32mN\u001B[0m\u001B[1;31mL\u001B[0m\u001B[1;32mQ\u001B[0m\u001B[1;32mN\u001B[0m\u001B[1;31mV\u001B[0m\u001B[1;32mT\u001B[0m\u001B[1;32mN\u001B[0m\u001B[1;32mY\u001B[0m\u001B[1;31mF\u001B[0m\u001B[1;31mV\u001B[0m\u001B[1;31mV\u001B[0m\u001B[1;32mS\u001B[0m\u001B[1;31mL\u001B[0m\u001B[1;31mA\u001B[0m\u001B[1;31mA\u001B[0m\u001B[1;31mA\u001B[0m\u001B[1;34mD\u001B[0m\u001B[1;31mI\u001B[0m\u001B[1;31mA\u001B[0m\u001B[1;31mV\u001B[0m\u001B[1;32mG\u001B[0m\u001B[1;31mV\u001B[0m\u001B[1;31mL\u001B[0m\u001B[1;31mA\u001B[0m\u001B[1;31mI\u001B[0m\u001B[1;31mP\u001B[0m\u001B[1;31mF\u001B[0m\u001B[1;31mA\u001B[0m\u001B[1;31mI\u001B[0m\u001B[1;32mT\u001B[0m\u001B[1;31mI\u001B[0m\u001B[1;32mS\u001B[0m\u001B[1;32mT\u001B[0m\u001B[1;32mG\u001B[0m\u001B[1;31mF\u001B[0m\u001B[1;32mC\u001B[0m\u001B[1;31mA\u001B[0m\u001B[1;31mA\u001B[0m\u001B[1;32mC\u001B[0m\u001B[1;32mH\u001B[0m\u001B[1;32mG\u001B[0m\u001B[1;32mC\u001B[0m\u001B[1;31mL\u001B[0m\u001B[1;31mF\u001B[0m\u001B[1;31mI\u001B[0m\u001B[1;31mA\u001B[0m\u001B[1;32mC\u001B[0m\u001B[1;31mF\u001B[0m\u001B[1;31mV\u001B[0m\u001B[1;31mL\u001B[0m\u001B[1;31mV\u001B[0m  │\n│ 2 AA2BR_H…   \u001B[1;36m  1\u001B[0m  \u001B[1;38;5;239m-\u001B[0m\u001B[1;38;5;239m-\u001B[0m\u001B[1;38;5;239m-\u001B[0m\u001B[1;38;5;239m-\u001B[0m\u001B[1;38;5;239m-\u001B[0m\u001B[1;31mM\u001B[0m\u001B[1;31mL\u001B[0m\u001B[1;31mL\u001B[0m\u001B[1;34mE\u001B[0m\u001B[1;32mT\u001B[0m\u001B[1;32mQ\u001B[0m\u001B[1;34mD\u001B[0m\u001B[1;31mA\u001B[0m\u001B[1;31mL\u001B[0m\u001B[1;32mY\u001B[0m\u001B[1;31mV\u001B[0m\u001B[1;31mA\u001B[0m\u001B[1;31mL\u001B[0m\u001B[1;34mE\u001B[0m\u001B[1;31mL\u001B[0m\u001B[1;31mV\u001B[0m\u001B[1;31mI\u001B[0m\u001B[1;31mA\u001B[0m\u001B[1;31mA\u001B[0m\u001B[1;31mL\u001B[0m\u001B[1;32mS\u001B[0m\u001B[1;31mV\u001B[0m\u001B[1;31mA\u001B[0m\u001B[1;32mG\u001B[0m\u001B[1;32mN\u001B[0m\u001B[1;31mV\u001B[0m\u001B[1;31mL\u001B[0m\u001B[1;31mV\u001B[0m\u001B[1;32mC\u001B[0m\u001B[1;31mA\u001B[0m\u001B[1;31mA\u001B[0m\u001B[1;31mV\u001B[0m\u001B[1;32mG\u001B[0m\u001B[1;32mT\u001B[0m\u001B[1;31mA\u001B[0m\u001B[1;32mN\u001B[0m\u001B[1;32mT\u001B[0m\u001B[1;31mL\u001B[0m\u001B[1;32mQ\u001B[0m\u001B[1;32mT\u001B[0m\u001B[1;31mP\u001B[0m\u001B[1;32mT\u001B[0m\u001B[1;32mN\u001B[0m\u001B[1;32mY\u001B[0m\u001B[1;31mF\u001B[0m\u001B[1;31mL\u001B[0m\u001B[1;31mV\u001B[0m\u001B[1;32mS\u001B[0m\u001B[1;31mL\u001B[0m\u001B[1;31mA\u001B[0m\u001B[1;31mA\u001B[0m\u001B[1;31mA\u001B[0m\u001B[1;34mD\u001B[0m\u001B[1;31mV\u001B[0m\u001B[1;31mA\u001B[0m\u001B[1;31mV\u001B[0m\u001B[1;32mG\u001B[0m\u001B[1;31mL\u001B[0m\u001B[1;31mF\u001B[0m\u001B[1;31mA\u001B[0m\u001B[1;31mI\u001B[0m\u001B[1;31mP\u001B[0m\u001B[1;31mF\u001B[0m\u001B[1;31mA\u001B[0m\u001B[1;31mI\u001B[0m\u001B[1;32mT\u001B[0m\u001B[1;31mI\u001B[0m\u001B[1;32mS\u001B[0m\u001B[1;31mL\u001B[0m\u001B[1;32mG\u001B[0m\u001B[1;31mF\u001B[0m\u001B[1;32mC\u001B[0m\u001B[1;32mT\u001B[0m\u001B[1;34mD\u001B[0m\u001B[1;31mF\u001B[0m\u001B[1;32mY\u001B[0m\u001B[1;32mG\u001B[0m\u001B[1;32mC\u001B[0m\u001B[1;31mL\u001B[0m\u001B[1;31mF\u001B[0m\u001B[1;31mL\u001B[0m\u001B[1;31mA\u001B[0m\u001B[1;32mC\u001B[0m\u001B[1;31mF\u001B[0m\u001B[1;31mV\u001B[0m\u001B[1;31mL\u001B[0m\u001B[1;31mV\u001B[0m  │\n│ 3 AA3R_HU…   \u001B[1;36m  1\u001B[0m  \u001B[1;31mM\u001B[0m\u001B[1;31mP\u001B[0m\u001B[1;32mN\u001B[0m\u001B[1;32mN\u001B[0m\u001B[1;32mS\u001B[0m\u001B[1;32mT\u001B[0m\u001B[1;31mA\u001B[0m\u001B[1;31mL\u001B[0m\u001B[1;32mS\u001B[0m\u001B[1;31mL\u001B[0m\u001B[1;31mA\u001B[0m\u001B[1;32mN\u001B[0m\u001B[1;31mV\u001B[0m\u001B[1;32mT\u001B[0m\u001B[1;32mY\u001B[0m\u001B[1;31mI\u001B[0m\u001B[1;32mT\u001B[0m\u001B[1;31mM\u001B[0m\u001B[1;34mE\u001B[0m\u001B[1;31mI\u001B[0m\u001B[1;31mF\u001B[0m\u001B[1;31mI\u001B[0m\u001B[1;32mG\u001B[0m\u001B[1;31mL\u001B[0m\u001B[1;32mC\u001B[0m\u001B[1;31mA\u001B[0m\u001B[1;31mI\u001B[0m\u001B[1;31mV\u001B[0m\u001B[1;32mG\u001B[0m\u001B[1;32mN\u001B[0m\u001B[1;31mV\u001B[0m\u001B[1;31mL\u001B[0m\u001B[1;31mV\u001B[0m\u001B[1;31mI\u001B[0m\u001B[1;32mC\u001B[0m\u001B[1;31mV\u001B[0m\u001B[1;31mV\u001B[0m\u001B[1;38;5;129mK\u001B[0m\u001B[1;31mL\u001B[0m\u001B[1;32mN\u001B[0m\u001B[1;31mP\u001B[0m\u001B[1;32mS\u001B[0m\u001B[1;31mL\u001B[0m\u001B[1;32mQ\u001B[0m\u001B[1;32mT\u001B[0m\u001B[1;32mT\u001B[0m\u001B[1;32mT\u001B[0m\u001B[1;31mF\u001B[0m\u001B[1;32mY\u001B[0m\u001B[1;31mF\u001B[0m\u001B[1;31mI\u001B[0m\u001B[1;31mV\u001B[0m\u001B[1;32mS\u001B[0m\u001B[1;31mL\u001B[0m\u001B[1;31mA\u001B[0m\u001B[1;31mL\u001B[0m\u001B[1;31mA\u001B[0m\u001B[1;34mD\u001B[0m\u001B[1;31mI\u001B[0m\u001B[1;31mA\u001B[0m\u001B[1;31mV\u001B[0m\u001B[1;32mG\u001B[0m\u001B[1;31mV\u001B[0m\u001B[1;31mL\u001B[0m\u001B[1;31mV\u001B[0m\u001B[1;31mM\u001B[0m\u001B[1;31mP\u001B[0m\u001B[1;31mL\u001B[0m\u001B[1;31mA\u001B[0m\u001B[1;31mI\u001B[0m\u001B[1;31mV\u001B[0m\u001B[1;31mV\u001B[0m\u001B[1;32mS\u001B[0m\u001B[1;31mL\u001B[0m\u001B[1;32mG\u001B[0m\u001B[1;31mI\u001B[0m\u001B[1;32mT\u001B[0m\u001B[1;31mI\u001B[0m\u001B[1;32mH\u001B[0m\u001B[1;31mF\u001B[0m\u001B[1;32mY\u001B[0m\u001B[1;32mS\u001B[0m\u001B[1;32mC\u001B[0m\u001B[1;31mL\u001B[0m\u001B[1;31mF\u001B[0m\u001B[1;31mM\u001B[0m\u001B[1;32mT\u001B[0m\u001B[1;32mC\u001B[0m\u001B[1;31mL\u001B[0m\u001B[1;31mL\u001B[0m\u001B[1;31mL\u001B[0m\u001B[1;31mI\u001B[0m  │\n│                                                                                                                 │\n│ 0 AA1R_HU…   \u001B[1;36m 90\u001B[0m  \u001B[1;31mL\u001B[0m\u001B[1;32mT\u001B[0m\u001B[1;32mQ\u001B[0m\u001B[1;32mS\u001B[0m\u001B[1;32mS\u001B[0m\u001B[1;31mI\u001B[0m\u001B[1;31mL\u001B[0m\u001B[1;31mA\u001B[0m\u001B[1;31mL\u001B[0m\u001B[1;31mL\u001B[0m\u001B[1;31mA\u001B[0m\u001B[1;31mI\u001B[0m\u001B[1;31mA\u001B[0m\u001B[1;31mV\u001B[0m\u001B[1;34mD\u001B[0m\u001B[1;38;5;129mR\u001B[0m\u001B[1;32mY\u001B[0m\u001B[1;31mL\u001B[0m\u001B[1;38;5;129mR\u001B[0m\u001B[1;31mV\u001B[0m\u001B[1;38;5;129mK\u001B[0m\u001B[1;31mI\u001B[0m\u001B[1;31mP\u001B[0m\u001B[1;31mL\u001B[0m\u001B[1;38;5;129mR\u001B[0m\u001B[1;32mY\u001B[0m\u001B[1;38;5;129mK\u001B[0m\u001B[1;31mM\u001B[0m\u001B[1;31mV\u001B[0m\u001B[1;31mV\u001B[0m\u001B[1;32mT\u001B[0m\u001B[1;31mP\u001B[0m\u001B[1;38;5;129mR\u001B[0m\u001B[1;38;5;129mR\u001B[0m\u001B[1;31mA\u001B[0m\u001B[1;31mA\u001B[0m\u001B[1;31mV\u001B[0m\u001B[1;31mA\u001B[0m\u001B[1;31mI\u001B[0m\u001B[1;31mA\u001B[0m\u001B[1;32mG\u001B[0m\u001B[1;32mC\u001B[0m\u001B[1;31mW\u001B[0m\u001B[1;31mI\u001B[0m\u001B[1;31mL\u001B[0m\u001B[1;32mS\u001B[0m\u001B[1;31mF\u001B[0m\u001B[1;31mV\u001B[0m\u001B[1;31mV\u001B[0m\u001B[1;32mG\u001B[0m\u001B[1;31mL\u001B[0m\u001B[1;32mT\u001B[0m\u001B[1;31mP\u001B[0m\u001B[1;31mM\u001B[0m\u001B[1;31mF\u001B[0m\u001B[1;32mG\u001B[0m\u001B[1;31mW\u001B[0m\u001B[1;32mN\u001B[0m\u001B[1;32mN\u001B[0m\u001B[1;31mL\u001B[0m\u001B[1;32mS\u001B[0m\u001B[1;31mA\u001B[0m\u001B[1;31mV\u001B[0m\u001B[1;34mE\u001B[0m\u001B[1;38;5;129mR\u001B[0m\u001B[1;38;5;239m-\u001B[0m\u001B[1;38;5;239m-\u001B[0m\u001B[1;38;5;239m-\u001B[0m\u001B[1;38;5;239m-\u001B[0m\u001B[1;31mA\u001B[0m\u001B[1;31mW\u001B[0m\u001B[1;38;5;239m-\u001B[0m\u001B[1;38;5;239m-\u001B[0m\u001B[1;38;5;239m-\u001B[0m\u001B[1;31mA\u001B[0m\u001B[1;31mA\u001B[0m\u001B[1;32mN\u001B[0m\u001B[1;32mG\u001B[0m\u001B[1;32mS\u001B[0m\u001B[1;31mM\u001B[0m\u001B[1;32mG\u001B[0m\u001B[1;34mE\u001B[0m\u001B[1;31mP\u001B[0m\u001B[1;31mV\u001B[0m\u001B[1;31mI\u001B[0m\u001B[1;38;5;129mK\u001B[0m\u001B[1;32mC\u001B[0m\u001B[1;34mE\u001B[0m\u001B[1;31mF\u001B[0m\u001B[1;34mE\u001B[0m\u001B[1;38;5;129mK\u001B[0m\u001B[1;31mV\u001B[0m  │\n│ 1 AA2AR_H…   \u001B[1;36m 87\u001B[0m  \u001B[1;31mL\u001B[0m\u001B[1;32mT\u001B[0m\u001B[1;32mQ\u001B[0m\u001B[1;32mS\u001B[0m\u001B[1;32mS\u001B[0m\u001B[1;31mI\u001B[0m\u001B[1;31mF\u001B[0m\u001B[1;32mS\u001B[0m\u001B[1;31mL\u001B[0m\u001B[1;31mL\u001B[0m\u001B[1;31mA\u001B[0m\u001B[1;31mI\u001B[0m\u001B[1;31mA\u001B[0m\u001B[1;31mI\u001B[0m\u001B[1;34mD\u001B[0m\u001B[1;38;5;129mR\u001B[0m\u001B[1;32mY\u001B[0m\u001B[1;31mI\u001B[0m\u001B[1;31mA\u001B[0m\u001B[1;31mI\u001B[0m\u001B[1;38;5;129mR\u001B[0m\u001B[1;31mI\u001B[0m\u001B[1;31mP\u001B[0m\u001B[1;31mL\u001B[0m\u001B[1;38;5;129mR\u001B[0m\u001B[1;32mY\u001B[0m\u001B[1;32mN\u001B[0m\u001B[1;32mG\u001B[0m\u001B[1;31mL\u001B[0m\u001B[1;31mV\u001B[0m\u001B[1;32mT\u001B[0m\u001B[1;32mG\u001B[0m\u001B[1;32mT\u001B[0m\u001B[1;38;5;129mR\u001B[0m\u001B[1;31mA\u001B[0m\u001B[1;38;5;129mK\u001B[0m\u001B[1;32mG\u001B[0m\u001B[1;31mI\u001B[0m\u001B[1;31mI\u001B[0m\u001B[1;31mA\u001B[0m\u001B[1;31mI\u001B[0m\u001B[1;32mC\u001B[0m\u001B[1;31mW\u001B[0m\u001B[1;31mV\u001B[0m\u001B[1;31mL\u001B[0m\u001B[1;32mS\u001B[0m\u001B[1;31mF\u001B[0m\u001B[1;31mA\u001B[0m\u001B[1;31mI\u001B[0m\u001B[1;32mG\u001B[0m\u001B[1;31mL\u001B[0m\u001B[1;32mT\u001B[0m\u001B[1;31mP\u001B[0m\u001B[1;31mM\u001B[0m\u001B[1;31mL\u001B[0m\u001B[1;32mG\u001B[0m\u001B[1;31mW\u001B[0m\u001B[1;32mN\u001B[0m\u001B[1;38;5;239m-\u001B[0m\u001B[1;38;5;239m-\u001B[0m\u001B[1;38;5;239m-\u001B[0m\u001B[1;38;5;239m-\u001B[0m\u001B[1;38;5;239m-\u001B[0m\u001B[1;38;5;239m-\u001B[0m\u001B[1;38;5;239m-\u001B[0m\u001B[1;32mN\u001B[0m\u001B[1;32mC\u001B[0m\u001B[1;32mG\u001B[0m\u001B[1;32mQ\u001B[0m\u001B[1;31mP\u001B[0m\u001B[1;38;5;129mK\u001B[0m\u001B[1;34mE\u001B[0m\u001B[1;32mG\u001B[0m\u001B[1;38;5;129mK\u001B[0m\u001B[1;32mN\u001B[0m\u001B[1;32mH\u001B[0m\u001B[1;32mS\u001B[0m\u001B[1;32mQ\u001B[0m\u001B[1;32mG\u001B[0m\u001B[1;32mC\u001B[0m\u001B[1;32mG\u001B[0m\u001B[1;34mE\u001B[0m\u001B[1;32mG\u001B[0m\u001B[1;32mQ\u001B[0m\u001B[1;31mV\u001B[0m\u001B[1;31mA\u001B[0m\u001B[1;32mC\u001B[0m\u001B[1;31mL\u001B[0m\u001B[1;31mF\u001B[0m\u001B[1;34mE\u001B[0m\u001B[1;34mD\u001B[0m\u001B[1;31mV\u001B[0m  │\n│ 2 AA2BR_H…   \u001B[1;36m 88\u001B[0m  \u001B[1;31mL\u001B[0m\u001B[1;32mT\u001B[0m\u001B[1;32mQ\u001B[0m\u001B[1;32mS\u001B[0m\u001B[1;32mS\u001B[0m\u001B[1;31mI\u001B[0m\u001B[1;31mF\u001B[0m\u001B[1;32mS\u001B[0m\u001B[1;31mL\u001B[0m\u001B[1;31mL\u001B[0m\u001B[1;31mA\u001B[0m\u001B[1;31mV\u001B[0m\u001B[1;31mA\u001B[0m\u001B[1;31mV\u001B[0m\u001B[1;34mD\u001B[0m\u001B[1;38;5;129mR\u001B[0m\u001B[1;32mY\u001B[0m\u001B[1;31mL\u001B[0m\u001B[1;31mA\u001B[0m\u001B[1;31mI\u001B[0m\u001B[1;32mC\u001B[0m\u001B[1;31mV\u001B[0m\u001B[1;31mP\u001B[0m\u001B[1;31mL\u001B[0m\u001B[1;38;5;129mR\u001B[0m\u001B[1;32mY\u001B[0m\u001B[1;38;5;129mK\u001B[0m\u001B[1;32mS\u001B[0m\u001B[1;31mL\u001B[0m\u001B[1;31mV\u001B[0m\u001B[1;32mT\u001B[0m\u001B[1;32mG\u001B[0m\u001B[1;32mT\u001B[0m\u001B[1;38;5;129mR\u001B[0m\u001B[1;31mA\u001B[0m\u001B[1;38;5;129mR\u001B[0m\u001B[1;32mG\u001B[0m\u001B[1;31mV\u001B[0m\u001B[1;31mI\u001B[0m\u001B[1;31mA\u001B[0m\u001B[1;31mV\u001B[0m\u001B[1;31mL\u001B[0m\u001B[1;31mW\u001B[0m\u001B[1;31mV\u001B[0m\u001B[1;31mL\u001B[0m\u001B[1;31mA\u001B[0m\u001B[1;31mF\u001B[0m\u001B[1;32mG\u001B[0m\u001B[1;31mI\u001B[0m\u001B[1;32mG\u001B[0m\u001B[1;31mL\u001B[0m\u001B[1;32mT\u001B[0m\u001B[1;31mP\u001B[0m\u001B[1;31mF\u001B[0m\u001B[1;31mL\u001B[0m\u001B[1;32mG\u001B[0m\u001B[1;31mW\u001B[0m\u001B[1;32mN\u001B[0m\u001B[1;32mS\u001B[0m\u001B[1;38;5;129mK\u001B[0m\u001B[1;34mD\u001B[0m\u001B[1;32mS\u001B[0m\u001B[1;31mA\u001B[0m\u001B[1;32mT\u001B[0m\u001B[1;32mN\u001B[0m\u001B[1;32mN\u001B[0m\u001B[1;32mC\u001B[0m\u001B[1;32mT\u001B[0m\u001B[1;34mE\u001B[0m\u001B[1;31mP\u001B[0m\u001B[1;31mW\u001B[0m\u001B[1;34mD\u001B[0m\u001B[1;32mG\u001B[0m\u001B[1;32mT\u001B[0m\u001B[1;32mT\u001B[0m\u001B[1;32mN\u001B[0m\u001B[1;34mE\u001B[0m\u001B[1;32mS\u001B[0m\u001B[1;32mC\u001B[0m\u001B[1;32mC\u001B[0m\u001B[1;38;5;239m-\u001B[0m\u001B[1;38;5;239m-\u001B[0m\u001B[1;38;5;239m-\u001B[0m\u001B[1;31mL\u001B[0m\u001B[1;31mV\u001B[0m\u001B[1;38;5;129mK\u001B[0m\u001B[1;32mC\u001B[0m\u001B[1;31mL\u001B[0m\u001B[1;31mF\u001B[0m\u001B[1;34mE\u001B[0m\u001B[1;32mN\u001B[0m\u001B[1;31mV\u001B[0m  │\n│ 3 AA3R_HU…   \u001B[1;36m 93\u001B[0m  \u001B[1;31mF\u001B[0m\u001B[1;32mT\u001B[0m\u001B[1;32mH\u001B[0m\u001B[1;31mA\u001B[0m\u001B[1;32mS\u001B[0m\u001B[1;31mI\u001B[0m\u001B[1;31mM\u001B[0m\u001B[1;32mS\u001B[0m\u001B[1;31mL\u001B[0m\u001B[1;31mL\u001B[0m\u001B[1;31mA\u001B[0m\u001B[1;31mI\u001B[0m\u001B[1;31mA\u001B[0m\u001B[1;31mV\u001B[0m\u001B[1;34mD\u001B[0m\u001B[1;38;5;129mR\u001B[0m\u001B[1;32mY\u001B[0m\u001B[1;31mL\u001B[0m\u001B[1;38;5;129mR\u001B[0m\u001B[1;31mV\u001B[0m\u001B[1;38;5;129mK\u001B[0m\u001B[1;31mL\u001B[0m\u001B[1;32mT\u001B[0m\u001B[1;31mV\u001B[0m\u001B[1;38;5;129mR\u001B[0m\u001B[1;32mY\u001B[0m\u001B[1;38;5;129mK\u001B[0m\u001B[1;38;5;129mR\u001B[0m\u001B[1;31mV\u001B[0m\u001B[1;32mT\u001B[0m\u001B[1;32mT\u001B[0m\u001B[1;32mH\u001B[0m\u001B[1;38;5;129mR\u001B[0m\u001B[1;38;5;129mR\u001B[0m\u001B[1;31mI\u001B[0m\u001B[1;31mW\u001B[0m\u001B[1;31mL\u001B[0m\u001B[1;31mA\u001B[0m\u001B[1;31mL\u001B[0m\u001B[1;32mG\u001B[0m\u001B[1;31mL\u001B[0m\u001B[1;32mC\u001B[0m\u001B[1;31mW\u001B[0m\u001B[1;31mL\u001B[0m\u001B[1;31mV\u001B[0m\u001B[1;32mS\u001B[0m\u001B[1;31mF\u001B[0m\u001B[1;31mL\u001B[0m\u001B[1;31mV\u001B[0m\u001B[1;32mG\u001B[0m\u001B[1;31mL\u001B[0m\u001B[1;32mT\u001B[0m\u001B[1;31mP\u001B[0m\u001B[1;31mM\u001B[0m\u001B[1;31mF\u001B[0m\u001B[1;32mG\u001B[0m\u001B[1;31mW\u001B[0m\u001B[1;32mN\u001B[0m\u001B[1;31mM\u001B[0m\u001B[1;38;5;129mK\u001B[0m\u001B[1;31mL\u001B[0m\u001B[1;32mT\u001B[0m\u001B[1;32mS\u001B[0m\u001B[1;34mE\u001B[0m\u001B[1;32mY\u001B[0m\u001B[1;32mH\u001B[0m\u001B[1;38;5;129mR\u001B[0m\u001B[1;38;5;239m-\u001B[0m\u001B[1;38;5;239m-\u001B[0m\u001B[1;38;5;239m-\u001B[0m\u001B[1;38;5;239m-\u001B[0m\u001B[1;38;5;239m-\u001B[0m\u001B[1;38;5;239m-\u001B[0m\u001B[1;38;5;239m-\u001B[0m\u001B[1;38;5;239m-\u001B[0m\u001B[1;38;5;239m-\u001B[0m\u001B[1;38;5;239m-\u001B[0m\u001B[1;38;5;239m-\u001B[0m\u001B[1;38;5;239m-\u001B[0m\u001B[1;38;5;239m-\u001B[0m\u001B[1;32mN\u001B[0m\u001B[1;31mV\u001B[0m\u001B[1;32mT\u001B[0m\u001B[1;31mF\u001B[0m\u001B[1;31mL\u001B[0m\u001B[1;32mS\u001B[0m\u001B[1;32mC\u001B[0m\u001B[1;32mQ\u001B[0m\u001B[1;31mF\u001B[0m\u001B[1;31mV\u001B[0m\u001B[1;32mS\u001B[0m\u001B[1;31mV\u001B[0m  │\n│                                                                                                                 │\n│ 0 AA1R_HU…   \u001B[1;36m175\u001B[0m  \u001B[1;31mI\u001B[0m\u001B[1;32mS\u001B[0m\u001B[1;31mM\u001B[0m\u001B[1;34mE\u001B[0m\u001B[1;32mY\u001B[0m\u001B[1;31mM\u001B[0m\u001B[1;31mV\u001B[0m\u001B[1;32mY\u001B[0m\u001B[1;31mF\u001B[0m\u001B[1;32mN\u001B[0m\u001B[1;31mF\u001B[0m\u001B[1;31mF\u001B[0m\u001B[1;31mV\u001B[0m\u001B[1;31mW\u001B[0m\u001B[1;31mV\u001B[0m\u001B[1;31mL\u001B[0m\u001B[1;31mP\u001B[0m\u001B[1;31mP\u001B[0m\u001B[1;31mL\u001B[0m\u001B[1;31mL\u001B[0m\u001B[1;31mL\u001B[0m\u001B[1;31mM\u001B[0m\u001B[1;31mV\u001B[0m\u001B[1;31mL\u001B[0m\u001B[1;31mI\u001B[0m\u001B[1;32mY\u001B[0m\u001B[1;31mL\u001B[0m\u001B[1;34mE\u001B[0m\u001B[1;31mV\u001B[0m\u001B[1;31mF\u001B[0m\u001B[1;32mY\u001B[0m\u001B[1;31mL\u001B[0m\u001B[1;31mI\u001B[0m\u001B[1;38;5;129mR\u001B[0m\u001B[1;38;5;129mK\u001B[0m\u001B[1;32mQ\u001B[0m\u001B[1;31mL\u001B[0m\u001B[1;32mN\u001B[0m\u001B[1;38;5;129mK\u001B[0m\u001B[1;38;5;129mK\u001B[0m\u001B[1;31mV\u001B[0m\u001B[1;32mS\u001B[0m\u001B[1;31mA\u001B[0m\u001B[1;32mS\u001B[0m\u001B[1;38;5;239m-\u001B[0m\u001B[1;38;5;239m-\u001B[0m\u001B[1;32mS\u001B[0m\u001B[1;32mG\u001B[0m\u001B[1;34mD\u001B[0m\u001B[1;31mP\u001B[0m\u001B[1;32mQ\u001B[0m\u001B[1;38;5;129mK\u001B[0m\u001B[1;32mY\u001B[0m\u001B[1;32mY\u001B[0m\u001B[1;32mG\u001B[0m\u001B[1;38;5;129mK\u001B[0m\u001B[1;34mE\u001B[0m\u001B[1;31mL\u001B[0m\u001B[1;38;5;129mK\u001B[0m\u001B[1;31mI\u001B[0m\u001B[1;31mA\u001B[0m\u001B[1;38;5;129mK\u001B[0m\u001B[1;32mS\u001B[0m\u001B[1;31mL\u001B[0m\u001B[1;31mA\u001B[0m\u001B[1;31mL\u001B[0m\u001B[1;31mI\u001B[0m\u001B[1;31mL\u001B[0m\u001B[1;31mF\u001B[0m\u001B[1;31mL\u001B[0m\u001B[1;31mF\u001B[0m\u001B[1;31mA\u001B[0m\u001B[1;31mL\u001B[0m\u001B[1;32mS\u001B[0m\u001B[1;31mW\u001B[0m\u001B[1;31mL\u001B[0m\u001B[1;31mP\u001B[0m\u001B[1;31mL\u001B[0m\u001B[1;32mH\u001B[0m\u001B[1;31mI\u001B[0m\u001B[1;31mL\u001B[0m\u001B[1;32mN\u001B[0m\u001B[1;32mC\u001B[0m\u001B[1;31mI\u001B[0m\u001B[1;32mT\u001B[0m\u001B[1;31mL\u001B[0m\u001B[1;31mF\u001B[0m\u001B[1;32mC\u001B[0m\u001B[1;31mP\u001B[0m\u001B[1;32mS\u001B[0m\u001B[1;32mC\u001B[0m\u001B[1;38;5;239m-\u001B[0m  │\n│ 1 AA2AR_H…   \u001B[1;36m172\u001B[0m  \u001B[1;31mV\u001B[0m\u001B[1;31mP\u001B[0m\u001B[1;31mM\u001B[0m\u001B[1;32mN\u001B[0m\u001B[1;32mY\u001B[0m\u001B[1;31mM\u001B[0m\u001B[1;31mV\u001B[0m\u001B[1;32mY\u001B[0m\u001B[1;31mF\u001B[0m\u001B[1;32mN\u001B[0m\u001B[1;31mF\u001B[0m\u001B[1;31mF\u001B[0m\u001B[1;31mA\u001B[0m\u001B[1;32mC\u001B[0m\u001B[1;31mV\u001B[0m\u001B[1;31mL\u001B[0m\u001B[1;31mV\u001B[0m\u001B[1;31mP\u001B[0m\u001B[1;31mL\u001B[0m\u001B[1;31mL\u001B[0m\u001B[1;31mL\u001B[0m\u001B[1;31mM\u001B[0m\u001B[1;31mL\u001B[0m\u001B[1;32mG\u001B[0m\u001B[1;31mV\u001B[0m\u001B[1;32mY\u001B[0m\u001B[1;31mL\u001B[0m\u001B[1;38;5;129mR\u001B[0m\u001B[1;31mI\u001B[0m\u001B[1;31mF\u001B[0m\u001B[1;31mL\u001B[0m\u001B[1;31mA\u001B[0m\u001B[1;31mA\u001B[0m\u001B[1;38;5;129mR\u001B[0m\u001B[1;38;5;129mR\u001B[0m\u001B[1;32mQ\u001B[0m\u001B[1;31mL\u001B[0m\u001B[1;38;5;129mK\u001B[0m\u001B[1;32mQ\u001B[0m\u001B[1;31mM\u001B[0m\u001B[1;34mE\u001B[0m\u001B[1;32mS\u001B[0m\u001B[1;32mQ\u001B[0m\u001B[1;31mP\u001B[0m\u001B[1;31mL\u001B[0m\u001B[1;31mP\u001B[0m\u001B[1;32mG\u001B[0m\u001B[1;34mE\u001B[0m\u001B[1;38;5;129mR\u001B[0m\u001B[1;31mA\u001B[0m\u001B[1;38;5;129mR\u001B[0m\u001B[1;32mS\u001B[0m\u001B[1;32mT\u001B[0m\u001B[1;31mL\u001B[0m\u001B[1;32mQ\u001B[0m\u001B[1;38;5;129mK\u001B[0m\u001B[1;34mE\u001B[0m\u001B[1;31mV\u001B[0m\u001B[1;32mH\u001B[0m\u001B[1;31mA\u001B[0m\u001B[1;31mA\u001B[0m\u001B[1;38;5;129mK\u001B[0m\u001B[1;32mS\u001B[0m\u001B[1;31mL\u001B[0m\u001B[1;31mA\u001B[0m\u001B[1;31mI\u001B[0m\u001B[1;31mI\u001B[0m\u001B[1;31mV\u001B[0m\u001B[1;32mG\u001B[0m\u001B[1;31mL\u001B[0m\u001B[1;31mF\u001B[0m\u001B[1;31mA\u001B[0m\u001B[1;31mL\u001B[0m\u001B[1;32mC\u001B[0m\u001B[1;31mW\u001B[0m\u001B[1;31mL\u001B[0m\u001B[1;31mP\u001B[0m\u001B[1;31mL\u001B[0m\u001B[1;32mH\u001B[0m\u001B[1;31mI\u001B[0m\u001B[1;31mI\u001B[0m\u001B[1;32mN\u001B[0m\u001B[1;32mC\u001B[0m\u001B[1;31mF\u001B[0m\u001B[1;32mT\u001B[0m\u001B[1;31mF\u001B[0m\u001B[1;31mF\u001B[0m\u001B[1;32mC\u001B[0m\u001B[1;31mP\u001B[0m\u001B[1;34mD\u001B[0m\u001B[1;32mC\u001B[0m\u001B[1;32mS\u001B[0m  │\n│ 2 AA2BR_H…   \u001B[1;36m177\u001B[0m  \u001B[1;31mV\u001B[0m\u001B[1;31mP\u001B[0m\u001B[1;31mM\u001B[0m\u001B[1;32mS\u001B[0m\u001B[1;32mY\u001B[0m\u001B[1;31mM\u001B[0m\u001B[1;31mV\u001B[0m\u001B[1;32mY\u001B[0m\u001B[1;31mF\u001B[0m\u001B[1;32mN\u001B[0m\u001B[1;31mF\u001B[0m\u001B[1;31mF\u001B[0m\u001B[1;32mG\u001B[0m\u001B[1;32mC\u001B[0m\u001B[1;31mV\u001B[0m\u001B[1;31mL\u001B[0m\u001B[1;31mP\u001B[0m\u001B[1;31mP\u001B[0m\u001B[1;31mL\u001B[0m\u001B[1;31mL\u001B[0m\u001B[1;31mI\u001B[0m\u001B[1;31mM\u001B[0m\u001B[1;31mL\u001B[0m\u001B[1;31mV\u001B[0m\u001B[1;31mI\u001B[0m\u001B[1;32mY\u001B[0m\u001B[1;31mI\u001B[0m\u001B[1;38;5;129mK\u001B[0m\u001B[1;31mI\u001B[0m\u001B[1;31mF\u001B[0m\u001B[1;31mL\u001B[0m\u001B[1;31mV\u001B[0m\u001B[1;31mA\u001B[0m\u001B[1;32mC\u001B[0m\u001B[1;38;5;129mR\u001B[0m\u001B[1;32mQ\u001B[0m\u001B[1;31mL\u001B[0m\u001B[1;32mQ\u001B[0m\u001B[1;38;5;129mR\u001B[0m\u001B[1;32mT\u001B[0m\u001B[1;34mE\u001B[0m\u001B[1;31mL\u001B[0m\u001B[1;38;5;239m-\u001B[0m\u001B[1;38;5;239m-\u001B[0m\u001B[1;38;5;239m-\u001B[0m\u001B[1;38;5;239m-\u001B[0m\u001B[1;31mM\u001B[0m\u001B[1;34mD\u001B[0m\u001B[1;32mH\u001B[0m\u001B[1;32mS\u001B[0m\u001B[1;38;5;129mR\u001B[0m\u001B[1;32mT\u001B[0m\u001B[1;32mT\u001B[0m\u001B[1;31mL\u001B[0m\u001B[1;32mQ\u001B[0m\u001B[1;38;5;129mR\u001B[0m\u001B[1;34mE\u001B[0m\u001B[1;31mI\u001B[0m\u001B[1;32mH\u001B[0m\u001B[1;31mA\u001B[0m\u001B[1;31mA\u001B[0m\u001B[1;38;5;129mK\u001B[0m\u001B[1;32mS\u001B[0m\u001B[1;31mL\u001B[0m\u001B[1;31mA\u001B[0m\u001B[1;31mM\u001B[0m\u001B[1;31mI\u001B[0m\u001B[1;31mV\u001B[0m\u001B[1;32mG\u001B[0m\u001B[1;31mI\u001B[0m\u001B[1;31mF\u001B[0m\u001B[1;31mA\u001B[0m\u001B[1;31mL\u001B[0m\u001B[1;32mC\u001B[0m\u001B[1;31mW\u001B[0m\u001B[1;31mL\u001B[0m\u001B[1;31mP\u001B[0m\u001B[1;31mV\u001B[0m\u001B[1;32mH\u001B[0m\u001B[1;31mA\u001B[0m\u001B[1;31mV\u001B[0m\u001B[1;32mN\u001B[0m\u001B[1;32mC\u001B[0m\u001B[1;31mV\u001B[0m\u001B[1;32mT\u001B[0m\u001B[1;31mL\u001B[0m\u001B[1;31mF\u001B[0m\u001B[1;32mQ\u001B[0m\u001B[1;31mP\u001B[0m\u001B[1;31mA\u001B[0m\u001B[1;32mQ\u001B[0m\u001B[1;32mG\u001B[0m  │\n│ 3 AA3R_HU…   \u001B[1;36m172\u001B[0m  \u001B[1;31mM\u001B[0m\u001B[1;38;5;129mR\u001B[0m\u001B[1;31mM\u001B[0m\u001B[1;34mD\u001B[0m\u001B[1;32mY\u001B[0m\u001B[1;31mM\u001B[0m\u001B[1;31mV\u001B[0m\u001B[1;32mY\u001B[0m\u001B[1;31mF\u001B[0m\u001B[1;32mS\u001B[0m\u001B[1;31mF\u001B[0m\u001B[1;31mL\u001B[0m\u001B[1;32mT\u001B[0m\u001B[1;31mW\u001B[0m\u001B[1;31mI\u001B[0m\u001B[1;31mF\u001B[0m\u001B[1;31mI\u001B[0m\u001B[1;31mP\u001B[0m\u001B[1;31mL\u001B[0m\u001B[1;31mV\u001B[0m\u001B[1;31mV\u001B[0m\u001B[1;31mM\u001B[0m\u001B[1;32mC\u001B[0m\u001B[1;31mA\u001B[0m\u001B[1;31mI\u001B[0m\u001B[1;32mY\u001B[0m\u001B[1;31mL\u001B[0m\u001B[1;34mD\u001B[0m\u001B[1;31mI\u001B[0m\u001B[1;31mF\u001B[0m\u001B[1;32mY\u001B[0m\u001B[1;31mI\u001B[0m\u001B[1;31mI\u001B[0m\u001B[1;38;5;129mR\u001B[0m\u001B[1;32mN\u001B[0m\u001B[1;38;5;129mK\u001B[0m\u001B[1;31mL\u001B[0m\u001B[1;32mS\u001B[0m\u001B[1;31mL\u001B[0m\u001B[1;32mN\u001B[0m\u001B[1;31mL\u001B[0m\u001B[1;32mS\u001B[0m\u001B[1;32mN\u001B[0m\u001B[1;38;5;239m-\u001B[0m\u001B[1;38;5;239m-\u001B[0m\u001B[1;38;5;239m-\u001B[0m\u001B[1;32mS\u001B[0m\u001B[1;38;5;129mK\u001B[0m\u001B[1;34mE\u001B[0m\u001B[1;32mT\u001B[0m\u001B[1;32mG\u001B[0m\u001B[1;31mA\u001B[0m\u001B[1;31mF\u001B[0m\u001B[1;32mY\u001B[0m\u001B[1;32mG\u001B[0m\u001B[1;38;5;129mR\u001B[0m\u001B[1;34mE\u001B[0m\u001B[1;31mF\u001B[0m\u001B[1;38;5;129mK\u001B[0m\u001B[1;32mT\u001B[0m\u001B[1;31mA\u001B[0m\u001B[1;38;5;129mK\u001B[0m\u001B[1;32mS\u001B[0m\u001B[1;31mL\u001B[0m\u001B[1;31mF\u001B[0m\u001B[1;31mL\u001B[0m\u001B[1;31mV\u001B[0m\u001B[1;31mL\u001B[0m\u001B[1;31mF\u001B[0m\u001B[1;31mL\u001B[0m\u001B[1;31mF\u001B[0m\u001B[1;31mA\u001B[0m\u001B[1;31mL\u001B[0m\u001B[1;32mS\u001B[0m\u001B[1;31mW\u001B[0m\u001B[1;31mL\u001B[0m\u001B[1;31mP\u001B[0m\u001B[1;31mL\u001B[0m\u001B[1;32mS\u001B[0m\u001B[1;31mI\u001B[0m\u001B[1;31mI\u001B[0m\u001B[1;32mN\u001B[0m\u001B[1;32mC\u001B[0m\u001B[1;31mI\u001B[0m\u001B[1;31mI\u001B[0m\u001B[1;32mY\u001B[0m\u001B[1;31mF\u001B[0m\u001B[1;32mN\u001B[0m\u001B[1;32mG\u001B[0m\u001B[1;38;5;239m-\u001B[0m\u001B[1;38;5;239m-\u001B[0m\u001B[1;38;5;239m-\u001B[0m  │\n│                                                                                                                 │\n│ 0 AA1R_HU…   \u001B[1;36m264\u001B[0m  \u001B[1;38;5;239m-\u001B[0m\u001B[1;32mH\u001B[0m\u001B[1;38;5;129mK\u001B[0m\u001B[1;31mP\u001B[0m\u001B[1;32mS\u001B[0m\u001B[1;31mI\u001B[0m\u001B[1;31mL\u001B[0m\u001B[1;32mT\u001B[0m\u001B[1;32mY\u001B[0m\u001B[1;31mI\u001B[0m\u001B[1;31mA\u001B[0m\u001B[1;31mI\u001B[0m\u001B[1;31mF\u001B[0m\u001B[1;31mL\u001B[0m\u001B[1;32mT\u001B[0m\u001B[1;32mH\u001B[0m\u001B[1;32mG\u001B[0m\u001B[1;32mN\u001B[0m\u001B[1;32mS\u001B[0m\u001B[1;31mA\u001B[0m\u001B[1;31mM\u001B[0m\u001B[1;32mN\u001B[0m\u001B[1;31mP\u001B[0m\u001B[1;31mI\u001B[0m\u001B[1;31mV\u001B[0m\u001B[1;32mY\u001B[0m\u001B[1;31mA\u001B[0m\u001B[1;31mF\u001B[0m\u001B[1;38;5;129mR\u001B[0m\u001B[1;31mI\u001B[0m\u001B[1;32mQ\u001B[0m\u001B[1;38;5;129mK\u001B[0m\u001B[1;31mF\u001B[0m\u001B[1;38;5;129mR\u001B[0m\u001B[1;31mV\u001B[0m\u001B[1;32mT\u001B[0m\u001B[1;31mF\u001B[0m\u001B[1;31mL\u001B[0m\u001B[1;38;5;129mK\u001B[0m\u001B[1;31mI\u001B[0m\u001B[1;31mW\u001B[0m\u001B[1;32mN\u001B[0m\u001B[1;34mD\u001B[0m\u001B[1;32mH\u001B[0m\u001B[1;31mF\u001B[0m\u001B[1;38;5;129mR\u001B[0m\u001B[1;32mC\u001B[0m\u001B[1;32mQ\u001B[0m\u001B[1;31mP\u001B[0m\u001B[1;31mA\u001B[0m\u001B[1;31mP\u001B[0m\u001B[1;31mP\u001B[0m\u001B[1;31mI\u001B[0m\u001B[1;34mD\u001B[0m\u001B[1;34mE\u001B[0m\u001B[1;34mD\u001B[0m\u001B[1;31mL\u001B[0m\u001B[1;31mP\u001B[0m\u001B[1;34mE\u001B[0m\u001B[1;34mE\u001B[0m\u001B[1;38;5;129mR\u001B[0m\u001B[1;31mP\u001B[0m\u001B[1;34mD\u001B[0m\u001B[1;34mD\u001B[0m\u001B[1;38;5;239m-\u001B[0m\u001B[1;38;5;239m-\u001B[0m\u001B[1;38;5;239m-\u001B[0m\u001B[1;38;5;239m-\u001B[0m\u001B[1;38;5;239m-\u001B[0m\u001B[1;38;5;239m-\u001B[0m\u001B[1;38;5;239m-\u001B[0m\u001B[1;38;5;239m-\u001B[0m\u001B[1;38;5;239m-\u001B[0m\u001B[1;38;5;239m-\u001B[0m\u001B[1;38;5;239m-\u001B[0m\u001B[1;38;5;239m-\u001B[0m\u001B[1;38;5;239m-\u001B[0m\u001B[1;38;5;239m-\u001B[0m\u001B[1;38;5;239m-\u001B[0m\u001B[1;38;5;239m-\u001B[0m\u001B[1;38;5;239m-\u001B[0m\u001B[1;38;5;239m-\u001B[0m\u001B[1;38;5;239m-\u001B[0m\u001B[1;38;5;239m-\u001B[0m\u001B[1;38;5;239m-\u001B[0m\u001B[1;38;5;239m-\u001B[0m\u001B[1;38;5;239m-\u001B[0m\u001B[1;38;5;239m-\u001B[0m\u001B[1;38;5;239m-\u001B[0m\u001B[1;38;5;239m-\u001B[0m\u001B[1;38;5;239m-\u001B[0m\u001B[1;38;5;239m-\u001B[0m  │\n│ 1 AA2AR_H…   \u001B[1;36m264\u001B[0m  \u001B[1;38;5;239m-\u001B[0m\u001B[1;32mH\u001B[0m\u001B[1;31mA\u001B[0m\u001B[1;31mP\u001B[0m\u001B[1;31mL\u001B[0m\u001B[1;31mW\u001B[0m\u001B[1;31mL\u001B[0m\u001B[1;31mM\u001B[0m\u001B[1;32mY\u001B[0m\u001B[1;31mL\u001B[0m\u001B[1;31mA\u001B[0m\u001B[1;31mI\u001B[0m\u001B[1;31mV\u001B[0m\u001B[1;31mL\u001B[0m\u001B[1;32mS\u001B[0m\u001B[1;32mH\u001B[0m\u001B[1;32mT\u001B[0m\u001B[1;32mN\u001B[0m\u001B[1;32mS\u001B[0m\u001B[1;31mV\u001B[0m\u001B[1;31mV\u001B[0m\u001B[1;32mN\u001B[0m\u001B[1;31mP\u001B[0m\u001B[1;31mF\u001B[0m\u001B[1;31mI\u001B[0m\u001B[1;32mY\u001B[0m\u001B[1;31mA\u001B[0m\u001B[1;32mY\u001B[0m\u001B[1;38;5;129mR\u001B[0m\u001B[1;31mI\u001B[0m\u001B[1;38;5;129mR\u001B[0m\u001B[1;34mE\u001B[0m\u001B[1;31mF\u001B[0m\u001B[1;38;5;129mR\u001B[0m\u001B[1;32mQ\u001B[0m\u001B[1;32mT\u001B[0m\u001B[1;31mF\u001B[0m\u001B[1;38;5;129mR\u001B[0m\u001B[1;38;5;129mK\u001B[0m\u001B[1;31mI\u001B[0m\u001B[1;31mI\u001B[0m\u001B[1;38;5;129mR\u001B[0m\u001B[1;32mS\u001B[0m\u001B[1;32mH\u001B[0m\u001B[1;31mV\u001B[0m\u001B[1;31mL\u001B[0m\u001B[1;38;5;129mR\u001B[0m\u001B[1;32mQ\u001B[0m\u001B[1;32mQ\u001B[0m\u001B[1;34mE\u001B[0m\u001B[1;31mP\u001B[0m\u001B[1;31mF\u001B[0m\u001B[1;38;5;129mK\u001B[0m\u001B[1;31mA\u001B[0m\u001B[1;31mA\u001B[0m\u001B[1;32mG\u001B[0m\u001B[1;32mT\u001B[0m\u001B[1;32mS\u001B[0m\u001B[1;31mA\u001B[0m\u001B[1;38;5;129mR\u001B[0m\u001B[1;31mV\u001B[0m\u001B[1;31mL\u001B[0m\u001B[1;31mA\u001B[0m\u001B[1;31mA\u001B[0m\u001B[1;32mH\u001B[0m\u001B[1;32mG\u001B[0m\u001B[1;32mS\u001B[0m\u001B[1;34mD\u001B[0m\u001B[1;32mG\u001B[0m\u001B[1;34mE\u001B[0m\u001B[1;32mQ\u001B[0m\u001B[1;31mV\u001B[0m\u001B[1;32mS\u001B[0m\u001B[1;31mL\u001B[0m\u001B[1;38;5;129mR\u001B[0m\u001B[1;31mL\u001B[0m\u001B[1;32mN\u001B[0m\u001B[1;32mG\u001B[0m\u001B[1;32mH\u001B[0m\u001B[1;31mP\u001B[0m\u001B[1;31mP\u001B[0m\u001B[1;32mG\u001B[0m\u001B[1;31mV\u001B[0m\u001B[1;31mW\u001B[0m\u001B[1;31mA\u001B[0m\u001B[1;32mN\u001B[0m\u001B[1;32mG\u001B[0m\u001B[1;32mS\u001B[0m\u001B[1;31mA\u001B[0m\u001B[1;31mP\u001B[0m\u001B[1;32mH\u001B[0m\u001B[1;31mP\u001B[0m  │\n│ 2 AA2BR_H…   \u001B[1;36m265\u001B[0m  \u001B[1;38;5;129mK\u001B[0m\u001B[1;32mN\u001B[0m\u001B[1;38;5;129mK\u001B[0m\u001B[1;31mP\u001B[0m\u001B[1;38;5;129mK\u001B[0m\u001B[1;31mW\u001B[0m\u001B[1;31mA\u001B[0m\u001B[1;31mM\u001B[0m\u001B[1;32mN\u001B[0m\u001B[1;31mM\u001B[0m\u001B[1;31mA\u001B[0m\u001B[1;31mI\u001B[0m\u001B[1;31mL\u001B[0m\u001B[1;31mL\u001B[0m\u001B[1;32mS\u001B[0m\u001B[1;32mH\u001B[0m\u001B[1;31mA\u001B[0m\u001B[1;32mN\u001B[0m\u001B[1;32mS\u001B[0m\u001B[1;31mV\u001B[0m\u001B[1;31mV\u001B[0m\u001B[1;32mN\u001B[0m\u001B[1;31mP\u001B[0m\u001B[1;31mI\u001B[0m\u001B[1;31mV\u001B[0m\u001B[1;32mY\u001B[0m\u001B[1;31mA\u001B[0m\u001B[1;32mY\u001B[0m\u001B[1;38;5;129mR\u001B[0m\u001B[1;32mN\u001B[0m\u001B[1;38;5;129mR\u001B[0m\u001B[1;34mD\u001B[0m\u001B[1;31mF\u001B[0m\u001B[1;38;5;129mR\u001B[0m\u001B[1;32mY\u001B[0m\u001B[1;32mT\u001B[0m\u001B[1;31mF\u001B[0m\u001B[1;32mH\u001B[0m\u001B[1;38;5;129mK\u001B[0m\u001B[1;31mI\u001B[0m\u001B[1;31mI\u001B[0m\u001B[1;32mS\u001B[0m\u001B[1;38;5;129mR\u001B[0m\u001B[1;32mY\u001B[0m\u001B[1;31mL\u001B[0m\u001B[1;31mL\u001B[0m\u001B[1;32mC\u001B[0m\u001B[1;32mQ\u001B[0m\u001B[1;31mA\u001B[0m\u001B[1;34mD\u001B[0m\u001B[1;31mV\u001B[0m\u001B[1;38;5;129mK\u001B[0m\u001B[1;32mS\u001B[0m\u001B[1;32mG\u001B[0m\u001B[1;32mN\u001B[0m\u001B[1;32mG\u001B[0m\u001B[1;32mQ\u001B[0m\u001B[1;38;5;239m-\u001B[0m\u001B[1;38;5;239m-\u001B[0m\u001B[1;38;5;239m-\u001B[0m\u001B[1;38;5;239m-\u001B[0m\u001B[1;38;5;239m-\u001B[0m\u001B[1;38;5;239m-\u001B[0m\u001B[1;38;5;239m-\u001B[0m\u001B[1;38;5;239m-\u001B[0m\u001B[1;38;5;239m-\u001B[0m\u001B[1;38;5;239m-\u001B[0m\u001B[1;31mA\u001B[0m\u001B[1;32mG\u001B[0m\u001B[1;31mV\u001B[0m\u001B[1;32mQ\u001B[0m\u001B[1;31mP\u001B[0m\u001B[1;31mA\u001B[0m\u001B[1;31mL\u001B[0m\u001B[1;32mG\u001B[0m\u001B[1;31mV\u001B[0m\u001B[1;32mG\u001B[0m\u001B[1;31mL\u001B[0m\u001B[1;38;5;239m-\u001B[0m\u001B[1;38;5;239m-\u001B[0m\u001B[1;38;5;239m-\u001B[0m\u001B[1;38;5;239m-\u001B[0m\u001B[1;38;5;239m-\u001B[0m\u001B[1;38;5;239m-\u001B[0m\u001B[1;38;5;239m-\u001B[0m\u001B[1;38;5;239m-\u001B[0m\u001B[1;38;5;239m-\u001B[0m\u001B[1;38;5;239m-\u001B[0m\u001B[1;38;5;239m-\u001B[0m\u001B[1;38;5;239m-\u001B[0m\u001B[1;38;5;239m-\u001B[0m\u001B[1;38;5;239m-\u001B[0m  │\n│ 3 AA3R_HU…   \u001B[1;36m258\u001B[0m  \u001B[1;38;5;239m-\u001B[0m\u001B[1;34mE\u001B[0m\u001B[1;31mV\u001B[0m\u001B[1;31mP\u001B[0m\u001B[1;32mQ\u001B[0m\u001B[1;31mL\u001B[0m\u001B[1;31mV\u001B[0m\u001B[1;31mL\u001B[0m\u001B[1;32mY\u001B[0m\u001B[1;31mM\u001B[0m\u001B[1;32mG\u001B[0m\u001B[1;31mI\u001B[0m\u001B[1;31mL\u001B[0m\u001B[1;31mL\u001B[0m\u001B[1;32mS\u001B[0m\u001B[1;32mH\u001B[0m\u001B[1;31mA\u001B[0m\u001B[1;32mN\u001B[0m\u001B[1;32mS\u001B[0m\u001B[1;31mM\u001B[0m\u001B[1;31mM\u001B[0m\u001B[1;32mN\u001B[0m\u001B[1;31mP\u001B[0m\u001B[1;31mI\u001B[0m\u001B[1;31mV\u001B[0m\u001B[1;32mY\u001B[0m\u001B[1;31mA\u001B[0m\u001B[1;32mY\u001B[0m\u001B[1;38;5;129mK\u001B[0m\u001B[1;31mI\u001B[0m\u001B[1;38;5;129mK\u001B[0m\u001B[1;38;5;129mK\u001B[0m\u001B[1;31mF\u001B[0m\u001B[1;38;5;129mK\u001B[0m\u001B[1;34mE\u001B[0m\u001B[1;32mT\u001B[0m\u001B[1;32mY\u001B[0m\u001B[1;31mL\u001B[0m\u001B[1;31mL\u001B[0m\u001B[1;31mI\u001B[0m\u001B[1;31mL\u001B[0m\u001B[1;38;5;129mK\u001B[0m\u001B[1;31mA\u001B[0m\u001B[1;32mC\u001B[0m\u001B[1;31mV\u001B[0m\u001B[1;31mV\u001B[0m\u001B[1;32mC\u001B[0m\u001B[1;32mH\u001B[0m\u001B[1;31mP\u001B[0m\u001B[1;32mS\u001B[0m\u001B[1;34mD\u001B[0m\u001B[1;32mS\u001B[0m\u001B[1;31mL\u001B[0m\u001B[1;34mD\u001B[0m\u001B[1;32mT\u001B[0m\u001B[1;32mS\u001B[0m\u001B[1;31mI\u001B[0m\u001B[1;34mE\u001B[0m\u001B[1;38;5;129mK\u001B[0m\u001B[1;32mN\u001B[0m\u001B[1;32mS\u001B[0m\u001B[1;34mE\u001B[0m\u001B[1;38;5;239m-\u001B[0m\u001B[1;38;5;239m-\u001B[0m\u001B[1;38;5;239m-\u001B[0m\u001B[1;38;5;239m-\u001B[0m\u001B[1;38;5;239m-\u001B[0m\u001B[1;38;5;239m-\u001B[0m\u001B[1;38;5;239m-\u001B[0m\u001B[1;38;5;239m-\u001B[0m\u001B[1;38;5;239m-\u001B[0m\u001B[1;38;5;239m-\u001B[0m\u001B[1;38;5;239m-\u001B[0m\u001B[1;38;5;239m-\u001B[0m\u001B[1;38;5;239m-\u001B[0m\u001B[1;38;5;239m-\u001B[0m\u001B[1;38;5;239m-\u001B[0m\u001B[1;38;5;239m-\u001B[0m\u001B[1;38;5;239m-\u001B[0m\u001B[1;38;5;239m-\u001B[0m\u001B[1;38;5;239m-\u001B[0m\u001B[1;38;5;239m-\u001B[0m\u001B[1;38;5;239m-\u001B[0m\u001B[1;38;5;239m-\u001B[0m\u001B[1;38;5;239m-\u001B[0m\u001B[1;38;5;239m-\u001B[0m\u001B[1;38;5;239m-\u001B[0m\u001B[1;38;5;239m-\u001B[0m\u001B[1;38;5;239m-\u001B[0m\u001B[1;38;5;239m-\u001B[0m\u001B[1;38;5;239m-\u001B[0m\u001B[1;38;5;239m-\u001B[0m  │\n│                                                                                                                 │\n│ 0 AA1R_HU…   \u001B[1;36m327\u001B[0m  \u001B[1;38;5;239m-\u001B[0m\u001B[1;38;5;239m-\u001B[0m\u001B[1;38;5;239m-\u001B[0m\u001B[1;38;5;239m-\u001B[0m\u001B[1;38;5;239m-\u001B[0m\u001B[1;38;5;239m-\u001B[0m\u001B[1;38;5;239m-\u001B[0m\u001B[1;38;5;239m-\u001B[0m\u001B[1;38;5;239m-\u001B[0m\u001B[1;38;5;239m-\u001B[0m\u001B[1;38;5;239m-\u001B[0m\u001B[1;38;5;239m-\u001B[0m\u001B[1;38;5;239m-\u001B[0m\u001B[1;38;5;239m-\u001B[0m\u001B[1;38;5;239m-\u001B[0m\u001B[1;38;5;239m-\u001B[0m\u001B[1;38;5;239m-\u001B[0m\u001B[1;38;5;239m-\u001B[0m\u001B[1;38;5;239m-\u001B[0m\u001B[1;38;5;239m-\u001B[0m\u001B[1;38;5;239m-\u001B[0m\u001B[1;38;5;239m-\u001B[0m\u001B[1;38;5;239m-\u001B[0m\u001B[1;38;5;239m-\u001B[0m\u001B[1;38;5;239m-\u001B[0m\u001B[1;38;5;239m-\u001B[0m\u001B[1;38;5;239m-\u001B[0m\u001B[1;38;5;239m-\u001B[0m\u001B[1;38;5;239m-\u001B[0m\u001B[1;38;5;239m-\u001B[0m\u001B[1;38;5;239m-\u001B[0m\u001B[1;38;5;239m-\u001B[0m\u001B[1;38;5;239m-\u001B[0m\u001B[1;38;5;239m-\u001B[0m\u001B[1;38;5;239m-\u001B[0m\u001B[1;38;5;239m-\u001B[0m\u001B[1;38;5;239m-\u001B[0m\u001B[1;38;5;239m-\u001B[0m\u001B[1;38;5;239m-\u001B[0m\u001B[1;38;5;239m-\u001B[0m\u001B[1;38;5;239m-\u001B[0m\u001B[1;38;5;239m-\u001B[0m\u001B[1;38;5;239m-\u001B[0m\u001B[1;38;5;239m-\u001B[0m\u001B[1;38;5;239m-\u001B[0m\u001B[1;38;5;239m-\u001B[0m\u001B[1;38;5;239m-\u001B[0m\u001B[1;38;5;239m-\u001B[0m\u001B[1;38;5;239m-\u001B[0m\u001B[1;38;5;239m-\u001B[0m\u001B[1;38;5;239m-\u001B[0m\u001B[1;38;5;239m-\u001B[0m\u001B[1;38;5;239m-\u001B[0m\u001B[1;38;5;239m-\u001B[0m\u001B[1;38;5;239m-\u001B[0m\u001B[1;38;5;239m-\u001B[0m\u001B[1;38;5;239m-\u001B[0m\u001B[1;38;5;239m-\u001B[0m                                    │\n│ 1 AA2AR_H…   \u001B[1;36m355\u001B[0m  \u001B[1;34mE\u001B[0m\u001B[1;38;5;129mR\u001B[0m\u001B[1;38;5;129mR\u001B[0m\u001B[1;31mP\u001B[0m\u001B[1;32mN\u001B[0m\u001B[1;32mG\u001B[0m\u001B[1;32mY\u001B[0m\u001B[1;31mA\u001B[0m\u001B[1;31mL\u001B[0m\u001B[1;32mG\u001B[0m\u001B[1;31mL\u001B[0m\u001B[1;31mV\u001B[0m\u001B[1;32mS\u001B[0m\u001B[1;32mG\u001B[0m\u001B[1;32mG\u001B[0m\u001B[1;32mS\u001B[0m\u001B[1;31mA\u001B[0m\u001B[1;32mQ\u001B[0m\u001B[1;34mE\u001B[0m\u001B[1;32mS\u001B[0m\u001B[1;32mQ\u001B[0m\u001B[1;32mG\u001B[0m\u001B[1;32mN\u001B[0m\u001B[1;32mT\u001B[0m\u001B[1;32mG\u001B[0m\u001B[1;31mL\u001B[0m\u001B[1;31mP\u001B[0m\u001B[1;34mD\u001B[0m\u001B[1;31mV\u001B[0m\u001B[1;34mE\u001B[0m\u001B[1;31mL\u001B[0m\u001B[1;31mL\u001B[0m\u001B[1;32mS\u001B[0m\u001B[1;32mH\u001B[0m\u001B[1;34mE\u001B[0m\u001B[1;31mL\u001B[0m\u001B[1;38;5;129mK\u001B[0m\u001B[1;32mG\u001B[0m\u001B[1;31mV\u001B[0m\u001B[1;32mC\u001B[0m\u001B[1;31mP\u001B[0m\u001B[1;34mE\u001B[0m\u001B[1;31mP\u001B[0m\u001B[1;31mP\u001B[0m\u001B[1;32mG\u001B[0m\u001B[1;31mL\u001B[0m\u001B[1;34mD\u001B[0m\u001B[1;34mD\u001B[0m\u001B[1;31mP\u001B[0m\u001B[1;31mL\u001B[0m\u001B[1;31mA\u001B[0m\u001B[1;32mQ\u001B[0m\u001B[1;34mD\u001B[0m\u001B[1;32mG\u001B[0m\u001B[1;31mA\u001B[0m\u001B[1;32mG\u001B[0m\u001B[1;31mV\u001B[0m\u001B[1;32mS\u001B[0m                                    │\n│ 2 AA2BR_H…   \u001B[1;36m333\u001B[0m  \u001B[1;38;5;239m-\u001B[0m\u001B[1;38;5;239m-\u001B[0m\u001B[1;38;5;239m-\u001B[0m\u001B[1;38;5;239m-\u001B[0m\u001B[1;38;5;239m-\u001B[0m\u001B[1;38;5;239m-\u001B[0m\u001B[1;38;5;239m-\u001B[0m\u001B[1;38;5;239m-\u001B[0m\u001B[1;38;5;239m-\u001B[0m\u001B[1;38;5;239m-\u001B[0m\u001B[1;38;5;239m-\u001B[0m\u001B[1;38;5;239m-\u001B[0m\u001B[1;38;5;239m-\u001B[0m\u001B[1;38;5;239m-\u001B[0m\u001B[1;38;5;239m-\u001B[0m\u001B[1;38;5;239m-\u001B[0m\u001B[1;38;5;239m-\u001B[0m\u001B[1;38;5;239m-\u001B[0m\u001B[1;38;5;239m-\u001B[0m\u001B[1;38;5;239m-\u001B[0m\u001B[1;38;5;239m-\u001B[0m\u001B[1;38;5;239m-\u001B[0m\u001B[1;38;5;239m-\u001B[0m\u001B[1;38;5;239m-\u001B[0m\u001B[1;38;5;239m-\u001B[0m\u001B[1;38;5;239m-\u001B[0m\u001B[1;38;5;239m-\u001B[0m\u001B[1;38;5;239m-\u001B[0m\u001B[1;38;5;239m-\u001B[0m\u001B[1;38;5;239m-\u001B[0m\u001B[1;38;5;239m-\u001B[0m\u001B[1;38;5;239m-\u001B[0m\u001B[1;38;5;239m-\u001B[0m\u001B[1;38;5;239m-\u001B[0m\u001B[1;38;5;239m-\u001B[0m\u001B[1;38;5;239m-\u001B[0m\u001B[1;38;5;239m-\u001B[0m\u001B[1;38;5;239m-\u001B[0m\u001B[1;38;5;239m-\u001B[0m\u001B[1;38;5;239m-\u001B[0m\u001B[1;38;5;239m-\u001B[0m\u001B[1;38;5;239m-\u001B[0m\u001B[1;38;5;239m-\u001B[0m\u001B[1;38;5;239m-\u001B[0m\u001B[1;38;5;239m-\u001B[0m\u001B[1;38;5;239m-\u001B[0m\u001B[1;38;5;239m-\u001B[0m\u001B[1;38;5;239m-\u001B[0m\u001B[1;38;5;239m-\u001B[0m\u001B[1;38;5;239m-\u001B[0m\u001B[1;38;5;239m-\u001B[0m\u001B[1;38;5;239m-\u001B[0m\u001B[1;38;5;239m-\u001B[0m\u001B[1;38;5;239m-\u001B[0m\u001B[1;38;5;239m-\u001B[0m\u001B[1;38;5;239m-\u001B[0m\u001B[1;38;5;239m-\u001B[0m\u001B[1;38;5;239m-\u001B[0m                                    │\n│ 3 AA3R_HU…   \u001B[1;36m319\u001B[0m  \u001B[1;38;5;239m-\u001B[0m\u001B[1;38;5;239m-\u001B[0m\u001B[1;38;5;239m-\u001B[0m\u001B[1;38;5;239m-\u001B[0m\u001B[1;38;5;239m-\u001B[0m\u001B[1;38;5;239m-\u001B[0m\u001B[1;38;5;239m-\u001B[0m\u001B[1;38;5;239m-\u001B[0m\u001B[1;38;5;239m-\u001B[0m\u001B[1;38;5;239m-\u001B[0m\u001B[1;38;5;239m-\u001B[0m\u001B[1;38;5;239m-\u001B[0m\u001B[1;38;5;239m-\u001B[0m\u001B[1;38;5;239m-\u001B[0m\u001B[1;38;5;239m-\u001B[0m\u001B[1;38;5;239m-\u001B[0m\u001B[1;38;5;239m-\u001B[0m\u001B[1;38;5;239m-\u001B[0m\u001B[1;38;5;239m-\u001B[0m\u001B[1;38;5;239m-\u001B[0m\u001B[1;38;5;239m-\u001B[0m\u001B[1;38;5;239m-\u001B[0m\u001B[1;38;5;239m-\u001B[0m\u001B[1;38;5;239m-\u001B[0m\u001B[1;38;5;239m-\u001B[0m\u001B[1;38;5;239m-\u001B[0m\u001B[1;38;5;239m-\u001B[0m\u001B[1;38;5;239m-\u001B[0m\u001B[1;38;5;239m-\u001B[0m\u001B[1;38;5;239m-\u001B[0m\u001B[1;38;5;239m-\u001B[0m\u001B[1;38;5;239m-\u001B[0m\u001B[1;38;5;239m-\u001B[0m\u001B[1;38;5;239m-\u001B[0m\u001B[1;38;5;239m-\u001B[0m\u001B[1;38;5;239m-\u001B[0m\u001B[1;38;5;239m-\u001B[0m\u001B[1;38;5;239m-\u001B[0m\u001B[1;38;5;239m-\u001B[0m\u001B[1;38;5;239m-\u001B[0m\u001B[1;38;5;239m-\u001B[0m\u001B[1;38;5;239m-\u001B[0m\u001B[1;38;5;239m-\u001B[0m\u001B[1;38;5;239m-\u001B[0m\u001B[1;38;5;239m-\u001B[0m\u001B[1;38;5;239m-\u001B[0m\u001B[1;38;5;239m-\u001B[0m\u001B[1;38;5;239m-\u001B[0m\u001B[1;38;5;239m-\u001B[0m\u001B[1;38;5;239m-\u001B[0m\u001B[1;38;5;239m-\u001B[0m\u001B[1;38;5;239m-\u001B[0m\u001B[1;38;5;239m-\u001B[0m\u001B[1;38;5;239m-\u001B[0m\u001B[1;38;5;239m-\u001B[0m\u001B[1;38;5;239m-\u001B[0m\u001B[1;38;5;239m-\u001B[0m\u001B[1;38;5;239m-\u001B[0m                                    │\n╰─────────────────────────────────────────────────────────────────────────────────────────────────────────────────╯\n",
      "text/html": "<pre style=\"white-space:pre;overflow-x:auto;line-height:normal;font-family:Menlo,'DejaVu Sans Mono',consolas,'Courier New',monospace\">╭────────────────────────────────────────── Multiple sequence alignment ──────────────────────────────────────────╮\n│ 0 AA1R_HU…   <span style=\"color: #008080; text-decoration-color: #008080; font-weight: bold\">  1</span>  <span style=\"color: #4e4e4e; text-decoration-color: #4e4e4e; font-weight: bold\">---</span><span style=\"color: #800000; text-decoration-color: #800000; font-weight: bold\">MPP</span><span style=\"color: #008000; text-decoration-color: #008000; font-weight: bold\">S</span><span style=\"color: #800000; text-decoration-color: #800000; font-weight: bold\">I</span><span style=\"color: #008000; text-decoration-color: #008000; font-weight: bold\">S</span><span style=\"color: #800000; text-decoration-color: #800000; font-weight: bold\">AF</span><span style=\"color: #008000; text-decoration-color: #008000; font-weight: bold\">Q</span><span style=\"color: #800000; text-decoration-color: #800000; font-weight: bold\">AA</span><span style=\"color: #008000; text-decoration-color: #008000; font-weight: bold\">Y</span><span style=\"color: #800000; text-decoration-color: #800000; font-weight: bold\">I</span><span style=\"color: #008000; text-decoration-color: #008000; font-weight: bold\">G</span><span style=\"color: #800000; text-decoration-color: #800000; font-weight: bold\">I</span><span style=\"color: #000080; text-decoration-color: #000080; font-weight: bold\">E</span><span style=\"color: #800000; text-decoration-color: #800000; font-weight: bold\">VLIALV</span><span style=\"color: #008000; text-decoration-color: #008000; font-weight: bold\">S</span><span style=\"color: #800000; text-decoration-color: #800000; font-weight: bold\">VP</span><span style=\"color: #008000; text-decoration-color: #008000; font-weight: bold\">GN</span><span style=\"color: #800000; text-decoration-color: #800000; font-weight: bold\">VLVIWAV</span><span style=\"color: #af00ff; text-decoration-color: #af00ff; font-weight: bold\">K</span><span style=\"color: #800000; text-decoration-color: #800000; font-weight: bold\">V</span><span style=\"color: #008000; text-decoration-color: #008000; font-weight: bold\">NQ</span><span style=\"color: #800000; text-decoration-color: #800000; font-weight: bold\">AL</span><span style=\"color: #af00ff; text-decoration-color: #af00ff; font-weight: bold\">R</span><span style=\"color: #000080; text-decoration-color: #000080; font-weight: bold\">D</span><span style=\"color: #800000; text-decoration-color: #800000; font-weight: bold\">A</span><span style=\"color: #008000; text-decoration-color: #008000; font-weight: bold\">T</span><span style=\"color: #800000; text-decoration-color: #800000; font-weight: bold\">F</span><span style=\"color: #008000; text-decoration-color: #008000; font-weight: bold\">C</span><span style=\"color: #800000; text-decoration-color: #800000; font-weight: bold\">FIV</span><span style=\"color: #008000; text-decoration-color: #008000; font-weight: bold\">S</span><span style=\"color: #800000; text-decoration-color: #800000; font-weight: bold\">LAVA</span><span style=\"color: #000080; text-decoration-color: #000080; font-weight: bold\">D</span><span style=\"color: #800000; text-decoration-color: #800000; font-weight: bold\">VAV</span><span style=\"color: #008000; text-decoration-color: #008000; font-weight: bold\">G</span><span style=\"color: #800000; text-decoration-color: #800000; font-weight: bold\">ALVIPLAILI</span><span style=\"color: #008000; text-decoration-color: #008000; font-weight: bold\">N</span><span style=\"color: #800000; text-decoration-color: #800000; font-weight: bold\">I</span><span style=\"color: #008000; text-decoration-color: #008000; font-weight: bold\">G</span><span style=\"color: #800000; text-decoration-color: #800000; font-weight: bold\">P</span><span style=\"color: #008000; text-decoration-color: #008000; font-weight: bold\">QTY</span><span style=\"color: #800000; text-decoration-color: #800000; font-weight: bold\">F</span><span style=\"color: #008000; text-decoration-color: #008000; font-weight: bold\">HTC</span><span style=\"color: #800000; text-decoration-color: #800000; font-weight: bold\">LMVA</span><span style=\"color: #008000; text-decoration-color: #008000; font-weight: bold\">C</span><span style=\"color: #800000; text-decoration-color: #800000; font-weight: bold\">PVLI</span>  │\n│ 1 AA2AR_H…   <span style=\"color: #008080; text-decoration-color: #008080; font-weight: bold\">  1</span>  <span style=\"color: #4e4e4e; text-decoration-color: #4e4e4e; font-weight: bold\">------</span><span style=\"color: #800000; text-decoration-color: #800000; font-weight: bold\">MPIM</span><span style=\"color: #008000; text-decoration-color: #008000; font-weight: bold\">GSS</span><span style=\"color: #800000; text-decoration-color: #800000; font-weight: bold\">V</span><span style=\"color: #008000; text-decoration-color: #008000; font-weight: bold\">Y</span><span style=\"color: #800000; text-decoration-color: #800000; font-weight: bold\">I</span><span style=\"color: #008000; text-decoration-color: #008000; font-weight: bold\">T</span><span style=\"color: #800000; text-decoration-color: #800000; font-weight: bold\">V</span><span style=\"color: #000080; text-decoration-color: #000080; font-weight: bold\">E</span><span style=\"color: #800000; text-decoration-color: #800000; font-weight: bold\">LAIAVLAIL</span><span style=\"color: #008000; text-decoration-color: #008000; font-weight: bold\">GN</span><span style=\"color: #800000; text-decoration-color: #800000; font-weight: bold\">VLV</span><span style=\"color: #008000; text-decoration-color: #008000; font-weight: bold\">C</span><span style=\"color: #800000; text-decoration-color: #800000; font-weight: bold\">WAVWL</span><span style=\"color: #008000; text-decoration-color: #008000; font-weight: bold\">NSN</span><span style=\"color: #800000; text-decoration-color: #800000; font-weight: bold\">L</span><span style=\"color: #008000; text-decoration-color: #008000; font-weight: bold\">QN</span><span style=\"color: #800000; text-decoration-color: #800000; font-weight: bold\">V</span><span style=\"color: #008000; text-decoration-color: #008000; font-weight: bold\">TNY</span><span style=\"color: #800000; text-decoration-color: #800000; font-weight: bold\">FVV</span><span style=\"color: #008000; text-decoration-color: #008000; font-weight: bold\">S</span><span style=\"color: #800000; text-decoration-color: #800000; font-weight: bold\">LAAA</span><span style=\"color: #000080; text-decoration-color: #000080; font-weight: bold\">D</span><span style=\"color: #800000; text-decoration-color: #800000; font-weight: bold\">IAV</span><span style=\"color: #008000; text-decoration-color: #008000; font-weight: bold\">G</span><span style=\"color: #800000; text-decoration-color: #800000; font-weight: bold\">VLAIPFAI</span><span style=\"color: #008000; text-decoration-color: #008000; font-weight: bold\">T</span><span style=\"color: #800000; text-decoration-color: #800000; font-weight: bold\">I</span><span style=\"color: #008000; text-decoration-color: #008000; font-weight: bold\">STG</span><span style=\"color: #800000; text-decoration-color: #800000; font-weight: bold\">F</span><span style=\"color: #008000; text-decoration-color: #008000; font-weight: bold\">C</span><span style=\"color: #800000; text-decoration-color: #800000; font-weight: bold\">AA</span><span style=\"color: #008000; text-decoration-color: #008000; font-weight: bold\">CHGC</span><span style=\"color: #800000; text-decoration-color: #800000; font-weight: bold\">LFIA</span><span style=\"color: #008000; text-decoration-color: #008000; font-weight: bold\">C</span><span style=\"color: #800000; text-decoration-color: #800000; font-weight: bold\">FVLV</span>  │\n│ 2 AA2BR_H…   <span style=\"color: #008080; text-decoration-color: #008080; font-weight: bold\">  1</span>  <span style=\"color: #4e4e4e; text-decoration-color: #4e4e4e; font-weight: bold\">-----</span><span style=\"color: #800000; text-decoration-color: #800000; font-weight: bold\">MLL</span><span style=\"color: #000080; text-decoration-color: #000080; font-weight: bold\">E</span><span style=\"color: #008000; text-decoration-color: #008000; font-weight: bold\">TQ</span><span style=\"color: #000080; text-decoration-color: #000080; font-weight: bold\">D</span><span style=\"color: #800000; text-decoration-color: #800000; font-weight: bold\">AL</span><span style=\"color: #008000; text-decoration-color: #008000; font-weight: bold\">Y</span><span style=\"color: #800000; text-decoration-color: #800000; font-weight: bold\">VAL</span><span style=\"color: #000080; text-decoration-color: #000080; font-weight: bold\">E</span><span style=\"color: #800000; text-decoration-color: #800000; font-weight: bold\">LVIAAL</span><span style=\"color: #008000; text-decoration-color: #008000; font-weight: bold\">S</span><span style=\"color: #800000; text-decoration-color: #800000; font-weight: bold\">VA</span><span style=\"color: #008000; text-decoration-color: #008000; font-weight: bold\">GN</span><span style=\"color: #800000; text-decoration-color: #800000; font-weight: bold\">VLV</span><span style=\"color: #008000; text-decoration-color: #008000; font-weight: bold\">C</span><span style=\"color: #800000; text-decoration-color: #800000; font-weight: bold\">AAV</span><span style=\"color: #008000; text-decoration-color: #008000; font-weight: bold\">GT</span><span style=\"color: #800000; text-decoration-color: #800000; font-weight: bold\">A</span><span style=\"color: #008000; text-decoration-color: #008000; font-weight: bold\">NT</span><span style=\"color: #800000; text-decoration-color: #800000; font-weight: bold\">L</span><span style=\"color: #008000; text-decoration-color: #008000; font-weight: bold\">QT</span><span style=\"color: #800000; text-decoration-color: #800000; font-weight: bold\">P</span><span style=\"color: #008000; text-decoration-color: #008000; font-weight: bold\">TNY</span><span style=\"color: #800000; text-decoration-color: #800000; font-weight: bold\">FLV</span><span style=\"color: #008000; text-decoration-color: #008000; font-weight: bold\">S</span><span style=\"color: #800000; text-decoration-color: #800000; font-weight: bold\">LAAA</span><span style=\"color: #000080; text-decoration-color: #000080; font-weight: bold\">D</span><span style=\"color: #800000; text-decoration-color: #800000; font-weight: bold\">VAV</span><span style=\"color: #008000; text-decoration-color: #008000; font-weight: bold\">G</span><span style=\"color: #800000; text-decoration-color: #800000; font-weight: bold\">LFAIPFAI</span><span style=\"color: #008000; text-decoration-color: #008000; font-weight: bold\">T</span><span style=\"color: #800000; text-decoration-color: #800000; font-weight: bold\">I</span><span style=\"color: #008000; text-decoration-color: #008000; font-weight: bold\">S</span><span style=\"color: #800000; text-decoration-color: #800000; font-weight: bold\">L</span><span style=\"color: #008000; text-decoration-color: #008000; font-weight: bold\">G</span><span style=\"color: #800000; text-decoration-color: #800000; font-weight: bold\">F</span><span style=\"color: #008000; text-decoration-color: #008000; font-weight: bold\">CT</span><span style=\"color: #000080; text-decoration-color: #000080; font-weight: bold\">D</span><span style=\"color: #800000; text-decoration-color: #800000; font-weight: bold\">F</span><span style=\"color: #008000; text-decoration-color: #008000; font-weight: bold\">YGC</span><span style=\"color: #800000; text-decoration-color: #800000; font-weight: bold\">LFLA</span><span style=\"color: #008000; text-decoration-color: #008000; font-weight: bold\">C</span><span style=\"color: #800000; text-decoration-color: #800000; font-weight: bold\">FVLV</span>  │\n│ 3 AA3R_HU…   <span style=\"color: #008080; text-decoration-color: #008080; font-weight: bold\">  1</span>  <span style=\"color: #800000; text-decoration-color: #800000; font-weight: bold\">MP</span><span style=\"color: #008000; text-decoration-color: #008000; font-weight: bold\">NNST</span><span style=\"color: #800000; text-decoration-color: #800000; font-weight: bold\">AL</span><span style=\"color: #008000; text-decoration-color: #008000; font-weight: bold\">S</span><span style=\"color: #800000; text-decoration-color: #800000; font-weight: bold\">LA</span><span style=\"color: #008000; text-decoration-color: #008000; font-weight: bold\">N</span><span style=\"color: #800000; text-decoration-color: #800000; font-weight: bold\">V</span><span style=\"color: #008000; text-decoration-color: #008000; font-weight: bold\">TY</span><span style=\"color: #800000; text-decoration-color: #800000; font-weight: bold\">I</span><span style=\"color: #008000; text-decoration-color: #008000; font-weight: bold\">T</span><span style=\"color: #800000; text-decoration-color: #800000; font-weight: bold\">M</span><span style=\"color: #000080; text-decoration-color: #000080; font-weight: bold\">E</span><span style=\"color: #800000; text-decoration-color: #800000; font-weight: bold\">IFI</span><span style=\"color: #008000; text-decoration-color: #008000; font-weight: bold\">G</span><span style=\"color: #800000; text-decoration-color: #800000; font-weight: bold\">L</span><span style=\"color: #008000; text-decoration-color: #008000; font-weight: bold\">C</span><span style=\"color: #800000; text-decoration-color: #800000; font-weight: bold\">AIV</span><span style=\"color: #008000; text-decoration-color: #008000; font-weight: bold\">GN</span><span style=\"color: #800000; text-decoration-color: #800000; font-weight: bold\">VLVI</span><span style=\"color: #008000; text-decoration-color: #008000; font-weight: bold\">C</span><span style=\"color: #800000; text-decoration-color: #800000; font-weight: bold\">VV</span><span style=\"color: #af00ff; text-decoration-color: #af00ff; font-weight: bold\">K</span><span style=\"color: #800000; text-decoration-color: #800000; font-weight: bold\">L</span><span style=\"color: #008000; text-decoration-color: #008000; font-weight: bold\">N</span><span style=\"color: #800000; text-decoration-color: #800000; font-weight: bold\">P</span><span style=\"color: #008000; text-decoration-color: #008000; font-weight: bold\">S</span><span style=\"color: #800000; text-decoration-color: #800000; font-weight: bold\">L</span><span style=\"color: #008000; text-decoration-color: #008000; font-weight: bold\">QTTT</span><span style=\"color: #800000; text-decoration-color: #800000; font-weight: bold\">F</span><span style=\"color: #008000; text-decoration-color: #008000; font-weight: bold\">Y</span><span style=\"color: #800000; text-decoration-color: #800000; font-weight: bold\">FIV</span><span style=\"color: #008000; text-decoration-color: #008000; font-weight: bold\">S</span><span style=\"color: #800000; text-decoration-color: #800000; font-weight: bold\">LALA</span><span style=\"color: #000080; text-decoration-color: #000080; font-weight: bold\">D</span><span style=\"color: #800000; text-decoration-color: #800000; font-weight: bold\">IAV</span><span style=\"color: #008000; text-decoration-color: #008000; font-weight: bold\">G</span><span style=\"color: #800000; text-decoration-color: #800000; font-weight: bold\">VLVMPLAIVV</span><span style=\"color: #008000; text-decoration-color: #008000; font-weight: bold\">S</span><span style=\"color: #800000; text-decoration-color: #800000; font-weight: bold\">L</span><span style=\"color: #008000; text-decoration-color: #008000; font-weight: bold\">G</span><span style=\"color: #800000; text-decoration-color: #800000; font-weight: bold\">I</span><span style=\"color: #008000; text-decoration-color: #008000; font-weight: bold\">T</span><span style=\"color: #800000; text-decoration-color: #800000; font-weight: bold\">I</span><span style=\"color: #008000; text-decoration-color: #008000; font-weight: bold\">H</span><span style=\"color: #800000; text-decoration-color: #800000; font-weight: bold\">F</span><span style=\"color: #008000; text-decoration-color: #008000; font-weight: bold\">YSC</span><span style=\"color: #800000; text-decoration-color: #800000; font-weight: bold\">LFM</span><span style=\"color: #008000; text-decoration-color: #008000; font-weight: bold\">TC</span><span style=\"color: #800000; text-decoration-color: #800000; font-weight: bold\">LLLI</span>  │\n│                                                                                                                 │\n│ 0 AA1R_HU…   <span style=\"color: #008080; text-decoration-color: #008080; font-weight: bold\"> 90</span>  <span style=\"color: #800000; text-decoration-color: #800000; font-weight: bold\">L</span><span style=\"color: #008000; text-decoration-color: #008000; font-weight: bold\">TQSS</span><span style=\"color: #800000; text-decoration-color: #800000; font-weight: bold\">ILALLAIAV</span><span style=\"color: #000080; text-decoration-color: #000080; font-weight: bold\">D</span><span style=\"color: #af00ff; text-decoration-color: #af00ff; font-weight: bold\">R</span><span style=\"color: #008000; text-decoration-color: #008000; font-weight: bold\">Y</span><span style=\"color: #800000; text-decoration-color: #800000; font-weight: bold\">L</span><span style=\"color: #af00ff; text-decoration-color: #af00ff; font-weight: bold\">R</span><span style=\"color: #800000; text-decoration-color: #800000; font-weight: bold\">V</span><span style=\"color: #af00ff; text-decoration-color: #af00ff; font-weight: bold\">K</span><span style=\"color: #800000; text-decoration-color: #800000; font-weight: bold\">IPL</span><span style=\"color: #af00ff; text-decoration-color: #af00ff; font-weight: bold\">R</span><span style=\"color: #008000; text-decoration-color: #008000; font-weight: bold\">Y</span><span style=\"color: #af00ff; text-decoration-color: #af00ff; font-weight: bold\">K</span><span style=\"color: #800000; text-decoration-color: #800000; font-weight: bold\">MVV</span><span style=\"color: #008000; text-decoration-color: #008000; font-weight: bold\">T</span><span style=\"color: #800000; text-decoration-color: #800000; font-weight: bold\">P</span><span style=\"color: #af00ff; text-decoration-color: #af00ff; font-weight: bold\">RR</span><span style=\"color: #800000; text-decoration-color: #800000; font-weight: bold\">AAVAIA</span><span style=\"color: #008000; text-decoration-color: #008000; font-weight: bold\">GC</span><span style=\"color: #800000; text-decoration-color: #800000; font-weight: bold\">WIL</span><span style=\"color: #008000; text-decoration-color: #008000; font-weight: bold\">S</span><span style=\"color: #800000; text-decoration-color: #800000; font-weight: bold\">FVV</span><span style=\"color: #008000; text-decoration-color: #008000; font-weight: bold\">G</span><span style=\"color: #800000; text-decoration-color: #800000; font-weight: bold\">L</span><span style=\"color: #008000; text-decoration-color: #008000; font-weight: bold\">T</span><span style=\"color: #800000; text-decoration-color: #800000; font-weight: bold\">PMF</span><span style=\"color: #008000; text-decoration-color: #008000; font-weight: bold\">G</span><span style=\"color: #800000; text-decoration-color: #800000; font-weight: bold\">W</span><span style=\"color: #008000; text-decoration-color: #008000; font-weight: bold\">NN</span><span style=\"color: #800000; text-decoration-color: #800000; font-weight: bold\">L</span><span style=\"color: #008000; text-decoration-color: #008000; font-weight: bold\">S</span><span style=\"color: #800000; text-decoration-color: #800000; font-weight: bold\">AV</span><span style=\"color: #000080; text-decoration-color: #000080; font-weight: bold\">E</span><span style=\"color: #af00ff; text-decoration-color: #af00ff; font-weight: bold\">R</span><span style=\"color: #4e4e4e; text-decoration-color: #4e4e4e; font-weight: bold\">----</span><span style=\"color: #800000; text-decoration-color: #800000; font-weight: bold\">AW</span><span style=\"color: #4e4e4e; text-decoration-color: #4e4e4e; font-weight: bold\">---</span><span style=\"color: #800000; text-decoration-color: #800000; font-weight: bold\">AA</span><span style=\"color: #008000; text-decoration-color: #008000; font-weight: bold\">NGS</span><span style=\"color: #800000; text-decoration-color: #800000; font-weight: bold\">M</span><span style=\"color: #008000; text-decoration-color: #008000; font-weight: bold\">G</span><span style=\"color: #000080; text-decoration-color: #000080; font-weight: bold\">E</span><span style=\"color: #800000; text-decoration-color: #800000; font-weight: bold\">PVI</span><span style=\"color: #af00ff; text-decoration-color: #af00ff; font-weight: bold\">K</span><span style=\"color: #008000; text-decoration-color: #008000; font-weight: bold\">C</span><span style=\"color: #000080; text-decoration-color: #000080; font-weight: bold\">E</span><span style=\"color: #800000; text-decoration-color: #800000; font-weight: bold\">F</span><span style=\"color: #000080; text-decoration-color: #000080; font-weight: bold\">E</span><span style=\"color: #af00ff; text-decoration-color: #af00ff; font-weight: bold\">K</span><span style=\"color: #800000; text-decoration-color: #800000; font-weight: bold\">V</span>  │\n│ 1 AA2AR_H…   <span style=\"color: #008080; text-decoration-color: #008080; font-weight: bold\"> 87</span>  <span style=\"color: #800000; text-decoration-color: #800000; font-weight: bold\">L</span><span style=\"color: #008000; text-decoration-color: #008000; font-weight: bold\">TQSS</span><span style=\"color: #800000; text-decoration-color: #800000; font-weight: bold\">IF</span><span style=\"color: #008000; text-decoration-color: #008000; font-weight: bold\">S</span><span style=\"color: #800000; text-decoration-color: #800000; font-weight: bold\">LLAIAI</span><span style=\"color: #000080; text-decoration-color: #000080; font-weight: bold\">D</span><span style=\"color: #af00ff; text-decoration-color: #af00ff; font-weight: bold\">R</span><span style=\"color: #008000; text-decoration-color: #008000; font-weight: bold\">Y</span><span style=\"color: #800000; text-decoration-color: #800000; font-weight: bold\">IAI</span><span style=\"color: #af00ff; text-decoration-color: #af00ff; font-weight: bold\">R</span><span style=\"color: #800000; text-decoration-color: #800000; font-weight: bold\">IPL</span><span style=\"color: #af00ff; text-decoration-color: #af00ff; font-weight: bold\">R</span><span style=\"color: #008000; text-decoration-color: #008000; font-weight: bold\">YNG</span><span style=\"color: #800000; text-decoration-color: #800000; font-weight: bold\">LV</span><span style=\"color: #008000; text-decoration-color: #008000; font-weight: bold\">TGT</span><span style=\"color: #af00ff; text-decoration-color: #af00ff; font-weight: bold\">R</span><span style=\"color: #800000; text-decoration-color: #800000; font-weight: bold\">A</span><span style=\"color: #af00ff; text-decoration-color: #af00ff; font-weight: bold\">K</span><span style=\"color: #008000; text-decoration-color: #008000; font-weight: bold\">G</span><span style=\"color: #800000; text-decoration-color: #800000; font-weight: bold\">IIAI</span><span style=\"color: #008000; text-decoration-color: #008000; font-weight: bold\">C</span><span style=\"color: #800000; text-decoration-color: #800000; font-weight: bold\">WVL</span><span style=\"color: #008000; text-decoration-color: #008000; font-weight: bold\">S</span><span style=\"color: #800000; text-decoration-color: #800000; font-weight: bold\">FAI</span><span style=\"color: #008000; text-decoration-color: #008000; font-weight: bold\">G</span><span style=\"color: #800000; text-decoration-color: #800000; font-weight: bold\">L</span><span style=\"color: #008000; text-decoration-color: #008000; font-weight: bold\">T</span><span style=\"color: #800000; text-decoration-color: #800000; font-weight: bold\">PML</span><span style=\"color: #008000; text-decoration-color: #008000; font-weight: bold\">G</span><span style=\"color: #800000; text-decoration-color: #800000; font-weight: bold\">W</span><span style=\"color: #008000; text-decoration-color: #008000; font-weight: bold\">N</span><span style=\"color: #4e4e4e; text-decoration-color: #4e4e4e; font-weight: bold\">-------</span><span style=\"color: #008000; text-decoration-color: #008000; font-weight: bold\">NCGQ</span><span style=\"color: #800000; text-decoration-color: #800000; font-weight: bold\">P</span><span style=\"color: #af00ff; text-decoration-color: #af00ff; font-weight: bold\">K</span><span style=\"color: #000080; text-decoration-color: #000080; font-weight: bold\">E</span><span style=\"color: #008000; text-decoration-color: #008000; font-weight: bold\">G</span><span style=\"color: #af00ff; text-decoration-color: #af00ff; font-weight: bold\">K</span><span style=\"color: #008000; text-decoration-color: #008000; font-weight: bold\">NHSQGCG</span><span style=\"color: #000080; text-decoration-color: #000080; font-weight: bold\">E</span><span style=\"color: #008000; text-decoration-color: #008000; font-weight: bold\">GQ</span><span style=\"color: #800000; text-decoration-color: #800000; font-weight: bold\">VA</span><span style=\"color: #008000; text-decoration-color: #008000; font-weight: bold\">C</span><span style=\"color: #800000; text-decoration-color: #800000; font-weight: bold\">LF</span><span style=\"color: #000080; text-decoration-color: #000080; font-weight: bold\">ED</span><span style=\"color: #800000; text-decoration-color: #800000; font-weight: bold\">V</span>  │\n│ 2 AA2BR_H…   <span style=\"color: #008080; text-decoration-color: #008080; font-weight: bold\"> 88</span>  <span style=\"color: #800000; text-decoration-color: #800000; font-weight: bold\">L</span><span style=\"color: #008000; text-decoration-color: #008000; font-weight: bold\">TQSS</span><span style=\"color: #800000; text-decoration-color: #800000; font-weight: bold\">IF</span><span style=\"color: #008000; text-decoration-color: #008000; font-weight: bold\">S</span><span style=\"color: #800000; text-decoration-color: #800000; font-weight: bold\">LLAVAV</span><span style=\"color: #000080; text-decoration-color: #000080; font-weight: bold\">D</span><span style=\"color: #af00ff; text-decoration-color: #af00ff; font-weight: bold\">R</span><span style=\"color: #008000; text-decoration-color: #008000; font-weight: bold\">Y</span><span style=\"color: #800000; text-decoration-color: #800000; font-weight: bold\">LAI</span><span style=\"color: #008000; text-decoration-color: #008000; font-weight: bold\">C</span><span style=\"color: #800000; text-decoration-color: #800000; font-weight: bold\">VPL</span><span style=\"color: #af00ff; text-decoration-color: #af00ff; font-weight: bold\">R</span><span style=\"color: #008000; text-decoration-color: #008000; font-weight: bold\">Y</span><span style=\"color: #af00ff; text-decoration-color: #af00ff; font-weight: bold\">K</span><span style=\"color: #008000; text-decoration-color: #008000; font-weight: bold\">S</span><span style=\"color: #800000; text-decoration-color: #800000; font-weight: bold\">LV</span><span style=\"color: #008000; text-decoration-color: #008000; font-weight: bold\">TGT</span><span style=\"color: #af00ff; text-decoration-color: #af00ff; font-weight: bold\">R</span><span style=\"color: #800000; text-decoration-color: #800000; font-weight: bold\">A</span><span style=\"color: #af00ff; text-decoration-color: #af00ff; font-weight: bold\">R</span><span style=\"color: #008000; text-decoration-color: #008000; font-weight: bold\">G</span><span style=\"color: #800000; text-decoration-color: #800000; font-weight: bold\">VIAVLWVLAF</span><span style=\"color: #008000; text-decoration-color: #008000; font-weight: bold\">G</span><span style=\"color: #800000; text-decoration-color: #800000; font-weight: bold\">I</span><span style=\"color: #008000; text-decoration-color: #008000; font-weight: bold\">G</span><span style=\"color: #800000; text-decoration-color: #800000; font-weight: bold\">L</span><span style=\"color: #008000; text-decoration-color: #008000; font-weight: bold\">T</span><span style=\"color: #800000; text-decoration-color: #800000; font-weight: bold\">PFL</span><span style=\"color: #008000; text-decoration-color: #008000; font-weight: bold\">G</span><span style=\"color: #800000; text-decoration-color: #800000; font-weight: bold\">W</span><span style=\"color: #008000; text-decoration-color: #008000; font-weight: bold\">NS</span><span style=\"color: #af00ff; text-decoration-color: #af00ff; font-weight: bold\">K</span><span style=\"color: #000080; text-decoration-color: #000080; font-weight: bold\">D</span><span style=\"color: #008000; text-decoration-color: #008000; font-weight: bold\">S</span><span style=\"color: #800000; text-decoration-color: #800000; font-weight: bold\">A</span><span style=\"color: #008000; text-decoration-color: #008000; font-weight: bold\">TNNCT</span><span style=\"color: #000080; text-decoration-color: #000080; font-weight: bold\">E</span><span style=\"color: #800000; text-decoration-color: #800000; font-weight: bold\">PW</span><span style=\"color: #000080; text-decoration-color: #000080; font-weight: bold\">D</span><span style=\"color: #008000; text-decoration-color: #008000; font-weight: bold\">GTTN</span><span style=\"color: #000080; text-decoration-color: #000080; font-weight: bold\">E</span><span style=\"color: #008000; text-decoration-color: #008000; font-weight: bold\">SCC</span><span style=\"color: #4e4e4e; text-decoration-color: #4e4e4e; font-weight: bold\">---</span><span style=\"color: #800000; text-decoration-color: #800000; font-weight: bold\">LV</span><span style=\"color: #af00ff; text-decoration-color: #af00ff; font-weight: bold\">K</span><span style=\"color: #008000; text-decoration-color: #008000; font-weight: bold\">C</span><span style=\"color: #800000; text-decoration-color: #800000; font-weight: bold\">LF</span><span style=\"color: #000080; text-decoration-color: #000080; font-weight: bold\">E</span><span style=\"color: #008000; text-decoration-color: #008000; font-weight: bold\">N</span><span style=\"color: #800000; text-decoration-color: #800000; font-weight: bold\">V</span>  │\n│ 3 AA3R_HU…   <span style=\"color: #008080; text-decoration-color: #008080; font-weight: bold\"> 93</span>  <span style=\"color: #800000; text-decoration-color: #800000; font-weight: bold\">F</span><span style=\"color: #008000; text-decoration-color: #008000; font-weight: bold\">TH</span><span style=\"color: #800000; text-decoration-color: #800000; font-weight: bold\">A</span><span style=\"color: #008000; text-decoration-color: #008000; font-weight: bold\">S</span><span style=\"color: #800000; text-decoration-color: #800000; font-weight: bold\">IM</span><span style=\"color: #008000; text-decoration-color: #008000; font-weight: bold\">S</span><span style=\"color: #800000; text-decoration-color: #800000; font-weight: bold\">LLAIAV</span><span style=\"color: #000080; text-decoration-color: #000080; font-weight: bold\">D</span><span style=\"color: #af00ff; text-decoration-color: #af00ff; font-weight: bold\">R</span><span style=\"color: #008000; text-decoration-color: #008000; font-weight: bold\">Y</span><span style=\"color: #800000; text-decoration-color: #800000; font-weight: bold\">L</span><span style=\"color: #af00ff; text-decoration-color: #af00ff; font-weight: bold\">R</span><span style=\"color: #800000; text-decoration-color: #800000; font-weight: bold\">V</span><span style=\"color: #af00ff; text-decoration-color: #af00ff; font-weight: bold\">K</span><span style=\"color: #800000; text-decoration-color: #800000; font-weight: bold\">L</span><span style=\"color: #008000; text-decoration-color: #008000; font-weight: bold\">T</span><span style=\"color: #800000; text-decoration-color: #800000; font-weight: bold\">V</span><span style=\"color: #af00ff; text-decoration-color: #af00ff; font-weight: bold\">R</span><span style=\"color: #008000; text-decoration-color: #008000; font-weight: bold\">Y</span><span style=\"color: #af00ff; text-decoration-color: #af00ff; font-weight: bold\">KR</span><span style=\"color: #800000; text-decoration-color: #800000; font-weight: bold\">V</span><span style=\"color: #008000; text-decoration-color: #008000; font-weight: bold\">TTH</span><span style=\"color: #af00ff; text-decoration-color: #af00ff; font-weight: bold\">RR</span><span style=\"color: #800000; text-decoration-color: #800000; font-weight: bold\">IWLAL</span><span style=\"color: #008000; text-decoration-color: #008000; font-weight: bold\">G</span><span style=\"color: #800000; text-decoration-color: #800000; font-weight: bold\">L</span><span style=\"color: #008000; text-decoration-color: #008000; font-weight: bold\">C</span><span style=\"color: #800000; text-decoration-color: #800000; font-weight: bold\">WLV</span><span style=\"color: #008000; text-decoration-color: #008000; font-weight: bold\">S</span><span style=\"color: #800000; text-decoration-color: #800000; font-weight: bold\">FLV</span><span style=\"color: #008000; text-decoration-color: #008000; font-weight: bold\">G</span><span style=\"color: #800000; text-decoration-color: #800000; font-weight: bold\">L</span><span style=\"color: #008000; text-decoration-color: #008000; font-weight: bold\">T</span><span style=\"color: #800000; text-decoration-color: #800000; font-weight: bold\">PMF</span><span style=\"color: #008000; text-decoration-color: #008000; font-weight: bold\">G</span><span style=\"color: #800000; text-decoration-color: #800000; font-weight: bold\">W</span><span style=\"color: #008000; text-decoration-color: #008000; font-weight: bold\">N</span><span style=\"color: #800000; text-decoration-color: #800000; font-weight: bold\">M</span><span style=\"color: #af00ff; text-decoration-color: #af00ff; font-weight: bold\">K</span><span style=\"color: #800000; text-decoration-color: #800000; font-weight: bold\">L</span><span style=\"color: #008000; text-decoration-color: #008000; font-weight: bold\">TS</span><span style=\"color: #000080; text-decoration-color: #000080; font-weight: bold\">E</span><span style=\"color: #008000; text-decoration-color: #008000; font-weight: bold\">YH</span><span style=\"color: #af00ff; text-decoration-color: #af00ff; font-weight: bold\">R</span><span style=\"color: #4e4e4e; text-decoration-color: #4e4e4e; font-weight: bold\">-------------</span><span style=\"color: #008000; text-decoration-color: #008000; font-weight: bold\">N</span><span style=\"color: #800000; text-decoration-color: #800000; font-weight: bold\">V</span><span style=\"color: #008000; text-decoration-color: #008000; font-weight: bold\">T</span><span style=\"color: #800000; text-decoration-color: #800000; font-weight: bold\">FL</span><span style=\"color: #008000; text-decoration-color: #008000; font-weight: bold\">SCQ</span><span style=\"color: #800000; text-decoration-color: #800000; font-weight: bold\">FV</span><span style=\"color: #008000; text-decoration-color: #008000; font-weight: bold\">S</span><span style=\"color: #800000; text-decoration-color: #800000; font-weight: bold\">V</span>  │\n│                                                                                                                 │\n│ 0 AA1R_HU…   <span style=\"color: #008080; text-decoration-color: #008080; font-weight: bold\">175</span>  <span style=\"color: #800000; text-decoration-color: #800000; font-weight: bold\">I</span><span style=\"color: #008000; text-decoration-color: #008000; font-weight: bold\">S</span><span style=\"color: #800000; text-decoration-color: #800000; font-weight: bold\">M</span><span style=\"color: #000080; text-decoration-color: #000080; font-weight: bold\">E</span><span style=\"color: #008000; text-decoration-color: #008000; font-weight: bold\">Y</span><span style=\"color: #800000; text-decoration-color: #800000; font-weight: bold\">MV</span><span style=\"color: #008000; text-decoration-color: #008000; font-weight: bold\">Y</span><span style=\"color: #800000; text-decoration-color: #800000; font-weight: bold\">F</span><span style=\"color: #008000; text-decoration-color: #008000; font-weight: bold\">N</span><span style=\"color: #800000; text-decoration-color: #800000; font-weight: bold\">FFVWVLPPLLLMVLI</span><span style=\"color: #008000; text-decoration-color: #008000; font-weight: bold\">Y</span><span style=\"color: #800000; text-decoration-color: #800000; font-weight: bold\">L</span><span style=\"color: #000080; text-decoration-color: #000080; font-weight: bold\">E</span><span style=\"color: #800000; text-decoration-color: #800000; font-weight: bold\">VF</span><span style=\"color: #008000; text-decoration-color: #008000; font-weight: bold\">Y</span><span style=\"color: #800000; text-decoration-color: #800000; font-weight: bold\">LI</span><span style=\"color: #af00ff; text-decoration-color: #af00ff; font-weight: bold\">RK</span><span style=\"color: #008000; text-decoration-color: #008000; font-weight: bold\">Q</span><span style=\"color: #800000; text-decoration-color: #800000; font-weight: bold\">L</span><span style=\"color: #008000; text-decoration-color: #008000; font-weight: bold\">N</span><span style=\"color: #af00ff; text-decoration-color: #af00ff; font-weight: bold\">KK</span><span style=\"color: #800000; text-decoration-color: #800000; font-weight: bold\">V</span><span style=\"color: #008000; text-decoration-color: #008000; font-weight: bold\">S</span><span style=\"color: #800000; text-decoration-color: #800000; font-weight: bold\">A</span><span style=\"color: #008000; text-decoration-color: #008000; font-weight: bold\">S</span><span style=\"color: #4e4e4e; text-decoration-color: #4e4e4e; font-weight: bold\">--</span><span style=\"color: #008000; text-decoration-color: #008000; font-weight: bold\">SG</span><span style=\"color: #000080; text-decoration-color: #000080; font-weight: bold\">D</span><span style=\"color: #800000; text-decoration-color: #800000; font-weight: bold\">P</span><span style=\"color: #008000; text-decoration-color: #008000; font-weight: bold\">Q</span><span style=\"color: #af00ff; text-decoration-color: #af00ff; font-weight: bold\">K</span><span style=\"color: #008000; text-decoration-color: #008000; font-weight: bold\">YYG</span><span style=\"color: #af00ff; text-decoration-color: #af00ff; font-weight: bold\">K</span><span style=\"color: #000080; text-decoration-color: #000080; font-weight: bold\">E</span><span style=\"color: #800000; text-decoration-color: #800000; font-weight: bold\">L</span><span style=\"color: #af00ff; text-decoration-color: #af00ff; font-weight: bold\">K</span><span style=\"color: #800000; text-decoration-color: #800000; font-weight: bold\">IA</span><span style=\"color: #af00ff; text-decoration-color: #af00ff; font-weight: bold\">K</span><span style=\"color: #008000; text-decoration-color: #008000; font-weight: bold\">S</span><span style=\"color: #800000; text-decoration-color: #800000; font-weight: bold\">LALILFLFAL</span><span style=\"color: #008000; text-decoration-color: #008000; font-weight: bold\">S</span><span style=\"color: #800000; text-decoration-color: #800000; font-weight: bold\">WLPL</span><span style=\"color: #008000; text-decoration-color: #008000; font-weight: bold\">H</span><span style=\"color: #800000; text-decoration-color: #800000; font-weight: bold\">IL</span><span style=\"color: #008000; text-decoration-color: #008000; font-weight: bold\">NC</span><span style=\"color: #800000; text-decoration-color: #800000; font-weight: bold\">I</span><span style=\"color: #008000; text-decoration-color: #008000; font-weight: bold\">T</span><span style=\"color: #800000; text-decoration-color: #800000; font-weight: bold\">LF</span><span style=\"color: #008000; text-decoration-color: #008000; font-weight: bold\">C</span><span style=\"color: #800000; text-decoration-color: #800000; font-weight: bold\">P</span><span style=\"color: #008000; text-decoration-color: #008000; font-weight: bold\">SC</span><span style=\"color: #4e4e4e; text-decoration-color: #4e4e4e; font-weight: bold\">-</span>  │\n│ 1 AA2AR_H…   <span style=\"color: #008080; text-decoration-color: #008080; font-weight: bold\">172</span>  <span style=\"color: #800000; text-decoration-color: #800000; font-weight: bold\">VPM</span><span style=\"color: #008000; text-decoration-color: #008000; font-weight: bold\">NY</span><span style=\"color: #800000; text-decoration-color: #800000; font-weight: bold\">MV</span><span style=\"color: #008000; text-decoration-color: #008000; font-weight: bold\">Y</span><span style=\"color: #800000; text-decoration-color: #800000; font-weight: bold\">F</span><span style=\"color: #008000; text-decoration-color: #008000; font-weight: bold\">N</span><span style=\"color: #800000; text-decoration-color: #800000; font-weight: bold\">FFA</span><span style=\"color: #008000; text-decoration-color: #008000; font-weight: bold\">C</span><span style=\"color: #800000; text-decoration-color: #800000; font-weight: bold\">VLVPLLLML</span><span style=\"color: #008000; text-decoration-color: #008000; font-weight: bold\">G</span><span style=\"color: #800000; text-decoration-color: #800000; font-weight: bold\">V</span><span style=\"color: #008000; text-decoration-color: #008000; font-weight: bold\">Y</span><span style=\"color: #800000; text-decoration-color: #800000; font-weight: bold\">L</span><span style=\"color: #af00ff; text-decoration-color: #af00ff; font-weight: bold\">R</span><span style=\"color: #800000; text-decoration-color: #800000; font-weight: bold\">IFLAA</span><span style=\"color: #af00ff; text-decoration-color: #af00ff; font-weight: bold\">RR</span><span style=\"color: #008000; text-decoration-color: #008000; font-weight: bold\">Q</span><span style=\"color: #800000; text-decoration-color: #800000; font-weight: bold\">L</span><span style=\"color: #af00ff; text-decoration-color: #af00ff; font-weight: bold\">K</span><span style=\"color: #008000; text-decoration-color: #008000; font-weight: bold\">Q</span><span style=\"color: #800000; text-decoration-color: #800000; font-weight: bold\">M</span><span style=\"color: #000080; text-decoration-color: #000080; font-weight: bold\">E</span><span style=\"color: #008000; text-decoration-color: #008000; font-weight: bold\">SQ</span><span style=\"color: #800000; text-decoration-color: #800000; font-weight: bold\">PLP</span><span style=\"color: #008000; text-decoration-color: #008000; font-weight: bold\">G</span><span style=\"color: #000080; text-decoration-color: #000080; font-weight: bold\">E</span><span style=\"color: #af00ff; text-decoration-color: #af00ff; font-weight: bold\">R</span><span style=\"color: #800000; text-decoration-color: #800000; font-weight: bold\">A</span><span style=\"color: #af00ff; text-decoration-color: #af00ff; font-weight: bold\">R</span><span style=\"color: #008000; text-decoration-color: #008000; font-weight: bold\">ST</span><span style=\"color: #800000; text-decoration-color: #800000; font-weight: bold\">L</span><span style=\"color: #008000; text-decoration-color: #008000; font-weight: bold\">Q</span><span style=\"color: #af00ff; text-decoration-color: #af00ff; font-weight: bold\">K</span><span style=\"color: #000080; text-decoration-color: #000080; font-weight: bold\">E</span><span style=\"color: #800000; text-decoration-color: #800000; font-weight: bold\">V</span><span style=\"color: #008000; text-decoration-color: #008000; font-weight: bold\">H</span><span style=\"color: #800000; text-decoration-color: #800000; font-weight: bold\">AA</span><span style=\"color: #af00ff; text-decoration-color: #af00ff; font-weight: bold\">K</span><span style=\"color: #008000; text-decoration-color: #008000; font-weight: bold\">S</span><span style=\"color: #800000; text-decoration-color: #800000; font-weight: bold\">LAIIV</span><span style=\"color: #008000; text-decoration-color: #008000; font-weight: bold\">G</span><span style=\"color: #800000; text-decoration-color: #800000; font-weight: bold\">LFAL</span><span style=\"color: #008000; text-decoration-color: #008000; font-weight: bold\">C</span><span style=\"color: #800000; text-decoration-color: #800000; font-weight: bold\">WLPL</span><span style=\"color: #008000; text-decoration-color: #008000; font-weight: bold\">H</span><span style=\"color: #800000; text-decoration-color: #800000; font-weight: bold\">II</span><span style=\"color: #008000; text-decoration-color: #008000; font-weight: bold\">NC</span><span style=\"color: #800000; text-decoration-color: #800000; font-weight: bold\">F</span><span style=\"color: #008000; text-decoration-color: #008000; font-weight: bold\">T</span><span style=\"color: #800000; text-decoration-color: #800000; font-weight: bold\">FF</span><span style=\"color: #008000; text-decoration-color: #008000; font-weight: bold\">C</span><span style=\"color: #800000; text-decoration-color: #800000; font-weight: bold\">P</span><span style=\"color: #000080; text-decoration-color: #000080; font-weight: bold\">D</span><span style=\"color: #008000; text-decoration-color: #008000; font-weight: bold\">CS</span>  │\n│ 2 AA2BR_H…   <span style=\"color: #008080; text-decoration-color: #008080; font-weight: bold\">177</span>  <span style=\"color: #800000; text-decoration-color: #800000; font-weight: bold\">VPM</span><span style=\"color: #008000; text-decoration-color: #008000; font-weight: bold\">SY</span><span style=\"color: #800000; text-decoration-color: #800000; font-weight: bold\">MV</span><span style=\"color: #008000; text-decoration-color: #008000; font-weight: bold\">Y</span><span style=\"color: #800000; text-decoration-color: #800000; font-weight: bold\">F</span><span style=\"color: #008000; text-decoration-color: #008000; font-weight: bold\">N</span><span style=\"color: #800000; text-decoration-color: #800000; font-weight: bold\">FF</span><span style=\"color: #008000; text-decoration-color: #008000; font-weight: bold\">GC</span><span style=\"color: #800000; text-decoration-color: #800000; font-weight: bold\">VLPPLLIMLVI</span><span style=\"color: #008000; text-decoration-color: #008000; font-weight: bold\">Y</span><span style=\"color: #800000; text-decoration-color: #800000; font-weight: bold\">I</span><span style=\"color: #af00ff; text-decoration-color: #af00ff; font-weight: bold\">K</span><span style=\"color: #800000; text-decoration-color: #800000; font-weight: bold\">IFLVA</span><span style=\"color: #008000; text-decoration-color: #008000; font-weight: bold\">C</span><span style=\"color: #af00ff; text-decoration-color: #af00ff; font-weight: bold\">R</span><span style=\"color: #008000; text-decoration-color: #008000; font-weight: bold\">Q</span><span style=\"color: #800000; text-decoration-color: #800000; font-weight: bold\">L</span><span style=\"color: #008000; text-decoration-color: #008000; font-weight: bold\">Q</span><span style=\"color: #af00ff; text-decoration-color: #af00ff; font-weight: bold\">R</span><span style=\"color: #008000; text-decoration-color: #008000; font-weight: bold\">T</span><span style=\"color: #000080; text-decoration-color: #000080; font-weight: bold\">E</span><span style=\"color: #800000; text-decoration-color: #800000; font-weight: bold\">L</span><span style=\"color: #4e4e4e; text-decoration-color: #4e4e4e; font-weight: bold\">----</span><span style=\"color: #800000; text-decoration-color: #800000; font-weight: bold\">M</span><span style=\"color: #000080; text-decoration-color: #000080; font-weight: bold\">D</span><span style=\"color: #008000; text-decoration-color: #008000; font-weight: bold\">HS</span><span style=\"color: #af00ff; text-decoration-color: #af00ff; font-weight: bold\">R</span><span style=\"color: #008000; text-decoration-color: #008000; font-weight: bold\">TT</span><span style=\"color: #800000; text-decoration-color: #800000; font-weight: bold\">L</span><span style=\"color: #008000; text-decoration-color: #008000; font-weight: bold\">Q</span><span style=\"color: #af00ff; text-decoration-color: #af00ff; font-weight: bold\">R</span><span style=\"color: #000080; text-decoration-color: #000080; font-weight: bold\">E</span><span style=\"color: #800000; text-decoration-color: #800000; font-weight: bold\">I</span><span style=\"color: #008000; text-decoration-color: #008000; font-weight: bold\">H</span><span style=\"color: #800000; text-decoration-color: #800000; font-weight: bold\">AA</span><span style=\"color: #af00ff; text-decoration-color: #af00ff; font-weight: bold\">K</span><span style=\"color: #008000; text-decoration-color: #008000; font-weight: bold\">S</span><span style=\"color: #800000; text-decoration-color: #800000; font-weight: bold\">LAMIV</span><span style=\"color: #008000; text-decoration-color: #008000; font-weight: bold\">G</span><span style=\"color: #800000; text-decoration-color: #800000; font-weight: bold\">IFAL</span><span style=\"color: #008000; text-decoration-color: #008000; font-weight: bold\">C</span><span style=\"color: #800000; text-decoration-color: #800000; font-weight: bold\">WLPV</span><span style=\"color: #008000; text-decoration-color: #008000; font-weight: bold\">H</span><span style=\"color: #800000; text-decoration-color: #800000; font-weight: bold\">AV</span><span style=\"color: #008000; text-decoration-color: #008000; font-weight: bold\">NC</span><span style=\"color: #800000; text-decoration-color: #800000; font-weight: bold\">V</span><span style=\"color: #008000; text-decoration-color: #008000; font-weight: bold\">T</span><span style=\"color: #800000; text-decoration-color: #800000; font-weight: bold\">LF</span><span style=\"color: #008000; text-decoration-color: #008000; font-weight: bold\">Q</span><span style=\"color: #800000; text-decoration-color: #800000; font-weight: bold\">PA</span><span style=\"color: #008000; text-decoration-color: #008000; font-weight: bold\">QG</span>  │\n│ 3 AA3R_HU…   <span style=\"color: #008080; text-decoration-color: #008080; font-weight: bold\">172</span>  <span style=\"color: #800000; text-decoration-color: #800000; font-weight: bold\">M</span><span style=\"color: #af00ff; text-decoration-color: #af00ff; font-weight: bold\">R</span><span style=\"color: #800000; text-decoration-color: #800000; font-weight: bold\">M</span><span style=\"color: #000080; text-decoration-color: #000080; font-weight: bold\">D</span><span style=\"color: #008000; text-decoration-color: #008000; font-weight: bold\">Y</span><span style=\"color: #800000; text-decoration-color: #800000; font-weight: bold\">MV</span><span style=\"color: #008000; text-decoration-color: #008000; font-weight: bold\">Y</span><span style=\"color: #800000; text-decoration-color: #800000; font-weight: bold\">F</span><span style=\"color: #008000; text-decoration-color: #008000; font-weight: bold\">S</span><span style=\"color: #800000; text-decoration-color: #800000; font-weight: bold\">FL</span><span style=\"color: #008000; text-decoration-color: #008000; font-weight: bold\">T</span><span style=\"color: #800000; text-decoration-color: #800000; font-weight: bold\">WIFIPLVVM</span><span style=\"color: #008000; text-decoration-color: #008000; font-weight: bold\">C</span><span style=\"color: #800000; text-decoration-color: #800000; font-weight: bold\">AI</span><span style=\"color: #008000; text-decoration-color: #008000; font-weight: bold\">Y</span><span style=\"color: #800000; text-decoration-color: #800000; font-weight: bold\">L</span><span style=\"color: #000080; text-decoration-color: #000080; font-weight: bold\">D</span><span style=\"color: #800000; text-decoration-color: #800000; font-weight: bold\">IF</span><span style=\"color: #008000; text-decoration-color: #008000; font-weight: bold\">Y</span><span style=\"color: #800000; text-decoration-color: #800000; font-weight: bold\">II</span><span style=\"color: #af00ff; text-decoration-color: #af00ff; font-weight: bold\">R</span><span style=\"color: #008000; text-decoration-color: #008000; font-weight: bold\">N</span><span style=\"color: #af00ff; text-decoration-color: #af00ff; font-weight: bold\">K</span><span style=\"color: #800000; text-decoration-color: #800000; font-weight: bold\">L</span><span style=\"color: #008000; text-decoration-color: #008000; font-weight: bold\">S</span><span style=\"color: #800000; text-decoration-color: #800000; font-weight: bold\">L</span><span style=\"color: #008000; text-decoration-color: #008000; font-weight: bold\">N</span><span style=\"color: #800000; text-decoration-color: #800000; font-weight: bold\">L</span><span style=\"color: #008000; text-decoration-color: #008000; font-weight: bold\">SN</span><span style=\"color: #4e4e4e; text-decoration-color: #4e4e4e; font-weight: bold\">---</span><span style=\"color: #008000; text-decoration-color: #008000; font-weight: bold\">S</span><span style=\"color: #af00ff; text-decoration-color: #af00ff; font-weight: bold\">K</span><span style=\"color: #000080; text-decoration-color: #000080; font-weight: bold\">E</span><span style=\"color: #008000; text-decoration-color: #008000; font-weight: bold\">TG</span><span style=\"color: #800000; text-decoration-color: #800000; font-weight: bold\">AF</span><span style=\"color: #008000; text-decoration-color: #008000; font-weight: bold\">YG</span><span style=\"color: #af00ff; text-decoration-color: #af00ff; font-weight: bold\">R</span><span style=\"color: #000080; text-decoration-color: #000080; font-weight: bold\">E</span><span style=\"color: #800000; text-decoration-color: #800000; font-weight: bold\">F</span><span style=\"color: #af00ff; text-decoration-color: #af00ff; font-weight: bold\">K</span><span style=\"color: #008000; text-decoration-color: #008000; font-weight: bold\">T</span><span style=\"color: #800000; text-decoration-color: #800000; font-weight: bold\">A</span><span style=\"color: #af00ff; text-decoration-color: #af00ff; font-weight: bold\">K</span><span style=\"color: #008000; text-decoration-color: #008000; font-weight: bold\">S</span><span style=\"color: #800000; text-decoration-color: #800000; font-weight: bold\">LFLVLFLFAL</span><span style=\"color: #008000; text-decoration-color: #008000; font-weight: bold\">S</span><span style=\"color: #800000; text-decoration-color: #800000; font-weight: bold\">WLPL</span><span style=\"color: #008000; text-decoration-color: #008000; font-weight: bold\">S</span><span style=\"color: #800000; text-decoration-color: #800000; font-weight: bold\">II</span><span style=\"color: #008000; text-decoration-color: #008000; font-weight: bold\">NC</span><span style=\"color: #800000; text-decoration-color: #800000; font-weight: bold\">II</span><span style=\"color: #008000; text-decoration-color: #008000; font-weight: bold\">Y</span><span style=\"color: #800000; text-decoration-color: #800000; font-weight: bold\">F</span><span style=\"color: #008000; text-decoration-color: #008000; font-weight: bold\">NG</span><span style=\"color: #4e4e4e; text-decoration-color: #4e4e4e; font-weight: bold\">---</span>  │\n│                                                                                                                 │\n│ 0 AA1R_HU…   <span style=\"color: #008080; text-decoration-color: #008080; font-weight: bold\">264</span>  <span style=\"color: #4e4e4e; text-decoration-color: #4e4e4e; font-weight: bold\">-</span><span style=\"color: #008000; text-decoration-color: #008000; font-weight: bold\">H</span><span style=\"color: #af00ff; text-decoration-color: #af00ff; font-weight: bold\">K</span><span style=\"color: #800000; text-decoration-color: #800000; font-weight: bold\">P</span><span style=\"color: #008000; text-decoration-color: #008000; font-weight: bold\">S</span><span style=\"color: #800000; text-decoration-color: #800000; font-weight: bold\">IL</span><span style=\"color: #008000; text-decoration-color: #008000; font-weight: bold\">TY</span><span style=\"color: #800000; text-decoration-color: #800000; font-weight: bold\">IAIFL</span><span style=\"color: #008000; text-decoration-color: #008000; font-weight: bold\">THGNS</span><span style=\"color: #800000; text-decoration-color: #800000; font-weight: bold\">AM</span><span style=\"color: #008000; text-decoration-color: #008000; font-weight: bold\">N</span><span style=\"color: #800000; text-decoration-color: #800000; font-weight: bold\">PIV</span><span style=\"color: #008000; text-decoration-color: #008000; font-weight: bold\">Y</span><span style=\"color: #800000; text-decoration-color: #800000; font-weight: bold\">AF</span><span style=\"color: #af00ff; text-decoration-color: #af00ff; font-weight: bold\">R</span><span style=\"color: #800000; text-decoration-color: #800000; font-weight: bold\">I</span><span style=\"color: #008000; text-decoration-color: #008000; font-weight: bold\">Q</span><span style=\"color: #af00ff; text-decoration-color: #af00ff; font-weight: bold\">K</span><span style=\"color: #800000; text-decoration-color: #800000; font-weight: bold\">F</span><span style=\"color: #af00ff; text-decoration-color: #af00ff; font-weight: bold\">R</span><span style=\"color: #800000; text-decoration-color: #800000; font-weight: bold\">V</span><span style=\"color: #008000; text-decoration-color: #008000; font-weight: bold\">T</span><span style=\"color: #800000; text-decoration-color: #800000; font-weight: bold\">FL</span><span style=\"color: #af00ff; text-decoration-color: #af00ff; font-weight: bold\">K</span><span style=\"color: #800000; text-decoration-color: #800000; font-weight: bold\">IW</span><span style=\"color: #008000; text-decoration-color: #008000; font-weight: bold\">N</span><span style=\"color: #000080; text-decoration-color: #000080; font-weight: bold\">D</span><span style=\"color: #008000; text-decoration-color: #008000; font-weight: bold\">H</span><span style=\"color: #800000; text-decoration-color: #800000; font-weight: bold\">F</span><span style=\"color: #af00ff; text-decoration-color: #af00ff; font-weight: bold\">R</span><span style=\"color: #008000; text-decoration-color: #008000; font-weight: bold\">CQ</span><span style=\"color: #800000; text-decoration-color: #800000; font-weight: bold\">PAPPI</span><span style=\"color: #000080; text-decoration-color: #000080; font-weight: bold\">DED</span><span style=\"color: #800000; text-decoration-color: #800000; font-weight: bold\">LP</span><span style=\"color: #000080; text-decoration-color: #000080; font-weight: bold\">EE</span><span style=\"color: #af00ff; text-decoration-color: #af00ff; font-weight: bold\">R</span><span style=\"color: #800000; text-decoration-color: #800000; font-weight: bold\">P</span><span style=\"color: #000080; text-decoration-color: #000080; font-weight: bold\">DD</span><span style=\"color: #4e4e4e; text-decoration-color: #4e4e4e; font-weight: bold\">----------------------------</span>  │\n│ 1 AA2AR_H…   <span style=\"color: #008080; text-decoration-color: #008080; font-weight: bold\">264</span>  <span style=\"color: #4e4e4e; text-decoration-color: #4e4e4e; font-weight: bold\">-</span><span style=\"color: #008000; text-decoration-color: #008000; font-weight: bold\">H</span><span style=\"color: #800000; text-decoration-color: #800000; font-weight: bold\">APLWLM</span><span style=\"color: #008000; text-decoration-color: #008000; font-weight: bold\">Y</span><span style=\"color: #800000; text-decoration-color: #800000; font-weight: bold\">LAIVL</span><span style=\"color: #008000; text-decoration-color: #008000; font-weight: bold\">SHTNS</span><span style=\"color: #800000; text-decoration-color: #800000; font-weight: bold\">VV</span><span style=\"color: #008000; text-decoration-color: #008000; font-weight: bold\">N</span><span style=\"color: #800000; text-decoration-color: #800000; font-weight: bold\">PFI</span><span style=\"color: #008000; text-decoration-color: #008000; font-weight: bold\">Y</span><span style=\"color: #800000; text-decoration-color: #800000; font-weight: bold\">A</span><span style=\"color: #008000; text-decoration-color: #008000; font-weight: bold\">Y</span><span style=\"color: #af00ff; text-decoration-color: #af00ff; font-weight: bold\">R</span><span style=\"color: #800000; text-decoration-color: #800000; font-weight: bold\">I</span><span style=\"color: #af00ff; text-decoration-color: #af00ff; font-weight: bold\">R</span><span style=\"color: #000080; text-decoration-color: #000080; font-weight: bold\">E</span><span style=\"color: #800000; text-decoration-color: #800000; font-weight: bold\">F</span><span style=\"color: #af00ff; text-decoration-color: #af00ff; font-weight: bold\">R</span><span style=\"color: #008000; text-decoration-color: #008000; font-weight: bold\">QT</span><span style=\"color: #800000; text-decoration-color: #800000; font-weight: bold\">F</span><span style=\"color: #af00ff; text-decoration-color: #af00ff; font-weight: bold\">RK</span><span style=\"color: #800000; text-decoration-color: #800000; font-weight: bold\">II</span><span style=\"color: #af00ff; text-decoration-color: #af00ff; font-weight: bold\">R</span><span style=\"color: #008000; text-decoration-color: #008000; font-weight: bold\">SH</span><span style=\"color: #800000; text-decoration-color: #800000; font-weight: bold\">VL</span><span style=\"color: #af00ff; text-decoration-color: #af00ff; font-weight: bold\">R</span><span style=\"color: #008000; text-decoration-color: #008000; font-weight: bold\">QQ</span><span style=\"color: #000080; text-decoration-color: #000080; font-weight: bold\">E</span><span style=\"color: #800000; text-decoration-color: #800000; font-weight: bold\">PF</span><span style=\"color: #af00ff; text-decoration-color: #af00ff; font-weight: bold\">K</span><span style=\"color: #800000; text-decoration-color: #800000; font-weight: bold\">AA</span><span style=\"color: #008000; text-decoration-color: #008000; font-weight: bold\">GTS</span><span style=\"color: #800000; text-decoration-color: #800000; font-weight: bold\">A</span><span style=\"color: #af00ff; text-decoration-color: #af00ff; font-weight: bold\">R</span><span style=\"color: #800000; text-decoration-color: #800000; font-weight: bold\">VLAA</span><span style=\"color: #008000; text-decoration-color: #008000; font-weight: bold\">HGS</span><span style=\"color: #000080; text-decoration-color: #000080; font-weight: bold\">D</span><span style=\"color: #008000; text-decoration-color: #008000; font-weight: bold\">G</span><span style=\"color: #000080; text-decoration-color: #000080; font-weight: bold\">E</span><span style=\"color: #008000; text-decoration-color: #008000; font-weight: bold\">Q</span><span style=\"color: #800000; text-decoration-color: #800000; font-weight: bold\">V</span><span style=\"color: #008000; text-decoration-color: #008000; font-weight: bold\">S</span><span style=\"color: #800000; text-decoration-color: #800000; font-weight: bold\">L</span><span style=\"color: #af00ff; text-decoration-color: #af00ff; font-weight: bold\">R</span><span style=\"color: #800000; text-decoration-color: #800000; font-weight: bold\">L</span><span style=\"color: #008000; text-decoration-color: #008000; font-weight: bold\">NGH</span><span style=\"color: #800000; text-decoration-color: #800000; font-weight: bold\">PP</span><span style=\"color: #008000; text-decoration-color: #008000; font-weight: bold\">G</span><span style=\"color: #800000; text-decoration-color: #800000; font-weight: bold\">VWA</span><span style=\"color: #008000; text-decoration-color: #008000; font-weight: bold\">NGS</span><span style=\"color: #800000; text-decoration-color: #800000; font-weight: bold\">AP</span><span style=\"color: #008000; text-decoration-color: #008000; font-weight: bold\">H</span><span style=\"color: #800000; text-decoration-color: #800000; font-weight: bold\">P</span>  │\n│ 2 AA2BR_H…   <span style=\"color: #008080; text-decoration-color: #008080; font-weight: bold\">265</span>  <span style=\"color: #af00ff; text-decoration-color: #af00ff; font-weight: bold\">K</span><span style=\"color: #008000; text-decoration-color: #008000; font-weight: bold\">N</span><span style=\"color: #af00ff; text-decoration-color: #af00ff; font-weight: bold\">K</span><span style=\"color: #800000; text-decoration-color: #800000; font-weight: bold\">P</span><span style=\"color: #af00ff; text-decoration-color: #af00ff; font-weight: bold\">K</span><span style=\"color: #800000; text-decoration-color: #800000; font-weight: bold\">WAM</span><span style=\"color: #008000; text-decoration-color: #008000; font-weight: bold\">N</span><span style=\"color: #800000; text-decoration-color: #800000; font-weight: bold\">MAILL</span><span style=\"color: #008000; text-decoration-color: #008000; font-weight: bold\">SH</span><span style=\"color: #800000; text-decoration-color: #800000; font-weight: bold\">A</span><span style=\"color: #008000; text-decoration-color: #008000; font-weight: bold\">NS</span><span style=\"color: #800000; text-decoration-color: #800000; font-weight: bold\">VV</span><span style=\"color: #008000; text-decoration-color: #008000; font-weight: bold\">N</span><span style=\"color: #800000; text-decoration-color: #800000; font-weight: bold\">PIV</span><span style=\"color: #008000; text-decoration-color: #008000; font-weight: bold\">Y</span><span style=\"color: #800000; text-decoration-color: #800000; font-weight: bold\">A</span><span style=\"color: #008000; text-decoration-color: #008000; font-weight: bold\">Y</span><span style=\"color: #af00ff; text-decoration-color: #af00ff; font-weight: bold\">R</span><span style=\"color: #008000; text-decoration-color: #008000; font-weight: bold\">N</span><span style=\"color: #af00ff; text-decoration-color: #af00ff; font-weight: bold\">R</span><span style=\"color: #000080; text-decoration-color: #000080; font-weight: bold\">D</span><span style=\"color: #800000; text-decoration-color: #800000; font-weight: bold\">F</span><span style=\"color: #af00ff; text-decoration-color: #af00ff; font-weight: bold\">R</span><span style=\"color: #008000; text-decoration-color: #008000; font-weight: bold\">YT</span><span style=\"color: #800000; text-decoration-color: #800000; font-weight: bold\">F</span><span style=\"color: #008000; text-decoration-color: #008000; font-weight: bold\">H</span><span style=\"color: #af00ff; text-decoration-color: #af00ff; font-weight: bold\">K</span><span style=\"color: #800000; text-decoration-color: #800000; font-weight: bold\">II</span><span style=\"color: #008000; text-decoration-color: #008000; font-weight: bold\">S</span><span style=\"color: #af00ff; text-decoration-color: #af00ff; font-weight: bold\">R</span><span style=\"color: #008000; text-decoration-color: #008000; font-weight: bold\">Y</span><span style=\"color: #800000; text-decoration-color: #800000; font-weight: bold\">LL</span><span style=\"color: #008000; text-decoration-color: #008000; font-weight: bold\">CQ</span><span style=\"color: #800000; text-decoration-color: #800000; font-weight: bold\">A</span><span style=\"color: #000080; text-decoration-color: #000080; font-weight: bold\">D</span><span style=\"color: #800000; text-decoration-color: #800000; font-weight: bold\">V</span><span style=\"color: #af00ff; text-decoration-color: #af00ff; font-weight: bold\">K</span><span style=\"color: #008000; text-decoration-color: #008000; font-weight: bold\">SGNGQ</span><span style=\"color: #4e4e4e; text-decoration-color: #4e4e4e; font-weight: bold\">----------</span><span style=\"color: #800000; text-decoration-color: #800000; font-weight: bold\">A</span><span style=\"color: #008000; text-decoration-color: #008000; font-weight: bold\">G</span><span style=\"color: #800000; text-decoration-color: #800000; font-weight: bold\">V</span><span style=\"color: #008000; text-decoration-color: #008000; font-weight: bold\">Q</span><span style=\"color: #800000; text-decoration-color: #800000; font-weight: bold\">PAL</span><span style=\"color: #008000; text-decoration-color: #008000; font-weight: bold\">G</span><span style=\"color: #800000; text-decoration-color: #800000; font-weight: bold\">V</span><span style=\"color: #008000; text-decoration-color: #008000; font-weight: bold\">G</span><span style=\"color: #800000; text-decoration-color: #800000; font-weight: bold\">L</span><span style=\"color: #4e4e4e; text-decoration-color: #4e4e4e; font-weight: bold\">--------------</span>  │\n│ 3 AA3R_HU…   <span style=\"color: #008080; text-decoration-color: #008080; font-weight: bold\">258</span>  <span style=\"color: #4e4e4e; text-decoration-color: #4e4e4e; font-weight: bold\">-</span><span style=\"color: #000080; text-decoration-color: #000080; font-weight: bold\">E</span><span style=\"color: #800000; text-decoration-color: #800000; font-weight: bold\">VP</span><span style=\"color: #008000; text-decoration-color: #008000; font-weight: bold\">Q</span><span style=\"color: #800000; text-decoration-color: #800000; font-weight: bold\">LVL</span><span style=\"color: #008000; text-decoration-color: #008000; font-weight: bold\">Y</span><span style=\"color: #800000; text-decoration-color: #800000; font-weight: bold\">M</span><span style=\"color: #008000; text-decoration-color: #008000; font-weight: bold\">G</span><span style=\"color: #800000; text-decoration-color: #800000; font-weight: bold\">ILL</span><span style=\"color: #008000; text-decoration-color: #008000; font-weight: bold\">SH</span><span style=\"color: #800000; text-decoration-color: #800000; font-weight: bold\">A</span><span style=\"color: #008000; text-decoration-color: #008000; font-weight: bold\">NS</span><span style=\"color: #800000; text-decoration-color: #800000; font-weight: bold\">MM</span><span style=\"color: #008000; text-decoration-color: #008000; font-weight: bold\">N</span><span style=\"color: #800000; text-decoration-color: #800000; font-weight: bold\">PIV</span><span style=\"color: #008000; text-decoration-color: #008000; font-weight: bold\">Y</span><span style=\"color: #800000; text-decoration-color: #800000; font-weight: bold\">A</span><span style=\"color: #008000; text-decoration-color: #008000; font-weight: bold\">Y</span><span style=\"color: #af00ff; text-decoration-color: #af00ff; font-weight: bold\">K</span><span style=\"color: #800000; text-decoration-color: #800000; font-weight: bold\">I</span><span style=\"color: #af00ff; text-decoration-color: #af00ff; font-weight: bold\">KK</span><span style=\"color: #800000; text-decoration-color: #800000; font-weight: bold\">F</span><span style=\"color: #af00ff; text-decoration-color: #af00ff; font-weight: bold\">K</span><span style=\"color: #000080; text-decoration-color: #000080; font-weight: bold\">E</span><span style=\"color: #008000; text-decoration-color: #008000; font-weight: bold\">TY</span><span style=\"color: #800000; text-decoration-color: #800000; font-weight: bold\">LLIL</span><span style=\"color: #af00ff; text-decoration-color: #af00ff; font-weight: bold\">K</span><span style=\"color: #800000; text-decoration-color: #800000; font-weight: bold\">A</span><span style=\"color: #008000; text-decoration-color: #008000; font-weight: bold\">C</span><span style=\"color: #800000; text-decoration-color: #800000; font-weight: bold\">VV</span><span style=\"color: #008000; text-decoration-color: #008000; font-weight: bold\">CH</span><span style=\"color: #800000; text-decoration-color: #800000; font-weight: bold\">P</span><span style=\"color: #008000; text-decoration-color: #008000; font-weight: bold\">S</span><span style=\"color: #000080; text-decoration-color: #000080; font-weight: bold\">D</span><span style=\"color: #008000; text-decoration-color: #008000; font-weight: bold\">S</span><span style=\"color: #800000; text-decoration-color: #800000; font-weight: bold\">L</span><span style=\"color: #000080; text-decoration-color: #000080; font-weight: bold\">D</span><span style=\"color: #008000; text-decoration-color: #008000; font-weight: bold\">TS</span><span style=\"color: #800000; text-decoration-color: #800000; font-weight: bold\">I</span><span style=\"color: #000080; text-decoration-color: #000080; font-weight: bold\">E</span><span style=\"color: #af00ff; text-decoration-color: #af00ff; font-weight: bold\">K</span><span style=\"color: #008000; text-decoration-color: #008000; font-weight: bold\">NS</span><span style=\"color: #000080; text-decoration-color: #000080; font-weight: bold\">E</span><span style=\"color: #4e4e4e; text-decoration-color: #4e4e4e; font-weight: bold\">------------------------------</span>  │\n│                                                                                                                 │\n│ 0 AA1R_HU…   <span style=\"color: #008080; text-decoration-color: #008080; font-weight: bold\">327</span>  <span style=\"color: #4e4e4e; text-decoration-color: #4e4e4e; font-weight: bold\">----------------------------------------------------------</span>                                    │\n│ 1 AA2AR_H…   <span style=\"color: #008080; text-decoration-color: #008080; font-weight: bold\">355</span>  <span style=\"color: #000080; text-decoration-color: #000080; font-weight: bold\">E</span><span style=\"color: #af00ff; text-decoration-color: #af00ff; font-weight: bold\">RR</span><span style=\"color: #800000; text-decoration-color: #800000; font-weight: bold\">P</span><span style=\"color: #008000; text-decoration-color: #008000; font-weight: bold\">NGY</span><span style=\"color: #800000; text-decoration-color: #800000; font-weight: bold\">AL</span><span style=\"color: #008000; text-decoration-color: #008000; font-weight: bold\">G</span><span style=\"color: #800000; text-decoration-color: #800000; font-weight: bold\">LV</span><span style=\"color: #008000; text-decoration-color: #008000; font-weight: bold\">SGGS</span><span style=\"color: #800000; text-decoration-color: #800000; font-weight: bold\">A</span><span style=\"color: #008000; text-decoration-color: #008000; font-weight: bold\">Q</span><span style=\"color: #000080; text-decoration-color: #000080; font-weight: bold\">E</span><span style=\"color: #008000; text-decoration-color: #008000; font-weight: bold\">SQGNTG</span><span style=\"color: #800000; text-decoration-color: #800000; font-weight: bold\">LP</span><span style=\"color: #000080; text-decoration-color: #000080; font-weight: bold\">D</span><span style=\"color: #800000; text-decoration-color: #800000; font-weight: bold\">V</span><span style=\"color: #000080; text-decoration-color: #000080; font-weight: bold\">E</span><span style=\"color: #800000; text-decoration-color: #800000; font-weight: bold\">LL</span><span style=\"color: #008000; text-decoration-color: #008000; font-weight: bold\">SH</span><span style=\"color: #000080; text-decoration-color: #000080; font-weight: bold\">E</span><span style=\"color: #800000; text-decoration-color: #800000; font-weight: bold\">L</span><span style=\"color: #af00ff; text-decoration-color: #af00ff; font-weight: bold\">K</span><span style=\"color: #008000; text-decoration-color: #008000; font-weight: bold\">G</span><span style=\"color: #800000; text-decoration-color: #800000; font-weight: bold\">V</span><span style=\"color: #008000; text-decoration-color: #008000; font-weight: bold\">C</span><span style=\"color: #800000; text-decoration-color: #800000; font-weight: bold\">P</span><span style=\"color: #000080; text-decoration-color: #000080; font-weight: bold\">E</span><span style=\"color: #800000; text-decoration-color: #800000; font-weight: bold\">PP</span><span style=\"color: #008000; text-decoration-color: #008000; font-weight: bold\">G</span><span style=\"color: #800000; text-decoration-color: #800000; font-weight: bold\">L</span><span style=\"color: #000080; text-decoration-color: #000080; font-weight: bold\">DD</span><span style=\"color: #800000; text-decoration-color: #800000; font-weight: bold\">PLA</span><span style=\"color: #008000; text-decoration-color: #008000; font-weight: bold\">Q</span><span style=\"color: #000080; text-decoration-color: #000080; font-weight: bold\">D</span><span style=\"color: #008000; text-decoration-color: #008000; font-weight: bold\">G</span><span style=\"color: #800000; text-decoration-color: #800000; font-weight: bold\">A</span><span style=\"color: #008000; text-decoration-color: #008000; font-weight: bold\">G</span><span style=\"color: #800000; text-decoration-color: #800000; font-weight: bold\">V</span><span style=\"color: #008000; text-decoration-color: #008000; font-weight: bold\">S</span>                                    │\n│ 2 AA2BR_H…   <span style=\"color: #008080; text-decoration-color: #008080; font-weight: bold\">333</span>  <span style=\"color: #4e4e4e; text-decoration-color: #4e4e4e; font-weight: bold\">----------------------------------------------------------</span>                                    │\n│ 3 AA3R_HU…   <span style=\"color: #008080; text-decoration-color: #008080; font-weight: bold\">319</span>  <span style=\"color: #4e4e4e; text-decoration-color: #4e4e4e; font-weight: bold\">----------------------------------------------------------</span>                                    │\n╰─────────────────────────────────────────────────────────────────────────────────────────────────────────────────╯\n</pre>\n"
     },
     "metadata": {},
     "output_type": "display_data"
    }
   ],
   "source": [
    "# Read MSA\n",
    "msa = Bio.AlignIO.read(alignment_file, \"fasta\")\n",
    "viewer = RichAlignment(\n",
    "    names=[record.description for record in msa],\n",
    "    sequences=[str(record.seq) for record in msa],\n",
    ")\n",
    "# Visualize MSA\n",
    "panel = rich.panel.Panel(viewer, title=\"Multiple sequence alignment\")\n",
    "rich.print(panel)"
   ],
   "metadata": {
    "collapsed": false,
    "pycharm": {
     "name": "#%%\n"
    }
   }
  },
  {
   "cell_type": "markdown",
   "metadata": {},
   "source": [
    "####  Calculate protein descriptors"
   ]
  },
  {
   "cell_type": "markdown",
   "source": [
    "Now that our protein sequences are aligned, we can calculate protein descriptors"
   ],
   "metadata": {
    "collapsed": false,
    "pycharm": {
     "name": "#%% md\n"
    }
   }
  },
  {
   "cell_type": "code",
   "execution_count": null,
   "outputs": [],
   "source": [],
   "metadata": {
    "collapsed": false,
    "pycharm": {
     "name": "#%%\n"
    }
   }
  },
  {
   "cell_type": "markdown",
   "source": [
    "#### Calculate compound descriptors"
   ],
   "metadata": {
    "collapsed": false,
    "pycharm": {
     "name": "#%% md\n"
    }
   }
  },
  {
   "cell_type": "markdown",
   "source": [
    "Explain"
   ],
   "metadata": {
    "collapsed": false,
    "pycharm": {
     "name": "#%% md\n"
    }
   }
  },
  {
   "cell_type": "code",
   "execution_count": null,
   "outputs": [],
   "source": [],
   "metadata": {
    "collapsed": false,
    "pycharm": {
     "name": "#%%\n"
    }
   }
  },
  {
   "cell_type": "markdown",
   "source": [
    "### Proteochemometrics modelling"
   ],
   "metadata": {
    "collapsed": false,
    "pycharm": {
     "name": "#%% md\n"
    }
   }
  },
  {
   "cell_type": "markdown",
   "source": [
    "Explain"
   ],
   "metadata": {
    "collapsed": false,
    "pycharm": {
     "name": "#%% md\n"
    }
   }
  },
  {
   "cell_type": "markdown",
   "source": [
    "#### Helper functions"
   ],
   "metadata": {
    "collapsed": false,
    "pycharm": {
     "name": "#%% md\n"
    }
   }
  },
  {
   "cell_type": "markdown",
   "source": [
    "Explain"
   ],
   "metadata": {
    "collapsed": false,
    "pycharm": {
     "name": "#%% md\n"
    }
   }
  },
  {
   "cell_type": "code",
   "execution_count": null,
   "outputs": [],
   "source": [],
   "metadata": {
    "collapsed": false,
    "pycharm": {
     "name": "#%%\n"
    }
   }
  },
  {
   "cell_type": "markdown",
   "source": [
    "#### Model training and validation"
   ],
   "metadata": {
    "collapsed": false,
    "pycharm": {
     "name": "#%% md\n"
    }
   }
  },
  {
   "cell_type": "markdown",
   "metadata": {
    "pycharm": {
     "name": "#%% md\n"
    }
   },
   "source": [
    "Explain"
   ]
  },
  {
   "cell_type": "code",
   "execution_count": null,
   "metadata": {},
   "outputs": [],
   "source": []
  },
  {
   "cell_type": "markdown",
   "metadata": {},
   "source": [
    "## Discussion\n",
    "\n",
    "Wrap up the talktorial's content here and discuss pros/cons and open questions/challenges.\n",
    "Compared to purely ligand-based compound activity prediction models, PCM modelling has certain advantages and limitations."
   ]
  },
  {
   "cell_type": "markdown",
   "metadata": {},
   "source": [
    "## Quiz\n",
    "\n",
    "1. What types of features are needed for PCM?\n",
    "2. How many types of training/test set splitting methods commonly used in PCM modelling do you know?\n",
    "3. Which applications do you know of PCM in drug discovery?"
   ]
  },
  {
   "cell_type": "markdown",
   "metadata": {},
   "source": [
    "<div class=\"alert alert-block alert-info\">\n",
    "\n",
    "<b>Useful checks at the end</b>: \n",
    "    \n",
    "<ul>\n",
    "<li>Clear output and rerun your complete notebook. Does it finish without errors?</li>\n",
    "<li>Check if your talktorial's runtime is as excepted. If not, try to find out which step(s) take unexpectedly long.</li>\n",
    "<li>Flag code cells with <code># NBVAL_CHECK_OUTPUT</code> that have deterministic output and should be tested within our Continuous Integration (CI) framework.</li>\n",
    "</ul>\n",
    "\n",
    "</div>"
   ]
  },
  {
   "cell_type": "code",
   "execution_count": null,
   "metadata": {},
   "outputs": [],
   "source": []
  }
 ],
 "metadata": {
  "kernelspec": {
   "display_name": "Python 3",
   "language": "python",
   "name": "python3"
  },
  "language_info": {
   "codemirror_mode": {
    "name": "ipython",
    "version": 3
   },
   "file_extension": ".py",
   "mimetype": "text/x-python",
   "name": "python",
   "nbconvert_exporter": "python",
   "pygments_lexer": "ipython3",
   "version": "3.9.4"
  },
  "widgets": {
   "application/vnd.jupyter.widget-state+json": {
    "state": {},
    "version_major": 2,
    "version_minor": 0
   }
  }
 },
 "nbformat": 4,
 "nbformat_minor": 4
}