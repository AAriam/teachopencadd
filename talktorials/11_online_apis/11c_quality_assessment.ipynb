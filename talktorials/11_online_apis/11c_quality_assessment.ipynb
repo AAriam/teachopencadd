{
 "cells": [
  {
   "cell_type": "markdown",
   "metadata": {},
   "source": [
    "# Talktorial 11 (part C)\n",
    "\n",
    "# CADD web services that can be used via a Python API\n",
    "\n",
    "__Developed at AG Volkamer, Charité__\n",
    "\n",
    "Dr. Jaime Rodríguez-Guerra\n",
    "\n",
    "## Aim of this talktorial\n",
    "\n",
    "> This is part C of the \"Online webservices\" talktorial:\n",
    ">\n",
    "> - 11a. Querying KLIFS & PubChem for potential kinase inhibitors\n",
    "> - 11b. Docking the candidates against the target obtained in 11a\n",
    "> - __11c. Assessing the results and comparing against known data__\n",
    "\n",
    "After obtaining input structures and docking them, we will assess whether the results are any good.\n",
    "\n",
    "## Learning goals\n",
    "\n",
    "### Theory\n",
    "\n",
    "- Protein-ligand interactions\n",
    "- False positives in docking\n",
    "\n",
    "### Practical\n",
    "\n",
    "- Visualize the results\n",
    "- Run automated analysis\n",
    "\n",
    "### Discussion\n",
    "\n",
    "Pending.\n",
    "\n",
    "### Quiz\n",
    "\n",
    "Pending.\n",
    "\n",
    "***"
   ]
  },
  {
   "cell_type": "markdown",
   "metadata": {},
   "source": [
    "# Theory\n",
    "\n",
    "## Protein-ligand interactions\n",
    "\n",
    "Pending\n",
    "\n",
    "## False positives\n",
    "\n",
    "Pending\n",
    "\n",
    "***"
   ]
  },
  {
   "cell_type": "markdown",
   "metadata": {},
   "source": [
    "# Practical\n",
    "\n",
    "## Visualize the results\n",
    "\n",
    "Use `nglview` for that! It's compatible with `PDBQT` files out of the box."
   ]
  },
  {
   "cell_type": "raw",
   "metadata": {},
   "source": [
    "!pip install nglview\n",
    "!nglview install\n",
    "!nglview enable"
   ]
  },
  {
   "cell_type": "code",
   "execution_count": 35,
   "metadata": {},
   "outputs": [],
   "source": [
    "import pandas as pd\n",
    "import time\n",
    "import nglview as nv\n",
    "from ipywidgets import AppLayout, Layout, Select"
   ]
  },
  {
   "cell_type": "code",
   "execution_count": 2,
   "metadata": {},
   "outputs": [],
   "source": [
    "def create_viewer(protein, ligands, affinities):\n",
    "    \"\"\"\n",
    "    Create a nglview widget with the protein and all the ligands labeled by affinities\n",
    "    \"\"\"\n",
    "    v = nv.show_file(protein)\n",
    "    label_kwargs = dict(labelType=\"text\", sele=\"@0\", showBackground=True, backgroundColor=\"black\")\n",
    "    for ligand, affinity in zip(ligands, affinities):\n",
    "        c = v.add_component(ligand)\n",
    "        c.add_label(labelText=[str(affinity)], **label_kwargs)\n",
    "    return v\n",
    "\n",
    "def split_pdbqt(path):\n",
    "    \"\"\"\n",
    "    Split a multimodel PDBQT into separate files.\n",
    "    \"\"\"\n",
    "    files = []\n",
    "    with open(path) as f:\n",
    "        lines = []\n",
    "        i = 0\n",
    "        for line in f:\n",
    "            lines.append(line)\n",
    "            if line.strip() == 'ENDMDL':\n",
    "                fn = f'data/results.{i}.pdbqt'\n",
    "                with open(fn, 'w') as o:\n",
    "                    o.write(''.join(lines))\n",
    "                files.append(fn)\n",
    "                i += 1\n",
    "                lines = []\n",
    "    return files\n",
    "\n",
    "def parse_output(out):\n",
    "    \"\"\"\n",
    "    Create a DataFrame out of the Vina output file\n",
    "    \"\"\"\n",
    "    with open(out) as f:\n",
    "        data = []\n",
    "        for line in f:\n",
    "            if line.startswith('-----+'):\n",
    "                line = next(f)\n",
    "                while line.split()[0].isdigit():\n",
    "                    index, *floats = line.split()\n",
    "                    data.append([int(index)] + list(map(float, floats)))\n",
    "                    line = next(f)\n",
    "    return pd.DataFrame.from_records(data, \n",
    "                                     columns=['Mode', 'Affinity (kcal/mol)', 'RMSD (l.b.)', 'RMSD (u.b.)'], \n",
    "                                     exclude=['Mode'])"
   ]
  },
  {
   "cell_type": "code",
   "execution_count": 107,
   "metadata": {},
   "outputs": [],
   "source": [
    "# JavaScript code needed to update residues around the ligand\n",
    "# because this part is not exposed in the Python widget\n",
    "# Based on: http://nglviewer.org/ngl/api/manual/snippets.html\n",
    "_RESIDUES_AROUND = \"\"\"\n",
    "var protein = this.stage.compList[0];\n",
    "var ligand_center = this.stage.compList[{index}].structure.atomCenter();\n",
    "var around = protein.structure.getAtomSetWithinPoint(ligand_center, {radius});\n",
    "var around_complete = protein.structure.getAtomSetWithinGroup(around);\n",
    "var last_repr = protein.reprList[protein.reprList.length-1];\n",
    "protein.removeRepresentation(last_repr);\n",
    "protein.addRepresentation(\"licorice\", {{sele: around_complete.toSeleString()}});\n",
    "\"\"\"\n",
    "\n",
    "def show_docking(protein, ligands, vina_output):\n",
    "    # Split the multi PDBQT ligand file into separate files\n",
    "    ligands_files = split_pdbqt(ligands)\n",
    "    # Retrieve affinities\n",
    "    affinities = parse_output(vina_output)['Affinity (kcal/mol)']\n",
    "    \n",
    "    # This is the event handler - action taken when the user clicks on the select box\n",
    "    def _on_selection_change(change):\n",
    "        if change['name'] == 'value' and (change['new'] != change['old']):\n",
    "            v.hide(list(range(1,len(ligands_files) + 1)))  # Hide all ligands\n",
    "            component = getattr(v, f\"component_{change['new']}\")\n",
    "            component.show()  # Display the selected one\n",
    "            component.center(500)  # Zoom view\n",
    "            # Show sidechains around ligand\n",
    "            v._execute_js_code(_RESIDUES_AROUND.format(index=change['new'], radius=5))\n",
    "                                \n",
    "    # Create viewer widget\n",
    "    v = create_viewer(protein, ligands_files, affinities)\n",
    "    \n",
    "    # Create selection widget\n",
    "    selector = Select(options=[(f\"#{i} {aff} kcal/mol\", i) for (i, aff) in enumerate(affinities, 1)],\n",
    "                      description=\"\",  rows=len(ligands_files), layout=Layout(width=\"auto\"))\n",
    "                 \n",
    "    # Arrange GUI elements\n",
    "    display(AppLayout(left_sidebar=selector, center=v, pane_widths=[1, 6, 1]))\n",
    "    \n",
    "    # This is the event handler - action taken when the user clicks on the select box\n",
    "    def _on_selection_change(change):\n",
    "        if change['name'] == 'value' and (change['new'] != change['old']):\n",
    "            v.hide(list(range(1,len(ligands_files) + 1)))  # Hide all ligands\n",
    "            component = getattr(v, f\"component_{change['new']}\")\n",
    "            component.show()  # Display the selected one\n",
    "            component.center(500)  # Zoom view with a 500ms animation\n",
    "            # Show sidechains around ligand\n",
    "            v._execute_js_code(_RESIDUES_AROUND.format(index=change['new'], radius=5))\n",
    "    \n",
    "    # Trigger event manually\n",
    "    selector.observe(_on_selection_change)\n",
    "    _on_selection_change({'name': 'value', 'new': 1, 'old': None})\n",
    "\n",
    "    return v"
   ]
  },
  {
   "cell_type": "code",
   "execution_count": 108,
   "metadata": {},
   "outputs": [
    {
     "data": {
      "application/vnd.jupyter.widget-view+json": {
       "model_id": "20f433019dee4e9ba91f1d5b2e3e8c69",
       "version_major": 2,
       "version_minor": 0
      },
      "text/plain": [
       "AppLayout(children=(Select(layout=Layout(grid_area='left-sidebar', width='auto'), options=(('#1 -7.2 kcal/mol'…"
      ]
     },
     "metadata": {},
     "output_type": "display_data"
    }
   ],
   "source": [
    "v = show_docking(\"data/protein.mol2\", \"data/results.pdbqt\", \"data/vina.out\")"
   ]
  }
 ],
 "metadata": {
  "kernelspec": {
   "display_name": "Python 3",
   "language": "python",
   "name": "python3"
  },
  "language_info": {
   "codemirror_mode": {
    "name": "ipython",
    "version": 3
   },
   "file_extension": ".py",
   "mimetype": "text/x-python",
   "name": "python",
   "nbconvert_exporter": "python",
   "pygments_lexer": "ipython3",
   "version": "3.7.3"
  }
 },
 "nbformat": 4,
 "nbformat_minor": 2
}
