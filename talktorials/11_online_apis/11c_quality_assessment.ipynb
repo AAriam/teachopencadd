{
 "cells": [
  {
   "cell_type": "markdown",
   "metadata": {},
   "source": [
    "# Talktorial 11 (part C)\n",
    "\n",
    "# CADD web services that can be used via a Python API\n",
    "\n",
    "__Developed at AG Volkamer, Charité__\n",
    "\n",
    "Dr. Jaime Rodríguez-Guerra\n",
    "\n",
    "## Aim of this talktorial\n",
    "\n",
    "> This is part C of the \"Online webservices\" talktorial:\n",
    ">\n",
    "> - 11a. Querying KLIFS & PubChem for potential kinase inhibitors\n",
    "> - 11b. Docking the candidates against the target obtained in 11a\n",
    "> - __11c. Assessing the results and comparing against known data__\n",
    "\n",
    "After obtaining input structures and docking them, we will assess whether the results are any good.\n",
    "\n",
    "## Learning goals\n",
    "\n",
    "### Theory\n",
    "\n",
    "- Protein-ligand interactions\n",
    "- False positives in docking\n",
    "\n",
    "### Practical\n",
    "\n",
    "- Visualize the results\n",
    "- Run automated analysis\n",
    "\n",
    "### Discussion\n",
    "\n",
    "Pending.\n",
    "\n",
    "### Quiz\n",
    "\n",
    "Pending.\n",
    "\n",
    "***"
   ]
  }
 ],
 "metadata": {
  "kernelspec": {
   "display_name": "Python 3",
   "language": "python",
   "name": "python3"
  },
  "language_info": {
   "codemirror_mode": {
    "name": "ipython",
    "version": 3
   },
   "file_extension": ".py",
   "mimetype": "text/x-python",
   "name": "python",
   "nbconvert_exporter": "python",
   "pygments_lexer": "ipython3",
   "version": "3.6.7"
  }
 },
 "nbformat": 4,
 "nbformat_minor": 2
}
