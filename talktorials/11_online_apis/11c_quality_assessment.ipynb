{
 "cells": [
  {
   "cell_type": "markdown",
   "metadata": {},
   "source": [
    "# Talktorial 11 (part C)\n",
    "\n",
    "# CADD web services that can be used via a Python API\n",
    "\n",
    "__Developed at AG Volkamer, Charité__\n",
    "\n",
    "Dr. Jaime Rodríguez-Guerra\n",
    "\n",
    "## Aim of this talktorial\n",
    "\n",
    "> This is part C of the \"Online webservices\" talktorial:\n",
    ">\n",
    "> - 11a. Querying KLIFS & PubChem for potential kinase inhibitors\n",
    "> - 11b. Docking the candidates against the target obtained in 11a\n",
    "> - __11c. Assessing the results and comparing against known data__\n",
    "\n",
    "After obtaining input structures and docking them, we will assess whether the results are any good.\n",
    "\n",
    "## Learning goals\n",
    "\n",
    "### Theory\n",
    "\n",
    "- Protein-ligand interactions\n",
    "- False positives in docking\n",
    "\n",
    "### Practical\n",
    "\n",
    "- Visualize the results\n",
    "- Run automated analysis\n",
    "\n",
    "\n",
    "## References\n",
    "\n",
    "Pending.\n",
    "\n",
    "\n",
    "***"
   ]
  },
  {
   "cell_type": "markdown",
   "metadata": {},
   "source": [
    "## Theory\n",
    "\n",
    "### Protein-ligand interactions\n",
    "\n",
    "Pending\n",
    "\n",
    "### False positives\n",
    "\n",
    "Pending\n",
    "\n",
    "***"
   ]
  },
  {
   "cell_type": "markdown",
   "metadata": {},
   "source": [
    "## Practical\n",
    "\n",
    "### Visualize the results\n",
    "\n",
    "Use `nglview` for that! It's a web-based molecular viewer that can be run on Jupyter Notebooks! Also, it's compatible with `PDBQT` files out of the box (but will only load the first model... we will see how to deal with that).\n",
    "\n",
    "To install `nglview` run:"
   ]
  },
  {
   "cell_type": "raw",
   "metadata": {},
   "source": [
    "!pip install nglview ipywidgets>=7.5\n",
    "!nglview install\n",
    "!nglview enable"
   ]
  },
  {
   "cell_type": "markdown",
   "metadata": {},
   "source": [
    "We will use `ipywidgets` to create an interactive GUI in the notebook. That way, we can click in the different ligands and the viewer will be refreshed accordingly. In particular, we want our little GUI to:\n",
    "\n",
    "- Show the list of poses and their affinities, as reported in the Vina output\n",
    "- Show the protein structure with a ribbon representation, the ligand with ball and stick, and the surrounding residues with licorice (stick-only)\n",
    "- The 3D visualization should respond to the user selecting a different pose in the list.\n",
    "\n",
    "So, this means that we need to:\n",
    "\n",
    "1. Invoke the NGL viewer with the adequate representations\n",
    "2. Build an interactive table of results (hint: use `ipywidgets.Select`)\n",
    "3. Write an event handler that can communicate with the NGL Viewer: when the user clicks on a new entry, update the ligand in display, along with the surrounding residues. The ribbon should not need to be updated."
   ]
  },
  {
   "cell_type": "code",
   "execution_count": 1,
   "metadata": {},
   "outputs": [
    {
     "data": {
      "application/vnd.jupyter.widget-view+json": {
       "model_id": "8b954aa4c0424fc9af2cfac1857c91bc",
       "version_major": 2,
       "version_minor": 0
      },
      "text/plain": [
       "_ColormakerRegistry()"
      ]
     },
     "metadata": {},
     "output_type": "display_data"
    }
   ],
   "source": [
    "import pandas as pd\n",
    "import time\n",
    "import nglview as nv\n",
    "# ipywidgets must be v7.5+ to provide AppLayout\n",
    "from ipywidgets import AppLayout, Layout, Select"
   ]
  },
  {
   "cell_type": "markdown",
   "metadata": {},
   "source": [
    "The PDBQT file created by Vina contain several models, but `nglview` will only parse the first one. The workaround is simple: divide the file into individual models by splitting whenever an `ENDMDL` line is found."
   ]
  },
  {
   "cell_type": "code",
   "execution_count": 2,
   "metadata": {},
   "outputs": [],
   "source": [
    "def split_pdbqt(path):\n",
    "    \"\"\"\n",
    "    Split a multimodel PDBQT into separate files.\n",
    "    \"\"\"\n",
    "    files = []\n",
    "    with open(path) as f:\n",
    "        lines = []\n",
    "        i = 0\n",
    "        for line in f:\n",
    "            lines.append(line)\n",
    "            if line.strip() == 'ENDMDL':\n",
    "                fn = f'data/results.{i}.pdbqt'\n",
    "                with open(fn, 'w') as o:\n",
    "                    o.write(''.join(lines))\n",
    "                files.append(fn)\n",
    "                i += 1\n",
    "                lines = []\n",
    "    return files"
   ]
  },
  {
   "cell_type": "markdown",
   "metadata": {},
   "source": [
    "The Vina output is a simple text file that contains the table of results. Parsing that table is relatively straightforward. We return a Pandas DataFrame for a simple visualization, if needed."
   ]
  },
  {
   "cell_type": "code",
   "execution_count": 3,
   "metadata": {},
   "outputs": [],
   "source": [
    "def parse_output(out):\n",
    "    \"\"\"\n",
    "    Create a DataFrame out of the Vina output file\n",
    "    \"\"\"\n",
    "    with open(out) as f:\n",
    "        data = []\n",
    "        for line in f:\n",
    "            if line.startswith('-----+'):\n",
    "                line = next(f)\n",
    "                while line.split()[0].isdigit():\n",
    "                    index, *floats = line.split()\n",
    "                    data.append([int(index)] + list(map(float, floats)))\n",
    "                    line = next(f)\n",
    "    return pd.DataFrame.from_records(data, \n",
    "                                     columns=['Mode', 'Affinity (kcal/mol)', 'RMSD (l.b.)', 'RMSD (u.b.)'], \n",
    "                                     exclude=['Mode'])"
   ]
  },
  {
   "cell_type": "markdown",
   "metadata": {},
   "source": [
    "With this function we can convert this text file:"
   ]
  },
  {
   "cell_type": "code",
   "execution_count": 14,
   "metadata": {},
   "outputs": [
    {
     "name": "stdout",
     "output_type": "stream",
     "text": [
      "#################################################################\r\n",
      "# If you used AutoDock Vina in your work, please cite:          #\r\n",
      "#                                                               #\r\n",
      "# O. Trott, A. J. Olson,                                        #\r\n",
      "# AutoDock Vina: improving the speed and accuracy of docking    #\r\n",
      "# with a new scoring function, efficient optimization and       #\r\n",
      "# multithreading, Journal of Computational Chemistry 31 (2010)  #\r\n",
      "# 455-461                                                       #\r\n",
      "#                                                               #\r\n",
      "# DOI 10.1002/jcc.21334                                         #\r\n",
      "#                                                               #\r\n",
      "# Please see http://vina.scripps.edu for more information.      #\r\n",
      "#################################################################\r\n",
      "\r\n",
      "Reading input ... done.\r\n",
      "Setting up the scoring function ... done.\r\n",
      "Analyzing the binding site ... done.\r\n",
      "Using random seed: -432733504\r\n",
      "Performing search ... \r\n",
      "0%   10   20   30   40   50   60   70   80   90   100%\r\n",
      "|----|----|----|----|----|----|----|----|----|----|\r\n",
      "***************************************************\r\n",
      "done.\r\n",
      "Refining results ... done.\r\n",
      "\r\n",
      "mode |   affinity | dist from best mode\r\n",
      "     | (kcal/mol) | rmsd l.b.| rmsd u.b.\r\n",
      "-----+------------+----------+----------\r\n",
      "   1         -8.4      0.000      0.000\r\n",
      "   2         -7.6      1.475      1.941\r\n",
      "   3         -6.0      5.211      9.340\r\n",
      "   4         -5.8      1.457      2.153\r\n",
      "Writing output ... done.\r\n"
     ]
    }
   ],
   "source": [
    "!cat data/vina.out"
   ]
  },
  {
   "cell_type": "markdown",
   "metadata": {},
   "source": [
    "... into this nicely formatted `pandas` DataFrame:"
   ]
  },
  {
   "cell_type": "code",
   "execution_count": 15,
   "metadata": {},
   "outputs": [
    {
     "data": {
      "text/html": [
       "<div>\n",
       "<style scoped>\n",
       "    .dataframe tbody tr th:only-of-type {\n",
       "        vertical-align: middle;\n",
       "    }\n",
       "\n",
       "    .dataframe tbody tr th {\n",
       "        vertical-align: top;\n",
       "    }\n",
       "\n",
       "    .dataframe thead th {\n",
       "        text-align: right;\n",
       "    }\n",
       "</style>\n",
       "<table border=\"1\" class=\"dataframe\">\n",
       "  <thead>\n",
       "    <tr style=\"text-align: right;\">\n",
       "      <th></th>\n",
       "      <th>Affinity (kcal/mol)</th>\n",
       "      <th>RMSD (l.b.)</th>\n",
       "      <th>RMSD (u.b.)</th>\n",
       "    </tr>\n",
       "  </thead>\n",
       "  <tbody>\n",
       "    <tr>\n",
       "      <th>0</th>\n",
       "      <td>-8.4</td>\n",
       "      <td>0.000</td>\n",
       "      <td>0.000</td>\n",
       "    </tr>\n",
       "    <tr>\n",
       "      <th>1</th>\n",
       "      <td>-7.6</td>\n",
       "      <td>1.475</td>\n",
       "      <td>1.941</td>\n",
       "    </tr>\n",
       "    <tr>\n",
       "      <th>2</th>\n",
       "      <td>-6.0</td>\n",
       "      <td>5.211</td>\n",
       "      <td>9.340</td>\n",
       "    </tr>\n",
       "    <tr>\n",
       "      <th>3</th>\n",
       "      <td>-5.8</td>\n",
       "      <td>1.457</td>\n",
       "      <td>2.153</td>\n",
       "    </tr>\n",
       "  </tbody>\n",
       "</table>\n",
       "</div>"
      ],
      "text/plain": [
       "   Affinity (kcal/mol)  RMSD (l.b.)  RMSD (u.b.)\n",
       "0                 -8.4        0.000        0.000\n",
       "1                 -7.6        1.475        1.941\n",
       "2                 -6.0        5.211        9.340\n",
       "3                 -5.8        1.457        2.153"
      ]
     },
     "execution_count": 15,
     "metadata": {},
     "output_type": "execute_result"
    }
   ],
   "source": [
    "parse_output(\"data/vina.out\")"
   ]
  },
  {
   "cell_type": "markdown",
   "metadata": {},
   "source": [
    "The Vina output contains three columns:\n",
    "\n",
    "1. The estimated binding affinity\n",
    "2. RMSD with respect to the best solution (lowest affinity) using a symmetry-corrected algorithm\n",
    "3. Same, but without the symmetry correction\n",
    "\n",
    "We are only interested in the affinity, so in the following cells you will see that we only get a single column for that dataframe.\n",
    "\n",
    "***"
   ]
  },
  {
   "cell_type": "markdown",
   "metadata": {},
   "source": [
    "Now we create the NGL viewer instance. Instead of creating a new one for each protein-pose pair, we will reuse the same canvas all over, hiding or showing the needed ligands. We will load everything first, while also labeling the ligands with their respective affinity. Each molecule loaded into the viewer is called a \"component\". The protein will be loaded first, so it will be `component_0`. Ligands will follow starting with `component_1` and so on."
   ]
  },
  {
   "cell_type": "code",
   "execution_count": 4,
   "metadata": {},
   "outputs": [],
   "source": [
    "def create_viewer(protein, ligands, affinities):\n",
    "    \"\"\"\n",
    "    Create a nglview widget with the protein and all the ligands labeled by affinities\n",
    "    \"\"\"\n",
    "    viewer = nv.show_file(protein)\n",
    "    # Select first atom in molecule (@0) so it holds the affinity label\n",
    "    label_kwargs = dict(labelType=\"text\", sele=\"@0\", showBackground=True, backgroundColor=\"black\")\n",
    "    for ligand, affinity in zip(ligands, affinities):\n",
    "        ngl_ligand = viewer.add_component(ligand)\n",
    "        ngl_ligand.add_label(labelText=[str(affinity)], **label_kwargs)\n",
    "    return viewer"
   ]
  },
  {
   "cell_type": "markdown",
   "metadata": {},
   "source": [
    "And finally, in this cell below we will build the actual GUI!\n",
    "\n",
    "It will be composed of two widgets arranged horizontally using the `ipywidgets.AppLayout` layour.\n",
    "\n",
    "- The selector (`ipywidgets.Select`)\n",
    "- The NGL viewer itself\n",
    "\n",
    "When the user clicks on a new entry in the selector, `_on_selection_change` will be called, which will:\n",
    "\n",
    "1. Check if the new value is any different from the previous one. If that's the case, then:\n",
    "2. Hide all ligands (simpler way to hide the previous one; no need to check individually)\n",
    "3. Show the new one and center the camera on it with a cool 500ms animation\n",
    "4. Execute some JavaScript on the NGL viewer to update the list of sidechains within 5A of the new pose center of mass."
   ]
  },
  {
   "cell_type": "code",
   "execution_count": 20,
   "metadata": {},
   "outputs": [],
   "source": [
    "# JavaScript code needed to update residues around the ligand\n",
    "# because this part is not exposed in the Python widget\n",
    "# Based on: http://nglviewer.org/ngl/api/manual/snippets.html\n",
    "_RESIDUES_AROUND = \"\"\"\n",
    "var protein = this.stage.compList[0];\n",
    "var ligand_center = this.stage.compList[{index}].structure.atomCenter();\n",
    "var around = protein.structure.getAtomSetWithinPoint(ligand_center, {radius});\n",
    "var around_complete = protein.structure.getAtomSetWithinGroup(around);\n",
    "var last_repr = protein.reprList[protein.reprList.length-1];\n",
    "protein.removeRepresentation(last_repr);\n",
    "protein.addRepresentation(\"licorice\", {{sele: around_complete.toSeleString()}});\n",
    "\"\"\"\n",
    "\n",
    "def show_docking(protein, ligands, vina_output):\n",
    "    # Split the multi PDBQT ligand file into separate files\n",
    "    ligands_files = split_pdbqt(ligands)\n",
    "    # Retrieve affinities (we only need that column of the dataframe)\n",
    "    affinities = parse_output(vina_output)['Affinity (kcal/mol)']\n",
    "                                \n",
    "    # Create viewer widget\n",
    "    viewer = create_viewer(protein, ligands_files, affinities)\n",
    "    \n",
    "    # Create selection widget\n",
    "    #   Options is a list of (text, value) tuples. When we click on select, the value will be passed\n",
    "    #   to the callable registered in `.observe(...)`\n",
    "    selector = Select(options=[(f\"#{i} {aff} kcal/mol\", i) for (i, aff) in enumerate(affinities, 1)],\n",
    "                      description=\"\",  rows=len(ligands_files), layout=Layout(width=\"auto\"))\n",
    "                 \n",
    "    # Arrange GUI elements\n",
    "    # The selection box will be on the left, the viewer will occupy the rest of the window\n",
    "    display(AppLayout(left_sidebar=selector, center=viewer, pane_widths=[1, 6, 1]))\n",
    "    \n",
    "    # This is the event handler - action taken when the user clicks on the selection box\n",
    "    # We need to define it here so it can \"see\" the viewer variable\n",
    "    def _on_selection_change(change):\n",
    "        # Update only if the user clicked on a different entry\n",
    "        if change['name'] == 'value' and (change['new'] != change['old']):\n",
    "            viewer.hide(list(range(1,len(ligands_files) + 1)))  # Hide all ligands\n",
    "            component = getattr(viewer, f\"component_{change['new']}\")\n",
    "            component.show()  # Display the selected one\n",
    "            component.center(500)  # Zoom view\n",
    "            # Call the JS code to show sidechains around ligand\n",
    "            viewer._execute_js_code(_RESIDUES_AROUND.format(index=change['new'], radius=5))\n",
    "    \n",
    "    # Register event handler\n",
    "    selector.observe(_on_selection_change)\n",
    "    # Trigger event manually to focus on the first solution\n",
    "    _on_selection_change({'name': 'value', 'new': 1, 'old': None})\n",
    "\n",
    "    return viewer"
   ]
  },
  {
   "cell_type": "markdown",
   "metadata": {},
   "source": [
    "In the function above we are doing some advanced Python. If you are interested, you can click on the arrow below to show some more details.\n",
    "\n",
    "\n",
    "<details>\n",
    "    \n",
    "<summary>\n",
    "   Advanced Python explanation\n",
    "</summary>\n",
    "    \n",
    "> First you might have noticed is that we are mixing JavaScript and Python code! This is possible thanks to the `ipywidgets` infrastructure, as provided in `NGLViewer.Viewer._execute_js_code`. You can pass a string here (containing JavaScript code) and it will be executed in the NGL widget scope (`this` refers to the interactive canvas). To make it parameterizable, we have added some template placeholders that are formatted on each call to `_on_selection_change`.\n",
    ">\n",
    "> This function, `_on_selection_change` is the glue that ties user interactions (clicks on the selection box) to the Python world. It will be called each time you click on the selection box, with a single argument `change`: a dictionary containing the type of event and both the old and new values (so you can compare and do something about it). However, we also need `viewer` to be present in that function... and [we cannot pass additional values](https://ipywidgets.readthedocs.io/en/latest/examples/Widget%20Events.html#Traitlet-events)!\n",
    ">\n",
    "> One way to have `viewer` available in that function is to nest its definition within our `show_docking` function. That way, it will be able to access the outer scope without having to look up in the notebook (global) scope. You have some [more information about scope and closures in this post](https://medium.com/@dannymcwaves/a-python-tutorial-to-understanding-scopes-and-closures-c6a3d3ba0937).\n",
    "\n",
    "</details>\n",
    "\n"
   ]
  },
  {
   "cell_type": "code",
   "execution_count": 13,
   "metadata": {},
   "outputs": [
    {
     "data": {
      "application/vnd.jupyter.widget-view+json": {
       "model_id": "112f85dc57c746c4a225c9414d49090b",
       "version_major": 2,
       "version_minor": 0
      },
      "text/plain": [
       "AppLayout(children=(Select(layout=Layout(grid_area='left-sidebar', width='auto'), options=(('#1 -8.4 kcal/mol'…"
      ]
     },
     "metadata": {},
     "output_type": "display_data"
    }
   ],
   "source": [
    "viewer = show_docking(\"data/protein.mol2\", \"data/results.pdbqt\", \"data/vina.out\")"
   ]
  },
  {
   "cell_type": "markdown",
   "metadata": {},
   "source": [
    "## Discussion\n",
    "\n",
    "Pending.\n",
    "\n",
    "## Quiz\n",
    "\n",
    "Pending."
   ]
  }
 ],
 "metadata": {
  "kernelspec": {
   "display_name": "Python 3",
   "language": "python",
   "name": "python3"
  },
  "language_info": {
   "codemirror_mode": {
    "name": "ipython",
    "version": 3
   },
   "file_extension": ".py",
   "mimetype": "text/x-python",
   "name": "python",
   "nbconvert_exporter": "python",
   "pygments_lexer": "ipython3",
   "version": "3.6.7"
  }
 },
 "nbformat": 4,
 "nbformat_minor": 2
}
