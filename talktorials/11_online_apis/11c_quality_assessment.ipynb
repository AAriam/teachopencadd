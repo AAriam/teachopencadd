{
 "cells": [
  {
   "cell_type": "markdown",
   "metadata": {},
   "source": [
    "# Talktorial 11 (part C)\n",
    "\n",
    "# CADD web services that can be used via a Python API\n",
    "\n",
    "__Developed at AG Volkamer, Charité__\n",
    "\n",
    "Dr. Jaime Rodríguez-Guerra\n",
    "\n",
    "## Aim of this talktorial\n",
    "\n",
    "> This is part C of the \"Online webservices\" talktorial:\n",
    ">\n",
    "> - 11a. Querying KLIFS & PubChem for potential kinase inhibitors\n",
    "> - 11b. Docking the candidates against the target obtained in 11a\n",
    "> - __11c. Assessing the results and comparing against known data__\n",
    "\n",
    "After obtaining input structures and docking them, we will assess whether the results are any good.\n",
    "\n",
    "## Learning goals\n",
    "\n",
    "### Theory\n",
    "\n",
    "- Protein-ligand interactions\n",
    "- False positives in docking\n",
    "\n",
    "### Practical\n",
    "\n",
    "- Visualize the results\n",
    "- Run automated analysis\n",
    "\n",
    "### Discussion\n",
    "\n",
    "Pending.\n",
    "\n",
    "### Quiz\n",
    "\n",
    "Pending.\n",
    "\n",
    "***"
   ]
  },
  {
   "cell_type": "markdown",
   "metadata": {},
   "source": [
    "# Theory\n",
    "\n",
    "## Protein-ligand interactions\n",
    "\n",
    "Pending\n",
    "\n",
    "## False positives\n",
    "\n",
    "Pending\n",
    "\n",
    "***"
   ]
  },
  {
   "cell_type": "markdown",
   "metadata": {},
   "source": [
    "# Practical\n",
    "\n",
    "## Visualize the results\n",
    "\n",
    "Use `nglview` for that! It's compatible with `PDBQT` files out of the box."
   ]
  },
  {
   "cell_type": "raw",
   "metadata": {},
   "source": [
    "!pip install nglview\n",
    "!nglview install\n",
    "!nglview enable"
   ]
  },
  {
   "cell_type": "code",
   "execution_count": 78,
   "metadata": {},
   "outputs": [],
   "source": [
    "import nglview as nv\n",
    "from glob import glob"
   ]
  },
  {
   "cell_type": "code",
   "execution_count": 89,
   "metadata": {},
   "outputs": [],
   "source": [
    "def split_pdbqt(path):\n",
    "    \"\"\"\n",
    "    Split a multimodel PDBQT into separate files.\n",
    "    \"\"\"\n",
    "    with open(path) as f:\n",
    "        lines = []\n",
    "        i = 0\n",
    "        for line in f:\n",
    "            lines.append(line)\n",
    "            if line.strip() == 'ENDMDL':\n",
    "                with open(f'data/results.{i}.pdbqt', 'w') as o:\n",
    "                    o.write(''.join(lines))\n",
    "                i += 1\n",
    "                lines = []"
   ]
  },
  {
   "cell_type": "code",
   "execution_count": 87,
   "metadata": {},
   "outputs": [],
   "source": [
    "def show_docking_results(protein, *ligands):\n",
    "    v = nv.show_file(protein)\n",
    "    for ligand in ligands:\n",
    "        v.add_component(ligand)\n",
    "    return v"
   ]
  },
  {
   "cell_type": "code",
   "execution_count": 91,
   "metadata": {
    "scrolled": true
   },
   "outputs": [
    {
     "name": "stdout",
     "output_type": "stream",
     "text": [
      "mode |   affinity | dist from best mode\r\n",
      "     | (kcal/mol) | rmsd l.b.| rmsd u.b.\r\n",
      "-----+------------+----------+----------\r\n",
      "   1         -7.2      0.000      0.000\r\n",
      "   2         -7.0      4.868      6.604\r\n",
      "   3         -6.9      1.803      3.295\r\n",
      "   4         -6.6      1.714      2.128\r\n",
      "   5         -6.5      1.451      1.569\r\n",
      "   6         -6.5      1.663      3.057\r\n",
      "   7         -6.5      1.428      2.623\r\n",
      "   8         -6.4      4.968      6.810\r\n",
      "   9         -6.3      1.801      2.936\r\n",
      "Writing output ... done.\r\n"
     ]
    }
   ],
   "source": [
    "!tail -13 data/vina.out"
   ]
  },
  {
   "cell_type": "code",
   "execution_count": 88,
   "metadata": {},
   "outputs": [
    {
     "data": {
      "application/vnd.jupyter.widget-view+json": {
       "model_id": "cbb385d1d86e42f18a0ccf599c4c28ac",
       "version_major": 2,
       "version_minor": 0
      },
      "text/plain": [
       "NGLWidget()"
      ]
     },
     "metadata": {},
     "output_type": "display_data"
    }
   ],
   "source": [
    "split_pdbqt(\"data/results.pdbqt\")\n",
    "v = show_docking_results(\"data/protein.mol2\", *list(glob(\"data/results.*.pdbqt\")))\n",
    "v"
   ]
  }
 ],
 "metadata": {
  "kernelspec": {
   "display_name": "Python 3",
   "language": "python",
   "name": "python3"
  },
  "language_info": {
   "codemirror_mode": {
    "name": "ipython",
    "version": 3
   },
   "file_extension": ".py",
   "mimetype": "text/x-python",
   "name": "python",
   "nbconvert_exporter": "python",
   "pygments_lexer": "ipython3",
   "version": "3.7.3"
  }
 },
 "nbformat": 4,
 "nbformat_minor": 2
}
