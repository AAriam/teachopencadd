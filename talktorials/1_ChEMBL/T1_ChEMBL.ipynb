{
 "cells": [
  {
   "cell_type": "markdown",
   "metadata": {},
   "source": [
    "# Talktorial 1\n",
    "\n",
    "# Compound data acquisition (ChEMBL)\n",
    "\n",
    "#### Developed in the CADD seminars 2017 and 2018, AG Volkamer, Charité/FU Berlin \n",
    "\n",
    "Paula Junge, Svetlana Leng, Dominique Sydow"
   ]
  },
  {
   "cell_type": "markdown",
   "metadata": {},
   "source": [
    "## Aim of this talktorial\n",
    "\n",
    "We learn how to extract data from ChEMBL:\n",
    "\n",
    "* Find ligands which were tested on a certain target\n",
    "* Filter by available bioactivity data\n",
    "* Calculate pIC50 values\n",
    "* Merge dataframes and draw extracted molecules\n",
    "\n",
    "## Learning goals\n",
    "\n",
    "\n",
    "### Theory\n",
    "\n",
    "* ChEMBL database\n",
    "    * ChEMBL web services\n",
    "    * ChEMBL webresource client\n",
    "* Compound activity measures\n",
    "    * IC50\n",
    "    * pIC50\n",
    "\n",
    "### Practical\n",
    "    \n",
    "Goal: Get list of compounds with bioactivity data for a given target\n",
    "\n",
    "* Connect to ChEMBL database\n",
    "* Get target data (EGFR kinase)\n",
    "* Get bioactivity data\n",
    "    * Download and filter bioactivities\n",
    "    * Clean and convert\n",
    "* Get compound data\n",
    "    * Get list of compounds\n",
    "    * Prepare output data\n",
    "* Output\n",
    "    * Draw molecules with highest pIC50\n",
    "    * Write output file\n",
    "\n",
    "\n",
    "## References\n",
    "\n",
    "* ChEMBL bioactivity database (https://www.ncbi.nlm.nih.gov/pmc/articles/PMC5210557/)\n",
    "* ChEMBL web services: <i>Nucleic Acids Res.</i> (2015), <b>43</b>, 612-620 (https://academic.oup.com/nar/article/43/W1/W612/2467881) \n",
    "* ChEMBL webrescource client GitHub (https://github.com/chembl/chembl_webresource_client)\n",
    "* myChEMBL webservices version 2.x (https://github.com/chembl/mychembl/blob/master/ipython_notebooks/09_myChEMBL_web_services.ipynb)\n",
    "* ChEMBL web-interface (https://www.ebi.ac.uk/chembl/)\n",
    "* EBI-RDF platform (https://www.ncbi.nlm.nih.gov/pubmed/24413672)\n",
    "* IC50 and pIC50 (https://en.wikipedia.org/wiki/IC50)\n",
    "* UniProt website (https://www.uniprot.org/)"
   ]
  },
  {
   "cell_type": "markdown",
   "metadata": {},
   "source": [
    "## Theory\n",
    "\n",
    "### ChEMBL database\n",
    "\n",
    "* Open large-scale bioactivity database\n",
    "* **Current data content (as of 10.2018):**\n",
    "    * \\>1.8 million distinct compound structures\n",
    "    * \\>15 million activity values from 1 million assays\n",
    "    * Assays are mapped to ∼12 000 targets\n",
    "* **Data sources** include scientific literature, PubChem bioassays, Drugs for Neglected Diseases Initiative (DNDi), BindingDB database, ...\n",
    "* ChEMBL data can be accessed via a [web-interface](https://www.ebi.ac.uk/chembl/), the [EBI-RDF platform](https://www.ncbi.nlm.nih.gov/pubmed/24413672) and the [ChEMBL web services](https://www.ncbi.nlm.nih.gov/pmc/articles/PMC4489243/#B5)"
   ]
  },
  {
   "cell_type": "markdown",
   "metadata": {},
   "source": [
    "#### ChEMBL web services\n",
    "\n",
    "* RESTful web service\n",
    "* ChEMBL web service version 2.x resource schema: \n",
    "\n",
    "[![ChEMBL web service schema](images/chembl_webservices_schema_diagram.jpg)](https://www.ncbi.nlm.nih.gov/pmc/articles/PMC4489243/figure/F2/)\n",
    "\n",
    "*Figure 1:* \n",
    "\"ChEMBL web service schema diagram. The oval shapes represent ChEMBL web service resources and the line between two resources indicates that they share a common attribute. The arrow direction shows where the primary information about a resource type can be found. A dashed line indicates the relationship between two resources behaves differently. For example, the `Image` resource provides a graphical based representation of a `Molecule`.\"\n",
    "Figure and description taken from: [<i>Nucleic Acids Res.</i> (2015), <b>43</b>, 612-620](https://academic.oup.com/nar/article/43/W1/W612/2467881)."
   ]
  },
  {
   "cell_type": "markdown",
   "metadata": {},
   "source": [
    "#### ChEMBL webresource client\n",
    "\n",
    "* Python client library for accessing ChEMBL data\n",
    "* Handles interaction with the HTTPS protocol\n",
    "* Lazy evaluation of results -> reduced number of network requests"
   ]
  },
  {
   "cell_type": "markdown",
   "metadata": {},
   "source": [
    "### Compound activity measures\n",
    "\n",
    "#### IC50 \n",
    "\n",
    "* [Half maximal inhibitory concentration](https://en.wikipedia.org/wiki/IC50)\n",
    "* Indicates how much of a particular drug or other substance is needed to inhibit a given biological process by half\n",
    "\n",
    "[<img src=\"https://upload.wikimedia.org/wikipedia/commons/8/81/Example_IC50_curve_demonstrating_visually_how_IC50_is_derived.png\" width=\"450\" align=\"center\" >](https://commons.wikimedia.org/wiki/File:Example_IC50_curve_demonstrating_visually_how_IC50_is_derived.png)\n",
    "\n",
    "*Figure 2:* Visual demonstration of how to derive an IC50 value: \n",
    "(i) Arrange data with inhibition on vertical axis and log(concentration) on horizontal axis. (ii) Identify maximum and minimum inhibition. (iii) The IC50 is the concentration at which the curve passes through the 50% inhibition level. Figure [\"Example IC50 curve demonstrating visually how IC50 is derived\"](https://en.wikipedia.org/wiki/IC50#/media/File:Example_IC50_curve_demonstrating_visually_how_IC50_is_derived.png) by JesseAlanGordon is licensed under [CC BY-SA 3.0](https://creativecommons.org/licenses/by-sa/3.0/)."
   ]
  },
  {
   "cell_type": "markdown",
   "metadata": {},
   "source": [
    "#### pIC50\n",
    "\n",
    "* To facilitate the comparison of IC50 values, we define pIC50 values on a logarithmic scale, such that <br />\n",
    "    $ pIC_{50} = -log_{10}(IC_{50}) $ where $ IC_{50}$ is specified in units of M.\n",
    "* Higher pIC50 values indicate exponentially greater potency of the drug\n",
    "* pIC50 is given in terms of molar concentration (mol/L or M) <br />\n",
    "    * IC50 should be specified in M to convert to pIC50  \n",
    "    * For nM: $pIC_{50} = -log_{10}(IC_{50}*10^{-9})= 9-log_{10}(IC_{50}) $\n",
    "\n",
    "#### Other activity measures\n",
    "\n",
    "Besides, IC50 and pIC50, other bioactivity measures are used, such as the equilibrium constant [KI](https://en.wikipedia.org/wiki/Equilibrium_constant) and the half maximal effective concentration  [EC50](https://en.wikipedia.org/wiki/EC50)."
   ]
  },
  {
   "cell_type": "markdown",
   "metadata": {},
   "source": [
    "## Practical\n",
    "\n",
    "In the following, we want to download all molecules that have been tested against our target of interest, the EGFR kinase.\n",
    "\n",
    "### Connect to ChEMBL database"
   ]
  },
  {
   "cell_type": "markdown",
   "metadata": {},
   "source": [
    "First, the ChEMBL webresource client as well as other python libraries are imported."
   ]
  },
  {
   "cell_type": "code",
   "execution_count": 1,
   "metadata": {},
   "outputs": [],
   "source": [
    "import math\n",
    "\n",
    "from chembl_webresource_client.new_client import new_client\n",
    "import pandas as pd\n",
    "from rdkit.Chem import PandasTools"
   ]
  },
  {
   "cell_type": "markdown",
   "metadata": {},
   "source": [
    "Create resource objects for API access."
   ]
  },
  {
   "cell_type": "code",
   "execution_count": 2,
   "metadata": {},
   "outputs": [],
   "source": [
    "targets_api = new_client.target\n",
    "compounds_api = new_client.molecule\n",
    "bioactivities_api = new_client.activity"
   ]
  },
  {
   "cell_type": "code",
   "execution_count": 3,
   "metadata": {},
   "outputs": [
    {
     "data": {
      "text/plain": [
       "chembl_webresource_client.query_set.QuerySet"
      ]
     },
     "execution_count": 3,
     "metadata": {},
     "output_type": "execute_result"
    }
   ],
   "source": [
    "type(targets_api)"
   ]
  },
  {
   "cell_type": "markdown",
   "metadata": {},
   "source": [
    "### Target data\n",
    "\n",
    "* Get UniProt ID (http://www.uniprot.org/uniprot/P00533) of the target of interest (EGFR kinase) from UniProt website (https://www.uniprot.org/)\n",
    "* Use UniProt ID to get target information\n",
    "* Select a different UniProt ID if you are interested in another target"
   ]
  },
  {
   "cell_type": "code",
   "execution_count": 4,
   "metadata": {},
   "outputs": [],
   "source": [
    "uniprot_id = 'P00533'"
   ]
  },
  {
   "cell_type": "code",
   "execution_count": 5,
   "metadata": {},
   "outputs": [
    {
     "name": "stdout",
     "output_type": "stream",
     "text": [
      "<class 'chembl_webresource_client.query_set.QuerySet'>\n"
     ]
    },
    {
     "data": {
      "text/html": [
       "<div>\n",
       "<style scoped>\n",
       "    .dataframe tbody tr th:only-of-type {\n",
       "        vertical-align: middle;\n",
       "    }\n",
       "\n",
       "    .dataframe tbody tr th {\n",
       "        vertical-align: top;\n",
       "    }\n",
       "\n",
       "    .dataframe thead th {\n",
       "        text-align: right;\n",
       "    }\n",
       "</style>\n",
       "<table border=\"1\" class=\"dataframe\">\n",
       "  <thead>\n",
       "    <tr style=\"text-align: right;\">\n",
       "      <th></th>\n",
       "      <th>organism</th>\n",
       "      <th>pref_name</th>\n",
       "      <th>target_chembl_id</th>\n",
       "      <th>target_type</th>\n",
       "    </tr>\n",
       "  </thead>\n",
       "  <tbody>\n",
       "    <tr>\n",
       "      <td>0</td>\n",
       "      <td>Homo sapiens</td>\n",
       "      <td>Epidermal growth factor receptor erbB1</td>\n",
       "      <td>CHEMBL203</td>\n",
       "      <td>SINGLE PROTEIN</td>\n",
       "    </tr>\n",
       "    <tr>\n",
       "      <td>1</td>\n",
       "      <td>Homo sapiens</td>\n",
       "      <td>Epidermal growth factor receptor erbB1</td>\n",
       "      <td>CHEMBL203</td>\n",
       "      <td>SINGLE PROTEIN</td>\n",
       "    </tr>\n",
       "    <tr>\n",
       "      <td>2</td>\n",
       "      <td>Homo sapiens</td>\n",
       "      <td>Epidermal growth factor receptor and ErbB2 (HE...</td>\n",
       "      <td>CHEMBL2111431</td>\n",
       "      <td>PROTEIN FAMILY</td>\n",
       "    </tr>\n",
       "    <tr>\n",
       "      <td>3</td>\n",
       "      <td>Homo sapiens</td>\n",
       "      <td>Epidermal growth factor receptor</td>\n",
       "      <td>CHEMBL2363049</td>\n",
       "      <td>PROTEIN FAMILY</td>\n",
       "    </tr>\n",
       "    <tr>\n",
       "      <td>4</td>\n",
       "      <td>Homo sapiens</td>\n",
       "      <td>MER intracellular domain/EGFR extracellular do...</td>\n",
       "      <td>CHEMBL3137284</td>\n",
       "      <td>CHIMERIC PROTEIN</td>\n",
       "    </tr>\n",
       "  </tbody>\n",
       "</table>\n",
       "</div>"
      ],
      "text/plain": [
       "       organism                                          pref_name  \\\n",
       "0  Homo sapiens             Epidermal growth factor receptor erbB1   \n",
       "1  Homo sapiens             Epidermal growth factor receptor erbB1   \n",
       "2  Homo sapiens  Epidermal growth factor receptor and ErbB2 (HE...   \n",
       "3  Homo sapiens                   Epidermal growth factor receptor   \n",
       "4  Homo sapiens  MER intracellular domain/EGFR extracellular do...   \n",
       "\n",
       "  target_chembl_id       target_type  \n",
       "0        CHEMBL203    SINGLE PROTEIN  \n",
       "1        CHEMBL203    SINGLE PROTEIN  \n",
       "2    CHEMBL2111431    PROTEIN FAMILY  \n",
       "3    CHEMBL2363049    PROTEIN FAMILY  \n",
       "4    CHEMBL3137284  CHIMERIC PROTEIN  "
      ]
     },
     "execution_count": 5,
     "metadata": {},
     "output_type": "execute_result"
    }
   ],
   "source": [
    "# Get target information from ChEMBL but restrict to specified values only\n",
    "targets = targets_api.get(\n",
    "    target_components__accession=uniprot_id\n",
    ").only(\n",
    "    'target_chembl_id', \n",
    "    'organism', \n",
    "    'pref_name', \n",
    "    'target_type'\n",
    ")\n",
    "\n",
    "print(type(targets))\n",
    "pd.DataFrame.from_records(targets)"
   ]
  },
  {
   "cell_type": "markdown",
   "metadata": {},
   "source": [
    "#### After checking the entries, we select the first entry as our target of interest\n",
    "`CHEMBL203`: It is a single protein and represents the human Epidermal growth factor receptor (EGFR, also named erbB1) "
   ]
  },
  {
   "cell_type": "code",
   "execution_count": 6,
   "metadata": {},
   "outputs": [
    {
     "data": {
      "text/plain": [
       "{'organism': 'Homo sapiens',\n",
       " 'pref_name': 'Epidermal growth factor receptor erbB1',\n",
       " 'target_chembl_id': 'CHEMBL203',\n",
       " 'target_type': 'SINGLE PROTEIN'}"
      ]
     },
     "execution_count": 6,
     "metadata": {},
     "output_type": "execute_result"
    }
   ],
   "source": [
    "target = targets[0]\n",
    "target"
   ]
  },
  {
   "cell_type": "markdown",
   "metadata": {},
   "source": [
    "Save selected ChEMBL ID."
   ]
  },
  {
   "cell_type": "code",
   "execution_count": 7,
   "metadata": {},
   "outputs": [
    {
     "data": {
      "text/plain": [
       "'CHEMBL203'"
      ]
     },
     "execution_count": 7,
     "metadata": {},
     "output_type": "execute_result"
    }
   ],
   "source": [
    "chembl_id = target['target_chembl_id']\n",
    "chembl_id"
   ]
  },
  {
   "cell_type": "markdown",
   "metadata": {},
   "source": [
    "### Bioactivity data\n",
    "\n",
    "Now, we want to query bioactivity data for the target of interest.\n",
    "\n",
    "#### Download and filter bioactivities for the target"
   ]
  },
  {
   "cell_type": "markdown",
   "metadata": {},
   "source": [
    "In this step, we download and filter the bioactivity data and only consider\n",
    "\n",
    "* human proteins, \n",
    "* bioactivity type IC50, \n",
    "* exact measurements (relation `'='`), and\n",
    "* binding data (assay type `'B'`)."
   ]
  },
  {
   "cell_type": "code",
   "execution_count": 8,
   "metadata": {},
   "outputs": [
    {
     "name": "stdout",
     "output_type": "stream",
     "text": [
      "Length and type of bioactivities object: 6262, <class 'chembl_webresource_client.query_set.QuerySet'>\n",
      "Length and type of first element: 11, <class 'dict'>\n"
     ]
    }
   ],
   "source": [
    "bioactivities = bioactivities_api.filter(target_chembl_id=chembl_id) \\\n",
    "                                 .filter(type='IC50') \\\n",
    "                                 .filter(relation='=') \\\n",
    "                                 .filter(assay_type='B') \\\n",
    "                                 .only(\n",
    "                                     'activity_id',\n",
    "                                     'assay_chembl_id', \n",
    "                                     'assay_description', \n",
    "                                     'assay_type', \n",
    "                                     'molecule_chembl_id', \n",
    "                                     'type', \n",
    "                                     'units', \n",
    "                                     'relation', \n",
    "                                     'value',\n",
    "                                     'target_chembl_id', \n",
    "                                     'target_organism'\n",
    "                                 )\n",
    "\n",
    "print(f'Length and type of bioactivities object: {len(bioactivities)}, {type(bioactivities)}')\n",
    "print(f'Length and type of first element: {len(bioactivities[0])}, {type(bioactivities[0])}')"
   ]
  },
  {
   "cell_type": "markdown",
   "metadata": {},
   "source": [
    "If you experience difficulties to query the ChEMBL database, we provide here a file containing the results for the query in the previous cell (11 April 2019). We do this using the Python package pickle which serializes Python objects so they can be saved to a file, and loaded in a program again later on.\n",
    "Learn more about object serialization on [DataCamp](https://www.datacamp.com/community/tutorials/pickle-python-tutorial).\n",
    "\n",
    "You can load the \"pickled\" compounds by turning the next `Raw NBConvert` cell to a `Code` cell (check out menu bar)."
   ]
  },
  {
   "cell_type": "raw",
   "metadata": {},
   "source": [
    "import pickle\n",
    "bioact = pickle.load(open(\"../data/T1/EGFR_compounds_from_chembl_query_20190411.p\", \"rb\"))"
   ]
  },
  {
   "cell_type": "markdown",
   "metadata": {},
   "source": [
    "#### Clean and convert bioactivity data\n",
    "\n",
    "The data are stored as a list of dictionaries."
   ]
  },
  {
   "cell_type": "code",
   "execution_count": 9,
   "metadata": {},
   "outputs": [
    {
     "data": {
      "text/plain": [
       "{'activity_id': 32260,\n",
       " 'assay_chembl_id': 'CHEMBL674637',\n",
       " 'assay_description': 'Inhibitory activity towards tyrosine phosphorylation for the epidermal growth factor-receptor kinase',\n",
       " 'assay_type': 'B',\n",
       " 'molecule_chembl_id': 'CHEMBL68920',\n",
       " 'relation': '=',\n",
       " 'target_chembl_id': 'CHEMBL203',\n",
       " 'target_organism': 'Homo sapiens',\n",
       " 'type': 'IC50',\n",
       " 'units': 'uM',\n",
       " 'value': '0.041'}"
      ]
     },
     "execution_count": 9,
     "metadata": {},
     "output_type": "execute_result"
    }
   ],
   "source": [
    "bioactivities[0]"
   ]
  },
  {
   "cell_type": "markdown",
   "metadata": {},
   "source": [
    "Convert this dictionary list to a pandas DataFrame (this might take some minutes)."
   ]
  },
  {
   "cell_type": "code",
   "execution_count": 10,
   "metadata": {},
   "outputs": [
    {
     "data": {
      "text/html": [
       "<div>\n",
       "<style scoped>\n",
       "    .dataframe tbody tr th:only-of-type {\n",
       "        vertical-align: middle;\n",
       "    }\n",
       "\n",
       "    .dataframe tbody tr th {\n",
       "        vertical-align: top;\n",
       "    }\n",
       "\n",
       "    .dataframe thead th {\n",
       "        text-align: right;\n",
       "    }\n",
       "</style>\n",
       "<table border=\"1\" class=\"dataframe\">\n",
       "  <thead>\n",
       "    <tr style=\"text-align: right;\">\n",
       "      <th></th>\n",
       "      <th>activity_id</th>\n",
       "      <th>assay_chembl_id</th>\n",
       "      <th>assay_description</th>\n",
       "      <th>assay_type</th>\n",
       "      <th>molecule_chembl_id</th>\n",
       "      <th>relation</th>\n",
       "      <th>target_chembl_id</th>\n",
       "      <th>target_organism</th>\n",
       "      <th>type</th>\n",
       "      <th>units</th>\n",
       "      <th>value</th>\n",
       "    </tr>\n",
       "  </thead>\n",
       "  <tbody>\n",
       "    <tr>\n",
       "      <td>0</td>\n",
       "      <td>32260</td>\n",
       "      <td>CHEMBL674637</td>\n",
       "      <td>Inhibitory activity towards tyrosine phosphory...</td>\n",
       "      <td>B</td>\n",
       "      <td>CHEMBL68920</td>\n",
       "      <td>=</td>\n",
       "      <td>CHEMBL203</td>\n",
       "      <td>Homo sapiens</td>\n",
       "      <td>IC50</td>\n",
       "      <td>uM</td>\n",
       "      <td>0.041</td>\n",
       "    </tr>\n",
       "    <tr>\n",
       "      <td>1</td>\n",
       "      <td>32260</td>\n",
       "      <td>CHEMBL674637</td>\n",
       "      <td>Inhibitory activity towards tyrosine phosphory...</td>\n",
       "      <td>B</td>\n",
       "      <td>CHEMBL68920</td>\n",
       "      <td>=</td>\n",
       "      <td>CHEMBL203</td>\n",
       "      <td>Homo sapiens</td>\n",
       "      <td>IC50</td>\n",
       "      <td>uM</td>\n",
       "      <td>0.041</td>\n",
       "    </tr>\n",
       "    <tr>\n",
       "      <td>2</td>\n",
       "      <td>32267</td>\n",
       "      <td>CHEMBL674637</td>\n",
       "      <td>Inhibitory activity towards tyrosine phosphory...</td>\n",
       "      <td>B</td>\n",
       "      <td>CHEMBL69960</td>\n",
       "      <td>=</td>\n",
       "      <td>CHEMBL203</td>\n",
       "      <td>Homo sapiens</td>\n",
       "      <td>IC50</td>\n",
       "      <td>uM</td>\n",
       "      <td>0.17</td>\n",
       "    </tr>\n",
       "    <tr>\n",
       "      <td>3</td>\n",
       "      <td>32680</td>\n",
       "      <td>CHEMBL677833</td>\n",
       "      <td>In vitro inhibition of Epidermal growth factor...</td>\n",
       "      <td>B</td>\n",
       "      <td>CHEMBL137635</td>\n",
       "      <td>=</td>\n",
       "      <td>CHEMBL203</td>\n",
       "      <td>Homo sapiens</td>\n",
       "      <td>IC50</td>\n",
       "      <td>uM</td>\n",
       "      <td>9.3</td>\n",
       "    </tr>\n",
       "    <tr>\n",
       "      <td>4</td>\n",
       "      <td>32770</td>\n",
       "      <td>CHEMBL674643</td>\n",
       "      <td>Inhibitory concentration of EGF dependent auto...</td>\n",
       "      <td>B</td>\n",
       "      <td>CHEMBL306988</td>\n",
       "      <td>=</td>\n",
       "      <td>CHEMBL203</td>\n",
       "      <td>Homo sapiens</td>\n",
       "      <td>IC50</td>\n",
       "      <td>uM</td>\n",
       "      <td>500</td>\n",
       "    </tr>\n",
       "    <tr>\n",
       "      <td>5</td>\n",
       "      <td>32772</td>\n",
       "      <td>CHEMBL674643</td>\n",
       "      <td>Inhibitory concentration of EGF dependent auto...</td>\n",
       "      <td>B</td>\n",
       "      <td>CHEMBL66879</td>\n",
       "      <td>=</td>\n",
       "      <td>CHEMBL203</td>\n",
       "      <td>Homo sapiens</td>\n",
       "      <td>IC50</td>\n",
       "      <td>uM</td>\n",
       "      <td>3000</td>\n",
       "    </tr>\n",
       "    <tr>\n",
       "      <td>6</td>\n",
       "      <td>32780</td>\n",
       "      <td>CHEMBL674643</td>\n",
       "      <td>Inhibitory concentration of EGF dependent auto...</td>\n",
       "      <td>B</td>\n",
       "      <td>CHEMBL77085</td>\n",
       "      <td>=</td>\n",
       "      <td>CHEMBL203</td>\n",
       "      <td>Homo sapiens</td>\n",
       "      <td>IC50</td>\n",
       "      <td>uM</td>\n",
       "      <td>96</td>\n",
       "    </tr>\n",
       "    <tr>\n",
       "      <td>7</td>\n",
       "      <td>33406</td>\n",
       "      <td>CHEMBL674637</td>\n",
       "      <td>Inhibitory activity towards tyrosine phosphory...</td>\n",
       "      <td>B</td>\n",
       "      <td>CHEMBL443268</td>\n",
       "      <td>=</td>\n",
       "      <td>CHEMBL203</td>\n",
       "      <td>Homo sapiens</td>\n",
       "      <td>IC50</td>\n",
       "      <td>uM</td>\n",
       "      <td>5.31</td>\n",
       "    </tr>\n",
       "    <tr>\n",
       "      <td>8</td>\n",
       "      <td>34039</td>\n",
       "      <td>CHEMBL674643</td>\n",
       "      <td>Inhibitory concentration of EGF dependent auto...</td>\n",
       "      <td>B</td>\n",
       "      <td>CHEMBL76979</td>\n",
       "      <td>=</td>\n",
       "      <td>CHEMBL203</td>\n",
       "      <td>Homo sapiens</td>\n",
       "      <td>IC50</td>\n",
       "      <td>uM</td>\n",
       "      <td>264</td>\n",
       "    </tr>\n",
       "    <tr>\n",
       "      <td>9</td>\n",
       "      <td>34041</td>\n",
       "      <td>CHEMBL674643</td>\n",
       "      <td>Inhibitory concentration of EGF dependent auto...</td>\n",
       "      <td>B</td>\n",
       "      <td>CHEMBL76589</td>\n",
       "      <td>=</td>\n",
       "      <td>CHEMBL203</td>\n",
       "      <td>Homo sapiens</td>\n",
       "      <td>IC50</td>\n",
       "      <td>uM</td>\n",
       "      <td>0.125</td>\n",
       "    </tr>\n",
       "  </tbody>\n",
       "</table>\n",
       "</div>"
      ],
      "text/plain": [
       "   activity_id assay_chembl_id  \\\n",
       "0        32260    CHEMBL674637   \n",
       "1        32260    CHEMBL674637   \n",
       "2        32267    CHEMBL674637   \n",
       "3        32680    CHEMBL677833   \n",
       "4        32770    CHEMBL674643   \n",
       "5        32772    CHEMBL674643   \n",
       "6        32780    CHEMBL674643   \n",
       "7        33406    CHEMBL674637   \n",
       "8        34039    CHEMBL674643   \n",
       "9        34041    CHEMBL674643   \n",
       "\n",
       "                                   assay_description assay_type  \\\n",
       "0  Inhibitory activity towards tyrosine phosphory...          B   \n",
       "1  Inhibitory activity towards tyrosine phosphory...          B   \n",
       "2  Inhibitory activity towards tyrosine phosphory...          B   \n",
       "3  In vitro inhibition of Epidermal growth factor...          B   \n",
       "4  Inhibitory concentration of EGF dependent auto...          B   \n",
       "5  Inhibitory concentration of EGF dependent auto...          B   \n",
       "6  Inhibitory concentration of EGF dependent auto...          B   \n",
       "7  Inhibitory activity towards tyrosine phosphory...          B   \n",
       "8  Inhibitory concentration of EGF dependent auto...          B   \n",
       "9  Inhibitory concentration of EGF dependent auto...          B   \n",
       "\n",
       "  molecule_chembl_id relation target_chembl_id target_organism  type units  \\\n",
       "0        CHEMBL68920        =        CHEMBL203    Homo sapiens  IC50    uM   \n",
       "1        CHEMBL68920        =        CHEMBL203    Homo sapiens  IC50    uM   \n",
       "2        CHEMBL69960        =        CHEMBL203    Homo sapiens  IC50    uM   \n",
       "3       CHEMBL137635        =        CHEMBL203    Homo sapiens  IC50    uM   \n",
       "4       CHEMBL306988        =        CHEMBL203    Homo sapiens  IC50    uM   \n",
       "5        CHEMBL66879        =        CHEMBL203    Homo sapiens  IC50    uM   \n",
       "6        CHEMBL77085        =        CHEMBL203    Homo sapiens  IC50    uM   \n",
       "7       CHEMBL443268        =        CHEMBL203    Homo sapiens  IC50    uM   \n",
       "8        CHEMBL76979        =        CHEMBL203    Homo sapiens  IC50    uM   \n",
       "9        CHEMBL76589        =        CHEMBL203    Homo sapiens  IC50    uM   \n",
       "\n",
       "   value  \n",
       "0  0.041  \n",
       "1  0.041  \n",
       "2   0.17  \n",
       "3    9.3  \n",
       "4    500  \n",
       "5   3000  \n",
       "6     96  \n",
       "7   5.31  \n",
       "8    264  \n",
       "9  0.125  "
      ]
     },
     "execution_count": 10,
     "metadata": {},
     "output_type": "execute_result"
    }
   ],
   "source": [
    "bioactivities_df = pd.DataFrame.from_records(bioactivities)\n",
    "bioactivities_df.head(10)"
   ]
  },
  {
   "cell_type": "code",
   "execution_count": 11,
   "metadata": {},
   "outputs": [
    {
     "data": {
      "text/plain": [
       "(6263, 11)"
      ]
     },
     "execution_count": 11,
     "metadata": {},
     "output_type": "execute_result"
    }
   ],
   "source": [
    "bioactivities_df.shape"
   ]
  },
  {
   "cell_type": "markdown",
   "metadata": {},
   "source": [
    "Delete entries with missing values. Use the parameter `inplace=True` to drop values in the current DataFrame directly."
   ]
  },
  {
   "cell_type": "code",
   "execution_count": 12,
   "metadata": {},
   "outputs": [
    {
     "data": {
      "text/plain": [
       "(6262, 11)"
      ]
     },
     "execution_count": 12,
     "metadata": {},
     "output_type": "execute_result"
    }
   ],
   "source": [
    "bioactivities_df.dropna(\n",
    "    axis=0, \n",
    "    how='any', \n",
    "    inplace=True\n",
    ")\n",
    "bioactivities_df.shape"
   ]
  },
  {
   "cell_type": "markdown",
   "metadata": {},
   "source": [
    "Delete duplicates:\n",
    "Sometimes the same molecule (`molecule_chembl_id`) has been tested more than once, in this case, we only keep the first one."
   ]
  },
  {
   "cell_type": "code",
   "execution_count": 13,
   "metadata": {},
   "outputs": [
    {
     "data": {
      "text/plain": [
       "(5041, 11)"
      ]
     },
     "execution_count": 13,
     "metadata": {},
     "output_type": "execute_result"
    }
   ],
   "source": [
    "bioactivities_df.drop_duplicates(\n",
    "    'molecule_chembl_id', \n",
    "    keep='first', \n",
    "    inplace=True\n",
    ")\n",
    "bioactivities_df.shape"
   ]
  },
  {
   "cell_type": "markdown",
   "metadata": {},
   "source": [
    "We would like to only keep bioactivity data measured in molar units. The following print statements will help us to see what units are contained and to control what is kept after dropping some rows."
   ]
  },
  {
   "cell_type": "code",
   "execution_count": 14,
   "metadata": {},
   "outputs": [
    {
     "name": "stdout",
     "output_type": "stream",
     "text": [
      "['uM' 'nM' 'M' \"10'1 ug/ml\" 'ug ml-1' \"10'-1microM\" \"10'1 uM\"\n",
      " \"10'-1 ug/ml\" \"10'-2 ug/ml\" \"10'2 uM\" '/uM' \"10'-6g/ml\" 'mM' 'umol/L'\n",
      " 'nmol/L']\n"
     ]
    }
   ],
   "source": [
    "print(bioactivities_df.units.unique())"
   ]
  },
  {
   "cell_type": "code",
   "execution_count": 15,
   "metadata": {},
   "outputs": [
    {
     "name": "stdout",
     "output_type": "stream",
     "text": [
      "['uM' 'nM' 'M' \"10'-1microM\" \"10'1 uM\" \"10'2 uM\" '/uM' 'mM']\n"
     ]
    }
   ],
   "source": [
    "bioactivities_df.drop(\n",
    "    bioactivities_df.index[~bioactivities_df.units.str.contains('M')],\n",
    "    inplace=True\n",
    ")\n",
    "print(bioactivities_df.units.unique())"
   ]
  },
  {
   "cell_type": "code",
   "execution_count": 16,
   "metadata": {},
   "outputs": [
    {
     "data": {
      "text/plain": [
       "(4972, 11)"
      ]
     },
     "execution_count": 16,
     "metadata": {},
     "output_type": "execute_result"
    }
   ],
   "source": [
    "bioactivities_df.shape"
   ]
  },
  {
   "cell_type": "markdown",
   "metadata": {},
   "source": [
    "Since we deleted some rows, but we want to iterate over the index later, we reset the index to be continuous."
   ]
  },
  {
   "cell_type": "code",
   "execution_count": 17,
   "metadata": {},
   "outputs": [
    {
     "data": {
      "text/html": [
       "<div>\n",
       "<style scoped>\n",
       "    .dataframe tbody tr th:only-of-type {\n",
       "        vertical-align: middle;\n",
       "    }\n",
       "\n",
       "    .dataframe tbody tr th {\n",
       "        vertical-align: top;\n",
       "    }\n",
       "\n",
       "    .dataframe thead th {\n",
       "        text-align: right;\n",
       "    }\n",
       "</style>\n",
       "<table border=\"1\" class=\"dataframe\">\n",
       "  <thead>\n",
       "    <tr style=\"text-align: right;\">\n",
       "      <th></th>\n",
       "      <th>activity_id</th>\n",
       "      <th>assay_chembl_id</th>\n",
       "      <th>assay_description</th>\n",
       "      <th>assay_type</th>\n",
       "      <th>molecule_chembl_id</th>\n",
       "      <th>relation</th>\n",
       "      <th>target_chembl_id</th>\n",
       "      <th>target_organism</th>\n",
       "      <th>type</th>\n",
       "      <th>units</th>\n",
       "      <th>value</th>\n",
       "    </tr>\n",
       "  </thead>\n",
       "  <tbody>\n",
       "    <tr>\n",
       "      <td>0</td>\n",
       "      <td>32260</td>\n",
       "      <td>CHEMBL674637</td>\n",
       "      <td>Inhibitory activity towards tyrosine phosphory...</td>\n",
       "      <td>B</td>\n",
       "      <td>CHEMBL68920</td>\n",
       "      <td>=</td>\n",
       "      <td>CHEMBL203</td>\n",
       "      <td>Homo sapiens</td>\n",
       "      <td>IC50</td>\n",
       "      <td>uM</td>\n",
       "      <td>0.041</td>\n",
       "    </tr>\n",
       "    <tr>\n",
       "      <td>1</td>\n",
       "      <td>32267</td>\n",
       "      <td>CHEMBL674637</td>\n",
       "      <td>Inhibitory activity towards tyrosine phosphory...</td>\n",
       "      <td>B</td>\n",
       "      <td>CHEMBL69960</td>\n",
       "      <td>=</td>\n",
       "      <td>CHEMBL203</td>\n",
       "      <td>Homo sapiens</td>\n",
       "      <td>IC50</td>\n",
       "      <td>uM</td>\n",
       "      <td>0.17</td>\n",
       "    </tr>\n",
       "    <tr>\n",
       "      <td>2</td>\n",
       "      <td>32680</td>\n",
       "      <td>CHEMBL677833</td>\n",
       "      <td>In vitro inhibition of Epidermal growth factor...</td>\n",
       "      <td>B</td>\n",
       "      <td>CHEMBL137635</td>\n",
       "      <td>=</td>\n",
       "      <td>CHEMBL203</td>\n",
       "      <td>Homo sapiens</td>\n",
       "      <td>IC50</td>\n",
       "      <td>uM</td>\n",
       "      <td>9.3</td>\n",
       "    </tr>\n",
       "    <tr>\n",
       "      <td>3</td>\n",
       "      <td>32770</td>\n",
       "      <td>CHEMBL674643</td>\n",
       "      <td>Inhibitory concentration of EGF dependent auto...</td>\n",
       "      <td>B</td>\n",
       "      <td>CHEMBL306988</td>\n",
       "      <td>=</td>\n",
       "      <td>CHEMBL203</td>\n",
       "      <td>Homo sapiens</td>\n",
       "      <td>IC50</td>\n",
       "      <td>uM</td>\n",
       "      <td>500</td>\n",
       "    </tr>\n",
       "    <tr>\n",
       "      <td>4</td>\n",
       "      <td>32772</td>\n",
       "      <td>CHEMBL674643</td>\n",
       "      <td>Inhibitory concentration of EGF dependent auto...</td>\n",
       "      <td>B</td>\n",
       "      <td>CHEMBL66879</td>\n",
       "      <td>=</td>\n",
       "      <td>CHEMBL203</td>\n",
       "      <td>Homo sapiens</td>\n",
       "      <td>IC50</td>\n",
       "      <td>uM</td>\n",
       "      <td>3000</td>\n",
       "    </tr>\n",
       "  </tbody>\n",
       "</table>\n",
       "</div>"
      ],
      "text/plain": [
       "   activity_id assay_chembl_id  \\\n",
       "0        32260    CHEMBL674637   \n",
       "1        32267    CHEMBL674637   \n",
       "2        32680    CHEMBL677833   \n",
       "3        32770    CHEMBL674643   \n",
       "4        32772    CHEMBL674643   \n",
       "\n",
       "                                   assay_description assay_type  \\\n",
       "0  Inhibitory activity towards tyrosine phosphory...          B   \n",
       "1  Inhibitory activity towards tyrosine phosphory...          B   \n",
       "2  In vitro inhibition of Epidermal growth factor...          B   \n",
       "3  Inhibitory concentration of EGF dependent auto...          B   \n",
       "4  Inhibitory concentration of EGF dependent auto...          B   \n",
       "\n",
       "  molecule_chembl_id relation target_chembl_id target_organism  type units  \\\n",
       "0        CHEMBL68920        =        CHEMBL203    Homo sapiens  IC50    uM   \n",
       "1        CHEMBL69960        =        CHEMBL203    Homo sapiens  IC50    uM   \n",
       "2       CHEMBL137635        =        CHEMBL203    Homo sapiens  IC50    uM   \n",
       "3       CHEMBL306988        =        CHEMBL203    Homo sapiens  IC50    uM   \n",
       "4        CHEMBL66879        =        CHEMBL203    Homo sapiens  IC50    uM   \n",
       "\n",
       "   value  \n",
       "0  0.041  \n",
       "1   0.17  \n",
       "2    9.3  \n",
       "3    500  \n",
       "4   3000  "
      ]
     },
     "execution_count": 17,
     "metadata": {},
     "output_type": "execute_result"
    }
   ],
   "source": [
    "bioact_df = bioact_df.reset_index(drop=True) \n",
    "bioact_df.head()"
   ]
  },
  {
   "cell_type": "markdown",
   "metadata": {},
   "source": [
    "To allow further comparison of the IC50 values, we convert all units to nM. First, we write a helper function, which can be applied to the whole DataFrame in the next step."
   ]
  },
  {
   "cell_type": "code",
   "execution_count": 18,
   "metadata": {},
   "outputs": [],
   "source": [
    "def convert_to_nM(unit, bioactivity):\n",
    "    \n",
    "    conversion_factors = {\n",
    "        \"pM\": 1e-3,\n",
    "        \"10'-11M\": 1e-2,\n",
    "        \"10'-10M\": 1e-1,\n",
    "        \"nM\": 1e+0,\n",
    "        \"10'-8M\": 1e+1,\n",
    "        \"10'-1microM\": 1e+2,\n",
    "        \"10'-7M\": 1e+2,\n",
    "        \"uM\": 1e+3,\n",
    "        \"/uM\": 1e+3,\n",
    "        \"10'-6M\": 1e+3,\n",
    "        \"10'1 uM\": 1e+4,\n",
    "        \"10'2 uM\": 1e+5,\n",
    "        \"mM\": 1e+6,\n",
    "        \"M\": 1e+9,\n",
    "    }\n",
    "    \n",
    "    try:\n",
    "        return float(bioactivity) * conversion_factors[unit]\n",
    "        \n",
    "    except KeyError:\n",
    "        print(f'Unit not recognized: {unit}')\n",
    "        return"
   ]
  },
  {
   "cell_type": "code",
   "execution_count": 19,
   "metadata": {},
   "outputs": [
    {
     "data": {
      "text/html": [
       "<div>\n",
       "<style scoped>\n",
       "    .dataframe tbody tr th:only-of-type {\n",
       "        vertical-align: middle;\n",
       "    }\n",
       "\n",
       "    .dataframe tbody tr th {\n",
       "        vertical-align: top;\n",
       "    }\n",
       "\n",
       "    .dataframe thead th {\n",
       "        text-align: right;\n",
       "    }\n",
       "</style>\n",
       "<table border=\"1\" class=\"dataframe\">\n",
       "  <thead>\n",
       "    <tr style=\"text-align: right;\">\n",
       "      <th></th>\n",
       "      <th>activity_id</th>\n",
       "      <th>assay_chembl_id</th>\n",
       "      <th>assay_description</th>\n",
       "      <th>assay_type</th>\n",
       "      <th>molecule_chembl_id</th>\n",
       "      <th>relation</th>\n",
       "      <th>target_chembl_id</th>\n",
       "      <th>target_organism</th>\n",
       "      <th>type</th>\n",
       "      <th>units</th>\n",
       "      <th>value</th>\n",
       "    </tr>\n",
       "  </thead>\n",
       "  <tbody>\n",
       "    <tr>\n",
       "      <td>0</td>\n",
       "      <td>32260</td>\n",
       "      <td>CHEMBL674637</td>\n",
       "      <td>Inhibitory activity towards tyrosine phosphory...</td>\n",
       "      <td>B</td>\n",
       "      <td>CHEMBL68920</td>\n",
       "      <td>=</td>\n",
       "      <td>CHEMBL203</td>\n",
       "      <td>Homo sapiens</td>\n",
       "      <td>IC50</td>\n",
       "      <td>nM</td>\n",
       "      <td>41.0</td>\n",
       "    </tr>\n",
       "    <tr>\n",
       "      <td>1</td>\n",
       "      <td>32267</td>\n",
       "      <td>CHEMBL674637</td>\n",
       "      <td>Inhibitory activity towards tyrosine phosphory...</td>\n",
       "      <td>B</td>\n",
       "      <td>CHEMBL69960</td>\n",
       "      <td>=</td>\n",
       "      <td>CHEMBL203</td>\n",
       "      <td>Homo sapiens</td>\n",
       "      <td>IC50</td>\n",
       "      <td>nM</td>\n",
       "      <td>170.0</td>\n",
       "    </tr>\n",
       "    <tr>\n",
       "      <td>2</td>\n",
       "      <td>32680</td>\n",
       "      <td>CHEMBL677833</td>\n",
       "      <td>In vitro inhibition of Epidermal growth factor...</td>\n",
       "      <td>B</td>\n",
       "      <td>CHEMBL137635</td>\n",
       "      <td>=</td>\n",
       "      <td>CHEMBL203</td>\n",
       "      <td>Homo sapiens</td>\n",
       "      <td>IC50</td>\n",
       "      <td>nM</td>\n",
       "      <td>9300.0</td>\n",
       "    </tr>\n",
       "    <tr>\n",
       "      <td>3</td>\n",
       "      <td>32770</td>\n",
       "      <td>CHEMBL674643</td>\n",
       "      <td>Inhibitory concentration of EGF dependent auto...</td>\n",
       "      <td>B</td>\n",
       "      <td>CHEMBL306988</td>\n",
       "      <td>=</td>\n",
       "      <td>CHEMBL203</td>\n",
       "      <td>Homo sapiens</td>\n",
       "      <td>IC50</td>\n",
       "      <td>nM</td>\n",
       "      <td>500000.0</td>\n",
       "    </tr>\n",
       "    <tr>\n",
       "      <td>4</td>\n",
       "      <td>32772</td>\n",
       "      <td>CHEMBL674643</td>\n",
       "      <td>Inhibitory concentration of EGF dependent auto...</td>\n",
       "      <td>B</td>\n",
       "      <td>CHEMBL66879</td>\n",
       "      <td>=</td>\n",
       "      <td>CHEMBL203</td>\n",
       "      <td>Homo sapiens</td>\n",
       "      <td>IC50</td>\n",
       "      <td>nM</td>\n",
       "      <td>3000000.0</td>\n",
       "    </tr>\n",
       "  </tbody>\n",
       "</table>\n",
       "</div>"
      ],
      "text/plain": [
       "   activity_id assay_chembl_id  \\\n",
       "0        32260    CHEMBL674637   \n",
       "1        32267    CHEMBL674637   \n",
       "2        32680    CHEMBL677833   \n",
       "3        32770    CHEMBL674643   \n",
       "4        32772    CHEMBL674643   \n",
       "\n",
       "                                   assay_description assay_type  \\\n",
       "0  Inhibitory activity towards tyrosine phosphory...          B   \n",
       "1  Inhibitory activity towards tyrosine phosphory...          B   \n",
       "2  In vitro inhibition of Epidermal growth factor...          B   \n",
       "3  Inhibitory concentration of EGF dependent auto...          B   \n",
       "4  Inhibitory concentration of EGF dependent auto...          B   \n",
       "\n",
       "  molecule_chembl_id relation target_chembl_id target_organism  type units  \\\n",
       "0        CHEMBL68920        =        CHEMBL203    Homo sapiens  IC50    nM   \n",
       "1        CHEMBL69960        =        CHEMBL203    Homo sapiens  IC50    nM   \n",
       "2       CHEMBL137635        =        CHEMBL203    Homo sapiens  IC50    nM   \n",
       "3       CHEMBL306988        =        CHEMBL203    Homo sapiens  IC50    nM   \n",
       "4        CHEMBL66879        =        CHEMBL203    Homo sapiens  IC50    nM   \n",
       "\n",
       "       value  \n",
       "0       41.0  \n",
       "1      170.0  \n",
       "2     9300.0  \n",
       "3   500000.0  \n",
       "4  3000000.0  "
      ]
     },
     "execution_count": 20,
     "metadata": {},
     "output_type": "execute_result"
    }
   ],
   "source": [
    "# Apply unit conversion to each row (=bioactivity entry) of DataFrame\n",
    "\n",
    "# Add converted units and values to DataFrame\n",
    "    bioact_nM = convert_to_nM(row['units'], row['value'])\n",
    "    bioactivity_nM.append(bioact_nM)\n",
    "\n",
    "bioact_df['value'] = bioactivity_nM\n",
    "bioact_df['units'] = 'nM'\n",
    "bioact_df.head()"
   ]
  },
  {
   "cell_type": "markdown",
   "metadata": {},
   "source": [
    "### Compound data\n",
    "\n",
    "We have a DataFrame containing all molecules tested against EGFR (with the respective measure). \n",
    "Now, we want to get the molecules that are linked to respective bioactivity ChEMBL IDs. "
   ]
  },
  {
   "cell_type": "markdown",
   "metadata": {},
   "source": [
    "#### Get list of compounds\n",
    "\n",
    "Let's have a look at the compounds from ChEMBL which we have defined bioactivity data for. \n",
    "First, we retrieve compound ChEMBL ID and structures for the compounds linked to our filtered bioactivity data."
   ]
  },
  {
   "cell_type": "code",
   "execution_count": 21,
   "metadata": {},
   "outputs": [],
   "source": [
    "compounds = compounds_api.filter(\n",
    "    molecule_chembl_id__in = list(bioactivities_df['molecule_chembl_id'])\n",
    ").only('molecule_chembl_id','molecule_structures')"
   ]
  },
  {
   "cell_type": "code",
   "execution_count": 22,
   "metadata": {},
   "outputs": [
    {
     "data": {
      "text/plain": [
       "[{'molecule_chembl_id': 'CHEMBL6246', 'molecule_structures': {'canonical_smiles': 'Oc1cc2C(=O)Oc3c(O)c(O)cc4C(=O)Oc(c1O)c2c34', 'standard_inchi': 'InChI=1S/C14H6O8/c15-5-1-3-7-8-4(14(20)22-11(7)9(5)17)2-6(16)10(18)12(8)21-13(3)19/h1-2,15-18H', 'standard_inchi_key': 'AFSDNFLWKVMVRB-UHFFFAOYSA-N'}}, {'molecule_chembl_id': 'CHEMBL10', 'molecule_structures': {'canonical_smiles': 'C[S+]([O-])c1ccc(cc1)c2nc(c3ccc(F)cc3)c([nH]2)c4ccncc4', 'standard_inchi': 'InChI=1S/C21H16FN3OS/c1-27(26)18-8-4-16(5-9-18)21-24-19(14-2-6-17(22)7-3-14)20(25-21)15-10-12-23-13-11-15/h2-13H,1H3,(H,24,25)', 'standard_inchi_key': 'CDMGBJANTYXAIV-UHFFFAOYSA-N'}}, {'molecule_chembl_id': 'CHEMBL6976', 'molecule_structures': {'canonical_smiles': 'COc1cc2CC3=C(Nc2cc1OC)N=CN(C)C3=O', 'standard_inchi': 'InChI=1S/C14H15N3O3/c1-17-7-15-13-9(14(17)18)4-8-5-11(19-2)12(20-3)6-10(8)16-13/h5-7,16H,4H2,1-3H3', 'standard_inchi_key': 'ZTVYMXRRHFGHRV-UHFFFAOYSA-N'}}, {'molecule_chembl_id': 'CHEMBL7002', 'molecule_structures': {'canonical_smiles': 'CC1(COc2ccc(CC3SC(=O)NC3=O)cc2)CCCCC1', 'standard_inchi': 'InChI=1S/C18H23NO3S/c1-18(9-3-2-4-10-18)12-22-14-7-5-13(6-8-14)11-15-16(20)19-17(21)23-15/h5-8,15H,2-4,9-12H2,1H3,(H,19,20,21)', 'standard_inchi_key': 'YZFWTZACSRHJQD-UHFFFAOYSA-N'}}, '...(remaining elements truncated)...']"
      ]
     },
     "execution_count": 22,
     "metadata": {},
     "output_type": "execute_result"
    }
   ],
   "source": [
    "compounds"
   ]
  },
  {
   "cell_type": "markdown",
   "metadata": {},
   "source": [
    "Prepare compounds data set:  \n",
    "* Convert the list to a pandas DataFrame (again, the pandas `from_records` function might take some time)\n",
    "* Delete duplicates\n",
    "* Remove entries with missing molecule structure."
   ]
  },
  {
   "cell_type": "code",
   "execution_count": 23,
   "metadata": {},
   "outputs": [
    {
     "name": "stdout",
     "output_type": "stream",
     "text": [
      "Compounds:                        (4973, 2)\n",
      "Compounds deduplicated:           (4972, 2)\n",
      "Compounds without missing values: (4965, 2)\n"
     ]
    }
   ],
   "source": [
    "compounds_df = pd.DataFrame.from_records(compounds)\n",
    "print(f'Compounds:                        {compounds_df.shape}')\n",
    "\n",
    "compounds_df.drop_duplicates(\n",
    "    'molecule_chembl_id', \n",
    "    keep='first', \n",
    "    inplace=True\n",
    ")\n",
    "print(f'Compounds deduplicated:           {compounds_df.shape}')\n",
    "\n",
    "compounds_df.dropna(\n",
    "    axis=0, \n",
    "    how='any', \n",
    "    inplace=True\n",
    ")\n",
    "print(f'Compounds without missing values: {compounds_df.shape}')"
   ]
  },
  {
   "cell_type": "code",
   "execution_count": 24,
   "metadata": {},
   "outputs": [
    {
     "name": "stdout",
     "output_type": "stream",
     "text": [
      "Compounds filtered:     (4965, 2)\n",
      "Bioactivities filtered: (4972, 11)\n"
     ]
    }
   ],
   "source": [
    "print(f'Compounds filtered:     {compounds_df.shape}')\n",
    "print(f'Bioactivities filtered: {bioactivities_df.shape}')"
   ]
  },
  {
   "cell_type": "markdown",
   "metadata": {},
   "source": [
    "So far, we have multiple different molecular structure representations. We only want to keep the canonical SMILES."
   ]
  },
  {
   "cell_type": "code",
   "execution_count": 25,
   "metadata": {},
   "outputs": [
    {
     "data": {
      "text/html": [
       "<div>\n",
       "<style scoped>\n",
       "    .dataframe tbody tr th:only-of-type {\n",
       "        vertical-align: middle;\n",
       "    }\n",
       "\n",
       "    .dataframe tbody tr th {\n",
       "        vertical-align: top;\n",
       "    }\n",
       "\n",
       "    .dataframe thead th {\n",
       "        text-align: right;\n",
       "    }\n",
       "</style>\n",
       "<table border=\"1\" class=\"dataframe\">\n",
       "  <thead>\n",
       "    <tr style=\"text-align: right;\">\n",
       "      <th></th>\n",
       "      <th>molecule_chembl_id</th>\n",
       "      <th>molecule_structures</th>\n",
       "    </tr>\n",
       "  </thead>\n",
       "  <tbody>\n",
       "    <tr>\n",
       "      <td>0</td>\n",
       "      <td>CHEMBL6246</td>\n",
       "      <td>{'canonical_smiles': 'Oc1cc2C(=O)Oc3c(O)c(O)cc...</td>\n",
       "    </tr>\n",
       "    <tr>\n",
       "      <td>2</td>\n",
       "      <td>CHEMBL10</td>\n",
       "      <td>{'canonical_smiles': 'C[S+]([O-])c1ccc(cc1)c2n...</td>\n",
       "    </tr>\n",
       "    <tr>\n",
       "      <td>3</td>\n",
       "      <td>CHEMBL6976</td>\n",
       "      <td>{'canonical_smiles': 'COc1cc2CC3=C(Nc2cc1OC)N=...</td>\n",
       "    </tr>\n",
       "    <tr>\n",
       "      <td>4</td>\n",
       "      <td>CHEMBL7002</td>\n",
       "      <td>{'canonical_smiles': 'CC1(COc2ccc(CC3SC(=O)NC3...</td>\n",
       "    </tr>\n",
       "    <tr>\n",
       "      <td>5</td>\n",
       "      <td>CHEMBL414013</td>\n",
       "      <td>{'canonical_smiles': 'COc1cc2Cc3c(O)ncnc3Nc2cc...</td>\n",
       "    </tr>\n",
       "  </tbody>\n",
       "</table>\n",
       "</div>"
      ],
      "text/plain": [
       "  molecule_chembl_id                                molecule_structures\n",
       "0         CHEMBL6246  {'canonical_smiles': 'Oc1cc2C(=O)Oc3c(O)c(O)cc...\n",
       "2           CHEMBL10  {'canonical_smiles': 'C[S+]([O-])c1ccc(cc1)c2n...\n",
       "3         CHEMBL6976  {'canonical_smiles': 'COc1cc2CC3=C(Nc2cc1OC)N=...\n",
       "4         CHEMBL7002  {'canonical_smiles': 'CC1(COc2ccc(CC3SC(=O)NC3...\n",
       "5       CHEMBL414013  {'canonical_smiles': 'COc1cc2Cc3c(O)ncnc3Nc2cc..."
      ]
     },
     "execution_count": 25,
     "metadata": {},
     "output_type": "execute_result"
    }
   ],
   "source": [
    "compounds_df.head()"
   ]
  },
  {
   "cell_type": "code",
   "execution_count": 26,
   "metadata": {},
   "outputs": [],
   "source": [
    "canonical_smiles = []\n",
    "\n",
    "for i, compounds in compounds_df.iterrows():\n",
    "    try:\n",
    "        canonical_smiles.append(compounds['molecule_structures']['canonical_smiles'])\n",
    "    except KeyError:\n",
    "        canonical_smiles.append(None)\n",
    "        \n",
    "compounds_df.molecule_structures = canonical_smiles"
   ]
  },
  {
   "cell_type": "markdown",
   "metadata": {},
   "source": [
    "Remove all molecules without a canonical SMILES string."
   ]
  },
  {
   "cell_type": "code",
   "execution_count": 27,
   "metadata": {},
   "outputs": [],
   "source": [
    "compounds_df.dropna(\n",
    "    axis=0, \n",
    "    how='any', \n",
    "    inplace=True\n",
    ")"
   ]
  },
  {
   "cell_type": "code",
   "execution_count": 28,
   "metadata": {},
   "outputs": [
    {
     "name": "stdout",
     "output_type": "stream",
     "text": [
      "(4965, 2)\n"
     ]
    },
    {
     "data": {
      "text/html": [
       "<div>\n",
       "<style scoped>\n",
       "    .dataframe tbody tr th:only-of-type {\n",
       "        vertical-align: middle;\n",
       "    }\n",
       "\n",
       "    .dataframe tbody tr th {\n",
       "        vertical-align: top;\n",
       "    }\n",
       "\n",
       "    .dataframe thead th {\n",
       "        text-align: right;\n",
       "    }\n",
       "</style>\n",
       "<table border=\"1\" class=\"dataframe\">\n",
       "  <thead>\n",
       "    <tr style=\"text-align: right;\">\n",
       "      <th></th>\n",
       "      <th>molecule_chembl_id</th>\n",
       "      <th>molecule_structures</th>\n",
       "    </tr>\n",
       "  </thead>\n",
       "  <tbody>\n",
       "    <tr>\n",
       "      <td>0</td>\n",
       "      <td>CHEMBL6246</td>\n",
       "      <td>Oc1cc2C(=O)Oc3c(O)c(O)cc4C(=O)Oc(c1O)c2c34</td>\n",
       "    </tr>\n",
       "    <tr>\n",
       "      <td>2</td>\n",
       "      <td>CHEMBL10</td>\n",
       "      <td>C[S+]([O-])c1ccc(cc1)c2nc(c3ccc(F)cc3)c([nH]2)...</td>\n",
       "    </tr>\n",
       "    <tr>\n",
       "      <td>3</td>\n",
       "      <td>CHEMBL6976</td>\n",
       "      <td>COc1cc2CC3=C(Nc2cc1OC)N=CN(C)C3=O</td>\n",
       "    </tr>\n",
       "    <tr>\n",
       "      <td>4</td>\n",
       "      <td>CHEMBL7002</td>\n",
       "      <td>CC1(COc2ccc(CC3SC(=O)NC3=O)cc2)CCCCC1</td>\n",
       "    </tr>\n",
       "    <tr>\n",
       "      <td>5</td>\n",
       "      <td>CHEMBL414013</td>\n",
       "      <td>COc1cc2Cc3c(O)ncnc3Nc2cc1OC</td>\n",
       "    </tr>\n",
       "  </tbody>\n",
       "</table>\n",
       "</div>"
      ],
      "text/plain": [
       "  molecule_chembl_id                                molecule_structures\n",
       "0         CHEMBL6246         Oc1cc2C(=O)Oc3c(O)c(O)cc4C(=O)Oc(c1O)c2c34\n",
       "2           CHEMBL10  C[S+]([O-])c1ccc(cc1)c2nc(c3ccc(F)cc3)c([nH]2)...\n",
       "3         CHEMBL6976                  COc1cc2CC3=C(Nc2cc1OC)N=CN(C)C3=O\n",
       "4         CHEMBL7002              CC1(COc2ccc(CC3SC(=O)NC3=O)cc2)CCCCC1\n",
       "5       CHEMBL414013                        COc1cc2Cc3c(O)ncnc3Nc2cc1OC"
      ]
     },
     "execution_count": 28,
     "metadata": {},
     "output_type": "execute_result"
    }
   ],
   "source": [
    "print(compounds_df.shape)\n",
    "compounds_df.head()"
   ]
  },
  {
   "cell_type": "markdown",
   "metadata": {},
   "source": [
    "### Prepare output data"
   ]
  },
  {
   "cell_type": "markdown",
   "metadata": {},
   "source": [
    "Merge values of interest from `bioactivities_df` and `compounds_df` in an `output_df` based on the compounds ChEMBL IDs:\n",
    "* ChEMBL IDs\n",
    "* SMILES\n",
    "* units\n",
    "* IC50"
   ]
  },
  {
   "cell_type": "code",
   "execution_count": 29,
   "metadata": {},
   "outputs": [
    {
     "name": "stdout",
     "output_type": "stream",
     "text": [
      "(4965, 4)\n"
     ]
    }
   ],
   "source": [
    "output_df = output_df.rename(columns={'molecule_structures':'smiles', 'value':'IC50'})\n",
    "output_df.shape"
   ]
  },
  {
   "cell_type": "markdown",
   "metadata": {},
   "source": [
    "For distinct column names, we rename IC50 and SMILES columns."
   ]
  },
  {
   "cell_type": "code",
   "execution_count": 30,
   "metadata": {},
   "outputs": [
    {
     "name": "stdout",
     "output_type": "stream",
     "text": [
      "(4965, 4)\n"
     ]
    },
    {
     "data": {
      "text/html": [
       "<div>\n",
       "<style scoped>\n",
       "    .dataframe tbody tr th:only-of-type {\n",
       "        vertical-align: middle;\n",
       "    }\n",
       "\n",
       "    .dataframe tbody tr th {\n",
       "        vertical-align: top;\n",
       "    }\n",
       "\n",
       "    .dataframe thead th {\n",
       "        text-align: right;\n",
       "    }\n",
       "</style>\n",
       "<table border=\"1\" class=\"dataframe\">\n",
       "  <thead>\n",
       "    <tr style=\"text-align: right;\">\n",
       "      <th></th>\n",
       "      <th>molecule_chembl_id</th>\n",
       "      <th>units</th>\n",
       "      <th>IC50</th>\n",
       "      <th>smiles</th>\n",
       "    </tr>\n",
       "  </thead>\n",
       "  <tbody>\n",
       "    <tr>\n",
       "      <td>0</td>\n",
       "      <td>CHEMBL68920</td>\n",
       "      <td>nM</td>\n",
       "      <td>41.0</td>\n",
       "      <td>Cc1cc(C)c(\\C=C\\2/C(=O)Nc3ncnc(Nc4ccc(F)c(Cl)c4...</td>\n",
       "    </tr>\n",
       "    <tr>\n",
       "      <td>1</td>\n",
       "      <td>CHEMBL69960</td>\n",
       "      <td>nM</td>\n",
       "      <td>170.0</td>\n",
       "      <td>Cc1cc([nH]c1\\C=C\\2/C(=O)Nc3ncnc(Nc4ccc(F)c(Cl)...</td>\n",
       "    </tr>\n",
       "    <tr>\n",
       "      <td>2</td>\n",
       "      <td>CHEMBL137635</td>\n",
       "      <td>nM</td>\n",
       "      <td>9300.0</td>\n",
       "      <td>CN(c1ccccc1)c2ncnc3ccc(N\\N=N\\Cc4ccccn4)cc23</td>\n",
       "    </tr>\n",
       "    <tr>\n",
       "      <td>3</td>\n",
       "      <td>CHEMBL306988</td>\n",
       "      <td>nM</td>\n",
       "      <td>500000.0</td>\n",
       "      <td>CC(=C(C#N)C#N)c1ccc(NC(=O)CCC(=O)O)cc1</td>\n",
       "    </tr>\n",
       "    <tr>\n",
       "      <td>4</td>\n",
       "      <td>CHEMBL66879</td>\n",
       "      <td>nM</td>\n",
       "      <td>3000000.0</td>\n",
       "      <td>OC(=O)\\C=C\\c1ccc(O)cc1</td>\n",
       "    </tr>\n",
       "  </tbody>\n",
       "</table>\n",
       "</div>"
      ],
      "text/plain": [
       "  molecule_chembl_id units       IC50  \\\n",
       "0        CHEMBL68920    nM       41.0   \n",
       "1        CHEMBL69960    nM      170.0   \n",
       "2       CHEMBL137635    nM     9300.0   \n",
       "3       CHEMBL306988    nM   500000.0   \n",
       "4        CHEMBL66879    nM  3000000.0   \n",
       "\n",
       "                                              smiles  \n",
       "0  Cc1cc(C)c(\\C=C\\2/C(=O)Nc3ncnc(Nc4ccc(F)c(Cl)c4...  \n",
       "1  Cc1cc([nH]c1\\C=C\\2/C(=O)Nc3ncnc(Nc4ccc(F)c(Cl)...  \n",
       "2        CN(c1ccccc1)c2ncnc3ccc(N\\N=N\\Cc4ccccn4)cc23  \n",
       "3             CC(=C(C#N)C#N)c1ccc(NC(=O)CCC(=O)O)cc1  \n",
       "4                             OC(=O)\\C=C\\c1ccc(O)cc1  "
      ]
     },
     "execution_count": 30,
     "metadata": {},
     "output_type": "execute_result"
    }
   ],
   "source": [
    "output_df = output_df[~output_df['smiles'].isnull()]\n",
    "print(output_df.shape)\n",
    "output_df.head()"
   ]
  },
  {
   "cell_type": "markdown",
   "metadata": {},
   "source": [
    "As you can see the low IC50 values are difficult to read (values are distributed over multiple scales), which is why we convert the IC50 values to pIC50."
   ]
  },
  {
   "cell_type": "code",
   "execution_count": 32,
   "metadata": {},
   "outputs": [],
   "source": [
    "def convert_IC50_to_pIC50(IC50_value):\n",
    "    pIC50_value = 9 - math.log10(IC50_value)\n",
    "    return pIC50_value"
   ]
  },
  {
   "cell_type": "code",
   "execution_count": 33,
   "metadata": {},
   "outputs": [],
   "source": [
    "# Apply conversion to each row of the compounds DataFrame\n",
    "output_df['pIC50'] = output_df.apply(lambda x: convert_IC50_to_pIC50(x.IC50), axis=1)"
   ]
  },
  {
   "cell_type": "code",
   "execution_count": 34,
   "metadata": {},
   "outputs": [
    {
     "data": {
      "text/html": [
       "<div>\n",
       "<style scoped>\n",
       "    .dataframe tbody tr th:only-of-type {\n",
       "        vertical-align: middle;\n",
       "    }\n",
       "\n",
       "    .dataframe tbody tr th {\n",
       "        vertical-align: top;\n",
       "    }\n",
       "\n",
       "    .dataframe thead th {\n",
       "        text-align: right;\n",
       "    }\n",
       "</style>\n",
       "<table border=\"1\" class=\"dataframe\">\n",
       "  <thead>\n",
       "    <tr style=\"text-align: right;\">\n",
       "      <th></th>\n",
       "      <th>molecule_chembl_id</th>\n",
       "      <th>units</th>\n",
       "      <th>IC50</th>\n",
       "      <th>smiles</th>\n",
       "      <th>pIC50</th>\n",
       "    </tr>\n",
       "  </thead>\n",
       "  <tbody>\n",
       "    <tr>\n",
       "      <td>0</td>\n",
       "      <td>CHEMBL68920</td>\n",
       "      <td>nM</td>\n",
       "      <td>41.0</td>\n",
       "      <td>Cc1cc(C)c(\\C=C\\2/C(=O)Nc3ncnc(Nc4ccc(F)c(Cl)c4...</td>\n",
       "      <td>7.387216</td>\n",
       "    </tr>\n",
       "    <tr>\n",
       "      <td>1</td>\n",
       "      <td>CHEMBL69960</td>\n",
       "      <td>nM</td>\n",
       "      <td>170.0</td>\n",
       "      <td>Cc1cc([nH]c1\\C=C\\2/C(=O)Nc3ncnc(Nc4ccc(F)c(Cl)...</td>\n",
       "      <td>6.769551</td>\n",
       "    </tr>\n",
       "    <tr>\n",
       "      <td>2</td>\n",
       "      <td>CHEMBL137635</td>\n",
       "      <td>nM</td>\n",
       "      <td>9300.0</td>\n",
       "      <td>CN(c1ccccc1)c2ncnc3ccc(N\\N=N\\Cc4ccccn4)cc23</td>\n",
       "      <td>5.031517</td>\n",
       "    </tr>\n",
       "    <tr>\n",
       "      <td>3</td>\n",
       "      <td>CHEMBL306988</td>\n",
       "      <td>nM</td>\n",
       "      <td>500000.0</td>\n",
       "      <td>CC(=C(C#N)C#N)c1ccc(NC(=O)CCC(=O)O)cc1</td>\n",
       "      <td>3.301030</td>\n",
       "    </tr>\n",
       "    <tr>\n",
       "      <td>4</td>\n",
       "      <td>CHEMBL66879</td>\n",
       "      <td>nM</td>\n",
       "      <td>3000000.0</td>\n",
       "      <td>OC(=O)\\C=C\\c1ccc(O)cc1</td>\n",
       "      <td>2.522879</td>\n",
       "    </tr>\n",
       "  </tbody>\n",
       "</table>\n",
       "</div>"
      ],
      "text/plain": [
       "  molecule_chembl_id units       IC50  \\\n",
       "0        CHEMBL68920    nM       41.0   \n",
       "1        CHEMBL69960    nM      170.0   \n",
       "2       CHEMBL137635    nM     9300.0   \n",
       "3       CHEMBL306988    nM   500000.0   \n",
       "4        CHEMBL66879    nM  3000000.0   \n",
       "\n",
       "                                              smiles     pIC50  \n",
       "0  Cc1cc(C)c(\\C=C\\2/C(=O)Nc3ncnc(Nc4ccc(F)c(Cl)c4...  7.387216  \n",
       "1  Cc1cc([nH]c1\\C=C\\2/C(=O)Nc3ncnc(Nc4ccc(F)c(Cl)...  6.769551  \n",
       "2        CN(c1ccccc1)c2ncnc3ccc(N\\N=N\\Cc4ccccn4)cc23  5.031517  \n",
       "3             CC(=C(C#N)C#N)c1ccc(NC(=O)CCC(=O)O)cc1  3.301030  \n",
       "4                             OC(=O)\\C=C\\c1ccc(O)cc1  2.522879  "
      ]
     },
     "execution_count": 34,
     "metadata": {},
     "output_type": "execute_result"
    }
   ],
   "source": [
    "output_df.head()"
   ]
  },
  {
   "cell_type": "markdown",
   "metadata": {},
   "source": [
    "### Draw compound data\n",
    "\n",
  },
  {
   "cell_type": "markdown",
   "metadata": {},
   "source": [
    "Let's have a look at our collected data set.\n",
    "\n",
    "In the next steps, we add a column for RDKit molecule objects to our DataFrame and look at the structures of the molecules with the highest pIC50 values. "
   ]
  },
  {
   "cell_type": "code",
   "execution_count": 25,
   "metadata": {},
   "outputs": [],
   "source": [
    "PandasTools.AddMoleculeColumnToFrame(output_df, smilesCol='smiles')"
   ]
  },
  {
   "cell_type": "markdown",
   "metadata": {},
   "source": [
    "Sort molecules by pIC50."
   ]
  },
  {
   "cell_type": "code",
   "execution_count": 36,
   "metadata": {},
   "outputs": [],
   "source": [
    "output_df.sort_values(by=\"pIC50\", ascending=False, inplace=True)\n",
    "output_df.reset_index(drop=True, inplace=True)"
   ]
  },
  {
   "cell_type": "markdown",
   "metadata": {},
   "source": [
    "Show the most active molecules, i.e. molecules with the highest pIC50 values."
   ]
  },
  {
   "cell_type": "code",
   "execution_count": 37,
   "metadata": {},
   "outputs": [
    {
     "data": {
      "text/html": [
       "<div>\n",
       "<style scoped>\n",
       "    .dataframe tbody tr th:only-of-type {\n",
       "        vertical-align: middle;\n",
       "    }\n",
       "\n",
       "    .dataframe tbody tr th {\n",
       "        vertical-align: top;\n",
       "    }\n",
       "\n",
       "    .dataframe thead th {\n",
       "        text-align: right;\n",
       "    }\n",
       "</style>\n",
       "<table border=\"1\" class=\"dataframe\">\n",
       "  <thead>\n",
       "    <tr style=\"text-align: right;\">\n",
       "      <th></th>\n",
       "      <th>molecule_chembl_id</th>\n",
       "      <th>units</th>\n",
       "      <th>IC50</th>\n",
       "      <th>pIC50</th>\n",
       "      <th>ROMol</th>\n",
       "    </tr>\n",
       "  </thead>\n",
       "  <tbody>\n",
       "    <tr>\n",
       "      <td>0</td>\n",
       "      <td>CHEMBL63786</td>\n",
       "      <td>nM</td>\n",
       "      <td>0.003</td>\n",
       "      <td>11.522879</td>\n",
       "      <td>&lt;img src=\"data:image/png;base64,iVBORw0KGgoAAA...</td>\n",
       "    </tr>\n",
       "    <tr>\n",
       "      <td>1</td>\n",
       "      <td>CHEMBL53711</td>\n",
       "      <td>nM</td>\n",
       "      <td>0.006</td>\n",
       "      <td>11.221849</td>\n",
       "      <td>&lt;img src=\"data:image/png;base64,iVBORw0KGgoAAA...</td>\n",
       "    </tr>\n",
       "    <tr>\n",
       "      <td>2</td>\n",
       "      <td>CHEMBL35820</td>\n",
       "      <td>nM</td>\n",
       "      <td>0.006</td>\n",
       "      <td>11.221849</td>\n",
       "      <td>&lt;img src=\"data:image/png;base64,iVBORw0KGgoAAA...</td>\n",
       "    </tr>\n",
       "    <tr>\n",
       "      <td>3</td>\n",
       "      <td>CHEMBL53753</td>\n",
       "      <td>nM</td>\n",
       "      <td>0.008</td>\n",
       "      <td>11.096910</td>\n",
       "      <td>&lt;img src=\"data:image/png;base64,iVBORw0KGgoAAA...</td>\n",
       "    </tr>\n",
       "    <tr>\n",
       "      <td>4</td>\n",
       "      <td>CHEMBL66031</td>\n",
       "      <td>nM</td>\n",
       "      <td>0.008</td>\n",
       "      <td>11.096910</td>\n",
       "      <td>&lt;img src=\"data:image/png;base64,iVBORw0KGgoAAA...</td>\n",
       "    </tr>\n",
       "  </tbody>\n",
       "</table>\n",
       "</div>"
      ],
      "text/plain": [
       "  molecule_chembl_id units   IC50      pIC50  \\\n",
       "0        CHEMBL63786    nM  0.003  11.522879   \n",
       "1        CHEMBL53711    nM  0.006  11.221849   \n",
       "2        CHEMBL35820    nM  0.006  11.221849   \n",
       "3        CHEMBL53753    nM  0.008  11.096910   \n",
       "4        CHEMBL66031    nM  0.008  11.096910   \n",
       "\n",
       "                                               ROMol  \n",
       "0  <img src=\"data:image/png;base64,iVBORw0KGgoAAA...  \n",
       "1  <img src=\"data:image/png;base64,iVBORw0KGgoAAA...  \n",
       "2  <img src=\"data:image/png;base64,iVBORw0KGgoAAA...  \n",
       "3  <img src=\"data:image/png;base64,iVBORw0KGgoAAA...  \n",
       "4  <img src=\"data:image/png;base64,iVBORw0KGgoAAA...  "
      ]
     },
     "execution_count": 37,
     "metadata": {},
     "output_type": "execute_result"
    }
   ],
   "source": [
    "output_df.drop(\"smiles\", axis=1).head()"
   ]
  },
  {
   "cell_type": "markdown",
   "metadata": {},
   "source": [
    "### Write compound data to file\n",
    "\n",
    "We want to use this compound data set in the following talktorials, thus we save the data as `csv` file. \n",
    "Note that it is advisable to drop the molecule column (which only contains an image of the molecules) when saving the data."
   ]
  },
  {
   "cell_type": "code",
   "execution_count": 38,
   "metadata": {
    "scrolled": true
   },
   "outputs": [],
   "source": [
    "output_df.drop(\"ROMol\", axis=1).to_csv(\"../data/T1/EGFR_compounds.csv\")"
   ]
  },
  {
   "cell_type": "markdown",
   "metadata": {},
   "source": [
    "## Discussion"
   ]
  },
  {
   "cell_type": "markdown",
   "metadata": {},
   "source": [
    "In this tutorial, we collected bioactivity data for our target of interest from the ChEMBL database. \n",
    "We filtered the data set in order to only contain molecules with measured IC50 or pIC50 bioactivity values. \n",
    "\n",
    "Be aware that ChEMBL data originates from various sources. Compound data has been generated in different labs by different people all over the world. Therefore, we have to be cautious with the predictions we make using this data set. It is always important to consider the source of the data and consistency of data production assays when interpreting the results and determining how much confidence we have in our predictions.\n",
    "\n",
    "In the next tutorials, we will filter our acquired data by Lipinski's rule of five and by unwanted substructures. Another important step would be to clean the data and remove duplicates. As this is not shown in any of our talktorials (yet), we would like to refer to the  [`standardiser` library](https://github.com/flatkinson/standardiser) or [MolVS](https://molvs.readthedocs.io/en/latest/) as useful tools for this task."
   ]
  },
  {
   "cell_type": "markdown",
   "metadata": {},
   "source": [
    "## Quiz"
   ]
  },
  {
   "cell_type": "markdown",
   "metadata": {},
   "source": [
    "* We have downloaded in this talktorial molecules and bioactivity data from ChEMBL. What else is the ChEMBL database useful for?\n",
    "* What is the difference between IC50 and EC50?\n",
    "* What can we use the data extracted from ChEMBL for?"
   ]
  }
 ],
 "metadata": {
  "kernelspec": {
   "display_name": "teachopencadd",
   "language": "python",
   "name": "teachopencadd"
  },
  "language_info": {
   "codemirror_mode": {
    "name": "ipython",
    "version": 3
   },
   "file_extension": ".py",
   "mimetype": "text/x-python",
   "name": "python",
   "nbconvert_exporter": "python",
   "pygments_lexer": "ipython3",
   "version": "3.6.7"
  }
 },
 "nbformat": 4,
 "nbformat_minor": 2
}
