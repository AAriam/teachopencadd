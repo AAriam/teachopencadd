{
 "cells": [
  {
   "cell_type": "markdown",
   "metadata": {},
   "source": [
    "# Talktorial 10\n",
    "\n",
    "# Binding site similarity and off-target prediction\n",
    "\n",
    "#### Developed in the CADD seminars 2017 and 2018, AG Volkamer, Charité/FU Berlin \n",
    "\n",
    "Angelika Szengel, Marvis Sydow and Dominique Sydow"
   ]
  },
  {
   "cell_type": "markdown",
   "metadata": {},
   "source": [
    "**Note**: Please run this notebook cell by cell. Running all cells in one is possible also, however, a few PyMol images might not turn out as intended."
   ]
  },
  {
   "cell_type": "markdown",
   "metadata": {},
   "source": [
    "## Aim of this talktorial\n",
    "\n",
    "In this talktorial, we use the structural similarity of whole proteins and binding sites to predict off-targets, i.e. proteins that are not intended targets of a drug, which may lead to unwanted side effects or enable desired alternate applications of a drug (drug repositioning).\n",
    "We discuss the main steps for binding site comparison and implement a basic method, i.e. the geometrical variation between structures (the root mean square deviation of two structures).\n",
    "\n",
    "## Learning goals\n",
    "\n",
    "### Theory\n",
    "\n",
    "* Off-target proteins\n",
    "* Computational off-target prediction: binding site comparison\n",
    "* Pairwise RMSD as simple measure for similarity\n",
    "* Imatinib, a tyrosine kinase inhibitor\n",
    "\n",
    "### Practical\n",
    "\n",
    "* Load and visualize the ligand of interest (Imatinib/STI)\n",
    "* Get all protein-STI complexes from the PDB\n",
    "  * Query the PDB\n",
    "  * Filter the PDB data set\n",
    "  * Save the filtered PDB IDs\n",
    "* Visualize the PDB structures\n",
    "* Align the PDB structures (whole protein)\n",
    "* Get pairwise RMSD (whole protein)\n",
    "* Align the PDB structures (binding site)\n",
    "* Get pairwise RMSD (binding site)\n",
    "\n",
    "\n",
    "## References\n",
    "\n",
    "Binding site comparison: \n",
    "\n",
    "* Binding site comparison reviews: \n",
    "([<i>Curr. Comput. Aided Drug Des. </i> (2008), <b>4</b>, 209-20](https://www.eurekaselect.com/67606/article/how-measure-similarity-between-protein-ligand-binding-sites)) \n",
    "and \n",
    "([<i>J. Med. Chem. </i> (2016), <b>9</b>, 4121-51](https://pubs.acs.org/doi/10.1021/acs.jmedchem.6b00078))\n",
    "* Documentation on PyMol `align` command \n",
    "([PyMolWiki: `align`](https://pymolwiki.org/index.php/Align))\n",
    "* Wikipedia article on root mean square deviation (RMSD) \n",
    "([Wikipedia: RMSD](https://en.wikipedia.org/wiki/Root-mean-square_deviation_of_atomic_positions)) and structural superposition ([Wikipedia: structural superposition](https://en.wikipedia.org/wiki/Structural_alignment))\n",
    "* Structural superposition ([Book chapter: Algorithms, Applications, and Challenges of Protein Structure Alignment in *Advances in Protein Chemistry and Structural Biology* (2014), **94**, 121-75](https://www.sciencedirect.com/science/article/pii/B9780128001684000056?via%3Dihub))\n",
    "\n",
    "Imatinib:  \n",
    "\n",
    "* Review on Imatinib \n",
    "([<i>Nat. Rev. Clin. Oncol.</i> (2016), <b>13</b>, 431-46](https://www.nature.com/articles/nrclinonc.2016.41))\n",
    "* Promiscuity of imatinib \n",
    "([<i>J. Biol.</i> (2009), <b>8</b>, 10.1186/jbiol134](https://www.ncbi.nlm.nih.gov/pmc/articles/PMC2689438/))\n",
    "* ChEMBL information on Imatinib \n",
    "([ChEMBL: Imatinib](https://www.ebi.ac.uk/chembl/compound/inspect/CHEMBL941))\n",
    "* PDB information on Imatinib \n",
    "([PDB: STI](https://www3.rcsb.org/ligand/STI))\n",
    "* Side effects of Imatinib\n",
    "([Drugs.com: Imatinib](https://www.drugs.com/cdi/imatinib.html))\n",
    "* Side effects of Imatinib\n",
    " ([<i>BMC Struct. Biol.</i> (2009), <b>9</b>, 10.1186/1472-6807-9-7](https://bmcstructbiol.biomedcentral.com/articles/10.1186/1472-6807-9-7))"
   ]
  },
  {
   "cell_type": "markdown",
   "metadata": {},
   "source": [
    "## Theory\n",
    "\n",
    "### Off-target proteins\n",
    "\n",
    "An off-target can be any protein which interacts with a drug or (one of) its metabolite(s) without being the designated target protein. \n",
    "The molecular reaction caused by the off-target can lead to unwanted side effects, ranging from a rather harmless to extremely harmful impact. \n",
    "Off-targets mainly occur because on- and off-targets share similar structural motifs with each other in their binding site and therefore can bind similar ligands. \n",
    "\n",
    "### Computational off-target prediction: binding site comparison\n",
    "\n",
    "Computation-aided prediction of potential off-targets is aimed at minimizing the risk of developing potentially dangerous substances for medical treatment.\n",
    "There are several algorithmic approaches to assess binding site similarity but they always consist of three main steps:\n",
    "\n",
    "1. **Binding site encoding**: binding sites are encoded using different descriptor techniques and stored in a target database.\n",
    "2. **Binding site comparison**: a query binding site is compared with the target database, using different similarity measures.\n",
    "3. **Target ranking**: targets are ranked based on a suitable scoring approach.\n",
    "\n",
    "For detailed information on different similarity measures and existing tools, we refer to two excellent reviews on binding site comparison ([<i>Curr. Comput. Aided Drug Des. </i> (2008), <b>4</b>, 209-20](https://www.eurekaselect.com/67606/article/how-measure-similarity-between-protein-ligand-binding-sites) and [<i>J. Med. Chem. </i> (2016), <b>9</b>, 4121-51](https://pubs.acs.org/doi/10.1021/acs.jmedchem.6b00078)).\n",
    "\n",
    "<img src=\"images/binding_site_comparison_steps.png\" align=\"above\" alt=\"Image cannot be shown\" width=\"700\">\n",
    "<div align=\"center\"> Figure 1: Main steps of binding site comparison methods (figure by Dominique Sydow).</div>\n",
    "\n",
    "### Pairwise RMSD as simple measure for similarity\n",
    "\n",
    "A simple and straightforward method for scoring the similarity is to use the calculated root mean square deviation (RMSD), which is the square root of the mean of the square of the distances between the atoms of two aligned structures ([Wikipedia: RMSD](https://en.wikipedia.org/wiki/Root-mean-square_deviation_of_atomic_positions)). \n",
    "\n",
    "\n",
    "In order to find the respective atoms that are compared between two structures, they need to be aligned first based on sequence-based or sequence-independent alignment algorithms ([Book chapter: Algorithms, Applications, and Challenges of Protein Structure Alignment in *Advances in Protein Chemistry and Structural Biology* (2014), **94**, 121-75](https://www.sciencedirect.com/science/article/pii/B9780128001684000056?via%3Dihub)).\n",
    "\n",
    "\n",
    "\n",
    "\n",
    "### Imatinib, a tyrosine kinase inhibitor\n",
    "\n",
    "Kinases transfer a phosphate group from ATP to proteins, and thereby regulate various cellular processes such as signal transduction, metabolism, and protein regulation.\n",
    "If these kinases are constitutively active (due to genomic mutations), they can distort regulation processes and cause cancer.\n",
    "An example for cancer treatment is Imatinib ([<i>Nat. Rev. Clin. Oncol.</i> (2016), <b>13</b>, 431-46](https://www.nature.com/articles/nrclinonc.2016.41)), a small molecule tyrosine kinase inhibitor used to treat cancer, more specifically chronic myeloid leukaemia (CML) and gastrointestinal stromal tumour (GIST). \n",
    "\n",
    "Imatinib was shown to be not entirely specific and to target tyrosine kinases other than its main target. This was used for drug repositioning, i.e. Imatinib was approved for alternate cancer types, ([<i>J. Biol.</i> (2009), <b>8</b>, 10.1186/jbiol134](https://www.ncbi.nlm.nih.gov/pmc/articles/PMC2689438/)), however can also show unwanted side effects such as signs of an allergic reaction, infection, bleeding, or headache ([Drugs.com: Imatinib](https://www.drugs.com/cdi/imatinib.html))."
   ]
  },
  {
   "cell_type": "markdown",
   "metadata": {},
   "source": [
    "## Practical\n",
    "\n",
    "In the following, we will fetch and filter PDB structures that bind Imatinib. We will investigate the structure similarity of Imatinib-binding proteins (those with a solved protein structure). \n",
    "The similarity measure used is a pairwise RMSD calculation (as a simple similarity measure), in order to show that this simple method can be used as an initial test for potential off-targets."
   ]
  },
  {
   "cell_type": "code",
   "execution_count": null,
   "metadata": {},
   "outputs": [],
   "source": [
    "import os\n",
    "import pprint\n",
    "import pickle\n",
    "import glob\n",
    "import time\n",
    "\n",
    "from rdkit import Chem\n",
    "from rdkit.Chem.Draw import IPythonConsole\n",
    "from rdkit.Chem import Draw, AllChem\n",
    "#from rdkit.Chem import PyMol\n",
    "IPythonConsole.ipython_useSVG=True\n",
    "\n",
    "import nglview as nv\n",
    "\n",
    "import pandas as pd\n",
    "import numpy as np\n",
    "import random\n",
    "import matplotlib.pyplot as plt\n",
    "import seaborn as sns\n",
    "\n",
    "from pypdb import *\n",
    "from biopandas.pdb import PandasPdb"
   ]
  },
  {
   "cell_type": "markdown",
   "metadata": {},
   "source": [
    "### Load and visualize the ligand of interest (Imatinib/STI)\n",
    "\n",
    "The SMILES format for Imatinib (common abbreviation: STI) can be retrieved from e.g. the ChEMBL database \n",
    "([ChEMBL: Imatinib](https://www.ebi.ac.uk/chembl/compound/inspect/CHEMBL941)) \n",
    "or the PDB database by its common abbreviation STI \n",
    "([PDB: STI](https://www3.rcsb.org/ligand/STI)). \n",
    "We simply copy the string from the \"Isomeric SMILES\" entry of the Chemical Component Summary table, and load the ligand here by hand."
   ]
  },
  {
   "cell_type": "code",
   "execution_count": null,
   "metadata": {},
   "outputs": [],
   "source": [
    "sti = Chem.MolFromSmiles('CN1CCN(Cc2ccc(cc2)C(=O)Nc2ccc(C)c(Nc3nccc(n3)-c3cccnc3)c2)CC1')\n",
    "Draw.MolToImage(sti)"
   ]
  },
  {
   "cell_type": "markdown",
   "metadata": {
    "collapsed": true
   },
   "source": [
    "In order to inspect the 3D structure of STI, we use the open source tool PyMol (see introduction in talktorial T8). \n",
    "Before we can view STI in PyMol, we need to compute its 3D coordinates.\n",
    "\n",
    "First, we add hydrogen atoms to the molecule, which are not always explicitly denoted in the SMILES format.\n",
    "Second, we use the distance geometry to obtain initial coordinates for the molecule and optimize the structure of the molecule using the force field UFF (Universal Force Field)."
   ]
  },
  {
   "cell_type": "code",
   "execution_count": null,
   "metadata": {},
   "outputs": [],
   "source": [
    "sti_mol = Chem.AddHs(sti)\n",
    "sti_mol"
   ]
  },
  {
   "cell_type": "code",
   "execution_count": null,
   "metadata": {
    "scrolled": false
   },
   "outputs": [],
   "source": [
    "AllChem.EmbedMolecule(sti_mol)\n",
    "AllChem.UFFOptimizeMolecule(sti_mol)\n",
    "sti_mol"
   ]
  },
  {
   "cell_type": "markdown",
   "metadata": {},
   "source": [
    "Now, we are ready to roll in nglview! \n"
   ]
  },
  {
   "cell_type": "code",
   "execution_count": null,
   "metadata": {},
   "outputs": [],
   "source": [
    "nv.show_rdkit(sti_mol)"
   ]
  },
  {
   "cell_type": "markdown",
   "metadata": {},
   "source": [
    "### Get all protein-STI complexes from the PDB\n",
    "\n",
    "We can look up Imatinib/STI in open databases like the PDB and search for proteins which are reported targets. In the PDB, Imatinib is usually abbreviated by STI. We will search for both terms and merge the results in the following.\n",
    "\n",
    "#### Query the PDB\n",
    "\n",
    "First, we retrieve all proteins from the PDB that bind the ligand of interest (STI)."
   ]
  },
  {
   "cell_type": "code",
   "execution_count": null,
   "metadata": {},
   "outputs": [],
   "source": [
    "search_dict = make_query('STI')  # Query PDB for proteins bound to the ligand STI\n",
    "found_pbd_ids = do_search(search_dict)\n",
    "\n",
    "print(found_pbd_ids)\n",
    "print(\"\\nNumber of structures connected with STI in the PDB: \" + str(len(found_pbd_ids)))"
   ]
  },
  {
   "cell_type": "markdown",
   "metadata": {},
   "source": [
    "Note that the query results can differ depending on the term used for the query ligand (here: Imatinib). "
   ]
  },
  {
   "cell_type": "code",
   "execution_count": null,
   "metadata": {},
   "outputs": [],
   "source": [
    "search_dict2 = make_query('Imatinib')  # Query PDB for proteins bound to the ligand Imatinib\n",
    "found_pbd_ids2 = do_search(search_dict2)\n",
    "\n",
    "print(found_pbd_ids2)\n",
    "print(\"\\nNumber of structures connected with Imatinib in the PDB: \" + str(len(found_pbd_ids2)))"
   ]
  },
  {
   "cell_type": "markdown",
   "metadata": {},
   "source": [
    "We merge both query results and keep only unique entries."
   ]
  },
  {
   "cell_type": "code",
   "execution_count": null,
   "metadata": {},
   "outputs": [],
   "source": [
    "pdb_ids = list(set(found_pbd_ids + found_pbd_ids))\n",
    "print(\"Number of structures connected with STI/Imatinib in the PDB: \" + str(len(pdb_ids)))"
   ]
  },
  {
   "cell_type": "markdown",
   "metadata": {},
   "source": [
    "#### Filter the PDB data set\n",
    "\n",
    "We retrieve meta information on the PDB structures using the `pypdb` function `get_entity_info`, in order to filter the data set based on the following criteria:\n",
    "\n",
    "1. Filter by experimental method (`xray`).\n",
    "2. Filter by resolution (equal or lower than 3 &#8491;).\n",
    "3. Retain only PDB structures with a single chain (for simplicity).\n",
    "4. Retain only Imatinib-bound structures (e.g. some PDB structures are returned that are associated with Imatinib but not bound to it).\n",
    "5. Retain only PDB IDs deposited before 2019 (data set resource at the time of the talktorial publication).\n",
    "\n",
    "For more info on how to query the PDB see **talktorial 8**."
   ]
  },
  {
   "cell_type": "code",
   "execution_count": null,
   "metadata": {
    "scrolled": true
   },
   "outputs": [],
   "source": [
    "# Get meta information from the PDB\n",
    "entity_info = []\n",
    "for i in pdb_ids:\n",
    "    entity_info.append(get_entity_info(i))\n",
    "entity_info[0]"
   ]
  },
  {
   "cell_type": "code",
   "execution_count": null,
   "metadata": {},
   "outputs": [],
   "source": [
    "# Transform list to DataFrame\n",
    "entity_info_pd = pd.DataFrame(entity_info)\n",
    "a = [int(i.split(\" \")[5]) for i in entity_info_pd[\"release_date\"].tolist()]\n",
    "entity_info_pd.head()"
   ]
  },
  {
   "cell_type": "code",
   "execution_count": null,
   "metadata": {},
   "outputs": [],
   "source": [
    "# 1. Filter by experimental method\n",
    "entity_info_pd = entity_info_pd[entity_info_pd[\"Method\"] == {'@name': 'xray'}]\n",
    "\n",
    "# 2. Filter by resolution\n",
    "entity_info_pd = entity_info_pd[entity_info_pd[\"resolution\"].astype(float) <= 3.0]\n",
    "\n",
    "# 3. Retain only structures with a single chain (for simplicity)\n",
    "entity_info_pd = entity_info_pd[[type(i) == dict for i in entity_info_pd[\"Entity\"]]]\n",
    "entity_info_pd = entity_info_pd[[type(i[\"Chain\"]) == dict for i in entity_info_pd[\"Entity\"]]]\n",
    "\n",
    "pdb_ids = entity_info_pd[\"structureId\"].tolist()\n",
    "\n",
    "print(\"Number of structures after filtering: \" + str(len(pdb_ids)))"
   ]
  },
  {
   "cell_type": "markdown",
   "metadata": {},
   "source": [
    "In the following, we will use a package called `BioPandas`, which provides useful functions to load molecular structures of biological macromolecules (from PDB and MOL2 files) in pandas DataFrames. We will use the `PandasPdb` object to facilitate our work with PDB files."
   ]
  },
  {
   "cell_type": "code",
   "execution_count": null,
   "metadata": {},
   "outputs": [],
   "source": [
    "# 4. Retain only Imatinib-bound structures\n",
    "\n",
    "def check_if_ligand_present(pdb_id, ligand_name):\n",
    "    ppdb = PandasPdb().fetch_pdb(pdb_id)  # Fetch PDB (atom info, coordinates)\n",
    "    return sum(ppdb.df[\"HETATM\"][\"residue_name\"] == ligand_name) > 0  # Check for existence of STI entries\n",
    "\n",
    "entity_info_pd = entity_info_pd[[check_if_ligand_present(pdb_id, \"STI\") for pdb_id in pdb_ids]]  # Apply function\n",
    "\n",
    "pdb_ids = entity_info_pd[\"structureId\"].tolist()\n",
    "\n",
    "print(\"Number of structures after filtering: \" + str(len(pdb_ids)))"
   ]
  },
  {
   "cell_type": "code",
   "execution_count": null,
   "metadata": {},
   "outputs": [],
   "source": [
    "# 5. Retain only PDB IDs deposited before 2019\n",
    "\n",
    "entity_info_pd = entity_info_pd[[int(i.split()[5]) < 2019 for i in entity_info_pd[\"release_date\"].tolist()]]\n",
    "\n",
    "pdb_ids = entity_info_pd[\"structureId\"].tolist()\n",
    "\n",
    "print(\"Number of structures after filtering: \" + str(len(pdb_ids)))"
   ]
  },
  {
   "cell_type": "code",
   "execution_count": null,
   "metadata": {},
   "outputs": [],
   "source": [
    "# 6. After manual visual inspection remove 3GVU (contains 2x STI: not feasable for automatic workflow below)\n",
    "pdb_ids.remove(\"3GVU\")"
   ]
  },
  {
   "cell_type": "code",
   "execution_count": null,
   "metadata": {
    "scrolled": true
   },
   "outputs": [],
   "source": [
    "pdb_ids\n",
    "#random.shuffle(pdb_ids)  # In case you would like to change the order of IDs"
   ]
  },
  {
   "cell_type": "markdown",
   "metadata": {},
   "source": [
    "#### Save the filtered PDB IDs\n",
    "\n",
    "We save the PDB IDs of the filtered data set for further analysis (we will use PyMol python scripts later on that will process PDB IDs according to this file)."
   ]
  },
  {
   "cell_type": "code",
   "execution_count": null,
   "metadata": {},
   "outputs": [],
   "source": [
    "pickle.dump(pdb_ids, open(\"../data/T10/pdb_ids.p\", \"wb\"))"
   ]
  },
  {
   "cell_type": "markdown",
   "metadata": {},
   "source": [
    "### Visualize the PDB structures\n",
    "\n",
    "First, we load all structures to PyMol for visual inspection of the 3D structure of the protein data set. \n",
    "\n",
    "Besides the visualization here in this Jupyter notebook in form of fixed images of a PyMol frame, it is advised to also view and interact with the structures in 3D directly within the PyMol application, which should be opened and manipulated in parallel to this talktorial. "
   ]
  },
  {
   "cell_type": "code",
   "execution_count": null,
   "metadata": {},
   "outputs": [],
   "source": [
    "pdb_ids"
   ]
  },
  {
   "cell_type": "code",
   "execution_count": null,
   "metadata": {},
   "outputs": [],
   "source": [
    "w = nv.NGLWidget()\n",
    "for pdb_id in pdb_ids:\n",
    "    w.add_pdbid(pdb_id)\n",
    "w"
   ]
  },
  {
   "cell_type": "markdown",
   "metadata": {},
   "source": [
    "Though this image is beautifully colorful and curly, it is not informative yet. We align the structures to each other in the next step."
   ]
  },
  {
   "cell_type": "markdown",
   "metadata": {},
   "source": [
    "### Align the PDB structures (whole protein)\n",
    "\n",
    "PyMol offers different alignment methods suitable for different levels of sequence and structural similarity:\n",
    "\n",
    "* The [`super`](https://pymolwiki.org/index.php/Super) command is preferred for proteins with *decent structural similarity* (sequence-independent).\n",
    "* The [`align`](https://pymolwiki.org/index.php/Align) command is preferred for proteins with *decent sequence similarity* (sequence-dependent). \n",
    "* The [`cealign`](https://pymolwiki.org/index.php/Cealign) command is very robust for proteins with *little to no sequence similarity* (twilight zone).\n",
    "\n",
    "In this talktorial, we choose the `align` command to superimpose the structures (based on sequence) by minimizing their RMSD. \n",
    "\n",
    "Note: This approach biases the analysis towards structures with similar sequences (the `align` command perform better for protein pairs with decent sequence similarity). For some comparisons with lower sequence similarity the `super` or `cealign` command could be a better choice. For an automated workflow (where we do not know the sequence or structural similarity of protein pairs) a solution could be to calculate the RMSD based on all three measures and retain the best for further analysis.\n",
    "\n",
    "First, we show the alignment of all structures to the first structure in the list `pdb_ids`."
   ]
  },
  {
   "cell_type": "code",
   "execution_count": null,
   "metadata": {},
   "outputs": [],
   "source": [
    "from biotite import sequence\n",
    "from biotite.sequence import align\n",
    "from MDAnalysis.analysis import align as mda_align"
   ]
  },
  {
   "cell_type": "code",
   "execution_count": null,
   "metadata": {},
   "outputs": [],
   "source": [
    "def get_sequence(protein):\n",
    "    # protein - mda.AtomGroup\n",
    "    # return string representation of protein\n",
    "    seq = protein.residues.sequence()\n",
    "    return str(seq.seq)\n",
    "\n",
    "\n",
    "def align_sequences(s1, s2):\n",
    "    # s1, s2 - string of sequence\n",
    "    # returns biotite.Alignment (first/best)\n",
    "    alignments = align.align_optimal(sequence.ProteinSequence(s1),\n",
    "                                     sequence.ProteinSequence(s2),\n",
    "                                     align.SubstitutionMatrix.std_protein_matrix(),\n",
    "                                     gap_penalty=(-10, -1), terminal_penalty=True,\n",
    "                                    )\n",
    "    return alignments[0]\n",
    "\n",
    "\n",
    "def get_aligned(ref, mobile):\n",
    "    # ref, mobile - mda.AtomGroup\n",
    "    # returns filtered versions of ref & mobile that are now sequence aligned\n",
    "    s1, s2 = get_sequence(ref), get_sequence(mobile)\n",
    "    a = align_sequences(s1, s2)\n",
    "    # indices of residue alignment\n",
    "    trace = a.trace\n",
    "    # grab only rows where sequences are aligned\n",
    "    trace = trace[~(trace == -1).any(axis=1)]\n",
    "    \n",
    "    aref = ref.residues[trace[:, 0]]\n",
    "    amob = mobile.residues[trace[:, 1]]\n",
    "    \n",
    "    return aref.atoms, amob.atoms\n",
    "\n",
    "\n",
    "def align_protein(ref, mobile):\n",
    "    # sequence align then shift mobile to align to ref\n",
    "    aref, amob = get_aligned(ref, mobile)\n",
    "\n",
    "    \n",
    "    mda_align.alignto(amob, aref, strict=False, select='name CA')\n",
    "    \n",
    "    return aref, amob"
   ]
  },
  {
   "cell_type": "code",
   "execution_count": null,
   "metadata": {},
   "outputs": [],
   "source": [
    "# download pdbids (again) into MDAnalysis\n",
    "structures = [mda.fetch_mmtf(pdb_id) for pdb_id in pdb_ids[1:]]\n",
    "# strip solvent etc\n",
    "proteins = [s.select_atoms('protein') for s in structures]"
   ]
  },
  {
   "cell_type": "code",
   "execution_count": null,
   "metadata": {},
   "outputs": [],
   "source": [
    "# choose first protein as reference\n",
    "ref = proteins[0]\n",
    "# align all but first protein to first protein\n",
    "for mobile in proteins[1:]:\n",
    "    align_protein(ref, mobile)"
   ]
  },
  {
   "cell_type": "code",
   "execution_count": null,
   "metadata": {},
   "outputs": [],
   "source": [
    "view = nv.NGLWidget()\n",
    "\n",
    "for protein in proteins:\n",
    "    view.add_component(protein)\n",
    "view"
   ]
  },
  {
   "cell_type": "markdown",
   "metadata": {},
   "source": [
    "One of the proteins, i.e. 3FW1, is poorly aligned in comparison to the other proteins. We hide this protein, in order to visually show the well aligned proteins."
   ]
  },
  {
   "cell_type": "code",
   "execution_count": null,
   "metadata": {},
   "outputs": [],
   "source": [
    "view = nv.NGLWidget()\n",
    "\n",
    "for protein in proteins[1:]:\n",
    "    view.add_component(protein)\n",
    "view"
   ]
  },
  {
   "cell_type": "markdown",
   "metadata": {},
   "source": [
    "The structural alignment for many e.g. helices is high, whereas lower or poor for others."
   ]
  },
  {
   "cell_type": "code",
   "execution_count": null,
   "metadata": {},
   "outputs": [],
   "source": [
    "from MDAnalysis.analysis import rms\n",
    "\n",
    "def calc_rmsd(A, B):\n",
    "    # sequence alignment\n",
    "    A, B = get_aligned(A, B)\n",
    "    \n",
    "    # select backbone\n",
    "    A = A.select_atoms('name CA')\n",
    "    B = B.select_atoms('name CA')\n",
    "    \n",
    "    A, B = mda_align.get_matching_atoms(A, B)\n",
    "    \n",
    "    return rms.rmsd(A.positions, B.positions, superposition=False)"
   ]
  },
  {
   "cell_type": "code",
   "execution_count": null,
   "metadata": {},
   "outputs": [],
   "source": [
    "rmsd_matrix = np.zeros((6, 6))\n",
    "\n",
    "for i, A in enumerate(proteins):\n",
    "    for j, B in enumerate(proteins):\n",
    "        rmsd_matrix[i, j] = calc_rmsd(A, B)"
   ]
  },
  {
   "cell_type": "code",
   "execution_count": null,
   "metadata": {},
   "outputs": [],
   "source": [
    "rmsd_matrix"
   ]
  },
  {
   "cell_type": "markdown",
   "metadata": {},
   "source": [
    "### Get pairwise RMSD (whole protein)\n",
    "\n",
    "Since we could not find a function to return the RMSD values from PyMol in this Jupyter notebook (which *is* possible within PyMol and within a PyMol python script), we call here a PyMol python script: the superposition and final RMSD refinement is performed for all protein pairs. The resulting RMSD values are saved for further analysis.\n",
    "\n",
    "First, we take a look at the python script for PyMol, which we will use for this task."
   ]
  },
  {
   "cell_type": "code",
   "execution_count": null,
   "metadata": {
    "scrolled": true
   },
   "outputs": [],
   "source": [
    "f = open(\"./pymol_scripts/pymol_align_proteins.py\")\n",
    "file_content = f.readlines()\n",
    "for i in file_content:\n",
    "    print(i, end=\"\")"
   ]
  },
  {
   "cell_type": "code",
   "execution_count": null,
   "metadata": {
    "scrolled": false
   },
   "outputs": [],
   "source": [
    "os.popen(\"python ./pymol_scripts/pymol_align_proteins.py\")"
   ]
  },
  {
   "cell_type": "markdown",
   "metadata": {},
   "source": [
    "This PyMol python script saves all pairwise RMSD results to a file, which we load now to the Jupyter notebook."
   ]
  },
  {
   "cell_type": "code",
   "execution_count": null,
   "metadata": {},
   "outputs": [],
   "source": [
    "align_df_proteins = pickle.load(open(\"../data/T10/align_df_proteins.p\", \"rb\"))"
   ]
  },
  {
   "cell_type": "markdown",
   "metadata": {},
   "source": [
    "`align_df_proteins` is a DataFrame and contains for each pairwise comparison the return values of the `align` command in PyMol, i.e. a tuple with 7 items:\n",
    "\n",
    "1. RMSD after refinement\n",
    "2. Number of aligned atoms after refinement\n",
    "3. Number of refinement cycles\n",
    "4. RMSD before refinement\n",
    "5. Number of aligned atoms before refinement\n",
    "6. Raw alignment score\n",
    "7. Number of residues aligned\n",
    "\n",
    "We familiarize ourselves with this data structure for an example protein pair:"
   ]
  },
  {
   "cell_type": "code",
   "execution_count": null,
   "metadata": {
    "scrolled": false
   },
   "outputs": [],
   "source": [
    "print(\"Structures in the data set:\")\n",
    "cols = align_df_proteins.columns\n",
    "rows = align_df_proteins.index\n",
    "print(cols)\n",
    "print(rows)\n",
    "\n",
    "example_col = cols[0]\n",
    "example_row = rows[2]\n",
    "print(\"\\nExample align return values for the {}-{} pair: \".format(example_col, example_row))\n",
    "print(align_df_proteins.loc[example_col, example_row])\n",
    "\n",
    "print(\"\\nRMSD value (in Angström) after refinement for the {}-{} pair: \".format(example_col, example_row))\n",
    "print(align_df_proteins.loc[example_col, example_row][0])"
   ]
  },
  {
   "cell_type": "markdown",
   "metadata": {},
   "source": [
    "Now, we extract the RMSD after refinement (or any other position of the `align` return value) for all pairs in form of a pandas DataFrame for further analysis. \n",
    "\n",
    "Therefore, we define a function that takes as input the `align` function return values for all pairs `pymol_align_results` and the position of the return value of interest `position`."
   ]
  },
  {
   "cell_type": "code",
   "execution_count": null,
   "metadata": {},
   "outputs": [],
   "source": [
    "def extract_align_info(align_df, position):\n",
    "    if position in [0, 3, 5]:\n",
    "        return align_df.applymap(lambda x: np.float(x[position]))\n",
    "    if position in [1, 2, 4, 6]:\n",
    "        return align_df.applymap(lambda x: np.int(x[position]))\n",
    "    else:\n",
    "        print(\"Position not available.\")"
   ]
  },
  {
   "cell_type": "markdown",
   "metadata": {},
   "source": [
    "For example, we can check the number of aligned residues per protein pair (last position of the `align` return value)."
   ]
  },
  {
   "cell_type": "code",
   "execution_count": null,
   "metadata": {},
   "outputs": [],
   "source": [
    "extract_align_info(align_df_proteins, 6)"
   ]
  },
  {
   "cell_type": "markdown",
   "metadata": {},
   "source": [
    "Here, we can see that for most protein pairs a large proportion of their residues could be aligned (EGFR sequence lengths range here from about 270 to 350). However, 3FW1 shows only low sequence alignment."
   ]
  },
  {
   "cell_type": "markdown",
   "metadata": {},
   "source": [
    "FYI: You can check the sequence alignment of all pairs here: `../data/T10/alignment/`. An example is shown below:"
   ]
  },
  {
   "cell_type": "code",
   "execution_count": null,
   "metadata": {
    "scrolled": true
   },
   "outputs": [],
   "source": [
    "example_alignment_path = glob.glob(\"../data/T10/alignment/*\")[3]\n",
    "f = open(example_alignment_path)\n",
    "file_content = f.readlines()\n",
    "for i in file_content:\n",
    "    print(i, end=\"\")"
   ]
  },
  {
   "cell_type": "markdown",
   "metadata": {},
   "source": [
    "In the next step, we generate a DataFrame for the RMSD values after refinement (first position of the `align` return value)."
   ]
  },
  {
   "cell_type": "code",
   "execution_count": null,
   "metadata": {
    "scrolled": false
   },
   "outputs": [],
   "source": [
    "rmsd = extract_align_info(align_df_proteins, 0)\n",
    "rmsd"
   ]
  },
  {
   "cell_type": "markdown",
   "metadata": {},
   "source": [
    "We visualize the results of this RMSD refinement as heatmap."
   ]
  },
  {
   "cell_type": "code",
   "execution_count": null,
   "metadata": {},
   "outputs": [],
   "source": [
    "sns.heatmap(rmsd, linewidths=1, annot=True, cbar_kws={\"label\": \"RMSD ($\\AA$)\"}, cmap=\"Blues\")\n",
    "plt.show()"
   ]
  },
  {
   "cell_type": "markdown",
   "metadata": {},
   "source": [
    "We cluster the heatmap in order to see protein similarity based on the RMSD refinement."
   ]
  },
  {
   "cell_type": "code",
   "execution_count": null,
   "metadata": {},
   "outputs": [],
   "source": [
    "def plot_clustermap(rmsd, title):\n",
    "    g = sns.clustermap(rmsd, linewidths=1, annot=True, cbar_kws={\"label\": \"RMSD ($\\AA$)\"}, cmap=\"Blues\")\n",
    "    plt.setp(g.ax_heatmap.get_xticklabels(), rotation=0)\n",
    "    plt.setp(g.ax_heatmap.get_yticklabels(), rotation=0)\n",
    "    sns.set(font_scale=1.5)\n",
    "    \n",
    "    # Save plot - use bbox_inches to include text boxes:\n",
    "    # https://stackoverflow.com/questions/44642082/text-or-legend-cut-from-matplotlib-figure-on-savefig?rq=1\n",
    "    plt.savefig(\"../data/T10/bsc_{}.png\".format(title), dpi=300, bbox_inches=\"tight\", transparent=True)\n",
    "\n",
    "    plt.show()"
   ]
  },
  {
   "cell_type": "code",
   "execution_count": null,
   "metadata": {},
   "outputs": [],
   "source": [
    "plot_clustermap(rmsd, \"protein\")"
   ]
  },
  {
   "cell_type": "markdown",
   "metadata": {},
   "source": [
    "The RMSD comparison shows that one protein differs from the other proteins, i.e. 3FW1 (as already discussed based on the visual 3D inspection of the alignment and on the number of aligned residues).\n",
    "\n",
    "Proteins are classified by the chemical reactions they catalyze with so called EC (Enzyme Commission) numbers, which we will use here to check the enzymatic groups the proteins belong to."
   ]
  },
  {
   "cell_type": "code",
   "execution_count": null,
   "metadata": {
    "scrolled": true
   },
   "outputs": [],
   "source": [
    "# Get EC numbers for PDB IDs from PDB\n",
    "pdb_all_info = [get_all_info(pdb_id) for pdb_id in pdb_ids]\n",
    "ec_numbers = [i[\"polymer\"][\"enzClass\"][\"@ec\"] for i in pdb_all_info]\n",
    "target_set = {\"pdb_id\": pdb_ids,\n",
    "              \"ec_number\": ec_numbers}\n",
    "target_set = pd.DataFrame(target_set)\n",
    "target_set"
   ]
  },
  {
   "cell_type": "markdown",
   "metadata": {},
   "source": [
    "We can see that 3FW1, the human quinone reductase 2 (NQO2), belongs to EC class 1, i.e. oxidoreductases, whereas the other proteins belong to class 2.7, i.e. phosphorus transferases, which contain the tyrosine kinases (EC 2.7.10.2), the designated targets for Imatinib. 3FW1 is a reported off-target \"with potential implications for drug design and treatment of chronic myelogenous leukemia in patients\" ([<i>BMC Struct. Biol.</i> (2009), <b>9</b>, 10.1186/1472-6807-9-7](https://bmcstructbiol.biomedcentral.com/articles/10.1186/1472-6807-9-7)).\n",
    "\n"
   ]
  },
  {
   "cell_type": "markdown",
   "metadata": {},
   "source": [
    "### Align PDB structures (binding sites)"
   ]
  },
  {
   "cell_type": "markdown",
   "metadata": {},
   "source": [
    "So far we have used the whole protein structure for the alignment and RMSD refinement. However, the ligand binds only at the protein binding site and therefore the similarity of binding sites rather than of whole protein structures is a more putative basis for off-target prediction. \n",
    "\n",
    "We define a binding site of a protein by selecting all residues that are within 10 &#8491; of any ligand atom. These binding site residues are used for alignment and only their C&#593; atoms (protein backbone) are used for the RMSD refinement. Here, we show the alignment of all structures to the first structure in the list `pdb_ids`."
   ]
  },
  {
   "cell_type": "code",
   "execution_count": null,
   "metadata": {},
   "outputs": [],
   "source": [
    "# Reinitialize PyMol\n",
    "objPMV.server.do(\"reinitialize\")\n",
    "\n",
    "# Load proteins files\n",
    "for pdb_id in pdb_ids:\n",
    "    cmd = \"fetch \" + pdb_id\n",
    "    objPMV.server.do(cmd)\n",
    "\n",
    "# Show proteins as cartoon (may be necessary depending on your pymol version)\n",
    "#objPMV.server.do('cmd.show(\"cartoon\",\"all\")')\n",
    "\n",
    "# Hide objects\n",
    "objPMV.server.do(\"hide polar_contacts\")\n",
    "\n",
    "# Set background to white\n",
    "objPMV.server.do(\"bg_color white\")\n",
    "# Remove water and ions\n",
    "objPMV.server.do(\"remove solvent\")\n",
    "\n",
    "# Align binding sites\n",
    "immobile_pdb_id = pdb_ids[0]\n",
    "for mobile_pdb_id in pdb_ids[1:]:\n",
    "    # Select atoms within a certain radius of any atom of STI and extend selection to full residues\n",
    "    objPMV.server.do(\"select mobile_bs, byres \" + mobile_pdb_id + \" within 10 of (\" + mobile_pdb_id + \" and resn STI)\")\n",
    "    objPMV.server.do(\"select immobile_bs, byres \" + immobile_pdb_id + \" within 10 of (\" + immobile_pdb_id + \" and resn STI)\")\n",
    "    # Perform alignment\n",
    "    objPMV.server.do(\"align mobile_bs, immobile_bs\")\n",
    "\n",
    "# Center and zoom \n",
    "objPMV.server.do(\"center all\")\n",
    "objPMV.server.do(\"zoom all\")\n",
    "objPMV.server.do(\"ray 400,400\")\n",
    "\n",
    "# Display PyMol frame in Jupyter notebook\n",
    "objPMV.GetPNG(h=500)"
   ]
  },
  {
   "cell_type": "markdown",
   "metadata": {},
   "source": [
    "### Get pairwise RMDS (binding sites)"
   ]
  },
  {
   "cell_type": "markdown",
   "metadata": {},
   "source": [
    "As shown before for the alignment and RMSD refinement of the whole protein structure, we here run a PyMol python script that calculates the alignment and RMSD for all protein binding site pairs as describe above.\n",
    "\n",
    "The PyMol commands used are explained within the PyMol python script."
   ]
  },
  {
   "cell_type": "code",
   "execution_count": null,
   "metadata": {
    "scrolled": true
   },
   "outputs": [],
   "source": [
    "f = open(\"./pymol_scripts/pymol_align_bindingsites.py\")\n",
    "file_content = f.readlines()\n",
    "for i in file_content:\n",
    "    print(i, end=\"\")"
   ]
  },
  {
   "cell_type": "markdown",
   "metadata": {},
   "source": [
    "We run the PyMol python script via the terminal (ligand-protein radius as input for binding site atom definition)."
   ]
  },
  {
   "cell_type": "code",
   "execution_count": null,
   "metadata": {},
   "outputs": [],
   "source": [
    "# Perform binding site comparison using the align function in PyMol\n",
    "os.popen(\"python ./pymol_scripts/pymol_align_bindingsites.py 10\")"
   ]
  },
  {
   "cell_type": "markdown",
   "metadata": {},
   "source": [
    "We load the `align` DataFrame for binding site comparisons."
   ]
  },
  {
   "cell_type": "code",
   "execution_count": null,
   "metadata": {
    "scrolled": true
   },
   "outputs": [],
   "source": [
    "align_df_bindingsites = pickle.load(open(\"../data/T10/align_df_bindingsites.p\", \"rb\"))"
   ]
  },
  {
   "cell_type": "markdown",
   "metadata": {},
   "source": [
    "We extract the RMSD values from that DataFrame."
   ]
  },
  {
   "cell_type": "code",
   "execution_count": null,
   "metadata": {},
   "outputs": [],
   "source": [
    "rmsd_bs = extract_align_info(align_df_bindingsites, 0)"
   ]
  },
  {
   "cell_type": "code",
   "execution_count": null,
   "metadata": {},
   "outputs": [],
   "source": [
    "extract_align_info(align_df_bindingsites, 6)"
   ]
  },
  {
   "cell_type": "markdown",
   "metadata": {},
   "source": [
    "We show the clustered heatmap for the RMSD results."
   ]
  },
  {
   "cell_type": "code",
   "execution_count": null,
   "metadata": {},
   "outputs": [],
   "source": [
    "# Show the pairwise RMSD values as clustered heatmap\n",
    "plot_clustermap(rmsd_bs, \"bs\")"
   ]
  },
  {
   "cell_type": "markdown",
   "metadata": {},
   "source": [
    "RMSD values of aligned binding sites shows a dissimilarity of 3FW1 (EC number 1.10.5.1) within the dataset (EC number 2.7) - visual inspection in PyMol shows that STI is binding to the surface of the protein. The pairs 1XBB-4CVS and 1XBB-3HEC also show dissimilarities, whereas the rest of the dataset shows low RMSD values.\n",
    "\n",
    "RMSD values as calculated here are dependend on the residue selection (binding site definition) and the quality of the a priori sequence alignment."
   ]
  },
  {
   "cell_type": "code",
   "execution_count": null,
   "metadata": {},
   "outputs": [],
   "source": [
    "# Clean up directory (remove PDB downloads and PyMol alignment files)\n",
    "os.popen(\"rm ./*.cif\")\n",
    "os.popen(\"rm ../data/T10/alignment/*.aln\")"
   ]
  },
  {
   "cell_type": "markdown",
   "metadata": {},
   "source": [
    "## Discussion\n",
    "\n",
    "In this talktorial, we have used sequence alignment and subsequent RMSD refinement of whole protein structures and binding sites to assess the similarity and dissimilarity of a set of Imatinib-binding proteins. \n",
    "However, off-target prediction for Imatinib requires to compare the binding site of an intended target of Imatinib (a tyrosine kinase) with a large database of resolved structures (PDB). \n",
    "Since this results in the comparison of sequences also with low similarity, more sophisticated methods should be invoked\n",
    "that use a sequence-independent alignment algorithm and that include the physico-chemical properties of the binding site in order to enable a more sophisticated search.\n",
    "\n",
    "## Quiz\n",
    "\n",
    "1. Explain the terms on- and off-targets of a drug.\n",
    "2. Explain why binding site similarity can be used to find off-targets to a query target.\n",
    "3. Discuss how useful the RMSD value of (i) whole proteins and (ii) protein binding sites is for off-target prediction.\n",
    "4. Think of alternate approaches for binding site information (how to encode a binding site for binding site comparison?)."
   ]
  }
 ],
 "metadata": {
  "anaconda-cloud": {},
  "kernelspec": {
   "display_name": "Python 3",
   "language": "python",
   "name": "python3"
  },
  "language_info": {
   "codemirror_mode": {
    "name": "ipython",
    "version": 3
   },
   "file_extension": ".py",
   "mimetype": "text/x-python",
   "name": "python",
   "nbconvert_exporter": "python",
   "pygments_lexer": "ipython3",
   "version": "3.6.7"
  }
 },
 "nbformat": 4,
 "nbformat_minor": 2
}
