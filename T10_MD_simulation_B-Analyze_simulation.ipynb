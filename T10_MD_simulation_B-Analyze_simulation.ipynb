{
 "cells": [
  {
   "cell_type": "markdown",
   "metadata": {},
   "source": [
    "# Talktorial 10\n",
    "\n",
    "# MD Simulation B - Analyze Simulation\n",
    "\n",
    "#### CADD Seminar 2020, AG Volkamer, Charité/FU Berlin \n",
    "\n",
    "#### Mareike Leja\n",
    "\n",
    "Berlin, 21.05.2020"
   ]
  },
  {
   "cell_type": "markdown",
   "metadata": {},
   "source": [
    "# Learning goals\n",
    "\n",
    "The aim of this notebook is to introduce methods for the analysis of MD Simulations. We are working with the results of the MD Simulation performed in T09 on the SARS-CoV-2 Main Protease and its inhibitor X77.\n",
    "The introduced methods include animated visualization, RMSD calculation and hydrogenbond analysis.\n",
    "\n",
    "## Theory\n",
    "\n",
    "* MD Simulations in the drug discovery process\n",
    "* Analyzing MD Simulations\n",
    "    * RMSD\n",
    "    * Hydrogen Bonds Analysis\n",
    "\n",
    "## Practical\n",
    "\n",
    "* Load the MD Simulation\n",
    "* Visualize the Simulation with NGL View\n",
    "* Analysis of the MD Simulation\n",
    "    * Plot RMSD of Protein and Ligand\n",
    "    * Plot Hydrogen Bond Distances between Protein and Ligand\n",
    "\n",
    "\n",
    "# References\n",
    "\n",
    "Theoretical Background:\n",
    "\n",
    "* Molecular Dynamics:\n",
    "    * __[Role of Molecular Dynamics and Related Methods in Drug Discovery](https://pubmed.ncbi.nlm.nih.gov/26807648/)__\n",
    "    * __[Force Fields](https://pubs.acs.org/doi/10.1021/acs.jcim.8b00042)__\n",
    "* RMSD\n",
    "    * __[Wikipedia](https://en.wikipedia.org/wiki/Root-mean-square_deviation)__\n",
    "* Hydrogen - Bonds\n",
    "    * __[Optimized Hydrophobic Interactions and Hydrogen Bonding at the Target-Ligand Interface Leads the Pathways of Drug-Designing](https://www.ncbi.nlm.nih.gov/pmc/articles/PMC2922327/)__\n",
    "    * __[The Role of Hydrogen-Bonds in Drug Binding](https://pubmed.ncbi.nlm.nih.gov/2726808/)__\n",
    "\n",
    "\n",
    "Special Packages used:\n",
    "\n",
    "* __[MDAnalysis](https://www.mdanalysis.org/)__\n",
    "* __[NGL View](https://github.com/arose/nglview)__\n",
    "\n",
    "# Theory\n",
    "\n",
    "## MD Simulations in the Drug Discovery Process\n",
    "\n",
    "During the past decade the importance of structure-based drug design was ever growing. Especially the development of better algorithms and faster architectures paved the way for Molecular Dynamics (MD) to becoming routine computational tools for drug discovery. \n",
    "\n",
    "The main advantage is the more accurate estimation of drug-target recognition and binding processes. An array of methods build on MD Simulations provide tools for most problems encountered during the challenging process of designing, selecting and optimizing new drug candidates.\n",
    "\n",
    "### MD Simulations vs Static Structures\n",
    "\n",
    "Static models also evaluate the affinity a drug candidate has to the target, but static calculations alone are not enough to to comprehensively characterize drug-target binding. The numerous interactions between ligand, target and surroundings cannot be captured solely by the enthalpy of the current equilibrium state of the system.\n",
    "\n",
    "Forcefield-based MD Simulations on the other hand fully account for structural flexibility and entropic effects. \n",
    "They allow for modeling of induced-fit bindings and conformational selection and can even be used to run unbiased simulations with unsupervised ligand-target binding.\n",
    "\n",
    "### Coupled Methods for Investigating Ligand Binding\n",
    "\n",
    "While being a straightforward way of simulating drug-binding events, unbiased MD is costly. Thus it is often coupled with so-called enhanced sampling methods to accelerate the process.\n",
    "\n",
    "One of these is the **Free energy perturbation (FEP)**, which computes the free energy difference when going from a state A to another state B.  It is used for studying binding energetics and is applied in the virtual screening of ligands during the drug discovery process. Furthermore, it is employed in lead optimization being especially good at predicting small modification, that will boost the ligand-binding affinity for the target. One successful example for this optimization is the design of the most potent non-nucleoside inhibitors of HIV-1 reverse transcriptase.\n",
    "\n",
    "Another technique for free-energy calculations is **Umbrella sampling (US)**. US enforces sampling along a collective variable (CV) by performing staged simulations with an energetic bias. The bias usually takes the form of a harmonic potential, hence the term \"umbrella\". The goal is to sample high-energy regions along the CV.\n",
    "The use in drug design is limited by the high computational cost.\n",
    "\n",
    "**Steered MD (SMD)**  on the other hand follows a different approach: it applies external forces to the system. Those forces are time-dependent and facilitate the unbinding of the ligand from the target.\n",
    "The SMD calculates the final force exerted on the system. The unbinding force profile can then be used to improve docking and discriminate active and inactive binders.\n",
    "\n",
    "Lastly, a broad family of enhanced sampling techniques is cumulated in the term of **Metadynamics-Based Methods**. Those aim to explore the free-energy landscapes of rare events. For this purpose a set of CVs is used, that approximate the true reaction coordinate of the event.\n",
    "Metdaynamics demonstrates a high ability to characterize binding and unbinding paths, to treat conformation flexibility,and to compute free-energy profiles and thus is able to accurately compute the entire physical path of protein−ligand binding and/or unbinding. Nevertheless, for calculations of relative free energy concerning a set of compounds in binding poses other methods like FEP are often more efficient.\n",
    "\n",
    "\n",
    "## Analyzing MD Simulations\n",
    "\n",
    "An MD Simulation is defined by a list of atoms and a file with trajectories, which describe the movement of the atoms for up to a few milliseconds. This allows for exploration of different aspects. \n",
    "\n",
    "### Visualization\n",
    "\n",
    "The MD Simulation can be used to create an animated 3D model of the molecules. These allow for observation of conformational changes, fluctuations and binding processes with the bare eye.\n",
    "\n",
    "![Model](images/model.gif)\n",
    "Fig. 1: Visualization of MD Simulation of AdK, [NGL View Example](https://github.com/arose/nglview/blob/master/examples/mdanalysis.md)\n",
    "\n",
    "### RMSD\n",
    "\n",
    "RMSD stands for Root-mean-square deviation of atomic positions and is a measure of the average distance between atoms. Particularly, the distance between two sets of coordinates is calculated. \n",
    "One use of RMSD Plots is to depict the relative movement of whole molecules or its domains during folding or docking processes. \n",
    "During the process the coordinates of the moving molecule are compared to the starting positions.\n",
    "RMSD can also be used to compare computed docking configurations to known (i.e. crystallographic) binding poses to validate the docking protocol.\n",
    "\n",
    "For two, usually superimposed, sets of coordinates v and w with n atoms the RMSD is defined as follows:\n",
    "\n",
    "$$RMSD(v,w) = \\frac{1}{n} \\sum_{i=1}^n \\|v_i - w_i\\|²$$\n",
    "\n",
    "For random movements of stable structures the root-mean-square fluctuation (RMSF) is used instead.\n",
    "\n",
    "\n",
    "### Hydrogen Bond Analysis\n",
    "\n",
    "Non-covalent hydrogen bonds are key-players in the bonding and stabilization of proteins and ligands. \n",
    "Analysis of hydrogen bonds in the computed binding can thus give valuable information about the stability of the structure.\n",
    "The strength of H-Bonds is determined by the angle and the distance between the donor and acceptor atoms. \n",
    "A small distance and an angle close to 180° are signs for a strong bond, while bigger distances and smaller angles point towards a weaker bond.\n",
    "![H-Bonds](images/CADD_Hbonds.png)\n",
    "Fig. 2: Hydrogen Bond Strength, *Mareike Leja, CADD Seminar 2020*\n",
    "\n",
    "For hydrogen bond detection in computational analysis, geometric criteria define which interactions are recorded as bonds: The distance between acceptor and hydrogen has to be less than or equal to a distance threshold and \n",
    "the angle between donor-hydrogen-acceptor has to be greater than or equal to an angle threshold.\n",
    "For example, the Python Package __[MD Analysis](https://www.mdanalysis.org/docs/documentation_pages/analysis/hbond_analysis.html)__, which we will use for analysis, sets the default maximum distance at 3Å and the minimum angle at 120°. "
   ]
  },
  {
   "cell_type": "markdown",
   "metadata": {},
   "source": [
    "# Practical\n",
    "\n",
    "\n",
    "In the following we will load a MD Simulation and analyze the ligand binding process. \n",
    "The MD Simulation we analyze was done in Project T09 with a SARS-CoV-2 main protease and inhibitor X77.\n",
    "We will visualize the simulation and then perform a RMSD calculation and hydrogen bond analysis. "
   ]
  },
  {
   "cell_type": "markdown",
   "metadata": {},
   "source": [
    "Required Packages: \n",
    "* MDAnalysis v.1.0.0\n",
    "* NGLView\n",
    "* Pandas\n",
    "* Matplotlib\n",
    "* Numpy\n",
    "\n",
    "The data can be downloaded from https://zenodo.org/record/3910753.\n",
    "\n",
    "Before we start we have to import the needed modules."
   ]
  },
  {
   "cell_type": "code",
   "execution_count": 1,
   "metadata": {},
   "outputs": [
    {
     "name": "stderr",
     "output_type": "stream",
     "text": [
      "/home/mika/miniconda3/envs/T10_ML/lib/python3.6/site-packages/MDAnalysis/analysis/hbonds/hbond_analysis.py:346: DeprecationWarning: This module is deprecated as of MDAnalysis version 1.0.It will be removed in MDAnalysis version 2.0Please use MDAnalysis.analysis.hydrogenbonds.hbond_analysis instead.\n",
      "  category=DeprecationWarning\n"
     ]
    },
    {
     "data": {
      "application/vnd.jupyter.widget-view+json": {
       "model_id": "f224394fd4034792ad34d1a330717e27",
       "version_major": 2,
       "version_minor": 0
      },
      "text/plain": [
       "_ColormakerRegistry()"
      ]
     },
     "metadata": {},
     "output_type": "display_data"
    }
   ],
   "source": [
    "import MDAnalysis as mda\n",
    "from MDAnalysis.analysis import rms\n",
    "from MDAnalysis.analysis import hbonds\n",
    "from MDAnalysis.analysis.hbonds import WaterBridgeAnalysis as WBA\n",
    "from MDAnalysis.analysis import diffusionmap, align\n",
    "from MDAnalysis.analysis.hydrogenbonds.hbond_analysis import HydrogenBondAnalysis as HBA\n",
    "import nglview as nv\n",
    "import matplotlib.pyplot as plt\n",
    "import pandas as pd\n",
    "import numpy as np"
   ]
  },
  {
   "cell_type": "markdown",
   "metadata": {},
   "source": [
    "We are aware of the deprecation warning. Unfortunately, the new modules are not compatible with our data, while the current one is working well. In the future these parts might get updated. Meanwhile, MDAnalysis should not be updated to v 2.0."
   ]
  },
  {
   "cell_type": "markdown",
   "metadata": {},
   "source": [
    "## Load and Visualize the Molecule\n",
    "\n",
    "As the first step we load the topology and the trajectory file to create a universe representing the simulation."
   ]
  },
  {
   "cell_type": "code",
   "execution_count": 2,
   "metadata": {},
   "outputs": [
    {
     "name": "stdout",
     "output_type": "stream",
     "text": [
      "<Universe with 64451 atoms>\n"
     ]
    }
   ],
   "source": [
    "u_old = mda.Universe(\"data/old_md/MD_system.pdb\", \"data/old_md/trajectory.dcd\")\n",
    "print(u_old)"
   ]
  },
  {
   "cell_type": "markdown",
   "metadata": {},
   "source": [
    "When we have the universe we can visualize it as a whole, including the animation.\n"
   ]
  },
  {
   "cell_type": "code",
   "execution_count": 3,
   "metadata": {},
   "outputs": [
    {
     "data": {
      "application/vnd.jupyter.widget-view+json": {
       "model_id": "42aa6b4646ba43d698dd90b2dc378630",
       "version_major": 2,
       "version_minor": 0
      },
      "text/plain": [
       "NGLWidget(max_frame=99)"
      ]
     },
     "metadata": {},
     "output_type": "display_data"
    }
   ],
   "source": [
    "view = nv.show_mdanalysis(u_old)\n",
    "view"
   ]
  },
  {
   "cell_type": "code",
   "execution_count": 4,
   "metadata": {},
   "outputs": [
    {
     "data": {
      "application/vnd.jupyter.widget-view+json": {
       "model_id": "a2312e197f7b45c1b9b0cc3a73180b27",
       "version_major": 2,
       "version_minor": 0
      },
      "text/plain": [
       "NGLWidget(max_frame=99)"
      ]
     },
     "metadata": {},
     "output_type": "display_data"
    }
   ],
   "source": [
    "u = mda.Universe(\"data/MD_system.pdb\", \"data/trajectory.dcd\")\n",
    "view = nv.show_mdanalysis(u)\n",
    "#view.add_representation('licorice', selection=\"water\")\n",
    "view"
   ]
  },
  {
   "cell_type": "markdown",
   "metadata": {},
   "source": [
    "## RMSD of Protein and Ligand\n",
    "\n",
    "Protein and ligand are clearly extinguishable in the animation. Both undergo some conformational changes during the binding process.\n",
    "In this part we will evaluate the relative movement using the RMSD.\n",
    "The MD Analysis framework allows for selection of atom groups with strings and has some built-in default strings as well, for example \"protein\", which selects all residues usually found in proteins.\n",
    "The ligand is best selected by its distinct residue name. In this case we know it is the inhibitor X77, but we could also find the name from either inspecting the topology file or hovering a ligand atom in the animation above. The atoms of our ligand are identified by the residue name \"X77\"."
   ]
  },
  {
   "cell_type": "markdown",
   "metadata": {},
   "source": [
    "### RMSD over time\n",
    "\n",
    "For plotting the RMSD easily we write a function that does the RMSD calculation for selected atomgroups from the universe. It returns a plotable Pandas Dataframe."
   ]
  },
  {
   "cell_type": "code",
   "execution_count": 5,
   "metadata": {},
   "outputs": [],
   "source": [
    "def rmsd_for_atomgroups(universe, selection1, selection2=None):\n",
    "    \"\"\" Calulate the RMSD for selected atomgroups.\n",
    "\n",
    "    Parameters\n",
    "    ----------\n",
    "    universe : MDAnalysis.core.universe.Universe\n",
    "    selection1: str\n",
    "        selection string for main atomgroup\n",
    "    selection2: list of str, optional\n",
    "        selection strings for secondary atomgroups\n",
    "\n",
    "    Returns\n",
    "    -------\n",
    "    rmsd_df : pandas.core.frame.DataFrame\n",
    "        DataFrame containing RMSD of the selections over time\n",
    "\n",
    "    \"\"\"\n",
    "    universe.trajectory[0]\n",
    "    ref = universe\n",
    "    rmsd_analysis = rms.RMSD(universe, ref,\n",
    "                             select=selection1, groupselections=selection2)\n",
    "    rmsd_analysis.run()\n",
    "    columns = [selection1, *selection2] if selection2 else [selection1]\n",
    "    rmsd_df = pd.DataFrame(rmsd_analysis.rmsd[:, 2:],\n",
    "                           columns=columns)\n",
    "    rmsd_df.index.name = \"frame\"\n",
    "    return rmsd_df"
   ]
  },
  {
   "cell_type": "markdown",
   "metadata": {},
   "source": [
    "Run the function to with selections for the whole protein, the protein backbone atoms and the ligand (residuename X77) to calculate the RMSD for the molecules during the interaction. During the calculation the molecule will be superimposed to the first frame along the backbone of the protein."
   ]
  },
  {
   "cell_type": "code",
   "execution_count": 6,
   "metadata": {},
   "outputs": [
    {
     "data": {
      "text/html": [
       "<div>\n",
       "<style scoped>\n",
       "    .dataframe tbody tr th:only-of-type {\n",
       "        vertical-align: middle;\n",
       "    }\n",
       "\n",
       "    .dataframe tbody tr th {\n",
       "        vertical-align: top;\n",
       "    }\n",
       "\n",
       "    .dataframe thead th {\n",
       "        text-align: right;\n",
       "    }\n",
       "</style>\n",
       "<table border=\"1\" class=\"dataframe\">\n",
       "  <thead>\n",
       "    <tr style=\"text-align: right;\">\n",
       "      <th></th>\n",
       "      <th>backbone</th>\n",
       "      <th>protein</th>\n",
       "      <th>resname X77</th>\n",
       "    </tr>\n",
       "    <tr>\n",
       "      <th>frame</th>\n",
       "      <th></th>\n",
       "      <th></th>\n",
       "      <th></th>\n",
       "    </tr>\n",
       "  </thead>\n",
       "  <tbody>\n",
       "    <tr>\n",
       "      <th>0</th>\n",
       "      <td>6.178103e-07</td>\n",
       "      <td>1.346847e-07</td>\n",
       "      <td>0.000000</td>\n",
       "    </tr>\n",
       "    <tr>\n",
       "      <th>1</th>\n",
       "      <td>6.870361e-01</td>\n",
       "      <td>9.787902e-01</td>\n",
       "      <td>1.187294</td>\n",
       "    </tr>\n",
       "    <tr>\n",
       "      <th>2</th>\n",
       "      <td>7.439429e-01</td>\n",
       "      <td>1.121612e+00</td>\n",
       "      <td>1.123575</td>\n",
       "    </tr>\n",
       "    <tr>\n",
       "      <th>3</th>\n",
       "      <td>9.447094e-01</td>\n",
       "      <td>1.267039e+00</td>\n",
       "      <td>1.590374</td>\n",
       "    </tr>\n",
       "    <tr>\n",
       "      <th>4</th>\n",
       "      <td>1.003815e+00</td>\n",
       "      <td>1.303400e+00</td>\n",
       "      <td>1.518330</td>\n",
       "    </tr>\n",
       "  </tbody>\n",
       "</table>\n",
       "</div>"
      ],
      "text/plain": [
       "           backbone       protein  resname X77\n",
       "frame                                         \n",
       "0      6.178103e-07  1.346847e-07     0.000000\n",
       "1      6.870361e-01  9.787902e-01     1.187294\n",
       "2      7.439429e-01  1.121612e+00     1.123575\n",
       "3      9.447094e-01  1.267039e+00     1.590374\n",
       "4      1.003815e+00  1.303400e+00     1.518330"
      ]
     },
     "execution_count": 6,
     "metadata": {},
     "output_type": "execute_result"
    }
   ],
   "source": [
    "rmsd = rmsd_for_atomgroups(u, \"backbone\", [\"protein\", \"resname X77\"])\n",
    "rmsd.head()"
   ]
  },
  {
   "cell_type": "markdown",
   "metadata": {},
   "source": [
    "If needed, we can change the column names to be more concise. \n",
    "Then we plot the results."
   ]
  },
  {
   "cell_type": "code",
   "execution_count": 7,
   "metadata": {},
   "outputs": [
    {
     "data": {
      "image/png": "[encoded data removed]",
      "text/plain": [
       "<Figure size 432x288 with 1 Axes>"
      ]
     },
     "metadata": {
      "needs_background": "light"
     },
     "output_type": "display_data"
    }
   ],
   "source": [
    "rmsd.columns = [\"Backbone\", \"Protein\", \"Ligand\"]\n",
    "rmsd.plot(title=\"RMSD of protein and ligand\")\n",
    "plt.ylabel(\"RMSD (Å)\");"
   ]
  },
  {
   "cell_type": "markdown",
   "metadata": {},
   "source": [
    "From the plot we can see that the ligand moves around more. The distance to the original position first gets bigger and then shrinks again. There might be some directional movement involved.\n",
    "The protein however is superimposed along the backbone and the RMSD shows slight conformational changes during the reaction. The sidechains included in the whole protein lead to more movement when compared to the protein backbone."
   ]
  },
  {
   "cell_type": "markdown",
   "metadata": {},
   "source": [
    "### RMSD between frames"
   ]
  },
  {
   "cell_type": "markdown",
   "metadata": {},
   "source": [
    "The plot before showed the distance at the given time compared to the initial state.\n",
    "Now we calculate the differences between the frames and visualize them in a heatmap."
   ]
  },
  {
   "cell_type": "code",
   "execution_count": 8,
   "metadata": {},
   "outputs": [],
   "source": [
    "def RMSD_dist_frames(u, selection_string):\n",
    "    \"\"\" Calculate the distance between frames using RMSD.\n",
    "\n",
    "    Parameters\n",
    "    ----------\n",
    "    universe : MDAnalysis.core.universe.Universe\n",
    "    selection1: str\n",
    "        selection string for the atomgroup to be investigated\n",
    "\n",
    "    Returns\n",
    "    -------\n",
    "    array\n",
    "        distance values\n",
    "\n",
    "    \"\"\"\n",
    "    align.AlignTraj(u, u, select=selection_string,\n",
    "                    in_memory=True).run()\n",
    "    matrix = diffusionmap.DistanceMatrix(u, select=selection_string).run()\n",
    "\n",
    "    return matrix.dist_matrix"
   ]
  },
  {
   "cell_type": "markdown",
   "metadata": {},
   "source": [
    "First, we calculate the distance matrices for protein and ligand using the function above.\n",
    "Then we plot them side by side as heatmaps."
   ]
  },
  {
   "cell_type": "code",
   "execution_count": 9,
   "metadata": {},
   "outputs": [],
   "source": [
    "dist_matrix_p = RMSD_dist_frames(u, \"protein\")\n",
    "dist_matrix_np = RMSD_dist_frames(u, \"resname X77\")"
   ]
  },
  {
   "cell_type": "markdown",
   "metadata": {},
   "source": [
    "In order to achieve comparable heatmaps it is important to set minimal and maximal values to the same values in both plots. We set the minimal value to 0 and derive the upper bound from the distance matrices."
   ]
  },
  {
   "cell_type": "code",
   "execution_count": 10,
   "metadata": {},
   "outputs": [
    {
     "data": {
      "text/plain": [
       "<matplotlib.colorbar.Colorbar at 0x7f84c0578550>"
      ]
     },
     "execution_count": 10,
     "metadata": {},
     "output_type": "execute_result"
    },
    {
     "data": {
      "image/png": "[encoded data removed]",
      "text/plain": [
       "<Figure size 432x288 with 3 Axes>"
      ]
     },
     "metadata": {
      "needs_background": "light"
     },
     "output_type": "display_data"
    }
   ],
   "source": [
    "fig, ax = plt.subplots(1, 2)\n",
    "fig.suptitle(\"RMSD between the frames\")\n",
    "max_dist = max(np.amax(dist_matrix_np), np.amax(dist_matrix_p))\n",
    "img1 = ax[0].imshow(dist_matrix_p, cmap=\"viridis\", vmin=0, vmax=max_dist)\n",
    "ax[0].title.set_text(\"protein\")\n",
    "ax[0].set_xlabel(\"frames\")\n",
    "ax[0].set_ylabel(\"frames\")\n",
    "img2 = ax[1].imshow(dist_matrix_np, cmap=\"viridis\", vmin=0, vmax=max_dist)\n",
    "ax[1].title.set_text(\"Ligand\")\n",
    "ax[1].set_xlabel(\"frames\")\n",
    "fig.colorbar(img1, ax=ax, orientation=\"horizontal\", fraction=.1, label=\"RMSD (Å)\")"
   ]
  },
  {
   "cell_type": "markdown",
   "metadata": {},
   "source": [
    "From the heatmaps we can conclude that the protein moves constantly and evenly between the states. The ligand, however, reaches similar conformations repeatedly. The conformation around frame 20 and between frames 60 - 80 are the most different from the others. This corresponds to the peaks visible in the graph above.\n",
    "The conformation at frame 20 is not similar to the conformation at frames 60 - 80."
   ]
  },
  {
   "cell_type": "markdown",
   "metadata": {},
   "source": [
    "## Hydrogen Bond analysis\n",
    "\n",
    "Now we will look at the interaction between protein and ligand. Therefore we want to analyze the hydrogen bonds that form during the process."
   ]
  },
  {
   "cell_type": "markdown",
   "metadata": {},
   "source": [
    "MD Analysis is able to guess possible acceptors and donors for proteins but not the ligand.\n",
    "Thus we have to determine them manually. To do this we visualize the ligand and note down any O, N or S atoms that may serve as donor or acceptor. We can get their respective ID by hovering over the atom in the image."
   ]
  },
  {
   "cell_type": "code",
   "execution_count": 11,
   "metadata": {},
   "outputs": [
    {
     "data": {
      "application/vnd.jupyter.widget-view+json": {
       "model_id": "e2312e01287640318a82a82027a4098e",
       "version_major": 2,
       "version_minor": 0
      },
      "text/plain": [
       "NGLWidget(max_frame=99)"
      ]
     },
     "metadata": {},
     "output_type": "display_data"
    }
   ],
   "source": [
    "ligand = u.select_atoms(\"resname X77\")\n",
    "nv.show_mdanalysis(ligand)"
   ]
  },
  {
   "cell_type": "markdown",
   "metadata": {},
   "source": [
    "After this we run the the H-Bond Analysis adding our determined donor and acceptor atoms to the list."
   ]
  },
  {
   "cell_type": "code",
   "execution_count": 12,
   "metadata": {},
   "outputs": [
    {
     "name": "stderr",
     "output_type": "stream",
     "text": [
      "/home/mika/miniconda3/envs/T10_ML/lib/python3.6/site-packages/MDAnalysis/analysis/hbonds/hbond_analysis.py:580: DeprecationWarning: This class is deprecated as of MDAnalysis version 1.0 and will be removed in version 2.0.Please use MDAnalysis.analysis.hydrogenbonds.hbond_analysis.HydrogenBondAnalysis instead.\n",
      "  category=DeprecationWarning\n"
     ]
    }
   ],
   "source": [
    "h = hbonds.HydrogenBondAnalysis(u, \"resname X77\", \"protein\",\n",
    "                                donors=[\"N32\", \"N06\"],\n",
    "                                acceptors=[\"O13\", \"O01\", \"N18\", \"N34\", \"N03\"],\n",
    "                                distance=3.0, angle=120.0)\n",
    "h.run()"
   ]
  },
  {
   "cell_type": "code",
   "execution_count": 13,
   "metadata": {},
   "outputs": [
    {
     "data": {
      "text/plain": [
       "<AtomGroup with 0 atoms>"
      ]
     },
     "execution_count": 13,
     "metadata": {},
     "output_type": "execute_result"
    }
   ],
   "source": [
    "u.select_atoms(\"resname X77 and (name O or name N)\")"
   ]
  },
  {
   "cell_type": "code",
   "execution_count": 14,
   "metadata": {},
   "outputs": [],
   "source": [
    "h_new = HBA(universe=u,\n",
    "            donors_sel=\"not resname X77 and not resname HOH and (name O or name N)\",\n",
    "            hydrogens_sel=\"not resname X77 and not resname HOH and name H\",\n",
    "            acceptors_sel=\"resname X77 and (name O or name N)\",\n",
    "            d_a_cutoff=3.0, d_h_a_angle_cutoff=120.0)"
   ]
  },
  {
   "cell_type": "code",
   "execution_count": 15,
   "metadata": {},
   "outputs": [
    {
     "ename": "NoDataError",
     "evalue": "This Universe does not contain charge information",
     "output_type": "error",
     "traceback": [
      "\u001b[0;31m---------------------------------------------------------------------------\u001b[0m",
      "\u001b[0;31mNoDataError\u001b[0m                               Traceback (most recent call last)",
      "\u001b[0;32m<ipython-input-15-d78d6afd1aae>\u001b[0m in \u001b[0;36m<module>\u001b[0;34m\u001b[0m\n\u001b[0;32m----> 1\u001b[0;31m \u001b[0mh_new\u001b[0m\u001b[0;34m.\u001b[0m\u001b[0mguess_donors\u001b[0m\u001b[0;34m(\u001b[0m\u001b[0;34m)\u001b[0m\u001b[0;34m\u001b[0m\u001b[0;34m\u001b[0m\u001b[0m\n\u001b[0m",
      "\u001b[0;32m~/miniconda3/envs/T10_ML/lib/python3.6/site-packages/MDAnalysis/analysis/hydrogenbonds/hbond_analysis.py\u001b[0m in \u001b[0;36mguess_donors\u001b[0;34m(self, select, max_charge)\u001b[0m\n\u001b[1;32m    339\u001b[0m             )\n\u001b[1;32m    340\u001b[0m         )\n\u001b[0;32m--> 341\u001b[0;31m         \u001b[0mdonors_ag\u001b[0m \u001b[0;34m=\u001b[0m \u001b[0mag\u001b[0m\u001b[0;34m[\u001b[0m\u001b[0mag\u001b[0m\u001b[0;34m.\u001b[0m\u001b[0mcharges\u001b[0m \u001b[0;34m<\u001b[0m \u001b[0mmax_charge\u001b[0m\u001b[0;34m]\u001b[0m\u001b[0;34m\u001b[0m\u001b[0;34m\u001b[0m\u001b[0m\n\u001b[0m\u001b[1;32m    342\u001b[0m         donors_list = np.unique(\n\u001b[1;32m    343\u001b[0m             [\n",
      "\u001b[0;32m~/miniconda3/envs/T10_ML/lib/python3.6/site-packages/MDAnalysis/core/groups.py\u001b[0m in \u001b[0;36m__getattr__\u001b[0;34m(self, attr)\u001b[0m\n\u001b[1;32m   2287\u001b[0m         \u001b[0;32melif\u001b[0m \u001b[0mattr\u001b[0m \u001b[0;34m==\u001b[0m \u001b[0;34m'positions'\u001b[0m\u001b[0;34m:\u001b[0m\u001b[0;34m\u001b[0m\u001b[0;34m\u001b[0m\u001b[0m\n\u001b[1;32m   2288\u001b[0m             \u001b[0;32mraise\u001b[0m \u001b[0mNoDataError\u001b[0m\u001b[0;34m(\u001b[0m\u001b[0;34m'This Universe has no coordinates'\u001b[0m\u001b[0;34m)\u001b[0m\u001b[0;34m\u001b[0m\u001b[0;34m\u001b[0m\u001b[0m\n\u001b[0;32m-> 2289\u001b[0;31m         \u001b[0;32mreturn\u001b[0m \u001b[0msuper\u001b[0m\u001b[0;34m(\u001b[0m\u001b[0mAtomGroup\u001b[0m\u001b[0;34m,\u001b[0m \u001b[0mself\u001b[0m\u001b[0;34m)\u001b[0m\u001b[0;34m.\u001b[0m\u001b[0m__getattr__\u001b[0m\u001b[0;34m(\u001b[0m\u001b[0mattr\u001b[0m\u001b[0;34m)\u001b[0m\u001b[0;34m\u001b[0m\u001b[0;34m\u001b[0m\u001b[0m\n\u001b[0m\u001b[1;32m   2290\u001b[0m \u001b[0;34m\u001b[0m\u001b[0m\n\u001b[1;32m   2291\u001b[0m     \u001b[0;34m@\u001b[0m\u001b[0mproperty\u001b[0m\u001b[0;34m\u001b[0m\u001b[0;34m\u001b[0m\u001b[0m\n",
      "\u001b[0;32m~/miniconda3/envs/T10_ML/lib/python3.6/site-packages/MDAnalysis/core/groups.py\u001b[0m in \u001b[0;36m__getattr__\u001b[0;34m(self, attr)\u001b[0m\n\u001b[1;32m    560\u001b[0m             \u001b[0;32melse\u001b[0m\u001b[0;34m:\u001b[0m\u001b[0;34m\u001b[0m\u001b[0;34m\u001b[0m\u001b[0m\n\u001b[1;32m    561\u001b[0m                 \u001b[0merr\u001b[0m \u001b[0;34m=\u001b[0m \u001b[0;34m'This Universe does not contain {singular} information'\u001b[0m\u001b[0;34m\u001b[0m\u001b[0;34m\u001b[0m\u001b[0m\n\u001b[0;32m--> 562\u001b[0;31m                 \u001b[0;32mraise\u001b[0m \u001b[0mNoDataError\u001b[0m\u001b[0;34m(\u001b[0m\u001b[0merr\u001b[0m\u001b[0;34m.\u001b[0m\u001b[0mformat\u001b[0m\u001b[0;34m(\u001b[0m\u001b[0msingular\u001b[0m\u001b[0;34m=\u001b[0m\u001b[0mcls\u001b[0m\u001b[0;34m.\u001b[0m\u001b[0msingular\u001b[0m\u001b[0;34m)\u001b[0m\u001b[0;34m)\u001b[0m\u001b[0;34m\u001b[0m\u001b[0;34m\u001b[0m\u001b[0m\n\u001b[0m\u001b[1;32m    563\u001b[0m         \u001b[0;32melse\u001b[0m\u001b[0;34m:\u001b[0m\u001b[0;34m\u001b[0m\u001b[0;34m\u001b[0m\u001b[0m\n\u001b[1;32m    564\u001b[0m             \u001b[0;32mreturn\u001b[0m \u001b[0msuper\u001b[0m\u001b[0;34m(\u001b[0m\u001b[0mGroupBase\u001b[0m\u001b[0;34m,\u001b[0m \u001b[0mself\u001b[0m\u001b[0;34m)\u001b[0m\u001b[0;34m.\u001b[0m\u001b[0m__getattr__\u001b[0m\u001b[0;34m(\u001b[0m\u001b[0mattr\u001b[0m\u001b[0;34m)\u001b[0m\u001b[0;34m\u001b[0m\u001b[0;34m\u001b[0m\u001b[0m\n",
      "\u001b[0;31mNoDataError\u001b[0m: This Universe does not contain charge information"
     ]
    }
   ],
   "source": [
    "h_new.guess_donors()"
   ]
  },
  {
   "cell_type": "code",
   "execution_count": null,
   "metadata": {},
   "outputs": [],
   "source": [
    "h_new.run()"
   ]
  },
  {
   "cell_type": "code",
   "execution_count": null,
   "metadata": {},
   "outputs": [],
   "source": [
    "h_new.hbonds"
   ]
  },
  {
   "cell_type": "markdown",
   "metadata": {},
   "source": [
    "Let's see how many bonds we get."
   ]
  },
  {
   "cell_type": "code",
   "execution_count": null,
   "metadata": {},
   "outputs": [],
   "source": [
    "time_count = h.count_by_time()\n",
    "h_df = pd.DataFrame.from_records(time_count)\n",
    "ax = h_df.plot(y=\"count\", title=\"Amount of Hydrogenbonds over time\", legend=False)\n",
    "ax.set_xlabel(\"frame\")\n",
    "ax.set_ylabel(\"count\")"
   ]
  },
  {
   "cell_type": "code",
   "execution_count": null,
   "metadata": {},
   "outputs": [],
   "source": [
    "time_count_new = h_new.count_by_time()"
   ]
  },
  {
   "cell_type": "code",
   "execution_count": null,
   "metadata": {},
   "outputs": [],
   "source": [
    "counts = pd.DataFrame(data=time_count_new, index=h_new.times)"
   ]
  },
  {
   "cell_type": "code",
   "execution_count": null,
   "metadata": {},
   "outputs": [],
   "source": [
    "ax = counts.plot(title=\"Amount of Hydrogenbonds over time\", legend=False)\n",
    "ax.set_xlabel(\"frame\")\n",
    "ax.set_ylabel(\"count\")"
   ]
  },
  {
   "cell_type": "markdown",
   "metadata": {},
   "source": [
    "For more detail on the bonds we generate a readable table from the analysis."
   ]
  },
  {
   "cell_type": "code",
   "execution_count": null,
   "metadata": {
    "scrolled": true
   },
   "outputs": [],
   "source": [
    "h.generate_table()\n",
    "h_df = pd.DataFrame.from_records(h.table)\n",
    "h_df.head()"
   ]
  },
  {
   "cell_type": "code",
   "execution_count": null,
   "metadata": {},
   "outputs": [],
   "source": [
    "h_df.tail()"
   ]
  },
  {
   "cell_type": "markdown",
   "metadata": {},
   "source": [
    "In the dataframe distance and angle are denoted for each bond at each timestep.\n",
    "From this we can calculate the average angles and distances over time. While the hydrogen bond analysis automatically estimates continuous timesteps, we will stick to representation in frames as no time measurement is given in our trajectories.\n",
    "First, select the unique timepoints, then get distances and angles at that time and take the mean. \n",
    "For easier plotting, we combined the data into a Pandas DataFrame."
   ]
  },
  {
   "cell_type": "code",
   "execution_count": null,
   "metadata": {},
   "outputs": [],
   "source": [
    "timesteps = h_df[\"time\"].unique()\n",
    "timesteps.sort()\n",
    "avg_dist = []\n",
    "avg_angle = []\n",
    "for t in timesteps:\n",
    "    df_time = h_df.loc[h_df[\"time\"] == t]\n",
    "    avg_dist.append(df_time.distance.mean())\n",
    "    avg_angle.append(df_time.angle.mean())\n",
    "average_df = pd.DataFrame({\"distance\": avg_dist, \"angle\": avg_angle},\n",
    "                          index=range(0, len(timesteps)))"
   ]
  },
  {
   "cell_type": "code",
   "execution_count": null,
   "metadata": {},
   "outputs": [],
   "source": [
    "fig = plt.figure()\n",
    "distance = average_df.distance.plot(title=\"Average distances and angles\")\n",
    "distance.set_ylabel(\"distance (Å)\")\n",
    "distance.set_xlabel(\"frame\")\n",
    "angle = average_df.angle.plot(secondary_y=True)\n",
    "angle.set_ylabel(\"angle (°)\")\n",
    "fig.legend(loc=\"upper right\", bbox_to_anchor=(1, 1), bbox_transform=distance.transAxes)\n",
    "plt.show()"
   ]
  },
  {
   "cell_type": "markdown",
   "metadata": {},
   "source": [
    "We can also compare the distribution of angles and distances at the beginning and end.\n",
    "To do this we extract the data for the timepoints..."
   ]
  },
  {
   "cell_type": "code",
   "execution_count": null,
   "metadata": {},
   "outputs": [],
   "source": [
    "start = h_df.loc[h_df[\"time\"] == h_df[\"time\"].min()]\n",
    "end = h_df.loc[h_df[\"time\"] == h_df[\"time\"].max()]"
   ]
  },
  {
   "cell_type": "markdown",
   "metadata": {},
   "source": [
    "...and plot into histogramms."
   ]
  },
  {
   "cell_type": "code",
   "execution_count": null,
   "metadata": {},
   "outputs": [],
   "source": [
    "bins = np.linspace(120, 180, 7)\n",
    "fig, ax = plt.subplots(1, 2)\n",
    "fig.suptitle(\"Hydrogenbond statistics\")\n",
    "ax[0].hist([start[\"angle\"], end[\"angle\"]], bins, label=[\"Start\", \"End\"], alpha=0.5)\n",
    "ax[0].legend(loc=\"upper left\")\n",
    "ax[0].title .set_text(\"Angle\")\n",
    "ax[0].set_xlabel(\"angle (°)\")\n",
    "ax[1].hist([start[\"distance\"], end[\"distance\"]], label=[\"Start\", \"End\"], alpha=0.5)\n",
    "ax[1].legend(loc=\"upper right\")\n",
    "ax[1].title.set_text(\"Distance\")\n",
    "ax[1].set_xlabel(\"distance (Å)\")\n",
    "fig.subplots_adjust(wspace=0.6)\n",
    "plt.show()"
   ]
  },
  {
   "cell_type": "markdown",
   "metadata": {},
   "source": [
    "In the next step we want to look at some bonds in more detail.\n",
    "We write a function that generates a plot containing details about one specific bond. The bond is characterized by its donor and acceptor atoms."
   ]
  },
  {
   "cell_type": "code",
   "execution_count": null,
   "metadata": {},
   "outputs": [],
   "source": [
    "def plot_hydrogen_bond_over_time(hbonds_analysis, donor_index, acceptor_index):\n",
    "    \"\"\" Plot the distance and degree of a chosen hydrogen bond over time.\n",
    "    Peaks in angle and dips in distance represent moments of strong binding.\n",
    "\n",
    "    Parameters\n",
    "    ----------\n",
    "    hbonds_analysis : MDAnalysis.analysis.hbonds.hbond_analysis.HydrogenBondAnalysis\n",
    "    donor_index : int\n",
    "        Index of donor atom in MDAnalysis Universe\n",
    "    acceptor_index : int\n",
    "        Index of acceptor atom in MDAnalysis Universe\n",
    "\n",
    "    Notes\n",
    "    -----\n",
    "    The time measurement of the Hydrogenbond Analysis is converted back to frames\n",
    "    to be consistent with the trajectoy.\n",
    "\n",
    "    \"\"\"\n",
    "    hbonds_analysis.generate_table()\n",
    "    hbonds_analysis_df = pd.DataFrame.from_records(h.table)\n",
    "    timesteps = hbonds_analysis_df[\"time\"].unique()\n",
    "    timesteps.sort()\n",
    "    hbonds_analysis_df[\"frame\"] = -1\n",
    "    for i, t in enumerate(timesteps):\n",
    "        hbonds_analysis_df.loc[hbonds_analysis_df[\"time\"] == t, \"frame\"] = i\n",
    "\n",
    "    bond = hbonds_analysis_df.loc[(hbonds_analysis_df[\"donor_index\"] == donor_index) &\n",
    "                                  (hbonds_analysis_df[\"acceptor_index\"] ==\n",
    "                                   acceptor_index)]\n",
    "\n",
    "    bond.set_index(\"frame\", inplace=True, drop=True)\n",
    "    fig = plt.figure()\n",
    "    distance = bond.distance.plot(title=f\"H-Bond between donor {donor_index}\"\n",
    "                                  f\" and acceptor {acceptor_index}\",\n",
    "                                  xlim=(0, len(timesteps)), style=\"o-\")\n",
    "    distance.set_ylabel(\"distance (Å)\")\n",
    "    distance.set_xlabel(\"frame\")\n",
    "    angle = bond.angle.plot(secondary_y=True, style=\"o-\")\n",
    "    angle.set_ylabel(\"angle (°)\")\n",
    "    angle.set_xlabel(\"frame\")\n",
    "    fig.legend(loc=\"upper right\", bbox_to_anchor=(1, 1),\n",
    "               bbox_transform=distance.transAxes)\n",
    "    plt.show()"
   ]
  },
  {
   "cell_type": "markdown",
   "metadata": {},
   "source": [
    "Finally, we can run the function with bonds selected from the table we generated before. "
   ]
  },
  {
   "cell_type": "code",
   "execution_count": null,
   "metadata": {},
   "outputs": [],
   "source": [
    "plot_hydrogen_bond_over_time(h, 2551, 4699)"
   ]
  },
  {
   "cell_type": "code",
   "execution_count": null,
   "metadata": {},
   "outputs": [],
   "source": [
    "plot_hydrogen_bond_over_time(h, 2220, 4697)"
   ]
  },
  {
   "cell_type": "markdown",
   "metadata": {},
   "source": [
    "In these exemplary plots we can see that the first bond has lower distances and higher angles overall and is thus stronger than the second. The first one persists the entire time, while the second one gets broken several times as we can derive from missing values (points on the lines)."
   ]
  },
  {
   "cell_type": "markdown",
   "metadata": {},
   "source": [
    "### Water Bridge Analysis"
   ]
  },
  {
   "cell_type": "code",
   "execution_count": null,
   "metadata": {},
   "outputs": [],
   "source": [
    "w = hbonds.WaterBridgeAnalysis(u, \"resname X77\", \"protein\")\n",
    "w.run()"
   ]
  },
  {
   "cell_type": "markdown",
   "metadata": {},
   "source": [
    "## Summary\n",
    "\n",
    "There are various ways to analyze MD Simulations and in this notebook we explored just a small spectrum. Nevertheless, we gained valuable insights into the binding process happening.\n",
    "\n",
    "Some methods are more straightforward, like the visualization of the molecule, while others require more finesse.\n",
    "Especially the hydrogen bond analysis is yet dependent on manual input and tweaking, but with further advancements in the field we can expect the frameworks to become more and more refined.\n",
    "In the end, all approaches contributed a piece towards understanding the complex interactions captured with the MD simulation.\n",
    "\n"
   ]
  }
 ],
 "metadata": {
  "kernelspec": {
   "display_name": "Python 3",
   "language": "python",
   "name": "python3"
  },
  "language_info": {
   "codemirror_mode": {
    "name": "ipython",
    "version": 3
   },
   "file_extension": ".py",
   "mimetype": "text/x-python",
   "name": "python",
   "nbconvert_exporter": "python",
   "pygments_lexer": "ipython3",
   "version": "3.6.10"
  }
 },
 "nbformat": 4,
 "nbformat_minor": 4
}
