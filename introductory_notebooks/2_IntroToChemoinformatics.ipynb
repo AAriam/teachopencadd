{
 "cells": [
  {
   "cell_type": "markdown",
   "metadata": {},
   "source": [
    "# Introduction to cheminformatics\n",
    "\n",
    "Andrea Volkamer\n",
    "\n",
    "#### Basic handling of molecules\n",
    "\n",
    "* Reading & writing of molecules\n",
    "* Molecular descriptors & fingerprints\n",
    "* Molceular similarity\n",
    "\n",
    "#### Using RDKit: open source cheminformatics software\n",
    "\n",
    "More information can be found here:\n",
    "\n",
    "* http://www.rdkit.org/docs/index.html\n",
    "* http://www.rdkit.org/docs/api/index.html"
   ]
  },
  {
   "cell_type": "code",
   "execution_count": 2,
   "metadata": {},
   "outputs": [],
   "source": [
    "# The majority of the basic molecular functionality is found in module rdkit.Chem library\n",
    "from rdkit import Chem\n",
    "from rdkit.Chem import AllChem"
   ]
  },
  {
   "cell_type": "markdown",
   "metadata": {},
   "source": [
    "## Representation of molecules\n",
    "\n",
    "### SMILES (Simplified Molecular Input Line Entry Specification)\n",
    "\n",
    "* Atoms are represented by atomic symbols: C, N, O, F, S, Cl, Br, I\n",
    "* Double bonds are `=`, triple bonds are `#`\n",
    "* Branching is indicated by parenthesis\n",
    "* Ring closures are indicated by pairs of matching digits\n",
    "\n",
    "More information can be found here: http://www.daylight.com/dayhtml/doc/theory/theory.smiles.html"
   ]
  },
  {
   "cell_type": "code",
   "execution_count": 3,
   "metadata": {},
   "outputs": [],
   "source": [
    "# Individual molecules can be constructed using a variety of approaches\n",
    "# FDA approved EGFR inhibitors: Gefitinib, Erlotinib\n",
    "\n",
    "mol1 = Chem.MolFromSmiles('COc1cc2ncnc(Nc3ccc(F)c(Cl)c3)c2cc1OCCCN1CCOCC1')\n",
    "mol2 = Chem.MolFromSmiles('C#Cc1cccc(Nc2ncnc3cc(OCCOC)c(OCCOC)cc23)c1')"
   ]
  },
  {
   "cell_type": "markdown",
   "metadata": {},
   "source": [
    "#### Drawing molecules"
   ]
  },
  {
   "cell_type": "code",
   "execution_count": 4,
   "metadata": {},
   "outputs": [],
   "source": [
    "from rdkit.Chem.Draw import IPythonConsole\n",
    "from rdkit.Chem import Draw"
   ]
  },
  {
   "cell_type": "code",
   "execution_count": 5,
   "metadata": {},
   "outputs": [
    {
     "data": {
      "image/png": "[encoded data removed]",
      "text/plain": [
       "<rdkit.Chem.rdchem.Mol at 0x1df8a840e90>"
      ]
     },
     "execution_count": 5,
     "metadata": {},
     "output_type": "execute_result"
    }
   ],
   "source": [
    "# Single molecule\n",
    "mol1"
   ]
  },
  {
   "cell_type": "code",
   "execution_count": 6,
   "metadata": {},
   "outputs": [
    {
     "data": {
      "image/svg+xml": [
       "<svg baseProfile=\"full\" height=\"200px\" version=\"1.1\" width=\"600px\" xml:space=\"preserve\" xmlns=\"http://www.w3.org/2000/svg\" xmlns:rdkit=\"http://www.rdkit.org/xml\" xmlns:xlink=\"http://www.w3.org/1999/xlink\">\n",
       "<rect height=\"200\" style=\"opacity:1.0;fill:#FFFFFF;stroke:none\" width=\"600\" x=\"0\" y=\"0\"> </rect>\n",
       "<path d=\"M 68.007,150.902 74.4476,153.092\" style=\"fill:none;fill-rule:evenodd;stroke:#000000;stroke-width:2px;stroke-linecap:butt;stroke-linejoin:miter;stroke-opacity:1\"/>\n",
       "<path d=\"M 74.4476,153.092 80.8883,155.283\" style=\"fill:none;fill-rule:evenodd;stroke:#FF0000;stroke-width:2px;stroke-linecap:butt;stroke-linejoin:miter;stroke-opacity:1\"/>\n",
       "<path d=\"M 85.9576,153.925 90.8147,149.671\" style=\"fill:none;fill-rule:evenodd;stroke:#FF0000;stroke-width:2px;stroke-linecap:butt;stroke-linejoin:miter;stroke-opacity:1\"/>\n",
       "<path d=\"M 90.8147,149.671 95.6719,145.416\" style=\"fill:none;fill-rule:evenodd;stroke:#000000;stroke-width:2px;stroke-linecap:butt;stroke-linejoin:miter;stroke-opacity:1\"/>\n",
       "<path d=\"M 95.6719,145.416 111.088,150.66\" style=\"fill:none;fill-rule:evenodd;stroke:#000000;stroke-width:2px;stroke-linecap:butt;stroke-linejoin:miter;stroke-opacity:1\"/>\n",
       "<path d=\"M 99.0329,143.12 109.824,146.79\" style=\"fill:none;fill-rule:evenodd;stroke:#000000;stroke-width:2px;stroke-linecap:butt;stroke-linejoin:miter;stroke-opacity:1\"/>\n",
       "<path d=\"M 95.6719,145.416 92.5048,129.444\" style=\"fill:none;fill-rule:evenodd;stroke:#000000;stroke-width:2px;stroke-linecap:butt;stroke-linejoin:miter;stroke-opacity:1\"/>\n",
       "<path d=\"M 111.088,150.66 123.337,139.931\" style=\"fill:none;fill-rule:evenodd;stroke:#000000;stroke-width:2px;stroke-linecap:butt;stroke-linejoin:miter;stroke-opacity:1\"/>\n",
       "<path d=\"M 123.337,139.931 129.869,142.152\" style=\"fill:none;fill-rule:evenodd;stroke:#000000;stroke-width:2px;stroke-linecap:butt;stroke-linejoin:miter;stroke-opacity:1\"/>\n",
       "<path d=\"M 129.869,142.152 136.4,144.374\" style=\"fill:none;fill-rule:evenodd;stroke:#0000FF;stroke-width:2px;stroke-linecap:butt;stroke-linejoin:miter;stroke-opacity:1\"/>\n",
       "<path d=\"M 126.345,137.514 130.917,139.069\" style=\"fill:none;fill-rule:evenodd;stroke:#000000;stroke-width:2px;stroke-linecap:butt;stroke-linejoin:miter;stroke-opacity:1\"/>\n",
       "<path d=\"M 130.917,139.069 135.49,140.624\" style=\"fill:none;fill-rule:evenodd;stroke:#0000FF;stroke-width:2px;stroke-linecap:butt;stroke-linejoin:miter;stroke-opacity:1\"/>\n",
       "<path d=\"M 123.337,139.931 120.17,123.958\" style=\"fill:none;fill-rule:evenodd;stroke:#000000;stroke-width:2px;stroke-linecap:butt;stroke-linejoin:miter;stroke-opacity:1\"/>\n",
       "<path d=\"M 141.105,143.114 146.053,138.78\" style=\"fill:none;fill-rule:evenodd;stroke:#0000FF;stroke-width:2px;stroke-linecap:butt;stroke-linejoin:miter;stroke-opacity:1\"/>\n",
       "<path d=\"M 146.053,138.78 151.002,134.445\" style=\"fill:none;fill-rule:evenodd;stroke:#000000;stroke-width:2px;stroke-linecap:butt;stroke-linejoin:miter;stroke-opacity:1\"/>\n",
       "<path d=\"M 151.002,134.445 149.687,127.816\" style=\"fill:none;fill-rule:evenodd;stroke:#000000;stroke-width:2px;stroke-linecap:butt;stroke-linejoin:miter;stroke-opacity:1\"/>\n",
       "<path d=\"M 149.687,127.816 148.373,121.187\" style=\"fill:none;fill-rule:evenodd;stroke:#0000FF;stroke-width:2px;stroke-linecap:butt;stroke-linejoin:miter;stroke-opacity:1\"/>\n",
       "<path d=\"M 147.413,133.09 146.493,128.449\" style=\"fill:none;fill-rule:evenodd;stroke:#000000;stroke-width:2px;stroke-linecap:butt;stroke-linejoin:miter;stroke-opacity:1\"/>\n",
       "<path d=\"M 146.493,128.449 145.572,123.809\" style=\"fill:none;fill-rule:evenodd;stroke:#0000FF;stroke-width:2px;stroke-linecap:butt;stroke-linejoin:miter;stroke-opacity:1\"/>\n",
       "<path d=\"M 145.482,117.673 138.95,115.451\" style=\"fill:none;fill-rule:evenodd;stroke:#0000FF;stroke-width:2px;stroke-linecap:butt;stroke-linejoin:miter;stroke-opacity:1\"/>\n",
       "<path d=\"M 138.95,115.451 132.419,113.23\" style=\"fill:none;fill-rule:evenodd;stroke:#000000;stroke-width:2px;stroke-linecap:butt;stroke-linejoin:miter;stroke-opacity:1\"/>\n",
       "<path d=\"M 132.419,113.23 131.104,106.6\" style=\"fill:none;fill-rule:evenodd;stroke:#000000;stroke-width:2px;stroke-linecap:butt;stroke-linejoin:miter;stroke-opacity:1\"/>\n",
       "<path d=\"M 131.104,106.6 129.79,99.9711\" style=\"fill:none;fill-rule:evenodd;stroke:#0000FF;stroke-width:2px;stroke-linecap:butt;stroke-linejoin:miter;stroke-opacity:1\"/>\n",
       "<path d=\"M 132.419,113.23 120.17,123.958\" style=\"fill:none;fill-rule:evenodd;stroke:#000000;stroke-width:2px;stroke-linecap:butt;stroke-linejoin:miter;stroke-opacity:1\"/>\n",
       "<path d=\"M 132.727,117.289 124.153,124.799\" style=\"fill:none;fill-rule:evenodd;stroke:#000000;stroke-width:2px;stroke-linecap:butt;stroke-linejoin:miter;stroke-opacity:1\"/>\n",
       "<path d=\"M 132.35,94.5434 136.925,90.5359\" style=\"fill:none;fill-rule:evenodd;stroke:#0000FF;stroke-width:2px;stroke-linecap:butt;stroke-linejoin:miter;stroke-opacity:1\"/>\n",
       "<path d=\"M 136.925,90.5359 141.5,86.5283\" style=\"fill:none;fill-rule:evenodd;stroke:#000000;stroke-width:2px;stroke-linecap:butt;stroke-linejoin:miter;stroke-opacity:1\"/>\n",
       "<path d=\"M 141.5,86.5283 156.916,91.7717\" style=\"fill:none;fill-rule:evenodd;stroke:#000000;stroke-width:2px;stroke-linecap:butt;stroke-linejoin:miter;stroke-opacity:1\"/>\n",
       "<path d=\"M 144.861,84.2317 155.653,87.902\" style=\"fill:none;fill-rule:evenodd;stroke:#000000;stroke-width:2px;stroke-linecap:butt;stroke-linejoin:miter;stroke-opacity:1\"/>\n",
       "<path d=\"M 141.5,86.5283 138.333,70.556\" style=\"fill:none;fill-rule:evenodd;stroke:#000000;stroke-width:2px;stroke-linecap:butt;stroke-linejoin:miter;stroke-opacity:1\"/>\n",
       "<path d=\"M 156.916,91.7717 169.165,81.0428\" style=\"fill:none;fill-rule:evenodd;stroke:#000000;stroke-width:2px;stroke-linecap:butt;stroke-linejoin:miter;stroke-opacity:1\"/>\n",
       "<path d=\"M 169.165,81.0428 165.998,65.0705\" style=\"fill:none;fill-rule:evenodd;stroke:#000000;stroke-width:2px;stroke-linecap:butt;stroke-linejoin:miter;stroke-opacity:1\"/>\n",
       "<path d=\"M 165.496,79.2804 163.279,68.0998\" style=\"fill:none;fill-rule:evenodd;stroke:#000000;stroke-width:2px;stroke-linecap:butt;stroke-linejoin:miter;stroke-opacity:1\"/>\n",
       "<path d=\"M 165.998,65.0705 171.127,60.5779\" style=\"fill:none;fill-rule:evenodd;stroke:#000000;stroke-width:2px;stroke-linecap:butt;stroke-linejoin:miter;stroke-opacity:1\"/>\n",
       "<path d=\"M 171.127,60.5779 176.256,56.0852\" style=\"fill:none;fill-rule:evenodd;stroke:#33CCCC;stroke-width:2px;stroke-linecap:butt;stroke-linejoin:miter;stroke-opacity:1\"/>\n",
       "<path d=\"M 165.998,65.0705 150.582,59.8271\" style=\"fill:none;fill-rule:evenodd;stroke:#000000;stroke-width:2px;stroke-linecap:butt;stroke-linejoin:miter;stroke-opacity:1\"/>\n",
       "<path d=\"M 150.582,59.8271 149.268,53.1979\" style=\"fill:none;fill-rule:evenodd;stroke:#000000;stroke-width:2px;stroke-linecap:butt;stroke-linejoin:miter;stroke-opacity:1\"/>\n",
       "<path d=\"M 149.268,53.1979 147.953,46.5687\" style=\"fill:none;fill-rule:evenodd;stroke:#00CC00;stroke-width:2px;stroke-linecap:butt;stroke-linejoin:miter;stroke-opacity:1\"/>\n",
       "<path d=\"M 150.582,59.8271 138.333,70.556\" style=\"fill:none;fill-rule:evenodd;stroke:#000000;stroke-width:2px;stroke-linecap:butt;stroke-linejoin:miter;stroke-opacity:1\"/>\n",
       "<path d=\"M 150.891,63.8862 142.316,71.3965\" style=\"fill:none;fill-rule:evenodd;stroke:#000000;stroke-width:2px;stroke-linecap:butt;stroke-linejoin:miter;stroke-opacity:1\"/>\n",
       "<path d=\"M 120.17,123.958 104.754,118.715\" style=\"fill:none;fill-rule:evenodd;stroke:#000000;stroke-width:2px;stroke-linecap:butt;stroke-linejoin:miter;stroke-opacity:1\"/>\n",
       "<path d=\"M 104.754,118.715 92.5048,129.444\" style=\"fill:none;fill-rule:evenodd;stroke:#000000;stroke-width:2px;stroke-linecap:butt;stroke-linejoin:miter;stroke-opacity:1\"/>\n",
       "<path d=\"M 105.062,122.774 96.4879,130.284\" style=\"fill:none;fill-rule:evenodd;stroke:#000000;stroke-width:2px;stroke-linecap:butt;stroke-linejoin:miter;stroke-opacity:1\"/>\n",
       "<path d=\"M 92.5048,129.444 86.0642,127.253\" style=\"fill:none;fill-rule:evenodd;stroke:#000000;stroke-width:2px;stroke-linecap:butt;stroke-linejoin:miter;stroke-opacity:1\"/>\n",
       "<path d=\"M 86.0642,127.253 79.6235,125.063\" style=\"fill:none;fill-rule:evenodd;stroke:#FF0000;stroke-width:2px;stroke-linecap:butt;stroke-linejoin:miter;stroke-opacity:1\"/>\n",
       "<path d=\"M 76.5507,121.487 75.2363,114.857\" style=\"fill:none;fill-rule:evenodd;stroke:#FF0000;stroke-width:2px;stroke-linecap:butt;stroke-linejoin:miter;stroke-opacity:1\"/>\n",
       "<path d=\"M 75.2363,114.857 73.9218,108.228\" style=\"fill:none;fill-rule:evenodd;stroke:#000000;stroke-width:2px;stroke-linecap:butt;stroke-linejoin:miter;stroke-opacity:1\"/>\n",
       "<path d=\"M 73.9218,108.228 58.5058,102.985\" style=\"fill:none;fill-rule:evenodd;stroke:#000000;stroke-width:2px;stroke-linecap:butt;stroke-linejoin:miter;stroke-opacity:1\"/>\n",
       "<path d=\"M 58.5058,102.985 55.3388,87.0125\" style=\"fill:none;fill-rule:evenodd;stroke:#000000;stroke-width:2px;stroke-linecap:butt;stroke-linejoin:miter;stroke-opacity:1\"/>\n",
       "<path d=\"M 55.3388,87.0125 48.8069,84.7909\" style=\"fill:none;fill-rule:evenodd;stroke:#000000;stroke-width:2px;stroke-linecap:butt;stroke-linejoin:miter;stroke-opacity:1\"/>\n",
       "<path d=\"M 48.8069,84.7909 42.2751,82.5692\" style=\"fill:none;fill-rule:evenodd;stroke:#0000FF;stroke-width:2px;stroke-linecap:butt;stroke-linejoin:miter;stroke-opacity:1\"/>\n",
       "<path d=\"M 39.3847,79.0553 38.0702,72.426\" style=\"fill:none;fill-rule:evenodd;stroke:#0000FF;stroke-width:2px;stroke-linecap:butt;stroke-linejoin:miter;stroke-opacity:1\"/>\n",
       "<path d=\"M 38.0702,72.426 36.7558,65.7968\" style=\"fill:none;fill-rule:evenodd;stroke:#000000;stroke-width:2px;stroke-linecap:butt;stroke-linejoin:miter;stroke-opacity:1\"/>\n",
       "<path d=\"M 37.5706,83.8295 32.6222,88.1638\" style=\"fill:none;fill-rule:evenodd;stroke:#0000FF;stroke-width:2px;stroke-linecap:butt;stroke-linejoin:miter;stroke-opacity:1\"/>\n",
       "<path d=\"M 32.6222,88.1638 27.6739,92.498\" style=\"fill:none;fill-rule:evenodd;stroke:#000000;stroke-width:2px;stroke-linecap:butt;stroke-linejoin:miter;stroke-opacity:1\"/>\n",
       "<path d=\"M 36.7558,65.7968 21.3398,60.5534\" style=\"fill:none;fill-rule:evenodd;stroke:#000000;stroke-width:2px;stroke-linecap:butt;stroke-linejoin:miter;stroke-opacity:1\"/>\n",
       "<path d=\"M 21.3398,60.5534 16.4827,64.8078\" style=\"fill:none;fill-rule:evenodd;stroke:#000000;stroke-width:2px;stroke-linecap:butt;stroke-linejoin:miter;stroke-opacity:1\"/>\n",
       "<path d=\"M 16.4827,64.8078 11.6256,69.0622\" style=\"fill:none;fill-rule:evenodd;stroke:#FF0000;stroke-width:2px;stroke-linecap:butt;stroke-linejoin:miter;stroke-opacity:1\"/>\n",
       "<path d=\"M 9.62903,73.9962 10.9435,80.6254\" style=\"fill:none;fill-rule:evenodd;stroke:#FF0000;stroke-width:2px;stroke-linecap:butt;stroke-linejoin:miter;stroke-opacity:1\"/>\n",
       "<path d=\"M 10.9435,80.6254 12.258,87.2546\" style=\"fill:none;fill-rule:evenodd;stroke:#000000;stroke-width:2px;stroke-linecap:butt;stroke-linejoin:miter;stroke-opacity:1\"/>\n",
       "<path d=\"M 12.258,87.2546 27.6739,92.498\" style=\"fill:none;fill-rule:evenodd;stroke:#000000;stroke-width:2px;stroke-linecap:butt;stroke-linejoin:miter;stroke-opacity:1\"/>\n",
       "<text style=\"font-size:5px;font-style:normal;font-weight:normal;fill-opacity:1;stroke:none;font-family:sans-serif;text-anchor:start;fill:#FF0000\" x=\"80.8883\" y=\"158.859\"><tspan>O</tspan></text>\n",
       "<text style=\"font-size:5px;font-style:normal;font-weight:normal;fill-opacity:1;stroke:none;font-family:sans-serif;text-anchor:start;fill:#0000FF\" x=\"136.4\" y=\"147.888\"><tspan>N</tspan></text>\n",
       "<text style=\"font-size:5px;font-style:normal;font-weight:normal;fill-opacity:1;stroke:none;font-family:sans-serif;text-anchor:start;fill:#0000FF\" x=\"145.482\" y=\"121.187\"><tspan>N</tspan></text>\n",
       "<text style=\"font-size:5px;font-style:normal;font-weight:normal;fill-opacity:1;stroke:none;font-family:sans-serif;text-anchor:start;fill:#0000FF\" x=\"124.547\" y=\"99.9711\"><tspan>NH</tspan></text>\n",
       "<text style=\"font-size:5px;font-style:normal;font-weight:normal;fill-opacity:1;stroke:none;font-family:sans-serif;text-anchor:start;fill:#33CCCC\" x=\"176.256\" y=\"57.0555\"><tspan>F</tspan></text>\n",
       "<text style=\"font-size:5px;font-style:normal;font-weight:normal;fill-opacity:1;stroke:none;font-family:sans-serif;text-anchor:start;fill:#00CC00\" x=\"144.34\" y=\"46.5687\"><tspan>Cl</tspan></text>\n",
       "<text style=\"font-size:5px;font-style:normal;font-weight:normal;fill-opacity:1;stroke:none;font-family:sans-serif;text-anchor:start;fill:#FF0000\" x=\"74.5541\" y=\"126.914\"><tspan>O</tspan></text>\n",
       "<text style=\"font-size:5px;font-style:normal;font-weight:normal;fill-opacity:1;stroke:none;font-family:sans-serif;text-anchor:start;fill:#0000FF\" x=\"37.5706\" y=\"84.483\"><tspan>N</tspan></text>\n",
       "<text style=\"font-size:5px;font-style:normal;font-weight:normal;fill-opacity:1;stroke:none;font-family:sans-serif;text-anchor:start;fill:#FF0000\" x=\"6.55622\" y=\"73.9962\"><tspan>O</tspan></text>\n",
       "<path d=\"M 390.909,75.4966 381.947,89.0918\" style=\"fill:none;fill-rule:evenodd;stroke:#000000;stroke-width:2px;stroke-linecap:butt;stroke-linejoin:miter;stroke-opacity:1\"/>\n",
       "<path d=\"M 388.19,73.7042 380.572,85.2601\" style=\"fill:none;fill-rule:evenodd;stroke:#000000;stroke-width:2px;stroke-linecap:butt;stroke-linejoin:miter;stroke-opacity:1\"/>\n",
       "<path d=\"M 393.628,77.289 386.011,88.8449\" style=\"fill:none;fill-rule:evenodd;stroke:#000000;stroke-width:2px;stroke-linecap:butt;stroke-linejoin:miter;stroke-opacity:1\"/>\n",
       "<path d=\"M 381.947,89.0918 372.985,102.687\" style=\"fill:none;fill-rule:evenodd;stroke:#000000;stroke-width:2px;stroke-linecap:butt;stroke-linejoin:miter;stroke-opacity:1\"/>\n",
       "<path d=\"M 372.985,102.687 380.278,117.246\" style=\"fill:none;fill-rule:evenodd;stroke:#000000;stroke-width:2px;stroke-linecap:butt;stroke-linejoin:miter;stroke-opacity:1\"/>\n",
       "<path d=\"M 371.167,106.329 376.272,116.521\" style=\"fill:none;fill-rule:evenodd;stroke:#000000;stroke-width:2px;stroke-linecap:butt;stroke-linejoin:miter;stroke-opacity:1\"/>\n",
       "<path d=\"M 372.985,102.687 356.731,101.723\" style=\"fill:none;fill-rule:evenodd;stroke:#000000;stroke-width:2px;stroke-linecap:butt;stroke-linejoin:miter;stroke-opacity:1\"/>\n",
       "<path d=\"M 380.278,117.246 371.316,130.841\" style=\"fill:none;fill-rule:evenodd;stroke:#000000;stroke-width:2px;stroke-linecap:butt;stroke-linejoin:miter;stroke-opacity:1\"/>\n",
       "<path d=\"M 371.316,130.841 355.062,129.877\" style=\"fill:none;fill-rule:evenodd;stroke:#000000;stroke-width:2px;stroke-linecap:butt;stroke-linejoin:miter;stroke-opacity:1\"/>\n",
       "<path d=\"M 369.071,127.445 357.692,126.771\" style=\"fill:none;fill-rule:evenodd;stroke:#000000;stroke-width:2px;stroke-linecap:butt;stroke-linejoin:miter;stroke-opacity:1\"/>\n",
       "<path d=\"M 355.062,129.877 347.769,115.319\" style=\"fill:none;fill-rule:evenodd;stroke:#000000;stroke-width:2px;stroke-linecap:butt;stroke-linejoin:miter;stroke-opacity:1\"/>\n",
       "<path d=\"M 347.769,115.319 341.994,114.976\" style=\"fill:none;fill-rule:evenodd;stroke:#000000;stroke-width:2px;stroke-linecap:butt;stroke-linejoin:miter;stroke-opacity:1\"/>\n",
       "<path d=\"M 341.994,114.976 336.218,114.634\" style=\"fill:none;fill-rule:evenodd;stroke:#0000FF;stroke-width:2px;stroke-linecap:butt;stroke-linejoin:miter;stroke-opacity:1\"/>\n",
       "<path d=\"M 347.769,115.319 356.731,101.723\" style=\"fill:none;fill-rule:evenodd;stroke:#000000;stroke-width:2px;stroke-linecap:butt;stroke-linejoin:miter;stroke-opacity:1\"/>\n",
       "<path d=\"M 351.832,115.072 358.105,105.555\" style=\"fill:none;fill-rule:evenodd;stroke:#000000;stroke-width:2px;stroke-linecap:butt;stroke-linejoin:miter;stroke-opacity:1\"/>\n",
       "<path d=\"M 330.154,111.641 327.188,105.719\" style=\"fill:none;fill-rule:evenodd;stroke:#0000FF;stroke-width:2px;stroke-linecap:butt;stroke-linejoin:miter;stroke-opacity:1\"/>\n",
       "<path d=\"M 327.188,105.719 324.221,99.7961\" style=\"fill:none;fill-rule:evenodd;stroke:#000000;stroke-width:2px;stroke-linecap:butt;stroke-linejoin:miter;stroke-opacity:1\"/>\n",
       "<path d=\"M 324.221,99.7961 327.808,94.3554\" style=\"fill:none;fill-rule:evenodd;stroke:#000000;stroke-width:2px;stroke-linecap:butt;stroke-linejoin:miter;stroke-opacity:1\"/>\n",
       "<path d=\"M 327.808,94.3554 331.394,88.9147\" style=\"fill:none;fill-rule:evenodd;stroke:#0000FF;stroke-width:2px;stroke-linecap:butt;stroke-linejoin:miter;stroke-opacity:1\"/>\n",
       "<path d=\"M 322.578,96.3715 325.089,92.563\" style=\"fill:none;fill-rule:evenodd;stroke:#000000;stroke-width:2px;stroke-linecap:butt;stroke-linejoin:miter;stroke-opacity:1\"/>\n",
       "<path d=\"M 325.089,92.563 327.599,88.7546\" style=\"fill:none;fill-rule:evenodd;stroke:#0000FF;stroke-width:2px;stroke-linecap:butt;stroke-linejoin:miter;stroke-opacity:1\"/>\n",
       "<path d=\"M 324.221,99.7961 307.966,98.8324\" style=\"fill:none;fill-rule:evenodd;stroke:#000000;stroke-width:2px;stroke-linecap:butt;stroke-linejoin:miter;stroke-opacity:1\"/>\n",
       "<path d=\"M 331.824,83.487 328.857,77.5645\" style=\"fill:none;fill-rule:evenodd;stroke:#0000FF;stroke-width:2px;stroke-linecap:butt;stroke-linejoin:miter;stroke-opacity:1\"/>\n",
       "<path d=\"M 328.857,77.5645 325.89,71.642\" style=\"fill:none;fill-rule:evenodd;stroke:#000000;stroke-width:2px;stroke-linecap:butt;stroke-linejoin:miter;stroke-opacity:1\"/>\n",
       "<path d=\"M 325.89,71.642 318.939,71.2299\" style=\"fill:none;fill-rule:evenodd;stroke:#000000;stroke-width:2px;stroke-linecap:butt;stroke-linejoin:miter;stroke-opacity:1\"/>\n",
       "<path d=\"M 318.939,71.2299 311.988,70.8179\" style=\"fill:none;fill-rule:evenodd;stroke:#0000FF;stroke-width:2px;stroke-linecap:butt;stroke-linejoin:miter;stroke-opacity:1\"/>\n",
       "<path d=\"M 323.612,74.7694 318.746,74.4809\" style=\"fill:none;fill-rule:evenodd;stroke:#000000;stroke-width:2px;stroke-linecap:butt;stroke-linejoin:miter;stroke-opacity:1\"/>\n",
       "<path d=\"M 318.746,74.4809 313.88,74.1924\" style=\"fill:none;fill-rule:evenodd;stroke:#0000FF;stroke-width:2px;stroke-linecap:butt;stroke-linejoin:miter;stroke-opacity:1\"/>\n",
       "<path d=\"M 307.846,73.3923 304.26,78.8329\" style=\"fill:none;fill-rule:evenodd;stroke:#0000FF;stroke-width:2px;stroke-linecap:butt;stroke-linejoin:miter;stroke-opacity:1\"/>\n",
       "<path d=\"M 304.26,78.8329 300.674,84.2736\" style=\"fill:none;fill-rule:evenodd;stroke:#000000;stroke-width:2px;stroke-linecap:butt;stroke-linejoin:miter;stroke-opacity:1\"/>\n",
       "<path d=\"M 300.674,84.2736 284.419,83.31\" style=\"fill:none;fill-rule:evenodd;stroke:#000000;stroke-width:2px;stroke-linecap:butt;stroke-linejoin:miter;stroke-opacity:1\"/>\n",
       "<path d=\"M 298.043,87.38 286.664,86.7055\" style=\"fill:none;fill-rule:evenodd;stroke:#000000;stroke-width:2px;stroke-linecap:butt;stroke-linejoin:miter;stroke-opacity:1\"/>\n",
       "<path d=\"M 300.674,84.2736 307.966,98.8324\" style=\"fill:none;fill-rule:evenodd;stroke:#000000;stroke-width:2px;stroke-linecap:butt;stroke-linejoin:miter;stroke-opacity:1\"/>\n",
       "<path d=\"M 284.419,83.31 275.457,96.9052\" style=\"fill:none;fill-rule:evenodd;stroke:#000000;stroke-width:2px;stroke-linecap:butt;stroke-linejoin:miter;stroke-opacity:1\"/>\n",
       "<path d=\"M 275.457,96.9052 268.597,96.4985\" style=\"fill:none;fill-rule:evenodd;stroke:#000000;stroke-width:2px;stroke-linecap:butt;stroke-linejoin:miter;stroke-opacity:1\"/>\n",
       "<path d=\"M 268.597,96.4985 261.737,96.0918\" style=\"fill:none;fill-rule:evenodd;stroke:#FF0000;stroke-width:2px;stroke-linecap:butt;stroke-linejoin:miter;stroke-opacity:1\"/>\n",
       "<path d=\"M 275.457,96.9052 282.75,111.464\" style=\"fill:none;fill-rule:evenodd;stroke:#000000;stroke-width:2px;stroke-linecap:butt;stroke-linejoin:miter;stroke-opacity:1\"/>\n",
       "<path d=\"M 279.463,97.6304 284.568,107.822\" style=\"fill:none;fill-rule:evenodd;stroke:#000000;stroke-width:2px;stroke-linecap:butt;stroke-linejoin:miter;stroke-opacity:1\"/>\n",
       "<path d=\"M 257.843,93.2276 254.876,87.3052\" style=\"fill:none;fill-rule:evenodd;stroke:#FF0000;stroke-width:2px;stroke-linecap:butt;stroke-linejoin:miter;stroke-opacity:1\"/>\n",
       "<path d=\"M 254.876,87.3052 251.909,81.3827\" style=\"fill:none;fill-rule:evenodd;stroke:#000000;stroke-width:2px;stroke-linecap:butt;stroke-linejoin:miter;stroke-opacity:1\"/>\n",
       "<path d=\"M 251.909,81.3827 235.655,80.4191\" style=\"fill:none;fill-rule:evenodd;stroke:#000000;stroke-width:2px;stroke-linecap:butt;stroke-linejoin:miter;stroke-opacity:1\"/>\n",
       "<path d=\"M 235.655,80.4191 232.688,74.4966\" style=\"fill:none;fill-rule:evenodd;stroke:#000000;stroke-width:2px;stroke-linecap:butt;stroke-linejoin:miter;stroke-opacity:1\"/>\n",
       "<path d=\"M 232.688,74.4966 229.721,68.5741\" style=\"fill:none;fill-rule:evenodd;stroke:#FF0000;stroke-width:2px;stroke-linecap:butt;stroke-linejoin:miter;stroke-opacity:1\"/>\n",
       "<path d=\"M 225.827,65.71 218.967,65.3033\" style=\"fill:none;fill-rule:evenodd;stroke:#FF0000;stroke-width:2px;stroke-linecap:butt;stroke-linejoin:miter;stroke-opacity:1\"/>\n",
       "<path d=\"M 218.967,65.3033 212.107,64.8966\" style=\"fill:none;fill-rule:evenodd;stroke:#000000;stroke-width:2px;stroke-linecap:butt;stroke-linejoin:miter;stroke-opacity:1\"/>\n",
       "<path d=\"M 282.75,111.464 279.163,116.905\" style=\"fill:none;fill-rule:evenodd;stroke:#000000;stroke-width:2px;stroke-linecap:butt;stroke-linejoin:miter;stroke-opacity:1\"/>\n",
       "<path d=\"M 279.163,116.905 275.577,122.345\" style=\"fill:none;fill-rule:evenodd;stroke:#FF0000;stroke-width:2px;stroke-linecap:butt;stroke-linejoin:miter;stroke-opacity:1\"/>\n",
       "<path d=\"M 282.75,111.464 299.004,112.428\" style=\"fill:none;fill-rule:evenodd;stroke:#000000;stroke-width:2px;stroke-linecap:butt;stroke-linejoin:miter;stroke-opacity:1\"/>\n",
       "<path d=\"M 271.253,124.909 264.393,124.502\" style=\"fill:none;fill-rule:evenodd;stroke:#FF0000;stroke-width:2px;stroke-linecap:butt;stroke-linejoin:miter;stroke-opacity:1\"/>\n",
       "<path d=\"M 264.393,124.502 257.533,124.096\" style=\"fill:none;fill-rule:evenodd;stroke:#000000;stroke-width:2px;stroke-linecap:butt;stroke-linejoin:miter;stroke-opacity:1\"/>\n",
       "<path d=\"M 257.533,124.096 248.571,137.691\" style=\"fill:none;fill-rule:evenodd;stroke:#000000;stroke-width:2px;stroke-linecap:butt;stroke-linejoin:miter;stroke-opacity:1\"/>\n",
       "<path d=\"M 248.571,137.691 241.711,137.284\" style=\"fill:none;fill-rule:evenodd;stroke:#000000;stroke-width:2px;stroke-linecap:butt;stroke-linejoin:miter;stroke-opacity:1\"/>\n",
       "<path d=\"M 241.711,137.284 234.851,136.877\" style=\"fill:none;fill-rule:evenodd;stroke:#FF0000;stroke-width:2px;stroke-linecap:butt;stroke-linejoin:miter;stroke-opacity:1\"/>\n",
       "<path d=\"M 230.528,139.441 226.941,144.882\" style=\"fill:none;fill-rule:evenodd;stroke:#FF0000;stroke-width:2px;stroke-linecap:butt;stroke-linejoin:miter;stroke-opacity:1\"/>\n",
       "<path d=\"M 226.941,144.882 223.355,150.322\" style=\"fill:none;fill-rule:evenodd;stroke:#000000;stroke-width:2px;stroke-linecap:butt;stroke-linejoin:miter;stroke-opacity:1\"/>\n",
       "<path d=\"M 299.004,112.428 307.966,98.8324\" style=\"fill:none;fill-rule:evenodd;stroke:#000000;stroke-width:2px;stroke-linecap:butt;stroke-linejoin:miter;stroke-opacity:1\"/>\n",
       "<path d=\"M 297.63,108.596 303.903,99.0793\" style=\"fill:none;fill-rule:evenodd;stroke:#000000;stroke-width:2px;stroke-linecap:butt;stroke-linejoin:miter;stroke-opacity:1\"/>\n",
       "<text style=\"font-size:5px;font-style:normal;font-weight:normal;fill-opacity:1;stroke:none;font-family:sans-serif;text-anchor:start;fill:#0000FF\" x=\"326.809\" y=\"117.069\"><tspan>NH</tspan></text>\n",
       "<text style=\"font-size:5px;font-style:normal;font-weight:normal;fill-opacity:1;stroke:none;font-family:sans-serif;text-anchor:start;fill:#0000FF\" x=\"330.831\" y=\"88.9147\"><tspan>N</tspan></text>\n",
       "<text style=\"font-size:5px;font-style:normal;font-weight:normal;fill-opacity:1;stroke:none;font-family:sans-serif;text-anchor:start;fill:#0000FF\" x=\"307.283\" y=\"73.3923\"><tspan>N</tspan></text>\n",
       "<text style=\"font-size:5px;font-style:normal;font-weight:normal;fill-opacity:1;stroke:none;font-family:sans-serif;text-anchor:start;fill:#FF0000\" x=\"256.667\" y=\"98.6554\"><tspan>O</tspan></text>\n",
       "<text style=\"font-size:5px;font-style:normal;font-weight:normal;fill-opacity:1;stroke:none;font-family:sans-serif;text-anchor:start;fill:#FF0000\" x=\"225.827\" y=\"68.5741\"><tspan>O</tspan></text>\n",
       "<text style=\"font-size:5px;font-style:normal;font-weight:normal;fill-opacity:1;stroke:none;font-family:sans-serif;text-anchor:start;fill:#FF0000\" x=\"271.253\" y=\"127.773\"><tspan>O</tspan></text>\n",
       "<text style=\"font-size:5px;font-style:normal;font-weight:normal;fill-opacity:1;stroke:none;font-family:sans-serif;text-anchor:start;fill:#FF0000\" x=\"229.782\" y=\"139.441\"><tspan>O</tspan></text>\n",
       "</svg>"
      ],
      "text/plain": [
       "<IPython.core.display.SVG object>"
      ]
     },
     "execution_count": 6,
     "metadata": {},
     "output_type": "execute_result"
    }
   ],
   "source": [
    "# List of molecules\n",
    "Draw.MolsToGridImage([mol1,mol2], useSVG=True)"
   ]
  },
  {
   "cell_type": "markdown",
   "metadata": {},
   "source": [
    "#### Molecule representation"
   ]
  },
  {
   "cell_type": "code",
   "execution_count": 7,
   "metadata": {
    "scrolled": true
   },
   "outputs": [
    {
     "name": "stdout",
     "output_type": "stream",
     "text": [
      "\n",
      "     RDKit          2D\n",
      "\n",
      " 31 34  0  0  0  0  0  0  0  0999 V2000\n",
      "    0.7500   -6.4952    0.0000 C   0  0  0  0  0  0  0  0  0  0  0  0\n",
      "    1.5000   -5.1962    0.0000 O   0  0  0  0  0  0  0  0  0  0  0  0\n",
      "    0.7500   -3.8971    0.0000 C   0  0  0  0  0  0  0  0  0  0  0  0\n",
      "    1.5000   -2.5981    0.0000 C   0  0  0  0  0  0  0  0  0  0  0  0\n",
      "    0.7500   -1.2990    0.0000 C   0  0  0  0  0  0  0  0  0  0  0  0\n",
      "    1.5000    0.0000    0.0000 N   0  0  0  0  0  0  0  0  0  0  0  0\n",
      "    0.7500    1.2990    0.0000 C   0  0  0  0  0  0  0  0  0  0  0  0\n",
      "   -0.7500    1.2990    0.0000 N   0  0  0  0  0  0  0  0  0  0  0  0\n",
      "   -1.5000    0.0000    0.0000 C   0  0  0  0  0  0  0  0  0  0  0  0\n",
      "   -3.0000    0.0000    0.0000 N   0  0  0  0  0  0  0  0  0  0  0  0\n",
      "   -3.7500    1.2990    0.0000 C   0  0  0  0  0  0  0  0  0  0  0  0\n",
      "   -3.0000    2.5981    0.0000 C   0  0  0  0  0  0  0  0  0  0  0  0\n",
      "   -3.7500    3.8971    0.0000 C   0  0  0  0  0  0  0  0  0  0  0  0\n",
      "   -5.2500    3.8971    0.0000 C   0  0  0  0  0  0  0  0  0  0  0  0\n",
      "   -6.0000    5.1962    0.0000 F   0  0  0  0  0  0  0  0  0  0  0  0\n",
      "   -6.0000    2.5981    0.0000 C   0  0  0  0  0  0  0  0  0  0  0  0\n",
      "   -7.5000    2.5981    0.0000 Cl  0  0  0  0  0  0  0  0  0  0  0  0\n",
      "   -5.2500    1.2990    0.0000 C   0  0  0  0  0  0  0  0  0  0  0  0\n",
      "   -0.7500   -1.2990    0.0000 C   0  0  0  0  0  0  0  0  0  0  0  0\n",
      "   -1.5000   -2.5981    0.0000 C   0  0  0  0  0  0  0  0  0  0  0  0\n",
      "   -0.7500   -3.8971    0.0000 C   0  0  0  0  0  0  0  0  0  0  0  0\n",
      "   -1.5000   -5.1962    0.0000 O   0  0  0  0  0  0  0  0  0  0  0  0\n",
      "   -3.0000   -5.1962    0.0000 C   0  0  0  0  0  0  0  0  0  0  0  0\n",
      "   -3.7500   -6.4952    0.0000 C   0  0  0  0  0  0  0  0  0  0  0  0\n",
      "   -5.2500   -6.4952    0.0000 C   0  0  0  0  0  0  0  0  0  0  0  0\n",
      "   -6.0000   -7.7942    0.0000 N   0  0  0  0  0  0  0  0  0  0  0  0\n",
      "   -7.5000   -7.7942    0.0000 C   0  0  0  0  0  0  0  0  0  0  0  0\n",
      "   -8.2500   -9.0933    0.0000 C   0  0  0  0  0  0  0  0  0  0  0  0\n",
      "   -7.5000  -10.3923    0.0000 O   0  0  0  0  0  0  0  0  0  0  0  0\n",
      "   -6.0000  -10.3923    0.0000 C   0  0  0  0  0  0  0  0  0  0  0  0\n",
      "   -5.2500   -9.0933    0.0000 C   0  0  0  0  0  0  0  0  0  0  0  0\n",
      "  1  2  1  0\n",
      "  2  3  1  0\n",
      "  3  4  2  0\n",
      "  4  5  1  0\n",
      "  5  6  2  0\n",
      "  6  7  1  0\n",
      "  7  8  2  0\n",
      "  8  9  1  0\n",
      "  9 10  1  0\n",
      " 10 11  1  0\n",
      " 11 12  2  0\n",
      " 12 13  1  0\n",
      " 13 14  2  0\n",
      " 14 15  1  0\n",
      " 14 16  1  0\n",
      " 16 17  1  0\n",
      " 16 18  2  0\n",
      "  9 19  2  0\n",
      " 19 20  1  0\n",
      " 20 21  2  0\n",
      " 21 22  1  0\n",
      " 22 23  1  0\n",
      " 23 24  1  0\n",
      " 24 25  1  0\n",
      " 25 26  1  0\n",
      " 26 27  1  0\n",
      " 27 28  1  0\n",
      " 28 29  1  0\n",
      " 29 30  1  0\n",
      " 30 31  1  0\n",
      " 21  3  1  0\n",
      " 31 26  1  0\n",
      " 19  5  1  0\n",
      " 18 11  1  0\n",
      "M  END\n",
      "\n"
     ]
    }
   ],
   "source": [
    "# Molecule representation\n",
    "print(Chem.MolToMolBlock(mol1))"
   ]
  },
  {
   "cell_type": "markdown",
   "metadata": {},
   "source": [
    "### Generating 3D coordinates"
   ]
  },
  {
   "cell_type": "code",
   "execution_count": 8,
   "metadata": {},
   "outputs": [
    {
     "data": {
      "image/png": "[encoded data removed]",
      "text/plain": [
       "<PIL.PngImagePlugin.PngImageFile image mode=RGB size=600x200 at 0x1DF8A934748>"
      ]
     },
     "execution_count": 8,
     "metadata": {},
     "output_type": "execute_result"
    }
   ],
   "source": [
    "m_3D = Chem.AddHs(mol1)\n",
    "AllChem.EmbedMolecule(m_3D)\n",
    "# GL: This next step should not really be necessary now that the default conformations use ETKDG (post v2018.09)\n",
    "AllChem.UFFOptimizeMolecule(m_3D) # Improves the quality of the conformation\n",
    "Draw.MolsToGridImage([mol1,m_3D])"
   ]
  },
  {
   "cell_type": "code",
   "execution_count": 9,
   "metadata": {},
   "outputs": [
    {
     "name": "stdout",
     "output_type": "stream",
     "text": [
      "\n",
      "     RDKit          3D\n",
      "\n",
      " 55 58  0  0  0  0  0  0  0  0999 V2000\n",
      "    0.8773   -4.3144    2.5106 C   0  0  0  0  0  0  0  0  0  0  0  0\n",
      "    0.6031   -2.9876    2.0726 O   0  0  0  0  0  0  0  0  0  0  0  0\n",
      "    1.4001   -2.2664    1.1692 C   0  0  0  0  0  0  0  0  0  0  0  0\n",
      "    2.5681   -2.8110    0.6049 C   0  0  0  0  0  0  0  0  0  0  0  0\n",
      "    3.3377   -2.0634   -0.2901 C   0  0  0  0  0  0  0  0  0  0  0  0\n",
      "    4.4519   -2.6115   -0.8398 N   0  0  0  0  0  0  0  0  0  0  0  0\n",
      "    5.2153   -1.9133   -1.7161 C   0  0  0  0  0  0  0  0  0  0  0  0\n",
      "    4.8778   -0.6429   -2.0511 N   0  0  0  0  0  0  0  0  0  0  0  0\n",
      "    3.7725   -0.0368   -1.5374 C   0  0  0  0  0  0  0  0  0  0  0  0\n",
      "    3.4957    1.3306   -1.8867 N   0  0  0  0  0  0  0  0  0  0  0  0\n",
      "    3.8212    1.9010   -3.1663 C   0  0  0  0  0  0  0  0  0  0  0  0\n",
      "    4.0633    3.2799   -3.2667 C   0  0  0  0  0  0  0  0  0  0  0  0\n",
      "    4.3626    3.8579   -4.5037 C   0  0  0  0  0  0  0  0  0  0  0  0\n",
      "    4.4107    3.0673   -5.6549 C   0  0  0  0  0  0  0  0  0  0  0  0\n",
      "    4.7008    3.6390   -6.8504 F   0  0  0  0  0  0  0  0  0  0  0  0\n",
      "    4.1515    1.6939   -5.5707 C   0  0  0  0  0  0  0  0  0  0  0  0\n",
      "    4.1897    0.6944   -7.0135 Cl  0  0  0  0  0  0  0  0  0  0  0  0\n",
      "    3.8519    1.1136   -4.3326 C   0  0  0  0  0  0  0  0  0  0  0  0\n",
      "    2.9571   -0.7475   -0.6285 C   0  0  0  0  0  0  0  0  0  0  0  0\n",
      "    1.7795   -0.2109   -0.0766 C   0  0  0  0  0  0  0  0  0  0  0  0\n",
      "    1.0030   -0.9657    0.8247 C   0  0  0  0  0  0  0  0  0  0  0  0\n",
      "   -0.1739   -0.4601    1.3991 O   0  0  0  0  0  0  0  0  0  0  0  0\n",
      "   -0.7181    0.8315    1.1356 C   0  0  0  0  0  0  0  0  0  0  0  0\n",
      "   -2.0049    1.0300    1.9371 C   0  0  0  0  0  0  0  0  0  0  0  0\n",
      "   -3.1124    0.0677    1.4837 C   0  0  0  0  0  0  0  0  0  0  0  0\n",
      "   -4.3136    0.2248    2.3320 N   0  0  0  0  0  0  0  0  0  0  0  0\n",
      "   -5.1754    1.3235    1.8543 C   0  0  0  0  0  0  0  0  0  0  0  0\n",
      "   -6.3926    1.4870    2.7903 C   0  0  0  0  0  0  0  0  0  0  0  0\n",
      "   -6.5104    0.4202    3.7155 O   0  0  0  0  0  0  0  0  0  0  0  0\n",
      "   -6.4684   -0.8141    3.0289 C   0  0  0  0  0  0  0  0  0  0  0  0\n",
      "   -5.0890   -1.0325    2.3752 C   0  0  0  0  0  0  0  0  0  0  0  0\n",
      "    0.0859   -4.6326    3.2197 H   0  0  0  0  0  0  0  0  0  0  0  0\n",
      "    1.8571   -4.3496    3.0321 H   0  0  0  0  0  0  0  0  0  0  0  0\n",
      "    0.8793   -5.0096    1.6447 H   0  0  0  0  0  0  0  0  0  0  0  0\n",
      "    2.8846   -3.8159    0.8520 H   0  0  0  0  0  0  0  0  0  0  0  0\n",
      "    6.0989   -2.3672   -2.1431 H   0  0  0  0  0  0  0  0  0  0  0  0\n",
      "    3.1632    1.9760   -1.1354 H   0  0  0  0  0  0  0  0  0  0  0  0\n",
      "    4.0283    3.9055   -2.3836 H   0  0  0  0  0  0  0  0  0  0  0  0\n",
      "    4.5559    4.9210   -4.5690 H   0  0  0  0  0  0  0  0  0  0  0  0\n",
      "    3.6257    0.0562   -4.2876 H   0  0  0  0  0  0  0  0  0  0  0  0\n",
      "    1.4542    0.7801   -0.3535 H   0  0  0  0  0  0  0  0  0  0  0  0\n",
      "   -0.9332    0.9400    0.0500 H   0  0  0  0  0  0  0  0  0  0  0  0\n",
      "    0.0153    1.6098    1.4394 H   0  0  0  0  0  0  0  0  0  0  0  0\n",
      "   -2.3372    2.0805    1.8040 H   0  0  0  0  0  0  0  0  0  0  0  0\n",
      "   -1.7919    0.8694    3.0166 H   0  0  0  0  0  0  0  0  0  0  0  0\n",
      "   -3.3519    0.2363    0.4089 H   0  0  0  0  0  0  0  0  0  0  0  0\n",
      "   -2.7132   -0.9687    1.5719 H   0  0  0  0  0  0  0  0  0  0  0  0\n",
      "   -4.6120    2.2803    1.8309 H   0  0  0  0  0  0  0  0  0  0  0  0\n",
      "   -5.5340    1.1139    0.8202 H   0  0  0  0  0  0  0  0  0  0  0  0\n",
      "   -6.2788    2.4284    3.3689 H   0  0  0  0  0  0  0  0  0  0  0  0\n",
      "   -7.3287    1.5852    2.1961 H   0  0  0  0  0  0  0  0  0  0  0  0\n",
      "   -7.2758   -0.8649    2.2621 H   0  0  0  0  0  0  0  0  0  0  0  0\n",
      "   -6.6656   -1.6310    3.7552 H   0  0  0  0  0  0  0  0  0  0  0  0\n",
      "   -4.5241   -1.7822    2.9719 H   0  0  0  0  0  0  0  0  0  0  0  0\n",
      "   -5.2336   -1.4453    1.3501 H   0  0  0  0  0  0  0  0  0  0  0  0\n",
      "  1  2  1  0\n",
      "  2  3  1  0\n",
      "  3  4  2  0\n",
      "  4  5  1  0\n",
      "  5  6  2  0\n",
      "  6  7  1  0\n",
      "  7  8  2  0\n",
      "  8  9  1  0\n",
      "  9 10  1  0\n",
      " 10 11  1  0\n",
      " 11 12  2  0\n",
      " 12 13  1  0\n",
      " 13 14  2  0\n",
      " 14 15  1  0\n",
      " 14 16  1  0\n",
      " 16 17  1  0\n",
      " 16 18  2  0\n",
      "  9 19  2  0\n",
      " 19 20  1  0\n",
      " 20 21  2  0\n",
      " 21 22  1  0\n",
      " 22 23  1  0\n",
      " 23 24  1  0\n",
      " 24 25  1  0\n",
      " 25 26  1  0\n",
      " 26 27  1  0\n",
      " 27 28  1  0\n",
      " 28 29  1  0\n",
      " 29 30  1  0\n",
      " 30 31  1  0\n",
      " 21  3  1  0\n",
      " 31 26  1  0\n",
      " 19  5  1  0\n",
      " 18 11  1  0\n",
      "  1 32  1  0\n",
      "  1 33  1  0\n",
      "  1 34  1  0\n",
      "  4 35  1  0\n",
      "  7 36  1  0\n",
      " 10 37  1  0\n",
      " 12 38  1  0\n",
      " 13 39  1  0\n",
      " 18 40  1  0\n",
      " 20 41  1  0\n",
      " 23 42  1  0\n",
      " 23 43  1  0\n",
      " 24 44  1  0\n",
      " 24 45  1  0\n",
      " 25 46  1  0\n",
      " 25 47  1  0\n",
      " 27 48  1  0\n",
      " 27 49  1  0\n",
      " 28 50  1  0\n",
      " 28 51  1  0\n",
      " 30 52  1  0\n",
      " 30 53  1  0\n",
      " 31 54  1  0\n",
      " 31 55  1  0\n",
      "M  END\n",
      "\n"
     ]
    }
   ],
   "source": [
    "print(Chem.MolToMolBlock(m_3D))"
   ]
  },
  {
   "cell_type": "markdown",
   "metadata": {},
   "source": [
    "### Writing molecules to *sdf* (structure data files)"
   ]
  },
  {
   "cell_type": "code",
   "execution_count": 10,
   "metadata": {},
   "outputs": [],
   "source": [
    "w = Chem.SDWriter('./data/mytest_mol3D.sdf')\n",
    "w.write(m_3D)\n",
    "w.close()"
   ]
  },
  {
   "cell_type": "markdown",
   "metadata": {
    "collapsed": true
   },
   "source": [
    "### Descriptors\n",
    "\n",
    "#### Molecular descriptors (global)"
   ]
  },
  {
   "cell_type": "code",
   "execution_count": 11,
   "metadata": {},
   "outputs": [],
   "source": [
    "from rdkit.Chem import Descriptors"
   ]
  },
  {
   "cell_type": "code",
   "execution_count": 12,
   "metadata": {},
   "outputs": [
    {
     "name": "stdout",
     "output_type": "stream",
     "text": [
      "Heavy atoms: 31\n",
      "H-bond donors: 1\n",
      "H-bond acceptors: 7\n",
      "Molecular weight: 446.9100000000004\n",
      "LogP: 4.275600000000003\n"
     ]
    }
   ],
   "source": [
    "print ('Heavy atoms:', Descriptors.HeavyAtomCount(mol1))\n",
    "print ('H-bond donors:', Descriptors.NumHDonors(mol1))\n",
    "print ('H-bond acceptors:', Descriptors.NumHAcceptors(mol1))\n",
    "print ('Molecular weight:', Descriptors.MolWt(mol1))\n",
    "print ('LogP:', Descriptors.MolLogP(mol1))"
   ]
  },
  {
   "cell_type": "code",
   "execution_count": 13,
   "metadata": {},
   "outputs": [
    {
     "name": "stdout",
     "output_type": "stream",
     "text": [
      "Heavy atoms: 29\n",
      "H-bond donors: 1\n",
      "H-bond acceptors: 7\n",
      "Molecular weight: 393.4430000000002\n",
      "LogP: 3.405100000000002\n"
     ]
    }
   ],
   "source": [
    "print ('Heavy atoms:', Descriptors.HeavyAtomCount(mol2))\n",
    "print ('H-bond donors:', Descriptors.NumHDonors(mol2))\n",
    "print ('H-bond acceptors:', Descriptors.NumHAcceptors(mol2))\n",
    "print ('Molecular weight:', Descriptors.MolWt(mol2))\n",
    "print ('LogP:', Descriptors.MolLogP(mol2))"
   ]
  },
  {
   "cell_type": "markdown",
   "metadata": {},
   "source": [
    "#### Better for similarity search: Molecular fingerprints\n",
    "\n",
    "GL: I don't see any utility in introducing MACCS keys to beginners. These days I think they are primarily of historic interest and it would be better to use something the Morgan FP or RDKit FP here. Or, if you want something simple, atom pairs/topological torsions. If you're going to use them, you might as well pull the SMARTS from the RDKit directly instead of retyping them in. I've changed that.\n",
    "\n",
    "#### MACCS keys\n",
    "\n",
    "* There is a SMARTS-based implementation of the 166 public MACCS keys (certain substructure/SMARTS keys which are expected to be found)\n",
    "* The MACCS keys are a set of questions about a chemical structure\n",
    "* Based on counting substructural features"
   ]
  },
  {
   "cell_type": "code",
   "execution_count": 22,
   "metadata": {},
   "outputs": [
    {
     "name": "stdout",
     "output_type": "stream",
     "text": [
      "['[#8]~*~[CH2]~*', '*@*!@[#7]', '[#7]!:*:*']\n"
     ]
    },
    {
     "data": {
      "image/png": "[encoded data removed]",
      "text/plain": [
       "<PIL.PngImagePlugin.PngImageFile image mode=RGB size=600x200 at 0x1DF8AA80E10>"
      ]
     },
     "execution_count": 22,
     "metadata": {},
     "output_type": "execute_result"
    }
   ],
   "source": [
    "# Example MACCS keys\n",
    "from rdkit.Chem import MACCSkeys\n",
    "\n",
    "smarts = [MACCSkeys.smartsPatts[x][0] for x in (132, 133, 135)]\n",
    "print(smarts)\n",
    "\n",
    "mols = [Chem.MolFromSmarts(x) for x in smarts]\n",
    "\n",
    "# A detail: get the molecules ready to be drawn:\n",
    "for m in mols: \n",
    "    m.UpdatePropertyCache()\n",
    "    \n",
    "Draw.MolsToGridImage(mols)"
   ]
  },
  {
   "cell_type": "code",
   "execution_count": 23,
   "metadata": {},
   "outputs": [],
   "source": [
    "# Calculation of MACCS fingerprint\n",
    "\n",
    "fp1 = MACCSkeys.GenMACCSKeys(mol1)\n",
    "fp2 = MACCSkeys.GenMACCSKeys(mol2)"
   ]
  },
  {
   "cell_type": "code",
   "execution_count": 24,
   "metadata": {},
   "outputs": [
    {
     "data": {
      "text/plain": [
       "'00000000000000000000000000000000000000100010000000000000010000000100000010010100100001110000010101101101010101010100001011100111110011110110001111111011110111111111110'"
      ]
     },
     "execution_count": 24,
     "metadata": {},
     "output_type": "execute_result"
    }
   ],
   "source": [
    "fp1.ToBitString()"
   ]
  },
  {
   "cell_type": "code",
   "execution_count": 25,
   "metadata": {},
   "outputs": [
    {
     "data": {
      "text/plain": [
       "'00000000000000000100000000000000000000100000000000000000000000000100000010000100100000100000010001100100010001000101101011000111000011010110101111110111110111111111110'"
      ]
     },
     "execution_count": 25,
     "metadata": {},
     "output_type": "execute_result"
    }
   ],
   "source": [
    "fp2.ToBitString()"
   ]
  },
  {
   "cell_type": "markdown",
   "metadata": {},
   "source": [
    "### Molecular similarity"
   ]
  },
  {
   "cell_type": "code",
   "execution_count": 26,
   "metadata": {},
   "outputs": [],
   "source": [
    "from rdkit import DataStructs"
   ]
  },
  {
   "cell_type": "code",
   "execution_count": 31,
   "metadata": {},
   "outputs": [
    {
     "name": "stdout",
     "output_type": "stream",
     "text": [
      "fp1: 60 fp2: 50 num in common: 45\n",
      "0.6923076923076923\n",
      "Tanimoto: 0.6923076923076923\n"
     ]
    }
   ],
   "source": [
    "# Tanimoto\n",
    "commonBits = fp1&fp2\n",
    "print('fp1:',fp1.GetNumOnBits(),'fp2:',fp2.GetNumOnBits(),'num in common:',commonBits.GetNumOnBits())\n",
    "print(commonBits.GetNumOnBits()/(fp1.GetNumOnBits()+fp2.GetNumOnBits()-commonBits.GetNumOnBits()))\n",
    "print('Tanimoto:', DataStructs.TanimotoSimilarity(fp1,fp2))"
   ]
  }
 ],
 "metadata": {
  "anaconda-cloud": {},
  "kernelspec": {
   "display_name": "Python 3",
   "language": "python",
   "name": "python3"
  },
  "language_info": {
   "codemirror_mode": {
    "name": "ipython",
    "version": 3
   },
   "file_extension": ".py",
   "mimetype": "text/x-python",
   "name": "python",
   "nbconvert_exporter": "python",
   "pygments_lexer": "ipython3",
   "version": "3.6.5"
  }
 },
 "nbformat": 4,
 "nbformat_minor": 1
}
